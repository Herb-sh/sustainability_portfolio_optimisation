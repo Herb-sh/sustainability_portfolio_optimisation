{
 "cells": [
  {
   "cell_type": "code",
   "id": "initial_id",
   "metadata": {
    "collapsed": true,
    "ExecuteTime": {
     "end_time": "2024-09-09T23:30:26.228397Z",
     "start_time": "2024-09-09T23:30:25.823671Z"
    }
   },
   "source": [
    "import pandas as pd\n",
    "import numpy as np\n",
    "import importlib\n",
    "import utilities.utility as utility\n",
    "from pypfopt import EfficientFrontier, risk_models, expected_returns\n",
    "\n",
    "import utilities.variables as variables\n",
    "import utilities.api_ticker_service as data_ticker_service\n",
    "importlib.reload(data_ticker_service)\n",
    "importlib.reload(variables)"
   ],
   "outputs": [
    {
     "data": {
      "text/plain": [
       "<module 'utilities.variables' from '/Users/herbishtini/Documents/UNI/Master Thesis/sustainability_portfolio_optimisation/utilities/variables.py'>"
      ]
     },
     "execution_count": 1,
     "metadata": {},
     "output_type": "execute_result"
    }
   ],
   "execution_count": 1
  },
  {
   "cell_type": "markdown",
   "source": [
    "### Average historical return"
   ],
   "metadata": {
    "collapsed": false
   },
   "id": "8012ec464673c405"
  },
  {
   "cell_type": "code",
   "source": [
    "df_monthly_adj_close = pd.read_csv('../data/10_monthly_adjacent_close.csv', index_col=0)"
   ],
   "metadata": {
    "collapsed": false,
    "ExecuteTime": {
     "end_time": "2024-09-09T23:30:26.332408Z",
     "start_time": "2024-09-09T23:30:26.297428Z"
    }
   },
   "id": "10fd4355fb4694ca",
   "outputs": [],
   "execution_count": 2
  },
  {
   "cell_type": "markdown",
   "source": [
    "#### Converting 'Adj Close' Values to Percentage Change\n",
    "The \"Adj Close\" will be transformed to represent the percentage change from the previous day's close. The percentage change will be calculated as 1 + percentage change, which indicates the relative change in the adjusted close values day-over-day."
   ],
   "metadata": {
    "collapsed": false
   },
   "id": "a2cd8b6473e6252d"
  },
  {
   "cell_type": "code",
   "source": [
    "df_monthly_return = df_monthly_adj_close.copy(deep=True)\n",
    "for column in df_monthly_return:\n",
    "    if column != 'Date':\n",
    "        df_monthly_return[column] = 1 + df_monthly_adj_close[column].pct_change().round(2)\n",
    "        df_monthly_return[column].dropna()"
   ],
   "metadata": {
    "collapsed": false,
    "ExecuteTime": {
     "end_time": "2024-09-09T23:30:26.626316Z",
     "start_time": "2024-09-09T23:30:26.375465Z"
    }
   },
   "id": "d96413baa0530c27",
   "outputs": [],
   "execution_count": 3
  },
  {
   "cell_type": "code",
   "source": [
    "df_monthly_return.to_csv('../data/10_monthly_returns_complete.csv')"
   ],
   "metadata": {
    "collapsed": false,
    "ExecuteTime": {
     "end_time": "2024-09-09T23:30:26.778002Z",
     "start_time": "2024-09-09T23:30:26.639415Z"
    }
   },
   "id": "983e9c8668b44aa0",
   "outputs": [],
   "execution_count": 4
  },
  {
   "cell_type": "markdown",
   "source": [
    "### Return rate"
   ],
   "metadata": {
    "collapsed": false
   },
   "id": "5c274b68696158ea"
  },
  {
   "cell_type": "code",
   "source": [
    "df_monthly_return = pd.read_csv('../data/10_monthly_returns_complete.csv', index_col=0)\n",
    "df_overview = pd.read_csv('../data/data_5_scaled.csv', index_col=0)"
   ],
   "metadata": {
    "collapsed": false,
    "ExecuteTime": {
     "end_time": "2024-09-09T23:30:26.818581Z",
     "start_time": "2024-09-09T23:30:26.790382Z"
    }
   },
   "id": "2bfef909608005cd",
   "outputs": [],
   "execution_count": 5
  },
  {
   "cell_type": "markdown",
   "source": [],
   "metadata": {
    "collapsed": false
   },
   "id": "f3a01fc75fbf2d"
  },
  {
   "cell_type": "code",
   "source": [
    "df_monthly_adj_close.head()"
   ],
   "metadata": {
    "collapsed": false,
    "ExecuteTime": {
     "end_time": "2024-09-09T23:30:26.841852Z",
     "start_time": "2024-09-09T23:30:26.833556Z"
    }
   },
   "id": "c2b951b9748afd4a",
   "outputs": [
    {
     "data": {
      "text/plain": [
       "            KE       SCS        HNI        AVT  ACCO  KEYS  CBRE       BRC  \\\n",
       "Date                                                                         \n",
       "1999-08-01 NaN  6.013282  11.762950  17.141674   NaN   NaN   NaN  8.704611   \n",
       "1999-09-01 NaN  5.658068   9.648345  16.270067   NaN   NaN   NaN  9.284917   \n",
       "1999-10-01 NaN  5.165832   9.836304  21.209169   NaN   NaN   NaN  8.414455   \n",
       "1999-11-01 NaN  5.319273  10.838723  21.354946   NaN   NaN   NaN  8.951837   \n",
       "1999-12-01 NaN  4.910099  11.044152  23.517157   NaN   NaN   NaN  9.899887   \n",
       "\n",
       "            PGRE        BHE  ...  ENPH  RUN        SUP      MATX  KIDS  HALO  \\\n",
       "Date                         ...                                               \n",
       "1999-08-01   NaN  13.926089  ...   NaN  NaN  15.431546  6.066541   NaN   NaN   \n",
       "1999-09-01   NaN  13.358641  ...   NaN  NaN  15.431546  6.040688   NaN   NaN   \n",
       "1999-10-01   NaN   6.052765  ...   NaN  NaN  14.708194  6.072314   NaN   NaN   \n",
       "1999-11-01   NaN   8.417130  ...   NaN  NaN  14.823595  5.756048   NaN   NaN   \n",
       "1999-12-01   NaN   8.677205  ...   NaN  NaN  14.823595  5.827809   NaN   NaN   \n",
       "\n",
       "                 MATW     KVHI  NEO       UNP  \n",
       "Date                                           \n",
       "1999-08-01   9.999043  2.43750  NaN  7.509912  \n",
       "1999-09-01  11.104928  2.37500  NaN  7.413507  \n",
       "1999-10-01   9.261786  3.06250  NaN  8.634527  \n",
       "1999-11-01   8.586853  3.03125  NaN  7.289008  \n",
       "1999-12-01  10.156491  3.06250  NaN  6.766294  \n",
       "\n",
       "[5 rows x 957 columns]"
      ],
      "text/html": [
       "<div>\n",
       "<style scoped>\n",
       "    .dataframe tbody tr th:only-of-type {\n",
       "        vertical-align: middle;\n",
       "    }\n",
       "\n",
       "    .dataframe tbody tr th {\n",
       "        vertical-align: top;\n",
       "    }\n",
       "\n",
       "    .dataframe thead th {\n",
       "        text-align: right;\n",
       "    }\n",
       "</style>\n",
       "<table border=\"1\" class=\"dataframe\">\n",
       "  <thead>\n",
       "    <tr style=\"text-align: right;\">\n",
       "      <th></th>\n",
       "      <th>KE</th>\n",
       "      <th>SCS</th>\n",
       "      <th>HNI</th>\n",
       "      <th>AVT</th>\n",
       "      <th>ACCO</th>\n",
       "      <th>KEYS</th>\n",
       "      <th>CBRE</th>\n",
       "      <th>BRC</th>\n",
       "      <th>PGRE</th>\n",
       "      <th>BHE</th>\n",
       "      <th>...</th>\n",
       "      <th>ENPH</th>\n",
       "      <th>RUN</th>\n",
       "      <th>SUP</th>\n",
       "      <th>MATX</th>\n",
       "      <th>KIDS</th>\n",
       "      <th>HALO</th>\n",
       "      <th>MATW</th>\n",
       "      <th>KVHI</th>\n",
       "      <th>NEO</th>\n",
       "      <th>UNP</th>\n",
       "    </tr>\n",
       "    <tr>\n",
       "      <th>Date</th>\n",
       "      <th></th>\n",
       "      <th></th>\n",
       "      <th></th>\n",
       "      <th></th>\n",
       "      <th></th>\n",
       "      <th></th>\n",
       "      <th></th>\n",
       "      <th></th>\n",
       "      <th></th>\n",
       "      <th></th>\n",
       "      <th></th>\n",
       "      <th></th>\n",
       "      <th></th>\n",
       "      <th></th>\n",
       "      <th></th>\n",
       "      <th></th>\n",
       "      <th></th>\n",
       "      <th></th>\n",
       "      <th></th>\n",
       "      <th></th>\n",
       "      <th></th>\n",
       "    </tr>\n",
       "  </thead>\n",
       "  <tbody>\n",
       "    <tr>\n",
       "      <th>1999-08-01</th>\n",
       "      <td>NaN</td>\n",
       "      <td>6.013282</td>\n",
       "      <td>11.762950</td>\n",
       "      <td>17.141674</td>\n",
       "      <td>NaN</td>\n",
       "      <td>NaN</td>\n",
       "      <td>NaN</td>\n",
       "      <td>8.704611</td>\n",
       "      <td>NaN</td>\n",
       "      <td>13.926089</td>\n",
       "      <td>...</td>\n",
       "      <td>NaN</td>\n",
       "      <td>NaN</td>\n",
       "      <td>15.431546</td>\n",
       "      <td>6.066541</td>\n",
       "      <td>NaN</td>\n",
       "      <td>NaN</td>\n",
       "      <td>9.999043</td>\n",
       "      <td>2.43750</td>\n",
       "      <td>NaN</td>\n",
       "      <td>7.509912</td>\n",
       "    </tr>\n",
       "    <tr>\n",
       "      <th>1999-09-01</th>\n",
       "      <td>NaN</td>\n",
       "      <td>5.658068</td>\n",
       "      <td>9.648345</td>\n",
       "      <td>16.270067</td>\n",
       "      <td>NaN</td>\n",
       "      <td>NaN</td>\n",
       "      <td>NaN</td>\n",
       "      <td>9.284917</td>\n",
       "      <td>NaN</td>\n",
       "      <td>13.358641</td>\n",
       "      <td>...</td>\n",
       "      <td>NaN</td>\n",
       "      <td>NaN</td>\n",
       "      <td>15.431546</td>\n",
       "      <td>6.040688</td>\n",
       "      <td>NaN</td>\n",
       "      <td>NaN</td>\n",
       "      <td>11.104928</td>\n",
       "      <td>2.37500</td>\n",
       "      <td>NaN</td>\n",
       "      <td>7.413507</td>\n",
       "    </tr>\n",
       "    <tr>\n",
       "      <th>1999-10-01</th>\n",
       "      <td>NaN</td>\n",
       "      <td>5.165832</td>\n",
       "      <td>9.836304</td>\n",
       "      <td>21.209169</td>\n",
       "      <td>NaN</td>\n",
       "      <td>NaN</td>\n",
       "      <td>NaN</td>\n",
       "      <td>8.414455</td>\n",
       "      <td>NaN</td>\n",
       "      <td>6.052765</td>\n",
       "      <td>...</td>\n",
       "      <td>NaN</td>\n",
       "      <td>NaN</td>\n",
       "      <td>14.708194</td>\n",
       "      <td>6.072314</td>\n",
       "      <td>NaN</td>\n",
       "      <td>NaN</td>\n",
       "      <td>9.261786</td>\n",
       "      <td>3.06250</td>\n",
       "      <td>NaN</td>\n",
       "      <td>8.634527</td>\n",
       "    </tr>\n",
       "    <tr>\n",
       "      <th>1999-11-01</th>\n",
       "      <td>NaN</td>\n",
       "      <td>5.319273</td>\n",
       "      <td>10.838723</td>\n",
       "      <td>21.354946</td>\n",
       "      <td>NaN</td>\n",
       "      <td>NaN</td>\n",
       "      <td>NaN</td>\n",
       "      <td>8.951837</td>\n",
       "      <td>NaN</td>\n",
       "      <td>8.417130</td>\n",
       "      <td>...</td>\n",
       "      <td>NaN</td>\n",
       "      <td>NaN</td>\n",
       "      <td>14.823595</td>\n",
       "      <td>5.756048</td>\n",
       "      <td>NaN</td>\n",
       "      <td>NaN</td>\n",
       "      <td>8.586853</td>\n",
       "      <td>3.03125</td>\n",
       "      <td>NaN</td>\n",
       "      <td>7.289008</td>\n",
       "    </tr>\n",
       "    <tr>\n",
       "      <th>1999-12-01</th>\n",
       "      <td>NaN</td>\n",
       "      <td>4.910099</td>\n",
       "      <td>11.044152</td>\n",
       "      <td>23.517157</td>\n",
       "      <td>NaN</td>\n",
       "      <td>NaN</td>\n",
       "      <td>NaN</td>\n",
       "      <td>9.899887</td>\n",
       "      <td>NaN</td>\n",
       "      <td>8.677205</td>\n",
       "      <td>...</td>\n",
       "      <td>NaN</td>\n",
       "      <td>NaN</td>\n",
       "      <td>14.823595</td>\n",
       "      <td>5.827809</td>\n",
       "      <td>NaN</td>\n",
       "      <td>NaN</td>\n",
       "      <td>10.156491</td>\n",
       "      <td>3.06250</td>\n",
       "      <td>NaN</td>\n",
       "      <td>6.766294</td>\n",
       "    </tr>\n",
       "  </tbody>\n",
       "</table>\n",
       "<p>5 rows × 957 columns</p>\n",
       "</div>"
      ]
     },
     "execution_count": 6,
     "metadata": {},
     "output_type": "execute_result"
    }
   ],
   "execution_count": 6
  },
  {
   "cell_type": "code",
   "source": [
    "# move Date index to a new column\n",
    "df_monthly_adj_close = df_monthly_adj_close.reset_index(level=0)\n",
    "df_monthly_return = df_monthly_return.reset_index(level=0)\n",
    "\n",
    "# Creates a new column for each year group (1, 5, 10, 25 year returns)\n",
    "utility.set_yearly_return_rates_by_years(df_overview, df_monthly_return);"
   ],
   "metadata": {
    "collapsed": false,
    "ExecuteTime": {
     "end_time": "2024-09-09T23:30:28.602168Z",
     "start_time": "2024-09-09T23:30:26.944137Z"
    }
   },
   "id": "e3d89de690096783",
   "outputs": [],
   "execution_count": 7
  },
  {
   "cell_type": "markdown",
   "source": [
    "### Volatility\n",
    "To calculate the volatility of a stock's monthly returns, there are several steps that should be applied to the historical price data.\n",
    "* Calculate Monthly Returns\n",
    "* Calculate the Average Monthly Return\n",
    "* Calculate the Monthly Return Deviations\n",
    "* Square the Deviations\n",
    "* Calculate the Variance\n",
    "* Calculate the Standard Deviation"
   ],
   "metadata": {
    "collapsed": false
   },
   "id": "7dacd7cb10d212a4"
  },
  {
   "cell_type": "code",
   "source": "utility.set_volatility_by_years(df_overview, df_monthly_adj_close)",
   "metadata": {
    "collapsed": false,
    "ExecuteTime": {
     "end_time": "2024-09-09T23:30:30.929567Z",
     "start_time": "2024-09-09T23:30:28.747563Z"
    }
   },
   "id": "fcc2feef6dbd5b76",
   "outputs": [],
   "execution_count": 8
  },
  {
   "metadata": {
    "ExecuteTime": {
     "end_time": "2024-09-09T23:30:30.944962Z",
     "start_time": "2024-09-09T23:30:30.936452Z"
    }
   },
   "cell_type": "code",
   "source": "df_overview[['stock_ticker_symbol', 'return_rate_5y_avg', 'return_rate_10y_avg', 'return_rate_25y_avg', 'volatility_10y']].sort_values(by=['return_rate_10y_avg', 'volatility_10y'])",
   "id": "c129402ebdf91f3a",
   "outputs": [
    {
     "data": {
      "text/plain": [
       "     stock_ticker_symbol  return_rate_5y_avg  return_rate_10y_avg  \\\n",
       "442                 FOSL            0.625339             0.647001   \n",
       "1453                GPRO            0.787331             0.663986   \n",
       "1235                 AMC            0.547253             0.702343   \n",
       "1594                 BIG            0.547151             0.706566   \n",
       "897                   WW            0.494756             0.727525   \n",
       "...                  ...                 ...                  ...   \n",
       "1651              9260.T                 NaN                  NaN   \n",
       "1652              DEQ.DE                 NaN                  NaN   \n",
       "1656              9842.T                 NaN                  NaN   \n",
       "1658              MOON.L                 NaN                  NaN   \n",
       "1660              6055.T                 NaN                  NaN   \n",
       "\n",
       "      return_rate_25y_avg  volatility_10y  \n",
       "442              0.913120        0.239848  \n",
       "1453             0.871982        0.164852  \n",
       "1235             0.871146        0.568230  \n",
       "1594             0.893492        0.193526  \n",
       "897              0.877270        0.281869  \n",
       "...                   ...             ...  \n",
       "1651                  NaN             NaN  \n",
       "1652                  NaN             NaN  \n",
       "1656                  NaN             NaN  \n",
       "1658                  NaN             NaN  \n",
       "1660                  NaN             NaN  \n",
       "\n",
       "[1662 rows x 5 columns]"
      ],
      "text/html": [
       "<div>\n",
       "<style scoped>\n",
       "    .dataframe tbody tr th:only-of-type {\n",
       "        vertical-align: middle;\n",
       "    }\n",
       "\n",
       "    .dataframe tbody tr th {\n",
       "        vertical-align: top;\n",
       "    }\n",
       "\n",
       "    .dataframe thead th {\n",
       "        text-align: right;\n",
       "    }\n",
       "</style>\n",
       "<table border=\"1\" class=\"dataframe\">\n",
       "  <thead>\n",
       "    <tr style=\"text-align: right;\">\n",
       "      <th></th>\n",
       "      <th>stock_ticker_symbol</th>\n",
       "      <th>return_rate_5y_avg</th>\n",
       "      <th>return_rate_10y_avg</th>\n",
       "      <th>return_rate_25y_avg</th>\n",
       "      <th>volatility_10y</th>\n",
       "    </tr>\n",
       "  </thead>\n",
       "  <tbody>\n",
       "    <tr>\n",
       "      <th>442</th>\n",
       "      <td>FOSL</td>\n",
       "      <td>0.625339</td>\n",
       "      <td>0.647001</td>\n",
       "      <td>0.913120</td>\n",
       "      <td>0.239848</td>\n",
       "    </tr>\n",
       "    <tr>\n",
       "      <th>1453</th>\n",
       "      <td>GPRO</td>\n",
       "      <td>0.787331</td>\n",
       "      <td>0.663986</td>\n",
       "      <td>0.871982</td>\n",
       "      <td>0.164852</td>\n",
       "    </tr>\n",
       "    <tr>\n",
       "      <th>1235</th>\n",
       "      <td>AMC</td>\n",
       "      <td>0.547253</td>\n",
       "      <td>0.702343</td>\n",
       "      <td>0.871146</td>\n",
       "      <td>0.568230</td>\n",
       "    </tr>\n",
       "    <tr>\n",
       "      <th>1594</th>\n",
       "      <td>BIG</td>\n",
       "      <td>0.547151</td>\n",
       "      <td>0.706566</td>\n",
       "      <td>0.893492</td>\n",
       "      <td>0.193526</td>\n",
       "    </tr>\n",
       "    <tr>\n",
       "      <th>897</th>\n",
       "      <td>WW</td>\n",
       "      <td>0.494756</td>\n",
       "      <td>0.727525</td>\n",
       "      <td>0.877270</td>\n",
       "      <td>0.281869</td>\n",
       "    </tr>\n",
       "    <tr>\n",
       "      <th>...</th>\n",
       "      <td>...</td>\n",
       "      <td>...</td>\n",
       "      <td>...</td>\n",
       "      <td>...</td>\n",
       "      <td>...</td>\n",
       "    </tr>\n",
       "    <tr>\n",
       "      <th>1651</th>\n",
       "      <td>9260.T</td>\n",
       "      <td>NaN</td>\n",
       "      <td>NaN</td>\n",
       "      <td>NaN</td>\n",
       "      <td>NaN</td>\n",
       "    </tr>\n",
       "    <tr>\n",
       "      <th>1652</th>\n",
       "      <td>DEQ.DE</td>\n",
       "      <td>NaN</td>\n",
       "      <td>NaN</td>\n",
       "      <td>NaN</td>\n",
       "      <td>NaN</td>\n",
       "    </tr>\n",
       "    <tr>\n",
       "      <th>1656</th>\n",
       "      <td>9842.T</td>\n",
       "      <td>NaN</td>\n",
       "      <td>NaN</td>\n",
       "      <td>NaN</td>\n",
       "      <td>NaN</td>\n",
       "    </tr>\n",
       "    <tr>\n",
       "      <th>1658</th>\n",
       "      <td>MOON.L</td>\n",
       "      <td>NaN</td>\n",
       "      <td>NaN</td>\n",
       "      <td>NaN</td>\n",
       "      <td>NaN</td>\n",
       "    </tr>\n",
       "    <tr>\n",
       "      <th>1660</th>\n",
       "      <td>6055.T</td>\n",
       "      <td>NaN</td>\n",
       "      <td>NaN</td>\n",
       "      <td>NaN</td>\n",
       "      <td>NaN</td>\n",
       "    </tr>\n",
       "  </tbody>\n",
       "</table>\n",
       "<p>1662 rows × 5 columns</p>\n",
       "</div>"
      ]
     },
     "execution_count": 9,
     "metadata": {},
     "output_type": "execute_result"
    }
   ],
   "execution_count": 9
  },
  {
   "metadata": {},
   "cell_type": "markdown",
   "source": "### Handling Categories",
   "id": "59d78aa622315da1"
  },
  {
   "metadata": {},
   "cell_type": "markdown",
   "source": "### Store changes",
   "id": "7d00c0dd1c69dce8"
  },
  {
   "cell_type": "code",
   "source": [
    "df_overview.to_csv('../data/data_10_overview.csv')\n",
    "df_monthly_return.to_csv('../data/data_10_monthly_returns_complete.csv')"
   ],
   "metadata": {
    "collapsed": false,
    "ExecuteTime": {
     "end_time": "2024-09-09T23:30:31.080621Z",
     "start_time": "2024-09-09T23:30:30.980428Z"
    }
   },
   "id": "a544b601e514ff05",
   "outputs": [],
   "execution_count": 10
  }
 ],
 "metadata": {
  "kernelspec": {
   "display_name": "Python 3",
   "language": "python",
   "name": "python3"
  },
  "language_info": {
   "codemirror_mode": {
    "name": "ipython",
    "version": 2
   },
   "file_extension": ".py",
   "mimetype": "text/x-python",
   "name": "python",
   "nbconvert_exporter": "python",
   "pygments_lexer": "ipython2",
   "version": "2.7.6"
  }
 },
 "nbformat": 4,
 "nbformat_minor": 5
}
