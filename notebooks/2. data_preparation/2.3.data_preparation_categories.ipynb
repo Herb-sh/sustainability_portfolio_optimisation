{
 "cells": [
  {
   "cell_type": "code",
   "id": "initial_id",
   "metadata": {
    "collapsed": true
   },
   "source": [
    "import pandas as pd\n",
    "from sklearn.preprocessing import LabelEncoder"
   ],
   "outputs": [],
   "execution_count": null
  },
  {
   "metadata": {},
   "cell_type": "markdown",
   "source": "##  Handling categories",
   "id": "d2407ecb445dbe37"
  },
  {
   "metadata": {},
   "cell_type": "code",
   "source": [
    "df_overview = pd.read_csv('../../data/df_overview.csv', index_col=0)\n",
    "df_overview"
   ],
   "id": "e5d295312ada8ae1",
   "outputs": [],
   "execution_count": null
  },
  {
   "metadata": {},
   "cell_type": "markdown",
   "source": "### Industry",
   "id": "e47bad6f1613ad1b"
  },
  {
   "metadata": {},
   "cell_type": "code",
   "source": "df_overview.groupby(['industry']).size().reset_index(name='Count')",
   "id": "b89c9634701164b6",
   "outputs": [],
   "execution_count": null
  },
  {
   "metadata": {},
   "cell_type": "code",
   "source": "df_overview",
   "id": "e02c325152c1894a",
   "outputs": [],
   "execution_count": null
  },
  {
   "metadata": {},
   "cell_type": "code",
   "source": [
    "one_hot_industry_condition = pd.get_dummies(df_overview['industry'], prefix='industry', dtype='int')\n",
    "\n",
    "df_overview = df_overview.join(one_hot_industry_condition)"
   ],
   "id": "fa3a2c11ad8b94c",
   "outputs": [],
   "execution_count": null
  },
  {
   "metadata": {},
   "cell_type": "markdown",
   "source": "### Stock exchange",
   "id": "ae3e8d2b2c487d3a"
  },
  {
   "metadata": {},
   "cell_type": "code",
   "source": [
    "one_hot_stock_exchange_condition = pd.get_dummies(df_overview['stock_exchange'], prefix='stock_exchange', dtype='int')\n",
    "\n",
    "df_overview = df_overview.join(one_hot_stock_exchange_condition)\n",
    "\n"
   ],
   "id": "c3910d0516a39887",
   "outputs": [],
   "execution_count": null
  },
  {
   "metadata": {},
   "cell_type": "markdown",
   "source": "### Ticker symbol",
   "id": "3b29d5f6ac22ab1f"
  },
  {
   "metadata": {},
   "cell_type": "code",
   "source": [
    "# Initialize and fit LabelEncoder\n",
    "le = LabelEncoder()\n",
    "df_overview['stock_ticker_label'] = le.fit_transform(df_overview['stock_ticker_symbol'])"
   ],
   "id": "50bdbaab5aa3f502",
   "outputs": [],
   "execution_count": null
  },
  {
   "metadata": {},
   "cell_type": "code",
   "source": "df_overview",
   "id": "7d69b8cb2f2f1bd4",
   "outputs": [],
   "execution_count": null
  },
  {
   "metadata": {},
   "cell_type": "markdown",
   "source": "## Save dataframe",
   "id": "3cb59a096cbee49e"
  },
  {
   "metadata": {},
   "cell_type": "code",
   "source": "df_overview.to_csv('../../data/df_overview.csv')",
   "id": "7d7e023f8bb5620a",
   "outputs": [],
   "execution_count": null
  }
 ],
 "metadata": {
  "kernelspec": {
   "display_name": "Python 3",
   "language": "python",
   "name": "python3"
  },
  "language_info": {
   "codemirror_mode": {
    "name": "ipython",
    "version": 2
   },
   "file_extension": ".py",
   "mimetype": "text/x-python",
   "name": "python",
   "nbconvert_exporter": "python",
   "pygments_lexer": "ipython2",
   "version": "2.7.6"
  }
 },
 "nbformat": 4,
 "nbformat_minor": 5
}
