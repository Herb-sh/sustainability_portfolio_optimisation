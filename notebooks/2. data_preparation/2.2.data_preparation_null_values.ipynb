{
 "cells": [
  {
   "cell_type": "code",
   "id": "initial_id",
   "metadata": {
    "collapsed": true
   },
   "source": [
    "import pandas as pd\n",
    "import numpy as np"
   ],
   "outputs": [],
   "execution_count": null
  },
  {
   "metadata": {},
   "cell_type": "markdown",
   "source": "## Handling null values",
   "id": "e92186fe52270f09"
  },
  {
   "metadata": {},
   "cell_type": "code",
   "source": [
    "df_overview = pd.read_csv('../../data/df_overview.csv', index_col=0)\n",
    "df_overview.head(5)"
   ],
   "id": "ee7f38cc5307930c",
   "outputs": [],
   "execution_count": null
  },
  {
   "metadata": {},
   "cell_type": "code",
   "source": "print(df_overview.isnull().sum())",
   "id": "4e43a2262428e59a",
   "outputs": [],
   "execution_count": null
  },
  {
   "metadata": {},
   "cell_type": "markdown",
   "source": "#### Replace numpy infinity with nan",
   "id": "706442c095b704fa"
  },
  {
   "metadata": {},
   "cell_type": "code",
   "source": "df_overview.replace([np.inf, -np.inf], np.nan, inplace=True)",
   "id": "dcfcd7d7af9b3f0",
   "outputs": [],
   "execution_count": null
  },
  {
   "metadata": {},
   "cell_type": "markdown",
   "source": "### Market capital ",
   "id": "e56a2a9ee0cf2423"
  },
  {
   "metadata": {},
   "cell_type": "code",
   "source": [
    "df_overview['market_capital_euro'].astype(np.float64).astype(str)\n",
    "df_overview.drop(df_overview[df_overview['market_capital_euro'].isnull() == True].index, inplace=True)\n",
    "df_overview"
   ],
   "id": "c0d58d223a743a41",
   "outputs": [],
   "execution_count": null
  },
  {
   "metadata": {},
   "cell_type": "markdown",
   "source": "### Trailing P/E Ratio",
   "id": "5aabfaf49b289f63"
  },
  {
   "metadata": {},
   "cell_type": "markdown",
   "source": "Fill 'trailing_pe' column's null values with the mean of its respective industry ",
   "id": "6bc18dd9977d63ca"
  },
  {
   "metadata": {},
   "cell_type": "code",
   "source": "df_overview['trailing_pe'] = df_overview['trailing_pe'].fillna(df_overview.groupby('industry')['trailing_pe'].transform('mean'))",
   "id": "94d0bf9c97770a70",
   "outputs": [],
   "execution_count": null
  },
  {
   "metadata": {},
   "cell_type": "markdown",
   "source": "The rest if any are filled with the overall mean value of all stocks combined",
   "id": "79869d648d8228f6"
  },
  {
   "metadata": {},
   "cell_type": "code",
   "source": "df_overview['trailing_pe'] = df_overview['trailing_pe'].fillna(df_overview['trailing_pe'].notnull().mean())",
   "id": "497865f5f5f03684",
   "outputs": [],
   "execution_count": null
  },
  {
   "metadata": {},
   "cell_type": "markdown",
   "source": "### Beta",
   "id": "f10d4247cf8abcca"
  },
  {
   "metadata": {},
   "cell_type": "markdown",
   "source": "Fill 'Beta' column's null values with the mean of its respective industry ",
   "id": "3f92879859b8c7c9"
  },
  {
   "metadata": {},
   "cell_type": "code",
   "source": "df_overview['beta'] = df_overview['beta'].fillna(df_overview.groupby('industry')['beta'].transform('mean'))",
   "id": "cbfd70a7d66634d6",
   "outputs": [],
   "execution_count": null
  },
  {
   "metadata": {},
   "cell_type": "markdown",
   "source": "The rest if any are filled with the overall mean value of all stocks combined",
   "id": "b0c0f4d724b8d1c1"
  },
  {
   "metadata": {},
   "cell_type": "code",
   "source": "df_overview['beta'] = df_overview['beta'].fillna(df_overview['beta'].notnull().mean())",
   "id": "e1f59d62a8083d9e",
   "outputs": [],
   "execution_count": null
  },
  {
   "metadata": {},
   "cell_type": "markdown",
   "source": "## Return on equity",
   "id": "b85770d4d6496d46"
  },
  {
   "metadata": {},
   "cell_type": "markdown",
   "source": "Fill 'Beta' column's null values with the mean of its respective industry ",
   "id": "5b4ceed8f34ba632"
  },
  {
   "metadata": {},
   "cell_type": "code",
   "source": "df_overview['return_on_equity'] = df_overview['return_on_equity'].fillna(df_overview.groupby('industry')['return_on_equity'].transform('mean'))",
   "id": "ec0ee2c9691081ad",
   "outputs": [],
   "execution_count": null
  },
  {
   "metadata": {},
   "cell_type": "markdown",
   "source": "The rest if any are filled with the overall mean value of all stocks combined",
   "id": "71a4533589fadac7"
  },
  {
   "metadata": {},
   "cell_type": "code",
   "source": "df_overview['return_on_equity'] = df_overview['return_on_equity'].fillna(df_overview['return_on_equity'].notnull().mean())",
   "id": "d376ca0221717e3d",
   "outputs": [],
   "execution_count": null
  },
  {
   "metadata": {},
   "cell_type": "code",
   "source": "df_overview",
   "id": "55b60316536700ec",
   "outputs": [],
   "execution_count": null
  },
  {
   "metadata": {},
   "cell_type": "markdown",
   "source": "## Returns ",
   "id": "70082da0ed82b516"
  },
  {
   "metadata": {},
   "cell_type": "markdown",
   "source": [
    "In order to make sure that both serial-data and static-data dataframe have the same tickers, we do a two-way intersection between both dataframes. \n",
    "Filter out unavailable ticker symbols. Here we do a two-way intersection.\n",
    "\n",
    "1. From serial-data dataframe we select only the items that are also found in the static-data dataframe.\n",
    "2. Then from static-data dataframe we select only the items that are also available in the serial-data dataframe."
   ],
   "id": "58e8714b60337963"
  },
  {
   "metadata": {},
   "cell_type": "code",
   "source": "df_time_series = pd.read_csv('../../data/df_monthly_returns_complete.csv', index_col='Date') ",
   "id": "d9702c2858afbb7a",
   "outputs": [],
   "execution_count": null
  },
  {
   "metadata": {},
   "cell_type": "code",
   "source": [
    "tickers_valid = df_overview['stock_ticker_symbol'].array\n",
    "df_time_series = df_time_series[df_time_series.columns.intersection(tickers_valid)]"
   ],
   "id": "779e4e46e2203d5",
   "outputs": [],
   "execution_count": null
  },
  {
   "metadata": {},
   "cell_type": "code",
   "source": "df_overview = df_overview.loc[df_overview['stock_ticker_symbol'].isin(df_time_series.columns.tolist())]",
   "id": "863b28dd7265634c",
   "outputs": [],
   "execution_count": null
  },
  {
   "metadata": {},
   "cell_type": "code",
   "source": "indices = df_time_series.index",
   "id": "57423273db9e0369",
   "outputs": [],
   "execution_count": null
  },
  {
   "metadata": {},
   "cell_type": "markdown",
   "source": "#### Handle Time-Series Null & Zero Values",
   "id": "29a373abcddb99a7"
  },
  {
   "metadata": {},
   "cell_type": "code",
   "source": [
    "from sklearn.impute import KNNImputer\n",
    "\n",
    "# 1. Set missing values to the mean value of 5 nearest neighbors (time-steps) \n",
    "imputer = KNNImputer(n_neighbors=5)\n",
    "df_time_series = pd.DataFrame(imputer.fit_transform(df_time_series), \n",
    "                              columns=df_time_series.columns)\n",
    "#\n",
    "df_time_series.reset_index(drop=True, inplace=True)\n",
    "df_time_series.index = indices\n",
    "\n",
    "# 2- A fallback to 1, when there are still NaN values. Fill NaN values wihe the mean of the 3 rolling (next) items\n",
    "df_time_series = df_time_series.fillna(df_time_series.rolling(window=3, min_periods=1).mean()) \n",
    "\n",
    "# Remove Zeros\n",
    "def replace_with_rolling_mean(series, window):\n",
    "    rolling_mean = series.rolling(window=window, min_periods=1).mean()\n",
    "    series = series.mask(series == 0, rolling_mean)\n",
    "    return series\n",
    "df_time_series = df_time_series.apply(lambda col: replace_with_rolling_mean(col, window=2))"
   ],
   "id": "a60b56e8b05cd597",
   "outputs": [],
   "execution_count": null
  },
  {
   "metadata": {},
   "cell_type": "code",
   "source": "df_time_series.rolling(window=3, min_periods=1).mean()",
   "id": "6690c5d597b2bbe7",
   "outputs": [],
   "execution_count": null
  },
  {
   "metadata": {},
   "cell_type": "code",
   "source": "df_time_series",
   "id": "faba44376509a980",
   "outputs": [],
   "execution_count": null
  },
  {
   "metadata": {},
   "cell_type": "markdown",
   "source": "## Save Dataframe",
   "id": "3ba472c9b56faa9c"
  },
  {
   "metadata": {},
   "cell_type": "code",
   "source": [
    "df_overview.to_csv('../../data/df_overview.csv')\n",
    "df_time_series.to_csv('../../data/df_monthly_returns_complete.csv')"
   ],
   "id": "acc441bf4739099d",
   "outputs": [],
   "execution_count": null
  }
 ],
 "metadata": {
  "kernelspec": {
   "display_name": "Python 3",
   "language": "python",
   "name": "python3"
  },
  "language_info": {
   "codemirror_mode": {
    "name": "ipython",
    "version": 2
   },
   "file_extension": ".py",
   "mimetype": "text/x-python",
   "name": "python",
   "nbconvert_exporter": "python",
   "pygments_lexer": "ipython2",
   "version": "2.7.6"
  }
 },
 "nbformat": 4,
 "nbformat_minor": 5
}
