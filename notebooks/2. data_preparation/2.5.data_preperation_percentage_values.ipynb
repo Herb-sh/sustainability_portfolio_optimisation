{
 "cells": [
  {
   "metadata": {
    "ExecuteTime": {
     "end_time": "2025-02-27T20:07:14.869905Z",
     "start_time": "2025-02-27T20:07:14.639709Z"
    }
   },
   "cell_type": "code",
   "source": "import pandas as pd",
   "id": "b26364741565dd70",
   "outputs": [],
   "execution_count": 1
  },
  {
   "cell_type": "code",
   "id": "initial_id",
   "metadata": {
    "collapsed": true,
    "ExecuteTime": {
     "end_time": "2025-02-27T20:07:14.928191Z",
     "start_time": "2025-02-27T20:07:14.873283Z"
    }
   },
   "source": "df_monthly_adj_close = pd.read_csv('../../data/df_monthly_returns_complete.csv', index_col=0)",
   "outputs": [],
   "execution_count": 2
  },
  {
   "metadata": {},
   "cell_type": "markdown",
   "source": [
    "#### Converting 'Adj Close' Values to Percentage Change\n",
    "The \"Adj Close\" will be transformed to represent the percentage change from the previous day's close. The percentage change will be calculated as 1 + percentage change, which indicates the relative change in the adjusted close values day-over-day."
   ],
   "id": "9e7e421d1b982150"
  },
  {
   "metadata": {
    "ExecuteTime": {
     "end_time": "2025-02-27T20:07:15.335660Z",
     "start_time": "2025-02-27T20:07:14.966045Z"
    }
   },
   "cell_type": "code",
   "source": [
    "df_monthly_return = df_monthly_adj_close.copy(deep=True)\n",
    "for column in df_monthly_return:\n",
    "    if column != 'Date':\n",
    "        df_monthly_return[column] = 1 + df_monthly_adj_close[column].pct_change().round(2)\n",
    "        df_monthly_return[column].dropna()"
   ],
   "id": "c15e950b86dd5efc",
   "outputs": [],
   "execution_count": 3
  },
  {
   "metadata": {
    "ExecuteTime": {
     "end_time": "2025-02-27T20:07:15.585085Z",
     "start_time": "2025-02-27T20:07:15.348841Z"
    }
   },
   "cell_type": "code",
   "source": "df_monthly_return.to_csv('../../data/df_monthly_returns_complete_percentage.csv')",
   "id": "86eca75ebba0c105",
   "outputs": [],
   "execution_count": 4
  }
 ],
 "metadata": {
  "kernelspec": {
   "display_name": "Python 3",
   "language": "python",
   "name": "python3"
  },
  "language_info": {
   "codemirror_mode": {
    "name": "ipython",
    "version": 2
   },
   "file_extension": ".py",
   "mimetype": "text/x-python",
   "name": "python",
   "nbconvert_exporter": "python",
   "pygments_lexer": "ipython2",
   "version": "2.7.6"
  }
 },
 "nbformat": 4,
 "nbformat_minor": 5
}
