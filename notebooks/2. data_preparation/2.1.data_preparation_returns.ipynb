{
 "cells": [
  {
   "cell_type": "code",
   "id": "initial_id",
   "metadata": {
    "collapsed": true
   },
   "source": [
    "import pandas as pd\n",
    "import importlib\n",
    "import utilities.utility as utility\n",
    "\n",
    "import utilities.variables as variables\n",
    "import utilities.api_ticker_service as data_ticker_service\n",
    "importlib.reload(data_ticker_service)\n",
    "importlib.reload(variables)\n",
    "importlib.reload(utility)"
   ],
   "outputs": [],
   "execution_count": null
  },
  {
   "cell_type": "markdown",
   "source": [
    "### Average historical return"
   ],
   "metadata": {
    "collapsed": false
   },
   "id": "8012ec464673c405"
  },
  {
   "cell_type": "code",
   "source": [
    "df_monthly_adj_close = pd.read_csv('../../data/df_monthly_adjacent_close.csv', index_col=0)\n",
    "# Changing File-Name\n",
    "df_monthly_adj_close.to_csv('../../data/df_monthly_returns_complete.csv')"
   ],
   "metadata": {
    "collapsed": false
   },
   "id": "10fd4355fb4694ca",
   "outputs": [],
   "execution_count": null
  },
  {
   "cell_type": "markdown",
   "source": [
    "### Return rate"
   ],
   "metadata": {
    "collapsed": false
   },
   "id": "5c274b68696158ea"
  },
  {
   "cell_type": "code",
   "source": [
    "df_monthly_return = pd.read_csv('../../data/df_monthly_returns_complete.csv', index_col='Date')\n",
    "df_overview = pd.read_csv('../../data/intermediate/data_5_scaled.csv', index_col=0)"
   ],
   "metadata": {
    "collapsed": false
   },
   "id": "2bfef909608005cd",
   "outputs": [],
   "execution_count": null
  },
  {
   "metadata": {},
   "cell_type": "code",
   "source": [
    "# move Date index to a new column\n",
    "df_monthly_adj_close = df_monthly_adj_close.reset_index(level=0)\n",
    "df_monthly_return = df_monthly_return.reset_index(level=0)\n",
    "\n",
    "# Creates a new column for each year group (1, 5, 10, 25 year returns)\n",
    "utility.set_yearly_return_rates_by_years(df_overview, df_monthly_return)\n",
    "df_overview"
   ],
   "id": "415d7f59fb9fb7f1",
   "outputs": [],
   "execution_count": null
  },
  {
   "metadata": {},
   "cell_type": "markdown",
   "source": [
    "### Volatility\n",
    "To calculate the volatility of a stock's monthly returns, there are several steps that should be applied to the historical price data.\n",
    "* Calculate Monthly Returns\n",
    "* Calculate the Average Monthly Return\n",
    "* Calculate the Monthly Return Deviations\n",
    "* Square the Deviations\n",
    "* Calculate the Variance\n",
    "* Calculate the Standard Deviation"
   ],
   "id": "7dacd7cb10d212a4"
  },
  {
   "cell_type": "code",
   "source": "utility.set_volatility_by_years(df_overview, df_monthly_adj_close)",
   "metadata": {
    "collapsed": false
   },
   "id": "fcc2feef6dbd5b76",
   "outputs": [],
   "execution_count": null
  },
  {
   "metadata": {},
   "cell_type": "code",
   "source": "df_overview",
   "id": "877a615cffd41d62",
   "outputs": [],
   "execution_count": null
  },
  {
   "metadata": {},
   "cell_type": "markdown",
   "source": "### Store changes",
   "id": "7d00c0dd1c69dce8"
  },
  {
   "metadata": {},
   "cell_type": "code",
   "source": [
    "df_overview.to_csv('../../data/df_overview.csv')\n",
    "df_monthly_return.to_csv('../../data/df_monthly_returns_complete.csv')"
   ],
   "id": "7feb34bcec9d2af0",
   "outputs": [],
   "execution_count": null
  }
 ],
 "metadata": {
  "kernelspec": {
   "display_name": "Python 3",
   "language": "python",
   "name": "python3"
  },
  "language_info": {
   "codemirror_mode": {
    "name": "ipython",
    "version": 2
   },
   "file_extension": ".py",
   "mimetype": "text/x-python",
   "name": "python",
   "nbconvert_exporter": "python",
   "pygments_lexer": "ipython2",
   "version": "2.7.6"
  }
 },
 "nbformat": 4,
 "nbformat_minor": 5
}
