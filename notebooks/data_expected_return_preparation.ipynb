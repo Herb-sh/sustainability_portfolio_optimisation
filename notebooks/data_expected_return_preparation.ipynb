{
 "cells": [
  {
   "cell_type": "code",
   "execution_count": 92,
   "id": "initial_id",
   "metadata": {
    "collapsed": true,
    "ExecuteTime": {
     "end_time": "2024-07-24T20:28:08.832232Z",
     "start_time": "2024-07-24T20:28:08.816281Z"
    }
   },
   "outputs": [
    {
     "data": {
      "text/plain": "<module 'utilities.data_ticker_service' from '/Users/herbishtini/Documents/UNI/Master Thesis/sustainability_portfolio_optimisation/utilities/data_ticker_service.py'>"
     },
     "execution_count": 92,
     "metadata": {},
     "output_type": "execute_result"
    }
   ],
   "source": [
    "import pandas as pd\n",
    "import numpy as np\n",
    "import os.path\n",
    "import importlib\n",
    "from datetime import datetime\n",
    "from sklearn.preprocessing import MinMaxScaler\n",
    "from dateutil.relativedelta import relativedelta\n",
    "\n",
    "import utilities.data_ticker_service as data_ticker_service\n",
    "importlib.reload(data_ticker_service)"
   ]
  },
  {
   "cell_type": "markdown",
   "source": [
    "### Reading file"
   ],
   "metadata": {
    "collapsed": false
   },
   "id": "26c62e4b4e3045b2"
  },
  {
   "cell_type": "code",
   "execution_count": 12,
   "outputs": [
    {
     "data": {
      "text/plain": "                                 company_name ticker_symbol  \\\n0                                 HENSOLDT AG       ETR:HAG   \n1                                   Aptiv Plc      NYS:APTV   \n2                            BorgWarner, Inc.       NYS:BWA   \n3  Bosch Fren Sistemleri Sanayi ve Ticaret AS   IST:BFREN.E   \n4                                  Bosch Ltd.    BOM:500530   \n\n   company_esg_score company_esg_score_group             industry  \n0               14.9            Low ESG Risk  Aerospace & Defense  \n1                9.1     Negligible ESG Risk      Auto Components  \n2               10.0     Negligible ESG Risk      Auto Components  \n3                8.1     Negligible ESG Risk      Auto Components  \n4                6.5     Negligible ESG Risk      Auto Components  ",
      "text/html": "<div>\n<style scoped>\n    .dataframe tbody tr th:only-of-type {\n        vertical-align: middle;\n    }\n\n    .dataframe tbody tr th {\n        vertical-align: top;\n    }\n\n    .dataframe thead th {\n        text-align: right;\n    }\n</style>\n<table border=\"1\" class=\"dataframe\">\n  <thead>\n    <tr style=\"text-align: right;\">\n      <th></th>\n      <th>company_name</th>\n      <th>ticker_symbol</th>\n      <th>company_esg_score</th>\n      <th>company_esg_score_group</th>\n      <th>industry</th>\n    </tr>\n  </thead>\n  <tbody>\n    <tr>\n      <th>0</th>\n      <td>HENSOLDT AG</td>\n      <td>ETR:HAG</td>\n      <td>14.9</td>\n      <td>Low ESG Risk</td>\n      <td>Aerospace &amp; Defense</td>\n    </tr>\n    <tr>\n      <th>1</th>\n      <td>Aptiv Plc</td>\n      <td>NYS:APTV</td>\n      <td>9.1</td>\n      <td>Negligible ESG Risk</td>\n      <td>Auto Components</td>\n    </tr>\n    <tr>\n      <th>2</th>\n      <td>BorgWarner, Inc.</td>\n      <td>NYS:BWA</td>\n      <td>10.0</td>\n      <td>Negligible ESG Risk</td>\n      <td>Auto Components</td>\n    </tr>\n    <tr>\n      <th>3</th>\n      <td>Bosch Fren Sistemleri Sanayi ve Ticaret AS</td>\n      <td>IST:BFREN.E</td>\n      <td>8.1</td>\n      <td>Negligible ESG Risk</td>\n      <td>Auto Components</td>\n    </tr>\n    <tr>\n      <th>4</th>\n      <td>Bosch Ltd.</td>\n      <td>BOM:500530</td>\n      <td>6.5</td>\n      <td>Negligible ESG Risk</td>\n      <td>Auto Components</td>\n    </tr>\n  </tbody>\n</table>\n</div>"
     },
     "execution_count": 12,
     "metadata": {},
     "output_type": "execute_result"
    }
   ],
   "source": [
    "df = pd.read_csv('../data/data_1_esg_raw.csv') \n",
    "df.head(5)"
   ],
   "metadata": {
    "collapsed": false,
    "ExecuteTime": {
     "end_time": "2024-07-17T23:12:06.300607Z",
     "start_time": "2024-07-17T23:12:06.175472Z"
    }
   },
   "id": "dcb6393d65fbe897"
  },
  {
   "cell_type": "markdown",
   "source": [
    "### Sort by ESG score"
   ],
   "metadata": {
    "collapsed": false
   },
   "id": "34ed6f0d5483b7e2"
  },
  {
   "cell_type": "code",
   "execution_count": 13,
   "outputs": [
    {
     "data": {
      "text/plain": "                                           company_name ticker_symbol  \\\n4184                  ROADIS Transportation Holding SLU             -   \n1018                               JAB Holding Co. SARL             -   \n2037                                              Dexus       ASX:DXS   \n4180    Entidad Pública Empresarial ADIF-Alta Velocidad             -   \n3498                                       RS Group Plc       LON:RS1   \n...                                                 ...           ...   \n1428  International Finance Facility for Immunisatio...             -   \n3843                                          Orange SA       PAR:ORA   \n4365                                    Promigas SA ESP  BOG:PROMIGAS   \n3950                                     Li & Fung Ltd.             -   \n4333                               EP Infrastructure as             -   \n\n      company_esg_score company_esg_score_group                       industry  \n4184                4.0     Negligible ESG Risk  Transportation Infrastructure  \n1018                4.2     Negligible ESG Risk         Diversified Financials  \n2037                4.2     Negligible ESG Risk                    Real Estate  \n4180                4.3     Negligible ESG Risk  Transportation Infrastructure  \n3498                4.5     Negligible ESG Risk            Technology Hardware  \n...                 ...                     ...                            ...  \n1428               20.0            Low ESG Risk                     Healthcare  \n3843               20.0            Low ESG Risk     Telecommunication Services  \n4365               20.0            Low ESG Risk                      Utilities  \n3950               20.0            Low ESG Risk             Textiles & Apparel  \n4333               20.0            Low ESG Risk                      Utilities  \n\n[4386 rows x 5 columns]",
      "text/html": "<div>\n<style scoped>\n    .dataframe tbody tr th:only-of-type {\n        vertical-align: middle;\n    }\n\n    .dataframe tbody tr th {\n        vertical-align: top;\n    }\n\n    .dataframe thead th {\n        text-align: right;\n    }\n</style>\n<table border=\"1\" class=\"dataframe\">\n  <thead>\n    <tr style=\"text-align: right;\">\n      <th></th>\n      <th>company_name</th>\n      <th>ticker_symbol</th>\n      <th>company_esg_score</th>\n      <th>company_esg_score_group</th>\n      <th>industry</th>\n    </tr>\n  </thead>\n  <tbody>\n    <tr>\n      <th>4184</th>\n      <td>ROADIS Transportation Holding SLU</td>\n      <td>-</td>\n      <td>4.0</td>\n      <td>Negligible ESG Risk</td>\n      <td>Transportation Infrastructure</td>\n    </tr>\n    <tr>\n      <th>1018</th>\n      <td>JAB Holding Co. SARL</td>\n      <td>-</td>\n      <td>4.2</td>\n      <td>Negligible ESG Risk</td>\n      <td>Diversified Financials</td>\n    </tr>\n    <tr>\n      <th>2037</th>\n      <td>Dexus</td>\n      <td>ASX:DXS</td>\n      <td>4.2</td>\n      <td>Negligible ESG Risk</td>\n      <td>Real Estate</td>\n    </tr>\n    <tr>\n      <th>4180</th>\n      <td>Entidad Pública Empresarial ADIF-Alta Velocidad</td>\n      <td>-</td>\n      <td>4.3</td>\n      <td>Negligible ESG Risk</td>\n      <td>Transportation Infrastructure</td>\n    </tr>\n    <tr>\n      <th>3498</th>\n      <td>RS Group Plc</td>\n      <td>LON:RS1</td>\n      <td>4.5</td>\n      <td>Negligible ESG Risk</td>\n      <td>Technology Hardware</td>\n    </tr>\n    <tr>\n      <th>...</th>\n      <td>...</td>\n      <td>...</td>\n      <td>...</td>\n      <td>...</td>\n      <td>...</td>\n    </tr>\n    <tr>\n      <th>1428</th>\n      <td>International Finance Facility for Immunisatio...</td>\n      <td>-</td>\n      <td>20.0</td>\n      <td>Low ESG Risk</td>\n      <td>Healthcare</td>\n    </tr>\n    <tr>\n      <th>3843</th>\n      <td>Orange SA</td>\n      <td>PAR:ORA</td>\n      <td>20.0</td>\n      <td>Low ESG Risk</td>\n      <td>Telecommunication Services</td>\n    </tr>\n    <tr>\n      <th>4365</th>\n      <td>Promigas SA ESP</td>\n      <td>BOG:PROMIGAS</td>\n      <td>20.0</td>\n      <td>Low ESG Risk</td>\n      <td>Utilities</td>\n    </tr>\n    <tr>\n      <th>3950</th>\n      <td>Li &amp; Fung Ltd.</td>\n      <td>-</td>\n      <td>20.0</td>\n      <td>Low ESG Risk</td>\n      <td>Textiles &amp; Apparel</td>\n    </tr>\n    <tr>\n      <th>4333</th>\n      <td>EP Infrastructure as</td>\n      <td>-</td>\n      <td>20.0</td>\n      <td>Low ESG Risk</td>\n      <td>Utilities</td>\n    </tr>\n  </tbody>\n</table>\n<p>4386 rows × 5 columns</p>\n</div>"
     },
     "execution_count": 13,
     "metadata": {},
     "output_type": "execute_result"
    }
   ],
   "source": [
    "df_sorted = df.sort_values('company_esg_score')\n",
    "df_sorted"
   ],
   "metadata": {
    "collapsed": false,
    "ExecuteTime": {
     "end_time": "2024-07-17T23:12:06.310764Z",
     "start_time": "2024-07-17T23:12:06.192766Z"
    }
   },
   "id": "fdec4843f96d84ca"
  },
  {
   "cell_type": "code",
   "execution_count": 14,
   "outputs": [
    {
     "data": {
      "text/plain": "4386"
     },
     "execution_count": 14,
     "metadata": {},
     "output_type": "execute_result"
    }
   ],
   "source": [
    "len(df_sorted)"
   ],
   "metadata": {
    "collapsed": false,
    "ExecuteTime": {
     "end_time": "2024-07-17T23:12:06.316685Z",
     "start_time": "2024-07-17T23:12:06.203262Z"
    }
   },
   "id": "475f6692a189a0f2"
  },
  {
   "cell_type": "markdown",
   "source": [
    "### Group by industry and company-esg-score-group"
   ],
   "metadata": {
    "collapsed": false
   },
   "id": "5405de3c4f8da66b"
  },
  {
   "cell_type": "code",
   "execution_count": 15,
   "outputs": [
    {
     "data": {
      "text/plain": "                         industry company_esg_score_group  Count\n0             Aerospace & Defense            Low ESG Risk      1\n2                 Auto Components     Negligible ESG Risk     12\n1                 Auto Components            Low ESG Risk    105\n3                     Automobiles            Low ESG Risk     22\n5                           Banks     Negligible ESG Risk     43\n..                            ...                     ...    ...\n63                 Transportation            Low ESG Risk    107\n65  Transportation Infrastructure     Negligible ESG Risk     21\n64  Transportation Infrastructure            Low ESG Risk     92\n67                      Utilities     Negligible ESG Risk     11\n66                      Utilities            Low ESG Risk     94\n\n[68 rows x 3 columns]",
      "text/html": "<div>\n<style scoped>\n    .dataframe tbody tr th:only-of-type {\n        vertical-align: middle;\n    }\n\n    .dataframe tbody tr th {\n        vertical-align: top;\n    }\n\n    .dataframe thead th {\n        text-align: right;\n    }\n</style>\n<table border=\"1\" class=\"dataframe\">\n  <thead>\n    <tr style=\"text-align: right;\">\n      <th></th>\n      <th>industry</th>\n      <th>company_esg_score_group</th>\n      <th>Count</th>\n    </tr>\n  </thead>\n  <tbody>\n    <tr>\n      <th>0</th>\n      <td>Aerospace &amp; Defense</td>\n      <td>Low ESG Risk</td>\n      <td>1</td>\n    </tr>\n    <tr>\n      <th>2</th>\n      <td>Auto Components</td>\n      <td>Negligible ESG Risk</td>\n      <td>12</td>\n    </tr>\n    <tr>\n      <th>1</th>\n      <td>Auto Components</td>\n      <td>Low ESG Risk</td>\n      <td>105</td>\n    </tr>\n    <tr>\n      <th>3</th>\n      <td>Automobiles</td>\n      <td>Low ESG Risk</td>\n      <td>22</td>\n    </tr>\n    <tr>\n      <th>5</th>\n      <td>Banks</td>\n      <td>Negligible ESG Risk</td>\n      <td>43</td>\n    </tr>\n    <tr>\n      <th>...</th>\n      <td>...</td>\n      <td>...</td>\n      <td>...</td>\n    </tr>\n    <tr>\n      <th>63</th>\n      <td>Transportation</td>\n      <td>Low ESG Risk</td>\n      <td>107</td>\n    </tr>\n    <tr>\n      <th>65</th>\n      <td>Transportation Infrastructure</td>\n      <td>Negligible ESG Risk</td>\n      <td>21</td>\n    </tr>\n    <tr>\n      <th>64</th>\n      <td>Transportation Infrastructure</td>\n      <td>Low ESG Risk</td>\n      <td>92</td>\n    </tr>\n    <tr>\n      <th>67</th>\n      <td>Utilities</td>\n      <td>Negligible ESG Risk</td>\n      <td>11</td>\n    </tr>\n    <tr>\n      <th>66</th>\n      <td>Utilities</td>\n      <td>Low ESG Risk</td>\n      <td>94</td>\n    </tr>\n  </tbody>\n</table>\n<p>68 rows × 3 columns</p>\n</div>"
     },
     "execution_count": 15,
     "metadata": {},
     "output_type": "execute_result"
    }
   ],
   "source": [
    "# Group by the first and second columns and count the occurrences\n",
    "df_grouped = df.groupby(['industry', 'company_esg_score_group']).size().reset_index(name='Count')\n",
    "df_grouped = df_grouped.sort_values(by=['industry', 'company_esg_score_group'], ascending=[True, False])\n",
    "df_grouped"
   ],
   "metadata": {
    "collapsed": false,
    "ExecuteTime": {
     "end_time": "2024-07-17T23:12:06.320484Z",
     "start_time": "2024-07-17T23:12:06.209313Z"
    }
   },
   "id": "cfc151ca4b0c05a1"
  },
  {
   "cell_type": "markdown",
   "source": [
    "### Remove stocks without a valid stock exchange"
   ],
   "metadata": {
    "collapsed": false
   },
   "id": "f7cd4eae95e256ab"
  },
  {
   "cell_type": "code",
   "execution_count": 16,
   "outputs": [
    {
     "data": {
      "text/plain": "3801"
     },
     "execution_count": 16,
     "metadata": {},
     "output_type": "execute_result"
    }
   ],
   "source": [
    "len(df_sorted[df_sorted['ticker_symbol'] != '-'])"
   ],
   "metadata": {
    "collapsed": false,
    "ExecuteTime": {
     "end_time": "2024-07-17T23:12:06.337558Z",
     "start_time": "2024-07-17T23:12:06.221620Z"
    }
   },
   "id": "2992ef9a472c4e5c"
  },
  {
   "cell_type": "code",
   "execution_count": 17,
   "outputs": [
    {
     "data": {
      "text/plain": "                                 company_name ticker_symbol  \\\n2037                                    Dexus       ASX:DXS   \n3498                             RS Group Plc       LON:RS1   \n3486                Kimball Electronics, Inc.        NAS:KE   \n2100                        TAG Immobilien AG       ETR:TEG   \n2105             Unibail-Rodamco-Westfield SE       PAR:URW   \n...                                       ...           ...   \n1140  Nippon Life India Asset Management Ltd.    BOM:540767   \n3850                  Taiwan Mobile Co., Ltd.      TAI:3045   \n4160                      Union Pacific Corp.       NYS:UNP   \n3843                                Orange SA       PAR:ORA   \n4365                          Promigas SA ESP  BOG:PROMIGAS   \n\n      company_esg_score company_esg_score_group                    industry  \n2037                4.2     Negligible ESG Risk                 Real Estate  \n3498                4.5     Negligible ESG Risk         Technology Hardware  \n3486                4.5     Negligible ESG Risk         Technology Hardware  \n2100                4.6     Negligible ESG Risk                 Real Estate  \n2105                4.7     Negligible ESG Risk                 Real Estate  \n...                 ...                     ...                         ...  \n1140               20.0            Low ESG Risk      Diversified Financials  \n3850               20.0            Low ESG Risk  Telecommunication Services  \n4160               20.0            Low ESG Risk              Transportation  \n3843               20.0            Low ESG Risk  Telecommunication Services  \n4365               20.0            Low ESG Risk                   Utilities  \n\n[3801 rows x 5 columns]",
      "text/html": "<div>\n<style scoped>\n    .dataframe tbody tr th:only-of-type {\n        vertical-align: middle;\n    }\n\n    .dataframe tbody tr th {\n        vertical-align: top;\n    }\n\n    .dataframe thead th {\n        text-align: right;\n    }\n</style>\n<table border=\"1\" class=\"dataframe\">\n  <thead>\n    <tr style=\"text-align: right;\">\n      <th></th>\n      <th>company_name</th>\n      <th>ticker_symbol</th>\n      <th>company_esg_score</th>\n      <th>company_esg_score_group</th>\n      <th>industry</th>\n    </tr>\n  </thead>\n  <tbody>\n    <tr>\n      <th>2037</th>\n      <td>Dexus</td>\n      <td>ASX:DXS</td>\n      <td>4.2</td>\n      <td>Negligible ESG Risk</td>\n      <td>Real Estate</td>\n    </tr>\n    <tr>\n      <th>3498</th>\n      <td>RS Group Plc</td>\n      <td>LON:RS1</td>\n      <td>4.5</td>\n      <td>Negligible ESG Risk</td>\n      <td>Technology Hardware</td>\n    </tr>\n    <tr>\n      <th>3486</th>\n      <td>Kimball Electronics, Inc.</td>\n      <td>NAS:KE</td>\n      <td>4.5</td>\n      <td>Negligible ESG Risk</td>\n      <td>Technology Hardware</td>\n    </tr>\n    <tr>\n      <th>2100</th>\n      <td>TAG Immobilien AG</td>\n      <td>ETR:TEG</td>\n      <td>4.6</td>\n      <td>Negligible ESG Risk</td>\n      <td>Real Estate</td>\n    </tr>\n    <tr>\n      <th>2105</th>\n      <td>Unibail-Rodamco-Westfield SE</td>\n      <td>PAR:URW</td>\n      <td>4.7</td>\n      <td>Negligible ESG Risk</td>\n      <td>Real Estate</td>\n    </tr>\n    <tr>\n      <th>...</th>\n      <td>...</td>\n      <td>...</td>\n      <td>...</td>\n      <td>...</td>\n      <td>...</td>\n    </tr>\n    <tr>\n      <th>1140</th>\n      <td>Nippon Life India Asset Management Ltd.</td>\n      <td>BOM:540767</td>\n      <td>20.0</td>\n      <td>Low ESG Risk</td>\n      <td>Diversified Financials</td>\n    </tr>\n    <tr>\n      <th>3850</th>\n      <td>Taiwan Mobile Co., Ltd.</td>\n      <td>TAI:3045</td>\n      <td>20.0</td>\n      <td>Low ESG Risk</td>\n      <td>Telecommunication Services</td>\n    </tr>\n    <tr>\n      <th>4160</th>\n      <td>Union Pacific Corp.</td>\n      <td>NYS:UNP</td>\n      <td>20.0</td>\n      <td>Low ESG Risk</td>\n      <td>Transportation</td>\n    </tr>\n    <tr>\n      <th>3843</th>\n      <td>Orange SA</td>\n      <td>PAR:ORA</td>\n      <td>20.0</td>\n      <td>Low ESG Risk</td>\n      <td>Telecommunication Services</td>\n    </tr>\n    <tr>\n      <th>4365</th>\n      <td>Promigas SA ESP</td>\n      <td>BOG:PROMIGAS</td>\n      <td>20.0</td>\n      <td>Low ESG Risk</td>\n      <td>Utilities</td>\n    </tr>\n  </tbody>\n</table>\n<p>3801 rows × 5 columns</p>\n</div>"
     },
     "execution_count": 17,
     "metadata": {},
     "output_type": "execute_result"
    }
   ],
   "source": [
    "df_sorted[df_sorted['ticker_symbol'] != '-']"
   ],
   "metadata": {
    "collapsed": false,
    "ExecuteTime": {
     "end_time": "2024-07-17T23:12:06.338948Z",
     "start_time": "2024-07-17T23:12:06.227056Z"
    }
   },
   "id": "9e1e71943a57dc82"
  },
  {
   "cell_type": "markdown",
   "source": [
    "### Create new columns \"stock_exchange\" & \"stock_ticker_symbol\""
   ],
   "metadata": {
    "collapsed": false
   },
   "id": "a7e1fc82e5097813"
  },
  {
   "cell_type": "code",
   "execution_count": 18,
   "outputs": [],
   "source": [
    "# Create new column stock_exchange by splitting ticker_symbol\n",
    "df_sorted['stock_exchange'] = df_sorted['ticker_symbol'].str.split(':').str[0]"
   ],
   "metadata": {
    "collapsed": false,
    "ExecuteTime": {
     "end_time": "2024-07-17T23:12:06.339078Z",
     "start_time": "2024-07-17T23:12:06.234442Z"
    }
   },
   "id": "a54e28bbd62ffbc3"
  },
  {
   "cell_type": "code",
   "execution_count": 19,
   "outputs": [],
   "source": [
    "# Create new column stock_ticker_symbol by splitting ticker_symbol\n",
    "df_sorted['stock_ticker_symbol'] = df_sorted['ticker_symbol'].str.split(':').str[1]"
   ],
   "metadata": {
    "collapsed": false,
    "ExecuteTime": {
     "end_time": "2024-07-17T23:12:06.339266Z",
     "start_time": "2024-07-17T23:12:06.241286Z"
    }
   },
   "id": "c9a6cb986ce963eb"
  },
  {
   "cell_type": "code",
   "execution_count": 20,
   "outputs": [
    {
     "data": {
      "text/plain": "stock_exchange\nNYS    551\nNAS    408\nTKS    372\nLON    226\nTAI    183\n      ... \nLIM      1\nLIT      1\nBRA      1\nFRA      1\nBER      1\nName: count, Length: 62, dtype: int64"
     },
     "execution_count": 20,
     "metadata": {},
     "output_type": "execute_result"
    }
   ],
   "source": [
    "df_sorted[df_sorted['ticker_symbol'] != '-']['stock_exchange'].value_counts('')"
   ],
   "metadata": {
    "collapsed": false,
    "ExecuteTime": {
     "end_time": "2024-07-17T23:12:06.339716Z",
     "start_time": "2024-07-17T23:12:06.245312Z"
    }
   },
   "id": "bbc4e0774f5f5a7d"
  },
  {
   "cell_type": "markdown",
   "source": [
    "## Selected Stock-Exchanges"
   ],
   "metadata": {
    "collapsed": false
   },
   "id": "fd219e82a7a6a2a3"
  },
  {
   "cell_type": "code",
   "execution_count": 21,
   "outputs": [
    {
     "data": {
      "text/plain": "4386"
     },
     "execution_count": 21,
     "metadata": {},
     "output_type": "execute_result"
    }
   ],
   "source": [
    "len(df_sorted)"
   ],
   "metadata": {
    "collapsed": false,
    "ExecuteTime": {
     "end_time": "2024-07-17T23:12:06.339905Z",
     "start_time": "2024-07-17T23:12:06.252310Z"
    }
   },
   "id": "b2aa879ccd224853"
  },
  {
   "cell_type": "markdown",
   "source": [
    "### Filter Stock Exchanges"
   ],
   "metadata": {
    "collapsed": false
   },
   "id": "2375c94066821ffd"
  },
  {
   "cell_type": "code",
   "execution_count": 22,
   "outputs": [],
   "source": [
    "# drop existing column \"stock_ticker_symbol\"\n",
    "df_sorted = df_sorted.drop(columns=['ticker_symbol'])"
   ],
   "metadata": {
    "collapsed": false,
    "ExecuteTime": {
     "end_time": "2024-07-17T23:12:06.339977Z",
     "start_time": "2024-07-17T23:12:06.255168Z"
    }
   },
   "id": "6cfdf41b443742c0"
  },
  {
   "cell_type": "code",
   "execution_count": 23,
   "outputs": [
    {
     "data": {
      "text/plain": "1662"
     },
     "execution_count": 23,
     "metadata": {},
     "output_type": "execute_result"
    }
   ],
   "source": [
    "# Filter by a single column value \n",
    "df_filtered = df_sorted[df_sorted['stock_exchange'].isin(['NYS', 'NAS', 'TKS', 'LON', 'ETR'])]\n",
    "len(df_filtered)"
   ],
   "metadata": {
    "collapsed": false,
    "ExecuteTime": {
     "end_time": "2024-07-17T23:12:06.340241Z",
     "start_time": "2024-07-17T23:12:06.259024Z"
    }
   },
   "id": "c37dd4a69092b215"
  },
  {
   "cell_type": "code",
   "execution_count": 24,
   "outputs": [
    {
     "data": {
      "text/plain": "                         company_name  company_esg_score  \\\n3498                     RS Group Plc                4.5   \n3486        Kimball Electronics, Inc.                4.5   \n2100                TAG Immobilien AG                4.6   \n2068                LEG Immobilien SE                5.1   \n521                   Steelcase, Inc.                5.3   \n...                               ...                ...   \n3676  KVH Industries, Inc. (Delaware)               20.0   \n2905                Moonpig Group Plc               20.0   \n1963                NeoGenomics, Inc.               20.0   \n3057         Japan Material Co., Ltd.               20.0   \n4160              Union Pacific Corp.               20.0   \n\n     company_esg_score_group             industry stock_exchange  \\\n3498     Negligible ESG Risk  Technology Hardware            LON   \n3486     Negligible ESG Risk  Technology Hardware            NAS   \n2100     Negligible ESG Risk          Real Estate            ETR   \n2068     Negligible ESG Risk          Real Estate            ETR   \n521      Negligible ESG Risk  Commercial Services            NYS   \n...                      ...                  ...            ...   \n3676            Low ESG Risk  Technology Hardware            NAS   \n2905            Low ESG Risk            Retailing            LON   \n1963            Low ESG Risk      Pharmaceuticals            NAS   \n3057            Low ESG Risk       Semiconductors            TKS   \n4160            Low ESG Risk       Transportation            NYS   \n\n     stock_ticker_symbol  \n3498                 RS1  \n3486                  KE  \n2100                 TEG  \n2068                 LEG  \n521                  SCS  \n...                  ...  \n3676                KVHI  \n2905                MOON  \n1963                 NEO  \n3057                6055  \n4160                 UNP  \n\n[1662 rows x 6 columns]",
      "text/html": "<div>\n<style scoped>\n    .dataframe tbody tr th:only-of-type {\n        vertical-align: middle;\n    }\n\n    .dataframe tbody tr th {\n        vertical-align: top;\n    }\n\n    .dataframe thead th {\n        text-align: right;\n    }\n</style>\n<table border=\"1\" class=\"dataframe\">\n  <thead>\n    <tr style=\"text-align: right;\">\n      <th></th>\n      <th>company_name</th>\n      <th>company_esg_score</th>\n      <th>company_esg_score_group</th>\n      <th>industry</th>\n      <th>stock_exchange</th>\n      <th>stock_ticker_symbol</th>\n    </tr>\n  </thead>\n  <tbody>\n    <tr>\n      <th>3498</th>\n      <td>RS Group Plc</td>\n      <td>4.5</td>\n      <td>Negligible ESG Risk</td>\n      <td>Technology Hardware</td>\n      <td>LON</td>\n      <td>RS1</td>\n    </tr>\n    <tr>\n      <th>3486</th>\n      <td>Kimball Electronics, Inc.</td>\n      <td>4.5</td>\n      <td>Negligible ESG Risk</td>\n      <td>Technology Hardware</td>\n      <td>NAS</td>\n      <td>KE</td>\n    </tr>\n    <tr>\n      <th>2100</th>\n      <td>TAG Immobilien AG</td>\n      <td>4.6</td>\n      <td>Negligible ESG Risk</td>\n      <td>Real Estate</td>\n      <td>ETR</td>\n      <td>TEG</td>\n    </tr>\n    <tr>\n      <th>2068</th>\n      <td>LEG Immobilien SE</td>\n      <td>5.1</td>\n      <td>Negligible ESG Risk</td>\n      <td>Real Estate</td>\n      <td>ETR</td>\n      <td>LEG</td>\n    </tr>\n    <tr>\n      <th>521</th>\n      <td>Steelcase, Inc.</td>\n      <td>5.3</td>\n      <td>Negligible ESG Risk</td>\n      <td>Commercial Services</td>\n      <td>NYS</td>\n      <td>SCS</td>\n    </tr>\n    <tr>\n      <th>...</th>\n      <td>...</td>\n      <td>...</td>\n      <td>...</td>\n      <td>...</td>\n      <td>...</td>\n      <td>...</td>\n    </tr>\n    <tr>\n      <th>3676</th>\n      <td>KVH Industries, Inc. (Delaware)</td>\n      <td>20.0</td>\n      <td>Low ESG Risk</td>\n      <td>Technology Hardware</td>\n      <td>NAS</td>\n      <td>KVHI</td>\n    </tr>\n    <tr>\n      <th>2905</th>\n      <td>Moonpig Group Plc</td>\n      <td>20.0</td>\n      <td>Low ESG Risk</td>\n      <td>Retailing</td>\n      <td>LON</td>\n      <td>MOON</td>\n    </tr>\n    <tr>\n      <th>1963</th>\n      <td>NeoGenomics, Inc.</td>\n      <td>20.0</td>\n      <td>Low ESG Risk</td>\n      <td>Pharmaceuticals</td>\n      <td>NAS</td>\n      <td>NEO</td>\n    </tr>\n    <tr>\n      <th>3057</th>\n      <td>Japan Material Co., Ltd.</td>\n      <td>20.0</td>\n      <td>Low ESG Risk</td>\n      <td>Semiconductors</td>\n      <td>TKS</td>\n      <td>6055</td>\n    </tr>\n    <tr>\n      <th>4160</th>\n      <td>Union Pacific Corp.</td>\n      <td>20.0</td>\n      <td>Low ESG Risk</td>\n      <td>Transportation</td>\n      <td>NYS</td>\n      <td>UNP</td>\n    </tr>\n  </tbody>\n</table>\n<p>1662 rows × 6 columns</p>\n</div>"
     },
     "execution_count": 24,
     "metadata": {},
     "output_type": "execute_result"
    }
   ],
   "source": [
    "df_filtered"
   ],
   "metadata": {
    "collapsed": false,
    "ExecuteTime": {
     "end_time": "2024-07-17T23:12:06.342421Z",
     "start_time": "2024-07-17T23:12:06.265793Z"
    }
   },
   "id": "f1aff08ed27306e3"
  },
  {
   "cell_type": "markdown",
   "source": [
    "#### Group by industry and company-esg-score-group"
   ],
   "metadata": {
    "collapsed": false
   },
   "id": "67cf6ba0583a845"
  },
  {
   "cell_type": "code",
   "execution_count": 25,
   "outputs": [
    {
     "data": {
      "text/plain": "1662"
     },
     "execution_count": 25,
     "metadata": {},
     "output_type": "execute_result"
    }
   ],
   "source": [
    "len(df_filtered)"
   ],
   "metadata": {
    "collapsed": false,
    "ExecuteTime": {
     "end_time": "2024-07-17T23:12:06.342769Z",
     "start_time": "2024-07-17T23:12:06.268364Z"
    }
   },
   "id": "737939a8471907ea"
  },
  {
   "cell_type": "code",
   "execution_count": 26,
   "outputs": [
    {
     "data": {
      "text/plain": "                         industry company_esg_score_group  Count\n0             Aerospace & Defense            Low ESG Risk      1\n2                 Auto Components     Negligible ESG Risk      5\n1                 Auto Components            Low ESG Risk     45\n3                     Automobiles            Low ESG Risk      4\n5                           Banks     Negligible ESG Risk      1\n4                           Banks            Low ESG Risk     15\n6               Building Products            Low ESG Risk     13\n7                       Chemicals            Low ESG Risk     11\n9             Commercial Services     Negligible ESG Risk     32\n8             Commercial Services            Low ESG Risk     83\n10         Construction Materials            Low ESG Risk      1\n12              Consumer Durables     Negligible ESG Risk      3\n11              Consumer Durables            Low ESG Risk     55\n14              Consumer Services     Negligible ESG Risk      1\n13              Consumer Services            Low ESG Risk     34\n16         Containers & Packaging     Negligible ESG Risk      3\n15         Containers & Packaging            Low ESG Risk     15\n18         Diversified Financials     Negligible ESG Risk      3\n17         Diversified Financials            Low ESG Risk     49\n19             Diversified Metals            Low ESG Risk      1\n20           Electrical Equipment            Low ESG Risk     16\n21                Energy Services            Low ESG Risk      6\n22                  Food Products            Low ESG Risk      6\n23                 Food Retailers            Low ESG Risk     25\n25                     Healthcare     Negligible ESG Risk      1\n24                     Healthcare            Low ESG Risk     72\n27                   Homebuilders     Negligible ESG Risk      1\n26                   Homebuilders            Low ESG Risk     20\n28             Household Products            Low ESG Risk      2\n29                      Insurance            Low ESG Risk     25\n30                      Machinery            Low ESG Risk     24\n32                          Media     Negligible ESG Risk      8\n31                          Media            Low ESG Risk     80\n33            Oil & Gas Producers     Negligible ESG Risk      1\n34               Paper & Forestry            Low ESG Risk      4\n35                Pharmaceuticals            Low ESG Risk     44\n36                Precious Metals     Negligible ESG Risk      1\n38                    Real Estate     Negligible ESG Risk     36\n37                    Real Estate            Low ESG Risk    236\n39           Refiners & Pipelines            Low ESG Risk      2\n41                      Retailing     Negligible ESG Risk      5\n40                      Retailing            Low ESG Risk    150\n42                 Semiconductors            Low ESG Risk     48\n44            Software & Services     Negligible ESG Risk      2\n43            Software & Services            Low ESG Risk    179\n46            Technology Hardware     Negligible ESG Risk     32\n45            Technology Hardware            Low ESG Risk    131\n47     Telecommunication Services            Low ESG Risk      9\n49             Textiles & Apparel     Negligible ESG Risk      2\n48             Textiles & Apparel            Low ESG Risk     36\n50         Traders & Distributors            Low ESG Risk     23\n51                 Transportation            Low ESG Risk     37\n52  Transportation Infrastructure            Low ESG Risk      4\n54                      Utilities     Negligible ESG Risk      2\n53                      Utilities            Low ESG Risk     17",
      "text/html": "<div>\n<style scoped>\n    .dataframe tbody tr th:only-of-type {\n        vertical-align: middle;\n    }\n\n    .dataframe tbody tr th {\n        vertical-align: top;\n    }\n\n    .dataframe thead th {\n        text-align: right;\n    }\n</style>\n<table border=\"1\" class=\"dataframe\">\n  <thead>\n    <tr style=\"text-align: right;\">\n      <th></th>\n      <th>industry</th>\n      <th>company_esg_score_group</th>\n      <th>Count</th>\n    </tr>\n  </thead>\n  <tbody>\n    <tr>\n      <th>0</th>\n      <td>Aerospace &amp; Defense</td>\n      <td>Low ESG Risk</td>\n      <td>1</td>\n    </tr>\n    <tr>\n      <th>2</th>\n      <td>Auto Components</td>\n      <td>Negligible ESG Risk</td>\n      <td>5</td>\n    </tr>\n    <tr>\n      <th>1</th>\n      <td>Auto Components</td>\n      <td>Low ESG Risk</td>\n      <td>45</td>\n    </tr>\n    <tr>\n      <th>3</th>\n      <td>Automobiles</td>\n      <td>Low ESG Risk</td>\n      <td>4</td>\n    </tr>\n    <tr>\n      <th>5</th>\n      <td>Banks</td>\n      <td>Negligible ESG Risk</td>\n      <td>1</td>\n    </tr>\n    <tr>\n      <th>4</th>\n      <td>Banks</td>\n      <td>Low ESG Risk</td>\n      <td>15</td>\n    </tr>\n    <tr>\n      <th>6</th>\n      <td>Building Products</td>\n      <td>Low ESG Risk</td>\n      <td>13</td>\n    </tr>\n    <tr>\n      <th>7</th>\n      <td>Chemicals</td>\n      <td>Low ESG Risk</td>\n      <td>11</td>\n    </tr>\n    <tr>\n      <th>9</th>\n      <td>Commercial Services</td>\n      <td>Negligible ESG Risk</td>\n      <td>32</td>\n    </tr>\n    <tr>\n      <th>8</th>\n      <td>Commercial Services</td>\n      <td>Low ESG Risk</td>\n      <td>83</td>\n    </tr>\n    <tr>\n      <th>10</th>\n      <td>Construction Materials</td>\n      <td>Low ESG Risk</td>\n      <td>1</td>\n    </tr>\n    <tr>\n      <th>12</th>\n      <td>Consumer Durables</td>\n      <td>Negligible ESG Risk</td>\n      <td>3</td>\n    </tr>\n    <tr>\n      <th>11</th>\n      <td>Consumer Durables</td>\n      <td>Low ESG Risk</td>\n      <td>55</td>\n    </tr>\n    <tr>\n      <th>14</th>\n      <td>Consumer Services</td>\n      <td>Negligible ESG Risk</td>\n      <td>1</td>\n    </tr>\n    <tr>\n      <th>13</th>\n      <td>Consumer Services</td>\n      <td>Low ESG Risk</td>\n      <td>34</td>\n    </tr>\n    <tr>\n      <th>16</th>\n      <td>Containers &amp; Packaging</td>\n      <td>Negligible ESG Risk</td>\n      <td>3</td>\n    </tr>\n    <tr>\n      <th>15</th>\n      <td>Containers &amp; Packaging</td>\n      <td>Low ESG Risk</td>\n      <td>15</td>\n    </tr>\n    <tr>\n      <th>18</th>\n      <td>Diversified Financials</td>\n      <td>Negligible ESG Risk</td>\n      <td>3</td>\n    </tr>\n    <tr>\n      <th>17</th>\n      <td>Diversified Financials</td>\n      <td>Low ESG Risk</td>\n      <td>49</td>\n    </tr>\n    <tr>\n      <th>19</th>\n      <td>Diversified Metals</td>\n      <td>Low ESG Risk</td>\n      <td>1</td>\n    </tr>\n    <tr>\n      <th>20</th>\n      <td>Electrical Equipment</td>\n      <td>Low ESG Risk</td>\n      <td>16</td>\n    </tr>\n    <tr>\n      <th>21</th>\n      <td>Energy Services</td>\n      <td>Low ESG Risk</td>\n      <td>6</td>\n    </tr>\n    <tr>\n      <th>22</th>\n      <td>Food Products</td>\n      <td>Low ESG Risk</td>\n      <td>6</td>\n    </tr>\n    <tr>\n      <th>23</th>\n      <td>Food Retailers</td>\n      <td>Low ESG Risk</td>\n      <td>25</td>\n    </tr>\n    <tr>\n      <th>25</th>\n      <td>Healthcare</td>\n      <td>Negligible ESG Risk</td>\n      <td>1</td>\n    </tr>\n    <tr>\n      <th>24</th>\n      <td>Healthcare</td>\n      <td>Low ESG Risk</td>\n      <td>72</td>\n    </tr>\n    <tr>\n      <th>27</th>\n      <td>Homebuilders</td>\n      <td>Negligible ESG Risk</td>\n      <td>1</td>\n    </tr>\n    <tr>\n      <th>26</th>\n      <td>Homebuilders</td>\n      <td>Low ESG Risk</td>\n      <td>20</td>\n    </tr>\n    <tr>\n      <th>28</th>\n      <td>Household Products</td>\n      <td>Low ESG Risk</td>\n      <td>2</td>\n    </tr>\n    <tr>\n      <th>29</th>\n      <td>Insurance</td>\n      <td>Low ESG Risk</td>\n      <td>25</td>\n    </tr>\n    <tr>\n      <th>30</th>\n      <td>Machinery</td>\n      <td>Low ESG Risk</td>\n      <td>24</td>\n    </tr>\n    <tr>\n      <th>32</th>\n      <td>Media</td>\n      <td>Negligible ESG Risk</td>\n      <td>8</td>\n    </tr>\n    <tr>\n      <th>31</th>\n      <td>Media</td>\n      <td>Low ESG Risk</td>\n      <td>80</td>\n    </tr>\n    <tr>\n      <th>33</th>\n      <td>Oil &amp; Gas Producers</td>\n      <td>Negligible ESG Risk</td>\n      <td>1</td>\n    </tr>\n    <tr>\n      <th>34</th>\n      <td>Paper &amp; Forestry</td>\n      <td>Low ESG Risk</td>\n      <td>4</td>\n    </tr>\n    <tr>\n      <th>35</th>\n      <td>Pharmaceuticals</td>\n      <td>Low ESG Risk</td>\n      <td>44</td>\n    </tr>\n    <tr>\n      <th>36</th>\n      <td>Precious Metals</td>\n      <td>Negligible ESG Risk</td>\n      <td>1</td>\n    </tr>\n    <tr>\n      <th>38</th>\n      <td>Real Estate</td>\n      <td>Negligible ESG Risk</td>\n      <td>36</td>\n    </tr>\n    <tr>\n      <th>37</th>\n      <td>Real Estate</td>\n      <td>Low ESG Risk</td>\n      <td>236</td>\n    </tr>\n    <tr>\n      <th>39</th>\n      <td>Refiners &amp; Pipelines</td>\n      <td>Low ESG Risk</td>\n      <td>2</td>\n    </tr>\n    <tr>\n      <th>41</th>\n      <td>Retailing</td>\n      <td>Negligible ESG Risk</td>\n      <td>5</td>\n    </tr>\n    <tr>\n      <th>40</th>\n      <td>Retailing</td>\n      <td>Low ESG Risk</td>\n      <td>150</td>\n    </tr>\n    <tr>\n      <th>42</th>\n      <td>Semiconductors</td>\n      <td>Low ESG Risk</td>\n      <td>48</td>\n    </tr>\n    <tr>\n      <th>44</th>\n      <td>Software &amp; Services</td>\n      <td>Negligible ESG Risk</td>\n      <td>2</td>\n    </tr>\n    <tr>\n      <th>43</th>\n      <td>Software &amp; Services</td>\n      <td>Low ESG Risk</td>\n      <td>179</td>\n    </tr>\n    <tr>\n      <th>46</th>\n      <td>Technology Hardware</td>\n      <td>Negligible ESG Risk</td>\n      <td>32</td>\n    </tr>\n    <tr>\n      <th>45</th>\n      <td>Technology Hardware</td>\n      <td>Low ESG Risk</td>\n      <td>131</td>\n    </tr>\n    <tr>\n      <th>47</th>\n      <td>Telecommunication Services</td>\n      <td>Low ESG Risk</td>\n      <td>9</td>\n    </tr>\n    <tr>\n      <th>49</th>\n      <td>Textiles &amp; Apparel</td>\n      <td>Negligible ESG Risk</td>\n      <td>2</td>\n    </tr>\n    <tr>\n      <th>48</th>\n      <td>Textiles &amp; Apparel</td>\n      <td>Low ESG Risk</td>\n      <td>36</td>\n    </tr>\n    <tr>\n      <th>50</th>\n      <td>Traders &amp; Distributors</td>\n      <td>Low ESG Risk</td>\n      <td>23</td>\n    </tr>\n    <tr>\n      <th>51</th>\n      <td>Transportation</td>\n      <td>Low ESG Risk</td>\n      <td>37</td>\n    </tr>\n    <tr>\n      <th>52</th>\n      <td>Transportation Infrastructure</td>\n      <td>Low ESG Risk</td>\n      <td>4</td>\n    </tr>\n    <tr>\n      <th>54</th>\n      <td>Utilities</td>\n      <td>Negligible ESG Risk</td>\n      <td>2</td>\n    </tr>\n    <tr>\n      <th>53</th>\n      <td>Utilities</td>\n      <td>Low ESG Risk</td>\n      <td>17</td>\n    </tr>\n  </tbody>\n</table>\n</div>"
     },
     "execution_count": 26,
     "metadata": {},
     "output_type": "execute_result"
    }
   ],
   "source": [
    "# Group by the first and second columns and count the occurrences\n",
    "df_filtered_grouped = df_filtered.groupby(['industry', 'company_esg_score_group']).size().reset_index(name='Count')\n",
    "df_filtered_grouped = df_filtered_grouped.sort_values(by=['industry', 'company_esg_score_group'], ascending=[True, False])\n",
    "df_filtered_grouped"
   ],
   "metadata": {
    "collapsed": false,
    "ExecuteTime": {
     "end_time": "2024-07-17T23:12:06.344188Z",
     "start_time": "2024-07-17T23:12:06.273034Z"
    }
   },
   "id": "954bc2380e8a5abc"
  },
  {
   "cell_type": "code",
   "execution_count": 27,
   "outputs": [],
   "source": [
    "df_filtered.to_csv('../data/data_2_esg_filtered.csv')"
   ],
   "metadata": {
    "collapsed": false,
    "ExecuteTime": {
     "end_time": "2024-07-17T23:12:06.344635Z",
     "start_time": "2024-07-17T23:12:06.280681Z"
    }
   },
   "id": "3492947db0978850"
  },
  {
   "cell_type": "markdown",
   "source": [
    "### Adding market capital of companies"
   ],
   "metadata": {
    "collapsed": false
   },
   "id": "642bdf2f2f97fef0"
  },
  {
   "cell_type": "code",
   "execution_count": 28,
   "outputs": [
    {
     "data": {
      "text/plain": "      Unnamed: 0                     company_name  company_esg_score  \\\n0           3498                     RS Group Plc                4.5   \n1           3486        Kimball Electronics, Inc.                4.5   \n2           2100                TAG Immobilien AG                4.6   \n3           2068                LEG Immobilien SE                5.1   \n4            521                  Steelcase, Inc.                5.3   \n...          ...                              ...                ...   \n1657        3676  KVH Industries, Inc. (Delaware)               20.0   \n1658        2905                Moonpig Group Plc               20.0   \n1659        1963                NeoGenomics, Inc.               20.0   \n1660        3057         Japan Material Co., Ltd.               20.0   \n1661        4160              Union Pacific Corp.               20.0   \n\n     company_esg_score_group             industry stock_exchange  \\\n0        Negligible ESG Risk  Technology Hardware            LON   \n1        Negligible ESG Risk  Technology Hardware            NAS   \n2        Negligible ESG Risk          Real Estate            ETR   \n3        Negligible ESG Risk          Real Estate            ETR   \n4        Negligible ESG Risk  Commercial Services            NYS   \n...                      ...                  ...            ...   \n1657            Low ESG Risk  Technology Hardware            NAS   \n1658            Low ESG Risk            Retailing            LON   \n1659            Low ESG Risk      Pharmaceuticals            NAS   \n1660            Low ESG Risk       Semiconductors            TKS   \n1661            Low ESG Risk       Transportation            NYS   \n\n     stock_ticker_symbol  \n0                  RS1.L  \n1                     KE  \n2                 TEG.DE  \n3                 LEG.DE  \n4                    SCS  \n...                  ...  \n1657                KVHI  \n1658              MOON.L  \n1659                 NEO  \n1660              6055.T  \n1661                 UNP  \n\n[1662 rows x 7 columns]",
      "text/html": "<div>\n<style scoped>\n    .dataframe tbody tr th:only-of-type {\n        vertical-align: middle;\n    }\n\n    .dataframe tbody tr th {\n        vertical-align: top;\n    }\n\n    .dataframe thead th {\n        text-align: right;\n    }\n</style>\n<table border=\"1\" class=\"dataframe\">\n  <thead>\n    <tr style=\"text-align: right;\">\n      <th></th>\n      <th>Unnamed: 0</th>\n      <th>company_name</th>\n      <th>company_esg_score</th>\n      <th>company_esg_score_group</th>\n      <th>industry</th>\n      <th>stock_exchange</th>\n      <th>stock_ticker_symbol</th>\n    </tr>\n  </thead>\n  <tbody>\n    <tr>\n      <th>0</th>\n      <td>3498</td>\n      <td>RS Group Plc</td>\n      <td>4.5</td>\n      <td>Negligible ESG Risk</td>\n      <td>Technology Hardware</td>\n      <td>LON</td>\n      <td>RS1.L</td>\n    </tr>\n    <tr>\n      <th>1</th>\n      <td>3486</td>\n      <td>Kimball Electronics, Inc.</td>\n      <td>4.5</td>\n      <td>Negligible ESG Risk</td>\n      <td>Technology Hardware</td>\n      <td>NAS</td>\n      <td>KE</td>\n    </tr>\n    <tr>\n      <th>2</th>\n      <td>2100</td>\n      <td>TAG Immobilien AG</td>\n      <td>4.6</td>\n      <td>Negligible ESG Risk</td>\n      <td>Real Estate</td>\n      <td>ETR</td>\n      <td>TEG.DE</td>\n    </tr>\n    <tr>\n      <th>3</th>\n      <td>2068</td>\n      <td>LEG Immobilien SE</td>\n      <td>5.1</td>\n      <td>Negligible ESG Risk</td>\n      <td>Real Estate</td>\n      <td>ETR</td>\n      <td>LEG.DE</td>\n    </tr>\n    <tr>\n      <th>4</th>\n      <td>521</td>\n      <td>Steelcase, Inc.</td>\n      <td>5.3</td>\n      <td>Negligible ESG Risk</td>\n      <td>Commercial Services</td>\n      <td>NYS</td>\n      <td>SCS</td>\n    </tr>\n    <tr>\n      <th>...</th>\n      <td>...</td>\n      <td>...</td>\n      <td>...</td>\n      <td>...</td>\n      <td>...</td>\n      <td>...</td>\n      <td>...</td>\n    </tr>\n    <tr>\n      <th>1657</th>\n      <td>3676</td>\n      <td>KVH Industries, Inc. (Delaware)</td>\n      <td>20.0</td>\n      <td>Low ESG Risk</td>\n      <td>Technology Hardware</td>\n      <td>NAS</td>\n      <td>KVHI</td>\n    </tr>\n    <tr>\n      <th>1658</th>\n      <td>2905</td>\n      <td>Moonpig Group Plc</td>\n      <td>20.0</td>\n      <td>Low ESG Risk</td>\n      <td>Retailing</td>\n      <td>LON</td>\n      <td>MOON.L</td>\n    </tr>\n    <tr>\n      <th>1659</th>\n      <td>1963</td>\n      <td>NeoGenomics, Inc.</td>\n      <td>20.0</td>\n      <td>Low ESG Risk</td>\n      <td>Pharmaceuticals</td>\n      <td>NAS</td>\n      <td>NEO</td>\n    </tr>\n    <tr>\n      <th>1660</th>\n      <td>3057</td>\n      <td>Japan Material Co., Ltd.</td>\n      <td>20.0</td>\n      <td>Low ESG Risk</td>\n      <td>Semiconductors</td>\n      <td>TKS</td>\n      <td>6055.T</td>\n    </tr>\n    <tr>\n      <th>1661</th>\n      <td>4160</td>\n      <td>Union Pacific Corp.</td>\n      <td>20.0</td>\n      <td>Low ESG Risk</td>\n      <td>Transportation</td>\n      <td>NYS</td>\n      <td>UNP</td>\n    </tr>\n  </tbody>\n</table>\n<p>1662 rows × 7 columns</p>\n</div>"
     },
     "execution_count": 28,
     "metadata": {},
     "output_type": "execute_result"
    }
   ],
   "source": [
    "if 'df_market_cap' not in locals():\n",
    "    df_market_cap = pd.read_csv('../data/data_2_esg_filtered.csv')\n",
    "df_market_cap"
   ],
   "metadata": {
    "collapsed": false,
    "ExecuteTime": {
     "end_time": "2024-07-17T23:12:06.345475Z",
     "start_time": "2024-07-17T23:12:06.294425Z"
    }
   },
   "id": "919f54aa194e78f6"
  },
  {
   "cell_type": "markdown",
   "source": [
    "#### Updating `stock_ticker_symbol` for Frankfurt and London\n",
    "Frankfurt & London tickers require a postfix '.DE' & '.L' respectively for Yahoo API to recognize them."
   ],
   "metadata": {
    "collapsed": false
   },
   "id": "b7344737bcaf87bd"
  },
  {
   "cell_type": "code",
   "execution_count": 29,
   "outputs": [],
   "source": [
    "# Postfix to add\n",
    "frankfurt_postfix = '.DE'\n",
    "london_postfix = '.L'\n",
    "tokyo_postfix = '.T'\n",
    "\n",
    "# Condition: Add postfix '.DE' to 'stock_exchange' column if the 'stock_ticker_symbol' column is 'ETR' (Frankfurt)\n",
    "df_market_cap['stock_ticker_symbol'] = np.where((df_market_cap['stock_exchange'] == 'ETR'), df_market_cap['stock_ticker_symbol'] + frankfurt_postfix, df_market_cap['stock_ticker_symbol'])\n",
    "\n",
    "# Condition: Add postfix '.L' to 'stock_exchange' column if the 'stock_ticker_symbol' column is 'Lon' (London)\n",
    "df_market_cap['stock_ticker_symbol'] = np.where((df_market_cap['stock_exchange'] == 'LON'), df_market_cap['stock_ticker_symbol'] + london_postfix, df_market_cap['stock_ticker_symbol'])\n",
    "\n",
    "# Condition: Add postfix '.T' to 'stock_exchange' column if the 'stock_ticker_symbol' column is 'TKS' (Tokyo)\n",
    "df_market_cap['stock_ticker_symbol'] = np.where((df_market_cap['stock_exchange'] == 'TKS'), df_market_cap['stock_ticker_symbol'] + tokyo_postfix, df_market_cap['stock_ticker_symbol'])"
   ],
   "metadata": {
    "collapsed": false,
    "ExecuteTime": {
     "end_time": "2024-07-17T23:12:06.345556Z",
     "start_time": "2024-07-17T23:12:06.299547Z"
    }
   },
   "id": "5ebe571d43b3b455"
  },
  {
   "cell_type": "code",
   "execution_count": 30,
   "outputs": [
    {
     "data": {
      "text/plain": "     stock_exchange stock_ticker_symbol\n0               LON             RS1.L.L\n1               NAS                  KE\n2               ETR           TEG.DE.DE\n3               ETR           LEG.DE.DE\n4               NYS                 SCS\n...             ...                 ...\n1657            NAS                KVHI\n1658            LON            MOON.L.L\n1659            NAS                 NEO\n1660            TKS            6055.T.T\n1661            NYS                 UNP\n\n[1662 rows x 2 columns]",
      "text/html": "<div>\n<style scoped>\n    .dataframe tbody tr th:only-of-type {\n        vertical-align: middle;\n    }\n\n    .dataframe tbody tr th {\n        vertical-align: top;\n    }\n\n    .dataframe thead th {\n        text-align: right;\n    }\n</style>\n<table border=\"1\" class=\"dataframe\">\n  <thead>\n    <tr style=\"text-align: right;\">\n      <th></th>\n      <th>stock_exchange</th>\n      <th>stock_ticker_symbol</th>\n    </tr>\n  </thead>\n  <tbody>\n    <tr>\n      <th>0</th>\n      <td>LON</td>\n      <td>RS1.L.L</td>\n    </tr>\n    <tr>\n      <th>1</th>\n      <td>NAS</td>\n      <td>KE</td>\n    </tr>\n    <tr>\n      <th>2</th>\n      <td>ETR</td>\n      <td>TEG.DE.DE</td>\n    </tr>\n    <tr>\n      <th>3</th>\n      <td>ETR</td>\n      <td>LEG.DE.DE</td>\n    </tr>\n    <tr>\n      <th>4</th>\n      <td>NYS</td>\n      <td>SCS</td>\n    </tr>\n    <tr>\n      <th>...</th>\n      <td>...</td>\n      <td>...</td>\n    </tr>\n    <tr>\n      <th>1657</th>\n      <td>NAS</td>\n      <td>KVHI</td>\n    </tr>\n    <tr>\n      <th>1658</th>\n      <td>LON</td>\n      <td>MOON.L.L</td>\n    </tr>\n    <tr>\n      <th>1659</th>\n      <td>NAS</td>\n      <td>NEO</td>\n    </tr>\n    <tr>\n      <th>1660</th>\n      <td>TKS</td>\n      <td>6055.T.T</td>\n    </tr>\n    <tr>\n      <th>1661</th>\n      <td>NYS</td>\n      <td>UNP</td>\n    </tr>\n  </tbody>\n</table>\n<p>1662 rows × 2 columns</p>\n</div>"
     },
     "execution_count": 30,
     "metadata": {},
     "output_type": "execute_result"
    }
   ],
   "source": [
    "df_market_cap[['stock_exchange', 'stock_ticker_symbol']]"
   ],
   "metadata": {
    "collapsed": false,
    "ExecuteTime": {
     "end_time": "2024-07-17T23:12:06.352283Z",
     "start_time": "2024-07-17T23:12:06.302797Z"
    }
   },
   "id": "7cd36c85d12a4cc4"
  },
  {
   "cell_type": "markdown",
   "source": [
    "## Fetch Market-Capital"
   ],
   "metadata": {
    "collapsed": false
   },
   "id": "9a9b3bca0827087c"
  },
  {
   "cell_type": "code",
   "execution_count": 31,
   "outputs": [
    {
     "name": "stdout",
     "output_type": "stream",
     "text": [
      "      Unnamed: 0 stock_ticker_symbol  market_capital\n",
      "0              0               RS1.L    3.723188e+09\n",
      "1              1                  KE    5.958660e+08\n",
      "2              2              TEG.DE    2.539239e+09\n",
      "3              3              LEG.DE    6.009704e+09\n",
      "4              4                 SCS    1.588731e+09\n",
      "...          ...                 ...             ...\n",
      "1657        1657                KVHI    9.148317e+07\n",
      "1658        1658              MOON.L    7.034287e+08\n",
      "1659        1659                 NEO    1.979536e+09\n",
      "1660        1660              6055.T    2.270510e+11\n",
      "1661        1661                 UNP    1.488027e+11\n",
      "\n",
      "[1662 rows x 3 columns]\n"
     ]
    }
   ],
   "source": [
    "# Fetch market cap in batches of 50 with a 3-second delay between batches\n",
    "if os.path.isfile('market_caps.csv'):\n",
    "    df_market_caps = data_ticker_service.fetch_market_cap(df_market_cap['stock_ticker_symbol'], batch_size=50, delay=3)\n",
    "\n",
    "df_market_caps\n"
   ],
   "metadata": {
    "collapsed": false,
    "ExecuteTime": {
     "end_time": "2024-07-17T23:12:06.353427Z",
     "start_time": "2024-07-17T23:12:06.307445Z"
    }
   },
   "id": "6bc67ded13e014ec"
  },
  {
   "cell_type": "code",
   "execution_count": 32,
   "outputs": [],
   "source": [
    "df_market_caps.to_csv('../data/data_3_market_caps.csv')"
   ],
   "metadata": {
    "collapsed": false,
    "ExecuteTime": {
     "end_time": "2024-07-17T23:12:06.353928Z",
     "start_time": "2024-07-17T23:12:06.312316Z"
    }
   },
   "id": "5432cbc034d01567"
  },
  {
   "cell_type": "code",
   "execution_count": 33,
   "outputs": [],
   "source": [
    "if 'df_market_caps' not in locals():\n",
    "    df_market_caps = pd.read_csv('../data/data_3_market_caps.csv', index_col=0)"
   ],
   "metadata": {
    "collapsed": false,
    "ExecuteTime": {
     "end_time": "2024-07-17T23:12:06.426011Z",
     "start_time": "2024-07-17T23:12:06.316956Z"
    }
   },
   "id": "ac4cc5409121e62e"
  },
  {
   "cell_type": "code",
   "execution_count": 39,
   "outputs": [
    {
     "data": {
      "text/plain": "     stock_ticker_symbol  market_capital\n0                  RS1.L    3.723188e+09\n1                     KE    5.958660e+08\n2                 TEG.DE    2.539239e+09\n3                 LEG.DE    6.009704e+09\n4                    SCS    1.588731e+09\n...                  ...             ...\n1657                KVHI    9.148317e+07\n1658              MOON.L    7.034287e+08\n1659                 NEO    1.979536e+09\n1660              6055.T    2.270510e+11\n1661                 UNP    1.488027e+11\n\n[1662 rows x 2 columns]",
      "text/html": "<div>\n<style scoped>\n    .dataframe tbody tr th:only-of-type {\n        vertical-align: middle;\n    }\n\n    .dataframe tbody tr th {\n        vertical-align: top;\n    }\n\n    .dataframe thead th {\n        text-align: right;\n    }\n</style>\n<table border=\"1\" class=\"dataframe\">\n  <thead>\n    <tr style=\"text-align: right;\">\n      <th></th>\n      <th>stock_ticker_symbol</th>\n      <th>market_capital</th>\n    </tr>\n  </thead>\n  <tbody>\n    <tr>\n      <th>0</th>\n      <td>RS1.L</td>\n      <td>3.723188e+09</td>\n    </tr>\n    <tr>\n      <th>1</th>\n      <td>KE</td>\n      <td>5.958660e+08</td>\n    </tr>\n    <tr>\n      <th>2</th>\n      <td>TEG.DE</td>\n      <td>2.539239e+09</td>\n    </tr>\n    <tr>\n      <th>3</th>\n      <td>LEG.DE</td>\n      <td>6.009704e+09</td>\n    </tr>\n    <tr>\n      <th>4</th>\n      <td>SCS</td>\n      <td>1.588731e+09</td>\n    </tr>\n    <tr>\n      <th>...</th>\n      <td>...</td>\n      <td>...</td>\n    </tr>\n    <tr>\n      <th>1657</th>\n      <td>KVHI</td>\n      <td>9.148317e+07</td>\n    </tr>\n    <tr>\n      <th>1658</th>\n      <td>MOON.L</td>\n      <td>7.034287e+08</td>\n    </tr>\n    <tr>\n      <th>1659</th>\n      <td>NEO</td>\n      <td>1.979536e+09</td>\n    </tr>\n    <tr>\n      <th>1660</th>\n      <td>6055.T</td>\n      <td>2.270510e+11</td>\n    </tr>\n    <tr>\n      <th>1661</th>\n      <td>UNP</td>\n      <td>1.488027e+11</td>\n    </tr>\n  </tbody>\n</table>\n<p>1662 rows × 2 columns</p>\n</div>"
     },
     "execution_count": 39,
     "metadata": {},
     "output_type": "execute_result"
    }
   ],
   "source": [
    "df_market_caps = df_market_caps[['stock_ticker_symbol', 'market_capital']]\n",
    "df_market_caps"
   ],
   "metadata": {
    "collapsed": false,
    "ExecuteTime": {
     "end_time": "2024-07-17T23:19:18.592587Z",
     "start_time": "2024-07-17T23:19:18.582262Z"
    }
   },
   "id": "c1727d020b80b64"
  },
  {
   "cell_type": "markdown",
   "source": [
    "Merging ESG score with market-capital of companies"
   ],
   "metadata": {
    "collapsed": false
   },
   "id": "bc19e66901b96730"
  },
  {
   "cell_type": "code",
   "execution_count": 45,
   "outputs": [
    {
     "data": {
      "text/plain": "                        company_name  company_esg_score  \\\n0          Kimball Electronics, Inc.                4.5   \n1                    Steelcase, Inc.                5.3   \n2                          HNI Corp.                5.4   \n3                        Avnet, Inc.                5.6   \n4                  ACCO Brands Corp.                5.7   \n..                               ...                ...   \n954      Halozyme Therapeutics, Inc.               19.9   \n955     Matthews International Corp.               20.0   \n956  KVH Industries, Inc. (Delaware)               20.0   \n957                NeoGenomics, Inc.               20.0   \n958              Union Pacific Corp.               20.0   \n\n    company_esg_score_group             industry stock_exchange  \\\n0       Negligible ESG Risk  Technology Hardware            NAS   \n1       Negligible ESG Risk  Commercial Services            NYS   \n2       Negligible ESG Risk  Commercial Services            NYS   \n3       Negligible ESG Risk  Technology Hardware            NAS   \n4       Negligible ESG Risk  Commercial Services            NYS   \n..                      ...                  ...            ...   \n954            Low ESG Risk      Pharmaceuticals            NAS   \n955            Low ESG Risk  Commercial Services            NAS   \n956            Low ESG Risk  Technology Hardware            NAS   \n957            Low ESG Risk      Pharmaceuticals            NAS   \n958            Low ESG Risk       Transportation            NYS   \n\n    stock_ticker_symbol  market_capital  \n0                    KE    5.958660e+08  \n1                   SCS    1.588731e+09  \n2                   HNI    2.324179e+09  \n3                   AVT    4.910356e+09  \n4                  ACCO    4.781985e+08  \n..                  ...             ...  \n954                HALO    6.968251e+09  \n955                MATW    8.512784e+08  \n956                KVHI    9.148317e+07  \n957                 NEO    1.979536e+09  \n958                 UNP    1.488027e+11  \n\n[959 rows x 7 columns]",
      "text/html": "<div>\n<style scoped>\n    .dataframe tbody tr th:only-of-type {\n        vertical-align: middle;\n    }\n\n    .dataframe tbody tr th {\n        vertical-align: top;\n    }\n\n    .dataframe thead th {\n        text-align: right;\n    }\n</style>\n<table border=\"1\" class=\"dataframe\">\n  <thead>\n    <tr style=\"text-align: right;\">\n      <th></th>\n      <th>company_name</th>\n      <th>company_esg_score</th>\n      <th>company_esg_score_group</th>\n      <th>industry</th>\n      <th>stock_exchange</th>\n      <th>stock_ticker_symbol</th>\n      <th>market_capital</th>\n    </tr>\n  </thead>\n  <tbody>\n    <tr>\n      <th>0</th>\n      <td>Kimball Electronics, Inc.</td>\n      <td>4.5</td>\n      <td>Negligible ESG Risk</td>\n      <td>Technology Hardware</td>\n      <td>NAS</td>\n      <td>KE</td>\n      <td>5.958660e+08</td>\n    </tr>\n    <tr>\n      <th>1</th>\n      <td>Steelcase, Inc.</td>\n      <td>5.3</td>\n      <td>Negligible ESG Risk</td>\n      <td>Commercial Services</td>\n      <td>NYS</td>\n      <td>SCS</td>\n      <td>1.588731e+09</td>\n    </tr>\n    <tr>\n      <th>2</th>\n      <td>HNI Corp.</td>\n      <td>5.4</td>\n      <td>Negligible ESG Risk</td>\n      <td>Commercial Services</td>\n      <td>NYS</td>\n      <td>HNI</td>\n      <td>2.324179e+09</td>\n    </tr>\n    <tr>\n      <th>3</th>\n      <td>Avnet, Inc.</td>\n      <td>5.6</td>\n      <td>Negligible ESG Risk</td>\n      <td>Technology Hardware</td>\n      <td>NAS</td>\n      <td>AVT</td>\n      <td>4.910356e+09</td>\n    </tr>\n    <tr>\n      <th>4</th>\n      <td>ACCO Brands Corp.</td>\n      <td>5.7</td>\n      <td>Negligible ESG Risk</td>\n      <td>Commercial Services</td>\n      <td>NYS</td>\n      <td>ACCO</td>\n      <td>4.781985e+08</td>\n    </tr>\n    <tr>\n      <th>...</th>\n      <td>...</td>\n      <td>...</td>\n      <td>...</td>\n      <td>...</td>\n      <td>...</td>\n      <td>...</td>\n      <td>...</td>\n    </tr>\n    <tr>\n      <th>954</th>\n      <td>Halozyme Therapeutics, Inc.</td>\n      <td>19.9</td>\n      <td>Low ESG Risk</td>\n      <td>Pharmaceuticals</td>\n      <td>NAS</td>\n      <td>HALO</td>\n      <td>6.968251e+09</td>\n    </tr>\n    <tr>\n      <th>955</th>\n      <td>Matthews International Corp.</td>\n      <td>20.0</td>\n      <td>Low ESG Risk</td>\n      <td>Commercial Services</td>\n      <td>NAS</td>\n      <td>MATW</td>\n      <td>8.512784e+08</td>\n    </tr>\n    <tr>\n      <th>956</th>\n      <td>KVH Industries, Inc. (Delaware)</td>\n      <td>20.0</td>\n      <td>Low ESG Risk</td>\n      <td>Technology Hardware</td>\n      <td>NAS</td>\n      <td>KVHI</td>\n      <td>9.148317e+07</td>\n    </tr>\n    <tr>\n      <th>957</th>\n      <td>NeoGenomics, Inc.</td>\n      <td>20.0</td>\n      <td>Low ESG Risk</td>\n      <td>Pharmaceuticals</td>\n      <td>NAS</td>\n      <td>NEO</td>\n      <td>1.979536e+09</td>\n    </tr>\n    <tr>\n      <th>958</th>\n      <td>Union Pacific Corp.</td>\n      <td>20.0</td>\n      <td>Low ESG Risk</td>\n      <td>Transportation</td>\n      <td>NYS</td>\n      <td>UNP</td>\n      <td>1.488027e+11</td>\n    </tr>\n  </tbody>\n</table>\n<p>959 rows × 7 columns</p>\n</div>"
     },
     "execution_count": 45,
     "metadata": {},
     "output_type": "execute_result"
    }
   ],
   "source": [
    "df_market_cap = pd.merge(df_market_cap, df_market_caps, on='stock_ticker_symbol', left_index=False, right_index=False)\n",
    "df_market_cap"
   ],
   "metadata": {
    "collapsed": false,
    "ExecuteTime": {
     "end_time": "2024-07-18T22:21:23.128924Z",
     "start_time": "2024-07-18T22:21:23.119868Z"
    }
   },
   "id": "c27bc71aceae4ab0"
  },
  {
   "cell_type": "markdown",
   "source": [
    "### Market Capital to Euro"
   ],
   "metadata": {
    "collapsed": false
   },
   "id": "4ab7da28cec7d5d7"
  },
  {
   "cell_type": "markdown",
   "source": [
    "To make sense of the market-capital value we have to first pick a preferred currency and convert them all to it.\n",
    "For this purpose we will be using Euro as the standard currency.\n"
   ],
   "metadata": {
    "collapsed": false
   },
   "id": "7c3981de64575f49"
  },
  {
   "cell_type": "code",
   "execution_count": 54,
   "outputs": [],
   "source": [
    "df_market_cap['market_capital_euro'] = df_market_cap['market_capital']"
   ],
   "metadata": {
    "collapsed": false,
    "ExecuteTime": {
     "end_time": "2024-07-18T23:54:51.792671Z",
     "start_time": "2024-07-18T23:54:51.791028Z"
    }
   },
   "id": "6e301636efff743f"
  },
  {
   "cell_type": "markdown",
   "source": [
    "Exchange Rate (19.08.2024)"
   ],
   "metadata": {
    "collapsed": false
   },
   "id": "7a905e17762fc5df"
  },
  {
   "cell_type": "code",
   "execution_count": 57,
   "outputs": [],
   "source": [
    "exchange_rate = {\n",
    "    \"yen_to_euro\": 0.0058,\n",
    "    \"us_to_euro\": 0.92,\n",
    "    \"pound_to_euro\": 1.19\n",
    "}"
   ],
   "metadata": {
    "collapsed": false,
    "ExecuteTime": {
     "end_time": "2024-07-19T19:50:34.108393Z",
     "start_time": "2024-07-19T19:50:34.100490Z"
    }
   },
   "id": "af38182840d88280"
  },
  {
   "cell_type": "code",
   "execution_count": 69,
   "outputs": [
    {
     "name": "stdout",
     "output_type": "stream",
     "text": [
      "                        company_name  company_esg_score  \\\n",
      "0          Kimball Electronics, Inc.                4.5   \n",
      "1                    Steelcase, Inc.                5.3   \n",
      "2                          HNI Corp.                5.4   \n",
      "3                        Avnet, Inc.                5.6   \n",
      "4                  ACCO Brands Corp.                5.7   \n",
      "..                               ...                ...   \n",
      "954      Halozyme Therapeutics, Inc.               19.9   \n",
      "955     Matthews International Corp.               20.0   \n",
      "956  KVH Industries, Inc. (Delaware)               20.0   \n",
      "957                NeoGenomics, Inc.               20.0   \n",
      "958              Union Pacific Corp.               20.0   \n",
      "\n",
      "    company_esg_score_group             industry stock_exchange  \\\n",
      "0       Negligible ESG Risk  Technology Hardware            NAS   \n",
      "1       Negligible ESG Risk  Commercial Services            NYS   \n",
      "2       Negligible ESG Risk  Commercial Services            NYS   \n",
      "3       Negligible ESG Risk  Technology Hardware            NAS   \n",
      "4       Negligible ESG Risk  Commercial Services            NYS   \n",
      "..                      ...                  ...            ...   \n",
      "954            Low ESG Risk      Pharmaceuticals            NAS   \n",
      "955            Low ESG Risk  Commercial Services            NAS   \n",
      "956            Low ESG Risk  Technology Hardware            NAS   \n",
      "957            Low ESG Risk      Pharmaceuticals            NAS   \n",
      "958            Low ESG Risk       Transportation            NYS   \n",
      "\n",
      "    stock_ticker_symbol  market_capital  market_capital_euro  \n",
      "0                    KE    5.958660e+08         5.481967e+08  \n",
      "1                   SCS    1.588731e+09         1.461633e+09  \n",
      "2                   HNI    2.324179e+09         2.138245e+09  \n",
      "3                   AVT    4.910356e+09         4.517528e+09  \n",
      "4                  ACCO    4.781985e+08         4.399426e+08  \n",
      "..                  ...             ...                  ...  \n",
      "954                HALO    6.968251e+09         6.410791e+09  \n",
      "955                MATW    8.512784e+08         7.831761e+08  \n",
      "956                KVHI    9.148317e+07         8.416451e+07  \n",
      "957                 NEO    1.979536e+09         1.821173e+09  \n",
      "958                 UNP    1.488027e+11         1.368984e+11  \n",
      "\n",
      "[959 rows x 8 columns]\n"
     ]
    }
   ],
   "source": [
    "for i, row in enumerate(df_market_cap):\n",
    "    # Yen\n",
    "    if df_market_cap['stock_exchange'][i] == 'TKS':\n",
    "        df_market_cap.at[i, 'market_capital_euro'] = df_market_cap['market_capital'][i] * exchange_rate['pound_to_euro']\n",
    "    # Dollar\n",
    "    if df_market_cap['stock_exchange'][i] == 'NYS':\n",
    "        df_market_cap.at[i, 'market_capital_euro'] = df_market_cap['market_capital'][i] * exchange_rate['us_to_euro']\n",
    "    if df_market_cap['stock_exchange'][i] == 'NAS':\n",
    "        df_market_cap.at[i, 'market_capital_euro'] = df_market_cap['market_capital'][i] * exchange_rate['us_to_euro']\n",
    "    # Pound\n",
    "    if df_market_cap['stock_exchange'][i] == 'LON':\n",
    "        df_market_cap.at[i, 'market_capital_euro'] = df_market_cap['market_capital'][i] * exchange_rate['pound_to_euro']"
   ],
   "metadata": {
    "collapsed": false,
    "ExecuteTime": {
     "end_time": "2024-07-19T20:00:40.098099Z",
     "start_time": "2024-07-19T20:00:40.091321Z"
    }
   },
   "id": "8b7612e5dc2f5750"
  },
  {
   "cell_type": "code",
   "execution_count": 72,
   "outputs": [
    {
     "data": {
      "text/plain": "                        company_name  company_esg_score  \\\n0          Kimball Electronics, Inc.                4.5   \n1                    Steelcase, Inc.                5.3   \n2                          HNI Corp.                5.4   \n3                        Avnet, Inc.                5.6   \n4                  ACCO Brands Corp.                5.7   \n..                               ...                ...   \n954      Halozyme Therapeutics, Inc.               19.9   \n955     Matthews International Corp.               20.0   \n956  KVH Industries, Inc. (Delaware)               20.0   \n957                NeoGenomics, Inc.               20.0   \n958              Union Pacific Corp.               20.0   \n\n    company_esg_score_group             industry stock_exchange  \\\n0       Negligible ESG Risk  Technology Hardware            NAS   \n1       Negligible ESG Risk  Commercial Services            NYS   \n2       Negligible ESG Risk  Commercial Services            NYS   \n3       Negligible ESG Risk  Technology Hardware            NAS   \n4       Negligible ESG Risk  Commercial Services            NYS   \n..                      ...                  ...            ...   \n954            Low ESG Risk      Pharmaceuticals            NAS   \n955            Low ESG Risk  Commercial Services            NAS   \n956            Low ESG Risk  Technology Hardware            NAS   \n957            Low ESG Risk      Pharmaceuticals            NAS   \n958            Low ESG Risk       Transportation            NYS   \n\n    stock_ticker_symbol  market_capital  market_capital_euro  \n0                    KE    5.958660e+08         5.481967e+08  \n1                   SCS    1.588731e+09         1.461633e+09  \n2                   HNI    2.324179e+09         2.138245e+09  \n3                   AVT    4.910356e+09         4.517528e+09  \n4                  ACCO    4.781985e+08         4.399426e+08  \n..                  ...             ...                  ...  \n954                HALO    6.968251e+09         6.410791e+09  \n955                MATW    8.512784e+08         7.831761e+08  \n956                KVHI    9.148317e+07         8.416451e+07  \n957                 NEO    1.979536e+09         1.821173e+09  \n958                 UNP    1.488027e+11         1.368984e+11  \n\n[959 rows x 8 columns]",
      "text/html": "<div>\n<style scoped>\n    .dataframe tbody tr th:only-of-type {\n        vertical-align: middle;\n    }\n\n    .dataframe tbody tr th {\n        vertical-align: top;\n    }\n\n    .dataframe thead th {\n        text-align: right;\n    }\n</style>\n<table border=\"1\" class=\"dataframe\">\n  <thead>\n    <tr style=\"text-align: right;\">\n      <th></th>\n      <th>company_name</th>\n      <th>company_esg_score</th>\n      <th>company_esg_score_group</th>\n      <th>industry</th>\n      <th>stock_exchange</th>\n      <th>stock_ticker_symbol</th>\n      <th>market_capital</th>\n      <th>market_capital_euro</th>\n    </tr>\n  </thead>\n  <tbody>\n    <tr>\n      <th>0</th>\n      <td>Kimball Electronics, Inc.</td>\n      <td>4.5</td>\n      <td>Negligible ESG Risk</td>\n      <td>Technology Hardware</td>\n      <td>NAS</td>\n      <td>KE</td>\n      <td>5.958660e+08</td>\n      <td>5.481967e+08</td>\n    </tr>\n    <tr>\n      <th>1</th>\n      <td>Steelcase, Inc.</td>\n      <td>5.3</td>\n      <td>Negligible ESG Risk</td>\n      <td>Commercial Services</td>\n      <td>NYS</td>\n      <td>SCS</td>\n      <td>1.588731e+09</td>\n      <td>1.461633e+09</td>\n    </tr>\n    <tr>\n      <th>2</th>\n      <td>HNI Corp.</td>\n      <td>5.4</td>\n      <td>Negligible ESG Risk</td>\n      <td>Commercial Services</td>\n      <td>NYS</td>\n      <td>HNI</td>\n      <td>2.324179e+09</td>\n      <td>2.138245e+09</td>\n    </tr>\n    <tr>\n      <th>3</th>\n      <td>Avnet, Inc.</td>\n      <td>5.6</td>\n      <td>Negligible ESG Risk</td>\n      <td>Technology Hardware</td>\n      <td>NAS</td>\n      <td>AVT</td>\n      <td>4.910356e+09</td>\n      <td>4.517528e+09</td>\n    </tr>\n    <tr>\n      <th>4</th>\n      <td>ACCO Brands Corp.</td>\n      <td>5.7</td>\n      <td>Negligible ESG Risk</td>\n      <td>Commercial Services</td>\n      <td>NYS</td>\n      <td>ACCO</td>\n      <td>4.781985e+08</td>\n      <td>4.399426e+08</td>\n    </tr>\n    <tr>\n      <th>...</th>\n      <td>...</td>\n      <td>...</td>\n      <td>...</td>\n      <td>...</td>\n      <td>...</td>\n      <td>...</td>\n      <td>...</td>\n      <td>...</td>\n    </tr>\n    <tr>\n      <th>954</th>\n      <td>Halozyme Therapeutics, Inc.</td>\n      <td>19.9</td>\n      <td>Low ESG Risk</td>\n      <td>Pharmaceuticals</td>\n      <td>NAS</td>\n      <td>HALO</td>\n      <td>6.968251e+09</td>\n      <td>6.410791e+09</td>\n    </tr>\n    <tr>\n      <th>955</th>\n      <td>Matthews International Corp.</td>\n      <td>20.0</td>\n      <td>Low ESG Risk</td>\n      <td>Commercial Services</td>\n      <td>NAS</td>\n      <td>MATW</td>\n      <td>8.512784e+08</td>\n      <td>7.831761e+08</td>\n    </tr>\n    <tr>\n      <th>956</th>\n      <td>KVH Industries, Inc. (Delaware)</td>\n      <td>20.0</td>\n      <td>Low ESG Risk</td>\n      <td>Technology Hardware</td>\n      <td>NAS</td>\n      <td>KVHI</td>\n      <td>9.148317e+07</td>\n      <td>8.416451e+07</td>\n    </tr>\n    <tr>\n      <th>957</th>\n      <td>NeoGenomics, Inc.</td>\n      <td>20.0</td>\n      <td>Low ESG Risk</td>\n      <td>Pharmaceuticals</td>\n      <td>NAS</td>\n      <td>NEO</td>\n      <td>1.979536e+09</td>\n      <td>1.821173e+09</td>\n    </tr>\n    <tr>\n      <th>958</th>\n      <td>Union Pacific Corp.</td>\n      <td>20.0</td>\n      <td>Low ESG Risk</td>\n      <td>Transportation</td>\n      <td>NYS</td>\n      <td>UNP</td>\n      <td>1.488027e+11</td>\n      <td>1.368984e+11</td>\n    </tr>\n  </tbody>\n</table>\n<p>959 rows × 8 columns</p>\n</div>"
     },
     "execution_count": 72,
     "metadata": {},
     "output_type": "execute_result"
    }
   ],
   "source": [
    "df_market_cap.to_csv('../data/data_4_market_cap_euro.csv')\n",
    "df_market_cap"
   ],
   "metadata": {
    "collapsed": false,
    "ExecuteTime": {
     "end_time": "2024-07-19T21:13:42.268574Z",
     "start_time": "2024-07-19T21:13:42.235608Z"
    }
   },
   "id": "1cdb3a99b3b74076"
  },
  {
   "cell_type": "markdown",
   "source": [
    "### Column normalization\n",
    "\n",
    "Since ESG-Score and market-capital are on different scales, it's important to normalize them so they can be compared directly."
   ],
   "metadata": {
    "collapsed": false
   },
   "id": "2b2e2408a475fc8a"
  },
  {
   "cell_type": "code",
   "execution_count": 11,
   "outputs": [],
   "source": [
    "df_scaled = pd.read_csv('../data/data_4_market_cap_euro.csv')"
   ],
   "metadata": {
    "collapsed": false,
    "ExecuteTime": {
     "end_time": "2024-07-22T22:43:34.164539Z",
     "start_time": "2024-07-22T22:43:34.118233Z"
    }
   },
   "id": "ab7e99f0e73a51c0"
  },
  {
   "cell_type": "code",
   "execution_count": 12,
   "outputs": [],
   "source": [
    "# Normalize ESG-Score and market-capital\n",
    "scaler = MinMaxScaler()\n",
    "df_scaled[['company_esg_score_scale', 'market_capital_scale']] = scaler.fit_transform(df_scaled[['company_esg_score', 'market_capital_euro']])"
   ],
   "metadata": {
    "collapsed": false,
    "ExecuteTime": {
     "end_time": "2024-07-22T22:43:34.193663Z",
     "start_time": "2024-07-22T22:43:34.131802Z"
    }
   },
   "id": "353b22d104d415ee"
  },
  {
   "cell_type": "code",
   "execution_count": 13,
   "outputs": [
    {
     "data": {
      "text/plain": "     Unnamed: 0                     company_name  company_esg_score  \\\n0             0        Kimball Electronics, Inc.                4.5   \n1             1                  Steelcase, Inc.                5.3   \n2             2                        HNI Corp.                5.4   \n3             3                      Avnet, Inc.                5.6   \n4             4                ACCO Brands Corp.                5.7   \n..          ...                              ...                ...   \n954         954      Halozyme Therapeutics, Inc.               19.9   \n955         955     Matthews International Corp.               20.0   \n956         956  KVH Industries, Inc. (Delaware)               20.0   \n957         957                NeoGenomics, Inc.               20.0   \n958         958              Union Pacific Corp.               20.0   \n\n    company_esg_score_group             industry stock_exchange  \\\n0       Negligible ESG Risk  Technology Hardware            NAS   \n1       Negligible ESG Risk  Commercial Services            NYS   \n2       Negligible ESG Risk  Commercial Services            NYS   \n3       Negligible ESG Risk  Technology Hardware            NAS   \n4       Negligible ESG Risk  Commercial Services            NYS   \n..                      ...                  ...            ...   \n954            Low ESG Risk      Pharmaceuticals            NAS   \n955            Low ESG Risk  Commercial Services            NAS   \n956            Low ESG Risk  Technology Hardware            NAS   \n957            Low ESG Risk      Pharmaceuticals            NAS   \n958            Low ESG Risk       Transportation            NYS   \n\n    stock_ticker_symbol  market_capital  market_capital_euro  \\\n0                    KE    5.958660e+08         5.481967e+08   \n1                   SCS    1.588731e+09         1.461633e+09   \n2                   HNI    2.324179e+09         2.138245e+09   \n3                   AVT    4.910356e+09         4.517528e+09   \n4                  ACCO    4.781985e+08         4.399426e+08   \n..                  ...             ...                  ...   \n954                HALO    6.968251e+09         6.410791e+09   \n955                MATW    8.512784e+08         7.831761e+08   \n956                KVHI    9.148317e+07         8.416451e+07   \n957                 NEO    1.979536e+09         1.821173e+09   \n958                 UNP    1.488027e+11         1.368984e+11   \n\n     company_esg_score_scale  market_capital_scale  \n0                   0.000000              0.000159  \n1                   0.051613              0.000442  \n2                   0.058065              0.000652  \n3                   0.070968              0.001389  \n4                   0.077419              0.000126  \n..                       ...                   ...  \n954                 0.993548              0.001975  \n955                 1.000000              0.000232  \n956                 1.000000              0.000016  \n957                 1.000000              0.000554  \n958                 1.000000              0.042388  \n\n[959 rows x 11 columns]",
      "text/html": "<div>\n<style scoped>\n    .dataframe tbody tr th:only-of-type {\n        vertical-align: middle;\n    }\n\n    .dataframe tbody tr th {\n        vertical-align: top;\n    }\n\n    .dataframe thead th {\n        text-align: right;\n    }\n</style>\n<table border=\"1\" class=\"dataframe\">\n  <thead>\n    <tr style=\"text-align: right;\">\n      <th></th>\n      <th>Unnamed: 0</th>\n      <th>company_name</th>\n      <th>company_esg_score</th>\n      <th>company_esg_score_group</th>\n      <th>industry</th>\n      <th>stock_exchange</th>\n      <th>stock_ticker_symbol</th>\n      <th>market_capital</th>\n      <th>market_capital_euro</th>\n      <th>company_esg_score_scale</th>\n      <th>market_capital_scale</th>\n    </tr>\n  </thead>\n  <tbody>\n    <tr>\n      <th>0</th>\n      <td>0</td>\n      <td>Kimball Electronics, Inc.</td>\n      <td>4.5</td>\n      <td>Negligible ESG Risk</td>\n      <td>Technology Hardware</td>\n      <td>NAS</td>\n      <td>KE</td>\n      <td>5.958660e+08</td>\n      <td>5.481967e+08</td>\n      <td>0.000000</td>\n      <td>0.000159</td>\n    </tr>\n    <tr>\n      <th>1</th>\n      <td>1</td>\n      <td>Steelcase, Inc.</td>\n      <td>5.3</td>\n      <td>Negligible ESG Risk</td>\n      <td>Commercial Services</td>\n      <td>NYS</td>\n      <td>SCS</td>\n      <td>1.588731e+09</td>\n      <td>1.461633e+09</td>\n      <td>0.051613</td>\n      <td>0.000442</td>\n    </tr>\n    <tr>\n      <th>2</th>\n      <td>2</td>\n      <td>HNI Corp.</td>\n      <td>5.4</td>\n      <td>Negligible ESG Risk</td>\n      <td>Commercial Services</td>\n      <td>NYS</td>\n      <td>HNI</td>\n      <td>2.324179e+09</td>\n      <td>2.138245e+09</td>\n      <td>0.058065</td>\n      <td>0.000652</td>\n    </tr>\n    <tr>\n      <th>3</th>\n      <td>3</td>\n      <td>Avnet, Inc.</td>\n      <td>5.6</td>\n      <td>Negligible ESG Risk</td>\n      <td>Technology Hardware</td>\n      <td>NAS</td>\n      <td>AVT</td>\n      <td>4.910356e+09</td>\n      <td>4.517528e+09</td>\n      <td>0.070968</td>\n      <td>0.001389</td>\n    </tr>\n    <tr>\n      <th>4</th>\n      <td>4</td>\n      <td>ACCO Brands Corp.</td>\n      <td>5.7</td>\n      <td>Negligible ESG Risk</td>\n      <td>Commercial Services</td>\n      <td>NYS</td>\n      <td>ACCO</td>\n      <td>4.781985e+08</td>\n      <td>4.399426e+08</td>\n      <td>0.077419</td>\n      <td>0.000126</td>\n    </tr>\n    <tr>\n      <th>...</th>\n      <td>...</td>\n      <td>...</td>\n      <td>...</td>\n      <td>...</td>\n      <td>...</td>\n      <td>...</td>\n      <td>...</td>\n      <td>...</td>\n      <td>...</td>\n      <td>...</td>\n      <td>...</td>\n    </tr>\n    <tr>\n      <th>954</th>\n      <td>954</td>\n      <td>Halozyme Therapeutics, Inc.</td>\n      <td>19.9</td>\n      <td>Low ESG Risk</td>\n      <td>Pharmaceuticals</td>\n      <td>NAS</td>\n      <td>HALO</td>\n      <td>6.968251e+09</td>\n      <td>6.410791e+09</td>\n      <td>0.993548</td>\n      <td>0.001975</td>\n    </tr>\n    <tr>\n      <th>955</th>\n      <td>955</td>\n      <td>Matthews International Corp.</td>\n      <td>20.0</td>\n      <td>Low ESG Risk</td>\n      <td>Commercial Services</td>\n      <td>NAS</td>\n      <td>MATW</td>\n      <td>8.512784e+08</td>\n      <td>7.831761e+08</td>\n      <td>1.000000</td>\n      <td>0.000232</td>\n    </tr>\n    <tr>\n      <th>956</th>\n      <td>956</td>\n      <td>KVH Industries, Inc. (Delaware)</td>\n      <td>20.0</td>\n      <td>Low ESG Risk</td>\n      <td>Technology Hardware</td>\n      <td>NAS</td>\n      <td>KVHI</td>\n      <td>9.148317e+07</td>\n      <td>8.416451e+07</td>\n      <td>1.000000</td>\n      <td>0.000016</td>\n    </tr>\n    <tr>\n      <th>957</th>\n      <td>957</td>\n      <td>NeoGenomics, Inc.</td>\n      <td>20.0</td>\n      <td>Low ESG Risk</td>\n      <td>Pharmaceuticals</td>\n      <td>NAS</td>\n      <td>NEO</td>\n      <td>1.979536e+09</td>\n      <td>1.821173e+09</td>\n      <td>1.000000</td>\n      <td>0.000554</td>\n    </tr>\n    <tr>\n      <th>958</th>\n      <td>958</td>\n      <td>Union Pacific Corp.</td>\n      <td>20.0</td>\n      <td>Low ESG Risk</td>\n      <td>Transportation</td>\n      <td>NYS</td>\n      <td>UNP</td>\n      <td>1.488027e+11</td>\n      <td>1.368984e+11</td>\n      <td>1.000000</td>\n      <td>0.042388</td>\n    </tr>\n  </tbody>\n</table>\n<p>959 rows × 11 columns</p>\n</div>"
     },
     "execution_count": 13,
     "metadata": {},
     "output_type": "execute_result"
    }
   ],
   "source": [
    "df_scaled"
   ],
   "metadata": {
    "collapsed": false,
    "ExecuteTime": {
     "end_time": "2024-07-22T22:43:34.217700Z",
     "start_time": "2024-07-22T22:43:34.137325Z"
    }
   },
   "id": "f7de008f4bd802c2"
  },
  {
   "cell_type": "markdown",
   "source": [
    "To create a final score, we use the ESG score and the market capital score, applying the following weights: the ESG score is multiplied by a coefficient of 0.25, and the market capital score is multiplied by a coefficient of 0.75."
   ],
   "metadata": {
    "collapsed": false
   },
   "id": "bd746ffd2e5c7cfe"
  },
  {
   "cell_type": "code",
   "execution_count": 14,
   "outputs": [
    {
     "data": {
      "text/plain": "     Unnamed: 0                                       company_name  \\\n560         560                                        Apple, Inc.   \n282         282                                    Microsoft Corp.   \n217         217                                       NVIDIA Corp.   \n821         821                                      Broadcom Inc.   \n584         584                           UnitedHealth Group, Inc.   \n..          ...                                                ...   \n1             1                                    Steelcase, Inc.   \n0             0                          Kimball Electronics, Inc.   \n594         594                          Triton International Ltd.   \n645         645  National Rural Utilities Cooperative Finance C...   \n707         707                     Lions Gate Entertainment Corp.   \n\n     company_esg_score company_esg_score_group             industry  \\\n560               16.8            Low ESG Risk  Technology Hardware   \n282               14.2            Low ESG Risk  Software & Services   \n217               13.2            Low ESG Risk       Semiconductors   \n821               18.9            Low ESG Risk       Semiconductors   \n584               17.0            Low ESG Risk           Healthcare   \n..                 ...                     ...                  ...   \n1                  5.3     Negligible ESG Risk  Commercial Services   \n0                  4.5     Negligible ESG Risk  Technology Hardware   \n594               17.1            Low ESG Risk  Commercial Services   \n645               17.6            Low ESG Risk                Banks   \n707               18.1            Low ESG Risk                Media   \n\n    stock_exchange stock_ticker_symbol  market_capital  market_capital_euro  \\\n560            NAS                AAPL    3.509669e+12         3.228895e+12   \n282            NAS                MSFT    3.296378e+12         3.032668e+12   \n217            NAS                NVDA    2.902354e+12         2.670165e+12   \n821            NAS                AVGO    7.260681e+11         6.679827e+11   \n584            NYS                 UNH    5.276384e+11         4.854273e+11   \n..             ...                 ...             ...                  ...   \n1              NYS                 SCS    1.588731e+09         1.461633e+09   \n0              NAS                  KE    5.958660e+08         5.481967e+08   \n594            NYS            TRTN.PRE             NaN                  NaN   \n645            NYS                NRUC             NaN                  NaN   \n707            NYS               LGF.A             NaN                  NaN   \n\n     company_esg_score_scale  market_capital_scale     score  \n560                 0.793548              1.000000  0.948387  \n282                 0.625806              0.939227  0.860872  \n217                 0.561290              0.826958  0.760541  \n821                 0.929032              0.206868  0.387409  \n584                 0.806452              0.150330  0.314360  \n..                       ...                   ...       ...  \n1                   0.051613              0.000442  0.013235  \n0                   0.000000              0.000159  0.000120  \n594                 0.812903                   NaN       NaN  \n645                 0.845161                   NaN       NaN  \n707                 0.877419                   NaN       NaN  \n\n[959 rows x 12 columns]",
      "text/html": "<div>\n<style scoped>\n    .dataframe tbody tr th:only-of-type {\n        vertical-align: middle;\n    }\n\n    .dataframe tbody tr th {\n        vertical-align: top;\n    }\n\n    .dataframe thead th {\n        text-align: right;\n    }\n</style>\n<table border=\"1\" class=\"dataframe\">\n  <thead>\n    <tr style=\"text-align: right;\">\n      <th></th>\n      <th>Unnamed: 0</th>\n      <th>company_name</th>\n      <th>company_esg_score</th>\n      <th>company_esg_score_group</th>\n      <th>industry</th>\n      <th>stock_exchange</th>\n      <th>stock_ticker_symbol</th>\n      <th>market_capital</th>\n      <th>market_capital_euro</th>\n      <th>company_esg_score_scale</th>\n      <th>market_capital_scale</th>\n      <th>score</th>\n    </tr>\n  </thead>\n  <tbody>\n    <tr>\n      <th>560</th>\n      <td>560</td>\n      <td>Apple, Inc.</td>\n      <td>16.8</td>\n      <td>Low ESG Risk</td>\n      <td>Technology Hardware</td>\n      <td>NAS</td>\n      <td>AAPL</td>\n      <td>3.509669e+12</td>\n      <td>3.228895e+12</td>\n      <td>0.793548</td>\n      <td>1.000000</td>\n      <td>0.948387</td>\n    </tr>\n    <tr>\n      <th>282</th>\n      <td>282</td>\n      <td>Microsoft Corp.</td>\n      <td>14.2</td>\n      <td>Low ESG Risk</td>\n      <td>Software &amp; Services</td>\n      <td>NAS</td>\n      <td>MSFT</td>\n      <td>3.296378e+12</td>\n      <td>3.032668e+12</td>\n      <td>0.625806</td>\n      <td>0.939227</td>\n      <td>0.860872</td>\n    </tr>\n    <tr>\n      <th>217</th>\n      <td>217</td>\n      <td>NVIDIA Corp.</td>\n      <td>13.2</td>\n      <td>Low ESG Risk</td>\n      <td>Semiconductors</td>\n      <td>NAS</td>\n      <td>NVDA</td>\n      <td>2.902354e+12</td>\n      <td>2.670165e+12</td>\n      <td>0.561290</td>\n      <td>0.826958</td>\n      <td>0.760541</td>\n    </tr>\n    <tr>\n      <th>821</th>\n      <td>821</td>\n      <td>Broadcom Inc.</td>\n      <td>18.9</td>\n      <td>Low ESG Risk</td>\n      <td>Semiconductors</td>\n      <td>NAS</td>\n      <td>AVGO</td>\n      <td>7.260681e+11</td>\n      <td>6.679827e+11</td>\n      <td>0.929032</td>\n      <td>0.206868</td>\n      <td>0.387409</td>\n    </tr>\n    <tr>\n      <th>584</th>\n      <td>584</td>\n      <td>UnitedHealth Group, Inc.</td>\n      <td>17.0</td>\n      <td>Low ESG Risk</td>\n      <td>Healthcare</td>\n      <td>NYS</td>\n      <td>UNH</td>\n      <td>5.276384e+11</td>\n      <td>4.854273e+11</td>\n      <td>0.806452</td>\n      <td>0.150330</td>\n      <td>0.314360</td>\n    </tr>\n    <tr>\n      <th>...</th>\n      <td>...</td>\n      <td>...</td>\n      <td>...</td>\n      <td>...</td>\n      <td>...</td>\n      <td>...</td>\n      <td>...</td>\n      <td>...</td>\n      <td>...</td>\n      <td>...</td>\n      <td>...</td>\n      <td>...</td>\n    </tr>\n    <tr>\n      <th>1</th>\n      <td>1</td>\n      <td>Steelcase, Inc.</td>\n      <td>5.3</td>\n      <td>Negligible ESG Risk</td>\n      <td>Commercial Services</td>\n      <td>NYS</td>\n      <td>SCS</td>\n      <td>1.588731e+09</td>\n      <td>1.461633e+09</td>\n      <td>0.051613</td>\n      <td>0.000442</td>\n      <td>0.013235</td>\n    </tr>\n    <tr>\n      <th>0</th>\n      <td>0</td>\n      <td>Kimball Electronics, Inc.</td>\n      <td>4.5</td>\n      <td>Negligible ESG Risk</td>\n      <td>Technology Hardware</td>\n      <td>NAS</td>\n      <td>KE</td>\n      <td>5.958660e+08</td>\n      <td>5.481967e+08</td>\n      <td>0.000000</td>\n      <td>0.000159</td>\n      <td>0.000120</td>\n    </tr>\n    <tr>\n      <th>594</th>\n      <td>594</td>\n      <td>Triton International Ltd.</td>\n      <td>17.1</td>\n      <td>Low ESG Risk</td>\n      <td>Commercial Services</td>\n      <td>NYS</td>\n      <td>TRTN.PRE</td>\n      <td>NaN</td>\n      <td>NaN</td>\n      <td>0.812903</td>\n      <td>NaN</td>\n      <td>NaN</td>\n    </tr>\n    <tr>\n      <th>645</th>\n      <td>645</td>\n      <td>National Rural Utilities Cooperative Finance C...</td>\n      <td>17.6</td>\n      <td>Low ESG Risk</td>\n      <td>Banks</td>\n      <td>NYS</td>\n      <td>NRUC</td>\n      <td>NaN</td>\n      <td>NaN</td>\n      <td>0.845161</td>\n      <td>NaN</td>\n      <td>NaN</td>\n    </tr>\n    <tr>\n      <th>707</th>\n      <td>707</td>\n      <td>Lions Gate Entertainment Corp.</td>\n      <td>18.1</td>\n      <td>Low ESG Risk</td>\n      <td>Media</td>\n      <td>NYS</td>\n      <td>LGF.A</td>\n      <td>NaN</td>\n      <td>NaN</td>\n      <td>0.877419</td>\n      <td>NaN</td>\n      <td>NaN</td>\n    </tr>\n  </tbody>\n</table>\n<p>959 rows × 12 columns</p>\n</div>"
     },
     "execution_count": 14,
     "metadata": {},
     "output_type": "execute_result"
    }
   ],
   "source": [
    "# Create final score\n",
    "coefficient_esg_score = 0.25\n",
    "coefficient_market_capital = 0.75\n",
    "df_scaled['score'] = df_scaled['company_esg_score_scale'] * coefficient_esg_score + df_scaled['market_capital_scale'] * coefficient_market_capital\n",
    "\n",
    "# Sort by score\n",
    "df_scaled.sort_values(by='score', ascending=False)"
   ],
   "metadata": {
    "collapsed": false,
    "ExecuteTime": {
     "end_time": "2024-07-22T22:43:34.218554Z",
     "start_time": "2024-07-22T22:43:34.153609Z"
    }
   },
   "id": "733e039a09f3f626"
  },
  {
   "cell_type": "code",
   "execution_count": 18,
   "outputs": [],
   "source": [
    "columns_relevant = ['company_name', 'industry', 'stock_exchange', 'stock_ticker_symbol', 'market_capital_euro', 'score']\n",
    "df_scaled[columns_relevant].to_csv('../data/data_5_scaled.csv')"
   ],
   "metadata": {
    "collapsed": false,
    "ExecuteTime": {
     "end_time": "2024-07-22T22:44:15.613488Z",
     "start_time": "2024-07-22T22:44:15.596716Z"
    }
   },
   "id": "375be605901cd29c"
  },
  {
   "cell_type": "markdown",
   "source": [
    "## Historical returns\n",
    "Historical returns are analyzed over the past 25 years. This timeframe is chosen because it captures both short-term volatility and long-term market disruptions, while filtering out the daily or monthly fluctuations."
   ],
   "metadata": {
    "collapsed": false
   },
   "id": "d9b3e3cf88a6c8a6"
  },
  {
   "cell_type": "code",
   "execution_count": 79,
   "outputs": [],
   "source": [
    "df_returns = pd.read_csv('../data/data_5_scaled.csv', index_col=0)"
   ],
   "metadata": {
    "collapsed": false,
    "ExecuteTime": {
     "end_time": "2024-07-24T19:53:52.147909Z",
     "start_time": "2024-07-24T19:53:52.106996Z"
    }
   },
   "id": "58fb29a01a88c208"
  },
  {
   "cell_type": "code",
   "execution_count": 80,
   "outputs": [
    {
     "data": {
      "text/plain": "                company_name             industry stock_exchange  \\\n0  Kimball Electronics, Inc.  Technology Hardware            NAS   \n1            Steelcase, Inc.  Commercial Services            NYS   \n2                  HNI Corp.  Commercial Services            NYS   \n3                Avnet, Inc.  Technology Hardware            NAS   \n4          ACCO Brands Corp.  Commercial Services            NYS   \n\n  stock_ticker_symbol  market_capital_euro     score  \n0                  KE         5.481967e+08  0.000120  \n1                 SCS         1.461633e+09  0.013235  \n2                 HNI         2.138245e+09  0.015005  \n3                 AVT         4.517528e+09  0.018784  \n4                ACCO         4.399426e+08  0.019449  ",
      "text/html": "<div>\n<style scoped>\n    .dataframe tbody tr th:only-of-type {\n        vertical-align: middle;\n    }\n\n    .dataframe tbody tr th {\n        vertical-align: top;\n    }\n\n    .dataframe thead th {\n        text-align: right;\n    }\n</style>\n<table border=\"1\" class=\"dataframe\">\n  <thead>\n    <tr style=\"text-align: right;\">\n      <th></th>\n      <th>company_name</th>\n      <th>industry</th>\n      <th>stock_exchange</th>\n      <th>stock_ticker_symbol</th>\n      <th>market_capital_euro</th>\n      <th>score</th>\n    </tr>\n  </thead>\n  <tbody>\n    <tr>\n      <th>0</th>\n      <td>Kimball Electronics, Inc.</td>\n      <td>Technology Hardware</td>\n      <td>NAS</td>\n      <td>KE</td>\n      <td>5.481967e+08</td>\n      <td>0.000120</td>\n    </tr>\n    <tr>\n      <th>1</th>\n      <td>Steelcase, Inc.</td>\n      <td>Commercial Services</td>\n      <td>NYS</td>\n      <td>SCS</td>\n      <td>1.461633e+09</td>\n      <td>0.013235</td>\n    </tr>\n    <tr>\n      <th>2</th>\n      <td>HNI Corp.</td>\n      <td>Commercial Services</td>\n      <td>NYS</td>\n      <td>HNI</td>\n      <td>2.138245e+09</td>\n      <td>0.015005</td>\n    </tr>\n    <tr>\n      <th>3</th>\n      <td>Avnet, Inc.</td>\n      <td>Technology Hardware</td>\n      <td>NAS</td>\n      <td>AVT</td>\n      <td>4.517528e+09</td>\n      <td>0.018784</td>\n    </tr>\n    <tr>\n      <th>4</th>\n      <td>ACCO Brands Corp.</td>\n      <td>Commercial Services</td>\n      <td>NYS</td>\n      <td>ACCO</td>\n      <td>4.399426e+08</td>\n      <td>0.019449</td>\n    </tr>\n  </tbody>\n</table>\n</div>"
     },
     "execution_count": 80,
     "metadata": {},
     "output_type": "execute_result"
    }
   ],
   "source": [
    "df_returns.head()"
   ],
   "metadata": {
    "collapsed": false,
    "ExecuteTime": {
     "end_time": "2024-07-24T19:53:52.149871Z",
     "start_time": "2024-07-24T19:53:52.127026Z"
    }
   },
   "id": "a728ecde0ff6e291"
  },
  {
   "cell_type": "code",
   "execution_count": 94,
   "outputs": [
    {
     "name": "stdout",
     "output_type": "stream",
     "text": [
      "Downloading data for tickers: 0       KE\n",
      "1      SCS\n",
      "2      HNI\n",
      "3      AVT\n",
      "4     ACCO\n",
      "5     KEYS\n",
      "6     CBRE\n",
      "7      BRC\n",
      "8     PGRE\n",
      "9      BHE\n",
      "10    PLXS\n",
      "11     HAS\n",
      "12    CHGG\n",
      "13     JLL\n",
      "14    OLED\n",
      "15     CDW\n",
      "16    FLEX\n",
      "17    REZI\n",
      "18     TPL\n",
      "19     ARW\n",
      "Name: stock_ticker_symbol, dtype: object\n",
      "Pausing to avoid overloading the API...\n",
      "Downloading data for tickers: 20      FN\n",
      "21    NOVT\n",
      "22     RYN\n",
      "23     SNX\n",
      "24    CMPR\n",
      "25    TTMI\n",
      "26     PBI\n",
      "27    ASGN\n",
      "28    HOUS\n",
      "29     VVV\n",
      "30     AVB\n",
      "31    STWD\n",
      "32     KFY\n",
      "33     MEI\n",
      "34    RGLD\n",
      "35    KFRC\n",
      "36    SANM\n",
      "37    YETI\n",
      "38     ACN\n",
      "39     HPP\n",
      "Name: stock_ticker_symbol, dtype: object\n",
      "Pausing to avoid overloading the API...\n",
      "Downloading data for tickers: 40     AGNC\n",
      "41      CTS\n",
      "42      IPG\n",
      "43      BMI\n",
      "44     SCSC\n",
      "45      MAN\n",
      "46      PDM\n",
      "47    KELYA\n",
      "48       ST\n",
      "49      CCK\n",
      "50     APTV\n",
      "51     ITRI\n",
      "52      WDC\n",
      "53      EBF\n",
      "54     TNET\n",
      "55     MLKN\n",
      "56      JBL\n",
      "57      LXP\n",
      "58     TRMB\n",
      "59      NLY\n",
      "Name: stock_ticker_symbol, dtype: object\n",
      "Pausing to avoid overloading the API...\n",
      "Downloading data for tickers: 60    RMAX\n",
      "61    SBAC\n",
      "62     KRG\n",
      "63     ATR\n",
      "64    ELME\n",
      "65    ESRT\n",
      "66    CGNX\n",
      "67    ZBRA\n",
      "68     DLX\n",
      "69     BWA\n",
      "70     ELV\n",
      "71     NYT\n",
      "72    NWSA\n",
      "73    MKSI\n",
      "74     MMI\n",
      "75    SNBR\n",
      "76      IR\n",
      "77     LAD\n",
      "78    HSII\n",
      "79     CUZ\n",
      "Name: stock_ticker_symbol, dtype: object\n",
      "Pausing to avoid overloading the API...\n",
      "Downloading data for tickers: 80     LIN\n",
      "81      NL\n",
      "82    BALL\n",
      "83     DHR\n",
      "84     KIM\n",
      "85     MAC\n",
      "86    SWBI\n",
      "87    CNNE\n",
      "88     PLD\n",
      "89    REXR\n",
      "90    IPGP\n",
      "91     RHI\n",
      "92     CDP\n",
      "93     AAP\n",
      "94    GOLF\n",
      "95    ATGE\n",
      "96    POOL\n",
      "97     AZO\n",
      "98     ZWS\n",
      "99     GTX\n",
      "Name: stock_ticker_symbol, dtype: object\n",
      "Pausing to avoid overloading the API...\n",
      "Downloading data for tickers: 100     LKQ\n",
      "101     HPQ\n",
      "102    AZEK\n",
      "103     VRE\n",
      "104    NSIT\n",
      "105     KMX\n",
      "106    CDNS\n",
      "107     CAH\n",
      "108     VNT\n",
      "109     VTR\n",
      "110    QUAD\n",
      "111     COR\n",
      "112     REG\n",
      "113    STAA\n",
      "114    JOUT\n",
      "115     WSM\n",
      "116       A\n",
      "117     EQR\n",
      "118     PFG\n",
      "119    SPGI\n",
      "Name: stock_ticker_symbol, dtype: object\n",
      "Pausing to avoid overloading the API...\n",
      "Downloading data for tickers: 120     HPE\n",
      "121     LZB\n",
      "122     STX\n",
      "123     ESS\n",
      "124    AMAT\n",
      "125     AMH\n",
      "126     LEA\n",
      "127    ANIK\n",
      "128     PKE\n",
      "129     HIW\n",
      "130     MAA\n",
      "131    RDFN\n",
      "132    RELL\n",
      "133     PSA\n",
      "134      AY\n",
      "135    ORLY\n",
      "136     LOW\n",
      "137    BBSI\n",
      "138     DLB\n",
      "139    OPEN\n",
      "Name: stock_ticker_symbol, dtype: object\n",
      "Pausing to avoid overloading the API...\n",
      "Downloading data for tickers: 140     CCI\n",
      "141     ALV\n",
      "142    LITE\n",
      "143    AMBP\n",
      "144     BXP\n",
      "145    EXLS\n",
      "146     BDN\n",
      "147     MTH\n",
      "148    XRAY\n",
      "149      FL\n",
      "150     HAE\n",
      "151     BRX\n",
      "152     MTD\n",
      "153     MSI\n",
      "154     DLR\n",
      "155    LRCX\n",
      "156    FOXA\n",
      "157     LEG\n",
      "158    FARO\n",
      "159     IRM\n",
      "Name: stock_ticker_symbol, dtype: object\n",
      "Pausing to avoid overloading the API...\n",
      "Downloading data for tickers: 160     NSP\n",
      "161     RNW\n",
      "162     FRT\n",
      "163    MODG\n",
      "164     SPG\n",
      "165     MPX\n",
      "166     IVT\n",
      "167     PAG\n",
      "168     AMT\n",
      "169    ESCA\n",
      "170     IGT\n",
      "171    CRMT\n",
      "172    BCYC\n",
      "173     TPX\n",
      "174     TMO\n",
      "175     WAT\n",
      "176      AN\n",
      "177    THRM\n",
      "178     GPC\n",
      "179    MNRO\n",
      "Name: stock_ticker_symbol, dtype: object\n",
      "Pausing to avoid overloading the API...\n",
      "Downloading data for tickers: 180    UDMY\n",
      "181      HD\n",
      "182     EGP\n",
      "183     NWL\n",
      "184    CSCO\n",
      "185    HASI\n",
      "186    OKTA\n",
      "187     MOV\n",
      "188     UDR\n",
      "189     PMT\n",
      "190    CMLS\n",
      "191    JNPR\n",
      "192    RDWR\n",
      "193     HST\n",
      "194    SBRA\n",
      "195    EQIX\n",
      "196    ADNT\n",
      "197     TEL\n",
      "198      CI\n",
      "199     TBI\n",
      "Name: stock_ticker_symbol, dtype: object\n",
      "Pausing to avoid overloading the API...\n",
      "Downloading data for tickers: 200     HOG\n",
      "201    UTMD\n",
      "202     DRH\n",
      "203    FTDR\n",
      "204     WLY\n",
      "205    JBGS\n",
      "206     GPI\n",
      "207    CLMB\n",
      "208     BAH\n",
      "209     ETD\n",
      "210     ARE\n",
      "211    LVWR\n",
      "212     SSP\n",
      "213    SMTC\n",
      "214    AGYS\n",
      "215     SEE\n",
      "216     SLG\n",
      "217    NVDA\n",
      "218     WTS\n",
      "219    AKAM\n",
      "Name: stock_ticker_symbol, dtype: object\n",
      "Pausing to avoid overloading the API...\n",
      "Downloading data for tickers: 220     SKT\n",
      "221     IBM\n",
      "222      EA\n",
      "223    TSCO\n",
      "224    ACRE\n",
      "225    PANW\n",
      "226     MCK\n",
      "227      AL\n",
      "228    QCOM\n",
      "229    GWRE\n",
      "230    LEVI\n",
      "231    NDAQ\n",
      "232    QGEN\n",
      "233     KRC\n",
      "234    BIRK\n",
      "235     CRI\n",
      "236     TPR\n",
      "237    FOSL\n",
      "238    CCEP\n",
      "239    ACLS\n",
      "Name: stock_ticker_symbol, dtype: object\n",
      "Pausing to avoid overloading the API...\n",
      "Downloading data for tickers: 240    COMM\n",
      "241    JAKK\n",
      "242     HQI\n",
      "243     CAR\n",
      "244    HAYW\n",
      "245    HOFT\n",
      "246     CNH\n",
      "247    ANET\n",
      "248    LOPE\n",
      "249    STAG\n",
      "250       G\n",
      "251     VNO\n",
      "252    RXRX\n",
      "253    CNXN\n",
      "254    MKTX\n",
      "255     WPC\n",
      "256     AMD\n",
      "257     ELS\n",
      "258     AKR\n",
      "259     DOX\n",
      "Name: stock_ticker_symbol, dtype: object\n",
      "Pausing to avoid overloading the API...\n",
      "Downloading data for tickers: 260    TGNA\n",
      "261    SNPS\n",
      "262    VICI\n",
      "263     BBY\n",
      "264     MHK\n",
      "265    GPMT\n",
      "266    FERG\n",
      "267    USFD\n",
      "268      RL\n",
      "269    COLD\n",
      "270    ADBE\n",
      "271    PARA\n",
      "272    THRY\n",
      "273    ETWO\n",
      "274    TTEK\n",
      "275    CENT\n",
      "276    LOVE\n",
      "277      PK\n",
      "278     AAT\n",
      "279    DECK\n",
      "Name: stock_ticker_symbol, dtype: object\n",
      "Pausing to avoid overloading the API...\n",
      "Downloading data for tickers: 280     ITI\n",
      "281     KBH\n",
      "282    MSFT\n",
      "283     CPT\n",
      "284     EXR\n",
      "285    PLCE\n",
      "286    JBHT\n",
      "287    NTAP\n",
      "288     ABM\n",
      "289    CNXC\n",
      "290    FBRT\n",
      "291    HELE\n",
      "292     FIS\n",
      "293     ABG\n",
      "294     VFC\n",
      "295    SITC\n",
      "296    MSCI\n",
      "297    FIGS\n",
      "298    KLIC\n",
      "299    LULU\n",
      "Name: stock_ticker_symbol, dtype: object\n",
      "Pausing to avoid overloading the API...\n",
      "Downloading data for tickers: 300    CABO\n",
      "301    ANSS\n",
      "302     ORA\n",
      "303    NTGR\n",
      "304     SUI\n",
      "305     SIG\n",
      "306    HSIC\n",
      "307    CRUS\n",
      "308    COLM\n",
      "309    ORCL\n",
      "310     OMC\n",
      "311    CIEN\n",
      "312     KTB\n",
      "313     SMP\n",
      "314    DJCO\n",
      "315    ALGM\n",
      "316    CTRE\n",
      "317     CRM\n",
      "318     MCO\n",
      "319    HUBS\n",
      "Name: stock_ticker_symbol, dtype: object\n",
      "Pausing to avoid overloading the API...\n",
      "Downloading data for tickers: 320    VEEV\n",
      "321    AMCR\n",
      "322    FCPT\n",
      "323    FNKO\n",
      "324    TRNO\n",
      "325    SAFE\n",
      "326    RITM\n",
      "327     GCI\n",
      "328    GLPI\n",
      "329     DAN\n",
      "330     APD\n",
      "331    RDUS\n",
      "332    ARLO\n",
      "333      ZM\n",
      "334     OMF\n",
      "335      OI\n",
      "336     GEN\n",
      "337     ARI\n",
      "338     CWH\n",
      "339     PEB\n",
      "Name: stock_ticker_symbol, dtype: object\n",
      "Pausing to avoid overloading the API...\n",
      "Downloading data for tickers: 340     SVC\n",
      "341      RF\n",
      "342     HRB\n",
      "343     MAT\n",
      "344    LASR\n",
      "345      DT\n",
      "346      FR\n",
      "347     NOW\n",
      "348    XPER\n",
      "349       V\n",
      "350     DIS\n",
      "351    SCHL\n",
      "352     AGS\n",
      "353     MFA\n",
      "354    INTC\n",
      "355    HOLI\n",
      "356     ADP\n",
      "357     MET\n",
      "358     HIG\n",
      "359     CIM\n",
      "Name: stock_ticker_symbol, dtype: object\n",
      "Pausing to avoid overloading the API...\n",
      "Downloading data for tickers: 360     ZTS\n",
      "361    CALX\n",
      "362     VPG\n",
      "363    ADSK\n",
      "364      TT\n",
      "365    VSCO\n",
      "366     MIR\n",
      "367     FND\n",
      "368      WY\n",
      "369      KW\n",
      "370    CTSH\n",
      "371     SHO\n",
      "372     CSR\n",
      "373     ANF\n",
      "374     ADC\n",
      "375       R\n",
      "376     AEO\n",
      "377    ZUMZ\n",
      "378     AXL\n",
      "379     AON\n",
      "Name: stock_ticker_symbol, dtype: object\n",
      "Pausing to avoid overloading the API...\n",
      "Downloading data for tickers: 380     SYY\n",
      "381     DXC\n",
      "382    CASS\n",
      "383    CROX\n",
      "384     XHR\n",
      "385    CLDT\n",
      "386    ARCB\n",
      "387    NOVA\n",
      "388     TER\n",
      "389     OMI\n",
      "390    SPTN\n",
      "391     CNC\n",
      "392    WEYS\n",
      "393    EBAY\n",
      "394    BERY\n",
      "395    MRVL\n",
      "396    ROIC\n",
      "397    MLAB\n",
      "398     AVY\n",
      "399     MMS\n",
      "Name: stock_ticker_symbol, dtype: object\n",
      "Pausing to avoid overloading the API...\n",
      "Downloading data for tickers: 400     SCI\n",
      "401     TDC\n",
      "402     TJX\n",
      "403    ULTA\n",
      "404       O\n",
      "405     BNL\n",
      "406    OSIS\n",
      "407      BR\n",
      "408    CVLT\n",
      "409    NFLX\n",
      "410     BSY\n",
      "411      MA\n",
      "412    SEDG\n",
      "413    SONO\n",
      "414    ETSY\n",
      "415    WOOF\n",
      "416     PVH\n",
      "417     COO\n",
      "418     VRA\n",
      "419    ICLR\n",
      "Name: stock_ticker_symbol, dtype: object\n",
      "Pausing to avoid overloading the API...\n",
      "Downloading data for tickers: 420    NXST\n",
      "421     NXT\n",
      "422     URI\n",
      "423    CPRT\n",
      "424    CYBR\n",
      "425    DELL\n",
      "426     ASO\n",
      "427    VSTO\n",
      "428    SHOO\n",
      "429    LCII\n",
      "430    GLOB\n",
      "431     WCC\n",
      "432     DEA\n",
      "433      DX\n",
      "434      GT\n",
      "435    PATH\n",
      "436      TW\n",
      "437    NSSC\n",
      "438     HVT\n",
      "439     GHC\n",
      "Name: stock_ticker_symbol, dtype: object\n",
      "Pausing to avoid overloading the API...\n",
      "Downloading data for tickers: 440    RGEN\n",
      "441     WSR\n",
      "442    MMSI\n",
      "443    ESTC\n",
      "444     LRN\n",
      "445    ODFL\n",
      "446    AZTA\n",
      "447    DORM\n",
      "448     EPR\n",
      "449    BURL\n",
      "450     WBA\n",
      "451    BOOT\n",
      "452     GWW\n",
      "453    POWW\n",
      "454      DE\n",
      "455     GPK\n",
      "456     CPS\n",
      "457    INVH\n",
      "458    BFAM\n",
      "459     VVI\n",
      "Name: stock_ticker_symbol, dtype: object\n",
      "Pausing to avoid overloading the API...\n",
      "Downloading data for tickers: 460     SIRI\n",
      "461     RBBN\n",
      "462     TTWO\n",
      "463     GIII\n",
      "464     VOYA\n",
      "465      IQV\n",
      "466     DDOG\n",
      "467      CCO\n",
      "468     MRVI\n",
      "469     CACI\n",
      "470      WMG\n",
      "471      AAN\n",
      "472    BATRK\n",
      "473      JCI\n",
      "474      GPS\n",
      "475     CVNA\n",
      "476       DH\n",
      "477     EXPD\n",
      "478     CSGS\n",
      "479      NNN\n",
      "Name: stock_ticker_symbol, dtype: object\n",
      "Pausing to avoid overloading the API...\n",
      "Downloading data for tickers: 480     INN\n",
      "481    NMRK\n",
      "482    PYCR\n",
      "483     HBI\n",
      "484    KLAC\n",
      "485     GCO\n",
      "486    CLAR\n",
      "487    NYMT\n",
      "488    PCOR\n",
      "489    HIBB\n",
      "490    RVTY\n",
      "491     HLT\n",
      "492     BKE\n",
      "493     DHC\n",
      "494    SFIX\n",
      "495    AZPN\n",
      "496     RHP\n",
      "497    VRSK\n",
      "498     UAA\n",
      "499    IDXX\n",
      "Name: stock_ticker_symbol, dtype: object\n",
      "Pausing to avoid overloading the API...\n",
      "Downloading data for tickers: 500    CRTO\n",
      "501    CPRI\n",
      "502     BLD\n",
      "503     CIO\n",
      "504    DAVA\n",
      "505     RGP\n",
      "506    FTNT\n",
      "507    FFIV\n",
      "508    STRA\n",
      "509    COHU\n",
      "510      WW\n",
      "511    PSTG\n",
      "512    HEAR\n",
      "513     TPH\n",
      "514     LTC\n",
      "515    FOXF\n",
      "516    EVLV\n",
      "517    OSPN\n",
      "518    OSUR\n",
      "519     MCW\n",
      "Name: stock_ticker_symbol, dtype: object\n",
      "Pausing to avoid overloading the API...\n",
      "Downloading data for tickers: 520    PYPL\n",
      "521     PAR\n",
      "522     CWK\n",
      "523     EYE\n",
      "524     FDS\n",
      "525    FRPH\n",
      "526     SYF\n",
      "527    PFGC\n",
      "528     PCH\n",
      "529    AGCO\n",
      "530     RWT\n",
      "531    AVTR\n",
      "532    VIAV\n",
      "533      ZS\n",
      "534    TLYS\n",
      "535    OMCL\n",
      "536    IHRT\n",
      "537    SITE\n",
      "538    LESL\n",
      "539    CERT\n",
      "Name: stock_ticker_symbol, dtype: object\n",
      "Pausing to avoid overloading the API...\n",
      "Downloading data for tickers: 540     EQC\n",
      "541    HBAN\n",
      "542    PRDO\n",
      "543     OSW\n",
      "544    BXMT\n",
      "545     IRT\n",
      "546      KD\n",
      "547    CUBE\n",
      "548    TMHC\n",
      "549    SMAR\n",
      "550     OPI\n",
      "551     GLW\n",
      "552    PAYX\n",
      "553     XRX\n",
      "554     GFS\n",
      "555    MTCH\n",
      "556     GES\n",
      "557    NAPA\n",
      "558     OXM\n",
      "559    CARR\n",
      "Name: stock_ticker_symbol, dtype: object\n",
      "Pausing to avoid overloading the API...\n",
      "Downloading data for tickers: 560    AAPL\n",
      "561     JHG\n",
      "562    TTSH\n",
      "563    REGN\n",
      "564    UNIT\n",
      "565     BIO\n",
      "566    UPBD\n",
      "567    SNOW\n",
      "568    INTU\n",
      "569     UNM\n",
      "570    PTON\n",
      "571     WTW\n",
      "572     DKS\n",
      "573    ROKU\n",
      "574    HLIT\n",
      "575     ODP\n",
      "576    YUMC\n",
      "577      ZI\n",
      "578    FITB\n",
      "579     EFC\n",
      "Name: stock_ticker_symbol, dtype: object\n",
      "Pausing to avoid overloading the API...\n",
      "Downloading data for tickers: 580        LFUS\n",
      "581        DXLG\n",
      "582           U\n",
      "583        CTAS\n",
      "584         UNH\n",
      "585        BLKB\n",
      "586        LDOS\n",
      "587        DOCU\n",
      "588        PLYM\n",
      "589        EPRT\n",
      "590        PINC\n",
      "591        KVUE\n",
      "592        ICHR\n",
      "593        FORM\n",
      "594    TRTN.PRE\n",
      "595         CME\n",
      "596        EXTR\n",
      "597         TGT\n",
      "598         RLJ\n",
      "599         LNT\n",
      "Name: stock_ticker_symbol, dtype: object\n"
     ]
    },
    {
     "name": "stderr",
     "output_type": "stream",
     "text": [
      "\n",
      "1 Failed download:\n",
      "['TRTN.PRE']: YFTzMissingError('$%ticker%: possibly delisted; No timezone found')\n"
     ]
    },
    {
     "name": "stdout",
     "output_type": "stream",
     "text": [
      "Pausing to avoid overloading the API...\n",
      "Downloading data for tickers: 600    ATRI\n",
      "601    ARHS\n",
      "602     HZO\n",
      "603    MEDP\n",
      "604    BKNG\n",
      "605     AMN\n",
      "606    ROST\n",
      "607     CAL\n",
      "608    MANH\n",
      "609     EQH\n",
      "610    EWCZ\n",
      "611     HTZ\n",
      "612     TFC\n",
      "613     OHI\n",
      "614    TROW\n",
      "615    FSLR\n",
      "616    NEOG\n",
      "617     DAY\n",
      "618    SNDR\n",
      "619     MDB\n",
      "Name: stock_ticker_symbol, dtype: object\n",
      "Pausing to avoid overloading the API...\n",
      "Downloading data for tickers: 620     MEG\n",
      "621    MERC\n",
      "622    SHYF\n",
      "623    CHEF\n",
      "624    HCSG\n",
      "625      WU\n",
      "626    APLE\n",
      "627    MSGS\n",
      "628     DBI\n",
      "629     ROK\n",
      "630    GNTX\n",
      "631    WDAY\n",
      "632     CCS\n",
      "633    INFA\n",
      "634    COHR\n",
      "635    CATO\n",
      "636      RH\n",
      "637    LSCC\n",
      "638    CHRW\n",
      "639     IVR\n",
      "Name: stock_ticker_symbol, dtype: object\n",
      "Pausing to avoid overloading the API...\n",
      "Downloading data for tickers: 640     BBW\n",
      "641    ONTF\n",
      "642      ZD\n",
      "643    CRWD\n",
      "644    SLAB\n",
      "645    NRUC\n",
      "646     GTN\n",
      "647    SAIA\n",
      "648      KN\n",
      "649    LINC\n",
      "650    DAKT\n",
      "651    CHCT\n",
      "652     PRI\n",
      "653    CHKP\n",
      "654    HFFG\n",
      "655    ALIT\n",
      "656    TEAM\n",
      "657    DGII\n",
      "658    EVTC\n",
      "659     AFL\n",
      "Name: stock_ticker_symbol, dtype: object\n",
      "Pausing to avoid overloading the API...\n",
      "Downloading data for tickers: 660    SBGI\n",
      "661    PECO\n",
      "662    NCNO\n",
      "663     SBH\n",
      "664      FI\n",
      "665    JILL\n",
      "666    UNFI\n",
      "667     CBL\n",
      "668     AHH\n",
      "669     SFM\n",
      "670      HR\n",
      "671     KMI\n",
      "672     TWO\n",
      "673     MPW\n",
      "674    AEIS\n",
      "675    AMKR\n",
      "676    KREF\n",
      "677     AER\n",
      "678     PFE\n",
      "679    NVMI\n",
      "Name: stock_ticker_symbol, dtype: object\n",
      "Pausing to avoid overloading the API...\n",
      "Downloading data for tickers: 680    LADR\n",
      "681    ICFI\n",
      "682    INFN\n",
      "683    HURN\n",
      "684     SLP\n",
      "685    UCTT\n",
      "686    CHPT\n",
      "687    CFLT\n",
      "688    ONEW\n",
      "689     VYX\n",
      "690     XYL\n",
      "691    RBLX\n",
      "692     AYI\n",
      "693     WST\n",
      "694    RARE\n",
      "695    RENT\n",
      "696      UE\n",
      "697     BFH\n",
      "698     KAR\n",
      "699     ETN\n",
      "Name: stock_ticker_symbol, dtype: object\n",
      "Pausing to avoid overloading the API...\n",
      "Downloading data for tickers: 700      AMC\n",
      "701     FWRD\n",
      "702      WBD\n",
      "703      CRL\n",
      "704      ADI\n",
      "705      NSA\n",
      "706       ES\n",
      "707    LGF.A\n",
      "708      EEX\n",
      "709      KSS\n",
      "710      KNX\n",
      "711     TRTX\n",
      "712     LAMR\n",
      "713     CPRX\n",
      "714    BELFB\n",
      "715     TWKS\n",
      "716      MOD\n",
      "717      WHR\n",
      "718     DRVN\n",
      "719      DDS\n",
      "Name: stock_ticker_symbol, dtype: object\n"
     ]
    },
    {
     "name": "stderr",
     "output_type": "stream",
     "text": [
      "\n",
      "1 Failed download:\n",
      "['LGF.A']: YFTzMissingError('$%ticker%: possibly delisted; No timezone found')\n"
     ]
    },
    {
     "name": "stdout",
     "output_type": "stream",
     "text": [
      "Pausing to avoid overloading the API...\n",
      "Downloading data for tickers: 720     RMR\n",
      "721    MNDY\n",
      "722    EVRI\n",
      "723    HSTM\n",
      "724     DNB\n",
      "725     AXP\n",
      "726     ORC\n",
      "727    ARRY\n",
      "728     FOR\n",
      "729     GEF\n",
      "730    EHTH\n",
      "731    TPIC\n",
      "732    NTST\n",
      "733     PKG\n",
      "734      OC\n",
      "735     ARR\n",
      "736    IMAX\n",
      "737     IHS\n",
      "738     TAL\n",
      "739    PAGS\n",
      "Name: stock_ticker_symbol, dtype: object\n",
      "Pausing to avoid overloading the API...\n",
      "Downloading data for tickers: 740    BIRD\n",
      "741    FLGT\n",
      "742    WRBY\n",
      "743    PGNY\n",
      "744     UTI\n",
      "745    BEPC\n",
      "746      DV\n",
      "747    WINA\n",
      "748     GTY\n",
      "749     TYL\n",
      "750     PRG\n",
      "751     ADV\n",
      "752     BLK\n",
      "753    NTCT\n",
      "754    PDCO\n",
      "755    PAYC\n",
      "756    GDDY\n",
      "757    RMBS\n",
      "758    PACB\n",
      "759    MGRC\n",
      "Name: stock_ticker_symbol, dtype: object\n",
      "Pausing to avoid overloading the API...\n",
      "Downloading data for tickers: 760     DNOW\n",
      "761      MSA\n",
      "762       RC\n",
      "763     ELAN\n",
      "764     WTRG\n",
      "765     UPWK\n",
      "766      KBR\n",
      "767     ADUS\n",
      "768     PRPL\n",
      "769     PWSC\n",
      "770      RSG\n",
      "771      PTC\n",
      "772     ALGN\n",
      "773      CRH\n",
      "774      PRU\n",
      "775      CNK\n",
      "776      LNC\n",
      "777      OUT\n",
      "778    LBRDK\n",
      "779      CTO\n",
      "Name: stock_ticker_symbol, dtype: object\n",
      "Pausing to avoid overloading the API...\n",
      "Downloading data for tickers: 780     ICE\n",
      "781      MU\n",
      "782     ROL\n",
      "783    OTIS\n",
      "784    IIPR\n",
      "785    FINV\n",
      "786    PRGS\n",
      "787     CVS\n",
      "788    JKHY\n",
      "789     AMP\n",
      "790    PTVE\n",
      "791    ICUI\n",
      "792    ENTG\n",
      "793     AWK\n",
      "794    BOWL\n",
      "795     NKE\n",
      "796     QSI\n",
      "797    MITK\n",
      "798     NHI\n",
      "799    DLTR\n",
      "Name: stock_ticker_symbol, dtype: object\n",
      "Pausing to avoid overloading the API...\n",
      "Downloading data for tickers: 800     PRO\n",
      "801     UPS\n",
      "802     EXC\n",
      "803     FCN\n",
      "804    JAMF\n",
      "805      VZ\n",
      "806    GILT\n",
      "807    TOST\n",
      "808    ARES\n",
      "809      WM\n",
      "810     CMI\n",
      "811    HCKT\n",
      "812    PKST\n",
      "813     DBX\n",
      "814     WWW\n",
      "815    VSAT\n",
      "816    TILE\n",
      "817     BDC\n",
      "818    HUBB\n",
      "819    ADTN\n",
      "Name: stock_ticker_symbol, dtype: object\n",
      "Pausing to avoid overloading the API...\n",
      "Downloading data for tickers: 820     RGA\n",
      "821    AVGO\n",
      "822      RM\n",
      "823    URBN\n",
      "824    AVNS\n",
      "825    LAUR\n",
      "826     ENR\n",
      "827    SCVL\n",
      "828    IRWD\n",
      "829     EVC\n",
      "830    ADPT\n",
      "831     SAH\n",
      "832     ONL\n",
      "833    DBRG\n",
      "834    GPRO\n",
      "835    VRNT\n",
      "836     HUM\n",
      "837    CARG\n",
      "838     ZIM\n",
      "839    SBLK\n",
      "Name: stock_ticker_symbol, dtype: object\n",
      "Pausing to avoid overloading the API...\n",
      "Downloading data for tickers: 840    TROX\n",
      "841      BK\n",
      "842    MPWR\n",
      "843    VOXX\n",
      "844    ILMN\n",
      "845      PD\n",
      "846     APH\n",
      "847     MSM\n",
      "848     FDX\n",
      "849    SPWH\n",
      "850    VECO\n",
      "851     MRC\n",
      "852    MRTN\n",
      "853    CRAI\n",
      "854    GKOS\n",
      "855     KMT\n",
      "856    NTNX\n",
      "857    CMBM\n",
      "858      IT\n",
      "859    BGFV\n",
      "Name: stock_ticker_symbol, dtype: object\n",
      "Pausing to avoid overloading the API...\n",
      "Downloading data for tickers: 860    NXPI\n",
      "861      RS\n",
      "862    ITRN\n",
      "863     APP\n",
      "864    AVNW\n",
      "865    APLD\n",
      "866    DOLE\n",
      "867     HLX\n",
      "868     HOV\n",
      "869     MHO\n",
      "870    LSTR\n",
      "871    VRTX\n",
      "872     NVT\n",
      "873     TTC\n",
      "874    CCRN\n",
      "875    CRSR\n",
      "876     ROP\n",
      "877     BKR\n",
      "878     RCL\n",
      "879     SLB\n",
      "Name: stock_ticker_symbol, dtype: object\n",
      "Pausing to avoid overloading the API...\n",
      "Downloading data for tickers: 880      EH\n",
      "881     TRU\n",
      "882    PETQ\n",
      "883    NVRI\n",
      "884     GME\n",
      "885     AIN\n",
      "886    PMTS\n",
      "887    FUBO\n",
      "888    CLFD\n",
      "889    MVIS\n",
      "890    SEAT\n",
      "891    SMCI\n",
      "892    ACEL\n",
      "893    SDGR\n",
      "894     DDD\n",
      "895    ISRG\n",
      "896      VC\n",
      "897    BLCO\n",
      "898    GMRE\n",
      "899    AMAL\n",
      "Name: stock_ticker_symbol, dtype: object\n",
      "Pausing to avoid overloading the API...\n",
      "Downloading data for tickers: 900      GPN\n",
      "901     BRKR\n",
      "902      BEN\n",
      "903     STGW\n",
      "904      HRI\n",
      "905     QLYS\n",
      "906     DFIN\n",
      "907       XP\n",
      "908      CNM\n",
      "909     ONTO\n",
      "910     ONON\n",
      "911     COUR\n",
      "912     AUDC\n",
      "913    FWONK\n",
      "914     RERE\n",
      "915      DOW\n",
      "916     PSTL\n",
      "917      DAR\n",
      "918      AMG\n",
      "919     FLYW\n",
      "Name: stock_ticker_symbol, dtype: object\n",
      "Pausing to avoid overloading the API...\n",
      "Downloading data for tickers: 920    FORR\n",
      "921     BIG\n",
      "922     UIS\n",
      "923     IOT\n",
      "924     SVV\n",
      "925    CERS\n",
      "926     AIV\n",
      "927      BC\n",
      "928     WSC\n",
      "929     WIX\n",
      "930    LQDT\n",
      "931     DRQ\n",
      "932     LYB\n",
      "933     AWI\n",
      "934    ACTG\n",
      "935    LSEA\n",
      "936      IQ\n",
      "937    CLVT\n",
      "938     LII\n",
      "939     PGR\n",
      "Name: stock_ticker_symbol, dtype: object\n",
      "Pausing to avoid overloading the API...\n",
      "Downloading data for tickers: 940    MRNA\n",
      "941    IVAC\n",
      "942     TWI\n",
      "943    CRCT\n",
      "944    ALLE\n",
      "945    VSEC\n",
      "946     GXO\n",
      "947     BGC\n",
      "948     PEN\n",
      "949    ENPH\n",
      "950     RUN\n",
      "951     SUP\n",
      "952    MATX\n",
      "953    KIDS\n",
      "954    HALO\n",
      "955    MATW\n",
      "956    KVHI\n",
      "957     NEO\n",
      "958     UNP\n",
      "Name: stock_ticker_symbol, dtype: object\n",
      "Pausing to avoid overloading the API...\n"
     ]
    },
    {
     "data": {
      "text/plain": "              KE    SCS    HNI    AVT   ACCO  KEYS   CBRE    BRC   PGRE  \\\nDate                                                                      \n1999-08-01   NaN    NaN    NaN    NaN    NaN   NaN    NaN    NaN    NaN   \n1999-09-01   NaN  -5.91 -17.98  -5.08    NaN   NaN    NaN   6.67    NaN   \n1999-10-01   NaN  -8.70   1.95  30.36    NaN   NaN    NaN  -9.37    NaN   \n1999-11-01   NaN   2.97  10.19   0.69    NaN   NaN    NaN   6.39    NaN   \n1999-12-01   NaN  -7.69   1.90  10.13    NaN   NaN    NaN  10.59    NaN   \n...          ...    ...    ...    ...    ...   ...    ...    ...    ...   \n2024-03-01 -3.82  -4.80   1.48   6.42   0.54  1.35   5.82   1.72   5.87   \n2024-04-01 -3.33  -8.03  -7.05  -0.79 -12.87 -5.40 -10.64  -0.47  -0.28   \n2024-05-01  9.51  14.43  12.16  11.72   5.60 -6.39   1.36  16.17  -1.94   \n2024-06-01 -4.10  -5.12  -3.60  -5.70  -6.29 -1.25   1.18  -3.30   1.76   \n2024-07-01  8.01   8.80  11.53   3.72   5.11  1.77  11.28   7.44  15.79   \n\n              BHE  ...   ENPH    RUN    SUP   MATX   KIDS   HALO   MATW  \\\nDate               ...                                                    \n1999-08-01    NaN  ...    NaN    NaN    NaN    NaN    NaN    NaN    NaN   \n1999-09-01  -4.07  ...    NaN    NaN   0.00  -0.43    NaN    NaN  11.06   \n1999-10-01 -54.69  ...    NaN    NaN  -4.69   0.52    NaN    NaN -16.60   \n1999-11-01  39.06  ...    NaN    NaN   0.78  -5.21    NaN    NaN  -7.29   \n1999-12-01   3.09  ...    NaN    NaN   0.00   1.25    NaN    NaN  18.28   \n...           ...  ...    ...    ...    ...    ...    ...    ...    ...   \n2024-03-01  -2.28  ...  -4.75   9.47 -18.31   1.50   6.19   2.19   8.17   \n2024-04-01   1.24  ... -10.10 -21.93  28.97  -4.11   1.61  -6.34 -13.19   \n2024-05-01  42.57  ...  17.60  40.52  -5.61  18.95   6.58  16.25   5.00   \n2024-06-01  -8.38  ... -22.04 -17.98  -7.93   2.45  -8.93  18.22 -10.79   \n2024-07-01   7.09  ...   3.94  45.62   7.08  -1.64  17.07   5.81  11.62   \n\n             KVHI    NEO    UNP  \nDate                             \n1999-08-01    NaN    NaN    NaN  \n1999-09-01  -2.56    NaN  -1.28  \n1999-10-01  28.95    NaN  16.47  \n1999-11-01  -1.02    NaN -15.58  \n1999-12-01   1.03    NaN  -7.17  \n...           ...    ...    ...  \n2024-03-01   7.37   0.77  -2.56  \n2024-04-01  -5.88 -11.45  -3.57  \n2024-05-01   7.92  -1.51  -1.83  \n2024-06-01 -10.23   1.17  -2.26  \n2024-07-01   0.86   7.64   5.85  \n\n[300 rows x 957 columns]",
      "text/html": "<div>\n<style scoped>\n    .dataframe tbody tr th:only-of-type {\n        vertical-align: middle;\n    }\n\n    .dataframe tbody tr th {\n        vertical-align: top;\n    }\n\n    .dataframe thead th {\n        text-align: right;\n    }\n</style>\n<table border=\"1\" class=\"dataframe\">\n  <thead>\n    <tr style=\"text-align: right;\">\n      <th></th>\n      <th>KE</th>\n      <th>SCS</th>\n      <th>HNI</th>\n      <th>AVT</th>\n      <th>ACCO</th>\n      <th>KEYS</th>\n      <th>CBRE</th>\n      <th>BRC</th>\n      <th>PGRE</th>\n      <th>BHE</th>\n      <th>...</th>\n      <th>ENPH</th>\n      <th>RUN</th>\n      <th>SUP</th>\n      <th>MATX</th>\n      <th>KIDS</th>\n      <th>HALO</th>\n      <th>MATW</th>\n      <th>KVHI</th>\n      <th>NEO</th>\n      <th>UNP</th>\n    </tr>\n    <tr>\n      <th>Date</th>\n      <th></th>\n      <th></th>\n      <th></th>\n      <th></th>\n      <th></th>\n      <th></th>\n      <th></th>\n      <th></th>\n      <th></th>\n      <th></th>\n      <th></th>\n      <th></th>\n      <th></th>\n      <th></th>\n      <th></th>\n      <th></th>\n      <th></th>\n      <th></th>\n      <th></th>\n      <th></th>\n      <th></th>\n    </tr>\n  </thead>\n  <tbody>\n    <tr>\n      <th>1999-08-01</th>\n      <td>NaN</td>\n      <td>NaN</td>\n      <td>NaN</td>\n      <td>NaN</td>\n      <td>NaN</td>\n      <td>NaN</td>\n      <td>NaN</td>\n      <td>NaN</td>\n      <td>NaN</td>\n      <td>NaN</td>\n      <td>...</td>\n      <td>NaN</td>\n      <td>NaN</td>\n      <td>NaN</td>\n      <td>NaN</td>\n      <td>NaN</td>\n      <td>NaN</td>\n      <td>NaN</td>\n      <td>NaN</td>\n      <td>NaN</td>\n      <td>NaN</td>\n    </tr>\n    <tr>\n      <th>1999-09-01</th>\n      <td>NaN</td>\n      <td>-5.91</td>\n      <td>-17.98</td>\n      <td>-5.08</td>\n      <td>NaN</td>\n      <td>NaN</td>\n      <td>NaN</td>\n      <td>6.67</td>\n      <td>NaN</td>\n      <td>-4.07</td>\n      <td>...</td>\n      <td>NaN</td>\n      <td>NaN</td>\n      <td>0.00</td>\n      <td>-0.43</td>\n      <td>NaN</td>\n      <td>NaN</td>\n      <td>11.06</td>\n      <td>-2.56</td>\n      <td>NaN</td>\n      <td>-1.28</td>\n    </tr>\n    <tr>\n      <th>1999-10-01</th>\n      <td>NaN</td>\n      <td>-8.70</td>\n      <td>1.95</td>\n      <td>30.36</td>\n      <td>NaN</td>\n      <td>NaN</td>\n      <td>NaN</td>\n      <td>-9.37</td>\n      <td>NaN</td>\n      <td>-54.69</td>\n      <td>...</td>\n      <td>NaN</td>\n      <td>NaN</td>\n      <td>-4.69</td>\n      <td>0.52</td>\n      <td>NaN</td>\n      <td>NaN</td>\n      <td>-16.60</td>\n      <td>28.95</td>\n      <td>NaN</td>\n      <td>16.47</td>\n    </tr>\n    <tr>\n      <th>1999-11-01</th>\n      <td>NaN</td>\n      <td>2.97</td>\n      <td>10.19</td>\n      <td>0.69</td>\n      <td>NaN</td>\n      <td>NaN</td>\n      <td>NaN</td>\n      <td>6.39</td>\n      <td>NaN</td>\n      <td>39.06</td>\n      <td>...</td>\n      <td>NaN</td>\n      <td>NaN</td>\n      <td>0.78</td>\n      <td>-5.21</td>\n      <td>NaN</td>\n      <td>NaN</td>\n      <td>-7.29</td>\n      <td>-1.02</td>\n      <td>NaN</td>\n      <td>-15.58</td>\n    </tr>\n    <tr>\n      <th>1999-12-01</th>\n      <td>NaN</td>\n      <td>-7.69</td>\n      <td>1.90</td>\n      <td>10.13</td>\n      <td>NaN</td>\n      <td>NaN</td>\n      <td>NaN</td>\n      <td>10.59</td>\n      <td>NaN</td>\n      <td>3.09</td>\n      <td>...</td>\n      <td>NaN</td>\n      <td>NaN</td>\n      <td>0.00</td>\n      <td>1.25</td>\n      <td>NaN</td>\n      <td>NaN</td>\n      <td>18.28</td>\n      <td>1.03</td>\n      <td>NaN</td>\n      <td>-7.17</td>\n    </tr>\n    <tr>\n      <th>...</th>\n      <td>...</td>\n      <td>...</td>\n      <td>...</td>\n      <td>...</td>\n      <td>...</td>\n      <td>...</td>\n      <td>...</td>\n      <td>...</td>\n      <td>...</td>\n      <td>...</td>\n      <td>...</td>\n      <td>...</td>\n      <td>...</td>\n      <td>...</td>\n      <td>...</td>\n      <td>...</td>\n      <td>...</td>\n      <td>...</td>\n      <td>...</td>\n      <td>...</td>\n      <td>...</td>\n    </tr>\n    <tr>\n      <th>2024-03-01</th>\n      <td>-3.82</td>\n      <td>-4.80</td>\n      <td>1.48</td>\n      <td>6.42</td>\n      <td>0.54</td>\n      <td>1.35</td>\n      <td>5.82</td>\n      <td>1.72</td>\n      <td>5.87</td>\n      <td>-2.28</td>\n      <td>...</td>\n      <td>-4.75</td>\n      <td>9.47</td>\n      <td>-18.31</td>\n      <td>1.50</td>\n      <td>6.19</td>\n      <td>2.19</td>\n      <td>8.17</td>\n      <td>7.37</td>\n      <td>0.77</td>\n      <td>-2.56</td>\n    </tr>\n    <tr>\n      <th>2024-04-01</th>\n      <td>-3.33</td>\n      <td>-8.03</td>\n      <td>-7.05</td>\n      <td>-0.79</td>\n      <td>-12.87</td>\n      <td>-5.40</td>\n      <td>-10.64</td>\n      <td>-0.47</td>\n      <td>-0.28</td>\n      <td>1.24</td>\n      <td>...</td>\n      <td>-10.10</td>\n      <td>-21.93</td>\n      <td>28.97</td>\n      <td>-4.11</td>\n      <td>1.61</td>\n      <td>-6.34</td>\n      <td>-13.19</td>\n      <td>-5.88</td>\n      <td>-11.45</td>\n      <td>-3.57</td>\n    </tr>\n    <tr>\n      <th>2024-05-01</th>\n      <td>9.51</td>\n      <td>14.43</td>\n      <td>12.16</td>\n      <td>11.72</td>\n      <td>5.60</td>\n      <td>-6.39</td>\n      <td>1.36</td>\n      <td>16.17</td>\n      <td>-1.94</td>\n      <td>42.57</td>\n      <td>...</td>\n      <td>17.60</td>\n      <td>40.52</td>\n      <td>-5.61</td>\n      <td>18.95</td>\n      <td>6.58</td>\n      <td>16.25</td>\n      <td>5.00</td>\n      <td>7.92</td>\n      <td>-1.51</td>\n      <td>-1.83</td>\n    </tr>\n    <tr>\n      <th>2024-06-01</th>\n      <td>-4.10</td>\n      <td>-5.12</td>\n      <td>-3.60</td>\n      <td>-5.70</td>\n      <td>-6.29</td>\n      <td>-1.25</td>\n      <td>1.18</td>\n      <td>-3.30</td>\n      <td>1.76</td>\n      <td>-8.38</td>\n      <td>...</td>\n      <td>-22.04</td>\n      <td>-17.98</td>\n      <td>-7.93</td>\n      <td>2.45</td>\n      <td>-8.93</td>\n      <td>18.22</td>\n      <td>-10.79</td>\n      <td>-10.23</td>\n      <td>1.17</td>\n      <td>-2.26</td>\n    </tr>\n    <tr>\n      <th>2024-07-01</th>\n      <td>8.01</td>\n      <td>8.80</td>\n      <td>11.53</td>\n      <td>3.72</td>\n      <td>5.11</td>\n      <td>1.77</td>\n      <td>11.28</td>\n      <td>7.44</td>\n      <td>15.79</td>\n      <td>7.09</td>\n      <td>...</td>\n      <td>3.94</td>\n      <td>45.62</td>\n      <td>7.08</td>\n      <td>-1.64</td>\n      <td>17.07</td>\n      <td>5.81</td>\n      <td>11.62</td>\n      <td>0.86</td>\n      <td>7.64</td>\n      <td>5.85</td>\n    </tr>\n  </tbody>\n</table>\n<p>300 rows × 957 columns</p>\n</div>"
     },
     "execution_count": 94,
     "metadata": {},
     "output_type": "execute_result"
    }
   ],
   "source": [
    "tickers = df_scaled['stock_ticker_symbol']\n",
    "# Format the new date as 'YYYY-MM-DD'\n",
    "start_date = (datetime.now() - relativedelta(years=25)).strftime('%Y-%m-%d')\n",
    "end_date = datetime.now().strftime('%Y-%m-%d')\n",
    "#\n",
    "#monthly_returns = data_ticker_service.get_monthly_returns(tickers, start_date, end_date)\n",
    "monthly_returns = data_ticker_service.get_returns_in_chunks(tickers, start_date, end_date, interval='1mo', chunk_size=20, sleep_duration=5)\n",
    "monthly_returns"
   ],
   "metadata": {
    "collapsed": false,
    "ExecuteTime": {
     "end_time": "2024-07-24T20:41:34.882167Z",
     "start_time": "2024-07-24T20:34:36.748742Z"
    }
   },
   "id": "9424049dd2bfc050"
  },
  {
   "cell_type": "code",
   "execution_count": 95,
   "outputs": [],
   "source": [
    "monthly_returns.to_csv('../data/10_monthly_returns_complete.csv')"
   ],
   "metadata": {
    "collapsed": false,
    "ExecuteTime": {
     "end_time": "2024-07-24T20:41:35.040828Z",
     "start_time": "2024-07-24T20:41:34.885334Z"
    }
   },
   "id": "10fd4355fb4694ca"
  },
  {
   "cell_type": "code",
   "execution_count": null,
   "outputs": [],
   "source": [],
   "metadata": {
    "collapsed": false
   },
   "id": "983e9c8668b44aa0"
  }
 ],
 "metadata": {
  "kernelspec": {
   "display_name": "Python 3",
   "language": "python",
   "name": "python3"
  },
  "language_info": {
   "codemirror_mode": {
    "name": "ipython",
    "version": 2
   },
   "file_extension": ".py",
   "mimetype": "text/x-python",
   "name": "python",
   "nbconvert_exporter": "python",
   "pygments_lexer": "ipython2",
   "version": "2.7.6"
  }
 },
 "nbformat": 4,
 "nbformat_minor": 5
}
