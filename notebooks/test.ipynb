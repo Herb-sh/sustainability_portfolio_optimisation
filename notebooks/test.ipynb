{
 "cells": [
  {
   "cell_type": "code",
   "execution_count": 2,
   "id": "initial_id",
   "metadata": {
    "collapsed": true,
    "ExecuteTime": {
     "end_time": "2024-07-17T22:14:55.074587Z",
     "start_time": "2024-07-17T22:14:54.118781Z"
    }
   },
   "outputs": [
    {
     "data": {
      "text/plain": "<module 'utilities.esg_service' from '/Users/herbishtini/Documents/UNI/Master Thesis/sustainability_portfolio_optimisation/utilities/esg_service.py'>"
     },
     "execution_count": 2,
     "metadata": {},
     "output_type": "execute_result"
    }
   ],
   "source": [
    "from utilities.feed import get_stock_info\n",
    "import utilities.variables as variables \n",
    "import yfinance as yf\n",
    "import pandas as pd\n",
    "import importlib\n",
    "import utilities.parser as parser\n",
    "import utilities.esg_service as esg_service\n",
    "importlib.reload(parser)\n",
    "importlib.reload(esg_service)"
   ]
  },
  {
   "cell_type": "code",
   "execution_count": 6,
   "outputs": [],
   "source": [
    "# esg_service.generate_esg_data()\n",
    "#esg_service.generate_esg_data_for_each_industry()"
   ],
   "metadata": {
    "collapsed": false,
    "ExecuteTime": {
     "end_time": "2024-07-13T23:15:58.313104Z",
     "start_time": "2024-07-13T23:15:58.296182Z"
    }
   },
   "id": "a672fad22f56b21c"
  },
  {
   "cell_type": "code",
   "execution_count": 4,
   "outputs": [
    {
     "name": "stdout",
     "output_type": "stream",
     "text": [
      "{'address1': 'Nishishinjuku 8-5-1', 'address2': 'Shinjuku-ku', 'city': 'Tokyo', 'zip': '160-0023', 'country': 'Japan', 'phone': '81 3 3365 8767', 'website': 'https://www.nre-mf.co.jp', 'industry': 'REIT - Retail', 'industryKey': 'reit-retail', 'industryDisp': 'REIT - Retail', 'sector': 'Real Estate', 'sectorKey': 'real-estate', 'sectorDisp': 'Real Estate', 'longBusinessSummary': 'Nomura Real Estate Master Fund, Inc. (NMF) is a real estate investment corporation formed to own and invest primarily in office buildings, retail facilities, logistics and residential facilities. NMF is externally managed by a licensed asset management company, Nomura Real Estate Asset Management Co., Ltd. (\"NREAM\"). NREAM is a wholly-owned subsidiary of Nomura Real Estate Holdings, Inc. NMF was established on October 1, 2015 through the consolidation type merger involving the former Nomura Real Estate Master Fund, Inc. (hereinafter the \"former NMF\"), Nomura Real Estate Office Fund, Inc. (hereinafter \"NOF\") and Nomura Real Estate Residential Fund, Inc. (hereinafter \"NRF\"), and listed its investment securities (TSE code: 3462) on the Real Estate Investment Trust Section of the Tokyo Stock Exchange on October 2 of the same year.', 'companyOfficers': [{'maxAge': 1, 'name': 'Masaomi  Katayama', 'title': 'President, CEO & Director of Nomura Real Estate Asset Management Co., Ltd', 'exercisedValue': 0, 'unexercisedValue': 0}, {'maxAge': 1, 'name': 'Mr. Shuhei  Yoshida', 'age': 71, 'title': 'Executive Director', 'yearBorn': 1952, 'exercisedValue': 0, 'unexercisedValue': 0}, {'maxAge': 1, 'name': 'Mr. Fumiki  Kondo', 'title': 'Senior Managing Executive Officer & Director of Nomura Real Estate Asset Management Co., Ltd.', 'exercisedValue': 0, 'unexercisedValue': 0}], 'maxAge': 86400, 'priceHint': 2, 'previousClose': 149900.0, 'open': 149100.0, 'dayLow': 147400.0, 'dayHigh': 149500.0, 'regularMarketPreviousClose': 149900.0, 'regularMarketOpen': 149100.0, 'regularMarketDayLow': 147400.0, 'regularMarketDayHigh': 149500.0, 'dividendRate': 6294.0, 'dividendYield': 0.0425, 'exDividendDate': 1724889600, 'payoutRatio': 1.0008, 'fiveYearAvgDividendYield': 3.75, 'beta': 0.426, 'trailingPE': 23.474178, 'forwardPE': 26.549372, 'volume': 18387, 'regularMarketVolume': 18387, 'averageVolume': 16800, 'averageVolume10days': 13535, 'averageDailyVolume10Day': 13535, 'marketCap': 697849610240, 'fiftyTwoWeekLow': 135800.0, 'fiftyTwoWeekHigh': 174700.0, 'priceToSalesTrailing12Months': 8.344326, 'fiftyDayAverage': 145580.0, 'twoHundredDayAverage': 155444.5, 'trailingAnnualDividendRate': 6714.0, 'trailingAnnualDividendYield': 0.04478986, 'currency': 'JPY', 'enterpriseValue': 1168203710464, 'profitMargins': 0.36703, 'floatShares': 4306581, 'sharesOutstanding': 4715200, 'heldPercentInsiders': 0.12956999, 'heldPercentInstitutions': 0.4806, 'impliedSharesOutstanding': 4768480, 'bookValue': 130363.57, 'priceToBook': 1.1352865, 'lastFiscalYearEnd': 1693440000, 'nextFiscalYearEnd': 1725062400, 'mostRecentQuarter': 1693440000, 'earningsQuarterlyGrowth': 0.241, 'netIncomeToCommon': 30695440384, 'trailingEps': 6304.8, 'forwardEps': 5574.52, 'enterpriseToRevenue': 13.968, 'enterpriseToEbitda': 22.576, '52WeekChange': -0.08093196, 'SandP52WeekChange': 0.24125004, 'lastDividendValue': 3391.0, 'lastDividendDate': 1724889600, 'exchange': 'JPX', 'quoteType': 'EQUITY', 'symbol': '3462.T', 'underlyingSymbol': '3462.T', 'shortName': 'NOMURA REAL ESTATE MASTER FUND ', 'longName': 'Nomura Real Estate Master Fund, Inc.', 'firstTradeDateEpochUtc': 1370995200, 'timeZoneFullName': 'Asia/Tokyo', 'timeZoneShortName': 'JST', 'uuid': 'b4fe6ebc-524b-3870-b8ed-fc18adefa797', 'messageBoardId': 'finmb_331398308', 'gmtOffSetMilliseconds': 32400000, 'currentPrice': 148000.0, 'targetHighPrice': 170000.0, 'targetLowPrice': 160000.0, 'targetMeanPrice': 165500.0, 'targetMedianPrice': 166000.0, 'recommendationMean': 3.2, 'recommendationKey': 'hold', 'numberOfAnalystOpinions': 4, 'totalCash': 51034808320, 'totalCashPerShare': 10823.467, 'ebitda': 51744686080, 'totalDebt': 521388851200, 'quickRatio': 0.824, 'currentRatio': 0.85, 'totalRevenue': 83631628288, 'debtToEquity': 84.821, 'revenuePerShare': 17736.602, 'returnOnAssets': 0.01841, 'returnOnEquity': 0.04992, 'freeCashflow': 32594878464, 'operatingCashflow': 65187676160, 'earningsGrowth': 0.241, 'revenueGrowth': 0.118, 'grossMargins': 0.49852002, 'ebitdaMargins': 0.61872, 'operatingMargins': 0.43376, 'financialCurrency': 'JPY', 'trailingPegRatio': None}\n"
     ]
    }
   ],
   "source": [
    "ticker = yf.Ticker('3462.T')\n",
    "print(ticker.info)"
   ],
   "metadata": {
    "collapsed": false,
    "ExecuteTime": {
     "end_time": "2024-07-17T22:15:48.021426Z",
     "start_time": "2024-07-17T22:15:47.916654Z"
    }
   },
   "id": "65e65fd30f98701a"
  },
  {
   "cell_type": "code",
   "execution_count": 22,
   "outputs": [
    {
     "ename": "AttributeError",
     "evalue": "'list' object has no attribute 'upper'",
     "output_type": "error",
     "traceback": [
      "\u001B[0;31m---------------------------------------------------------------------------\u001B[0m",
      "\u001B[0;31mAttributeError\u001B[0m                            Traceback (most recent call last)",
      "Cell \u001B[0;32mIn[22], line 7\u001B[0m\n\u001B[1;32m      4\u001B[0m \u001B[38;5;66;03m# Dictionary to store market capitalizations\u001B[39;00m\n\u001B[1;32m      5\u001B[0m market_caps \u001B[38;5;241m=\u001B[39m {}\n\u001B[0;32m----> 7\u001B[0m tickers \u001B[38;5;241m=\u001B[39m \u001B[43myf\u001B[49m\u001B[38;5;241;43m.\u001B[39;49m\u001B[43mTicker\u001B[49m\u001B[43m(\u001B[49m\u001B[43msymbols\u001B[49m\u001B[43m)\u001B[49m\n\u001B[1;32m      8\u001B[0m \u001B[38;5;28mprint\u001B[39m(tickers)\n",
      "File \u001B[0;32m~/anaconda3/envs/portfolio_optimisation/lib/python3.10/site-packages/yfinance/ticker.py:34\u001B[0m, in \u001B[0;36mTicker.__init__\u001B[0;34m(self, ticker, session, proxy)\u001B[0m\n\u001B[1;32m     33\u001B[0m \u001B[38;5;28;01mdef\u001B[39;00m \u001B[38;5;21m__init__\u001B[39m(\u001B[38;5;28mself\u001B[39m, ticker, session\u001B[38;5;241m=\u001B[39m\u001B[38;5;28;01mNone\u001B[39;00m, proxy\u001B[38;5;241m=\u001B[39m\u001B[38;5;28;01mNone\u001B[39;00m):\n\u001B[0;32m---> 34\u001B[0m     \u001B[38;5;28;43msuper\u001B[39;49m\u001B[43m(\u001B[49m\u001B[43mTicker\u001B[49m\u001B[43m,\u001B[49m\u001B[43m \u001B[49m\u001B[38;5;28;43mself\u001B[39;49m\u001B[43m)\u001B[49m\u001B[38;5;241;43m.\u001B[39;49m\u001B[38;5;21;43m__init__\u001B[39;49m\u001B[43m(\u001B[49m\u001B[43mticker\u001B[49m\u001B[43m,\u001B[49m\u001B[43m \u001B[49m\u001B[43msession\u001B[49m\u001B[38;5;241;43m=\u001B[39;49m\u001B[43msession\u001B[49m\u001B[43m,\u001B[49m\u001B[43m \u001B[49m\u001B[43mproxy\u001B[49m\u001B[38;5;241;43m=\u001B[39;49m\u001B[43mproxy\u001B[49m\u001B[43m)\u001B[49m\n\u001B[1;32m     35\u001B[0m     \u001B[38;5;28mself\u001B[39m\u001B[38;5;241m.\u001B[39m_expirations \u001B[38;5;241m=\u001B[39m {}\n\u001B[1;32m     36\u001B[0m     \u001B[38;5;28mself\u001B[39m\u001B[38;5;241m.\u001B[39m_underlying  \u001B[38;5;241m=\u001B[39m {}\n",
      "File \u001B[0;32m~/anaconda3/envs/portfolio_optimisation/lib/python3.10/site-packages/yfinance/base.py:47\u001B[0m, in \u001B[0;36mTickerBase.__init__\u001B[0;34m(self, ticker, session, proxy)\u001B[0m\n\u001B[1;32m     46\u001B[0m \u001B[38;5;28;01mdef\u001B[39;00m \u001B[38;5;21m__init__\u001B[39m(\u001B[38;5;28mself\u001B[39m, ticker, session\u001B[38;5;241m=\u001B[39m\u001B[38;5;28;01mNone\u001B[39;00m, proxy\u001B[38;5;241m=\u001B[39m\u001B[38;5;28;01mNone\u001B[39;00m):\n\u001B[0;32m---> 47\u001B[0m     \u001B[38;5;28mself\u001B[39m\u001B[38;5;241m.\u001B[39mticker \u001B[38;5;241m=\u001B[39m \u001B[43mticker\u001B[49m\u001B[38;5;241;43m.\u001B[39;49m\u001B[43mupper\u001B[49m()\n\u001B[1;32m     48\u001B[0m     \u001B[38;5;28mself\u001B[39m\u001B[38;5;241m.\u001B[39mproxy \u001B[38;5;241m=\u001B[39m proxy\n\u001B[1;32m     49\u001B[0m     \u001B[38;5;28mself\u001B[39m\u001B[38;5;241m.\u001B[39msession \u001B[38;5;241m=\u001B[39m session\n",
      "\u001B[0;31mAttributeError\u001B[0m: 'list' object has no attribute 'upper'"
     ]
    }
   ],
   "source": [
    "# List of stock symbols\n",
    "symbols = ['AAPL', 'MSFT', 'GOOGL', 'AMZN', 'TSLA']\n",
    "\n",
    "# Dictionary to store market capitalizations\n",
    "market_caps = {}\n",
    "\n",
    "# Fetch market capitalization for each symbol\n",
    "for symbol in symbols:\n",
    "    ticker = yf.Ticker(symbol)\n",
    "    market_cap = ticker.info.get('marketCap', 'pegRatio')  # Use 'N/A' if marketCap is not available\n",
    "    market_caps[symbol] = market_cap\n",
    "\n",
    "# Print the market capitalizations\n",
    "for symbol, market_cap in market_caps.items():\n",
    "    print(f\"{symbol}: {market_cap}\")"
   ],
   "metadata": {
    "collapsed": false,
    "ExecuteTime": {
     "end_time": "2024-07-15T22:23:49.676723Z",
     "start_time": "2024-07-15T22:23:49.575554Z"
    }
   },
   "id": "6baceeda7fbe6617"
  },
  {
   "cell_type": "code",
   "execution_count": null,
   "outputs": [],
   "source": [
    "msft.info['marketCap']"
   ],
   "metadata": {
    "collapsed": false,
    "ExecuteTime": {
     "end_time": "2024-07-13T23:15:58.513567Z",
     "start_time": "2024-07-13T23:15:58.509340Z"
    }
   },
   "id": "c12cbc4b77adde59"
  },
  {
   "cell_type": "code",
   "execution_count": null,
   "outputs": [],
   "source": [
    "msft.capital_gains"
   ],
   "metadata": {
    "collapsed": false,
    "ExecuteTime": {
     "start_time": "2024-07-13T23:15:58.511906Z"
    }
   },
   "id": "cae782f5afea3a67"
  },
  {
   "cell_type": "code",
   "execution_count": null,
   "outputs": [],
   "source": [
    "tickers = yf.Tickers('msft aapl goog')\n",
    "tickers.tickers['msft'].info"
   ],
   "metadata": {
    "collapsed": false,
    "ExecuteTime": {
     "start_time": "2024-07-13T23:15:58.513264Z"
    }
   },
   "id": "faf2d3486e3b9848"
  },
  {
   "cell_type": "code",
   "execution_count": null,
   "outputs": [],
   "source": [
    "pd.DataFrame(hist)"
   ],
   "metadata": {
    "collapsed": false,
    "ExecuteTime": {
     "start_time": "2024-07-13T23:15:58.514213Z"
    }
   },
   "id": "6649986fc6d39d37"
  },
  {
   "cell_type": "code",
   "execution_count": null,
   "outputs": [],
   "source": [
    "msft.news"
   ],
   "metadata": {
    "collapsed": false,
    "ExecuteTime": {
     "start_time": "2024-07-13T23:15:58.514984Z"
    }
   },
   "id": "c28d44b9421e66cd"
  }
 ],
 "metadata": {
  "kernelspec": {
   "display_name": "Python 3",
   "language": "python",
   "name": "python3"
  },
  "language_info": {
   "codemirror_mode": {
    "name": "ipython",
    "version": 2
   },
   "file_extension": ".py",
   "mimetype": "text/x-python",
   "name": "python",
   "nbconvert_exporter": "python",
   "pygments_lexer": "ipython2",
   "version": "2.7.6"
  }
 },
 "nbformat": 4,
 "nbformat_minor": 5
}
