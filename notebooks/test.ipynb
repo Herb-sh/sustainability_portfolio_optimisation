{
 "cells": [
  {
   "cell_type": "code",
   "id": "initial_id",
   "metadata": {
    "collapsed": true,
    "ExecuteTime": {
     "end_time": "2024-09-05T22:32:52.719809Z",
     "start_time": "2024-09-05T22:32:52.455342Z"
    }
   },
   "source": [
    "import utilities.variables as variables \n",
    "import yfinance as yf\n",
    "import pandas as pd\n",
    "import numpy as np\n",
    "import importlib\n",
    "from pypfopt import EfficientFrontier, risk_models, expected_returns\n",
    "import utilities.parser as parser\n",
    "import utilities.api_esg_service as esg_service\n",
    "import utilities.api_ticker_service as data_ticker_service\n",
    "importlib.reload(data_ticker_service)\n",
    "importlib.reload(parser)\n",
    "importlib.reload(esg_service)"
   ],
   "outputs": [
    {
     "data": {
      "text/plain": [
       "<module 'utilities.api_esg_service' from '/Users/herbishtini/Documents/UNI/Master Thesis/sustainability_portfolio_optimisation/utilities/api_esg_service.py'>"
      ]
     },
     "execution_count": 1,
     "metadata": {},
     "output_type": "execute_result"
    }
   ],
   "execution_count": 1
  },
  {
   "metadata": {
    "ExecuteTime": {
     "end_time": "2024-09-06T22:47:27.208393Z",
     "start_time": "2024-09-06T22:47:27.119352Z"
    }
   },
   "cell_type": "code",
   "source": [
    "df = pd.read_csv('../data/data_10_monthly_returns_complete.csv', parse_dates=True, index_col=\"Date\")\n",
    "df = df.loc[:, ~df.columns.str.contains('^Unnamed')]\n",
    "returns = df.pct_change().dropna()\n",
    "mu = expected_returns.mean_historical_return(df)\n",
    "mu"
   ],
   "id": "5936f81f603ddabc",
   "outputs": [
    {
     "data": {
      "text/plain": [
       "KE      0.732821\n",
       "SCS     0.133374\n",
       "HNI     0.389596\n",
       "AVT     0.070763\n",
       "ACCO    0.304005\n",
       "          ...   \n",
       "HALO    0.157224\n",
       "MATW    0.007613\n",
       "KVHI    0.043419\n",
       "NEO     0.240446\n",
       "UNP     0.059475\n",
       "Length: 957, dtype: float64"
      ]
     },
     "execution_count": 62,
     "metadata": {},
     "output_type": "execute_result"
    }
   ],
   "execution_count": 62
  },
  {
   "cell_type": "code",
   "execution_count": 6,
   "outputs": [],
   "source": [
    "# esg_service.generate_esg_data()\n",
    "#esg_service.generate_esg_data_for_each_industry()"
   ],
   "metadata": {
    "collapsed": false,
    "ExecuteTime": {
     "end_time": "2024-07-13T23:15:58.313104Z",
     "start_time": "2024-07-13T23:15:58.296182Z"
    }
   },
   "id": "a672fad22f56b21c"
  },
  {
   "cell_type": "code",
   "execution_count": 4,
   "outputs": [
    {
     "name": "stdout",
     "output_type": "stream",
     "text": [
      "{'address1': 'Nishishinjuku 8-5-1', 'address2': 'Shinjuku-ku', 'city': 'Tokyo', 'zip': '160-0023', 'country': 'Japan', 'phone': '81 3 3365 8767', 'website': 'https://www.nre-mf.co.jp', 'industry': 'REIT - Retail', 'industryKey': 'reit-retail', 'industryDisp': 'REIT - Retail', 'sector': 'Real Estate', 'sectorKey': 'real-estate', 'sectorDisp': 'Real Estate', 'longBusinessSummary': 'Nomura Real Estate Master Fund, Inc. (NMF) is a real estate investment corporation formed to own and invest primarily in office buildings, retail facilities, logistics and residential facilities. NMF is externally managed by a licensed asset management company, Nomura Real Estate Asset Management Co., Ltd. (\"NREAM\"). NREAM is a wholly-owned subsidiary of Nomura Real Estate Holdings, Inc. NMF was established on October 1, 2015 through the consolidation type merger involving the former Nomura Real Estate Master Fund, Inc. (hereinafter the \"former NMF\"), Nomura Real Estate Office Fund, Inc. (hereinafter \"NOF\") and Nomura Real Estate Residential Fund, Inc. (hereinafter \"NRF\"), and listed its investment securities (TSE code: 3462) on the Real Estate Investment Trust Section of the Tokyo Stock Exchange on October 2 of the same year.', 'companyOfficers': [{'maxAge': 1, 'name': 'Masaomi  Katayama', 'title': 'President, CEO & Director of Nomura Real Estate Asset Management Co., Ltd', 'exercisedValue': 0, 'unexercisedValue': 0}, {'maxAge': 1, 'name': 'Mr. Shuhei  Yoshida', 'age': 71, 'title': 'Executive Director', 'yearBorn': 1952, 'exercisedValue': 0, 'unexercisedValue': 0}, {'maxAge': 1, 'name': 'Mr. Fumiki  Kondo', 'title': 'Senior Managing Executive Officer & Director of Nomura Real Estate Asset Management Co., Ltd.', 'exercisedValue': 0, 'unexercisedValue': 0}], 'maxAge': 86400, 'priceHint': 2, 'previousClose': 149900.0, 'open': 149100.0, 'dayLow': 147400.0, 'dayHigh': 149500.0, 'regularMarketPreviousClose': 149900.0, 'regularMarketOpen': 149100.0, 'regularMarketDayLow': 147400.0, 'regularMarketDayHigh': 149500.0, 'dividendRate': 6294.0, 'dividendYield': 0.0425, 'exDividendDate': 1724889600, 'payoutRatio': 1.0008, 'fiveYearAvgDividendYield': 3.75, 'beta': 0.426, 'trailingPE': 23.474178, 'forwardPE': 26.549372, 'volume': 18387, 'regularMarketVolume': 18387, 'averageVolume': 16800, 'averageVolume10days': 13535, 'averageDailyVolume10Day': 13535, 'marketCap': 697849610240, 'fiftyTwoWeekLow': 135800.0, 'fiftyTwoWeekHigh': 174700.0, 'priceToSalesTrailing12Months': 8.344326, 'fiftyDayAverage': 145580.0, 'twoHundredDayAverage': 155444.5, 'trailingAnnualDividendRate': 6714.0, 'trailingAnnualDividendYield': 0.04478986, 'currency': 'JPY', 'enterpriseValue': 1168203710464, 'profitMargins': 0.36703, 'floatShares': 4306581, 'sharesOutstanding': 4715200, 'heldPercentInsiders': 0.12956999, 'heldPercentInstitutions': 0.4806, 'impliedSharesOutstanding': 4768480, 'bookValue': 130363.57, 'priceToBook': 1.1352865, 'lastFiscalYearEnd': 1693440000, 'nextFiscalYearEnd': 1725062400, 'mostRecentQuarter': 1693440000, 'earningsQuarterlyGrowth': 0.241, 'netIncomeToCommon': 30695440384, 'trailingEps': 6304.8, 'forwardEps': 5574.52, 'enterpriseToRevenue': 13.968, 'enterpriseToEbitda': 22.576, '52WeekChange': -0.08093196, 'SandP52WeekChange': 0.24125004, 'lastDividendValue': 3391.0, 'lastDividendDate': 1724889600, 'exchange': 'JPX', 'quoteType': 'EQUITY', 'symbol': '3462.T', 'underlyingSymbol': '3462.T', 'shortName': 'NOMURA REAL ESTATE MASTER FUND ', 'longName': 'Nomura Real Estate Master Fund, Inc.', 'firstTradeDateEpochUtc': 1370995200, 'timeZoneFullName': 'Asia/Tokyo', 'timeZoneShortName': 'JST', 'uuid': 'b4fe6ebc-524b-3870-b8ed-fc18adefa797', 'messageBoardId': 'finmb_331398308', 'gmtOffSetMilliseconds': 32400000, 'currentPrice': 148000.0, 'targetHighPrice': 170000.0, 'targetLowPrice': 160000.0, 'targetMeanPrice': 165500.0, 'targetMedianPrice': 166000.0, 'recommendationMean': 3.2, 'recommendationKey': 'hold', 'numberOfAnalystOpinions': 4, 'totalCash': 51034808320, 'totalCashPerShare': 10823.467, 'ebitda': 51744686080, 'totalDebt': 521388851200, 'quickRatio': 0.824, 'currentRatio': 0.85, 'totalRevenue': 83631628288, 'debtToEquity': 84.821, 'revenuePerShare': 17736.602, 'returnOnAssets': 0.01841, 'returnOnEquity': 0.04992, 'freeCashflow': 32594878464, 'operatingCashflow': 65187676160, 'earningsGrowth': 0.241, 'revenueGrowth': 0.118, 'grossMargins': 0.49852002, 'ebitdaMargins': 0.61872, 'operatingMargins': 0.43376, 'financialCurrency': 'JPY', 'trailingPegRatio': None}\n"
     ]
    }
   ],
   "source": [
    "ticker = yf.Ticker('3462.T')\n",
    "print(ticker.info)"
   ],
   "metadata": {
    "collapsed": false,
    "ExecuteTime": {
     "end_time": "2024-07-17T22:15:48.021426Z",
     "start_time": "2024-07-17T22:15:47.916654Z"
    }
   },
   "id": "65e65fd30f98701a"
  },
  {
   "cell_type": "code",
   "execution_count": 22,
   "outputs": [
    {
     "ename": "AttributeError",
     "evalue": "'list' object has no attribute 'upper'",
     "output_type": "error",
     "traceback": [
      "\u001B[0;31m---------------------------------------------------------------------------\u001B[0m",
      "\u001B[0;31mAttributeError\u001B[0m                            Traceback (most recent call last)",
      "Cell \u001B[0;32mIn[22], line 7\u001B[0m\n\u001B[1;32m      4\u001B[0m \u001B[38;5;66;03m# Dictionary to store market capitalizations\u001B[39;00m\n\u001B[1;32m      5\u001B[0m market_caps \u001B[38;5;241m=\u001B[39m {}\n\u001B[0;32m----> 7\u001B[0m tickers \u001B[38;5;241m=\u001B[39m \u001B[43myf\u001B[49m\u001B[38;5;241;43m.\u001B[39;49m\u001B[43mTicker\u001B[49m\u001B[43m(\u001B[49m\u001B[43msymbols\u001B[49m\u001B[43m)\u001B[49m\n\u001B[1;32m      8\u001B[0m \u001B[38;5;28mprint\u001B[39m(tickers)\n",
      "File \u001B[0;32m~/anaconda3/envs/portfolio_optimisation/lib/python3.10/site-packages/yfinance/ticker.py:34\u001B[0m, in \u001B[0;36mTicker.__init__\u001B[0;34m(self, ticker, session, proxy)\u001B[0m\n\u001B[1;32m     33\u001B[0m \u001B[38;5;28;01mdef\u001B[39;00m \u001B[38;5;21m__init__\u001B[39m(\u001B[38;5;28mself\u001B[39m, ticker, session\u001B[38;5;241m=\u001B[39m\u001B[38;5;28;01mNone\u001B[39;00m, proxy\u001B[38;5;241m=\u001B[39m\u001B[38;5;28;01mNone\u001B[39;00m):\n\u001B[0;32m---> 34\u001B[0m     \u001B[38;5;28;43msuper\u001B[39;49m\u001B[43m(\u001B[49m\u001B[43mTicker\u001B[49m\u001B[43m,\u001B[49m\u001B[43m \u001B[49m\u001B[38;5;28;43mself\u001B[39;49m\u001B[43m)\u001B[49m\u001B[38;5;241;43m.\u001B[39;49m\u001B[38;5;21;43m__init__\u001B[39;49m\u001B[43m(\u001B[49m\u001B[43mticker\u001B[49m\u001B[43m,\u001B[49m\u001B[43m \u001B[49m\u001B[43msession\u001B[49m\u001B[38;5;241;43m=\u001B[39;49m\u001B[43msession\u001B[49m\u001B[43m,\u001B[49m\u001B[43m \u001B[49m\u001B[43mproxy\u001B[49m\u001B[38;5;241;43m=\u001B[39;49m\u001B[43mproxy\u001B[49m\u001B[43m)\u001B[49m\n\u001B[1;32m     35\u001B[0m     \u001B[38;5;28mself\u001B[39m\u001B[38;5;241m.\u001B[39m_expirations \u001B[38;5;241m=\u001B[39m {}\n\u001B[1;32m     36\u001B[0m     \u001B[38;5;28mself\u001B[39m\u001B[38;5;241m.\u001B[39m_underlying  \u001B[38;5;241m=\u001B[39m {}\n",
      "File \u001B[0;32m~/anaconda3/envs/portfolio_optimisation/lib/python3.10/site-packages/yfinance/base.py:47\u001B[0m, in \u001B[0;36mTickerBase.__init__\u001B[0;34m(self, ticker, session, proxy)\u001B[0m\n\u001B[1;32m     46\u001B[0m \u001B[38;5;28;01mdef\u001B[39;00m \u001B[38;5;21m__init__\u001B[39m(\u001B[38;5;28mself\u001B[39m, ticker, session\u001B[38;5;241m=\u001B[39m\u001B[38;5;28;01mNone\u001B[39;00m, proxy\u001B[38;5;241m=\u001B[39m\u001B[38;5;28;01mNone\u001B[39;00m):\n\u001B[0;32m---> 47\u001B[0m     \u001B[38;5;28mself\u001B[39m\u001B[38;5;241m.\u001B[39mticker \u001B[38;5;241m=\u001B[39m \u001B[43mticker\u001B[49m\u001B[38;5;241;43m.\u001B[39;49m\u001B[43mupper\u001B[49m()\n\u001B[1;32m     48\u001B[0m     \u001B[38;5;28mself\u001B[39m\u001B[38;5;241m.\u001B[39mproxy \u001B[38;5;241m=\u001B[39m proxy\n\u001B[1;32m     49\u001B[0m     \u001B[38;5;28mself\u001B[39m\u001B[38;5;241m.\u001B[39msession \u001B[38;5;241m=\u001B[39m session\n",
      "\u001B[0;31mAttributeError\u001B[0m: 'list' object has no attribute 'upper'"
     ]
    }
   ],
   "source": [
    "# List of stock symbols\n",
    "symbols = ['AAPL', 'MSFT', 'GOOGL', 'AMZN', 'TSLA']\n",
    "\n",
    "# Dictionary to store market capitalizations\n",
    "market_caps = {}\n",
    "\n",
    "# Fetch market capitalization for each symbol\n",
    "for symbol in symbols:\n",
    "    ticker = yf.Ticker(symbol)\n",
    "    market_cap = ticker.info.get('marketCap', 'pegRatio')  # Use 'N/A' if marketCap is not available\n",
    "    market_caps[symbol] = market_cap\n",
    "\n",
    "# Print the market capitalizations\n",
    "for symbol, market_cap in market_caps.items():\n",
    "    print(f\"{symbol}: {market_cap}\")"
   ],
   "metadata": {
    "collapsed": false,
    "ExecuteTime": {
     "end_time": "2024-07-15T22:23:49.676723Z",
     "start_time": "2024-07-15T22:23:49.575554Z"
    }
   },
   "id": "6baceeda7fbe6617"
  },
  {
   "cell_type": "code",
   "source": [
    "tickers = yf.Tickers('MSFT') # 'msft aapl goog'\n",
    "tickers.tickers['MSFT'].info"
   ],
   "metadata": {
    "collapsed": false,
    "ExecuteTime": {
     "end_time": "2024-09-08T15:55:26.622019Z",
     "start_time": "2024-09-08T15:55:26.068427Z"
    }
   },
   "id": "faf2d3486e3b9848",
   "outputs": [
    {
     "data": {
      "text/plain": [
       "{'address1': 'One Microsoft Way',\n",
       " 'city': 'Redmond',\n",
       " 'state': 'WA',\n",
       " 'zip': '98052-6399',\n",
       " 'country': 'United States',\n",
       " 'phone': '425 882 8080',\n",
       " 'website': 'https://www.microsoft.com',\n",
       " 'industry': 'Software - Infrastructure',\n",
       " 'industryKey': 'software-infrastructure',\n",
       " 'industryDisp': 'Software - Infrastructure',\n",
       " 'sector': 'Technology',\n",
       " 'sectorKey': 'technology',\n",
       " 'sectorDisp': 'Technology',\n",
       " 'longBusinessSummary': 'Microsoft Corporation develops and supports software, services, devices and solutions worldwide. The Productivity and Business Processes segment offers office, exchange, SharePoint, Microsoft Teams, office 365 Security and Compliance, Microsoft viva, and Microsoft 365 copilot; and office consumer services, such as Microsoft 365 consumer subscriptions, Office licensed on-premises, and other office services. This segment also provides LinkedIn; and dynamics business solutions, including Dynamics 365, a set of intelligent, cloud-based applications across ERP, CRM, power apps, and power automate; and on-premises ERP and CRM applications. The Intelligent Cloud segment offers server products and cloud services, such as azure and other cloud services; SQL and windows server, visual studio, system center, and related client access licenses, as well as nuance and GitHub; and enterprise services including enterprise support services, industry solutions, and nuance professional services. The More Personal Computing segment offers Windows, including windows OEM licensing and other non-volume licensing of the Windows operating system; Windows commercial comprising volume licensing of the Windows operating system, windows cloud services, and other Windows commercial offerings; patent licensing; and windows Internet of Things; and devices, such as surface, HoloLens, and PC accessories. Additionally, this segment provides gaming, which includes Xbox hardware and content, and first- and third-party content; Xbox game pass and other subscriptions, cloud gaming, advertising, third-party disc royalties, and other cloud services; and search and news advertising, which includes Bing, Microsoft News and Edge, and third-party affiliates. The company sells its products through OEMs, distributors, and resellers; and directly through digital marketplaces, online, and retail stores. The company was founded in 1975 and is headquartered in Redmond, Washington.',\n",
       " 'fullTimeEmployees': 228000,\n",
       " 'companyOfficers': [{'maxAge': 1,\n",
       "   'name': 'Mr. Satya  Nadella',\n",
       "   'age': 56,\n",
       "   'title': 'Chairman & CEO',\n",
       "   'yearBorn': 1967,\n",
       "   'fiscalYear': 2023,\n",
       "   'totalPay': 9276400,\n",
       "   'exercisedValue': 0,\n",
       "   'unexercisedValue': 0},\n",
       "  {'maxAge': 1,\n",
       "   'name': 'Mr. Bradford L. Smith LCA',\n",
       "   'age': 64,\n",
       "   'title': 'President & Vice Chairman',\n",
       "   'yearBorn': 1959,\n",
       "   'fiscalYear': 2023,\n",
       "   'totalPay': 3591277,\n",
       "   'exercisedValue': 0,\n",
       "   'unexercisedValue': 0},\n",
       "  {'maxAge': 1,\n",
       "   'name': 'Ms. Amy E. Hood',\n",
       "   'age': 51,\n",
       "   'title': 'Executive VP & CFO',\n",
       "   'yearBorn': 1972,\n",
       "   'fiscalYear': 2023,\n",
       "   'totalPay': 3452196,\n",
       "   'exercisedValue': 0,\n",
       "   'unexercisedValue': 0},\n",
       "  {'maxAge': 1,\n",
       "   'name': 'Mr. Judson B. Althoff',\n",
       "   'age': 50,\n",
       "   'title': 'Executive VP & Chief Commercial Officer',\n",
       "   'yearBorn': 1973,\n",
       "   'fiscalYear': 2023,\n",
       "   'totalPay': 3355797,\n",
       "   'exercisedValue': 0,\n",
       "   'unexercisedValue': 0},\n",
       "  {'maxAge': 1,\n",
       "   'name': 'Mr. Christopher David Young',\n",
       "   'age': 51,\n",
       "   'title': 'Executive Vice President of Business Development, Strategy & Ventures',\n",
       "   'yearBorn': 1972,\n",
       "   'fiscalYear': 2023,\n",
       "   'totalPay': 2460507,\n",
       "   'exercisedValue': 0,\n",
       "   'unexercisedValue': 0},\n",
       "  {'maxAge': 1,\n",
       "   'name': 'Ms. Alice L. Jolla',\n",
       "   'age': 57,\n",
       "   'title': 'Corporate VP & Chief Accounting Officer',\n",
       "   'yearBorn': 1966,\n",
       "   'fiscalYear': 2023,\n",
       "   'exercisedValue': 0,\n",
       "   'unexercisedValue': 0},\n",
       "  {'maxAge': 1,\n",
       "   'name': 'Mr. James Kevin Scott',\n",
       "   'age': 51,\n",
       "   'title': 'Executive VP of AI & CTO',\n",
       "   'yearBorn': 1972,\n",
       "   'fiscalYear': 2023,\n",
       "   'exercisedValue': 0,\n",
       "   'unexercisedValue': 0},\n",
       "  {'maxAge': 1,\n",
       "   'name': 'Brett  Iversen',\n",
       "   'title': 'Vice President of Investor Relations',\n",
       "   'fiscalYear': 2023,\n",
       "   'exercisedValue': 0,\n",
       "   'unexercisedValue': 0},\n",
       "  {'maxAge': 1,\n",
       "   'name': 'Mr. Hossein  Nowbar',\n",
       "   'title': 'Chief Legal Officer',\n",
       "   'fiscalYear': 2023,\n",
       "   'exercisedValue': 0,\n",
       "   'unexercisedValue': 0},\n",
       "  {'maxAge': 1,\n",
       "   'name': 'Mr. Frank X. Shaw',\n",
       "   'title': 'Chief Communications Officer',\n",
       "   'fiscalYear': 2023,\n",
       "   'exercisedValue': 0,\n",
       "   'unexercisedValue': 0}],\n",
       " 'auditRisk': 3,\n",
       " 'boardRisk': 4,\n",
       " 'compensationRisk': 2,\n",
       " 'shareHolderRightsRisk': 2,\n",
       " 'overallRisk': 1,\n",
       " 'governanceEpochDate': 1725148800,\n",
       " 'compensationAsOfEpochDate': 1703980800,\n",
       " 'irWebsite': 'http://www.microsoft.com/investor/default.aspx',\n",
       " 'maxAge': 86400,\n",
       " 'priceHint': 2,\n",
       " 'previousClose': 408.39,\n",
       " 'open': 409.06,\n",
       " 'dayLow': 400.8,\n",
       " 'dayHigh': 410.65,\n",
       " 'regularMarketPreviousClose': 408.39,\n",
       " 'regularMarketOpen': 409.06,\n",
       " 'regularMarketDayLow': 400.8,\n",
       " 'regularMarketDayHigh': 410.65,\n",
       " 'dividendRate': 3.0,\n",
       " 'dividendYield': 0.0075,\n",
       " 'exDividendDate': 1723680000,\n",
       " 'payoutRatio': 0.2483,\n",
       " 'fiveYearAvgDividendYield': 0.9,\n",
       " 'beta': 0.896,\n",
       " 'trailingPE': 34.013546,\n",
       " 'forwardPE': 26.375576,\n",
       " 'volume': 18282492,\n",
       " 'regularMarketVolume': 18282492,\n",
       " 'averageVolume': 19781630,\n",
       " 'averageVolume10days': 17040280,\n",
       " 'averageDailyVolume10Day': 17040280,\n",
       " 'bid': 401.57,\n",
       " 'ask': 401.78,\n",
       " 'bidSize': 100,\n",
       " 'askSize': 100,\n",
       " 'marketCap': 2985852141568,\n",
       " 'fiftyTwoWeekLow': 309.45,\n",
       " 'fiftyTwoWeekHigh': 468.35,\n",
       " 'priceToSalesTrailing12Months': 12.181086,\n",
       " 'fiftyDayAverage': 428.0274,\n",
       " 'twoHundredDayAverage': 411.3912,\n",
       " 'trailingAnnualDividendRate': 3.0,\n",
       " 'trailingAnnualDividendYield': 0.007345919,\n",
       " 'currency': 'USD',\n",
       " 'enterpriseValue': 3008172392448,\n",
       " 'profitMargins': 0.35956,\n",
       " 'floatShares': 7422706458,\n",
       " 'sharesOutstanding': 7433039872,\n",
       " 'sharesShort': 54789102,\n",
       " 'sharesShortPriorMonth': 61931266,\n",
       " 'sharesShortPreviousMonthDate': 1721001600,\n",
       " 'dateShortInterest': 1723680000,\n",
       " 'sharesPercentSharesOut': 0.0074,\n",
       " 'heldPercentInsiders': 0.00055,\n",
       " 'heldPercentInstitutions': 0.73753,\n",
       " 'shortRatio': 2.37,\n",
       " 'shortPercentOfFloat': 0.0074,\n",
       " 'impliedSharesOutstanding': 7433039872,\n",
       " 'bookValue': 36.115,\n",
       " 'priceToBook': 11.122802,\n",
       " 'lastFiscalYearEnd': 1719705600,\n",
       " 'nextFiscalYearEnd': 1751241600,\n",
       " 'mostRecentQuarter': 1719705600,\n",
       " 'earningsQuarterlyGrowth': 0.097,\n",
       " 'netIncomeToCommon': 88135999488,\n",
       " 'trailingEps': 11.81,\n",
       " 'forwardEps': 15.23,\n",
       " 'pegRatio': 2.14,\n",
       " 'lastSplitFactor': '2:1',\n",
       " 'lastSplitDate': 1045526400,\n",
       " 'enterpriseToRevenue': 12.272,\n",
       " 'enterpriseToEbitda': 23.241,\n",
       " '52WeekChange': 0.18867254,\n",
       " 'SandP52WeekChange': 0.20522964,\n",
       " 'lastDividendValue': 0.75,\n",
       " 'lastDividendDate': 1723680000,\n",
       " 'exchange': 'NMS',\n",
       " 'quoteType': 'EQUITY',\n",
       " 'symbol': 'MSFT',\n",
       " 'underlyingSymbol': 'MSFT',\n",
       " 'shortName': 'Microsoft Corporation',\n",
       " 'longName': 'Microsoft Corporation',\n",
       " 'firstTradeDateEpochUtc': 511108200,\n",
       " 'timeZoneFullName': 'America/New_York',\n",
       " 'timeZoneShortName': 'EDT',\n",
       " 'uuid': 'b004b3ec-de24-385e-b2c1-923f10d3fb62',\n",
       " 'messageBoardId': 'finmb_21835',\n",
       " 'gmtOffSetMilliseconds': -14400000,\n",
       " 'currentPrice': 401.7,\n",
       " 'targetHighPrice': 600.0,\n",
       " 'targetLowPrice': 440.0,\n",
       " 'targetMeanPrice': 496.67,\n",
       " 'targetMedianPrice': 500.0,\n",
       " 'recommendationMean': 1.7,\n",
       " 'recommendationKey': 'buy',\n",
       " 'numberOfAnalystOpinions': 47,\n",
       " 'totalCash': 75531001856,\n",
       " 'totalCashPerShare': 10.162,\n",
       " 'ebitda': 129433001984,\n",
       " 'totalDebt': 97851998208,\n",
       " 'quickRatio': 1.141,\n",
       " 'currentRatio': 1.275,\n",
       " 'totalRevenue': 245122007040,\n",
       " 'debtToEquity': 36.447,\n",
       " 'revenuePerShare': 32.986,\n",
       " 'returnOnAssets': 0.14802,\n",
       " 'returnOnEquity': 0.37133,\n",
       " 'freeCashflow': 56705249280,\n",
       " 'operatingCashflow': 118547996672,\n",
       " 'earningsGrowth': 0.097,\n",
       " 'revenueGrowth': 0.152,\n",
       " 'grossMargins': 0.69764,\n",
       " 'ebitdaMargins': 0.52804,\n",
       " 'operatingMargins': 0.43143,\n",
       " 'financialCurrency': 'USD',\n",
       " 'trailingPegRatio': 2.167}"
      ]
     },
     "execution_count": 64,
     "metadata": {},
     "output_type": "execute_result"
    }
   ],
   "execution_count": 64
  },
  {
   "cell_type": "code",
   "execution_count": 8,
   "outputs": [
    {
     "name": "stderr",
     "output_type": "stream",
     "text": [
      "[*********************100%%**********************]  1 of 1 completed\n"
     ]
    },
    {
     "data": {
      "text/plain": "                  Open        High        Low       Close   Adj Close  \\\nDate                                                                    \n2017-10-01   25.200001   26.280001  18.350000   20.379999   20.379999   \n2017-11-01   20.440001   51.799999  18.561001   43.900002   43.900002   \n2017-12-01   43.740002   58.799999  37.810001   51.779999   51.779999   \n2018-01-01   52.639999   57.416000  39.099998   40.619999   40.619999   \n2018-02-01   40.349998   52.700001  39.009998   40.770000   40.770000   \n...                ...         ...        ...         ...         ...   \n2023-08-01   95.510002   98.440002  75.120003   81.199997   81.199997   \n2023-09-01   81.830002   95.839996  66.660004   70.589996   70.589996   \n2023-10-01   70.209999   75.449997  55.020000   59.570000   59.570000   \n2023-11-01   59.139999  108.398003  57.320000  104.199997  104.199997   \n2023-12-01  103.589996  108.839996  88.711998   91.660004   91.660004   \n\n               Volume  \nDate                   \n2017-10-01  103623700  \n2017-11-01  344180400  \n2017-12-01  155492200  \n2018-01-01  118705900  \n2018-02-01  100262800  \n...               ...  \n2023-08-01  150684200  \n2023-09-01  148829200  \n2023-10-01  116384700  \n2023-11-01  217872900  \n2023-12-01  109982200  \n\n[75 rows x 6 columns]",
      "text/html": "<div>\n<style scoped>\n    .dataframe tbody tr th:only-of-type {\n        vertical-align: middle;\n    }\n\n    .dataframe tbody tr th {\n        vertical-align: top;\n    }\n\n    .dataframe thead th {\n        text-align: right;\n    }\n</style>\n<table border=\"1\" class=\"dataframe\">\n  <thead>\n    <tr style=\"text-align: right;\">\n      <th></th>\n      <th>Open</th>\n      <th>High</th>\n      <th>Low</th>\n      <th>Close</th>\n      <th>Adj Close</th>\n      <th>Volume</th>\n    </tr>\n    <tr>\n      <th>Date</th>\n      <th></th>\n      <th></th>\n      <th></th>\n      <th></th>\n      <th></th>\n      <th></th>\n    </tr>\n  </thead>\n  <tbody>\n    <tr>\n      <th>2017-10-01</th>\n      <td>25.200001</td>\n      <td>26.280001</td>\n      <td>18.350000</td>\n      <td>20.379999</td>\n      <td>20.379999</td>\n      <td>103623700</td>\n    </tr>\n    <tr>\n      <th>2017-11-01</th>\n      <td>20.440001</td>\n      <td>51.799999</td>\n      <td>18.561001</td>\n      <td>43.900002</td>\n      <td>43.900002</td>\n      <td>344180400</td>\n    </tr>\n    <tr>\n      <th>2017-12-01</th>\n      <td>43.740002</td>\n      <td>58.799999</td>\n      <td>37.810001</td>\n      <td>51.779999</td>\n      <td>51.779999</td>\n      <td>155492200</td>\n    </tr>\n    <tr>\n      <th>2018-01-01</th>\n      <td>52.639999</td>\n      <td>57.416000</td>\n      <td>39.099998</td>\n      <td>40.619999</td>\n      <td>40.619999</td>\n      <td>118705900</td>\n    </tr>\n    <tr>\n      <th>2018-02-01</th>\n      <td>40.349998</td>\n      <td>52.700001</td>\n      <td>39.009998</td>\n      <td>40.770000</td>\n      <td>40.770000</td>\n      <td>100262800</td>\n    </tr>\n    <tr>\n      <th>...</th>\n      <td>...</td>\n      <td>...</td>\n      <td>...</td>\n      <td>...</td>\n      <td>...</td>\n      <td>...</td>\n    </tr>\n    <tr>\n      <th>2023-08-01</th>\n      <td>95.510002</td>\n      <td>98.440002</td>\n      <td>75.120003</td>\n      <td>81.199997</td>\n      <td>81.199997</td>\n      <td>150684200</td>\n    </tr>\n    <tr>\n      <th>2023-09-01</th>\n      <td>81.830002</td>\n      <td>95.839996</td>\n      <td>66.660004</td>\n      <td>70.589996</td>\n      <td>70.589996</td>\n      <td>148829200</td>\n    </tr>\n    <tr>\n      <th>2023-10-01</th>\n      <td>70.209999</td>\n      <td>75.449997</td>\n      <td>55.020000</td>\n      <td>59.570000</td>\n      <td>59.570000</td>\n      <td>116384700</td>\n    </tr>\n    <tr>\n      <th>2023-11-01</th>\n      <td>59.139999</td>\n      <td>108.398003</td>\n      <td>57.320000</td>\n      <td>104.199997</td>\n      <td>104.199997</td>\n      <td>217872900</td>\n    </tr>\n    <tr>\n      <th>2023-12-01</th>\n      <td>103.589996</td>\n      <td>108.839996</td>\n      <td>88.711998</td>\n      <td>91.660004</td>\n      <td>91.660004</td>\n      <td>109982200</td>\n    </tr>\n  </tbody>\n</table>\n<p>75 rows × 6 columns</p>\n</div>"
     },
     "execution_count": 8,
     "metadata": {},
     "output_type": "execute_result"
    }
   ],
   "source": [
    "#data = yf.download(\"MSFT\", period=\"1mo\") # start=\"2022-01-01\", end=None\n",
    "data = yf.download(\"ROKU\", start=\"1999-01-01\", end='2024-01-01', interval=\"1mo\")\n",
    "data"
   ],
   "metadata": {
    "collapsed": false,
    "ExecuteTime": {
     "end_time": "2024-07-28T12:37:00.297829Z",
     "start_time": "2024-07-28T12:36:59.827684Z"
    }
   },
   "id": "c28d44b9421e66cd"
  },
  {
   "cell_type": "code",
   "execution_count": 55,
   "outputs": [
    {
     "data": {
      "text/plain": "Date\n2017-11-01    2.15\n2017-12-01    1.18\n2018-01-01    0.78\n2018-02-01    1.00\n2018-03-01    0.76\n              ... \n2023-08-01    0.84\n2023-09-01    0.87\n2023-10-01    0.84\n2023-11-01    1.75\n2023-12-01    0.88\nName: Monthly Return, Length: 74, dtype: float64"
     },
     "execution_count": 55,
     "metadata": {},
     "output_type": "execute_result"
    }
   ],
   "source": [
    "data['Monthly Return'] = 1 + data['Adj Close'].pct_change()\n",
    "data_dropped = data.round(2).dropna()\n",
    "data_dropped"
   ],
   "metadata": {
    "collapsed": false,
    "ExecuteTime": {
     "end_time": "2024-07-28T13:51:28.729471Z",
     "start_time": "2024-07-28T13:51:28.699628Z"
    }
   },
   "id": "1e8556893ac5b6f1"
  },
  {
   "cell_type": "code",
   "execution_count": 65,
   "outputs": [
    {
     "data": {
      "text/plain": "[2.15,\n 1.18,\n 0.78,\n 1.0,\n 0.76,\n 1.05,\n 1.15,\n 1.14,\n 1.07,\n 1.31,\n 1.23,\n 0.76,\n 0.73,\n 0.75,\n 1.47,\n 1.47,\n 0.97,\n 0.99,\n 1.42,\n 1.0,\n 1.14,\n 1.46,\n 0.67,\n 1.45,\n 1.09,\n 0.83,\n 0.9,\n 0.94,\n 0.77,\n 1.39,\n 0.9,\n 1.06,\n 1.33,\n 1.12,\n 1.09,\n 1.07,\n 1.45,\n 1.13,\n 1.17,\n 1.02,\n 0.82,\n 1.05,\n 1.01,\n 1.32,\n 0.93,\n 0.82,\n 0.89,\n 0.97,\n 0.75,\n 1.0,\n 0.72,\n 0.85,\n 0.9,\n 0.74,\n 1.02,\n 0.87,\n 0.8,\n 1.04,\n 0.83,\n 0.98,\n 1.07,\n 0.69,\n 1.41,\n 1.13,\n 1.02,\n 0.85,\n 1.04,\n 1.1,\n 1.51,\n 0.84,\n 0.87,\n 0.84,\n 1.75,\n 0.88]"
     },
     "execution_count": 65,
     "metadata": {},
     "output_type": "execute_result"
    }
   ],
   "source": [
    "data_dropped.to_list()"
   ],
   "metadata": {
    "collapsed": false,
    "ExecuteTime": {
     "end_time": "2024-07-28T13:53:39.217517Z",
     "start_time": "2024-07-28T13:53:39.203220Z"
    }
   },
   "id": "847298e62c2e86ea"
  },
  {
   "cell_type": "code",
   "execution_count": 66,
   "outputs": [
    {
     "data": {
      "text/plain": "88.47005754723118"
     },
     "execution_count": 66,
     "metadata": {},
     "output_type": "execute_result"
    }
   ],
   "source": [
    "current_price = 20.379999\n",
    "for factor in data_dropped.to_list():\n",
    "    current_price *= factor\n",
    "current_price"
   ],
   "metadata": {
    "collapsed": false,
    "ExecuteTime": {
     "end_time": "2024-07-28T13:53:49.850781Z",
     "start_time": "2024-07-28T13:53:49.839476Z"
    }
   },
   "id": "c0071db831ad3712"
  },
  {
   "cell_type": "code",
   "execution_count": 30,
   "outputs": [],
   "source": [
    "decimal_returns = data['Monthly Return'].notna().to_list()"
   ],
   "metadata": {
    "collapsed": false,
    "ExecuteTime": {
     "end_time": "2024-07-28T13:21:25.122594Z",
     "start_time": "2024-07-28T13:21:25.105174Z"
    }
   },
   "id": "6d9b3e9af6197f2e"
  },
  {
   "cell_type": "code",
   "execution_count": 49,
   "outputs": [
    {
     "data": {
      "text/plain": "5.000637410490707"
     },
     "execution_count": 49,
     "metadata": {},
     "output_type": "execute_result"
    }
   ],
   "source": [
    "arithmetic_mean = np.mean(data['Monthly Return'])\n",
    "arithmetic_mean"
   ],
   "metadata": {
    "collapsed": false,
    "ExecuteTime": {
     "end_time": "2024-07-28T13:30:45.863528Z",
     "start_time": "2024-07-28T13:30:45.855888Z"
    }
   },
   "id": "ac86f2f4d37d644e"
  },
  {
   "cell_type": "code",
   "execution_count": 34,
   "outputs": [
    {
     "data": {
      "text/plain": "-1.0"
     },
     "execution_count": 34,
     "metadata": {},
     "output_type": "execute_result"
    }
   ],
   "source": [
    "geometric_mean = np.prod([1 + r for r in decimal_returns]) ** (1/len(decimal_returns)) - 1\n",
    "geometric_mean"
   ],
   "metadata": {
    "collapsed": false,
    "ExecuteTime": {
     "end_time": "2024-07-28T13:24:01.272682Z",
     "start_time": "2024-07-28T13:24:01.259252Z"
    }
   },
   "id": "10ef7ef93cc756a4"
  },
  {
   "cell_type": "code",
   "execution_count": 73,
   "outputs": [
    {
     "data": {
      "text/plain": "['ROKU', 'MSFT']"
     },
     "execution_count": 73,
     "metadata": {},
     "output_type": "execute_result"
    }
   ],
   "source": [
    "pd.Series(['ROKU', 'MSFT']).tolist()"
   ],
   "metadata": {
    "collapsed": false,
    "ExecuteTime": {
     "end_time": "2024-07-28T23:21:02.829964Z",
     "start_time": "2024-07-28T23:21:02.822216Z"
    }
   },
   "id": "1be18433d61f813d"
  },
  {
   "cell_type": "code",
   "execution_count": 82,
   "outputs": [
    {
     "name": "stdout",
     "output_type": "stream",
     "text": [
      "Downloading data for tickers: ['ROKU', 'MSFT']\n",
      "Pausing to avoid overloading the API...\n"
     ]
    },
    {
     "data": {
      "text/plain": "                 ROKU        MSFT\nDate                             \n1999-08-01        NaN   28.588154\n1999-09-01        NaN   27.970472\n1999-10-01        NaN   28.588154\n1999-11-01        NaN   28.120068\n1999-12-01        NaN   36.058556\n...               ...         ...\n2024-03-01  65.169998  419.962494\n2024-04-01  57.660000  388.628998\n2024-05-01  57.400002  414.382568\n2024-06-01  59.930000  446.950012\n2024-07-01  59.040001  425.269989\n\n[300 rows x 2 columns]",
      "text/html": "<div>\n<style scoped>\n    .dataframe tbody tr th:only-of-type {\n        vertical-align: middle;\n    }\n\n    .dataframe tbody tr th {\n        vertical-align: top;\n    }\n\n    .dataframe thead th {\n        text-align: right;\n    }\n</style>\n<table border=\"1\" class=\"dataframe\">\n  <thead>\n    <tr style=\"text-align: right;\">\n      <th></th>\n      <th>ROKU</th>\n      <th>MSFT</th>\n    </tr>\n    <tr>\n      <th>Date</th>\n      <th></th>\n      <th></th>\n    </tr>\n  </thead>\n  <tbody>\n    <tr>\n      <th>1999-08-01</th>\n      <td>NaN</td>\n      <td>28.588154</td>\n    </tr>\n    <tr>\n      <th>1999-09-01</th>\n      <td>NaN</td>\n      <td>27.970472</td>\n    </tr>\n    <tr>\n      <th>1999-10-01</th>\n      <td>NaN</td>\n      <td>28.588154</td>\n    </tr>\n    <tr>\n      <th>1999-11-01</th>\n      <td>NaN</td>\n      <td>28.120068</td>\n    </tr>\n    <tr>\n      <th>1999-12-01</th>\n      <td>NaN</td>\n      <td>36.058556</td>\n    </tr>\n    <tr>\n      <th>...</th>\n      <td>...</td>\n      <td>...</td>\n    </tr>\n    <tr>\n      <th>2024-03-01</th>\n      <td>65.169998</td>\n      <td>419.962494</td>\n    </tr>\n    <tr>\n      <th>2024-04-01</th>\n      <td>57.660000</td>\n      <td>388.628998</td>\n    </tr>\n    <tr>\n      <th>2024-05-01</th>\n      <td>57.400002</td>\n      <td>414.382568</td>\n    </tr>\n    <tr>\n      <th>2024-06-01</th>\n      <td>59.930000</td>\n      <td>446.950012</td>\n    </tr>\n    <tr>\n      <th>2024-07-01</th>\n      <td>59.040001</td>\n      <td>425.269989</td>\n    </tr>\n  </tbody>\n</table>\n<p>300 rows × 2 columns</p>\n</div>"
     },
     "execution_count": 82,
     "metadata": {},
     "output_type": "execute_result"
    }
   ],
   "source": [
    "df_monthly_returns = data_ticker_service.get_returns_in_chunks(['ROKU', 'MSFT'], '1999-08-01', '2024-08-01', interval='1mo', chunk_size=2, sleep_duration=5)\n",
    "df_monthly_returns"
   ],
   "metadata": {
    "collapsed": false,
    "ExecuteTime": {
     "end_time": "2024-07-28T23:51:41.572054Z",
     "start_time": "2024-07-28T23:51:36.268572Z"
    }
   },
   "id": "d6d3bc89d5fd8220"
  },
  {
   "cell_type": "code",
   "execution_count": 77,
   "outputs": [
    {
     "ename": "NameError",
     "evalue": "name 'df_monthly_returns' is not defined",
     "output_type": "error",
     "traceback": [
      "\u001B[0;31m---------------------------------------------------------------------------\u001B[0m",
      "\u001B[0;31mNameError\u001B[0m                                 Traceback (most recent call last)",
      "Cell \u001B[0;32mIn[77], line 1\u001B[0m\n\u001B[0;32m----> 1\u001B[0m \u001B[43mdf_monthly_returns\u001B[49m\n",
      "\u001B[0;31mNameError\u001B[0m: name 'df_monthly_returns' is not defined"
     ]
    }
   ],
   "source": [
    "df_monthly_returns"
   ],
   "metadata": {
    "collapsed": false,
    "ExecuteTime": {
     "end_time": "2024-07-28T23:29:32.372664Z",
     "start_time": "2024-07-28T23:29:32.346101Z"
    }
   },
   "id": "d4912c37bcd14f13"
  },
  {
   "cell_type": "code",
   "execution_count": 3,
   "outputs": [
    {
     "name": "stderr",
     "output_type": "stream",
     "text": [
      "/var/folders/8f/b5rl_hw50bn0_k4xrt7mtm7w0000gn/T/ipykernel_27328/264734790.py:1: FutureWarning: 'M' is deprecated and will be removed in a future version, please use 'ME' instead.\n",
      "  pd.date_range(start='2023-01-01', periods=12, freq='M')\n"
     ]
    },
    {
     "data": {
      "text/plain": "DatetimeIndex(['2023-01-31', '2023-02-28', '2023-03-31', '2023-04-30',\n               '2023-05-31', '2023-06-30', '2023-07-31', '2023-08-31',\n               '2023-09-30', '2023-10-31', '2023-11-30', '2023-12-31'],\n              dtype='datetime64[ns]', freq='ME')"
     },
     "execution_count": 3,
     "metadata": {},
     "output_type": "execute_result"
    }
   ],
   "source": [
    "pd.date_range(start='2023-01-01', periods=12, freq='M')"
   ],
   "metadata": {
    "collapsed": false,
    "ExecuteTime": {
     "end_time": "2024-08-09T23:30:38.908020Z",
     "start_time": "2024-08-09T23:30:38.903674Z"
    }
   },
   "id": "ee628c7f50d4d1f8"
  },
  {
   "cell_type": "code",
   "execution_count": 1,
   "outputs": [
    {
     "ename": "ModuleNotFoundError",
     "evalue": "No module named 'seaborn'",
     "output_type": "error",
     "traceback": [
      "\u001B[0;31m---------------------------------------------------------------------------\u001B[0m",
      "\u001B[0;31mModuleNotFoundError\u001B[0m                       Traceback (most recent call last)",
      "Cell \u001B[0;32mIn[1], line 1\u001B[0m\n\u001B[0;32m----> 1\u001B[0m \u001B[38;5;28;01mimport\u001B[39;00m \u001B[38;5;21;01mseaborn\u001B[39;00m \u001B[38;5;28;01mas\u001B[39;00m \u001B[38;5;21;01msns\u001B[39;00m\n\u001B[1;32m      3\u001B[0m \u001B[38;5;66;03m# Sample data\u001B[39;00m\n\u001B[1;32m      4\u001B[0m data \u001B[38;5;241m=\u001B[39m {\n\u001B[1;32m      5\u001B[0m     \u001B[38;5;124m'\u001B[39m\u001B[38;5;124mDate\u001B[39m\u001B[38;5;124m'\u001B[39m: pd\u001B[38;5;241m.\u001B[39mdate_range(start\u001B[38;5;241m=\u001B[39m\u001B[38;5;124m'\u001B[39m\u001B[38;5;124m2023-01-01\u001B[39m\u001B[38;5;124m'\u001B[39m, periods\u001B[38;5;241m=\u001B[39m\u001B[38;5;241m12\u001B[39m, freq\u001B[38;5;241m=\u001B[39m\u001B[38;5;124m'\u001B[39m\u001B[38;5;124mM\u001B[39m\u001B[38;5;124m'\u001B[39m),\n\u001B[1;32m      6\u001B[0m     \u001B[38;5;124m'\u001B[39m\u001B[38;5;124mReturn Rate\u001B[39m\u001B[38;5;124m'\u001B[39m: [\u001B[38;5;241m0.02\u001B[39m, \u001B[38;5;241m0.015\u001B[39m, \u001B[38;5;241m0.03\u001B[39m, \u001B[38;5;241m0.025\u001B[39m, \u001B[38;5;241m-\u001B[39m\u001B[38;5;241m0.01\u001B[39m, \u001B[38;5;241m0.05\u001B[39m, \u001B[38;5;241m0.04\u001B[39m, \u001B[38;5;241m0.035\u001B[39m, \u001B[38;5;241m-\u001B[39m\u001B[38;5;241m0.02\u001B[39m, \u001B[38;5;241m0.025\u001B[39m, \u001B[38;5;241m0.03\u001B[39m, \u001B[38;5;241m0.02\u001B[39m],\n\u001B[1;32m      7\u001B[0m     \u001B[38;5;124m'\u001B[39m\u001B[38;5;124mVolatility\u001B[39m\u001B[38;5;124m'\u001B[39m: [\u001B[38;5;241m0.01\u001B[39m, \u001B[38;5;241m0.015\u001B[39m, \u001B[38;5;241m0.02\u001B[39m, \u001B[38;5;241m0.025\u001B[39m, \u001B[38;5;241m0.03\u001B[39m, \u001B[38;5;241m0.02\u001B[39m, \u001B[38;5;241m0.015\u001B[39m, \u001B[38;5;241m0.01\u001B[39m, \u001B[38;5;241m0.02\u001B[39m, \u001B[38;5;241m0.025\u001B[39m, \u001B[38;5;241m0.03\u001B[39m, \u001B[38;5;241m0.015\u001B[39m]\n\u001B[1;32m      8\u001B[0m }\n",
      "\u001B[0;31mModuleNotFoundError\u001B[0m: No module named 'seaborn'"
     ]
    }
   ],
   "source": [
    "import seaborn as sns\n",
    "\n",
    "# Sample data\n",
    "data = {\n",
    "    'Date': pd.date_range(start='2023-01-01', periods=12, freq='M'),\n",
    "    'Return Rate': [0.02, 0.015, 0.03, 0.025, -0.01, 0.05, 0.04, 0.035, -0.02, 0.025, 0.03, 0.02],\n",
    "    'Volatility': [0.01, 0.015, 0.02, 0.025, 0.03, 0.02, 0.015, 0.01, 0.02, 0.025, 0.03, 0.015]\n",
    "}\n",
    "\n",
    "df = pd.DataFrame(data)\n",
    "\n",
    "# Plotting\n",
    "sns.set(style=\"whitegrid\")\n",
    "fig, ax1 = plt.subplots()\n",
    "\n",
    "ax2 = ax1.twinx()\n",
    "sns.lineplot(x='Date', y='Return Rate', data=df, ax=ax1, color='green')\n",
    "sns.lineplot(x='Date', y='Volatility', data=df, ax=ax2, color='blue')\n",
    "\n",
    "ax1.set_xlabel('Date')\n",
    "ax1.set_ylabel('Return Rate', color='green')\n",
    "ax2.set_ylabel('Volatility', color='blue')\n",
    "\n",
    "plt.title('Volatility and Return Rate Over Time')\n",
    "plt.show()\n"
   ],
   "metadata": {
    "collapsed": false,
    "ExecuteTime": {
     "end_time": "2024-08-03T22:38:13.839754Z",
     "start_time": "2024-08-03T22:38:13.829468Z"
    }
   },
   "id": "bf34a1f5364f9200"
  },
  {
   "cell_type": "code",
   "execution_count": 2,
   "outputs": [
    {
     "name": "stderr",
     "output_type": "stream",
     "text": [
      "/var/folders/8f/b5rl_hw50bn0_k4xrt7mtm7w0000gn/T/ipykernel_32961/661769545.py:6: FutureWarning: 'M' is deprecated and will be removed in a future version, please use 'ME' instead.\n",
      "  'Date': pd.date_range(start='2023-01-01', periods=12, freq='M'),\n"
     ]
    },
    {
     "data": {
      "text/plain": "<Figure size 640x480 with 2 Axes>",
      "image/png": "[encoded data removed]"
     },
     "metadata": {},
     "output_type": "display_data"
    }
   ],
   "source": [
    "import pandas as pd\n",
    "import matplotlib.pyplot as plt\n",
    "\n",
    "# Sample data\n",
    "data = {\n",
    "    'Date': pd.date_range(start='2023-01-01', periods=12, freq='M'),\n",
    "    'Return Rate': [0.02, 0.015, 0.03, 0.025, -0.01, 0.05, 0.04, 0.035, -0.02, 0.025, 0.03, 0.02],\n",
    "    'Volatility': [0.01, 0.015, 0.02, 0.025, 0.03, 0.02, 0.015, 0.01, 0.02, 0.025, 0.03, 0.015]\n",
    "}\n",
    "\n",
    "df = pd.DataFrame(data)\n",
    "\n",
    "# Plotting\n",
    "fig, ax1 = plt.subplots()\n",
    "\n",
    "ax2 = ax1.twinx()\n",
    "ax1.plot(df['Date'], df['Return Rate'], 'g-')\n",
    "ax2.plot(df['Date'], df['Volatility'], 'b-')\n",
    "\n",
    "ax1.set_xlabel('Date')\n",
    "ax1.set_ylabel('Return Rate', color='g')\n",
    "ax2.set_ylabel('Volatility', color='b')\n",
    "\n",
    "plt.title('Volatility and Return Rate Over Time')\n",
    "plt.show()\n"
   ],
   "metadata": {
    "collapsed": false,
    "ExecuteTime": {
     "end_time": "2024-08-03T22:38:38.394185Z",
     "start_time": "2024-08-03T22:38:36.882833Z"
    }
   },
   "id": "fa20125958e07f5b"
  },
  {
   "cell_type": "code",
   "execution_count": 3,
   "outputs": [
    {
     "ename": "ModuleNotFoundError",
     "evalue": "No module named 'plotly'",
     "output_type": "error",
     "traceback": [
      "\u001B[0;31m---------------------------------------------------------------------------\u001B[0m",
      "\u001B[0;31mModuleNotFoundError\u001B[0m                       Traceback (most recent call last)",
      "Cell \u001B[0;32mIn[3], line 1\u001B[0m\n\u001B[0;32m----> 1\u001B[0m \u001B[38;5;28;01mimport\u001B[39;00m \u001B[38;5;21;01mplotly\u001B[39;00m\u001B[38;5;21;01m.\u001B[39;00m\u001B[38;5;21;01mgraph_objects\u001B[39;00m \u001B[38;5;28;01mas\u001B[39;00m \u001B[38;5;21;01mgo\u001B[39;00m\n\u001B[1;32m      2\u001B[0m \u001B[38;5;28;01mimport\u001B[39;00m \u001B[38;5;21;01mpandas\u001B[39;00m \u001B[38;5;28;01mas\u001B[39;00m \u001B[38;5;21;01mpd\u001B[39;00m\n\u001B[1;32m      4\u001B[0m \u001B[38;5;66;03m# Sample data\u001B[39;00m\n",
      "\u001B[0;31mModuleNotFoundError\u001B[0m: No module named 'plotly'"
     ]
    }
   ],
   "source": [
    "import plotly.graph_objects as go\n",
    "import pandas as pd\n",
    "\n",
    "# Sample data\n",
    "data = {\n",
    "    'Date': pd.date_range(start='2023-01-01', periods=12, freq='M'),\n",
    "    'Return Rate': [0.02, 0.015, 0.03, 0.025, -0.01, 0.05, 0.04, 0.035, -0.02, 0.025, 0.03, 0.02],\n",
    "    'Volatility': [0.01, 0.015, 0.02, 0.025, 0.03, 0.02, 0.015, 0.01, 0.02, 0.025, 0.03, 0.015]\n",
    "}\n",
    "\n",
    "df = pd.DataFrame(data)\n",
    "\n",
    "# Plotting\n",
    "fig = go.Figure()\n",
    "\n",
    "fig.add_trace(go.Scatter(x=df['Date'], y=df['Return Rate'],\n",
    "                         mode='lines', name='Return Rate',\n",
    "                         line=dict(color='green')))\n",
    "\n",
    "fig.add_trace(go.Scatter(x=df['Date'], y=df['Volatility'],\n",
    "                         mode='lines', name='Volatility',\n",
    "                         line=dict(color='blue'),\n",
    "                         yaxis='y2'))\n",
    "\n",
    "# Create secondary y-axis\n",
    "fig.update_layout(\n",
    "    title=\"Volatility and Return Rate Over Time\",\n",
    "    xaxis_title=\"Date\",\n",
    "    yaxis_title=\"Return Rate\",\n",
    "    yaxis2=dict(\n",
    "        title=\"Volatility\",\n",
    "        overlaying='y',\n",
    "        side='right'\n",
    "    )\n",
    ")\n",
    "\n",
    "fig.show()\n"
   ],
   "metadata": {
    "collapsed": false,
    "ExecuteTime": {
     "end_time": "2024-08-03T22:39:14.135241Z",
     "start_time": "2024-08-03T22:39:14.067104Z"
    }
   },
   "id": "ed0fd7af2a7b9c55"
  },
  {
   "cell_type": "code",
   "source": [
    "import numpy as np\n",
    "import pandas as pd\n",
    "\n",
    "from pypfopt import (\n",
    "    EfficientFrontier,\n",
    "    expected_returns,\n",
    "    risk_models,\n",
    ")\n",
    "\n",
    "# Reading in the data; preparing expected returns and a risk model\n",
    "df = pd.read_csv(\"../data/test_stock_prices.csv\", parse_dates=True, index_col=\"date\")\n",
    "returns = df.pct_change().dropna()\n",
    "mu = expected_returns.mean_historical_return(df)\n",
    "S = risk_models.sample_cov(df)\n",
    "\n",
    "\n",
    "# Now try with a nonconvex objective from  Kolm et al (2014)\n",
    "def deviation_risk_parity(w, cov_matrix):\n",
    "    diff = w * np.dot(cov_matrix, w) - (w * np.dot(cov_matrix, w)).reshape(-1, 1)\n",
    "    return (diff**2).sum().sum()\n",
    "\n",
    "\n",
    "ef = EfficientFrontier(mu, S)\n",
    "weights = ef.nonconvex_objective(deviation_risk_parity, ef.cov_matrix)\n",
    "# ef.portfolio_performance(verbose=True)"
   ],
   "metadata": {
    "collapsed": false,
    "ExecuteTime": {
     "end_time": "2024-09-03T21:03:10.171032Z",
     "start_time": "2024-09-03T21:03:10.093092Z"
    }
   },
   "id": "56f392bc109a2dfe",
   "outputs": [],
   "execution_count": 16
  },
  {
   "metadata": {
    "ExecuteTime": {
     "end_time": "2024-09-03T21:03:25.053373Z",
     "start_time": "2024-09-03T21:03:25.038122Z"
    }
   },
   "cell_type": "code",
   "source": "S",
   "id": "217223e4ebf1836b",
   "outputs": [
    {
     "data": {
      "text/plain": [
       "          GOOG      AAPL        FB      BABA      AMZN        GE       AMD  \\\n",
       "GOOG  0.093211  0.046202  0.030801  0.029793  0.054508  0.033202  0.045523   \n",
       "AAPL  0.046202  0.207537  0.021141  0.023839  0.079294  0.038348  0.084594   \n",
       "FB    0.030801  0.021141  0.137201  0.030073  0.036893  0.014790  0.028064   \n",
       "BABA  0.029793  0.023839  0.030073  0.100958  0.033414  0.016409  0.050569   \n",
       "AMZN  0.054508  0.079294  0.036893  0.033414  0.375394  0.052262  0.103257   \n",
       "GE    0.033202  0.038348  0.014790  0.016409  0.052262  0.083109  0.048893   \n",
       "AMD   0.045523  0.084594  0.028064  0.050569  0.103257  0.048893  0.390586   \n",
       "WMT   0.017285  0.026599  0.006083  0.008732  0.037463  0.029263  0.027288   \n",
       "BAC   0.056369  0.046262  0.022944  0.024664  0.066982  0.063275  0.068712   \n",
       "GM    0.023760  0.022377  0.016759  0.020554  0.025195  0.029115  0.045382   \n",
       "T     0.023128  0.019974  0.006822  0.007204  0.025594  0.026634  0.026953   \n",
       "UAA   0.049127  0.047580  0.045494  0.027954  0.064189  0.058264  0.069835   \n",
       "SHLD  0.034392  0.042163  0.010939  0.025315  0.052116  0.048975  0.067462   \n",
       "XOM   0.027977  0.020366  0.010875  0.014194  0.026879  0.025981  0.028126   \n",
       "RRC   0.039129  0.032878  0.013685  0.024290  0.040665  0.033240  0.055601   \n",
       "BBY   0.033809  0.049032  0.018464  0.019633  0.081761  0.041641  0.066571   \n",
       "MA    0.046931  0.047051  0.022726  0.025436  0.055378  0.046593  0.064909   \n",
       "PFE   0.022495  0.021461  0.012496  0.013162  0.033235  0.030084  0.028145   \n",
       "JPM   0.048596  0.047115  0.018556  0.021288  0.072853  0.059512  0.070040   \n",
       "SBUX  0.037831  0.043945  0.021882  0.017427  0.065904  0.038070  0.057153   \n",
       "\n",
       "           WMT       BAC        GM         T       UAA      SHLD       XOM  \\\n",
       "GOOG  0.017285  0.056369  0.023760  0.023128  0.049127  0.034392  0.027977   \n",
       "AAPL  0.026599  0.046262  0.022377  0.019974  0.047580  0.042163  0.020366   \n",
       "FB    0.006083  0.022944  0.016759  0.006822  0.045494  0.010939  0.010875   \n",
       "BABA  0.008732  0.024664  0.020554  0.007204  0.027954  0.025315  0.014194   \n",
       "AMZN  0.037463  0.066982  0.025195  0.025594  0.064189  0.052116  0.026879   \n",
       "GE    0.029263  0.063275  0.029115  0.026634  0.058264  0.048975  0.025981   \n",
       "AMD   0.027288  0.068712  0.045382  0.026953  0.069835  0.067462  0.028126   \n",
       "WMT   0.069092  0.030757  0.013886  0.021120  0.027989  0.029773  0.017146   \n",
       "BAC   0.030757  0.180192  0.048546  0.034066  0.093508  0.075228  0.032366   \n",
       "GM    0.013886  0.048546  0.080116  0.015221  0.037477  0.043757  0.022664   \n",
       "T     0.021120  0.034066  0.015221  0.065560  0.032152  0.028968  0.022092   \n",
       "UAA   0.027989  0.093508  0.037477  0.032152  0.245524  0.082607  0.036233   \n",
       "SHLD  0.029773  0.075228  0.043757  0.028968  0.082607  0.321162  0.030568   \n",
       "XOM   0.017146  0.032366  0.022664  0.022092  0.036233  0.030568  0.054404   \n",
       "RRC   0.013551  0.050768  0.029205  0.021476  0.058340  0.049463  0.045031   \n",
       "BBY   0.037625  0.052498  0.029999  0.022335  0.066893  0.068153  0.017582   \n",
       "MA    0.023123  0.085778  0.028186  0.030197  0.058182  0.045002  0.036187   \n",
       "PFE   0.023309  0.035209  0.018643  0.021035  0.034359  0.027066  0.022610   \n",
       "JPM   0.033229  0.116912  0.039273  0.035321  0.080270  0.062955  0.030229   \n",
       "SBUX  0.028163  0.052539  0.024758  0.023735  0.063863  0.050409  0.023475   \n",
       "\n",
       "           RRC       BBY        MA       PFE       JPM      SBUX  \n",
       "GOOG  0.039129  0.033809  0.046931  0.022495  0.048596  0.037831  \n",
       "AAPL  0.032878  0.049032  0.047051  0.021461  0.047115  0.043945  \n",
       "FB    0.013685  0.018464  0.022726  0.012496  0.018556  0.021882  \n",
       "BABA  0.024290  0.019633  0.025436  0.013162  0.021288  0.017427  \n",
       "AMZN  0.040665  0.081761  0.055378  0.033235  0.072853  0.065904  \n",
       "GE    0.033240  0.041641  0.046593  0.030084  0.059512  0.038070  \n",
       "AMD   0.055601  0.066571  0.064909  0.028145  0.070040  0.057153  \n",
       "WMT   0.013551  0.037625  0.023123  0.023309  0.033229  0.028163  \n",
       "BAC   0.050768  0.052498  0.085778  0.035209  0.116912  0.052539  \n",
       "GM    0.029205  0.029999  0.028186  0.018643  0.039273  0.024758  \n",
       "T     0.021476  0.022335  0.030197  0.021035  0.035321  0.023735  \n",
       "UAA   0.058340  0.066893  0.058182  0.034359  0.080270  0.063863  \n",
       "SHLD  0.049463  0.068153  0.045002  0.027066  0.062955  0.050409  \n",
       "XOM   0.045031  0.017582  0.036187  0.022610  0.030229  0.023475  \n",
       "RRC   0.272230  0.035276  0.053810  0.023239  0.042969  0.028284  \n",
       "BBY   0.035276  0.269549  0.044546  0.023939  0.056298  0.050217  \n",
       "MA    0.053810  0.044546  0.120303  0.031497  0.070269  0.046886  \n",
       "PFE   0.023239  0.023939  0.031497  0.085502  0.034757  0.024195  \n",
       "JPM   0.042969  0.056298  0.070269  0.034757  0.146893  0.049530  \n",
       "SBUX  0.028284  0.050217  0.046886  0.024195  0.049530  0.152589  "
      ],
      "text/html": [
       "<div>\n",
       "<style scoped>\n",
       "    .dataframe tbody tr th:only-of-type {\n",
       "        vertical-align: middle;\n",
       "    }\n",
       "\n",
       "    .dataframe tbody tr th {\n",
       "        vertical-align: top;\n",
       "    }\n",
       "\n",
       "    .dataframe thead th {\n",
       "        text-align: right;\n",
       "    }\n",
       "</style>\n",
       "<table border=\"1\" class=\"dataframe\">\n",
       "  <thead>\n",
       "    <tr style=\"text-align: right;\">\n",
       "      <th></th>\n",
       "      <th>GOOG</th>\n",
       "      <th>AAPL</th>\n",
       "      <th>FB</th>\n",
       "      <th>BABA</th>\n",
       "      <th>AMZN</th>\n",
       "      <th>GE</th>\n",
       "      <th>AMD</th>\n",
       "      <th>WMT</th>\n",
       "      <th>BAC</th>\n",
       "      <th>GM</th>\n",
       "      <th>T</th>\n",
       "      <th>UAA</th>\n",
       "      <th>SHLD</th>\n",
       "      <th>XOM</th>\n",
       "      <th>RRC</th>\n",
       "      <th>BBY</th>\n",
       "      <th>MA</th>\n",
       "      <th>PFE</th>\n",
       "      <th>JPM</th>\n",
       "      <th>SBUX</th>\n",
       "    </tr>\n",
       "  </thead>\n",
       "  <tbody>\n",
       "    <tr>\n",
       "      <th>GOOG</th>\n",
       "      <td>0.093211</td>\n",
       "      <td>0.046202</td>\n",
       "      <td>0.030801</td>\n",
       "      <td>0.029793</td>\n",
       "      <td>0.054508</td>\n",
       "      <td>0.033202</td>\n",
       "      <td>0.045523</td>\n",
       "      <td>0.017285</td>\n",
       "      <td>0.056369</td>\n",
       "      <td>0.023760</td>\n",
       "      <td>0.023128</td>\n",
       "      <td>0.049127</td>\n",
       "      <td>0.034392</td>\n",
       "      <td>0.027977</td>\n",
       "      <td>0.039129</td>\n",
       "      <td>0.033809</td>\n",
       "      <td>0.046931</td>\n",
       "      <td>0.022495</td>\n",
       "      <td>0.048596</td>\n",
       "      <td>0.037831</td>\n",
       "    </tr>\n",
       "    <tr>\n",
       "      <th>AAPL</th>\n",
       "      <td>0.046202</td>\n",
       "      <td>0.207537</td>\n",
       "      <td>0.021141</td>\n",
       "      <td>0.023839</td>\n",
       "      <td>0.079294</td>\n",
       "      <td>0.038348</td>\n",
       "      <td>0.084594</td>\n",
       "      <td>0.026599</td>\n",
       "      <td>0.046262</td>\n",
       "      <td>0.022377</td>\n",
       "      <td>0.019974</td>\n",
       "      <td>0.047580</td>\n",
       "      <td>0.042163</td>\n",
       "      <td>0.020366</td>\n",
       "      <td>0.032878</td>\n",
       "      <td>0.049032</td>\n",
       "      <td>0.047051</td>\n",
       "      <td>0.021461</td>\n",
       "      <td>0.047115</td>\n",
       "      <td>0.043945</td>\n",
       "    </tr>\n",
       "    <tr>\n",
       "      <th>FB</th>\n",
       "      <td>0.030801</td>\n",
       "      <td>0.021141</td>\n",
       "      <td>0.137201</td>\n",
       "      <td>0.030073</td>\n",
       "      <td>0.036893</td>\n",
       "      <td>0.014790</td>\n",
       "      <td>0.028064</td>\n",
       "      <td>0.006083</td>\n",
       "      <td>0.022944</td>\n",
       "      <td>0.016759</td>\n",
       "      <td>0.006822</td>\n",
       "      <td>0.045494</td>\n",
       "      <td>0.010939</td>\n",
       "      <td>0.010875</td>\n",
       "      <td>0.013685</td>\n",
       "      <td>0.018464</td>\n",
       "      <td>0.022726</td>\n",
       "      <td>0.012496</td>\n",
       "      <td>0.018556</td>\n",
       "      <td>0.021882</td>\n",
       "    </tr>\n",
       "    <tr>\n",
       "      <th>BABA</th>\n",
       "      <td>0.029793</td>\n",
       "      <td>0.023839</td>\n",
       "      <td>0.030073</td>\n",
       "      <td>0.100958</td>\n",
       "      <td>0.033414</td>\n",
       "      <td>0.016409</td>\n",
       "      <td>0.050569</td>\n",
       "      <td>0.008732</td>\n",
       "      <td>0.024664</td>\n",
       "      <td>0.020554</td>\n",
       "      <td>0.007204</td>\n",
       "      <td>0.027954</td>\n",
       "      <td>0.025315</td>\n",
       "      <td>0.014194</td>\n",
       "      <td>0.024290</td>\n",
       "      <td>0.019633</td>\n",
       "      <td>0.025436</td>\n",
       "      <td>0.013162</td>\n",
       "      <td>0.021288</td>\n",
       "      <td>0.017427</td>\n",
       "    </tr>\n",
       "    <tr>\n",
       "      <th>AMZN</th>\n",
       "      <td>0.054508</td>\n",
       "      <td>0.079294</td>\n",
       "      <td>0.036893</td>\n",
       "      <td>0.033414</td>\n",
       "      <td>0.375394</td>\n",
       "      <td>0.052262</td>\n",
       "      <td>0.103257</td>\n",
       "      <td>0.037463</td>\n",
       "      <td>0.066982</td>\n",
       "      <td>0.025195</td>\n",
       "      <td>0.025594</td>\n",
       "      <td>0.064189</td>\n",
       "      <td>0.052116</td>\n",
       "      <td>0.026879</td>\n",
       "      <td>0.040665</td>\n",
       "      <td>0.081761</td>\n",
       "      <td>0.055378</td>\n",
       "      <td>0.033235</td>\n",
       "      <td>0.072853</td>\n",
       "      <td>0.065904</td>\n",
       "    </tr>\n",
       "    <tr>\n",
       "      <th>GE</th>\n",
       "      <td>0.033202</td>\n",
       "      <td>0.038348</td>\n",
       "      <td>0.014790</td>\n",
       "      <td>0.016409</td>\n",
       "      <td>0.052262</td>\n",
       "      <td>0.083109</td>\n",
       "      <td>0.048893</td>\n",
       "      <td>0.029263</td>\n",
       "      <td>0.063275</td>\n",
       "      <td>0.029115</td>\n",
       "      <td>0.026634</td>\n",
       "      <td>0.058264</td>\n",
       "      <td>0.048975</td>\n",
       "      <td>0.025981</td>\n",
       "      <td>0.033240</td>\n",
       "      <td>0.041641</td>\n",
       "      <td>0.046593</td>\n",
       "      <td>0.030084</td>\n",
       "      <td>0.059512</td>\n",
       "      <td>0.038070</td>\n",
       "    </tr>\n",
       "    <tr>\n",
       "      <th>AMD</th>\n",
       "      <td>0.045523</td>\n",
       "      <td>0.084594</td>\n",
       "      <td>0.028064</td>\n",
       "      <td>0.050569</td>\n",
       "      <td>0.103257</td>\n",
       "      <td>0.048893</td>\n",
       "      <td>0.390586</td>\n",
       "      <td>0.027288</td>\n",
       "      <td>0.068712</td>\n",
       "      <td>0.045382</td>\n",
       "      <td>0.026953</td>\n",
       "      <td>0.069835</td>\n",
       "      <td>0.067462</td>\n",
       "      <td>0.028126</td>\n",
       "      <td>0.055601</td>\n",
       "      <td>0.066571</td>\n",
       "      <td>0.064909</td>\n",
       "      <td>0.028145</td>\n",
       "      <td>0.070040</td>\n",
       "      <td>0.057153</td>\n",
       "    </tr>\n",
       "    <tr>\n",
       "      <th>WMT</th>\n",
       "      <td>0.017285</td>\n",
       "      <td>0.026599</td>\n",
       "      <td>0.006083</td>\n",
       "      <td>0.008732</td>\n",
       "      <td>0.037463</td>\n",
       "      <td>0.029263</td>\n",
       "      <td>0.027288</td>\n",
       "      <td>0.069092</td>\n",
       "      <td>0.030757</td>\n",
       "      <td>0.013886</td>\n",
       "      <td>0.021120</td>\n",
       "      <td>0.027989</td>\n",
       "      <td>0.029773</td>\n",
       "      <td>0.017146</td>\n",
       "      <td>0.013551</td>\n",
       "      <td>0.037625</td>\n",
       "      <td>0.023123</td>\n",
       "      <td>0.023309</td>\n",
       "      <td>0.033229</td>\n",
       "      <td>0.028163</td>\n",
       "    </tr>\n",
       "    <tr>\n",
       "      <th>BAC</th>\n",
       "      <td>0.056369</td>\n",
       "      <td>0.046262</td>\n",
       "      <td>0.022944</td>\n",
       "      <td>0.024664</td>\n",
       "      <td>0.066982</td>\n",
       "      <td>0.063275</td>\n",
       "      <td>0.068712</td>\n",
       "      <td>0.030757</td>\n",
       "      <td>0.180192</td>\n",
       "      <td>0.048546</td>\n",
       "      <td>0.034066</td>\n",
       "      <td>0.093508</td>\n",
       "      <td>0.075228</td>\n",
       "      <td>0.032366</td>\n",
       "      <td>0.050768</td>\n",
       "      <td>0.052498</td>\n",
       "      <td>0.085778</td>\n",
       "      <td>0.035209</td>\n",
       "      <td>0.116912</td>\n",
       "      <td>0.052539</td>\n",
       "    </tr>\n",
       "    <tr>\n",
       "      <th>GM</th>\n",
       "      <td>0.023760</td>\n",
       "      <td>0.022377</td>\n",
       "      <td>0.016759</td>\n",
       "      <td>0.020554</td>\n",
       "      <td>0.025195</td>\n",
       "      <td>0.029115</td>\n",
       "      <td>0.045382</td>\n",
       "      <td>0.013886</td>\n",
       "      <td>0.048546</td>\n",
       "      <td>0.080116</td>\n",
       "      <td>0.015221</td>\n",
       "      <td>0.037477</td>\n",
       "      <td>0.043757</td>\n",
       "      <td>0.022664</td>\n",
       "      <td>0.029205</td>\n",
       "      <td>0.029999</td>\n",
       "      <td>0.028186</td>\n",
       "      <td>0.018643</td>\n",
       "      <td>0.039273</td>\n",
       "      <td>0.024758</td>\n",
       "    </tr>\n",
       "    <tr>\n",
       "      <th>T</th>\n",
       "      <td>0.023128</td>\n",
       "      <td>0.019974</td>\n",
       "      <td>0.006822</td>\n",
       "      <td>0.007204</td>\n",
       "      <td>0.025594</td>\n",
       "      <td>0.026634</td>\n",
       "      <td>0.026953</td>\n",
       "      <td>0.021120</td>\n",
       "      <td>0.034066</td>\n",
       "      <td>0.015221</td>\n",
       "      <td>0.065560</td>\n",
       "      <td>0.032152</td>\n",
       "      <td>0.028968</td>\n",
       "      <td>0.022092</td>\n",
       "      <td>0.021476</td>\n",
       "      <td>0.022335</td>\n",
       "      <td>0.030197</td>\n",
       "      <td>0.021035</td>\n",
       "      <td>0.035321</td>\n",
       "      <td>0.023735</td>\n",
       "    </tr>\n",
       "    <tr>\n",
       "      <th>UAA</th>\n",
       "      <td>0.049127</td>\n",
       "      <td>0.047580</td>\n",
       "      <td>0.045494</td>\n",
       "      <td>0.027954</td>\n",
       "      <td>0.064189</td>\n",
       "      <td>0.058264</td>\n",
       "      <td>0.069835</td>\n",
       "      <td>0.027989</td>\n",
       "      <td>0.093508</td>\n",
       "      <td>0.037477</td>\n",
       "      <td>0.032152</td>\n",
       "      <td>0.245524</td>\n",
       "      <td>0.082607</td>\n",
       "      <td>0.036233</td>\n",
       "      <td>0.058340</td>\n",
       "      <td>0.066893</td>\n",
       "      <td>0.058182</td>\n",
       "      <td>0.034359</td>\n",
       "      <td>0.080270</td>\n",
       "      <td>0.063863</td>\n",
       "    </tr>\n",
       "    <tr>\n",
       "      <th>SHLD</th>\n",
       "      <td>0.034392</td>\n",
       "      <td>0.042163</td>\n",
       "      <td>0.010939</td>\n",
       "      <td>0.025315</td>\n",
       "      <td>0.052116</td>\n",
       "      <td>0.048975</td>\n",
       "      <td>0.067462</td>\n",
       "      <td>0.029773</td>\n",
       "      <td>0.075228</td>\n",
       "      <td>0.043757</td>\n",
       "      <td>0.028968</td>\n",
       "      <td>0.082607</td>\n",
       "      <td>0.321162</td>\n",
       "      <td>0.030568</td>\n",
       "      <td>0.049463</td>\n",
       "      <td>0.068153</td>\n",
       "      <td>0.045002</td>\n",
       "      <td>0.027066</td>\n",
       "      <td>0.062955</td>\n",
       "      <td>0.050409</td>\n",
       "    </tr>\n",
       "    <tr>\n",
       "      <th>XOM</th>\n",
       "      <td>0.027977</td>\n",
       "      <td>0.020366</td>\n",
       "      <td>0.010875</td>\n",
       "      <td>0.014194</td>\n",
       "      <td>0.026879</td>\n",
       "      <td>0.025981</td>\n",
       "      <td>0.028126</td>\n",
       "      <td>0.017146</td>\n",
       "      <td>0.032366</td>\n",
       "      <td>0.022664</td>\n",
       "      <td>0.022092</td>\n",
       "      <td>0.036233</td>\n",
       "      <td>0.030568</td>\n",
       "      <td>0.054404</td>\n",
       "      <td>0.045031</td>\n",
       "      <td>0.017582</td>\n",
       "      <td>0.036187</td>\n",
       "      <td>0.022610</td>\n",
       "      <td>0.030229</td>\n",
       "      <td>0.023475</td>\n",
       "    </tr>\n",
       "    <tr>\n",
       "      <th>RRC</th>\n",
       "      <td>0.039129</td>\n",
       "      <td>0.032878</td>\n",
       "      <td>0.013685</td>\n",
       "      <td>0.024290</td>\n",
       "      <td>0.040665</td>\n",
       "      <td>0.033240</td>\n",
       "      <td>0.055601</td>\n",
       "      <td>0.013551</td>\n",
       "      <td>0.050768</td>\n",
       "      <td>0.029205</td>\n",
       "      <td>0.021476</td>\n",
       "      <td>0.058340</td>\n",
       "      <td>0.049463</td>\n",
       "      <td>0.045031</td>\n",
       "      <td>0.272230</td>\n",
       "      <td>0.035276</td>\n",
       "      <td>0.053810</td>\n",
       "      <td>0.023239</td>\n",
       "      <td>0.042969</td>\n",
       "      <td>0.028284</td>\n",
       "    </tr>\n",
       "    <tr>\n",
       "      <th>BBY</th>\n",
       "      <td>0.033809</td>\n",
       "      <td>0.049032</td>\n",
       "      <td>0.018464</td>\n",
       "      <td>0.019633</td>\n",
       "      <td>0.081761</td>\n",
       "      <td>0.041641</td>\n",
       "      <td>0.066571</td>\n",
       "      <td>0.037625</td>\n",
       "      <td>0.052498</td>\n",
       "      <td>0.029999</td>\n",
       "      <td>0.022335</td>\n",
       "      <td>0.066893</td>\n",
       "      <td>0.068153</td>\n",
       "      <td>0.017582</td>\n",
       "      <td>0.035276</td>\n",
       "      <td>0.269549</td>\n",
       "      <td>0.044546</td>\n",
       "      <td>0.023939</td>\n",
       "      <td>0.056298</td>\n",
       "      <td>0.050217</td>\n",
       "    </tr>\n",
       "    <tr>\n",
       "      <th>MA</th>\n",
       "      <td>0.046931</td>\n",
       "      <td>0.047051</td>\n",
       "      <td>0.022726</td>\n",
       "      <td>0.025436</td>\n",
       "      <td>0.055378</td>\n",
       "      <td>0.046593</td>\n",
       "      <td>0.064909</td>\n",
       "      <td>0.023123</td>\n",
       "      <td>0.085778</td>\n",
       "      <td>0.028186</td>\n",
       "      <td>0.030197</td>\n",
       "      <td>0.058182</td>\n",
       "      <td>0.045002</td>\n",
       "      <td>0.036187</td>\n",
       "      <td>0.053810</td>\n",
       "      <td>0.044546</td>\n",
       "      <td>0.120303</td>\n",
       "      <td>0.031497</td>\n",
       "      <td>0.070269</td>\n",
       "      <td>0.046886</td>\n",
       "    </tr>\n",
       "    <tr>\n",
       "      <th>PFE</th>\n",
       "      <td>0.022495</td>\n",
       "      <td>0.021461</td>\n",
       "      <td>0.012496</td>\n",
       "      <td>0.013162</td>\n",
       "      <td>0.033235</td>\n",
       "      <td>0.030084</td>\n",
       "      <td>0.028145</td>\n",
       "      <td>0.023309</td>\n",
       "      <td>0.035209</td>\n",
       "      <td>0.018643</td>\n",
       "      <td>0.021035</td>\n",
       "      <td>0.034359</td>\n",
       "      <td>0.027066</td>\n",
       "      <td>0.022610</td>\n",
       "      <td>0.023239</td>\n",
       "      <td>0.023939</td>\n",
       "      <td>0.031497</td>\n",
       "      <td>0.085502</td>\n",
       "      <td>0.034757</td>\n",
       "      <td>0.024195</td>\n",
       "    </tr>\n",
       "    <tr>\n",
       "      <th>JPM</th>\n",
       "      <td>0.048596</td>\n",
       "      <td>0.047115</td>\n",
       "      <td>0.018556</td>\n",
       "      <td>0.021288</td>\n",
       "      <td>0.072853</td>\n",
       "      <td>0.059512</td>\n",
       "      <td>0.070040</td>\n",
       "      <td>0.033229</td>\n",
       "      <td>0.116912</td>\n",
       "      <td>0.039273</td>\n",
       "      <td>0.035321</td>\n",
       "      <td>0.080270</td>\n",
       "      <td>0.062955</td>\n",
       "      <td>0.030229</td>\n",
       "      <td>0.042969</td>\n",
       "      <td>0.056298</td>\n",
       "      <td>0.070269</td>\n",
       "      <td>0.034757</td>\n",
       "      <td>0.146893</td>\n",
       "      <td>0.049530</td>\n",
       "    </tr>\n",
       "    <tr>\n",
       "      <th>SBUX</th>\n",
       "      <td>0.037831</td>\n",
       "      <td>0.043945</td>\n",
       "      <td>0.021882</td>\n",
       "      <td>0.017427</td>\n",
       "      <td>0.065904</td>\n",
       "      <td>0.038070</td>\n",
       "      <td>0.057153</td>\n",
       "      <td>0.028163</td>\n",
       "      <td>0.052539</td>\n",
       "      <td>0.024758</td>\n",
       "      <td>0.023735</td>\n",
       "      <td>0.063863</td>\n",
       "      <td>0.050409</td>\n",
       "      <td>0.023475</td>\n",
       "      <td>0.028284</td>\n",
       "      <td>0.050217</td>\n",
       "      <td>0.046886</td>\n",
       "      <td>0.024195</td>\n",
       "      <td>0.049530</td>\n",
       "      <td>0.152589</td>\n",
       "    </tr>\n",
       "  </tbody>\n",
       "</table>\n",
       "</div>"
      ]
     },
     "execution_count": 17,
     "metadata": {},
     "output_type": "execute_result"
    }
   ],
   "execution_count": 17
  },
  {
   "metadata": {
    "ExecuteTime": {
     "end_time": "2024-09-01T23:34:10.892910Z",
     "start_time": "2024-09-01T23:34:10.883641Z"
    }
   },
   "cell_type": "code",
   "source": "S.head(3)",
   "id": "2563a5cdc9c93f47",
   "outputs": [
    {
     "data": {
      "text/plain": [
       "          GOOG      AAPL        FB      BABA      AMZN        GE       AMD  \\\n",
       "GOOG  0.093211  0.046202  0.030801  0.029793  0.054508  0.033202  0.045523   \n",
       "AAPL  0.046202  0.207537  0.021141  0.023839  0.079294  0.038348  0.084594   \n",
       "FB    0.030801  0.021141  0.137201  0.030073  0.036893  0.014790  0.028064   \n",
       "\n",
       "           WMT       BAC        GM         T       UAA      SHLD       XOM  \\\n",
       "GOOG  0.017285  0.056369  0.023760  0.023128  0.049127  0.034392  0.027977   \n",
       "AAPL  0.026599  0.046262  0.022377  0.019974  0.047580  0.042163  0.020366   \n",
       "FB    0.006083  0.022944  0.016759  0.006822  0.045494  0.010939  0.010875   \n",
       "\n",
       "           RRC       BBY        MA       PFE       JPM      SBUX  \n",
       "GOOG  0.039129  0.033809  0.046931  0.022495  0.048596  0.037831  \n",
       "AAPL  0.032878  0.049032  0.047051  0.021461  0.047115  0.043945  \n",
       "FB    0.013685  0.018464  0.022726  0.012496  0.018556  0.021882  "
      ],
      "text/html": [
       "<div>\n",
       "<style scoped>\n",
       "    .dataframe tbody tr th:only-of-type {\n",
       "        vertical-align: middle;\n",
       "    }\n",
       "\n",
       "    .dataframe tbody tr th {\n",
       "        vertical-align: top;\n",
       "    }\n",
       "\n",
       "    .dataframe thead th {\n",
       "        text-align: right;\n",
       "    }\n",
       "</style>\n",
       "<table border=\"1\" class=\"dataframe\">\n",
       "  <thead>\n",
       "    <tr style=\"text-align: right;\">\n",
       "      <th></th>\n",
       "      <th>GOOG</th>\n",
       "      <th>AAPL</th>\n",
       "      <th>FB</th>\n",
       "      <th>BABA</th>\n",
       "      <th>AMZN</th>\n",
       "      <th>GE</th>\n",
       "      <th>AMD</th>\n",
       "      <th>WMT</th>\n",
       "      <th>BAC</th>\n",
       "      <th>GM</th>\n",
       "      <th>T</th>\n",
       "      <th>UAA</th>\n",
       "      <th>SHLD</th>\n",
       "      <th>XOM</th>\n",
       "      <th>RRC</th>\n",
       "      <th>BBY</th>\n",
       "      <th>MA</th>\n",
       "      <th>PFE</th>\n",
       "      <th>JPM</th>\n",
       "      <th>SBUX</th>\n",
       "    </tr>\n",
       "  </thead>\n",
       "  <tbody>\n",
       "    <tr>\n",
       "      <th>GOOG</th>\n",
       "      <td>0.093211</td>\n",
       "      <td>0.046202</td>\n",
       "      <td>0.030801</td>\n",
       "      <td>0.029793</td>\n",
       "      <td>0.054508</td>\n",
       "      <td>0.033202</td>\n",
       "      <td>0.045523</td>\n",
       "      <td>0.017285</td>\n",
       "      <td>0.056369</td>\n",
       "      <td>0.023760</td>\n",
       "      <td>0.023128</td>\n",
       "      <td>0.049127</td>\n",
       "      <td>0.034392</td>\n",
       "      <td>0.027977</td>\n",
       "      <td>0.039129</td>\n",
       "      <td>0.033809</td>\n",
       "      <td>0.046931</td>\n",
       "      <td>0.022495</td>\n",
       "      <td>0.048596</td>\n",
       "      <td>0.037831</td>\n",
       "    </tr>\n",
       "    <tr>\n",
       "      <th>AAPL</th>\n",
       "      <td>0.046202</td>\n",
       "      <td>0.207537</td>\n",
       "      <td>0.021141</td>\n",
       "      <td>0.023839</td>\n",
       "      <td>0.079294</td>\n",
       "      <td>0.038348</td>\n",
       "      <td>0.084594</td>\n",
       "      <td>0.026599</td>\n",
       "      <td>0.046262</td>\n",
       "      <td>0.022377</td>\n",
       "      <td>0.019974</td>\n",
       "      <td>0.047580</td>\n",
       "      <td>0.042163</td>\n",
       "      <td>0.020366</td>\n",
       "      <td>0.032878</td>\n",
       "      <td>0.049032</td>\n",
       "      <td>0.047051</td>\n",
       "      <td>0.021461</td>\n",
       "      <td>0.047115</td>\n",
       "      <td>0.043945</td>\n",
       "    </tr>\n",
       "    <tr>\n",
       "      <th>FB</th>\n",
       "      <td>0.030801</td>\n",
       "      <td>0.021141</td>\n",
       "      <td>0.137201</td>\n",
       "      <td>0.030073</td>\n",
       "      <td>0.036893</td>\n",
       "      <td>0.014790</td>\n",
       "      <td>0.028064</td>\n",
       "      <td>0.006083</td>\n",
       "      <td>0.022944</td>\n",
       "      <td>0.016759</td>\n",
       "      <td>0.006822</td>\n",
       "      <td>0.045494</td>\n",
       "      <td>0.010939</td>\n",
       "      <td>0.010875</td>\n",
       "      <td>0.013685</td>\n",
       "      <td>0.018464</td>\n",
       "      <td>0.022726</td>\n",
       "      <td>0.012496</td>\n",
       "      <td>0.018556</td>\n",
       "      <td>0.021882</td>\n",
       "    </tr>\n",
       "  </tbody>\n",
       "</table>\n",
       "</div>"
      ]
     },
     "execution_count": 15,
     "metadata": {},
     "output_type": "execute_result"
    }
   ],
   "execution_count": 15
  },
  {
   "metadata": {},
   "cell_type": "code",
   "outputs": [],
   "execution_count": null,
   "source": "",
   "id": "a605ac08fcc899d8"
  }
 ],
 "metadata": {
  "kernelspec": {
   "display_name": "Python 3",
   "language": "python",
   "name": "python3"
  },
  "language_info": {
   "codemirror_mode": {
    "name": "ipython",
    "version": 2
   },
   "file_extension": ".py",
   "mimetype": "text/x-python",
   "name": "python",
   "nbconvert_exporter": "python",
   "pygments_lexer": "ipython2",
   "version": "2.7.6"
  }
 },
 "nbformat": 4,
 "nbformat_minor": 5
}
