{
 "cells": [
  {
   "cell_type": "code",
   "execution_count": 39,
   "id": "initial_id",
   "metadata": {
    "collapsed": true,
    "ExecuteTime": {
     "end_time": "2024-07-10T23:29:31.155187Z",
     "start_time": "2024-07-10T23:29:31.138929Z"
    }
   },
   "outputs": [
    {
     "data": {
      "text/plain": "<module 'utilities.esg_service' from '/Users/herbishtini/Documents/UNI/Master Thesis/sustainability_portfolio_optimisation/utilities/esg_service.py'>"
     },
     "execution_count": 39,
     "metadata": {},
     "output_type": "execute_result"
    }
   ],
   "source": [
    "from utilities.feed import get_stock_info\n",
    "import utilities.variables as variables \n",
    "import yfinance as yf\n",
    "import pandas as pd\n",
    "import importlib\n",
    "import utilities.parser as parser\n",
    "import utilities.esg_service as esg_service\n",
    "importlib.reload(parser)\n",
    "importlib.reload(esg_service)"
   ]
  },
  {
   "cell_type": "code",
   "execution_count": 40,
   "outputs": [],
   "source": [
    "# esg_service.generate_esg_data()\n",
    "#esg_service.generate_esg_data_for_each_industry()"
   ],
   "metadata": {
    "collapsed": false,
    "ExecuteTime": {
     "end_time": "2024-07-10T23:29:31.155960Z",
     "start_time": "2024-07-10T23:29:31.149689Z"
    }
   },
   "id": "a672fad22f56b21c"
  },
  {
   "cell_type": "code",
   "execution_count": 65,
   "outputs": [
    {
     "name": "stderr",
     "output_type": "stream",
     "text": [
      "404 Client Error: Not Found for url: https://query2.finance.yahoo.com/v10/finance/quoteSummary/BULTEN?modules=financialData%2CquoteType%2CdefaultKeyStatistics%2CassetProfile%2CsummaryDetail&corsDomain=finance.yahoo.com&formatted=false&symbol=BULTEN&crumb=428nSXWA2ml\n"
     ]
    },
    {
     "ename": "KeyError",
     "evalue": "'marketCap'",
     "output_type": "error",
     "traceback": [
      "\u001B[0;31m---------------------------------------------------------------------------\u001B[0m",
      "\u001B[0;31mKeyError\u001B[0m                                  Traceback (most recent call last)",
      "Cell \u001B[0;32mIn[65], line 2\u001B[0m\n\u001B[1;32m      1\u001B[0m ticker \u001B[38;5;241m=\u001B[39m yf\u001B[38;5;241m.\u001B[39mTicker(\u001B[38;5;124m'\u001B[39m\u001B[38;5;124mBULTEN\u001B[39m\u001B[38;5;124m'\u001B[39m)\n\u001B[0;32m----> 2\u001B[0m \u001B[43mticker\u001B[49m\u001B[38;5;241;43m.\u001B[39;49m\u001B[43minfo\u001B[49m\u001B[43m[\u001B[49m\u001B[38;5;124;43m'\u001B[39;49m\u001B[38;5;124;43mmarketCap\u001B[39;49m\u001B[38;5;124;43m'\u001B[39;49m\u001B[43m]\u001B[49m\n",
      "\u001B[0;31mKeyError\u001B[0m: 'marketCap'"
     ]
    }
   ],
   "source": [
    "ticker = yf.Ticker('BULTEN')\n",
    "ticker.info['marketCap']"
   ],
   "metadata": {
    "collapsed": false,
    "ExecuteTime": {
     "end_time": "2024-07-11T22:46:11.475510Z",
     "start_time": "2024-07-11T22:46:09.435314Z"
    }
   },
   "id": "65e65fd30f98701a"
  },
  {
   "cell_type": "code",
   "execution_count": 62,
   "outputs": [
    {
     "data": {
      "text/plain": "3379471319040"
     },
     "execution_count": 62,
     "metadata": {},
     "output_type": "execute_result"
    }
   ],
   "source": [
    "msft.info['marketCap']"
   ],
   "metadata": {
    "collapsed": false,
    "ExecuteTime": {
     "end_time": "2024-07-11T22:38:01.138778Z",
     "start_time": "2024-07-11T22:38:01.127809Z"
    }
   },
   "id": "c12cbc4b77adde59"
  },
  {
   "cell_type": "code",
   "execution_count": 51,
   "outputs": [
    {
     "data": {
      "text/plain": "Series([], dtype: object)"
     },
     "execution_count": 51,
     "metadata": {},
     "output_type": "execute_result"
    }
   ],
   "source": [
    "msft.capital_gains"
   ],
   "metadata": {
    "collapsed": false,
    "ExecuteTime": {
     "end_time": "2024-07-11T21:59:28.435152Z",
     "start_time": "2024-07-11T21:59:28.427001Z"
    }
   },
   "id": "cae782f5afea3a67"
  },
  {
   "cell_type": "code",
   "execution_count": 57,
   "outputs": [
    {
     "ename": "KeyError",
     "evalue": "'msft'",
     "output_type": "error",
     "traceback": [
      "\u001B[0;31m---------------------------------------------------------------------------\u001B[0m",
      "\u001B[0;31mKeyError\u001B[0m                                  Traceback (most recent call last)",
      "Cell \u001B[0;32mIn[57], line 2\u001B[0m\n\u001B[1;32m      1\u001B[0m tickers \u001B[38;5;241m=\u001B[39m yf\u001B[38;5;241m.\u001B[39mTickers(\u001B[38;5;124m'\u001B[39m\u001B[38;5;124mmsft aapl goog\u001B[39m\u001B[38;5;124m'\u001B[39m)\n\u001B[0;32m----> 2\u001B[0m \u001B[43mtickers\u001B[49m\u001B[38;5;241;43m.\u001B[39;49m\u001B[43mtickers\u001B[49m\u001B[43m[\u001B[49m\u001B[38;5;124;43m'\u001B[39;49m\u001B[38;5;124;43mmsft\u001B[39;49m\u001B[38;5;124;43m'\u001B[39;49m\u001B[43m]\u001B[49m\u001B[38;5;241m.\u001B[39minfo\n",
      "\u001B[0;31mKeyError\u001B[0m: 'msft'"
     ]
    }
   ],
   "source": [
    "tickers = yf.Tickers('msft aapl goog')\n",
    "tickers.tickers['msft'].info"
   ],
   "metadata": {
    "collapsed": false,
    "ExecuteTime": {
     "end_time": "2024-07-11T22:13:55.197763Z",
     "start_time": "2024-07-11T22:13:55.182681Z"
    }
   },
   "id": "faf2d3486e3b9848"
  },
  {
   "cell_type": "code",
   "execution_count": 56,
   "outputs": [
    {
     "data": {
      "text/plain": "                            Open   High    Low  Close   Volume  Dividends  \\\nDate                                                                        \n2024-06-11 00:00:00-04:00  13.13  13.32  12.99  13.16   746200        0.0   \n2024-06-12 00:00:00-04:00  13.80  14.38  13.53  14.06   960400        0.0   \n2024-06-13 00:00:00-04:00  14.06  14.09  13.28  13.42   737800        0.0   \n2024-06-14 00:00:00-04:00  13.14  13.40  13.02  13.18   716800        0.0   \n2024-06-17 00:00:00-04:00  13.11  13.25  13.00  13.10   665500        0.0   \n2024-06-18 00:00:00-04:00  13.05  13.20  13.00  13.01   586100        0.0   \n2024-06-20 00:00:00-04:00  13.00  13.16  12.93  13.01   458300        0.0   \n2024-06-21 00:00:00-04:00  13.05  13.26  12.99  13.17  1464100        0.0   \n2024-06-24 00:00:00-04:00  13.20  13.33  13.09  13.17   507000        0.0   \n2024-06-25 00:00:00-04:00  13.11  13.17  13.00  13.08   368100        0.0   \n2024-06-26 00:00:00-04:00  13.00  13.31  12.93  13.28   497800        0.0   \n2024-06-27 00:00:00-04:00  13.37  13.56  13.13  13.34   597000        0.0   \n2024-06-28 00:00:00-04:00  13.52  14.01  13.28  13.87  1958100        0.0   \n2024-07-01 00:00:00-04:00  13.95  14.31  13.84  13.93   958100        0.0   \n2024-07-02 00:00:00-04:00  14.00  14.20  13.68  13.73   583800        0.0   \n2024-07-03 00:00:00-04:00  13.76  13.79  13.58  13.73   257700        0.0   \n2024-07-05 00:00:00-04:00  13.62  13.75  13.53  13.58   337200        0.0   \n2024-07-08 00:00:00-04:00  13.61  13.87  13.58  13.71   519700        0.0   \n2024-07-09 00:00:00-04:00  13.56  13.70  13.21  13.40   524600        0.0   \n2024-07-10 00:00:00-04:00  13.42  13.55  13.25  13.52   601388        0.0   \n\n                           Stock Splits  \nDate                                     \n2024-06-11 00:00:00-04:00           0.0  \n2024-06-12 00:00:00-04:00           0.0  \n2024-06-13 00:00:00-04:00           0.0  \n2024-06-14 00:00:00-04:00           0.0  \n2024-06-17 00:00:00-04:00           0.0  \n2024-06-18 00:00:00-04:00           0.0  \n2024-06-20 00:00:00-04:00           0.0  \n2024-06-21 00:00:00-04:00           0.0  \n2024-06-24 00:00:00-04:00           0.0  \n2024-06-25 00:00:00-04:00           0.0  \n2024-06-26 00:00:00-04:00           0.0  \n2024-06-27 00:00:00-04:00           0.0  \n2024-06-28 00:00:00-04:00           0.0  \n2024-07-01 00:00:00-04:00           0.0  \n2024-07-02 00:00:00-04:00           0.0  \n2024-07-03 00:00:00-04:00           0.0  \n2024-07-05 00:00:00-04:00           0.0  \n2024-07-08 00:00:00-04:00           0.0  \n2024-07-09 00:00:00-04:00           0.0  \n2024-07-10 00:00:00-04:00           0.0  ",
      "text/html": "<div>\n<style scoped>\n    .dataframe tbody tr th:only-of-type {\n        vertical-align: middle;\n    }\n\n    .dataframe tbody tr th {\n        vertical-align: top;\n    }\n\n    .dataframe thead th {\n        text-align: right;\n    }\n</style>\n<table border=\"1\" class=\"dataframe\">\n  <thead>\n    <tr style=\"text-align: right;\">\n      <th></th>\n      <th>Open</th>\n      <th>High</th>\n      <th>Low</th>\n      <th>Close</th>\n      <th>Volume</th>\n      <th>Dividends</th>\n      <th>Stock Splits</th>\n    </tr>\n    <tr>\n      <th>Date</th>\n      <th></th>\n      <th></th>\n      <th></th>\n      <th></th>\n      <th></th>\n      <th></th>\n      <th></th>\n    </tr>\n  </thead>\n  <tbody>\n    <tr>\n      <th>2024-06-11 00:00:00-04:00</th>\n      <td>13.13</td>\n      <td>13.32</td>\n      <td>12.99</td>\n      <td>13.16</td>\n      <td>746200</td>\n      <td>0.0</td>\n      <td>0.0</td>\n    </tr>\n    <tr>\n      <th>2024-06-12 00:00:00-04:00</th>\n      <td>13.80</td>\n      <td>14.38</td>\n      <td>13.53</td>\n      <td>14.06</td>\n      <td>960400</td>\n      <td>0.0</td>\n      <td>0.0</td>\n    </tr>\n    <tr>\n      <th>2024-06-13 00:00:00-04:00</th>\n      <td>14.06</td>\n      <td>14.09</td>\n      <td>13.28</td>\n      <td>13.42</td>\n      <td>737800</td>\n      <td>0.0</td>\n      <td>0.0</td>\n    </tr>\n    <tr>\n      <th>2024-06-14 00:00:00-04:00</th>\n      <td>13.14</td>\n      <td>13.40</td>\n      <td>13.02</td>\n      <td>13.18</td>\n      <td>716800</td>\n      <td>0.0</td>\n      <td>0.0</td>\n    </tr>\n    <tr>\n      <th>2024-06-17 00:00:00-04:00</th>\n      <td>13.11</td>\n      <td>13.25</td>\n      <td>13.00</td>\n      <td>13.10</td>\n      <td>665500</td>\n      <td>0.0</td>\n      <td>0.0</td>\n    </tr>\n    <tr>\n      <th>2024-06-18 00:00:00-04:00</th>\n      <td>13.05</td>\n      <td>13.20</td>\n      <td>13.00</td>\n      <td>13.01</td>\n      <td>586100</td>\n      <td>0.0</td>\n      <td>0.0</td>\n    </tr>\n    <tr>\n      <th>2024-06-20 00:00:00-04:00</th>\n      <td>13.00</td>\n      <td>13.16</td>\n      <td>12.93</td>\n      <td>13.01</td>\n      <td>458300</td>\n      <td>0.0</td>\n      <td>0.0</td>\n    </tr>\n    <tr>\n      <th>2024-06-21 00:00:00-04:00</th>\n      <td>13.05</td>\n      <td>13.26</td>\n      <td>12.99</td>\n      <td>13.17</td>\n      <td>1464100</td>\n      <td>0.0</td>\n      <td>0.0</td>\n    </tr>\n    <tr>\n      <th>2024-06-24 00:00:00-04:00</th>\n      <td>13.20</td>\n      <td>13.33</td>\n      <td>13.09</td>\n      <td>13.17</td>\n      <td>507000</td>\n      <td>0.0</td>\n      <td>0.0</td>\n    </tr>\n    <tr>\n      <th>2024-06-25 00:00:00-04:00</th>\n      <td>13.11</td>\n      <td>13.17</td>\n      <td>13.00</td>\n      <td>13.08</td>\n      <td>368100</td>\n      <td>0.0</td>\n      <td>0.0</td>\n    </tr>\n    <tr>\n      <th>2024-06-26 00:00:00-04:00</th>\n      <td>13.00</td>\n      <td>13.31</td>\n      <td>12.93</td>\n      <td>13.28</td>\n      <td>497800</td>\n      <td>0.0</td>\n      <td>0.0</td>\n    </tr>\n    <tr>\n      <th>2024-06-27 00:00:00-04:00</th>\n      <td>13.37</td>\n      <td>13.56</td>\n      <td>13.13</td>\n      <td>13.34</td>\n      <td>597000</td>\n      <td>0.0</td>\n      <td>0.0</td>\n    </tr>\n    <tr>\n      <th>2024-06-28 00:00:00-04:00</th>\n      <td>13.52</td>\n      <td>14.01</td>\n      <td>13.28</td>\n      <td>13.87</td>\n      <td>1958100</td>\n      <td>0.0</td>\n      <td>0.0</td>\n    </tr>\n    <tr>\n      <th>2024-07-01 00:00:00-04:00</th>\n      <td>13.95</td>\n      <td>14.31</td>\n      <td>13.84</td>\n      <td>13.93</td>\n      <td>958100</td>\n      <td>0.0</td>\n      <td>0.0</td>\n    </tr>\n    <tr>\n      <th>2024-07-02 00:00:00-04:00</th>\n      <td>14.00</td>\n      <td>14.20</td>\n      <td>13.68</td>\n      <td>13.73</td>\n      <td>583800</td>\n      <td>0.0</td>\n      <td>0.0</td>\n    </tr>\n    <tr>\n      <th>2024-07-03 00:00:00-04:00</th>\n      <td>13.76</td>\n      <td>13.79</td>\n      <td>13.58</td>\n      <td>13.73</td>\n      <td>257700</td>\n      <td>0.0</td>\n      <td>0.0</td>\n    </tr>\n    <tr>\n      <th>2024-07-05 00:00:00-04:00</th>\n      <td>13.62</td>\n      <td>13.75</td>\n      <td>13.53</td>\n      <td>13.58</td>\n      <td>337200</td>\n      <td>0.0</td>\n      <td>0.0</td>\n    </tr>\n    <tr>\n      <th>2024-07-08 00:00:00-04:00</th>\n      <td>13.61</td>\n      <td>13.87</td>\n      <td>13.58</td>\n      <td>13.71</td>\n      <td>519700</td>\n      <td>0.0</td>\n      <td>0.0</td>\n    </tr>\n    <tr>\n      <th>2024-07-09 00:00:00-04:00</th>\n      <td>13.56</td>\n      <td>13.70</td>\n      <td>13.21</td>\n      <td>13.40</td>\n      <td>524600</td>\n      <td>0.0</td>\n      <td>0.0</td>\n    </tr>\n    <tr>\n      <th>2024-07-10 00:00:00-04:00</th>\n      <td>13.42</td>\n      <td>13.55</td>\n      <td>13.25</td>\n      <td>13.52</td>\n      <td>601388</td>\n      <td>0.0</td>\n      <td>0.0</td>\n    </tr>\n  </tbody>\n</table>\n</div>"
     },
     "execution_count": 56,
     "metadata": {},
     "output_type": "execute_result"
    }
   ],
   "source": [
    "pd.DataFrame(hist)"
   ],
   "metadata": {
    "collapsed": false,
    "ExecuteTime": {
     "end_time": "2024-07-11T22:13:48.808455Z",
     "start_time": "2024-07-11T22:13:48.787734Z"
    }
   },
   "id": "6649986fc6d39d37"
  },
  {
   "cell_type": "code",
   "execution_count": null,
   "outputs": [],
   "source": [
    "msft.news"
   ],
   "metadata": {
    "collapsed": false
   },
   "id": "c28d44b9421e66cd"
  }
 ],
 "metadata": {
  "kernelspec": {
   "display_name": "Python 3",
   "language": "python",
   "name": "python3"
  },
  "language_info": {
   "codemirror_mode": {
    "name": "ipython",
    "version": 2
   },
   "file_extension": ".py",
   "mimetype": "text/x-python",
   "name": "python",
   "nbconvert_exporter": "python",
   "pygments_lexer": "ipython2",
   "version": "2.7.6"
  }
 },
 "nbformat": 4,
 "nbformat_minor": 5
}
