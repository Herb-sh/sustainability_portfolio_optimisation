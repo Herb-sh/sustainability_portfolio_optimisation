{
 "cells": [
  {
   "cell_type": "code",
   "execution_count": 26,
   "id": "initial_id",
   "metadata": {
    "collapsed": true,
    "ExecuteTime": {
     "end_time": "2024-07-09T22:50:34.200614Z",
     "start_time": "2024-07-09T22:50:34.180136Z"
    }
   },
   "outputs": [
    {
     "data": {
      "text/plain": "<module 'utilities.esg_service' from '/Users/herbishtini/Documents/UNI/Master Thesis/sustainability_portfolio_optimisation/utilities/esg_service.py'>"
     },
     "execution_count": 26,
     "metadata": {},
     "output_type": "execute_result"
    }
   ],
   "source": [
    "from utilities.feed import get_stock_info\n",
    "import utilities.variables as variables \n",
    "import yfinance as yf\n",
    "import pandas as pd\n",
    "import importlib\n",
    "import utilities.parser as parser\n",
    "import utilities.esg_service as esg_service\n",
    "importlib.reload(parser)\n",
    "importlib.reload(esg_service)"
   ]
  },
  {
   "cell_type": "code",
   "execution_count": 27,
   "outputs": [
    {
     "name": "stdout",
     "output_type": "stream",
     "text": [
      "Request was successful!\n",
      "Request was successful!\n",
      "Request was successful!\n",
      "Request was successful!\n",
      "Request was successful!\n",
      "Request was successful!\n",
      "Request was successful!\n",
      "Request was successful!\n",
      "Request was successful!\n",
      "Request was successful!\n",
      "Request was successful!\n",
      "Request was successful!\n",
      "Request was successful!\n",
      "Request was successful!\n",
      "Request was successful!\n",
      "Request was successful!\n",
      "Request was successful!\n",
      "Request was successful!\n",
      "Request was successful!\n",
      "Request was successful!\n",
      "Request was successful!\n",
      "Request was successful!\n",
      "Request was successful!\n",
      "Request was successful!\n",
      "Request was successful!\n",
      "Request was successful!\n",
      "Request was successful!\n",
      "Request was successful!\n",
      "Request was successful!\n",
      "Request was successful!\n",
      "Request was successful!\n",
      "Request was successful!\n",
      "Request was successful!\n",
      "Request was successful!\n",
      "Request was successful!\n",
      "Request was successful!\n",
      "Request was successful!\n",
      "Request was successful!\n",
      "Request was successful!\n",
      "Request was successful!\n",
      "Request was successful!\n",
      "Request was successful!\n",
      "Request was successful!\n",
      "Request was successful!\n",
      "Request was successful!\n",
      "Request was successful!\n",
      "Request was successful!\n",
      "Request was successful!\n",
      "Request was successful!\n",
      "Request was successful!\n",
      "Request was successful!\n",
      "Request was successful!\n",
      "Request was successful!\n",
      "Request was successful!\n",
      "Request was successful!\n",
      "Request was successful!\n",
      "Request was successful!\n",
      "Request was successful!\n",
      "Request was successful!\n",
      "Request was successful!\n",
      "Request was successful!\n",
      "Request was successful!\n",
      "Request was successful!\n",
      "Request was successful!\n",
      "Request was successful!\n",
      "Request was successful!\n",
      "Request was successful!\n",
      "Request was successful!\n",
      "Request was successful!\n",
      "Request was successful!\n",
      "Request was successful!\n",
      "Request was successful!\n",
      "Request was successful!\n",
      "Request was successful!\n",
      "Request was successful!\n",
      "Request was successful!\n",
      "Request was successful!\n",
      "Request was successful!\n",
      "Request was successful!\n",
      "Request was successful!\n",
      "Request was successful!\n",
      "Request was successful!\n",
      "Request was successful!\n",
      "Request was successful!\n"
     ]
    }
   ],
   "source": [
    "esg_service.generate_esg_data()\n",
    "#esg_service.generate_esg_data_for_each_industry()"
   ],
   "metadata": {
    "collapsed": false,
    "ExecuteTime": {
     "end_time": "2024-07-09T22:51:03.826292Z",
     "start_time": "2024-07-09T22:50:34.198764Z"
    }
   },
   "id": "a672fad22f56b21c"
  },
  {
   "cell_type": "code",
   "execution_count": 29,
   "outputs": [
    {
     "name": "stdout",
     "output_type": "stream",
     "text": [
      "                                 Open        High         Low       Close  \\\n",
      "Date                                                                        \n",
      "2024-06-06 00:00:00-04:00  424.010010  425.309998  420.579987  424.519989   \n",
      "2024-06-07 00:00:00-04:00  426.200012  426.279999  423.000000  423.850006   \n",
      "2024-06-10 00:00:00-04:00  424.700012  428.079987  423.890015  427.869995   \n",
      "2024-06-11 00:00:00-04:00  425.480011  432.820007  425.250000  432.679993   \n",
      "2024-06-12 00:00:00-04:00  435.320007  443.399994  433.250000  441.059998   \n",
      "2024-06-13 00:00:00-04:00  440.850006  443.390015  439.369995  441.579987   \n",
      "2024-06-14 00:00:00-04:00  438.279999  443.140015  436.720001  442.570007   \n",
      "2024-06-17 00:00:00-04:00  442.589996  450.940002  440.720001  448.369995   \n",
      "2024-06-18 00:00:00-04:00  449.709991  450.140015  444.890015  446.339996   \n",
      "2024-06-20 00:00:00-04:00  446.299988  446.529999  441.269989  445.700012   \n",
      "2024-06-21 00:00:00-04:00  447.380005  450.579987  446.510010  449.779999   \n",
      "2024-06-24 00:00:00-04:00  449.799988  452.750000  446.410004  447.670013   \n",
      "2024-06-25 00:00:00-04:00  448.250000  451.420013  446.750000  450.950012   \n",
      "2024-06-26 00:00:00-04:00  449.000000  453.600006  448.190002  452.160004   \n",
      "2024-06-27 00:00:00-04:00  452.179993  456.170013  451.769989  452.850006   \n",
      "2024-06-28 00:00:00-04:00  453.070007  455.380005  446.410004  446.950012   \n",
      "2024-07-01 00:00:00-04:00  448.660004  457.369995  445.660004  456.730011   \n",
      "2024-07-02 00:00:00-04:00  453.200012  459.589996  453.109985  459.279999   \n",
      "2024-07-03 00:00:00-04:00  458.190002  461.019989  457.880005  460.769989   \n",
      "2024-07-05 00:00:00-04:00  459.609985  468.350006  458.970001  467.559998   \n",
      "\n",
      "                             Volume  Dividends  Stock Splits  \n",
      "Date                                                          \n",
      "2024-06-06 00:00:00-04:00  14861300        0.0           0.0  \n",
      "2024-06-07 00:00:00-04:00  13621700        0.0           0.0  \n",
      "2024-06-10 00:00:00-04:00  14003000        0.0           0.0  \n",
      "2024-06-11 00:00:00-04:00  14551100        0.0           0.0  \n",
      "2024-06-12 00:00:00-04:00  22366200        0.0           0.0  \n",
      "2024-06-13 00:00:00-04:00  15960600        0.0           0.0  \n",
      "2024-06-14 00:00:00-04:00  13582000        0.0           0.0  \n",
      "2024-06-17 00:00:00-04:00  20790000        0.0           0.0  \n",
      "2024-06-18 00:00:00-04:00  17112500        0.0           0.0  \n",
      "2024-06-20 00:00:00-04:00  19877400        0.0           0.0  \n",
      "2024-06-21 00:00:00-04:00  34486200        0.0           0.0  \n",
      "2024-06-24 00:00:00-04:00  15913700        0.0           0.0  \n",
      "2024-06-25 00:00:00-04:00  16747500        0.0           0.0  \n",
      "2024-06-26 00:00:00-04:00  16507000        0.0           0.0  \n",
      "2024-06-27 00:00:00-04:00  14806300        0.0           0.0  \n",
      "2024-06-28 00:00:00-04:00  28362300        0.0           0.0  \n",
      "2024-07-01 00:00:00-04:00  17662800        0.0           0.0  \n",
      "2024-07-02 00:00:00-04:00  13979800        0.0           0.0  \n",
      "2024-07-03 00:00:00-04:00   9932800        0.0           0.0  \n",
      "2024-07-05 00:00:00-04:00  15980200        0.0           0.0  \n"
     ]
    }
   ],
   "source": [
    "msft = yf.Ticker('MSFT')\n",
    "hist = msft.history(period=\"1mo\")\n",
    "print(hist)"
   ],
   "metadata": {
    "collapsed": false,
    "ExecuteTime": {
     "end_time": "2024-07-07T09:43:37.329349Z",
     "start_time": "2024-07-07T09:43:36.839912Z"
    }
   },
   "id": "65e65fd30f98701a"
  },
  {
   "cell_type": "code",
   "execution_count": null,
   "outputs": [],
   "source": [
    "msft = yf.Tickers('msft aapl goog')\n",
    "hist = msft.history(period=\"1mo\")\n",
    "print(hist)"
   ],
   "metadata": {
    "collapsed": false
   },
   "id": "7747471223aa20cc"
  },
  {
   "cell_type": "code",
   "execution_count": null,
   "outputs": [],
   "source": [
    "pd.DataFrame(hist)"
   ],
   "metadata": {
    "collapsed": false
   },
   "id": "6649986fc6d39d37"
  },
  {
   "cell_type": "code",
   "execution_count": null,
   "outputs": [],
   "source": [
    "msft.news"
   ],
   "metadata": {
    "collapsed": false
   },
   "id": "c28d44b9421e66cd"
  }
 ],
 "metadata": {
  "kernelspec": {
   "display_name": "Python 3",
   "language": "python",
   "name": "python3"
  },
  "language_info": {
   "codemirror_mode": {
    "name": "ipython",
    "version": 2
   },
   "file_extension": ".py",
   "mimetype": "text/x-python",
   "name": "python",
   "nbconvert_exporter": "python",
   "pygments_lexer": "ipython2",
   "version": "2.7.6"
  }
 },
 "nbformat": 4,
 "nbformat_minor": 5
}
