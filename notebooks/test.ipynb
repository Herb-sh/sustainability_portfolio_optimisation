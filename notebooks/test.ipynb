{
 "cells": [
  {
   "cell_type": "code",
   "execution_count": 2,
   "id": "initial_id",
   "metadata": {
    "collapsed": true,
    "ExecuteTime": {
     "end_time": "2024-07-20T20:39:04.007106Z",
     "start_time": "2024-07-20T20:39:02.955291Z"
    }
   },
   "outputs": [
    {
     "data": {
      "text/plain": "<module 'utilities.esg_service' from '/Users/herbishtini/Documents/UNI/Master Thesis/sustainability_portfolio_optimisation/utilities/esg_service.py'>"
     },
     "execution_count": 2,
     "metadata": {},
     "output_type": "execute_result"
    }
   ],
   "source": [
    "from utilities.feed import get_stock_info\n",
    "import utilities.variables as variables \n",
    "import yfinance as yf\n",
    "import pandas as pd\n",
    "import importlib\n",
    "import utilities.parser as parser\n",
    "import utilities.esg_service as esg_service\n",
    "importlib.reload(parser)\n",
    "importlib.reload(esg_service)"
   ]
  },
  {
   "cell_type": "code",
   "execution_count": 6,
   "outputs": [],
   "source": [
    "# esg_service.generate_esg_data()\n",
    "#esg_service.generate_esg_data_for_each_industry()"
   ],
   "metadata": {
    "collapsed": false,
    "ExecuteTime": {
     "end_time": "2024-07-13T23:15:58.313104Z",
     "start_time": "2024-07-13T23:15:58.296182Z"
    }
   },
   "id": "a672fad22f56b21c"
  },
  {
   "cell_type": "code",
   "execution_count": 4,
   "outputs": [
    {
     "name": "stdout",
     "output_type": "stream",
     "text": [
      "{'address1': 'Nishishinjuku 8-5-1', 'address2': 'Shinjuku-ku', 'city': 'Tokyo', 'zip': '160-0023', 'country': 'Japan', 'phone': '81 3 3365 8767', 'website': 'https://www.nre-mf.co.jp', 'industry': 'REIT - Retail', 'industryKey': 'reit-retail', 'industryDisp': 'REIT - Retail', 'sector': 'Real Estate', 'sectorKey': 'real-estate', 'sectorDisp': 'Real Estate', 'longBusinessSummary': 'Nomura Real Estate Master Fund, Inc. (NMF) is a real estate investment corporation formed to own and invest primarily in office buildings, retail facilities, logistics and residential facilities. NMF is externally managed by a licensed asset management company, Nomura Real Estate Asset Management Co., Ltd. (\"NREAM\"). NREAM is a wholly-owned subsidiary of Nomura Real Estate Holdings, Inc. NMF was established on October 1, 2015 through the consolidation type merger involving the former Nomura Real Estate Master Fund, Inc. (hereinafter the \"former NMF\"), Nomura Real Estate Office Fund, Inc. (hereinafter \"NOF\") and Nomura Real Estate Residential Fund, Inc. (hereinafter \"NRF\"), and listed its investment securities (TSE code: 3462) on the Real Estate Investment Trust Section of the Tokyo Stock Exchange on October 2 of the same year.', 'companyOfficers': [{'maxAge': 1, 'name': 'Masaomi  Katayama', 'title': 'President, CEO & Director of Nomura Real Estate Asset Management Co., Ltd', 'exercisedValue': 0, 'unexercisedValue': 0}, {'maxAge': 1, 'name': 'Mr. Shuhei  Yoshida', 'age': 71, 'title': 'Executive Director', 'yearBorn': 1952, 'exercisedValue': 0, 'unexercisedValue': 0}, {'maxAge': 1, 'name': 'Mr. Fumiki  Kondo', 'title': 'Senior Managing Executive Officer & Director of Nomura Real Estate Asset Management Co., Ltd.', 'exercisedValue': 0, 'unexercisedValue': 0}], 'maxAge': 86400, 'priceHint': 2, 'previousClose': 149900.0, 'open': 149100.0, 'dayLow': 147400.0, 'dayHigh': 149500.0, 'regularMarketPreviousClose': 149900.0, 'regularMarketOpen': 149100.0, 'regularMarketDayLow': 147400.0, 'regularMarketDayHigh': 149500.0, 'dividendRate': 6294.0, 'dividendYield': 0.0425, 'exDividendDate': 1724889600, 'payoutRatio': 1.0008, 'fiveYearAvgDividendYield': 3.75, 'beta': 0.426, 'trailingPE': 23.474178, 'forwardPE': 26.549372, 'volume': 18387, 'regularMarketVolume': 18387, 'averageVolume': 16800, 'averageVolume10days': 13535, 'averageDailyVolume10Day': 13535, 'marketCap': 697849610240, 'fiftyTwoWeekLow': 135800.0, 'fiftyTwoWeekHigh': 174700.0, 'priceToSalesTrailing12Months': 8.344326, 'fiftyDayAverage': 145580.0, 'twoHundredDayAverage': 155444.5, 'trailingAnnualDividendRate': 6714.0, 'trailingAnnualDividendYield': 0.04478986, 'currency': 'JPY', 'enterpriseValue': 1168203710464, 'profitMargins': 0.36703, 'floatShares': 4306581, 'sharesOutstanding': 4715200, 'heldPercentInsiders': 0.12956999, 'heldPercentInstitutions': 0.4806, 'impliedSharesOutstanding': 4768480, 'bookValue': 130363.57, 'priceToBook': 1.1352865, 'lastFiscalYearEnd': 1693440000, 'nextFiscalYearEnd': 1725062400, 'mostRecentQuarter': 1693440000, 'earningsQuarterlyGrowth': 0.241, 'netIncomeToCommon': 30695440384, 'trailingEps': 6304.8, 'forwardEps': 5574.52, 'enterpriseToRevenue': 13.968, 'enterpriseToEbitda': 22.576, '52WeekChange': -0.08093196, 'SandP52WeekChange': 0.24125004, 'lastDividendValue': 3391.0, 'lastDividendDate': 1724889600, 'exchange': 'JPX', 'quoteType': 'EQUITY', 'symbol': '3462.T', 'underlyingSymbol': '3462.T', 'shortName': 'NOMURA REAL ESTATE MASTER FUND ', 'longName': 'Nomura Real Estate Master Fund, Inc.', 'firstTradeDateEpochUtc': 1370995200, 'timeZoneFullName': 'Asia/Tokyo', 'timeZoneShortName': 'JST', 'uuid': 'b4fe6ebc-524b-3870-b8ed-fc18adefa797', 'messageBoardId': 'finmb_331398308', 'gmtOffSetMilliseconds': 32400000, 'currentPrice': 148000.0, 'targetHighPrice': 170000.0, 'targetLowPrice': 160000.0, 'targetMeanPrice': 165500.0, 'targetMedianPrice': 166000.0, 'recommendationMean': 3.2, 'recommendationKey': 'hold', 'numberOfAnalystOpinions': 4, 'totalCash': 51034808320, 'totalCashPerShare': 10823.467, 'ebitda': 51744686080, 'totalDebt': 521388851200, 'quickRatio': 0.824, 'currentRatio': 0.85, 'totalRevenue': 83631628288, 'debtToEquity': 84.821, 'revenuePerShare': 17736.602, 'returnOnAssets': 0.01841, 'returnOnEquity': 0.04992, 'freeCashflow': 32594878464, 'operatingCashflow': 65187676160, 'earningsGrowth': 0.241, 'revenueGrowth': 0.118, 'grossMargins': 0.49852002, 'ebitdaMargins': 0.61872, 'operatingMargins': 0.43376, 'financialCurrency': 'JPY', 'trailingPegRatio': None}\n"
     ]
    }
   ],
   "source": [
    "ticker = yf.Ticker('3462.T')\n",
    "print(ticker.info)"
   ],
   "metadata": {
    "collapsed": false,
    "ExecuteTime": {
     "end_time": "2024-07-17T22:15:48.021426Z",
     "start_time": "2024-07-17T22:15:47.916654Z"
    }
   },
   "id": "65e65fd30f98701a"
  },
  {
   "cell_type": "code",
   "execution_count": 22,
   "outputs": [
    {
     "ename": "AttributeError",
     "evalue": "'list' object has no attribute 'upper'",
     "output_type": "error",
     "traceback": [
      "\u001B[0;31m---------------------------------------------------------------------------\u001B[0m",
      "\u001B[0;31mAttributeError\u001B[0m                            Traceback (most recent call last)",
      "Cell \u001B[0;32mIn[22], line 7\u001B[0m\n\u001B[1;32m      4\u001B[0m \u001B[38;5;66;03m# Dictionary to store market capitalizations\u001B[39;00m\n\u001B[1;32m      5\u001B[0m market_caps \u001B[38;5;241m=\u001B[39m {}\n\u001B[0;32m----> 7\u001B[0m tickers \u001B[38;5;241m=\u001B[39m \u001B[43myf\u001B[49m\u001B[38;5;241;43m.\u001B[39;49m\u001B[43mTicker\u001B[49m\u001B[43m(\u001B[49m\u001B[43msymbols\u001B[49m\u001B[43m)\u001B[49m\n\u001B[1;32m      8\u001B[0m \u001B[38;5;28mprint\u001B[39m(tickers)\n",
      "File \u001B[0;32m~/anaconda3/envs/portfolio_optimisation/lib/python3.10/site-packages/yfinance/ticker.py:34\u001B[0m, in \u001B[0;36mTicker.__init__\u001B[0;34m(self, ticker, session, proxy)\u001B[0m\n\u001B[1;32m     33\u001B[0m \u001B[38;5;28;01mdef\u001B[39;00m \u001B[38;5;21m__init__\u001B[39m(\u001B[38;5;28mself\u001B[39m, ticker, session\u001B[38;5;241m=\u001B[39m\u001B[38;5;28;01mNone\u001B[39;00m, proxy\u001B[38;5;241m=\u001B[39m\u001B[38;5;28;01mNone\u001B[39;00m):\n\u001B[0;32m---> 34\u001B[0m     \u001B[38;5;28;43msuper\u001B[39;49m\u001B[43m(\u001B[49m\u001B[43mTicker\u001B[49m\u001B[43m,\u001B[49m\u001B[43m \u001B[49m\u001B[38;5;28;43mself\u001B[39;49m\u001B[43m)\u001B[49m\u001B[38;5;241;43m.\u001B[39;49m\u001B[38;5;21;43m__init__\u001B[39;49m\u001B[43m(\u001B[49m\u001B[43mticker\u001B[49m\u001B[43m,\u001B[49m\u001B[43m \u001B[49m\u001B[43msession\u001B[49m\u001B[38;5;241;43m=\u001B[39;49m\u001B[43msession\u001B[49m\u001B[43m,\u001B[49m\u001B[43m \u001B[49m\u001B[43mproxy\u001B[49m\u001B[38;5;241;43m=\u001B[39;49m\u001B[43mproxy\u001B[49m\u001B[43m)\u001B[49m\n\u001B[1;32m     35\u001B[0m     \u001B[38;5;28mself\u001B[39m\u001B[38;5;241m.\u001B[39m_expirations \u001B[38;5;241m=\u001B[39m {}\n\u001B[1;32m     36\u001B[0m     \u001B[38;5;28mself\u001B[39m\u001B[38;5;241m.\u001B[39m_underlying  \u001B[38;5;241m=\u001B[39m {}\n",
      "File \u001B[0;32m~/anaconda3/envs/portfolio_optimisation/lib/python3.10/site-packages/yfinance/base.py:47\u001B[0m, in \u001B[0;36mTickerBase.__init__\u001B[0;34m(self, ticker, session, proxy)\u001B[0m\n\u001B[1;32m     46\u001B[0m \u001B[38;5;28;01mdef\u001B[39;00m \u001B[38;5;21m__init__\u001B[39m(\u001B[38;5;28mself\u001B[39m, ticker, session\u001B[38;5;241m=\u001B[39m\u001B[38;5;28;01mNone\u001B[39;00m, proxy\u001B[38;5;241m=\u001B[39m\u001B[38;5;28;01mNone\u001B[39;00m):\n\u001B[0;32m---> 47\u001B[0m     \u001B[38;5;28mself\u001B[39m\u001B[38;5;241m.\u001B[39mticker \u001B[38;5;241m=\u001B[39m \u001B[43mticker\u001B[49m\u001B[38;5;241;43m.\u001B[39;49m\u001B[43mupper\u001B[49m()\n\u001B[1;32m     48\u001B[0m     \u001B[38;5;28mself\u001B[39m\u001B[38;5;241m.\u001B[39mproxy \u001B[38;5;241m=\u001B[39m proxy\n\u001B[1;32m     49\u001B[0m     \u001B[38;5;28mself\u001B[39m\u001B[38;5;241m.\u001B[39msession \u001B[38;5;241m=\u001B[39m session\n",
      "\u001B[0;31mAttributeError\u001B[0m: 'list' object has no attribute 'upper'"
     ]
    }
   ],
   "source": [
    "# List of stock symbols\n",
    "symbols = ['AAPL', 'MSFT', 'GOOGL', 'AMZN', 'TSLA']\n",
    "\n",
    "# Dictionary to store market capitalizations\n",
    "market_caps = {}\n",
    "\n",
    "# Fetch market capitalization for each symbol\n",
    "for symbol in symbols:\n",
    "    ticker = yf.Ticker(symbol)\n",
    "    market_cap = ticker.info.get('marketCap', 'pegRatio')  # Use 'N/A' if marketCap is not available\n",
    "    market_caps[symbol] = market_cap\n",
    "\n",
    "# Print the market capitalizations\n",
    "for symbol, market_cap in market_caps.items():\n",
    "    print(f\"{symbol}: {market_cap}\")"
   ],
   "metadata": {
    "collapsed": false,
    "ExecuteTime": {
     "end_time": "2024-07-15T22:23:49.676723Z",
     "start_time": "2024-07-15T22:23:49.575554Z"
    }
   },
   "id": "6baceeda7fbe6617"
  },
  {
   "cell_type": "code",
   "execution_count": null,
   "outputs": [],
   "source": [
    "msft.info['marketCap']"
   ],
   "metadata": {
    "collapsed": false,
    "ExecuteTime": {
     "end_time": "2024-07-13T23:15:58.513567Z",
     "start_time": "2024-07-13T23:15:58.509340Z"
    }
   },
   "id": "c12cbc4b77adde59"
  },
  {
   "cell_type": "code",
   "execution_count": null,
   "outputs": [],
   "source": [
    "msft.capital_gains"
   ],
   "metadata": {
    "collapsed": false,
    "ExecuteTime": {
     "start_time": "2024-07-13T23:15:58.511906Z"
    }
   },
   "id": "cae782f5afea3a67"
  },
  {
   "cell_type": "code",
   "execution_count": null,
   "outputs": [],
   "source": [
    "tickers = yf.Tickers('msft') # 'msft aapl goog'\n",
    "tickers.tickers['msft'].info"
   ],
   "metadata": {
    "collapsed": false,
    "ExecuteTime": {
     "start_time": "2024-07-13T23:15:58.513264Z"
    }
   },
   "id": "faf2d3486e3b9848"
  },
  {
   "cell_type": "code",
   "execution_count": null,
   "outputs": [],
   "source": [
    "pd.DataFrame(hist)"
   ],
   "metadata": {
    "collapsed": false,
    "ExecuteTime": {
     "start_time": "2024-07-13T23:15:58.514213Z"
    }
   },
   "id": "6649986fc6d39d37"
  },
  {
   "cell_type": "code",
   "execution_count": 13,
   "outputs": [
    {
     "name": "stderr",
     "output_type": "stream",
     "text": [
      "[*********************100%%**********************]  1 of 1 completed\n"
     ]
    },
    {
     "data": {
      "text/plain": "                  Open        High         Low       Close   Adj Close  \\\nDate                                                                     \n1999-01-01   34.902344   43.781250   34.000000   43.750000   27.024599   \n1999-02-01   43.859375   43.984375   35.996094   37.531250   23.183243   \n1999-03-01   37.390625   47.312500   36.765625   44.812500   27.680922   \n1999-04-01   45.625000   47.812500   39.937500   40.656250   25.113575   \n1999-05-01   40.718750   40.906250   37.750000   40.343750   24.920549   \n...                ...         ...         ...         ...         ...   \n2024-03-01  411.269989  430.820007  398.390015  420.720001  419.962494   \n2024-04-01  423.950012  429.369995  388.029999  389.329987  388.628998   \n2024-05-01  392.609985  433.600006  390.309998  415.130005  414.382568   \n2024-06-01  415.529999  456.170013  408.920013  446.950012  446.950012   \n2024-07-01  448.660004  468.350006  432.000000  437.109985  437.109985   \n\n                Volume  \nDate                    \n1999-01-01  1472518800  \n1999-02-01  1599103200  \n1999-03-01  1569410000  \n1999-04-01  1163599400  \n1999-05-01  1124257000  \n...                ...  \n2024-03-01   426349600  \n2024-04-01   440777700  \n2024-05-01   413800800  \n2024-06-01   342370400  \n2024-07-01   261357517  \n\n[307 rows x 6 columns]",
      "text/html": "<div>\n<style scoped>\n    .dataframe tbody tr th:only-of-type {\n        vertical-align: middle;\n    }\n\n    .dataframe tbody tr th {\n        vertical-align: top;\n    }\n\n    .dataframe thead th {\n        text-align: right;\n    }\n</style>\n<table border=\"1\" class=\"dataframe\">\n  <thead>\n    <tr style=\"text-align: right;\">\n      <th></th>\n      <th>Open</th>\n      <th>High</th>\n      <th>Low</th>\n      <th>Close</th>\n      <th>Adj Close</th>\n      <th>Volume</th>\n    </tr>\n    <tr>\n      <th>Date</th>\n      <th></th>\n      <th></th>\n      <th></th>\n      <th></th>\n      <th></th>\n      <th></th>\n    </tr>\n  </thead>\n  <tbody>\n    <tr>\n      <th>1999-01-01</th>\n      <td>34.902344</td>\n      <td>43.781250</td>\n      <td>34.000000</td>\n      <td>43.750000</td>\n      <td>27.024599</td>\n      <td>1472518800</td>\n    </tr>\n    <tr>\n      <th>1999-02-01</th>\n      <td>43.859375</td>\n      <td>43.984375</td>\n      <td>35.996094</td>\n      <td>37.531250</td>\n      <td>23.183243</td>\n      <td>1599103200</td>\n    </tr>\n    <tr>\n      <th>1999-03-01</th>\n      <td>37.390625</td>\n      <td>47.312500</td>\n      <td>36.765625</td>\n      <td>44.812500</td>\n      <td>27.680922</td>\n      <td>1569410000</td>\n    </tr>\n    <tr>\n      <th>1999-04-01</th>\n      <td>45.625000</td>\n      <td>47.812500</td>\n      <td>39.937500</td>\n      <td>40.656250</td>\n      <td>25.113575</td>\n      <td>1163599400</td>\n    </tr>\n    <tr>\n      <th>1999-05-01</th>\n      <td>40.718750</td>\n      <td>40.906250</td>\n      <td>37.750000</td>\n      <td>40.343750</td>\n      <td>24.920549</td>\n      <td>1124257000</td>\n    </tr>\n    <tr>\n      <th>...</th>\n      <td>...</td>\n      <td>...</td>\n      <td>...</td>\n      <td>...</td>\n      <td>...</td>\n      <td>...</td>\n    </tr>\n    <tr>\n      <th>2024-03-01</th>\n      <td>411.269989</td>\n      <td>430.820007</td>\n      <td>398.390015</td>\n      <td>420.720001</td>\n      <td>419.962494</td>\n      <td>426349600</td>\n    </tr>\n    <tr>\n      <th>2024-04-01</th>\n      <td>423.950012</td>\n      <td>429.369995</td>\n      <td>388.029999</td>\n      <td>389.329987</td>\n      <td>388.628998</td>\n      <td>440777700</td>\n    </tr>\n    <tr>\n      <th>2024-05-01</th>\n      <td>392.609985</td>\n      <td>433.600006</td>\n      <td>390.309998</td>\n      <td>415.130005</td>\n      <td>414.382568</td>\n      <td>413800800</td>\n    </tr>\n    <tr>\n      <th>2024-06-01</th>\n      <td>415.529999</td>\n      <td>456.170013</td>\n      <td>408.920013</td>\n      <td>446.950012</td>\n      <td>446.950012</td>\n      <td>342370400</td>\n    </tr>\n    <tr>\n      <th>2024-07-01</th>\n      <td>448.660004</td>\n      <td>468.350006</td>\n      <td>432.000000</td>\n      <td>437.109985</td>\n      <td>437.109985</td>\n      <td>261357517</td>\n    </tr>\n  </tbody>\n</table>\n<p>307 rows × 6 columns</p>\n</div>"
     },
     "execution_count": 13,
     "metadata": {},
     "output_type": "execute_result"
    }
   ],
   "source": [
    "#data = yf.download(\"MSFT\", period=\"1mo\") # start=\"2022-01-01\", end=None\n",
    "data = yf.download(\"msft\", start=\"1999-01-01\", end=None, interval=\"1mo\")\n",
    "data"
   ],
   "metadata": {
    "collapsed": false,
    "ExecuteTime": {
     "end_time": "2024-07-21T21:14:22.903884Z",
     "start_time": "2024-07-21T21:14:22.635115Z"
    }
   },
   "id": "c28d44b9421e66cd"
  },
  {
   "cell_type": "code",
   "execution_count": 5,
   "outputs": [
    {
     "data": {
      "text/plain": "                                 Open        High         Low       Close  \\\nDate                                                                        \n2024-06-20 00:00:00-04:00  446.299988  446.529999  441.269989  445.700012   \n2024-06-21 00:00:00-04:00  447.380005  450.579987  446.510010  449.779999   \n2024-06-24 00:00:00-04:00  449.799988  452.750000  446.410004  447.670013   \n2024-06-25 00:00:00-04:00  448.250000  451.420013  446.750000  450.950012   \n2024-06-26 00:00:00-04:00  449.000000  453.600006  448.190002  452.160004   \n2024-06-27 00:00:00-04:00  452.179993  456.170013  451.769989  452.850006   \n2024-06-28 00:00:00-04:00  453.070007  455.380005  446.410004  446.950012   \n2024-07-01 00:00:00-04:00  448.660004  457.369995  445.660004  456.730011   \n2024-07-02 00:00:00-04:00  453.200012  459.589996  453.109985  459.279999   \n2024-07-03 00:00:00-04:00  458.190002  461.019989  457.880005  460.769989   \n2024-07-05 00:00:00-04:00  459.609985  468.350006  458.970001  467.559998   \n2024-07-08 00:00:00-04:00  466.549988  467.700012  464.459991  466.239990   \n2024-07-09 00:00:00-04:00  467.000000  467.329987  458.000000  459.540009   \n2024-07-10 00:00:00-04:00  461.220001  466.459991  458.859985  466.250000   \n2024-07-11 00:00:00-04:00  462.980011  464.779999  451.549988  454.700012   \n2024-07-12 00:00:00-04:00  454.329987  456.359985  450.649994  453.549988   \n2024-07-15 00:00:00-04:00  453.299988  457.260010  451.429993  453.959991   \n2024-07-16 00:00:00-04:00  454.220001  454.299988  446.660004  449.519989   \n2024-07-17 00:00:00-04:00  442.589996  444.850006  439.179993  443.519989   \n2024-07-18 00:00:00-04:00  444.339996  444.649994  434.399994  440.369995   \n2024-07-19 00:00:00-04:00  433.100006  441.140015  432.000000  437.109985   \n\n                             Volume  Dividends  Stock Splits  \nDate                                                          \n2024-06-20 00:00:00-04:00  19877400        0.0           0.0  \n2024-06-21 00:00:00-04:00  34486200        0.0           0.0  \n2024-06-24 00:00:00-04:00  15913700        0.0           0.0  \n2024-06-25 00:00:00-04:00  16747500        0.0           0.0  \n2024-06-26 00:00:00-04:00  16507000        0.0           0.0  \n2024-06-27 00:00:00-04:00  14806300        0.0           0.0  \n2024-06-28 00:00:00-04:00  28362300        0.0           0.0  \n2024-07-01 00:00:00-04:00  17662800        0.0           0.0  \n2024-07-02 00:00:00-04:00  13979800        0.0           0.0  \n2024-07-03 00:00:00-04:00   9932800        0.0           0.0  \n2024-07-05 00:00:00-04:00  16000300        0.0           0.0  \n2024-07-08 00:00:00-04:00  12962300        0.0           0.0  \n2024-07-09 00:00:00-04:00  17207200        0.0           0.0  \n2024-07-10 00:00:00-04:00  18196100        0.0           0.0  \n2024-07-11 00:00:00-04:00  23111200        0.0           0.0  \n2024-07-12 00:00:00-04:00  16311300        0.0           0.0  \n2024-07-15 00:00:00-04:00  14429400        0.0           0.0  \n2024-07-16 00:00:00-04:00  17175700        0.0           0.0  \n2024-07-17 00:00:00-04:00  21778000        0.0           0.0  \n2024-07-18 00:00:00-04:00  20794800        0.0           0.0  \n2024-07-19 00:00:00-04:00  20862400        0.0           0.0  ",
      "text/html": "<div>\n<style scoped>\n    .dataframe tbody tr th:only-of-type {\n        vertical-align: middle;\n    }\n\n    .dataframe tbody tr th {\n        vertical-align: top;\n    }\n\n    .dataframe thead th {\n        text-align: right;\n    }\n</style>\n<table border=\"1\" class=\"dataframe\">\n  <thead>\n    <tr style=\"text-align: right;\">\n      <th></th>\n      <th>Open</th>\n      <th>High</th>\n      <th>Low</th>\n      <th>Close</th>\n      <th>Volume</th>\n      <th>Dividends</th>\n      <th>Stock Splits</th>\n    </tr>\n    <tr>\n      <th>Date</th>\n      <th></th>\n      <th></th>\n      <th></th>\n      <th></th>\n      <th></th>\n      <th></th>\n      <th></th>\n    </tr>\n  </thead>\n  <tbody>\n    <tr>\n      <th>2024-06-20 00:00:00-04:00</th>\n      <td>446.299988</td>\n      <td>446.529999</td>\n      <td>441.269989</td>\n      <td>445.700012</td>\n      <td>19877400</td>\n      <td>0.0</td>\n      <td>0.0</td>\n    </tr>\n    <tr>\n      <th>2024-06-21 00:00:00-04:00</th>\n      <td>447.380005</td>\n      <td>450.579987</td>\n      <td>446.510010</td>\n      <td>449.779999</td>\n      <td>34486200</td>\n      <td>0.0</td>\n      <td>0.0</td>\n    </tr>\n    <tr>\n      <th>2024-06-24 00:00:00-04:00</th>\n      <td>449.799988</td>\n      <td>452.750000</td>\n      <td>446.410004</td>\n      <td>447.670013</td>\n      <td>15913700</td>\n      <td>0.0</td>\n      <td>0.0</td>\n    </tr>\n    <tr>\n      <th>2024-06-25 00:00:00-04:00</th>\n      <td>448.250000</td>\n      <td>451.420013</td>\n      <td>446.750000</td>\n      <td>450.950012</td>\n      <td>16747500</td>\n      <td>0.0</td>\n      <td>0.0</td>\n    </tr>\n    <tr>\n      <th>2024-06-26 00:00:00-04:00</th>\n      <td>449.000000</td>\n      <td>453.600006</td>\n      <td>448.190002</td>\n      <td>452.160004</td>\n      <td>16507000</td>\n      <td>0.0</td>\n      <td>0.0</td>\n    </tr>\n    <tr>\n      <th>2024-06-27 00:00:00-04:00</th>\n      <td>452.179993</td>\n      <td>456.170013</td>\n      <td>451.769989</td>\n      <td>452.850006</td>\n      <td>14806300</td>\n      <td>0.0</td>\n      <td>0.0</td>\n    </tr>\n    <tr>\n      <th>2024-06-28 00:00:00-04:00</th>\n      <td>453.070007</td>\n      <td>455.380005</td>\n      <td>446.410004</td>\n      <td>446.950012</td>\n      <td>28362300</td>\n      <td>0.0</td>\n      <td>0.0</td>\n    </tr>\n    <tr>\n      <th>2024-07-01 00:00:00-04:00</th>\n      <td>448.660004</td>\n      <td>457.369995</td>\n      <td>445.660004</td>\n      <td>456.730011</td>\n      <td>17662800</td>\n      <td>0.0</td>\n      <td>0.0</td>\n    </tr>\n    <tr>\n      <th>2024-07-02 00:00:00-04:00</th>\n      <td>453.200012</td>\n      <td>459.589996</td>\n      <td>453.109985</td>\n      <td>459.279999</td>\n      <td>13979800</td>\n      <td>0.0</td>\n      <td>0.0</td>\n    </tr>\n    <tr>\n      <th>2024-07-03 00:00:00-04:00</th>\n      <td>458.190002</td>\n      <td>461.019989</td>\n      <td>457.880005</td>\n      <td>460.769989</td>\n      <td>9932800</td>\n      <td>0.0</td>\n      <td>0.0</td>\n    </tr>\n    <tr>\n      <th>2024-07-05 00:00:00-04:00</th>\n      <td>459.609985</td>\n      <td>468.350006</td>\n      <td>458.970001</td>\n      <td>467.559998</td>\n      <td>16000300</td>\n      <td>0.0</td>\n      <td>0.0</td>\n    </tr>\n    <tr>\n      <th>2024-07-08 00:00:00-04:00</th>\n      <td>466.549988</td>\n      <td>467.700012</td>\n      <td>464.459991</td>\n      <td>466.239990</td>\n      <td>12962300</td>\n      <td>0.0</td>\n      <td>0.0</td>\n    </tr>\n    <tr>\n      <th>2024-07-09 00:00:00-04:00</th>\n      <td>467.000000</td>\n      <td>467.329987</td>\n      <td>458.000000</td>\n      <td>459.540009</td>\n      <td>17207200</td>\n      <td>0.0</td>\n      <td>0.0</td>\n    </tr>\n    <tr>\n      <th>2024-07-10 00:00:00-04:00</th>\n      <td>461.220001</td>\n      <td>466.459991</td>\n      <td>458.859985</td>\n      <td>466.250000</td>\n      <td>18196100</td>\n      <td>0.0</td>\n      <td>0.0</td>\n    </tr>\n    <tr>\n      <th>2024-07-11 00:00:00-04:00</th>\n      <td>462.980011</td>\n      <td>464.779999</td>\n      <td>451.549988</td>\n      <td>454.700012</td>\n      <td>23111200</td>\n      <td>0.0</td>\n      <td>0.0</td>\n    </tr>\n    <tr>\n      <th>2024-07-12 00:00:00-04:00</th>\n      <td>454.329987</td>\n      <td>456.359985</td>\n      <td>450.649994</td>\n      <td>453.549988</td>\n      <td>16311300</td>\n      <td>0.0</td>\n      <td>0.0</td>\n    </tr>\n    <tr>\n      <th>2024-07-15 00:00:00-04:00</th>\n      <td>453.299988</td>\n      <td>457.260010</td>\n      <td>451.429993</td>\n      <td>453.959991</td>\n      <td>14429400</td>\n      <td>0.0</td>\n      <td>0.0</td>\n    </tr>\n    <tr>\n      <th>2024-07-16 00:00:00-04:00</th>\n      <td>454.220001</td>\n      <td>454.299988</td>\n      <td>446.660004</td>\n      <td>449.519989</td>\n      <td>17175700</td>\n      <td>0.0</td>\n      <td>0.0</td>\n    </tr>\n    <tr>\n      <th>2024-07-17 00:00:00-04:00</th>\n      <td>442.589996</td>\n      <td>444.850006</td>\n      <td>439.179993</td>\n      <td>443.519989</td>\n      <td>21778000</td>\n      <td>0.0</td>\n      <td>0.0</td>\n    </tr>\n    <tr>\n      <th>2024-07-18 00:00:00-04:00</th>\n      <td>444.339996</td>\n      <td>444.649994</td>\n      <td>434.399994</td>\n      <td>440.369995</td>\n      <td>20794800</td>\n      <td>0.0</td>\n      <td>0.0</td>\n    </tr>\n    <tr>\n      <th>2024-07-19 00:00:00-04:00</th>\n      <td>433.100006</td>\n      <td>441.140015</td>\n      <td>432.000000</td>\n      <td>437.109985</td>\n      <td>20862400</td>\n      <td>0.0</td>\n      <td>0.0</td>\n    </tr>\n  </tbody>\n</table>\n</div>"
     },
     "execution_count": 5,
     "metadata": {},
     "output_type": "execute_result"
    }
   ],
   "source": [
    "# get historical market data\n",
    "msft = yf.Ticker(\"MSFT\")\n",
    "hist = msft.history(period=\"1mo\")\n",
    "hist"
   ],
   "metadata": {
    "collapsed": false,
    "ExecuteTime": {
     "end_time": "2024-07-20T21:12:49.413902Z",
     "start_time": "2024-07-20T21:12:49.267581Z"
    }
   },
   "id": "ac565801c75b57dd"
  },
  {
   "cell_type": "code",
   "execution_count": null,
   "outputs": [],
   "source": [],
   "metadata": {
    "collapsed": false
   },
   "id": "1e8556893ac5b6f1"
  }
 ],
 "metadata": {
  "kernelspec": {
   "display_name": "Python 3",
   "language": "python",
   "name": "python3"
  },
  "language_info": {
   "codemirror_mode": {
    "name": "ipython",
    "version": 2
   },
   "file_extension": ".py",
   "mimetype": "text/x-python",
   "name": "python",
   "nbconvert_exporter": "python",
   "pygments_lexer": "ipython2",
   "version": "2.7.6"
  }
 },
 "nbformat": 4,
 "nbformat_minor": 5
}
