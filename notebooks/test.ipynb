{
 "cells": [
  {
   "cell_type": "code",
   "execution_count": 80,
   "id": "initial_id",
   "metadata": {
    "collapsed": true,
    "ExecuteTime": {
     "end_time": "2024-07-28T23:31:50.742053Z",
     "start_time": "2024-07-28T23:31:50.729924Z"
    }
   },
   "outputs": [
    {
     "data": {
      "text/plain": "<module 'utilities.data_esg_service' from '/Users/herbishtini/Documents/UNI/Master Thesis/sustainability_portfolio_optimisation/utilities/data_esg_service.py'>"
     },
     "execution_count": 80,
     "metadata": {},
     "output_type": "execute_result"
    }
   ],
   "source": [
    "import utilities.variables as variables \n",
    "import yfinance as yf\n",
    "import pandas as pd\n",
    "import numpy as np\n",
    "import importlib\n",
    "import utilities.parser as parser\n",
    "import utilities.data_esg_service as esg_service\n",
    "import utilities.data_ticker_service as data_ticker_service\n",
    "importlib.reload(data_ticker_service)\n",
    "importlib.reload(parser)\n",
    "importlib.reload(esg_service)"
   ]
  },
  {
   "cell_type": "code",
   "execution_count": 6,
   "outputs": [],
   "source": [
    "# esg_service.generate_esg_data()\n",
    "#esg_service.generate_esg_data_for_each_industry()"
   ],
   "metadata": {
    "collapsed": false,
    "ExecuteTime": {
     "end_time": "2024-07-13T23:15:58.313104Z",
     "start_time": "2024-07-13T23:15:58.296182Z"
    }
   },
   "id": "a672fad22f56b21c"
  },
  {
   "cell_type": "code",
   "execution_count": 4,
   "outputs": [
    {
     "name": "stdout",
     "output_type": "stream",
     "text": [
      "{'address1': 'Nishishinjuku 8-5-1', 'address2': 'Shinjuku-ku', 'city': 'Tokyo', 'zip': '160-0023', 'country': 'Japan', 'phone': '81 3 3365 8767', 'website': 'https://www.nre-mf.co.jp', 'industry': 'REIT - Retail', 'industryKey': 'reit-retail', 'industryDisp': 'REIT - Retail', 'sector': 'Real Estate', 'sectorKey': 'real-estate', 'sectorDisp': 'Real Estate', 'longBusinessSummary': 'Nomura Real Estate Master Fund, Inc. (NMF) is a real estate investment corporation formed to own and invest primarily in office buildings, retail facilities, logistics and residential facilities. NMF is externally managed by a licensed asset management company, Nomura Real Estate Asset Management Co., Ltd. (\"NREAM\"). NREAM is a wholly-owned subsidiary of Nomura Real Estate Holdings, Inc. NMF was established on October 1, 2015 through the consolidation type merger involving the former Nomura Real Estate Master Fund, Inc. (hereinafter the \"former NMF\"), Nomura Real Estate Office Fund, Inc. (hereinafter \"NOF\") and Nomura Real Estate Residential Fund, Inc. (hereinafter \"NRF\"), and listed its investment securities (TSE code: 3462) on the Real Estate Investment Trust Section of the Tokyo Stock Exchange on October 2 of the same year.', 'companyOfficers': [{'maxAge': 1, 'name': 'Masaomi  Katayama', 'title': 'President, CEO & Director of Nomura Real Estate Asset Management Co., Ltd', 'exercisedValue': 0, 'unexercisedValue': 0}, {'maxAge': 1, 'name': 'Mr. Shuhei  Yoshida', 'age': 71, 'title': 'Executive Director', 'yearBorn': 1952, 'exercisedValue': 0, 'unexercisedValue': 0}, {'maxAge': 1, 'name': 'Mr. Fumiki  Kondo', 'title': 'Senior Managing Executive Officer & Director of Nomura Real Estate Asset Management Co., Ltd.', 'exercisedValue': 0, 'unexercisedValue': 0}], 'maxAge': 86400, 'priceHint': 2, 'previousClose': 149900.0, 'open': 149100.0, 'dayLow': 147400.0, 'dayHigh': 149500.0, 'regularMarketPreviousClose': 149900.0, 'regularMarketOpen': 149100.0, 'regularMarketDayLow': 147400.0, 'regularMarketDayHigh': 149500.0, 'dividendRate': 6294.0, 'dividendYield': 0.0425, 'exDividendDate': 1724889600, 'payoutRatio': 1.0008, 'fiveYearAvgDividendYield': 3.75, 'beta': 0.426, 'trailingPE': 23.474178, 'forwardPE': 26.549372, 'volume': 18387, 'regularMarketVolume': 18387, 'averageVolume': 16800, 'averageVolume10days': 13535, 'averageDailyVolume10Day': 13535, 'marketCap': 697849610240, 'fiftyTwoWeekLow': 135800.0, 'fiftyTwoWeekHigh': 174700.0, 'priceToSalesTrailing12Months': 8.344326, 'fiftyDayAverage': 145580.0, 'twoHundredDayAverage': 155444.5, 'trailingAnnualDividendRate': 6714.0, 'trailingAnnualDividendYield': 0.04478986, 'currency': 'JPY', 'enterpriseValue': 1168203710464, 'profitMargins': 0.36703, 'floatShares': 4306581, 'sharesOutstanding': 4715200, 'heldPercentInsiders': 0.12956999, 'heldPercentInstitutions': 0.4806, 'impliedSharesOutstanding': 4768480, 'bookValue': 130363.57, 'priceToBook': 1.1352865, 'lastFiscalYearEnd': 1693440000, 'nextFiscalYearEnd': 1725062400, 'mostRecentQuarter': 1693440000, 'earningsQuarterlyGrowth': 0.241, 'netIncomeToCommon': 30695440384, 'trailingEps': 6304.8, 'forwardEps': 5574.52, 'enterpriseToRevenue': 13.968, 'enterpriseToEbitda': 22.576, '52WeekChange': -0.08093196, 'SandP52WeekChange': 0.24125004, 'lastDividendValue': 3391.0, 'lastDividendDate': 1724889600, 'exchange': 'JPX', 'quoteType': 'EQUITY', 'symbol': '3462.T', 'underlyingSymbol': '3462.T', 'shortName': 'NOMURA REAL ESTATE MASTER FUND ', 'longName': 'Nomura Real Estate Master Fund, Inc.', 'firstTradeDateEpochUtc': 1370995200, 'timeZoneFullName': 'Asia/Tokyo', 'timeZoneShortName': 'JST', 'uuid': 'b4fe6ebc-524b-3870-b8ed-fc18adefa797', 'messageBoardId': 'finmb_331398308', 'gmtOffSetMilliseconds': 32400000, 'currentPrice': 148000.0, 'targetHighPrice': 170000.0, 'targetLowPrice': 160000.0, 'targetMeanPrice': 165500.0, 'targetMedianPrice': 166000.0, 'recommendationMean': 3.2, 'recommendationKey': 'hold', 'numberOfAnalystOpinions': 4, 'totalCash': 51034808320, 'totalCashPerShare': 10823.467, 'ebitda': 51744686080, 'totalDebt': 521388851200, 'quickRatio': 0.824, 'currentRatio': 0.85, 'totalRevenue': 83631628288, 'debtToEquity': 84.821, 'revenuePerShare': 17736.602, 'returnOnAssets': 0.01841, 'returnOnEquity': 0.04992, 'freeCashflow': 32594878464, 'operatingCashflow': 65187676160, 'earningsGrowth': 0.241, 'revenueGrowth': 0.118, 'grossMargins': 0.49852002, 'ebitdaMargins': 0.61872, 'operatingMargins': 0.43376, 'financialCurrency': 'JPY', 'trailingPegRatio': None}\n"
     ]
    }
   ],
   "source": [
    "ticker = yf.Ticker('3462.T')\n",
    "print(ticker.info)"
   ],
   "metadata": {
    "collapsed": false,
    "ExecuteTime": {
     "end_time": "2024-07-17T22:15:48.021426Z",
     "start_time": "2024-07-17T22:15:47.916654Z"
    }
   },
   "id": "65e65fd30f98701a"
  },
  {
   "cell_type": "code",
   "execution_count": 22,
   "outputs": [
    {
     "ename": "AttributeError",
     "evalue": "'list' object has no attribute 'upper'",
     "output_type": "error",
     "traceback": [
      "\u001B[0;31m---------------------------------------------------------------------------\u001B[0m",
      "\u001B[0;31mAttributeError\u001B[0m                            Traceback (most recent call last)",
      "Cell \u001B[0;32mIn[22], line 7\u001B[0m\n\u001B[1;32m      4\u001B[0m \u001B[38;5;66;03m# Dictionary to store market capitalizations\u001B[39;00m\n\u001B[1;32m      5\u001B[0m market_caps \u001B[38;5;241m=\u001B[39m {}\n\u001B[0;32m----> 7\u001B[0m tickers \u001B[38;5;241m=\u001B[39m \u001B[43myf\u001B[49m\u001B[38;5;241;43m.\u001B[39;49m\u001B[43mTicker\u001B[49m\u001B[43m(\u001B[49m\u001B[43msymbols\u001B[49m\u001B[43m)\u001B[49m\n\u001B[1;32m      8\u001B[0m \u001B[38;5;28mprint\u001B[39m(tickers)\n",
      "File \u001B[0;32m~/anaconda3/envs/portfolio_optimisation/lib/python3.10/site-packages/yfinance/ticker.py:34\u001B[0m, in \u001B[0;36mTicker.__init__\u001B[0;34m(self, ticker, session, proxy)\u001B[0m\n\u001B[1;32m     33\u001B[0m \u001B[38;5;28;01mdef\u001B[39;00m \u001B[38;5;21m__init__\u001B[39m(\u001B[38;5;28mself\u001B[39m, ticker, session\u001B[38;5;241m=\u001B[39m\u001B[38;5;28;01mNone\u001B[39;00m, proxy\u001B[38;5;241m=\u001B[39m\u001B[38;5;28;01mNone\u001B[39;00m):\n\u001B[0;32m---> 34\u001B[0m     \u001B[38;5;28;43msuper\u001B[39;49m\u001B[43m(\u001B[49m\u001B[43mTicker\u001B[49m\u001B[43m,\u001B[49m\u001B[43m \u001B[49m\u001B[38;5;28;43mself\u001B[39;49m\u001B[43m)\u001B[49m\u001B[38;5;241;43m.\u001B[39;49m\u001B[38;5;21;43m__init__\u001B[39;49m\u001B[43m(\u001B[49m\u001B[43mticker\u001B[49m\u001B[43m,\u001B[49m\u001B[43m \u001B[49m\u001B[43msession\u001B[49m\u001B[38;5;241;43m=\u001B[39;49m\u001B[43msession\u001B[49m\u001B[43m,\u001B[49m\u001B[43m \u001B[49m\u001B[43mproxy\u001B[49m\u001B[38;5;241;43m=\u001B[39;49m\u001B[43mproxy\u001B[49m\u001B[43m)\u001B[49m\n\u001B[1;32m     35\u001B[0m     \u001B[38;5;28mself\u001B[39m\u001B[38;5;241m.\u001B[39m_expirations \u001B[38;5;241m=\u001B[39m {}\n\u001B[1;32m     36\u001B[0m     \u001B[38;5;28mself\u001B[39m\u001B[38;5;241m.\u001B[39m_underlying  \u001B[38;5;241m=\u001B[39m {}\n",
      "File \u001B[0;32m~/anaconda3/envs/portfolio_optimisation/lib/python3.10/site-packages/yfinance/base.py:47\u001B[0m, in \u001B[0;36mTickerBase.__init__\u001B[0;34m(self, ticker, session, proxy)\u001B[0m\n\u001B[1;32m     46\u001B[0m \u001B[38;5;28;01mdef\u001B[39;00m \u001B[38;5;21m__init__\u001B[39m(\u001B[38;5;28mself\u001B[39m, ticker, session\u001B[38;5;241m=\u001B[39m\u001B[38;5;28;01mNone\u001B[39;00m, proxy\u001B[38;5;241m=\u001B[39m\u001B[38;5;28;01mNone\u001B[39;00m):\n\u001B[0;32m---> 47\u001B[0m     \u001B[38;5;28mself\u001B[39m\u001B[38;5;241m.\u001B[39mticker \u001B[38;5;241m=\u001B[39m \u001B[43mticker\u001B[49m\u001B[38;5;241;43m.\u001B[39;49m\u001B[43mupper\u001B[49m()\n\u001B[1;32m     48\u001B[0m     \u001B[38;5;28mself\u001B[39m\u001B[38;5;241m.\u001B[39mproxy \u001B[38;5;241m=\u001B[39m proxy\n\u001B[1;32m     49\u001B[0m     \u001B[38;5;28mself\u001B[39m\u001B[38;5;241m.\u001B[39msession \u001B[38;5;241m=\u001B[39m session\n",
      "\u001B[0;31mAttributeError\u001B[0m: 'list' object has no attribute 'upper'"
     ]
    }
   ],
   "source": [
    "# List of stock symbols\n",
    "symbols = ['AAPL', 'MSFT', 'GOOGL', 'AMZN', 'TSLA']\n",
    "\n",
    "# Dictionary to store market capitalizations\n",
    "market_caps = {}\n",
    "\n",
    "# Fetch market capitalization for each symbol\n",
    "for symbol in symbols:\n",
    "    ticker = yf.Ticker(symbol)\n",
    "    market_cap = ticker.info.get('marketCap', 'pegRatio')  # Use 'N/A' if marketCap is not available\n",
    "    market_caps[symbol] = market_cap\n",
    "\n",
    "# Print the market capitalizations\n",
    "for symbol, market_cap in market_caps.items():\n",
    "    print(f\"{symbol}: {market_cap}\")"
   ],
   "metadata": {
    "collapsed": false,
    "ExecuteTime": {
     "end_time": "2024-07-15T22:23:49.676723Z",
     "start_time": "2024-07-15T22:23:49.575554Z"
    }
   },
   "id": "6baceeda7fbe6617"
  },
  {
   "cell_type": "code",
   "execution_count": null,
   "outputs": [],
   "source": [
    "tickers = yf.Tickers('msft') # 'msft aapl goog'\n",
    "tickers.tickers['msft'].info"
   ],
   "metadata": {
    "collapsed": false,
    "ExecuteTime": {
     "start_time": "2024-07-13T23:15:58.513264Z"
    }
   },
   "id": "faf2d3486e3b9848"
  },
  {
   "cell_type": "code",
   "execution_count": 8,
   "outputs": [
    {
     "name": "stderr",
     "output_type": "stream",
     "text": [
      "[*********************100%%**********************]  1 of 1 completed\n"
     ]
    },
    {
     "data": {
      "text/plain": "                  Open        High        Low       Close   Adj Close  \\\nDate                                                                    \n2017-10-01   25.200001   26.280001  18.350000   20.379999   20.379999   \n2017-11-01   20.440001   51.799999  18.561001   43.900002   43.900002   \n2017-12-01   43.740002   58.799999  37.810001   51.779999   51.779999   \n2018-01-01   52.639999   57.416000  39.099998   40.619999   40.619999   \n2018-02-01   40.349998   52.700001  39.009998   40.770000   40.770000   \n...                ...         ...        ...         ...         ...   \n2023-08-01   95.510002   98.440002  75.120003   81.199997   81.199997   \n2023-09-01   81.830002   95.839996  66.660004   70.589996   70.589996   \n2023-10-01   70.209999   75.449997  55.020000   59.570000   59.570000   \n2023-11-01   59.139999  108.398003  57.320000  104.199997  104.199997   \n2023-12-01  103.589996  108.839996  88.711998   91.660004   91.660004   \n\n               Volume  \nDate                   \n2017-10-01  103623700  \n2017-11-01  344180400  \n2017-12-01  155492200  \n2018-01-01  118705900  \n2018-02-01  100262800  \n...               ...  \n2023-08-01  150684200  \n2023-09-01  148829200  \n2023-10-01  116384700  \n2023-11-01  217872900  \n2023-12-01  109982200  \n\n[75 rows x 6 columns]",
      "text/html": "<div>\n<style scoped>\n    .dataframe tbody tr th:only-of-type {\n        vertical-align: middle;\n    }\n\n    .dataframe tbody tr th {\n        vertical-align: top;\n    }\n\n    .dataframe thead th {\n        text-align: right;\n    }\n</style>\n<table border=\"1\" class=\"dataframe\">\n  <thead>\n    <tr style=\"text-align: right;\">\n      <th></th>\n      <th>Open</th>\n      <th>High</th>\n      <th>Low</th>\n      <th>Close</th>\n      <th>Adj Close</th>\n      <th>Volume</th>\n    </tr>\n    <tr>\n      <th>Date</th>\n      <th></th>\n      <th></th>\n      <th></th>\n      <th></th>\n      <th></th>\n      <th></th>\n    </tr>\n  </thead>\n  <tbody>\n    <tr>\n      <th>2017-10-01</th>\n      <td>25.200001</td>\n      <td>26.280001</td>\n      <td>18.350000</td>\n      <td>20.379999</td>\n      <td>20.379999</td>\n      <td>103623700</td>\n    </tr>\n    <tr>\n      <th>2017-11-01</th>\n      <td>20.440001</td>\n      <td>51.799999</td>\n      <td>18.561001</td>\n      <td>43.900002</td>\n      <td>43.900002</td>\n      <td>344180400</td>\n    </tr>\n    <tr>\n      <th>2017-12-01</th>\n      <td>43.740002</td>\n      <td>58.799999</td>\n      <td>37.810001</td>\n      <td>51.779999</td>\n      <td>51.779999</td>\n      <td>155492200</td>\n    </tr>\n    <tr>\n      <th>2018-01-01</th>\n      <td>52.639999</td>\n      <td>57.416000</td>\n      <td>39.099998</td>\n      <td>40.619999</td>\n      <td>40.619999</td>\n      <td>118705900</td>\n    </tr>\n    <tr>\n      <th>2018-02-01</th>\n      <td>40.349998</td>\n      <td>52.700001</td>\n      <td>39.009998</td>\n      <td>40.770000</td>\n      <td>40.770000</td>\n      <td>100262800</td>\n    </tr>\n    <tr>\n      <th>...</th>\n      <td>...</td>\n      <td>...</td>\n      <td>...</td>\n      <td>...</td>\n      <td>...</td>\n      <td>...</td>\n    </tr>\n    <tr>\n      <th>2023-08-01</th>\n      <td>95.510002</td>\n      <td>98.440002</td>\n      <td>75.120003</td>\n      <td>81.199997</td>\n      <td>81.199997</td>\n      <td>150684200</td>\n    </tr>\n    <tr>\n      <th>2023-09-01</th>\n      <td>81.830002</td>\n      <td>95.839996</td>\n      <td>66.660004</td>\n      <td>70.589996</td>\n      <td>70.589996</td>\n      <td>148829200</td>\n    </tr>\n    <tr>\n      <th>2023-10-01</th>\n      <td>70.209999</td>\n      <td>75.449997</td>\n      <td>55.020000</td>\n      <td>59.570000</td>\n      <td>59.570000</td>\n      <td>116384700</td>\n    </tr>\n    <tr>\n      <th>2023-11-01</th>\n      <td>59.139999</td>\n      <td>108.398003</td>\n      <td>57.320000</td>\n      <td>104.199997</td>\n      <td>104.199997</td>\n      <td>217872900</td>\n    </tr>\n    <tr>\n      <th>2023-12-01</th>\n      <td>103.589996</td>\n      <td>108.839996</td>\n      <td>88.711998</td>\n      <td>91.660004</td>\n      <td>91.660004</td>\n      <td>109982200</td>\n    </tr>\n  </tbody>\n</table>\n<p>75 rows × 6 columns</p>\n</div>"
     },
     "execution_count": 8,
     "metadata": {},
     "output_type": "execute_result"
    }
   ],
   "source": [
    "#data = yf.download(\"MSFT\", period=\"1mo\") # start=\"2022-01-01\", end=None\n",
    "data = yf.download(\"ROKU\", start=\"1999-01-01\", end='2024-01-01', interval=\"1mo\")\n",
    "data"
   ],
   "metadata": {
    "collapsed": false,
    "ExecuteTime": {
     "end_time": "2024-07-28T12:37:00.297829Z",
     "start_time": "2024-07-28T12:36:59.827684Z"
    }
   },
   "id": "c28d44b9421e66cd"
  },
  {
   "cell_type": "code",
   "execution_count": 55,
   "outputs": [
    {
     "data": {
      "text/plain": "Date\n2017-11-01    2.15\n2017-12-01    1.18\n2018-01-01    0.78\n2018-02-01    1.00\n2018-03-01    0.76\n              ... \n2023-08-01    0.84\n2023-09-01    0.87\n2023-10-01    0.84\n2023-11-01    1.75\n2023-12-01    0.88\nName: Monthly Return, Length: 74, dtype: float64"
     },
     "execution_count": 55,
     "metadata": {},
     "output_type": "execute_result"
    }
   ],
   "source": [
    "data['Monthly Return'] = 1 + data['Adj Close'].pct_change()\n",
    "data_dropped = data.round(2).dropna()\n",
    "data_dropped"
   ],
   "metadata": {
    "collapsed": false,
    "ExecuteTime": {
     "end_time": "2024-07-28T13:51:28.729471Z",
     "start_time": "2024-07-28T13:51:28.699628Z"
    }
   },
   "id": "1e8556893ac5b6f1"
  },
  {
   "cell_type": "code",
   "execution_count": 65,
   "outputs": [
    {
     "data": {
      "text/plain": "[2.15,\n 1.18,\n 0.78,\n 1.0,\n 0.76,\n 1.05,\n 1.15,\n 1.14,\n 1.07,\n 1.31,\n 1.23,\n 0.76,\n 0.73,\n 0.75,\n 1.47,\n 1.47,\n 0.97,\n 0.99,\n 1.42,\n 1.0,\n 1.14,\n 1.46,\n 0.67,\n 1.45,\n 1.09,\n 0.83,\n 0.9,\n 0.94,\n 0.77,\n 1.39,\n 0.9,\n 1.06,\n 1.33,\n 1.12,\n 1.09,\n 1.07,\n 1.45,\n 1.13,\n 1.17,\n 1.02,\n 0.82,\n 1.05,\n 1.01,\n 1.32,\n 0.93,\n 0.82,\n 0.89,\n 0.97,\n 0.75,\n 1.0,\n 0.72,\n 0.85,\n 0.9,\n 0.74,\n 1.02,\n 0.87,\n 0.8,\n 1.04,\n 0.83,\n 0.98,\n 1.07,\n 0.69,\n 1.41,\n 1.13,\n 1.02,\n 0.85,\n 1.04,\n 1.1,\n 1.51,\n 0.84,\n 0.87,\n 0.84,\n 1.75,\n 0.88]"
     },
     "execution_count": 65,
     "metadata": {},
     "output_type": "execute_result"
    }
   ],
   "source": [
    "data_dropped.to_list()"
   ],
   "metadata": {
    "collapsed": false,
    "ExecuteTime": {
     "end_time": "2024-07-28T13:53:39.217517Z",
     "start_time": "2024-07-28T13:53:39.203220Z"
    }
   },
   "id": "847298e62c2e86ea"
  },
  {
   "cell_type": "code",
   "execution_count": 66,
   "outputs": [
    {
     "data": {
      "text/plain": "88.47005754723118"
     },
     "execution_count": 66,
     "metadata": {},
     "output_type": "execute_result"
    }
   ],
   "source": [
    "current_price = 20.379999\n",
    "for factor in data_dropped.to_list():\n",
    "    current_price *= factor\n",
    "current_price"
   ],
   "metadata": {
    "collapsed": false,
    "ExecuteTime": {
     "end_time": "2024-07-28T13:53:49.850781Z",
     "start_time": "2024-07-28T13:53:49.839476Z"
    }
   },
   "id": "c0071db831ad3712"
  },
  {
   "cell_type": "code",
   "execution_count": 30,
   "outputs": [],
   "source": [
    "decimal_returns = data['Monthly Return'].notna().to_list()"
   ],
   "metadata": {
    "collapsed": false,
    "ExecuteTime": {
     "end_time": "2024-07-28T13:21:25.122594Z",
     "start_time": "2024-07-28T13:21:25.105174Z"
    }
   },
   "id": "6d9b3e9af6197f2e"
  },
  {
   "cell_type": "code",
   "execution_count": 49,
   "outputs": [
    {
     "data": {
      "text/plain": "5.000637410490707"
     },
     "execution_count": 49,
     "metadata": {},
     "output_type": "execute_result"
    }
   ],
   "source": [
    "arithmetic_mean = np.mean(data['Monthly Return'])\n",
    "arithmetic_mean"
   ],
   "metadata": {
    "collapsed": false,
    "ExecuteTime": {
     "end_time": "2024-07-28T13:30:45.863528Z",
     "start_time": "2024-07-28T13:30:45.855888Z"
    }
   },
   "id": "ac86f2f4d37d644e"
  },
  {
   "cell_type": "code",
   "execution_count": 34,
   "outputs": [
    {
     "data": {
      "text/plain": "-1.0"
     },
     "execution_count": 34,
     "metadata": {},
     "output_type": "execute_result"
    }
   ],
   "source": [
    "geometric_mean = np.prod([1 + r for r in decimal_returns]) ** (1/len(decimal_returns)) - 1\n",
    "geometric_mean"
   ],
   "metadata": {
    "collapsed": false,
    "ExecuteTime": {
     "end_time": "2024-07-28T13:24:01.272682Z",
     "start_time": "2024-07-28T13:24:01.259252Z"
    }
   },
   "id": "10ef7ef93cc756a4"
  },
  {
   "cell_type": "code",
   "execution_count": 73,
   "outputs": [
    {
     "data": {
      "text/plain": "['ROKU', 'MSFT']"
     },
     "execution_count": 73,
     "metadata": {},
     "output_type": "execute_result"
    }
   ],
   "source": [
    "pd.Series(['ROKU', 'MSFT']).tolist()"
   ],
   "metadata": {
    "collapsed": false,
    "ExecuteTime": {
     "end_time": "2024-07-28T23:21:02.829964Z",
     "start_time": "2024-07-28T23:21:02.822216Z"
    }
   },
   "id": "1be18433d61f813d"
  },
  {
   "cell_type": "code",
   "execution_count": 82,
   "outputs": [
    {
     "name": "stdout",
     "output_type": "stream",
     "text": [
      "Downloading data for tickers: ['ROKU', 'MSFT']\n",
      "Pausing to avoid overloading the API...\n"
     ]
    },
    {
     "data": {
      "text/plain": "                 ROKU        MSFT\nDate                             \n1999-08-01        NaN   28.588154\n1999-09-01        NaN   27.970472\n1999-10-01        NaN   28.588154\n1999-11-01        NaN   28.120068\n1999-12-01        NaN   36.058556\n...               ...         ...\n2024-03-01  65.169998  419.962494\n2024-04-01  57.660000  388.628998\n2024-05-01  57.400002  414.382568\n2024-06-01  59.930000  446.950012\n2024-07-01  59.040001  425.269989\n\n[300 rows x 2 columns]",
      "text/html": "<div>\n<style scoped>\n    .dataframe tbody tr th:only-of-type {\n        vertical-align: middle;\n    }\n\n    .dataframe tbody tr th {\n        vertical-align: top;\n    }\n\n    .dataframe thead th {\n        text-align: right;\n    }\n</style>\n<table border=\"1\" class=\"dataframe\">\n  <thead>\n    <tr style=\"text-align: right;\">\n      <th></th>\n      <th>ROKU</th>\n      <th>MSFT</th>\n    </tr>\n    <tr>\n      <th>Date</th>\n      <th></th>\n      <th></th>\n    </tr>\n  </thead>\n  <tbody>\n    <tr>\n      <th>1999-08-01</th>\n      <td>NaN</td>\n      <td>28.588154</td>\n    </tr>\n    <tr>\n      <th>1999-09-01</th>\n      <td>NaN</td>\n      <td>27.970472</td>\n    </tr>\n    <tr>\n      <th>1999-10-01</th>\n      <td>NaN</td>\n      <td>28.588154</td>\n    </tr>\n    <tr>\n      <th>1999-11-01</th>\n      <td>NaN</td>\n      <td>28.120068</td>\n    </tr>\n    <tr>\n      <th>1999-12-01</th>\n      <td>NaN</td>\n      <td>36.058556</td>\n    </tr>\n    <tr>\n      <th>...</th>\n      <td>...</td>\n      <td>...</td>\n    </tr>\n    <tr>\n      <th>2024-03-01</th>\n      <td>65.169998</td>\n      <td>419.962494</td>\n    </tr>\n    <tr>\n      <th>2024-04-01</th>\n      <td>57.660000</td>\n      <td>388.628998</td>\n    </tr>\n    <tr>\n      <th>2024-05-01</th>\n      <td>57.400002</td>\n      <td>414.382568</td>\n    </tr>\n    <tr>\n      <th>2024-06-01</th>\n      <td>59.930000</td>\n      <td>446.950012</td>\n    </tr>\n    <tr>\n      <th>2024-07-01</th>\n      <td>59.040001</td>\n      <td>425.269989</td>\n    </tr>\n  </tbody>\n</table>\n<p>300 rows × 2 columns</p>\n</div>"
     },
     "execution_count": 82,
     "metadata": {},
     "output_type": "execute_result"
    }
   ],
   "source": [
    "df_monthly_returns = data_ticker_service.get_returns_in_chunks(['ROKU', 'MSFT'], '1999-08-01', '2024-08-01', interval='1mo', chunk_size=2, sleep_duration=5)\n",
    "df_monthly_returns"
   ],
   "metadata": {
    "collapsed": false,
    "ExecuteTime": {
     "end_time": "2024-07-28T23:51:41.572054Z",
     "start_time": "2024-07-28T23:51:36.268572Z"
    }
   },
   "id": "d6d3bc89d5fd8220"
  },
  {
   "cell_type": "code",
   "execution_count": 77,
   "outputs": [
    {
     "ename": "NameError",
     "evalue": "name 'df_monthly_returns' is not defined",
     "output_type": "error",
     "traceback": [
      "\u001B[0;31m---------------------------------------------------------------------------\u001B[0m",
      "\u001B[0;31mNameError\u001B[0m                                 Traceback (most recent call last)",
      "Cell \u001B[0;32mIn[77], line 1\u001B[0m\n\u001B[0;32m----> 1\u001B[0m \u001B[43mdf_monthly_returns\u001B[49m\n",
      "\u001B[0;31mNameError\u001B[0m: name 'df_monthly_returns' is not defined"
     ]
    }
   ],
   "source": [
    "df_monthly_returns"
   ],
   "metadata": {
    "collapsed": false,
    "ExecuteTime": {
     "end_time": "2024-07-28T23:29:32.372664Z",
     "start_time": "2024-07-28T23:29:32.346101Z"
    }
   },
   "id": "d4912c37bcd14f13"
  },
  {
   "cell_type": "code",
   "execution_count": null,
   "outputs": [],
   "source": [],
   "metadata": {
    "collapsed": false
   },
   "id": "bf34a1f5364f9200"
  }
 ],
 "metadata": {
  "kernelspec": {
   "display_name": "Python 3",
   "language": "python",
   "name": "python3"
  },
  "language_info": {
   "codemirror_mode": {
    "name": "ipython",
    "version": 2
   },
   "file_extension": ".py",
   "mimetype": "text/x-python",
   "name": "python",
   "nbconvert_exporter": "python",
   "pygments_lexer": "ipython2",
   "version": "2.7.6"
  }
 },
 "nbformat": 4,
 "nbformat_minor": 5
}
