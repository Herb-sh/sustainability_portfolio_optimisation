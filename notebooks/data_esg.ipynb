{
 "cells": [
  {
   "cell_type": "code",
   "execution_count": 11,
   "outputs": [
    {
     "data": {
      "text/plain": "<module 'utilities.esg_service' from '/Users/herbishtini/Documents/UNI/Master Thesis/sustainability_portfolio_optimisation/utilities/esg_service.py'>"
     },
     "execution_count": 11,
     "metadata": {},
     "output_type": "execute_result"
    }
   ],
   "source": [
    "import importlib\n",
    "import utilities.parser as parser\n",
    "import utilities.data_esg_service as data_esg_service\n",
    "importlib.reload(parser)\n",
    "importlib.reload(data_esg_service)"
   ],
   "metadata": {
    "collapsed": false,
    "ExecuteTime": {
     "end_time": "2024-07-13T22:39:38.732392Z",
     "start_time": "2024-07-13T22:39:38.718907Z"
    }
   },
   "id": "cb569a9158369471"
  },
  {
   "cell_type": "markdown",
   "source": [
    "### Generate ESG file"
   ],
   "metadata": {
    "collapsed": false
   },
   "id": "a2b35b7b77c6ffe5"
  },
  {
   "cell_type": "markdown",
   "source": [
    "The following code utilizes the Sustainalytics API to fetch data for each industry. Specifically, it retrieves all \n",
    "items that have an ESG (Environmental, Social, and Governance) risk rating of either 'Negligible ESG Risk' or 'Low ESG Risk'. \n",
    "The results from these queries are then merged together and stored in a CSV file named data_esg_raw.csv."
   ],
   "metadata": {
    "collapsed": false
   },
   "id": "c6e73b4edb531c02"
  },
  {
   "cell_type": "code",
   "execution_count": 12,
   "id": "initial_id",
   "metadata": {
    "collapsed": true,
    "ExecuteTime": {
     "end_time": "2024-07-13T22:40:25.102011Z",
     "start_time": "2024-07-13T22:39:38.734675Z"
    }
   },
   "outputs": [
    {
     "name": "stdout",
     "output_type": "stream",
     "text": [
      "Request was successful for Aerospace & Defense and Negligible ESG Risk!\n",
      "Request was successful for Aerospace & Defense and Low ESG Risk!\n",
      "----------------------------------------------------------------------\n",
      "Request was successful for Auto Components and Negligible ESG Risk!\n",
      "Request was successful for Auto Components and Low ESG Risk!\n",
      "----------------------------------------------------------------------\n",
      "Request was successful for Automobiles and Negligible ESG Risk!\n",
      "Request was successful for Automobiles and Low ESG Risk!\n",
      "----------------------------------------------------------------------\n",
      "Request was successful for Banks and Negligible ESG Risk!\n",
      "Request was successful for Banks and Low ESG Risk!\n",
      "----------------------------------------------------------------------\n",
      "Request was successful for Building Products and Negligible ESG Risk!\n",
      "Request was successful for Building Products and Low ESG Risk!\n",
      "----------------------------------------------------------------------\n",
      "Request was successful for Chemicals and Negligible ESG Risk!\n",
      "Request was successful for Chemicals and Low ESG Risk!\n",
      "----------------------------------------------------------------------\n",
      "Request was successful for Commercial Services and Negligible ESG Risk!\n",
      "Request was successful for Commercial Services and Low ESG Risk!\n",
      "----------------------------------------------------------------------\n",
      "Request was successful for Construction & Engineering and Negligible ESG Risk!\n",
      "Request was successful for Construction & Engineering and Low ESG Risk!\n",
      "----------------------------------------------------------------------\n",
      "Request was successful for Construction Materials and Negligible ESG Risk!\n",
      "Request was successful for Construction Materials and Low ESG Risk!\n",
      "----------------------------------------------------------------------\n",
      "Request was successful for Consumer Durables and Negligible ESG Risk!\n",
      "Request was successful for Consumer Durables and Low ESG Risk!\n",
      "----------------------------------------------------------------------\n",
      "Request was successful for Consumer Services and Negligible ESG Risk!\n",
      "Request was successful for Consumer Services and Low ESG Risk!\n",
      "----------------------------------------------------------------------\n",
      "Request was successful for Containers & Packaging and Negligible ESG Risk!\n",
      "Request was successful for Containers & Packaging and Low ESG Risk!\n",
      "----------------------------------------------------------------------\n",
      "Request was successful for Diversified Financials and Negligible ESG Risk!\n",
      "Request was successful for Diversified Financials and Low ESG Risk!\n",
      "----------------------------------------------------------------------\n",
      "Request was successful for Diversified Metals and Negligible ESG Risk!\n",
      "Request was successful for Diversified Metals and Low ESG Risk!\n",
      "----------------------------------------------------------------------\n",
      "Request was successful for Electrical Equipment and Negligible ESG Risk!\n",
      "Request was successful for Electrical Equipment and Low ESG Risk!\n",
      "----------------------------------------------------------------------\n",
      "Request was successful for Energy Services and Negligible ESG Risk!\n",
      "Request was successful for Energy Services and Low ESG Risk!\n",
      "----------------------------------------------------------------------\n",
      "Request was successful for Food Products and Negligible ESG Risk!\n",
      "Request was successful for Food Products and Low ESG Risk!\n",
      "----------------------------------------------------------------------\n",
      "Request was successful for Food Retailers and Negligible ESG Risk!\n",
      "Request was successful for Food Retailers and Low ESG Risk!\n",
      "----------------------------------------------------------------------\n",
      "Request was successful for Healthcare and Negligible ESG Risk!\n",
      "Request was successful for Healthcare and Low ESG Risk!\n",
      "----------------------------------------------------------------------\n",
      "Request was successful for Homebuilders and Negligible ESG Risk!\n",
      "Request was successful for Homebuilders and Low ESG Risk!\n",
      "----------------------------------------------------------------------\n",
      "Request was successful for Household Products and Negligible ESG Risk!\n",
      "Request was successful for Household Products and Low ESG Risk!\n",
      "----------------------------------------------------------------------\n",
      "Request was successful for Industrial Conglomerates and Negligible ESG Risk!\n",
      "Request was successful for Industrial Conglomerates and Low ESG Risk!\n",
      "----------------------------------------------------------------------\n",
      "Request was successful for Insurance and Negligible ESG Risk!\n",
      "Request was successful for Insurance and Low ESG Risk!\n",
      "----------------------------------------------------------------------\n",
      "Request was successful for Machinery and Negligible ESG Risk!\n",
      "Request was successful for Machinery and Low ESG Risk!\n",
      "----------------------------------------------------------------------\n",
      "Request was successful for Media and Negligible ESG Risk!\n",
      "Request was successful for Media and Low ESG Risk!\n",
      "----------------------------------------------------------------------\n",
      "Request was successful for Oil & Gas Producers and Negligible ESG Risk!\n",
      "Request was successful for Oil & Gas Producers and Low ESG Risk!\n",
      "----------------------------------------------------------------------\n",
      "Request was successful for Paper & Forestry and Negligible ESG Risk!\n",
      "Request was successful for Paper & Forestry and Low ESG Risk!\n",
      "----------------------------------------------------------------------\n",
      "Request was successful for Pharmaceuticals and Negligible ESG Risk!\n",
      "Request was successful for Pharmaceuticals and Low ESG Risk!\n",
      "----------------------------------------------------------------------\n",
      "Request was successful for Precious Metals and Negligible ESG Risk!\n",
      "Request was successful for Precious Metals and Low ESG Risk!\n",
      "----------------------------------------------------------------------\n",
      "Request was successful for Real Estate and Negligible ESG Risk!\n",
      "Request was successful for Real Estate and Low ESG Risk!\n",
      "----------------------------------------------------------------------\n",
      "Request was successful for Refiners & Pipelines and Negligible ESG Risk!\n",
      "Request was successful for Refiners & Pipelines and Low ESG Risk!\n",
      "----------------------------------------------------------------------\n",
      "Request was successful for Retailing and Negligible ESG Risk!\n",
      "Request was successful for Retailing and Low ESG Risk!\n",
      "----------------------------------------------------------------------\n",
      "Request was successful for Semiconductors and Negligible ESG Risk!\n",
      "Request was successful for Semiconductors and Low ESG Risk!\n",
      "----------------------------------------------------------------------\n",
      "Request was successful for Software & Services and Negligible ESG Risk!\n",
      "Request was successful for Software & Services and Low ESG Risk!\n",
      "----------------------------------------------------------------------\n",
      "Request was successful for Steel and Negligible ESG Risk!\n",
      "Request was successful for Steel and Low ESG Risk!\n",
      "----------------------------------------------------------------------\n",
      "Request was successful for Technology Hardware and Negligible ESG Risk!\n",
      "Request was successful for Technology Hardware and Low ESG Risk!\n",
      "----------------------------------------------------------------------\n",
      "Request was successful for Telecommunication Services and Negligible ESG Risk!\n",
      "Request was successful for Telecommunication Services and Low ESG Risk!\n",
      "----------------------------------------------------------------------\n",
      "Request was successful for Textiles & Apparel and Negligible ESG Risk!\n",
      "Request was successful for Textiles & Apparel and Low ESG Risk!\n",
      "----------------------------------------------------------------------\n",
      "Request was successful for Traders & Distributors and Negligible ESG Risk!\n",
      "Request was successful for Traders & Distributors and Low ESG Risk!\n",
      "----------------------------------------------------------------------\n",
      "Request was successful for Transportation and Negligible ESG Risk!\n",
      "Request was successful for Transportation and Low ESG Risk!\n",
      "----------------------------------------------------------------------\n",
      "Request was successful for Transportation Infrastructure and Negligible ESG Risk!\n",
      "Request was successful for Transportation Infrastructure and Low ESG Risk!\n",
      "----------------------------------------------------------------------\n",
      "Request was successful for Utilities and Negligible ESG Risk!\n",
      "Request was successful for Utilities and Low ESG Risk!\n",
      "----------------------------------------------------------------------\n"
     ]
    }
   ],
   "source": [
    "data_esg_service.generate_esg_file()"
   ]
  },
  {
   "cell_type": "code",
   "execution_count": 12,
   "outputs": [],
   "source": [],
   "metadata": {
    "collapsed": false,
    "ExecuteTime": {
     "end_time": "2024-07-13T22:40:25.104779Z",
     "start_time": "2024-07-13T22:40:25.102219Z"
    }
   },
   "id": "8dfddbe85f441a92"
  }
 ],
 "metadata": {
  "kernelspec": {
   "display_name": "Python 3",
   "language": "python",
   "name": "python3"
  },
  "language_info": {
   "codemirror_mode": {
    "name": "ipython",
    "version": 2
   },
   "file_extension": ".py",
   "mimetype": "text/x-python",
   "name": "python",
   "nbconvert_exporter": "python",
   "pygments_lexer": "ipython2",
   "version": "2.7.6"
  }
 },
 "nbformat": 4,
 "nbformat_minor": 5
}
