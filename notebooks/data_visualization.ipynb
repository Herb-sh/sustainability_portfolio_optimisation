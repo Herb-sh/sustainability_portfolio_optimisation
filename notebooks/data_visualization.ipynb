{
 "cells": [
  {
   "cell_type": "code",
   "execution_count": 3,
   "outputs": [],
   "source": [
    "import pandas as pd\n",
    "import numpy as np"
   ],
   "metadata": {
    "collapsed": false,
    "ExecuteTime": {
     "end_time": "2024-08-03T21:00:19.709654Z",
     "start_time": "2024-08-03T21:00:19.679709Z"
    }
   },
   "id": "9712429fdb395cca"
  },
  {
   "cell_type": "code",
   "execution_count": 14,
   "id": "initial_id",
   "metadata": {
    "collapsed": true,
    "ExecuteTime": {
     "end_time": "2024-08-03T22:02:04.193351Z",
     "start_time": "2024-08-03T22:02:04.118280Z"
    }
   },
   "outputs": [],
   "source": [
    "df = pd.read_csv('../data/10_monthly_returns_complete.csv')\n",
    "df_close = pd.read_csv('../data/10_monthly_adjacent_close.csv')\n",
    "df_overview = pd.read_csv('../data/data_10_overview.csv')"
   ]
  },
  {
   "cell_type": "code",
   "execution_count": null,
   "outputs": [],
   "source": [],
   "metadata": {
    "collapsed": false
   },
   "id": "e326edf06a9be93d"
  }
 ],
 "metadata": {
  "kernelspec": {
   "display_name": "Python 3",
   "language": "python",
   "name": "python3"
  },
  "language_info": {
   "codemirror_mode": {
    "name": "ipython",
    "version": 2
   },
   "file_extension": ".py",
   "mimetype": "text/x-python",
   "name": "python",
   "nbconvert_exporter": "python",
   "pygments_lexer": "ipython2",
   "version": "2.7.6"
  }
 },
 "nbformat": 4,
 "nbformat_minor": 5
}
