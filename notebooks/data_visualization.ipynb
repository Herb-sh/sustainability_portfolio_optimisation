{
 "cells": [
  {
   "cell_type": "code",
   "execution_count": 1,
   "outputs": [],
   "source": [
    "import pandas as pd"
   ],
   "metadata": {
    "collapsed": false,
    "ExecuteTime": {
     "end_time": "2024-07-24T23:25:27.014318Z",
     "start_time": "2024-07-24T23:25:26.346937Z"
    }
   },
   "id": "9712429fdb395cca"
  },
  {
   "cell_type": "code",
   "execution_count": 2,
   "id": "initial_id",
   "metadata": {
    "collapsed": true,
    "ExecuteTime": {
     "end_time": "2024-07-24T23:25:27.039539Z",
     "start_time": "2024-07-24T23:25:27.014864Z"
    }
   },
   "outputs": [],
   "source": [
    "df = pd.read_csv('../data/10_monthly_returns_complete.csv')"
   ]
  },
  {
   "cell_type": "code",
   "execution_count": 5,
   "outputs": [
    {
     "data": {
      "text/plain": "           Date    KE    SCS    HNI    AVT   ACCO  KEYS   CBRE    BRC   PGRE  \\\n1    1999-09-01   NaN  -5.91 -17.98  -5.08    NaN   NaN    NaN   6.67    NaN   \n2    1999-10-01   NaN  -8.70   1.95  30.36    NaN   NaN    NaN  -9.37    NaN   \n3    1999-11-01   NaN   2.97  10.19   0.69    NaN   NaN    NaN   6.39    NaN   \n4    1999-12-01   NaN  -7.69   1.90  10.13    NaN   NaN    NaN  10.59    NaN   \n5    2000-01-01   NaN  -4.27 -12.25 -11.03    NaN   NaN    NaN -16.21    NaN   \n..          ...   ...    ...    ...    ...    ...   ...    ...    ...    ...   \n295  2024-03-01 -3.82  -4.80   1.48   6.42   0.54  1.35   5.82   1.72   5.87   \n296  2024-04-01 -3.33  -8.03  -7.05  -0.79 -12.87 -5.40 -10.64  -0.47  -0.28   \n297  2024-05-01  9.51  14.43  12.16  11.72   5.60 -6.39   1.36  16.17  -1.94   \n298  2024-06-01 -4.10  -5.12  -3.60  -5.70  -6.29 -1.25   1.18  -3.30   1.76   \n299  2024-07-01  8.01   8.80  11.53   3.72   5.11  1.77  11.28   7.44  15.79   \n\n     ...   ENPH    RUN    SUP   MATX   KIDS   HALO   MATW   KVHI    NEO    UNP  \n1    ...    NaN    NaN   0.00  -0.43    NaN    NaN  11.06  -2.56    NaN  -1.28  \n2    ...    NaN    NaN  -4.69   0.52    NaN    NaN -16.60  28.95    NaN  16.47  \n3    ...    NaN    NaN   0.78  -5.21    NaN    NaN  -7.29  -1.02    NaN -15.58  \n4    ...    NaN    NaN   0.00   1.25    NaN    NaN  18.28   1.03    NaN  -7.17  \n5    ...    NaN    NaN   0.47 -11.51    NaN    NaN -15.45  22.45    NaN  -7.47  \n..   ...    ...    ...    ...    ...    ...    ...    ...    ...    ...    ...  \n295  ...  -4.75   9.47 -18.31   1.50   6.19   2.19   8.17   7.37   0.77  -2.56  \n296  ... -10.10 -21.93  28.97  -4.11   1.61  -6.34 -13.19  -5.88 -11.45  -3.57  \n297  ...  17.60  40.52  -5.61  18.95   6.58  16.25   5.00   7.92  -1.51  -1.83  \n298  ... -22.04 -17.98  -7.93   2.45  -8.93  18.22 -10.79 -10.23   1.17  -2.26  \n299  ...   3.94  45.62   7.08  -1.64  17.07   5.81  11.62   0.86   7.64   5.85  \n\n[299 rows x 958 columns]",
      "text/html": "<div>\n<style scoped>\n    .dataframe tbody tr th:only-of-type {\n        vertical-align: middle;\n    }\n\n    .dataframe tbody tr th {\n        vertical-align: top;\n    }\n\n    .dataframe thead th {\n        text-align: right;\n    }\n</style>\n<table border=\"1\" class=\"dataframe\">\n  <thead>\n    <tr style=\"text-align: right;\">\n      <th></th>\n      <th>Date</th>\n      <th>KE</th>\n      <th>SCS</th>\n      <th>HNI</th>\n      <th>AVT</th>\n      <th>ACCO</th>\n      <th>KEYS</th>\n      <th>CBRE</th>\n      <th>BRC</th>\n      <th>PGRE</th>\n      <th>...</th>\n      <th>ENPH</th>\n      <th>RUN</th>\n      <th>SUP</th>\n      <th>MATX</th>\n      <th>KIDS</th>\n      <th>HALO</th>\n      <th>MATW</th>\n      <th>KVHI</th>\n      <th>NEO</th>\n      <th>UNP</th>\n    </tr>\n  </thead>\n  <tbody>\n    <tr>\n      <th>1</th>\n      <td>1999-09-01</td>\n      <td>NaN</td>\n      <td>-5.91</td>\n      <td>-17.98</td>\n      <td>-5.08</td>\n      <td>NaN</td>\n      <td>NaN</td>\n      <td>NaN</td>\n      <td>6.67</td>\n      <td>NaN</td>\n      <td>...</td>\n      <td>NaN</td>\n      <td>NaN</td>\n      <td>0.00</td>\n      <td>-0.43</td>\n      <td>NaN</td>\n      <td>NaN</td>\n      <td>11.06</td>\n      <td>-2.56</td>\n      <td>NaN</td>\n      <td>-1.28</td>\n    </tr>\n    <tr>\n      <th>2</th>\n      <td>1999-10-01</td>\n      <td>NaN</td>\n      <td>-8.70</td>\n      <td>1.95</td>\n      <td>30.36</td>\n      <td>NaN</td>\n      <td>NaN</td>\n      <td>NaN</td>\n      <td>-9.37</td>\n      <td>NaN</td>\n      <td>...</td>\n      <td>NaN</td>\n      <td>NaN</td>\n      <td>-4.69</td>\n      <td>0.52</td>\n      <td>NaN</td>\n      <td>NaN</td>\n      <td>-16.60</td>\n      <td>28.95</td>\n      <td>NaN</td>\n      <td>16.47</td>\n    </tr>\n    <tr>\n      <th>3</th>\n      <td>1999-11-01</td>\n      <td>NaN</td>\n      <td>2.97</td>\n      <td>10.19</td>\n      <td>0.69</td>\n      <td>NaN</td>\n      <td>NaN</td>\n      <td>NaN</td>\n      <td>6.39</td>\n      <td>NaN</td>\n      <td>...</td>\n      <td>NaN</td>\n      <td>NaN</td>\n      <td>0.78</td>\n      <td>-5.21</td>\n      <td>NaN</td>\n      <td>NaN</td>\n      <td>-7.29</td>\n      <td>-1.02</td>\n      <td>NaN</td>\n      <td>-15.58</td>\n    </tr>\n    <tr>\n      <th>4</th>\n      <td>1999-12-01</td>\n      <td>NaN</td>\n      <td>-7.69</td>\n      <td>1.90</td>\n      <td>10.13</td>\n      <td>NaN</td>\n      <td>NaN</td>\n      <td>NaN</td>\n      <td>10.59</td>\n      <td>NaN</td>\n      <td>...</td>\n      <td>NaN</td>\n      <td>NaN</td>\n      <td>0.00</td>\n      <td>1.25</td>\n      <td>NaN</td>\n      <td>NaN</td>\n      <td>18.28</td>\n      <td>1.03</td>\n      <td>NaN</td>\n      <td>-7.17</td>\n    </tr>\n    <tr>\n      <th>5</th>\n      <td>2000-01-01</td>\n      <td>NaN</td>\n      <td>-4.27</td>\n      <td>-12.25</td>\n      <td>-11.03</td>\n      <td>NaN</td>\n      <td>NaN</td>\n      <td>NaN</td>\n      <td>-16.21</td>\n      <td>NaN</td>\n      <td>...</td>\n      <td>NaN</td>\n      <td>NaN</td>\n      <td>0.47</td>\n      <td>-11.51</td>\n      <td>NaN</td>\n      <td>NaN</td>\n      <td>-15.45</td>\n      <td>22.45</td>\n      <td>NaN</td>\n      <td>-7.47</td>\n    </tr>\n    <tr>\n      <th>...</th>\n      <td>...</td>\n      <td>...</td>\n      <td>...</td>\n      <td>...</td>\n      <td>...</td>\n      <td>...</td>\n      <td>...</td>\n      <td>...</td>\n      <td>...</td>\n      <td>...</td>\n      <td>...</td>\n      <td>...</td>\n      <td>...</td>\n      <td>...</td>\n      <td>...</td>\n      <td>...</td>\n      <td>...</td>\n      <td>...</td>\n      <td>...</td>\n      <td>...</td>\n      <td>...</td>\n    </tr>\n    <tr>\n      <th>295</th>\n      <td>2024-03-01</td>\n      <td>-3.82</td>\n      <td>-4.80</td>\n      <td>1.48</td>\n      <td>6.42</td>\n      <td>0.54</td>\n      <td>1.35</td>\n      <td>5.82</td>\n      <td>1.72</td>\n      <td>5.87</td>\n      <td>...</td>\n      <td>-4.75</td>\n      <td>9.47</td>\n      <td>-18.31</td>\n      <td>1.50</td>\n      <td>6.19</td>\n      <td>2.19</td>\n      <td>8.17</td>\n      <td>7.37</td>\n      <td>0.77</td>\n      <td>-2.56</td>\n    </tr>\n    <tr>\n      <th>296</th>\n      <td>2024-04-01</td>\n      <td>-3.33</td>\n      <td>-8.03</td>\n      <td>-7.05</td>\n      <td>-0.79</td>\n      <td>-12.87</td>\n      <td>-5.40</td>\n      <td>-10.64</td>\n      <td>-0.47</td>\n      <td>-0.28</td>\n      <td>...</td>\n      <td>-10.10</td>\n      <td>-21.93</td>\n      <td>28.97</td>\n      <td>-4.11</td>\n      <td>1.61</td>\n      <td>-6.34</td>\n      <td>-13.19</td>\n      <td>-5.88</td>\n      <td>-11.45</td>\n      <td>-3.57</td>\n    </tr>\n    <tr>\n      <th>297</th>\n      <td>2024-05-01</td>\n      <td>9.51</td>\n      <td>14.43</td>\n      <td>12.16</td>\n      <td>11.72</td>\n      <td>5.60</td>\n      <td>-6.39</td>\n      <td>1.36</td>\n      <td>16.17</td>\n      <td>-1.94</td>\n      <td>...</td>\n      <td>17.60</td>\n      <td>40.52</td>\n      <td>-5.61</td>\n      <td>18.95</td>\n      <td>6.58</td>\n      <td>16.25</td>\n      <td>5.00</td>\n      <td>7.92</td>\n      <td>-1.51</td>\n      <td>-1.83</td>\n    </tr>\n    <tr>\n      <th>298</th>\n      <td>2024-06-01</td>\n      <td>-4.10</td>\n      <td>-5.12</td>\n      <td>-3.60</td>\n      <td>-5.70</td>\n      <td>-6.29</td>\n      <td>-1.25</td>\n      <td>1.18</td>\n      <td>-3.30</td>\n      <td>1.76</td>\n      <td>...</td>\n      <td>-22.04</td>\n      <td>-17.98</td>\n      <td>-7.93</td>\n      <td>2.45</td>\n      <td>-8.93</td>\n      <td>18.22</td>\n      <td>-10.79</td>\n      <td>-10.23</td>\n      <td>1.17</td>\n      <td>-2.26</td>\n    </tr>\n    <tr>\n      <th>299</th>\n      <td>2024-07-01</td>\n      <td>8.01</td>\n      <td>8.80</td>\n      <td>11.53</td>\n      <td>3.72</td>\n      <td>5.11</td>\n      <td>1.77</td>\n      <td>11.28</td>\n      <td>7.44</td>\n      <td>15.79</td>\n      <td>...</td>\n      <td>3.94</td>\n      <td>45.62</td>\n      <td>7.08</td>\n      <td>-1.64</td>\n      <td>17.07</td>\n      <td>5.81</td>\n      <td>11.62</td>\n      <td>0.86</td>\n      <td>7.64</td>\n      <td>5.85</td>\n    </tr>\n  </tbody>\n</table>\n<p>299 rows × 958 columns</p>\n</div>"
     },
     "execution_count": 5,
     "metadata": {},
     "output_type": "execute_result"
    }
   ],
   "source": [
    "df[1:]"
   ],
   "metadata": {
    "collapsed": false,
    "ExecuteTime": {
     "end_time": "2024-07-24T23:25:49.891962Z",
     "start_time": "2024-07-24T23:25:49.877957Z"
    }
   },
   "id": "adb5caf243eb4fcc"
  },
  {
   "cell_type": "code",
   "execution_count": null,
   "outputs": [],
   "source": [],
   "metadata": {
    "collapsed": false
   },
   "id": "8d68cd1d9462360a"
  }
 ],
 "metadata": {
  "kernelspec": {
   "display_name": "Python 3",
   "language": "python",
   "name": "python3"
  },
  "language_info": {
   "codemirror_mode": {
    "name": "ipython",
    "version": 2
   },
   "file_extension": ".py",
   "mimetype": "text/x-python",
   "name": "python",
   "nbconvert_exporter": "python",
   "pygments_lexer": "ipython2",
   "version": "2.7.6"
  }
 },
 "nbformat": 4,
 "nbformat_minor": 5
}
