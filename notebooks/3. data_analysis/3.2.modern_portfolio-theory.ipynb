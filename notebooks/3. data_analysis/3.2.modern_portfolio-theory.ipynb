{
 "cells": [
  {
   "cell_type": "code",
   "id": "588eaf47cb6c78b1",
   "metadata": {
    "ExecuteTime": {
     "end_time": "2025-01-27T18:23:19.463753Z",
     "start_time": "2025-01-27T18:23:19.344695Z"
    }
   },
   "source": [
    "import numpy as np\n",
    "import pandas as pd\n",
    "#\n",
    "from pypfopt import EfficientFrontier\n",
    "from pypfopt import risk_models\n",
    "from pypfopt import expected_returns\n",
    "from pypfopt.discrete_allocation import DiscreteAllocation, get_latest_prices\n",
    "#\n",
    "import plotly.graph_objects as go\n",
    "\n",
    "\n",
    "# Read in price data\n",
    "df = pd.read_csv('../../data/df_monthly_returns_complete.csv', index_col='Date')\n",
    "df = df[df.columns[0:200]]\n",
    "\n",
    "# Calculate expected returns and sample covariance\n",
    "mu_0 = expected_returns.mean_historical_return(df, frequency=12)\n",
    "\n",
    "# Get only tickers with a mean historical return of at least 5% \n",
    "optimal_tickers = mu_0[mu_0 > 0.05].index\n",
    "df_optimal = df[optimal_tickers]\n",
    "\n",
    "mu = expected_returns.mean_historical_return(df_optimal, frequency=12)\n",
    "S = risk_models.CovarianceShrinkage(df_optimal, frequency=12).ledoit_wolf() # risk_models.sample_cov, # Ledoit-Wolf shrinkage (df_optimal, frequency=12), # Exponential Covariance\n",
    "\n",
    "# Optimize for maximal Sharpe ratio\n",
    "ef = EfficientFrontier(mu, S)\n",
    "ef_new = EfficientFrontier(mu, S)\n",
    "\n",
    "raw_weights = ef.max_sharpe()\n",
    "cleaned_weights = ef.clean_weights()\n",
    "ef.save_weights_to_file(\"weights.csv\")  # saves to file\n",
    "#\n",
    "ef.portfolio_performance(verbose=True)"
   ],
   "outputs": [
    {
     "name": "stdout",
     "output_type": "stream",
     "text": [
      "Expected annual return: 16.2%\n",
      "Annual volatility: 11.7%\n",
      "Sharpe Ratio: 1.22\n"
     ]
    },
    {
     "data": {
      "text/plain": [
       "(0.16189289251795783, 0.1167161226170067, 1.215709443874917)"
      ]
     },
     "execution_count": 40,
     "metadata": {},
     "output_type": "execute_result"
    }
   ],
   "execution_count": 40
  },
  {
   "metadata": {
    "ExecuteTime": {
     "end_time": "2025-01-27T18:23:19.477196Z",
     "start_time": "2025-01-27T18:23:19.468862Z"
    }
   },
   "cell_type": "code",
   "source": "S",
   "id": "9a0e055ca95c0f18",
   "outputs": [
    {
     "data": {
      "text/plain": [
       "           RS1.L       HNI    VNA.DE      KEYS    SGRO.L      CBRE       BRC  \\\n",
       "RS1.L   0.082105  0.009164  0.005643  0.009874  0.010015  0.015225  0.011476   \n",
       "HNI     0.009164  0.133516  0.008332  0.005401  0.026115  0.050524  0.040937   \n",
       "VNA.DE  0.005643  0.008332  0.062092  0.003944  0.008712  0.017502  0.007605   \n",
       "KEYS    0.009874  0.005401  0.003944  0.062330  0.005879  0.007573  0.009518   \n",
       "SGRO.L  0.010015  0.026115  0.008712  0.005879  0.088666  0.025557  0.020360   \n",
       "...          ...       ...       ...       ...       ...       ...       ...   \n",
       "HPQ     0.015036  0.029881  0.011475  0.007151  0.019264  0.047579  0.029917   \n",
       "NSIT    0.009667  0.072677  0.005654  0.016366  0.042595  0.058594  0.062635   \n",
       "KMX     0.010899  0.056009  0.010769  0.014255  0.030079  0.051670  0.040216   \n",
       "OXIG.L  0.005441  0.021288  0.003006  0.004979  0.014499  0.035708  0.016207   \n",
       "CDNS    0.008562  0.024008  0.004789  0.011915  0.025011  0.039423  0.031948   \n",
       "\n",
       "           REL.L       BHE      PLXS  ...    SAP.DE      POOL       AZO  \\\n",
       "RS1.L   0.006469  0.010304  0.010412  ...  0.010118  0.009902  0.006112   \n",
       "HNI     0.005948  0.036834  0.044663  ...  0.019948  0.040877  0.019306   \n",
       "VNA.DE  0.004555  0.006397  0.004131  ...  0.005030  0.010688  0.001899   \n",
       "KEYS    0.002627  0.010555  0.010185  ...  0.006234  0.009160  0.005156   \n",
       "SGRO.L  0.011337  0.017786  0.020454  ...  0.015402  0.026055  0.009364   \n",
       "...          ...       ...       ...  ...       ...       ...       ...   \n",
       "HPQ     0.011562  0.046667  0.057541  ...  0.043700  0.021905  0.005433   \n",
       "NSIT    0.019916  0.072188  0.106610  ...  0.047124  0.043835  0.024916   \n",
       "KMX     0.008540  0.041462  0.052662  ...  0.030624  0.045806  0.031693   \n",
       "OXIG.L  0.015161  0.022468  0.044879  ...  0.017470  0.013741  0.003728   \n",
       "CDNS    0.022734  0.038423  0.058783  ...  0.045348  0.024536  0.012911   \n",
       "\n",
       "             LKQ    2154.T       HPQ      NSIT       KMX    OXIG.L      CDNS  \n",
       "RS1.L   0.010716  0.014472  0.015036  0.009667  0.010899  0.005441  0.008562  \n",
       "HNI     0.025180  0.027553  0.029881  0.072677  0.056009  0.021288  0.024008  \n",
       "VNA.DE  0.008859  0.021463  0.011475  0.005654  0.010769  0.003006  0.004789  \n",
       "KEYS    0.008573  0.004821  0.007151  0.016366  0.014255  0.004979  0.011915  \n",
       "SGRO.L  0.008266  0.021166  0.019264  0.042595  0.030079  0.014499  0.025011  \n",
       "...          ...       ...       ...       ...       ...       ...       ...  \n",
       "HPQ     0.027100  0.039698  0.126331  0.052254  0.035046  0.025768  0.037986  \n",
       "NSIT    0.027998  0.050889  0.052254  0.258228  0.073450  0.054900  0.061655  \n",
       "KMX     0.038179  0.036217  0.035046  0.073450  0.231448  0.021678  0.042532  \n",
       "OXIG.L  0.011700  0.015948  0.025768  0.054900  0.021678  0.169225  0.031133  \n",
       "CDNS    0.022826  0.019362  0.037986  0.061655  0.042532  0.031133  0.133328  \n",
       "\n",
       "[114 rows x 114 columns]"
      ],
      "text/html": [
       "<div>\n",
       "<style scoped>\n",
       "    .dataframe tbody tr th:only-of-type {\n",
       "        vertical-align: middle;\n",
       "    }\n",
       "\n",
       "    .dataframe tbody tr th {\n",
       "        vertical-align: top;\n",
       "    }\n",
       "\n",
       "    .dataframe thead th {\n",
       "        text-align: right;\n",
       "    }\n",
       "</style>\n",
       "<table border=\"1\" class=\"dataframe\">\n",
       "  <thead>\n",
       "    <tr style=\"text-align: right;\">\n",
       "      <th></th>\n",
       "      <th>RS1.L</th>\n",
       "      <th>HNI</th>\n",
       "      <th>VNA.DE</th>\n",
       "      <th>KEYS</th>\n",
       "      <th>SGRO.L</th>\n",
       "      <th>CBRE</th>\n",
       "      <th>BRC</th>\n",
       "      <th>REL.L</th>\n",
       "      <th>BHE</th>\n",
       "      <th>PLXS</th>\n",
       "      <th>...</th>\n",
       "      <th>SAP.DE</th>\n",
       "      <th>POOL</th>\n",
       "      <th>AZO</th>\n",
       "      <th>LKQ</th>\n",
       "      <th>2154.T</th>\n",
       "      <th>HPQ</th>\n",
       "      <th>NSIT</th>\n",
       "      <th>KMX</th>\n",
       "      <th>OXIG.L</th>\n",
       "      <th>CDNS</th>\n",
       "    </tr>\n",
       "  </thead>\n",
       "  <tbody>\n",
       "    <tr>\n",
       "      <th>RS1.L</th>\n",
       "      <td>0.082105</td>\n",
       "      <td>0.009164</td>\n",
       "      <td>0.005643</td>\n",
       "      <td>0.009874</td>\n",
       "      <td>0.010015</td>\n",
       "      <td>0.015225</td>\n",
       "      <td>0.011476</td>\n",
       "      <td>0.006469</td>\n",
       "      <td>0.010304</td>\n",
       "      <td>0.010412</td>\n",
       "      <td>...</td>\n",
       "      <td>0.010118</td>\n",
       "      <td>0.009902</td>\n",
       "      <td>0.006112</td>\n",
       "      <td>0.010716</td>\n",
       "      <td>0.014472</td>\n",
       "      <td>0.015036</td>\n",
       "      <td>0.009667</td>\n",
       "      <td>0.010899</td>\n",
       "      <td>0.005441</td>\n",
       "      <td>0.008562</td>\n",
       "    </tr>\n",
       "    <tr>\n",
       "      <th>HNI</th>\n",
       "      <td>0.009164</td>\n",
       "      <td>0.133516</td>\n",
       "      <td>0.008332</td>\n",
       "      <td>0.005401</td>\n",
       "      <td>0.026115</td>\n",
       "      <td>0.050524</td>\n",
       "      <td>0.040937</td>\n",
       "      <td>0.005948</td>\n",
       "      <td>0.036834</td>\n",
       "      <td>0.044663</td>\n",
       "      <td>...</td>\n",
       "      <td>0.019948</td>\n",
       "      <td>0.040877</td>\n",
       "      <td>0.019306</td>\n",
       "      <td>0.025180</td>\n",
       "      <td>0.027553</td>\n",
       "      <td>0.029881</td>\n",
       "      <td>0.072677</td>\n",
       "      <td>0.056009</td>\n",
       "      <td>0.021288</td>\n",
       "      <td>0.024008</td>\n",
       "    </tr>\n",
       "    <tr>\n",
       "      <th>VNA.DE</th>\n",
       "      <td>0.005643</td>\n",
       "      <td>0.008332</td>\n",
       "      <td>0.062092</td>\n",
       "      <td>0.003944</td>\n",
       "      <td>0.008712</td>\n",
       "      <td>0.017502</td>\n",
       "      <td>0.007605</td>\n",
       "      <td>0.004555</td>\n",
       "      <td>0.006397</td>\n",
       "      <td>0.004131</td>\n",
       "      <td>...</td>\n",
       "      <td>0.005030</td>\n",
       "      <td>0.010688</td>\n",
       "      <td>0.001899</td>\n",
       "      <td>0.008859</td>\n",
       "      <td>0.021463</td>\n",
       "      <td>0.011475</td>\n",
       "      <td>0.005654</td>\n",
       "      <td>0.010769</td>\n",
       "      <td>0.003006</td>\n",
       "      <td>0.004789</td>\n",
       "    </tr>\n",
       "    <tr>\n",
       "      <th>KEYS</th>\n",
       "      <td>0.009874</td>\n",
       "      <td>0.005401</td>\n",
       "      <td>0.003944</td>\n",
       "      <td>0.062330</td>\n",
       "      <td>0.005879</td>\n",
       "      <td>0.007573</td>\n",
       "      <td>0.009518</td>\n",
       "      <td>0.002627</td>\n",
       "      <td>0.010555</td>\n",
       "      <td>0.010185</td>\n",
       "      <td>...</td>\n",
       "      <td>0.006234</td>\n",
       "      <td>0.009160</td>\n",
       "      <td>0.005156</td>\n",
       "      <td>0.008573</td>\n",
       "      <td>0.004821</td>\n",
       "      <td>0.007151</td>\n",
       "      <td>0.016366</td>\n",
       "      <td>0.014255</td>\n",
       "      <td>0.004979</td>\n",
       "      <td>0.011915</td>\n",
       "    </tr>\n",
       "    <tr>\n",
       "      <th>SGRO.L</th>\n",
       "      <td>0.010015</td>\n",
       "      <td>0.026115</td>\n",
       "      <td>0.008712</td>\n",
       "      <td>0.005879</td>\n",
       "      <td>0.088666</td>\n",
       "      <td>0.025557</td>\n",
       "      <td>0.020360</td>\n",
       "      <td>0.011337</td>\n",
       "      <td>0.017786</td>\n",
       "      <td>0.020454</td>\n",
       "      <td>...</td>\n",
       "      <td>0.015402</td>\n",
       "      <td>0.026055</td>\n",
       "      <td>0.009364</td>\n",
       "      <td>0.008266</td>\n",
       "      <td>0.021166</td>\n",
       "      <td>0.019264</td>\n",
       "      <td>0.042595</td>\n",
       "      <td>0.030079</td>\n",
       "      <td>0.014499</td>\n",
       "      <td>0.025011</td>\n",
       "    </tr>\n",
       "    <tr>\n",
       "      <th>...</th>\n",
       "      <td>...</td>\n",
       "      <td>...</td>\n",
       "      <td>...</td>\n",
       "      <td>...</td>\n",
       "      <td>...</td>\n",
       "      <td>...</td>\n",
       "      <td>...</td>\n",
       "      <td>...</td>\n",
       "      <td>...</td>\n",
       "      <td>...</td>\n",
       "      <td>...</td>\n",
       "      <td>...</td>\n",
       "      <td>...</td>\n",
       "      <td>...</td>\n",
       "      <td>...</td>\n",
       "      <td>...</td>\n",
       "      <td>...</td>\n",
       "      <td>...</td>\n",
       "      <td>...</td>\n",
       "      <td>...</td>\n",
       "      <td>...</td>\n",
       "    </tr>\n",
       "    <tr>\n",
       "      <th>HPQ</th>\n",
       "      <td>0.015036</td>\n",
       "      <td>0.029881</td>\n",
       "      <td>0.011475</td>\n",
       "      <td>0.007151</td>\n",
       "      <td>0.019264</td>\n",
       "      <td>0.047579</td>\n",
       "      <td>0.029917</td>\n",
       "      <td>0.011562</td>\n",
       "      <td>0.046667</td>\n",
       "      <td>0.057541</td>\n",
       "      <td>...</td>\n",
       "      <td>0.043700</td>\n",
       "      <td>0.021905</td>\n",
       "      <td>0.005433</td>\n",
       "      <td>0.027100</td>\n",
       "      <td>0.039698</td>\n",
       "      <td>0.126331</td>\n",
       "      <td>0.052254</td>\n",
       "      <td>0.035046</td>\n",
       "      <td>0.025768</td>\n",
       "      <td>0.037986</td>\n",
       "    </tr>\n",
       "    <tr>\n",
       "      <th>NSIT</th>\n",
       "      <td>0.009667</td>\n",
       "      <td>0.072677</td>\n",
       "      <td>0.005654</td>\n",
       "      <td>0.016366</td>\n",
       "      <td>0.042595</td>\n",
       "      <td>0.058594</td>\n",
       "      <td>0.062635</td>\n",
       "      <td>0.019916</td>\n",
       "      <td>0.072188</td>\n",
       "      <td>0.106610</td>\n",
       "      <td>...</td>\n",
       "      <td>0.047124</td>\n",
       "      <td>0.043835</td>\n",
       "      <td>0.024916</td>\n",
       "      <td>0.027998</td>\n",
       "      <td>0.050889</td>\n",
       "      <td>0.052254</td>\n",
       "      <td>0.258228</td>\n",
       "      <td>0.073450</td>\n",
       "      <td>0.054900</td>\n",
       "      <td>0.061655</td>\n",
       "    </tr>\n",
       "    <tr>\n",
       "      <th>KMX</th>\n",
       "      <td>0.010899</td>\n",
       "      <td>0.056009</td>\n",
       "      <td>0.010769</td>\n",
       "      <td>0.014255</td>\n",
       "      <td>0.030079</td>\n",
       "      <td>0.051670</td>\n",
       "      <td>0.040216</td>\n",
       "      <td>0.008540</td>\n",
       "      <td>0.041462</td>\n",
       "      <td>0.052662</td>\n",
       "      <td>...</td>\n",
       "      <td>0.030624</td>\n",
       "      <td>0.045806</td>\n",
       "      <td>0.031693</td>\n",
       "      <td>0.038179</td>\n",
       "      <td>0.036217</td>\n",
       "      <td>0.035046</td>\n",
       "      <td>0.073450</td>\n",
       "      <td>0.231448</td>\n",
       "      <td>0.021678</td>\n",
       "      <td>0.042532</td>\n",
       "    </tr>\n",
       "    <tr>\n",
       "      <th>OXIG.L</th>\n",
       "      <td>0.005441</td>\n",
       "      <td>0.021288</td>\n",
       "      <td>0.003006</td>\n",
       "      <td>0.004979</td>\n",
       "      <td>0.014499</td>\n",
       "      <td>0.035708</td>\n",
       "      <td>0.016207</td>\n",
       "      <td>0.015161</td>\n",
       "      <td>0.022468</td>\n",
       "      <td>0.044879</td>\n",
       "      <td>...</td>\n",
       "      <td>0.017470</td>\n",
       "      <td>0.013741</td>\n",
       "      <td>0.003728</td>\n",
       "      <td>0.011700</td>\n",
       "      <td>0.015948</td>\n",
       "      <td>0.025768</td>\n",
       "      <td>0.054900</td>\n",
       "      <td>0.021678</td>\n",
       "      <td>0.169225</td>\n",
       "      <td>0.031133</td>\n",
       "    </tr>\n",
       "    <tr>\n",
       "      <th>CDNS</th>\n",
       "      <td>0.008562</td>\n",
       "      <td>0.024008</td>\n",
       "      <td>0.004789</td>\n",
       "      <td>0.011915</td>\n",
       "      <td>0.025011</td>\n",
       "      <td>0.039423</td>\n",
       "      <td>0.031948</td>\n",
       "      <td>0.022734</td>\n",
       "      <td>0.038423</td>\n",
       "      <td>0.058783</td>\n",
       "      <td>...</td>\n",
       "      <td>0.045348</td>\n",
       "      <td>0.024536</td>\n",
       "      <td>0.012911</td>\n",
       "      <td>0.022826</td>\n",
       "      <td>0.019362</td>\n",
       "      <td>0.037986</td>\n",
       "      <td>0.061655</td>\n",
       "      <td>0.042532</td>\n",
       "      <td>0.031133</td>\n",
       "      <td>0.133328</td>\n",
       "    </tr>\n",
       "  </tbody>\n",
       "</table>\n",
       "<p>114 rows × 114 columns</p>\n",
       "</div>"
      ]
     },
     "execution_count": 41,
     "metadata": {},
     "output_type": "execute_result"
    }
   ],
   "execution_count": 41
  },
  {
   "cell_type": "code",
   "id": "d9689d5cac216035",
   "metadata": {
    "ExecuteTime": {
     "end_time": "2025-01-27T18:23:19.549659Z",
     "start_time": "2025-01-27T18:23:19.546176Z"
    }
   },
   "source": [
    "latest_prices = get_latest_prices(df)\n",
    "\n",
    "da = DiscreteAllocation(raw_weights, latest_prices, total_portfolio_value=10000)\n",
    "allocation, leftover = da.greedy_portfolio()\n",
    "print(\"Discrete allocation:\", allocation)\n",
    "print(\"Funds remaining: €{:.2f}\".format(leftover))"
   ],
   "outputs": [
    {
     "name": "stdout",
     "output_type": "stream",
     "text": [
      "Discrete allocation: {'AZO': 1, 'PHP.L': 8, 'TPL': 1, 'BMI': 3, 'POOL': 2, 'DHR': 2, 'TEP.L': 1, 'BALL': 8, 'RGLD': 3, 'CDW': 1, 'LIN': 1}\n",
      "Funds remaining: €58.57\n"
     ]
    }
   ],
   "execution_count": 42
  },
  {
   "cell_type": "code",
   "id": "a5955a58c21c5194",
   "metadata": {
    "ExecuteTime": {
     "end_time": "2025-01-27T18:23:19.749784Z",
     "start_time": "2025-01-27T18:23:19.595114Z"
    }
   },
   "source": [
    "# Generate efficient frontier data\n",
    "target_returns = np.linspace(mu.min(), mu.max()-0.05, 50)\n",
    "frontier_volatility = []\n",
    "frontier_returns = []\n",
    "for r in target_returns:\n",
    "    ab = ef_new.efficient_return(target_return=r)\n",
    "    ret, vol, _ = ef_new.portfolio_performance()\n",
    "    frontier_returns.append(ret)\n",
    "    frontier_volatility.append(vol)"
   ],
   "outputs": [],
   "execution_count": 43
  },
  {
   "cell_type": "code",
   "id": "1cd3be77bc3c0f55",
   "metadata": {
    "ExecuteTime": {
     "end_time": "2025-01-27T18:23:19.960046Z",
     "start_time": "2025-01-27T18:23:19.918159Z"
    }
   },
   "source": [
    "import plotly.graph_objects as go\n",
    "\n",
    "# Create a Plotly scatter plot\n",
    "fig = go.Figure()\n",
    "\n",
    "# Convert expected returns to a NumPy array\n",
    "returns_array = mu.values\n",
    "\n",
    "# Calculate volatilities (square root of the diagonal of covariance matrix)\n",
    "volatilities_array = np.sqrt(np.diag(S))\n",
    "\n",
    "# Marker: Add annotations for each point\n",
    "for i, (ret, vol, ticker) in enumerate(zip(returns_array, volatilities_array, mu.keys())):\n",
    "    fig.add_trace(go.Scatter(\n",
    "        x=[vol],\n",
    "        y=[ret],\n",
    "        mode='markers+text',\n",
    "        # text=f\"{ticker} ({ret:.2%}, {vol:.2%})\",\n",
    "        textposition=\"top center\",\n",
    "        marker=dict(size=6, color='blue'),\n",
    "        showlegend=False\n",
    "    ))\n",
    "\n",
    "max_sharpe_return, max_sharpe_volatility, _ = ef.portfolio_performance()\n",
    "# Marker: Add the maximum Sharpe ratio portfolio\n",
    "fig.add_trace(go.Scatter(\n",
    "    x=[max_sharpe_volatility],\n",
    "    y=[max_sharpe_return],\n",
    "    mode='markers',\n",
    "    name='Max Sharpe Portfolio',\n",
    "    marker=dict(color='red', size=10, symbol='star')\n",
    "))\n",
    "\n",
    "# Line: Add the efficient frontier\n",
    "fig.add_trace(go.Scatter(\n",
    "    x=frontier_volatility,\n",
    "    y=frontier_returns,\n",
    "    mode='lines',\n",
    "    name='Efficient Frontier',\n",
    "    line=dict(color='blue', width=3)\n",
    "))\n",
    "\n",
    "fig.update_traces(hovertemplate=None)\n",
    "# Customize layout\n",
    "fig.update_layout(\n",
    "    title='Efficient Frontier',\n",
    "    xaxis=dict(\n",
    "        title='Risk (Standard Deviation)',\n",
    "        tickformat='.0%',\n",
    "    ),\n",
    "    yaxis=dict(\n",
    "        title='Investment Return Average (last 5 years)',\n",
    "        tickformat='.0%',\n",
    "    ),\n",
    "    legend=dict(x=1, y=1),\n",
    "    hovermode='closest',\n",
    "    template='plotly'\n",
    ")\n",
    "\n",
    "fig.show()"
   ],
   "outputs": [
    {
     "data": {
      "application/vnd.plotly.v1+json": {
       "data": [
        {
         "marker": {
          "color": "blue",
          "size": 6
         },
         "mode": "markers+text",
         "showlegend": false,
         "textposition": "top center",
         "x": [
          0.28653988714651407
         ],
         "y": [
          0.05766929258778686
         ],
         "type": "scatter"
        },
        {
         "marker": {
          "color": "blue",
          "size": 6
         },
         "mode": "markers+text",
         "showlegend": false,
         "textposition": "top center",
         "x": [
          0.3653982931427992
         ],
         "y": [
          0.06748001656313862
         ],
         "type": "scatter"
        },
        {
         "marker": {
          "color": "blue",
          "size": 6
         },
         "mode": "markers+text",
         "showlegend": false,
         "textposition": "top center",
         "x": [
          0.24918227380143698
         ],
         "y": [
          0.0561467155750226
         ],
         "type": "scatter"
        },
        {
         "marker": {
          "color": "blue",
          "size": 6
         },
         "mode": "markers+text",
         "showlegend": false,
         "textposition": "top center",
         "x": [
          0.24965973219417786
         ],
         "y": [
          0.06543774763876509
         ],
         "type": "scatter"
        },
        {
         "marker": {
          "color": "blue",
          "size": 6
         },
         "mode": "markers+text",
         "showlegend": false,
         "textposition": "top center",
         "x": [
          0.2977680552637429
         ],
         "y": [
          0.05287511446311277
         ],
         "type": "scatter"
        },
        {
         "marker": {
          "color": "blue",
          "size": 6
         },
         "mode": "markers+text",
         "showlegend": false,
         "textposition": "top center",
         "x": [
          0.47027266252747224
         ],
         "y": [
          0.1024421178022068
         ],
         "type": "scatter"
        },
        {
         "marker": {
          "color": "blue",
          "size": 6
         },
         "mode": "markers+text",
         "showlegend": false,
         "textposition": "top center",
         "x": [
          0.3227860528483419
         ],
         "y": [
          0.09044157378094053
         ],
         "type": "scatter"
        },
        {
         "marker": {
          "color": "blue",
          "size": 6
         },
         "mode": "markers+text",
         "showlegend": false,
         "textposition": "top center",
         "x": [
          0.2592616330109683
         ],
         "y": [
          0.12382958801318122
         ],
         "type": "scatter"
        },
        {
         "marker": {
          "color": "blue",
          "size": 6
         },
         "mode": "markers+text",
         "showlegend": false,
         "textposition": "top center",
         "x": [
          0.37715879434819316
         ],
         "y": [
          0.07873299354029006
         ],
         "type": "scatter"
        },
        {
         "marker": {
          "color": "blue",
          "size": 6
         },
         "mode": "markers+text",
         "showlegend": false,
         "textposition": "top center",
         "x": [
          0.44905207622957294
         ],
         "y": [
          0.09242253912528353
         ],
         "type": "scatter"
        },
        {
         "marker": {
          "color": "blue",
          "size": 6
         },
         "mode": "markers+text",
         "showlegend": false,
         "textposition": "top center",
         "x": [
          0.31264857430710646
         ],
         "y": [
          0.0759189755468972
         ],
         "type": "scatter"
        },
        {
         "marker": {
          "color": "blue",
          "size": 6
         },
         "mode": "markers+text",
         "showlegend": false,
         "textposition": "top center",
         "x": [
          0.36360041676125776
         ],
         "y": [
          0.13289637397465137
         ],
         "type": "scatter"
        },
        {
         "marker": {
          "color": "blue",
          "size": 6
         },
         "mode": "markers+text",
         "showlegend": false,
         "textposition": "top center",
         "x": [
          0.6931482601668462
         ],
         "y": [
          0.17371781947141218
         ],
         "type": "scatter"
        },
        {
         "marker": {
          "color": "blue",
          "size": 6
         },
         "mode": "markers+text",
         "showlegend": false,
         "textposition": "top center",
         "x": [
          0.25000616047302143
         ],
         "y": [
          0.10084311342611829
         ],
         "type": "scatter"
        },
        {
         "marker": {
          "color": "blue",
          "size": 6
         },
         "mode": "markers+text",
         "showlegend": false,
         "textposition": "top center",
         "x": [
          0.4102893262340885
         ],
         "y": [
          0.26410942626166367
         ],
         "type": "scatter"
        },
        {
         "marker": {
          "color": "blue",
          "size": 6
         },
         "mode": "markers+text",
         "showlegend": false,
         "textposition": "top center",
         "x": [
          0.3666721909782119
         ],
         "y": [
          0.07219764616104096
         ],
         "type": "scatter"
        },
        {
         "marker": {
          "color": "blue",
          "size": 6
         },
         "mode": "markers+text",
         "showlegend": false,
         "textposition": "top center",
         "x": [
          0.4302354479635051
         ],
         "y": [
          0.11451546437438309
         ],
         "type": "scatter"
        },
        {
         "marker": {
          "color": "blue",
          "size": 6
         },
         "mode": "markers+text",
         "showlegend": false,
         "textposition": "top center",
         "x": [
          0.5715563132121718
         ],
         "y": [
          0.09166605562635977
         ],
         "type": "scatter"
        },
        {
         "marker": {
          "color": "blue",
          "size": 6
         },
         "mode": "markers+text",
         "showlegend": false,
         "textposition": "top center",
         "x": [
          0.2909082159635921
         ],
         "y": [
          0.10020147389227518
         ],
         "type": "scatter"
        },
        {
         "marker": {
          "color": "blue",
          "size": 6
         },
         "mode": "markers+text",
         "showlegend": false,
         "textposition": "top center",
         "x": [
          0.3469451108695494
         ],
         "y": [
          0.11228583575615536
         ],
         "type": "scatter"
        },
        {
         "marker": {
          "color": "blue",
          "size": 6
         },
         "mode": "markers+text",
         "showlegend": false,
         "textposition": "top center",
         "x": [
          0.4371669823079984
         ],
         "y": [
          0.05852879250367171
         ],
         "type": "scatter"
        },
        {
         "marker": {
          "color": "blue",
          "size": 6
         },
         "mode": "markers+text",
         "showlegend": false,
         "textposition": "top center",
         "x": [
          0.5216544896749955
         ],
         "y": [
          0.08304007517434564
         ],
         "type": "scatter"
        },
        {
         "marker": {
          "color": "blue",
          "size": 6
         },
         "mode": "markers+text",
         "showlegend": false,
         "textposition": "top center",
         "x": [
          0.6228881808770874
         ],
         "y": [
          0.05577124296048974
         ],
         "type": "scatter"
        },
        {
         "marker": {
          "color": "blue",
          "size": 6
         },
         "mode": "markers+text",
         "showlegend": false,
         "textposition": "top center",
         "x": [
          0.3083808533998793
         ],
         "y": [
          0.12272012919071495
         ],
         "type": "scatter"
        },
        {
         "marker": {
          "color": "blue",
          "size": 6
         },
         "mode": "markers+text",
         "showlegend": false,
         "textposition": "top center",
         "x": [
          0.46590970073365817
         ],
         "y": [
          0.07701542663350369
         ],
         "type": "scatter"
        },
        {
         "marker": {
          "color": "blue",
          "size": 6
         },
         "mode": "markers+text",
         "showlegend": false,
         "textposition": "top center",
         "x": [
          0.3686024103090489
         ],
         "y": [
          0.06034128823368001
         ],
         "type": "scatter"
        },
        {
         "marker": {
          "color": "blue",
          "size": 6
         },
         "mode": "markers+text",
         "showlegend": false,
         "textposition": "top center",
         "x": [
          0.30426865349103793
         ],
         "y": [
          0.09368782148175314
         ],
         "type": "scatter"
        },
        {
         "marker": {
          "color": "blue",
          "size": 6
         },
         "mode": "markers+text",
         "showlegend": false,
         "textposition": "top center",
         "x": [
          0.27486026427450266
         ],
         "y": [
          0.12547860798586608
         ],
         "type": "scatter"
        },
        {
         "marker": {
          "color": "blue",
          "size": 6
         },
         "mode": "markers+text",
         "showlegend": false,
         "textposition": "top center",
         "x": [
          0.2778223377376578
         ],
         "y": [
          0.0616217865380182
         ],
         "type": "scatter"
        },
        {
         "marker": {
          "color": "blue",
          "size": 6
         },
         "mode": "markers+text",
         "showlegend": false,
         "textposition": "top center",
         "x": [
          0.3438839770801334
         ],
         "y": [
          0.06281975462403722
         ],
         "type": "scatter"
        },
        {
         "marker": {
          "color": "blue",
          "size": 6
         },
         "mode": "markers+text",
         "showlegend": false,
         "textposition": "top center",
         "x": [
          0.4399287458188483
         ],
         "y": [
          0.05208598728386704
         ],
         "type": "scatter"
        },
        {
         "marker": {
          "color": "blue",
          "size": 6
         },
         "mode": "markers+text",
         "showlegend": false,
         "textposition": "top center",
         "x": [
          0.4591673356525786
         ],
         "y": [
          0.1546880166659108
         ],
         "type": "scatter"
        },
        {
         "marker": {
          "color": "blue",
          "size": 6
         },
         "mode": "markers+text",
         "showlegend": false,
         "textposition": "top center",
         "x": [
          0.47469527967572445
         ],
         "y": [
          0.10723444152928985
         ],
         "type": "scatter"
        },
        {
         "marker": {
          "color": "blue",
          "size": 6
         },
         "mode": "markers+text",
         "showlegend": false,
         "textposition": "top center",
         "x": [
          0.6710372601843485
         ],
         "y": [
          0.09835428854128136
         ],
         "type": "scatter"
        },
        {
         "marker": {
          "color": "blue",
          "size": 6
         },
         "mode": "markers+text",
         "showlegend": false,
         "textposition": "top center",
         "x": [
          0.335244281199045
         ],
         "y": [
          0.11702114120413754
         ],
         "type": "scatter"
        },
        {
         "marker": {
          "color": "blue",
          "size": 6
         },
         "mode": "markers+text",
         "showlegend": false,
         "textposition": "top center",
         "x": [
          0.29147473112112576
         ],
         "y": [
          0.1377992093556355
         ],
         "type": "scatter"
        },
        {
         "marker": {
          "color": "blue",
          "size": 6
         },
         "mode": "markers+text",
         "showlegend": false,
         "textposition": "top center",
         "x": [
          0.31443108429680067
         ],
         "y": [
          0.05527064673822024
         ],
         "type": "scatter"
        },
        {
         "marker": {
          "color": "blue",
          "size": 6
         },
         "mode": "markers+text",
         "showlegend": false,
         "textposition": "top center",
         "x": [
          0.34814634090771873
         ],
         "y": [
          0.1442815502502146
         ],
         "type": "scatter"
        },
        {
         "marker": {
          "color": "blue",
          "size": 6
         },
         "mode": "markers+text",
         "showlegend": false,
         "textposition": "top center",
         "x": [
          0.5050731134983187
         ],
         "y": [
          0.0658174476027773
         ],
         "type": "scatter"
        },
        {
         "marker": {
          "color": "blue",
          "size": 6
         },
         "mode": "markers+text",
         "showlegend": false,
         "textposition": "top center",
         "x": [
          0.33940621919943215
         ],
         "y": [
          0.1873117568932796
         ],
         "type": "scatter"
        },
        {
         "marker": {
          "color": "blue",
          "size": 6
         },
         "mode": "markers+text",
         "showlegend": false,
         "textposition": "top center",
         "x": [
          0.39200627311910996
         ],
         "y": [
          0.06893977469041968
         ],
         "type": "scatter"
        },
        {
         "marker": {
          "color": "blue",
          "size": 6
         },
         "mode": "markers+text",
         "showlegend": false,
         "textposition": "top center",
         "x": [
          0.31347411473731135
         ],
         "y": [
          0.07347012414406495
         ],
         "type": "scatter"
        },
        {
         "marker": {
          "color": "blue",
          "size": 6
         },
         "mode": "markers+text",
         "showlegend": false,
         "textposition": "top center",
         "x": [
          0.5076516534761194
         ],
         "y": [
          0.0751853352235139
         ],
         "type": "scatter"
        },
        {
         "marker": {
          "color": "blue",
          "size": 6
         },
         "mode": "markers+text",
         "showlegend": false,
         "textposition": "top center",
         "x": [
          0.37059903022510327
         ],
         "y": [
          0.05887444154774912
         ],
         "type": "scatter"
        },
        {
         "marker": {
          "color": "blue",
          "size": 6
         },
         "mode": "markers+text",
         "showlegend": false,
         "textposition": "top center",
         "x": [
          0.37209890155219355
         ],
         "y": [
          0.0569875352340965
         ],
         "type": "scatter"
        },
        {
         "marker": {
          "color": "blue",
          "size": 6
         },
         "mode": "markers+text",
         "showlegend": false,
         "textposition": "top center",
         "x": [
          0.5510176914711928
         ],
         "y": [
          0.059607221210075334
         ],
         "type": "scatter"
        },
        {
         "marker": {
          "color": "blue",
          "size": 6
         },
         "mode": "markers+text",
         "showlegend": false,
         "textposition": "top center",
         "x": [
          0.3875473108773229
         ],
         "y": [
          0.06437422629704814
         ],
         "type": "scatter"
        },
        {
         "marker": {
          "color": "blue",
          "size": 6
         },
         "mode": "markers+text",
         "showlegend": false,
         "textposition": "top center",
         "x": [
          0.24706367597542
         ],
         "y": [
          0.08281704776043552
         ],
         "type": "scatter"
        },
        {
         "marker": {
          "color": "blue",
          "size": 6
         },
         "mode": "markers+text",
         "showlegend": false,
         "textposition": "top center",
         "x": [
          0.49132457229722903
         ],
         "y": [
          0.12951889225080238
         ],
         "type": "scatter"
        },
        {
         "marker": {
          "color": "blue",
          "size": 6
         },
         "mode": "markers+text",
         "showlegend": false,
         "textposition": "top center",
         "x": [
          0.35341778238665067
         ],
         "y": [
          0.056006249850026
         ],
         "type": "scatter"
        },
        {
         "marker": {
          "color": "blue",
          "size": 6
         },
         "mode": "markers+text",
         "showlegend": false,
         "textposition": "top center",
         "x": [
          0.277520578881836
         ],
         "y": [
          0.061874186139446286
         ],
         "type": "scatter"
        },
        {
         "marker": {
          "color": "blue",
          "size": 6
         },
         "mode": "markers+text",
         "showlegend": false,
         "textposition": "top center",
         "x": [
          0.5326956762396261
         ],
         "y": [
          0.1361635228723017
         ],
         "type": "scatter"
        },
        {
         "marker": {
          "color": "blue",
          "size": 6
         },
         "mode": "markers+text",
         "showlegend": false,
         "textposition": "top center",
         "x": [
          0.46195689134211554
         ],
         "y": [
          0.07629088420203001
         ],
         "type": "scatter"
        },
        {
         "marker": {
          "color": "blue",
          "size": 6
         },
         "mode": "markers+text",
         "showlegend": false,
         "textposition": "top center",
         "x": [
          0.299803058396472
         ],
         "y": [
          0.09186976397717084
         ],
         "type": "scatter"
        },
        {
         "marker": {
          "color": "blue",
          "size": 6
         },
         "mode": "markers+text",
         "showlegend": false,
         "textposition": "top center",
         "x": [
          0.2958228488577605
         ],
         "y": [
          0.05505650548976915
         ],
         "type": "scatter"
        },
        {
         "marker": {
          "color": "blue",
          "size": 6
         },
         "mode": "markers+text",
         "showlegend": false,
         "textposition": "top center",
         "x": [
          0.28236318881188
         ],
         "y": [
          0.08504267074691096
         ],
         "type": "scatter"
        },
        {
         "marker": {
          "color": "blue",
          "size": 6
         },
         "mode": "markers+text",
         "showlegend": false,
         "textposition": "top center",
         "x": [
          0.27594282983638907
         ],
         "y": [
          0.16245179821950195
         ],
         "type": "scatter"
        },
        {
         "marker": {
          "color": "blue",
          "size": 6
         },
         "mode": "markers+text",
         "showlegend": false,
         "textposition": "top center",
         "x": [
          0.4512823755870785
         ],
         "y": [
          0.06675532010737473
         ],
         "type": "scatter"
        },
        {
         "marker": {
          "color": "blue",
          "size": 6
         },
         "mode": "markers+text",
         "showlegend": false,
         "textposition": "top center",
         "x": [
          0.33831594718241725
         ],
         "y": [
          0.0722427931463705
         ],
         "type": "scatter"
        },
        {
         "marker": {
          "color": "blue",
          "size": 6
         },
         "mode": "markers+text",
         "showlegend": false,
         "textposition": "top center",
         "x": [
          0.40858384241972573
         ],
         "y": [
          0.12862832043180106
         ],
         "type": "scatter"
        },
        {
         "marker": {
          "color": "blue",
          "size": 6
         },
         "mode": "markers+text",
         "showlegend": false,
         "textposition": "top center",
         "x": [
          0.29632267509248045
         ],
         "y": [
          0.05068129531518806
         ],
         "type": "scatter"
        },
        {
         "marker": {
          "color": "blue",
          "size": 6
         },
         "mode": "markers+text",
         "showlegend": false,
         "textposition": "top center",
         "x": [
          0.29860336051520664
         ],
         "y": [
          0.10148979752809328
         ],
         "type": "scatter"
        },
        {
         "marker": {
          "color": "blue",
          "size": 6
         },
         "mode": "markers+text",
         "showlegend": false,
         "textposition": "top center",
         "x": [
          0.3443367848762563
         ],
         "y": [
          0.06723366146383847
         ],
         "type": "scatter"
        },
        {
         "marker": {
          "color": "blue",
          "size": 6
         },
         "mode": "markers+text",
         "showlegend": false,
         "textposition": "top center",
         "x": [
          0.34497204862115766
         ],
         "y": [
          0.10832218188268872
         ],
         "type": "scatter"
        },
        {
         "marker": {
          "color": "blue",
          "size": 6
         },
         "mode": "markers+text",
         "showlegend": false,
         "textposition": "top center",
         "x": [
          0.601246867750781
         ],
         "y": [
          0.14016237371591522
         ],
         "type": "scatter"
        },
        {
         "marker": {
          "color": "blue",
          "size": 6
         },
         "mode": "markers+text",
         "showlegend": false,
         "textposition": "top center",
         "x": [
          0.2603950295986935
         ],
         "y": [
          0.11725410298285222
         ],
         "type": "scatter"
        },
        {
         "marker": {
          "color": "blue",
          "size": 6
         },
         "mode": "markers+text",
         "showlegend": false,
         "textposition": "top center",
         "x": [
          0.2773363586067185
         ],
         "y": [
          0.05791117520563338
         ],
         "type": "scatter"
        },
        {
         "marker": {
          "color": "blue",
          "size": 6
         },
         "mode": "markers+text",
         "showlegend": false,
         "textposition": "top center",
         "x": [
          0.47718767403450146
         ],
         "y": [
          0.11504053552678273
         ],
         "type": "scatter"
        },
        {
         "marker": {
          "color": "blue",
          "size": 6
         },
         "mode": "markers+text",
         "showlegend": false,
         "textposition": "top center",
         "x": [
          0.46390767476274536
         ],
         "y": [
          0.0840978010525848
         ],
         "type": "scatter"
        },
        {
         "marker": {
          "color": "blue",
          "size": 6
         },
         "mode": "markers+text",
         "showlegend": false,
         "textposition": "top center",
         "x": [
          0.360029736331097
         ],
         "y": [
          0.143153772076553
         ],
         "type": "scatter"
        },
        {
         "marker": {
          "color": "blue",
          "size": 6
         },
         "mode": "markers+text",
         "showlegend": false,
         "textposition": "top center",
         "x": [
          0.4084283936191146
         ],
         "y": [
          0.0776539295538734
         ],
         "type": "scatter"
        },
        {
         "marker": {
          "color": "blue",
          "size": 6
         },
         "mode": "markers+text",
         "showlegend": false,
         "textposition": "top center",
         "x": [
          0.35904594041485105
         ],
         "y": [
          0.1112661058359139
         ],
         "type": "scatter"
        },
        {
         "marker": {
          "color": "blue",
          "size": 6
         },
         "mode": "markers+text",
         "showlegend": false,
         "textposition": "top center",
         "x": [
          0.34978073450071284
         ],
         "y": [
          0.09470414219914325
         ],
         "type": "scatter"
        },
        {
         "marker": {
          "color": "blue",
          "size": 6
         },
         "mode": "markers+text",
         "showlegend": false,
         "textposition": "top center",
         "x": [
          0.2901768661536817
         ],
         "y": [
          0.12992373585769834
         ],
         "type": "scatter"
        },
        {
         "marker": {
          "color": "blue",
          "size": 6
         },
         "mode": "markers+text",
         "showlegend": false,
         "textposition": "top center",
         "x": [
          0.9666189895303986
         ],
         "y": [
          0.16985003836021084
         ],
         "type": "scatter"
        },
        {
         "marker": {
          "color": "blue",
          "size": 6
         },
         "mode": "markers+text",
         "showlegend": false,
         "textposition": "top center",
         "x": [
          0.4564973153917767
         ],
         "y": [
          0.07511316394382228
         ],
         "type": "scatter"
        },
        {
         "marker": {
          "color": "blue",
          "size": 6
         },
         "mode": "markers+text",
         "showlegend": false,
         "textposition": "top center",
         "x": [
          0.3268184418508852
         ],
         "y": [
          0.1070007051500006
         ],
         "type": "scatter"
        },
        {
         "marker": {
          "color": "blue",
          "size": 6
         },
         "mode": "markers+text",
         "showlegend": false,
         "textposition": "top center",
         "x": [
          0.3801001755174345
         ],
         "y": [
          0.09350943543479606
         ],
         "type": "scatter"
        },
        {
         "marker": {
          "color": "blue",
          "size": 6
         },
         "mode": "markers+text",
         "showlegend": false,
         "textposition": "top center",
         "x": [
          0.8186836163272619
         ],
         "y": [
          0.05524746459518948
         ],
         "type": "scatter"
        },
        {
         "marker": {
          "color": "blue",
          "size": 6
         },
         "mode": "markers+text",
         "showlegend": false,
         "textposition": "top center",
         "x": [
          0.2886984049592295
         ],
         "y": [
          0.0751857454943019
         ],
         "type": "scatter"
        },
        {
         "marker": {
          "color": "blue",
          "size": 6
         },
         "mode": "markers+text",
         "showlegend": false,
         "textposition": "top center",
         "x": [
          0.257482482028649
         ],
         "y": [
          0.051560054819841605
         ],
         "type": "scatter"
        },
        {
         "marker": {
          "color": "blue",
          "size": 6
         },
         "mode": "markers+text",
         "showlegend": false,
         "textposition": "top center",
         "x": [
          0.483813427491291
         ],
         "y": [
          0.12225244885860898
         ],
         "type": "scatter"
        },
        {
         "marker": {
          "color": "blue",
          "size": 6
         },
         "mode": "markers+text",
         "showlegend": false,
         "textposition": "top center",
         "x": [
          0.2635264911965112
         ],
         "y": [
          0.14803133662509804
         ],
         "type": "scatter"
        },
        {
         "marker": {
          "color": "blue",
          "size": 6
         },
         "mode": "markers+text",
         "showlegend": false,
         "textposition": "top center",
         "x": [
          0.2668032293516303
         ],
         "y": [
          0.10741292623986443
         ],
         "type": "scatter"
        },
        {
         "marker": {
          "color": "blue",
          "size": 6
         },
         "mode": "markers+text",
         "showlegend": false,
         "textposition": "top center",
         "x": [
          0.28529438562782744
         ],
         "y": [
          0.1501007493433879
         ],
         "type": "scatter"
        },
        {
         "marker": {
          "color": "blue",
          "size": 6
         },
         "mode": "markers+text",
         "showlegend": false,
         "textposition": "top center",
         "x": [
          0.8022913062063508
         ],
         "y": [
          0.05920245624025644
         ],
         "type": "scatter"
        },
        {
         "marker": {
          "color": "blue",
          "size": 6
         },
         "mode": "markers+text",
         "showlegend": false,
         "textposition": "top center",
         "x": [
          0.28486027265348507
         ],
         "y": [
          0.1759354301926006
         ],
         "type": "scatter"
        },
        {
         "marker": {
          "color": "blue",
          "size": 6
         },
         "mode": "markers+text",
         "showlegend": false,
         "textposition": "top center",
         "x": [
          0.34284562153069154
         ],
         "y": [
          0.08232115222810132
         ],
         "type": "scatter"
        },
        {
         "marker": {
          "color": "blue",
          "size": 6
         },
         "mode": "markers+text",
         "showlegend": false,
         "textposition": "top center",
         "x": [
          0.42006815067801107
         ],
         "y": [
          0.06549981795341187
         ],
         "type": "scatter"
        },
        {
         "marker": {
          "color": "blue",
          "size": 6
         },
         "mode": "markers+text",
         "showlegend": false,
         "textposition": "top center",
         "x": [
          0.360754874396303
         ],
         "y": [
          0.06484090121566677
         ],
         "type": "scatter"
        },
        {
         "marker": {
          "color": "blue",
          "size": 6
         },
         "mode": "markers+text",
         "showlegend": false,
         "textposition": "top center",
         "x": [
          0.52919046804851
         ],
         "y": [
          0.05183891812939967
         ],
         "type": "scatter"
        },
        {
         "marker": {
          "color": "blue",
          "size": 6
         },
         "mode": "markers+text",
         "showlegend": false,
         "textposition": "top center",
         "x": [
          0.38744130894638557
         ],
         "y": [
          0.09142440513772265
         ],
         "type": "scatter"
        },
        {
         "marker": {
          "color": "blue",
          "size": 6
         },
         "mode": "markers+text",
         "showlegend": false,
         "textposition": "top center",
         "x": [
          0.7272821601415228
         ],
         "y": [
          0.1171135005405195
         ],
         "type": "scatter"
        },
        {
         "marker": {
          "color": "blue",
          "size": 6
         },
         "mode": "markers+text",
         "showlegend": false,
         "textposition": "top center",
         "x": [
          0.3128911057803137
         ],
         "y": [
          0.12173769159151471
         ],
         "type": "scatter"
        },
        {
         "marker": {
          "color": "blue",
          "size": 6
         },
         "mode": "markers+text",
         "showlegend": false,
         "textposition": "top center",
         "x": [
          0.23449181386661377
         ],
         "y": [
          0.06611778958424819
         ],
         "type": "scatter"
        },
        {
         "marker": {
          "color": "blue",
          "size": 6
         },
         "mode": "markers+text",
         "showlegend": false,
         "textposition": "top center",
         "x": [
          0.4751202265439764
         ],
         "y": [
          0.060880767764945665
         ],
         "type": "scatter"
        },
        {
         "marker": {
          "color": "blue",
          "size": 6
         },
         "mode": "markers+text",
         "showlegend": false,
         "textposition": "top center",
         "x": [
          0.34997830588164547
         ],
         "y": [
          0.07959187695210268
         ],
         "type": "scatter"
        },
        {
         "marker": {
          "color": "blue",
          "size": 6
         },
         "mode": "markers+text",
         "showlegend": false,
         "textposition": "top center",
         "x": [
          0.30614359634105526
         ],
         "y": [
          0.1135297108972444
         ],
         "type": "scatter"
        },
        {
         "marker": {
          "color": "blue",
          "size": 6
         },
         "mode": "markers+text",
         "showlegend": false,
         "textposition": "top center",
         "x": [
          0.2822728710740403
         ],
         "y": [
          0.10831172880898743
         ],
         "type": "scatter"
        },
        {
         "marker": {
          "color": "blue",
          "size": 6
         },
         "mode": "markers+text",
         "showlegend": false,
         "textposition": "top center",
         "x": [
          0.23601745761188747
         ],
         "y": [
          0.0561244684068849
         ],
         "type": "scatter"
        },
        {
         "marker": {
          "color": "blue",
          "size": 6
         },
         "mode": "markers+text",
         "showlegend": false,
         "textposition": "top center",
         "x": [
          0.5808855965552422
         ],
         "y": [
          0.08543477885747874
         ],
         "type": "scatter"
        },
        {
         "marker": {
          "color": "blue",
          "size": 6
         },
         "mode": "markers+text",
         "showlegend": false,
         "textposition": "top center",
         "x": [
          0.3445566579516852
         ],
         "y": [
          0.08087336602058426
         ],
         "type": "scatter"
        },
        {
         "marker": {
          "color": "blue",
          "size": 6
         },
         "mode": "markers+text",
         "showlegend": false,
         "textposition": "top center",
         "x": [
          0.42164789432123445
         ],
         "y": [
          0.05257417621036797
         ],
         "type": "scatter"
        },
        {
         "marker": {
          "color": "blue",
          "size": 6
         },
         "mode": "markers+text",
         "showlegend": false,
         "textposition": "top center",
         "x": [
          0.307834027166096
         ],
         "y": [
          0.108912790189017
         ],
         "type": "scatter"
        },
        {
         "marker": {
          "color": "blue",
          "size": 6
         },
         "mode": "markers+text",
         "showlegend": false,
         "textposition": "top center",
         "x": [
          0.3667326857004296
         ],
         "y": [
          0.0861150208632171
         ],
         "type": "scatter"
        },
        {
         "marker": {
          "color": "blue",
          "size": 6
         },
         "mode": "markers+text",
         "showlegend": false,
         "textposition": "top center",
         "x": [
          0.33252175305208714
         ],
         "y": [
          0.2049347026574866
         ],
         "type": "scatter"
        },
        {
         "marker": {
          "color": "blue",
          "size": 6
         },
         "mode": "markers+text",
         "showlegend": false,
         "textposition": "top center",
         "x": [
          0.289145690980087
         ],
         "y": [
          0.2109905264180547
         ],
         "type": "scatter"
        },
        {
         "marker": {
          "color": "blue",
          "size": 6
         },
         "mode": "markers+text",
         "showlegend": false,
         "textposition": "top center",
         "x": [
          0.3516106707242945
         ],
         "y": [
          0.12381290962807179
         ],
         "type": "scatter"
        },
        {
         "marker": {
          "color": "blue",
          "size": 6
         },
         "mode": "markers+text",
         "showlegend": false,
         "textposition": "top center",
         "x": [
          0.5865575801152819
         ],
         "y": [
          0.17854931457681844
         ],
         "type": "scatter"
        },
        {
         "marker": {
          "color": "blue",
          "size": 6
         },
         "mode": "markers+text",
         "showlegend": false,
         "textposition": "top center",
         "x": [
          0.3554301370358339
         ],
         "y": [
          0.05957573344489786
         ],
         "type": "scatter"
        },
        {
         "marker": {
          "color": "blue",
          "size": 6
         },
         "mode": "markers+text",
         "showlegend": false,
         "textposition": "top center",
         "x": [
          0.5081613914122105
         ],
         "y": [
          0.08691156011549084
         ],
         "type": "scatter"
        },
        {
         "marker": {
          "color": "blue",
          "size": 6
         },
         "mode": "markers+text",
         "showlegend": false,
         "textposition": "top center",
         "x": [
          0.48109053377532585
         ],
         "y": [
          0.17471338411489845
         ],
         "type": "scatter"
        },
        {
         "marker": {
          "color": "blue",
          "size": 6
         },
         "mode": "markers+text",
         "showlegend": false,
         "textposition": "top center",
         "x": [
          0.4113699054168271
         ],
         "y": [
          0.1279829687425713
         ],
         "type": "scatter"
        },
        {
         "marker": {
          "color": "blue",
          "size": 6
         },
         "mode": "markers+text",
         "showlegend": false,
         "textposition": "top center",
         "x": [
          0.36514072153683885
         ],
         "y": [
          0.12001553308160351
         ],
         "type": "scatter"
        },
        {
         "marker": {
          "color": "red",
          "size": 10,
          "symbol": "star"
         },
         "mode": "markers",
         "name": "Max Sharpe Portfolio",
         "x": [
          0.1167161226170067
         ],
         "y": [
          0.16189289251795783
         ],
         "type": "scatter"
        },
        {
         "line": {
          "color": "blue",
          "width": 3
         },
         "mode": "lines",
         "name": "Efficient Frontier",
         "x": [
          0.08862885899154654,
          0.08862885899154654,
          0.08862885899154654,
          0.08862885899154656,
          0.08862885899154656,
          0.08862885899154653,
          0.08862885899154653,
          0.08862885899154653,
          0.0886288589915465,
          0.08862885899154653,
          0.08862885899154657,
          0.08862885899154646,
          0.08862885899154653,
          0.08862885899154653,
          0.08862196252856624,
          0.0887445145674159,
          0.0890398123313787,
          0.08950739263872494,
          0.09015396816958508,
          0.09095463070994181,
          0.09190087814391394,
          0.09297267315626799,
          0.09420003658476893,
          0.09552914926826797,
          0.09698564952046278,
          0.0985721189617458,
          0.10028681054468692,
          0.10212415778691439,
          0.1040763279020847,
          0.1061604336931482,
          0.10837266349863219,
          0.11069924116162322,
          0.11313321903726677,
          0.11574383738026271,
          0.11850105009707915,
          0.12145568355173372,
          0.12457017874959633,
          0.12786892940817704,
          0.13131515869478486,
          0.13503040108031858,
          0.13905816491118422,
          0.1433205481850867,
          0.14784216572127057,
          0.15260265285758579,
          0.1575755923906729,
          0.16275573402531957,
          0.16816690246335353,
          0.17380264971097129,
          0.17990533733964723,
          0.1865168504240896
         ],
         "y": [
          0.09665203350686268,
          0.09665203350686268,
          0.09665203350686268,
          0.09665203350686269,
          0.0966520335068627,
          0.09665203350686266,
          0.09665203350686265,
          0.09665203350686263,
          0.09665203350686259,
          0.09665203350686265,
          0.09665203350686269,
          0.09665203350686259,
          0.09665203350686266,
          0.09665203350686263,
          0.09737419789633349,
          0.10070965020453802,
          0.10404490804747057,
          0.10738003820252459,
          0.11071530060818467,
          0.114050322867233,
          0.11738516243306338,
          0.12071973834881618,
          0.12405656113225676,
          0.1273916366892301,
          0.13072667654441414,
          0.134061844890772,
          0.13739708499165315,
          0.14073231220400353,
          0.1440670861869299,
          0.14740220265227855,
          0.1507374669099696,
          0.15407240255539878,
          0.15740594561251323,
          0.1607419071464692,
          0.16407604258847355,
          0.16741241062908532,
          0.1707469506771131,
          0.1740821352429978,
          0.1774144496061653,
          0.18074943505116126,
          0.18408691893779375,
          0.18742164522380814,
          0.19075658526055736,
          0.1940918420355851,
          0.1974271096567957,
          0.20076262282779425,
          0.20409812754325796,
          0.20743137657894245,
          0.2107660954894275,
          0.21410212029407644
         ],
         "type": "scatter"
        }
       ],
       "layout": {
        "template": {
         "data": {
          "barpolar": [
           {
            "marker": {
             "line": {
              "color": "#E5ECF6",
              "width": 0.5
             },
             "pattern": {
              "fillmode": "overlay",
              "size": 10,
              "solidity": 0.2
             }
            },
            "type": "barpolar"
           }
          ],
          "bar": [
           {
            "error_x": {
             "color": "#2a3f5f"
            },
            "error_y": {
             "color": "#2a3f5f"
            },
            "marker": {
             "line": {
              "color": "#E5ECF6",
              "width": 0.5
             },
             "pattern": {
              "fillmode": "overlay",
              "size": 10,
              "solidity": 0.2
             }
            },
            "type": "bar"
           }
          ],
          "carpet": [
           {
            "aaxis": {
             "endlinecolor": "#2a3f5f",
             "gridcolor": "white",
             "linecolor": "white",
             "minorgridcolor": "white",
             "startlinecolor": "#2a3f5f"
            },
            "baxis": {
             "endlinecolor": "#2a3f5f",
             "gridcolor": "white",
             "linecolor": "white",
             "minorgridcolor": "white",
             "startlinecolor": "#2a3f5f"
            },
            "type": "carpet"
           }
          ],
          "choropleth": [
           {
            "colorbar": {
             "outlinewidth": 0,
             "ticks": ""
            },
            "type": "choropleth"
           }
          ],
          "contourcarpet": [
           {
            "colorbar": {
             "outlinewidth": 0,
             "ticks": ""
            },
            "type": "contourcarpet"
           }
          ],
          "contour": [
           {
            "colorbar": {
             "outlinewidth": 0,
             "ticks": ""
            },
            "colorscale": [
             [
              0.0,
              "#0d0887"
             ],
             [
              0.1111111111111111,
              "#46039f"
             ],
             [
              0.2222222222222222,
              "#7201a8"
             ],
             [
              0.3333333333333333,
              "#9c179e"
             ],
             [
              0.4444444444444444,
              "#bd3786"
             ],
             [
              0.5555555555555556,
              "#d8576b"
             ],
             [
              0.6666666666666666,
              "#ed7953"
             ],
             [
              0.7777777777777778,
              "#fb9f3a"
             ],
             [
              0.8888888888888888,
              "#fdca26"
             ],
             [
              1.0,
              "#f0f921"
             ]
            ],
            "type": "contour"
           }
          ],
          "heatmapgl": [
           {
            "colorbar": {
             "outlinewidth": 0,
             "ticks": ""
            },
            "colorscale": [
             [
              0.0,
              "#0d0887"
             ],
             [
              0.1111111111111111,
              "#46039f"
             ],
             [
              0.2222222222222222,
              "#7201a8"
             ],
             [
              0.3333333333333333,
              "#9c179e"
             ],
             [
              0.4444444444444444,
              "#bd3786"
             ],
             [
              0.5555555555555556,
              "#d8576b"
             ],
             [
              0.6666666666666666,
              "#ed7953"
             ],
             [
              0.7777777777777778,
              "#fb9f3a"
             ],
             [
              0.8888888888888888,
              "#fdca26"
             ],
             [
              1.0,
              "#f0f921"
             ]
            ],
            "type": "heatmapgl"
           }
          ],
          "heatmap": [
           {
            "colorbar": {
             "outlinewidth": 0,
             "ticks": ""
            },
            "colorscale": [
             [
              0.0,
              "#0d0887"
             ],
             [
              0.1111111111111111,
              "#46039f"
             ],
             [
              0.2222222222222222,
              "#7201a8"
             ],
             [
              0.3333333333333333,
              "#9c179e"
             ],
             [
              0.4444444444444444,
              "#bd3786"
             ],
             [
              0.5555555555555556,
              "#d8576b"
             ],
             [
              0.6666666666666666,
              "#ed7953"
             ],
             [
              0.7777777777777778,
              "#fb9f3a"
             ],
             [
              0.8888888888888888,
              "#fdca26"
             ],
             [
              1.0,
              "#f0f921"
             ]
            ],
            "type": "heatmap"
           }
          ],
          "histogram2dcontour": [
           {
            "colorbar": {
             "outlinewidth": 0,
             "ticks": ""
            },
            "colorscale": [
             [
              0.0,
              "#0d0887"
             ],
             [
              0.1111111111111111,
              "#46039f"
             ],
             [
              0.2222222222222222,
              "#7201a8"
             ],
             [
              0.3333333333333333,
              "#9c179e"
             ],
             [
              0.4444444444444444,
              "#bd3786"
             ],
             [
              0.5555555555555556,
              "#d8576b"
             ],
             [
              0.6666666666666666,
              "#ed7953"
             ],
             [
              0.7777777777777778,
              "#fb9f3a"
             ],
             [
              0.8888888888888888,
              "#fdca26"
             ],
             [
              1.0,
              "#f0f921"
             ]
            ],
            "type": "histogram2dcontour"
           }
          ],
          "histogram2d": [
           {
            "colorbar": {
             "outlinewidth": 0,
             "ticks": ""
            },
            "colorscale": [
             [
              0.0,
              "#0d0887"
             ],
             [
              0.1111111111111111,
              "#46039f"
             ],
             [
              0.2222222222222222,
              "#7201a8"
             ],
             [
              0.3333333333333333,
              "#9c179e"
             ],
             [
              0.4444444444444444,
              "#bd3786"
             ],
             [
              0.5555555555555556,
              "#d8576b"
             ],
             [
              0.6666666666666666,
              "#ed7953"
             ],
             [
              0.7777777777777778,
              "#fb9f3a"
             ],
             [
              0.8888888888888888,
              "#fdca26"
             ],
             [
              1.0,
              "#f0f921"
             ]
            ],
            "type": "histogram2d"
           }
          ],
          "histogram": [
           {
            "marker": {
             "pattern": {
              "fillmode": "overlay",
              "size": 10,
              "solidity": 0.2
             }
            },
            "type": "histogram"
           }
          ],
          "mesh3d": [
           {
            "colorbar": {
             "outlinewidth": 0,
             "ticks": ""
            },
            "type": "mesh3d"
           }
          ],
          "parcoords": [
           {
            "line": {
             "colorbar": {
              "outlinewidth": 0,
              "ticks": ""
             }
            },
            "type": "parcoords"
           }
          ],
          "pie": [
           {
            "automargin": true,
            "type": "pie"
           }
          ],
          "scatter3d": [
           {
            "line": {
             "colorbar": {
              "outlinewidth": 0,
              "ticks": ""
             }
            },
            "marker": {
             "colorbar": {
              "outlinewidth": 0,
              "ticks": ""
             }
            },
            "type": "scatter3d"
           }
          ],
          "scattercarpet": [
           {
            "marker": {
             "colorbar": {
              "outlinewidth": 0,
              "ticks": ""
             }
            },
            "type": "scattercarpet"
           }
          ],
          "scattergeo": [
           {
            "marker": {
             "colorbar": {
              "outlinewidth": 0,
              "ticks": ""
             }
            },
            "type": "scattergeo"
           }
          ],
          "scattergl": [
           {
            "marker": {
             "colorbar": {
              "outlinewidth": 0,
              "ticks": ""
             }
            },
            "type": "scattergl"
           }
          ],
          "scattermapbox": [
           {
            "marker": {
             "colorbar": {
              "outlinewidth": 0,
              "ticks": ""
             }
            },
            "type": "scattermapbox"
           }
          ],
          "scatterpolargl": [
           {
            "marker": {
             "colorbar": {
              "outlinewidth": 0,
              "ticks": ""
             }
            },
            "type": "scatterpolargl"
           }
          ],
          "scatterpolar": [
           {
            "marker": {
             "colorbar": {
              "outlinewidth": 0,
              "ticks": ""
             }
            },
            "type": "scatterpolar"
           }
          ],
          "scatter": [
           {
            "fillpattern": {
             "fillmode": "overlay",
             "size": 10,
             "solidity": 0.2
            },
            "type": "scatter"
           }
          ],
          "scatterternary": [
           {
            "marker": {
             "colorbar": {
              "outlinewidth": 0,
              "ticks": ""
             }
            },
            "type": "scatterternary"
           }
          ],
          "surface": [
           {
            "colorbar": {
             "outlinewidth": 0,
             "ticks": ""
            },
            "colorscale": [
             [
              0.0,
              "#0d0887"
             ],
             [
              0.1111111111111111,
              "#46039f"
             ],
             [
              0.2222222222222222,
              "#7201a8"
             ],
             [
              0.3333333333333333,
              "#9c179e"
             ],
             [
              0.4444444444444444,
              "#bd3786"
             ],
             [
              0.5555555555555556,
              "#d8576b"
             ],
             [
              0.6666666666666666,
              "#ed7953"
             ],
             [
              0.7777777777777778,
              "#fb9f3a"
             ],
             [
              0.8888888888888888,
              "#fdca26"
             ],
             [
              1.0,
              "#f0f921"
             ]
            ],
            "type": "surface"
           }
          ],
          "table": [
           {
            "cells": {
             "fill": {
              "color": "#EBF0F8"
             },
             "line": {
              "color": "white"
             }
            },
            "header": {
             "fill": {
              "color": "#C8D4E3"
             },
             "line": {
              "color": "white"
             }
            },
            "type": "table"
           }
          ]
         },
         "layout": {
          "annotationdefaults": {
           "arrowcolor": "#2a3f5f",
           "arrowhead": 0,
           "arrowwidth": 1
          },
          "autotypenumbers": "strict",
          "coloraxis": {
           "colorbar": {
            "outlinewidth": 0,
            "ticks": ""
           }
          },
          "colorscale": {
           "diverging": [
            [
             0,
             "#8e0152"
            ],
            [
             0.1,
             "#c51b7d"
            ],
            [
             0.2,
             "#de77ae"
            ],
            [
             0.3,
             "#f1b6da"
            ],
            [
             0.4,
             "#fde0ef"
            ],
            [
             0.5,
             "#f7f7f7"
            ],
            [
             0.6,
             "#e6f5d0"
            ],
            [
             0.7,
             "#b8e186"
            ],
            [
             0.8,
             "#7fbc41"
            ],
            [
             0.9,
             "#4d9221"
            ],
            [
             1,
             "#276419"
            ]
           ],
           "sequential": [
            [
             0.0,
             "#0d0887"
            ],
            [
             0.1111111111111111,
             "#46039f"
            ],
            [
             0.2222222222222222,
             "#7201a8"
            ],
            [
             0.3333333333333333,
             "#9c179e"
            ],
            [
             0.4444444444444444,
             "#bd3786"
            ],
            [
             0.5555555555555556,
             "#d8576b"
            ],
            [
             0.6666666666666666,
             "#ed7953"
            ],
            [
             0.7777777777777778,
             "#fb9f3a"
            ],
            [
             0.8888888888888888,
             "#fdca26"
            ],
            [
             1.0,
             "#f0f921"
            ]
           ],
           "sequentialminus": [
            [
             0.0,
             "#0d0887"
            ],
            [
             0.1111111111111111,
             "#46039f"
            ],
            [
             0.2222222222222222,
             "#7201a8"
            ],
            [
             0.3333333333333333,
             "#9c179e"
            ],
            [
             0.4444444444444444,
             "#bd3786"
            ],
            [
             0.5555555555555556,
             "#d8576b"
            ],
            [
             0.6666666666666666,
             "#ed7953"
            ],
            [
             0.7777777777777778,
             "#fb9f3a"
            ],
            [
             0.8888888888888888,
             "#fdca26"
            ],
            [
             1.0,
             "#f0f921"
            ]
           ]
          },
          "colorway": [
           "#636efa",
           "#EF553B",
           "#00cc96",
           "#ab63fa",
           "#FFA15A",
           "#19d3f3",
           "#FF6692",
           "#B6E880",
           "#FF97FF",
           "#FECB52"
          ],
          "font": {
           "color": "#2a3f5f"
          },
          "geo": {
           "bgcolor": "white",
           "lakecolor": "white",
           "landcolor": "#E5ECF6",
           "showlakes": true,
           "showland": true,
           "subunitcolor": "white"
          },
          "hoverlabel": {
           "align": "left"
          },
          "hovermode": "closest",
          "mapbox": {
           "style": "light"
          },
          "paper_bgcolor": "white",
          "plot_bgcolor": "#E5ECF6",
          "polar": {
           "angularaxis": {
            "gridcolor": "white",
            "linecolor": "white",
            "ticks": ""
           },
           "bgcolor": "#E5ECF6",
           "radialaxis": {
            "gridcolor": "white",
            "linecolor": "white",
            "ticks": ""
           }
          },
          "scene": {
           "xaxis": {
            "backgroundcolor": "#E5ECF6",
            "gridcolor": "white",
            "gridwidth": 2,
            "linecolor": "white",
            "showbackground": true,
            "ticks": "",
            "zerolinecolor": "white"
           },
           "yaxis": {
            "backgroundcolor": "#E5ECF6",
            "gridcolor": "white",
            "gridwidth": 2,
            "linecolor": "white",
            "showbackground": true,
            "ticks": "",
            "zerolinecolor": "white"
           },
           "zaxis": {
            "backgroundcolor": "#E5ECF6",
            "gridcolor": "white",
            "gridwidth": 2,
            "linecolor": "white",
            "showbackground": true,
            "ticks": "",
            "zerolinecolor": "white"
           }
          },
          "shapedefaults": {
           "line": {
            "color": "#2a3f5f"
           }
          },
          "ternary": {
           "aaxis": {
            "gridcolor": "white",
            "linecolor": "white",
            "ticks": ""
           },
           "baxis": {
            "gridcolor": "white",
            "linecolor": "white",
            "ticks": ""
           },
           "bgcolor": "#E5ECF6",
           "caxis": {
            "gridcolor": "white",
            "linecolor": "white",
            "ticks": ""
           }
          },
          "title": {
           "x": 0.05
          },
          "xaxis": {
           "automargin": true,
           "gridcolor": "white",
           "linecolor": "white",
           "ticks": "",
           "title": {
            "standoff": 15
           },
           "zerolinecolor": "white",
           "zerolinewidth": 2
          },
          "yaxis": {
           "automargin": true,
           "gridcolor": "white",
           "linecolor": "white",
           "ticks": "",
           "title": {
            "standoff": 15
           },
           "zerolinecolor": "white",
           "zerolinewidth": 2
          }
         }
        },
        "xaxis": {
         "title": {
          "text": "Risk (Standard Deviation)"
         },
         "tickformat": ".0%"
        },
        "yaxis": {
         "title": {
          "text": "Investment Return Average (last 5 years)"
         },
         "tickformat": ".0%"
        },
        "legend": {
         "x": 1,
         "y": 1
        },
        "title": {
         "text": "Efficient Frontier"
        },
        "hovermode": "closest"
       },
       "config": {
        "plotlyServerURL": "https://plot.ly"
       }
      },
      "text/html": [
       "<div>                            <div id=\"83065c4a-5f0c-4fd5-8706-2c939a7bceeb\" class=\"plotly-graph-div\" style=\"height:525px; width:100%;\"></div>            <script type=\"text/javascript\">                require([\"plotly\"], function(Plotly) {                    window.PLOTLYENV=window.PLOTLYENV || {};                                    if (document.getElementById(\"83065c4a-5f0c-4fd5-8706-2c939a7bceeb\")) {                    Plotly.newPlot(                        \"83065c4a-5f0c-4fd5-8706-2c939a7bceeb\",                        [{\"marker\":{\"color\":\"blue\",\"size\":6},\"mode\":\"markers+text\",\"showlegend\":false,\"textposition\":\"top center\",\"x\":[0.28653988714651407],\"y\":[0.05766929258778686],\"type\":\"scatter\"},{\"marker\":{\"color\":\"blue\",\"size\":6},\"mode\":\"markers+text\",\"showlegend\":false,\"textposition\":\"top center\",\"x\":[0.3653982931427992],\"y\":[0.06748001656313862],\"type\":\"scatter\"},{\"marker\":{\"color\":\"blue\",\"size\":6},\"mode\":\"markers+text\",\"showlegend\":false,\"textposition\":\"top center\",\"x\":[0.24918227380143698],\"y\":[0.0561467155750226],\"type\":\"scatter\"},{\"marker\":{\"color\":\"blue\",\"size\":6},\"mode\":\"markers+text\",\"showlegend\":false,\"textposition\":\"top center\",\"x\":[0.24965973219417786],\"y\":[0.06543774763876509],\"type\":\"scatter\"},{\"marker\":{\"color\":\"blue\",\"size\":6},\"mode\":\"markers+text\",\"showlegend\":false,\"textposition\":\"top center\",\"x\":[0.2977680552637429],\"y\":[0.05287511446311277],\"type\":\"scatter\"},{\"marker\":{\"color\":\"blue\",\"size\":6},\"mode\":\"markers+text\",\"showlegend\":false,\"textposition\":\"top center\",\"x\":[0.47027266252747224],\"y\":[0.1024421178022068],\"type\":\"scatter\"},{\"marker\":{\"color\":\"blue\",\"size\":6},\"mode\":\"markers+text\",\"showlegend\":false,\"textposition\":\"top center\",\"x\":[0.3227860528483419],\"y\":[0.09044157378094053],\"type\":\"scatter\"},{\"marker\":{\"color\":\"blue\",\"size\":6},\"mode\":\"markers+text\",\"showlegend\":false,\"textposition\":\"top center\",\"x\":[0.2592616330109683],\"y\":[0.12382958801318122],\"type\":\"scatter\"},{\"marker\":{\"color\":\"blue\",\"size\":6},\"mode\":\"markers+text\",\"showlegend\":false,\"textposition\":\"top center\",\"x\":[0.37715879434819316],\"y\":[0.07873299354029006],\"type\":\"scatter\"},{\"marker\":{\"color\":\"blue\",\"size\":6},\"mode\":\"markers+text\",\"showlegend\":false,\"textposition\":\"top center\",\"x\":[0.44905207622957294],\"y\":[0.09242253912528353],\"type\":\"scatter\"},{\"marker\":{\"color\":\"blue\",\"size\":6},\"mode\":\"markers+text\",\"showlegend\":false,\"textposition\":\"top center\",\"x\":[0.31264857430710646],\"y\":[0.0759189755468972],\"type\":\"scatter\"},{\"marker\":{\"color\":\"blue\",\"size\":6},\"mode\":\"markers+text\",\"showlegend\":false,\"textposition\":\"top center\",\"x\":[0.36360041676125776],\"y\":[0.13289637397465137],\"type\":\"scatter\"},{\"marker\":{\"color\":\"blue\",\"size\":6},\"mode\":\"markers+text\",\"showlegend\":false,\"textposition\":\"top center\",\"x\":[0.6931482601668462],\"y\":[0.17371781947141218],\"type\":\"scatter\"},{\"marker\":{\"color\":\"blue\",\"size\":6},\"mode\":\"markers+text\",\"showlegend\":false,\"textposition\":\"top center\",\"x\":[0.25000616047302143],\"y\":[0.10084311342611829],\"type\":\"scatter\"},{\"marker\":{\"color\":\"blue\",\"size\":6},\"mode\":\"markers+text\",\"showlegend\":false,\"textposition\":\"top center\",\"x\":[0.4102893262340885],\"y\":[0.26410942626166367],\"type\":\"scatter\"},{\"marker\":{\"color\":\"blue\",\"size\":6},\"mode\":\"markers+text\",\"showlegend\":false,\"textposition\":\"top center\",\"x\":[0.3666721909782119],\"y\":[0.07219764616104096],\"type\":\"scatter\"},{\"marker\":{\"color\":\"blue\",\"size\":6},\"mode\":\"markers+text\",\"showlegend\":false,\"textposition\":\"top center\",\"x\":[0.4302354479635051],\"y\":[0.11451546437438309],\"type\":\"scatter\"},{\"marker\":{\"color\":\"blue\",\"size\":6},\"mode\":\"markers+text\",\"showlegend\":false,\"textposition\":\"top center\",\"x\":[0.5715563132121718],\"y\":[0.09166605562635977],\"type\":\"scatter\"},{\"marker\":{\"color\":\"blue\",\"size\":6},\"mode\":\"markers+text\",\"showlegend\":false,\"textposition\":\"top center\",\"x\":[0.2909082159635921],\"y\":[0.10020147389227518],\"type\":\"scatter\"},{\"marker\":{\"color\":\"blue\",\"size\":6},\"mode\":\"markers+text\",\"showlegend\":false,\"textposition\":\"top center\",\"x\":[0.3469451108695494],\"y\":[0.11228583575615536],\"type\":\"scatter\"},{\"marker\":{\"color\":\"blue\",\"size\":6},\"mode\":\"markers+text\",\"showlegend\":false,\"textposition\":\"top center\",\"x\":[0.4371669823079984],\"y\":[0.05852879250367171],\"type\":\"scatter\"},{\"marker\":{\"color\":\"blue\",\"size\":6},\"mode\":\"markers+text\",\"showlegend\":false,\"textposition\":\"top center\",\"x\":[0.5216544896749955],\"y\":[0.08304007517434564],\"type\":\"scatter\"},{\"marker\":{\"color\":\"blue\",\"size\":6},\"mode\":\"markers+text\",\"showlegend\":false,\"textposition\":\"top center\",\"x\":[0.6228881808770874],\"y\":[0.05577124296048974],\"type\":\"scatter\"},{\"marker\":{\"color\":\"blue\",\"size\":6},\"mode\":\"markers+text\",\"showlegend\":false,\"textposition\":\"top center\",\"x\":[0.3083808533998793],\"y\":[0.12272012919071495],\"type\":\"scatter\"},{\"marker\":{\"color\":\"blue\",\"size\":6},\"mode\":\"markers+text\",\"showlegend\":false,\"textposition\":\"top center\",\"x\":[0.46590970073365817],\"y\":[0.07701542663350369],\"type\":\"scatter\"},{\"marker\":{\"color\":\"blue\",\"size\":6},\"mode\":\"markers+text\",\"showlegend\":false,\"textposition\":\"top center\",\"x\":[0.3686024103090489],\"y\":[0.06034128823368001],\"type\":\"scatter\"},{\"marker\":{\"color\":\"blue\",\"size\":6},\"mode\":\"markers+text\",\"showlegend\":false,\"textposition\":\"top center\",\"x\":[0.30426865349103793],\"y\":[0.09368782148175314],\"type\":\"scatter\"},{\"marker\":{\"color\":\"blue\",\"size\":6},\"mode\":\"markers+text\",\"showlegend\":false,\"textposition\":\"top center\",\"x\":[0.27486026427450266],\"y\":[0.12547860798586608],\"type\":\"scatter\"},{\"marker\":{\"color\":\"blue\",\"size\":6},\"mode\":\"markers+text\",\"showlegend\":false,\"textposition\":\"top center\",\"x\":[0.2778223377376578],\"y\":[0.0616217865380182],\"type\":\"scatter\"},{\"marker\":{\"color\":\"blue\",\"size\":6},\"mode\":\"markers+text\",\"showlegend\":false,\"textposition\":\"top center\",\"x\":[0.3438839770801334],\"y\":[0.06281975462403722],\"type\":\"scatter\"},{\"marker\":{\"color\":\"blue\",\"size\":6},\"mode\":\"markers+text\",\"showlegend\":false,\"textposition\":\"top center\",\"x\":[0.4399287458188483],\"y\":[0.05208598728386704],\"type\":\"scatter\"},{\"marker\":{\"color\":\"blue\",\"size\":6},\"mode\":\"markers+text\",\"showlegend\":false,\"textposition\":\"top center\",\"x\":[0.4591673356525786],\"y\":[0.1546880166659108],\"type\":\"scatter\"},{\"marker\":{\"color\":\"blue\",\"size\":6},\"mode\":\"markers+text\",\"showlegend\":false,\"textposition\":\"top center\",\"x\":[0.47469527967572445],\"y\":[0.10723444152928985],\"type\":\"scatter\"},{\"marker\":{\"color\":\"blue\",\"size\":6},\"mode\":\"markers+text\",\"showlegend\":false,\"textposition\":\"top center\",\"x\":[0.6710372601843485],\"y\":[0.09835428854128136],\"type\":\"scatter\"},{\"marker\":{\"color\":\"blue\",\"size\":6},\"mode\":\"markers+text\",\"showlegend\":false,\"textposition\":\"top center\",\"x\":[0.335244281199045],\"y\":[0.11702114120413754],\"type\":\"scatter\"},{\"marker\":{\"color\":\"blue\",\"size\":6},\"mode\":\"markers+text\",\"showlegend\":false,\"textposition\":\"top center\",\"x\":[0.29147473112112576],\"y\":[0.1377992093556355],\"type\":\"scatter\"},{\"marker\":{\"color\":\"blue\",\"size\":6},\"mode\":\"markers+text\",\"showlegend\":false,\"textposition\":\"top center\",\"x\":[0.31443108429680067],\"y\":[0.05527064673822024],\"type\":\"scatter\"},{\"marker\":{\"color\":\"blue\",\"size\":6},\"mode\":\"markers+text\",\"showlegend\":false,\"textposition\":\"top center\",\"x\":[0.34814634090771873],\"y\":[0.1442815502502146],\"type\":\"scatter\"},{\"marker\":{\"color\":\"blue\",\"size\":6},\"mode\":\"markers+text\",\"showlegend\":false,\"textposition\":\"top center\",\"x\":[0.5050731134983187],\"y\":[0.0658174476027773],\"type\":\"scatter\"},{\"marker\":{\"color\":\"blue\",\"size\":6},\"mode\":\"markers+text\",\"showlegend\":false,\"textposition\":\"top center\",\"x\":[0.33940621919943215],\"y\":[0.1873117568932796],\"type\":\"scatter\"},{\"marker\":{\"color\":\"blue\",\"size\":6},\"mode\":\"markers+text\",\"showlegend\":false,\"textposition\":\"top center\",\"x\":[0.39200627311910996],\"y\":[0.06893977469041968],\"type\":\"scatter\"},{\"marker\":{\"color\":\"blue\",\"size\":6},\"mode\":\"markers+text\",\"showlegend\":false,\"textposition\":\"top center\",\"x\":[0.31347411473731135],\"y\":[0.07347012414406495],\"type\":\"scatter\"},{\"marker\":{\"color\":\"blue\",\"size\":6},\"mode\":\"markers+text\",\"showlegend\":false,\"textposition\":\"top center\",\"x\":[0.5076516534761194],\"y\":[0.0751853352235139],\"type\":\"scatter\"},{\"marker\":{\"color\":\"blue\",\"size\":6},\"mode\":\"markers+text\",\"showlegend\":false,\"textposition\":\"top center\",\"x\":[0.37059903022510327],\"y\":[0.05887444154774912],\"type\":\"scatter\"},{\"marker\":{\"color\":\"blue\",\"size\":6},\"mode\":\"markers+text\",\"showlegend\":false,\"textposition\":\"top center\",\"x\":[0.37209890155219355],\"y\":[0.0569875352340965],\"type\":\"scatter\"},{\"marker\":{\"color\":\"blue\",\"size\":6},\"mode\":\"markers+text\",\"showlegend\":false,\"textposition\":\"top center\",\"x\":[0.5510176914711928],\"y\":[0.059607221210075334],\"type\":\"scatter\"},{\"marker\":{\"color\":\"blue\",\"size\":6},\"mode\":\"markers+text\",\"showlegend\":false,\"textposition\":\"top center\",\"x\":[0.3875473108773229],\"y\":[0.06437422629704814],\"type\":\"scatter\"},{\"marker\":{\"color\":\"blue\",\"size\":6},\"mode\":\"markers+text\",\"showlegend\":false,\"textposition\":\"top center\",\"x\":[0.24706367597542],\"y\":[0.08281704776043552],\"type\":\"scatter\"},{\"marker\":{\"color\":\"blue\",\"size\":6},\"mode\":\"markers+text\",\"showlegend\":false,\"textposition\":\"top center\",\"x\":[0.49132457229722903],\"y\":[0.12951889225080238],\"type\":\"scatter\"},{\"marker\":{\"color\":\"blue\",\"size\":6},\"mode\":\"markers+text\",\"showlegend\":false,\"textposition\":\"top center\",\"x\":[0.35341778238665067],\"y\":[0.056006249850026],\"type\":\"scatter\"},{\"marker\":{\"color\":\"blue\",\"size\":6},\"mode\":\"markers+text\",\"showlegend\":false,\"textposition\":\"top center\",\"x\":[0.277520578881836],\"y\":[0.061874186139446286],\"type\":\"scatter\"},{\"marker\":{\"color\":\"blue\",\"size\":6},\"mode\":\"markers+text\",\"showlegend\":false,\"textposition\":\"top center\",\"x\":[0.5326956762396261],\"y\":[0.1361635228723017],\"type\":\"scatter\"},{\"marker\":{\"color\":\"blue\",\"size\":6},\"mode\":\"markers+text\",\"showlegend\":false,\"textposition\":\"top center\",\"x\":[0.46195689134211554],\"y\":[0.07629088420203001],\"type\":\"scatter\"},{\"marker\":{\"color\":\"blue\",\"size\":6},\"mode\":\"markers+text\",\"showlegend\":false,\"textposition\":\"top center\",\"x\":[0.299803058396472],\"y\":[0.09186976397717084],\"type\":\"scatter\"},{\"marker\":{\"color\":\"blue\",\"size\":6},\"mode\":\"markers+text\",\"showlegend\":false,\"textposition\":\"top center\",\"x\":[0.2958228488577605],\"y\":[0.05505650548976915],\"type\":\"scatter\"},{\"marker\":{\"color\":\"blue\",\"size\":6},\"mode\":\"markers+text\",\"showlegend\":false,\"textposition\":\"top center\",\"x\":[0.28236318881188],\"y\":[0.08504267074691096],\"type\":\"scatter\"},{\"marker\":{\"color\":\"blue\",\"size\":6},\"mode\":\"markers+text\",\"showlegend\":false,\"textposition\":\"top center\",\"x\":[0.27594282983638907],\"y\":[0.16245179821950195],\"type\":\"scatter\"},{\"marker\":{\"color\":\"blue\",\"size\":6},\"mode\":\"markers+text\",\"showlegend\":false,\"textposition\":\"top center\",\"x\":[0.4512823755870785],\"y\":[0.06675532010737473],\"type\":\"scatter\"},{\"marker\":{\"color\":\"blue\",\"size\":6},\"mode\":\"markers+text\",\"showlegend\":false,\"textposition\":\"top center\",\"x\":[0.33831594718241725],\"y\":[0.0722427931463705],\"type\":\"scatter\"},{\"marker\":{\"color\":\"blue\",\"size\":6},\"mode\":\"markers+text\",\"showlegend\":false,\"textposition\":\"top center\",\"x\":[0.40858384241972573],\"y\":[0.12862832043180106],\"type\":\"scatter\"},{\"marker\":{\"color\":\"blue\",\"size\":6},\"mode\":\"markers+text\",\"showlegend\":false,\"textposition\":\"top center\",\"x\":[0.29632267509248045],\"y\":[0.05068129531518806],\"type\":\"scatter\"},{\"marker\":{\"color\":\"blue\",\"size\":6},\"mode\":\"markers+text\",\"showlegend\":false,\"textposition\":\"top center\",\"x\":[0.29860336051520664],\"y\":[0.10148979752809328],\"type\":\"scatter\"},{\"marker\":{\"color\":\"blue\",\"size\":6},\"mode\":\"markers+text\",\"showlegend\":false,\"textposition\":\"top center\",\"x\":[0.3443367848762563],\"y\":[0.06723366146383847],\"type\":\"scatter\"},{\"marker\":{\"color\":\"blue\",\"size\":6},\"mode\":\"markers+text\",\"showlegend\":false,\"textposition\":\"top center\",\"x\":[0.34497204862115766],\"y\":[0.10832218188268872],\"type\":\"scatter\"},{\"marker\":{\"color\":\"blue\",\"size\":6},\"mode\":\"markers+text\",\"showlegend\":false,\"textposition\":\"top center\",\"x\":[0.601246867750781],\"y\":[0.14016237371591522],\"type\":\"scatter\"},{\"marker\":{\"color\":\"blue\",\"size\":6},\"mode\":\"markers+text\",\"showlegend\":false,\"textposition\":\"top center\",\"x\":[0.2603950295986935],\"y\":[0.11725410298285222],\"type\":\"scatter\"},{\"marker\":{\"color\":\"blue\",\"size\":6},\"mode\":\"markers+text\",\"showlegend\":false,\"textposition\":\"top center\",\"x\":[0.2773363586067185],\"y\":[0.05791117520563338],\"type\":\"scatter\"},{\"marker\":{\"color\":\"blue\",\"size\":6},\"mode\":\"markers+text\",\"showlegend\":false,\"textposition\":\"top center\",\"x\":[0.47718767403450146],\"y\":[0.11504053552678273],\"type\":\"scatter\"},{\"marker\":{\"color\":\"blue\",\"size\":6},\"mode\":\"markers+text\",\"showlegend\":false,\"textposition\":\"top center\",\"x\":[0.46390767476274536],\"y\":[0.0840978010525848],\"type\":\"scatter\"},{\"marker\":{\"color\":\"blue\",\"size\":6},\"mode\":\"markers+text\",\"showlegend\":false,\"textposition\":\"top center\",\"x\":[0.360029736331097],\"y\":[0.143153772076553],\"type\":\"scatter\"},{\"marker\":{\"color\":\"blue\",\"size\":6},\"mode\":\"markers+text\",\"showlegend\":false,\"textposition\":\"top center\",\"x\":[0.4084283936191146],\"y\":[0.0776539295538734],\"type\":\"scatter\"},{\"marker\":{\"color\":\"blue\",\"size\":6},\"mode\":\"markers+text\",\"showlegend\":false,\"textposition\":\"top center\",\"x\":[0.35904594041485105],\"y\":[0.1112661058359139],\"type\":\"scatter\"},{\"marker\":{\"color\":\"blue\",\"size\":6},\"mode\":\"markers+text\",\"showlegend\":false,\"textposition\":\"top center\",\"x\":[0.34978073450071284],\"y\":[0.09470414219914325],\"type\":\"scatter\"},{\"marker\":{\"color\":\"blue\",\"size\":6},\"mode\":\"markers+text\",\"showlegend\":false,\"textposition\":\"top center\",\"x\":[0.2901768661536817],\"y\":[0.12992373585769834],\"type\":\"scatter\"},{\"marker\":{\"color\":\"blue\",\"size\":6},\"mode\":\"markers+text\",\"showlegend\":false,\"textposition\":\"top center\",\"x\":[0.9666189895303986],\"y\":[0.16985003836021084],\"type\":\"scatter\"},{\"marker\":{\"color\":\"blue\",\"size\":6},\"mode\":\"markers+text\",\"showlegend\":false,\"textposition\":\"top center\",\"x\":[0.4564973153917767],\"y\":[0.07511316394382228],\"type\":\"scatter\"},{\"marker\":{\"color\":\"blue\",\"size\":6},\"mode\":\"markers+text\",\"showlegend\":false,\"textposition\":\"top center\",\"x\":[0.3268184418508852],\"y\":[0.1070007051500006],\"type\":\"scatter\"},{\"marker\":{\"color\":\"blue\",\"size\":6},\"mode\":\"markers+text\",\"showlegend\":false,\"textposition\":\"top center\",\"x\":[0.3801001755174345],\"y\":[0.09350943543479606],\"type\":\"scatter\"},{\"marker\":{\"color\":\"blue\",\"size\":6},\"mode\":\"markers+text\",\"showlegend\":false,\"textposition\":\"top center\",\"x\":[0.8186836163272619],\"y\":[0.05524746459518948],\"type\":\"scatter\"},{\"marker\":{\"color\":\"blue\",\"size\":6},\"mode\":\"markers+text\",\"showlegend\":false,\"textposition\":\"top center\",\"x\":[0.2886984049592295],\"y\":[0.0751857454943019],\"type\":\"scatter\"},{\"marker\":{\"color\":\"blue\",\"size\":6},\"mode\":\"markers+text\",\"showlegend\":false,\"textposition\":\"top center\",\"x\":[0.257482482028649],\"y\":[0.051560054819841605],\"type\":\"scatter\"},{\"marker\":{\"color\":\"blue\",\"size\":6},\"mode\":\"markers+text\",\"showlegend\":false,\"textposition\":\"top center\",\"x\":[0.483813427491291],\"y\":[0.12225244885860898],\"type\":\"scatter\"},{\"marker\":{\"color\":\"blue\",\"size\":6},\"mode\":\"markers+text\",\"showlegend\":false,\"textposition\":\"top center\",\"x\":[0.2635264911965112],\"y\":[0.14803133662509804],\"type\":\"scatter\"},{\"marker\":{\"color\":\"blue\",\"size\":6},\"mode\":\"markers+text\",\"showlegend\":false,\"textposition\":\"top center\",\"x\":[0.2668032293516303],\"y\":[0.10741292623986443],\"type\":\"scatter\"},{\"marker\":{\"color\":\"blue\",\"size\":6},\"mode\":\"markers+text\",\"showlegend\":false,\"textposition\":\"top center\",\"x\":[0.28529438562782744],\"y\":[0.1501007493433879],\"type\":\"scatter\"},{\"marker\":{\"color\":\"blue\",\"size\":6},\"mode\":\"markers+text\",\"showlegend\":false,\"textposition\":\"top center\",\"x\":[0.8022913062063508],\"y\":[0.05920245624025644],\"type\":\"scatter\"},{\"marker\":{\"color\":\"blue\",\"size\":6},\"mode\":\"markers+text\",\"showlegend\":false,\"textposition\":\"top center\",\"x\":[0.28486027265348507],\"y\":[0.1759354301926006],\"type\":\"scatter\"},{\"marker\":{\"color\":\"blue\",\"size\":6},\"mode\":\"markers+text\",\"showlegend\":false,\"textposition\":\"top center\",\"x\":[0.34284562153069154],\"y\":[0.08232115222810132],\"type\":\"scatter\"},{\"marker\":{\"color\":\"blue\",\"size\":6},\"mode\":\"markers+text\",\"showlegend\":false,\"textposition\":\"top center\",\"x\":[0.42006815067801107],\"y\":[0.06549981795341187],\"type\":\"scatter\"},{\"marker\":{\"color\":\"blue\",\"size\":6},\"mode\":\"markers+text\",\"showlegend\":false,\"textposition\":\"top center\",\"x\":[0.360754874396303],\"y\":[0.06484090121566677],\"type\":\"scatter\"},{\"marker\":{\"color\":\"blue\",\"size\":6},\"mode\":\"markers+text\",\"showlegend\":false,\"textposition\":\"top center\",\"x\":[0.52919046804851],\"y\":[0.05183891812939967],\"type\":\"scatter\"},{\"marker\":{\"color\":\"blue\",\"size\":6},\"mode\":\"markers+text\",\"showlegend\":false,\"textposition\":\"top center\",\"x\":[0.38744130894638557],\"y\":[0.09142440513772265],\"type\":\"scatter\"},{\"marker\":{\"color\":\"blue\",\"size\":6},\"mode\":\"markers+text\",\"showlegend\":false,\"textposition\":\"top center\",\"x\":[0.7272821601415228],\"y\":[0.1171135005405195],\"type\":\"scatter\"},{\"marker\":{\"color\":\"blue\",\"size\":6},\"mode\":\"markers+text\",\"showlegend\":false,\"textposition\":\"top center\",\"x\":[0.3128911057803137],\"y\":[0.12173769159151471],\"type\":\"scatter\"},{\"marker\":{\"color\":\"blue\",\"size\":6},\"mode\":\"markers+text\",\"showlegend\":false,\"textposition\":\"top center\",\"x\":[0.23449181386661377],\"y\":[0.06611778958424819],\"type\":\"scatter\"},{\"marker\":{\"color\":\"blue\",\"size\":6},\"mode\":\"markers+text\",\"showlegend\":false,\"textposition\":\"top center\",\"x\":[0.4751202265439764],\"y\":[0.060880767764945665],\"type\":\"scatter\"},{\"marker\":{\"color\":\"blue\",\"size\":6},\"mode\":\"markers+text\",\"showlegend\":false,\"textposition\":\"top center\",\"x\":[0.34997830588164547],\"y\":[0.07959187695210268],\"type\":\"scatter\"},{\"marker\":{\"color\":\"blue\",\"size\":6},\"mode\":\"markers+text\",\"showlegend\":false,\"textposition\":\"top center\",\"x\":[0.30614359634105526],\"y\":[0.1135297108972444],\"type\":\"scatter\"},{\"marker\":{\"color\":\"blue\",\"size\":6},\"mode\":\"markers+text\",\"showlegend\":false,\"textposition\":\"top center\",\"x\":[0.2822728710740403],\"y\":[0.10831172880898743],\"type\":\"scatter\"},{\"marker\":{\"color\":\"blue\",\"size\":6},\"mode\":\"markers+text\",\"showlegend\":false,\"textposition\":\"top center\",\"x\":[0.23601745761188747],\"y\":[0.0561244684068849],\"type\":\"scatter\"},{\"marker\":{\"color\":\"blue\",\"size\":6},\"mode\":\"markers+text\",\"showlegend\":false,\"textposition\":\"top center\",\"x\":[0.5808855965552422],\"y\":[0.08543477885747874],\"type\":\"scatter\"},{\"marker\":{\"color\":\"blue\",\"size\":6},\"mode\":\"markers+text\",\"showlegend\":false,\"textposition\":\"top center\",\"x\":[0.3445566579516852],\"y\":[0.08087336602058426],\"type\":\"scatter\"},{\"marker\":{\"color\":\"blue\",\"size\":6},\"mode\":\"markers+text\",\"showlegend\":false,\"textposition\":\"top center\",\"x\":[0.42164789432123445],\"y\":[0.05257417621036797],\"type\":\"scatter\"},{\"marker\":{\"color\":\"blue\",\"size\":6},\"mode\":\"markers+text\",\"showlegend\":false,\"textposition\":\"top center\",\"x\":[0.307834027166096],\"y\":[0.108912790189017],\"type\":\"scatter\"},{\"marker\":{\"color\":\"blue\",\"size\":6},\"mode\":\"markers+text\",\"showlegend\":false,\"textposition\":\"top center\",\"x\":[0.3667326857004296],\"y\":[0.0861150208632171],\"type\":\"scatter\"},{\"marker\":{\"color\":\"blue\",\"size\":6},\"mode\":\"markers+text\",\"showlegend\":false,\"textposition\":\"top center\",\"x\":[0.33252175305208714],\"y\":[0.2049347026574866],\"type\":\"scatter\"},{\"marker\":{\"color\":\"blue\",\"size\":6},\"mode\":\"markers+text\",\"showlegend\":false,\"textposition\":\"top center\",\"x\":[0.289145690980087],\"y\":[0.2109905264180547],\"type\":\"scatter\"},{\"marker\":{\"color\":\"blue\",\"size\":6},\"mode\":\"markers+text\",\"showlegend\":false,\"textposition\":\"top center\",\"x\":[0.3516106707242945],\"y\":[0.12381290962807179],\"type\":\"scatter\"},{\"marker\":{\"color\":\"blue\",\"size\":6},\"mode\":\"markers+text\",\"showlegend\":false,\"textposition\":\"top center\",\"x\":[0.5865575801152819],\"y\":[0.17854931457681844],\"type\":\"scatter\"},{\"marker\":{\"color\":\"blue\",\"size\":6},\"mode\":\"markers+text\",\"showlegend\":false,\"textposition\":\"top center\",\"x\":[0.3554301370358339],\"y\":[0.05957573344489786],\"type\":\"scatter\"},{\"marker\":{\"color\":\"blue\",\"size\":6},\"mode\":\"markers+text\",\"showlegend\":false,\"textposition\":\"top center\",\"x\":[0.5081613914122105],\"y\":[0.08691156011549084],\"type\":\"scatter\"},{\"marker\":{\"color\":\"blue\",\"size\":6},\"mode\":\"markers+text\",\"showlegend\":false,\"textposition\":\"top center\",\"x\":[0.48109053377532585],\"y\":[0.17471338411489845],\"type\":\"scatter\"},{\"marker\":{\"color\":\"blue\",\"size\":6},\"mode\":\"markers+text\",\"showlegend\":false,\"textposition\":\"top center\",\"x\":[0.4113699054168271],\"y\":[0.1279829687425713],\"type\":\"scatter\"},{\"marker\":{\"color\":\"blue\",\"size\":6},\"mode\":\"markers+text\",\"showlegend\":false,\"textposition\":\"top center\",\"x\":[0.36514072153683885],\"y\":[0.12001553308160351],\"type\":\"scatter\"},{\"marker\":{\"color\":\"red\",\"size\":10,\"symbol\":\"star\"},\"mode\":\"markers\",\"name\":\"Max Sharpe Portfolio\",\"x\":[0.1167161226170067],\"y\":[0.16189289251795783],\"type\":\"scatter\"},{\"line\":{\"color\":\"blue\",\"width\":3},\"mode\":\"lines\",\"name\":\"Efficient Frontier\",\"x\":[0.08862885899154654,0.08862885899154654,0.08862885899154654,0.08862885899154656,0.08862885899154656,0.08862885899154653,0.08862885899154653,0.08862885899154653,0.0886288589915465,0.08862885899154653,0.08862885899154657,0.08862885899154646,0.08862885899154653,0.08862885899154653,0.08862196252856624,0.0887445145674159,0.0890398123313787,0.08950739263872494,0.09015396816958508,0.09095463070994181,0.09190087814391394,0.09297267315626799,0.09420003658476893,0.09552914926826797,0.09698564952046278,0.0985721189617458,0.10028681054468692,0.10212415778691439,0.1040763279020847,0.1061604336931482,0.10837266349863219,0.11069924116162322,0.11313321903726677,0.11574383738026271,0.11850105009707915,0.12145568355173372,0.12457017874959633,0.12786892940817704,0.13131515869478486,0.13503040108031858,0.13905816491118422,0.1433205481850867,0.14784216572127057,0.15260265285758579,0.1575755923906729,0.16275573402531957,0.16816690246335353,0.17380264971097129,0.17990533733964723,0.1865168504240896],\"y\":[0.09665203350686268,0.09665203350686268,0.09665203350686268,0.09665203350686269,0.0966520335068627,0.09665203350686266,0.09665203350686265,0.09665203350686263,0.09665203350686259,0.09665203350686265,0.09665203350686269,0.09665203350686259,0.09665203350686266,0.09665203350686263,0.09737419789633349,0.10070965020453802,0.10404490804747057,0.10738003820252459,0.11071530060818467,0.114050322867233,0.11738516243306338,0.12071973834881618,0.12405656113225676,0.1273916366892301,0.13072667654441414,0.134061844890772,0.13739708499165315,0.14073231220400353,0.1440670861869299,0.14740220265227855,0.1507374669099696,0.15407240255539878,0.15740594561251323,0.1607419071464692,0.16407604258847355,0.16741241062908532,0.1707469506771131,0.1740821352429978,0.1774144496061653,0.18074943505116126,0.18408691893779375,0.18742164522380814,0.19075658526055736,0.1940918420355851,0.1974271096567957,0.20076262282779425,0.20409812754325796,0.20743137657894245,0.2107660954894275,0.21410212029407644],\"type\":\"scatter\"}],                        {\"template\":{\"data\":{\"barpolar\":[{\"marker\":{\"line\":{\"color\":\"#E5ECF6\",\"width\":0.5},\"pattern\":{\"fillmode\":\"overlay\",\"size\":10,\"solidity\":0.2}},\"type\":\"barpolar\"}],\"bar\":[{\"error_x\":{\"color\":\"#2a3f5f\"},\"error_y\":{\"color\":\"#2a3f5f\"},\"marker\":{\"line\":{\"color\":\"#E5ECF6\",\"width\":0.5},\"pattern\":{\"fillmode\":\"overlay\",\"size\":10,\"solidity\":0.2}},\"type\":\"bar\"}],\"carpet\":[{\"aaxis\":{\"endlinecolor\":\"#2a3f5f\",\"gridcolor\":\"white\",\"linecolor\":\"white\",\"minorgridcolor\":\"white\",\"startlinecolor\":\"#2a3f5f\"},\"baxis\":{\"endlinecolor\":\"#2a3f5f\",\"gridcolor\":\"white\",\"linecolor\":\"white\",\"minorgridcolor\":\"white\",\"startlinecolor\":\"#2a3f5f\"},\"type\":\"carpet\"}],\"choropleth\":[{\"colorbar\":{\"outlinewidth\":0,\"ticks\":\"\"},\"type\":\"choropleth\"}],\"contourcarpet\":[{\"colorbar\":{\"outlinewidth\":0,\"ticks\":\"\"},\"type\":\"contourcarpet\"}],\"contour\":[{\"colorbar\":{\"outlinewidth\":0,\"ticks\":\"\"},\"colorscale\":[[0.0,\"#0d0887\"],[0.1111111111111111,\"#46039f\"],[0.2222222222222222,\"#7201a8\"],[0.3333333333333333,\"#9c179e\"],[0.4444444444444444,\"#bd3786\"],[0.5555555555555556,\"#d8576b\"],[0.6666666666666666,\"#ed7953\"],[0.7777777777777778,\"#fb9f3a\"],[0.8888888888888888,\"#fdca26\"],[1.0,\"#f0f921\"]],\"type\":\"contour\"}],\"heatmapgl\":[{\"colorbar\":{\"outlinewidth\":0,\"ticks\":\"\"},\"colorscale\":[[0.0,\"#0d0887\"],[0.1111111111111111,\"#46039f\"],[0.2222222222222222,\"#7201a8\"],[0.3333333333333333,\"#9c179e\"],[0.4444444444444444,\"#bd3786\"],[0.5555555555555556,\"#d8576b\"],[0.6666666666666666,\"#ed7953\"],[0.7777777777777778,\"#fb9f3a\"],[0.8888888888888888,\"#fdca26\"],[1.0,\"#f0f921\"]],\"type\":\"heatmapgl\"}],\"heatmap\":[{\"colorbar\":{\"outlinewidth\":0,\"ticks\":\"\"},\"colorscale\":[[0.0,\"#0d0887\"],[0.1111111111111111,\"#46039f\"],[0.2222222222222222,\"#7201a8\"],[0.3333333333333333,\"#9c179e\"],[0.4444444444444444,\"#bd3786\"],[0.5555555555555556,\"#d8576b\"],[0.6666666666666666,\"#ed7953\"],[0.7777777777777778,\"#fb9f3a\"],[0.8888888888888888,\"#fdca26\"],[1.0,\"#f0f921\"]],\"type\":\"heatmap\"}],\"histogram2dcontour\":[{\"colorbar\":{\"outlinewidth\":0,\"ticks\":\"\"},\"colorscale\":[[0.0,\"#0d0887\"],[0.1111111111111111,\"#46039f\"],[0.2222222222222222,\"#7201a8\"],[0.3333333333333333,\"#9c179e\"],[0.4444444444444444,\"#bd3786\"],[0.5555555555555556,\"#d8576b\"],[0.6666666666666666,\"#ed7953\"],[0.7777777777777778,\"#fb9f3a\"],[0.8888888888888888,\"#fdca26\"],[1.0,\"#f0f921\"]],\"type\":\"histogram2dcontour\"}],\"histogram2d\":[{\"colorbar\":{\"outlinewidth\":0,\"ticks\":\"\"},\"colorscale\":[[0.0,\"#0d0887\"],[0.1111111111111111,\"#46039f\"],[0.2222222222222222,\"#7201a8\"],[0.3333333333333333,\"#9c179e\"],[0.4444444444444444,\"#bd3786\"],[0.5555555555555556,\"#d8576b\"],[0.6666666666666666,\"#ed7953\"],[0.7777777777777778,\"#fb9f3a\"],[0.8888888888888888,\"#fdca26\"],[1.0,\"#f0f921\"]],\"type\":\"histogram2d\"}],\"histogram\":[{\"marker\":{\"pattern\":{\"fillmode\":\"overlay\",\"size\":10,\"solidity\":0.2}},\"type\":\"histogram\"}],\"mesh3d\":[{\"colorbar\":{\"outlinewidth\":0,\"ticks\":\"\"},\"type\":\"mesh3d\"}],\"parcoords\":[{\"line\":{\"colorbar\":{\"outlinewidth\":0,\"ticks\":\"\"}},\"type\":\"parcoords\"}],\"pie\":[{\"automargin\":true,\"type\":\"pie\"}],\"scatter3d\":[{\"line\":{\"colorbar\":{\"outlinewidth\":0,\"ticks\":\"\"}},\"marker\":{\"colorbar\":{\"outlinewidth\":0,\"ticks\":\"\"}},\"type\":\"scatter3d\"}],\"scattercarpet\":[{\"marker\":{\"colorbar\":{\"outlinewidth\":0,\"ticks\":\"\"}},\"type\":\"scattercarpet\"}],\"scattergeo\":[{\"marker\":{\"colorbar\":{\"outlinewidth\":0,\"ticks\":\"\"}},\"type\":\"scattergeo\"}],\"scattergl\":[{\"marker\":{\"colorbar\":{\"outlinewidth\":0,\"ticks\":\"\"}},\"type\":\"scattergl\"}],\"scattermapbox\":[{\"marker\":{\"colorbar\":{\"outlinewidth\":0,\"ticks\":\"\"}},\"type\":\"scattermapbox\"}],\"scatterpolargl\":[{\"marker\":{\"colorbar\":{\"outlinewidth\":0,\"ticks\":\"\"}},\"type\":\"scatterpolargl\"}],\"scatterpolar\":[{\"marker\":{\"colorbar\":{\"outlinewidth\":0,\"ticks\":\"\"}},\"type\":\"scatterpolar\"}],\"scatter\":[{\"fillpattern\":{\"fillmode\":\"overlay\",\"size\":10,\"solidity\":0.2},\"type\":\"scatter\"}],\"scatterternary\":[{\"marker\":{\"colorbar\":{\"outlinewidth\":0,\"ticks\":\"\"}},\"type\":\"scatterternary\"}],\"surface\":[{\"colorbar\":{\"outlinewidth\":0,\"ticks\":\"\"},\"colorscale\":[[0.0,\"#0d0887\"],[0.1111111111111111,\"#46039f\"],[0.2222222222222222,\"#7201a8\"],[0.3333333333333333,\"#9c179e\"],[0.4444444444444444,\"#bd3786\"],[0.5555555555555556,\"#d8576b\"],[0.6666666666666666,\"#ed7953\"],[0.7777777777777778,\"#fb9f3a\"],[0.8888888888888888,\"#fdca26\"],[1.0,\"#f0f921\"]],\"type\":\"surface\"}],\"table\":[{\"cells\":{\"fill\":{\"color\":\"#EBF0F8\"},\"line\":{\"color\":\"white\"}},\"header\":{\"fill\":{\"color\":\"#C8D4E3\"},\"line\":{\"color\":\"white\"}},\"type\":\"table\"}]},\"layout\":{\"annotationdefaults\":{\"arrowcolor\":\"#2a3f5f\",\"arrowhead\":0,\"arrowwidth\":1},\"autotypenumbers\":\"strict\",\"coloraxis\":{\"colorbar\":{\"outlinewidth\":0,\"ticks\":\"\"}},\"colorscale\":{\"diverging\":[[0,\"#8e0152\"],[0.1,\"#c51b7d\"],[0.2,\"#de77ae\"],[0.3,\"#f1b6da\"],[0.4,\"#fde0ef\"],[0.5,\"#f7f7f7\"],[0.6,\"#e6f5d0\"],[0.7,\"#b8e186\"],[0.8,\"#7fbc41\"],[0.9,\"#4d9221\"],[1,\"#276419\"]],\"sequential\":[[0.0,\"#0d0887\"],[0.1111111111111111,\"#46039f\"],[0.2222222222222222,\"#7201a8\"],[0.3333333333333333,\"#9c179e\"],[0.4444444444444444,\"#bd3786\"],[0.5555555555555556,\"#d8576b\"],[0.6666666666666666,\"#ed7953\"],[0.7777777777777778,\"#fb9f3a\"],[0.8888888888888888,\"#fdca26\"],[1.0,\"#f0f921\"]],\"sequentialminus\":[[0.0,\"#0d0887\"],[0.1111111111111111,\"#46039f\"],[0.2222222222222222,\"#7201a8\"],[0.3333333333333333,\"#9c179e\"],[0.4444444444444444,\"#bd3786\"],[0.5555555555555556,\"#d8576b\"],[0.6666666666666666,\"#ed7953\"],[0.7777777777777778,\"#fb9f3a\"],[0.8888888888888888,\"#fdca26\"],[1.0,\"#f0f921\"]]},\"colorway\":[\"#636efa\",\"#EF553B\",\"#00cc96\",\"#ab63fa\",\"#FFA15A\",\"#19d3f3\",\"#FF6692\",\"#B6E880\",\"#FF97FF\",\"#FECB52\"],\"font\":{\"color\":\"#2a3f5f\"},\"geo\":{\"bgcolor\":\"white\",\"lakecolor\":\"white\",\"landcolor\":\"#E5ECF6\",\"showlakes\":true,\"showland\":true,\"subunitcolor\":\"white\"},\"hoverlabel\":{\"align\":\"left\"},\"hovermode\":\"closest\",\"mapbox\":{\"style\":\"light\"},\"paper_bgcolor\":\"white\",\"plot_bgcolor\":\"#E5ECF6\",\"polar\":{\"angularaxis\":{\"gridcolor\":\"white\",\"linecolor\":\"white\",\"ticks\":\"\"},\"bgcolor\":\"#E5ECF6\",\"radialaxis\":{\"gridcolor\":\"white\",\"linecolor\":\"white\",\"ticks\":\"\"}},\"scene\":{\"xaxis\":{\"backgroundcolor\":\"#E5ECF6\",\"gridcolor\":\"white\",\"gridwidth\":2,\"linecolor\":\"white\",\"showbackground\":true,\"ticks\":\"\",\"zerolinecolor\":\"white\"},\"yaxis\":{\"backgroundcolor\":\"#E5ECF6\",\"gridcolor\":\"white\",\"gridwidth\":2,\"linecolor\":\"white\",\"showbackground\":true,\"ticks\":\"\",\"zerolinecolor\":\"white\"},\"zaxis\":{\"backgroundcolor\":\"#E5ECF6\",\"gridcolor\":\"white\",\"gridwidth\":2,\"linecolor\":\"white\",\"showbackground\":true,\"ticks\":\"\",\"zerolinecolor\":\"white\"}},\"shapedefaults\":{\"line\":{\"color\":\"#2a3f5f\"}},\"ternary\":{\"aaxis\":{\"gridcolor\":\"white\",\"linecolor\":\"white\",\"ticks\":\"\"},\"baxis\":{\"gridcolor\":\"white\",\"linecolor\":\"white\",\"ticks\":\"\"},\"bgcolor\":\"#E5ECF6\",\"caxis\":{\"gridcolor\":\"white\",\"linecolor\":\"white\",\"ticks\":\"\"}},\"title\":{\"x\":0.05},\"xaxis\":{\"automargin\":true,\"gridcolor\":\"white\",\"linecolor\":\"white\",\"ticks\":\"\",\"title\":{\"standoff\":15},\"zerolinecolor\":\"white\",\"zerolinewidth\":2},\"yaxis\":{\"automargin\":true,\"gridcolor\":\"white\",\"linecolor\":\"white\",\"ticks\":\"\",\"title\":{\"standoff\":15},\"zerolinecolor\":\"white\",\"zerolinewidth\":2}}},\"xaxis\":{\"title\":{\"text\":\"Risk (Standard Deviation)\"},\"tickformat\":\".0%\"},\"yaxis\":{\"title\":{\"text\":\"Investment Return Average (last 5 years)\"},\"tickformat\":\".0%\"},\"legend\":{\"x\":1,\"y\":1},\"title\":{\"text\":\"Efficient Frontier\"},\"hovermode\":\"closest\"},                        {\"responsive\": true}                    ).then(function(){\n",
       "                            \n",
       "var gd = document.getElementById('83065c4a-5f0c-4fd5-8706-2c939a7bceeb');\n",
       "var x = new MutationObserver(function (mutations, observer) {{\n",
       "        var display = window.getComputedStyle(gd).display;\n",
       "        if (!display || display === 'none') {{\n",
       "            console.log([gd, 'removed!']);\n",
       "            Plotly.purge(gd);\n",
       "            observer.disconnect();\n",
       "        }}\n",
       "}});\n",
       "\n",
       "// Listen for the removal of the full notebook cells\n",
       "var notebookContainer = gd.closest('#notebook-container');\n",
       "if (notebookContainer) {{\n",
       "    x.observe(notebookContainer, {childList: true});\n",
       "}}\n",
       "\n",
       "// Listen for the clearing of the current output cell\n",
       "var outputEl = gd.closest('.output');\n",
       "if (outputEl) {{\n",
       "    x.observe(outputEl, {childList: true});\n",
       "}}\n",
       "\n",
       "                        })                };                });            </script>        </div>"
      ]
     },
     "metadata": {},
     "output_type": "display_data"
    }
   ],
   "execution_count": 44
  }
 ],
 "metadata": {
  "kernelspec": {
   "display_name": "Python 3 (ipykernel)",
   "language": "python",
   "name": "python3"
  },
  "language_info": {
   "codemirror_mode": {
    "name": "ipython",
    "version": 3
   },
   "file_extension": ".py",
   "mimetype": "text/x-python",
   "name": "python",
   "nbconvert_exporter": "python",
   "pygments_lexer": "ipython3",
   "version": "3.9.18"
  }
 },
 "nbformat": 4,
 "nbformat_minor": 5
}
