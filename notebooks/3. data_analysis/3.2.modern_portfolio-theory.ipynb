{
 "cells": [
  {
   "cell_type": "code",
   "id": "588eaf47cb6c78b1",
   "metadata": {
    "ExecuteTime": {
     "end_time": "2025-01-26T15:34:32.797581Z",
     "start_time": "2025-01-26T15:34:32.568068Z"
    }
   },
   "source": [
    "import numpy as np\n",
    "import pandas as pd\n",
    "#\n",
    "from pypfopt import EfficientFrontier\n",
    "from pypfopt import risk_models\n",
    "from pypfopt import expected_returns\n",
    "from pypfopt.discrete_allocation import DiscreteAllocation, get_latest_prices\n",
    "#\n",
    "import plotly.graph_objects as go\n",
    "\n",
    "\n",
    "# Read in price data\n",
    "df = pd.read_csv('../../data/df_monthly_returns_complete.csv', index_col='Date')\n",
    "#df = df[['TEG.DE', 'CBRE', 'PLXS', 'JLL', 'CDW', 'TPL', 'FN', 'SNX', 'BYG.L', 'AVB', 'RGLD', 'ACN', 'ITRI', 'WDC', 'SBAC', 'LIN', 'SWBI', 'AZO']]\n",
    "df = df[df.columns[0:200]] # max 200\n",
    "\n",
    "# Calculate expected returns and sample covariance\n",
    "mu = expected_returns.mean_historical_return(df, frequency=12)\n",
    "S = risk_models.sample_cov(df, frequency=12)\n",
    "\n",
    "# Optimize for maximal Sharpe ratio\n",
    "ef = EfficientFrontier(mu, S)\n",
    "ef_new = EfficientFrontier(mu, S)\n",
    "\n",
    "raw_weights = ef.max_sharpe()\n",
    "cleaned_weights = ef.clean_weights()\n",
    "ef.save_weights_to_file(\"weights.csv\")  # saves to file\n",
    "#\n",
    "ef.portfolio_performance(verbose=True)"
   ],
   "outputs": [
    {
     "name": "stdout",
     "output_type": "stream",
     "text": [
      "Expected annual return: 16.1%\n",
      "Annual volatility: 11.6%\n",
      "Sharpe Ratio: 1.22\n"
     ]
    },
    {
     "data": {
      "text/plain": [
       "(0.16089413116773077, 0.11591987511217045, 1.2154441249302061)"
      ]
     },
     "execution_count": 33,
     "metadata": {},
     "output_type": "execute_result"
    }
   ],
   "execution_count": 33
  },
  {
   "cell_type": "code",
   "id": "d9689d5cac216035",
   "metadata": {
    "ExecuteTime": {
     "end_time": "2025-01-26T15:34:32.808736Z",
     "start_time": "2025-01-26T15:34:32.804616Z"
    }
   },
   "source": [
    "latest_prices = get_latest_prices(df)\n",
    "\n",
    "da = DiscreteAllocation(raw_weights, latest_prices, total_portfolio_value=10000)\n",
    "allocation, leftover = da.greedy_portfolio()\n",
    "print(\"Discrete allocation:\", allocation)\n",
    "print(\"Funds remaining: €{:.2f}\".format(leftover))"
   ],
   "outputs": [
    {
     "name": "stdout",
     "output_type": "stream",
     "text": [
      "Discrete allocation: {'AZO': 1, 'PHP.L': 12, 'BMI': 3, 'DHR': 2, 'TPL': 1, 'TEP.L': 1, 'POOL': 2, 'BALL': 8, 'RGLD': 3, 'CDW': 1, 'INS.DE': 12}\n",
      "Funds remaining: €1.89\n"
     ]
    }
   ],
   "execution_count": 34
  },
  {
   "cell_type": "code",
   "id": "a5955a58c21c5194",
   "metadata": {
    "ExecuteTime": {
     "end_time": "2025-01-26T15:53:11.146514Z",
     "start_time": "2025-01-26T15:53:04.593017Z"
    }
   },
   "source": [
    "# Generate efficient frontier data\n",
    "target_returns = np.linspace(mu.min(), mu.max()-0.001, 200)\n",
    "frontier_volatility = []\n",
    "frontier_returns = []\n",
    "print(len(target_returns))\n",
    "for r in target_returns:\n",
    "    ab = ef_new.efficient_return(target_return=r)\n",
    "    ret, vol, _ = ef_new.portfolio_performance()\n",
    "    frontier_returns.append(ret)\n",
    "    frontier_volatility.append(vol)"
   ],
   "outputs": [
    {
     "name": "stdout",
     "output_type": "stream",
     "text": [
      "200\n"
     ]
    }
   ],
   "execution_count": 45
  },
  {
   "metadata": {
    "ExecuteTime": {
     "end_time": "2025-01-26T15:53:14.053513Z",
     "start_time": "2025-01-26T15:53:14.047775Z"
    }
   },
   "cell_type": "code",
   "source": "mu.max()",
   "id": "ae1f6d74fc9df1f8",
   "outputs": [
    {
     "data": {
      "text/plain": [
       "0.26410942626166367"
      ]
     },
     "execution_count": 46,
     "metadata": {},
     "output_type": "execute_result"
    }
   ],
   "execution_count": 46
  },
  {
   "cell_type": "code",
   "id": "1cd3be77bc3c0f55",
   "metadata": {
    "ExecuteTime": {
     "end_time": "2025-01-26T15:53:15.148423Z",
     "start_time": "2025-01-26T15:53:15.074284Z"
    }
   },
   "source": [
    "import plotly.graph_objects as go\n",
    "\n",
    "# Create a Plotly scatter plot\n",
    "fig = go.Figure()\n",
    "\n",
    "# Convert expected returns to a NumPy array\n",
    "returns_array = mu.values\n",
    "\n",
    "# Calculate volatilities (square root of the diagonal of covariance matrix)\n",
    "volatilities_array = np.sqrt(np.diag(S))\n",
    "\n",
    "# Marker: Add annotations for each point\n",
    "for i, (ret, vol, ticker) in enumerate(zip(returns_array, volatilities_array, mu.keys())):\n",
    "    fig.add_trace(go.Scatter(\n",
    "        x=[vol],\n",
    "        y=[ret],\n",
    "        mode='markers+text',\n",
    "        text=f\"{ticker} ({ret:.2%}, {vol:.2%})\",\n",
    "        textposition=\"top center\",\n",
    "        marker=dict(size=6, color='blue'),\n",
    "        showlegend=False\n",
    "    ))\n",
    "\n",
    "max_sharpe_return, max_sharpe_volatility, _ = ef.portfolio_performance()\n",
    "# Marker: Add the maximum Sharpe ratio portfolio\n",
    "fig.add_trace(go.Scatter(\n",
    "    x=[max_sharpe_volatility],\n",
    "    y=[max_sharpe_return],\n",
    "    mode='markers',\n",
    "    name='Max Sharpe Portfolio',\n",
    "    marker=dict(color='red', size=10, symbol='star')\n",
    "))\n",
    "\n",
    "# Line: Add the efficient frontier\n",
    "fig.add_trace(go.Scatter(\n",
    "    x=frontier_volatility,\n",
    "    y=frontier_returns,\n",
    "    mode='lines',\n",
    "    name='Efficient Frontier',\n",
    "    line=dict(color='blue', width=3)\n",
    "))\n",
    "\n",
    "#fig_ef.update_traces(hovertemplate=None)\n",
    "# Customize layout\n",
    "fig.update_layout(\n",
    "    title=\"Efficient Frontier\",\n",
    "    xaxis_title=\"Volatility (Standard Deviation)\",\n",
    "    yaxis_title=\"Expected Return\",\n",
    "    template=\"plotly_white\"\n",
    ")\n",
    "\n",
    "fig.show()"
   ],
   "outputs": [
    {
     "data": {
      "application/vnd.plotly.v1+json": {
       "data": [
        {
         "marker": {
          "color": "blue",
          "size": 6
         },
         "mode": "markers+text",
         "showlegend": false,
         "text": "RS1.L (5.77%, 24.40%)",
         "textposition": "top center",
         "x": [
          0.24402621250824255
         ],
         "y": [
          0.05766929258778686
         ],
         "type": "scatter"
        },
        {
         "marker": {
          "color": "blue",
          "size": 6
         },
         "mode": "markers+text",
         "showlegend": false,
         "text": "KE (1.70%, 26.35%)",
         "textposition": "top center",
         "x": [
          0.2635338817877375
         ],
         "y": [
          0.016954770807069197
         ],
         "type": "scatter"
        },
        {
         "marker": {
          "color": "blue",
          "size": 6
         },
         "mode": "markers+text",
         "showlegend": false,
         "text": "TEG.DE (-3.98%, 36.95%)",
         "textposition": "top center",
         "x": [
          0.36948264705976136
         ],
         "y": [
          -0.03975793669234695
         ],
         "type": "scatter"
        },
        {
         "marker": {
          "color": "blue",
          "size": 6
         },
         "mode": "markers+text",
         "showlegend": false,
         "text": "LEG.DE (4.65%, 18.97%)",
         "textposition": "top center",
         "x": [
          0.18971742195861452
         ],
         "y": [
          0.04649830618696238
         ],
         "type": "scatter"
        },
        {
         "marker": {
          "color": "blue",
          "size": 6
         },
         "mode": "markers+text",
         "showlegend": false,
         "text": "SCS (3.83%, 36.75%)",
         "textposition": "top center",
         "x": [
          0.36753399297096984
         ],
         "y": [
          0.038306143364522205
         ],
         "type": "scatter"
        },
        {
         "marker": {
          "color": "blue",
          "size": 6
         },
         "mode": "markers+text",
         "showlegend": false,
         "text": "HNI (6.75%, 35.26%)",
         "textposition": "top center",
         "x": [
          0.35261239546155615
         ],
         "y": [
          0.06748001656313862
         ],
         "type": "scatter"
        },
        {
         "marker": {
          "color": "blue",
          "size": 6
         },
         "mode": "markers+text",
         "showlegend": false,
         "text": "AVT (3.47%, 36.96%)",
         "textposition": "top center",
         "x": [
          0.3695799625419367
         ],
         "y": [
          0.03470897811264528
         ],
         "type": "scatter"
        },
        {
         "marker": {
          "color": "blue",
          "size": 6
         },
         "mode": "markers+text",
         "showlegend": false,
         "text": "ACCO (-3.37%, 120.50%)",
         "textposition": "top center",
         "x": [
          1.2049934472256523
         ],
         "y": [
          -0.03372398689273104
         ],
         "type": "scatter"
        },
        {
         "marker": {
          "color": "blue",
          "size": 6
         },
         "mode": "markers+text",
         "showlegend": false,
         "text": "VNA.DE (5.61%, 18.53%)",
         "textposition": "top center",
         "x": [
          0.18527949864476584
         ],
         "y": [
          0.0561467155750226
         ],
         "type": "scatter"
        },
        {
         "marker": {
          "color": "blue",
          "size": 6
         },
         "mode": "markers+text",
         "showlegend": false,
         "text": "7912.T (3.88%, 23.35%)",
         "textposition": "top center",
         "x": [
          0.2335420792860534
         ],
         "y": [
          0.03875490299383677
         ],
         "type": "scatter"
        },
        {
         "marker": {
          "color": "blue",
          "size": 6
         },
         "mode": "markers+text",
         "showlegend": false,
         "text": "KEYS (6.54%, 18.61%)",
         "textposition": "top center",
         "x": [
          0.1860877128914103
         ],
         "y": [
          0.06543774763876509
         ],
         "type": "scatter"
        },
        {
         "marker": {
          "color": "blue",
          "size": 6
         },
         "mode": "markers+text",
         "showlegend": false,
         "text": "SGRO.L (5.29%, 26.04%)",
         "textposition": "top center",
         "x": [
          0.26041590721137486
         ],
         "y": [
          0.05287511446311277
         ],
         "type": "scatter"
        },
        {
         "marker": {
          "color": "blue",
          "size": 6
         },
         "mode": "markers+text",
         "showlegend": false,
         "text": "CBRE (10.24%, 48.45%)",
         "textposition": "top center",
         "x": [
          0.4845389448354167
         ],
         "y": [
          0.1024421178022068
         ],
         "type": "scatter"
        },
        {
         "marker": {
          "color": "blue",
          "size": 6
         },
         "mode": "markers+text",
         "showlegend": false,
         "text": "BRC (9.04%, 29.56%)",
         "textposition": "top center",
         "x": [
          0.2956022962901866
         ],
         "y": [
          0.09044157378094053
         ],
         "type": "scatter"
        },
        {
         "marker": {
          "color": "blue",
          "size": 6
         },
         "mode": "markers+text",
         "showlegend": false,
         "text": "PGRE (-3.78%, 21.09%)",
         "textposition": "top center",
         "x": [
          0.21085734904122172
         ],
         "y": [
          -0.03784955649366761
         ],
         "type": "scatter"
        },
        {
         "marker": {
          "color": "blue",
          "size": 6
         },
         "mode": "markers+text",
         "showlegend": false,
         "text": "PSON.L (3.06%, 28.13%)",
         "textposition": "top center",
         "x": [
          0.2812674754927999
         ],
         "y": [
          0.0306194563432991
         ],
         "type": "scatter"
        },
        {
         "marker": {
          "color": "blue",
          "size": 6
         },
         "mode": "markers+text",
         "showlegend": false,
         "text": "BBOX.L (3.75%, 14.66%)",
         "textposition": "top center",
         "x": [
          0.14659932883318533
         ],
         "y": [
          0.037453776831180896
         ],
         "type": "scatter"
        },
        {
         "marker": {
          "color": "blue",
          "size": 6
         },
         "mode": "markers+text",
         "showlegend": false,
         "text": "REL.L (12.38%, 20.20%)",
         "textposition": "top center",
         "x": [
          0.20195700774574638
         ],
         "y": [
          0.12382958801318122
         ],
         "type": "scatter"
        },
        {
         "marker": {
          "color": "blue",
          "size": 6
         },
         "mode": "markers+text",
         "showlegend": false,
         "text": "TMV.DE (-4.45%, 23.83%)",
         "textposition": "top center",
         "x": [
          0.23834497398244198
         ],
         "y": [
          -0.044543441446462384
         ],
         "type": "scatter"
        },
        {
         "marker": {
          "color": "blue",
          "size": 6
         },
         "mode": "markers+text",
         "showlegend": false,
         "text": "BHE (7.87%, 36.79%)",
         "textposition": "top center",
         "x": [
          0.3678864349081567
         ],
         "y": [
          0.07873299354029006
         ],
         "type": "scatter"
        },
        {
         "marker": {
          "color": "blue",
          "size": 6
         },
         "mode": "markers+text",
         "showlegend": false,
         "text": "PLXS (9.24%, 45.85%)",
         "textposition": "top center",
         "x": [
          0.45846885359757283
         ],
         "y": [
          0.09242253912528353
         ],
         "type": "scatter"
        },
        {
         "marker": {
          "color": "blue",
          "size": 6
         },
         "mode": "markers+text",
         "showlegend": false,
         "text": "GPE.L (3.45%, 23.69%)",
         "textposition": "top center",
         "x": [
          0.23690103904546972
         ],
         "y": [
          0.034538147340635206
         ],
         "type": "scatter"
        },
        {
         "marker": {
          "color": "blue",
          "size": 6
         },
         "mode": "markers+text",
         "showlegend": false,
         "text": "HAS (7.59%, 28.15%)",
         "textposition": "top center",
         "x": [
          0.28153690691290767
         ],
         "y": [
          0.0759189755468972
         ],
         "type": "scatter"
        },
        {
         "marker": {
          "color": "blue",
          "size": 6
         },
         "mode": "markers+text",
         "showlegend": false,
         "text": "CHGG (-5.11%, 36.42%)",
         "textposition": "top center",
         "x": [
          0.3642376836008104
         ],
         "y": [
          -0.05107181842097719
         ],
         "type": "scatter"
        },
        {
         "marker": {
          "color": "blue",
          "size": 6
         },
         "mode": "markers+text",
         "showlegend": false,
         "text": "JLL (13.29%, 35.03%)",
         "textposition": "top center",
         "x": [
          0.35026254602588747
         ],
         "y": [
          0.13289637397465137
         ],
         "type": "scatter"
        },
        {
         "marker": {
          "color": "blue",
          "size": 6
         },
         "mode": "markers+text",
         "showlegend": false,
         "text": "LAND.L (3.96%, 25.49%)",
         "textposition": "top center",
         "x": [
          0.2549061673424588
         ],
         "y": [
          0.03961268286155217
         ],
         "type": "scatter"
        },
        {
         "marker": {
          "color": "blue",
          "size": 6
         },
         "mode": "markers+text",
         "showlegend": false,
         "text": "OLED (17.37%, 74.94%)",
         "textposition": "top center",
         "x": [
          0.7493593953678391
         ],
         "y": [
          0.17371781947141218
         ],
         "type": "scatter"
        },
        {
         "marker": {
          "color": "blue",
          "size": 6
         },
         "mode": "markers+text",
         "showlegend": false,
         "text": "CDW (10.08%, 18.67%)",
         "textposition": "top center",
         "x": [
          0.18667289970905243
         ],
         "y": [
          0.10084311342611829
         ],
         "type": "scatter"
        },
        {
         "marker": {
          "color": "blue",
          "size": 6
         },
         "mode": "markers+text",
         "showlegend": false,
         "text": "FLEX (3.07%, 47.45%)",
         "textposition": "top center",
         "x": [
          0.4744717994504166
         ],
         "y": [
          0.03070801148035396
         ],
         "type": "scatter"
        },
        {
         "marker": {
          "color": "blue",
          "size": 6
         },
         "mode": "markers+text",
         "showlegend": false,
         "text": "REZI (-0.16%, 40.92%)",
         "textposition": "top center",
         "x": [
          0.40919399642455734
         ],
         "y": [
          -0.0016387831694408828
         ],
         "type": "scatter"
        },
        {
         "marker": {
          "color": "blue",
          "size": 6
         },
         "mode": "markers+text",
         "showlegend": false,
         "text": "TPL (26.41%, 41.01%)",
         "textposition": "top center",
         "x": [
          0.41014222932857364
         ],
         "y": [
          0.26410942626166367
         ],
         "type": "scatter"
        },
        {
         "marker": {
          "color": "blue",
          "size": 6
         },
         "mode": "markers+text",
         "showlegend": false,
         "text": "ARW (7.22%, 35.43%)",
         "textposition": "top center",
         "x": [
          0.3542749228783315
         ],
         "y": [
          0.07219764616104096
         ],
         "type": "scatter"
        },
        {
         "marker": {
          "color": "blue",
          "size": 6
         },
         "mode": "markers+text",
         "showlegend": false,
         "text": "FN (11.45%, 43.51%)",
         "textposition": "top center",
         "x": [
          0.4351365047118335
         ],
         "y": [
          0.11451546437438309
         ],
         "type": "scatter"
        },
        {
         "marker": {
          "color": "blue",
          "size": 6
         },
         "mode": "markers+text",
         "showlegend": false,
         "text": "NOVT (9.17%, 60.64%)",
         "textposition": "top center",
         "x": [
          0.6064257243087364
         ],
         "y": [
          0.09166605562635977
         ],
         "type": "scatter"
        },
        {
         "marker": {
          "color": "blue",
          "size": 6
         },
         "mode": "markers+text",
         "showlegend": false,
         "text": "RYN (10.02%, 25.05%)",
         "textposition": "top center",
         "x": [
          0.2504547212601505
         ],
         "y": [
          0.10020147389227518
         ],
         "type": "scatter"
        },
        {
         "marker": {
          "color": "blue",
          "size": 6
         },
         "mode": "markers+text",
         "showlegend": false,
         "text": "SNX (11.23%, 32.83%)",
         "textposition": "top center",
         "x": [
          0.3282841343941953
         ],
         "y": [
          0.11228583575615536
         ],
         "type": "scatter"
        },
        {
         "marker": {
          "color": "blue",
          "size": 6
         },
         "mode": "markers+text",
         "showlegend": false,
         "text": "7911.T (4.78%, 25.10%)",
         "textposition": "top center",
         "x": [
          0.2509977196911032
         ],
         "y": [
          0.04780535545689202
         ],
         "type": "scatter"
        },
        {
         "marker": {
          "color": "blue",
          "size": 6
         },
         "mode": "markers+text",
         "showlegend": false,
         "text": "CMPR (5.85%, 44.38%)",
         "textposition": "top center",
         "x": [
          0.44375725652079284
         ],
         "y": [
          0.05852879250367171
         ],
         "type": "scatter"
        },
        {
         "marker": {
          "color": "blue",
          "size": 6
         },
         "mode": "markers+text",
         "showlegend": false,
         "text": "DLAR.L (2.12%, 64.99%)",
         "textposition": "top center",
         "x": [
          0.6499084329511234
         ],
         "y": [
          0.02116440491377536
         ],
         "type": "scatter"
        },
        {
         "marker": {
          "color": "blue",
          "size": 6
         },
         "mode": "markers+text",
         "showlegend": false,
         "text": "2379.T (8.30%, 54.68%)",
         "textposition": "top center",
         "x": [
          0.546813918585408
         ],
         "y": [
          0.08304007517434564
         ],
         "type": "scatter"
        },
        {
         "marker": {
          "color": "blue",
          "size": 6
         },
         "mode": "markers+text",
         "showlegend": false,
         "text": "6754.T (-0.95%, 37.19%)",
         "textposition": "top center",
         "x": [
          0.3718876214700814
         ],
         "y": [
          -0.009509163717344116
         ],
         "type": "scatter"
        },
        {
         "marker": {
          "color": "blue",
          "size": 6
         },
         "mode": "markers+text",
         "showlegend": false,
         "text": "SHA.DE (-2.41%, 21.24%)",
         "textposition": "top center",
         "x": [
          0.21241664442514407
         ],
         "y": [
          -0.02409472217677988
         ],
         "type": "scatter"
        },
        {
         "marker": {
          "color": "blue",
          "size": 6
         },
         "mode": "markers+text",
         "showlegend": false,
         "text": "TTMI (0.92%, 54.93%)",
         "textposition": "top center",
         "x": [
          0.5493130886202505
         ],
         "y": [
          0.009175409343610719
         ],
         "type": "scatter"
        },
        {
         "marker": {
          "color": "blue",
          "size": 6
         },
         "mode": "markers+text",
         "showlegend": false,
         "text": "3234.T (5.58%, 66.71%)",
         "textposition": "top center",
         "x": [
          0.6670962963278521
         ],
         "y": [
          0.05577124296048974
         ],
         "type": "scatter"
        },
        {
         "marker": {
          "color": "blue",
          "size": 6
         },
         "mode": "markers+text",
         "showlegend": false,
         "text": "PBI (-3.09%, 42.43%)",
         "textposition": "top center",
         "x": [
          0.42432903607766587
         ],
         "y": [
          -0.030898089515721705
         ],
         "type": "scatter"
        },
        {
         "marker": {
          "color": "blue",
          "size": 6
         },
         "mode": "markers+text",
         "showlegend": false,
         "text": "BYG.L (12.27%, 27.55%)",
         "textposition": "top center",
         "x": [
          0.27554143426235944
         ],
         "y": [
          0.12272012919071495
         ],
         "type": "scatter"
        },
        {
         "marker": {
          "color": "blue",
          "size": 6
         },
         "mode": "markers+text",
         "showlegend": false,
         "text": "ASGN (7.70%, 47.92%)",
         "textposition": "top center",
         "x": [
          0.47919803988937715
         ],
         "y": [
          0.07701542663350369
         ],
         "type": "scatter"
        },
        {
         "marker": {
          "color": "blue",
          "size": 6
         },
         "mode": "markers+text",
         "showlegend": false,
         "text": "COA.L (2.83%, 36.28%)",
         "textposition": "top center",
         "x": [
          0.36276065087211967
         ],
         "y": [
          0.02829932787094913
         ],
         "type": "scatter"
        },
        {
         "marker": {
          "color": "blue",
          "size": 6
         },
         "mode": "markers+text",
         "showlegend": false,
         "text": "HOUS (-8.20%, 38.14%)",
         "textposition": "top center",
         "x": [
          0.3814074831661381
         ],
         "y": [
          -0.08201283672883897
         ],
         "type": "scatter"
        },
        {
         "marker": {
          "color": "blue",
          "size": 6
         },
         "mode": "markers+text",
         "showlegend": false,
         "text": "VVV (2.79%, 17.92%)",
         "textposition": "top center",
         "x": [
          0.17918336621715555
         ],
         "y": [
          0.02789270447772907
         ],
         "type": "scatter"
        },
        {
         "marker": {
          "color": "blue",
          "size": 6
         },
         "mode": "markers+text",
         "showlegend": false,
         "text": "PAGE.L (6.03%, 35.68%)",
         "textposition": "top center",
         "x": [
          0.35679015681205356
         ],
         "y": [
          0.06034128823368001
         ],
         "type": "scatter"
        },
        {
         "marker": {
          "color": "blue",
          "size": 6
         },
         "mode": "markers+text",
         "showlegend": false,
         "text": "DB1.DE (9.37%, 26.97%)",
         "textposition": "top center",
         "x": [
          0.2697188748111089
         ],
         "y": [
          0.09368782148175314
         ],
         "type": "scatter"
        },
        {
         "marker": {
          "color": "blue",
          "size": 6
         },
         "mode": "markers+text",
         "showlegend": false,
         "text": "AVB (12.55%, 22.65%)",
         "textposition": "top center",
         "x": [
          0.2264638725672127
         ],
         "y": [
          0.12547860798586608
         ],
         "type": "scatter"
        },
        {
         "marker": {
          "color": "blue",
          "size": 6
         },
         "mode": "markers+text",
         "showlegend": false,
         "text": "3309.T (2.04%, 10.99%)",
         "textposition": "top center",
         "x": [
          0.1098921005015402
         ],
         "y": [
          0.020379530629184517
         ],
         "type": "scatter"
        },
        {
         "marker": {
          "color": "blue",
          "size": 6
         },
         "mode": "markers+text",
         "showlegend": false,
         "text": "STWD (6.16%, 23.10%)",
         "textposition": "top center",
         "x": [
          0.23097381692899224
         ],
         "y": [
          0.0616217865380182
         ],
         "type": "scatter"
        },
        {
         "marker": {
          "color": "blue",
          "size": 6
         },
         "mode": "markers+text",
         "showlegend": false,
         "text": "GROW.L (0.72%, 47.90%)",
         "textposition": "top center",
         "x": [
          0.4790246833290233
         ],
         "y": [
          0.00715289949454978
         ],
         "type": "scatter"
        },
        {
         "marker": {
          "color": "blue",
          "size": 6
         },
         "mode": "markers+text",
         "showlegend": false,
         "text": "MTO.L (6.28%, 32.42%)",
         "textposition": "top center",
         "x": [
          0.32419986319871363
         ],
         "y": [
          0.06281975462403722
         ],
         "type": "scatter"
        },
        {
         "marker": {
          "color": "blue",
          "size": 6
         },
         "mode": "markers+text",
         "showlegend": false,
         "text": "KFY (5.21%, 44.72%)",
         "textposition": "top center",
         "x": [
          0.44718348384410317
         ],
         "y": [
          0.05208598728386704
         ],
         "type": "scatter"
        },
        {
         "marker": {
          "color": "blue",
          "size": 6
         },
         "mode": "markers+text",
         "showlegend": false,
         "text": "MEI (3.88%, 50.00%)",
         "textposition": "top center",
         "x": [
          0.4999849375683575
         ],
         "y": [
          0.038820245973361756
         ],
         "type": "scatter"
        },
        {
         "marker": {
          "color": "blue",
          "size": 6
         },
         "mode": "markers+text",
         "showlegend": false,
         "text": "BLND.L (4.98%, 26.30%)",
         "textposition": "top center",
         "x": [
          0.2629940764042665
         ],
         "y": [
          0.049816553038187994
         ],
         "type": "scatter"
        },
        {
         "marker": {
          "color": "blue",
          "size": 6
         },
         "mode": "markers+text",
         "showlegend": false,
         "text": "RGLD (15.47%, 47.09%)",
         "textposition": "top center",
         "x": [
          0.4709254476068458
         ],
         "y": [
          0.1546880166659108
         ],
         "type": "scatter"
        },
        {
         "marker": {
          "color": "blue",
          "size": 6
         },
         "mode": "markers+text",
         "showlegend": false,
         "text": "KFRC (10.72%, 48.99%)",
         "textposition": "top center",
         "x": [
          0.48994342520974754
         ],
         "y": [
          0.10723444152928985
         ],
         "type": "scatter"
        },
        {
         "marker": {
          "color": "blue",
          "size": 6
         },
         "mode": "markers+text",
         "showlegend": false,
         "text": "IWG.L (9.84%, 72.36%)",
         "textposition": "top center",
         "x": [
          0.7235524516872327
         ],
         "y": [
          0.09835428854128136
         ],
         "type": "scatter"
        },
        {
         "marker": {
          "color": "blue",
          "size": 6
         },
         "mode": "markers+text",
         "showlegend": false,
         "text": "8954.T (4.54%, 26.96%)",
         "textposition": "top center",
         "x": [
          0.2696278579624864
         ],
         "y": [
          0.04539456896469085
         ],
         "type": "scatter"
        },
        {
         "marker": {
          "color": "blue",
          "size": 6
         },
         "mode": "markers+text",
         "showlegend": false,
         "text": "ZIL2.DE (-3.45%, 39.22%)",
         "textposition": "top center",
         "x": [
          0.3921887413090669
         ],
         "y": [
          -0.034518198331809025
         ],
         "type": "scatter"
        },
        {
         "marker": {
          "color": "blue",
          "size": 6
         },
         "mode": "markers+text",
         "showlegend": false,
         "text": "SANM (-2.93%, 58.50%)",
         "textposition": "top center",
         "x": [
          0.5849797684045512
         ],
         "y": [
          -0.02926540459999405
         ],
         "type": "scatter"
        },
        {
         "marker": {
          "color": "blue",
          "size": 6
         },
         "mode": "markers+text",
         "showlegend": false,
         "text": "SXS.L (11.70%, 31.26%)",
         "textposition": "top center",
         "x": [
          0.31258840635929497
         ],
         "y": [
          0.11702114120413754
         ],
         "type": "scatter"
        },
        {
         "marker": {
          "color": "blue",
          "size": 6
         },
         "mode": "markers+text",
         "showlegend": false,
         "text": "YETI (2.73%, 49.08%)",
         "textposition": "top center",
         "x": [
          0.49080897300362264
         ],
         "y": [
          0.027293144770379252
         ],
         "type": "scatter"
        },
        {
         "marker": {
          "color": "blue",
          "size": 6
         },
         "mode": "markers+text",
         "showlegend": false,
         "text": "ACN (13.78%, 25.13%)",
         "textposition": "top center",
         "x": [
          0.25128337789778693
         ],
         "y": [
          0.1377992093556355
         ],
         "type": "scatter"
        },
        {
         "marker": {
          "color": "blue",
          "size": 6
         },
         "mode": "markers+text",
         "showlegend": false,
         "text": "HPP (-3.12%, 30.61%)",
         "textposition": "top center",
         "x": [
          0.3061204416822255
         ],
         "y": [
          -0.031181676479141385
         ],
         "type": "scatter"
        },
        {
         "marker": {
          "color": "blue",
          "size": 6
         },
         "mode": "markers+text",
         "showlegend": false,
         "text": "7893.T (5.53%, 28.40%)",
         "textposition": "top center",
         "x": [
          0.284027507691234
         ],
         "y": [
          0.05527064673822024
         ],
         "type": "scatter"
        },
        {
         "marker": {
          "color": "blue",
          "size": 6
         },
         "mode": "markers+text",
         "showlegend": false,
         "text": "SVS.L (14.43%, 32.99%)",
         "textposition": "top center",
         "x": [
          0.32988282184706513
         ],
         "y": [
          0.1442815502502146
         ],
         "type": "scatter"
        },
        {
         "marker": {
          "color": "blue",
          "size": 6
         },
         "mode": "markers+text",
         "showlegend": false,
         "text": "AGNC (6.58%, 52.68%)",
         "textposition": "top center",
         "x": [
          0.5268315753753618
         ],
         "y": [
          0.0658174476027773
         ],
         "type": "scatter"
        },
        {
         "marker": {
          "color": "blue",
          "size": 6
         },
         "mode": "markers+text",
         "showlegend": false,
         "text": "CTS (-0.04%, 42.39%)",
         "textposition": "top center",
         "x": [
          0.4238761217867349
         ],
         "y": [
          -3.6427325856436266E-4
         ],
         "type": "scatter"
        },
        {
         "marker": {
          "color": "blue",
          "size": 6
         },
         "mode": "markers+text",
         "showlegend": false,
         "text": "IPG (0.81%, 36.26%)",
         "textposition": "top center",
         "x": [
          0.36262118381609143
         ],
         "y": [
          0.008102306468122489
         ],
         "type": "scatter"
        },
        {
         "marker": {
          "color": "blue",
          "size": 6
         },
         "mode": "markers+text",
         "showlegend": false,
         "text": "BMI (18.73%, 31.82%)",
         "textposition": "top center",
         "x": [
          0.31819790058871344
         ],
         "y": [
          0.1873117568932796
         ],
         "type": "scatter"
        },
        {
         "marker": {
          "color": "blue",
          "size": 6
         },
         "mode": "markers+text",
         "showlegend": false,
         "text": "FUTR.L (-6.20%, 55.75%)",
         "textposition": "top center",
         "x": [
          0.557463588695694
         ],
         "y": [
          -0.062009868295371584
         ],
         "type": "scatter"
        },
        {
         "marker": {
          "color": "blue",
          "size": 6
         },
         "mode": "markers+text",
         "showlegend": false,
         "text": "EBOX.L (-1.46%, 13.06%)",
         "textposition": "top center",
         "x": [
          0.13062422148145234
         ],
         "y": [
          -0.01456621090075616
         ],
         "type": "scatter"
        },
        {
         "marker": {
          "color": "blue",
          "size": 6
         },
         "mode": "markers+text",
         "showlegend": false,
         "text": "SCSC (6.89%, 38.70%)",
         "textposition": "top center",
         "x": [
          0.38695200372879773
         ],
         "y": [
          0.06893977469041968
         ],
         "type": "scatter"
        },
        {
         "marker": {
          "color": "blue",
          "size": 6
         },
         "mode": "markers+text",
         "showlegend": false,
         "text": "MAN (4.58%, 34.10%)",
         "textposition": "top center",
         "x": [
          0.3410437695368991
         ],
         "y": [
          0.04577541855344669
         ],
         "type": "scatter"
        },
        {
         "marker": {
          "color": "blue",
          "size": 6
         },
         "mode": "markers+text",
         "showlegend": false,
         "text": "7994.T (7.35%, 28.27%)",
         "textposition": "top center",
         "x": [
          0.2826913551440234
         ],
         "y": [
          0.07347012414406495
         ],
         "type": "scatter"
        },
        {
         "marker": {
          "color": "blue",
          "size": 6
         },
         "mode": "markers+text",
         "showlegend": false,
         "text": "3283.T (3.36%, 13.99%)",
         "textposition": "top center",
         "x": [
          0.13990860835068233
         ],
         "y": [
          0.03356946609628064
         ],
         "type": "scatter"
        },
        {
         "marker": {
          "color": "blue",
          "size": 6
         },
         "mode": "markers+text",
         "showlegend": false,
         "text": "PDM (0.39%, 19.57%)",
         "textposition": "top center",
         "x": [
          0.1956762095180119
         ],
         "y": [
          0.003946951915233976
         ],
         "type": "scatter"
        },
        {
         "marker": {
          "color": "blue",
          "size": 6
         },
         "mode": "markers+text",
         "showlegend": false,
         "text": "III.L (7.52%, 52.99%)",
         "textposition": "top center",
         "x": [
          0.5299455381071673
         ],
         "y": [
          0.0751853352235139
         ],
         "type": "scatter"
        },
        {
         "marker": {
          "color": "blue",
          "size": 6
         },
         "mode": "markers+text",
         "showlegend": false,
         "text": "NBS.L (0.22%, 7.60%)",
         "textposition": "top center",
         "x": [
          0.07603774868607333
         ],
         "y": [
          0.0022226887966696474
         ],
         "type": "scatter"
        },
        {
         "marker": {
          "color": "blue",
          "size": 6
         },
         "mode": "markers+text",
         "showlegend": false,
         "text": "DSCV.L (5.89%, 35.94%)",
         "textposition": "top center",
         "x": [
          0.3593871401506666
         ],
         "y": [
          0.05887444154774912
         ],
         "type": "scatter"
        },
        {
         "marker": {
          "color": "blue",
          "size": 6
         },
         "mode": "markers+text",
         "showlegend": false,
         "text": "6183.T (2.97%, 21.19%)",
         "textposition": "top center",
         "x": [
          0.21189251466630232
         ],
         "y": [
          0.029664085187112388
         ],
         "type": "scatter"
        },
        {
         "marker": {
          "color": "blue",
          "size": 6
         },
         "mode": "markers+text",
         "showlegend": false,
         "text": "KELYA (0.08%, 33.05%)",
         "textposition": "top center",
         "x": [
          0.33048023563524803
         ],
         "y": [
          7.901649855859283E-4
         ],
         "type": "scatter"
        },
        {
         "marker": {
          "color": "blue",
          "size": 6
         },
         "mode": "markers+text",
         "showlegend": false,
         "text": "6724.T (0.92%, 36.64%)",
         "textposition": "top center",
         "x": [
          0.3663681047970942
         ],
         "y": [
          0.00920565064259904
         ],
         "type": "scatter"
        },
        {
         "marker": {
          "color": "blue",
          "size": 6
         },
         "mode": "markers+text",
         "showlegend": false,
         "text": "4384.T (-0.49%, 25.81%)",
         "textposition": "top center",
         "x": [
          0.2580836324140626
         ],
         "y": [
          -0.00488846472084814
         ],
         "type": "scatter"
        },
        {
         "marker": {
          "color": "blue",
          "size": 6
         },
         "mode": "markers+text",
         "showlegend": false,
         "text": "ST (2.97%, 30.58%)",
         "textposition": "top center",
         "x": [
          0.3057753400448168
         ],
         "y": [
          0.0296906761750364
         ],
         "type": "scatter"
        },
        {
         "marker": {
          "color": "blue",
          "size": 6
         },
         "mode": "markers+text",
         "showlegend": false,
         "text": "BRBY.L (5.70%, 36.13%)",
         "textposition": "top center",
         "x": [
          0.3613348754647418
         ],
         "y": [
          0.0569875352340965
         ],
         "type": "scatter"
        },
        {
         "marker": {
          "color": "blue",
          "size": 6
         },
         "mode": "markers+text",
         "showlegend": false,
         "text": "7984.T (4.06%, 21.83%)",
         "textposition": "top center",
         "x": [
          0.2183420990819009
         ],
         "y": [
          0.04056120092710347
         ],
         "type": "scatter"
        },
        {
         "marker": {
          "color": "blue",
          "size": 6
         },
         "mode": "markers+text",
         "showlegend": false,
         "text": "CCK (5.96%, 58.20%)",
         "textposition": "top center",
         "x": [
          0.5819771181033908
         ],
         "y": [
          0.059607221210075334
         ],
         "type": "scatter"
        },
        {
         "marker": {
          "color": "blue",
          "size": 6
         },
         "mode": "markers+text",
         "showlegend": false,
         "text": "APTV (4.54%, 33.05%)",
         "textposition": "top center",
         "x": [
          0.3304913293012974
         ],
         "y": [
          0.045448883463132805
         ],
         "type": "scatter"
        },
        {
         "marker": {
          "color": "blue",
          "size": 6
         },
         "mode": "markers+text",
         "showlegend": false,
         "text": "STEM.L (6.44%, 38.12%)",
         "textposition": "top center",
         "x": [
          0.3812498896240499
         ],
         "y": [
          0.06437422629704814
         ],
         "type": "scatter"
        },
        {
         "marker": {
          "color": "blue",
          "size": 6
         },
         "mode": "markers+text",
         "showlegend": false,
         "text": "UU.L (8.28%, 18.17%)",
         "textposition": "top center",
         "x": [
          0.18166896049093392
         ],
         "y": [
          0.08281704776043552
         ],
         "type": "scatter"
        },
        {
         "marker": {
          "color": "blue",
          "size": 6
         },
         "mode": "markers+text",
         "showlegend": false,
         "text": "ITRI (12.95%, 51.02%)",
         "textposition": "top center",
         "x": [
          0.5101846011074477
         ],
         "y": [
          0.12951889225080238
         ],
         "type": "scatter"
        },
        {
         "marker": {
          "color": "blue",
          "size": 6
         },
         "mode": "markers+text",
         "showlegend": false,
         "text": "6287.T (0.64%, 30.35%)",
         "textposition": "top center",
         "x": [
          0.30349794420327575
         ],
         "y": [
          0.00638868476410992
         ],
         "type": "scatter"
        },
        {
         "marker": {
          "color": "blue",
          "size": 6
         },
         "mode": "markers+text",
         "showlegend": false,
         "text": "INF.L (5.60%, 33.69%)",
         "textposition": "top center",
         "x": [
          0.3368725732914877
         ],
         "y": [
          0.056006249850026
         ],
         "type": "scatter"
        },
        {
         "marker": {
          "color": "blue",
          "size": 6
         },
         "mode": "markers+text",
         "showlegend": false,
         "text": "4218.T (6.19%, 23.05%)",
         "textposition": "top center",
         "x": [
          0.23051621225834787
         ],
         "y": [
          0.061874186139446286
         ],
         "type": "scatter"
        },
        {
         "marker": {
          "color": "blue",
          "size": 6
         },
         "mode": "markers+text",
         "showlegend": false,
         "text": "HMSO.L (-2.64%, 35.16%)",
         "textposition": "top center",
         "x": [
          0.3515655159886424
         ],
         "y": [
          -0.026359044232946216
         ],
         "type": "scatter"
        },
        {
         "marker": {
          "color": "blue",
          "size": 6
         },
         "mode": "markers+text",
         "showlegend": false,
         "text": "WDC (13.62%, 56.01%)",
         "textposition": "top center",
         "x": [
          0.5600674330958874
         ],
         "y": [
          0.1361635228723017
         ],
         "type": "scatter"
        },
        {
         "marker": {
          "color": "blue",
          "size": 6
         },
         "mode": "markers+text",
         "showlegend": false,
         "text": "7313.T (7.63%, 47.44%)",
         "textposition": "top center",
         "x": [
          0.47435096305444646
         ],
         "y": [
          0.07629088420203001
         ],
         "type": "scatter"
        },
        {
         "marker": {
          "color": "blue",
          "size": 6
         },
         "mode": "markers+text",
         "showlegend": false,
         "text": "EBF (9.19%, 26.33%)",
         "textposition": "top center",
         "x": [
          0.2633417822599886
         ],
         "y": [
          0.09186976397717084
         ],
         "type": "scatter"
        },
        {
         "marker": {
          "color": "blue",
          "size": 6
         },
         "mode": "markers+text",
         "showlegend": false,
         "text": "TNET (5.51%, 25.76%)",
         "textposition": "top center",
         "x": [
          0.2576070124846039
         ],
         "y": [
          0.05505650548976915
         ],
         "type": "scatter"
        },
        {
         "marker": {
          "color": "blue",
          "size": 6
         },
         "mode": "markers+text",
         "showlegend": false,
         "text": "6098.T (8.50%, 23.78%)",
         "textposition": "top center",
         "x": [
          0.23781177443112653
         ],
         "y": [
          0.08504267074691096
         ],
         "type": "scatter"
        },
        {
         "marker": {
          "color": "blue",
          "size": 6
         },
         "mode": "markers+text",
         "showlegend": false,
         "text": "MLKN (2.31%, 36.93%)",
         "textposition": "top center",
         "x": [
          0.3693099956977894
         ],
         "y": [
          0.023131933213114575
         ],
         "type": "scatter"
        },
        {
         "marker": {
          "color": "blue",
          "size": 6
         },
         "mode": "markers+text",
         "showlegend": false,
         "text": "HLMA.L (16.25%, 22.81%)",
         "textposition": "top center",
         "x": [
          0.2281168657349955
         ],
         "y": [
          0.16245179821950195
         ],
         "type": "scatter"
        },
        {
         "marker": {
          "color": "blue",
          "size": 6
         },
         "mode": "markers+text",
         "showlegend": false,
         "text": "WPP.L (3.03%, 30.23%)",
         "textposition": "top center",
         "x": [
          0.3022774883130798
         ],
         "y": [
          0.030285876542963885
         ],
         "type": "scatter"
        },
        {
         "marker": {
          "color": "blue",
          "size": 6
         },
         "mode": "markers+text",
         "showlegend": false,
         "text": "JBL (6.68%, 46.12%)",
         "textposition": "top center",
         "x": [
          0.4612202773612552
         ],
         "y": [
          0.06675532010737473
         ],
         "type": "scatter"
        },
        {
         "marker": {
          "color": "blue",
          "size": 6
         },
         "mode": "markers+text",
         "showlegend": false,
         "text": "3279.T (3.23%, 25.75%)",
         "textposition": "top center",
         "x": [
          0.25748869061537594
         ],
         "y": [
          0.03230945606808944
         ],
         "type": "scatter"
        },
        {
         "marker": {
          "color": "blue",
          "size": 6
         },
         "mode": "markers+text",
         "showlegend": false,
         "text": "JEN.DE (2.87%, 37.78%)",
         "textposition": "top center",
         "x": [
          0.37777553463791935
         ],
         "y": [
          0.028678564983124266
         ],
         "type": "scatter"
        },
        {
         "marker": {
          "color": "blue",
          "size": 6
         },
         "mode": "markers+text",
         "showlegend": false,
         "text": "LXP (7.22%, 31.67%)",
         "textposition": "top center",
         "x": [
          0.31673136461509116
         ],
         "y": [
          0.0722427931463705
         ],
         "type": "scatter"
        },
        {
         "marker": {
          "color": "blue",
          "size": 6
         },
         "mode": "markers+text",
         "showlegend": false,
         "text": "TRMB (12.86%, 40.80%)",
         "textposition": "top center",
         "x": [
          0.4079910744437131
         ],
         "y": [
          0.12862832043180106
         ],
         "type": "scatter"
        },
        {
         "marker": {
          "color": "blue",
          "size": 6
         },
         "mode": "markers+text",
         "showlegend": false,
         "text": "WKP.L (3.83%, 33.40%)",
         "textposition": "top center",
         "x": [
          0.3339835663273147
         ],
         "y": [
          0.03829787000901641
         ],
         "type": "scatter"
        },
        {
         "marker": {
          "color": "blue",
          "size": 6
         },
         "mode": "markers+text",
         "showlegend": false,
         "text": "6028.T (5.07%, 25.83%)",
         "textposition": "top center",
         "x": [
          0.25832991941972966
         ],
         "y": [
          0.05068129531518806
         ],
         "type": "scatter"
        },
        {
         "marker": {
          "color": "blue",
          "size": 6
         },
         "mode": "markers+text",
         "showlegend": false,
         "text": "NLY (10.15%, 26.16%)",
         "textposition": "top center",
         "x": [
          0.2616184331921433
         ],
         "y": [
          0.10148979752809328
         ],
         "type": "scatter"
        },
        {
         "marker": {
          "color": "blue",
          "size": 6
         },
         "mode": "markers+text",
         "showlegend": false,
         "text": "KGF.L (0.10%, 28.53%)",
         "textposition": "top center",
         "x": [
          0.28527914067688026
         ],
         "y": [
          9.710219642897755E-4
         ],
         "type": "scatter"
        },
        {
         "marker": {
          "color": "blue",
          "size": 6
         },
         "mode": "markers+text",
         "showlegend": false,
         "text": "RMAX (-2.94%, 25.97%)",
         "textposition": "top center",
         "x": [
          0.2597438756869323
         ],
         "y": [
          -0.02936705465085243
         ],
         "type": "scatter"
        },
        {
         "marker": {
          "color": "blue",
          "size": 6
         },
         "mode": "markers+text",
         "showlegend": false,
         "text": "7951.T (6.72%, 32.48%)",
         "textposition": "top center",
         "x": [
          0.3248049605481871
         ],
         "y": [
          0.06723366146383847
         ],
         "type": "scatter"
        },
        {
         "marker": {
          "color": "blue",
          "size": 6
         },
         "mode": "markers+text",
         "showlegend": false,
         "text": "7846.T (10.83%, 32.57%)",
         "textposition": "top center",
         "x": [
          0.32565332014529585
         ],
         "y": [
          0.10832218188268872
         ],
         "type": "scatter"
        },
        {
         "marker": {
          "color": "blue",
          "size": 6
         },
         "mode": "markers+text",
         "showlegend": false,
         "text": "SBAC (14.02%, 64.16%)",
         "textposition": "top center",
         "x": [
          0.6415863162974351
         ],
         "y": [
          0.14016237371591522
         ],
         "type": "scatter"
        },
        {
         "marker": {
          "color": "blue",
          "size": 6
         },
         "mode": "markers+text",
         "showlegend": false,
         "text": "KRG (1.20%, 34.23%)",
         "textposition": "top center",
         "x": [
          0.3423050924540538
         ],
         "y": [
          0.011964820250486063
         ],
         "type": "scatter"
        },
        {
         "marker": {
          "color": "blue",
          "size": 6
         },
         "mode": "markers+text",
         "showlegend": false,
         "text": "ATR (11.73%, 20.38%)",
         "textposition": "top center",
         "x": [
          0.20378628091838843
         ],
         "y": [
          0.11725410298285222
         ],
         "type": "scatter"
        },
        {
         "marker": {
          "color": "blue",
          "size": 6
         },
         "mode": "markers+text",
         "showlegend": false,
         "text": "ELME (5.79%, 23.02%)",
         "textposition": "top center",
         "x": [
          0.23023664782632217
         ],
         "y": [
          0.05791117520563338
         ],
         "type": "scatter"
        },
        {
         "marker": {
          "color": "blue",
          "size": 6
         },
         "mode": "markers+text",
         "showlegend": false,
         "text": "DNLM.L (11.50%, 49.30%)",
         "textposition": "top center",
         "x": [
          0.4929850797638031
         ],
         "y": [
          0.11504053552678273
         ],
         "type": "scatter"
        },
        {
         "marker": {
          "color": "blue",
          "size": 6
         },
         "mode": "markers+text",
         "showlegend": false,
         "text": "BDEV.L (8.41%, 47.67%)",
         "textposition": "top center",
         "x": [
          0.4767440810376571
         ],
         "y": [
          0.0840978010525848
         ],
         "type": "scatter"
        },
        {
         "marker": {
          "color": "blue",
          "size": 6
         },
         "mode": "markers+text",
         "showlegend": false,
         "text": "TEP.L (14.32%, 34.56%)",
         "textposition": "top center",
         "x": [
          0.345583189041469
         ],
         "y": [
          0.143153772076553
         ],
         "type": "scatter"
        },
        {
         "marker": {
          "color": "blue",
          "size": 6
         },
         "mode": "markers+text",
         "showlegend": false,
         "text": "ESRT (-0.75%, 22.47%)",
         "textposition": "top center",
         "x": [
          0.22470398873358158
         ],
         "y": [
          -0.007513644003440567
         ],
         "type": "scatter"
        },
        {
         "marker": {
          "color": "blue",
          "size": 6
         },
         "mode": "markers+text",
         "showlegend": false,
         "text": "CGNX (7.77%, 40.78%)",
         "textposition": "top center",
         "x": [
          0.4077948869954553
         ],
         "y": [
          0.0776539295538734
         ],
         "type": "scatter"
        },
        {
         "marker": {
          "color": "blue",
          "size": 6
         },
         "mode": "markers+text",
         "showlegend": false,
         "text": "ZBRA (11.13%, 34.43%)",
         "textposition": "top center",
         "x": [
          0.34429095476754257
         ],
         "y": [
          0.1112661058359139
         ],
         "type": "scatter"
        },
        {
         "marker": {
          "color": "blue",
          "size": 6
         },
         "mode": "markers+text",
         "showlegend": false,
         "text": "DLX (4.61%, 38.23%)",
         "textposition": "top center",
         "x": [
          0.3822731057542239
         ],
         "y": [
          0.04612925240472565
         ],
         "type": "scatter"
        },
        {
         "marker": {
          "color": "blue",
          "size": 6
         },
         "mode": "markers+text",
         "showlegend": false,
         "text": "BWA (9.47%, 33.21%)",
         "textposition": "top center",
         "x": [
          0.33205442960815384
         ],
         "y": [
          0.09470414219914325
         ],
         "type": "scatter"
        },
        {
         "marker": {
          "color": "blue",
          "size": 6
         },
         "mode": "markers+text",
         "showlegend": false,
         "text": "ELV (12.99%, 24.94%)",
         "textposition": "top center",
         "x": [
          0.24938328308855354
         ],
         "y": [
          0.12992373585769834
         ],
         "type": "scatter"
        },
        {
         "marker": {
          "color": "blue",
          "size": 6
         },
         "mode": "markers+text",
         "showlegend": false,
         "text": "NYT (2.35%, 35.22%)",
         "textposition": "top center",
         "x": [
          0.352241225712527
         ],
         "y": [
          0.02345680566408026
         ],
         "type": "scatter"
        },
        {
         "marker": {
          "color": "blue",
          "size": 6
         },
         "mode": "markers+text",
         "showlegend": false,
         "text": "SNWS.L (3.59%, 39.10%)",
         "textposition": "top center",
         "x": [
          0.391009618417759
         ],
         "y": [
          0.035937904832605616
         ],
         "type": "scatter"
        },
        {
         "marker": {
          "color": "blue",
          "size": 6
         },
         "mode": "markers+text",
         "showlegend": false,
         "text": "INS.DE (1.97%, 15.37%)",
         "textposition": "top center",
         "x": [
          0.15366769459387988
         ],
         "y": [
          0.019687102369930765
         ],
         "type": "scatter"
        },
        {
         "marker": {
          "color": "blue",
          "size": 6
         },
         "mode": "markers+text",
         "showlegend": false,
         "text": "INCH.L (16.99%, 106.47%)",
         "textposition": "top center",
         "x": [
          1.0646741142872305
         ],
         "y": [
          0.16985003836021084
         ],
         "type": "scatter"
        },
        {
         "marker": {
          "color": "blue",
          "size": 6
         },
         "mode": "markers+text",
         "showlegend": false,
         "text": "NWSA (2.35%, 20.83%)",
         "textposition": "top center",
         "x": [
          0.20826852087413
         ],
         "y": [
          0.023516548238976975
         ],
         "type": "scatter"
        },
        {
         "marker": {
          "color": "blue",
          "size": 6
         },
         "mode": "markers+text",
         "showlegend": false,
         "text": "AT1.DE (-0.94%, 25.55%)",
         "textposition": "top center",
         "x": [
          0.25552725388713743
         ],
         "y": [
          -0.009351535438280156
         ],
         "type": "scatter"
        },
        {
         "marker": {
          "color": "blue",
          "size": 6
         },
         "mode": "markers+text",
         "showlegend": false,
         "text": "MKSI (7.51%, 46.76%)",
         "textposition": "top center",
         "x": [
          0.467642857692108
         ],
         "y": [
          0.07511316394382228
         ],
         "type": "scatter"
        },
        {
         "marker": {
          "color": "blue",
          "size": 6
         },
         "mode": "markers+text",
         "showlegend": false,
         "text": "7914.T (1.57%, 28.92%)",
         "textposition": "top center",
         "x": [
          0.2892423554308118
         ],
         "y": [
          0.015707109300910016
         ],
         "type": "scatter"
        },
        {
         "marker": {
          "color": "blue",
          "size": 6
         },
         "mode": "markers+text",
         "showlegend": false,
         "text": "MMI (2.83%, 29.71%)",
         "textposition": "top center",
         "x": [
          0.29714834345103147
         ],
         "y": [
          0.02831342436096862
         ],
         "type": "scatter"
        },
        {
         "marker": {
          "color": "blue",
          "size": 6
         },
         "mode": "markers+text",
         "showlegend": false,
         "text": "EXPN.L (10.70%, 30.11%)",
         "textposition": "top center",
         "x": [
          0.30113402003638445
         ],
         "y": [
          0.1070007051500006
         ],
         "type": "scatter"
        },
        {
         "marker": {
          "color": "blue",
          "size": 6
         },
         "mode": "markers+text",
         "showlegend": false,
         "text": "GRI.L (9.35%, 37.17%)",
         "textposition": "top center",
         "x": [
          0.37168176031195993
         ],
         "y": [
          0.09350943543479606
         ],
         "type": "scatter"
        },
        {
         "marker": {
          "color": "blue",
          "size": 6
         },
         "mode": "markers+text",
         "showlegend": false,
         "text": "SNBR (5.52%, 89.48%)",
         "textposition": "top center",
         "x": [
          0.8948219930249123
         ],
         "y": [
          0.05524746459518948
         ],
         "type": "scatter"
        },
        {
         "marker": {
          "color": "blue",
          "size": 6
         },
         "mode": "markers+text",
         "showlegend": false,
         "text": "SMWH.L (7.52%, 24.72%)",
         "textposition": "top center",
         "x": [
          0.24721146063616908
         ],
         "y": [
          0.0751857454943019
         ],
         "type": "scatter"
        },
        {
         "marker": {
          "color": "blue",
          "size": 6
         },
         "mode": "markers+text",
         "showlegend": false,
         "text": "IR (5.16%, 19.91%)",
         "textposition": "top center",
         "x": [
          0.1990680020666532
         ],
         "y": [
          0.051560054819841605
         ],
         "type": "scatter"
        },
        {
         "marker": {
          "color": "blue",
          "size": 6
         },
         "mode": "markers+text",
         "showlegend": false,
         "text": "ITV.L (-2.66%, 41.69%)",
         "textposition": "top center",
         "x": [
          0.41688945487052
         ],
         "y": [
          -0.026558407031949005
         ],
         "type": "scatter"
        },
        {
         "marker": {
          "color": "blue",
          "size": 6
         },
         "mode": "markers+text",
         "showlegend": false,
         "text": "LAD (12.23%, 50.11%)",
         "textposition": "top center",
         "x": [
          0.5010571665915663
         ],
         "y": [
          0.12225244885860898
         ],
         "type": "scatter"
        },
        {
         "marker": {
          "color": "blue",
          "size": 6
         },
         "mode": "markers+text",
         "showlegend": false,
         "text": "HSII (3.53%, 45.05%)",
         "textposition": "top center",
         "x": [
          0.45053026955309394
         ],
         "y": [
          0.03529584118058704
         ],
         "type": "scatter"
        },
        {
         "marker": {
          "color": "blue",
          "size": 6
         },
         "mode": "markers+text",
         "showlegend": false,
         "text": "CUZ (2.71%, 28.67%)",
         "textposition": "top center",
         "x": [
          0.286652844025751
         ],
         "y": [
          0.02712623392736413
         ],
         "type": "scatter"
        },
        {
         "marker": {
          "color": "blue",
          "size": 6
         },
         "mode": "markers+text",
         "showlegend": false,
         "text": "LIN (14.80%, 20.88%)",
         "textposition": "top center",
         "x": [
          0.20879737798012804
         ],
         "y": [
          0.14803133662509804
         ],
         "type": "scatter"
        },
        {
         "marker": {
          "color": "blue",
          "size": 6
         },
         "mode": "markers+text",
         "showlegend": false,
         "text": "PHP.L (10.74%, 21.40%)",
         "textposition": "top center",
         "x": [
          0.2139771471192401
         ],
         "y": [
          0.10741292623986443
         ],
         "type": "scatter"
        },
        {
         "marker": {
          "color": "blue",
          "size": 6
         },
         "mode": "markers+text",
         "showlegend": false,
         "text": "NL (4.89%, 60.35%)",
         "textposition": "top center",
         "x": [
          0.6034987090743898
         ],
         "y": [
          0.04885441295328796
         ],
         "type": "scatter"
        },
        {
         "marker": {
          "color": "blue",
          "size": 6
         },
         "mode": "markers+text",
         "showlegend": false,
         "text": "BALL (15.01%, 24.22%)",
         "textposition": "top center",
         "x": [
          0.24218023997789911
         ],
         "y": [
          0.1501007493433879
         ],
         "type": "scatter"
        },
        {
         "marker": {
          "color": "blue",
          "size": 6
         },
         "mode": "markers+text",
         "showlegend": false,
         "text": "2146.T (5.92%, 87.59%)",
         "textposition": "top center",
         "x": [
          0.8759118558954719
         ],
         "y": [
          0.05920245624025644
         ],
         "type": "scatter"
        },
        {
         "marker": {
          "color": "blue",
          "size": 6
         },
         "mode": "markers+text",
         "showlegend": false,
         "text": "DHR (17.59%, 24.15%)",
         "textposition": "top center",
         "x": [
          0.24153542249719834
         ],
         "y": [
          0.1759354301926006
         ],
         "type": "scatter"
        },
        {
         "marker": {
          "color": "blue",
          "size": 6
         },
         "mode": "markers+text",
         "showlegend": false,
         "text": "KIM (8.23%, 32.28%)",
         "textposition": "top center",
         "x": [
          0.32281102460888716
         ],
         "y": [
          0.08232115222810132
         ],
         "type": "scatter"
        },
        {
         "marker": {
          "color": "blue",
          "size": 6
         },
         "mode": "markers+text",
         "showlegend": false,
         "text": "8057.T (6.55%, 42.24%)",
         "textposition": "top center",
         "x": [
          0.4224324606009725
         ],
         "y": [
          0.06549981795341187
         ],
         "type": "scatter"
        },
        {
         "marker": {
          "color": "blue",
          "size": 6
         },
         "mode": "markers+text",
         "showlegend": false,
         "text": "6841.T (6.48%, 34.65%)",
         "textposition": "top center",
         "x": [
          0.3465348397087141
         ],
         "y": [
          0.06484090121566677
         ],
         "type": "scatter"
        },
        {
         "marker": {
          "color": "blue",
          "size": 6
         },
         "mode": "markers+text",
         "showlegend": false,
         "text": "MAC (5.18%, 55.59%)",
         "textposition": "top center",
         "x": [
          0.5558641784533797
         ],
         "y": [
          0.05183891812939967
         ],
         "type": "scatter"
        },
        {
         "marker": {
          "color": "blue",
          "size": 6
         },
         "mode": "markers+text",
         "showlegend": false,
         "text": "ECOR.L (9.14%, 38.11%)",
         "textposition": "top center",
         "x": [
          0.38111409635634846
         ],
         "y": [
          0.09142440513772265
         ],
         "type": "scatter"
        },
        {
         "marker": {
          "color": "blue",
          "size": 6
         },
         "mode": "markers+text",
         "showlegend": false,
         "text": "SWBI (11.71%, 78.91%)",
         "textposition": "top center",
         "x": [
          0.789074752715642
         ],
         "y": [
          0.1171135005405195
         ],
         "type": "scatter"
        },
        {
         "marker": {
          "color": "blue",
          "size": 6
         },
         "mode": "markers+text",
         "showlegend": false,
         "text": "8151.T (1.27%, 28.23%)",
         "textposition": "top center",
         "x": [
          0.28234653344919086
         ],
         "y": [
          0.012734348283650387
         ],
         "type": "scatter"
        },
        {
         "marker": {
          "color": "blue",
          "size": 6
         },
         "mode": "markers+text",
         "showlegend": false,
         "text": "CNNE (0.30%, 17.98%)",
         "textposition": "top center",
         "x": [
          0.17976538032186612
         ],
         "y": [
          0.002957568207517358
         ],
         "type": "scatter"
        },
        {
         "marker": {
          "color": "blue",
          "size": 6
         },
         "mode": "markers+text",
         "showlegend": false,
         "text": "PLD (12.17%, 28.19%)",
         "textposition": "top center",
         "x": [
          0.28187624100979086
         ],
         "y": [
          0.12173769159151471
         ],
         "type": "scatter"
        },
        {
         "marker": {
          "color": "blue",
          "size": 6
         },
         "mode": "markers+text",
         "showlegend": false,
         "text": "REXR (6.61%, 15.93%)",
         "textposition": "top center",
         "x": [
          0.15929356018680121
         ],
         "y": [
          0.06611778958424819
         ],
         "type": "scatter"
        },
        {
         "marker": {
          "color": "blue",
          "size": 6
         },
         "mode": "markers+text",
         "showlegend": false,
         "text": "IPGP (6.09%, 49.05%)",
         "textposition": "top center",
         "x": [
          0.4904622247619312
         ],
         "y": [
          0.060880767764945665
         ],
         "type": "scatter"
        },
        {
         "marker": {
          "color": "blue",
          "size": 6
         },
         "mode": "markers+text",
         "showlegend": false,
         "text": "RHI (7.96%, 33.23%)",
         "textposition": "top center",
         "x": [
          0.3323166662248764
         ],
         "y": [
          0.07959187695210268
         ],
         "type": "scatter"
        },
        {
         "marker": {
          "color": "blue",
          "size": 6
         },
         "mode": "markers+text",
         "showlegend": false,
         "text": "6845.T (11.35%, 27.24%)",
         "textposition": "top center",
         "x": [
          0.2723793840553619
         ],
         "y": [
          0.1135297108972444
         ],
         "type": "scatter"
        },
        {
         "marker": {
          "color": "blue",
          "size": 6
         },
         "mode": "markers+text",
         "showlegend": false,
         "text": "7868.T (4.26%, 46.73%)",
         "textposition": "top center",
         "x": [
          0.46730378986501636
         ],
         "y": [
          0.042626114291955064
         ],
         "type": "scatter"
        },
        {
         "marker": {
          "color": "blue",
          "size": 6
         },
         "mode": "markers+text",
         "showlegend": false,
         "text": "CDP (10.83%, 23.77%)",
         "textposition": "top center",
         "x": [
          0.23767661907817195
         ],
         "y": [
          0.10831172880898743
         ],
         "type": "scatter"
        },
        {
         "marker": {
          "color": "blue",
          "size": 6
         },
         "mode": "markers+text",
         "showlegend": false,
         "text": "AAP (3.87%, 31.30%)",
         "textposition": "top center",
         "x": [
          0.31295119023061035
         ],
         "y": [
          0.03872345745064809
         ],
         "type": "scatter"
        },
        {
         "marker": {
          "color": "blue",
          "size": 6
         },
         "mode": "markers+text",
         "showlegend": false,
         "text": "HEAD.L (1.25%, 30.70%)",
         "textposition": "top center",
         "x": [
          0.3069928934275744
         ],
         "y": [
          0.012460927953122702
         ],
         "type": "scatter"
        },
        {
         "marker": {
          "color": "blue",
          "size": 6
         },
         "mode": "markers+text",
         "showlegend": false,
         "text": "GOLF (5.61%, 16.21%)",
         "textposition": "top center",
         "x": [
          0.16210808275706304
         ],
         "y": [
          0.0561244684068849
         ],
         "type": "scatter"
        },
        {
         "marker": {
          "color": "blue",
          "size": 6
         },
         "mode": "markers+text",
         "showlegend": false,
         "text": "HAS.L (-1.89%, 31.89%)",
         "textposition": "top center",
         "x": [
          0.3189160581551638
         ],
         "y": [
          -0.01886252014713885
         ],
         "type": "scatter"
        },
        {
         "marker": {
          "color": "blue",
          "size": 6
         },
         "mode": "markers+text",
         "showlegend": false,
         "text": "LSL.L (8.54%, 61.75%)",
         "textposition": "top center",
         "x": [
          0.6174956654485675
         ],
         "y": [
          0.08543477885747874
         ],
         "type": "scatter"
        },
        {
         "marker": {
          "color": "blue",
          "size": 6
         },
         "mode": "markers+text",
         "showlegend": false,
         "text": "7272.T (8.09%, 32.51%)",
         "textposition": "top center",
         "x": [
          0.3250986623789385
         ],
         "y": [
          0.08087336602058426
         ],
         "type": "scatter"
        },
        {
         "marker": {
          "color": "blue",
          "size": 6
         },
         "mode": "markers+text",
         "showlegend": false,
         "text": "RCH.L (-2.91%, 59.95%)",
         "textposition": "top center",
         "x": [
          0.5995292556234981
         ],
         "y": [
          -0.02913877384462016
         ],
         "type": "scatter"
        },
        {
         "marker": {
          "color": "blue",
          "size": 6
         },
         "mode": "markers+text",
         "showlegend": false,
         "text": "ATGE (5.26%, 42.44%)",
         "textposition": "top center",
         "x": [
          0.4244111631354936
         ],
         "y": [
          0.05257417621036797
         ],
         "type": "scatter"
        },
        {
         "marker": {
          "color": "blue",
          "size": 6
         },
         "mode": "markers+text",
         "showlegend": false,
         "text": "7701.T (10.89%, 27.48%)",
         "textposition": "top center",
         "x": [
          0.2747698121862362
         ],
         "y": [
          0.108912790189017
         ],
         "type": "scatter"
        },
        {
         "marker": {
          "color": "blue",
          "size": 6
         },
         "mode": "markers+text",
         "showlegend": false,
         "text": "SAP.DE (8.61%, 35.44%)",
         "textposition": "top center",
         "x": [
          0.3543538223371866
         ],
         "y": [
          0.0861150208632171
         ],
         "type": "scatter"
        },
        {
         "marker": {
          "color": "blue",
          "size": 6
         },
         "mode": "markers+text",
         "showlegend": false,
         "text": "GWI.L (-1.36%, 31.48%)",
         "textposition": "top center",
         "x": [
          0.31479998945902693
         ],
         "y": [
          -0.01361269511422536
         ],
         "type": "scatter"
        },
        {
         "marker": {
          "color": "blue",
          "size": 6
         },
         "mode": "markers+text",
         "showlegend": false,
         "text": "POOL (20.49%, 30.89%)",
         "textposition": "top center",
         "x": [
          0.3089020804580978
         ],
         "y": [
          0.2049347026574866
         ],
         "type": "scatter"
        },
        {
         "marker": {
          "color": "blue",
          "size": 6
         },
         "mode": "markers+text",
         "showlegend": false,
         "text": "AZO (21.10%, 24.79%)",
         "textposition": "top center",
         "x": [
          0.24786934781636236
         ],
         "y": [
          0.2109905264180547
         ],
         "type": "scatter"
        },
        {
         "marker": {
          "color": "blue",
          "size": 6
         },
         "mode": "markers+text",
         "showlegend": false,
         "text": "ZWS (2.32%, 24.97%)",
         "textposition": "top center",
         "x": [
          0.2496668199792046
         ],
         "y": [
          0.023183474346148314
         ],
         "type": "scatter"
        },
        {
         "marker": {
          "color": "blue",
          "size": 6
         },
         "mode": "markers+text",
         "showlegend": false,
         "text": "GTX (-1.64%, 47.85%)",
         "textposition": "top center",
         "x": [
          0.47847905219097947
         ],
         "y": [
          -0.016408269694872413
         ],
         "type": "scatter"
        },
        {
         "marker": {
          "color": "blue",
          "size": 6
         },
         "mode": "markers+text",
         "showlegend": false,
         "text": "LKQ (12.38%, 33.45%)",
         "textposition": "top center",
         "x": [
          0.33448106552603396
         ],
         "y": [
          0.12381290962807179
         ],
         "type": "scatter"
        },
        {
         "marker": {
          "color": "blue",
          "size": 6
         },
         "mode": "markers+text",
         "showlegend": false,
         "text": "2154.T (17.85%, 62.42%)",
         "textposition": "top center",
         "x": [
          0.6242158548562733
         ],
         "y": [
          0.17854931457681844
         ],
         "type": "scatter"
        },
        {
         "marker": {
          "color": "blue",
          "size": 6
         },
         "mode": "markers+text",
         "showlegend": false,
         "text": "MIDW.L (1.81%, 31.24%)",
         "textposition": "top center",
         "x": [
          0.3124071846186274
         ],
         "y": [
          0.01806732457194271
         ],
         "type": "scatter"
        },
        {
         "marker": {
          "color": "blue",
          "size": 6
         },
         "mode": "markers+text",
         "showlegend": false,
         "text": "HPQ (5.96%, 33.95%)",
         "textposition": "top center",
         "x": [
          0.33953013746576816
         ],
         "y": [
          0.05957573344489786
         ],
         "type": "scatter"
        },
        {
         "marker": {
          "color": "blue",
          "size": 6
         },
         "mode": "markers+text",
         "showlegend": false,
         "text": "AZEK (2.09%, 22.16%)",
         "textposition": "top center",
         "x": [
          0.2216223232462371
         ],
         "y": [
          0.02089304083359056
         ],
         "type": "scatter"
        },
        {
         "marker": {
          "color": "blue",
          "size": 6
         },
         "mode": "markers+text",
         "showlegend": false,
         "text": "ADV.DE (0.76%, 69.07%)",
         "textposition": "top center",
         "x": [
          0.6907050411586119
         ],
         "y": [
          0.0075947149915642775
         ],
         "type": "scatter"
        },
        {
         "marker": {
          "color": "blue",
          "size": 6
         },
         "mode": "markers+text",
         "showlegend": false,
         "text": "VRE (3.40%, 28.41%)",
         "textposition": "top center",
         "x": [
          0.28409024023235707
         ],
         "y": [
          0.0339600661326942
         ],
         "type": "scatter"
        },
        {
         "marker": {
          "color": "blue",
          "size": 6
         },
         "mode": "markers+text",
         "showlegend": false,
         "text": "NSIT (8.69%, 53.06%)",
         "textposition": "top center",
         "x": [
          0.5305608268536656
         ],
         "y": [
          0.08691156011549084
         ],
         "type": "scatter"
        },
        {
         "marker": {
          "color": "blue",
          "size": 6
         },
         "mode": "markers+text",
         "showlegend": false,
         "text": "KMX (17.47%, 49.77%)",
         "textposition": "top center",
         "x": [
          0.49774228520342484
         ],
         "y": [
          0.17471338411489845
         ],
         "type": "scatter"
        },
        {
         "marker": {
          "color": "blue",
          "size": 6
         },
         "mode": "markers+text",
         "showlegend": false,
         "text": "OXIG.L (12.80%, 41.15%)",
         "textposition": "top center",
         "x": [
          0.4115039718337094
         ],
         "y": [
          0.1279829687425713
         ],
         "type": "scatter"
        },
        {
         "marker": {
          "color": "blue",
          "size": 6
         },
         "mode": "markers+text",
         "showlegend": false,
         "text": "CDNS (12.00%, 35.23%)",
         "textposition": "top center",
         "x": [
          0.35227599812373844
         ],
         "y": [
          0.12001553308160351
         ],
         "type": "scatter"
        },
        {
         "marker": {
          "color": "red",
          "size": 10,
          "symbol": "star"
         },
         "mode": "markers",
         "name": "Max Sharpe Portfolio",
         "x": [
          0.11591987511217045
         ],
         "y": [
          0.16089413116773077
         ],
         "type": "scatter"
        },
        {
         "line": {
          "color": "blue",
          "width": 3
         },
         "mode": "lines",
         "name": "Efficient Frontier",
         "x": [
          0.050364402135051556,
          0.05035660562618249,
          0.050349810926060674,
          0.05034388870920074,
          0.050338726491533446,
          0.05033422639956374,
          0.050330303246114594,
          0.05032688286623344,
          0.05032390067615227,
          0.05032130042420996,
          0.05031903310731072,
          0.05031705603033869,
          0.050315331989182525,
          0.05031382856075438,
          0.050312517485712104,
          0.050311374131563634,
          0.05031037702552451,
          0.05030950744794098,
          0.05030874907833353,
          0.050308087687175915,
          0.05030751086744708,
          0.050307007800781026,
          0.050306569053725055,
          0.050306186400203096,
          0.050305852666798594,
          0.05030556159790697,
          0.05030530773819649,
          0.05030508633014814,
          0.050304893224732465,
          0.050304724803536205,
          0.050304577910865594,
          0.05030444979454634,
          0.05030433805430537,
          0.05030424059675851,
          0.05030415559616179,
          0.050304081460183864,
          0.05030401680005786,
          0.05030396040455325,
          0.05030391121727484,
          0.050303868316867735,
          0.05030383089975152,
          0.05030379826506447,
          0.05030376980153173,
          0.050303744976012706,
          0.0503037233235136,
          0.0503037044384758,
          0.05030368796717807,
          0.050303673601111376,
          0.050303661071199,
          0.05030365014275674,
          0.05030364061109622,
          0.05030363229769124,
          0.050303625046834013,
          0.0503036187227181,
          0.05030361320689498,
          0.0503036083960554,
          0.05030360420009445,
          0.050303600540423446,
          0.05030359734849848,
          0.05030359456453647,
          0.05030359213639494,
          0.050303590018596425,
          0.050303588171475386,
          0.05030358656043638,
          0.05027988675039651,
          0.05029564040095404,
          0.05036295774743819,
          0.05047941295359401,
          0.05061954754328853,
          0.050805562910430126,
          0.051027278537945225,
          0.05128418948417324,
          0.051575654221063055,
          0.05190918401414387,
          0.05226295610813443,
          0.052646290183646395,
          0.0530634572424651,
          0.05352103795844071,
          0.053989911216505204,
          0.05450416202365509,
          0.055025837232405,
          0.05559579769879711,
          0.05617924978984149,
          0.05678130718105297,
          0.05742572859964863,
          0.058075481188503336,
          0.05876744908316417,
          0.059462308883354076,
          0.060197674356357596,
          0.06094702853169,
          0.06171213739423593,
          0.06249630152718934,
          0.06329942790054775,
          0.0641197769497083,
          0.06495581171795574,
          0.06580774829791694,
          0.06667557804095346,
          0.06755824061490544,
          0.06845508191277748,
          0.06936553763561713,
          0.07028907618293195,
          0.07122518818647879,
          0.0721733843212658,
          0.07313319454999602,
          0.07410416758809169,
          0.07508587038068737,
          0.07607788756123093,
          0.07707982089226394,
          0.07809128869366636,
          0.079111925263777,
          0.08014095924897358,
          0.08117872716222907,
          0.08222540109494086,
          0.08327941242573551,
          0.08433886191186679,
          0.08540877193316253,
          0.0864866300412642,
          0.08757172036275974,
          0.08866369844401881,
          0.08977022776327837,
          0.09087146481855143,
          0.09198251835753828,
          0.09311880903992191,
          0.09425062244228083,
          0.09538927254266602,
          0.09653535433679512,
          0.09768863580679414,
          0.09884733771914875,
          0.10004988705059359,
          0.10123726685928626,
          0.10243128250164919,
          0.1036634164422725,
          0.10492083640789714,
          0.10620010363067153,
          0.10750015190058533,
          0.10882020418692072,
          0.1101595377341781,
          0.11151745742806118,
          0.11287769333032623,
          0.11425676463310741,
          0.11572262735924116,
          0.11710929214492619,
          0.11855027460116331,
          0.1200408418116431,
          0.12156455013183312,
          0.12311083011953454,
          0.12477035418445528,
          0.12649324303777976,
          0.12828916517829111,
          0.13015665092934892,
          0.1320928615585622,
          0.1340948448649774,
          0.13615970277865433,
          0.13828461919683607,
          0.1404668685843988,
          0.14270384310592327,
          0.14498698173691296,
          0.1473199291141999,
          0.14970601125952718,
          0.15213856332311773,
          0.15459694981835648,
          0.1571521773612155,
          0.15972014467144716,
          0.16230350881506792,
          0.16496034946099422,
          0.16764346571134633,
          0.17043038859154971,
          0.1732895103723043,
          0.17621701062179546,
          0.17923611378723997,
          0.18237401378161147,
          0.18561438193682953,
          0.1889743535459959,
          0.1924643101169642,
          0.1960682469024216,
          0.19986371554184143,
          0.20387156070147902,
          0.20807892165572345,
          0.21250769427678087,
          0.2173617874248502,
          0.22257888924918617,
          0.22840412325213966,
          0.23484007441960628,
          0.2418597163008396,
          0.24938838561155882,
          0.25740876565256277,
          0.2658469194861851,
          0.27469564999862695,
          0.2838835543883564,
          0.2934133539668309,
          0.30325858434984876,
          0.31332079452009676,
          0.32363728164983324,
          0.33417460233868107,
          0.3449106594205066,
          0.3558271168244313,
          0.3669078079175682,
          0.3781382831508668,
          0.3895055844814862,
          0.4009579059143765
         ],
         "y": [
          0.02770494760331163,
          0.0277084229846703,
          0.02771145413874533,
          0.027714097838765415,
          0.027716403616709264,
          0.027718414671932444,
          0.027720168679727285,
          0.027721698497948137,
          0.027723032783375498,
          0.027724196529142556,
          0.027725211533326213,
          0.02772609680753555,
          0.0277268689332023,
          0.027727542372283056,
          0.027728129738216246,
          0.027728642032226105,
          0.027729088849408237,
          0.027729478558467198,
          0.02772981845847417,
          0.027730114915586187,
          0.02773037348228728,
          0.02773059900138788,
          0.027730795696731647,
          0.027730967252307084,
          0.027731116881247592,
          0.027731247386012917,
          0.02773136121087771,
          0.02773146048771191,
          0.027731547075909153,
          0.02773162259721275,
          0.02773168846608979,
          0.027731745916223065,
          0.027731796023618034,
          0.02773183972675462,
          0.02773187784416537,
          0.027731911089765506,
          0.02773194008622405,
          0.0277319653766268,
          0.027731987434646978,
          0.027732006673417575,
          0.02773202345326859,
          0.02773203808847615,
          0.027732050853148383,
          0.027732061986359732,
          0.02773207169662834,
          0.027732080165821286,
          0.027732087552561294,
          0.02773209399519724,
          0.02773209961439574,
          0.02773210451540105,
          0.02773210879000575,
          0.027732112518270305,
          0.027732115770023158,
          0.0277321186061674,
          0.027732121079822203,
          0.027732123237317538,
          0.027732125119061996,
          0.027732126760299663,
          0.027732128191769595,
          0.027732129440282464,
          0.02773213052922205,
          0.027732131478983724,
          0.027732132307355502,
          0.027732133029852734,
          0.028979733352399832,
          0.030714197763882005,
          0.03244853234406324,
          0.034183053125864234,
          0.035917041110971284,
          0.03765143141264658,
          0.039385680097846494,
          0.041119947190282446,
          0.042854155777791496,
          0.04458861505744924,
          0.046322657528009764,
          0.048056824919954534,
          0.049791015556661294,
          0.051525472636307613,
          0.05325958398575337,
          0.0549940386481011,
          0.056728112142392796,
          0.05846254441663267,
          0.060196749617449016,
          0.06193089475526924,
          0.06366535523445022,
          0.06539946599446532,
          0.06713392177665622,
          0.06886802807801773,
          0.07060245635906656,
          0.07233669762619624,
          0.07407074565579527,
          0.07580499853029152,
          0.0775392760392149,
          0.07927355785141586,
          0.08100781803241197,
          0.08274208840507256,
          0.08447636890044898,
          0.08621065123359815,
          0.08794493389220352,
          0.08967921660841155,
          0.09141349933481392,
          0.09314778206302175,
          0.09488206479154904,
          0.09661634752013218,
          0.09835063024872462,
          0.10008491297732038,
          0.10181919570591597,
          0.10355347843451089,
          0.10528776116310605,
          0.10702204389170188,
          0.10875630718923598,
          0.11049058109061716,
          0.11222486249250957,
          0.1139591431530093,
          0.11569337716911925,
          0.11742764914785643,
          0.11916192986863892,
          0.12089621222373578,
          0.12263049488285721,
          0.1243648091614414,
          0.12609896960411265,
          0.1278331971724067,
          0.12956771937386996,
          0.13130201832028707,
          0.13303630188779303,
          0.13477058472538425,
          0.1365048674713665,
          0.1382391099534208,
          0.1399734485217094,
          0.14170765358933282,
          0.14344143416141258,
          0.14517564079929324,
          0.14690991507115336,
          0.14864419685927768,
          0.15037847948328287,
          0.15211276220024667,
          0.15384704492754858,
          0.15558132765600013,
          0.15731524440026334,
          0.15904917624099038,
          0.1607845115767566,
          0.16251783473241616,
          0.164251204894789,
          0.1659856271779977,
          0.1677198794690444,
          0.16945341570359487,
          0.17118809518357297,
          0.17292242572015104,
          0.17465671420948115,
          0.17639099763223062,
          0.1781252804444681,
          0.17985956318314314,
          0.1815938459129535,
          0.18332812864169504,
          0.18506241137030738,
          0.1867966944609261,
          0.18853094430173972,
          0.19026507091660969,
          0.19199933916143835,
          0.19373362006971515,
          0.19546760594252038,
          0.19720238439342708,
          0.19893672570468382,
          0.2006707472071296,
          0.2024050132594215,
          0.20413909276628853,
          0.20587342529868843,
          0.20760771514351914,
          0.20934197073991867,
          0.2110761563589642,
          0.21281042460493838,
          0.21454476413836518,
          0.21627898868562262,
          0.21801336405643765,
          0.219747624959405,
          0.2214819522846286,
          0.223216261139153,
          0.2249505476367403,
          0.22668485185921627,
          0.2284191486307375,
          0.23015347973870096,
          0.23188777608990524,
          0.23362203496916806,
          0.2353563396779183,
          0.23709060008274557,
          0.23882490507230855,
          0.24055916552839357,
          0.24229347052738,
          0.24402773098519742,
          0.24576203598450835,
          0.24749638940447663,
          0.24923063411120355,
          0.2509649099330134,
          0.25269919140696795,
          0.2544334739076521,
          0.25616775659485014,
          0.25790203931592076,
          0.25963632204315445,
          0.2613706047714979,
          0.2631049859180172
         ],
         "type": "scatter"
        }
       ],
       "layout": {
        "template": {
         "data": {
          "barpolar": [
           {
            "marker": {
             "line": {
              "color": "white",
              "width": 0.5
             },
             "pattern": {
              "fillmode": "overlay",
              "size": 10,
              "solidity": 0.2
             }
            },
            "type": "barpolar"
           }
          ],
          "bar": [
           {
            "error_x": {
             "color": "#2a3f5f"
            },
            "error_y": {
             "color": "#2a3f5f"
            },
            "marker": {
             "line": {
              "color": "white",
              "width": 0.5
             },
             "pattern": {
              "fillmode": "overlay",
              "size": 10,
              "solidity": 0.2
             }
            },
            "type": "bar"
           }
          ],
          "carpet": [
           {
            "aaxis": {
             "endlinecolor": "#2a3f5f",
             "gridcolor": "#C8D4E3",
             "linecolor": "#C8D4E3",
             "minorgridcolor": "#C8D4E3",
             "startlinecolor": "#2a3f5f"
            },
            "baxis": {
             "endlinecolor": "#2a3f5f",
             "gridcolor": "#C8D4E3",
             "linecolor": "#C8D4E3",
             "minorgridcolor": "#C8D4E3",
             "startlinecolor": "#2a3f5f"
            },
            "type": "carpet"
           }
          ],
          "choropleth": [
           {
            "colorbar": {
             "outlinewidth": 0,
             "ticks": ""
            },
            "type": "choropleth"
           }
          ],
          "contourcarpet": [
           {
            "colorbar": {
             "outlinewidth": 0,
             "ticks": ""
            },
            "type": "contourcarpet"
           }
          ],
          "contour": [
           {
            "colorbar": {
             "outlinewidth": 0,
             "ticks": ""
            },
            "colorscale": [
             [
              0.0,
              "#0d0887"
             ],
             [
              0.1111111111111111,
              "#46039f"
             ],
             [
              0.2222222222222222,
              "#7201a8"
             ],
             [
              0.3333333333333333,
              "#9c179e"
             ],
             [
              0.4444444444444444,
              "#bd3786"
             ],
             [
              0.5555555555555556,
              "#d8576b"
             ],
             [
              0.6666666666666666,
              "#ed7953"
             ],
             [
              0.7777777777777778,
              "#fb9f3a"
             ],
             [
              0.8888888888888888,
              "#fdca26"
             ],
             [
              1.0,
              "#f0f921"
             ]
            ],
            "type": "contour"
           }
          ],
          "heatmapgl": [
           {
            "colorbar": {
             "outlinewidth": 0,
             "ticks": ""
            },
            "colorscale": [
             [
              0.0,
              "#0d0887"
             ],
             [
              0.1111111111111111,
              "#46039f"
             ],
             [
              0.2222222222222222,
              "#7201a8"
             ],
             [
              0.3333333333333333,
              "#9c179e"
             ],
             [
              0.4444444444444444,
              "#bd3786"
             ],
             [
              0.5555555555555556,
              "#d8576b"
             ],
             [
              0.6666666666666666,
              "#ed7953"
             ],
             [
              0.7777777777777778,
              "#fb9f3a"
             ],
             [
              0.8888888888888888,
              "#fdca26"
             ],
             [
              1.0,
              "#f0f921"
             ]
            ],
            "type": "heatmapgl"
           }
          ],
          "heatmap": [
           {
            "colorbar": {
             "outlinewidth": 0,
             "ticks": ""
            },
            "colorscale": [
             [
              0.0,
              "#0d0887"
             ],
             [
              0.1111111111111111,
              "#46039f"
             ],
             [
              0.2222222222222222,
              "#7201a8"
             ],
             [
              0.3333333333333333,
              "#9c179e"
             ],
             [
              0.4444444444444444,
              "#bd3786"
             ],
             [
              0.5555555555555556,
              "#d8576b"
             ],
             [
              0.6666666666666666,
              "#ed7953"
             ],
             [
              0.7777777777777778,
              "#fb9f3a"
             ],
             [
              0.8888888888888888,
              "#fdca26"
             ],
             [
              1.0,
              "#f0f921"
             ]
            ],
            "type": "heatmap"
           }
          ],
          "histogram2dcontour": [
           {
            "colorbar": {
             "outlinewidth": 0,
             "ticks": ""
            },
            "colorscale": [
             [
              0.0,
              "#0d0887"
             ],
             [
              0.1111111111111111,
              "#46039f"
             ],
             [
              0.2222222222222222,
              "#7201a8"
             ],
             [
              0.3333333333333333,
              "#9c179e"
             ],
             [
              0.4444444444444444,
              "#bd3786"
             ],
             [
              0.5555555555555556,
              "#d8576b"
             ],
             [
              0.6666666666666666,
              "#ed7953"
             ],
             [
              0.7777777777777778,
              "#fb9f3a"
             ],
             [
              0.8888888888888888,
              "#fdca26"
             ],
             [
              1.0,
              "#f0f921"
             ]
            ],
            "type": "histogram2dcontour"
           }
          ],
          "histogram2d": [
           {
            "colorbar": {
             "outlinewidth": 0,
             "ticks": ""
            },
            "colorscale": [
             [
              0.0,
              "#0d0887"
             ],
             [
              0.1111111111111111,
              "#46039f"
             ],
             [
              0.2222222222222222,
              "#7201a8"
             ],
             [
              0.3333333333333333,
              "#9c179e"
             ],
             [
              0.4444444444444444,
              "#bd3786"
             ],
             [
              0.5555555555555556,
              "#d8576b"
             ],
             [
              0.6666666666666666,
              "#ed7953"
             ],
             [
              0.7777777777777778,
              "#fb9f3a"
             ],
             [
              0.8888888888888888,
              "#fdca26"
             ],
             [
              1.0,
              "#f0f921"
             ]
            ],
            "type": "histogram2d"
           }
          ],
          "histogram": [
           {
            "marker": {
             "pattern": {
              "fillmode": "overlay",
              "size": 10,
              "solidity": 0.2
             }
            },
            "type": "histogram"
           }
          ],
          "mesh3d": [
           {
            "colorbar": {
             "outlinewidth": 0,
             "ticks": ""
            },
            "type": "mesh3d"
           }
          ],
          "parcoords": [
           {
            "line": {
             "colorbar": {
              "outlinewidth": 0,
              "ticks": ""
             }
            },
            "type": "parcoords"
           }
          ],
          "pie": [
           {
            "automargin": true,
            "type": "pie"
           }
          ],
          "scatter3d": [
           {
            "line": {
             "colorbar": {
              "outlinewidth": 0,
              "ticks": ""
             }
            },
            "marker": {
             "colorbar": {
              "outlinewidth": 0,
              "ticks": ""
             }
            },
            "type": "scatter3d"
           }
          ],
          "scattercarpet": [
           {
            "marker": {
             "colorbar": {
              "outlinewidth": 0,
              "ticks": ""
             }
            },
            "type": "scattercarpet"
           }
          ],
          "scattergeo": [
           {
            "marker": {
             "colorbar": {
              "outlinewidth": 0,
              "ticks": ""
             }
            },
            "type": "scattergeo"
           }
          ],
          "scattergl": [
           {
            "marker": {
             "colorbar": {
              "outlinewidth": 0,
              "ticks": ""
             }
            },
            "type": "scattergl"
           }
          ],
          "scattermapbox": [
           {
            "marker": {
             "colorbar": {
              "outlinewidth": 0,
              "ticks": ""
             }
            },
            "type": "scattermapbox"
           }
          ],
          "scatterpolargl": [
           {
            "marker": {
             "colorbar": {
              "outlinewidth": 0,
              "ticks": ""
             }
            },
            "type": "scatterpolargl"
           }
          ],
          "scatterpolar": [
           {
            "marker": {
             "colorbar": {
              "outlinewidth": 0,
              "ticks": ""
             }
            },
            "type": "scatterpolar"
           }
          ],
          "scatter": [
           {
            "fillpattern": {
             "fillmode": "overlay",
             "size": 10,
             "solidity": 0.2
            },
            "type": "scatter"
           }
          ],
          "scatterternary": [
           {
            "marker": {
             "colorbar": {
              "outlinewidth": 0,
              "ticks": ""
             }
            },
            "type": "scatterternary"
           }
          ],
          "surface": [
           {
            "colorbar": {
             "outlinewidth": 0,
             "ticks": ""
            },
            "colorscale": [
             [
              0.0,
              "#0d0887"
             ],
             [
              0.1111111111111111,
              "#46039f"
             ],
             [
              0.2222222222222222,
              "#7201a8"
             ],
             [
              0.3333333333333333,
              "#9c179e"
             ],
             [
              0.4444444444444444,
              "#bd3786"
             ],
             [
              0.5555555555555556,
              "#d8576b"
             ],
             [
              0.6666666666666666,
              "#ed7953"
             ],
             [
              0.7777777777777778,
              "#fb9f3a"
             ],
             [
              0.8888888888888888,
              "#fdca26"
             ],
             [
              1.0,
              "#f0f921"
             ]
            ],
            "type": "surface"
           }
          ],
          "table": [
           {
            "cells": {
             "fill": {
              "color": "#EBF0F8"
             },
             "line": {
              "color": "white"
             }
            },
            "header": {
             "fill": {
              "color": "#C8D4E3"
             },
             "line": {
              "color": "white"
             }
            },
            "type": "table"
           }
          ]
         },
         "layout": {
          "annotationdefaults": {
           "arrowcolor": "#2a3f5f",
           "arrowhead": 0,
           "arrowwidth": 1
          },
          "autotypenumbers": "strict",
          "coloraxis": {
           "colorbar": {
            "outlinewidth": 0,
            "ticks": ""
           }
          },
          "colorscale": {
           "diverging": [
            [
             0,
             "#8e0152"
            ],
            [
             0.1,
             "#c51b7d"
            ],
            [
             0.2,
             "#de77ae"
            ],
            [
             0.3,
             "#f1b6da"
            ],
            [
             0.4,
             "#fde0ef"
            ],
            [
             0.5,
             "#f7f7f7"
            ],
            [
             0.6,
             "#e6f5d0"
            ],
            [
             0.7,
             "#b8e186"
            ],
            [
             0.8,
             "#7fbc41"
            ],
            [
             0.9,
             "#4d9221"
            ],
            [
             1,
             "#276419"
            ]
           ],
           "sequential": [
            [
             0.0,
             "#0d0887"
            ],
            [
             0.1111111111111111,
             "#46039f"
            ],
            [
             0.2222222222222222,
             "#7201a8"
            ],
            [
             0.3333333333333333,
             "#9c179e"
            ],
            [
             0.4444444444444444,
             "#bd3786"
            ],
            [
             0.5555555555555556,
             "#d8576b"
            ],
            [
             0.6666666666666666,
             "#ed7953"
            ],
            [
             0.7777777777777778,
             "#fb9f3a"
            ],
            [
             0.8888888888888888,
             "#fdca26"
            ],
            [
             1.0,
             "#f0f921"
            ]
           ],
           "sequentialminus": [
            [
             0.0,
             "#0d0887"
            ],
            [
             0.1111111111111111,
             "#46039f"
            ],
            [
             0.2222222222222222,
             "#7201a8"
            ],
            [
             0.3333333333333333,
             "#9c179e"
            ],
            [
             0.4444444444444444,
             "#bd3786"
            ],
            [
             0.5555555555555556,
             "#d8576b"
            ],
            [
             0.6666666666666666,
             "#ed7953"
            ],
            [
             0.7777777777777778,
             "#fb9f3a"
            ],
            [
             0.8888888888888888,
             "#fdca26"
            ],
            [
             1.0,
             "#f0f921"
            ]
           ]
          },
          "colorway": [
           "#636efa",
           "#EF553B",
           "#00cc96",
           "#ab63fa",
           "#FFA15A",
           "#19d3f3",
           "#FF6692",
           "#B6E880",
           "#FF97FF",
           "#FECB52"
          ],
          "font": {
           "color": "#2a3f5f"
          },
          "geo": {
           "bgcolor": "white",
           "lakecolor": "white",
           "landcolor": "white",
           "showlakes": true,
           "showland": true,
           "subunitcolor": "#C8D4E3"
          },
          "hoverlabel": {
           "align": "left"
          },
          "hovermode": "closest",
          "mapbox": {
           "style": "light"
          },
          "paper_bgcolor": "white",
          "plot_bgcolor": "white",
          "polar": {
           "angularaxis": {
            "gridcolor": "#EBF0F8",
            "linecolor": "#EBF0F8",
            "ticks": ""
           },
           "bgcolor": "white",
           "radialaxis": {
            "gridcolor": "#EBF0F8",
            "linecolor": "#EBF0F8",
            "ticks": ""
           }
          },
          "scene": {
           "xaxis": {
            "backgroundcolor": "white",
            "gridcolor": "#DFE8F3",
            "gridwidth": 2,
            "linecolor": "#EBF0F8",
            "showbackground": true,
            "ticks": "",
            "zerolinecolor": "#EBF0F8"
           },
           "yaxis": {
            "backgroundcolor": "white",
            "gridcolor": "#DFE8F3",
            "gridwidth": 2,
            "linecolor": "#EBF0F8",
            "showbackground": true,
            "ticks": "",
            "zerolinecolor": "#EBF0F8"
           },
           "zaxis": {
            "backgroundcolor": "white",
            "gridcolor": "#DFE8F3",
            "gridwidth": 2,
            "linecolor": "#EBF0F8",
            "showbackground": true,
            "ticks": "",
            "zerolinecolor": "#EBF0F8"
           }
          },
          "shapedefaults": {
           "line": {
            "color": "#2a3f5f"
           }
          },
          "ternary": {
           "aaxis": {
            "gridcolor": "#DFE8F3",
            "linecolor": "#A2B1C6",
            "ticks": ""
           },
           "baxis": {
            "gridcolor": "#DFE8F3",
            "linecolor": "#A2B1C6",
            "ticks": ""
           },
           "bgcolor": "white",
           "caxis": {
            "gridcolor": "#DFE8F3",
            "linecolor": "#A2B1C6",
            "ticks": ""
           }
          },
          "title": {
           "x": 0.05
          },
          "xaxis": {
           "automargin": true,
           "gridcolor": "#EBF0F8",
           "linecolor": "#EBF0F8",
           "ticks": "",
           "title": {
            "standoff": 15
           },
           "zerolinecolor": "#EBF0F8",
           "zerolinewidth": 2
          },
          "yaxis": {
           "automargin": true,
           "gridcolor": "#EBF0F8",
           "linecolor": "#EBF0F8",
           "ticks": "",
           "title": {
            "standoff": 15
           },
           "zerolinecolor": "#EBF0F8",
           "zerolinewidth": 2
          }
         }
        },
        "title": {
         "text": "Efficient Frontier"
        },
        "xaxis": {
         "title": {
          "text": "Volatility (Standard Deviation)"
         }
        },
        "yaxis": {
         "title": {
          "text": "Expected Return"
         }
        }
       },
       "config": {
        "plotlyServerURL": "https://plot.ly"
       }
      },
      "text/html": [
       "<div>                            <div id=\"4523d9eb-45c5-4627-88f1-ab5d6cc49d81\" class=\"plotly-graph-div\" style=\"height:525px; width:100%;\"></div>            <script type=\"text/javascript\">                require([\"plotly\"], function(Plotly) {                    window.PLOTLYENV=window.PLOTLYENV || {};                                    if (document.getElementById(\"4523d9eb-45c5-4627-88f1-ab5d6cc49d81\")) {                    Plotly.newPlot(                        \"4523d9eb-45c5-4627-88f1-ab5d6cc49d81\",                        [{\"marker\":{\"color\":\"blue\",\"size\":6},\"mode\":\"markers+text\",\"showlegend\":false,\"text\":\"RS1.L (5.77%, 24.40%)\",\"textposition\":\"top center\",\"x\":[0.24402621250824255],\"y\":[0.05766929258778686],\"type\":\"scatter\"},{\"marker\":{\"color\":\"blue\",\"size\":6},\"mode\":\"markers+text\",\"showlegend\":false,\"text\":\"KE (1.70%, 26.35%)\",\"textposition\":\"top center\",\"x\":[0.2635338817877375],\"y\":[0.016954770807069197],\"type\":\"scatter\"},{\"marker\":{\"color\":\"blue\",\"size\":6},\"mode\":\"markers+text\",\"showlegend\":false,\"text\":\"TEG.DE (-3.98%, 36.95%)\",\"textposition\":\"top center\",\"x\":[0.36948264705976136],\"y\":[-0.03975793669234695],\"type\":\"scatter\"},{\"marker\":{\"color\":\"blue\",\"size\":6},\"mode\":\"markers+text\",\"showlegend\":false,\"text\":\"LEG.DE (4.65%, 18.97%)\",\"textposition\":\"top center\",\"x\":[0.18971742195861452],\"y\":[0.04649830618696238],\"type\":\"scatter\"},{\"marker\":{\"color\":\"blue\",\"size\":6},\"mode\":\"markers+text\",\"showlegend\":false,\"text\":\"SCS (3.83%, 36.75%)\",\"textposition\":\"top center\",\"x\":[0.36753399297096984],\"y\":[0.038306143364522205],\"type\":\"scatter\"},{\"marker\":{\"color\":\"blue\",\"size\":6},\"mode\":\"markers+text\",\"showlegend\":false,\"text\":\"HNI (6.75%, 35.26%)\",\"textposition\":\"top center\",\"x\":[0.35261239546155615],\"y\":[0.06748001656313862],\"type\":\"scatter\"},{\"marker\":{\"color\":\"blue\",\"size\":6},\"mode\":\"markers+text\",\"showlegend\":false,\"text\":\"AVT (3.47%, 36.96%)\",\"textposition\":\"top center\",\"x\":[0.3695799625419367],\"y\":[0.03470897811264528],\"type\":\"scatter\"},{\"marker\":{\"color\":\"blue\",\"size\":6},\"mode\":\"markers+text\",\"showlegend\":false,\"text\":\"ACCO (-3.37%, 120.50%)\",\"textposition\":\"top center\",\"x\":[1.2049934472256523],\"y\":[-0.03372398689273104],\"type\":\"scatter\"},{\"marker\":{\"color\":\"blue\",\"size\":6},\"mode\":\"markers+text\",\"showlegend\":false,\"text\":\"VNA.DE (5.61%, 18.53%)\",\"textposition\":\"top center\",\"x\":[0.18527949864476584],\"y\":[0.0561467155750226],\"type\":\"scatter\"},{\"marker\":{\"color\":\"blue\",\"size\":6},\"mode\":\"markers+text\",\"showlegend\":false,\"text\":\"7912.T (3.88%, 23.35%)\",\"textposition\":\"top center\",\"x\":[0.2335420792860534],\"y\":[0.03875490299383677],\"type\":\"scatter\"},{\"marker\":{\"color\":\"blue\",\"size\":6},\"mode\":\"markers+text\",\"showlegend\":false,\"text\":\"KEYS (6.54%, 18.61%)\",\"textposition\":\"top center\",\"x\":[0.1860877128914103],\"y\":[0.06543774763876509],\"type\":\"scatter\"},{\"marker\":{\"color\":\"blue\",\"size\":6},\"mode\":\"markers+text\",\"showlegend\":false,\"text\":\"SGRO.L (5.29%, 26.04%)\",\"textposition\":\"top center\",\"x\":[0.26041590721137486],\"y\":[0.05287511446311277],\"type\":\"scatter\"},{\"marker\":{\"color\":\"blue\",\"size\":6},\"mode\":\"markers+text\",\"showlegend\":false,\"text\":\"CBRE (10.24%, 48.45%)\",\"textposition\":\"top center\",\"x\":[0.4845389448354167],\"y\":[0.1024421178022068],\"type\":\"scatter\"},{\"marker\":{\"color\":\"blue\",\"size\":6},\"mode\":\"markers+text\",\"showlegend\":false,\"text\":\"BRC (9.04%, 29.56%)\",\"textposition\":\"top center\",\"x\":[0.2956022962901866],\"y\":[0.09044157378094053],\"type\":\"scatter\"},{\"marker\":{\"color\":\"blue\",\"size\":6},\"mode\":\"markers+text\",\"showlegend\":false,\"text\":\"PGRE (-3.78%, 21.09%)\",\"textposition\":\"top center\",\"x\":[0.21085734904122172],\"y\":[-0.03784955649366761],\"type\":\"scatter\"},{\"marker\":{\"color\":\"blue\",\"size\":6},\"mode\":\"markers+text\",\"showlegend\":false,\"text\":\"PSON.L (3.06%, 28.13%)\",\"textposition\":\"top center\",\"x\":[0.2812674754927999],\"y\":[0.0306194563432991],\"type\":\"scatter\"},{\"marker\":{\"color\":\"blue\",\"size\":6},\"mode\":\"markers+text\",\"showlegend\":false,\"text\":\"BBOX.L (3.75%, 14.66%)\",\"textposition\":\"top center\",\"x\":[0.14659932883318533],\"y\":[0.037453776831180896],\"type\":\"scatter\"},{\"marker\":{\"color\":\"blue\",\"size\":6},\"mode\":\"markers+text\",\"showlegend\":false,\"text\":\"REL.L (12.38%, 20.20%)\",\"textposition\":\"top center\",\"x\":[0.20195700774574638],\"y\":[0.12382958801318122],\"type\":\"scatter\"},{\"marker\":{\"color\":\"blue\",\"size\":6},\"mode\":\"markers+text\",\"showlegend\":false,\"text\":\"TMV.DE (-4.45%, 23.83%)\",\"textposition\":\"top center\",\"x\":[0.23834497398244198],\"y\":[-0.044543441446462384],\"type\":\"scatter\"},{\"marker\":{\"color\":\"blue\",\"size\":6},\"mode\":\"markers+text\",\"showlegend\":false,\"text\":\"BHE (7.87%, 36.79%)\",\"textposition\":\"top center\",\"x\":[0.3678864349081567],\"y\":[0.07873299354029006],\"type\":\"scatter\"},{\"marker\":{\"color\":\"blue\",\"size\":6},\"mode\":\"markers+text\",\"showlegend\":false,\"text\":\"PLXS (9.24%, 45.85%)\",\"textposition\":\"top center\",\"x\":[0.45846885359757283],\"y\":[0.09242253912528353],\"type\":\"scatter\"},{\"marker\":{\"color\":\"blue\",\"size\":6},\"mode\":\"markers+text\",\"showlegend\":false,\"text\":\"GPE.L (3.45%, 23.69%)\",\"textposition\":\"top center\",\"x\":[0.23690103904546972],\"y\":[0.034538147340635206],\"type\":\"scatter\"},{\"marker\":{\"color\":\"blue\",\"size\":6},\"mode\":\"markers+text\",\"showlegend\":false,\"text\":\"HAS (7.59%, 28.15%)\",\"textposition\":\"top center\",\"x\":[0.28153690691290767],\"y\":[0.0759189755468972],\"type\":\"scatter\"},{\"marker\":{\"color\":\"blue\",\"size\":6},\"mode\":\"markers+text\",\"showlegend\":false,\"text\":\"CHGG (-5.11%, 36.42%)\",\"textposition\":\"top center\",\"x\":[0.3642376836008104],\"y\":[-0.05107181842097719],\"type\":\"scatter\"},{\"marker\":{\"color\":\"blue\",\"size\":6},\"mode\":\"markers+text\",\"showlegend\":false,\"text\":\"JLL (13.29%, 35.03%)\",\"textposition\":\"top center\",\"x\":[0.35026254602588747],\"y\":[0.13289637397465137],\"type\":\"scatter\"},{\"marker\":{\"color\":\"blue\",\"size\":6},\"mode\":\"markers+text\",\"showlegend\":false,\"text\":\"LAND.L (3.96%, 25.49%)\",\"textposition\":\"top center\",\"x\":[0.2549061673424588],\"y\":[0.03961268286155217],\"type\":\"scatter\"},{\"marker\":{\"color\":\"blue\",\"size\":6},\"mode\":\"markers+text\",\"showlegend\":false,\"text\":\"OLED (17.37%, 74.94%)\",\"textposition\":\"top center\",\"x\":[0.7493593953678391],\"y\":[0.17371781947141218],\"type\":\"scatter\"},{\"marker\":{\"color\":\"blue\",\"size\":6},\"mode\":\"markers+text\",\"showlegend\":false,\"text\":\"CDW (10.08%, 18.67%)\",\"textposition\":\"top center\",\"x\":[0.18667289970905243],\"y\":[0.10084311342611829],\"type\":\"scatter\"},{\"marker\":{\"color\":\"blue\",\"size\":6},\"mode\":\"markers+text\",\"showlegend\":false,\"text\":\"FLEX (3.07%, 47.45%)\",\"textposition\":\"top center\",\"x\":[0.4744717994504166],\"y\":[0.03070801148035396],\"type\":\"scatter\"},{\"marker\":{\"color\":\"blue\",\"size\":6},\"mode\":\"markers+text\",\"showlegend\":false,\"text\":\"REZI (-0.16%, 40.92%)\",\"textposition\":\"top center\",\"x\":[0.40919399642455734],\"y\":[-0.0016387831694408828],\"type\":\"scatter\"},{\"marker\":{\"color\":\"blue\",\"size\":6},\"mode\":\"markers+text\",\"showlegend\":false,\"text\":\"TPL (26.41%, 41.01%)\",\"textposition\":\"top center\",\"x\":[0.41014222932857364],\"y\":[0.26410942626166367],\"type\":\"scatter\"},{\"marker\":{\"color\":\"blue\",\"size\":6},\"mode\":\"markers+text\",\"showlegend\":false,\"text\":\"ARW (7.22%, 35.43%)\",\"textposition\":\"top center\",\"x\":[0.3542749228783315],\"y\":[0.07219764616104096],\"type\":\"scatter\"},{\"marker\":{\"color\":\"blue\",\"size\":6},\"mode\":\"markers+text\",\"showlegend\":false,\"text\":\"FN (11.45%, 43.51%)\",\"textposition\":\"top center\",\"x\":[0.4351365047118335],\"y\":[0.11451546437438309],\"type\":\"scatter\"},{\"marker\":{\"color\":\"blue\",\"size\":6},\"mode\":\"markers+text\",\"showlegend\":false,\"text\":\"NOVT (9.17%, 60.64%)\",\"textposition\":\"top center\",\"x\":[0.6064257243087364],\"y\":[0.09166605562635977],\"type\":\"scatter\"},{\"marker\":{\"color\":\"blue\",\"size\":6},\"mode\":\"markers+text\",\"showlegend\":false,\"text\":\"RYN (10.02%, 25.05%)\",\"textposition\":\"top center\",\"x\":[0.2504547212601505],\"y\":[0.10020147389227518],\"type\":\"scatter\"},{\"marker\":{\"color\":\"blue\",\"size\":6},\"mode\":\"markers+text\",\"showlegend\":false,\"text\":\"SNX (11.23%, 32.83%)\",\"textposition\":\"top center\",\"x\":[0.3282841343941953],\"y\":[0.11228583575615536],\"type\":\"scatter\"},{\"marker\":{\"color\":\"blue\",\"size\":6},\"mode\":\"markers+text\",\"showlegend\":false,\"text\":\"7911.T (4.78%, 25.10%)\",\"textposition\":\"top center\",\"x\":[0.2509977196911032],\"y\":[0.04780535545689202],\"type\":\"scatter\"},{\"marker\":{\"color\":\"blue\",\"size\":6},\"mode\":\"markers+text\",\"showlegend\":false,\"text\":\"CMPR (5.85%, 44.38%)\",\"textposition\":\"top center\",\"x\":[0.44375725652079284],\"y\":[0.05852879250367171],\"type\":\"scatter\"},{\"marker\":{\"color\":\"blue\",\"size\":6},\"mode\":\"markers+text\",\"showlegend\":false,\"text\":\"DLAR.L (2.12%, 64.99%)\",\"textposition\":\"top center\",\"x\":[0.6499084329511234],\"y\":[0.02116440491377536],\"type\":\"scatter\"},{\"marker\":{\"color\":\"blue\",\"size\":6},\"mode\":\"markers+text\",\"showlegend\":false,\"text\":\"2379.T (8.30%, 54.68%)\",\"textposition\":\"top center\",\"x\":[0.546813918585408],\"y\":[0.08304007517434564],\"type\":\"scatter\"},{\"marker\":{\"color\":\"blue\",\"size\":6},\"mode\":\"markers+text\",\"showlegend\":false,\"text\":\"6754.T (-0.95%, 37.19%)\",\"textposition\":\"top center\",\"x\":[0.3718876214700814],\"y\":[-0.009509163717344116],\"type\":\"scatter\"},{\"marker\":{\"color\":\"blue\",\"size\":6},\"mode\":\"markers+text\",\"showlegend\":false,\"text\":\"SHA.DE (-2.41%, 21.24%)\",\"textposition\":\"top center\",\"x\":[0.21241664442514407],\"y\":[-0.02409472217677988],\"type\":\"scatter\"},{\"marker\":{\"color\":\"blue\",\"size\":6},\"mode\":\"markers+text\",\"showlegend\":false,\"text\":\"TTMI (0.92%, 54.93%)\",\"textposition\":\"top center\",\"x\":[0.5493130886202505],\"y\":[0.009175409343610719],\"type\":\"scatter\"},{\"marker\":{\"color\":\"blue\",\"size\":6},\"mode\":\"markers+text\",\"showlegend\":false,\"text\":\"3234.T (5.58%, 66.71%)\",\"textposition\":\"top center\",\"x\":[0.6670962963278521],\"y\":[0.05577124296048974],\"type\":\"scatter\"},{\"marker\":{\"color\":\"blue\",\"size\":6},\"mode\":\"markers+text\",\"showlegend\":false,\"text\":\"PBI (-3.09%, 42.43%)\",\"textposition\":\"top center\",\"x\":[0.42432903607766587],\"y\":[-0.030898089515721705],\"type\":\"scatter\"},{\"marker\":{\"color\":\"blue\",\"size\":6},\"mode\":\"markers+text\",\"showlegend\":false,\"text\":\"BYG.L (12.27%, 27.55%)\",\"textposition\":\"top center\",\"x\":[0.27554143426235944],\"y\":[0.12272012919071495],\"type\":\"scatter\"},{\"marker\":{\"color\":\"blue\",\"size\":6},\"mode\":\"markers+text\",\"showlegend\":false,\"text\":\"ASGN (7.70%, 47.92%)\",\"textposition\":\"top center\",\"x\":[0.47919803988937715],\"y\":[0.07701542663350369],\"type\":\"scatter\"},{\"marker\":{\"color\":\"blue\",\"size\":6},\"mode\":\"markers+text\",\"showlegend\":false,\"text\":\"COA.L (2.83%, 36.28%)\",\"textposition\":\"top center\",\"x\":[0.36276065087211967],\"y\":[0.02829932787094913],\"type\":\"scatter\"},{\"marker\":{\"color\":\"blue\",\"size\":6},\"mode\":\"markers+text\",\"showlegend\":false,\"text\":\"HOUS (-8.20%, 38.14%)\",\"textposition\":\"top center\",\"x\":[0.3814074831661381],\"y\":[-0.08201283672883897],\"type\":\"scatter\"},{\"marker\":{\"color\":\"blue\",\"size\":6},\"mode\":\"markers+text\",\"showlegend\":false,\"text\":\"VVV (2.79%, 17.92%)\",\"textposition\":\"top center\",\"x\":[0.17918336621715555],\"y\":[0.02789270447772907],\"type\":\"scatter\"},{\"marker\":{\"color\":\"blue\",\"size\":6},\"mode\":\"markers+text\",\"showlegend\":false,\"text\":\"PAGE.L (6.03%, 35.68%)\",\"textposition\":\"top center\",\"x\":[0.35679015681205356],\"y\":[0.06034128823368001],\"type\":\"scatter\"},{\"marker\":{\"color\":\"blue\",\"size\":6},\"mode\":\"markers+text\",\"showlegend\":false,\"text\":\"DB1.DE (9.37%, 26.97%)\",\"textposition\":\"top center\",\"x\":[0.2697188748111089],\"y\":[0.09368782148175314],\"type\":\"scatter\"},{\"marker\":{\"color\":\"blue\",\"size\":6},\"mode\":\"markers+text\",\"showlegend\":false,\"text\":\"AVB (12.55%, 22.65%)\",\"textposition\":\"top center\",\"x\":[0.2264638725672127],\"y\":[0.12547860798586608],\"type\":\"scatter\"},{\"marker\":{\"color\":\"blue\",\"size\":6},\"mode\":\"markers+text\",\"showlegend\":false,\"text\":\"3309.T (2.04%, 10.99%)\",\"textposition\":\"top center\",\"x\":[0.1098921005015402],\"y\":[0.020379530629184517],\"type\":\"scatter\"},{\"marker\":{\"color\":\"blue\",\"size\":6},\"mode\":\"markers+text\",\"showlegend\":false,\"text\":\"STWD (6.16%, 23.10%)\",\"textposition\":\"top center\",\"x\":[0.23097381692899224],\"y\":[0.0616217865380182],\"type\":\"scatter\"},{\"marker\":{\"color\":\"blue\",\"size\":6},\"mode\":\"markers+text\",\"showlegend\":false,\"text\":\"GROW.L (0.72%, 47.90%)\",\"textposition\":\"top center\",\"x\":[0.4790246833290233],\"y\":[0.00715289949454978],\"type\":\"scatter\"},{\"marker\":{\"color\":\"blue\",\"size\":6},\"mode\":\"markers+text\",\"showlegend\":false,\"text\":\"MTO.L (6.28%, 32.42%)\",\"textposition\":\"top center\",\"x\":[0.32419986319871363],\"y\":[0.06281975462403722],\"type\":\"scatter\"},{\"marker\":{\"color\":\"blue\",\"size\":6},\"mode\":\"markers+text\",\"showlegend\":false,\"text\":\"KFY (5.21%, 44.72%)\",\"textposition\":\"top center\",\"x\":[0.44718348384410317],\"y\":[0.05208598728386704],\"type\":\"scatter\"},{\"marker\":{\"color\":\"blue\",\"size\":6},\"mode\":\"markers+text\",\"showlegend\":false,\"text\":\"MEI (3.88%, 50.00%)\",\"textposition\":\"top center\",\"x\":[0.4999849375683575],\"y\":[0.038820245973361756],\"type\":\"scatter\"},{\"marker\":{\"color\":\"blue\",\"size\":6},\"mode\":\"markers+text\",\"showlegend\":false,\"text\":\"BLND.L (4.98%, 26.30%)\",\"textposition\":\"top center\",\"x\":[0.2629940764042665],\"y\":[0.049816553038187994],\"type\":\"scatter\"},{\"marker\":{\"color\":\"blue\",\"size\":6},\"mode\":\"markers+text\",\"showlegend\":false,\"text\":\"RGLD (15.47%, 47.09%)\",\"textposition\":\"top center\",\"x\":[0.4709254476068458],\"y\":[0.1546880166659108],\"type\":\"scatter\"},{\"marker\":{\"color\":\"blue\",\"size\":6},\"mode\":\"markers+text\",\"showlegend\":false,\"text\":\"KFRC (10.72%, 48.99%)\",\"textposition\":\"top center\",\"x\":[0.48994342520974754],\"y\":[0.10723444152928985],\"type\":\"scatter\"},{\"marker\":{\"color\":\"blue\",\"size\":6},\"mode\":\"markers+text\",\"showlegend\":false,\"text\":\"IWG.L (9.84%, 72.36%)\",\"textposition\":\"top center\",\"x\":[0.7235524516872327],\"y\":[0.09835428854128136],\"type\":\"scatter\"},{\"marker\":{\"color\":\"blue\",\"size\":6},\"mode\":\"markers+text\",\"showlegend\":false,\"text\":\"8954.T (4.54%, 26.96%)\",\"textposition\":\"top center\",\"x\":[0.2696278579624864],\"y\":[0.04539456896469085],\"type\":\"scatter\"},{\"marker\":{\"color\":\"blue\",\"size\":6},\"mode\":\"markers+text\",\"showlegend\":false,\"text\":\"ZIL2.DE (-3.45%, 39.22%)\",\"textposition\":\"top center\",\"x\":[0.3921887413090669],\"y\":[-0.034518198331809025],\"type\":\"scatter\"},{\"marker\":{\"color\":\"blue\",\"size\":6},\"mode\":\"markers+text\",\"showlegend\":false,\"text\":\"SANM (-2.93%, 58.50%)\",\"textposition\":\"top center\",\"x\":[0.5849797684045512],\"y\":[-0.02926540459999405],\"type\":\"scatter\"},{\"marker\":{\"color\":\"blue\",\"size\":6},\"mode\":\"markers+text\",\"showlegend\":false,\"text\":\"SXS.L (11.70%, 31.26%)\",\"textposition\":\"top center\",\"x\":[0.31258840635929497],\"y\":[0.11702114120413754],\"type\":\"scatter\"},{\"marker\":{\"color\":\"blue\",\"size\":6},\"mode\":\"markers+text\",\"showlegend\":false,\"text\":\"YETI (2.73%, 49.08%)\",\"textposition\":\"top center\",\"x\":[0.49080897300362264],\"y\":[0.027293144770379252],\"type\":\"scatter\"},{\"marker\":{\"color\":\"blue\",\"size\":6},\"mode\":\"markers+text\",\"showlegend\":false,\"text\":\"ACN (13.78%, 25.13%)\",\"textposition\":\"top center\",\"x\":[0.25128337789778693],\"y\":[0.1377992093556355],\"type\":\"scatter\"},{\"marker\":{\"color\":\"blue\",\"size\":6},\"mode\":\"markers+text\",\"showlegend\":false,\"text\":\"HPP (-3.12%, 30.61%)\",\"textposition\":\"top center\",\"x\":[0.3061204416822255],\"y\":[-0.031181676479141385],\"type\":\"scatter\"},{\"marker\":{\"color\":\"blue\",\"size\":6},\"mode\":\"markers+text\",\"showlegend\":false,\"text\":\"7893.T (5.53%, 28.40%)\",\"textposition\":\"top center\",\"x\":[0.284027507691234],\"y\":[0.05527064673822024],\"type\":\"scatter\"},{\"marker\":{\"color\":\"blue\",\"size\":6},\"mode\":\"markers+text\",\"showlegend\":false,\"text\":\"SVS.L (14.43%, 32.99%)\",\"textposition\":\"top center\",\"x\":[0.32988282184706513],\"y\":[0.1442815502502146],\"type\":\"scatter\"},{\"marker\":{\"color\":\"blue\",\"size\":6},\"mode\":\"markers+text\",\"showlegend\":false,\"text\":\"AGNC (6.58%, 52.68%)\",\"textposition\":\"top center\",\"x\":[0.5268315753753618],\"y\":[0.0658174476027773],\"type\":\"scatter\"},{\"marker\":{\"color\":\"blue\",\"size\":6},\"mode\":\"markers+text\",\"showlegend\":false,\"text\":\"CTS (-0.04%, 42.39%)\",\"textposition\":\"top center\",\"x\":[0.4238761217867349],\"y\":[-0.00036427325856436266],\"type\":\"scatter\"},{\"marker\":{\"color\":\"blue\",\"size\":6},\"mode\":\"markers+text\",\"showlegend\":false,\"text\":\"IPG (0.81%, 36.26%)\",\"textposition\":\"top center\",\"x\":[0.36262118381609143],\"y\":[0.008102306468122489],\"type\":\"scatter\"},{\"marker\":{\"color\":\"blue\",\"size\":6},\"mode\":\"markers+text\",\"showlegend\":false,\"text\":\"BMI (18.73%, 31.82%)\",\"textposition\":\"top center\",\"x\":[0.31819790058871344],\"y\":[0.1873117568932796],\"type\":\"scatter\"},{\"marker\":{\"color\":\"blue\",\"size\":6},\"mode\":\"markers+text\",\"showlegend\":false,\"text\":\"FUTR.L (-6.20%, 55.75%)\",\"textposition\":\"top center\",\"x\":[0.557463588695694],\"y\":[-0.062009868295371584],\"type\":\"scatter\"},{\"marker\":{\"color\":\"blue\",\"size\":6},\"mode\":\"markers+text\",\"showlegend\":false,\"text\":\"EBOX.L (-1.46%, 13.06%)\",\"textposition\":\"top center\",\"x\":[0.13062422148145234],\"y\":[-0.01456621090075616],\"type\":\"scatter\"},{\"marker\":{\"color\":\"blue\",\"size\":6},\"mode\":\"markers+text\",\"showlegend\":false,\"text\":\"SCSC (6.89%, 38.70%)\",\"textposition\":\"top center\",\"x\":[0.38695200372879773],\"y\":[0.06893977469041968],\"type\":\"scatter\"},{\"marker\":{\"color\":\"blue\",\"size\":6},\"mode\":\"markers+text\",\"showlegend\":false,\"text\":\"MAN (4.58%, 34.10%)\",\"textposition\":\"top center\",\"x\":[0.3410437695368991],\"y\":[0.04577541855344669],\"type\":\"scatter\"},{\"marker\":{\"color\":\"blue\",\"size\":6},\"mode\":\"markers+text\",\"showlegend\":false,\"text\":\"7994.T (7.35%, 28.27%)\",\"textposition\":\"top center\",\"x\":[0.2826913551440234],\"y\":[0.07347012414406495],\"type\":\"scatter\"},{\"marker\":{\"color\":\"blue\",\"size\":6},\"mode\":\"markers+text\",\"showlegend\":false,\"text\":\"3283.T (3.36%, 13.99%)\",\"textposition\":\"top center\",\"x\":[0.13990860835068233],\"y\":[0.03356946609628064],\"type\":\"scatter\"},{\"marker\":{\"color\":\"blue\",\"size\":6},\"mode\":\"markers+text\",\"showlegend\":false,\"text\":\"PDM (0.39%, 19.57%)\",\"textposition\":\"top center\",\"x\":[0.1956762095180119],\"y\":[0.003946951915233976],\"type\":\"scatter\"},{\"marker\":{\"color\":\"blue\",\"size\":6},\"mode\":\"markers+text\",\"showlegend\":false,\"text\":\"III.L (7.52%, 52.99%)\",\"textposition\":\"top center\",\"x\":[0.5299455381071673],\"y\":[0.0751853352235139],\"type\":\"scatter\"},{\"marker\":{\"color\":\"blue\",\"size\":6},\"mode\":\"markers+text\",\"showlegend\":false,\"text\":\"NBS.L (0.22%, 7.60%)\",\"textposition\":\"top center\",\"x\":[0.07603774868607333],\"y\":[0.0022226887966696474],\"type\":\"scatter\"},{\"marker\":{\"color\":\"blue\",\"size\":6},\"mode\":\"markers+text\",\"showlegend\":false,\"text\":\"DSCV.L (5.89%, 35.94%)\",\"textposition\":\"top center\",\"x\":[0.3593871401506666],\"y\":[0.05887444154774912],\"type\":\"scatter\"},{\"marker\":{\"color\":\"blue\",\"size\":6},\"mode\":\"markers+text\",\"showlegend\":false,\"text\":\"6183.T (2.97%, 21.19%)\",\"textposition\":\"top center\",\"x\":[0.21189251466630232],\"y\":[0.029664085187112388],\"type\":\"scatter\"},{\"marker\":{\"color\":\"blue\",\"size\":6},\"mode\":\"markers+text\",\"showlegend\":false,\"text\":\"KELYA (0.08%, 33.05%)\",\"textposition\":\"top center\",\"x\":[0.33048023563524803],\"y\":[0.0007901649855859283],\"type\":\"scatter\"},{\"marker\":{\"color\":\"blue\",\"size\":6},\"mode\":\"markers+text\",\"showlegend\":false,\"text\":\"6724.T (0.92%, 36.64%)\",\"textposition\":\"top center\",\"x\":[0.3663681047970942],\"y\":[0.00920565064259904],\"type\":\"scatter\"},{\"marker\":{\"color\":\"blue\",\"size\":6},\"mode\":\"markers+text\",\"showlegend\":false,\"text\":\"4384.T (-0.49%, 25.81%)\",\"textposition\":\"top center\",\"x\":[0.2580836324140626],\"y\":[-0.00488846472084814],\"type\":\"scatter\"},{\"marker\":{\"color\":\"blue\",\"size\":6},\"mode\":\"markers+text\",\"showlegend\":false,\"text\":\"ST (2.97%, 30.58%)\",\"textposition\":\"top center\",\"x\":[0.3057753400448168],\"y\":[0.0296906761750364],\"type\":\"scatter\"},{\"marker\":{\"color\":\"blue\",\"size\":6},\"mode\":\"markers+text\",\"showlegend\":false,\"text\":\"BRBY.L (5.70%, 36.13%)\",\"textposition\":\"top center\",\"x\":[0.3613348754647418],\"y\":[0.0569875352340965],\"type\":\"scatter\"},{\"marker\":{\"color\":\"blue\",\"size\":6},\"mode\":\"markers+text\",\"showlegend\":false,\"text\":\"7984.T (4.06%, 21.83%)\",\"textposition\":\"top center\",\"x\":[0.2183420990819009],\"y\":[0.04056120092710347],\"type\":\"scatter\"},{\"marker\":{\"color\":\"blue\",\"size\":6},\"mode\":\"markers+text\",\"showlegend\":false,\"text\":\"CCK (5.96%, 58.20%)\",\"textposition\":\"top center\",\"x\":[0.5819771181033908],\"y\":[0.059607221210075334],\"type\":\"scatter\"},{\"marker\":{\"color\":\"blue\",\"size\":6},\"mode\":\"markers+text\",\"showlegend\":false,\"text\":\"APTV (4.54%, 33.05%)\",\"textposition\":\"top center\",\"x\":[0.3304913293012974],\"y\":[0.045448883463132805],\"type\":\"scatter\"},{\"marker\":{\"color\":\"blue\",\"size\":6},\"mode\":\"markers+text\",\"showlegend\":false,\"text\":\"STEM.L (6.44%, 38.12%)\",\"textposition\":\"top center\",\"x\":[0.3812498896240499],\"y\":[0.06437422629704814],\"type\":\"scatter\"},{\"marker\":{\"color\":\"blue\",\"size\":6},\"mode\":\"markers+text\",\"showlegend\":false,\"text\":\"UU.L (8.28%, 18.17%)\",\"textposition\":\"top center\",\"x\":[0.18166896049093392],\"y\":[0.08281704776043552],\"type\":\"scatter\"},{\"marker\":{\"color\":\"blue\",\"size\":6},\"mode\":\"markers+text\",\"showlegend\":false,\"text\":\"ITRI (12.95%, 51.02%)\",\"textposition\":\"top center\",\"x\":[0.5101846011074477],\"y\":[0.12951889225080238],\"type\":\"scatter\"},{\"marker\":{\"color\":\"blue\",\"size\":6},\"mode\":\"markers+text\",\"showlegend\":false,\"text\":\"6287.T (0.64%, 30.35%)\",\"textposition\":\"top center\",\"x\":[0.30349794420327575],\"y\":[0.00638868476410992],\"type\":\"scatter\"},{\"marker\":{\"color\":\"blue\",\"size\":6},\"mode\":\"markers+text\",\"showlegend\":false,\"text\":\"INF.L (5.60%, 33.69%)\",\"textposition\":\"top center\",\"x\":[0.3368725732914877],\"y\":[0.056006249850026],\"type\":\"scatter\"},{\"marker\":{\"color\":\"blue\",\"size\":6},\"mode\":\"markers+text\",\"showlegend\":false,\"text\":\"4218.T (6.19%, 23.05%)\",\"textposition\":\"top center\",\"x\":[0.23051621225834787],\"y\":[0.061874186139446286],\"type\":\"scatter\"},{\"marker\":{\"color\":\"blue\",\"size\":6},\"mode\":\"markers+text\",\"showlegend\":false,\"text\":\"HMSO.L (-2.64%, 35.16%)\",\"textposition\":\"top center\",\"x\":[0.3515655159886424],\"y\":[-0.026359044232946216],\"type\":\"scatter\"},{\"marker\":{\"color\":\"blue\",\"size\":6},\"mode\":\"markers+text\",\"showlegend\":false,\"text\":\"WDC (13.62%, 56.01%)\",\"textposition\":\"top center\",\"x\":[0.5600674330958874],\"y\":[0.1361635228723017],\"type\":\"scatter\"},{\"marker\":{\"color\":\"blue\",\"size\":6},\"mode\":\"markers+text\",\"showlegend\":false,\"text\":\"7313.T (7.63%, 47.44%)\",\"textposition\":\"top center\",\"x\":[0.47435096305444646],\"y\":[0.07629088420203001],\"type\":\"scatter\"},{\"marker\":{\"color\":\"blue\",\"size\":6},\"mode\":\"markers+text\",\"showlegend\":false,\"text\":\"EBF (9.19%, 26.33%)\",\"textposition\":\"top center\",\"x\":[0.2633417822599886],\"y\":[0.09186976397717084],\"type\":\"scatter\"},{\"marker\":{\"color\":\"blue\",\"size\":6},\"mode\":\"markers+text\",\"showlegend\":false,\"text\":\"TNET (5.51%, 25.76%)\",\"textposition\":\"top center\",\"x\":[0.2576070124846039],\"y\":[0.05505650548976915],\"type\":\"scatter\"},{\"marker\":{\"color\":\"blue\",\"size\":6},\"mode\":\"markers+text\",\"showlegend\":false,\"text\":\"6098.T (8.50%, 23.78%)\",\"textposition\":\"top center\",\"x\":[0.23781177443112653],\"y\":[0.08504267074691096],\"type\":\"scatter\"},{\"marker\":{\"color\":\"blue\",\"size\":6},\"mode\":\"markers+text\",\"showlegend\":false,\"text\":\"MLKN (2.31%, 36.93%)\",\"textposition\":\"top center\",\"x\":[0.3693099956977894],\"y\":[0.023131933213114575],\"type\":\"scatter\"},{\"marker\":{\"color\":\"blue\",\"size\":6},\"mode\":\"markers+text\",\"showlegend\":false,\"text\":\"HLMA.L (16.25%, 22.81%)\",\"textposition\":\"top center\",\"x\":[0.2281168657349955],\"y\":[0.16245179821950195],\"type\":\"scatter\"},{\"marker\":{\"color\":\"blue\",\"size\":6},\"mode\":\"markers+text\",\"showlegend\":false,\"text\":\"WPP.L (3.03%, 30.23%)\",\"textposition\":\"top center\",\"x\":[0.3022774883130798],\"y\":[0.030285876542963885],\"type\":\"scatter\"},{\"marker\":{\"color\":\"blue\",\"size\":6},\"mode\":\"markers+text\",\"showlegend\":false,\"text\":\"JBL (6.68%, 46.12%)\",\"textposition\":\"top center\",\"x\":[0.4612202773612552],\"y\":[0.06675532010737473],\"type\":\"scatter\"},{\"marker\":{\"color\":\"blue\",\"size\":6},\"mode\":\"markers+text\",\"showlegend\":false,\"text\":\"3279.T (3.23%, 25.75%)\",\"textposition\":\"top center\",\"x\":[0.25748869061537594],\"y\":[0.03230945606808944],\"type\":\"scatter\"},{\"marker\":{\"color\":\"blue\",\"size\":6},\"mode\":\"markers+text\",\"showlegend\":false,\"text\":\"JEN.DE (2.87%, 37.78%)\",\"textposition\":\"top center\",\"x\":[0.37777553463791935],\"y\":[0.028678564983124266],\"type\":\"scatter\"},{\"marker\":{\"color\":\"blue\",\"size\":6},\"mode\":\"markers+text\",\"showlegend\":false,\"text\":\"LXP (7.22%, 31.67%)\",\"textposition\":\"top center\",\"x\":[0.31673136461509116],\"y\":[0.0722427931463705],\"type\":\"scatter\"},{\"marker\":{\"color\":\"blue\",\"size\":6},\"mode\":\"markers+text\",\"showlegend\":false,\"text\":\"TRMB (12.86%, 40.80%)\",\"textposition\":\"top center\",\"x\":[0.4079910744437131],\"y\":[0.12862832043180106],\"type\":\"scatter\"},{\"marker\":{\"color\":\"blue\",\"size\":6},\"mode\":\"markers+text\",\"showlegend\":false,\"text\":\"WKP.L (3.83%, 33.40%)\",\"textposition\":\"top center\",\"x\":[0.3339835663273147],\"y\":[0.03829787000901641],\"type\":\"scatter\"},{\"marker\":{\"color\":\"blue\",\"size\":6},\"mode\":\"markers+text\",\"showlegend\":false,\"text\":\"6028.T (5.07%, 25.83%)\",\"textposition\":\"top center\",\"x\":[0.25832991941972966],\"y\":[0.05068129531518806],\"type\":\"scatter\"},{\"marker\":{\"color\":\"blue\",\"size\":6},\"mode\":\"markers+text\",\"showlegend\":false,\"text\":\"NLY (10.15%, 26.16%)\",\"textposition\":\"top center\",\"x\":[0.2616184331921433],\"y\":[0.10148979752809328],\"type\":\"scatter\"},{\"marker\":{\"color\":\"blue\",\"size\":6},\"mode\":\"markers+text\",\"showlegend\":false,\"text\":\"KGF.L (0.10%, 28.53%)\",\"textposition\":\"top center\",\"x\":[0.28527914067688026],\"y\":[0.0009710219642897755],\"type\":\"scatter\"},{\"marker\":{\"color\":\"blue\",\"size\":6},\"mode\":\"markers+text\",\"showlegend\":false,\"text\":\"RMAX (-2.94%, 25.97%)\",\"textposition\":\"top center\",\"x\":[0.2597438756869323],\"y\":[-0.02936705465085243],\"type\":\"scatter\"},{\"marker\":{\"color\":\"blue\",\"size\":6},\"mode\":\"markers+text\",\"showlegend\":false,\"text\":\"7951.T (6.72%, 32.48%)\",\"textposition\":\"top center\",\"x\":[0.3248049605481871],\"y\":[0.06723366146383847],\"type\":\"scatter\"},{\"marker\":{\"color\":\"blue\",\"size\":6},\"mode\":\"markers+text\",\"showlegend\":false,\"text\":\"7846.T (10.83%, 32.57%)\",\"textposition\":\"top center\",\"x\":[0.32565332014529585],\"y\":[0.10832218188268872],\"type\":\"scatter\"},{\"marker\":{\"color\":\"blue\",\"size\":6},\"mode\":\"markers+text\",\"showlegend\":false,\"text\":\"SBAC (14.02%, 64.16%)\",\"textposition\":\"top center\",\"x\":[0.6415863162974351],\"y\":[0.14016237371591522],\"type\":\"scatter\"},{\"marker\":{\"color\":\"blue\",\"size\":6},\"mode\":\"markers+text\",\"showlegend\":false,\"text\":\"KRG (1.20%, 34.23%)\",\"textposition\":\"top center\",\"x\":[0.3423050924540538],\"y\":[0.011964820250486063],\"type\":\"scatter\"},{\"marker\":{\"color\":\"blue\",\"size\":6},\"mode\":\"markers+text\",\"showlegend\":false,\"text\":\"ATR (11.73%, 20.38%)\",\"textposition\":\"top center\",\"x\":[0.20378628091838843],\"y\":[0.11725410298285222],\"type\":\"scatter\"},{\"marker\":{\"color\":\"blue\",\"size\":6},\"mode\":\"markers+text\",\"showlegend\":false,\"text\":\"ELME (5.79%, 23.02%)\",\"textposition\":\"top center\",\"x\":[0.23023664782632217],\"y\":[0.05791117520563338],\"type\":\"scatter\"},{\"marker\":{\"color\":\"blue\",\"size\":6},\"mode\":\"markers+text\",\"showlegend\":false,\"text\":\"DNLM.L (11.50%, 49.30%)\",\"textposition\":\"top center\",\"x\":[0.4929850797638031],\"y\":[0.11504053552678273],\"type\":\"scatter\"},{\"marker\":{\"color\":\"blue\",\"size\":6},\"mode\":\"markers+text\",\"showlegend\":false,\"text\":\"BDEV.L (8.41%, 47.67%)\",\"textposition\":\"top center\",\"x\":[0.4767440810376571],\"y\":[0.0840978010525848],\"type\":\"scatter\"},{\"marker\":{\"color\":\"blue\",\"size\":6},\"mode\":\"markers+text\",\"showlegend\":false,\"text\":\"TEP.L (14.32%, 34.56%)\",\"textposition\":\"top center\",\"x\":[0.345583189041469],\"y\":[0.143153772076553],\"type\":\"scatter\"},{\"marker\":{\"color\":\"blue\",\"size\":6},\"mode\":\"markers+text\",\"showlegend\":false,\"text\":\"ESRT (-0.75%, 22.47%)\",\"textposition\":\"top center\",\"x\":[0.22470398873358158],\"y\":[-0.007513644003440567],\"type\":\"scatter\"},{\"marker\":{\"color\":\"blue\",\"size\":6},\"mode\":\"markers+text\",\"showlegend\":false,\"text\":\"CGNX (7.77%, 40.78%)\",\"textposition\":\"top center\",\"x\":[0.4077948869954553],\"y\":[0.0776539295538734],\"type\":\"scatter\"},{\"marker\":{\"color\":\"blue\",\"size\":6},\"mode\":\"markers+text\",\"showlegend\":false,\"text\":\"ZBRA (11.13%, 34.43%)\",\"textposition\":\"top center\",\"x\":[0.34429095476754257],\"y\":[0.1112661058359139],\"type\":\"scatter\"},{\"marker\":{\"color\":\"blue\",\"size\":6},\"mode\":\"markers+text\",\"showlegend\":false,\"text\":\"DLX (4.61%, 38.23%)\",\"textposition\":\"top center\",\"x\":[0.3822731057542239],\"y\":[0.04612925240472565],\"type\":\"scatter\"},{\"marker\":{\"color\":\"blue\",\"size\":6},\"mode\":\"markers+text\",\"showlegend\":false,\"text\":\"BWA (9.47%, 33.21%)\",\"textposition\":\"top center\",\"x\":[0.33205442960815384],\"y\":[0.09470414219914325],\"type\":\"scatter\"},{\"marker\":{\"color\":\"blue\",\"size\":6},\"mode\":\"markers+text\",\"showlegend\":false,\"text\":\"ELV (12.99%, 24.94%)\",\"textposition\":\"top center\",\"x\":[0.24938328308855354],\"y\":[0.12992373585769834],\"type\":\"scatter\"},{\"marker\":{\"color\":\"blue\",\"size\":6},\"mode\":\"markers+text\",\"showlegend\":false,\"text\":\"NYT (2.35%, 35.22%)\",\"textposition\":\"top center\",\"x\":[0.352241225712527],\"y\":[0.02345680566408026],\"type\":\"scatter\"},{\"marker\":{\"color\":\"blue\",\"size\":6},\"mode\":\"markers+text\",\"showlegend\":false,\"text\":\"SNWS.L (3.59%, 39.10%)\",\"textposition\":\"top center\",\"x\":[0.391009618417759],\"y\":[0.035937904832605616],\"type\":\"scatter\"},{\"marker\":{\"color\":\"blue\",\"size\":6},\"mode\":\"markers+text\",\"showlegend\":false,\"text\":\"INS.DE (1.97%, 15.37%)\",\"textposition\":\"top center\",\"x\":[0.15366769459387988],\"y\":[0.019687102369930765],\"type\":\"scatter\"},{\"marker\":{\"color\":\"blue\",\"size\":6},\"mode\":\"markers+text\",\"showlegend\":false,\"text\":\"INCH.L (16.99%, 106.47%)\",\"textposition\":\"top center\",\"x\":[1.0646741142872305],\"y\":[0.16985003836021084],\"type\":\"scatter\"},{\"marker\":{\"color\":\"blue\",\"size\":6},\"mode\":\"markers+text\",\"showlegend\":false,\"text\":\"NWSA (2.35%, 20.83%)\",\"textposition\":\"top center\",\"x\":[0.20826852087413],\"y\":[0.023516548238976975],\"type\":\"scatter\"},{\"marker\":{\"color\":\"blue\",\"size\":6},\"mode\":\"markers+text\",\"showlegend\":false,\"text\":\"AT1.DE (-0.94%, 25.55%)\",\"textposition\":\"top center\",\"x\":[0.25552725388713743],\"y\":[-0.009351535438280156],\"type\":\"scatter\"},{\"marker\":{\"color\":\"blue\",\"size\":6},\"mode\":\"markers+text\",\"showlegend\":false,\"text\":\"MKSI (7.51%, 46.76%)\",\"textposition\":\"top center\",\"x\":[0.467642857692108],\"y\":[0.07511316394382228],\"type\":\"scatter\"},{\"marker\":{\"color\":\"blue\",\"size\":6},\"mode\":\"markers+text\",\"showlegend\":false,\"text\":\"7914.T (1.57%, 28.92%)\",\"textposition\":\"top center\",\"x\":[0.2892423554308118],\"y\":[0.015707109300910016],\"type\":\"scatter\"},{\"marker\":{\"color\":\"blue\",\"size\":6},\"mode\":\"markers+text\",\"showlegend\":false,\"text\":\"MMI (2.83%, 29.71%)\",\"textposition\":\"top center\",\"x\":[0.29714834345103147],\"y\":[0.02831342436096862],\"type\":\"scatter\"},{\"marker\":{\"color\":\"blue\",\"size\":6},\"mode\":\"markers+text\",\"showlegend\":false,\"text\":\"EXPN.L (10.70%, 30.11%)\",\"textposition\":\"top center\",\"x\":[0.30113402003638445],\"y\":[0.1070007051500006],\"type\":\"scatter\"},{\"marker\":{\"color\":\"blue\",\"size\":6},\"mode\":\"markers+text\",\"showlegend\":false,\"text\":\"GRI.L (9.35%, 37.17%)\",\"textposition\":\"top center\",\"x\":[0.37168176031195993],\"y\":[0.09350943543479606],\"type\":\"scatter\"},{\"marker\":{\"color\":\"blue\",\"size\":6},\"mode\":\"markers+text\",\"showlegend\":false,\"text\":\"SNBR (5.52%, 89.48%)\",\"textposition\":\"top center\",\"x\":[0.8948219930249123],\"y\":[0.05524746459518948],\"type\":\"scatter\"},{\"marker\":{\"color\":\"blue\",\"size\":6},\"mode\":\"markers+text\",\"showlegend\":false,\"text\":\"SMWH.L (7.52%, 24.72%)\",\"textposition\":\"top center\",\"x\":[0.24721146063616908],\"y\":[0.0751857454943019],\"type\":\"scatter\"},{\"marker\":{\"color\":\"blue\",\"size\":6},\"mode\":\"markers+text\",\"showlegend\":false,\"text\":\"IR (5.16%, 19.91%)\",\"textposition\":\"top center\",\"x\":[0.1990680020666532],\"y\":[0.051560054819841605],\"type\":\"scatter\"},{\"marker\":{\"color\":\"blue\",\"size\":6},\"mode\":\"markers+text\",\"showlegend\":false,\"text\":\"ITV.L (-2.66%, 41.69%)\",\"textposition\":\"top center\",\"x\":[0.41688945487052],\"y\":[-0.026558407031949005],\"type\":\"scatter\"},{\"marker\":{\"color\":\"blue\",\"size\":6},\"mode\":\"markers+text\",\"showlegend\":false,\"text\":\"LAD (12.23%, 50.11%)\",\"textposition\":\"top center\",\"x\":[0.5010571665915663],\"y\":[0.12225244885860898],\"type\":\"scatter\"},{\"marker\":{\"color\":\"blue\",\"size\":6},\"mode\":\"markers+text\",\"showlegend\":false,\"text\":\"HSII (3.53%, 45.05%)\",\"textposition\":\"top center\",\"x\":[0.45053026955309394],\"y\":[0.03529584118058704],\"type\":\"scatter\"},{\"marker\":{\"color\":\"blue\",\"size\":6},\"mode\":\"markers+text\",\"showlegend\":false,\"text\":\"CUZ (2.71%, 28.67%)\",\"textposition\":\"top center\",\"x\":[0.286652844025751],\"y\":[0.02712623392736413],\"type\":\"scatter\"},{\"marker\":{\"color\":\"blue\",\"size\":6},\"mode\":\"markers+text\",\"showlegend\":false,\"text\":\"LIN (14.80%, 20.88%)\",\"textposition\":\"top center\",\"x\":[0.20879737798012804],\"y\":[0.14803133662509804],\"type\":\"scatter\"},{\"marker\":{\"color\":\"blue\",\"size\":6},\"mode\":\"markers+text\",\"showlegend\":false,\"text\":\"PHP.L (10.74%, 21.40%)\",\"textposition\":\"top center\",\"x\":[0.2139771471192401],\"y\":[0.10741292623986443],\"type\":\"scatter\"},{\"marker\":{\"color\":\"blue\",\"size\":6},\"mode\":\"markers+text\",\"showlegend\":false,\"text\":\"NL (4.89%, 60.35%)\",\"textposition\":\"top center\",\"x\":[0.6034987090743898],\"y\":[0.04885441295328796],\"type\":\"scatter\"},{\"marker\":{\"color\":\"blue\",\"size\":6},\"mode\":\"markers+text\",\"showlegend\":false,\"text\":\"BALL (15.01%, 24.22%)\",\"textposition\":\"top center\",\"x\":[0.24218023997789911],\"y\":[0.1501007493433879],\"type\":\"scatter\"},{\"marker\":{\"color\":\"blue\",\"size\":6},\"mode\":\"markers+text\",\"showlegend\":false,\"text\":\"2146.T (5.92%, 87.59%)\",\"textposition\":\"top center\",\"x\":[0.8759118558954719],\"y\":[0.05920245624025644],\"type\":\"scatter\"},{\"marker\":{\"color\":\"blue\",\"size\":6},\"mode\":\"markers+text\",\"showlegend\":false,\"text\":\"DHR (17.59%, 24.15%)\",\"textposition\":\"top center\",\"x\":[0.24153542249719834],\"y\":[0.1759354301926006],\"type\":\"scatter\"},{\"marker\":{\"color\":\"blue\",\"size\":6},\"mode\":\"markers+text\",\"showlegend\":false,\"text\":\"KIM (8.23%, 32.28%)\",\"textposition\":\"top center\",\"x\":[0.32281102460888716],\"y\":[0.08232115222810132],\"type\":\"scatter\"},{\"marker\":{\"color\":\"blue\",\"size\":6},\"mode\":\"markers+text\",\"showlegend\":false,\"text\":\"8057.T (6.55%, 42.24%)\",\"textposition\":\"top center\",\"x\":[0.4224324606009725],\"y\":[0.06549981795341187],\"type\":\"scatter\"},{\"marker\":{\"color\":\"blue\",\"size\":6},\"mode\":\"markers+text\",\"showlegend\":false,\"text\":\"6841.T (6.48%, 34.65%)\",\"textposition\":\"top center\",\"x\":[0.3465348397087141],\"y\":[0.06484090121566677],\"type\":\"scatter\"},{\"marker\":{\"color\":\"blue\",\"size\":6},\"mode\":\"markers+text\",\"showlegend\":false,\"text\":\"MAC (5.18%, 55.59%)\",\"textposition\":\"top center\",\"x\":[0.5558641784533797],\"y\":[0.05183891812939967],\"type\":\"scatter\"},{\"marker\":{\"color\":\"blue\",\"size\":6},\"mode\":\"markers+text\",\"showlegend\":false,\"text\":\"ECOR.L (9.14%, 38.11%)\",\"textposition\":\"top center\",\"x\":[0.38111409635634846],\"y\":[0.09142440513772265],\"type\":\"scatter\"},{\"marker\":{\"color\":\"blue\",\"size\":6},\"mode\":\"markers+text\",\"showlegend\":false,\"text\":\"SWBI (11.71%, 78.91%)\",\"textposition\":\"top center\",\"x\":[0.789074752715642],\"y\":[0.1171135005405195],\"type\":\"scatter\"},{\"marker\":{\"color\":\"blue\",\"size\":6},\"mode\":\"markers+text\",\"showlegend\":false,\"text\":\"8151.T (1.27%, 28.23%)\",\"textposition\":\"top center\",\"x\":[0.28234653344919086],\"y\":[0.012734348283650387],\"type\":\"scatter\"},{\"marker\":{\"color\":\"blue\",\"size\":6},\"mode\":\"markers+text\",\"showlegend\":false,\"text\":\"CNNE (0.30%, 17.98%)\",\"textposition\":\"top center\",\"x\":[0.17976538032186612],\"y\":[0.002957568207517358],\"type\":\"scatter\"},{\"marker\":{\"color\":\"blue\",\"size\":6},\"mode\":\"markers+text\",\"showlegend\":false,\"text\":\"PLD (12.17%, 28.19%)\",\"textposition\":\"top center\",\"x\":[0.28187624100979086],\"y\":[0.12173769159151471],\"type\":\"scatter\"},{\"marker\":{\"color\":\"blue\",\"size\":6},\"mode\":\"markers+text\",\"showlegend\":false,\"text\":\"REXR (6.61%, 15.93%)\",\"textposition\":\"top center\",\"x\":[0.15929356018680121],\"y\":[0.06611778958424819],\"type\":\"scatter\"},{\"marker\":{\"color\":\"blue\",\"size\":6},\"mode\":\"markers+text\",\"showlegend\":false,\"text\":\"IPGP (6.09%, 49.05%)\",\"textposition\":\"top center\",\"x\":[0.4904622247619312],\"y\":[0.060880767764945665],\"type\":\"scatter\"},{\"marker\":{\"color\":\"blue\",\"size\":6},\"mode\":\"markers+text\",\"showlegend\":false,\"text\":\"RHI (7.96%, 33.23%)\",\"textposition\":\"top center\",\"x\":[0.3323166662248764],\"y\":[0.07959187695210268],\"type\":\"scatter\"},{\"marker\":{\"color\":\"blue\",\"size\":6},\"mode\":\"markers+text\",\"showlegend\":false,\"text\":\"6845.T (11.35%, 27.24%)\",\"textposition\":\"top center\",\"x\":[0.2723793840553619],\"y\":[0.1135297108972444],\"type\":\"scatter\"},{\"marker\":{\"color\":\"blue\",\"size\":6},\"mode\":\"markers+text\",\"showlegend\":false,\"text\":\"7868.T (4.26%, 46.73%)\",\"textposition\":\"top center\",\"x\":[0.46730378986501636],\"y\":[0.042626114291955064],\"type\":\"scatter\"},{\"marker\":{\"color\":\"blue\",\"size\":6},\"mode\":\"markers+text\",\"showlegend\":false,\"text\":\"CDP (10.83%, 23.77%)\",\"textposition\":\"top center\",\"x\":[0.23767661907817195],\"y\":[0.10831172880898743],\"type\":\"scatter\"},{\"marker\":{\"color\":\"blue\",\"size\":6},\"mode\":\"markers+text\",\"showlegend\":false,\"text\":\"AAP (3.87%, 31.30%)\",\"textposition\":\"top center\",\"x\":[0.31295119023061035],\"y\":[0.03872345745064809],\"type\":\"scatter\"},{\"marker\":{\"color\":\"blue\",\"size\":6},\"mode\":\"markers+text\",\"showlegend\":false,\"text\":\"HEAD.L (1.25%, 30.70%)\",\"textposition\":\"top center\",\"x\":[0.3069928934275744],\"y\":[0.012460927953122702],\"type\":\"scatter\"},{\"marker\":{\"color\":\"blue\",\"size\":6},\"mode\":\"markers+text\",\"showlegend\":false,\"text\":\"GOLF (5.61%, 16.21%)\",\"textposition\":\"top center\",\"x\":[0.16210808275706304],\"y\":[0.0561244684068849],\"type\":\"scatter\"},{\"marker\":{\"color\":\"blue\",\"size\":6},\"mode\":\"markers+text\",\"showlegend\":false,\"text\":\"HAS.L (-1.89%, 31.89%)\",\"textposition\":\"top center\",\"x\":[0.3189160581551638],\"y\":[-0.01886252014713885],\"type\":\"scatter\"},{\"marker\":{\"color\":\"blue\",\"size\":6},\"mode\":\"markers+text\",\"showlegend\":false,\"text\":\"LSL.L (8.54%, 61.75%)\",\"textposition\":\"top center\",\"x\":[0.6174956654485675],\"y\":[0.08543477885747874],\"type\":\"scatter\"},{\"marker\":{\"color\":\"blue\",\"size\":6},\"mode\":\"markers+text\",\"showlegend\":false,\"text\":\"7272.T (8.09%, 32.51%)\",\"textposition\":\"top center\",\"x\":[0.3250986623789385],\"y\":[0.08087336602058426],\"type\":\"scatter\"},{\"marker\":{\"color\":\"blue\",\"size\":6},\"mode\":\"markers+text\",\"showlegend\":false,\"text\":\"RCH.L (-2.91%, 59.95%)\",\"textposition\":\"top center\",\"x\":[0.5995292556234981],\"y\":[-0.02913877384462016],\"type\":\"scatter\"},{\"marker\":{\"color\":\"blue\",\"size\":6},\"mode\":\"markers+text\",\"showlegend\":false,\"text\":\"ATGE (5.26%, 42.44%)\",\"textposition\":\"top center\",\"x\":[0.4244111631354936],\"y\":[0.05257417621036797],\"type\":\"scatter\"},{\"marker\":{\"color\":\"blue\",\"size\":6},\"mode\":\"markers+text\",\"showlegend\":false,\"text\":\"7701.T (10.89%, 27.48%)\",\"textposition\":\"top center\",\"x\":[0.2747698121862362],\"y\":[0.108912790189017],\"type\":\"scatter\"},{\"marker\":{\"color\":\"blue\",\"size\":6},\"mode\":\"markers+text\",\"showlegend\":false,\"text\":\"SAP.DE (8.61%, 35.44%)\",\"textposition\":\"top center\",\"x\":[0.3543538223371866],\"y\":[0.0861150208632171],\"type\":\"scatter\"},{\"marker\":{\"color\":\"blue\",\"size\":6},\"mode\":\"markers+text\",\"showlegend\":false,\"text\":\"GWI.L (-1.36%, 31.48%)\",\"textposition\":\"top center\",\"x\":[0.31479998945902693],\"y\":[-0.01361269511422536],\"type\":\"scatter\"},{\"marker\":{\"color\":\"blue\",\"size\":6},\"mode\":\"markers+text\",\"showlegend\":false,\"text\":\"POOL (20.49%, 30.89%)\",\"textposition\":\"top center\",\"x\":[0.3089020804580978],\"y\":[0.2049347026574866],\"type\":\"scatter\"},{\"marker\":{\"color\":\"blue\",\"size\":6},\"mode\":\"markers+text\",\"showlegend\":false,\"text\":\"AZO (21.10%, 24.79%)\",\"textposition\":\"top center\",\"x\":[0.24786934781636236],\"y\":[0.2109905264180547],\"type\":\"scatter\"},{\"marker\":{\"color\":\"blue\",\"size\":6},\"mode\":\"markers+text\",\"showlegend\":false,\"text\":\"ZWS (2.32%, 24.97%)\",\"textposition\":\"top center\",\"x\":[0.2496668199792046],\"y\":[0.023183474346148314],\"type\":\"scatter\"},{\"marker\":{\"color\":\"blue\",\"size\":6},\"mode\":\"markers+text\",\"showlegend\":false,\"text\":\"GTX (-1.64%, 47.85%)\",\"textposition\":\"top center\",\"x\":[0.47847905219097947],\"y\":[-0.016408269694872413],\"type\":\"scatter\"},{\"marker\":{\"color\":\"blue\",\"size\":6},\"mode\":\"markers+text\",\"showlegend\":false,\"text\":\"LKQ (12.38%, 33.45%)\",\"textposition\":\"top center\",\"x\":[0.33448106552603396],\"y\":[0.12381290962807179],\"type\":\"scatter\"},{\"marker\":{\"color\":\"blue\",\"size\":6},\"mode\":\"markers+text\",\"showlegend\":false,\"text\":\"2154.T (17.85%, 62.42%)\",\"textposition\":\"top center\",\"x\":[0.6242158548562733],\"y\":[0.17854931457681844],\"type\":\"scatter\"},{\"marker\":{\"color\":\"blue\",\"size\":6},\"mode\":\"markers+text\",\"showlegend\":false,\"text\":\"MIDW.L (1.81%, 31.24%)\",\"textposition\":\"top center\",\"x\":[0.3124071846186274],\"y\":[0.01806732457194271],\"type\":\"scatter\"},{\"marker\":{\"color\":\"blue\",\"size\":6},\"mode\":\"markers+text\",\"showlegend\":false,\"text\":\"HPQ (5.96%, 33.95%)\",\"textposition\":\"top center\",\"x\":[0.33953013746576816],\"y\":[0.05957573344489786],\"type\":\"scatter\"},{\"marker\":{\"color\":\"blue\",\"size\":6},\"mode\":\"markers+text\",\"showlegend\":false,\"text\":\"AZEK (2.09%, 22.16%)\",\"textposition\":\"top center\",\"x\":[0.2216223232462371],\"y\":[0.02089304083359056],\"type\":\"scatter\"},{\"marker\":{\"color\":\"blue\",\"size\":6},\"mode\":\"markers+text\",\"showlegend\":false,\"text\":\"ADV.DE (0.76%, 69.07%)\",\"textposition\":\"top center\",\"x\":[0.6907050411586119],\"y\":[0.0075947149915642775],\"type\":\"scatter\"},{\"marker\":{\"color\":\"blue\",\"size\":6},\"mode\":\"markers+text\",\"showlegend\":false,\"text\":\"VRE (3.40%, 28.41%)\",\"textposition\":\"top center\",\"x\":[0.28409024023235707],\"y\":[0.0339600661326942],\"type\":\"scatter\"},{\"marker\":{\"color\":\"blue\",\"size\":6},\"mode\":\"markers+text\",\"showlegend\":false,\"text\":\"NSIT (8.69%, 53.06%)\",\"textposition\":\"top center\",\"x\":[0.5305608268536656],\"y\":[0.08691156011549084],\"type\":\"scatter\"},{\"marker\":{\"color\":\"blue\",\"size\":6},\"mode\":\"markers+text\",\"showlegend\":false,\"text\":\"KMX (17.47%, 49.77%)\",\"textposition\":\"top center\",\"x\":[0.49774228520342484],\"y\":[0.17471338411489845],\"type\":\"scatter\"},{\"marker\":{\"color\":\"blue\",\"size\":6},\"mode\":\"markers+text\",\"showlegend\":false,\"text\":\"OXIG.L (12.80%, 41.15%)\",\"textposition\":\"top center\",\"x\":[0.4115039718337094],\"y\":[0.1279829687425713],\"type\":\"scatter\"},{\"marker\":{\"color\":\"blue\",\"size\":6},\"mode\":\"markers+text\",\"showlegend\":false,\"text\":\"CDNS (12.00%, 35.23%)\",\"textposition\":\"top center\",\"x\":[0.35227599812373844],\"y\":[0.12001553308160351],\"type\":\"scatter\"},{\"marker\":{\"color\":\"red\",\"size\":10,\"symbol\":\"star\"},\"mode\":\"markers\",\"name\":\"Max Sharpe Portfolio\",\"x\":[0.11591987511217045],\"y\":[0.16089413116773077],\"type\":\"scatter\"},{\"line\":{\"color\":\"blue\",\"width\":3},\"mode\":\"lines\",\"name\":\"Efficient Frontier\",\"x\":[0.050364402135051556,0.05035660562618249,0.050349810926060674,0.05034388870920074,0.050338726491533446,0.05033422639956374,0.050330303246114594,0.05032688286623344,0.05032390067615227,0.05032130042420996,0.05031903310731072,0.05031705603033869,0.050315331989182525,0.05031382856075438,0.050312517485712104,0.050311374131563634,0.05031037702552451,0.05030950744794098,0.05030874907833353,0.050308087687175915,0.05030751086744708,0.050307007800781026,0.050306569053725055,0.050306186400203096,0.050305852666798594,0.05030556159790697,0.05030530773819649,0.05030508633014814,0.050304893224732465,0.050304724803536205,0.050304577910865594,0.05030444979454634,0.05030433805430537,0.05030424059675851,0.05030415559616179,0.050304081460183864,0.05030401680005786,0.05030396040455325,0.05030391121727484,0.050303868316867735,0.05030383089975152,0.05030379826506447,0.05030376980153173,0.050303744976012706,0.0503037233235136,0.0503037044384758,0.05030368796717807,0.050303673601111376,0.050303661071199,0.05030365014275674,0.05030364061109622,0.05030363229769124,0.050303625046834013,0.0503036187227181,0.05030361320689498,0.0503036083960554,0.05030360420009445,0.050303600540423446,0.05030359734849848,0.05030359456453647,0.05030359213639494,0.050303590018596425,0.050303588171475386,0.05030358656043638,0.05027988675039651,0.05029564040095404,0.05036295774743819,0.05047941295359401,0.05061954754328853,0.050805562910430126,0.051027278537945225,0.05128418948417324,0.051575654221063055,0.05190918401414387,0.05226295610813443,0.052646290183646395,0.0530634572424651,0.05352103795844071,0.053989911216505204,0.05450416202365509,0.055025837232405,0.05559579769879711,0.05617924978984149,0.05678130718105297,0.05742572859964863,0.058075481188503336,0.05876744908316417,0.059462308883354076,0.060197674356357596,0.06094702853169,0.06171213739423593,0.06249630152718934,0.06329942790054775,0.0641197769497083,0.06495581171795574,0.06580774829791694,0.06667557804095346,0.06755824061490544,0.06845508191277748,0.06936553763561713,0.07028907618293195,0.07122518818647879,0.0721733843212658,0.07313319454999602,0.07410416758809169,0.07508587038068737,0.07607788756123093,0.07707982089226394,0.07809128869366636,0.079111925263777,0.08014095924897358,0.08117872716222907,0.08222540109494086,0.08327941242573551,0.08433886191186679,0.08540877193316253,0.0864866300412642,0.08757172036275974,0.08866369844401881,0.08977022776327837,0.09087146481855143,0.09198251835753828,0.09311880903992191,0.09425062244228083,0.09538927254266602,0.09653535433679512,0.09768863580679414,0.09884733771914875,0.10004988705059359,0.10123726685928626,0.10243128250164919,0.1036634164422725,0.10492083640789714,0.10620010363067153,0.10750015190058533,0.10882020418692072,0.1101595377341781,0.11151745742806118,0.11287769333032623,0.11425676463310741,0.11572262735924116,0.11710929214492619,0.11855027460116331,0.1200408418116431,0.12156455013183312,0.12311083011953454,0.12477035418445528,0.12649324303777976,0.12828916517829111,0.13015665092934892,0.1320928615585622,0.1340948448649774,0.13615970277865433,0.13828461919683607,0.1404668685843988,0.14270384310592327,0.14498698173691296,0.1473199291141999,0.14970601125952718,0.15213856332311773,0.15459694981835648,0.1571521773612155,0.15972014467144716,0.16230350881506792,0.16496034946099422,0.16764346571134633,0.17043038859154971,0.1732895103723043,0.17621701062179546,0.17923611378723997,0.18237401378161147,0.18561438193682953,0.1889743535459959,0.1924643101169642,0.1960682469024216,0.19986371554184143,0.20387156070147902,0.20807892165572345,0.21250769427678087,0.2173617874248502,0.22257888924918617,0.22840412325213966,0.23484007441960628,0.2418597163008396,0.24938838561155882,0.25740876565256277,0.2658469194861851,0.27469564999862695,0.2838835543883564,0.2934133539668309,0.30325858434984876,0.31332079452009676,0.32363728164983324,0.33417460233868107,0.3449106594205066,0.3558271168244313,0.3669078079175682,0.3781382831508668,0.3895055844814862,0.4009579059143765],\"y\":[0.02770494760331163,0.0277084229846703,0.02771145413874533,0.027714097838765415,0.027716403616709264,0.027718414671932444,0.027720168679727285,0.027721698497948137,0.027723032783375498,0.027724196529142556,0.027725211533326213,0.02772609680753555,0.0277268689332023,0.027727542372283056,0.027728129738216246,0.027728642032226105,0.027729088849408237,0.027729478558467198,0.02772981845847417,0.027730114915586187,0.02773037348228728,0.02773059900138788,0.027730795696731647,0.027730967252307084,0.027731116881247592,0.027731247386012917,0.02773136121087771,0.02773146048771191,0.027731547075909153,0.02773162259721275,0.02773168846608979,0.027731745916223065,0.027731796023618034,0.02773183972675462,0.02773187784416537,0.027731911089765506,0.02773194008622405,0.0277319653766268,0.027731987434646978,0.027732006673417575,0.02773202345326859,0.02773203808847615,0.027732050853148383,0.027732061986359732,0.02773207169662834,0.027732080165821286,0.027732087552561294,0.02773209399519724,0.02773209961439574,0.02773210451540105,0.02773210879000575,0.027732112518270305,0.027732115770023158,0.0277321186061674,0.027732121079822203,0.027732123237317538,0.027732125119061996,0.027732126760299663,0.027732128191769595,0.027732129440282464,0.02773213052922205,0.027732131478983724,0.027732132307355502,0.027732133029852734,0.028979733352399832,0.030714197763882005,0.03244853234406324,0.034183053125864234,0.035917041110971284,0.03765143141264658,0.039385680097846494,0.041119947190282446,0.042854155777791496,0.04458861505744924,0.046322657528009764,0.048056824919954534,0.049791015556661294,0.051525472636307613,0.05325958398575337,0.0549940386481011,0.056728112142392796,0.05846254441663267,0.060196749617449016,0.06193089475526924,0.06366535523445022,0.06539946599446532,0.06713392177665622,0.06886802807801773,0.07060245635906656,0.07233669762619624,0.07407074565579527,0.07580499853029152,0.0775392760392149,0.07927355785141586,0.08100781803241197,0.08274208840507256,0.08447636890044898,0.08621065123359815,0.08794493389220352,0.08967921660841155,0.09141349933481392,0.09314778206302175,0.09488206479154904,0.09661634752013218,0.09835063024872462,0.10008491297732038,0.10181919570591597,0.10355347843451089,0.10528776116310605,0.10702204389170188,0.10875630718923598,0.11049058109061716,0.11222486249250957,0.1139591431530093,0.11569337716911925,0.11742764914785643,0.11916192986863892,0.12089621222373578,0.12263049488285721,0.1243648091614414,0.12609896960411265,0.1278331971724067,0.12956771937386996,0.13130201832028707,0.13303630188779303,0.13477058472538425,0.1365048674713665,0.1382391099534208,0.1399734485217094,0.14170765358933282,0.14344143416141258,0.14517564079929324,0.14690991507115336,0.14864419685927768,0.15037847948328287,0.15211276220024667,0.15384704492754858,0.15558132765600013,0.15731524440026334,0.15904917624099038,0.1607845115767566,0.16251783473241616,0.164251204894789,0.1659856271779977,0.1677198794690444,0.16945341570359487,0.17118809518357297,0.17292242572015104,0.17465671420948115,0.17639099763223062,0.1781252804444681,0.17985956318314314,0.1815938459129535,0.18332812864169504,0.18506241137030738,0.1867966944609261,0.18853094430173972,0.19026507091660969,0.19199933916143835,0.19373362006971515,0.19546760594252038,0.19720238439342708,0.19893672570468382,0.2006707472071296,0.2024050132594215,0.20413909276628853,0.20587342529868843,0.20760771514351914,0.20934197073991867,0.2110761563589642,0.21281042460493838,0.21454476413836518,0.21627898868562262,0.21801336405643765,0.219747624959405,0.2214819522846286,0.223216261139153,0.2249505476367403,0.22668485185921627,0.2284191486307375,0.23015347973870096,0.23188777608990524,0.23362203496916806,0.2353563396779183,0.23709060008274557,0.23882490507230855,0.24055916552839357,0.24229347052738,0.24402773098519742,0.24576203598450835,0.24749638940447663,0.24923063411120355,0.2509649099330134,0.25269919140696795,0.2544334739076521,0.25616775659485014,0.25790203931592076,0.25963632204315445,0.2613706047714979,0.2631049859180172],\"type\":\"scatter\"}],                        {\"template\":{\"data\":{\"barpolar\":[{\"marker\":{\"line\":{\"color\":\"white\",\"width\":0.5},\"pattern\":{\"fillmode\":\"overlay\",\"size\":10,\"solidity\":0.2}},\"type\":\"barpolar\"}],\"bar\":[{\"error_x\":{\"color\":\"#2a3f5f\"},\"error_y\":{\"color\":\"#2a3f5f\"},\"marker\":{\"line\":{\"color\":\"white\",\"width\":0.5},\"pattern\":{\"fillmode\":\"overlay\",\"size\":10,\"solidity\":0.2}},\"type\":\"bar\"}],\"carpet\":[{\"aaxis\":{\"endlinecolor\":\"#2a3f5f\",\"gridcolor\":\"#C8D4E3\",\"linecolor\":\"#C8D4E3\",\"minorgridcolor\":\"#C8D4E3\",\"startlinecolor\":\"#2a3f5f\"},\"baxis\":{\"endlinecolor\":\"#2a3f5f\",\"gridcolor\":\"#C8D4E3\",\"linecolor\":\"#C8D4E3\",\"minorgridcolor\":\"#C8D4E3\",\"startlinecolor\":\"#2a3f5f\"},\"type\":\"carpet\"}],\"choropleth\":[{\"colorbar\":{\"outlinewidth\":0,\"ticks\":\"\"},\"type\":\"choropleth\"}],\"contourcarpet\":[{\"colorbar\":{\"outlinewidth\":0,\"ticks\":\"\"},\"type\":\"contourcarpet\"}],\"contour\":[{\"colorbar\":{\"outlinewidth\":0,\"ticks\":\"\"},\"colorscale\":[[0.0,\"#0d0887\"],[0.1111111111111111,\"#46039f\"],[0.2222222222222222,\"#7201a8\"],[0.3333333333333333,\"#9c179e\"],[0.4444444444444444,\"#bd3786\"],[0.5555555555555556,\"#d8576b\"],[0.6666666666666666,\"#ed7953\"],[0.7777777777777778,\"#fb9f3a\"],[0.8888888888888888,\"#fdca26\"],[1.0,\"#f0f921\"]],\"type\":\"contour\"}],\"heatmapgl\":[{\"colorbar\":{\"outlinewidth\":0,\"ticks\":\"\"},\"colorscale\":[[0.0,\"#0d0887\"],[0.1111111111111111,\"#46039f\"],[0.2222222222222222,\"#7201a8\"],[0.3333333333333333,\"#9c179e\"],[0.4444444444444444,\"#bd3786\"],[0.5555555555555556,\"#d8576b\"],[0.6666666666666666,\"#ed7953\"],[0.7777777777777778,\"#fb9f3a\"],[0.8888888888888888,\"#fdca26\"],[1.0,\"#f0f921\"]],\"type\":\"heatmapgl\"}],\"heatmap\":[{\"colorbar\":{\"outlinewidth\":0,\"ticks\":\"\"},\"colorscale\":[[0.0,\"#0d0887\"],[0.1111111111111111,\"#46039f\"],[0.2222222222222222,\"#7201a8\"],[0.3333333333333333,\"#9c179e\"],[0.4444444444444444,\"#bd3786\"],[0.5555555555555556,\"#d8576b\"],[0.6666666666666666,\"#ed7953\"],[0.7777777777777778,\"#fb9f3a\"],[0.8888888888888888,\"#fdca26\"],[1.0,\"#f0f921\"]],\"type\":\"heatmap\"}],\"histogram2dcontour\":[{\"colorbar\":{\"outlinewidth\":0,\"ticks\":\"\"},\"colorscale\":[[0.0,\"#0d0887\"],[0.1111111111111111,\"#46039f\"],[0.2222222222222222,\"#7201a8\"],[0.3333333333333333,\"#9c179e\"],[0.4444444444444444,\"#bd3786\"],[0.5555555555555556,\"#d8576b\"],[0.6666666666666666,\"#ed7953\"],[0.7777777777777778,\"#fb9f3a\"],[0.8888888888888888,\"#fdca26\"],[1.0,\"#f0f921\"]],\"type\":\"histogram2dcontour\"}],\"histogram2d\":[{\"colorbar\":{\"outlinewidth\":0,\"ticks\":\"\"},\"colorscale\":[[0.0,\"#0d0887\"],[0.1111111111111111,\"#46039f\"],[0.2222222222222222,\"#7201a8\"],[0.3333333333333333,\"#9c179e\"],[0.4444444444444444,\"#bd3786\"],[0.5555555555555556,\"#d8576b\"],[0.6666666666666666,\"#ed7953\"],[0.7777777777777778,\"#fb9f3a\"],[0.8888888888888888,\"#fdca26\"],[1.0,\"#f0f921\"]],\"type\":\"histogram2d\"}],\"histogram\":[{\"marker\":{\"pattern\":{\"fillmode\":\"overlay\",\"size\":10,\"solidity\":0.2}},\"type\":\"histogram\"}],\"mesh3d\":[{\"colorbar\":{\"outlinewidth\":0,\"ticks\":\"\"},\"type\":\"mesh3d\"}],\"parcoords\":[{\"line\":{\"colorbar\":{\"outlinewidth\":0,\"ticks\":\"\"}},\"type\":\"parcoords\"}],\"pie\":[{\"automargin\":true,\"type\":\"pie\"}],\"scatter3d\":[{\"line\":{\"colorbar\":{\"outlinewidth\":0,\"ticks\":\"\"}},\"marker\":{\"colorbar\":{\"outlinewidth\":0,\"ticks\":\"\"}},\"type\":\"scatter3d\"}],\"scattercarpet\":[{\"marker\":{\"colorbar\":{\"outlinewidth\":0,\"ticks\":\"\"}},\"type\":\"scattercarpet\"}],\"scattergeo\":[{\"marker\":{\"colorbar\":{\"outlinewidth\":0,\"ticks\":\"\"}},\"type\":\"scattergeo\"}],\"scattergl\":[{\"marker\":{\"colorbar\":{\"outlinewidth\":0,\"ticks\":\"\"}},\"type\":\"scattergl\"}],\"scattermapbox\":[{\"marker\":{\"colorbar\":{\"outlinewidth\":0,\"ticks\":\"\"}},\"type\":\"scattermapbox\"}],\"scatterpolargl\":[{\"marker\":{\"colorbar\":{\"outlinewidth\":0,\"ticks\":\"\"}},\"type\":\"scatterpolargl\"}],\"scatterpolar\":[{\"marker\":{\"colorbar\":{\"outlinewidth\":0,\"ticks\":\"\"}},\"type\":\"scatterpolar\"}],\"scatter\":[{\"fillpattern\":{\"fillmode\":\"overlay\",\"size\":10,\"solidity\":0.2},\"type\":\"scatter\"}],\"scatterternary\":[{\"marker\":{\"colorbar\":{\"outlinewidth\":0,\"ticks\":\"\"}},\"type\":\"scatterternary\"}],\"surface\":[{\"colorbar\":{\"outlinewidth\":0,\"ticks\":\"\"},\"colorscale\":[[0.0,\"#0d0887\"],[0.1111111111111111,\"#46039f\"],[0.2222222222222222,\"#7201a8\"],[0.3333333333333333,\"#9c179e\"],[0.4444444444444444,\"#bd3786\"],[0.5555555555555556,\"#d8576b\"],[0.6666666666666666,\"#ed7953\"],[0.7777777777777778,\"#fb9f3a\"],[0.8888888888888888,\"#fdca26\"],[1.0,\"#f0f921\"]],\"type\":\"surface\"}],\"table\":[{\"cells\":{\"fill\":{\"color\":\"#EBF0F8\"},\"line\":{\"color\":\"white\"}},\"header\":{\"fill\":{\"color\":\"#C8D4E3\"},\"line\":{\"color\":\"white\"}},\"type\":\"table\"}]},\"layout\":{\"annotationdefaults\":{\"arrowcolor\":\"#2a3f5f\",\"arrowhead\":0,\"arrowwidth\":1},\"autotypenumbers\":\"strict\",\"coloraxis\":{\"colorbar\":{\"outlinewidth\":0,\"ticks\":\"\"}},\"colorscale\":{\"diverging\":[[0,\"#8e0152\"],[0.1,\"#c51b7d\"],[0.2,\"#de77ae\"],[0.3,\"#f1b6da\"],[0.4,\"#fde0ef\"],[0.5,\"#f7f7f7\"],[0.6,\"#e6f5d0\"],[0.7,\"#b8e186\"],[0.8,\"#7fbc41\"],[0.9,\"#4d9221\"],[1,\"#276419\"]],\"sequential\":[[0.0,\"#0d0887\"],[0.1111111111111111,\"#46039f\"],[0.2222222222222222,\"#7201a8\"],[0.3333333333333333,\"#9c179e\"],[0.4444444444444444,\"#bd3786\"],[0.5555555555555556,\"#d8576b\"],[0.6666666666666666,\"#ed7953\"],[0.7777777777777778,\"#fb9f3a\"],[0.8888888888888888,\"#fdca26\"],[1.0,\"#f0f921\"]],\"sequentialminus\":[[0.0,\"#0d0887\"],[0.1111111111111111,\"#46039f\"],[0.2222222222222222,\"#7201a8\"],[0.3333333333333333,\"#9c179e\"],[0.4444444444444444,\"#bd3786\"],[0.5555555555555556,\"#d8576b\"],[0.6666666666666666,\"#ed7953\"],[0.7777777777777778,\"#fb9f3a\"],[0.8888888888888888,\"#fdca26\"],[1.0,\"#f0f921\"]]},\"colorway\":[\"#636efa\",\"#EF553B\",\"#00cc96\",\"#ab63fa\",\"#FFA15A\",\"#19d3f3\",\"#FF6692\",\"#B6E880\",\"#FF97FF\",\"#FECB52\"],\"font\":{\"color\":\"#2a3f5f\"},\"geo\":{\"bgcolor\":\"white\",\"lakecolor\":\"white\",\"landcolor\":\"white\",\"showlakes\":true,\"showland\":true,\"subunitcolor\":\"#C8D4E3\"},\"hoverlabel\":{\"align\":\"left\"},\"hovermode\":\"closest\",\"mapbox\":{\"style\":\"light\"},\"paper_bgcolor\":\"white\",\"plot_bgcolor\":\"white\",\"polar\":{\"angularaxis\":{\"gridcolor\":\"#EBF0F8\",\"linecolor\":\"#EBF0F8\",\"ticks\":\"\"},\"bgcolor\":\"white\",\"radialaxis\":{\"gridcolor\":\"#EBF0F8\",\"linecolor\":\"#EBF0F8\",\"ticks\":\"\"}},\"scene\":{\"xaxis\":{\"backgroundcolor\":\"white\",\"gridcolor\":\"#DFE8F3\",\"gridwidth\":2,\"linecolor\":\"#EBF0F8\",\"showbackground\":true,\"ticks\":\"\",\"zerolinecolor\":\"#EBF0F8\"},\"yaxis\":{\"backgroundcolor\":\"white\",\"gridcolor\":\"#DFE8F3\",\"gridwidth\":2,\"linecolor\":\"#EBF0F8\",\"showbackground\":true,\"ticks\":\"\",\"zerolinecolor\":\"#EBF0F8\"},\"zaxis\":{\"backgroundcolor\":\"white\",\"gridcolor\":\"#DFE8F3\",\"gridwidth\":2,\"linecolor\":\"#EBF0F8\",\"showbackground\":true,\"ticks\":\"\",\"zerolinecolor\":\"#EBF0F8\"}},\"shapedefaults\":{\"line\":{\"color\":\"#2a3f5f\"}},\"ternary\":{\"aaxis\":{\"gridcolor\":\"#DFE8F3\",\"linecolor\":\"#A2B1C6\",\"ticks\":\"\"},\"baxis\":{\"gridcolor\":\"#DFE8F3\",\"linecolor\":\"#A2B1C6\",\"ticks\":\"\"},\"bgcolor\":\"white\",\"caxis\":{\"gridcolor\":\"#DFE8F3\",\"linecolor\":\"#A2B1C6\",\"ticks\":\"\"}},\"title\":{\"x\":0.05},\"xaxis\":{\"automargin\":true,\"gridcolor\":\"#EBF0F8\",\"linecolor\":\"#EBF0F8\",\"ticks\":\"\",\"title\":{\"standoff\":15},\"zerolinecolor\":\"#EBF0F8\",\"zerolinewidth\":2},\"yaxis\":{\"automargin\":true,\"gridcolor\":\"#EBF0F8\",\"linecolor\":\"#EBF0F8\",\"ticks\":\"\",\"title\":{\"standoff\":15},\"zerolinecolor\":\"#EBF0F8\",\"zerolinewidth\":2}}},\"title\":{\"text\":\"Efficient Frontier\"},\"xaxis\":{\"title\":{\"text\":\"Volatility (Standard Deviation)\"}},\"yaxis\":{\"title\":{\"text\":\"Expected Return\"}}},                        {\"responsive\": true}                    ).then(function(){\n",
       "                            \n",
       "var gd = document.getElementById('4523d9eb-45c5-4627-88f1-ab5d6cc49d81');\n",
       "var x = new MutationObserver(function (mutations, observer) {{\n",
       "        var display = window.getComputedStyle(gd).display;\n",
       "        if (!display || display === 'none') {{\n",
       "            console.log([gd, 'removed!']);\n",
       "            Plotly.purge(gd);\n",
       "            observer.disconnect();\n",
       "        }}\n",
       "}});\n",
       "\n",
       "// Listen for the removal of the full notebook cells\n",
       "var notebookContainer = gd.closest('#notebook-container');\n",
       "if (notebookContainer) {{\n",
       "    x.observe(notebookContainer, {childList: true});\n",
       "}}\n",
       "\n",
       "// Listen for the clearing of the current output cell\n",
       "var outputEl = gd.closest('.output');\n",
       "if (outputEl) {{\n",
       "    x.observe(outputEl, {childList: true});\n",
       "}}\n",
       "\n",
       "                        })                };                });            </script>        </div>"
      ]
     },
     "metadata": {},
     "output_type": "display_data"
    }
   ],
   "execution_count": 47
  },
  {
   "cell_type": "markdown",
   "id": "83c15adb735f4bd4",
   "metadata": {},
   "source": [
    "### Allocation"
   ]
  }
 ],
 "metadata": {
  "kernelspec": {
   "display_name": "Python 3 (ipykernel)",
   "language": "python",
   "name": "python3"
  },
  "language_info": {
   "codemirror_mode": {
    "name": "ipython",
    "version": 3
   },
   "file_extension": ".py",
   "mimetype": "text/x-python",
   "name": "python",
   "nbconvert_exporter": "python",
   "pygments_lexer": "ipython3",
   "version": "3.9.18"
  }
 },
 "nbformat": 4,
 "nbformat_minor": 5
}
