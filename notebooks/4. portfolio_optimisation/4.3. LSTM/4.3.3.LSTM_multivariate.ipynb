{
 "cells": [
  {
   "metadata": {
    "ExecuteTime": {
     "end_time": "2025-06-09T09:34:20.438764Z",
     "start_time": "2025-06-09T09:34:20.430923Z"
    }
   },
   "cell_type": "code",
   "source": [
    "import torch\n",
    "import torch.nn as nn\n",
    "import torch.optim as optim\n",
    "import pandas as pd\n",
    "#\n",
    "import importlib\n",
    "import utilities.lstm_utils as lstm_utils\n",
    "import utilities.mpt_utils as mpt_utils\n",
    "import utilities.variables as variables"
   ],
   "id": "9be531e52190f129",
   "outputs": [],
   "execution_count": 112
  },
  {
   "metadata": {
    "ExecuteTime": {
     "end_time": "2025-06-09T09:34:20.446322Z",
     "start_time": "2025-06-09T09:34:20.443227Z"
    }
   },
   "cell_type": "code",
   "source": [
    "# Set device (GPU if available)\n",
    "device = torch.device(\"cuda\" if torch.cuda.is_available() else \"cpu\")"
   ],
   "id": "6853a9962a424a1c",
   "outputs": [],
   "execution_count": 113
  },
  {
   "metadata": {},
   "cell_type": "markdown",
   "source": "## Data",
   "id": "fe8516df25855518"
  },
  {
   "metadata": {
    "ExecuteTime": {
     "end_time": "2025-06-09T09:34:20.567913Z",
     "start_time": "2025-06-09T09:34:20.449107Z"
    }
   },
   "cell_type": "code",
   "source": [
    "df = pd.read_csv('../../../data/df_monthly_prices_complete_euro.csv', index_col='Date')\n",
    "df_pct = pd.read_csv('../../../data/df_monthly_returns_complete.csv', index_col='Date')\n",
    "df_overview = pd.read_csv('../../../data/df_overview.csv', index_col=0)"
   ],
   "id": "4513018354bbc541",
   "outputs": [],
   "execution_count": 114
  },
  {
   "metadata": {},
   "cell_type": "markdown",
   "source": "## LSTM Model",
   "id": "d5b44de5e3c4223c"
  },
  {
   "metadata": {
    "ExecuteTime": {
     "end_time": "2025-06-09T09:34:20.592015Z",
     "start_time": "2025-06-09T09:34:20.588660Z"
    }
   },
   "cell_type": "code",
   "source": [
    "# Define 4.3. LSTM model\n",
    "class LSTM_Uni_Model(nn.Module):\n",
    "    def __init__(self, input_size, hidden_size=128, num_layers=1, output_size=1, learning_rate=0.001, dropout=0.2): # , hidden_size=128\n",
    "        super(LSTM_Uni_Model, self).__init__()\n",
    "        self.hidden_size = hidden_size\n",
    "        # init LSTM\n",
    "        self.lstm = nn.LSTM(input_size=input_size,\n",
    "                            hidden_size=hidden_size,\n",
    "                            # num_layers=num_layers,\n",
    "                            batch_first=True)\n",
    "\n",
    "        # FC layer for final prediction\n",
    "        self.fc_final = nn.Linear(hidden_size, 12)\n",
    "\n",
    "    def forward(self, ts_batch): # ts_batch (64, 1653, 10), static_data (64, 1653, 44)\n",
    "        # Time-Series Data\n",
    "        # Reshape dynamic data for LSTM (requires time-step as 2nd dimension)\n",
    "        batch_size, num_stocks, sequence_length = ts_batch.shape[0], ts_batch.shape[1], ts_batch.shape[2]\n",
    "        ts_batch_reshaped = ts_batch.view(batch_size * num_stocks, sequence_length)\n",
    "        #\n",
    "        ts_output_1, (hidden, cell)  = self.lstm(ts_batch_reshaped) # ts_batch_reshaped\n",
    "        #\n",
    "        ts_output = ts_output_1.view(batch_size, num_stocks, self.hidden_size)\n",
    "\n",
    "        return self.fc_final(ts_output)#.squeeze(-1) # ts_output_2"
   ],
   "id": "ff4cbc246759fc20",
   "outputs": [],
   "execution_count": 116
  },
  {
   "metadata": {},
   "cell_type": "markdown",
   "source": [
    "We use a 12 month lookback for the sequential data to predict the upcoming 12 months.\n",
    "\n",
    "After that, based on the currently predicted time-horizon, we get the respective sub-range, \n",
    "be it 1-month, 6-month or 12-month ahead."
   ],
   "id": "3f14312f686aafa8"
  },
  {
   "metadata": {
    "ExecuteTime": {
     "end_time": "2025-06-09T09:34:20.597974Z",
     "start_time": "2025-06-09T09:34:20.596279Z"
    }
   },
   "cell_type": "code",
   "source": [
    "# Set sequence length (12 months)\n",
    "in_seq_length = 12\n",
    "out_seq_length = 12\n",
    "#\n",
    "out_seq_length_1m = 1\n",
    "out_seq_length_6m = 6\n",
    "out_seq_length_12m = 12"
   ],
   "id": "4bb4ad974e9f4f73",
   "outputs": [],
   "execution_count": 117
  },
  {
   "metadata": {},
   "cell_type": "markdown",
   "source": "### LSTM Univariate",
   "id": "f3bf50fecdb9e99a"
  },
  {
   "metadata": {
    "ExecuteTime": {
     "end_time": "2025-06-09T09:34:20.604764Z",
     "start_time": "2025-06-09T09:34:20.601394Z"
    }
   },
   "cell_type": "code",
   "source": "df_to_evaluate = df_pct - 1",
   "id": "c6bc6e1efb7cf30b",
   "outputs": [],
   "execution_count": 118
  },
  {
   "metadata": {},
   "cell_type": "markdown",
   "source": "#### Train-Test Splits",
   "id": "6ce4ba4bb6d29a7d"
  },
  {
   "metadata": {},
   "cell_type": "markdown",
   "source": "Split the data into training and testing sets",
   "id": "ad62c65eeaec57a4"
  },
  {
   "metadata": {
    "ExecuteTime": {
     "end_time": "2025-06-09T09:34:21.685132Z",
     "start_time": "2025-06-09T09:34:20.608134Z"
    }
   },
   "cell_type": "code",
   "source": [
    "importlib.reload(lstm_utils)\n",
    "importlib.reload(variables)\n",
    "\n",
    "# Set sequence length (e.g., 12 time points)\n",
    "X_train, X_test, y_train, y_test = lstm_utils.split_train_test(df_to_evaluate, [], \n",
    "                                                               in_seq_length=in_seq_length, \n",
    "                                                               out_seq_length=out_seq_length, \n",
    "                                                               validation_months=(variables.TEST_YEARS_NR * 12))\n",
    "\n",
    "# Check the shapes of the training and test data\n",
    "print(\"Shape of X_train:\", X_train.shape)\n",
    "print(\"Shape of y_train:\", y_train.shape)\n",
    "print(\"Shape of X_test:\", X_test.shape)\n",
    "print(\"Shape of y_test:\", y_test.shape)"
   ],
   "id": "a758546911c3a7a7",
   "outputs": [
    {
     "name": "stdout",
     "output_type": "stream",
     "text": [
      "Shape of X_train: torch.Size([227, 1653, 12])\n",
      "Shape of y_train: torch.Size([227, 1653, 12])\n",
      "Shape of X_test: torch.Size([48, 1653, 12])\n",
      "Shape of y_test: torch.Size([48, 1653, 12])\n"
     ]
    }
   ],
   "execution_count": 119
  },
  {
   "metadata": {},
   "cell_type": "markdown",
   "source": "### Model Training",
   "id": "7173f848c5f8057e"
  },
  {
   "metadata": {
    "ExecuteTime": {
     "end_time": "2025-06-09T10:26:51.461834Z",
     "start_time": "2025-06-09T09:34:21.754347Z"
    }
   },
   "cell_type": "code",
   "source": [
    "# Model, Loss, Optimizer\n",
    "model = LSTM_Uni_Model(input_size=in_seq_length, output_size=out_seq_length).to(device)\n",
    "criterion = nn.MSELoss()  # Mean Squared Error for regression\n",
    "optimizer = optim.Adam(model.parameters(), lr=0.001)\n",
    "\n",
    "importlib.reload(lstm_utils)\n",
    "#\n",
    "model, y_train_pred, y_test_pred = lstm_utils.lstm_train_validate(model, optimizer, X_train, X_test, y_train, y_test)"
   ],
   "id": "fe9300ce5450c4bf",
   "outputs": [
    {
     "name": "stdout",
     "output_type": "stream",
     "text": [
      "Epoch 1/100, Loss: 31.5989, Train RMSE: 5.9693, Test RMSE: 0.2866. \n",
      "Epoch 2/100, Loss: 31.5977, Train RMSE: 5.9692, Test RMSE: 0.2868. \n",
      "Epoch 3/100, Loss: 31.5973, Train RMSE: 5.9692, Test RMSE: 0.2868. \n",
      "Epoch 4/100, Loss: 31.5971, Train RMSE: 5.9691, Test RMSE: 0.2867. \n",
      "Epoch 5/100, Loss: 31.5969, Train RMSE: 5.9691, Test RMSE: 0.2867. \n",
      "Epoch 6/100, Loss: 31.5967, Train RMSE: 5.9691, Test RMSE: 0.2868. \n",
      "Epoch 7/100, Loss: 31.5964, Train RMSE: 5.9691, Test RMSE: 0.2869. \n",
      "Epoch 8/100, Loss: 31.5962, Train RMSE: 5.9691, Test RMSE: 0.2870. \n",
      "Epoch 9/100, Loss: 31.5960, Train RMSE: 5.9690, Test RMSE: 0.2871. \n",
      "Epoch 10/100, Loss: 31.5957, Train RMSE: 5.9690, Test RMSE: 0.2872. \n",
      "Epoch 11/100, Loss: 31.5954, Train RMSE: 5.9690, Test RMSE: 0.2873. \n",
      "Epoch 12/100, Loss: 31.5951, Train RMSE: 5.9690, Test RMSE: 0.2875. \n",
      "Epoch 13/100, Loss: 31.5948, Train RMSE: 5.9689, Test RMSE: 0.2877. \n",
      "Epoch 14/100, Loss: 31.5944, Train RMSE: 5.9689, Test RMSE: 0.2880. \n",
      "Epoch 15/100, Loss: 31.5941, Train RMSE: 5.9689, Test RMSE: 0.2884. \n",
      "Epoch 16/100, Loss: 31.5937, Train RMSE: 5.9688, Test RMSE: 0.2889. \n",
      "Epoch 17/100, Loss: 31.5932, Train RMSE: 5.9688, Test RMSE: 0.2897. \n",
      "Epoch 18/100, Loss: 31.5928, Train RMSE: 5.9687, Test RMSE: 0.2906. \n",
      "Epoch 19/100, Loss: 31.5924, Train RMSE: 5.9687, Test RMSE: 0.2909. \n",
      "Epoch 20/100, Loss: 31.5918, Train RMSE: 5.9687, Test RMSE: 0.2916. \n",
      "Epoch 21/100, Loss: 31.5915, Train RMSE: 5.9686, Test RMSE: 0.2922. \n",
      "Epoch 22/100, Loss: 31.5910, Train RMSE: 5.9686, Test RMSE: 0.2924. \n",
      "Epoch 23/100, Loss: 31.5904, Train RMSE: 5.9685, Test RMSE: 0.2943. \n",
      "Epoch 24/100, Loss: 31.5902, Train RMSE: 5.9685, Test RMSE: 0.2936. \n",
      "Epoch 25/100, Loss: 31.5895, Train RMSE: 5.9684, Test RMSE: 0.2939. \n",
      "Epoch 26/100, Loss: 31.5890, Train RMSE: 5.9684, Test RMSE: 0.2963. \n",
      "Epoch 27/100, Loss: 31.5890, Train RMSE: 5.9683, Test RMSE: 0.2973. \n",
      "Epoch 28/100, Loss: 31.5886, Train RMSE: 5.9683, Test RMSE: 0.2958. \n",
      "Epoch 29/100, Loss: 31.5878, Train RMSE: 5.9682, Test RMSE: 0.2963. \n",
      "Epoch 30/100, Loss: 31.5877, Train RMSE: 5.9682, Test RMSE: 0.2979. \n",
      "Epoch 31/100, Loss: 31.5871, Train RMSE: 5.9682, Test RMSE: 0.3008. \n",
      "Epoch 32/100, Loss: 31.5870, Train RMSE: 5.9681, Test RMSE: 0.2996. \n",
      "Epoch 33/100, Loss: 31.5866, Train RMSE: 5.9681, Test RMSE: 0.2993. \n",
      "Epoch 34/100, Loss: 31.5861, Train RMSE: 5.9681, Test RMSE: 0.3001. \n",
      "Epoch 35/100, Loss: 31.5859, Train RMSE: 5.9680, Test RMSE: 0.3018. \n",
      "Epoch 36/100, Loss: 31.5856, Train RMSE: 5.9680, Test RMSE: 0.3025. \n",
      "Epoch 37/100, Loss: 31.5853, Train RMSE: 5.9680, Test RMSE: 0.3022. \n",
      "Epoch 38/100, Loss: 31.5851, Train RMSE: 5.9680, Test RMSE: 0.3025. \n",
      "Epoch 39/100, Loss: 31.5851, Train RMSE: 5.9679, Test RMSE: 0.3019. \n",
      "Epoch 40/100, Loss: 31.5850, Train RMSE: 5.9679, Test RMSE: 0.3023. \n",
      "Epoch 41/100, Loss: 31.5846, Train RMSE: 5.9679, Test RMSE: 0.3035. \n",
      "Epoch 42/100, Loss: 31.5843, Train RMSE: 5.9679, Test RMSE: 0.3040. \n",
      "Epoch 43/100, Loss: 31.5846, Train RMSE: 5.9679, Test RMSE: 0.3033. \n",
      "Epoch 44/100, Loss: 31.5839, Train RMSE: 5.9679, Test RMSE: 0.3032. \n",
      "Epoch 45/100, Loss: 31.5840, Train RMSE: 5.9678, Test RMSE: 0.3039. \n",
      "Epoch 46/100, Loss: 31.5835, Train RMSE: 5.9678, Test RMSE: 0.3047. \n",
      "Epoch 47/100, Loss: 31.5834, Train RMSE: 5.9678, Test RMSE: 0.3052. \n",
      "Epoch 48/100, Loss: 31.5830, Train RMSE: 5.9678, Test RMSE: 0.3057. \n",
      "Epoch 49/100, Loss: 31.5828, Train RMSE: 5.9677, Test RMSE: 0.3062. \n",
      "Epoch 50/100, Loss: 31.5827, Train RMSE: 5.9677, Test RMSE: 0.3038. \n",
      "Epoch 51/100, Loss: 31.5837, Train RMSE: 5.9678, Test RMSE: 0.3038. \n",
      "Epoch 52/100, Loss: 31.5829, Train RMSE: 5.9677, Test RMSE: 0.3043. \n",
      "Epoch 53/100, Loss: 31.5825, Train RMSE: 5.9677, Test RMSE: 0.3057. \n",
      "Epoch 54/100, Loss: 31.5820, Train RMSE: 5.9677, Test RMSE: 0.3069. \n",
      "Epoch 55/100, Loss: 31.5817, Train RMSE: 5.9676, Test RMSE: 0.3072. \n",
      "Epoch 56/100, Loss: 31.5822, Train RMSE: 5.9677, Test RMSE: 0.3052. \n",
      "Epoch 57/100, Loss: 31.5826, Train RMSE: 5.9677, Test RMSE: 0.3043. \n",
      "Epoch 58/100, Loss: 31.5820, Train RMSE: 5.9677, Test RMSE: 0.3047. \n"
     ]
    },
    {
     "ename": "KeyboardInterrupt",
     "evalue": "",
     "output_type": "error",
     "traceback": [
      "\u001B[0;31m---------------------------------------------------------------------------\u001B[0m",
      "\u001B[0;31mKeyboardInterrupt\u001B[0m                         Traceback (most recent call last)",
      "Cell \u001B[0;32mIn[120], line 8\u001B[0m\n\u001B[1;32m      6\u001B[0m importlib\u001B[38;5;241m.\u001B[39mreload(lstm_utils)\n\u001B[1;32m      7\u001B[0m \u001B[38;5;66;03m#\u001B[39;00m\n\u001B[0;32m----> 8\u001B[0m model, y_train_pred, y_test_pred \u001B[38;5;241m=\u001B[39m lstm_utils\u001B[38;5;241m.\u001B[39mlstm_train_validate(model, optimizer, X_train, X_test, y_train, y_test)\n",
      "File \u001B[0;32m~/Documents/UNI/Master Thesis/sustainability_portfolio_optimisation/utilities/lstm_utils.py:102\u001B[0m, in \u001B[0;36mlstm_train_validate\u001B[0;34m(model, optimizer, X_train, X_test, y_train, y_test)\u001B[0m\n\u001B[1;32m     99\u001B[0m total_loss \u001B[38;5;241m+\u001B[39m\u001B[38;5;241m=\u001B[39m loss\u001B[38;5;241m.\u001B[39mitem()\n\u001B[1;32m    101\u001B[0m \u001B[38;5;66;03m# Backward pass\u001B[39;00m\n\u001B[0;32m--> 102\u001B[0m loss\u001B[38;5;241m.\u001B[39mbackward()\n\u001B[1;32m    103\u001B[0m optimizer\u001B[38;5;241m.\u001B[39mstep()\n\u001B[1;32m    104\u001B[0m \u001B[38;5;66;03m# Join all batch predictions together - only last epoch where model is fully trained\u001B[39;00m\n",
      "File \u001B[0;32m~/anaconda3/envs/portfolio_optimisation/lib/python3.11/site-packages/torch/_tensor.py:521\u001B[0m, in \u001B[0;36mTensor.backward\u001B[0;34m(self, gradient, retain_graph, create_graph, inputs)\u001B[0m\n\u001B[1;32m    511\u001B[0m \u001B[38;5;28;01mif\u001B[39;00m has_torch_function_unary(\u001B[38;5;28mself\u001B[39m):\n\u001B[1;32m    512\u001B[0m     \u001B[38;5;28;01mreturn\u001B[39;00m handle_torch_function(\n\u001B[1;32m    513\u001B[0m         Tensor\u001B[38;5;241m.\u001B[39mbackward,\n\u001B[1;32m    514\u001B[0m         (\u001B[38;5;28mself\u001B[39m,),\n\u001B[0;32m   (...)\u001B[0m\n\u001B[1;32m    519\u001B[0m         inputs\u001B[38;5;241m=\u001B[39minputs,\n\u001B[1;32m    520\u001B[0m     )\n\u001B[0;32m--> 521\u001B[0m torch\u001B[38;5;241m.\u001B[39mautograd\u001B[38;5;241m.\u001B[39mbackward(\n\u001B[1;32m    522\u001B[0m     \u001B[38;5;28mself\u001B[39m, gradient, retain_graph, create_graph, inputs\u001B[38;5;241m=\u001B[39minputs\n\u001B[1;32m    523\u001B[0m )\n",
      "File \u001B[0;32m~/anaconda3/envs/portfolio_optimisation/lib/python3.11/site-packages/torch/autograd/__init__.py:289\u001B[0m, in \u001B[0;36mbackward\u001B[0;34m(tensors, grad_tensors, retain_graph, create_graph, grad_variables, inputs)\u001B[0m\n\u001B[1;32m    284\u001B[0m     retain_graph \u001B[38;5;241m=\u001B[39m create_graph\n\u001B[1;32m    286\u001B[0m \u001B[38;5;66;03m# The reason we repeat the same comment below is that\u001B[39;00m\n\u001B[1;32m    287\u001B[0m \u001B[38;5;66;03m# some Python versions print out the first line of a multi-line function\u001B[39;00m\n\u001B[1;32m    288\u001B[0m \u001B[38;5;66;03m# calls in the traceback and some print out the last line\u001B[39;00m\n\u001B[0;32m--> 289\u001B[0m _engine_run_backward(\n\u001B[1;32m    290\u001B[0m     tensors,\n\u001B[1;32m    291\u001B[0m     grad_tensors_,\n\u001B[1;32m    292\u001B[0m     retain_graph,\n\u001B[1;32m    293\u001B[0m     create_graph,\n\u001B[1;32m    294\u001B[0m     inputs,\n\u001B[1;32m    295\u001B[0m     allow_unreachable\u001B[38;5;241m=\u001B[39m\u001B[38;5;28;01mTrue\u001B[39;00m,\n\u001B[1;32m    296\u001B[0m     accumulate_grad\u001B[38;5;241m=\u001B[39m\u001B[38;5;28;01mTrue\u001B[39;00m,\n\u001B[1;32m    297\u001B[0m )\n",
      "File \u001B[0;32m~/anaconda3/envs/portfolio_optimisation/lib/python3.11/site-packages/torch/autograd/graph.py:768\u001B[0m, in \u001B[0;36m_engine_run_backward\u001B[0;34m(t_outputs, *args, **kwargs)\u001B[0m\n\u001B[1;32m    766\u001B[0m     unregister_hooks \u001B[38;5;241m=\u001B[39m _register_logging_hooks_on_whole_graph(t_outputs)\n\u001B[1;32m    767\u001B[0m \u001B[38;5;28;01mtry\u001B[39;00m:\n\u001B[0;32m--> 768\u001B[0m     \u001B[38;5;28;01mreturn\u001B[39;00m Variable\u001B[38;5;241m.\u001B[39m_execution_engine\u001B[38;5;241m.\u001B[39mrun_backward(  \u001B[38;5;66;03m# Calls into the C++ engine to run the backward pass\u001B[39;00m\n\u001B[1;32m    769\u001B[0m         t_outputs, \u001B[38;5;241m*\u001B[39margs, \u001B[38;5;241m*\u001B[39m\u001B[38;5;241m*\u001B[39mkwargs\n\u001B[1;32m    770\u001B[0m     )  \u001B[38;5;66;03m# Calls into the C++ engine to run the backward pass\u001B[39;00m\n\u001B[1;32m    771\u001B[0m \u001B[38;5;28;01mfinally\u001B[39;00m:\n\u001B[1;32m    772\u001B[0m     \u001B[38;5;28;01mif\u001B[39;00m attach_logging_hooks:\n",
      "\u001B[0;31mKeyboardInterrupt\u001B[0m: "
     ]
    }
   ],
   "execution_count": 120
  },
  {
   "metadata": {},
   "cell_type": "markdown",
   "source": "### LSTM Multivariate - 1 Month",
   "id": "d5318687c5affaa7"
  },
  {
   "metadata": {},
   "cell_type": "markdown",
   "source": [
    "Get the known data (train data).\n",
    "After that, get the first predicted month, or the first predicted sequence of test data"
   ],
   "id": "258c27b9defb7c70"
  },
  {
   "metadata": {
    "ExecuteTime": {
     "end_time": "2025-06-09T10:26:51.543475Z",
     "start_time": "2025-06-09T09:26:02.607457Z"
    }
   },
   "cell_type": "code",
   "source": [
    "# 1 month\n",
    "df_train = X_train[:, :, -1].clone()\n",
    "y_test_pred_1m = y_test_pred[0,:,:].T[0:0] # y_test_pred[:,:,0][0] \n",
    "y_test_pred_1m"
   ],
   "id": "4e354978addc055d",
   "outputs": [
    {
     "data": {
      "text/plain": [
       "tensor([ 0.0393, -0.0033,  0.0122,  ..., -0.0065,  0.0092,  0.0150])"
      ]
     },
     "execution_count": 96,
     "metadata": {},
     "output_type": "execute_result"
    }
   ],
   "execution_count": 96
  },
  {
   "metadata": {
    "ExecuteTime": {
     "end_time": "2025-06-09T10:26:51.543928Z",
     "start_time": "2025-06-09T09:26:02.745280Z"
    }
   },
   "cell_type": "code",
   "source": [
    "df_forecast_1m = pd.DataFrame(df_train.clone())\n",
    "df_forecast_1m = pd.concat([df_forecast_1m, pd.DataFrame(y_test_pred_1m)], ignore_index=True)\n",
    "# Assign back columns and indices to make human understandable\n",
    "df_forecast_1m.columns = df.columns\n",
    "df_forecast_1m.index = df_pct[(in_seq_length - 1) : len(df_forecast_1m) + (in_seq_length - 1)].index\n",
    "#\n",
    "df_forecast_1m = df_forecast_1m.tail(variables.TEST_YEARS_NR * 12) \n",
    "#\n",
    "df_forecast_1m.tail(3)"
   ],
   "id": "1b9c596330067ac4",
   "outputs": [
    {
     "data": {
      "text/plain": [
       "               RS1.L        KE   TEG.DE    LEG.DE       SCS       HNI  \\\n",
       "Date                                                                    \n",
       "2019-07-01 -0.020000 -0.020000  0.05000  0.060000  0.000000 -0.030000   \n",
       "2019-08-01 -0.050000 -0.170000 -0.01000  0.020000 -0.080000 -0.090000   \n",
       "2019-09-01  0.039306 -0.003277  0.01216 -0.007937  0.000626  0.005867   \n",
       "\n",
       "                AVT     ACCO    VNA.DE    7912.T  ...   DEQ.DE     KIDS  \\\n",
       "Date                                              ...                     \n",
       "2019-07-01  0.01000  0.24000  0.050000  0.000000  ...  0.07000 -0.09000   \n",
       "2019-08-01 -0.08000 -0.05000  0.020000  0.000000  ... -0.04000 -0.09000   \n",
       "2019-09-01  0.00707  0.01091  0.011936 -0.001916  ... -0.00324 -0.00076   \n",
       "\n",
       "                HALO      MATW    9842.T      KVHI   MOON.L       NEO  \\\n",
       "Date                                                                    \n",
       "2019-07-01 -0.010000 -0.020000  0.000000 -0.070000  0.00000  0.110000   \n",
       "2019-08-01 -0.030000 -0.140000 -0.090000 -0.080000 -0.01000  0.030000   \n",
       "2019-09-01  0.008712  0.015328  0.016228 -0.006808  0.01261 -0.006512   \n",
       "\n",
       "              6055.T       UNP  \n",
       "Date                            \n",
       "2019-07-01 -0.070000  0.060000  \n",
       "2019-08-01 -0.240000 -0.100000  \n",
       "2019-09-01  0.009245  0.015005  \n",
       "\n",
       "[3 rows x 1653 columns]"
      ],
      "text/html": [
       "<div>\n",
       "<style scoped>\n",
       "    .dataframe tbody tr th:only-of-type {\n",
       "        vertical-align: middle;\n",
       "    }\n",
       "\n",
       "    .dataframe tbody tr th {\n",
       "        vertical-align: top;\n",
       "    }\n",
       "\n",
       "    .dataframe thead th {\n",
       "        text-align: right;\n",
       "    }\n",
       "</style>\n",
       "<table border=\"1\" class=\"dataframe\">\n",
       "  <thead>\n",
       "    <tr style=\"text-align: right;\">\n",
       "      <th></th>\n",
       "      <th>RS1.L</th>\n",
       "      <th>KE</th>\n",
       "      <th>TEG.DE</th>\n",
       "      <th>LEG.DE</th>\n",
       "      <th>SCS</th>\n",
       "      <th>HNI</th>\n",
       "      <th>AVT</th>\n",
       "      <th>ACCO</th>\n",
       "      <th>VNA.DE</th>\n",
       "      <th>7912.T</th>\n",
       "      <th>...</th>\n",
       "      <th>DEQ.DE</th>\n",
       "      <th>KIDS</th>\n",
       "      <th>HALO</th>\n",
       "      <th>MATW</th>\n",
       "      <th>9842.T</th>\n",
       "      <th>KVHI</th>\n",
       "      <th>MOON.L</th>\n",
       "      <th>NEO</th>\n",
       "      <th>6055.T</th>\n",
       "      <th>UNP</th>\n",
       "    </tr>\n",
       "    <tr>\n",
       "      <th>Date</th>\n",
       "      <th></th>\n",
       "      <th></th>\n",
       "      <th></th>\n",
       "      <th></th>\n",
       "      <th></th>\n",
       "      <th></th>\n",
       "      <th></th>\n",
       "      <th></th>\n",
       "      <th></th>\n",
       "      <th></th>\n",
       "      <th></th>\n",
       "      <th></th>\n",
       "      <th></th>\n",
       "      <th></th>\n",
       "      <th></th>\n",
       "      <th></th>\n",
       "      <th></th>\n",
       "      <th></th>\n",
       "      <th></th>\n",
       "      <th></th>\n",
       "      <th></th>\n",
       "    </tr>\n",
       "  </thead>\n",
       "  <tbody>\n",
       "    <tr>\n",
       "      <th>2019-07-01</th>\n",
       "      <td>-0.020000</td>\n",
       "      <td>-0.020000</td>\n",
       "      <td>0.05000</td>\n",
       "      <td>0.060000</td>\n",
       "      <td>0.000000</td>\n",
       "      <td>-0.030000</td>\n",
       "      <td>0.01000</td>\n",
       "      <td>0.24000</td>\n",
       "      <td>0.050000</td>\n",
       "      <td>0.000000</td>\n",
       "      <td>...</td>\n",
       "      <td>0.07000</td>\n",
       "      <td>-0.09000</td>\n",
       "      <td>-0.010000</td>\n",
       "      <td>-0.020000</td>\n",
       "      <td>0.000000</td>\n",
       "      <td>-0.070000</td>\n",
       "      <td>0.00000</td>\n",
       "      <td>0.110000</td>\n",
       "      <td>-0.070000</td>\n",
       "      <td>0.060000</td>\n",
       "    </tr>\n",
       "    <tr>\n",
       "      <th>2019-08-01</th>\n",
       "      <td>-0.050000</td>\n",
       "      <td>-0.170000</td>\n",
       "      <td>-0.01000</td>\n",
       "      <td>0.020000</td>\n",
       "      <td>-0.080000</td>\n",
       "      <td>-0.090000</td>\n",
       "      <td>-0.08000</td>\n",
       "      <td>-0.05000</td>\n",
       "      <td>0.020000</td>\n",
       "      <td>0.000000</td>\n",
       "      <td>...</td>\n",
       "      <td>-0.04000</td>\n",
       "      <td>-0.09000</td>\n",
       "      <td>-0.030000</td>\n",
       "      <td>-0.140000</td>\n",
       "      <td>-0.090000</td>\n",
       "      <td>-0.080000</td>\n",
       "      <td>-0.01000</td>\n",
       "      <td>0.030000</td>\n",
       "      <td>-0.240000</td>\n",
       "      <td>-0.100000</td>\n",
       "    </tr>\n",
       "    <tr>\n",
       "      <th>2019-09-01</th>\n",
       "      <td>0.039306</td>\n",
       "      <td>-0.003277</td>\n",
       "      <td>0.01216</td>\n",
       "      <td>-0.007937</td>\n",
       "      <td>0.000626</td>\n",
       "      <td>0.005867</td>\n",
       "      <td>0.00707</td>\n",
       "      <td>0.01091</td>\n",
       "      <td>0.011936</td>\n",
       "      <td>-0.001916</td>\n",
       "      <td>...</td>\n",
       "      <td>-0.00324</td>\n",
       "      <td>-0.00076</td>\n",
       "      <td>0.008712</td>\n",
       "      <td>0.015328</td>\n",
       "      <td>0.016228</td>\n",
       "      <td>-0.006808</td>\n",
       "      <td>0.01261</td>\n",
       "      <td>-0.006512</td>\n",
       "      <td>0.009245</td>\n",
       "      <td>0.015005</td>\n",
       "    </tr>\n",
       "  </tbody>\n",
       "</table>\n",
       "<p>3 rows × 1653 columns</p>\n",
       "</div>"
      ]
     },
     "execution_count": 98,
     "metadata": {},
     "output_type": "execute_result"
    }
   ],
   "execution_count": 98
  },
  {
   "metadata": {
    "ExecuteTime": {
     "end_time": "2025-06-09T10:26:51.545039Z",
     "start_time": "2025-06-09T09:26:02.960164Z"
    }
   },
   "cell_type": "code",
   "source": [
    "importlib.reload(lstm_utils)\n",
    "importlib.reload(mpt_utils)\n",
    "\n",
    "weights_1m, mu_1m, S_1m, allocations_1m = mpt_utils.portfolio_and_plot(df_forecast_1m, df)"
   ],
   "id": "27ab10ee985db539",
   "outputs": [
    {
     "name": "stdout",
     "output_type": "stream",
     "text": [
      "Expected annual return: 33.0%\n",
      "Annual volatility: 21.5%\n",
      "Sharpe Ratio: 1.44\n",
      "-- Allocation --\n",
      "{'7575.T': 1, 'SRT3.DE': 1, 'SLP': 1, '4816.T': 5, 'TPE.DE': 2, 'MKTX': 1, 'CENT': 2, '2685.T': 4, 'ADUS': 1, 'TAL': 1, 'NSSC': 1, 'BURL': 1, 'PLUS.L': 1, 'AOF.DE': 1, 'PAR': 1, 'NSP': 1, 'ELS': 1, '9697.T': 6, '2471.T': 1, 'FLGT': 4, '7947.T': 1, '7458.T': 2, 'BVB.DE': 3, '2733.T': 2, '4549.T': 3, 'MPX': 2, '7508.T': 2, '3659.T': 1, 'EBF': 1, '7832.T': 1, '7780.T': 1, 'FRPH': 1, '4218.T': 1, 'ITI': 2, '2874.T': 4, 'APLD': 7, '9470.T': 1, '9143.T': 3, '2170.T': 2, '3050.T': 2, '2331.T': 1, '7944.T': 15, '9831.T': 2, 'O5G.DE': 9, '2124.T': 1}\n",
      "-- Weights Percentage --\n",
      "{'NSP': 0.0296, 'MKTX': 0.0423, 'ELS': 0.0247, 'CENT': 0.0412, '7947.T': 0.0201, 'NSSC': 0.035, 'BURL': 0.0345, 'TPE.DE': 0.0426, 'SRT3.DE': 0.0456, 'PAR': 0.0326, 'AOF.DE': 0.0331, 'SLP': 0.0434, '4816.T': 0.0431, '7575.T': 0.0548, 'TAL': 0.0396, 'FLGT': 0.022, 'ADUS': 0.0404, '2685.T': 0.0407, 'PLUS.L': 0.0342, '9697.T': 0.0244, '2471.T': 0.0241, 'Other(24)': 0.252}\n"
     ]
    },
    {
     "name": "stderr",
     "output_type": "stream",
     "text": [
      "/Users/herbishtini/anaconda3/envs/portfolio_optimisation/lib/python3.11/site-packages/pypfopt/discrete_allocation.py:27: FutureWarning:\n",
      "\n",
      "Downcasting object dtype arrays on .fillna, .ffill, .bfill is deprecated and will change in a future version. Call result.infer_objects(copy=False) instead. To opt-in to the future behavior, set `pd.set_option('future.no_silent_downcasting', True)`\n",
      "\n"
     ]
    },
    {
     "data": {
      "application/vnd.plotly.v1+json": {
       "data": [
        {
         "hole": 0.3,
         "insidetextorientation": "radial",
         "labels": [
          "NSP",
          "MKTX",
          "ELS",
          "CENT",
          "7947.T",
          "NSSC",
          "BURL",
          "TPE.DE",
          "SRT3.DE",
          "PAR",
          "AOF.DE",
          "SLP",
          "4816.T",
          "7575.T",
          "TAL",
          "FLGT",
          "ADUS",
          "2685.T",
          "PLUS.L",
          "9697.T",
          "2471.T",
          "Other(24)"
         ],
         "textinfo": "label+percent",
         "textposition": "inside",
         "values": [
          0.0109,
          0.0156,
          0.0091,
          0.0152,
          0.0074,
          0.0129,
          0.0127,
          0.0157,
          0.0168,
          0.012,
          0.0122,
          0.016,
          0.0159,
          0.0202,
          0.0146,
          0.0081,
          0.0149,
          0.015,
          0.0126,
          0.009,
          0.0089,
          0.0929
         ],
         "type": "pie"
        }
       ],
       "layout": {
        "template": {
         "data": {
          "histogram2dcontour": [
           {
            "type": "histogram2dcontour",
            "colorbar": {
             "outlinewidth": 0,
             "ticks": ""
            },
            "colorscale": [
             [
              0.0,
              "#0d0887"
             ],
             [
              0.1111111111111111,
              "#46039f"
             ],
             [
              0.2222222222222222,
              "#7201a8"
             ],
             [
              0.3333333333333333,
              "#9c179e"
             ],
             [
              0.4444444444444444,
              "#bd3786"
             ],
             [
              0.5555555555555556,
              "#d8576b"
             ],
             [
              0.6666666666666666,
              "#ed7953"
             ],
             [
              0.7777777777777778,
              "#fb9f3a"
             ],
             [
              0.8888888888888888,
              "#fdca26"
             ],
             [
              1.0,
              "#f0f921"
             ]
            ]
           }
          ],
          "choropleth": [
           {
            "type": "choropleth",
            "colorbar": {
             "outlinewidth": 0,
             "ticks": ""
            }
           }
          ],
          "histogram2d": [
           {
            "type": "histogram2d",
            "colorbar": {
             "outlinewidth": 0,
             "ticks": ""
            },
            "colorscale": [
             [
              0.0,
              "#0d0887"
             ],
             [
              0.1111111111111111,
              "#46039f"
             ],
             [
              0.2222222222222222,
              "#7201a8"
             ],
             [
              0.3333333333333333,
              "#9c179e"
             ],
             [
              0.4444444444444444,
              "#bd3786"
             ],
             [
              0.5555555555555556,
              "#d8576b"
             ],
             [
              0.6666666666666666,
              "#ed7953"
             ],
             [
              0.7777777777777778,
              "#fb9f3a"
             ],
             [
              0.8888888888888888,
              "#fdca26"
             ],
             [
              1.0,
              "#f0f921"
             ]
            ]
           }
          ],
          "heatmap": [
           {
            "type": "heatmap",
            "colorbar": {
             "outlinewidth": 0,
             "ticks": ""
            },
            "colorscale": [
             [
              0.0,
              "#0d0887"
             ],
             [
              0.1111111111111111,
              "#46039f"
             ],
             [
              0.2222222222222222,
              "#7201a8"
             ],
             [
              0.3333333333333333,
              "#9c179e"
             ],
             [
              0.4444444444444444,
              "#bd3786"
             ],
             [
              0.5555555555555556,
              "#d8576b"
             ],
             [
              0.6666666666666666,
              "#ed7953"
             ],
             [
              0.7777777777777778,
              "#fb9f3a"
             ],
             [
              0.8888888888888888,
              "#fdca26"
             ],
             [
              1.0,
              "#f0f921"
             ]
            ]
           }
          ],
          "heatmapgl": [
           {
            "type": "heatmapgl",
            "colorbar": {
             "outlinewidth": 0,
             "ticks": ""
            },
            "colorscale": [
             [
              0.0,
              "#0d0887"
             ],
             [
              0.1111111111111111,
              "#46039f"
             ],
             [
              0.2222222222222222,
              "#7201a8"
             ],
             [
              0.3333333333333333,
              "#9c179e"
             ],
             [
              0.4444444444444444,
              "#bd3786"
             ],
             [
              0.5555555555555556,
              "#d8576b"
             ],
             [
              0.6666666666666666,
              "#ed7953"
             ],
             [
              0.7777777777777778,
              "#fb9f3a"
             ],
             [
              0.8888888888888888,
              "#fdca26"
             ],
             [
              1.0,
              "#f0f921"
             ]
            ]
           }
          ],
          "contourcarpet": [
           {
            "type": "contourcarpet",
            "colorbar": {
             "outlinewidth": 0,
             "ticks": ""
            }
           }
          ],
          "contour": [
           {
            "type": "contour",
            "colorbar": {
             "outlinewidth": 0,
             "ticks": ""
            },
            "colorscale": [
             [
              0.0,
              "#0d0887"
             ],
             [
              0.1111111111111111,
              "#46039f"
             ],
             [
              0.2222222222222222,
              "#7201a8"
             ],
             [
              0.3333333333333333,
              "#9c179e"
             ],
             [
              0.4444444444444444,
              "#bd3786"
             ],
             [
              0.5555555555555556,
              "#d8576b"
             ],
             [
              0.6666666666666666,
              "#ed7953"
             ],
             [
              0.7777777777777778,
              "#fb9f3a"
             ],
             [
              0.8888888888888888,
              "#fdca26"
             ],
             [
              1.0,
              "#f0f921"
             ]
            ]
           }
          ],
          "surface": [
           {
            "type": "surface",
            "colorbar": {
             "outlinewidth": 0,
             "ticks": ""
            },
            "colorscale": [
             [
              0.0,
              "#0d0887"
             ],
             [
              0.1111111111111111,
              "#46039f"
             ],
             [
              0.2222222222222222,
              "#7201a8"
             ],
             [
              0.3333333333333333,
              "#9c179e"
             ],
             [
              0.4444444444444444,
              "#bd3786"
             ],
             [
              0.5555555555555556,
              "#d8576b"
             ],
             [
              0.6666666666666666,
              "#ed7953"
             ],
             [
              0.7777777777777778,
              "#fb9f3a"
             ],
             [
              0.8888888888888888,
              "#fdca26"
             ],
             [
              1.0,
              "#f0f921"
             ]
            ]
           }
          ],
          "mesh3d": [
           {
            "type": "mesh3d",
            "colorbar": {
             "outlinewidth": 0,
             "ticks": ""
            }
           }
          ],
          "scatter": [
           {
            "fillpattern": {
             "fillmode": "overlay",
             "size": 10,
             "solidity": 0.2
            },
            "type": "scatter"
           }
          ],
          "parcoords": [
           {
            "type": "parcoords",
            "line": {
             "colorbar": {
              "outlinewidth": 0,
              "ticks": ""
             }
            }
           }
          ],
          "scatterpolargl": [
           {
            "type": "scatterpolargl",
            "marker": {
             "colorbar": {
              "outlinewidth": 0,
              "ticks": ""
             }
            }
           }
          ],
          "bar": [
           {
            "error_x": {
             "color": "#2a3f5f"
            },
            "error_y": {
             "color": "#2a3f5f"
            },
            "marker": {
             "line": {
              "color": "#E5ECF6",
              "width": 0.5
             },
             "pattern": {
              "fillmode": "overlay",
              "size": 10,
              "solidity": 0.2
             }
            },
            "type": "bar"
           }
          ],
          "scattergeo": [
           {
            "type": "scattergeo",
            "marker": {
             "colorbar": {
              "outlinewidth": 0,
              "ticks": ""
             }
            }
           }
          ],
          "scatterpolar": [
           {
            "type": "scatterpolar",
            "marker": {
             "colorbar": {
              "outlinewidth": 0,
              "ticks": ""
             }
            }
           }
          ],
          "histogram": [
           {
            "marker": {
             "pattern": {
              "fillmode": "overlay",
              "size": 10,
              "solidity": 0.2
             }
            },
            "type": "histogram"
           }
          ],
          "scattergl": [
           {
            "type": "scattergl",
            "marker": {
             "colorbar": {
              "outlinewidth": 0,
              "ticks": ""
             }
            }
           }
          ],
          "scatter3d": [
           {
            "type": "scatter3d",
            "line": {
             "colorbar": {
              "outlinewidth": 0,
              "ticks": ""
             }
            },
            "marker": {
             "colorbar": {
              "outlinewidth": 0,
              "ticks": ""
             }
            }
           }
          ],
          "scattermapbox": [
           {
            "type": "scattermapbox",
            "marker": {
             "colorbar": {
              "outlinewidth": 0,
              "ticks": ""
             }
            }
           }
          ],
          "scatterternary": [
           {
            "type": "scatterternary",
            "marker": {
             "colorbar": {
              "outlinewidth": 0,
              "ticks": ""
             }
            }
           }
          ],
          "scattercarpet": [
           {
            "type": "scattercarpet",
            "marker": {
             "colorbar": {
              "outlinewidth": 0,
              "ticks": ""
             }
            }
           }
          ],
          "carpet": [
           {
            "aaxis": {
             "endlinecolor": "#2a3f5f",
             "gridcolor": "white",
             "linecolor": "white",
             "minorgridcolor": "white",
             "startlinecolor": "#2a3f5f"
            },
            "baxis": {
             "endlinecolor": "#2a3f5f",
             "gridcolor": "white",
             "linecolor": "white",
             "minorgridcolor": "white",
             "startlinecolor": "#2a3f5f"
            },
            "type": "carpet"
           }
          ],
          "table": [
           {
            "cells": {
             "fill": {
              "color": "#EBF0F8"
             },
             "line": {
              "color": "white"
             }
            },
            "header": {
             "fill": {
              "color": "#C8D4E3"
             },
             "line": {
              "color": "white"
             }
            },
            "type": "table"
           }
          ],
          "barpolar": [
           {
            "marker": {
             "line": {
              "color": "#E5ECF6",
              "width": 0.5
             },
             "pattern": {
              "fillmode": "overlay",
              "size": 10,
              "solidity": 0.2
             }
            },
            "type": "barpolar"
           }
          ],
          "pie": [
           {
            "automargin": true,
            "type": "pie"
           }
          ]
         },
         "layout": {
          "autotypenumbers": "strict",
          "colorway": [
           "#636efa",
           "#EF553B",
           "#00cc96",
           "#ab63fa",
           "#FFA15A",
           "#19d3f3",
           "#FF6692",
           "#B6E880",
           "#FF97FF",
           "#FECB52"
          ],
          "font": {
           "color": "#2a3f5f"
          },
          "hovermode": "closest",
          "hoverlabel": {
           "align": "left"
          },
          "paper_bgcolor": "white",
          "plot_bgcolor": "#E5ECF6",
          "polar": {
           "bgcolor": "#E5ECF6",
           "angularaxis": {
            "gridcolor": "white",
            "linecolor": "white",
            "ticks": ""
           },
           "radialaxis": {
            "gridcolor": "white",
            "linecolor": "white",
            "ticks": ""
           }
          },
          "ternary": {
           "bgcolor": "#E5ECF6",
           "aaxis": {
            "gridcolor": "white",
            "linecolor": "white",
            "ticks": ""
           },
           "baxis": {
            "gridcolor": "white",
            "linecolor": "white",
            "ticks": ""
           },
           "caxis": {
            "gridcolor": "white",
            "linecolor": "white",
            "ticks": ""
           }
          },
          "coloraxis": {
           "colorbar": {
            "outlinewidth": 0,
            "ticks": ""
           }
          },
          "colorscale": {
           "sequential": [
            [
             0.0,
             "#0d0887"
            ],
            [
             0.1111111111111111,
             "#46039f"
            ],
            [
             0.2222222222222222,
             "#7201a8"
            ],
            [
             0.3333333333333333,
             "#9c179e"
            ],
            [
             0.4444444444444444,
             "#bd3786"
            ],
            [
             0.5555555555555556,
             "#d8576b"
            ],
            [
             0.6666666666666666,
             "#ed7953"
            ],
            [
             0.7777777777777778,
             "#fb9f3a"
            ],
            [
             0.8888888888888888,
             "#fdca26"
            ],
            [
             1.0,
             "#f0f921"
            ]
           ],
           "sequentialminus": [
            [
             0.0,
             "#0d0887"
            ],
            [
             0.1111111111111111,
             "#46039f"
            ],
            [
             0.2222222222222222,
             "#7201a8"
            ],
            [
             0.3333333333333333,
             "#9c179e"
            ],
            [
             0.4444444444444444,
             "#bd3786"
            ],
            [
             0.5555555555555556,
             "#d8576b"
            ],
            [
             0.6666666666666666,
             "#ed7953"
            ],
            [
             0.7777777777777778,
             "#fb9f3a"
            ],
            [
             0.8888888888888888,
             "#fdca26"
            ],
            [
             1.0,
             "#f0f921"
            ]
           ],
           "diverging": [
            [
             0,
             "#8e0152"
            ],
            [
             0.1,
             "#c51b7d"
            ],
            [
             0.2,
             "#de77ae"
            ],
            [
             0.3,
             "#f1b6da"
            ],
            [
             0.4,
             "#fde0ef"
            ],
            [
             0.5,
             "#f7f7f7"
            ],
            [
             0.6,
             "#e6f5d0"
            ],
            [
             0.7,
             "#b8e186"
            ],
            [
             0.8,
             "#7fbc41"
            ],
            [
             0.9,
             "#4d9221"
            ],
            [
             1,
             "#276419"
            ]
           ]
          },
          "xaxis": {
           "gridcolor": "white",
           "linecolor": "white",
           "ticks": "",
           "title": {
            "standoff": 15
           },
           "zerolinecolor": "white",
           "automargin": true,
           "zerolinewidth": 2
          },
          "yaxis": {
           "gridcolor": "white",
           "linecolor": "white",
           "ticks": "",
           "title": {
            "standoff": 15
           },
           "zerolinecolor": "white",
           "automargin": true,
           "zerolinewidth": 2
          },
          "scene": {
           "xaxis": {
            "backgroundcolor": "#E5ECF6",
            "gridcolor": "white",
            "linecolor": "white",
            "showbackground": true,
            "ticks": "",
            "zerolinecolor": "white",
            "gridwidth": 2
           },
           "yaxis": {
            "backgroundcolor": "#E5ECF6",
            "gridcolor": "white",
            "linecolor": "white",
            "showbackground": true,
            "ticks": "",
            "zerolinecolor": "white",
            "gridwidth": 2
           },
           "zaxis": {
            "backgroundcolor": "#E5ECF6",
            "gridcolor": "white",
            "linecolor": "white",
            "showbackground": true,
            "ticks": "",
            "zerolinecolor": "white",
            "gridwidth": 2
           }
          },
          "shapedefaults": {
           "line": {
            "color": "#2a3f5f"
           }
          },
          "annotationdefaults": {
           "arrowcolor": "#2a3f5f",
           "arrowhead": 0,
           "arrowwidth": 1
          },
          "geo": {
           "bgcolor": "white",
           "landcolor": "#E5ECF6",
           "subunitcolor": "white",
           "showland": true,
           "showlakes": true,
           "lakecolor": "white"
          },
          "title": {
           "x": 0.05
          },
          "mapbox": {
           "style": "light"
          }
         }
        },
        "margin": {
         "l": 20,
         "r": 20,
         "t": 20,
         "b": 20
        },
        "font": {
         "color": "black"
        },
        "height": 600,
        "width": 600,
        "paper_bgcolor": "white",
        "plot_bgcolor": "white",
        "showlegend": false
       },
       "config": {
        "plotlyServerURL": "https://plot.ly"
       }
      },
      "text/html": [
       "<div>                            <div id=\"1ee36824-244d-40dc-bb20-be3d491e5e68\" class=\"plotly-graph-div\" style=\"height:600px; width:600px;\"></div>            <script type=\"text/javascript\">                require([\"plotly\"], function(Plotly) {                    window.PLOTLYENV=window.PLOTLYENV || {};                                    if (document.getElementById(\"1ee36824-244d-40dc-bb20-be3d491e5e68\")) {                    Plotly.newPlot(                        \"1ee36824-244d-40dc-bb20-be3d491e5e68\",                        [{\"hole\":0.3,\"insidetextorientation\":\"radial\",\"labels\":[\"NSP\",\"MKTX\",\"ELS\",\"CENT\",\"7947.T\",\"NSSC\",\"BURL\",\"TPE.DE\",\"SRT3.DE\",\"PAR\",\"AOF.DE\",\"SLP\",\"4816.T\",\"7575.T\",\"TAL\",\"FLGT\",\"ADUS\",\"2685.T\",\"PLUS.L\",\"9697.T\",\"2471.T\",\"Other(24)\"],\"textinfo\":\"label+percent\",\"textposition\":\"inside\",\"values\":[0.0109,0.0156,0.0091,0.0152,0.0074,0.0129,0.0127,0.0157,0.0168,0.012,0.0122,0.016,0.0159,0.0202,0.0146,0.0081,0.0149,0.015,0.0126,0.009,0.0089,0.0929],\"type\":\"pie\"}],                        {\"template\":{\"data\":{\"histogram2dcontour\":[{\"type\":\"histogram2dcontour\",\"colorbar\":{\"outlinewidth\":0,\"ticks\":\"\"},\"colorscale\":[[0.0,\"#0d0887\"],[0.1111111111111111,\"#46039f\"],[0.2222222222222222,\"#7201a8\"],[0.3333333333333333,\"#9c179e\"],[0.4444444444444444,\"#bd3786\"],[0.5555555555555556,\"#d8576b\"],[0.6666666666666666,\"#ed7953\"],[0.7777777777777778,\"#fb9f3a\"],[0.8888888888888888,\"#fdca26\"],[1.0,\"#f0f921\"]]}],\"choropleth\":[{\"type\":\"choropleth\",\"colorbar\":{\"outlinewidth\":0,\"ticks\":\"\"}}],\"histogram2d\":[{\"type\":\"histogram2d\",\"colorbar\":{\"outlinewidth\":0,\"ticks\":\"\"},\"colorscale\":[[0.0,\"#0d0887\"],[0.1111111111111111,\"#46039f\"],[0.2222222222222222,\"#7201a8\"],[0.3333333333333333,\"#9c179e\"],[0.4444444444444444,\"#bd3786\"],[0.5555555555555556,\"#d8576b\"],[0.6666666666666666,\"#ed7953\"],[0.7777777777777778,\"#fb9f3a\"],[0.8888888888888888,\"#fdca26\"],[1.0,\"#f0f921\"]]}],\"heatmap\":[{\"type\":\"heatmap\",\"colorbar\":{\"outlinewidth\":0,\"ticks\":\"\"},\"colorscale\":[[0.0,\"#0d0887\"],[0.1111111111111111,\"#46039f\"],[0.2222222222222222,\"#7201a8\"],[0.3333333333333333,\"#9c179e\"],[0.4444444444444444,\"#bd3786\"],[0.5555555555555556,\"#d8576b\"],[0.6666666666666666,\"#ed7953\"],[0.7777777777777778,\"#fb9f3a\"],[0.8888888888888888,\"#fdca26\"],[1.0,\"#f0f921\"]]}],\"heatmapgl\":[{\"type\":\"heatmapgl\",\"colorbar\":{\"outlinewidth\":0,\"ticks\":\"\"},\"colorscale\":[[0.0,\"#0d0887\"],[0.1111111111111111,\"#46039f\"],[0.2222222222222222,\"#7201a8\"],[0.3333333333333333,\"#9c179e\"],[0.4444444444444444,\"#bd3786\"],[0.5555555555555556,\"#d8576b\"],[0.6666666666666666,\"#ed7953\"],[0.7777777777777778,\"#fb9f3a\"],[0.8888888888888888,\"#fdca26\"],[1.0,\"#f0f921\"]]}],\"contourcarpet\":[{\"type\":\"contourcarpet\",\"colorbar\":{\"outlinewidth\":0,\"ticks\":\"\"}}],\"contour\":[{\"type\":\"contour\",\"colorbar\":{\"outlinewidth\":0,\"ticks\":\"\"},\"colorscale\":[[0.0,\"#0d0887\"],[0.1111111111111111,\"#46039f\"],[0.2222222222222222,\"#7201a8\"],[0.3333333333333333,\"#9c179e\"],[0.4444444444444444,\"#bd3786\"],[0.5555555555555556,\"#d8576b\"],[0.6666666666666666,\"#ed7953\"],[0.7777777777777778,\"#fb9f3a\"],[0.8888888888888888,\"#fdca26\"],[1.0,\"#f0f921\"]]}],\"surface\":[{\"type\":\"surface\",\"colorbar\":{\"outlinewidth\":0,\"ticks\":\"\"},\"colorscale\":[[0.0,\"#0d0887\"],[0.1111111111111111,\"#46039f\"],[0.2222222222222222,\"#7201a8\"],[0.3333333333333333,\"#9c179e\"],[0.4444444444444444,\"#bd3786\"],[0.5555555555555556,\"#d8576b\"],[0.6666666666666666,\"#ed7953\"],[0.7777777777777778,\"#fb9f3a\"],[0.8888888888888888,\"#fdca26\"],[1.0,\"#f0f921\"]]}],\"mesh3d\":[{\"type\":\"mesh3d\",\"colorbar\":{\"outlinewidth\":0,\"ticks\":\"\"}}],\"scatter\":[{\"fillpattern\":{\"fillmode\":\"overlay\",\"size\":10,\"solidity\":0.2},\"type\":\"scatter\"}],\"parcoords\":[{\"type\":\"parcoords\",\"line\":{\"colorbar\":{\"outlinewidth\":0,\"ticks\":\"\"}}}],\"scatterpolargl\":[{\"type\":\"scatterpolargl\",\"marker\":{\"colorbar\":{\"outlinewidth\":0,\"ticks\":\"\"}}}],\"bar\":[{\"error_x\":{\"color\":\"#2a3f5f\"},\"error_y\":{\"color\":\"#2a3f5f\"},\"marker\":{\"line\":{\"color\":\"#E5ECF6\",\"width\":0.5},\"pattern\":{\"fillmode\":\"overlay\",\"size\":10,\"solidity\":0.2}},\"type\":\"bar\"}],\"scattergeo\":[{\"type\":\"scattergeo\",\"marker\":{\"colorbar\":{\"outlinewidth\":0,\"ticks\":\"\"}}}],\"scatterpolar\":[{\"type\":\"scatterpolar\",\"marker\":{\"colorbar\":{\"outlinewidth\":0,\"ticks\":\"\"}}}],\"histogram\":[{\"marker\":{\"pattern\":{\"fillmode\":\"overlay\",\"size\":10,\"solidity\":0.2}},\"type\":\"histogram\"}],\"scattergl\":[{\"type\":\"scattergl\",\"marker\":{\"colorbar\":{\"outlinewidth\":0,\"ticks\":\"\"}}}],\"scatter3d\":[{\"type\":\"scatter3d\",\"line\":{\"colorbar\":{\"outlinewidth\":0,\"ticks\":\"\"}},\"marker\":{\"colorbar\":{\"outlinewidth\":0,\"ticks\":\"\"}}}],\"scattermapbox\":[{\"type\":\"scattermapbox\",\"marker\":{\"colorbar\":{\"outlinewidth\":0,\"ticks\":\"\"}}}],\"scatterternary\":[{\"type\":\"scatterternary\",\"marker\":{\"colorbar\":{\"outlinewidth\":0,\"ticks\":\"\"}}}],\"scattercarpet\":[{\"type\":\"scattercarpet\",\"marker\":{\"colorbar\":{\"outlinewidth\":0,\"ticks\":\"\"}}}],\"carpet\":[{\"aaxis\":{\"endlinecolor\":\"#2a3f5f\",\"gridcolor\":\"white\",\"linecolor\":\"white\",\"minorgridcolor\":\"white\",\"startlinecolor\":\"#2a3f5f\"},\"baxis\":{\"endlinecolor\":\"#2a3f5f\",\"gridcolor\":\"white\",\"linecolor\":\"white\",\"minorgridcolor\":\"white\",\"startlinecolor\":\"#2a3f5f\"},\"type\":\"carpet\"}],\"table\":[{\"cells\":{\"fill\":{\"color\":\"#EBF0F8\"},\"line\":{\"color\":\"white\"}},\"header\":{\"fill\":{\"color\":\"#C8D4E3\"},\"line\":{\"color\":\"white\"}},\"type\":\"table\"}],\"barpolar\":[{\"marker\":{\"line\":{\"color\":\"#E5ECF6\",\"width\":0.5},\"pattern\":{\"fillmode\":\"overlay\",\"size\":10,\"solidity\":0.2}},\"type\":\"barpolar\"}],\"pie\":[{\"automargin\":true,\"type\":\"pie\"}]},\"layout\":{\"autotypenumbers\":\"strict\",\"colorway\":[\"#636efa\",\"#EF553B\",\"#00cc96\",\"#ab63fa\",\"#FFA15A\",\"#19d3f3\",\"#FF6692\",\"#B6E880\",\"#FF97FF\",\"#FECB52\"],\"font\":{\"color\":\"#2a3f5f\"},\"hovermode\":\"closest\",\"hoverlabel\":{\"align\":\"left\"},\"paper_bgcolor\":\"white\",\"plot_bgcolor\":\"#E5ECF6\",\"polar\":{\"bgcolor\":\"#E5ECF6\",\"angularaxis\":{\"gridcolor\":\"white\",\"linecolor\":\"white\",\"ticks\":\"\"},\"radialaxis\":{\"gridcolor\":\"white\",\"linecolor\":\"white\",\"ticks\":\"\"}},\"ternary\":{\"bgcolor\":\"#E5ECF6\",\"aaxis\":{\"gridcolor\":\"white\",\"linecolor\":\"white\",\"ticks\":\"\"},\"baxis\":{\"gridcolor\":\"white\",\"linecolor\":\"white\",\"ticks\":\"\"},\"caxis\":{\"gridcolor\":\"white\",\"linecolor\":\"white\",\"ticks\":\"\"}},\"coloraxis\":{\"colorbar\":{\"outlinewidth\":0,\"ticks\":\"\"}},\"colorscale\":{\"sequential\":[[0.0,\"#0d0887\"],[0.1111111111111111,\"#46039f\"],[0.2222222222222222,\"#7201a8\"],[0.3333333333333333,\"#9c179e\"],[0.4444444444444444,\"#bd3786\"],[0.5555555555555556,\"#d8576b\"],[0.6666666666666666,\"#ed7953\"],[0.7777777777777778,\"#fb9f3a\"],[0.8888888888888888,\"#fdca26\"],[1.0,\"#f0f921\"]],\"sequentialminus\":[[0.0,\"#0d0887\"],[0.1111111111111111,\"#46039f\"],[0.2222222222222222,\"#7201a8\"],[0.3333333333333333,\"#9c179e\"],[0.4444444444444444,\"#bd3786\"],[0.5555555555555556,\"#d8576b\"],[0.6666666666666666,\"#ed7953\"],[0.7777777777777778,\"#fb9f3a\"],[0.8888888888888888,\"#fdca26\"],[1.0,\"#f0f921\"]],\"diverging\":[[0,\"#8e0152\"],[0.1,\"#c51b7d\"],[0.2,\"#de77ae\"],[0.3,\"#f1b6da\"],[0.4,\"#fde0ef\"],[0.5,\"#f7f7f7\"],[0.6,\"#e6f5d0\"],[0.7,\"#b8e186\"],[0.8,\"#7fbc41\"],[0.9,\"#4d9221\"],[1,\"#276419\"]]},\"xaxis\":{\"gridcolor\":\"white\",\"linecolor\":\"white\",\"ticks\":\"\",\"title\":{\"standoff\":15},\"zerolinecolor\":\"white\",\"automargin\":true,\"zerolinewidth\":2},\"yaxis\":{\"gridcolor\":\"white\",\"linecolor\":\"white\",\"ticks\":\"\",\"title\":{\"standoff\":15},\"zerolinecolor\":\"white\",\"automargin\":true,\"zerolinewidth\":2},\"scene\":{\"xaxis\":{\"backgroundcolor\":\"#E5ECF6\",\"gridcolor\":\"white\",\"linecolor\":\"white\",\"showbackground\":true,\"ticks\":\"\",\"zerolinecolor\":\"white\",\"gridwidth\":2},\"yaxis\":{\"backgroundcolor\":\"#E5ECF6\",\"gridcolor\":\"white\",\"linecolor\":\"white\",\"showbackground\":true,\"ticks\":\"\",\"zerolinecolor\":\"white\",\"gridwidth\":2},\"zaxis\":{\"backgroundcolor\":\"#E5ECF6\",\"gridcolor\":\"white\",\"linecolor\":\"white\",\"showbackground\":true,\"ticks\":\"\",\"zerolinecolor\":\"white\",\"gridwidth\":2}},\"shapedefaults\":{\"line\":{\"color\":\"#2a3f5f\"}},\"annotationdefaults\":{\"arrowcolor\":\"#2a3f5f\",\"arrowhead\":0,\"arrowwidth\":1},\"geo\":{\"bgcolor\":\"white\",\"landcolor\":\"#E5ECF6\",\"subunitcolor\":\"white\",\"showland\":true,\"showlakes\":true,\"lakecolor\":\"white\"},\"title\":{\"x\":0.05},\"mapbox\":{\"style\":\"light\"}}},\"margin\":{\"l\":20,\"r\":20,\"t\":20,\"b\":20},\"font\":{\"color\":\"black\"},\"height\":600,\"width\":600,\"paper_bgcolor\":\"white\",\"plot_bgcolor\":\"white\",\"showlegend\":false},                        {\"responsive\": true}                    ).then(function(){\n",
       "                            \n",
       "var gd = document.getElementById('1ee36824-244d-40dc-bb20-be3d491e5e68');\n",
       "var x = new MutationObserver(function (mutations, observer) {{\n",
       "        var display = window.getComputedStyle(gd).display;\n",
       "        if (!display || display === 'none') {{\n",
       "            console.log([gd, 'removed!']);\n",
       "            Plotly.purge(gd);\n",
       "            observer.disconnect();\n",
       "        }}\n",
       "}});\n",
       "\n",
       "// Listen for the removal of the full notebook cells\n",
       "var notebookContainer = gd.closest('#notebook-container');\n",
       "if (notebookContainer) {{\n",
       "    x.observe(notebookContainer, {childList: true});\n",
       "}}\n",
       "\n",
       "// Listen for the clearing of the current output cell\n",
       "var outputEl = gd.closest('.output');\n",
       "if (outputEl) {{\n",
       "    x.observe(outputEl, {childList: true});\n",
       "}}\n",
       "\n",
       "                        })                };                });            </script>        </div>"
      ]
     },
     "metadata": {},
     "output_type": "display_data"
    }
   ],
   "execution_count": 99
  },
  {
   "metadata": {},
   "cell_type": "markdown",
   "source": "#### Overview table",
   "id": "832a93c646602493"
  },
  {
   "metadata": {
    "ExecuteTime": {
     "end_time": "2025-06-09T10:26:51.545280Z",
     "start_time": "2025-06-09T09:26:12.970094Z"
    }
   },
   "cell_type": "code",
   "source": [
    "importlib.reload(mpt_utils)\n",
    "# Create overview\n",
    "mpt_utils.generate_overview_table(allocations_1m, mu_1m, S_1m, df_pct)"
   ],
   "id": "69b503dace1fa341",
   "outputs": [
    {
     "data": {
      "text/plain": [
       "         Share Count  Average Covariance Average Returns  \\\n",
       "7575.T             1            0.055909          16.12%   \n",
       "SRT3.DE            1            0.006591          15.73%   \n",
       "SLP                1            0.058182          22.77%   \n",
       "4816.T             5           -0.041364           6.53%   \n",
       "TPE.DE             2           -0.014545          52.08%   \n",
       "MKTX               1           -0.001364          17.59%   \n",
       "CENT               2            0.041591           7.14%   \n",
       "2685.T             4           -0.045682          46.29%   \n",
       "ADUS               1            0.005000          30.15%   \n",
       "TAL                1           -0.050682          28.72%   \n",
       "NSSC               1            0.006818          25.81%   \n",
       "BURL               1            0.005000          23.35%   \n",
       "PLUS.L             1           -0.028409          18.22%   \n",
       "AOF.DE             1           -0.006818          19.96%   \n",
       "PAR                1           -0.052955          20.64%   \n",
       "NSP                1           -0.018409          49.75%   \n",
       "ELS                1            0.004091          19.48%   \n",
       "9697.T             6            0.051818          38.94%   \n",
       "2471.T             1            0.034773          29.73%   \n",
       "FLGT               4           -0.081136          38.59%   \n",
       "7947.T             1            0.043182          53.17%   \n",
       "7458.T             2           -0.006818          17.34%   \n",
       "BVB.DE             3           -0.034545          36.27%   \n",
       "2733.T             2            0.051818          11.53%   \n",
       "4549.T             3            0.061136          37.85%   \n",
       "MPX                2            0.048864           7.11%   \n",
       "7508.T             2            0.025227          11.10%   \n",
       "3659.T             1            0.083636           9.94%   \n",
       "EBF                1            0.001591          27.95%   \n",
       "7832.T             1            0.054545          42.35%   \n",
       "7780.T             1            0.067045          16.73%   \n",
       "FRPH               1           -0.019091          39.56%   \n",
       "4218.T             1            0.033864          12.84%   \n",
       "ITI                2            0.025682          76.06%   \n",
       "2874.T             4            0.022045          27.13%   \n",
       "APLD               7           -0.019545          44.87%   \n",
       "9470.T             1            0.017500          18.85%   \n",
       "9143.T             3           -0.017727          34.68%   \n",
       "2170.T             2            0.055682          16.86%   \n",
       "3050.T             2            0.004545          22.06%   \n",
       "2331.T             1            0.030909          29.55%   \n",
       "7944.T            15           -0.319318           2.72%   \n",
       "9831.T             2            0.022955          13.57%   \n",
       "O5G.DE             9           -0.008864          70.35%   \n",
       "2124.T             1            0.050000           4.22%   \n",
       "\n",
       "        Return Last 12 Months Return (Actual) Next 12 Months  \n",
       "7575.T                  4.51%                        -17.45%  \n",
       "SRT3.DE                36.06%                        109.75%  \n",
       "SLP                    77.26%                        118.41%  \n",
       "4816.T                 33.20%                         39.47%  \n",
       "TPE.DE                 -6.28%                          3.02%  \n",
       "MKTX                   77.62%                         49.93%  \n",
       "CENT                   -5.64%                         36.67%  \n",
       "2685.T                 49.31%                        -30.06%  \n",
       "ADUS                   30.00%                         19.98%  \n",
       "TAL                    48.59%                        120.88%  \n",
       "NSSC                  118.24%                         -8.54%  \n",
       "BURL                   13.37%                          1.41%  \n",
       "PLUS.L                -32.76%                        131.69%  \n",
       "AOF.DE                 79.41%                        115.37%  \n",
       "PAR                    41.04%                         70.88%  \n",
       "NSP                    -3.93%                        -32.01%  \n",
       "ELS                    51.63%                         -6.94%  \n",
       "9697.T                 11.14%                        102.53%  \n",
       "2471.T                119.57%                         24.38%  \n",
       "FLGT                  167.34%                        289.41%  \n",
       "7947.T                 18.26%                         35.47%  \n",
       "7458.T                  1.43%                        -31.61%  \n",
       "BVB.DE                -10.30%                        -43.42%  \n",
       "2733.T                -20.01%                         36.51%  \n",
       "4549.T                -30.88%                         29.95%  \n",
       "MPX                   -31.47%                         16.83%  \n",
       "7508.T                 48.97%                         72.08%  \n",
       "3659.T                 -1.83%                        105.09%  \n",
       "EBF                     5.85%                        -10.73%  \n",
       "7832.T                 69.14%                         15.79%  \n",
       "7780.T                 53.74%                         86.15%  \n",
       "FRPH                    8.20%                        -13.42%  \n",
       "4218.T                -15.26%                          5.34%  \n",
       "ITI                    26.17%                        -29.74%  \n",
       "2874.T                 22.31%                        -10.26%  \n",
       "APLD                   -6.98%                          3.37%  \n",
       "9470.T                  5.96%                         22.39%  \n",
       "9143.T                 -3.46%                        111.16%  \n",
       "2170.T                -46.71%                        -26.60%  \n",
       "3050.T                  1.46%                         40.24%  \n",
       "2331.T                 19.11%                        -10.79%  \n",
       "7944.T               -467.40%                        876.44%  \n",
       "9831.T                  0.37%                          0.55%  \n",
       "O5G.DE                 -0.04%                         -2.04%  \n",
       "2124.T                  2.69%                        -32.69%  "
      ],
      "text/html": [
       "<div>\n",
       "<style scoped>\n",
       "    .dataframe tbody tr th:only-of-type {\n",
       "        vertical-align: middle;\n",
       "    }\n",
       "\n",
       "    .dataframe tbody tr th {\n",
       "        vertical-align: top;\n",
       "    }\n",
       "\n",
       "    .dataframe thead th {\n",
       "        text-align: right;\n",
       "    }\n",
       "</style>\n",
       "<table border=\"1\" class=\"dataframe\">\n",
       "  <thead>\n",
       "    <tr style=\"text-align: right;\">\n",
       "      <th></th>\n",
       "      <th>Share Count</th>\n",
       "      <th>Average Covariance</th>\n",
       "      <th>Average Returns</th>\n",
       "      <th>Return Last 12 Months</th>\n",
       "      <th>Return (Actual) Next 12 Months</th>\n",
       "    </tr>\n",
       "  </thead>\n",
       "  <tbody>\n",
       "    <tr>\n",
       "      <th>7575.T</th>\n",
       "      <td>1</td>\n",
       "      <td>0.055909</td>\n",
       "      <td>16.12%</td>\n",
       "      <td>4.51%</td>\n",
       "      <td>-17.45%</td>\n",
       "    </tr>\n",
       "    <tr>\n",
       "      <th>SRT3.DE</th>\n",
       "      <td>1</td>\n",
       "      <td>0.006591</td>\n",
       "      <td>15.73%</td>\n",
       "      <td>36.06%</td>\n",
       "      <td>109.75%</td>\n",
       "    </tr>\n",
       "    <tr>\n",
       "      <th>SLP</th>\n",
       "      <td>1</td>\n",
       "      <td>0.058182</td>\n",
       "      <td>22.77%</td>\n",
       "      <td>77.26%</td>\n",
       "      <td>118.41%</td>\n",
       "    </tr>\n",
       "    <tr>\n",
       "      <th>4816.T</th>\n",
       "      <td>5</td>\n",
       "      <td>-0.041364</td>\n",
       "      <td>6.53%</td>\n",
       "      <td>33.20%</td>\n",
       "      <td>39.47%</td>\n",
       "    </tr>\n",
       "    <tr>\n",
       "      <th>TPE.DE</th>\n",
       "      <td>2</td>\n",
       "      <td>-0.014545</td>\n",
       "      <td>52.08%</td>\n",
       "      <td>-6.28%</td>\n",
       "      <td>3.02%</td>\n",
       "    </tr>\n",
       "    <tr>\n",
       "      <th>MKTX</th>\n",
       "      <td>1</td>\n",
       "      <td>-0.001364</td>\n",
       "      <td>17.59%</td>\n",
       "      <td>77.62%</td>\n",
       "      <td>49.93%</td>\n",
       "    </tr>\n",
       "    <tr>\n",
       "      <th>CENT</th>\n",
       "      <td>2</td>\n",
       "      <td>0.041591</td>\n",
       "      <td>7.14%</td>\n",
       "      <td>-5.64%</td>\n",
       "      <td>36.67%</td>\n",
       "    </tr>\n",
       "    <tr>\n",
       "      <th>2685.T</th>\n",
       "      <td>4</td>\n",
       "      <td>-0.045682</td>\n",
       "      <td>46.29%</td>\n",
       "      <td>49.31%</td>\n",
       "      <td>-30.06%</td>\n",
       "    </tr>\n",
       "    <tr>\n",
       "      <th>ADUS</th>\n",
       "      <td>1</td>\n",
       "      <td>0.005000</td>\n",
       "      <td>30.15%</td>\n",
       "      <td>30.00%</td>\n",
       "      <td>19.98%</td>\n",
       "    </tr>\n",
       "    <tr>\n",
       "      <th>TAL</th>\n",
       "      <td>1</td>\n",
       "      <td>-0.050682</td>\n",
       "      <td>28.72%</td>\n",
       "      <td>48.59%</td>\n",
       "      <td>120.88%</td>\n",
       "    </tr>\n",
       "    <tr>\n",
       "      <th>NSSC</th>\n",
       "      <td>1</td>\n",
       "      <td>0.006818</td>\n",
       "      <td>25.81%</td>\n",
       "      <td>118.24%</td>\n",
       "      <td>-8.54%</td>\n",
       "    </tr>\n",
       "    <tr>\n",
       "      <th>BURL</th>\n",
       "      <td>1</td>\n",
       "      <td>0.005000</td>\n",
       "      <td>23.35%</td>\n",
       "      <td>13.37%</td>\n",
       "      <td>1.41%</td>\n",
       "    </tr>\n",
       "    <tr>\n",
       "      <th>PLUS.L</th>\n",
       "      <td>1</td>\n",
       "      <td>-0.028409</td>\n",
       "      <td>18.22%</td>\n",
       "      <td>-32.76%</td>\n",
       "      <td>131.69%</td>\n",
       "    </tr>\n",
       "    <tr>\n",
       "      <th>AOF.DE</th>\n",
       "      <td>1</td>\n",
       "      <td>-0.006818</td>\n",
       "      <td>19.96%</td>\n",
       "      <td>79.41%</td>\n",
       "      <td>115.37%</td>\n",
       "    </tr>\n",
       "    <tr>\n",
       "      <th>PAR</th>\n",
       "      <td>1</td>\n",
       "      <td>-0.052955</td>\n",
       "      <td>20.64%</td>\n",
       "      <td>41.04%</td>\n",
       "      <td>70.88%</td>\n",
       "    </tr>\n",
       "    <tr>\n",
       "      <th>NSP</th>\n",
       "      <td>1</td>\n",
       "      <td>-0.018409</td>\n",
       "      <td>49.75%</td>\n",
       "      <td>-3.93%</td>\n",
       "      <td>-32.01%</td>\n",
       "    </tr>\n",
       "    <tr>\n",
       "      <th>ELS</th>\n",
       "      <td>1</td>\n",
       "      <td>0.004091</td>\n",
       "      <td>19.48%</td>\n",
       "      <td>51.63%</td>\n",
       "      <td>-6.94%</td>\n",
       "    </tr>\n",
       "    <tr>\n",
       "      <th>9697.T</th>\n",
       "      <td>6</td>\n",
       "      <td>0.051818</td>\n",
       "      <td>38.94%</td>\n",
       "      <td>11.14%</td>\n",
       "      <td>102.53%</td>\n",
       "    </tr>\n",
       "    <tr>\n",
       "      <th>2471.T</th>\n",
       "      <td>1</td>\n",
       "      <td>0.034773</td>\n",
       "      <td>29.73%</td>\n",
       "      <td>119.57%</td>\n",
       "      <td>24.38%</td>\n",
       "    </tr>\n",
       "    <tr>\n",
       "      <th>FLGT</th>\n",
       "      <td>4</td>\n",
       "      <td>-0.081136</td>\n",
       "      <td>38.59%</td>\n",
       "      <td>167.34%</td>\n",
       "      <td>289.41%</td>\n",
       "    </tr>\n",
       "    <tr>\n",
       "      <th>7947.T</th>\n",
       "      <td>1</td>\n",
       "      <td>0.043182</td>\n",
       "      <td>53.17%</td>\n",
       "      <td>18.26%</td>\n",
       "      <td>35.47%</td>\n",
       "    </tr>\n",
       "    <tr>\n",
       "      <th>7458.T</th>\n",
       "      <td>2</td>\n",
       "      <td>-0.006818</td>\n",
       "      <td>17.34%</td>\n",
       "      <td>1.43%</td>\n",
       "      <td>-31.61%</td>\n",
       "    </tr>\n",
       "    <tr>\n",
       "      <th>BVB.DE</th>\n",
       "      <td>3</td>\n",
       "      <td>-0.034545</td>\n",
       "      <td>36.27%</td>\n",
       "      <td>-10.30%</td>\n",
       "      <td>-43.42%</td>\n",
       "    </tr>\n",
       "    <tr>\n",
       "      <th>2733.T</th>\n",
       "      <td>2</td>\n",
       "      <td>0.051818</td>\n",
       "      <td>11.53%</td>\n",
       "      <td>-20.01%</td>\n",
       "      <td>36.51%</td>\n",
       "    </tr>\n",
       "    <tr>\n",
       "      <th>4549.T</th>\n",
       "      <td>3</td>\n",
       "      <td>0.061136</td>\n",
       "      <td>37.85%</td>\n",
       "      <td>-30.88%</td>\n",
       "      <td>29.95%</td>\n",
       "    </tr>\n",
       "    <tr>\n",
       "      <th>MPX</th>\n",
       "      <td>2</td>\n",
       "      <td>0.048864</td>\n",
       "      <td>7.11%</td>\n",
       "      <td>-31.47%</td>\n",
       "      <td>16.83%</td>\n",
       "    </tr>\n",
       "    <tr>\n",
       "      <th>7508.T</th>\n",
       "      <td>2</td>\n",
       "      <td>0.025227</td>\n",
       "      <td>11.10%</td>\n",
       "      <td>48.97%</td>\n",
       "      <td>72.08%</td>\n",
       "    </tr>\n",
       "    <tr>\n",
       "      <th>3659.T</th>\n",
       "      <td>1</td>\n",
       "      <td>0.083636</td>\n",
       "      <td>9.94%</td>\n",
       "      <td>-1.83%</td>\n",
       "      <td>105.09%</td>\n",
       "    </tr>\n",
       "    <tr>\n",
       "      <th>EBF</th>\n",
       "      <td>1</td>\n",
       "      <td>0.001591</td>\n",
       "      <td>27.95%</td>\n",
       "      <td>5.85%</td>\n",
       "      <td>-10.73%</td>\n",
       "    </tr>\n",
       "    <tr>\n",
       "      <th>7832.T</th>\n",
       "      <td>1</td>\n",
       "      <td>0.054545</td>\n",
       "      <td>42.35%</td>\n",
       "      <td>69.14%</td>\n",
       "      <td>15.79%</td>\n",
       "    </tr>\n",
       "    <tr>\n",
       "      <th>7780.T</th>\n",
       "      <td>1</td>\n",
       "      <td>0.067045</td>\n",
       "      <td>16.73%</td>\n",
       "      <td>53.74%</td>\n",
       "      <td>86.15%</td>\n",
       "    </tr>\n",
       "    <tr>\n",
       "      <th>FRPH</th>\n",
       "      <td>1</td>\n",
       "      <td>-0.019091</td>\n",
       "      <td>39.56%</td>\n",
       "      <td>8.20%</td>\n",
       "      <td>-13.42%</td>\n",
       "    </tr>\n",
       "    <tr>\n",
       "      <th>4218.T</th>\n",
       "      <td>1</td>\n",
       "      <td>0.033864</td>\n",
       "      <td>12.84%</td>\n",
       "      <td>-15.26%</td>\n",
       "      <td>5.34%</td>\n",
       "    </tr>\n",
       "    <tr>\n",
       "      <th>ITI</th>\n",
       "      <td>2</td>\n",
       "      <td>0.025682</td>\n",
       "      <td>76.06%</td>\n",
       "      <td>26.17%</td>\n",
       "      <td>-29.74%</td>\n",
       "    </tr>\n",
       "    <tr>\n",
       "      <th>2874.T</th>\n",
       "      <td>4</td>\n",
       "      <td>0.022045</td>\n",
       "      <td>27.13%</td>\n",
       "      <td>22.31%</td>\n",
       "      <td>-10.26%</td>\n",
       "    </tr>\n",
       "    <tr>\n",
       "      <th>APLD</th>\n",
       "      <td>7</td>\n",
       "      <td>-0.019545</td>\n",
       "      <td>44.87%</td>\n",
       "      <td>-6.98%</td>\n",
       "      <td>3.37%</td>\n",
       "    </tr>\n",
       "    <tr>\n",
       "      <th>9470.T</th>\n",
       "      <td>1</td>\n",
       "      <td>0.017500</td>\n",
       "      <td>18.85%</td>\n",
       "      <td>5.96%</td>\n",
       "      <td>22.39%</td>\n",
       "    </tr>\n",
       "    <tr>\n",
       "      <th>9143.T</th>\n",
       "      <td>3</td>\n",
       "      <td>-0.017727</td>\n",
       "      <td>34.68%</td>\n",
       "      <td>-3.46%</td>\n",
       "      <td>111.16%</td>\n",
       "    </tr>\n",
       "    <tr>\n",
       "      <th>2170.T</th>\n",
       "      <td>2</td>\n",
       "      <td>0.055682</td>\n",
       "      <td>16.86%</td>\n",
       "      <td>-46.71%</td>\n",
       "      <td>-26.60%</td>\n",
       "    </tr>\n",
       "    <tr>\n",
       "      <th>3050.T</th>\n",
       "      <td>2</td>\n",
       "      <td>0.004545</td>\n",
       "      <td>22.06%</td>\n",
       "      <td>1.46%</td>\n",
       "      <td>40.24%</td>\n",
       "    </tr>\n",
       "    <tr>\n",
       "      <th>2331.T</th>\n",
       "      <td>1</td>\n",
       "      <td>0.030909</td>\n",
       "      <td>29.55%</td>\n",
       "      <td>19.11%</td>\n",
       "      <td>-10.79%</td>\n",
       "    </tr>\n",
       "    <tr>\n",
       "      <th>7944.T</th>\n",
       "      <td>15</td>\n",
       "      <td>-0.319318</td>\n",
       "      <td>2.72%</td>\n",
       "      <td>-467.40%</td>\n",
       "      <td>876.44%</td>\n",
       "    </tr>\n",
       "    <tr>\n",
       "      <th>9831.T</th>\n",
       "      <td>2</td>\n",
       "      <td>0.022955</td>\n",
       "      <td>13.57%</td>\n",
       "      <td>0.37%</td>\n",
       "      <td>0.55%</td>\n",
       "    </tr>\n",
       "    <tr>\n",
       "      <th>O5G.DE</th>\n",
       "      <td>9</td>\n",
       "      <td>-0.008864</td>\n",
       "      <td>70.35%</td>\n",
       "      <td>-0.04%</td>\n",
       "      <td>-2.04%</td>\n",
       "    </tr>\n",
       "    <tr>\n",
       "      <th>2124.T</th>\n",
       "      <td>1</td>\n",
       "      <td>0.050000</td>\n",
       "      <td>4.22%</td>\n",
       "      <td>2.69%</td>\n",
       "      <td>-32.69%</td>\n",
       "    </tr>\n",
       "  </tbody>\n",
       "</table>\n",
       "</div>"
      ]
     },
     "execution_count": 100,
     "metadata": {},
     "output_type": "execute_result"
    }
   ],
   "execution_count": 100
  },
  {
   "metadata": {},
   "cell_type": "markdown",
   "source": "### LSTM Multivariate - 6 Months",
   "id": "43a9fdefde6c005"
  },
  {
   "metadata": {},
   "cell_type": "markdown",
   "source": [
    "Get the known data (train data)\n",
    "After that, get the first 6 predicted months, or the first 6 predicted sequences of test data"
   ],
   "id": "fd7bdd04c2d45540"
  },
  {
   "metadata": {
    "ExecuteTime": {
     "end_time": "2025-06-09T10:26:51.545669Z",
     "start_time": "2025-06-09T09:26:13.004844Z"
    }
   },
   "cell_type": "code",
   "source": [
    "df_train = X_train[:, :, -1].clone()\n",
    "y_test_pred_6m =  y_test_pred[0,:,:].T[0:6] # y_test_pred[:,:,5][0:6]\n",
    "y_test_pred_6m"
   ],
   "id": "fd98c778b7b249cb",
   "outputs": [
    {
     "data": {
      "text/plain": [
       "tensor([[ 0.0393,  0.0295,  0.0342,  0.0231,  0.0229,  0.0276,  0.0205,  0.0115,\n",
       "          0.0088,  0.0138,  0.0205,  0.0092,  0.0041,  0.0051, -0.0072, -0.0137,\n",
       "         -0.0029,  0.0071,  0.0080,  0.0070,  0.0050,  0.0060,  0.0075,  0.0101,\n",
       "          0.0233,  0.0159,  0.0131,  0.0133,  0.0139,  0.0108,  0.0010,  0.0092,\n",
       "          0.0160,  0.0179,  0.0059,  0.0127,  0.0169,  0.0054, -0.0054,  0.0029,\n",
       "          0.0063,  0.0017,  0.0034,  0.0073,  0.0225,  0.0133,  0.0015,  0.0058],\n",
       "        [ 0.0496,  0.0554,  0.0503,  0.0402,  0.0322,  0.0227,  0.0195,  0.0217,\n",
       "          0.0295,  0.0374,  0.0267,  0.0019, -0.0054, -0.0051, -0.0044,  0.0056,\n",
       "          0.0207,  0.0221,  0.0069,  0.0018,  0.0070,  0.0105,  0.0168,  0.0271,\n",
       "          0.0290,  0.0167,  0.0136,  0.0088,  0.0031, -0.0009,  0.0039,  0.0174,\n",
       "          0.0224,  0.0190,  0.0120,  0.0148,  0.0074, -0.0063, -0.0108,  0.0041,\n",
       "          0.0122,  0.0096,  0.0148,  0.0202,  0.0108, -0.0038,  0.0033,  0.0139],\n",
       "        [ 0.0337,  0.0441,  0.0441,  0.0462,  0.0351,  0.0283,  0.0288,  0.0313,\n",
       "          0.0346,  0.0267,  0.0150,  0.0082,  0.0018, -0.0028,  0.0045,  0.0235,\n",
       "          0.0285,  0.0224,  0.0121,  0.0113,  0.0172,  0.0212,  0.0322,  0.0299,\n",
       "          0.0211,  0.0175,  0.0134,  0.0085,  0.0043,  0.0104,  0.0166,  0.0189,\n",
       "          0.0175,  0.0193,  0.0158,  0.0043, -0.0058, -0.0005,  0.0110,  0.0098,\n",
       "          0.0071,  0.0120,  0.0250,  0.0195,  0.0037,  0.0021,  0.0097,  0.0135],\n",
       "        [ 0.0719,  0.0506,  0.0387,  0.0302,  0.0223,  0.0291,  0.0355,  0.0407,\n",
       "          0.0268,  0.0106,  0.0023, -0.0008, -0.0033,  0.0073,  0.0201,  0.0190,\n",
       "          0.0111,  0.0069,  0.0041,  0.0108,  0.0167,  0.0263,  0.0255,  0.0164,\n",
       "          0.0119,  0.0074,  0.0006, -0.0002,  0.0041,  0.0163,  0.0185,  0.0152,\n",
       "          0.0141,  0.0132,  0.0038, -0.0106, -0.0060,  0.0050,  0.0086,  0.0088,\n",
       "          0.0152,  0.0160,  0.0119,  0.0011,  0.0026,  0.0125,  0.0145,  0.0141],\n",
       "        [ 0.0267,  0.0402,  0.0372,  0.0352,  0.0403,  0.0451,  0.0510,  0.0371,\n",
       "          0.0206,  0.0131,  0.0097,  0.0036,  0.0102,  0.0310,  0.0251,  0.0180,\n",
       "          0.0136,  0.0149,  0.0194,  0.0198,  0.0342,  0.0292,  0.0211,  0.0171,\n",
       "          0.0145,  0.0072,  0.0030,  0.0103,  0.0165,  0.0216,  0.0138,  0.0158,\n",
       "          0.0120,  0.0060, -0.0098, -0.0043,  0.0095,  0.0067,  0.0067,  0.0136,\n",
       "          0.0224,  0.0104, -0.0003,  0.0015,  0.0132,  0.0114,  0.0112,  0.0097],\n",
       "        [ 0.0376,  0.0371,  0.0419,  0.0484,  0.0513,  0.0568,  0.0558,  0.0348,\n",
       "          0.0207,  0.0089,  0.0093,  0.0150,  0.0296,  0.0353,  0.0260,  0.0183,\n",
       "          0.0163,  0.0195,  0.0234,  0.0319,  0.0358,  0.0258,  0.0233,  0.0139,\n",
       "          0.0106,  0.0074,  0.0111,  0.0155,  0.0222,  0.0250,  0.0183,  0.0121,\n",
       "          0.0049,  0.0030, -0.0039,  0.0030,  0.0081,  0.0135,  0.0176,  0.0230,\n",
       "          0.0151,  0.0024,  0.0035,  0.0063,  0.0129,  0.0168,  0.0128,  0.0017]])"
      ]
     },
     "execution_count": 101,
     "metadata": {},
     "output_type": "execute_result"
    }
   ],
   "execution_count": 101
  },
  {
   "metadata": {
    "ExecuteTime": {
     "end_time": "2025-06-09T10:26:51.545830Z",
     "start_time": "2025-06-09T09:26:13.110400Z"
    }
   },
   "cell_type": "code",
   "source": [
    "df_forecast_6m = pd.DataFrame(df_train.clone())\n",
    "df_forecast_6m = pd.concat([df_forecast_6m, pd.DataFrame(y_test_pred_6m)], ignore_index=True)\n",
    "# Assign back columns and indices to make human understandable\n",
    "df_forecast_6m.columns = df.columns\n",
    "df_forecast_6m.index = df_pct[(in_seq_length - 1) : len(df_forecast_6m) + (in_seq_length - 1)].index\n",
    "#\n",
    "df_forecast_6m = df_forecast_6m.tail(variables.TEST_YEARS_NR * 12)\n",
    "#\n",
    "df_forecast_6m.tail(3)"
   ],
   "id": "d3afc8fa5f0e31c6",
   "outputs": [
    {
     "ename": "ValueError",
     "evalue": "Length mismatch: Expected axis has 227 elements, new values have 1653 elements",
     "output_type": "error",
     "traceback": [
      "\u001B[0;31m---------------------------------------------------------------------------\u001B[0m",
      "\u001B[0;31mValueError\u001B[0m                                Traceback (most recent call last)",
      "Cell \u001B[0;32mIn[102], line 4\u001B[0m\n\u001B[1;32m      2\u001B[0m df_forecast_6m \u001B[38;5;241m=\u001B[39m pd\u001B[38;5;241m.\u001B[39mconcat([df_forecast_6m, pd\u001B[38;5;241m.\u001B[39mDataFrame(y_test_pred_6m)], ignore_index\u001B[38;5;241m=\u001B[39m\u001B[38;5;28;01mTrue\u001B[39;00m)\n\u001B[1;32m      3\u001B[0m \u001B[38;5;66;03m# Assign back columns and indices to make human understandable\u001B[39;00m\n\u001B[0;32m----> 4\u001B[0m df_forecast_6m\u001B[38;5;241m.\u001B[39mcolumns \u001B[38;5;241m=\u001B[39m df\u001B[38;5;241m.\u001B[39mcolumns\n\u001B[1;32m      5\u001B[0m df_forecast_6m\u001B[38;5;241m.\u001B[39mindex \u001B[38;5;241m=\u001B[39m df_pct[(in_seq_length \u001B[38;5;241m-\u001B[39m \u001B[38;5;241m1\u001B[39m) : \u001B[38;5;28mlen\u001B[39m(df_forecast_6m) \u001B[38;5;241m+\u001B[39m (in_seq_length \u001B[38;5;241m-\u001B[39m \u001B[38;5;241m1\u001B[39m)]\u001B[38;5;241m.\u001B[39mindex\n\u001B[1;32m      6\u001B[0m \u001B[38;5;66;03m#\u001B[39;00m\n",
      "File \u001B[0;32m~/anaconda3/envs/portfolio_optimisation/lib/python3.11/site-packages/pandas/core/generic.py:6313\u001B[0m, in \u001B[0;36mNDFrame.__setattr__\u001B[0;34m(self, name, value)\u001B[0m\n\u001B[1;32m   6311\u001B[0m \u001B[38;5;28;01mtry\u001B[39;00m:\n\u001B[1;32m   6312\u001B[0m     \u001B[38;5;28mobject\u001B[39m\u001B[38;5;241m.\u001B[39m\u001B[38;5;21m__getattribute__\u001B[39m(\u001B[38;5;28mself\u001B[39m, name)\n\u001B[0;32m-> 6313\u001B[0m     \u001B[38;5;28;01mreturn\u001B[39;00m \u001B[38;5;28mobject\u001B[39m\u001B[38;5;241m.\u001B[39m\u001B[38;5;21m__setattr__\u001B[39m(\u001B[38;5;28mself\u001B[39m, name, value)\n\u001B[1;32m   6314\u001B[0m \u001B[38;5;28;01mexcept\u001B[39;00m \u001B[38;5;167;01mAttributeError\u001B[39;00m:\n\u001B[1;32m   6315\u001B[0m     \u001B[38;5;28;01mpass\u001B[39;00m\n",
      "File \u001B[0;32mproperties.pyx:69\u001B[0m, in \u001B[0;36mpandas._libs.properties.AxisProperty.__set__\u001B[0;34m()\u001B[0m\n",
      "File \u001B[0;32m~/anaconda3/envs/portfolio_optimisation/lib/python3.11/site-packages/pandas/core/generic.py:814\u001B[0m, in \u001B[0;36mNDFrame._set_axis\u001B[0;34m(self, axis, labels)\u001B[0m\n\u001B[1;32m    809\u001B[0m \u001B[38;5;250m\u001B[39m\u001B[38;5;124;03m\"\"\"\u001B[39;00m\n\u001B[1;32m    810\u001B[0m \u001B[38;5;124;03mThis is called from the cython code when we set the `index` attribute\u001B[39;00m\n\u001B[1;32m    811\u001B[0m \u001B[38;5;124;03mdirectly, e.g. `series.index = [1, 2, 3]`.\u001B[39;00m\n\u001B[1;32m    812\u001B[0m \u001B[38;5;124;03m\"\"\"\u001B[39;00m\n\u001B[1;32m    813\u001B[0m labels \u001B[38;5;241m=\u001B[39m ensure_index(labels)\n\u001B[0;32m--> 814\u001B[0m \u001B[38;5;28mself\u001B[39m\u001B[38;5;241m.\u001B[39m_mgr\u001B[38;5;241m.\u001B[39mset_axis(axis, labels)\n\u001B[1;32m    815\u001B[0m \u001B[38;5;28mself\u001B[39m\u001B[38;5;241m.\u001B[39m_clear_item_cache()\n",
      "File \u001B[0;32m~/anaconda3/envs/portfolio_optimisation/lib/python3.11/site-packages/pandas/core/internals/managers.py:238\u001B[0m, in \u001B[0;36mBaseBlockManager.set_axis\u001B[0;34m(self, axis, new_labels)\u001B[0m\n\u001B[1;32m    236\u001B[0m \u001B[38;5;28;01mdef\u001B[39;00m \u001B[38;5;21mset_axis\u001B[39m(\u001B[38;5;28mself\u001B[39m, axis: AxisInt, new_labels: Index) \u001B[38;5;241m-\u001B[39m\u001B[38;5;241m>\u001B[39m \u001B[38;5;28;01mNone\u001B[39;00m:\n\u001B[1;32m    237\u001B[0m     \u001B[38;5;66;03m# Caller is responsible for ensuring we have an Index object.\u001B[39;00m\n\u001B[0;32m--> 238\u001B[0m     \u001B[38;5;28mself\u001B[39m\u001B[38;5;241m.\u001B[39m_validate_set_axis(axis, new_labels)\n\u001B[1;32m    239\u001B[0m     \u001B[38;5;28mself\u001B[39m\u001B[38;5;241m.\u001B[39maxes[axis] \u001B[38;5;241m=\u001B[39m new_labels\n",
      "File \u001B[0;32m~/anaconda3/envs/portfolio_optimisation/lib/python3.11/site-packages/pandas/core/internals/base.py:98\u001B[0m, in \u001B[0;36mDataManager._validate_set_axis\u001B[0;34m(self, axis, new_labels)\u001B[0m\n\u001B[1;32m     95\u001B[0m     \u001B[38;5;28;01mpass\u001B[39;00m\n\u001B[1;32m     97\u001B[0m \u001B[38;5;28;01melif\u001B[39;00m new_len \u001B[38;5;241m!=\u001B[39m old_len:\n\u001B[0;32m---> 98\u001B[0m     \u001B[38;5;28;01mraise\u001B[39;00m \u001B[38;5;167;01mValueError\u001B[39;00m(\n\u001B[1;32m     99\u001B[0m         \u001B[38;5;124mf\u001B[39m\u001B[38;5;124m\"\u001B[39m\u001B[38;5;124mLength mismatch: Expected axis has \u001B[39m\u001B[38;5;132;01m{\u001B[39;00mold_len\u001B[38;5;132;01m}\u001B[39;00m\u001B[38;5;124m elements, new \u001B[39m\u001B[38;5;124m\"\u001B[39m\n\u001B[1;32m    100\u001B[0m         \u001B[38;5;124mf\u001B[39m\u001B[38;5;124m\"\u001B[39m\u001B[38;5;124mvalues have \u001B[39m\u001B[38;5;132;01m{\u001B[39;00mnew_len\u001B[38;5;132;01m}\u001B[39;00m\u001B[38;5;124m elements\u001B[39m\u001B[38;5;124m\"\u001B[39m\n\u001B[1;32m    101\u001B[0m     )\n",
      "\u001B[0;31mValueError\u001B[0m: Length mismatch: Expected axis has 227 elements, new values have 1653 elements"
     ]
    }
   ],
   "execution_count": 102
  },
  {
   "metadata": {
    "ExecuteTime": {
     "end_time": "2025-06-09T10:26:51.545881Z",
     "start_time": "2025-06-08T16:40:55.441940Z"
    }
   },
   "cell_type": "code",
   "source": [
    "importlib.reload(lstm_utils)\n",
    "importlib.reload(mpt_utils)\n",
    "\n",
    "weights_6m, mu_6m, S_6m, allocations_6m = mpt_utils.portfolio_and_plot(df_forecast_6m, df)"
   ],
   "id": "52b1414db37b4f46",
   "outputs": [
    {
     "name": "stdout",
     "output_type": "stream",
     "text": [
      "Expected annual return: 31.3%\n",
      "Annual volatility: 15.6%\n",
      "Sharpe Ratio: 1.88\n",
      "-- Allocation --\n",
      "{'TPE.DE': 1, '7575.T': 1, '2471.T': 1, 'SLP': 1, 'TAL': 1, 'ADUS': 1, 'SRT3.DE': 1, 'NSSC': 1, 'PAR': 1, 'MKTX': 1, '7564.T': 1, 'CENT': 1, '4816.T': 3, 'PAYC': 1, 'VAR1.DE': 1, 'AOF.DE': 1, 'FLGT': 2, '7832.T': 1, 'ITI': 3, '2685.T': 2, '2733.T': 1, 'NVDA': 1, '9697.T': 3, 'BVB.DE': 1, '7508.T': 2, 'MITK': 1, '2170.T': 2, '7780.T': 1, '4549.T': 1, 'EBF': 1, '7458.T': 1, '2124.T': 3, 'MPX': 1, '3659.T': 1, '4218.T': 1, '9470.T': 1, 'APLD': 4, 'ECV.DE': 1, '2874.T': 2, '7944.T': 14, '8141.T': 1, '3050.T': 2, '9143.T': 1, '3635.T': 1, '7906.T': 1, '9434.T': 1, 'O5G.DE': 10}\n",
      "-- Weights Percentage --\n",
      "{'MKTX': 0.0356, 'CENT': 0.0333, 'ITI': 0.0213, 'VAR1.DE': 0.0314, '7832.T': 0.0213, 'NSSC': 0.0364, 'TPE.DE': 0.0546, 'SRT3.DE': 0.0368, 'PAR': 0.0356, 'AOF.DE': 0.0275, 'SLP': 0.0453, '4816.T': 0.0329, '7575.T': 0.0492, 'TAL': 0.0453, 'FLGT': 0.0225, 'PAYC': 0.0321, 'ADUS': 0.0376, '2685.T': 0.0201, '2471.T': 0.048, '7564.T': 0.0352, 'Other(27)': 0.2981}\n"
     ]
    },
    {
     "name": "stderr",
     "output_type": "stream",
     "text": [
      "/Users/herbishtini/anaconda3/envs/portfolio_optimisation/lib/python3.11/site-packages/pypfopt/discrete_allocation.py:27: FutureWarning:\n",
      "\n",
      "Downcasting object dtype arrays on .fillna, .ffill, .bfill is deprecated and will change in a future version. Call result.infer_objects(copy=False) instead. To opt-in to the future behavior, set `pd.set_option('future.no_silent_downcasting', True)`\n",
      "\n"
     ]
    },
    {
     "data": {
      "application/vnd.plotly.v1+json": {
       "data": [
        {
         "hole": 0.3,
         "insidetextorientation": "radial",
         "labels": [
          "MKTX",
          "CENT",
          "ITI",
          "VAR1.DE",
          "7832.T",
          "NSSC",
          "TPE.DE",
          "SRT3.DE",
          "PAR",
          "AOF.DE",
          "SLP",
          "4816.T",
          "7575.T",
          "TAL",
          "FLGT",
          "PAYC",
          "ADUS",
          "2685.T",
          "2471.T",
          "7564.T",
          "Other(27)"
         ],
         "textinfo": "label+percent",
         "textposition": "inside",
         "values": [
          0.0092,
          0.0086,
          0.0055,
          0.0081,
          0.0055,
          0.0094,
          0.0141,
          0.0095,
          0.0092,
          0.0071,
          0.0117,
          0.0085,
          0.0127,
          0.0117,
          0.0058,
          0.0083,
          0.0097,
          0.0052,
          0.0124,
          0.0091,
          0.077
         ],
         "type": "pie"
        }
       ],
       "layout": {
        "template": {
         "data": {
          "histogram2dcontour": [
           {
            "type": "histogram2dcontour",
            "colorbar": {
             "outlinewidth": 0,
             "ticks": ""
            },
            "colorscale": [
             [
              0.0,
              "#0d0887"
             ],
             [
              0.1111111111111111,
              "#46039f"
             ],
             [
              0.2222222222222222,
              "#7201a8"
             ],
             [
              0.3333333333333333,
              "#9c179e"
             ],
             [
              0.4444444444444444,
              "#bd3786"
             ],
             [
              0.5555555555555556,
              "#d8576b"
             ],
             [
              0.6666666666666666,
              "#ed7953"
             ],
             [
              0.7777777777777778,
              "#fb9f3a"
             ],
             [
              0.8888888888888888,
              "#fdca26"
             ],
             [
              1.0,
              "#f0f921"
             ]
            ]
           }
          ],
          "choropleth": [
           {
            "type": "choropleth",
            "colorbar": {
             "outlinewidth": 0,
             "ticks": ""
            }
           }
          ],
          "histogram2d": [
           {
            "type": "histogram2d",
            "colorbar": {
             "outlinewidth": 0,
             "ticks": ""
            },
            "colorscale": [
             [
              0.0,
              "#0d0887"
             ],
             [
              0.1111111111111111,
              "#46039f"
             ],
             [
              0.2222222222222222,
              "#7201a8"
             ],
             [
              0.3333333333333333,
              "#9c179e"
             ],
             [
              0.4444444444444444,
              "#bd3786"
             ],
             [
              0.5555555555555556,
              "#d8576b"
             ],
             [
              0.6666666666666666,
              "#ed7953"
             ],
             [
              0.7777777777777778,
              "#fb9f3a"
             ],
             [
              0.8888888888888888,
              "#fdca26"
             ],
             [
              1.0,
              "#f0f921"
             ]
            ]
           }
          ],
          "heatmap": [
           {
            "type": "heatmap",
            "colorbar": {
             "outlinewidth": 0,
             "ticks": ""
            },
            "colorscale": [
             [
              0.0,
              "#0d0887"
             ],
             [
              0.1111111111111111,
              "#46039f"
             ],
             [
              0.2222222222222222,
              "#7201a8"
             ],
             [
              0.3333333333333333,
              "#9c179e"
             ],
             [
              0.4444444444444444,
              "#bd3786"
             ],
             [
              0.5555555555555556,
              "#d8576b"
             ],
             [
              0.6666666666666666,
              "#ed7953"
             ],
             [
              0.7777777777777778,
              "#fb9f3a"
             ],
             [
              0.8888888888888888,
              "#fdca26"
             ],
             [
              1.0,
              "#f0f921"
             ]
            ]
           }
          ],
          "heatmapgl": [
           {
            "type": "heatmapgl",
            "colorbar": {
             "outlinewidth": 0,
             "ticks": ""
            },
            "colorscale": [
             [
              0.0,
              "#0d0887"
             ],
             [
              0.1111111111111111,
              "#46039f"
             ],
             [
              0.2222222222222222,
              "#7201a8"
             ],
             [
              0.3333333333333333,
              "#9c179e"
             ],
             [
              0.4444444444444444,
              "#bd3786"
             ],
             [
              0.5555555555555556,
              "#d8576b"
             ],
             [
              0.6666666666666666,
              "#ed7953"
             ],
             [
              0.7777777777777778,
              "#fb9f3a"
             ],
             [
              0.8888888888888888,
              "#fdca26"
             ],
             [
              1.0,
              "#f0f921"
             ]
            ]
           }
          ],
          "contourcarpet": [
           {
            "type": "contourcarpet",
            "colorbar": {
             "outlinewidth": 0,
             "ticks": ""
            }
           }
          ],
          "contour": [
           {
            "type": "contour",
            "colorbar": {
             "outlinewidth": 0,
             "ticks": ""
            },
            "colorscale": [
             [
              0.0,
              "#0d0887"
             ],
             [
              0.1111111111111111,
              "#46039f"
             ],
             [
              0.2222222222222222,
              "#7201a8"
             ],
             [
              0.3333333333333333,
              "#9c179e"
             ],
             [
              0.4444444444444444,
              "#bd3786"
             ],
             [
              0.5555555555555556,
              "#d8576b"
             ],
             [
              0.6666666666666666,
              "#ed7953"
             ],
             [
              0.7777777777777778,
              "#fb9f3a"
             ],
             [
              0.8888888888888888,
              "#fdca26"
             ],
             [
              1.0,
              "#f0f921"
             ]
            ]
           }
          ],
          "surface": [
           {
            "type": "surface",
            "colorbar": {
             "outlinewidth": 0,
             "ticks": ""
            },
            "colorscale": [
             [
              0.0,
              "#0d0887"
             ],
             [
              0.1111111111111111,
              "#46039f"
             ],
             [
              0.2222222222222222,
              "#7201a8"
             ],
             [
              0.3333333333333333,
              "#9c179e"
             ],
             [
              0.4444444444444444,
              "#bd3786"
             ],
             [
              0.5555555555555556,
              "#d8576b"
             ],
             [
              0.6666666666666666,
              "#ed7953"
             ],
             [
              0.7777777777777778,
              "#fb9f3a"
             ],
             [
              0.8888888888888888,
              "#fdca26"
             ],
             [
              1.0,
              "#f0f921"
             ]
            ]
           }
          ],
          "mesh3d": [
           {
            "type": "mesh3d",
            "colorbar": {
             "outlinewidth": 0,
             "ticks": ""
            }
           }
          ],
          "scatter": [
           {
            "marker": {
             "line": {
              "color": "#283442"
             }
            },
            "type": "scatter"
           }
          ],
          "parcoords": [
           {
            "type": "parcoords",
            "line": {
             "colorbar": {
              "outlinewidth": 0,
              "ticks": ""
             }
            }
           }
          ],
          "scatterpolargl": [
           {
            "type": "scatterpolargl",
            "marker": {
             "colorbar": {
              "outlinewidth": 0,
              "ticks": ""
             }
            }
           }
          ],
          "bar": [
           {
            "error_x": {
             "color": "#f2f5fa"
            },
            "error_y": {
             "color": "#f2f5fa"
            },
            "marker": {
             "line": {
              "color": "rgb(17,17,17)",
              "width": 0.5
             },
             "pattern": {
              "fillmode": "overlay",
              "size": 10,
              "solidity": 0.2
             }
            },
            "type": "bar"
           }
          ],
          "scattergeo": [
           {
            "type": "scattergeo",
            "marker": {
             "colorbar": {
              "outlinewidth": 0,
              "ticks": ""
             }
            }
           }
          ],
          "scatterpolar": [
           {
            "type": "scatterpolar",
            "marker": {
             "colorbar": {
              "outlinewidth": 0,
              "ticks": ""
             }
            }
           }
          ],
          "histogram": [
           {
            "marker": {
             "pattern": {
              "fillmode": "overlay",
              "size": 10,
              "solidity": 0.2
             }
            },
            "type": "histogram"
           }
          ],
          "scattergl": [
           {
            "marker": {
             "line": {
              "color": "#283442"
             }
            },
            "type": "scattergl"
           }
          ],
          "scatter3d": [
           {
            "type": "scatter3d",
            "line": {
             "colorbar": {
              "outlinewidth": 0,
              "ticks": ""
             }
            },
            "marker": {
             "colorbar": {
              "outlinewidth": 0,
              "ticks": ""
             }
            }
           }
          ],
          "scattermapbox": [
           {
            "type": "scattermapbox",
            "marker": {
             "colorbar": {
              "outlinewidth": 0,
              "ticks": ""
             }
            }
           }
          ],
          "scatterternary": [
           {
            "type": "scatterternary",
            "marker": {
             "colorbar": {
              "outlinewidth": 0,
              "ticks": ""
             }
            }
           }
          ],
          "scattercarpet": [
           {
            "type": "scattercarpet",
            "marker": {
             "colorbar": {
              "outlinewidth": 0,
              "ticks": ""
             }
            }
           }
          ],
          "carpet": [
           {
            "aaxis": {
             "endlinecolor": "#A2B1C6",
             "gridcolor": "#506784",
             "linecolor": "#506784",
             "minorgridcolor": "#506784",
             "startlinecolor": "#A2B1C6"
            },
            "baxis": {
             "endlinecolor": "#A2B1C6",
             "gridcolor": "#506784",
             "linecolor": "#506784",
             "minorgridcolor": "#506784",
             "startlinecolor": "#A2B1C6"
            },
            "type": "carpet"
           }
          ],
          "table": [
           {
            "cells": {
             "fill": {
              "color": "#506784"
             },
             "line": {
              "color": "rgb(17,17,17)"
             }
            },
            "header": {
             "fill": {
              "color": "#2a3f5f"
             },
             "line": {
              "color": "rgb(17,17,17)"
             }
            },
            "type": "table"
           }
          ],
          "barpolar": [
           {
            "marker": {
             "line": {
              "color": "rgb(17,17,17)",
              "width": 0.5
             },
             "pattern": {
              "fillmode": "overlay",
              "size": 10,
              "solidity": 0.2
             }
            },
            "type": "barpolar"
           }
          ],
          "pie": [
           {
            "automargin": true,
            "type": "pie"
           }
          ]
         },
         "layout": {
          "autotypenumbers": "strict",
          "colorway": [
           "#636efa",
           "#EF553B",
           "#00cc96",
           "#ab63fa",
           "#FFA15A",
           "#19d3f3",
           "#FF6692",
           "#B6E880",
           "#FF97FF",
           "#FECB52"
          ],
          "font": {
           "color": "#f2f5fa"
          },
          "hovermode": "closest",
          "hoverlabel": {
           "align": "left"
          },
          "paper_bgcolor": "rgb(17,17,17)",
          "plot_bgcolor": "rgb(17,17,17)",
          "polar": {
           "bgcolor": "rgb(17,17,17)",
           "angularaxis": {
            "gridcolor": "#506784",
            "linecolor": "#506784",
            "ticks": ""
           },
           "radialaxis": {
            "gridcolor": "#506784",
            "linecolor": "#506784",
            "ticks": ""
           }
          },
          "ternary": {
           "bgcolor": "rgb(17,17,17)",
           "aaxis": {
            "gridcolor": "#506784",
            "linecolor": "#506784",
            "ticks": ""
           },
           "baxis": {
            "gridcolor": "#506784",
            "linecolor": "#506784",
            "ticks": ""
           },
           "caxis": {
            "gridcolor": "#506784",
            "linecolor": "#506784",
            "ticks": ""
           }
          },
          "coloraxis": {
           "colorbar": {
            "outlinewidth": 0,
            "ticks": ""
           }
          },
          "colorscale": {
           "sequential": [
            [
             0.0,
             "#0d0887"
            ],
            [
             0.1111111111111111,
             "#46039f"
            ],
            [
             0.2222222222222222,
             "#7201a8"
            ],
            [
             0.3333333333333333,
             "#9c179e"
            ],
            [
             0.4444444444444444,
             "#bd3786"
            ],
            [
             0.5555555555555556,
             "#d8576b"
            ],
            [
             0.6666666666666666,
             "#ed7953"
            ],
            [
             0.7777777777777778,
             "#fb9f3a"
            ],
            [
             0.8888888888888888,
             "#fdca26"
            ],
            [
             1.0,
             "#f0f921"
            ]
           ],
           "sequentialminus": [
            [
             0.0,
             "#0d0887"
            ],
            [
             0.1111111111111111,
             "#46039f"
            ],
            [
             0.2222222222222222,
             "#7201a8"
            ],
            [
             0.3333333333333333,
             "#9c179e"
            ],
            [
             0.4444444444444444,
             "#bd3786"
            ],
            [
             0.5555555555555556,
             "#d8576b"
            ],
            [
             0.6666666666666666,
             "#ed7953"
            ],
            [
             0.7777777777777778,
             "#fb9f3a"
            ],
            [
             0.8888888888888888,
             "#fdca26"
            ],
            [
             1.0,
             "#f0f921"
            ]
           ],
           "diverging": [
            [
             0,
             "#8e0152"
            ],
            [
             0.1,
             "#c51b7d"
            ],
            [
             0.2,
             "#de77ae"
            ],
            [
             0.3,
             "#f1b6da"
            ],
            [
             0.4,
             "#fde0ef"
            ],
            [
             0.5,
             "#f7f7f7"
            ],
            [
             0.6,
             "#e6f5d0"
            ],
            [
             0.7,
             "#b8e186"
            ],
            [
             0.8,
             "#7fbc41"
            ],
            [
             0.9,
             "#4d9221"
            ],
            [
             1,
             "#276419"
            ]
           ]
          },
          "xaxis": {
           "gridcolor": "#283442",
           "linecolor": "#506784",
           "ticks": "",
           "title": {
            "standoff": 15
           },
           "zerolinecolor": "#283442",
           "automargin": true,
           "zerolinewidth": 2
          },
          "yaxis": {
           "gridcolor": "#283442",
           "linecolor": "#506784",
           "ticks": "",
           "title": {
            "standoff": 15
           },
           "zerolinecolor": "#283442",
           "automargin": true,
           "zerolinewidth": 2
          },
          "scene": {
           "xaxis": {
            "backgroundcolor": "rgb(17,17,17)",
            "gridcolor": "#506784",
            "linecolor": "#506784",
            "showbackground": true,
            "ticks": "",
            "zerolinecolor": "#C8D4E3",
            "gridwidth": 2
           },
           "yaxis": {
            "backgroundcolor": "rgb(17,17,17)",
            "gridcolor": "#506784",
            "linecolor": "#506784",
            "showbackground": true,
            "ticks": "",
            "zerolinecolor": "#C8D4E3",
            "gridwidth": 2
           },
           "zaxis": {
            "backgroundcolor": "rgb(17,17,17)",
            "gridcolor": "#506784",
            "linecolor": "#506784",
            "showbackground": true,
            "ticks": "",
            "zerolinecolor": "#C8D4E3",
            "gridwidth": 2
           }
          },
          "shapedefaults": {
           "line": {
            "color": "#f2f5fa"
           }
          },
          "annotationdefaults": {
           "arrowcolor": "#f2f5fa",
           "arrowhead": 0,
           "arrowwidth": 1
          },
          "geo": {
           "bgcolor": "rgb(17,17,17)",
           "landcolor": "rgb(17,17,17)",
           "subunitcolor": "#506784",
           "showland": true,
           "showlakes": true,
           "lakecolor": "rgb(17,17,17)"
          },
          "title": {
           "x": 0.05
          },
          "updatemenudefaults": {
           "bgcolor": "#506784",
           "borderwidth": 0
          },
          "sliderdefaults": {
           "bgcolor": "#C8D4E3",
           "borderwidth": 1,
           "bordercolor": "rgb(17,17,17)",
           "tickwidth": 0
          },
          "mapbox": {
           "style": "dark"
          }
         }
        },
        "margin": {
         "l": 20,
         "r": 20,
         "t": 20,
         "b": 20
        },
        "font": {
         "color": "black"
        },
        "height": 600,
        "width": 600,
        "paper_bgcolor": "white",
        "plot_bgcolor": "white",
        "showlegend": false
       },
       "config": {
        "plotlyServerURL": "https://plot.ly"
       }
      },
      "text/html": [
       "<div>                            <div id=\"3ece0ca8-ae7a-4b69-9922-e31419e60595\" class=\"plotly-graph-div\" style=\"height:600px; width:600px;\"></div>            <script type=\"text/javascript\">                require([\"plotly\"], function(Plotly) {                    window.PLOTLYENV=window.PLOTLYENV || {};                                    if (document.getElementById(\"3ece0ca8-ae7a-4b69-9922-e31419e60595\")) {                    Plotly.newPlot(                        \"3ece0ca8-ae7a-4b69-9922-e31419e60595\",                        [{\"hole\":0.3,\"insidetextorientation\":\"radial\",\"labels\":[\"MKTX\",\"CENT\",\"ITI\",\"VAR1.DE\",\"7832.T\",\"NSSC\",\"TPE.DE\",\"SRT3.DE\",\"PAR\",\"AOF.DE\",\"SLP\",\"4816.T\",\"7575.T\",\"TAL\",\"FLGT\",\"PAYC\",\"ADUS\",\"2685.T\",\"2471.T\",\"7564.T\",\"Other(27)\"],\"textinfo\":\"label+percent\",\"textposition\":\"inside\",\"values\":[0.0092,0.0086,0.0055,0.0081,0.0055,0.0094,0.0141,0.0095,0.0092,0.0071,0.0117,0.0085,0.0127,0.0117,0.0058,0.0083,0.0097,0.0052,0.0124,0.0091,0.077],\"type\":\"pie\"}],                        {\"template\":{\"data\":{\"histogram2dcontour\":[{\"type\":\"histogram2dcontour\",\"colorbar\":{\"outlinewidth\":0,\"ticks\":\"\"},\"colorscale\":[[0.0,\"#0d0887\"],[0.1111111111111111,\"#46039f\"],[0.2222222222222222,\"#7201a8\"],[0.3333333333333333,\"#9c179e\"],[0.4444444444444444,\"#bd3786\"],[0.5555555555555556,\"#d8576b\"],[0.6666666666666666,\"#ed7953\"],[0.7777777777777778,\"#fb9f3a\"],[0.8888888888888888,\"#fdca26\"],[1.0,\"#f0f921\"]]}],\"choropleth\":[{\"type\":\"choropleth\",\"colorbar\":{\"outlinewidth\":0,\"ticks\":\"\"}}],\"histogram2d\":[{\"type\":\"histogram2d\",\"colorbar\":{\"outlinewidth\":0,\"ticks\":\"\"},\"colorscale\":[[0.0,\"#0d0887\"],[0.1111111111111111,\"#46039f\"],[0.2222222222222222,\"#7201a8\"],[0.3333333333333333,\"#9c179e\"],[0.4444444444444444,\"#bd3786\"],[0.5555555555555556,\"#d8576b\"],[0.6666666666666666,\"#ed7953\"],[0.7777777777777778,\"#fb9f3a\"],[0.8888888888888888,\"#fdca26\"],[1.0,\"#f0f921\"]]}],\"heatmap\":[{\"type\":\"heatmap\",\"colorbar\":{\"outlinewidth\":0,\"ticks\":\"\"},\"colorscale\":[[0.0,\"#0d0887\"],[0.1111111111111111,\"#46039f\"],[0.2222222222222222,\"#7201a8\"],[0.3333333333333333,\"#9c179e\"],[0.4444444444444444,\"#bd3786\"],[0.5555555555555556,\"#d8576b\"],[0.6666666666666666,\"#ed7953\"],[0.7777777777777778,\"#fb9f3a\"],[0.8888888888888888,\"#fdca26\"],[1.0,\"#f0f921\"]]}],\"heatmapgl\":[{\"type\":\"heatmapgl\",\"colorbar\":{\"outlinewidth\":0,\"ticks\":\"\"},\"colorscale\":[[0.0,\"#0d0887\"],[0.1111111111111111,\"#46039f\"],[0.2222222222222222,\"#7201a8\"],[0.3333333333333333,\"#9c179e\"],[0.4444444444444444,\"#bd3786\"],[0.5555555555555556,\"#d8576b\"],[0.6666666666666666,\"#ed7953\"],[0.7777777777777778,\"#fb9f3a\"],[0.8888888888888888,\"#fdca26\"],[1.0,\"#f0f921\"]]}],\"contourcarpet\":[{\"type\":\"contourcarpet\",\"colorbar\":{\"outlinewidth\":0,\"ticks\":\"\"}}],\"contour\":[{\"type\":\"contour\",\"colorbar\":{\"outlinewidth\":0,\"ticks\":\"\"},\"colorscale\":[[0.0,\"#0d0887\"],[0.1111111111111111,\"#46039f\"],[0.2222222222222222,\"#7201a8\"],[0.3333333333333333,\"#9c179e\"],[0.4444444444444444,\"#bd3786\"],[0.5555555555555556,\"#d8576b\"],[0.6666666666666666,\"#ed7953\"],[0.7777777777777778,\"#fb9f3a\"],[0.8888888888888888,\"#fdca26\"],[1.0,\"#f0f921\"]]}],\"surface\":[{\"type\":\"surface\",\"colorbar\":{\"outlinewidth\":0,\"ticks\":\"\"},\"colorscale\":[[0.0,\"#0d0887\"],[0.1111111111111111,\"#46039f\"],[0.2222222222222222,\"#7201a8\"],[0.3333333333333333,\"#9c179e\"],[0.4444444444444444,\"#bd3786\"],[0.5555555555555556,\"#d8576b\"],[0.6666666666666666,\"#ed7953\"],[0.7777777777777778,\"#fb9f3a\"],[0.8888888888888888,\"#fdca26\"],[1.0,\"#f0f921\"]]}],\"mesh3d\":[{\"type\":\"mesh3d\",\"colorbar\":{\"outlinewidth\":0,\"ticks\":\"\"}}],\"scatter\":[{\"marker\":{\"line\":{\"color\":\"#283442\"}},\"type\":\"scatter\"}],\"parcoords\":[{\"type\":\"parcoords\",\"line\":{\"colorbar\":{\"outlinewidth\":0,\"ticks\":\"\"}}}],\"scatterpolargl\":[{\"type\":\"scatterpolargl\",\"marker\":{\"colorbar\":{\"outlinewidth\":0,\"ticks\":\"\"}}}],\"bar\":[{\"error_x\":{\"color\":\"#f2f5fa\"},\"error_y\":{\"color\":\"#f2f5fa\"},\"marker\":{\"line\":{\"color\":\"rgb(17,17,17)\",\"width\":0.5},\"pattern\":{\"fillmode\":\"overlay\",\"size\":10,\"solidity\":0.2}},\"type\":\"bar\"}],\"scattergeo\":[{\"type\":\"scattergeo\",\"marker\":{\"colorbar\":{\"outlinewidth\":0,\"ticks\":\"\"}}}],\"scatterpolar\":[{\"type\":\"scatterpolar\",\"marker\":{\"colorbar\":{\"outlinewidth\":0,\"ticks\":\"\"}}}],\"histogram\":[{\"marker\":{\"pattern\":{\"fillmode\":\"overlay\",\"size\":10,\"solidity\":0.2}},\"type\":\"histogram\"}],\"scattergl\":[{\"marker\":{\"line\":{\"color\":\"#283442\"}},\"type\":\"scattergl\"}],\"scatter3d\":[{\"type\":\"scatter3d\",\"line\":{\"colorbar\":{\"outlinewidth\":0,\"ticks\":\"\"}},\"marker\":{\"colorbar\":{\"outlinewidth\":0,\"ticks\":\"\"}}}],\"scattermapbox\":[{\"type\":\"scattermapbox\",\"marker\":{\"colorbar\":{\"outlinewidth\":0,\"ticks\":\"\"}}}],\"scatterternary\":[{\"type\":\"scatterternary\",\"marker\":{\"colorbar\":{\"outlinewidth\":0,\"ticks\":\"\"}}}],\"scattercarpet\":[{\"type\":\"scattercarpet\",\"marker\":{\"colorbar\":{\"outlinewidth\":0,\"ticks\":\"\"}}}],\"carpet\":[{\"aaxis\":{\"endlinecolor\":\"#A2B1C6\",\"gridcolor\":\"#506784\",\"linecolor\":\"#506784\",\"minorgridcolor\":\"#506784\",\"startlinecolor\":\"#A2B1C6\"},\"baxis\":{\"endlinecolor\":\"#A2B1C6\",\"gridcolor\":\"#506784\",\"linecolor\":\"#506784\",\"minorgridcolor\":\"#506784\",\"startlinecolor\":\"#A2B1C6\"},\"type\":\"carpet\"}],\"table\":[{\"cells\":{\"fill\":{\"color\":\"#506784\"},\"line\":{\"color\":\"rgb(17,17,17)\"}},\"header\":{\"fill\":{\"color\":\"#2a3f5f\"},\"line\":{\"color\":\"rgb(17,17,17)\"}},\"type\":\"table\"}],\"barpolar\":[{\"marker\":{\"line\":{\"color\":\"rgb(17,17,17)\",\"width\":0.5},\"pattern\":{\"fillmode\":\"overlay\",\"size\":10,\"solidity\":0.2}},\"type\":\"barpolar\"}],\"pie\":[{\"automargin\":true,\"type\":\"pie\"}]},\"layout\":{\"autotypenumbers\":\"strict\",\"colorway\":[\"#636efa\",\"#EF553B\",\"#00cc96\",\"#ab63fa\",\"#FFA15A\",\"#19d3f3\",\"#FF6692\",\"#B6E880\",\"#FF97FF\",\"#FECB52\"],\"font\":{\"color\":\"#f2f5fa\"},\"hovermode\":\"closest\",\"hoverlabel\":{\"align\":\"left\"},\"paper_bgcolor\":\"rgb(17,17,17)\",\"plot_bgcolor\":\"rgb(17,17,17)\",\"polar\":{\"bgcolor\":\"rgb(17,17,17)\",\"angularaxis\":{\"gridcolor\":\"#506784\",\"linecolor\":\"#506784\",\"ticks\":\"\"},\"radialaxis\":{\"gridcolor\":\"#506784\",\"linecolor\":\"#506784\",\"ticks\":\"\"}},\"ternary\":{\"bgcolor\":\"rgb(17,17,17)\",\"aaxis\":{\"gridcolor\":\"#506784\",\"linecolor\":\"#506784\",\"ticks\":\"\"},\"baxis\":{\"gridcolor\":\"#506784\",\"linecolor\":\"#506784\",\"ticks\":\"\"},\"caxis\":{\"gridcolor\":\"#506784\",\"linecolor\":\"#506784\",\"ticks\":\"\"}},\"coloraxis\":{\"colorbar\":{\"outlinewidth\":0,\"ticks\":\"\"}},\"colorscale\":{\"sequential\":[[0.0,\"#0d0887\"],[0.1111111111111111,\"#46039f\"],[0.2222222222222222,\"#7201a8\"],[0.3333333333333333,\"#9c179e\"],[0.4444444444444444,\"#bd3786\"],[0.5555555555555556,\"#d8576b\"],[0.6666666666666666,\"#ed7953\"],[0.7777777777777778,\"#fb9f3a\"],[0.8888888888888888,\"#fdca26\"],[1.0,\"#f0f921\"]],\"sequentialminus\":[[0.0,\"#0d0887\"],[0.1111111111111111,\"#46039f\"],[0.2222222222222222,\"#7201a8\"],[0.3333333333333333,\"#9c179e\"],[0.4444444444444444,\"#bd3786\"],[0.5555555555555556,\"#d8576b\"],[0.6666666666666666,\"#ed7953\"],[0.7777777777777778,\"#fb9f3a\"],[0.8888888888888888,\"#fdca26\"],[1.0,\"#f0f921\"]],\"diverging\":[[0,\"#8e0152\"],[0.1,\"#c51b7d\"],[0.2,\"#de77ae\"],[0.3,\"#f1b6da\"],[0.4,\"#fde0ef\"],[0.5,\"#f7f7f7\"],[0.6,\"#e6f5d0\"],[0.7,\"#b8e186\"],[0.8,\"#7fbc41\"],[0.9,\"#4d9221\"],[1,\"#276419\"]]},\"xaxis\":{\"gridcolor\":\"#283442\",\"linecolor\":\"#506784\",\"ticks\":\"\",\"title\":{\"standoff\":15},\"zerolinecolor\":\"#283442\",\"automargin\":true,\"zerolinewidth\":2},\"yaxis\":{\"gridcolor\":\"#283442\",\"linecolor\":\"#506784\",\"ticks\":\"\",\"title\":{\"standoff\":15},\"zerolinecolor\":\"#283442\",\"automargin\":true,\"zerolinewidth\":2},\"scene\":{\"xaxis\":{\"backgroundcolor\":\"rgb(17,17,17)\",\"gridcolor\":\"#506784\",\"linecolor\":\"#506784\",\"showbackground\":true,\"ticks\":\"\",\"zerolinecolor\":\"#C8D4E3\",\"gridwidth\":2},\"yaxis\":{\"backgroundcolor\":\"rgb(17,17,17)\",\"gridcolor\":\"#506784\",\"linecolor\":\"#506784\",\"showbackground\":true,\"ticks\":\"\",\"zerolinecolor\":\"#C8D4E3\",\"gridwidth\":2},\"zaxis\":{\"backgroundcolor\":\"rgb(17,17,17)\",\"gridcolor\":\"#506784\",\"linecolor\":\"#506784\",\"showbackground\":true,\"ticks\":\"\",\"zerolinecolor\":\"#C8D4E3\",\"gridwidth\":2}},\"shapedefaults\":{\"line\":{\"color\":\"#f2f5fa\"}},\"annotationdefaults\":{\"arrowcolor\":\"#f2f5fa\",\"arrowhead\":0,\"arrowwidth\":1},\"geo\":{\"bgcolor\":\"rgb(17,17,17)\",\"landcolor\":\"rgb(17,17,17)\",\"subunitcolor\":\"#506784\",\"showland\":true,\"showlakes\":true,\"lakecolor\":\"rgb(17,17,17)\"},\"title\":{\"x\":0.05},\"updatemenudefaults\":{\"bgcolor\":\"#506784\",\"borderwidth\":0},\"sliderdefaults\":{\"bgcolor\":\"#C8D4E3\",\"borderwidth\":1,\"bordercolor\":\"rgb(17,17,17)\",\"tickwidth\":0},\"mapbox\":{\"style\":\"dark\"}}},\"margin\":{\"l\":20,\"r\":20,\"t\":20,\"b\":20},\"font\":{\"color\":\"black\"},\"height\":600,\"width\":600,\"paper_bgcolor\":\"white\",\"plot_bgcolor\":\"white\",\"showlegend\":false},                        {\"responsive\": true}                    ).then(function(){\n",
       "                            \n",
       "var gd = document.getElementById('3ece0ca8-ae7a-4b69-9922-e31419e60595');\n",
       "var x = new MutationObserver(function (mutations, observer) {{\n",
       "        var display = window.getComputedStyle(gd).display;\n",
       "        if (!display || display === 'none') {{\n",
       "            console.log([gd, 'removed!']);\n",
       "            Plotly.purge(gd);\n",
       "            observer.disconnect();\n",
       "        }}\n",
       "}});\n",
       "\n",
       "// Listen for the removal of the full notebook cells\n",
       "var notebookContainer = gd.closest('#notebook-container');\n",
       "if (notebookContainer) {{\n",
       "    x.observe(notebookContainer, {childList: true});\n",
       "}}\n",
       "\n",
       "// Listen for the clearing of the current output cell\n",
       "var outputEl = gd.closest('.output');\n",
       "if (outputEl) {{\n",
       "    x.observe(outputEl, {childList: true});\n",
       "}}\n",
       "\n",
       "                        })                };                });            </script>        </div>"
      ]
     },
     "metadata": {},
     "output_type": "display_data"
    }
   ],
   "execution_count": 622
  },
  {
   "metadata": {},
   "cell_type": "markdown",
   "source": "#### Overview table",
   "id": "6a707bc8ca2c4a74"
  },
  {
   "metadata": {
    "ExecuteTime": {
     "end_time": "2025-06-09T10:26:51.545984Z",
     "start_time": "2025-06-08T16:41:06.019381Z"
    }
   },
   "cell_type": "code",
   "source": [
    "importlib.reload(mpt_utils)\n",
    "# Create overview\n",
    "mpt_utils.generate_overview_table(allocations_6m, mu_6m, S_6m, df_pct)"
   ],
   "id": "9d7b4575e5ced0d8",
   "outputs": [
    {
     "data": {
      "text/plain": [
       "         Share Count  Average Covariance Average Returns  \\\n",
       "TPE.DE             1       -4.108696e-02          14.35%   \n",
       "7575.T             1       -2.413043e-02          16.53%   \n",
       "2471.T             1       -2.391305e-02          26.62%   \n",
       "SLP                1        1.478261e-02           4.76%   \n",
       "TAL                1       -5.000000e-03          18.76%   \n",
       "ADUS               1       -1.434783e-02          12.77%   \n",
       "SRT3.DE            1       -8.695652e-03          54.15%   \n",
       "NSSC               1       -1.391304e-02          16.18%   \n",
       "PAR                1       -5.043478e-02           5.83%   \n",
       "MKTX               1        1.456522e-02          41.70%   \n",
       "7564.T             1       -5.093479e-01          27.26%   \n",
       "CENT               1       -1.000000e-02          28.73%   \n",
       "4816.T             3       -4.347838e-04          21.38%   \n",
       "PAYC               1       -1.369565e-02          22.85%   \n",
       "VAR1.DE            1        1.781661e-09          57.57%   \n",
       "AOF.DE             1       -1.000000e-02          29.55%   \n",
       "FLGT               2       -3.956522e-02          47.67%   \n",
       "7832.T             1        6.521739e-03          21.55%   \n",
       "ITI                3       -1.695652e-02          28.29%   \n",
       "2685.T             2        1.326087e-02          50.02%   \n",
       "2733.T             1        2.608694e-03          46.34%   \n",
       "NVDA               1       -7.391304e-03          20.48%   \n",
       "9697.T             3       -6.086960e-03          39.03%   \n",
       "BVB.DE             1        2.586957e-02          34.48%   \n",
       "7508.T             2        1.956522e-03           8.75%   \n",
       "MITK               1        2.913044e-02           9.49%   \n",
       "2170.T             2       -2.021739e-02          33.19%   \n",
       "7780.T             1        6.521739e-03          47.56%   \n",
       "4549.T             1        1.152174e-02          34.51%   \n",
       "EBF                1       -8.260870e-03           4.19%   \n",
       "7458.T             1       -1.065217e-02          15.63%   \n",
       "2124.T             3       -1.152174e-02          61.30%   \n",
       "MPX                1       -5.217391e-03          19.27%   \n",
       "3659.T             1        1.326087e-02          21.57%   \n",
       "4218.T             1       -1.413043e-02          52.44%   \n",
       "9470.T             1        9.565218e-03          18.88%   \n",
       "APLD               4       -3.260870e-03          55.13%   \n",
       "ECV.DE             1        6.956521e-03          34.74%   \n",
       "2874.T             2        3.260870e-03          29.22%   \n",
       "7944.T            14       -6.934782e-02          12.31%   \n",
       "8141.T             1        3.043479e-03          26.61%   \n",
       "3050.T             2        6.521739e-03           5.79%   \n",
       "9143.T             1       -8.695653e-03          10.26%   \n",
       "3635.T             1        1.304349e-03          16.44%   \n",
       "7906.T             1       -1.152174e-02          77.89%   \n",
       "9434.T             1        3.260870e-03         111.44%   \n",
       "O5G.DE            10        1.739131e-03           6.50%   \n",
       "\n",
       "        Return Last 12 Months Return (Actual) Next 12 Months  \n",
       "TPE.DE                 -6.28%                          3.02%  \n",
       "7575.T                  4.51%                        -17.45%  \n",
       "2471.T                119.57%                         24.38%  \n",
       "SLP                    77.26%                        118.41%  \n",
       "TAL                    48.59%                        120.88%  \n",
       "ADUS                   30.00%                         19.98%  \n",
       "SRT3.DE                36.06%                        109.75%  \n",
       "NSSC                  118.24%                         -8.54%  \n",
       "PAR                    41.04%                         70.88%  \n",
       "MKTX                   77.62%                         49.93%  \n",
       "7564.T                123.19%                         18.42%  \n",
       "CENT                   -5.64%                         36.67%  \n",
       "4816.T                 33.20%                         39.47%  \n",
       "PAYC                   69.71%                         47.99%  \n",
       "VAR1.DE               261.53%                         32.91%  \n",
       "AOF.DE                 79.41%                        115.37%  \n",
       "FLGT                  167.34%                        289.41%  \n",
       "7832.T                 69.14%                         15.79%  \n",
       "ITI                    26.17%                        -29.74%  \n",
       "2685.T                 49.31%                        -30.06%  \n",
       "2733.T                -20.01%                         36.51%  \n",
       "NVDA                   -3.33%                        209.80%  \n",
       "9697.T                 11.14%                        102.53%  \n",
       "BVB.DE                -10.30%                        -43.42%  \n",
       "7508.T                 48.97%                         72.08%  \n",
       "MITK                    4.09%                         30.91%  \n",
       "2170.T                -46.71%                        -26.60%  \n",
       "7780.T                 53.74%                         86.15%  \n",
       "4549.T                -30.88%                         29.95%  \n",
       "EBF                     5.85%                        -10.73%  \n",
       "7458.T                  1.43%                        -31.61%  \n",
       "2124.T                  2.69%                        -32.69%  \n",
       "MPX                   -31.47%                         16.83%  \n",
       "3659.T                 -1.83%                        105.09%  \n",
       "4218.T                -15.26%                          5.34%  \n",
       "9470.T                  5.96%                         22.39%  \n",
       "APLD                   -6.98%                          3.37%  \n",
       "ECV.DE                 55.18%                        100.63%  \n",
       "2874.T                 22.31%                        -10.26%  \n",
       "7944.T               -467.40%                        876.44%  \n",
       "8141.T                 21.46%                          2.18%  \n",
       "3050.T                  1.46%                         40.24%  \n",
       "9143.T                 -3.46%                        111.16%  \n",
       "3635.T                 41.14%                        119.76%  \n",
       "7906.T                 -8.97%                         19.54%  \n",
       "9434.T                 13.48%                        -15.15%  \n",
       "O5G.DE                 -0.04%                         -2.04%  "
      ],
      "text/html": [
       "<div>\n",
       "<style scoped>\n",
       "    .dataframe tbody tr th:only-of-type {\n",
       "        vertical-align: middle;\n",
       "    }\n",
       "\n",
       "    .dataframe tbody tr th {\n",
       "        vertical-align: top;\n",
       "    }\n",
       "\n",
       "    .dataframe thead th {\n",
       "        text-align: right;\n",
       "    }\n",
       "</style>\n",
       "<table border=\"1\" class=\"dataframe\">\n",
       "  <thead>\n",
       "    <tr style=\"text-align: right;\">\n",
       "      <th></th>\n",
       "      <th>Share Count</th>\n",
       "      <th>Average Covariance</th>\n",
       "      <th>Average Returns</th>\n",
       "      <th>Return Last 12 Months</th>\n",
       "      <th>Return (Actual) Next 12 Months</th>\n",
       "    </tr>\n",
       "  </thead>\n",
       "  <tbody>\n",
       "    <tr>\n",
       "      <th>TPE.DE</th>\n",
       "      <td>1</td>\n",
       "      <td>-4.108696e-02</td>\n",
       "      <td>14.35%</td>\n",
       "      <td>-6.28%</td>\n",
       "      <td>3.02%</td>\n",
       "    </tr>\n",
       "    <tr>\n",
       "      <th>7575.T</th>\n",
       "      <td>1</td>\n",
       "      <td>-2.413043e-02</td>\n",
       "      <td>16.53%</td>\n",
       "      <td>4.51%</td>\n",
       "      <td>-17.45%</td>\n",
       "    </tr>\n",
       "    <tr>\n",
       "      <th>2471.T</th>\n",
       "      <td>1</td>\n",
       "      <td>-2.391305e-02</td>\n",
       "      <td>26.62%</td>\n",
       "      <td>119.57%</td>\n",
       "      <td>24.38%</td>\n",
       "    </tr>\n",
       "    <tr>\n",
       "      <th>SLP</th>\n",
       "      <td>1</td>\n",
       "      <td>1.478261e-02</td>\n",
       "      <td>4.76%</td>\n",
       "      <td>77.26%</td>\n",
       "      <td>118.41%</td>\n",
       "    </tr>\n",
       "    <tr>\n",
       "      <th>TAL</th>\n",
       "      <td>1</td>\n",
       "      <td>-5.000000e-03</td>\n",
       "      <td>18.76%</td>\n",
       "      <td>48.59%</td>\n",
       "      <td>120.88%</td>\n",
       "    </tr>\n",
       "    <tr>\n",
       "      <th>ADUS</th>\n",
       "      <td>1</td>\n",
       "      <td>-1.434783e-02</td>\n",
       "      <td>12.77%</td>\n",
       "      <td>30.00%</td>\n",
       "      <td>19.98%</td>\n",
       "    </tr>\n",
       "    <tr>\n",
       "      <th>SRT3.DE</th>\n",
       "      <td>1</td>\n",
       "      <td>-8.695652e-03</td>\n",
       "      <td>54.15%</td>\n",
       "      <td>36.06%</td>\n",
       "      <td>109.75%</td>\n",
       "    </tr>\n",
       "    <tr>\n",
       "      <th>NSSC</th>\n",
       "      <td>1</td>\n",
       "      <td>-1.391304e-02</td>\n",
       "      <td>16.18%</td>\n",
       "      <td>118.24%</td>\n",
       "      <td>-8.54%</td>\n",
       "    </tr>\n",
       "    <tr>\n",
       "      <th>PAR</th>\n",
       "      <td>1</td>\n",
       "      <td>-5.043478e-02</td>\n",
       "      <td>5.83%</td>\n",
       "      <td>41.04%</td>\n",
       "      <td>70.88%</td>\n",
       "    </tr>\n",
       "    <tr>\n",
       "      <th>MKTX</th>\n",
       "      <td>1</td>\n",
       "      <td>1.456522e-02</td>\n",
       "      <td>41.70%</td>\n",
       "      <td>77.62%</td>\n",
       "      <td>49.93%</td>\n",
       "    </tr>\n",
       "    <tr>\n",
       "      <th>7564.T</th>\n",
       "      <td>1</td>\n",
       "      <td>-5.093479e-01</td>\n",
       "      <td>27.26%</td>\n",
       "      <td>123.19%</td>\n",
       "      <td>18.42%</td>\n",
       "    </tr>\n",
       "    <tr>\n",
       "      <th>CENT</th>\n",
       "      <td>1</td>\n",
       "      <td>-1.000000e-02</td>\n",
       "      <td>28.73%</td>\n",
       "      <td>-5.64%</td>\n",
       "      <td>36.67%</td>\n",
       "    </tr>\n",
       "    <tr>\n",
       "      <th>4816.T</th>\n",
       "      <td>3</td>\n",
       "      <td>-4.347838e-04</td>\n",
       "      <td>21.38%</td>\n",
       "      <td>33.20%</td>\n",
       "      <td>39.47%</td>\n",
       "    </tr>\n",
       "    <tr>\n",
       "      <th>PAYC</th>\n",
       "      <td>1</td>\n",
       "      <td>-1.369565e-02</td>\n",
       "      <td>22.85%</td>\n",
       "      <td>69.71%</td>\n",
       "      <td>47.99%</td>\n",
       "    </tr>\n",
       "    <tr>\n",
       "      <th>VAR1.DE</th>\n",
       "      <td>1</td>\n",
       "      <td>1.781661e-09</td>\n",
       "      <td>57.57%</td>\n",
       "      <td>261.53%</td>\n",
       "      <td>32.91%</td>\n",
       "    </tr>\n",
       "    <tr>\n",
       "      <th>AOF.DE</th>\n",
       "      <td>1</td>\n",
       "      <td>-1.000000e-02</td>\n",
       "      <td>29.55%</td>\n",
       "      <td>79.41%</td>\n",
       "      <td>115.37%</td>\n",
       "    </tr>\n",
       "    <tr>\n",
       "      <th>FLGT</th>\n",
       "      <td>2</td>\n",
       "      <td>-3.956522e-02</td>\n",
       "      <td>47.67%</td>\n",
       "      <td>167.34%</td>\n",
       "      <td>289.41%</td>\n",
       "    </tr>\n",
       "    <tr>\n",
       "      <th>7832.T</th>\n",
       "      <td>1</td>\n",
       "      <td>6.521739e-03</td>\n",
       "      <td>21.55%</td>\n",
       "      <td>69.14%</td>\n",
       "      <td>15.79%</td>\n",
       "    </tr>\n",
       "    <tr>\n",
       "      <th>ITI</th>\n",
       "      <td>3</td>\n",
       "      <td>-1.695652e-02</td>\n",
       "      <td>28.29%</td>\n",
       "      <td>26.17%</td>\n",
       "      <td>-29.74%</td>\n",
       "    </tr>\n",
       "    <tr>\n",
       "      <th>2685.T</th>\n",
       "      <td>2</td>\n",
       "      <td>1.326087e-02</td>\n",
       "      <td>50.02%</td>\n",
       "      <td>49.31%</td>\n",
       "      <td>-30.06%</td>\n",
       "    </tr>\n",
       "    <tr>\n",
       "      <th>2733.T</th>\n",
       "      <td>1</td>\n",
       "      <td>2.608694e-03</td>\n",
       "      <td>46.34%</td>\n",
       "      <td>-20.01%</td>\n",
       "      <td>36.51%</td>\n",
       "    </tr>\n",
       "    <tr>\n",
       "      <th>NVDA</th>\n",
       "      <td>1</td>\n",
       "      <td>-7.391304e-03</td>\n",
       "      <td>20.48%</td>\n",
       "      <td>-3.33%</td>\n",
       "      <td>209.80%</td>\n",
       "    </tr>\n",
       "    <tr>\n",
       "      <th>9697.T</th>\n",
       "      <td>3</td>\n",
       "      <td>-6.086960e-03</td>\n",
       "      <td>39.03%</td>\n",
       "      <td>11.14%</td>\n",
       "      <td>102.53%</td>\n",
       "    </tr>\n",
       "    <tr>\n",
       "      <th>BVB.DE</th>\n",
       "      <td>1</td>\n",
       "      <td>2.586957e-02</td>\n",
       "      <td>34.48%</td>\n",
       "      <td>-10.30%</td>\n",
       "      <td>-43.42%</td>\n",
       "    </tr>\n",
       "    <tr>\n",
       "      <th>7508.T</th>\n",
       "      <td>2</td>\n",
       "      <td>1.956522e-03</td>\n",
       "      <td>8.75%</td>\n",
       "      <td>48.97%</td>\n",
       "      <td>72.08%</td>\n",
       "    </tr>\n",
       "    <tr>\n",
       "      <th>MITK</th>\n",
       "      <td>1</td>\n",
       "      <td>2.913044e-02</td>\n",
       "      <td>9.49%</td>\n",
       "      <td>4.09%</td>\n",
       "      <td>30.91%</td>\n",
       "    </tr>\n",
       "    <tr>\n",
       "      <th>2170.T</th>\n",
       "      <td>2</td>\n",
       "      <td>-2.021739e-02</td>\n",
       "      <td>33.19%</td>\n",
       "      <td>-46.71%</td>\n",
       "      <td>-26.60%</td>\n",
       "    </tr>\n",
       "    <tr>\n",
       "      <th>7780.T</th>\n",
       "      <td>1</td>\n",
       "      <td>6.521739e-03</td>\n",
       "      <td>47.56%</td>\n",
       "      <td>53.74%</td>\n",
       "      <td>86.15%</td>\n",
       "    </tr>\n",
       "    <tr>\n",
       "      <th>4549.T</th>\n",
       "      <td>1</td>\n",
       "      <td>1.152174e-02</td>\n",
       "      <td>34.51%</td>\n",
       "      <td>-30.88%</td>\n",
       "      <td>29.95%</td>\n",
       "    </tr>\n",
       "    <tr>\n",
       "      <th>EBF</th>\n",
       "      <td>1</td>\n",
       "      <td>-8.260870e-03</td>\n",
       "      <td>4.19%</td>\n",
       "      <td>5.85%</td>\n",
       "      <td>-10.73%</td>\n",
       "    </tr>\n",
       "    <tr>\n",
       "      <th>7458.T</th>\n",
       "      <td>1</td>\n",
       "      <td>-1.065217e-02</td>\n",
       "      <td>15.63%</td>\n",
       "      <td>1.43%</td>\n",
       "      <td>-31.61%</td>\n",
       "    </tr>\n",
       "    <tr>\n",
       "      <th>2124.T</th>\n",
       "      <td>3</td>\n",
       "      <td>-1.152174e-02</td>\n",
       "      <td>61.30%</td>\n",
       "      <td>2.69%</td>\n",
       "      <td>-32.69%</td>\n",
       "    </tr>\n",
       "    <tr>\n",
       "      <th>MPX</th>\n",
       "      <td>1</td>\n",
       "      <td>-5.217391e-03</td>\n",
       "      <td>19.27%</td>\n",
       "      <td>-31.47%</td>\n",
       "      <td>16.83%</td>\n",
       "    </tr>\n",
       "    <tr>\n",
       "      <th>3659.T</th>\n",
       "      <td>1</td>\n",
       "      <td>1.326087e-02</td>\n",
       "      <td>21.57%</td>\n",
       "      <td>-1.83%</td>\n",
       "      <td>105.09%</td>\n",
       "    </tr>\n",
       "    <tr>\n",
       "      <th>4218.T</th>\n",
       "      <td>1</td>\n",
       "      <td>-1.413043e-02</td>\n",
       "      <td>52.44%</td>\n",
       "      <td>-15.26%</td>\n",
       "      <td>5.34%</td>\n",
       "    </tr>\n",
       "    <tr>\n",
       "      <th>9470.T</th>\n",
       "      <td>1</td>\n",
       "      <td>9.565218e-03</td>\n",
       "      <td>18.88%</td>\n",
       "      <td>5.96%</td>\n",
       "      <td>22.39%</td>\n",
       "    </tr>\n",
       "    <tr>\n",
       "      <th>APLD</th>\n",
       "      <td>4</td>\n",
       "      <td>-3.260870e-03</td>\n",
       "      <td>55.13%</td>\n",
       "      <td>-6.98%</td>\n",
       "      <td>3.37%</td>\n",
       "    </tr>\n",
       "    <tr>\n",
       "      <th>ECV.DE</th>\n",
       "      <td>1</td>\n",
       "      <td>6.956521e-03</td>\n",
       "      <td>34.74%</td>\n",
       "      <td>55.18%</td>\n",
       "      <td>100.63%</td>\n",
       "    </tr>\n",
       "    <tr>\n",
       "      <th>2874.T</th>\n",
       "      <td>2</td>\n",
       "      <td>3.260870e-03</td>\n",
       "      <td>29.22%</td>\n",
       "      <td>22.31%</td>\n",
       "      <td>-10.26%</td>\n",
       "    </tr>\n",
       "    <tr>\n",
       "      <th>7944.T</th>\n",
       "      <td>14</td>\n",
       "      <td>-6.934782e-02</td>\n",
       "      <td>12.31%</td>\n",
       "      <td>-467.40%</td>\n",
       "      <td>876.44%</td>\n",
       "    </tr>\n",
       "    <tr>\n",
       "      <th>8141.T</th>\n",
       "      <td>1</td>\n",
       "      <td>3.043479e-03</td>\n",
       "      <td>26.61%</td>\n",
       "      <td>21.46%</td>\n",
       "      <td>2.18%</td>\n",
       "    </tr>\n",
       "    <tr>\n",
       "      <th>3050.T</th>\n",
       "      <td>2</td>\n",
       "      <td>6.521739e-03</td>\n",
       "      <td>5.79%</td>\n",
       "      <td>1.46%</td>\n",
       "      <td>40.24%</td>\n",
       "    </tr>\n",
       "    <tr>\n",
       "      <th>9143.T</th>\n",
       "      <td>1</td>\n",
       "      <td>-8.695653e-03</td>\n",
       "      <td>10.26%</td>\n",
       "      <td>-3.46%</td>\n",
       "      <td>111.16%</td>\n",
       "    </tr>\n",
       "    <tr>\n",
       "      <th>3635.T</th>\n",
       "      <td>1</td>\n",
       "      <td>1.304349e-03</td>\n",
       "      <td>16.44%</td>\n",
       "      <td>41.14%</td>\n",
       "      <td>119.76%</td>\n",
       "    </tr>\n",
       "    <tr>\n",
       "      <th>7906.T</th>\n",
       "      <td>1</td>\n",
       "      <td>-1.152174e-02</td>\n",
       "      <td>77.89%</td>\n",
       "      <td>-8.97%</td>\n",
       "      <td>19.54%</td>\n",
       "    </tr>\n",
       "    <tr>\n",
       "      <th>9434.T</th>\n",
       "      <td>1</td>\n",
       "      <td>3.260870e-03</td>\n",
       "      <td>111.44%</td>\n",
       "      <td>13.48%</td>\n",
       "      <td>-15.15%</td>\n",
       "    </tr>\n",
       "    <tr>\n",
       "      <th>O5G.DE</th>\n",
       "      <td>10</td>\n",
       "      <td>1.739131e-03</td>\n",
       "      <td>6.50%</td>\n",
       "      <td>-0.04%</td>\n",
       "      <td>-2.04%</td>\n",
       "    </tr>\n",
       "  </tbody>\n",
       "</table>\n",
       "</div>"
      ]
     },
     "execution_count": 623,
     "metadata": {},
     "output_type": "execute_result"
    }
   ],
   "execution_count": 623
  },
  {
   "metadata": {},
   "cell_type": "markdown",
   "source": "### LSTM Multivariate - 12 Months",
   "id": "f32c4b7502d9dfb9"
  },
  {
   "metadata": {},
   "cell_type": "markdown",
   "source": [
    "Get the known data (train data)\n",
    "After that, get the first 12 predicted months, or the first 12 predicted sequences of test data"
   ],
   "id": "466f499db0b4fd24"
  },
  {
   "metadata": {
    "ExecuteTime": {
     "end_time": "2025-06-09T10:26:51.546378Z",
     "start_time": "2025-06-08T16:41:06.073010Z"
    }
   },
   "cell_type": "code",
   "source": [
    "df_train = X_train[:, :, -1].clone()\n",
    "y_test_pred_12m = y_test_pred[0,:,:].T[0:12]\n",
    "y_test_pred_12m"
   ],
   "id": "1696162ee878eb39",
   "outputs": [
    {
     "data": {
      "text/plain": [
       "tensor([[ 0.0273,  0.0211,  0.0160,  ...,  0.0128,  0.0124,  0.0105],\n",
       "        [ 0.0326,  0.0303,  0.0268,  ...,  0.0251,  0.0289,  0.0272],\n",
       "        [-0.0419, -0.0217, -0.0053,  ...,  0.0214,  0.0150,  0.0159],\n",
       "        ...,\n",
       "        [ 0.0012,  0.0108,  0.0190,  ...,  0.0360,  0.0355,  0.0344],\n",
       "        [-0.0399, -0.0249, -0.0087,  ...,  0.0135,  0.0068,  0.0082],\n",
       "        [ 0.0559,  0.0430,  0.0331,  ...,  0.0204,  0.0225,  0.0214]])"
      ]
     },
     "execution_count": 624,
     "metadata": {},
     "output_type": "execute_result"
    }
   ],
   "execution_count": 624
  },
  {
   "metadata": {
    "ExecuteTime": {
     "end_time": "2025-06-09T10:26:51.546458Z",
     "start_time": "2025-06-08T16:41:06.114159Z"
    }
   },
   "cell_type": "code",
   "source": [
    "df_forecast_12m = pd.DataFrame(df_train.clone())\n",
    "df_forecast_12m = pd.concat([df_forecast_12m, pd.DataFrame(y_test_pred_12m)], ignore_index=True)\n",
    "# Assign back columns and indices to make human understandable\n",
    "df_forecast_12m.columns = df.columns\n",
    "df_forecast_12m.index = df_pct[(in_seq_length - 1) : len(df_forecast_12m) + (in_seq_length - 1)].index\n",
    "#\n",
    "df_forecast_12m.tail(3)"
   ],
   "id": "38062c6ef3ea54a6",
   "outputs": [
    {
     "data": {
      "text/plain": [
       "               RS1.L        KE    TEG.DE    LEG.DE       SCS       HNI  \\\n",
       "Date                                                                     \n",
       "2020-06-01  0.001188  0.010785  0.018987  0.025040  0.028092  0.031946   \n",
       "2020-07-01 -0.039887 -0.024872 -0.008746 -0.000071  0.006735  0.011793   \n",
       "2020-08-01  0.055871  0.042957  0.033094  0.027165  0.025988  0.023860   \n",
       "\n",
       "                 AVT      ACCO    VNA.DE    7912.T  ...    DEQ.DE      KIDS  \\\n",
       "Date                                                ...                       \n",
       "2020-06-01  0.032070  0.032770  0.035189  0.037047  ...  0.037735  0.037810   \n",
       "2020-07-01  0.008621  0.008596  0.013545  0.017165  ...  0.016548  0.021575   \n",
       "2020-08-01  0.022270  0.023676  0.019276  0.018502  ...  0.017106  0.020371   \n",
       "\n",
       "                HALO      MATW    9842.T      KVHI    MOON.L       NEO  \\\n",
       "Date                                                                     \n",
       "2020-06-01  0.035724  0.036210  0.037929  0.038319  0.039801  0.035975   \n",
       "2020-07-01  0.015906  0.020002  0.017800  0.018675  0.026460  0.013547   \n",
       "2020-08-01  0.021846  0.021464  0.018962  0.020853  0.018182  0.020366   \n",
       "\n",
       "              6055.T       UNP  \n",
       "Date                            \n",
       "2020-06-01  0.035510  0.034434  \n",
       "2020-07-01  0.006763  0.008164  \n",
       "2020-08-01  0.022524  0.021389  \n",
       "\n",
       "[3 rows x 1653 columns]"
      ],
      "text/html": [
       "<div>\n",
       "<style scoped>\n",
       "    .dataframe tbody tr th:only-of-type {\n",
       "        vertical-align: middle;\n",
       "    }\n",
       "\n",
       "    .dataframe tbody tr th {\n",
       "        vertical-align: top;\n",
       "    }\n",
       "\n",
       "    .dataframe thead th {\n",
       "        text-align: right;\n",
       "    }\n",
       "</style>\n",
       "<table border=\"1\" class=\"dataframe\">\n",
       "  <thead>\n",
       "    <tr style=\"text-align: right;\">\n",
       "      <th></th>\n",
       "      <th>RS1.L</th>\n",
       "      <th>KE</th>\n",
       "      <th>TEG.DE</th>\n",
       "      <th>LEG.DE</th>\n",
       "      <th>SCS</th>\n",
       "      <th>HNI</th>\n",
       "      <th>AVT</th>\n",
       "      <th>ACCO</th>\n",
       "      <th>VNA.DE</th>\n",
       "      <th>7912.T</th>\n",
       "      <th>...</th>\n",
       "      <th>DEQ.DE</th>\n",
       "      <th>KIDS</th>\n",
       "      <th>HALO</th>\n",
       "      <th>MATW</th>\n",
       "      <th>9842.T</th>\n",
       "      <th>KVHI</th>\n",
       "      <th>MOON.L</th>\n",
       "      <th>NEO</th>\n",
       "      <th>6055.T</th>\n",
       "      <th>UNP</th>\n",
       "    </tr>\n",
       "    <tr>\n",
       "      <th>Date</th>\n",
       "      <th></th>\n",
       "      <th></th>\n",
       "      <th></th>\n",
       "      <th></th>\n",
       "      <th></th>\n",
       "      <th></th>\n",
       "      <th></th>\n",
       "      <th></th>\n",
       "      <th></th>\n",
       "      <th></th>\n",
       "      <th></th>\n",
       "      <th></th>\n",
       "      <th></th>\n",
       "      <th></th>\n",
       "      <th></th>\n",
       "      <th></th>\n",
       "      <th></th>\n",
       "      <th></th>\n",
       "      <th></th>\n",
       "      <th></th>\n",
       "      <th></th>\n",
       "    </tr>\n",
       "  </thead>\n",
       "  <tbody>\n",
       "    <tr>\n",
       "      <th>2020-06-01</th>\n",
       "      <td>0.001188</td>\n",
       "      <td>0.010785</td>\n",
       "      <td>0.018987</td>\n",
       "      <td>0.025040</td>\n",
       "      <td>0.028092</td>\n",
       "      <td>0.031946</td>\n",
       "      <td>0.032070</td>\n",
       "      <td>0.032770</td>\n",
       "      <td>0.035189</td>\n",
       "      <td>0.037047</td>\n",
       "      <td>...</td>\n",
       "      <td>0.037735</td>\n",
       "      <td>0.037810</td>\n",
       "      <td>0.035724</td>\n",
       "      <td>0.036210</td>\n",
       "      <td>0.037929</td>\n",
       "      <td>0.038319</td>\n",
       "      <td>0.039801</td>\n",
       "      <td>0.035975</td>\n",
       "      <td>0.035510</td>\n",
       "      <td>0.034434</td>\n",
       "    </tr>\n",
       "    <tr>\n",
       "      <th>2020-07-01</th>\n",
       "      <td>-0.039887</td>\n",
       "      <td>-0.024872</td>\n",
       "      <td>-0.008746</td>\n",
       "      <td>-0.000071</td>\n",
       "      <td>0.006735</td>\n",
       "      <td>0.011793</td>\n",
       "      <td>0.008621</td>\n",
       "      <td>0.008596</td>\n",
       "      <td>0.013545</td>\n",
       "      <td>0.017165</td>\n",
       "      <td>...</td>\n",
       "      <td>0.016548</td>\n",
       "      <td>0.021575</td>\n",
       "      <td>0.015906</td>\n",
       "      <td>0.020002</td>\n",
       "      <td>0.017800</td>\n",
       "      <td>0.018675</td>\n",
       "      <td>0.026460</td>\n",
       "      <td>0.013547</td>\n",
       "      <td>0.006763</td>\n",
       "      <td>0.008164</td>\n",
       "    </tr>\n",
       "    <tr>\n",
       "      <th>2020-08-01</th>\n",
       "      <td>0.055871</td>\n",
       "      <td>0.042957</td>\n",
       "      <td>0.033094</td>\n",
       "      <td>0.027165</td>\n",
       "      <td>0.025988</td>\n",
       "      <td>0.023860</td>\n",
       "      <td>0.022270</td>\n",
       "      <td>0.023676</td>\n",
       "      <td>0.019276</td>\n",
       "      <td>0.018502</td>\n",
       "      <td>...</td>\n",
       "      <td>0.017106</td>\n",
       "      <td>0.020371</td>\n",
       "      <td>0.021846</td>\n",
       "      <td>0.021464</td>\n",
       "      <td>0.018962</td>\n",
       "      <td>0.020853</td>\n",
       "      <td>0.018182</td>\n",
       "      <td>0.020366</td>\n",
       "      <td>0.022524</td>\n",
       "      <td>0.021389</td>\n",
       "    </tr>\n",
       "  </tbody>\n",
       "</table>\n",
       "<p>3 rows × 1653 columns</p>\n",
       "</div>"
      ]
     },
     "execution_count": 625,
     "metadata": {},
     "output_type": "execute_result"
    }
   ],
   "execution_count": 625
  },
  {
   "metadata": {
    "ExecuteTime": {
     "end_time": "2025-06-09T10:26:51.546668Z",
     "start_time": "2025-06-08T16:41:06.188874Z"
    }
   },
   "cell_type": "code",
   "source": [
    "importlib.reload(lstm_utils)\n",
    "importlib.reload(mpt_utils)\n",
    "\n",
    "weights_12m, mu_12m, S_12m, allocations_12m = mpt_utils.portfolio_and_plot(df_forecast_12m, df)"
   ],
   "id": "8558fe3a04872818",
   "outputs": [
    {
     "name": "stdout",
     "output_type": "stream",
     "text": [
      "Expected annual return: 27.6%\n",
      "Annual volatility: 15.6%\n",
      "Sharpe Ratio: 1.64\n",
      "-- Allocation --\n",
      "{'TAL': 1, 'TPE.DE': 2, 'SLP': 1, '2471.T': 1, '7575.T': 1, 'PAR': 1, 'BURL': 1, 'MKTX': 1, 'PLUS.L': 1, 'ADUS': 1, 'RGLD': 1, 'NSSC': 1, 'PSDL.L': 1, 'AMD': 1, 'AWK': 1, '4816.T': 3, '7780.T': 1, 'BVB.DE': 2, 'FLGT': 2, '2170.T': 3, 'LOVE': 3, '7947.T': 1, 'IOT': 1, 'APLD': 6, 'MITK': 1, '6814.T': 5, '4549.T': 2, '7458.T': 2, '3050.T': 4, 'IVAC': 6, 'BFSA.DE': 1, '9143.T': 3, 'MPX': 1, '9470.T': 1, 'EVLV': 7, 'EBF': 1, 'PWSC': 1, 'ENR.DE': 2, '9697.T': 2, 'AGNC': 2, '9434.T': 2, '2124.T': 3, 'CRSR': 2, '7944.T': 16, 'FBRT': 1, 'UDMY': 1, '9831.T': 5, '4751.T': 1, '2685.T': 1, 'THRY': 1, 'ACEL': 1, '3151.T': 1, 'DOLE': 1, '8141.T': 1, 'LAUR': 1, 'RNW': 1, 'LSEA': 1, 'MIR': 1, 'XPER': 1, 'INS.DE': 1, 'ARHS': 1, '2874.T': 1, 'ALIT': 1}\n",
      "-- Weights Percentage --\n",
      "{'RGLD': 0.0297, 'MKTX': 0.0317, 'AMD': 0.0268, '7780.T': 0.0248, 'BVB.DE': 0.0225, 'NSSC': 0.0274, 'BURL': 0.0346, 'PSDL.L': 0.0271, 'TPE.DE': 0.0415, 'PAR': 0.035, 'SLP': 0.0412, '4816.T': 0.0252, '7575.T': 0.0376, 'TAL': 0.0428, 'FLGT': 0.0216, 'ADUS': 0.0307, 'AWK': 0.0265, 'PLUS.L': 0.0307, '2471.T': 0.0379, 'Other(44)': 0.4048}\n"
     ]
    },
    {
     "name": "stderr",
     "output_type": "stream",
     "text": [
      "/Users/herbishtini/anaconda3/envs/portfolio_optimisation/lib/python3.11/site-packages/pypfopt/discrete_allocation.py:27: FutureWarning:\n",
      "\n",
      "Downcasting object dtype arrays on .fillna, .ffill, .bfill is deprecated and will change in a future version. Call result.infer_objects(copy=False) instead. To opt-in to the future behavior, set `pd.set_option('future.no_silent_downcasting', True)`\n",
      "\n"
     ]
    },
    {
     "data": {
      "application/vnd.plotly.v1+json": {
       "data": [
        {
         "hole": 0.3,
         "insidetextorientation": "radial",
         "labels": [
          "RGLD",
          "MKTX",
          "AMD",
          "7780.T",
          "BVB.DE",
          "NSSC",
          "BURL",
          "PSDL.L",
          "TPE.DE",
          "PAR",
          "SLP",
          "4816.T",
          "7575.T",
          "TAL",
          "FLGT",
          "ADUS",
          "AWK",
          "PLUS.L",
          "2471.T",
          "Other(44)"
         ],
         "textinfo": "label+percent",
         "textposition": "inside",
         "values": [
          0.0091,
          0.0097,
          0.0082,
          0.0076,
          0.0069,
          0.0084,
          0.0106,
          0.0083,
          0.0127,
          0.0107,
          0.0126,
          0.0077,
          0.0115,
          0.0131,
          0.0066,
          0.0094,
          0.0081,
          0.0094,
          0.0116,
          0.1239
         ],
         "type": "pie"
        }
       ],
       "layout": {
        "template": {
         "data": {
          "histogram2dcontour": [
           {
            "type": "histogram2dcontour",
            "colorbar": {
             "outlinewidth": 0,
             "ticks": ""
            },
            "colorscale": [
             [
              0.0,
              "#0d0887"
             ],
             [
              0.1111111111111111,
              "#46039f"
             ],
             [
              0.2222222222222222,
              "#7201a8"
             ],
             [
              0.3333333333333333,
              "#9c179e"
             ],
             [
              0.4444444444444444,
              "#bd3786"
             ],
             [
              0.5555555555555556,
              "#d8576b"
             ],
             [
              0.6666666666666666,
              "#ed7953"
             ],
             [
              0.7777777777777778,
              "#fb9f3a"
             ],
             [
              0.8888888888888888,
              "#fdca26"
             ],
             [
              1.0,
              "#f0f921"
             ]
            ]
           }
          ],
          "choropleth": [
           {
            "type": "choropleth",
            "colorbar": {
             "outlinewidth": 0,
             "ticks": ""
            }
           }
          ],
          "histogram2d": [
           {
            "type": "histogram2d",
            "colorbar": {
             "outlinewidth": 0,
             "ticks": ""
            },
            "colorscale": [
             [
              0.0,
              "#0d0887"
             ],
             [
              0.1111111111111111,
              "#46039f"
             ],
             [
              0.2222222222222222,
              "#7201a8"
             ],
             [
              0.3333333333333333,
              "#9c179e"
             ],
             [
              0.4444444444444444,
              "#bd3786"
             ],
             [
              0.5555555555555556,
              "#d8576b"
             ],
             [
              0.6666666666666666,
              "#ed7953"
             ],
             [
              0.7777777777777778,
              "#fb9f3a"
             ],
             [
              0.8888888888888888,
              "#fdca26"
             ],
             [
              1.0,
              "#f0f921"
             ]
            ]
           }
          ],
          "heatmap": [
           {
            "type": "heatmap",
            "colorbar": {
             "outlinewidth": 0,
             "ticks": ""
            },
            "colorscale": [
             [
              0.0,
              "#0d0887"
             ],
             [
              0.1111111111111111,
              "#46039f"
             ],
             [
              0.2222222222222222,
              "#7201a8"
             ],
             [
              0.3333333333333333,
              "#9c179e"
             ],
             [
              0.4444444444444444,
              "#bd3786"
             ],
             [
              0.5555555555555556,
              "#d8576b"
             ],
             [
              0.6666666666666666,
              "#ed7953"
             ],
             [
              0.7777777777777778,
              "#fb9f3a"
             ],
             [
              0.8888888888888888,
              "#fdca26"
             ],
             [
              1.0,
              "#f0f921"
             ]
            ]
           }
          ],
          "heatmapgl": [
           {
            "type": "heatmapgl",
            "colorbar": {
             "outlinewidth": 0,
             "ticks": ""
            },
            "colorscale": [
             [
              0.0,
              "#0d0887"
             ],
             [
              0.1111111111111111,
              "#46039f"
             ],
             [
              0.2222222222222222,
              "#7201a8"
             ],
             [
              0.3333333333333333,
              "#9c179e"
             ],
             [
              0.4444444444444444,
              "#bd3786"
             ],
             [
              0.5555555555555556,
              "#d8576b"
             ],
             [
              0.6666666666666666,
              "#ed7953"
             ],
             [
              0.7777777777777778,
              "#fb9f3a"
             ],
             [
              0.8888888888888888,
              "#fdca26"
             ],
             [
              1.0,
              "#f0f921"
             ]
            ]
           }
          ],
          "contourcarpet": [
           {
            "type": "contourcarpet",
            "colorbar": {
             "outlinewidth": 0,
             "ticks": ""
            }
           }
          ],
          "contour": [
           {
            "type": "contour",
            "colorbar": {
             "outlinewidth": 0,
             "ticks": ""
            },
            "colorscale": [
             [
              0.0,
              "#0d0887"
             ],
             [
              0.1111111111111111,
              "#46039f"
             ],
             [
              0.2222222222222222,
              "#7201a8"
             ],
             [
              0.3333333333333333,
              "#9c179e"
             ],
             [
              0.4444444444444444,
              "#bd3786"
             ],
             [
              0.5555555555555556,
              "#d8576b"
             ],
             [
              0.6666666666666666,
              "#ed7953"
             ],
             [
              0.7777777777777778,
              "#fb9f3a"
             ],
             [
              0.8888888888888888,
              "#fdca26"
             ],
             [
              1.0,
              "#f0f921"
             ]
            ]
           }
          ],
          "surface": [
           {
            "type": "surface",
            "colorbar": {
             "outlinewidth": 0,
             "ticks": ""
            },
            "colorscale": [
             [
              0.0,
              "#0d0887"
             ],
             [
              0.1111111111111111,
              "#46039f"
             ],
             [
              0.2222222222222222,
              "#7201a8"
             ],
             [
              0.3333333333333333,
              "#9c179e"
             ],
             [
              0.4444444444444444,
              "#bd3786"
             ],
             [
              0.5555555555555556,
              "#d8576b"
             ],
             [
              0.6666666666666666,
              "#ed7953"
             ],
             [
              0.7777777777777778,
              "#fb9f3a"
             ],
             [
              0.8888888888888888,
              "#fdca26"
             ],
             [
              1.0,
              "#f0f921"
             ]
            ]
           }
          ],
          "mesh3d": [
           {
            "type": "mesh3d",
            "colorbar": {
             "outlinewidth": 0,
             "ticks": ""
            }
           }
          ],
          "scatter": [
           {
            "marker": {
             "line": {
              "color": "#283442"
             }
            },
            "type": "scatter"
           }
          ],
          "parcoords": [
           {
            "type": "parcoords",
            "line": {
             "colorbar": {
              "outlinewidth": 0,
              "ticks": ""
             }
            }
           }
          ],
          "scatterpolargl": [
           {
            "type": "scatterpolargl",
            "marker": {
             "colorbar": {
              "outlinewidth": 0,
              "ticks": ""
             }
            }
           }
          ],
          "bar": [
           {
            "error_x": {
             "color": "#f2f5fa"
            },
            "error_y": {
             "color": "#f2f5fa"
            },
            "marker": {
             "line": {
              "color": "rgb(17,17,17)",
              "width": 0.5
             },
             "pattern": {
              "fillmode": "overlay",
              "size": 10,
              "solidity": 0.2
             }
            },
            "type": "bar"
           }
          ],
          "scattergeo": [
           {
            "type": "scattergeo",
            "marker": {
             "colorbar": {
              "outlinewidth": 0,
              "ticks": ""
             }
            }
           }
          ],
          "scatterpolar": [
           {
            "type": "scatterpolar",
            "marker": {
             "colorbar": {
              "outlinewidth": 0,
              "ticks": ""
             }
            }
           }
          ],
          "histogram": [
           {
            "marker": {
             "pattern": {
              "fillmode": "overlay",
              "size": 10,
              "solidity": 0.2
             }
            },
            "type": "histogram"
           }
          ],
          "scattergl": [
           {
            "marker": {
             "line": {
              "color": "#283442"
             }
            },
            "type": "scattergl"
           }
          ],
          "scatter3d": [
           {
            "type": "scatter3d",
            "line": {
             "colorbar": {
              "outlinewidth": 0,
              "ticks": ""
             }
            },
            "marker": {
             "colorbar": {
              "outlinewidth": 0,
              "ticks": ""
             }
            }
           }
          ],
          "scattermapbox": [
           {
            "type": "scattermapbox",
            "marker": {
             "colorbar": {
              "outlinewidth": 0,
              "ticks": ""
             }
            }
           }
          ],
          "scatterternary": [
           {
            "type": "scatterternary",
            "marker": {
             "colorbar": {
              "outlinewidth": 0,
              "ticks": ""
             }
            }
           }
          ],
          "scattercarpet": [
           {
            "type": "scattercarpet",
            "marker": {
             "colorbar": {
              "outlinewidth": 0,
              "ticks": ""
             }
            }
           }
          ],
          "carpet": [
           {
            "aaxis": {
             "endlinecolor": "#A2B1C6",
             "gridcolor": "#506784",
             "linecolor": "#506784",
             "minorgridcolor": "#506784",
             "startlinecolor": "#A2B1C6"
            },
            "baxis": {
             "endlinecolor": "#A2B1C6",
             "gridcolor": "#506784",
             "linecolor": "#506784",
             "minorgridcolor": "#506784",
             "startlinecolor": "#A2B1C6"
            },
            "type": "carpet"
           }
          ],
          "table": [
           {
            "cells": {
             "fill": {
              "color": "#506784"
             },
             "line": {
              "color": "rgb(17,17,17)"
             }
            },
            "header": {
             "fill": {
              "color": "#2a3f5f"
             },
             "line": {
              "color": "rgb(17,17,17)"
             }
            },
            "type": "table"
           }
          ],
          "barpolar": [
           {
            "marker": {
             "line": {
              "color": "rgb(17,17,17)",
              "width": 0.5
             },
             "pattern": {
              "fillmode": "overlay",
              "size": 10,
              "solidity": 0.2
             }
            },
            "type": "barpolar"
           }
          ],
          "pie": [
           {
            "automargin": true,
            "type": "pie"
           }
          ]
         },
         "layout": {
          "autotypenumbers": "strict",
          "colorway": [
           "#636efa",
           "#EF553B",
           "#00cc96",
           "#ab63fa",
           "#FFA15A",
           "#19d3f3",
           "#FF6692",
           "#B6E880",
           "#FF97FF",
           "#FECB52"
          ],
          "font": {
           "color": "#f2f5fa"
          },
          "hovermode": "closest",
          "hoverlabel": {
           "align": "left"
          },
          "paper_bgcolor": "rgb(17,17,17)",
          "plot_bgcolor": "rgb(17,17,17)",
          "polar": {
           "bgcolor": "rgb(17,17,17)",
           "angularaxis": {
            "gridcolor": "#506784",
            "linecolor": "#506784",
            "ticks": ""
           },
           "radialaxis": {
            "gridcolor": "#506784",
            "linecolor": "#506784",
            "ticks": ""
           }
          },
          "ternary": {
           "bgcolor": "rgb(17,17,17)",
           "aaxis": {
            "gridcolor": "#506784",
            "linecolor": "#506784",
            "ticks": ""
           },
           "baxis": {
            "gridcolor": "#506784",
            "linecolor": "#506784",
            "ticks": ""
           },
           "caxis": {
            "gridcolor": "#506784",
            "linecolor": "#506784",
            "ticks": ""
           }
          },
          "coloraxis": {
           "colorbar": {
            "outlinewidth": 0,
            "ticks": ""
           }
          },
          "colorscale": {
           "sequential": [
            [
             0.0,
             "#0d0887"
            ],
            [
             0.1111111111111111,
             "#46039f"
            ],
            [
             0.2222222222222222,
             "#7201a8"
            ],
            [
             0.3333333333333333,
             "#9c179e"
            ],
            [
             0.4444444444444444,
             "#bd3786"
            ],
            [
             0.5555555555555556,
             "#d8576b"
            ],
            [
             0.6666666666666666,
             "#ed7953"
            ],
            [
             0.7777777777777778,
             "#fb9f3a"
            ],
            [
             0.8888888888888888,
             "#fdca26"
            ],
            [
             1.0,
             "#f0f921"
            ]
           ],
           "sequentialminus": [
            [
             0.0,
             "#0d0887"
            ],
            [
             0.1111111111111111,
             "#46039f"
            ],
            [
             0.2222222222222222,
             "#7201a8"
            ],
            [
             0.3333333333333333,
             "#9c179e"
            ],
            [
             0.4444444444444444,
             "#bd3786"
            ],
            [
             0.5555555555555556,
             "#d8576b"
            ],
            [
             0.6666666666666666,
             "#ed7953"
            ],
            [
             0.7777777777777778,
             "#fb9f3a"
            ],
            [
             0.8888888888888888,
             "#fdca26"
            ],
            [
             1.0,
             "#f0f921"
            ]
           ],
           "diverging": [
            [
             0,
             "#8e0152"
            ],
            [
             0.1,
             "#c51b7d"
            ],
            [
             0.2,
             "#de77ae"
            ],
            [
             0.3,
             "#f1b6da"
            ],
            [
             0.4,
             "#fde0ef"
            ],
            [
             0.5,
             "#f7f7f7"
            ],
            [
             0.6,
             "#e6f5d0"
            ],
            [
             0.7,
             "#b8e186"
            ],
            [
             0.8,
             "#7fbc41"
            ],
            [
             0.9,
             "#4d9221"
            ],
            [
             1,
             "#276419"
            ]
           ]
          },
          "xaxis": {
           "gridcolor": "#283442",
           "linecolor": "#506784",
           "ticks": "",
           "title": {
            "standoff": 15
           },
           "zerolinecolor": "#283442",
           "automargin": true,
           "zerolinewidth": 2
          },
          "yaxis": {
           "gridcolor": "#283442",
           "linecolor": "#506784",
           "ticks": "",
           "title": {
            "standoff": 15
           },
           "zerolinecolor": "#283442",
           "automargin": true,
           "zerolinewidth": 2
          },
          "scene": {
           "xaxis": {
            "backgroundcolor": "rgb(17,17,17)",
            "gridcolor": "#506784",
            "linecolor": "#506784",
            "showbackground": true,
            "ticks": "",
            "zerolinecolor": "#C8D4E3",
            "gridwidth": 2
           },
           "yaxis": {
            "backgroundcolor": "rgb(17,17,17)",
            "gridcolor": "#506784",
            "linecolor": "#506784",
            "showbackground": true,
            "ticks": "",
            "zerolinecolor": "#C8D4E3",
            "gridwidth": 2
           },
           "zaxis": {
            "backgroundcolor": "rgb(17,17,17)",
            "gridcolor": "#506784",
            "linecolor": "#506784",
            "showbackground": true,
            "ticks": "",
            "zerolinecolor": "#C8D4E3",
            "gridwidth": 2
           }
          },
          "shapedefaults": {
           "line": {
            "color": "#f2f5fa"
           }
          },
          "annotationdefaults": {
           "arrowcolor": "#f2f5fa",
           "arrowhead": 0,
           "arrowwidth": 1
          },
          "geo": {
           "bgcolor": "rgb(17,17,17)",
           "landcolor": "rgb(17,17,17)",
           "subunitcolor": "#506784",
           "showland": true,
           "showlakes": true,
           "lakecolor": "rgb(17,17,17)"
          },
          "title": {
           "x": 0.05
          },
          "updatemenudefaults": {
           "bgcolor": "#506784",
           "borderwidth": 0
          },
          "sliderdefaults": {
           "bgcolor": "#C8D4E3",
           "borderwidth": 1,
           "bordercolor": "rgb(17,17,17)",
           "tickwidth": 0
          },
          "mapbox": {
           "style": "dark"
          }
         }
        },
        "margin": {
         "l": 20,
         "r": 20,
         "t": 20,
         "b": 20
        },
        "font": {
         "color": "black"
        },
        "height": 600,
        "width": 600,
        "paper_bgcolor": "white",
        "plot_bgcolor": "white",
        "showlegend": false
       },
       "config": {
        "plotlyServerURL": "https://plot.ly"
       }
      },
      "text/html": [
       "<div>                            <div id=\"11b697be-715a-49dc-a6c0-56fd6baae4c0\" class=\"plotly-graph-div\" style=\"height:600px; width:600px;\"></div>            <script type=\"text/javascript\">                require([\"plotly\"], function(Plotly) {                    window.PLOTLYENV=window.PLOTLYENV || {};                                    if (document.getElementById(\"11b697be-715a-49dc-a6c0-56fd6baae4c0\")) {                    Plotly.newPlot(                        \"11b697be-715a-49dc-a6c0-56fd6baae4c0\",                        [{\"hole\":0.3,\"insidetextorientation\":\"radial\",\"labels\":[\"RGLD\",\"MKTX\",\"AMD\",\"7780.T\",\"BVB.DE\",\"NSSC\",\"BURL\",\"PSDL.L\",\"TPE.DE\",\"PAR\",\"SLP\",\"4816.T\",\"7575.T\",\"TAL\",\"FLGT\",\"ADUS\",\"AWK\",\"PLUS.L\",\"2471.T\",\"Other(44)\"],\"textinfo\":\"label+percent\",\"textposition\":\"inside\",\"values\":[0.0091,0.0097,0.0082,0.0076,0.0069,0.0084,0.0106,0.0083,0.0127,0.0107,0.0126,0.0077,0.0115,0.0131,0.0066,0.0094,0.0081,0.0094,0.0116,0.1239],\"type\":\"pie\"}],                        {\"template\":{\"data\":{\"histogram2dcontour\":[{\"type\":\"histogram2dcontour\",\"colorbar\":{\"outlinewidth\":0,\"ticks\":\"\"},\"colorscale\":[[0.0,\"#0d0887\"],[0.1111111111111111,\"#46039f\"],[0.2222222222222222,\"#7201a8\"],[0.3333333333333333,\"#9c179e\"],[0.4444444444444444,\"#bd3786\"],[0.5555555555555556,\"#d8576b\"],[0.6666666666666666,\"#ed7953\"],[0.7777777777777778,\"#fb9f3a\"],[0.8888888888888888,\"#fdca26\"],[1.0,\"#f0f921\"]]}],\"choropleth\":[{\"type\":\"choropleth\",\"colorbar\":{\"outlinewidth\":0,\"ticks\":\"\"}}],\"histogram2d\":[{\"type\":\"histogram2d\",\"colorbar\":{\"outlinewidth\":0,\"ticks\":\"\"},\"colorscale\":[[0.0,\"#0d0887\"],[0.1111111111111111,\"#46039f\"],[0.2222222222222222,\"#7201a8\"],[0.3333333333333333,\"#9c179e\"],[0.4444444444444444,\"#bd3786\"],[0.5555555555555556,\"#d8576b\"],[0.6666666666666666,\"#ed7953\"],[0.7777777777777778,\"#fb9f3a\"],[0.8888888888888888,\"#fdca26\"],[1.0,\"#f0f921\"]]}],\"heatmap\":[{\"type\":\"heatmap\",\"colorbar\":{\"outlinewidth\":0,\"ticks\":\"\"},\"colorscale\":[[0.0,\"#0d0887\"],[0.1111111111111111,\"#46039f\"],[0.2222222222222222,\"#7201a8\"],[0.3333333333333333,\"#9c179e\"],[0.4444444444444444,\"#bd3786\"],[0.5555555555555556,\"#d8576b\"],[0.6666666666666666,\"#ed7953\"],[0.7777777777777778,\"#fb9f3a\"],[0.8888888888888888,\"#fdca26\"],[1.0,\"#f0f921\"]]}],\"heatmapgl\":[{\"type\":\"heatmapgl\",\"colorbar\":{\"outlinewidth\":0,\"ticks\":\"\"},\"colorscale\":[[0.0,\"#0d0887\"],[0.1111111111111111,\"#46039f\"],[0.2222222222222222,\"#7201a8\"],[0.3333333333333333,\"#9c179e\"],[0.4444444444444444,\"#bd3786\"],[0.5555555555555556,\"#d8576b\"],[0.6666666666666666,\"#ed7953\"],[0.7777777777777778,\"#fb9f3a\"],[0.8888888888888888,\"#fdca26\"],[1.0,\"#f0f921\"]]}],\"contourcarpet\":[{\"type\":\"contourcarpet\",\"colorbar\":{\"outlinewidth\":0,\"ticks\":\"\"}}],\"contour\":[{\"type\":\"contour\",\"colorbar\":{\"outlinewidth\":0,\"ticks\":\"\"},\"colorscale\":[[0.0,\"#0d0887\"],[0.1111111111111111,\"#46039f\"],[0.2222222222222222,\"#7201a8\"],[0.3333333333333333,\"#9c179e\"],[0.4444444444444444,\"#bd3786\"],[0.5555555555555556,\"#d8576b\"],[0.6666666666666666,\"#ed7953\"],[0.7777777777777778,\"#fb9f3a\"],[0.8888888888888888,\"#fdca26\"],[1.0,\"#f0f921\"]]}],\"surface\":[{\"type\":\"surface\",\"colorbar\":{\"outlinewidth\":0,\"ticks\":\"\"},\"colorscale\":[[0.0,\"#0d0887\"],[0.1111111111111111,\"#46039f\"],[0.2222222222222222,\"#7201a8\"],[0.3333333333333333,\"#9c179e\"],[0.4444444444444444,\"#bd3786\"],[0.5555555555555556,\"#d8576b\"],[0.6666666666666666,\"#ed7953\"],[0.7777777777777778,\"#fb9f3a\"],[0.8888888888888888,\"#fdca26\"],[1.0,\"#f0f921\"]]}],\"mesh3d\":[{\"type\":\"mesh3d\",\"colorbar\":{\"outlinewidth\":0,\"ticks\":\"\"}}],\"scatter\":[{\"marker\":{\"line\":{\"color\":\"#283442\"}},\"type\":\"scatter\"}],\"parcoords\":[{\"type\":\"parcoords\",\"line\":{\"colorbar\":{\"outlinewidth\":0,\"ticks\":\"\"}}}],\"scatterpolargl\":[{\"type\":\"scatterpolargl\",\"marker\":{\"colorbar\":{\"outlinewidth\":0,\"ticks\":\"\"}}}],\"bar\":[{\"error_x\":{\"color\":\"#f2f5fa\"},\"error_y\":{\"color\":\"#f2f5fa\"},\"marker\":{\"line\":{\"color\":\"rgb(17,17,17)\",\"width\":0.5},\"pattern\":{\"fillmode\":\"overlay\",\"size\":10,\"solidity\":0.2}},\"type\":\"bar\"}],\"scattergeo\":[{\"type\":\"scattergeo\",\"marker\":{\"colorbar\":{\"outlinewidth\":0,\"ticks\":\"\"}}}],\"scatterpolar\":[{\"type\":\"scatterpolar\",\"marker\":{\"colorbar\":{\"outlinewidth\":0,\"ticks\":\"\"}}}],\"histogram\":[{\"marker\":{\"pattern\":{\"fillmode\":\"overlay\",\"size\":10,\"solidity\":0.2}},\"type\":\"histogram\"}],\"scattergl\":[{\"marker\":{\"line\":{\"color\":\"#283442\"}},\"type\":\"scattergl\"}],\"scatter3d\":[{\"type\":\"scatter3d\",\"line\":{\"colorbar\":{\"outlinewidth\":0,\"ticks\":\"\"}},\"marker\":{\"colorbar\":{\"outlinewidth\":0,\"ticks\":\"\"}}}],\"scattermapbox\":[{\"type\":\"scattermapbox\",\"marker\":{\"colorbar\":{\"outlinewidth\":0,\"ticks\":\"\"}}}],\"scatterternary\":[{\"type\":\"scatterternary\",\"marker\":{\"colorbar\":{\"outlinewidth\":0,\"ticks\":\"\"}}}],\"scattercarpet\":[{\"type\":\"scattercarpet\",\"marker\":{\"colorbar\":{\"outlinewidth\":0,\"ticks\":\"\"}}}],\"carpet\":[{\"aaxis\":{\"endlinecolor\":\"#A2B1C6\",\"gridcolor\":\"#506784\",\"linecolor\":\"#506784\",\"minorgridcolor\":\"#506784\",\"startlinecolor\":\"#A2B1C6\"},\"baxis\":{\"endlinecolor\":\"#A2B1C6\",\"gridcolor\":\"#506784\",\"linecolor\":\"#506784\",\"minorgridcolor\":\"#506784\",\"startlinecolor\":\"#A2B1C6\"},\"type\":\"carpet\"}],\"table\":[{\"cells\":{\"fill\":{\"color\":\"#506784\"},\"line\":{\"color\":\"rgb(17,17,17)\"}},\"header\":{\"fill\":{\"color\":\"#2a3f5f\"},\"line\":{\"color\":\"rgb(17,17,17)\"}},\"type\":\"table\"}],\"barpolar\":[{\"marker\":{\"line\":{\"color\":\"rgb(17,17,17)\",\"width\":0.5},\"pattern\":{\"fillmode\":\"overlay\",\"size\":10,\"solidity\":0.2}},\"type\":\"barpolar\"}],\"pie\":[{\"automargin\":true,\"type\":\"pie\"}]},\"layout\":{\"autotypenumbers\":\"strict\",\"colorway\":[\"#636efa\",\"#EF553B\",\"#00cc96\",\"#ab63fa\",\"#FFA15A\",\"#19d3f3\",\"#FF6692\",\"#B6E880\",\"#FF97FF\",\"#FECB52\"],\"font\":{\"color\":\"#f2f5fa\"},\"hovermode\":\"closest\",\"hoverlabel\":{\"align\":\"left\"},\"paper_bgcolor\":\"rgb(17,17,17)\",\"plot_bgcolor\":\"rgb(17,17,17)\",\"polar\":{\"bgcolor\":\"rgb(17,17,17)\",\"angularaxis\":{\"gridcolor\":\"#506784\",\"linecolor\":\"#506784\",\"ticks\":\"\"},\"radialaxis\":{\"gridcolor\":\"#506784\",\"linecolor\":\"#506784\",\"ticks\":\"\"}},\"ternary\":{\"bgcolor\":\"rgb(17,17,17)\",\"aaxis\":{\"gridcolor\":\"#506784\",\"linecolor\":\"#506784\",\"ticks\":\"\"},\"baxis\":{\"gridcolor\":\"#506784\",\"linecolor\":\"#506784\",\"ticks\":\"\"},\"caxis\":{\"gridcolor\":\"#506784\",\"linecolor\":\"#506784\",\"ticks\":\"\"}},\"coloraxis\":{\"colorbar\":{\"outlinewidth\":0,\"ticks\":\"\"}},\"colorscale\":{\"sequential\":[[0.0,\"#0d0887\"],[0.1111111111111111,\"#46039f\"],[0.2222222222222222,\"#7201a8\"],[0.3333333333333333,\"#9c179e\"],[0.4444444444444444,\"#bd3786\"],[0.5555555555555556,\"#d8576b\"],[0.6666666666666666,\"#ed7953\"],[0.7777777777777778,\"#fb9f3a\"],[0.8888888888888888,\"#fdca26\"],[1.0,\"#f0f921\"]],\"sequentialminus\":[[0.0,\"#0d0887\"],[0.1111111111111111,\"#46039f\"],[0.2222222222222222,\"#7201a8\"],[0.3333333333333333,\"#9c179e\"],[0.4444444444444444,\"#bd3786\"],[0.5555555555555556,\"#d8576b\"],[0.6666666666666666,\"#ed7953\"],[0.7777777777777778,\"#fb9f3a\"],[0.8888888888888888,\"#fdca26\"],[1.0,\"#f0f921\"]],\"diverging\":[[0,\"#8e0152\"],[0.1,\"#c51b7d\"],[0.2,\"#de77ae\"],[0.3,\"#f1b6da\"],[0.4,\"#fde0ef\"],[0.5,\"#f7f7f7\"],[0.6,\"#e6f5d0\"],[0.7,\"#b8e186\"],[0.8,\"#7fbc41\"],[0.9,\"#4d9221\"],[1,\"#276419\"]]},\"xaxis\":{\"gridcolor\":\"#283442\",\"linecolor\":\"#506784\",\"ticks\":\"\",\"title\":{\"standoff\":15},\"zerolinecolor\":\"#283442\",\"automargin\":true,\"zerolinewidth\":2},\"yaxis\":{\"gridcolor\":\"#283442\",\"linecolor\":\"#506784\",\"ticks\":\"\",\"title\":{\"standoff\":15},\"zerolinecolor\":\"#283442\",\"automargin\":true,\"zerolinewidth\":2},\"scene\":{\"xaxis\":{\"backgroundcolor\":\"rgb(17,17,17)\",\"gridcolor\":\"#506784\",\"linecolor\":\"#506784\",\"showbackground\":true,\"ticks\":\"\",\"zerolinecolor\":\"#C8D4E3\",\"gridwidth\":2},\"yaxis\":{\"backgroundcolor\":\"rgb(17,17,17)\",\"gridcolor\":\"#506784\",\"linecolor\":\"#506784\",\"showbackground\":true,\"ticks\":\"\",\"zerolinecolor\":\"#C8D4E3\",\"gridwidth\":2},\"zaxis\":{\"backgroundcolor\":\"rgb(17,17,17)\",\"gridcolor\":\"#506784\",\"linecolor\":\"#506784\",\"showbackground\":true,\"ticks\":\"\",\"zerolinecolor\":\"#C8D4E3\",\"gridwidth\":2}},\"shapedefaults\":{\"line\":{\"color\":\"#f2f5fa\"}},\"annotationdefaults\":{\"arrowcolor\":\"#f2f5fa\",\"arrowhead\":0,\"arrowwidth\":1},\"geo\":{\"bgcolor\":\"rgb(17,17,17)\",\"landcolor\":\"rgb(17,17,17)\",\"subunitcolor\":\"#506784\",\"showland\":true,\"showlakes\":true,\"lakecolor\":\"rgb(17,17,17)\"},\"title\":{\"x\":0.05},\"updatemenudefaults\":{\"bgcolor\":\"#506784\",\"borderwidth\":0},\"sliderdefaults\":{\"bgcolor\":\"#C8D4E3\",\"borderwidth\":1,\"bordercolor\":\"rgb(17,17,17)\",\"tickwidth\":0},\"mapbox\":{\"style\":\"dark\"}}},\"margin\":{\"l\":20,\"r\":20,\"t\":20,\"b\":20},\"font\":{\"color\":\"black\"},\"height\":600,\"width\":600,\"paper_bgcolor\":\"white\",\"plot_bgcolor\":\"white\",\"showlegend\":false},                        {\"responsive\": true}                    ).then(function(){\n",
       "                            \n",
       "var gd = document.getElementById('11b697be-715a-49dc-a6c0-56fd6baae4c0');\n",
       "var x = new MutationObserver(function (mutations, observer) {{\n",
       "        var display = window.getComputedStyle(gd).display;\n",
       "        if (!display || display === 'none') {{\n",
       "            console.log([gd, 'removed!']);\n",
       "            Plotly.purge(gd);\n",
       "            observer.disconnect();\n",
       "        }}\n",
       "}});\n",
       "\n",
       "// Listen for the removal of the full notebook cells\n",
       "var notebookContainer = gd.closest('#notebook-container');\n",
       "if (notebookContainer) {{\n",
       "    x.observe(notebookContainer, {childList: true});\n",
       "}}\n",
       "\n",
       "// Listen for the clearing of the current output cell\n",
       "var outputEl = gd.closest('.output');\n",
       "if (outputEl) {{\n",
       "    x.observe(outputEl, {childList: true});\n",
       "}}\n",
       "\n",
       "                        })                };                });            </script>        </div>"
      ]
     },
     "metadata": {},
     "output_type": "display_data"
    }
   ],
   "execution_count": 626
  },
  {
   "metadata": {},
   "cell_type": "markdown",
   "source": "#### Overview Table",
   "id": "92480eee8b184695"
  },
  {
   "metadata": {
    "ExecuteTime": {
     "end_time": "2025-06-09T10:26:51.546761Z",
     "start_time": "2025-06-08T16:41:17.976144Z"
    }
   },
   "cell_type": "code",
   "source": [
    "importlib.reload(mpt_utils)\n",
    "# Create overview\n",
    "mpt_utils.generate_overview_table(allocations_12m, mu_12m, S_12m, df_pct)"
   ],
   "id": "492409156d4d2ec5",
   "outputs": [
    {
     "data": {
      "text/plain": [
       "        Share Count  Average Covariance Average Returns Return Last 12 Months  \\\n",
       "TAL               1           -0.030000          29.97%                48.59%   \n",
       "TPE.DE            2           -0.027258           9.83%                -6.28%   \n",
       "SLP               1            0.027258          14.75%                77.26%   \n",
       "2471.T            1            0.017903           1.87%               119.57%   \n",
       "7575.T            1            0.027258          -2.99%                 4.51%   \n",
       "...             ...                 ...             ...                   ...   \n",
       "XPER              1            0.001129          11.92%                 0.99%   \n",
       "INS.DE            1            0.004677          86.23%               -11.61%   \n",
       "ARHS              1            0.001129           5.83%               -23.14%   \n",
       "2874.T            1            0.007419           5.55%                22.31%   \n",
       "ALIT              1           -0.016452           9.25%               -21.95%   \n",
       "\n",
       "       Return (Actual) Next 12 Months  \n",
       "TAL                           120.88%  \n",
       "TPE.DE                          3.02%  \n",
       "SLP                           118.41%  \n",
       "2471.T                         24.38%  \n",
       "7575.T                        -17.45%  \n",
       "...                               ...  \n",
       "XPER                           -4.11%  \n",
       "INS.DE                         16.32%  \n",
       "ARHS                           35.18%  \n",
       "2874.T                        -10.26%  \n",
       "ALIT                           23.06%  \n",
       "\n",
       "[63 rows x 5 columns]"
      ],
      "text/html": [
       "<div>\n",
       "<style scoped>\n",
       "    .dataframe tbody tr th:only-of-type {\n",
       "        vertical-align: middle;\n",
       "    }\n",
       "\n",
       "    .dataframe tbody tr th {\n",
       "        vertical-align: top;\n",
       "    }\n",
       "\n",
       "    .dataframe thead th {\n",
       "        text-align: right;\n",
       "    }\n",
       "</style>\n",
       "<table border=\"1\" class=\"dataframe\">\n",
       "  <thead>\n",
       "    <tr style=\"text-align: right;\">\n",
       "      <th></th>\n",
       "      <th>Share Count</th>\n",
       "      <th>Average Covariance</th>\n",
       "      <th>Average Returns</th>\n",
       "      <th>Return Last 12 Months</th>\n",
       "      <th>Return (Actual) Next 12 Months</th>\n",
       "    </tr>\n",
       "  </thead>\n",
       "  <tbody>\n",
       "    <tr>\n",
       "      <th>TAL</th>\n",
       "      <td>1</td>\n",
       "      <td>-0.030000</td>\n",
       "      <td>29.97%</td>\n",
       "      <td>48.59%</td>\n",
       "      <td>120.88%</td>\n",
       "    </tr>\n",
       "    <tr>\n",
       "      <th>TPE.DE</th>\n",
       "      <td>2</td>\n",
       "      <td>-0.027258</td>\n",
       "      <td>9.83%</td>\n",
       "      <td>-6.28%</td>\n",
       "      <td>3.02%</td>\n",
       "    </tr>\n",
       "    <tr>\n",
       "      <th>SLP</th>\n",
       "      <td>1</td>\n",
       "      <td>0.027258</td>\n",
       "      <td>14.75%</td>\n",
       "      <td>77.26%</td>\n",
       "      <td>118.41%</td>\n",
       "    </tr>\n",
       "    <tr>\n",
       "      <th>2471.T</th>\n",
       "      <td>1</td>\n",
       "      <td>0.017903</td>\n",
       "      <td>1.87%</td>\n",
       "      <td>119.57%</td>\n",
       "      <td>24.38%</td>\n",
       "    </tr>\n",
       "    <tr>\n",
       "      <th>7575.T</th>\n",
       "      <td>1</td>\n",
       "      <td>0.027258</td>\n",
       "      <td>-2.99%</td>\n",
       "      <td>4.51%</td>\n",
       "      <td>-17.45%</td>\n",
       "    </tr>\n",
       "    <tr>\n",
       "      <th>...</th>\n",
       "      <td>...</td>\n",
       "      <td>...</td>\n",
       "      <td>...</td>\n",
       "      <td>...</td>\n",
       "      <td>...</td>\n",
       "    </tr>\n",
       "    <tr>\n",
       "      <th>XPER</th>\n",
       "      <td>1</td>\n",
       "      <td>0.001129</td>\n",
       "      <td>11.92%</td>\n",
       "      <td>0.99%</td>\n",
       "      <td>-4.11%</td>\n",
       "    </tr>\n",
       "    <tr>\n",
       "      <th>INS.DE</th>\n",
       "      <td>1</td>\n",
       "      <td>0.004677</td>\n",
       "      <td>86.23%</td>\n",
       "      <td>-11.61%</td>\n",
       "      <td>16.32%</td>\n",
       "    </tr>\n",
       "    <tr>\n",
       "      <th>ARHS</th>\n",
       "      <td>1</td>\n",
       "      <td>0.001129</td>\n",
       "      <td>5.83%</td>\n",
       "      <td>-23.14%</td>\n",
       "      <td>35.18%</td>\n",
       "    </tr>\n",
       "    <tr>\n",
       "      <th>2874.T</th>\n",
       "      <td>1</td>\n",
       "      <td>0.007419</td>\n",
       "      <td>5.55%</td>\n",
       "      <td>22.31%</td>\n",
       "      <td>-10.26%</td>\n",
       "    </tr>\n",
       "    <tr>\n",
       "      <th>ALIT</th>\n",
       "      <td>1</td>\n",
       "      <td>-0.016452</td>\n",
       "      <td>9.25%</td>\n",
       "      <td>-21.95%</td>\n",
       "      <td>23.06%</td>\n",
       "    </tr>\n",
       "  </tbody>\n",
       "</table>\n",
       "<p>63 rows × 5 columns</p>\n",
       "</div>"
      ]
     },
     "execution_count": 627,
     "metadata": {},
     "output_type": "execute_result"
    }
   ],
   "execution_count": 627
  },
  {
   "metadata": {
    "ExecuteTime": {
     "end_time": "2025-06-09T10:26:51.546930Z",
     "start_time": "2025-06-08T16:41:18.015074Z"
    }
   },
   "cell_type": "code",
   "source": "",
   "id": "d1d279e2a4b2f883",
   "outputs": [],
   "execution_count": null
  }
 ],
 "metadata": {
  "kernelspec": {
   "display_name": "Python 3",
   "language": "python",
   "name": "python3"
  },
  "language_info": {
   "codemirror_mode": {
    "name": "ipython",
    "version": 2
   },
   "file_extension": ".py",
   "mimetype": "text/x-python",
   "name": "python",
   "nbconvert_exporter": "python",
   "pygments_lexer": "ipython2",
   "version": "2.7.6"
  }
 },
 "nbformat": 4,
 "nbformat_minor": 5
}
