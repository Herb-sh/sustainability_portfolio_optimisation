{
 "cells": [
  {
   "metadata": {
    "ExecuteTime": {
     "end_time": "2025-06-17T14:34:21.845770Z",
     "start_time": "2025-06-17T14:34:21.790982Z"
    }
   },
   "cell_type": "code",
   "source": [
    "import torch\n",
    "import torch.nn as nn\n",
    "import torch.optim as optim\n",
    "import pandas as pd\n",
    "#\n",
    "import importlib\n",
    "import utilities.lstm_utils as lstm_utils\n",
    "import utilities.mpt_utils as mpt_utils\n",
    "import utilities.variables as variables"
   ],
   "id": "9be531e52190f129",
   "outputs": [],
   "execution_count": 96
  },
  {
   "metadata": {
    "ExecuteTime": {
     "end_time": "2025-06-17T14:34:21.863194Z",
     "start_time": "2025-06-17T14:34:21.852269Z"
    }
   },
   "cell_type": "code",
   "source": [
    "# set device (GPU if available)\n",
    "device = torch.device(\"cuda\" if torch.cuda.is_available() else \"cpu\")"
   ],
   "id": "6853a9962a424a1c",
   "outputs": [],
   "execution_count": 97
  },
  {
   "metadata": {},
   "cell_type": "markdown",
   "source": "## Data",
   "id": "fe8516df25855518"
  },
  {
   "metadata": {
    "ExecuteTime": {
     "end_time": "2025-06-17T14:34:22.376293Z",
     "start_time": "2025-06-17T14:34:22.149550Z"
    }
   },
   "cell_type": "code",
   "source": [
    "df = pd.read_csv('../../../data/df_monthly_prices_complete_euro.csv', index_col='Date')\n",
    "df_pct = pd.read_csv('../../../data/df_monthly_returns_complete.csv', index_col='Date')\n",
    "df_overview = pd.read_csv('../../../data/df_overview.csv', index_col=0)"
   ],
   "id": "4513018354bbc541",
   "outputs": [],
   "execution_count": 98
  },
  {
   "metadata": {},
   "cell_type": "markdown",
   "source": "## LSTM Model",
   "id": "d5b44de5e3c4223c"
  },
  {
   "metadata": {
    "ExecuteTime": {
     "end_time": "2025-06-17T14:34:22.445638Z",
     "start_time": "2025-06-17T14:34:22.438278Z"
    }
   },
   "cell_type": "code",
   "source": [
    "# Define 4.3. LSTM model\n",
    "class LSTM_Uni_Model(nn.Module):\n",
    "    def __init__(self, input_size, hidden_size=128, num_layers=1, output_size=1, learning_rate=0.001, dropout=0.2): # , hidden_size=128\n",
    "        super(LSTM_Uni_Model, self).__init__()\n",
    "        self.hidden_size = hidden_size\n",
    "        # init LSTM\n",
    "        self.lstm = nn.LSTM(input_size=input_size,\n",
    "                            hidden_size=hidden_size,\n",
    "                            # num_layers=num_layers,\n",
    "                            batch_first=True)\n",
    "\n",
    "        # FC layer for final prediction\n",
    "        self.fc_final = nn.Linear(hidden_size, 12)\n",
    "\n",
    "    def forward(self, ts_batch): # ts_batch (64, 1653, 10), static_data (64, 1653, 44)\n",
    "        # Time-Series Data\n",
    "        # Reshape dynamic data for LSTM (requires time-step as 2nd dimension)\n",
    "        batch_size, num_stocks, sequence_length = ts_batch.shape[0], ts_batch.shape[1], ts_batch.shape[2]\n",
    "        ts_batch_reshaped = ts_batch.view(batch_size * num_stocks, sequence_length)\n",
    "        #\n",
    "        ts_output_1, (hidden, cell)  = self.lstm(ts_batch_reshaped) # ts_batch_reshaped\n",
    "        #\n",
    "        ts_output = ts_output_1.view(batch_size, num_stocks, self.hidden_size)\n",
    "\n",
    "        return self.fc_final(ts_output)#.squeeze(-1) # ts_output_2"
   ],
   "id": "ff4cbc246759fc20",
   "outputs": [],
   "execution_count": 99
  },
  {
   "metadata": {},
   "cell_type": "markdown",
   "source": [
    "We use a 12 month lookback for the sequential data to predict the upcoming 12 months.\n",
    "\n",
    "After that, based on the currently predicted time-horizon, we get the respective sub-range, \n",
    "be it 1-month, 6-month or 12-month ahead."
   ],
   "id": "3f14312f686aafa8"
  },
  {
   "metadata": {
    "ExecuteTime": {
     "end_time": "2025-06-17T14:34:22.500382Z",
     "start_time": "2025-06-17T14:34:22.497337Z"
    }
   },
   "cell_type": "code",
   "source": [
    "# Set sequence length (12 months)\n",
    "in_seq_length = 12\n",
    "out_seq_length = 12\n",
    "#\n",
    "out_seq_length_1m = 1\n",
    "out_seq_length_6m = 6\n",
    "out_seq_length_12m = 12"
   ],
   "id": "4bb4ad974e9f4f73",
   "outputs": [],
   "execution_count": 100
  },
  {
   "metadata": {},
   "cell_type": "markdown",
   "source": "### LSTM Univariate",
   "id": "f3bf50fecdb9e99a"
  },
  {
   "metadata": {
    "ExecuteTime": {
     "end_time": "2025-06-17T14:34:22.571606Z",
     "start_time": "2025-06-17T14:34:22.562110Z"
    }
   },
   "cell_type": "code",
   "source": "df_to_evaluate = df_pct - 1",
   "id": "c6bc6e1efb7cf30b",
   "outputs": [],
   "execution_count": 101
  },
  {
   "metadata": {},
   "cell_type": "markdown",
   "source": "#### Train-Test Splits",
   "id": "6ce4ba4bb6d29a7d"
  },
  {
   "metadata": {},
   "cell_type": "markdown",
   "source": "Split the data into training and testing sets",
   "id": "ad62c65eeaec57a4"
  },
  {
   "metadata": {
    "ExecuteTime": {
     "end_time": "2025-06-17T14:34:23.566330Z",
     "start_time": "2025-06-17T14:34:22.682408Z"
    }
   },
   "cell_type": "code",
   "source": [
    "importlib.reload(lstm_utils)\n",
    "importlib.reload(variables)\n",
    "\n",
    "# Set sequence length (e.g., 12 time points)\n",
    "X_train, X_test, y_train, y_test = lstm_utils.split_train_test(df_to_evaluate, [], \n",
    "                                                               in_seq_length=in_seq_length, \n",
    "                                                               out_seq_length=out_seq_length, \n",
    "                                                               validation_months=(variables.LSTM_TEST_YEARS_NR * 12))\n",
    "\n",
    "# Check the shapes of the training and test data\n",
    "print(\"Shape of X_train:\", X_train.shape)\n",
    "print(\"Shape of y_train:\", y_train.shape)\n",
    "print(\"Shape of X_test:\", X_test.shape)\n",
    "print(\"Shape of y_test:\", y_test.shape)"
   ],
   "id": "a758546911c3a7a7",
   "outputs": [
    {
     "name": "stdout",
     "output_type": "stream",
     "text": [
      "Shape of X_train: torch.Size([215, 1332, 12])\n",
      "Shape of y_train: torch.Size([215, 1332, 12])\n",
      "Shape of X_test: torch.Size([60, 1332, 12])\n",
      "Shape of y_test: torch.Size([60, 1332, 12])\n"
     ]
    }
   ],
   "execution_count": 102
  },
  {
   "metadata": {},
   "cell_type": "markdown",
   "source": "### Model Training",
   "id": "7173f848c5f8057e"
  },
  {
   "metadata": {
    "ExecuteTime": {
     "end_time": "2025-06-17T14:34:23.587236Z",
     "start_time": "2025-06-17T14:34:23.582839Z"
    }
   },
   "cell_type": "code",
   "source": "X_test.shape",
   "id": "7e71df58b473b96b",
   "outputs": [
    {
     "data": {
      "text/plain": [
       "torch.Size([60, 1332, 12])"
      ]
     },
     "execution_count": 103,
     "metadata": {},
     "output_type": "execute_result"
    }
   ],
   "execution_count": 103
  },
  {
   "metadata": {
    "ExecuteTime": {
     "end_time": "2025-06-17T14:34:23.662187Z",
     "start_time": "2025-06-17T14:34:23.660005Z"
    }
   },
   "cell_type": "code",
   "source": "y_test.shape",
   "id": "d109ae7842e53a91",
   "outputs": [
    {
     "data": {
      "text/plain": [
       "torch.Size([60, 1332, 12])"
      ]
     },
     "execution_count": 104,
     "metadata": {},
     "output_type": "execute_result"
    }
   ],
   "execution_count": 104
  },
  {
   "metadata": {
    "ExecuteTime": {
     "end_time": "2025-06-17T16:01:04.337697Z",
     "start_time": "2025-06-17T14:34:23.741947Z"
    }
   },
   "cell_type": "code",
   "source": [
    "# Model, Loss, Optimizer\n",
    "model = LSTM_Uni_Model(input_size=in_seq_length, output_size=out_seq_length).to(device)\n",
    "criterion = nn.MSELoss()  # Mean Squared Error for regression\n",
    "optimizer = optim.Adam(model.parameters(), lr=0.001)\n",
    "\n",
    "importlib.reload(lstm_utils)\n",
    "#\n",
    "model, y_train_pred, y_test_pred = lstm_utils.lstm_train_validate(model, optimizer, X_train, X_test, y_train, y_test)"
   ],
   "id": "fe9300ce5450c4bf",
   "outputs": [
    {
     "name": "stdout",
     "output_type": "stream",
     "text": [
      "Epoch 1/100, Loss: 0.0140, Train RMSE: 0.1188, Test RMSE: 0.1273. \n",
      "Epoch 2/100, Loss: 0.0131, Train RMSE: 0.1145, Test RMSE: 0.1271. \n",
      "Epoch 3/100, Loss: 0.0129, Train RMSE: 0.1137, Test RMSE: 0.1267. \n",
      "Epoch 4/100, Loss: 0.0129, Train RMSE: 0.1136, Test RMSE: 0.1267. \n",
      "Epoch 5/100, Loss: 0.0128, Train RMSE: 0.1134, Test RMSE: 0.1267. \n",
      "Epoch 6/100, Loss: 0.0128, Train RMSE: 0.1134, Test RMSE: 0.1267. \n",
      "Epoch 7/100, Loss: 0.0128, Train RMSE: 0.1133, Test RMSE: 0.1267. \n",
      "Epoch 8/100, Loss: 0.0128, Train RMSE: 0.1133, Test RMSE: 0.1267. \n",
      "Epoch 9/100, Loss: 0.0128, Train RMSE: 0.1133, Test RMSE: 0.1267. \n",
      "Epoch 10/100, Loss: 0.0128, Train RMSE: 0.1133, Test RMSE: 0.1268. \n",
      "Epoch 11/100, Loss: 0.0128, Train RMSE: 0.1133, Test RMSE: 0.1268. \n",
      "Epoch 12/100, Loss: 0.0128, Train RMSE: 0.1133, Test RMSE: 0.1268. \n",
      "Epoch 13/100, Loss: 0.0128, Train RMSE: 0.1132, Test RMSE: 0.1268. \n",
      "Epoch 14/100, Loss: 0.0128, Train RMSE: 0.1132, Test RMSE: 0.1268. \n",
      "Epoch 15/100, Loss: 0.0128, Train RMSE: 0.1132, Test RMSE: 0.1268. \n",
      "Epoch 16/100, Loss: 0.0128, Train RMSE: 0.1132, Test RMSE: 0.1269. \n",
      "Epoch 17/100, Loss: 0.0128, Train RMSE: 0.1132, Test RMSE: 0.1269. \n",
      "Epoch 18/100, Loss: 0.0128, Train RMSE: 0.1132, Test RMSE: 0.1269. \n",
      "Epoch 19/100, Loss: 0.0128, Train RMSE: 0.1132, Test RMSE: 0.1269. \n",
      "Epoch 20/100, Loss: 0.0128, Train RMSE: 0.1132, Test RMSE: 0.1269. \n",
      "Epoch 21/100, Loss: 0.0128, Train RMSE: 0.1132, Test RMSE: 0.1269. \n",
      "Epoch 22/100, Loss: 0.0128, Train RMSE: 0.1132, Test RMSE: 0.1269. \n",
      "Epoch 23/100, Loss: 0.0128, Train RMSE: 0.1132, Test RMSE: 0.1270. \n",
      "Epoch 24/100, Loss: 0.0128, Train RMSE: 0.1132, Test RMSE: 0.1270. \n",
      "Epoch 25/100, Loss: 0.0128, Train RMSE: 0.1132, Test RMSE: 0.1270. \n",
      "Epoch 26/100, Loss: 0.0128, Train RMSE: 0.1132, Test RMSE: 0.1270. \n",
      "Epoch 27/100, Loss: 0.0128, Train RMSE: 0.1131, Test RMSE: 0.1270. \n",
      "Epoch 28/100, Loss: 0.0128, Train RMSE: 0.1131, Test RMSE: 0.1270. \n",
      "Epoch 29/100, Loss: 0.0128, Train RMSE: 0.1131, Test RMSE: 0.1270. \n",
      "Epoch 30/100, Loss: 0.0128, Train RMSE: 0.1131, Test RMSE: 0.1270. \n",
      "Epoch 31/100, Loss: 0.0128, Train RMSE: 0.1131, Test RMSE: 0.1271. \n",
      "Epoch 32/100, Loss: 0.0128, Train RMSE: 0.1131, Test RMSE: 0.1271. \n",
      "Epoch 33/100, Loss: 0.0127, Train RMSE: 0.1131, Test RMSE: 0.1271. \n",
      "Epoch 34/100, Loss: 0.0127, Train RMSE: 0.1131, Test RMSE: 0.1271. \n",
      "Epoch 35/100, Loss: 0.0127, Train RMSE: 0.1131, Test RMSE: 0.1271. \n",
      "Epoch 36/100, Loss: 0.0127, Train RMSE: 0.1131, Test RMSE: 0.1271. \n",
      "Epoch 37/100, Loss: 0.0127, Train RMSE: 0.1131, Test RMSE: 0.1271. \n",
      "Epoch 38/100, Loss: 0.0127, Train RMSE: 0.1131, Test RMSE: 0.1272. \n",
      "Epoch 39/100, Loss: 0.0127, Train RMSE: 0.1131, Test RMSE: 0.1272. \n",
      "Epoch 40/100, Loss: 0.0127, Train RMSE: 0.1130, Test RMSE: 0.1272. \n",
      "Epoch 41/100, Loss: 0.0127, Train RMSE: 0.1130, Test RMSE: 0.1272. \n",
      "Epoch 42/100, Loss: 0.0127, Train RMSE: 0.1130, Test RMSE: 0.1272. \n",
      "Epoch 43/100, Loss: 0.0127, Train RMSE: 0.1130, Test RMSE: 0.1272. \n",
      "Epoch 44/100, Loss: 0.0127, Train RMSE: 0.1130, Test RMSE: 0.1272. \n",
      "Epoch 45/100, Loss: 0.0127, Train RMSE: 0.1130, Test RMSE: 0.1273. \n",
      "Epoch 46/100, Loss: 0.0127, Train RMSE: 0.1130, Test RMSE: 0.1273. \n",
      "Epoch 47/100, Loss: 0.0127, Train RMSE: 0.1130, Test RMSE: 0.1273. \n",
      "Epoch 48/100, Loss: 0.0127, Train RMSE: 0.1129, Test RMSE: 0.1273. \n",
      "Epoch 49/100, Loss: 0.0127, Train RMSE: 0.1129, Test RMSE: 0.1274. \n",
      "Epoch 50/100, Loss: 0.0127, Train RMSE: 0.1129, Test RMSE: 0.1274. \n",
      "Epoch 51/100, Loss: 0.0127, Train RMSE: 0.1128, Test RMSE: 0.1274. \n",
      "Epoch 52/100, Loss: 0.0127, Train RMSE: 0.1128, Test RMSE: 0.1312. \n",
      "Epoch 53/100, Loss: 0.0128, Train RMSE: 0.1134, Test RMSE: 0.1271. \n",
      "Epoch 54/100, Loss: 0.0127, Train RMSE: 0.1131, Test RMSE: 0.1270. \n",
      "Epoch 55/100, Loss: 0.0127, Train RMSE: 0.1130, Test RMSE: 0.1270. \n",
      "Epoch 56/100, Loss: 0.0127, Train RMSE: 0.1130, Test RMSE: 0.1270. \n",
      "Epoch 57/100, Loss: 0.0127, Train RMSE: 0.1130, Test RMSE: 0.1269. \n",
      "Epoch 58/100, Loss: 0.0127, Train RMSE: 0.1130, Test RMSE: 0.1270. \n",
      "Epoch 59/100, Loss: 0.0127, Train RMSE: 0.1129, Test RMSE: 0.1270. \n",
      "Epoch 60/100, Loss: 0.0127, Train RMSE: 0.1129, Test RMSE: 0.1270. \n",
      "Epoch 61/100, Loss: 0.0127, Train RMSE: 0.1129, Test RMSE: 0.1270. \n",
      "Epoch 62/100, Loss: 0.0127, Train RMSE: 0.1128, Test RMSE: 0.1271. \n",
      "Epoch 63/100, Loss: 0.0127, Train RMSE: 0.1128, Test RMSE: 0.1271. \n",
      "Epoch 64/100, Loss: 0.0127, Train RMSE: 0.1128, Test RMSE: 0.1271. \n",
      "Epoch 65/100, Loss: 0.0127, Train RMSE: 0.1128, Test RMSE: 0.1271. \n",
      "Epoch 66/100, Loss: 0.0127, Train RMSE: 0.1127, Test RMSE: 0.1272. \n",
      "Epoch 67/100, Loss: 0.0127, Train RMSE: 0.1127, Test RMSE: 0.1271. \n",
      "Epoch 68/100, Loss: 0.0127, Train RMSE: 0.1127, Test RMSE: 0.1273. \n",
      "Epoch 69/100, Loss: 0.0127, Train RMSE: 0.1127, Test RMSE: 0.1271. \n",
      "Epoch 70/100, Loss: 0.0126, Train RMSE: 0.1126, Test RMSE: 0.1272. \n",
      "Epoch 71/100, Loss: 0.0126, Train RMSE: 0.1126, Test RMSE: 0.1271. \n",
      "Epoch 72/100, Loss: 0.0126, Train RMSE: 0.1126, Test RMSE: 0.1272. \n",
      "Epoch 73/100, Loss: 0.0126, Train RMSE: 0.1126, Test RMSE: 0.1272. \n",
      "Epoch 74/100, Loss: 0.0126, Train RMSE: 0.1126, Test RMSE: 0.1272. \n",
      "Epoch 75/100, Loss: 0.0126, Train RMSE: 0.1125, Test RMSE: 0.1271. \n",
      "Epoch 76/100, Loss: 0.0126, Train RMSE: 0.1125, Test RMSE: 0.1272. \n",
      "Epoch 77/100, Loss: 0.0126, Train RMSE: 0.1125, Test RMSE: 0.1271. \n",
      "Epoch 78/100, Loss: 0.0126, Train RMSE: 0.1126, Test RMSE: 0.1272. \n",
      "Epoch 79/100, Loss: 0.0126, Train RMSE: 0.1126, Test RMSE: 0.1271. \n",
      "Epoch 80/100, Loss: 0.0126, Train RMSE: 0.1125, Test RMSE: 0.1272. \n",
      "Epoch 81/100, Loss: 0.0126, Train RMSE: 0.1125, Test RMSE: 0.1271. \n",
      "Epoch 82/100, Loss: 0.0126, Train RMSE: 0.1125, Test RMSE: 0.1272. \n",
      "Epoch 83/100, Loss: 0.0126, Train RMSE: 0.1124, Test RMSE: 0.1271. \n",
      "Epoch 84/100, Loss: 0.0126, Train RMSE: 0.1124, Test RMSE: 0.1272. \n",
      "Epoch 85/100, Loss: 0.0126, Train RMSE: 0.1124, Test RMSE: 0.1272. \n",
      "Epoch 86/100, Loss: 0.0126, Train RMSE: 0.1124, Test RMSE: 0.1272. \n",
      "Epoch 87/100, Loss: 0.0126, Train RMSE: 0.1124, Test RMSE: 0.1273. \n",
      "Epoch 88/100, Loss: 0.0126, Train RMSE: 0.1123, Test RMSE: 0.1271. \n",
      "Epoch 89/100, Loss: 0.0126, Train RMSE: 0.1123, Test RMSE: 0.1272. \n",
      "Epoch 90/100, Loss: 0.0126, Train RMSE: 0.1123, Test RMSE: 0.1272. \n",
      "Epoch 91/100, Loss: 0.0126, Train RMSE: 0.1123, Test RMSE: 0.1272. \n",
      "Epoch 92/100, Loss: 0.0126, Train RMSE: 0.1123, Test RMSE: 0.1274. \n",
      "Epoch 93/100, Loss: 0.0126, Train RMSE: 0.1123, Test RMSE: 0.1273. \n",
      "Epoch 94/100, Loss: 0.0126, Train RMSE: 0.1124, Test RMSE: 0.1273. \n",
      "Epoch 95/100, Loss: 0.0126, Train RMSE: 0.1123, Test RMSE: 0.1272. \n",
      "Epoch 96/100, Loss: 0.0126, Train RMSE: 0.1122, Test RMSE: 0.1272. \n",
      "Epoch 97/100, Loss: 0.0126, Train RMSE: 0.1122, Test RMSE: 0.1273. \n",
      "Epoch 98/100, Loss: 0.0126, Train RMSE: 0.1122, Test RMSE: 0.1273. \n",
      "Epoch 99/100, Loss: 0.0125, Train RMSE: 0.1121, Test RMSE: 0.1274. \n",
      "Epoch 100/100, Loss: 0.0125, Train RMSE: 0.1121, Test RMSE: 0.1274. \n",
      "Model training complete and saved.\n"
     ]
    }
   ],
   "execution_count": 105
  },
  {
   "metadata": {},
   "cell_type": "markdown",
   "source": "### LSTM Univariate - 1 Month",
   "id": "d5318687c5affaa7"
  },
  {
   "metadata": {},
   "cell_type": "markdown",
   "source": [
    "Get the known data (train data).\n",
    "After that, get the first predicted month, or the first predicted sequence of test data"
   ],
   "id": "258c27b9defb7c70"
  },
  {
   "metadata": {
    "ExecuteTime": {
     "end_time": "2025-06-17T16:01:04.659124Z",
     "start_time": "2025-06-17T16:01:04.631593Z"
    }
   },
   "cell_type": "code",
   "source": [
    "# 1 month\n",
    "df_train = X_train[:, :, -1].clone()\n",
    "y_test_pred_1m = y_test_pred[0,:,:].T[0:0] # y_test_pred[:,:,0][0] \n",
    "y_test_pred_1m"
   ],
   "id": "4e354978addc055d",
   "outputs": [
    {
     "data": {
      "text/plain": [
       "tensor([], size=(0, 1332))"
      ]
     },
     "execution_count": 106,
     "metadata": {},
     "output_type": "execute_result"
    }
   ],
   "execution_count": 106
  },
  {
   "metadata": {
    "ExecuteTime": {
     "end_time": "2025-06-17T16:01:04.886089Z",
     "start_time": "2025-06-17T16:01:04.863383Z"
    }
   },
   "cell_type": "code",
   "source": [
    "df_forecast_1m = pd.DataFrame(df_train.clone())\n",
    "df_forecast_1m = pd.concat([df_forecast_1m, pd.DataFrame(y_test_pred_1m)], ignore_index=True)\n",
    "# Assign back columns and indices to make human understandable\n",
    "df_forecast_1m.columns = df.columns\n",
    "df_forecast_1m.index = pd.to_datetime(df_pct[(in_seq_length - 1) : len(df_forecast_1m) + (in_seq_length - 1)].index)\n",
    "#\n",
    "df_forecast_1m = df_forecast_1m.tail(variables.LSTM_TEST_YEARS_NR * 12) \n",
    "#\n",
    "df_forecast_1m.tail(3)"
   ],
   "id": "1b9c596330067ac4",
   "outputs": [
    {
     "data": {
      "text/plain": [
       "             GME  2124.T  2491.T  2471.T  3046.T  PAT.DE  CROX  AOF.DE  \\\n",
       "Date                                                                     \n",
       "2018-06-01  0.10    0.10    0.25   -0.24    0.04   -0.07 -0.01    0.10   \n",
       "2018-07-01  0.02    0.00    0.04    0.10    0.00    0.19  0.03   -0.01   \n",
       "2018-08-01 -0.08    0.01    0.07    0.13   -0.09   -0.07  0.14   -0.07   \n",
       "\n",
       "            SFQ.DE   DAN  ...  KREF  HLN.L   DBX  BNL  CBL  KVUE  PSTL  NTST  \\\n",
       "Date                      ...                                                  \n",
       "2018-06-01   -0.18 -0.09  ... -0.03    0.0  0.08  0.0  0.0   0.0  0.02  0.02   \n",
       "2018-07-01    0.10  0.06  ...  0.07    0.0 -0.17  0.0  0.0   0.0  0.00  0.00   \n",
       "2018-08-01   -0.06 -0.08  ...  0.02    0.0  0.00  0.0  0.0   0.0 -0.01  0.00   \n",
       "\n",
       "            BLCO  NBS.L  \n",
       "Date                     \n",
       "2018-06-01   0.0    0.0  \n",
       "2018-07-01   0.0    0.0  \n",
       "2018-08-01   0.0    0.0  \n",
       "\n",
       "[3 rows x 1332 columns]"
      ],
      "text/html": [
       "<div>\n",
       "<style scoped>\n",
       "    .dataframe tbody tr th:only-of-type {\n",
       "        vertical-align: middle;\n",
       "    }\n",
       "\n",
       "    .dataframe tbody tr th {\n",
       "        vertical-align: top;\n",
       "    }\n",
       "\n",
       "    .dataframe thead th {\n",
       "        text-align: right;\n",
       "    }\n",
       "</style>\n",
       "<table border=\"1\" class=\"dataframe\">\n",
       "  <thead>\n",
       "    <tr style=\"text-align: right;\">\n",
       "      <th></th>\n",
       "      <th>GME</th>\n",
       "      <th>2124.T</th>\n",
       "      <th>2491.T</th>\n",
       "      <th>2471.T</th>\n",
       "      <th>3046.T</th>\n",
       "      <th>PAT.DE</th>\n",
       "      <th>CROX</th>\n",
       "      <th>AOF.DE</th>\n",
       "      <th>SFQ.DE</th>\n",
       "      <th>DAN</th>\n",
       "      <th>...</th>\n",
       "      <th>KREF</th>\n",
       "      <th>HLN.L</th>\n",
       "      <th>DBX</th>\n",
       "      <th>BNL</th>\n",
       "      <th>CBL</th>\n",
       "      <th>KVUE</th>\n",
       "      <th>PSTL</th>\n",
       "      <th>NTST</th>\n",
       "      <th>BLCO</th>\n",
       "      <th>NBS.L</th>\n",
       "    </tr>\n",
       "    <tr>\n",
       "      <th>Date</th>\n",
       "      <th></th>\n",
       "      <th></th>\n",
       "      <th></th>\n",
       "      <th></th>\n",
       "      <th></th>\n",
       "      <th></th>\n",
       "      <th></th>\n",
       "      <th></th>\n",
       "      <th></th>\n",
       "      <th></th>\n",
       "      <th></th>\n",
       "      <th></th>\n",
       "      <th></th>\n",
       "      <th></th>\n",
       "      <th></th>\n",
       "      <th></th>\n",
       "      <th></th>\n",
       "      <th></th>\n",
       "      <th></th>\n",
       "      <th></th>\n",
       "      <th></th>\n",
       "    </tr>\n",
       "  </thead>\n",
       "  <tbody>\n",
       "    <tr>\n",
       "      <th>2018-06-01</th>\n",
       "      <td>0.10</td>\n",
       "      <td>0.10</td>\n",
       "      <td>0.25</td>\n",
       "      <td>-0.24</td>\n",
       "      <td>0.04</td>\n",
       "      <td>-0.07</td>\n",
       "      <td>-0.01</td>\n",
       "      <td>0.10</td>\n",
       "      <td>-0.18</td>\n",
       "      <td>-0.09</td>\n",
       "      <td>...</td>\n",
       "      <td>-0.03</td>\n",
       "      <td>0.0</td>\n",
       "      <td>0.08</td>\n",
       "      <td>0.0</td>\n",
       "      <td>0.0</td>\n",
       "      <td>0.0</td>\n",
       "      <td>0.02</td>\n",
       "      <td>0.02</td>\n",
       "      <td>0.0</td>\n",
       "      <td>0.0</td>\n",
       "    </tr>\n",
       "    <tr>\n",
       "      <th>2018-07-01</th>\n",
       "      <td>0.02</td>\n",
       "      <td>0.00</td>\n",
       "      <td>0.04</td>\n",
       "      <td>0.10</td>\n",
       "      <td>0.00</td>\n",
       "      <td>0.19</td>\n",
       "      <td>0.03</td>\n",
       "      <td>-0.01</td>\n",
       "      <td>0.10</td>\n",
       "      <td>0.06</td>\n",
       "      <td>...</td>\n",
       "      <td>0.07</td>\n",
       "      <td>0.0</td>\n",
       "      <td>-0.17</td>\n",
       "      <td>0.0</td>\n",
       "      <td>0.0</td>\n",
       "      <td>0.0</td>\n",
       "      <td>0.00</td>\n",
       "      <td>0.00</td>\n",
       "      <td>0.0</td>\n",
       "      <td>0.0</td>\n",
       "    </tr>\n",
       "    <tr>\n",
       "      <th>2018-08-01</th>\n",
       "      <td>-0.08</td>\n",
       "      <td>0.01</td>\n",
       "      <td>0.07</td>\n",
       "      <td>0.13</td>\n",
       "      <td>-0.09</td>\n",
       "      <td>-0.07</td>\n",
       "      <td>0.14</td>\n",
       "      <td>-0.07</td>\n",
       "      <td>-0.06</td>\n",
       "      <td>-0.08</td>\n",
       "      <td>...</td>\n",
       "      <td>0.02</td>\n",
       "      <td>0.0</td>\n",
       "      <td>0.00</td>\n",
       "      <td>0.0</td>\n",
       "      <td>0.0</td>\n",
       "      <td>0.0</td>\n",
       "      <td>-0.01</td>\n",
       "      <td>0.00</td>\n",
       "      <td>0.0</td>\n",
       "      <td>0.0</td>\n",
       "    </tr>\n",
       "  </tbody>\n",
       "</table>\n",
       "<p>3 rows × 1332 columns</p>\n",
       "</div>"
      ]
     },
     "execution_count": 107,
     "metadata": {},
     "output_type": "execute_result"
    }
   ],
   "execution_count": 107
  },
  {
   "metadata": {
    "ExecuteTime": {
     "end_time": "2025-06-17T16:29:58.552260Z",
     "start_time": "2025-06-17T16:29:54.189538Z"
    }
   },
   "cell_type": "code",
   "source": [
    "importlib.reload(lstm_utils)\n",
    "importlib.reload(mpt_utils)\n",
    "\n",
    "weights_1m, mu_1m, S_1m, allocations_1m, weights_all_1m = mpt_utils.portfolio_and_plot(df_forecast_1m, df, plot_threshold=0.018)"
   ],
   "id": "27ab10ee985db539",
   "outputs": [
    {
     "name": "stdout",
     "output_type": "stream",
     "text": [
      "Expected annual return: 81.8%\n",
      "Annual volatility: 6.9%\n",
      "Sharpe Ratio: 11.54\n",
      "-- Allocation --\n",
      "{'ETSY': 1, '2491.T': 6, 'TPE.DE': 2, 'CVNA': 1, '3697.T': 1, 'PAR': 1, 'FCN': 1, 'FNKO': 4, 'NTNX': 1, 'RUN': 4, '6951.T': 1, '7518.T': 2, 'ABDP.L': 1, 'BOOT': 1, 'LULU': 1, 'HSII': 1, 'ADUS': 1, 'NSP': 1, 'IIPR': 1, '2471.T': 11, '6814.T': 3, 'WSC': 1, 'HAE': 1, 'MEDP': 1, 'AEO': 1, '4568.T': 1, 'QLYS': 1, '6866.T': 1, 'NSSC': 1, '9697.T': 1, '6200.T': 3, '4751.T': 5, 'CATO': 4, '2475.T': 2, 'MOV': 1, 'BBSI': 1, '2429.T': 3, '2389.T': 2, 'EH': 2, '2154.T': 2, '3994.T': 1, 'SHYF': 2, 'COK.DE': 1, '7730.T': 1, 'FARO': 1, '4218.T': 2, '4641.T': 1, 'GES': 1, 'PRDO': 1, '2170.T': 7, '6914.T': 2, '4503.T': 1, 'TPR': 1, 'UAA': 3, '9413.T': 1, '7868.T': 5, 'NEO': 1, '6183.T': 1, '7990.T': 1, 'FTK.DE': 1, 'NVRI': 3, '6055.T': 1, '7296.T': 1, '3151.T': 2, '7476.T': 1, '3048.T': 2, '7575.T': 3, 'CNK': 1, '7613.T': 2, '7936.T': 2, 'PKE': 1, '7220.T': 1, '4301.T': 1, '8439.T': 1, '3738.T': 1, '7752.T': 2, 'HPE': 1, '9260.T': 1, '8818.T': 1, '6417.T': 1, '7250.T': 1, 'APLD': 3, '4151.T': 1, '4549.T': 1, '3608.T': 3, 'EOAN.DE': 1, '7508.T': 1, '2337.T': 4, 'MFA': 1, '2124.T': 1, '4745.T': 2, '7893.T': 1, 'TRTX': 1, 'AMCR': 1, 'HBI': 1, 'AOX.DE': 1}\n",
      "-- Weights Percentage --\n",
      "{'2491.T': 0.0359, 'CVNA': 0.0313, 'PAR': 0.0263, 'FCN': 0.0234, 'BOOT': 0.0182, '6951.T': 0.0187, 'TPE.DE': 0.0359, 'ABDP.L': 0.0182, 'RUN': 0.0194, '3697.T': 0.0295, 'ETSY': 0.0364, '7518.T': 0.0185, 'FNKO': 0.0226, 'NTNX': 0.0199, 'Other(82)': 0.6456}\n"
     ]
    },
    {
     "name": "stderr",
     "output_type": "stream",
     "text": [
      "/Users/herbishtini/anaconda3/envs/portfolio_optimisation/lib/python3.11/site-packages/pypfopt/discrete_allocation.py:27: FutureWarning:\n",
      "\n",
      "Downcasting object dtype arrays on .fillna, .ffill, .bfill is deprecated and will change in a future version. Call result.infer_objects(copy=False) instead. To opt-in to the future behavior, set `pd.set_option('future.no_silent_downcasting', True)`\n",
      "\n"
     ]
    },
    {
     "data": {
      "application/vnd.plotly.v1+json": {
       "data": [
        {
         "hole": 0.3,
         "insidetextorientation": "radial",
         "labels": [
          "2491.T",
          "CVNA",
          "PAR",
          "FCN",
          "BOOT",
          "6951.T",
          "TPE.DE",
          "ABDP.L",
          "RUN",
          "3697.T",
          "ETSY",
          "7518.T",
          "FNKO",
          "NTNX",
          "Other(82)"
         ],
         "textinfo": "label+percent",
         "textposition": "inside",
         "values": [
          0.0146,
          0.0127,
          0.0107,
          0.0095,
          0.0074,
          0.0076,
          0.0146,
          0.0074,
          0.0079,
          0.012,
          0.0148,
          0.0075,
          0.0092,
          0.0081,
          0.2623
         ],
         "type": "pie"
        }
       ],
       "layout": {
        "template": {
         "data": {
          "histogram2dcontour": [
           {
            "type": "histogram2dcontour",
            "colorbar": {
             "outlinewidth": 0,
             "ticks": ""
            },
            "colorscale": [
             [
              0.0,
              "#0d0887"
             ],
             [
              0.1111111111111111,
              "#46039f"
             ],
             [
              0.2222222222222222,
              "#7201a8"
             ],
             [
              0.3333333333333333,
              "#9c179e"
             ],
             [
              0.4444444444444444,
              "#bd3786"
             ],
             [
              0.5555555555555556,
              "#d8576b"
             ],
             [
              0.6666666666666666,
              "#ed7953"
             ],
             [
              0.7777777777777778,
              "#fb9f3a"
             ],
             [
              0.8888888888888888,
              "#fdca26"
             ],
             [
              1.0,
              "#f0f921"
             ]
            ]
           }
          ],
          "choropleth": [
           {
            "type": "choropleth",
            "colorbar": {
             "outlinewidth": 0,
             "ticks": ""
            }
           }
          ],
          "histogram2d": [
           {
            "type": "histogram2d",
            "colorbar": {
             "outlinewidth": 0,
             "ticks": ""
            },
            "colorscale": [
             [
              0.0,
              "#0d0887"
             ],
             [
              0.1111111111111111,
              "#46039f"
             ],
             [
              0.2222222222222222,
              "#7201a8"
             ],
             [
              0.3333333333333333,
              "#9c179e"
             ],
             [
              0.4444444444444444,
              "#bd3786"
             ],
             [
              0.5555555555555556,
              "#d8576b"
             ],
             [
              0.6666666666666666,
              "#ed7953"
             ],
             [
              0.7777777777777778,
              "#fb9f3a"
             ],
             [
              0.8888888888888888,
              "#fdca26"
             ],
             [
              1.0,
              "#f0f921"
             ]
            ]
           }
          ],
          "heatmap": [
           {
            "type": "heatmap",
            "colorbar": {
             "outlinewidth": 0,
             "ticks": ""
            },
            "colorscale": [
             [
              0.0,
              "#0d0887"
             ],
             [
              0.1111111111111111,
              "#46039f"
             ],
             [
              0.2222222222222222,
              "#7201a8"
             ],
             [
              0.3333333333333333,
              "#9c179e"
             ],
             [
              0.4444444444444444,
              "#bd3786"
             ],
             [
              0.5555555555555556,
              "#d8576b"
             ],
             [
              0.6666666666666666,
              "#ed7953"
             ],
             [
              0.7777777777777778,
              "#fb9f3a"
             ],
             [
              0.8888888888888888,
              "#fdca26"
             ],
             [
              1.0,
              "#f0f921"
             ]
            ]
           }
          ],
          "heatmapgl": [
           {
            "type": "heatmapgl",
            "colorbar": {
             "outlinewidth": 0,
             "ticks": ""
            },
            "colorscale": [
             [
              0.0,
              "#0d0887"
             ],
             [
              0.1111111111111111,
              "#46039f"
             ],
             [
              0.2222222222222222,
              "#7201a8"
             ],
             [
              0.3333333333333333,
              "#9c179e"
             ],
             [
              0.4444444444444444,
              "#bd3786"
             ],
             [
              0.5555555555555556,
              "#d8576b"
             ],
             [
              0.6666666666666666,
              "#ed7953"
             ],
             [
              0.7777777777777778,
              "#fb9f3a"
             ],
             [
              0.8888888888888888,
              "#fdca26"
             ],
             [
              1.0,
              "#f0f921"
             ]
            ]
           }
          ],
          "contourcarpet": [
           {
            "type": "contourcarpet",
            "colorbar": {
             "outlinewidth": 0,
             "ticks": ""
            }
           }
          ],
          "contour": [
           {
            "type": "contour",
            "colorbar": {
             "outlinewidth": 0,
             "ticks": ""
            },
            "colorscale": [
             [
              0.0,
              "#0d0887"
             ],
             [
              0.1111111111111111,
              "#46039f"
             ],
             [
              0.2222222222222222,
              "#7201a8"
             ],
             [
              0.3333333333333333,
              "#9c179e"
             ],
             [
              0.4444444444444444,
              "#bd3786"
             ],
             [
              0.5555555555555556,
              "#d8576b"
             ],
             [
              0.6666666666666666,
              "#ed7953"
             ],
             [
              0.7777777777777778,
              "#fb9f3a"
             ],
             [
              0.8888888888888888,
              "#fdca26"
             ],
             [
              1.0,
              "#f0f921"
             ]
            ]
           }
          ],
          "surface": [
           {
            "type": "surface",
            "colorbar": {
             "outlinewidth": 0,
             "ticks": ""
            },
            "colorscale": [
             [
              0.0,
              "#0d0887"
             ],
             [
              0.1111111111111111,
              "#46039f"
             ],
             [
              0.2222222222222222,
              "#7201a8"
             ],
             [
              0.3333333333333333,
              "#9c179e"
             ],
             [
              0.4444444444444444,
              "#bd3786"
             ],
             [
              0.5555555555555556,
              "#d8576b"
             ],
             [
              0.6666666666666666,
              "#ed7953"
             ],
             [
              0.7777777777777778,
              "#fb9f3a"
             ],
             [
              0.8888888888888888,
              "#fdca26"
             ],
             [
              1.0,
              "#f0f921"
             ]
            ]
           }
          ],
          "mesh3d": [
           {
            "type": "mesh3d",
            "colorbar": {
             "outlinewidth": 0,
             "ticks": ""
            }
           }
          ],
          "scatter": [
           {
            "marker": {
             "line": {
              "color": "#283442"
             }
            },
            "type": "scatter"
           }
          ],
          "parcoords": [
           {
            "type": "parcoords",
            "line": {
             "colorbar": {
              "outlinewidth": 0,
              "ticks": ""
             }
            }
           }
          ],
          "scatterpolargl": [
           {
            "type": "scatterpolargl",
            "marker": {
             "colorbar": {
              "outlinewidth": 0,
              "ticks": ""
             }
            }
           }
          ],
          "bar": [
           {
            "error_x": {
             "color": "#f2f5fa"
            },
            "error_y": {
             "color": "#f2f5fa"
            },
            "marker": {
             "line": {
              "color": "rgb(17,17,17)",
              "width": 0.5
             },
             "pattern": {
              "fillmode": "overlay",
              "size": 10,
              "solidity": 0.2
             }
            },
            "type": "bar"
           }
          ],
          "scattergeo": [
           {
            "type": "scattergeo",
            "marker": {
             "colorbar": {
              "outlinewidth": 0,
              "ticks": ""
             }
            }
           }
          ],
          "scatterpolar": [
           {
            "type": "scatterpolar",
            "marker": {
             "colorbar": {
              "outlinewidth": 0,
              "ticks": ""
             }
            }
           }
          ],
          "histogram": [
           {
            "marker": {
             "pattern": {
              "fillmode": "overlay",
              "size": 10,
              "solidity": 0.2
             }
            },
            "type": "histogram"
           }
          ],
          "scattergl": [
           {
            "marker": {
             "line": {
              "color": "#283442"
             }
            },
            "type": "scattergl"
           }
          ],
          "scatter3d": [
           {
            "type": "scatter3d",
            "line": {
             "colorbar": {
              "outlinewidth": 0,
              "ticks": ""
             }
            },
            "marker": {
             "colorbar": {
              "outlinewidth": 0,
              "ticks": ""
             }
            }
           }
          ],
          "scattermapbox": [
           {
            "type": "scattermapbox",
            "marker": {
             "colorbar": {
              "outlinewidth": 0,
              "ticks": ""
             }
            }
           }
          ],
          "scatterternary": [
           {
            "type": "scatterternary",
            "marker": {
             "colorbar": {
              "outlinewidth": 0,
              "ticks": ""
             }
            }
           }
          ],
          "scattercarpet": [
           {
            "type": "scattercarpet",
            "marker": {
             "colorbar": {
              "outlinewidth": 0,
              "ticks": ""
             }
            }
           }
          ],
          "carpet": [
           {
            "aaxis": {
             "endlinecolor": "#A2B1C6",
             "gridcolor": "#506784",
             "linecolor": "#506784",
             "minorgridcolor": "#506784",
             "startlinecolor": "#A2B1C6"
            },
            "baxis": {
             "endlinecolor": "#A2B1C6",
             "gridcolor": "#506784",
             "linecolor": "#506784",
             "minorgridcolor": "#506784",
             "startlinecolor": "#A2B1C6"
            },
            "type": "carpet"
           }
          ],
          "table": [
           {
            "cells": {
             "fill": {
              "color": "#506784"
             },
             "line": {
              "color": "rgb(17,17,17)"
             }
            },
            "header": {
             "fill": {
              "color": "#2a3f5f"
             },
             "line": {
              "color": "rgb(17,17,17)"
             }
            },
            "type": "table"
           }
          ],
          "barpolar": [
           {
            "marker": {
             "line": {
              "color": "rgb(17,17,17)",
              "width": 0.5
             },
             "pattern": {
              "fillmode": "overlay",
              "size": 10,
              "solidity": 0.2
             }
            },
            "type": "barpolar"
           }
          ],
          "pie": [
           {
            "automargin": true,
            "type": "pie"
           }
          ]
         },
         "layout": {
          "autotypenumbers": "strict",
          "colorway": [
           "#636efa",
           "#EF553B",
           "#00cc96",
           "#ab63fa",
           "#FFA15A",
           "#19d3f3",
           "#FF6692",
           "#B6E880",
           "#FF97FF",
           "#FECB52"
          ],
          "font": {
           "color": "#f2f5fa"
          },
          "hovermode": "closest",
          "hoverlabel": {
           "align": "left"
          },
          "paper_bgcolor": "rgb(17,17,17)",
          "plot_bgcolor": "rgb(17,17,17)",
          "polar": {
           "bgcolor": "rgb(17,17,17)",
           "angularaxis": {
            "gridcolor": "#506784",
            "linecolor": "#506784",
            "ticks": ""
           },
           "radialaxis": {
            "gridcolor": "#506784",
            "linecolor": "#506784",
            "ticks": ""
           }
          },
          "ternary": {
           "bgcolor": "rgb(17,17,17)",
           "aaxis": {
            "gridcolor": "#506784",
            "linecolor": "#506784",
            "ticks": ""
           },
           "baxis": {
            "gridcolor": "#506784",
            "linecolor": "#506784",
            "ticks": ""
           },
           "caxis": {
            "gridcolor": "#506784",
            "linecolor": "#506784",
            "ticks": ""
           }
          },
          "coloraxis": {
           "colorbar": {
            "outlinewidth": 0,
            "ticks": ""
           }
          },
          "colorscale": {
           "sequential": [
            [
             0.0,
             "#0d0887"
            ],
            [
             0.1111111111111111,
             "#46039f"
            ],
            [
             0.2222222222222222,
             "#7201a8"
            ],
            [
             0.3333333333333333,
             "#9c179e"
            ],
            [
             0.4444444444444444,
             "#bd3786"
            ],
            [
             0.5555555555555556,
             "#d8576b"
            ],
            [
             0.6666666666666666,
             "#ed7953"
            ],
            [
             0.7777777777777778,
             "#fb9f3a"
            ],
            [
             0.8888888888888888,
             "#fdca26"
            ],
            [
             1.0,
             "#f0f921"
            ]
           ],
           "sequentialminus": [
            [
             0.0,
             "#0d0887"
            ],
            [
             0.1111111111111111,
             "#46039f"
            ],
            [
             0.2222222222222222,
             "#7201a8"
            ],
            [
             0.3333333333333333,
             "#9c179e"
            ],
            [
             0.4444444444444444,
             "#bd3786"
            ],
            [
             0.5555555555555556,
             "#d8576b"
            ],
            [
             0.6666666666666666,
             "#ed7953"
            ],
            [
             0.7777777777777778,
             "#fb9f3a"
            ],
            [
             0.8888888888888888,
             "#fdca26"
            ],
            [
             1.0,
             "#f0f921"
            ]
           ],
           "diverging": [
            [
             0,
             "#8e0152"
            ],
            [
             0.1,
             "#c51b7d"
            ],
            [
             0.2,
             "#de77ae"
            ],
            [
             0.3,
             "#f1b6da"
            ],
            [
             0.4,
             "#fde0ef"
            ],
            [
             0.5,
             "#f7f7f7"
            ],
            [
             0.6,
             "#e6f5d0"
            ],
            [
             0.7,
             "#b8e186"
            ],
            [
             0.8,
             "#7fbc41"
            ],
            [
             0.9,
             "#4d9221"
            ],
            [
             1,
             "#276419"
            ]
           ]
          },
          "xaxis": {
           "gridcolor": "#283442",
           "linecolor": "#506784",
           "ticks": "",
           "title": {
            "standoff": 15
           },
           "zerolinecolor": "#283442",
           "automargin": true,
           "zerolinewidth": 2
          },
          "yaxis": {
           "gridcolor": "#283442",
           "linecolor": "#506784",
           "ticks": "",
           "title": {
            "standoff": 15
           },
           "zerolinecolor": "#283442",
           "automargin": true,
           "zerolinewidth": 2
          },
          "scene": {
           "xaxis": {
            "backgroundcolor": "rgb(17,17,17)",
            "gridcolor": "#506784",
            "linecolor": "#506784",
            "showbackground": true,
            "ticks": "",
            "zerolinecolor": "#C8D4E3",
            "gridwidth": 2
           },
           "yaxis": {
            "backgroundcolor": "rgb(17,17,17)",
            "gridcolor": "#506784",
            "linecolor": "#506784",
            "showbackground": true,
            "ticks": "",
            "zerolinecolor": "#C8D4E3",
            "gridwidth": 2
           },
           "zaxis": {
            "backgroundcolor": "rgb(17,17,17)",
            "gridcolor": "#506784",
            "linecolor": "#506784",
            "showbackground": true,
            "ticks": "",
            "zerolinecolor": "#C8D4E3",
            "gridwidth": 2
           }
          },
          "shapedefaults": {
           "line": {
            "color": "#f2f5fa"
           }
          },
          "annotationdefaults": {
           "arrowcolor": "#f2f5fa",
           "arrowhead": 0,
           "arrowwidth": 1
          },
          "geo": {
           "bgcolor": "rgb(17,17,17)",
           "landcolor": "rgb(17,17,17)",
           "subunitcolor": "#506784",
           "showland": true,
           "showlakes": true,
           "lakecolor": "rgb(17,17,17)"
          },
          "title": {
           "x": 0.05
          },
          "updatemenudefaults": {
           "bgcolor": "#506784",
           "borderwidth": 0
          },
          "sliderdefaults": {
           "bgcolor": "#C8D4E3",
           "borderwidth": 1,
           "bordercolor": "rgb(17,17,17)",
           "tickwidth": 0
          },
          "mapbox": {
           "style": "dark"
          }
         }
        },
        "margin": {
         "l": 20,
         "r": 20,
         "t": 20,
         "b": 20
        },
        "font": {
         "color": "black"
        },
        "height": 600,
        "width": 600,
        "paper_bgcolor": "white",
        "plot_bgcolor": "white",
        "showlegend": false
       },
       "config": {
        "plotlyServerURL": "https://plot.ly"
       }
      },
      "text/html": [
       "<div>                            <div id=\"a16a81ba-33b4-4ce6-a492-9b912fab06c0\" class=\"plotly-graph-div\" style=\"height:600px; width:600px;\"></div>            <script type=\"text/javascript\">                require([\"plotly\"], function(Plotly) {                    window.PLOTLYENV=window.PLOTLYENV || {};                                    if (document.getElementById(\"a16a81ba-33b4-4ce6-a492-9b912fab06c0\")) {                    Plotly.newPlot(                        \"a16a81ba-33b4-4ce6-a492-9b912fab06c0\",                        [{\"hole\":0.3,\"insidetextorientation\":\"radial\",\"labels\":[\"2491.T\",\"CVNA\",\"PAR\",\"FCN\",\"BOOT\",\"6951.T\",\"TPE.DE\",\"ABDP.L\",\"RUN\",\"3697.T\",\"ETSY\",\"7518.T\",\"FNKO\",\"NTNX\",\"Other(82)\"],\"textinfo\":\"label+percent\",\"textposition\":\"inside\",\"values\":[0.0146,0.0127,0.0107,0.0095,0.0074,0.0076,0.0146,0.0074,0.0079,0.012,0.0148,0.0075,0.0092,0.0081,0.2623],\"type\":\"pie\"}],                        {\"template\":{\"data\":{\"histogram2dcontour\":[{\"type\":\"histogram2dcontour\",\"colorbar\":{\"outlinewidth\":0,\"ticks\":\"\"},\"colorscale\":[[0.0,\"#0d0887\"],[0.1111111111111111,\"#46039f\"],[0.2222222222222222,\"#7201a8\"],[0.3333333333333333,\"#9c179e\"],[0.4444444444444444,\"#bd3786\"],[0.5555555555555556,\"#d8576b\"],[0.6666666666666666,\"#ed7953\"],[0.7777777777777778,\"#fb9f3a\"],[0.8888888888888888,\"#fdca26\"],[1.0,\"#f0f921\"]]}],\"choropleth\":[{\"type\":\"choropleth\",\"colorbar\":{\"outlinewidth\":0,\"ticks\":\"\"}}],\"histogram2d\":[{\"type\":\"histogram2d\",\"colorbar\":{\"outlinewidth\":0,\"ticks\":\"\"},\"colorscale\":[[0.0,\"#0d0887\"],[0.1111111111111111,\"#46039f\"],[0.2222222222222222,\"#7201a8\"],[0.3333333333333333,\"#9c179e\"],[0.4444444444444444,\"#bd3786\"],[0.5555555555555556,\"#d8576b\"],[0.6666666666666666,\"#ed7953\"],[0.7777777777777778,\"#fb9f3a\"],[0.8888888888888888,\"#fdca26\"],[1.0,\"#f0f921\"]]}],\"heatmap\":[{\"type\":\"heatmap\",\"colorbar\":{\"outlinewidth\":0,\"ticks\":\"\"},\"colorscale\":[[0.0,\"#0d0887\"],[0.1111111111111111,\"#46039f\"],[0.2222222222222222,\"#7201a8\"],[0.3333333333333333,\"#9c179e\"],[0.4444444444444444,\"#bd3786\"],[0.5555555555555556,\"#d8576b\"],[0.6666666666666666,\"#ed7953\"],[0.7777777777777778,\"#fb9f3a\"],[0.8888888888888888,\"#fdca26\"],[1.0,\"#f0f921\"]]}],\"heatmapgl\":[{\"type\":\"heatmapgl\",\"colorbar\":{\"outlinewidth\":0,\"ticks\":\"\"},\"colorscale\":[[0.0,\"#0d0887\"],[0.1111111111111111,\"#46039f\"],[0.2222222222222222,\"#7201a8\"],[0.3333333333333333,\"#9c179e\"],[0.4444444444444444,\"#bd3786\"],[0.5555555555555556,\"#d8576b\"],[0.6666666666666666,\"#ed7953\"],[0.7777777777777778,\"#fb9f3a\"],[0.8888888888888888,\"#fdca26\"],[1.0,\"#f0f921\"]]}],\"contourcarpet\":[{\"type\":\"contourcarpet\",\"colorbar\":{\"outlinewidth\":0,\"ticks\":\"\"}}],\"contour\":[{\"type\":\"contour\",\"colorbar\":{\"outlinewidth\":0,\"ticks\":\"\"},\"colorscale\":[[0.0,\"#0d0887\"],[0.1111111111111111,\"#46039f\"],[0.2222222222222222,\"#7201a8\"],[0.3333333333333333,\"#9c179e\"],[0.4444444444444444,\"#bd3786\"],[0.5555555555555556,\"#d8576b\"],[0.6666666666666666,\"#ed7953\"],[0.7777777777777778,\"#fb9f3a\"],[0.8888888888888888,\"#fdca26\"],[1.0,\"#f0f921\"]]}],\"surface\":[{\"type\":\"surface\",\"colorbar\":{\"outlinewidth\":0,\"ticks\":\"\"},\"colorscale\":[[0.0,\"#0d0887\"],[0.1111111111111111,\"#46039f\"],[0.2222222222222222,\"#7201a8\"],[0.3333333333333333,\"#9c179e\"],[0.4444444444444444,\"#bd3786\"],[0.5555555555555556,\"#d8576b\"],[0.6666666666666666,\"#ed7953\"],[0.7777777777777778,\"#fb9f3a\"],[0.8888888888888888,\"#fdca26\"],[1.0,\"#f0f921\"]]}],\"mesh3d\":[{\"type\":\"mesh3d\",\"colorbar\":{\"outlinewidth\":0,\"ticks\":\"\"}}],\"scatter\":[{\"marker\":{\"line\":{\"color\":\"#283442\"}},\"type\":\"scatter\"}],\"parcoords\":[{\"type\":\"parcoords\",\"line\":{\"colorbar\":{\"outlinewidth\":0,\"ticks\":\"\"}}}],\"scatterpolargl\":[{\"type\":\"scatterpolargl\",\"marker\":{\"colorbar\":{\"outlinewidth\":0,\"ticks\":\"\"}}}],\"bar\":[{\"error_x\":{\"color\":\"#f2f5fa\"},\"error_y\":{\"color\":\"#f2f5fa\"},\"marker\":{\"line\":{\"color\":\"rgb(17,17,17)\",\"width\":0.5},\"pattern\":{\"fillmode\":\"overlay\",\"size\":10,\"solidity\":0.2}},\"type\":\"bar\"}],\"scattergeo\":[{\"type\":\"scattergeo\",\"marker\":{\"colorbar\":{\"outlinewidth\":0,\"ticks\":\"\"}}}],\"scatterpolar\":[{\"type\":\"scatterpolar\",\"marker\":{\"colorbar\":{\"outlinewidth\":0,\"ticks\":\"\"}}}],\"histogram\":[{\"marker\":{\"pattern\":{\"fillmode\":\"overlay\",\"size\":10,\"solidity\":0.2}},\"type\":\"histogram\"}],\"scattergl\":[{\"marker\":{\"line\":{\"color\":\"#283442\"}},\"type\":\"scattergl\"}],\"scatter3d\":[{\"type\":\"scatter3d\",\"line\":{\"colorbar\":{\"outlinewidth\":0,\"ticks\":\"\"}},\"marker\":{\"colorbar\":{\"outlinewidth\":0,\"ticks\":\"\"}}}],\"scattermapbox\":[{\"type\":\"scattermapbox\",\"marker\":{\"colorbar\":{\"outlinewidth\":0,\"ticks\":\"\"}}}],\"scatterternary\":[{\"type\":\"scatterternary\",\"marker\":{\"colorbar\":{\"outlinewidth\":0,\"ticks\":\"\"}}}],\"scattercarpet\":[{\"type\":\"scattercarpet\",\"marker\":{\"colorbar\":{\"outlinewidth\":0,\"ticks\":\"\"}}}],\"carpet\":[{\"aaxis\":{\"endlinecolor\":\"#A2B1C6\",\"gridcolor\":\"#506784\",\"linecolor\":\"#506784\",\"minorgridcolor\":\"#506784\",\"startlinecolor\":\"#A2B1C6\"},\"baxis\":{\"endlinecolor\":\"#A2B1C6\",\"gridcolor\":\"#506784\",\"linecolor\":\"#506784\",\"minorgridcolor\":\"#506784\",\"startlinecolor\":\"#A2B1C6\"},\"type\":\"carpet\"}],\"table\":[{\"cells\":{\"fill\":{\"color\":\"#506784\"},\"line\":{\"color\":\"rgb(17,17,17)\"}},\"header\":{\"fill\":{\"color\":\"#2a3f5f\"},\"line\":{\"color\":\"rgb(17,17,17)\"}},\"type\":\"table\"}],\"barpolar\":[{\"marker\":{\"line\":{\"color\":\"rgb(17,17,17)\",\"width\":0.5},\"pattern\":{\"fillmode\":\"overlay\",\"size\":10,\"solidity\":0.2}},\"type\":\"barpolar\"}],\"pie\":[{\"automargin\":true,\"type\":\"pie\"}]},\"layout\":{\"autotypenumbers\":\"strict\",\"colorway\":[\"#636efa\",\"#EF553B\",\"#00cc96\",\"#ab63fa\",\"#FFA15A\",\"#19d3f3\",\"#FF6692\",\"#B6E880\",\"#FF97FF\",\"#FECB52\"],\"font\":{\"color\":\"#f2f5fa\"},\"hovermode\":\"closest\",\"hoverlabel\":{\"align\":\"left\"},\"paper_bgcolor\":\"rgb(17,17,17)\",\"plot_bgcolor\":\"rgb(17,17,17)\",\"polar\":{\"bgcolor\":\"rgb(17,17,17)\",\"angularaxis\":{\"gridcolor\":\"#506784\",\"linecolor\":\"#506784\",\"ticks\":\"\"},\"radialaxis\":{\"gridcolor\":\"#506784\",\"linecolor\":\"#506784\",\"ticks\":\"\"}},\"ternary\":{\"bgcolor\":\"rgb(17,17,17)\",\"aaxis\":{\"gridcolor\":\"#506784\",\"linecolor\":\"#506784\",\"ticks\":\"\"},\"baxis\":{\"gridcolor\":\"#506784\",\"linecolor\":\"#506784\",\"ticks\":\"\"},\"caxis\":{\"gridcolor\":\"#506784\",\"linecolor\":\"#506784\",\"ticks\":\"\"}},\"coloraxis\":{\"colorbar\":{\"outlinewidth\":0,\"ticks\":\"\"}},\"colorscale\":{\"sequential\":[[0.0,\"#0d0887\"],[0.1111111111111111,\"#46039f\"],[0.2222222222222222,\"#7201a8\"],[0.3333333333333333,\"#9c179e\"],[0.4444444444444444,\"#bd3786\"],[0.5555555555555556,\"#d8576b\"],[0.6666666666666666,\"#ed7953\"],[0.7777777777777778,\"#fb9f3a\"],[0.8888888888888888,\"#fdca26\"],[1.0,\"#f0f921\"]],\"sequentialminus\":[[0.0,\"#0d0887\"],[0.1111111111111111,\"#46039f\"],[0.2222222222222222,\"#7201a8\"],[0.3333333333333333,\"#9c179e\"],[0.4444444444444444,\"#bd3786\"],[0.5555555555555556,\"#d8576b\"],[0.6666666666666666,\"#ed7953\"],[0.7777777777777778,\"#fb9f3a\"],[0.8888888888888888,\"#fdca26\"],[1.0,\"#f0f921\"]],\"diverging\":[[0,\"#8e0152\"],[0.1,\"#c51b7d\"],[0.2,\"#de77ae\"],[0.3,\"#f1b6da\"],[0.4,\"#fde0ef\"],[0.5,\"#f7f7f7\"],[0.6,\"#e6f5d0\"],[0.7,\"#b8e186\"],[0.8,\"#7fbc41\"],[0.9,\"#4d9221\"],[1,\"#276419\"]]},\"xaxis\":{\"gridcolor\":\"#283442\",\"linecolor\":\"#506784\",\"ticks\":\"\",\"title\":{\"standoff\":15},\"zerolinecolor\":\"#283442\",\"automargin\":true,\"zerolinewidth\":2},\"yaxis\":{\"gridcolor\":\"#283442\",\"linecolor\":\"#506784\",\"ticks\":\"\",\"title\":{\"standoff\":15},\"zerolinecolor\":\"#283442\",\"automargin\":true,\"zerolinewidth\":2},\"scene\":{\"xaxis\":{\"backgroundcolor\":\"rgb(17,17,17)\",\"gridcolor\":\"#506784\",\"linecolor\":\"#506784\",\"showbackground\":true,\"ticks\":\"\",\"zerolinecolor\":\"#C8D4E3\",\"gridwidth\":2},\"yaxis\":{\"backgroundcolor\":\"rgb(17,17,17)\",\"gridcolor\":\"#506784\",\"linecolor\":\"#506784\",\"showbackground\":true,\"ticks\":\"\",\"zerolinecolor\":\"#C8D4E3\",\"gridwidth\":2},\"zaxis\":{\"backgroundcolor\":\"rgb(17,17,17)\",\"gridcolor\":\"#506784\",\"linecolor\":\"#506784\",\"showbackground\":true,\"ticks\":\"\",\"zerolinecolor\":\"#C8D4E3\",\"gridwidth\":2}},\"shapedefaults\":{\"line\":{\"color\":\"#f2f5fa\"}},\"annotationdefaults\":{\"arrowcolor\":\"#f2f5fa\",\"arrowhead\":0,\"arrowwidth\":1},\"geo\":{\"bgcolor\":\"rgb(17,17,17)\",\"landcolor\":\"rgb(17,17,17)\",\"subunitcolor\":\"#506784\",\"showland\":true,\"showlakes\":true,\"lakecolor\":\"rgb(17,17,17)\"},\"title\":{\"x\":0.05},\"updatemenudefaults\":{\"bgcolor\":\"#506784\",\"borderwidth\":0},\"sliderdefaults\":{\"bgcolor\":\"#C8D4E3\",\"borderwidth\":1,\"bordercolor\":\"rgb(17,17,17)\",\"tickwidth\":0},\"mapbox\":{\"style\":\"dark\"}}},\"margin\":{\"l\":20,\"r\":20,\"t\":20,\"b\":20},\"font\":{\"color\":\"black\"},\"height\":600,\"width\":600,\"paper_bgcolor\":\"white\",\"plot_bgcolor\":\"white\",\"showlegend\":false},                        {\"responsive\": true}                    ).then(function(){\n",
       "                            \n",
       "var gd = document.getElementById('a16a81ba-33b4-4ce6-a492-9b912fab06c0');\n",
       "var x = new MutationObserver(function (mutations, observer) {{\n",
       "        var display = window.getComputedStyle(gd).display;\n",
       "        if (!display || display === 'none') {{\n",
       "            console.log([gd, 'removed!']);\n",
       "            Plotly.purge(gd);\n",
       "            observer.disconnect();\n",
       "        }}\n",
       "}});\n",
       "\n",
       "// Listen for the removal of the full notebook cells\n",
       "var notebookContainer = gd.closest('#notebook-container');\n",
       "if (notebookContainer) {{\n",
       "    x.observe(notebookContainer, {childList: true});\n",
       "}}\n",
       "\n",
       "// Listen for the clearing of the current output cell\n",
       "var outputEl = gd.closest('.output');\n",
       "if (outputEl) {{\n",
       "    x.observe(outputEl, {childList: true});\n",
       "}}\n",
       "\n",
       "                        })                };                });            </script>        </div>"
      ]
     },
     "metadata": {},
     "output_type": "display_data"
    }
   ],
   "execution_count": 109
  },
  {
   "metadata": {},
   "cell_type": "markdown",
   "source": "#### Actual return rate",
   "id": "6cdc9e16c9e5c451"
  },
  {
   "metadata": {
    "ExecuteTime": {
     "end_time": "2025-06-17T16:29:58.732362Z",
     "start_time": "2025-06-17T16:29:58.706087Z"
    }
   },
   "cell_type": "code",
   "source": [
    "importlib.reload(mpt_utils)\n",
    "#\n",
    "mpt_utils.get_portfolio_real_return_rate(df_pct, df_forecast_1m, weights=weights_all_1m)"
   ],
   "id": "a127f3ff2e13af62",
   "outputs": [
    {
     "name": "stdout",
     "output_type": "stream",
     "text": [
      "Portfolio real return rate:  0.82%\n"
     ]
    }
   ],
   "execution_count": 110
  },
  {
   "metadata": {},
   "cell_type": "markdown",
   "source": "#### Overview table",
   "id": "832a93c646602493"
  },
  {
   "metadata": {
    "ExecuteTime": {
     "end_time": "2025-06-17T16:29:58.830739Z",
     "start_time": "2025-06-17T16:29:58.807911Z"
    }
   },
   "cell_type": "code",
   "source": [
    "importlib.reload(mpt_utils)\n",
    "# Create overview\n",
    "mpt_utils.generate_overview_table(allocations_1m, mu_1m, S_1m, df_pct)"
   ],
   "id": "69b503dace1fa341",
   "outputs": [
    {
     "data": {
      "text/plain": [
       "        Share Count  Average Covariance Average Returns Return Last 12 Months  \\\n",
       "ETSY              1           -0.004421          47.69%               -33.98%   \n",
       "2491.T            6           -0.024421         182.25%               -40.43%   \n",
       "TPE.DE            2            0.003474         183.13%               -14.53%   \n",
       "CVNA              1           -0.062842          27.62%                98.50%   \n",
       "3697.T            1            0.013053         170.34%                15.27%   \n",
       "...             ...                 ...             ...                   ...   \n",
       "7893.T            1            0.019579          72.08%                27.21%   \n",
       "TRTX              1            0.000421          14.39%               -25.34%   \n",
       "AMCR              1            0.010947         -13.23%               -20.57%   \n",
       "HBI               1            0.012737          11.15%               -37.03%   \n",
       "AOX.DE            1            0.004842           5.87%               -60.37%   \n",
       "\n",
       "       Return (Actual) Next 12 Months  \n",
       "ETSY                          -19.03%  \n",
       "2491.T                        -10.18%  \n",
       "TPE.DE                        -17.65%  \n",
       "CVNA                          211.25%  \n",
       "3697.T                        -56.94%  \n",
       "...                               ...  \n",
       "7893.T                          7.98%  \n",
       "TRTX                           49.38%  \n",
       "AMCR                           26.52%  \n",
       "HBI                            54.02%  \n",
       "AOX.DE                         39.42%  \n",
       "\n",
       "[96 rows x 5 columns]"
      ],
      "text/html": [
       "<div>\n",
       "<style scoped>\n",
       "    .dataframe tbody tr th:only-of-type {\n",
       "        vertical-align: middle;\n",
       "    }\n",
       "\n",
       "    .dataframe tbody tr th {\n",
       "        vertical-align: top;\n",
       "    }\n",
       "\n",
       "    .dataframe thead th {\n",
       "        text-align: right;\n",
       "    }\n",
       "</style>\n",
       "<table border=\"1\" class=\"dataframe\">\n",
       "  <thead>\n",
       "    <tr style=\"text-align: right;\">\n",
       "      <th></th>\n",
       "      <th>Share Count</th>\n",
       "      <th>Average Covariance</th>\n",
       "      <th>Average Returns</th>\n",
       "      <th>Return Last 12 Months</th>\n",
       "      <th>Return (Actual) Next 12 Months</th>\n",
       "    </tr>\n",
       "  </thead>\n",
       "  <tbody>\n",
       "    <tr>\n",
       "      <th>ETSY</th>\n",
       "      <td>1</td>\n",
       "      <td>-0.004421</td>\n",
       "      <td>47.69%</td>\n",
       "      <td>-33.98%</td>\n",
       "      <td>-19.03%</td>\n",
       "    </tr>\n",
       "    <tr>\n",
       "      <th>2491.T</th>\n",
       "      <td>6</td>\n",
       "      <td>-0.024421</td>\n",
       "      <td>182.25%</td>\n",
       "      <td>-40.43%</td>\n",
       "      <td>-10.18%</td>\n",
       "    </tr>\n",
       "    <tr>\n",
       "      <th>TPE.DE</th>\n",
       "      <td>2</td>\n",
       "      <td>0.003474</td>\n",
       "      <td>183.13%</td>\n",
       "      <td>-14.53%</td>\n",
       "      <td>-17.65%</td>\n",
       "    </tr>\n",
       "    <tr>\n",
       "      <th>CVNA</th>\n",
       "      <td>1</td>\n",
       "      <td>-0.062842</td>\n",
       "      <td>27.62%</td>\n",
       "      <td>98.50%</td>\n",
       "      <td>211.25%</td>\n",
       "    </tr>\n",
       "    <tr>\n",
       "      <th>3697.T</th>\n",
       "      <td>1</td>\n",
       "      <td>0.013053</td>\n",
       "      <td>170.34%</td>\n",
       "      <td>15.27%</td>\n",
       "      <td>-56.94%</td>\n",
       "    </tr>\n",
       "    <tr>\n",
       "      <th>...</th>\n",
       "      <td>...</td>\n",
       "      <td>...</td>\n",
       "      <td>...</td>\n",
       "      <td>...</td>\n",
       "      <td>...</td>\n",
       "    </tr>\n",
       "    <tr>\n",
       "      <th>7893.T</th>\n",
       "      <td>1</td>\n",
       "      <td>0.019579</td>\n",
       "      <td>72.08%</td>\n",
       "      <td>27.21%</td>\n",
       "      <td>7.98%</td>\n",
       "    </tr>\n",
       "    <tr>\n",
       "      <th>TRTX</th>\n",
       "      <td>1</td>\n",
       "      <td>0.000421</td>\n",
       "      <td>14.39%</td>\n",
       "      <td>-25.34%</td>\n",
       "      <td>49.38%</td>\n",
       "    </tr>\n",
       "    <tr>\n",
       "      <th>AMCR</th>\n",
       "      <td>1</td>\n",
       "      <td>0.010947</td>\n",
       "      <td>-13.23%</td>\n",
       "      <td>-20.57%</td>\n",
       "      <td>26.52%</td>\n",
       "    </tr>\n",
       "    <tr>\n",
       "      <th>HBI</th>\n",
       "      <td>1</td>\n",
       "      <td>0.012737</td>\n",
       "      <td>11.15%</td>\n",
       "      <td>-37.03%</td>\n",
       "      <td>54.02%</td>\n",
       "    </tr>\n",
       "    <tr>\n",
       "      <th>AOX.DE</th>\n",
       "      <td>1</td>\n",
       "      <td>0.004842</td>\n",
       "      <td>5.87%</td>\n",
       "      <td>-60.37%</td>\n",
       "      <td>39.42%</td>\n",
       "    </tr>\n",
       "  </tbody>\n",
       "</table>\n",
       "<p>96 rows × 5 columns</p>\n",
       "</div>"
      ]
     },
     "execution_count": 111,
     "metadata": {},
     "output_type": "execute_result"
    }
   ],
   "execution_count": 111
  },
  {
   "metadata": {},
   "cell_type": "markdown",
   "source": "### LSTM Univariate - 6 Months",
   "id": "43a9fdefde6c005"
  },
  {
   "metadata": {},
   "cell_type": "markdown",
   "source": [
    "Get the known data (train data)\n",
    "After that, get the first 6 predicted months, or the first 6 predicted sequences of test data"
   ],
   "id": "fd7bdd04c2d45540"
  },
  {
   "metadata": {
    "ExecuteTime": {
     "end_time": "2025-06-17T16:29:58.914527Z",
     "start_time": "2025-06-17T16:29:58.900068Z"
    }
   },
   "cell_type": "code",
   "source": [
    "df_train = X_train[:, :, -1].clone()\n",
    "y_test_pred_6m =  y_test_pred[0,:,:].T[0:6] # y_test_pred[:,:,5][0:6]\n",
    "y_test_pred_6m"
   ],
   "id": "fd98c778b7b249cb",
   "outputs": [
    {
     "data": {
      "text/plain": [
       "tensor([[-2.2862e-02, -1.6169e-02, -1.6841e-02,  ..., -2.8487e-04,\n",
       "          3.8905e-05, -1.6906e-03],\n",
       "        [ 3.6470e-03, -7.3244e-03, -6.7286e-03,  ...,  2.1560e-03,\n",
       "          2.2464e-03,  1.8057e-03],\n",
       "        [-2.0139e-02, -1.6514e-02, -1.1265e-02,  ...,  2.6666e-03,\n",
       "          2.8850e-03,  2.6790e-03],\n",
       "        [ 4.6193e-02,  2.9297e-02,  2.0988e-02,  ...,  3.1837e-03,\n",
       "          2.9743e-03,  2.6965e-03],\n",
       "        [ 3.9210e-02,  2.1783e-02,  1.3951e-02,  ...,  2.3369e-03,\n",
       "          2.4041e-03,  1.4492e-03],\n",
       "        [-1.2721e-02, -6.1398e-03, -7.7279e-03,  ...,  7.2468e-03,\n",
       "          7.1753e-03,  6.6094e-03]])"
      ]
     },
     "execution_count": 112,
     "metadata": {},
     "output_type": "execute_result"
    }
   ],
   "execution_count": 112
  },
  {
   "metadata": {
    "ExecuteTime": {
     "end_time": "2025-06-17T16:29:59.068153Z",
     "start_time": "2025-06-17T16:29:59.059513Z"
    }
   },
   "cell_type": "code",
   "source": [
    "df_forecast_6m = pd.DataFrame(df_train.clone())\n",
    "df_forecast_6m = pd.concat([df_forecast_6m, pd.DataFrame(y_test_pred_6m)], ignore_index=True)\n",
    "# Assign back columns and indices to make human understandable\n",
    "df_forecast_6m.columns = df.columns\n",
    "df_forecast_6m.index = pd.to_datetime(df_pct[(in_seq_length - 1) : len(df_forecast_6m) + (in_seq_length - 1)].index)\n",
    "#\n",
    "df_forecast_6m = df_forecast_6m.tail(variables.LSTM_TEST_YEARS_NR * 12)\n",
    "#\n",
    "df_forecast_6m.tail(3)"
   ],
   "id": "d3afc8fa5f0e31c6",
   "outputs": [
    {
     "data": {
      "text/plain": [
       "                 GME    2124.T    2491.T    2471.T    3046.T    PAT.DE  \\\n",
       "Date                                                                     \n",
       "2018-12-01  0.046193  0.029297  0.020988  0.023813  0.019041  0.011086   \n",
       "2019-01-01  0.039210  0.021783  0.013951  0.003016  0.011832  0.009292   \n",
       "2019-02-01 -0.012721 -0.006140 -0.007728  0.001715  0.013797  0.017453   \n",
       "\n",
       "                CROX    AOF.DE    SFQ.DE       DAN  ...      KREF     HLN.L  \\\n",
       "Date                                                ...                       \n",
       "2018-12-01  0.007820  0.011091  0.010090  0.009012  ...  0.002784  0.003136   \n",
       "2019-01-01  0.001084  0.006255  0.006795  0.004621  ...  0.001943  0.001222   \n",
       "2019-02-01  0.018494  0.015117  0.019044  0.020182  ...  0.011926  0.010787   \n",
       "\n",
       "                 DBX       BNL       CBL      KVUE      PSTL      NTST  \\\n",
       "Date                                                                     \n",
       "2018-12-01  0.005476  0.004420  0.003963  0.003874  0.003653  0.003184   \n",
       "2019-01-01  0.002200  0.002587  0.002434  0.001812  0.002270  0.002337   \n",
       "2019-02-01  0.009322  0.008674  0.008118  0.007243  0.007662  0.007247   \n",
       "\n",
       "                BLCO     NBS.L  \n",
       "Date                            \n",
       "2018-12-01  0.002974  0.002696  \n",
       "2019-01-01  0.002404  0.001449  \n",
       "2019-02-01  0.007175  0.006609  \n",
       "\n",
       "[3 rows x 1332 columns]"
      ],
      "text/html": [
       "<div>\n",
       "<style scoped>\n",
       "    .dataframe tbody tr th:only-of-type {\n",
       "        vertical-align: middle;\n",
       "    }\n",
       "\n",
       "    .dataframe tbody tr th {\n",
       "        vertical-align: top;\n",
       "    }\n",
       "\n",
       "    .dataframe thead th {\n",
       "        text-align: right;\n",
       "    }\n",
       "</style>\n",
       "<table border=\"1\" class=\"dataframe\">\n",
       "  <thead>\n",
       "    <tr style=\"text-align: right;\">\n",
       "      <th></th>\n",
       "      <th>GME</th>\n",
       "      <th>2124.T</th>\n",
       "      <th>2491.T</th>\n",
       "      <th>2471.T</th>\n",
       "      <th>3046.T</th>\n",
       "      <th>PAT.DE</th>\n",
       "      <th>CROX</th>\n",
       "      <th>AOF.DE</th>\n",
       "      <th>SFQ.DE</th>\n",
       "      <th>DAN</th>\n",
       "      <th>...</th>\n",
       "      <th>KREF</th>\n",
       "      <th>HLN.L</th>\n",
       "      <th>DBX</th>\n",
       "      <th>BNL</th>\n",
       "      <th>CBL</th>\n",
       "      <th>KVUE</th>\n",
       "      <th>PSTL</th>\n",
       "      <th>NTST</th>\n",
       "      <th>BLCO</th>\n",
       "      <th>NBS.L</th>\n",
       "    </tr>\n",
       "    <tr>\n",
       "      <th>Date</th>\n",
       "      <th></th>\n",
       "      <th></th>\n",
       "      <th></th>\n",
       "      <th></th>\n",
       "      <th></th>\n",
       "      <th></th>\n",
       "      <th></th>\n",
       "      <th></th>\n",
       "      <th></th>\n",
       "      <th></th>\n",
       "      <th></th>\n",
       "      <th></th>\n",
       "      <th></th>\n",
       "      <th></th>\n",
       "      <th></th>\n",
       "      <th></th>\n",
       "      <th></th>\n",
       "      <th></th>\n",
       "      <th></th>\n",
       "      <th></th>\n",
       "      <th></th>\n",
       "    </tr>\n",
       "  </thead>\n",
       "  <tbody>\n",
       "    <tr>\n",
       "      <th>2018-12-01</th>\n",
       "      <td>0.046193</td>\n",
       "      <td>0.029297</td>\n",
       "      <td>0.020988</td>\n",
       "      <td>0.023813</td>\n",
       "      <td>0.019041</td>\n",
       "      <td>0.011086</td>\n",
       "      <td>0.007820</td>\n",
       "      <td>0.011091</td>\n",
       "      <td>0.010090</td>\n",
       "      <td>0.009012</td>\n",
       "      <td>...</td>\n",
       "      <td>0.002784</td>\n",
       "      <td>0.003136</td>\n",
       "      <td>0.005476</td>\n",
       "      <td>0.004420</td>\n",
       "      <td>0.003963</td>\n",
       "      <td>0.003874</td>\n",
       "      <td>0.003653</td>\n",
       "      <td>0.003184</td>\n",
       "      <td>0.002974</td>\n",
       "      <td>0.002696</td>\n",
       "    </tr>\n",
       "    <tr>\n",
       "      <th>2019-01-01</th>\n",
       "      <td>0.039210</td>\n",
       "      <td>0.021783</td>\n",
       "      <td>0.013951</td>\n",
       "      <td>0.003016</td>\n",
       "      <td>0.011832</td>\n",
       "      <td>0.009292</td>\n",
       "      <td>0.001084</td>\n",
       "      <td>0.006255</td>\n",
       "      <td>0.006795</td>\n",
       "      <td>0.004621</td>\n",
       "      <td>...</td>\n",
       "      <td>0.001943</td>\n",
       "      <td>0.001222</td>\n",
       "      <td>0.002200</td>\n",
       "      <td>0.002587</td>\n",
       "      <td>0.002434</td>\n",
       "      <td>0.001812</td>\n",
       "      <td>0.002270</td>\n",
       "      <td>0.002337</td>\n",
       "      <td>0.002404</td>\n",
       "      <td>0.001449</td>\n",
       "    </tr>\n",
       "    <tr>\n",
       "      <th>2019-02-01</th>\n",
       "      <td>-0.012721</td>\n",
       "      <td>-0.006140</td>\n",
       "      <td>-0.007728</td>\n",
       "      <td>0.001715</td>\n",
       "      <td>0.013797</td>\n",
       "      <td>0.017453</td>\n",
       "      <td>0.018494</td>\n",
       "      <td>0.015117</td>\n",
       "      <td>0.019044</td>\n",
       "      <td>0.020182</td>\n",
       "      <td>...</td>\n",
       "      <td>0.011926</td>\n",
       "      <td>0.010787</td>\n",
       "      <td>0.009322</td>\n",
       "      <td>0.008674</td>\n",
       "      <td>0.008118</td>\n",
       "      <td>0.007243</td>\n",
       "      <td>0.007662</td>\n",
       "      <td>0.007247</td>\n",
       "      <td>0.007175</td>\n",
       "      <td>0.006609</td>\n",
       "    </tr>\n",
       "  </tbody>\n",
       "</table>\n",
       "<p>3 rows × 1332 columns</p>\n",
       "</div>"
      ]
     },
     "execution_count": 113,
     "metadata": {},
     "output_type": "execute_result"
    }
   ],
   "execution_count": 113
  },
  {
   "metadata": {
    "ExecuteTime": {
     "end_time": "2025-06-17T16:30:23.006425Z",
     "start_time": "2025-06-17T16:30:18.550938Z"
    }
   },
   "cell_type": "code",
   "source": [
    "importlib.reload(lstm_utils)\n",
    "importlib.reload(mpt_utils)\n",
    "\n",
    "weights_6m, mu_6m, S_6m, allocations_6m, weights_all_6m = mpt_utils.portfolio_and_plot(df_forecast_6m, df, plot_threshold=0.008)"
   ],
   "id": "52b1414db37b4f46",
   "outputs": [
    {
     "name": "stdout",
     "output_type": "stream",
     "text": [
      "Expected annual return: 19.0%\n",
      "Annual volatility: 4.1%\n",
      "Sharpe Ratio: 4.15\n",
      "-- Allocation --\n",
      "{'FNKO': 5, 'CVNA': 2, 'PAR': 1, 'CON.DE': 1, 'MDB': 1, '2685.T': 4, 'CRUS': 1, 'VSEC': 1, 'STAA': 1, 'NBPE.L': 1, '2120.T': 50, 'NSSC': 1, '7575.T': 9, 'SHYF': 3, 'CEC.DE': 32, '8154.T': 1, '6268.T': 3, 'RMBS': 1, 'KMX': 1, 'OC': 1, 'MHK': 1, '8963.T': 1, 'CPT': 1, 'HD': 1, 'RGLD': 1, 'DAN': 4, 'MMSI': 1, 'UNM': 1, '1925.T': 1, 'AMD': 1, '7239.T': 3, 'BBSI': 1, '4218.T': 3, 'ZD': 1, '8897.T': 12, 'WHR': 1, 'LOPE': 1, '6745.T': 3, '6436.T': 1, 'CENT': 1, 'NSP': 1, 'KFY': 1, 'LCII': 1, 'LAD': 1, '6941.T': 2, '5988.T': 2, 'DLTR': 1, '3659.T': 1, 'MET': 1, '2429.T': 2, '9790.T': 1, 'ETSY': 1, 'IGT': 1, 'CCK': 1, 'DORM': 1, 'GEN': 2, '9842.T': 2, 'SVS.L': 1, 'MBG.DE': 1, '3104.T': 1, 'THRM': 1, 'MPWR': 1, 'SFQ.DE': 2, '2502.T': 1, '2331.T': 4, '3046.T': 1, '6856.T': 1, 'SCSC': 1, '7915.T': 2, 'TTK.DE': 2, '9766.T': 1, '8219.T': 3, '7988.T': 1, '5110.T': 2, 'NEO': 1, '4549.T': 2, 'AMKR': 1, '3402.T': 6, 'AIV': 3, '2874.T': 3, 'ECV.DE': 1, '6915.T': 1, 'RUN': 1, '7272.T': 3, 'DLX': 1, '8060.T': 1, '7976.T': 2, '8591.T': 1, '8008.T': 1, '7914.T': 1, '2337.T': 9, '4751.T': 2, '8173.T': 1, '3086.T': 2, '9107.T': 2, '8309.T': 1, 'MITK': 1, 'FLEX': 1, '4151.T': 1, '6859.T': 1, '3116.T': 1, 'TAL': 2, '6674.T': 1, '6718.T': 1, 'KELYA': 1, '6326.T': 1, 'RELL': 1, '7483.T': 1, '7732.T': 2, '9076.T': 1, 'DX': 1, '7453.T': 1, 'LXP': 1, '7893.T': 2, 'TILE': 1, 'APLD': 2, '8084.T': 1, '2389.T': 1, '3076.T': 1, 'HPE': 1, '2670.T': 1, '5991.T': 2, '9882.T': 1, '9831.T': 5, '8923.T': 1, '7780.T': 1, '2170.T': 4, '7613.T': 1, '4732.T': 1, '9409.T': 1, '8818.T': 1, 'HBI': 3, 'BGC': 2, 'PAT.DE': 1, '6471.T': 2, '5970.T': 1, '8439.T': 1, '6914.T': 1, '9470.T': 2, 'DHC': 4, '3048.T': 1, '7593.T': 3, '9832.T': 1, '7419.T': 1, 'MFA': 1, 'INN': 1, '7868.T': 2, 'AOX.DE': 3, '4326.T': 1, '4433.T': 1, '9069.T': 1, 'TRTX': 1, 'AGNC': 1, '3608.T': 1, 'BDN': 2, 'KVHI': 1}\n",
      "-- Weights Percentage --\n",
      "{'DAN': 0.0083, 'NSSC': 0.0117, 'AMD': 0.0081, '8963.T': 0.0089, 'RMBS': 0.0094, 'NBPE.L': 0.0128, 'CRUS': 0.0138, 'KMX': 0.0091, 'VSEC': 0.0136, 'STAA': 0.0133, 'CVNA': 0.0331, 'SHYF': 0.011, 'MMSI': 0.0083, 'PAR': 0.0198, 'RGLD': 0.0086, '2120.T': 0.0125, '2685.T': 0.0141, 'OC': 0.0091, '7575.T': 0.0112, '6268.T': 0.0097, 'MHK': 0.0091, 'MDB': 0.0143, 'HD': 0.0086, 'CON.DE': 0.0149, 'CPT': 0.0089, '1925.T': 0.0081, '8154.T': 0.0099, 'UNM': 0.0083, 'FNKO': 0.0355, 'CEC.DE': 0.0099, 'Other(126)': 0.626}\n"
     ]
    },
    {
     "name": "stderr",
     "output_type": "stream",
     "text": [
      "/Users/herbishtini/anaconda3/envs/portfolio_optimisation/lib/python3.11/site-packages/pypfopt/discrete_allocation.py:27: FutureWarning:\n",
      "\n",
      "Downcasting object dtype arrays on .fillna, .ffill, .bfill is deprecated and will change in a future version. Call result.infer_objects(copy=False) instead. To opt-in to the future behavior, set `pd.set_option('future.no_silent_downcasting', True)`\n",
      "\n"
     ]
    },
    {
     "data": {
      "application/vnd.plotly.v1+json": {
       "data": [
        {
         "hole": 0.3,
         "insidetextorientation": "radial",
         "labels": [
          "DAN",
          "NSSC",
          "AMD",
          "8963.T",
          "RMBS",
          "NBPE.L",
          "CRUS",
          "KMX",
          "VSEC",
          "STAA",
          "CVNA",
          "SHYF",
          "MMSI",
          "PAR",
          "RGLD",
          "2120.T",
          "2685.T",
          "OC",
          "7575.T",
          "6268.T",
          "MHK",
          "MDB",
          "HD",
          "CON.DE",
          "CPT",
          "1925.T",
          "8154.T",
          "UNM",
          "FNKO",
          "CEC.DE",
          "Other(126)"
         ],
         "textinfo": "label+percent",
         "textposition": "inside",
         "values": [
          0.0032,
          0.0045,
          0.0031,
          0.0034,
          0.0036,
          0.0049,
          0.0053,
          0.0035,
          0.0052,
          0.0051,
          0.0127,
          0.0042,
          0.0032,
          0.0076,
          0.0033,
          0.0048,
          0.0054,
          0.0035,
          0.0043,
          0.0037,
          0.0035,
          0.0055,
          0.0033,
          0.0057,
          0.0034,
          0.0031,
          0.0038,
          0.0032,
          0.0136,
          0.0038,
          0.24
         ],
         "type": "pie"
        }
       ],
       "layout": {
        "template": {
         "data": {
          "histogram2dcontour": [
           {
            "type": "histogram2dcontour",
            "colorbar": {
             "outlinewidth": 0,
             "ticks": ""
            },
            "colorscale": [
             [
              0.0,
              "#0d0887"
             ],
             [
              0.1111111111111111,
              "#46039f"
             ],
             [
              0.2222222222222222,
              "#7201a8"
             ],
             [
              0.3333333333333333,
              "#9c179e"
             ],
             [
              0.4444444444444444,
              "#bd3786"
             ],
             [
              0.5555555555555556,
              "#d8576b"
             ],
             [
              0.6666666666666666,
              "#ed7953"
             ],
             [
              0.7777777777777778,
              "#fb9f3a"
             ],
             [
              0.8888888888888888,
              "#fdca26"
             ],
             [
              1.0,
              "#f0f921"
             ]
            ]
           }
          ],
          "choropleth": [
           {
            "type": "choropleth",
            "colorbar": {
             "outlinewidth": 0,
             "ticks": ""
            }
           }
          ],
          "histogram2d": [
           {
            "type": "histogram2d",
            "colorbar": {
             "outlinewidth": 0,
             "ticks": ""
            },
            "colorscale": [
             [
              0.0,
              "#0d0887"
             ],
             [
              0.1111111111111111,
              "#46039f"
             ],
             [
              0.2222222222222222,
              "#7201a8"
             ],
             [
              0.3333333333333333,
              "#9c179e"
             ],
             [
              0.4444444444444444,
              "#bd3786"
             ],
             [
              0.5555555555555556,
              "#d8576b"
             ],
             [
              0.6666666666666666,
              "#ed7953"
             ],
             [
              0.7777777777777778,
              "#fb9f3a"
             ],
             [
              0.8888888888888888,
              "#fdca26"
             ],
             [
              1.0,
              "#f0f921"
             ]
            ]
           }
          ],
          "heatmap": [
           {
            "type": "heatmap",
            "colorbar": {
             "outlinewidth": 0,
             "ticks": ""
            },
            "colorscale": [
             [
              0.0,
              "#0d0887"
             ],
             [
              0.1111111111111111,
              "#46039f"
             ],
             [
              0.2222222222222222,
              "#7201a8"
             ],
             [
              0.3333333333333333,
              "#9c179e"
             ],
             [
              0.4444444444444444,
              "#bd3786"
             ],
             [
              0.5555555555555556,
              "#d8576b"
             ],
             [
              0.6666666666666666,
              "#ed7953"
             ],
             [
              0.7777777777777778,
              "#fb9f3a"
             ],
             [
              0.8888888888888888,
              "#fdca26"
             ],
             [
              1.0,
              "#f0f921"
             ]
            ]
           }
          ],
          "heatmapgl": [
           {
            "type": "heatmapgl",
            "colorbar": {
             "outlinewidth": 0,
             "ticks": ""
            },
            "colorscale": [
             [
              0.0,
              "#0d0887"
             ],
             [
              0.1111111111111111,
              "#46039f"
             ],
             [
              0.2222222222222222,
              "#7201a8"
             ],
             [
              0.3333333333333333,
              "#9c179e"
             ],
             [
              0.4444444444444444,
              "#bd3786"
             ],
             [
              0.5555555555555556,
              "#d8576b"
             ],
             [
              0.6666666666666666,
              "#ed7953"
             ],
             [
              0.7777777777777778,
              "#fb9f3a"
             ],
             [
              0.8888888888888888,
              "#fdca26"
             ],
             [
              1.0,
              "#f0f921"
             ]
            ]
           }
          ],
          "contourcarpet": [
           {
            "type": "contourcarpet",
            "colorbar": {
             "outlinewidth": 0,
             "ticks": ""
            }
           }
          ],
          "contour": [
           {
            "type": "contour",
            "colorbar": {
             "outlinewidth": 0,
             "ticks": ""
            },
            "colorscale": [
             [
              0.0,
              "#0d0887"
             ],
             [
              0.1111111111111111,
              "#46039f"
             ],
             [
              0.2222222222222222,
              "#7201a8"
             ],
             [
              0.3333333333333333,
              "#9c179e"
             ],
             [
              0.4444444444444444,
              "#bd3786"
             ],
             [
              0.5555555555555556,
              "#d8576b"
             ],
             [
              0.6666666666666666,
              "#ed7953"
             ],
             [
              0.7777777777777778,
              "#fb9f3a"
             ],
             [
              0.8888888888888888,
              "#fdca26"
             ],
             [
              1.0,
              "#f0f921"
             ]
            ]
           }
          ],
          "surface": [
           {
            "type": "surface",
            "colorbar": {
             "outlinewidth": 0,
             "ticks": ""
            },
            "colorscale": [
             [
              0.0,
              "#0d0887"
             ],
             [
              0.1111111111111111,
              "#46039f"
             ],
             [
              0.2222222222222222,
              "#7201a8"
             ],
             [
              0.3333333333333333,
              "#9c179e"
             ],
             [
              0.4444444444444444,
              "#bd3786"
             ],
             [
              0.5555555555555556,
              "#d8576b"
             ],
             [
              0.6666666666666666,
              "#ed7953"
             ],
             [
              0.7777777777777778,
              "#fb9f3a"
             ],
             [
              0.8888888888888888,
              "#fdca26"
             ],
             [
              1.0,
              "#f0f921"
             ]
            ]
           }
          ],
          "mesh3d": [
           {
            "type": "mesh3d",
            "colorbar": {
             "outlinewidth": 0,
             "ticks": ""
            }
           }
          ],
          "scatter": [
           {
            "marker": {
             "line": {
              "color": "#283442"
             }
            },
            "type": "scatter"
           }
          ],
          "parcoords": [
           {
            "type": "parcoords",
            "line": {
             "colorbar": {
              "outlinewidth": 0,
              "ticks": ""
             }
            }
           }
          ],
          "scatterpolargl": [
           {
            "type": "scatterpolargl",
            "marker": {
             "colorbar": {
              "outlinewidth": 0,
              "ticks": ""
             }
            }
           }
          ],
          "bar": [
           {
            "error_x": {
             "color": "#f2f5fa"
            },
            "error_y": {
             "color": "#f2f5fa"
            },
            "marker": {
             "line": {
              "color": "rgb(17,17,17)",
              "width": 0.5
             },
             "pattern": {
              "fillmode": "overlay",
              "size": 10,
              "solidity": 0.2
             }
            },
            "type": "bar"
           }
          ],
          "scattergeo": [
           {
            "type": "scattergeo",
            "marker": {
             "colorbar": {
              "outlinewidth": 0,
              "ticks": ""
             }
            }
           }
          ],
          "scatterpolar": [
           {
            "type": "scatterpolar",
            "marker": {
             "colorbar": {
              "outlinewidth": 0,
              "ticks": ""
             }
            }
           }
          ],
          "histogram": [
           {
            "marker": {
             "pattern": {
              "fillmode": "overlay",
              "size": 10,
              "solidity": 0.2
             }
            },
            "type": "histogram"
           }
          ],
          "scattergl": [
           {
            "marker": {
             "line": {
              "color": "#283442"
             }
            },
            "type": "scattergl"
           }
          ],
          "scatter3d": [
           {
            "type": "scatter3d",
            "line": {
             "colorbar": {
              "outlinewidth": 0,
              "ticks": ""
             }
            },
            "marker": {
             "colorbar": {
              "outlinewidth": 0,
              "ticks": ""
             }
            }
           }
          ],
          "scattermapbox": [
           {
            "type": "scattermapbox",
            "marker": {
             "colorbar": {
              "outlinewidth": 0,
              "ticks": ""
             }
            }
           }
          ],
          "scatterternary": [
           {
            "type": "scatterternary",
            "marker": {
             "colorbar": {
              "outlinewidth": 0,
              "ticks": ""
             }
            }
           }
          ],
          "scattercarpet": [
           {
            "type": "scattercarpet",
            "marker": {
             "colorbar": {
              "outlinewidth": 0,
              "ticks": ""
             }
            }
           }
          ],
          "carpet": [
           {
            "aaxis": {
             "endlinecolor": "#A2B1C6",
             "gridcolor": "#506784",
             "linecolor": "#506784",
             "minorgridcolor": "#506784",
             "startlinecolor": "#A2B1C6"
            },
            "baxis": {
             "endlinecolor": "#A2B1C6",
             "gridcolor": "#506784",
             "linecolor": "#506784",
             "minorgridcolor": "#506784",
             "startlinecolor": "#A2B1C6"
            },
            "type": "carpet"
           }
          ],
          "table": [
           {
            "cells": {
             "fill": {
              "color": "#506784"
             },
             "line": {
              "color": "rgb(17,17,17)"
             }
            },
            "header": {
             "fill": {
              "color": "#2a3f5f"
             },
             "line": {
              "color": "rgb(17,17,17)"
             }
            },
            "type": "table"
           }
          ],
          "barpolar": [
           {
            "marker": {
             "line": {
              "color": "rgb(17,17,17)",
              "width": 0.5
             },
             "pattern": {
              "fillmode": "overlay",
              "size": 10,
              "solidity": 0.2
             }
            },
            "type": "barpolar"
           }
          ],
          "pie": [
           {
            "automargin": true,
            "type": "pie"
           }
          ]
         },
         "layout": {
          "autotypenumbers": "strict",
          "colorway": [
           "#636efa",
           "#EF553B",
           "#00cc96",
           "#ab63fa",
           "#FFA15A",
           "#19d3f3",
           "#FF6692",
           "#B6E880",
           "#FF97FF",
           "#FECB52"
          ],
          "font": {
           "color": "#f2f5fa"
          },
          "hovermode": "closest",
          "hoverlabel": {
           "align": "left"
          },
          "paper_bgcolor": "rgb(17,17,17)",
          "plot_bgcolor": "rgb(17,17,17)",
          "polar": {
           "bgcolor": "rgb(17,17,17)",
           "angularaxis": {
            "gridcolor": "#506784",
            "linecolor": "#506784",
            "ticks": ""
           },
           "radialaxis": {
            "gridcolor": "#506784",
            "linecolor": "#506784",
            "ticks": ""
           }
          },
          "ternary": {
           "bgcolor": "rgb(17,17,17)",
           "aaxis": {
            "gridcolor": "#506784",
            "linecolor": "#506784",
            "ticks": ""
           },
           "baxis": {
            "gridcolor": "#506784",
            "linecolor": "#506784",
            "ticks": ""
           },
           "caxis": {
            "gridcolor": "#506784",
            "linecolor": "#506784",
            "ticks": ""
           }
          },
          "coloraxis": {
           "colorbar": {
            "outlinewidth": 0,
            "ticks": ""
           }
          },
          "colorscale": {
           "sequential": [
            [
             0.0,
             "#0d0887"
            ],
            [
             0.1111111111111111,
             "#46039f"
            ],
            [
             0.2222222222222222,
             "#7201a8"
            ],
            [
             0.3333333333333333,
             "#9c179e"
            ],
            [
             0.4444444444444444,
             "#bd3786"
            ],
            [
             0.5555555555555556,
             "#d8576b"
            ],
            [
             0.6666666666666666,
             "#ed7953"
            ],
            [
             0.7777777777777778,
             "#fb9f3a"
            ],
            [
             0.8888888888888888,
             "#fdca26"
            ],
            [
             1.0,
             "#f0f921"
            ]
           ],
           "sequentialminus": [
            [
             0.0,
             "#0d0887"
            ],
            [
             0.1111111111111111,
             "#46039f"
            ],
            [
             0.2222222222222222,
             "#7201a8"
            ],
            [
             0.3333333333333333,
             "#9c179e"
            ],
            [
             0.4444444444444444,
             "#bd3786"
            ],
            [
             0.5555555555555556,
             "#d8576b"
            ],
            [
             0.6666666666666666,
             "#ed7953"
            ],
            [
             0.7777777777777778,
             "#fb9f3a"
            ],
            [
             0.8888888888888888,
             "#fdca26"
            ],
            [
             1.0,
             "#f0f921"
            ]
           ],
           "diverging": [
            [
             0,
             "#8e0152"
            ],
            [
             0.1,
             "#c51b7d"
            ],
            [
             0.2,
             "#de77ae"
            ],
            [
             0.3,
             "#f1b6da"
            ],
            [
             0.4,
             "#fde0ef"
            ],
            [
             0.5,
             "#f7f7f7"
            ],
            [
             0.6,
             "#e6f5d0"
            ],
            [
             0.7,
             "#b8e186"
            ],
            [
             0.8,
             "#7fbc41"
            ],
            [
             0.9,
             "#4d9221"
            ],
            [
             1,
             "#276419"
            ]
           ]
          },
          "xaxis": {
           "gridcolor": "#283442",
           "linecolor": "#506784",
           "ticks": "",
           "title": {
            "standoff": 15
           },
           "zerolinecolor": "#283442",
           "automargin": true,
           "zerolinewidth": 2
          },
          "yaxis": {
           "gridcolor": "#283442",
           "linecolor": "#506784",
           "ticks": "",
           "title": {
            "standoff": 15
           },
           "zerolinecolor": "#283442",
           "automargin": true,
           "zerolinewidth": 2
          },
          "scene": {
           "xaxis": {
            "backgroundcolor": "rgb(17,17,17)",
            "gridcolor": "#506784",
            "linecolor": "#506784",
            "showbackground": true,
            "ticks": "",
            "zerolinecolor": "#C8D4E3",
            "gridwidth": 2
           },
           "yaxis": {
            "backgroundcolor": "rgb(17,17,17)",
            "gridcolor": "#506784",
            "linecolor": "#506784",
            "showbackground": true,
            "ticks": "",
            "zerolinecolor": "#C8D4E3",
            "gridwidth": 2
           },
           "zaxis": {
            "backgroundcolor": "rgb(17,17,17)",
            "gridcolor": "#506784",
            "linecolor": "#506784",
            "showbackground": true,
            "ticks": "",
            "zerolinecolor": "#C8D4E3",
            "gridwidth": 2
           }
          },
          "shapedefaults": {
           "line": {
            "color": "#f2f5fa"
           }
          },
          "annotationdefaults": {
           "arrowcolor": "#f2f5fa",
           "arrowhead": 0,
           "arrowwidth": 1
          },
          "geo": {
           "bgcolor": "rgb(17,17,17)",
           "landcolor": "rgb(17,17,17)",
           "subunitcolor": "#506784",
           "showland": true,
           "showlakes": true,
           "lakecolor": "rgb(17,17,17)"
          },
          "title": {
           "x": 0.05
          },
          "updatemenudefaults": {
           "bgcolor": "#506784",
           "borderwidth": 0
          },
          "sliderdefaults": {
           "bgcolor": "#C8D4E3",
           "borderwidth": 1,
           "bordercolor": "rgb(17,17,17)",
           "tickwidth": 0
          },
          "mapbox": {
           "style": "dark"
          }
         }
        },
        "margin": {
         "l": 20,
         "r": 20,
         "t": 20,
         "b": 20
        },
        "font": {
         "color": "black"
        },
        "height": 600,
        "width": 600,
        "paper_bgcolor": "white",
        "plot_bgcolor": "white",
        "showlegend": false
       },
       "config": {
        "plotlyServerURL": "https://plot.ly"
       }
      },
      "text/html": [
       "<div>                            <div id=\"dff66619-d1aa-4d3c-b47b-13e7b200a073\" class=\"plotly-graph-div\" style=\"height:600px; width:600px;\"></div>            <script type=\"text/javascript\">                require([\"plotly\"], function(Plotly) {                    window.PLOTLYENV=window.PLOTLYENV || {};                                    if (document.getElementById(\"dff66619-d1aa-4d3c-b47b-13e7b200a073\")) {                    Plotly.newPlot(                        \"dff66619-d1aa-4d3c-b47b-13e7b200a073\",                        [{\"hole\":0.3,\"insidetextorientation\":\"radial\",\"labels\":[\"DAN\",\"NSSC\",\"AMD\",\"8963.T\",\"RMBS\",\"NBPE.L\",\"CRUS\",\"KMX\",\"VSEC\",\"STAA\",\"CVNA\",\"SHYF\",\"MMSI\",\"PAR\",\"RGLD\",\"2120.T\",\"2685.T\",\"OC\",\"7575.T\",\"6268.T\",\"MHK\",\"MDB\",\"HD\",\"CON.DE\",\"CPT\",\"1925.T\",\"8154.T\",\"UNM\",\"FNKO\",\"CEC.DE\",\"Other(126)\"],\"textinfo\":\"label+percent\",\"textposition\":\"inside\",\"values\":[0.0032,0.0045,0.0031,0.0034,0.0036,0.0049,0.0053,0.0035,0.0052,0.0051,0.0127,0.0042,0.0032,0.0076,0.0033,0.0048,0.0054,0.0035,0.0043,0.0037,0.0035,0.0055,0.0033,0.0057,0.0034,0.0031,0.0038,0.0032,0.0136,0.0038,0.24],\"type\":\"pie\"}],                        {\"template\":{\"data\":{\"histogram2dcontour\":[{\"type\":\"histogram2dcontour\",\"colorbar\":{\"outlinewidth\":0,\"ticks\":\"\"},\"colorscale\":[[0.0,\"#0d0887\"],[0.1111111111111111,\"#46039f\"],[0.2222222222222222,\"#7201a8\"],[0.3333333333333333,\"#9c179e\"],[0.4444444444444444,\"#bd3786\"],[0.5555555555555556,\"#d8576b\"],[0.6666666666666666,\"#ed7953\"],[0.7777777777777778,\"#fb9f3a\"],[0.8888888888888888,\"#fdca26\"],[1.0,\"#f0f921\"]]}],\"choropleth\":[{\"type\":\"choropleth\",\"colorbar\":{\"outlinewidth\":0,\"ticks\":\"\"}}],\"histogram2d\":[{\"type\":\"histogram2d\",\"colorbar\":{\"outlinewidth\":0,\"ticks\":\"\"},\"colorscale\":[[0.0,\"#0d0887\"],[0.1111111111111111,\"#46039f\"],[0.2222222222222222,\"#7201a8\"],[0.3333333333333333,\"#9c179e\"],[0.4444444444444444,\"#bd3786\"],[0.5555555555555556,\"#d8576b\"],[0.6666666666666666,\"#ed7953\"],[0.7777777777777778,\"#fb9f3a\"],[0.8888888888888888,\"#fdca26\"],[1.0,\"#f0f921\"]]}],\"heatmap\":[{\"type\":\"heatmap\",\"colorbar\":{\"outlinewidth\":0,\"ticks\":\"\"},\"colorscale\":[[0.0,\"#0d0887\"],[0.1111111111111111,\"#46039f\"],[0.2222222222222222,\"#7201a8\"],[0.3333333333333333,\"#9c179e\"],[0.4444444444444444,\"#bd3786\"],[0.5555555555555556,\"#d8576b\"],[0.6666666666666666,\"#ed7953\"],[0.7777777777777778,\"#fb9f3a\"],[0.8888888888888888,\"#fdca26\"],[1.0,\"#f0f921\"]]}],\"heatmapgl\":[{\"type\":\"heatmapgl\",\"colorbar\":{\"outlinewidth\":0,\"ticks\":\"\"},\"colorscale\":[[0.0,\"#0d0887\"],[0.1111111111111111,\"#46039f\"],[0.2222222222222222,\"#7201a8\"],[0.3333333333333333,\"#9c179e\"],[0.4444444444444444,\"#bd3786\"],[0.5555555555555556,\"#d8576b\"],[0.6666666666666666,\"#ed7953\"],[0.7777777777777778,\"#fb9f3a\"],[0.8888888888888888,\"#fdca26\"],[1.0,\"#f0f921\"]]}],\"contourcarpet\":[{\"type\":\"contourcarpet\",\"colorbar\":{\"outlinewidth\":0,\"ticks\":\"\"}}],\"contour\":[{\"type\":\"contour\",\"colorbar\":{\"outlinewidth\":0,\"ticks\":\"\"},\"colorscale\":[[0.0,\"#0d0887\"],[0.1111111111111111,\"#46039f\"],[0.2222222222222222,\"#7201a8\"],[0.3333333333333333,\"#9c179e\"],[0.4444444444444444,\"#bd3786\"],[0.5555555555555556,\"#d8576b\"],[0.6666666666666666,\"#ed7953\"],[0.7777777777777778,\"#fb9f3a\"],[0.8888888888888888,\"#fdca26\"],[1.0,\"#f0f921\"]]}],\"surface\":[{\"type\":\"surface\",\"colorbar\":{\"outlinewidth\":0,\"ticks\":\"\"},\"colorscale\":[[0.0,\"#0d0887\"],[0.1111111111111111,\"#46039f\"],[0.2222222222222222,\"#7201a8\"],[0.3333333333333333,\"#9c179e\"],[0.4444444444444444,\"#bd3786\"],[0.5555555555555556,\"#d8576b\"],[0.6666666666666666,\"#ed7953\"],[0.7777777777777778,\"#fb9f3a\"],[0.8888888888888888,\"#fdca26\"],[1.0,\"#f0f921\"]]}],\"mesh3d\":[{\"type\":\"mesh3d\",\"colorbar\":{\"outlinewidth\":0,\"ticks\":\"\"}}],\"scatter\":[{\"marker\":{\"line\":{\"color\":\"#283442\"}},\"type\":\"scatter\"}],\"parcoords\":[{\"type\":\"parcoords\",\"line\":{\"colorbar\":{\"outlinewidth\":0,\"ticks\":\"\"}}}],\"scatterpolargl\":[{\"type\":\"scatterpolargl\",\"marker\":{\"colorbar\":{\"outlinewidth\":0,\"ticks\":\"\"}}}],\"bar\":[{\"error_x\":{\"color\":\"#f2f5fa\"},\"error_y\":{\"color\":\"#f2f5fa\"},\"marker\":{\"line\":{\"color\":\"rgb(17,17,17)\",\"width\":0.5},\"pattern\":{\"fillmode\":\"overlay\",\"size\":10,\"solidity\":0.2}},\"type\":\"bar\"}],\"scattergeo\":[{\"type\":\"scattergeo\",\"marker\":{\"colorbar\":{\"outlinewidth\":0,\"ticks\":\"\"}}}],\"scatterpolar\":[{\"type\":\"scatterpolar\",\"marker\":{\"colorbar\":{\"outlinewidth\":0,\"ticks\":\"\"}}}],\"histogram\":[{\"marker\":{\"pattern\":{\"fillmode\":\"overlay\",\"size\":10,\"solidity\":0.2}},\"type\":\"histogram\"}],\"scattergl\":[{\"marker\":{\"line\":{\"color\":\"#283442\"}},\"type\":\"scattergl\"}],\"scatter3d\":[{\"type\":\"scatter3d\",\"line\":{\"colorbar\":{\"outlinewidth\":0,\"ticks\":\"\"}},\"marker\":{\"colorbar\":{\"outlinewidth\":0,\"ticks\":\"\"}}}],\"scattermapbox\":[{\"type\":\"scattermapbox\",\"marker\":{\"colorbar\":{\"outlinewidth\":0,\"ticks\":\"\"}}}],\"scatterternary\":[{\"type\":\"scatterternary\",\"marker\":{\"colorbar\":{\"outlinewidth\":0,\"ticks\":\"\"}}}],\"scattercarpet\":[{\"type\":\"scattercarpet\",\"marker\":{\"colorbar\":{\"outlinewidth\":0,\"ticks\":\"\"}}}],\"carpet\":[{\"aaxis\":{\"endlinecolor\":\"#A2B1C6\",\"gridcolor\":\"#506784\",\"linecolor\":\"#506784\",\"minorgridcolor\":\"#506784\",\"startlinecolor\":\"#A2B1C6\"},\"baxis\":{\"endlinecolor\":\"#A2B1C6\",\"gridcolor\":\"#506784\",\"linecolor\":\"#506784\",\"minorgridcolor\":\"#506784\",\"startlinecolor\":\"#A2B1C6\"},\"type\":\"carpet\"}],\"table\":[{\"cells\":{\"fill\":{\"color\":\"#506784\"},\"line\":{\"color\":\"rgb(17,17,17)\"}},\"header\":{\"fill\":{\"color\":\"#2a3f5f\"},\"line\":{\"color\":\"rgb(17,17,17)\"}},\"type\":\"table\"}],\"barpolar\":[{\"marker\":{\"line\":{\"color\":\"rgb(17,17,17)\",\"width\":0.5},\"pattern\":{\"fillmode\":\"overlay\",\"size\":10,\"solidity\":0.2}},\"type\":\"barpolar\"}],\"pie\":[{\"automargin\":true,\"type\":\"pie\"}]},\"layout\":{\"autotypenumbers\":\"strict\",\"colorway\":[\"#636efa\",\"#EF553B\",\"#00cc96\",\"#ab63fa\",\"#FFA15A\",\"#19d3f3\",\"#FF6692\",\"#B6E880\",\"#FF97FF\",\"#FECB52\"],\"font\":{\"color\":\"#f2f5fa\"},\"hovermode\":\"closest\",\"hoverlabel\":{\"align\":\"left\"},\"paper_bgcolor\":\"rgb(17,17,17)\",\"plot_bgcolor\":\"rgb(17,17,17)\",\"polar\":{\"bgcolor\":\"rgb(17,17,17)\",\"angularaxis\":{\"gridcolor\":\"#506784\",\"linecolor\":\"#506784\",\"ticks\":\"\"},\"radialaxis\":{\"gridcolor\":\"#506784\",\"linecolor\":\"#506784\",\"ticks\":\"\"}},\"ternary\":{\"bgcolor\":\"rgb(17,17,17)\",\"aaxis\":{\"gridcolor\":\"#506784\",\"linecolor\":\"#506784\",\"ticks\":\"\"},\"baxis\":{\"gridcolor\":\"#506784\",\"linecolor\":\"#506784\",\"ticks\":\"\"},\"caxis\":{\"gridcolor\":\"#506784\",\"linecolor\":\"#506784\",\"ticks\":\"\"}},\"coloraxis\":{\"colorbar\":{\"outlinewidth\":0,\"ticks\":\"\"}},\"colorscale\":{\"sequential\":[[0.0,\"#0d0887\"],[0.1111111111111111,\"#46039f\"],[0.2222222222222222,\"#7201a8\"],[0.3333333333333333,\"#9c179e\"],[0.4444444444444444,\"#bd3786\"],[0.5555555555555556,\"#d8576b\"],[0.6666666666666666,\"#ed7953\"],[0.7777777777777778,\"#fb9f3a\"],[0.8888888888888888,\"#fdca26\"],[1.0,\"#f0f921\"]],\"sequentialminus\":[[0.0,\"#0d0887\"],[0.1111111111111111,\"#46039f\"],[0.2222222222222222,\"#7201a8\"],[0.3333333333333333,\"#9c179e\"],[0.4444444444444444,\"#bd3786\"],[0.5555555555555556,\"#d8576b\"],[0.6666666666666666,\"#ed7953\"],[0.7777777777777778,\"#fb9f3a\"],[0.8888888888888888,\"#fdca26\"],[1.0,\"#f0f921\"]],\"diverging\":[[0,\"#8e0152\"],[0.1,\"#c51b7d\"],[0.2,\"#de77ae\"],[0.3,\"#f1b6da\"],[0.4,\"#fde0ef\"],[0.5,\"#f7f7f7\"],[0.6,\"#e6f5d0\"],[0.7,\"#b8e186\"],[0.8,\"#7fbc41\"],[0.9,\"#4d9221\"],[1,\"#276419\"]]},\"xaxis\":{\"gridcolor\":\"#283442\",\"linecolor\":\"#506784\",\"ticks\":\"\",\"title\":{\"standoff\":15},\"zerolinecolor\":\"#283442\",\"automargin\":true,\"zerolinewidth\":2},\"yaxis\":{\"gridcolor\":\"#283442\",\"linecolor\":\"#506784\",\"ticks\":\"\",\"title\":{\"standoff\":15},\"zerolinecolor\":\"#283442\",\"automargin\":true,\"zerolinewidth\":2},\"scene\":{\"xaxis\":{\"backgroundcolor\":\"rgb(17,17,17)\",\"gridcolor\":\"#506784\",\"linecolor\":\"#506784\",\"showbackground\":true,\"ticks\":\"\",\"zerolinecolor\":\"#C8D4E3\",\"gridwidth\":2},\"yaxis\":{\"backgroundcolor\":\"rgb(17,17,17)\",\"gridcolor\":\"#506784\",\"linecolor\":\"#506784\",\"showbackground\":true,\"ticks\":\"\",\"zerolinecolor\":\"#C8D4E3\",\"gridwidth\":2},\"zaxis\":{\"backgroundcolor\":\"rgb(17,17,17)\",\"gridcolor\":\"#506784\",\"linecolor\":\"#506784\",\"showbackground\":true,\"ticks\":\"\",\"zerolinecolor\":\"#C8D4E3\",\"gridwidth\":2}},\"shapedefaults\":{\"line\":{\"color\":\"#f2f5fa\"}},\"annotationdefaults\":{\"arrowcolor\":\"#f2f5fa\",\"arrowhead\":0,\"arrowwidth\":1},\"geo\":{\"bgcolor\":\"rgb(17,17,17)\",\"landcolor\":\"rgb(17,17,17)\",\"subunitcolor\":\"#506784\",\"showland\":true,\"showlakes\":true,\"lakecolor\":\"rgb(17,17,17)\"},\"title\":{\"x\":0.05},\"updatemenudefaults\":{\"bgcolor\":\"#506784\",\"borderwidth\":0},\"sliderdefaults\":{\"bgcolor\":\"#C8D4E3\",\"borderwidth\":1,\"bordercolor\":\"rgb(17,17,17)\",\"tickwidth\":0},\"mapbox\":{\"style\":\"dark\"}}},\"margin\":{\"l\":20,\"r\":20,\"t\":20,\"b\":20},\"font\":{\"color\":\"black\"},\"height\":600,\"width\":600,\"paper_bgcolor\":\"white\",\"plot_bgcolor\":\"white\",\"showlegend\":false},                        {\"responsive\": true}                    ).then(function(){\n",
       "                            \n",
       "var gd = document.getElementById('dff66619-d1aa-4d3c-b47b-13e7b200a073');\n",
       "var x = new MutationObserver(function (mutations, observer) {{\n",
       "        var display = window.getComputedStyle(gd).display;\n",
       "        if (!display || display === 'none') {{\n",
       "            console.log([gd, 'removed!']);\n",
       "            Plotly.purge(gd);\n",
       "            observer.disconnect();\n",
       "        }}\n",
       "}});\n",
       "\n",
       "// Listen for the removal of the full notebook cells\n",
       "var notebookContainer = gd.closest('#notebook-container');\n",
       "if (notebookContainer) {{\n",
       "    x.observe(notebookContainer, {childList: true});\n",
       "}}\n",
       "\n",
       "// Listen for the clearing of the current output cell\n",
       "var outputEl = gd.closest('.output');\n",
       "if (outputEl) {{\n",
       "    x.observe(outputEl, {childList: true});\n",
       "}}\n",
       "\n",
       "                        })                };                });            </script>        </div>"
      ]
     },
     "metadata": {},
     "output_type": "display_data"
    }
   ],
   "execution_count": 115
  },
  {
   "metadata": {},
   "cell_type": "markdown",
   "source": "#### Actual return rates",
   "id": "753402fa4287093f"
  },
  {
   "metadata": {
    "ExecuteTime": {
     "end_time": "2025-06-17T16:30:23.177913Z",
     "start_time": "2025-06-17T16:30:23.162831Z"
    }
   },
   "cell_type": "code",
   "source": [
    "importlib.reload(mpt_utils)\n",
    "#\n",
    "mpt_utils.get_portfolio_real_return_rate(df_pct, df_forecast_6m, weights=weights_all_6m)"
   ],
   "id": "e55e63dee4f3f2ab",
   "outputs": [
    {
     "name": "stdout",
     "output_type": "stream",
     "text": [
      "Portfolio real return rate:  0.08%\n"
     ]
    }
   ],
   "execution_count": 116
  },
  {
   "metadata": {},
   "cell_type": "markdown",
   "source": "#### Overview table",
   "id": "6a707bc8ca2c4a74"
  },
  {
   "metadata": {
    "ExecuteTime": {
     "end_time": "2025-06-17T16:30:23.322743Z",
     "start_time": "2025-06-17T16:30:23.300956Z"
    }
   },
   "cell_type": "code",
   "source": [
    "importlib.reload(mpt_utils)\n",
    "# Create overview\n",
    "mpt_utils.generate_overview_table(allocations_6m, mu_6m, S_6m, df_pct)"
   ],
   "id": "9d7b4575e5ced0d8",
   "outputs": [
    {
     "data": {
      "text/plain": [
       "        Share Count  Average Covariance Average Returns Return Last 12 Months  \\\n",
       "FNKO              5           -0.070129          17.77%               -62.69%   \n",
       "CVNA              2           -0.072516           5.19%                98.50%   \n",
       "PAR               1           -0.043097         -19.02%                 1.20%   \n",
       "CON.DE            1            0.024968         -20.02%                19.48%   \n",
       "MDB               1           -0.067097          10.84%                88.40%   \n",
       "...             ...                 ...             ...                   ...   \n",
       "TRTX              1            0.000516          -3.81%               -25.34%   \n",
       "AGNC              1            0.003355         -14.27%                 4.01%   \n",
       "3608.T            1            0.021419          12.16%                81.27%   \n",
       "BDN               2           -0.002839          21.89%               -34.15%   \n",
       "KVHI              1           -0.001935          -2.23%               -56.31%   \n",
       "\n",
       "       Return (Actual) Next 12 Months  \n",
       "FNKO                           34.43%  \n",
       "CVNA                          211.25%  \n",
       "PAR                            41.61%  \n",
       "CON.DE                        -18.83%  \n",
       "MDB                           -15.01%  \n",
       "...                               ...  \n",
       "TRTX                           49.38%  \n",
       "AGNC                           28.11%  \n",
       "3608.T                         12.53%  \n",
       "BDN                            24.52%  \n",
       "KVHI                          -11.70%  \n",
       "\n",
       "[156 rows x 5 columns]"
      ],
      "text/html": [
       "<div>\n",
       "<style scoped>\n",
       "    .dataframe tbody tr th:only-of-type {\n",
       "        vertical-align: middle;\n",
       "    }\n",
       "\n",
       "    .dataframe tbody tr th {\n",
       "        vertical-align: top;\n",
       "    }\n",
       "\n",
       "    .dataframe thead th {\n",
       "        text-align: right;\n",
       "    }\n",
       "</style>\n",
       "<table border=\"1\" class=\"dataframe\">\n",
       "  <thead>\n",
       "    <tr style=\"text-align: right;\">\n",
       "      <th></th>\n",
       "      <th>Share Count</th>\n",
       "      <th>Average Covariance</th>\n",
       "      <th>Average Returns</th>\n",
       "      <th>Return Last 12 Months</th>\n",
       "      <th>Return (Actual) Next 12 Months</th>\n",
       "    </tr>\n",
       "  </thead>\n",
       "  <tbody>\n",
       "    <tr>\n",
       "      <th>FNKO</th>\n",
       "      <td>5</td>\n",
       "      <td>-0.070129</td>\n",
       "      <td>17.77%</td>\n",
       "      <td>-62.69%</td>\n",
       "      <td>34.43%</td>\n",
       "    </tr>\n",
       "    <tr>\n",
       "      <th>CVNA</th>\n",
       "      <td>2</td>\n",
       "      <td>-0.072516</td>\n",
       "      <td>5.19%</td>\n",
       "      <td>98.50%</td>\n",
       "      <td>211.25%</td>\n",
       "    </tr>\n",
       "    <tr>\n",
       "      <th>PAR</th>\n",
       "      <td>1</td>\n",
       "      <td>-0.043097</td>\n",
       "      <td>-19.02%</td>\n",
       "      <td>1.20%</td>\n",
       "      <td>41.61%</td>\n",
       "    </tr>\n",
       "    <tr>\n",
       "      <th>CON.DE</th>\n",
       "      <td>1</td>\n",
       "      <td>0.024968</td>\n",
       "      <td>-20.02%</td>\n",
       "      <td>19.48%</td>\n",
       "      <td>-18.83%</td>\n",
       "    </tr>\n",
       "    <tr>\n",
       "      <th>MDB</th>\n",
       "      <td>1</td>\n",
       "      <td>-0.067097</td>\n",
       "      <td>10.84%</td>\n",
       "      <td>88.40%</td>\n",
       "      <td>-15.01%</td>\n",
       "    </tr>\n",
       "    <tr>\n",
       "      <th>...</th>\n",
       "      <td>...</td>\n",
       "      <td>...</td>\n",
       "      <td>...</td>\n",
       "      <td>...</td>\n",
       "      <td>...</td>\n",
       "    </tr>\n",
       "    <tr>\n",
       "      <th>TRTX</th>\n",
       "      <td>1</td>\n",
       "      <td>0.000516</td>\n",
       "      <td>-3.81%</td>\n",
       "      <td>-25.34%</td>\n",
       "      <td>49.38%</td>\n",
       "    </tr>\n",
       "    <tr>\n",
       "      <th>AGNC</th>\n",
       "      <td>1</td>\n",
       "      <td>0.003355</td>\n",
       "      <td>-14.27%</td>\n",
       "      <td>4.01%</td>\n",
       "      <td>28.11%</td>\n",
       "    </tr>\n",
       "    <tr>\n",
       "      <th>3608.T</th>\n",
       "      <td>1</td>\n",
       "      <td>0.021419</td>\n",
       "      <td>12.16%</td>\n",
       "      <td>81.27%</td>\n",
       "      <td>12.53%</td>\n",
       "    </tr>\n",
       "    <tr>\n",
       "      <th>BDN</th>\n",
       "      <td>2</td>\n",
       "      <td>-0.002839</td>\n",
       "      <td>21.89%</td>\n",
       "      <td>-34.15%</td>\n",
       "      <td>24.52%</td>\n",
       "    </tr>\n",
       "    <tr>\n",
       "      <th>KVHI</th>\n",
       "      <td>1</td>\n",
       "      <td>-0.001935</td>\n",
       "      <td>-2.23%</td>\n",
       "      <td>-56.31%</td>\n",
       "      <td>-11.70%</td>\n",
       "    </tr>\n",
       "  </tbody>\n",
       "</table>\n",
       "<p>156 rows × 5 columns</p>\n",
       "</div>"
      ]
     },
     "execution_count": 117,
     "metadata": {},
     "output_type": "execute_result"
    }
   ],
   "execution_count": 117
  },
  {
   "metadata": {},
   "cell_type": "markdown",
   "source": "### LSTM Univariate - 12 Months",
   "id": "f32c4b7502d9dfb9"
  },
  {
   "metadata": {},
   "cell_type": "markdown",
   "source": [
    "Get the known data (train data)\n",
    "After that, get the first 12 predicted months, or the first 12 predicted sequences of test data"
   ],
   "id": "466f499db0b4fd24"
  },
  {
   "metadata": {
    "ExecuteTime": {
     "end_time": "2025-06-17T16:30:23.349826Z",
     "start_time": "2025-06-17T16:30:23.343114Z"
    }
   },
   "cell_type": "code",
   "source": [
    "df_train = X_train[:, :, -1].clone()\n",
    "y_test_pred_12m = y_test_pred[0,:,:].T[0:12]\n",
    "y_test_pred_12m"
   ],
   "id": "1696162ee878eb39",
   "outputs": [
    {
     "data": {
      "text/plain": [
       "tensor([[-2.2862e-02, -1.6169e-02, -1.6841e-02,  ..., -2.8487e-04,\n",
       "          3.8905e-05, -1.6906e-03],\n",
       "        [ 3.6470e-03, -7.3244e-03, -6.7286e-03,  ...,  2.1560e-03,\n",
       "          2.2464e-03,  1.8057e-03],\n",
       "        [-2.0139e-02, -1.6514e-02, -1.1265e-02,  ...,  2.6666e-03,\n",
       "          2.8850e-03,  2.6790e-03],\n",
       "        ...,\n",
       "        [-1.0484e-02, -5.9916e-03, -1.6203e-03,  ...,  8.6390e-03,\n",
       "          8.6631e-03,  9.7183e-03],\n",
       "        [ 5.1967e-02,  3.4324e-02,  1.8598e-02,  ...,  8.3613e-03,\n",
       "          8.5316e-03,  8.4484e-03],\n",
       "        [ 5.6362e-02,  3.6120e-02,  2.1328e-02,  ...,  9.2894e-03,\n",
       "          9.3684e-03,  8.0125e-03]])"
      ]
     },
     "execution_count": 118,
     "metadata": {},
     "output_type": "execute_result"
    }
   ],
   "execution_count": 118
  },
  {
   "metadata": {
    "ExecuteTime": {
     "end_time": "2025-06-17T16:30:23.801740Z",
     "start_time": "2025-06-17T16:30:23.767541Z"
    }
   },
   "cell_type": "code",
   "source": [
    "df_forecast_12m = pd.DataFrame(df_train.clone())\n",
    "df_forecast_12m = pd.concat([df_forecast_12m, pd.DataFrame(y_test_pred_12m)], ignore_index=True)\n",
    "# Assign back columns and indices to make human understandable\n",
    "df_forecast_12m.columns = df.columns\n",
    "df_forecast_12m.index = pd.to_datetime(df_pct[(in_seq_length - 1) : len(df_forecast_12m) + (in_seq_length - 1)].index)\n",
    "#\n",
    "df_forecast_12m.tail(3)"
   ],
   "id": "38062c6ef3ea54a6",
   "outputs": [
    {
     "data": {
      "text/plain": [
       "                 GME    2124.T    2491.T    2471.T    3046.T    PAT.DE  \\\n",
       "Date                                                                     \n",
       "2019-06-01 -0.010484 -0.005992 -0.001620  0.001425  0.005831  0.009403   \n",
       "2019-07-01  0.051967  0.034324  0.018598  0.016274  0.014241  0.012138   \n",
       "2019-08-01  0.056362  0.036120  0.021328  0.002568  0.012057  0.007178   \n",
       "\n",
       "                CROX    AOF.DE    SFQ.DE       DAN  ...      KREF     HLN.L  \\\n",
       "Date                                                ...                       \n",
       "2019-06-01  0.004748  0.008407  0.014416  0.015395  ...  0.011456  0.010821   \n",
       "2019-07-01  0.007054  0.006717  0.010763  0.011026  ...  0.008136  0.008191   \n",
       "2019-08-01  0.007241  0.006356  0.005094  0.008412  ...  0.004660  0.006193   \n",
       "\n",
       "                 DBX       BNL       CBL      KVUE      PSTL      NTST  \\\n",
       "Date                                                                     \n",
       "2019-06-01  0.008187  0.009303  0.009576  0.009728  0.009390  0.008639   \n",
       "2019-07-01  0.009931  0.008957  0.008626  0.008563  0.008250  0.008361   \n",
       "2019-08-01  0.009908  0.008834  0.008734  0.008356  0.009111  0.009289   \n",
       "\n",
       "                BLCO     NBS.L  \n",
       "Date                            \n",
       "2019-06-01  0.008663  0.009718  \n",
       "2019-07-01  0.008532  0.008448  \n",
       "2019-08-01  0.009368  0.008013  \n",
       "\n",
       "[3 rows x 1332 columns]"
      ],
      "text/html": [
       "<div>\n",
       "<style scoped>\n",
       "    .dataframe tbody tr th:only-of-type {\n",
       "        vertical-align: middle;\n",
       "    }\n",
       "\n",
       "    .dataframe tbody tr th {\n",
       "        vertical-align: top;\n",
       "    }\n",
       "\n",
       "    .dataframe thead th {\n",
       "        text-align: right;\n",
       "    }\n",
       "</style>\n",
       "<table border=\"1\" class=\"dataframe\">\n",
       "  <thead>\n",
       "    <tr style=\"text-align: right;\">\n",
       "      <th></th>\n",
       "      <th>GME</th>\n",
       "      <th>2124.T</th>\n",
       "      <th>2491.T</th>\n",
       "      <th>2471.T</th>\n",
       "      <th>3046.T</th>\n",
       "      <th>PAT.DE</th>\n",
       "      <th>CROX</th>\n",
       "      <th>AOF.DE</th>\n",
       "      <th>SFQ.DE</th>\n",
       "      <th>DAN</th>\n",
       "      <th>...</th>\n",
       "      <th>KREF</th>\n",
       "      <th>HLN.L</th>\n",
       "      <th>DBX</th>\n",
       "      <th>BNL</th>\n",
       "      <th>CBL</th>\n",
       "      <th>KVUE</th>\n",
       "      <th>PSTL</th>\n",
       "      <th>NTST</th>\n",
       "      <th>BLCO</th>\n",
       "      <th>NBS.L</th>\n",
       "    </tr>\n",
       "    <tr>\n",
       "      <th>Date</th>\n",
       "      <th></th>\n",
       "      <th></th>\n",
       "      <th></th>\n",
       "      <th></th>\n",
       "      <th></th>\n",
       "      <th></th>\n",
       "      <th></th>\n",
       "      <th></th>\n",
       "      <th></th>\n",
       "      <th></th>\n",
       "      <th></th>\n",
       "      <th></th>\n",
       "      <th></th>\n",
       "      <th></th>\n",
       "      <th></th>\n",
       "      <th></th>\n",
       "      <th></th>\n",
       "      <th></th>\n",
       "      <th></th>\n",
       "      <th></th>\n",
       "      <th></th>\n",
       "    </tr>\n",
       "  </thead>\n",
       "  <tbody>\n",
       "    <tr>\n",
       "      <th>2019-06-01</th>\n",
       "      <td>-0.010484</td>\n",
       "      <td>-0.005992</td>\n",
       "      <td>-0.001620</td>\n",
       "      <td>0.001425</td>\n",
       "      <td>0.005831</td>\n",
       "      <td>0.009403</td>\n",
       "      <td>0.004748</td>\n",
       "      <td>0.008407</td>\n",
       "      <td>0.014416</td>\n",
       "      <td>0.015395</td>\n",
       "      <td>...</td>\n",
       "      <td>0.011456</td>\n",
       "      <td>0.010821</td>\n",
       "      <td>0.008187</td>\n",
       "      <td>0.009303</td>\n",
       "      <td>0.009576</td>\n",
       "      <td>0.009728</td>\n",
       "      <td>0.009390</td>\n",
       "      <td>0.008639</td>\n",
       "      <td>0.008663</td>\n",
       "      <td>0.009718</td>\n",
       "    </tr>\n",
       "    <tr>\n",
       "      <th>2019-07-01</th>\n",
       "      <td>0.051967</td>\n",
       "      <td>0.034324</td>\n",
       "      <td>0.018598</td>\n",
       "      <td>0.016274</td>\n",
       "      <td>0.014241</td>\n",
       "      <td>0.012138</td>\n",
       "      <td>0.007054</td>\n",
       "      <td>0.006717</td>\n",
       "      <td>0.010763</td>\n",
       "      <td>0.011026</td>\n",
       "      <td>...</td>\n",
       "      <td>0.008136</td>\n",
       "      <td>0.008191</td>\n",
       "      <td>0.009931</td>\n",
       "      <td>0.008957</td>\n",
       "      <td>0.008626</td>\n",
       "      <td>0.008563</td>\n",
       "      <td>0.008250</td>\n",
       "      <td>0.008361</td>\n",
       "      <td>0.008532</td>\n",
       "      <td>0.008448</td>\n",
       "    </tr>\n",
       "    <tr>\n",
       "      <th>2019-08-01</th>\n",
       "      <td>0.056362</td>\n",
       "      <td>0.036120</td>\n",
       "      <td>0.021328</td>\n",
       "      <td>0.002568</td>\n",
       "      <td>0.012057</td>\n",
       "      <td>0.007178</td>\n",
       "      <td>0.007241</td>\n",
       "      <td>0.006356</td>\n",
       "      <td>0.005094</td>\n",
       "      <td>0.008412</td>\n",
       "      <td>...</td>\n",
       "      <td>0.004660</td>\n",
       "      <td>0.006193</td>\n",
       "      <td>0.009908</td>\n",
       "      <td>0.008834</td>\n",
       "      <td>0.008734</td>\n",
       "      <td>0.008356</td>\n",
       "      <td>0.009111</td>\n",
       "      <td>0.009289</td>\n",
       "      <td>0.009368</td>\n",
       "      <td>0.008013</td>\n",
       "    </tr>\n",
       "  </tbody>\n",
       "</table>\n",
       "<p>3 rows × 1332 columns</p>\n",
       "</div>"
      ]
     },
     "execution_count": 119,
     "metadata": {},
     "output_type": "execute_result"
    }
   ],
   "execution_count": 119
  },
  {
   "metadata": {
    "ExecuteTime": {
     "end_time": "2025-06-17T16:31:02.160793Z",
     "start_time": "2025-06-17T16:30:55.805251Z"
    }
   },
   "cell_type": "code",
   "source": [
    "importlib.reload(lstm_utils)\n",
    "importlib.reload(mpt_utils)\n",
    "\n",
    "weights_12m, mu_12m, S_12m, allocations_12m, weights_all_12m = mpt_utils.portfolio_and_plot(df_forecast_12m, df, plot_threshold=0.014)"
   ],
   "id": "8558fe3a04872818",
   "outputs": [
    {
     "name": "stdout",
     "output_type": "stream",
     "text": [
      "Expected annual return: 12.7%\n",
      "Annual volatility: 0.6%\n",
      "Sharpe Ratio: 17.69\n",
      "-- Allocation --\n",
      "{'MDB': 1, 'ROKU': 6, 'MMSI': 4, 'ENPH': 3, '3046.T': 8, 'SHYF': 20, 'DDS': 1, 'TEP.L': 1, '2874.T': 28, '2120.T': 131, 'SNX': 2, 'AMG': 1, '9790.T': 9, 'SAIA': 1, '2170.T': 62, 'SONO': 17, '4218.T': 13, 'ETSY': 2, 'UAA': 23, 'ZD': 2, 'HD': 1, 'PAR': 4, 'CATO': 22, '7947.T': 6, '1925.T': 4, 'CGNX': 3, 'CCK': 1, 'UNM': 2, 'PRI': 1, '8154.T': 2, '4298.T': 13, '8876.T': 10, 'GEN': 6, '4293.T': 32, 'PAT.DE': 12, 'DE': 1, '2331.T': 16, 'VRNT': 5, 'AIV': 15, 'SNWS.L': 1, '7740.T': 6, '9107.T': 7, 'SAX.DE': 1, '7272.T': 9, 'DAVA': 1, '8012.T': 4, 'CON.DE': 1, '9104.T': 2, 'CRI': 1, '2685.T': 2, 'BXMT': 3, '9831.T': 18, 'CLMB': 1, 'MAC': 6, 'INN': 10, '7701.T': 2, '9470.T': 9, '1911.T': 1, 'STGW': 10, '8060.T': 1, 'SNBR': 2, 'ABM': 1, 'AVTR': 2, '9364.T': 1, 'HBI': 9, '8173.T': 2, 'UDR': 1, 'EH': 1, '7914.T': 1, 'CHEF': 1, '8818.T': 2, '7239.T': 2, '8159.T': 1, '8439.T': 2, 'MIR': 2}\n",
      "-- Weights Percentage --\n",
      "{'3046.T': 0.029, 'ENPH': 0.0315, '2170.T': 0.0205, 'DDS': 0.0277, 'SHYF': 0.0278, 'MMSI': 0.0338, 'PAR': 0.0172, 'SAIA': 0.0209, 'ZD': 0.0185, '9790.T': 0.0209, '2120.T': 0.0244, 'TEP.L': 0.0263, 'AMG': 0.022, 'SNX': 0.0242, 'ETSY': 0.019, 'ROKU': 0.046, 'MDB': 0.0506, 'HD': 0.0174, '1925.T': 0.0148, 'UAA': 0.0187, '7947.T': 0.0155, 'CATO': 0.0167, '4218.T': 0.0195, 'SONO': 0.0204, '2874.T': 0.0261, 'Other(50)': 0.3907}\n"
     ]
    },
    {
     "name": "stderr",
     "output_type": "stream",
     "text": [
      "/Users/herbishtini/anaconda3/envs/portfolio_optimisation/lib/python3.11/site-packages/pypfopt/discrete_allocation.py:27: FutureWarning:\n",
      "\n",
      "Downcasting object dtype arrays on .fillna, .ffill, .bfill is deprecated and will change in a future version. Call result.infer_objects(copy=False) instead. To opt-in to the future behavior, set `pd.set_option('future.no_silent_downcasting', True)`\n",
      "\n"
     ]
    },
    {
     "data": {
      "application/vnd.plotly.v1+json": {
       "data": [
        {
         "hole": 0.3,
         "insidetextorientation": "radial",
         "labels": [
          "3046.T",
          "ENPH",
          "2170.T",
          "DDS",
          "SHYF",
          "MMSI",
          "PAR",
          "SAIA",
          "ZD",
          "9790.T",
          "2120.T",
          "TEP.L",
          "AMG",
          "SNX",
          "ETSY",
          "ROKU",
          "MDB",
          "HD",
          "1925.T",
          "UAA",
          "7947.T",
          "CATO",
          "4218.T",
          "SONO",
          "2874.T",
          "Other(50)"
         ],
         "textinfo": "label+percent",
         "textposition": "inside",
         "values": [
          0.0245,
          0.0266,
          0.0173,
          0.0234,
          0.0235,
          0.0285,
          0.0145,
          0.0176,
          0.0156,
          0.0176,
          0.0206,
          0.0222,
          0.0186,
          0.0204,
          0.016,
          0.0388,
          0.0427,
          0.0147,
          0.0125,
          0.0158,
          0.0131,
          0.0141,
          0.0165,
          0.0172,
          0.022,
          0.3298
         ],
         "type": "pie"
        }
       ],
       "layout": {
        "template": {
         "data": {
          "histogram2dcontour": [
           {
            "type": "histogram2dcontour",
            "colorbar": {
             "outlinewidth": 0,
             "ticks": ""
            },
            "colorscale": [
             [
              0.0,
              "#0d0887"
             ],
             [
              0.1111111111111111,
              "#46039f"
             ],
             [
              0.2222222222222222,
              "#7201a8"
             ],
             [
              0.3333333333333333,
              "#9c179e"
             ],
             [
              0.4444444444444444,
              "#bd3786"
             ],
             [
              0.5555555555555556,
              "#d8576b"
             ],
             [
              0.6666666666666666,
              "#ed7953"
             ],
             [
              0.7777777777777778,
              "#fb9f3a"
             ],
             [
              0.8888888888888888,
              "#fdca26"
             ],
             [
              1.0,
              "#f0f921"
             ]
            ]
           }
          ],
          "choropleth": [
           {
            "type": "choropleth",
            "colorbar": {
             "outlinewidth": 0,
             "ticks": ""
            }
           }
          ],
          "histogram2d": [
           {
            "type": "histogram2d",
            "colorbar": {
             "outlinewidth": 0,
             "ticks": ""
            },
            "colorscale": [
             [
              0.0,
              "#0d0887"
             ],
             [
              0.1111111111111111,
              "#46039f"
             ],
             [
              0.2222222222222222,
              "#7201a8"
             ],
             [
              0.3333333333333333,
              "#9c179e"
             ],
             [
              0.4444444444444444,
              "#bd3786"
             ],
             [
              0.5555555555555556,
              "#d8576b"
             ],
             [
              0.6666666666666666,
              "#ed7953"
             ],
             [
              0.7777777777777778,
              "#fb9f3a"
             ],
             [
              0.8888888888888888,
              "#fdca26"
             ],
             [
              1.0,
              "#f0f921"
             ]
            ]
           }
          ],
          "heatmap": [
           {
            "type": "heatmap",
            "colorbar": {
             "outlinewidth": 0,
             "ticks": ""
            },
            "colorscale": [
             [
              0.0,
              "#0d0887"
             ],
             [
              0.1111111111111111,
              "#46039f"
             ],
             [
              0.2222222222222222,
              "#7201a8"
             ],
             [
              0.3333333333333333,
              "#9c179e"
             ],
             [
              0.4444444444444444,
              "#bd3786"
             ],
             [
              0.5555555555555556,
              "#d8576b"
             ],
             [
              0.6666666666666666,
              "#ed7953"
             ],
             [
              0.7777777777777778,
              "#fb9f3a"
             ],
             [
              0.8888888888888888,
              "#fdca26"
             ],
             [
              1.0,
              "#f0f921"
             ]
            ]
           }
          ],
          "heatmapgl": [
           {
            "type": "heatmapgl",
            "colorbar": {
             "outlinewidth": 0,
             "ticks": ""
            },
            "colorscale": [
             [
              0.0,
              "#0d0887"
             ],
             [
              0.1111111111111111,
              "#46039f"
             ],
             [
              0.2222222222222222,
              "#7201a8"
             ],
             [
              0.3333333333333333,
              "#9c179e"
             ],
             [
              0.4444444444444444,
              "#bd3786"
             ],
             [
              0.5555555555555556,
              "#d8576b"
             ],
             [
              0.6666666666666666,
              "#ed7953"
             ],
             [
              0.7777777777777778,
              "#fb9f3a"
             ],
             [
              0.8888888888888888,
              "#fdca26"
             ],
             [
              1.0,
              "#f0f921"
             ]
            ]
           }
          ],
          "contourcarpet": [
           {
            "type": "contourcarpet",
            "colorbar": {
             "outlinewidth": 0,
             "ticks": ""
            }
           }
          ],
          "contour": [
           {
            "type": "contour",
            "colorbar": {
             "outlinewidth": 0,
             "ticks": ""
            },
            "colorscale": [
             [
              0.0,
              "#0d0887"
             ],
             [
              0.1111111111111111,
              "#46039f"
             ],
             [
              0.2222222222222222,
              "#7201a8"
             ],
             [
              0.3333333333333333,
              "#9c179e"
             ],
             [
              0.4444444444444444,
              "#bd3786"
             ],
             [
              0.5555555555555556,
              "#d8576b"
             ],
             [
              0.6666666666666666,
              "#ed7953"
             ],
             [
              0.7777777777777778,
              "#fb9f3a"
             ],
             [
              0.8888888888888888,
              "#fdca26"
             ],
             [
              1.0,
              "#f0f921"
             ]
            ]
           }
          ],
          "surface": [
           {
            "type": "surface",
            "colorbar": {
             "outlinewidth": 0,
             "ticks": ""
            },
            "colorscale": [
             [
              0.0,
              "#0d0887"
             ],
             [
              0.1111111111111111,
              "#46039f"
             ],
             [
              0.2222222222222222,
              "#7201a8"
             ],
             [
              0.3333333333333333,
              "#9c179e"
             ],
             [
              0.4444444444444444,
              "#bd3786"
             ],
             [
              0.5555555555555556,
              "#d8576b"
             ],
             [
              0.6666666666666666,
              "#ed7953"
             ],
             [
              0.7777777777777778,
              "#fb9f3a"
             ],
             [
              0.8888888888888888,
              "#fdca26"
             ],
             [
              1.0,
              "#f0f921"
             ]
            ]
           }
          ],
          "mesh3d": [
           {
            "type": "mesh3d",
            "colorbar": {
             "outlinewidth": 0,
             "ticks": ""
            }
           }
          ],
          "scatter": [
           {
            "marker": {
             "line": {
              "color": "#283442"
             }
            },
            "type": "scatter"
           }
          ],
          "parcoords": [
           {
            "type": "parcoords",
            "line": {
             "colorbar": {
              "outlinewidth": 0,
              "ticks": ""
             }
            }
           }
          ],
          "scatterpolargl": [
           {
            "type": "scatterpolargl",
            "marker": {
             "colorbar": {
              "outlinewidth": 0,
              "ticks": ""
             }
            }
           }
          ],
          "bar": [
           {
            "error_x": {
             "color": "#f2f5fa"
            },
            "error_y": {
             "color": "#f2f5fa"
            },
            "marker": {
             "line": {
              "color": "rgb(17,17,17)",
              "width": 0.5
             },
             "pattern": {
              "fillmode": "overlay",
              "size": 10,
              "solidity": 0.2
             }
            },
            "type": "bar"
           }
          ],
          "scattergeo": [
           {
            "type": "scattergeo",
            "marker": {
             "colorbar": {
              "outlinewidth": 0,
              "ticks": ""
             }
            }
           }
          ],
          "scatterpolar": [
           {
            "type": "scatterpolar",
            "marker": {
             "colorbar": {
              "outlinewidth": 0,
              "ticks": ""
             }
            }
           }
          ],
          "histogram": [
           {
            "marker": {
             "pattern": {
              "fillmode": "overlay",
              "size": 10,
              "solidity": 0.2
             }
            },
            "type": "histogram"
           }
          ],
          "scattergl": [
           {
            "marker": {
             "line": {
              "color": "#283442"
             }
            },
            "type": "scattergl"
           }
          ],
          "scatter3d": [
           {
            "type": "scatter3d",
            "line": {
             "colorbar": {
              "outlinewidth": 0,
              "ticks": ""
             }
            },
            "marker": {
             "colorbar": {
              "outlinewidth": 0,
              "ticks": ""
             }
            }
           }
          ],
          "scattermapbox": [
           {
            "type": "scattermapbox",
            "marker": {
             "colorbar": {
              "outlinewidth": 0,
              "ticks": ""
             }
            }
           }
          ],
          "scatterternary": [
           {
            "type": "scatterternary",
            "marker": {
             "colorbar": {
              "outlinewidth": 0,
              "ticks": ""
             }
            }
           }
          ],
          "scattercarpet": [
           {
            "type": "scattercarpet",
            "marker": {
             "colorbar": {
              "outlinewidth": 0,
              "ticks": ""
             }
            }
           }
          ],
          "carpet": [
           {
            "aaxis": {
             "endlinecolor": "#A2B1C6",
             "gridcolor": "#506784",
             "linecolor": "#506784",
             "minorgridcolor": "#506784",
             "startlinecolor": "#A2B1C6"
            },
            "baxis": {
             "endlinecolor": "#A2B1C6",
             "gridcolor": "#506784",
             "linecolor": "#506784",
             "minorgridcolor": "#506784",
             "startlinecolor": "#A2B1C6"
            },
            "type": "carpet"
           }
          ],
          "table": [
           {
            "cells": {
             "fill": {
              "color": "#506784"
             },
             "line": {
              "color": "rgb(17,17,17)"
             }
            },
            "header": {
             "fill": {
              "color": "#2a3f5f"
             },
             "line": {
              "color": "rgb(17,17,17)"
             }
            },
            "type": "table"
           }
          ],
          "barpolar": [
           {
            "marker": {
             "line": {
              "color": "rgb(17,17,17)",
              "width": 0.5
             },
             "pattern": {
              "fillmode": "overlay",
              "size": 10,
              "solidity": 0.2
             }
            },
            "type": "barpolar"
           }
          ],
          "pie": [
           {
            "automargin": true,
            "type": "pie"
           }
          ]
         },
         "layout": {
          "autotypenumbers": "strict",
          "colorway": [
           "#636efa",
           "#EF553B",
           "#00cc96",
           "#ab63fa",
           "#FFA15A",
           "#19d3f3",
           "#FF6692",
           "#B6E880",
           "#FF97FF",
           "#FECB52"
          ],
          "font": {
           "color": "#f2f5fa"
          },
          "hovermode": "closest",
          "hoverlabel": {
           "align": "left"
          },
          "paper_bgcolor": "rgb(17,17,17)",
          "plot_bgcolor": "rgb(17,17,17)",
          "polar": {
           "bgcolor": "rgb(17,17,17)",
           "angularaxis": {
            "gridcolor": "#506784",
            "linecolor": "#506784",
            "ticks": ""
           },
           "radialaxis": {
            "gridcolor": "#506784",
            "linecolor": "#506784",
            "ticks": ""
           }
          },
          "ternary": {
           "bgcolor": "rgb(17,17,17)",
           "aaxis": {
            "gridcolor": "#506784",
            "linecolor": "#506784",
            "ticks": ""
           },
           "baxis": {
            "gridcolor": "#506784",
            "linecolor": "#506784",
            "ticks": ""
           },
           "caxis": {
            "gridcolor": "#506784",
            "linecolor": "#506784",
            "ticks": ""
           }
          },
          "coloraxis": {
           "colorbar": {
            "outlinewidth": 0,
            "ticks": ""
           }
          },
          "colorscale": {
           "sequential": [
            [
             0.0,
             "#0d0887"
            ],
            [
             0.1111111111111111,
             "#46039f"
            ],
            [
             0.2222222222222222,
             "#7201a8"
            ],
            [
             0.3333333333333333,
             "#9c179e"
            ],
            [
             0.4444444444444444,
             "#bd3786"
            ],
            [
             0.5555555555555556,
             "#d8576b"
            ],
            [
             0.6666666666666666,
             "#ed7953"
            ],
            [
             0.7777777777777778,
             "#fb9f3a"
            ],
            [
             0.8888888888888888,
             "#fdca26"
            ],
            [
             1.0,
             "#f0f921"
            ]
           ],
           "sequentialminus": [
            [
             0.0,
             "#0d0887"
            ],
            [
             0.1111111111111111,
             "#46039f"
            ],
            [
             0.2222222222222222,
             "#7201a8"
            ],
            [
             0.3333333333333333,
             "#9c179e"
            ],
            [
             0.4444444444444444,
             "#bd3786"
            ],
            [
             0.5555555555555556,
             "#d8576b"
            ],
            [
             0.6666666666666666,
             "#ed7953"
            ],
            [
             0.7777777777777778,
             "#fb9f3a"
            ],
            [
             0.8888888888888888,
             "#fdca26"
            ],
            [
             1.0,
             "#f0f921"
            ]
           ],
           "diverging": [
            [
             0,
             "#8e0152"
            ],
            [
             0.1,
             "#c51b7d"
            ],
            [
             0.2,
             "#de77ae"
            ],
            [
             0.3,
             "#f1b6da"
            ],
            [
             0.4,
             "#fde0ef"
            ],
            [
             0.5,
             "#f7f7f7"
            ],
            [
             0.6,
             "#e6f5d0"
            ],
            [
             0.7,
             "#b8e186"
            ],
            [
             0.8,
             "#7fbc41"
            ],
            [
             0.9,
             "#4d9221"
            ],
            [
             1,
             "#276419"
            ]
           ]
          },
          "xaxis": {
           "gridcolor": "#283442",
           "linecolor": "#506784",
           "ticks": "",
           "title": {
            "standoff": 15
           },
           "zerolinecolor": "#283442",
           "automargin": true,
           "zerolinewidth": 2
          },
          "yaxis": {
           "gridcolor": "#283442",
           "linecolor": "#506784",
           "ticks": "",
           "title": {
            "standoff": 15
           },
           "zerolinecolor": "#283442",
           "automargin": true,
           "zerolinewidth": 2
          },
          "scene": {
           "xaxis": {
            "backgroundcolor": "rgb(17,17,17)",
            "gridcolor": "#506784",
            "linecolor": "#506784",
            "showbackground": true,
            "ticks": "",
            "zerolinecolor": "#C8D4E3",
            "gridwidth": 2
           },
           "yaxis": {
            "backgroundcolor": "rgb(17,17,17)",
            "gridcolor": "#506784",
            "linecolor": "#506784",
            "showbackground": true,
            "ticks": "",
            "zerolinecolor": "#C8D4E3",
            "gridwidth": 2
           },
           "zaxis": {
            "backgroundcolor": "rgb(17,17,17)",
            "gridcolor": "#506784",
            "linecolor": "#506784",
            "showbackground": true,
            "ticks": "",
            "zerolinecolor": "#C8D4E3",
            "gridwidth": 2
           }
          },
          "shapedefaults": {
           "line": {
            "color": "#f2f5fa"
           }
          },
          "annotationdefaults": {
           "arrowcolor": "#f2f5fa",
           "arrowhead": 0,
           "arrowwidth": 1
          },
          "geo": {
           "bgcolor": "rgb(17,17,17)",
           "landcolor": "rgb(17,17,17)",
           "subunitcolor": "#506784",
           "showland": true,
           "showlakes": true,
           "lakecolor": "rgb(17,17,17)"
          },
          "title": {
           "x": 0.05
          },
          "updatemenudefaults": {
           "bgcolor": "#506784",
           "borderwidth": 0
          },
          "sliderdefaults": {
           "bgcolor": "#C8D4E3",
           "borderwidth": 1,
           "bordercolor": "rgb(17,17,17)",
           "tickwidth": 0
          },
          "mapbox": {
           "style": "dark"
          }
         }
        },
        "margin": {
         "l": 20,
         "r": 20,
         "t": 20,
         "b": 20
        },
        "font": {
         "color": "black"
        },
        "height": 600,
        "width": 600,
        "paper_bgcolor": "white",
        "plot_bgcolor": "white",
        "showlegend": false
       },
       "config": {
        "plotlyServerURL": "https://plot.ly"
       }
      },
      "text/html": [
       "<div>                            <div id=\"465652fb-8001-48f2-9f16-d20c5c61f6dc\" class=\"plotly-graph-div\" style=\"height:600px; width:600px;\"></div>            <script type=\"text/javascript\">                require([\"plotly\"], function(Plotly) {                    window.PLOTLYENV=window.PLOTLYENV || {};                                    if (document.getElementById(\"465652fb-8001-48f2-9f16-d20c5c61f6dc\")) {                    Plotly.newPlot(                        \"465652fb-8001-48f2-9f16-d20c5c61f6dc\",                        [{\"hole\":0.3,\"insidetextorientation\":\"radial\",\"labels\":[\"3046.T\",\"ENPH\",\"2170.T\",\"DDS\",\"SHYF\",\"MMSI\",\"PAR\",\"SAIA\",\"ZD\",\"9790.T\",\"2120.T\",\"TEP.L\",\"AMG\",\"SNX\",\"ETSY\",\"ROKU\",\"MDB\",\"HD\",\"1925.T\",\"UAA\",\"7947.T\",\"CATO\",\"4218.T\",\"SONO\",\"2874.T\",\"Other(50)\"],\"textinfo\":\"label+percent\",\"textposition\":\"inside\",\"values\":[0.0245,0.0266,0.0173,0.0234,0.0235,0.0285,0.0145,0.0176,0.0156,0.0176,0.0206,0.0222,0.0186,0.0204,0.016,0.0388,0.0427,0.0147,0.0125,0.0158,0.0131,0.0141,0.0165,0.0172,0.022,0.3298],\"type\":\"pie\"}],                        {\"template\":{\"data\":{\"histogram2dcontour\":[{\"type\":\"histogram2dcontour\",\"colorbar\":{\"outlinewidth\":0,\"ticks\":\"\"},\"colorscale\":[[0.0,\"#0d0887\"],[0.1111111111111111,\"#46039f\"],[0.2222222222222222,\"#7201a8\"],[0.3333333333333333,\"#9c179e\"],[0.4444444444444444,\"#bd3786\"],[0.5555555555555556,\"#d8576b\"],[0.6666666666666666,\"#ed7953\"],[0.7777777777777778,\"#fb9f3a\"],[0.8888888888888888,\"#fdca26\"],[1.0,\"#f0f921\"]]}],\"choropleth\":[{\"type\":\"choropleth\",\"colorbar\":{\"outlinewidth\":0,\"ticks\":\"\"}}],\"histogram2d\":[{\"type\":\"histogram2d\",\"colorbar\":{\"outlinewidth\":0,\"ticks\":\"\"},\"colorscale\":[[0.0,\"#0d0887\"],[0.1111111111111111,\"#46039f\"],[0.2222222222222222,\"#7201a8\"],[0.3333333333333333,\"#9c179e\"],[0.4444444444444444,\"#bd3786\"],[0.5555555555555556,\"#d8576b\"],[0.6666666666666666,\"#ed7953\"],[0.7777777777777778,\"#fb9f3a\"],[0.8888888888888888,\"#fdca26\"],[1.0,\"#f0f921\"]]}],\"heatmap\":[{\"type\":\"heatmap\",\"colorbar\":{\"outlinewidth\":0,\"ticks\":\"\"},\"colorscale\":[[0.0,\"#0d0887\"],[0.1111111111111111,\"#46039f\"],[0.2222222222222222,\"#7201a8\"],[0.3333333333333333,\"#9c179e\"],[0.4444444444444444,\"#bd3786\"],[0.5555555555555556,\"#d8576b\"],[0.6666666666666666,\"#ed7953\"],[0.7777777777777778,\"#fb9f3a\"],[0.8888888888888888,\"#fdca26\"],[1.0,\"#f0f921\"]]}],\"heatmapgl\":[{\"type\":\"heatmapgl\",\"colorbar\":{\"outlinewidth\":0,\"ticks\":\"\"},\"colorscale\":[[0.0,\"#0d0887\"],[0.1111111111111111,\"#46039f\"],[0.2222222222222222,\"#7201a8\"],[0.3333333333333333,\"#9c179e\"],[0.4444444444444444,\"#bd3786\"],[0.5555555555555556,\"#d8576b\"],[0.6666666666666666,\"#ed7953\"],[0.7777777777777778,\"#fb9f3a\"],[0.8888888888888888,\"#fdca26\"],[1.0,\"#f0f921\"]]}],\"contourcarpet\":[{\"type\":\"contourcarpet\",\"colorbar\":{\"outlinewidth\":0,\"ticks\":\"\"}}],\"contour\":[{\"type\":\"contour\",\"colorbar\":{\"outlinewidth\":0,\"ticks\":\"\"},\"colorscale\":[[0.0,\"#0d0887\"],[0.1111111111111111,\"#46039f\"],[0.2222222222222222,\"#7201a8\"],[0.3333333333333333,\"#9c179e\"],[0.4444444444444444,\"#bd3786\"],[0.5555555555555556,\"#d8576b\"],[0.6666666666666666,\"#ed7953\"],[0.7777777777777778,\"#fb9f3a\"],[0.8888888888888888,\"#fdca26\"],[1.0,\"#f0f921\"]]}],\"surface\":[{\"type\":\"surface\",\"colorbar\":{\"outlinewidth\":0,\"ticks\":\"\"},\"colorscale\":[[0.0,\"#0d0887\"],[0.1111111111111111,\"#46039f\"],[0.2222222222222222,\"#7201a8\"],[0.3333333333333333,\"#9c179e\"],[0.4444444444444444,\"#bd3786\"],[0.5555555555555556,\"#d8576b\"],[0.6666666666666666,\"#ed7953\"],[0.7777777777777778,\"#fb9f3a\"],[0.8888888888888888,\"#fdca26\"],[1.0,\"#f0f921\"]]}],\"mesh3d\":[{\"type\":\"mesh3d\",\"colorbar\":{\"outlinewidth\":0,\"ticks\":\"\"}}],\"scatter\":[{\"marker\":{\"line\":{\"color\":\"#283442\"}},\"type\":\"scatter\"}],\"parcoords\":[{\"type\":\"parcoords\",\"line\":{\"colorbar\":{\"outlinewidth\":0,\"ticks\":\"\"}}}],\"scatterpolargl\":[{\"type\":\"scatterpolargl\",\"marker\":{\"colorbar\":{\"outlinewidth\":0,\"ticks\":\"\"}}}],\"bar\":[{\"error_x\":{\"color\":\"#f2f5fa\"},\"error_y\":{\"color\":\"#f2f5fa\"},\"marker\":{\"line\":{\"color\":\"rgb(17,17,17)\",\"width\":0.5},\"pattern\":{\"fillmode\":\"overlay\",\"size\":10,\"solidity\":0.2}},\"type\":\"bar\"}],\"scattergeo\":[{\"type\":\"scattergeo\",\"marker\":{\"colorbar\":{\"outlinewidth\":0,\"ticks\":\"\"}}}],\"scatterpolar\":[{\"type\":\"scatterpolar\",\"marker\":{\"colorbar\":{\"outlinewidth\":0,\"ticks\":\"\"}}}],\"histogram\":[{\"marker\":{\"pattern\":{\"fillmode\":\"overlay\",\"size\":10,\"solidity\":0.2}},\"type\":\"histogram\"}],\"scattergl\":[{\"marker\":{\"line\":{\"color\":\"#283442\"}},\"type\":\"scattergl\"}],\"scatter3d\":[{\"type\":\"scatter3d\",\"line\":{\"colorbar\":{\"outlinewidth\":0,\"ticks\":\"\"}},\"marker\":{\"colorbar\":{\"outlinewidth\":0,\"ticks\":\"\"}}}],\"scattermapbox\":[{\"type\":\"scattermapbox\",\"marker\":{\"colorbar\":{\"outlinewidth\":0,\"ticks\":\"\"}}}],\"scatterternary\":[{\"type\":\"scatterternary\",\"marker\":{\"colorbar\":{\"outlinewidth\":0,\"ticks\":\"\"}}}],\"scattercarpet\":[{\"type\":\"scattercarpet\",\"marker\":{\"colorbar\":{\"outlinewidth\":0,\"ticks\":\"\"}}}],\"carpet\":[{\"aaxis\":{\"endlinecolor\":\"#A2B1C6\",\"gridcolor\":\"#506784\",\"linecolor\":\"#506784\",\"minorgridcolor\":\"#506784\",\"startlinecolor\":\"#A2B1C6\"},\"baxis\":{\"endlinecolor\":\"#A2B1C6\",\"gridcolor\":\"#506784\",\"linecolor\":\"#506784\",\"minorgridcolor\":\"#506784\",\"startlinecolor\":\"#A2B1C6\"},\"type\":\"carpet\"}],\"table\":[{\"cells\":{\"fill\":{\"color\":\"#506784\"},\"line\":{\"color\":\"rgb(17,17,17)\"}},\"header\":{\"fill\":{\"color\":\"#2a3f5f\"},\"line\":{\"color\":\"rgb(17,17,17)\"}},\"type\":\"table\"}],\"barpolar\":[{\"marker\":{\"line\":{\"color\":\"rgb(17,17,17)\",\"width\":0.5},\"pattern\":{\"fillmode\":\"overlay\",\"size\":10,\"solidity\":0.2}},\"type\":\"barpolar\"}],\"pie\":[{\"automargin\":true,\"type\":\"pie\"}]},\"layout\":{\"autotypenumbers\":\"strict\",\"colorway\":[\"#636efa\",\"#EF553B\",\"#00cc96\",\"#ab63fa\",\"#FFA15A\",\"#19d3f3\",\"#FF6692\",\"#B6E880\",\"#FF97FF\",\"#FECB52\"],\"font\":{\"color\":\"#f2f5fa\"},\"hovermode\":\"closest\",\"hoverlabel\":{\"align\":\"left\"},\"paper_bgcolor\":\"rgb(17,17,17)\",\"plot_bgcolor\":\"rgb(17,17,17)\",\"polar\":{\"bgcolor\":\"rgb(17,17,17)\",\"angularaxis\":{\"gridcolor\":\"#506784\",\"linecolor\":\"#506784\",\"ticks\":\"\"},\"radialaxis\":{\"gridcolor\":\"#506784\",\"linecolor\":\"#506784\",\"ticks\":\"\"}},\"ternary\":{\"bgcolor\":\"rgb(17,17,17)\",\"aaxis\":{\"gridcolor\":\"#506784\",\"linecolor\":\"#506784\",\"ticks\":\"\"},\"baxis\":{\"gridcolor\":\"#506784\",\"linecolor\":\"#506784\",\"ticks\":\"\"},\"caxis\":{\"gridcolor\":\"#506784\",\"linecolor\":\"#506784\",\"ticks\":\"\"}},\"coloraxis\":{\"colorbar\":{\"outlinewidth\":0,\"ticks\":\"\"}},\"colorscale\":{\"sequential\":[[0.0,\"#0d0887\"],[0.1111111111111111,\"#46039f\"],[0.2222222222222222,\"#7201a8\"],[0.3333333333333333,\"#9c179e\"],[0.4444444444444444,\"#bd3786\"],[0.5555555555555556,\"#d8576b\"],[0.6666666666666666,\"#ed7953\"],[0.7777777777777778,\"#fb9f3a\"],[0.8888888888888888,\"#fdca26\"],[1.0,\"#f0f921\"]],\"sequentialminus\":[[0.0,\"#0d0887\"],[0.1111111111111111,\"#46039f\"],[0.2222222222222222,\"#7201a8\"],[0.3333333333333333,\"#9c179e\"],[0.4444444444444444,\"#bd3786\"],[0.5555555555555556,\"#d8576b\"],[0.6666666666666666,\"#ed7953\"],[0.7777777777777778,\"#fb9f3a\"],[0.8888888888888888,\"#fdca26\"],[1.0,\"#f0f921\"]],\"diverging\":[[0,\"#8e0152\"],[0.1,\"#c51b7d\"],[0.2,\"#de77ae\"],[0.3,\"#f1b6da\"],[0.4,\"#fde0ef\"],[0.5,\"#f7f7f7\"],[0.6,\"#e6f5d0\"],[0.7,\"#b8e186\"],[0.8,\"#7fbc41\"],[0.9,\"#4d9221\"],[1,\"#276419\"]]},\"xaxis\":{\"gridcolor\":\"#283442\",\"linecolor\":\"#506784\",\"ticks\":\"\",\"title\":{\"standoff\":15},\"zerolinecolor\":\"#283442\",\"automargin\":true,\"zerolinewidth\":2},\"yaxis\":{\"gridcolor\":\"#283442\",\"linecolor\":\"#506784\",\"ticks\":\"\",\"title\":{\"standoff\":15},\"zerolinecolor\":\"#283442\",\"automargin\":true,\"zerolinewidth\":2},\"scene\":{\"xaxis\":{\"backgroundcolor\":\"rgb(17,17,17)\",\"gridcolor\":\"#506784\",\"linecolor\":\"#506784\",\"showbackground\":true,\"ticks\":\"\",\"zerolinecolor\":\"#C8D4E3\",\"gridwidth\":2},\"yaxis\":{\"backgroundcolor\":\"rgb(17,17,17)\",\"gridcolor\":\"#506784\",\"linecolor\":\"#506784\",\"showbackground\":true,\"ticks\":\"\",\"zerolinecolor\":\"#C8D4E3\",\"gridwidth\":2},\"zaxis\":{\"backgroundcolor\":\"rgb(17,17,17)\",\"gridcolor\":\"#506784\",\"linecolor\":\"#506784\",\"showbackground\":true,\"ticks\":\"\",\"zerolinecolor\":\"#C8D4E3\",\"gridwidth\":2}},\"shapedefaults\":{\"line\":{\"color\":\"#f2f5fa\"}},\"annotationdefaults\":{\"arrowcolor\":\"#f2f5fa\",\"arrowhead\":0,\"arrowwidth\":1},\"geo\":{\"bgcolor\":\"rgb(17,17,17)\",\"landcolor\":\"rgb(17,17,17)\",\"subunitcolor\":\"#506784\",\"showland\":true,\"showlakes\":true,\"lakecolor\":\"rgb(17,17,17)\"},\"title\":{\"x\":0.05},\"updatemenudefaults\":{\"bgcolor\":\"#506784\",\"borderwidth\":0},\"sliderdefaults\":{\"bgcolor\":\"#C8D4E3\",\"borderwidth\":1,\"bordercolor\":\"rgb(17,17,17)\",\"tickwidth\":0},\"mapbox\":{\"style\":\"dark\"}}},\"margin\":{\"l\":20,\"r\":20,\"t\":20,\"b\":20},\"font\":{\"color\":\"black\"},\"height\":600,\"width\":600,\"paper_bgcolor\":\"white\",\"plot_bgcolor\":\"white\",\"showlegend\":false},                        {\"responsive\": true}                    ).then(function(){\n",
       "                            \n",
       "var gd = document.getElementById('465652fb-8001-48f2-9f16-d20c5c61f6dc');\n",
       "var x = new MutationObserver(function (mutations, observer) {{\n",
       "        var display = window.getComputedStyle(gd).display;\n",
       "        if (!display || display === 'none') {{\n",
       "            console.log([gd, 'removed!']);\n",
       "            Plotly.purge(gd);\n",
       "            observer.disconnect();\n",
       "        }}\n",
       "}});\n",
       "\n",
       "// Listen for the removal of the full notebook cells\n",
       "var notebookContainer = gd.closest('#notebook-container');\n",
       "if (notebookContainer) {{\n",
       "    x.observe(notebookContainer, {childList: true});\n",
       "}}\n",
       "\n",
       "// Listen for the clearing of the current output cell\n",
       "var outputEl = gd.closest('.output');\n",
       "if (outputEl) {{\n",
       "    x.observe(outputEl, {childList: true});\n",
       "}}\n",
       "\n",
       "                        })                };                });            </script>        </div>"
      ]
     },
     "metadata": {},
     "output_type": "display_data"
    }
   ],
   "execution_count": 121
  },
  {
   "metadata": {},
   "cell_type": "markdown",
   "source": "#### Actual return rates",
   "id": "406499fe7c4fbff3"
  },
  {
   "metadata": {
    "ExecuteTime": {
     "end_time": "2025-06-17T16:31:02.320011Z",
     "start_time": "2025-06-17T16:31:02.305593Z"
    }
   },
   "cell_type": "code",
   "source": [
    "importlib.reload(mpt_utils)\n",
    "#\n",
    "mpt_utils.get_portfolio_real_return_rate(df_pct, df_forecast_12m, weights=weights_all_12m, months=12)"
   ],
   "id": "8a71eb6946af1fa7",
   "outputs": [
    {
     "name": "stdout",
     "output_type": "stream",
     "text": [
      "Portfolio real return rate:  0.22%\n"
     ]
    }
   ],
   "execution_count": 122
  },
  {
   "metadata": {},
   "cell_type": "markdown",
   "source": "#### Overview Table",
   "id": "92480eee8b184695"
  },
  {
   "metadata": {
    "ExecuteTime": {
     "end_time": "2025-06-17T16:31:02.405641Z",
     "start_time": "2025-06-17T16:31:02.386303Z"
    }
   },
   "cell_type": "code",
   "source": [
    "importlib.reload(mpt_utils)\n",
    "# Create overview\n",
    "mpt_utils.generate_overview_table(allocations_12m, mu_12m, S_12m, df_pct)"
   ],
   "id": "492409156d4d2ec5",
   "outputs": [
    {
     "data": {
      "text/plain": [
       "        Share Count  Average Covariance Average Returns Return Last 12 Months  \\\n",
       "MDB               1            0.000000          11.91%                88.40%   \n",
       "ROKU              6           -0.000541          12.63%                 8.15%   \n",
       "MMSI              4            0.000000          11.11%                 0.48%   \n",
       "ENPH              3           -0.001216          13.83%               -74.11%   \n",
       "3046.T            8            0.000000          20.76%                -4.69%   \n",
       "...             ...                 ...             ...                   ...   \n",
       "8818.T            2            0.000000           6.22%                 8.82%   \n",
       "7239.T            2            0.000000           9.39%                55.39%   \n",
       "8159.T            1            0.000000          10.02%                65.71%   \n",
       "8439.T            2            0.000000           7.15%                16.81%   \n",
       "MIR               2            0.000000           8.33%               -14.36%   \n",
       "\n",
       "       Return (Actual) Next 12 Months  \n",
       "MDB                           -15.01%  \n",
       "ROKU                           -8.01%  \n",
       "MMSI                           39.39%  \n",
       "ENPH                          -13.52%  \n",
       "3046.T                         66.83%  \n",
       "...                               ...  \n",
       "8818.T                         17.35%  \n",
       "7239.T                         17.28%  \n",
       "8159.T                         -2.23%  \n",
       "8439.T                         17.89%  \n",
       "MIR                            28.03%  \n",
       "\n",
       "[75 rows x 5 columns]"
      ],
      "text/html": [
       "<div>\n",
       "<style scoped>\n",
       "    .dataframe tbody tr th:only-of-type {\n",
       "        vertical-align: middle;\n",
       "    }\n",
       "\n",
       "    .dataframe tbody tr th {\n",
       "        vertical-align: top;\n",
       "    }\n",
       "\n",
       "    .dataframe thead th {\n",
       "        text-align: right;\n",
       "    }\n",
       "</style>\n",
       "<table border=\"1\" class=\"dataframe\">\n",
       "  <thead>\n",
       "    <tr style=\"text-align: right;\">\n",
       "      <th></th>\n",
       "      <th>Share Count</th>\n",
       "      <th>Average Covariance</th>\n",
       "      <th>Average Returns</th>\n",
       "      <th>Return Last 12 Months</th>\n",
       "      <th>Return (Actual) Next 12 Months</th>\n",
       "    </tr>\n",
       "  </thead>\n",
       "  <tbody>\n",
       "    <tr>\n",
       "      <th>MDB</th>\n",
       "      <td>1</td>\n",
       "      <td>0.000000</td>\n",
       "      <td>11.91%</td>\n",
       "      <td>88.40%</td>\n",
       "      <td>-15.01%</td>\n",
       "    </tr>\n",
       "    <tr>\n",
       "      <th>ROKU</th>\n",
       "      <td>6</td>\n",
       "      <td>-0.000541</td>\n",
       "      <td>12.63%</td>\n",
       "      <td>8.15%</td>\n",
       "      <td>-8.01%</td>\n",
       "    </tr>\n",
       "    <tr>\n",
       "      <th>MMSI</th>\n",
       "      <td>4</td>\n",
       "      <td>0.000000</td>\n",
       "      <td>11.11%</td>\n",
       "      <td>0.48%</td>\n",
       "      <td>39.39%</td>\n",
       "    </tr>\n",
       "    <tr>\n",
       "      <th>ENPH</th>\n",
       "      <td>3</td>\n",
       "      <td>-0.001216</td>\n",
       "      <td>13.83%</td>\n",
       "      <td>-74.11%</td>\n",
       "      <td>-13.52%</td>\n",
       "    </tr>\n",
       "    <tr>\n",
       "      <th>3046.T</th>\n",
       "      <td>8</td>\n",
       "      <td>0.000000</td>\n",
       "      <td>20.76%</td>\n",
       "      <td>-4.69%</td>\n",
       "      <td>66.83%</td>\n",
       "    </tr>\n",
       "    <tr>\n",
       "      <th>...</th>\n",
       "      <td>...</td>\n",
       "      <td>...</td>\n",
       "      <td>...</td>\n",
       "      <td>...</td>\n",
       "      <td>...</td>\n",
       "    </tr>\n",
       "    <tr>\n",
       "      <th>8818.T</th>\n",
       "      <td>2</td>\n",
       "      <td>0.000000</td>\n",
       "      <td>6.22%</td>\n",
       "      <td>8.82%</td>\n",
       "      <td>17.35%</td>\n",
       "    </tr>\n",
       "    <tr>\n",
       "      <th>7239.T</th>\n",
       "      <td>2</td>\n",
       "      <td>0.000000</td>\n",
       "      <td>9.39%</td>\n",
       "      <td>55.39%</td>\n",
       "      <td>17.28%</td>\n",
       "    </tr>\n",
       "    <tr>\n",
       "      <th>8159.T</th>\n",
       "      <td>1</td>\n",
       "      <td>0.000000</td>\n",
       "      <td>10.02%</td>\n",
       "      <td>65.71%</td>\n",
       "      <td>-2.23%</td>\n",
       "    </tr>\n",
       "    <tr>\n",
       "      <th>8439.T</th>\n",
       "      <td>2</td>\n",
       "      <td>0.000000</td>\n",
       "      <td>7.15%</td>\n",
       "      <td>16.81%</td>\n",
       "      <td>17.89%</td>\n",
       "    </tr>\n",
       "    <tr>\n",
       "      <th>MIR</th>\n",
       "      <td>2</td>\n",
       "      <td>0.000000</td>\n",
       "      <td>8.33%</td>\n",
       "      <td>-14.36%</td>\n",
       "      <td>28.03%</td>\n",
       "    </tr>\n",
       "  </tbody>\n",
       "</table>\n",
       "<p>75 rows × 5 columns</p>\n",
       "</div>"
      ]
     },
     "execution_count": 123,
     "metadata": {},
     "output_type": "execute_result"
    }
   ],
   "execution_count": 123
  },
  {
   "metadata": {
    "ExecuteTime": {
     "end_time": "2025-06-17T16:31:02.478262Z",
     "start_time": "2025-06-17T16:31:02.477057Z"
    }
   },
   "cell_type": "code",
   "source": "",
   "id": "d1d279e2a4b2f883",
   "outputs": [],
   "execution_count": null
  }
 ],
 "metadata": {
  "kernelspec": {
   "display_name": "Python 3",
   "language": "python",
   "name": "python3"
  },
  "language_info": {
   "codemirror_mode": {
    "name": "ipython",
    "version": 2
   },
   "file_extension": ".py",
   "mimetype": "text/x-python",
   "name": "python",
   "nbconvert_exporter": "python",
   "pygments_lexer": "ipython2",
   "version": "2.7.6"
  }
 },
 "nbformat": 4,
 "nbformat_minor": 5
}
