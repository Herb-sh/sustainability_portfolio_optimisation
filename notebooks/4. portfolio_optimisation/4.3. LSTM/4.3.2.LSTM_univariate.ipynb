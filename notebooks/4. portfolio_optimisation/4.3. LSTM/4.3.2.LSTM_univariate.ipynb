{
 "cells": [
  {
   "metadata": {
    "ExecuteTime": {
     "end_time": "2025-06-15T20:51:57.760023Z",
     "start_time": "2025-06-15T20:51:57.756209Z"
    }
   },
   "cell_type": "code",
   "source": [
    "import torch\n",
    "import torch.nn as nn\n",
    "import torch.optim as optim\n",
    "import pandas as pd\n",
    "#\n",
    "import importlib\n",
    "import utilities.lstm_utils as lstm_utils\n",
    "import utilities.mpt_utils as mpt_utils\n",
    "import utilities.variables as variables"
   ],
   "id": "9be531e52190f129",
   "outputs": [],
   "execution_count": 49
  },
  {
   "metadata": {
    "ExecuteTime": {
     "end_time": "2025-06-15T20:51:57.771252Z",
     "start_time": "2025-06-15T20:51:57.768737Z"
    }
   },
   "cell_type": "code",
   "source": [
    "# set device (GPU if available)\n",
    "device = torch.device(\"cuda\" if torch.cuda.is_available() else \"cpu\")"
   ],
   "id": "6853a9962a424a1c",
   "outputs": [],
   "execution_count": 50
  },
  {
   "metadata": {},
   "cell_type": "markdown",
   "source": "## Data",
   "id": "fe8516df25855518"
  },
  {
   "metadata": {
    "ExecuteTime": {
     "end_time": "2025-06-15T20:51:57.909863Z",
     "start_time": "2025-06-15T20:51:57.801469Z"
    }
   },
   "cell_type": "code",
   "source": [
    "df = pd.read_csv('../../../data/df_monthly_prices_complete_euro.csv', index_col='Date')\n",
    "df_pct = pd.read_csv('../../../data/df_monthly_returns_complete.csv', index_col='Date')\n",
    "df_overview = pd.read_csv('../../../data/df_overview.csv', index_col=0)"
   ],
   "id": "4513018354bbc541",
   "outputs": [],
   "execution_count": 51
  },
  {
   "metadata": {},
   "cell_type": "markdown",
   "source": "## LSTM Model",
   "id": "d5b44de5e3c4223c"
  },
  {
   "metadata": {
    "ExecuteTime": {
     "end_time": "2025-06-15T20:51:57.966902Z",
     "start_time": "2025-06-15T20:51:57.963243Z"
    }
   },
   "cell_type": "code",
   "source": [
    "# Define 4.3. LSTM model\n",
    "class LSTM_Uni_Model(nn.Module):\n",
    "    def __init__(self, input_size, hidden_size=128, num_layers=1, output_size=1, learning_rate=0.001, dropout=0.2): # , hidden_size=128\n",
    "        super(LSTM_Uni_Model, self).__init__()\n",
    "        self.hidden_size = hidden_size\n",
    "        # init LSTM\n",
    "        self.lstm = nn.LSTM(input_size=input_size,\n",
    "                            hidden_size=hidden_size,\n",
    "                            # num_layers=num_layers,\n",
    "                            batch_first=True)\n",
    "\n",
    "        # FC layer for final prediction\n",
    "        self.fc_final = nn.Linear(hidden_size, 12)\n",
    "\n",
    "    def forward(self, ts_batch): # ts_batch (64, 1653, 10), static_data (64, 1653, 44)\n",
    "        # Time-Series Data\n",
    "        # Reshape dynamic data for LSTM (requires time-step as 2nd dimension)\n",
    "        batch_size, num_stocks, sequence_length = ts_batch.shape[0], ts_batch.shape[1], ts_batch.shape[2]\n",
    "        ts_batch_reshaped = ts_batch.view(batch_size * num_stocks, sequence_length)\n",
    "        #\n",
    "        ts_output_1, (hidden, cell)  = self.lstm(ts_batch_reshaped) # ts_batch_reshaped\n",
    "        #\n",
    "        ts_output = ts_output_1.view(batch_size, num_stocks, self.hidden_size)\n",
    "\n",
    "        return self.fc_final(ts_output)#.squeeze(-1) # ts_output_2"
   ],
   "id": "ff4cbc246759fc20",
   "outputs": [],
   "execution_count": 53
  },
  {
   "metadata": {},
   "cell_type": "markdown",
   "source": [
    "We use a 12 month lookback for the sequential data to predict the upcoming 12 months.\n",
    "\n",
    "After that, based on the currently predicted time-horizon, we get the respective sub-range, \n",
    "be it 1-month, 6-month or 12-month ahead."
   ],
   "id": "3f14312f686aafa8"
  },
  {
   "metadata": {
    "ExecuteTime": {
     "end_time": "2025-06-15T20:51:57.993614Z",
     "start_time": "2025-06-15T20:51:57.991411Z"
    }
   },
   "cell_type": "code",
   "source": [
    "# Set sequence length (12 months)\n",
    "in_seq_length = 12\n",
    "out_seq_length = 12\n",
    "#\n",
    "out_seq_length_1m = 1\n",
    "out_seq_length_6m = 6\n",
    "out_seq_length_12m = 12"
   ],
   "id": "4bb4ad974e9f4f73",
   "outputs": [],
   "execution_count": 54
  },
  {
   "metadata": {},
   "cell_type": "markdown",
   "source": "### LSTM Univariate",
   "id": "f3bf50fecdb9e99a"
  },
  {
   "metadata": {
    "ExecuteTime": {
     "end_time": "2025-06-15T20:51:58.020222Z",
     "start_time": "2025-06-15T20:51:58.016367Z"
    }
   },
   "cell_type": "code",
   "source": "df_to_evaluate = df_pct - 1",
   "id": "c6bc6e1efb7cf30b",
   "outputs": [],
   "execution_count": 55
  },
  {
   "metadata": {},
   "cell_type": "markdown",
   "source": "#### Train-Test Splits",
   "id": "6ce4ba4bb6d29a7d"
  },
  {
   "metadata": {},
   "cell_type": "markdown",
   "source": "Split the data into training and testing sets",
   "id": "ad62c65eeaec57a4"
  },
  {
   "metadata": {
    "ExecuteTime": {
     "end_time": "2025-06-15T20:51:58.931593Z",
     "start_time": "2025-06-15T20:51:58.048001Z"
    }
   },
   "cell_type": "code",
   "source": [
    "importlib.reload(lstm_utils)\n",
    "importlib.reload(variables)\n",
    "\n",
    "# Set sequence length (e.g., 12 time points)\n",
    "X_train, X_test, y_train, y_test = lstm_utils.split_train_test(df_to_evaluate, [], \n",
    "                                                               in_seq_length=in_seq_length, \n",
    "                                                               out_seq_length=out_seq_length, \n",
    "                                                               validation_months=(variables.LSTM_TEST_YEARS_NR * 12))\n",
    "\n",
    "# Check the shapes of the training and test data\n",
    "print(\"Shape of X_train:\", X_train.shape)\n",
    "print(\"Shape of y_train:\", y_train.shape)\n",
    "print(\"Shape of X_test:\", X_test.shape)\n",
    "print(\"Shape of y_test:\", y_test.shape)"
   ],
   "id": "a758546911c3a7a7",
   "outputs": [
    {
     "name": "stdout",
     "output_type": "stream",
     "text": [
      "Shape of X_train: torch.Size([215, 1332, 12])\n",
      "Shape of y_train: torch.Size([215, 1332, 12])\n",
      "Shape of X_test: torch.Size([60, 1332, 12])\n",
      "Shape of y_test: torch.Size([60, 1332, 12])\n"
     ]
    }
   ],
   "execution_count": 56
  },
  {
   "metadata": {},
   "cell_type": "markdown",
   "source": "### Model Training",
   "id": "7173f848c5f8057e"
  },
  {
   "metadata": {
    "ExecuteTime": {
     "end_time": "2025-06-15T20:51:58.957274Z",
     "start_time": "2025-06-15T20:51:58.954584Z"
    }
   },
   "cell_type": "code",
   "source": "X_test.shape",
   "id": "7e71df58b473b96b",
   "outputs": [
    {
     "data": {
      "text/plain": [
       "torch.Size([60, 1332, 12])"
      ]
     },
     "execution_count": 57,
     "metadata": {},
     "output_type": "execute_result"
    }
   ],
   "execution_count": 57
  },
  {
   "metadata": {
    "ExecuteTime": {
     "end_time": "2025-06-15T20:51:58.982365Z",
     "start_time": "2025-06-15T20:51:58.979446Z"
    }
   },
   "cell_type": "code",
   "source": "y_test.shape",
   "id": "d109ae7842e53a91",
   "outputs": [
    {
     "data": {
      "text/plain": [
       "torch.Size([60, 1332, 12])"
      ]
     },
     "execution_count": 58,
     "metadata": {},
     "output_type": "execute_result"
    }
   ],
   "execution_count": 58
  },
  {
   "metadata": {
    "ExecuteTime": {
     "end_time": "2025-06-15T20:59:31.002351Z",
     "start_time": "2025-06-15T20:51:59.005368Z"
    }
   },
   "cell_type": "code",
   "source": [
    "# Model, Loss, Optimizer\n",
    "model = LSTM_Uni_Model(input_size=in_seq_length, output_size=out_seq_length).to(device)\n",
    "criterion = nn.MSELoss()  # Mean Squared Error for regression\n",
    "optimizer = optim.Adam(model.parameters(), lr=0.001)\n",
    "\n",
    "importlib.reload(lstm_utils)\n",
    "#\n",
    "model, y_train_pred, y_test_pred = lstm_utils.lstm_train_validate(model, optimizer, X_train, X_test, y_train, y_test)"
   ],
   "id": "fe9300ce5450c4bf",
   "outputs": [
    {
     "name": "stdout",
     "output_type": "stream",
     "text": [
      "Epoch 1/10, Loss: 0.0137, Train RMSE: 0.1174, Test RMSE: 0.1272. \n",
      "Epoch 2/10, Loss: 0.0130, Train RMSE: 0.1144, Test RMSE: 0.1269. \n",
      "Epoch 3/10, Loss: 0.0129, Train RMSE: 0.1136, Test RMSE: 0.1268. \n",
      "Epoch 4/10, Loss: 0.0128, Train RMSE: 0.1135, Test RMSE: 0.1268. \n",
      "Epoch 5/10, Loss: 0.0128, Train RMSE: 0.1134, Test RMSE: 0.1267. \n",
      "Epoch 6/10, Loss: 0.0128, Train RMSE: 0.1134, Test RMSE: 0.1267. \n",
      "Epoch 7/10, Loss: 0.0128, Train RMSE: 0.1133, Test RMSE: 0.1267. \n",
      "Epoch 8/10, Loss: 0.0128, Train RMSE: 0.1133, Test RMSE: 0.1268. \n",
      "Epoch 9/10, Loss: 0.0128, Train RMSE: 0.1133, Test RMSE: 0.1268. \n",
      "Epoch 10/10, Loss: 0.0128, Train RMSE: 0.1133, Test RMSE: 0.1268. \n",
      "Model training complete and saved.\n"
     ]
    }
   ],
   "execution_count": 59
  },
  {
   "metadata": {},
   "cell_type": "markdown",
   "source": "### LSTM Univariate - 1 Month",
   "id": "d5318687c5affaa7"
  },
  {
   "metadata": {},
   "cell_type": "markdown",
   "source": [
    "Get the known data (train data).\n",
    "After that, get the first predicted month, or the first predicted sequence of test data"
   ],
   "id": "258c27b9defb7c70"
  },
  {
   "metadata": {
    "ExecuteTime": {
     "end_time": "2025-06-15T20:59:31.087775Z",
     "start_time": "2025-06-15T20:59:31.078063Z"
    }
   },
   "cell_type": "code",
   "source": [
    "# 1 month\n",
    "df_train = X_train[:, :, -1].clone()\n",
    "y_test_pred_1m = y_test_pred[0,:,:].T[0:0] # y_test_pred[:,:,0][0] \n",
    "y_test_pred_1m"
   ],
   "id": "4e354978addc055d",
   "outputs": [
    {
     "data": {
      "text/plain": [
       "tensor([], size=(0, 1332))"
      ]
     },
     "execution_count": 60,
     "metadata": {},
     "output_type": "execute_result"
    }
   ],
   "execution_count": 60
  },
  {
   "metadata": {
    "ExecuteTime": {
     "end_time": "2025-06-15T20:59:31.197962Z",
     "start_time": "2025-06-15T20:59:31.165553Z"
    }
   },
   "cell_type": "code",
   "source": [
    "df_forecast_1m = pd.DataFrame(df_train.clone())\n",
    "df_forecast_1m = pd.concat([df_forecast_1m, pd.DataFrame(y_test_pred_1m)], ignore_index=True)\n",
    "# Assign back columns and indices to make human understandable\n",
    "df_forecast_1m.columns = df.columns\n",
    "df_forecast_1m.index = df_pct[(in_seq_length - 1) : len(df_forecast_1m) + (in_seq_length - 1)].index\n",
    "#\n",
    "df_forecast_1m = df_forecast_1m.tail(variables.LSTM_TEST_YEARS_NR * 12) \n",
    "#\n",
    "df_forecast_1m.tail(3)"
   ],
   "id": "1b9c596330067ac4",
   "outputs": [
    {
     "data": {
      "text/plain": [
       "             GME  2124.T  2491.T  2471.T  3046.T  PAT.DE  CROX  AOF.DE  \\\n",
       "Date                                                                     \n",
       "2018-06-01  0.10    0.10    0.25   -0.24    0.04   -0.07 -0.01    0.10   \n",
       "2018-07-01  0.02    0.00    0.04    0.10    0.00    0.19  0.03   -0.01   \n",
       "2018-08-01 -0.08    0.01    0.07    0.13   -0.09   -0.07  0.14   -0.07   \n",
       "\n",
       "            SFQ.DE   DAN  ...  KREF  HLN.L   DBX  BNL  CBL  KVUE  PSTL  NTST  \\\n",
       "Date                      ...                                                  \n",
       "2018-06-01   -0.18 -0.09  ... -0.03    0.0  0.08  0.0  0.0   0.0  0.02  0.02   \n",
       "2018-07-01    0.10  0.06  ...  0.07    0.0 -0.17  0.0  0.0   0.0  0.00  0.00   \n",
       "2018-08-01   -0.06 -0.08  ...  0.02    0.0  0.00  0.0  0.0   0.0 -0.01  0.00   \n",
       "\n",
       "            BLCO  NBS.L  \n",
       "Date                     \n",
       "2018-06-01   0.0    0.0  \n",
       "2018-07-01   0.0    0.0  \n",
       "2018-08-01   0.0    0.0  \n",
       "\n",
       "[3 rows x 1332 columns]"
      ],
      "text/html": [
       "<div>\n",
       "<style scoped>\n",
       "    .dataframe tbody tr th:only-of-type {\n",
       "        vertical-align: middle;\n",
       "    }\n",
       "\n",
       "    .dataframe tbody tr th {\n",
       "        vertical-align: top;\n",
       "    }\n",
       "\n",
       "    .dataframe thead th {\n",
       "        text-align: right;\n",
       "    }\n",
       "</style>\n",
       "<table border=\"1\" class=\"dataframe\">\n",
       "  <thead>\n",
       "    <tr style=\"text-align: right;\">\n",
       "      <th></th>\n",
       "      <th>GME</th>\n",
       "      <th>2124.T</th>\n",
       "      <th>2491.T</th>\n",
       "      <th>2471.T</th>\n",
       "      <th>3046.T</th>\n",
       "      <th>PAT.DE</th>\n",
       "      <th>CROX</th>\n",
       "      <th>AOF.DE</th>\n",
       "      <th>SFQ.DE</th>\n",
       "      <th>DAN</th>\n",
       "      <th>...</th>\n",
       "      <th>KREF</th>\n",
       "      <th>HLN.L</th>\n",
       "      <th>DBX</th>\n",
       "      <th>BNL</th>\n",
       "      <th>CBL</th>\n",
       "      <th>KVUE</th>\n",
       "      <th>PSTL</th>\n",
       "      <th>NTST</th>\n",
       "      <th>BLCO</th>\n",
       "      <th>NBS.L</th>\n",
       "    </tr>\n",
       "    <tr>\n",
       "      <th>Date</th>\n",
       "      <th></th>\n",
       "      <th></th>\n",
       "      <th></th>\n",
       "      <th></th>\n",
       "      <th></th>\n",
       "      <th></th>\n",
       "      <th></th>\n",
       "      <th></th>\n",
       "      <th></th>\n",
       "      <th></th>\n",
       "      <th></th>\n",
       "      <th></th>\n",
       "      <th></th>\n",
       "      <th></th>\n",
       "      <th></th>\n",
       "      <th></th>\n",
       "      <th></th>\n",
       "      <th></th>\n",
       "      <th></th>\n",
       "      <th></th>\n",
       "      <th></th>\n",
       "    </tr>\n",
       "  </thead>\n",
       "  <tbody>\n",
       "    <tr>\n",
       "      <th>2018-06-01</th>\n",
       "      <td>0.10</td>\n",
       "      <td>0.10</td>\n",
       "      <td>0.25</td>\n",
       "      <td>-0.24</td>\n",
       "      <td>0.04</td>\n",
       "      <td>-0.07</td>\n",
       "      <td>-0.01</td>\n",
       "      <td>0.10</td>\n",
       "      <td>-0.18</td>\n",
       "      <td>-0.09</td>\n",
       "      <td>...</td>\n",
       "      <td>-0.03</td>\n",
       "      <td>0.0</td>\n",
       "      <td>0.08</td>\n",
       "      <td>0.0</td>\n",
       "      <td>0.0</td>\n",
       "      <td>0.0</td>\n",
       "      <td>0.02</td>\n",
       "      <td>0.02</td>\n",
       "      <td>0.0</td>\n",
       "      <td>0.0</td>\n",
       "    </tr>\n",
       "    <tr>\n",
       "      <th>2018-07-01</th>\n",
       "      <td>0.02</td>\n",
       "      <td>0.00</td>\n",
       "      <td>0.04</td>\n",
       "      <td>0.10</td>\n",
       "      <td>0.00</td>\n",
       "      <td>0.19</td>\n",
       "      <td>0.03</td>\n",
       "      <td>-0.01</td>\n",
       "      <td>0.10</td>\n",
       "      <td>0.06</td>\n",
       "      <td>...</td>\n",
       "      <td>0.07</td>\n",
       "      <td>0.0</td>\n",
       "      <td>-0.17</td>\n",
       "      <td>0.0</td>\n",
       "      <td>0.0</td>\n",
       "      <td>0.0</td>\n",
       "      <td>0.00</td>\n",
       "      <td>0.00</td>\n",
       "      <td>0.0</td>\n",
       "      <td>0.0</td>\n",
       "    </tr>\n",
       "    <tr>\n",
       "      <th>2018-08-01</th>\n",
       "      <td>-0.08</td>\n",
       "      <td>0.01</td>\n",
       "      <td>0.07</td>\n",
       "      <td>0.13</td>\n",
       "      <td>-0.09</td>\n",
       "      <td>-0.07</td>\n",
       "      <td>0.14</td>\n",
       "      <td>-0.07</td>\n",
       "      <td>-0.06</td>\n",
       "      <td>-0.08</td>\n",
       "      <td>...</td>\n",
       "      <td>0.02</td>\n",
       "      <td>0.0</td>\n",
       "      <td>0.00</td>\n",
       "      <td>0.0</td>\n",
       "      <td>0.0</td>\n",
       "      <td>0.0</td>\n",
       "      <td>-0.01</td>\n",
       "      <td>0.00</td>\n",
       "      <td>0.0</td>\n",
       "      <td>0.0</td>\n",
       "    </tr>\n",
       "  </tbody>\n",
       "</table>\n",
       "<p>3 rows × 1332 columns</p>\n",
       "</div>"
      ]
     },
     "execution_count": 61,
     "metadata": {},
     "output_type": "execute_result"
    }
   ],
   "execution_count": 61
  },
  {
   "metadata": {
    "ExecuteTime": {
     "end_time": "2025-06-15T21:04:40.827325Z",
     "start_time": "2025-06-15T21:04:36.445606Z"
    }
   },
   "cell_type": "code",
   "source": [
    "importlib.reload(lstm_utils)\n",
    "importlib.reload(mpt_utils)\n",
    "\n",
    "weights_1m, mu_1m, S_1m, allocations_1m = mpt_utils.portfolio_and_plot(df_forecast_1m, df, plot_threshold=0.018)"
   ],
   "id": "27ab10ee985db539",
   "outputs": [
    {
     "name": "stdout",
     "output_type": "stream",
     "text": [
      "Expected annual return: 81.8%\n",
      "Annual volatility: 6.9%\n",
      "Sharpe Ratio: 11.54\n",
      "-- Allocation --\n",
      "{'ETSY': 1, '2491.T': 6, 'TPE.DE': 2, 'CVNA': 1, '3697.T': 1, 'PAR': 1, 'FCN': 1, 'FNKO': 4, 'NTNX': 1, 'RUN': 4, '6951.T': 1, '7518.T': 2, 'ABDP.L': 1, 'BOOT': 1, 'LULU': 1, 'HSII': 1, 'ADUS': 1, 'NSP': 1, 'IIPR': 1, '2471.T': 11, '6814.T': 3, 'WSC': 1, 'HAE': 1, 'MEDP': 1, 'AEO': 1, '4568.T': 1, 'QLYS': 1, '6866.T': 1, 'NSSC': 1, '9697.T': 1, '6200.T': 3, '4751.T': 5, 'CATO': 4, '2475.T': 2, 'MOV': 1, 'BBSI': 1, '2429.T': 3, '2389.T': 2, 'EH': 2, '2154.T': 2, '3994.T': 1, 'SHYF': 2, 'COK.DE': 1, '7730.T': 1, 'FARO': 1, '4218.T': 2, '4641.T': 1, 'GES': 1, 'PRDO': 1, '2170.T': 7, '6914.T': 2, '4503.T': 1, 'TPR': 1, 'UAA': 3, '9413.T': 1, '7868.T': 5, 'NEO': 1, '6183.T': 1, '7990.T': 1, 'FTK.DE': 1, 'NVRI': 3, '6055.T': 1, '7296.T': 1, '3151.T': 2, '7476.T': 1, '3048.T': 2, '7575.T': 3, 'CNK': 1, '7613.T': 2, '7936.T': 2, 'PKE': 1, '7220.T': 1, '4301.T': 1, '8439.T': 1, '3738.T': 1, '7752.T': 2, 'HPE': 1, '9260.T': 1, '8818.T': 1, '6417.T': 1, '7250.T': 1, 'APLD': 3, '4151.T': 1, '4549.T': 1, '3608.T': 3, 'EOAN.DE': 1, '7508.T': 1, '2337.T': 4, 'MFA': 1, '2124.T': 1, '4745.T': 2, '7893.T': 1, 'TRTX': 1, 'AMCR': 1, 'HBI': 1, 'AOX.DE': 1}\n",
      "-- Weights Percentage --\n",
      "{'2491.T': 0.0359, 'CVNA': 0.0313, 'PAR': 0.0263, 'FCN': 0.0234, 'BOOT': 0.0182, '6951.T': 0.0187, 'TPE.DE': 0.0359, 'ABDP.L': 0.0182, 'RUN': 0.0194, '3697.T': 0.0295, 'ETSY': 0.0364, '7518.T': 0.0185, 'FNKO': 0.0226, 'NTNX': 0.0199, 'Other(82)': 0.6456}\n"
     ]
    },
    {
     "name": "stderr",
     "output_type": "stream",
     "text": [
      "/Users/herbishtini/anaconda3/envs/portfolio_optimisation/lib/python3.11/site-packages/pypfopt/discrete_allocation.py:27: FutureWarning:\n",
      "\n",
      "Downcasting object dtype arrays on .fillna, .ffill, .bfill is deprecated and will change in a future version. Call result.infer_objects(copy=False) instead. To opt-in to the future behavior, set `pd.set_option('future.no_silent_downcasting', True)`\n",
      "\n"
     ]
    },
    {
     "data": {
      "application/vnd.plotly.v1+json": {
       "data": [
        {
         "hole": 0.3,
         "insidetextorientation": "radial",
         "labels": [
          "2491.T",
          "CVNA",
          "PAR",
          "FCN",
          "BOOT",
          "6951.T",
          "TPE.DE",
          "ABDP.L",
          "RUN",
          "3697.T",
          "ETSY",
          "7518.T",
          "FNKO",
          "NTNX",
          "Other(82)"
         ],
         "textinfo": "label+percent",
         "textposition": "inside",
         "values": [
          0.0146,
          0.0127,
          0.0107,
          0.0095,
          0.0074,
          0.0076,
          0.0146,
          0.0074,
          0.0079,
          0.012,
          0.0148,
          0.0075,
          0.0092,
          0.0081,
          0.2623
         ],
         "type": "pie"
        }
       ],
       "layout": {
        "template": {
         "data": {
          "histogram2dcontour": [
           {
            "type": "histogram2dcontour",
            "colorbar": {
             "outlinewidth": 0,
             "ticks": ""
            },
            "colorscale": [
             [
              0.0,
              "#0d0887"
             ],
             [
              0.1111111111111111,
              "#46039f"
             ],
             [
              0.2222222222222222,
              "#7201a8"
             ],
             [
              0.3333333333333333,
              "#9c179e"
             ],
             [
              0.4444444444444444,
              "#bd3786"
             ],
             [
              0.5555555555555556,
              "#d8576b"
             ],
             [
              0.6666666666666666,
              "#ed7953"
             ],
             [
              0.7777777777777778,
              "#fb9f3a"
             ],
             [
              0.8888888888888888,
              "#fdca26"
             ],
             [
              1.0,
              "#f0f921"
             ]
            ]
           }
          ],
          "choropleth": [
           {
            "type": "choropleth",
            "colorbar": {
             "outlinewidth": 0,
             "ticks": ""
            }
           }
          ],
          "histogram2d": [
           {
            "type": "histogram2d",
            "colorbar": {
             "outlinewidth": 0,
             "ticks": ""
            },
            "colorscale": [
             [
              0.0,
              "#0d0887"
             ],
             [
              0.1111111111111111,
              "#46039f"
             ],
             [
              0.2222222222222222,
              "#7201a8"
             ],
             [
              0.3333333333333333,
              "#9c179e"
             ],
             [
              0.4444444444444444,
              "#bd3786"
             ],
             [
              0.5555555555555556,
              "#d8576b"
             ],
             [
              0.6666666666666666,
              "#ed7953"
             ],
             [
              0.7777777777777778,
              "#fb9f3a"
             ],
             [
              0.8888888888888888,
              "#fdca26"
             ],
             [
              1.0,
              "#f0f921"
             ]
            ]
           }
          ],
          "heatmap": [
           {
            "type": "heatmap",
            "colorbar": {
             "outlinewidth": 0,
             "ticks": ""
            },
            "colorscale": [
             [
              0.0,
              "#0d0887"
             ],
             [
              0.1111111111111111,
              "#46039f"
             ],
             [
              0.2222222222222222,
              "#7201a8"
             ],
             [
              0.3333333333333333,
              "#9c179e"
             ],
             [
              0.4444444444444444,
              "#bd3786"
             ],
             [
              0.5555555555555556,
              "#d8576b"
             ],
             [
              0.6666666666666666,
              "#ed7953"
             ],
             [
              0.7777777777777778,
              "#fb9f3a"
             ],
             [
              0.8888888888888888,
              "#fdca26"
             ],
             [
              1.0,
              "#f0f921"
             ]
            ]
           }
          ],
          "heatmapgl": [
           {
            "type": "heatmapgl",
            "colorbar": {
             "outlinewidth": 0,
             "ticks": ""
            },
            "colorscale": [
             [
              0.0,
              "#0d0887"
             ],
             [
              0.1111111111111111,
              "#46039f"
             ],
             [
              0.2222222222222222,
              "#7201a8"
             ],
             [
              0.3333333333333333,
              "#9c179e"
             ],
             [
              0.4444444444444444,
              "#bd3786"
             ],
             [
              0.5555555555555556,
              "#d8576b"
             ],
             [
              0.6666666666666666,
              "#ed7953"
             ],
             [
              0.7777777777777778,
              "#fb9f3a"
             ],
             [
              0.8888888888888888,
              "#fdca26"
             ],
             [
              1.0,
              "#f0f921"
             ]
            ]
           }
          ],
          "contourcarpet": [
           {
            "type": "contourcarpet",
            "colorbar": {
             "outlinewidth": 0,
             "ticks": ""
            }
           }
          ],
          "contour": [
           {
            "type": "contour",
            "colorbar": {
             "outlinewidth": 0,
             "ticks": ""
            },
            "colorscale": [
             [
              0.0,
              "#0d0887"
             ],
             [
              0.1111111111111111,
              "#46039f"
             ],
             [
              0.2222222222222222,
              "#7201a8"
             ],
             [
              0.3333333333333333,
              "#9c179e"
             ],
             [
              0.4444444444444444,
              "#bd3786"
             ],
             [
              0.5555555555555556,
              "#d8576b"
             ],
             [
              0.6666666666666666,
              "#ed7953"
             ],
             [
              0.7777777777777778,
              "#fb9f3a"
             ],
             [
              0.8888888888888888,
              "#fdca26"
             ],
             [
              1.0,
              "#f0f921"
             ]
            ]
           }
          ],
          "surface": [
           {
            "type": "surface",
            "colorbar": {
             "outlinewidth": 0,
             "ticks": ""
            },
            "colorscale": [
             [
              0.0,
              "#0d0887"
             ],
             [
              0.1111111111111111,
              "#46039f"
             ],
             [
              0.2222222222222222,
              "#7201a8"
             ],
             [
              0.3333333333333333,
              "#9c179e"
             ],
             [
              0.4444444444444444,
              "#bd3786"
             ],
             [
              0.5555555555555556,
              "#d8576b"
             ],
             [
              0.6666666666666666,
              "#ed7953"
             ],
             [
              0.7777777777777778,
              "#fb9f3a"
             ],
             [
              0.8888888888888888,
              "#fdca26"
             ],
             [
              1.0,
              "#f0f921"
             ]
            ]
           }
          ],
          "mesh3d": [
           {
            "type": "mesh3d",
            "colorbar": {
             "outlinewidth": 0,
             "ticks": ""
            }
           }
          ],
          "scatter": [
           {
            "marker": {
             "line": {
              "color": "#283442"
             }
            },
            "type": "scatter"
           }
          ],
          "parcoords": [
           {
            "type": "parcoords",
            "line": {
             "colorbar": {
              "outlinewidth": 0,
              "ticks": ""
             }
            }
           }
          ],
          "scatterpolargl": [
           {
            "type": "scatterpolargl",
            "marker": {
             "colorbar": {
              "outlinewidth": 0,
              "ticks": ""
             }
            }
           }
          ],
          "bar": [
           {
            "error_x": {
             "color": "#f2f5fa"
            },
            "error_y": {
             "color": "#f2f5fa"
            },
            "marker": {
             "line": {
              "color": "rgb(17,17,17)",
              "width": 0.5
             },
             "pattern": {
              "fillmode": "overlay",
              "size": 10,
              "solidity": 0.2
             }
            },
            "type": "bar"
           }
          ],
          "scattergeo": [
           {
            "type": "scattergeo",
            "marker": {
             "colorbar": {
              "outlinewidth": 0,
              "ticks": ""
             }
            }
           }
          ],
          "scatterpolar": [
           {
            "type": "scatterpolar",
            "marker": {
             "colorbar": {
              "outlinewidth": 0,
              "ticks": ""
             }
            }
           }
          ],
          "histogram": [
           {
            "marker": {
             "pattern": {
              "fillmode": "overlay",
              "size": 10,
              "solidity": 0.2
             }
            },
            "type": "histogram"
           }
          ],
          "scattergl": [
           {
            "marker": {
             "line": {
              "color": "#283442"
             }
            },
            "type": "scattergl"
           }
          ],
          "scatter3d": [
           {
            "type": "scatter3d",
            "line": {
             "colorbar": {
              "outlinewidth": 0,
              "ticks": ""
             }
            },
            "marker": {
             "colorbar": {
              "outlinewidth": 0,
              "ticks": ""
             }
            }
           }
          ],
          "scattermapbox": [
           {
            "type": "scattermapbox",
            "marker": {
             "colorbar": {
              "outlinewidth": 0,
              "ticks": ""
             }
            }
           }
          ],
          "scatterternary": [
           {
            "type": "scatterternary",
            "marker": {
             "colorbar": {
              "outlinewidth": 0,
              "ticks": ""
             }
            }
           }
          ],
          "scattercarpet": [
           {
            "type": "scattercarpet",
            "marker": {
             "colorbar": {
              "outlinewidth": 0,
              "ticks": ""
             }
            }
           }
          ],
          "carpet": [
           {
            "aaxis": {
             "endlinecolor": "#A2B1C6",
             "gridcolor": "#506784",
             "linecolor": "#506784",
             "minorgridcolor": "#506784",
             "startlinecolor": "#A2B1C6"
            },
            "baxis": {
             "endlinecolor": "#A2B1C6",
             "gridcolor": "#506784",
             "linecolor": "#506784",
             "minorgridcolor": "#506784",
             "startlinecolor": "#A2B1C6"
            },
            "type": "carpet"
           }
          ],
          "table": [
           {
            "cells": {
             "fill": {
              "color": "#506784"
             },
             "line": {
              "color": "rgb(17,17,17)"
             }
            },
            "header": {
             "fill": {
              "color": "#2a3f5f"
             },
             "line": {
              "color": "rgb(17,17,17)"
             }
            },
            "type": "table"
           }
          ],
          "barpolar": [
           {
            "marker": {
             "line": {
              "color": "rgb(17,17,17)",
              "width": 0.5
             },
             "pattern": {
              "fillmode": "overlay",
              "size": 10,
              "solidity": 0.2
             }
            },
            "type": "barpolar"
           }
          ],
          "pie": [
           {
            "automargin": true,
            "type": "pie"
           }
          ]
         },
         "layout": {
          "autotypenumbers": "strict",
          "colorway": [
           "#636efa",
           "#EF553B",
           "#00cc96",
           "#ab63fa",
           "#FFA15A",
           "#19d3f3",
           "#FF6692",
           "#B6E880",
           "#FF97FF",
           "#FECB52"
          ],
          "font": {
           "color": "#f2f5fa"
          },
          "hovermode": "closest",
          "hoverlabel": {
           "align": "left"
          },
          "paper_bgcolor": "rgb(17,17,17)",
          "plot_bgcolor": "rgb(17,17,17)",
          "polar": {
           "bgcolor": "rgb(17,17,17)",
           "angularaxis": {
            "gridcolor": "#506784",
            "linecolor": "#506784",
            "ticks": ""
           },
           "radialaxis": {
            "gridcolor": "#506784",
            "linecolor": "#506784",
            "ticks": ""
           }
          },
          "ternary": {
           "bgcolor": "rgb(17,17,17)",
           "aaxis": {
            "gridcolor": "#506784",
            "linecolor": "#506784",
            "ticks": ""
           },
           "baxis": {
            "gridcolor": "#506784",
            "linecolor": "#506784",
            "ticks": ""
           },
           "caxis": {
            "gridcolor": "#506784",
            "linecolor": "#506784",
            "ticks": ""
           }
          },
          "coloraxis": {
           "colorbar": {
            "outlinewidth": 0,
            "ticks": ""
           }
          },
          "colorscale": {
           "sequential": [
            [
             0.0,
             "#0d0887"
            ],
            [
             0.1111111111111111,
             "#46039f"
            ],
            [
             0.2222222222222222,
             "#7201a8"
            ],
            [
             0.3333333333333333,
             "#9c179e"
            ],
            [
             0.4444444444444444,
             "#bd3786"
            ],
            [
             0.5555555555555556,
             "#d8576b"
            ],
            [
             0.6666666666666666,
             "#ed7953"
            ],
            [
             0.7777777777777778,
             "#fb9f3a"
            ],
            [
             0.8888888888888888,
             "#fdca26"
            ],
            [
             1.0,
             "#f0f921"
            ]
           ],
           "sequentialminus": [
            [
             0.0,
             "#0d0887"
            ],
            [
             0.1111111111111111,
             "#46039f"
            ],
            [
             0.2222222222222222,
             "#7201a8"
            ],
            [
             0.3333333333333333,
             "#9c179e"
            ],
            [
             0.4444444444444444,
             "#bd3786"
            ],
            [
             0.5555555555555556,
             "#d8576b"
            ],
            [
             0.6666666666666666,
             "#ed7953"
            ],
            [
             0.7777777777777778,
             "#fb9f3a"
            ],
            [
             0.8888888888888888,
             "#fdca26"
            ],
            [
             1.0,
             "#f0f921"
            ]
           ],
           "diverging": [
            [
             0,
             "#8e0152"
            ],
            [
             0.1,
             "#c51b7d"
            ],
            [
             0.2,
             "#de77ae"
            ],
            [
             0.3,
             "#f1b6da"
            ],
            [
             0.4,
             "#fde0ef"
            ],
            [
             0.5,
             "#f7f7f7"
            ],
            [
             0.6,
             "#e6f5d0"
            ],
            [
             0.7,
             "#b8e186"
            ],
            [
             0.8,
             "#7fbc41"
            ],
            [
             0.9,
             "#4d9221"
            ],
            [
             1,
             "#276419"
            ]
           ]
          },
          "xaxis": {
           "gridcolor": "#283442",
           "linecolor": "#506784",
           "ticks": "",
           "title": {
            "standoff": 15
           },
           "zerolinecolor": "#283442",
           "automargin": true,
           "zerolinewidth": 2
          },
          "yaxis": {
           "gridcolor": "#283442",
           "linecolor": "#506784",
           "ticks": "",
           "title": {
            "standoff": 15
           },
           "zerolinecolor": "#283442",
           "automargin": true,
           "zerolinewidth": 2
          },
          "scene": {
           "xaxis": {
            "backgroundcolor": "rgb(17,17,17)",
            "gridcolor": "#506784",
            "linecolor": "#506784",
            "showbackground": true,
            "ticks": "",
            "zerolinecolor": "#C8D4E3",
            "gridwidth": 2
           },
           "yaxis": {
            "backgroundcolor": "rgb(17,17,17)",
            "gridcolor": "#506784",
            "linecolor": "#506784",
            "showbackground": true,
            "ticks": "",
            "zerolinecolor": "#C8D4E3",
            "gridwidth": 2
           },
           "zaxis": {
            "backgroundcolor": "rgb(17,17,17)",
            "gridcolor": "#506784",
            "linecolor": "#506784",
            "showbackground": true,
            "ticks": "",
            "zerolinecolor": "#C8D4E3",
            "gridwidth": 2
           }
          },
          "shapedefaults": {
           "line": {
            "color": "#f2f5fa"
           }
          },
          "annotationdefaults": {
           "arrowcolor": "#f2f5fa",
           "arrowhead": 0,
           "arrowwidth": 1
          },
          "geo": {
           "bgcolor": "rgb(17,17,17)",
           "landcolor": "rgb(17,17,17)",
           "subunitcolor": "#506784",
           "showland": true,
           "showlakes": true,
           "lakecolor": "rgb(17,17,17)"
          },
          "title": {
           "x": 0.05
          },
          "updatemenudefaults": {
           "bgcolor": "#506784",
           "borderwidth": 0
          },
          "sliderdefaults": {
           "bgcolor": "#C8D4E3",
           "borderwidth": 1,
           "bordercolor": "rgb(17,17,17)",
           "tickwidth": 0
          },
          "mapbox": {
           "style": "dark"
          }
         }
        },
        "margin": {
         "l": 20,
         "r": 20,
         "t": 20,
         "b": 20
        },
        "font": {
         "color": "black"
        },
        "height": 600,
        "width": 600,
        "paper_bgcolor": "white",
        "plot_bgcolor": "white",
        "showlegend": false
       },
       "config": {
        "plotlyServerURL": "https://plot.ly"
       }
      },
      "text/html": [
       "<div>                            <div id=\"0204b3e6-691b-4c14-8f8b-fa79933f113d\" class=\"plotly-graph-div\" style=\"height:600px; width:600px;\"></div>            <script type=\"text/javascript\">                require([\"plotly\"], function(Plotly) {                    window.PLOTLYENV=window.PLOTLYENV || {};                                    if (document.getElementById(\"0204b3e6-691b-4c14-8f8b-fa79933f113d\")) {                    Plotly.newPlot(                        \"0204b3e6-691b-4c14-8f8b-fa79933f113d\",                        [{\"hole\":0.3,\"insidetextorientation\":\"radial\",\"labels\":[\"2491.T\",\"CVNA\",\"PAR\",\"FCN\",\"BOOT\",\"6951.T\",\"TPE.DE\",\"ABDP.L\",\"RUN\",\"3697.T\",\"ETSY\",\"7518.T\",\"FNKO\",\"NTNX\",\"Other(82)\"],\"textinfo\":\"label+percent\",\"textposition\":\"inside\",\"values\":[0.0146,0.0127,0.0107,0.0095,0.0074,0.0076,0.0146,0.0074,0.0079,0.012,0.0148,0.0075,0.0092,0.0081,0.2623],\"type\":\"pie\"}],                        {\"template\":{\"data\":{\"histogram2dcontour\":[{\"type\":\"histogram2dcontour\",\"colorbar\":{\"outlinewidth\":0,\"ticks\":\"\"},\"colorscale\":[[0.0,\"#0d0887\"],[0.1111111111111111,\"#46039f\"],[0.2222222222222222,\"#7201a8\"],[0.3333333333333333,\"#9c179e\"],[0.4444444444444444,\"#bd3786\"],[0.5555555555555556,\"#d8576b\"],[0.6666666666666666,\"#ed7953\"],[0.7777777777777778,\"#fb9f3a\"],[0.8888888888888888,\"#fdca26\"],[1.0,\"#f0f921\"]]}],\"choropleth\":[{\"type\":\"choropleth\",\"colorbar\":{\"outlinewidth\":0,\"ticks\":\"\"}}],\"histogram2d\":[{\"type\":\"histogram2d\",\"colorbar\":{\"outlinewidth\":0,\"ticks\":\"\"},\"colorscale\":[[0.0,\"#0d0887\"],[0.1111111111111111,\"#46039f\"],[0.2222222222222222,\"#7201a8\"],[0.3333333333333333,\"#9c179e\"],[0.4444444444444444,\"#bd3786\"],[0.5555555555555556,\"#d8576b\"],[0.6666666666666666,\"#ed7953\"],[0.7777777777777778,\"#fb9f3a\"],[0.8888888888888888,\"#fdca26\"],[1.0,\"#f0f921\"]]}],\"heatmap\":[{\"type\":\"heatmap\",\"colorbar\":{\"outlinewidth\":0,\"ticks\":\"\"},\"colorscale\":[[0.0,\"#0d0887\"],[0.1111111111111111,\"#46039f\"],[0.2222222222222222,\"#7201a8\"],[0.3333333333333333,\"#9c179e\"],[0.4444444444444444,\"#bd3786\"],[0.5555555555555556,\"#d8576b\"],[0.6666666666666666,\"#ed7953\"],[0.7777777777777778,\"#fb9f3a\"],[0.8888888888888888,\"#fdca26\"],[1.0,\"#f0f921\"]]}],\"heatmapgl\":[{\"type\":\"heatmapgl\",\"colorbar\":{\"outlinewidth\":0,\"ticks\":\"\"},\"colorscale\":[[0.0,\"#0d0887\"],[0.1111111111111111,\"#46039f\"],[0.2222222222222222,\"#7201a8\"],[0.3333333333333333,\"#9c179e\"],[0.4444444444444444,\"#bd3786\"],[0.5555555555555556,\"#d8576b\"],[0.6666666666666666,\"#ed7953\"],[0.7777777777777778,\"#fb9f3a\"],[0.8888888888888888,\"#fdca26\"],[1.0,\"#f0f921\"]]}],\"contourcarpet\":[{\"type\":\"contourcarpet\",\"colorbar\":{\"outlinewidth\":0,\"ticks\":\"\"}}],\"contour\":[{\"type\":\"contour\",\"colorbar\":{\"outlinewidth\":0,\"ticks\":\"\"},\"colorscale\":[[0.0,\"#0d0887\"],[0.1111111111111111,\"#46039f\"],[0.2222222222222222,\"#7201a8\"],[0.3333333333333333,\"#9c179e\"],[0.4444444444444444,\"#bd3786\"],[0.5555555555555556,\"#d8576b\"],[0.6666666666666666,\"#ed7953\"],[0.7777777777777778,\"#fb9f3a\"],[0.8888888888888888,\"#fdca26\"],[1.0,\"#f0f921\"]]}],\"surface\":[{\"type\":\"surface\",\"colorbar\":{\"outlinewidth\":0,\"ticks\":\"\"},\"colorscale\":[[0.0,\"#0d0887\"],[0.1111111111111111,\"#46039f\"],[0.2222222222222222,\"#7201a8\"],[0.3333333333333333,\"#9c179e\"],[0.4444444444444444,\"#bd3786\"],[0.5555555555555556,\"#d8576b\"],[0.6666666666666666,\"#ed7953\"],[0.7777777777777778,\"#fb9f3a\"],[0.8888888888888888,\"#fdca26\"],[1.0,\"#f0f921\"]]}],\"mesh3d\":[{\"type\":\"mesh3d\",\"colorbar\":{\"outlinewidth\":0,\"ticks\":\"\"}}],\"scatter\":[{\"marker\":{\"line\":{\"color\":\"#283442\"}},\"type\":\"scatter\"}],\"parcoords\":[{\"type\":\"parcoords\",\"line\":{\"colorbar\":{\"outlinewidth\":0,\"ticks\":\"\"}}}],\"scatterpolargl\":[{\"type\":\"scatterpolargl\",\"marker\":{\"colorbar\":{\"outlinewidth\":0,\"ticks\":\"\"}}}],\"bar\":[{\"error_x\":{\"color\":\"#f2f5fa\"},\"error_y\":{\"color\":\"#f2f5fa\"},\"marker\":{\"line\":{\"color\":\"rgb(17,17,17)\",\"width\":0.5},\"pattern\":{\"fillmode\":\"overlay\",\"size\":10,\"solidity\":0.2}},\"type\":\"bar\"}],\"scattergeo\":[{\"type\":\"scattergeo\",\"marker\":{\"colorbar\":{\"outlinewidth\":0,\"ticks\":\"\"}}}],\"scatterpolar\":[{\"type\":\"scatterpolar\",\"marker\":{\"colorbar\":{\"outlinewidth\":0,\"ticks\":\"\"}}}],\"histogram\":[{\"marker\":{\"pattern\":{\"fillmode\":\"overlay\",\"size\":10,\"solidity\":0.2}},\"type\":\"histogram\"}],\"scattergl\":[{\"marker\":{\"line\":{\"color\":\"#283442\"}},\"type\":\"scattergl\"}],\"scatter3d\":[{\"type\":\"scatter3d\",\"line\":{\"colorbar\":{\"outlinewidth\":0,\"ticks\":\"\"}},\"marker\":{\"colorbar\":{\"outlinewidth\":0,\"ticks\":\"\"}}}],\"scattermapbox\":[{\"type\":\"scattermapbox\",\"marker\":{\"colorbar\":{\"outlinewidth\":0,\"ticks\":\"\"}}}],\"scatterternary\":[{\"type\":\"scatterternary\",\"marker\":{\"colorbar\":{\"outlinewidth\":0,\"ticks\":\"\"}}}],\"scattercarpet\":[{\"type\":\"scattercarpet\",\"marker\":{\"colorbar\":{\"outlinewidth\":0,\"ticks\":\"\"}}}],\"carpet\":[{\"aaxis\":{\"endlinecolor\":\"#A2B1C6\",\"gridcolor\":\"#506784\",\"linecolor\":\"#506784\",\"minorgridcolor\":\"#506784\",\"startlinecolor\":\"#A2B1C6\"},\"baxis\":{\"endlinecolor\":\"#A2B1C6\",\"gridcolor\":\"#506784\",\"linecolor\":\"#506784\",\"minorgridcolor\":\"#506784\",\"startlinecolor\":\"#A2B1C6\"},\"type\":\"carpet\"}],\"table\":[{\"cells\":{\"fill\":{\"color\":\"#506784\"},\"line\":{\"color\":\"rgb(17,17,17)\"}},\"header\":{\"fill\":{\"color\":\"#2a3f5f\"},\"line\":{\"color\":\"rgb(17,17,17)\"}},\"type\":\"table\"}],\"barpolar\":[{\"marker\":{\"line\":{\"color\":\"rgb(17,17,17)\",\"width\":0.5},\"pattern\":{\"fillmode\":\"overlay\",\"size\":10,\"solidity\":0.2}},\"type\":\"barpolar\"}],\"pie\":[{\"automargin\":true,\"type\":\"pie\"}]},\"layout\":{\"autotypenumbers\":\"strict\",\"colorway\":[\"#636efa\",\"#EF553B\",\"#00cc96\",\"#ab63fa\",\"#FFA15A\",\"#19d3f3\",\"#FF6692\",\"#B6E880\",\"#FF97FF\",\"#FECB52\"],\"font\":{\"color\":\"#f2f5fa\"},\"hovermode\":\"closest\",\"hoverlabel\":{\"align\":\"left\"},\"paper_bgcolor\":\"rgb(17,17,17)\",\"plot_bgcolor\":\"rgb(17,17,17)\",\"polar\":{\"bgcolor\":\"rgb(17,17,17)\",\"angularaxis\":{\"gridcolor\":\"#506784\",\"linecolor\":\"#506784\",\"ticks\":\"\"},\"radialaxis\":{\"gridcolor\":\"#506784\",\"linecolor\":\"#506784\",\"ticks\":\"\"}},\"ternary\":{\"bgcolor\":\"rgb(17,17,17)\",\"aaxis\":{\"gridcolor\":\"#506784\",\"linecolor\":\"#506784\",\"ticks\":\"\"},\"baxis\":{\"gridcolor\":\"#506784\",\"linecolor\":\"#506784\",\"ticks\":\"\"},\"caxis\":{\"gridcolor\":\"#506784\",\"linecolor\":\"#506784\",\"ticks\":\"\"}},\"coloraxis\":{\"colorbar\":{\"outlinewidth\":0,\"ticks\":\"\"}},\"colorscale\":{\"sequential\":[[0.0,\"#0d0887\"],[0.1111111111111111,\"#46039f\"],[0.2222222222222222,\"#7201a8\"],[0.3333333333333333,\"#9c179e\"],[0.4444444444444444,\"#bd3786\"],[0.5555555555555556,\"#d8576b\"],[0.6666666666666666,\"#ed7953\"],[0.7777777777777778,\"#fb9f3a\"],[0.8888888888888888,\"#fdca26\"],[1.0,\"#f0f921\"]],\"sequentialminus\":[[0.0,\"#0d0887\"],[0.1111111111111111,\"#46039f\"],[0.2222222222222222,\"#7201a8\"],[0.3333333333333333,\"#9c179e\"],[0.4444444444444444,\"#bd3786\"],[0.5555555555555556,\"#d8576b\"],[0.6666666666666666,\"#ed7953\"],[0.7777777777777778,\"#fb9f3a\"],[0.8888888888888888,\"#fdca26\"],[1.0,\"#f0f921\"]],\"diverging\":[[0,\"#8e0152\"],[0.1,\"#c51b7d\"],[0.2,\"#de77ae\"],[0.3,\"#f1b6da\"],[0.4,\"#fde0ef\"],[0.5,\"#f7f7f7\"],[0.6,\"#e6f5d0\"],[0.7,\"#b8e186\"],[0.8,\"#7fbc41\"],[0.9,\"#4d9221\"],[1,\"#276419\"]]},\"xaxis\":{\"gridcolor\":\"#283442\",\"linecolor\":\"#506784\",\"ticks\":\"\",\"title\":{\"standoff\":15},\"zerolinecolor\":\"#283442\",\"automargin\":true,\"zerolinewidth\":2},\"yaxis\":{\"gridcolor\":\"#283442\",\"linecolor\":\"#506784\",\"ticks\":\"\",\"title\":{\"standoff\":15},\"zerolinecolor\":\"#283442\",\"automargin\":true,\"zerolinewidth\":2},\"scene\":{\"xaxis\":{\"backgroundcolor\":\"rgb(17,17,17)\",\"gridcolor\":\"#506784\",\"linecolor\":\"#506784\",\"showbackground\":true,\"ticks\":\"\",\"zerolinecolor\":\"#C8D4E3\",\"gridwidth\":2},\"yaxis\":{\"backgroundcolor\":\"rgb(17,17,17)\",\"gridcolor\":\"#506784\",\"linecolor\":\"#506784\",\"showbackground\":true,\"ticks\":\"\",\"zerolinecolor\":\"#C8D4E3\",\"gridwidth\":2},\"zaxis\":{\"backgroundcolor\":\"rgb(17,17,17)\",\"gridcolor\":\"#506784\",\"linecolor\":\"#506784\",\"showbackground\":true,\"ticks\":\"\",\"zerolinecolor\":\"#C8D4E3\",\"gridwidth\":2}},\"shapedefaults\":{\"line\":{\"color\":\"#f2f5fa\"}},\"annotationdefaults\":{\"arrowcolor\":\"#f2f5fa\",\"arrowhead\":0,\"arrowwidth\":1},\"geo\":{\"bgcolor\":\"rgb(17,17,17)\",\"landcolor\":\"rgb(17,17,17)\",\"subunitcolor\":\"#506784\",\"showland\":true,\"showlakes\":true,\"lakecolor\":\"rgb(17,17,17)\"},\"title\":{\"x\":0.05},\"updatemenudefaults\":{\"bgcolor\":\"#506784\",\"borderwidth\":0},\"sliderdefaults\":{\"bgcolor\":\"#C8D4E3\",\"borderwidth\":1,\"bordercolor\":\"rgb(17,17,17)\",\"tickwidth\":0},\"mapbox\":{\"style\":\"dark\"}}},\"margin\":{\"l\":20,\"r\":20,\"t\":20,\"b\":20},\"font\":{\"color\":\"black\"},\"height\":600,\"width\":600,\"paper_bgcolor\":\"white\",\"plot_bgcolor\":\"white\",\"showlegend\":false},                        {\"responsive\": true}                    ).then(function(){\n",
       "                            \n",
       "var gd = document.getElementById('0204b3e6-691b-4c14-8f8b-fa79933f113d');\n",
       "var x = new MutationObserver(function (mutations, observer) {{\n",
       "        var display = window.getComputedStyle(gd).display;\n",
       "        if (!display || display === 'none') {{\n",
       "            console.log([gd, 'removed!']);\n",
       "            Plotly.purge(gd);\n",
       "            observer.disconnect();\n",
       "        }}\n",
       "}});\n",
       "\n",
       "// Listen for the removal of the full notebook cells\n",
       "var notebookContainer = gd.closest('#notebook-container');\n",
       "if (notebookContainer) {{\n",
       "    x.observe(notebookContainer, {childList: true});\n",
       "}}\n",
       "\n",
       "// Listen for the clearing of the current output cell\n",
       "var outputEl = gd.closest('.output');\n",
       "if (outputEl) {{\n",
       "    x.observe(outputEl, {childList: true});\n",
       "}}\n",
       "\n",
       "                        })                };                });            </script>        </div>"
      ]
     },
     "metadata": {},
     "output_type": "display_data"
    }
   ],
   "execution_count": 81
  },
  {
   "metadata": {},
   "cell_type": "markdown",
   "source": "#### Overview table",
   "id": "832a93c646602493"
  },
  {
   "metadata": {
    "ExecuteTime": {
     "end_time": "2025-06-15T20:59:36.746938Z",
     "start_time": "2025-06-15T20:59:36.708548Z"
    }
   },
   "cell_type": "code",
   "source": [
    "importlib.reload(mpt_utils)\n",
    "# Create overview\n",
    "mpt_utils.generate_overview_table(allocations_1m, mu_1m, S_1m, df_pct)"
   ],
   "id": "69b503dace1fa341",
   "outputs": [
    {
     "data": {
      "text/plain": [
       "        Share Count  Average Covariance Average Returns Return Last 12 Months  \\\n",
       "ETSY              1           -0.004421          47.69%               -33.98%   \n",
       "2491.T            6           -0.024421         182.25%               -40.43%   \n",
       "TPE.DE            2            0.003474         183.13%               -14.53%   \n",
       "CVNA              1           -0.062842          27.62%                98.50%   \n",
       "3697.T            1            0.013053         170.34%                15.27%   \n",
       "...             ...                 ...             ...                   ...   \n",
       "7893.T            1            0.019579          72.08%                27.21%   \n",
       "TRTX              1            0.000421          14.39%               -25.34%   \n",
       "AMCR              1            0.010947         -13.23%               -20.57%   \n",
       "HBI               1            0.012737          11.15%               -37.03%   \n",
       "AOX.DE            1            0.004842           5.87%               -60.37%   \n",
       "\n",
       "       Return (Actual) Next 12 Months  \n",
       "ETSY                          -19.03%  \n",
       "2491.T                        -10.18%  \n",
       "TPE.DE                        -17.65%  \n",
       "CVNA                          211.25%  \n",
       "3697.T                        -56.94%  \n",
       "...                               ...  \n",
       "7893.T                          7.98%  \n",
       "TRTX                           49.38%  \n",
       "AMCR                           26.52%  \n",
       "HBI                            54.02%  \n",
       "AOX.DE                         39.42%  \n",
       "\n",
       "[96 rows x 5 columns]"
      ],
      "text/html": [
       "<div>\n",
       "<style scoped>\n",
       "    .dataframe tbody tr th:only-of-type {\n",
       "        vertical-align: middle;\n",
       "    }\n",
       "\n",
       "    .dataframe tbody tr th {\n",
       "        vertical-align: top;\n",
       "    }\n",
       "\n",
       "    .dataframe thead th {\n",
       "        text-align: right;\n",
       "    }\n",
       "</style>\n",
       "<table border=\"1\" class=\"dataframe\">\n",
       "  <thead>\n",
       "    <tr style=\"text-align: right;\">\n",
       "      <th></th>\n",
       "      <th>Share Count</th>\n",
       "      <th>Average Covariance</th>\n",
       "      <th>Average Returns</th>\n",
       "      <th>Return Last 12 Months</th>\n",
       "      <th>Return (Actual) Next 12 Months</th>\n",
       "    </tr>\n",
       "  </thead>\n",
       "  <tbody>\n",
       "    <tr>\n",
       "      <th>ETSY</th>\n",
       "      <td>1</td>\n",
       "      <td>-0.004421</td>\n",
       "      <td>47.69%</td>\n",
       "      <td>-33.98%</td>\n",
       "      <td>-19.03%</td>\n",
       "    </tr>\n",
       "    <tr>\n",
       "      <th>2491.T</th>\n",
       "      <td>6</td>\n",
       "      <td>-0.024421</td>\n",
       "      <td>182.25%</td>\n",
       "      <td>-40.43%</td>\n",
       "      <td>-10.18%</td>\n",
       "    </tr>\n",
       "    <tr>\n",
       "      <th>TPE.DE</th>\n",
       "      <td>2</td>\n",
       "      <td>0.003474</td>\n",
       "      <td>183.13%</td>\n",
       "      <td>-14.53%</td>\n",
       "      <td>-17.65%</td>\n",
       "    </tr>\n",
       "    <tr>\n",
       "      <th>CVNA</th>\n",
       "      <td>1</td>\n",
       "      <td>-0.062842</td>\n",
       "      <td>27.62%</td>\n",
       "      <td>98.50%</td>\n",
       "      <td>211.25%</td>\n",
       "    </tr>\n",
       "    <tr>\n",
       "      <th>3697.T</th>\n",
       "      <td>1</td>\n",
       "      <td>0.013053</td>\n",
       "      <td>170.34%</td>\n",
       "      <td>15.27%</td>\n",
       "      <td>-56.94%</td>\n",
       "    </tr>\n",
       "    <tr>\n",
       "      <th>...</th>\n",
       "      <td>...</td>\n",
       "      <td>...</td>\n",
       "      <td>...</td>\n",
       "      <td>...</td>\n",
       "      <td>...</td>\n",
       "    </tr>\n",
       "    <tr>\n",
       "      <th>7893.T</th>\n",
       "      <td>1</td>\n",
       "      <td>0.019579</td>\n",
       "      <td>72.08%</td>\n",
       "      <td>27.21%</td>\n",
       "      <td>7.98%</td>\n",
       "    </tr>\n",
       "    <tr>\n",
       "      <th>TRTX</th>\n",
       "      <td>1</td>\n",
       "      <td>0.000421</td>\n",
       "      <td>14.39%</td>\n",
       "      <td>-25.34%</td>\n",
       "      <td>49.38%</td>\n",
       "    </tr>\n",
       "    <tr>\n",
       "      <th>AMCR</th>\n",
       "      <td>1</td>\n",
       "      <td>0.010947</td>\n",
       "      <td>-13.23%</td>\n",
       "      <td>-20.57%</td>\n",
       "      <td>26.52%</td>\n",
       "    </tr>\n",
       "    <tr>\n",
       "      <th>HBI</th>\n",
       "      <td>1</td>\n",
       "      <td>0.012737</td>\n",
       "      <td>11.15%</td>\n",
       "      <td>-37.03%</td>\n",
       "      <td>54.02%</td>\n",
       "    </tr>\n",
       "    <tr>\n",
       "      <th>AOX.DE</th>\n",
       "      <td>1</td>\n",
       "      <td>0.004842</td>\n",
       "      <td>5.87%</td>\n",
       "      <td>-60.37%</td>\n",
       "      <td>39.42%</td>\n",
       "    </tr>\n",
       "  </tbody>\n",
       "</table>\n",
       "<p>96 rows × 5 columns</p>\n",
       "</div>"
      ]
     },
     "execution_count": 63,
     "metadata": {},
     "output_type": "execute_result"
    }
   ],
   "execution_count": 63
  },
  {
   "metadata": {},
   "cell_type": "markdown",
   "source": "### LSTM Univariate - 6 Months",
   "id": "43a9fdefde6c005"
  },
  {
   "metadata": {},
   "cell_type": "markdown",
   "source": [
    "Get the known data (train data)\n",
    "After that, get the first 6 predicted months, or the first 6 predicted sequences of test data"
   ],
   "id": "fd7bdd04c2d45540"
  },
  {
   "metadata": {
    "ExecuteTime": {
     "end_time": "2025-06-15T20:59:36.789513Z",
     "start_time": "2025-06-15T20:59:36.778209Z"
    }
   },
   "cell_type": "code",
   "source": [
    "df_train = X_train[:, :, -1].clone()\n",
    "y_test_pred_6m =  y_test_pred[0,:,:].T[0:6] # y_test_pred[:,:,5][0:6]\n",
    "y_test_pred_6m"
   ],
   "id": "fd98c778b7b249cb",
   "outputs": [
    {
     "data": {
      "text/plain": [
       "tensor([[-0.0280, -0.0047,  0.0086,  ...,  0.0108,  0.0109,  0.0092],\n",
       "        [-0.0090, -0.0007,  0.0065,  ...,  0.0117,  0.0117,  0.0108],\n",
       "        [-0.0276, -0.0113,  0.0034,  ...,  0.0107,  0.0110,  0.0111],\n",
       "        [ 0.0041,  0.0082,  0.0174,  ...,  0.0102,  0.0103,  0.0105],\n",
       "        [ 0.0158,  0.0099,  0.0120,  ...,  0.0116,  0.0114,  0.0112],\n",
       "        [ 0.0290,  0.0180,  0.0110,  ...,  0.0116,  0.0115,  0.0114]])"
      ]
     },
     "execution_count": 64,
     "metadata": {},
     "output_type": "execute_result"
    }
   ],
   "execution_count": 64
  },
  {
   "metadata": {
    "ExecuteTime": {
     "end_time": "2025-06-15T20:59:36.834145Z",
     "start_time": "2025-06-15T20:59:36.819646Z"
    }
   },
   "cell_type": "code",
   "source": [
    "df_forecast_6m = pd.DataFrame(df_train.clone())\n",
    "df_forecast_6m = pd.concat([df_forecast_6m, pd.DataFrame(y_test_pred_6m)], ignore_index=True)\n",
    "# Assign back columns and indices to make human understandable\n",
    "df_forecast_6m.columns = df.columns\n",
    "df_forecast_6m.index = df_pct[(in_seq_length - 1) : len(df_forecast_6m) + (in_seq_length - 1)].index\n",
    "#\n",
    "df_forecast_6m = df_forecast_6m.tail(variables.LSTM_TEST_YEARS_NR * 12)\n",
    "#\n",
    "df_forecast_6m.tail(3)"
   ],
   "id": "d3afc8fa5f0e31c6",
   "outputs": [
    {
     "data": {
      "text/plain": [
       "                 GME    2124.T    2491.T    2471.T    3046.T    PAT.DE  \\\n",
       "Date                                                                     \n",
       "2018-12-01  0.004123  0.008216  0.017450  0.024211  0.017563  0.011333   \n",
       "2019-01-01  0.015824  0.009935  0.011975  0.005139  0.013306  0.010762   \n",
       "2019-02-01  0.028988  0.018010  0.010951  0.013002  0.014813  0.016410   \n",
       "\n",
       "                CROX    AOF.DE    SFQ.DE       DAN  ...      KREF     HLN.L  \\\n",
       "Date                                                ...                       \n",
       "2018-12-01  0.009798  0.011223  0.010479  0.007691  ...  0.008862  0.009656   \n",
       "2019-01-01  0.009956  0.011044  0.009007  0.006143  ...  0.011076  0.010927   \n",
       "2019-02-01  0.018504  0.016826  0.013730  0.014017  ...  0.013819  0.012654   \n",
       "\n",
       "                 DBX       BNL       CBL      KVUE      PSTL      NTST  \\\n",
       "Date                                                                     \n",
       "2018-12-01  0.011665  0.010948  0.010680  0.010749  0.010192  0.010181   \n",
       "2019-01-01  0.012568  0.012185  0.011793  0.011307  0.011577  0.011584   \n",
       "2019-02-01  0.011406  0.011087  0.011089  0.011068  0.011597  0.011632   \n",
       "\n",
       "                BLCO     NBS.L  \n",
       "Date                            \n",
       "2018-12-01  0.010302  0.010475  \n",
       "2019-01-01  0.011432  0.011180  \n",
       "2019-02-01  0.011451  0.011371  \n",
       "\n",
       "[3 rows x 1332 columns]"
      ],
      "text/html": [
       "<div>\n",
       "<style scoped>\n",
       "    .dataframe tbody tr th:only-of-type {\n",
       "        vertical-align: middle;\n",
       "    }\n",
       "\n",
       "    .dataframe tbody tr th {\n",
       "        vertical-align: top;\n",
       "    }\n",
       "\n",
       "    .dataframe thead th {\n",
       "        text-align: right;\n",
       "    }\n",
       "</style>\n",
       "<table border=\"1\" class=\"dataframe\">\n",
       "  <thead>\n",
       "    <tr style=\"text-align: right;\">\n",
       "      <th></th>\n",
       "      <th>GME</th>\n",
       "      <th>2124.T</th>\n",
       "      <th>2491.T</th>\n",
       "      <th>2471.T</th>\n",
       "      <th>3046.T</th>\n",
       "      <th>PAT.DE</th>\n",
       "      <th>CROX</th>\n",
       "      <th>AOF.DE</th>\n",
       "      <th>SFQ.DE</th>\n",
       "      <th>DAN</th>\n",
       "      <th>...</th>\n",
       "      <th>KREF</th>\n",
       "      <th>HLN.L</th>\n",
       "      <th>DBX</th>\n",
       "      <th>BNL</th>\n",
       "      <th>CBL</th>\n",
       "      <th>KVUE</th>\n",
       "      <th>PSTL</th>\n",
       "      <th>NTST</th>\n",
       "      <th>BLCO</th>\n",
       "      <th>NBS.L</th>\n",
       "    </tr>\n",
       "    <tr>\n",
       "      <th>Date</th>\n",
       "      <th></th>\n",
       "      <th></th>\n",
       "      <th></th>\n",
       "      <th></th>\n",
       "      <th></th>\n",
       "      <th></th>\n",
       "      <th></th>\n",
       "      <th></th>\n",
       "      <th></th>\n",
       "      <th></th>\n",
       "      <th></th>\n",
       "      <th></th>\n",
       "      <th></th>\n",
       "      <th></th>\n",
       "      <th></th>\n",
       "      <th></th>\n",
       "      <th></th>\n",
       "      <th></th>\n",
       "      <th></th>\n",
       "      <th></th>\n",
       "      <th></th>\n",
       "    </tr>\n",
       "  </thead>\n",
       "  <tbody>\n",
       "    <tr>\n",
       "      <th>2018-12-01</th>\n",
       "      <td>0.004123</td>\n",
       "      <td>0.008216</td>\n",
       "      <td>0.017450</td>\n",
       "      <td>0.024211</td>\n",
       "      <td>0.017563</td>\n",
       "      <td>0.011333</td>\n",
       "      <td>0.009798</td>\n",
       "      <td>0.011223</td>\n",
       "      <td>0.010479</td>\n",
       "      <td>0.007691</td>\n",
       "      <td>...</td>\n",
       "      <td>0.008862</td>\n",
       "      <td>0.009656</td>\n",
       "      <td>0.011665</td>\n",
       "      <td>0.010948</td>\n",
       "      <td>0.010680</td>\n",
       "      <td>0.010749</td>\n",
       "      <td>0.010192</td>\n",
       "      <td>0.010181</td>\n",
       "      <td>0.010302</td>\n",
       "      <td>0.010475</td>\n",
       "    </tr>\n",
       "    <tr>\n",
       "      <th>2019-01-01</th>\n",
       "      <td>0.015824</td>\n",
       "      <td>0.009935</td>\n",
       "      <td>0.011975</td>\n",
       "      <td>0.005139</td>\n",
       "      <td>0.013306</td>\n",
       "      <td>0.010762</td>\n",
       "      <td>0.009956</td>\n",
       "      <td>0.011044</td>\n",
       "      <td>0.009007</td>\n",
       "      <td>0.006143</td>\n",
       "      <td>...</td>\n",
       "      <td>0.011076</td>\n",
       "      <td>0.010927</td>\n",
       "      <td>0.012568</td>\n",
       "      <td>0.012185</td>\n",
       "      <td>0.011793</td>\n",
       "      <td>0.011307</td>\n",
       "      <td>0.011577</td>\n",
       "      <td>0.011584</td>\n",
       "      <td>0.011432</td>\n",
       "      <td>0.011180</td>\n",
       "    </tr>\n",
       "    <tr>\n",
       "      <th>2019-02-01</th>\n",
       "      <td>0.028988</td>\n",
       "      <td>0.018010</td>\n",
       "      <td>0.010951</td>\n",
       "      <td>0.013002</td>\n",
       "      <td>0.014813</td>\n",
       "      <td>0.016410</td>\n",
       "      <td>0.018504</td>\n",
       "      <td>0.016826</td>\n",
       "      <td>0.013730</td>\n",
       "      <td>0.014017</td>\n",
       "      <td>...</td>\n",
       "      <td>0.013819</td>\n",
       "      <td>0.012654</td>\n",
       "      <td>0.011406</td>\n",
       "      <td>0.011087</td>\n",
       "      <td>0.011089</td>\n",
       "      <td>0.011068</td>\n",
       "      <td>0.011597</td>\n",
       "      <td>0.011632</td>\n",
       "      <td>0.011451</td>\n",
       "      <td>0.011371</td>\n",
       "    </tr>\n",
       "  </tbody>\n",
       "</table>\n",
       "<p>3 rows × 1332 columns</p>\n",
       "</div>"
      ]
     },
     "execution_count": 65,
     "metadata": {},
     "output_type": "execute_result"
    }
   ],
   "execution_count": 65
  },
  {
   "metadata": {
    "ExecuteTime": {
     "end_time": "2025-06-15T21:01:59.868751Z",
     "start_time": "2025-06-15T21:01:55.240875Z"
    }
   },
   "cell_type": "code",
   "source": [
    "importlib.reload(lstm_utils)\n",
    "importlib.reload(mpt_utils)\n",
    "\n",
    "weights_6m, mu_6m, S_6m, allocations_6m = mpt_utils.portfolio_and_plot(df_forecast_6m, df, plot_threshold=0.008)"
   ],
   "id": "52b1414db37b4f46",
   "outputs": [
    {
     "name": "stdout",
     "output_type": "stream",
     "text": [
      "Expected annual return: 17.7%\n",
      "Annual volatility: 2.7%\n",
      "Sharpe Ratio: 5.93\n",
      "-- Allocation --\n",
      "{'FNKO': 3, 'CVNA': 1, 'PAR': 1, '2685.T': 2, '7575.T': 6, 'MDB': 1, '2120.T': 25, '2389.T': 1, '6268.T': 2, 'CEC.DE': 19, 'ETSY': 1, 'ADUS': 1, 'OC': 1, '4218.T': 2, 'RUN': 1, 'CON.DE': 1, 'UNM': 1, '2429.T': 1, '8154.T': 1, 'VSEC': 1, '4151.T': 1, 'SHYF': 1, '3402.T': 4, '9842.T': 2, 'AMAT': 1, 'CSGS': 1, 'GEN': 1, 'KNX': 1, '8173.T': 1, '8219.T': 2, '3046.T': 1, '3697.T': 1, '7915.T': 2, 'WHR': 1, 'DAN': 2, 'CCK': 1, '9766.T': 1, '4549.T': 1, 'CROX': 1, 'LULU': 1, '6436.T': 1, 'DLX': 1, '8060.T': 1, '2874.T': 2, 'MOD': 1, 'CATO': 1, '9831.T': 6, '3086.T': 2, 'NSSC': 1, '3659.T': 1, 'STAA': 1, '9107.T': 1, 'CMPR': 1, 'DLTR': 1, '6645.T': 1, '7976.T': 1, 'HBH.DE': 1, '7947.T': 1, '2379.T': 1, 'RDUS': 1, 'NXPI': 1, 'TBCG.L': 1, '3104.T': 1, '8008.T': 1, '5110.T': 1, '9409.T': 1, 'MHO': 1, '3076.T': 1, '7988.T': 1, 'IGT': 1, 'MHK': 1, 'JLL': 1, 'EBAY': 1, '7868.T': 3, 'NYT': 1, '3191.T': 1, 'UTMD': 1, '5332.T': 1, 'TTK.DE': 1, '8923.T': 1, '6915.T': 1, 'RGLD': 1, 'ACLS': 1, 'SVS.L': 1, '3186.T': 1, '7729.T': 1, '5108.T': 1, '8159.T': 1, '7914.T': 1, '1925.T': 1, '6745.T': 1, '8897.T': 6, '7453.T': 1, 'ALV': 1, '3048.T': 2, 'SONO': 1, 'CTSH': 1, 'KFY': 1, '2331.T': 2, '7846.T': 1, '3003.T': 1, '7483.T': 1, '4326.T': 1, '2502.T': 1, 'BERY': 1, 'GES': 1, '8439.T': 1, 'BBSI': 1, '4849.T': 1, 'ARLO': 1, '3116.T': 1, '9470.T': 2, 'AVTR': 1, '2670.T': 1, '9076.T': 1, '8150.T': 1, '8818.T': 1, '6902.T': 1, '8151.T': 1, '5988.T': 1, '7239.T': 1, '3608.T': 2, '5970.T': 1, '7593.T': 4, '9832.T': 1, '3421.T': 1, 'MIR': 1, 'SFQ.DE': 1, '7732.T': 1, 'TAL': 1, '7272.T': 1, '7955.T': 2, 'AMCR': 1, '2471.T': 2, '2337.T': 5, 'TILE': 1, '3050.T': 1, '6471.T': 2, 'DX': 1, 'LSEA': 1, 'PTVE': 1, '7613.T': 1, 'ENR.DE': 1, '3612.T': 1, '8141.T': 1, '4751.T': 1, 'HBI': 2, 'HAYW': 1, '7893.T': 1, '3289.T': 1, '4732.T': 1, '9069.T': 1, 'WU': 1, 'ACEL': 1, '6941.T': 1, 'AGNC': 1, 'AIV': 1, 'MFA': 1, 'HCSG': 1, 'BGC': 1, '4619.T': 1, 'AOX.DE': 3, '8086.T': 1, 'INN': 1, 'TRTX': 1, '3151.T': 1, '7762.T': 1, 'MPW': 1, '6644.T': 2, 'RWT': 1, 'BDN': 2, '5991.T': 1, 'KVHI': 1, 'PDM': 1, '2170.T': 2, 'APLD': 1, 'DHC': 1}\n",
      "-- Weights Percentage --\n",
      "{'CVNA': 0.023, 'PAR': 0.013, '2120.T': 0.0092, 'ADUS': 0.0084, '2685.T': 0.0119, 'OC': 0.008, '7575.T': 0.0119, '6268.T': 0.0088, 'RUN': 0.008, 'ETSY': 0.0084, 'MDB': 0.01, '2389.T': 0.0092, 'FNKO': 0.0268, 'CEC.DE': 0.0088, '4218.T': 0.008, 'Other(162)': 0.8266}\n"
     ]
    },
    {
     "name": "stderr",
     "output_type": "stream",
     "text": [
      "/Users/herbishtini/anaconda3/envs/portfolio_optimisation/lib/python3.11/site-packages/pypfopt/discrete_allocation.py:27: FutureWarning:\n",
      "\n",
      "Downcasting object dtype arrays on .fillna, .ffill, .bfill is deprecated and will change in a future version. Call result.infer_objects(copy=False) instead. To opt-in to the future behavior, set `pd.set_option('future.no_silent_downcasting', True)`\n",
      "\n"
     ]
    },
    {
     "data": {
      "application/vnd.plotly.v1+json": {
       "data": [
        {
         "hole": 0.3,
         "insidetextorientation": "radial",
         "labels": [
          "CVNA",
          "PAR",
          "2120.T",
          "ADUS",
          "2685.T",
          "OC",
          "7575.T",
          "6268.T",
          "RUN",
          "ETSY",
          "MDB",
          "2389.T",
          "FNKO",
          "CEC.DE",
          "4218.T",
          "Other(162)"
         ],
         "textinfo": "label+percent",
         "textposition": "inside",
         "values": [
          0.006,
          0.0034,
          0.0024,
          0.0022,
          0.0031,
          0.0021,
          0.0031,
          0.0023,
          0.0021,
          0.0022,
          0.0026,
          0.0024,
          0.007,
          0.0023,
          0.0021,
          0.2159
         ],
         "type": "pie"
        }
       ],
       "layout": {
        "template": {
         "data": {
          "histogram2dcontour": [
           {
            "type": "histogram2dcontour",
            "colorbar": {
             "outlinewidth": 0,
             "ticks": ""
            },
            "colorscale": [
             [
              0.0,
              "#0d0887"
             ],
             [
              0.1111111111111111,
              "#46039f"
             ],
             [
              0.2222222222222222,
              "#7201a8"
             ],
             [
              0.3333333333333333,
              "#9c179e"
             ],
             [
              0.4444444444444444,
              "#bd3786"
             ],
             [
              0.5555555555555556,
              "#d8576b"
             ],
             [
              0.6666666666666666,
              "#ed7953"
             ],
             [
              0.7777777777777778,
              "#fb9f3a"
             ],
             [
              0.8888888888888888,
              "#fdca26"
             ],
             [
              1.0,
              "#f0f921"
             ]
            ]
           }
          ],
          "choropleth": [
           {
            "type": "choropleth",
            "colorbar": {
             "outlinewidth": 0,
             "ticks": ""
            }
           }
          ],
          "histogram2d": [
           {
            "type": "histogram2d",
            "colorbar": {
             "outlinewidth": 0,
             "ticks": ""
            },
            "colorscale": [
             [
              0.0,
              "#0d0887"
             ],
             [
              0.1111111111111111,
              "#46039f"
             ],
             [
              0.2222222222222222,
              "#7201a8"
             ],
             [
              0.3333333333333333,
              "#9c179e"
             ],
             [
              0.4444444444444444,
              "#bd3786"
             ],
             [
              0.5555555555555556,
              "#d8576b"
             ],
             [
              0.6666666666666666,
              "#ed7953"
             ],
             [
              0.7777777777777778,
              "#fb9f3a"
             ],
             [
              0.8888888888888888,
              "#fdca26"
             ],
             [
              1.0,
              "#f0f921"
             ]
            ]
           }
          ],
          "heatmap": [
           {
            "type": "heatmap",
            "colorbar": {
             "outlinewidth": 0,
             "ticks": ""
            },
            "colorscale": [
             [
              0.0,
              "#0d0887"
             ],
             [
              0.1111111111111111,
              "#46039f"
             ],
             [
              0.2222222222222222,
              "#7201a8"
             ],
             [
              0.3333333333333333,
              "#9c179e"
             ],
             [
              0.4444444444444444,
              "#bd3786"
             ],
             [
              0.5555555555555556,
              "#d8576b"
             ],
             [
              0.6666666666666666,
              "#ed7953"
             ],
             [
              0.7777777777777778,
              "#fb9f3a"
             ],
             [
              0.8888888888888888,
              "#fdca26"
             ],
             [
              1.0,
              "#f0f921"
             ]
            ]
           }
          ],
          "heatmapgl": [
           {
            "type": "heatmapgl",
            "colorbar": {
             "outlinewidth": 0,
             "ticks": ""
            },
            "colorscale": [
             [
              0.0,
              "#0d0887"
             ],
             [
              0.1111111111111111,
              "#46039f"
             ],
             [
              0.2222222222222222,
              "#7201a8"
             ],
             [
              0.3333333333333333,
              "#9c179e"
             ],
             [
              0.4444444444444444,
              "#bd3786"
             ],
             [
              0.5555555555555556,
              "#d8576b"
             ],
             [
              0.6666666666666666,
              "#ed7953"
             ],
             [
              0.7777777777777778,
              "#fb9f3a"
             ],
             [
              0.8888888888888888,
              "#fdca26"
             ],
             [
              1.0,
              "#f0f921"
             ]
            ]
           }
          ],
          "contourcarpet": [
           {
            "type": "contourcarpet",
            "colorbar": {
             "outlinewidth": 0,
             "ticks": ""
            }
           }
          ],
          "contour": [
           {
            "type": "contour",
            "colorbar": {
             "outlinewidth": 0,
             "ticks": ""
            },
            "colorscale": [
             [
              0.0,
              "#0d0887"
             ],
             [
              0.1111111111111111,
              "#46039f"
             ],
             [
              0.2222222222222222,
              "#7201a8"
             ],
             [
              0.3333333333333333,
              "#9c179e"
             ],
             [
              0.4444444444444444,
              "#bd3786"
             ],
             [
              0.5555555555555556,
              "#d8576b"
             ],
             [
              0.6666666666666666,
              "#ed7953"
             ],
             [
              0.7777777777777778,
              "#fb9f3a"
             ],
             [
              0.8888888888888888,
              "#fdca26"
             ],
             [
              1.0,
              "#f0f921"
             ]
            ]
           }
          ],
          "surface": [
           {
            "type": "surface",
            "colorbar": {
             "outlinewidth": 0,
             "ticks": ""
            },
            "colorscale": [
             [
              0.0,
              "#0d0887"
             ],
             [
              0.1111111111111111,
              "#46039f"
             ],
             [
              0.2222222222222222,
              "#7201a8"
             ],
             [
              0.3333333333333333,
              "#9c179e"
             ],
             [
              0.4444444444444444,
              "#bd3786"
             ],
             [
              0.5555555555555556,
              "#d8576b"
             ],
             [
              0.6666666666666666,
              "#ed7953"
             ],
             [
              0.7777777777777778,
              "#fb9f3a"
             ],
             [
              0.8888888888888888,
              "#fdca26"
             ],
             [
              1.0,
              "#f0f921"
             ]
            ]
           }
          ],
          "mesh3d": [
           {
            "type": "mesh3d",
            "colorbar": {
             "outlinewidth": 0,
             "ticks": ""
            }
           }
          ],
          "scatter": [
           {
            "marker": {
             "line": {
              "color": "#283442"
             }
            },
            "type": "scatter"
           }
          ],
          "parcoords": [
           {
            "type": "parcoords",
            "line": {
             "colorbar": {
              "outlinewidth": 0,
              "ticks": ""
             }
            }
           }
          ],
          "scatterpolargl": [
           {
            "type": "scatterpolargl",
            "marker": {
             "colorbar": {
              "outlinewidth": 0,
              "ticks": ""
             }
            }
           }
          ],
          "bar": [
           {
            "error_x": {
             "color": "#f2f5fa"
            },
            "error_y": {
             "color": "#f2f5fa"
            },
            "marker": {
             "line": {
              "color": "rgb(17,17,17)",
              "width": 0.5
             },
             "pattern": {
              "fillmode": "overlay",
              "size": 10,
              "solidity": 0.2
             }
            },
            "type": "bar"
           }
          ],
          "scattergeo": [
           {
            "type": "scattergeo",
            "marker": {
             "colorbar": {
              "outlinewidth": 0,
              "ticks": ""
             }
            }
           }
          ],
          "scatterpolar": [
           {
            "type": "scatterpolar",
            "marker": {
             "colorbar": {
              "outlinewidth": 0,
              "ticks": ""
             }
            }
           }
          ],
          "histogram": [
           {
            "marker": {
             "pattern": {
              "fillmode": "overlay",
              "size": 10,
              "solidity": 0.2
             }
            },
            "type": "histogram"
           }
          ],
          "scattergl": [
           {
            "marker": {
             "line": {
              "color": "#283442"
             }
            },
            "type": "scattergl"
           }
          ],
          "scatter3d": [
           {
            "type": "scatter3d",
            "line": {
             "colorbar": {
              "outlinewidth": 0,
              "ticks": ""
             }
            },
            "marker": {
             "colorbar": {
              "outlinewidth": 0,
              "ticks": ""
             }
            }
           }
          ],
          "scattermapbox": [
           {
            "type": "scattermapbox",
            "marker": {
             "colorbar": {
              "outlinewidth": 0,
              "ticks": ""
             }
            }
           }
          ],
          "scatterternary": [
           {
            "type": "scatterternary",
            "marker": {
             "colorbar": {
              "outlinewidth": 0,
              "ticks": ""
             }
            }
           }
          ],
          "scattercarpet": [
           {
            "type": "scattercarpet",
            "marker": {
             "colorbar": {
              "outlinewidth": 0,
              "ticks": ""
             }
            }
           }
          ],
          "carpet": [
           {
            "aaxis": {
             "endlinecolor": "#A2B1C6",
             "gridcolor": "#506784",
             "linecolor": "#506784",
             "minorgridcolor": "#506784",
             "startlinecolor": "#A2B1C6"
            },
            "baxis": {
             "endlinecolor": "#A2B1C6",
             "gridcolor": "#506784",
             "linecolor": "#506784",
             "minorgridcolor": "#506784",
             "startlinecolor": "#A2B1C6"
            },
            "type": "carpet"
           }
          ],
          "table": [
           {
            "cells": {
             "fill": {
              "color": "#506784"
             },
             "line": {
              "color": "rgb(17,17,17)"
             }
            },
            "header": {
             "fill": {
              "color": "#2a3f5f"
             },
             "line": {
              "color": "rgb(17,17,17)"
             }
            },
            "type": "table"
           }
          ],
          "barpolar": [
           {
            "marker": {
             "line": {
              "color": "rgb(17,17,17)",
              "width": 0.5
             },
             "pattern": {
              "fillmode": "overlay",
              "size": 10,
              "solidity": 0.2
             }
            },
            "type": "barpolar"
           }
          ],
          "pie": [
           {
            "automargin": true,
            "type": "pie"
           }
          ]
         },
         "layout": {
          "autotypenumbers": "strict",
          "colorway": [
           "#636efa",
           "#EF553B",
           "#00cc96",
           "#ab63fa",
           "#FFA15A",
           "#19d3f3",
           "#FF6692",
           "#B6E880",
           "#FF97FF",
           "#FECB52"
          ],
          "font": {
           "color": "#f2f5fa"
          },
          "hovermode": "closest",
          "hoverlabel": {
           "align": "left"
          },
          "paper_bgcolor": "rgb(17,17,17)",
          "plot_bgcolor": "rgb(17,17,17)",
          "polar": {
           "bgcolor": "rgb(17,17,17)",
           "angularaxis": {
            "gridcolor": "#506784",
            "linecolor": "#506784",
            "ticks": ""
           },
           "radialaxis": {
            "gridcolor": "#506784",
            "linecolor": "#506784",
            "ticks": ""
           }
          },
          "ternary": {
           "bgcolor": "rgb(17,17,17)",
           "aaxis": {
            "gridcolor": "#506784",
            "linecolor": "#506784",
            "ticks": ""
           },
           "baxis": {
            "gridcolor": "#506784",
            "linecolor": "#506784",
            "ticks": ""
           },
           "caxis": {
            "gridcolor": "#506784",
            "linecolor": "#506784",
            "ticks": ""
           }
          },
          "coloraxis": {
           "colorbar": {
            "outlinewidth": 0,
            "ticks": ""
           }
          },
          "colorscale": {
           "sequential": [
            [
             0.0,
             "#0d0887"
            ],
            [
             0.1111111111111111,
             "#46039f"
            ],
            [
             0.2222222222222222,
             "#7201a8"
            ],
            [
             0.3333333333333333,
             "#9c179e"
            ],
            [
             0.4444444444444444,
             "#bd3786"
            ],
            [
             0.5555555555555556,
             "#d8576b"
            ],
            [
             0.6666666666666666,
             "#ed7953"
            ],
            [
             0.7777777777777778,
             "#fb9f3a"
            ],
            [
             0.8888888888888888,
             "#fdca26"
            ],
            [
             1.0,
             "#f0f921"
            ]
           ],
           "sequentialminus": [
            [
             0.0,
             "#0d0887"
            ],
            [
             0.1111111111111111,
             "#46039f"
            ],
            [
             0.2222222222222222,
             "#7201a8"
            ],
            [
             0.3333333333333333,
             "#9c179e"
            ],
            [
             0.4444444444444444,
             "#bd3786"
            ],
            [
             0.5555555555555556,
             "#d8576b"
            ],
            [
             0.6666666666666666,
             "#ed7953"
            ],
            [
             0.7777777777777778,
             "#fb9f3a"
            ],
            [
             0.8888888888888888,
             "#fdca26"
            ],
            [
             1.0,
             "#f0f921"
            ]
           ],
           "diverging": [
            [
             0,
             "#8e0152"
            ],
            [
             0.1,
             "#c51b7d"
            ],
            [
             0.2,
             "#de77ae"
            ],
            [
             0.3,
             "#f1b6da"
            ],
            [
             0.4,
             "#fde0ef"
            ],
            [
             0.5,
             "#f7f7f7"
            ],
            [
             0.6,
             "#e6f5d0"
            ],
            [
             0.7,
             "#b8e186"
            ],
            [
             0.8,
             "#7fbc41"
            ],
            [
             0.9,
             "#4d9221"
            ],
            [
             1,
             "#276419"
            ]
           ]
          },
          "xaxis": {
           "gridcolor": "#283442",
           "linecolor": "#506784",
           "ticks": "",
           "title": {
            "standoff": 15
           },
           "zerolinecolor": "#283442",
           "automargin": true,
           "zerolinewidth": 2
          },
          "yaxis": {
           "gridcolor": "#283442",
           "linecolor": "#506784",
           "ticks": "",
           "title": {
            "standoff": 15
           },
           "zerolinecolor": "#283442",
           "automargin": true,
           "zerolinewidth": 2
          },
          "scene": {
           "xaxis": {
            "backgroundcolor": "rgb(17,17,17)",
            "gridcolor": "#506784",
            "linecolor": "#506784",
            "showbackground": true,
            "ticks": "",
            "zerolinecolor": "#C8D4E3",
            "gridwidth": 2
           },
           "yaxis": {
            "backgroundcolor": "rgb(17,17,17)",
            "gridcolor": "#506784",
            "linecolor": "#506784",
            "showbackground": true,
            "ticks": "",
            "zerolinecolor": "#C8D4E3",
            "gridwidth": 2
           },
           "zaxis": {
            "backgroundcolor": "rgb(17,17,17)",
            "gridcolor": "#506784",
            "linecolor": "#506784",
            "showbackground": true,
            "ticks": "",
            "zerolinecolor": "#C8D4E3",
            "gridwidth": 2
           }
          },
          "shapedefaults": {
           "line": {
            "color": "#f2f5fa"
           }
          },
          "annotationdefaults": {
           "arrowcolor": "#f2f5fa",
           "arrowhead": 0,
           "arrowwidth": 1
          },
          "geo": {
           "bgcolor": "rgb(17,17,17)",
           "landcolor": "rgb(17,17,17)",
           "subunitcolor": "#506784",
           "showland": true,
           "showlakes": true,
           "lakecolor": "rgb(17,17,17)"
          },
          "title": {
           "x": 0.05
          },
          "updatemenudefaults": {
           "bgcolor": "#506784",
           "borderwidth": 0
          },
          "sliderdefaults": {
           "bgcolor": "#C8D4E3",
           "borderwidth": 1,
           "bordercolor": "rgb(17,17,17)",
           "tickwidth": 0
          },
          "mapbox": {
           "style": "dark"
          }
         }
        },
        "margin": {
         "l": 20,
         "r": 20,
         "t": 20,
         "b": 20
        },
        "font": {
         "color": "black"
        },
        "height": 600,
        "width": 600,
        "paper_bgcolor": "white",
        "plot_bgcolor": "white",
        "showlegend": false
       },
       "config": {
        "plotlyServerURL": "https://plot.ly"
       }
      },
      "text/html": [
       "<div>                            <div id=\"374a070b-f8a2-44ba-b662-df04dffcf72c\" class=\"plotly-graph-div\" style=\"height:600px; width:600px;\"></div>            <script type=\"text/javascript\">                require([\"plotly\"], function(Plotly) {                    window.PLOTLYENV=window.PLOTLYENV || {};                                    if (document.getElementById(\"374a070b-f8a2-44ba-b662-df04dffcf72c\")) {                    Plotly.newPlot(                        \"374a070b-f8a2-44ba-b662-df04dffcf72c\",                        [{\"hole\":0.3,\"insidetextorientation\":\"radial\",\"labels\":[\"CVNA\",\"PAR\",\"2120.T\",\"ADUS\",\"2685.T\",\"OC\",\"7575.T\",\"6268.T\",\"RUN\",\"ETSY\",\"MDB\",\"2389.T\",\"FNKO\",\"CEC.DE\",\"4218.T\",\"Other(162)\"],\"textinfo\":\"label+percent\",\"textposition\":\"inside\",\"values\":[0.006,0.0034,0.0024,0.0022,0.0031,0.0021,0.0031,0.0023,0.0021,0.0022,0.0026,0.0024,0.007,0.0023,0.0021,0.2159],\"type\":\"pie\"}],                        {\"template\":{\"data\":{\"histogram2dcontour\":[{\"type\":\"histogram2dcontour\",\"colorbar\":{\"outlinewidth\":0,\"ticks\":\"\"},\"colorscale\":[[0.0,\"#0d0887\"],[0.1111111111111111,\"#46039f\"],[0.2222222222222222,\"#7201a8\"],[0.3333333333333333,\"#9c179e\"],[0.4444444444444444,\"#bd3786\"],[0.5555555555555556,\"#d8576b\"],[0.6666666666666666,\"#ed7953\"],[0.7777777777777778,\"#fb9f3a\"],[0.8888888888888888,\"#fdca26\"],[1.0,\"#f0f921\"]]}],\"choropleth\":[{\"type\":\"choropleth\",\"colorbar\":{\"outlinewidth\":0,\"ticks\":\"\"}}],\"histogram2d\":[{\"type\":\"histogram2d\",\"colorbar\":{\"outlinewidth\":0,\"ticks\":\"\"},\"colorscale\":[[0.0,\"#0d0887\"],[0.1111111111111111,\"#46039f\"],[0.2222222222222222,\"#7201a8\"],[0.3333333333333333,\"#9c179e\"],[0.4444444444444444,\"#bd3786\"],[0.5555555555555556,\"#d8576b\"],[0.6666666666666666,\"#ed7953\"],[0.7777777777777778,\"#fb9f3a\"],[0.8888888888888888,\"#fdca26\"],[1.0,\"#f0f921\"]]}],\"heatmap\":[{\"type\":\"heatmap\",\"colorbar\":{\"outlinewidth\":0,\"ticks\":\"\"},\"colorscale\":[[0.0,\"#0d0887\"],[0.1111111111111111,\"#46039f\"],[0.2222222222222222,\"#7201a8\"],[0.3333333333333333,\"#9c179e\"],[0.4444444444444444,\"#bd3786\"],[0.5555555555555556,\"#d8576b\"],[0.6666666666666666,\"#ed7953\"],[0.7777777777777778,\"#fb9f3a\"],[0.8888888888888888,\"#fdca26\"],[1.0,\"#f0f921\"]]}],\"heatmapgl\":[{\"type\":\"heatmapgl\",\"colorbar\":{\"outlinewidth\":0,\"ticks\":\"\"},\"colorscale\":[[0.0,\"#0d0887\"],[0.1111111111111111,\"#46039f\"],[0.2222222222222222,\"#7201a8\"],[0.3333333333333333,\"#9c179e\"],[0.4444444444444444,\"#bd3786\"],[0.5555555555555556,\"#d8576b\"],[0.6666666666666666,\"#ed7953\"],[0.7777777777777778,\"#fb9f3a\"],[0.8888888888888888,\"#fdca26\"],[1.0,\"#f0f921\"]]}],\"contourcarpet\":[{\"type\":\"contourcarpet\",\"colorbar\":{\"outlinewidth\":0,\"ticks\":\"\"}}],\"contour\":[{\"type\":\"contour\",\"colorbar\":{\"outlinewidth\":0,\"ticks\":\"\"},\"colorscale\":[[0.0,\"#0d0887\"],[0.1111111111111111,\"#46039f\"],[0.2222222222222222,\"#7201a8\"],[0.3333333333333333,\"#9c179e\"],[0.4444444444444444,\"#bd3786\"],[0.5555555555555556,\"#d8576b\"],[0.6666666666666666,\"#ed7953\"],[0.7777777777777778,\"#fb9f3a\"],[0.8888888888888888,\"#fdca26\"],[1.0,\"#f0f921\"]]}],\"surface\":[{\"type\":\"surface\",\"colorbar\":{\"outlinewidth\":0,\"ticks\":\"\"},\"colorscale\":[[0.0,\"#0d0887\"],[0.1111111111111111,\"#46039f\"],[0.2222222222222222,\"#7201a8\"],[0.3333333333333333,\"#9c179e\"],[0.4444444444444444,\"#bd3786\"],[0.5555555555555556,\"#d8576b\"],[0.6666666666666666,\"#ed7953\"],[0.7777777777777778,\"#fb9f3a\"],[0.8888888888888888,\"#fdca26\"],[1.0,\"#f0f921\"]]}],\"mesh3d\":[{\"type\":\"mesh3d\",\"colorbar\":{\"outlinewidth\":0,\"ticks\":\"\"}}],\"scatter\":[{\"marker\":{\"line\":{\"color\":\"#283442\"}},\"type\":\"scatter\"}],\"parcoords\":[{\"type\":\"parcoords\",\"line\":{\"colorbar\":{\"outlinewidth\":0,\"ticks\":\"\"}}}],\"scatterpolargl\":[{\"type\":\"scatterpolargl\",\"marker\":{\"colorbar\":{\"outlinewidth\":0,\"ticks\":\"\"}}}],\"bar\":[{\"error_x\":{\"color\":\"#f2f5fa\"},\"error_y\":{\"color\":\"#f2f5fa\"},\"marker\":{\"line\":{\"color\":\"rgb(17,17,17)\",\"width\":0.5},\"pattern\":{\"fillmode\":\"overlay\",\"size\":10,\"solidity\":0.2}},\"type\":\"bar\"}],\"scattergeo\":[{\"type\":\"scattergeo\",\"marker\":{\"colorbar\":{\"outlinewidth\":0,\"ticks\":\"\"}}}],\"scatterpolar\":[{\"type\":\"scatterpolar\",\"marker\":{\"colorbar\":{\"outlinewidth\":0,\"ticks\":\"\"}}}],\"histogram\":[{\"marker\":{\"pattern\":{\"fillmode\":\"overlay\",\"size\":10,\"solidity\":0.2}},\"type\":\"histogram\"}],\"scattergl\":[{\"marker\":{\"line\":{\"color\":\"#283442\"}},\"type\":\"scattergl\"}],\"scatter3d\":[{\"type\":\"scatter3d\",\"line\":{\"colorbar\":{\"outlinewidth\":0,\"ticks\":\"\"}},\"marker\":{\"colorbar\":{\"outlinewidth\":0,\"ticks\":\"\"}}}],\"scattermapbox\":[{\"type\":\"scattermapbox\",\"marker\":{\"colorbar\":{\"outlinewidth\":0,\"ticks\":\"\"}}}],\"scatterternary\":[{\"type\":\"scatterternary\",\"marker\":{\"colorbar\":{\"outlinewidth\":0,\"ticks\":\"\"}}}],\"scattercarpet\":[{\"type\":\"scattercarpet\",\"marker\":{\"colorbar\":{\"outlinewidth\":0,\"ticks\":\"\"}}}],\"carpet\":[{\"aaxis\":{\"endlinecolor\":\"#A2B1C6\",\"gridcolor\":\"#506784\",\"linecolor\":\"#506784\",\"minorgridcolor\":\"#506784\",\"startlinecolor\":\"#A2B1C6\"},\"baxis\":{\"endlinecolor\":\"#A2B1C6\",\"gridcolor\":\"#506784\",\"linecolor\":\"#506784\",\"minorgridcolor\":\"#506784\",\"startlinecolor\":\"#A2B1C6\"},\"type\":\"carpet\"}],\"table\":[{\"cells\":{\"fill\":{\"color\":\"#506784\"},\"line\":{\"color\":\"rgb(17,17,17)\"}},\"header\":{\"fill\":{\"color\":\"#2a3f5f\"},\"line\":{\"color\":\"rgb(17,17,17)\"}},\"type\":\"table\"}],\"barpolar\":[{\"marker\":{\"line\":{\"color\":\"rgb(17,17,17)\",\"width\":0.5},\"pattern\":{\"fillmode\":\"overlay\",\"size\":10,\"solidity\":0.2}},\"type\":\"barpolar\"}],\"pie\":[{\"automargin\":true,\"type\":\"pie\"}]},\"layout\":{\"autotypenumbers\":\"strict\",\"colorway\":[\"#636efa\",\"#EF553B\",\"#00cc96\",\"#ab63fa\",\"#FFA15A\",\"#19d3f3\",\"#FF6692\",\"#B6E880\",\"#FF97FF\",\"#FECB52\"],\"font\":{\"color\":\"#f2f5fa\"},\"hovermode\":\"closest\",\"hoverlabel\":{\"align\":\"left\"},\"paper_bgcolor\":\"rgb(17,17,17)\",\"plot_bgcolor\":\"rgb(17,17,17)\",\"polar\":{\"bgcolor\":\"rgb(17,17,17)\",\"angularaxis\":{\"gridcolor\":\"#506784\",\"linecolor\":\"#506784\",\"ticks\":\"\"},\"radialaxis\":{\"gridcolor\":\"#506784\",\"linecolor\":\"#506784\",\"ticks\":\"\"}},\"ternary\":{\"bgcolor\":\"rgb(17,17,17)\",\"aaxis\":{\"gridcolor\":\"#506784\",\"linecolor\":\"#506784\",\"ticks\":\"\"},\"baxis\":{\"gridcolor\":\"#506784\",\"linecolor\":\"#506784\",\"ticks\":\"\"},\"caxis\":{\"gridcolor\":\"#506784\",\"linecolor\":\"#506784\",\"ticks\":\"\"}},\"coloraxis\":{\"colorbar\":{\"outlinewidth\":0,\"ticks\":\"\"}},\"colorscale\":{\"sequential\":[[0.0,\"#0d0887\"],[0.1111111111111111,\"#46039f\"],[0.2222222222222222,\"#7201a8\"],[0.3333333333333333,\"#9c179e\"],[0.4444444444444444,\"#bd3786\"],[0.5555555555555556,\"#d8576b\"],[0.6666666666666666,\"#ed7953\"],[0.7777777777777778,\"#fb9f3a\"],[0.8888888888888888,\"#fdca26\"],[1.0,\"#f0f921\"]],\"sequentialminus\":[[0.0,\"#0d0887\"],[0.1111111111111111,\"#46039f\"],[0.2222222222222222,\"#7201a8\"],[0.3333333333333333,\"#9c179e\"],[0.4444444444444444,\"#bd3786\"],[0.5555555555555556,\"#d8576b\"],[0.6666666666666666,\"#ed7953\"],[0.7777777777777778,\"#fb9f3a\"],[0.8888888888888888,\"#fdca26\"],[1.0,\"#f0f921\"]],\"diverging\":[[0,\"#8e0152\"],[0.1,\"#c51b7d\"],[0.2,\"#de77ae\"],[0.3,\"#f1b6da\"],[0.4,\"#fde0ef\"],[0.5,\"#f7f7f7\"],[0.6,\"#e6f5d0\"],[0.7,\"#b8e186\"],[0.8,\"#7fbc41\"],[0.9,\"#4d9221\"],[1,\"#276419\"]]},\"xaxis\":{\"gridcolor\":\"#283442\",\"linecolor\":\"#506784\",\"ticks\":\"\",\"title\":{\"standoff\":15},\"zerolinecolor\":\"#283442\",\"automargin\":true,\"zerolinewidth\":2},\"yaxis\":{\"gridcolor\":\"#283442\",\"linecolor\":\"#506784\",\"ticks\":\"\",\"title\":{\"standoff\":15},\"zerolinecolor\":\"#283442\",\"automargin\":true,\"zerolinewidth\":2},\"scene\":{\"xaxis\":{\"backgroundcolor\":\"rgb(17,17,17)\",\"gridcolor\":\"#506784\",\"linecolor\":\"#506784\",\"showbackground\":true,\"ticks\":\"\",\"zerolinecolor\":\"#C8D4E3\",\"gridwidth\":2},\"yaxis\":{\"backgroundcolor\":\"rgb(17,17,17)\",\"gridcolor\":\"#506784\",\"linecolor\":\"#506784\",\"showbackground\":true,\"ticks\":\"\",\"zerolinecolor\":\"#C8D4E3\",\"gridwidth\":2},\"zaxis\":{\"backgroundcolor\":\"rgb(17,17,17)\",\"gridcolor\":\"#506784\",\"linecolor\":\"#506784\",\"showbackground\":true,\"ticks\":\"\",\"zerolinecolor\":\"#C8D4E3\",\"gridwidth\":2}},\"shapedefaults\":{\"line\":{\"color\":\"#f2f5fa\"}},\"annotationdefaults\":{\"arrowcolor\":\"#f2f5fa\",\"arrowhead\":0,\"arrowwidth\":1},\"geo\":{\"bgcolor\":\"rgb(17,17,17)\",\"landcolor\":\"rgb(17,17,17)\",\"subunitcolor\":\"#506784\",\"showland\":true,\"showlakes\":true,\"lakecolor\":\"rgb(17,17,17)\"},\"title\":{\"x\":0.05},\"updatemenudefaults\":{\"bgcolor\":\"#506784\",\"borderwidth\":0},\"sliderdefaults\":{\"bgcolor\":\"#C8D4E3\",\"borderwidth\":1,\"bordercolor\":\"rgb(17,17,17)\",\"tickwidth\":0},\"mapbox\":{\"style\":\"dark\"}}},\"margin\":{\"l\":20,\"r\":20,\"t\":20,\"b\":20},\"font\":{\"color\":\"black\"},\"height\":600,\"width\":600,\"paper_bgcolor\":\"white\",\"plot_bgcolor\":\"white\",\"showlegend\":false},                        {\"responsive\": true}                    ).then(function(){\n",
       "                            \n",
       "var gd = document.getElementById('374a070b-f8a2-44ba-b662-df04dffcf72c');\n",
       "var x = new MutationObserver(function (mutations, observer) {{\n",
       "        var display = window.getComputedStyle(gd).display;\n",
       "        if (!display || display === 'none') {{\n",
       "            console.log([gd, 'removed!']);\n",
       "            Plotly.purge(gd);\n",
       "            observer.disconnect();\n",
       "        }}\n",
       "}});\n",
       "\n",
       "// Listen for the removal of the full notebook cells\n",
       "var notebookContainer = gd.closest('#notebook-container');\n",
       "if (notebookContainer) {{\n",
       "    x.observe(notebookContainer, {childList: true});\n",
       "}}\n",
       "\n",
       "// Listen for the clearing of the current output cell\n",
       "var outputEl = gd.closest('.output');\n",
       "if (outputEl) {{\n",
       "    x.observe(outputEl, {childList: true});\n",
       "}}\n",
       "\n",
       "                        })                };                });            </script>        </div>"
      ]
     },
     "metadata": {},
     "output_type": "display_data"
    }
   ],
   "execution_count": 75
  },
  {
   "metadata": {},
   "cell_type": "markdown",
   "source": "#### Overview table",
   "id": "6a707bc8ca2c4a74"
  },
  {
   "metadata": {
    "ExecuteTime": {
     "end_time": "2025-06-15T20:59:47.098273Z",
     "start_time": "2025-06-15T20:59:47.043601Z"
    }
   },
   "cell_type": "code",
   "source": [
    "importlib.reload(mpt_utils)\n",
    "# Create overview\n",
    "mpt_utils.generate_overview_table(allocations_6m, mu_6m, S_6m, df_pct)"
   ],
   "id": "9d7b4575e5ced0d8",
   "outputs": [
    {
     "data": {
      "text/plain": [
       "        Share Count  Average Covariance Average Returns Return Last 12 Months  \\\n",
       "FNKO              3           -0.093750          97.98%               -62.69%   \n",
       "CVNA              1           -0.079318          19.60%                98.50%   \n",
       "PAR               1           -0.032784          83.90%                 1.20%   \n",
       "2685.T            2            0.020341         -19.19%                61.48%   \n",
       "7575.T            6            0.027273         -20.83%                19.33%   \n",
       "...             ...                 ...             ...                   ...   \n",
       "KVHI              1            0.001705          10.13%               -56.31%   \n",
       "PDM               1           -0.004659           7.07%               -44.87%   \n",
       "2170.T            2           -0.010909           6.98%               -54.33%   \n",
       "APLD              1            0.000625          19.64%               115.04%   \n",
       "DHC               1           -0.024432           3.89%                57.91%   \n",
       "\n",
       "       Return (Actual) Next 12 Months  \n",
       "FNKO                           34.43%  \n",
       "CVNA                          211.25%  \n",
       "PAR                            41.61%  \n",
       "2685.T                         22.88%  \n",
       "7575.T                          5.04%  \n",
       "...                               ...  \n",
       "KVHI                          -11.70%  \n",
       "PDM                            82.09%  \n",
       "2170.T                         42.90%  \n",
       "APLD                            2.55%  \n",
       "DHC                            75.33%  \n",
       "\n",
       "[177 rows x 5 columns]"
      ],
      "text/html": [
       "<div>\n",
       "<style scoped>\n",
       "    .dataframe tbody tr th:only-of-type {\n",
       "        vertical-align: middle;\n",
       "    }\n",
       "\n",
       "    .dataframe tbody tr th {\n",
       "        vertical-align: top;\n",
       "    }\n",
       "\n",
       "    .dataframe thead th {\n",
       "        text-align: right;\n",
       "    }\n",
       "</style>\n",
       "<table border=\"1\" class=\"dataframe\">\n",
       "  <thead>\n",
       "    <tr style=\"text-align: right;\">\n",
       "      <th></th>\n",
       "      <th>Share Count</th>\n",
       "      <th>Average Covariance</th>\n",
       "      <th>Average Returns</th>\n",
       "      <th>Return Last 12 Months</th>\n",
       "      <th>Return (Actual) Next 12 Months</th>\n",
       "    </tr>\n",
       "  </thead>\n",
       "  <tbody>\n",
       "    <tr>\n",
       "      <th>FNKO</th>\n",
       "      <td>3</td>\n",
       "      <td>-0.093750</td>\n",
       "      <td>97.98%</td>\n",
       "      <td>-62.69%</td>\n",
       "      <td>34.43%</td>\n",
       "    </tr>\n",
       "    <tr>\n",
       "      <th>CVNA</th>\n",
       "      <td>1</td>\n",
       "      <td>-0.079318</td>\n",
       "      <td>19.60%</td>\n",
       "      <td>98.50%</td>\n",
       "      <td>211.25%</td>\n",
       "    </tr>\n",
       "    <tr>\n",
       "      <th>PAR</th>\n",
       "      <td>1</td>\n",
       "      <td>-0.032784</td>\n",
       "      <td>83.90%</td>\n",
       "      <td>1.20%</td>\n",
       "      <td>41.61%</td>\n",
       "    </tr>\n",
       "    <tr>\n",
       "      <th>2685.T</th>\n",
       "      <td>2</td>\n",
       "      <td>0.020341</td>\n",
       "      <td>-19.19%</td>\n",
       "      <td>61.48%</td>\n",
       "      <td>22.88%</td>\n",
       "    </tr>\n",
       "    <tr>\n",
       "      <th>7575.T</th>\n",
       "      <td>6</td>\n",
       "      <td>0.027273</td>\n",
       "      <td>-20.83%</td>\n",
       "      <td>19.33%</td>\n",
       "      <td>5.04%</td>\n",
       "    </tr>\n",
       "    <tr>\n",
       "      <th>...</th>\n",
       "      <td>...</td>\n",
       "      <td>...</td>\n",
       "      <td>...</td>\n",
       "      <td>...</td>\n",
       "      <td>...</td>\n",
       "    </tr>\n",
       "    <tr>\n",
       "      <th>KVHI</th>\n",
       "      <td>1</td>\n",
       "      <td>0.001705</td>\n",
       "      <td>10.13%</td>\n",
       "      <td>-56.31%</td>\n",
       "      <td>-11.70%</td>\n",
       "    </tr>\n",
       "    <tr>\n",
       "      <th>PDM</th>\n",
       "      <td>1</td>\n",
       "      <td>-0.004659</td>\n",
       "      <td>7.07%</td>\n",
       "      <td>-44.87%</td>\n",
       "      <td>82.09%</td>\n",
       "    </tr>\n",
       "    <tr>\n",
       "      <th>2170.T</th>\n",
       "      <td>2</td>\n",
       "      <td>-0.010909</td>\n",
       "      <td>6.98%</td>\n",
       "      <td>-54.33%</td>\n",
       "      <td>42.90%</td>\n",
       "    </tr>\n",
       "    <tr>\n",
       "      <th>APLD</th>\n",
       "      <td>1</td>\n",
       "      <td>0.000625</td>\n",
       "      <td>19.64%</td>\n",
       "      <td>115.04%</td>\n",
       "      <td>2.55%</td>\n",
       "    </tr>\n",
       "    <tr>\n",
       "      <th>DHC</th>\n",
       "      <td>1</td>\n",
       "      <td>-0.024432</td>\n",
       "      <td>3.89%</td>\n",
       "      <td>57.91%</td>\n",
       "      <td>75.33%</td>\n",
       "    </tr>\n",
       "  </tbody>\n",
       "</table>\n",
       "<p>177 rows × 5 columns</p>\n",
       "</div>"
      ]
     },
     "execution_count": 67,
     "metadata": {},
     "output_type": "execute_result"
    }
   ],
   "execution_count": 67
  },
  {
   "metadata": {},
   "cell_type": "markdown",
   "source": "### LSTM Univariate - 12 Months",
   "id": "f32c4b7502d9dfb9"
  },
  {
   "metadata": {},
   "cell_type": "markdown",
   "source": [
    "Get the known data (train data)\n",
    "After that, get the first 12 predicted months, or the first 12 predicted sequences of test data"
   ],
   "id": "466f499db0b4fd24"
  },
  {
   "metadata": {
    "ExecuteTime": {
     "end_time": "2025-06-15T20:59:47.475523Z",
     "start_time": "2025-06-15T20:59:47.461178Z"
    }
   },
   "cell_type": "code",
   "source": [
    "df_train = X_train[:, :, -1].clone()\n",
    "y_test_pred_12m = y_test_pred[0,:,:].T[0:12]\n",
    "y_test_pred_12m"
   ],
   "id": "1696162ee878eb39",
   "outputs": [
    {
     "data": {
      "text/plain": [
       "tensor([[-0.0280, -0.0047,  0.0086,  ...,  0.0108,  0.0109,  0.0092],\n",
       "        [-0.0090, -0.0007,  0.0065,  ...,  0.0117,  0.0117,  0.0108],\n",
       "        [-0.0276, -0.0113,  0.0034,  ...,  0.0107,  0.0110,  0.0111],\n",
       "        ...,\n",
       "        [-0.0019,  0.0016,  0.0016,  ...,  0.0113,  0.0115,  0.0118],\n",
       "        [ 0.0500,  0.0340,  0.0271,  ...,  0.0103,  0.0104,  0.0118],\n",
       "        [-0.0382, -0.0150,  0.0027,  ...,  0.0123,  0.0122,  0.0109]])"
      ]
     },
     "execution_count": 68,
     "metadata": {},
     "output_type": "execute_result"
    }
   ],
   "execution_count": 68
  },
  {
   "metadata": {
    "ExecuteTime": {
     "end_time": "2025-06-15T20:59:47.554146Z",
     "start_time": "2025-06-15T20:59:47.543865Z"
    }
   },
   "cell_type": "code",
   "source": [
    "df_forecast_12m = pd.DataFrame(df_train.clone())\n",
    "df_forecast_12m = pd.concat([df_forecast_12m, pd.DataFrame(y_test_pred_12m)], ignore_index=True)\n",
    "# Assign back columns and indices to make human understandable\n",
    "df_forecast_12m.columns = df.columns\n",
    "df_forecast_12m.index = df_pct[(in_seq_length - 1) : len(df_forecast_12m) + (in_seq_length - 1)].index\n",
    "#\n",
    "df_forecast_12m.tail(3)"
   ],
   "id": "38062c6ef3ea54a6",
   "outputs": [
    {
     "data": {
      "text/plain": [
       "                 GME    2124.T    2491.T    2471.T    3046.T    PAT.DE  \\\n",
       "Date                                                                     \n",
       "2019-06-01 -0.001887  0.001580  0.001584  0.006454  0.007882  0.010522   \n",
       "2019-07-01  0.049970  0.033988  0.027110  0.018694  0.013065  0.008116   \n",
       "2019-08-01 -0.038165 -0.014980  0.002680  0.001762  0.010951  0.008956   \n",
       "\n",
       "                CROX    AOF.DE    SFQ.DE       DAN  ...      KREF     HLN.L  \\\n",
       "Date                                                ...                       \n",
       "2019-06-01  0.013018  0.010539  0.012357  0.014041  ...  0.013725  0.012624   \n",
       "2019-07-01  0.006511  0.009205  0.009685  0.007651  ...  0.010414  0.010591   \n",
       "2019-08-01  0.011387  0.011515  0.009335  0.008306  ...  0.009062  0.010247   \n",
       "\n",
       "                 DBX       BNL       CBL      KVUE      PSTL      NTST  \\\n",
       "Date                                                                     \n",
       "2019-06-01  0.009815  0.010879  0.011200  0.011291  0.011459  0.011304   \n",
       "2019-07-01  0.012147  0.011469  0.010988  0.011125  0.010511  0.010320   \n",
       "2019-08-01  0.013180  0.012457  0.012176  0.011727  0.011940  0.012282   \n",
       "\n",
       "                BLCO     NBS.L  \n",
       "Date                            \n",
       "2019-06-01  0.011462  0.011761  \n",
       "2019-07-01  0.010352  0.011836  \n",
       "2019-08-01  0.012238  0.010917  \n",
       "\n",
       "[3 rows x 1332 columns]"
      ],
      "text/html": [
       "<div>\n",
       "<style scoped>\n",
       "    .dataframe tbody tr th:only-of-type {\n",
       "        vertical-align: middle;\n",
       "    }\n",
       "\n",
       "    .dataframe tbody tr th {\n",
       "        vertical-align: top;\n",
       "    }\n",
       "\n",
       "    .dataframe thead th {\n",
       "        text-align: right;\n",
       "    }\n",
       "</style>\n",
       "<table border=\"1\" class=\"dataframe\">\n",
       "  <thead>\n",
       "    <tr style=\"text-align: right;\">\n",
       "      <th></th>\n",
       "      <th>GME</th>\n",
       "      <th>2124.T</th>\n",
       "      <th>2491.T</th>\n",
       "      <th>2471.T</th>\n",
       "      <th>3046.T</th>\n",
       "      <th>PAT.DE</th>\n",
       "      <th>CROX</th>\n",
       "      <th>AOF.DE</th>\n",
       "      <th>SFQ.DE</th>\n",
       "      <th>DAN</th>\n",
       "      <th>...</th>\n",
       "      <th>KREF</th>\n",
       "      <th>HLN.L</th>\n",
       "      <th>DBX</th>\n",
       "      <th>BNL</th>\n",
       "      <th>CBL</th>\n",
       "      <th>KVUE</th>\n",
       "      <th>PSTL</th>\n",
       "      <th>NTST</th>\n",
       "      <th>BLCO</th>\n",
       "      <th>NBS.L</th>\n",
       "    </tr>\n",
       "    <tr>\n",
       "      <th>Date</th>\n",
       "      <th></th>\n",
       "      <th></th>\n",
       "      <th></th>\n",
       "      <th></th>\n",
       "      <th></th>\n",
       "      <th></th>\n",
       "      <th></th>\n",
       "      <th></th>\n",
       "      <th></th>\n",
       "      <th></th>\n",
       "      <th></th>\n",
       "      <th></th>\n",
       "      <th></th>\n",
       "      <th></th>\n",
       "      <th></th>\n",
       "      <th></th>\n",
       "      <th></th>\n",
       "      <th></th>\n",
       "      <th></th>\n",
       "      <th></th>\n",
       "      <th></th>\n",
       "    </tr>\n",
       "  </thead>\n",
       "  <tbody>\n",
       "    <tr>\n",
       "      <th>2019-06-01</th>\n",
       "      <td>-0.001887</td>\n",
       "      <td>0.001580</td>\n",
       "      <td>0.001584</td>\n",
       "      <td>0.006454</td>\n",
       "      <td>0.007882</td>\n",
       "      <td>0.010522</td>\n",
       "      <td>0.013018</td>\n",
       "      <td>0.010539</td>\n",
       "      <td>0.012357</td>\n",
       "      <td>0.014041</td>\n",
       "      <td>...</td>\n",
       "      <td>0.013725</td>\n",
       "      <td>0.012624</td>\n",
       "      <td>0.009815</td>\n",
       "      <td>0.010879</td>\n",
       "      <td>0.011200</td>\n",
       "      <td>0.011291</td>\n",
       "      <td>0.011459</td>\n",
       "      <td>0.011304</td>\n",
       "      <td>0.011462</td>\n",
       "      <td>0.011761</td>\n",
       "    </tr>\n",
       "    <tr>\n",
       "      <th>2019-07-01</th>\n",
       "      <td>0.049970</td>\n",
       "      <td>0.033988</td>\n",
       "      <td>0.027110</td>\n",
       "      <td>0.018694</td>\n",
       "      <td>0.013065</td>\n",
       "      <td>0.008116</td>\n",
       "      <td>0.006511</td>\n",
       "      <td>0.009205</td>\n",
       "      <td>0.009685</td>\n",
       "      <td>0.007651</td>\n",
       "      <td>...</td>\n",
       "      <td>0.010414</td>\n",
       "      <td>0.010591</td>\n",
       "      <td>0.012147</td>\n",
       "      <td>0.011469</td>\n",
       "      <td>0.010988</td>\n",
       "      <td>0.011125</td>\n",
       "      <td>0.010511</td>\n",
       "      <td>0.010320</td>\n",
       "      <td>0.010352</td>\n",
       "      <td>0.011836</td>\n",
       "    </tr>\n",
       "    <tr>\n",
       "      <th>2019-08-01</th>\n",
       "      <td>-0.038165</td>\n",
       "      <td>-0.014980</td>\n",
       "      <td>0.002680</td>\n",
       "      <td>0.001762</td>\n",
       "      <td>0.010951</td>\n",
       "      <td>0.008956</td>\n",
       "      <td>0.011387</td>\n",
       "      <td>0.011515</td>\n",
       "      <td>0.009335</td>\n",
       "      <td>0.008306</td>\n",
       "      <td>...</td>\n",
       "      <td>0.009062</td>\n",
       "      <td>0.010247</td>\n",
       "      <td>0.013180</td>\n",
       "      <td>0.012457</td>\n",
       "      <td>0.012176</td>\n",
       "      <td>0.011727</td>\n",
       "      <td>0.011940</td>\n",
       "      <td>0.012282</td>\n",
       "      <td>0.012238</td>\n",
       "      <td>0.010917</td>\n",
       "    </tr>\n",
       "  </tbody>\n",
       "</table>\n",
       "<p>3 rows × 1332 columns</p>\n",
       "</div>"
      ]
     },
     "execution_count": 69,
     "metadata": {},
     "output_type": "execute_result"
    }
   ],
   "execution_count": 69
  },
  {
   "metadata": {
    "ExecuteTime": {
     "end_time": "2025-06-15T21:03:55.254203Z",
     "start_time": "2025-06-15T21:03:48.767847Z"
    }
   },
   "cell_type": "code",
   "source": [
    "importlib.reload(lstm_utils)\n",
    "importlib.reload(mpt_utils)\n",
    "\n",
    "weights_12m, mu_12m, S_12m, allocations_12m = mpt_utils.portfolio_and_plot(df_forecast_12m, df, plot_threshold=0.014)"
   ],
   "id": "8558fe3a04872818",
   "outputs": [
    {
     "name": "stdout",
     "output_type": "stream",
     "text": [
      "Expected annual return: 14.5%\n",
      "Annual volatility: 0.3%\n",
      "Sharpe Ratio: 42.63\n",
      "-- Allocation --\n",
      "{'ENPH': 2, 'PEN': 1, '7575.T': 17, '2491.T': 16, 'SONO': 11, 'NSSC': 6, 'SHYF': 10, '2685.T': 4, '7864.T': 9, '3148.T': 4, 'OSIS': 1, '9076.T': 6, 'ADUS': 1, '4218.T': 7, 'CCK': 1, '8173.T': 5, '9627.T': 3, 'WOSG.L': 1, '4151.T': 5, '7947.T': 4, 'RGA': 1, 'TEP.L': 1, 'PFG': 1, '1973.T': 5, 'CGNX': 2, '7740.T': 5, '2471.T': 33, 'OKTA': 1, '2331.T': 12, '9433.T': 2, '9364.T': 3, '3994.T': 2, 'GEN': 4, '8022.T': 2, 'HNR1.DE': 1, 'ALGN': 1, '9409.T': 6, '9260.T': 5, 'UNM': 1, 'PGR': 1, 'CCS': 1, 'ATRI': 1, '9107.T': 5, 'CNK': 4, '7747.T': 3, '9072.T': 3, '8008.T': 5, '3608.T': 11, 'LOVE': 3, 'FDM.L': 1, '2124.T': 17, 'CNNE': 3, 'AVGO': 1, '2429.T': 3, '7915.T': 5, '2733.T': 2, 'YETI': 1, '7936.T': 6, '4549.T': 4, '8150.T': 3, 'CHEF': 2, 'KTB': 1, 'DX': 5, 'ARLO': 5, '6951.T': 1, 'MTCH': 1, '6326.T': 3, '8154.T': 1, 'EOAN.DE': 3, '2874.T': 5, 'COK.DE': 1, 'GME': 3, '8876.T': 4, '8439.T': 4, '8252.T': 2, '6744.T': 3, '8086.T': 4, 'THRY': 2, 'SCS': 3, '3191.T': 2, 'WMG': 1, '9757.T': 2, '2715.T': 2, 'BGC': 5, 'RUN': 3, 'SBH': 4, '8014.T': 1, '4503.T': 2, '3659.T': 1, 'SCSC': 1, 'EFC': 2, 'KD': 2, 'IRT': 2, 'BXMT': 1, 'EH': 2, '1911.T': 1, '2379.T': 1, 'NVRI': 4, 'AVTR': 1, '9470.T': 4, 'AZEK': 1, '8282.T': 2, 'KW': 2, 'ONEW': 1, 'TWO': 2, 'MIR': 3, 'DAKT': 2, '3186.T': 1, '2670.T': 1, 'VRNT': 1, '7976.T': 1, 'MPX': 2, '3050.T': 2, 'CATO': 2, '3421.T': 1, '2327.T': 1, 'OSW': 1, 'STGW': 4, '9842.T': 1, '3086.T': 1, 'ARHS': 1, 'TRTX': 2, '4326.T': 1, '3612.T': 1, '4619.T': 1, '9069.T': 1, '9831.T': 2, '7955.T': 1}\n",
      "-- Weights Percentage --\n",
      "{'2491.T': 0.0197, 'ENPH': 0.0268, 'NSSC': 0.0179, 'OSIS': 0.0143, 'SHYF': 0.0163, '2685.T': 0.0153, '7575.T': 0.0201, '9076.T': 0.0143, '3148.T': 0.0145, 'PEN': 0.0205, '7864.T': 0.0152, 'SONO': 0.0183, 'Other(116)': 0.7869}\n"
     ]
    },
    {
     "name": "stderr",
     "output_type": "stream",
     "text": [
      "/Users/herbishtini/anaconda3/envs/portfolio_optimisation/lib/python3.11/site-packages/pypfopt/discrete_allocation.py:27: FutureWarning:\n",
      "\n",
      "Downcasting object dtype arrays on .fillna, .ffill, .bfill is deprecated and will change in a future version. Call result.infer_objects(copy=False) instead. To opt-in to the future behavior, set `pd.set_option('future.no_silent_downcasting', True)`\n",
      "\n"
     ]
    },
    {
     "data": {
      "application/vnd.plotly.v1+json": {
       "data": [
        {
         "hole": 0.3,
         "insidetextorientation": "radial",
         "labels": [
          "2491.T",
          "ENPH",
          "NSSC",
          "OSIS",
          "SHYF",
          "2685.T",
          "7575.T",
          "9076.T",
          "3148.T",
          "PEN",
          "7864.T",
          "SONO",
          "Other(116)"
         ],
         "textinfo": "label+percent",
         "textposition": "inside",
         "values": [
          0.0139,
          0.0189,
          0.0126,
          0.0101,
          0.0115,
          0.0108,
          0.0142,
          0.0101,
          0.0102,
          0.0145,
          0.0107,
          0.0129,
          0.5554
         ],
         "type": "pie"
        }
       ],
       "layout": {
        "template": {
         "data": {
          "histogram2dcontour": [
           {
            "type": "histogram2dcontour",
            "colorbar": {
             "outlinewidth": 0,
             "ticks": ""
            },
            "colorscale": [
             [
              0.0,
              "#0d0887"
             ],
             [
              0.1111111111111111,
              "#46039f"
             ],
             [
              0.2222222222222222,
              "#7201a8"
             ],
             [
              0.3333333333333333,
              "#9c179e"
             ],
             [
              0.4444444444444444,
              "#bd3786"
             ],
             [
              0.5555555555555556,
              "#d8576b"
             ],
             [
              0.6666666666666666,
              "#ed7953"
             ],
             [
              0.7777777777777778,
              "#fb9f3a"
             ],
             [
              0.8888888888888888,
              "#fdca26"
             ],
             [
              1.0,
              "#f0f921"
             ]
            ]
           }
          ],
          "choropleth": [
           {
            "type": "choropleth",
            "colorbar": {
             "outlinewidth": 0,
             "ticks": ""
            }
           }
          ],
          "histogram2d": [
           {
            "type": "histogram2d",
            "colorbar": {
             "outlinewidth": 0,
             "ticks": ""
            },
            "colorscale": [
             [
              0.0,
              "#0d0887"
             ],
             [
              0.1111111111111111,
              "#46039f"
             ],
             [
              0.2222222222222222,
              "#7201a8"
             ],
             [
              0.3333333333333333,
              "#9c179e"
             ],
             [
              0.4444444444444444,
              "#bd3786"
             ],
             [
              0.5555555555555556,
              "#d8576b"
             ],
             [
              0.6666666666666666,
              "#ed7953"
             ],
             [
              0.7777777777777778,
              "#fb9f3a"
             ],
             [
              0.8888888888888888,
              "#fdca26"
             ],
             [
              1.0,
              "#f0f921"
             ]
            ]
           }
          ],
          "heatmap": [
           {
            "type": "heatmap",
            "colorbar": {
             "outlinewidth": 0,
             "ticks": ""
            },
            "colorscale": [
             [
              0.0,
              "#0d0887"
             ],
             [
              0.1111111111111111,
              "#46039f"
             ],
             [
              0.2222222222222222,
              "#7201a8"
             ],
             [
              0.3333333333333333,
              "#9c179e"
             ],
             [
              0.4444444444444444,
              "#bd3786"
             ],
             [
              0.5555555555555556,
              "#d8576b"
             ],
             [
              0.6666666666666666,
              "#ed7953"
             ],
             [
              0.7777777777777778,
              "#fb9f3a"
             ],
             [
              0.8888888888888888,
              "#fdca26"
             ],
             [
              1.0,
              "#f0f921"
             ]
            ]
           }
          ],
          "heatmapgl": [
           {
            "type": "heatmapgl",
            "colorbar": {
             "outlinewidth": 0,
             "ticks": ""
            },
            "colorscale": [
             [
              0.0,
              "#0d0887"
             ],
             [
              0.1111111111111111,
              "#46039f"
             ],
             [
              0.2222222222222222,
              "#7201a8"
             ],
             [
              0.3333333333333333,
              "#9c179e"
             ],
             [
              0.4444444444444444,
              "#bd3786"
             ],
             [
              0.5555555555555556,
              "#d8576b"
             ],
             [
              0.6666666666666666,
              "#ed7953"
             ],
             [
              0.7777777777777778,
              "#fb9f3a"
             ],
             [
              0.8888888888888888,
              "#fdca26"
             ],
             [
              1.0,
              "#f0f921"
             ]
            ]
           }
          ],
          "contourcarpet": [
           {
            "type": "contourcarpet",
            "colorbar": {
             "outlinewidth": 0,
             "ticks": ""
            }
           }
          ],
          "contour": [
           {
            "type": "contour",
            "colorbar": {
             "outlinewidth": 0,
             "ticks": ""
            },
            "colorscale": [
             [
              0.0,
              "#0d0887"
             ],
             [
              0.1111111111111111,
              "#46039f"
             ],
             [
              0.2222222222222222,
              "#7201a8"
             ],
             [
              0.3333333333333333,
              "#9c179e"
             ],
             [
              0.4444444444444444,
              "#bd3786"
             ],
             [
              0.5555555555555556,
              "#d8576b"
             ],
             [
              0.6666666666666666,
              "#ed7953"
             ],
             [
              0.7777777777777778,
              "#fb9f3a"
             ],
             [
              0.8888888888888888,
              "#fdca26"
             ],
             [
              1.0,
              "#f0f921"
             ]
            ]
           }
          ],
          "surface": [
           {
            "type": "surface",
            "colorbar": {
             "outlinewidth": 0,
             "ticks": ""
            },
            "colorscale": [
             [
              0.0,
              "#0d0887"
             ],
             [
              0.1111111111111111,
              "#46039f"
             ],
             [
              0.2222222222222222,
              "#7201a8"
             ],
             [
              0.3333333333333333,
              "#9c179e"
             ],
             [
              0.4444444444444444,
              "#bd3786"
             ],
             [
              0.5555555555555556,
              "#d8576b"
             ],
             [
              0.6666666666666666,
              "#ed7953"
             ],
             [
              0.7777777777777778,
              "#fb9f3a"
             ],
             [
              0.8888888888888888,
              "#fdca26"
             ],
             [
              1.0,
              "#f0f921"
             ]
            ]
           }
          ],
          "mesh3d": [
           {
            "type": "mesh3d",
            "colorbar": {
             "outlinewidth": 0,
             "ticks": ""
            }
           }
          ],
          "scatter": [
           {
            "marker": {
             "line": {
              "color": "#283442"
             }
            },
            "type": "scatter"
           }
          ],
          "parcoords": [
           {
            "type": "parcoords",
            "line": {
             "colorbar": {
              "outlinewidth": 0,
              "ticks": ""
             }
            }
           }
          ],
          "scatterpolargl": [
           {
            "type": "scatterpolargl",
            "marker": {
             "colorbar": {
              "outlinewidth": 0,
              "ticks": ""
             }
            }
           }
          ],
          "bar": [
           {
            "error_x": {
             "color": "#f2f5fa"
            },
            "error_y": {
             "color": "#f2f5fa"
            },
            "marker": {
             "line": {
              "color": "rgb(17,17,17)",
              "width": 0.5
             },
             "pattern": {
              "fillmode": "overlay",
              "size": 10,
              "solidity": 0.2
             }
            },
            "type": "bar"
           }
          ],
          "scattergeo": [
           {
            "type": "scattergeo",
            "marker": {
             "colorbar": {
              "outlinewidth": 0,
              "ticks": ""
             }
            }
           }
          ],
          "scatterpolar": [
           {
            "type": "scatterpolar",
            "marker": {
             "colorbar": {
              "outlinewidth": 0,
              "ticks": ""
             }
            }
           }
          ],
          "histogram": [
           {
            "marker": {
             "pattern": {
              "fillmode": "overlay",
              "size": 10,
              "solidity": 0.2
             }
            },
            "type": "histogram"
           }
          ],
          "scattergl": [
           {
            "marker": {
             "line": {
              "color": "#283442"
             }
            },
            "type": "scattergl"
           }
          ],
          "scatter3d": [
           {
            "type": "scatter3d",
            "line": {
             "colorbar": {
              "outlinewidth": 0,
              "ticks": ""
             }
            },
            "marker": {
             "colorbar": {
              "outlinewidth": 0,
              "ticks": ""
             }
            }
           }
          ],
          "scattermapbox": [
           {
            "type": "scattermapbox",
            "marker": {
             "colorbar": {
              "outlinewidth": 0,
              "ticks": ""
             }
            }
           }
          ],
          "scatterternary": [
           {
            "type": "scatterternary",
            "marker": {
             "colorbar": {
              "outlinewidth": 0,
              "ticks": ""
             }
            }
           }
          ],
          "scattercarpet": [
           {
            "type": "scattercarpet",
            "marker": {
             "colorbar": {
              "outlinewidth": 0,
              "ticks": ""
             }
            }
           }
          ],
          "carpet": [
           {
            "aaxis": {
             "endlinecolor": "#A2B1C6",
             "gridcolor": "#506784",
             "linecolor": "#506784",
             "minorgridcolor": "#506784",
             "startlinecolor": "#A2B1C6"
            },
            "baxis": {
             "endlinecolor": "#A2B1C6",
             "gridcolor": "#506784",
             "linecolor": "#506784",
             "minorgridcolor": "#506784",
             "startlinecolor": "#A2B1C6"
            },
            "type": "carpet"
           }
          ],
          "table": [
           {
            "cells": {
             "fill": {
              "color": "#506784"
             },
             "line": {
              "color": "rgb(17,17,17)"
             }
            },
            "header": {
             "fill": {
              "color": "#2a3f5f"
             },
             "line": {
              "color": "rgb(17,17,17)"
             }
            },
            "type": "table"
           }
          ],
          "barpolar": [
           {
            "marker": {
             "line": {
              "color": "rgb(17,17,17)",
              "width": 0.5
             },
             "pattern": {
              "fillmode": "overlay",
              "size": 10,
              "solidity": 0.2
             }
            },
            "type": "barpolar"
           }
          ],
          "pie": [
           {
            "automargin": true,
            "type": "pie"
           }
          ]
         },
         "layout": {
          "autotypenumbers": "strict",
          "colorway": [
           "#636efa",
           "#EF553B",
           "#00cc96",
           "#ab63fa",
           "#FFA15A",
           "#19d3f3",
           "#FF6692",
           "#B6E880",
           "#FF97FF",
           "#FECB52"
          ],
          "font": {
           "color": "#f2f5fa"
          },
          "hovermode": "closest",
          "hoverlabel": {
           "align": "left"
          },
          "paper_bgcolor": "rgb(17,17,17)",
          "plot_bgcolor": "rgb(17,17,17)",
          "polar": {
           "bgcolor": "rgb(17,17,17)",
           "angularaxis": {
            "gridcolor": "#506784",
            "linecolor": "#506784",
            "ticks": ""
           },
           "radialaxis": {
            "gridcolor": "#506784",
            "linecolor": "#506784",
            "ticks": ""
           }
          },
          "ternary": {
           "bgcolor": "rgb(17,17,17)",
           "aaxis": {
            "gridcolor": "#506784",
            "linecolor": "#506784",
            "ticks": ""
           },
           "baxis": {
            "gridcolor": "#506784",
            "linecolor": "#506784",
            "ticks": ""
           },
           "caxis": {
            "gridcolor": "#506784",
            "linecolor": "#506784",
            "ticks": ""
           }
          },
          "coloraxis": {
           "colorbar": {
            "outlinewidth": 0,
            "ticks": ""
           }
          },
          "colorscale": {
           "sequential": [
            [
             0.0,
             "#0d0887"
            ],
            [
             0.1111111111111111,
             "#46039f"
            ],
            [
             0.2222222222222222,
             "#7201a8"
            ],
            [
             0.3333333333333333,
             "#9c179e"
            ],
            [
             0.4444444444444444,
             "#bd3786"
            ],
            [
             0.5555555555555556,
             "#d8576b"
            ],
            [
             0.6666666666666666,
             "#ed7953"
            ],
            [
             0.7777777777777778,
             "#fb9f3a"
            ],
            [
             0.8888888888888888,
             "#fdca26"
            ],
            [
             1.0,
             "#f0f921"
            ]
           ],
           "sequentialminus": [
            [
             0.0,
             "#0d0887"
            ],
            [
             0.1111111111111111,
             "#46039f"
            ],
            [
             0.2222222222222222,
             "#7201a8"
            ],
            [
             0.3333333333333333,
             "#9c179e"
            ],
            [
             0.4444444444444444,
             "#bd3786"
            ],
            [
             0.5555555555555556,
             "#d8576b"
            ],
            [
             0.6666666666666666,
             "#ed7953"
            ],
            [
             0.7777777777777778,
             "#fb9f3a"
            ],
            [
             0.8888888888888888,
             "#fdca26"
            ],
            [
             1.0,
             "#f0f921"
            ]
           ],
           "diverging": [
            [
             0,
             "#8e0152"
            ],
            [
             0.1,
             "#c51b7d"
            ],
            [
             0.2,
             "#de77ae"
            ],
            [
             0.3,
             "#f1b6da"
            ],
            [
             0.4,
             "#fde0ef"
            ],
            [
             0.5,
             "#f7f7f7"
            ],
            [
             0.6,
             "#e6f5d0"
            ],
            [
             0.7,
             "#b8e186"
            ],
            [
             0.8,
             "#7fbc41"
            ],
            [
             0.9,
             "#4d9221"
            ],
            [
             1,
             "#276419"
            ]
           ]
          },
          "xaxis": {
           "gridcolor": "#283442",
           "linecolor": "#506784",
           "ticks": "",
           "title": {
            "standoff": 15
           },
           "zerolinecolor": "#283442",
           "automargin": true,
           "zerolinewidth": 2
          },
          "yaxis": {
           "gridcolor": "#283442",
           "linecolor": "#506784",
           "ticks": "",
           "title": {
            "standoff": 15
           },
           "zerolinecolor": "#283442",
           "automargin": true,
           "zerolinewidth": 2
          },
          "scene": {
           "xaxis": {
            "backgroundcolor": "rgb(17,17,17)",
            "gridcolor": "#506784",
            "linecolor": "#506784",
            "showbackground": true,
            "ticks": "",
            "zerolinecolor": "#C8D4E3",
            "gridwidth": 2
           },
           "yaxis": {
            "backgroundcolor": "rgb(17,17,17)",
            "gridcolor": "#506784",
            "linecolor": "#506784",
            "showbackground": true,
            "ticks": "",
            "zerolinecolor": "#C8D4E3",
            "gridwidth": 2
           },
           "zaxis": {
            "backgroundcolor": "rgb(17,17,17)",
            "gridcolor": "#506784",
            "linecolor": "#506784",
            "showbackground": true,
            "ticks": "",
            "zerolinecolor": "#C8D4E3",
            "gridwidth": 2
           }
          },
          "shapedefaults": {
           "line": {
            "color": "#f2f5fa"
           }
          },
          "annotationdefaults": {
           "arrowcolor": "#f2f5fa",
           "arrowhead": 0,
           "arrowwidth": 1
          },
          "geo": {
           "bgcolor": "rgb(17,17,17)",
           "landcolor": "rgb(17,17,17)",
           "subunitcolor": "#506784",
           "showland": true,
           "showlakes": true,
           "lakecolor": "rgb(17,17,17)"
          },
          "title": {
           "x": 0.05
          },
          "updatemenudefaults": {
           "bgcolor": "#506784",
           "borderwidth": 0
          },
          "sliderdefaults": {
           "bgcolor": "#C8D4E3",
           "borderwidth": 1,
           "bordercolor": "rgb(17,17,17)",
           "tickwidth": 0
          },
          "mapbox": {
           "style": "dark"
          }
         }
        },
        "margin": {
         "l": 20,
         "r": 20,
         "t": 20,
         "b": 20
        },
        "font": {
         "color": "black"
        },
        "height": 600,
        "width": 600,
        "paper_bgcolor": "white",
        "plot_bgcolor": "white",
        "showlegend": false
       },
       "config": {
        "plotlyServerURL": "https://plot.ly"
       }
      },
      "text/html": [
       "<div>                            <div id=\"5d7e1188-540c-4487-9a97-050f1000f89e\" class=\"plotly-graph-div\" style=\"height:600px; width:600px;\"></div>            <script type=\"text/javascript\">                require([\"plotly\"], function(Plotly) {                    window.PLOTLYENV=window.PLOTLYENV || {};                                    if (document.getElementById(\"5d7e1188-540c-4487-9a97-050f1000f89e\")) {                    Plotly.newPlot(                        \"5d7e1188-540c-4487-9a97-050f1000f89e\",                        [{\"hole\":0.3,\"insidetextorientation\":\"radial\",\"labels\":[\"2491.T\",\"ENPH\",\"NSSC\",\"OSIS\",\"SHYF\",\"2685.T\",\"7575.T\",\"9076.T\",\"3148.T\",\"PEN\",\"7864.T\",\"SONO\",\"Other(116)\"],\"textinfo\":\"label+percent\",\"textposition\":\"inside\",\"values\":[0.0139,0.0189,0.0126,0.0101,0.0115,0.0108,0.0142,0.0101,0.0102,0.0145,0.0107,0.0129,0.5554],\"type\":\"pie\"}],                        {\"template\":{\"data\":{\"histogram2dcontour\":[{\"type\":\"histogram2dcontour\",\"colorbar\":{\"outlinewidth\":0,\"ticks\":\"\"},\"colorscale\":[[0.0,\"#0d0887\"],[0.1111111111111111,\"#46039f\"],[0.2222222222222222,\"#7201a8\"],[0.3333333333333333,\"#9c179e\"],[0.4444444444444444,\"#bd3786\"],[0.5555555555555556,\"#d8576b\"],[0.6666666666666666,\"#ed7953\"],[0.7777777777777778,\"#fb9f3a\"],[0.8888888888888888,\"#fdca26\"],[1.0,\"#f0f921\"]]}],\"choropleth\":[{\"type\":\"choropleth\",\"colorbar\":{\"outlinewidth\":0,\"ticks\":\"\"}}],\"histogram2d\":[{\"type\":\"histogram2d\",\"colorbar\":{\"outlinewidth\":0,\"ticks\":\"\"},\"colorscale\":[[0.0,\"#0d0887\"],[0.1111111111111111,\"#46039f\"],[0.2222222222222222,\"#7201a8\"],[0.3333333333333333,\"#9c179e\"],[0.4444444444444444,\"#bd3786\"],[0.5555555555555556,\"#d8576b\"],[0.6666666666666666,\"#ed7953\"],[0.7777777777777778,\"#fb9f3a\"],[0.8888888888888888,\"#fdca26\"],[1.0,\"#f0f921\"]]}],\"heatmap\":[{\"type\":\"heatmap\",\"colorbar\":{\"outlinewidth\":0,\"ticks\":\"\"},\"colorscale\":[[0.0,\"#0d0887\"],[0.1111111111111111,\"#46039f\"],[0.2222222222222222,\"#7201a8\"],[0.3333333333333333,\"#9c179e\"],[0.4444444444444444,\"#bd3786\"],[0.5555555555555556,\"#d8576b\"],[0.6666666666666666,\"#ed7953\"],[0.7777777777777778,\"#fb9f3a\"],[0.8888888888888888,\"#fdca26\"],[1.0,\"#f0f921\"]]}],\"heatmapgl\":[{\"type\":\"heatmapgl\",\"colorbar\":{\"outlinewidth\":0,\"ticks\":\"\"},\"colorscale\":[[0.0,\"#0d0887\"],[0.1111111111111111,\"#46039f\"],[0.2222222222222222,\"#7201a8\"],[0.3333333333333333,\"#9c179e\"],[0.4444444444444444,\"#bd3786\"],[0.5555555555555556,\"#d8576b\"],[0.6666666666666666,\"#ed7953\"],[0.7777777777777778,\"#fb9f3a\"],[0.8888888888888888,\"#fdca26\"],[1.0,\"#f0f921\"]]}],\"contourcarpet\":[{\"type\":\"contourcarpet\",\"colorbar\":{\"outlinewidth\":0,\"ticks\":\"\"}}],\"contour\":[{\"type\":\"contour\",\"colorbar\":{\"outlinewidth\":0,\"ticks\":\"\"},\"colorscale\":[[0.0,\"#0d0887\"],[0.1111111111111111,\"#46039f\"],[0.2222222222222222,\"#7201a8\"],[0.3333333333333333,\"#9c179e\"],[0.4444444444444444,\"#bd3786\"],[0.5555555555555556,\"#d8576b\"],[0.6666666666666666,\"#ed7953\"],[0.7777777777777778,\"#fb9f3a\"],[0.8888888888888888,\"#fdca26\"],[1.0,\"#f0f921\"]]}],\"surface\":[{\"type\":\"surface\",\"colorbar\":{\"outlinewidth\":0,\"ticks\":\"\"},\"colorscale\":[[0.0,\"#0d0887\"],[0.1111111111111111,\"#46039f\"],[0.2222222222222222,\"#7201a8\"],[0.3333333333333333,\"#9c179e\"],[0.4444444444444444,\"#bd3786\"],[0.5555555555555556,\"#d8576b\"],[0.6666666666666666,\"#ed7953\"],[0.7777777777777778,\"#fb9f3a\"],[0.8888888888888888,\"#fdca26\"],[1.0,\"#f0f921\"]]}],\"mesh3d\":[{\"type\":\"mesh3d\",\"colorbar\":{\"outlinewidth\":0,\"ticks\":\"\"}}],\"scatter\":[{\"marker\":{\"line\":{\"color\":\"#283442\"}},\"type\":\"scatter\"}],\"parcoords\":[{\"type\":\"parcoords\",\"line\":{\"colorbar\":{\"outlinewidth\":0,\"ticks\":\"\"}}}],\"scatterpolargl\":[{\"type\":\"scatterpolargl\",\"marker\":{\"colorbar\":{\"outlinewidth\":0,\"ticks\":\"\"}}}],\"bar\":[{\"error_x\":{\"color\":\"#f2f5fa\"},\"error_y\":{\"color\":\"#f2f5fa\"},\"marker\":{\"line\":{\"color\":\"rgb(17,17,17)\",\"width\":0.5},\"pattern\":{\"fillmode\":\"overlay\",\"size\":10,\"solidity\":0.2}},\"type\":\"bar\"}],\"scattergeo\":[{\"type\":\"scattergeo\",\"marker\":{\"colorbar\":{\"outlinewidth\":0,\"ticks\":\"\"}}}],\"scatterpolar\":[{\"type\":\"scatterpolar\",\"marker\":{\"colorbar\":{\"outlinewidth\":0,\"ticks\":\"\"}}}],\"histogram\":[{\"marker\":{\"pattern\":{\"fillmode\":\"overlay\",\"size\":10,\"solidity\":0.2}},\"type\":\"histogram\"}],\"scattergl\":[{\"marker\":{\"line\":{\"color\":\"#283442\"}},\"type\":\"scattergl\"}],\"scatter3d\":[{\"type\":\"scatter3d\",\"line\":{\"colorbar\":{\"outlinewidth\":0,\"ticks\":\"\"}},\"marker\":{\"colorbar\":{\"outlinewidth\":0,\"ticks\":\"\"}}}],\"scattermapbox\":[{\"type\":\"scattermapbox\",\"marker\":{\"colorbar\":{\"outlinewidth\":0,\"ticks\":\"\"}}}],\"scatterternary\":[{\"type\":\"scatterternary\",\"marker\":{\"colorbar\":{\"outlinewidth\":0,\"ticks\":\"\"}}}],\"scattercarpet\":[{\"type\":\"scattercarpet\",\"marker\":{\"colorbar\":{\"outlinewidth\":0,\"ticks\":\"\"}}}],\"carpet\":[{\"aaxis\":{\"endlinecolor\":\"#A2B1C6\",\"gridcolor\":\"#506784\",\"linecolor\":\"#506784\",\"minorgridcolor\":\"#506784\",\"startlinecolor\":\"#A2B1C6\"},\"baxis\":{\"endlinecolor\":\"#A2B1C6\",\"gridcolor\":\"#506784\",\"linecolor\":\"#506784\",\"minorgridcolor\":\"#506784\",\"startlinecolor\":\"#A2B1C6\"},\"type\":\"carpet\"}],\"table\":[{\"cells\":{\"fill\":{\"color\":\"#506784\"},\"line\":{\"color\":\"rgb(17,17,17)\"}},\"header\":{\"fill\":{\"color\":\"#2a3f5f\"},\"line\":{\"color\":\"rgb(17,17,17)\"}},\"type\":\"table\"}],\"barpolar\":[{\"marker\":{\"line\":{\"color\":\"rgb(17,17,17)\",\"width\":0.5},\"pattern\":{\"fillmode\":\"overlay\",\"size\":10,\"solidity\":0.2}},\"type\":\"barpolar\"}],\"pie\":[{\"automargin\":true,\"type\":\"pie\"}]},\"layout\":{\"autotypenumbers\":\"strict\",\"colorway\":[\"#636efa\",\"#EF553B\",\"#00cc96\",\"#ab63fa\",\"#FFA15A\",\"#19d3f3\",\"#FF6692\",\"#B6E880\",\"#FF97FF\",\"#FECB52\"],\"font\":{\"color\":\"#f2f5fa\"},\"hovermode\":\"closest\",\"hoverlabel\":{\"align\":\"left\"},\"paper_bgcolor\":\"rgb(17,17,17)\",\"plot_bgcolor\":\"rgb(17,17,17)\",\"polar\":{\"bgcolor\":\"rgb(17,17,17)\",\"angularaxis\":{\"gridcolor\":\"#506784\",\"linecolor\":\"#506784\",\"ticks\":\"\"},\"radialaxis\":{\"gridcolor\":\"#506784\",\"linecolor\":\"#506784\",\"ticks\":\"\"}},\"ternary\":{\"bgcolor\":\"rgb(17,17,17)\",\"aaxis\":{\"gridcolor\":\"#506784\",\"linecolor\":\"#506784\",\"ticks\":\"\"},\"baxis\":{\"gridcolor\":\"#506784\",\"linecolor\":\"#506784\",\"ticks\":\"\"},\"caxis\":{\"gridcolor\":\"#506784\",\"linecolor\":\"#506784\",\"ticks\":\"\"}},\"coloraxis\":{\"colorbar\":{\"outlinewidth\":0,\"ticks\":\"\"}},\"colorscale\":{\"sequential\":[[0.0,\"#0d0887\"],[0.1111111111111111,\"#46039f\"],[0.2222222222222222,\"#7201a8\"],[0.3333333333333333,\"#9c179e\"],[0.4444444444444444,\"#bd3786\"],[0.5555555555555556,\"#d8576b\"],[0.6666666666666666,\"#ed7953\"],[0.7777777777777778,\"#fb9f3a\"],[0.8888888888888888,\"#fdca26\"],[1.0,\"#f0f921\"]],\"sequentialminus\":[[0.0,\"#0d0887\"],[0.1111111111111111,\"#46039f\"],[0.2222222222222222,\"#7201a8\"],[0.3333333333333333,\"#9c179e\"],[0.4444444444444444,\"#bd3786\"],[0.5555555555555556,\"#d8576b\"],[0.6666666666666666,\"#ed7953\"],[0.7777777777777778,\"#fb9f3a\"],[0.8888888888888888,\"#fdca26\"],[1.0,\"#f0f921\"]],\"diverging\":[[0,\"#8e0152\"],[0.1,\"#c51b7d\"],[0.2,\"#de77ae\"],[0.3,\"#f1b6da\"],[0.4,\"#fde0ef\"],[0.5,\"#f7f7f7\"],[0.6,\"#e6f5d0\"],[0.7,\"#b8e186\"],[0.8,\"#7fbc41\"],[0.9,\"#4d9221\"],[1,\"#276419\"]]},\"xaxis\":{\"gridcolor\":\"#283442\",\"linecolor\":\"#506784\",\"ticks\":\"\",\"title\":{\"standoff\":15},\"zerolinecolor\":\"#283442\",\"automargin\":true,\"zerolinewidth\":2},\"yaxis\":{\"gridcolor\":\"#283442\",\"linecolor\":\"#506784\",\"ticks\":\"\",\"title\":{\"standoff\":15},\"zerolinecolor\":\"#283442\",\"automargin\":true,\"zerolinewidth\":2},\"scene\":{\"xaxis\":{\"backgroundcolor\":\"rgb(17,17,17)\",\"gridcolor\":\"#506784\",\"linecolor\":\"#506784\",\"showbackground\":true,\"ticks\":\"\",\"zerolinecolor\":\"#C8D4E3\",\"gridwidth\":2},\"yaxis\":{\"backgroundcolor\":\"rgb(17,17,17)\",\"gridcolor\":\"#506784\",\"linecolor\":\"#506784\",\"showbackground\":true,\"ticks\":\"\",\"zerolinecolor\":\"#C8D4E3\",\"gridwidth\":2},\"zaxis\":{\"backgroundcolor\":\"rgb(17,17,17)\",\"gridcolor\":\"#506784\",\"linecolor\":\"#506784\",\"showbackground\":true,\"ticks\":\"\",\"zerolinecolor\":\"#C8D4E3\",\"gridwidth\":2}},\"shapedefaults\":{\"line\":{\"color\":\"#f2f5fa\"}},\"annotationdefaults\":{\"arrowcolor\":\"#f2f5fa\",\"arrowhead\":0,\"arrowwidth\":1},\"geo\":{\"bgcolor\":\"rgb(17,17,17)\",\"landcolor\":\"rgb(17,17,17)\",\"subunitcolor\":\"#506784\",\"showland\":true,\"showlakes\":true,\"lakecolor\":\"rgb(17,17,17)\"},\"title\":{\"x\":0.05},\"updatemenudefaults\":{\"bgcolor\":\"#506784\",\"borderwidth\":0},\"sliderdefaults\":{\"bgcolor\":\"#C8D4E3\",\"borderwidth\":1,\"bordercolor\":\"rgb(17,17,17)\",\"tickwidth\":0},\"mapbox\":{\"style\":\"dark\"}}},\"margin\":{\"l\":20,\"r\":20,\"t\":20,\"b\":20},\"font\":{\"color\":\"black\"},\"height\":600,\"width\":600,\"paper_bgcolor\":\"white\",\"plot_bgcolor\":\"white\",\"showlegend\":false},                        {\"responsive\": true}                    ).then(function(){\n",
       "                            \n",
       "var gd = document.getElementById('5d7e1188-540c-4487-9a97-050f1000f89e');\n",
       "var x = new MutationObserver(function (mutations, observer) {{\n",
       "        var display = window.getComputedStyle(gd).display;\n",
       "        if (!display || display === 'none') {{\n",
       "            console.log([gd, 'removed!']);\n",
       "            Plotly.purge(gd);\n",
       "            observer.disconnect();\n",
       "        }}\n",
       "}});\n",
       "\n",
       "// Listen for the removal of the full notebook cells\n",
       "var notebookContainer = gd.closest('#notebook-container');\n",
       "if (notebookContainer) {{\n",
       "    x.observe(notebookContainer, {childList: true});\n",
       "}}\n",
       "\n",
       "// Listen for the clearing of the current output cell\n",
       "var outputEl = gd.closest('.output');\n",
       "if (outputEl) {{\n",
       "    x.observe(outputEl, {childList: true});\n",
       "}}\n",
       "\n",
       "                        })                };                });            </script>        </div>"
      ]
     },
     "metadata": {},
     "output_type": "display_data"
    }
   ],
   "execution_count": 79
  },
  {
   "metadata": {},
   "cell_type": "markdown",
   "source": "#### Overview Table",
   "id": "92480eee8b184695"
  },
  {
   "metadata": {
    "ExecuteTime": {
     "end_time": "2025-06-15T20:59:55.306085Z",
     "start_time": "2025-06-15T20:59:55.278181Z"
    }
   },
   "cell_type": "code",
   "source": [
    "importlib.reload(mpt_utils)\n",
    "# Create overview\n",
    "mpt_utils.generate_overview_table(allocations_12m, mu_12m, S_12m, df_pct)"
   ],
   "id": "492409156d4d2ec5",
   "outputs": [
    {
     "data": {
      "text/plain": [
       "        Share Count  Average Covariance Average Returns Return Last 12 Months  \\\n",
       "ENPH              2            0.000236          -1.12%               -74.11%   \n",
       "PEN               1            0.000000           5.37%                10.43%   \n",
       "7575.T           17            0.000000          12.75%                19.33%   \n",
       "2491.T           16            0.000236          14.96%               -40.43%   \n",
       "SONO             11            0.000000          15.43%               -33.04%   \n",
       "...             ...                 ...             ...                   ...   \n",
       "3612.T            1            0.000000          13.86%                15.39%   \n",
       "4619.T            1            0.000000          14.09%                41.69%   \n",
       "9069.T            1            0.000000          15.48%                 6.97%   \n",
       "9831.T            2            0.000000          15.03%                 2.35%   \n",
       "7955.T            1            0.000000          14.75%                18.40%   \n",
       "\n",
       "       Return (Actual) Next 12 Months  \n",
       "ENPH                          -13.52%  \n",
       "PEN                           -16.55%  \n",
       "7575.T                          5.04%  \n",
       "2491.T                        -10.18%  \n",
       "SONO                          -11.84%  \n",
       "...                               ...  \n",
       "3612.T                         21.65%  \n",
       "4619.T                         -7.28%  \n",
       "9069.T                         19.62%  \n",
       "9831.T                         -0.04%  \n",
       "7955.T                          1.06%  \n",
       "\n",
       "[128 rows x 5 columns]"
      ],
      "text/html": [
       "<div>\n",
       "<style scoped>\n",
       "    .dataframe tbody tr th:only-of-type {\n",
       "        vertical-align: middle;\n",
       "    }\n",
       "\n",
       "    .dataframe tbody tr th {\n",
       "        vertical-align: top;\n",
       "    }\n",
       "\n",
       "    .dataframe thead th {\n",
       "        text-align: right;\n",
       "    }\n",
       "</style>\n",
       "<table border=\"1\" class=\"dataframe\">\n",
       "  <thead>\n",
       "    <tr style=\"text-align: right;\">\n",
       "      <th></th>\n",
       "      <th>Share Count</th>\n",
       "      <th>Average Covariance</th>\n",
       "      <th>Average Returns</th>\n",
       "      <th>Return Last 12 Months</th>\n",
       "      <th>Return (Actual) Next 12 Months</th>\n",
       "    </tr>\n",
       "  </thead>\n",
       "  <tbody>\n",
       "    <tr>\n",
       "      <th>ENPH</th>\n",
       "      <td>2</td>\n",
       "      <td>0.000236</td>\n",
       "      <td>-1.12%</td>\n",
       "      <td>-74.11%</td>\n",
       "      <td>-13.52%</td>\n",
       "    </tr>\n",
       "    <tr>\n",
       "      <th>PEN</th>\n",
       "      <td>1</td>\n",
       "      <td>0.000000</td>\n",
       "      <td>5.37%</td>\n",
       "      <td>10.43%</td>\n",
       "      <td>-16.55%</td>\n",
       "    </tr>\n",
       "    <tr>\n",
       "      <th>7575.T</th>\n",
       "      <td>17</td>\n",
       "      <td>0.000000</td>\n",
       "      <td>12.75%</td>\n",
       "      <td>19.33%</td>\n",
       "      <td>5.04%</td>\n",
       "    </tr>\n",
       "    <tr>\n",
       "      <th>2491.T</th>\n",
       "      <td>16</td>\n",
       "      <td>0.000236</td>\n",
       "      <td>14.96%</td>\n",
       "      <td>-40.43%</td>\n",
       "      <td>-10.18%</td>\n",
       "    </tr>\n",
       "    <tr>\n",
       "      <th>SONO</th>\n",
       "      <td>11</td>\n",
       "      <td>0.000000</td>\n",
       "      <td>15.43%</td>\n",
       "      <td>-33.04%</td>\n",
       "      <td>-11.84%</td>\n",
       "    </tr>\n",
       "    <tr>\n",
       "      <th>...</th>\n",
       "      <td>...</td>\n",
       "      <td>...</td>\n",
       "      <td>...</td>\n",
       "      <td>...</td>\n",
       "      <td>...</td>\n",
       "    </tr>\n",
       "    <tr>\n",
       "      <th>3612.T</th>\n",
       "      <td>1</td>\n",
       "      <td>0.000000</td>\n",
       "      <td>13.86%</td>\n",
       "      <td>15.39%</td>\n",
       "      <td>21.65%</td>\n",
       "    </tr>\n",
       "    <tr>\n",
       "      <th>4619.T</th>\n",
       "      <td>1</td>\n",
       "      <td>0.000000</td>\n",
       "      <td>14.09%</td>\n",
       "      <td>41.69%</td>\n",
       "      <td>-7.28%</td>\n",
       "    </tr>\n",
       "    <tr>\n",
       "      <th>9069.T</th>\n",
       "      <td>1</td>\n",
       "      <td>0.000000</td>\n",
       "      <td>15.48%</td>\n",
       "      <td>6.97%</td>\n",
       "      <td>19.62%</td>\n",
       "    </tr>\n",
       "    <tr>\n",
       "      <th>9831.T</th>\n",
       "      <td>2</td>\n",
       "      <td>0.000000</td>\n",
       "      <td>15.03%</td>\n",
       "      <td>2.35%</td>\n",
       "      <td>-0.04%</td>\n",
       "    </tr>\n",
       "    <tr>\n",
       "      <th>7955.T</th>\n",
       "      <td>1</td>\n",
       "      <td>0.000000</td>\n",
       "      <td>14.75%</td>\n",
       "      <td>18.40%</td>\n",
       "      <td>1.06%</td>\n",
       "    </tr>\n",
       "  </tbody>\n",
       "</table>\n",
       "<p>128 rows × 5 columns</p>\n",
       "</div>"
      ]
     },
     "execution_count": 71,
     "metadata": {},
     "output_type": "execute_result"
    }
   ],
   "execution_count": 71
  },
  {
   "metadata": {
    "ExecuteTime": {
     "end_time": "2025-06-15T20:59:55.464153Z",
     "start_time": "2025-06-15T20:59:55.462889Z"
    }
   },
   "cell_type": "code",
   "source": "",
   "id": "d1d279e2a4b2f883",
   "outputs": [],
   "execution_count": null
  }
 ],
 "metadata": {
  "kernelspec": {
   "display_name": "Python 3",
   "language": "python",
   "name": "python3"
  },
  "language_info": {
   "codemirror_mode": {
    "name": "ipython",
    "version": 2
   },
   "file_extension": ".py",
   "mimetype": "text/x-python",
   "name": "python",
   "nbconvert_exporter": "python",
   "pygments_lexer": "ipython2",
   "version": "2.7.6"
  }
 },
 "nbformat": 4,
 "nbformat_minor": 5
}
