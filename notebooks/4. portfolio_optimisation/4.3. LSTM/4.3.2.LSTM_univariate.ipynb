{
 "cells": [
  {
   "metadata": {
    "ExecuteTime": {
     "end_time": "2025-06-08T13:44:02.807916Z",
     "start_time": "2025-06-08T13:44:02.793708Z"
    }
   },
   "cell_type": "code",
   "source": [
    "import torch\n",
    "import torch.nn as nn\n",
    "import torch.optim as optim\n",
    "import pandas as pd\n",
    "#\n",
    "import importlib\n",
    "import utilities.lstm_utils as lstm_utils\n",
    "import utilities.mpt_utils as mpt_utils\n",
    "import utilities.variables as variables"
   ],
   "id": "9be531e52190f129",
   "outputs": [],
   "execution_count": 320
  },
  {
   "metadata": {
    "ExecuteTime": {
     "end_time": "2025-06-08T13:44:02.816679Z",
     "start_time": "2025-06-08T13:44:02.814332Z"
    }
   },
   "cell_type": "code",
   "source": [
    "# Set device (GPU if available)\n",
    "device = torch.device(\"cuda\" if torch.cuda.is_available() else \"cpu\")"
   ],
   "id": "6853a9962a424a1c",
   "outputs": [],
   "execution_count": 321
  },
  {
   "metadata": {},
   "cell_type": "markdown",
   "source": "## Preparing Data",
   "id": "fe8516df25855518"
  },
  {
   "metadata": {
    "ExecuteTime": {
     "end_time": "2025-06-08T13:44:03.010792Z",
     "start_time": "2025-06-08T13:44:02.888144Z"
    }
   },
   "cell_type": "code",
   "source": [
    "df = pd.read_csv('../../../data/df_monthly_prices_complete_euro.csv', index_col='Date')\n",
    "df_pct = pd.read_csv('../../../data/df_monthly_returns_complete.csv', index_col='Date')\n",
    "df_overview = pd.read_csv('../../../data/df_overview.csv', index_col=0)"
   ],
   "id": "4513018354bbc541",
   "outputs": [],
   "execution_count": 322
  },
  {
   "metadata": {},
   "cell_type": "markdown",
   "source": "## Normalisation",
   "id": "c64a95d1ae4bdac4"
  },
  {
   "metadata": {
    "ExecuteTime": {
     "end_time": "2025-06-08T13:44:03.069499Z",
     "start_time": "2025-06-08T13:44:03.066769Z"
    }
   },
   "cell_type": "code",
   "source": [
    "''' \n",
    "df_ts_torch = torch.from_numpy(df_time_series.values)\n",
    "# Reshape to (num_samples, num_features) for normalization\n",
    "df_ts_flat = df_ts_torch.view(-1, df_ts_torch.shape[-1])  # Shape: (1000*300, 5)\n",
    "\n",
    "# Calculate min and max per feature\n",
    "df_min = df_ts_flat.min(dim=0, keepdim=True)[0]\n",
    "df_max = df_ts_flat.max(dim=0, keepdim=True)[0]\n",
    "\n",
    "# Apply Min-Max normalization\n",
    "df_ts_normalised = (df_ts_flat - df_min) / (df_max - df_min)\n",
    "\n",
    "# Reshape back to original shape\n",
    "df_time_series_torch = df_ts_normalised.view(df_ts_torch.shape)\n",
    "'''\n"
   ],
   "id": "78b25301531f46d4",
   "outputs": [
    {
     "data": {
      "text/plain": [
       "' \\ndf_ts_torch = torch.from_numpy(df_time_series.values)\\n# Reshape to (num_samples, num_features) for normalization\\ndf_ts_flat = df_ts_torch.view(-1, df_ts_torch.shape[-1])  # Shape: (1000*300, 5)\\n\\n# Calculate min and max per feature\\ndf_min = df_ts_flat.min(dim=0, keepdim=True)[0]\\ndf_max = df_ts_flat.max(dim=0, keepdim=True)[0]\\n\\n# Apply Min-Max normalization\\ndf_ts_normalised = (df_ts_flat - df_min) / (df_max - df_min)\\n\\n# Reshape back to original shape\\ndf_time_series_torch = df_ts_normalised.view(df_ts_torch.shape)\\n'"
      ]
     },
     "execution_count": 323,
     "metadata": {},
     "output_type": "execute_result"
    }
   ],
   "execution_count": 323
  },
  {
   "metadata": {},
   "cell_type": "markdown",
   "source": "## LSTM Model",
   "id": "d5b44de5e3c4223c"
  },
  {
   "metadata": {
    "ExecuteTime": {
     "end_time": "2025-06-08T13:44:03.134354Z",
     "start_time": "2025-06-08T13:44:03.130753Z"
    }
   },
   "cell_type": "code",
   "source": [
    "# Define 4.3. LSTM model\n",
    "class LSTM_Uni_Model(nn.Module):\n",
    "    def __init__(self, input_size, hidden_size=128, num_layers=1, output_size=1, learning_rate=0.001, dropout=0.2): # , hidden_size=128\n",
    "        super(LSTM_Uni_Model, self).__init__()\n",
    "        self.hidden_size = hidden_size\n",
    "        # 4.3. LSTM for time-series data (stock returns)\n",
    "        self.lstm = nn.LSTM(input_size=input_size,\n",
    "                            hidden_size=hidden_size,\n",
    "                            # num_layers=num_layers,\n",
    "                            batch_first=True)\n",
    "\n",
    "        # FC layer for final prediction\n",
    "        self.fc_final = nn.Linear(hidden_size, 12)\n",
    "\n",
    "    def forward(self, ts_batch): # ts_batch (64, 1653, 10), static_data (64, 1653, 44)\n",
    "        # Time-Series Data\n",
    "        # Reshape dynamic data for 4.3. LSTM (requires time-step as 2nd dimension)\n",
    "        batch_size, num_stocks, sequence_length = ts_batch.shape[0], ts_batch.shape[1], ts_batch.shape[2]\n",
    "        ts_batch_reshaped = ts_batch.view(batch_size * num_stocks, sequence_length)\n",
    "        #\n",
    "        ts_output_1, (hidden, cell)  = self.lstm(ts_batch_reshaped) # ts_batch_reshaped\n",
    "\n",
    "        ts_output = ts_output_1.view(batch_size, num_stocks, self.hidden_size)\n",
    "        #\n",
    "        # ts_output_2 = self.fc_lstm(ts_output)\n",
    "        #fc_final = nn.Linear(sequence_length, 1)\n",
    "        # prediction =   # (64, 1653, 10)\n",
    "\n",
    "        return self.fc_final(ts_output)#.squeeze(-1) # ts_output_2"
   ],
   "id": "ff4cbc246759fc20",
   "outputs": [],
   "execution_count": 324
  },
  {
   "metadata": {},
   "cell_type": "markdown",
   "source": [
    "We use a 12 month lookback for the sequential data to predict the upcoming 12 months.\n",
    "\n",
    "After that, based on the currently predicted time-horizon, we get the respective sub-range, \n",
    "be it 1-month, 6-month or 12-month ahead."
   ],
   "id": "3f14312f686aafa8"
  },
  {
   "metadata": {
    "ExecuteTime": {
     "end_time": "2025-06-08T13:44:03.191007Z",
     "start_time": "2025-06-08T13:44:03.189200Z"
    }
   },
   "cell_type": "code",
   "source": [
    "# Set sequence length (12 months)\n",
    "in_seq_length = 12\n",
    "out_seq_length = 12\n",
    "#\n",
    "out_seq_length_1m = 1\n",
    "out_seq_length_6m = 6\n",
    "out_seq_length_12m = 12"
   ],
   "id": "4bb4ad974e9f4f73",
   "outputs": [],
   "execution_count": 325
  },
  {
   "metadata": {},
   "cell_type": "markdown",
   "source": "### LSTM Univariate",
   "id": "f3bf50fecdb9e99a"
  },
  {
   "metadata": {
    "ExecuteTime": {
     "end_time": "2025-06-08T13:44:03.260141Z",
     "start_time": "2025-06-08T13:44:03.256052Z"
    }
   },
   "cell_type": "code",
   "source": "df_to_evaluate = df_pct - 1",
   "id": "c6bc6e1efb7cf30b",
   "outputs": [],
   "execution_count": 326
  },
  {
   "metadata": {},
   "cell_type": "markdown",
   "source": "#### Train-Test Splits",
   "id": "6ce4ba4bb6d29a7d"
  },
  {
   "metadata": {},
   "cell_type": "markdown",
   "source": "Split the data into training and testing sets",
   "id": "ad62c65eeaec57a4"
  },
  {
   "metadata": {
    "ExecuteTime": {
     "end_time": "2025-06-08T13:44:04.411550Z",
     "start_time": "2025-06-08T13:44:03.329118Z"
    }
   },
   "cell_type": "code",
   "source": [
    "importlib.reload(lstm_utils)\n",
    "\n",
    "# Set sequence length (e.g., 12 time points)\n",
    "X_train, X_test, y_train, y_test = lstm_utils.split_train_test(df_to_evaluate, [], in_seq_length=in_seq_length, out_seq_length=out_seq_length)\n",
    "\n",
    "# Check the shapes of the training and test data\n",
    "print(\"Shape of X_train:\", X_train.shape)\n",
    "print(\"Shape of y_train:\", y_train.shape)\n",
    "print(\"Shape of X_test:\", X_test.shape)\n",
    "print(\"Shape of y_test:\", y_test.shape)"
   ],
   "id": "a758546911c3a7a7",
   "outputs": [
    {
     "name": "stdout",
     "output_type": "stream",
     "text": [
      "Shape of X_train: torch.Size([227, 1653, 12])\n",
      "Shape of y_train: torch.Size([227, 1653, 12])\n",
      "Shape of X_test: torch.Size([48, 1653, 12])\n",
      "Shape of y_test: torch.Size([48, 1653, 12])\n"
     ]
    }
   ],
   "execution_count": 327
  },
  {
   "metadata": {},
   "cell_type": "markdown",
   "source": "### Model Training",
   "id": "7173f848c5f8057e"
  },
  {
   "metadata": {
    "ExecuteTime": {
     "end_time": "2025-06-08T13:45:16.761382Z",
     "start_time": "2025-06-08T13:44:04.480612Z"
    }
   },
   "cell_type": "code",
   "source": [
    "# Model, Loss, Optimizer\n",
    "model = LSTM_Uni_Model(input_size=in_seq_length, output_size=out_seq_length).to(device)\n",
    "criterion = nn.MSELoss()  # Mean Squared Error for regression\n",
    "optimizer = optim.Adam(model.parameters(), lr=0.001)\n",
    "\n",
    "importlib.reload(lstm_utils)\n",
    "#\n",
    "model, y_train_pred, y_test_pred = lstm_utils.lstm_train_validate(model, optimizer, X_train, X_test, y_train, y_test)"
   ],
   "id": "fe9300ce5450c4bf",
   "outputs": [
    {
     "name": "stdout",
     "output_type": "stream",
     "text": [
      "Epoch 1/1, Loss: 31.5989, Train RMSE: 5.9693, Test RMSE: 0.2867. \n",
      "Model training complete and saved.\n"
     ]
    }
   ],
   "execution_count": 328
  },
  {
   "metadata": {},
   "cell_type": "markdown",
   "source": "### LSTM Univariate - 1 Month",
   "id": "d5318687c5affaa7"
  },
  {
   "metadata": {},
   "cell_type": "markdown",
   "source": [
    "Get the known data (train data).\n",
    "After that, get the first predicted month, or the first predicted sequence of test data"
   ],
   "id": "258c27b9defb7c70"
  },
  {
   "metadata": {
    "ExecuteTime": {
     "end_time": "2025-06-08T13:55:28.811946Z",
     "start_time": "2025-06-08T13:55:28.800418Z"
    }
   },
   "cell_type": "code",
   "source": [
    "# 1 month\n",
    "df_train = X_train[:, :, -1].clone()\n",
    "y_test_pred_1m = y_test_pred[0,:,:].T[0:0] # y_test_pred[:,:,0][0] \n",
    "y_test_pred_1m"
   ],
   "id": "4e354978addc055d",
   "outputs": [
    {
     "data": {
      "text/plain": [
       "tensor([], size=(0, 1653))"
      ]
     },
     "execution_count": 364,
     "metadata": {},
     "output_type": "execute_result"
    }
   ],
   "execution_count": 364
  },
  {
   "metadata": {
    "ExecuteTime": {
     "end_time": "2025-06-08T13:55:28.897373Z",
     "start_time": "2025-06-08T13:55:28.894333Z"
    }
   },
   "cell_type": "code",
   "source": "#len(y_test_pred_1m)",
   "id": "40b5aa962386dc54",
   "outputs": [],
   "execution_count": 365
  },
  {
   "metadata": {
    "ExecuteTime": {
     "end_time": "2025-06-08T13:55:28.925186Z",
     "start_time": "2025-06-08T13:55:28.906148Z"
    }
   },
   "cell_type": "code",
   "source": [
    "df_forecast_1m = pd.DataFrame(df_train.clone())\n",
    "df_forecast_1m = pd.concat([df_forecast_1m, pd.DataFrame(y_test_pred_1m)], ignore_index=True)\n",
    "# Assign back columns and indices to make human understandable\n",
    "df_forecast_1m.columns = df.columns\n",
    "df_forecast_1m.index = df_pct[(in_seq_length - 1) : len(df_forecast_1m) + (in_seq_length - 1)].index\n",
    "#\n",
    "df_forecast_1m = df_forecast_1m.tail(variables.TEST_YEARS_NR * 12) \n",
    "#\n",
    "df_forecast_1m.tail(3)"
   ],
   "id": "1b9c596330067ac4",
   "outputs": [
    {
     "data": {
      "text/plain": [
       "            RS1.L    KE  TEG.DE  LEG.DE   SCS   HNI   AVT  ACCO  VNA.DE  \\\n",
       "Date                                                                      \n",
       "2019-06-01   0.04  0.14    0.00   -0.04  0.07  0.08  0.11  0.08   -0.08   \n",
       "2019-07-01  -0.02 -0.02    0.05    0.06  0.00 -0.03  0.01  0.24    0.05   \n",
       "2019-08-01  -0.05 -0.17   -0.01    0.02 -0.08 -0.09 -0.08 -0.05    0.02   \n",
       "\n",
       "            7912.T  ...  DEQ.DE  KIDS  HALO  MATW  9842.T  KVHI  MOON.L   NEO  \\\n",
       "Date                ...                                                         \n",
       "2019-06-01   -0.03  ...   -0.09  0.00  0.16  0.03   -0.01  0.17    0.00  0.01   \n",
       "2019-07-01    0.00  ...    0.07 -0.09 -0.01 -0.02    0.00 -0.07    0.00  0.11   \n",
       "2019-08-01    0.00  ...   -0.04 -0.09 -0.03 -0.14   -0.09 -0.08   -0.01  0.03   \n",
       "\n",
       "            6055.T   UNP  \n",
       "Date                      \n",
       "2019-06-01    0.12  0.02  \n",
       "2019-07-01   -0.07  0.06  \n",
       "2019-08-01   -0.24 -0.10  \n",
       "\n",
       "[3 rows x 1653 columns]"
      ],
      "text/html": [
       "<div>\n",
       "<style scoped>\n",
       "    .dataframe tbody tr th:only-of-type {\n",
       "        vertical-align: middle;\n",
       "    }\n",
       "\n",
       "    .dataframe tbody tr th {\n",
       "        vertical-align: top;\n",
       "    }\n",
       "\n",
       "    .dataframe thead th {\n",
       "        text-align: right;\n",
       "    }\n",
       "</style>\n",
       "<table border=\"1\" class=\"dataframe\">\n",
       "  <thead>\n",
       "    <tr style=\"text-align: right;\">\n",
       "      <th></th>\n",
       "      <th>RS1.L</th>\n",
       "      <th>KE</th>\n",
       "      <th>TEG.DE</th>\n",
       "      <th>LEG.DE</th>\n",
       "      <th>SCS</th>\n",
       "      <th>HNI</th>\n",
       "      <th>AVT</th>\n",
       "      <th>ACCO</th>\n",
       "      <th>VNA.DE</th>\n",
       "      <th>7912.T</th>\n",
       "      <th>...</th>\n",
       "      <th>DEQ.DE</th>\n",
       "      <th>KIDS</th>\n",
       "      <th>HALO</th>\n",
       "      <th>MATW</th>\n",
       "      <th>9842.T</th>\n",
       "      <th>KVHI</th>\n",
       "      <th>MOON.L</th>\n",
       "      <th>NEO</th>\n",
       "      <th>6055.T</th>\n",
       "      <th>UNP</th>\n",
       "    </tr>\n",
       "    <tr>\n",
       "      <th>Date</th>\n",
       "      <th></th>\n",
       "      <th></th>\n",
       "      <th></th>\n",
       "      <th></th>\n",
       "      <th></th>\n",
       "      <th></th>\n",
       "      <th></th>\n",
       "      <th></th>\n",
       "      <th></th>\n",
       "      <th></th>\n",
       "      <th></th>\n",
       "      <th></th>\n",
       "      <th></th>\n",
       "      <th></th>\n",
       "      <th></th>\n",
       "      <th></th>\n",
       "      <th></th>\n",
       "      <th></th>\n",
       "      <th></th>\n",
       "      <th></th>\n",
       "      <th></th>\n",
       "    </tr>\n",
       "  </thead>\n",
       "  <tbody>\n",
       "    <tr>\n",
       "      <th>2019-06-01</th>\n",
       "      <td>0.04</td>\n",
       "      <td>0.14</td>\n",
       "      <td>0.00</td>\n",
       "      <td>-0.04</td>\n",
       "      <td>0.07</td>\n",
       "      <td>0.08</td>\n",
       "      <td>0.11</td>\n",
       "      <td>0.08</td>\n",
       "      <td>-0.08</td>\n",
       "      <td>-0.03</td>\n",
       "      <td>...</td>\n",
       "      <td>-0.09</td>\n",
       "      <td>0.00</td>\n",
       "      <td>0.16</td>\n",
       "      <td>0.03</td>\n",
       "      <td>-0.01</td>\n",
       "      <td>0.17</td>\n",
       "      <td>0.00</td>\n",
       "      <td>0.01</td>\n",
       "      <td>0.12</td>\n",
       "      <td>0.02</td>\n",
       "    </tr>\n",
       "    <tr>\n",
       "      <th>2019-07-01</th>\n",
       "      <td>-0.02</td>\n",
       "      <td>-0.02</td>\n",
       "      <td>0.05</td>\n",
       "      <td>0.06</td>\n",
       "      <td>0.00</td>\n",
       "      <td>-0.03</td>\n",
       "      <td>0.01</td>\n",
       "      <td>0.24</td>\n",
       "      <td>0.05</td>\n",
       "      <td>0.00</td>\n",
       "      <td>...</td>\n",
       "      <td>0.07</td>\n",
       "      <td>-0.09</td>\n",
       "      <td>-0.01</td>\n",
       "      <td>-0.02</td>\n",
       "      <td>0.00</td>\n",
       "      <td>-0.07</td>\n",
       "      <td>0.00</td>\n",
       "      <td>0.11</td>\n",
       "      <td>-0.07</td>\n",
       "      <td>0.06</td>\n",
       "    </tr>\n",
       "    <tr>\n",
       "      <th>2019-08-01</th>\n",
       "      <td>-0.05</td>\n",
       "      <td>-0.17</td>\n",
       "      <td>-0.01</td>\n",
       "      <td>0.02</td>\n",
       "      <td>-0.08</td>\n",
       "      <td>-0.09</td>\n",
       "      <td>-0.08</td>\n",
       "      <td>-0.05</td>\n",
       "      <td>0.02</td>\n",
       "      <td>0.00</td>\n",
       "      <td>...</td>\n",
       "      <td>-0.04</td>\n",
       "      <td>-0.09</td>\n",
       "      <td>-0.03</td>\n",
       "      <td>-0.14</td>\n",
       "      <td>-0.09</td>\n",
       "      <td>-0.08</td>\n",
       "      <td>-0.01</td>\n",
       "      <td>0.03</td>\n",
       "      <td>-0.24</td>\n",
       "      <td>-0.10</td>\n",
       "    </tr>\n",
       "  </tbody>\n",
       "</table>\n",
       "<p>3 rows × 1653 columns</p>\n",
       "</div>"
      ]
     },
     "execution_count": 366,
     "metadata": {},
     "output_type": "execute_result"
    }
   ],
   "execution_count": 366
  },
  {
   "metadata": {
    "ExecuteTime": {
     "end_time": "2025-06-08T13:55:38.348707Z",
     "start_time": "2025-06-08T13:55:29.108790Z"
    }
   },
   "cell_type": "code",
   "source": [
    "importlib.reload(lstm_utils)\n",
    "importlib.reload(mpt_utils)\n",
    "\n",
    "weights_1m, mu_1m, S_1m, weights_all_1m = mpt_utils.portfolio_and_plot(df_forecast_1m, df)"
   ],
   "id": "27ab10ee985db539",
   "outputs": [
    {
     "name": "stdout",
     "output_type": "stream",
     "text": [
      "Expected annual return: 33.1%\n",
      "Annual volatility: 21.6%\n",
      "Sharpe Ratio: 1.44\n",
      "-- Allocation --\n",
      "{'7575.T': 1, 'MKTX': 1, 'SLP': 1, 'SRT3.DE': 1, 'BURL': 1, '4816.T': 5, 'PAR': 1, '2685.T': 4, 'TAL': 1, 'TPE.DE': 2, 'ADUS': 1, 'MRL.L': 1, '2471.T': 1, 'CENT': 2, 'AOF.DE': 1, 'NSSC': 1, 'FLGT': 4, '2733.T': 2, '9697.T': 5, '7458.T': 2, '4549.T': 3, '7947.T': 1, 'ITI': 3, '7508.T': 2, 'MPX': 2, '2124.T': 5, 'BVB.DE': 2, 'FRPH': 1, '3050.T': 4, '3659.T': 1, '7832.T': 1, 'APLD': 7, '4218.T': 1, '7906.T': 3, 'EBF': 1, '8141.T': 2, '9143.T': 3, '3635.T': 2, '2874.T': 3, '2170.T': 2, '2331.T': 1, '9470.T': 1, '8282.T': 1, '7944.T': 14, 'O5G.DE': 7}\n",
      "-- Weights Percentage --\n",
      "{'MKTX': 0.0485, 'MRL.L': 0.0372, 'CENT': 0.0355, 'NSSC': 0.0325, 'BURL': 0.0468, 'TPE.DE': 0.0399, 'SRT3.DE': 0.0474, 'PAR': 0.0446, 'AOF.DE': 0.035, 'SLP': 0.0474, '4816.T': 0.0449, '7575.T': 0.0578, 'TAL': 0.0421, 'FLGT': 0.0248, 'ADUS': 0.0372, '2685.T': 0.0427, '2471.T': 0.0355, 'Other(28)': 0.3004}\n"
     ]
    },
    {
     "name": "stderr",
     "output_type": "stream",
     "text": [
      "/Users/herbishtini/anaconda3/envs/portfolio_optimisation/lib/python3.11/site-packages/pypfopt/discrete_allocation.py:27: FutureWarning:\n",
      "\n",
      "Downcasting object dtype arrays on .fillna, .ffill, .bfill is deprecated and will change in a future version. Call result.infer_objects(copy=False) instead. To opt-in to the future behavior, set `pd.set_option('future.no_silent_downcasting', True)`\n",
      "\n"
     ]
    },
    {
     "data": {
      "application/vnd.plotly.v1+json": {
       "data": [
        {
         "hole": 0.3,
         "insidetextorientation": "radial",
         "labels": [
          "MKTX",
          "MRL.L",
          "CENT",
          "NSSC",
          "BURL",
          "TPE.DE",
          "SRT3.DE",
          "PAR",
          "AOF.DE",
          "SLP",
          "4816.T",
          "7575.T",
          "TAL",
          "FLGT",
          "ADUS",
          "2685.T",
          "2471.T",
          "Other(28)"
         ],
         "textinfo": "label+percent",
         "textposition": "inside",
         "values": [
          0.0176,
          0.0135,
          0.0129,
          0.0118,
          0.017,
          0.0145,
          0.0172,
          0.0162,
          0.0127,
          0.0172,
          0.0163,
          0.021,
          0.0153,
          0.009,
          0.0135,
          0.0155,
          0.0129,
          0.1091
         ],
         "type": "pie"
        }
       ],
       "layout": {
        "template": {
         "data": {
          "histogram2dcontour": [
           {
            "type": "histogram2dcontour",
            "colorbar": {
             "outlinewidth": 0,
             "ticks": ""
            },
            "colorscale": [
             [
              0.0,
              "#0d0887"
             ],
             [
              0.1111111111111111,
              "#46039f"
             ],
             [
              0.2222222222222222,
              "#7201a8"
             ],
             [
              0.3333333333333333,
              "#9c179e"
             ],
             [
              0.4444444444444444,
              "#bd3786"
             ],
             [
              0.5555555555555556,
              "#d8576b"
             ],
             [
              0.6666666666666666,
              "#ed7953"
             ],
             [
              0.7777777777777778,
              "#fb9f3a"
             ],
             [
              0.8888888888888888,
              "#fdca26"
             ],
             [
              1.0,
              "#f0f921"
             ]
            ]
           }
          ],
          "choropleth": [
           {
            "type": "choropleth",
            "colorbar": {
             "outlinewidth": 0,
             "ticks": ""
            }
           }
          ],
          "histogram2d": [
           {
            "type": "histogram2d",
            "colorbar": {
             "outlinewidth": 0,
             "ticks": ""
            },
            "colorscale": [
             [
              0.0,
              "#0d0887"
             ],
             [
              0.1111111111111111,
              "#46039f"
             ],
             [
              0.2222222222222222,
              "#7201a8"
             ],
             [
              0.3333333333333333,
              "#9c179e"
             ],
             [
              0.4444444444444444,
              "#bd3786"
             ],
             [
              0.5555555555555556,
              "#d8576b"
             ],
             [
              0.6666666666666666,
              "#ed7953"
             ],
             [
              0.7777777777777778,
              "#fb9f3a"
             ],
             [
              0.8888888888888888,
              "#fdca26"
             ],
             [
              1.0,
              "#f0f921"
             ]
            ]
           }
          ],
          "heatmap": [
           {
            "type": "heatmap",
            "colorbar": {
             "outlinewidth": 0,
             "ticks": ""
            },
            "colorscale": [
             [
              0.0,
              "#0d0887"
             ],
             [
              0.1111111111111111,
              "#46039f"
             ],
             [
              0.2222222222222222,
              "#7201a8"
             ],
             [
              0.3333333333333333,
              "#9c179e"
             ],
             [
              0.4444444444444444,
              "#bd3786"
             ],
             [
              0.5555555555555556,
              "#d8576b"
             ],
             [
              0.6666666666666666,
              "#ed7953"
             ],
             [
              0.7777777777777778,
              "#fb9f3a"
             ],
             [
              0.8888888888888888,
              "#fdca26"
             ],
             [
              1.0,
              "#f0f921"
             ]
            ]
           }
          ],
          "heatmapgl": [
           {
            "type": "heatmapgl",
            "colorbar": {
             "outlinewidth": 0,
             "ticks": ""
            },
            "colorscale": [
             [
              0.0,
              "#0d0887"
             ],
             [
              0.1111111111111111,
              "#46039f"
             ],
             [
              0.2222222222222222,
              "#7201a8"
             ],
             [
              0.3333333333333333,
              "#9c179e"
             ],
             [
              0.4444444444444444,
              "#bd3786"
             ],
             [
              0.5555555555555556,
              "#d8576b"
             ],
             [
              0.6666666666666666,
              "#ed7953"
             ],
             [
              0.7777777777777778,
              "#fb9f3a"
             ],
             [
              0.8888888888888888,
              "#fdca26"
             ],
             [
              1.0,
              "#f0f921"
             ]
            ]
           }
          ],
          "contourcarpet": [
           {
            "type": "contourcarpet",
            "colorbar": {
             "outlinewidth": 0,
             "ticks": ""
            }
           }
          ],
          "contour": [
           {
            "type": "contour",
            "colorbar": {
             "outlinewidth": 0,
             "ticks": ""
            },
            "colorscale": [
             [
              0.0,
              "#0d0887"
             ],
             [
              0.1111111111111111,
              "#46039f"
             ],
             [
              0.2222222222222222,
              "#7201a8"
             ],
             [
              0.3333333333333333,
              "#9c179e"
             ],
             [
              0.4444444444444444,
              "#bd3786"
             ],
             [
              0.5555555555555556,
              "#d8576b"
             ],
             [
              0.6666666666666666,
              "#ed7953"
             ],
             [
              0.7777777777777778,
              "#fb9f3a"
             ],
             [
              0.8888888888888888,
              "#fdca26"
             ],
             [
              1.0,
              "#f0f921"
             ]
            ]
           }
          ],
          "surface": [
           {
            "type": "surface",
            "colorbar": {
             "outlinewidth": 0,
             "ticks": ""
            },
            "colorscale": [
             [
              0.0,
              "#0d0887"
             ],
             [
              0.1111111111111111,
              "#46039f"
             ],
             [
              0.2222222222222222,
              "#7201a8"
             ],
             [
              0.3333333333333333,
              "#9c179e"
             ],
             [
              0.4444444444444444,
              "#bd3786"
             ],
             [
              0.5555555555555556,
              "#d8576b"
             ],
             [
              0.6666666666666666,
              "#ed7953"
             ],
             [
              0.7777777777777778,
              "#fb9f3a"
             ],
             [
              0.8888888888888888,
              "#fdca26"
             ],
             [
              1.0,
              "#f0f921"
             ]
            ]
           }
          ],
          "mesh3d": [
           {
            "type": "mesh3d",
            "colorbar": {
             "outlinewidth": 0,
             "ticks": ""
            }
           }
          ],
          "scatter": [
           {
            "marker": {
             "line": {
              "color": "#283442"
             }
            },
            "type": "scatter"
           }
          ],
          "parcoords": [
           {
            "type": "parcoords",
            "line": {
             "colorbar": {
              "outlinewidth": 0,
              "ticks": ""
             }
            }
           }
          ],
          "scatterpolargl": [
           {
            "type": "scatterpolargl",
            "marker": {
             "colorbar": {
              "outlinewidth": 0,
              "ticks": ""
             }
            }
           }
          ],
          "bar": [
           {
            "error_x": {
             "color": "#f2f5fa"
            },
            "error_y": {
             "color": "#f2f5fa"
            },
            "marker": {
             "line": {
              "color": "rgb(17,17,17)",
              "width": 0.5
             },
             "pattern": {
              "fillmode": "overlay",
              "size": 10,
              "solidity": 0.2
             }
            },
            "type": "bar"
           }
          ],
          "scattergeo": [
           {
            "type": "scattergeo",
            "marker": {
             "colorbar": {
              "outlinewidth": 0,
              "ticks": ""
             }
            }
           }
          ],
          "scatterpolar": [
           {
            "type": "scatterpolar",
            "marker": {
             "colorbar": {
              "outlinewidth": 0,
              "ticks": ""
             }
            }
           }
          ],
          "histogram": [
           {
            "marker": {
             "pattern": {
              "fillmode": "overlay",
              "size": 10,
              "solidity": 0.2
             }
            },
            "type": "histogram"
           }
          ],
          "scattergl": [
           {
            "marker": {
             "line": {
              "color": "#283442"
             }
            },
            "type": "scattergl"
           }
          ],
          "scatter3d": [
           {
            "type": "scatter3d",
            "line": {
             "colorbar": {
              "outlinewidth": 0,
              "ticks": ""
             }
            },
            "marker": {
             "colorbar": {
              "outlinewidth": 0,
              "ticks": ""
             }
            }
           }
          ],
          "scattermapbox": [
           {
            "type": "scattermapbox",
            "marker": {
             "colorbar": {
              "outlinewidth": 0,
              "ticks": ""
             }
            }
           }
          ],
          "scatterternary": [
           {
            "type": "scatterternary",
            "marker": {
             "colorbar": {
              "outlinewidth": 0,
              "ticks": ""
             }
            }
           }
          ],
          "scattercarpet": [
           {
            "type": "scattercarpet",
            "marker": {
             "colorbar": {
              "outlinewidth": 0,
              "ticks": ""
             }
            }
           }
          ],
          "carpet": [
           {
            "aaxis": {
             "endlinecolor": "#A2B1C6",
             "gridcolor": "#506784",
             "linecolor": "#506784",
             "minorgridcolor": "#506784",
             "startlinecolor": "#A2B1C6"
            },
            "baxis": {
             "endlinecolor": "#A2B1C6",
             "gridcolor": "#506784",
             "linecolor": "#506784",
             "minorgridcolor": "#506784",
             "startlinecolor": "#A2B1C6"
            },
            "type": "carpet"
           }
          ],
          "table": [
           {
            "cells": {
             "fill": {
              "color": "#506784"
             },
             "line": {
              "color": "rgb(17,17,17)"
             }
            },
            "header": {
             "fill": {
              "color": "#2a3f5f"
             },
             "line": {
              "color": "rgb(17,17,17)"
             }
            },
            "type": "table"
           }
          ],
          "barpolar": [
           {
            "marker": {
             "line": {
              "color": "rgb(17,17,17)",
              "width": 0.5
             },
             "pattern": {
              "fillmode": "overlay",
              "size": 10,
              "solidity": 0.2
             }
            },
            "type": "barpolar"
           }
          ],
          "pie": [
           {
            "automargin": true,
            "type": "pie"
           }
          ]
         },
         "layout": {
          "autotypenumbers": "strict",
          "colorway": [
           "#636efa",
           "#EF553B",
           "#00cc96",
           "#ab63fa",
           "#FFA15A",
           "#19d3f3",
           "#FF6692",
           "#B6E880",
           "#FF97FF",
           "#FECB52"
          ],
          "font": {
           "color": "#f2f5fa"
          },
          "hovermode": "closest",
          "hoverlabel": {
           "align": "left"
          },
          "paper_bgcolor": "rgb(17,17,17)",
          "plot_bgcolor": "rgb(17,17,17)",
          "polar": {
           "bgcolor": "rgb(17,17,17)",
           "angularaxis": {
            "gridcolor": "#506784",
            "linecolor": "#506784",
            "ticks": ""
           },
           "radialaxis": {
            "gridcolor": "#506784",
            "linecolor": "#506784",
            "ticks": ""
           }
          },
          "ternary": {
           "bgcolor": "rgb(17,17,17)",
           "aaxis": {
            "gridcolor": "#506784",
            "linecolor": "#506784",
            "ticks": ""
           },
           "baxis": {
            "gridcolor": "#506784",
            "linecolor": "#506784",
            "ticks": ""
           },
           "caxis": {
            "gridcolor": "#506784",
            "linecolor": "#506784",
            "ticks": ""
           }
          },
          "coloraxis": {
           "colorbar": {
            "outlinewidth": 0,
            "ticks": ""
           }
          },
          "colorscale": {
           "sequential": [
            [
             0.0,
             "#0d0887"
            ],
            [
             0.1111111111111111,
             "#46039f"
            ],
            [
             0.2222222222222222,
             "#7201a8"
            ],
            [
             0.3333333333333333,
             "#9c179e"
            ],
            [
             0.4444444444444444,
             "#bd3786"
            ],
            [
             0.5555555555555556,
             "#d8576b"
            ],
            [
             0.6666666666666666,
             "#ed7953"
            ],
            [
             0.7777777777777778,
             "#fb9f3a"
            ],
            [
             0.8888888888888888,
             "#fdca26"
            ],
            [
             1.0,
             "#f0f921"
            ]
           ],
           "sequentialminus": [
            [
             0.0,
             "#0d0887"
            ],
            [
             0.1111111111111111,
             "#46039f"
            ],
            [
             0.2222222222222222,
             "#7201a8"
            ],
            [
             0.3333333333333333,
             "#9c179e"
            ],
            [
             0.4444444444444444,
             "#bd3786"
            ],
            [
             0.5555555555555556,
             "#d8576b"
            ],
            [
             0.6666666666666666,
             "#ed7953"
            ],
            [
             0.7777777777777778,
             "#fb9f3a"
            ],
            [
             0.8888888888888888,
             "#fdca26"
            ],
            [
             1.0,
             "#f0f921"
            ]
           ],
           "diverging": [
            [
             0,
             "#8e0152"
            ],
            [
             0.1,
             "#c51b7d"
            ],
            [
             0.2,
             "#de77ae"
            ],
            [
             0.3,
             "#f1b6da"
            ],
            [
             0.4,
             "#fde0ef"
            ],
            [
             0.5,
             "#f7f7f7"
            ],
            [
             0.6,
             "#e6f5d0"
            ],
            [
             0.7,
             "#b8e186"
            ],
            [
             0.8,
             "#7fbc41"
            ],
            [
             0.9,
             "#4d9221"
            ],
            [
             1,
             "#276419"
            ]
           ]
          },
          "xaxis": {
           "gridcolor": "#283442",
           "linecolor": "#506784",
           "ticks": "",
           "title": {
            "standoff": 15
           },
           "zerolinecolor": "#283442",
           "automargin": true,
           "zerolinewidth": 2
          },
          "yaxis": {
           "gridcolor": "#283442",
           "linecolor": "#506784",
           "ticks": "",
           "title": {
            "standoff": 15
           },
           "zerolinecolor": "#283442",
           "automargin": true,
           "zerolinewidth": 2
          },
          "scene": {
           "xaxis": {
            "backgroundcolor": "rgb(17,17,17)",
            "gridcolor": "#506784",
            "linecolor": "#506784",
            "showbackground": true,
            "ticks": "",
            "zerolinecolor": "#C8D4E3",
            "gridwidth": 2
           },
           "yaxis": {
            "backgroundcolor": "rgb(17,17,17)",
            "gridcolor": "#506784",
            "linecolor": "#506784",
            "showbackground": true,
            "ticks": "",
            "zerolinecolor": "#C8D4E3",
            "gridwidth": 2
           },
           "zaxis": {
            "backgroundcolor": "rgb(17,17,17)",
            "gridcolor": "#506784",
            "linecolor": "#506784",
            "showbackground": true,
            "ticks": "",
            "zerolinecolor": "#C8D4E3",
            "gridwidth": 2
           }
          },
          "shapedefaults": {
           "line": {
            "color": "#f2f5fa"
           }
          },
          "annotationdefaults": {
           "arrowcolor": "#f2f5fa",
           "arrowhead": 0,
           "arrowwidth": 1
          },
          "geo": {
           "bgcolor": "rgb(17,17,17)",
           "landcolor": "rgb(17,17,17)",
           "subunitcolor": "#506784",
           "showland": true,
           "showlakes": true,
           "lakecolor": "rgb(17,17,17)"
          },
          "title": {
           "x": 0.05
          },
          "updatemenudefaults": {
           "bgcolor": "#506784",
           "borderwidth": 0
          },
          "sliderdefaults": {
           "bgcolor": "#C8D4E3",
           "borderwidth": 1,
           "bordercolor": "rgb(17,17,17)",
           "tickwidth": 0
          },
          "mapbox": {
           "style": "dark"
          }
         }
        },
        "margin": {
         "l": 20,
         "r": 20,
         "t": 20,
         "b": 20
        },
        "font": {
         "color": "black"
        },
        "height": 600,
        "width": 600,
        "paper_bgcolor": "white",
        "plot_bgcolor": "white",
        "showlegend": false
       },
       "config": {
        "plotlyServerURL": "https://plot.ly"
       }
      },
      "text/html": [
       "<div>                            <div id=\"674aebae-bcc7-4337-8332-427d8a978612\" class=\"plotly-graph-div\" style=\"height:600px; width:600px;\"></div>            <script type=\"text/javascript\">                require([\"plotly\"], function(Plotly) {                    window.PLOTLYENV=window.PLOTLYENV || {};                                    if (document.getElementById(\"674aebae-bcc7-4337-8332-427d8a978612\")) {                    Plotly.newPlot(                        \"674aebae-bcc7-4337-8332-427d8a978612\",                        [{\"hole\":0.3,\"insidetextorientation\":\"radial\",\"labels\":[\"MKTX\",\"MRL.L\",\"CENT\",\"NSSC\",\"BURL\",\"TPE.DE\",\"SRT3.DE\",\"PAR\",\"AOF.DE\",\"SLP\",\"4816.T\",\"7575.T\",\"TAL\",\"FLGT\",\"ADUS\",\"2685.T\",\"2471.T\",\"Other(28)\"],\"textinfo\":\"label+percent\",\"textposition\":\"inside\",\"values\":[0.0176,0.0135,0.0129,0.0118,0.017,0.0145,0.0172,0.0162,0.0127,0.0172,0.0163,0.021,0.0153,0.009,0.0135,0.0155,0.0129,0.1091],\"type\":\"pie\"}],                        {\"template\":{\"data\":{\"histogram2dcontour\":[{\"type\":\"histogram2dcontour\",\"colorbar\":{\"outlinewidth\":0,\"ticks\":\"\"},\"colorscale\":[[0.0,\"#0d0887\"],[0.1111111111111111,\"#46039f\"],[0.2222222222222222,\"#7201a8\"],[0.3333333333333333,\"#9c179e\"],[0.4444444444444444,\"#bd3786\"],[0.5555555555555556,\"#d8576b\"],[0.6666666666666666,\"#ed7953\"],[0.7777777777777778,\"#fb9f3a\"],[0.8888888888888888,\"#fdca26\"],[1.0,\"#f0f921\"]]}],\"choropleth\":[{\"type\":\"choropleth\",\"colorbar\":{\"outlinewidth\":0,\"ticks\":\"\"}}],\"histogram2d\":[{\"type\":\"histogram2d\",\"colorbar\":{\"outlinewidth\":0,\"ticks\":\"\"},\"colorscale\":[[0.0,\"#0d0887\"],[0.1111111111111111,\"#46039f\"],[0.2222222222222222,\"#7201a8\"],[0.3333333333333333,\"#9c179e\"],[0.4444444444444444,\"#bd3786\"],[0.5555555555555556,\"#d8576b\"],[0.6666666666666666,\"#ed7953\"],[0.7777777777777778,\"#fb9f3a\"],[0.8888888888888888,\"#fdca26\"],[1.0,\"#f0f921\"]]}],\"heatmap\":[{\"type\":\"heatmap\",\"colorbar\":{\"outlinewidth\":0,\"ticks\":\"\"},\"colorscale\":[[0.0,\"#0d0887\"],[0.1111111111111111,\"#46039f\"],[0.2222222222222222,\"#7201a8\"],[0.3333333333333333,\"#9c179e\"],[0.4444444444444444,\"#bd3786\"],[0.5555555555555556,\"#d8576b\"],[0.6666666666666666,\"#ed7953\"],[0.7777777777777778,\"#fb9f3a\"],[0.8888888888888888,\"#fdca26\"],[1.0,\"#f0f921\"]]}],\"heatmapgl\":[{\"type\":\"heatmapgl\",\"colorbar\":{\"outlinewidth\":0,\"ticks\":\"\"},\"colorscale\":[[0.0,\"#0d0887\"],[0.1111111111111111,\"#46039f\"],[0.2222222222222222,\"#7201a8\"],[0.3333333333333333,\"#9c179e\"],[0.4444444444444444,\"#bd3786\"],[0.5555555555555556,\"#d8576b\"],[0.6666666666666666,\"#ed7953\"],[0.7777777777777778,\"#fb9f3a\"],[0.8888888888888888,\"#fdca26\"],[1.0,\"#f0f921\"]]}],\"contourcarpet\":[{\"type\":\"contourcarpet\",\"colorbar\":{\"outlinewidth\":0,\"ticks\":\"\"}}],\"contour\":[{\"type\":\"contour\",\"colorbar\":{\"outlinewidth\":0,\"ticks\":\"\"},\"colorscale\":[[0.0,\"#0d0887\"],[0.1111111111111111,\"#46039f\"],[0.2222222222222222,\"#7201a8\"],[0.3333333333333333,\"#9c179e\"],[0.4444444444444444,\"#bd3786\"],[0.5555555555555556,\"#d8576b\"],[0.6666666666666666,\"#ed7953\"],[0.7777777777777778,\"#fb9f3a\"],[0.8888888888888888,\"#fdca26\"],[1.0,\"#f0f921\"]]}],\"surface\":[{\"type\":\"surface\",\"colorbar\":{\"outlinewidth\":0,\"ticks\":\"\"},\"colorscale\":[[0.0,\"#0d0887\"],[0.1111111111111111,\"#46039f\"],[0.2222222222222222,\"#7201a8\"],[0.3333333333333333,\"#9c179e\"],[0.4444444444444444,\"#bd3786\"],[0.5555555555555556,\"#d8576b\"],[0.6666666666666666,\"#ed7953\"],[0.7777777777777778,\"#fb9f3a\"],[0.8888888888888888,\"#fdca26\"],[1.0,\"#f0f921\"]]}],\"mesh3d\":[{\"type\":\"mesh3d\",\"colorbar\":{\"outlinewidth\":0,\"ticks\":\"\"}}],\"scatter\":[{\"marker\":{\"line\":{\"color\":\"#283442\"}},\"type\":\"scatter\"}],\"parcoords\":[{\"type\":\"parcoords\",\"line\":{\"colorbar\":{\"outlinewidth\":0,\"ticks\":\"\"}}}],\"scatterpolargl\":[{\"type\":\"scatterpolargl\",\"marker\":{\"colorbar\":{\"outlinewidth\":0,\"ticks\":\"\"}}}],\"bar\":[{\"error_x\":{\"color\":\"#f2f5fa\"},\"error_y\":{\"color\":\"#f2f5fa\"},\"marker\":{\"line\":{\"color\":\"rgb(17,17,17)\",\"width\":0.5},\"pattern\":{\"fillmode\":\"overlay\",\"size\":10,\"solidity\":0.2}},\"type\":\"bar\"}],\"scattergeo\":[{\"type\":\"scattergeo\",\"marker\":{\"colorbar\":{\"outlinewidth\":0,\"ticks\":\"\"}}}],\"scatterpolar\":[{\"type\":\"scatterpolar\",\"marker\":{\"colorbar\":{\"outlinewidth\":0,\"ticks\":\"\"}}}],\"histogram\":[{\"marker\":{\"pattern\":{\"fillmode\":\"overlay\",\"size\":10,\"solidity\":0.2}},\"type\":\"histogram\"}],\"scattergl\":[{\"marker\":{\"line\":{\"color\":\"#283442\"}},\"type\":\"scattergl\"}],\"scatter3d\":[{\"type\":\"scatter3d\",\"line\":{\"colorbar\":{\"outlinewidth\":0,\"ticks\":\"\"}},\"marker\":{\"colorbar\":{\"outlinewidth\":0,\"ticks\":\"\"}}}],\"scattermapbox\":[{\"type\":\"scattermapbox\",\"marker\":{\"colorbar\":{\"outlinewidth\":0,\"ticks\":\"\"}}}],\"scatterternary\":[{\"type\":\"scatterternary\",\"marker\":{\"colorbar\":{\"outlinewidth\":0,\"ticks\":\"\"}}}],\"scattercarpet\":[{\"type\":\"scattercarpet\",\"marker\":{\"colorbar\":{\"outlinewidth\":0,\"ticks\":\"\"}}}],\"carpet\":[{\"aaxis\":{\"endlinecolor\":\"#A2B1C6\",\"gridcolor\":\"#506784\",\"linecolor\":\"#506784\",\"minorgridcolor\":\"#506784\",\"startlinecolor\":\"#A2B1C6\"},\"baxis\":{\"endlinecolor\":\"#A2B1C6\",\"gridcolor\":\"#506784\",\"linecolor\":\"#506784\",\"minorgridcolor\":\"#506784\",\"startlinecolor\":\"#A2B1C6\"},\"type\":\"carpet\"}],\"table\":[{\"cells\":{\"fill\":{\"color\":\"#506784\"},\"line\":{\"color\":\"rgb(17,17,17)\"}},\"header\":{\"fill\":{\"color\":\"#2a3f5f\"},\"line\":{\"color\":\"rgb(17,17,17)\"}},\"type\":\"table\"}],\"barpolar\":[{\"marker\":{\"line\":{\"color\":\"rgb(17,17,17)\",\"width\":0.5},\"pattern\":{\"fillmode\":\"overlay\",\"size\":10,\"solidity\":0.2}},\"type\":\"barpolar\"}],\"pie\":[{\"automargin\":true,\"type\":\"pie\"}]},\"layout\":{\"autotypenumbers\":\"strict\",\"colorway\":[\"#636efa\",\"#EF553B\",\"#00cc96\",\"#ab63fa\",\"#FFA15A\",\"#19d3f3\",\"#FF6692\",\"#B6E880\",\"#FF97FF\",\"#FECB52\"],\"font\":{\"color\":\"#f2f5fa\"},\"hovermode\":\"closest\",\"hoverlabel\":{\"align\":\"left\"},\"paper_bgcolor\":\"rgb(17,17,17)\",\"plot_bgcolor\":\"rgb(17,17,17)\",\"polar\":{\"bgcolor\":\"rgb(17,17,17)\",\"angularaxis\":{\"gridcolor\":\"#506784\",\"linecolor\":\"#506784\",\"ticks\":\"\"},\"radialaxis\":{\"gridcolor\":\"#506784\",\"linecolor\":\"#506784\",\"ticks\":\"\"}},\"ternary\":{\"bgcolor\":\"rgb(17,17,17)\",\"aaxis\":{\"gridcolor\":\"#506784\",\"linecolor\":\"#506784\",\"ticks\":\"\"},\"baxis\":{\"gridcolor\":\"#506784\",\"linecolor\":\"#506784\",\"ticks\":\"\"},\"caxis\":{\"gridcolor\":\"#506784\",\"linecolor\":\"#506784\",\"ticks\":\"\"}},\"coloraxis\":{\"colorbar\":{\"outlinewidth\":0,\"ticks\":\"\"}},\"colorscale\":{\"sequential\":[[0.0,\"#0d0887\"],[0.1111111111111111,\"#46039f\"],[0.2222222222222222,\"#7201a8\"],[0.3333333333333333,\"#9c179e\"],[0.4444444444444444,\"#bd3786\"],[0.5555555555555556,\"#d8576b\"],[0.6666666666666666,\"#ed7953\"],[0.7777777777777778,\"#fb9f3a\"],[0.8888888888888888,\"#fdca26\"],[1.0,\"#f0f921\"]],\"sequentialminus\":[[0.0,\"#0d0887\"],[0.1111111111111111,\"#46039f\"],[0.2222222222222222,\"#7201a8\"],[0.3333333333333333,\"#9c179e\"],[0.4444444444444444,\"#bd3786\"],[0.5555555555555556,\"#d8576b\"],[0.6666666666666666,\"#ed7953\"],[0.7777777777777778,\"#fb9f3a\"],[0.8888888888888888,\"#fdca26\"],[1.0,\"#f0f921\"]],\"diverging\":[[0,\"#8e0152\"],[0.1,\"#c51b7d\"],[0.2,\"#de77ae\"],[0.3,\"#f1b6da\"],[0.4,\"#fde0ef\"],[0.5,\"#f7f7f7\"],[0.6,\"#e6f5d0\"],[0.7,\"#b8e186\"],[0.8,\"#7fbc41\"],[0.9,\"#4d9221\"],[1,\"#276419\"]]},\"xaxis\":{\"gridcolor\":\"#283442\",\"linecolor\":\"#506784\",\"ticks\":\"\",\"title\":{\"standoff\":15},\"zerolinecolor\":\"#283442\",\"automargin\":true,\"zerolinewidth\":2},\"yaxis\":{\"gridcolor\":\"#283442\",\"linecolor\":\"#506784\",\"ticks\":\"\",\"title\":{\"standoff\":15},\"zerolinecolor\":\"#283442\",\"automargin\":true,\"zerolinewidth\":2},\"scene\":{\"xaxis\":{\"backgroundcolor\":\"rgb(17,17,17)\",\"gridcolor\":\"#506784\",\"linecolor\":\"#506784\",\"showbackground\":true,\"ticks\":\"\",\"zerolinecolor\":\"#C8D4E3\",\"gridwidth\":2},\"yaxis\":{\"backgroundcolor\":\"rgb(17,17,17)\",\"gridcolor\":\"#506784\",\"linecolor\":\"#506784\",\"showbackground\":true,\"ticks\":\"\",\"zerolinecolor\":\"#C8D4E3\",\"gridwidth\":2},\"zaxis\":{\"backgroundcolor\":\"rgb(17,17,17)\",\"gridcolor\":\"#506784\",\"linecolor\":\"#506784\",\"showbackground\":true,\"ticks\":\"\",\"zerolinecolor\":\"#C8D4E3\",\"gridwidth\":2}},\"shapedefaults\":{\"line\":{\"color\":\"#f2f5fa\"}},\"annotationdefaults\":{\"arrowcolor\":\"#f2f5fa\",\"arrowhead\":0,\"arrowwidth\":1},\"geo\":{\"bgcolor\":\"rgb(17,17,17)\",\"landcolor\":\"rgb(17,17,17)\",\"subunitcolor\":\"#506784\",\"showland\":true,\"showlakes\":true,\"lakecolor\":\"rgb(17,17,17)\"},\"title\":{\"x\":0.05},\"updatemenudefaults\":{\"bgcolor\":\"#506784\",\"borderwidth\":0},\"sliderdefaults\":{\"bgcolor\":\"#C8D4E3\",\"borderwidth\":1,\"bordercolor\":\"rgb(17,17,17)\",\"tickwidth\":0},\"mapbox\":{\"style\":\"dark\"}}},\"margin\":{\"l\":20,\"r\":20,\"t\":20,\"b\":20},\"font\":{\"color\":\"black\"},\"height\":600,\"width\":600,\"paper_bgcolor\":\"white\",\"plot_bgcolor\":\"white\",\"showlegend\":false},                        {\"responsive\": true}                    ).then(function(){\n",
       "                            \n",
       "var gd = document.getElementById('674aebae-bcc7-4337-8332-427d8a978612');\n",
       "var x = new MutationObserver(function (mutations, observer) {{\n",
       "        var display = window.getComputedStyle(gd).display;\n",
       "        if (!display || display === 'none') {{\n",
       "            console.log([gd, 'removed!']);\n",
       "            Plotly.purge(gd);\n",
       "            observer.disconnect();\n",
       "        }}\n",
       "}});\n",
       "\n",
       "// Listen for the removal of the full notebook cells\n",
       "var notebookContainer = gd.closest('#notebook-container');\n",
       "if (notebookContainer) {{\n",
       "    x.observe(notebookContainer, {childList: true});\n",
       "}}\n",
       "\n",
       "// Listen for the clearing of the current output cell\n",
       "var outputEl = gd.closest('.output');\n",
       "if (outputEl) {{\n",
       "    x.observe(outputEl, {childList: true});\n",
       "}}\n",
       "\n",
       "                        })                };                });            </script>        </div>"
      ]
     },
     "metadata": {},
     "output_type": "display_data"
    }
   ],
   "execution_count": 367
  },
  {
   "metadata": {},
   "cell_type": "markdown",
   "source": "#### Overview table",
   "id": "832a93c646602493"
  },
  {
   "metadata": {
    "ExecuteTime": {
     "end_time": "2025-06-08T14:05:56.459808Z",
     "start_time": "2025-06-08T14:05:56.423868Z"
    }
   },
   "cell_type": "code",
   "source": [
    "importlib.reload(mpt_utils)\n",
    "# Create overview\n",
    "mpt_utils.generate_overview_table(weights_all_1m, mu_1m, S_1m, df_pct)"
   ],
   "id": "69b503dace1fa341",
   "outputs": [
    {
     "data": {
      "text/plain": [
       "         Share Count  Average Covariance Average Returns  \\\n",
       "7575.T             1            0.067500          16.14%   \n",
       "MKTX               1           -0.010227          13.33%   \n",
       "SLP                1            0.051364          26.96%   \n",
       "SRT3.DE            1            0.009091           6.41%   \n",
       "BURL               1           -0.002500          16.67%   \n",
       "4816.T             5           -0.040682          19.81%   \n",
       "PAR                1           -0.071818          18.27%   \n",
       "2685.T             4           -0.034091           6.33%   \n",
       "TAL                1           -0.046364          47.28%   \n",
       "TPE.DE             2           -0.007045          45.29%   \n",
       "ADUS               1            0.018864          25.13%   \n",
       "MRL.L              1            0.069545          25.85%   \n",
       "2471.T             1            0.028182          16.46%   \n",
       "CENT               2            0.040682          17.55%   \n",
       "AOF.DE             1           -0.012955          19.59%   \n",
       "NSSC               1            0.009545          47.46%   \n",
       "FLGT               4           -0.079318          20.17%   \n",
       "2733.T             2            0.056818          41.91%   \n",
       "9697.T             5            0.057727          29.82%   \n",
       "7458.T             2           -0.005682          37.11%   \n",
       "4549.T             3            0.067273          52.76%   \n",
       "7947.T             1            0.047727          17.06%   \n",
       "ITI                3            0.029318          39.75%   \n",
       "7508.T             2            0.044545          10.87%   \n",
       "MPX                2            0.060455          37.91%   \n",
       "2124.T             5            0.042045           6.64%   \n",
       "BVB.DE             2           -0.025227          11.40%   \n",
       "FRPH               1           -0.020000          27.94%   \n",
       "3050.T             4            0.013182          43.05%   \n",
       "3659.T             1            0.080909          16.39%   \n",
       "7832.T             1            0.069773          12.12%   \n",
       "APLD               7           -0.022500          39.15%   \n",
       "4218.T             1            0.033182          12.98%   \n",
       "7906.T             3            0.039091          77.90%   \n",
       "EBF                1            0.010909          18.33%   \n",
       "8141.T             2            0.028182          26.62%   \n",
       "9143.T             3           -0.012955          45.32%   \n",
       "3635.T             2            0.046591          18.72%   \n",
       "2874.T             3            0.021136          31.13%   \n",
       "2170.T             2            0.053636          17.79%   \n",
       "2331.T             1            0.035682          26.74%   \n",
       "9470.T             1            0.026136           2.31%   \n",
       "8282.T             1            0.015909          12.68%   \n",
       "7944.T            14           -0.295227          75.67%   \n",
       "O5G.DE             7           -0.009773           3.99%   \n",
       "\n",
       "        Return Last 12 Months Return (Actual) Next 12 Months  \n",
       "7575.T                  4.51%                        -17.45%  \n",
       "MKTX                   77.62%                         49.93%  \n",
       "SLP                    77.26%                        118.41%  \n",
       "SRT3.DE                36.06%                        109.75%  \n",
       "BURL                   13.37%                          1.41%  \n",
       "4816.T                 33.20%                         39.47%  \n",
       "PAR                    41.04%                         70.88%  \n",
       "2685.T                 49.31%                        -30.06%  \n",
       "TAL                    48.59%                        120.88%  \n",
       "TPE.DE                 -6.28%                          3.02%  \n",
       "ADUS                   30.00%                         19.98%  \n",
       "MRL.L                   6.70%                         21.40%  \n",
       "2471.T                119.57%                         24.38%  \n",
       "CENT                   -5.64%                         36.67%  \n",
       "AOF.DE                 79.41%                        115.37%  \n",
       "NSSC                  118.24%                         -8.54%  \n",
       "FLGT                  167.34%                        289.41%  \n",
       "2733.T                -20.01%                         36.51%  \n",
       "9697.T                 11.14%                        102.53%  \n",
       "7458.T                  1.43%                        -31.61%  \n",
       "4549.T                -30.88%                         29.95%  \n",
       "7947.T                 18.26%                         35.47%  \n",
       "ITI                    26.17%                        -29.74%  \n",
       "7508.T                 48.97%                         72.08%  \n",
       "MPX                   -31.47%                         16.83%  \n",
       "2124.T                  2.69%                        -32.69%  \n",
       "BVB.DE                -10.30%                        -43.42%  \n",
       "FRPH                    8.20%                        -13.42%  \n",
       "3050.T                  1.46%                         40.24%  \n",
       "3659.T                 -1.83%                        105.09%  \n",
       "7832.T                 69.14%                         15.79%  \n",
       "APLD                   -6.98%                          3.37%  \n",
       "4218.T                -15.26%                          5.34%  \n",
       "7906.T                 -8.97%                         19.54%  \n",
       "EBF                     5.85%                        -10.73%  \n",
       "8141.T                 21.46%                          2.18%  \n",
       "9143.T                 -3.46%                        111.16%  \n",
       "3635.T                 41.14%                        119.76%  \n",
       "2874.T                 22.31%                        -10.26%  \n",
       "2170.T                -46.71%                        -26.60%  \n",
       "2331.T                 19.11%                        -10.79%  \n",
       "9470.T                  5.96%                         22.39%  \n",
       "8282.T                -10.88%                         23.91%  \n",
       "7944.T               -467.40%                        876.44%  \n",
       "O5G.DE                 -0.04%                         -2.04%  "
      ],
      "text/html": [
       "<div>\n",
       "<style scoped>\n",
       "    .dataframe tbody tr th:only-of-type {\n",
       "        vertical-align: middle;\n",
       "    }\n",
       "\n",
       "    .dataframe tbody tr th {\n",
       "        vertical-align: top;\n",
       "    }\n",
       "\n",
       "    .dataframe thead th {\n",
       "        text-align: right;\n",
       "    }\n",
       "</style>\n",
       "<table border=\"1\" class=\"dataframe\">\n",
       "  <thead>\n",
       "    <tr style=\"text-align: right;\">\n",
       "      <th></th>\n",
       "      <th>Share Count</th>\n",
       "      <th>Average Covariance</th>\n",
       "      <th>Average Returns</th>\n",
       "      <th>Return Last 12 Months</th>\n",
       "      <th>Return (Actual) Next 12 Months</th>\n",
       "    </tr>\n",
       "  </thead>\n",
       "  <tbody>\n",
       "    <tr>\n",
       "      <th>7575.T</th>\n",
       "      <td>1</td>\n",
       "      <td>0.067500</td>\n",
       "      <td>16.14%</td>\n",
       "      <td>4.51%</td>\n",
       "      <td>-17.45%</td>\n",
       "    </tr>\n",
       "    <tr>\n",
       "      <th>MKTX</th>\n",
       "      <td>1</td>\n",
       "      <td>-0.010227</td>\n",
       "      <td>13.33%</td>\n",
       "      <td>77.62%</td>\n",
       "      <td>49.93%</td>\n",
       "    </tr>\n",
       "    <tr>\n",
       "      <th>SLP</th>\n",
       "      <td>1</td>\n",
       "      <td>0.051364</td>\n",
       "      <td>26.96%</td>\n",
       "      <td>77.26%</td>\n",
       "      <td>118.41%</td>\n",
       "    </tr>\n",
       "    <tr>\n",
       "      <th>SRT3.DE</th>\n",
       "      <td>1</td>\n",
       "      <td>0.009091</td>\n",
       "      <td>6.41%</td>\n",
       "      <td>36.06%</td>\n",
       "      <td>109.75%</td>\n",
       "    </tr>\n",
       "    <tr>\n",
       "      <th>BURL</th>\n",
       "      <td>1</td>\n",
       "      <td>-0.002500</td>\n",
       "      <td>16.67%</td>\n",
       "      <td>13.37%</td>\n",
       "      <td>1.41%</td>\n",
       "    </tr>\n",
       "    <tr>\n",
       "      <th>4816.T</th>\n",
       "      <td>5</td>\n",
       "      <td>-0.040682</td>\n",
       "      <td>19.81%</td>\n",
       "      <td>33.20%</td>\n",
       "      <td>39.47%</td>\n",
       "    </tr>\n",
       "    <tr>\n",
       "      <th>PAR</th>\n",
       "      <td>1</td>\n",
       "      <td>-0.071818</td>\n",
       "      <td>18.27%</td>\n",
       "      <td>41.04%</td>\n",
       "      <td>70.88%</td>\n",
       "    </tr>\n",
       "    <tr>\n",
       "      <th>2685.T</th>\n",
       "      <td>4</td>\n",
       "      <td>-0.034091</td>\n",
       "      <td>6.33%</td>\n",
       "      <td>49.31%</td>\n",
       "      <td>-30.06%</td>\n",
       "    </tr>\n",
       "    <tr>\n",
       "      <th>TAL</th>\n",
       "      <td>1</td>\n",
       "      <td>-0.046364</td>\n",
       "      <td>47.28%</td>\n",
       "      <td>48.59%</td>\n",
       "      <td>120.88%</td>\n",
       "    </tr>\n",
       "    <tr>\n",
       "      <th>TPE.DE</th>\n",
       "      <td>2</td>\n",
       "      <td>-0.007045</td>\n",
       "      <td>45.29%</td>\n",
       "      <td>-6.28%</td>\n",
       "      <td>3.02%</td>\n",
       "    </tr>\n",
       "    <tr>\n",
       "      <th>ADUS</th>\n",
       "      <td>1</td>\n",
       "      <td>0.018864</td>\n",
       "      <td>25.13%</td>\n",
       "      <td>30.00%</td>\n",
       "      <td>19.98%</td>\n",
       "    </tr>\n",
       "    <tr>\n",
       "      <th>MRL.L</th>\n",
       "      <td>1</td>\n",
       "      <td>0.069545</td>\n",
       "      <td>25.85%</td>\n",
       "      <td>6.70%</td>\n",
       "      <td>21.40%</td>\n",
       "    </tr>\n",
       "    <tr>\n",
       "      <th>2471.T</th>\n",
       "      <td>1</td>\n",
       "      <td>0.028182</td>\n",
       "      <td>16.46%</td>\n",
       "      <td>119.57%</td>\n",
       "      <td>24.38%</td>\n",
       "    </tr>\n",
       "    <tr>\n",
       "      <th>CENT</th>\n",
       "      <td>2</td>\n",
       "      <td>0.040682</td>\n",
       "      <td>17.55%</td>\n",
       "      <td>-5.64%</td>\n",
       "      <td>36.67%</td>\n",
       "    </tr>\n",
       "    <tr>\n",
       "      <th>AOF.DE</th>\n",
       "      <td>1</td>\n",
       "      <td>-0.012955</td>\n",
       "      <td>19.59%</td>\n",
       "      <td>79.41%</td>\n",
       "      <td>115.37%</td>\n",
       "    </tr>\n",
       "    <tr>\n",
       "      <th>NSSC</th>\n",
       "      <td>1</td>\n",
       "      <td>0.009545</td>\n",
       "      <td>47.46%</td>\n",
       "      <td>118.24%</td>\n",
       "      <td>-8.54%</td>\n",
       "    </tr>\n",
       "    <tr>\n",
       "      <th>FLGT</th>\n",
       "      <td>4</td>\n",
       "      <td>-0.079318</td>\n",
       "      <td>20.17%</td>\n",
       "      <td>167.34%</td>\n",
       "      <td>289.41%</td>\n",
       "    </tr>\n",
       "    <tr>\n",
       "      <th>2733.T</th>\n",
       "      <td>2</td>\n",
       "      <td>0.056818</td>\n",
       "      <td>41.91%</td>\n",
       "      <td>-20.01%</td>\n",
       "      <td>36.51%</td>\n",
       "    </tr>\n",
       "    <tr>\n",
       "      <th>9697.T</th>\n",
       "      <td>5</td>\n",
       "      <td>0.057727</td>\n",
       "      <td>29.82%</td>\n",
       "      <td>11.14%</td>\n",
       "      <td>102.53%</td>\n",
       "    </tr>\n",
       "    <tr>\n",
       "      <th>7458.T</th>\n",
       "      <td>2</td>\n",
       "      <td>-0.005682</td>\n",
       "      <td>37.11%</td>\n",
       "      <td>1.43%</td>\n",
       "      <td>-31.61%</td>\n",
       "    </tr>\n",
       "    <tr>\n",
       "      <th>4549.T</th>\n",
       "      <td>3</td>\n",
       "      <td>0.067273</td>\n",
       "      <td>52.76%</td>\n",
       "      <td>-30.88%</td>\n",
       "      <td>29.95%</td>\n",
       "    </tr>\n",
       "    <tr>\n",
       "      <th>7947.T</th>\n",
       "      <td>1</td>\n",
       "      <td>0.047727</td>\n",
       "      <td>17.06%</td>\n",
       "      <td>18.26%</td>\n",
       "      <td>35.47%</td>\n",
       "    </tr>\n",
       "    <tr>\n",
       "      <th>ITI</th>\n",
       "      <td>3</td>\n",
       "      <td>0.029318</td>\n",
       "      <td>39.75%</td>\n",
       "      <td>26.17%</td>\n",
       "      <td>-29.74%</td>\n",
       "    </tr>\n",
       "    <tr>\n",
       "      <th>7508.T</th>\n",
       "      <td>2</td>\n",
       "      <td>0.044545</td>\n",
       "      <td>10.87%</td>\n",
       "      <td>48.97%</td>\n",
       "      <td>72.08%</td>\n",
       "    </tr>\n",
       "    <tr>\n",
       "      <th>MPX</th>\n",
       "      <td>2</td>\n",
       "      <td>0.060455</td>\n",
       "      <td>37.91%</td>\n",
       "      <td>-31.47%</td>\n",
       "      <td>16.83%</td>\n",
       "    </tr>\n",
       "    <tr>\n",
       "      <th>2124.T</th>\n",
       "      <td>5</td>\n",
       "      <td>0.042045</td>\n",
       "      <td>6.64%</td>\n",
       "      <td>2.69%</td>\n",
       "      <td>-32.69%</td>\n",
       "    </tr>\n",
       "    <tr>\n",
       "      <th>BVB.DE</th>\n",
       "      <td>2</td>\n",
       "      <td>-0.025227</td>\n",
       "      <td>11.40%</td>\n",
       "      <td>-10.30%</td>\n",
       "      <td>-43.42%</td>\n",
       "    </tr>\n",
       "    <tr>\n",
       "      <th>FRPH</th>\n",
       "      <td>1</td>\n",
       "      <td>-0.020000</td>\n",
       "      <td>27.94%</td>\n",
       "      <td>8.20%</td>\n",
       "      <td>-13.42%</td>\n",
       "    </tr>\n",
       "    <tr>\n",
       "      <th>3050.T</th>\n",
       "      <td>4</td>\n",
       "      <td>0.013182</td>\n",
       "      <td>43.05%</td>\n",
       "      <td>1.46%</td>\n",
       "      <td>40.24%</td>\n",
       "    </tr>\n",
       "    <tr>\n",
       "      <th>3659.T</th>\n",
       "      <td>1</td>\n",
       "      <td>0.080909</td>\n",
       "      <td>16.39%</td>\n",
       "      <td>-1.83%</td>\n",
       "      <td>105.09%</td>\n",
       "    </tr>\n",
       "    <tr>\n",
       "      <th>7832.T</th>\n",
       "      <td>1</td>\n",
       "      <td>0.069773</td>\n",
       "      <td>12.12%</td>\n",
       "      <td>69.14%</td>\n",
       "      <td>15.79%</td>\n",
       "    </tr>\n",
       "    <tr>\n",
       "      <th>APLD</th>\n",
       "      <td>7</td>\n",
       "      <td>-0.022500</td>\n",
       "      <td>39.15%</td>\n",
       "      <td>-6.98%</td>\n",
       "      <td>3.37%</td>\n",
       "    </tr>\n",
       "    <tr>\n",
       "      <th>4218.T</th>\n",
       "      <td>1</td>\n",
       "      <td>0.033182</td>\n",
       "      <td>12.98%</td>\n",
       "      <td>-15.26%</td>\n",
       "      <td>5.34%</td>\n",
       "    </tr>\n",
       "    <tr>\n",
       "      <th>7906.T</th>\n",
       "      <td>3</td>\n",
       "      <td>0.039091</td>\n",
       "      <td>77.90%</td>\n",
       "      <td>-8.97%</td>\n",
       "      <td>19.54%</td>\n",
       "    </tr>\n",
       "    <tr>\n",
       "      <th>EBF</th>\n",
       "      <td>1</td>\n",
       "      <td>0.010909</td>\n",
       "      <td>18.33%</td>\n",
       "      <td>5.85%</td>\n",
       "      <td>-10.73%</td>\n",
       "    </tr>\n",
       "    <tr>\n",
       "      <th>8141.T</th>\n",
       "      <td>2</td>\n",
       "      <td>0.028182</td>\n",
       "      <td>26.62%</td>\n",
       "      <td>21.46%</td>\n",
       "      <td>2.18%</td>\n",
       "    </tr>\n",
       "    <tr>\n",
       "      <th>9143.T</th>\n",
       "      <td>3</td>\n",
       "      <td>-0.012955</td>\n",
       "      <td>45.32%</td>\n",
       "      <td>-3.46%</td>\n",
       "      <td>111.16%</td>\n",
       "    </tr>\n",
       "    <tr>\n",
       "      <th>3635.T</th>\n",
       "      <td>2</td>\n",
       "      <td>0.046591</td>\n",
       "      <td>18.72%</td>\n",
       "      <td>41.14%</td>\n",
       "      <td>119.76%</td>\n",
       "    </tr>\n",
       "    <tr>\n",
       "      <th>2874.T</th>\n",
       "      <td>3</td>\n",
       "      <td>0.021136</td>\n",
       "      <td>31.13%</td>\n",
       "      <td>22.31%</td>\n",
       "      <td>-10.26%</td>\n",
       "    </tr>\n",
       "    <tr>\n",
       "      <th>2170.T</th>\n",
       "      <td>2</td>\n",
       "      <td>0.053636</td>\n",
       "      <td>17.79%</td>\n",
       "      <td>-46.71%</td>\n",
       "      <td>-26.60%</td>\n",
       "    </tr>\n",
       "    <tr>\n",
       "      <th>2331.T</th>\n",
       "      <td>1</td>\n",
       "      <td>0.035682</td>\n",
       "      <td>26.74%</td>\n",
       "      <td>19.11%</td>\n",
       "      <td>-10.79%</td>\n",
       "    </tr>\n",
       "    <tr>\n",
       "      <th>9470.T</th>\n",
       "      <td>1</td>\n",
       "      <td>0.026136</td>\n",
       "      <td>2.31%</td>\n",
       "      <td>5.96%</td>\n",
       "      <td>22.39%</td>\n",
       "    </tr>\n",
       "    <tr>\n",
       "      <th>8282.T</th>\n",
       "      <td>1</td>\n",
       "      <td>0.015909</td>\n",
       "      <td>12.68%</td>\n",
       "      <td>-10.88%</td>\n",
       "      <td>23.91%</td>\n",
       "    </tr>\n",
       "    <tr>\n",
       "      <th>7944.T</th>\n",
       "      <td>14</td>\n",
       "      <td>-0.295227</td>\n",
       "      <td>75.67%</td>\n",
       "      <td>-467.40%</td>\n",
       "      <td>876.44%</td>\n",
       "    </tr>\n",
       "    <tr>\n",
       "      <th>O5G.DE</th>\n",
       "      <td>7</td>\n",
       "      <td>-0.009773</td>\n",
       "      <td>3.99%</td>\n",
       "      <td>-0.04%</td>\n",
       "      <td>-2.04%</td>\n",
       "    </tr>\n",
       "  </tbody>\n",
       "</table>\n",
       "</div>"
      ]
     },
     "execution_count": 379,
     "metadata": {},
     "output_type": "execute_result"
    }
   ],
   "execution_count": 379
  },
  {
   "metadata": {},
   "cell_type": "markdown",
   "source": "### LSTM Univariate - 6 Months",
   "id": "43a9fdefde6c005"
  },
  {
   "metadata": {},
   "cell_type": "markdown",
   "source": [
    "Get the known data (train data)\n",
    "After that, get the first 6 predicted months, or the first 6 predicted sequences of test data"
   ],
   "id": "fd7bdd04c2d45540"
  },
  {
   "metadata": {
    "ExecuteTime": {
     "end_time": "2025-06-08T13:55:38.645056Z",
     "start_time": "2025-06-08T13:55:38.640796Z"
    }
   },
   "cell_type": "code",
   "source": [
    "df_train = X_train[:, :, -1].clone()\n",
    "y_test_pred_6m =  y_test_pred[0,:,:].T[0:6] # y_test_pred[:,:,5][0:6]\n",
    "y_test_pred_6m"
   ],
   "id": "fd98c778b7b249cb",
   "outputs": [
    {
     "data": {
      "text/plain": [
       "tensor([[-0.0099, -0.0017,  0.0086,  ...,  0.0147,  0.0081,  0.0128],\n",
       "        [-0.0555, -0.0416, -0.0237,  ...,  0.0158,  0.0128,  0.0142],\n",
       "        [ 0.0420,  0.0371,  0.0280,  ...,  0.0206,  0.0315,  0.0284],\n",
       "        [ 0.0410,  0.0349,  0.0331,  ...,  0.0319,  0.0319,  0.0322],\n",
       "        [ 0.0484,  0.0439,  0.0396,  ...,  0.0335,  0.0400,  0.0392],\n",
       "        [ 0.0188,  0.0140,  0.0117,  ...,  0.0039,  0.0074,  0.0077]])"
      ]
     },
     "execution_count": 368,
     "metadata": {},
     "output_type": "execute_result"
    }
   ],
   "execution_count": 368
  },
  {
   "metadata": {
    "ExecuteTime": {
     "end_time": "2025-06-08T13:55:38.828934Z",
     "start_time": "2025-06-08T13:55:38.816506Z"
    }
   },
   "cell_type": "code",
   "source": [
    "df_forecast_6m = pd.DataFrame(df_train.clone())\n",
    "df_forecast_6m = pd.concat([df_forecast_6m, pd.DataFrame(y_test_pred_6m)], ignore_index=True)\n",
    "# Assign back columns and indices to make human understandable\n",
    "df_forecast_6m.columns = df.columns\n",
    "df_forecast_6m.index = df_pct[(in_seq_length - 1) : len(df_forecast_6m) + (in_seq_length - 1)].index\n",
    "#\n",
    "df_forecast_6m = df_forecast_6m.tail(variables.TEST_YEARS_NR * 12)\n",
    "#\n",
    "df_forecast_6m.tail(3)"
   ],
   "id": "d3afc8fa5f0e31c6",
   "outputs": [
    {
     "data": {
      "text/plain": [
       "               RS1.L        KE    TEG.DE    LEG.DE       SCS       HNI  \\\n",
       "Date                                                                     \n",
       "2019-12-01  0.041008  0.034942  0.033075  0.033280  0.031389  0.031647   \n",
       "2020-01-01  0.048416  0.043874  0.039584  0.038893  0.040554  0.041433   \n",
       "2020-02-01  0.018807  0.014038  0.011664  0.010549  0.012998  0.012465   \n",
       "\n",
       "                 AVT      ACCO    VNA.DE    7912.T  ...    DEQ.DE      KIDS  \\\n",
       "Date                                                ...                       \n",
       "2019-12-01  0.031352  0.030384  0.032315  0.033274  ...  0.035429  0.034211   \n",
       "2020-01-01  0.043634  0.039937  0.038421  0.040792  ...  0.039704  0.036943   \n",
       "2020-02-01  0.011376  0.010558  0.009250  0.009803  ...  0.008285  0.005615   \n",
       "\n",
       "                HALO      MATW    9842.T      KVHI    MOON.L       NEO  \\\n",
       "Date                                                                     \n",
       "2019-12-01  0.031641  0.033479  0.034301  0.031232  0.030997  0.031858   \n",
       "2020-01-01  0.039709  0.042080  0.043241  0.040815  0.041498  0.033466   \n",
       "2020-02-01  0.007470  0.013697  0.009670  0.008978  0.011212  0.003901   \n",
       "\n",
       "              6055.T       UNP  \n",
       "Date                            \n",
       "2019-12-01  0.031871  0.032196  \n",
       "2020-01-01  0.040028  0.039172  \n",
       "2020-02-01  0.007373  0.007662  \n",
       "\n",
       "[3 rows x 1653 columns]"
      ],
      "text/html": [
       "<div>\n",
       "<style scoped>\n",
       "    .dataframe tbody tr th:only-of-type {\n",
       "        vertical-align: middle;\n",
       "    }\n",
       "\n",
       "    .dataframe tbody tr th {\n",
       "        vertical-align: top;\n",
       "    }\n",
       "\n",
       "    .dataframe thead th {\n",
       "        text-align: right;\n",
       "    }\n",
       "</style>\n",
       "<table border=\"1\" class=\"dataframe\">\n",
       "  <thead>\n",
       "    <tr style=\"text-align: right;\">\n",
       "      <th></th>\n",
       "      <th>RS1.L</th>\n",
       "      <th>KE</th>\n",
       "      <th>TEG.DE</th>\n",
       "      <th>LEG.DE</th>\n",
       "      <th>SCS</th>\n",
       "      <th>HNI</th>\n",
       "      <th>AVT</th>\n",
       "      <th>ACCO</th>\n",
       "      <th>VNA.DE</th>\n",
       "      <th>7912.T</th>\n",
       "      <th>...</th>\n",
       "      <th>DEQ.DE</th>\n",
       "      <th>KIDS</th>\n",
       "      <th>HALO</th>\n",
       "      <th>MATW</th>\n",
       "      <th>9842.T</th>\n",
       "      <th>KVHI</th>\n",
       "      <th>MOON.L</th>\n",
       "      <th>NEO</th>\n",
       "      <th>6055.T</th>\n",
       "      <th>UNP</th>\n",
       "    </tr>\n",
       "    <tr>\n",
       "      <th>Date</th>\n",
       "      <th></th>\n",
       "      <th></th>\n",
       "      <th></th>\n",
       "      <th></th>\n",
       "      <th></th>\n",
       "      <th></th>\n",
       "      <th></th>\n",
       "      <th></th>\n",
       "      <th></th>\n",
       "      <th></th>\n",
       "      <th></th>\n",
       "      <th></th>\n",
       "      <th></th>\n",
       "      <th></th>\n",
       "      <th></th>\n",
       "      <th></th>\n",
       "      <th></th>\n",
       "      <th></th>\n",
       "      <th></th>\n",
       "      <th></th>\n",
       "      <th></th>\n",
       "    </tr>\n",
       "  </thead>\n",
       "  <tbody>\n",
       "    <tr>\n",
       "      <th>2019-12-01</th>\n",
       "      <td>0.041008</td>\n",
       "      <td>0.034942</td>\n",
       "      <td>0.033075</td>\n",
       "      <td>0.033280</td>\n",
       "      <td>0.031389</td>\n",
       "      <td>0.031647</td>\n",
       "      <td>0.031352</td>\n",
       "      <td>0.030384</td>\n",
       "      <td>0.032315</td>\n",
       "      <td>0.033274</td>\n",
       "      <td>...</td>\n",
       "      <td>0.035429</td>\n",
       "      <td>0.034211</td>\n",
       "      <td>0.031641</td>\n",
       "      <td>0.033479</td>\n",
       "      <td>0.034301</td>\n",
       "      <td>0.031232</td>\n",
       "      <td>0.030997</td>\n",
       "      <td>0.031858</td>\n",
       "      <td>0.031871</td>\n",
       "      <td>0.032196</td>\n",
       "    </tr>\n",
       "    <tr>\n",
       "      <th>2020-01-01</th>\n",
       "      <td>0.048416</td>\n",
       "      <td>0.043874</td>\n",
       "      <td>0.039584</td>\n",
       "      <td>0.038893</td>\n",
       "      <td>0.040554</td>\n",
       "      <td>0.041433</td>\n",
       "      <td>0.043634</td>\n",
       "      <td>0.039937</td>\n",
       "      <td>0.038421</td>\n",
       "      <td>0.040792</td>\n",
       "      <td>...</td>\n",
       "      <td>0.039704</td>\n",
       "      <td>0.036943</td>\n",
       "      <td>0.039709</td>\n",
       "      <td>0.042080</td>\n",
       "      <td>0.043241</td>\n",
       "      <td>0.040815</td>\n",
       "      <td>0.041498</td>\n",
       "      <td>0.033466</td>\n",
       "      <td>0.040028</td>\n",
       "      <td>0.039172</td>\n",
       "    </tr>\n",
       "    <tr>\n",
       "      <th>2020-02-01</th>\n",
       "      <td>0.018807</td>\n",
       "      <td>0.014038</td>\n",
       "      <td>0.011664</td>\n",
       "      <td>0.010549</td>\n",
       "      <td>0.012998</td>\n",
       "      <td>0.012465</td>\n",
       "      <td>0.011376</td>\n",
       "      <td>0.010558</td>\n",
       "      <td>0.009250</td>\n",
       "      <td>0.009803</td>\n",
       "      <td>...</td>\n",
       "      <td>0.008285</td>\n",
       "      <td>0.005615</td>\n",
       "      <td>0.007470</td>\n",
       "      <td>0.013697</td>\n",
       "      <td>0.009670</td>\n",
       "      <td>0.008978</td>\n",
       "      <td>0.011212</td>\n",
       "      <td>0.003901</td>\n",
       "      <td>0.007373</td>\n",
       "      <td>0.007662</td>\n",
       "    </tr>\n",
       "  </tbody>\n",
       "</table>\n",
       "<p>3 rows × 1653 columns</p>\n",
       "</div>"
      ]
     },
     "execution_count": 369,
     "metadata": {},
     "output_type": "execute_result"
    }
   ],
   "execution_count": 369
  },
  {
   "metadata": {
    "ExecuteTime": {
     "end_time": "2025-06-08T13:55:49.195235Z",
     "start_time": "2025-06-08T13:55:38.972476Z"
    }
   },
   "cell_type": "code",
   "source": [
    "importlib.reload(lstm_utils)\n",
    "importlib.reload(mpt_utils)\n",
    "\n",
    "weights_6m, mu_6m, S_6m, weights_all_6m = mpt_utils.portfolio_and_plot(df_forecast_6m, df)"
   ],
   "id": "52b1414db37b4f46",
   "outputs": [
    {
     "name": "stdout",
     "output_type": "stream",
     "text": [
      "Expected annual return: 31.6%\n",
      "Annual volatility: 15.7%\n",
      "Sharpe Ratio: 1.89\n",
      "-- Allocation --\n",
      "{'TPE.DE': 1, '7575.T': 1, '2471.T': 1, 'TAL': 1, 'SLP': 1, 'SRT3.DE': 1, 'ADUS': 1, 'NSSC': 1, 'PAR': 1, 'MKTX': 1, '7564.T': 1, '4816.T': 3, 'CENT': 1, 'PAYC': 1, 'VAR1.DE': 1, 'BURL': 1, 'AOF.DE': 1, 'FLGT': 2, '7832.T': 1, 'ITI': 3, '2685.T': 2, '2733.T': 1, 'NVDA': 1, '9697.T': 3, 'BVB.DE': 1, 'MITK': 1, '7508.T': 2, '7780.T': 1, '2170.T': 2, '4549.T': 1, '7458.T': 1, 'EBF': 1, '2124.T': 3, 'MPX': 1, '3659.T': 1, '4218.T': 1, 'APLD': 4, '9470.T': 1, 'ECV.DE': 1, '2874.T': 2, '7944.T': 16, '8141.T': 1, '3050.T': 1, '3635.T': 1, '7906.T': 1, '9143.T': 1, '9434.T': 1, 'O5G.DE': 10}\n",
      "-- Weights Percentage --\n",
      "{'MKTX': 0.0341, 'CENT': 0.0322, 'ITI': 0.0202, 'VAR1.DE': 0.0292, '7832.T': 0.021, 'NSSC': 0.036, 'BURL': 0.0281, 'TPE.DE': 0.054, 'SRT3.DE': 0.0364, 'PAR': 0.0349, 'AOF.DE': 0.0259, 'SLP': 0.0435, '4816.T': 0.0322, '7575.T': 0.0476, 'TAL': 0.0439, 'FLGT': 0.0221, 'PAYC': 0.0315, 'ADUS': 0.0364, '2685.T': 0.0202, '2471.T': 0.0472, '7564.T': 0.0334, 'Other(27)': 0.2901}\n"
     ]
    },
    {
     "name": "stderr",
     "output_type": "stream",
     "text": [
      "/Users/herbishtini/anaconda3/envs/portfolio_optimisation/lib/python3.11/site-packages/pypfopt/discrete_allocation.py:27: FutureWarning:\n",
      "\n",
      "Downcasting object dtype arrays on .fillna, .ffill, .bfill is deprecated and will change in a future version. Call result.infer_objects(copy=False) instead. To opt-in to the future behavior, set `pd.set_option('future.no_silent_downcasting', True)`\n",
      "\n"
     ]
    },
    {
     "data": {
      "application/vnd.plotly.v1+json": {
       "data": [
        {
         "hole": 0.3,
         "insidetextorientation": "radial",
         "labels": [
          "MKTX",
          "CENT",
          "ITI",
          "VAR1.DE",
          "7832.T",
          "NSSC",
          "BURL",
          "TPE.DE",
          "SRT3.DE",
          "PAR",
          "AOF.DE",
          "SLP",
          "4816.T",
          "7575.T",
          "TAL",
          "FLGT",
          "PAYC",
          "ADUS",
          "2685.T",
          "2471.T",
          "7564.T",
          "Other(27)"
         ],
         "textinfo": "label+percent",
         "textposition": "inside",
         "values": [
          0.0091,
          0.0086,
          0.0054,
          0.0078,
          0.0056,
          0.0096,
          0.0075,
          0.0144,
          0.0097,
          0.0093,
          0.0069,
          0.0116,
          0.0086,
          0.0127,
          0.0117,
          0.0059,
          0.0084,
          0.0097,
          0.0054,
          0.0126,
          0.0089,
          0.0774
         ],
         "type": "pie"
        }
       ],
       "layout": {
        "template": {
         "data": {
          "histogram2dcontour": [
           {
            "type": "histogram2dcontour",
            "colorbar": {
             "outlinewidth": 0,
             "ticks": ""
            },
            "colorscale": [
             [
              0.0,
              "#0d0887"
             ],
             [
              0.1111111111111111,
              "#46039f"
             ],
             [
              0.2222222222222222,
              "#7201a8"
             ],
             [
              0.3333333333333333,
              "#9c179e"
             ],
             [
              0.4444444444444444,
              "#bd3786"
             ],
             [
              0.5555555555555556,
              "#d8576b"
             ],
             [
              0.6666666666666666,
              "#ed7953"
             ],
             [
              0.7777777777777778,
              "#fb9f3a"
             ],
             [
              0.8888888888888888,
              "#fdca26"
             ],
             [
              1.0,
              "#f0f921"
             ]
            ]
           }
          ],
          "choropleth": [
           {
            "type": "choropleth",
            "colorbar": {
             "outlinewidth": 0,
             "ticks": ""
            }
           }
          ],
          "histogram2d": [
           {
            "type": "histogram2d",
            "colorbar": {
             "outlinewidth": 0,
             "ticks": ""
            },
            "colorscale": [
             [
              0.0,
              "#0d0887"
             ],
             [
              0.1111111111111111,
              "#46039f"
             ],
             [
              0.2222222222222222,
              "#7201a8"
             ],
             [
              0.3333333333333333,
              "#9c179e"
             ],
             [
              0.4444444444444444,
              "#bd3786"
             ],
             [
              0.5555555555555556,
              "#d8576b"
             ],
             [
              0.6666666666666666,
              "#ed7953"
             ],
             [
              0.7777777777777778,
              "#fb9f3a"
             ],
             [
              0.8888888888888888,
              "#fdca26"
             ],
             [
              1.0,
              "#f0f921"
             ]
            ]
           }
          ],
          "heatmap": [
           {
            "type": "heatmap",
            "colorbar": {
             "outlinewidth": 0,
             "ticks": ""
            },
            "colorscale": [
             [
              0.0,
              "#0d0887"
             ],
             [
              0.1111111111111111,
              "#46039f"
             ],
             [
              0.2222222222222222,
              "#7201a8"
             ],
             [
              0.3333333333333333,
              "#9c179e"
             ],
             [
              0.4444444444444444,
              "#bd3786"
             ],
             [
              0.5555555555555556,
              "#d8576b"
             ],
             [
              0.6666666666666666,
              "#ed7953"
             ],
             [
              0.7777777777777778,
              "#fb9f3a"
             ],
             [
              0.8888888888888888,
              "#fdca26"
             ],
             [
              1.0,
              "#f0f921"
             ]
            ]
           }
          ],
          "heatmapgl": [
           {
            "type": "heatmapgl",
            "colorbar": {
             "outlinewidth": 0,
             "ticks": ""
            },
            "colorscale": [
             [
              0.0,
              "#0d0887"
             ],
             [
              0.1111111111111111,
              "#46039f"
             ],
             [
              0.2222222222222222,
              "#7201a8"
             ],
             [
              0.3333333333333333,
              "#9c179e"
             ],
             [
              0.4444444444444444,
              "#bd3786"
             ],
             [
              0.5555555555555556,
              "#d8576b"
             ],
             [
              0.6666666666666666,
              "#ed7953"
             ],
             [
              0.7777777777777778,
              "#fb9f3a"
             ],
             [
              0.8888888888888888,
              "#fdca26"
             ],
             [
              1.0,
              "#f0f921"
             ]
            ]
           }
          ],
          "contourcarpet": [
           {
            "type": "contourcarpet",
            "colorbar": {
             "outlinewidth": 0,
             "ticks": ""
            }
           }
          ],
          "contour": [
           {
            "type": "contour",
            "colorbar": {
             "outlinewidth": 0,
             "ticks": ""
            },
            "colorscale": [
             [
              0.0,
              "#0d0887"
             ],
             [
              0.1111111111111111,
              "#46039f"
             ],
             [
              0.2222222222222222,
              "#7201a8"
             ],
             [
              0.3333333333333333,
              "#9c179e"
             ],
             [
              0.4444444444444444,
              "#bd3786"
             ],
             [
              0.5555555555555556,
              "#d8576b"
             ],
             [
              0.6666666666666666,
              "#ed7953"
             ],
             [
              0.7777777777777778,
              "#fb9f3a"
             ],
             [
              0.8888888888888888,
              "#fdca26"
             ],
             [
              1.0,
              "#f0f921"
             ]
            ]
           }
          ],
          "surface": [
           {
            "type": "surface",
            "colorbar": {
             "outlinewidth": 0,
             "ticks": ""
            },
            "colorscale": [
             [
              0.0,
              "#0d0887"
             ],
             [
              0.1111111111111111,
              "#46039f"
             ],
             [
              0.2222222222222222,
              "#7201a8"
             ],
             [
              0.3333333333333333,
              "#9c179e"
             ],
             [
              0.4444444444444444,
              "#bd3786"
             ],
             [
              0.5555555555555556,
              "#d8576b"
             ],
             [
              0.6666666666666666,
              "#ed7953"
             ],
             [
              0.7777777777777778,
              "#fb9f3a"
             ],
             [
              0.8888888888888888,
              "#fdca26"
             ],
             [
              1.0,
              "#f0f921"
             ]
            ]
           }
          ],
          "mesh3d": [
           {
            "type": "mesh3d",
            "colorbar": {
             "outlinewidth": 0,
             "ticks": ""
            }
           }
          ],
          "scatter": [
           {
            "marker": {
             "line": {
              "color": "#283442"
             }
            },
            "type": "scatter"
           }
          ],
          "parcoords": [
           {
            "type": "parcoords",
            "line": {
             "colorbar": {
              "outlinewidth": 0,
              "ticks": ""
             }
            }
           }
          ],
          "scatterpolargl": [
           {
            "type": "scatterpolargl",
            "marker": {
             "colorbar": {
              "outlinewidth": 0,
              "ticks": ""
             }
            }
           }
          ],
          "bar": [
           {
            "error_x": {
             "color": "#f2f5fa"
            },
            "error_y": {
             "color": "#f2f5fa"
            },
            "marker": {
             "line": {
              "color": "rgb(17,17,17)",
              "width": 0.5
             },
             "pattern": {
              "fillmode": "overlay",
              "size": 10,
              "solidity": 0.2
             }
            },
            "type": "bar"
           }
          ],
          "scattergeo": [
           {
            "type": "scattergeo",
            "marker": {
             "colorbar": {
              "outlinewidth": 0,
              "ticks": ""
             }
            }
           }
          ],
          "scatterpolar": [
           {
            "type": "scatterpolar",
            "marker": {
             "colorbar": {
              "outlinewidth": 0,
              "ticks": ""
             }
            }
           }
          ],
          "histogram": [
           {
            "marker": {
             "pattern": {
              "fillmode": "overlay",
              "size": 10,
              "solidity": 0.2
             }
            },
            "type": "histogram"
           }
          ],
          "scattergl": [
           {
            "marker": {
             "line": {
              "color": "#283442"
             }
            },
            "type": "scattergl"
           }
          ],
          "scatter3d": [
           {
            "type": "scatter3d",
            "line": {
             "colorbar": {
              "outlinewidth": 0,
              "ticks": ""
             }
            },
            "marker": {
             "colorbar": {
              "outlinewidth": 0,
              "ticks": ""
             }
            }
           }
          ],
          "scattermapbox": [
           {
            "type": "scattermapbox",
            "marker": {
             "colorbar": {
              "outlinewidth": 0,
              "ticks": ""
             }
            }
           }
          ],
          "scatterternary": [
           {
            "type": "scatterternary",
            "marker": {
             "colorbar": {
              "outlinewidth": 0,
              "ticks": ""
             }
            }
           }
          ],
          "scattercarpet": [
           {
            "type": "scattercarpet",
            "marker": {
             "colorbar": {
              "outlinewidth": 0,
              "ticks": ""
             }
            }
           }
          ],
          "carpet": [
           {
            "aaxis": {
             "endlinecolor": "#A2B1C6",
             "gridcolor": "#506784",
             "linecolor": "#506784",
             "minorgridcolor": "#506784",
             "startlinecolor": "#A2B1C6"
            },
            "baxis": {
             "endlinecolor": "#A2B1C6",
             "gridcolor": "#506784",
             "linecolor": "#506784",
             "minorgridcolor": "#506784",
             "startlinecolor": "#A2B1C6"
            },
            "type": "carpet"
           }
          ],
          "table": [
           {
            "cells": {
             "fill": {
              "color": "#506784"
             },
             "line": {
              "color": "rgb(17,17,17)"
             }
            },
            "header": {
             "fill": {
              "color": "#2a3f5f"
             },
             "line": {
              "color": "rgb(17,17,17)"
             }
            },
            "type": "table"
           }
          ],
          "barpolar": [
           {
            "marker": {
             "line": {
              "color": "rgb(17,17,17)",
              "width": 0.5
             },
             "pattern": {
              "fillmode": "overlay",
              "size": 10,
              "solidity": 0.2
             }
            },
            "type": "barpolar"
           }
          ],
          "pie": [
           {
            "automargin": true,
            "type": "pie"
           }
          ]
         },
         "layout": {
          "autotypenumbers": "strict",
          "colorway": [
           "#636efa",
           "#EF553B",
           "#00cc96",
           "#ab63fa",
           "#FFA15A",
           "#19d3f3",
           "#FF6692",
           "#B6E880",
           "#FF97FF",
           "#FECB52"
          ],
          "font": {
           "color": "#f2f5fa"
          },
          "hovermode": "closest",
          "hoverlabel": {
           "align": "left"
          },
          "paper_bgcolor": "rgb(17,17,17)",
          "plot_bgcolor": "rgb(17,17,17)",
          "polar": {
           "bgcolor": "rgb(17,17,17)",
           "angularaxis": {
            "gridcolor": "#506784",
            "linecolor": "#506784",
            "ticks": ""
           },
           "radialaxis": {
            "gridcolor": "#506784",
            "linecolor": "#506784",
            "ticks": ""
           }
          },
          "ternary": {
           "bgcolor": "rgb(17,17,17)",
           "aaxis": {
            "gridcolor": "#506784",
            "linecolor": "#506784",
            "ticks": ""
           },
           "baxis": {
            "gridcolor": "#506784",
            "linecolor": "#506784",
            "ticks": ""
           },
           "caxis": {
            "gridcolor": "#506784",
            "linecolor": "#506784",
            "ticks": ""
           }
          },
          "coloraxis": {
           "colorbar": {
            "outlinewidth": 0,
            "ticks": ""
           }
          },
          "colorscale": {
           "sequential": [
            [
             0.0,
             "#0d0887"
            ],
            [
             0.1111111111111111,
             "#46039f"
            ],
            [
             0.2222222222222222,
             "#7201a8"
            ],
            [
             0.3333333333333333,
             "#9c179e"
            ],
            [
             0.4444444444444444,
             "#bd3786"
            ],
            [
             0.5555555555555556,
             "#d8576b"
            ],
            [
             0.6666666666666666,
             "#ed7953"
            ],
            [
             0.7777777777777778,
             "#fb9f3a"
            ],
            [
             0.8888888888888888,
             "#fdca26"
            ],
            [
             1.0,
             "#f0f921"
            ]
           ],
           "sequentialminus": [
            [
             0.0,
             "#0d0887"
            ],
            [
             0.1111111111111111,
             "#46039f"
            ],
            [
             0.2222222222222222,
             "#7201a8"
            ],
            [
             0.3333333333333333,
             "#9c179e"
            ],
            [
             0.4444444444444444,
             "#bd3786"
            ],
            [
             0.5555555555555556,
             "#d8576b"
            ],
            [
             0.6666666666666666,
             "#ed7953"
            ],
            [
             0.7777777777777778,
             "#fb9f3a"
            ],
            [
             0.8888888888888888,
             "#fdca26"
            ],
            [
             1.0,
             "#f0f921"
            ]
           ],
           "diverging": [
            [
             0,
             "#8e0152"
            ],
            [
             0.1,
             "#c51b7d"
            ],
            [
             0.2,
             "#de77ae"
            ],
            [
             0.3,
             "#f1b6da"
            ],
            [
             0.4,
             "#fde0ef"
            ],
            [
             0.5,
             "#f7f7f7"
            ],
            [
             0.6,
             "#e6f5d0"
            ],
            [
             0.7,
             "#b8e186"
            ],
            [
             0.8,
             "#7fbc41"
            ],
            [
             0.9,
             "#4d9221"
            ],
            [
             1,
             "#276419"
            ]
           ]
          },
          "xaxis": {
           "gridcolor": "#283442",
           "linecolor": "#506784",
           "ticks": "",
           "title": {
            "standoff": 15
           },
           "zerolinecolor": "#283442",
           "automargin": true,
           "zerolinewidth": 2
          },
          "yaxis": {
           "gridcolor": "#283442",
           "linecolor": "#506784",
           "ticks": "",
           "title": {
            "standoff": 15
           },
           "zerolinecolor": "#283442",
           "automargin": true,
           "zerolinewidth": 2
          },
          "scene": {
           "xaxis": {
            "backgroundcolor": "rgb(17,17,17)",
            "gridcolor": "#506784",
            "linecolor": "#506784",
            "showbackground": true,
            "ticks": "",
            "zerolinecolor": "#C8D4E3",
            "gridwidth": 2
           },
           "yaxis": {
            "backgroundcolor": "rgb(17,17,17)",
            "gridcolor": "#506784",
            "linecolor": "#506784",
            "showbackground": true,
            "ticks": "",
            "zerolinecolor": "#C8D4E3",
            "gridwidth": 2
           },
           "zaxis": {
            "backgroundcolor": "rgb(17,17,17)",
            "gridcolor": "#506784",
            "linecolor": "#506784",
            "showbackground": true,
            "ticks": "",
            "zerolinecolor": "#C8D4E3",
            "gridwidth": 2
           }
          },
          "shapedefaults": {
           "line": {
            "color": "#f2f5fa"
           }
          },
          "annotationdefaults": {
           "arrowcolor": "#f2f5fa",
           "arrowhead": 0,
           "arrowwidth": 1
          },
          "geo": {
           "bgcolor": "rgb(17,17,17)",
           "landcolor": "rgb(17,17,17)",
           "subunitcolor": "#506784",
           "showland": true,
           "showlakes": true,
           "lakecolor": "rgb(17,17,17)"
          },
          "title": {
           "x": 0.05
          },
          "updatemenudefaults": {
           "bgcolor": "#506784",
           "borderwidth": 0
          },
          "sliderdefaults": {
           "bgcolor": "#C8D4E3",
           "borderwidth": 1,
           "bordercolor": "rgb(17,17,17)",
           "tickwidth": 0
          },
          "mapbox": {
           "style": "dark"
          }
         }
        },
        "margin": {
         "l": 20,
         "r": 20,
         "t": 20,
         "b": 20
        },
        "font": {
         "color": "black"
        },
        "height": 600,
        "width": 600,
        "paper_bgcolor": "white",
        "plot_bgcolor": "white",
        "showlegend": false
       },
       "config": {
        "plotlyServerURL": "https://plot.ly"
       }
      },
      "text/html": [
       "<div>                            <div id=\"552a45f8-d5cd-4973-b8a1-e3fb867759da\" class=\"plotly-graph-div\" style=\"height:600px; width:600px;\"></div>            <script type=\"text/javascript\">                require([\"plotly\"], function(Plotly) {                    window.PLOTLYENV=window.PLOTLYENV || {};                                    if (document.getElementById(\"552a45f8-d5cd-4973-b8a1-e3fb867759da\")) {                    Plotly.newPlot(                        \"552a45f8-d5cd-4973-b8a1-e3fb867759da\",                        [{\"hole\":0.3,\"insidetextorientation\":\"radial\",\"labels\":[\"MKTX\",\"CENT\",\"ITI\",\"VAR1.DE\",\"7832.T\",\"NSSC\",\"BURL\",\"TPE.DE\",\"SRT3.DE\",\"PAR\",\"AOF.DE\",\"SLP\",\"4816.T\",\"7575.T\",\"TAL\",\"FLGT\",\"PAYC\",\"ADUS\",\"2685.T\",\"2471.T\",\"7564.T\",\"Other(27)\"],\"textinfo\":\"label+percent\",\"textposition\":\"inside\",\"values\":[0.0091,0.0086,0.0054,0.0078,0.0056,0.0096,0.0075,0.0144,0.0097,0.0093,0.0069,0.0116,0.0086,0.0127,0.0117,0.0059,0.0084,0.0097,0.0054,0.0126,0.0089,0.0774],\"type\":\"pie\"}],                        {\"template\":{\"data\":{\"histogram2dcontour\":[{\"type\":\"histogram2dcontour\",\"colorbar\":{\"outlinewidth\":0,\"ticks\":\"\"},\"colorscale\":[[0.0,\"#0d0887\"],[0.1111111111111111,\"#46039f\"],[0.2222222222222222,\"#7201a8\"],[0.3333333333333333,\"#9c179e\"],[0.4444444444444444,\"#bd3786\"],[0.5555555555555556,\"#d8576b\"],[0.6666666666666666,\"#ed7953\"],[0.7777777777777778,\"#fb9f3a\"],[0.8888888888888888,\"#fdca26\"],[1.0,\"#f0f921\"]]}],\"choropleth\":[{\"type\":\"choropleth\",\"colorbar\":{\"outlinewidth\":0,\"ticks\":\"\"}}],\"histogram2d\":[{\"type\":\"histogram2d\",\"colorbar\":{\"outlinewidth\":0,\"ticks\":\"\"},\"colorscale\":[[0.0,\"#0d0887\"],[0.1111111111111111,\"#46039f\"],[0.2222222222222222,\"#7201a8\"],[0.3333333333333333,\"#9c179e\"],[0.4444444444444444,\"#bd3786\"],[0.5555555555555556,\"#d8576b\"],[0.6666666666666666,\"#ed7953\"],[0.7777777777777778,\"#fb9f3a\"],[0.8888888888888888,\"#fdca26\"],[1.0,\"#f0f921\"]]}],\"heatmap\":[{\"type\":\"heatmap\",\"colorbar\":{\"outlinewidth\":0,\"ticks\":\"\"},\"colorscale\":[[0.0,\"#0d0887\"],[0.1111111111111111,\"#46039f\"],[0.2222222222222222,\"#7201a8\"],[0.3333333333333333,\"#9c179e\"],[0.4444444444444444,\"#bd3786\"],[0.5555555555555556,\"#d8576b\"],[0.6666666666666666,\"#ed7953\"],[0.7777777777777778,\"#fb9f3a\"],[0.8888888888888888,\"#fdca26\"],[1.0,\"#f0f921\"]]}],\"heatmapgl\":[{\"type\":\"heatmapgl\",\"colorbar\":{\"outlinewidth\":0,\"ticks\":\"\"},\"colorscale\":[[0.0,\"#0d0887\"],[0.1111111111111111,\"#46039f\"],[0.2222222222222222,\"#7201a8\"],[0.3333333333333333,\"#9c179e\"],[0.4444444444444444,\"#bd3786\"],[0.5555555555555556,\"#d8576b\"],[0.6666666666666666,\"#ed7953\"],[0.7777777777777778,\"#fb9f3a\"],[0.8888888888888888,\"#fdca26\"],[1.0,\"#f0f921\"]]}],\"contourcarpet\":[{\"type\":\"contourcarpet\",\"colorbar\":{\"outlinewidth\":0,\"ticks\":\"\"}}],\"contour\":[{\"type\":\"contour\",\"colorbar\":{\"outlinewidth\":0,\"ticks\":\"\"},\"colorscale\":[[0.0,\"#0d0887\"],[0.1111111111111111,\"#46039f\"],[0.2222222222222222,\"#7201a8\"],[0.3333333333333333,\"#9c179e\"],[0.4444444444444444,\"#bd3786\"],[0.5555555555555556,\"#d8576b\"],[0.6666666666666666,\"#ed7953\"],[0.7777777777777778,\"#fb9f3a\"],[0.8888888888888888,\"#fdca26\"],[1.0,\"#f0f921\"]]}],\"surface\":[{\"type\":\"surface\",\"colorbar\":{\"outlinewidth\":0,\"ticks\":\"\"},\"colorscale\":[[0.0,\"#0d0887\"],[0.1111111111111111,\"#46039f\"],[0.2222222222222222,\"#7201a8\"],[0.3333333333333333,\"#9c179e\"],[0.4444444444444444,\"#bd3786\"],[0.5555555555555556,\"#d8576b\"],[0.6666666666666666,\"#ed7953\"],[0.7777777777777778,\"#fb9f3a\"],[0.8888888888888888,\"#fdca26\"],[1.0,\"#f0f921\"]]}],\"mesh3d\":[{\"type\":\"mesh3d\",\"colorbar\":{\"outlinewidth\":0,\"ticks\":\"\"}}],\"scatter\":[{\"marker\":{\"line\":{\"color\":\"#283442\"}},\"type\":\"scatter\"}],\"parcoords\":[{\"type\":\"parcoords\",\"line\":{\"colorbar\":{\"outlinewidth\":0,\"ticks\":\"\"}}}],\"scatterpolargl\":[{\"type\":\"scatterpolargl\",\"marker\":{\"colorbar\":{\"outlinewidth\":0,\"ticks\":\"\"}}}],\"bar\":[{\"error_x\":{\"color\":\"#f2f5fa\"},\"error_y\":{\"color\":\"#f2f5fa\"},\"marker\":{\"line\":{\"color\":\"rgb(17,17,17)\",\"width\":0.5},\"pattern\":{\"fillmode\":\"overlay\",\"size\":10,\"solidity\":0.2}},\"type\":\"bar\"}],\"scattergeo\":[{\"type\":\"scattergeo\",\"marker\":{\"colorbar\":{\"outlinewidth\":0,\"ticks\":\"\"}}}],\"scatterpolar\":[{\"type\":\"scatterpolar\",\"marker\":{\"colorbar\":{\"outlinewidth\":0,\"ticks\":\"\"}}}],\"histogram\":[{\"marker\":{\"pattern\":{\"fillmode\":\"overlay\",\"size\":10,\"solidity\":0.2}},\"type\":\"histogram\"}],\"scattergl\":[{\"marker\":{\"line\":{\"color\":\"#283442\"}},\"type\":\"scattergl\"}],\"scatter3d\":[{\"type\":\"scatter3d\",\"line\":{\"colorbar\":{\"outlinewidth\":0,\"ticks\":\"\"}},\"marker\":{\"colorbar\":{\"outlinewidth\":0,\"ticks\":\"\"}}}],\"scattermapbox\":[{\"type\":\"scattermapbox\",\"marker\":{\"colorbar\":{\"outlinewidth\":0,\"ticks\":\"\"}}}],\"scatterternary\":[{\"type\":\"scatterternary\",\"marker\":{\"colorbar\":{\"outlinewidth\":0,\"ticks\":\"\"}}}],\"scattercarpet\":[{\"type\":\"scattercarpet\",\"marker\":{\"colorbar\":{\"outlinewidth\":0,\"ticks\":\"\"}}}],\"carpet\":[{\"aaxis\":{\"endlinecolor\":\"#A2B1C6\",\"gridcolor\":\"#506784\",\"linecolor\":\"#506784\",\"minorgridcolor\":\"#506784\",\"startlinecolor\":\"#A2B1C6\"},\"baxis\":{\"endlinecolor\":\"#A2B1C6\",\"gridcolor\":\"#506784\",\"linecolor\":\"#506784\",\"minorgridcolor\":\"#506784\",\"startlinecolor\":\"#A2B1C6\"},\"type\":\"carpet\"}],\"table\":[{\"cells\":{\"fill\":{\"color\":\"#506784\"},\"line\":{\"color\":\"rgb(17,17,17)\"}},\"header\":{\"fill\":{\"color\":\"#2a3f5f\"},\"line\":{\"color\":\"rgb(17,17,17)\"}},\"type\":\"table\"}],\"barpolar\":[{\"marker\":{\"line\":{\"color\":\"rgb(17,17,17)\",\"width\":0.5},\"pattern\":{\"fillmode\":\"overlay\",\"size\":10,\"solidity\":0.2}},\"type\":\"barpolar\"}],\"pie\":[{\"automargin\":true,\"type\":\"pie\"}]},\"layout\":{\"autotypenumbers\":\"strict\",\"colorway\":[\"#636efa\",\"#EF553B\",\"#00cc96\",\"#ab63fa\",\"#FFA15A\",\"#19d3f3\",\"#FF6692\",\"#B6E880\",\"#FF97FF\",\"#FECB52\"],\"font\":{\"color\":\"#f2f5fa\"},\"hovermode\":\"closest\",\"hoverlabel\":{\"align\":\"left\"},\"paper_bgcolor\":\"rgb(17,17,17)\",\"plot_bgcolor\":\"rgb(17,17,17)\",\"polar\":{\"bgcolor\":\"rgb(17,17,17)\",\"angularaxis\":{\"gridcolor\":\"#506784\",\"linecolor\":\"#506784\",\"ticks\":\"\"},\"radialaxis\":{\"gridcolor\":\"#506784\",\"linecolor\":\"#506784\",\"ticks\":\"\"}},\"ternary\":{\"bgcolor\":\"rgb(17,17,17)\",\"aaxis\":{\"gridcolor\":\"#506784\",\"linecolor\":\"#506784\",\"ticks\":\"\"},\"baxis\":{\"gridcolor\":\"#506784\",\"linecolor\":\"#506784\",\"ticks\":\"\"},\"caxis\":{\"gridcolor\":\"#506784\",\"linecolor\":\"#506784\",\"ticks\":\"\"}},\"coloraxis\":{\"colorbar\":{\"outlinewidth\":0,\"ticks\":\"\"}},\"colorscale\":{\"sequential\":[[0.0,\"#0d0887\"],[0.1111111111111111,\"#46039f\"],[0.2222222222222222,\"#7201a8\"],[0.3333333333333333,\"#9c179e\"],[0.4444444444444444,\"#bd3786\"],[0.5555555555555556,\"#d8576b\"],[0.6666666666666666,\"#ed7953\"],[0.7777777777777778,\"#fb9f3a\"],[0.8888888888888888,\"#fdca26\"],[1.0,\"#f0f921\"]],\"sequentialminus\":[[0.0,\"#0d0887\"],[0.1111111111111111,\"#46039f\"],[0.2222222222222222,\"#7201a8\"],[0.3333333333333333,\"#9c179e\"],[0.4444444444444444,\"#bd3786\"],[0.5555555555555556,\"#d8576b\"],[0.6666666666666666,\"#ed7953\"],[0.7777777777777778,\"#fb9f3a\"],[0.8888888888888888,\"#fdca26\"],[1.0,\"#f0f921\"]],\"diverging\":[[0,\"#8e0152\"],[0.1,\"#c51b7d\"],[0.2,\"#de77ae\"],[0.3,\"#f1b6da\"],[0.4,\"#fde0ef\"],[0.5,\"#f7f7f7\"],[0.6,\"#e6f5d0\"],[0.7,\"#b8e186\"],[0.8,\"#7fbc41\"],[0.9,\"#4d9221\"],[1,\"#276419\"]]},\"xaxis\":{\"gridcolor\":\"#283442\",\"linecolor\":\"#506784\",\"ticks\":\"\",\"title\":{\"standoff\":15},\"zerolinecolor\":\"#283442\",\"automargin\":true,\"zerolinewidth\":2},\"yaxis\":{\"gridcolor\":\"#283442\",\"linecolor\":\"#506784\",\"ticks\":\"\",\"title\":{\"standoff\":15},\"zerolinecolor\":\"#283442\",\"automargin\":true,\"zerolinewidth\":2},\"scene\":{\"xaxis\":{\"backgroundcolor\":\"rgb(17,17,17)\",\"gridcolor\":\"#506784\",\"linecolor\":\"#506784\",\"showbackground\":true,\"ticks\":\"\",\"zerolinecolor\":\"#C8D4E3\",\"gridwidth\":2},\"yaxis\":{\"backgroundcolor\":\"rgb(17,17,17)\",\"gridcolor\":\"#506784\",\"linecolor\":\"#506784\",\"showbackground\":true,\"ticks\":\"\",\"zerolinecolor\":\"#C8D4E3\",\"gridwidth\":2},\"zaxis\":{\"backgroundcolor\":\"rgb(17,17,17)\",\"gridcolor\":\"#506784\",\"linecolor\":\"#506784\",\"showbackground\":true,\"ticks\":\"\",\"zerolinecolor\":\"#C8D4E3\",\"gridwidth\":2}},\"shapedefaults\":{\"line\":{\"color\":\"#f2f5fa\"}},\"annotationdefaults\":{\"arrowcolor\":\"#f2f5fa\",\"arrowhead\":0,\"arrowwidth\":1},\"geo\":{\"bgcolor\":\"rgb(17,17,17)\",\"landcolor\":\"rgb(17,17,17)\",\"subunitcolor\":\"#506784\",\"showland\":true,\"showlakes\":true,\"lakecolor\":\"rgb(17,17,17)\"},\"title\":{\"x\":0.05},\"updatemenudefaults\":{\"bgcolor\":\"#506784\",\"borderwidth\":0},\"sliderdefaults\":{\"bgcolor\":\"#C8D4E3\",\"borderwidth\":1,\"bordercolor\":\"rgb(17,17,17)\",\"tickwidth\":0},\"mapbox\":{\"style\":\"dark\"}}},\"margin\":{\"l\":20,\"r\":20,\"t\":20,\"b\":20},\"font\":{\"color\":\"black\"},\"height\":600,\"width\":600,\"paper_bgcolor\":\"white\",\"plot_bgcolor\":\"white\",\"showlegend\":false},                        {\"responsive\": true}                    ).then(function(){\n",
       "                            \n",
       "var gd = document.getElementById('552a45f8-d5cd-4973-b8a1-e3fb867759da');\n",
       "var x = new MutationObserver(function (mutations, observer) {{\n",
       "        var display = window.getComputedStyle(gd).display;\n",
       "        if (!display || display === 'none') {{\n",
       "            console.log([gd, 'removed!']);\n",
       "            Plotly.purge(gd);\n",
       "            observer.disconnect();\n",
       "        }}\n",
       "}});\n",
       "\n",
       "// Listen for the removal of the full notebook cells\n",
       "var notebookContainer = gd.closest('#notebook-container');\n",
       "if (notebookContainer) {{\n",
       "    x.observe(notebookContainer, {childList: true});\n",
       "}}\n",
       "\n",
       "// Listen for the clearing of the current output cell\n",
       "var outputEl = gd.closest('.output');\n",
       "if (outputEl) {{\n",
       "    x.observe(outputEl, {childList: true});\n",
       "}}\n",
       "\n",
       "                        })                };                });            </script>        </div>"
      ]
     },
     "metadata": {},
     "output_type": "display_data"
    }
   ],
   "execution_count": 370
  },
  {
   "metadata": {},
   "cell_type": "markdown",
   "source": "#### Overview table",
   "id": "6a707bc8ca2c4a74"
  },
  {
   "metadata": {
    "ExecuteTime": {
     "end_time": "2025-06-08T14:05:40.420381Z",
     "start_time": "2025-06-08T14:05:40.392128Z"
    }
   },
   "cell_type": "code",
   "source": [
    "importlib.reload(mpt_utils)\n",
    "# Create overview\n",
    "mpt_utils.generate_overview_table(weights_all_6m, mu_6m, S_6m, df_pct)"
   ],
   "id": "9d7b4575e5ced0d8",
   "outputs": [
    {
     "data": {
      "text/plain": [
       "         Share Count  Average Covariance Average Returns  \\\n",
       "TPE.DE             1           -0.039362          15.02%   \n",
       "7575.T             1           -0.025532          16.58%   \n",
       "2471.T             1           -0.024255          27.14%   \n",
       "TAL                1           -0.005106           5.02%   \n",
       "SLP                1            0.015319          19.12%   \n",
       "SRT3.DE            1           -0.008511          13.36%   \n",
       "ADUS               1           -0.012766          54.84%   \n",
       "NSSC               1           -0.012766          16.43%   \n",
       "PAR                1           -0.049787           2.03%   \n",
       "MKTX               1            0.015532          41.17%   \n",
       "7564.T             1           -0.497872          27.73%   \n",
       "4816.T             3           -0.001064          29.16%   \n",
       "CENT               1           -0.009149          22.15%   \n",
       "PAYC               1           -0.014255          22.94%   \n",
       "VAR1.DE            1           -0.000213          57.02%   \n",
       "BURL               1            0.001064          30.22%   \n",
       "AOF.DE             1           -0.010426          48.49%   \n",
       "FLGT               2           -0.037872          21.99%   \n",
       "7832.T             1            0.006809          33.17%   \n",
       "ITI                3           -0.016596          28.74%   \n",
       "2685.T             2            0.012128          51.28%   \n",
       "2733.T             1            0.002128          47.25%   \n",
       "NVDA               1           -0.006809          20.49%   \n",
       "9697.T             3           -0.006596          39.92%   \n",
       "BVB.DE             1            0.025532          34.43%   \n",
       "MITK               1            0.028936           8.95%   \n",
       "7508.T             2            0.001915           9.56%   \n",
       "7780.T             1            0.005106          33.78%   \n",
       "2170.T             2           -0.018511          47.30%   \n",
       "4549.T             1            0.011489          35.13%   \n",
       "7458.T             1           -0.010638           4.62%   \n",
       "EBF                1           -0.007872          15.77%   \n",
       "2124.T             3           -0.012128          61.94%   \n",
       "MPX                1           -0.003404          19.94%   \n",
       "3659.T             1            0.011277          22.23%   \n",
       "4218.T             1           -0.014894          52.84%   \n",
       "APLD               4           -0.003617          19.76%   \n",
       "9470.T             1            0.009787          56.10%   \n",
       "ECV.DE             1            0.007234          34.94%   \n",
       "2874.T             2            0.002766          29.54%   \n",
       "7944.T            16           -0.065319          12.67%   \n",
       "8141.T             1            0.002553          27.22%   \n",
       "3050.T             1            0.007021           6.25%   \n",
       "3635.T             1            0.001277          10.67%   \n",
       "7906.T             1           -0.011064          16.71%   \n",
       "9143.T             1           -0.007872          79.62%   \n",
       "9434.T             1            0.003191          92.19%   \n",
       "O5G.DE            10            0.001915           6.07%   \n",
       "\n",
       "        Return Last 12 Months Return (Actual) Next 12 Months  \n",
       "TPE.DE                 -6.28%                          3.02%  \n",
       "7575.T                  4.51%                        -17.45%  \n",
       "2471.T                119.57%                         24.38%  \n",
       "TAL                    48.59%                        120.88%  \n",
       "SLP                    77.26%                        118.41%  \n",
       "SRT3.DE                36.06%                        109.75%  \n",
       "ADUS                   30.00%                         19.98%  \n",
       "NSSC                  118.24%                         -8.54%  \n",
       "PAR                    41.04%                         70.88%  \n",
       "MKTX                   77.62%                         49.93%  \n",
       "7564.T                123.19%                         18.42%  \n",
       "4816.T                 33.20%                         39.47%  \n",
       "CENT                   -5.64%                         36.67%  \n",
       "PAYC                   69.71%                         47.99%  \n",
       "VAR1.DE               261.53%                         32.91%  \n",
       "BURL                   13.37%                          1.41%  \n",
       "AOF.DE                 79.41%                        115.37%  \n",
       "FLGT                  167.34%                        289.41%  \n",
       "7832.T                 69.14%                         15.79%  \n",
       "ITI                    26.17%                        -29.74%  \n",
       "2685.T                 49.31%                        -30.06%  \n",
       "2733.T                -20.01%                         36.51%  \n",
       "NVDA                   -3.33%                        209.80%  \n",
       "9697.T                 11.14%                        102.53%  \n",
       "BVB.DE                -10.30%                        -43.42%  \n",
       "MITK                    4.09%                         30.91%  \n",
       "7508.T                 48.97%                         72.08%  \n",
       "7780.T                 53.74%                         86.15%  \n",
       "2170.T                -46.71%                        -26.60%  \n",
       "4549.T                -30.88%                         29.95%  \n",
       "7458.T                  1.43%                        -31.61%  \n",
       "EBF                     5.85%                        -10.73%  \n",
       "2124.T                  2.69%                        -32.69%  \n",
       "MPX                   -31.47%                         16.83%  \n",
       "3659.T                 -1.83%                        105.09%  \n",
       "4218.T                -15.26%                          5.34%  \n",
       "APLD                   -6.98%                          3.37%  \n",
       "9470.T                  5.96%                         22.39%  \n",
       "ECV.DE                 55.18%                        100.63%  \n",
       "2874.T                 22.31%                        -10.26%  \n",
       "7944.T               -467.40%                        876.44%  \n",
       "8141.T                 21.46%                          2.18%  \n",
       "3050.T                  1.46%                         40.24%  \n",
       "3635.T                 41.14%                        119.76%  \n",
       "7906.T                 -8.97%                         19.54%  \n",
       "9143.T                 -3.46%                        111.16%  \n",
       "9434.T                 13.48%                        -15.15%  \n",
       "O5G.DE                 -0.04%                         -2.04%  "
      ],
      "text/html": [
       "<div>\n",
       "<style scoped>\n",
       "    .dataframe tbody tr th:only-of-type {\n",
       "        vertical-align: middle;\n",
       "    }\n",
       "\n",
       "    .dataframe tbody tr th {\n",
       "        vertical-align: top;\n",
       "    }\n",
       "\n",
       "    .dataframe thead th {\n",
       "        text-align: right;\n",
       "    }\n",
       "</style>\n",
       "<table border=\"1\" class=\"dataframe\">\n",
       "  <thead>\n",
       "    <tr style=\"text-align: right;\">\n",
       "      <th></th>\n",
       "      <th>Share Count</th>\n",
       "      <th>Average Covariance</th>\n",
       "      <th>Average Returns</th>\n",
       "      <th>Return Last 12 Months</th>\n",
       "      <th>Return (Actual) Next 12 Months</th>\n",
       "    </tr>\n",
       "  </thead>\n",
       "  <tbody>\n",
       "    <tr>\n",
       "      <th>TPE.DE</th>\n",
       "      <td>1</td>\n",
       "      <td>-0.039362</td>\n",
       "      <td>15.02%</td>\n",
       "      <td>-6.28%</td>\n",
       "      <td>3.02%</td>\n",
       "    </tr>\n",
       "    <tr>\n",
       "      <th>7575.T</th>\n",
       "      <td>1</td>\n",
       "      <td>-0.025532</td>\n",
       "      <td>16.58%</td>\n",
       "      <td>4.51%</td>\n",
       "      <td>-17.45%</td>\n",
       "    </tr>\n",
       "    <tr>\n",
       "      <th>2471.T</th>\n",
       "      <td>1</td>\n",
       "      <td>-0.024255</td>\n",
       "      <td>27.14%</td>\n",
       "      <td>119.57%</td>\n",
       "      <td>24.38%</td>\n",
       "    </tr>\n",
       "    <tr>\n",
       "      <th>TAL</th>\n",
       "      <td>1</td>\n",
       "      <td>-0.005106</td>\n",
       "      <td>5.02%</td>\n",
       "      <td>48.59%</td>\n",
       "      <td>120.88%</td>\n",
       "    </tr>\n",
       "    <tr>\n",
       "      <th>SLP</th>\n",
       "      <td>1</td>\n",
       "      <td>0.015319</td>\n",
       "      <td>19.12%</td>\n",
       "      <td>77.26%</td>\n",
       "      <td>118.41%</td>\n",
       "    </tr>\n",
       "    <tr>\n",
       "      <th>SRT3.DE</th>\n",
       "      <td>1</td>\n",
       "      <td>-0.008511</td>\n",
       "      <td>13.36%</td>\n",
       "      <td>36.06%</td>\n",
       "      <td>109.75%</td>\n",
       "    </tr>\n",
       "    <tr>\n",
       "      <th>ADUS</th>\n",
       "      <td>1</td>\n",
       "      <td>-0.012766</td>\n",
       "      <td>54.84%</td>\n",
       "      <td>30.00%</td>\n",
       "      <td>19.98%</td>\n",
       "    </tr>\n",
       "    <tr>\n",
       "      <th>NSSC</th>\n",
       "      <td>1</td>\n",
       "      <td>-0.012766</td>\n",
       "      <td>16.43%</td>\n",
       "      <td>118.24%</td>\n",
       "      <td>-8.54%</td>\n",
       "    </tr>\n",
       "    <tr>\n",
       "      <th>PAR</th>\n",
       "      <td>1</td>\n",
       "      <td>-0.049787</td>\n",
       "      <td>2.03%</td>\n",
       "      <td>41.04%</td>\n",
       "      <td>70.88%</td>\n",
       "    </tr>\n",
       "    <tr>\n",
       "      <th>MKTX</th>\n",
       "      <td>1</td>\n",
       "      <td>0.015532</td>\n",
       "      <td>41.17%</td>\n",
       "      <td>77.62%</td>\n",
       "      <td>49.93%</td>\n",
       "    </tr>\n",
       "    <tr>\n",
       "      <th>7564.T</th>\n",
       "      <td>1</td>\n",
       "      <td>-0.497872</td>\n",
       "      <td>27.73%</td>\n",
       "      <td>123.19%</td>\n",
       "      <td>18.42%</td>\n",
       "    </tr>\n",
       "    <tr>\n",
       "      <th>4816.T</th>\n",
       "      <td>3</td>\n",
       "      <td>-0.001064</td>\n",
       "      <td>29.16%</td>\n",
       "      <td>33.20%</td>\n",
       "      <td>39.47%</td>\n",
       "    </tr>\n",
       "    <tr>\n",
       "      <th>CENT</th>\n",
       "      <td>1</td>\n",
       "      <td>-0.009149</td>\n",
       "      <td>22.15%</td>\n",
       "      <td>-5.64%</td>\n",
       "      <td>36.67%</td>\n",
       "    </tr>\n",
       "    <tr>\n",
       "      <th>PAYC</th>\n",
       "      <td>1</td>\n",
       "      <td>-0.014255</td>\n",
       "      <td>22.94%</td>\n",
       "      <td>69.71%</td>\n",
       "      <td>47.99%</td>\n",
       "    </tr>\n",
       "    <tr>\n",
       "      <th>VAR1.DE</th>\n",
       "      <td>1</td>\n",
       "      <td>-0.000213</td>\n",
       "      <td>57.02%</td>\n",
       "      <td>261.53%</td>\n",
       "      <td>32.91%</td>\n",
       "    </tr>\n",
       "    <tr>\n",
       "      <th>BURL</th>\n",
       "      <td>1</td>\n",
       "      <td>0.001064</td>\n",
       "      <td>30.22%</td>\n",
       "      <td>13.37%</td>\n",
       "      <td>1.41%</td>\n",
       "    </tr>\n",
       "    <tr>\n",
       "      <th>AOF.DE</th>\n",
       "      <td>1</td>\n",
       "      <td>-0.010426</td>\n",
       "      <td>48.49%</td>\n",
       "      <td>79.41%</td>\n",
       "      <td>115.37%</td>\n",
       "    </tr>\n",
       "    <tr>\n",
       "      <th>FLGT</th>\n",
       "      <td>2</td>\n",
       "      <td>-0.037872</td>\n",
       "      <td>21.99%</td>\n",
       "      <td>167.34%</td>\n",
       "      <td>289.41%</td>\n",
       "    </tr>\n",
       "    <tr>\n",
       "      <th>7832.T</th>\n",
       "      <td>1</td>\n",
       "      <td>0.006809</td>\n",
       "      <td>33.17%</td>\n",
       "      <td>69.14%</td>\n",
       "      <td>15.79%</td>\n",
       "    </tr>\n",
       "    <tr>\n",
       "      <th>ITI</th>\n",
       "      <td>3</td>\n",
       "      <td>-0.016596</td>\n",
       "      <td>28.74%</td>\n",
       "      <td>26.17%</td>\n",
       "      <td>-29.74%</td>\n",
       "    </tr>\n",
       "    <tr>\n",
       "      <th>2685.T</th>\n",
       "      <td>2</td>\n",
       "      <td>0.012128</td>\n",
       "      <td>51.28%</td>\n",
       "      <td>49.31%</td>\n",
       "      <td>-30.06%</td>\n",
       "    </tr>\n",
       "    <tr>\n",
       "      <th>2733.T</th>\n",
       "      <td>1</td>\n",
       "      <td>0.002128</td>\n",
       "      <td>47.25%</td>\n",
       "      <td>-20.01%</td>\n",
       "      <td>36.51%</td>\n",
       "    </tr>\n",
       "    <tr>\n",
       "      <th>NVDA</th>\n",
       "      <td>1</td>\n",
       "      <td>-0.006809</td>\n",
       "      <td>20.49%</td>\n",
       "      <td>-3.33%</td>\n",
       "      <td>209.80%</td>\n",
       "    </tr>\n",
       "    <tr>\n",
       "      <th>9697.T</th>\n",
       "      <td>3</td>\n",
       "      <td>-0.006596</td>\n",
       "      <td>39.92%</td>\n",
       "      <td>11.14%</td>\n",
       "      <td>102.53%</td>\n",
       "    </tr>\n",
       "    <tr>\n",
       "      <th>BVB.DE</th>\n",
       "      <td>1</td>\n",
       "      <td>0.025532</td>\n",
       "      <td>34.43%</td>\n",
       "      <td>-10.30%</td>\n",
       "      <td>-43.42%</td>\n",
       "    </tr>\n",
       "    <tr>\n",
       "      <th>MITK</th>\n",
       "      <td>1</td>\n",
       "      <td>0.028936</td>\n",
       "      <td>8.95%</td>\n",
       "      <td>4.09%</td>\n",
       "      <td>30.91%</td>\n",
       "    </tr>\n",
       "    <tr>\n",
       "      <th>7508.T</th>\n",
       "      <td>2</td>\n",
       "      <td>0.001915</td>\n",
       "      <td>9.56%</td>\n",
       "      <td>48.97%</td>\n",
       "      <td>72.08%</td>\n",
       "    </tr>\n",
       "    <tr>\n",
       "      <th>7780.T</th>\n",
       "      <td>1</td>\n",
       "      <td>0.005106</td>\n",
       "      <td>33.78%</td>\n",
       "      <td>53.74%</td>\n",
       "      <td>86.15%</td>\n",
       "    </tr>\n",
       "    <tr>\n",
       "      <th>2170.T</th>\n",
       "      <td>2</td>\n",
       "      <td>-0.018511</td>\n",
       "      <td>47.30%</td>\n",
       "      <td>-46.71%</td>\n",
       "      <td>-26.60%</td>\n",
       "    </tr>\n",
       "    <tr>\n",
       "      <th>4549.T</th>\n",
       "      <td>1</td>\n",
       "      <td>0.011489</td>\n",
       "      <td>35.13%</td>\n",
       "      <td>-30.88%</td>\n",
       "      <td>29.95%</td>\n",
       "    </tr>\n",
       "    <tr>\n",
       "      <th>7458.T</th>\n",
       "      <td>1</td>\n",
       "      <td>-0.010638</td>\n",
       "      <td>4.62%</td>\n",
       "      <td>1.43%</td>\n",
       "      <td>-31.61%</td>\n",
       "    </tr>\n",
       "    <tr>\n",
       "      <th>EBF</th>\n",
       "      <td>1</td>\n",
       "      <td>-0.007872</td>\n",
       "      <td>15.77%</td>\n",
       "      <td>5.85%</td>\n",
       "      <td>-10.73%</td>\n",
       "    </tr>\n",
       "    <tr>\n",
       "      <th>2124.T</th>\n",
       "      <td>3</td>\n",
       "      <td>-0.012128</td>\n",
       "      <td>61.94%</td>\n",
       "      <td>2.69%</td>\n",
       "      <td>-32.69%</td>\n",
       "    </tr>\n",
       "    <tr>\n",
       "      <th>MPX</th>\n",
       "      <td>1</td>\n",
       "      <td>-0.003404</td>\n",
       "      <td>19.94%</td>\n",
       "      <td>-31.47%</td>\n",
       "      <td>16.83%</td>\n",
       "    </tr>\n",
       "    <tr>\n",
       "      <th>3659.T</th>\n",
       "      <td>1</td>\n",
       "      <td>0.011277</td>\n",
       "      <td>22.23%</td>\n",
       "      <td>-1.83%</td>\n",
       "      <td>105.09%</td>\n",
       "    </tr>\n",
       "    <tr>\n",
       "      <th>4218.T</th>\n",
       "      <td>1</td>\n",
       "      <td>-0.014894</td>\n",
       "      <td>52.84%</td>\n",
       "      <td>-15.26%</td>\n",
       "      <td>5.34%</td>\n",
       "    </tr>\n",
       "    <tr>\n",
       "      <th>APLD</th>\n",
       "      <td>4</td>\n",
       "      <td>-0.003617</td>\n",
       "      <td>19.76%</td>\n",
       "      <td>-6.98%</td>\n",
       "      <td>3.37%</td>\n",
       "    </tr>\n",
       "    <tr>\n",
       "      <th>9470.T</th>\n",
       "      <td>1</td>\n",
       "      <td>0.009787</td>\n",
       "      <td>56.10%</td>\n",
       "      <td>5.96%</td>\n",
       "      <td>22.39%</td>\n",
       "    </tr>\n",
       "    <tr>\n",
       "      <th>ECV.DE</th>\n",
       "      <td>1</td>\n",
       "      <td>0.007234</td>\n",
       "      <td>34.94%</td>\n",
       "      <td>55.18%</td>\n",
       "      <td>100.63%</td>\n",
       "    </tr>\n",
       "    <tr>\n",
       "      <th>2874.T</th>\n",
       "      <td>2</td>\n",
       "      <td>0.002766</td>\n",
       "      <td>29.54%</td>\n",
       "      <td>22.31%</td>\n",
       "      <td>-10.26%</td>\n",
       "    </tr>\n",
       "    <tr>\n",
       "      <th>7944.T</th>\n",
       "      <td>16</td>\n",
       "      <td>-0.065319</td>\n",
       "      <td>12.67%</td>\n",
       "      <td>-467.40%</td>\n",
       "      <td>876.44%</td>\n",
       "    </tr>\n",
       "    <tr>\n",
       "      <th>8141.T</th>\n",
       "      <td>1</td>\n",
       "      <td>0.002553</td>\n",
       "      <td>27.22%</td>\n",
       "      <td>21.46%</td>\n",
       "      <td>2.18%</td>\n",
       "    </tr>\n",
       "    <tr>\n",
       "      <th>3050.T</th>\n",
       "      <td>1</td>\n",
       "      <td>0.007021</td>\n",
       "      <td>6.25%</td>\n",
       "      <td>1.46%</td>\n",
       "      <td>40.24%</td>\n",
       "    </tr>\n",
       "    <tr>\n",
       "      <th>3635.T</th>\n",
       "      <td>1</td>\n",
       "      <td>0.001277</td>\n",
       "      <td>10.67%</td>\n",
       "      <td>41.14%</td>\n",
       "      <td>119.76%</td>\n",
       "    </tr>\n",
       "    <tr>\n",
       "      <th>7906.T</th>\n",
       "      <td>1</td>\n",
       "      <td>-0.011064</td>\n",
       "      <td>16.71%</td>\n",
       "      <td>-8.97%</td>\n",
       "      <td>19.54%</td>\n",
       "    </tr>\n",
       "    <tr>\n",
       "      <th>9143.T</th>\n",
       "      <td>1</td>\n",
       "      <td>-0.007872</td>\n",
       "      <td>79.62%</td>\n",
       "      <td>-3.46%</td>\n",
       "      <td>111.16%</td>\n",
       "    </tr>\n",
       "    <tr>\n",
       "      <th>9434.T</th>\n",
       "      <td>1</td>\n",
       "      <td>0.003191</td>\n",
       "      <td>92.19%</td>\n",
       "      <td>13.48%</td>\n",
       "      <td>-15.15%</td>\n",
       "    </tr>\n",
       "    <tr>\n",
       "      <th>O5G.DE</th>\n",
       "      <td>10</td>\n",
       "      <td>0.001915</td>\n",
       "      <td>6.07%</td>\n",
       "      <td>-0.04%</td>\n",
       "      <td>-2.04%</td>\n",
       "    </tr>\n",
       "  </tbody>\n",
       "</table>\n",
       "</div>"
      ]
     },
     "execution_count": 378,
     "metadata": {},
     "output_type": "execute_result"
    }
   ],
   "execution_count": 378
  },
  {
   "metadata": {},
   "cell_type": "markdown",
   "source": "### LSTM Univariate - 12 Months",
   "id": "f32c4b7502d9dfb9"
  },
  {
   "metadata": {},
   "cell_type": "markdown",
   "source": [
    "Get the known data (train data)\n",
    "After that, get the first 12 predicted months, or the first 12 predicted sequences of test data"
   ],
   "id": "466f499db0b4fd24"
  },
  {
   "metadata": {
    "ExecuteTime": {
     "end_time": "2025-06-08T13:55:49.692978Z",
     "start_time": "2025-06-08T13:55:49.683740Z"
    }
   },
   "cell_type": "code",
   "source": [
    "df_train = X_train[:, :, -1].clone()\n",
    "y_test_pred_12m = y_test_pred[0,:,:].T[0:12]\n",
    "y_test_pred_12m"
   ],
   "id": "1696162ee878eb39",
   "outputs": [
    {
     "data": {
      "text/plain": [
       "tensor([[-0.0099, -0.0017,  0.0086,  ...,  0.0147,  0.0081,  0.0128],\n",
       "        [-0.0555, -0.0416, -0.0237,  ...,  0.0158,  0.0128,  0.0142],\n",
       "        [ 0.0420,  0.0371,  0.0280,  ...,  0.0206,  0.0315,  0.0284],\n",
       "        ...,\n",
       "        [ 0.0157,  0.0190,  0.0209,  ...,  0.0152,  0.0114,  0.0144],\n",
       "        [ 0.0586,  0.0505,  0.0408,  ...,  0.0181,  0.0249,  0.0260],\n",
       "        [-0.0470, -0.0272, -0.0117,  ...,  0.0266,  0.0227,  0.0197]])"
      ]
     },
     "execution_count": 371,
     "metadata": {},
     "output_type": "execute_result"
    }
   ],
   "execution_count": 371
  },
  {
   "metadata": {
    "ExecuteTime": {
     "end_time": "2025-06-08T13:55:49.719225Z",
     "start_time": "2025-06-08T13:55:49.702691Z"
    }
   },
   "cell_type": "code",
   "source": [
    "df_forecast_12m = pd.DataFrame(df_train.clone())\n",
    "df_forecast_12m = pd.concat([df_forecast_12m, pd.DataFrame(y_test_pred_12m)], ignore_index=True)\n",
    "# Assign back columns and indices to make human understandable\n",
    "df_forecast_12m.columns = df.columns\n",
    "df_forecast_12m.index = df_pct[(in_seq_length - 1) : len(df_forecast_12m) + (in_seq_length - 1)].index\n",
    "#\n",
    "df_forecast_12m.tail(3)"
   ],
   "id": "38062c6ef3ea54a6",
   "outputs": [
    {
     "data": {
      "text/plain": [
       "               RS1.L        KE    TEG.DE    LEG.DE       SCS       HNI  \\\n",
       "Date                                                                     \n",
       "2020-06-01  0.015691  0.018993  0.020892  0.020854  0.015200  0.015656   \n",
       "2020-07-01  0.058608  0.050501  0.040831  0.033366  0.033835  0.033810   \n",
       "2020-08-01 -0.047012 -0.027225 -0.011695  0.000789  0.006284  0.011069   \n",
       "\n",
       "                 AVT      ACCO    VNA.DE    7912.T  ...    DEQ.DE      KIDS  \\\n",
       "Date                                                ...                       \n",
       "2020-06-01  0.017400  0.016475  0.017437  0.014194  ...  0.015332  0.014762   \n",
       "2020-07-01  0.031462  0.029820  0.025498  0.024062  ...  0.026029  0.027941   \n",
       "2020-08-01  0.015455  0.018258  0.019303  0.022020  ...  0.017684  0.021815   \n",
       "\n",
       "                HALO      MATW    9842.T      KVHI    MOON.L       NEO  \\\n",
       "Date                                                                     \n",
       "2020-06-01  0.020982  0.017755  0.017769  0.017532  0.014772  0.015169   \n",
       "2020-07-01  0.030552  0.033252  0.030063  0.030649  0.030197  0.018100   \n",
       "2020-08-01  0.021152  0.018096  0.018734  0.021494  0.021594  0.026639   \n",
       "\n",
       "              6055.T       UNP  \n",
       "Date                            \n",
       "2020-06-01  0.011357  0.014432  \n",
       "2020-07-01  0.024855  0.026024  \n",
       "2020-08-01  0.022727  0.019714  \n",
       "\n",
       "[3 rows x 1653 columns]"
      ],
      "text/html": [
       "<div>\n",
       "<style scoped>\n",
       "    .dataframe tbody tr th:only-of-type {\n",
       "        vertical-align: middle;\n",
       "    }\n",
       "\n",
       "    .dataframe tbody tr th {\n",
       "        vertical-align: top;\n",
       "    }\n",
       "\n",
       "    .dataframe thead th {\n",
       "        text-align: right;\n",
       "    }\n",
       "</style>\n",
       "<table border=\"1\" class=\"dataframe\">\n",
       "  <thead>\n",
       "    <tr style=\"text-align: right;\">\n",
       "      <th></th>\n",
       "      <th>RS1.L</th>\n",
       "      <th>KE</th>\n",
       "      <th>TEG.DE</th>\n",
       "      <th>LEG.DE</th>\n",
       "      <th>SCS</th>\n",
       "      <th>HNI</th>\n",
       "      <th>AVT</th>\n",
       "      <th>ACCO</th>\n",
       "      <th>VNA.DE</th>\n",
       "      <th>7912.T</th>\n",
       "      <th>...</th>\n",
       "      <th>DEQ.DE</th>\n",
       "      <th>KIDS</th>\n",
       "      <th>HALO</th>\n",
       "      <th>MATW</th>\n",
       "      <th>9842.T</th>\n",
       "      <th>KVHI</th>\n",
       "      <th>MOON.L</th>\n",
       "      <th>NEO</th>\n",
       "      <th>6055.T</th>\n",
       "      <th>UNP</th>\n",
       "    </tr>\n",
       "    <tr>\n",
       "      <th>Date</th>\n",
       "      <th></th>\n",
       "      <th></th>\n",
       "      <th></th>\n",
       "      <th></th>\n",
       "      <th></th>\n",
       "      <th></th>\n",
       "      <th></th>\n",
       "      <th></th>\n",
       "      <th></th>\n",
       "      <th></th>\n",
       "      <th></th>\n",
       "      <th></th>\n",
       "      <th></th>\n",
       "      <th></th>\n",
       "      <th></th>\n",
       "      <th></th>\n",
       "      <th></th>\n",
       "      <th></th>\n",
       "      <th></th>\n",
       "      <th></th>\n",
       "      <th></th>\n",
       "    </tr>\n",
       "  </thead>\n",
       "  <tbody>\n",
       "    <tr>\n",
       "      <th>2020-06-01</th>\n",
       "      <td>0.015691</td>\n",
       "      <td>0.018993</td>\n",
       "      <td>0.020892</td>\n",
       "      <td>0.020854</td>\n",
       "      <td>0.015200</td>\n",
       "      <td>0.015656</td>\n",
       "      <td>0.017400</td>\n",
       "      <td>0.016475</td>\n",
       "      <td>0.017437</td>\n",
       "      <td>0.014194</td>\n",
       "      <td>...</td>\n",
       "      <td>0.015332</td>\n",
       "      <td>0.014762</td>\n",
       "      <td>0.020982</td>\n",
       "      <td>0.017755</td>\n",
       "      <td>0.017769</td>\n",
       "      <td>0.017532</td>\n",
       "      <td>0.014772</td>\n",
       "      <td>0.015169</td>\n",
       "      <td>0.011357</td>\n",
       "      <td>0.014432</td>\n",
       "    </tr>\n",
       "    <tr>\n",
       "      <th>2020-07-01</th>\n",
       "      <td>0.058608</td>\n",
       "      <td>0.050501</td>\n",
       "      <td>0.040831</td>\n",
       "      <td>0.033366</td>\n",
       "      <td>0.033835</td>\n",
       "      <td>0.033810</td>\n",
       "      <td>0.031462</td>\n",
       "      <td>0.029820</td>\n",
       "      <td>0.025498</td>\n",
       "      <td>0.024062</td>\n",
       "      <td>...</td>\n",
       "      <td>0.026029</td>\n",
       "      <td>0.027941</td>\n",
       "      <td>0.030552</td>\n",
       "      <td>0.033252</td>\n",
       "      <td>0.030063</td>\n",
       "      <td>0.030649</td>\n",
       "      <td>0.030197</td>\n",
       "      <td>0.018100</td>\n",
       "      <td>0.024855</td>\n",
       "      <td>0.026024</td>\n",
       "    </tr>\n",
       "    <tr>\n",
       "      <th>2020-08-01</th>\n",
       "      <td>-0.047012</td>\n",
       "      <td>-0.027225</td>\n",
       "      <td>-0.011695</td>\n",
       "      <td>0.000789</td>\n",
       "      <td>0.006284</td>\n",
       "      <td>0.011069</td>\n",
       "      <td>0.015455</td>\n",
       "      <td>0.018258</td>\n",
       "      <td>0.019303</td>\n",
       "      <td>0.022020</td>\n",
       "      <td>...</td>\n",
       "      <td>0.017684</td>\n",
       "      <td>0.021815</td>\n",
       "      <td>0.021152</td>\n",
       "      <td>0.018096</td>\n",
       "      <td>0.018734</td>\n",
       "      <td>0.021494</td>\n",
       "      <td>0.021594</td>\n",
       "      <td>0.026639</td>\n",
       "      <td>0.022727</td>\n",
       "      <td>0.019714</td>\n",
       "    </tr>\n",
       "  </tbody>\n",
       "</table>\n",
       "<p>3 rows × 1653 columns</p>\n",
       "</div>"
      ]
     },
     "execution_count": 372,
     "metadata": {},
     "output_type": "execute_result"
    }
   ],
   "execution_count": 372
  },
  {
   "metadata": {
    "ExecuteTime": {
     "end_time": "2025-06-08T13:56:01.580757Z",
     "start_time": "2025-06-08T13:55:49.817805Z"
    }
   },
   "cell_type": "code",
   "source": [
    "importlib.reload(lstm_utils)\n",
    "importlib.reload(mpt_utils)\n",
    "\n",
    "weights_12m, mu_12m, S_12m, weights_all_12m = mpt_utils.portfolio_and_plot(df_forecast_12m, df)"
   ],
   "id": "8558fe3a04872818",
   "outputs": [
    {
     "name": "stdout",
     "output_type": "stream",
     "text": [
      "Expected annual return: 28.2%\n",
      "Annual volatility: 15.7%\n",
      "Sharpe Ratio: 1.67\n",
      "-- Allocation --\n",
      "{'TAL': 1, 'TPE.DE': 2, 'SLP': 1, '2471.T': 1, '7575.T': 1, 'PAR': 1, 'BURL': 1, 'MKTX': 1, 'ADUS': 1, 'PLUS.L': 1, 'RGLD': 1, 'NSSC': 1, 'AMD': 1, 'AWK': 1, 'PSDL.L': 1, '7780.T': 1, '4816.T': 3, 'BVB.DE': 2, 'FLGT': 2, '2170.T': 3, 'LOVE': 3, '7947.T': 1, 'APLD': 7, '6814.T': 5, 'IOT': 1, 'MITK': 1, '4549.T': 2, '7458.T': 2, '3050.T': 4, 'IVAC': 5, 'BFSA.DE': 1, 'MPX': 1, '9470.T': 1, '1925.T': 1, 'EVLV': 7, 'EBF': 1, '9697.T': 2, 'ENR.DE': 2, 'AGNC': 1, 'FBRT': 1, '2124.T': 3, '9434.T': 2, '7944.T': 17, 'UDMY': 1, '9831.T': 5, 'CRSR': 1, '4751.T': 1, '9143.T': 1, 'ACEL': 1, '2685.T': 1, 'THRY': 1, '3151.T': 1, 'DOLE': 1, '8141.T': 1, 'LAUR': 1, 'RNW': 1, 'LSEA': 1, 'MIR': 1, 'INS.DE': 1, 'ALIT': 1}\n",
      "-- Weights Percentage --\n",
      "{'RGLD': 0.0306, 'MKTX': 0.0329, 'AMD': 0.028, '7780.T': 0.0267, 'BVB.DE': 0.0235, 'NSSC': 0.028, 'BURL': 0.0355, 'PSDL.L': 0.0277, 'TPE.DE': 0.0437, 'PAR': 0.0358, 'SLP': 0.042, '4816.T': 0.0257, '7575.T': 0.0388, 'TAL': 0.0443, 'FLGT': 0.0225, 'ADUS': 0.0313, 'AWK': 0.0277, 'PLUS.L': 0.031, '2471.T': 0.0404, 'Other(41)': 0.3838}\n"
     ]
    },
    {
     "name": "stderr",
     "output_type": "stream",
     "text": [
      "/Users/herbishtini/anaconda3/envs/portfolio_optimisation/lib/python3.11/site-packages/pypfopt/discrete_allocation.py:27: FutureWarning:\n",
      "\n",
      "Downcasting object dtype arrays on .fillna, .ffill, .bfill is deprecated and will change in a future version. Call result.infer_objects(copy=False) instead. To opt-in to the future behavior, set `pd.set_option('future.no_silent_downcasting', True)`\n",
      "\n"
     ]
    },
    {
     "data": {
      "application/vnd.plotly.v1+json": {
       "data": [
        {
         "hole": 0.3,
         "insidetextorientation": "radial",
         "labels": [
          "RGLD",
          "MKTX",
          "AMD",
          "7780.T",
          "BVB.DE",
          "NSSC",
          "BURL",
          "PSDL.L",
          "TPE.DE",
          "PAR",
          "SLP",
          "4816.T",
          "7575.T",
          "TAL",
          "FLGT",
          "ADUS",
          "AWK",
          "PLUS.L",
          "2471.T",
          "Other(41)"
         ],
         "textinfo": "label+percent",
         "textposition": "inside",
         "values": [
          0.0094,
          0.0101,
          0.0086,
          0.0082,
          0.0072,
          0.0086,
          0.0109,
          0.0085,
          0.0134,
          0.011,
          0.0129,
          0.0079,
          0.0119,
          0.0136,
          0.0069,
          0.0096,
          0.0085,
          0.0095,
          0.0124,
          0.1178
         ],
         "type": "pie"
        }
       ],
       "layout": {
        "template": {
         "data": {
          "histogram2dcontour": [
           {
            "type": "histogram2dcontour",
            "colorbar": {
             "outlinewidth": 0,
             "ticks": ""
            },
            "colorscale": [
             [
              0.0,
              "#0d0887"
             ],
             [
              0.1111111111111111,
              "#46039f"
             ],
             [
              0.2222222222222222,
              "#7201a8"
             ],
             [
              0.3333333333333333,
              "#9c179e"
             ],
             [
              0.4444444444444444,
              "#bd3786"
             ],
             [
              0.5555555555555556,
              "#d8576b"
             ],
             [
              0.6666666666666666,
              "#ed7953"
             ],
             [
              0.7777777777777778,
              "#fb9f3a"
             ],
             [
              0.8888888888888888,
              "#fdca26"
             ],
             [
              1.0,
              "#f0f921"
             ]
            ]
           }
          ],
          "choropleth": [
           {
            "type": "choropleth",
            "colorbar": {
             "outlinewidth": 0,
             "ticks": ""
            }
           }
          ],
          "histogram2d": [
           {
            "type": "histogram2d",
            "colorbar": {
             "outlinewidth": 0,
             "ticks": ""
            },
            "colorscale": [
             [
              0.0,
              "#0d0887"
             ],
             [
              0.1111111111111111,
              "#46039f"
             ],
             [
              0.2222222222222222,
              "#7201a8"
             ],
             [
              0.3333333333333333,
              "#9c179e"
             ],
             [
              0.4444444444444444,
              "#bd3786"
             ],
             [
              0.5555555555555556,
              "#d8576b"
             ],
             [
              0.6666666666666666,
              "#ed7953"
             ],
             [
              0.7777777777777778,
              "#fb9f3a"
             ],
             [
              0.8888888888888888,
              "#fdca26"
             ],
             [
              1.0,
              "#f0f921"
             ]
            ]
           }
          ],
          "heatmap": [
           {
            "type": "heatmap",
            "colorbar": {
             "outlinewidth": 0,
             "ticks": ""
            },
            "colorscale": [
             [
              0.0,
              "#0d0887"
             ],
             [
              0.1111111111111111,
              "#46039f"
             ],
             [
              0.2222222222222222,
              "#7201a8"
             ],
             [
              0.3333333333333333,
              "#9c179e"
             ],
             [
              0.4444444444444444,
              "#bd3786"
             ],
             [
              0.5555555555555556,
              "#d8576b"
             ],
             [
              0.6666666666666666,
              "#ed7953"
             ],
             [
              0.7777777777777778,
              "#fb9f3a"
             ],
             [
              0.8888888888888888,
              "#fdca26"
             ],
             [
              1.0,
              "#f0f921"
             ]
            ]
           }
          ],
          "heatmapgl": [
           {
            "type": "heatmapgl",
            "colorbar": {
             "outlinewidth": 0,
             "ticks": ""
            },
            "colorscale": [
             [
              0.0,
              "#0d0887"
             ],
             [
              0.1111111111111111,
              "#46039f"
             ],
             [
              0.2222222222222222,
              "#7201a8"
             ],
             [
              0.3333333333333333,
              "#9c179e"
             ],
             [
              0.4444444444444444,
              "#bd3786"
             ],
             [
              0.5555555555555556,
              "#d8576b"
             ],
             [
              0.6666666666666666,
              "#ed7953"
             ],
             [
              0.7777777777777778,
              "#fb9f3a"
             ],
             [
              0.8888888888888888,
              "#fdca26"
             ],
             [
              1.0,
              "#f0f921"
             ]
            ]
           }
          ],
          "contourcarpet": [
           {
            "type": "contourcarpet",
            "colorbar": {
             "outlinewidth": 0,
             "ticks": ""
            }
           }
          ],
          "contour": [
           {
            "type": "contour",
            "colorbar": {
             "outlinewidth": 0,
             "ticks": ""
            },
            "colorscale": [
             [
              0.0,
              "#0d0887"
             ],
             [
              0.1111111111111111,
              "#46039f"
             ],
             [
              0.2222222222222222,
              "#7201a8"
             ],
             [
              0.3333333333333333,
              "#9c179e"
             ],
             [
              0.4444444444444444,
              "#bd3786"
             ],
             [
              0.5555555555555556,
              "#d8576b"
             ],
             [
              0.6666666666666666,
              "#ed7953"
             ],
             [
              0.7777777777777778,
              "#fb9f3a"
             ],
             [
              0.8888888888888888,
              "#fdca26"
             ],
             [
              1.0,
              "#f0f921"
             ]
            ]
           }
          ],
          "surface": [
           {
            "type": "surface",
            "colorbar": {
             "outlinewidth": 0,
             "ticks": ""
            },
            "colorscale": [
             [
              0.0,
              "#0d0887"
             ],
             [
              0.1111111111111111,
              "#46039f"
             ],
             [
              0.2222222222222222,
              "#7201a8"
             ],
             [
              0.3333333333333333,
              "#9c179e"
             ],
             [
              0.4444444444444444,
              "#bd3786"
             ],
             [
              0.5555555555555556,
              "#d8576b"
             ],
             [
              0.6666666666666666,
              "#ed7953"
             ],
             [
              0.7777777777777778,
              "#fb9f3a"
             ],
             [
              0.8888888888888888,
              "#fdca26"
             ],
             [
              1.0,
              "#f0f921"
             ]
            ]
           }
          ],
          "mesh3d": [
           {
            "type": "mesh3d",
            "colorbar": {
             "outlinewidth": 0,
             "ticks": ""
            }
           }
          ],
          "scatter": [
           {
            "marker": {
             "line": {
              "color": "#283442"
             }
            },
            "type": "scatter"
           }
          ],
          "parcoords": [
           {
            "type": "parcoords",
            "line": {
             "colorbar": {
              "outlinewidth": 0,
              "ticks": ""
             }
            }
           }
          ],
          "scatterpolargl": [
           {
            "type": "scatterpolargl",
            "marker": {
             "colorbar": {
              "outlinewidth": 0,
              "ticks": ""
             }
            }
           }
          ],
          "bar": [
           {
            "error_x": {
             "color": "#f2f5fa"
            },
            "error_y": {
             "color": "#f2f5fa"
            },
            "marker": {
             "line": {
              "color": "rgb(17,17,17)",
              "width": 0.5
             },
             "pattern": {
              "fillmode": "overlay",
              "size": 10,
              "solidity": 0.2
             }
            },
            "type": "bar"
           }
          ],
          "scattergeo": [
           {
            "type": "scattergeo",
            "marker": {
             "colorbar": {
              "outlinewidth": 0,
              "ticks": ""
             }
            }
           }
          ],
          "scatterpolar": [
           {
            "type": "scatterpolar",
            "marker": {
             "colorbar": {
              "outlinewidth": 0,
              "ticks": ""
             }
            }
           }
          ],
          "histogram": [
           {
            "marker": {
             "pattern": {
              "fillmode": "overlay",
              "size": 10,
              "solidity": 0.2
             }
            },
            "type": "histogram"
           }
          ],
          "scattergl": [
           {
            "marker": {
             "line": {
              "color": "#283442"
             }
            },
            "type": "scattergl"
           }
          ],
          "scatter3d": [
           {
            "type": "scatter3d",
            "line": {
             "colorbar": {
              "outlinewidth": 0,
              "ticks": ""
             }
            },
            "marker": {
             "colorbar": {
              "outlinewidth": 0,
              "ticks": ""
             }
            }
           }
          ],
          "scattermapbox": [
           {
            "type": "scattermapbox",
            "marker": {
             "colorbar": {
              "outlinewidth": 0,
              "ticks": ""
             }
            }
           }
          ],
          "scatterternary": [
           {
            "type": "scatterternary",
            "marker": {
             "colorbar": {
              "outlinewidth": 0,
              "ticks": ""
             }
            }
           }
          ],
          "scattercarpet": [
           {
            "type": "scattercarpet",
            "marker": {
             "colorbar": {
              "outlinewidth": 0,
              "ticks": ""
             }
            }
           }
          ],
          "carpet": [
           {
            "aaxis": {
             "endlinecolor": "#A2B1C6",
             "gridcolor": "#506784",
             "linecolor": "#506784",
             "minorgridcolor": "#506784",
             "startlinecolor": "#A2B1C6"
            },
            "baxis": {
             "endlinecolor": "#A2B1C6",
             "gridcolor": "#506784",
             "linecolor": "#506784",
             "minorgridcolor": "#506784",
             "startlinecolor": "#A2B1C6"
            },
            "type": "carpet"
           }
          ],
          "table": [
           {
            "cells": {
             "fill": {
              "color": "#506784"
             },
             "line": {
              "color": "rgb(17,17,17)"
             }
            },
            "header": {
             "fill": {
              "color": "#2a3f5f"
             },
             "line": {
              "color": "rgb(17,17,17)"
             }
            },
            "type": "table"
           }
          ],
          "barpolar": [
           {
            "marker": {
             "line": {
              "color": "rgb(17,17,17)",
              "width": 0.5
             },
             "pattern": {
              "fillmode": "overlay",
              "size": 10,
              "solidity": 0.2
             }
            },
            "type": "barpolar"
           }
          ],
          "pie": [
           {
            "automargin": true,
            "type": "pie"
           }
          ]
         },
         "layout": {
          "autotypenumbers": "strict",
          "colorway": [
           "#636efa",
           "#EF553B",
           "#00cc96",
           "#ab63fa",
           "#FFA15A",
           "#19d3f3",
           "#FF6692",
           "#B6E880",
           "#FF97FF",
           "#FECB52"
          ],
          "font": {
           "color": "#f2f5fa"
          },
          "hovermode": "closest",
          "hoverlabel": {
           "align": "left"
          },
          "paper_bgcolor": "rgb(17,17,17)",
          "plot_bgcolor": "rgb(17,17,17)",
          "polar": {
           "bgcolor": "rgb(17,17,17)",
           "angularaxis": {
            "gridcolor": "#506784",
            "linecolor": "#506784",
            "ticks": ""
           },
           "radialaxis": {
            "gridcolor": "#506784",
            "linecolor": "#506784",
            "ticks": ""
           }
          },
          "ternary": {
           "bgcolor": "rgb(17,17,17)",
           "aaxis": {
            "gridcolor": "#506784",
            "linecolor": "#506784",
            "ticks": ""
           },
           "baxis": {
            "gridcolor": "#506784",
            "linecolor": "#506784",
            "ticks": ""
           },
           "caxis": {
            "gridcolor": "#506784",
            "linecolor": "#506784",
            "ticks": ""
           }
          },
          "coloraxis": {
           "colorbar": {
            "outlinewidth": 0,
            "ticks": ""
           }
          },
          "colorscale": {
           "sequential": [
            [
             0.0,
             "#0d0887"
            ],
            [
             0.1111111111111111,
             "#46039f"
            ],
            [
             0.2222222222222222,
             "#7201a8"
            ],
            [
             0.3333333333333333,
             "#9c179e"
            ],
            [
             0.4444444444444444,
             "#bd3786"
            ],
            [
             0.5555555555555556,
             "#d8576b"
            ],
            [
             0.6666666666666666,
             "#ed7953"
            ],
            [
             0.7777777777777778,
             "#fb9f3a"
            ],
            [
             0.8888888888888888,
             "#fdca26"
            ],
            [
             1.0,
             "#f0f921"
            ]
           ],
           "sequentialminus": [
            [
             0.0,
             "#0d0887"
            ],
            [
             0.1111111111111111,
             "#46039f"
            ],
            [
             0.2222222222222222,
             "#7201a8"
            ],
            [
             0.3333333333333333,
             "#9c179e"
            ],
            [
             0.4444444444444444,
             "#bd3786"
            ],
            [
             0.5555555555555556,
             "#d8576b"
            ],
            [
             0.6666666666666666,
             "#ed7953"
            ],
            [
             0.7777777777777778,
             "#fb9f3a"
            ],
            [
             0.8888888888888888,
             "#fdca26"
            ],
            [
             1.0,
             "#f0f921"
            ]
           ],
           "diverging": [
            [
             0,
             "#8e0152"
            ],
            [
             0.1,
             "#c51b7d"
            ],
            [
             0.2,
             "#de77ae"
            ],
            [
             0.3,
             "#f1b6da"
            ],
            [
             0.4,
             "#fde0ef"
            ],
            [
             0.5,
             "#f7f7f7"
            ],
            [
             0.6,
             "#e6f5d0"
            ],
            [
             0.7,
             "#b8e186"
            ],
            [
             0.8,
             "#7fbc41"
            ],
            [
             0.9,
             "#4d9221"
            ],
            [
             1,
             "#276419"
            ]
           ]
          },
          "xaxis": {
           "gridcolor": "#283442",
           "linecolor": "#506784",
           "ticks": "",
           "title": {
            "standoff": 15
           },
           "zerolinecolor": "#283442",
           "automargin": true,
           "zerolinewidth": 2
          },
          "yaxis": {
           "gridcolor": "#283442",
           "linecolor": "#506784",
           "ticks": "",
           "title": {
            "standoff": 15
           },
           "zerolinecolor": "#283442",
           "automargin": true,
           "zerolinewidth": 2
          },
          "scene": {
           "xaxis": {
            "backgroundcolor": "rgb(17,17,17)",
            "gridcolor": "#506784",
            "linecolor": "#506784",
            "showbackground": true,
            "ticks": "",
            "zerolinecolor": "#C8D4E3",
            "gridwidth": 2
           },
           "yaxis": {
            "backgroundcolor": "rgb(17,17,17)",
            "gridcolor": "#506784",
            "linecolor": "#506784",
            "showbackground": true,
            "ticks": "",
            "zerolinecolor": "#C8D4E3",
            "gridwidth": 2
           },
           "zaxis": {
            "backgroundcolor": "rgb(17,17,17)",
            "gridcolor": "#506784",
            "linecolor": "#506784",
            "showbackground": true,
            "ticks": "",
            "zerolinecolor": "#C8D4E3",
            "gridwidth": 2
           }
          },
          "shapedefaults": {
           "line": {
            "color": "#f2f5fa"
           }
          },
          "annotationdefaults": {
           "arrowcolor": "#f2f5fa",
           "arrowhead": 0,
           "arrowwidth": 1
          },
          "geo": {
           "bgcolor": "rgb(17,17,17)",
           "landcolor": "rgb(17,17,17)",
           "subunitcolor": "#506784",
           "showland": true,
           "showlakes": true,
           "lakecolor": "rgb(17,17,17)"
          },
          "title": {
           "x": 0.05
          },
          "updatemenudefaults": {
           "bgcolor": "#506784",
           "borderwidth": 0
          },
          "sliderdefaults": {
           "bgcolor": "#C8D4E3",
           "borderwidth": 1,
           "bordercolor": "rgb(17,17,17)",
           "tickwidth": 0
          },
          "mapbox": {
           "style": "dark"
          }
         }
        },
        "margin": {
         "l": 20,
         "r": 20,
         "t": 20,
         "b": 20
        },
        "font": {
         "color": "black"
        },
        "height": 600,
        "width": 600,
        "paper_bgcolor": "white",
        "plot_bgcolor": "white",
        "showlegend": false
       },
       "config": {
        "plotlyServerURL": "https://plot.ly"
       }
      },
      "text/html": [
       "<div>                            <div id=\"68f9267e-b045-485d-bf71-70ca54111de1\" class=\"plotly-graph-div\" style=\"height:600px; width:600px;\"></div>            <script type=\"text/javascript\">                require([\"plotly\"], function(Plotly) {                    window.PLOTLYENV=window.PLOTLYENV || {};                                    if (document.getElementById(\"68f9267e-b045-485d-bf71-70ca54111de1\")) {                    Plotly.newPlot(                        \"68f9267e-b045-485d-bf71-70ca54111de1\",                        [{\"hole\":0.3,\"insidetextorientation\":\"radial\",\"labels\":[\"RGLD\",\"MKTX\",\"AMD\",\"7780.T\",\"BVB.DE\",\"NSSC\",\"BURL\",\"PSDL.L\",\"TPE.DE\",\"PAR\",\"SLP\",\"4816.T\",\"7575.T\",\"TAL\",\"FLGT\",\"ADUS\",\"AWK\",\"PLUS.L\",\"2471.T\",\"Other(41)\"],\"textinfo\":\"label+percent\",\"textposition\":\"inside\",\"values\":[0.0094,0.0101,0.0086,0.0082,0.0072,0.0086,0.0109,0.0085,0.0134,0.011,0.0129,0.0079,0.0119,0.0136,0.0069,0.0096,0.0085,0.0095,0.0124,0.1178],\"type\":\"pie\"}],                        {\"template\":{\"data\":{\"histogram2dcontour\":[{\"type\":\"histogram2dcontour\",\"colorbar\":{\"outlinewidth\":0,\"ticks\":\"\"},\"colorscale\":[[0.0,\"#0d0887\"],[0.1111111111111111,\"#46039f\"],[0.2222222222222222,\"#7201a8\"],[0.3333333333333333,\"#9c179e\"],[0.4444444444444444,\"#bd3786\"],[0.5555555555555556,\"#d8576b\"],[0.6666666666666666,\"#ed7953\"],[0.7777777777777778,\"#fb9f3a\"],[0.8888888888888888,\"#fdca26\"],[1.0,\"#f0f921\"]]}],\"choropleth\":[{\"type\":\"choropleth\",\"colorbar\":{\"outlinewidth\":0,\"ticks\":\"\"}}],\"histogram2d\":[{\"type\":\"histogram2d\",\"colorbar\":{\"outlinewidth\":0,\"ticks\":\"\"},\"colorscale\":[[0.0,\"#0d0887\"],[0.1111111111111111,\"#46039f\"],[0.2222222222222222,\"#7201a8\"],[0.3333333333333333,\"#9c179e\"],[0.4444444444444444,\"#bd3786\"],[0.5555555555555556,\"#d8576b\"],[0.6666666666666666,\"#ed7953\"],[0.7777777777777778,\"#fb9f3a\"],[0.8888888888888888,\"#fdca26\"],[1.0,\"#f0f921\"]]}],\"heatmap\":[{\"type\":\"heatmap\",\"colorbar\":{\"outlinewidth\":0,\"ticks\":\"\"},\"colorscale\":[[0.0,\"#0d0887\"],[0.1111111111111111,\"#46039f\"],[0.2222222222222222,\"#7201a8\"],[0.3333333333333333,\"#9c179e\"],[0.4444444444444444,\"#bd3786\"],[0.5555555555555556,\"#d8576b\"],[0.6666666666666666,\"#ed7953\"],[0.7777777777777778,\"#fb9f3a\"],[0.8888888888888888,\"#fdca26\"],[1.0,\"#f0f921\"]]}],\"heatmapgl\":[{\"type\":\"heatmapgl\",\"colorbar\":{\"outlinewidth\":0,\"ticks\":\"\"},\"colorscale\":[[0.0,\"#0d0887\"],[0.1111111111111111,\"#46039f\"],[0.2222222222222222,\"#7201a8\"],[0.3333333333333333,\"#9c179e\"],[0.4444444444444444,\"#bd3786\"],[0.5555555555555556,\"#d8576b\"],[0.6666666666666666,\"#ed7953\"],[0.7777777777777778,\"#fb9f3a\"],[0.8888888888888888,\"#fdca26\"],[1.0,\"#f0f921\"]]}],\"contourcarpet\":[{\"type\":\"contourcarpet\",\"colorbar\":{\"outlinewidth\":0,\"ticks\":\"\"}}],\"contour\":[{\"type\":\"contour\",\"colorbar\":{\"outlinewidth\":0,\"ticks\":\"\"},\"colorscale\":[[0.0,\"#0d0887\"],[0.1111111111111111,\"#46039f\"],[0.2222222222222222,\"#7201a8\"],[0.3333333333333333,\"#9c179e\"],[0.4444444444444444,\"#bd3786\"],[0.5555555555555556,\"#d8576b\"],[0.6666666666666666,\"#ed7953\"],[0.7777777777777778,\"#fb9f3a\"],[0.8888888888888888,\"#fdca26\"],[1.0,\"#f0f921\"]]}],\"surface\":[{\"type\":\"surface\",\"colorbar\":{\"outlinewidth\":0,\"ticks\":\"\"},\"colorscale\":[[0.0,\"#0d0887\"],[0.1111111111111111,\"#46039f\"],[0.2222222222222222,\"#7201a8\"],[0.3333333333333333,\"#9c179e\"],[0.4444444444444444,\"#bd3786\"],[0.5555555555555556,\"#d8576b\"],[0.6666666666666666,\"#ed7953\"],[0.7777777777777778,\"#fb9f3a\"],[0.8888888888888888,\"#fdca26\"],[1.0,\"#f0f921\"]]}],\"mesh3d\":[{\"type\":\"mesh3d\",\"colorbar\":{\"outlinewidth\":0,\"ticks\":\"\"}}],\"scatter\":[{\"marker\":{\"line\":{\"color\":\"#283442\"}},\"type\":\"scatter\"}],\"parcoords\":[{\"type\":\"parcoords\",\"line\":{\"colorbar\":{\"outlinewidth\":0,\"ticks\":\"\"}}}],\"scatterpolargl\":[{\"type\":\"scatterpolargl\",\"marker\":{\"colorbar\":{\"outlinewidth\":0,\"ticks\":\"\"}}}],\"bar\":[{\"error_x\":{\"color\":\"#f2f5fa\"},\"error_y\":{\"color\":\"#f2f5fa\"},\"marker\":{\"line\":{\"color\":\"rgb(17,17,17)\",\"width\":0.5},\"pattern\":{\"fillmode\":\"overlay\",\"size\":10,\"solidity\":0.2}},\"type\":\"bar\"}],\"scattergeo\":[{\"type\":\"scattergeo\",\"marker\":{\"colorbar\":{\"outlinewidth\":0,\"ticks\":\"\"}}}],\"scatterpolar\":[{\"type\":\"scatterpolar\",\"marker\":{\"colorbar\":{\"outlinewidth\":0,\"ticks\":\"\"}}}],\"histogram\":[{\"marker\":{\"pattern\":{\"fillmode\":\"overlay\",\"size\":10,\"solidity\":0.2}},\"type\":\"histogram\"}],\"scattergl\":[{\"marker\":{\"line\":{\"color\":\"#283442\"}},\"type\":\"scattergl\"}],\"scatter3d\":[{\"type\":\"scatter3d\",\"line\":{\"colorbar\":{\"outlinewidth\":0,\"ticks\":\"\"}},\"marker\":{\"colorbar\":{\"outlinewidth\":0,\"ticks\":\"\"}}}],\"scattermapbox\":[{\"type\":\"scattermapbox\",\"marker\":{\"colorbar\":{\"outlinewidth\":0,\"ticks\":\"\"}}}],\"scatterternary\":[{\"type\":\"scatterternary\",\"marker\":{\"colorbar\":{\"outlinewidth\":0,\"ticks\":\"\"}}}],\"scattercarpet\":[{\"type\":\"scattercarpet\",\"marker\":{\"colorbar\":{\"outlinewidth\":0,\"ticks\":\"\"}}}],\"carpet\":[{\"aaxis\":{\"endlinecolor\":\"#A2B1C6\",\"gridcolor\":\"#506784\",\"linecolor\":\"#506784\",\"minorgridcolor\":\"#506784\",\"startlinecolor\":\"#A2B1C6\"},\"baxis\":{\"endlinecolor\":\"#A2B1C6\",\"gridcolor\":\"#506784\",\"linecolor\":\"#506784\",\"minorgridcolor\":\"#506784\",\"startlinecolor\":\"#A2B1C6\"},\"type\":\"carpet\"}],\"table\":[{\"cells\":{\"fill\":{\"color\":\"#506784\"},\"line\":{\"color\":\"rgb(17,17,17)\"}},\"header\":{\"fill\":{\"color\":\"#2a3f5f\"},\"line\":{\"color\":\"rgb(17,17,17)\"}},\"type\":\"table\"}],\"barpolar\":[{\"marker\":{\"line\":{\"color\":\"rgb(17,17,17)\",\"width\":0.5},\"pattern\":{\"fillmode\":\"overlay\",\"size\":10,\"solidity\":0.2}},\"type\":\"barpolar\"}],\"pie\":[{\"automargin\":true,\"type\":\"pie\"}]},\"layout\":{\"autotypenumbers\":\"strict\",\"colorway\":[\"#636efa\",\"#EF553B\",\"#00cc96\",\"#ab63fa\",\"#FFA15A\",\"#19d3f3\",\"#FF6692\",\"#B6E880\",\"#FF97FF\",\"#FECB52\"],\"font\":{\"color\":\"#f2f5fa\"},\"hovermode\":\"closest\",\"hoverlabel\":{\"align\":\"left\"},\"paper_bgcolor\":\"rgb(17,17,17)\",\"plot_bgcolor\":\"rgb(17,17,17)\",\"polar\":{\"bgcolor\":\"rgb(17,17,17)\",\"angularaxis\":{\"gridcolor\":\"#506784\",\"linecolor\":\"#506784\",\"ticks\":\"\"},\"radialaxis\":{\"gridcolor\":\"#506784\",\"linecolor\":\"#506784\",\"ticks\":\"\"}},\"ternary\":{\"bgcolor\":\"rgb(17,17,17)\",\"aaxis\":{\"gridcolor\":\"#506784\",\"linecolor\":\"#506784\",\"ticks\":\"\"},\"baxis\":{\"gridcolor\":\"#506784\",\"linecolor\":\"#506784\",\"ticks\":\"\"},\"caxis\":{\"gridcolor\":\"#506784\",\"linecolor\":\"#506784\",\"ticks\":\"\"}},\"coloraxis\":{\"colorbar\":{\"outlinewidth\":0,\"ticks\":\"\"}},\"colorscale\":{\"sequential\":[[0.0,\"#0d0887\"],[0.1111111111111111,\"#46039f\"],[0.2222222222222222,\"#7201a8\"],[0.3333333333333333,\"#9c179e\"],[0.4444444444444444,\"#bd3786\"],[0.5555555555555556,\"#d8576b\"],[0.6666666666666666,\"#ed7953\"],[0.7777777777777778,\"#fb9f3a\"],[0.8888888888888888,\"#fdca26\"],[1.0,\"#f0f921\"]],\"sequentialminus\":[[0.0,\"#0d0887\"],[0.1111111111111111,\"#46039f\"],[0.2222222222222222,\"#7201a8\"],[0.3333333333333333,\"#9c179e\"],[0.4444444444444444,\"#bd3786\"],[0.5555555555555556,\"#d8576b\"],[0.6666666666666666,\"#ed7953\"],[0.7777777777777778,\"#fb9f3a\"],[0.8888888888888888,\"#fdca26\"],[1.0,\"#f0f921\"]],\"diverging\":[[0,\"#8e0152\"],[0.1,\"#c51b7d\"],[0.2,\"#de77ae\"],[0.3,\"#f1b6da\"],[0.4,\"#fde0ef\"],[0.5,\"#f7f7f7\"],[0.6,\"#e6f5d0\"],[0.7,\"#b8e186\"],[0.8,\"#7fbc41\"],[0.9,\"#4d9221\"],[1,\"#276419\"]]},\"xaxis\":{\"gridcolor\":\"#283442\",\"linecolor\":\"#506784\",\"ticks\":\"\",\"title\":{\"standoff\":15},\"zerolinecolor\":\"#283442\",\"automargin\":true,\"zerolinewidth\":2},\"yaxis\":{\"gridcolor\":\"#283442\",\"linecolor\":\"#506784\",\"ticks\":\"\",\"title\":{\"standoff\":15},\"zerolinecolor\":\"#283442\",\"automargin\":true,\"zerolinewidth\":2},\"scene\":{\"xaxis\":{\"backgroundcolor\":\"rgb(17,17,17)\",\"gridcolor\":\"#506784\",\"linecolor\":\"#506784\",\"showbackground\":true,\"ticks\":\"\",\"zerolinecolor\":\"#C8D4E3\",\"gridwidth\":2},\"yaxis\":{\"backgroundcolor\":\"rgb(17,17,17)\",\"gridcolor\":\"#506784\",\"linecolor\":\"#506784\",\"showbackground\":true,\"ticks\":\"\",\"zerolinecolor\":\"#C8D4E3\",\"gridwidth\":2},\"zaxis\":{\"backgroundcolor\":\"rgb(17,17,17)\",\"gridcolor\":\"#506784\",\"linecolor\":\"#506784\",\"showbackground\":true,\"ticks\":\"\",\"zerolinecolor\":\"#C8D4E3\",\"gridwidth\":2}},\"shapedefaults\":{\"line\":{\"color\":\"#f2f5fa\"}},\"annotationdefaults\":{\"arrowcolor\":\"#f2f5fa\",\"arrowhead\":0,\"arrowwidth\":1},\"geo\":{\"bgcolor\":\"rgb(17,17,17)\",\"landcolor\":\"rgb(17,17,17)\",\"subunitcolor\":\"#506784\",\"showland\":true,\"showlakes\":true,\"lakecolor\":\"rgb(17,17,17)\"},\"title\":{\"x\":0.05},\"updatemenudefaults\":{\"bgcolor\":\"#506784\",\"borderwidth\":0},\"sliderdefaults\":{\"bgcolor\":\"#C8D4E3\",\"borderwidth\":1,\"bordercolor\":\"rgb(17,17,17)\",\"tickwidth\":0},\"mapbox\":{\"style\":\"dark\"}}},\"margin\":{\"l\":20,\"r\":20,\"t\":20,\"b\":20},\"font\":{\"color\":\"black\"},\"height\":600,\"width\":600,\"paper_bgcolor\":\"white\",\"plot_bgcolor\":\"white\",\"showlegend\":false},                        {\"responsive\": true}                    ).then(function(){\n",
       "                            \n",
       "var gd = document.getElementById('68f9267e-b045-485d-bf71-70ca54111de1');\n",
       "var x = new MutationObserver(function (mutations, observer) {{\n",
       "        var display = window.getComputedStyle(gd).display;\n",
       "        if (!display || display === 'none') {{\n",
       "            console.log([gd, 'removed!']);\n",
       "            Plotly.purge(gd);\n",
       "            observer.disconnect();\n",
       "        }}\n",
       "}});\n",
       "\n",
       "// Listen for the removal of the full notebook cells\n",
       "var notebookContainer = gd.closest('#notebook-container');\n",
       "if (notebookContainer) {{\n",
       "    x.observe(notebookContainer, {childList: true});\n",
       "}}\n",
       "\n",
       "// Listen for the clearing of the current output cell\n",
       "var outputEl = gd.closest('.output');\n",
       "if (outputEl) {{\n",
       "    x.observe(outputEl, {childList: true});\n",
       "}}\n",
       "\n",
       "                        })                };                });            </script>        </div>"
      ]
     },
     "metadata": {},
     "output_type": "display_data"
    }
   ],
   "execution_count": 373
  },
  {
   "metadata": {},
   "cell_type": "markdown",
   "source": "#### Overview Table",
   "id": "92480eee8b184695"
  },
  {
   "metadata": {
    "ExecuteTime": {
     "end_time": "2025-06-08T14:05:24.826340Z",
     "start_time": "2025-06-08T14:05:24.792718Z"
    }
   },
   "cell_type": "code",
   "source": [
    "importlib.reload(mpt_utils)\n",
    "# Create overview\n",
    "mpt_utils.generate_overview_table(weights_all_12m, mu_12m, S_12m, df_pct)"
   ],
   "id": "492409156d4d2ec5",
   "outputs": [
    {
     "data": {
      "text/plain": [
       "         Share Count  Average Covariance Average Returns  \\\n",
       "TAL                1           -0.029831          30.05%   \n",
       "TPE.DE             2           -0.026441           9.83%   \n",
       "SLP                1            0.024237          14.83%   \n",
       "2471.T             1            0.018644           1.74%   \n",
       "7575.T             1            0.028644          -3.02%   \n",
       "PAR                1           -0.034237          24.58%   \n",
       "BURL               1            0.004237           5.98%   \n",
       "MKTX               1           -0.015763          24.68%   \n",
       "ADUS               1            0.007966           9.46%   \n",
       "PLUS.L             1           -0.021356           6.09%   \n",
       "RGLD               1           -0.010847          -0.21%   \n",
       "NSSC               1           -0.006441          17.05%   \n",
       "AMD                1            0.004915           5.24%   \n",
       "AWK                1            0.001864          40.56%   \n",
       "PSDL.L             1           -0.041186          84.55%   \n",
       "7780.T             1            0.033898           5.65%   \n",
       "4816.T             3           -0.018814           0.88%   \n",
       "BVB.DE             2           -0.012203           6.63%   \n",
       "FLGT               2           -0.037119          33.78%   \n",
       "2170.T             3            0.029322          24.50%   \n",
       "LOVE               3           -0.041356          17.70%   \n",
       "7947.T             1            0.028814           2.92%   \n",
       "APLD               7           -0.001864          49.58%   \n",
       "6814.T             5            0.007966          37.10%   \n",
       "IOT                1            0.000847          21.14%   \n",
       "MITK               1           -0.019153          41.60%   \n",
       "4549.T             2            0.030847          24.68%   \n",
       "7458.T             2            0.002542          -3.89%   \n",
       "3050.T             4            0.002373          45.30%   \n",
       "IVAC               5           -0.012881          21.14%   \n",
       "BFSA.DE            1            0.008983           7.71%   \n",
       "MPX                1            0.043390           9.27%   \n",
       "9470.T             1            0.012373           7.49%   \n",
       "1925.T             1            0.009831           1.29%   \n",
       "EVLV               7           -0.024068          40.42%   \n",
       "EBF                1           -0.001186          48.36%   \n",
       "9697.T             2            0.034915          32.45%   \n",
       "ENR.DE             2           -0.035932           6.38%   \n",
       "AGNC               1            0.015254          12.30%   \n",
       "FBRT               1            0.001695          50.40%   \n",
       "2124.T             3            0.016949          56.06%   \n",
       "9434.T             2            0.006102          23.99%   \n",
       "7944.T            17           -0.387288          30.95%   \n",
       "UDMY               1           -0.000169          27.74%   \n",
       "9831.T             5            0.017966          30.82%   \n",
       "CRSR               1           -0.030678          -2.59%   \n",
       "4751.T             1            0.056949          28.61%   \n",
       "9143.T             1           -0.002373           9.46%   \n",
       "ACEL               1            0.000678          21.91%   \n",
       "2685.T             1           -0.016441           9.44%   \n",
       "THRY               1            0.006102           5.54%   \n",
       "3151.T             1            0.013390          11.47%   \n",
       "DOLE               1            0.001695          -5.53%   \n",
       "8141.T             1            0.012881           7.21%   \n",
       "LAUR               1            0.010339           8.11%   \n",
       "RNW                1            0.002712          11.74%   \n",
       "LSEA               1            0.001525          87.99%   \n",
       "MIR                1           -0.015254           5.91%   \n",
       "INS.DE             1            0.003390           5.28%   \n",
       "ALIT               1           -0.016610           7.24%   \n",
       "\n",
       "        Return Last 12 Months Return (Actual) Next 12 Months  \n",
       "TAL                    48.59%                        120.88%  \n",
       "TPE.DE                 -6.28%                          3.02%  \n",
       "SLP                    77.26%                        118.41%  \n",
       "2471.T                119.57%                         24.38%  \n",
       "7575.T                  4.51%                        -17.45%  \n",
       "PAR                    41.04%                         70.88%  \n",
       "BURL                   13.37%                          1.41%  \n",
       "MKTX                   77.62%                         49.93%  \n",
       "ADUS                   30.00%                         19.98%  \n",
       "PLUS.L                -32.76%                        131.69%  \n",
       "RGLD                   53.41%                         -0.91%  \n",
       "NSSC                  118.24%                         -8.54%  \n",
       "AMD                    83.30%                        179.86%  \n",
       "AWK                    41.17%                         18.26%  \n",
       "PSDL.L                -11.80%                          7.63%  \n",
       "7780.T                 53.74%                         86.15%  \n",
       "4816.T                 33.20%                         39.47%  \n",
       "BVB.DE                -10.30%                        -43.42%  \n",
       "FLGT                  167.34%                        289.41%  \n",
       "2170.T                -46.71%                        -26.60%  \n",
       "LOVE                  -13.87%                         47.18%  \n",
       "7947.T                 18.26%                         35.47%  \n",
       "APLD                   -6.98%                          3.37%  \n",
       "6814.T                -13.42%                          9.60%  \n",
       "IOT                    -7.96%                          1.23%  \n",
       "MITK                    4.09%                         30.91%  \n",
       "4549.T                -30.88%                         29.95%  \n",
       "7458.T                  1.43%                        -31.61%  \n",
       "3050.T                  1.46%                         40.24%  \n",
       "IVAC                   20.18%                          3.49%  \n",
       "BFSA.DE               -11.81%                          4.42%  \n",
       "MPX                   -31.47%                         16.83%  \n",
       "9470.T                  5.96%                         22.39%  \n",
       "1925.T                 14.39%                        -20.04%  \n",
       "EVLV                  -39.11%                         81.76%  \n",
       "EBF                     5.85%                        -10.73%  \n",
       "9697.T                 11.14%                        102.53%  \n",
       "ENR.DE                -37.82%                         77.24%  \n",
       "AGNC                    8.47%                         -3.02%  \n",
       "FBRT                   -1.00%                         -2.05%  \n",
       "2124.T                  2.69%                        -32.69%  \n",
       "9434.T                 13.48%                        -15.15%  \n",
       "7944.T               -467.40%                        876.44%  \n",
       "UDMY                    5.99%                        -16.10%  \n",
       "9831.T                  0.37%                          0.55%  \n",
       "CRSR                  -42.70%                         93.37%  \n",
       "4751.T                -26.68%                         57.31%  \n",
       "9143.T                 -3.46%                        111.16%  \n",
       "ACEL                    3.02%                          3.81%  \n",
       "2685.T                 49.31%                        -30.06%  \n",
       "THRY                    7.12%                        -45.28%  \n",
       "3151.T                 -3.70%                          6.16%  \n",
       "DOLE                   -1.04%                          5.53%  \n",
       "8141.T                 21.46%                          2.18%  \n",
       "LAUR                    4.22%                        -21.16%  \n",
       "RNW                    -0.13%                          1.61%  \n",
       "LSEA                    5.09%                          3.01%  \n",
       "MIR                   -14.45%                         12.18%  \n",
       "INS.DE                -11.61%                         16.32%  \n",
       "ALIT                  -21.95%                         23.06%  "
      ],
      "text/html": [
       "<div>\n",
       "<style scoped>\n",
       "    .dataframe tbody tr th:only-of-type {\n",
       "        vertical-align: middle;\n",
       "    }\n",
       "\n",
       "    .dataframe tbody tr th {\n",
       "        vertical-align: top;\n",
       "    }\n",
       "\n",
       "    .dataframe thead th {\n",
       "        text-align: right;\n",
       "    }\n",
       "</style>\n",
       "<table border=\"1\" class=\"dataframe\">\n",
       "  <thead>\n",
       "    <tr style=\"text-align: right;\">\n",
       "      <th></th>\n",
       "      <th>Share Count</th>\n",
       "      <th>Average Covariance</th>\n",
       "      <th>Average Returns</th>\n",
       "      <th>Return Last 12 Months</th>\n",
       "      <th>Return (Actual) Next 12 Months</th>\n",
       "    </tr>\n",
       "  </thead>\n",
       "  <tbody>\n",
       "    <tr>\n",
       "      <th>TAL</th>\n",
       "      <td>1</td>\n",
       "      <td>-0.029831</td>\n",
       "      <td>30.05%</td>\n",
       "      <td>48.59%</td>\n",
       "      <td>120.88%</td>\n",
       "    </tr>\n",
       "    <tr>\n",
       "      <th>TPE.DE</th>\n",
       "      <td>2</td>\n",
       "      <td>-0.026441</td>\n",
       "      <td>9.83%</td>\n",
       "      <td>-6.28%</td>\n",
       "      <td>3.02%</td>\n",
       "    </tr>\n",
       "    <tr>\n",
       "      <th>SLP</th>\n",
       "      <td>1</td>\n",
       "      <td>0.024237</td>\n",
       "      <td>14.83%</td>\n",
       "      <td>77.26%</td>\n",
       "      <td>118.41%</td>\n",
       "    </tr>\n",
       "    <tr>\n",
       "      <th>2471.T</th>\n",
       "      <td>1</td>\n",
       "      <td>0.018644</td>\n",
       "      <td>1.74%</td>\n",
       "      <td>119.57%</td>\n",
       "      <td>24.38%</td>\n",
       "    </tr>\n",
       "    <tr>\n",
       "      <th>7575.T</th>\n",
       "      <td>1</td>\n",
       "      <td>0.028644</td>\n",
       "      <td>-3.02%</td>\n",
       "      <td>4.51%</td>\n",
       "      <td>-17.45%</td>\n",
       "    </tr>\n",
       "    <tr>\n",
       "      <th>PAR</th>\n",
       "      <td>1</td>\n",
       "      <td>-0.034237</td>\n",
       "      <td>24.58%</td>\n",
       "      <td>41.04%</td>\n",
       "      <td>70.88%</td>\n",
       "    </tr>\n",
       "    <tr>\n",
       "      <th>BURL</th>\n",
       "      <td>1</td>\n",
       "      <td>0.004237</td>\n",
       "      <td>5.98%</td>\n",
       "      <td>13.37%</td>\n",
       "      <td>1.41%</td>\n",
       "    </tr>\n",
       "    <tr>\n",
       "      <th>MKTX</th>\n",
       "      <td>1</td>\n",
       "      <td>-0.015763</td>\n",
       "      <td>24.68%</td>\n",
       "      <td>77.62%</td>\n",
       "      <td>49.93%</td>\n",
       "    </tr>\n",
       "    <tr>\n",
       "      <th>ADUS</th>\n",
       "      <td>1</td>\n",
       "      <td>0.007966</td>\n",
       "      <td>9.46%</td>\n",
       "      <td>30.00%</td>\n",
       "      <td>19.98%</td>\n",
       "    </tr>\n",
       "    <tr>\n",
       "      <th>PLUS.L</th>\n",
       "      <td>1</td>\n",
       "      <td>-0.021356</td>\n",
       "      <td>6.09%</td>\n",
       "      <td>-32.76%</td>\n",
       "      <td>131.69%</td>\n",
       "    </tr>\n",
       "    <tr>\n",
       "      <th>RGLD</th>\n",
       "      <td>1</td>\n",
       "      <td>-0.010847</td>\n",
       "      <td>-0.21%</td>\n",
       "      <td>53.41%</td>\n",
       "      <td>-0.91%</td>\n",
       "    </tr>\n",
       "    <tr>\n",
       "      <th>NSSC</th>\n",
       "      <td>1</td>\n",
       "      <td>-0.006441</td>\n",
       "      <td>17.05%</td>\n",
       "      <td>118.24%</td>\n",
       "      <td>-8.54%</td>\n",
       "    </tr>\n",
       "    <tr>\n",
       "      <th>AMD</th>\n",
       "      <td>1</td>\n",
       "      <td>0.004915</td>\n",
       "      <td>5.24%</td>\n",
       "      <td>83.30%</td>\n",
       "      <td>179.86%</td>\n",
       "    </tr>\n",
       "    <tr>\n",
       "      <th>AWK</th>\n",
       "      <td>1</td>\n",
       "      <td>0.001864</td>\n",
       "      <td>40.56%</td>\n",
       "      <td>41.17%</td>\n",
       "      <td>18.26%</td>\n",
       "    </tr>\n",
       "    <tr>\n",
       "      <th>PSDL.L</th>\n",
       "      <td>1</td>\n",
       "      <td>-0.041186</td>\n",
       "      <td>84.55%</td>\n",
       "      <td>-11.80%</td>\n",
       "      <td>7.63%</td>\n",
       "    </tr>\n",
       "    <tr>\n",
       "      <th>7780.T</th>\n",
       "      <td>1</td>\n",
       "      <td>0.033898</td>\n",
       "      <td>5.65%</td>\n",
       "      <td>53.74%</td>\n",
       "      <td>86.15%</td>\n",
       "    </tr>\n",
       "    <tr>\n",
       "      <th>4816.T</th>\n",
       "      <td>3</td>\n",
       "      <td>-0.018814</td>\n",
       "      <td>0.88%</td>\n",
       "      <td>33.20%</td>\n",
       "      <td>39.47%</td>\n",
       "    </tr>\n",
       "    <tr>\n",
       "      <th>BVB.DE</th>\n",
       "      <td>2</td>\n",
       "      <td>-0.012203</td>\n",
       "      <td>6.63%</td>\n",
       "      <td>-10.30%</td>\n",
       "      <td>-43.42%</td>\n",
       "    </tr>\n",
       "    <tr>\n",
       "      <th>FLGT</th>\n",
       "      <td>2</td>\n",
       "      <td>-0.037119</td>\n",
       "      <td>33.78%</td>\n",
       "      <td>167.34%</td>\n",
       "      <td>289.41%</td>\n",
       "    </tr>\n",
       "    <tr>\n",
       "      <th>2170.T</th>\n",
       "      <td>3</td>\n",
       "      <td>0.029322</td>\n",
       "      <td>24.50%</td>\n",
       "      <td>-46.71%</td>\n",
       "      <td>-26.60%</td>\n",
       "    </tr>\n",
       "    <tr>\n",
       "      <th>LOVE</th>\n",
       "      <td>3</td>\n",
       "      <td>-0.041356</td>\n",
       "      <td>17.70%</td>\n",
       "      <td>-13.87%</td>\n",
       "      <td>47.18%</td>\n",
       "    </tr>\n",
       "    <tr>\n",
       "      <th>7947.T</th>\n",
       "      <td>1</td>\n",
       "      <td>0.028814</td>\n",
       "      <td>2.92%</td>\n",
       "      <td>18.26%</td>\n",
       "      <td>35.47%</td>\n",
       "    </tr>\n",
       "    <tr>\n",
       "      <th>APLD</th>\n",
       "      <td>7</td>\n",
       "      <td>-0.001864</td>\n",
       "      <td>49.58%</td>\n",
       "      <td>-6.98%</td>\n",
       "      <td>3.37%</td>\n",
       "    </tr>\n",
       "    <tr>\n",
       "      <th>6814.T</th>\n",
       "      <td>5</td>\n",
       "      <td>0.007966</td>\n",
       "      <td>37.10%</td>\n",
       "      <td>-13.42%</td>\n",
       "      <td>9.60%</td>\n",
       "    </tr>\n",
       "    <tr>\n",
       "      <th>IOT</th>\n",
       "      <td>1</td>\n",
       "      <td>0.000847</td>\n",
       "      <td>21.14%</td>\n",
       "      <td>-7.96%</td>\n",
       "      <td>1.23%</td>\n",
       "    </tr>\n",
       "    <tr>\n",
       "      <th>MITK</th>\n",
       "      <td>1</td>\n",
       "      <td>-0.019153</td>\n",
       "      <td>41.60%</td>\n",
       "      <td>4.09%</td>\n",
       "      <td>30.91%</td>\n",
       "    </tr>\n",
       "    <tr>\n",
       "      <th>4549.T</th>\n",
       "      <td>2</td>\n",
       "      <td>0.030847</td>\n",
       "      <td>24.68%</td>\n",
       "      <td>-30.88%</td>\n",
       "      <td>29.95%</td>\n",
       "    </tr>\n",
       "    <tr>\n",
       "      <th>7458.T</th>\n",
       "      <td>2</td>\n",
       "      <td>0.002542</td>\n",
       "      <td>-3.89%</td>\n",
       "      <td>1.43%</td>\n",
       "      <td>-31.61%</td>\n",
       "    </tr>\n",
       "    <tr>\n",
       "      <th>3050.T</th>\n",
       "      <td>4</td>\n",
       "      <td>0.002373</td>\n",
       "      <td>45.30%</td>\n",
       "      <td>1.46%</td>\n",
       "      <td>40.24%</td>\n",
       "    </tr>\n",
       "    <tr>\n",
       "      <th>IVAC</th>\n",
       "      <td>5</td>\n",
       "      <td>-0.012881</td>\n",
       "      <td>21.14%</td>\n",
       "      <td>20.18%</td>\n",
       "      <td>3.49%</td>\n",
       "    </tr>\n",
       "    <tr>\n",
       "      <th>BFSA.DE</th>\n",
       "      <td>1</td>\n",
       "      <td>0.008983</td>\n",
       "      <td>7.71%</td>\n",
       "      <td>-11.81%</td>\n",
       "      <td>4.42%</td>\n",
       "    </tr>\n",
       "    <tr>\n",
       "      <th>MPX</th>\n",
       "      <td>1</td>\n",
       "      <td>0.043390</td>\n",
       "      <td>9.27%</td>\n",
       "      <td>-31.47%</td>\n",
       "      <td>16.83%</td>\n",
       "    </tr>\n",
       "    <tr>\n",
       "      <th>9470.T</th>\n",
       "      <td>1</td>\n",
       "      <td>0.012373</td>\n",
       "      <td>7.49%</td>\n",
       "      <td>5.96%</td>\n",
       "      <td>22.39%</td>\n",
       "    </tr>\n",
       "    <tr>\n",
       "      <th>1925.T</th>\n",
       "      <td>1</td>\n",
       "      <td>0.009831</td>\n",
       "      <td>1.29%</td>\n",
       "      <td>14.39%</td>\n",
       "      <td>-20.04%</td>\n",
       "    </tr>\n",
       "    <tr>\n",
       "      <th>EVLV</th>\n",
       "      <td>7</td>\n",
       "      <td>-0.024068</td>\n",
       "      <td>40.42%</td>\n",
       "      <td>-39.11%</td>\n",
       "      <td>81.76%</td>\n",
       "    </tr>\n",
       "    <tr>\n",
       "      <th>EBF</th>\n",
       "      <td>1</td>\n",
       "      <td>-0.001186</td>\n",
       "      <td>48.36%</td>\n",
       "      <td>5.85%</td>\n",
       "      <td>-10.73%</td>\n",
       "    </tr>\n",
       "    <tr>\n",
       "      <th>9697.T</th>\n",
       "      <td>2</td>\n",
       "      <td>0.034915</td>\n",
       "      <td>32.45%</td>\n",
       "      <td>11.14%</td>\n",
       "      <td>102.53%</td>\n",
       "    </tr>\n",
       "    <tr>\n",
       "      <th>ENR.DE</th>\n",
       "      <td>2</td>\n",
       "      <td>-0.035932</td>\n",
       "      <td>6.38%</td>\n",
       "      <td>-37.82%</td>\n",
       "      <td>77.24%</td>\n",
       "    </tr>\n",
       "    <tr>\n",
       "      <th>AGNC</th>\n",
       "      <td>1</td>\n",
       "      <td>0.015254</td>\n",
       "      <td>12.30%</td>\n",
       "      <td>8.47%</td>\n",
       "      <td>-3.02%</td>\n",
       "    </tr>\n",
       "    <tr>\n",
       "      <th>FBRT</th>\n",
       "      <td>1</td>\n",
       "      <td>0.001695</td>\n",
       "      <td>50.40%</td>\n",
       "      <td>-1.00%</td>\n",
       "      <td>-2.05%</td>\n",
       "    </tr>\n",
       "    <tr>\n",
       "      <th>2124.T</th>\n",
       "      <td>3</td>\n",
       "      <td>0.016949</td>\n",
       "      <td>56.06%</td>\n",
       "      <td>2.69%</td>\n",
       "      <td>-32.69%</td>\n",
       "    </tr>\n",
       "    <tr>\n",
       "      <th>9434.T</th>\n",
       "      <td>2</td>\n",
       "      <td>0.006102</td>\n",
       "      <td>23.99%</td>\n",
       "      <td>13.48%</td>\n",
       "      <td>-15.15%</td>\n",
       "    </tr>\n",
       "    <tr>\n",
       "      <th>7944.T</th>\n",
       "      <td>17</td>\n",
       "      <td>-0.387288</td>\n",
       "      <td>30.95%</td>\n",
       "      <td>-467.40%</td>\n",
       "      <td>876.44%</td>\n",
       "    </tr>\n",
       "    <tr>\n",
       "      <th>UDMY</th>\n",
       "      <td>1</td>\n",
       "      <td>-0.000169</td>\n",
       "      <td>27.74%</td>\n",
       "      <td>5.99%</td>\n",
       "      <td>-16.10%</td>\n",
       "    </tr>\n",
       "    <tr>\n",
       "      <th>9831.T</th>\n",
       "      <td>5</td>\n",
       "      <td>0.017966</td>\n",
       "      <td>30.82%</td>\n",
       "      <td>0.37%</td>\n",
       "      <td>0.55%</td>\n",
       "    </tr>\n",
       "    <tr>\n",
       "      <th>CRSR</th>\n",
       "      <td>1</td>\n",
       "      <td>-0.030678</td>\n",
       "      <td>-2.59%</td>\n",
       "      <td>-42.70%</td>\n",
       "      <td>93.37%</td>\n",
       "    </tr>\n",
       "    <tr>\n",
       "      <th>4751.T</th>\n",
       "      <td>1</td>\n",
       "      <td>0.056949</td>\n",
       "      <td>28.61%</td>\n",
       "      <td>-26.68%</td>\n",
       "      <td>57.31%</td>\n",
       "    </tr>\n",
       "    <tr>\n",
       "      <th>9143.T</th>\n",
       "      <td>1</td>\n",
       "      <td>-0.002373</td>\n",
       "      <td>9.46%</td>\n",
       "      <td>-3.46%</td>\n",
       "      <td>111.16%</td>\n",
       "    </tr>\n",
       "    <tr>\n",
       "      <th>ACEL</th>\n",
       "      <td>1</td>\n",
       "      <td>0.000678</td>\n",
       "      <td>21.91%</td>\n",
       "      <td>3.02%</td>\n",
       "      <td>3.81%</td>\n",
       "    </tr>\n",
       "    <tr>\n",
       "      <th>2685.T</th>\n",
       "      <td>1</td>\n",
       "      <td>-0.016441</td>\n",
       "      <td>9.44%</td>\n",
       "      <td>49.31%</td>\n",
       "      <td>-30.06%</td>\n",
       "    </tr>\n",
       "    <tr>\n",
       "      <th>THRY</th>\n",
       "      <td>1</td>\n",
       "      <td>0.006102</td>\n",
       "      <td>5.54%</td>\n",
       "      <td>7.12%</td>\n",
       "      <td>-45.28%</td>\n",
       "    </tr>\n",
       "    <tr>\n",
       "      <th>3151.T</th>\n",
       "      <td>1</td>\n",
       "      <td>0.013390</td>\n",
       "      <td>11.47%</td>\n",
       "      <td>-3.70%</td>\n",
       "      <td>6.16%</td>\n",
       "    </tr>\n",
       "    <tr>\n",
       "      <th>DOLE</th>\n",
       "      <td>1</td>\n",
       "      <td>0.001695</td>\n",
       "      <td>-5.53%</td>\n",
       "      <td>-1.04%</td>\n",
       "      <td>5.53%</td>\n",
       "    </tr>\n",
       "    <tr>\n",
       "      <th>8141.T</th>\n",
       "      <td>1</td>\n",
       "      <td>0.012881</td>\n",
       "      <td>7.21%</td>\n",
       "      <td>21.46%</td>\n",
       "      <td>2.18%</td>\n",
       "    </tr>\n",
       "    <tr>\n",
       "      <th>LAUR</th>\n",
       "      <td>1</td>\n",
       "      <td>0.010339</td>\n",
       "      <td>8.11%</td>\n",
       "      <td>4.22%</td>\n",
       "      <td>-21.16%</td>\n",
       "    </tr>\n",
       "    <tr>\n",
       "      <th>RNW</th>\n",
       "      <td>1</td>\n",
       "      <td>0.002712</td>\n",
       "      <td>11.74%</td>\n",
       "      <td>-0.13%</td>\n",
       "      <td>1.61%</td>\n",
       "    </tr>\n",
       "    <tr>\n",
       "      <th>LSEA</th>\n",
       "      <td>1</td>\n",
       "      <td>0.001525</td>\n",
       "      <td>87.99%</td>\n",
       "      <td>5.09%</td>\n",
       "      <td>3.01%</td>\n",
       "    </tr>\n",
       "    <tr>\n",
       "      <th>MIR</th>\n",
       "      <td>1</td>\n",
       "      <td>-0.015254</td>\n",
       "      <td>5.91%</td>\n",
       "      <td>-14.45%</td>\n",
       "      <td>12.18%</td>\n",
       "    </tr>\n",
       "    <tr>\n",
       "      <th>INS.DE</th>\n",
       "      <td>1</td>\n",
       "      <td>0.003390</td>\n",
       "      <td>5.28%</td>\n",
       "      <td>-11.61%</td>\n",
       "      <td>16.32%</td>\n",
       "    </tr>\n",
       "    <tr>\n",
       "      <th>ALIT</th>\n",
       "      <td>1</td>\n",
       "      <td>-0.016610</td>\n",
       "      <td>7.24%</td>\n",
       "      <td>-21.95%</td>\n",
       "      <td>23.06%</td>\n",
       "    </tr>\n",
       "  </tbody>\n",
       "</table>\n",
       "</div>"
      ]
     },
     "execution_count": 377,
     "metadata": {},
     "output_type": "execute_result"
    }
   ],
   "execution_count": 377
  },
  {
   "metadata": {},
   "cell_type": "code",
   "outputs": [],
   "execution_count": null,
   "source": "",
   "id": "d1d279e2a4b2f883"
  }
 ],
 "metadata": {
  "kernelspec": {
   "display_name": "Python 3",
   "language": "python",
   "name": "python3"
  },
  "language_info": {
   "codemirror_mode": {
    "name": "ipython",
    "version": 2
   },
   "file_extension": ".py",
   "mimetype": "text/x-python",
   "name": "python",
   "nbconvert_exporter": "python",
   "pygments_lexer": "ipython2",
   "version": "2.7.6"
  }
 },
 "nbformat": 4,
 "nbformat_minor": 5
}
