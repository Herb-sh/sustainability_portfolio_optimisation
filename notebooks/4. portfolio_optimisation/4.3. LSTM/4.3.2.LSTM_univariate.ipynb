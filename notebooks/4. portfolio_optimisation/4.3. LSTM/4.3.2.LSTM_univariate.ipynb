{
 "cells": [
  {
   "metadata": {
    "ExecuteTime": {
     "end_time": "2025-06-18T11:52:39.959105Z",
     "start_time": "2025-06-18T11:52:39.891675Z"
    }
   },
   "cell_type": "code",
   "source": [
    "import torch\n",
    "import torch.nn as nn\n",
    "import torch.optim as optim\n",
    "import pandas as pd\n",
    "#\n",
    "import importlib\n",
    "import utilities.lstm_utils as lstm_utils\n",
    "import utilities.mpt_utils as mpt_utils\n",
    "import utilities.variables as variables"
   ],
   "id": "9be531e52190f129",
   "outputs": [],
   "execution_count": 132
  },
  {
   "metadata": {
    "ExecuteTime": {
     "end_time": "2025-06-18T11:52:39.976940Z",
     "start_time": "2025-06-18T11:52:39.969463Z"
    }
   },
   "cell_type": "code",
   "source": [
    "# set device (GPU if available)\n",
    "device = torch.device(\"cuda\" if torch.cuda.is_available() else \"cpu\")"
   ],
   "id": "6853a9962a424a1c",
   "outputs": [],
   "execution_count": 133
  },
  {
   "metadata": {},
   "cell_type": "markdown",
   "source": "## Data",
   "id": "fe8516df25855518"
  },
  {
   "metadata": {
    "ExecuteTime": {
     "end_time": "2025-06-18T11:52:40.349866Z",
     "start_time": "2025-06-18T11:52:40.208725Z"
    }
   },
   "cell_type": "code",
   "source": [
    "df = pd.read_csv('../../../data/df_monthly_prices_complete_euro.csv', index_col='Date')\n",
    "df_pct = pd.read_csv('../../../data/df_monthly_returns_complete.csv', index_col='Date')\n",
    "df_overview = pd.read_csv('../../../data/df_overview.csv', index_col=0)"
   ],
   "id": "4513018354bbc541",
   "outputs": [],
   "execution_count": 134
  },
  {
   "metadata": {},
   "cell_type": "markdown",
   "source": "## LSTM Model",
   "id": "d5b44de5e3c4223c"
  },
  {
   "metadata": {
    "ExecuteTime": {
     "end_time": "2025-06-18T11:52:40.410898Z",
     "start_time": "2025-06-18T11:52:40.405648Z"
    }
   },
   "cell_type": "code",
   "source": [
    "# Define 4.3. LSTM model\n",
    "class LSTM_Uni_Model(nn.Module):\n",
    "    def __init__(self, input_size, hidden_size=128, num_layers=1, output_size=1, learning_rate=0.001, dropout=0.2): # , hidden_size=128\n",
    "        super(LSTM_Uni_Model, self).__init__()\n",
    "        self.hidden_size = hidden_size\n",
    "        # init LSTM\n",
    "        self.lstm = nn.LSTM(input_size=input_size,\n",
    "                            hidden_size=hidden_size,\n",
    "                            # num_layers=num_layers,\n",
    "                            batch_first=True)\n",
    "\n",
    "        # FC layer for final prediction\n",
    "        self.fc_final = nn.Linear(hidden_size, 12)\n",
    "\n",
    "    def forward(self, ts_batch): # ts_batch (64, 1653, 10), static_data (64, 1653, 44)\n",
    "        # Time-Series Data\n",
    "        # Reshape dynamic data for LSTM (requires time-step as 2nd dimension)\n",
    "        batch_size, num_stocks, sequence_length = ts_batch.shape[0], ts_batch.shape[1], ts_batch.shape[2]\n",
    "        ts_batch_reshaped = ts_batch.view(batch_size * num_stocks, sequence_length)\n",
    "        #\n",
    "        ts_output_1, (hidden, cell)  = self.lstm(ts_batch_reshaped) # ts_batch_reshaped\n",
    "        #\n",
    "        ts_output = ts_output_1.view(batch_size, num_stocks, self.hidden_size)\n",
    "\n",
    "        return self.fc_final(ts_output)#.squeeze(-1) # ts_output_2"
   ],
   "id": "ff4cbc246759fc20",
   "outputs": [],
   "execution_count": 135
  },
  {
   "metadata": {},
   "cell_type": "markdown",
   "source": [
    "We use a 12 month lookback for the sequential data to predict the upcoming 12 months.\n",
    "\n",
    "After that, based on the currently predicted time-horizon, we get the respective sub-range, \n",
    "be it 1-month, 6-month or 12-month ahead."
   ],
   "id": "3f14312f686aafa8"
  },
  {
   "metadata": {
    "ExecuteTime": {
     "end_time": "2025-06-18T11:52:40.472535Z",
     "start_time": "2025-06-18T11:52:40.469999Z"
    }
   },
   "cell_type": "code",
   "source": [
    "# Set sequence length (12 months)\n",
    "in_seq_length = 12\n",
    "out_seq_length = 12\n",
    "#\n",
    "out_seq_length_1m = 1\n",
    "out_seq_length_6m = 6\n",
    "out_seq_length_12m = 12"
   ],
   "id": "4bb4ad974e9f4f73",
   "outputs": [],
   "execution_count": 136
  },
  {
   "metadata": {},
   "cell_type": "markdown",
   "source": "### LSTM Univariate",
   "id": "f3bf50fecdb9e99a"
  },
  {
   "metadata": {
    "ExecuteTime": {
     "end_time": "2025-06-18T11:52:40.535328Z",
     "start_time": "2025-06-18T11:52:40.523341Z"
    }
   },
   "cell_type": "code",
   "source": "df_to_evaluate = df_pct - 1",
   "id": "c6bc6e1efb7cf30b",
   "outputs": [],
   "execution_count": 137
  },
  {
   "metadata": {},
   "cell_type": "markdown",
   "source": "#### Train-Test Splits",
   "id": "6ce4ba4bb6d29a7d"
  },
  {
   "metadata": {},
   "cell_type": "markdown",
   "source": "Split the data into training and testing sets",
   "id": "ad62c65eeaec57a4"
  },
  {
   "metadata": {
    "ExecuteTime": {
     "end_time": "2025-06-18T11:52:41.468640Z",
     "start_time": "2025-06-18T11:52:40.591628Z"
    }
   },
   "cell_type": "code",
   "source": [
    "importlib.reload(lstm_utils)\n",
    "importlib.reload(variables)\n",
    "\n",
    "# Set sequence length (e.g., 12 time points)\n",
    "X_train, X_test, y_train, y_test = lstm_utils.split_train_test(df_to_evaluate, [], \n",
    "                                                               in_seq_length=in_seq_length, \n",
    "                                                               out_seq_length=out_seq_length, \n",
    "                                                               validation_months=(variables.LSTM_TEST_YEARS_NR * 12))\n",
    "\n",
    "# Check the shapes of the training and test data\n",
    "print(\"Shape of X_train:\", X_train.shape)\n",
    "print(\"Shape of y_train:\", y_train.shape)\n",
    "print(\"Shape of X_test:\", X_test.shape)\n",
    "print(\"Shape of y_test:\", y_test.shape)"
   ],
   "id": "a758546911c3a7a7",
   "outputs": [
    {
     "name": "stdout",
     "output_type": "stream",
     "text": [
      "Shape of X_train: torch.Size([215, 1332, 12])\n",
      "Shape of y_train: torch.Size([215, 1332, 12])\n",
      "Shape of X_test: torch.Size([60, 1332, 12])\n",
      "Shape of y_test: torch.Size([60, 1332, 12])\n"
     ]
    }
   ],
   "execution_count": 138
  },
  {
   "metadata": {},
   "cell_type": "markdown",
   "source": "### Model Training",
   "id": "7173f848c5f8057e"
  },
  {
   "metadata": {
    "ExecuteTime": {
     "end_time": "2025-06-18T11:52:41.537257Z",
     "start_time": "2025-06-18T11:52:41.529043Z"
    }
   },
   "cell_type": "code",
   "source": "X_test.shape",
   "id": "7e71df58b473b96b",
   "outputs": [
    {
     "data": {
      "text/plain": [
       "torch.Size([60, 1332, 12])"
      ]
     },
     "execution_count": 139,
     "metadata": {},
     "output_type": "execute_result"
    }
   ],
   "execution_count": 139
  },
  {
   "metadata": {
    "ExecuteTime": {
     "end_time": "2025-06-18T11:52:41.595581Z",
     "start_time": "2025-06-18T11:52:41.593027Z"
    }
   },
   "cell_type": "code",
   "source": "y_test.shape",
   "id": "d109ae7842e53a91",
   "outputs": [
    {
     "data": {
      "text/plain": [
       "torch.Size([60, 1332, 12])"
      ]
     },
     "execution_count": 140,
     "metadata": {},
     "output_type": "execute_result"
    }
   ],
   "execution_count": 140
  },
  {
   "metadata": {
    "ExecuteTime": {
     "end_time": "2025-06-18T12:00:37.490610Z",
     "start_time": "2025-06-18T11:52:41.648378Z"
    }
   },
   "cell_type": "code",
   "source": [
    "# Model, Loss, Optimizer\n",
    "model = LSTM_Uni_Model(input_size=in_seq_length, output_size=out_seq_length).to(device)\n",
    "criterion = nn.MSELoss()  # Mean Squared Error for regression\n",
    "optimizer = optim.Adam(model.parameters(), lr=0.001)\n",
    "\n",
    "importlib.reload(lstm_utils)\n",
    "#\n",
    "model, y_train_pred, y_test_pred = lstm_utils.lstm_train_validate(model, optimizer, X_train, X_test, y_train, y_test, epochs=10)"
   ],
   "id": "fe9300ce5450c4bf",
   "outputs": [
    {
     "name": "stdout",
     "output_type": "stream",
     "text": [
      "Epoch 1/10, Loss: 0.0141, Train RMSE: 0.1193, Test RMSE: 0.1271. \n",
      "Epoch 2/10, Loss: 0.0130, Train RMSE: 0.1141, Test RMSE: 0.1272. \n",
      "Epoch 3/10, Loss: 0.0129, Train RMSE: 0.1138, Test RMSE: 0.1267. \n",
      "Epoch 4/10, Loss: 0.0128, Train RMSE: 0.1136, Test RMSE: 0.1267. \n",
      "Epoch 5/10, Loss: 0.0128, Train RMSE: 0.1135, Test RMSE: 0.1267. \n",
      "Epoch 6/10, Loss: 0.0128, Train RMSE: 0.1134, Test RMSE: 0.1267. \n",
      "Epoch 7/10, Loss: 0.0128, Train RMSE: 0.1133, Test RMSE: 0.1267. \n",
      "Epoch 8/10, Loss: 0.0128, Train RMSE: 0.1133, Test RMSE: 0.1267. \n",
      "Epoch 9/10, Loss: 0.0128, Train RMSE: 0.1133, Test RMSE: 0.1267. \n",
      "Epoch 10/10, Loss: 0.0128, Train RMSE: 0.1133, Test RMSE: 0.1268. \n",
      "Model training complete and saved.\n"
     ]
    }
   ],
   "execution_count": 141
  },
  {
   "metadata": {},
   "cell_type": "markdown",
   "source": "### LSTM Univariate - 1 Month",
   "id": "d5318687c5affaa7"
  },
  {
   "metadata": {},
   "cell_type": "markdown",
   "source": [
    "Get the known data (train data).\n",
    "After that, get the first predicted month, or the first predicted sequence of test data"
   ],
   "id": "258c27b9defb7c70"
  },
  {
   "metadata": {
    "ExecuteTime": {
     "end_time": "2025-06-18T12:00:37.668145Z",
     "start_time": "2025-06-18T12:00:37.653510Z"
    }
   },
   "cell_type": "code",
   "source": [
    "# 1 month\n",
    "df_train = X_train[:, :, -1].clone()\n",
    "y_test_pred_1m = y_test_pred[0,:,:].T[0:0] # y_test_pred[:,:,0][0] \n",
    "y_test_pred_1m"
   ],
   "id": "4e354978addc055d",
   "outputs": [
    {
     "data": {
      "text/plain": [
       "tensor([], size=(0, 1332))"
      ]
     },
     "execution_count": 142,
     "metadata": {},
     "output_type": "execute_result"
    }
   ],
   "execution_count": 142
  },
  {
   "metadata": {
    "ExecuteTime": {
     "end_time": "2025-06-18T12:00:37.767732Z",
     "start_time": "2025-06-18T12:00:37.741782Z"
    }
   },
   "cell_type": "code",
   "source": [
    "df_forecast_1m = pd.DataFrame(df_train.clone())\n",
    "df_forecast_1m = pd.concat([df_forecast_1m, pd.DataFrame(y_test_pred_1m)], ignore_index=True)\n",
    "# Assign back columns and indices to make human understandable\n",
    "df_forecast_1m.columns = df.columns\n",
    "df_forecast_1m.index = pd.to_datetime(df_pct[(in_seq_length - 1) : len(df_forecast_1m) + (in_seq_length - 1)].index)\n",
    "#\n",
    "df_forecast_1m = df_forecast_1m.tail(variables.LSTM_TEST_YEARS_NR * 12) \n",
    "#\n",
    "df_forecast_1m.tail(3)"
   ],
   "id": "1b9c596330067ac4",
   "outputs": [
    {
     "data": {
      "text/plain": [
       "             GME  2124.T  2491.T  2471.T  3046.T  PAT.DE  CROX  AOF.DE  \\\n",
       "Date                                                                     \n",
       "2018-06-01  0.10    0.10    0.25   -0.24    0.04   -0.07 -0.01    0.10   \n",
       "2018-07-01  0.02    0.00    0.04    0.10    0.00    0.19  0.03   -0.01   \n",
       "2018-08-01 -0.08    0.01    0.07    0.13   -0.09   -0.07  0.14   -0.07   \n",
       "\n",
       "            SFQ.DE   DAN  ...  KREF  HLN.L   DBX  BNL  CBL  KVUE  PSTL  NTST  \\\n",
       "Date                      ...                                                  \n",
       "2018-06-01   -0.18 -0.09  ... -0.03    0.0  0.08  0.0  0.0   0.0  0.02  0.02   \n",
       "2018-07-01    0.10  0.06  ...  0.07    0.0 -0.17  0.0  0.0   0.0  0.00  0.00   \n",
       "2018-08-01   -0.06 -0.08  ...  0.02    0.0  0.00  0.0  0.0   0.0 -0.01  0.00   \n",
       "\n",
       "            BLCO  NBS.L  \n",
       "Date                     \n",
       "2018-06-01   0.0    0.0  \n",
       "2018-07-01   0.0    0.0  \n",
       "2018-08-01   0.0    0.0  \n",
       "\n",
       "[3 rows x 1332 columns]"
      ],
      "text/html": [
       "<div>\n",
       "<style scoped>\n",
       "    .dataframe tbody tr th:only-of-type {\n",
       "        vertical-align: middle;\n",
       "    }\n",
       "\n",
       "    .dataframe tbody tr th {\n",
       "        vertical-align: top;\n",
       "    }\n",
       "\n",
       "    .dataframe thead th {\n",
       "        text-align: right;\n",
       "    }\n",
       "</style>\n",
       "<table border=\"1\" class=\"dataframe\">\n",
       "  <thead>\n",
       "    <tr style=\"text-align: right;\">\n",
       "      <th></th>\n",
       "      <th>GME</th>\n",
       "      <th>2124.T</th>\n",
       "      <th>2491.T</th>\n",
       "      <th>2471.T</th>\n",
       "      <th>3046.T</th>\n",
       "      <th>PAT.DE</th>\n",
       "      <th>CROX</th>\n",
       "      <th>AOF.DE</th>\n",
       "      <th>SFQ.DE</th>\n",
       "      <th>DAN</th>\n",
       "      <th>...</th>\n",
       "      <th>KREF</th>\n",
       "      <th>HLN.L</th>\n",
       "      <th>DBX</th>\n",
       "      <th>BNL</th>\n",
       "      <th>CBL</th>\n",
       "      <th>KVUE</th>\n",
       "      <th>PSTL</th>\n",
       "      <th>NTST</th>\n",
       "      <th>BLCO</th>\n",
       "      <th>NBS.L</th>\n",
       "    </tr>\n",
       "    <tr>\n",
       "      <th>Date</th>\n",
       "      <th></th>\n",
       "      <th></th>\n",
       "      <th></th>\n",
       "      <th></th>\n",
       "      <th></th>\n",
       "      <th></th>\n",
       "      <th></th>\n",
       "      <th></th>\n",
       "      <th></th>\n",
       "      <th></th>\n",
       "      <th></th>\n",
       "      <th></th>\n",
       "      <th></th>\n",
       "      <th></th>\n",
       "      <th></th>\n",
       "      <th></th>\n",
       "      <th></th>\n",
       "      <th></th>\n",
       "      <th></th>\n",
       "      <th></th>\n",
       "      <th></th>\n",
       "    </tr>\n",
       "  </thead>\n",
       "  <tbody>\n",
       "    <tr>\n",
       "      <th>2018-06-01</th>\n",
       "      <td>0.10</td>\n",
       "      <td>0.10</td>\n",
       "      <td>0.25</td>\n",
       "      <td>-0.24</td>\n",
       "      <td>0.04</td>\n",
       "      <td>-0.07</td>\n",
       "      <td>-0.01</td>\n",
       "      <td>0.10</td>\n",
       "      <td>-0.18</td>\n",
       "      <td>-0.09</td>\n",
       "      <td>...</td>\n",
       "      <td>-0.03</td>\n",
       "      <td>0.0</td>\n",
       "      <td>0.08</td>\n",
       "      <td>0.0</td>\n",
       "      <td>0.0</td>\n",
       "      <td>0.0</td>\n",
       "      <td>0.02</td>\n",
       "      <td>0.02</td>\n",
       "      <td>0.0</td>\n",
       "      <td>0.0</td>\n",
       "    </tr>\n",
       "    <tr>\n",
       "      <th>2018-07-01</th>\n",
       "      <td>0.02</td>\n",
       "      <td>0.00</td>\n",
       "      <td>0.04</td>\n",
       "      <td>0.10</td>\n",
       "      <td>0.00</td>\n",
       "      <td>0.19</td>\n",
       "      <td>0.03</td>\n",
       "      <td>-0.01</td>\n",
       "      <td>0.10</td>\n",
       "      <td>0.06</td>\n",
       "      <td>...</td>\n",
       "      <td>0.07</td>\n",
       "      <td>0.0</td>\n",
       "      <td>-0.17</td>\n",
       "      <td>0.0</td>\n",
       "      <td>0.0</td>\n",
       "      <td>0.0</td>\n",
       "      <td>0.00</td>\n",
       "      <td>0.00</td>\n",
       "      <td>0.0</td>\n",
       "      <td>0.0</td>\n",
       "    </tr>\n",
       "    <tr>\n",
       "      <th>2018-08-01</th>\n",
       "      <td>-0.08</td>\n",
       "      <td>0.01</td>\n",
       "      <td>0.07</td>\n",
       "      <td>0.13</td>\n",
       "      <td>-0.09</td>\n",
       "      <td>-0.07</td>\n",
       "      <td>0.14</td>\n",
       "      <td>-0.07</td>\n",
       "      <td>-0.06</td>\n",
       "      <td>-0.08</td>\n",
       "      <td>...</td>\n",
       "      <td>0.02</td>\n",
       "      <td>0.0</td>\n",
       "      <td>0.00</td>\n",
       "      <td>0.0</td>\n",
       "      <td>0.0</td>\n",
       "      <td>0.0</td>\n",
       "      <td>-0.01</td>\n",
       "      <td>0.00</td>\n",
       "      <td>0.0</td>\n",
       "      <td>0.0</td>\n",
       "    </tr>\n",
       "  </tbody>\n",
       "</table>\n",
       "<p>3 rows × 1332 columns</p>\n",
       "</div>"
      ]
     },
     "execution_count": 143,
     "metadata": {},
     "output_type": "execute_result"
    }
   ],
   "execution_count": 143
  },
  {
   "metadata": {
    "ExecuteTime": {
     "end_time": "2025-06-18T12:00:42.752732Z",
     "start_time": "2025-06-18T12:00:38.029608Z"
    }
   },
   "cell_type": "code",
   "source": [
    "importlib.reload(lstm_utils)\n",
    "importlib.reload(mpt_utils)\n",
    "\n",
    "weights_1m, mu_1m, S_1m, allocations_1m, weights_all_1m = mpt_utils.portfolio_and_plot(df_forecast_1m, df, plot_threshold=0.018)"
   ],
   "id": "27ab10ee985db539",
   "outputs": [
    {
     "name": "stdout",
     "output_type": "stream",
     "text": [
      "Expected annual return: 81.8%\n",
      "Annual volatility: 6.9%\n",
      "Sharpe Ratio: 11.54\n",
      "-- Allocation --\n",
      "{'ETSY': 1, '2491.T': 6, 'TPE.DE': 2, 'CVNA': 1, '3697.T': 1, 'PAR': 1, 'FCN': 1, 'FNKO': 4, 'NTNX': 1, 'RUN': 4, '6951.T': 1, '7518.T': 2, 'ABDP.L': 1, 'BOOT': 1, 'LULU': 1, 'HSII': 1, 'ADUS': 1, 'NSP': 1, 'IIPR': 1, '2471.T': 11, '6814.T': 3, 'WSC': 1, 'HAE': 1, 'MEDP': 1, 'AEO': 1, '4568.T': 1, 'QLYS': 1, '6866.T': 1, 'NSSC': 1, '9697.T': 1, '6200.T': 3, '4751.T': 5, 'CATO': 4, '2475.T': 2, 'MOV': 1, 'BBSI': 1, '2429.T': 3, '2389.T': 2, 'EH': 2, '2154.T': 2, '3994.T': 1, 'SHYF': 2, 'COK.DE': 1, '7730.T': 1, 'FARO': 1, '4218.T': 2, '4641.T': 1, 'GES': 1, 'PRDO': 1, '2170.T': 7, '6914.T': 2, '4503.T': 1, 'TPR': 1, 'UAA': 3, '9413.T': 1, '7868.T': 5, 'NEO': 1, '6183.T': 1, '7990.T': 1, 'FTK.DE': 1, 'NVRI': 3, '6055.T': 1, '7296.T': 1, '3151.T': 2, '7476.T': 1, '3048.T': 2, '7575.T': 3, 'CNK': 1, '7613.T': 2, '7936.T': 2, 'PKE': 1, '7220.T': 1, '4301.T': 1, '8439.T': 1, '3738.T': 1, '7752.T': 2, 'HPE': 1, '9260.T': 1, '8818.T': 1, '6417.T': 1, '7250.T': 1, 'APLD': 3, '4151.T': 1, '4549.T': 1, '3608.T': 3, 'EOAN.DE': 1, '7508.T': 1, '2337.T': 4, 'MFA': 1, '2124.T': 1, '4745.T': 2, '7893.T': 1, 'TRTX': 1, 'AMCR': 1, 'HBI': 1, 'AOX.DE': 1}\n",
      "-- Weights Percentage --\n",
      "{'2491.T': 0.0359, 'CVNA': 0.0313, 'PAR': 0.0263, 'FCN': 0.0234, 'BOOT': 0.0182, '6951.T': 0.0187, 'TPE.DE': 0.0359, 'ABDP.L': 0.0182, 'RUN': 0.0194, '3697.T': 0.0295, 'ETSY': 0.0364, '7518.T': 0.0185, 'FNKO': 0.0226, 'NTNX': 0.0199, 'Other(82)': 0.6456}\n"
     ]
    },
    {
     "name": "stderr",
     "output_type": "stream",
     "text": [
      "/Users/herbishtini/anaconda3/envs/portfolio_optimisation/lib/python3.11/site-packages/pypfopt/discrete_allocation.py:27: FutureWarning:\n",
      "\n",
      "Downcasting object dtype arrays on .fillna, .ffill, .bfill is deprecated and will change in a future version. Call result.infer_objects(copy=False) instead. To opt-in to the future behavior, set `pd.set_option('future.no_silent_downcasting', True)`\n",
      "\n"
     ]
    },
    {
     "data": {
      "application/vnd.plotly.v1+json": {
       "data": [
        {
         "hole": 0.3,
         "insidetextorientation": "radial",
         "labels": [
          "2491.T",
          "CVNA",
          "PAR",
          "FCN",
          "BOOT",
          "6951.T",
          "TPE.DE",
          "ABDP.L",
          "RUN",
          "3697.T",
          "ETSY",
          "7518.T",
          "FNKO",
          "NTNX",
          "Other(82)"
         ],
         "textinfo": "label+percent",
         "textposition": "inside",
         "values": [
          0.0146,
          0.0127,
          0.0107,
          0.0095,
          0.0074,
          0.0076,
          0.0146,
          0.0074,
          0.0079,
          0.012,
          0.0148,
          0.0075,
          0.0092,
          0.0081,
          0.2623
         ],
         "type": "pie"
        }
       ],
       "layout": {
        "template": {
         "data": {
          "histogram2dcontour": [
           {
            "type": "histogram2dcontour",
            "colorbar": {
             "outlinewidth": 0,
             "ticks": ""
            },
            "colorscale": [
             [
              0.0,
              "#0d0887"
             ],
             [
              0.1111111111111111,
              "#46039f"
             ],
             [
              0.2222222222222222,
              "#7201a8"
             ],
             [
              0.3333333333333333,
              "#9c179e"
             ],
             [
              0.4444444444444444,
              "#bd3786"
             ],
             [
              0.5555555555555556,
              "#d8576b"
             ],
             [
              0.6666666666666666,
              "#ed7953"
             ],
             [
              0.7777777777777778,
              "#fb9f3a"
             ],
             [
              0.8888888888888888,
              "#fdca26"
             ],
             [
              1.0,
              "#f0f921"
             ]
            ]
           }
          ],
          "choropleth": [
           {
            "type": "choropleth",
            "colorbar": {
             "outlinewidth": 0,
             "ticks": ""
            }
           }
          ],
          "histogram2d": [
           {
            "type": "histogram2d",
            "colorbar": {
             "outlinewidth": 0,
             "ticks": ""
            },
            "colorscale": [
             [
              0.0,
              "#0d0887"
             ],
             [
              0.1111111111111111,
              "#46039f"
             ],
             [
              0.2222222222222222,
              "#7201a8"
             ],
             [
              0.3333333333333333,
              "#9c179e"
             ],
             [
              0.4444444444444444,
              "#bd3786"
             ],
             [
              0.5555555555555556,
              "#d8576b"
             ],
             [
              0.6666666666666666,
              "#ed7953"
             ],
             [
              0.7777777777777778,
              "#fb9f3a"
             ],
             [
              0.8888888888888888,
              "#fdca26"
             ],
             [
              1.0,
              "#f0f921"
             ]
            ]
           }
          ],
          "heatmap": [
           {
            "type": "heatmap",
            "colorbar": {
             "outlinewidth": 0,
             "ticks": ""
            },
            "colorscale": [
             [
              0.0,
              "#0d0887"
             ],
             [
              0.1111111111111111,
              "#46039f"
             ],
             [
              0.2222222222222222,
              "#7201a8"
             ],
             [
              0.3333333333333333,
              "#9c179e"
             ],
             [
              0.4444444444444444,
              "#bd3786"
             ],
             [
              0.5555555555555556,
              "#d8576b"
             ],
             [
              0.6666666666666666,
              "#ed7953"
             ],
             [
              0.7777777777777778,
              "#fb9f3a"
             ],
             [
              0.8888888888888888,
              "#fdca26"
             ],
             [
              1.0,
              "#f0f921"
             ]
            ]
           }
          ],
          "heatmapgl": [
           {
            "type": "heatmapgl",
            "colorbar": {
             "outlinewidth": 0,
             "ticks": ""
            },
            "colorscale": [
             [
              0.0,
              "#0d0887"
             ],
             [
              0.1111111111111111,
              "#46039f"
             ],
             [
              0.2222222222222222,
              "#7201a8"
             ],
             [
              0.3333333333333333,
              "#9c179e"
             ],
             [
              0.4444444444444444,
              "#bd3786"
             ],
             [
              0.5555555555555556,
              "#d8576b"
             ],
             [
              0.6666666666666666,
              "#ed7953"
             ],
             [
              0.7777777777777778,
              "#fb9f3a"
             ],
             [
              0.8888888888888888,
              "#fdca26"
             ],
             [
              1.0,
              "#f0f921"
             ]
            ]
           }
          ],
          "contourcarpet": [
           {
            "type": "contourcarpet",
            "colorbar": {
             "outlinewidth": 0,
             "ticks": ""
            }
           }
          ],
          "contour": [
           {
            "type": "contour",
            "colorbar": {
             "outlinewidth": 0,
             "ticks": ""
            },
            "colorscale": [
             [
              0.0,
              "#0d0887"
             ],
             [
              0.1111111111111111,
              "#46039f"
             ],
             [
              0.2222222222222222,
              "#7201a8"
             ],
             [
              0.3333333333333333,
              "#9c179e"
             ],
             [
              0.4444444444444444,
              "#bd3786"
             ],
             [
              0.5555555555555556,
              "#d8576b"
             ],
             [
              0.6666666666666666,
              "#ed7953"
             ],
             [
              0.7777777777777778,
              "#fb9f3a"
             ],
             [
              0.8888888888888888,
              "#fdca26"
             ],
             [
              1.0,
              "#f0f921"
             ]
            ]
           }
          ],
          "surface": [
           {
            "type": "surface",
            "colorbar": {
             "outlinewidth": 0,
             "ticks": ""
            },
            "colorscale": [
             [
              0.0,
              "#0d0887"
             ],
             [
              0.1111111111111111,
              "#46039f"
             ],
             [
              0.2222222222222222,
              "#7201a8"
             ],
             [
              0.3333333333333333,
              "#9c179e"
             ],
             [
              0.4444444444444444,
              "#bd3786"
             ],
             [
              0.5555555555555556,
              "#d8576b"
             ],
             [
              0.6666666666666666,
              "#ed7953"
             ],
             [
              0.7777777777777778,
              "#fb9f3a"
             ],
             [
              0.8888888888888888,
              "#fdca26"
             ],
             [
              1.0,
              "#f0f921"
             ]
            ]
           }
          ],
          "mesh3d": [
           {
            "type": "mesh3d",
            "colorbar": {
             "outlinewidth": 0,
             "ticks": ""
            }
           }
          ],
          "scatter": [
           {
            "marker": {
             "line": {
              "color": "#283442"
             }
            },
            "type": "scatter"
           }
          ],
          "parcoords": [
           {
            "type": "parcoords",
            "line": {
             "colorbar": {
              "outlinewidth": 0,
              "ticks": ""
             }
            }
           }
          ],
          "scatterpolargl": [
           {
            "type": "scatterpolargl",
            "marker": {
             "colorbar": {
              "outlinewidth": 0,
              "ticks": ""
             }
            }
           }
          ],
          "bar": [
           {
            "error_x": {
             "color": "#f2f5fa"
            },
            "error_y": {
             "color": "#f2f5fa"
            },
            "marker": {
             "line": {
              "color": "rgb(17,17,17)",
              "width": 0.5
             },
             "pattern": {
              "fillmode": "overlay",
              "size": 10,
              "solidity": 0.2
             }
            },
            "type": "bar"
           }
          ],
          "scattergeo": [
           {
            "type": "scattergeo",
            "marker": {
             "colorbar": {
              "outlinewidth": 0,
              "ticks": ""
             }
            }
           }
          ],
          "scatterpolar": [
           {
            "type": "scatterpolar",
            "marker": {
             "colorbar": {
              "outlinewidth": 0,
              "ticks": ""
             }
            }
           }
          ],
          "histogram": [
           {
            "marker": {
             "pattern": {
              "fillmode": "overlay",
              "size": 10,
              "solidity": 0.2
             }
            },
            "type": "histogram"
           }
          ],
          "scattergl": [
           {
            "marker": {
             "line": {
              "color": "#283442"
             }
            },
            "type": "scattergl"
           }
          ],
          "scatter3d": [
           {
            "type": "scatter3d",
            "line": {
             "colorbar": {
              "outlinewidth": 0,
              "ticks": ""
             }
            },
            "marker": {
             "colorbar": {
              "outlinewidth": 0,
              "ticks": ""
             }
            }
           }
          ],
          "scattermapbox": [
           {
            "type": "scattermapbox",
            "marker": {
             "colorbar": {
              "outlinewidth": 0,
              "ticks": ""
             }
            }
           }
          ],
          "scatterternary": [
           {
            "type": "scatterternary",
            "marker": {
             "colorbar": {
              "outlinewidth": 0,
              "ticks": ""
             }
            }
           }
          ],
          "scattercarpet": [
           {
            "type": "scattercarpet",
            "marker": {
             "colorbar": {
              "outlinewidth": 0,
              "ticks": ""
             }
            }
           }
          ],
          "carpet": [
           {
            "aaxis": {
             "endlinecolor": "#A2B1C6",
             "gridcolor": "#506784",
             "linecolor": "#506784",
             "minorgridcolor": "#506784",
             "startlinecolor": "#A2B1C6"
            },
            "baxis": {
             "endlinecolor": "#A2B1C6",
             "gridcolor": "#506784",
             "linecolor": "#506784",
             "minorgridcolor": "#506784",
             "startlinecolor": "#A2B1C6"
            },
            "type": "carpet"
           }
          ],
          "table": [
           {
            "cells": {
             "fill": {
              "color": "#506784"
             },
             "line": {
              "color": "rgb(17,17,17)"
             }
            },
            "header": {
             "fill": {
              "color": "#2a3f5f"
             },
             "line": {
              "color": "rgb(17,17,17)"
             }
            },
            "type": "table"
           }
          ],
          "barpolar": [
           {
            "marker": {
             "line": {
              "color": "rgb(17,17,17)",
              "width": 0.5
             },
             "pattern": {
              "fillmode": "overlay",
              "size": 10,
              "solidity": 0.2
             }
            },
            "type": "barpolar"
           }
          ],
          "pie": [
           {
            "automargin": true,
            "type": "pie"
           }
          ]
         },
         "layout": {
          "autotypenumbers": "strict",
          "colorway": [
           "#636efa",
           "#EF553B",
           "#00cc96",
           "#ab63fa",
           "#FFA15A",
           "#19d3f3",
           "#FF6692",
           "#B6E880",
           "#FF97FF",
           "#FECB52"
          ],
          "font": {
           "color": "#f2f5fa"
          },
          "hovermode": "closest",
          "hoverlabel": {
           "align": "left"
          },
          "paper_bgcolor": "rgb(17,17,17)",
          "plot_bgcolor": "rgb(17,17,17)",
          "polar": {
           "bgcolor": "rgb(17,17,17)",
           "angularaxis": {
            "gridcolor": "#506784",
            "linecolor": "#506784",
            "ticks": ""
           },
           "radialaxis": {
            "gridcolor": "#506784",
            "linecolor": "#506784",
            "ticks": ""
           }
          },
          "ternary": {
           "bgcolor": "rgb(17,17,17)",
           "aaxis": {
            "gridcolor": "#506784",
            "linecolor": "#506784",
            "ticks": ""
           },
           "baxis": {
            "gridcolor": "#506784",
            "linecolor": "#506784",
            "ticks": ""
           },
           "caxis": {
            "gridcolor": "#506784",
            "linecolor": "#506784",
            "ticks": ""
           }
          },
          "coloraxis": {
           "colorbar": {
            "outlinewidth": 0,
            "ticks": ""
           }
          },
          "colorscale": {
           "sequential": [
            [
             0.0,
             "#0d0887"
            ],
            [
             0.1111111111111111,
             "#46039f"
            ],
            [
             0.2222222222222222,
             "#7201a8"
            ],
            [
             0.3333333333333333,
             "#9c179e"
            ],
            [
             0.4444444444444444,
             "#bd3786"
            ],
            [
             0.5555555555555556,
             "#d8576b"
            ],
            [
             0.6666666666666666,
             "#ed7953"
            ],
            [
             0.7777777777777778,
             "#fb9f3a"
            ],
            [
             0.8888888888888888,
             "#fdca26"
            ],
            [
             1.0,
             "#f0f921"
            ]
           ],
           "sequentialminus": [
            [
             0.0,
             "#0d0887"
            ],
            [
             0.1111111111111111,
             "#46039f"
            ],
            [
             0.2222222222222222,
             "#7201a8"
            ],
            [
             0.3333333333333333,
             "#9c179e"
            ],
            [
             0.4444444444444444,
             "#bd3786"
            ],
            [
             0.5555555555555556,
             "#d8576b"
            ],
            [
             0.6666666666666666,
             "#ed7953"
            ],
            [
             0.7777777777777778,
             "#fb9f3a"
            ],
            [
             0.8888888888888888,
             "#fdca26"
            ],
            [
             1.0,
             "#f0f921"
            ]
           ],
           "diverging": [
            [
             0,
             "#8e0152"
            ],
            [
             0.1,
             "#c51b7d"
            ],
            [
             0.2,
             "#de77ae"
            ],
            [
             0.3,
             "#f1b6da"
            ],
            [
             0.4,
             "#fde0ef"
            ],
            [
             0.5,
             "#f7f7f7"
            ],
            [
             0.6,
             "#e6f5d0"
            ],
            [
             0.7,
             "#b8e186"
            ],
            [
             0.8,
             "#7fbc41"
            ],
            [
             0.9,
             "#4d9221"
            ],
            [
             1,
             "#276419"
            ]
           ]
          },
          "xaxis": {
           "gridcolor": "#283442",
           "linecolor": "#506784",
           "ticks": "",
           "title": {
            "standoff": 15
           },
           "zerolinecolor": "#283442",
           "automargin": true,
           "zerolinewidth": 2
          },
          "yaxis": {
           "gridcolor": "#283442",
           "linecolor": "#506784",
           "ticks": "",
           "title": {
            "standoff": 15
           },
           "zerolinecolor": "#283442",
           "automargin": true,
           "zerolinewidth": 2
          },
          "scene": {
           "xaxis": {
            "backgroundcolor": "rgb(17,17,17)",
            "gridcolor": "#506784",
            "linecolor": "#506784",
            "showbackground": true,
            "ticks": "",
            "zerolinecolor": "#C8D4E3",
            "gridwidth": 2
           },
           "yaxis": {
            "backgroundcolor": "rgb(17,17,17)",
            "gridcolor": "#506784",
            "linecolor": "#506784",
            "showbackground": true,
            "ticks": "",
            "zerolinecolor": "#C8D4E3",
            "gridwidth": 2
           },
           "zaxis": {
            "backgroundcolor": "rgb(17,17,17)",
            "gridcolor": "#506784",
            "linecolor": "#506784",
            "showbackground": true,
            "ticks": "",
            "zerolinecolor": "#C8D4E3",
            "gridwidth": 2
           }
          },
          "shapedefaults": {
           "line": {
            "color": "#f2f5fa"
           }
          },
          "annotationdefaults": {
           "arrowcolor": "#f2f5fa",
           "arrowhead": 0,
           "arrowwidth": 1
          },
          "geo": {
           "bgcolor": "rgb(17,17,17)",
           "landcolor": "rgb(17,17,17)",
           "subunitcolor": "#506784",
           "showland": true,
           "showlakes": true,
           "lakecolor": "rgb(17,17,17)"
          },
          "title": {
           "x": 0.05
          },
          "updatemenudefaults": {
           "bgcolor": "#506784",
           "borderwidth": 0
          },
          "sliderdefaults": {
           "bgcolor": "#C8D4E3",
           "borderwidth": 1,
           "bordercolor": "rgb(17,17,17)",
           "tickwidth": 0
          },
          "mapbox": {
           "style": "dark"
          }
         }
        },
        "margin": {
         "l": 20,
         "r": 20,
         "t": 20,
         "b": 20
        },
        "font": {
         "color": "black"
        },
        "height": 600,
        "width": 600,
        "paper_bgcolor": "white",
        "plot_bgcolor": "white",
        "showlegend": false
       },
       "config": {
        "plotlyServerURL": "https://plot.ly"
       }
      },
      "text/html": [
       "<div>                            <div id=\"8ad0a4e4-89e1-4ba9-8bd9-3dbb9037387e\" class=\"plotly-graph-div\" style=\"height:600px; width:600px;\"></div>            <script type=\"text/javascript\">                require([\"plotly\"], function(Plotly) {                    window.PLOTLYENV=window.PLOTLYENV || {};                                    if (document.getElementById(\"8ad0a4e4-89e1-4ba9-8bd9-3dbb9037387e\")) {                    Plotly.newPlot(                        \"8ad0a4e4-89e1-4ba9-8bd9-3dbb9037387e\",                        [{\"hole\":0.3,\"insidetextorientation\":\"radial\",\"labels\":[\"2491.T\",\"CVNA\",\"PAR\",\"FCN\",\"BOOT\",\"6951.T\",\"TPE.DE\",\"ABDP.L\",\"RUN\",\"3697.T\",\"ETSY\",\"7518.T\",\"FNKO\",\"NTNX\",\"Other(82)\"],\"textinfo\":\"label+percent\",\"textposition\":\"inside\",\"values\":[0.0146,0.0127,0.0107,0.0095,0.0074,0.0076,0.0146,0.0074,0.0079,0.012,0.0148,0.0075,0.0092,0.0081,0.2623],\"type\":\"pie\"}],                        {\"template\":{\"data\":{\"histogram2dcontour\":[{\"type\":\"histogram2dcontour\",\"colorbar\":{\"outlinewidth\":0,\"ticks\":\"\"},\"colorscale\":[[0.0,\"#0d0887\"],[0.1111111111111111,\"#46039f\"],[0.2222222222222222,\"#7201a8\"],[0.3333333333333333,\"#9c179e\"],[0.4444444444444444,\"#bd3786\"],[0.5555555555555556,\"#d8576b\"],[0.6666666666666666,\"#ed7953\"],[0.7777777777777778,\"#fb9f3a\"],[0.8888888888888888,\"#fdca26\"],[1.0,\"#f0f921\"]]}],\"choropleth\":[{\"type\":\"choropleth\",\"colorbar\":{\"outlinewidth\":0,\"ticks\":\"\"}}],\"histogram2d\":[{\"type\":\"histogram2d\",\"colorbar\":{\"outlinewidth\":0,\"ticks\":\"\"},\"colorscale\":[[0.0,\"#0d0887\"],[0.1111111111111111,\"#46039f\"],[0.2222222222222222,\"#7201a8\"],[0.3333333333333333,\"#9c179e\"],[0.4444444444444444,\"#bd3786\"],[0.5555555555555556,\"#d8576b\"],[0.6666666666666666,\"#ed7953\"],[0.7777777777777778,\"#fb9f3a\"],[0.8888888888888888,\"#fdca26\"],[1.0,\"#f0f921\"]]}],\"heatmap\":[{\"type\":\"heatmap\",\"colorbar\":{\"outlinewidth\":0,\"ticks\":\"\"},\"colorscale\":[[0.0,\"#0d0887\"],[0.1111111111111111,\"#46039f\"],[0.2222222222222222,\"#7201a8\"],[0.3333333333333333,\"#9c179e\"],[0.4444444444444444,\"#bd3786\"],[0.5555555555555556,\"#d8576b\"],[0.6666666666666666,\"#ed7953\"],[0.7777777777777778,\"#fb9f3a\"],[0.8888888888888888,\"#fdca26\"],[1.0,\"#f0f921\"]]}],\"heatmapgl\":[{\"type\":\"heatmapgl\",\"colorbar\":{\"outlinewidth\":0,\"ticks\":\"\"},\"colorscale\":[[0.0,\"#0d0887\"],[0.1111111111111111,\"#46039f\"],[0.2222222222222222,\"#7201a8\"],[0.3333333333333333,\"#9c179e\"],[0.4444444444444444,\"#bd3786\"],[0.5555555555555556,\"#d8576b\"],[0.6666666666666666,\"#ed7953\"],[0.7777777777777778,\"#fb9f3a\"],[0.8888888888888888,\"#fdca26\"],[1.0,\"#f0f921\"]]}],\"contourcarpet\":[{\"type\":\"contourcarpet\",\"colorbar\":{\"outlinewidth\":0,\"ticks\":\"\"}}],\"contour\":[{\"type\":\"contour\",\"colorbar\":{\"outlinewidth\":0,\"ticks\":\"\"},\"colorscale\":[[0.0,\"#0d0887\"],[0.1111111111111111,\"#46039f\"],[0.2222222222222222,\"#7201a8\"],[0.3333333333333333,\"#9c179e\"],[0.4444444444444444,\"#bd3786\"],[0.5555555555555556,\"#d8576b\"],[0.6666666666666666,\"#ed7953\"],[0.7777777777777778,\"#fb9f3a\"],[0.8888888888888888,\"#fdca26\"],[1.0,\"#f0f921\"]]}],\"surface\":[{\"type\":\"surface\",\"colorbar\":{\"outlinewidth\":0,\"ticks\":\"\"},\"colorscale\":[[0.0,\"#0d0887\"],[0.1111111111111111,\"#46039f\"],[0.2222222222222222,\"#7201a8\"],[0.3333333333333333,\"#9c179e\"],[0.4444444444444444,\"#bd3786\"],[0.5555555555555556,\"#d8576b\"],[0.6666666666666666,\"#ed7953\"],[0.7777777777777778,\"#fb9f3a\"],[0.8888888888888888,\"#fdca26\"],[1.0,\"#f0f921\"]]}],\"mesh3d\":[{\"type\":\"mesh3d\",\"colorbar\":{\"outlinewidth\":0,\"ticks\":\"\"}}],\"scatter\":[{\"marker\":{\"line\":{\"color\":\"#283442\"}},\"type\":\"scatter\"}],\"parcoords\":[{\"type\":\"parcoords\",\"line\":{\"colorbar\":{\"outlinewidth\":0,\"ticks\":\"\"}}}],\"scatterpolargl\":[{\"type\":\"scatterpolargl\",\"marker\":{\"colorbar\":{\"outlinewidth\":0,\"ticks\":\"\"}}}],\"bar\":[{\"error_x\":{\"color\":\"#f2f5fa\"},\"error_y\":{\"color\":\"#f2f5fa\"},\"marker\":{\"line\":{\"color\":\"rgb(17,17,17)\",\"width\":0.5},\"pattern\":{\"fillmode\":\"overlay\",\"size\":10,\"solidity\":0.2}},\"type\":\"bar\"}],\"scattergeo\":[{\"type\":\"scattergeo\",\"marker\":{\"colorbar\":{\"outlinewidth\":0,\"ticks\":\"\"}}}],\"scatterpolar\":[{\"type\":\"scatterpolar\",\"marker\":{\"colorbar\":{\"outlinewidth\":0,\"ticks\":\"\"}}}],\"histogram\":[{\"marker\":{\"pattern\":{\"fillmode\":\"overlay\",\"size\":10,\"solidity\":0.2}},\"type\":\"histogram\"}],\"scattergl\":[{\"marker\":{\"line\":{\"color\":\"#283442\"}},\"type\":\"scattergl\"}],\"scatter3d\":[{\"type\":\"scatter3d\",\"line\":{\"colorbar\":{\"outlinewidth\":0,\"ticks\":\"\"}},\"marker\":{\"colorbar\":{\"outlinewidth\":0,\"ticks\":\"\"}}}],\"scattermapbox\":[{\"type\":\"scattermapbox\",\"marker\":{\"colorbar\":{\"outlinewidth\":0,\"ticks\":\"\"}}}],\"scatterternary\":[{\"type\":\"scatterternary\",\"marker\":{\"colorbar\":{\"outlinewidth\":0,\"ticks\":\"\"}}}],\"scattercarpet\":[{\"type\":\"scattercarpet\",\"marker\":{\"colorbar\":{\"outlinewidth\":0,\"ticks\":\"\"}}}],\"carpet\":[{\"aaxis\":{\"endlinecolor\":\"#A2B1C6\",\"gridcolor\":\"#506784\",\"linecolor\":\"#506784\",\"minorgridcolor\":\"#506784\",\"startlinecolor\":\"#A2B1C6\"},\"baxis\":{\"endlinecolor\":\"#A2B1C6\",\"gridcolor\":\"#506784\",\"linecolor\":\"#506784\",\"minorgridcolor\":\"#506784\",\"startlinecolor\":\"#A2B1C6\"},\"type\":\"carpet\"}],\"table\":[{\"cells\":{\"fill\":{\"color\":\"#506784\"},\"line\":{\"color\":\"rgb(17,17,17)\"}},\"header\":{\"fill\":{\"color\":\"#2a3f5f\"},\"line\":{\"color\":\"rgb(17,17,17)\"}},\"type\":\"table\"}],\"barpolar\":[{\"marker\":{\"line\":{\"color\":\"rgb(17,17,17)\",\"width\":0.5},\"pattern\":{\"fillmode\":\"overlay\",\"size\":10,\"solidity\":0.2}},\"type\":\"barpolar\"}],\"pie\":[{\"automargin\":true,\"type\":\"pie\"}]},\"layout\":{\"autotypenumbers\":\"strict\",\"colorway\":[\"#636efa\",\"#EF553B\",\"#00cc96\",\"#ab63fa\",\"#FFA15A\",\"#19d3f3\",\"#FF6692\",\"#B6E880\",\"#FF97FF\",\"#FECB52\"],\"font\":{\"color\":\"#f2f5fa\"},\"hovermode\":\"closest\",\"hoverlabel\":{\"align\":\"left\"},\"paper_bgcolor\":\"rgb(17,17,17)\",\"plot_bgcolor\":\"rgb(17,17,17)\",\"polar\":{\"bgcolor\":\"rgb(17,17,17)\",\"angularaxis\":{\"gridcolor\":\"#506784\",\"linecolor\":\"#506784\",\"ticks\":\"\"},\"radialaxis\":{\"gridcolor\":\"#506784\",\"linecolor\":\"#506784\",\"ticks\":\"\"}},\"ternary\":{\"bgcolor\":\"rgb(17,17,17)\",\"aaxis\":{\"gridcolor\":\"#506784\",\"linecolor\":\"#506784\",\"ticks\":\"\"},\"baxis\":{\"gridcolor\":\"#506784\",\"linecolor\":\"#506784\",\"ticks\":\"\"},\"caxis\":{\"gridcolor\":\"#506784\",\"linecolor\":\"#506784\",\"ticks\":\"\"}},\"coloraxis\":{\"colorbar\":{\"outlinewidth\":0,\"ticks\":\"\"}},\"colorscale\":{\"sequential\":[[0.0,\"#0d0887\"],[0.1111111111111111,\"#46039f\"],[0.2222222222222222,\"#7201a8\"],[0.3333333333333333,\"#9c179e\"],[0.4444444444444444,\"#bd3786\"],[0.5555555555555556,\"#d8576b\"],[0.6666666666666666,\"#ed7953\"],[0.7777777777777778,\"#fb9f3a\"],[0.8888888888888888,\"#fdca26\"],[1.0,\"#f0f921\"]],\"sequentialminus\":[[0.0,\"#0d0887\"],[0.1111111111111111,\"#46039f\"],[0.2222222222222222,\"#7201a8\"],[0.3333333333333333,\"#9c179e\"],[0.4444444444444444,\"#bd3786\"],[0.5555555555555556,\"#d8576b\"],[0.6666666666666666,\"#ed7953\"],[0.7777777777777778,\"#fb9f3a\"],[0.8888888888888888,\"#fdca26\"],[1.0,\"#f0f921\"]],\"diverging\":[[0,\"#8e0152\"],[0.1,\"#c51b7d\"],[0.2,\"#de77ae\"],[0.3,\"#f1b6da\"],[0.4,\"#fde0ef\"],[0.5,\"#f7f7f7\"],[0.6,\"#e6f5d0\"],[0.7,\"#b8e186\"],[0.8,\"#7fbc41\"],[0.9,\"#4d9221\"],[1,\"#276419\"]]},\"xaxis\":{\"gridcolor\":\"#283442\",\"linecolor\":\"#506784\",\"ticks\":\"\",\"title\":{\"standoff\":15},\"zerolinecolor\":\"#283442\",\"automargin\":true,\"zerolinewidth\":2},\"yaxis\":{\"gridcolor\":\"#283442\",\"linecolor\":\"#506784\",\"ticks\":\"\",\"title\":{\"standoff\":15},\"zerolinecolor\":\"#283442\",\"automargin\":true,\"zerolinewidth\":2},\"scene\":{\"xaxis\":{\"backgroundcolor\":\"rgb(17,17,17)\",\"gridcolor\":\"#506784\",\"linecolor\":\"#506784\",\"showbackground\":true,\"ticks\":\"\",\"zerolinecolor\":\"#C8D4E3\",\"gridwidth\":2},\"yaxis\":{\"backgroundcolor\":\"rgb(17,17,17)\",\"gridcolor\":\"#506784\",\"linecolor\":\"#506784\",\"showbackground\":true,\"ticks\":\"\",\"zerolinecolor\":\"#C8D4E3\",\"gridwidth\":2},\"zaxis\":{\"backgroundcolor\":\"rgb(17,17,17)\",\"gridcolor\":\"#506784\",\"linecolor\":\"#506784\",\"showbackground\":true,\"ticks\":\"\",\"zerolinecolor\":\"#C8D4E3\",\"gridwidth\":2}},\"shapedefaults\":{\"line\":{\"color\":\"#f2f5fa\"}},\"annotationdefaults\":{\"arrowcolor\":\"#f2f5fa\",\"arrowhead\":0,\"arrowwidth\":1},\"geo\":{\"bgcolor\":\"rgb(17,17,17)\",\"landcolor\":\"rgb(17,17,17)\",\"subunitcolor\":\"#506784\",\"showland\":true,\"showlakes\":true,\"lakecolor\":\"rgb(17,17,17)\"},\"title\":{\"x\":0.05},\"updatemenudefaults\":{\"bgcolor\":\"#506784\",\"borderwidth\":0},\"sliderdefaults\":{\"bgcolor\":\"#C8D4E3\",\"borderwidth\":1,\"bordercolor\":\"rgb(17,17,17)\",\"tickwidth\":0},\"mapbox\":{\"style\":\"dark\"}}},\"margin\":{\"l\":20,\"r\":20,\"t\":20,\"b\":20},\"font\":{\"color\":\"black\"},\"height\":600,\"width\":600,\"paper_bgcolor\":\"white\",\"plot_bgcolor\":\"white\",\"showlegend\":false},                        {\"responsive\": true}                    ).then(function(){\n",
       "                            \n",
       "var gd = document.getElementById('8ad0a4e4-89e1-4ba9-8bd9-3dbb9037387e');\n",
       "var x = new MutationObserver(function (mutations, observer) {{\n",
       "        var display = window.getComputedStyle(gd).display;\n",
       "        if (!display || display === 'none') {{\n",
       "            console.log([gd, 'removed!']);\n",
       "            Plotly.purge(gd);\n",
       "            observer.disconnect();\n",
       "        }}\n",
       "}});\n",
       "\n",
       "// Listen for the removal of the full notebook cells\n",
       "var notebookContainer = gd.closest('#notebook-container');\n",
       "if (notebookContainer) {{\n",
       "    x.observe(notebookContainer, {childList: true});\n",
       "}}\n",
       "\n",
       "// Listen for the clearing of the current output cell\n",
       "var outputEl = gd.closest('.output');\n",
       "if (outputEl) {{\n",
       "    x.observe(outputEl, {childList: true});\n",
       "}}\n",
       "\n",
       "                        })                };                });            </script>        </div>"
      ]
     },
     "metadata": {},
     "output_type": "display_data"
    }
   ],
   "execution_count": 144
  },
  {
   "metadata": {},
   "cell_type": "markdown",
   "source": "#### Actual return rate",
   "id": "6cdc9e16c9e5c451"
  },
  {
   "metadata": {
    "ExecuteTime": {
     "end_time": "2025-06-18T12:00:43.021167Z",
     "start_time": "2025-06-18T12:00:43.012178Z"
    }
   },
   "cell_type": "code",
   "source": [
    "importlib.reload(mpt_utils)\n",
    "#\n",
    "mpt_utils.get_portfolio_real_return_rate(df_pct, df_forecast_1m, weights=weights_all_1m)"
   ],
   "id": "a127f3ff2e13af62",
   "outputs": [
    {
     "name": "stdout",
     "output_type": "stream",
     "text": [
      "Portfolio real return rate:  0.82%\n"
     ]
    }
   ],
   "execution_count": 145
  },
  {
   "metadata": {},
   "cell_type": "markdown",
   "source": "#### Overview table",
   "id": "832a93c646602493"
  },
  {
   "metadata": {
    "ExecuteTime": {
     "end_time": "2025-06-18T12:00:43.055406Z",
     "start_time": "2025-06-18T12:00:43.034341Z"
    }
   },
   "cell_type": "code",
   "source": [
    "importlib.reload(mpt_utils)\n",
    "# Create overview\n",
    "mpt_utils.generate_overview_table(allocations_1m, mu_1m, S_1m, df_pct)"
   ],
   "id": "69b503dace1fa341",
   "outputs": [
    {
     "data": {
      "text/plain": [
       "        Share Count  Average Covariance Average Returns Return Last 12 Months  \\\n",
       "ETSY              1           -0.004421          47.69%               -33.98%   \n",
       "2491.T            6           -0.024421         182.25%               -40.43%   \n",
       "TPE.DE            2            0.003474         183.13%               -14.53%   \n",
       "CVNA              1           -0.062842          27.62%                98.50%   \n",
       "3697.T            1            0.013053         170.34%                15.27%   \n",
       "...             ...                 ...             ...                   ...   \n",
       "7893.T            1            0.019579          72.08%                27.21%   \n",
       "TRTX              1            0.000421          14.39%               -25.34%   \n",
       "AMCR              1            0.010947         -13.23%               -20.57%   \n",
       "HBI               1            0.012737          11.15%               -37.03%   \n",
       "AOX.DE            1            0.004842           5.87%               -60.37%   \n",
       "\n",
       "       Return (Actual) Next 12 Months  \n",
       "ETSY                          -19.03%  \n",
       "2491.T                        -10.18%  \n",
       "TPE.DE                        -17.65%  \n",
       "CVNA                          211.25%  \n",
       "3697.T                        -56.94%  \n",
       "...                               ...  \n",
       "7893.T                          7.98%  \n",
       "TRTX                           49.38%  \n",
       "AMCR                           26.52%  \n",
       "HBI                            54.02%  \n",
       "AOX.DE                         39.42%  \n",
       "\n",
       "[96 rows x 5 columns]"
      ],
      "text/html": [
       "<div>\n",
       "<style scoped>\n",
       "    .dataframe tbody tr th:only-of-type {\n",
       "        vertical-align: middle;\n",
       "    }\n",
       "\n",
       "    .dataframe tbody tr th {\n",
       "        vertical-align: top;\n",
       "    }\n",
       "\n",
       "    .dataframe thead th {\n",
       "        text-align: right;\n",
       "    }\n",
       "</style>\n",
       "<table border=\"1\" class=\"dataframe\">\n",
       "  <thead>\n",
       "    <tr style=\"text-align: right;\">\n",
       "      <th></th>\n",
       "      <th>Share Count</th>\n",
       "      <th>Average Covariance</th>\n",
       "      <th>Average Returns</th>\n",
       "      <th>Return Last 12 Months</th>\n",
       "      <th>Return (Actual) Next 12 Months</th>\n",
       "    </tr>\n",
       "  </thead>\n",
       "  <tbody>\n",
       "    <tr>\n",
       "      <th>ETSY</th>\n",
       "      <td>1</td>\n",
       "      <td>-0.004421</td>\n",
       "      <td>47.69%</td>\n",
       "      <td>-33.98%</td>\n",
       "      <td>-19.03%</td>\n",
       "    </tr>\n",
       "    <tr>\n",
       "      <th>2491.T</th>\n",
       "      <td>6</td>\n",
       "      <td>-0.024421</td>\n",
       "      <td>182.25%</td>\n",
       "      <td>-40.43%</td>\n",
       "      <td>-10.18%</td>\n",
       "    </tr>\n",
       "    <tr>\n",
       "      <th>TPE.DE</th>\n",
       "      <td>2</td>\n",
       "      <td>0.003474</td>\n",
       "      <td>183.13%</td>\n",
       "      <td>-14.53%</td>\n",
       "      <td>-17.65%</td>\n",
       "    </tr>\n",
       "    <tr>\n",
       "      <th>CVNA</th>\n",
       "      <td>1</td>\n",
       "      <td>-0.062842</td>\n",
       "      <td>27.62%</td>\n",
       "      <td>98.50%</td>\n",
       "      <td>211.25%</td>\n",
       "    </tr>\n",
       "    <tr>\n",
       "      <th>3697.T</th>\n",
       "      <td>1</td>\n",
       "      <td>0.013053</td>\n",
       "      <td>170.34%</td>\n",
       "      <td>15.27%</td>\n",
       "      <td>-56.94%</td>\n",
       "    </tr>\n",
       "    <tr>\n",
       "      <th>...</th>\n",
       "      <td>...</td>\n",
       "      <td>...</td>\n",
       "      <td>...</td>\n",
       "      <td>...</td>\n",
       "      <td>...</td>\n",
       "    </tr>\n",
       "    <tr>\n",
       "      <th>7893.T</th>\n",
       "      <td>1</td>\n",
       "      <td>0.019579</td>\n",
       "      <td>72.08%</td>\n",
       "      <td>27.21%</td>\n",
       "      <td>7.98%</td>\n",
       "    </tr>\n",
       "    <tr>\n",
       "      <th>TRTX</th>\n",
       "      <td>1</td>\n",
       "      <td>0.000421</td>\n",
       "      <td>14.39%</td>\n",
       "      <td>-25.34%</td>\n",
       "      <td>49.38%</td>\n",
       "    </tr>\n",
       "    <tr>\n",
       "      <th>AMCR</th>\n",
       "      <td>1</td>\n",
       "      <td>0.010947</td>\n",
       "      <td>-13.23%</td>\n",
       "      <td>-20.57%</td>\n",
       "      <td>26.52%</td>\n",
       "    </tr>\n",
       "    <tr>\n",
       "      <th>HBI</th>\n",
       "      <td>1</td>\n",
       "      <td>0.012737</td>\n",
       "      <td>11.15%</td>\n",
       "      <td>-37.03%</td>\n",
       "      <td>54.02%</td>\n",
       "    </tr>\n",
       "    <tr>\n",
       "      <th>AOX.DE</th>\n",
       "      <td>1</td>\n",
       "      <td>0.004842</td>\n",
       "      <td>5.87%</td>\n",
       "      <td>-60.37%</td>\n",
       "      <td>39.42%</td>\n",
       "    </tr>\n",
       "  </tbody>\n",
       "</table>\n",
       "<p>96 rows × 5 columns</p>\n",
       "</div>"
      ]
     },
     "execution_count": 146,
     "metadata": {},
     "output_type": "execute_result"
    }
   ],
   "execution_count": 146
  },
  {
   "metadata": {},
   "cell_type": "markdown",
   "source": "### LSTM Univariate - 6 Months",
   "id": "43a9fdefde6c005"
  },
  {
   "metadata": {},
   "cell_type": "markdown",
   "source": [
    "Get the known data (train data)\n",
    "After that, get the first 6 predicted months, or the first 6 predicted sequences of test data"
   ],
   "id": "fd7bdd04c2d45540"
  },
  {
   "metadata": {
    "ExecuteTime": {
     "end_time": "2025-06-18T12:00:43.090807Z",
     "start_time": "2025-06-18T12:00:43.082516Z"
    }
   },
   "cell_type": "code",
   "source": [
    "df_train = X_train[:, :, -1].clone()\n",
    "y_test_pred_6m =  y_test_pred[0,:,:].T[0:6] # y_test_pred[:,:,5][0:6]\n",
    "y_test_pred_6m"
   ],
   "id": "fd98c778b7b249cb",
   "outputs": [
    {
     "data": {
      "text/plain": [
       "tensor([[-0.0335, -0.0101,  0.0035,  ...,  0.0101,  0.0100,  0.0091],\n",
       "        [-0.0208, -0.0055,  0.0074,  ...,  0.0120,  0.0120,  0.0112],\n",
       "        [-0.0404, -0.0180,  0.0005,  ...,  0.0101,  0.0103,  0.0105],\n",
       "        [ 0.0477,  0.0286,  0.0229,  ...,  0.0102,  0.0101,  0.0105],\n",
       "        [ 0.0007,  0.0048,  0.0119,  ...,  0.0106,  0.0105,  0.0105],\n",
       "        [ 0.0156,  0.0169,  0.0135,  ...,  0.0122,  0.0121,  0.0119]])"
      ]
     },
     "execution_count": 147,
     "metadata": {},
     "output_type": "execute_result"
    }
   ],
   "execution_count": 147
  },
  {
   "metadata": {
    "ExecuteTime": {
     "end_time": "2025-06-18T12:00:43.300402Z",
     "start_time": "2025-06-18T12:00:43.291139Z"
    }
   },
   "cell_type": "code",
   "source": [
    "df_forecast_6m = pd.DataFrame(df_train.clone())\n",
    "df_forecast_6m = pd.concat([df_forecast_6m, pd.DataFrame(y_test_pred_6m)], ignore_index=True)\n",
    "# Assign back columns and indices to make human understandable\n",
    "df_forecast_6m.columns = df.columns\n",
    "df_forecast_6m.index = pd.to_datetime(df_pct[(in_seq_length - 1) : len(df_forecast_6m) + (in_seq_length - 1)].index)\n",
    "#\n",
    "df_forecast_6m = df_forecast_6m.tail(variables.LSTM_TEST_YEARS_NR * 12)\n",
    "#\n",
    "df_forecast_6m.tail(3)"
   ],
   "id": "d3afc8fa5f0e31c6",
   "outputs": [
    {
     "data": {
      "text/plain": [
       "                 GME    2124.T    2491.T    2471.T    3046.T    PAT.DE  \\\n",
       "Date                                                                     \n",
       "2018-12-01  0.047733  0.028598  0.022883  0.017308  0.017454  0.011186   \n",
       "2019-01-01  0.000669  0.004800  0.011901  0.006883  0.013904  0.012305   \n",
       "2019-02-01  0.015591  0.016868  0.013543  0.015609  0.015370  0.015178   \n",
       "\n",
       "                CROX    AOF.DE    SFQ.DE       DAN  ...      KREF     HLN.L  \\\n",
       "Date                                                ...                       \n",
       "2018-12-01  0.008255  0.011459  0.009113  0.006611  ...  0.008876  0.009591   \n",
       "2019-01-01  0.008991  0.010621  0.009356  0.007768  ...  0.010053  0.009969   \n",
       "2019-02-01  0.016904  0.015836  0.013221  0.013326  ...  0.013914  0.013311   \n",
       "\n",
       "                 DBX       BNL       CBL      KVUE      PSTL      NTST  \\\n",
       "Date                                                                     \n",
       "2018-12-01  0.012648  0.011494  0.010843  0.010609  0.010388  0.010206   \n",
       "2019-01-01  0.009920  0.010228  0.010400  0.010324  0.010739  0.010585   \n",
       "2019-02-01  0.013155  0.012328  0.011962  0.011781  0.012162  0.012238   \n",
       "\n",
       "                BLCO     NBS.L  \n",
       "Date                            \n",
       "2018-12-01  0.010088  0.010459  \n",
       "2019-01-01  0.010471  0.010536  \n",
       "2019-02-01  0.012098  0.011920  \n",
       "\n",
       "[3 rows x 1332 columns]"
      ],
      "text/html": [
       "<div>\n",
       "<style scoped>\n",
       "    .dataframe tbody tr th:only-of-type {\n",
       "        vertical-align: middle;\n",
       "    }\n",
       "\n",
       "    .dataframe tbody tr th {\n",
       "        vertical-align: top;\n",
       "    }\n",
       "\n",
       "    .dataframe thead th {\n",
       "        text-align: right;\n",
       "    }\n",
       "</style>\n",
       "<table border=\"1\" class=\"dataframe\">\n",
       "  <thead>\n",
       "    <tr style=\"text-align: right;\">\n",
       "      <th></th>\n",
       "      <th>GME</th>\n",
       "      <th>2124.T</th>\n",
       "      <th>2491.T</th>\n",
       "      <th>2471.T</th>\n",
       "      <th>3046.T</th>\n",
       "      <th>PAT.DE</th>\n",
       "      <th>CROX</th>\n",
       "      <th>AOF.DE</th>\n",
       "      <th>SFQ.DE</th>\n",
       "      <th>DAN</th>\n",
       "      <th>...</th>\n",
       "      <th>KREF</th>\n",
       "      <th>HLN.L</th>\n",
       "      <th>DBX</th>\n",
       "      <th>BNL</th>\n",
       "      <th>CBL</th>\n",
       "      <th>KVUE</th>\n",
       "      <th>PSTL</th>\n",
       "      <th>NTST</th>\n",
       "      <th>BLCO</th>\n",
       "      <th>NBS.L</th>\n",
       "    </tr>\n",
       "    <tr>\n",
       "      <th>Date</th>\n",
       "      <th></th>\n",
       "      <th></th>\n",
       "      <th></th>\n",
       "      <th></th>\n",
       "      <th></th>\n",
       "      <th></th>\n",
       "      <th></th>\n",
       "      <th></th>\n",
       "      <th></th>\n",
       "      <th></th>\n",
       "      <th></th>\n",
       "      <th></th>\n",
       "      <th></th>\n",
       "      <th></th>\n",
       "      <th></th>\n",
       "      <th></th>\n",
       "      <th></th>\n",
       "      <th></th>\n",
       "      <th></th>\n",
       "      <th></th>\n",
       "      <th></th>\n",
       "    </tr>\n",
       "  </thead>\n",
       "  <tbody>\n",
       "    <tr>\n",
       "      <th>2018-12-01</th>\n",
       "      <td>0.047733</td>\n",
       "      <td>0.028598</td>\n",
       "      <td>0.022883</td>\n",
       "      <td>0.017308</td>\n",
       "      <td>0.017454</td>\n",
       "      <td>0.011186</td>\n",
       "      <td>0.008255</td>\n",
       "      <td>0.011459</td>\n",
       "      <td>0.009113</td>\n",
       "      <td>0.006611</td>\n",
       "      <td>...</td>\n",
       "      <td>0.008876</td>\n",
       "      <td>0.009591</td>\n",
       "      <td>0.012648</td>\n",
       "      <td>0.011494</td>\n",
       "      <td>0.010843</td>\n",
       "      <td>0.010609</td>\n",
       "      <td>0.010388</td>\n",
       "      <td>0.010206</td>\n",
       "      <td>0.010088</td>\n",
       "      <td>0.010459</td>\n",
       "    </tr>\n",
       "    <tr>\n",
       "      <th>2019-01-01</th>\n",
       "      <td>0.000669</td>\n",
       "      <td>0.004800</td>\n",
       "      <td>0.011901</td>\n",
       "      <td>0.006883</td>\n",
       "      <td>0.013904</td>\n",
       "      <td>0.012305</td>\n",
       "      <td>0.008991</td>\n",
       "      <td>0.010621</td>\n",
       "      <td>0.009356</td>\n",
       "      <td>0.007768</td>\n",
       "      <td>...</td>\n",
       "      <td>0.010053</td>\n",
       "      <td>0.009969</td>\n",
       "      <td>0.009920</td>\n",
       "      <td>0.010228</td>\n",
       "      <td>0.010400</td>\n",
       "      <td>0.010324</td>\n",
       "      <td>0.010739</td>\n",
       "      <td>0.010585</td>\n",
       "      <td>0.010471</td>\n",
       "      <td>0.010536</td>\n",
       "    </tr>\n",
       "    <tr>\n",
       "      <th>2019-02-01</th>\n",
       "      <td>0.015591</td>\n",
       "      <td>0.016868</td>\n",
       "      <td>0.013543</td>\n",
       "      <td>0.015609</td>\n",
       "      <td>0.015370</td>\n",
       "      <td>0.015178</td>\n",
       "      <td>0.016904</td>\n",
       "      <td>0.015836</td>\n",
       "      <td>0.013221</td>\n",
       "      <td>0.013326</td>\n",
       "      <td>...</td>\n",
       "      <td>0.013914</td>\n",
       "      <td>0.013311</td>\n",
       "      <td>0.013155</td>\n",
       "      <td>0.012328</td>\n",
       "      <td>0.011962</td>\n",
       "      <td>0.011781</td>\n",
       "      <td>0.012162</td>\n",
       "      <td>0.012238</td>\n",
       "      <td>0.012098</td>\n",
       "      <td>0.011920</td>\n",
       "    </tr>\n",
       "  </tbody>\n",
       "</table>\n",
       "<p>3 rows × 1332 columns</p>\n",
       "</div>"
      ]
     },
     "execution_count": 148,
     "metadata": {},
     "output_type": "execute_result"
    }
   ],
   "execution_count": 148
  },
  {
   "metadata": {
    "ExecuteTime": {
     "end_time": "2025-06-18T12:00:49.552578Z",
     "start_time": "2025-06-18T12:00:44.174053Z"
    }
   },
   "cell_type": "code",
   "source": [
    "importlib.reload(lstm_utils)\n",
    "importlib.reload(mpt_utils)\n",
    "\n",
    "weights_6m, mu_6m, S_6m, allocations_6m, weights_all_6m = mpt_utils.portfolio_and_plot(df_forecast_6m, df, plot_threshold=0.008)"
   ],
   "id": "52b1414db37b4f46",
   "outputs": [
    {
     "name": "stdout",
     "output_type": "stream",
     "text": [
      "Expected annual return: 17.5%\n",
      "Annual volatility: 2.7%\n",
      "Sharpe Ratio: 5.71\n",
      "-- Allocation --\n",
      "{'FNKO': 3, 'CVNA': 1, 'PAR': 1, '2685.T': 2, '7575.T': 6, '2120.T': 27, 'MDB': 1, 'CEC.DE': 20, '2389.T': 1, '6268.T': 2, '4218.T': 2, 'OC': 1, 'ETSY': 1, 'ADUS': 1, 'CON.DE': 1, 'UNM': 1, 'RUN': 1, '8154.T': 1, 'CATO': 1, 'VSEC': 1, 'KNX': 1, '4151.T': 1, '9842.T': 2, '3402.T': 4, '2429.T': 1, 'GEN': 1, 'SHYF': 1, 'AMAT': 1, 'CSGS': 1, 'DAN': 2, '8173.T': 1, 'WHR': 1, '8219.T': 2, '9766.T': 1, 'DLX': 1, 'CCK': 1, '4549.T': 1, '8060.T': 1, '2874.T': 2, '6436.T': 1, '7915.T': 2, '3046.T': 1, 'NSSC': 1, '3086.T': 2, '3697.T': 1, 'CROX': 1, 'MOD': 1, '6645.T': 1, 'LULU': 1, 'DLTR': 1, '3659.T': 1, '9107.T': 1, 'HBH.DE': 1, '9831.T': 6, '2331.T': 2, 'IGT': 1, '7976.T': 1, '8008.T': 1, 'NXPI': 1, 'MHK': 1, '7947.T': 1, 'STAA': 1, 'RDUS': 1, '2379.T': 1, '3104.T': 1, 'EBAY': 1, 'CMPR': 1, '7988.T': 1, '5332.T': 1, '5110.T': 1, 'RGLD': 1, 'MHO': 1, 'JLL': 1, '1925.T': 1, '7729.T': 1, 'TBCG.L': 1, '3076.T': 1, '6745.T': 1, '9409.T': 1, 'ACLS': 1, 'SVS.L': 1, 'UTMD': 1, '6915.T': 1, '9470.T': 2, 'TTK.DE': 1, '3191.T': 1, '8897.T': 6, '5108.T': 1, 'SONO': 1, '8159.T': 1, '2670.T': 1, 'ALV': 1, '2502.T': 1, 'CTSH': 1, 'LAD': 1, 'MEGP.L': 1, '7453.T': 1, '7914.T': 1, '4326.T': 1, '8439.T': 1, '9076.T': 1, '4849.T': 1, '3186.T': 1, '3048.T': 1, '3116.T': 1, '5988.T': 1, '3003.T': 1, '8923.T': 1, '7239.T': 1, '8818.T': 1, '7868.T': 3, '6902.T': 1, '8151.T': 1, 'SFQ.DE': 1, '5970.T': 1, '2337.T': 5, 'TAL': 1, 'ARLO': 1, '7272.T': 1, '9832.T': 1, 'MIR': 1, '3608.T': 2, '7593.T': 4, 'DX': 1, '6471.T': 2, '3421.T': 1, '7955.T': 2, 'TILE': 1, '7732.T': 1, '3612.T': 1, '7613.T': 1, 'AMCR': 1, 'PTVE': 1, 'LSEA': 1, '3050.T': 1, 'ENR.DE': 1, '8141.T': 1, '9069.T': 1, '3289.T': 1, '4751.T': 1, '6941.T': 1, '4732.T': 1, 'ACEL': 1, '7893.T': 1, 'AGNC': 1, 'BGC': 1, 'HBI': 2, 'INN': 1, 'AIV': 1, 'TRTX': 1, 'MFA': 1, '4619.T': 1, 'AOX.DE': 3, 'HCSG': 1, '8086.T': 1, '3151.T': 1, '2471.T': 2, '6644.T': 2, '7762.T': 1, 'MPW': 1, 'BDN': 2, 'RWT': 1, '4433.T': 1, '5991.T': 1, '4298.T': 1, 'KVHI': 1, 'PDM': 1, '2170.T': 2, 'APLD': 1, 'DHC': 1}\n",
      "-- Weights Percentage --\n",
      "{'CVNA': 0.0259, 'PAR': 0.0129, '2120.T': 0.0102, 'ADUS': 0.0082, '2685.T': 0.0126, 'OC': 0.0086, '7575.T': 0.0118, '6268.T': 0.009, 'ETSY': 0.0086, 'MDB': 0.0102, 'CON.DE': 0.0082, '2389.T': 0.009, 'FNKO': 0.0286, 'CEC.DE': 0.009, '4218.T': 0.0086, 'Other(155)': 0.8184}\n"
     ]
    },
    {
     "name": "stderr",
     "output_type": "stream",
     "text": [
      "/Users/herbishtini/anaconda3/envs/portfolio_optimisation/lib/python3.11/site-packages/pypfopt/discrete_allocation.py:27: FutureWarning:\n",
      "\n",
      "Downcasting object dtype arrays on .fillna, .ffill, .bfill is deprecated and will change in a future version. Call result.infer_objects(copy=False) instead. To opt-in to the future behavior, set `pd.set_option('future.no_silent_downcasting', True)`\n",
      "\n"
     ]
    },
    {
     "data": {
      "application/vnd.plotly.v1+json": {
       "data": [
        {
         "hole": 0.3,
         "insidetextorientation": "radial",
         "labels": [
          "CVNA",
          "PAR",
          "2120.T",
          "ADUS",
          "2685.T",
          "OC",
          "7575.T",
          "6268.T",
          "ETSY",
          "MDB",
          "CON.DE",
          "2389.T",
          "FNKO",
          "CEC.DE",
          "4218.T",
          "Other(155)"
         ],
         "textinfo": "label+percent",
         "textposition": "inside",
         "values": [
          0.0066,
          0.0033,
          0.0026,
          0.0021,
          0.0032,
          0.0022,
          0.003,
          0.0023,
          0.0022,
          0.0026,
          0.0021,
          0.0023,
          0.0073,
          0.0023,
          0.0022,
          0.2086
         ],
         "type": "pie"
        }
       ],
       "layout": {
        "template": {
         "data": {
          "histogram2dcontour": [
           {
            "type": "histogram2dcontour",
            "colorbar": {
             "outlinewidth": 0,
             "ticks": ""
            },
            "colorscale": [
             [
              0.0,
              "#0d0887"
             ],
             [
              0.1111111111111111,
              "#46039f"
             ],
             [
              0.2222222222222222,
              "#7201a8"
             ],
             [
              0.3333333333333333,
              "#9c179e"
             ],
             [
              0.4444444444444444,
              "#bd3786"
             ],
             [
              0.5555555555555556,
              "#d8576b"
             ],
             [
              0.6666666666666666,
              "#ed7953"
             ],
             [
              0.7777777777777778,
              "#fb9f3a"
             ],
             [
              0.8888888888888888,
              "#fdca26"
             ],
             [
              1.0,
              "#f0f921"
             ]
            ]
           }
          ],
          "choropleth": [
           {
            "type": "choropleth",
            "colorbar": {
             "outlinewidth": 0,
             "ticks": ""
            }
           }
          ],
          "histogram2d": [
           {
            "type": "histogram2d",
            "colorbar": {
             "outlinewidth": 0,
             "ticks": ""
            },
            "colorscale": [
             [
              0.0,
              "#0d0887"
             ],
             [
              0.1111111111111111,
              "#46039f"
             ],
             [
              0.2222222222222222,
              "#7201a8"
             ],
             [
              0.3333333333333333,
              "#9c179e"
             ],
             [
              0.4444444444444444,
              "#bd3786"
             ],
             [
              0.5555555555555556,
              "#d8576b"
             ],
             [
              0.6666666666666666,
              "#ed7953"
             ],
             [
              0.7777777777777778,
              "#fb9f3a"
             ],
             [
              0.8888888888888888,
              "#fdca26"
             ],
             [
              1.0,
              "#f0f921"
             ]
            ]
           }
          ],
          "heatmap": [
           {
            "type": "heatmap",
            "colorbar": {
             "outlinewidth": 0,
             "ticks": ""
            },
            "colorscale": [
             [
              0.0,
              "#0d0887"
             ],
             [
              0.1111111111111111,
              "#46039f"
             ],
             [
              0.2222222222222222,
              "#7201a8"
             ],
             [
              0.3333333333333333,
              "#9c179e"
             ],
             [
              0.4444444444444444,
              "#bd3786"
             ],
             [
              0.5555555555555556,
              "#d8576b"
             ],
             [
              0.6666666666666666,
              "#ed7953"
             ],
             [
              0.7777777777777778,
              "#fb9f3a"
             ],
             [
              0.8888888888888888,
              "#fdca26"
             ],
             [
              1.0,
              "#f0f921"
             ]
            ]
           }
          ],
          "heatmapgl": [
           {
            "type": "heatmapgl",
            "colorbar": {
             "outlinewidth": 0,
             "ticks": ""
            },
            "colorscale": [
             [
              0.0,
              "#0d0887"
             ],
             [
              0.1111111111111111,
              "#46039f"
             ],
             [
              0.2222222222222222,
              "#7201a8"
             ],
             [
              0.3333333333333333,
              "#9c179e"
             ],
             [
              0.4444444444444444,
              "#bd3786"
             ],
             [
              0.5555555555555556,
              "#d8576b"
             ],
             [
              0.6666666666666666,
              "#ed7953"
             ],
             [
              0.7777777777777778,
              "#fb9f3a"
             ],
             [
              0.8888888888888888,
              "#fdca26"
             ],
             [
              1.0,
              "#f0f921"
             ]
            ]
           }
          ],
          "contourcarpet": [
           {
            "type": "contourcarpet",
            "colorbar": {
             "outlinewidth": 0,
             "ticks": ""
            }
           }
          ],
          "contour": [
           {
            "type": "contour",
            "colorbar": {
             "outlinewidth": 0,
             "ticks": ""
            },
            "colorscale": [
             [
              0.0,
              "#0d0887"
             ],
             [
              0.1111111111111111,
              "#46039f"
             ],
             [
              0.2222222222222222,
              "#7201a8"
             ],
             [
              0.3333333333333333,
              "#9c179e"
             ],
             [
              0.4444444444444444,
              "#bd3786"
             ],
             [
              0.5555555555555556,
              "#d8576b"
             ],
             [
              0.6666666666666666,
              "#ed7953"
             ],
             [
              0.7777777777777778,
              "#fb9f3a"
             ],
             [
              0.8888888888888888,
              "#fdca26"
             ],
             [
              1.0,
              "#f0f921"
             ]
            ]
           }
          ],
          "surface": [
           {
            "type": "surface",
            "colorbar": {
             "outlinewidth": 0,
             "ticks": ""
            },
            "colorscale": [
             [
              0.0,
              "#0d0887"
             ],
             [
              0.1111111111111111,
              "#46039f"
             ],
             [
              0.2222222222222222,
              "#7201a8"
             ],
             [
              0.3333333333333333,
              "#9c179e"
             ],
             [
              0.4444444444444444,
              "#bd3786"
             ],
             [
              0.5555555555555556,
              "#d8576b"
             ],
             [
              0.6666666666666666,
              "#ed7953"
             ],
             [
              0.7777777777777778,
              "#fb9f3a"
             ],
             [
              0.8888888888888888,
              "#fdca26"
             ],
             [
              1.0,
              "#f0f921"
             ]
            ]
           }
          ],
          "mesh3d": [
           {
            "type": "mesh3d",
            "colorbar": {
             "outlinewidth": 0,
             "ticks": ""
            }
           }
          ],
          "scatter": [
           {
            "marker": {
             "line": {
              "color": "#283442"
             }
            },
            "type": "scatter"
           }
          ],
          "parcoords": [
           {
            "type": "parcoords",
            "line": {
             "colorbar": {
              "outlinewidth": 0,
              "ticks": ""
             }
            }
           }
          ],
          "scatterpolargl": [
           {
            "type": "scatterpolargl",
            "marker": {
             "colorbar": {
              "outlinewidth": 0,
              "ticks": ""
             }
            }
           }
          ],
          "bar": [
           {
            "error_x": {
             "color": "#f2f5fa"
            },
            "error_y": {
             "color": "#f2f5fa"
            },
            "marker": {
             "line": {
              "color": "rgb(17,17,17)",
              "width": 0.5
             },
             "pattern": {
              "fillmode": "overlay",
              "size": 10,
              "solidity": 0.2
             }
            },
            "type": "bar"
           }
          ],
          "scattergeo": [
           {
            "type": "scattergeo",
            "marker": {
             "colorbar": {
              "outlinewidth": 0,
              "ticks": ""
             }
            }
           }
          ],
          "scatterpolar": [
           {
            "type": "scatterpolar",
            "marker": {
             "colorbar": {
              "outlinewidth": 0,
              "ticks": ""
             }
            }
           }
          ],
          "histogram": [
           {
            "marker": {
             "pattern": {
              "fillmode": "overlay",
              "size": 10,
              "solidity": 0.2
             }
            },
            "type": "histogram"
           }
          ],
          "scattergl": [
           {
            "marker": {
             "line": {
              "color": "#283442"
             }
            },
            "type": "scattergl"
           }
          ],
          "scatter3d": [
           {
            "type": "scatter3d",
            "line": {
             "colorbar": {
              "outlinewidth": 0,
              "ticks": ""
             }
            },
            "marker": {
             "colorbar": {
              "outlinewidth": 0,
              "ticks": ""
             }
            }
           }
          ],
          "scattermapbox": [
           {
            "type": "scattermapbox",
            "marker": {
             "colorbar": {
              "outlinewidth": 0,
              "ticks": ""
             }
            }
           }
          ],
          "scatterternary": [
           {
            "type": "scatterternary",
            "marker": {
             "colorbar": {
              "outlinewidth": 0,
              "ticks": ""
             }
            }
           }
          ],
          "scattercarpet": [
           {
            "type": "scattercarpet",
            "marker": {
             "colorbar": {
              "outlinewidth": 0,
              "ticks": ""
             }
            }
           }
          ],
          "carpet": [
           {
            "aaxis": {
             "endlinecolor": "#A2B1C6",
             "gridcolor": "#506784",
             "linecolor": "#506784",
             "minorgridcolor": "#506784",
             "startlinecolor": "#A2B1C6"
            },
            "baxis": {
             "endlinecolor": "#A2B1C6",
             "gridcolor": "#506784",
             "linecolor": "#506784",
             "minorgridcolor": "#506784",
             "startlinecolor": "#A2B1C6"
            },
            "type": "carpet"
           }
          ],
          "table": [
           {
            "cells": {
             "fill": {
              "color": "#506784"
             },
             "line": {
              "color": "rgb(17,17,17)"
             }
            },
            "header": {
             "fill": {
              "color": "#2a3f5f"
             },
             "line": {
              "color": "rgb(17,17,17)"
             }
            },
            "type": "table"
           }
          ],
          "barpolar": [
           {
            "marker": {
             "line": {
              "color": "rgb(17,17,17)",
              "width": 0.5
             },
             "pattern": {
              "fillmode": "overlay",
              "size": 10,
              "solidity": 0.2
             }
            },
            "type": "barpolar"
           }
          ],
          "pie": [
           {
            "automargin": true,
            "type": "pie"
           }
          ]
         },
         "layout": {
          "autotypenumbers": "strict",
          "colorway": [
           "#636efa",
           "#EF553B",
           "#00cc96",
           "#ab63fa",
           "#FFA15A",
           "#19d3f3",
           "#FF6692",
           "#B6E880",
           "#FF97FF",
           "#FECB52"
          ],
          "font": {
           "color": "#f2f5fa"
          },
          "hovermode": "closest",
          "hoverlabel": {
           "align": "left"
          },
          "paper_bgcolor": "rgb(17,17,17)",
          "plot_bgcolor": "rgb(17,17,17)",
          "polar": {
           "bgcolor": "rgb(17,17,17)",
           "angularaxis": {
            "gridcolor": "#506784",
            "linecolor": "#506784",
            "ticks": ""
           },
           "radialaxis": {
            "gridcolor": "#506784",
            "linecolor": "#506784",
            "ticks": ""
           }
          },
          "ternary": {
           "bgcolor": "rgb(17,17,17)",
           "aaxis": {
            "gridcolor": "#506784",
            "linecolor": "#506784",
            "ticks": ""
           },
           "baxis": {
            "gridcolor": "#506784",
            "linecolor": "#506784",
            "ticks": ""
           },
           "caxis": {
            "gridcolor": "#506784",
            "linecolor": "#506784",
            "ticks": ""
           }
          },
          "coloraxis": {
           "colorbar": {
            "outlinewidth": 0,
            "ticks": ""
           }
          },
          "colorscale": {
           "sequential": [
            [
             0.0,
             "#0d0887"
            ],
            [
             0.1111111111111111,
             "#46039f"
            ],
            [
             0.2222222222222222,
             "#7201a8"
            ],
            [
             0.3333333333333333,
             "#9c179e"
            ],
            [
             0.4444444444444444,
             "#bd3786"
            ],
            [
             0.5555555555555556,
             "#d8576b"
            ],
            [
             0.6666666666666666,
             "#ed7953"
            ],
            [
             0.7777777777777778,
             "#fb9f3a"
            ],
            [
             0.8888888888888888,
             "#fdca26"
            ],
            [
             1.0,
             "#f0f921"
            ]
           ],
           "sequentialminus": [
            [
             0.0,
             "#0d0887"
            ],
            [
             0.1111111111111111,
             "#46039f"
            ],
            [
             0.2222222222222222,
             "#7201a8"
            ],
            [
             0.3333333333333333,
             "#9c179e"
            ],
            [
             0.4444444444444444,
             "#bd3786"
            ],
            [
             0.5555555555555556,
             "#d8576b"
            ],
            [
             0.6666666666666666,
             "#ed7953"
            ],
            [
             0.7777777777777778,
             "#fb9f3a"
            ],
            [
             0.8888888888888888,
             "#fdca26"
            ],
            [
             1.0,
             "#f0f921"
            ]
           ],
           "diverging": [
            [
             0,
             "#8e0152"
            ],
            [
             0.1,
             "#c51b7d"
            ],
            [
             0.2,
             "#de77ae"
            ],
            [
             0.3,
             "#f1b6da"
            ],
            [
             0.4,
             "#fde0ef"
            ],
            [
             0.5,
             "#f7f7f7"
            ],
            [
             0.6,
             "#e6f5d0"
            ],
            [
             0.7,
             "#b8e186"
            ],
            [
             0.8,
             "#7fbc41"
            ],
            [
             0.9,
             "#4d9221"
            ],
            [
             1,
             "#276419"
            ]
           ]
          },
          "xaxis": {
           "gridcolor": "#283442",
           "linecolor": "#506784",
           "ticks": "",
           "title": {
            "standoff": 15
           },
           "zerolinecolor": "#283442",
           "automargin": true,
           "zerolinewidth": 2
          },
          "yaxis": {
           "gridcolor": "#283442",
           "linecolor": "#506784",
           "ticks": "",
           "title": {
            "standoff": 15
           },
           "zerolinecolor": "#283442",
           "automargin": true,
           "zerolinewidth": 2
          },
          "scene": {
           "xaxis": {
            "backgroundcolor": "rgb(17,17,17)",
            "gridcolor": "#506784",
            "linecolor": "#506784",
            "showbackground": true,
            "ticks": "",
            "zerolinecolor": "#C8D4E3",
            "gridwidth": 2
           },
           "yaxis": {
            "backgroundcolor": "rgb(17,17,17)",
            "gridcolor": "#506784",
            "linecolor": "#506784",
            "showbackground": true,
            "ticks": "",
            "zerolinecolor": "#C8D4E3",
            "gridwidth": 2
           },
           "zaxis": {
            "backgroundcolor": "rgb(17,17,17)",
            "gridcolor": "#506784",
            "linecolor": "#506784",
            "showbackground": true,
            "ticks": "",
            "zerolinecolor": "#C8D4E3",
            "gridwidth": 2
           }
          },
          "shapedefaults": {
           "line": {
            "color": "#f2f5fa"
           }
          },
          "annotationdefaults": {
           "arrowcolor": "#f2f5fa",
           "arrowhead": 0,
           "arrowwidth": 1
          },
          "geo": {
           "bgcolor": "rgb(17,17,17)",
           "landcolor": "rgb(17,17,17)",
           "subunitcolor": "#506784",
           "showland": true,
           "showlakes": true,
           "lakecolor": "rgb(17,17,17)"
          },
          "title": {
           "x": 0.05
          },
          "updatemenudefaults": {
           "bgcolor": "#506784",
           "borderwidth": 0
          },
          "sliderdefaults": {
           "bgcolor": "#C8D4E3",
           "borderwidth": 1,
           "bordercolor": "rgb(17,17,17)",
           "tickwidth": 0
          },
          "mapbox": {
           "style": "dark"
          }
         }
        },
        "margin": {
         "l": 20,
         "r": 20,
         "t": 20,
         "b": 20
        },
        "font": {
         "color": "black"
        },
        "height": 600,
        "width": 600,
        "paper_bgcolor": "white",
        "plot_bgcolor": "white",
        "showlegend": false
       },
       "config": {
        "plotlyServerURL": "https://plot.ly"
       }
      },
      "text/html": [
       "<div>                            <div id=\"3dd6116e-2c84-4e2d-ab93-159f14af1203\" class=\"plotly-graph-div\" style=\"height:600px; width:600px;\"></div>            <script type=\"text/javascript\">                require([\"plotly\"], function(Plotly) {                    window.PLOTLYENV=window.PLOTLYENV || {};                                    if (document.getElementById(\"3dd6116e-2c84-4e2d-ab93-159f14af1203\")) {                    Plotly.newPlot(                        \"3dd6116e-2c84-4e2d-ab93-159f14af1203\",                        [{\"hole\":0.3,\"insidetextorientation\":\"radial\",\"labels\":[\"CVNA\",\"PAR\",\"2120.T\",\"ADUS\",\"2685.T\",\"OC\",\"7575.T\",\"6268.T\",\"ETSY\",\"MDB\",\"CON.DE\",\"2389.T\",\"FNKO\",\"CEC.DE\",\"4218.T\",\"Other(155)\"],\"textinfo\":\"label+percent\",\"textposition\":\"inside\",\"values\":[0.0066,0.0033,0.0026,0.0021,0.0032,0.0022,0.003,0.0023,0.0022,0.0026,0.0021,0.0023,0.0073,0.0023,0.0022,0.2086],\"type\":\"pie\"}],                        {\"template\":{\"data\":{\"histogram2dcontour\":[{\"type\":\"histogram2dcontour\",\"colorbar\":{\"outlinewidth\":0,\"ticks\":\"\"},\"colorscale\":[[0.0,\"#0d0887\"],[0.1111111111111111,\"#46039f\"],[0.2222222222222222,\"#7201a8\"],[0.3333333333333333,\"#9c179e\"],[0.4444444444444444,\"#bd3786\"],[0.5555555555555556,\"#d8576b\"],[0.6666666666666666,\"#ed7953\"],[0.7777777777777778,\"#fb9f3a\"],[0.8888888888888888,\"#fdca26\"],[1.0,\"#f0f921\"]]}],\"choropleth\":[{\"type\":\"choropleth\",\"colorbar\":{\"outlinewidth\":0,\"ticks\":\"\"}}],\"histogram2d\":[{\"type\":\"histogram2d\",\"colorbar\":{\"outlinewidth\":0,\"ticks\":\"\"},\"colorscale\":[[0.0,\"#0d0887\"],[0.1111111111111111,\"#46039f\"],[0.2222222222222222,\"#7201a8\"],[0.3333333333333333,\"#9c179e\"],[0.4444444444444444,\"#bd3786\"],[0.5555555555555556,\"#d8576b\"],[0.6666666666666666,\"#ed7953\"],[0.7777777777777778,\"#fb9f3a\"],[0.8888888888888888,\"#fdca26\"],[1.0,\"#f0f921\"]]}],\"heatmap\":[{\"type\":\"heatmap\",\"colorbar\":{\"outlinewidth\":0,\"ticks\":\"\"},\"colorscale\":[[0.0,\"#0d0887\"],[0.1111111111111111,\"#46039f\"],[0.2222222222222222,\"#7201a8\"],[0.3333333333333333,\"#9c179e\"],[0.4444444444444444,\"#bd3786\"],[0.5555555555555556,\"#d8576b\"],[0.6666666666666666,\"#ed7953\"],[0.7777777777777778,\"#fb9f3a\"],[0.8888888888888888,\"#fdca26\"],[1.0,\"#f0f921\"]]}],\"heatmapgl\":[{\"type\":\"heatmapgl\",\"colorbar\":{\"outlinewidth\":0,\"ticks\":\"\"},\"colorscale\":[[0.0,\"#0d0887\"],[0.1111111111111111,\"#46039f\"],[0.2222222222222222,\"#7201a8\"],[0.3333333333333333,\"#9c179e\"],[0.4444444444444444,\"#bd3786\"],[0.5555555555555556,\"#d8576b\"],[0.6666666666666666,\"#ed7953\"],[0.7777777777777778,\"#fb9f3a\"],[0.8888888888888888,\"#fdca26\"],[1.0,\"#f0f921\"]]}],\"contourcarpet\":[{\"type\":\"contourcarpet\",\"colorbar\":{\"outlinewidth\":0,\"ticks\":\"\"}}],\"contour\":[{\"type\":\"contour\",\"colorbar\":{\"outlinewidth\":0,\"ticks\":\"\"},\"colorscale\":[[0.0,\"#0d0887\"],[0.1111111111111111,\"#46039f\"],[0.2222222222222222,\"#7201a8\"],[0.3333333333333333,\"#9c179e\"],[0.4444444444444444,\"#bd3786\"],[0.5555555555555556,\"#d8576b\"],[0.6666666666666666,\"#ed7953\"],[0.7777777777777778,\"#fb9f3a\"],[0.8888888888888888,\"#fdca26\"],[1.0,\"#f0f921\"]]}],\"surface\":[{\"type\":\"surface\",\"colorbar\":{\"outlinewidth\":0,\"ticks\":\"\"},\"colorscale\":[[0.0,\"#0d0887\"],[0.1111111111111111,\"#46039f\"],[0.2222222222222222,\"#7201a8\"],[0.3333333333333333,\"#9c179e\"],[0.4444444444444444,\"#bd3786\"],[0.5555555555555556,\"#d8576b\"],[0.6666666666666666,\"#ed7953\"],[0.7777777777777778,\"#fb9f3a\"],[0.8888888888888888,\"#fdca26\"],[1.0,\"#f0f921\"]]}],\"mesh3d\":[{\"type\":\"mesh3d\",\"colorbar\":{\"outlinewidth\":0,\"ticks\":\"\"}}],\"scatter\":[{\"marker\":{\"line\":{\"color\":\"#283442\"}},\"type\":\"scatter\"}],\"parcoords\":[{\"type\":\"parcoords\",\"line\":{\"colorbar\":{\"outlinewidth\":0,\"ticks\":\"\"}}}],\"scatterpolargl\":[{\"type\":\"scatterpolargl\",\"marker\":{\"colorbar\":{\"outlinewidth\":0,\"ticks\":\"\"}}}],\"bar\":[{\"error_x\":{\"color\":\"#f2f5fa\"},\"error_y\":{\"color\":\"#f2f5fa\"},\"marker\":{\"line\":{\"color\":\"rgb(17,17,17)\",\"width\":0.5},\"pattern\":{\"fillmode\":\"overlay\",\"size\":10,\"solidity\":0.2}},\"type\":\"bar\"}],\"scattergeo\":[{\"type\":\"scattergeo\",\"marker\":{\"colorbar\":{\"outlinewidth\":0,\"ticks\":\"\"}}}],\"scatterpolar\":[{\"type\":\"scatterpolar\",\"marker\":{\"colorbar\":{\"outlinewidth\":0,\"ticks\":\"\"}}}],\"histogram\":[{\"marker\":{\"pattern\":{\"fillmode\":\"overlay\",\"size\":10,\"solidity\":0.2}},\"type\":\"histogram\"}],\"scattergl\":[{\"marker\":{\"line\":{\"color\":\"#283442\"}},\"type\":\"scattergl\"}],\"scatter3d\":[{\"type\":\"scatter3d\",\"line\":{\"colorbar\":{\"outlinewidth\":0,\"ticks\":\"\"}},\"marker\":{\"colorbar\":{\"outlinewidth\":0,\"ticks\":\"\"}}}],\"scattermapbox\":[{\"type\":\"scattermapbox\",\"marker\":{\"colorbar\":{\"outlinewidth\":0,\"ticks\":\"\"}}}],\"scatterternary\":[{\"type\":\"scatterternary\",\"marker\":{\"colorbar\":{\"outlinewidth\":0,\"ticks\":\"\"}}}],\"scattercarpet\":[{\"type\":\"scattercarpet\",\"marker\":{\"colorbar\":{\"outlinewidth\":0,\"ticks\":\"\"}}}],\"carpet\":[{\"aaxis\":{\"endlinecolor\":\"#A2B1C6\",\"gridcolor\":\"#506784\",\"linecolor\":\"#506784\",\"minorgridcolor\":\"#506784\",\"startlinecolor\":\"#A2B1C6\"},\"baxis\":{\"endlinecolor\":\"#A2B1C6\",\"gridcolor\":\"#506784\",\"linecolor\":\"#506784\",\"minorgridcolor\":\"#506784\",\"startlinecolor\":\"#A2B1C6\"},\"type\":\"carpet\"}],\"table\":[{\"cells\":{\"fill\":{\"color\":\"#506784\"},\"line\":{\"color\":\"rgb(17,17,17)\"}},\"header\":{\"fill\":{\"color\":\"#2a3f5f\"},\"line\":{\"color\":\"rgb(17,17,17)\"}},\"type\":\"table\"}],\"barpolar\":[{\"marker\":{\"line\":{\"color\":\"rgb(17,17,17)\",\"width\":0.5},\"pattern\":{\"fillmode\":\"overlay\",\"size\":10,\"solidity\":0.2}},\"type\":\"barpolar\"}],\"pie\":[{\"automargin\":true,\"type\":\"pie\"}]},\"layout\":{\"autotypenumbers\":\"strict\",\"colorway\":[\"#636efa\",\"#EF553B\",\"#00cc96\",\"#ab63fa\",\"#FFA15A\",\"#19d3f3\",\"#FF6692\",\"#B6E880\",\"#FF97FF\",\"#FECB52\"],\"font\":{\"color\":\"#f2f5fa\"},\"hovermode\":\"closest\",\"hoverlabel\":{\"align\":\"left\"},\"paper_bgcolor\":\"rgb(17,17,17)\",\"plot_bgcolor\":\"rgb(17,17,17)\",\"polar\":{\"bgcolor\":\"rgb(17,17,17)\",\"angularaxis\":{\"gridcolor\":\"#506784\",\"linecolor\":\"#506784\",\"ticks\":\"\"},\"radialaxis\":{\"gridcolor\":\"#506784\",\"linecolor\":\"#506784\",\"ticks\":\"\"}},\"ternary\":{\"bgcolor\":\"rgb(17,17,17)\",\"aaxis\":{\"gridcolor\":\"#506784\",\"linecolor\":\"#506784\",\"ticks\":\"\"},\"baxis\":{\"gridcolor\":\"#506784\",\"linecolor\":\"#506784\",\"ticks\":\"\"},\"caxis\":{\"gridcolor\":\"#506784\",\"linecolor\":\"#506784\",\"ticks\":\"\"}},\"coloraxis\":{\"colorbar\":{\"outlinewidth\":0,\"ticks\":\"\"}},\"colorscale\":{\"sequential\":[[0.0,\"#0d0887\"],[0.1111111111111111,\"#46039f\"],[0.2222222222222222,\"#7201a8\"],[0.3333333333333333,\"#9c179e\"],[0.4444444444444444,\"#bd3786\"],[0.5555555555555556,\"#d8576b\"],[0.6666666666666666,\"#ed7953\"],[0.7777777777777778,\"#fb9f3a\"],[0.8888888888888888,\"#fdca26\"],[1.0,\"#f0f921\"]],\"sequentialminus\":[[0.0,\"#0d0887\"],[0.1111111111111111,\"#46039f\"],[0.2222222222222222,\"#7201a8\"],[0.3333333333333333,\"#9c179e\"],[0.4444444444444444,\"#bd3786\"],[0.5555555555555556,\"#d8576b\"],[0.6666666666666666,\"#ed7953\"],[0.7777777777777778,\"#fb9f3a\"],[0.8888888888888888,\"#fdca26\"],[1.0,\"#f0f921\"]],\"diverging\":[[0,\"#8e0152\"],[0.1,\"#c51b7d\"],[0.2,\"#de77ae\"],[0.3,\"#f1b6da\"],[0.4,\"#fde0ef\"],[0.5,\"#f7f7f7\"],[0.6,\"#e6f5d0\"],[0.7,\"#b8e186\"],[0.8,\"#7fbc41\"],[0.9,\"#4d9221\"],[1,\"#276419\"]]},\"xaxis\":{\"gridcolor\":\"#283442\",\"linecolor\":\"#506784\",\"ticks\":\"\",\"title\":{\"standoff\":15},\"zerolinecolor\":\"#283442\",\"automargin\":true,\"zerolinewidth\":2},\"yaxis\":{\"gridcolor\":\"#283442\",\"linecolor\":\"#506784\",\"ticks\":\"\",\"title\":{\"standoff\":15},\"zerolinecolor\":\"#283442\",\"automargin\":true,\"zerolinewidth\":2},\"scene\":{\"xaxis\":{\"backgroundcolor\":\"rgb(17,17,17)\",\"gridcolor\":\"#506784\",\"linecolor\":\"#506784\",\"showbackground\":true,\"ticks\":\"\",\"zerolinecolor\":\"#C8D4E3\",\"gridwidth\":2},\"yaxis\":{\"backgroundcolor\":\"rgb(17,17,17)\",\"gridcolor\":\"#506784\",\"linecolor\":\"#506784\",\"showbackground\":true,\"ticks\":\"\",\"zerolinecolor\":\"#C8D4E3\",\"gridwidth\":2},\"zaxis\":{\"backgroundcolor\":\"rgb(17,17,17)\",\"gridcolor\":\"#506784\",\"linecolor\":\"#506784\",\"showbackground\":true,\"ticks\":\"\",\"zerolinecolor\":\"#C8D4E3\",\"gridwidth\":2}},\"shapedefaults\":{\"line\":{\"color\":\"#f2f5fa\"}},\"annotationdefaults\":{\"arrowcolor\":\"#f2f5fa\",\"arrowhead\":0,\"arrowwidth\":1},\"geo\":{\"bgcolor\":\"rgb(17,17,17)\",\"landcolor\":\"rgb(17,17,17)\",\"subunitcolor\":\"#506784\",\"showland\":true,\"showlakes\":true,\"lakecolor\":\"rgb(17,17,17)\"},\"title\":{\"x\":0.05},\"updatemenudefaults\":{\"bgcolor\":\"#506784\",\"borderwidth\":0},\"sliderdefaults\":{\"bgcolor\":\"#C8D4E3\",\"borderwidth\":1,\"bordercolor\":\"rgb(17,17,17)\",\"tickwidth\":0},\"mapbox\":{\"style\":\"dark\"}}},\"margin\":{\"l\":20,\"r\":20,\"t\":20,\"b\":20},\"font\":{\"color\":\"black\"},\"height\":600,\"width\":600,\"paper_bgcolor\":\"white\",\"plot_bgcolor\":\"white\",\"showlegend\":false},                        {\"responsive\": true}                    ).then(function(){\n",
       "                            \n",
       "var gd = document.getElementById('3dd6116e-2c84-4e2d-ab93-159f14af1203');\n",
       "var x = new MutationObserver(function (mutations, observer) {{\n",
       "        var display = window.getComputedStyle(gd).display;\n",
       "        if (!display || display === 'none') {{\n",
       "            console.log([gd, 'removed!']);\n",
       "            Plotly.purge(gd);\n",
       "            observer.disconnect();\n",
       "        }}\n",
       "}});\n",
       "\n",
       "// Listen for the removal of the full notebook cells\n",
       "var notebookContainer = gd.closest('#notebook-container');\n",
       "if (notebookContainer) {{\n",
       "    x.observe(notebookContainer, {childList: true});\n",
       "}}\n",
       "\n",
       "// Listen for the clearing of the current output cell\n",
       "var outputEl = gd.closest('.output');\n",
       "if (outputEl) {{\n",
       "    x.observe(outputEl, {childList: true});\n",
       "}}\n",
       "\n",
       "                        })                };                });            </script>        </div>"
      ]
     },
     "metadata": {},
     "output_type": "display_data"
    }
   ],
   "execution_count": 149
  },
  {
   "metadata": {},
   "cell_type": "markdown",
   "source": "#### Actual return rates",
   "id": "753402fa4287093f"
  },
  {
   "metadata": {
    "ExecuteTime": {
     "end_time": "2025-06-18T12:00:49.992406Z",
     "start_time": "2025-06-18T12:00:49.973917Z"
    }
   },
   "cell_type": "code",
   "source": [
    "importlib.reload(mpt_utils)\n",
    "#\n",
    "mpt_utils.get_portfolio_real_return_rate(df_pct, df_forecast_6m, weights=weights_all_6m)"
   ],
   "id": "e55e63dee4f3f2ab",
   "outputs": [
    {
     "name": "stdout",
     "output_type": "stream",
     "text": [
      "Portfolio real return rate:  0.08%\n"
     ]
    }
   ],
   "execution_count": 150
  },
  {
   "metadata": {},
   "cell_type": "markdown",
   "source": "#### Overview table",
   "id": "6a707bc8ca2c4a74"
  },
  {
   "metadata": {
    "ExecuteTime": {
     "end_time": "2025-06-18T12:00:50.071943Z",
     "start_time": "2025-06-18T12:00:50.031962Z"
    }
   },
   "cell_type": "code",
   "source": [
    "importlib.reload(mpt_utils)\n",
    "# Create overview\n",
    "mpt_utils.generate_overview_table(allocations_6m, mu_6m, S_6m, df_pct)"
   ],
   "id": "9d7b4575e5ced0d8",
   "outputs": [
    {
     "data": {
      "text/plain": [
       "        Share Count  Average Covariance Average Returns Return Last 12 Months  \\\n",
       "FNKO              3           -0.092722          95.13%               -62.69%   \n",
       "CVNA              1           -0.078757          19.00%                98.50%   \n",
       "PAR               1           -0.036509          82.31%                 1.20%   \n",
       "2685.T            2            0.021479         -19.68%                61.48%   \n",
       "7575.T            6            0.027574         -21.10%                19.33%   \n",
       "...             ...                 ...             ...                   ...   \n",
       "KVHI              1           -0.001243           9.85%               -56.31%   \n",
       "PDM               1           -0.004793           6.78%               -44.87%   \n",
       "2170.T            2           -0.012189           6.70%               -54.33%   \n",
       "APLD              1            0.000473          19.57%               115.04%   \n",
       "DHC               1           -0.022308           3.53%                57.91%   \n",
       "\n",
       "       Return (Actual) Next 12 Months  \n",
       "FNKO                           34.43%  \n",
       "CVNA                          211.25%  \n",
       "PAR                            41.61%  \n",
       "2685.T                         22.88%  \n",
       "7575.T                          5.04%  \n",
       "...                               ...  \n",
       "KVHI                          -11.70%  \n",
       "PDM                            82.09%  \n",
       "2170.T                         42.90%  \n",
       "APLD                            2.55%  \n",
       "DHC                            75.33%  \n",
       "\n",
       "[170 rows x 5 columns]"
      ],
      "text/html": [
       "<div>\n",
       "<style scoped>\n",
       "    .dataframe tbody tr th:only-of-type {\n",
       "        vertical-align: middle;\n",
       "    }\n",
       "\n",
       "    .dataframe tbody tr th {\n",
       "        vertical-align: top;\n",
       "    }\n",
       "\n",
       "    .dataframe thead th {\n",
       "        text-align: right;\n",
       "    }\n",
       "</style>\n",
       "<table border=\"1\" class=\"dataframe\">\n",
       "  <thead>\n",
       "    <tr style=\"text-align: right;\">\n",
       "      <th></th>\n",
       "      <th>Share Count</th>\n",
       "      <th>Average Covariance</th>\n",
       "      <th>Average Returns</th>\n",
       "      <th>Return Last 12 Months</th>\n",
       "      <th>Return (Actual) Next 12 Months</th>\n",
       "    </tr>\n",
       "  </thead>\n",
       "  <tbody>\n",
       "    <tr>\n",
       "      <th>FNKO</th>\n",
       "      <td>3</td>\n",
       "      <td>-0.092722</td>\n",
       "      <td>95.13%</td>\n",
       "      <td>-62.69%</td>\n",
       "      <td>34.43%</td>\n",
       "    </tr>\n",
       "    <tr>\n",
       "      <th>CVNA</th>\n",
       "      <td>1</td>\n",
       "      <td>-0.078757</td>\n",
       "      <td>19.00%</td>\n",
       "      <td>98.50%</td>\n",
       "      <td>211.25%</td>\n",
       "    </tr>\n",
       "    <tr>\n",
       "      <th>PAR</th>\n",
       "      <td>1</td>\n",
       "      <td>-0.036509</td>\n",
       "      <td>82.31%</td>\n",
       "      <td>1.20%</td>\n",
       "      <td>41.61%</td>\n",
       "    </tr>\n",
       "    <tr>\n",
       "      <th>2685.T</th>\n",
       "      <td>2</td>\n",
       "      <td>0.021479</td>\n",
       "      <td>-19.68%</td>\n",
       "      <td>61.48%</td>\n",
       "      <td>22.88%</td>\n",
       "    </tr>\n",
       "    <tr>\n",
       "      <th>7575.T</th>\n",
       "      <td>6</td>\n",
       "      <td>0.027574</td>\n",
       "      <td>-21.10%</td>\n",
       "      <td>19.33%</td>\n",
       "      <td>5.04%</td>\n",
       "    </tr>\n",
       "    <tr>\n",
       "      <th>...</th>\n",
       "      <td>...</td>\n",
       "      <td>...</td>\n",
       "      <td>...</td>\n",
       "      <td>...</td>\n",
       "      <td>...</td>\n",
       "    </tr>\n",
       "    <tr>\n",
       "      <th>KVHI</th>\n",
       "      <td>1</td>\n",
       "      <td>-0.001243</td>\n",
       "      <td>9.85%</td>\n",
       "      <td>-56.31%</td>\n",
       "      <td>-11.70%</td>\n",
       "    </tr>\n",
       "    <tr>\n",
       "      <th>PDM</th>\n",
       "      <td>1</td>\n",
       "      <td>-0.004793</td>\n",
       "      <td>6.78%</td>\n",
       "      <td>-44.87%</td>\n",
       "      <td>82.09%</td>\n",
       "    </tr>\n",
       "    <tr>\n",
       "      <th>2170.T</th>\n",
       "      <td>2</td>\n",
       "      <td>-0.012189</td>\n",
       "      <td>6.70%</td>\n",
       "      <td>-54.33%</td>\n",
       "      <td>42.90%</td>\n",
       "    </tr>\n",
       "    <tr>\n",
       "      <th>APLD</th>\n",
       "      <td>1</td>\n",
       "      <td>0.000473</td>\n",
       "      <td>19.57%</td>\n",
       "      <td>115.04%</td>\n",
       "      <td>2.55%</td>\n",
       "    </tr>\n",
       "    <tr>\n",
       "      <th>DHC</th>\n",
       "      <td>1</td>\n",
       "      <td>-0.022308</td>\n",
       "      <td>3.53%</td>\n",
       "      <td>57.91%</td>\n",
       "      <td>75.33%</td>\n",
       "    </tr>\n",
       "  </tbody>\n",
       "</table>\n",
       "<p>170 rows × 5 columns</p>\n",
       "</div>"
      ]
     },
     "execution_count": 151,
     "metadata": {},
     "output_type": "execute_result"
    }
   ],
   "execution_count": 151
  },
  {
   "metadata": {},
   "cell_type": "markdown",
   "source": "### LSTM Univariate - 12 Months",
   "id": "f32c4b7502d9dfb9"
  },
  {
   "metadata": {},
   "cell_type": "markdown",
   "source": [
    "Get the known data (train data)\n",
    "After that, get the first 12 predicted months, or the first 12 predicted sequences of test data"
   ],
   "id": "466f499db0b4fd24"
  },
  {
   "metadata": {
    "ExecuteTime": {
     "end_time": "2025-06-18T12:00:50.135691Z",
     "start_time": "2025-06-18T12:00:50.120280Z"
    }
   },
   "cell_type": "code",
   "source": [
    "df_train = X_train[:, :, -1].clone()\n",
    "y_test_pred_12m = y_test_pred[0,:,:].T[0:12]\n",
    "y_test_pred_12m"
   ],
   "id": "1696162ee878eb39",
   "outputs": [
    {
     "data": {
      "text/plain": [
       "tensor([[-0.0335, -0.0101,  0.0035,  ...,  0.0101,  0.0100,  0.0091],\n",
       "        [-0.0208, -0.0055,  0.0074,  ...,  0.0120,  0.0120,  0.0112],\n",
       "        [-0.0404, -0.0180,  0.0005,  ...,  0.0101,  0.0103,  0.0105],\n",
       "        ...,\n",
       "        [-0.0213, -0.0087,  0.0003,  ...,  0.0115,  0.0115,  0.0126],\n",
       "        [ 0.0445,  0.0296,  0.0220,  ...,  0.0100,  0.0101,  0.0107],\n",
       "        [ 0.0289,  0.0203,  0.0214,  ...,  0.0111,  0.0111,  0.0109]])"
      ]
     },
     "execution_count": 152,
     "metadata": {},
     "output_type": "execute_result"
    }
   ],
   "execution_count": 152
  },
  {
   "metadata": {
    "ExecuteTime": {
     "end_time": "2025-06-18T12:00:51.575015Z",
     "start_time": "2025-06-18T12:00:51.566471Z"
    }
   },
   "cell_type": "code",
   "source": [
    "df_forecast_12m = pd.DataFrame(df_train.clone())\n",
    "df_forecast_12m = pd.concat([df_forecast_12m, pd.DataFrame(y_test_pred_12m)], ignore_index=True)\n",
    "# Assign back columns and indices to make human understandable\n",
    "df_forecast_12m.columns = df.columns\n",
    "df_forecast_12m.index = pd.to_datetime(df_pct[(in_seq_length - 1) : len(df_forecast_12m) + (in_seq_length - 1)].index)\n",
    "#\n",
    "df_forecast_12m.tail(3)"
   ],
   "id": "38062c6ef3ea54a6",
   "outputs": [
    {
     "data": {
      "text/plain": [
       "                 GME    2124.T    2491.T    2471.T    3046.T    PAT.DE  \\\n",
       "Date                                                                     \n",
       "2019-06-01 -0.021329 -0.008716  0.000280  0.009266  0.008399  0.008911   \n",
       "2019-07-01  0.044490  0.029569  0.021953  0.014997  0.011593  0.009052   \n",
       "2019-08-01  0.028944  0.020312  0.021394  0.016694  0.016403  0.011914   \n",
       "\n",
       "                CROX    AOF.DE    SFQ.DE       DAN  ...      KREF     HLN.L  \\\n",
       "Date                                                ...                       \n",
       "2019-06-01  0.012849  0.012180  0.010549  0.011212  ...  0.013862  0.012927   \n",
       "2019-07-01  0.007685  0.010063  0.010982  0.009906  ...  0.009700  0.010307   \n",
       "2019-08-01  0.009373  0.010621  0.011320  0.009033  ...  0.008955  0.009830   \n",
       "\n",
       "                 DBX       BNL       CBL      KVUE      PSTL      NTST  \\\n",
       "Date                                                                     \n",
       "2019-06-01  0.011608  0.011082  0.011032  0.011390  0.011672  0.011533   \n",
       "2019-07-01  0.011639  0.010816  0.010437  0.010539  0.010028  0.010015   \n",
       "2019-08-01  0.011187  0.011270  0.011320  0.011305  0.011112  0.011130   \n",
       "\n",
       "                BLCO     NBS.L  \n",
       "Date                            \n",
       "2019-06-01  0.011458  0.012601  \n",
       "2019-07-01  0.010103  0.010718  \n",
       "2019-08-01  0.011137  0.010924  \n",
       "\n",
       "[3 rows x 1332 columns]"
      ],
      "text/html": [
       "<div>\n",
       "<style scoped>\n",
       "    .dataframe tbody tr th:only-of-type {\n",
       "        vertical-align: middle;\n",
       "    }\n",
       "\n",
       "    .dataframe tbody tr th {\n",
       "        vertical-align: top;\n",
       "    }\n",
       "\n",
       "    .dataframe thead th {\n",
       "        text-align: right;\n",
       "    }\n",
       "</style>\n",
       "<table border=\"1\" class=\"dataframe\">\n",
       "  <thead>\n",
       "    <tr style=\"text-align: right;\">\n",
       "      <th></th>\n",
       "      <th>GME</th>\n",
       "      <th>2124.T</th>\n",
       "      <th>2491.T</th>\n",
       "      <th>2471.T</th>\n",
       "      <th>3046.T</th>\n",
       "      <th>PAT.DE</th>\n",
       "      <th>CROX</th>\n",
       "      <th>AOF.DE</th>\n",
       "      <th>SFQ.DE</th>\n",
       "      <th>DAN</th>\n",
       "      <th>...</th>\n",
       "      <th>KREF</th>\n",
       "      <th>HLN.L</th>\n",
       "      <th>DBX</th>\n",
       "      <th>BNL</th>\n",
       "      <th>CBL</th>\n",
       "      <th>KVUE</th>\n",
       "      <th>PSTL</th>\n",
       "      <th>NTST</th>\n",
       "      <th>BLCO</th>\n",
       "      <th>NBS.L</th>\n",
       "    </tr>\n",
       "    <tr>\n",
       "      <th>Date</th>\n",
       "      <th></th>\n",
       "      <th></th>\n",
       "      <th></th>\n",
       "      <th></th>\n",
       "      <th></th>\n",
       "      <th></th>\n",
       "      <th></th>\n",
       "      <th></th>\n",
       "      <th></th>\n",
       "      <th></th>\n",
       "      <th></th>\n",
       "      <th></th>\n",
       "      <th></th>\n",
       "      <th></th>\n",
       "      <th></th>\n",
       "      <th></th>\n",
       "      <th></th>\n",
       "      <th></th>\n",
       "      <th></th>\n",
       "      <th></th>\n",
       "      <th></th>\n",
       "    </tr>\n",
       "  </thead>\n",
       "  <tbody>\n",
       "    <tr>\n",
       "      <th>2019-06-01</th>\n",
       "      <td>-0.021329</td>\n",
       "      <td>-0.008716</td>\n",
       "      <td>0.000280</td>\n",
       "      <td>0.009266</td>\n",
       "      <td>0.008399</td>\n",
       "      <td>0.008911</td>\n",
       "      <td>0.012849</td>\n",
       "      <td>0.012180</td>\n",
       "      <td>0.010549</td>\n",
       "      <td>0.011212</td>\n",
       "      <td>...</td>\n",
       "      <td>0.013862</td>\n",
       "      <td>0.012927</td>\n",
       "      <td>0.011608</td>\n",
       "      <td>0.011082</td>\n",
       "      <td>0.011032</td>\n",
       "      <td>0.011390</td>\n",
       "      <td>0.011672</td>\n",
       "      <td>0.011533</td>\n",
       "      <td>0.011458</td>\n",
       "      <td>0.012601</td>\n",
       "    </tr>\n",
       "    <tr>\n",
       "      <th>2019-07-01</th>\n",
       "      <td>0.044490</td>\n",
       "      <td>0.029569</td>\n",
       "      <td>0.021953</td>\n",
       "      <td>0.014997</td>\n",
       "      <td>0.011593</td>\n",
       "      <td>0.009052</td>\n",
       "      <td>0.007685</td>\n",
       "      <td>0.010063</td>\n",
       "      <td>0.010982</td>\n",
       "      <td>0.009906</td>\n",
       "      <td>...</td>\n",
       "      <td>0.009700</td>\n",
       "      <td>0.010307</td>\n",
       "      <td>0.011639</td>\n",
       "      <td>0.010816</td>\n",
       "      <td>0.010437</td>\n",
       "      <td>0.010539</td>\n",
       "      <td>0.010028</td>\n",
       "      <td>0.010015</td>\n",
       "      <td>0.010103</td>\n",
       "      <td>0.010718</td>\n",
       "    </tr>\n",
       "    <tr>\n",
       "      <th>2019-08-01</th>\n",
       "      <td>0.028944</td>\n",
       "      <td>0.020312</td>\n",
       "      <td>0.021394</td>\n",
       "      <td>0.016694</td>\n",
       "      <td>0.016403</td>\n",
       "      <td>0.011914</td>\n",
       "      <td>0.009373</td>\n",
       "      <td>0.010621</td>\n",
       "      <td>0.011320</td>\n",
       "      <td>0.009033</td>\n",
       "      <td>...</td>\n",
       "      <td>0.008955</td>\n",
       "      <td>0.009830</td>\n",
       "      <td>0.011187</td>\n",
       "      <td>0.011270</td>\n",
       "      <td>0.011320</td>\n",
       "      <td>0.011305</td>\n",
       "      <td>0.011112</td>\n",
       "      <td>0.011130</td>\n",
       "      <td>0.011137</td>\n",
       "      <td>0.010924</td>\n",
       "    </tr>\n",
       "  </tbody>\n",
       "</table>\n",
       "<p>3 rows × 1332 columns</p>\n",
       "</div>"
      ]
     },
     "execution_count": 153,
     "metadata": {},
     "output_type": "execute_result"
    }
   ],
   "execution_count": 153
  },
  {
   "metadata": {
    "ExecuteTime": {
     "end_time": "2025-06-18T12:01:00.576832Z",
     "start_time": "2025-06-18T12:00:53.122664Z"
    }
   },
   "cell_type": "code",
   "source": [
    "importlib.reload(lstm_utils)\n",
    "importlib.reload(mpt_utils)\n",
    "\n",
    "weights_12m, mu_12m, S_12m, allocations_12m, weights_all_12m = mpt_utils.portfolio_and_plot(df_forecast_12m, df, plot_threshold=0.022)"
   ],
   "id": "8558fe3a04872818",
   "outputs": [
    {
     "name": "stdout",
     "output_type": "stream",
     "text": [
      "Expected annual return: 14.3%\n",
      "Annual volatility: 0.2%\n",
      "Sharpe Ratio: 52.73\n",
      "-- Allocation --\n",
      "{'SHYF': 21, 'SONO': 16, '4218.T': 12, '7575.T': 20, 'NEXN.L': 1, '2874.T': 19, '2331.T': 24, 'GEN': 8, 'XPP.L': 1, '9470.T': 20, 'NSSC': 6, '7272.T': 14, 'XRAY': 3, '7599.T': 17, 'CCK': 1, 'UNM': 2, 'PINE.L': 1, 'DDS': 1, 'DLTR': 1, 'STGW': 23, '3086.T': 10, 'PDCO': 3, 'MMSI': 1, 'CLMB': 2, '4619.T': 11, '9364.T': 4, 'PTEC.L': 1, '8818.T': 8, '3608.T': 15, '8154.T': 2, '8012.T': 5, 'LIN': 1, '8060.T': 3, 'CTSH': 1, '4301.T': 7, '5332.T': 3, 'VOD.L': 1, '7846.T': 2, '4151.T': 4, 'HBI': 18, '4568.T': 2, '7701.T': 3, '9869.T': 2, 'CON.DE': 1, '8173.T': 4, 'ISRG': 1, '2685.T': 3, '4062.T': 1, 'AVGO': 1, '7780.T': 5, '7936.T': 7, '9104.T': 2, 'SBH': 6, '1911.T': 2, '2154.T': 4, 'BK': 1, '7732.T': 5, 'CHEF': 2, '2120.T': 34, '2502.T': 1, '5988.T': 3, '6902.T': 3, '9260.T': 3, '9401.T': 2, '1973.T': 3, '7239.T': 4, '3148.T': 2, '9729.T': 3, '9409.T': 4, 'GBF.DE': 1, '8591.T': 2, 'ATGE': 1, '4549.T': 4, '3402.T': 9, 'COP.DE': 1, '4665.T': 1, '1925.T': 1, '9072.T': 1, '6651.T': 1, '4326.T': 3, '6417.T': 4, '7451.T': 1, '8086.T': 4, '9831.T': 10, 'BCYC': 2, 'PSM.DE': 5, '6915.T': 1, '3116.T': 1, '6745.T': 2, '2733.T': 1, '6674.T': 1, 'CNK': 1, '8130.T': 1, '7988.T': 1, '6923.T': 1, '9434.T': 2, 'BXMT': 1, '8802.T': 1, '7955.T': 4, 'EH': 1, 'ARLO': 2, '9107.T': 1, '6471.T': 4, 'HPE': 1, 'LOVE': 1, '4293.T': 7, 'KELYA': 1, '8876.T': 2, '9842.T': 1, '8804.T': 1, 'APLD': 3, '8008.T': 1, '8439.T': 1, 'GME': 1, '3289.T': 2, '7613.T': 1, '7220.T': 1, '7250.T': 1, '3151.T': 1}\n",
      "-- Weights Percentage --\n",
      "{'SHYF': 0.0305, 'SONO': 0.0235, 'Other(117)': 0.946}\n"
     ]
    },
    {
     "name": "stderr",
     "output_type": "stream",
     "text": [
      "/Users/herbishtini/anaconda3/envs/portfolio_optimisation/lib/python3.11/site-packages/pypfopt/discrete_allocation.py:27: FutureWarning:\n",
      "\n",
      "Downcasting object dtype arrays on .fillna, .ffill, .bfill is deprecated and will change in a future version. Call result.infer_objects(copy=False) instead. To opt-in to the future behavior, set `pd.set_option('future.no_silent_downcasting', True)`\n",
      "\n"
     ]
    },
    {
     "data": {
      "application/vnd.plotly.v1+json": {
       "data": [
        {
         "hole": 0.3,
         "insidetextorientation": "radial",
         "labels": [
          "SHYF",
          "SONO",
          "Other(117)"
         ],
         "textinfo": "label+percent",
         "textposition": "inside",
         "values": [
          0.0232,
          0.0179,
          0.7206
         ],
         "type": "pie"
        }
       ],
       "layout": {
        "template": {
         "data": {
          "histogram2dcontour": [
           {
            "type": "histogram2dcontour",
            "colorbar": {
             "outlinewidth": 0,
             "ticks": ""
            },
            "colorscale": [
             [
              0.0,
              "#0d0887"
             ],
             [
              0.1111111111111111,
              "#46039f"
             ],
             [
              0.2222222222222222,
              "#7201a8"
             ],
             [
              0.3333333333333333,
              "#9c179e"
             ],
             [
              0.4444444444444444,
              "#bd3786"
             ],
             [
              0.5555555555555556,
              "#d8576b"
             ],
             [
              0.6666666666666666,
              "#ed7953"
             ],
             [
              0.7777777777777778,
              "#fb9f3a"
             ],
             [
              0.8888888888888888,
              "#fdca26"
             ],
             [
              1.0,
              "#f0f921"
             ]
            ]
           }
          ],
          "choropleth": [
           {
            "type": "choropleth",
            "colorbar": {
             "outlinewidth": 0,
             "ticks": ""
            }
           }
          ],
          "histogram2d": [
           {
            "type": "histogram2d",
            "colorbar": {
             "outlinewidth": 0,
             "ticks": ""
            },
            "colorscale": [
             [
              0.0,
              "#0d0887"
             ],
             [
              0.1111111111111111,
              "#46039f"
             ],
             [
              0.2222222222222222,
              "#7201a8"
             ],
             [
              0.3333333333333333,
              "#9c179e"
             ],
             [
              0.4444444444444444,
              "#bd3786"
             ],
             [
              0.5555555555555556,
              "#d8576b"
             ],
             [
              0.6666666666666666,
              "#ed7953"
             ],
             [
              0.7777777777777778,
              "#fb9f3a"
             ],
             [
              0.8888888888888888,
              "#fdca26"
             ],
             [
              1.0,
              "#f0f921"
             ]
            ]
           }
          ],
          "heatmap": [
           {
            "type": "heatmap",
            "colorbar": {
             "outlinewidth": 0,
             "ticks": ""
            },
            "colorscale": [
             [
              0.0,
              "#0d0887"
             ],
             [
              0.1111111111111111,
              "#46039f"
             ],
             [
              0.2222222222222222,
              "#7201a8"
             ],
             [
              0.3333333333333333,
              "#9c179e"
             ],
             [
              0.4444444444444444,
              "#bd3786"
             ],
             [
              0.5555555555555556,
              "#d8576b"
             ],
             [
              0.6666666666666666,
              "#ed7953"
             ],
             [
              0.7777777777777778,
              "#fb9f3a"
             ],
             [
              0.8888888888888888,
              "#fdca26"
             ],
             [
              1.0,
              "#f0f921"
             ]
            ]
           }
          ],
          "heatmapgl": [
           {
            "type": "heatmapgl",
            "colorbar": {
             "outlinewidth": 0,
             "ticks": ""
            },
            "colorscale": [
             [
              0.0,
              "#0d0887"
             ],
             [
              0.1111111111111111,
              "#46039f"
             ],
             [
              0.2222222222222222,
              "#7201a8"
             ],
             [
              0.3333333333333333,
              "#9c179e"
             ],
             [
              0.4444444444444444,
              "#bd3786"
             ],
             [
              0.5555555555555556,
              "#d8576b"
             ],
             [
              0.6666666666666666,
              "#ed7953"
             ],
             [
              0.7777777777777778,
              "#fb9f3a"
             ],
             [
              0.8888888888888888,
              "#fdca26"
             ],
             [
              1.0,
              "#f0f921"
             ]
            ]
           }
          ],
          "contourcarpet": [
           {
            "type": "contourcarpet",
            "colorbar": {
             "outlinewidth": 0,
             "ticks": ""
            }
           }
          ],
          "contour": [
           {
            "type": "contour",
            "colorbar": {
             "outlinewidth": 0,
             "ticks": ""
            },
            "colorscale": [
             [
              0.0,
              "#0d0887"
             ],
             [
              0.1111111111111111,
              "#46039f"
             ],
             [
              0.2222222222222222,
              "#7201a8"
             ],
             [
              0.3333333333333333,
              "#9c179e"
             ],
             [
              0.4444444444444444,
              "#bd3786"
             ],
             [
              0.5555555555555556,
              "#d8576b"
             ],
             [
              0.6666666666666666,
              "#ed7953"
             ],
             [
              0.7777777777777778,
              "#fb9f3a"
             ],
             [
              0.8888888888888888,
              "#fdca26"
             ],
             [
              1.0,
              "#f0f921"
             ]
            ]
           }
          ],
          "surface": [
           {
            "type": "surface",
            "colorbar": {
             "outlinewidth": 0,
             "ticks": ""
            },
            "colorscale": [
             [
              0.0,
              "#0d0887"
             ],
             [
              0.1111111111111111,
              "#46039f"
             ],
             [
              0.2222222222222222,
              "#7201a8"
             ],
             [
              0.3333333333333333,
              "#9c179e"
             ],
             [
              0.4444444444444444,
              "#bd3786"
             ],
             [
              0.5555555555555556,
              "#d8576b"
             ],
             [
              0.6666666666666666,
              "#ed7953"
             ],
             [
              0.7777777777777778,
              "#fb9f3a"
             ],
             [
              0.8888888888888888,
              "#fdca26"
             ],
             [
              1.0,
              "#f0f921"
             ]
            ]
           }
          ],
          "mesh3d": [
           {
            "type": "mesh3d",
            "colorbar": {
             "outlinewidth": 0,
             "ticks": ""
            }
           }
          ],
          "scatter": [
           {
            "marker": {
             "line": {
              "color": "#283442"
             }
            },
            "type": "scatter"
           }
          ],
          "parcoords": [
           {
            "type": "parcoords",
            "line": {
             "colorbar": {
              "outlinewidth": 0,
              "ticks": ""
             }
            }
           }
          ],
          "scatterpolargl": [
           {
            "type": "scatterpolargl",
            "marker": {
             "colorbar": {
              "outlinewidth": 0,
              "ticks": ""
             }
            }
           }
          ],
          "bar": [
           {
            "error_x": {
             "color": "#f2f5fa"
            },
            "error_y": {
             "color": "#f2f5fa"
            },
            "marker": {
             "line": {
              "color": "rgb(17,17,17)",
              "width": 0.5
             },
             "pattern": {
              "fillmode": "overlay",
              "size": 10,
              "solidity": 0.2
             }
            },
            "type": "bar"
           }
          ],
          "scattergeo": [
           {
            "type": "scattergeo",
            "marker": {
             "colorbar": {
              "outlinewidth": 0,
              "ticks": ""
             }
            }
           }
          ],
          "scatterpolar": [
           {
            "type": "scatterpolar",
            "marker": {
             "colorbar": {
              "outlinewidth": 0,
              "ticks": ""
             }
            }
           }
          ],
          "histogram": [
           {
            "marker": {
             "pattern": {
              "fillmode": "overlay",
              "size": 10,
              "solidity": 0.2
             }
            },
            "type": "histogram"
           }
          ],
          "scattergl": [
           {
            "marker": {
             "line": {
              "color": "#283442"
             }
            },
            "type": "scattergl"
           }
          ],
          "scatter3d": [
           {
            "type": "scatter3d",
            "line": {
             "colorbar": {
              "outlinewidth": 0,
              "ticks": ""
             }
            },
            "marker": {
             "colorbar": {
              "outlinewidth": 0,
              "ticks": ""
             }
            }
           }
          ],
          "scattermapbox": [
           {
            "type": "scattermapbox",
            "marker": {
             "colorbar": {
              "outlinewidth": 0,
              "ticks": ""
             }
            }
           }
          ],
          "scatterternary": [
           {
            "type": "scatterternary",
            "marker": {
             "colorbar": {
              "outlinewidth": 0,
              "ticks": ""
             }
            }
           }
          ],
          "scattercarpet": [
           {
            "type": "scattercarpet",
            "marker": {
             "colorbar": {
              "outlinewidth": 0,
              "ticks": ""
             }
            }
           }
          ],
          "carpet": [
           {
            "aaxis": {
             "endlinecolor": "#A2B1C6",
             "gridcolor": "#506784",
             "linecolor": "#506784",
             "minorgridcolor": "#506784",
             "startlinecolor": "#A2B1C6"
            },
            "baxis": {
             "endlinecolor": "#A2B1C6",
             "gridcolor": "#506784",
             "linecolor": "#506784",
             "minorgridcolor": "#506784",
             "startlinecolor": "#A2B1C6"
            },
            "type": "carpet"
           }
          ],
          "table": [
           {
            "cells": {
             "fill": {
              "color": "#506784"
             },
             "line": {
              "color": "rgb(17,17,17)"
             }
            },
            "header": {
             "fill": {
              "color": "#2a3f5f"
             },
             "line": {
              "color": "rgb(17,17,17)"
             }
            },
            "type": "table"
           }
          ],
          "barpolar": [
           {
            "marker": {
             "line": {
              "color": "rgb(17,17,17)",
              "width": 0.5
             },
             "pattern": {
              "fillmode": "overlay",
              "size": 10,
              "solidity": 0.2
             }
            },
            "type": "barpolar"
           }
          ],
          "pie": [
           {
            "automargin": true,
            "type": "pie"
           }
          ]
         },
         "layout": {
          "autotypenumbers": "strict",
          "colorway": [
           "#636efa",
           "#EF553B",
           "#00cc96",
           "#ab63fa",
           "#FFA15A",
           "#19d3f3",
           "#FF6692",
           "#B6E880",
           "#FF97FF",
           "#FECB52"
          ],
          "font": {
           "color": "#f2f5fa"
          },
          "hovermode": "closest",
          "hoverlabel": {
           "align": "left"
          },
          "paper_bgcolor": "rgb(17,17,17)",
          "plot_bgcolor": "rgb(17,17,17)",
          "polar": {
           "bgcolor": "rgb(17,17,17)",
           "angularaxis": {
            "gridcolor": "#506784",
            "linecolor": "#506784",
            "ticks": ""
           },
           "radialaxis": {
            "gridcolor": "#506784",
            "linecolor": "#506784",
            "ticks": ""
           }
          },
          "ternary": {
           "bgcolor": "rgb(17,17,17)",
           "aaxis": {
            "gridcolor": "#506784",
            "linecolor": "#506784",
            "ticks": ""
           },
           "baxis": {
            "gridcolor": "#506784",
            "linecolor": "#506784",
            "ticks": ""
           },
           "caxis": {
            "gridcolor": "#506784",
            "linecolor": "#506784",
            "ticks": ""
           }
          },
          "coloraxis": {
           "colorbar": {
            "outlinewidth": 0,
            "ticks": ""
           }
          },
          "colorscale": {
           "sequential": [
            [
             0.0,
             "#0d0887"
            ],
            [
             0.1111111111111111,
             "#46039f"
            ],
            [
             0.2222222222222222,
             "#7201a8"
            ],
            [
             0.3333333333333333,
             "#9c179e"
            ],
            [
             0.4444444444444444,
             "#bd3786"
            ],
            [
             0.5555555555555556,
             "#d8576b"
            ],
            [
             0.6666666666666666,
             "#ed7953"
            ],
            [
             0.7777777777777778,
             "#fb9f3a"
            ],
            [
             0.8888888888888888,
             "#fdca26"
            ],
            [
             1.0,
             "#f0f921"
            ]
           ],
           "sequentialminus": [
            [
             0.0,
             "#0d0887"
            ],
            [
             0.1111111111111111,
             "#46039f"
            ],
            [
             0.2222222222222222,
             "#7201a8"
            ],
            [
             0.3333333333333333,
             "#9c179e"
            ],
            [
             0.4444444444444444,
             "#bd3786"
            ],
            [
             0.5555555555555556,
             "#d8576b"
            ],
            [
             0.6666666666666666,
             "#ed7953"
            ],
            [
             0.7777777777777778,
             "#fb9f3a"
            ],
            [
             0.8888888888888888,
             "#fdca26"
            ],
            [
             1.0,
             "#f0f921"
            ]
           ],
           "diverging": [
            [
             0,
             "#8e0152"
            ],
            [
             0.1,
             "#c51b7d"
            ],
            [
             0.2,
             "#de77ae"
            ],
            [
             0.3,
             "#f1b6da"
            ],
            [
             0.4,
             "#fde0ef"
            ],
            [
             0.5,
             "#f7f7f7"
            ],
            [
             0.6,
             "#e6f5d0"
            ],
            [
             0.7,
             "#b8e186"
            ],
            [
             0.8,
             "#7fbc41"
            ],
            [
             0.9,
             "#4d9221"
            ],
            [
             1,
             "#276419"
            ]
           ]
          },
          "xaxis": {
           "gridcolor": "#283442",
           "linecolor": "#506784",
           "ticks": "",
           "title": {
            "standoff": 15
           },
           "zerolinecolor": "#283442",
           "automargin": true,
           "zerolinewidth": 2
          },
          "yaxis": {
           "gridcolor": "#283442",
           "linecolor": "#506784",
           "ticks": "",
           "title": {
            "standoff": 15
           },
           "zerolinecolor": "#283442",
           "automargin": true,
           "zerolinewidth": 2
          },
          "scene": {
           "xaxis": {
            "backgroundcolor": "rgb(17,17,17)",
            "gridcolor": "#506784",
            "linecolor": "#506784",
            "showbackground": true,
            "ticks": "",
            "zerolinecolor": "#C8D4E3",
            "gridwidth": 2
           },
           "yaxis": {
            "backgroundcolor": "rgb(17,17,17)",
            "gridcolor": "#506784",
            "linecolor": "#506784",
            "showbackground": true,
            "ticks": "",
            "zerolinecolor": "#C8D4E3",
            "gridwidth": 2
           },
           "zaxis": {
            "backgroundcolor": "rgb(17,17,17)",
            "gridcolor": "#506784",
            "linecolor": "#506784",
            "showbackground": true,
            "ticks": "",
            "zerolinecolor": "#C8D4E3",
            "gridwidth": 2
           }
          },
          "shapedefaults": {
           "line": {
            "color": "#f2f5fa"
           }
          },
          "annotationdefaults": {
           "arrowcolor": "#f2f5fa",
           "arrowhead": 0,
           "arrowwidth": 1
          },
          "geo": {
           "bgcolor": "rgb(17,17,17)",
           "landcolor": "rgb(17,17,17)",
           "subunitcolor": "#506784",
           "showland": true,
           "showlakes": true,
           "lakecolor": "rgb(17,17,17)"
          },
          "title": {
           "x": 0.05
          },
          "updatemenudefaults": {
           "bgcolor": "#506784",
           "borderwidth": 0
          },
          "sliderdefaults": {
           "bgcolor": "#C8D4E3",
           "borderwidth": 1,
           "bordercolor": "rgb(17,17,17)",
           "tickwidth": 0
          },
          "mapbox": {
           "style": "dark"
          }
         }
        },
        "margin": {
         "l": 20,
         "r": 20,
         "t": 20,
         "b": 20
        },
        "font": {
         "color": "black"
        },
        "height": 600,
        "width": 600,
        "paper_bgcolor": "white",
        "plot_bgcolor": "white",
        "showlegend": false
       },
       "config": {
        "plotlyServerURL": "https://plot.ly"
       }
      },
      "text/html": [
       "<div>                            <div id=\"73f64440-d85d-43b7-b6bc-41b37201aec1\" class=\"plotly-graph-div\" style=\"height:600px; width:600px;\"></div>            <script type=\"text/javascript\">                require([\"plotly\"], function(Plotly) {                    window.PLOTLYENV=window.PLOTLYENV || {};                                    if (document.getElementById(\"73f64440-d85d-43b7-b6bc-41b37201aec1\")) {                    Plotly.newPlot(                        \"73f64440-d85d-43b7-b6bc-41b37201aec1\",                        [{\"hole\":0.3,\"insidetextorientation\":\"radial\",\"labels\":[\"SHYF\",\"SONO\",\"Other(117)\"],\"textinfo\":\"label+percent\",\"textposition\":\"inside\",\"values\":[0.0232,0.0179,0.7206],\"type\":\"pie\"}],                        {\"template\":{\"data\":{\"histogram2dcontour\":[{\"type\":\"histogram2dcontour\",\"colorbar\":{\"outlinewidth\":0,\"ticks\":\"\"},\"colorscale\":[[0.0,\"#0d0887\"],[0.1111111111111111,\"#46039f\"],[0.2222222222222222,\"#7201a8\"],[0.3333333333333333,\"#9c179e\"],[0.4444444444444444,\"#bd3786\"],[0.5555555555555556,\"#d8576b\"],[0.6666666666666666,\"#ed7953\"],[0.7777777777777778,\"#fb9f3a\"],[0.8888888888888888,\"#fdca26\"],[1.0,\"#f0f921\"]]}],\"choropleth\":[{\"type\":\"choropleth\",\"colorbar\":{\"outlinewidth\":0,\"ticks\":\"\"}}],\"histogram2d\":[{\"type\":\"histogram2d\",\"colorbar\":{\"outlinewidth\":0,\"ticks\":\"\"},\"colorscale\":[[0.0,\"#0d0887\"],[0.1111111111111111,\"#46039f\"],[0.2222222222222222,\"#7201a8\"],[0.3333333333333333,\"#9c179e\"],[0.4444444444444444,\"#bd3786\"],[0.5555555555555556,\"#d8576b\"],[0.6666666666666666,\"#ed7953\"],[0.7777777777777778,\"#fb9f3a\"],[0.8888888888888888,\"#fdca26\"],[1.0,\"#f0f921\"]]}],\"heatmap\":[{\"type\":\"heatmap\",\"colorbar\":{\"outlinewidth\":0,\"ticks\":\"\"},\"colorscale\":[[0.0,\"#0d0887\"],[0.1111111111111111,\"#46039f\"],[0.2222222222222222,\"#7201a8\"],[0.3333333333333333,\"#9c179e\"],[0.4444444444444444,\"#bd3786\"],[0.5555555555555556,\"#d8576b\"],[0.6666666666666666,\"#ed7953\"],[0.7777777777777778,\"#fb9f3a\"],[0.8888888888888888,\"#fdca26\"],[1.0,\"#f0f921\"]]}],\"heatmapgl\":[{\"type\":\"heatmapgl\",\"colorbar\":{\"outlinewidth\":0,\"ticks\":\"\"},\"colorscale\":[[0.0,\"#0d0887\"],[0.1111111111111111,\"#46039f\"],[0.2222222222222222,\"#7201a8\"],[0.3333333333333333,\"#9c179e\"],[0.4444444444444444,\"#bd3786\"],[0.5555555555555556,\"#d8576b\"],[0.6666666666666666,\"#ed7953\"],[0.7777777777777778,\"#fb9f3a\"],[0.8888888888888888,\"#fdca26\"],[1.0,\"#f0f921\"]]}],\"contourcarpet\":[{\"type\":\"contourcarpet\",\"colorbar\":{\"outlinewidth\":0,\"ticks\":\"\"}}],\"contour\":[{\"type\":\"contour\",\"colorbar\":{\"outlinewidth\":0,\"ticks\":\"\"},\"colorscale\":[[0.0,\"#0d0887\"],[0.1111111111111111,\"#46039f\"],[0.2222222222222222,\"#7201a8\"],[0.3333333333333333,\"#9c179e\"],[0.4444444444444444,\"#bd3786\"],[0.5555555555555556,\"#d8576b\"],[0.6666666666666666,\"#ed7953\"],[0.7777777777777778,\"#fb9f3a\"],[0.8888888888888888,\"#fdca26\"],[1.0,\"#f0f921\"]]}],\"surface\":[{\"type\":\"surface\",\"colorbar\":{\"outlinewidth\":0,\"ticks\":\"\"},\"colorscale\":[[0.0,\"#0d0887\"],[0.1111111111111111,\"#46039f\"],[0.2222222222222222,\"#7201a8\"],[0.3333333333333333,\"#9c179e\"],[0.4444444444444444,\"#bd3786\"],[0.5555555555555556,\"#d8576b\"],[0.6666666666666666,\"#ed7953\"],[0.7777777777777778,\"#fb9f3a\"],[0.8888888888888888,\"#fdca26\"],[1.0,\"#f0f921\"]]}],\"mesh3d\":[{\"type\":\"mesh3d\",\"colorbar\":{\"outlinewidth\":0,\"ticks\":\"\"}}],\"scatter\":[{\"marker\":{\"line\":{\"color\":\"#283442\"}},\"type\":\"scatter\"}],\"parcoords\":[{\"type\":\"parcoords\",\"line\":{\"colorbar\":{\"outlinewidth\":0,\"ticks\":\"\"}}}],\"scatterpolargl\":[{\"type\":\"scatterpolargl\",\"marker\":{\"colorbar\":{\"outlinewidth\":0,\"ticks\":\"\"}}}],\"bar\":[{\"error_x\":{\"color\":\"#f2f5fa\"},\"error_y\":{\"color\":\"#f2f5fa\"},\"marker\":{\"line\":{\"color\":\"rgb(17,17,17)\",\"width\":0.5},\"pattern\":{\"fillmode\":\"overlay\",\"size\":10,\"solidity\":0.2}},\"type\":\"bar\"}],\"scattergeo\":[{\"type\":\"scattergeo\",\"marker\":{\"colorbar\":{\"outlinewidth\":0,\"ticks\":\"\"}}}],\"scatterpolar\":[{\"type\":\"scatterpolar\",\"marker\":{\"colorbar\":{\"outlinewidth\":0,\"ticks\":\"\"}}}],\"histogram\":[{\"marker\":{\"pattern\":{\"fillmode\":\"overlay\",\"size\":10,\"solidity\":0.2}},\"type\":\"histogram\"}],\"scattergl\":[{\"marker\":{\"line\":{\"color\":\"#283442\"}},\"type\":\"scattergl\"}],\"scatter3d\":[{\"type\":\"scatter3d\",\"line\":{\"colorbar\":{\"outlinewidth\":0,\"ticks\":\"\"}},\"marker\":{\"colorbar\":{\"outlinewidth\":0,\"ticks\":\"\"}}}],\"scattermapbox\":[{\"type\":\"scattermapbox\",\"marker\":{\"colorbar\":{\"outlinewidth\":0,\"ticks\":\"\"}}}],\"scatterternary\":[{\"type\":\"scatterternary\",\"marker\":{\"colorbar\":{\"outlinewidth\":0,\"ticks\":\"\"}}}],\"scattercarpet\":[{\"type\":\"scattercarpet\",\"marker\":{\"colorbar\":{\"outlinewidth\":0,\"ticks\":\"\"}}}],\"carpet\":[{\"aaxis\":{\"endlinecolor\":\"#A2B1C6\",\"gridcolor\":\"#506784\",\"linecolor\":\"#506784\",\"minorgridcolor\":\"#506784\",\"startlinecolor\":\"#A2B1C6\"},\"baxis\":{\"endlinecolor\":\"#A2B1C6\",\"gridcolor\":\"#506784\",\"linecolor\":\"#506784\",\"minorgridcolor\":\"#506784\",\"startlinecolor\":\"#A2B1C6\"},\"type\":\"carpet\"}],\"table\":[{\"cells\":{\"fill\":{\"color\":\"#506784\"},\"line\":{\"color\":\"rgb(17,17,17)\"}},\"header\":{\"fill\":{\"color\":\"#2a3f5f\"},\"line\":{\"color\":\"rgb(17,17,17)\"}},\"type\":\"table\"}],\"barpolar\":[{\"marker\":{\"line\":{\"color\":\"rgb(17,17,17)\",\"width\":0.5},\"pattern\":{\"fillmode\":\"overlay\",\"size\":10,\"solidity\":0.2}},\"type\":\"barpolar\"}],\"pie\":[{\"automargin\":true,\"type\":\"pie\"}]},\"layout\":{\"autotypenumbers\":\"strict\",\"colorway\":[\"#636efa\",\"#EF553B\",\"#00cc96\",\"#ab63fa\",\"#FFA15A\",\"#19d3f3\",\"#FF6692\",\"#B6E880\",\"#FF97FF\",\"#FECB52\"],\"font\":{\"color\":\"#f2f5fa\"},\"hovermode\":\"closest\",\"hoverlabel\":{\"align\":\"left\"},\"paper_bgcolor\":\"rgb(17,17,17)\",\"plot_bgcolor\":\"rgb(17,17,17)\",\"polar\":{\"bgcolor\":\"rgb(17,17,17)\",\"angularaxis\":{\"gridcolor\":\"#506784\",\"linecolor\":\"#506784\",\"ticks\":\"\"},\"radialaxis\":{\"gridcolor\":\"#506784\",\"linecolor\":\"#506784\",\"ticks\":\"\"}},\"ternary\":{\"bgcolor\":\"rgb(17,17,17)\",\"aaxis\":{\"gridcolor\":\"#506784\",\"linecolor\":\"#506784\",\"ticks\":\"\"},\"baxis\":{\"gridcolor\":\"#506784\",\"linecolor\":\"#506784\",\"ticks\":\"\"},\"caxis\":{\"gridcolor\":\"#506784\",\"linecolor\":\"#506784\",\"ticks\":\"\"}},\"coloraxis\":{\"colorbar\":{\"outlinewidth\":0,\"ticks\":\"\"}},\"colorscale\":{\"sequential\":[[0.0,\"#0d0887\"],[0.1111111111111111,\"#46039f\"],[0.2222222222222222,\"#7201a8\"],[0.3333333333333333,\"#9c179e\"],[0.4444444444444444,\"#bd3786\"],[0.5555555555555556,\"#d8576b\"],[0.6666666666666666,\"#ed7953\"],[0.7777777777777778,\"#fb9f3a\"],[0.8888888888888888,\"#fdca26\"],[1.0,\"#f0f921\"]],\"sequentialminus\":[[0.0,\"#0d0887\"],[0.1111111111111111,\"#46039f\"],[0.2222222222222222,\"#7201a8\"],[0.3333333333333333,\"#9c179e\"],[0.4444444444444444,\"#bd3786\"],[0.5555555555555556,\"#d8576b\"],[0.6666666666666666,\"#ed7953\"],[0.7777777777777778,\"#fb9f3a\"],[0.8888888888888888,\"#fdca26\"],[1.0,\"#f0f921\"]],\"diverging\":[[0,\"#8e0152\"],[0.1,\"#c51b7d\"],[0.2,\"#de77ae\"],[0.3,\"#f1b6da\"],[0.4,\"#fde0ef\"],[0.5,\"#f7f7f7\"],[0.6,\"#e6f5d0\"],[0.7,\"#b8e186\"],[0.8,\"#7fbc41\"],[0.9,\"#4d9221\"],[1,\"#276419\"]]},\"xaxis\":{\"gridcolor\":\"#283442\",\"linecolor\":\"#506784\",\"ticks\":\"\",\"title\":{\"standoff\":15},\"zerolinecolor\":\"#283442\",\"automargin\":true,\"zerolinewidth\":2},\"yaxis\":{\"gridcolor\":\"#283442\",\"linecolor\":\"#506784\",\"ticks\":\"\",\"title\":{\"standoff\":15},\"zerolinecolor\":\"#283442\",\"automargin\":true,\"zerolinewidth\":2},\"scene\":{\"xaxis\":{\"backgroundcolor\":\"rgb(17,17,17)\",\"gridcolor\":\"#506784\",\"linecolor\":\"#506784\",\"showbackground\":true,\"ticks\":\"\",\"zerolinecolor\":\"#C8D4E3\",\"gridwidth\":2},\"yaxis\":{\"backgroundcolor\":\"rgb(17,17,17)\",\"gridcolor\":\"#506784\",\"linecolor\":\"#506784\",\"showbackground\":true,\"ticks\":\"\",\"zerolinecolor\":\"#C8D4E3\",\"gridwidth\":2},\"zaxis\":{\"backgroundcolor\":\"rgb(17,17,17)\",\"gridcolor\":\"#506784\",\"linecolor\":\"#506784\",\"showbackground\":true,\"ticks\":\"\",\"zerolinecolor\":\"#C8D4E3\",\"gridwidth\":2}},\"shapedefaults\":{\"line\":{\"color\":\"#f2f5fa\"}},\"annotationdefaults\":{\"arrowcolor\":\"#f2f5fa\",\"arrowhead\":0,\"arrowwidth\":1},\"geo\":{\"bgcolor\":\"rgb(17,17,17)\",\"landcolor\":\"rgb(17,17,17)\",\"subunitcolor\":\"#506784\",\"showland\":true,\"showlakes\":true,\"lakecolor\":\"rgb(17,17,17)\"},\"title\":{\"x\":0.05},\"updatemenudefaults\":{\"bgcolor\":\"#506784\",\"borderwidth\":0},\"sliderdefaults\":{\"bgcolor\":\"#C8D4E3\",\"borderwidth\":1,\"bordercolor\":\"rgb(17,17,17)\",\"tickwidth\":0},\"mapbox\":{\"style\":\"dark\"}}},\"margin\":{\"l\":20,\"r\":20,\"t\":20,\"b\":20},\"font\":{\"color\":\"black\"},\"height\":600,\"width\":600,\"paper_bgcolor\":\"white\",\"plot_bgcolor\":\"white\",\"showlegend\":false},                        {\"responsive\": true}                    ).then(function(){\n",
       "                            \n",
       "var gd = document.getElementById('73f64440-d85d-43b7-b6bc-41b37201aec1');\n",
       "var x = new MutationObserver(function (mutations, observer) {{\n",
       "        var display = window.getComputedStyle(gd).display;\n",
       "        if (!display || display === 'none') {{\n",
       "            console.log([gd, 'removed!']);\n",
       "            Plotly.purge(gd);\n",
       "            observer.disconnect();\n",
       "        }}\n",
       "}});\n",
       "\n",
       "// Listen for the removal of the full notebook cells\n",
       "var notebookContainer = gd.closest('#notebook-container');\n",
       "if (notebookContainer) {{\n",
       "    x.observe(notebookContainer, {childList: true});\n",
       "}}\n",
       "\n",
       "// Listen for the clearing of the current output cell\n",
       "var outputEl = gd.closest('.output');\n",
       "if (outputEl) {{\n",
       "    x.observe(outputEl, {childList: true});\n",
       "}}\n",
       "\n",
       "                        })                };                });            </script>        </div>"
      ]
     },
     "metadata": {},
     "output_type": "display_data"
    }
   ],
   "execution_count": 154
  },
  {
   "metadata": {},
   "cell_type": "markdown",
   "source": "#### Actual return rates",
   "id": "406499fe7c4fbff3"
  },
  {
   "metadata": {
    "ExecuteTime": {
     "end_time": "2025-06-18T12:01:00.999634Z",
     "start_time": "2025-06-18T12:01:00.984360Z"
    }
   },
   "cell_type": "code",
   "source": [
    "importlib.reload(mpt_utils)\n",
    "#\n",
    "mpt_utils.get_portfolio_real_return_rate(df_pct, df_forecast_12m, weights=weights_all_12m, months=12)"
   ],
   "id": "8a71eb6946af1fa7",
   "outputs": [
    {
     "name": "stdout",
     "output_type": "stream",
     "text": [
      "Portfolio real return rate:  -0.03%\n"
     ]
    }
   ],
   "execution_count": 155
  },
  {
   "metadata": {},
   "cell_type": "markdown",
   "source": "#### Overview Table",
   "id": "92480eee8b184695"
  },
  {
   "metadata": {
    "ExecuteTime": {
     "end_time": "2025-06-18T12:01:01.068538Z",
     "start_time": "2025-06-18T12:01:01.024276Z"
    }
   },
   "cell_type": "code",
   "source": [
    "importlib.reload(mpt_utils)\n",
    "# Create overview\n",
    "mpt_utils.generate_overview_table(allocations_12m, mu_12m, S_12m, df_pct)"
   ],
   "id": "492409156d4d2ec5",
   "outputs": [
    {
     "data": {
      "text/plain": [
       "        Share Count  Average Covariance Average Returns Return Last 12 Months  \\\n",
       "SHYF             21            0.000000           5.37%               -51.56%   \n",
       "SONO             16            0.000000          14.40%               -33.04%   \n",
       "4218.T           12            0.000000          14.25%                 9.86%   \n",
       "7575.T           20            0.000085          15.62%                19.33%   \n",
       "NEXN.L            1            0.000000          15.52%               -59.21%   \n",
       "...             ...                 ...             ...                   ...   \n",
       "3289.T            2            0.000000          13.68%                20.64%   \n",
       "7613.T            1            0.000000          13.52%                26.43%   \n",
       "7220.T            1            0.000000          13.96%               -14.78%   \n",
       "7250.T            1            0.000000          13.94%                32.22%   \n",
       "3151.T            1            0.000000          14.11%                42.04%   \n",
       "\n",
       "       Return (Actual) Next 12 Months  \n",
       "SHYF                          -18.16%  \n",
       "SONO                          -11.84%  \n",
       "4218.T                          7.02%  \n",
       "7575.T                          5.04%  \n",
       "NEXN.L                         92.90%  \n",
       "...                               ...  \n",
       "3289.T                         12.31%  \n",
       "7613.T                        -27.69%  \n",
       "7220.T                         21.29%  \n",
       "7250.T                         -1.82%  \n",
       "3151.T                         26.23%  \n",
       "\n",
       "[119 rows x 5 columns]"
      ],
      "text/html": [
       "<div>\n",
       "<style scoped>\n",
       "    .dataframe tbody tr th:only-of-type {\n",
       "        vertical-align: middle;\n",
       "    }\n",
       "\n",
       "    .dataframe tbody tr th {\n",
       "        vertical-align: top;\n",
       "    }\n",
       "\n",
       "    .dataframe thead th {\n",
       "        text-align: right;\n",
       "    }\n",
       "</style>\n",
       "<table border=\"1\" class=\"dataframe\">\n",
       "  <thead>\n",
       "    <tr style=\"text-align: right;\">\n",
       "      <th></th>\n",
       "      <th>Share Count</th>\n",
       "      <th>Average Covariance</th>\n",
       "      <th>Average Returns</th>\n",
       "      <th>Return Last 12 Months</th>\n",
       "      <th>Return (Actual) Next 12 Months</th>\n",
       "    </tr>\n",
       "  </thead>\n",
       "  <tbody>\n",
       "    <tr>\n",
       "      <th>SHYF</th>\n",
       "      <td>21</td>\n",
       "      <td>0.000000</td>\n",
       "      <td>5.37%</td>\n",
       "      <td>-51.56%</td>\n",
       "      <td>-18.16%</td>\n",
       "    </tr>\n",
       "    <tr>\n",
       "      <th>SONO</th>\n",
       "      <td>16</td>\n",
       "      <td>0.000000</td>\n",
       "      <td>14.40%</td>\n",
       "      <td>-33.04%</td>\n",
       "      <td>-11.84%</td>\n",
       "    </tr>\n",
       "    <tr>\n",
       "      <th>4218.T</th>\n",
       "      <td>12</td>\n",
       "      <td>0.000000</td>\n",
       "      <td>14.25%</td>\n",
       "      <td>9.86%</td>\n",
       "      <td>7.02%</td>\n",
       "    </tr>\n",
       "    <tr>\n",
       "      <th>7575.T</th>\n",
       "      <td>20</td>\n",
       "      <td>0.000085</td>\n",
       "      <td>15.62%</td>\n",
       "      <td>19.33%</td>\n",
       "      <td>5.04%</td>\n",
       "    </tr>\n",
       "    <tr>\n",
       "      <th>NEXN.L</th>\n",
       "      <td>1</td>\n",
       "      <td>0.000000</td>\n",
       "      <td>15.52%</td>\n",
       "      <td>-59.21%</td>\n",
       "      <td>92.90%</td>\n",
       "    </tr>\n",
       "    <tr>\n",
       "      <th>...</th>\n",
       "      <td>...</td>\n",
       "      <td>...</td>\n",
       "      <td>...</td>\n",
       "      <td>...</td>\n",
       "      <td>...</td>\n",
       "    </tr>\n",
       "    <tr>\n",
       "      <th>3289.T</th>\n",
       "      <td>2</td>\n",
       "      <td>0.000000</td>\n",
       "      <td>13.68%</td>\n",
       "      <td>20.64%</td>\n",
       "      <td>12.31%</td>\n",
       "    </tr>\n",
       "    <tr>\n",
       "      <th>7613.T</th>\n",
       "      <td>1</td>\n",
       "      <td>0.000000</td>\n",
       "      <td>13.52%</td>\n",
       "      <td>26.43%</td>\n",
       "      <td>-27.69%</td>\n",
       "    </tr>\n",
       "    <tr>\n",
       "      <th>7220.T</th>\n",
       "      <td>1</td>\n",
       "      <td>0.000000</td>\n",
       "      <td>13.96%</td>\n",
       "      <td>-14.78%</td>\n",
       "      <td>21.29%</td>\n",
       "    </tr>\n",
       "    <tr>\n",
       "      <th>7250.T</th>\n",
       "      <td>1</td>\n",
       "      <td>0.000000</td>\n",
       "      <td>13.94%</td>\n",
       "      <td>32.22%</td>\n",
       "      <td>-1.82%</td>\n",
       "    </tr>\n",
       "    <tr>\n",
       "      <th>3151.T</th>\n",
       "      <td>1</td>\n",
       "      <td>0.000000</td>\n",
       "      <td>14.11%</td>\n",
       "      <td>42.04%</td>\n",
       "      <td>26.23%</td>\n",
       "    </tr>\n",
       "  </tbody>\n",
       "</table>\n",
       "<p>119 rows × 5 columns</p>\n",
       "</div>"
      ]
     },
     "execution_count": 156,
     "metadata": {},
     "output_type": "execute_result"
    }
   ],
   "execution_count": 156
  },
  {
   "metadata": {
    "ExecuteTime": {
     "end_time": "2025-06-18T12:01:01.094243Z",
     "start_time": "2025-06-18T12:01:01.091028Z"
    }
   },
   "cell_type": "code",
   "source": "",
   "id": "d1d279e2a4b2f883",
   "outputs": [],
   "execution_count": null
  }
 ],
 "metadata": {
  "kernelspec": {
   "display_name": "Python 3",
   "language": "python",
   "name": "python3"
  },
  "language_info": {
   "codemirror_mode": {
    "name": "ipython",
    "version": 2
   },
   "file_extension": ".py",
   "mimetype": "text/x-python",
   "name": "python",
   "nbconvert_exporter": "python",
   "pygments_lexer": "ipython2",
   "version": "2.7.6"
  }
 },
 "nbformat": 4,
 "nbformat_minor": 5
}
