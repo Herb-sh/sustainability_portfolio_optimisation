{
 "cells": [
  {
   "metadata": {
    "ExecuteTime": {
     "end_time": "2025-05-31T19:26:38.919594Z",
     "start_time": "2025-05-31T19:26:38.900885Z"
    }
   },
   "cell_type": "code",
   "source": [
    "import numpy as np\n",
    "import pandas as pd\n",
    "#\n",
    "from pypfopt import EfficientFrontier, EfficientSemivariance, plotting\n",
    "#\n",
    "import importlib\n",
    "import utilities.variables as variables\n",
    "import utilities.utility as utility\n",
    "import utilities.plots as plots\n",
    "import utilities.mpt_utils as mpt_utils\n",
    "importlib.reload(variables)\n",
    "importlib.reload(utility)\n",
    "importlib.reload(plots)\n",
    "importlib.reload(mpt_utils)"
   ],
   "id": "588eaf47cb6c78b1",
   "outputs": [
    {
     "data": {
      "text/plain": [
       "<module 'utilities.mpt_utils' from '/Users/herbishtini/Documents/UNI/Master Thesis/sustainability_portfolio_optimisation/utilities/mpt_utils.py'>"
      ]
     },
     "execution_count": 10,
     "metadata": {},
     "output_type": "execute_result"
    }
   ],
   "execution_count": 10
  },
  {
   "metadata": {
    "ExecuteTime": {
     "end_time": "2025-05-31T19:26:39.165738Z",
     "start_time": "2025-05-31T19:26:38.938332Z"
    }
   },
   "cell_type": "code",
   "source": [
    "# Read in price data\n",
    "df = pd.read_csv('../../../data/df_monthly_prices_complete_euro.csv', index_col='Date')\n",
    "df_pct = pd.read_csv('../../../data/df_monthly_returns_complete.csv', index_col='Date')\n",
    "df_overview = pd.read_csv('../../../data/df_overview.csv', index_col=0)"
   ],
   "id": "52d75bbd65bdf3a2",
   "outputs": [],
   "execution_count": 11
  },
  {
   "metadata": {},
   "cell_type": "markdown",
   "source": "### Train & Test split",
   "id": "27bd467f160f51c1"
  },
  {
   "metadata": {
    "ExecuteTime": {
     "end_time": "2025-05-31T19:26:39.234866Z",
     "start_time": "2025-05-31T19:26:39.231745Z"
    }
   },
   "cell_type": "code",
   "source": [
    "# actual values\n",
    "df_train = df.head(int(variables.ALL_YEARS_NR - variables.TEST_YEARS_NR) * 12)  \n",
    "df_test = df.tail(variables.TEST_YEARS_NR * 12)\n",
    "# Percentage based values\n",
    "df_pct_train = df_pct.head(int(variables.ALL_YEARS_NR - variables.TEST_YEARS_NR) * 12)\n",
    "df_pct_test = df_pct.tail(variables.TEST_YEARS_NR * 12)"
   ],
   "id": "73784d3e5e78448d",
   "outputs": [],
   "execution_count": 12
  },
  {
   "metadata": {
    "ExecuteTime": {
     "end_time": "2025-05-31T19:26:39.384936Z",
     "start_time": "2025-05-31T19:26:39.284587Z"
    }
   },
   "cell_type": "code",
   "source": [
    "df_spread = utility.evenly_spaced_dataframe(df, 200)\n",
    "df_train_spread = utility.evenly_spaced_dataframe(df_train, 200)"
   ],
   "id": "d033f3c46a25fc69",
   "outputs": [],
   "execution_count": 13
  },
  {
   "metadata": {},
   "cell_type": "markdown",
   "source": "### Discrete allocation 5 years",
   "id": "b842280882244f71"
  },
  {
   "metadata": {
    "ExecuteTime": {
     "end_time": "2025-05-31T19:26:39.504659Z",
     "start_time": "2025-05-31T19:26:39.493610Z"
    }
   },
   "cell_type": "code",
   "source": [
    "importlib.reload(mpt_utils)\n",
    "\n",
    "df_5y = df_train.tail(variables.FIVE_YEARS_NR * 12)\n",
    "df_5y = df_5y - 1\n",
    "df_5y.head(3)"
   ],
   "id": "aaebab6b4e6e98e9",
   "outputs": [
    {
     "data": {
      "text/plain": [
       "                 RS1.L      KE    TEG.DE     LEG.DE        SCS        HNI  \\\n",
       "Date                                                                        \n",
       "2014-10-01  172.301132  12.554  5.114511  40.019081  11.353690  33.097343   \n",
       "2014-11-01  157.682632  14.084  4.951362  43.469009  11.296547  33.309315   \n",
       "2014-12-01  161.848511  11.020  5.303214  45.190247  11.598351  36.516300   \n",
       "\n",
       "                  AVT      ACCO     VNA.DE       7912.T  ...     DEQ.DE  \\\n",
       "Date                                                     ...              \n",
       "2014-10-01  34.234055  5.293108   9.878404  1725.330078  ...  18.287809   \n",
       "2014-11-01  34.673962  5.698378  11.210503  1663.105591  ...  18.260771   \n",
       "2014-12-01  34.175232  5.889542  12.257318  1738.093872  ...  18.574438   \n",
       "\n",
       "              KIDS  HALO       MATW       9842.T   KVHI      MOON.L   NEO  \\\n",
       "Date                                                                        \n",
       "2014-10-01  16.758  8.62  36.472355  1013.372803  11.92  182.240001  4.65   \n",
       "2014-11-01  16.758  7.78  36.464222  1006.377136  11.22  182.240001  3.24   \n",
       "2014-12-01  16.758  8.65  38.688763   961.522583  11.65  182.240001  3.17   \n",
       "\n",
       "                6055.T        UNP  \n",
       "Date                               \n",
       "2014-10-01  232.087448  92.303566  \n",
       "2014-11-01  271.802368  92.559959  \n",
       "2014-12-01  267.300659  94.839462  \n",
       "\n",
       "[3 rows x 1653 columns]"
      ],
      "text/html": [
       "<div>\n",
       "<style scoped>\n",
       "    .dataframe tbody tr th:only-of-type {\n",
       "        vertical-align: middle;\n",
       "    }\n",
       "\n",
       "    .dataframe tbody tr th {\n",
       "        vertical-align: top;\n",
       "    }\n",
       "\n",
       "    .dataframe thead th {\n",
       "        text-align: right;\n",
       "    }\n",
       "</style>\n",
       "<table border=\"1\" class=\"dataframe\">\n",
       "  <thead>\n",
       "    <tr style=\"text-align: right;\">\n",
       "      <th></th>\n",
       "      <th>RS1.L</th>\n",
       "      <th>KE</th>\n",
       "      <th>TEG.DE</th>\n",
       "      <th>LEG.DE</th>\n",
       "      <th>SCS</th>\n",
       "      <th>HNI</th>\n",
       "      <th>AVT</th>\n",
       "      <th>ACCO</th>\n",
       "      <th>VNA.DE</th>\n",
       "      <th>7912.T</th>\n",
       "      <th>...</th>\n",
       "      <th>DEQ.DE</th>\n",
       "      <th>KIDS</th>\n",
       "      <th>HALO</th>\n",
       "      <th>MATW</th>\n",
       "      <th>9842.T</th>\n",
       "      <th>KVHI</th>\n",
       "      <th>MOON.L</th>\n",
       "      <th>NEO</th>\n",
       "      <th>6055.T</th>\n",
       "      <th>UNP</th>\n",
       "    </tr>\n",
       "    <tr>\n",
       "      <th>Date</th>\n",
       "      <th></th>\n",
       "      <th></th>\n",
       "      <th></th>\n",
       "      <th></th>\n",
       "      <th></th>\n",
       "      <th></th>\n",
       "      <th></th>\n",
       "      <th></th>\n",
       "      <th></th>\n",
       "      <th></th>\n",
       "      <th></th>\n",
       "      <th></th>\n",
       "      <th></th>\n",
       "      <th></th>\n",
       "      <th></th>\n",
       "      <th></th>\n",
       "      <th></th>\n",
       "      <th></th>\n",
       "      <th></th>\n",
       "      <th></th>\n",
       "      <th></th>\n",
       "    </tr>\n",
       "  </thead>\n",
       "  <tbody>\n",
       "    <tr>\n",
       "      <th>2014-10-01</th>\n",
       "      <td>172.301132</td>\n",
       "      <td>12.554</td>\n",
       "      <td>5.114511</td>\n",
       "      <td>40.019081</td>\n",
       "      <td>11.353690</td>\n",
       "      <td>33.097343</td>\n",
       "      <td>34.234055</td>\n",
       "      <td>5.293108</td>\n",
       "      <td>9.878404</td>\n",
       "      <td>1725.330078</td>\n",
       "      <td>...</td>\n",
       "      <td>18.287809</td>\n",
       "      <td>16.758</td>\n",
       "      <td>8.62</td>\n",
       "      <td>36.472355</td>\n",
       "      <td>1013.372803</td>\n",
       "      <td>11.92</td>\n",
       "      <td>182.240001</td>\n",
       "      <td>4.65</td>\n",
       "      <td>232.087448</td>\n",
       "      <td>92.303566</td>\n",
       "    </tr>\n",
       "    <tr>\n",
       "      <th>2014-11-01</th>\n",
       "      <td>157.682632</td>\n",
       "      <td>14.084</td>\n",
       "      <td>4.951362</td>\n",
       "      <td>43.469009</td>\n",
       "      <td>11.296547</td>\n",
       "      <td>33.309315</td>\n",
       "      <td>34.673962</td>\n",
       "      <td>5.698378</td>\n",
       "      <td>11.210503</td>\n",
       "      <td>1663.105591</td>\n",
       "      <td>...</td>\n",
       "      <td>18.260771</td>\n",
       "      <td>16.758</td>\n",
       "      <td>7.78</td>\n",
       "      <td>36.464222</td>\n",
       "      <td>1006.377136</td>\n",
       "      <td>11.22</td>\n",
       "      <td>182.240001</td>\n",
       "      <td>3.24</td>\n",
       "      <td>271.802368</td>\n",
       "      <td>92.559959</td>\n",
       "    </tr>\n",
       "    <tr>\n",
       "      <th>2014-12-01</th>\n",
       "      <td>161.848511</td>\n",
       "      <td>11.020</td>\n",
       "      <td>5.303214</td>\n",
       "      <td>45.190247</td>\n",
       "      <td>11.598351</td>\n",
       "      <td>36.516300</td>\n",
       "      <td>34.175232</td>\n",
       "      <td>5.889542</td>\n",
       "      <td>12.257318</td>\n",
       "      <td>1738.093872</td>\n",
       "      <td>...</td>\n",
       "      <td>18.574438</td>\n",
       "      <td>16.758</td>\n",
       "      <td>8.65</td>\n",
       "      <td>38.688763</td>\n",
       "      <td>961.522583</td>\n",
       "      <td>11.65</td>\n",
       "      <td>182.240001</td>\n",
       "      <td>3.17</td>\n",
       "      <td>267.300659</td>\n",
       "      <td>94.839462</td>\n",
       "    </tr>\n",
       "  </tbody>\n",
       "</table>\n",
       "<p>3 rows × 1653 columns</p>\n",
       "</div>"
      ]
     },
     "execution_count": 14,
     "metadata": {},
     "output_type": "execute_result"
    }
   ],
   "execution_count": 14
  },
  {
   "metadata": {
    "ExecuteTime": {
     "end_time": "2025-05-31T19:26:43.369429Z",
     "start_time": "2025-05-31T19:26:39.639101Z"
    }
   },
   "cell_type": "code",
   "source": [
    "importlib.reload(mpt_utils)\n",
    "#\n",
    "weights_5y, mu_5y, S_5y, weights_all_5y = mpt_utils.benchmark_portfolio_and_plot(df_5y)"
   ],
   "id": "2f1ae1f3d3fb3445",
   "outputs": [
    {
     "name": "stderr",
     "output_type": "stream",
     "text": [
      "/Users/herbishtini/anaconda3/envs/portfolio_optimisation/lib/python3.11/site-packages/pypfopt/expected_returns.py:36: UserWarning:\n",
      "\n",
      "Some returns are infinite. Please check your price data.\n",
      "\n",
      "/Users/herbishtini/anaconda3/envs/portfolio_optimisation/lib/python3.11/site-packages/numpy/core/_methods.py:53: RuntimeWarning:\n",
      "\n",
      "invalid value encountered in reduce\n",
      "\n"
     ]
    },
    {
     "name": "stdout",
     "output_type": "stream",
     "text": [
      "Expected annual return: 34.0%\n",
      "Annual volatility: 4.2%\n",
      "Sharpe Ratio: 7.54\n",
      "-- Allocation --\n",
      "{'GAW.L': 1, '7575.T': 1, 'SLP': 5, 'CENT': 8, 'SRT3.DE': 1, 'TPE.DE': 17, '4816.T': 1, 'TAL': 5, 'ADUS': 2, 'PAR': 6, 'MKTX': 1, 'AOF.DE': 4, 'BURL': 1, 'NSSC': 11, 'VAR1.DE': 1, 'MRL.L': 1, 'NSP': 1, 'ITI': 20, 'FTDR': 1, 'KIDS': 2, 'ADC': 1, 'ELS': 1, 'FLGT': 8, 'SRE.L': 1, 'WTRG': 1, 'AVGO': 2, 'AG1.DE': 4, 'BVB.DE': 7, 'AUDC': 3, 'NXU.DE': 1, 'MPX': 5, 'EBOX.L': -204, 'ROL': 2, 'COUR': 2, 'APLD': 10, 'EBF': 2, 'ECV.DE': 5, 'ONTF': 2, 'FRPH': 1, 'HFFG': 1, 'MITK': 1}\n",
      "-- Weights Percentage --\n",
      "{'NSP': 0.0288, 'FTDR': 0.0217, 'GAW.L': 0.0474, 'MKTX': 0.0361, 'ELS': 0.0203, 'MRL.L': 0.0308, 'CENT': 0.0452, 'ITI': 0.0239, 'ADC': 0.0205, 'VAR1.DE': 0.0312, 'NSSC': 0.0315, 'BURL': 0.0332, 'TPE.DE': 0.0444, 'SRT3.DE': 0.0449, 'PAR': 0.0376, 'AOF.DE': 0.0349, 'SLP': 0.0459, '4816.T': 0.0413, '7575.T': 0.0461, 'TAL': 0.0413, 'ADUS': 0.0396, 'KIDS': 0.021, 'Other(19)': 0.2324}\n"
     ]
    },
    {
     "data": {
      "application/vnd.plotly.v1+json": {
       "data": [
        {
         "hole": 0.3,
         "insidetextorientation": "radial",
         "labels": [
          "NSP",
          "FTDR",
          "GAW.L",
          "MKTX",
          "ELS",
          "MRL.L",
          "CENT",
          "ITI",
          "ADC",
          "VAR1.DE",
          "NSSC",
          "BURL",
          "TPE.DE",
          "SRT3.DE",
          "PAR",
          "AOF.DE",
          "SLP",
          "4816.T",
          "7575.T",
          "TAL",
          "ADUS",
          "KIDS",
          "Other(19)"
         ],
         "textinfo": "label+percent",
         "textposition": "inside",
         "values": [
          0.0118,
          0.0089,
          0.0194,
          0.0148,
          0.0083,
          0.0126,
          0.0185,
          0.0098,
          0.0084,
          0.0128,
          0.0129,
          0.0136,
          0.0182,
          0.0184,
          0.0154,
          0.0143,
          0.0188,
          0.0169,
          0.0189,
          0.0169,
          0.0162,
          0.0086,
          0.0952
         ],
         "type": "pie"
        }
       ],
       "layout": {
        "template": {
         "data": {
          "histogram2dcontour": [
           {
            "type": "histogram2dcontour",
            "colorbar": {
             "outlinewidth": 0,
             "ticks": ""
            },
            "colorscale": [
             [
              0.0,
              "#0d0887"
             ],
             [
              0.1111111111111111,
              "#46039f"
             ],
             [
              0.2222222222222222,
              "#7201a8"
             ],
             [
              0.3333333333333333,
              "#9c179e"
             ],
             [
              0.4444444444444444,
              "#bd3786"
             ],
             [
              0.5555555555555556,
              "#d8576b"
             ],
             [
              0.6666666666666666,
              "#ed7953"
             ],
             [
              0.7777777777777778,
              "#fb9f3a"
             ],
             [
              0.8888888888888888,
              "#fdca26"
             ],
             [
              1.0,
              "#f0f921"
             ]
            ]
           }
          ],
          "choropleth": [
           {
            "type": "choropleth",
            "colorbar": {
             "outlinewidth": 0,
             "ticks": ""
            }
           }
          ],
          "histogram2d": [
           {
            "type": "histogram2d",
            "colorbar": {
             "outlinewidth": 0,
             "ticks": ""
            },
            "colorscale": [
             [
              0.0,
              "#0d0887"
             ],
             [
              0.1111111111111111,
              "#46039f"
             ],
             [
              0.2222222222222222,
              "#7201a8"
             ],
             [
              0.3333333333333333,
              "#9c179e"
             ],
             [
              0.4444444444444444,
              "#bd3786"
             ],
             [
              0.5555555555555556,
              "#d8576b"
             ],
             [
              0.6666666666666666,
              "#ed7953"
             ],
             [
              0.7777777777777778,
              "#fb9f3a"
             ],
             [
              0.8888888888888888,
              "#fdca26"
             ],
             [
              1.0,
              "#f0f921"
             ]
            ]
           }
          ],
          "heatmap": [
           {
            "type": "heatmap",
            "colorbar": {
             "outlinewidth": 0,
             "ticks": ""
            },
            "colorscale": [
             [
              0.0,
              "#0d0887"
             ],
             [
              0.1111111111111111,
              "#46039f"
             ],
             [
              0.2222222222222222,
              "#7201a8"
             ],
             [
              0.3333333333333333,
              "#9c179e"
             ],
             [
              0.4444444444444444,
              "#bd3786"
             ],
             [
              0.5555555555555556,
              "#d8576b"
             ],
             [
              0.6666666666666666,
              "#ed7953"
             ],
             [
              0.7777777777777778,
              "#fb9f3a"
             ],
             [
              0.8888888888888888,
              "#fdca26"
             ],
             [
              1.0,
              "#f0f921"
             ]
            ]
           }
          ],
          "heatmapgl": [
           {
            "type": "heatmapgl",
            "colorbar": {
             "outlinewidth": 0,
             "ticks": ""
            },
            "colorscale": [
             [
              0.0,
              "#0d0887"
             ],
             [
              0.1111111111111111,
              "#46039f"
             ],
             [
              0.2222222222222222,
              "#7201a8"
             ],
             [
              0.3333333333333333,
              "#9c179e"
             ],
             [
              0.4444444444444444,
              "#bd3786"
             ],
             [
              0.5555555555555556,
              "#d8576b"
             ],
             [
              0.6666666666666666,
              "#ed7953"
             ],
             [
              0.7777777777777778,
              "#fb9f3a"
             ],
             [
              0.8888888888888888,
              "#fdca26"
             ],
             [
              1.0,
              "#f0f921"
             ]
            ]
           }
          ],
          "contourcarpet": [
           {
            "type": "contourcarpet",
            "colorbar": {
             "outlinewidth": 0,
             "ticks": ""
            }
           }
          ],
          "contour": [
           {
            "type": "contour",
            "colorbar": {
             "outlinewidth": 0,
             "ticks": ""
            },
            "colorscale": [
             [
              0.0,
              "#0d0887"
             ],
             [
              0.1111111111111111,
              "#46039f"
             ],
             [
              0.2222222222222222,
              "#7201a8"
             ],
             [
              0.3333333333333333,
              "#9c179e"
             ],
             [
              0.4444444444444444,
              "#bd3786"
             ],
             [
              0.5555555555555556,
              "#d8576b"
             ],
             [
              0.6666666666666666,
              "#ed7953"
             ],
             [
              0.7777777777777778,
              "#fb9f3a"
             ],
             [
              0.8888888888888888,
              "#fdca26"
             ],
             [
              1.0,
              "#f0f921"
             ]
            ]
           }
          ],
          "surface": [
           {
            "type": "surface",
            "colorbar": {
             "outlinewidth": 0,
             "ticks": ""
            },
            "colorscale": [
             [
              0.0,
              "#0d0887"
             ],
             [
              0.1111111111111111,
              "#46039f"
             ],
             [
              0.2222222222222222,
              "#7201a8"
             ],
             [
              0.3333333333333333,
              "#9c179e"
             ],
             [
              0.4444444444444444,
              "#bd3786"
             ],
             [
              0.5555555555555556,
              "#d8576b"
             ],
             [
              0.6666666666666666,
              "#ed7953"
             ],
             [
              0.7777777777777778,
              "#fb9f3a"
             ],
             [
              0.8888888888888888,
              "#fdca26"
             ],
             [
              1.0,
              "#f0f921"
             ]
            ]
           }
          ],
          "mesh3d": [
           {
            "type": "mesh3d",
            "colorbar": {
             "outlinewidth": 0,
             "ticks": ""
            }
           }
          ],
          "scatter": [
           {
            "fillpattern": {
             "fillmode": "overlay",
             "size": 10,
             "solidity": 0.2
            },
            "type": "scatter"
           }
          ],
          "parcoords": [
           {
            "type": "parcoords",
            "line": {
             "colorbar": {
              "outlinewidth": 0,
              "ticks": ""
             }
            }
           }
          ],
          "scatterpolargl": [
           {
            "type": "scatterpolargl",
            "marker": {
             "colorbar": {
              "outlinewidth": 0,
              "ticks": ""
             }
            }
           }
          ],
          "bar": [
           {
            "error_x": {
             "color": "#2a3f5f"
            },
            "error_y": {
             "color": "#2a3f5f"
            },
            "marker": {
             "line": {
              "color": "#E5ECF6",
              "width": 0.5
             },
             "pattern": {
              "fillmode": "overlay",
              "size": 10,
              "solidity": 0.2
             }
            },
            "type": "bar"
           }
          ],
          "scattergeo": [
           {
            "type": "scattergeo",
            "marker": {
             "colorbar": {
              "outlinewidth": 0,
              "ticks": ""
             }
            }
           }
          ],
          "scatterpolar": [
           {
            "type": "scatterpolar",
            "marker": {
             "colorbar": {
              "outlinewidth": 0,
              "ticks": ""
             }
            }
           }
          ],
          "histogram": [
           {
            "marker": {
             "pattern": {
              "fillmode": "overlay",
              "size": 10,
              "solidity": 0.2
             }
            },
            "type": "histogram"
           }
          ],
          "scattergl": [
           {
            "type": "scattergl",
            "marker": {
             "colorbar": {
              "outlinewidth": 0,
              "ticks": ""
             }
            }
           }
          ],
          "scatter3d": [
           {
            "type": "scatter3d",
            "line": {
             "colorbar": {
              "outlinewidth": 0,
              "ticks": ""
             }
            },
            "marker": {
             "colorbar": {
              "outlinewidth": 0,
              "ticks": ""
             }
            }
           }
          ],
          "scattermapbox": [
           {
            "type": "scattermapbox",
            "marker": {
             "colorbar": {
              "outlinewidth": 0,
              "ticks": ""
             }
            }
           }
          ],
          "scatterternary": [
           {
            "type": "scatterternary",
            "marker": {
             "colorbar": {
              "outlinewidth": 0,
              "ticks": ""
             }
            }
           }
          ],
          "scattercarpet": [
           {
            "type": "scattercarpet",
            "marker": {
             "colorbar": {
              "outlinewidth": 0,
              "ticks": ""
             }
            }
           }
          ],
          "carpet": [
           {
            "aaxis": {
             "endlinecolor": "#2a3f5f",
             "gridcolor": "white",
             "linecolor": "white",
             "minorgridcolor": "white",
             "startlinecolor": "#2a3f5f"
            },
            "baxis": {
             "endlinecolor": "#2a3f5f",
             "gridcolor": "white",
             "linecolor": "white",
             "minorgridcolor": "white",
             "startlinecolor": "#2a3f5f"
            },
            "type": "carpet"
           }
          ],
          "table": [
           {
            "cells": {
             "fill": {
              "color": "#EBF0F8"
             },
             "line": {
              "color": "white"
             }
            },
            "header": {
             "fill": {
              "color": "#C8D4E3"
             },
             "line": {
              "color": "white"
             }
            },
            "type": "table"
           }
          ],
          "barpolar": [
           {
            "marker": {
             "line": {
              "color": "#E5ECF6",
              "width": 0.5
             },
             "pattern": {
              "fillmode": "overlay",
              "size": 10,
              "solidity": 0.2
             }
            },
            "type": "barpolar"
           }
          ],
          "pie": [
           {
            "automargin": true,
            "type": "pie"
           }
          ]
         },
         "layout": {
          "autotypenumbers": "strict",
          "colorway": [
           "#636efa",
           "#EF553B",
           "#00cc96",
           "#ab63fa",
           "#FFA15A",
           "#19d3f3",
           "#FF6692",
           "#B6E880",
           "#FF97FF",
           "#FECB52"
          ],
          "font": {
           "color": "#2a3f5f"
          },
          "hovermode": "closest",
          "hoverlabel": {
           "align": "left"
          },
          "paper_bgcolor": "white",
          "plot_bgcolor": "#E5ECF6",
          "polar": {
           "bgcolor": "#E5ECF6",
           "angularaxis": {
            "gridcolor": "white",
            "linecolor": "white",
            "ticks": ""
           },
           "radialaxis": {
            "gridcolor": "white",
            "linecolor": "white",
            "ticks": ""
           }
          },
          "ternary": {
           "bgcolor": "#E5ECF6",
           "aaxis": {
            "gridcolor": "white",
            "linecolor": "white",
            "ticks": ""
           },
           "baxis": {
            "gridcolor": "white",
            "linecolor": "white",
            "ticks": ""
           },
           "caxis": {
            "gridcolor": "white",
            "linecolor": "white",
            "ticks": ""
           }
          },
          "coloraxis": {
           "colorbar": {
            "outlinewidth": 0,
            "ticks": ""
           }
          },
          "colorscale": {
           "sequential": [
            [
             0.0,
             "#0d0887"
            ],
            [
             0.1111111111111111,
             "#46039f"
            ],
            [
             0.2222222222222222,
             "#7201a8"
            ],
            [
             0.3333333333333333,
             "#9c179e"
            ],
            [
             0.4444444444444444,
             "#bd3786"
            ],
            [
             0.5555555555555556,
             "#d8576b"
            ],
            [
             0.6666666666666666,
             "#ed7953"
            ],
            [
             0.7777777777777778,
             "#fb9f3a"
            ],
            [
             0.8888888888888888,
             "#fdca26"
            ],
            [
             1.0,
             "#f0f921"
            ]
           ],
           "sequentialminus": [
            [
             0.0,
             "#0d0887"
            ],
            [
             0.1111111111111111,
             "#46039f"
            ],
            [
             0.2222222222222222,
             "#7201a8"
            ],
            [
             0.3333333333333333,
             "#9c179e"
            ],
            [
             0.4444444444444444,
             "#bd3786"
            ],
            [
             0.5555555555555556,
             "#d8576b"
            ],
            [
             0.6666666666666666,
             "#ed7953"
            ],
            [
             0.7777777777777778,
             "#fb9f3a"
            ],
            [
             0.8888888888888888,
             "#fdca26"
            ],
            [
             1.0,
             "#f0f921"
            ]
           ],
           "diverging": [
            [
             0,
             "#8e0152"
            ],
            [
             0.1,
             "#c51b7d"
            ],
            [
             0.2,
             "#de77ae"
            ],
            [
             0.3,
             "#f1b6da"
            ],
            [
             0.4,
             "#fde0ef"
            ],
            [
             0.5,
             "#f7f7f7"
            ],
            [
             0.6,
             "#e6f5d0"
            ],
            [
             0.7,
             "#b8e186"
            ],
            [
             0.8,
             "#7fbc41"
            ],
            [
             0.9,
             "#4d9221"
            ],
            [
             1,
             "#276419"
            ]
           ]
          },
          "xaxis": {
           "gridcolor": "white",
           "linecolor": "white",
           "ticks": "",
           "title": {
            "standoff": 15
           },
           "zerolinecolor": "white",
           "automargin": true,
           "zerolinewidth": 2
          },
          "yaxis": {
           "gridcolor": "white",
           "linecolor": "white",
           "ticks": "",
           "title": {
            "standoff": 15
           },
           "zerolinecolor": "white",
           "automargin": true,
           "zerolinewidth": 2
          },
          "scene": {
           "xaxis": {
            "backgroundcolor": "#E5ECF6",
            "gridcolor": "white",
            "linecolor": "white",
            "showbackground": true,
            "ticks": "",
            "zerolinecolor": "white",
            "gridwidth": 2
           },
           "yaxis": {
            "backgroundcolor": "#E5ECF6",
            "gridcolor": "white",
            "linecolor": "white",
            "showbackground": true,
            "ticks": "",
            "zerolinecolor": "white",
            "gridwidth": 2
           },
           "zaxis": {
            "backgroundcolor": "#E5ECF6",
            "gridcolor": "white",
            "linecolor": "white",
            "showbackground": true,
            "ticks": "",
            "zerolinecolor": "white",
            "gridwidth": 2
           }
          },
          "shapedefaults": {
           "line": {
            "color": "#2a3f5f"
           }
          },
          "annotationdefaults": {
           "arrowcolor": "#2a3f5f",
           "arrowhead": 0,
           "arrowwidth": 1
          },
          "geo": {
           "bgcolor": "white",
           "landcolor": "#E5ECF6",
           "subunitcolor": "white",
           "showland": true,
           "showlakes": true,
           "lakecolor": "white"
          },
          "title": {
           "x": 0.05
          },
          "mapbox": {
           "style": "light"
          }
         }
        },
        "margin": {
         "l": 20,
         "r": 20,
         "t": 20,
         "b": 20
        },
        "font": {
         "color": "black"
        },
        "height": 600,
        "width": 600,
        "paper_bgcolor": "white",
        "plot_bgcolor": "white",
        "showlegend": false
       },
       "config": {
        "plotlyServerURL": "https://plot.ly"
       }
      },
      "text/html": [
       "<div>                            <div id=\"1af9278b-ae81-4b16-a629-410b412921d5\" class=\"plotly-graph-div\" style=\"height:600px; width:600px;\"></div>            <script type=\"text/javascript\">                require([\"plotly\"], function(Plotly) {                    window.PLOTLYENV=window.PLOTLYENV || {};                                    if (document.getElementById(\"1af9278b-ae81-4b16-a629-410b412921d5\")) {                    Plotly.newPlot(                        \"1af9278b-ae81-4b16-a629-410b412921d5\",                        [{\"hole\":0.3,\"insidetextorientation\":\"radial\",\"labels\":[\"NSP\",\"FTDR\",\"GAW.L\",\"MKTX\",\"ELS\",\"MRL.L\",\"CENT\",\"ITI\",\"ADC\",\"VAR1.DE\",\"NSSC\",\"BURL\",\"TPE.DE\",\"SRT3.DE\",\"PAR\",\"AOF.DE\",\"SLP\",\"4816.T\",\"7575.T\",\"TAL\",\"ADUS\",\"KIDS\",\"Other(19)\"],\"textinfo\":\"label+percent\",\"textposition\":\"inside\",\"values\":[0.0118,0.0089,0.0194,0.0148,0.0083,0.0126,0.0185,0.0098,0.0084,0.0128,0.0129,0.0136,0.0182,0.0184,0.0154,0.0143,0.0188,0.0169,0.0189,0.0169,0.0162,0.0086,0.0952],\"type\":\"pie\"}],                        {\"template\":{\"data\":{\"histogram2dcontour\":[{\"type\":\"histogram2dcontour\",\"colorbar\":{\"outlinewidth\":0,\"ticks\":\"\"},\"colorscale\":[[0.0,\"#0d0887\"],[0.1111111111111111,\"#46039f\"],[0.2222222222222222,\"#7201a8\"],[0.3333333333333333,\"#9c179e\"],[0.4444444444444444,\"#bd3786\"],[0.5555555555555556,\"#d8576b\"],[0.6666666666666666,\"#ed7953\"],[0.7777777777777778,\"#fb9f3a\"],[0.8888888888888888,\"#fdca26\"],[1.0,\"#f0f921\"]]}],\"choropleth\":[{\"type\":\"choropleth\",\"colorbar\":{\"outlinewidth\":0,\"ticks\":\"\"}}],\"histogram2d\":[{\"type\":\"histogram2d\",\"colorbar\":{\"outlinewidth\":0,\"ticks\":\"\"},\"colorscale\":[[0.0,\"#0d0887\"],[0.1111111111111111,\"#46039f\"],[0.2222222222222222,\"#7201a8\"],[0.3333333333333333,\"#9c179e\"],[0.4444444444444444,\"#bd3786\"],[0.5555555555555556,\"#d8576b\"],[0.6666666666666666,\"#ed7953\"],[0.7777777777777778,\"#fb9f3a\"],[0.8888888888888888,\"#fdca26\"],[1.0,\"#f0f921\"]]}],\"heatmap\":[{\"type\":\"heatmap\",\"colorbar\":{\"outlinewidth\":0,\"ticks\":\"\"},\"colorscale\":[[0.0,\"#0d0887\"],[0.1111111111111111,\"#46039f\"],[0.2222222222222222,\"#7201a8\"],[0.3333333333333333,\"#9c179e\"],[0.4444444444444444,\"#bd3786\"],[0.5555555555555556,\"#d8576b\"],[0.6666666666666666,\"#ed7953\"],[0.7777777777777778,\"#fb9f3a\"],[0.8888888888888888,\"#fdca26\"],[1.0,\"#f0f921\"]]}],\"heatmapgl\":[{\"type\":\"heatmapgl\",\"colorbar\":{\"outlinewidth\":0,\"ticks\":\"\"},\"colorscale\":[[0.0,\"#0d0887\"],[0.1111111111111111,\"#46039f\"],[0.2222222222222222,\"#7201a8\"],[0.3333333333333333,\"#9c179e\"],[0.4444444444444444,\"#bd3786\"],[0.5555555555555556,\"#d8576b\"],[0.6666666666666666,\"#ed7953\"],[0.7777777777777778,\"#fb9f3a\"],[0.8888888888888888,\"#fdca26\"],[1.0,\"#f0f921\"]]}],\"contourcarpet\":[{\"type\":\"contourcarpet\",\"colorbar\":{\"outlinewidth\":0,\"ticks\":\"\"}}],\"contour\":[{\"type\":\"contour\",\"colorbar\":{\"outlinewidth\":0,\"ticks\":\"\"},\"colorscale\":[[0.0,\"#0d0887\"],[0.1111111111111111,\"#46039f\"],[0.2222222222222222,\"#7201a8\"],[0.3333333333333333,\"#9c179e\"],[0.4444444444444444,\"#bd3786\"],[0.5555555555555556,\"#d8576b\"],[0.6666666666666666,\"#ed7953\"],[0.7777777777777778,\"#fb9f3a\"],[0.8888888888888888,\"#fdca26\"],[1.0,\"#f0f921\"]]}],\"surface\":[{\"type\":\"surface\",\"colorbar\":{\"outlinewidth\":0,\"ticks\":\"\"},\"colorscale\":[[0.0,\"#0d0887\"],[0.1111111111111111,\"#46039f\"],[0.2222222222222222,\"#7201a8\"],[0.3333333333333333,\"#9c179e\"],[0.4444444444444444,\"#bd3786\"],[0.5555555555555556,\"#d8576b\"],[0.6666666666666666,\"#ed7953\"],[0.7777777777777778,\"#fb9f3a\"],[0.8888888888888888,\"#fdca26\"],[1.0,\"#f0f921\"]]}],\"mesh3d\":[{\"type\":\"mesh3d\",\"colorbar\":{\"outlinewidth\":0,\"ticks\":\"\"}}],\"scatter\":[{\"fillpattern\":{\"fillmode\":\"overlay\",\"size\":10,\"solidity\":0.2},\"type\":\"scatter\"}],\"parcoords\":[{\"type\":\"parcoords\",\"line\":{\"colorbar\":{\"outlinewidth\":0,\"ticks\":\"\"}}}],\"scatterpolargl\":[{\"type\":\"scatterpolargl\",\"marker\":{\"colorbar\":{\"outlinewidth\":0,\"ticks\":\"\"}}}],\"bar\":[{\"error_x\":{\"color\":\"#2a3f5f\"},\"error_y\":{\"color\":\"#2a3f5f\"},\"marker\":{\"line\":{\"color\":\"#E5ECF6\",\"width\":0.5},\"pattern\":{\"fillmode\":\"overlay\",\"size\":10,\"solidity\":0.2}},\"type\":\"bar\"}],\"scattergeo\":[{\"type\":\"scattergeo\",\"marker\":{\"colorbar\":{\"outlinewidth\":0,\"ticks\":\"\"}}}],\"scatterpolar\":[{\"type\":\"scatterpolar\",\"marker\":{\"colorbar\":{\"outlinewidth\":0,\"ticks\":\"\"}}}],\"histogram\":[{\"marker\":{\"pattern\":{\"fillmode\":\"overlay\",\"size\":10,\"solidity\":0.2}},\"type\":\"histogram\"}],\"scattergl\":[{\"type\":\"scattergl\",\"marker\":{\"colorbar\":{\"outlinewidth\":0,\"ticks\":\"\"}}}],\"scatter3d\":[{\"type\":\"scatter3d\",\"line\":{\"colorbar\":{\"outlinewidth\":0,\"ticks\":\"\"}},\"marker\":{\"colorbar\":{\"outlinewidth\":0,\"ticks\":\"\"}}}],\"scattermapbox\":[{\"type\":\"scattermapbox\",\"marker\":{\"colorbar\":{\"outlinewidth\":0,\"ticks\":\"\"}}}],\"scatterternary\":[{\"type\":\"scatterternary\",\"marker\":{\"colorbar\":{\"outlinewidth\":0,\"ticks\":\"\"}}}],\"scattercarpet\":[{\"type\":\"scattercarpet\",\"marker\":{\"colorbar\":{\"outlinewidth\":0,\"ticks\":\"\"}}}],\"carpet\":[{\"aaxis\":{\"endlinecolor\":\"#2a3f5f\",\"gridcolor\":\"white\",\"linecolor\":\"white\",\"minorgridcolor\":\"white\",\"startlinecolor\":\"#2a3f5f\"},\"baxis\":{\"endlinecolor\":\"#2a3f5f\",\"gridcolor\":\"white\",\"linecolor\":\"white\",\"minorgridcolor\":\"white\",\"startlinecolor\":\"#2a3f5f\"},\"type\":\"carpet\"}],\"table\":[{\"cells\":{\"fill\":{\"color\":\"#EBF0F8\"},\"line\":{\"color\":\"white\"}},\"header\":{\"fill\":{\"color\":\"#C8D4E3\"},\"line\":{\"color\":\"white\"}},\"type\":\"table\"}],\"barpolar\":[{\"marker\":{\"line\":{\"color\":\"#E5ECF6\",\"width\":0.5},\"pattern\":{\"fillmode\":\"overlay\",\"size\":10,\"solidity\":0.2}},\"type\":\"barpolar\"}],\"pie\":[{\"automargin\":true,\"type\":\"pie\"}]},\"layout\":{\"autotypenumbers\":\"strict\",\"colorway\":[\"#636efa\",\"#EF553B\",\"#00cc96\",\"#ab63fa\",\"#FFA15A\",\"#19d3f3\",\"#FF6692\",\"#B6E880\",\"#FF97FF\",\"#FECB52\"],\"font\":{\"color\":\"#2a3f5f\"},\"hovermode\":\"closest\",\"hoverlabel\":{\"align\":\"left\"},\"paper_bgcolor\":\"white\",\"plot_bgcolor\":\"#E5ECF6\",\"polar\":{\"bgcolor\":\"#E5ECF6\",\"angularaxis\":{\"gridcolor\":\"white\",\"linecolor\":\"white\",\"ticks\":\"\"},\"radialaxis\":{\"gridcolor\":\"white\",\"linecolor\":\"white\",\"ticks\":\"\"}},\"ternary\":{\"bgcolor\":\"#E5ECF6\",\"aaxis\":{\"gridcolor\":\"white\",\"linecolor\":\"white\",\"ticks\":\"\"},\"baxis\":{\"gridcolor\":\"white\",\"linecolor\":\"white\",\"ticks\":\"\"},\"caxis\":{\"gridcolor\":\"white\",\"linecolor\":\"white\",\"ticks\":\"\"}},\"coloraxis\":{\"colorbar\":{\"outlinewidth\":0,\"ticks\":\"\"}},\"colorscale\":{\"sequential\":[[0.0,\"#0d0887\"],[0.1111111111111111,\"#46039f\"],[0.2222222222222222,\"#7201a8\"],[0.3333333333333333,\"#9c179e\"],[0.4444444444444444,\"#bd3786\"],[0.5555555555555556,\"#d8576b\"],[0.6666666666666666,\"#ed7953\"],[0.7777777777777778,\"#fb9f3a\"],[0.8888888888888888,\"#fdca26\"],[1.0,\"#f0f921\"]],\"sequentialminus\":[[0.0,\"#0d0887\"],[0.1111111111111111,\"#46039f\"],[0.2222222222222222,\"#7201a8\"],[0.3333333333333333,\"#9c179e\"],[0.4444444444444444,\"#bd3786\"],[0.5555555555555556,\"#d8576b\"],[0.6666666666666666,\"#ed7953\"],[0.7777777777777778,\"#fb9f3a\"],[0.8888888888888888,\"#fdca26\"],[1.0,\"#f0f921\"]],\"diverging\":[[0,\"#8e0152\"],[0.1,\"#c51b7d\"],[0.2,\"#de77ae\"],[0.3,\"#f1b6da\"],[0.4,\"#fde0ef\"],[0.5,\"#f7f7f7\"],[0.6,\"#e6f5d0\"],[0.7,\"#b8e186\"],[0.8,\"#7fbc41\"],[0.9,\"#4d9221\"],[1,\"#276419\"]]},\"xaxis\":{\"gridcolor\":\"white\",\"linecolor\":\"white\",\"ticks\":\"\",\"title\":{\"standoff\":15},\"zerolinecolor\":\"white\",\"automargin\":true,\"zerolinewidth\":2},\"yaxis\":{\"gridcolor\":\"white\",\"linecolor\":\"white\",\"ticks\":\"\",\"title\":{\"standoff\":15},\"zerolinecolor\":\"white\",\"automargin\":true,\"zerolinewidth\":2},\"scene\":{\"xaxis\":{\"backgroundcolor\":\"#E5ECF6\",\"gridcolor\":\"white\",\"linecolor\":\"white\",\"showbackground\":true,\"ticks\":\"\",\"zerolinecolor\":\"white\",\"gridwidth\":2},\"yaxis\":{\"backgroundcolor\":\"#E5ECF6\",\"gridcolor\":\"white\",\"linecolor\":\"white\",\"showbackground\":true,\"ticks\":\"\",\"zerolinecolor\":\"white\",\"gridwidth\":2},\"zaxis\":{\"backgroundcolor\":\"#E5ECF6\",\"gridcolor\":\"white\",\"linecolor\":\"white\",\"showbackground\":true,\"ticks\":\"\",\"zerolinecolor\":\"white\",\"gridwidth\":2}},\"shapedefaults\":{\"line\":{\"color\":\"#2a3f5f\"}},\"annotationdefaults\":{\"arrowcolor\":\"#2a3f5f\",\"arrowhead\":0,\"arrowwidth\":1},\"geo\":{\"bgcolor\":\"white\",\"landcolor\":\"#E5ECF6\",\"subunitcolor\":\"white\",\"showland\":true,\"showlakes\":true,\"lakecolor\":\"white\"},\"title\":{\"x\":0.05},\"mapbox\":{\"style\":\"light\"}}},\"margin\":{\"l\":20,\"r\":20,\"t\":20,\"b\":20},\"font\":{\"color\":\"black\"},\"height\":600,\"width\":600,\"paper_bgcolor\":\"white\",\"plot_bgcolor\":\"white\",\"showlegend\":false},                        {\"responsive\": true}                    ).then(function(){\n",
       "                            \n",
       "var gd = document.getElementById('1af9278b-ae81-4b16-a629-410b412921d5');\n",
       "var x = new MutationObserver(function (mutations, observer) {{\n",
       "        var display = window.getComputedStyle(gd).display;\n",
       "        if (!display || display === 'none') {{\n",
       "            console.log([gd, 'removed!']);\n",
       "            Plotly.purge(gd);\n",
       "            observer.disconnect();\n",
       "        }}\n",
       "}});\n",
       "\n",
       "// Listen for the removal of the full notebook cells\n",
       "var notebookContainer = gd.closest('#notebook-container');\n",
       "if (notebookContainer) {{\n",
       "    x.observe(notebookContainer, {childList: true});\n",
       "}}\n",
       "\n",
       "// Listen for the clearing of the current output cell\n",
       "var outputEl = gd.closest('.output');\n",
       "if (outputEl) {{\n",
       "    x.observe(outputEl, {childList: true});\n",
       "}}\n",
       "\n",
       "                        })                };                });            </script>        </div>"
      ]
     },
     "metadata": {},
     "output_type": "display_data"
    }
   ],
   "execution_count": 15
  },
  {
   "metadata": {},
   "cell_type": "markdown",
   "source": "#### Overview",
   "id": "8e04563674a5958"
  },
  {
   "metadata": {
    "ExecuteTime": {
     "end_time": "2025-05-31T19:26:43.618672Z",
     "start_time": "2025-05-31T19:26:43.604246Z"
    }
   },
   "cell_type": "code",
   "source": [
    "importlib.reload(mpt_utils)\n",
    "# Create overview\n",
    "df_view_5y = mpt_utils.generate_overview_table(weights_all_5y, mu_5y, S_5y, df_pct)\n",
    "df_view_5y"
   ],
   "id": "b972857047522189",
   "outputs": [
    {
     "data": {
      "text/plain": [
       "         Weight  Average Covariance Average Returns Return Last 12 Months  \\\n",
       "GAW.L         1        2.500000e-03           1.79%                49.03%   \n",
       "7575.T        1       -1.750000e-03          14.39%                 4.51%   \n",
       "SLP           5        8.673617e-20          18.30%                77.26%   \n",
       "CENT          8        7.500000e-04          51.78%                -5.64%   \n",
       "SRT3.DE       1        5.000000e-04          16.72%                36.06%   \n",
       "TPE.DE       17       -5.000000e-04          11.27%                -6.28%   \n",
       "4816.T        1        0.000000e+00          66.67%                33.20%   \n",
       "TAL           5        7.500000e-04          40.63%                48.59%   \n",
       "ADUS          2       -2.000000e-03          26.35%                30.00%   \n",
       "PAR           6       -2.500000e-04          46.54%                41.04%   \n",
       "MKTX          1       -7.500000e-04          33.70%                77.62%   \n",
       "AOF.DE        4        2.000000e-03          45.96%                79.41%   \n",
       "BURL          1        1.000000e-03          26.47%                13.37%   \n",
       "NSSC         11        2.500000e-04          23.24%               118.24%   \n",
       "VAR1.DE       1       -2.000000e-03          25.61%               261.53%   \n",
       "MRL.L         1        5.000000e-04          64.02%                 6.70%   \n",
       "NSP           1        0.000000e+00          61.06%                -3.93%   \n",
       "ITI          20        1.500000e-03          37.91%                26.17%   \n",
       "FTDR          1        0.000000e+00          62.74%                40.66%   \n",
       "KIDS          2        2.000000e-03          53.84%                12.04%   \n",
       "ADC           1        5.000000e-04          41.44%                42.75%   \n",
       "ELS           1        2.500000e-04           6.78%                51.63%   \n",
       "FLGT          8        5.000000e-04          42.07%               167.34%   \n",
       "SRE.L         1        5.000000e-04          11.35%                38.36%   \n",
       "WTRG          1        0.000000e+00          12.85%                42.20%   \n",
       "AVGO          2        7.500000e-04          49.06%                36.22%   \n",
       "AG1.DE        4       -2.500000e-04          41.50%               146.96%   \n",
       "BVB.DE        7       -2.000000e-03          72.60%               -10.30%   \n",
       "AUDC          3        1.000000e-03          51.78%                75.31%   \n",
       "NXU.DE        1        1.500000e-03          16.90%                33.22%   \n",
       "MPX           5       -1.000000e-03          14.90%               -31.47%   \n",
       "EBOX.L     -204       -1.750000e-03          33.56%                -3.31%   \n",
       "ROL           2        5.000000e-04          23.38%                -4.14%   \n",
       "COUR          2        2.500000e-03          38.08%                69.29%   \n",
       "APLD         10        7.500000e-04          32.92%                -6.98%   \n",
       "EBF           2        1.500000e-03          23.57%                 5.85%   \n",
       "ECV.DE        5        5.000000e-04           3.03%                55.18%   \n",
       "ONTF          2        1.750000e-03          10.94%                91.00%   \n",
       "FRPH          1        1.000000e-03          38.93%                 8.20%   \n",
       "HFFG          1        2.500000e-03          29.28%                52.69%   \n",
       "MITK          1       -1.000000e-03          15.66%                 4.09%   \n",
       "\n",
       "        Return (Actual) Next 12 Months  \n",
       "GAW.L                          123.19%  \n",
       "7575.T                         -17.45%  \n",
       "SLP                            118.41%  \n",
       "CENT                            36.67%  \n",
       "SRT3.DE                        109.75%  \n",
       "TPE.DE                           3.02%  \n",
       "4816.T                          39.47%  \n",
       "TAL                            120.88%  \n",
       "ADUS                            19.98%  \n",
       "PAR                             70.88%  \n",
       "MKTX                            49.93%  \n",
       "AOF.DE                         115.37%  \n",
       "BURL                             1.41%  \n",
       "NSSC                            -8.54%  \n",
       "VAR1.DE                         32.91%  \n",
       "MRL.L                           21.40%  \n",
       "NSP                            -32.01%  \n",
       "ITI                            -29.74%  \n",
       "FTDR                           -19.44%  \n",
       "KIDS                            28.27%  \n",
       "ADC                             -9.37%  \n",
       "ELS                             -6.94%  \n",
       "FLGT                           289.41%  \n",
       "SRE.L                            0.25%  \n",
       "WTRG                            -7.08%  \n",
       "AVGO                            38.31%  \n",
       "AG1.DE                         -44.88%  \n",
       "BVB.DE                         -43.42%  \n",
       "AUDC                            69.04%  \n",
       "NXU.DE                          46.06%  \n",
       "MPX                             16.83%  \n",
       "EBOX.L                          -2.38%  \n",
       "ROL                             62.59%  \n",
       "COUR                           -49.62%  \n",
       "APLD                             3.37%  \n",
       "EBF                            -10.73%  \n",
       "ECV.DE                         100.63%  \n",
       "ONTF                           -41.85%  \n",
       "FRPH                           -13.42%  \n",
       "HFFG                           -61.30%  \n",
       "MITK                            30.91%  "
      ],
      "text/html": [
       "<div>\n",
       "<style scoped>\n",
       "    .dataframe tbody tr th:only-of-type {\n",
       "        vertical-align: middle;\n",
       "    }\n",
       "\n",
       "    .dataframe tbody tr th {\n",
       "        vertical-align: top;\n",
       "    }\n",
       "\n",
       "    .dataframe thead th {\n",
       "        text-align: right;\n",
       "    }\n",
       "</style>\n",
       "<table border=\"1\" class=\"dataframe\">\n",
       "  <thead>\n",
       "    <tr style=\"text-align: right;\">\n",
       "      <th></th>\n",
       "      <th>Weight</th>\n",
       "      <th>Average Covariance</th>\n",
       "      <th>Average Returns</th>\n",
       "      <th>Return Last 12 Months</th>\n",
       "      <th>Return (Actual) Next 12 Months</th>\n",
       "    </tr>\n",
       "  </thead>\n",
       "  <tbody>\n",
       "    <tr>\n",
       "      <th>GAW.L</th>\n",
       "      <td>1</td>\n",
       "      <td>2.500000e-03</td>\n",
       "      <td>1.79%</td>\n",
       "      <td>49.03%</td>\n",
       "      <td>123.19%</td>\n",
       "    </tr>\n",
       "    <tr>\n",
       "      <th>7575.T</th>\n",
       "      <td>1</td>\n",
       "      <td>-1.750000e-03</td>\n",
       "      <td>14.39%</td>\n",
       "      <td>4.51%</td>\n",
       "      <td>-17.45%</td>\n",
       "    </tr>\n",
       "    <tr>\n",
       "      <th>SLP</th>\n",
       "      <td>5</td>\n",
       "      <td>8.673617e-20</td>\n",
       "      <td>18.30%</td>\n",
       "      <td>77.26%</td>\n",
       "      <td>118.41%</td>\n",
       "    </tr>\n",
       "    <tr>\n",
       "      <th>CENT</th>\n",
       "      <td>8</td>\n",
       "      <td>7.500000e-04</td>\n",
       "      <td>51.78%</td>\n",
       "      <td>-5.64%</td>\n",
       "      <td>36.67%</td>\n",
       "    </tr>\n",
       "    <tr>\n",
       "      <th>SRT3.DE</th>\n",
       "      <td>1</td>\n",
       "      <td>5.000000e-04</td>\n",
       "      <td>16.72%</td>\n",
       "      <td>36.06%</td>\n",
       "      <td>109.75%</td>\n",
       "    </tr>\n",
       "    <tr>\n",
       "      <th>TPE.DE</th>\n",
       "      <td>17</td>\n",
       "      <td>-5.000000e-04</td>\n",
       "      <td>11.27%</td>\n",
       "      <td>-6.28%</td>\n",
       "      <td>3.02%</td>\n",
       "    </tr>\n",
       "    <tr>\n",
       "      <th>4816.T</th>\n",
       "      <td>1</td>\n",
       "      <td>0.000000e+00</td>\n",
       "      <td>66.67%</td>\n",
       "      <td>33.20%</td>\n",
       "      <td>39.47%</td>\n",
       "    </tr>\n",
       "    <tr>\n",
       "      <th>TAL</th>\n",
       "      <td>5</td>\n",
       "      <td>7.500000e-04</td>\n",
       "      <td>40.63%</td>\n",
       "      <td>48.59%</td>\n",
       "      <td>120.88%</td>\n",
       "    </tr>\n",
       "    <tr>\n",
       "      <th>ADUS</th>\n",
       "      <td>2</td>\n",
       "      <td>-2.000000e-03</td>\n",
       "      <td>26.35%</td>\n",
       "      <td>30.00%</td>\n",
       "      <td>19.98%</td>\n",
       "    </tr>\n",
       "    <tr>\n",
       "      <th>PAR</th>\n",
       "      <td>6</td>\n",
       "      <td>-2.500000e-04</td>\n",
       "      <td>46.54%</td>\n",
       "      <td>41.04%</td>\n",
       "      <td>70.88%</td>\n",
       "    </tr>\n",
       "    <tr>\n",
       "      <th>MKTX</th>\n",
       "      <td>1</td>\n",
       "      <td>-7.500000e-04</td>\n",
       "      <td>33.70%</td>\n",
       "      <td>77.62%</td>\n",
       "      <td>49.93%</td>\n",
       "    </tr>\n",
       "    <tr>\n",
       "      <th>AOF.DE</th>\n",
       "      <td>4</td>\n",
       "      <td>2.000000e-03</td>\n",
       "      <td>45.96%</td>\n",
       "      <td>79.41%</td>\n",
       "      <td>115.37%</td>\n",
       "    </tr>\n",
       "    <tr>\n",
       "      <th>BURL</th>\n",
       "      <td>1</td>\n",
       "      <td>1.000000e-03</td>\n",
       "      <td>26.47%</td>\n",
       "      <td>13.37%</td>\n",
       "      <td>1.41%</td>\n",
       "    </tr>\n",
       "    <tr>\n",
       "      <th>NSSC</th>\n",
       "      <td>11</td>\n",
       "      <td>2.500000e-04</td>\n",
       "      <td>23.24%</td>\n",
       "      <td>118.24%</td>\n",
       "      <td>-8.54%</td>\n",
       "    </tr>\n",
       "    <tr>\n",
       "      <th>VAR1.DE</th>\n",
       "      <td>1</td>\n",
       "      <td>-2.000000e-03</td>\n",
       "      <td>25.61%</td>\n",
       "      <td>261.53%</td>\n",
       "      <td>32.91%</td>\n",
       "    </tr>\n",
       "    <tr>\n",
       "      <th>MRL.L</th>\n",
       "      <td>1</td>\n",
       "      <td>5.000000e-04</td>\n",
       "      <td>64.02%</td>\n",
       "      <td>6.70%</td>\n",
       "      <td>21.40%</td>\n",
       "    </tr>\n",
       "    <tr>\n",
       "      <th>NSP</th>\n",
       "      <td>1</td>\n",
       "      <td>0.000000e+00</td>\n",
       "      <td>61.06%</td>\n",
       "      <td>-3.93%</td>\n",
       "      <td>-32.01%</td>\n",
       "    </tr>\n",
       "    <tr>\n",
       "      <th>ITI</th>\n",
       "      <td>20</td>\n",
       "      <td>1.500000e-03</td>\n",
       "      <td>37.91%</td>\n",
       "      <td>26.17%</td>\n",
       "      <td>-29.74%</td>\n",
       "    </tr>\n",
       "    <tr>\n",
       "      <th>FTDR</th>\n",
       "      <td>1</td>\n",
       "      <td>0.000000e+00</td>\n",
       "      <td>62.74%</td>\n",
       "      <td>40.66%</td>\n",
       "      <td>-19.44%</td>\n",
       "    </tr>\n",
       "    <tr>\n",
       "      <th>KIDS</th>\n",
       "      <td>2</td>\n",
       "      <td>2.000000e-03</td>\n",
       "      <td>53.84%</td>\n",
       "      <td>12.04%</td>\n",
       "      <td>28.27%</td>\n",
       "    </tr>\n",
       "    <tr>\n",
       "      <th>ADC</th>\n",
       "      <td>1</td>\n",
       "      <td>5.000000e-04</td>\n",
       "      <td>41.44%</td>\n",
       "      <td>42.75%</td>\n",
       "      <td>-9.37%</td>\n",
       "    </tr>\n",
       "    <tr>\n",
       "      <th>ELS</th>\n",
       "      <td>1</td>\n",
       "      <td>2.500000e-04</td>\n",
       "      <td>6.78%</td>\n",
       "      <td>51.63%</td>\n",
       "      <td>-6.94%</td>\n",
       "    </tr>\n",
       "    <tr>\n",
       "      <th>FLGT</th>\n",
       "      <td>8</td>\n",
       "      <td>5.000000e-04</td>\n",
       "      <td>42.07%</td>\n",
       "      <td>167.34%</td>\n",
       "      <td>289.41%</td>\n",
       "    </tr>\n",
       "    <tr>\n",
       "      <th>SRE.L</th>\n",
       "      <td>1</td>\n",
       "      <td>5.000000e-04</td>\n",
       "      <td>11.35%</td>\n",
       "      <td>38.36%</td>\n",
       "      <td>0.25%</td>\n",
       "    </tr>\n",
       "    <tr>\n",
       "      <th>WTRG</th>\n",
       "      <td>1</td>\n",
       "      <td>0.000000e+00</td>\n",
       "      <td>12.85%</td>\n",
       "      <td>42.20%</td>\n",
       "      <td>-7.08%</td>\n",
       "    </tr>\n",
       "    <tr>\n",
       "      <th>AVGO</th>\n",
       "      <td>2</td>\n",
       "      <td>7.500000e-04</td>\n",
       "      <td>49.06%</td>\n",
       "      <td>36.22%</td>\n",
       "      <td>38.31%</td>\n",
       "    </tr>\n",
       "    <tr>\n",
       "      <th>AG1.DE</th>\n",
       "      <td>4</td>\n",
       "      <td>-2.500000e-04</td>\n",
       "      <td>41.50%</td>\n",
       "      <td>146.96%</td>\n",
       "      <td>-44.88%</td>\n",
       "    </tr>\n",
       "    <tr>\n",
       "      <th>BVB.DE</th>\n",
       "      <td>7</td>\n",
       "      <td>-2.000000e-03</td>\n",
       "      <td>72.60%</td>\n",
       "      <td>-10.30%</td>\n",
       "      <td>-43.42%</td>\n",
       "    </tr>\n",
       "    <tr>\n",
       "      <th>AUDC</th>\n",
       "      <td>3</td>\n",
       "      <td>1.000000e-03</td>\n",
       "      <td>51.78%</td>\n",
       "      <td>75.31%</td>\n",
       "      <td>69.04%</td>\n",
       "    </tr>\n",
       "    <tr>\n",
       "      <th>NXU.DE</th>\n",
       "      <td>1</td>\n",
       "      <td>1.500000e-03</td>\n",
       "      <td>16.90%</td>\n",
       "      <td>33.22%</td>\n",
       "      <td>46.06%</td>\n",
       "    </tr>\n",
       "    <tr>\n",
       "      <th>MPX</th>\n",
       "      <td>5</td>\n",
       "      <td>-1.000000e-03</td>\n",
       "      <td>14.90%</td>\n",
       "      <td>-31.47%</td>\n",
       "      <td>16.83%</td>\n",
       "    </tr>\n",
       "    <tr>\n",
       "      <th>EBOX.L</th>\n",
       "      <td>-204</td>\n",
       "      <td>-1.750000e-03</td>\n",
       "      <td>33.56%</td>\n",
       "      <td>-3.31%</td>\n",
       "      <td>-2.38%</td>\n",
       "    </tr>\n",
       "    <tr>\n",
       "      <th>ROL</th>\n",
       "      <td>2</td>\n",
       "      <td>5.000000e-04</td>\n",
       "      <td>23.38%</td>\n",
       "      <td>-4.14%</td>\n",
       "      <td>62.59%</td>\n",
       "    </tr>\n",
       "    <tr>\n",
       "      <th>COUR</th>\n",
       "      <td>2</td>\n",
       "      <td>2.500000e-03</td>\n",
       "      <td>38.08%</td>\n",
       "      <td>69.29%</td>\n",
       "      <td>-49.62%</td>\n",
       "    </tr>\n",
       "    <tr>\n",
       "      <th>APLD</th>\n",
       "      <td>10</td>\n",
       "      <td>7.500000e-04</td>\n",
       "      <td>32.92%</td>\n",
       "      <td>-6.98%</td>\n",
       "      <td>3.37%</td>\n",
       "    </tr>\n",
       "    <tr>\n",
       "      <th>EBF</th>\n",
       "      <td>2</td>\n",
       "      <td>1.500000e-03</td>\n",
       "      <td>23.57%</td>\n",
       "      <td>5.85%</td>\n",
       "      <td>-10.73%</td>\n",
       "    </tr>\n",
       "    <tr>\n",
       "      <th>ECV.DE</th>\n",
       "      <td>5</td>\n",
       "      <td>5.000000e-04</td>\n",
       "      <td>3.03%</td>\n",
       "      <td>55.18%</td>\n",
       "      <td>100.63%</td>\n",
       "    </tr>\n",
       "    <tr>\n",
       "      <th>ONTF</th>\n",
       "      <td>2</td>\n",
       "      <td>1.750000e-03</td>\n",
       "      <td>10.94%</td>\n",
       "      <td>91.00%</td>\n",
       "      <td>-41.85%</td>\n",
       "    </tr>\n",
       "    <tr>\n",
       "      <th>FRPH</th>\n",
       "      <td>1</td>\n",
       "      <td>1.000000e-03</td>\n",
       "      <td>38.93%</td>\n",
       "      <td>8.20%</td>\n",
       "      <td>-13.42%</td>\n",
       "    </tr>\n",
       "    <tr>\n",
       "      <th>HFFG</th>\n",
       "      <td>1</td>\n",
       "      <td>2.500000e-03</td>\n",
       "      <td>29.28%</td>\n",
       "      <td>52.69%</td>\n",
       "      <td>-61.30%</td>\n",
       "    </tr>\n",
       "    <tr>\n",
       "      <th>MITK</th>\n",
       "      <td>1</td>\n",
       "      <td>-1.000000e-03</td>\n",
       "      <td>15.66%</td>\n",
       "      <td>4.09%</td>\n",
       "      <td>30.91%</td>\n",
       "    </tr>\n",
       "  </tbody>\n",
       "</table>\n",
       "</div>"
      ]
     },
     "execution_count": 16,
     "metadata": {},
     "output_type": "execute_result"
    }
   ],
   "execution_count": 16
  },
  {
   "metadata": {},
   "cell_type": "markdown",
   "source": "### Discrete allocation 20 years",
   "id": "9c1a06de0ffda25f"
  },
  {
   "metadata": {
    "ExecuteTime": {
     "end_time": "2025-05-31T19:30:07.238805Z",
     "start_time": "2025-05-31T19:30:07.200567Z"
    }
   },
   "cell_type": "code",
   "source": [
    "importlib.reload(mpt_utils)\n",
    "\n",
    "df_20y = df_train.tail(20 * 12)\n",
    "df_20y = df_20y - 1\n",
    "df_20y.head(3)"
   ],
   "id": "55a622e4fd7e8e33",
   "outputs": [
    {
     "data": {
      "text/plain": [
       "                 RS1.L     KE     TEG.DE     LEG.DE       SCS       HNI  \\\n",
       "Date                                                                      \n",
       "1999-10-01  191.424942  10.57  43.819553  29.297156  4.165832  8.774066   \n",
       "1999-11-01  217.152206  10.57  43.819553  29.297156  4.319274  9.770150   \n",
       "1999-12-01  240.588638  10.57  43.819553  29.297156  3.910100  9.974279   \n",
       "\n",
       "                  AVT       ACCO    VNA.DE       7912.T  ...    DEQ.DE   KIDS  \\\n",
       "Date                                                     ...                    \n",
       "1999-10-01  20.209171  11.130485  7.585901  2007.531665  ...  6.348418  22.75   \n",
       "1999-11-01  20.354940  11.517400  7.585901  2065.222290  ...  6.348418  22.75   \n",
       "1999-12-01  22.517170  11.517400  7.585901  2012.300952  ...  6.348418  22.75   \n",
       "\n",
       "             HALO      MATW      9842.T     KVHI      MOON.L  NEO     6055.T  \\\n",
       "Date                                                                           \n",
       "1999-10-01  1.934  8.178375  386.510425  2.06250  194.460001 -0.6  55.376208   \n",
       "1999-11-01  1.934  7.509521  386.510425  2.03125  194.460001 -0.6  55.376208   \n",
       "1999-12-01  1.934  9.065028  386.510425  2.06250  194.460001 -0.6  55.376208   \n",
       "\n",
       "                 UNP  \n",
       "Date                  \n",
       "1999-10-01  7.588829  \n",
       "1999-11-01  6.250434  \n",
       "1999-12-01  5.730484  \n",
       "\n",
       "[3 rows x 1653 columns]"
      ],
      "text/html": [
       "<div>\n",
       "<style scoped>\n",
       "    .dataframe tbody tr th:only-of-type {\n",
       "        vertical-align: middle;\n",
       "    }\n",
       "\n",
       "    .dataframe tbody tr th {\n",
       "        vertical-align: top;\n",
       "    }\n",
       "\n",
       "    .dataframe thead th {\n",
       "        text-align: right;\n",
       "    }\n",
       "</style>\n",
       "<table border=\"1\" class=\"dataframe\">\n",
       "  <thead>\n",
       "    <tr style=\"text-align: right;\">\n",
       "      <th></th>\n",
       "      <th>RS1.L</th>\n",
       "      <th>KE</th>\n",
       "      <th>TEG.DE</th>\n",
       "      <th>LEG.DE</th>\n",
       "      <th>SCS</th>\n",
       "      <th>HNI</th>\n",
       "      <th>AVT</th>\n",
       "      <th>ACCO</th>\n",
       "      <th>VNA.DE</th>\n",
       "      <th>7912.T</th>\n",
       "      <th>...</th>\n",
       "      <th>DEQ.DE</th>\n",
       "      <th>KIDS</th>\n",
       "      <th>HALO</th>\n",
       "      <th>MATW</th>\n",
       "      <th>9842.T</th>\n",
       "      <th>KVHI</th>\n",
       "      <th>MOON.L</th>\n",
       "      <th>NEO</th>\n",
       "      <th>6055.T</th>\n",
       "      <th>UNP</th>\n",
       "    </tr>\n",
       "    <tr>\n",
       "      <th>Date</th>\n",
       "      <th></th>\n",
       "      <th></th>\n",
       "      <th></th>\n",
       "      <th></th>\n",
       "      <th></th>\n",
       "      <th></th>\n",
       "      <th></th>\n",
       "      <th></th>\n",
       "      <th></th>\n",
       "      <th></th>\n",
       "      <th></th>\n",
       "      <th></th>\n",
       "      <th></th>\n",
       "      <th></th>\n",
       "      <th></th>\n",
       "      <th></th>\n",
       "      <th></th>\n",
       "      <th></th>\n",
       "      <th></th>\n",
       "      <th></th>\n",
       "      <th></th>\n",
       "    </tr>\n",
       "  </thead>\n",
       "  <tbody>\n",
       "    <tr>\n",
       "      <th>1999-10-01</th>\n",
       "      <td>191.424942</td>\n",
       "      <td>10.57</td>\n",
       "      <td>43.819553</td>\n",
       "      <td>29.297156</td>\n",
       "      <td>4.165832</td>\n",
       "      <td>8.774066</td>\n",
       "      <td>20.209171</td>\n",
       "      <td>11.130485</td>\n",
       "      <td>7.585901</td>\n",
       "      <td>2007.531665</td>\n",
       "      <td>...</td>\n",
       "      <td>6.348418</td>\n",
       "      <td>22.75</td>\n",
       "      <td>1.934</td>\n",
       "      <td>8.178375</td>\n",
       "      <td>386.510425</td>\n",
       "      <td>2.06250</td>\n",
       "      <td>194.460001</td>\n",
       "      <td>-0.6</td>\n",
       "      <td>55.376208</td>\n",
       "      <td>7.588829</td>\n",
       "    </tr>\n",
       "    <tr>\n",
       "      <th>1999-11-01</th>\n",
       "      <td>217.152206</td>\n",
       "      <td>10.57</td>\n",
       "      <td>43.819553</td>\n",
       "      <td>29.297156</td>\n",
       "      <td>4.319274</td>\n",
       "      <td>9.770150</td>\n",
       "      <td>20.354940</td>\n",
       "      <td>11.517400</td>\n",
       "      <td>7.585901</td>\n",
       "      <td>2065.222290</td>\n",
       "      <td>...</td>\n",
       "      <td>6.348418</td>\n",
       "      <td>22.75</td>\n",
       "      <td>1.934</td>\n",
       "      <td>7.509521</td>\n",
       "      <td>386.510425</td>\n",
       "      <td>2.03125</td>\n",
       "      <td>194.460001</td>\n",
       "      <td>-0.6</td>\n",
       "      <td>55.376208</td>\n",
       "      <td>6.250434</td>\n",
       "    </tr>\n",
       "    <tr>\n",
       "      <th>1999-12-01</th>\n",
       "      <td>240.588638</td>\n",
       "      <td>10.57</td>\n",
       "      <td>43.819553</td>\n",
       "      <td>29.297156</td>\n",
       "      <td>3.910100</td>\n",
       "      <td>9.974279</td>\n",
       "      <td>22.517170</td>\n",
       "      <td>11.517400</td>\n",
       "      <td>7.585901</td>\n",
       "      <td>2012.300952</td>\n",
       "      <td>...</td>\n",
       "      <td>6.348418</td>\n",
       "      <td>22.75</td>\n",
       "      <td>1.934</td>\n",
       "      <td>9.065028</td>\n",
       "      <td>386.510425</td>\n",
       "      <td>2.06250</td>\n",
       "      <td>194.460001</td>\n",
       "      <td>-0.6</td>\n",
       "      <td>55.376208</td>\n",
       "      <td>5.730484</td>\n",
       "    </tr>\n",
       "  </tbody>\n",
       "</table>\n",
       "<p>3 rows × 1653 columns</p>\n",
       "</div>"
      ]
     },
     "execution_count": 29,
     "metadata": {},
     "output_type": "execute_result"
    }
   ],
   "execution_count": 29
  },
  {
   "metadata": {
    "ExecuteTime": {
     "end_time": "2025-05-31T19:46:40.362298Z",
     "start_time": "2025-05-31T19:46:36.062422Z"
    }
   },
   "cell_type": "code",
   "source": "weights_20y, mu_20y, S_20y, weights_all_20y = mpt_utils.benchmark_portfolio_and_plot(df_20y, plot_threshold=0.015)",
   "id": "50f50e486252905f",
   "outputs": [
    {
     "name": "stderr",
     "output_type": "stream",
     "text": [
      "/Users/herbishtini/anaconda3/envs/portfolio_optimisation/lib/python3.11/site-packages/pypfopt/expected_returns.py:32: UserWarning:\n",
      "\n",
      "Some returns are NaN. Please check your price data.\n",
      "\n",
      "/Users/herbishtini/anaconda3/envs/portfolio_optimisation/lib/python3.11/site-packages/pypfopt/expected_returns.py:36: UserWarning:\n",
      "\n",
      "Some returns are infinite. Please check your price data.\n",
      "\n",
      "/Users/herbishtini/anaconda3/envs/portfolio_optimisation/lib/python3.11/site-packages/numpy/core/_methods.py:53: RuntimeWarning:\n",
      "\n",
      "invalid value encountered in reduce\n",
      "\n"
     ]
    },
    {
     "name": "stdout",
     "output_type": "stream",
     "text": [
      "Expected annual return: 14.8%\n",
      "Annual volatility: 53.3%\n",
      "Sharpe Ratio: 0.24\n",
      "-- Allocation --\n",
      "{'NFLX': 1, 'GIII': 2, 'TSCO': 1, 'DORM': 1, 'BGEO.L': 1, 'MANH': 1, 'KMX': 1, 'ANSS': 1, 'TPL': 1, 'VTR': 1, 'MFA': 2, 'PUM.DE': 1, 'ATRI': 1, 'MNRO': 1, 'AVGO': 1, 'MLAB': 1, 'FCN': 1, 'FTK.DE': 5, 'TTC': 1, 'ROST': 1, 'IDXX': 1, 'DAKT': 4, 'ISRG': 1, 'POOL': 1, 'SHOO': 1, '2124.T': 1, 'TYL': 1, 'BALL': 1, 'JBHT': 1, 'ILM1.DE': 1, 'NSP': 1, 'WINA': 1, 'OLED': 1, 'ICLR': 1, 'COHR': 1, '2471.T': 1, 'CRM': 1, '4751.T': 1, 'VSEC': 1, 'UNH': 1, 'HUM': 1, 'BLK': 1, 'OSIS': 1, 'MTH': 1, 'SHYF': 1, 'ELS': 1, 'EVD.DE': 1, 'RGLD': 1, 'ADSK': 1, 'COR': 1, 'LCII': 1, 'HSIC': 1, 'LII': 1, 'REGN': 1, 'EPR': 1, 'AKR': 1, 'RWT': 2, 'MPX': 2, 'SKT': 1, 'BKE': 1, 'FTNT': 1, 'EXLS': 1, 'AOX.DE': 2, 'CLMB': 1, 'DHC': 1, 'CTO': 1, 'ESCA': 1, 'MPW': 1, 'LXP': 1, 'GEN': 1, 'DDD': 1, 'AGNC': 1, 'ECV.DE': 1, 'SFQ.DE': 1, 'CPRX': 1, 'DXLG': 5}\n",
      "-- Weights Percentage --\n",
      "{'TPL': 0.0174, 'KMX': 0.0185, 'VTR': 0.0169, 'MNRO': 0.0163, 'TSCO': 0.0283, 'ANSS': 0.0174, 'MFA': 0.0169, 'MLAB': 0.0158, 'NFLX': 0.0402, 'DORM': 0.0239, 'GIII': 0.0294, 'BGEO.L': 0.0207, 'IDXX': 0.0152, 'FTK.DE': 0.0158, 'ATRI': 0.0163, 'ROST': 0.0152, 'MANH': 0.0207, 'DAKT': 0.0152, 'PUM.DE': 0.0169, 'FCN': 0.0158, 'AVGO': 0.0163, 'TTC': 0.0152, 'Other(54)': 0.5759}\n"
     ]
    },
    {
     "data": {
      "application/vnd.plotly.v1+json": {
       "data": [
        {
         "hole": 0.3,
         "insidetextorientation": "radial",
         "labels": [
          "TPL",
          "KMX",
          "VTR",
          "MNRO",
          "TSCO",
          "ANSS",
          "MFA",
          "MLAB",
          "NFLX",
          "DORM",
          "GIII",
          "BGEO.L",
          "IDXX",
          "FTK.DE",
          "ATRI",
          "ROST",
          "MANH",
          "DAKT",
          "PUM.DE",
          "FCN",
          "AVGO",
          "TTC",
          "Other(54)"
         ],
         "textinfo": "label+percent",
         "textposition": "inside",
         "values": [
          0.0032,
          0.0034,
          0.0031,
          0.003,
          0.0052,
          0.0032,
          0.0031,
          0.0029,
          0.0074,
          0.0044,
          0.0054,
          0.0038,
          0.0028,
          0.0029,
          0.003,
          0.0028,
          0.0038,
          0.0028,
          0.0031,
          0.0029,
          0.003,
          0.0028,
          0.1059
         ],
         "type": "pie"
        }
       ],
       "layout": {
        "template": {
         "data": {
          "histogram2dcontour": [
           {
            "type": "histogram2dcontour",
            "colorbar": {
             "outlinewidth": 0,
             "ticks": ""
            },
            "colorscale": [
             [
              0.0,
              "#0d0887"
             ],
             [
              0.1111111111111111,
              "#46039f"
             ],
             [
              0.2222222222222222,
              "#7201a8"
             ],
             [
              0.3333333333333333,
              "#9c179e"
             ],
             [
              0.4444444444444444,
              "#bd3786"
             ],
             [
              0.5555555555555556,
              "#d8576b"
             ],
             [
              0.6666666666666666,
              "#ed7953"
             ],
             [
              0.7777777777777778,
              "#fb9f3a"
             ],
             [
              0.8888888888888888,
              "#fdca26"
             ],
             [
              1.0,
              "#f0f921"
             ]
            ]
           }
          ],
          "choropleth": [
           {
            "type": "choropleth",
            "colorbar": {
             "outlinewidth": 0,
             "ticks": ""
            }
           }
          ],
          "histogram2d": [
           {
            "type": "histogram2d",
            "colorbar": {
             "outlinewidth": 0,
             "ticks": ""
            },
            "colorscale": [
             [
              0.0,
              "#0d0887"
             ],
             [
              0.1111111111111111,
              "#46039f"
             ],
             [
              0.2222222222222222,
              "#7201a8"
             ],
             [
              0.3333333333333333,
              "#9c179e"
             ],
             [
              0.4444444444444444,
              "#bd3786"
             ],
             [
              0.5555555555555556,
              "#d8576b"
             ],
             [
              0.6666666666666666,
              "#ed7953"
             ],
             [
              0.7777777777777778,
              "#fb9f3a"
             ],
             [
              0.8888888888888888,
              "#fdca26"
             ],
             [
              1.0,
              "#f0f921"
             ]
            ]
           }
          ],
          "heatmap": [
           {
            "type": "heatmap",
            "colorbar": {
             "outlinewidth": 0,
             "ticks": ""
            },
            "colorscale": [
             [
              0.0,
              "#0d0887"
             ],
             [
              0.1111111111111111,
              "#46039f"
             ],
             [
              0.2222222222222222,
              "#7201a8"
             ],
             [
              0.3333333333333333,
              "#9c179e"
             ],
             [
              0.4444444444444444,
              "#bd3786"
             ],
             [
              0.5555555555555556,
              "#d8576b"
             ],
             [
              0.6666666666666666,
              "#ed7953"
             ],
             [
              0.7777777777777778,
              "#fb9f3a"
             ],
             [
              0.8888888888888888,
              "#fdca26"
             ],
             [
              1.0,
              "#f0f921"
             ]
            ]
           }
          ],
          "heatmapgl": [
           {
            "type": "heatmapgl",
            "colorbar": {
             "outlinewidth": 0,
             "ticks": ""
            },
            "colorscale": [
             [
              0.0,
              "#0d0887"
             ],
             [
              0.1111111111111111,
              "#46039f"
             ],
             [
              0.2222222222222222,
              "#7201a8"
             ],
             [
              0.3333333333333333,
              "#9c179e"
             ],
             [
              0.4444444444444444,
              "#bd3786"
             ],
             [
              0.5555555555555556,
              "#d8576b"
             ],
             [
              0.6666666666666666,
              "#ed7953"
             ],
             [
              0.7777777777777778,
              "#fb9f3a"
             ],
             [
              0.8888888888888888,
              "#fdca26"
             ],
             [
              1.0,
              "#f0f921"
             ]
            ]
           }
          ],
          "contourcarpet": [
           {
            "type": "contourcarpet",
            "colorbar": {
             "outlinewidth": 0,
             "ticks": ""
            }
           }
          ],
          "contour": [
           {
            "type": "contour",
            "colorbar": {
             "outlinewidth": 0,
             "ticks": ""
            },
            "colorscale": [
             [
              0.0,
              "#0d0887"
             ],
             [
              0.1111111111111111,
              "#46039f"
             ],
             [
              0.2222222222222222,
              "#7201a8"
             ],
             [
              0.3333333333333333,
              "#9c179e"
             ],
             [
              0.4444444444444444,
              "#bd3786"
             ],
             [
              0.5555555555555556,
              "#d8576b"
             ],
             [
              0.6666666666666666,
              "#ed7953"
             ],
             [
              0.7777777777777778,
              "#fb9f3a"
             ],
             [
              0.8888888888888888,
              "#fdca26"
             ],
             [
              1.0,
              "#f0f921"
             ]
            ]
           }
          ],
          "surface": [
           {
            "type": "surface",
            "colorbar": {
             "outlinewidth": 0,
             "ticks": ""
            },
            "colorscale": [
             [
              0.0,
              "#0d0887"
             ],
             [
              0.1111111111111111,
              "#46039f"
             ],
             [
              0.2222222222222222,
              "#7201a8"
             ],
             [
              0.3333333333333333,
              "#9c179e"
             ],
             [
              0.4444444444444444,
              "#bd3786"
             ],
             [
              0.5555555555555556,
              "#d8576b"
             ],
             [
              0.6666666666666666,
              "#ed7953"
             ],
             [
              0.7777777777777778,
              "#fb9f3a"
             ],
             [
              0.8888888888888888,
              "#fdca26"
             ],
             [
              1.0,
              "#f0f921"
             ]
            ]
           }
          ],
          "mesh3d": [
           {
            "type": "mesh3d",
            "colorbar": {
             "outlinewidth": 0,
             "ticks": ""
            }
           }
          ],
          "scatter": [
           {
            "fillpattern": {
             "fillmode": "overlay",
             "size": 10,
             "solidity": 0.2
            },
            "type": "scatter"
           }
          ],
          "parcoords": [
           {
            "type": "parcoords",
            "line": {
             "colorbar": {
              "outlinewidth": 0,
              "ticks": ""
             }
            }
           }
          ],
          "scatterpolargl": [
           {
            "type": "scatterpolargl",
            "marker": {
             "colorbar": {
              "outlinewidth": 0,
              "ticks": ""
             }
            }
           }
          ],
          "bar": [
           {
            "error_x": {
             "color": "#2a3f5f"
            },
            "error_y": {
             "color": "#2a3f5f"
            },
            "marker": {
             "line": {
              "color": "#E5ECF6",
              "width": 0.5
             },
             "pattern": {
              "fillmode": "overlay",
              "size": 10,
              "solidity": 0.2
             }
            },
            "type": "bar"
           }
          ],
          "scattergeo": [
           {
            "type": "scattergeo",
            "marker": {
             "colorbar": {
              "outlinewidth": 0,
              "ticks": ""
             }
            }
           }
          ],
          "scatterpolar": [
           {
            "type": "scatterpolar",
            "marker": {
             "colorbar": {
              "outlinewidth": 0,
              "ticks": ""
             }
            }
           }
          ],
          "histogram": [
           {
            "marker": {
             "pattern": {
              "fillmode": "overlay",
              "size": 10,
              "solidity": 0.2
             }
            },
            "type": "histogram"
           }
          ],
          "scattergl": [
           {
            "type": "scattergl",
            "marker": {
             "colorbar": {
              "outlinewidth": 0,
              "ticks": ""
             }
            }
           }
          ],
          "scatter3d": [
           {
            "type": "scatter3d",
            "line": {
             "colorbar": {
              "outlinewidth": 0,
              "ticks": ""
             }
            },
            "marker": {
             "colorbar": {
              "outlinewidth": 0,
              "ticks": ""
             }
            }
           }
          ],
          "scattermapbox": [
           {
            "type": "scattermapbox",
            "marker": {
             "colorbar": {
              "outlinewidth": 0,
              "ticks": ""
             }
            }
           }
          ],
          "scatterternary": [
           {
            "type": "scatterternary",
            "marker": {
             "colorbar": {
              "outlinewidth": 0,
              "ticks": ""
             }
            }
           }
          ],
          "scattercarpet": [
           {
            "type": "scattercarpet",
            "marker": {
             "colorbar": {
              "outlinewidth": 0,
              "ticks": ""
             }
            }
           }
          ],
          "carpet": [
           {
            "aaxis": {
             "endlinecolor": "#2a3f5f",
             "gridcolor": "white",
             "linecolor": "white",
             "minorgridcolor": "white",
             "startlinecolor": "#2a3f5f"
            },
            "baxis": {
             "endlinecolor": "#2a3f5f",
             "gridcolor": "white",
             "linecolor": "white",
             "minorgridcolor": "white",
             "startlinecolor": "#2a3f5f"
            },
            "type": "carpet"
           }
          ],
          "table": [
           {
            "cells": {
             "fill": {
              "color": "#EBF0F8"
             },
             "line": {
              "color": "white"
             }
            },
            "header": {
             "fill": {
              "color": "#C8D4E3"
             },
             "line": {
              "color": "white"
             }
            },
            "type": "table"
           }
          ],
          "barpolar": [
           {
            "marker": {
             "line": {
              "color": "#E5ECF6",
              "width": 0.5
             },
             "pattern": {
              "fillmode": "overlay",
              "size": 10,
              "solidity": 0.2
             }
            },
            "type": "barpolar"
           }
          ],
          "pie": [
           {
            "automargin": true,
            "type": "pie"
           }
          ]
         },
         "layout": {
          "autotypenumbers": "strict",
          "colorway": [
           "#636efa",
           "#EF553B",
           "#00cc96",
           "#ab63fa",
           "#FFA15A",
           "#19d3f3",
           "#FF6692",
           "#B6E880",
           "#FF97FF",
           "#FECB52"
          ],
          "font": {
           "color": "#2a3f5f"
          },
          "hovermode": "closest",
          "hoverlabel": {
           "align": "left"
          },
          "paper_bgcolor": "white",
          "plot_bgcolor": "#E5ECF6",
          "polar": {
           "bgcolor": "#E5ECF6",
           "angularaxis": {
            "gridcolor": "white",
            "linecolor": "white",
            "ticks": ""
           },
           "radialaxis": {
            "gridcolor": "white",
            "linecolor": "white",
            "ticks": ""
           }
          },
          "ternary": {
           "bgcolor": "#E5ECF6",
           "aaxis": {
            "gridcolor": "white",
            "linecolor": "white",
            "ticks": ""
           },
           "baxis": {
            "gridcolor": "white",
            "linecolor": "white",
            "ticks": ""
           },
           "caxis": {
            "gridcolor": "white",
            "linecolor": "white",
            "ticks": ""
           }
          },
          "coloraxis": {
           "colorbar": {
            "outlinewidth": 0,
            "ticks": ""
           }
          },
          "colorscale": {
           "sequential": [
            [
             0.0,
             "#0d0887"
            ],
            [
             0.1111111111111111,
             "#46039f"
            ],
            [
             0.2222222222222222,
             "#7201a8"
            ],
            [
             0.3333333333333333,
             "#9c179e"
            ],
            [
             0.4444444444444444,
             "#bd3786"
            ],
            [
             0.5555555555555556,
             "#d8576b"
            ],
            [
             0.6666666666666666,
             "#ed7953"
            ],
            [
             0.7777777777777778,
             "#fb9f3a"
            ],
            [
             0.8888888888888888,
             "#fdca26"
            ],
            [
             1.0,
             "#f0f921"
            ]
           ],
           "sequentialminus": [
            [
             0.0,
             "#0d0887"
            ],
            [
             0.1111111111111111,
             "#46039f"
            ],
            [
             0.2222222222222222,
             "#7201a8"
            ],
            [
             0.3333333333333333,
             "#9c179e"
            ],
            [
             0.4444444444444444,
             "#bd3786"
            ],
            [
             0.5555555555555556,
             "#d8576b"
            ],
            [
             0.6666666666666666,
             "#ed7953"
            ],
            [
             0.7777777777777778,
             "#fb9f3a"
            ],
            [
             0.8888888888888888,
             "#fdca26"
            ],
            [
             1.0,
             "#f0f921"
            ]
           ],
           "diverging": [
            [
             0,
             "#8e0152"
            ],
            [
             0.1,
             "#c51b7d"
            ],
            [
             0.2,
             "#de77ae"
            ],
            [
             0.3,
             "#f1b6da"
            ],
            [
             0.4,
             "#fde0ef"
            ],
            [
             0.5,
             "#f7f7f7"
            ],
            [
             0.6,
             "#e6f5d0"
            ],
            [
             0.7,
             "#b8e186"
            ],
            [
             0.8,
             "#7fbc41"
            ],
            [
             0.9,
             "#4d9221"
            ],
            [
             1,
             "#276419"
            ]
           ]
          },
          "xaxis": {
           "gridcolor": "white",
           "linecolor": "white",
           "ticks": "",
           "title": {
            "standoff": 15
           },
           "zerolinecolor": "white",
           "automargin": true,
           "zerolinewidth": 2
          },
          "yaxis": {
           "gridcolor": "white",
           "linecolor": "white",
           "ticks": "",
           "title": {
            "standoff": 15
           },
           "zerolinecolor": "white",
           "automargin": true,
           "zerolinewidth": 2
          },
          "scene": {
           "xaxis": {
            "backgroundcolor": "#E5ECF6",
            "gridcolor": "white",
            "linecolor": "white",
            "showbackground": true,
            "ticks": "",
            "zerolinecolor": "white",
            "gridwidth": 2
           },
           "yaxis": {
            "backgroundcolor": "#E5ECF6",
            "gridcolor": "white",
            "linecolor": "white",
            "showbackground": true,
            "ticks": "",
            "zerolinecolor": "white",
            "gridwidth": 2
           },
           "zaxis": {
            "backgroundcolor": "#E5ECF6",
            "gridcolor": "white",
            "linecolor": "white",
            "showbackground": true,
            "ticks": "",
            "zerolinecolor": "white",
            "gridwidth": 2
           }
          },
          "shapedefaults": {
           "line": {
            "color": "#2a3f5f"
           }
          },
          "annotationdefaults": {
           "arrowcolor": "#2a3f5f",
           "arrowhead": 0,
           "arrowwidth": 1
          },
          "geo": {
           "bgcolor": "white",
           "landcolor": "#E5ECF6",
           "subunitcolor": "white",
           "showland": true,
           "showlakes": true,
           "lakecolor": "white"
          },
          "title": {
           "x": 0.05
          },
          "mapbox": {
           "style": "light"
          }
         }
        },
        "margin": {
         "l": 20,
         "r": 20,
         "t": 20,
         "b": 20
        },
        "font": {
         "color": "black"
        },
        "height": 600,
        "width": 600,
        "paper_bgcolor": "white",
        "plot_bgcolor": "white",
        "showlegend": false
       },
       "config": {
        "plotlyServerURL": "https://plot.ly"
       }
      },
      "text/html": [
       "<div>                            <div id=\"4f8d4995-391d-4b1f-85f9-8f734b6de981\" class=\"plotly-graph-div\" style=\"height:600px; width:600px;\"></div>            <script type=\"text/javascript\">                require([\"plotly\"], function(Plotly) {                    window.PLOTLYENV=window.PLOTLYENV || {};                                    if (document.getElementById(\"4f8d4995-391d-4b1f-85f9-8f734b6de981\")) {                    Plotly.newPlot(                        \"4f8d4995-391d-4b1f-85f9-8f734b6de981\",                        [{\"hole\":0.3,\"insidetextorientation\":\"radial\",\"labels\":[\"TPL\",\"KMX\",\"VTR\",\"MNRO\",\"TSCO\",\"ANSS\",\"MFA\",\"MLAB\",\"NFLX\",\"DORM\",\"GIII\",\"BGEO.L\",\"IDXX\",\"FTK.DE\",\"ATRI\",\"ROST\",\"MANH\",\"DAKT\",\"PUM.DE\",\"FCN\",\"AVGO\",\"TTC\",\"Other(54)\"],\"textinfo\":\"label+percent\",\"textposition\":\"inside\",\"values\":[0.0032,0.0034,0.0031,0.003,0.0052,0.0032,0.0031,0.0029,0.0074,0.0044,0.0054,0.0038,0.0028,0.0029,0.003,0.0028,0.0038,0.0028,0.0031,0.0029,0.003,0.0028,0.1059],\"type\":\"pie\"}],                        {\"template\":{\"data\":{\"histogram2dcontour\":[{\"type\":\"histogram2dcontour\",\"colorbar\":{\"outlinewidth\":0,\"ticks\":\"\"},\"colorscale\":[[0.0,\"#0d0887\"],[0.1111111111111111,\"#46039f\"],[0.2222222222222222,\"#7201a8\"],[0.3333333333333333,\"#9c179e\"],[0.4444444444444444,\"#bd3786\"],[0.5555555555555556,\"#d8576b\"],[0.6666666666666666,\"#ed7953\"],[0.7777777777777778,\"#fb9f3a\"],[0.8888888888888888,\"#fdca26\"],[1.0,\"#f0f921\"]]}],\"choropleth\":[{\"type\":\"choropleth\",\"colorbar\":{\"outlinewidth\":0,\"ticks\":\"\"}}],\"histogram2d\":[{\"type\":\"histogram2d\",\"colorbar\":{\"outlinewidth\":0,\"ticks\":\"\"},\"colorscale\":[[0.0,\"#0d0887\"],[0.1111111111111111,\"#46039f\"],[0.2222222222222222,\"#7201a8\"],[0.3333333333333333,\"#9c179e\"],[0.4444444444444444,\"#bd3786\"],[0.5555555555555556,\"#d8576b\"],[0.6666666666666666,\"#ed7953\"],[0.7777777777777778,\"#fb9f3a\"],[0.8888888888888888,\"#fdca26\"],[1.0,\"#f0f921\"]]}],\"heatmap\":[{\"type\":\"heatmap\",\"colorbar\":{\"outlinewidth\":0,\"ticks\":\"\"},\"colorscale\":[[0.0,\"#0d0887\"],[0.1111111111111111,\"#46039f\"],[0.2222222222222222,\"#7201a8\"],[0.3333333333333333,\"#9c179e\"],[0.4444444444444444,\"#bd3786\"],[0.5555555555555556,\"#d8576b\"],[0.6666666666666666,\"#ed7953\"],[0.7777777777777778,\"#fb9f3a\"],[0.8888888888888888,\"#fdca26\"],[1.0,\"#f0f921\"]]}],\"heatmapgl\":[{\"type\":\"heatmapgl\",\"colorbar\":{\"outlinewidth\":0,\"ticks\":\"\"},\"colorscale\":[[0.0,\"#0d0887\"],[0.1111111111111111,\"#46039f\"],[0.2222222222222222,\"#7201a8\"],[0.3333333333333333,\"#9c179e\"],[0.4444444444444444,\"#bd3786\"],[0.5555555555555556,\"#d8576b\"],[0.6666666666666666,\"#ed7953\"],[0.7777777777777778,\"#fb9f3a\"],[0.8888888888888888,\"#fdca26\"],[1.0,\"#f0f921\"]]}],\"contourcarpet\":[{\"type\":\"contourcarpet\",\"colorbar\":{\"outlinewidth\":0,\"ticks\":\"\"}}],\"contour\":[{\"type\":\"contour\",\"colorbar\":{\"outlinewidth\":0,\"ticks\":\"\"},\"colorscale\":[[0.0,\"#0d0887\"],[0.1111111111111111,\"#46039f\"],[0.2222222222222222,\"#7201a8\"],[0.3333333333333333,\"#9c179e\"],[0.4444444444444444,\"#bd3786\"],[0.5555555555555556,\"#d8576b\"],[0.6666666666666666,\"#ed7953\"],[0.7777777777777778,\"#fb9f3a\"],[0.8888888888888888,\"#fdca26\"],[1.0,\"#f0f921\"]]}],\"surface\":[{\"type\":\"surface\",\"colorbar\":{\"outlinewidth\":0,\"ticks\":\"\"},\"colorscale\":[[0.0,\"#0d0887\"],[0.1111111111111111,\"#46039f\"],[0.2222222222222222,\"#7201a8\"],[0.3333333333333333,\"#9c179e\"],[0.4444444444444444,\"#bd3786\"],[0.5555555555555556,\"#d8576b\"],[0.6666666666666666,\"#ed7953\"],[0.7777777777777778,\"#fb9f3a\"],[0.8888888888888888,\"#fdca26\"],[1.0,\"#f0f921\"]]}],\"mesh3d\":[{\"type\":\"mesh3d\",\"colorbar\":{\"outlinewidth\":0,\"ticks\":\"\"}}],\"scatter\":[{\"fillpattern\":{\"fillmode\":\"overlay\",\"size\":10,\"solidity\":0.2},\"type\":\"scatter\"}],\"parcoords\":[{\"type\":\"parcoords\",\"line\":{\"colorbar\":{\"outlinewidth\":0,\"ticks\":\"\"}}}],\"scatterpolargl\":[{\"type\":\"scatterpolargl\",\"marker\":{\"colorbar\":{\"outlinewidth\":0,\"ticks\":\"\"}}}],\"bar\":[{\"error_x\":{\"color\":\"#2a3f5f\"},\"error_y\":{\"color\":\"#2a3f5f\"},\"marker\":{\"line\":{\"color\":\"#E5ECF6\",\"width\":0.5},\"pattern\":{\"fillmode\":\"overlay\",\"size\":10,\"solidity\":0.2}},\"type\":\"bar\"}],\"scattergeo\":[{\"type\":\"scattergeo\",\"marker\":{\"colorbar\":{\"outlinewidth\":0,\"ticks\":\"\"}}}],\"scatterpolar\":[{\"type\":\"scatterpolar\",\"marker\":{\"colorbar\":{\"outlinewidth\":0,\"ticks\":\"\"}}}],\"histogram\":[{\"marker\":{\"pattern\":{\"fillmode\":\"overlay\",\"size\":10,\"solidity\":0.2}},\"type\":\"histogram\"}],\"scattergl\":[{\"type\":\"scattergl\",\"marker\":{\"colorbar\":{\"outlinewidth\":0,\"ticks\":\"\"}}}],\"scatter3d\":[{\"type\":\"scatter3d\",\"line\":{\"colorbar\":{\"outlinewidth\":0,\"ticks\":\"\"}},\"marker\":{\"colorbar\":{\"outlinewidth\":0,\"ticks\":\"\"}}}],\"scattermapbox\":[{\"type\":\"scattermapbox\",\"marker\":{\"colorbar\":{\"outlinewidth\":0,\"ticks\":\"\"}}}],\"scatterternary\":[{\"type\":\"scatterternary\",\"marker\":{\"colorbar\":{\"outlinewidth\":0,\"ticks\":\"\"}}}],\"scattercarpet\":[{\"type\":\"scattercarpet\",\"marker\":{\"colorbar\":{\"outlinewidth\":0,\"ticks\":\"\"}}}],\"carpet\":[{\"aaxis\":{\"endlinecolor\":\"#2a3f5f\",\"gridcolor\":\"white\",\"linecolor\":\"white\",\"minorgridcolor\":\"white\",\"startlinecolor\":\"#2a3f5f\"},\"baxis\":{\"endlinecolor\":\"#2a3f5f\",\"gridcolor\":\"white\",\"linecolor\":\"white\",\"minorgridcolor\":\"white\",\"startlinecolor\":\"#2a3f5f\"},\"type\":\"carpet\"}],\"table\":[{\"cells\":{\"fill\":{\"color\":\"#EBF0F8\"},\"line\":{\"color\":\"white\"}},\"header\":{\"fill\":{\"color\":\"#C8D4E3\"},\"line\":{\"color\":\"white\"}},\"type\":\"table\"}],\"barpolar\":[{\"marker\":{\"line\":{\"color\":\"#E5ECF6\",\"width\":0.5},\"pattern\":{\"fillmode\":\"overlay\",\"size\":10,\"solidity\":0.2}},\"type\":\"barpolar\"}],\"pie\":[{\"automargin\":true,\"type\":\"pie\"}]},\"layout\":{\"autotypenumbers\":\"strict\",\"colorway\":[\"#636efa\",\"#EF553B\",\"#00cc96\",\"#ab63fa\",\"#FFA15A\",\"#19d3f3\",\"#FF6692\",\"#B6E880\",\"#FF97FF\",\"#FECB52\"],\"font\":{\"color\":\"#2a3f5f\"},\"hovermode\":\"closest\",\"hoverlabel\":{\"align\":\"left\"},\"paper_bgcolor\":\"white\",\"plot_bgcolor\":\"#E5ECF6\",\"polar\":{\"bgcolor\":\"#E5ECF6\",\"angularaxis\":{\"gridcolor\":\"white\",\"linecolor\":\"white\",\"ticks\":\"\"},\"radialaxis\":{\"gridcolor\":\"white\",\"linecolor\":\"white\",\"ticks\":\"\"}},\"ternary\":{\"bgcolor\":\"#E5ECF6\",\"aaxis\":{\"gridcolor\":\"white\",\"linecolor\":\"white\",\"ticks\":\"\"},\"baxis\":{\"gridcolor\":\"white\",\"linecolor\":\"white\",\"ticks\":\"\"},\"caxis\":{\"gridcolor\":\"white\",\"linecolor\":\"white\",\"ticks\":\"\"}},\"coloraxis\":{\"colorbar\":{\"outlinewidth\":0,\"ticks\":\"\"}},\"colorscale\":{\"sequential\":[[0.0,\"#0d0887\"],[0.1111111111111111,\"#46039f\"],[0.2222222222222222,\"#7201a8\"],[0.3333333333333333,\"#9c179e\"],[0.4444444444444444,\"#bd3786\"],[0.5555555555555556,\"#d8576b\"],[0.6666666666666666,\"#ed7953\"],[0.7777777777777778,\"#fb9f3a\"],[0.8888888888888888,\"#fdca26\"],[1.0,\"#f0f921\"]],\"sequentialminus\":[[0.0,\"#0d0887\"],[0.1111111111111111,\"#46039f\"],[0.2222222222222222,\"#7201a8\"],[0.3333333333333333,\"#9c179e\"],[0.4444444444444444,\"#bd3786\"],[0.5555555555555556,\"#d8576b\"],[0.6666666666666666,\"#ed7953\"],[0.7777777777777778,\"#fb9f3a\"],[0.8888888888888888,\"#fdca26\"],[1.0,\"#f0f921\"]],\"diverging\":[[0,\"#8e0152\"],[0.1,\"#c51b7d\"],[0.2,\"#de77ae\"],[0.3,\"#f1b6da\"],[0.4,\"#fde0ef\"],[0.5,\"#f7f7f7\"],[0.6,\"#e6f5d0\"],[0.7,\"#b8e186\"],[0.8,\"#7fbc41\"],[0.9,\"#4d9221\"],[1,\"#276419\"]]},\"xaxis\":{\"gridcolor\":\"white\",\"linecolor\":\"white\",\"ticks\":\"\",\"title\":{\"standoff\":15},\"zerolinecolor\":\"white\",\"automargin\":true,\"zerolinewidth\":2},\"yaxis\":{\"gridcolor\":\"white\",\"linecolor\":\"white\",\"ticks\":\"\",\"title\":{\"standoff\":15},\"zerolinecolor\":\"white\",\"automargin\":true,\"zerolinewidth\":2},\"scene\":{\"xaxis\":{\"backgroundcolor\":\"#E5ECF6\",\"gridcolor\":\"white\",\"linecolor\":\"white\",\"showbackground\":true,\"ticks\":\"\",\"zerolinecolor\":\"white\",\"gridwidth\":2},\"yaxis\":{\"backgroundcolor\":\"#E5ECF6\",\"gridcolor\":\"white\",\"linecolor\":\"white\",\"showbackground\":true,\"ticks\":\"\",\"zerolinecolor\":\"white\",\"gridwidth\":2},\"zaxis\":{\"backgroundcolor\":\"#E5ECF6\",\"gridcolor\":\"white\",\"linecolor\":\"white\",\"showbackground\":true,\"ticks\":\"\",\"zerolinecolor\":\"white\",\"gridwidth\":2}},\"shapedefaults\":{\"line\":{\"color\":\"#2a3f5f\"}},\"annotationdefaults\":{\"arrowcolor\":\"#2a3f5f\",\"arrowhead\":0,\"arrowwidth\":1},\"geo\":{\"bgcolor\":\"white\",\"landcolor\":\"#E5ECF6\",\"subunitcolor\":\"white\",\"showland\":true,\"showlakes\":true,\"lakecolor\":\"white\"},\"title\":{\"x\":0.05},\"mapbox\":{\"style\":\"light\"}}},\"margin\":{\"l\":20,\"r\":20,\"t\":20,\"b\":20},\"font\":{\"color\":\"black\"},\"height\":600,\"width\":600,\"paper_bgcolor\":\"white\",\"plot_bgcolor\":\"white\",\"showlegend\":false},                        {\"responsive\": true}                    ).then(function(){\n",
       "                            \n",
       "var gd = document.getElementById('4f8d4995-391d-4b1f-85f9-8f734b6de981');\n",
       "var x = new MutationObserver(function (mutations, observer) {{\n",
       "        var display = window.getComputedStyle(gd).display;\n",
       "        if (!display || display === 'none') {{\n",
       "            console.log([gd, 'removed!']);\n",
       "            Plotly.purge(gd);\n",
       "            observer.disconnect();\n",
       "        }}\n",
       "}});\n",
       "\n",
       "// Listen for the removal of the full notebook cells\n",
       "var notebookContainer = gd.closest('#notebook-container');\n",
       "if (notebookContainer) {{\n",
       "    x.observe(notebookContainer, {childList: true});\n",
       "}}\n",
       "\n",
       "// Listen for the clearing of the current output cell\n",
       "var outputEl = gd.closest('.output');\n",
       "if (outputEl) {{\n",
       "    x.observe(outputEl, {childList: true});\n",
       "}}\n",
       "\n",
       "                        })                };                });            </script>        </div>"
      ]
     },
     "metadata": {},
     "output_type": "display_data"
    }
   ],
   "execution_count": 37
  },
  {
   "metadata": {},
   "cell_type": "markdown",
   "source": "#### Overview",
   "id": "8cf201cc6950222f"
  },
  {
   "metadata": {
    "ExecuteTime": {
     "end_time": "2025-05-31T19:30:11.936763Z",
     "start_time": "2025-05-31T19:30:11.919658Z"
    }
   },
   "cell_type": "code",
   "source": [
    "importlib.reload(mpt_utils)\n",
    "# Create overview\n",
    "df_view_20y = mpt_utils.generate_overview_table(weights_all_20y, mu_20y, S_20y, df_pct)\n",
    "df_view_20y"
   ],
   "id": "a381a95febc86920",
   "outputs": [
    {
     "data": {
      "text/plain": [
       "        Weight  Average Covariance Average Returns Return Last 12 Months  \\\n",
       "NFLX         1           -0.013467          23.00%                -3.91%   \n",
       "GIII         2           -0.007200          28.70%               -36.34%   \n",
       "TSCO         1           -0.004800          20.56%                 5.05%   \n",
       "DORM         1            0.004667          10.31%               -10.26%   \n",
       "BGEO.L       1            0.005600          11.79%               -13.39%   \n",
       "...        ...                 ...             ...                   ...   \n",
       "AGNC         1            0.001467          24.91%                 8.47%   \n",
       "ECV.DE       1           -0.001467           9.22%                55.18%   \n",
       "SFQ.DE       1            0.025600          22.45%               -48.70%   \n",
       "CPRX         1           -0.009067          20.41%                58.04%   \n",
       "DXLG         5            0.002133          21.57%               -51.71%   \n",
       "\n",
       "       Return (Actual) Next 12 Months  \n",
       "NFLX                           84.33%  \n",
       "GIII                          -50.29%  \n",
       "TSCO                           57.44%  \n",
       "DORM                           13.58%  \n",
       "BGEO.L                        -32.78%  \n",
       "...                               ...  \n",
       "AGNC                           -3.02%  \n",
       "ECV.DE                        100.63%  \n",
       "SFQ.DE                          8.17%  \n",
       "CPRX                          -44.43%  \n",
       "DXLG                          -84.57%  \n",
       "\n",
       "[76 rows x 5 columns]"
      ],
      "text/html": [
       "<div>\n",
       "<style scoped>\n",
       "    .dataframe tbody tr th:only-of-type {\n",
       "        vertical-align: middle;\n",
       "    }\n",
       "\n",
       "    .dataframe tbody tr th {\n",
       "        vertical-align: top;\n",
       "    }\n",
       "\n",
       "    .dataframe thead th {\n",
       "        text-align: right;\n",
       "    }\n",
       "</style>\n",
       "<table border=\"1\" class=\"dataframe\">\n",
       "  <thead>\n",
       "    <tr style=\"text-align: right;\">\n",
       "      <th></th>\n",
       "      <th>Weight</th>\n",
       "      <th>Average Covariance</th>\n",
       "      <th>Average Returns</th>\n",
       "      <th>Return Last 12 Months</th>\n",
       "      <th>Return (Actual) Next 12 Months</th>\n",
       "    </tr>\n",
       "  </thead>\n",
       "  <tbody>\n",
       "    <tr>\n",
       "      <th>NFLX</th>\n",
       "      <td>1</td>\n",
       "      <td>-0.013467</td>\n",
       "      <td>23.00%</td>\n",
       "      <td>-3.91%</td>\n",
       "      <td>84.33%</td>\n",
       "    </tr>\n",
       "    <tr>\n",
       "      <th>GIII</th>\n",
       "      <td>2</td>\n",
       "      <td>-0.007200</td>\n",
       "      <td>28.70%</td>\n",
       "      <td>-36.34%</td>\n",
       "      <td>-50.29%</td>\n",
       "    </tr>\n",
       "    <tr>\n",
       "      <th>TSCO</th>\n",
       "      <td>1</td>\n",
       "      <td>-0.004800</td>\n",
       "      <td>20.56%</td>\n",
       "      <td>5.05%</td>\n",
       "      <td>57.44%</td>\n",
       "    </tr>\n",
       "    <tr>\n",
       "      <th>DORM</th>\n",
       "      <td>1</td>\n",
       "      <td>0.004667</td>\n",
       "      <td>10.31%</td>\n",
       "      <td>-10.26%</td>\n",
       "      <td>13.58%</td>\n",
       "    </tr>\n",
       "    <tr>\n",
       "      <th>BGEO.L</th>\n",
       "      <td>1</td>\n",
       "      <td>0.005600</td>\n",
       "      <td>11.79%</td>\n",
       "      <td>-13.39%</td>\n",
       "      <td>-32.78%</td>\n",
       "    </tr>\n",
       "    <tr>\n",
       "      <th>...</th>\n",
       "      <td>...</td>\n",
       "      <td>...</td>\n",
       "      <td>...</td>\n",
       "      <td>...</td>\n",
       "      <td>...</td>\n",
       "    </tr>\n",
       "    <tr>\n",
       "      <th>AGNC</th>\n",
       "      <td>1</td>\n",
       "      <td>0.001467</td>\n",
       "      <td>24.91%</td>\n",
       "      <td>8.47%</td>\n",
       "      <td>-3.02%</td>\n",
       "    </tr>\n",
       "    <tr>\n",
       "      <th>ECV.DE</th>\n",
       "      <td>1</td>\n",
       "      <td>-0.001467</td>\n",
       "      <td>9.22%</td>\n",
       "      <td>55.18%</td>\n",
       "      <td>100.63%</td>\n",
       "    </tr>\n",
       "    <tr>\n",
       "      <th>SFQ.DE</th>\n",
       "      <td>1</td>\n",
       "      <td>0.025600</td>\n",
       "      <td>22.45%</td>\n",
       "      <td>-48.70%</td>\n",
       "      <td>8.17%</td>\n",
       "    </tr>\n",
       "    <tr>\n",
       "      <th>CPRX</th>\n",
       "      <td>1</td>\n",
       "      <td>-0.009067</td>\n",
       "      <td>20.41%</td>\n",
       "      <td>58.04%</td>\n",
       "      <td>-44.43%</td>\n",
       "    </tr>\n",
       "    <tr>\n",
       "      <th>DXLG</th>\n",
       "      <td>5</td>\n",
       "      <td>0.002133</td>\n",
       "      <td>21.57%</td>\n",
       "      <td>-51.71%</td>\n",
       "      <td>-84.57%</td>\n",
       "    </tr>\n",
       "  </tbody>\n",
       "</table>\n",
       "<p>76 rows × 5 columns</p>\n",
       "</div>"
      ]
     },
     "execution_count": 31,
     "metadata": {},
     "output_type": "execute_result"
    }
   ],
   "execution_count": 31
  },
  {
   "metadata": {
    "ExecuteTime": {
     "end_time": "2025-05-31T19:30:12.037276Z",
     "start_time": "2025-05-31T19:30:11.961425Z"
    }
   },
   "cell_type": "code",
   "source": [
    "importlib.reload(plots)\n",
    "importlib.reload(mpt_utils)\n",
    "importlib.reload(variables)\n",
    "\n",
    "df_view_20y = mpt_utils.generate_overview_table(weights_all_20y, mu_20y, S_20y, df_pct, format_nr=False)\n",
    "plots.plot_diff(df_view_20y.index.tolist(), df_view_20y['Average Returns'].values, df_view_20y['Return Last 12 Months'].values)"
   ],
   "id": "c10aea90bb89de36",
   "outputs": [
    {
     "data": {
      "application/vnd.plotly.v1+json": {
       "data": [
        {
         "alignmentgroup": "True",
         "hovertemplate": "Return Type=Average Return (%)<br>Ticker=%{x}<br>Return (%)=%{y}<extra></extra>",
         "legendgroup": "Average Return (%)",
         "marker": {
          "color": "#636efa",
          "pattern": {
           "shape": ""
          }
         },
         "name": "Average Return (%)",
         "offsetgroup": "Average Return (%)",
         "orientation": "v",
         "showlegend": true,
         "textposition": "auto",
         "texttemplate": "%{y}",
         "x": [
          "NFLX",
          "TPL",
          "FCN",
          "2124.T",
          "ICLR",
          "BLK",
          "LCII",
          "SKT",
          "ESCA",
          "DXLG"
         ],
         "xaxis": "x",
         "y": [
          0.23,
          0.281,
          0.2738,
          0.2957,
          0.2102,
          0.3572,
          0.0523,
          0.2607,
          0.2669,
          0.2157
         ],
         "yaxis": "y",
         "type": "bar"
        },
        {
         "alignmentgroup": "True",
         "hovertemplate": "Return Type=Actual Return (Next Year) (%)<br>Ticker=%{x}<br>Return (%)=%{y}<extra></extra>",
         "legendgroup": "Actual Return (Next Year) (%)",
         "marker": {
          "color": "#EF553B",
          "pattern": {
           "shape": ""
          }
         },
         "name": "Actual Return (Next Year) (%)",
         "offsetgroup": "Actual Return (Next Year) (%)",
         "orientation": "v",
         "showlegend": true,
         "textposition": "auto",
         "texttemplate": "%{y}",
         "x": [
          "NFLX",
          "TPL",
          "FCN",
          "2124.T",
          "ICLR",
          "BLK",
          "LCII",
          "SKT",
          "ESCA",
          "DXLG"
         ],
         "xaxis": "x",
         "y": [
          -0.0391,
          -0.2411,
          0.6315,
          0.0269,
          0.0763,
          0.1343,
          0.4391,
          -0.226,
          0.0262,
          -0.5171
         ],
         "yaxis": "y",
         "type": "bar"
        }
       ],
       "layout": {
        "template": {
         "data": {
          "barpolar": [
           {
            "marker": {
             "line": {
              "color": "white",
              "width": 0.5
             },
             "pattern": {
              "fillmode": "overlay",
              "size": 10,
              "solidity": 0.2
             }
            },
            "type": "barpolar"
           }
          ],
          "bar": [
           {
            "error_x": {
             "color": "#2a3f5f"
            },
            "error_y": {
             "color": "#2a3f5f"
            },
            "marker": {
             "line": {
              "color": "white",
              "width": 0.5
             },
             "pattern": {
              "fillmode": "overlay",
              "size": 10,
              "solidity": 0.2
             }
            },
            "type": "bar"
           }
          ],
          "carpet": [
           {
            "aaxis": {
             "endlinecolor": "#2a3f5f",
             "gridcolor": "#C8D4E3",
             "linecolor": "#C8D4E3",
             "minorgridcolor": "#C8D4E3",
             "startlinecolor": "#2a3f5f"
            },
            "baxis": {
             "endlinecolor": "#2a3f5f",
             "gridcolor": "#C8D4E3",
             "linecolor": "#C8D4E3",
             "minorgridcolor": "#C8D4E3",
             "startlinecolor": "#2a3f5f"
            },
            "type": "carpet"
           }
          ],
          "choropleth": [
           {
            "colorbar": {
             "outlinewidth": 0,
             "ticks": ""
            },
            "type": "choropleth"
           }
          ],
          "contourcarpet": [
           {
            "colorbar": {
             "outlinewidth": 0,
             "ticks": ""
            },
            "type": "contourcarpet"
           }
          ],
          "contour": [
           {
            "colorbar": {
             "outlinewidth": 0,
             "ticks": ""
            },
            "colorscale": [
             [
              0.0,
              "#0d0887"
             ],
             [
              0.1111111111111111,
              "#46039f"
             ],
             [
              0.2222222222222222,
              "#7201a8"
             ],
             [
              0.3333333333333333,
              "#9c179e"
             ],
             [
              0.4444444444444444,
              "#bd3786"
             ],
             [
              0.5555555555555556,
              "#d8576b"
             ],
             [
              0.6666666666666666,
              "#ed7953"
             ],
             [
              0.7777777777777778,
              "#fb9f3a"
             ],
             [
              0.8888888888888888,
              "#fdca26"
             ],
             [
              1.0,
              "#f0f921"
             ]
            ],
            "type": "contour"
           }
          ],
          "heatmapgl": [
           {
            "colorbar": {
             "outlinewidth": 0,
             "ticks": ""
            },
            "colorscale": [
             [
              0.0,
              "#0d0887"
             ],
             [
              0.1111111111111111,
              "#46039f"
             ],
             [
              0.2222222222222222,
              "#7201a8"
             ],
             [
              0.3333333333333333,
              "#9c179e"
             ],
             [
              0.4444444444444444,
              "#bd3786"
             ],
             [
              0.5555555555555556,
              "#d8576b"
             ],
             [
              0.6666666666666666,
              "#ed7953"
             ],
             [
              0.7777777777777778,
              "#fb9f3a"
             ],
             [
              0.8888888888888888,
              "#fdca26"
             ],
             [
              1.0,
              "#f0f921"
             ]
            ],
            "type": "heatmapgl"
           }
          ],
          "heatmap": [
           {
            "colorbar": {
             "outlinewidth": 0,
             "ticks": ""
            },
            "colorscale": [
             [
              0.0,
              "#0d0887"
             ],
             [
              0.1111111111111111,
              "#46039f"
             ],
             [
              0.2222222222222222,
              "#7201a8"
             ],
             [
              0.3333333333333333,
              "#9c179e"
             ],
             [
              0.4444444444444444,
              "#bd3786"
             ],
             [
              0.5555555555555556,
              "#d8576b"
             ],
             [
              0.6666666666666666,
              "#ed7953"
             ],
             [
              0.7777777777777778,
              "#fb9f3a"
             ],
             [
              0.8888888888888888,
              "#fdca26"
             ],
             [
              1.0,
              "#f0f921"
             ]
            ],
            "type": "heatmap"
           }
          ],
          "histogram2dcontour": [
           {
            "colorbar": {
             "outlinewidth": 0,
             "ticks": ""
            },
            "colorscale": [
             [
              0.0,
              "#0d0887"
             ],
             [
              0.1111111111111111,
              "#46039f"
             ],
             [
              0.2222222222222222,
              "#7201a8"
             ],
             [
              0.3333333333333333,
              "#9c179e"
             ],
             [
              0.4444444444444444,
              "#bd3786"
             ],
             [
              0.5555555555555556,
              "#d8576b"
             ],
             [
              0.6666666666666666,
              "#ed7953"
             ],
             [
              0.7777777777777778,
              "#fb9f3a"
             ],
             [
              0.8888888888888888,
              "#fdca26"
             ],
             [
              1.0,
              "#f0f921"
             ]
            ],
            "type": "histogram2dcontour"
           }
          ],
          "histogram2d": [
           {
            "colorbar": {
             "outlinewidth": 0,
             "ticks": ""
            },
            "colorscale": [
             [
              0.0,
              "#0d0887"
             ],
             [
              0.1111111111111111,
              "#46039f"
             ],
             [
              0.2222222222222222,
              "#7201a8"
             ],
             [
              0.3333333333333333,
              "#9c179e"
             ],
             [
              0.4444444444444444,
              "#bd3786"
             ],
             [
              0.5555555555555556,
              "#d8576b"
             ],
             [
              0.6666666666666666,
              "#ed7953"
             ],
             [
              0.7777777777777778,
              "#fb9f3a"
             ],
             [
              0.8888888888888888,
              "#fdca26"
             ],
             [
              1.0,
              "#f0f921"
             ]
            ],
            "type": "histogram2d"
           }
          ],
          "histogram": [
           {
            "marker": {
             "pattern": {
              "fillmode": "overlay",
              "size": 10,
              "solidity": 0.2
             }
            },
            "type": "histogram"
           }
          ],
          "mesh3d": [
           {
            "colorbar": {
             "outlinewidth": 0,
             "ticks": ""
            },
            "type": "mesh3d"
           }
          ],
          "parcoords": [
           {
            "line": {
             "colorbar": {
              "outlinewidth": 0,
              "ticks": ""
             }
            },
            "type": "parcoords"
           }
          ],
          "pie": [
           {
            "automargin": true,
            "type": "pie"
           }
          ],
          "scatter3d": [
           {
            "line": {
             "colorbar": {
              "outlinewidth": 0,
              "ticks": ""
             }
            },
            "marker": {
             "colorbar": {
              "outlinewidth": 0,
              "ticks": ""
             }
            },
            "type": "scatter3d"
           }
          ],
          "scattercarpet": [
           {
            "marker": {
             "colorbar": {
              "outlinewidth": 0,
              "ticks": ""
             }
            },
            "type": "scattercarpet"
           }
          ],
          "scattergeo": [
           {
            "marker": {
             "colorbar": {
              "outlinewidth": 0,
              "ticks": ""
             }
            },
            "type": "scattergeo"
           }
          ],
          "scattergl": [
           {
            "marker": {
             "colorbar": {
              "outlinewidth": 0,
              "ticks": ""
             }
            },
            "type": "scattergl"
           }
          ],
          "scattermapbox": [
           {
            "marker": {
             "colorbar": {
              "outlinewidth": 0,
              "ticks": ""
             }
            },
            "type": "scattermapbox"
           }
          ],
          "scatterpolargl": [
           {
            "marker": {
             "colorbar": {
              "outlinewidth": 0,
              "ticks": ""
             }
            },
            "type": "scatterpolargl"
           }
          ],
          "scatterpolar": [
           {
            "marker": {
             "colorbar": {
              "outlinewidth": 0,
              "ticks": ""
             }
            },
            "type": "scatterpolar"
           }
          ],
          "scatter": [
           {
            "fillpattern": {
             "fillmode": "overlay",
             "size": 10,
             "solidity": 0.2
            },
            "type": "scatter"
           }
          ],
          "scatterternary": [
           {
            "marker": {
             "colorbar": {
              "outlinewidth": 0,
              "ticks": ""
             }
            },
            "type": "scatterternary"
           }
          ],
          "surface": [
           {
            "colorbar": {
             "outlinewidth": 0,
             "ticks": ""
            },
            "colorscale": [
             [
              0.0,
              "#0d0887"
             ],
             [
              0.1111111111111111,
              "#46039f"
             ],
             [
              0.2222222222222222,
              "#7201a8"
             ],
             [
              0.3333333333333333,
              "#9c179e"
             ],
             [
              0.4444444444444444,
              "#bd3786"
             ],
             [
              0.5555555555555556,
              "#d8576b"
             ],
             [
              0.6666666666666666,
              "#ed7953"
             ],
             [
              0.7777777777777778,
              "#fb9f3a"
             ],
             [
              0.8888888888888888,
              "#fdca26"
             ],
             [
              1.0,
              "#f0f921"
             ]
            ],
            "type": "surface"
           }
          ],
          "table": [
           {
            "cells": {
             "fill": {
              "color": "#EBF0F8"
             },
             "line": {
              "color": "white"
             }
            },
            "header": {
             "fill": {
              "color": "#C8D4E3"
             },
             "line": {
              "color": "white"
             }
            },
            "type": "table"
           }
          ]
         },
         "layout": {
          "annotationdefaults": {
           "arrowcolor": "#2a3f5f",
           "arrowhead": 0,
           "arrowwidth": 1
          },
          "autotypenumbers": "strict",
          "coloraxis": {
           "colorbar": {
            "outlinewidth": 0,
            "ticks": ""
           }
          },
          "colorscale": {
           "diverging": [
            [
             0,
             "#8e0152"
            ],
            [
             0.1,
             "#c51b7d"
            ],
            [
             0.2,
             "#de77ae"
            ],
            [
             0.3,
             "#f1b6da"
            ],
            [
             0.4,
             "#fde0ef"
            ],
            [
             0.5,
             "#f7f7f7"
            ],
            [
             0.6,
             "#e6f5d0"
            ],
            [
             0.7,
             "#b8e186"
            ],
            [
             0.8,
             "#7fbc41"
            ],
            [
             0.9,
             "#4d9221"
            ],
            [
             1,
             "#276419"
            ]
           ],
           "sequential": [
            [
             0.0,
             "#0d0887"
            ],
            [
             0.1111111111111111,
             "#46039f"
            ],
            [
             0.2222222222222222,
             "#7201a8"
            ],
            [
             0.3333333333333333,
             "#9c179e"
            ],
            [
             0.4444444444444444,
             "#bd3786"
            ],
            [
             0.5555555555555556,
             "#d8576b"
            ],
            [
             0.6666666666666666,
             "#ed7953"
            ],
            [
             0.7777777777777778,
             "#fb9f3a"
            ],
            [
             0.8888888888888888,
             "#fdca26"
            ],
            [
             1.0,
             "#f0f921"
            ]
           ],
           "sequentialminus": [
            [
             0.0,
             "#0d0887"
            ],
            [
             0.1111111111111111,
             "#46039f"
            ],
            [
             0.2222222222222222,
             "#7201a8"
            ],
            [
             0.3333333333333333,
             "#9c179e"
            ],
            [
             0.4444444444444444,
             "#bd3786"
            ],
            [
             0.5555555555555556,
             "#d8576b"
            ],
            [
             0.6666666666666666,
             "#ed7953"
            ],
            [
             0.7777777777777778,
             "#fb9f3a"
            ],
            [
             0.8888888888888888,
             "#fdca26"
            ],
            [
             1.0,
             "#f0f921"
            ]
           ]
          },
          "colorway": [
           "#636efa",
           "#EF553B",
           "#00cc96",
           "#ab63fa",
           "#FFA15A",
           "#19d3f3",
           "#FF6692",
           "#B6E880",
           "#FF97FF",
           "#FECB52"
          ],
          "font": {
           "color": "#2a3f5f"
          },
          "geo": {
           "bgcolor": "white",
           "lakecolor": "white",
           "landcolor": "white",
           "showlakes": true,
           "showland": true,
           "subunitcolor": "#C8D4E3"
          },
          "hoverlabel": {
           "align": "left"
          },
          "hovermode": "closest",
          "mapbox": {
           "style": "light"
          },
          "paper_bgcolor": "white",
          "plot_bgcolor": "white",
          "polar": {
           "angularaxis": {
            "gridcolor": "#EBF0F8",
            "linecolor": "#EBF0F8",
            "ticks": ""
           },
           "bgcolor": "white",
           "radialaxis": {
            "gridcolor": "#EBF0F8",
            "linecolor": "#EBF0F8",
            "ticks": ""
           }
          },
          "scene": {
           "xaxis": {
            "backgroundcolor": "white",
            "gridcolor": "#DFE8F3",
            "gridwidth": 2,
            "linecolor": "#EBF0F8",
            "showbackground": true,
            "ticks": "",
            "zerolinecolor": "#EBF0F8"
           },
           "yaxis": {
            "backgroundcolor": "white",
            "gridcolor": "#DFE8F3",
            "gridwidth": 2,
            "linecolor": "#EBF0F8",
            "showbackground": true,
            "ticks": "",
            "zerolinecolor": "#EBF0F8"
           },
           "zaxis": {
            "backgroundcolor": "white",
            "gridcolor": "#DFE8F3",
            "gridwidth": 2,
            "linecolor": "#EBF0F8",
            "showbackground": true,
            "ticks": "",
            "zerolinecolor": "#EBF0F8"
           }
          },
          "shapedefaults": {
           "line": {
            "color": "#2a3f5f"
           }
          },
          "ternary": {
           "aaxis": {
            "gridcolor": "#DFE8F3",
            "linecolor": "#A2B1C6",
            "ticks": ""
           },
           "baxis": {
            "gridcolor": "#DFE8F3",
            "linecolor": "#A2B1C6",
            "ticks": ""
           },
           "bgcolor": "white",
           "caxis": {
            "gridcolor": "#DFE8F3",
            "linecolor": "#A2B1C6",
            "ticks": ""
           }
          },
          "title": {
           "x": 0.05
          },
          "xaxis": {
           "automargin": true,
           "gridcolor": "#EBF0F8",
           "linecolor": "#EBF0F8",
           "ticks": "",
           "title": {
            "standoff": 15
           },
           "zerolinecolor": "#EBF0F8",
           "zerolinewidth": 2
          },
          "yaxis": {
           "automargin": true,
           "gridcolor": "#EBF0F8",
           "linecolor": "#EBF0F8",
           "ticks": "",
           "title": {
            "standoff": 15
           },
           "zerolinecolor": "#EBF0F8",
           "zerolinewidth": 2
          }
         }
        },
        "xaxis": {
         "anchor": "y",
         "domain": [
          0.0,
          1.0
         ],
         "title": {
          "text": "Company stock ticker"
         }
        },
        "yaxis": {
         "anchor": "x",
         "domain": [
          0.0,
          1.0
         ],
         "title": {
          "text": "Return rate (%)"
         },
         "tickformat": ".0%"
        },
        "legend": {
         "title": {
          "text": "Return Type"
         },
         "tracegroupgap": 0
        },
        "title": {
         "text": "Comparison of average-returns (last 25 years) vs actual-returns (next test year)"
        },
        "barmode": "group",
        "margin": {
         "l": 20,
         "r": 20,
         "t": 20,
         "b": 20
        },
        "showlegend": false
       },
       "config": {
        "plotlyServerURL": "https://plot.ly"
       }
      },
      "text/html": [
       "<div>                            <div id=\"f7c99130-99d1-47be-82c2-1d82cce3f721\" class=\"plotly-graph-div\" style=\"height:525px; width:100%;\"></div>            <script type=\"text/javascript\">                require([\"plotly\"], function(Plotly) {                    window.PLOTLYENV=window.PLOTLYENV || {};                                    if (document.getElementById(\"f7c99130-99d1-47be-82c2-1d82cce3f721\")) {                    Plotly.newPlot(                        \"f7c99130-99d1-47be-82c2-1d82cce3f721\",                        [{\"alignmentgroup\":\"True\",\"hovertemplate\":\"Return Type=Average Return (%)\\u003cbr\\u003eTicker=%{x}\\u003cbr\\u003eReturn (%)=%{y}\\u003cextra\\u003e\\u003c\\u002fextra\\u003e\",\"legendgroup\":\"Average Return (%)\",\"marker\":{\"color\":\"#636efa\",\"pattern\":{\"shape\":\"\"}},\"name\":\"Average Return (%)\",\"offsetgroup\":\"Average Return (%)\",\"orientation\":\"v\",\"showlegend\":true,\"textposition\":\"auto\",\"texttemplate\":\"%{y}\",\"x\":[\"NFLX\",\"TPL\",\"FCN\",\"2124.T\",\"ICLR\",\"BLK\",\"LCII\",\"SKT\",\"ESCA\",\"DXLG\"],\"xaxis\":\"x\",\"y\":[0.23,0.281,0.2738,0.2957,0.2102,0.3572,0.0523,0.2607,0.2669,0.2157],\"yaxis\":\"y\",\"type\":\"bar\"},{\"alignmentgroup\":\"True\",\"hovertemplate\":\"Return Type=Actual Return (Next Year) (%)\\u003cbr\\u003eTicker=%{x}\\u003cbr\\u003eReturn (%)=%{y}\\u003cextra\\u003e\\u003c\\u002fextra\\u003e\",\"legendgroup\":\"Actual Return (Next Year) (%)\",\"marker\":{\"color\":\"#EF553B\",\"pattern\":{\"shape\":\"\"}},\"name\":\"Actual Return (Next Year) (%)\",\"offsetgroup\":\"Actual Return (Next Year) (%)\",\"orientation\":\"v\",\"showlegend\":true,\"textposition\":\"auto\",\"texttemplate\":\"%{y}\",\"x\":[\"NFLX\",\"TPL\",\"FCN\",\"2124.T\",\"ICLR\",\"BLK\",\"LCII\",\"SKT\",\"ESCA\",\"DXLG\"],\"xaxis\":\"x\",\"y\":[-0.0391,-0.2411,0.6315,0.0269,0.0763,0.1343,0.4391,-0.226,0.0262,-0.5171],\"yaxis\":\"y\",\"type\":\"bar\"}],                        {\"template\":{\"data\":{\"barpolar\":[{\"marker\":{\"line\":{\"color\":\"white\",\"width\":0.5},\"pattern\":{\"fillmode\":\"overlay\",\"size\":10,\"solidity\":0.2}},\"type\":\"barpolar\"}],\"bar\":[{\"error_x\":{\"color\":\"#2a3f5f\"},\"error_y\":{\"color\":\"#2a3f5f\"},\"marker\":{\"line\":{\"color\":\"white\",\"width\":0.5},\"pattern\":{\"fillmode\":\"overlay\",\"size\":10,\"solidity\":0.2}},\"type\":\"bar\"}],\"carpet\":[{\"aaxis\":{\"endlinecolor\":\"#2a3f5f\",\"gridcolor\":\"#C8D4E3\",\"linecolor\":\"#C8D4E3\",\"minorgridcolor\":\"#C8D4E3\",\"startlinecolor\":\"#2a3f5f\"},\"baxis\":{\"endlinecolor\":\"#2a3f5f\",\"gridcolor\":\"#C8D4E3\",\"linecolor\":\"#C8D4E3\",\"minorgridcolor\":\"#C8D4E3\",\"startlinecolor\":\"#2a3f5f\"},\"type\":\"carpet\"}],\"choropleth\":[{\"colorbar\":{\"outlinewidth\":0,\"ticks\":\"\"},\"type\":\"choropleth\"}],\"contourcarpet\":[{\"colorbar\":{\"outlinewidth\":0,\"ticks\":\"\"},\"type\":\"contourcarpet\"}],\"contour\":[{\"colorbar\":{\"outlinewidth\":0,\"ticks\":\"\"},\"colorscale\":[[0.0,\"#0d0887\"],[0.1111111111111111,\"#46039f\"],[0.2222222222222222,\"#7201a8\"],[0.3333333333333333,\"#9c179e\"],[0.4444444444444444,\"#bd3786\"],[0.5555555555555556,\"#d8576b\"],[0.6666666666666666,\"#ed7953\"],[0.7777777777777778,\"#fb9f3a\"],[0.8888888888888888,\"#fdca26\"],[1.0,\"#f0f921\"]],\"type\":\"contour\"}],\"heatmapgl\":[{\"colorbar\":{\"outlinewidth\":0,\"ticks\":\"\"},\"colorscale\":[[0.0,\"#0d0887\"],[0.1111111111111111,\"#46039f\"],[0.2222222222222222,\"#7201a8\"],[0.3333333333333333,\"#9c179e\"],[0.4444444444444444,\"#bd3786\"],[0.5555555555555556,\"#d8576b\"],[0.6666666666666666,\"#ed7953\"],[0.7777777777777778,\"#fb9f3a\"],[0.8888888888888888,\"#fdca26\"],[1.0,\"#f0f921\"]],\"type\":\"heatmapgl\"}],\"heatmap\":[{\"colorbar\":{\"outlinewidth\":0,\"ticks\":\"\"},\"colorscale\":[[0.0,\"#0d0887\"],[0.1111111111111111,\"#46039f\"],[0.2222222222222222,\"#7201a8\"],[0.3333333333333333,\"#9c179e\"],[0.4444444444444444,\"#bd3786\"],[0.5555555555555556,\"#d8576b\"],[0.6666666666666666,\"#ed7953\"],[0.7777777777777778,\"#fb9f3a\"],[0.8888888888888888,\"#fdca26\"],[1.0,\"#f0f921\"]],\"type\":\"heatmap\"}],\"histogram2dcontour\":[{\"colorbar\":{\"outlinewidth\":0,\"ticks\":\"\"},\"colorscale\":[[0.0,\"#0d0887\"],[0.1111111111111111,\"#46039f\"],[0.2222222222222222,\"#7201a8\"],[0.3333333333333333,\"#9c179e\"],[0.4444444444444444,\"#bd3786\"],[0.5555555555555556,\"#d8576b\"],[0.6666666666666666,\"#ed7953\"],[0.7777777777777778,\"#fb9f3a\"],[0.8888888888888888,\"#fdca26\"],[1.0,\"#f0f921\"]],\"type\":\"histogram2dcontour\"}],\"histogram2d\":[{\"colorbar\":{\"outlinewidth\":0,\"ticks\":\"\"},\"colorscale\":[[0.0,\"#0d0887\"],[0.1111111111111111,\"#46039f\"],[0.2222222222222222,\"#7201a8\"],[0.3333333333333333,\"#9c179e\"],[0.4444444444444444,\"#bd3786\"],[0.5555555555555556,\"#d8576b\"],[0.6666666666666666,\"#ed7953\"],[0.7777777777777778,\"#fb9f3a\"],[0.8888888888888888,\"#fdca26\"],[1.0,\"#f0f921\"]],\"type\":\"histogram2d\"}],\"histogram\":[{\"marker\":{\"pattern\":{\"fillmode\":\"overlay\",\"size\":10,\"solidity\":0.2}},\"type\":\"histogram\"}],\"mesh3d\":[{\"colorbar\":{\"outlinewidth\":0,\"ticks\":\"\"},\"type\":\"mesh3d\"}],\"parcoords\":[{\"line\":{\"colorbar\":{\"outlinewidth\":0,\"ticks\":\"\"}},\"type\":\"parcoords\"}],\"pie\":[{\"automargin\":true,\"type\":\"pie\"}],\"scatter3d\":[{\"line\":{\"colorbar\":{\"outlinewidth\":0,\"ticks\":\"\"}},\"marker\":{\"colorbar\":{\"outlinewidth\":0,\"ticks\":\"\"}},\"type\":\"scatter3d\"}],\"scattercarpet\":[{\"marker\":{\"colorbar\":{\"outlinewidth\":0,\"ticks\":\"\"}},\"type\":\"scattercarpet\"}],\"scattergeo\":[{\"marker\":{\"colorbar\":{\"outlinewidth\":0,\"ticks\":\"\"}},\"type\":\"scattergeo\"}],\"scattergl\":[{\"marker\":{\"colorbar\":{\"outlinewidth\":0,\"ticks\":\"\"}},\"type\":\"scattergl\"}],\"scattermapbox\":[{\"marker\":{\"colorbar\":{\"outlinewidth\":0,\"ticks\":\"\"}},\"type\":\"scattermapbox\"}],\"scatterpolargl\":[{\"marker\":{\"colorbar\":{\"outlinewidth\":0,\"ticks\":\"\"}},\"type\":\"scatterpolargl\"}],\"scatterpolar\":[{\"marker\":{\"colorbar\":{\"outlinewidth\":0,\"ticks\":\"\"}},\"type\":\"scatterpolar\"}],\"scatter\":[{\"fillpattern\":{\"fillmode\":\"overlay\",\"size\":10,\"solidity\":0.2},\"type\":\"scatter\"}],\"scatterternary\":[{\"marker\":{\"colorbar\":{\"outlinewidth\":0,\"ticks\":\"\"}},\"type\":\"scatterternary\"}],\"surface\":[{\"colorbar\":{\"outlinewidth\":0,\"ticks\":\"\"},\"colorscale\":[[0.0,\"#0d0887\"],[0.1111111111111111,\"#46039f\"],[0.2222222222222222,\"#7201a8\"],[0.3333333333333333,\"#9c179e\"],[0.4444444444444444,\"#bd3786\"],[0.5555555555555556,\"#d8576b\"],[0.6666666666666666,\"#ed7953\"],[0.7777777777777778,\"#fb9f3a\"],[0.8888888888888888,\"#fdca26\"],[1.0,\"#f0f921\"]],\"type\":\"surface\"}],\"table\":[{\"cells\":{\"fill\":{\"color\":\"#EBF0F8\"},\"line\":{\"color\":\"white\"}},\"header\":{\"fill\":{\"color\":\"#C8D4E3\"},\"line\":{\"color\":\"white\"}},\"type\":\"table\"}]},\"layout\":{\"annotationdefaults\":{\"arrowcolor\":\"#2a3f5f\",\"arrowhead\":0,\"arrowwidth\":1},\"autotypenumbers\":\"strict\",\"coloraxis\":{\"colorbar\":{\"outlinewidth\":0,\"ticks\":\"\"}},\"colorscale\":{\"diverging\":[[0,\"#8e0152\"],[0.1,\"#c51b7d\"],[0.2,\"#de77ae\"],[0.3,\"#f1b6da\"],[0.4,\"#fde0ef\"],[0.5,\"#f7f7f7\"],[0.6,\"#e6f5d0\"],[0.7,\"#b8e186\"],[0.8,\"#7fbc41\"],[0.9,\"#4d9221\"],[1,\"#276419\"]],\"sequential\":[[0.0,\"#0d0887\"],[0.1111111111111111,\"#46039f\"],[0.2222222222222222,\"#7201a8\"],[0.3333333333333333,\"#9c179e\"],[0.4444444444444444,\"#bd3786\"],[0.5555555555555556,\"#d8576b\"],[0.6666666666666666,\"#ed7953\"],[0.7777777777777778,\"#fb9f3a\"],[0.8888888888888888,\"#fdca26\"],[1.0,\"#f0f921\"]],\"sequentialminus\":[[0.0,\"#0d0887\"],[0.1111111111111111,\"#46039f\"],[0.2222222222222222,\"#7201a8\"],[0.3333333333333333,\"#9c179e\"],[0.4444444444444444,\"#bd3786\"],[0.5555555555555556,\"#d8576b\"],[0.6666666666666666,\"#ed7953\"],[0.7777777777777778,\"#fb9f3a\"],[0.8888888888888888,\"#fdca26\"],[1.0,\"#f0f921\"]]},\"colorway\":[\"#636efa\",\"#EF553B\",\"#00cc96\",\"#ab63fa\",\"#FFA15A\",\"#19d3f3\",\"#FF6692\",\"#B6E880\",\"#FF97FF\",\"#FECB52\"],\"font\":{\"color\":\"#2a3f5f\"},\"geo\":{\"bgcolor\":\"white\",\"lakecolor\":\"white\",\"landcolor\":\"white\",\"showlakes\":true,\"showland\":true,\"subunitcolor\":\"#C8D4E3\"},\"hoverlabel\":{\"align\":\"left\"},\"hovermode\":\"closest\",\"mapbox\":{\"style\":\"light\"},\"paper_bgcolor\":\"white\",\"plot_bgcolor\":\"white\",\"polar\":{\"angularaxis\":{\"gridcolor\":\"#EBF0F8\",\"linecolor\":\"#EBF0F8\",\"ticks\":\"\"},\"bgcolor\":\"white\",\"radialaxis\":{\"gridcolor\":\"#EBF0F8\",\"linecolor\":\"#EBF0F8\",\"ticks\":\"\"}},\"scene\":{\"xaxis\":{\"backgroundcolor\":\"white\",\"gridcolor\":\"#DFE8F3\",\"gridwidth\":2,\"linecolor\":\"#EBF0F8\",\"showbackground\":true,\"ticks\":\"\",\"zerolinecolor\":\"#EBF0F8\"},\"yaxis\":{\"backgroundcolor\":\"white\",\"gridcolor\":\"#DFE8F3\",\"gridwidth\":2,\"linecolor\":\"#EBF0F8\",\"showbackground\":true,\"ticks\":\"\",\"zerolinecolor\":\"#EBF0F8\"},\"zaxis\":{\"backgroundcolor\":\"white\",\"gridcolor\":\"#DFE8F3\",\"gridwidth\":2,\"linecolor\":\"#EBF0F8\",\"showbackground\":true,\"ticks\":\"\",\"zerolinecolor\":\"#EBF0F8\"}},\"shapedefaults\":{\"line\":{\"color\":\"#2a3f5f\"}},\"ternary\":{\"aaxis\":{\"gridcolor\":\"#DFE8F3\",\"linecolor\":\"#A2B1C6\",\"ticks\":\"\"},\"baxis\":{\"gridcolor\":\"#DFE8F3\",\"linecolor\":\"#A2B1C6\",\"ticks\":\"\"},\"bgcolor\":\"white\",\"caxis\":{\"gridcolor\":\"#DFE8F3\",\"linecolor\":\"#A2B1C6\",\"ticks\":\"\"}},\"title\":{\"x\":0.05},\"xaxis\":{\"automargin\":true,\"gridcolor\":\"#EBF0F8\",\"linecolor\":\"#EBF0F8\",\"ticks\":\"\",\"title\":{\"standoff\":15},\"zerolinecolor\":\"#EBF0F8\",\"zerolinewidth\":2},\"yaxis\":{\"automargin\":true,\"gridcolor\":\"#EBF0F8\",\"linecolor\":\"#EBF0F8\",\"ticks\":\"\",\"title\":{\"standoff\":15},\"zerolinecolor\":\"#EBF0F8\",\"zerolinewidth\":2}}},\"xaxis\":{\"anchor\":\"y\",\"domain\":[0.0,1.0],\"title\":{\"text\":\"Company stock ticker\"}},\"yaxis\":{\"anchor\":\"x\",\"domain\":[0.0,1.0],\"title\":{\"text\":\"Return rate (%)\"},\"tickformat\":\".0%\"},\"legend\":{\"title\":{\"text\":\"Return Type\"},\"tracegroupgap\":0},\"title\":{\"text\":\"Comparison of average-returns (last 25 years) vs actual-returns (next test year)\"},\"barmode\":\"group\",\"margin\":{\"l\":20,\"r\":20,\"t\":20,\"b\":20},\"showlegend\":false},                        {\"responsive\": true}                    ).then(function(){\n",
       "                            \n",
       "var gd = document.getElementById('f7c99130-99d1-47be-82c2-1d82cce3f721');\n",
       "var x = new MutationObserver(function (mutations, observer) {{\n",
       "        var display = window.getComputedStyle(gd).display;\n",
       "        if (!display || display === 'none') {{\n",
       "            console.log([gd, 'removed!']);\n",
       "            Plotly.purge(gd);\n",
       "            observer.disconnect();\n",
       "        }}\n",
       "}});\n",
       "\n",
       "// Listen for the removal of the full notebook cells\n",
       "var notebookContainer = gd.closest('#notebook-container');\n",
       "if (notebookContainer) {{\n",
       "    x.observe(notebookContainer, {childList: true});\n",
       "}}\n",
       "\n",
       "// Listen for the clearing of the current output cell\n",
       "var outputEl = gd.closest('.output');\n",
       "if (outputEl) {{\n",
       "    x.observe(outputEl, {childList: true});\n",
       "}}\n",
       "\n",
       "                        })                };                });            </script>        </div>"
      ]
     },
     "metadata": {},
     "output_type": "display_data"
    }
   ],
   "execution_count": 32
  }
 ],
 "metadata": {
  "kernelspec": {
   "display_name": "Python 3 (ipykernel)",
   "language": "python",
   "name": "python3"
  },
  "language_info": {
   "codemirror_mode": {
    "name": "ipython",
    "version": 3
   },
   "file_extension": ".py",
   "mimetype": "text/x-python",
   "name": "python",
   "nbconvert_exporter": "python",
   "pygments_lexer": "ipython3",
   "version": "3.9.18"
  }
 },
 "nbformat": 4,
 "nbformat_minor": 5
}
