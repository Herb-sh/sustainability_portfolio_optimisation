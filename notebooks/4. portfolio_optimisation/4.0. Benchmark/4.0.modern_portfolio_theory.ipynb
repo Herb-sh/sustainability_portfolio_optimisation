{
 "cells": [
  {
   "metadata": {
    "ExecuteTime": {
     "end_time": "2025-05-31T19:26:38.919594Z",
     "start_time": "2025-05-31T19:26:38.900885Z"
    }
   },
   "cell_type": "code",
   "source": [
    "import numpy as np\n",
    "import pandas as pd\n",
    "#\n",
    "from pypfopt import EfficientFrontier, EfficientSemivariance, plotting\n",
    "#\n",
    "import importlib\n",
    "import utilities.variables as variables\n",
    "import utilities.utility as utility\n",
    "import utilities.plots as plots\n",
    "import utilities.mpt_utils as mpt_utils\n",
    "importlib.reload(variables)\n",
    "importlib.reload(utility)\n",
    "importlib.reload(plots)\n",
    "importlib.reload(mpt_utils)"
   ],
   "id": "588eaf47cb6c78b1",
   "outputs": [
    {
     "data": {
      "text/plain": [
       "<module 'utilities.mpt_utils' from '/Users/herbishtini/Documents/UNI/Master Thesis/sustainability_portfolio_optimisation/utilities/mpt_utils.py'>"
      ]
     },
     "execution_count": 10,
     "metadata": {},
     "output_type": "execute_result"
    }
   ],
   "execution_count": 10
  },
  {
   "metadata": {
    "ExecuteTime": {
     "end_time": "2025-05-31T19:26:39.165738Z",
     "start_time": "2025-05-31T19:26:38.938332Z"
    }
   },
   "cell_type": "code",
   "source": [
    "# Read in price data\n",
    "df = pd.read_csv('../../../data/df_monthly_prices_complete.csv', index_col='Date')\n",
    "df_pct = pd.read_csv('../../../data/df_monthly_returns_complete.csv', index_col='Date')\n",
    "df_overview = pd.read_csv('../../../data/df_overview.csv', index_col=0)"
   ],
   "id": "52d75bbd65bdf3a2",
   "outputs": [],
   "execution_count": 11
  },
  {
   "metadata": {},
   "cell_type": "markdown",
   "source": "### Train & Test split",
   "id": "27bd467f160f51c1"
  },
  {
   "metadata": {
    "ExecuteTime": {
     "end_time": "2025-05-31T19:26:39.234866Z",
     "start_time": "2025-05-31T19:26:39.231745Z"
    }
   },
   "cell_type": "code",
   "source": [
    "# actual values\n",
    "df_train = df.head(int(variables.ALL_YEARS_NR - variables.TEST_YEARS_NR) * 12)  \n",
    "df_test = df.tail(variables.TEST_YEARS_NR * 12)\n",
    "# Percentage based values\n",
    "df_pct_train = df_pct.head(int(variables.ALL_YEARS_NR - variables.TEST_YEARS_NR) * 12)\n",
    "df_pct_test = df_pct.tail(variables.TEST_YEARS_NR * 12)"
   ],
   "id": "73784d3e5e78448d",
   "outputs": [],
   "execution_count": 12
  },
  {
   "metadata": {
    "ExecuteTime": {
     "end_time": "2025-05-31T19:26:39.384936Z",
     "start_time": "2025-05-31T19:26:39.284587Z"
    }
   },
   "cell_type": "code",
   "source": [
    "df_spread = utility.evenly_spaced_dataframe(df, 200)\n",
    "df_train_spread = utility.evenly_spaced_dataframe(df_train, 200)"
   ],
   "id": "d033f3c46a25fc69",
   "outputs": [],
   "execution_count": 13
  },
  {
   "metadata": {},
   "cell_type": "markdown",
   "source": "### Discrete allocation 5 years",
   "id": "b842280882244f71"
  },
  {
   "metadata": {
    "ExecuteTime": {
     "end_time": "2025-05-31T19:26:39.504659Z",
     "start_time": "2025-05-31T19:26:39.493610Z"
    }
   },
   "cell_type": "code",
   "source": [
    "importlib.reload(mpt_utils)\n",
    "\n",
    "df_5y = df_train.tail(variables.FIVE_YEARS_NR * 12)\n",
    "df_5y = df_5y - 1\n",
    "df_5y.head(3)"
   ],
   "id": "aaebab6b4e6e98e9",
   "outputs": [
    {
     "data": {
      "text/plain": [
       "                 RS1.L      KE    TEG.DE     LEG.DE        SCS        HNI  \\\n",
       "Date                                                                        \n",
       "2014-10-01  172.301132  12.554  5.114511  40.019081  11.353690  33.097343   \n",
       "2014-11-01  157.682632  14.084  4.951362  43.469009  11.296547  33.309315   \n",
       "2014-12-01  161.848511  11.020  5.303214  45.190247  11.598351  36.516300   \n",
       "\n",
       "                  AVT      ACCO     VNA.DE       7912.T  ...     DEQ.DE  \\\n",
       "Date                                                     ...              \n",
       "2014-10-01  34.234055  5.293108   9.878404  1725.330078  ...  18.287809   \n",
       "2014-11-01  34.673962  5.698378  11.210503  1663.105591  ...  18.260771   \n",
       "2014-12-01  34.175232  5.889542  12.257318  1738.093872  ...  18.574438   \n",
       "\n",
       "              KIDS  HALO       MATW       9842.T   KVHI      MOON.L   NEO  \\\n",
       "Date                                                                        \n",
       "2014-10-01  16.758  8.62  36.472355  1013.372803  11.92  182.240001  4.65   \n",
       "2014-11-01  16.758  7.78  36.464222  1006.377136  11.22  182.240001  3.24   \n",
       "2014-12-01  16.758  8.65  38.688763   961.522583  11.65  182.240001  3.17   \n",
       "\n",
       "                6055.T        UNP  \n",
       "Date                               \n",
       "2014-10-01  232.087448  92.303566  \n",
       "2014-11-01  271.802368  92.559959  \n",
       "2014-12-01  267.300659  94.839462  \n",
       "\n",
       "[3 rows x 1653 columns]"
      ],
      "text/html": [
       "<div>\n",
       "<style scoped>\n",
       "    .dataframe tbody tr th:only-of-type {\n",
       "        vertical-align: middle;\n",
       "    }\n",
       "\n",
       "    .dataframe tbody tr th {\n",
       "        vertical-align: top;\n",
       "    }\n",
       "\n",
       "    .dataframe thead th {\n",
       "        text-align: right;\n",
       "    }\n",
       "</style>\n",
       "<table border=\"1\" class=\"dataframe\">\n",
       "  <thead>\n",
       "    <tr style=\"text-align: right;\">\n",
       "      <th></th>\n",
       "      <th>RS1.L</th>\n",
       "      <th>KE</th>\n",
       "      <th>TEG.DE</th>\n",
       "      <th>LEG.DE</th>\n",
       "      <th>SCS</th>\n",
       "      <th>HNI</th>\n",
       "      <th>AVT</th>\n",
       "      <th>ACCO</th>\n",
       "      <th>VNA.DE</th>\n",
       "      <th>7912.T</th>\n",
       "      <th>...</th>\n",
       "      <th>DEQ.DE</th>\n",
       "      <th>KIDS</th>\n",
       "      <th>HALO</th>\n",
       "      <th>MATW</th>\n",
       "      <th>9842.T</th>\n",
       "      <th>KVHI</th>\n",
       "      <th>MOON.L</th>\n",
       "      <th>NEO</th>\n",
       "      <th>6055.T</th>\n",
       "      <th>UNP</th>\n",
       "    </tr>\n",
       "    <tr>\n",
       "      <th>Date</th>\n",
       "      <th></th>\n",
       "      <th></th>\n",
       "      <th></th>\n",
       "      <th></th>\n",
       "      <th></th>\n",
       "      <th></th>\n",
       "      <th></th>\n",
       "      <th></th>\n",
       "      <th></th>\n",
       "      <th></th>\n",
       "      <th></th>\n",
       "      <th></th>\n",
       "      <th></th>\n",
       "      <th></th>\n",
       "      <th></th>\n",
       "      <th></th>\n",
       "      <th></th>\n",
       "      <th></th>\n",
       "      <th></th>\n",
       "      <th></th>\n",
       "      <th></th>\n",
       "    </tr>\n",
       "  </thead>\n",
       "  <tbody>\n",
       "    <tr>\n",
       "      <th>2014-10-01</th>\n",
       "      <td>172.301132</td>\n",
       "      <td>12.554</td>\n",
       "      <td>5.114511</td>\n",
       "      <td>40.019081</td>\n",
       "      <td>11.353690</td>\n",
       "      <td>33.097343</td>\n",
       "      <td>34.234055</td>\n",
       "      <td>5.293108</td>\n",
       "      <td>9.878404</td>\n",
       "      <td>1725.330078</td>\n",
       "      <td>...</td>\n",
       "      <td>18.287809</td>\n",
       "      <td>16.758</td>\n",
       "      <td>8.62</td>\n",
       "      <td>36.472355</td>\n",
       "      <td>1013.372803</td>\n",
       "      <td>11.92</td>\n",
       "      <td>182.240001</td>\n",
       "      <td>4.65</td>\n",
       "      <td>232.087448</td>\n",
       "      <td>92.303566</td>\n",
       "    </tr>\n",
       "    <tr>\n",
       "      <th>2014-11-01</th>\n",
       "      <td>157.682632</td>\n",
       "      <td>14.084</td>\n",
       "      <td>4.951362</td>\n",
       "      <td>43.469009</td>\n",
       "      <td>11.296547</td>\n",
       "      <td>33.309315</td>\n",
       "      <td>34.673962</td>\n",
       "      <td>5.698378</td>\n",
       "      <td>11.210503</td>\n",
       "      <td>1663.105591</td>\n",
       "      <td>...</td>\n",
       "      <td>18.260771</td>\n",
       "      <td>16.758</td>\n",
       "      <td>7.78</td>\n",
       "      <td>36.464222</td>\n",
       "      <td>1006.377136</td>\n",
       "      <td>11.22</td>\n",
       "      <td>182.240001</td>\n",
       "      <td>3.24</td>\n",
       "      <td>271.802368</td>\n",
       "      <td>92.559959</td>\n",
       "    </tr>\n",
       "    <tr>\n",
       "      <th>2014-12-01</th>\n",
       "      <td>161.848511</td>\n",
       "      <td>11.020</td>\n",
       "      <td>5.303214</td>\n",
       "      <td>45.190247</td>\n",
       "      <td>11.598351</td>\n",
       "      <td>36.516300</td>\n",
       "      <td>34.175232</td>\n",
       "      <td>5.889542</td>\n",
       "      <td>12.257318</td>\n",
       "      <td>1738.093872</td>\n",
       "      <td>...</td>\n",
       "      <td>18.574438</td>\n",
       "      <td>16.758</td>\n",
       "      <td>8.65</td>\n",
       "      <td>38.688763</td>\n",
       "      <td>961.522583</td>\n",
       "      <td>11.65</td>\n",
       "      <td>182.240001</td>\n",
       "      <td>3.17</td>\n",
       "      <td>267.300659</td>\n",
       "      <td>94.839462</td>\n",
       "    </tr>\n",
       "  </tbody>\n",
       "</table>\n",
       "<p>3 rows × 1653 columns</p>\n",
       "</div>"
      ]
     },
     "execution_count": 14,
     "metadata": {},
     "output_type": "execute_result"
    }
   ],
   "execution_count": 14
  },
  {
   "metadata": {
    "ExecuteTime": {
     "end_time": "2025-05-31T19:26:43.369429Z",
     "start_time": "2025-05-31T19:26:39.639101Z"
    }
   },
   "cell_type": "code",
   "source": [
    "importlib.reload(mpt_utils)\n",
    "#\n",
    "weights_5y, mu_5y, S_5y, weights_all_5y = mpt_utils.benchmark_portfolio_and_plot(df_5y)"
   ],
   "id": "2f1ae1f3d3fb3445",
   "outputs": [
    {
     "name": "stderr",
     "output_type": "stream",
     "text": [
      "/Users/herbishtini/anaconda3/envs/portfolio_optimisation/lib/python3.11/site-packages/pypfopt/expected_returns.py:36: UserWarning:\n",
      "\n",
      "Some returns are infinite. Please check your price data.\n",
      "\n",
      "/Users/herbishtini/anaconda3/envs/portfolio_optimisation/lib/python3.11/site-packages/numpy/core/_methods.py:53: RuntimeWarning:\n",
      "\n",
      "invalid value encountered in reduce\n",
      "\n"
     ]
    },
    {
     "name": "stdout",
     "output_type": "stream",
     "text": [
      "Expected annual return: 34.0%\n",
      "Annual volatility: 4.2%\n",
      "Sharpe Ratio: 7.54\n",
      "-- Allocation --\n",
      "{'GAW.L': 1, '7575.T': 1, 'SLP': 5, 'CENT': 8, 'SRT3.DE': 1, 'TPE.DE': 17, '4816.T': 1, 'TAL': 5, 'ADUS': 2, 'PAR': 6, 'MKTX': 1, 'AOF.DE': 4, 'BURL': 1, 'NSSC': 11, 'VAR1.DE': 1, 'MRL.L': 1, 'NSP': 1, 'ITI': 20, 'FTDR': 1, 'KIDS': 2, 'ADC': 1, 'ELS': 1, 'FLGT': 8, 'SRE.L': 1, 'WTRG': 1, 'AVGO': 2, 'AG1.DE': 4, 'BVB.DE': 7, 'AUDC': 3, 'NXU.DE': 1, 'MPX': 5, 'EBOX.L': -204, 'ROL': 2, 'COUR': 2, 'APLD': 10, 'EBF': 2, 'ECV.DE': 5, 'ONTF': 2, 'FRPH': 1, 'HFFG': 1, 'MITK': 1}\n",
      "-- Weights Percentage --\n",
      "{'NSP': 0.0288, 'FTDR': 0.0217, 'GAW.L': 0.0474, 'MKTX': 0.0361, 'ELS': 0.0203, 'MRL.L': 0.0308, 'CENT': 0.0452, 'ITI': 0.0239, 'ADC': 0.0205, 'VAR1.DE': 0.0312, 'NSSC': 0.0315, 'BURL': 0.0332, 'TPE.DE': 0.0444, 'SRT3.DE': 0.0449, 'PAR': 0.0376, 'AOF.DE': 0.0349, 'SLP': 0.0459, '4816.T': 0.0413, '7575.T': 0.0461, 'TAL': 0.0413, 'ADUS': 0.0396, 'KIDS': 0.021, 'Other(19)': 0.2324}\n"
     ]
    },
    {
     "data": {
      "application/vnd.plotly.v1+json": {
       "data": [
        {
         "hole": 0.3,
         "insidetextorientation": "radial",
         "labels": [
          "NSP",
          "FTDR",
          "GAW.L",
          "MKTX",
          "ELS",
          "MRL.L",
          "CENT",
          "ITI",
          "ADC",
          "VAR1.DE",
          "NSSC",
          "BURL",
          "TPE.DE",
          "SRT3.DE",
          "PAR",
          "AOF.DE",
          "SLP",
          "4816.T",
          "7575.T",
          "TAL",
          "ADUS",
          "KIDS",
          "Other(19)"
         ],
         "textinfo": "label+percent",
         "textposition": "inside",
         "values": [
          0.0118,
          0.0089,
          0.0194,
          0.0148,
          0.0083,
          0.0126,
          0.0185,
          0.0098,
          0.0084,
          0.0128,
          0.0129,
          0.0136,
          0.0182,
          0.0184,
          0.0154,
          0.0143,
          0.0188,
          0.0169,
          0.0189,
          0.0169,
          0.0162,
          0.0086,
          0.0952
         ],
         "type": "pie"
        }
       ],
       "layout": {
        "template": {
         "data": {
          "histogram2dcontour": [
           {
            "type": "histogram2dcontour",
            "colorbar": {
             "outlinewidth": 0,
             "ticks": ""
            },
            "colorscale": [
             [
              0.0,
              "#0d0887"
             ],
             [
              0.1111111111111111,
              "#46039f"
             ],
             [
              0.2222222222222222,
              "#7201a8"
             ],
             [
              0.3333333333333333,
              "#9c179e"
             ],
             [
              0.4444444444444444,
              "#bd3786"
             ],
             [
              0.5555555555555556,
              "#d8576b"
             ],
             [
              0.6666666666666666,
              "#ed7953"
             ],
             [
              0.7777777777777778,
              "#fb9f3a"
             ],
             [
              0.8888888888888888,
              "#fdca26"
             ],
             [
              1.0,
              "#f0f921"
             ]
            ]
           }
          ],
          "choropleth": [
           {
            "type": "choropleth",
            "colorbar": {
             "outlinewidth": 0,
             "ticks": ""
            }
           }
          ],
          "histogram2d": [
           {
            "type": "histogram2d",
            "colorbar": {
             "outlinewidth": 0,
             "ticks": ""
            },
            "colorscale": [
             [
              0.0,
              "#0d0887"
             ],
             [
              0.1111111111111111,
              "#46039f"
             ],
             [
              0.2222222222222222,
              "#7201a8"
             ],
             [
              0.3333333333333333,
              "#9c179e"
             ],
             [
              0.4444444444444444,
              "#bd3786"
             ],
             [
              0.5555555555555556,
              "#d8576b"
             ],
             [
              0.6666666666666666,
              "#ed7953"
             ],
             [
              0.7777777777777778,
              "#fb9f3a"
             ],
             [
              0.8888888888888888,
              "#fdca26"
             ],
             [
              1.0,
              "#f0f921"
             ]
            ]
           }
          ],
          "heatmap": [
           {
            "type": "heatmap",
            "colorbar": {
             "outlinewidth": 0,
             "ticks": ""
            },
            "colorscale": [
             [
              0.0,
              "#0d0887"
             ],
             [
              0.1111111111111111,
              "#46039f"
             ],
             [
              0.2222222222222222,
              "#7201a8"
             ],
             [
              0.3333333333333333,
              "#9c179e"
             ],
             [
              0.4444444444444444,
              "#bd3786"
             ],
             [
              0.5555555555555556,
              "#d8576b"
             ],
             [
              0.6666666666666666,
              "#ed7953"
             ],
             [
              0.7777777777777778,
              "#fb9f3a"
             ],
             [
              0.8888888888888888,
              "#fdca26"
             ],
             [
              1.0,
              "#f0f921"
             ]
            ]
           }
          ],
          "heatmapgl": [
           {
            "type": "heatmapgl",
            "colorbar": {
             "outlinewidth": 0,
             "ticks": ""
            },
            "colorscale": [
             [
              0.0,
              "#0d0887"
             ],
             [
              0.1111111111111111,
              "#46039f"
             ],
             [
              0.2222222222222222,
              "#7201a8"
             ],
             [
              0.3333333333333333,
              "#9c179e"
             ],
             [
              0.4444444444444444,
              "#bd3786"
             ],
             [
              0.5555555555555556,
              "#d8576b"
             ],
             [
              0.6666666666666666,
              "#ed7953"
             ],
             [
              0.7777777777777778,
              "#fb9f3a"
             ],
             [
              0.8888888888888888,
              "#fdca26"
             ],
             [
              1.0,
              "#f0f921"
             ]
            ]
           }
          ],
          "contourcarpet": [
           {
            "type": "contourcarpet",
            "colorbar": {
             "outlinewidth": 0,
             "ticks": ""
            }
           }
          ],
          "contour": [
           {
            "type": "contour",
            "colorbar": {
             "outlinewidth": 0,
             "ticks": ""
            },
            "colorscale": [
             [
              0.0,
              "#0d0887"
             ],
             [
              0.1111111111111111,
              "#46039f"
             ],
             [
              0.2222222222222222,
              "#7201a8"
             ],
             [
              0.3333333333333333,
              "#9c179e"
             ],
             [
              0.4444444444444444,
              "#bd3786"
             ],
             [
              0.5555555555555556,
              "#d8576b"
             ],
             [
              0.6666666666666666,
              "#ed7953"
             ],
             [
              0.7777777777777778,
              "#fb9f3a"
             ],
             [
              0.8888888888888888,
              "#fdca26"
             ],
             [
              1.0,
              "#f0f921"
             ]
            ]
           }
          ],
          "surface": [
           {
            "type": "surface",
            "colorbar": {
             "outlinewidth": 0,
             "ticks": ""
            },
            "colorscale": [
             [
              0.0,
              "#0d0887"
             ],
             [
              0.1111111111111111,
              "#46039f"
             ],
             [
              0.2222222222222222,
              "#7201a8"
             ],
             [
              0.3333333333333333,
              "#9c179e"
             ],
             [
              0.4444444444444444,
              "#bd3786"
             ],
             [
              0.5555555555555556,
              "#d8576b"
             ],
             [
              0.6666666666666666,
              "#ed7953"
             ],
             [
              0.7777777777777778,
              "#fb9f3a"
             ],
             [
              0.8888888888888888,
              "#fdca26"
             ],
             [
              1.0,
              "#f0f921"
             ]
            ]
           }
          ],
          "mesh3d": [
           {
            "type": "mesh3d",
            "colorbar": {
             "outlinewidth": 0,
             "ticks": ""
            }
           }
          ],
          "scatter": [
           {
            "fillpattern": {
             "fillmode": "overlay",
             "size": 10,
             "solidity": 0.2
            },
            "type": "scatter"
           }
          ],
          "parcoords": [
           {
            "type": "parcoords",
            "line": {
             "colorbar": {
              "outlinewidth": 0,
              "ticks": ""
             }
            }
           }
          ],
          "scatterpolargl": [
           {
            "type": "scatterpolargl",
            "marker": {
             "colorbar": {
              "outlinewidth": 0,
              "ticks": ""
             }
            }
           }
          ],
          "bar": [
           {
            "error_x": {
             "color": "#2a3f5f"
            },
            "error_y": {
             "color": "#2a3f5f"
            },
            "marker": {
             "line": {
              "color": "#E5ECF6",
              "width": 0.5
             },
             "pattern": {
              "fillmode": "overlay",
              "size": 10,
              "solidity": 0.2
             }
            },
            "type": "bar"
           }
          ],
          "scattergeo": [
           {
            "type": "scattergeo",
            "marker": {
             "colorbar": {
              "outlinewidth": 0,
              "ticks": ""
             }
            }
           }
          ],
          "scatterpolar": [
           {
            "type": "scatterpolar",
            "marker": {
             "colorbar": {
              "outlinewidth": 0,
              "ticks": ""
             }
            }
           }
          ],
          "histogram": [
           {
            "marker": {
             "pattern": {
              "fillmode": "overlay",
              "size": 10,
              "solidity": 0.2
             }
            },
            "type": "histogram"
           }
          ],
          "scattergl": [
           {
            "type": "scattergl",
            "marker": {
             "colorbar": {
              "outlinewidth": 0,
              "ticks": ""
             }
            }
           }
          ],
          "scatter3d": [
           {
            "type": "scatter3d",
            "line": {
             "colorbar": {
              "outlinewidth": 0,
              "ticks": ""
             }
            },
            "marker": {
             "colorbar": {
              "outlinewidth": 0,
              "ticks": ""
             }
            }
           }
          ],
          "scattermapbox": [
           {
            "type": "scattermapbox",
            "marker": {
             "colorbar": {
              "outlinewidth": 0,
              "ticks": ""
             }
            }
           }
          ],
          "scatterternary": [
           {
            "type": "scatterternary",
            "marker": {
             "colorbar": {
              "outlinewidth": 0,
              "ticks": ""
             }
            }
           }
          ],
          "scattercarpet": [
           {
            "type": "scattercarpet",
            "marker": {
             "colorbar": {
              "outlinewidth": 0,
              "ticks": ""
             }
            }
           }
          ],
          "carpet": [
           {
            "aaxis": {
             "endlinecolor": "#2a3f5f",
             "gridcolor": "white",
             "linecolor": "white",
             "minorgridcolor": "white",
             "startlinecolor": "#2a3f5f"
            },
            "baxis": {
             "endlinecolor": "#2a3f5f",
             "gridcolor": "white",
             "linecolor": "white",
             "minorgridcolor": "white",
             "startlinecolor": "#2a3f5f"
            },
            "type": "carpet"
           }
          ],
          "table": [
           {
            "cells": {
             "fill": {
              "color": "#EBF0F8"
             },
             "line": {
              "color": "white"
             }
            },
            "header": {
             "fill": {
              "color": "#C8D4E3"
             },
             "line": {
              "color": "white"
             }
            },
            "type": "table"
           }
          ],
          "barpolar": [
           {
            "marker": {
             "line": {
              "color": "#E5ECF6",
              "width": 0.5
             },
             "pattern": {
              "fillmode": "overlay",
              "size": 10,
              "solidity": 0.2
             }
            },
            "type": "barpolar"
           }
          ],
          "pie": [
           {
            "automargin": true,
            "type": "pie"
           }
          ]
         },
         "layout": {
          "autotypenumbers": "strict",
          "colorway": [
           "#636efa",
           "#EF553B",
           "#00cc96",
           "#ab63fa",
           "#FFA15A",
           "#19d3f3",
           "#FF6692",
           "#B6E880",
           "#FF97FF",
           "#FECB52"
          ],
          "font": {
           "color": "#2a3f5f"
          },
          "hovermode": "closest",
          "hoverlabel": {
           "align": "left"
          },
          "paper_bgcolor": "white",
          "plot_bgcolor": "#E5ECF6",
          "polar": {
           "bgcolor": "#E5ECF6",
           "angularaxis": {
            "gridcolor": "white",
            "linecolor": "white",
            "ticks": ""
           },
           "radialaxis": {
            "gridcolor": "white",
            "linecolor": "white",
            "ticks": ""
           }
          },
          "ternary": {
           "bgcolor": "#E5ECF6",
           "aaxis": {
            "gridcolor": "white",
            "linecolor": "white",
            "ticks": ""
           },
           "baxis": {
            "gridcolor": "white",
            "linecolor": "white",
            "ticks": ""
           },
           "caxis": {
            "gridcolor": "white",
            "linecolor": "white",
            "ticks": ""
           }
          },
          "coloraxis": {
           "colorbar": {
            "outlinewidth": 0,
            "ticks": ""
           }
          },
          "colorscale": {
           "sequential": [
            [
             0.0,
             "#0d0887"
            ],
            [
             0.1111111111111111,
             "#46039f"
            ],
            [
             0.2222222222222222,
             "#7201a8"
            ],
            [
             0.3333333333333333,
             "#9c179e"
            ],
            [
             0.4444444444444444,
             "#bd3786"
            ],
            [
             0.5555555555555556,
             "#d8576b"
            ],
            [
             0.6666666666666666,
             "#ed7953"
            ],
            [
             0.7777777777777778,
             "#fb9f3a"
            ],
            [
             0.8888888888888888,
             "#fdca26"
            ],
            [
             1.0,
             "#f0f921"
            ]
           ],
           "sequentialminus": [
            [
             0.0,
             "#0d0887"
            ],
            [
             0.1111111111111111,
             "#46039f"
            ],
            [
             0.2222222222222222,
             "#7201a8"
            ],
            [
             0.3333333333333333,
             "#9c179e"
            ],
            [
             0.4444444444444444,
             "#bd3786"
            ],
            [
             0.5555555555555556,
             "#d8576b"
            ],
            [
             0.6666666666666666,
             "#ed7953"
            ],
            [
             0.7777777777777778,
             "#fb9f3a"
            ],
            [
             0.8888888888888888,
             "#fdca26"
            ],
            [
             1.0,
             "#f0f921"
            ]
           ],
           "diverging": [
            [
             0,
             "#8e0152"
            ],
            [
             0.1,
             "#c51b7d"
            ],
            [
             0.2,
             "#de77ae"
            ],
            [
             0.3,
             "#f1b6da"
            ],
            [
             0.4,
             "#fde0ef"
            ],
            [
             0.5,
             "#f7f7f7"
            ],
            [
             0.6,
             "#e6f5d0"
            ],
            [
             0.7,
             "#b8e186"
            ],
            [
             0.8,
             "#7fbc41"
            ],
            [
             0.9,
             "#4d9221"
            ],
            [
             1,
             "#276419"
            ]
           ]
          },
          "xaxis": {
           "gridcolor": "white",
           "linecolor": "white",
           "ticks": "",
           "title": {
            "standoff": 15
           },
           "zerolinecolor": "white",
           "automargin": true,
           "zerolinewidth": 2
          },
          "yaxis": {
           "gridcolor": "white",
           "linecolor": "white",
           "ticks": "",
           "title": {
            "standoff": 15
           },
           "zerolinecolor": "white",
           "automargin": true,
           "zerolinewidth": 2
          },
          "scene": {
           "xaxis": {
            "backgroundcolor": "#E5ECF6",
            "gridcolor": "white",
            "linecolor": "white",
            "showbackground": true,
            "ticks": "",
            "zerolinecolor": "white",
            "gridwidth": 2
           },
           "yaxis": {
            "backgroundcolor": "#E5ECF6",
            "gridcolor": "white",
            "linecolor": "white",
            "showbackground": true,
            "ticks": "",
            "zerolinecolor": "white",
            "gridwidth": 2
           },
           "zaxis": {
            "backgroundcolor": "#E5ECF6",
            "gridcolor": "white",
            "linecolor": "white",
            "showbackground": true,
            "ticks": "",
            "zerolinecolor": "white",
            "gridwidth": 2
           }
          },
          "shapedefaults": {
           "line": {
            "color": "#2a3f5f"
           }
          },
          "annotationdefaults": {
           "arrowcolor": "#2a3f5f",
           "arrowhead": 0,
           "arrowwidth": 1
          },
          "geo": {
           "bgcolor": "white",
           "landcolor": "#E5ECF6",
           "subunitcolor": "white",
           "showland": true,
           "showlakes": true,
           "lakecolor": "white"
          },
          "title": {
           "x": 0.05
          },
          "mapbox": {
           "style": "light"
          }
         }
        },
        "margin": {
         "l": 20,
         "r": 20,
         "t": 20,
         "b": 20
        },
        "font": {
         "color": "black"
        },
        "height": 600,
        "width": 600,
        "paper_bgcolor": "white",
        "plot_bgcolor": "white",
        "showlegend": false
       },
       "config": {
        "plotlyServerURL": "https://plot.ly"
       }
      },
      "text/html": [
       "<div>                            <div id=\"1af9278b-ae81-4b16-a629-410b412921d5\" class=\"plotly-graph-div\" style=\"height:600px; width:600px;\"></div>            <script type=\"text/javascript\">                require([\"plotly\"], function(Plotly) {                    window.PLOTLYENV=window.PLOTLYENV || {};                                    if (document.getElementById(\"1af9278b-ae81-4b16-a629-410b412921d5\")) {                    Plotly.newPlot(                        \"1af9278b-ae81-4b16-a629-410b412921d5\",                        [{\"hole\":0.3,\"insidetextorientation\":\"radial\",\"labels\":[\"NSP\",\"FTDR\",\"GAW.L\",\"MKTX\",\"ELS\",\"MRL.L\",\"CENT\",\"ITI\",\"ADC\",\"VAR1.DE\",\"NSSC\",\"BURL\",\"TPE.DE\",\"SRT3.DE\",\"PAR\",\"AOF.DE\",\"SLP\",\"4816.T\",\"7575.T\",\"TAL\",\"ADUS\",\"KIDS\",\"Other(19)\"],\"textinfo\":\"label+percent\",\"textposition\":\"inside\",\"values\":[0.0118,0.0089,0.0194,0.0148,0.0083,0.0126,0.0185,0.0098,0.0084,0.0128,0.0129,0.0136,0.0182,0.0184,0.0154,0.0143,0.0188,0.0169,0.0189,0.0169,0.0162,0.0086,0.0952],\"type\":\"pie\"}],                        {\"template\":{\"data\":{\"histogram2dcontour\":[{\"type\":\"histogram2dcontour\",\"colorbar\":{\"outlinewidth\":0,\"ticks\":\"\"},\"colorscale\":[[0.0,\"#0d0887\"],[0.1111111111111111,\"#46039f\"],[0.2222222222222222,\"#7201a8\"],[0.3333333333333333,\"#9c179e\"],[0.4444444444444444,\"#bd3786\"],[0.5555555555555556,\"#d8576b\"],[0.6666666666666666,\"#ed7953\"],[0.7777777777777778,\"#fb9f3a\"],[0.8888888888888888,\"#fdca26\"],[1.0,\"#f0f921\"]]}],\"choropleth\":[{\"type\":\"choropleth\",\"colorbar\":{\"outlinewidth\":0,\"ticks\":\"\"}}],\"histogram2d\":[{\"type\":\"histogram2d\",\"colorbar\":{\"outlinewidth\":0,\"ticks\":\"\"},\"colorscale\":[[0.0,\"#0d0887\"],[0.1111111111111111,\"#46039f\"],[0.2222222222222222,\"#7201a8\"],[0.3333333333333333,\"#9c179e\"],[0.4444444444444444,\"#bd3786\"],[0.5555555555555556,\"#d8576b\"],[0.6666666666666666,\"#ed7953\"],[0.7777777777777778,\"#fb9f3a\"],[0.8888888888888888,\"#fdca26\"],[1.0,\"#f0f921\"]]}],\"heatmap\":[{\"type\":\"heatmap\",\"colorbar\":{\"outlinewidth\":0,\"ticks\":\"\"},\"colorscale\":[[0.0,\"#0d0887\"],[0.1111111111111111,\"#46039f\"],[0.2222222222222222,\"#7201a8\"],[0.3333333333333333,\"#9c179e\"],[0.4444444444444444,\"#bd3786\"],[0.5555555555555556,\"#d8576b\"],[0.6666666666666666,\"#ed7953\"],[0.7777777777777778,\"#fb9f3a\"],[0.8888888888888888,\"#fdca26\"],[1.0,\"#f0f921\"]]}],\"heatmapgl\":[{\"type\":\"heatmapgl\",\"colorbar\":{\"outlinewidth\":0,\"ticks\":\"\"},\"colorscale\":[[0.0,\"#0d0887\"],[0.1111111111111111,\"#46039f\"],[0.2222222222222222,\"#7201a8\"],[0.3333333333333333,\"#9c179e\"],[0.4444444444444444,\"#bd3786\"],[0.5555555555555556,\"#d8576b\"],[0.6666666666666666,\"#ed7953\"],[0.7777777777777778,\"#fb9f3a\"],[0.8888888888888888,\"#fdca26\"],[1.0,\"#f0f921\"]]}],\"contourcarpet\":[{\"type\":\"contourcarpet\",\"colorbar\":{\"outlinewidth\":0,\"ticks\":\"\"}}],\"contour\":[{\"type\":\"contour\",\"colorbar\":{\"outlinewidth\":0,\"ticks\":\"\"},\"colorscale\":[[0.0,\"#0d0887\"],[0.1111111111111111,\"#46039f\"],[0.2222222222222222,\"#7201a8\"],[0.3333333333333333,\"#9c179e\"],[0.4444444444444444,\"#bd3786\"],[0.5555555555555556,\"#d8576b\"],[0.6666666666666666,\"#ed7953\"],[0.7777777777777778,\"#fb9f3a\"],[0.8888888888888888,\"#fdca26\"],[1.0,\"#f0f921\"]]}],\"surface\":[{\"type\":\"surface\",\"colorbar\":{\"outlinewidth\":0,\"ticks\":\"\"},\"colorscale\":[[0.0,\"#0d0887\"],[0.1111111111111111,\"#46039f\"],[0.2222222222222222,\"#7201a8\"],[0.3333333333333333,\"#9c179e\"],[0.4444444444444444,\"#bd3786\"],[0.5555555555555556,\"#d8576b\"],[0.6666666666666666,\"#ed7953\"],[0.7777777777777778,\"#fb9f3a\"],[0.8888888888888888,\"#fdca26\"],[1.0,\"#f0f921\"]]}],\"mesh3d\":[{\"type\":\"mesh3d\",\"colorbar\":{\"outlinewidth\":0,\"ticks\":\"\"}}],\"scatter\":[{\"fillpattern\":{\"fillmode\":\"overlay\",\"size\":10,\"solidity\":0.2},\"type\":\"scatter\"}],\"parcoords\":[{\"type\":\"parcoords\",\"line\":{\"colorbar\":{\"outlinewidth\":0,\"ticks\":\"\"}}}],\"scatterpolargl\":[{\"type\":\"scatterpolargl\",\"marker\":{\"colorbar\":{\"outlinewidth\":0,\"ticks\":\"\"}}}],\"bar\":[{\"error_x\":{\"color\":\"#2a3f5f\"},\"error_y\":{\"color\":\"#2a3f5f\"},\"marker\":{\"line\":{\"color\":\"#E5ECF6\",\"width\":0.5},\"pattern\":{\"fillmode\":\"overlay\",\"size\":10,\"solidity\":0.2}},\"type\":\"bar\"}],\"scattergeo\":[{\"type\":\"scattergeo\",\"marker\":{\"colorbar\":{\"outlinewidth\":0,\"ticks\":\"\"}}}],\"scatterpolar\":[{\"type\":\"scatterpolar\",\"marker\":{\"colorbar\":{\"outlinewidth\":0,\"ticks\":\"\"}}}],\"histogram\":[{\"marker\":{\"pattern\":{\"fillmode\":\"overlay\",\"size\":10,\"solidity\":0.2}},\"type\":\"histogram\"}],\"scattergl\":[{\"type\":\"scattergl\",\"marker\":{\"colorbar\":{\"outlinewidth\":0,\"ticks\":\"\"}}}],\"scatter3d\":[{\"type\":\"scatter3d\",\"line\":{\"colorbar\":{\"outlinewidth\":0,\"ticks\":\"\"}},\"marker\":{\"colorbar\":{\"outlinewidth\":0,\"ticks\":\"\"}}}],\"scattermapbox\":[{\"type\":\"scattermapbox\",\"marker\":{\"colorbar\":{\"outlinewidth\":0,\"ticks\":\"\"}}}],\"scatterternary\":[{\"type\":\"scatterternary\",\"marker\":{\"colorbar\":{\"outlinewidth\":0,\"ticks\":\"\"}}}],\"scattercarpet\":[{\"type\":\"scattercarpet\",\"marker\":{\"colorbar\":{\"outlinewidth\":0,\"ticks\":\"\"}}}],\"carpet\":[{\"aaxis\":{\"endlinecolor\":\"#2a3f5f\",\"gridcolor\":\"white\",\"linecolor\":\"white\",\"minorgridcolor\":\"white\",\"startlinecolor\":\"#2a3f5f\"},\"baxis\":{\"endlinecolor\":\"#2a3f5f\",\"gridcolor\":\"white\",\"linecolor\":\"white\",\"minorgridcolor\":\"white\",\"startlinecolor\":\"#2a3f5f\"},\"type\":\"carpet\"}],\"table\":[{\"cells\":{\"fill\":{\"color\":\"#EBF0F8\"},\"line\":{\"color\":\"white\"}},\"header\":{\"fill\":{\"color\":\"#C8D4E3\"},\"line\":{\"color\":\"white\"}},\"type\":\"table\"}],\"barpolar\":[{\"marker\":{\"line\":{\"color\":\"#E5ECF6\",\"width\":0.5},\"pattern\":{\"fillmode\":\"overlay\",\"size\":10,\"solidity\":0.2}},\"type\":\"barpolar\"}],\"pie\":[{\"automargin\":true,\"type\":\"pie\"}]},\"layout\":{\"autotypenumbers\":\"strict\",\"colorway\":[\"#636efa\",\"#EF553B\",\"#00cc96\",\"#ab63fa\",\"#FFA15A\",\"#19d3f3\",\"#FF6692\",\"#B6E880\",\"#FF97FF\",\"#FECB52\"],\"font\":{\"color\":\"#2a3f5f\"},\"hovermode\":\"closest\",\"hoverlabel\":{\"align\":\"left\"},\"paper_bgcolor\":\"white\",\"plot_bgcolor\":\"#E5ECF6\",\"polar\":{\"bgcolor\":\"#E5ECF6\",\"angularaxis\":{\"gridcolor\":\"white\",\"linecolor\":\"white\",\"ticks\":\"\"},\"radialaxis\":{\"gridcolor\":\"white\",\"linecolor\":\"white\",\"ticks\":\"\"}},\"ternary\":{\"bgcolor\":\"#E5ECF6\",\"aaxis\":{\"gridcolor\":\"white\",\"linecolor\":\"white\",\"ticks\":\"\"},\"baxis\":{\"gridcolor\":\"white\",\"linecolor\":\"white\",\"ticks\":\"\"},\"caxis\":{\"gridcolor\":\"white\",\"linecolor\":\"white\",\"ticks\":\"\"}},\"coloraxis\":{\"colorbar\":{\"outlinewidth\":0,\"ticks\":\"\"}},\"colorscale\":{\"sequential\":[[0.0,\"#0d0887\"],[0.1111111111111111,\"#46039f\"],[0.2222222222222222,\"#7201a8\"],[0.3333333333333333,\"#9c179e\"],[0.4444444444444444,\"#bd3786\"],[0.5555555555555556,\"#d8576b\"],[0.6666666666666666,\"#ed7953\"],[0.7777777777777778,\"#fb9f3a\"],[0.8888888888888888,\"#fdca26\"],[1.0,\"#f0f921\"]],\"sequentialminus\":[[0.0,\"#0d0887\"],[0.1111111111111111,\"#46039f\"],[0.2222222222222222,\"#7201a8\"],[0.3333333333333333,\"#9c179e\"],[0.4444444444444444,\"#bd3786\"],[0.5555555555555556,\"#d8576b\"],[0.6666666666666666,\"#ed7953\"],[0.7777777777777778,\"#fb9f3a\"],[0.8888888888888888,\"#fdca26\"],[1.0,\"#f0f921\"]],\"diverging\":[[0,\"#8e0152\"],[0.1,\"#c51b7d\"],[0.2,\"#de77ae\"],[0.3,\"#f1b6da\"],[0.4,\"#fde0ef\"],[0.5,\"#f7f7f7\"],[0.6,\"#e6f5d0\"],[0.7,\"#b8e186\"],[0.8,\"#7fbc41\"],[0.9,\"#4d9221\"],[1,\"#276419\"]]},\"xaxis\":{\"gridcolor\":\"white\",\"linecolor\":\"white\",\"ticks\":\"\",\"title\":{\"standoff\":15},\"zerolinecolor\":\"white\",\"automargin\":true,\"zerolinewidth\":2},\"yaxis\":{\"gridcolor\":\"white\",\"linecolor\":\"white\",\"ticks\":\"\",\"title\":{\"standoff\":15},\"zerolinecolor\":\"white\",\"automargin\":true,\"zerolinewidth\":2},\"scene\":{\"xaxis\":{\"backgroundcolor\":\"#E5ECF6\",\"gridcolor\":\"white\",\"linecolor\":\"white\",\"showbackground\":true,\"ticks\":\"\",\"zerolinecolor\":\"white\",\"gridwidth\":2},\"yaxis\":{\"backgroundcolor\":\"#E5ECF6\",\"gridcolor\":\"white\",\"linecolor\":\"white\",\"showbackground\":true,\"ticks\":\"\",\"zerolinecolor\":\"white\",\"gridwidth\":2},\"zaxis\":{\"backgroundcolor\":\"#E5ECF6\",\"gridcolor\":\"white\",\"linecolor\":\"white\",\"showbackground\":true,\"ticks\":\"\",\"zerolinecolor\":\"white\",\"gridwidth\":2}},\"shapedefaults\":{\"line\":{\"color\":\"#2a3f5f\"}},\"annotationdefaults\":{\"arrowcolor\":\"#2a3f5f\",\"arrowhead\":0,\"arrowwidth\":1},\"geo\":{\"bgcolor\":\"white\",\"landcolor\":\"#E5ECF6\",\"subunitcolor\":\"white\",\"showland\":true,\"showlakes\":true,\"lakecolor\":\"white\"},\"title\":{\"x\":0.05},\"mapbox\":{\"style\":\"light\"}}},\"margin\":{\"l\":20,\"r\":20,\"t\":20,\"b\":20},\"font\":{\"color\":\"black\"},\"height\":600,\"width\":600,\"paper_bgcolor\":\"white\",\"plot_bgcolor\":\"white\",\"showlegend\":false},                        {\"responsive\": true}                    ).then(function(){\n",
       "                            \n",
       "var gd = document.getElementById('1af9278b-ae81-4b16-a629-410b412921d5');\n",
       "var x = new MutationObserver(function (mutations, observer) {{\n",
       "        var display = window.getComputedStyle(gd).display;\n",
       "        if (!display || display === 'none') {{\n",
       "            console.log([gd, 'removed!']);\n",
       "            Plotly.purge(gd);\n",
       "            observer.disconnect();\n",
       "        }}\n",
       "}});\n",
       "\n",
       "// Listen for the removal of the full notebook cells\n",
       "var notebookContainer = gd.closest('#notebook-container');\n",
       "if (notebookContainer) {{\n",
       "    x.observe(notebookContainer, {childList: true});\n",
       "}}\n",
       "\n",
       "// Listen for the clearing of the current output cell\n",
       "var outputEl = gd.closest('.output');\n",
       "if (outputEl) {{\n",
       "    x.observe(outputEl, {childList: true});\n",
       "}}\n",
       "\n",
       "                        })                };                });            </script>        </div>"
      ]
     },
     "metadata": {},
     "output_type": "display_data"
    }
   ],
   "execution_count": 15
  },
  {
   "metadata": {},
   "cell_type": "markdown",
   "source": "#### Overview",
   "id": "8e04563674a5958"
  },
  {
   "metadata": {
    "ExecuteTime": {
     "end_time": "2025-05-31T19:26:43.618672Z",
     "start_time": "2025-05-31T19:26:43.604246Z"
    }
   },
   "cell_type": "code",
   "source": [
    "importlib.reload(mpt_utils)\n",
    "# Create overview\n",
    "df_view_5y = mpt_utils.generate_overview_table(weights_all_5y, mu_5y, S_5y, df_pct)\n",
    "df_view_5y"
   ],
   "id": "b972857047522189",
   "outputs": [
    {
     "data": {
      "text/plain": [
       "         Weight  Average Covariance Average Returns Return Last 12 Months  \\\n",
       "GAW.L         1        2.500000e-03           1.79%                49.03%   \n",
       "7575.T        1       -1.750000e-03          14.39%                 4.51%   \n",
       "SLP           5        8.673617e-20          18.30%                77.26%   \n",
       "CENT          8        7.500000e-04          51.78%                -5.64%   \n",
       "SRT3.DE       1        5.000000e-04          16.72%                36.06%   \n",
       "TPE.DE       17       -5.000000e-04          11.27%                -6.28%   \n",
       "4816.T        1        0.000000e+00          66.67%                33.20%   \n",
       "TAL           5        7.500000e-04          40.63%                48.59%   \n",
       "ADUS          2       -2.000000e-03          26.35%                30.00%   \n",
       "PAR           6       -2.500000e-04          46.54%                41.04%   \n",
       "MKTX          1       -7.500000e-04          33.70%                77.62%   \n",
       "AOF.DE        4        2.000000e-03          45.96%                79.41%   \n",
       "BURL          1        1.000000e-03          26.47%                13.37%   \n",
       "NSSC         11        2.500000e-04          23.24%               118.24%   \n",
       "VAR1.DE       1       -2.000000e-03          25.61%               261.53%   \n",
       "MRL.L         1        5.000000e-04          64.02%                 6.70%   \n",
       "NSP           1        0.000000e+00          61.06%                -3.93%   \n",
       "ITI          20        1.500000e-03          37.91%                26.17%   \n",
       "FTDR          1        0.000000e+00          62.74%                40.66%   \n",
       "KIDS          2        2.000000e-03          53.84%                12.04%   \n",
       "ADC           1        5.000000e-04          41.44%                42.75%   \n",
       "ELS           1        2.500000e-04           6.78%                51.63%   \n",
       "FLGT          8        5.000000e-04          42.07%               167.34%   \n",
       "SRE.L         1        5.000000e-04          11.35%                38.36%   \n",
       "WTRG          1        0.000000e+00          12.85%                42.20%   \n",
       "AVGO          2        7.500000e-04          49.06%                36.22%   \n",
       "AG1.DE        4       -2.500000e-04          41.50%               146.96%   \n",
       "BVB.DE        7       -2.000000e-03          72.60%               -10.30%   \n",
       "AUDC          3        1.000000e-03          51.78%                75.31%   \n",
       "NXU.DE        1        1.500000e-03          16.90%                33.22%   \n",
       "MPX           5       -1.000000e-03          14.90%               -31.47%   \n",
       "EBOX.L     -204       -1.750000e-03          33.56%                -3.31%   \n",
       "ROL           2        5.000000e-04          23.38%                -4.14%   \n",
       "COUR          2        2.500000e-03          38.08%                69.29%   \n",
       "APLD         10        7.500000e-04          32.92%                -6.98%   \n",
       "EBF           2        1.500000e-03          23.57%                 5.85%   \n",
       "ECV.DE        5        5.000000e-04           3.03%                55.18%   \n",
       "ONTF          2        1.750000e-03          10.94%                91.00%   \n",
       "FRPH          1        1.000000e-03          38.93%                 8.20%   \n",
       "HFFG          1        2.500000e-03          29.28%                52.69%   \n",
       "MITK          1       -1.000000e-03          15.66%                 4.09%   \n",
       "\n",
       "        Return (Actual) Next 12 Months  \n",
       "GAW.L                          123.19%  \n",
       "7575.T                         -17.45%  \n",
       "SLP                            118.41%  \n",
       "CENT                            36.67%  \n",
       "SRT3.DE                        109.75%  \n",
       "TPE.DE                           3.02%  \n",
       "4816.T                          39.47%  \n",
       "TAL                            120.88%  \n",
       "ADUS                            19.98%  \n",
       "PAR                             70.88%  \n",
       "MKTX                            49.93%  \n",
       "AOF.DE                         115.37%  \n",
       "BURL                             1.41%  \n",
       "NSSC                            -8.54%  \n",
       "VAR1.DE                         32.91%  \n",
       "MRL.L                           21.40%  \n",
       "NSP                            -32.01%  \n",
       "ITI                            -29.74%  \n",
       "FTDR                           -19.44%  \n",
       "KIDS                            28.27%  \n",
       "ADC                             -9.37%  \n",
       "ELS                             -6.94%  \n",
       "FLGT                           289.41%  \n",
       "SRE.L                            0.25%  \n",
       "WTRG                            -7.08%  \n",
       "AVGO                            38.31%  \n",
       "AG1.DE                         -44.88%  \n",
       "BVB.DE                         -43.42%  \n",
       "AUDC                            69.04%  \n",
       "NXU.DE                          46.06%  \n",
       "MPX                             16.83%  \n",
       "EBOX.L                          -2.38%  \n",
       "ROL                             62.59%  \n",
       "COUR                           -49.62%  \n",
       "APLD                             3.37%  \n",
       "EBF                            -10.73%  \n",
       "ECV.DE                         100.63%  \n",
       "ONTF                           -41.85%  \n",
       "FRPH                           -13.42%  \n",
       "HFFG                           -61.30%  \n",
       "MITK                            30.91%  "
      ],
      "text/html": [
       "<div>\n",
       "<style scoped>\n",
       "    .dataframe tbody tr th:only-of-type {\n",
       "        vertical-align: middle;\n",
       "    }\n",
       "\n",
       "    .dataframe tbody tr th {\n",
       "        vertical-align: top;\n",
       "    }\n",
       "\n",
       "    .dataframe thead th {\n",
       "        text-align: right;\n",
       "    }\n",
       "</style>\n",
       "<table border=\"1\" class=\"dataframe\">\n",
       "  <thead>\n",
       "    <tr style=\"text-align: right;\">\n",
       "      <th></th>\n",
       "      <th>Weight</th>\n",
       "      <th>Average Covariance</th>\n",
       "      <th>Average Returns</th>\n",
       "      <th>Return Last 12 Months</th>\n",
       "      <th>Return (Actual) Next 12 Months</th>\n",
       "    </tr>\n",
       "  </thead>\n",
       "  <tbody>\n",
       "    <tr>\n",
       "      <th>GAW.L</th>\n",
       "      <td>1</td>\n",
       "      <td>2.500000e-03</td>\n",
       "      <td>1.79%</td>\n",
       "      <td>49.03%</td>\n",
       "      <td>123.19%</td>\n",
       "    </tr>\n",
       "    <tr>\n",
       "      <th>7575.T</th>\n",
       "      <td>1</td>\n",
       "      <td>-1.750000e-03</td>\n",
       "      <td>14.39%</td>\n",
       "      <td>4.51%</td>\n",
       "      <td>-17.45%</td>\n",
       "    </tr>\n",
       "    <tr>\n",
       "      <th>SLP</th>\n",
       "      <td>5</td>\n",
       "      <td>8.673617e-20</td>\n",
       "      <td>18.30%</td>\n",
       "      <td>77.26%</td>\n",
       "      <td>118.41%</td>\n",
       "    </tr>\n",
       "    <tr>\n",
       "      <th>CENT</th>\n",
       "      <td>8</td>\n",
       "      <td>7.500000e-04</td>\n",
       "      <td>51.78%</td>\n",
       "      <td>-5.64%</td>\n",
       "      <td>36.67%</td>\n",
       "    </tr>\n",
       "    <tr>\n",
       "      <th>SRT3.DE</th>\n",
       "      <td>1</td>\n",
       "      <td>5.000000e-04</td>\n",
       "      <td>16.72%</td>\n",
       "      <td>36.06%</td>\n",
       "      <td>109.75%</td>\n",
       "    </tr>\n",
       "    <tr>\n",
       "      <th>TPE.DE</th>\n",
       "      <td>17</td>\n",
       "      <td>-5.000000e-04</td>\n",
       "      <td>11.27%</td>\n",
       "      <td>-6.28%</td>\n",
       "      <td>3.02%</td>\n",
       "    </tr>\n",
       "    <tr>\n",
       "      <th>4816.T</th>\n",
       "      <td>1</td>\n",
       "      <td>0.000000e+00</td>\n",
       "      <td>66.67%</td>\n",
       "      <td>33.20%</td>\n",
       "      <td>39.47%</td>\n",
       "    </tr>\n",
       "    <tr>\n",
       "      <th>TAL</th>\n",
       "      <td>5</td>\n",
       "      <td>7.500000e-04</td>\n",
       "      <td>40.63%</td>\n",
       "      <td>48.59%</td>\n",
       "      <td>120.88%</td>\n",
       "    </tr>\n",
       "    <tr>\n",
       "      <th>ADUS</th>\n",
       "      <td>2</td>\n",
       "      <td>-2.000000e-03</td>\n",
       "      <td>26.35%</td>\n",
       "      <td>30.00%</td>\n",
       "      <td>19.98%</td>\n",
       "    </tr>\n",
       "    <tr>\n",
       "      <th>PAR</th>\n",
       "      <td>6</td>\n",
       "      <td>-2.500000e-04</td>\n",
       "      <td>46.54%</td>\n",
       "      <td>41.04%</td>\n",
       "      <td>70.88%</td>\n",
       "    </tr>\n",
       "    <tr>\n",
       "      <th>MKTX</th>\n",
       "      <td>1</td>\n",
       "      <td>-7.500000e-04</td>\n",
       "      <td>33.70%</td>\n",
       "      <td>77.62%</td>\n",
       "      <td>49.93%</td>\n",
       "    </tr>\n",
       "    <tr>\n",
       "      <th>AOF.DE</th>\n",
       "      <td>4</td>\n",
       "      <td>2.000000e-03</td>\n",
       "      <td>45.96%</td>\n",
       "      <td>79.41%</td>\n",
       "      <td>115.37%</td>\n",
       "    </tr>\n",
       "    <tr>\n",
       "      <th>BURL</th>\n",
       "      <td>1</td>\n",
       "      <td>1.000000e-03</td>\n",
       "      <td>26.47%</td>\n",
       "      <td>13.37%</td>\n",
       "      <td>1.41%</td>\n",
       "    </tr>\n",
       "    <tr>\n",
       "      <th>NSSC</th>\n",
       "      <td>11</td>\n",
       "      <td>2.500000e-04</td>\n",
       "      <td>23.24%</td>\n",
       "      <td>118.24%</td>\n",
       "      <td>-8.54%</td>\n",
       "    </tr>\n",
       "    <tr>\n",
       "      <th>VAR1.DE</th>\n",
       "      <td>1</td>\n",
       "      <td>-2.000000e-03</td>\n",
       "      <td>25.61%</td>\n",
       "      <td>261.53%</td>\n",
       "      <td>32.91%</td>\n",
       "    </tr>\n",
       "    <tr>\n",
       "      <th>MRL.L</th>\n",
       "      <td>1</td>\n",
       "      <td>5.000000e-04</td>\n",
       "      <td>64.02%</td>\n",
       "      <td>6.70%</td>\n",
       "      <td>21.40%</td>\n",
       "    </tr>\n",
       "    <tr>\n",
       "      <th>NSP</th>\n",
       "      <td>1</td>\n",
       "      <td>0.000000e+00</td>\n",
       "      <td>61.06%</td>\n",
       "      <td>-3.93%</td>\n",
       "      <td>-32.01%</td>\n",
       "    </tr>\n",
       "    <tr>\n",
       "      <th>ITI</th>\n",
       "      <td>20</td>\n",
       "      <td>1.500000e-03</td>\n",
       "      <td>37.91%</td>\n",
       "      <td>26.17%</td>\n",
       "      <td>-29.74%</td>\n",
       "    </tr>\n",
       "    <tr>\n",
       "      <th>FTDR</th>\n",
       "      <td>1</td>\n",
       "      <td>0.000000e+00</td>\n",
       "      <td>62.74%</td>\n",
       "      <td>40.66%</td>\n",
       "      <td>-19.44%</td>\n",
       "    </tr>\n",
       "    <tr>\n",
       "      <th>KIDS</th>\n",
       "      <td>2</td>\n",
       "      <td>2.000000e-03</td>\n",
       "      <td>53.84%</td>\n",
       "      <td>12.04%</td>\n",
       "      <td>28.27%</td>\n",
       "    </tr>\n",
       "    <tr>\n",
       "      <th>ADC</th>\n",
       "      <td>1</td>\n",
       "      <td>5.000000e-04</td>\n",
       "      <td>41.44%</td>\n",
       "      <td>42.75%</td>\n",
       "      <td>-9.37%</td>\n",
       "    </tr>\n",
       "    <tr>\n",
       "      <th>ELS</th>\n",
       "      <td>1</td>\n",
       "      <td>2.500000e-04</td>\n",
       "      <td>6.78%</td>\n",
       "      <td>51.63%</td>\n",
       "      <td>-6.94%</td>\n",
       "    </tr>\n",
       "    <tr>\n",
       "      <th>FLGT</th>\n",
       "      <td>8</td>\n",
       "      <td>5.000000e-04</td>\n",
       "      <td>42.07%</td>\n",
       "      <td>167.34%</td>\n",
       "      <td>289.41%</td>\n",
       "    </tr>\n",
       "    <tr>\n",
       "      <th>SRE.L</th>\n",
       "      <td>1</td>\n",
       "      <td>5.000000e-04</td>\n",
       "      <td>11.35%</td>\n",
       "      <td>38.36%</td>\n",
       "      <td>0.25%</td>\n",
       "    </tr>\n",
       "    <tr>\n",
       "      <th>WTRG</th>\n",
       "      <td>1</td>\n",
       "      <td>0.000000e+00</td>\n",
       "      <td>12.85%</td>\n",
       "      <td>42.20%</td>\n",
       "      <td>-7.08%</td>\n",
       "    </tr>\n",
       "    <tr>\n",
       "      <th>AVGO</th>\n",
       "      <td>2</td>\n",
       "      <td>7.500000e-04</td>\n",
       "      <td>49.06%</td>\n",
       "      <td>36.22%</td>\n",
       "      <td>38.31%</td>\n",
       "    </tr>\n",
       "    <tr>\n",
       "      <th>AG1.DE</th>\n",
       "      <td>4</td>\n",
       "      <td>-2.500000e-04</td>\n",
       "      <td>41.50%</td>\n",
       "      <td>146.96%</td>\n",
       "      <td>-44.88%</td>\n",
       "    </tr>\n",
       "    <tr>\n",
       "      <th>BVB.DE</th>\n",
       "      <td>7</td>\n",
       "      <td>-2.000000e-03</td>\n",
       "      <td>72.60%</td>\n",
       "      <td>-10.30%</td>\n",
       "      <td>-43.42%</td>\n",
       "    </tr>\n",
       "    <tr>\n",
       "      <th>AUDC</th>\n",
       "      <td>3</td>\n",
       "      <td>1.000000e-03</td>\n",
       "      <td>51.78%</td>\n",
       "      <td>75.31%</td>\n",
       "      <td>69.04%</td>\n",
       "    </tr>\n",
       "    <tr>\n",
       "      <th>NXU.DE</th>\n",
       "      <td>1</td>\n",
       "      <td>1.500000e-03</td>\n",
       "      <td>16.90%</td>\n",
       "      <td>33.22%</td>\n",
       "      <td>46.06%</td>\n",
       "    </tr>\n",
       "    <tr>\n",
       "      <th>MPX</th>\n",
       "      <td>5</td>\n",
       "      <td>-1.000000e-03</td>\n",
       "      <td>14.90%</td>\n",
       "      <td>-31.47%</td>\n",
       "      <td>16.83%</td>\n",
       "    </tr>\n",
       "    <tr>\n",
       "      <th>EBOX.L</th>\n",
       "      <td>-204</td>\n",
       "      <td>-1.750000e-03</td>\n",
       "      <td>33.56%</td>\n",
       "      <td>-3.31%</td>\n",
       "      <td>-2.38%</td>\n",
       "    </tr>\n",
       "    <tr>\n",
       "      <th>ROL</th>\n",
       "      <td>2</td>\n",
       "      <td>5.000000e-04</td>\n",
       "      <td>23.38%</td>\n",
       "      <td>-4.14%</td>\n",
       "      <td>62.59%</td>\n",
       "    </tr>\n",
       "    <tr>\n",
       "      <th>COUR</th>\n",
       "      <td>2</td>\n",
       "      <td>2.500000e-03</td>\n",
       "      <td>38.08%</td>\n",
       "      <td>69.29%</td>\n",
       "      <td>-49.62%</td>\n",
       "    </tr>\n",
       "    <tr>\n",
       "      <th>APLD</th>\n",
       "      <td>10</td>\n",
       "      <td>7.500000e-04</td>\n",
       "      <td>32.92%</td>\n",
       "      <td>-6.98%</td>\n",
       "      <td>3.37%</td>\n",
       "    </tr>\n",
       "    <tr>\n",
       "      <th>EBF</th>\n",
       "      <td>2</td>\n",
       "      <td>1.500000e-03</td>\n",
       "      <td>23.57%</td>\n",
       "      <td>5.85%</td>\n",
       "      <td>-10.73%</td>\n",
       "    </tr>\n",
       "    <tr>\n",
       "      <th>ECV.DE</th>\n",
       "      <td>5</td>\n",
       "      <td>5.000000e-04</td>\n",
       "      <td>3.03%</td>\n",
       "      <td>55.18%</td>\n",
       "      <td>100.63%</td>\n",
       "    </tr>\n",
       "    <tr>\n",
       "      <th>ONTF</th>\n",
       "      <td>2</td>\n",
       "      <td>1.750000e-03</td>\n",
       "      <td>10.94%</td>\n",
       "      <td>91.00%</td>\n",
       "      <td>-41.85%</td>\n",
       "    </tr>\n",
       "    <tr>\n",
       "      <th>FRPH</th>\n",
       "      <td>1</td>\n",
       "      <td>1.000000e-03</td>\n",
       "      <td>38.93%</td>\n",
       "      <td>8.20%</td>\n",
       "      <td>-13.42%</td>\n",
       "    </tr>\n",
       "    <tr>\n",
       "      <th>HFFG</th>\n",
       "      <td>1</td>\n",
       "      <td>2.500000e-03</td>\n",
       "      <td>29.28%</td>\n",
       "      <td>52.69%</td>\n",
       "      <td>-61.30%</td>\n",
       "    </tr>\n",
       "    <tr>\n",
       "      <th>MITK</th>\n",
       "      <td>1</td>\n",
       "      <td>-1.000000e-03</td>\n",
       "      <td>15.66%</td>\n",
       "      <td>4.09%</td>\n",
       "      <td>30.91%</td>\n",
       "    </tr>\n",
       "  </tbody>\n",
       "</table>\n",
       "</div>"
      ]
     },
     "execution_count": 16,
     "metadata": {},
     "output_type": "execute_result"
    }
   ],
   "execution_count": 16
  },
  {
   "metadata": {},
   "cell_type": "markdown",
   "source": "### Discrete allocation 20 years",
   "id": "9c1a06de0ffda25f"
  },
  {
   "metadata": {
    "ExecuteTime": {
     "end_time": "2025-05-31T19:30:07.238805Z",
     "start_time": "2025-05-31T19:30:07.200567Z"
    }
   },
   "cell_type": "code",
   "source": [
    "importlib.reload(mpt_utils)\n",
    "\n",
    "df_20y = df_train.tail(20 * 12)\n",
    "df_20y = df_20y - 1\n",
    "df_20y.head(3)"
   ],
   "id": "55a622e4fd7e8e33",
   "outputs": [
    {
     "data": {
      "text/plain": [
       "                 RS1.L     KE     TEG.DE     LEG.DE       SCS       HNI  \\\n",
       "Date                                                                      \n",
       "1999-10-01  191.424942  10.57  43.819553  29.297156  4.165832  8.774066   \n",
       "1999-11-01  217.152206  10.57  43.819553  29.297156  4.319274  9.770150   \n",
       "1999-12-01  240.588638  10.57  43.819553  29.297156  3.910100  9.974279   \n",
       "\n",
       "                  AVT       ACCO    VNA.DE       7912.T  ...    DEQ.DE   KIDS  \\\n",
       "Date                                                     ...                    \n",
       "1999-10-01  20.209171  11.130485  7.585901  2007.531665  ...  6.348418  22.75   \n",
       "1999-11-01  20.354940  11.517400  7.585901  2065.222290  ...  6.348418  22.75   \n",
       "1999-12-01  22.517170  11.517400  7.585901  2012.300952  ...  6.348418  22.75   \n",
       "\n",
       "             HALO      MATW      9842.T     KVHI      MOON.L  NEO     6055.T  \\\n",
       "Date                                                                           \n",
       "1999-10-01  1.934  8.178375  386.510425  2.06250  194.460001 -0.6  55.376208   \n",
       "1999-11-01  1.934  7.509521  386.510425  2.03125  194.460001 -0.6  55.376208   \n",
       "1999-12-01  1.934  9.065028  386.510425  2.06250  194.460001 -0.6  55.376208   \n",
       "\n",
       "                 UNP  \n",
       "Date                  \n",
       "1999-10-01  7.588829  \n",
       "1999-11-01  6.250434  \n",
       "1999-12-01  5.730484  \n",
       "\n",
       "[3 rows x 1653 columns]"
      ],
      "text/html": [
       "<div>\n",
       "<style scoped>\n",
       "    .dataframe tbody tr th:only-of-type {\n",
       "        vertical-align: middle;\n",
       "    }\n",
       "\n",
       "    .dataframe tbody tr th {\n",
       "        vertical-align: top;\n",
       "    }\n",
       "\n",
       "    .dataframe thead th {\n",
       "        text-align: right;\n",
       "    }\n",
       "</style>\n",
       "<table border=\"1\" class=\"dataframe\">\n",
       "  <thead>\n",
       "    <tr style=\"text-align: right;\">\n",
       "      <th></th>\n",
       "      <th>RS1.L</th>\n",
       "      <th>KE</th>\n",
       "      <th>TEG.DE</th>\n",
       "      <th>LEG.DE</th>\n",
       "      <th>SCS</th>\n",
       "      <th>HNI</th>\n",
       "      <th>AVT</th>\n",
       "      <th>ACCO</th>\n",
       "      <th>VNA.DE</th>\n",
       "      <th>7912.T</th>\n",
       "      <th>...</th>\n",
       "      <th>DEQ.DE</th>\n",
       "      <th>KIDS</th>\n",
       "      <th>HALO</th>\n",
       "      <th>MATW</th>\n",
       "      <th>9842.T</th>\n",
       "      <th>KVHI</th>\n",
       "      <th>MOON.L</th>\n",
       "      <th>NEO</th>\n",
       "      <th>6055.T</th>\n",
       "      <th>UNP</th>\n",
       "    </tr>\n",
       "    <tr>\n",
       "      <th>Date</th>\n",
       "      <th></th>\n",
       "      <th></th>\n",
       "      <th></th>\n",
       "      <th></th>\n",
       "      <th></th>\n",
       "      <th></th>\n",
       "      <th></th>\n",
       "      <th></th>\n",
       "      <th></th>\n",
       "      <th></th>\n",
       "      <th></th>\n",
       "      <th></th>\n",
       "      <th></th>\n",
       "      <th></th>\n",
       "      <th></th>\n",
       "      <th></th>\n",
       "      <th></th>\n",
       "      <th></th>\n",
       "      <th></th>\n",
       "      <th></th>\n",
       "      <th></th>\n",
       "    </tr>\n",
       "  </thead>\n",
       "  <tbody>\n",
       "    <tr>\n",
       "      <th>1999-10-01</th>\n",
       "      <td>191.424942</td>\n",
       "      <td>10.57</td>\n",
       "      <td>43.819553</td>\n",
       "      <td>29.297156</td>\n",
       "      <td>4.165832</td>\n",
       "      <td>8.774066</td>\n",
       "      <td>20.209171</td>\n",
       "      <td>11.130485</td>\n",
       "      <td>7.585901</td>\n",
       "      <td>2007.531665</td>\n",
       "      <td>...</td>\n",
       "      <td>6.348418</td>\n",
       "      <td>22.75</td>\n",
       "      <td>1.934</td>\n",
       "      <td>8.178375</td>\n",
       "      <td>386.510425</td>\n",
       "      <td>2.06250</td>\n",
       "      <td>194.460001</td>\n",
       "      <td>-0.6</td>\n",
       "      <td>55.376208</td>\n",
       "      <td>7.588829</td>\n",
       "    </tr>\n",
       "    <tr>\n",
       "      <th>1999-11-01</th>\n",
       "      <td>217.152206</td>\n",
       "      <td>10.57</td>\n",
       "      <td>43.819553</td>\n",
       "      <td>29.297156</td>\n",
       "      <td>4.319274</td>\n",
       "      <td>9.770150</td>\n",
       "      <td>20.354940</td>\n",
       "      <td>11.517400</td>\n",
       "      <td>7.585901</td>\n",
       "      <td>2065.222290</td>\n",
       "      <td>...</td>\n",
       "      <td>6.348418</td>\n",
       "      <td>22.75</td>\n",
       "      <td>1.934</td>\n",
       "      <td>7.509521</td>\n",
       "      <td>386.510425</td>\n",
       "      <td>2.03125</td>\n",
       "      <td>194.460001</td>\n",
       "      <td>-0.6</td>\n",
       "      <td>55.376208</td>\n",
       "      <td>6.250434</td>\n",
       "    </tr>\n",
       "    <tr>\n",
       "      <th>1999-12-01</th>\n",
       "      <td>240.588638</td>\n",
       "      <td>10.57</td>\n",
       "      <td>43.819553</td>\n",
       "      <td>29.297156</td>\n",
       "      <td>3.910100</td>\n",
       "      <td>9.974279</td>\n",
       "      <td>22.517170</td>\n",
       "      <td>11.517400</td>\n",
       "      <td>7.585901</td>\n",
       "      <td>2012.300952</td>\n",
       "      <td>...</td>\n",
       "      <td>6.348418</td>\n",
       "      <td>22.75</td>\n",
       "      <td>1.934</td>\n",
       "      <td>9.065028</td>\n",
       "      <td>386.510425</td>\n",
       "      <td>2.06250</td>\n",
       "      <td>194.460001</td>\n",
       "      <td>-0.6</td>\n",
       "      <td>55.376208</td>\n",
       "      <td>5.730484</td>\n",
       "    </tr>\n",
       "  </tbody>\n",
       "</table>\n",
       "<p>3 rows × 1653 columns</p>\n",
       "</div>"
      ]
     },
     "execution_count": 29,
     "metadata": {},
     "output_type": "execute_result"
    }
   ],
   "execution_count": 29
  },
  {
   "metadata": {
    "ExecuteTime": {
     "end_time": "2025-05-31T19:46:40.362298Z",
     "start_time": "2025-05-31T19:46:36.062422Z"
    }
   },
   "cell_type": "code",
   "source": "weights_20y, mu_20y, S_20y, weights_all_20y = mpt_utils.benchmark_portfolio_and_plot(df_20y, plot_threshold=0.015)",
   "id": "50f50e486252905f",
   "outputs": [
    {
     "name": "stderr",
     "output_type": "stream",
     "text": [
      "/Users/herbishtini/anaconda3/envs/portfolio_optimisation/lib/python3.11/site-packages/pypfopt/expected_returns.py:32: UserWarning:\n",
      "\n",
      "Some returns are NaN. Please check your price data.\n",
      "\n",
      "/Users/herbishtini/anaconda3/envs/portfolio_optimisation/lib/python3.11/site-packages/pypfopt/expected_returns.py:36: UserWarning:\n",
      "\n",
      "Some returns are infinite. Please check your price data.\n",
      "\n",
      "/Users/herbishtini/anaconda3/envs/portfolio_optimisation/lib/python3.11/site-packages/numpy/core/_methods.py:53: RuntimeWarning:\n",
      "\n",
      "invalid value encountered in reduce\n",
      "\n"
     ]
    },
    {
     "name": "stdout",
     "output_type": "stream",
     "text": [
      "Expected annual return: 14.8%\n",
      "Annual volatility: 53.3%\n",
      "Sharpe Ratio: 0.24\n",
      "-- Allocation --\n",
      "{'NFLX': 1, 'GIII': 2, 'TSCO': 1, 'DORM': 1, 'BGEO.L': 1, 'MANH': 1, 'KMX': 1, 'ANSS': 1, 'TPL': 1, 'VTR': 1, 'MFA': 2, 'PUM.DE': 1, 'ATRI': 1, 'MNRO': 1, 'AVGO': 1, 'MLAB': 1, 'FCN': 1, 'FTK.DE': 5, 'TTC': 1, 'ROST': 1, 'IDXX': 1, 'DAKT': 4, 'ISRG': 1, 'POOL': 1, 'SHOO': 1, '2124.T': 1, 'TYL': 1, 'BALL': 1, 'JBHT': 1, 'ILM1.DE': 1, 'NSP': 1, 'WINA': 1, 'OLED': 1, 'ICLR': 1, 'COHR': 1, '2471.T': 1, 'CRM': 1, '4751.T': 1, 'VSEC': 1, 'UNH': 1, 'HUM': 1, 'BLK': 1, 'OSIS': 1, 'MTH': 1, 'SHYF': 1, 'ELS': 1, 'EVD.DE': 1, 'RGLD': 1, 'ADSK': 1, 'COR': 1, 'LCII': 1, 'HSIC': 1, 'LII': 1, 'REGN': 1, 'EPR': 1, 'AKR': 1, 'RWT': 2, 'MPX': 2, 'SKT': 1, 'BKE': 1, 'FTNT': 1, 'EXLS': 1, 'AOX.DE': 2, 'CLMB': 1, 'DHC': 1, 'CTO': 1, 'ESCA': 1, 'MPW': 1, 'LXP': 1, 'GEN': 1, 'DDD': 1, 'AGNC': 1, 'ECV.DE': 1, 'SFQ.DE': 1, 'CPRX': 1, 'DXLG': 5}\n",
      "-- Weights Percentage --\n",
      "{'TPL': 0.0174, 'KMX': 0.0185, 'VTR': 0.0169, 'MNRO': 0.0163, 'TSCO': 0.0283, 'ANSS': 0.0174, 'MFA': 0.0169, 'MLAB': 0.0158, 'NFLX': 0.0402, 'DORM': 0.0239, 'GIII': 0.0294, 'BGEO.L': 0.0207, 'IDXX': 0.0152, 'FTK.DE': 0.0158, 'ATRI': 0.0163, 'ROST': 0.0152, 'MANH': 0.0207, 'DAKT': 0.0152, 'PUM.DE': 0.0169, 'FCN': 0.0158, 'AVGO': 0.0163, 'TTC': 0.0152, 'Other(54)': 0.5759}\n"
     ]
    },
    {
     "data": {
      "application/vnd.plotly.v1+json": {
       "data": [
        {
         "hole": 0.3,
         "insidetextorientation": "radial",
         "labels": [
          "TPL",
          "KMX",
          "VTR",
          "MNRO",
          "TSCO",
          "ANSS",
          "MFA",
          "MLAB",
          "NFLX",
          "DORM",
          "GIII",
          "BGEO.L",
          "IDXX",
          "FTK.DE",
          "ATRI",
          "ROST",
          "MANH",
          "DAKT",
          "PUM.DE",
          "FCN",
          "AVGO",
          "TTC",
          "Other(54)"
         ],
         "textinfo": "label+percent",
         "textposition": "inside",
         "values": [
          0.0032,
          0.0034,
          0.0031,
          0.003,
          0.0052,
          0.0032,
          0.0031,
          0.0029,
          0.0074,
          0.0044,
          0.0054,
          0.0038,
          0.0028,
          0.0029,
          0.003,
          0.0028,
          0.0038,
          0.0028,
          0.0031,
          0.0029,
          0.003,
          0.0028,
          0.1059
         ],
         "type": "pie"
        }
       ],
       "layout": {
        "template": {
         "data": {
          "histogram2dcontour": [
           {
            "type": "histogram2dcontour",
            "colorbar": {
             "outlinewidth": 0,
             "ticks": ""
            },
            "colorscale": [
             [
              0.0,
              "#0d0887"
             ],
             [
              0.1111111111111111,
              "#46039f"
             ],
             [
              0.2222222222222222,
              "#7201a8"
             ],
             [
              0.3333333333333333,
              "#9c179e"
             ],
             [
              0.4444444444444444,
              "#bd3786"
             ],
             [
              0.5555555555555556,
              "#d8576b"
             ],
             [
              0.6666666666666666,
              "#ed7953"
             ],
             [
              0.7777777777777778,
              "#fb9f3a"
             ],
             [
              0.8888888888888888,
              "#fdca26"
             ],
             [
              1.0,
              "#f0f921"
             ]
            ]
           }
          ],
          "choropleth": [
           {
            "type": "choropleth",
            "colorbar": {
             "outlinewidth": 0,
             "ticks": ""
            }
           }
          ],
          "histogram2d": [
           {
            "type": "histogram2d",
            "colorbar": {
             "outlinewidth": 0,
             "ticks": ""
            },
            "colorscale": [
             [
              0.0,
              "#0d0887"
             ],
             [
              0.1111111111111111,
              "#46039f"
             ],
             [
              0.2222222222222222,
              "#7201a8"
             ],
             [
              0.3333333333333333,
              "#9c179e"
             ],
             [
              0.4444444444444444,
              "#bd3786"
             ],
             [
              0.5555555555555556,
              "#d8576b"
             ],
             [
              0.6666666666666666,
              "#ed7953"
             ],
             [
              0.7777777777777778,
              "#fb9f3a"
             ],
             [
              0.8888888888888888,
              "#fdca26"
             ],
             [
              1.0,
              "#f0f921"
             ]
            ]
           }
          ],
          "heatmap": [
           {
            "type": "heatmap",
            "colorbar": {
             "outlinewidth": 0,
             "ticks": ""
            },
            "colorscale": [
             [
              0.0,
              "#0d0887"
             ],
             [
              0.1111111111111111,
              "#46039f"
             ],
             [
              0.2222222222222222,
              "#7201a8"
             ],
             [
              0.3333333333333333,
              "#9c179e"
             ],
             [
              0.4444444444444444,
              "#bd3786"
             ],
             [
              0.5555555555555556,
              "#d8576b"
             ],
             [
              0.6666666666666666,
              "#ed7953"
             ],
             [
              0.7777777777777778,
              "#fb9f3a"
             ],
             [
              0.8888888888888888,
              "#fdca26"
             ],
             [
              1.0,
              "#f0f921"
             ]
            ]
           }
          ],
          "heatmapgl": [
           {
            "type": "heatmapgl",
            "colorbar": {
             "outlinewidth": 0,
             "ticks": ""
            },
            "colorscale": [
             [
              0.0,
              "#0d0887"
             ],
             [
              0.1111111111111111,
              "#46039f"
             ],
             [
              0.2222222222222222,
              "#7201a8"
             ],
             [
              0.3333333333333333,
              "#9c179e"
             ],
             [
              0.4444444444444444,
              "#bd3786"
             ],
             [
              0.5555555555555556,
              "#d8576b"
             ],
             [
              0.6666666666666666,
              "#ed7953"
             ],
             [
              0.7777777777777778,
              "#fb9f3a"
             ],
             [
              0.8888888888888888,
              "#fdca26"
             ],
             [
              1.0,
              "#f0f921"
             ]
            ]
           }
          ],
          "contourcarpet": [
           {
            "type": "contourcarpet",
            "colorbar": {
             "outlinewidth": 0,
             "ticks": ""
            }
           }
          ],
          "contour": [
           {
            "type": "contour",
            "colorbar": {
             "outlinewidth": 0,
             "ticks": ""
            },
            "colorscale": [
             [
              0.0,
              "#0d0887"
             ],
             [
              0.1111111111111111,
              "#46039f"
             ],
             [
              0.2222222222222222,
              "#7201a8"
             ],
             [
              0.3333333333333333,
              "#9c179e"
             ],
             [
              0.4444444444444444,
              "#bd3786"
             ],
             [
              0.5555555555555556,
              "#d8576b"
             ],
             [
              0.6666666666666666,
              "#ed7953"
             ],
             [
              0.7777777777777778,
              "#fb9f3a"
             ],
             [
              0.8888888888888888,
              "#fdca26"
             ],
             [
              1.0,
              "#f0f921"
             ]
            ]
           }
          ],
          "surface": [
           {
            "type": "surface",
            "colorbar": {
             "outlinewidth": 0,
             "ticks": ""
            },
            "colorscale": [
             [
              0.0,
              "#0d0887"
             ],
             [
              0.1111111111111111,
              "#46039f"
             ],
             [
              0.2222222222222222,
              "#7201a8"
             ],
             [
              0.3333333333333333,
              "#9c179e"
             ],
             [
              0.4444444444444444,
              "#bd3786"
             ],
             [
              0.5555555555555556,
              "#d8576b"
             ],
             [
              0.6666666666666666,
              "#ed7953"
             ],
             [
              0.7777777777777778,
              "#fb9f3a"
             ],
             [
              0.8888888888888888,
              "#fdca26"
             ],
             [
              1.0,
              "#f0f921"
             ]
            ]
           }
          ],
          "mesh3d": [
           {
            "type": "mesh3d",
            "colorbar": {
             "outlinewidth": 0,
             "ticks": ""
            }
           }
          ],
          "scatter": [
           {
            "fillpattern": {
             "fillmode": "overlay",
             "size": 10,
             "solidity": 0.2
            },
            "type": "scatter"
           }
          ],
          "parcoords": [
           {
            "type": "parcoords",
            "line": {
             "colorbar": {
              "outlinewidth": 0,
              "ticks": ""
             }
            }
           }
          ],
          "scatterpolargl": [
           {
            "type": "scatterpolargl",
            "marker": {
             "colorbar": {
              "outlinewidth": 0,
              "ticks": ""
             }
            }
           }
          ],
          "bar": [
           {
            "error_x": {
             "color": "#2a3f5f"
            },
            "error_y": {
             "color": "#2a3f5f"
            },
            "marker": {
             "line": {
              "color": "#E5ECF6",
              "width": 0.5
             },
             "pattern": {
              "fillmode": "overlay",
              "size": 10,
              "solidity": 0.2
             }
            },
            "type": "bar"
           }
          ],
          "scattergeo": [
           {
            "type": "scattergeo",
            "marker": {
             "colorbar": {
              "outlinewidth": 0,
              "ticks": ""
             }
            }
           }
          ],
          "scatterpolar": [
           {
            "type": "scatterpolar",
            "marker": {
             "colorbar": {
              "outlinewidth": 0,
              "ticks": ""
             }
            }
           }
          ],
          "histogram": [
           {
            "marker": {
             "pattern": {
              "fillmode": "overlay",
              "size": 10,
              "solidity": 0.2
             }
            },
            "type": "histogram"
           }
          ],
          "scattergl": [
           {
            "type": "scattergl",
            "marker": {
             "colorbar": {
              "outlinewidth": 0,
              "ticks": ""
             }
            }
           }
          ],
          "scatter3d": [
           {
            "type": "scatter3d",
            "line": {
             "colorbar": {
              "outlinewidth": 0,
              "ticks": ""
             }
            },
            "marker": {
             "colorbar": {
              "outlinewidth": 0,
              "ticks": ""
             }
            }
           }
          ],
          "scattermapbox": [
           {
            "type": "scattermapbox",
            "marker": {
             "colorbar": {
              "outlinewidth": 0,
              "ticks": ""
             }
            }
           }
          ],
          "scatterternary": [
           {
            "type": "scatterternary",
            "marker": {
             "colorbar": {
              "outlinewidth": 0,
              "ticks": ""
             }
            }
           }
          ],
          "scattercarpet": [
           {
            "type": "scattercarpet",
            "marker": {
             "colorbar": {
              "outlinewidth": 0,
              "ticks": ""
             }
            }
           }
          ],
          "carpet": [
           {
            "aaxis": {
             "endlinecolor": "#2a3f5f",
             "gridcolor": "white",
             "linecolor": "white",
             "minorgridcolor": "white",
             "startlinecolor": "#2a3f5f"
            },
            "baxis": {
             "endlinecolor": "#2a3f5f",
             "gridcolor": "white",
             "linecolor": "white",
             "minorgridcolor": "white",
             "startlinecolor": "#2a3f5f"
            },
            "type": "carpet"
           }
          ],
          "table": [
           {
            "cells": {
             "fill": {
              "color": "#EBF0F8"
             },
             "line": {
              "color": "white"
             }
            },
            "header": {
             "fill": {
              "color": "#C8D4E3"
             },
             "line": {
              "color": "white"
             }
            },
            "type": "table"
           }
          ],
          "barpolar": [
           {
            "marker": {
             "line": {
              "color": "#E5ECF6",
              "width": 0.5
             },
             "pattern": {
              "fillmode": "overlay",
              "size": 10,
              "solidity": 0.2
             }
            },
            "type": "barpolar"
           }
          ],
          "pie": [
           {
            "automargin": true,
            "type": "pie"
           }
          ]
         },
         "layout": {
          "autotypenumbers": "strict",
          "colorway": [
           "#636efa",
           "#EF553B",
           "#00cc96",
           "#ab63fa",
           "#FFA15A",
           "#19d3f3",
           "#FF6692",
           "#B6E880",
           "#FF97FF",
           "#FECB52"
          ],
          "font": {
           "color": "#2a3f5f"
          },
          "hovermode": "closest",
          "hoverlabel": {
           "align": "left"
          },
          "paper_bgcolor": "white",
          "plot_bgcolor": "#E5ECF6",
          "polar": {
           "bgcolor": "#E5ECF6",
           "angularaxis": {
            "gridcolor": "white",
            "linecolor": "white",
            "ticks": ""
           },
           "radialaxis": {
            "gridcolor": "white",
            "linecolor": "white",
            "ticks": ""
           }
          },
          "ternary": {
           "bgcolor": "#E5ECF6",
           "aaxis": {
            "gridcolor": "white",
            "linecolor": "white",
            "ticks": ""
           },
           "baxis": {
            "gridcolor": "white",
            "linecolor": "white",
            "ticks": ""
           },
           "caxis": {
            "gridcolor": "white",
            "linecolor": "white",
            "ticks": ""
           }
          },
          "coloraxis": {
           "colorbar": {
            "outlinewidth": 0,
            "ticks": ""
           }
          },
          "colorscale": {
           "sequential": [
            [
             0.0,
             "#0d0887"
            ],
            [
             0.1111111111111111,
             "#46039f"
            ],
            [
             0.2222222222222222,
             "#7201a8"
            ],
            [
             0.3333333333333333,
             "#9c179e"
            ],
            [
             0.4444444444444444,
             "#bd3786"
            ],
            [
             0.5555555555555556,
             "#d8576b"
            ],
            [
             0.6666666666666666,
             "#ed7953"
            ],
            [
             0.7777777777777778,
             "#fb9f3a"
            ],
            [
             0.8888888888888888,
             "#fdca26"
            ],
            [
             1.0,
             "#f0f921"
            ]
           ],
           "sequentialminus": [
            [
             0.0,
             "#0d0887"
            ],
            [
             0.1111111111111111,
             "#46039f"
            ],
            [
             0.2222222222222222,
             "#7201a8"
            ],
            [
             0.3333333333333333,
             "#9c179e"
            ],
            [
             0.4444444444444444,
             "#bd3786"
            ],
            [
             0.5555555555555556,
             "#d8576b"
            ],
            [
             0.6666666666666666,
             "#ed7953"
            ],
            [
             0.7777777777777778,
             "#fb9f3a"
            ],
            [
             0.8888888888888888,
             "#fdca26"
            ],
            [
             1.0,
             "#f0f921"
            ]
           ],
           "diverging": [
            [
             0,
             "#8e0152"
            ],
            [
             0.1,
             "#c51b7d"
            ],
            [
             0.2,
             "#de77ae"
            ],
            [
             0.3,
             "#f1b6da"
            ],
            [
             0.4,
             "#fde0ef"
            ],
            [
             0.5,
             "#f7f7f7"
            ],
            [
             0.6,
             "#e6f5d0"
            ],
            [
             0.7,
             "#b8e186"
            ],
            [
             0.8,
             "#7fbc41"
            ],
            [
             0.9,
             "#4d9221"
            ],
            [
             1,
             "#276419"
            ]
           ]
          },
          "xaxis": {
           "gridcolor": "white",
           "linecolor": "white",
           "ticks": "",
           "title": {
            "standoff": 15
           },
           "zerolinecolor": "white",
           "automargin": true,
           "zerolinewidth": 2
          },
          "yaxis": {
           "gridcolor": "white",
           "linecolor": "white",
           "ticks": "",
           "title": {
            "standoff": 15
           },
           "zerolinecolor": "white",
           "automargin": true,
           "zerolinewidth": 2
          },
          "scene": {
           "xaxis": {
            "backgroundcolor": "#E5ECF6",
            "gridcolor": "white",
            "linecolor": "white",
            "showbackground": true,
            "ticks": "",
            "zerolinecolor": "white",
            "gridwidth": 2
           },
           "yaxis": {
            "backgroundcolor": "#E5ECF6",
            "gridcolor": "white",
            "linecolor": "white",
            "showbackground": true,
            "ticks": "",
            "zerolinecolor": "white",
            "gridwidth": 2
           },
           "zaxis": {
            "backgroundcolor": "#E5ECF6",
            "gridcolor": "white",
            "linecolor": "white",
            "showbackground": true,
            "ticks": "",
            "zerolinecolor": "white",
            "gridwidth": 2
           }
          },
          "shapedefaults": {
           "line": {
            "color": "#2a3f5f"
           }
          },
          "annotationdefaults": {
           "arrowcolor": "#2a3f5f",
           "arrowhead": 0,
           "arrowwidth": 1
          },
          "geo": {
           "bgcolor": "white",
           "landcolor": "#E5ECF6",
           "subunitcolor": "white",
           "showland": true,
           "showlakes": true,
           "lakecolor": "white"
          },
          "title": {
           "x": 0.05
          },
          "mapbox": {
           "style": "light"
          }
         }
        },
        "margin": {
         "l": 20,
         "r": 20,
         "t": 20,
         "b": 20
        },
        "font": {
         "color": "black"
        },
        "height": 600,
        "width": 600,
        "paper_bgcolor": "white",
        "plot_bgcolor": "white",
        "showlegend": false
       },
       "config": {
        "plotlyServerURL": "https://plot.ly"
       }
      },
      "text/html": [
       "<div>                            <div id=\"4f8d4995-391d-4b1f-85f9-8f734b6de981\" class=\"plotly-graph-div\" style=\"height:600px; width:600px;\"></div>            <script type=\"text/javascript\">                require([\"plotly\"], function(Plotly) {                    window.PLOTLYENV=window.PLOTLYENV || {};                                    if (document.getElementById(\"4f8d4995-391d-4b1f-85f9-8f734b6de981\")) {                    Plotly.newPlot(                        \"4f8d4995-391d-4b1f-85f9-8f734b6de981\",                        [{\"hole\":0.3,\"insidetextorientation\":\"radial\",\"labels\":[\"TPL\",\"KMX\",\"VTR\",\"MNRO\",\"TSCO\",\"ANSS\",\"MFA\",\"MLAB\",\"NFLX\",\"DORM\",\"GIII\",\"BGEO.L\",\"IDXX\",\"FTK.DE\",\"ATRI\",\"ROST\",\"MANH\",\"DAKT\",\"PUM.DE\",\"FCN\",\"AVGO\",\"TTC\",\"Other(54)\"],\"textinfo\":\"label+percent\",\"textposition\":\"inside\",\"values\":[0.0032,0.0034,0.0031,0.003,0.0052,0.0032,0.0031,0.0029,0.0074,0.0044,0.0054,0.0038,0.0028,0.0029,0.003,0.0028,0.0038,0.0028,0.0031,0.0029,0.003,0.0028,0.1059],\"type\":\"pie\"}],                        {\"template\":{\"data\":{\"histogram2dcontour\":[{\"type\":\"histogram2dcontour\",\"colorbar\":{\"outlinewidth\":0,\"ticks\":\"\"},\"colorscale\":[[0.0,\"#0d0887\"],[0.1111111111111111,\"#46039f\"],[0.2222222222222222,\"#7201a8\"],[0.3333333333333333,\"#9c179e\"],[0.4444444444444444,\"#bd3786\"],[0.5555555555555556,\"#d8576b\"],[0.6666666666666666,\"#ed7953\"],[0.7777777777777778,\"#fb9f3a\"],[0.8888888888888888,\"#fdca26\"],[1.0,\"#f0f921\"]]}],\"choropleth\":[{\"type\":\"choropleth\",\"colorbar\":{\"outlinewidth\":0,\"ticks\":\"\"}}],\"histogram2d\":[{\"type\":\"histogram2d\",\"colorbar\":{\"outlinewidth\":0,\"ticks\":\"\"},\"colorscale\":[[0.0,\"#0d0887\"],[0.1111111111111111,\"#46039f\"],[0.2222222222222222,\"#7201a8\"],[0.3333333333333333,\"#9c179e\"],[0.4444444444444444,\"#bd3786\"],[0.5555555555555556,\"#d8576b\"],[0.6666666666666666,\"#ed7953\"],[0.7777777777777778,\"#fb9f3a\"],[0.8888888888888888,\"#fdca26\"],[1.0,\"#f0f921\"]]}],\"heatmap\":[{\"type\":\"heatmap\",\"colorbar\":{\"outlinewidth\":0,\"ticks\":\"\"},\"colorscale\":[[0.0,\"#0d0887\"],[0.1111111111111111,\"#46039f\"],[0.2222222222222222,\"#7201a8\"],[0.3333333333333333,\"#9c179e\"],[0.4444444444444444,\"#bd3786\"],[0.5555555555555556,\"#d8576b\"],[0.6666666666666666,\"#ed7953\"],[0.7777777777777778,\"#fb9f3a\"],[0.8888888888888888,\"#fdca26\"],[1.0,\"#f0f921\"]]}],\"heatmapgl\":[{\"type\":\"heatmapgl\",\"colorbar\":{\"outlinewidth\":0,\"ticks\":\"\"},\"colorscale\":[[0.0,\"#0d0887\"],[0.1111111111111111,\"#46039f\"],[0.2222222222222222,\"#7201a8\"],[0.3333333333333333,\"#9c179e\"],[0.4444444444444444,\"#bd3786\"],[0.5555555555555556,\"#d8576b\"],[0.6666666666666666,\"#ed7953\"],[0.7777777777777778,\"#fb9f3a\"],[0.8888888888888888,\"#fdca26\"],[1.0,\"#f0f921\"]]}],\"contourcarpet\":[{\"type\":\"contourcarpet\",\"colorbar\":{\"outlinewidth\":0,\"ticks\":\"\"}}],\"contour\":[{\"type\":\"contour\",\"colorbar\":{\"outlinewidth\":0,\"ticks\":\"\"},\"colorscale\":[[0.0,\"#0d0887\"],[0.1111111111111111,\"#46039f\"],[0.2222222222222222,\"#7201a8\"],[0.3333333333333333,\"#9c179e\"],[0.4444444444444444,\"#bd3786\"],[0.5555555555555556,\"#d8576b\"],[0.6666666666666666,\"#ed7953\"],[0.7777777777777778,\"#fb9f3a\"],[0.8888888888888888,\"#fdca26\"],[1.0,\"#f0f921\"]]}],\"surface\":[{\"type\":\"surface\",\"colorbar\":{\"outlinewidth\":0,\"ticks\":\"\"},\"colorscale\":[[0.0,\"#0d0887\"],[0.1111111111111111,\"#46039f\"],[0.2222222222222222,\"#7201a8\"],[0.3333333333333333,\"#9c179e\"],[0.4444444444444444,\"#bd3786\"],[0.5555555555555556,\"#d8576b\"],[0.6666666666666666,\"#ed7953\"],[0.7777777777777778,\"#fb9f3a\"],[0.8888888888888888,\"#fdca26\"],[1.0,\"#f0f921\"]]}],\"mesh3d\":[{\"type\":\"mesh3d\",\"colorbar\":{\"outlinewidth\":0,\"ticks\":\"\"}}],\"scatter\":[{\"fillpattern\":{\"fillmode\":\"overlay\",\"size\":10,\"solidity\":0.2},\"type\":\"scatter\"}],\"parcoords\":[{\"type\":\"parcoords\",\"line\":{\"colorbar\":{\"outlinewidth\":0,\"ticks\":\"\"}}}],\"scatterpolargl\":[{\"type\":\"scatterpolargl\",\"marker\":{\"colorbar\":{\"outlinewidth\":0,\"ticks\":\"\"}}}],\"bar\":[{\"error_x\":{\"color\":\"#2a3f5f\"},\"error_y\":{\"color\":\"#2a3f5f\"},\"marker\":{\"line\":{\"color\":\"#E5ECF6\",\"width\":0.5},\"pattern\":{\"fillmode\":\"overlay\",\"size\":10,\"solidity\":0.2}},\"type\":\"bar\"}],\"scattergeo\":[{\"type\":\"scattergeo\",\"marker\":{\"colorbar\":{\"outlinewidth\":0,\"ticks\":\"\"}}}],\"scatterpolar\":[{\"type\":\"scatterpolar\",\"marker\":{\"colorbar\":{\"outlinewidth\":0,\"ticks\":\"\"}}}],\"histogram\":[{\"marker\":{\"pattern\":{\"fillmode\":\"overlay\",\"size\":10,\"solidity\":0.2}},\"type\":\"histogram\"}],\"scattergl\":[{\"type\":\"scattergl\",\"marker\":{\"colorbar\":{\"outlinewidth\":0,\"ticks\":\"\"}}}],\"scatter3d\":[{\"type\":\"scatter3d\",\"line\":{\"colorbar\":{\"outlinewidth\":0,\"ticks\":\"\"}},\"marker\":{\"colorbar\":{\"outlinewidth\":0,\"ticks\":\"\"}}}],\"scattermapbox\":[{\"type\":\"scattermapbox\",\"marker\":{\"colorbar\":{\"outlinewidth\":0,\"ticks\":\"\"}}}],\"scatterternary\":[{\"type\":\"scatterternary\",\"marker\":{\"colorbar\":{\"outlinewidth\":0,\"ticks\":\"\"}}}],\"scattercarpet\":[{\"type\":\"scattercarpet\",\"marker\":{\"colorbar\":{\"outlinewidth\":0,\"ticks\":\"\"}}}],\"carpet\":[{\"aaxis\":{\"endlinecolor\":\"#2a3f5f\",\"gridcolor\":\"white\",\"linecolor\":\"white\",\"minorgridcolor\":\"white\",\"startlinecolor\":\"#2a3f5f\"},\"baxis\":{\"endlinecolor\":\"#2a3f5f\",\"gridcolor\":\"white\",\"linecolor\":\"white\",\"minorgridcolor\":\"white\",\"startlinecolor\":\"#2a3f5f\"},\"type\":\"carpet\"}],\"table\":[{\"cells\":{\"fill\":{\"color\":\"#EBF0F8\"},\"line\":{\"color\":\"white\"}},\"header\":{\"fill\":{\"color\":\"#C8D4E3\"},\"line\":{\"color\":\"white\"}},\"type\":\"table\"}],\"barpolar\":[{\"marker\":{\"line\":{\"color\":\"#E5ECF6\",\"width\":0.5},\"pattern\":{\"fillmode\":\"overlay\",\"size\":10,\"solidity\":0.2}},\"type\":\"barpolar\"}],\"pie\":[{\"automargin\":true,\"type\":\"pie\"}]},\"layout\":{\"autotypenumbers\":\"strict\",\"colorway\":[\"#636efa\",\"#EF553B\",\"#00cc96\",\"#ab63fa\",\"#FFA15A\",\"#19d3f3\",\"#FF6692\",\"#B6E880\",\"#FF97FF\",\"#FECB52\"],\"font\":{\"color\":\"#2a3f5f\"},\"hovermode\":\"closest\",\"hoverlabel\":{\"align\":\"left\"},\"paper_bgcolor\":\"white\",\"plot_bgcolor\":\"#E5ECF6\",\"polar\":{\"bgcolor\":\"#E5ECF6\",\"angularaxis\":{\"gridcolor\":\"white\",\"linecolor\":\"white\",\"ticks\":\"\"},\"radialaxis\":{\"gridcolor\":\"white\",\"linecolor\":\"white\",\"ticks\":\"\"}},\"ternary\":{\"bgcolor\":\"#E5ECF6\",\"aaxis\":{\"gridcolor\":\"white\",\"linecolor\":\"white\",\"ticks\":\"\"},\"baxis\":{\"gridcolor\":\"white\",\"linecolor\":\"white\",\"ticks\":\"\"},\"caxis\":{\"gridcolor\":\"white\",\"linecolor\":\"white\",\"ticks\":\"\"}},\"coloraxis\":{\"colorbar\":{\"outlinewidth\":0,\"ticks\":\"\"}},\"colorscale\":{\"sequential\":[[0.0,\"#0d0887\"],[0.1111111111111111,\"#46039f\"],[0.2222222222222222,\"#7201a8\"],[0.3333333333333333,\"#9c179e\"],[0.4444444444444444,\"#bd3786\"],[0.5555555555555556,\"#d8576b\"],[0.6666666666666666,\"#ed7953\"],[0.7777777777777778,\"#fb9f3a\"],[0.8888888888888888,\"#fdca26\"],[1.0,\"#f0f921\"]],\"sequentialminus\":[[0.0,\"#0d0887\"],[0.1111111111111111,\"#46039f\"],[0.2222222222222222,\"#7201a8\"],[0.3333333333333333,\"#9c179e\"],[0.4444444444444444,\"#bd3786\"],[0.5555555555555556,\"#d8576b\"],[0.6666666666666666,\"#ed7953\"],[0.7777777777777778,\"#fb9f3a\"],[0.8888888888888888,\"#fdca26\"],[1.0,\"#f0f921\"]],\"diverging\":[[0,\"#8e0152\"],[0.1,\"#c51b7d\"],[0.2,\"#de77ae\"],[0.3,\"#f1b6da\"],[0.4,\"#fde0ef\"],[0.5,\"#f7f7f7\"],[0.6,\"#e6f5d0\"],[0.7,\"#b8e186\"],[0.8,\"#7fbc41\"],[0.9,\"#4d9221\"],[1,\"#276419\"]]},\"xaxis\":{\"gridcolor\":\"white\",\"linecolor\":\"white\",\"ticks\":\"\",\"title\":{\"standoff\":15},\"zerolinecolor\":\"white\",\"automargin\":true,\"zerolinewidth\":2},\"yaxis\":{\"gridcolor\":\"white\",\"linecolor\":\"white\",\"ticks\":\"\",\"title\":{\"standoff\":15},\"zerolinecolor\":\"white\",\"automargin\":true,\"zerolinewidth\":2},\"scene\":{\"xaxis\":{\"backgroundcolor\":\"#E5ECF6\",\"gridcolor\":\"white\",\"linecolor\":\"white\",\"showbackground\":true,\"ticks\":\"\",\"zerolinecolor\":\"white\",\"gridwidth\":2},\"yaxis\":{\"backgroundcolor\":\"#E5ECF6\",\"gridcolor\":\"white\",\"linecolor\":\"white\",\"showbackground\":true,\"ticks\":\"\",\"zerolinecolor\":\"white\",\"gridwidth\":2},\"zaxis\":{\"backgroundcolor\":\"#E5ECF6\",\"gridcolor\":\"white\",\"linecolor\":\"white\",\"showbackground\":true,\"ticks\":\"\",\"zerolinecolor\":\"white\",\"gridwidth\":2}},\"shapedefaults\":{\"line\":{\"color\":\"#2a3f5f\"}},\"annotationdefaults\":{\"arrowcolor\":\"#2a3f5f\",\"arrowhead\":0,\"arrowwidth\":1},\"geo\":{\"bgcolor\":\"white\",\"landcolor\":\"#E5ECF6\",\"subunitcolor\":\"white\",\"showland\":true,\"showlakes\":true,\"lakecolor\":\"white\"},\"title\":{\"x\":0.05},\"mapbox\":{\"style\":\"light\"}}},\"margin\":{\"l\":20,\"r\":20,\"t\":20,\"b\":20},\"font\":{\"color\":\"black\"},\"height\":600,\"width\":600,\"paper_bgcolor\":\"white\",\"plot_bgcolor\":\"white\",\"showlegend\":false},                        {\"responsive\": true}                    ).then(function(){\n",
       "                            \n",
       "var gd = document.getElementById('4f8d4995-391d-4b1f-85f9-8f734b6de981');\n",
       "var x = new MutationObserver(function (mutations, observer) {{\n",
       "        var display = window.getComputedStyle(gd).display;\n",
       "        if (!display || display === 'none') {{\n",
       "            console.log([gd, 'removed!']);\n",
       "            Plotly.purge(gd);\n",
       "            observer.disconnect();\n",
       "        }}\n",
       "}});\n",
       "\n",
       "// Listen for the removal of the full notebook cells\n",
       "var notebookContainer = gd.closest('#notebook-container');\n",
       "if (notebookContainer) {{\n",
       "    x.observe(notebookContainer, {childList: true});\n",
       "}}\n",
       "\n",
       "// Listen for the clearing of the current output cell\n",
       "var outputEl = gd.closest('.output');\n",
       "if (outputEl) {{\n",
       "    x.observe(outputEl, {childList: true});\n",
       "}}\n",
       "\n",
       "                        })                };                });            </script>        </div>"
      ]
     },
     "metadata": {},
     "output_type": "display_data"
    }
   ],
   "execution_count": 37
  },
  {
   "metadata": {},
   "cell_type": "markdown",
   "source": "#### Overview",
   "id": "8cf201cc6950222f"
  },
  {
   "metadata": {
    "ExecuteTime": {
     "end_time": "2025-05-31T19:30:11.936763Z",
     "start_time": "2025-05-31T19:30:11.919658Z"
    }
   },
   "cell_type": "code",
   "source": [
    "importlib.reload(mpt_utils)\n",
    "# Create overview\n",
    "df_view_20y = mpt_utils.generate_overview_table(weights_all_20y, mu_20y, S_20y, df_pct)\n",
    "df_view_20y"
   ],
   "id": "a381a95febc86920",
   "outputs": [
    {
     "data": {
      "text/plain": [
       "        Weight  Average Covariance Average Returns Return Last 12 Months  \\\n",
       "NFLX         1           -0.013467          23.00%                -3.91%   \n",
       "GIII         2           -0.007200          28.70%               -36.34%   \n",
       "TSCO         1           -0.004800          20.56%                 5.05%   \n",
       "DORM         1            0.004667          10.31%               -10.26%   \n",
       "BGEO.L       1            0.005600          11.79%               -13.39%   \n",
       "...        ...                 ...             ...                   ...   \n",
       "AGNC         1            0.001467          24.91%                 8.47%   \n",
       "ECV.DE       1           -0.001467           9.22%                55.18%   \n",
       "SFQ.DE       1            0.025600          22.45%               -48.70%   \n",
       "CPRX         1           -0.009067          20.41%                58.04%   \n",
       "DXLG         5            0.002133          21.57%               -51.71%   \n",
       "\n",
       "       Return (Actual) Next 12 Months  \n",
       "NFLX                           84.33%  \n",
       "GIII                          -50.29%  \n",
       "TSCO                           57.44%  \n",
       "DORM                           13.58%  \n",
       "BGEO.L                        -32.78%  \n",
       "...                               ...  \n",
       "AGNC                           -3.02%  \n",
       "ECV.DE                        100.63%  \n",
       "SFQ.DE                          8.17%  \n",
       "CPRX                          -44.43%  \n",
       "DXLG                          -84.57%  \n",
       "\n",
       "[76 rows x 5 columns]"
      ],
      "text/html": [
       "<div>\n",
       "<style scoped>\n",
       "    .dataframe tbody tr th:only-of-type {\n",
       "        vertical-align: middle;\n",
       "    }\n",
       "\n",
       "    .dataframe tbody tr th {\n",
       "        vertical-align: top;\n",
       "    }\n",
       "\n",
       "    .dataframe thead th {\n",
       "        text-align: right;\n",
       "    }\n",
       "</style>\n",
       "<table border=\"1\" class=\"dataframe\">\n",
       "  <thead>\n",
       "    <tr style=\"text-align: right;\">\n",
       "      <th></th>\n",
       "      <th>Weight</th>\n",
       "      <th>Average Covariance</th>\n",
       "      <th>Average Returns</th>\n",
       "      <th>Return Last 12 Months</th>\n",
       "      <th>Return (Actual) Next 12 Months</th>\n",
       "    </tr>\n",
       "  </thead>\n",
       "  <tbody>\n",
       "    <tr>\n",
       "      <th>NFLX</th>\n",
       "      <td>1</td>\n",
       "      <td>-0.013467</td>\n",
       "      <td>23.00%</td>\n",
       "      <td>-3.91%</td>\n",
       "      <td>84.33%</td>\n",
       "    </tr>\n",
       "    <tr>\n",
       "      <th>GIII</th>\n",
       "      <td>2</td>\n",
       "      <td>-0.007200</td>\n",
       "      <td>28.70%</td>\n",
       "      <td>-36.34%</td>\n",
       "      <td>-50.29%</td>\n",
       "    </tr>\n",
       "    <tr>\n",
       "      <th>TSCO</th>\n",
       "      <td>1</td>\n",
       "      <td>-0.004800</td>\n",
       "      <td>20.56%</td>\n",
       "      <td>5.05%</td>\n",
       "      <td>57.44%</td>\n",
       "    </tr>\n",
       "    <tr>\n",
       "      <th>DORM</th>\n",
       "      <td>1</td>\n",
       "      <td>0.004667</td>\n",
       "      <td>10.31%</td>\n",
       "      <td>-10.26%</td>\n",
       "      <td>13.58%</td>\n",
       "    </tr>\n",
       "    <tr>\n",
       "      <th>BGEO.L</th>\n",
       "      <td>1</td>\n",
       "      <td>0.005600</td>\n",
       "      <td>11.79%</td>\n",
       "      <td>-13.39%</td>\n",
       "      <td>-32.78%</td>\n",
       "    </tr>\n",
       "    <tr>\n",
       "      <th>...</th>\n",
       "      <td>...</td>\n",
       "      <td>...</td>\n",
       "      <td>...</td>\n",
       "      <td>...</td>\n",
       "      <td>...</td>\n",
       "    </tr>\n",
       "    <tr>\n",
       "      <th>AGNC</th>\n",
       "      <td>1</td>\n",
       "      <td>0.001467</td>\n",
       "      <td>24.91%</td>\n",
       "      <td>8.47%</td>\n",
       "      <td>-3.02%</td>\n",
       "    </tr>\n",
       "    <tr>\n",
       "      <th>ECV.DE</th>\n",
       "      <td>1</td>\n",
       "      <td>-0.001467</td>\n",
       "      <td>9.22%</td>\n",
       "      <td>55.18%</td>\n",
       "      <td>100.63%</td>\n",
       "    </tr>\n",
       "    <tr>\n",
       "      <th>SFQ.DE</th>\n",
       "      <td>1</td>\n",
       "      <td>0.025600</td>\n",
       "      <td>22.45%</td>\n",
       "      <td>-48.70%</td>\n",
       "      <td>8.17%</td>\n",
       "    </tr>\n",
       "    <tr>\n",
       "      <th>CPRX</th>\n",
       "      <td>1</td>\n",
       "      <td>-0.009067</td>\n",
       "      <td>20.41%</td>\n",
       "      <td>58.04%</td>\n",
       "      <td>-44.43%</td>\n",
       "    </tr>\n",
       "    <tr>\n",
       "      <th>DXLG</th>\n",
       "      <td>5</td>\n",
       "      <td>0.002133</td>\n",
       "      <td>21.57%</td>\n",
       "      <td>-51.71%</td>\n",
       "      <td>-84.57%</td>\n",
       "    </tr>\n",
       "  </tbody>\n",
       "</table>\n",
       "<p>76 rows × 5 columns</p>\n",
       "</div>"
      ]
     },
     "execution_count": 31,
     "metadata": {},
     "output_type": "execute_result"
    }
   ],
   "execution_count": 31
  },
  {
   "metadata": {
    "ExecuteTime": {
     "end_time": "2025-05-31T19:30:12.037276Z",
     "start_time": "2025-05-31T19:30:11.961425Z"
    }
   },
   "cell_type": "code",
   "source": [
    "importlib.reload(plots)\n",
    "importlib.reload(mpt_utils)\n",
    "importlib.reload(variables)\n",
    "\n",
    "df_view_20y = mpt_utils.generate_overview_table(weights_all_20y, mu_20y, S_20y, df_pct, format_nr=False)\n",
    "plots.plot_diff(df_view_20y.index.tolist(), df_view_20y['Average Returns'].values, df_view_20y['Return Last 12 Months'].values)"
   ],
   "id": "c10aea90bb89de36",
   "outputs": [
    {
     "data": {
      "application/vnd.plotly.v1+json": {
       "data": [
        {
         "alignmentgroup": "True",
         "hovertemplate": "Return Type=Average Return (%)<br>Ticker=%{x}<br>Return (%)=%{y}<extra></extra>",
         "legendgroup": "Average Return (%)",
         "marker": {
          "color": "#636efa",
          "pattern": {
           "shape": ""
          }
         },
         "name": "Average Return (%)",
         "offsetgroup": "Average Return (%)",
         "orientation": "v",
         "showlegend": true,
         "textposition": "auto",
         "texttemplate": "%{y}",
         "x": [
          "NFLX",
          "TPL",
          "FCN",
          "2124.T",
          "ICLR",
          "BLK",
          "LCII",
          "SKT",
          "ESCA",
          "DXLG"
         ],
         "xaxis": "x",
         "y": [
          0.23,
          0.281,
          0.2738,
          0.2957,
          0.2102,
          0.3572,
          0.0523,
          0.2607,
          0.2669,
          0.2157
         ],
         "yaxis": "y",
         "type": "bar"
        },
        {
         "alignmentgroup": "True",
         "hovertemplate": "Return Type=Actual Return (Next Year) (%)<br>Ticker=%{x}<br>Return (%)=%{y}<extra></extra>",
         "legendgroup": "Actual Return (Next Year) (%)",
         "marker": {
          "color": "#EF553B",
          "pattern": {
           "shape": ""
          }
         },
         "name": "Actual Return (Next Year) (%)",
         "offsetgroup": "Actual Return (Next Year) (%)",
         "orientation": "v",
         "showlegend": true,
         "textposition": "auto",
         "texttemplate": "%{y}",
         "x": [
          "NFLX",
          "TPL",
          "FCN",
          "2124.T",
          "ICLR",
          "BLK",
          "LCII",
          "SKT",
          "ESCA",
          "DXLG"
         ],
         "xaxis": "x",
         "y": [
          -0.0391,
          -0.2411,
          0.6315,
          0.0269,
          0.0763,
          0.1343,
          0.4391,
          -0.226,
          0.0262,
          -0.5171
         ],
         "yaxis": "y",
         "type": "bar"
        }
       ],
       "layout": {
        "template": {
         "data": {
          "barpolar": [
           {
            "marker": {
             "line": {
              "color": "white",
              "width": 0.5
             },
             "pattern": {
              "fillmode": "overlay",
              "size": 10,
              "solidity": 0.2
             }
            },
            "type": "barpolar"
           }
          ],
          "bar": [
           {
            "error_x": {
             "color": "#2a3f5f"
            },
            "error_y": {
             "color": "#2a3f5f"
            },
            "marker": {
             "line": {
              "color": "white",
              "width": 0.5
             },
             "pattern": {
              "fillmode": "overlay",
              "size": 10,
              "solidity": 0.2
             }
            },
            "type": "bar"
           }
          ],
          "carpet": [
           {
            "aaxis": {
             "endlinecolor": "#2a3f5f",
             "gridcolor": "#C8D4E3",
             "linecolor": "#C8D4E3",
             "minorgridcolor": "#C8D4E3",
             "startlinecolor": "#2a3f5f"
            },
            "baxis": {
             "endlinecolor": "#2a3f5f",
             "gridcolor": "#C8D4E3",
             "linecolor": "#C8D4E3",
             "minorgridcolor": "#C8D4E3",
             "startlinecolor": "#2a3f5f"
            },
            "type": "carpet"
           }
          ],
          "choropleth": [
           {
            "colorbar": {
             "outlinewidth": 0,
             "ticks": ""
            },
            "type": "choropleth"
           }
          ],
          "contourcarpet": [
           {
            "colorbar": {
             "outlinewidth": 0,
             "ticks": ""
            },
            "type": "contourcarpet"
           }
          ],
          "contour": [
           {
            "colorbar": {
             "outlinewidth": 0,
             "ticks": ""
            },
            "colorscale": [
             [
              0.0,
              "#0d0887"
             ],
             [
              0.1111111111111111,
              "#46039f"
             ],
             [
              0.2222222222222222,
              "#7201a8"
             ],
             [
              0.3333333333333333,
              "#9c179e"
             ],
             [
              0.4444444444444444,
              "#bd3786"
             ],
             [
              0.5555555555555556,
              "#d8576b"
             ],
             [
              0.6666666666666666,
              "#ed7953"
             ],
             [
              0.7777777777777778,
              "#fb9f3a"
             ],
             [
              0.8888888888888888,
              "#fdca26"
             ],
             [
              1.0,
              "#f0f921"
             ]
            ],
            "type": "contour"
           }
          ],
          "heatmapgl": [
           {
            "colorbar": {
             "outlinewidth": 0,
             "ticks": ""
            },
            "colorscale": [
             [
              0.0,
              "#0d0887"
             ],
             [
              0.1111111111111111,
              "#46039f"
             ],
             [
              0.2222222222222222,
              "#7201a8"
             ],
             [
              0.3333333333333333,
              "#9c179e"
             ],
             [
              0.4444444444444444,
              "#bd3786"
             ],
             [
              0.5555555555555556,
              "#d8576b"
             ],
             [
              0.6666666666666666,
              "#ed7953"
             ],
             [
              0.7777777777777778,
              "#fb9f3a"
             ],
             [
              0.8888888888888888,
              "#fdca26"
             ],
             [
              1.0,
              "#f0f921"
             ]
            ],
            "type": "heatmapgl"
           }
          ],
          "heatmap": [
           {
            "colorbar": {
             "outlinewidth": 0,
             "ticks": ""
            },
            "colorscale": [
             [
              0.0,
              "#0d0887"
             ],
             [
              0.1111111111111111,
              "#46039f"
             ],
             [
              0.2222222222222222,
              "#7201a8"
             ],
             [
              0.3333333333333333,
              "#9c179e"
             ],
             [
              0.4444444444444444,
              "#bd3786"
             ],
             [
              0.5555555555555556,
              "#d8576b"
             ],
             [
              0.6666666666666666,
              "#ed7953"
             ],
             [
              0.7777777777777778,
              "#fb9f3a"
             ],
             [
              0.8888888888888888,
              "#fdca26"
             ],
             [
              1.0,
              "#f0f921"
             ]
            ],
            "type": "heatmap"
           }
          ],
          "histogram2dcontour": [
           {
            "colorbar": {
             "outlinewidth": 0,
             "ticks": ""
            },
            "colorscale": [
             [
              0.0,
              "#0d0887"
             ],
             [
              0.1111111111111111,
              "#46039f"
             ],
             [
              0.2222222222222222,
              "#7201a8"
             ],
             [
              0.3333333333333333,
              "#9c179e"
             ],
             [
              0.4444444444444444,
              "#bd3786"
             ],
             [
              0.5555555555555556,
              "#d8576b"
             ],
             [
              0.6666666666666666,
              "#ed7953"
             ],
             [
              0.7777777777777778,
              "#fb9f3a"
             ],
             [
              0.8888888888888888,
              "#fdca26"
             ],
             [
              1.0,
              "#f0f921"
             ]
            ],
            "type": "histogram2dcontour"
           }
          ],
          "histogram2d": [
           {
            "colorbar": {
             "outlinewidth": 0,
             "ticks": ""
            },
            "colorscale": [
             [
              0.0,
              "#0d0887"
             ],
             [
              0.1111111111111111,
              "#46039f"
             ],
             [
              0.2222222222222222,
              "#7201a8"
             ],
             [
              0.3333333333333333,
              "#9c179e"
             ],
             [
              0.4444444444444444,
              "#bd3786"
             ],
             [
              0.5555555555555556,
              "#d8576b"
             ],
             [
              0.6666666666666666,
              "#ed7953"
             ],
             [
              0.7777777777777778,
              "#fb9f3a"
             ],
             [
              0.8888888888888888,
              "#fdca26"
             ],
             [
              1.0,
              "#f0f921"
             ]
            ],
            "type": "histogram2d"
           }
          ],
          "histogram": [
           {
            "marker": {
             "pattern": {
              "fillmode": "overlay",
              "size": 10,
              "solidity": 0.2
             }
            },
            "type": "histogram"
           }
          ],
          "mesh3d": [
           {
            "colorbar": {
             "outlinewidth": 0,
             "ticks": ""
            },
            "type": "mesh3d"
           }
          ],
          "parcoords": [
           {
            "line": {
             "colorbar": {
              "outlinewidth": 0,
              "ticks": ""
             }
            },
            "type": "parcoords"
           }
          ],
          "pie": [
           {
            "automargin": true,
            "type": "pie"
           }
          ],
          "scatter3d": [
           {
            "line": {
             "colorbar": {
              "outlinewidth": 0,
              "ticks": ""
             }
            },
            "marker": {
             "colorbar": {
              "outlinewidth": 0,
              "ticks": ""
             }
            },
            "type": "scatter3d"
           }
          ],
          "scattercarpet": [
           {
            "marker": {
             "colorbar": {
              "outlinewidth": 0,
              "ticks": ""
             }
            },
            "type": "scattercarpet"
           }
          ],
          "scattergeo": [
           {
            "marker": {
             "colorbar": {
              "outlinewidth": 0,
              "ticks": ""
             }
            },
            "type": "scattergeo"
           }
          ],
          "scattergl": [
           {
            "marker": {
             "colorbar": {
              "outlinewidth": 0,
              "ticks": ""
             }
            },
            "type": "scattergl"
           }
          ],
          "scattermapbox": [
           {
            "marker": {
             "colorbar": {
              "outlinewidth": 0,
              "ticks": ""
             }
            },
            "type": "scattermapbox"
           }
          ],
          "scatterpolargl": [
           {
            "marker": {
             "colorbar": {
              "outlinewidth": 0,
              "ticks": ""
             }
            },
            "type": "scatterpolargl"
           }
          ],
          "scatterpolar": [
           {
            "marker": {
             "colorbar": {
              "outlinewidth": 0,
              "ticks": ""
             }
            },
            "type": "scatterpolar"
           }
          ],
          "scatter": [
           {
            "fillpattern": {
             "fillmode": "overlay",
             "size": 10,
             "solidity": 0.2
            },
            "type": "scatter"
           }
          ],
          "scatterternary": [
           {
            "marker": {
             "colorbar": {
              "outlinewidth": 0,
              "ticks": ""
             }
            },
            "type": "scatterternary"
           }
          ],
          "surface": [
           {
            "colorbar": {
             "outlinewidth": 0,
             "ticks": ""
            },
            "colorscale": [
             [
              0.0,
              "#0d0887"
             ],
             [
              0.1111111111111111,
              "#46039f"
             ],
             [
              0.2222222222222222,
              "#7201a8"
             ],
             [
              0.3333333333333333,
              "#9c179e"
             ],
             [
              0.4444444444444444,
              "#bd3786"
             ],
             [
              0.5555555555555556,
              "#d8576b"
             ],
             [
              0.6666666666666666,
              "#ed7953"
             ],
             [
              0.7777777777777778,
              "#fb9f3a"
             ],
             [
              0.8888888888888888,
              "#fdca26"
             ],
             [
              1.0,
              "#f0f921"
             ]
            ],
            "type": "surface"
           }
          ],
          "table": [
           {
            "cells": {
             "fill": {
              "color": "#EBF0F8"
             },
             "line": {
              "color": "white"
             }
            },
            "header": {
             "fill": {
              "color": "#C8D4E3"
             },
             "line": {
              "color": "white"
             }
            },
            "type": "table"
           }
          ]
         },
         "layout": {
          "annotationdefaults": {
           "arrowcolor": "#2a3f5f",
           "arrowhead": 0,
           "arrowwidth": 1
          },
          "autotypenumbers": "strict",
          "coloraxis": {
           "colorbar": {
            "outlinewidth": 0,
            "ticks": ""
           }
          },
          "colorscale": {
           "diverging": [
            [
             0,
             "#8e0152"
            ],
            [
             0.1,
             "#c51b7d"
            ],
            [
             0.2,
             "#de77ae"
            ],
            [
             0.3,
             "#f1b6da"
            ],
            [
             0.4,
             "#fde0ef"
            ],
            [
             0.5,
             "#f7f7f7"
            ],
            [
             0.6,
             "#e6f5d0"
            ],
            [
             0.7,
             "#b8e186"
            ],
            [
             0.8,
             "#7fbc41"
            ],
            [
             0.9,
             "#4d9221"
            ],
            [
             1,
             "#276419"
            ]
           ],
           "sequential": [
            [
             0.0,
             "#0d0887"
            ],
            [
             0.1111111111111111,
             "#46039f"
            ],
            [
             0.2222222222222222,
             "#7201a8"
            ],
            [
             0.3333333333333333,
             "#9c179e"
            ],
            [
             0.4444444444444444,
             "#bd3786"
            ],
            [
             0.5555555555555556,
             "#d8576b"
            ],
            [
             0.6666666666666666,
             "#ed7953"
            ],
            [
             0.7777777777777778,
             "#fb9f3a"
            ],
            [
             0.8888888888888888,
             "#fdca26"
            ],
            [
             1.0,
             "#f0f921"
            ]
           ],
           "sequentialminus": [
            [
             0.0,
             "#0d0887"
            ],
            [
             0.1111111111111111,
             "#46039f"
            ],
            [
             0.2222222222222222,
             "#7201a8"
            ],
            [
             0.3333333333333333,
             "#9c179e"
            ],
            [
             0.4444444444444444,
             "#bd3786"
            ],
            [
             0.5555555555555556,
             "#d8576b"
            ],
            [
             0.6666666666666666,
             "#ed7953"
            ],
            [
             0.7777777777777778,
             "#fb9f3a"
            ],
            [
             0.8888888888888888,
             "#fdca26"
            ],
            [
             1.0,
             "#f0f921"
            ]
           ]
          },
          "colorway": [
           "#636efa",
           "#EF553B",
           "#00cc96",
           "#ab63fa",
           "#FFA15A",
           "#19d3f3",
           "#FF6692",
           "#B6E880",
           "#FF97FF",
           "#FECB52"
          ],
          "font": {
           "color": "#2a3f5f"
          },
          "geo": {
           "bgcolor": "white",
           "lakecolor": "white",
           "landcolor": "white",
           "showlakes": true,
           "showland": true,
           "subunitcolor": "#C8D4E3"
          },
          "hoverlabel": {
           "align": "left"
          },
          "hovermode": "closest",
          "mapbox": {
           "style": "light"
          },
          "paper_bgcolor": "white",
          "plot_bgcolor": "white",
          "polar": {
           "angularaxis": {
            "gridcolor": "#EBF0F8",
            "linecolor": "#EBF0F8",
            "ticks": ""
           },
           "bgcolor": "white",
           "radialaxis": {
            "gridcolor": "#EBF0F8",
            "linecolor": "#EBF0F8",
            "ticks": ""
           }
          },
          "scene": {
           "xaxis": {
            "backgroundcolor": "white",
            "gridcolor": "#DFE8F3",
            "gridwidth": 2,
            "linecolor": "#EBF0F8",
            "showbackground": true,
            "ticks": "",
            "zerolinecolor": "#EBF0F8"
           },
           "yaxis": {
            "backgroundcolor": "white",
            "gridcolor": "#DFE8F3",
            "gridwidth": 2,
            "linecolor": "#EBF0F8",
            "showbackground": true,
            "ticks": "",
            "zerolinecolor": "#EBF0F8"
           },
           "zaxis": {
            "backgroundcolor": "white",
            "gridcolor": "#DFE8F3",
            "gridwidth": 2,
            "linecolor": "#EBF0F8",
            "showbackground": true,
            "ticks": "",
            "zerolinecolor": "#EBF0F8"
           }
          },
          "shapedefaults": {
           "line": {
            "color": "#2a3f5f"
           }
          },
          "ternary": {
           "aaxis": {
            "gridcolor": "#DFE8F3",
            "linecolor": "#A2B1C6",
            "ticks": ""
           },
           "baxis": {
            "gridcolor": "#DFE8F3",
            "linecolor": "#A2B1C6",
            "ticks": ""
           },
           "bgcolor": "white",
           "caxis": {
            "gridcolor": "#DFE8F3",
            "linecolor": "#A2B1C6",
            "ticks": ""
           }
          },
          "title": {
           "x": 0.05
          },
          "xaxis": {
           "automargin": true,
           "gridcolor": "#EBF0F8",
           "linecolor": "#EBF0F8",
           "ticks": "",
           "title": {
            "standoff": 15
           },
           "zerolinecolor": "#EBF0F8",
           "zerolinewidth": 2
          },
          "yaxis": {
           "automargin": true,
           "gridcolor": "#EBF0F8",
           "linecolor": "#EBF0F8",
           "ticks": "",
           "title": {
            "standoff": 15
           },
           "zerolinecolor": "#EBF0F8",
           "zerolinewidth": 2
          }
         }
        },
        "xaxis": {
         "anchor": "y",
         "domain": [
          0.0,
          1.0
         ],
         "title": {
          "text": "Company stock ticker"
         }
        },
        "yaxis": {
         "anchor": "x",
         "domain": [
          0.0,
          1.0
         ],
         "title": {
          "text": "Return rate (%)"
         },
         "tickformat": ".0%"
        },
        "legend": {
         "title": {
          "text": "Return Type"
         },
         "tracegroupgap": 0
        },
        "title": {
         "text": "Comparison of average-returns (last 25 years) vs actual-returns (next test year)"
        },
        "barmode": "group",
        "margin": {
         "l": 20,
         "r": 20,
         "t": 20,
         "b": 20
        },
        "showlegend": false
       },
       "config": {
        "plotlyServerURL": "https://plot.ly"
       }
      },
      "text/html": [
       "<div>                            <div id=\"f7c99130-99d1-47be-82c2-1d82cce3f721\" class=\"plotly-graph-div\" style=\"height:525px; width:100%;\"></div>            <script type=\"text/javascript\">                require([\"plotly\"], function(Plotly) {                    window.PLOTLYENV=window.PLOTLYENV || {};                                    if (document.getElementById(\"f7c99130-99d1-47be-82c2-1d82cce3f721\")) {                    Plotly.newPlot(                        \"f7c99130-99d1-47be-82c2-1d82cce3f721\",                        [{\"alignmentgroup\":\"True\",\"hovertemplate\":\"Return Type=Average Return (%)\\u003cbr\\u003eTicker=%{x}\\u003cbr\\u003eReturn (%)=%{y}\\u003cextra\\u003e\\u003c\\u002fextra\\u003e\",\"legendgroup\":\"Average Return (%)\",\"marker\":{\"color\":\"#636efa\",\"pattern\":{\"shape\":\"\"}},\"name\":\"Average Return (%)\",\"offsetgroup\":\"Average Return (%)\",\"orientation\":\"v\",\"showlegend\":true,\"textposition\":\"auto\",\"texttemplate\":\"%{y}\",\"x\":[\"NFLX\",\"TPL\",\"FCN\",\"2124.T\",\"ICLR\",\"BLK\",\"LCII\",\"SKT\",\"ESCA\",\"DXLG\"],\"xaxis\":\"x\",\"y\":[0.23,0.281,0.2738,0.2957,0.2102,0.3572,0.0523,0.2607,0.2669,0.2157],\"yaxis\":\"y\",\"type\":\"bar\"},{\"alignmentgroup\":\"True\",\"hovertemplate\":\"Return Type=Actual Return (Next Year) (%)\\u003cbr\\u003eTicker=%{x}\\u003cbr\\u003eReturn (%)=%{y}\\u003cextra\\u003e\\u003c\\u002fextra\\u003e\",\"legendgroup\":\"Actual Return (Next Year) (%)\",\"marker\":{\"color\":\"#EF553B\",\"pattern\":{\"shape\":\"\"}},\"name\":\"Actual Return (Next Year) (%)\",\"offsetgroup\":\"Actual Return (Next Year) (%)\",\"orientation\":\"v\",\"showlegend\":true,\"textposition\":\"auto\",\"texttemplate\":\"%{y}\",\"x\":[\"NFLX\",\"TPL\",\"FCN\",\"2124.T\",\"ICLR\",\"BLK\",\"LCII\",\"SKT\",\"ESCA\",\"DXLG\"],\"xaxis\":\"x\",\"y\":[-0.0391,-0.2411,0.6315,0.0269,0.0763,0.1343,0.4391,-0.226,0.0262,-0.5171],\"yaxis\":\"y\",\"type\":\"bar\"}],                        {\"template\":{\"data\":{\"barpolar\":[{\"marker\":{\"line\":{\"color\":\"white\",\"width\":0.5},\"pattern\":{\"fillmode\":\"overlay\",\"size\":10,\"solidity\":0.2}},\"type\":\"barpolar\"}],\"bar\":[{\"error_x\":{\"color\":\"#2a3f5f\"},\"error_y\":{\"color\":\"#2a3f5f\"},\"marker\":{\"line\":{\"color\":\"white\",\"width\":0.5},\"pattern\":{\"fillmode\":\"overlay\",\"size\":10,\"solidity\":0.2}},\"type\":\"bar\"}],\"carpet\":[{\"aaxis\":{\"endlinecolor\":\"#2a3f5f\",\"gridcolor\":\"#C8D4E3\",\"linecolor\":\"#C8D4E3\",\"minorgridcolor\":\"#C8D4E3\",\"startlinecolor\":\"#2a3f5f\"},\"baxis\":{\"endlinecolor\":\"#2a3f5f\",\"gridcolor\":\"#C8D4E3\",\"linecolor\":\"#C8D4E3\",\"minorgridcolor\":\"#C8D4E3\",\"startlinecolor\":\"#2a3f5f\"},\"type\":\"carpet\"}],\"choropleth\":[{\"colorbar\":{\"outlinewidth\":0,\"ticks\":\"\"},\"type\":\"choropleth\"}],\"contourcarpet\":[{\"colorbar\":{\"outlinewidth\":0,\"ticks\":\"\"},\"type\":\"contourcarpet\"}],\"contour\":[{\"colorbar\":{\"outlinewidth\":0,\"ticks\":\"\"},\"colorscale\":[[0.0,\"#0d0887\"],[0.1111111111111111,\"#46039f\"],[0.2222222222222222,\"#7201a8\"],[0.3333333333333333,\"#9c179e\"],[0.4444444444444444,\"#bd3786\"],[0.5555555555555556,\"#d8576b\"],[0.6666666666666666,\"#ed7953\"],[0.7777777777777778,\"#fb9f3a\"],[0.8888888888888888,\"#fdca26\"],[1.0,\"#f0f921\"]],\"type\":\"contour\"}],\"heatmapgl\":[{\"colorbar\":{\"outlinewidth\":0,\"ticks\":\"\"},\"colorscale\":[[0.0,\"#0d0887\"],[0.1111111111111111,\"#46039f\"],[0.2222222222222222,\"#7201a8\"],[0.3333333333333333,\"#9c179e\"],[0.4444444444444444,\"#bd3786\"],[0.5555555555555556,\"#d8576b\"],[0.6666666666666666,\"#ed7953\"],[0.7777777777777778,\"#fb9f3a\"],[0.8888888888888888,\"#fdca26\"],[1.0,\"#f0f921\"]],\"type\":\"heatmapgl\"}],\"heatmap\":[{\"colorbar\":{\"outlinewidth\":0,\"ticks\":\"\"},\"colorscale\":[[0.0,\"#0d0887\"],[0.1111111111111111,\"#46039f\"],[0.2222222222222222,\"#7201a8\"],[0.3333333333333333,\"#9c179e\"],[0.4444444444444444,\"#bd3786\"],[0.5555555555555556,\"#d8576b\"],[0.6666666666666666,\"#ed7953\"],[0.7777777777777778,\"#fb9f3a\"],[0.8888888888888888,\"#fdca26\"],[1.0,\"#f0f921\"]],\"type\":\"heatmap\"}],\"histogram2dcontour\":[{\"colorbar\":{\"outlinewidth\":0,\"ticks\":\"\"},\"colorscale\":[[0.0,\"#0d0887\"],[0.1111111111111111,\"#46039f\"],[0.2222222222222222,\"#7201a8\"],[0.3333333333333333,\"#9c179e\"],[0.4444444444444444,\"#bd3786\"],[0.5555555555555556,\"#d8576b\"],[0.6666666666666666,\"#ed7953\"],[0.7777777777777778,\"#fb9f3a\"],[0.8888888888888888,\"#fdca26\"],[1.0,\"#f0f921\"]],\"type\":\"histogram2dcontour\"}],\"histogram2d\":[{\"colorbar\":{\"outlinewidth\":0,\"ticks\":\"\"},\"colorscale\":[[0.0,\"#0d0887\"],[0.1111111111111111,\"#46039f\"],[0.2222222222222222,\"#7201a8\"],[0.3333333333333333,\"#9c179e\"],[0.4444444444444444,\"#bd3786\"],[0.5555555555555556,\"#d8576b\"],[0.6666666666666666,\"#ed7953\"],[0.7777777777777778,\"#fb9f3a\"],[0.8888888888888888,\"#fdca26\"],[1.0,\"#f0f921\"]],\"type\":\"histogram2d\"}],\"histogram\":[{\"marker\":{\"pattern\":{\"fillmode\":\"overlay\",\"size\":10,\"solidity\":0.2}},\"type\":\"histogram\"}],\"mesh3d\":[{\"colorbar\":{\"outlinewidth\":0,\"ticks\":\"\"},\"type\":\"mesh3d\"}],\"parcoords\":[{\"line\":{\"colorbar\":{\"outlinewidth\":0,\"ticks\":\"\"}},\"type\":\"parcoords\"}],\"pie\":[{\"automargin\":true,\"type\":\"pie\"}],\"scatter3d\":[{\"line\":{\"colorbar\":{\"outlinewidth\":0,\"ticks\":\"\"}},\"marker\":{\"colorbar\":{\"outlinewidth\":0,\"ticks\":\"\"}},\"type\":\"scatter3d\"}],\"scattercarpet\":[{\"marker\":{\"colorbar\":{\"outlinewidth\":0,\"ticks\":\"\"}},\"type\":\"scattercarpet\"}],\"scattergeo\":[{\"marker\":{\"colorbar\":{\"outlinewidth\":0,\"ticks\":\"\"}},\"type\":\"scattergeo\"}],\"scattergl\":[{\"marker\":{\"colorbar\":{\"outlinewidth\":0,\"ticks\":\"\"}},\"type\":\"scattergl\"}],\"scattermapbox\":[{\"marker\":{\"colorbar\":{\"outlinewidth\":0,\"ticks\":\"\"}},\"type\":\"scattermapbox\"}],\"scatterpolargl\":[{\"marker\":{\"colorbar\":{\"outlinewidth\":0,\"ticks\":\"\"}},\"type\":\"scatterpolargl\"}],\"scatterpolar\":[{\"marker\":{\"colorbar\":{\"outlinewidth\":0,\"ticks\":\"\"}},\"type\":\"scatterpolar\"}],\"scatter\":[{\"fillpattern\":{\"fillmode\":\"overlay\",\"size\":10,\"solidity\":0.2},\"type\":\"scatter\"}],\"scatterternary\":[{\"marker\":{\"colorbar\":{\"outlinewidth\":0,\"ticks\":\"\"}},\"type\":\"scatterternary\"}],\"surface\":[{\"colorbar\":{\"outlinewidth\":0,\"ticks\":\"\"},\"colorscale\":[[0.0,\"#0d0887\"],[0.1111111111111111,\"#46039f\"],[0.2222222222222222,\"#7201a8\"],[0.3333333333333333,\"#9c179e\"],[0.4444444444444444,\"#bd3786\"],[0.5555555555555556,\"#d8576b\"],[0.6666666666666666,\"#ed7953\"],[0.7777777777777778,\"#fb9f3a\"],[0.8888888888888888,\"#fdca26\"],[1.0,\"#f0f921\"]],\"type\":\"surface\"}],\"table\":[{\"cells\":{\"fill\":{\"color\":\"#EBF0F8\"},\"line\":{\"color\":\"white\"}},\"header\":{\"fill\":{\"color\":\"#C8D4E3\"},\"line\":{\"color\":\"white\"}},\"type\":\"table\"}]},\"layout\":{\"annotationdefaults\":{\"arrowcolor\":\"#2a3f5f\",\"arrowhead\":0,\"arrowwidth\":1},\"autotypenumbers\":\"strict\",\"coloraxis\":{\"colorbar\":{\"outlinewidth\":0,\"ticks\":\"\"}},\"colorscale\":{\"diverging\":[[0,\"#8e0152\"],[0.1,\"#c51b7d\"],[0.2,\"#de77ae\"],[0.3,\"#f1b6da\"],[0.4,\"#fde0ef\"],[0.5,\"#f7f7f7\"],[0.6,\"#e6f5d0\"],[0.7,\"#b8e186\"],[0.8,\"#7fbc41\"],[0.9,\"#4d9221\"],[1,\"#276419\"]],\"sequential\":[[0.0,\"#0d0887\"],[0.1111111111111111,\"#46039f\"],[0.2222222222222222,\"#7201a8\"],[0.3333333333333333,\"#9c179e\"],[0.4444444444444444,\"#bd3786\"],[0.5555555555555556,\"#d8576b\"],[0.6666666666666666,\"#ed7953\"],[0.7777777777777778,\"#fb9f3a\"],[0.8888888888888888,\"#fdca26\"],[1.0,\"#f0f921\"]],\"sequentialminus\":[[0.0,\"#0d0887\"],[0.1111111111111111,\"#46039f\"],[0.2222222222222222,\"#7201a8\"],[0.3333333333333333,\"#9c179e\"],[0.4444444444444444,\"#bd3786\"],[0.5555555555555556,\"#d8576b\"],[0.6666666666666666,\"#ed7953\"],[0.7777777777777778,\"#fb9f3a\"],[0.8888888888888888,\"#fdca26\"],[1.0,\"#f0f921\"]]},\"colorway\":[\"#636efa\",\"#EF553B\",\"#00cc96\",\"#ab63fa\",\"#FFA15A\",\"#19d3f3\",\"#FF6692\",\"#B6E880\",\"#FF97FF\",\"#FECB52\"],\"font\":{\"color\":\"#2a3f5f\"},\"geo\":{\"bgcolor\":\"white\",\"lakecolor\":\"white\",\"landcolor\":\"white\",\"showlakes\":true,\"showland\":true,\"subunitcolor\":\"#C8D4E3\"},\"hoverlabel\":{\"align\":\"left\"},\"hovermode\":\"closest\",\"mapbox\":{\"style\":\"light\"},\"paper_bgcolor\":\"white\",\"plot_bgcolor\":\"white\",\"polar\":{\"angularaxis\":{\"gridcolor\":\"#EBF0F8\",\"linecolor\":\"#EBF0F8\",\"ticks\":\"\"},\"bgcolor\":\"white\",\"radialaxis\":{\"gridcolor\":\"#EBF0F8\",\"linecolor\":\"#EBF0F8\",\"ticks\":\"\"}},\"scene\":{\"xaxis\":{\"backgroundcolor\":\"white\",\"gridcolor\":\"#DFE8F3\",\"gridwidth\":2,\"linecolor\":\"#EBF0F8\",\"showbackground\":true,\"ticks\":\"\",\"zerolinecolor\":\"#EBF0F8\"},\"yaxis\":{\"backgroundcolor\":\"white\",\"gridcolor\":\"#DFE8F3\",\"gridwidth\":2,\"linecolor\":\"#EBF0F8\",\"showbackground\":true,\"ticks\":\"\",\"zerolinecolor\":\"#EBF0F8\"},\"zaxis\":{\"backgroundcolor\":\"white\",\"gridcolor\":\"#DFE8F3\",\"gridwidth\":2,\"linecolor\":\"#EBF0F8\",\"showbackground\":true,\"ticks\":\"\",\"zerolinecolor\":\"#EBF0F8\"}},\"shapedefaults\":{\"line\":{\"color\":\"#2a3f5f\"}},\"ternary\":{\"aaxis\":{\"gridcolor\":\"#DFE8F3\",\"linecolor\":\"#A2B1C6\",\"ticks\":\"\"},\"baxis\":{\"gridcolor\":\"#DFE8F3\",\"linecolor\":\"#A2B1C6\",\"ticks\":\"\"},\"bgcolor\":\"white\",\"caxis\":{\"gridcolor\":\"#DFE8F3\",\"linecolor\":\"#A2B1C6\",\"ticks\":\"\"}},\"title\":{\"x\":0.05},\"xaxis\":{\"automargin\":true,\"gridcolor\":\"#EBF0F8\",\"linecolor\":\"#EBF0F8\",\"ticks\":\"\",\"title\":{\"standoff\":15},\"zerolinecolor\":\"#EBF0F8\",\"zerolinewidth\":2},\"yaxis\":{\"automargin\":true,\"gridcolor\":\"#EBF0F8\",\"linecolor\":\"#EBF0F8\",\"ticks\":\"\",\"title\":{\"standoff\":15},\"zerolinecolor\":\"#EBF0F8\",\"zerolinewidth\":2}}},\"xaxis\":{\"anchor\":\"y\",\"domain\":[0.0,1.0],\"title\":{\"text\":\"Company stock ticker\"}},\"yaxis\":{\"anchor\":\"x\",\"domain\":[0.0,1.0],\"title\":{\"text\":\"Return rate (%)\"},\"tickformat\":\".0%\"},\"legend\":{\"title\":{\"text\":\"Return Type\"},\"tracegroupgap\":0},\"title\":{\"text\":\"Comparison of average-returns (last 25 years) vs actual-returns (next test year)\"},\"barmode\":\"group\",\"margin\":{\"l\":20,\"r\":20,\"t\":20,\"b\":20},\"showlegend\":false},                        {\"responsive\": true}                    ).then(function(){\n",
       "                            \n",
       "var gd = document.getElementById('f7c99130-99d1-47be-82c2-1d82cce3f721');\n",
       "var x = new MutationObserver(function (mutations, observer) {{\n",
       "        var display = window.getComputedStyle(gd).display;\n",
       "        if (!display || display === 'none') {{\n",
       "            console.log([gd, 'removed!']);\n",
       "            Plotly.purge(gd);\n",
       "            observer.disconnect();\n",
       "        }}\n",
       "}});\n",
       "\n",
       "// Listen for the removal of the full notebook cells\n",
       "var notebookContainer = gd.closest('#notebook-container');\n",
       "if (notebookContainer) {{\n",
       "    x.observe(notebookContainer, {childList: true});\n",
       "}}\n",
       "\n",
       "// Listen for the clearing of the current output cell\n",
       "var outputEl = gd.closest('.output');\n",
       "if (outputEl) {{\n",
       "    x.observe(outputEl, {childList: true});\n",
       "}}\n",
       "\n",
       "                        })                };                });            </script>        </div>"
      ]
     },
     "metadata": {},
     "output_type": "display_data"
    }
   ],
   "execution_count": 32
  },
  {
   "metadata": {},
   "cell_type": "markdown",
   "source": "#### Efficient Frontier @TODO finish line",
   "id": "e89ae4000496c9b0"
  },
  {
   "metadata": {
    "ExecuteTime": {
     "end_time": "2025-05-31T19:30:12.116213Z",
     "start_time": "2025-05-31T19:30:12.060395Z"
    }
   },
   "cell_type": "code",
   "source": [
    "import utilities.plots as plots\n",
    "importlib.reload(plots)\n",
    "\n",
    "plots.plot_efficient_frontier(df_view_20y.index.tolist(), df_view_20y['Average Returns'].values, df_view_20y['Average Covariance'].values, mu_20y, S_20y)"
   ],
   "id": "37f0ad218f50f463",
   "outputs": [
    {
     "data": {
      "application/vnd.plotly.v1+json": {
       "data": [
        {
         "marker": {
          "color": "blue",
          "size": 4
         },
         "mode": "markers",
         "showlegend": false,
         "text": "NFLX",
         "textposition": "top center",
         "x": [
          -0.013466666666666663
         ],
         "y": [
          0.23
         ],
         "type": "scatter"
        },
        {
         "marker": {
          "color": "blue",
          "size": 4
         },
         "mode": "markers",
         "showlegend": false,
         "text": "GIII",
         "textposition": "top center",
         "x": [
          -0.007200000000000001
         ],
         "y": [
          0.287
         ],
         "type": "scatter"
        },
        {
         "marker": {
          "color": "blue",
          "size": 4
         },
         "mode": "markers",
         "showlegend": false,
         "text": "TSCO",
         "textposition": "top center",
         "x": [
          -0.0048
         ],
         "y": [
          0.2056
         ],
         "type": "scatter"
        },
        {
         "marker": {
          "color": "blue",
          "size": 4
         },
         "mode": "markers",
         "showlegend": false,
         "text": "DORM",
         "textposition": "top center",
         "x": [
          0.004666666666666667
         ],
         "y": [
          0.1031
         ],
         "type": "scatter"
        },
        {
         "marker": {
          "color": "blue",
          "size": 4
         },
         "mode": "markers",
         "showlegend": false,
         "text": "BGEO.L",
         "textposition": "top center",
         "x": [
          0.005600000000000001
         ],
         "y": [
          0.1179
         ],
         "type": "scatter"
        },
        {
         "marker": {
          "color": "blue",
          "size": 4
         },
         "mode": "markers",
         "showlegend": false,
         "text": "MANH",
         "textposition": "top center",
         "x": [
          0.0012
         ],
         "y": [
          0.2376
         ],
         "type": "scatter"
        },
        {
         "marker": {
          "color": "blue",
          "size": 4
         },
         "mode": "markers",
         "showlegend": false,
         "text": "KMX",
         "textposition": "top center",
         "x": [
          -1.333333333333333E-4
         ],
         "y": [
          0.2476
         ],
         "type": "scatter"
        },
        {
         "marker": {
          "color": "blue",
          "size": 4
         },
         "mode": "markers",
         "showlegend": false,
         "text": "ANSS",
         "textposition": "top center",
         "x": [
          0.0
         ],
         "y": [
          0.3093
         ],
         "type": "scatter"
        },
        {
         "marker": {
          "color": "blue",
          "size": 4
         },
         "mode": "markers",
         "showlegend": false,
         "text": "TPL",
         "textposition": "top center",
         "x": [
          -1.3333333333333334E-4
         ],
         "y": [
          0.281
         ],
         "type": "scatter"
        },
        {
         "marker": {
          "color": "blue",
          "size": 4
         },
         "mode": "markers",
         "showlegend": false,
         "text": "VTR",
         "textposition": "top center",
         "x": [
          -6.666666666666666E-4
         ],
         "y": [
          0.2054
         ],
         "type": "scatter"
        },
        {
         "marker": {
          "color": "blue",
          "size": 4
         },
         "mode": "markers",
         "showlegend": false,
         "text": "MFA",
         "textposition": "top center",
         "x": [
          3.9999999999999996E-4
         ],
         "y": [
          0.2419
         ],
         "type": "scatter"
        },
        {
         "marker": {
          "color": "blue",
          "size": 4
         },
         "mode": "markers",
         "showlegend": false,
         "text": "PUM.DE",
         "textposition": "top center",
         "x": [
          -3.9999999999999996E-4
         ],
         "y": [
          0.1537
         ],
         "type": "scatter"
        },
        {
         "marker": {
          "color": "blue",
          "size": 4
         },
         "mode": "markers",
         "showlegend": false,
         "text": "ATRI",
         "textposition": "top center",
         "x": [
          -2.666666666666667E-4
         ],
         "y": [
          0.2092
         ],
         "type": "scatter"
        },
        {
         "marker": {
          "color": "blue",
          "size": 4
         },
         "mode": "markers",
         "showlegend": false,
         "text": "MNRO",
         "textposition": "top center",
         "x": [
          9.333333333333334E-4
         ],
         "y": [
          0.2311
         ],
         "type": "scatter"
        },
        {
         "marker": {
          "color": "blue",
          "size": 4
         },
         "mode": "markers",
         "showlegend": false,
         "text": "AVGO",
         "textposition": "top center",
         "x": [
          1.3333333333333326E-4
         ],
         "y": [
          0.1945
         ],
         "type": "scatter"
        },
        {
         "marker": {
          "color": "blue",
          "size": 4
         },
         "mode": "markers",
         "showlegend": false,
         "text": "MLAB",
         "textposition": "top center",
         "x": [
          0.0
         ],
         "y": [
          0.1721
         ],
         "type": "scatter"
        },
        {
         "marker": {
          "color": "blue",
          "size": 4
         },
         "mode": "markers",
         "showlegend": false,
         "text": "FCN",
         "textposition": "top center",
         "x": [
          6.666666666666668E-4
         ],
         "y": [
          0.2738
         ],
         "type": "scatter"
        },
        {
         "marker": {
          "color": "blue",
          "size": 4
         },
         "mode": "markers",
         "showlegend": false,
         "text": "FTK.DE",
         "textposition": "top center",
         "x": [
          0.0030666666666666668
         ],
         "y": [
          0.1436
         ],
         "type": "scatter"
        },
        {
         "marker": {
          "color": "blue",
          "size": 4
         },
         "mode": "markers",
         "showlegend": false,
         "text": "TTC",
         "textposition": "top center",
         "x": [
          -1.3333333333333334E-4
         ],
         "y": [
          0.1281
         ],
         "type": "scatter"
        },
        {
         "marker": {
          "color": "blue",
          "size": 4
         },
         "mode": "markers",
         "showlegend": false,
         "text": "ROST",
         "textposition": "top center",
         "x": [
          0.0
         ],
         "y": [
          0.1753
         ],
         "type": "scatter"
        },
        {
         "marker": {
          "color": "blue",
          "size": 4
         },
         "mode": "markers",
         "showlegend": false,
         "text": "IDXX",
         "textposition": "top center",
         "x": [
          3.9999999999999996E-4
         ],
         "y": [
          0.4606
         ],
         "type": "scatter"
        },
        {
         "marker": {
          "color": "blue",
          "size": 4
         },
         "mode": "markers",
         "showlegend": false,
         "text": "DAKT",
         "textposition": "top center",
         "x": [
          0.005733333333333333
         ],
         "y": [
          0.2327
         ],
         "type": "scatter"
        },
        {
         "marker": {
          "color": "blue",
          "size": 4
         },
         "mode": "markers",
         "showlegend": false,
         "text": "ISRG",
         "textposition": "top center",
         "x": [
          -6.666666666666668E-4
         ],
         "y": [
          0.2081
         ],
         "type": "scatter"
        },
        {
         "marker": {
          "color": "blue",
          "size": 4
         },
         "mode": "markers",
         "showlegend": false,
         "text": "POOL",
         "textposition": "top center",
         "x": [
          -5.333333333333334E-4
         ],
         "y": [
          0.2
         ],
         "type": "scatter"
        },
        {
         "marker": {
          "color": "blue",
          "size": 4
         },
         "mode": "markers",
         "showlegend": false,
         "text": "SHOO",
         "textposition": "top center",
         "x": [
          6.666666666666666E-4
         ],
         "y": [
          0.2348
         ],
         "type": "scatter"
        },
        {
         "marker": {
          "color": "blue",
          "size": 4
         },
         "mode": "markers",
         "showlegend": false,
         "text": "2124.T",
         "textposition": "top center",
         "x": [
          0.0032000000000000006
         ],
         "y": [
          0.2957
         ],
         "type": "scatter"
        },
        {
         "marker": {
          "color": "blue",
          "size": 4
         },
         "mode": "markers",
         "showlegend": false,
         "text": "TYL",
         "textposition": "top center",
         "x": [
          -1.3333333333333334E-4
         ],
         "y": [
          0.204
         ],
         "type": "scatter"
        },
        {
         "marker": {
          "color": "blue",
          "size": 4
         },
         "mode": "markers",
         "showlegend": false,
         "text": "BALL",
         "textposition": "top center",
         "x": [
          -2.666666666666667E-4
         ],
         "y": [
          0.2159
         ],
         "type": "scatter"
        },
        {
         "marker": {
          "color": "blue",
          "size": 4
         },
         "mode": "markers",
         "showlegend": false,
         "text": "JBHT",
         "textposition": "top center",
         "x": [
          2.666666666666666E-4
         ],
         "y": [
          0.1191
         ],
         "type": "scatter"
        },
        {
         "marker": {
          "color": "blue",
          "size": 4
         },
         "mode": "markers",
         "showlegend": false,
         "text": "ILM1.DE",
         "textposition": "top center",
         "x": [
          0.0015999999999999999
         ],
         "y": [
          0.2791
         ],
         "type": "scatter"
        },
        {
         "marker": {
          "color": "blue",
          "size": 4
         },
         "mode": "markers",
         "showlegend": false,
         "text": "NSP",
         "textposition": "top center",
         "x": [
          0.0
         ],
         "y": [
          0.2061
         ],
         "type": "scatter"
        },
        {
         "marker": {
          "color": "blue",
          "size": 4
         },
         "mode": "markers",
         "showlegend": false,
         "text": "WINA",
         "textposition": "top center",
         "x": [
          -3.9999999999999996E-4
         ],
         "y": [
          0.0828
         ],
         "type": "scatter"
        },
        {
         "marker": {
          "color": "blue",
          "size": 4
         },
         "mode": "markers",
         "showlegend": false,
         "text": "OLED",
         "textposition": "top center",
         "x": [
          -3.9999999999999996E-4
         ],
         "y": [
          0.2686
         ],
         "type": "scatter"
        },
        {
         "marker": {
          "color": "blue",
          "size": 4
         },
         "mode": "markers",
         "showlegend": false,
         "text": "ICLR",
         "textposition": "top center",
         "x": [
          5.333333333333334E-4
         ],
         "y": [
          0.2102
         ],
         "type": "scatter"
        },
        {
         "marker": {
          "color": "blue",
          "size": 4
         },
         "mode": "markers",
         "showlegend": false,
         "text": "COHR",
         "textposition": "top center",
         "x": [
          1.333333333333334E-4
         ],
         "y": [
          0.6718
         ],
         "type": "scatter"
        },
        {
         "marker": {
          "color": "blue",
          "size": 4
         },
         "mode": "markers",
         "showlegend": false,
         "text": "2471.T",
         "textposition": "top center",
         "x": [
          -9.333333333333332E-4
         ],
         "y": [
          0.2299
         ],
         "type": "scatter"
        },
        {
         "marker": {
          "color": "blue",
          "size": 4
         },
         "mode": "markers",
         "showlegend": false,
         "text": "CRM",
         "textposition": "top center",
         "x": [
          9.333333333333334E-4
         ],
         "y": [
          0.2531
         ],
         "type": "scatter"
        },
        {
         "marker": {
          "color": "blue",
          "size": 4
         },
         "mode": "markers",
         "showlegend": false,
         "text": "4751.T",
         "textposition": "top center",
         "x": [
          5.333333333333333E-4
         ],
         "y": [
          0.2048
         ],
         "type": "scatter"
        },
        {
         "marker": {
          "color": "blue",
          "size": 4
         },
         "mode": "markers",
         "showlegend": false,
         "text": "VSEC",
         "textposition": "top center",
         "x": [
          -5.333333333333333E-4
         ],
         "y": [
          0.3933
         ],
         "type": "scatter"
        },
        {
         "marker": {
          "color": "blue",
          "size": 4
         },
         "mode": "markers",
         "showlegend": false,
         "text": "UNH",
         "textposition": "top center",
         "x": [
          -3.9999999999999996E-4
         ],
         "y": [
          0.2007
         ],
         "type": "scatter"
        },
        {
         "marker": {
          "color": "blue",
          "size": 4
         },
         "mode": "markers",
         "showlegend": false,
         "text": "HUM",
         "textposition": "top center",
         "x": [
          0.0
         ],
         "y": [
          0.4775
         ],
         "type": "scatter"
        },
        {
         "marker": {
          "color": "blue",
          "size": 4
         },
         "mode": "markers",
         "showlegend": false,
         "text": "BLK",
         "textposition": "top center",
         "x": [
          8.0E-4
         ],
         "y": [
          0.3572
         ],
         "type": "scatter"
        },
        {
         "marker": {
          "color": "blue",
          "size": 4
         },
         "mode": "markers",
         "showlegend": false,
         "text": "OSIS",
         "textposition": "top center",
         "x": [
          0.0
         ],
         "y": [
          0.1682
         ],
         "type": "scatter"
        },
        {
         "marker": {
          "color": "blue",
          "size": 4
         },
         "mode": "markers",
         "showlegend": false,
         "text": "MTH",
         "textposition": "top center",
         "x": [
          -6.666666666666668E-4
         ],
         "y": [
          0.1268
         ],
         "type": "scatter"
        },
        {
         "marker": {
          "color": "blue",
          "size": 4
         },
         "mode": "markers",
         "showlegend": false,
         "text": "SHYF",
         "textposition": "top center",
         "x": [
          -0.0017333333333333335
         ],
         "y": [
          0.2585
         ],
         "type": "scatter"
        },
        {
         "marker": {
          "color": "blue",
          "size": 4
         },
         "mode": "markers",
         "showlegend": false,
         "text": "ELS",
         "textposition": "top center",
         "x": [
          0.0
         ],
         "y": [
          0.1642
         ],
         "type": "scatter"
        },
        {
         "marker": {
          "color": "blue",
          "size": 4
         },
         "mode": "markers",
         "showlegend": false,
         "text": "EVD.DE",
         "textposition": "top center",
         "x": [
          0.0014666666666666665
         ],
         "y": [
          0.2887
         ],
         "type": "scatter"
        },
        {
         "marker": {
          "color": "blue",
          "size": 4
         },
         "mode": "markers",
         "showlegend": false,
         "text": "RGLD",
         "textposition": "top center",
         "x": [
          1.3333333333333329E-4
         ],
         "y": [
          0.1954
         ],
         "type": "scatter"
        },
        {
         "marker": {
          "color": "blue",
          "size": 4
         },
         "mode": "markers",
         "showlegend": false,
         "text": "ADSK",
         "textposition": "top center",
         "x": [
          1.3333333333333329E-4
         ],
         "y": [
          0.2027
         ],
         "type": "scatter"
        },
        {
         "marker": {
          "color": "blue",
          "size": 4
         },
         "mode": "markers",
         "showlegend": false,
         "text": "COR",
         "textposition": "top center",
         "x": [
          -2.666666666666667E-4
         ],
         "y": [
          0.2079
         ],
         "type": "scatter"
        },
        {
         "marker": {
          "color": "blue",
          "size": 4
         },
         "mode": "markers",
         "showlegend": false,
         "text": "LCII",
         "textposition": "top center",
         "x": [
          -2.666666666666666E-4
         ],
         "y": [
          0.0523
         ],
         "type": "scatter"
        },
        {
         "marker": {
          "color": "blue",
          "size": 4
         },
         "mode": "markers",
         "showlegend": false,
         "text": "HSIC",
         "textposition": "top center",
         "x": [
          2.666666666666667E-4
         ],
         "y": [
          0.2147
         ],
         "type": "scatter"
        },
        {
         "marker": {
          "color": "blue",
          "size": 4
         },
         "mode": "markers",
         "showlegend": false,
         "text": "LII",
         "textposition": "top center",
         "x": [
          1.3333333333333334E-4
         ],
         "y": [
          0.2744
         ],
         "type": "scatter"
        },
        {
         "marker": {
          "color": "blue",
          "size": 4
         },
         "mode": "markers",
         "showlegend": false,
         "text": "REGN",
         "textposition": "top center",
         "x": [
          0.001333333333333333
         ],
         "y": [
          0.215
         ],
         "type": "scatter"
        },
        {
         "marker": {
          "color": "blue",
          "size": 4
         },
         "mode": "markers",
         "showlegend": false,
         "text": "EPR",
         "textposition": "top center",
         "x": [
          -3.9999999999999996E-4
         ],
         "y": [
          0.2597
         ],
         "type": "scatter"
        },
        {
         "marker": {
          "color": "blue",
          "size": 4
         },
         "mode": "markers",
         "showlegend": false,
         "text": "AKR",
         "textposition": "top center",
         "x": [
          -5.333333333333334E-4
         ],
         "y": [
          0.34
         ],
         "type": "scatter"
        },
        {
         "marker": {
          "color": "blue",
          "size": 4
         },
         "mode": "markers",
         "showlegend": false,
         "text": "RWT",
         "textposition": "top center",
         "x": [
          -5.333333333333334E-4
         ],
         "y": [
          0.209
         ],
         "type": "scatter"
        },
        {
         "marker": {
          "color": "blue",
          "size": 4
         },
         "mode": "markers",
         "showlegend": false,
         "text": "MPX",
         "textposition": "top center",
         "x": [
          5.333333333333333E-4
         ],
         "y": [
          0.2257
         ],
         "type": "scatter"
        },
        {
         "marker": {
          "color": "blue",
          "size": 4
         },
         "mode": "markers",
         "showlegend": false,
         "text": "SKT",
         "textposition": "top center",
         "x": [
          0.0
         ],
         "y": [
          0.2607
         ],
         "type": "scatter"
        },
        {
         "marker": {
          "color": "blue",
          "size": 4
         },
         "mode": "markers",
         "showlegend": false,
         "text": "BKE",
         "textposition": "top center",
         "x": [
          3.9999999999999996E-4
         ],
         "y": [
          0.2791
         ],
         "type": "scatter"
        },
        {
         "marker": {
          "color": "blue",
          "size": 4
         },
         "mode": "markers",
         "showlegend": false,
         "text": "FTNT",
         "textposition": "top center",
         "x": [
          0.002133333333333333
         ],
         "y": [
          0.123
         ],
         "type": "scatter"
        },
        {
         "marker": {
          "color": "blue",
          "size": 4
         },
         "mode": "markers",
         "showlegend": false,
         "text": "EXLS",
         "textposition": "top center",
         "x": [
          0.002133333333333333
         ],
         "y": [
          0.0762
         ],
         "type": "scatter"
        },
        {
         "marker": {
          "color": "blue",
          "size": 4
         },
         "mode": "markers",
         "showlegend": false,
         "text": "AOX.DE",
         "textposition": "top center",
         "x": [
          0.005466666666666667
         ],
         "y": [
          0.2308
         ],
         "type": "scatter"
        },
        {
         "marker": {
          "color": "blue",
          "size": 4
         },
         "mode": "markers",
         "showlegend": false,
         "text": "CLMB",
         "textposition": "top center",
         "x": [
          0.002266666666666667
         ],
         "y": [
          0.2386
         ],
         "type": "scatter"
        },
        {
         "marker": {
          "color": "blue",
          "size": 4
         },
         "mode": "markers",
         "showlegend": false,
         "text": "DHC",
         "textposition": "top center",
         "x": [
          -6.666666666666668E-4
         ],
         "y": [
          0.2126
         ],
         "type": "scatter"
        },
        {
         "marker": {
          "color": "blue",
          "size": 4
         },
         "mode": "markers",
         "showlegend": false,
         "text": "CTO",
         "textposition": "top center",
         "x": [
          1.3333333333333329E-4
         ],
         "y": [
          0.1245
         ],
         "type": "scatter"
        },
        {
         "marker": {
          "color": "blue",
          "size": 4
         },
         "mode": "markers",
         "showlegend": false,
         "text": "ESCA",
         "textposition": "top center",
         "x": [
          0.020933333333333335
         ],
         "y": [
          0.2669
         ],
         "type": "scatter"
        },
        {
         "marker": {
          "color": "blue",
          "size": 4
         },
         "mode": "markers",
         "showlegend": false,
         "text": "MPW",
         "textposition": "top center",
         "x": [
          -0.0028000000000000004
         ],
         "y": [
          0.2701
         ],
         "type": "scatter"
        },
        {
         "marker": {
          "color": "blue",
          "size": 4
         },
         "mode": "markers",
         "showlegend": false,
         "text": "LXP",
         "textposition": "top center",
         "x": [
          -0.011733333333333332
         ],
         "y": [
          0.2141
         ],
         "type": "scatter"
        },
        {
         "marker": {
          "color": "blue",
          "size": 4
         },
         "mode": "markers",
         "showlegend": false,
         "text": "GEN",
         "textposition": "top center",
         "x": [
          -2.6666666666666657E-4
         ],
         "y": [
          0.2605
         ],
         "type": "scatter"
        },
        {
         "marker": {
          "color": "blue",
          "size": 4
         },
         "mode": "markers",
         "showlegend": false,
         "text": "DDD",
         "textposition": "top center",
         "x": [
          8.0E-4
         ],
         "y": [
          0.105
         ],
         "type": "scatter"
        },
        {
         "marker": {
          "color": "blue",
          "size": 4
         },
         "mode": "markers",
         "showlegend": false,
         "text": "AGNC",
         "textposition": "top center",
         "x": [
          0.001466666666666667
         ],
         "y": [
          0.2491
         ],
         "type": "scatter"
        },
        {
         "marker": {
          "color": "blue",
          "size": 4
         },
         "mode": "markers",
         "showlegend": false,
         "text": "ECV.DE",
         "textposition": "top center",
         "x": [
          -0.001466666666666667
         ],
         "y": [
          0.0922
         ],
         "type": "scatter"
        },
        {
         "marker": {
          "color": "blue",
          "size": 4
         },
         "mode": "markers",
         "showlegend": false,
         "text": "SFQ.DE",
         "textposition": "top center",
         "x": [
          0.0256
         ],
         "y": [
          0.2245
         ],
         "type": "scatter"
        },
        {
         "marker": {
          "color": "blue",
          "size": 4
         },
         "mode": "markers",
         "showlegend": false,
         "text": "CPRX",
         "textposition": "top center",
         "x": [
          -0.009066666666666667
         ],
         "y": [
          0.2041
         ],
         "type": "scatter"
        },
        {
         "marker": {
          "color": "blue",
          "size": 4
         },
         "mode": "markers",
         "showlegend": false,
         "text": "DXLG",
         "textposition": "top center",
         "x": [
          0.0021333333333333334
         ],
         "y": [
          0.2157
         ],
         "type": "scatter"
        },
        {
         "marker": {
          "color": "red",
          "size": 10,
          "symbol": "star"
         },
         "mode": "markers",
         "name": "Max Sharpe Portfolio",
         "x": [
          [
           0.23,
           0.287,
           0.2056,
           0.1031,
           0.1179,
           0.2376,
           0.2476,
           0.3093,
           0.281,
           0.2054,
           0.2419,
           0.1537,
           0.2092,
           0.2311,
           0.1945,
           0.1721,
           0.2738,
           0.1436,
           0.1281,
           0.1753,
           0.4606,
           0.2327,
           0.2081,
           0.2,
           0.2348,
           0.2957,
           0.204,
           0.2159,
           0.1191,
           0.2791,
           0.2061,
           0.0828,
           0.2686,
           0.2102,
           0.6718,
           0.2299,
           0.2531,
           0.2048,
           0.3933,
           0.2007,
           0.4775,
           0.3572,
           0.1682,
           0.1268,
           0.2585,
           0.1642,
           0.2887,
           0.1954,
           0.2027,
           0.2079,
           0.0523,
           0.2147,
           0.2744,
           0.215,
           0.2597,
           0.34,
           0.209,
           0.2257,
           0.2607,
           0.2791,
           0.123,
           0.0762,
           0.2308,
           0.2386,
           0.2126,
           0.1245,
           0.2669,
           0.2701,
           0.2141,
           0.2605,
           0.105,
           0.2491,
           0.0922,
           0.2245,
           0.2041,
           0.2157
          ]
         ],
         "y": [
          [
           -0.013466666666666663,
           -0.007200000000000001,
           -0.0048,
           0.004666666666666667,
           0.005600000000000001,
           0.0012,
           -1.333333333333333E-4,
           0.0,
           -1.3333333333333334E-4,
           -6.666666666666666E-4,
           3.9999999999999996E-4,
           -3.9999999999999996E-4,
           -2.666666666666667E-4,
           9.333333333333334E-4,
           1.3333333333333326E-4,
           0.0,
           6.666666666666668E-4,
           0.0030666666666666668,
           -1.3333333333333334E-4,
           0.0,
           3.9999999999999996E-4,
           0.005733333333333333,
           -6.666666666666668E-4,
           -5.333333333333334E-4,
           6.666666666666666E-4,
           0.0032000000000000006,
           -1.3333333333333334E-4,
           -2.666666666666667E-4,
           2.666666666666666E-4,
           0.0015999999999999999,
           0.0,
           -3.9999999999999996E-4,
           -3.9999999999999996E-4,
           5.333333333333334E-4,
           1.333333333333334E-4,
           -9.333333333333332E-4,
           9.333333333333334E-4,
           5.333333333333333E-4,
           -5.333333333333333E-4,
           -3.9999999999999996E-4,
           0.0,
           8.0E-4,
           0.0,
           -6.666666666666668E-4,
           -0.0017333333333333335,
           0.0,
           0.0014666666666666665,
           1.3333333333333329E-4,
           1.3333333333333329E-4,
           -2.666666666666667E-4,
           -2.666666666666666E-4,
           2.666666666666667E-4,
           1.3333333333333334E-4,
           0.001333333333333333,
           -3.9999999999999996E-4,
           -5.333333333333334E-4,
           -5.333333333333334E-4,
           5.333333333333333E-4,
           0.0,
           3.9999999999999996E-4,
           0.002133333333333333,
           0.002133333333333333,
           0.005466666666666667,
           0.002266666666666667,
           -6.666666666666668E-4,
           1.3333333333333329E-4,
           0.020933333333333335,
           -0.0028000000000000004,
           -0.011733333333333332,
           -2.6666666666666657E-4,
           8.0E-4,
           0.001466666666666667,
           -0.001466666666666667,
           0.0256,
           -0.009066666666666667,
           0.0021333333333333334
          ]
         ],
         "type": "scatter"
        },
        {
         "line": {
          "color": "blue",
          "width": 3
         },
         "mode": "lines",
         "name": "Efficient Frontier",
         "x": [],
         "y": [],
         "type": "scatter"
        }
       ],
       "layout": {
        "template": {
         "data": {
          "histogram2dcontour": [
           {
            "type": "histogram2dcontour",
            "colorbar": {
             "outlinewidth": 0,
             "ticks": ""
            },
            "colorscale": [
             [
              0.0,
              "#0d0887"
             ],
             [
              0.1111111111111111,
              "#46039f"
             ],
             [
              0.2222222222222222,
              "#7201a8"
             ],
             [
              0.3333333333333333,
              "#9c179e"
             ],
             [
              0.4444444444444444,
              "#bd3786"
             ],
             [
              0.5555555555555556,
              "#d8576b"
             ],
             [
              0.6666666666666666,
              "#ed7953"
             ],
             [
              0.7777777777777778,
              "#fb9f3a"
             ],
             [
              0.8888888888888888,
              "#fdca26"
             ],
             [
              1.0,
              "#f0f921"
             ]
            ]
           }
          ],
          "choropleth": [
           {
            "type": "choropleth",
            "colorbar": {
             "outlinewidth": 0,
             "ticks": ""
            }
           }
          ],
          "histogram2d": [
           {
            "type": "histogram2d",
            "colorbar": {
             "outlinewidth": 0,
             "ticks": ""
            },
            "colorscale": [
             [
              0.0,
              "#0d0887"
             ],
             [
              0.1111111111111111,
              "#46039f"
             ],
             [
              0.2222222222222222,
              "#7201a8"
             ],
             [
              0.3333333333333333,
              "#9c179e"
             ],
             [
              0.4444444444444444,
              "#bd3786"
             ],
             [
              0.5555555555555556,
              "#d8576b"
             ],
             [
              0.6666666666666666,
              "#ed7953"
             ],
             [
              0.7777777777777778,
              "#fb9f3a"
             ],
             [
              0.8888888888888888,
              "#fdca26"
             ],
             [
              1.0,
              "#f0f921"
             ]
            ]
           }
          ],
          "heatmap": [
           {
            "type": "heatmap",
            "colorbar": {
             "outlinewidth": 0,
             "ticks": ""
            },
            "colorscale": [
             [
              0.0,
              "#0d0887"
             ],
             [
              0.1111111111111111,
              "#46039f"
             ],
             [
              0.2222222222222222,
              "#7201a8"
             ],
             [
              0.3333333333333333,
              "#9c179e"
             ],
             [
              0.4444444444444444,
              "#bd3786"
             ],
             [
              0.5555555555555556,
              "#d8576b"
             ],
             [
              0.6666666666666666,
              "#ed7953"
             ],
             [
              0.7777777777777778,
              "#fb9f3a"
             ],
             [
              0.8888888888888888,
              "#fdca26"
             ],
             [
              1.0,
              "#f0f921"
             ]
            ]
           }
          ],
          "heatmapgl": [
           {
            "type": "heatmapgl",
            "colorbar": {
             "outlinewidth": 0,
             "ticks": ""
            },
            "colorscale": [
             [
              0.0,
              "#0d0887"
             ],
             [
              0.1111111111111111,
              "#46039f"
             ],
             [
              0.2222222222222222,
              "#7201a8"
             ],
             [
              0.3333333333333333,
              "#9c179e"
             ],
             [
              0.4444444444444444,
              "#bd3786"
             ],
             [
              0.5555555555555556,
              "#d8576b"
             ],
             [
              0.6666666666666666,
              "#ed7953"
             ],
             [
              0.7777777777777778,
              "#fb9f3a"
             ],
             [
              0.8888888888888888,
              "#fdca26"
             ],
             [
              1.0,
              "#f0f921"
             ]
            ]
           }
          ],
          "contourcarpet": [
           {
            "type": "contourcarpet",
            "colorbar": {
             "outlinewidth": 0,
             "ticks": ""
            }
           }
          ],
          "contour": [
           {
            "type": "contour",
            "colorbar": {
             "outlinewidth": 0,
             "ticks": ""
            },
            "colorscale": [
             [
              0.0,
              "#0d0887"
             ],
             [
              0.1111111111111111,
              "#46039f"
             ],
             [
              0.2222222222222222,
              "#7201a8"
             ],
             [
              0.3333333333333333,
              "#9c179e"
             ],
             [
              0.4444444444444444,
              "#bd3786"
             ],
             [
              0.5555555555555556,
              "#d8576b"
             ],
             [
              0.6666666666666666,
              "#ed7953"
             ],
             [
              0.7777777777777778,
              "#fb9f3a"
             ],
             [
              0.8888888888888888,
              "#fdca26"
             ],
             [
              1.0,
              "#f0f921"
             ]
            ]
           }
          ],
          "surface": [
           {
            "type": "surface",
            "colorbar": {
             "outlinewidth": 0,
             "ticks": ""
            },
            "colorscale": [
             [
              0.0,
              "#0d0887"
             ],
             [
              0.1111111111111111,
              "#46039f"
             ],
             [
              0.2222222222222222,
              "#7201a8"
             ],
             [
              0.3333333333333333,
              "#9c179e"
             ],
             [
              0.4444444444444444,
              "#bd3786"
             ],
             [
              0.5555555555555556,
              "#d8576b"
             ],
             [
              0.6666666666666666,
              "#ed7953"
             ],
             [
              0.7777777777777778,
              "#fb9f3a"
             ],
             [
              0.8888888888888888,
              "#fdca26"
             ],
             [
              1.0,
              "#f0f921"
             ]
            ]
           }
          ],
          "mesh3d": [
           {
            "type": "mesh3d",
            "colorbar": {
             "outlinewidth": 0,
             "ticks": ""
            }
           }
          ],
          "scatter": [
           {
            "fillpattern": {
             "fillmode": "overlay",
             "size": 10,
             "solidity": 0.2
            },
            "type": "scatter"
           }
          ],
          "parcoords": [
           {
            "type": "parcoords",
            "line": {
             "colorbar": {
              "outlinewidth": 0,
              "ticks": ""
             }
            }
           }
          ],
          "scatterpolargl": [
           {
            "type": "scatterpolargl",
            "marker": {
             "colorbar": {
              "outlinewidth": 0,
              "ticks": ""
             }
            }
           }
          ],
          "bar": [
           {
            "error_x": {
             "color": "#2a3f5f"
            },
            "error_y": {
             "color": "#2a3f5f"
            },
            "marker": {
             "line": {
              "color": "#E5ECF6",
              "width": 0.5
             },
             "pattern": {
              "fillmode": "overlay",
              "size": 10,
              "solidity": 0.2
             }
            },
            "type": "bar"
           }
          ],
          "scattergeo": [
           {
            "type": "scattergeo",
            "marker": {
             "colorbar": {
              "outlinewidth": 0,
              "ticks": ""
             }
            }
           }
          ],
          "scatterpolar": [
           {
            "type": "scatterpolar",
            "marker": {
             "colorbar": {
              "outlinewidth": 0,
              "ticks": ""
             }
            }
           }
          ],
          "histogram": [
           {
            "marker": {
             "pattern": {
              "fillmode": "overlay",
              "size": 10,
              "solidity": 0.2
             }
            },
            "type": "histogram"
           }
          ],
          "scattergl": [
           {
            "type": "scattergl",
            "marker": {
             "colorbar": {
              "outlinewidth": 0,
              "ticks": ""
             }
            }
           }
          ],
          "scatter3d": [
           {
            "type": "scatter3d",
            "line": {
             "colorbar": {
              "outlinewidth": 0,
              "ticks": ""
             }
            },
            "marker": {
             "colorbar": {
              "outlinewidth": 0,
              "ticks": ""
             }
            }
           }
          ],
          "scattermapbox": [
           {
            "type": "scattermapbox",
            "marker": {
             "colorbar": {
              "outlinewidth": 0,
              "ticks": ""
             }
            }
           }
          ],
          "scatterternary": [
           {
            "type": "scatterternary",
            "marker": {
             "colorbar": {
              "outlinewidth": 0,
              "ticks": ""
             }
            }
           }
          ],
          "scattercarpet": [
           {
            "type": "scattercarpet",
            "marker": {
             "colorbar": {
              "outlinewidth": 0,
              "ticks": ""
             }
            }
           }
          ],
          "carpet": [
           {
            "aaxis": {
             "endlinecolor": "#2a3f5f",
             "gridcolor": "white",
             "linecolor": "white",
             "minorgridcolor": "white",
             "startlinecolor": "#2a3f5f"
            },
            "baxis": {
             "endlinecolor": "#2a3f5f",
             "gridcolor": "white",
             "linecolor": "white",
             "minorgridcolor": "white",
             "startlinecolor": "#2a3f5f"
            },
            "type": "carpet"
           }
          ],
          "table": [
           {
            "cells": {
             "fill": {
              "color": "#EBF0F8"
             },
             "line": {
              "color": "white"
             }
            },
            "header": {
             "fill": {
              "color": "#C8D4E3"
             },
             "line": {
              "color": "white"
             }
            },
            "type": "table"
           }
          ],
          "barpolar": [
           {
            "marker": {
             "line": {
              "color": "#E5ECF6",
              "width": 0.5
             },
             "pattern": {
              "fillmode": "overlay",
              "size": 10,
              "solidity": 0.2
             }
            },
            "type": "barpolar"
           }
          ],
          "pie": [
           {
            "automargin": true,
            "type": "pie"
           }
          ]
         },
         "layout": {
          "autotypenumbers": "strict",
          "colorway": [
           "#636efa",
           "#EF553B",
           "#00cc96",
           "#ab63fa",
           "#FFA15A",
           "#19d3f3",
           "#FF6692",
           "#B6E880",
           "#FF97FF",
           "#FECB52"
          ],
          "font": {
           "color": "#2a3f5f"
          },
          "hovermode": "closest",
          "hoverlabel": {
           "align": "left"
          },
          "paper_bgcolor": "white",
          "plot_bgcolor": "#E5ECF6",
          "polar": {
           "bgcolor": "#E5ECF6",
           "angularaxis": {
            "gridcolor": "white",
            "linecolor": "white",
            "ticks": ""
           },
           "radialaxis": {
            "gridcolor": "white",
            "linecolor": "white",
            "ticks": ""
           }
          },
          "ternary": {
           "bgcolor": "#E5ECF6",
           "aaxis": {
            "gridcolor": "white",
            "linecolor": "white",
            "ticks": ""
           },
           "baxis": {
            "gridcolor": "white",
            "linecolor": "white",
            "ticks": ""
           },
           "caxis": {
            "gridcolor": "white",
            "linecolor": "white",
            "ticks": ""
           }
          },
          "coloraxis": {
           "colorbar": {
            "outlinewidth": 0,
            "ticks": ""
           }
          },
          "colorscale": {
           "sequential": [
            [
             0.0,
             "#0d0887"
            ],
            [
             0.1111111111111111,
             "#46039f"
            ],
            [
             0.2222222222222222,
             "#7201a8"
            ],
            [
             0.3333333333333333,
             "#9c179e"
            ],
            [
             0.4444444444444444,
             "#bd3786"
            ],
            [
             0.5555555555555556,
             "#d8576b"
            ],
            [
             0.6666666666666666,
             "#ed7953"
            ],
            [
             0.7777777777777778,
             "#fb9f3a"
            ],
            [
             0.8888888888888888,
             "#fdca26"
            ],
            [
             1.0,
             "#f0f921"
            ]
           ],
           "sequentialminus": [
            [
             0.0,
             "#0d0887"
            ],
            [
             0.1111111111111111,
             "#46039f"
            ],
            [
             0.2222222222222222,
             "#7201a8"
            ],
            [
             0.3333333333333333,
             "#9c179e"
            ],
            [
             0.4444444444444444,
             "#bd3786"
            ],
            [
             0.5555555555555556,
             "#d8576b"
            ],
            [
             0.6666666666666666,
             "#ed7953"
            ],
            [
             0.7777777777777778,
             "#fb9f3a"
            ],
            [
             0.8888888888888888,
             "#fdca26"
            ],
            [
             1.0,
             "#f0f921"
            ]
           ],
           "diverging": [
            [
             0,
             "#8e0152"
            ],
            [
             0.1,
             "#c51b7d"
            ],
            [
             0.2,
             "#de77ae"
            ],
            [
             0.3,
             "#f1b6da"
            ],
            [
             0.4,
             "#fde0ef"
            ],
            [
             0.5,
             "#f7f7f7"
            ],
            [
             0.6,
             "#e6f5d0"
            ],
            [
             0.7,
             "#b8e186"
            ],
            [
             0.8,
             "#7fbc41"
            ],
            [
             0.9,
             "#4d9221"
            ],
            [
             1,
             "#276419"
            ]
           ]
          },
          "xaxis": {
           "gridcolor": "white",
           "linecolor": "white",
           "ticks": "",
           "title": {
            "standoff": 15
           },
           "zerolinecolor": "white",
           "automargin": true,
           "zerolinewidth": 2
          },
          "yaxis": {
           "gridcolor": "white",
           "linecolor": "white",
           "ticks": "",
           "title": {
            "standoff": 15
           },
           "zerolinecolor": "white",
           "automargin": true,
           "zerolinewidth": 2
          },
          "scene": {
           "xaxis": {
            "backgroundcolor": "#E5ECF6",
            "gridcolor": "white",
            "linecolor": "white",
            "showbackground": true,
            "ticks": "",
            "zerolinecolor": "white",
            "gridwidth": 2
           },
           "yaxis": {
            "backgroundcolor": "#E5ECF6",
            "gridcolor": "white",
            "linecolor": "white",
            "showbackground": true,
            "ticks": "",
            "zerolinecolor": "white",
            "gridwidth": 2
           },
           "zaxis": {
            "backgroundcolor": "#E5ECF6",
            "gridcolor": "white",
            "linecolor": "white",
            "showbackground": true,
            "ticks": "",
            "zerolinecolor": "white",
            "gridwidth": 2
           }
          },
          "shapedefaults": {
           "line": {
            "color": "#2a3f5f"
           }
          },
          "annotationdefaults": {
           "arrowcolor": "#2a3f5f",
           "arrowhead": 0,
           "arrowwidth": 1
          },
          "geo": {
           "bgcolor": "white",
           "landcolor": "#E5ECF6",
           "subunitcolor": "white",
           "showland": true,
           "showlakes": true,
           "lakecolor": "white"
          },
          "title": {
           "x": 0.05
          },
          "mapbox": {
           "style": "light"
          }
         }
        },
        "margin": {
         "l": 20,
         "r": 20,
         "t": 20,
         "b": 20
        },
        "xaxis": {
         "title": {
          "text": "Risk (Standard Deviation)"
         },
         "tickformat": ".0%",
         "range": [
          -0.023466666666666663,
          0.8
         ]
        },
        "yaxis": {
         "title": {
          "text": "Investment Return Average (last 25 years)"
         },
         "tickformat": ".0%",
         "range": [
          -0.2,
          0.6
         ]
        },
        "legend": {
         "x": 1,
         "y": 1
        },
        "title": {
         "text": "Efficient Frontier"
        },
        "hovermode": "closest"
       },
       "config": {
        "plotlyServerURL": "https://plot.ly"
       }
      },
      "text/html": [
       "<div>                            <div id=\"7d5848e3-38b0-4ee9-a47d-af715ce8e48c\" class=\"plotly-graph-div\" style=\"height:525px; width:100%;\"></div>            <script type=\"text/javascript\">                require([\"plotly\"], function(Plotly) {                    window.PLOTLYENV=window.PLOTLYENV || {};                                    if (document.getElementById(\"7d5848e3-38b0-4ee9-a47d-af715ce8e48c\")) {                    Plotly.newPlot(                        \"7d5848e3-38b0-4ee9-a47d-af715ce8e48c\",                        [{\"marker\":{\"color\":\"blue\",\"size\":4},\"mode\":\"markers\",\"showlegend\":false,\"text\":\"NFLX\",\"textposition\":\"top center\",\"x\":[-0.013466666666666663],\"y\":[0.23],\"type\":\"scatter\"},{\"marker\":{\"color\":\"blue\",\"size\":4},\"mode\":\"markers\",\"showlegend\":false,\"text\":\"GIII\",\"textposition\":\"top center\",\"x\":[-0.007200000000000001],\"y\":[0.287],\"type\":\"scatter\"},{\"marker\":{\"color\":\"blue\",\"size\":4},\"mode\":\"markers\",\"showlegend\":false,\"text\":\"TSCO\",\"textposition\":\"top center\",\"x\":[-0.0048],\"y\":[0.2056],\"type\":\"scatter\"},{\"marker\":{\"color\":\"blue\",\"size\":4},\"mode\":\"markers\",\"showlegend\":false,\"text\":\"DORM\",\"textposition\":\"top center\",\"x\":[0.004666666666666667],\"y\":[0.1031],\"type\":\"scatter\"},{\"marker\":{\"color\":\"blue\",\"size\":4},\"mode\":\"markers\",\"showlegend\":false,\"text\":\"BGEO.L\",\"textposition\":\"top center\",\"x\":[0.005600000000000001],\"y\":[0.1179],\"type\":\"scatter\"},{\"marker\":{\"color\":\"blue\",\"size\":4},\"mode\":\"markers\",\"showlegend\":false,\"text\":\"MANH\",\"textposition\":\"top center\",\"x\":[0.0012],\"y\":[0.2376],\"type\":\"scatter\"},{\"marker\":{\"color\":\"blue\",\"size\":4},\"mode\":\"markers\",\"showlegend\":false,\"text\":\"KMX\",\"textposition\":\"top center\",\"x\":[-0.0001333333333333333],\"y\":[0.2476],\"type\":\"scatter\"},{\"marker\":{\"color\":\"blue\",\"size\":4},\"mode\":\"markers\",\"showlegend\":false,\"text\":\"ANSS\",\"textposition\":\"top center\",\"x\":[0.0],\"y\":[0.3093],\"type\":\"scatter\"},{\"marker\":{\"color\":\"blue\",\"size\":4},\"mode\":\"markers\",\"showlegend\":false,\"text\":\"TPL\",\"textposition\":\"top center\",\"x\":[-0.00013333333333333334],\"y\":[0.281],\"type\":\"scatter\"},{\"marker\":{\"color\":\"blue\",\"size\":4},\"mode\":\"markers\",\"showlegend\":false,\"text\":\"VTR\",\"textposition\":\"top center\",\"x\":[-0.0006666666666666666],\"y\":[0.2054],\"type\":\"scatter\"},{\"marker\":{\"color\":\"blue\",\"size\":4},\"mode\":\"markers\",\"showlegend\":false,\"text\":\"MFA\",\"textposition\":\"top center\",\"x\":[0.00039999999999999996],\"y\":[0.2419],\"type\":\"scatter\"},{\"marker\":{\"color\":\"blue\",\"size\":4},\"mode\":\"markers\",\"showlegend\":false,\"text\":\"PUM.DE\",\"textposition\":\"top center\",\"x\":[-0.00039999999999999996],\"y\":[0.1537],\"type\":\"scatter\"},{\"marker\":{\"color\":\"blue\",\"size\":4},\"mode\":\"markers\",\"showlegend\":false,\"text\":\"ATRI\",\"textposition\":\"top center\",\"x\":[-0.0002666666666666667],\"y\":[0.2092],\"type\":\"scatter\"},{\"marker\":{\"color\":\"blue\",\"size\":4},\"mode\":\"markers\",\"showlegend\":false,\"text\":\"MNRO\",\"textposition\":\"top center\",\"x\":[0.0009333333333333334],\"y\":[0.2311],\"type\":\"scatter\"},{\"marker\":{\"color\":\"blue\",\"size\":4},\"mode\":\"markers\",\"showlegend\":false,\"text\":\"AVGO\",\"textposition\":\"top center\",\"x\":[0.00013333333333333326],\"y\":[0.1945],\"type\":\"scatter\"},{\"marker\":{\"color\":\"blue\",\"size\":4},\"mode\":\"markers\",\"showlegend\":false,\"text\":\"MLAB\",\"textposition\":\"top center\",\"x\":[0.0],\"y\":[0.1721],\"type\":\"scatter\"},{\"marker\":{\"color\":\"blue\",\"size\":4},\"mode\":\"markers\",\"showlegend\":false,\"text\":\"FCN\",\"textposition\":\"top center\",\"x\":[0.0006666666666666668],\"y\":[0.2738],\"type\":\"scatter\"},{\"marker\":{\"color\":\"blue\",\"size\":4},\"mode\":\"markers\",\"showlegend\":false,\"text\":\"FTK.DE\",\"textposition\":\"top center\",\"x\":[0.0030666666666666668],\"y\":[0.1436],\"type\":\"scatter\"},{\"marker\":{\"color\":\"blue\",\"size\":4},\"mode\":\"markers\",\"showlegend\":false,\"text\":\"TTC\",\"textposition\":\"top center\",\"x\":[-0.00013333333333333334],\"y\":[0.1281],\"type\":\"scatter\"},{\"marker\":{\"color\":\"blue\",\"size\":4},\"mode\":\"markers\",\"showlegend\":false,\"text\":\"ROST\",\"textposition\":\"top center\",\"x\":[0.0],\"y\":[0.1753],\"type\":\"scatter\"},{\"marker\":{\"color\":\"blue\",\"size\":4},\"mode\":\"markers\",\"showlegend\":false,\"text\":\"IDXX\",\"textposition\":\"top center\",\"x\":[0.00039999999999999996],\"y\":[0.4606],\"type\":\"scatter\"},{\"marker\":{\"color\":\"blue\",\"size\":4},\"mode\":\"markers\",\"showlegend\":false,\"text\":\"DAKT\",\"textposition\":\"top center\",\"x\":[0.005733333333333333],\"y\":[0.2327],\"type\":\"scatter\"},{\"marker\":{\"color\":\"blue\",\"size\":4},\"mode\":\"markers\",\"showlegend\":false,\"text\":\"ISRG\",\"textposition\":\"top center\",\"x\":[-0.0006666666666666668],\"y\":[0.2081],\"type\":\"scatter\"},{\"marker\":{\"color\":\"blue\",\"size\":4},\"mode\":\"markers\",\"showlegend\":false,\"text\":\"POOL\",\"textposition\":\"top center\",\"x\":[-0.0005333333333333334],\"y\":[0.2],\"type\":\"scatter\"},{\"marker\":{\"color\":\"blue\",\"size\":4},\"mode\":\"markers\",\"showlegend\":false,\"text\":\"SHOO\",\"textposition\":\"top center\",\"x\":[0.0006666666666666666],\"y\":[0.2348],\"type\":\"scatter\"},{\"marker\":{\"color\":\"blue\",\"size\":4},\"mode\":\"markers\",\"showlegend\":false,\"text\":\"2124.T\",\"textposition\":\"top center\",\"x\":[0.0032000000000000006],\"y\":[0.2957],\"type\":\"scatter\"},{\"marker\":{\"color\":\"blue\",\"size\":4},\"mode\":\"markers\",\"showlegend\":false,\"text\":\"TYL\",\"textposition\":\"top center\",\"x\":[-0.00013333333333333334],\"y\":[0.204],\"type\":\"scatter\"},{\"marker\":{\"color\":\"blue\",\"size\":4},\"mode\":\"markers\",\"showlegend\":false,\"text\":\"BALL\",\"textposition\":\"top center\",\"x\":[-0.0002666666666666667],\"y\":[0.2159],\"type\":\"scatter\"},{\"marker\":{\"color\":\"blue\",\"size\":4},\"mode\":\"markers\",\"showlegend\":false,\"text\":\"JBHT\",\"textposition\":\"top center\",\"x\":[0.0002666666666666666],\"y\":[0.1191],\"type\":\"scatter\"},{\"marker\":{\"color\":\"blue\",\"size\":4},\"mode\":\"markers\",\"showlegend\":false,\"text\":\"ILM1.DE\",\"textposition\":\"top center\",\"x\":[0.0015999999999999999],\"y\":[0.2791],\"type\":\"scatter\"},{\"marker\":{\"color\":\"blue\",\"size\":4},\"mode\":\"markers\",\"showlegend\":false,\"text\":\"NSP\",\"textposition\":\"top center\",\"x\":[0.0],\"y\":[0.2061],\"type\":\"scatter\"},{\"marker\":{\"color\":\"blue\",\"size\":4},\"mode\":\"markers\",\"showlegend\":false,\"text\":\"WINA\",\"textposition\":\"top center\",\"x\":[-0.00039999999999999996],\"y\":[0.0828],\"type\":\"scatter\"},{\"marker\":{\"color\":\"blue\",\"size\":4},\"mode\":\"markers\",\"showlegend\":false,\"text\":\"OLED\",\"textposition\":\"top center\",\"x\":[-0.00039999999999999996],\"y\":[0.2686],\"type\":\"scatter\"},{\"marker\":{\"color\":\"blue\",\"size\":4},\"mode\":\"markers\",\"showlegend\":false,\"text\":\"ICLR\",\"textposition\":\"top center\",\"x\":[0.0005333333333333334],\"y\":[0.2102],\"type\":\"scatter\"},{\"marker\":{\"color\":\"blue\",\"size\":4},\"mode\":\"markers\",\"showlegend\":false,\"text\":\"COHR\",\"textposition\":\"top center\",\"x\":[0.0001333333333333334],\"y\":[0.6718],\"type\":\"scatter\"},{\"marker\":{\"color\":\"blue\",\"size\":4},\"mode\":\"markers\",\"showlegend\":false,\"text\":\"2471.T\",\"textposition\":\"top center\",\"x\":[-0.0009333333333333332],\"y\":[0.2299],\"type\":\"scatter\"},{\"marker\":{\"color\":\"blue\",\"size\":4},\"mode\":\"markers\",\"showlegend\":false,\"text\":\"CRM\",\"textposition\":\"top center\",\"x\":[0.0009333333333333334],\"y\":[0.2531],\"type\":\"scatter\"},{\"marker\":{\"color\":\"blue\",\"size\":4},\"mode\":\"markers\",\"showlegend\":false,\"text\":\"4751.T\",\"textposition\":\"top center\",\"x\":[0.0005333333333333333],\"y\":[0.2048],\"type\":\"scatter\"},{\"marker\":{\"color\":\"blue\",\"size\":4},\"mode\":\"markers\",\"showlegend\":false,\"text\":\"VSEC\",\"textposition\":\"top center\",\"x\":[-0.0005333333333333333],\"y\":[0.3933],\"type\":\"scatter\"},{\"marker\":{\"color\":\"blue\",\"size\":4},\"mode\":\"markers\",\"showlegend\":false,\"text\":\"UNH\",\"textposition\":\"top center\",\"x\":[-0.00039999999999999996],\"y\":[0.2007],\"type\":\"scatter\"},{\"marker\":{\"color\":\"blue\",\"size\":4},\"mode\":\"markers\",\"showlegend\":false,\"text\":\"HUM\",\"textposition\":\"top center\",\"x\":[0.0],\"y\":[0.4775],\"type\":\"scatter\"},{\"marker\":{\"color\":\"blue\",\"size\":4},\"mode\":\"markers\",\"showlegend\":false,\"text\":\"BLK\",\"textposition\":\"top center\",\"x\":[0.0008],\"y\":[0.3572],\"type\":\"scatter\"},{\"marker\":{\"color\":\"blue\",\"size\":4},\"mode\":\"markers\",\"showlegend\":false,\"text\":\"OSIS\",\"textposition\":\"top center\",\"x\":[0.0],\"y\":[0.1682],\"type\":\"scatter\"},{\"marker\":{\"color\":\"blue\",\"size\":4},\"mode\":\"markers\",\"showlegend\":false,\"text\":\"MTH\",\"textposition\":\"top center\",\"x\":[-0.0006666666666666668],\"y\":[0.1268],\"type\":\"scatter\"},{\"marker\":{\"color\":\"blue\",\"size\":4},\"mode\":\"markers\",\"showlegend\":false,\"text\":\"SHYF\",\"textposition\":\"top center\",\"x\":[-0.0017333333333333335],\"y\":[0.2585],\"type\":\"scatter\"},{\"marker\":{\"color\":\"blue\",\"size\":4},\"mode\":\"markers\",\"showlegend\":false,\"text\":\"ELS\",\"textposition\":\"top center\",\"x\":[0.0],\"y\":[0.1642],\"type\":\"scatter\"},{\"marker\":{\"color\":\"blue\",\"size\":4},\"mode\":\"markers\",\"showlegend\":false,\"text\":\"EVD.DE\",\"textposition\":\"top center\",\"x\":[0.0014666666666666665],\"y\":[0.2887],\"type\":\"scatter\"},{\"marker\":{\"color\":\"blue\",\"size\":4},\"mode\":\"markers\",\"showlegend\":false,\"text\":\"RGLD\",\"textposition\":\"top center\",\"x\":[0.00013333333333333329],\"y\":[0.1954],\"type\":\"scatter\"},{\"marker\":{\"color\":\"blue\",\"size\":4},\"mode\":\"markers\",\"showlegend\":false,\"text\":\"ADSK\",\"textposition\":\"top center\",\"x\":[0.00013333333333333329],\"y\":[0.2027],\"type\":\"scatter\"},{\"marker\":{\"color\":\"blue\",\"size\":4},\"mode\":\"markers\",\"showlegend\":false,\"text\":\"COR\",\"textposition\":\"top center\",\"x\":[-0.0002666666666666667],\"y\":[0.2079],\"type\":\"scatter\"},{\"marker\":{\"color\":\"blue\",\"size\":4},\"mode\":\"markers\",\"showlegend\":false,\"text\":\"LCII\",\"textposition\":\"top center\",\"x\":[-0.0002666666666666666],\"y\":[0.0523],\"type\":\"scatter\"},{\"marker\":{\"color\":\"blue\",\"size\":4},\"mode\":\"markers\",\"showlegend\":false,\"text\":\"HSIC\",\"textposition\":\"top center\",\"x\":[0.0002666666666666667],\"y\":[0.2147],\"type\":\"scatter\"},{\"marker\":{\"color\":\"blue\",\"size\":4},\"mode\":\"markers\",\"showlegend\":false,\"text\":\"LII\",\"textposition\":\"top center\",\"x\":[0.00013333333333333334],\"y\":[0.2744],\"type\":\"scatter\"},{\"marker\":{\"color\":\"blue\",\"size\":4},\"mode\":\"markers\",\"showlegend\":false,\"text\":\"REGN\",\"textposition\":\"top center\",\"x\":[0.001333333333333333],\"y\":[0.215],\"type\":\"scatter\"},{\"marker\":{\"color\":\"blue\",\"size\":4},\"mode\":\"markers\",\"showlegend\":false,\"text\":\"EPR\",\"textposition\":\"top center\",\"x\":[-0.00039999999999999996],\"y\":[0.2597],\"type\":\"scatter\"},{\"marker\":{\"color\":\"blue\",\"size\":4},\"mode\":\"markers\",\"showlegend\":false,\"text\":\"AKR\",\"textposition\":\"top center\",\"x\":[-0.0005333333333333334],\"y\":[0.34],\"type\":\"scatter\"},{\"marker\":{\"color\":\"blue\",\"size\":4},\"mode\":\"markers\",\"showlegend\":false,\"text\":\"RWT\",\"textposition\":\"top center\",\"x\":[-0.0005333333333333334],\"y\":[0.209],\"type\":\"scatter\"},{\"marker\":{\"color\":\"blue\",\"size\":4},\"mode\":\"markers\",\"showlegend\":false,\"text\":\"MPX\",\"textposition\":\"top center\",\"x\":[0.0005333333333333333],\"y\":[0.2257],\"type\":\"scatter\"},{\"marker\":{\"color\":\"blue\",\"size\":4},\"mode\":\"markers\",\"showlegend\":false,\"text\":\"SKT\",\"textposition\":\"top center\",\"x\":[0.0],\"y\":[0.2607],\"type\":\"scatter\"},{\"marker\":{\"color\":\"blue\",\"size\":4},\"mode\":\"markers\",\"showlegend\":false,\"text\":\"BKE\",\"textposition\":\"top center\",\"x\":[0.00039999999999999996],\"y\":[0.2791],\"type\":\"scatter\"},{\"marker\":{\"color\":\"blue\",\"size\":4},\"mode\":\"markers\",\"showlegend\":false,\"text\":\"FTNT\",\"textposition\":\"top center\",\"x\":[0.002133333333333333],\"y\":[0.123],\"type\":\"scatter\"},{\"marker\":{\"color\":\"blue\",\"size\":4},\"mode\":\"markers\",\"showlegend\":false,\"text\":\"EXLS\",\"textposition\":\"top center\",\"x\":[0.002133333333333333],\"y\":[0.0762],\"type\":\"scatter\"},{\"marker\":{\"color\":\"blue\",\"size\":4},\"mode\":\"markers\",\"showlegend\":false,\"text\":\"AOX.DE\",\"textposition\":\"top center\",\"x\":[0.005466666666666667],\"y\":[0.2308],\"type\":\"scatter\"},{\"marker\":{\"color\":\"blue\",\"size\":4},\"mode\":\"markers\",\"showlegend\":false,\"text\":\"CLMB\",\"textposition\":\"top center\",\"x\":[0.002266666666666667],\"y\":[0.2386],\"type\":\"scatter\"},{\"marker\":{\"color\":\"blue\",\"size\":4},\"mode\":\"markers\",\"showlegend\":false,\"text\":\"DHC\",\"textposition\":\"top center\",\"x\":[-0.0006666666666666668],\"y\":[0.2126],\"type\":\"scatter\"},{\"marker\":{\"color\":\"blue\",\"size\":4},\"mode\":\"markers\",\"showlegend\":false,\"text\":\"CTO\",\"textposition\":\"top center\",\"x\":[0.00013333333333333329],\"y\":[0.1245],\"type\":\"scatter\"},{\"marker\":{\"color\":\"blue\",\"size\":4},\"mode\":\"markers\",\"showlegend\":false,\"text\":\"ESCA\",\"textposition\":\"top center\",\"x\":[0.020933333333333335],\"y\":[0.2669],\"type\":\"scatter\"},{\"marker\":{\"color\":\"blue\",\"size\":4},\"mode\":\"markers\",\"showlegend\":false,\"text\":\"MPW\",\"textposition\":\"top center\",\"x\":[-0.0028000000000000004],\"y\":[0.2701],\"type\":\"scatter\"},{\"marker\":{\"color\":\"blue\",\"size\":4},\"mode\":\"markers\",\"showlegend\":false,\"text\":\"LXP\",\"textposition\":\"top center\",\"x\":[-0.011733333333333332],\"y\":[0.2141],\"type\":\"scatter\"},{\"marker\":{\"color\":\"blue\",\"size\":4},\"mode\":\"markers\",\"showlegend\":false,\"text\":\"GEN\",\"textposition\":\"top center\",\"x\":[-0.00026666666666666657],\"y\":[0.2605],\"type\":\"scatter\"},{\"marker\":{\"color\":\"blue\",\"size\":4},\"mode\":\"markers\",\"showlegend\":false,\"text\":\"DDD\",\"textposition\":\"top center\",\"x\":[0.0008],\"y\":[0.105],\"type\":\"scatter\"},{\"marker\":{\"color\":\"blue\",\"size\":4},\"mode\":\"markers\",\"showlegend\":false,\"text\":\"AGNC\",\"textposition\":\"top center\",\"x\":[0.001466666666666667],\"y\":[0.2491],\"type\":\"scatter\"},{\"marker\":{\"color\":\"blue\",\"size\":4},\"mode\":\"markers\",\"showlegend\":false,\"text\":\"ECV.DE\",\"textposition\":\"top center\",\"x\":[-0.001466666666666667],\"y\":[0.0922],\"type\":\"scatter\"},{\"marker\":{\"color\":\"blue\",\"size\":4},\"mode\":\"markers\",\"showlegend\":false,\"text\":\"SFQ.DE\",\"textposition\":\"top center\",\"x\":[0.0256],\"y\":[0.2245],\"type\":\"scatter\"},{\"marker\":{\"color\":\"blue\",\"size\":4},\"mode\":\"markers\",\"showlegend\":false,\"text\":\"CPRX\",\"textposition\":\"top center\",\"x\":[-0.009066666666666667],\"y\":[0.2041],\"type\":\"scatter\"},{\"marker\":{\"color\":\"blue\",\"size\":4},\"mode\":\"markers\",\"showlegend\":false,\"text\":\"DXLG\",\"textposition\":\"top center\",\"x\":[0.0021333333333333334],\"y\":[0.2157],\"type\":\"scatter\"},{\"marker\":{\"color\":\"red\",\"size\":10,\"symbol\":\"star\"},\"mode\":\"markers\",\"name\":\"Max Sharpe Portfolio\",\"x\":[[0.23,0.287,0.2056,0.1031,0.1179,0.2376,0.2476,0.3093,0.281,0.2054,0.2419,0.1537,0.2092,0.2311,0.1945,0.1721,0.2738,0.1436,0.1281,0.1753,0.4606,0.2327,0.2081,0.2,0.2348,0.2957,0.204,0.2159,0.1191,0.2791,0.2061,0.0828,0.2686,0.2102,0.6718,0.2299,0.2531,0.2048,0.3933,0.2007,0.4775,0.3572,0.1682,0.1268,0.2585,0.1642,0.2887,0.1954,0.2027,0.2079,0.0523,0.2147,0.2744,0.215,0.2597,0.34,0.209,0.2257,0.2607,0.2791,0.123,0.0762,0.2308,0.2386,0.2126,0.1245,0.2669,0.2701,0.2141,0.2605,0.105,0.2491,0.0922,0.2245,0.2041,0.2157]],\"y\":[[-0.013466666666666663,-0.007200000000000001,-0.0048,0.004666666666666667,0.005600000000000001,0.0012,-0.0001333333333333333,0.0,-0.00013333333333333334,-0.0006666666666666666,0.00039999999999999996,-0.00039999999999999996,-0.0002666666666666667,0.0009333333333333334,0.00013333333333333326,0.0,0.0006666666666666668,0.0030666666666666668,-0.00013333333333333334,0.0,0.00039999999999999996,0.005733333333333333,-0.0006666666666666668,-0.0005333333333333334,0.0006666666666666666,0.0032000000000000006,-0.00013333333333333334,-0.0002666666666666667,0.0002666666666666666,0.0015999999999999999,0.0,-0.00039999999999999996,-0.00039999999999999996,0.0005333333333333334,0.0001333333333333334,-0.0009333333333333332,0.0009333333333333334,0.0005333333333333333,-0.0005333333333333333,-0.00039999999999999996,0.0,0.0008,0.0,-0.0006666666666666668,-0.0017333333333333335,0.0,0.0014666666666666665,0.00013333333333333329,0.00013333333333333329,-0.0002666666666666667,-0.0002666666666666666,0.0002666666666666667,0.00013333333333333334,0.001333333333333333,-0.00039999999999999996,-0.0005333333333333334,-0.0005333333333333334,0.0005333333333333333,0.0,0.00039999999999999996,0.002133333333333333,0.002133333333333333,0.005466666666666667,0.002266666666666667,-0.0006666666666666668,0.00013333333333333329,0.020933333333333335,-0.0028000000000000004,-0.011733333333333332,-0.00026666666666666657,0.0008,0.001466666666666667,-0.001466666666666667,0.0256,-0.009066666666666667,0.0021333333333333334]],\"type\":\"scatter\"},{\"line\":{\"color\":\"blue\",\"width\":3},\"mode\":\"lines\",\"name\":\"Efficient Frontier\",\"x\":[],\"y\":[],\"type\":\"scatter\"}],                        {\"template\":{\"data\":{\"histogram2dcontour\":[{\"type\":\"histogram2dcontour\",\"colorbar\":{\"outlinewidth\":0,\"ticks\":\"\"},\"colorscale\":[[0.0,\"#0d0887\"],[0.1111111111111111,\"#46039f\"],[0.2222222222222222,\"#7201a8\"],[0.3333333333333333,\"#9c179e\"],[0.4444444444444444,\"#bd3786\"],[0.5555555555555556,\"#d8576b\"],[0.6666666666666666,\"#ed7953\"],[0.7777777777777778,\"#fb9f3a\"],[0.8888888888888888,\"#fdca26\"],[1.0,\"#f0f921\"]]}],\"choropleth\":[{\"type\":\"choropleth\",\"colorbar\":{\"outlinewidth\":0,\"ticks\":\"\"}}],\"histogram2d\":[{\"type\":\"histogram2d\",\"colorbar\":{\"outlinewidth\":0,\"ticks\":\"\"},\"colorscale\":[[0.0,\"#0d0887\"],[0.1111111111111111,\"#46039f\"],[0.2222222222222222,\"#7201a8\"],[0.3333333333333333,\"#9c179e\"],[0.4444444444444444,\"#bd3786\"],[0.5555555555555556,\"#d8576b\"],[0.6666666666666666,\"#ed7953\"],[0.7777777777777778,\"#fb9f3a\"],[0.8888888888888888,\"#fdca26\"],[1.0,\"#f0f921\"]]}],\"heatmap\":[{\"type\":\"heatmap\",\"colorbar\":{\"outlinewidth\":0,\"ticks\":\"\"},\"colorscale\":[[0.0,\"#0d0887\"],[0.1111111111111111,\"#46039f\"],[0.2222222222222222,\"#7201a8\"],[0.3333333333333333,\"#9c179e\"],[0.4444444444444444,\"#bd3786\"],[0.5555555555555556,\"#d8576b\"],[0.6666666666666666,\"#ed7953\"],[0.7777777777777778,\"#fb9f3a\"],[0.8888888888888888,\"#fdca26\"],[1.0,\"#f0f921\"]]}],\"heatmapgl\":[{\"type\":\"heatmapgl\",\"colorbar\":{\"outlinewidth\":0,\"ticks\":\"\"},\"colorscale\":[[0.0,\"#0d0887\"],[0.1111111111111111,\"#46039f\"],[0.2222222222222222,\"#7201a8\"],[0.3333333333333333,\"#9c179e\"],[0.4444444444444444,\"#bd3786\"],[0.5555555555555556,\"#d8576b\"],[0.6666666666666666,\"#ed7953\"],[0.7777777777777778,\"#fb9f3a\"],[0.8888888888888888,\"#fdca26\"],[1.0,\"#f0f921\"]]}],\"contourcarpet\":[{\"type\":\"contourcarpet\",\"colorbar\":{\"outlinewidth\":0,\"ticks\":\"\"}}],\"contour\":[{\"type\":\"contour\",\"colorbar\":{\"outlinewidth\":0,\"ticks\":\"\"},\"colorscale\":[[0.0,\"#0d0887\"],[0.1111111111111111,\"#46039f\"],[0.2222222222222222,\"#7201a8\"],[0.3333333333333333,\"#9c179e\"],[0.4444444444444444,\"#bd3786\"],[0.5555555555555556,\"#d8576b\"],[0.6666666666666666,\"#ed7953\"],[0.7777777777777778,\"#fb9f3a\"],[0.8888888888888888,\"#fdca26\"],[1.0,\"#f0f921\"]]}],\"surface\":[{\"type\":\"surface\",\"colorbar\":{\"outlinewidth\":0,\"ticks\":\"\"},\"colorscale\":[[0.0,\"#0d0887\"],[0.1111111111111111,\"#46039f\"],[0.2222222222222222,\"#7201a8\"],[0.3333333333333333,\"#9c179e\"],[0.4444444444444444,\"#bd3786\"],[0.5555555555555556,\"#d8576b\"],[0.6666666666666666,\"#ed7953\"],[0.7777777777777778,\"#fb9f3a\"],[0.8888888888888888,\"#fdca26\"],[1.0,\"#f0f921\"]]}],\"mesh3d\":[{\"type\":\"mesh3d\",\"colorbar\":{\"outlinewidth\":0,\"ticks\":\"\"}}],\"scatter\":[{\"fillpattern\":{\"fillmode\":\"overlay\",\"size\":10,\"solidity\":0.2},\"type\":\"scatter\"}],\"parcoords\":[{\"type\":\"parcoords\",\"line\":{\"colorbar\":{\"outlinewidth\":0,\"ticks\":\"\"}}}],\"scatterpolargl\":[{\"type\":\"scatterpolargl\",\"marker\":{\"colorbar\":{\"outlinewidth\":0,\"ticks\":\"\"}}}],\"bar\":[{\"error_x\":{\"color\":\"#2a3f5f\"},\"error_y\":{\"color\":\"#2a3f5f\"},\"marker\":{\"line\":{\"color\":\"#E5ECF6\",\"width\":0.5},\"pattern\":{\"fillmode\":\"overlay\",\"size\":10,\"solidity\":0.2}},\"type\":\"bar\"}],\"scattergeo\":[{\"type\":\"scattergeo\",\"marker\":{\"colorbar\":{\"outlinewidth\":0,\"ticks\":\"\"}}}],\"scatterpolar\":[{\"type\":\"scatterpolar\",\"marker\":{\"colorbar\":{\"outlinewidth\":0,\"ticks\":\"\"}}}],\"histogram\":[{\"marker\":{\"pattern\":{\"fillmode\":\"overlay\",\"size\":10,\"solidity\":0.2}},\"type\":\"histogram\"}],\"scattergl\":[{\"type\":\"scattergl\",\"marker\":{\"colorbar\":{\"outlinewidth\":0,\"ticks\":\"\"}}}],\"scatter3d\":[{\"type\":\"scatter3d\",\"line\":{\"colorbar\":{\"outlinewidth\":0,\"ticks\":\"\"}},\"marker\":{\"colorbar\":{\"outlinewidth\":0,\"ticks\":\"\"}}}],\"scattermapbox\":[{\"type\":\"scattermapbox\",\"marker\":{\"colorbar\":{\"outlinewidth\":0,\"ticks\":\"\"}}}],\"scatterternary\":[{\"type\":\"scatterternary\",\"marker\":{\"colorbar\":{\"outlinewidth\":0,\"ticks\":\"\"}}}],\"scattercarpet\":[{\"type\":\"scattercarpet\",\"marker\":{\"colorbar\":{\"outlinewidth\":0,\"ticks\":\"\"}}}],\"carpet\":[{\"aaxis\":{\"endlinecolor\":\"#2a3f5f\",\"gridcolor\":\"white\",\"linecolor\":\"white\",\"minorgridcolor\":\"white\",\"startlinecolor\":\"#2a3f5f\"},\"baxis\":{\"endlinecolor\":\"#2a3f5f\",\"gridcolor\":\"white\",\"linecolor\":\"white\",\"minorgridcolor\":\"white\",\"startlinecolor\":\"#2a3f5f\"},\"type\":\"carpet\"}],\"table\":[{\"cells\":{\"fill\":{\"color\":\"#EBF0F8\"},\"line\":{\"color\":\"white\"}},\"header\":{\"fill\":{\"color\":\"#C8D4E3\"},\"line\":{\"color\":\"white\"}},\"type\":\"table\"}],\"barpolar\":[{\"marker\":{\"line\":{\"color\":\"#E5ECF6\",\"width\":0.5},\"pattern\":{\"fillmode\":\"overlay\",\"size\":10,\"solidity\":0.2}},\"type\":\"barpolar\"}],\"pie\":[{\"automargin\":true,\"type\":\"pie\"}]},\"layout\":{\"autotypenumbers\":\"strict\",\"colorway\":[\"#636efa\",\"#EF553B\",\"#00cc96\",\"#ab63fa\",\"#FFA15A\",\"#19d3f3\",\"#FF6692\",\"#B6E880\",\"#FF97FF\",\"#FECB52\"],\"font\":{\"color\":\"#2a3f5f\"},\"hovermode\":\"closest\",\"hoverlabel\":{\"align\":\"left\"},\"paper_bgcolor\":\"white\",\"plot_bgcolor\":\"#E5ECF6\",\"polar\":{\"bgcolor\":\"#E5ECF6\",\"angularaxis\":{\"gridcolor\":\"white\",\"linecolor\":\"white\",\"ticks\":\"\"},\"radialaxis\":{\"gridcolor\":\"white\",\"linecolor\":\"white\",\"ticks\":\"\"}},\"ternary\":{\"bgcolor\":\"#E5ECF6\",\"aaxis\":{\"gridcolor\":\"white\",\"linecolor\":\"white\",\"ticks\":\"\"},\"baxis\":{\"gridcolor\":\"white\",\"linecolor\":\"white\",\"ticks\":\"\"},\"caxis\":{\"gridcolor\":\"white\",\"linecolor\":\"white\",\"ticks\":\"\"}},\"coloraxis\":{\"colorbar\":{\"outlinewidth\":0,\"ticks\":\"\"}},\"colorscale\":{\"sequential\":[[0.0,\"#0d0887\"],[0.1111111111111111,\"#46039f\"],[0.2222222222222222,\"#7201a8\"],[0.3333333333333333,\"#9c179e\"],[0.4444444444444444,\"#bd3786\"],[0.5555555555555556,\"#d8576b\"],[0.6666666666666666,\"#ed7953\"],[0.7777777777777778,\"#fb9f3a\"],[0.8888888888888888,\"#fdca26\"],[1.0,\"#f0f921\"]],\"sequentialminus\":[[0.0,\"#0d0887\"],[0.1111111111111111,\"#46039f\"],[0.2222222222222222,\"#7201a8\"],[0.3333333333333333,\"#9c179e\"],[0.4444444444444444,\"#bd3786\"],[0.5555555555555556,\"#d8576b\"],[0.6666666666666666,\"#ed7953\"],[0.7777777777777778,\"#fb9f3a\"],[0.8888888888888888,\"#fdca26\"],[1.0,\"#f0f921\"]],\"diverging\":[[0,\"#8e0152\"],[0.1,\"#c51b7d\"],[0.2,\"#de77ae\"],[0.3,\"#f1b6da\"],[0.4,\"#fde0ef\"],[0.5,\"#f7f7f7\"],[0.6,\"#e6f5d0\"],[0.7,\"#b8e186\"],[0.8,\"#7fbc41\"],[0.9,\"#4d9221\"],[1,\"#276419\"]]},\"xaxis\":{\"gridcolor\":\"white\",\"linecolor\":\"white\",\"ticks\":\"\",\"title\":{\"standoff\":15},\"zerolinecolor\":\"white\",\"automargin\":true,\"zerolinewidth\":2},\"yaxis\":{\"gridcolor\":\"white\",\"linecolor\":\"white\",\"ticks\":\"\",\"title\":{\"standoff\":15},\"zerolinecolor\":\"white\",\"automargin\":true,\"zerolinewidth\":2},\"scene\":{\"xaxis\":{\"backgroundcolor\":\"#E5ECF6\",\"gridcolor\":\"white\",\"linecolor\":\"white\",\"showbackground\":true,\"ticks\":\"\",\"zerolinecolor\":\"white\",\"gridwidth\":2},\"yaxis\":{\"backgroundcolor\":\"#E5ECF6\",\"gridcolor\":\"white\",\"linecolor\":\"white\",\"showbackground\":true,\"ticks\":\"\",\"zerolinecolor\":\"white\",\"gridwidth\":2},\"zaxis\":{\"backgroundcolor\":\"#E5ECF6\",\"gridcolor\":\"white\",\"linecolor\":\"white\",\"showbackground\":true,\"ticks\":\"\",\"zerolinecolor\":\"white\",\"gridwidth\":2}},\"shapedefaults\":{\"line\":{\"color\":\"#2a3f5f\"}},\"annotationdefaults\":{\"arrowcolor\":\"#2a3f5f\",\"arrowhead\":0,\"arrowwidth\":1},\"geo\":{\"bgcolor\":\"white\",\"landcolor\":\"#E5ECF6\",\"subunitcolor\":\"white\",\"showland\":true,\"showlakes\":true,\"lakecolor\":\"white\"},\"title\":{\"x\":0.05},\"mapbox\":{\"style\":\"light\"}}},\"margin\":{\"l\":20,\"r\":20,\"t\":20,\"b\":20},\"xaxis\":{\"title\":{\"text\":\"Risk (Standard Deviation)\"},\"tickformat\":\".0%\",\"range\":[-0.023466666666666663,0.8]},\"yaxis\":{\"title\":{\"text\":\"Investment Return Average (last 25 years)\"},\"tickformat\":\".0%\",\"range\":[-0.2,0.6]},\"legend\":{\"x\":1,\"y\":1},\"title\":{\"text\":\"Efficient Frontier\"},\"hovermode\":\"closest\"},                        {\"responsive\": true}                    ).then(function(){\n",
       "                            \n",
       "var gd = document.getElementById('7d5848e3-38b0-4ee9-a47d-af715ce8e48c');\n",
       "var x = new MutationObserver(function (mutations, observer) {{\n",
       "        var display = window.getComputedStyle(gd).display;\n",
       "        if (!display || display === 'none') {{\n",
       "            console.log([gd, 'removed!']);\n",
       "            Plotly.purge(gd);\n",
       "            observer.disconnect();\n",
       "        }}\n",
       "}});\n",
       "\n",
       "// Listen for the removal of the full notebook cells\n",
       "var notebookContainer = gd.closest('#notebook-container');\n",
       "if (notebookContainer) {{\n",
       "    x.observe(notebookContainer, {childList: true});\n",
       "}}\n",
       "\n",
       "// Listen for the clearing of the current output cell\n",
       "var outputEl = gd.closest('.output');\n",
       "if (outputEl) {{\n",
       "    x.observe(outputEl, {childList: true});\n",
       "}}\n",
       "\n",
       "                        })                };                });            </script>        </div>"
      ]
     },
     "metadata": {},
     "output_type": "display_data"
    }
   ],
   "execution_count": 33
  },
  {
   "metadata": {
    "ExecuteTime": {
     "end_time": "2025-05-31T19:30:12.203472Z",
     "start_time": "2025-05-31T19:30:12.159521Z"
    }
   },
   "cell_type": "code",
   "source": [
    "df_try = df_train.pct_change(periods=12) + 1\n",
    "df_try.dropna(inplace=True)\n",
    "df_try"
   ],
   "id": "7149935e1c457593",
   "outputs": [
    {
     "data": {
      "text/plain": [
       "               RS1.L        KE    TEG.DE    LEG.DE       SCS       HNI  \\\n",
       "Date                                                                     \n",
       "2000-10-01  1.296932  1.014693  0.811966  1.227729  1.443548  1.249043   \n",
       "2000-11-01  1.143981  1.014693  0.732601  1.227729  1.073800  1.145302   \n",
       "2000-12-01  1.033004  1.014693  0.732601  1.157352  1.195597  1.184326   \n",
       "2001-01-01  1.018287  1.012792  1.135531  1.203668  1.357435  1.323207   \n",
       "2001-02-01  1.018287  0.971210  1.526316  0.852933  1.201455  1.373228   \n",
       "...              ...       ...       ...       ...       ...       ...   \n",
       "2019-05-01  0.881753  0.762032  1.207765  1.177819  1.154817  0.920552   \n",
       "2019-06-01  0.852379  0.887432  1.120150  1.101185  1.313208  0.980204   \n",
       "2019-07-01  0.869905  0.781327  1.145838  1.124076  1.273392  0.815546   \n",
       "2019-08-01  0.803363  0.667172  1.039972  1.049462  1.101387  0.728917   \n",
       "2019-09-01  0.919449  0.738422  1.060293  1.061038  1.029835  0.829526   \n",
       "\n",
       "                 AVT      ACCO    VNA.DE    7912.T  ...    DEQ.DE      KIDS  \\\n",
       "Date                                                ...                       \n",
       "2000-10-01  0.994527  1.452471  1.175117  0.974468  ...  1.025264  1.082189   \n",
       "2000-11-01  0.647773  1.407575  1.175117  0.894081  ...  1.025264  1.082189   \n",
       "2000-12-01  0.717539  1.407575  1.126633  0.967043  ...  1.025264  1.082189   \n",
       "2001-01-01  1.034878  1.771768  1.152125  0.906781  ...  1.025264  1.391579   \n",
       "2001-02-01  0.740440  0.889594  0.880535  0.900799  ...  0.517837  1.482994   \n",
       "...              ...       ...       ...       ...  ...       ...       ...   \n",
       "2019-05-01  1.091203  0.583352  1.202509  1.030816  ...  0.892657  1.844729   \n",
       "2019-06-01  1.075046  0.583561  1.061726  0.949450  ...  0.842233  1.463964   \n",
       "2019-07-01  1.054923  0.784675  1.101294  0.964972  ...  0.858503  1.256584   \n",
       "2019-08-01  0.881471  0.767749  1.056262  0.945352  ...  0.849128  0.924469   \n",
       "2019-09-01  1.012088  0.898219  1.139833  1.082939  ...  0.983430  0.962336   \n",
       "\n",
       "                HALO      MATW    9842.T      KVHI    MOON.L       NEO  \\\n",
       "Date                                                                     \n",
       "2000-10-01  1.238582  1.083094  1.271367  3.265306  1.129131  1.010000   \n",
       "2000-11-01  1.238582  1.251671  1.271367  2.164948  1.129131  1.010000   \n",
       "2000-12-01  1.238582  1.156724  1.271367  1.795918  1.129131  1.010000   \n",
       "2001-01-01  1.124063  1.343785  1.226675  2.483333  0.969406  0.765000   \n",
       "2001-02-01  1.048982  1.296420  0.831831  0.932203  0.858541  0.801047   \n",
       "...              ...       ...       ...       ...       ...       ...   \n",
       "2019-05-01  0.801630  0.626579  0.811697  0.840724  0.971476  1.871552   \n",
       "2019-06-01  1.018376  0.603432  0.809463  0.811194  0.971476  1.673532   \n",
       "2019-07-01  0.938674  0.661639  0.862524  0.814516  0.971476  1.740714   \n",
       "2019-08-01  0.897338  0.573013  0.852525  0.746988  0.963152  1.803610   \n",
       "2019-09-01  0.853605  0.720444  0.829282  0.812977  1.223862  1.245603   \n",
       "\n",
       "              6055.T       UNP  \n",
       "Date                            \n",
       "2000-10-01  1.010207  0.857775  \n",
       "2000-11-01  1.010207  1.007987  \n",
       "2000-12-01  1.010207  1.185103  \n",
       "2001-01-01  1.014223  1.342844  \n",
       "2001-02-01  1.003975  1.474975  \n",
       "...              ...       ...  \n",
       "2019-05-01  0.782414  1.192883  \n",
       "2019-06-01  0.903974  1.218939  \n",
       "2019-07-01  0.928414  1.226028  \n",
       "2019-08-01  0.684427  1.098111  \n",
       "2019-09-01  0.880893  1.016731  \n",
       "\n",
       "[228 rows x 1653 columns]"
      ],
      "text/html": [
       "<div>\n",
       "<style scoped>\n",
       "    .dataframe tbody tr th:only-of-type {\n",
       "        vertical-align: middle;\n",
       "    }\n",
       "\n",
       "    .dataframe tbody tr th {\n",
       "        vertical-align: top;\n",
       "    }\n",
       "\n",
       "    .dataframe thead th {\n",
       "        text-align: right;\n",
       "    }\n",
       "</style>\n",
       "<table border=\"1\" class=\"dataframe\">\n",
       "  <thead>\n",
       "    <tr style=\"text-align: right;\">\n",
       "      <th></th>\n",
       "      <th>RS1.L</th>\n",
       "      <th>KE</th>\n",
       "      <th>TEG.DE</th>\n",
       "      <th>LEG.DE</th>\n",
       "      <th>SCS</th>\n",
       "      <th>HNI</th>\n",
       "      <th>AVT</th>\n",
       "      <th>ACCO</th>\n",
       "      <th>VNA.DE</th>\n",
       "      <th>7912.T</th>\n",
       "      <th>...</th>\n",
       "      <th>DEQ.DE</th>\n",
       "      <th>KIDS</th>\n",
       "      <th>HALO</th>\n",
       "      <th>MATW</th>\n",
       "      <th>9842.T</th>\n",
       "      <th>KVHI</th>\n",
       "      <th>MOON.L</th>\n",
       "      <th>NEO</th>\n",
       "      <th>6055.T</th>\n",
       "      <th>UNP</th>\n",
       "    </tr>\n",
       "    <tr>\n",
       "      <th>Date</th>\n",
       "      <th></th>\n",
       "      <th></th>\n",
       "      <th></th>\n",
       "      <th></th>\n",
       "      <th></th>\n",
       "      <th></th>\n",
       "      <th></th>\n",
       "      <th></th>\n",
       "      <th></th>\n",
       "      <th></th>\n",
       "      <th></th>\n",
       "      <th></th>\n",
       "      <th></th>\n",
       "      <th></th>\n",
       "      <th></th>\n",
       "      <th></th>\n",
       "      <th></th>\n",
       "      <th></th>\n",
       "      <th></th>\n",
       "      <th></th>\n",
       "      <th></th>\n",
       "    </tr>\n",
       "  </thead>\n",
       "  <tbody>\n",
       "    <tr>\n",
       "      <th>2000-10-01</th>\n",
       "      <td>1.296932</td>\n",
       "      <td>1.014693</td>\n",
       "      <td>0.811966</td>\n",
       "      <td>1.227729</td>\n",
       "      <td>1.443548</td>\n",
       "      <td>1.249043</td>\n",
       "      <td>0.994527</td>\n",
       "      <td>1.452471</td>\n",
       "      <td>1.175117</td>\n",
       "      <td>0.974468</td>\n",
       "      <td>...</td>\n",
       "      <td>1.025264</td>\n",
       "      <td>1.082189</td>\n",
       "      <td>1.238582</td>\n",
       "      <td>1.083094</td>\n",
       "      <td>1.271367</td>\n",
       "      <td>3.265306</td>\n",
       "      <td>1.129131</td>\n",
       "      <td>1.010000</td>\n",
       "      <td>1.010207</td>\n",
       "      <td>0.857775</td>\n",
       "    </tr>\n",
       "    <tr>\n",
       "      <th>2000-11-01</th>\n",
       "      <td>1.143981</td>\n",
       "      <td>1.014693</td>\n",
       "      <td>0.732601</td>\n",
       "      <td>1.227729</td>\n",
       "      <td>1.073800</td>\n",
       "      <td>1.145302</td>\n",
       "      <td>0.647773</td>\n",
       "      <td>1.407575</td>\n",
       "      <td>1.175117</td>\n",
       "      <td>0.894081</td>\n",
       "      <td>...</td>\n",
       "      <td>1.025264</td>\n",
       "      <td>1.082189</td>\n",
       "      <td>1.238582</td>\n",
       "      <td>1.251671</td>\n",
       "      <td>1.271367</td>\n",
       "      <td>2.164948</td>\n",
       "      <td>1.129131</td>\n",
       "      <td>1.010000</td>\n",
       "      <td>1.010207</td>\n",
       "      <td>1.007987</td>\n",
       "    </tr>\n",
       "    <tr>\n",
       "      <th>2000-12-01</th>\n",
       "      <td>1.033004</td>\n",
       "      <td>1.014693</td>\n",
       "      <td>0.732601</td>\n",
       "      <td>1.157352</td>\n",
       "      <td>1.195597</td>\n",
       "      <td>1.184326</td>\n",
       "      <td>0.717539</td>\n",
       "      <td>1.407575</td>\n",
       "      <td>1.126633</td>\n",
       "      <td>0.967043</td>\n",
       "      <td>...</td>\n",
       "      <td>1.025264</td>\n",
       "      <td>1.082189</td>\n",
       "      <td>1.238582</td>\n",
       "      <td>1.156724</td>\n",
       "      <td>1.271367</td>\n",
       "      <td>1.795918</td>\n",
       "      <td>1.129131</td>\n",
       "      <td>1.010000</td>\n",
       "      <td>1.010207</td>\n",
       "      <td>1.185103</td>\n",
       "    </tr>\n",
       "    <tr>\n",
       "      <th>2001-01-01</th>\n",
       "      <td>1.018287</td>\n",
       "      <td>1.012792</td>\n",
       "      <td>1.135531</td>\n",
       "      <td>1.203668</td>\n",
       "      <td>1.357435</td>\n",
       "      <td>1.323207</td>\n",
       "      <td>1.034878</td>\n",
       "      <td>1.771768</td>\n",
       "      <td>1.152125</td>\n",
       "      <td>0.906781</td>\n",
       "      <td>...</td>\n",
       "      <td>1.025264</td>\n",
       "      <td>1.391579</td>\n",
       "      <td>1.124063</td>\n",
       "      <td>1.343785</td>\n",
       "      <td>1.226675</td>\n",
       "      <td>2.483333</td>\n",
       "      <td>0.969406</td>\n",
       "      <td>0.765000</td>\n",
       "      <td>1.014223</td>\n",
       "      <td>1.342844</td>\n",
       "    </tr>\n",
       "    <tr>\n",
       "      <th>2001-02-01</th>\n",
       "      <td>1.018287</td>\n",
       "      <td>0.971210</td>\n",
       "      <td>1.526316</td>\n",
       "      <td>0.852933</td>\n",
       "      <td>1.201455</td>\n",
       "      <td>1.373228</td>\n",
       "      <td>0.740440</td>\n",
       "      <td>0.889594</td>\n",
       "      <td>0.880535</td>\n",
       "      <td>0.900799</td>\n",
       "      <td>...</td>\n",
       "      <td>0.517837</td>\n",
       "      <td>1.482994</td>\n",
       "      <td>1.048982</td>\n",
       "      <td>1.296420</td>\n",
       "      <td>0.831831</td>\n",
       "      <td>0.932203</td>\n",
       "      <td>0.858541</td>\n",
       "      <td>0.801047</td>\n",
       "      <td>1.003975</td>\n",
       "      <td>1.474975</td>\n",
       "    </tr>\n",
       "    <tr>\n",
       "      <th>...</th>\n",
       "      <td>...</td>\n",
       "      <td>...</td>\n",
       "      <td>...</td>\n",
       "      <td>...</td>\n",
       "      <td>...</td>\n",
       "      <td>...</td>\n",
       "      <td>...</td>\n",
       "      <td>...</td>\n",
       "      <td>...</td>\n",
       "      <td>...</td>\n",
       "      <td>...</td>\n",
       "      <td>...</td>\n",
       "      <td>...</td>\n",
       "      <td>...</td>\n",
       "      <td>...</td>\n",
       "      <td>...</td>\n",
       "      <td>...</td>\n",
       "      <td>...</td>\n",
       "      <td>...</td>\n",
       "      <td>...</td>\n",
       "      <td>...</td>\n",
       "    </tr>\n",
       "    <tr>\n",
       "      <th>2019-05-01</th>\n",
       "      <td>0.881753</td>\n",
       "      <td>0.762032</td>\n",
       "      <td>1.207765</td>\n",
       "      <td>1.177819</td>\n",
       "      <td>1.154817</td>\n",
       "      <td>0.920552</td>\n",
       "      <td>1.091203</td>\n",
       "      <td>0.583352</td>\n",
       "      <td>1.202509</td>\n",
       "      <td>1.030816</td>\n",
       "      <td>...</td>\n",
       "      <td>0.892657</td>\n",
       "      <td>1.844729</td>\n",
       "      <td>0.801630</td>\n",
       "      <td>0.626579</td>\n",
       "      <td>0.811697</td>\n",
       "      <td>0.840724</td>\n",
       "      <td>0.971476</td>\n",
       "      <td>1.871552</td>\n",
       "      <td>0.782414</td>\n",
       "      <td>1.192883</td>\n",
       "    </tr>\n",
       "    <tr>\n",
       "      <th>2019-06-01</th>\n",
       "      <td>0.852379</td>\n",
       "      <td>0.887432</td>\n",
       "      <td>1.120150</td>\n",
       "      <td>1.101185</td>\n",
       "      <td>1.313208</td>\n",
       "      <td>0.980204</td>\n",
       "      <td>1.075046</td>\n",
       "      <td>0.583561</td>\n",
       "      <td>1.061726</td>\n",
       "      <td>0.949450</td>\n",
       "      <td>...</td>\n",
       "      <td>0.842233</td>\n",
       "      <td>1.463964</td>\n",
       "      <td>1.018376</td>\n",
       "      <td>0.603432</td>\n",
       "      <td>0.809463</td>\n",
       "      <td>0.811194</td>\n",
       "      <td>0.971476</td>\n",
       "      <td>1.673532</td>\n",
       "      <td>0.903974</td>\n",
       "      <td>1.218939</td>\n",
       "    </tr>\n",
       "    <tr>\n",
       "      <th>2019-07-01</th>\n",
       "      <td>0.869905</td>\n",
       "      <td>0.781327</td>\n",
       "      <td>1.145838</td>\n",
       "      <td>1.124076</td>\n",
       "      <td>1.273392</td>\n",
       "      <td>0.815546</td>\n",
       "      <td>1.054923</td>\n",
       "      <td>0.784675</td>\n",
       "      <td>1.101294</td>\n",
       "      <td>0.964972</td>\n",
       "      <td>...</td>\n",
       "      <td>0.858503</td>\n",
       "      <td>1.256584</td>\n",
       "      <td>0.938674</td>\n",
       "      <td>0.661639</td>\n",
       "      <td>0.862524</td>\n",
       "      <td>0.814516</td>\n",
       "      <td>0.971476</td>\n",
       "      <td>1.740714</td>\n",
       "      <td>0.928414</td>\n",
       "      <td>1.226028</td>\n",
       "    </tr>\n",
       "    <tr>\n",
       "      <th>2019-08-01</th>\n",
       "      <td>0.803363</td>\n",
       "      <td>0.667172</td>\n",
       "      <td>1.039972</td>\n",
       "      <td>1.049462</td>\n",
       "      <td>1.101387</td>\n",
       "      <td>0.728917</td>\n",
       "      <td>0.881471</td>\n",
       "      <td>0.767749</td>\n",
       "      <td>1.056262</td>\n",
       "      <td>0.945352</td>\n",
       "      <td>...</td>\n",
       "      <td>0.849128</td>\n",
       "      <td>0.924469</td>\n",
       "      <td>0.897338</td>\n",
       "      <td>0.573013</td>\n",
       "      <td>0.852525</td>\n",
       "      <td>0.746988</td>\n",
       "      <td>0.963152</td>\n",
       "      <td>1.803610</td>\n",
       "      <td>0.684427</td>\n",
       "      <td>1.098111</td>\n",
       "    </tr>\n",
       "    <tr>\n",
       "      <th>2019-09-01</th>\n",
       "      <td>0.919449</td>\n",
       "      <td>0.738422</td>\n",
       "      <td>1.060293</td>\n",
       "      <td>1.061038</td>\n",
       "      <td>1.029835</td>\n",
       "      <td>0.829526</td>\n",
       "      <td>1.012088</td>\n",
       "      <td>0.898219</td>\n",
       "      <td>1.139833</td>\n",
       "      <td>1.082939</td>\n",
       "      <td>...</td>\n",
       "      <td>0.983430</td>\n",
       "      <td>0.962336</td>\n",
       "      <td>0.853605</td>\n",
       "      <td>0.720444</td>\n",
       "      <td>0.829282</td>\n",
       "      <td>0.812977</td>\n",
       "      <td>1.223862</td>\n",
       "      <td>1.245603</td>\n",
       "      <td>0.880893</td>\n",
       "      <td>1.016731</td>\n",
       "    </tr>\n",
       "  </tbody>\n",
       "</table>\n",
       "<p>228 rows × 1653 columns</p>\n",
       "</div>"
      ]
     },
     "execution_count": 34,
     "metadata": {},
     "output_type": "execute_result"
    }
   ],
   "execution_count": 34
  },
  {
   "metadata": {
    "ExecuteTime": {
     "end_time": "2025-05-31T19:30:14.308947Z",
     "start_time": "2025-05-31T19:30:14.304857Z"
    }
   },
   "cell_type": "code",
   "source": [
    "import utilities.plots as plots\n",
    "importlib.reload(plots)\n",
    "import matplotlib.pyplot as plt"
   ],
   "id": "7dacb0fea40ef929",
   "outputs": [],
   "execution_count": 35
  },
  {
   "metadata": {},
   "cell_type": "markdown",
   "source": "# V1",
   "id": "15b65a57cce5080b"
  },
  {
   "metadata": {
    "ExecuteTime": {
     "end_time": "2025-05-31T19:30:20.682108Z",
     "start_time": "2025-05-31T19:30:14.667446Z"
    }
   },
   "cell_type": "code",
   "source": [
    "# PLOTLY WAY\n",
    "n_portfolios = 500\n",
    "means, stds = np.column_stack([\n",
    "    plots.random_portfolio(df_try.values) for _ in range(n_portfolios)\n",
    "])\n",
    "\n",
    "weights, returns, risks = plots.optimal_portfolio(df_try.values)"
   ],
   "id": "4f603bf8ab876797",
   "outputs": [
    {
     "ename": "RecursionError",
     "evalue": "maximum recursion depth exceeded",
     "output_type": "error",
     "traceback": [
      "\u001B[0;31m---------------------------------------------------------------------------\u001B[0m",
      "\u001B[0;31mRecursionError\u001B[0m                            Traceback (most recent call last)",
      "Cell \u001B[0;32mIn[36], line 3\u001B[0m\n\u001B[1;32m      1\u001B[0m \u001B[38;5;66;03m# PLOTLY WAY\u001B[39;00m\n\u001B[1;32m      2\u001B[0m n_portfolios \u001B[38;5;241m=\u001B[39m \u001B[38;5;241m500\u001B[39m\n\u001B[0;32m----> 3\u001B[0m means, stds \u001B[38;5;241m=\u001B[39m np\u001B[38;5;241m.\u001B[39mcolumn_stack([\n\u001B[1;32m      4\u001B[0m     plots\u001B[38;5;241m.\u001B[39mrandom_portfolio(df_try\u001B[38;5;241m.\u001B[39mvalues) \u001B[38;5;28;01mfor\u001B[39;00m _ \u001B[38;5;129;01min\u001B[39;00m \u001B[38;5;28mrange\u001B[39m(n_portfolios)\n\u001B[1;32m      5\u001B[0m ])\n\u001B[1;32m      7\u001B[0m weights, returns, risks \u001B[38;5;241m=\u001B[39m plots\u001B[38;5;241m.\u001B[39moptimal_portfolio(df_try\u001B[38;5;241m.\u001B[39mvalues)\n",
      "Cell \u001B[0;32mIn[36], line 4\u001B[0m, in \u001B[0;36m<listcomp>\u001B[0;34m(.0)\u001B[0m\n\u001B[1;32m      1\u001B[0m \u001B[38;5;66;03m# PLOTLY WAY\u001B[39;00m\n\u001B[1;32m      2\u001B[0m n_portfolios \u001B[38;5;241m=\u001B[39m \u001B[38;5;241m500\u001B[39m\n\u001B[1;32m      3\u001B[0m means, stds \u001B[38;5;241m=\u001B[39m np\u001B[38;5;241m.\u001B[39mcolumn_stack([\n\u001B[0;32m----> 4\u001B[0m     plots\u001B[38;5;241m.\u001B[39mrandom_portfolio(df_try\u001B[38;5;241m.\u001B[39mvalues) \u001B[38;5;28;01mfor\u001B[39;00m _ \u001B[38;5;129;01min\u001B[39;00m \u001B[38;5;28mrange\u001B[39m(n_portfolios)\n\u001B[1;32m      5\u001B[0m ])\n\u001B[1;32m      7\u001B[0m weights, returns, risks \u001B[38;5;241m=\u001B[39m plots\u001B[38;5;241m.\u001B[39moptimal_portfolio(df_try\u001B[38;5;241m.\u001B[39mvalues)\n",
      "File \u001B[0;32m~/Documents/UNI/Master Thesis/sustainability_portfolio_optimisation/utilities/plots.py:135\u001B[0m, in \u001B[0;36mrandom_portfolio\u001B[0;34m(returns)\u001B[0m\n\u001B[1;32m    133\u001B[0m \u001B[38;5;66;03m# This recursion reduces outliers to keep plots pretty\u001B[39;00m\n\u001B[1;32m    134\u001B[0m \u001B[38;5;28;01mif\u001B[39;00m sigma \u001B[38;5;241m>\u001B[39m \u001B[38;5;241m2\u001B[39m:\n\u001B[0;32m--> 135\u001B[0m     \u001B[38;5;28;01mreturn\u001B[39;00m random_portfolio(returns)\n\u001B[1;32m    136\u001B[0m \u001B[38;5;28;01mreturn\u001B[39;00m mu, sigma\n",
      "File \u001B[0;32m~/Documents/UNI/Master Thesis/sustainability_portfolio_optimisation/utilities/plots.py:135\u001B[0m, in \u001B[0;36mrandom_portfolio\u001B[0;34m(returns)\u001B[0m\n\u001B[1;32m    133\u001B[0m \u001B[38;5;66;03m# This recursion reduces outliers to keep plots pretty\u001B[39;00m\n\u001B[1;32m    134\u001B[0m \u001B[38;5;28;01mif\u001B[39;00m sigma \u001B[38;5;241m>\u001B[39m \u001B[38;5;241m2\u001B[39m:\n\u001B[0;32m--> 135\u001B[0m     \u001B[38;5;28;01mreturn\u001B[39;00m random_portfolio(returns)\n\u001B[1;32m    136\u001B[0m \u001B[38;5;28;01mreturn\u001B[39;00m mu, sigma\n",
      "    \u001B[0;31m[... skipping similar frames: random_portfolio at line 135 (2962 times)]\u001B[0m\n",
      "File \u001B[0;32m~/Documents/UNI/Master Thesis/sustainability_portfolio_optimisation/utilities/plots.py:135\u001B[0m, in \u001B[0;36mrandom_portfolio\u001B[0;34m(returns)\u001B[0m\n\u001B[1;32m    133\u001B[0m \u001B[38;5;66;03m# This recursion reduces outliers to keep plots pretty\u001B[39;00m\n\u001B[1;32m    134\u001B[0m \u001B[38;5;28;01mif\u001B[39;00m sigma \u001B[38;5;241m>\u001B[39m \u001B[38;5;241m2\u001B[39m:\n\u001B[0;32m--> 135\u001B[0m     \u001B[38;5;28;01mreturn\u001B[39;00m random_portfolio(returns)\n\u001B[1;32m    136\u001B[0m \u001B[38;5;28;01mreturn\u001B[39;00m mu, sigma\n",
      "File \u001B[0;32m~/Documents/UNI/Master Thesis/sustainability_portfolio_optimisation/utilities/plots.py:128\u001B[0m, in \u001B[0;36mrandom_portfolio\u001B[0;34m(returns)\u001B[0m\n\u001B[1;32m    126\u001B[0m p \u001B[38;5;241m=\u001B[39m np\u001B[38;5;241m.\u001B[39masmatrix(np\u001B[38;5;241m.\u001B[39mmean(returns, axis\u001B[38;5;241m=\u001B[39m\u001B[38;5;241m1\u001B[39m))\n\u001B[1;32m    127\u001B[0m w \u001B[38;5;241m=\u001B[39m np\u001B[38;5;241m.\u001B[39masmatrix(rand_weights(returns\u001B[38;5;241m.\u001B[39mshape[\u001B[38;5;241m0\u001B[39m]))\n\u001B[0;32m--> 128\u001B[0m C \u001B[38;5;241m=\u001B[39m np\u001B[38;5;241m.\u001B[39masmatrix(np\u001B[38;5;241m.\u001B[39mcov(returns))\n\u001B[1;32m    130\u001B[0m mu \u001B[38;5;241m=\u001B[39m w \u001B[38;5;241m*\u001B[39m p\u001B[38;5;241m.\u001B[39mT\n\u001B[1;32m    131\u001B[0m sigma \u001B[38;5;241m=\u001B[39m np\u001B[38;5;241m.\u001B[39msqrt(w \u001B[38;5;241m*\u001B[39m C \u001B[38;5;241m*\u001B[39m w\u001B[38;5;241m.\u001B[39mT)\n",
      "File \u001B[0;32m~/anaconda3/envs/portfolio_optimisation/lib/python3.11/site-packages/numpy/lib/function_base.py:2724\u001B[0m, in \u001B[0;36mcov\u001B[0;34m(m, y, rowvar, bias, ddof, fweights, aweights, dtype)\u001B[0m\n\u001B[1;32m   2721\u001B[0m     \u001B[38;5;28;01melse\u001B[39;00m:\n\u001B[1;32m   2722\u001B[0m         w \u001B[38;5;241m*\u001B[39m\u001B[38;5;241m=\u001B[39m aweights\n\u001B[0;32m-> 2724\u001B[0m avg, w_sum \u001B[38;5;241m=\u001B[39m average(X, axis\u001B[38;5;241m=\u001B[39m\u001B[38;5;241m1\u001B[39m, weights\u001B[38;5;241m=\u001B[39mw, returned\u001B[38;5;241m=\u001B[39m\u001B[38;5;28;01mTrue\u001B[39;00m)\n\u001B[1;32m   2725\u001B[0m w_sum \u001B[38;5;241m=\u001B[39m w_sum[\u001B[38;5;241m0\u001B[39m]\n\u001B[1;32m   2727\u001B[0m \u001B[38;5;66;03m# Determine the normalization\u001B[39;00m\n",
      "File \u001B[0;32m~/anaconda3/envs/portfolio_optimisation/lib/python3.11/site-packages/numpy/lib/function_base.py:520\u001B[0m, in \u001B[0;36maverage\u001B[0;34m(a, axis, weights, returned, keepdims)\u001B[0m\n\u001B[1;32m    517\u001B[0m     keepdims_kw \u001B[38;5;241m=\u001B[39m {\u001B[38;5;124m'\u001B[39m\u001B[38;5;124mkeepdims\u001B[39m\u001B[38;5;124m'\u001B[39m: keepdims}\n\u001B[1;32m    519\u001B[0m \u001B[38;5;28;01mif\u001B[39;00m weights \u001B[38;5;129;01mis\u001B[39;00m \u001B[38;5;28;01mNone\u001B[39;00m:\n\u001B[0;32m--> 520\u001B[0m     avg \u001B[38;5;241m=\u001B[39m a\u001B[38;5;241m.\u001B[39mmean(axis, \u001B[38;5;241m*\u001B[39m\u001B[38;5;241m*\u001B[39mkeepdims_kw)\n\u001B[1;32m    521\u001B[0m     avg_as_array \u001B[38;5;241m=\u001B[39m np\u001B[38;5;241m.\u001B[39masanyarray(avg)\n\u001B[1;32m    522\u001B[0m     scl \u001B[38;5;241m=\u001B[39m avg_as_array\u001B[38;5;241m.\u001B[39mdtype\u001B[38;5;241m.\u001B[39mtype(a\u001B[38;5;241m.\u001B[39msize\u001B[38;5;241m/\u001B[39mavg_as_array\u001B[38;5;241m.\u001B[39msize)\n",
      "File \u001B[0;32m~/anaconda3/envs/portfolio_optimisation/lib/python3.11/site-packages/numpy/core/_methods.py:120\u001B[0m, in \u001B[0;36m_mean\u001B[0;34m(a, axis, dtype, out, keepdims, where)\u001B[0m\n\u001B[1;32m    118\u001B[0m ret \u001B[38;5;241m=\u001B[39m umr_sum(arr, axis, dtype, out, keepdims, where\u001B[38;5;241m=\u001B[39mwhere)\n\u001B[1;32m    119\u001B[0m \u001B[38;5;28;01mif\u001B[39;00m \u001B[38;5;28misinstance\u001B[39m(ret, mu\u001B[38;5;241m.\u001B[39mndarray):\n\u001B[0;32m--> 120\u001B[0m     \u001B[38;5;28;01mwith\u001B[39;00m _no_nep50_warning():\n\u001B[1;32m    121\u001B[0m         ret \u001B[38;5;241m=\u001B[39m um\u001B[38;5;241m.\u001B[39mtrue_divide(\n\u001B[1;32m    122\u001B[0m                 ret, rcount, out\u001B[38;5;241m=\u001B[39mret, casting\u001B[38;5;241m=\u001B[39m\u001B[38;5;124m'\u001B[39m\u001B[38;5;124munsafe\u001B[39m\u001B[38;5;124m'\u001B[39m, subok\u001B[38;5;241m=\u001B[39m\u001B[38;5;28;01mFalse\u001B[39;00m)\n\u001B[1;32m    123\u001B[0m     \u001B[38;5;28;01mif\u001B[39;00m is_float16_result \u001B[38;5;129;01mand\u001B[39;00m out \u001B[38;5;129;01mis\u001B[39;00m \u001B[38;5;28;01mNone\u001B[39;00m:\n",
      "File \u001B[0;32m~/anaconda3/envs/portfolio_optimisation/lib/python3.11/contextlib.py:301\u001B[0m, in \u001B[0;36mcontextmanager.<locals>.helper\u001B[0;34m(*args, **kwds)\u001B[0m\n\u001B[1;32m    299\u001B[0m \u001B[38;5;129m@wraps\u001B[39m(func)\n\u001B[1;32m    300\u001B[0m \u001B[38;5;28;01mdef\u001B[39;00m \u001B[38;5;21mhelper\u001B[39m(\u001B[38;5;241m*\u001B[39margs, \u001B[38;5;241m*\u001B[39m\u001B[38;5;241m*\u001B[39mkwds):\n\u001B[0;32m--> 301\u001B[0m     \u001B[38;5;28;01mreturn\u001B[39;00m _GeneratorContextManager(func, args, kwds)\n",
      "File \u001B[0;32m~/anaconda3/envs/portfolio_optimisation/lib/python3.11/contextlib.py:105\u001B[0m, in \u001B[0;36m_GeneratorContextManagerBase.__init__\u001B[0;34m(self, func, args, kwds)\u001B[0m\n\u001B[1;32m    104\u001B[0m \u001B[38;5;28;01mdef\u001B[39;00m \u001B[38;5;21m__init__\u001B[39m(\u001B[38;5;28mself\u001B[39m, func, args, kwds):\n\u001B[0;32m--> 105\u001B[0m     \u001B[38;5;28mself\u001B[39m\u001B[38;5;241m.\u001B[39mgen \u001B[38;5;241m=\u001B[39m func(\u001B[38;5;241m*\u001B[39margs, \u001B[38;5;241m*\u001B[39m\u001B[38;5;241m*\u001B[39mkwds)\n\u001B[1;32m    106\u001B[0m     \u001B[38;5;28mself\u001B[39m\u001B[38;5;241m.\u001B[39mfunc, \u001B[38;5;28mself\u001B[39m\u001B[38;5;241m.\u001B[39margs, \u001B[38;5;28mself\u001B[39m\u001B[38;5;241m.\u001B[39mkwds \u001B[38;5;241m=\u001B[39m func, args, kwds\n\u001B[1;32m    107\u001B[0m     \u001B[38;5;66;03m# Issue 19330: ensure context manager instances have good docstrings\u001B[39;00m\n",
      "\u001B[0;31mRecursionError\u001B[0m: maximum recursion depth exceeded"
     ]
    }
   ],
   "execution_count": 36
  },
  {
   "metadata": {},
   "cell_type": "code",
   "source": [
    "fig = plt.figure()\n",
    "plt.plot(stds, means, 'o')\n",
    "#plt.ylabel('mean')\n",
    "#plt.xlabel('std')\n",
    "#plt.ylim(bottom=0, top=2.25)\n",
    "#plt.xlim(left=0, right=3.5)\n",
    "plt.plot(risks, returns, 'y-o')\n",
    "#py.iplot_mpl(fig, filename='efficient_frontier', strip_style=True)"
   ],
   "id": "9785203c8758ce69",
   "outputs": [],
   "execution_count": null
  },
  {
   "metadata": {},
   "cell_type": "markdown",
   "source": "# V2",
   "id": "babda26ac881d79c"
  },
  {
   "metadata": {},
   "cell_type": "code",
   "source": "mu_25y",
   "id": "e2481d4e272173b1",
   "outputs": [],
   "execution_count": null
  },
  {
   "metadata": {},
   "cell_type": "code",
   "source": [
    "ef = EfficientFrontier(mu_25y, S_25y, solver=cp.CLARABEL, weight_bounds=(None, None))\n",
    "ef.add_constraint(lambda w: w[0] >= 0.2)\n",
    "ef.add_constraint(lambda w: w[2] == 0.15)\n",
    "ef.add_constraint(lambda w: w[3] + w[4] <= 0.10)\n",
    "\n",
    "fig, ax = plt.subplots()\n",
    "plotting.plot_efficient_frontier(ef, ax=ax, show_assets=True)\n",
    "plt.show()"
   ],
   "id": "a3b64c28f2a95b16",
   "outputs": [],
   "execution_count": null
  },
  {
   "metadata": {},
   "cell_type": "code",
   "source": [
    "risk_range = np.linspace(0.10, 0.40, 100)\n",
    "plotting.plot_efficient_frontier(ef, ef_param=\"risk\", ef_param_range=risk_range,\n",
    "                                 show_assets=True, showfig=True)"
   ],
   "id": "e75ea9208e04b343",
   "outputs": [],
   "execution_count": null
  },
  {
   "metadata": {},
   "cell_type": "code",
   "source": [
    "fig, ax = plt.subplots()\n",
    "ef_max_sharpe = ef.deepcopy()\n",
    "plotting.plot_efficient_frontier(ef, ax=ax, show_assets=False)\n",
    "\n",
    "# Find the tangency portfolio\n",
    "ef_max_sharpe.max_sharpe()\n",
    "ret_tangent, std_tangent, _ = ef_max_sharpe.portfolio_performance()\n",
    "ax.scatter(std_tangent, ret_tangent, marker=\"*\", s=100, c=\"r\", label=\"Max Sharpe\")\n",
    "\n",
    "# Generate random portfolios\n",
    "n_samples = 10000\n",
    "w = np.random.dirichlet(np.ones(ef.n_assets), n_samples)\n",
    "rets = w.dot(ef.expected_returns)\n",
    "stds = np.sqrt(np.diag(w @ ef.cov_matrix @ w.T))\n",
    "sharpes = rets / stds\n",
    "ax.scatter(stds, rets, marker=\".\", c=sharpes, cmap=\"viridis_r\")\n",
    "\n",
    "# Output\n",
    "ax.set_title(\"Efficient Frontier with random portfolios\")\n",
    "ax.legend()\n",
    "plt.tight_layout()\n",
    "plt.savefig(\"ef_scatter.png\", dpi=200)\n",
    "plt.show()"
   ],
   "id": "90e0aabb100425c7",
   "outputs": [],
   "execution_count": null
  },
  {
   "metadata": {},
   "cell_type": "code",
   "source": "",
   "id": "91ac791fb072127b",
   "outputs": [],
   "execution_count": null
  },
  {
   "metadata": {},
   "cell_type": "code",
   "source": "",
   "id": "d185b3ac1d5e99df",
   "outputs": [],
   "execution_count": null
  }
 ],
 "metadata": {
  "kernelspec": {
   "display_name": "Python 3 (ipykernel)",
   "language": "python",
   "name": "python3"
  },
  "language_info": {
   "codemirror_mode": {
    "name": "ipython",
    "version": 3
   },
   "file_extension": ".py",
   "mimetype": "text/x-python",
   "name": "python",
   "nbconvert_exporter": "python",
   "pygments_lexer": "ipython3",
   "version": "3.9.18"
  }
 },
 "nbformat": 4,
 "nbformat_minor": 5
}
