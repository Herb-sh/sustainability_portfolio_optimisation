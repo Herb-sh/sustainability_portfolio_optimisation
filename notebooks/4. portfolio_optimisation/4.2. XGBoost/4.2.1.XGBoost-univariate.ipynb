{
 "cells": [
  {
   "cell_type": "code",
   "id": "initial_id",
   "metadata": {
    "collapsed": true,
    "ExecuteTime": {
     "end_time": "2025-06-15T15:56:57.222058Z",
     "start_time": "2025-06-15T15:56:57.212589Z"
    }
   },
   "source": [
    "# Python\n",
    "import pandas as pd\n",
    "import numpy as np\n",
    "#\n",
    "from pathlib import Path\n",
    "from datetime import datetime\n",
    "#\n",
    "import xgboost\n",
    "import utilities.xgboost_utils as xgboost_utils\n",
    "#\n",
    "import importlib\n",
    "import utilities.train_test.train_test as train_test\n",
    "import utilities.mpt_utils as mpt_utils\n",
    "import utilities.variables as variables\n",
    "import utilities.plots as plots"
   ],
   "outputs": [],
   "execution_count": 563
  },
  {
   "metadata": {
    "ExecuteTime": {
     "end_time": "2025-06-15T15:56:57.367687Z",
     "start_time": "2025-06-15T15:56:57.229248Z"
    }
   },
   "cell_type": "code",
   "source": [
    "df = pd.read_csv('../../../data/df_monthly_prices_complete_euro.csv', index_col='Date')\n",
    "df_pct = pd.read_csv('../../../data/df_monthly_returns_complete.csv', index_col='Date')\n",
    "df_overview = pd.read_csv('../../../data/df_overview.csv', index_col=0)"
   ],
   "id": "b9221bdd2218913f",
   "outputs": [],
   "execution_count": 564
  },
  {
   "metadata": {},
   "cell_type": "markdown",
   "source": "## Create Tabular Time-Series DataFrame",
   "id": "e71c3ab8db259c07"
  },
  {
   "metadata": {
    "ExecuteTime": {
     "end_time": "2025-06-15T15:56:57.908789Z",
     "start_time": "2025-06-15T15:56:57.370438Z"
    }
   },
   "cell_type": "code",
   "source": [
    "importlib.reload(train_test)\n",
    "#\n",
    "file = Path(\"../../../data/df_tabular.csv\")\n",
    "\n",
    "if file.exists():\n",
    "    df_tabular = pd.read_csv(file, index_col=0)\n",
    "else:\n",
    "    df_tabular = train_test.get_dataframe_tabular(df_pct)\n",
    "    df_tabular.to_csv(file)"
   ],
   "id": "e2b0193bd016f312",
   "outputs": [],
   "execution_count": 565
  },
  {
   "metadata": {
    "ExecuteTime": {
     "end_time": "2025-06-15T15:56:57.987611Z",
     "start_time": "2025-06-15T15:56:57.920501Z"
    }
   },
   "cell_type": "code",
   "source": "df_tabular",
   "id": "1842845efb3e88a",
   "outputs": [
    {
     "data": {
      "text/plain": [
       "        month  year        date  m_return(t-11)  m_return(t-10)  \\\n",
       "0          11  2000  2000-11-01            1.05            0.91   \n",
       "1          12  2000  2000-12-01            0.91            1.30   \n",
       "2           1  2001  2001-01-01            1.30            1.00   \n",
       "3           2  2001  2001-02-01            1.00            0.97   \n",
       "4           3  2001  2001-03-01            0.97            1.00   \n",
       "...       ...   ...         ...             ...             ...   \n",
       "380947      4  2024  2024-04-01            0.97            0.98   \n",
       "380948      5  2024  2024-05-01            0.98            1.04   \n",
       "380949      6  2024  2024-06-01            1.04            0.98   \n",
       "380950      7  2024  2024-07-01            0.98            0.98   \n",
       "380951      8  2024  2024-08-01            0.98            0.99   \n",
       "\n",
       "        m_return(t-9)  m_return(t-8)  m_return(t-7)  m_return(t-6)  \\\n",
       "0                1.30           1.00           0.97           1.00   \n",
       "1                1.00           0.97           1.00           1.00   \n",
       "2                0.97           1.00           1.00           1.00   \n",
       "3                1.00           1.00           1.00           1.00   \n",
       "4                1.00           1.00           1.00           1.00   \n",
       "...               ...            ...            ...            ...   \n",
       "380947           1.04           0.98           0.98           0.99   \n",
       "380948           0.98           0.98           0.99           1.03   \n",
       "380949           0.98           0.99           1.03           1.11   \n",
       "380950           0.99           1.03           1.11           1.00   \n",
       "380951           1.03           1.11           1.00           1.04   \n",
       "\n",
       "        m_return(t-5)  ...  m_return_target(t+4)  m_return_target(t+5)  \\\n",
       "0                1.00  ...                  1.00                  1.00   \n",
       "1                1.00  ...                  1.00                  1.00   \n",
       "2                1.00  ...                  1.00                  1.00   \n",
       "3                1.00  ...                  1.00                  1.00   \n",
       "4                1.00  ...                  1.00                  1.00   \n",
       "...               ...  ...                   ...                   ...   \n",
       "380947           1.03  ...                  1.00                  1.01   \n",
       "380948           1.11  ...                  1.01                   NaN   \n",
       "380949           1.00  ...                   NaN                   NaN   \n",
       "380950           1.04  ...                   NaN                   NaN   \n",
       "380951           1.02  ...                   NaN                   NaN   \n",
       "\n",
       "        m_return_target(t+6)  m_return_target(t+7)  m_return_target(t+8)  \\\n",
       "0                       1.00                  1.00                  1.00   \n",
       "1                       1.00                  1.00                  1.00   \n",
       "2                       1.00                  1.00                  0.97   \n",
       "3                       1.00                  0.97                  1.03   \n",
       "4                       0.97                  1.03                  1.00   \n",
       "...                      ...                   ...                   ...   \n",
       "380947                   NaN                   NaN                   NaN   \n",
       "380948                   NaN                   NaN                   NaN   \n",
       "380949                   NaN                   NaN                   NaN   \n",
       "380950                   NaN                   NaN                   NaN   \n",
       "380951                   NaN                   NaN                   NaN   \n",
       "\n",
       "        m_return_target(t+9)  m_return_target(t+10)  m_return_target(t+11)  \\\n",
       "0                       1.00                   0.97                   1.03   \n",
       "1                       0.97                   1.03                   1.00   \n",
       "2                       1.03                   1.00                   1.00   \n",
       "3                       1.00                   1.00                   1.00   \n",
       "4                       1.00                   1.00                   1.00   \n",
       "...                      ...                    ...                    ...   \n",
       "380947                   NaN                    NaN                    NaN   \n",
       "380948                   NaN                    NaN                    NaN   \n",
       "380949                   NaN                    NaN                    NaN   \n",
       "380950                   NaN                    NaN                    NaN   \n",
       "380951                   NaN                    NaN                    NaN   \n",
       "\n",
       "        m_return_target(t+12)  stock_ticker_label  \n",
       "0                        1.00                 718  \n",
       "1                        1.00                 718  \n",
       "2                        1.00                 718  \n",
       "3                        1.00                 718  \n",
       "4                        0.99                 718  \n",
       "...                       ...                 ...  \n",
       "380947                    NaN                 962  \n",
       "380948                    NaN                 962  \n",
       "380949                    NaN                 962  \n",
       "380950                    NaN                 962  \n",
       "380951                    NaN                 962  \n",
       "\n",
       "[380952 rows x 28 columns]"
      ],
      "text/html": [
       "<div>\n",
       "<style scoped>\n",
       "    .dataframe tbody tr th:only-of-type {\n",
       "        vertical-align: middle;\n",
       "    }\n",
       "\n",
       "    .dataframe tbody tr th {\n",
       "        vertical-align: top;\n",
       "    }\n",
       "\n",
       "    .dataframe thead th {\n",
       "        text-align: right;\n",
       "    }\n",
       "</style>\n",
       "<table border=\"1\" class=\"dataframe\">\n",
       "  <thead>\n",
       "    <tr style=\"text-align: right;\">\n",
       "      <th></th>\n",
       "      <th>month</th>\n",
       "      <th>year</th>\n",
       "      <th>date</th>\n",
       "      <th>m_return(t-11)</th>\n",
       "      <th>m_return(t-10)</th>\n",
       "      <th>m_return(t-9)</th>\n",
       "      <th>m_return(t-8)</th>\n",
       "      <th>m_return(t-7)</th>\n",
       "      <th>m_return(t-6)</th>\n",
       "      <th>m_return(t-5)</th>\n",
       "      <th>...</th>\n",
       "      <th>m_return_target(t+4)</th>\n",
       "      <th>m_return_target(t+5)</th>\n",
       "      <th>m_return_target(t+6)</th>\n",
       "      <th>m_return_target(t+7)</th>\n",
       "      <th>m_return_target(t+8)</th>\n",
       "      <th>m_return_target(t+9)</th>\n",
       "      <th>m_return_target(t+10)</th>\n",
       "      <th>m_return_target(t+11)</th>\n",
       "      <th>m_return_target(t+12)</th>\n",
       "      <th>stock_ticker_label</th>\n",
       "    </tr>\n",
       "  </thead>\n",
       "  <tbody>\n",
       "    <tr>\n",
       "      <th>0</th>\n",
       "      <td>11</td>\n",
       "      <td>2000</td>\n",
       "      <td>2000-11-01</td>\n",
       "      <td>1.05</td>\n",
       "      <td>0.91</td>\n",
       "      <td>1.30</td>\n",
       "      <td>1.00</td>\n",
       "      <td>0.97</td>\n",
       "      <td>1.00</td>\n",
       "      <td>1.00</td>\n",
       "      <td>...</td>\n",
       "      <td>1.00</td>\n",
       "      <td>1.00</td>\n",
       "      <td>1.00</td>\n",
       "      <td>1.00</td>\n",
       "      <td>1.00</td>\n",
       "      <td>1.00</td>\n",
       "      <td>0.97</td>\n",
       "      <td>1.03</td>\n",
       "      <td>1.00</td>\n",
       "      <td>718</td>\n",
       "    </tr>\n",
       "    <tr>\n",
       "      <th>1</th>\n",
       "      <td>12</td>\n",
       "      <td>2000</td>\n",
       "      <td>2000-12-01</td>\n",
       "      <td>0.91</td>\n",
       "      <td>1.30</td>\n",
       "      <td>1.00</td>\n",
       "      <td>0.97</td>\n",
       "      <td>1.00</td>\n",
       "      <td>1.00</td>\n",
       "      <td>1.00</td>\n",
       "      <td>...</td>\n",
       "      <td>1.00</td>\n",
       "      <td>1.00</td>\n",
       "      <td>1.00</td>\n",
       "      <td>1.00</td>\n",
       "      <td>1.00</td>\n",
       "      <td>0.97</td>\n",
       "      <td>1.03</td>\n",
       "      <td>1.00</td>\n",
       "      <td>1.00</td>\n",
       "      <td>718</td>\n",
       "    </tr>\n",
       "    <tr>\n",
       "      <th>2</th>\n",
       "      <td>1</td>\n",
       "      <td>2001</td>\n",
       "      <td>2001-01-01</td>\n",
       "      <td>1.30</td>\n",
       "      <td>1.00</td>\n",
       "      <td>0.97</td>\n",
       "      <td>1.00</td>\n",
       "      <td>1.00</td>\n",
       "      <td>1.00</td>\n",
       "      <td>1.00</td>\n",
       "      <td>...</td>\n",
       "      <td>1.00</td>\n",
       "      <td>1.00</td>\n",
       "      <td>1.00</td>\n",
       "      <td>1.00</td>\n",
       "      <td>0.97</td>\n",
       "      <td>1.03</td>\n",
       "      <td>1.00</td>\n",
       "      <td>1.00</td>\n",
       "      <td>1.00</td>\n",
       "      <td>718</td>\n",
       "    </tr>\n",
       "    <tr>\n",
       "      <th>3</th>\n",
       "      <td>2</td>\n",
       "      <td>2001</td>\n",
       "      <td>2001-02-01</td>\n",
       "      <td>1.00</td>\n",
       "      <td>0.97</td>\n",
       "      <td>1.00</td>\n",
       "      <td>1.00</td>\n",
       "      <td>1.00</td>\n",
       "      <td>1.00</td>\n",
       "      <td>1.00</td>\n",
       "      <td>...</td>\n",
       "      <td>1.00</td>\n",
       "      <td>1.00</td>\n",
       "      <td>1.00</td>\n",
       "      <td>0.97</td>\n",
       "      <td>1.03</td>\n",
       "      <td>1.00</td>\n",
       "      <td>1.00</td>\n",
       "      <td>1.00</td>\n",
       "      <td>1.00</td>\n",
       "      <td>718</td>\n",
       "    </tr>\n",
       "    <tr>\n",
       "      <th>4</th>\n",
       "      <td>3</td>\n",
       "      <td>2001</td>\n",
       "      <td>2001-03-01</td>\n",
       "      <td>0.97</td>\n",
       "      <td>1.00</td>\n",
       "      <td>1.00</td>\n",
       "      <td>1.00</td>\n",
       "      <td>1.00</td>\n",
       "      <td>1.00</td>\n",
       "      <td>1.00</td>\n",
       "      <td>...</td>\n",
       "      <td>1.00</td>\n",
       "      <td>1.00</td>\n",
       "      <td>0.97</td>\n",
       "      <td>1.03</td>\n",
       "      <td>1.00</td>\n",
       "      <td>1.00</td>\n",
       "      <td>1.00</td>\n",
       "      <td>1.00</td>\n",
       "      <td>0.99</td>\n",
       "      <td>718</td>\n",
       "    </tr>\n",
       "    <tr>\n",
       "      <th>...</th>\n",
       "      <td>...</td>\n",
       "      <td>...</td>\n",
       "      <td>...</td>\n",
       "      <td>...</td>\n",
       "      <td>...</td>\n",
       "      <td>...</td>\n",
       "      <td>...</td>\n",
       "      <td>...</td>\n",
       "      <td>...</td>\n",
       "      <td>...</td>\n",
       "      <td>...</td>\n",
       "      <td>...</td>\n",
       "      <td>...</td>\n",
       "      <td>...</td>\n",
       "      <td>...</td>\n",
       "      <td>...</td>\n",
       "      <td>...</td>\n",
       "      <td>...</td>\n",
       "      <td>...</td>\n",
       "      <td>...</td>\n",
       "      <td>...</td>\n",
       "    </tr>\n",
       "    <tr>\n",
       "      <th>380947</th>\n",
       "      <td>4</td>\n",
       "      <td>2024</td>\n",
       "      <td>2024-04-01</td>\n",
       "      <td>0.97</td>\n",
       "      <td>0.98</td>\n",
       "      <td>1.04</td>\n",
       "      <td>0.98</td>\n",
       "      <td>0.98</td>\n",
       "      <td>0.99</td>\n",
       "      <td>1.03</td>\n",
       "      <td>...</td>\n",
       "      <td>1.00</td>\n",
       "      <td>1.01</td>\n",
       "      <td>NaN</td>\n",
       "      <td>NaN</td>\n",
       "      <td>NaN</td>\n",
       "      <td>NaN</td>\n",
       "      <td>NaN</td>\n",
       "      <td>NaN</td>\n",
       "      <td>NaN</td>\n",
       "      <td>962</td>\n",
       "    </tr>\n",
       "    <tr>\n",
       "      <th>380948</th>\n",
       "      <td>5</td>\n",
       "      <td>2024</td>\n",
       "      <td>2024-05-01</td>\n",
       "      <td>0.98</td>\n",
       "      <td>1.04</td>\n",
       "      <td>0.98</td>\n",
       "      <td>0.98</td>\n",
       "      <td>0.99</td>\n",
       "      <td>1.03</td>\n",
       "      <td>1.11</td>\n",
       "      <td>...</td>\n",
       "      <td>1.01</td>\n",
       "      <td>NaN</td>\n",
       "      <td>NaN</td>\n",
       "      <td>NaN</td>\n",
       "      <td>NaN</td>\n",
       "      <td>NaN</td>\n",
       "      <td>NaN</td>\n",
       "      <td>NaN</td>\n",
       "      <td>NaN</td>\n",
       "      <td>962</td>\n",
       "    </tr>\n",
       "    <tr>\n",
       "      <th>380949</th>\n",
       "      <td>6</td>\n",
       "      <td>2024</td>\n",
       "      <td>2024-06-01</td>\n",
       "      <td>1.04</td>\n",
       "      <td>0.98</td>\n",
       "      <td>0.98</td>\n",
       "      <td>0.99</td>\n",
       "      <td>1.03</td>\n",
       "      <td>1.11</td>\n",
       "      <td>1.00</td>\n",
       "      <td>...</td>\n",
       "      <td>NaN</td>\n",
       "      <td>NaN</td>\n",
       "      <td>NaN</td>\n",
       "      <td>NaN</td>\n",
       "      <td>NaN</td>\n",
       "      <td>NaN</td>\n",
       "      <td>NaN</td>\n",
       "      <td>NaN</td>\n",
       "      <td>NaN</td>\n",
       "      <td>962</td>\n",
       "    </tr>\n",
       "    <tr>\n",
       "      <th>380950</th>\n",
       "      <td>7</td>\n",
       "      <td>2024</td>\n",
       "      <td>2024-07-01</td>\n",
       "      <td>0.98</td>\n",
       "      <td>0.98</td>\n",
       "      <td>0.99</td>\n",
       "      <td>1.03</td>\n",
       "      <td>1.11</td>\n",
       "      <td>1.00</td>\n",
       "      <td>1.04</td>\n",
       "      <td>...</td>\n",
       "      <td>NaN</td>\n",
       "      <td>NaN</td>\n",
       "      <td>NaN</td>\n",
       "      <td>NaN</td>\n",
       "      <td>NaN</td>\n",
       "      <td>NaN</td>\n",
       "      <td>NaN</td>\n",
       "      <td>NaN</td>\n",
       "      <td>NaN</td>\n",
       "      <td>962</td>\n",
       "    </tr>\n",
       "    <tr>\n",
       "      <th>380951</th>\n",
       "      <td>8</td>\n",
       "      <td>2024</td>\n",
       "      <td>2024-08-01</td>\n",
       "      <td>0.98</td>\n",
       "      <td>0.99</td>\n",
       "      <td>1.03</td>\n",
       "      <td>1.11</td>\n",
       "      <td>1.00</td>\n",
       "      <td>1.04</td>\n",
       "      <td>1.02</td>\n",
       "      <td>...</td>\n",
       "      <td>NaN</td>\n",
       "      <td>NaN</td>\n",
       "      <td>NaN</td>\n",
       "      <td>NaN</td>\n",
       "      <td>NaN</td>\n",
       "      <td>NaN</td>\n",
       "      <td>NaN</td>\n",
       "      <td>NaN</td>\n",
       "      <td>NaN</td>\n",
       "      <td>962</td>\n",
       "    </tr>\n",
       "  </tbody>\n",
       "</table>\n",
       "<p>380952 rows × 28 columns</p>\n",
       "</div>"
      ]
     },
     "execution_count": 566,
     "metadata": {},
     "output_type": "execute_result"
    }
   ],
   "execution_count": 566
  },
  {
   "metadata": {},
   "cell_type": "markdown",
   "source": "## Direct forecasting",
   "id": "da71bcf8417400cf"
  },
  {
   "metadata": {},
   "cell_type": "markdown",
   "source": "## XGBoost Univariate - 1 Month",
   "id": "420fc796bdd8258f"
  },
  {
   "metadata": {
    "ExecuteTime": {
     "end_time": "2025-06-15T15:57:02.550269Z",
     "start_time": "2025-06-15T15:56:58.003783Z"
    }
   },
   "cell_type": "code",
   "source": [
    "importlib.reload(train_test)\n",
    "importlib.reload(xgboost_utils)\n",
    "importlib.reload(variables)\n",
    "#\n",
    "# df_tab_filtered = df_tabular.tail(variables.TRAIN_MONTH_NR*len(df.columns))\n",
    "X_train, y_train, X_test, y_test, min_datestr = train_test.split_train_test_tabular(df_tabular, months=variables.TEST_MONTHS_NR)\n",
    "#\n",
    "model_1m, score_1m = xgboost_utils.get_xgboost_trained_model(X_train, y_train, X_test, y_test)"
   ],
   "id": "91a325686dd708f7",
   "outputs": [
    {
     "name": "stdout",
     "output_type": "stream",
     "text": [
      "[0]\tvalidation_0-rmse:0.11705\tvalidation_1-rmse:0.10011\n",
      "[1]\tvalidation_0-rmse:0.11690\tvalidation_1-rmse:0.10009\n",
      "[2]\tvalidation_0-rmse:0.11683\tvalidation_1-rmse:0.10007\n",
      "[3]\tvalidation_0-rmse:0.11673\tvalidation_1-rmse:0.10007\n",
      "[4]\tvalidation_0-rmse:0.11663\tvalidation_1-rmse:0.10006\n",
      "[5]\tvalidation_0-rmse:0.11642\tvalidation_1-rmse:0.10005\n",
      "[6]\tvalidation_0-rmse:0.11635\tvalidation_1-rmse:0.10004\n",
      "[7]\tvalidation_0-rmse:0.11625\tvalidation_1-rmse:0.10003\n",
      "[8]\tvalidation_0-rmse:0.11617\tvalidation_1-rmse:0.10002\n",
      "[9]\tvalidation_0-rmse:0.11608\tvalidation_1-rmse:0.10002\n",
      "[10]\tvalidation_0-rmse:0.11602\tvalidation_1-rmse:0.10001\n",
      "[11]\tvalidation_0-rmse:0.11588\tvalidation_1-rmse:0.10001\n",
      "[12]\tvalidation_0-rmse:0.11582\tvalidation_1-rmse:0.09998\n",
      "[13]\tvalidation_0-rmse:0.11576\tvalidation_1-rmse:0.09998\n",
      "[14]\tvalidation_0-rmse:0.11571\tvalidation_1-rmse:0.09996\n",
      "[15]\tvalidation_0-rmse:0.11565\tvalidation_1-rmse:0.09997\n",
      "[16]\tvalidation_0-rmse:0.11558\tvalidation_1-rmse:0.09994\n",
      "[17]\tvalidation_0-rmse:0.11547\tvalidation_1-rmse:0.09993\n",
      "[18]\tvalidation_0-rmse:0.11539\tvalidation_1-rmse:0.09992\n",
      "[19]\tvalidation_0-rmse:0.11533\tvalidation_1-rmse:0.09985\n",
      "[20]\tvalidation_0-rmse:0.11529\tvalidation_1-rmse:0.09985\n",
      "[21]\tvalidation_0-rmse:0.11520\tvalidation_1-rmse:0.09983\n",
      "[22]\tvalidation_0-rmse:0.11496\tvalidation_1-rmse:0.09974\n",
      "[23]\tvalidation_0-rmse:0.11483\tvalidation_1-rmse:0.09975\n",
      "[24]\tvalidation_0-rmse:0.11478\tvalidation_1-rmse:0.09975\n",
      "[25]\tvalidation_0-rmse:0.11469\tvalidation_1-rmse:0.09975\n",
      "[26]\tvalidation_0-rmse:0.11463\tvalidation_1-rmse:0.09974\n",
      "[27]\tvalidation_0-rmse:0.11457\tvalidation_1-rmse:0.09974\n",
      "[28]\tvalidation_0-rmse:0.11452\tvalidation_1-rmse:0.09975\n",
      "[29]\tvalidation_0-rmse:0.11448\tvalidation_1-rmse:0.09973\n",
      "[30]\tvalidation_0-rmse:0.11432\tvalidation_1-rmse:0.09971\n",
      "[31]\tvalidation_0-rmse:0.11429\tvalidation_1-rmse:0.09971\n",
      "[32]\tvalidation_0-rmse:0.11422\tvalidation_1-rmse:0.09970\n",
      "[33]\tvalidation_0-rmse:0.11419\tvalidation_1-rmse:0.09970\n",
      "[34]\tvalidation_0-rmse:0.11415\tvalidation_1-rmse:0.09970\n",
      "[35]\tvalidation_0-rmse:0.11406\tvalidation_1-rmse:0.09970\n",
      "[36]\tvalidation_0-rmse:0.11402\tvalidation_1-rmse:0.09970\n",
      "[37]\tvalidation_0-rmse:0.11399\tvalidation_1-rmse:0.09970\n",
      "[38]\tvalidation_0-rmse:0.11395\tvalidation_1-rmse:0.09966\n",
      "[39]\tvalidation_0-rmse:0.11390\tvalidation_1-rmse:0.09966\n",
      "[40]\tvalidation_0-rmse:0.11385\tvalidation_1-rmse:0.09966\n",
      "[41]\tvalidation_0-rmse:0.11380\tvalidation_1-rmse:0.09965\n",
      "[42]\tvalidation_0-rmse:0.11377\tvalidation_1-rmse:0.09965\n",
      "[43]\tvalidation_0-rmse:0.11365\tvalidation_1-rmse:0.09965\n",
      "[44]\tvalidation_0-rmse:0.11361\tvalidation_1-rmse:0.09965\n",
      "[45]\tvalidation_0-rmse:0.11357\tvalidation_1-rmse:0.09963\n",
      "[46]\tvalidation_0-rmse:0.11351\tvalidation_1-rmse:0.09959\n",
      "[47]\tvalidation_0-rmse:0.11347\tvalidation_1-rmse:0.09958\n",
      "[48]\tvalidation_0-rmse:0.11338\tvalidation_1-rmse:0.09958\n",
      "[49]\tvalidation_0-rmse:0.11333\tvalidation_1-rmse:0.09954\n",
      "[50]\tvalidation_0-rmse:0.11329\tvalidation_1-rmse:0.09954\n",
      "[51]\tvalidation_0-rmse:0.11320\tvalidation_1-rmse:0.09952\n",
      "[52]\tvalidation_0-rmse:0.11317\tvalidation_1-rmse:0.09952\n",
      "[53]\tvalidation_0-rmse:0.11312\tvalidation_1-rmse:0.09955\n",
      "[54]\tvalidation_0-rmse:0.11307\tvalidation_1-rmse:0.09957\n",
      "[55]\tvalidation_0-rmse:0.11294\tvalidation_1-rmse:0.09956\n",
      "[56]\tvalidation_0-rmse:0.11291\tvalidation_1-rmse:0.09959\n",
      "[57]\tvalidation_0-rmse:0.11287\tvalidation_1-rmse:0.09958\n",
      "[58]\tvalidation_0-rmse:0.11283\tvalidation_1-rmse:0.09965\n",
      "[59]\tvalidation_0-rmse:0.11273\tvalidation_1-rmse:0.09975\n",
      "[60]\tvalidation_0-rmse:0.11263\tvalidation_1-rmse:0.09986\n",
      "[61]\tvalidation_0-rmse:0.11254\tvalidation_1-rmse:0.09991\n",
      "[62]\tvalidation_0-rmse:0.11251\tvalidation_1-rmse:0.09991\n",
      "[63]\tvalidation_0-rmse:0.11245\tvalidation_1-rmse:0.09991\n",
      "[64]\tvalidation_0-rmse:0.11242\tvalidation_1-rmse:0.09991\n",
      "[65]\tvalidation_0-rmse:0.11240\tvalidation_1-rmse:0.09990\n",
      "[66]\tvalidation_0-rmse:0.11238\tvalidation_1-rmse:0.09990\n",
      "[67]\tvalidation_0-rmse:0.11232\tvalidation_1-rmse:0.09986\n",
      "[68]\tvalidation_0-rmse:0.11229\tvalidation_1-rmse:0.09986\n",
      "[69]\tvalidation_0-rmse:0.11225\tvalidation_1-rmse:0.09986\n",
      "[70]\tvalidation_0-rmse:0.11211\tvalidation_1-rmse:0.09987\n",
      "[71]\tvalidation_0-rmse:0.11204\tvalidation_1-rmse:0.09988\n",
      "[72]\tvalidation_0-rmse:0.11199\tvalidation_1-rmse:0.09989\n",
      "[73]\tvalidation_0-rmse:0.11195\tvalidation_1-rmse:0.09990\n",
      "[74]\tvalidation_0-rmse:0.11182\tvalidation_1-rmse:0.09991\n",
      "[75]\tvalidation_0-rmse:0.11179\tvalidation_1-rmse:0.09990\n",
      "[76]\tvalidation_0-rmse:0.11177\tvalidation_1-rmse:0.09994\n",
      "[77]\tvalidation_0-rmse:0.11163\tvalidation_1-rmse:0.09991\n",
      "[78]\tvalidation_0-rmse:0.11153\tvalidation_1-rmse:0.09988\n",
      "[79]\tvalidation_0-rmse:0.11150\tvalidation_1-rmse:0.09987\n",
      "[80]\tvalidation_0-rmse:0.11146\tvalidation_1-rmse:0.09987\n",
      "[81]\tvalidation_0-rmse:0.11134\tvalidation_1-rmse:0.09987\n",
      "[82]\tvalidation_0-rmse:0.11131\tvalidation_1-rmse:0.09987\n",
      "[83]\tvalidation_0-rmse:0.11130\tvalidation_1-rmse:0.09986\n",
      "[84]\tvalidation_0-rmse:0.11127\tvalidation_1-rmse:0.09986\n",
      "[85]\tvalidation_0-rmse:0.11115\tvalidation_1-rmse:0.09983\n",
      "[86]\tvalidation_0-rmse:0.11113\tvalidation_1-rmse:0.09983\n",
      "[87]\tvalidation_0-rmse:0.11104\tvalidation_1-rmse:0.09990\n",
      "[88]\tvalidation_0-rmse:0.11098\tvalidation_1-rmse:0.09990\n",
      "[89]\tvalidation_0-rmse:0.11089\tvalidation_1-rmse:0.09990\n",
      "[90]\tvalidation_0-rmse:0.11086\tvalidation_1-rmse:0.09986\n",
      "[91]\tvalidation_0-rmse:0.11084\tvalidation_1-rmse:0.09987\n",
      "[92]\tvalidation_0-rmse:0.11079\tvalidation_1-rmse:0.09989\n",
      "[93]\tvalidation_0-rmse:0.11069\tvalidation_1-rmse:0.09990\n",
      "[94]\tvalidation_0-rmse:0.11066\tvalidation_1-rmse:0.09989\n",
      "[95]\tvalidation_0-rmse:0.11065\tvalidation_1-rmse:0.09990\n",
      "[96]\tvalidation_0-rmse:0.11063\tvalidation_1-rmse:0.09989\n",
      "[97]\tvalidation_0-rmse:0.11060\tvalidation_1-rmse:0.09993\n",
      "[98]\tvalidation_0-rmse:0.11058\tvalidation_1-rmse:0.09991\n",
      "[99]\tvalidation_0-rmse:0.11054\tvalidation_1-rmse:0.09990\n",
      "[100]\tvalidation_0-rmse:0.11050\tvalidation_1-rmse:0.09992\n",
      "[101]\tvalidation_0-rmse:0.11045\tvalidation_1-rmse:0.09990\n",
      "[102]\tvalidation_0-rmse:0.11042\tvalidation_1-rmse:0.09990\n",
      "[103]\tvalidation_0-rmse:0.11035\tvalidation_1-rmse:0.10012\n",
      "[104]\tvalidation_0-rmse:0.11032\tvalidation_1-rmse:0.10012\n",
      "[105]\tvalidation_0-rmse:0.11029\tvalidation_1-rmse:0.10008\n",
      "[106]\tvalidation_0-rmse:0.11026\tvalidation_1-rmse:0.10009\n",
      "[107]\tvalidation_0-rmse:0.11023\tvalidation_1-rmse:0.10010\n",
      "[108]\tvalidation_0-rmse:0.11017\tvalidation_1-rmse:0.10023\n",
      "[109]\tvalidation_0-rmse:0.11015\tvalidation_1-rmse:0.10025\n",
      "[110]\tvalidation_0-rmse:0.11012\tvalidation_1-rmse:0.10025\n",
      "[111]\tvalidation_0-rmse:0.10999\tvalidation_1-rmse:0.10027\n",
      "[112]\tvalidation_0-rmse:0.10994\tvalidation_1-rmse:0.10030\n",
      "[113]\tvalidation_0-rmse:0.10990\tvalidation_1-rmse:0.10028\n",
      "[114]\tvalidation_0-rmse:0.10988\tvalidation_1-rmse:0.10027\n",
      "[115]\tvalidation_0-rmse:0.10986\tvalidation_1-rmse:0.10032\n",
      "[116]\tvalidation_0-rmse:0.10983\tvalidation_1-rmse:0.10030\n",
      "[117]\tvalidation_0-rmse:0.10981\tvalidation_1-rmse:0.10030\n",
      "[118]\tvalidation_0-rmse:0.10981\tvalidation_1-rmse:0.10030\n",
      "[119]\tvalidation_0-rmse:0.10975\tvalidation_1-rmse:0.10036\n",
      "[120]\tvalidation_0-rmse:0.10969\tvalidation_1-rmse:0.10036\n",
      "[121]\tvalidation_0-rmse:0.10966\tvalidation_1-rmse:0.10041\n",
      "[122]\tvalidation_0-rmse:0.10964\tvalidation_1-rmse:0.10043\n",
      "[123]\tvalidation_0-rmse:0.10956\tvalidation_1-rmse:0.10058\n",
      "[124]\tvalidation_0-rmse:0.10950\tvalidation_1-rmse:0.10059\n",
      "[125]\tvalidation_0-rmse:0.10940\tvalidation_1-rmse:0.10066\n",
      "[126]\tvalidation_0-rmse:0.10938\tvalidation_1-rmse:0.10067\n",
      "[127]\tvalidation_0-rmse:0.10933\tvalidation_1-rmse:0.10068\n",
      "[128]\tvalidation_0-rmse:0.10923\tvalidation_1-rmse:0.10070\n",
      "[129]\tvalidation_0-rmse:0.10921\tvalidation_1-rmse:0.10071\n",
      "[130]\tvalidation_0-rmse:0.10920\tvalidation_1-rmse:0.10068\n",
      "[131]\tvalidation_0-rmse:0.10916\tvalidation_1-rmse:0.10068\n",
      "[132]\tvalidation_0-rmse:0.10913\tvalidation_1-rmse:0.10069\n",
      "[133]\tvalidation_0-rmse:0.10912\tvalidation_1-rmse:0.10070\n",
      "[134]\tvalidation_0-rmse:0.10909\tvalidation_1-rmse:0.10066\n",
      "[135]\tvalidation_0-rmse:0.10908\tvalidation_1-rmse:0.10066\n",
      "[136]\tvalidation_0-rmse:0.10906\tvalidation_1-rmse:0.10071\n",
      "[137]\tvalidation_0-rmse:0.10904\tvalidation_1-rmse:0.10071\n",
      "[138]\tvalidation_0-rmse:0.10903\tvalidation_1-rmse:0.10069\n",
      "[139]\tvalidation_0-rmse:0.10902\tvalidation_1-rmse:0.10072\n",
      "[140]\tvalidation_0-rmse:0.10900\tvalidation_1-rmse:0.10070\n",
      "[141]\tvalidation_0-rmse:0.10894\tvalidation_1-rmse:0.10076\n",
      "[142]\tvalidation_0-rmse:0.10893\tvalidation_1-rmse:0.10073\n",
      "[143]\tvalidation_0-rmse:0.10892\tvalidation_1-rmse:0.10075\n",
      "[144]\tvalidation_0-rmse:0.10889\tvalidation_1-rmse:0.10073\n",
      "[145]\tvalidation_0-rmse:0.10885\tvalidation_1-rmse:0.10072\n",
      "[146]\tvalidation_0-rmse:0.10884\tvalidation_1-rmse:0.10072\n",
      "[147]\tvalidation_0-rmse:0.10883\tvalidation_1-rmse:0.10072\n",
      "[148]\tvalidation_0-rmse:0.10882\tvalidation_1-rmse:0.10072\n",
      "[149]\tvalidation_0-rmse:0.10879\tvalidation_1-rmse:0.10075\n",
      "[150]\tvalidation_0-rmse:0.10878\tvalidation_1-rmse:0.10074\n",
      "[151]\tvalidation_0-rmse:0.10877\tvalidation_1-rmse:0.10073\n",
      "[152]\tvalidation_0-rmse:0.10877\tvalidation_1-rmse:0.10073\n",
      "[153]\tvalidation_0-rmse:0.10870\tvalidation_1-rmse:0.10093\n",
      "[154]\tvalidation_0-rmse:0.10867\tvalidation_1-rmse:0.10094\n",
      "[155]\tvalidation_0-rmse:0.10863\tvalidation_1-rmse:0.10108\n",
      "[156]\tvalidation_0-rmse:0.10862\tvalidation_1-rmse:0.10108\n",
      "[157]\tvalidation_0-rmse:0.10861\tvalidation_1-rmse:0.10108\n",
      "[158]\tvalidation_0-rmse:0.10859\tvalidation_1-rmse:0.10108\n",
      "[159]\tvalidation_0-rmse:0.10857\tvalidation_1-rmse:0.10101\n",
      "[160]\tvalidation_0-rmse:0.10854\tvalidation_1-rmse:0.10096\n",
      "[161]\tvalidation_0-rmse:0.10854\tvalidation_1-rmse:0.10097\n",
      "[162]\tvalidation_0-rmse:0.10853\tvalidation_1-rmse:0.10097\n",
      "[163]\tvalidation_0-rmse:0.10852\tvalidation_1-rmse:0.10096\n",
      "[164]\tvalidation_0-rmse:0.10851\tvalidation_1-rmse:0.10096\n",
      "[165]\tvalidation_0-rmse:0.10850\tvalidation_1-rmse:0.10096\n",
      "[166]\tvalidation_0-rmse:0.10849\tvalidation_1-rmse:0.10096\n",
      "[167]\tvalidation_0-rmse:0.10846\tvalidation_1-rmse:0.10092\n",
      "[168]\tvalidation_0-rmse:0.10844\tvalidation_1-rmse:0.10092\n",
      "[169]\tvalidation_0-rmse:0.10835\tvalidation_1-rmse:0.10087\n",
      "[170]\tvalidation_0-rmse:0.10835\tvalidation_1-rmse:0.10086\n",
      "[171]\tvalidation_0-rmse:0.10833\tvalidation_1-rmse:0.10087\n",
      "[172]\tvalidation_0-rmse:0.10832\tvalidation_1-rmse:0.10086\n",
      "[173]\tvalidation_0-rmse:0.10831\tvalidation_1-rmse:0.10087\n",
      "[174]\tvalidation_0-rmse:0.10829\tvalidation_1-rmse:0.10087\n",
      "[175]\tvalidation_0-rmse:0.10828\tvalidation_1-rmse:0.10084\n",
      "[176]\tvalidation_0-rmse:0.10827\tvalidation_1-rmse:0.10082\n",
      "[177]\tvalidation_0-rmse:0.10826\tvalidation_1-rmse:0.10083\n",
      "[178]\tvalidation_0-rmse:0.10825\tvalidation_1-rmse:0.10083\n",
      "[179]\tvalidation_0-rmse:0.10822\tvalidation_1-rmse:0.10083\n",
      "[180]\tvalidation_0-rmse:0.10820\tvalidation_1-rmse:0.10080\n",
      "[181]\tvalidation_0-rmse:0.10819\tvalidation_1-rmse:0.10080\n",
      "[182]\tvalidation_0-rmse:0.10818\tvalidation_1-rmse:0.10081\n",
      "[183]\tvalidation_0-rmse:0.10817\tvalidation_1-rmse:0.10081\n",
      "[184]\tvalidation_0-rmse:0.10815\tvalidation_1-rmse:0.10080\n",
      "[185]\tvalidation_0-rmse:0.10814\tvalidation_1-rmse:0.10080\n",
      "[186]\tvalidation_0-rmse:0.10813\tvalidation_1-rmse:0.10081\n",
      "[187]\tvalidation_0-rmse:0.10812\tvalidation_1-rmse:0.10081\n",
      "[188]\tvalidation_0-rmse:0.10808\tvalidation_1-rmse:0.10081\n",
      "[189]\tvalidation_0-rmse:0.10806\tvalidation_1-rmse:0.10081\n",
      "[190]\tvalidation_0-rmse:0.10799\tvalidation_1-rmse:0.10078\n",
      "[191]\tvalidation_0-rmse:0.10798\tvalidation_1-rmse:0.10085\n",
      "[192]\tvalidation_0-rmse:0.10796\tvalidation_1-rmse:0.10084\n",
      "[193]\tvalidation_0-rmse:0.10795\tvalidation_1-rmse:0.10085\n",
      "[194]\tvalidation_0-rmse:0.10794\tvalidation_1-rmse:0.10082\n",
      "[195]\tvalidation_0-rmse:0.10792\tvalidation_1-rmse:0.10082\n",
      "[196]\tvalidation_0-rmse:0.10790\tvalidation_1-rmse:0.10082\n",
      "[197]\tvalidation_0-rmse:0.10790\tvalidation_1-rmse:0.10081\n",
      "[198]\tvalidation_0-rmse:0.10789\tvalidation_1-rmse:0.10081\n",
      "[199]\tvalidation_0-rmse:0.10788\tvalidation_1-rmse:0.10081\n",
      "Mean MAE: 0.084 (0.012)\n"
     ]
    }
   ],
   "execution_count": 567
  },
  {
   "metadata": {
    "ExecuteTime": {
     "end_time": "2025-06-15T15:57:02.666173Z",
     "start_time": "2025-06-15T15:57:02.552885Z"
    }
   },
   "cell_type": "code",
   "source": [
    "importlib.reload(train_test)\n",
    "months_1m = 1\n",
    "X_train_1m, y_train_1m, X_test_1m, y_test_1m, min_datestr = train_test.split_train_test_tabular(df_tabular, months=1)\n",
    "# reset index\n",
    "X_train_1m.reset_index(drop=True, inplace=True)\n",
    "y_train_1m.reset_index(drop=True, inplace=True)\n",
    "X_test_1m.reset_index(drop=True, inplace=True)\n",
    "y_test_1m.reset_index(drop=True, inplace=True)"
   ],
   "id": "2cd1cababb8bbe1e",
   "outputs": [],
   "execution_count": 568
  },
  {
   "metadata": {
    "ExecuteTime": {
     "end_time": "2025-06-15T15:57:02.822343Z",
     "start_time": "2025-06-15T15:57:02.670479Z"
    }
   },
   "cell_type": "code",
   "source": [
    "dt = datetime.strptime(min_datestr, '%Y-%m-%d')\n",
    "\n",
    "# get all training months without the last month\n",
    "X_train_input_1m = X_train_1m.head(len(X_train_1m) - len(df_pct.columns) * months_1m)\n",
    "# Get last month of the training dataset and use as input to predict the next month\n",
    "X_test_input_1m = X_train_1m.tail(len(df_pct.columns) * months_1m)\n",
    "\n",
    "# trained \n",
    "y_train_pred_1m = model_1m.predict(X_train_input_1m)\n",
    "# predictions\n",
    "y_test_pred_1m = model_1m.predict(X_test_input_1m)"
   ],
   "id": "e35d8bb28abb5c7b",
   "outputs": [],
   "execution_count": 569
  },
  {
   "metadata": {},
   "cell_type": "markdown",
   "source": "### 1 month Actual vs Prediction",
   "id": "25364fb4677243db"
  },
  {
   "metadata": {
    "ExecuteTime": {
     "end_time": "2025-06-15T15:57:02.891763Z",
     "start_time": "2025-06-15T15:57:02.832185Z"
    }
   },
   "cell_type": "code",
   "source": [
    "importlib.reload(mpt_utils)\n",
    "#\n",
    "y_train_mean_pred_1m, y_test_mean_pred_1m = mpt_utils.get_train_test_mean_pred(y_train_pred_1m, y_test_pred_1m, len(df_pct.columns))\n",
    "#\n",
    "plots.generate_timeseries_plot(df_pct, df_tabular, y_train_mean_pred_1m, y_test_mean_pred_1m)"
   ],
   "id": "575407a2f792ce63",
   "outputs": [
    {
     "name": "stdout",
     "output_type": "stream",
     "text": [
      "284.0\n"
     ]
    },
    {
     "data": {
      "application/vnd.plotly.v1+json": {
       "data": [
        {
         "line": {
          "color": "#5c839f",
          "width": 2
         },
         "mode": "lines",
         "name": "Actual returns",
         "x": [
          "2000-12-01",
          "2001-01-01",
          "2001-02-01",
          "2001-03-01",
          "2001-04-01",
          "2001-05-01",
          "2001-06-01",
          "2001-07-01",
          "2001-08-01",
          "2001-09-01",
          "2001-10-01",
          "2001-11-01",
          "2001-12-01",
          "2002-01-01",
          "2002-02-01",
          "2002-03-01",
          "2002-04-01",
          "2002-05-01",
          "2002-06-01",
          "2002-07-01",
          "2002-08-01",
          "2002-09-01",
          "2002-10-01",
          "2002-11-01",
          "2002-12-01",
          "2003-01-01",
          "2003-02-01",
          "2003-03-01",
          "2003-04-01",
          "2003-05-01",
          "2003-06-01",
          "2003-07-01",
          "2003-08-01",
          "2003-09-01",
          "2003-10-01",
          "2003-11-01",
          "2003-12-01",
          "2004-01-01",
          "2004-02-01",
          "2004-03-01",
          "2004-04-01",
          "2004-05-01",
          "2004-06-01",
          "2004-07-01",
          "2004-08-01",
          "2004-09-01",
          "2004-10-01",
          "2004-11-01",
          "2004-12-01",
          "2005-01-01",
          "2005-02-01",
          "2005-03-01",
          "2005-04-01",
          "2005-05-01",
          "2005-06-01",
          "2005-07-01",
          "2005-08-01",
          "2005-09-01",
          "2005-10-01",
          "2005-11-01",
          "2005-12-01",
          "2006-01-01",
          "2006-02-01",
          "2006-03-01",
          "2006-04-01",
          "2006-05-01",
          "2006-06-01",
          "2006-07-01",
          "2006-08-01",
          "2006-09-01",
          "2006-10-01",
          "2006-11-01",
          "2006-12-01",
          "2007-01-01",
          "2007-02-01",
          "2007-03-01",
          "2007-04-01",
          "2007-05-01",
          "2007-06-01",
          "2007-07-01",
          "2007-08-01",
          "2007-09-01",
          "2007-10-01",
          "2007-11-01",
          "2007-12-01",
          "2008-01-01",
          "2008-02-01",
          "2008-03-01",
          "2008-04-01",
          "2008-05-01",
          "2008-06-01",
          "2008-07-01",
          "2008-08-01",
          "2008-09-01",
          "2008-10-01",
          "2008-11-01",
          "2008-12-01",
          "2009-01-01",
          "2009-02-01",
          "2009-03-01",
          "2009-04-01",
          "2009-05-01",
          "2009-06-01",
          "2009-07-01",
          "2009-08-01",
          "2009-09-01",
          "2009-10-01",
          "2009-11-01",
          "2009-12-01",
          "2010-01-01",
          "2010-02-01",
          "2010-03-01",
          "2010-04-01",
          "2010-05-01",
          "2010-06-01",
          "2010-07-01",
          "2010-08-01",
          "2010-09-01",
          "2010-10-01",
          "2010-11-01",
          "2010-12-01",
          "2011-01-01",
          "2011-02-01",
          "2011-03-01",
          "2011-04-01",
          "2011-05-01",
          "2011-06-01",
          "2011-07-01",
          "2011-08-01",
          "2011-09-01",
          "2011-10-01",
          "2011-11-01",
          "2011-12-01",
          "2012-01-01",
          "2012-02-01",
          "2012-03-01",
          "2012-04-01",
          "2012-05-01",
          "2012-06-01",
          "2012-07-01",
          "2012-08-01",
          "2012-09-01",
          "2012-10-01",
          "2012-11-01",
          "2012-12-01",
          "2013-01-01",
          "2013-02-01",
          "2013-03-01",
          "2013-04-01",
          "2013-05-01",
          "2013-06-01",
          "2013-07-01",
          "2013-08-01",
          "2013-09-01",
          "2013-10-01",
          "2013-11-01",
          "2013-12-01",
          "2014-01-01",
          "2014-02-01",
          "2014-03-01",
          "2014-04-01",
          "2014-05-01",
          "2014-06-01",
          "2014-07-01",
          "2014-08-01",
          "2014-09-01",
          "2014-10-01",
          "2014-11-01",
          "2014-12-01",
          "2015-01-01",
          "2015-02-01",
          "2015-03-01",
          "2015-04-01",
          "2015-05-01",
          "2015-06-01",
          "2015-07-01",
          "2015-08-01",
          "2015-09-01",
          "2015-10-01",
          "2015-11-01",
          "2015-12-01",
          "2016-01-01",
          "2016-02-01",
          "2016-03-01",
          "2016-04-01",
          "2016-05-01",
          "2016-06-01",
          "2016-07-01",
          "2016-08-01",
          "2016-09-01",
          "2016-10-01",
          "2016-11-01",
          "2016-12-01",
          "2017-01-01",
          "2017-02-01",
          "2017-03-01",
          "2017-04-01",
          "2017-05-01",
          "2017-06-01",
          "2017-07-01",
          "2017-08-01",
          "2017-09-01",
          "2017-10-01",
          "2017-11-01",
          "2017-12-01",
          "2018-01-01",
          "2018-02-01",
          "2018-03-01",
          "2018-04-01",
          "2018-05-01",
          "2018-06-01",
          "2018-07-01",
          "2018-08-01",
          "2018-09-01",
          "2018-10-01",
          "2018-11-01",
          "2018-12-01",
          "2019-01-01",
          "2019-02-01",
          "2019-03-01",
          "2019-04-01",
          "2019-05-01",
          "2019-06-01",
          "2019-07-01",
          "2019-08-01",
          "2019-09-01",
          "2019-10-01",
          "2019-11-01",
          "2019-12-01",
          "2020-01-01",
          "2020-02-01",
          "2020-03-01",
          "2020-04-01",
          "2020-05-01",
          "2020-06-01",
          "2020-07-01",
          "2020-08-01",
          "2020-09-01",
          "2020-10-01",
          "2020-11-01",
          "2020-12-01",
          "2021-01-01",
          "2021-02-01",
          "2021-03-01",
          "2021-04-01",
          "2021-05-01",
          "2021-06-01",
          "2021-07-01",
          "2021-08-01",
          "2021-09-01",
          "2021-10-01",
          "2021-11-01",
          "2021-12-01",
          "2022-01-01",
          "2022-02-01",
          "2022-03-01",
          "2022-04-01",
          "2022-05-01",
          "2022-06-01",
          "2022-07-01",
          "2022-08-01",
          "2022-09-01",
          "2022-10-01",
          "2022-11-01",
          "2022-12-01",
          "2023-01-01",
          "2023-02-01",
          "2023-03-01",
          "2023-04-01",
          "2023-05-01",
          "2023-06-01",
          "2023-07-01",
          "2023-08-01",
          "2023-09-01",
          "2023-10-01",
          "2023-11-01",
          "2023-12-01",
          "2024-01-01",
          "2024-02-01",
          "2024-03-01",
          "2024-04-01",
          "2024-05-01",
          "2024-06-01",
          "2024-07-01",
          "2024-08-01"
         ],
         "y": [
          0.02743993993994054,
          0.038025525525524406,
          -0.009414414414414263,
          0.22023273273273247,
          0.031974474474474324,
          -0.00259009009009048,
          -0.020735735735735616,
          0.033678678678677354,
          -0.003978978978978809,
          0.0299774774774777,
          -0.007777777777777883,
          -0.011524024024024082,
          -0.026936936936937994,
          0.01249999999999929,
          0.038400900900901425,
          -0.02846096096096018,
          -0.012762762762762891,
          0.07272522522522085,
          0.015735735735736167,
          0.001644144144144155,
          -0.026996996996994982,
          -0.030915915915913916,
          -0.09028528528528412,
          0.05090840840840727,
          0.0509159159159156,
          0.018573573573573476,
          -0.005405405405404129,
          0.012072072072070394,
          0.05409159159158938,
          0.009024024024022914,
          0.00522522522522495,
          -0.05081831831831807,
          -0.06252252252252144,
          -0.011471471471471095,
          -0.04330330330330234,
          0.010465465465465451,
          0.058453453453451765,
          -0.03432432432432431,
          -0.01071321321321217,
          0.003100600600600245,
          -0.0021696696696679174,
          0.06228978978978872,
          0.07175675675675475,
          0.03475225225225054,
          0.05778528528528293,
          0.06289039039038924,
          0.004909909909908583,
          0.05349099099098753,
          0.004924924924925467,
          0.01909159159158902,
          0.032132132132131064,
          0.01701951951951819,
          0.05260510510510441,
          0.00787537537537375,
          -0.0060810810810809635,
          0.039166666666664574,
          -0.03876126126125934,
          -0.006861861861861107,
          0.005180180180180738,
          0.004489489489490461,
          0.03232732732732635,
          0.05847597597597187,
          0.008250750750750768,
          0.024947447447445814,
          -0.0037087087087082082,
          -0.022267267267264912,
          0.03677177177176838,
          0.024557057057054577,
          0.040442942942939375,
          -6.981981981986074E-4,
          0.01872372372372233,
          0.07061561561561569,
          0.05157657657657366,
          0.02451201201201103,
          0.04399399399399351,
          0.0172822822822829,
          0.028603603603601258,
          0.0011486486486493863,
          -0.03011261261261,
          -0.0018618618618618799,
          -0.01278528528528522,
          0.028018018018014734,
          0.014181681681680214,
          0.024466966966965265,
          0.027897897897896762,
          0.030930930930927136,
          0.03999999999999804,
          0.0035285285285273638,
          0.0018993993994007585,
          0.021418918918917118,
          0.02924174174173988,
          -0.01469969969969842,
          -0.03518768768768399,
          -0.010007507507506563,
          0.0024024024024018598,
          0.019632132132131774,
          -0.05572822822822687,
          -0.009954954954954243,
          -0.06066066066065812,
          -0.010435435435435347,
          -0.014969969969969021,
          0.03434684684684575,
          0.027875375375374656,
          -0.07102852852852792,
          -0.0025300300300311607,
          0.01765015015014937,
          -0.07436936936936767,
          -0.16220720720720616,
          -0.05918918918918892,
          0.04562312312312233,
          -0.056186186186185094,
          -0.06329579579579647,
          0.07671171171171154,
          0.15475225225225198,
          0.04527027027027031,
          0.03893393393393363,
          0.07099849849849749,
          0.05655405405405389,
          0.03070570570570519,
          -0.021951951951950766,
          0.0010360360360355259,
          0.05536036036035763,
          -0.013551051051049257,
          0.020743243243242837,
          0.06338588588588245,
          0.04948948948948795,
          -0.05758258258257942,
          -0.040217717717715096,
          0.040165165165163996,
          -0.03746996996996865,
          0.07373123123122904,
          0.0181606606606608,
          0.029774774774774082,
          0.06351351351350831,
          0.01366366366366445,
          0.03365615615615347,
          -0.01171171171171026,
          0.02272522522522369,
          -0.0021996996996992424,
          -4.279279279268966E-4,
          -0.018408408408405852,
          -0.05390390390390232,
          -0.049354354354354535,
          0.07704954954954912,
          -0.014466966966965367,
          0.005720720720719719,
          0.056246246246242304,
          0.04385885885885599,
          0.03139639639639191,
          -0.005975975975974102,
          -0.05990990990990752,
          0.033543543543540055,
          -0.0019219219219228645,
          0.021854354354353456,
          0.016599099099097403,
          0.002957957957956614,
          0.017342342342340444,
          0.032770270270266355,
          0.06512762762762248,
          0.025345345345343828,
          0.04521021021020588,
          0.03481231231231119,
          0.018280780780780104,
          -0.009894894894894812,
          0.03924924924924866,
          -0.009249249249246638,
          0.05455705705705238,
          0.028130630630627262,
          0.02668168168168039,
          0.022522522522519184,
          -0.013288288288286432,
          0.030075075075072455,
          0.0034009009009017266,
          -0.014481981981981806,
          0.020037537537534345,
          0.03023273273272986,
          -0.013093093093094033,
          0.02825825825825312,
          -0.01791291291291064,
          0.03218468468468272,
          0.04343843843843276,
          0.015833333333329813,
          0.002282282282282333,
          0.04680930930930782,
          0.012477477477475851,
          2.1771771771783577E-4,
          0.0293018018017992,
          -0.007530030030026724,
          0.015135135135132538,
          -0.04286786786786334,
          -0.025360360360358603,
          0.058055555555554195,
          0.02036786786786493,
          -0.020202702702699193,
          -0.05234234234234081,
          -0.003768768768769082,
          0.06146396396395826,
          0.0017117117117124714,
          0.02473723723723631,
          -0.028280780780780446,
          0.058536036036028305,
          0.009331831831831616,
          0.011493993993994867,
          -0.004587087087085662,
          0.04523273273273265,
          0.03180180180179559,
          0.011876876876876663,
          0.023596096096092145,
          0.009294294294294847,
          0.01928678678678275,
          0.017432432432431755,
          0.013648648648647344,
          0.016336336336334467,
          0.005165165165165186,
          0.03681681681681481,
          0.024496996996993925,
          0.029166666666663676,
          0.011771771771771133,
          0.025037537537536014,
          -0.02737237237236656,
          -7.732732732720349E-4,
          0.021028528528523216,
          0.03003003003002891,
          0.00960210210210044,
          0.015405405405403583,
          0.023415915915913077,
          -0.0036411411411424455,
          -0.06527777777777555,
          0.018873873873872515,
          -0.0894669669669641,
          0.09368618618618263,
          0.041291291291286614,
          0.008566066066063804,
          0.043918918918915084,
          -0.05617867867867832,
          0.04983483483482942,
          0.020818318318316154,
          -0.026448948948949114,
          0.037800300300294465,
          0.032867867867863776,
          0.034909909909907055,
          0.02680930930930736,
          -0.014016516516515032,
          -0.09361111111110709,
          -0.18348348348348387,
          0.1288888888888864,
          0.0715540540540538,
          0.02461711711711967,
          0.01599099099099388,
          0.0644519519519513,
          -0.006869369369366662,
          -0.005548048048042986,
          0.14040540540540425,
          0.05409909909909216,
          0.02852852852853105,
          0.0521096096096072,
          0.04906156156155683,
          0.03810810810810494,
          0.01629129129128959,
          0.016869369369369114,
          0.011163663663662282,
          0.02643393393393012,
          -0.02038288288288037,
          0.03498498498498348,
          -0.02757507507507051,
          0.045360360360353846,
          -0.07055555555555282,
          -0.012312312312310003,
          0.007882882882881193,
          -0.048010510510507864,
          0.005157657657655745,
          -0.06768018018017974,
          0.09111111111110559,
          -0.029324324324321083,
          -0.09201201201200937,
          0.08337837837837592,
          0.05950450450450018,
          -0.04256756756756219,
          0.08824324324324206,
          -0.005262762762760831,
          -0.012912912912911412,
          0.005990990990987433,
          -0.006478978978976202,
          0.062995495495489,
          0.0376951951951896,
          -0.019376876876874283,
          -0.03429429429428832,
          -0.04720720720720273,
          0.08611111111110614,
          0.07102852852852637,
          -0.0033783783783778443,
          0.027439939939941205,
          0.033686186186181466,
          -0.03638888888888547,
          0.03388888888888686,
          2.852852852868182E-4,
          0.052469969969967556,
          0.002424924924925298,
          -0.03054054054053601
         ],
         "type": "scatter"
        },
        {
         "line": {
          "color": "red",
          "width": 2
         },
         "mode": "lines",
         "name": "Train returns",
         "x": [
          "2000-12-01",
          "2001-01-01",
          "2001-02-01",
          "2001-03-01",
          "2001-04-01",
          "2001-05-01",
          "2001-06-01",
          "2001-07-01",
          "2001-08-01",
          "2001-09-01",
          "2001-10-01",
          "2001-11-01",
          "2001-12-01",
          "2002-01-01",
          "2002-02-01",
          "2002-03-01",
          "2002-04-01",
          "2002-05-01",
          "2002-06-01",
          "2002-07-01",
          "2002-08-01",
          "2002-09-01",
          "2002-10-01",
          "2002-11-01",
          "2002-12-01",
          "2003-01-01",
          "2003-02-01",
          "2003-03-01",
          "2003-04-01",
          "2003-05-01",
          "2003-06-01",
          "2003-07-01",
          "2003-08-01",
          "2003-09-01",
          "2003-10-01",
          "2003-11-01",
          "2003-12-01",
          "2004-01-01",
          "2004-02-01",
          "2004-03-01",
          "2004-04-01",
          "2004-05-01",
          "2004-06-01",
          "2004-07-01",
          "2004-08-01",
          "2004-09-01",
          "2004-10-01",
          "2004-11-01",
          "2004-12-01",
          "2005-01-01",
          "2005-02-01",
          "2005-03-01",
          "2005-04-01",
          "2005-05-01",
          "2005-06-01",
          "2005-07-01",
          "2005-08-01",
          "2005-09-01",
          "2005-10-01",
          "2005-11-01",
          "2005-12-01",
          "2006-01-01",
          "2006-02-01",
          "2006-03-01",
          "2006-04-01",
          "2006-05-01",
          "2006-06-01",
          "2006-07-01",
          "2006-08-01",
          "2006-09-01",
          "2006-10-01",
          "2006-11-01",
          "2006-12-01",
          "2007-01-01",
          "2007-02-01",
          "2007-03-01",
          "2007-04-01",
          "2007-05-01",
          "2007-06-01",
          "2007-07-01",
          "2007-08-01",
          "2007-09-01",
          "2007-10-01",
          "2007-11-01",
          "2007-12-01",
          "2008-01-01",
          "2008-02-01",
          "2008-03-01",
          "2008-04-01",
          "2008-05-01",
          "2008-06-01",
          "2008-07-01",
          "2008-08-01",
          "2008-09-01",
          "2008-10-01",
          "2008-11-01",
          "2008-12-01",
          "2009-01-01",
          "2009-02-01",
          "2009-03-01",
          "2009-04-01",
          "2009-05-01",
          "2009-06-01",
          "2009-07-01",
          "2009-08-01",
          "2009-09-01",
          "2009-10-01",
          "2009-11-01",
          "2009-12-01",
          "2010-01-01",
          "2010-02-01",
          "2010-03-01",
          "2010-04-01",
          "2010-05-01",
          "2010-06-01",
          "2010-07-01",
          "2010-08-01",
          "2010-09-01",
          "2010-10-01",
          "2010-11-01",
          "2010-12-01",
          "2011-01-01",
          "2011-02-01",
          "2011-03-01",
          "2011-04-01",
          "2011-05-01",
          "2011-06-01",
          "2011-07-01",
          "2011-08-01",
          "2011-09-01",
          "2011-10-01",
          "2011-11-01",
          "2011-12-01",
          "2012-01-01",
          "2012-02-01",
          "2012-03-01",
          "2012-04-01",
          "2012-05-01",
          "2012-06-01",
          "2012-07-01",
          "2012-08-01",
          "2012-09-01",
          "2012-10-01",
          "2012-11-01",
          "2012-12-01",
          "2013-01-01",
          "2013-02-01",
          "2013-03-01",
          "2013-04-01",
          "2013-05-01",
          "2013-06-01",
          "2013-07-01",
          "2013-08-01",
          "2013-09-01",
          "2013-10-01",
          "2013-11-01",
          "2013-12-01",
          "2014-01-01",
          "2014-02-01",
          "2014-03-01",
          "2014-04-01",
          "2014-05-01",
          "2014-06-01",
          "2014-07-01",
          "2014-08-01",
          "2014-09-01",
          "2014-10-01",
          "2014-11-01",
          "2014-12-01",
          "2015-01-01",
          "2015-02-01",
          "2015-03-01",
          "2015-04-01",
          "2015-05-01",
          "2015-06-01",
          "2015-07-01",
          "2015-08-01",
          "2015-09-01",
          "2015-10-01",
          "2015-11-01",
          "2015-12-01",
          "2016-01-01",
          "2016-02-01",
          "2016-03-01",
          "2016-04-01",
          "2016-05-01",
          "2016-06-01",
          "2016-07-01",
          "2016-08-01",
          "2016-09-01",
          "2016-10-01",
          "2016-11-01",
          "2016-12-01",
          "2017-01-01",
          "2017-02-01",
          "2017-03-01",
          "2017-04-01",
          "2017-05-01",
          "2017-06-01",
          "2017-07-01",
          "2017-08-01",
          "2017-09-01",
          "2017-10-01",
          "2017-11-01",
          "2017-12-01",
          "2018-01-01",
          "2018-02-01",
          "2018-03-01",
          "2018-04-01",
          "2018-05-01",
          "2018-06-01",
          "2018-07-01",
          "2018-08-01",
          "2018-09-01",
          "2018-10-01",
          "2018-11-01",
          "2018-12-01",
          "2019-01-01",
          "2019-02-01",
          "2019-03-01",
          "2019-04-01",
          "2019-05-01",
          "2019-06-01",
          "2019-07-01",
          "2019-08-01",
          "2019-09-01",
          "2019-10-01",
          "2019-11-01",
          "2019-12-01",
          "2020-01-01",
          "2020-02-01",
          "2020-03-01",
          "2020-04-01",
          "2020-05-01",
          "2020-06-01",
          "2020-07-01",
          "2020-08-01",
          "2020-09-01",
          "2020-10-01",
          "2020-11-01",
          "2020-12-01",
          "2021-01-01",
          "2021-02-01",
          "2021-03-01",
          "2021-04-01",
          "2021-05-01",
          "2021-06-01",
          "2021-07-01",
          "2021-08-01",
          "2021-09-01",
          "2021-10-01",
          "2021-11-01",
          "2021-12-01",
          "2022-01-01",
          "2022-02-01",
          "2022-03-01",
          "2022-04-01",
          "2022-05-01",
          "2022-06-01",
          "2022-07-01",
          "2022-08-01",
          "2022-09-01",
          "2022-10-01",
          "2022-11-01",
          "2022-12-01",
          "2023-01-01",
          "2023-02-01",
          "2023-03-01",
          "2023-04-01",
          "2023-05-01",
          "2023-06-01",
          "2023-07-01",
          "2023-08-01",
          "2023-09-01",
          "2023-10-01",
          "2023-11-01",
          "2023-12-01",
          "2024-01-01",
          "2024-02-01",
          "2024-03-01",
          "2024-04-01",
          "2024-05-01",
          "2024-06-01",
          "2024-07-01"
         ],
         "y": [
          0.034778475761413574,
          0.023078203201293945,
          0.02235889434814453,
          0.022922992706298828,
          0.01777482032775879,
          0.020668864250183105,
          0.018260598182678223,
          0.02140343189239502,
          0.02121591567993164,
          0.023360371589660645,
          0.01623821258544922,
          0.019596219062805176,
          0.01733541488647461,
          0.019928932189941406,
          0.01873159408569336,
          0.016286730766296387,
          0.015660762786865234,
          0.01794612407684326,
          0.022464394569396973,
          0.018094420433044434,
          0.01688241958618164,
          0.016697287559509277,
          0.018381237983703613,
          0.01711106300354004,
          0.017327070236206055,
          0.01683342456817627,
          0.015868782997131348,
          0.011652588844299316,
          0.01638948917388916,
          0.011715173721313477,
          0.016999125480651855,
          0.013988375663757324,
          0.013802170753479004,
          0.0129927396774292,
          0.014720797538757324,
          0.018515348434448242,
          0.014591693878173828,
          0.013859987258911133,
          0.013240933418273926,
          0.013601303100585938,
          0.013806819915771484,
          0.01378786563873291,
          0.01764059066772461,
          0.013463139533996582,
          0.015678882598876953,
          0.01649343967437744,
          0.014005780220031738,
          0.017104506492614746,
          0.013589739799499512,
          0.013494610786437988,
          0.013558030128479004,
          0.014973282814025879,
          0.016341447830200195,
          0.014293789863586426,
          0.014578580856323242,
          0.013536453247070312,
          0.01188647747039795,
          0.012122154235839844,
          0.017115354537963867,
          0.011455416679382324,
          0.013138651847839355,
          0.010863423347473145,
          0.01458120346069336,
          0.011002540588378906,
          0.013202071189880371,
          0.01259756088256836,
          0.012933492660522461,
          0.012928962707519531,
          0.01346445083618164,
          0.010578274726867676,
          0.00992429256439209,
          0.011873245239257812,
          0.011528611183166504,
          0.012705802917480469,
          0.010248184204101562,
          0.010179519653320312,
          0.013760924339294434,
          0.011771917343139648,
          0.012479662895202637,
          0.011658787727355957,
          0.012188434600830078,
          0.011672735214233398,
          0.0123215913772583,
          0.010838747024536133,
          0.008649110794067383,
          0.01611638069152832,
          0.011806130409240723,
          0.012093901634216309,
          0.01137077808380127,
          0.012197732925415039,
          0.01312100887298584,
          0.014146804809570312,
          0.01493990421295166,
          0.014476776123046875,
          0.011455535888671875,
          0.013118863105773926,
          0.014934420585632324,
          0.011161208152770996,
          0.010019063949584961,
          0.010805249214172363,
          0.012291193008422852,
          0.012746214866638184,
          0.01259005069732666,
          0.009293079376220703,
          0.010105490684509277,
          0.01294088363647461,
          0.011499881744384766,
          0.011293649673461914,
          0.013589739799499512,
          0.010354399681091309,
          0.011673450469970703,
          0.013870954513549805,
          0.0100020170211792,
          0.008522510528564453,
          0.013939380645751953,
          0.011594653129577637,
          0.011112093925476074,
          0.010865211486816406,
          0.012863397598266602,
          0.012962579727172852,
          0.008742570877075195,
          0.01067972183227539,
          0.010610222816467285,
          0.011134743690490723,
          0.009328126907348633,
          0.009582161903381348,
          0.011780738830566406,
          0.013254523277282715,
          0.009551405906677246,
          0.011553645133972168,
          0.011122703552246094,
          0.009157657623291016,
          0.013054370880126953,
          0.010516762733459473,
          0.011158585548400879,
          0.010418891906738281,
          0.011971712112426758,
          0.010398387908935547,
          0.012353658676147461,
          0.010189175605773926,
          0.01237332820892334,
          0.011533498764038086,
          0.009765386581420898,
          0.012235045433044434,
          0.01000678539276123,
          0.013247489929199219,
          0.011016607284545898,
          0.01079869270324707,
          0.011896491050720215,
          0.010109782218933105,
          0.010909199714660645,
          0.013127326965332031,
          0.011358976364135742,
          0.010608196258544922,
          0.009709000587463379,
          0.012836456298828125,
          0.01041269302368164,
          0.009671211242675781,
          0.009420394897460938,
          0.010711073875427246,
          0.011483192443847656,
          0.009046435356140137,
          0.010728240013122559,
          0.012370109558105469,
          0.010539889335632324,
          0.009953737258911133,
          0.008236408233642578,
          0.008255720138549805,
          0.010145068168640137,
          0.01056206226348877,
          0.01174628734588623,
          0.011937737464904785,
          0.010026931762695312,
          0.012390732765197754,
          0.011607527732849121,
          0.011174798011779785,
          0.009393572807312012,
          0.010783553123474121,
          0.008215665817260742,
          0.009148001670837402,
          0.009660005569458008,
          0.010358333587646484,
          0.009057044982910156,
          0.010700106620788574,
          0.009356498718261719,
          0.009815812110900879,
          0.009565114974975586,
          0.009987354278564453,
          0.01080942153930664,
          0.009072661399841309,
          0.010986328125,
          0.009809017181396484,
          0.01063692569732666,
          0.010121345520019531,
          0.01073765754699707,
          0.011996746063232422,
          0.0101318359375,
          0.008666276931762695,
          0.00941622257232666,
          0.009806275367736816,
          0.009966611862182617,
          0.009570002555847168,
          0.010856389999389648,
          0.008346199989318848,
          0.0112762451171875,
          0.011912107467651367,
          0.00869441032409668,
          0.010955214500427246,
          0.011021614074707031,
          0.010923027992248535,
          0.00872945785522461,
          0.008719205856323242,
          0.009598970413208008,
          0.008689522743225098,
          0.009011507034301758,
          0.008630633354187012,
          0.011075854301452637,
          0.007987499237060547,
          0.008118748664855957,
          0.008828401565551758,
          0.008942604064941406,
          0.008999228477478027,
          0.007976412773132324,
          0.010308384895324707,
          0.009188532829284668,
          0.0080031156539917,
          0.007686734199523926,
          0.008226156234741211,
          0.008762121200561523,
          0.009750127792358398,
          0.008450746536254883,
          0.009943723678588867,
          0.010255217552185059,
          0.008908987045288086,
          0.00802147388458252,
          0.009162187576293945,
          0.007997274398803711,
          0.009532809257507324,
          0.010573863983154297,
          0.006557106971740723,
          0.008010625839233398,
          0.008902668952941895,
          0.007886052131652832,
          0.007123827934265137,
          0.008389472961425781,
          0.008424520492553711,
          0.007038712501525879,
          0.008739590644836426,
          0.009532809257507324,
          0.00817883014678955,
          0.007025957107543945,
          0.008398056030273438,
          0.008716106414794922,
          0.007841229438781738,
          0.007172822952270508,
          0.006953001022338867,
          0.0074242353439331055,
          0.009014010429382324,
          0.0079423189163208,
          0.008540749549865723,
          0.0066803693771362305,
          0.006932377815246582,
          0.006079435348510742,
          0.006701350212097168,
          0.006487250328063965,
          0.0069855451583862305,
          0.006168723106384277,
          0.006219029426574707,
          0.007388710975646973,
          0.006324052810668945,
          0.005191683769226074,
          0.007002592086791992,
          0.005385875701904297,
          0.00514531135559082,
          0.005986452102661133,
          0.005655765533447266,
          0.00518953800201416,
          0.005098700523376465,
          0.005234122276306152,
          0.004715442657470703,
          0.005283951759338379,
          0.004736661911010742,
          0.004816412925720215,
          0.004389047622680664
         ],
         "type": "scatter"
        },
        {
         "line": {
          "color": "green",
          "width": 2
         },
         "mode": "lines",
         "name": "Test returns",
         "x": [
          "2024-07-01",
          "2024-08-01"
         ],
         "y": [
          0.004389047622680664,
          0.0037953853607177734
         ],
         "type": "scatter"
        }
       ],
       "layout": {
        "template": {
         "data": {
          "barpolar": [
           {
            "marker": {
             "line": {
              "color": "white",
              "width": 0.5
             },
             "pattern": {
              "fillmode": "overlay",
              "size": 10,
              "solidity": 0.2
             }
            },
            "type": "barpolar"
           }
          ],
          "bar": [
           {
            "error_x": {
             "color": "#2a3f5f"
            },
            "error_y": {
             "color": "#2a3f5f"
            },
            "marker": {
             "line": {
              "color": "white",
              "width": 0.5
             },
             "pattern": {
              "fillmode": "overlay",
              "size": 10,
              "solidity": 0.2
             }
            },
            "type": "bar"
           }
          ],
          "carpet": [
           {
            "aaxis": {
             "endlinecolor": "#2a3f5f",
             "gridcolor": "#C8D4E3",
             "linecolor": "#C8D4E3",
             "minorgridcolor": "#C8D4E3",
             "startlinecolor": "#2a3f5f"
            },
            "baxis": {
             "endlinecolor": "#2a3f5f",
             "gridcolor": "#C8D4E3",
             "linecolor": "#C8D4E3",
             "minorgridcolor": "#C8D4E3",
             "startlinecolor": "#2a3f5f"
            },
            "type": "carpet"
           }
          ],
          "choropleth": [
           {
            "colorbar": {
             "outlinewidth": 0,
             "ticks": ""
            },
            "type": "choropleth"
           }
          ],
          "contourcarpet": [
           {
            "colorbar": {
             "outlinewidth": 0,
             "ticks": ""
            },
            "type": "contourcarpet"
           }
          ],
          "contour": [
           {
            "colorbar": {
             "outlinewidth": 0,
             "ticks": ""
            },
            "colorscale": [
             [
              0.0,
              "#0d0887"
             ],
             [
              0.1111111111111111,
              "#46039f"
             ],
             [
              0.2222222222222222,
              "#7201a8"
             ],
             [
              0.3333333333333333,
              "#9c179e"
             ],
             [
              0.4444444444444444,
              "#bd3786"
             ],
             [
              0.5555555555555556,
              "#d8576b"
             ],
             [
              0.6666666666666666,
              "#ed7953"
             ],
             [
              0.7777777777777778,
              "#fb9f3a"
             ],
             [
              0.8888888888888888,
              "#fdca26"
             ],
             [
              1.0,
              "#f0f921"
             ]
            ],
            "type": "contour"
           }
          ],
          "heatmapgl": [
           {
            "colorbar": {
             "outlinewidth": 0,
             "ticks": ""
            },
            "colorscale": [
             [
              0.0,
              "#0d0887"
             ],
             [
              0.1111111111111111,
              "#46039f"
             ],
             [
              0.2222222222222222,
              "#7201a8"
             ],
             [
              0.3333333333333333,
              "#9c179e"
             ],
             [
              0.4444444444444444,
              "#bd3786"
             ],
             [
              0.5555555555555556,
              "#d8576b"
             ],
             [
              0.6666666666666666,
              "#ed7953"
             ],
             [
              0.7777777777777778,
              "#fb9f3a"
             ],
             [
              0.8888888888888888,
              "#fdca26"
             ],
             [
              1.0,
              "#f0f921"
             ]
            ],
            "type": "heatmapgl"
           }
          ],
          "heatmap": [
           {
            "colorbar": {
             "outlinewidth": 0,
             "ticks": ""
            },
            "colorscale": [
             [
              0.0,
              "#0d0887"
             ],
             [
              0.1111111111111111,
              "#46039f"
             ],
             [
              0.2222222222222222,
              "#7201a8"
             ],
             [
              0.3333333333333333,
              "#9c179e"
             ],
             [
              0.4444444444444444,
              "#bd3786"
             ],
             [
              0.5555555555555556,
              "#d8576b"
             ],
             [
              0.6666666666666666,
              "#ed7953"
             ],
             [
              0.7777777777777778,
              "#fb9f3a"
             ],
             [
              0.8888888888888888,
              "#fdca26"
             ],
             [
              1.0,
              "#f0f921"
             ]
            ],
            "type": "heatmap"
           }
          ],
          "histogram2dcontour": [
           {
            "colorbar": {
             "outlinewidth": 0,
             "ticks": ""
            },
            "colorscale": [
             [
              0.0,
              "#0d0887"
             ],
             [
              0.1111111111111111,
              "#46039f"
             ],
             [
              0.2222222222222222,
              "#7201a8"
             ],
             [
              0.3333333333333333,
              "#9c179e"
             ],
             [
              0.4444444444444444,
              "#bd3786"
             ],
             [
              0.5555555555555556,
              "#d8576b"
             ],
             [
              0.6666666666666666,
              "#ed7953"
             ],
             [
              0.7777777777777778,
              "#fb9f3a"
             ],
             [
              0.8888888888888888,
              "#fdca26"
             ],
             [
              1.0,
              "#f0f921"
             ]
            ],
            "type": "histogram2dcontour"
           }
          ],
          "histogram2d": [
           {
            "colorbar": {
             "outlinewidth": 0,
             "ticks": ""
            },
            "colorscale": [
             [
              0.0,
              "#0d0887"
             ],
             [
              0.1111111111111111,
              "#46039f"
             ],
             [
              0.2222222222222222,
              "#7201a8"
             ],
             [
              0.3333333333333333,
              "#9c179e"
             ],
             [
              0.4444444444444444,
              "#bd3786"
             ],
             [
              0.5555555555555556,
              "#d8576b"
             ],
             [
              0.6666666666666666,
              "#ed7953"
             ],
             [
              0.7777777777777778,
              "#fb9f3a"
             ],
             [
              0.8888888888888888,
              "#fdca26"
             ],
             [
              1.0,
              "#f0f921"
             ]
            ],
            "type": "histogram2d"
           }
          ],
          "histogram": [
           {
            "marker": {
             "pattern": {
              "fillmode": "overlay",
              "size": 10,
              "solidity": 0.2
             }
            },
            "type": "histogram"
           }
          ],
          "mesh3d": [
           {
            "colorbar": {
             "outlinewidth": 0,
             "ticks": ""
            },
            "type": "mesh3d"
           }
          ],
          "parcoords": [
           {
            "line": {
             "colorbar": {
              "outlinewidth": 0,
              "ticks": ""
             }
            },
            "type": "parcoords"
           }
          ],
          "pie": [
           {
            "automargin": true,
            "type": "pie"
           }
          ],
          "scatter3d": [
           {
            "line": {
             "colorbar": {
              "outlinewidth": 0,
              "ticks": ""
             }
            },
            "marker": {
             "colorbar": {
              "outlinewidth": 0,
              "ticks": ""
             }
            },
            "type": "scatter3d"
           }
          ],
          "scattercarpet": [
           {
            "marker": {
             "colorbar": {
              "outlinewidth": 0,
              "ticks": ""
             }
            },
            "type": "scattercarpet"
           }
          ],
          "scattergeo": [
           {
            "marker": {
             "colorbar": {
              "outlinewidth": 0,
              "ticks": ""
             }
            },
            "type": "scattergeo"
           }
          ],
          "scattergl": [
           {
            "marker": {
             "colorbar": {
              "outlinewidth": 0,
              "ticks": ""
             }
            },
            "type": "scattergl"
           }
          ],
          "scattermapbox": [
           {
            "marker": {
             "colorbar": {
              "outlinewidth": 0,
              "ticks": ""
             }
            },
            "type": "scattermapbox"
           }
          ],
          "scatterpolargl": [
           {
            "marker": {
             "colorbar": {
              "outlinewidth": 0,
              "ticks": ""
             }
            },
            "type": "scatterpolargl"
           }
          ],
          "scatterpolar": [
           {
            "marker": {
             "colorbar": {
              "outlinewidth": 0,
              "ticks": ""
             }
            },
            "type": "scatterpolar"
           }
          ],
          "scatter": [
           {
            "fillpattern": {
             "fillmode": "overlay",
             "size": 10,
             "solidity": 0.2
            },
            "type": "scatter"
           }
          ],
          "scatterternary": [
           {
            "marker": {
             "colorbar": {
              "outlinewidth": 0,
              "ticks": ""
             }
            },
            "type": "scatterternary"
           }
          ],
          "surface": [
           {
            "colorbar": {
             "outlinewidth": 0,
             "ticks": ""
            },
            "colorscale": [
             [
              0.0,
              "#0d0887"
             ],
             [
              0.1111111111111111,
              "#46039f"
             ],
             [
              0.2222222222222222,
              "#7201a8"
             ],
             [
              0.3333333333333333,
              "#9c179e"
             ],
             [
              0.4444444444444444,
              "#bd3786"
             ],
             [
              0.5555555555555556,
              "#d8576b"
             ],
             [
              0.6666666666666666,
              "#ed7953"
             ],
             [
              0.7777777777777778,
              "#fb9f3a"
             ],
             [
              0.8888888888888888,
              "#fdca26"
             ],
             [
              1.0,
              "#f0f921"
             ]
            ],
            "type": "surface"
           }
          ],
          "table": [
           {
            "cells": {
             "fill": {
              "color": "#EBF0F8"
             },
             "line": {
              "color": "white"
             }
            },
            "header": {
             "fill": {
              "color": "#C8D4E3"
             },
             "line": {
              "color": "white"
             }
            },
            "type": "table"
           }
          ]
         },
         "layout": {
          "annotationdefaults": {
           "arrowcolor": "#2a3f5f",
           "arrowhead": 0,
           "arrowwidth": 1
          },
          "autotypenumbers": "strict",
          "coloraxis": {
           "colorbar": {
            "outlinewidth": 0,
            "ticks": ""
           }
          },
          "colorscale": {
           "diverging": [
            [
             0,
             "#8e0152"
            ],
            [
             0.1,
             "#c51b7d"
            ],
            [
             0.2,
             "#de77ae"
            ],
            [
             0.3,
             "#f1b6da"
            ],
            [
             0.4,
             "#fde0ef"
            ],
            [
             0.5,
             "#f7f7f7"
            ],
            [
             0.6,
             "#e6f5d0"
            ],
            [
             0.7,
             "#b8e186"
            ],
            [
             0.8,
             "#7fbc41"
            ],
            [
             0.9,
             "#4d9221"
            ],
            [
             1,
             "#276419"
            ]
           ],
           "sequential": [
            [
             0.0,
             "#0d0887"
            ],
            [
             0.1111111111111111,
             "#46039f"
            ],
            [
             0.2222222222222222,
             "#7201a8"
            ],
            [
             0.3333333333333333,
             "#9c179e"
            ],
            [
             0.4444444444444444,
             "#bd3786"
            ],
            [
             0.5555555555555556,
             "#d8576b"
            ],
            [
             0.6666666666666666,
             "#ed7953"
            ],
            [
             0.7777777777777778,
             "#fb9f3a"
            ],
            [
             0.8888888888888888,
             "#fdca26"
            ],
            [
             1.0,
             "#f0f921"
            ]
           ],
           "sequentialminus": [
            [
             0.0,
             "#0d0887"
            ],
            [
             0.1111111111111111,
             "#46039f"
            ],
            [
             0.2222222222222222,
             "#7201a8"
            ],
            [
             0.3333333333333333,
             "#9c179e"
            ],
            [
             0.4444444444444444,
             "#bd3786"
            ],
            [
             0.5555555555555556,
             "#d8576b"
            ],
            [
             0.6666666666666666,
             "#ed7953"
            ],
            [
             0.7777777777777778,
             "#fb9f3a"
            ],
            [
             0.8888888888888888,
             "#fdca26"
            ],
            [
             1.0,
             "#f0f921"
            ]
           ]
          },
          "colorway": [
           "#636efa",
           "#EF553B",
           "#00cc96",
           "#ab63fa",
           "#FFA15A",
           "#19d3f3",
           "#FF6692",
           "#B6E880",
           "#FF97FF",
           "#FECB52"
          ],
          "font": {
           "color": "#2a3f5f"
          },
          "geo": {
           "bgcolor": "white",
           "lakecolor": "white",
           "landcolor": "white",
           "showlakes": true,
           "showland": true,
           "subunitcolor": "#C8D4E3"
          },
          "hoverlabel": {
           "align": "left"
          },
          "hovermode": "closest",
          "mapbox": {
           "style": "light"
          },
          "paper_bgcolor": "white",
          "plot_bgcolor": "white",
          "polar": {
           "angularaxis": {
            "gridcolor": "#EBF0F8",
            "linecolor": "#EBF0F8",
            "ticks": ""
           },
           "bgcolor": "white",
           "radialaxis": {
            "gridcolor": "#EBF0F8",
            "linecolor": "#EBF0F8",
            "ticks": ""
           }
          },
          "scene": {
           "xaxis": {
            "backgroundcolor": "white",
            "gridcolor": "#DFE8F3",
            "gridwidth": 2,
            "linecolor": "#EBF0F8",
            "showbackground": true,
            "ticks": "",
            "zerolinecolor": "#EBF0F8"
           },
           "yaxis": {
            "backgroundcolor": "white",
            "gridcolor": "#DFE8F3",
            "gridwidth": 2,
            "linecolor": "#EBF0F8",
            "showbackground": true,
            "ticks": "",
            "zerolinecolor": "#EBF0F8"
           },
           "zaxis": {
            "backgroundcolor": "white",
            "gridcolor": "#DFE8F3",
            "gridwidth": 2,
            "linecolor": "#EBF0F8",
            "showbackground": true,
            "ticks": "",
            "zerolinecolor": "#EBF0F8"
           }
          },
          "shapedefaults": {
           "line": {
            "color": "#2a3f5f"
           }
          },
          "ternary": {
           "aaxis": {
            "gridcolor": "#DFE8F3",
            "linecolor": "#A2B1C6",
            "ticks": ""
           },
           "baxis": {
            "gridcolor": "#DFE8F3",
            "linecolor": "#A2B1C6",
            "ticks": ""
           },
           "bgcolor": "white",
           "caxis": {
            "gridcolor": "#DFE8F3",
            "linecolor": "#A2B1C6",
            "ticks": ""
           }
          },
          "title": {
           "x": 0.05
          },
          "xaxis": {
           "automargin": true,
           "gridcolor": "#EBF0F8",
           "linecolor": "#EBF0F8",
           "ticks": "",
           "title": {
            "standoff": 15
           },
           "zerolinecolor": "#EBF0F8",
           "zerolinewidth": 2
          },
          "yaxis": {
           "automargin": true,
           "gridcolor": "#EBF0F8",
           "linecolor": "#EBF0F8",
           "ticks": "",
           "title": {
            "standoff": 15
           },
           "zerolinecolor": "#EBF0F8",
           "zerolinewidth": 2
          }
         }
        },
        "shapes": [
         {
          "line": {
           "color": "red",
           "dash": "dash",
           "width": 1
          },
          "type": "line",
          "x0": "2024-07-01",
          "x1": "2024-07-01",
          "xref": "x",
          "y0": 0,
          "y1": 1,
          "yref": "y domain"
         }
        ],
        "yaxis": {
         "title": {
          "text": "Day closing return (%)"
         },
         "tickformat": ".0%",
         "range": [
          -0.25,
          0.6
         ]
        },
        "title": {
         "text": "1 Month Prediction vs Actual Plot"
        },
        "xaxis": {
         "title": {
          "text": "Date"
         }
        },
        "legend": {
         "title": {
          "text": "Legend"
         }
        }
       },
       "config": {
        "plotlyServerURL": "https://plot.ly"
       }
      },
      "text/html": [
       "<div>                            <div id=\"d85801b1-09bc-4096-9f9d-65c94bc634b5\" class=\"plotly-graph-div\" style=\"height:525px; width:100%;\"></div>            <script type=\"text/javascript\">                require([\"plotly\"], function(Plotly) {                    window.PLOTLYENV=window.PLOTLYENV || {};                                    if (document.getElementById(\"d85801b1-09bc-4096-9f9d-65c94bc634b5\")) {                    Plotly.newPlot(                        \"d85801b1-09bc-4096-9f9d-65c94bc634b5\",                        [{\"line\":{\"color\":\"#5c839f\",\"width\":2},\"mode\":\"lines\",\"name\":\"Actual returns\",\"x\":[\"2000-12-01\",\"2001-01-01\",\"2001-02-01\",\"2001-03-01\",\"2001-04-01\",\"2001-05-01\",\"2001-06-01\",\"2001-07-01\",\"2001-08-01\",\"2001-09-01\",\"2001-10-01\",\"2001-11-01\",\"2001-12-01\",\"2002-01-01\",\"2002-02-01\",\"2002-03-01\",\"2002-04-01\",\"2002-05-01\",\"2002-06-01\",\"2002-07-01\",\"2002-08-01\",\"2002-09-01\",\"2002-10-01\",\"2002-11-01\",\"2002-12-01\",\"2003-01-01\",\"2003-02-01\",\"2003-03-01\",\"2003-04-01\",\"2003-05-01\",\"2003-06-01\",\"2003-07-01\",\"2003-08-01\",\"2003-09-01\",\"2003-10-01\",\"2003-11-01\",\"2003-12-01\",\"2004-01-01\",\"2004-02-01\",\"2004-03-01\",\"2004-04-01\",\"2004-05-01\",\"2004-06-01\",\"2004-07-01\",\"2004-08-01\",\"2004-09-01\",\"2004-10-01\",\"2004-11-01\",\"2004-12-01\",\"2005-01-01\",\"2005-02-01\",\"2005-03-01\",\"2005-04-01\",\"2005-05-01\",\"2005-06-01\",\"2005-07-01\",\"2005-08-01\",\"2005-09-01\",\"2005-10-01\",\"2005-11-01\",\"2005-12-01\",\"2006-01-01\",\"2006-02-01\",\"2006-03-01\",\"2006-04-01\",\"2006-05-01\",\"2006-06-01\",\"2006-07-01\",\"2006-08-01\",\"2006-09-01\",\"2006-10-01\",\"2006-11-01\",\"2006-12-01\",\"2007-01-01\",\"2007-02-01\",\"2007-03-01\",\"2007-04-01\",\"2007-05-01\",\"2007-06-01\",\"2007-07-01\",\"2007-08-01\",\"2007-09-01\",\"2007-10-01\",\"2007-11-01\",\"2007-12-01\",\"2008-01-01\",\"2008-02-01\",\"2008-03-01\",\"2008-04-01\",\"2008-05-01\",\"2008-06-01\",\"2008-07-01\",\"2008-08-01\",\"2008-09-01\",\"2008-10-01\",\"2008-11-01\",\"2008-12-01\",\"2009-01-01\",\"2009-02-01\",\"2009-03-01\",\"2009-04-01\",\"2009-05-01\",\"2009-06-01\",\"2009-07-01\",\"2009-08-01\",\"2009-09-01\",\"2009-10-01\",\"2009-11-01\",\"2009-12-01\",\"2010-01-01\",\"2010-02-01\",\"2010-03-01\",\"2010-04-01\",\"2010-05-01\",\"2010-06-01\",\"2010-07-01\",\"2010-08-01\",\"2010-09-01\",\"2010-10-01\",\"2010-11-01\",\"2010-12-01\",\"2011-01-01\",\"2011-02-01\",\"2011-03-01\",\"2011-04-01\",\"2011-05-01\",\"2011-06-01\",\"2011-07-01\",\"2011-08-01\",\"2011-09-01\",\"2011-10-01\",\"2011-11-01\",\"2011-12-01\",\"2012-01-01\",\"2012-02-01\",\"2012-03-01\",\"2012-04-01\",\"2012-05-01\",\"2012-06-01\",\"2012-07-01\",\"2012-08-01\",\"2012-09-01\",\"2012-10-01\",\"2012-11-01\",\"2012-12-01\",\"2013-01-01\",\"2013-02-01\",\"2013-03-01\",\"2013-04-01\",\"2013-05-01\",\"2013-06-01\",\"2013-07-01\",\"2013-08-01\",\"2013-09-01\",\"2013-10-01\",\"2013-11-01\",\"2013-12-01\",\"2014-01-01\",\"2014-02-01\",\"2014-03-01\",\"2014-04-01\",\"2014-05-01\",\"2014-06-01\",\"2014-07-01\",\"2014-08-01\",\"2014-09-01\",\"2014-10-01\",\"2014-11-01\",\"2014-12-01\",\"2015-01-01\",\"2015-02-01\",\"2015-03-01\",\"2015-04-01\",\"2015-05-01\",\"2015-06-01\",\"2015-07-01\",\"2015-08-01\",\"2015-09-01\",\"2015-10-01\",\"2015-11-01\",\"2015-12-01\",\"2016-01-01\",\"2016-02-01\",\"2016-03-01\",\"2016-04-01\",\"2016-05-01\",\"2016-06-01\",\"2016-07-01\",\"2016-08-01\",\"2016-09-01\",\"2016-10-01\",\"2016-11-01\",\"2016-12-01\",\"2017-01-01\",\"2017-02-01\",\"2017-03-01\",\"2017-04-01\",\"2017-05-01\",\"2017-06-01\",\"2017-07-01\",\"2017-08-01\",\"2017-09-01\",\"2017-10-01\",\"2017-11-01\",\"2017-12-01\",\"2018-01-01\",\"2018-02-01\",\"2018-03-01\",\"2018-04-01\",\"2018-05-01\",\"2018-06-01\",\"2018-07-01\",\"2018-08-01\",\"2018-09-01\",\"2018-10-01\",\"2018-11-01\",\"2018-12-01\",\"2019-01-01\",\"2019-02-01\",\"2019-03-01\",\"2019-04-01\",\"2019-05-01\",\"2019-06-01\",\"2019-07-01\",\"2019-08-01\",\"2019-09-01\",\"2019-10-01\",\"2019-11-01\",\"2019-12-01\",\"2020-01-01\",\"2020-02-01\",\"2020-03-01\",\"2020-04-01\",\"2020-05-01\",\"2020-06-01\",\"2020-07-01\",\"2020-08-01\",\"2020-09-01\",\"2020-10-01\",\"2020-11-01\",\"2020-12-01\",\"2021-01-01\",\"2021-02-01\",\"2021-03-01\",\"2021-04-01\",\"2021-05-01\",\"2021-06-01\",\"2021-07-01\",\"2021-08-01\",\"2021-09-01\",\"2021-10-01\",\"2021-11-01\",\"2021-12-01\",\"2022-01-01\",\"2022-02-01\",\"2022-03-01\",\"2022-04-01\",\"2022-05-01\",\"2022-06-01\",\"2022-07-01\",\"2022-08-01\",\"2022-09-01\",\"2022-10-01\",\"2022-11-01\",\"2022-12-01\",\"2023-01-01\",\"2023-02-01\",\"2023-03-01\",\"2023-04-01\",\"2023-05-01\",\"2023-06-01\",\"2023-07-01\",\"2023-08-01\",\"2023-09-01\",\"2023-10-01\",\"2023-11-01\",\"2023-12-01\",\"2024-01-01\",\"2024-02-01\",\"2024-03-01\",\"2024-04-01\",\"2024-05-01\",\"2024-06-01\",\"2024-07-01\",\"2024-08-01\"],\"y\":[0.02743993993994054,0.038025525525524406,-0.009414414414414263,0.22023273273273247,0.031974474474474324,-0.00259009009009048,-0.020735735735735616,0.033678678678677354,-0.003978978978978809,0.0299774774774777,-0.007777777777777883,-0.011524024024024082,-0.026936936936937994,0.01249999999999929,0.038400900900901425,-0.02846096096096018,-0.012762762762762891,0.07272522522522085,0.015735735735736167,0.001644144144144155,-0.026996996996994982,-0.030915915915913916,-0.09028528528528412,0.05090840840840727,0.0509159159159156,0.018573573573573476,-0.005405405405404129,0.012072072072070394,0.05409159159158938,0.009024024024022914,0.00522522522522495,-0.05081831831831807,-0.06252252252252144,-0.011471471471471095,-0.04330330330330234,0.010465465465465451,0.058453453453451765,-0.03432432432432431,-0.01071321321321217,0.003100600600600245,-0.0021696696696679174,0.06228978978978872,0.07175675675675475,0.03475225225225054,0.05778528528528293,0.06289039039038924,0.004909909909908583,0.05349099099098753,0.004924924924925467,0.01909159159158902,0.032132132132131064,0.01701951951951819,0.05260510510510441,0.00787537537537375,-0.0060810810810809635,0.039166666666664574,-0.03876126126125934,-0.006861861861861107,0.005180180180180738,0.004489489489490461,0.03232732732732635,0.05847597597597187,0.008250750750750768,0.024947447447445814,-0.0037087087087082082,-0.022267267267264912,0.03677177177176838,0.024557057057054577,0.040442942942939375,-0.0006981981981986074,0.01872372372372233,0.07061561561561569,0.05157657657657366,0.02451201201201103,0.04399399399399351,0.0172822822822829,0.028603603603601258,0.0011486486486493863,-0.03011261261261,-0.0018618618618618799,-0.01278528528528522,0.028018018018014734,0.014181681681680214,0.024466966966965265,0.027897897897896762,0.030930930930927136,0.03999999999999804,0.0035285285285273638,0.0018993993994007585,0.021418918918917118,0.02924174174173988,-0.01469969969969842,-0.03518768768768399,-0.010007507507506563,0.0024024024024018598,0.019632132132131774,-0.05572822822822687,-0.009954954954954243,-0.06066066066065812,-0.010435435435435347,-0.014969969969969021,0.03434684684684575,0.027875375375374656,-0.07102852852852792,-0.0025300300300311607,0.01765015015014937,-0.07436936936936767,-0.16220720720720616,-0.05918918918918892,0.04562312312312233,-0.056186186186185094,-0.06329579579579647,0.07671171171171154,0.15475225225225198,0.04527027027027031,0.03893393393393363,0.07099849849849749,0.05655405405405389,0.03070570570570519,-0.021951951951950766,0.0010360360360355259,0.05536036036035763,-0.013551051051049257,0.020743243243242837,0.06338588588588245,0.04948948948948795,-0.05758258258257942,-0.040217717717715096,0.040165165165163996,-0.03746996996996865,0.07373123123122904,0.0181606606606608,0.029774774774774082,0.06351351351350831,0.01366366366366445,0.03365615615615347,-0.01171171171171026,0.02272522522522369,-0.0021996996996992424,-0.0004279279279268966,-0.018408408408405852,-0.05390390390390232,-0.049354354354354535,0.07704954954954912,-0.014466966966965367,0.005720720720719719,0.056246246246242304,0.04385885885885599,0.03139639639639191,-0.005975975975974102,-0.05990990990990752,0.033543543543540055,-0.0019219219219228645,0.021854354354353456,0.016599099099097403,0.002957957957956614,0.017342342342340444,0.032770270270266355,0.06512762762762248,0.025345345345343828,0.04521021021020588,0.03481231231231119,0.018280780780780104,-0.009894894894894812,0.03924924924924866,-0.009249249249246638,0.05455705705705238,0.028130630630627262,0.02668168168168039,0.022522522522519184,-0.013288288288286432,0.030075075075072455,0.0034009009009017266,-0.014481981981981806,0.020037537537534345,0.03023273273272986,-0.013093093093094033,0.02825825825825312,-0.01791291291291064,0.03218468468468272,0.04343843843843276,0.015833333333329813,0.002282282282282333,0.04680930930930782,0.012477477477475851,0.00021771771771783577,0.0293018018017992,-0.007530030030026724,0.015135135135132538,-0.04286786786786334,-0.025360360360358603,0.058055555555554195,0.02036786786786493,-0.020202702702699193,-0.05234234234234081,-0.003768768768769082,0.06146396396395826,0.0017117117117124714,0.02473723723723631,-0.028280780780780446,0.058536036036028305,0.009331831831831616,0.011493993993994867,-0.004587087087085662,0.04523273273273265,0.03180180180179559,0.011876876876876663,0.023596096096092145,0.009294294294294847,0.01928678678678275,0.017432432432431755,0.013648648648647344,0.016336336336334467,0.005165165165165186,0.03681681681681481,0.024496996996993925,0.029166666666663676,0.011771771771771133,0.025037537537536014,-0.02737237237236656,-0.0007732732732720349,0.021028528528523216,0.03003003003002891,0.00960210210210044,0.015405405405403583,0.023415915915913077,-0.0036411411411424455,-0.06527777777777555,0.018873873873872515,-0.0894669669669641,0.09368618618618263,0.041291291291286614,0.008566066066063804,0.043918918918915084,-0.05617867867867832,0.04983483483482942,0.020818318318316154,-0.026448948948949114,0.037800300300294465,0.032867867867863776,0.034909909909907055,0.02680930930930736,-0.014016516516515032,-0.09361111111110709,-0.18348348348348387,0.1288888888888864,0.0715540540540538,0.02461711711711967,0.01599099099099388,0.0644519519519513,-0.006869369369366662,-0.005548048048042986,0.14040540540540425,0.05409909909909216,0.02852852852853105,0.0521096096096072,0.04906156156155683,0.03810810810810494,0.01629129129128959,0.016869369369369114,0.011163663663662282,0.02643393393393012,-0.02038288288288037,0.03498498498498348,-0.02757507507507051,0.045360360360353846,-0.07055555555555282,-0.012312312312310003,0.007882882882881193,-0.048010510510507864,0.005157657657655745,-0.06768018018017974,0.09111111111110559,-0.029324324324321083,-0.09201201201200937,0.08337837837837592,0.05950450450450018,-0.04256756756756219,0.08824324324324206,-0.005262762762760831,-0.012912912912911412,0.005990990990987433,-0.006478978978976202,0.062995495495489,0.0376951951951896,-0.019376876876874283,-0.03429429429428832,-0.04720720720720273,0.08611111111110614,0.07102852852852637,-0.0033783783783778443,0.027439939939941205,0.033686186186181466,-0.03638888888888547,0.03388888888888686,0.0002852852852868182,0.052469969969967556,0.002424924924925298,-0.03054054054053601],\"type\":\"scatter\"},{\"line\":{\"color\":\"red\",\"width\":2},\"mode\":\"lines\",\"name\":\"Train returns\",\"x\":[\"2000-12-01\",\"2001-01-01\",\"2001-02-01\",\"2001-03-01\",\"2001-04-01\",\"2001-05-01\",\"2001-06-01\",\"2001-07-01\",\"2001-08-01\",\"2001-09-01\",\"2001-10-01\",\"2001-11-01\",\"2001-12-01\",\"2002-01-01\",\"2002-02-01\",\"2002-03-01\",\"2002-04-01\",\"2002-05-01\",\"2002-06-01\",\"2002-07-01\",\"2002-08-01\",\"2002-09-01\",\"2002-10-01\",\"2002-11-01\",\"2002-12-01\",\"2003-01-01\",\"2003-02-01\",\"2003-03-01\",\"2003-04-01\",\"2003-05-01\",\"2003-06-01\",\"2003-07-01\",\"2003-08-01\",\"2003-09-01\",\"2003-10-01\",\"2003-11-01\",\"2003-12-01\",\"2004-01-01\",\"2004-02-01\",\"2004-03-01\",\"2004-04-01\",\"2004-05-01\",\"2004-06-01\",\"2004-07-01\",\"2004-08-01\",\"2004-09-01\",\"2004-10-01\",\"2004-11-01\",\"2004-12-01\",\"2005-01-01\",\"2005-02-01\",\"2005-03-01\",\"2005-04-01\",\"2005-05-01\",\"2005-06-01\",\"2005-07-01\",\"2005-08-01\",\"2005-09-01\",\"2005-10-01\",\"2005-11-01\",\"2005-12-01\",\"2006-01-01\",\"2006-02-01\",\"2006-03-01\",\"2006-04-01\",\"2006-05-01\",\"2006-06-01\",\"2006-07-01\",\"2006-08-01\",\"2006-09-01\",\"2006-10-01\",\"2006-11-01\",\"2006-12-01\",\"2007-01-01\",\"2007-02-01\",\"2007-03-01\",\"2007-04-01\",\"2007-05-01\",\"2007-06-01\",\"2007-07-01\",\"2007-08-01\",\"2007-09-01\",\"2007-10-01\",\"2007-11-01\",\"2007-12-01\",\"2008-01-01\",\"2008-02-01\",\"2008-03-01\",\"2008-04-01\",\"2008-05-01\",\"2008-06-01\",\"2008-07-01\",\"2008-08-01\",\"2008-09-01\",\"2008-10-01\",\"2008-11-01\",\"2008-12-01\",\"2009-01-01\",\"2009-02-01\",\"2009-03-01\",\"2009-04-01\",\"2009-05-01\",\"2009-06-01\",\"2009-07-01\",\"2009-08-01\",\"2009-09-01\",\"2009-10-01\",\"2009-11-01\",\"2009-12-01\",\"2010-01-01\",\"2010-02-01\",\"2010-03-01\",\"2010-04-01\",\"2010-05-01\",\"2010-06-01\",\"2010-07-01\",\"2010-08-01\",\"2010-09-01\",\"2010-10-01\",\"2010-11-01\",\"2010-12-01\",\"2011-01-01\",\"2011-02-01\",\"2011-03-01\",\"2011-04-01\",\"2011-05-01\",\"2011-06-01\",\"2011-07-01\",\"2011-08-01\",\"2011-09-01\",\"2011-10-01\",\"2011-11-01\",\"2011-12-01\",\"2012-01-01\",\"2012-02-01\",\"2012-03-01\",\"2012-04-01\",\"2012-05-01\",\"2012-06-01\",\"2012-07-01\",\"2012-08-01\",\"2012-09-01\",\"2012-10-01\",\"2012-11-01\",\"2012-12-01\",\"2013-01-01\",\"2013-02-01\",\"2013-03-01\",\"2013-04-01\",\"2013-05-01\",\"2013-06-01\",\"2013-07-01\",\"2013-08-01\",\"2013-09-01\",\"2013-10-01\",\"2013-11-01\",\"2013-12-01\",\"2014-01-01\",\"2014-02-01\",\"2014-03-01\",\"2014-04-01\",\"2014-05-01\",\"2014-06-01\",\"2014-07-01\",\"2014-08-01\",\"2014-09-01\",\"2014-10-01\",\"2014-11-01\",\"2014-12-01\",\"2015-01-01\",\"2015-02-01\",\"2015-03-01\",\"2015-04-01\",\"2015-05-01\",\"2015-06-01\",\"2015-07-01\",\"2015-08-01\",\"2015-09-01\",\"2015-10-01\",\"2015-11-01\",\"2015-12-01\",\"2016-01-01\",\"2016-02-01\",\"2016-03-01\",\"2016-04-01\",\"2016-05-01\",\"2016-06-01\",\"2016-07-01\",\"2016-08-01\",\"2016-09-01\",\"2016-10-01\",\"2016-11-01\",\"2016-12-01\",\"2017-01-01\",\"2017-02-01\",\"2017-03-01\",\"2017-04-01\",\"2017-05-01\",\"2017-06-01\",\"2017-07-01\",\"2017-08-01\",\"2017-09-01\",\"2017-10-01\",\"2017-11-01\",\"2017-12-01\",\"2018-01-01\",\"2018-02-01\",\"2018-03-01\",\"2018-04-01\",\"2018-05-01\",\"2018-06-01\",\"2018-07-01\",\"2018-08-01\",\"2018-09-01\",\"2018-10-01\",\"2018-11-01\",\"2018-12-01\",\"2019-01-01\",\"2019-02-01\",\"2019-03-01\",\"2019-04-01\",\"2019-05-01\",\"2019-06-01\",\"2019-07-01\",\"2019-08-01\",\"2019-09-01\",\"2019-10-01\",\"2019-11-01\",\"2019-12-01\",\"2020-01-01\",\"2020-02-01\",\"2020-03-01\",\"2020-04-01\",\"2020-05-01\",\"2020-06-01\",\"2020-07-01\",\"2020-08-01\",\"2020-09-01\",\"2020-10-01\",\"2020-11-01\",\"2020-12-01\",\"2021-01-01\",\"2021-02-01\",\"2021-03-01\",\"2021-04-01\",\"2021-05-01\",\"2021-06-01\",\"2021-07-01\",\"2021-08-01\",\"2021-09-01\",\"2021-10-01\",\"2021-11-01\",\"2021-12-01\",\"2022-01-01\",\"2022-02-01\",\"2022-03-01\",\"2022-04-01\",\"2022-05-01\",\"2022-06-01\",\"2022-07-01\",\"2022-08-01\",\"2022-09-01\",\"2022-10-01\",\"2022-11-01\",\"2022-12-01\",\"2023-01-01\",\"2023-02-01\",\"2023-03-01\",\"2023-04-01\",\"2023-05-01\",\"2023-06-01\",\"2023-07-01\",\"2023-08-01\",\"2023-09-01\",\"2023-10-01\",\"2023-11-01\",\"2023-12-01\",\"2024-01-01\",\"2024-02-01\",\"2024-03-01\",\"2024-04-01\",\"2024-05-01\",\"2024-06-01\",\"2024-07-01\"],\"y\":[0.034778475761413574,0.023078203201293945,0.02235889434814453,0.022922992706298828,0.01777482032775879,0.020668864250183105,0.018260598182678223,0.02140343189239502,0.02121591567993164,0.023360371589660645,0.01623821258544922,0.019596219062805176,0.01733541488647461,0.019928932189941406,0.01873159408569336,0.016286730766296387,0.015660762786865234,0.01794612407684326,0.022464394569396973,0.018094420433044434,0.01688241958618164,0.016697287559509277,0.018381237983703613,0.01711106300354004,0.017327070236206055,0.01683342456817627,0.015868782997131348,0.011652588844299316,0.01638948917388916,0.011715173721313477,0.016999125480651855,0.013988375663757324,0.013802170753479004,0.0129927396774292,0.014720797538757324,0.018515348434448242,0.014591693878173828,0.013859987258911133,0.013240933418273926,0.013601303100585938,0.013806819915771484,0.01378786563873291,0.01764059066772461,0.013463139533996582,0.015678882598876953,0.01649343967437744,0.014005780220031738,0.017104506492614746,0.013589739799499512,0.013494610786437988,0.013558030128479004,0.014973282814025879,0.016341447830200195,0.014293789863586426,0.014578580856323242,0.013536453247070312,0.01188647747039795,0.012122154235839844,0.017115354537963867,0.011455416679382324,0.013138651847839355,0.010863423347473145,0.01458120346069336,0.011002540588378906,0.013202071189880371,0.01259756088256836,0.012933492660522461,0.012928962707519531,0.01346445083618164,0.010578274726867676,0.00992429256439209,0.011873245239257812,0.011528611183166504,0.012705802917480469,0.010248184204101562,0.010179519653320312,0.013760924339294434,0.011771917343139648,0.012479662895202637,0.011658787727355957,0.012188434600830078,0.011672735214233398,0.0123215913772583,0.010838747024536133,0.008649110794067383,0.01611638069152832,0.011806130409240723,0.012093901634216309,0.01137077808380127,0.012197732925415039,0.01312100887298584,0.014146804809570312,0.01493990421295166,0.014476776123046875,0.011455535888671875,0.013118863105773926,0.014934420585632324,0.011161208152770996,0.010019063949584961,0.010805249214172363,0.012291193008422852,0.012746214866638184,0.01259005069732666,0.009293079376220703,0.010105490684509277,0.01294088363647461,0.011499881744384766,0.011293649673461914,0.013589739799499512,0.010354399681091309,0.011673450469970703,0.013870954513549805,0.0100020170211792,0.008522510528564453,0.013939380645751953,0.011594653129577637,0.011112093925476074,0.010865211486816406,0.012863397598266602,0.012962579727172852,0.008742570877075195,0.01067972183227539,0.010610222816467285,0.011134743690490723,0.009328126907348633,0.009582161903381348,0.011780738830566406,0.013254523277282715,0.009551405906677246,0.011553645133972168,0.011122703552246094,0.009157657623291016,0.013054370880126953,0.010516762733459473,0.011158585548400879,0.010418891906738281,0.011971712112426758,0.010398387908935547,0.012353658676147461,0.010189175605773926,0.01237332820892334,0.011533498764038086,0.009765386581420898,0.012235045433044434,0.01000678539276123,0.013247489929199219,0.011016607284545898,0.01079869270324707,0.011896491050720215,0.010109782218933105,0.010909199714660645,0.013127326965332031,0.011358976364135742,0.010608196258544922,0.009709000587463379,0.012836456298828125,0.01041269302368164,0.009671211242675781,0.009420394897460938,0.010711073875427246,0.011483192443847656,0.009046435356140137,0.010728240013122559,0.012370109558105469,0.010539889335632324,0.009953737258911133,0.008236408233642578,0.008255720138549805,0.010145068168640137,0.01056206226348877,0.01174628734588623,0.011937737464904785,0.010026931762695312,0.012390732765197754,0.011607527732849121,0.011174798011779785,0.009393572807312012,0.010783553123474121,0.008215665817260742,0.009148001670837402,0.009660005569458008,0.010358333587646484,0.009057044982910156,0.010700106620788574,0.009356498718261719,0.009815812110900879,0.009565114974975586,0.009987354278564453,0.01080942153930664,0.009072661399841309,0.010986328125,0.009809017181396484,0.01063692569732666,0.010121345520019531,0.01073765754699707,0.011996746063232422,0.0101318359375,0.008666276931762695,0.00941622257232666,0.009806275367736816,0.009966611862182617,0.009570002555847168,0.010856389999389648,0.008346199989318848,0.0112762451171875,0.011912107467651367,0.00869441032409668,0.010955214500427246,0.011021614074707031,0.010923027992248535,0.00872945785522461,0.008719205856323242,0.009598970413208008,0.008689522743225098,0.009011507034301758,0.008630633354187012,0.011075854301452637,0.007987499237060547,0.008118748664855957,0.008828401565551758,0.008942604064941406,0.008999228477478027,0.007976412773132324,0.010308384895324707,0.009188532829284668,0.0080031156539917,0.007686734199523926,0.008226156234741211,0.008762121200561523,0.009750127792358398,0.008450746536254883,0.009943723678588867,0.010255217552185059,0.008908987045288086,0.00802147388458252,0.009162187576293945,0.007997274398803711,0.009532809257507324,0.010573863983154297,0.006557106971740723,0.008010625839233398,0.008902668952941895,0.007886052131652832,0.007123827934265137,0.008389472961425781,0.008424520492553711,0.007038712501525879,0.008739590644836426,0.009532809257507324,0.00817883014678955,0.007025957107543945,0.008398056030273438,0.008716106414794922,0.007841229438781738,0.007172822952270508,0.006953001022338867,0.0074242353439331055,0.009014010429382324,0.0079423189163208,0.008540749549865723,0.0066803693771362305,0.006932377815246582,0.006079435348510742,0.006701350212097168,0.006487250328063965,0.0069855451583862305,0.006168723106384277,0.006219029426574707,0.007388710975646973,0.006324052810668945,0.005191683769226074,0.007002592086791992,0.005385875701904297,0.00514531135559082,0.005986452102661133,0.005655765533447266,0.00518953800201416,0.005098700523376465,0.005234122276306152,0.004715442657470703,0.005283951759338379,0.004736661911010742,0.004816412925720215,0.004389047622680664],\"type\":\"scatter\"},{\"line\":{\"color\":\"green\",\"width\":2},\"mode\":\"lines\",\"name\":\"Test returns\",\"x\":[\"2024-07-01\",\"2024-08-01\"],\"y\":[0.004389047622680664,0.0037953853607177734],\"type\":\"scatter\"}],                        {\"template\":{\"data\":{\"barpolar\":[{\"marker\":{\"line\":{\"color\":\"white\",\"width\":0.5},\"pattern\":{\"fillmode\":\"overlay\",\"size\":10,\"solidity\":0.2}},\"type\":\"barpolar\"}],\"bar\":[{\"error_x\":{\"color\":\"#2a3f5f\"},\"error_y\":{\"color\":\"#2a3f5f\"},\"marker\":{\"line\":{\"color\":\"white\",\"width\":0.5},\"pattern\":{\"fillmode\":\"overlay\",\"size\":10,\"solidity\":0.2}},\"type\":\"bar\"}],\"carpet\":[{\"aaxis\":{\"endlinecolor\":\"#2a3f5f\",\"gridcolor\":\"#C8D4E3\",\"linecolor\":\"#C8D4E3\",\"minorgridcolor\":\"#C8D4E3\",\"startlinecolor\":\"#2a3f5f\"},\"baxis\":{\"endlinecolor\":\"#2a3f5f\",\"gridcolor\":\"#C8D4E3\",\"linecolor\":\"#C8D4E3\",\"minorgridcolor\":\"#C8D4E3\",\"startlinecolor\":\"#2a3f5f\"},\"type\":\"carpet\"}],\"choropleth\":[{\"colorbar\":{\"outlinewidth\":0,\"ticks\":\"\"},\"type\":\"choropleth\"}],\"contourcarpet\":[{\"colorbar\":{\"outlinewidth\":0,\"ticks\":\"\"},\"type\":\"contourcarpet\"}],\"contour\":[{\"colorbar\":{\"outlinewidth\":0,\"ticks\":\"\"},\"colorscale\":[[0.0,\"#0d0887\"],[0.1111111111111111,\"#46039f\"],[0.2222222222222222,\"#7201a8\"],[0.3333333333333333,\"#9c179e\"],[0.4444444444444444,\"#bd3786\"],[0.5555555555555556,\"#d8576b\"],[0.6666666666666666,\"#ed7953\"],[0.7777777777777778,\"#fb9f3a\"],[0.8888888888888888,\"#fdca26\"],[1.0,\"#f0f921\"]],\"type\":\"contour\"}],\"heatmapgl\":[{\"colorbar\":{\"outlinewidth\":0,\"ticks\":\"\"},\"colorscale\":[[0.0,\"#0d0887\"],[0.1111111111111111,\"#46039f\"],[0.2222222222222222,\"#7201a8\"],[0.3333333333333333,\"#9c179e\"],[0.4444444444444444,\"#bd3786\"],[0.5555555555555556,\"#d8576b\"],[0.6666666666666666,\"#ed7953\"],[0.7777777777777778,\"#fb9f3a\"],[0.8888888888888888,\"#fdca26\"],[1.0,\"#f0f921\"]],\"type\":\"heatmapgl\"}],\"heatmap\":[{\"colorbar\":{\"outlinewidth\":0,\"ticks\":\"\"},\"colorscale\":[[0.0,\"#0d0887\"],[0.1111111111111111,\"#46039f\"],[0.2222222222222222,\"#7201a8\"],[0.3333333333333333,\"#9c179e\"],[0.4444444444444444,\"#bd3786\"],[0.5555555555555556,\"#d8576b\"],[0.6666666666666666,\"#ed7953\"],[0.7777777777777778,\"#fb9f3a\"],[0.8888888888888888,\"#fdca26\"],[1.0,\"#f0f921\"]],\"type\":\"heatmap\"}],\"histogram2dcontour\":[{\"colorbar\":{\"outlinewidth\":0,\"ticks\":\"\"},\"colorscale\":[[0.0,\"#0d0887\"],[0.1111111111111111,\"#46039f\"],[0.2222222222222222,\"#7201a8\"],[0.3333333333333333,\"#9c179e\"],[0.4444444444444444,\"#bd3786\"],[0.5555555555555556,\"#d8576b\"],[0.6666666666666666,\"#ed7953\"],[0.7777777777777778,\"#fb9f3a\"],[0.8888888888888888,\"#fdca26\"],[1.0,\"#f0f921\"]],\"type\":\"histogram2dcontour\"}],\"histogram2d\":[{\"colorbar\":{\"outlinewidth\":0,\"ticks\":\"\"},\"colorscale\":[[0.0,\"#0d0887\"],[0.1111111111111111,\"#46039f\"],[0.2222222222222222,\"#7201a8\"],[0.3333333333333333,\"#9c179e\"],[0.4444444444444444,\"#bd3786\"],[0.5555555555555556,\"#d8576b\"],[0.6666666666666666,\"#ed7953\"],[0.7777777777777778,\"#fb9f3a\"],[0.8888888888888888,\"#fdca26\"],[1.0,\"#f0f921\"]],\"type\":\"histogram2d\"}],\"histogram\":[{\"marker\":{\"pattern\":{\"fillmode\":\"overlay\",\"size\":10,\"solidity\":0.2}},\"type\":\"histogram\"}],\"mesh3d\":[{\"colorbar\":{\"outlinewidth\":0,\"ticks\":\"\"},\"type\":\"mesh3d\"}],\"parcoords\":[{\"line\":{\"colorbar\":{\"outlinewidth\":0,\"ticks\":\"\"}},\"type\":\"parcoords\"}],\"pie\":[{\"automargin\":true,\"type\":\"pie\"}],\"scatter3d\":[{\"line\":{\"colorbar\":{\"outlinewidth\":0,\"ticks\":\"\"}},\"marker\":{\"colorbar\":{\"outlinewidth\":0,\"ticks\":\"\"}},\"type\":\"scatter3d\"}],\"scattercarpet\":[{\"marker\":{\"colorbar\":{\"outlinewidth\":0,\"ticks\":\"\"}},\"type\":\"scattercarpet\"}],\"scattergeo\":[{\"marker\":{\"colorbar\":{\"outlinewidth\":0,\"ticks\":\"\"}},\"type\":\"scattergeo\"}],\"scattergl\":[{\"marker\":{\"colorbar\":{\"outlinewidth\":0,\"ticks\":\"\"}},\"type\":\"scattergl\"}],\"scattermapbox\":[{\"marker\":{\"colorbar\":{\"outlinewidth\":0,\"ticks\":\"\"}},\"type\":\"scattermapbox\"}],\"scatterpolargl\":[{\"marker\":{\"colorbar\":{\"outlinewidth\":0,\"ticks\":\"\"}},\"type\":\"scatterpolargl\"}],\"scatterpolar\":[{\"marker\":{\"colorbar\":{\"outlinewidth\":0,\"ticks\":\"\"}},\"type\":\"scatterpolar\"}],\"scatter\":[{\"fillpattern\":{\"fillmode\":\"overlay\",\"size\":10,\"solidity\":0.2},\"type\":\"scatter\"}],\"scatterternary\":[{\"marker\":{\"colorbar\":{\"outlinewidth\":0,\"ticks\":\"\"}},\"type\":\"scatterternary\"}],\"surface\":[{\"colorbar\":{\"outlinewidth\":0,\"ticks\":\"\"},\"colorscale\":[[0.0,\"#0d0887\"],[0.1111111111111111,\"#46039f\"],[0.2222222222222222,\"#7201a8\"],[0.3333333333333333,\"#9c179e\"],[0.4444444444444444,\"#bd3786\"],[0.5555555555555556,\"#d8576b\"],[0.6666666666666666,\"#ed7953\"],[0.7777777777777778,\"#fb9f3a\"],[0.8888888888888888,\"#fdca26\"],[1.0,\"#f0f921\"]],\"type\":\"surface\"}],\"table\":[{\"cells\":{\"fill\":{\"color\":\"#EBF0F8\"},\"line\":{\"color\":\"white\"}},\"header\":{\"fill\":{\"color\":\"#C8D4E3\"},\"line\":{\"color\":\"white\"}},\"type\":\"table\"}]},\"layout\":{\"annotationdefaults\":{\"arrowcolor\":\"#2a3f5f\",\"arrowhead\":0,\"arrowwidth\":1},\"autotypenumbers\":\"strict\",\"coloraxis\":{\"colorbar\":{\"outlinewidth\":0,\"ticks\":\"\"}},\"colorscale\":{\"diverging\":[[0,\"#8e0152\"],[0.1,\"#c51b7d\"],[0.2,\"#de77ae\"],[0.3,\"#f1b6da\"],[0.4,\"#fde0ef\"],[0.5,\"#f7f7f7\"],[0.6,\"#e6f5d0\"],[0.7,\"#b8e186\"],[0.8,\"#7fbc41\"],[0.9,\"#4d9221\"],[1,\"#276419\"]],\"sequential\":[[0.0,\"#0d0887\"],[0.1111111111111111,\"#46039f\"],[0.2222222222222222,\"#7201a8\"],[0.3333333333333333,\"#9c179e\"],[0.4444444444444444,\"#bd3786\"],[0.5555555555555556,\"#d8576b\"],[0.6666666666666666,\"#ed7953\"],[0.7777777777777778,\"#fb9f3a\"],[0.8888888888888888,\"#fdca26\"],[1.0,\"#f0f921\"]],\"sequentialminus\":[[0.0,\"#0d0887\"],[0.1111111111111111,\"#46039f\"],[0.2222222222222222,\"#7201a8\"],[0.3333333333333333,\"#9c179e\"],[0.4444444444444444,\"#bd3786\"],[0.5555555555555556,\"#d8576b\"],[0.6666666666666666,\"#ed7953\"],[0.7777777777777778,\"#fb9f3a\"],[0.8888888888888888,\"#fdca26\"],[1.0,\"#f0f921\"]]},\"colorway\":[\"#636efa\",\"#EF553B\",\"#00cc96\",\"#ab63fa\",\"#FFA15A\",\"#19d3f3\",\"#FF6692\",\"#B6E880\",\"#FF97FF\",\"#FECB52\"],\"font\":{\"color\":\"#2a3f5f\"},\"geo\":{\"bgcolor\":\"white\",\"lakecolor\":\"white\",\"landcolor\":\"white\",\"showlakes\":true,\"showland\":true,\"subunitcolor\":\"#C8D4E3\"},\"hoverlabel\":{\"align\":\"left\"},\"hovermode\":\"closest\",\"mapbox\":{\"style\":\"light\"},\"paper_bgcolor\":\"white\",\"plot_bgcolor\":\"white\",\"polar\":{\"angularaxis\":{\"gridcolor\":\"#EBF0F8\",\"linecolor\":\"#EBF0F8\",\"ticks\":\"\"},\"bgcolor\":\"white\",\"radialaxis\":{\"gridcolor\":\"#EBF0F8\",\"linecolor\":\"#EBF0F8\",\"ticks\":\"\"}},\"scene\":{\"xaxis\":{\"backgroundcolor\":\"white\",\"gridcolor\":\"#DFE8F3\",\"gridwidth\":2,\"linecolor\":\"#EBF0F8\",\"showbackground\":true,\"ticks\":\"\",\"zerolinecolor\":\"#EBF0F8\"},\"yaxis\":{\"backgroundcolor\":\"white\",\"gridcolor\":\"#DFE8F3\",\"gridwidth\":2,\"linecolor\":\"#EBF0F8\",\"showbackground\":true,\"ticks\":\"\",\"zerolinecolor\":\"#EBF0F8\"},\"zaxis\":{\"backgroundcolor\":\"white\",\"gridcolor\":\"#DFE8F3\",\"gridwidth\":2,\"linecolor\":\"#EBF0F8\",\"showbackground\":true,\"ticks\":\"\",\"zerolinecolor\":\"#EBF0F8\"}},\"shapedefaults\":{\"line\":{\"color\":\"#2a3f5f\"}},\"ternary\":{\"aaxis\":{\"gridcolor\":\"#DFE8F3\",\"linecolor\":\"#A2B1C6\",\"ticks\":\"\"},\"baxis\":{\"gridcolor\":\"#DFE8F3\",\"linecolor\":\"#A2B1C6\",\"ticks\":\"\"},\"bgcolor\":\"white\",\"caxis\":{\"gridcolor\":\"#DFE8F3\",\"linecolor\":\"#A2B1C6\",\"ticks\":\"\"}},\"title\":{\"x\":0.05},\"xaxis\":{\"automargin\":true,\"gridcolor\":\"#EBF0F8\",\"linecolor\":\"#EBF0F8\",\"ticks\":\"\",\"title\":{\"standoff\":15},\"zerolinecolor\":\"#EBF0F8\",\"zerolinewidth\":2},\"yaxis\":{\"automargin\":true,\"gridcolor\":\"#EBF0F8\",\"linecolor\":\"#EBF0F8\",\"ticks\":\"\",\"title\":{\"standoff\":15},\"zerolinecolor\":\"#EBF0F8\",\"zerolinewidth\":2}}},\"shapes\":[{\"line\":{\"color\":\"red\",\"dash\":\"dash\",\"width\":1},\"type\":\"line\",\"x0\":\"2024-07-01\",\"x1\":\"2024-07-01\",\"xref\":\"x\",\"y0\":0,\"y1\":1,\"yref\":\"y domain\"}],\"yaxis\":{\"title\":{\"text\":\"Day closing return (%)\"},\"tickformat\":\".0%\",\"range\":[-0.25,0.6]},\"title\":{\"text\":\"1 Month Prediction vs Actual Plot\"},\"xaxis\":{\"title\":{\"text\":\"Date\"}},\"legend\":{\"title\":{\"text\":\"Legend\"}}},                        {\"responsive\": true}                    ).then(function(){\n",
       "                            \n",
       "var gd = document.getElementById('d85801b1-09bc-4096-9f9d-65c94bc634b5');\n",
       "var x = new MutationObserver(function (mutations, observer) {{\n",
       "        var display = window.getComputedStyle(gd).display;\n",
       "        if (!display || display === 'none') {{\n",
       "            console.log([gd, 'removed!']);\n",
       "            Plotly.purge(gd);\n",
       "            observer.disconnect();\n",
       "        }}\n",
       "}});\n",
       "\n",
       "// Listen for the removal of the full notebook cells\n",
       "var notebookContainer = gd.closest('#notebook-container');\n",
       "if (notebookContainer) {{\n",
       "    x.observe(notebookContainer, {childList: true});\n",
       "}}\n",
       "\n",
       "// Listen for the clearing of the current output cell\n",
       "var outputEl = gd.closest('.output');\n",
       "if (outputEl) {{\n",
       "    x.observe(outputEl, {childList: true});\n",
       "}}\n",
       "\n",
       "                        })                };                });            </script>        </div>"
      ]
     },
     "metadata": {},
     "output_type": "display_data"
    }
   ],
   "execution_count": 570
  },
  {
   "metadata": {},
   "cell_type": "markdown",
   "source": "#### Allocation - 1 Month",
   "id": "f8a6981ec5d33de7"
  },
  {
   "metadata": {
    "ExecuteTime": {
     "end_time": "2025-06-15T15:57:02.978749Z",
     "start_time": "2025-06-15T15:57:02.916710Z"
    }
   },
   "cell_type": "code",
   "source": [
    "importlib.reload(mpt_utils)\n",
    "\n",
    "# Get train true values followed with predicted month/s\n",
    "y_train_1m_list = y_train_1m['m_return_target(t+1)'].tolist()\n",
    "y_test_1m_list = y_test_pred_1m.tolist()\n",
    "#\n",
    "df_to_evaluate_1m = mpt_utils.get_df_from_pred_list(df_pct, y_train_1m_list, y_test_1m_list)\n",
    "df_to_evaluate_1m = df_to_evaluate_1m - 1\n",
    "df_to_evaluate_1m"
   ],
   "id": "d4066fdd8e91ee4",
   "outputs": [
    {
     "data": {
      "text/plain": [
       "          GME    2124.T    2491.T    2471.T    3046.T   PAT.DE      CROX  \\\n",
       "0    0.000000 -0.160000 -0.110000  0.000000  0.000000  0.00000  0.000000   \n",
       "1    0.000000 -0.500000 -0.200000 -0.470000 -0.060000 -0.36000 -0.140000   \n",
       "2    0.030000  0.010000 -0.270000 -0.250000  0.000000 -0.29000 -0.300000   \n",
       "3    0.000000  0.000000  0.000000  0.320000  0.000000  0.39000  0.340000   \n",
       "4    0.000000  1.180000  0.540000  0.390000  0.510000  0.28000  0.200000   \n",
       "..        ...       ...       ...       ...       ...      ...       ...   \n",
       "281  1.090000 -0.130000  0.090000  0.080000  0.110000 -0.04000  0.250000   \n",
       "282  0.070000 -0.010000  0.000000 -0.020000  0.060000 -0.11000 -0.060000   \n",
       "283 -0.080000  0.100000  0.020000 -0.020000  0.170000  0.07000 -0.080000   \n",
       "284  0.030000  0.040000 -0.030000  0.120000  0.140000  0.12000  0.090000   \n",
       "285 -0.043536 -0.038688 -0.026013 -0.022174 -0.029624  0.00528  0.011109   \n",
       "\n",
       "       AOF.DE   SFQ.DE      DAN  ...      KREF     HLN.L      DBX       BNL  \\\n",
       "0   -0.270000  0.00000  0.00000  ...  0.000000  0.000000  0.00000  0.000000   \n",
       "1    0.280000 -0.10000  0.00000  ...  0.030000  0.000000  0.01000  0.000000   \n",
       "2   -0.160000 -0.11000 -0.14000  ...  0.000000  0.000000  0.00000 -0.050000   \n",
       "3   -0.270000  0.00000  0.00000  ...  0.000000  0.000000  0.00000  0.000000   \n",
       "4    0.290000  0.12000  0.17000  ...  0.000000  0.000000  0.00000  0.000000   \n",
       "..        ...      ...      ...  ...       ...       ...      ...       ...   \n",
       "281 -0.080000 -0.03000  0.13000  ...  0.010000 -0.040000 -0.03000  0.050000   \n",
       "282 -0.020000  0.05000 -0.13000  ... -0.040000 -0.010000  0.00000  0.030000   \n",
       "283  0.220000  0.08000  0.05000  ...  0.300000  0.080000  0.06000  0.120000   \n",
       "284  0.020000 -0.08000 -0.11000  ...  0.040000  0.090000  0.05000  0.050000   \n",
       "285  0.011938  0.00343  0.00343  ...  0.024919  0.003766  0.01144 -0.015814   \n",
       "\n",
       "          CBL      KVUE      PSTL     NTST     BLCO     NBS.L  \n",
       "0    0.000000  0.000000  0.000000  0.00000  0.00000  0.000000  \n",
       "1   -0.040000  0.000000  0.000000  0.00000  0.00000 -0.010000  \n",
       "2    0.000000  0.000000  0.000000 -0.03000  0.00000 -0.030000  \n",
       "3    0.000000  0.000000  0.000000  0.00000  0.00000  0.000000  \n",
       "4    0.000000  0.000000  0.000000  0.00000  0.00000  0.000000  \n",
       "..        ...       ...       ...      ...      ...       ...  \n",
       "281  0.020000  0.030000 -0.030000  0.03000  0.06000 -0.020000  \n",
       "282  0.060000 -0.050000  0.010000 -0.07000 -0.05000  0.000000  \n",
       "283  0.120000  0.020000  0.120000  0.04000  0.19000  0.000000  \n",
       "284  0.020000  0.190000 -0.030000  0.01000 -0.05000  0.000000  \n",
       "285 -0.014137 -0.008367  0.000491  0.00954  0.00868 -0.010898  \n",
       "\n",
       "[286 rows x 1332 columns]"
      ],
      "text/html": [
       "<div>\n",
       "<style scoped>\n",
       "    .dataframe tbody tr th:only-of-type {\n",
       "        vertical-align: middle;\n",
       "    }\n",
       "\n",
       "    .dataframe tbody tr th {\n",
       "        vertical-align: top;\n",
       "    }\n",
       "\n",
       "    .dataframe thead th {\n",
       "        text-align: right;\n",
       "    }\n",
       "</style>\n",
       "<table border=\"1\" class=\"dataframe\">\n",
       "  <thead>\n",
       "    <tr style=\"text-align: right;\">\n",
       "      <th></th>\n",
       "      <th>GME</th>\n",
       "      <th>2124.T</th>\n",
       "      <th>2491.T</th>\n",
       "      <th>2471.T</th>\n",
       "      <th>3046.T</th>\n",
       "      <th>PAT.DE</th>\n",
       "      <th>CROX</th>\n",
       "      <th>AOF.DE</th>\n",
       "      <th>SFQ.DE</th>\n",
       "      <th>DAN</th>\n",
       "      <th>...</th>\n",
       "      <th>KREF</th>\n",
       "      <th>HLN.L</th>\n",
       "      <th>DBX</th>\n",
       "      <th>BNL</th>\n",
       "      <th>CBL</th>\n",
       "      <th>KVUE</th>\n",
       "      <th>PSTL</th>\n",
       "      <th>NTST</th>\n",
       "      <th>BLCO</th>\n",
       "      <th>NBS.L</th>\n",
       "    </tr>\n",
       "  </thead>\n",
       "  <tbody>\n",
       "    <tr>\n",
       "      <th>0</th>\n",
       "      <td>0.000000</td>\n",
       "      <td>-0.160000</td>\n",
       "      <td>-0.110000</td>\n",
       "      <td>0.000000</td>\n",
       "      <td>0.000000</td>\n",
       "      <td>0.00000</td>\n",
       "      <td>0.000000</td>\n",
       "      <td>-0.270000</td>\n",
       "      <td>0.00000</td>\n",
       "      <td>0.00000</td>\n",
       "      <td>...</td>\n",
       "      <td>0.000000</td>\n",
       "      <td>0.000000</td>\n",
       "      <td>0.00000</td>\n",
       "      <td>0.000000</td>\n",
       "      <td>0.000000</td>\n",
       "      <td>0.000000</td>\n",
       "      <td>0.000000</td>\n",
       "      <td>0.00000</td>\n",
       "      <td>0.00000</td>\n",
       "      <td>0.000000</td>\n",
       "    </tr>\n",
       "    <tr>\n",
       "      <th>1</th>\n",
       "      <td>0.000000</td>\n",
       "      <td>-0.500000</td>\n",
       "      <td>-0.200000</td>\n",
       "      <td>-0.470000</td>\n",
       "      <td>-0.060000</td>\n",
       "      <td>-0.36000</td>\n",
       "      <td>-0.140000</td>\n",
       "      <td>0.280000</td>\n",
       "      <td>-0.10000</td>\n",
       "      <td>0.00000</td>\n",
       "      <td>...</td>\n",
       "      <td>0.030000</td>\n",
       "      <td>0.000000</td>\n",
       "      <td>0.01000</td>\n",
       "      <td>0.000000</td>\n",
       "      <td>-0.040000</td>\n",
       "      <td>0.000000</td>\n",
       "      <td>0.000000</td>\n",
       "      <td>0.00000</td>\n",
       "      <td>0.00000</td>\n",
       "      <td>-0.010000</td>\n",
       "    </tr>\n",
       "    <tr>\n",
       "      <th>2</th>\n",
       "      <td>0.030000</td>\n",
       "      <td>0.010000</td>\n",
       "      <td>-0.270000</td>\n",
       "      <td>-0.250000</td>\n",
       "      <td>0.000000</td>\n",
       "      <td>-0.29000</td>\n",
       "      <td>-0.300000</td>\n",
       "      <td>-0.160000</td>\n",
       "      <td>-0.11000</td>\n",
       "      <td>-0.14000</td>\n",
       "      <td>...</td>\n",
       "      <td>0.000000</td>\n",
       "      <td>0.000000</td>\n",
       "      <td>0.00000</td>\n",
       "      <td>-0.050000</td>\n",
       "      <td>0.000000</td>\n",
       "      <td>0.000000</td>\n",
       "      <td>0.000000</td>\n",
       "      <td>-0.03000</td>\n",
       "      <td>0.00000</td>\n",
       "      <td>-0.030000</td>\n",
       "    </tr>\n",
       "    <tr>\n",
       "      <th>3</th>\n",
       "      <td>0.000000</td>\n",
       "      <td>0.000000</td>\n",
       "      <td>0.000000</td>\n",
       "      <td>0.320000</td>\n",
       "      <td>0.000000</td>\n",
       "      <td>0.39000</td>\n",
       "      <td>0.340000</td>\n",
       "      <td>-0.270000</td>\n",
       "      <td>0.00000</td>\n",
       "      <td>0.00000</td>\n",
       "      <td>...</td>\n",
       "      <td>0.000000</td>\n",
       "      <td>0.000000</td>\n",
       "      <td>0.00000</td>\n",
       "      <td>0.000000</td>\n",
       "      <td>0.000000</td>\n",
       "      <td>0.000000</td>\n",
       "      <td>0.000000</td>\n",
       "      <td>0.00000</td>\n",
       "      <td>0.00000</td>\n",
       "      <td>0.000000</td>\n",
       "    </tr>\n",
       "    <tr>\n",
       "      <th>4</th>\n",
       "      <td>0.000000</td>\n",
       "      <td>1.180000</td>\n",
       "      <td>0.540000</td>\n",
       "      <td>0.390000</td>\n",
       "      <td>0.510000</td>\n",
       "      <td>0.28000</td>\n",
       "      <td>0.200000</td>\n",
       "      <td>0.290000</td>\n",
       "      <td>0.12000</td>\n",
       "      <td>0.17000</td>\n",
       "      <td>...</td>\n",
       "      <td>0.000000</td>\n",
       "      <td>0.000000</td>\n",
       "      <td>0.00000</td>\n",
       "      <td>0.000000</td>\n",
       "      <td>0.000000</td>\n",
       "      <td>0.000000</td>\n",
       "      <td>0.000000</td>\n",
       "      <td>0.00000</td>\n",
       "      <td>0.00000</td>\n",
       "      <td>0.000000</td>\n",
       "    </tr>\n",
       "    <tr>\n",
       "      <th>...</th>\n",
       "      <td>...</td>\n",
       "      <td>...</td>\n",
       "      <td>...</td>\n",
       "      <td>...</td>\n",
       "      <td>...</td>\n",
       "      <td>...</td>\n",
       "      <td>...</td>\n",
       "      <td>...</td>\n",
       "      <td>...</td>\n",
       "      <td>...</td>\n",
       "      <td>...</td>\n",
       "      <td>...</td>\n",
       "      <td>...</td>\n",
       "      <td>...</td>\n",
       "      <td>...</td>\n",
       "      <td>...</td>\n",
       "      <td>...</td>\n",
       "      <td>...</td>\n",
       "      <td>...</td>\n",
       "      <td>...</td>\n",
       "      <td>...</td>\n",
       "    </tr>\n",
       "    <tr>\n",
       "      <th>281</th>\n",
       "      <td>1.090000</td>\n",
       "      <td>-0.130000</td>\n",
       "      <td>0.090000</td>\n",
       "      <td>0.080000</td>\n",
       "      <td>0.110000</td>\n",
       "      <td>-0.04000</td>\n",
       "      <td>0.250000</td>\n",
       "      <td>-0.080000</td>\n",
       "      <td>-0.03000</td>\n",
       "      <td>0.13000</td>\n",
       "      <td>...</td>\n",
       "      <td>0.010000</td>\n",
       "      <td>-0.040000</td>\n",
       "      <td>-0.03000</td>\n",
       "      <td>0.050000</td>\n",
       "      <td>0.020000</td>\n",
       "      <td>0.030000</td>\n",
       "      <td>-0.030000</td>\n",
       "      <td>0.03000</td>\n",
       "      <td>0.06000</td>\n",
       "      <td>-0.020000</td>\n",
       "    </tr>\n",
       "    <tr>\n",
       "      <th>282</th>\n",
       "      <td>0.070000</td>\n",
       "      <td>-0.010000</td>\n",
       "      <td>0.000000</td>\n",
       "      <td>-0.020000</td>\n",
       "      <td>0.060000</td>\n",
       "      <td>-0.11000</td>\n",
       "      <td>-0.060000</td>\n",
       "      <td>-0.020000</td>\n",
       "      <td>0.05000</td>\n",
       "      <td>-0.13000</td>\n",
       "      <td>...</td>\n",
       "      <td>-0.040000</td>\n",
       "      <td>-0.010000</td>\n",
       "      <td>0.00000</td>\n",
       "      <td>0.030000</td>\n",
       "      <td>0.060000</td>\n",
       "      <td>-0.050000</td>\n",
       "      <td>0.010000</td>\n",
       "      <td>-0.07000</td>\n",
       "      <td>-0.05000</td>\n",
       "      <td>0.000000</td>\n",
       "    </tr>\n",
       "    <tr>\n",
       "      <th>283</th>\n",
       "      <td>-0.080000</td>\n",
       "      <td>0.100000</td>\n",
       "      <td>0.020000</td>\n",
       "      <td>-0.020000</td>\n",
       "      <td>0.170000</td>\n",
       "      <td>0.07000</td>\n",
       "      <td>-0.080000</td>\n",
       "      <td>0.220000</td>\n",
       "      <td>0.08000</td>\n",
       "      <td>0.05000</td>\n",
       "      <td>...</td>\n",
       "      <td>0.300000</td>\n",
       "      <td>0.080000</td>\n",
       "      <td>0.06000</td>\n",
       "      <td>0.120000</td>\n",
       "      <td>0.120000</td>\n",
       "      <td>0.020000</td>\n",
       "      <td>0.120000</td>\n",
       "      <td>0.04000</td>\n",
       "      <td>0.19000</td>\n",
       "      <td>0.000000</td>\n",
       "    </tr>\n",
       "    <tr>\n",
       "      <th>284</th>\n",
       "      <td>0.030000</td>\n",
       "      <td>0.040000</td>\n",
       "      <td>-0.030000</td>\n",
       "      <td>0.120000</td>\n",
       "      <td>0.140000</td>\n",
       "      <td>0.12000</td>\n",
       "      <td>0.090000</td>\n",
       "      <td>0.020000</td>\n",
       "      <td>-0.08000</td>\n",
       "      <td>-0.11000</td>\n",
       "      <td>...</td>\n",
       "      <td>0.040000</td>\n",
       "      <td>0.090000</td>\n",
       "      <td>0.05000</td>\n",
       "      <td>0.050000</td>\n",
       "      <td>0.020000</td>\n",
       "      <td>0.190000</td>\n",
       "      <td>-0.030000</td>\n",
       "      <td>0.01000</td>\n",
       "      <td>-0.05000</td>\n",
       "      <td>0.000000</td>\n",
       "    </tr>\n",
       "    <tr>\n",
       "      <th>285</th>\n",
       "      <td>-0.043536</td>\n",
       "      <td>-0.038688</td>\n",
       "      <td>-0.026013</td>\n",
       "      <td>-0.022174</td>\n",
       "      <td>-0.029624</td>\n",
       "      <td>0.00528</td>\n",
       "      <td>0.011109</td>\n",
       "      <td>0.011938</td>\n",
       "      <td>0.00343</td>\n",
       "      <td>0.00343</td>\n",
       "      <td>...</td>\n",
       "      <td>0.024919</td>\n",
       "      <td>0.003766</td>\n",
       "      <td>0.01144</td>\n",
       "      <td>-0.015814</td>\n",
       "      <td>-0.014137</td>\n",
       "      <td>-0.008367</td>\n",
       "      <td>0.000491</td>\n",
       "      <td>0.00954</td>\n",
       "      <td>0.00868</td>\n",
       "      <td>-0.010898</td>\n",
       "    </tr>\n",
       "  </tbody>\n",
       "</table>\n",
       "<p>286 rows × 1332 columns</p>\n",
       "</div>"
      ]
     },
     "execution_count": 571,
     "metadata": {},
     "output_type": "execute_result"
    }
   ],
   "execution_count": 571
  },
  {
   "metadata": {
    "ExecuteTime": {
     "end_time": "2025-06-15T15:57:09.840433Z",
     "start_time": "2025-06-15T15:57:02.999120Z"
    }
   },
   "cell_type": "code",
   "source": [
    "importlib.reload(mpt_utils)\n",
    "\n",
    "weights_1m, mu_1m, S_1m, weights_all_1m = mpt_utils.portfolio_and_plot(df_to_evaluate_1m, df)"
   ],
   "id": "b63daed7a1ee4d8e",
   "outputs": [
    {
     "name": "stdout",
     "output_type": "stream",
     "text": [
      "Expected annual return: 51.6%\n",
      "Annual volatility: 11.2%\n",
      "Sharpe Ratio: 4.43\n",
      "-- Allocation --\n",
      "{'6736.T': 6, 'LRN': 1, '8022.T': 2, 'AVGO': 1, 'ANF': 1, '7599.T': 13, '8129.T': 3, 'ASCL.L': 1, 'NVDA': 1, 'SFM': 1, 'AGYS': 1, 'MSI': 1, 'APP': 1, 'BRBY.L': 1, 'NL': 12, 'CVLT': 1, '9024.T': 3, '4732.T': 7, 'IDS.L': 1, '9766.T': 1, 'PNN.L': 1, '2327.T': 2, '8282.T': 6, '9101.T': 2, 'FTK.DE': 4, '6941.T': 3, '2433.T': 8, '7832.T': 3, 'HL.L': 1, '9869.T': 2, '7309.T': 1, '9468.T': 3, 'NEM.DE': 1, '9934.T': 2, 'STAA': 1, 'GBG.L': 1, '4324.T': 2, '8283.T': 1, 'BGC': 5, 'VSEC': 1, '7419.T': 4, '4568.T': 1, '3626.T': 2, 'GBF.DE': 1, 'PGR': 1, '7552.T': 2, '7951.T': 2, '8012.T': 2, '7906.T': 3, '9831.T': 16, '2790.T': 2, 'AMAL': 1, 'COP.DE': 3, '7846.T': 1, '2331.T': 7, '7483.T': 3, '7947.T': 2, '7936.T': 2, '9072.T': 1, '8074.T': 1, '9104.T': 1, '7915.T': 3, '9842.T': 3, '2733.T': 1, '8818.T': 3, '9260.T': 3, '4549.T': 2, 'MFA': 3, 'RELL': 3, '7762.T': 5, '5334.T': 1, '8086.T': 4, '9143.T': 2, '9434.T': 2, '7984.T': 2, '8309.T': 1, 'DOLE': 2, '9076.T': 1, 'SWBI': 1, '6845.T': 1, '7459.T': 1, '3148.T': 1, '3003.T': 2, '9107.T': 2, '8803.T': 1, '3107.T': 1, 'CNK': 1, 'EQC': 1, '4301.T': 2, '8008.T': 1, '2767.T': 2, '6588.T': 1, '8173.T': 1, '4544.T': 1, '6718.T': 1, '6417.T': 1, '6923.T': 1, '9069.T': 2, '7239.T': 1, 'WWW': 1, '8151.T': 1, 'INS.DE': 2, '3191.T': 1, '8876.T': 1, 'ESCA': 1, 'CATO': 3, '6914.T': 1, 'EOAN.DE': 1, '9832.T': 1, 'FBRT': 1, '7955.T': 2, 'FNKO': 1, '4298.T': 1, '3608.T': 1, '7575.T': 1, '6471.T': 1, '2874.T': 1, '8897.T': 2, '9470.T': 1}\n",
      "-- Weights Percentage --\n",
      "{'6736.T': 0.0573, 'AVGO': 0.0207, 'LRN': 0.0219, '8022.T': 0.0219, 'Other(115)': 0.8782}\n"
     ]
    },
    {
     "name": "stderr",
     "output_type": "stream",
     "text": [
      "/Users/herbishtini/anaconda3/envs/portfolio_optimisation/lib/python3.11/site-packages/pypfopt/discrete_allocation.py:27: FutureWarning:\n",
      "\n",
      "Downcasting object dtype arrays on .fillna, .ffill, .bfill is deprecated and will change in a future version. Call result.infer_objects(copy=False) instead. To opt-in to the future behavior, set `pd.set_option('future.no_silent_downcasting', True)`\n",
      "\n"
     ]
    },
    {
     "data": {
      "application/vnd.plotly.v1+json": {
       "data": [
        {
         "hole": 0.3,
         "insidetextorientation": "radial",
         "labels": [
          "6736.T",
          "AVGO",
          "LRN",
          "8022.T",
          "Other(115)"
         ],
         "textinfo": "label+percent",
         "textposition": "inside",
         "values": [
          0.0324,
          0.0117,
          0.0124,
          0.0124,
          0.497
         ],
         "type": "pie"
        }
       ],
       "layout": {
        "template": {
         "data": {
          "histogram2dcontour": [
           {
            "type": "histogram2dcontour",
            "colorbar": {
             "outlinewidth": 0,
             "ticks": ""
            },
            "colorscale": [
             [
              0.0,
              "#0d0887"
             ],
             [
              0.1111111111111111,
              "#46039f"
             ],
             [
              0.2222222222222222,
              "#7201a8"
             ],
             [
              0.3333333333333333,
              "#9c179e"
             ],
             [
              0.4444444444444444,
              "#bd3786"
             ],
             [
              0.5555555555555556,
              "#d8576b"
             ],
             [
              0.6666666666666666,
              "#ed7953"
             ],
             [
              0.7777777777777778,
              "#fb9f3a"
             ],
             [
              0.8888888888888888,
              "#fdca26"
             ],
             [
              1.0,
              "#f0f921"
             ]
            ]
           }
          ],
          "choropleth": [
           {
            "type": "choropleth",
            "colorbar": {
             "outlinewidth": 0,
             "ticks": ""
            }
           }
          ],
          "histogram2d": [
           {
            "type": "histogram2d",
            "colorbar": {
             "outlinewidth": 0,
             "ticks": ""
            },
            "colorscale": [
             [
              0.0,
              "#0d0887"
             ],
             [
              0.1111111111111111,
              "#46039f"
             ],
             [
              0.2222222222222222,
              "#7201a8"
             ],
             [
              0.3333333333333333,
              "#9c179e"
             ],
             [
              0.4444444444444444,
              "#bd3786"
             ],
             [
              0.5555555555555556,
              "#d8576b"
             ],
             [
              0.6666666666666666,
              "#ed7953"
             ],
             [
              0.7777777777777778,
              "#fb9f3a"
             ],
             [
              0.8888888888888888,
              "#fdca26"
             ],
             [
              1.0,
              "#f0f921"
             ]
            ]
           }
          ],
          "heatmap": [
           {
            "type": "heatmap",
            "colorbar": {
             "outlinewidth": 0,
             "ticks": ""
            },
            "colorscale": [
             [
              0.0,
              "#0d0887"
             ],
             [
              0.1111111111111111,
              "#46039f"
             ],
             [
              0.2222222222222222,
              "#7201a8"
             ],
             [
              0.3333333333333333,
              "#9c179e"
             ],
             [
              0.4444444444444444,
              "#bd3786"
             ],
             [
              0.5555555555555556,
              "#d8576b"
             ],
             [
              0.6666666666666666,
              "#ed7953"
             ],
             [
              0.7777777777777778,
              "#fb9f3a"
             ],
             [
              0.8888888888888888,
              "#fdca26"
             ],
             [
              1.0,
              "#f0f921"
             ]
            ]
           }
          ],
          "heatmapgl": [
           {
            "type": "heatmapgl",
            "colorbar": {
             "outlinewidth": 0,
             "ticks": ""
            },
            "colorscale": [
             [
              0.0,
              "#0d0887"
             ],
             [
              0.1111111111111111,
              "#46039f"
             ],
             [
              0.2222222222222222,
              "#7201a8"
             ],
             [
              0.3333333333333333,
              "#9c179e"
             ],
             [
              0.4444444444444444,
              "#bd3786"
             ],
             [
              0.5555555555555556,
              "#d8576b"
             ],
             [
              0.6666666666666666,
              "#ed7953"
             ],
             [
              0.7777777777777778,
              "#fb9f3a"
             ],
             [
              0.8888888888888888,
              "#fdca26"
             ],
             [
              1.0,
              "#f0f921"
             ]
            ]
           }
          ],
          "contourcarpet": [
           {
            "type": "contourcarpet",
            "colorbar": {
             "outlinewidth": 0,
             "ticks": ""
            }
           }
          ],
          "contour": [
           {
            "type": "contour",
            "colorbar": {
             "outlinewidth": 0,
             "ticks": ""
            },
            "colorscale": [
             [
              0.0,
              "#0d0887"
             ],
             [
              0.1111111111111111,
              "#46039f"
             ],
             [
              0.2222222222222222,
              "#7201a8"
             ],
             [
              0.3333333333333333,
              "#9c179e"
             ],
             [
              0.4444444444444444,
              "#bd3786"
             ],
             [
              0.5555555555555556,
              "#d8576b"
             ],
             [
              0.6666666666666666,
              "#ed7953"
             ],
             [
              0.7777777777777778,
              "#fb9f3a"
             ],
             [
              0.8888888888888888,
              "#fdca26"
             ],
             [
              1.0,
              "#f0f921"
             ]
            ]
           }
          ],
          "surface": [
           {
            "type": "surface",
            "colorbar": {
             "outlinewidth": 0,
             "ticks": ""
            },
            "colorscale": [
             [
              0.0,
              "#0d0887"
             ],
             [
              0.1111111111111111,
              "#46039f"
             ],
             [
              0.2222222222222222,
              "#7201a8"
             ],
             [
              0.3333333333333333,
              "#9c179e"
             ],
             [
              0.4444444444444444,
              "#bd3786"
             ],
             [
              0.5555555555555556,
              "#d8576b"
             ],
             [
              0.6666666666666666,
              "#ed7953"
             ],
             [
              0.7777777777777778,
              "#fb9f3a"
             ],
             [
              0.8888888888888888,
              "#fdca26"
             ],
             [
              1.0,
              "#f0f921"
             ]
            ]
           }
          ],
          "mesh3d": [
           {
            "type": "mesh3d",
            "colorbar": {
             "outlinewidth": 0,
             "ticks": ""
            }
           }
          ],
          "scatter": [
           {
            "fillpattern": {
             "fillmode": "overlay",
             "size": 10,
             "solidity": 0.2
            },
            "type": "scatter"
           }
          ],
          "parcoords": [
           {
            "type": "parcoords",
            "line": {
             "colorbar": {
              "outlinewidth": 0,
              "ticks": ""
             }
            }
           }
          ],
          "scatterpolargl": [
           {
            "type": "scatterpolargl",
            "marker": {
             "colorbar": {
              "outlinewidth": 0,
              "ticks": ""
             }
            }
           }
          ],
          "bar": [
           {
            "error_x": {
             "color": "#2a3f5f"
            },
            "error_y": {
             "color": "#2a3f5f"
            },
            "marker": {
             "line": {
              "color": "#E5ECF6",
              "width": 0.5
             },
             "pattern": {
              "fillmode": "overlay",
              "size": 10,
              "solidity": 0.2
             }
            },
            "type": "bar"
           }
          ],
          "scattergeo": [
           {
            "type": "scattergeo",
            "marker": {
             "colorbar": {
              "outlinewidth": 0,
              "ticks": ""
             }
            }
           }
          ],
          "scatterpolar": [
           {
            "type": "scatterpolar",
            "marker": {
             "colorbar": {
              "outlinewidth": 0,
              "ticks": ""
             }
            }
           }
          ],
          "histogram": [
           {
            "marker": {
             "pattern": {
              "fillmode": "overlay",
              "size": 10,
              "solidity": 0.2
             }
            },
            "type": "histogram"
           }
          ],
          "scattergl": [
           {
            "type": "scattergl",
            "marker": {
             "colorbar": {
              "outlinewidth": 0,
              "ticks": ""
             }
            }
           }
          ],
          "scatter3d": [
           {
            "type": "scatter3d",
            "line": {
             "colorbar": {
              "outlinewidth": 0,
              "ticks": ""
             }
            },
            "marker": {
             "colorbar": {
              "outlinewidth": 0,
              "ticks": ""
             }
            }
           }
          ],
          "scattermapbox": [
           {
            "type": "scattermapbox",
            "marker": {
             "colorbar": {
              "outlinewidth": 0,
              "ticks": ""
             }
            }
           }
          ],
          "scatterternary": [
           {
            "type": "scatterternary",
            "marker": {
             "colorbar": {
              "outlinewidth": 0,
              "ticks": ""
             }
            }
           }
          ],
          "scattercarpet": [
           {
            "type": "scattercarpet",
            "marker": {
             "colorbar": {
              "outlinewidth": 0,
              "ticks": ""
             }
            }
           }
          ],
          "carpet": [
           {
            "aaxis": {
             "endlinecolor": "#2a3f5f",
             "gridcolor": "white",
             "linecolor": "white",
             "minorgridcolor": "white",
             "startlinecolor": "#2a3f5f"
            },
            "baxis": {
             "endlinecolor": "#2a3f5f",
             "gridcolor": "white",
             "linecolor": "white",
             "minorgridcolor": "white",
             "startlinecolor": "#2a3f5f"
            },
            "type": "carpet"
           }
          ],
          "table": [
           {
            "cells": {
             "fill": {
              "color": "#EBF0F8"
             },
             "line": {
              "color": "white"
             }
            },
            "header": {
             "fill": {
              "color": "#C8D4E3"
             },
             "line": {
              "color": "white"
             }
            },
            "type": "table"
           }
          ],
          "barpolar": [
           {
            "marker": {
             "line": {
              "color": "#E5ECF6",
              "width": 0.5
             },
             "pattern": {
              "fillmode": "overlay",
              "size": 10,
              "solidity": 0.2
             }
            },
            "type": "barpolar"
           }
          ],
          "pie": [
           {
            "automargin": true,
            "type": "pie"
           }
          ]
         },
         "layout": {
          "autotypenumbers": "strict",
          "colorway": [
           "#636efa",
           "#EF553B",
           "#00cc96",
           "#ab63fa",
           "#FFA15A",
           "#19d3f3",
           "#FF6692",
           "#B6E880",
           "#FF97FF",
           "#FECB52"
          ],
          "font": {
           "color": "#2a3f5f"
          },
          "hovermode": "closest",
          "hoverlabel": {
           "align": "left"
          },
          "paper_bgcolor": "white",
          "plot_bgcolor": "#E5ECF6",
          "polar": {
           "bgcolor": "#E5ECF6",
           "angularaxis": {
            "gridcolor": "white",
            "linecolor": "white",
            "ticks": ""
           },
           "radialaxis": {
            "gridcolor": "white",
            "linecolor": "white",
            "ticks": ""
           }
          },
          "ternary": {
           "bgcolor": "#E5ECF6",
           "aaxis": {
            "gridcolor": "white",
            "linecolor": "white",
            "ticks": ""
           },
           "baxis": {
            "gridcolor": "white",
            "linecolor": "white",
            "ticks": ""
           },
           "caxis": {
            "gridcolor": "white",
            "linecolor": "white",
            "ticks": ""
           }
          },
          "coloraxis": {
           "colorbar": {
            "outlinewidth": 0,
            "ticks": ""
           }
          },
          "colorscale": {
           "sequential": [
            [
             0.0,
             "#0d0887"
            ],
            [
             0.1111111111111111,
             "#46039f"
            ],
            [
             0.2222222222222222,
             "#7201a8"
            ],
            [
             0.3333333333333333,
             "#9c179e"
            ],
            [
             0.4444444444444444,
             "#bd3786"
            ],
            [
             0.5555555555555556,
             "#d8576b"
            ],
            [
             0.6666666666666666,
             "#ed7953"
            ],
            [
             0.7777777777777778,
             "#fb9f3a"
            ],
            [
             0.8888888888888888,
             "#fdca26"
            ],
            [
             1.0,
             "#f0f921"
            ]
           ],
           "sequentialminus": [
            [
             0.0,
             "#0d0887"
            ],
            [
             0.1111111111111111,
             "#46039f"
            ],
            [
             0.2222222222222222,
             "#7201a8"
            ],
            [
             0.3333333333333333,
             "#9c179e"
            ],
            [
             0.4444444444444444,
             "#bd3786"
            ],
            [
             0.5555555555555556,
             "#d8576b"
            ],
            [
             0.6666666666666666,
             "#ed7953"
            ],
            [
             0.7777777777777778,
             "#fb9f3a"
            ],
            [
             0.8888888888888888,
             "#fdca26"
            ],
            [
             1.0,
             "#f0f921"
            ]
           ],
           "diverging": [
            [
             0,
             "#8e0152"
            ],
            [
             0.1,
             "#c51b7d"
            ],
            [
             0.2,
             "#de77ae"
            ],
            [
             0.3,
             "#f1b6da"
            ],
            [
             0.4,
             "#fde0ef"
            ],
            [
             0.5,
             "#f7f7f7"
            ],
            [
             0.6,
             "#e6f5d0"
            ],
            [
             0.7,
             "#b8e186"
            ],
            [
             0.8,
             "#7fbc41"
            ],
            [
             0.9,
             "#4d9221"
            ],
            [
             1,
             "#276419"
            ]
           ]
          },
          "xaxis": {
           "gridcolor": "white",
           "linecolor": "white",
           "ticks": "",
           "title": {
            "standoff": 15
           },
           "zerolinecolor": "white",
           "automargin": true,
           "zerolinewidth": 2
          },
          "yaxis": {
           "gridcolor": "white",
           "linecolor": "white",
           "ticks": "",
           "title": {
            "standoff": 15
           },
           "zerolinecolor": "white",
           "automargin": true,
           "zerolinewidth": 2
          },
          "scene": {
           "xaxis": {
            "backgroundcolor": "#E5ECF6",
            "gridcolor": "white",
            "linecolor": "white",
            "showbackground": true,
            "ticks": "",
            "zerolinecolor": "white",
            "gridwidth": 2
           },
           "yaxis": {
            "backgroundcolor": "#E5ECF6",
            "gridcolor": "white",
            "linecolor": "white",
            "showbackground": true,
            "ticks": "",
            "zerolinecolor": "white",
            "gridwidth": 2
           },
           "zaxis": {
            "backgroundcolor": "#E5ECF6",
            "gridcolor": "white",
            "linecolor": "white",
            "showbackground": true,
            "ticks": "",
            "zerolinecolor": "white",
            "gridwidth": 2
           }
          },
          "shapedefaults": {
           "line": {
            "color": "#2a3f5f"
           }
          },
          "annotationdefaults": {
           "arrowcolor": "#2a3f5f",
           "arrowhead": 0,
           "arrowwidth": 1
          },
          "geo": {
           "bgcolor": "white",
           "landcolor": "#E5ECF6",
           "subunitcolor": "white",
           "showland": true,
           "showlakes": true,
           "lakecolor": "white"
          },
          "title": {
           "x": 0.05
          },
          "mapbox": {
           "style": "light"
          }
         }
        },
        "margin": {
         "l": 20,
         "r": 20,
         "t": 20,
         "b": 20
        },
        "font": {
         "color": "black"
        },
        "height": 600,
        "width": 600,
        "paper_bgcolor": "white",
        "plot_bgcolor": "white",
        "showlegend": false
       },
       "config": {
        "plotlyServerURL": "https://plot.ly"
       }
      },
      "text/html": [
       "<div>                            <div id=\"1039dc48-813a-41fb-a3f5-e61502decf7d\" class=\"plotly-graph-div\" style=\"height:600px; width:600px;\"></div>            <script type=\"text/javascript\">                require([\"plotly\"], function(Plotly) {                    window.PLOTLYENV=window.PLOTLYENV || {};                                    if (document.getElementById(\"1039dc48-813a-41fb-a3f5-e61502decf7d\")) {                    Plotly.newPlot(                        \"1039dc48-813a-41fb-a3f5-e61502decf7d\",                        [{\"hole\":0.3,\"insidetextorientation\":\"radial\",\"labels\":[\"6736.T\",\"AVGO\",\"LRN\",\"8022.T\",\"Other(115)\"],\"textinfo\":\"label+percent\",\"textposition\":\"inside\",\"values\":[0.0324,0.0117,0.0124,0.0124,0.497],\"type\":\"pie\"}],                        {\"template\":{\"data\":{\"histogram2dcontour\":[{\"type\":\"histogram2dcontour\",\"colorbar\":{\"outlinewidth\":0,\"ticks\":\"\"},\"colorscale\":[[0.0,\"#0d0887\"],[0.1111111111111111,\"#46039f\"],[0.2222222222222222,\"#7201a8\"],[0.3333333333333333,\"#9c179e\"],[0.4444444444444444,\"#bd3786\"],[0.5555555555555556,\"#d8576b\"],[0.6666666666666666,\"#ed7953\"],[0.7777777777777778,\"#fb9f3a\"],[0.8888888888888888,\"#fdca26\"],[1.0,\"#f0f921\"]]}],\"choropleth\":[{\"type\":\"choropleth\",\"colorbar\":{\"outlinewidth\":0,\"ticks\":\"\"}}],\"histogram2d\":[{\"type\":\"histogram2d\",\"colorbar\":{\"outlinewidth\":0,\"ticks\":\"\"},\"colorscale\":[[0.0,\"#0d0887\"],[0.1111111111111111,\"#46039f\"],[0.2222222222222222,\"#7201a8\"],[0.3333333333333333,\"#9c179e\"],[0.4444444444444444,\"#bd3786\"],[0.5555555555555556,\"#d8576b\"],[0.6666666666666666,\"#ed7953\"],[0.7777777777777778,\"#fb9f3a\"],[0.8888888888888888,\"#fdca26\"],[1.0,\"#f0f921\"]]}],\"heatmap\":[{\"type\":\"heatmap\",\"colorbar\":{\"outlinewidth\":0,\"ticks\":\"\"},\"colorscale\":[[0.0,\"#0d0887\"],[0.1111111111111111,\"#46039f\"],[0.2222222222222222,\"#7201a8\"],[0.3333333333333333,\"#9c179e\"],[0.4444444444444444,\"#bd3786\"],[0.5555555555555556,\"#d8576b\"],[0.6666666666666666,\"#ed7953\"],[0.7777777777777778,\"#fb9f3a\"],[0.8888888888888888,\"#fdca26\"],[1.0,\"#f0f921\"]]}],\"heatmapgl\":[{\"type\":\"heatmapgl\",\"colorbar\":{\"outlinewidth\":0,\"ticks\":\"\"},\"colorscale\":[[0.0,\"#0d0887\"],[0.1111111111111111,\"#46039f\"],[0.2222222222222222,\"#7201a8\"],[0.3333333333333333,\"#9c179e\"],[0.4444444444444444,\"#bd3786\"],[0.5555555555555556,\"#d8576b\"],[0.6666666666666666,\"#ed7953\"],[0.7777777777777778,\"#fb9f3a\"],[0.8888888888888888,\"#fdca26\"],[1.0,\"#f0f921\"]]}],\"contourcarpet\":[{\"type\":\"contourcarpet\",\"colorbar\":{\"outlinewidth\":0,\"ticks\":\"\"}}],\"contour\":[{\"type\":\"contour\",\"colorbar\":{\"outlinewidth\":0,\"ticks\":\"\"},\"colorscale\":[[0.0,\"#0d0887\"],[0.1111111111111111,\"#46039f\"],[0.2222222222222222,\"#7201a8\"],[0.3333333333333333,\"#9c179e\"],[0.4444444444444444,\"#bd3786\"],[0.5555555555555556,\"#d8576b\"],[0.6666666666666666,\"#ed7953\"],[0.7777777777777778,\"#fb9f3a\"],[0.8888888888888888,\"#fdca26\"],[1.0,\"#f0f921\"]]}],\"surface\":[{\"type\":\"surface\",\"colorbar\":{\"outlinewidth\":0,\"ticks\":\"\"},\"colorscale\":[[0.0,\"#0d0887\"],[0.1111111111111111,\"#46039f\"],[0.2222222222222222,\"#7201a8\"],[0.3333333333333333,\"#9c179e\"],[0.4444444444444444,\"#bd3786\"],[0.5555555555555556,\"#d8576b\"],[0.6666666666666666,\"#ed7953\"],[0.7777777777777778,\"#fb9f3a\"],[0.8888888888888888,\"#fdca26\"],[1.0,\"#f0f921\"]]}],\"mesh3d\":[{\"type\":\"mesh3d\",\"colorbar\":{\"outlinewidth\":0,\"ticks\":\"\"}}],\"scatter\":[{\"fillpattern\":{\"fillmode\":\"overlay\",\"size\":10,\"solidity\":0.2},\"type\":\"scatter\"}],\"parcoords\":[{\"type\":\"parcoords\",\"line\":{\"colorbar\":{\"outlinewidth\":0,\"ticks\":\"\"}}}],\"scatterpolargl\":[{\"type\":\"scatterpolargl\",\"marker\":{\"colorbar\":{\"outlinewidth\":0,\"ticks\":\"\"}}}],\"bar\":[{\"error_x\":{\"color\":\"#2a3f5f\"},\"error_y\":{\"color\":\"#2a3f5f\"},\"marker\":{\"line\":{\"color\":\"#E5ECF6\",\"width\":0.5},\"pattern\":{\"fillmode\":\"overlay\",\"size\":10,\"solidity\":0.2}},\"type\":\"bar\"}],\"scattergeo\":[{\"type\":\"scattergeo\",\"marker\":{\"colorbar\":{\"outlinewidth\":0,\"ticks\":\"\"}}}],\"scatterpolar\":[{\"type\":\"scatterpolar\",\"marker\":{\"colorbar\":{\"outlinewidth\":0,\"ticks\":\"\"}}}],\"histogram\":[{\"marker\":{\"pattern\":{\"fillmode\":\"overlay\",\"size\":10,\"solidity\":0.2}},\"type\":\"histogram\"}],\"scattergl\":[{\"type\":\"scattergl\",\"marker\":{\"colorbar\":{\"outlinewidth\":0,\"ticks\":\"\"}}}],\"scatter3d\":[{\"type\":\"scatter3d\",\"line\":{\"colorbar\":{\"outlinewidth\":0,\"ticks\":\"\"}},\"marker\":{\"colorbar\":{\"outlinewidth\":0,\"ticks\":\"\"}}}],\"scattermapbox\":[{\"type\":\"scattermapbox\",\"marker\":{\"colorbar\":{\"outlinewidth\":0,\"ticks\":\"\"}}}],\"scatterternary\":[{\"type\":\"scatterternary\",\"marker\":{\"colorbar\":{\"outlinewidth\":0,\"ticks\":\"\"}}}],\"scattercarpet\":[{\"type\":\"scattercarpet\",\"marker\":{\"colorbar\":{\"outlinewidth\":0,\"ticks\":\"\"}}}],\"carpet\":[{\"aaxis\":{\"endlinecolor\":\"#2a3f5f\",\"gridcolor\":\"white\",\"linecolor\":\"white\",\"minorgridcolor\":\"white\",\"startlinecolor\":\"#2a3f5f\"},\"baxis\":{\"endlinecolor\":\"#2a3f5f\",\"gridcolor\":\"white\",\"linecolor\":\"white\",\"minorgridcolor\":\"white\",\"startlinecolor\":\"#2a3f5f\"},\"type\":\"carpet\"}],\"table\":[{\"cells\":{\"fill\":{\"color\":\"#EBF0F8\"},\"line\":{\"color\":\"white\"}},\"header\":{\"fill\":{\"color\":\"#C8D4E3\"},\"line\":{\"color\":\"white\"}},\"type\":\"table\"}],\"barpolar\":[{\"marker\":{\"line\":{\"color\":\"#E5ECF6\",\"width\":0.5},\"pattern\":{\"fillmode\":\"overlay\",\"size\":10,\"solidity\":0.2}},\"type\":\"barpolar\"}],\"pie\":[{\"automargin\":true,\"type\":\"pie\"}]},\"layout\":{\"autotypenumbers\":\"strict\",\"colorway\":[\"#636efa\",\"#EF553B\",\"#00cc96\",\"#ab63fa\",\"#FFA15A\",\"#19d3f3\",\"#FF6692\",\"#B6E880\",\"#FF97FF\",\"#FECB52\"],\"font\":{\"color\":\"#2a3f5f\"},\"hovermode\":\"closest\",\"hoverlabel\":{\"align\":\"left\"},\"paper_bgcolor\":\"white\",\"plot_bgcolor\":\"#E5ECF6\",\"polar\":{\"bgcolor\":\"#E5ECF6\",\"angularaxis\":{\"gridcolor\":\"white\",\"linecolor\":\"white\",\"ticks\":\"\"},\"radialaxis\":{\"gridcolor\":\"white\",\"linecolor\":\"white\",\"ticks\":\"\"}},\"ternary\":{\"bgcolor\":\"#E5ECF6\",\"aaxis\":{\"gridcolor\":\"white\",\"linecolor\":\"white\",\"ticks\":\"\"},\"baxis\":{\"gridcolor\":\"white\",\"linecolor\":\"white\",\"ticks\":\"\"},\"caxis\":{\"gridcolor\":\"white\",\"linecolor\":\"white\",\"ticks\":\"\"}},\"coloraxis\":{\"colorbar\":{\"outlinewidth\":0,\"ticks\":\"\"}},\"colorscale\":{\"sequential\":[[0.0,\"#0d0887\"],[0.1111111111111111,\"#46039f\"],[0.2222222222222222,\"#7201a8\"],[0.3333333333333333,\"#9c179e\"],[0.4444444444444444,\"#bd3786\"],[0.5555555555555556,\"#d8576b\"],[0.6666666666666666,\"#ed7953\"],[0.7777777777777778,\"#fb9f3a\"],[0.8888888888888888,\"#fdca26\"],[1.0,\"#f0f921\"]],\"sequentialminus\":[[0.0,\"#0d0887\"],[0.1111111111111111,\"#46039f\"],[0.2222222222222222,\"#7201a8\"],[0.3333333333333333,\"#9c179e\"],[0.4444444444444444,\"#bd3786\"],[0.5555555555555556,\"#d8576b\"],[0.6666666666666666,\"#ed7953\"],[0.7777777777777778,\"#fb9f3a\"],[0.8888888888888888,\"#fdca26\"],[1.0,\"#f0f921\"]],\"diverging\":[[0,\"#8e0152\"],[0.1,\"#c51b7d\"],[0.2,\"#de77ae\"],[0.3,\"#f1b6da\"],[0.4,\"#fde0ef\"],[0.5,\"#f7f7f7\"],[0.6,\"#e6f5d0\"],[0.7,\"#b8e186\"],[0.8,\"#7fbc41\"],[0.9,\"#4d9221\"],[1,\"#276419\"]]},\"xaxis\":{\"gridcolor\":\"white\",\"linecolor\":\"white\",\"ticks\":\"\",\"title\":{\"standoff\":15},\"zerolinecolor\":\"white\",\"automargin\":true,\"zerolinewidth\":2},\"yaxis\":{\"gridcolor\":\"white\",\"linecolor\":\"white\",\"ticks\":\"\",\"title\":{\"standoff\":15},\"zerolinecolor\":\"white\",\"automargin\":true,\"zerolinewidth\":2},\"scene\":{\"xaxis\":{\"backgroundcolor\":\"#E5ECF6\",\"gridcolor\":\"white\",\"linecolor\":\"white\",\"showbackground\":true,\"ticks\":\"\",\"zerolinecolor\":\"white\",\"gridwidth\":2},\"yaxis\":{\"backgroundcolor\":\"#E5ECF6\",\"gridcolor\":\"white\",\"linecolor\":\"white\",\"showbackground\":true,\"ticks\":\"\",\"zerolinecolor\":\"white\",\"gridwidth\":2},\"zaxis\":{\"backgroundcolor\":\"#E5ECF6\",\"gridcolor\":\"white\",\"linecolor\":\"white\",\"showbackground\":true,\"ticks\":\"\",\"zerolinecolor\":\"white\",\"gridwidth\":2}},\"shapedefaults\":{\"line\":{\"color\":\"#2a3f5f\"}},\"annotationdefaults\":{\"arrowcolor\":\"#2a3f5f\",\"arrowhead\":0,\"arrowwidth\":1},\"geo\":{\"bgcolor\":\"white\",\"landcolor\":\"#E5ECF6\",\"subunitcolor\":\"white\",\"showland\":true,\"showlakes\":true,\"lakecolor\":\"white\"},\"title\":{\"x\":0.05},\"mapbox\":{\"style\":\"light\"}}},\"margin\":{\"l\":20,\"r\":20,\"t\":20,\"b\":20},\"font\":{\"color\":\"black\"},\"height\":600,\"width\":600,\"paper_bgcolor\":\"white\",\"plot_bgcolor\":\"white\",\"showlegend\":false},                        {\"responsive\": true}                    ).then(function(){\n",
       "                            \n",
       "var gd = document.getElementById('1039dc48-813a-41fb-a3f5-e61502decf7d');\n",
       "var x = new MutationObserver(function (mutations, observer) {{\n",
       "        var display = window.getComputedStyle(gd).display;\n",
       "        if (!display || display === 'none') {{\n",
       "            console.log([gd, 'removed!']);\n",
       "            Plotly.purge(gd);\n",
       "            observer.disconnect();\n",
       "        }}\n",
       "}});\n",
       "\n",
       "// Listen for the removal of the full notebook cells\n",
       "var notebookContainer = gd.closest('#notebook-container');\n",
       "if (notebookContainer) {{\n",
       "    x.observe(notebookContainer, {childList: true});\n",
       "}}\n",
       "\n",
       "// Listen for the clearing of the current output cell\n",
       "var outputEl = gd.closest('.output');\n",
       "if (outputEl) {{\n",
       "    x.observe(outputEl, {childList: true});\n",
       "}}\n",
       "\n",
       "                        })                };                });            </script>        </div>"
      ]
     },
     "metadata": {},
     "output_type": "display_data"
    }
   ],
   "execution_count": 572
  },
  {
   "metadata": {},
   "cell_type": "markdown",
   "source": "#### Overview - 1 Month",
   "id": "35a2f8a1bfda11fc"
  },
  {
   "metadata": {
    "ExecuteTime": {
     "end_time": "2025-06-15T15:57:09.947172Z",
     "start_time": "2025-06-15T15:57:09.901776Z"
    }
   },
   "cell_type": "code",
   "source": [
    "importlib.reload(mpt_utils)\n",
    "# Create overview\n",
    "mpt_utils.generate_overview_table(weights_all_1m, mu_1m, S_1m, df_pct)"
   ],
   "id": "af027ccea9e1252e",
   "outputs": [
    {
     "data": {
      "text/plain": [
       "        Share Count  Average Covariance Average Returns Return Last 12 Months  \\\n",
       "6736.T            6           -0.072373         178.94%                31.39%   \n",
       "LRN               1           -0.012119          18.58%                62.22%   \n",
       "8022.T            2           -0.010763         -56.16%                75.44%   \n",
       "AVGO              1           -0.003644          68.17%                83.55%   \n",
       "ANF               1           -0.063644         261.18%               246.76%   \n",
       "...             ...                 ...             ...                   ...   \n",
       "7575.T            1            0.008983          66.44%                19.33%   \n",
       "6471.T            1            0.021186          -5.28%                 6.27%   \n",
       "2874.T            1            0.037542          27.07%                30.54%   \n",
       "8897.T            2            0.020424         -14.71%                12.26%   \n",
       "9470.T            1            0.004576          16.37%               -10.92%   \n",
       "\n",
       "       Return (Actual) Next 12 Months  \n",
       "6736.T                        296.94%  \n",
       "LRN                            75.45%  \n",
       "8022.T                         93.58%  \n",
       "AVGO                           81.33%  \n",
       "ANF                           130.59%  \n",
       "...                               ...  \n",
       "7575.T                          5.04%  \n",
       "6471.T                        -12.75%  \n",
       "2874.T                        -14.93%  \n",
       "8897.T                         12.31%  \n",
       "9470.T                         17.16%  \n",
       "\n",
       "[119 rows x 5 columns]"
      ],
      "text/html": [
       "<div>\n",
       "<style scoped>\n",
       "    .dataframe tbody tr th:only-of-type {\n",
       "        vertical-align: middle;\n",
       "    }\n",
       "\n",
       "    .dataframe tbody tr th {\n",
       "        vertical-align: top;\n",
       "    }\n",
       "\n",
       "    .dataframe thead th {\n",
       "        text-align: right;\n",
       "    }\n",
       "</style>\n",
       "<table border=\"1\" class=\"dataframe\">\n",
       "  <thead>\n",
       "    <tr style=\"text-align: right;\">\n",
       "      <th></th>\n",
       "      <th>Share Count</th>\n",
       "      <th>Average Covariance</th>\n",
       "      <th>Average Returns</th>\n",
       "      <th>Return Last 12 Months</th>\n",
       "      <th>Return (Actual) Next 12 Months</th>\n",
       "    </tr>\n",
       "  </thead>\n",
       "  <tbody>\n",
       "    <tr>\n",
       "      <th>6736.T</th>\n",
       "      <td>6</td>\n",
       "      <td>-0.072373</td>\n",
       "      <td>178.94%</td>\n",
       "      <td>31.39%</td>\n",
       "      <td>296.94%</td>\n",
       "    </tr>\n",
       "    <tr>\n",
       "      <th>LRN</th>\n",
       "      <td>1</td>\n",
       "      <td>-0.012119</td>\n",
       "      <td>18.58%</td>\n",
       "      <td>62.22%</td>\n",
       "      <td>75.45%</td>\n",
       "    </tr>\n",
       "    <tr>\n",
       "      <th>8022.T</th>\n",
       "      <td>2</td>\n",
       "      <td>-0.010763</td>\n",
       "      <td>-56.16%</td>\n",
       "      <td>75.44%</td>\n",
       "      <td>93.58%</td>\n",
       "    </tr>\n",
       "    <tr>\n",
       "      <th>AVGO</th>\n",
       "      <td>1</td>\n",
       "      <td>-0.003644</td>\n",
       "      <td>68.17%</td>\n",
       "      <td>83.55%</td>\n",
       "      <td>81.33%</td>\n",
       "    </tr>\n",
       "    <tr>\n",
       "      <th>ANF</th>\n",
       "      <td>1</td>\n",
       "      <td>-0.063644</td>\n",
       "      <td>261.18%</td>\n",
       "      <td>246.76%</td>\n",
       "      <td>130.59%</td>\n",
       "    </tr>\n",
       "    <tr>\n",
       "      <th>...</th>\n",
       "      <td>...</td>\n",
       "      <td>...</td>\n",
       "      <td>...</td>\n",
       "      <td>...</td>\n",
       "      <td>...</td>\n",
       "    </tr>\n",
       "    <tr>\n",
       "      <th>7575.T</th>\n",
       "      <td>1</td>\n",
       "      <td>0.008983</td>\n",
       "      <td>66.44%</td>\n",
       "      <td>19.33%</td>\n",
       "      <td>5.04%</td>\n",
       "    </tr>\n",
       "    <tr>\n",
       "      <th>6471.T</th>\n",
       "      <td>1</td>\n",
       "      <td>0.021186</td>\n",
       "      <td>-5.28%</td>\n",
       "      <td>6.27%</td>\n",
       "      <td>-12.75%</td>\n",
       "    </tr>\n",
       "    <tr>\n",
       "      <th>2874.T</th>\n",
       "      <td>1</td>\n",
       "      <td>0.037542</td>\n",
       "      <td>27.07%</td>\n",
       "      <td>30.54%</td>\n",
       "      <td>-14.93%</td>\n",
       "    </tr>\n",
       "    <tr>\n",
       "      <th>8897.T</th>\n",
       "      <td>2</td>\n",
       "      <td>0.020424</td>\n",
       "      <td>-14.71%</td>\n",
       "      <td>12.26%</td>\n",
       "      <td>12.31%</td>\n",
       "    </tr>\n",
       "    <tr>\n",
       "      <th>9470.T</th>\n",
       "      <td>1</td>\n",
       "      <td>0.004576</td>\n",
       "      <td>16.37%</td>\n",
       "      <td>-10.92%</td>\n",
       "      <td>17.16%</td>\n",
       "    </tr>\n",
       "  </tbody>\n",
       "</table>\n",
       "<p>119 rows × 5 columns</p>\n",
       "</div>"
      ]
     },
     "execution_count": 573,
     "metadata": {},
     "output_type": "execute_result"
    }
   ],
   "execution_count": 573
  },
  {
   "metadata": {},
   "cell_type": "markdown",
   "source": "## XGBoost Univariate - 6 Months",
   "id": "b9d9c2787485c1ff"
  },
  {
   "metadata": {
    "ExecuteTime": {
     "end_time": "2025-06-15T15:57:14.162668Z",
     "start_time": "2025-06-15T15:57:09.978456Z"
    }
   },
   "cell_type": "code",
   "source": [
    "importlib.reload(train_test)\n",
    "importlib.reload(xgboost_utils)\n",
    "#\n",
    "#df_tab_filtered = df_tabular.tail(variables.TRAIN_MONTH_NR*len(df.columns))\n",
    "X_train, y_train, X_test, y_test, min_datestr = train_test.split_train_test_tabular(df_tabular, months=variables.TEST_MONTHS_NR, target_key='m_return_target(t+6)')\n",
    "#\n",
    "model_6m, score_6m = xgboost_utils.get_xgboost_trained_model(X_train, y_train, X_test, y_test)"
   ],
   "id": "93df1cf38cd00ed9",
   "outputs": [
    {
     "name": "stdout",
     "output_type": "stream",
     "text": [
      "[0]\tvalidation_0-rmse:0.11611\tvalidation_1-rmse:0.09335\n",
      "[1]\tvalidation_0-rmse:0.11603\tvalidation_1-rmse:0.09330\n",
      "[2]\tvalidation_0-rmse:0.11593\tvalidation_1-rmse:0.09331\n",
      "[3]\tvalidation_0-rmse:0.11584\tvalidation_1-rmse:0.09332\n",
      "[4]\tvalidation_0-rmse:0.11575\tvalidation_1-rmse:0.09333\n",
      "[5]\tvalidation_0-rmse:0.11559\tvalidation_1-rmse:0.09336\n",
      "[6]\tvalidation_0-rmse:0.11551\tvalidation_1-rmse:0.09339\n",
      "[7]\tvalidation_0-rmse:0.11543\tvalidation_1-rmse:0.09340\n",
      "[8]\tvalidation_0-rmse:0.11536\tvalidation_1-rmse:0.09342\n",
      "[9]\tvalidation_0-rmse:0.11523\tvalidation_1-rmse:0.09344\n",
      "[10]\tvalidation_0-rmse:0.11517\tvalidation_1-rmse:0.09342\n",
      "[11]\tvalidation_0-rmse:0.11502\tvalidation_1-rmse:0.09342\n",
      "[12]\tvalidation_0-rmse:0.11486\tvalidation_1-rmse:0.09341\n",
      "[13]\tvalidation_0-rmse:0.11481\tvalidation_1-rmse:0.09346\n",
      "[14]\tvalidation_0-rmse:0.11475\tvalidation_1-rmse:0.09347\n",
      "[15]\tvalidation_0-rmse:0.11469\tvalidation_1-rmse:0.09347\n",
      "[16]\tvalidation_0-rmse:0.11459\tvalidation_1-rmse:0.09351\n",
      "[17]\tvalidation_0-rmse:0.11450\tvalidation_1-rmse:0.09351\n",
      "[18]\tvalidation_0-rmse:0.11443\tvalidation_1-rmse:0.09355\n",
      "[19]\tvalidation_0-rmse:0.11439\tvalidation_1-rmse:0.09356\n",
      "[20]\tvalidation_0-rmse:0.11434\tvalidation_1-rmse:0.09357\n",
      "[21]\tvalidation_0-rmse:0.11430\tvalidation_1-rmse:0.09353\n",
      "[22]\tvalidation_0-rmse:0.11420\tvalidation_1-rmse:0.09354\n",
      "[23]\tvalidation_0-rmse:0.11416\tvalidation_1-rmse:0.09356\n",
      "[24]\tvalidation_0-rmse:0.11411\tvalidation_1-rmse:0.09338\n",
      "[25]\tvalidation_0-rmse:0.11407\tvalidation_1-rmse:0.09341\n",
      "[26]\tvalidation_0-rmse:0.11404\tvalidation_1-rmse:0.09341\n",
      "[27]\tvalidation_0-rmse:0.11398\tvalidation_1-rmse:0.09344\n",
      "[28]\tvalidation_0-rmse:0.11392\tvalidation_1-rmse:0.09322\n",
      "[29]\tvalidation_0-rmse:0.11388\tvalidation_1-rmse:0.09326\n",
      "[30]\tvalidation_0-rmse:0.11373\tvalidation_1-rmse:0.09325\n",
      "[31]\tvalidation_0-rmse:0.11369\tvalidation_1-rmse:0.09327\n",
      "[32]\tvalidation_0-rmse:0.11362\tvalidation_1-rmse:0.09325\n",
      "[33]\tvalidation_0-rmse:0.11355\tvalidation_1-rmse:0.09325\n",
      "[34]\tvalidation_0-rmse:0.11346\tvalidation_1-rmse:0.09306\n",
      "[35]\tvalidation_0-rmse:0.11330\tvalidation_1-rmse:0.09294\n",
      "[36]\tvalidation_0-rmse:0.11326\tvalidation_1-rmse:0.09294\n",
      "[37]\tvalidation_0-rmse:0.11324\tvalidation_1-rmse:0.09294\n",
      "[38]\tvalidation_0-rmse:0.11321\tvalidation_1-rmse:0.09295\n",
      "[39]\tvalidation_0-rmse:0.11317\tvalidation_1-rmse:0.09292\n",
      "[40]\tvalidation_0-rmse:0.11314\tvalidation_1-rmse:0.09292\n",
      "[41]\tvalidation_0-rmse:0.11306\tvalidation_1-rmse:0.09297\n",
      "[42]\tvalidation_0-rmse:0.11302\tvalidation_1-rmse:0.09299\n",
      "[43]\tvalidation_0-rmse:0.11299\tvalidation_1-rmse:0.09295\n",
      "[44]\tvalidation_0-rmse:0.11296\tvalidation_1-rmse:0.09295\n",
      "[45]\tvalidation_0-rmse:0.11293\tvalidation_1-rmse:0.09293\n",
      "[46]\tvalidation_0-rmse:0.11291\tvalidation_1-rmse:0.09294\n",
      "[47]\tvalidation_0-rmse:0.11289\tvalidation_1-rmse:0.09295\n",
      "[48]\tvalidation_0-rmse:0.11286\tvalidation_1-rmse:0.09285\n",
      "[49]\tvalidation_0-rmse:0.11282\tvalidation_1-rmse:0.09287\n",
      "[50]\tvalidation_0-rmse:0.11279\tvalidation_1-rmse:0.09290\n",
      "[51]\tvalidation_0-rmse:0.11275\tvalidation_1-rmse:0.09298\n",
      "[52]\tvalidation_0-rmse:0.11273\tvalidation_1-rmse:0.09299\n",
      "[53]\tvalidation_0-rmse:0.11270\tvalidation_1-rmse:0.09297\n",
      "[54]\tvalidation_0-rmse:0.11266\tvalidation_1-rmse:0.09298\n",
      "[55]\tvalidation_0-rmse:0.11261\tvalidation_1-rmse:0.09297\n",
      "[56]\tvalidation_0-rmse:0.11259\tvalidation_1-rmse:0.09296\n",
      "[57]\tvalidation_0-rmse:0.11256\tvalidation_1-rmse:0.09295\n",
      "[58]\tvalidation_0-rmse:0.11244\tvalidation_1-rmse:0.09293\n",
      "[59]\tvalidation_0-rmse:0.11234\tvalidation_1-rmse:0.09281\n",
      "[60]\tvalidation_0-rmse:0.11228\tvalidation_1-rmse:0.09285\n",
      "[61]\tvalidation_0-rmse:0.11225\tvalidation_1-rmse:0.09287\n",
      "[62]\tvalidation_0-rmse:0.11223\tvalidation_1-rmse:0.09288\n",
      "[63]\tvalidation_0-rmse:0.11218\tvalidation_1-rmse:0.09285\n",
      "[64]\tvalidation_0-rmse:0.11210\tvalidation_1-rmse:0.09273\n",
      "[65]\tvalidation_0-rmse:0.11208\tvalidation_1-rmse:0.09276\n",
      "[66]\tvalidation_0-rmse:0.11203\tvalidation_1-rmse:0.09260\n",
      "[67]\tvalidation_0-rmse:0.11201\tvalidation_1-rmse:0.09260\n",
      "[68]\tvalidation_0-rmse:0.11198\tvalidation_1-rmse:0.09260\n",
      "[69]\tvalidation_0-rmse:0.11194\tvalidation_1-rmse:0.09259\n",
      "[70]\tvalidation_0-rmse:0.11191\tvalidation_1-rmse:0.09253\n",
      "[71]\tvalidation_0-rmse:0.11179\tvalidation_1-rmse:0.09255\n",
      "[72]\tvalidation_0-rmse:0.11177\tvalidation_1-rmse:0.09255\n",
      "[73]\tvalidation_0-rmse:0.11174\tvalidation_1-rmse:0.09254\n",
      "[74]\tvalidation_0-rmse:0.11171\tvalidation_1-rmse:0.09256\n",
      "[75]\tvalidation_0-rmse:0.11169\tvalidation_1-rmse:0.09259\n",
      "[76]\tvalidation_0-rmse:0.11166\tvalidation_1-rmse:0.09267\n",
      "[77]\tvalidation_0-rmse:0.11164\tvalidation_1-rmse:0.09263\n",
      "[78]\tvalidation_0-rmse:0.11162\tvalidation_1-rmse:0.09268\n",
      "[79]\tvalidation_0-rmse:0.11154\tvalidation_1-rmse:0.09268\n",
      "[80]\tvalidation_0-rmse:0.11151\tvalidation_1-rmse:0.09268\n",
      "[81]\tvalidation_0-rmse:0.11145\tvalidation_1-rmse:0.09258\n",
      "[82]\tvalidation_0-rmse:0.11141\tvalidation_1-rmse:0.09259\n",
      "[83]\tvalidation_0-rmse:0.11138\tvalidation_1-rmse:0.09250\n",
      "[84]\tvalidation_0-rmse:0.11135\tvalidation_1-rmse:0.09249\n",
      "[85]\tvalidation_0-rmse:0.11134\tvalidation_1-rmse:0.09249\n",
      "[86]\tvalidation_0-rmse:0.11132\tvalidation_1-rmse:0.09248\n",
      "[87]\tvalidation_0-rmse:0.11129\tvalidation_1-rmse:0.09246\n",
      "[88]\tvalidation_0-rmse:0.11127\tvalidation_1-rmse:0.09246\n",
      "[89]\tvalidation_0-rmse:0.11123\tvalidation_1-rmse:0.09246\n",
      "[90]\tvalidation_0-rmse:0.11120\tvalidation_1-rmse:0.09255\n",
      "[91]\tvalidation_0-rmse:0.11107\tvalidation_1-rmse:0.09252\n",
      "[92]\tvalidation_0-rmse:0.11105\tvalidation_1-rmse:0.09254\n",
      "[93]\tvalidation_0-rmse:0.11103\tvalidation_1-rmse:0.09253\n",
      "[94]\tvalidation_0-rmse:0.11100\tvalidation_1-rmse:0.09246\n",
      "[95]\tvalidation_0-rmse:0.11099\tvalidation_1-rmse:0.09246\n",
      "[96]\tvalidation_0-rmse:0.11097\tvalidation_1-rmse:0.09246\n",
      "[97]\tvalidation_0-rmse:0.11094\tvalidation_1-rmse:0.09261\n",
      "[98]\tvalidation_0-rmse:0.11092\tvalidation_1-rmse:0.09262\n",
      "[99]\tvalidation_0-rmse:0.11090\tvalidation_1-rmse:0.09263\n",
      "[100]\tvalidation_0-rmse:0.11087\tvalidation_1-rmse:0.09254\n",
      "[101]\tvalidation_0-rmse:0.11083\tvalidation_1-rmse:0.09256\n",
      "[102]\tvalidation_0-rmse:0.11082\tvalidation_1-rmse:0.09254\n",
      "[103]\tvalidation_0-rmse:0.11080\tvalidation_1-rmse:0.09258\n",
      "[104]\tvalidation_0-rmse:0.11078\tvalidation_1-rmse:0.09256\n",
      "[105]\tvalidation_0-rmse:0.11076\tvalidation_1-rmse:0.09255\n",
      "[106]\tvalidation_0-rmse:0.11073\tvalidation_1-rmse:0.09250\n",
      "[107]\tvalidation_0-rmse:0.11072\tvalidation_1-rmse:0.09254\n",
      "[108]\tvalidation_0-rmse:0.11070\tvalidation_1-rmse:0.09255\n",
      "[109]\tvalidation_0-rmse:0.11068\tvalidation_1-rmse:0.09256\n",
      "[110]\tvalidation_0-rmse:0.11058\tvalidation_1-rmse:0.09270\n",
      "[111]\tvalidation_0-rmse:0.11056\tvalidation_1-rmse:0.09271\n",
      "[112]\tvalidation_0-rmse:0.11053\tvalidation_1-rmse:0.09271\n",
      "[113]\tvalidation_0-rmse:0.11052\tvalidation_1-rmse:0.09277\n",
      "[114]\tvalidation_0-rmse:0.11050\tvalidation_1-rmse:0.09278\n",
      "[115]\tvalidation_0-rmse:0.11049\tvalidation_1-rmse:0.09279\n",
      "[116]\tvalidation_0-rmse:0.11047\tvalidation_1-rmse:0.09279\n",
      "[117]\tvalidation_0-rmse:0.11046\tvalidation_1-rmse:0.09279\n",
      "[118]\tvalidation_0-rmse:0.11045\tvalidation_1-rmse:0.09280\n",
      "[119]\tvalidation_0-rmse:0.11042\tvalidation_1-rmse:0.09286\n",
      "[120]\tvalidation_0-rmse:0.11040\tvalidation_1-rmse:0.09286\n",
      "[121]\tvalidation_0-rmse:0.11038\tvalidation_1-rmse:0.09286\n",
      "[122]\tvalidation_0-rmse:0.11033\tvalidation_1-rmse:0.09294\n",
      "[123]\tvalidation_0-rmse:0.11032\tvalidation_1-rmse:0.09294\n",
      "[124]\tvalidation_0-rmse:0.11029\tvalidation_1-rmse:0.09295\n",
      "[125]\tvalidation_0-rmse:0.11028\tvalidation_1-rmse:0.09294\n",
      "[126]\tvalidation_0-rmse:0.11026\tvalidation_1-rmse:0.09293\n",
      "[127]\tvalidation_0-rmse:0.11025\tvalidation_1-rmse:0.09293\n",
      "[128]\tvalidation_0-rmse:0.11024\tvalidation_1-rmse:0.09290\n",
      "[129]\tvalidation_0-rmse:0.11022\tvalidation_1-rmse:0.09294\n",
      "[130]\tvalidation_0-rmse:0.11020\tvalidation_1-rmse:0.09295\n",
      "[131]\tvalidation_0-rmse:0.11017\tvalidation_1-rmse:0.09309\n",
      "[132]\tvalidation_0-rmse:0.11015\tvalidation_1-rmse:0.09313\n",
      "[133]\tvalidation_0-rmse:0.11012\tvalidation_1-rmse:0.09315\n",
      "[134]\tvalidation_0-rmse:0.11010\tvalidation_1-rmse:0.09321\n",
      "[135]\tvalidation_0-rmse:0.11000\tvalidation_1-rmse:0.09313\n",
      "[136]\tvalidation_0-rmse:0.10999\tvalidation_1-rmse:0.09312\n",
      "[137]\tvalidation_0-rmse:0.10998\tvalidation_1-rmse:0.09310\n",
      "[138]\tvalidation_0-rmse:0.10996\tvalidation_1-rmse:0.09316\n",
      "[139]\tvalidation_0-rmse:0.10993\tvalidation_1-rmse:0.09316\n",
      "[140]\tvalidation_0-rmse:0.10990\tvalidation_1-rmse:0.09314\n",
      "[141]\tvalidation_0-rmse:0.10987\tvalidation_1-rmse:0.09313\n",
      "[142]\tvalidation_0-rmse:0.10986\tvalidation_1-rmse:0.09313\n",
      "[143]\tvalidation_0-rmse:0.10983\tvalidation_1-rmse:0.09321\n",
      "[144]\tvalidation_0-rmse:0.10982\tvalidation_1-rmse:0.09321\n",
      "[145]\tvalidation_0-rmse:0.10981\tvalidation_1-rmse:0.09321\n",
      "[146]\tvalidation_0-rmse:0.10980\tvalidation_1-rmse:0.09321\n",
      "[147]\tvalidation_0-rmse:0.10978\tvalidation_1-rmse:0.09321\n",
      "[148]\tvalidation_0-rmse:0.10969\tvalidation_1-rmse:0.09314\n",
      "[149]\tvalidation_0-rmse:0.10967\tvalidation_1-rmse:0.09321\n",
      "[150]\tvalidation_0-rmse:0.10967\tvalidation_1-rmse:0.09320\n",
      "[151]\tvalidation_0-rmse:0.10966\tvalidation_1-rmse:0.09319\n",
      "[152]\tvalidation_0-rmse:0.10965\tvalidation_1-rmse:0.09323\n",
      "[153]\tvalidation_0-rmse:0.10960\tvalidation_1-rmse:0.09323\n",
      "[154]\tvalidation_0-rmse:0.10956\tvalidation_1-rmse:0.09329\n",
      "[155]\tvalidation_0-rmse:0.10948\tvalidation_1-rmse:0.09324\n",
      "[156]\tvalidation_0-rmse:0.10947\tvalidation_1-rmse:0.09317\n",
      "[157]\tvalidation_0-rmse:0.10946\tvalidation_1-rmse:0.09317\n",
      "[158]\tvalidation_0-rmse:0.10945\tvalidation_1-rmse:0.09317\n",
      "[159]\tvalidation_0-rmse:0.10945\tvalidation_1-rmse:0.09317\n",
      "[160]\tvalidation_0-rmse:0.10940\tvalidation_1-rmse:0.09316\n",
      "[161]\tvalidation_0-rmse:0.10938\tvalidation_1-rmse:0.09320\n",
      "[162]\tvalidation_0-rmse:0.10933\tvalidation_1-rmse:0.09320\n",
      "[163]\tvalidation_0-rmse:0.10930\tvalidation_1-rmse:0.09321\n",
      "[164]\tvalidation_0-rmse:0.10926\tvalidation_1-rmse:0.09319\n",
      "[165]\tvalidation_0-rmse:0.10925\tvalidation_1-rmse:0.09319\n",
      "[166]\tvalidation_0-rmse:0.10918\tvalidation_1-rmse:0.09316\n",
      "[167]\tvalidation_0-rmse:0.10916\tvalidation_1-rmse:0.09318\n",
      "[168]\tvalidation_0-rmse:0.10907\tvalidation_1-rmse:0.09316\n",
      "[169]\tvalidation_0-rmse:0.10906\tvalidation_1-rmse:0.09316\n",
      "[170]\tvalidation_0-rmse:0.10905\tvalidation_1-rmse:0.09325\n",
      "[171]\tvalidation_0-rmse:0.10897\tvalidation_1-rmse:0.09322\n",
      "[172]\tvalidation_0-rmse:0.10894\tvalidation_1-rmse:0.09321\n",
      "[173]\tvalidation_0-rmse:0.10893\tvalidation_1-rmse:0.09323\n",
      "[174]\tvalidation_0-rmse:0.10892\tvalidation_1-rmse:0.09323\n",
      "[175]\tvalidation_0-rmse:0.10883\tvalidation_1-rmse:0.09319\n",
      "[176]\tvalidation_0-rmse:0.10877\tvalidation_1-rmse:0.09318\n",
      "[177]\tvalidation_0-rmse:0.10875\tvalidation_1-rmse:0.09322\n",
      "[178]\tvalidation_0-rmse:0.10873\tvalidation_1-rmse:0.09320\n",
      "[179]\tvalidation_0-rmse:0.10873\tvalidation_1-rmse:0.09320\n",
      "[180]\tvalidation_0-rmse:0.10871\tvalidation_1-rmse:0.09320\n",
      "[181]\tvalidation_0-rmse:0.10865\tvalidation_1-rmse:0.09320\n",
      "[182]\tvalidation_0-rmse:0.10864\tvalidation_1-rmse:0.09320\n",
      "[183]\tvalidation_0-rmse:0.10863\tvalidation_1-rmse:0.09320\n",
      "[184]\tvalidation_0-rmse:0.10862\tvalidation_1-rmse:0.09320\n",
      "[185]\tvalidation_0-rmse:0.10861\tvalidation_1-rmse:0.09320\n",
      "[186]\tvalidation_0-rmse:0.10854\tvalidation_1-rmse:0.09316\n",
      "[187]\tvalidation_0-rmse:0.10852\tvalidation_1-rmse:0.09316\n",
      "[188]\tvalidation_0-rmse:0.10851\tvalidation_1-rmse:0.09314\n",
      "[189]\tvalidation_0-rmse:0.10848\tvalidation_1-rmse:0.09319\n",
      "[190]\tvalidation_0-rmse:0.10847\tvalidation_1-rmse:0.09318\n",
      "[191]\tvalidation_0-rmse:0.10845\tvalidation_1-rmse:0.09318\n",
      "[192]\tvalidation_0-rmse:0.10845\tvalidation_1-rmse:0.09314\n",
      "[193]\tvalidation_0-rmse:0.10843\tvalidation_1-rmse:0.09315\n",
      "[194]\tvalidation_0-rmse:0.10840\tvalidation_1-rmse:0.09315\n",
      "[195]\tvalidation_0-rmse:0.10839\tvalidation_1-rmse:0.09308\n",
      "[196]\tvalidation_0-rmse:0.10838\tvalidation_1-rmse:0.09309\n",
      "[197]\tvalidation_0-rmse:0.10837\tvalidation_1-rmse:0.09307\n",
      "[198]\tvalidation_0-rmse:0.10835\tvalidation_1-rmse:0.09308\n",
      "[199]\tvalidation_0-rmse:0.10833\tvalidation_1-rmse:0.09306\n",
      "Mean MAE: 0.084 (0.012)\n"
     ]
    }
   ],
   "execution_count": 574
  },
  {
   "metadata": {
    "ExecuteTime": {
     "end_time": "2025-06-15T15:57:14.281359Z",
     "start_time": "2025-06-15T15:57:14.165853Z"
    }
   },
   "cell_type": "code",
   "source": [
    "months_6m = 6\n",
    "X_train_6m, y_train_6m, X_test_6m, y_test_6m, min_datestr = train_test.split_train_test_tabular(df_tabular, months=6, target_key='m_return_target(t+6)')"
   ],
   "id": "34201fec54105879",
   "outputs": [],
   "execution_count": 575
  },
  {
   "metadata": {
    "ExecuteTime": {
     "end_time": "2025-06-15T15:57:14.440694Z",
     "start_time": "2025-06-15T15:57:14.284098Z"
    }
   },
   "cell_type": "code",
   "source": [
    "dt = datetime.strptime(min_datestr, '%Y-%m-%d')\n",
    "\n",
    "# get all training months without the last 6 months\n",
    "X_train_input_6m = X_train_6m.head(len(X_train_6m) - len(df_pct.columns)*months_6m)\n",
    "# Get last 6 months of the training dataset and use as input to predict the next 6 months\n",
    "X_test_input_6m = X_train_6m.tail(len(df_pct.columns)*months_6m)\n",
    "\n",
    "# Trained \n",
    "y_train_pred_6m = model_6m.predict(X_train_input_6m)\n",
    "# Predictions\n",
    "y_test_pred_6m = model_6m.predict(X_test_input_6m)"
   ],
   "id": "bb0ba2ff0be542b6",
   "outputs": [],
   "execution_count": 576
  },
  {
   "metadata": {},
   "cell_type": "markdown",
   "source": "### 6 Months Actual vs Prediction",
   "id": "47b11a14208d302a"
  },
  {
   "metadata": {
    "ExecuteTime": {
     "end_time": "2025-06-15T15:57:14.525488Z",
     "start_time": "2025-06-15T15:57:14.454049Z"
    }
   },
   "cell_type": "code",
   "source": [
    "importlib.reload(mpt_utils)\n",
    "#\n",
    "y_train_mean_pred_6m, y_test_mean_pred_6m = mpt_utils.get_train_test_mean_pred(y_train_pred_6m, y_test_pred_6m, len(df_pct.columns))\n",
    "#\n",
    "plots.generate_timeseries_plot(df_pct, df_tabular, y_train_mean_pred_6m, y_test_mean_pred_6m)"
   ],
   "id": "171c2e1803eb29ea",
   "outputs": [
    {
     "name": "stdout",
     "output_type": "stream",
     "text": [
      "274.0\n"
     ]
    },
    {
     "data": {
      "application/vnd.plotly.v1+json": {
       "data": [
        {
         "line": {
          "color": "#5c839f",
          "width": 2
         },
         "mode": "lines",
         "name": "Actual returns",
         "x": [
          "2001-05-01",
          "2001-06-01",
          "2001-07-01",
          "2001-08-01",
          "2001-09-01",
          "2001-10-01",
          "2001-11-01",
          "2001-12-01",
          "2002-01-01",
          "2002-02-01",
          "2002-03-01",
          "2002-04-01",
          "2002-05-01",
          "2002-06-01",
          "2002-07-01",
          "2002-08-01",
          "2002-09-01",
          "2002-10-01",
          "2002-11-01",
          "2002-12-01",
          "2003-01-01",
          "2003-02-01",
          "2003-03-01",
          "2003-04-01",
          "2003-05-01",
          "2003-06-01",
          "2003-07-01",
          "2003-08-01",
          "2003-09-01",
          "2003-10-01",
          "2003-11-01",
          "2003-12-01",
          "2004-01-01",
          "2004-02-01",
          "2004-03-01",
          "2004-04-01",
          "2004-05-01",
          "2004-06-01",
          "2004-07-01",
          "2004-08-01",
          "2004-09-01",
          "2004-10-01",
          "2004-11-01",
          "2004-12-01",
          "2005-01-01",
          "2005-02-01",
          "2005-03-01",
          "2005-04-01",
          "2005-05-01",
          "2005-06-01",
          "2005-07-01",
          "2005-08-01",
          "2005-09-01",
          "2005-10-01",
          "2005-11-01",
          "2005-12-01",
          "2006-01-01",
          "2006-02-01",
          "2006-03-01",
          "2006-04-01",
          "2006-05-01",
          "2006-06-01",
          "2006-07-01",
          "2006-08-01",
          "2006-09-01",
          "2006-10-01",
          "2006-11-01",
          "2006-12-01",
          "2007-01-01",
          "2007-02-01",
          "2007-03-01",
          "2007-04-01",
          "2007-05-01",
          "2007-06-01",
          "2007-07-01",
          "2007-08-01",
          "2007-09-01",
          "2007-10-01",
          "2007-11-01",
          "2007-12-01",
          "2008-01-01",
          "2008-02-01",
          "2008-03-01",
          "2008-04-01",
          "2008-05-01",
          "2008-06-01",
          "2008-07-01",
          "2008-08-01",
          "2008-09-01",
          "2008-10-01",
          "2008-11-01",
          "2008-12-01",
          "2009-01-01",
          "2009-02-01",
          "2009-03-01",
          "2009-04-01",
          "2009-05-01",
          "2009-06-01",
          "2009-07-01",
          "2009-08-01",
          "2009-09-01",
          "2009-10-01",
          "2009-11-01",
          "2009-12-01",
          "2010-01-01",
          "2010-02-01",
          "2010-03-01",
          "2010-04-01",
          "2010-05-01",
          "2010-06-01",
          "2010-07-01",
          "2010-08-01",
          "2010-09-01",
          "2010-10-01",
          "2010-11-01",
          "2010-12-01",
          "2011-01-01",
          "2011-02-01",
          "2011-03-01",
          "2011-04-01",
          "2011-05-01",
          "2011-06-01",
          "2011-07-01",
          "2011-08-01",
          "2011-09-01",
          "2011-10-01",
          "2011-11-01",
          "2011-12-01",
          "2012-01-01",
          "2012-02-01",
          "2012-03-01",
          "2012-04-01",
          "2012-05-01",
          "2012-06-01",
          "2012-07-01",
          "2012-08-01",
          "2012-09-01",
          "2012-10-01",
          "2012-11-01",
          "2012-12-01",
          "2013-01-01",
          "2013-02-01",
          "2013-03-01",
          "2013-04-01",
          "2013-05-01",
          "2013-06-01",
          "2013-07-01",
          "2013-08-01",
          "2013-09-01",
          "2013-10-01",
          "2013-11-01",
          "2013-12-01",
          "2014-01-01",
          "2014-02-01",
          "2014-03-01",
          "2014-04-01",
          "2014-05-01",
          "2014-06-01",
          "2014-07-01",
          "2014-08-01",
          "2014-09-01",
          "2014-10-01",
          "2014-11-01",
          "2014-12-01",
          "2015-01-01",
          "2015-02-01",
          "2015-03-01",
          "2015-04-01",
          "2015-05-01",
          "2015-06-01",
          "2015-07-01",
          "2015-08-01",
          "2015-09-01",
          "2015-10-01",
          "2015-11-01",
          "2015-12-01",
          "2016-01-01",
          "2016-02-01",
          "2016-03-01",
          "2016-04-01",
          "2016-05-01",
          "2016-06-01",
          "2016-07-01",
          "2016-08-01",
          "2016-09-01",
          "2016-10-01",
          "2016-11-01",
          "2016-12-01",
          "2017-01-01",
          "2017-02-01",
          "2017-03-01",
          "2017-04-01",
          "2017-05-01",
          "2017-06-01",
          "2017-07-01",
          "2017-08-01",
          "2017-09-01",
          "2017-10-01",
          "2017-11-01",
          "2017-12-01",
          "2018-01-01",
          "2018-02-01",
          "2018-03-01",
          "2018-04-01",
          "2018-05-01",
          "2018-06-01",
          "2018-07-01",
          "2018-08-01",
          "2018-09-01",
          "2018-10-01",
          "2018-11-01",
          "2018-12-01",
          "2019-01-01",
          "2019-02-01",
          "2019-03-01",
          "2019-04-01",
          "2019-05-01",
          "2019-06-01",
          "2019-07-01",
          "2019-08-01",
          "2019-09-01",
          "2019-10-01",
          "2019-11-01",
          "2019-12-01",
          "2020-01-01",
          "2020-02-01",
          "2020-03-01",
          "2020-04-01",
          "2020-05-01",
          "2020-06-01",
          "2020-07-01",
          "2020-08-01",
          "2020-09-01",
          "2020-10-01",
          "2020-11-01",
          "2020-12-01",
          "2021-01-01",
          "2021-02-01",
          "2021-03-01",
          "2021-04-01",
          "2021-05-01",
          "2021-06-01",
          "2021-07-01",
          "2021-08-01",
          "2021-09-01",
          "2021-10-01",
          "2021-11-01",
          "2021-12-01",
          "2022-01-01",
          "2022-02-01",
          "2022-03-01",
          "2022-04-01",
          "2022-05-01",
          "2022-06-01",
          "2022-07-01",
          "2022-08-01",
          "2022-09-01",
          "2022-10-01",
          "2022-11-01",
          "2022-12-01",
          "2023-01-01",
          "2023-02-01",
          "2023-03-01",
          "2023-04-01",
          "2023-05-01",
          "2023-06-01",
          "2023-07-01",
          "2023-08-01",
          "2023-09-01",
          "2023-10-01",
          "2023-11-01",
          "2023-12-01",
          "2024-01-01",
          "2024-02-01",
          "2024-03-01",
          "2024-04-01",
          "2024-05-01",
          "2024-06-01",
          "2024-07-01",
          "2024-08-01"
         ],
         "y": [
          0.02743993993994054,
          0.038025525525524406,
          -0.009414414414414263,
          0.22023273273273247,
          0.031974474474474324,
          -0.00259009009009048,
          -0.020735735735735616,
          0.033678678678677354,
          -0.003978978978978809,
          0.0299774774774777,
          -0.007777777777777883,
          -0.011524024024024082,
          -0.026936936936937994,
          0.01249999999999929,
          0.038400900900901425,
          -0.02846096096096018,
          -0.012762762762762891,
          0.07272522522522085,
          0.015735735735736167,
          0.001644144144144155,
          -0.026996996996994982,
          -0.030915915915913916,
          -0.09028528528528412,
          0.05090840840840727,
          0.0509159159159156,
          0.018573573573573476,
          -0.005405405405404129,
          0.012072072072070394,
          0.05409159159158938,
          0.009024024024022914,
          0.00522522522522495,
          -0.05081831831831807,
          -0.06252252252252144,
          -0.011471471471471095,
          -0.04330330330330234,
          0.010465465465465451,
          0.058453453453451765,
          -0.03432432432432431,
          -0.01071321321321217,
          0.003100600600600245,
          -0.0021696696696679174,
          0.06228978978978872,
          0.07175675675675475,
          0.03475225225225054,
          0.05778528528528293,
          0.06289039039038924,
          0.004909909909908583,
          0.05349099099098753,
          0.004924924924925467,
          0.01909159159158902,
          0.032132132132131064,
          0.01701951951951819,
          0.05260510510510441,
          0.00787537537537375,
          -0.0060810810810809635,
          0.039166666666664574,
          -0.03876126126125934,
          -0.006861861861861107,
          0.005180180180180738,
          0.004489489489490461,
          0.03232732732732635,
          0.05847597597597187,
          0.008250750750750768,
          0.024947447447445814,
          -0.0037087087087082082,
          -0.022267267267264912,
          0.03677177177176838,
          0.024557057057054577,
          0.040442942942939375,
          -6.981981981986074E-4,
          0.01872372372372233,
          0.07061561561561569,
          0.05157657657657366,
          0.02451201201201103,
          0.04399399399399351,
          0.0172822822822829,
          0.028603603603601258,
          0.0011486486486493863,
          -0.03011261261261,
          -0.0018618618618618799,
          -0.01278528528528522,
          0.028018018018014734,
          0.014181681681680214,
          0.024466966966965265,
          0.027897897897896762,
          0.030930930930927136,
          0.03999999999999804,
          0.0035285285285273638,
          0.0018993993994007585,
          0.021418918918917118,
          0.02924174174173988,
          -0.01469969969969842,
          -0.03518768768768399,
          -0.010007507507506563,
          0.0024024024024018598,
          0.019632132132131774,
          -0.05572822822822687,
          -0.009954954954954243,
          -0.06066066066065812,
          -0.010435435435435347,
          -0.014969969969969021,
          0.03434684684684575,
          0.027875375375374656,
          -0.07102852852852792,
          -0.0025300300300311607,
          0.01765015015014937,
          -0.07436936936936767,
          -0.16220720720720616,
          -0.05918918918918892,
          0.04562312312312233,
          -0.056186186186185094,
          -0.06329579579579647,
          0.07671171171171154,
          0.15475225225225198,
          0.04527027027027031,
          0.03893393393393363,
          0.07099849849849749,
          0.05655405405405389,
          0.03070570570570519,
          -0.021951951951950766,
          0.0010360360360355259,
          0.05536036036035763,
          -0.013551051051049257,
          0.020743243243242837,
          0.06338588588588245,
          0.04948948948948795,
          -0.05758258258257942,
          -0.040217717717715096,
          0.040165165165163996,
          -0.03746996996996865,
          0.07373123123122904,
          0.0181606606606608,
          0.029774774774774082,
          0.06351351351350831,
          0.01366366366366445,
          0.03365615615615347,
          -0.01171171171171026,
          0.02272522522522369,
          -0.0021996996996992424,
          -4.279279279268966E-4,
          -0.018408408408405852,
          -0.05390390390390232,
          -0.049354354354354535,
          0.07704954954954912,
          -0.014466966966965367,
          0.005720720720719719,
          0.056246246246242304,
          0.04385885885885599,
          0.03139639639639191,
          -0.005975975975974102,
          -0.05990990990990752,
          0.033543543543540055,
          -0.0019219219219228645,
          0.021854354354353456,
          0.016599099099097403,
          0.002957957957956614,
          0.017342342342340444,
          0.032770270270266355,
          0.06512762762762248,
          0.025345345345343828,
          0.04521021021020588,
          0.03481231231231119,
          0.018280780780780104,
          -0.009894894894894812,
          0.03924924924924866,
          -0.009249249249246638,
          0.05455705705705238,
          0.028130630630627262,
          0.02668168168168039,
          0.022522522522519184,
          -0.013288288288286432,
          0.030075075075072455,
          0.0034009009009017266,
          -0.014481981981981806,
          0.020037537537534345,
          0.03023273273272986,
          -0.013093093093094033,
          0.02825825825825312,
          -0.01791291291291064,
          0.03218468468468272,
          0.04343843843843276,
          0.015833333333329813,
          0.002282282282282333,
          0.04680930930930782,
          0.012477477477475851,
          2.1771771771783577E-4,
          0.0293018018017992,
          -0.007530030030026724,
          0.015135135135132538,
          -0.04286786786786334,
          -0.025360360360358603,
          0.058055555555554195,
          0.02036786786786493,
          -0.020202702702699193,
          -0.05234234234234081,
          -0.003768768768769082,
          0.06146396396395826,
          0.0017117117117124714,
          0.02473723723723631,
          -0.028280780780780446,
          0.058536036036028305,
          0.009331831831831616,
          0.011493993993994867,
          -0.004587087087085662,
          0.04523273273273265,
          0.03180180180179559,
          0.011876876876876663,
          0.023596096096092145,
          0.009294294294294847,
          0.01928678678678275,
          0.017432432432431755,
          0.013648648648647344,
          0.016336336336334467,
          0.005165165165165186,
          0.03681681681681481,
          0.024496996996993925,
          0.029166666666663676,
          0.011771771771771133,
          0.025037537537536014,
          -0.02737237237236656,
          -7.732732732720349E-4,
          0.021028528528523216,
          0.03003003003002891,
          0.00960210210210044,
          0.015405405405403583,
          0.023415915915913077,
          -0.0036411411411424455,
          -0.06527777777777555,
          0.018873873873872515,
          -0.0894669669669641,
          0.09368618618618263,
          0.041291291291286614,
          0.008566066066063804,
          0.043918918918915084,
          -0.05617867867867832,
          0.04983483483482942,
          0.020818318318316154,
          -0.026448948948949114,
          0.037800300300294465,
          0.032867867867863776,
          0.034909909909907055,
          0.02680930930930736,
          -0.014016516516515032,
          -0.09361111111110709,
          -0.18348348348348387,
          0.1288888888888864,
          0.0715540540540538,
          0.02461711711711967,
          0.01599099099099388,
          0.0644519519519513,
          -0.006869369369366662,
          -0.005548048048042986,
          0.14040540540540425,
          0.05409909909909216,
          0.02852852852853105,
          0.0521096096096072,
          0.04906156156155683,
          0.03810810810810494,
          0.01629129129128959,
          0.016869369369369114,
          0.011163663663662282,
          0.02643393393393012,
          -0.02038288288288037,
          0.03498498498498348,
          -0.02757507507507051,
          0.045360360360353846,
          -0.07055555555555282,
          -0.012312312312310003,
          0.007882882882881193,
          -0.048010510510507864,
          0.005157657657655745,
          -0.06768018018017974,
          0.09111111111110559,
          -0.029324324324321083,
          -0.09201201201200937,
          0.08337837837837592,
          0.05950450450450018,
          -0.04256756756756219,
          0.08824324324324206,
          -0.005262762762760831,
          -0.012912912912911412,
          0.005990990990987433,
          -0.006478978978976202,
          0.062995495495489,
          0.0376951951951896,
          -0.019376876876874283,
          -0.03429429429428832,
          -0.04720720720720273,
          0.08611111111110614,
          0.07102852852852637,
          -0.0033783783783778443,
          0.027439939939941205,
          0.033686186186181466,
          -0.03638888888888547,
          0.03388888888888686,
          2.852852852868182E-4,
          0.052469969969967556,
          0.002424924924925298,
          -0.03054054054053601
         ],
         "type": "scatter"
        },
        {
         "line": {
          "color": "red",
          "width": 2
         },
         "mode": "lines",
         "name": "Train returns",
         "x": [
          "2001-05-01",
          "2001-06-01",
          "2001-07-01",
          "2001-08-01",
          "2001-09-01",
          "2001-10-01",
          "2001-11-01",
          "2001-12-01",
          "2002-01-01",
          "2002-02-01",
          "2002-03-01",
          "2002-04-01",
          "2002-05-01",
          "2002-06-01",
          "2002-07-01",
          "2002-08-01",
          "2002-09-01",
          "2002-10-01",
          "2002-11-01",
          "2002-12-01",
          "2003-01-01",
          "2003-02-01",
          "2003-03-01",
          "2003-04-01",
          "2003-05-01",
          "2003-06-01",
          "2003-07-01",
          "2003-08-01",
          "2003-09-01",
          "2003-10-01",
          "2003-11-01",
          "2003-12-01",
          "2004-01-01",
          "2004-02-01",
          "2004-03-01",
          "2004-04-01",
          "2004-05-01",
          "2004-06-01",
          "2004-07-01",
          "2004-08-01",
          "2004-09-01",
          "2004-10-01",
          "2004-11-01",
          "2004-12-01",
          "2005-01-01",
          "2005-02-01",
          "2005-03-01",
          "2005-04-01",
          "2005-05-01",
          "2005-06-01",
          "2005-07-01",
          "2005-08-01",
          "2005-09-01",
          "2005-10-01",
          "2005-11-01",
          "2005-12-01",
          "2006-01-01",
          "2006-02-01",
          "2006-03-01",
          "2006-04-01",
          "2006-05-01",
          "2006-06-01",
          "2006-07-01",
          "2006-08-01",
          "2006-09-01",
          "2006-10-01",
          "2006-11-01",
          "2006-12-01",
          "2007-01-01",
          "2007-02-01",
          "2007-03-01",
          "2007-04-01",
          "2007-05-01",
          "2007-06-01",
          "2007-07-01",
          "2007-08-01",
          "2007-09-01",
          "2007-10-01",
          "2007-11-01",
          "2007-12-01",
          "2008-01-01",
          "2008-02-01",
          "2008-03-01",
          "2008-04-01",
          "2008-05-01",
          "2008-06-01",
          "2008-07-01",
          "2008-08-01",
          "2008-09-01",
          "2008-10-01",
          "2008-11-01",
          "2008-12-01",
          "2009-01-01",
          "2009-02-01",
          "2009-03-01",
          "2009-04-01",
          "2009-05-01",
          "2009-06-01",
          "2009-07-01",
          "2009-08-01",
          "2009-09-01",
          "2009-10-01",
          "2009-11-01",
          "2009-12-01",
          "2010-01-01",
          "2010-02-01",
          "2010-03-01",
          "2010-04-01",
          "2010-05-01",
          "2010-06-01",
          "2010-07-01",
          "2010-08-01",
          "2010-09-01",
          "2010-10-01",
          "2010-11-01",
          "2010-12-01",
          "2011-01-01",
          "2011-02-01",
          "2011-03-01",
          "2011-04-01",
          "2011-05-01",
          "2011-06-01",
          "2011-07-01",
          "2011-08-01",
          "2011-09-01",
          "2011-10-01",
          "2011-11-01",
          "2011-12-01",
          "2012-01-01",
          "2012-02-01",
          "2012-03-01",
          "2012-04-01",
          "2012-05-01",
          "2012-06-01",
          "2012-07-01",
          "2012-08-01",
          "2012-09-01",
          "2012-10-01",
          "2012-11-01",
          "2012-12-01",
          "2013-01-01",
          "2013-02-01",
          "2013-03-01",
          "2013-04-01",
          "2013-05-01",
          "2013-06-01",
          "2013-07-01",
          "2013-08-01",
          "2013-09-01",
          "2013-10-01",
          "2013-11-01",
          "2013-12-01",
          "2014-01-01",
          "2014-02-01",
          "2014-03-01",
          "2014-04-01",
          "2014-05-01",
          "2014-06-01",
          "2014-07-01",
          "2014-08-01",
          "2014-09-01",
          "2014-10-01",
          "2014-11-01",
          "2014-12-01",
          "2015-01-01",
          "2015-02-01",
          "2015-03-01",
          "2015-04-01",
          "2015-05-01",
          "2015-06-01",
          "2015-07-01",
          "2015-08-01",
          "2015-09-01",
          "2015-10-01",
          "2015-11-01",
          "2015-12-01",
          "2016-01-01",
          "2016-02-01",
          "2016-03-01",
          "2016-04-01",
          "2016-05-01",
          "2016-06-01",
          "2016-07-01",
          "2016-08-01",
          "2016-09-01",
          "2016-10-01",
          "2016-11-01",
          "2016-12-01",
          "2017-01-01",
          "2017-02-01",
          "2017-03-01",
          "2017-04-01",
          "2017-05-01",
          "2017-06-01",
          "2017-07-01",
          "2017-08-01",
          "2017-09-01",
          "2017-10-01",
          "2017-11-01",
          "2017-12-01",
          "2018-01-01",
          "2018-02-01",
          "2018-03-01",
          "2018-04-01",
          "2018-05-01",
          "2018-06-01",
          "2018-07-01",
          "2018-08-01",
          "2018-09-01",
          "2018-10-01",
          "2018-11-01",
          "2018-12-01",
          "2019-01-01",
          "2019-02-01",
          "2019-03-01",
          "2019-04-01",
          "2019-05-01",
          "2019-06-01",
          "2019-07-01",
          "2019-08-01",
          "2019-09-01",
          "2019-10-01",
          "2019-11-01",
          "2019-12-01",
          "2020-01-01",
          "2020-02-01",
          "2020-03-01",
          "2020-04-01",
          "2020-05-01",
          "2020-06-01",
          "2020-07-01",
          "2020-08-01",
          "2020-09-01",
          "2020-10-01",
          "2020-11-01",
          "2020-12-01",
          "2021-01-01",
          "2021-02-01",
          "2021-03-01",
          "2021-04-01",
          "2021-05-01",
          "2021-06-01",
          "2021-07-01",
          "2021-08-01",
          "2021-09-01",
          "2021-10-01",
          "2021-11-01",
          "2021-12-01",
          "2022-01-01",
          "2022-02-01",
          "2022-03-01",
          "2022-04-01",
          "2022-05-01",
          "2022-06-01",
          "2022-07-01",
          "2022-08-01",
          "2022-09-01",
          "2022-10-01",
          "2022-11-01",
          "2022-12-01",
          "2023-01-01",
          "2023-02-01",
          "2023-03-01",
          "2023-04-01",
          "2023-05-01",
          "2023-06-01",
          "2023-07-01",
          "2023-08-01",
          "2023-09-01",
          "2023-10-01",
          "2023-11-01",
          "2023-12-01",
          "2024-01-01",
          "2024-02-01"
         ],
         "y": [
          0.03038191795349121,
          0.02337646484375,
          0.01980602741241455,
          0.021862030029296875,
          0.019380569458007812,
          0.018718242645263672,
          0.02131795883178711,
          0.017420172691345215,
          0.020838499069213867,
          0.019118070602416992,
          0.014935970306396484,
          0.021998167037963867,
          0.01967489719390869,
          0.01760685443878174,
          0.01852107048034668,
          0.016335368156433105,
          0.01671290397644043,
          0.01561892032623291,
          0.019692301750183105,
          0.018370509147644043,
          0.01857304573059082,
          0.014235854148864746,
          0.020238757133483887,
          0.016041278839111328,
          0.015934228897094727,
          0.01685500144958496,
          0.013188362121582031,
          0.01636373996734619,
          0.013956308364868164,
          0.01375126838684082,
          0.01559305191040039,
          0.0163116455078125,
          0.013061165809631348,
          0.015398144721984863,
          0.015173196792602539,
          0.01805102825164795,
          0.01390540599822998,
          0.014407634735107422,
          0.013147711753845215,
          0.014416337013244629,
          0.014591217041015625,
          0.017161846160888672,
          0.013930439949035645,
          0.015368938446044922,
          0.01598954200744629,
          0.014798760414123535,
          0.01609647274017334,
          0.014789819717407227,
          0.012691259384155273,
          0.0140838623046875,
          0.014881610870361328,
          0.015671372413635254,
          0.014943957328796387,
          0.015031576156616211,
          0.013874173164367676,
          0.013005256652832031,
          0.013252735137939453,
          0.01755058765411377,
          0.01259458065032959,
          0.013815760612487793,
          0.01195061206817627,
          0.014569997787475586,
          0.01219475269317627,
          0.013621091842651367,
          0.013315320014953613,
          0.01490795612335205,
          0.012291669845581055,
          0.013864517211914062,
          0.011171698570251465,
          0.011616110801696777,
          0.01193380355834961,
          0.011957526206970215,
          0.012967348098754883,
          0.010812520980834961,
          0.012127280235290527,
          0.01527857780456543,
          0.012243866920471191,
          0.01164400577545166,
          0.01364123821258545,
          0.011327028274536133,
          0.01219165325164795,
          0.012508392333984375,
          0.010231971740722656,
          0.012463688850402832,
          0.014227628707885742,
          0.012386798858642578,
          0.012951493263244629,
          0.012409567832946777,
          0.013022541999816895,
          0.01473987102508545,
          0.012373208999633789,
          0.01574397087097168,
          0.012360930442810059,
          0.013872146606445312,
          0.013051152229309082,
          0.013412833213806152,
          0.010407686233520508,
          0.011218428611755371,
          0.012995004653930664,
          0.013193130493164062,
          0.013912320137023926,
          0.010459423065185547,
          0.010752320289611816,
          0.012578248977661133,
          0.012184858322143555,
          0.012203693389892578,
          0.012419462203979492,
          0.011583805084228516,
          0.01144719123840332,
          0.01344442367553711,
          0.011654257774353027,
          0.009220004081726074,
          0.014697909355163574,
          0.01160120964050293,
          0.011783838272094727,
          0.011862635612487793,
          0.013024449348449707,
          0.012442708015441895,
          0.009996771812438965,
          0.011701345443725586,
          0.010151028633117676,
          0.01233971118927002,
          0.009814977645874023,
          0.010680913925170898,
          0.012341141700744629,
          0.01274096965789795,
          0.010627508163452148,
          0.012494325637817383,
          0.011365056037902832,
          0.012281060218811035,
          0.010408997535705566,
          0.011812448501586914,
          0.01200103759765625,
          0.010258316993713379,
          0.012632966041564941,
          0.012053608894348145,
          0.012190461158752441,
          0.010453343391418457,
          0.014002084732055664,
          0.011492729187011719,
          0.01169741153717041,
          0.010971426963806152,
          0.011763691902160645,
          0.013716578483581543,
          0.011044740676879883,
          0.011406660079956055,
          0.011458396911621094,
          0.011434197425842285,
          0.01282036304473877,
          0.011864781379699707,
          0.01089620590209961,
          0.011614799499511719,
          0.011213541030883789,
          0.011472225189208984,
          0.010059475898742676,
          0.009461045265197754,
          0.010987281799316406,
          0.012157320976257324,
          0.009927749633789062,
          0.011780142784118652,
          0.01129770278930664,
          0.012129426002502441,
          0.010767340660095215,
          0.009558439254760742,
          0.009511113166809082,
          0.010913968086242676,
          0.011107683181762695,
          0.011950969696044922,
          0.012332797050476074,
          0.011427879333496094,
          0.011900544166564941,
          0.012100696563720703,
          0.011676907539367676,
          0.010282754898071289,
          0.010015130043029785,
          0.010117769241333008,
          0.009192466735839844,
          0.010133504867553711,
          0.010242819786071777,
          0.010847210884094238,
          0.010325789451599121,
          0.01026761531829834,
          0.010035872459411621,
          0.010471701622009277,
          0.010773658752441406,
          0.012082576751708984,
          0.00859534740447998,
          0.01146233081817627,
          0.0103607177734375,
          0.011288762092590332,
          0.011083483695983887,
          0.010209798812866211,
          0.012267112731933594,
          0.010044336318969727,
          0.009575605392456055,
          0.009557366371154785,
          0.01072072982788086,
          0.01024329662322998,
          0.009258151054382324,
          0.011321187019348145,
          0.01053929328918457,
          0.012431502342224121,
          0.009743928909301758,
          0.010741949081420898,
          0.011076569557189941,
          0.010359525680541992,
          0.010791659355163574,
          0.008862018585205078,
          0.00970470905303955,
          0.009375214576721191,
          0.008322477340698242,
          0.009574055671691895,
          0.011606335639953613,
          0.00899803638458252,
          0.008039593696594238,
          0.008715033531188965,
          0.010025382041931152,
          0.010592341423034668,
          0.007933855056762695,
          0.010158419609069824,
          0.01040506362915039,
          0.008260130882263184,
          0.007623195648193359,
          0.009038925170898438,
          0.00905466079711914,
          0.010326623916625977,
          0.009447574615478516,
          0.01020956039428711,
          0.010155320167541504,
          0.00962817668914795,
          0.008574962615966797,
          0.008999109268188477,
          0.009319305419921875,
          0.010549306869506836,
          0.00944674015045166,
          0.007575273513793945,
          0.008198380470275879,
          0.009433388710021973,
          0.008616924285888672,
          0.00847470760345459,
          0.007364153861999512,
          0.009745121002197266,
          0.007060050964355469,
          0.008281588554382324,
          0.009595870971679688,
          0.007996916770935059,
          0.007409095764160156,
          0.008183002471923828,
          0.008488893508911133,
          0.00805366039276123,
          0.007974863052368164,
          0.007121920585632324,
          0.008027911186218262,
          0.009328842163085938,
          0.008303523063659668,
          0.007107973098754883,
          0.00807344913482666,
          0.0061359405517578125,
          0.0063664913177490234,
          0.007335066795349121,
          0.006685614585876465,
          0.006177544593811035,
          0.006795406341552734,
          0.007428884506225586,
          0.006651163101196289,
          0.006094217300415039,
          0.006833910942077637,
          0.00560760498046875,
          0.005445361137390137,
          0.005749821662902832,
          0.006133437156677246,
          0.005613565444946289,
          0.005162596702575684,
          0.005266785621643066
         ],
         "type": "scatter"
        },
        {
         "line": {
          "color": "green",
          "width": 2
         },
         "mode": "lines",
         "name": "Test returns",
         "x": [
          "2024-02-01",
          "2024-03-01",
          "2024-04-01",
          "2024-05-01",
          "2024-06-01",
          "2024-07-01",
          "2024-08-01"
         ],
         "y": [
          0.005266785621643066,
          0.005290627479553223,
          0.00523829460144043,
          0.005033731460571289,
          0.005024433135986328,
          0.004842281341552734,
          0.0038628578186035156
         ],
         "type": "scatter"
        }
       ],
       "layout": {
        "template": {
         "data": {
          "barpolar": [
           {
            "marker": {
             "line": {
              "color": "white",
              "width": 0.5
             },
             "pattern": {
              "fillmode": "overlay",
              "size": 10,
              "solidity": 0.2
             }
            },
            "type": "barpolar"
           }
          ],
          "bar": [
           {
            "error_x": {
             "color": "#2a3f5f"
            },
            "error_y": {
             "color": "#2a3f5f"
            },
            "marker": {
             "line": {
              "color": "white",
              "width": 0.5
             },
             "pattern": {
              "fillmode": "overlay",
              "size": 10,
              "solidity": 0.2
             }
            },
            "type": "bar"
           }
          ],
          "carpet": [
           {
            "aaxis": {
             "endlinecolor": "#2a3f5f",
             "gridcolor": "#C8D4E3",
             "linecolor": "#C8D4E3",
             "minorgridcolor": "#C8D4E3",
             "startlinecolor": "#2a3f5f"
            },
            "baxis": {
             "endlinecolor": "#2a3f5f",
             "gridcolor": "#C8D4E3",
             "linecolor": "#C8D4E3",
             "minorgridcolor": "#C8D4E3",
             "startlinecolor": "#2a3f5f"
            },
            "type": "carpet"
           }
          ],
          "choropleth": [
           {
            "colorbar": {
             "outlinewidth": 0,
             "ticks": ""
            },
            "type": "choropleth"
           }
          ],
          "contourcarpet": [
           {
            "colorbar": {
             "outlinewidth": 0,
             "ticks": ""
            },
            "type": "contourcarpet"
           }
          ],
          "contour": [
           {
            "colorbar": {
             "outlinewidth": 0,
             "ticks": ""
            },
            "colorscale": [
             [
              0.0,
              "#0d0887"
             ],
             [
              0.1111111111111111,
              "#46039f"
             ],
             [
              0.2222222222222222,
              "#7201a8"
             ],
             [
              0.3333333333333333,
              "#9c179e"
             ],
             [
              0.4444444444444444,
              "#bd3786"
             ],
             [
              0.5555555555555556,
              "#d8576b"
             ],
             [
              0.6666666666666666,
              "#ed7953"
             ],
             [
              0.7777777777777778,
              "#fb9f3a"
             ],
             [
              0.8888888888888888,
              "#fdca26"
             ],
             [
              1.0,
              "#f0f921"
             ]
            ],
            "type": "contour"
           }
          ],
          "heatmapgl": [
           {
            "colorbar": {
             "outlinewidth": 0,
             "ticks": ""
            },
            "colorscale": [
             [
              0.0,
              "#0d0887"
             ],
             [
              0.1111111111111111,
              "#46039f"
             ],
             [
              0.2222222222222222,
              "#7201a8"
             ],
             [
              0.3333333333333333,
              "#9c179e"
             ],
             [
              0.4444444444444444,
              "#bd3786"
             ],
             [
              0.5555555555555556,
              "#d8576b"
             ],
             [
              0.6666666666666666,
              "#ed7953"
             ],
             [
              0.7777777777777778,
              "#fb9f3a"
             ],
             [
              0.8888888888888888,
              "#fdca26"
             ],
             [
              1.0,
              "#f0f921"
             ]
            ],
            "type": "heatmapgl"
           }
          ],
          "heatmap": [
           {
            "colorbar": {
             "outlinewidth": 0,
             "ticks": ""
            },
            "colorscale": [
             [
              0.0,
              "#0d0887"
             ],
             [
              0.1111111111111111,
              "#46039f"
             ],
             [
              0.2222222222222222,
              "#7201a8"
             ],
             [
              0.3333333333333333,
              "#9c179e"
             ],
             [
              0.4444444444444444,
              "#bd3786"
             ],
             [
              0.5555555555555556,
              "#d8576b"
             ],
             [
              0.6666666666666666,
              "#ed7953"
             ],
             [
              0.7777777777777778,
              "#fb9f3a"
             ],
             [
              0.8888888888888888,
              "#fdca26"
             ],
             [
              1.0,
              "#f0f921"
             ]
            ],
            "type": "heatmap"
           }
          ],
          "histogram2dcontour": [
           {
            "colorbar": {
             "outlinewidth": 0,
             "ticks": ""
            },
            "colorscale": [
             [
              0.0,
              "#0d0887"
             ],
             [
              0.1111111111111111,
              "#46039f"
             ],
             [
              0.2222222222222222,
              "#7201a8"
             ],
             [
              0.3333333333333333,
              "#9c179e"
             ],
             [
              0.4444444444444444,
              "#bd3786"
             ],
             [
              0.5555555555555556,
              "#d8576b"
             ],
             [
              0.6666666666666666,
              "#ed7953"
             ],
             [
              0.7777777777777778,
              "#fb9f3a"
             ],
             [
              0.8888888888888888,
              "#fdca26"
             ],
             [
              1.0,
              "#f0f921"
             ]
            ],
            "type": "histogram2dcontour"
           }
          ],
          "histogram2d": [
           {
            "colorbar": {
             "outlinewidth": 0,
             "ticks": ""
            },
            "colorscale": [
             [
              0.0,
              "#0d0887"
             ],
             [
              0.1111111111111111,
              "#46039f"
             ],
             [
              0.2222222222222222,
              "#7201a8"
             ],
             [
              0.3333333333333333,
              "#9c179e"
             ],
             [
              0.4444444444444444,
              "#bd3786"
             ],
             [
              0.5555555555555556,
              "#d8576b"
             ],
             [
              0.6666666666666666,
              "#ed7953"
             ],
             [
              0.7777777777777778,
              "#fb9f3a"
             ],
             [
              0.8888888888888888,
              "#fdca26"
             ],
             [
              1.0,
              "#f0f921"
             ]
            ],
            "type": "histogram2d"
           }
          ],
          "histogram": [
           {
            "marker": {
             "pattern": {
              "fillmode": "overlay",
              "size": 10,
              "solidity": 0.2
             }
            },
            "type": "histogram"
           }
          ],
          "mesh3d": [
           {
            "colorbar": {
             "outlinewidth": 0,
             "ticks": ""
            },
            "type": "mesh3d"
           }
          ],
          "parcoords": [
           {
            "line": {
             "colorbar": {
              "outlinewidth": 0,
              "ticks": ""
             }
            },
            "type": "parcoords"
           }
          ],
          "pie": [
           {
            "automargin": true,
            "type": "pie"
           }
          ],
          "scatter3d": [
           {
            "line": {
             "colorbar": {
              "outlinewidth": 0,
              "ticks": ""
             }
            },
            "marker": {
             "colorbar": {
              "outlinewidth": 0,
              "ticks": ""
             }
            },
            "type": "scatter3d"
           }
          ],
          "scattercarpet": [
           {
            "marker": {
             "colorbar": {
              "outlinewidth": 0,
              "ticks": ""
             }
            },
            "type": "scattercarpet"
           }
          ],
          "scattergeo": [
           {
            "marker": {
             "colorbar": {
              "outlinewidth": 0,
              "ticks": ""
             }
            },
            "type": "scattergeo"
           }
          ],
          "scattergl": [
           {
            "marker": {
             "colorbar": {
              "outlinewidth": 0,
              "ticks": ""
             }
            },
            "type": "scattergl"
           }
          ],
          "scattermapbox": [
           {
            "marker": {
             "colorbar": {
              "outlinewidth": 0,
              "ticks": ""
             }
            },
            "type": "scattermapbox"
           }
          ],
          "scatterpolargl": [
           {
            "marker": {
             "colorbar": {
              "outlinewidth": 0,
              "ticks": ""
             }
            },
            "type": "scatterpolargl"
           }
          ],
          "scatterpolar": [
           {
            "marker": {
             "colorbar": {
              "outlinewidth": 0,
              "ticks": ""
             }
            },
            "type": "scatterpolar"
           }
          ],
          "scatter": [
           {
            "fillpattern": {
             "fillmode": "overlay",
             "size": 10,
             "solidity": 0.2
            },
            "type": "scatter"
           }
          ],
          "scatterternary": [
           {
            "marker": {
             "colorbar": {
              "outlinewidth": 0,
              "ticks": ""
             }
            },
            "type": "scatterternary"
           }
          ],
          "surface": [
           {
            "colorbar": {
             "outlinewidth": 0,
             "ticks": ""
            },
            "colorscale": [
             [
              0.0,
              "#0d0887"
             ],
             [
              0.1111111111111111,
              "#46039f"
             ],
             [
              0.2222222222222222,
              "#7201a8"
             ],
             [
              0.3333333333333333,
              "#9c179e"
             ],
             [
              0.4444444444444444,
              "#bd3786"
             ],
             [
              0.5555555555555556,
              "#d8576b"
             ],
             [
              0.6666666666666666,
              "#ed7953"
             ],
             [
              0.7777777777777778,
              "#fb9f3a"
             ],
             [
              0.8888888888888888,
              "#fdca26"
             ],
             [
              1.0,
              "#f0f921"
             ]
            ],
            "type": "surface"
           }
          ],
          "table": [
           {
            "cells": {
             "fill": {
              "color": "#EBF0F8"
             },
             "line": {
              "color": "white"
             }
            },
            "header": {
             "fill": {
              "color": "#C8D4E3"
             },
             "line": {
              "color": "white"
             }
            },
            "type": "table"
           }
          ]
         },
         "layout": {
          "annotationdefaults": {
           "arrowcolor": "#2a3f5f",
           "arrowhead": 0,
           "arrowwidth": 1
          },
          "autotypenumbers": "strict",
          "coloraxis": {
           "colorbar": {
            "outlinewidth": 0,
            "ticks": ""
           }
          },
          "colorscale": {
           "diverging": [
            [
             0,
             "#8e0152"
            ],
            [
             0.1,
             "#c51b7d"
            ],
            [
             0.2,
             "#de77ae"
            ],
            [
             0.3,
             "#f1b6da"
            ],
            [
             0.4,
             "#fde0ef"
            ],
            [
             0.5,
             "#f7f7f7"
            ],
            [
             0.6,
             "#e6f5d0"
            ],
            [
             0.7,
             "#b8e186"
            ],
            [
             0.8,
             "#7fbc41"
            ],
            [
             0.9,
             "#4d9221"
            ],
            [
             1,
             "#276419"
            ]
           ],
           "sequential": [
            [
             0.0,
             "#0d0887"
            ],
            [
             0.1111111111111111,
             "#46039f"
            ],
            [
             0.2222222222222222,
             "#7201a8"
            ],
            [
             0.3333333333333333,
             "#9c179e"
            ],
            [
             0.4444444444444444,
             "#bd3786"
            ],
            [
             0.5555555555555556,
             "#d8576b"
            ],
            [
             0.6666666666666666,
             "#ed7953"
            ],
            [
             0.7777777777777778,
             "#fb9f3a"
            ],
            [
             0.8888888888888888,
             "#fdca26"
            ],
            [
             1.0,
             "#f0f921"
            ]
           ],
           "sequentialminus": [
            [
             0.0,
             "#0d0887"
            ],
            [
             0.1111111111111111,
             "#46039f"
            ],
            [
             0.2222222222222222,
             "#7201a8"
            ],
            [
             0.3333333333333333,
             "#9c179e"
            ],
            [
             0.4444444444444444,
             "#bd3786"
            ],
            [
             0.5555555555555556,
             "#d8576b"
            ],
            [
             0.6666666666666666,
             "#ed7953"
            ],
            [
             0.7777777777777778,
             "#fb9f3a"
            ],
            [
             0.8888888888888888,
             "#fdca26"
            ],
            [
             1.0,
             "#f0f921"
            ]
           ]
          },
          "colorway": [
           "#636efa",
           "#EF553B",
           "#00cc96",
           "#ab63fa",
           "#FFA15A",
           "#19d3f3",
           "#FF6692",
           "#B6E880",
           "#FF97FF",
           "#FECB52"
          ],
          "font": {
           "color": "#2a3f5f"
          },
          "geo": {
           "bgcolor": "white",
           "lakecolor": "white",
           "landcolor": "white",
           "showlakes": true,
           "showland": true,
           "subunitcolor": "#C8D4E3"
          },
          "hoverlabel": {
           "align": "left"
          },
          "hovermode": "closest",
          "mapbox": {
           "style": "light"
          },
          "paper_bgcolor": "white",
          "plot_bgcolor": "white",
          "polar": {
           "angularaxis": {
            "gridcolor": "#EBF0F8",
            "linecolor": "#EBF0F8",
            "ticks": ""
           },
           "bgcolor": "white",
           "radialaxis": {
            "gridcolor": "#EBF0F8",
            "linecolor": "#EBF0F8",
            "ticks": ""
           }
          },
          "scene": {
           "xaxis": {
            "backgroundcolor": "white",
            "gridcolor": "#DFE8F3",
            "gridwidth": 2,
            "linecolor": "#EBF0F8",
            "showbackground": true,
            "ticks": "",
            "zerolinecolor": "#EBF0F8"
           },
           "yaxis": {
            "backgroundcolor": "white",
            "gridcolor": "#DFE8F3",
            "gridwidth": 2,
            "linecolor": "#EBF0F8",
            "showbackground": true,
            "ticks": "",
            "zerolinecolor": "#EBF0F8"
           },
           "zaxis": {
            "backgroundcolor": "white",
            "gridcolor": "#DFE8F3",
            "gridwidth": 2,
            "linecolor": "#EBF0F8",
            "showbackground": true,
            "ticks": "",
            "zerolinecolor": "#EBF0F8"
           }
          },
          "shapedefaults": {
           "line": {
            "color": "#2a3f5f"
           }
          },
          "ternary": {
           "aaxis": {
            "gridcolor": "#DFE8F3",
            "linecolor": "#A2B1C6",
            "ticks": ""
           },
           "baxis": {
            "gridcolor": "#DFE8F3",
            "linecolor": "#A2B1C6",
            "ticks": ""
           },
           "bgcolor": "white",
           "caxis": {
            "gridcolor": "#DFE8F3",
            "linecolor": "#A2B1C6",
            "ticks": ""
           }
          },
          "title": {
           "x": 0.05
          },
          "xaxis": {
           "automargin": true,
           "gridcolor": "#EBF0F8",
           "linecolor": "#EBF0F8",
           "ticks": "",
           "title": {
            "standoff": 15
           },
           "zerolinecolor": "#EBF0F8",
           "zerolinewidth": 2
          },
          "yaxis": {
           "automargin": true,
           "gridcolor": "#EBF0F8",
           "linecolor": "#EBF0F8",
           "ticks": "",
           "title": {
            "standoff": 15
           },
           "zerolinecolor": "#EBF0F8",
           "zerolinewidth": 2
          }
         }
        },
        "shapes": [
         {
          "line": {
           "color": "red",
           "dash": "dash",
           "width": 1
          },
          "type": "line",
          "x0": "2024-02-01",
          "x1": "2024-02-01",
          "xref": "x",
          "y0": 0,
          "y1": 1,
          "yref": "y domain"
         }
        ],
        "yaxis": {
         "title": {
          "text": "Day closing return (%)"
         },
         "tickformat": ".0%",
         "range": [
          -0.25,
          0.6
         ]
        },
        "title": {
         "text": "6 Month Prediction vs Actual Plot"
        },
        "xaxis": {
         "title": {
          "text": "Date"
         }
        },
        "legend": {
         "title": {
          "text": "Legend"
         }
        }
       },
       "config": {
        "plotlyServerURL": "https://plot.ly"
       }
      },
      "text/html": [
       "<div>                            <div id=\"5af92703-0a98-4f77-bdfa-661a8b0a2f9e\" class=\"plotly-graph-div\" style=\"height:525px; width:100%;\"></div>            <script type=\"text/javascript\">                require([\"plotly\"], function(Plotly) {                    window.PLOTLYENV=window.PLOTLYENV || {};                                    if (document.getElementById(\"5af92703-0a98-4f77-bdfa-661a8b0a2f9e\")) {                    Plotly.newPlot(                        \"5af92703-0a98-4f77-bdfa-661a8b0a2f9e\",                        [{\"line\":{\"color\":\"#5c839f\",\"width\":2},\"mode\":\"lines\",\"name\":\"Actual returns\",\"x\":[\"2001-05-01\",\"2001-06-01\",\"2001-07-01\",\"2001-08-01\",\"2001-09-01\",\"2001-10-01\",\"2001-11-01\",\"2001-12-01\",\"2002-01-01\",\"2002-02-01\",\"2002-03-01\",\"2002-04-01\",\"2002-05-01\",\"2002-06-01\",\"2002-07-01\",\"2002-08-01\",\"2002-09-01\",\"2002-10-01\",\"2002-11-01\",\"2002-12-01\",\"2003-01-01\",\"2003-02-01\",\"2003-03-01\",\"2003-04-01\",\"2003-05-01\",\"2003-06-01\",\"2003-07-01\",\"2003-08-01\",\"2003-09-01\",\"2003-10-01\",\"2003-11-01\",\"2003-12-01\",\"2004-01-01\",\"2004-02-01\",\"2004-03-01\",\"2004-04-01\",\"2004-05-01\",\"2004-06-01\",\"2004-07-01\",\"2004-08-01\",\"2004-09-01\",\"2004-10-01\",\"2004-11-01\",\"2004-12-01\",\"2005-01-01\",\"2005-02-01\",\"2005-03-01\",\"2005-04-01\",\"2005-05-01\",\"2005-06-01\",\"2005-07-01\",\"2005-08-01\",\"2005-09-01\",\"2005-10-01\",\"2005-11-01\",\"2005-12-01\",\"2006-01-01\",\"2006-02-01\",\"2006-03-01\",\"2006-04-01\",\"2006-05-01\",\"2006-06-01\",\"2006-07-01\",\"2006-08-01\",\"2006-09-01\",\"2006-10-01\",\"2006-11-01\",\"2006-12-01\",\"2007-01-01\",\"2007-02-01\",\"2007-03-01\",\"2007-04-01\",\"2007-05-01\",\"2007-06-01\",\"2007-07-01\",\"2007-08-01\",\"2007-09-01\",\"2007-10-01\",\"2007-11-01\",\"2007-12-01\",\"2008-01-01\",\"2008-02-01\",\"2008-03-01\",\"2008-04-01\",\"2008-05-01\",\"2008-06-01\",\"2008-07-01\",\"2008-08-01\",\"2008-09-01\",\"2008-10-01\",\"2008-11-01\",\"2008-12-01\",\"2009-01-01\",\"2009-02-01\",\"2009-03-01\",\"2009-04-01\",\"2009-05-01\",\"2009-06-01\",\"2009-07-01\",\"2009-08-01\",\"2009-09-01\",\"2009-10-01\",\"2009-11-01\",\"2009-12-01\",\"2010-01-01\",\"2010-02-01\",\"2010-03-01\",\"2010-04-01\",\"2010-05-01\",\"2010-06-01\",\"2010-07-01\",\"2010-08-01\",\"2010-09-01\",\"2010-10-01\",\"2010-11-01\",\"2010-12-01\",\"2011-01-01\",\"2011-02-01\",\"2011-03-01\",\"2011-04-01\",\"2011-05-01\",\"2011-06-01\",\"2011-07-01\",\"2011-08-01\",\"2011-09-01\",\"2011-10-01\",\"2011-11-01\",\"2011-12-01\",\"2012-01-01\",\"2012-02-01\",\"2012-03-01\",\"2012-04-01\",\"2012-05-01\",\"2012-06-01\",\"2012-07-01\",\"2012-08-01\",\"2012-09-01\",\"2012-10-01\",\"2012-11-01\",\"2012-12-01\",\"2013-01-01\",\"2013-02-01\",\"2013-03-01\",\"2013-04-01\",\"2013-05-01\",\"2013-06-01\",\"2013-07-01\",\"2013-08-01\",\"2013-09-01\",\"2013-10-01\",\"2013-11-01\",\"2013-12-01\",\"2014-01-01\",\"2014-02-01\",\"2014-03-01\",\"2014-04-01\",\"2014-05-01\",\"2014-06-01\",\"2014-07-01\",\"2014-08-01\",\"2014-09-01\",\"2014-10-01\",\"2014-11-01\",\"2014-12-01\",\"2015-01-01\",\"2015-02-01\",\"2015-03-01\",\"2015-04-01\",\"2015-05-01\",\"2015-06-01\",\"2015-07-01\",\"2015-08-01\",\"2015-09-01\",\"2015-10-01\",\"2015-11-01\",\"2015-12-01\",\"2016-01-01\",\"2016-02-01\",\"2016-03-01\",\"2016-04-01\",\"2016-05-01\",\"2016-06-01\",\"2016-07-01\",\"2016-08-01\",\"2016-09-01\",\"2016-10-01\",\"2016-11-01\",\"2016-12-01\",\"2017-01-01\",\"2017-02-01\",\"2017-03-01\",\"2017-04-01\",\"2017-05-01\",\"2017-06-01\",\"2017-07-01\",\"2017-08-01\",\"2017-09-01\",\"2017-10-01\",\"2017-11-01\",\"2017-12-01\",\"2018-01-01\",\"2018-02-01\",\"2018-03-01\",\"2018-04-01\",\"2018-05-01\",\"2018-06-01\",\"2018-07-01\",\"2018-08-01\",\"2018-09-01\",\"2018-10-01\",\"2018-11-01\",\"2018-12-01\",\"2019-01-01\",\"2019-02-01\",\"2019-03-01\",\"2019-04-01\",\"2019-05-01\",\"2019-06-01\",\"2019-07-01\",\"2019-08-01\",\"2019-09-01\",\"2019-10-01\",\"2019-11-01\",\"2019-12-01\",\"2020-01-01\",\"2020-02-01\",\"2020-03-01\",\"2020-04-01\",\"2020-05-01\",\"2020-06-01\",\"2020-07-01\",\"2020-08-01\",\"2020-09-01\",\"2020-10-01\",\"2020-11-01\",\"2020-12-01\",\"2021-01-01\",\"2021-02-01\",\"2021-03-01\",\"2021-04-01\",\"2021-05-01\",\"2021-06-01\",\"2021-07-01\",\"2021-08-01\",\"2021-09-01\",\"2021-10-01\",\"2021-11-01\",\"2021-12-01\",\"2022-01-01\",\"2022-02-01\",\"2022-03-01\",\"2022-04-01\",\"2022-05-01\",\"2022-06-01\",\"2022-07-01\",\"2022-08-01\",\"2022-09-01\",\"2022-10-01\",\"2022-11-01\",\"2022-12-01\",\"2023-01-01\",\"2023-02-01\",\"2023-03-01\",\"2023-04-01\",\"2023-05-01\",\"2023-06-01\",\"2023-07-01\",\"2023-08-01\",\"2023-09-01\",\"2023-10-01\",\"2023-11-01\",\"2023-12-01\",\"2024-01-01\",\"2024-02-01\",\"2024-03-01\",\"2024-04-01\",\"2024-05-01\",\"2024-06-01\",\"2024-07-01\",\"2024-08-01\"],\"y\":[0.02743993993994054,0.038025525525524406,-0.009414414414414263,0.22023273273273247,0.031974474474474324,-0.00259009009009048,-0.020735735735735616,0.033678678678677354,-0.003978978978978809,0.0299774774774777,-0.007777777777777883,-0.011524024024024082,-0.026936936936937994,0.01249999999999929,0.038400900900901425,-0.02846096096096018,-0.012762762762762891,0.07272522522522085,0.015735735735736167,0.001644144144144155,-0.026996996996994982,-0.030915915915913916,-0.09028528528528412,0.05090840840840727,0.0509159159159156,0.018573573573573476,-0.005405405405404129,0.012072072072070394,0.05409159159158938,0.009024024024022914,0.00522522522522495,-0.05081831831831807,-0.06252252252252144,-0.011471471471471095,-0.04330330330330234,0.010465465465465451,0.058453453453451765,-0.03432432432432431,-0.01071321321321217,0.003100600600600245,-0.0021696696696679174,0.06228978978978872,0.07175675675675475,0.03475225225225054,0.05778528528528293,0.06289039039038924,0.004909909909908583,0.05349099099098753,0.004924924924925467,0.01909159159158902,0.032132132132131064,0.01701951951951819,0.05260510510510441,0.00787537537537375,-0.0060810810810809635,0.039166666666664574,-0.03876126126125934,-0.006861861861861107,0.005180180180180738,0.004489489489490461,0.03232732732732635,0.05847597597597187,0.008250750750750768,0.024947447447445814,-0.0037087087087082082,-0.022267267267264912,0.03677177177176838,0.024557057057054577,0.040442942942939375,-0.0006981981981986074,0.01872372372372233,0.07061561561561569,0.05157657657657366,0.02451201201201103,0.04399399399399351,0.0172822822822829,0.028603603603601258,0.0011486486486493863,-0.03011261261261,-0.0018618618618618799,-0.01278528528528522,0.028018018018014734,0.014181681681680214,0.024466966966965265,0.027897897897896762,0.030930930930927136,0.03999999999999804,0.0035285285285273638,0.0018993993994007585,0.021418918918917118,0.02924174174173988,-0.01469969969969842,-0.03518768768768399,-0.010007507507506563,0.0024024024024018598,0.019632132132131774,-0.05572822822822687,-0.009954954954954243,-0.06066066066065812,-0.010435435435435347,-0.014969969969969021,0.03434684684684575,0.027875375375374656,-0.07102852852852792,-0.0025300300300311607,0.01765015015014937,-0.07436936936936767,-0.16220720720720616,-0.05918918918918892,0.04562312312312233,-0.056186186186185094,-0.06329579579579647,0.07671171171171154,0.15475225225225198,0.04527027027027031,0.03893393393393363,0.07099849849849749,0.05655405405405389,0.03070570570570519,-0.021951951951950766,0.0010360360360355259,0.05536036036035763,-0.013551051051049257,0.020743243243242837,0.06338588588588245,0.04948948948948795,-0.05758258258257942,-0.040217717717715096,0.040165165165163996,-0.03746996996996865,0.07373123123122904,0.0181606606606608,0.029774774774774082,0.06351351351350831,0.01366366366366445,0.03365615615615347,-0.01171171171171026,0.02272522522522369,-0.0021996996996992424,-0.0004279279279268966,-0.018408408408405852,-0.05390390390390232,-0.049354354354354535,0.07704954954954912,-0.014466966966965367,0.005720720720719719,0.056246246246242304,0.04385885885885599,0.03139639639639191,-0.005975975975974102,-0.05990990990990752,0.033543543543540055,-0.0019219219219228645,0.021854354354353456,0.016599099099097403,0.002957957957956614,0.017342342342340444,0.032770270270266355,0.06512762762762248,0.025345345345343828,0.04521021021020588,0.03481231231231119,0.018280780780780104,-0.009894894894894812,0.03924924924924866,-0.009249249249246638,0.05455705705705238,0.028130630630627262,0.02668168168168039,0.022522522522519184,-0.013288288288286432,0.030075075075072455,0.0034009009009017266,-0.014481981981981806,0.020037537537534345,0.03023273273272986,-0.013093093093094033,0.02825825825825312,-0.01791291291291064,0.03218468468468272,0.04343843843843276,0.015833333333329813,0.002282282282282333,0.04680930930930782,0.012477477477475851,0.00021771771771783577,0.0293018018017992,-0.007530030030026724,0.015135135135132538,-0.04286786786786334,-0.025360360360358603,0.058055555555554195,0.02036786786786493,-0.020202702702699193,-0.05234234234234081,-0.003768768768769082,0.06146396396395826,0.0017117117117124714,0.02473723723723631,-0.028280780780780446,0.058536036036028305,0.009331831831831616,0.011493993993994867,-0.004587087087085662,0.04523273273273265,0.03180180180179559,0.011876876876876663,0.023596096096092145,0.009294294294294847,0.01928678678678275,0.017432432432431755,0.013648648648647344,0.016336336336334467,0.005165165165165186,0.03681681681681481,0.024496996996993925,0.029166666666663676,0.011771771771771133,0.025037537537536014,-0.02737237237236656,-0.0007732732732720349,0.021028528528523216,0.03003003003002891,0.00960210210210044,0.015405405405403583,0.023415915915913077,-0.0036411411411424455,-0.06527777777777555,0.018873873873872515,-0.0894669669669641,0.09368618618618263,0.041291291291286614,0.008566066066063804,0.043918918918915084,-0.05617867867867832,0.04983483483482942,0.020818318318316154,-0.026448948948949114,0.037800300300294465,0.032867867867863776,0.034909909909907055,0.02680930930930736,-0.014016516516515032,-0.09361111111110709,-0.18348348348348387,0.1288888888888864,0.0715540540540538,0.02461711711711967,0.01599099099099388,0.0644519519519513,-0.006869369369366662,-0.005548048048042986,0.14040540540540425,0.05409909909909216,0.02852852852853105,0.0521096096096072,0.04906156156155683,0.03810810810810494,0.01629129129128959,0.016869369369369114,0.011163663663662282,0.02643393393393012,-0.02038288288288037,0.03498498498498348,-0.02757507507507051,0.045360360360353846,-0.07055555555555282,-0.012312312312310003,0.007882882882881193,-0.048010510510507864,0.005157657657655745,-0.06768018018017974,0.09111111111110559,-0.029324324324321083,-0.09201201201200937,0.08337837837837592,0.05950450450450018,-0.04256756756756219,0.08824324324324206,-0.005262762762760831,-0.012912912912911412,0.005990990990987433,-0.006478978978976202,0.062995495495489,0.0376951951951896,-0.019376876876874283,-0.03429429429428832,-0.04720720720720273,0.08611111111110614,0.07102852852852637,-0.0033783783783778443,0.027439939939941205,0.033686186186181466,-0.03638888888888547,0.03388888888888686,0.0002852852852868182,0.052469969969967556,0.002424924924925298,-0.03054054054053601],\"type\":\"scatter\"},{\"line\":{\"color\":\"red\",\"width\":2},\"mode\":\"lines\",\"name\":\"Train returns\",\"x\":[\"2001-05-01\",\"2001-06-01\",\"2001-07-01\",\"2001-08-01\",\"2001-09-01\",\"2001-10-01\",\"2001-11-01\",\"2001-12-01\",\"2002-01-01\",\"2002-02-01\",\"2002-03-01\",\"2002-04-01\",\"2002-05-01\",\"2002-06-01\",\"2002-07-01\",\"2002-08-01\",\"2002-09-01\",\"2002-10-01\",\"2002-11-01\",\"2002-12-01\",\"2003-01-01\",\"2003-02-01\",\"2003-03-01\",\"2003-04-01\",\"2003-05-01\",\"2003-06-01\",\"2003-07-01\",\"2003-08-01\",\"2003-09-01\",\"2003-10-01\",\"2003-11-01\",\"2003-12-01\",\"2004-01-01\",\"2004-02-01\",\"2004-03-01\",\"2004-04-01\",\"2004-05-01\",\"2004-06-01\",\"2004-07-01\",\"2004-08-01\",\"2004-09-01\",\"2004-10-01\",\"2004-11-01\",\"2004-12-01\",\"2005-01-01\",\"2005-02-01\",\"2005-03-01\",\"2005-04-01\",\"2005-05-01\",\"2005-06-01\",\"2005-07-01\",\"2005-08-01\",\"2005-09-01\",\"2005-10-01\",\"2005-11-01\",\"2005-12-01\",\"2006-01-01\",\"2006-02-01\",\"2006-03-01\",\"2006-04-01\",\"2006-05-01\",\"2006-06-01\",\"2006-07-01\",\"2006-08-01\",\"2006-09-01\",\"2006-10-01\",\"2006-11-01\",\"2006-12-01\",\"2007-01-01\",\"2007-02-01\",\"2007-03-01\",\"2007-04-01\",\"2007-05-01\",\"2007-06-01\",\"2007-07-01\",\"2007-08-01\",\"2007-09-01\",\"2007-10-01\",\"2007-11-01\",\"2007-12-01\",\"2008-01-01\",\"2008-02-01\",\"2008-03-01\",\"2008-04-01\",\"2008-05-01\",\"2008-06-01\",\"2008-07-01\",\"2008-08-01\",\"2008-09-01\",\"2008-10-01\",\"2008-11-01\",\"2008-12-01\",\"2009-01-01\",\"2009-02-01\",\"2009-03-01\",\"2009-04-01\",\"2009-05-01\",\"2009-06-01\",\"2009-07-01\",\"2009-08-01\",\"2009-09-01\",\"2009-10-01\",\"2009-11-01\",\"2009-12-01\",\"2010-01-01\",\"2010-02-01\",\"2010-03-01\",\"2010-04-01\",\"2010-05-01\",\"2010-06-01\",\"2010-07-01\",\"2010-08-01\",\"2010-09-01\",\"2010-10-01\",\"2010-11-01\",\"2010-12-01\",\"2011-01-01\",\"2011-02-01\",\"2011-03-01\",\"2011-04-01\",\"2011-05-01\",\"2011-06-01\",\"2011-07-01\",\"2011-08-01\",\"2011-09-01\",\"2011-10-01\",\"2011-11-01\",\"2011-12-01\",\"2012-01-01\",\"2012-02-01\",\"2012-03-01\",\"2012-04-01\",\"2012-05-01\",\"2012-06-01\",\"2012-07-01\",\"2012-08-01\",\"2012-09-01\",\"2012-10-01\",\"2012-11-01\",\"2012-12-01\",\"2013-01-01\",\"2013-02-01\",\"2013-03-01\",\"2013-04-01\",\"2013-05-01\",\"2013-06-01\",\"2013-07-01\",\"2013-08-01\",\"2013-09-01\",\"2013-10-01\",\"2013-11-01\",\"2013-12-01\",\"2014-01-01\",\"2014-02-01\",\"2014-03-01\",\"2014-04-01\",\"2014-05-01\",\"2014-06-01\",\"2014-07-01\",\"2014-08-01\",\"2014-09-01\",\"2014-10-01\",\"2014-11-01\",\"2014-12-01\",\"2015-01-01\",\"2015-02-01\",\"2015-03-01\",\"2015-04-01\",\"2015-05-01\",\"2015-06-01\",\"2015-07-01\",\"2015-08-01\",\"2015-09-01\",\"2015-10-01\",\"2015-11-01\",\"2015-12-01\",\"2016-01-01\",\"2016-02-01\",\"2016-03-01\",\"2016-04-01\",\"2016-05-01\",\"2016-06-01\",\"2016-07-01\",\"2016-08-01\",\"2016-09-01\",\"2016-10-01\",\"2016-11-01\",\"2016-12-01\",\"2017-01-01\",\"2017-02-01\",\"2017-03-01\",\"2017-04-01\",\"2017-05-01\",\"2017-06-01\",\"2017-07-01\",\"2017-08-01\",\"2017-09-01\",\"2017-10-01\",\"2017-11-01\",\"2017-12-01\",\"2018-01-01\",\"2018-02-01\",\"2018-03-01\",\"2018-04-01\",\"2018-05-01\",\"2018-06-01\",\"2018-07-01\",\"2018-08-01\",\"2018-09-01\",\"2018-10-01\",\"2018-11-01\",\"2018-12-01\",\"2019-01-01\",\"2019-02-01\",\"2019-03-01\",\"2019-04-01\",\"2019-05-01\",\"2019-06-01\",\"2019-07-01\",\"2019-08-01\",\"2019-09-01\",\"2019-10-01\",\"2019-11-01\",\"2019-12-01\",\"2020-01-01\",\"2020-02-01\",\"2020-03-01\",\"2020-04-01\",\"2020-05-01\",\"2020-06-01\",\"2020-07-01\",\"2020-08-01\",\"2020-09-01\",\"2020-10-01\",\"2020-11-01\",\"2020-12-01\",\"2021-01-01\",\"2021-02-01\",\"2021-03-01\",\"2021-04-01\",\"2021-05-01\",\"2021-06-01\",\"2021-07-01\",\"2021-08-01\",\"2021-09-01\",\"2021-10-01\",\"2021-11-01\",\"2021-12-01\",\"2022-01-01\",\"2022-02-01\",\"2022-03-01\",\"2022-04-01\",\"2022-05-01\",\"2022-06-01\",\"2022-07-01\",\"2022-08-01\",\"2022-09-01\",\"2022-10-01\",\"2022-11-01\",\"2022-12-01\",\"2023-01-01\",\"2023-02-01\",\"2023-03-01\",\"2023-04-01\",\"2023-05-01\",\"2023-06-01\",\"2023-07-01\",\"2023-08-01\",\"2023-09-01\",\"2023-10-01\",\"2023-11-01\",\"2023-12-01\",\"2024-01-01\",\"2024-02-01\"],\"y\":[0.03038191795349121,0.02337646484375,0.01980602741241455,0.021862030029296875,0.019380569458007812,0.018718242645263672,0.02131795883178711,0.017420172691345215,0.020838499069213867,0.019118070602416992,0.014935970306396484,0.021998167037963867,0.01967489719390869,0.01760685443878174,0.01852107048034668,0.016335368156433105,0.01671290397644043,0.01561892032623291,0.019692301750183105,0.018370509147644043,0.01857304573059082,0.014235854148864746,0.020238757133483887,0.016041278839111328,0.015934228897094727,0.01685500144958496,0.013188362121582031,0.01636373996734619,0.013956308364868164,0.01375126838684082,0.01559305191040039,0.0163116455078125,0.013061165809631348,0.015398144721984863,0.015173196792602539,0.01805102825164795,0.01390540599822998,0.014407634735107422,0.013147711753845215,0.014416337013244629,0.014591217041015625,0.017161846160888672,0.013930439949035645,0.015368938446044922,0.01598954200744629,0.014798760414123535,0.01609647274017334,0.014789819717407227,0.012691259384155273,0.0140838623046875,0.014881610870361328,0.015671372413635254,0.014943957328796387,0.015031576156616211,0.013874173164367676,0.013005256652832031,0.013252735137939453,0.01755058765411377,0.01259458065032959,0.013815760612487793,0.01195061206817627,0.014569997787475586,0.01219475269317627,0.013621091842651367,0.013315320014953613,0.01490795612335205,0.012291669845581055,0.013864517211914062,0.011171698570251465,0.011616110801696777,0.01193380355834961,0.011957526206970215,0.012967348098754883,0.010812520980834961,0.012127280235290527,0.01527857780456543,0.012243866920471191,0.01164400577545166,0.01364123821258545,0.011327028274536133,0.01219165325164795,0.012508392333984375,0.010231971740722656,0.012463688850402832,0.014227628707885742,0.012386798858642578,0.012951493263244629,0.012409567832946777,0.013022541999816895,0.01473987102508545,0.012373208999633789,0.01574397087097168,0.012360930442810059,0.013872146606445312,0.013051152229309082,0.013412833213806152,0.010407686233520508,0.011218428611755371,0.012995004653930664,0.013193130493164062,0.013912320137023926,0.010459423065185547,0.010752320289611816,0.012578248977661133,0.012184858322143555,0.012203693389892578,0.012419462203979492,0.011583805084228516,0.01144719123840332,0.01344442367553711,0.011654257774353027,0.009220004081726074,0.014697909355163574,0.01160120964050293,0.011783838272094727,0.011862635612487793,0.013024449348449707,0.012442708015441895,0.009996771812438965,0.011701345443725586,0.010151028633117676,0.01233971118927002,0.009814977645874023,0.010680913925170898,0.012341141700744629,0.01274096965789795,0.010627508163452148,0.012494325637817383,0.011365056037902832,0.012281060218811035,0.010408997535705566,0.011812448501586914,0.01200103759765625,0.010258316993713379,0.012632966041564941,0.012053608894348145,0.012190461158752441,0.010453343391418457,0.014002084732055664,0.011492729187011719,0.01169741153717041,0.010971426963806152,0.011763691902160645,0.013716578483581543,0.011044740676879883,0.011406660079956055,0.011458396911621094,0.011434197425842285,0.01282036304473877,0.011864781379699707,0.01089620590209961,0.011614799499511719,0.011213541030883789,0.011472225189208984,0.010059475898742676,0.009461045265197754,0.010987281799316406,0.012157320976257324,0.009927749633789062,0.011780142784118652,0.01129770278930664,0.012129426002502441,0.010767340660095215,0.009558439254760742,0.009511113166809082,0.010913968086242676,0.011107683181762695,0.011950969696044922,0.012332797050476074,0.011427879333496094,0.011900544166564941,0.012100696563720703,0.011676907539367676,0.010282754898071289,0.010015130043029785,0.010117769241333008,0.009192466735839844,0.010133504867553711,0.010242819786071777,0.010847210884094238,0.010325789451599121,0.01026761531829834,0.010035872459411621,0.010471701622009277,0.010773658752441406,0.012082576751708984,0.00859534740447998,0.01146233081817627,0.0103607177734375,0.011288762092590332,0.011083483695983887,0.010209798812866211,0.012267112731933594,0.010044336318969727,0.009575605392456055,0.009557366371154785,0.01072072982788086,0.01024329662322998,0.009258151054382324,0.011321187019348145,0.01053929328918457,0.012431502342224121,0.009743928909301758,0.010741949081420898,0.011076569557189941,0.010359525680541992,0.010791659355163574,0.008862018585205078,0.00970470905303955,0.009375214576721191,0.008322477340698242,0.009574055671691895,0.011606335639953613,0.00899803638458252,0.008039593696594238,0.008715033531188965,0.010025382041931152,0.010592341423034668,0.007933855056762695,0.010158419609069824,0.01040506362915039,0.008260130882263184,0.007623195648193359,0.009038925170898438,0.00905466079711914,0.010326623916625977,0.009447574615478516,0.01020956039428711,0.010155320167541504,0.00962817668914795,0.008574962615966797,0.008999109268188477,0.009319305419921875,0.010549306869506836,0.00944674015045166,0.007575273513793945,0.008198380470275879,0.009433388710021973,0.008616924285888672,0.00847470760345459,0.007364153861999512,0.009745121002197266,0.007060050964355469,0.008281588554382324,0.009595870971679688,0.007996916770935059,0.007409095764160156,0.008183002471923828,0.008488893508911133,0.00805366039276123,0.007974863052368164,0.007121920585632324,0.008027911186218262,0.009328842163085938,0.008303523063659668,0.007107973098754883,0.00807344913482666,0.0061359405517578125,0.0063664913177490234,0.007335066795349121,0.006685614585876465,0.006177544593811035,0.006795406341552734,0.007428884506225586,0.006651163101196289,0.006094217300415039,0.006833910942077637,0.00560760498046875,0.005445361137390137,0.005749821662902832,0.006133437156677246,0.005613565444946289,0.005162596702575684,0.005266785621643066],\"type\":\"scatter\"},{\"line\":{\"color\":\"green\",\"width\":2},\"mode\":\"lines\",\"name\":\"Test returns\",\"x\":[\"2024-02-01\",\"2024-03-01\",\"2024-04-01\",\"2024-05-01\",\"2024-06-01\",\"2024-07-01\",\"2024-08-01\"],\"y\":[0.005266785621643066,0.005290627479553223,0.00523829460144043,0.005033731460571289,0.005024433135986328,0.004842281341552734,0.0038628578186035156],\"type\":\"scatter\"}],                        {\"template\":{\"data\":{\"barpolar\":[{\"marker\":{\"line\":{\"color\":\"white\",\"width\":0.5},\"pattern\":{\"fillmode\":\"overlay\",\"size\":10,\"solidity\":0.2}},\"type\":\"barpolar\"}],\"bar\":[{\"error_x\":{\"color\":\"#2a3f5f\"},\"error_y\":{\"color\":\"#2a3f5f\"},\"marker\":{\"line\":{\"color\":\"white\",\"width\":0.5},\"pattern\":{\"fillmode\":\"overlay\",\"size\":10,\"solidity\":0.2}},\"type\":\"bar\"}],\"carpet\":[{\"aaxis\":{\"endlinecolor\":\"#2a3f5f\",\"gridcolor\":\"#C8D4E3\",\"linecolor\":\"#C8D4E3\",\"minorgridcolor\":\"#C8D4E3\",\"startlinecolor\":\"#2a3f5f\"},\"baxis\":{\"endlinecolor\":\"#2a3f5f\",\"gridcolor\":\"#C8D4E3\",\"linecolor\":\"#C8D4E3\",\"minorgridcolor\":\"#C8D4E3\",\"startlinecolor\":\"#2a3f5f\"},\"type\":\"carpet\"}],\"choropleth\":[{\"colorbar\":{\"outlinewidth\":0,\"ticks\":\"\"},\"type\":\"choropleth\"}],\"contourcarpet\":[{\"colorbar\":{\"outlinewidth\":0,\"ticks\":\"\"},\"type\":\"contourcarpet\"}],\"contour\":[{\"colorbar\":{\"outlinewidth\":0,\"ticks\":\"\"},\"colorscale\":[[0.0,\"#0d0887\"],[0.1111111111111111,\"#46039f\"],[0.2222222222222222,\"#7201a8\"],[0.3333333333333333,\"#9c179e\"],[0.4444444444444444,\"#bd3786\"],[0.5555555555555556,\"#d8576b\"],[0.6666666666666666,\"#ed7953\"],[0.7777777777777778,\"#fb9f3a\"],[0.8888888888888888,\"#fdca26\"],[1.0,\"#f0f921\"]],\"type\":\"contour\"}],\"heatmapgl\":[{\"colorbar\":{\"outlinewidth\":0,\"ticks\":\"\"},\"colorscale\":[[0.0,\"#0d0887\"],[0.1111111111111111,\"#46039f\"],[0.2222222222222222,\"#7201a8\"],[0.3333333333333333,\"#9c179e\"],[0.4444444444444444,\"#bd3786\"],[0.5555555555555556,\"#d8576b\"],[0.6666666666666666,\"#ed7953\"],[0.7777777777777778,\"#fb9f3a\"],[0.8888888888888888,\"#fdca26\"],[1.0,\"#f0f921\"]],\"type\":\"heatmapgl\"}],\"heatmap\":[{\"colorbar\":{\"outlinewidth\":0,\"ticks\":\"\"},\"colorscale\":[[0.0,\"#0d0887\"],[0.1111111111111111,\"#46039f\"],[0.2222222222222222,\"#7201a8\"],[0.3333333333333333,\"#9c179e\"],[0.4444444444444444,\"#bd3786\"],[0.5555555555555556,\"#d8576b\"],[0.6666666666666666,\"#ed7953\"],[0.7777777777777778,\"#fb9f3a\"],[0.8888888888888888,\"#fdca26\"],[1.0,\"#f0f921\"]],\"type\":\"heatmap\"}],\"histogram2dcontour\":[{\"colorbar\":{\"outlinewidth\":0,\"ticks\":\"\"},\"colorscale\":[[0.0,\"#0d0887\"],[0.1111111111111111,\"#46039f\"],[0.2222222222222222,\"#7201a8\"],[0.3333333333333333,\"#9c179e\"],[0.4444444444444444,\"#bd3786\"],[0.5555555555555556,\"#d8576b\"],[0.6666666666666666,\"#ed7953\"],[0.7777777777777778,\"#fb9f3a\"],[0.8888888888888888,\"#fdca26\"],[1.0,\"#f0f921\"]],\"type\":\"histogram2dcontour\"}],\"histogram2d\":[{\"colorbar\":{\"outlinewidth\":0,\"ticks\":\"\"},\"colorscale\":[[0.0,\"#0d0887\"],[0.1111111111111111,\"#46039f\"],[0.2222222222222222,\"#7201a8\"],[0.3333333333333333,\"#9c179e\"],[0.4444444444444444,\"#bd3786\"],[0.5555555555555556,\"#d8576b\"],[0.6666666666666666,\"#ed7953\"],[0.7777777777777778,\"#fb9f3a\"],[0.8888888888888888,\"#fdca26\"],[1.0,\"#f0f921\"]],\"type\":\"histogram2d\"}],\"histogram\":[{\"marker\":{\"pattern\":{\"fillmode\":\"overlay\",\"size\":10,\"solidity\":0.2}},\"type\":\"histogram\"}],\"mesh3d\":[{\"colorbar\":{\"outlinewidth\":0,\"ticks\":\"\"},\"type\":\"mesh3d\"}],\"parcoords\":[{\"line\":{\"colorbar\":{\"outlinewidth\":0,\"ticks\":\"\"}},\"type\":\"parcoords\"}],\"pie\":[{\"automargin\":true,\"type\":\"pie\"}],\"scatter3d\":[{\"line\":{\"colorbar\":{\"outlinewidth\":0,\"ticks\":\"\"}},\"marker\":{\"colorbar\":{\"outlinewidth\":0,\"ticks\":\"\"}},\"type\":\"scatter3d\"}],\"scattercarpet\":[{\"marker\":{\"colorbar\":{\"outlinewidth\":0,\"ticks\":\"\"}},\"type\":\"scattercarpet\"}],\"scattergeo\":[{\"marker\":{\"colorbar\":{\"outlinewidth\":0,\"ticks\":\"\"}},\"type\":\"scattergeo\"}],\"scattergl\":[{\"marker\":{\"colorbar\":{\"outlinewidth\":0,\"ticks\":\"\"}},\"type\":\"scattergl\"}],\"scattermapbox\":[{\"marker\":{\"colorbar\":{\"outlinewidth\":0,\"ticks\":\"\"}},\"type\":\"scattermapbox\"}],\"scatterpolargl\":[{\"marker\":{\"colorbar\":{\"outlinewidth\":0,\"ticks\":\"\"}},\"type\":\"scatterpolargl\"}],\"scatterpolar\":[{\"marker\":{\"colorbar\":{\"outlinewidth\":0,\"ticks\":\"\"}},\"type\":\"scatterpolar\"}],\"scatter\":[{\"fillpattern\":{\"fillmode\":\"overlay\",\"size\":10,\"solidity\":0.2},\"type\":\"scatter\"}],\"scatterternary\":[{\"marker\":{\"colorbar\":{\"outlinewidth\":0,\"ticks\":\"\"}},\"type\":\"scatterternary\"}],\"surface\":[{\"colorbar\":{\"outlinewidth\":0,\"ticks\":\"\"},\"colorscale\":[[0.0,\"#0d0887\"],[0.1111111111111111,\"#46039f\"],[0.2222222222222222,\"#7201a8\"],[0.3333333333333333,\"#9c179e\"],[0.4444444444444444,\"#bd3786\"],[0.5555555555555556,\"#d8576b\"],[0.6666666666666666,\"#ed7953\"],[0.7777777777777778,\"#fb9f3a\"],[0.8888888888888888,\"#fdca26\"],[1.0,\"#f0f921\"]],\"type\":\"surface\"}],\"table\":[{\"cells\":{\"fill\":{\"color\":\"#EBF0F8\"},\"line\":{\"color\":\"white\"}},\"header\":{\"fill\":{\"color\":\"#C8D4E3\"},\"line\":{\"color\":\"white\"}},\"type\":\"table\"}]},\"layout\":{\"annotationdefaults\":{\"arrowcolor\":\"#2a3f5f\",\"arrowhead\":0,\"arrowwidth\":1},\"autotypenumbers\":\"strict\",\"coloraxis\":{\"colorbar\":{\"outlinewidth\":0,\"ticks\":\"\"}},\"colorscale\":{\"diverging\":[[0,\"#8e0152\"],[0.1,\"#c51b7d\"],[0.2,\"#de77ae\"],[0.3,\"#f1b6da\"],[0.4,\"#fde0ef\"],[0.5,\"#f7f7f7\"],[0.6,\"#e6f5d0\"],[0.7,\"#b8e186\"],[0.8,\"#7fbc41\"],[0.9,\"#4d9221\"],[1,\"#276419\"]],\"sequential\":[[0.0,\"#0d0887\"],[0.1111111111111111,\"#46039f\"],[0.2222222222222222,\"#7201a8\"],[0.3333333333333333,\"#9c179e\"],[0.4444444444444444,\"#bd3786\"],[0.5555555555555556,\"#d8576b\"],[0.6666666666666666,\"#ed7953\"],[0.7777777777777778,\"#fb9f3a\"],[0.8888888888888888,\"#fdca26\"],[1.0,\"#f0f921\"]],\"sequentialminus\":[[0.0,\"#0d0887\"],[0.1111111111111111,\"#46039f\"],[0.2222222222222222,\"#7201a8\"],[0.3333333333333333,\"#9c179e\"],[0.4444444444444444,\"#bd3786\"],[0.5555555555555556,\"#d8576b\"],[0.6666666666666666,\"#ed7953\"],[0.7777777777777778,\"#fb9f3a\"],[0.8888888888888888,\"#fdca26\"],[1.0,\"#f0f921\"]]},\"colorway\":[\"#636efa\",\"#EF553B\",\"#00cc96\",\"#ab63fa\",\"#FFA15A\",\"#19d3f3\",\"#FF6692\",\"#B6E880\",\"#FF97FF\",\"#FECB52\"],\"font\":{\"color\":\"#2a3f5f\"},\"geo\":{\"bgcolor\":\"white\",\"lakecolor\":\"white\",\"landcolor\":\"white\",\"showlakes\":true,\"showland\":true,\"subunitcolor\":\"#C8D4E3\"},\"hoverlabel\":{\"align\":\"left\"},\"hovermode\":\"closest\",\"mapbox\":{\"style\":\"light\"},\"paper_bgcolor\":\"white\",\"plot_bgcolor\":\"white\",\"polar\":{\"angularaxis\":{\"gridcolor\":\"#EBF0F8\",\"linecolor\":\"#EBF0F8\",\"ticks\":\"\"},\"bgcolor\":\"white\",\"radialaxis\":{\"gridcolor\":\"#EBF0F8\",\"linecolor\":\"#EBF0F8\",\"ticks\":\"\"}},\"scene\":{\"xaxis\":{\"backgroundcolor\":\"white\",\"gridcolor\":\"#DFE8F3\",\"gridwidth\":2,\"linecolor\":\"#EBF0F8\",\"showbackground\":true,\"ticks\":\"\",\"zerolinecolor\":\"#EBF0F8\"},\"yaxis\":{\"backgroundcolor\":\"white\",\"gridcolor\":\"#DFE8F3\",\"gridwidth\":2,\"linecolor\":\"#EBF0F8\",\"showbackground\":true,\"ticks\":\"\",\"zerolinecolor\":\"#EBF0F8\"},\"zaxis\":{\"backgroundcolor\":\"white\",\"gridcolor\":\"#DFE8F3\",\"gridwidth\":2,\"linecolor\":\"#EBF0F8\",\"showbackground\":true,\"ticks\":\"\",\"zerolinecolor\":\"#EBF0F8\"}},\"shapedefaults\":{\"line\":{\"color\":\"#2a3f5f\"}},\"ternary\":{\"aaxis\":{\"gridcolor\":\"#DFE8F3\",\"linecolor\":\"#A2B1C6\",\"ticks\":\"\"},\"baxis\":{\"gridcolor\":\"#DFE8F3\",\"linecolor\":\"#A2B1C6\",\"ticks\":\"\"},\"bgcolor\":\"white\",\"caxis\":{\"gridcolor\":\"#DFE8F3\",\"linecolor\":\"#A2B1C6\",\"ticks\":\"\"}},\"title\":{\"x\":0.05},\"xaxis\":{\"automargin\":true,\"gridcolor\":\"#EBF0F8\",\"linecolor\":\"#EBF0F8\",\"ticks\":\"\",\"title\":{\"standoff\":15},\"zerolinecolor\":\"#EBF0F8\",\"zerolinewidth\":2},\"yaxis\":{\"automargin\":true,\"gridcolor\":\"#EBF0F8\",\"linecolor\":\"#EBF0F8\",\"ticks\":\"\",\"title\":{\"standoff\":15},\"zerolinecolor\":\"#EBF0F8\",\"zerolinewidth\":2}}},\"shapes\":[{\"line\":{\"color\":\"red\",\"dash\":\"dash\",\"width\":1},\"type\":\"line\",\"x0\":\"2024-02-01\",\"x1\":\"2024-02-01\",\"xref\":\"x\",\"y0\":0,\"y1\":1,\"yref\":\"y domain\"}],\"yaxis\":{\"title\":{\"text\":\"Day closing return (%)\"},\"tickformat\":\".0%\",\"range\":[-0.25,0.6]},\"title\":{\"text\":\"6 Month Prediction vs Actual Plot\"},\"xaxis\":{\"title\":{\"text\":\"Date\"}},\"legend\":{\"title\":{\"text\":\"Legend\"}}},                        {\"responsive\": true}                    ).then(function(){\n",
       "                            \n",
       "var gd = document.getElementById('5af92703-0a98-4f77-bdfa-661a8b0a2f9e');\n",
       "var x = new MutationObserver(function (mutations, observer) {{\n",
       "        var display = window.getComputedStyle(gd).display;\n",
       "        if (!display || display === 'none') {{\n",
       "            console.log([gd, 'removed!']);\n",
       "            Plotly.purge(gd);\n",
       "            observer.disconnect();\n",
       "        }}\n",
       "}});\n",
       "\n",
       "// Listen for the removal of the full notebook cells\n",
       "var notebookContainer = gd.closest('#notebook-container');\n",
       "if (notebookContainer) {{\n",
       "    x.observe(notebookContainer, {childList: true});\n",
       "}}\n",
       "\n",
       "// Listen for the clearing of the current output cell\n",
       "var outputEl = gd.closest('.output');\n",
       "if (outputEl) {{\n",
       "    x.observe(outputEl, {childList: true});\n",
       "}}\n",
       "\n",
       "                        })                };                });            </script>        </div>"
      ]
     },
     "metadata": {},
     "output_type": "display_data"
    }
   ],
   "execution_count": 577
  },
  {
   "metadata": {},
   "cell_type": "markdown",
   "source": "#### Allocation",
   "id": "90f50f8f184a5a89"
  },
  {
   "metadata": {
    "ExecuteTime": {
     "end_time": "2025-06-15T15:57:14.644089Z",
     "start_time": "2025-06-15T15:57:14.555025Z"
    }
   },
   "cell_type": "code",
   "source": [
    "# Get train true values followed with predicted month/s\n",
    "y_train_6m_list = y_train_6m['m_return_target(t+6)'].tolist()\n",
    "y_pred_6m_list = y_test_pred_6m.tolist()\n",
    "#\n",
    "df_to_evaluate_6m = mpt_utils.get_df_from_pred_list(df_pct, y_train_1m_list, y_pred_6m_list)\n",
    "df_to_evaluate_6m = df_to_evaluate_6m - 1\n",
    "df_to_evaluate_6m"
   ],
   "id": "715836dd73b085f3",
   "outputs": [
    {
     "data": {
      "text/plain": [
       "          GME    2124.T    2491.T    2471.T    3046.T    PAT.DE      CROX  \\\n",
       "0    0.000000 -0.160000 -0.110000  0.000000  0.000000  0.000000  0.000000   \n",
       "1    0.000000 -0.500000 -0.200000 -0.470000 -0.060000 -0.360000 -0.140000   \n",
       "2    0.030000  0.010000 -0.270000 -0.250000  0.000000 -0.290000 -0.300000   \n",
       "3    0.000000  0.000000  0.000000  0.320000  0.000000  0.390000  0.340000   \n",
       "4    0.000000  1.180000  0.540000  0.390000  0.510000  0.280000  0.200000   \n",
       "..        ...       ...       ...       ...       ...       ...       ...   \n",
       "286  0.006337  0.005405  0.010298  0.004332  0.009435  0.004711  0.007867   \n",
       "287  0.006582  0.002743  0.014411  0.003957  0.008559  0.003957  0.008179   \n",
       "288  0.007507  0.012975  0.009310  0.011344  0.016755  0.011128  0.009037   \n",
       "289 -0.003971  0.012311  0.003340  0.012311  0.009057  0.015127  0.007217   \n",
       "290 -0.008506  0.013591  0.001353  0.011904  0.003850  0.016633  0.002681   \n",
       "\n",
       "       AOF.DE    SFQ.DE       DAN  ...      KREF     HLN.L       DBX  \\\n",
       "0   -0.270000  0.000000  0.000000  ...  0.000000  0.000000  0.000000   \n",
       "1    0.280000 -0.100000  0.000000  ...  0.030000  0.000000  0.010000   \n",
       "2   -0.160000 -0.110000 -0.140000  ...  0.000000  0.000000  0.000000   \n",
       "3   -0.270000  0.000000  0.000000  ...  0.000000  0.000000  0.000000   \n",
       "4    0.290000  0.120000  0.170000  ...  0.000000  0.000000  0.000000   \n",
       "..        ...       ...       ...  ...       ...       ...       ...   \n",
       "286 -0.000260  0.002264  0.004641  ...  0.005151  0.019624  0.021398   \n",
       "287 -0.000179  0.006608  0.006038  ...  0.007677  0.015654  0.025460   \n",
       "288  0.008492  0.009895  0.011398  ...  0.005375  0.014095  0.023157   \n",
       "289  0.011970  0.001554  0.015639  ... -0.025632  0.019865  0.013041   \n",
       "290  0.006724  0.000546  0.018724  ... -0.032134  0.010248  0.010564   \n",
       "\n",
       "          BNL       CBL      KVUE      PSTL      NTST      BLCO     NBS.L  \n",
       "0    0.000000  0.000000  0.000000  0.000000  0.000000  0.000000  0.000000  \n",
       "1    0.000000 -0.040000  0.000000  0.000000  0.000000  0.000000 -0.010000  \n",
       "2   -0.050000  0.000000  0.000000  0.000000 -0.030000  0.000000 -0.030000  \n",
       "3    0.000000  0.000000  0.000000  0.000000  0.000000  0.000000  0.000000  \n",
       "4    0.000000  0.000000  0.000000  0.000000  0.000000  0.000000  0.000000  \n",
       "..        ...       ...       ...       ...       ...       ...       ...  \n",
       "286  0.019448  0.000597 -0.022057  0.019595 -0.003749 -0.000872 -0.008799  \n",
       "287  0.014859  0.002750 -0.011967  0.015762  0.001806  0.032114  0.010101  \n",
       "288  0.013300 -0.000423 -0.029876  0.015072  0.020880  0.053478  0.012910  \n",
       "289  0.014202 -0.015869  0.041161  0.011455  0.036667  0.003850  0.031268  \n",
       "290 -0.010327 -0.018346 -0.017962 -0.001606 -0.019760  0.014416 -0.020862  \n",
       "\n",
       "[291 rows x 1332 columns]"
      ],
      "text/html": [
       "<div>\n",
       "<style scoped>\n",
       "    .dataframe tbody tr th:only-of-type {\n",
       "        vertical-align: middle;\n",
       "    }\n",
       "\n",
       "    .dataframe tbody tr th {\n",
       "        vertical-align: top;\n",
       "    }\n",
       "\n",
       "    .dataframe thead th {\n",
       "        text-align: right;\n",
       "    }\n",
       "</style>\n",
       "<table border=\"1\" class=\"dataframe\">\n",
       "  <thead>\n",
       "    <tr style=\"text-align: right;\">\n",
       "      <th></th>\n",
       "      <th>GME</th>\n",
       "      <th>2124.T</th>\n",
       "      <th>2491.T</th>\n",
       "      <th>2471.T</th>\n",
       "      <th>3046.T</th>\n",
       "      <th>PAT.DE</th>\n",
       "      <th>CROX</th>\n",
       "      <th>AOF.DE</th>\n",
       "      <th>SFQ.DE</th>\n",
       "      <th>DAN</th>\n",
       "      <th>...</th>\n",
       "      <th>KREF</th>\n",
       "      <th>HLN.L</th>\n",
       "      <th>DBX</th>\n",
       "      <th>BNL</th>\n",
       "      <th>CBL</th>\n",
       "      <th>KVUE</th>\n",
       "      <th>PSTL</th>\n",
       "      <th>NTST</th>\n",
       "      <th>BLCO</th>\n",
       "      <th>NBS.L</th>\n",
       "    </tr>\n",
       "  </thead>\n",
       "  <tbody>\n",
       "    <tr>\n",
       "      <th>0</th>\n",
       "      <td>0.000000</td>\n",
       "      <td>-0.160000</td>\n",
       "      <td>-0.110000</td>\n",
       "      <td>0.000000</td>\n",
       "      <td>0.000000</td>\n",
       "      <td>0.000000</td>\n",
       "      <td>0.000000</td>\n",
       "      <td>-0.270000</td>\n",
       "      <td>0.000000</td>\n",
       "      <td>0.000000</td>\n",
       "      <td>...</td>\n",
       "      <td>0.000000</td>\n",
       "      <td>0.000000</td>\n",
       "      <td>0.000000</td>\n",
       "      <td>0.000000</td>\n",
       "      <td>0.000000</td>\n",
       "      <td>0.000000</td>\n",
       "      <td>0.000000</td>\n",
       "      <td>0.000000</td>\n",
       "      <td>0.000000</td>\n",
       "      <td>0.000000</td>\n",
       "    </tr>\n",
       "    <tr>\n",
       "      <th>1</th>\n",
       "      <td>0.000000</td>\n",
       "      <td>-0.500000</td>\n",
       "      <td>-0.200000</td>\n",
       "      <td>-0.470000</td>\n",
       "      <td>-0.060000</td>\n",
       "      <td>-0.360000</td>\n",
       "      <td>-0.140000</td>\n",
       "      <td>0.280000</td>\n",
       "      <td>-0.100000</td>\n",
       "      <td>0.000000</td>\n",
       "      <td>...</td>\n",
       "      <td>0.030000</td>\n",
       "      <td>0.000000</td>\n",
       "      <td>0.010000</td>\n",
       "      <td>0.000000</td>\n",
       "      <td>-0.040000</td>\n",
       "      <td>0.000000</td>\n",
       "      <td>0.000000</td>\n",
       "      <td>0.000000</td>\n",
       "      <td>0.000000</td>\n",
       "      <td>-0.010000</td>\n",
       "    </tr>\n",
       "    <tr>\n",
       "      <th>2</th>\n",
       "      <td>0.030000</td>\n",
       "      <td>0.010000</td>\n",
       "      <td>-0.270000</td>\n",
       "      <td>-0.250000</td>\n",
       "      <td>0.000000</td>\n",
       "      <td>-0.290000</td>\n",
       "      <td>-0.300000</td>\n",
       "      <td>-0.160000</td>\n",
       "      <td>-0.110000</td>\n",
       "      <td>-0.140000</td>\n",
       "      <td>...</td>\n",
       "      <td>0.000000</td>\n",
       "      <td>0.000000</td>\n",
       "      <td>0.000000</td>\n",
       "      <td>-0.050000</td>\n",
       "      <td>0.000000</td>\n",
       "      <td>0.000000</td>\n",
       "      <td>0.000000</td>\n",
       "      <td>-0.030000</td>\n",
       "      <td>0.000000</td>\n",
       "      <td>-0.030000</td>\n",
       "    </tr>\n",
       "    <tr>\n",
       "      <th>3</th>\n",
       "      <td>0.000000</td>\n",
       "      <td>0.000000</td>\n",
       "      <td>0.000000</td>\n",
       "      <td>0.320000</td>\n",
       "      <td>0.000000</td>\n",
       "      <td>0.390000</td>\n",
       "      <td>0.340000</td>\n",
       "      <td>-0.270000</td>\n",
       "      <td>0.000000</td>\n",
       "      <td>0.000000</td>\n",
       "      <td>...</td>\n",
       "      <td>0.000000</td>\n",
       "      <td>0.000000</td>\n",
       "      <td>0.000000</td>\n",
       "      <td>0.000000</td>\n",
       "      <td>0.000000</td>\n",
       "      <td>0.000000</td>\n",
       "      <td>0.000000</td>\n",
       "      <td>0.000000</td>\n",
       "      <td>0.000000</td>\n",
       "      <td>0.000000</td>\n",
       "    </tr>\n",
       "    <tr>\n",
       "      <th>4</th>\n",
       "      <td>0.000000</td>\n",
       "      <td>1.180000</td>\n",
       "      <td>0.540000</td>\n",
       "      <td>0.390000</td>\n",
       "      <td>0.510000</td>\n",
       "      <td>0.280000</td>\n",
       "      <td>0.200000</td>\n",
       "      <td>0.290000</td>\n",
       "      <td>0.120000</td>\n",
       "      <td>0.170000</td>\n",
       "      <td>...</td>\n",
       "      <td>0.000000</td>\n",
       "      <td>0.000000</td>\n",
       "      <td>0.000000</td>\n",
       "      <td>0.000000</td>\n",
       "      <td>0.000000</td>\n",
       "      <td>0.000000</td>\n",
       "      <td>0.000000</td>\n",
       "      <td>0.000000</td>\n",
       "      <td>0.000000</td>\n",
       "      <td>0.000000</td>\n",
       "    </tr>\n",
       "    <tr>\n",
       "      <th>...</th>\n",
       "      <td>...</td>\n",
       "      <td>...</td>\n",
       "      <td>...</td>\n",
       "      <td>...</td>\n",
       "      <td>...</td>\n",
       "      <td>...</td>\n",
       "      <td>...</td>\n",
       "      <td>...</td>\n",
       "      <td>...</td>\n",
       "      <td>...</td>\n",
       "      <td>...</td>\n",
       "      <td>...</td>\n",
       "      <td>...</td>\n",
       "      <td>...</td>\n",
       "      <td>...</td>\n",
       "      <td>...</td>\n",
       "      <td>...</td>\n",
       "      <td>...</td>\n",
       "      <td>...</td>\n",
       "      <td>...</td>\n",
       "      <td>...</td>\n",
       "    </tr>\n",
       "    <tr>\n",
       "      <th>286</th>\n",
       "      <td>0.006337</td>\n",
       "      <td>0.005405</td>\n",
       "      <td>0.010298</td>\n",
       "      <td>0.004332</td>\n",
       "      <td>0.009435</td>\n",
       "      <td>0.004711</td>\n",
       "      <td>0.007867</td>\n",
       "      <td>-0.000260</td>\n",
       "      <td>0.002264</td>\n",
       "      <td>0.004641</td>\n",
       "      <td>...</td>\n",
       "      <td>0.005151</td>\n",
       "      <td>0.019624</td>\n",
       "      <td>0.021398</td>\n",
       "      <td>0.019448</td>\n",
       "      <td>0.000597</td>\n",
       "      <td>-0.022057</td>\n",
       "      <td>0.019595</td>\n",
       "      <td>-0.003749</td>\n",
       "      <td>-0.000872</td>\n",
       "      <td>-0.008799</td>\n",
       "    </tr>\n",
       "    <tr>\n",
       "      <th>287</th>\n",
       "      <td>0.006582</td>\n",
       "      <td>0.002743</td>\n",
       "      <td>0.014411</td>\n",
       "      <td>0.003957</td>\n",
       "      <td>0.008559</td>\n",
       "      <td>0.003957</td>\n",
       "      <td>0.008179</td>\n",
       "      <td>-0.000179</td>\n",
       "      <td>0.006608</td>\n",
       "      <td>0.006038</td>\n",
       "      <td>...</td>\n",
       "      <td>0.007677</td>\n",
       "      <td>0.015654</td>\n",
       "      <td>0.025460</td>\n",
       "      <td>0.014859</td>\n",
       "      <td>0.002750</td>\n",
       "      <td>-0.011967</td>\n",
       "      <td>0.015762</td>\n",
       "      <td>0.001806</td>\n",
       "      <td>0.032114</td>\n",
       "      <td>0.010101</td>\n",
       "    </tr>\n",
       "    <tr>\n",
       "      <th>288</th>\n",
       "      <td>0.007507</td>\n",
       "      <td>0.012975</td>\n",
       "      <td>0.009310</td>\n",
       "      <td>0.011344</td>\n",
       "      <td>0.016755</td>\n",
       "      <td>0.011128</td>\n",
       "      <td>0.009037</td>\n",
       "      <td>0.008492</td>\n",
       "      <td>0.009895</td>\n",
       "      <td>0.011398</td>\n",
       "      <td>...</td>\n",
       "      <td>0.005375</td>\n",
       "      <td>0.014095</td>\n",
       "      <td>0.023157</td>\n",
       "      <td>0.013300</td>\n",
       "      <td>-0.000423</td>\n",
       "      <td>-0.029876</td>\n",
       "      <td>0.015072</td>\n",
       "      <td>0.020880</td>\n",
       "      <td>0.053478</td>\n",
       "      <td>0.012910</td>\n",
       "    </tr>\n",
       "    <tr>\n",
       "      <th>289</th>\n",
       "      <td>-0.003971</td>\n",
       "      <td>0.012311</td>\n",
       "      <td>0.003340</td>\n",
       "      <td>0.012311</td>\n",
       "      <td>0.009057</td>\n",
       "      <td>0.015127</td>\n",
       "      <td>0.007217</td>\n",
       "      <td>0.011970</td>\n",
       "      <td>0.001554</td>\n",
       "      <td>0.015639</td>\n",
       "      <td>...</td>\n",
       "      <td>-0.025632</td>\n",
       "      <td>0.019865</td>\n",
       "      <td>0.013041</td>\n",
       "      <td>0.014202</td>\n",
       "      <td>-0.015869</td>\n",
       "      <td>0.041161</td>\n",
       "      <td>0.011455</td>\n",
       "      <td>0.036667</td>\n",
       "      <td>0.003850</td>\n",
       "      <td>0.031268</td>\n",
       "    </tr>\n",
       "    <tr>\n",
       "      <th>290</th>\n",
       "      <td>-0.008506</td>\n",
       "      <td>0.013591</td>\n",
       "      <td>0.001353</td>\n",
       "      <td>0.011904</td>\n",
       "      <td>0.003850</td>\n",
       "      <td>0.016633</td>\n",
       "      <td>0.002681</td>\n",
       "      <td>0.006724</td>\n",
       "      <td>0.000546</td>\n",
       "      <td>0.018724</td>\n",
       "      <td>...</td>\n",
       "      <td>-0.032134</td>\n",
       "      <td>0.010248</td>\n",
       "      <td>0.010564</td>\n",
       "      <td>-0.010327</td>\n",
       "      <td>-0.018346</td>\n",
       "      <td>-0.017962</td>\n",
       "      <td>-0.001606</td>\n",
       "      <td>-0.019760</td>\n",
       "      <td>0.014416</td>\n",
       "      <td>-0.020862</td>\n",
       "    </tr>\n",
       "  </tbody>\n",
       "</table>\n",
       "<p>291 rows × 1332 columns</p>\n",
       "</div>"
      ]
     },
     "execution_count": 578,
     "metadata": {},
     "output_type": "execute_result"
    }
   ],
   "execution_count": 578
  },
  {
   "metadata": {
    "ExecuteTime": {
     "end_time": "2025-06-15T15:57:20.236547Z",
     "start_time": "2025-06-15T15:57:14.666119Z"
    }
   },
   "cell_type": "code",
   "source": [
    "importlib.reload(mpt_utils)\n",
    "\n",
    "weights_6m, mu_6m, S_6m, weights_all_6m = mpt_utils.portfolio_and_plot(df_to_evaluate_6m, df, plot_threshold=0.015)"
   ],
   "id": "36139d0d6fdb4542",
   "outputs": [
    {
     "name": "stdout",
     "output_type": "stream",
     "text": [
      "Expected annual return: 21.2%\n",
      "Annual volatility: 5.1%\n",
      "Sharpe Ratio: 3.78\n",
      "-- Allocation --\n",
      "{'HAE': 1, 'KBR': 1, 'NL': 11, '6736.T': 2, 'DORM': 1, '8022.T': 1, 'BYG.L': 1, '8972.T': 1, '8012.T': 2, '3659.T': 2, 'TAL': 12, '2692.T': 1, 'CSR': 1, 'DAR': 1, 'MDB': 1, '7483.T': 3, 'BOOT': 1, 'MMSI': 1, 'SMTC': 1, '6055.T': 4, '9107.T': 4, 'OMCL': 1, 'CVNA': 1, 'GROW.L': 1, 'TRU': 1, '7476.T': 2, 'LULU': 1, '2760.T': 2, 'BYW6.DE': 3, '7988.T': 1, '7911.T': 1, '6417.T': 3, '7419.T': 4, 'GFT.DE': 1, '6845.T': 1, '4568.T': 1, 'BOOT.L': 1, 'AY': 1, 'NCC.L': 1, 'ENT.L': 1, '8129.T': 1, 'TW': 1, 'SBS.DE': 1, '9470.T': 6, 'HURN': 1, '8282.T': 3, '9104.T': 1, 'UNP': 1, 'LSL.L': 1, '8173.T': 1, '8283.T': 1, 'ENR.DE': 2, 'LOW': 1, 'EQR': 1, '5991.T': 4, 'GLW': 1, 'TPE.DE': 3, 'TTC': 1, '7718.T': 2, 'MMS': 1, '8150.T': 2, '3132.T': 1, '7613.T': 4, '3738.T': 1, 'ULTP.L': 1, '9790.T': 1, 'ICHR': 2, '3608.T': 4, '7868.T': 12, 'VNA.DE': 1, '6951.T': 1, '4301.T': 3, '6460.T': 1, '6651.T': 1, '9684.T': 1, '2733.T': 1, 'RELL': 2, '7994.T': 2, '9364.T': 1, '8056.T': 1, '9882.T': 1, '8876.T': 1, '2784.T': 1, '8151.T': 3, '9729.T': 2, '9869.T': 1, '7832.T': 1, '2433.T': 3, '6744.T': 2, 'MEI': 2, '6915.T': 1, '7906.T': 1, 'PRO': 1, '8084.T': 1, 'WMG': 1, '4326.T': 2, '7459.T': 1, '9605.T': 1, 'NOEJ.DE': 1, 'AMKR': 1, '4732.T': 2, 'HR': 1, '5101.T': 1, '8014.T': 1, 'KD': 1, '2475.T': 2, '8130.T': 1, 'IRT': 1, '7740.T': 1, 'AOX.DE': 7, '8008.T': 1, '7552.T': 1, '6750.T': 1, '9757.T': 1, 'TTK.DE': 2, 'TRTX': 3, '4369.T': 1, '7936.T': 1, '2767.T': 1, '7915.T': 1, 'PTVE': 2, '4218.T': 1, '3151.T': 2, '7220.T': 1, 'EOAN.DE': 1, 'EFC': 1, '4641.T': 1, '2715.T': 1, 'DAKT': 1, 'HST': 1, '5988.T': 1, '2790.T': 1, '9143.T': 1, 'AHH': 1, '7990.T': 1, '6183.T': 1, '7732.T': 1, '4619.T': 2, '7752.T': 1, '2429.T': 1, '7780.T': 1, '7239.T': 1, '8601.T': 2, '2491.T': 1, 'DHC': 5, '2471.T': 4, '2331.T': 1, 'UAA': 2, '7893.T': 1, '7575.T': 1, '7593.T': 2, '3050.T': 1, '7955.T': 1, '4745.T': 2, '6644.T': 1, '9474.T': 1, '8897.T': 1}\n",
      "-- Weights Percentage --\n",
      "{'NL': 0.0155, 'KBR': 0.0172, 'HAE': 0.0176, 'Other(154)': 0.9496}\n"
     ]
    },
    {
     "name": "stderr",
     "output_type": "stream",
     "text": [
      "/Users/herbishtini/anaconda3/envs/portfolio_optimisation/lib/python3.11/site-packages/pypfopt/discrete_allocation.py:27: FutureWarning:\n",
      "\n",
      "Downcasting object dtype arrays on .fillna, .ffill, .bfill is deprecated and will change in a future version. Call result.infer_objects(copy=False) instead. To opt-in to the future behavior, set `pd.set_option('future.no_silent_downcasting', True)`\n",
      "\n"
     ]
    },
    {
     "data": {
      "application/vnd.plotly.v1+json": {
       "data": [
        {
         "hole": 0.3,
         "insidetextorientation": "radial",
         "labels": [
          "NL",
          "KBR",
          "HAE",
          "Other(154)"
         ],
         "textinfo": "label+percent",
         "textposition": "inside",
         "values": [
          0.0074,
          0.0082,
          0.0084,
          0.4521
         ],
         "type": "pie"
        }
       ],
       "layout": {
        "template": {
         "data": {
          "histogram2dcontour": [
           {
            "type": "histogram2dcontour",
            "colorbar": {
             "outlinewidth": 0,
             "ticks": ""
            },
            "colorscale": [
             [
              0.0,
              "#0d0887"
             ],
             [
              0.1111111111111111,
              "#46039f"
             ],
             [
              0.2222222222222222,
              "#7201a8"
             ],
             [
              0.3333333333333333,
              "#9c179e"
             ],
             [
              0.4444444444444444,
              "#bd3786"
             ],
             [
              0.5555555555555556,
              "#d8576b"
             ],
             [
              0.6666666666666666,
              "#ed7953"
             ],
             [
              0.7777777777777778,
              "#fb9f3a"
             ],
             [
              0.8888888888888888,
              "#fdca26"
             ],
             [
              1.0,
              "#f0f921"
             ]
            ]
           }
          ],
          "choropleth": [
           {
            "type": "choropleth",
            "colorbar": {
             "outlinewidth": 0,
             "ticks": ""
            }
           }
          ],
          "histogram2d": [
           {
            "type": "histogram2d",
            "colorbar": {
             "outlinewidth": 0,
             "ticks": ""
            },
            "colorscale": [
             [
              0.0,
              "#0d0887"
             ],
             [
              0.1111111111111111,
              "#46039f"
             ],
             [
              0.2222222222222222,
              "#7201a8"
             ],
             [
              0.3333333333333333,
              "#9c179e"
             ],
             [
              0.4444444444444444,
              "#bd3786"
             ],
             [
              0.5555555555555556,
              "#d8576b"
             ],
             [
              0.6666666666666666,
              "#ed7953"
             ],
             [
              0.7777777777777778,
              "#fb9f3a"
             ],
             [
              0.8888888888888888,
              "#fdca26"
             ],
             [
              1.0,
              "#f0f921"
             ]
            ]
           }
          ],
          "heatmap": [
           {
            "type": "heatmap",
            "colorbar": {
             "outlinewidth": 0,
             "ticks": ""
            },
            "colorscale": [
             [
              0.0,
              "#0d0887"
             ],
             [
              0.1111111111111111,
              "#46039f"
             ],
             [
              0.2222222222222222,
              "#7201a8"
             ],
             [
              0.3333333333333333,
              "#9c179e"
             ],
             [
              0.4444444444444444,
              "#bd3786"
             ],
             [
              0.5555555555555556,
              "#d8576b"
             ],
             [
              0.6666666666666666,
              "#ed7953"
             ],
             [
              0.7777777777777778,
              "#fb9f3a"
             ],
             [
              0.8888888888888888,
              "#fdca26"
             ],
             [
              1.0,
              "#f0f921"
             ]
            ]
           }
          ],
          "heatmapgl": [
           {
            "type": "heatmapgl",
            "colorbar": {
             "outlinewidth": 0,
             "ticks": ""
            },
            "colorscale": [
             [
              0.0,
              "#0d0887"
             ],
             [
              0.1111111111111111,
              "#46039f"
             ],
             [
              0.2222222222222222,
              "#7201a8"
             ],
             [
              0.3333333333333333,
              "#9c179e"
             ],
             [
              0.4444444444444444,
              "#bd3786"
             ],
             [
              0.5555555555555556,
              "#d8576b"
             ],
             [
              0.6666666666666666,
              "#ed7953"
             ],
             [
              0.7777777777777778,
              "#fb9f3a"
             ],
             [
              0.8888888888888888,
              "#fdca26"
             ],
             [
              1.0,
              "#f0f921"
             ]
            ]
           }
          ],
          "contourcarpet": [
           {
            "type": "contourcarpet",
            "colorbar": {
             "outlinewidth": 0,
             "ticks": ""
            }
           }
          ],
          "contour": [
           {
            "type": "contour",
            "colorbar": {
             "outlinewidth": 0,
             "ticks": ""
            },
            "colorscale": [
             [
              0.0,
              "#0d0887"
             ],
             [
              0.1111111111111111,
              "#46039f"
             ],
             [
              0.2222222222222222,
              "#7201a8"
             ],
             [
              0.3333333333333333,
              "#9c179e"
             ],
             [
              0.4444444444444444,
              "#bd3786"
             ],
             [
              0.5555555555555556,
              "#d8576b"
             ],
             [
              0.6666666666666666,
              "#ed7953"
             ],
             [
              0.7777777777777778,
              "#fb9f3a"
             ],
             [
              0.8888888888888888,
              "#fdca26"
             ],
             [
              1.0,
              "#f0f921"
             ]
            ]
           }
          ],
          "surface": [
           {
            "type": "surface",
            "colorbar": {
             "outlinewidth": 0,
             "ticks": ""
            },
            "colorscale": [
             [
              0.0,
              "#0d0887"
             ],
             [
              0.1111111111111111,
              "#46039f"
             ],
             [
              0.2222222222222222,
              "#7201a8"
             ],
             [
              0.3333333333333333,
              "#9c179e"
             ],
             [
              0.4444444444444444,
              "#bd3786"
             ],
             [
              0.5555555555555556,
              "#d8576b"
             ],
             [
              0.6666666666666666,
              "#ed7953"
             ],
             [
              0.7777777777777778,
              "#fb9f3a"
             ],
             [
              0.8888888888888888,
              "#fdca26"
             ],
             [
              1.0,
              "#f0f921"
             ]
            ]
           }
          ],
          "mesh3d": [
           {
            "type": "mesh3d",
            "colorbar": {
             "outlinewidth": 0,
             "ticks": ""
            }
           }
          ],
          "scatter": [
           {
            "fillpattern": {
             "fillmode": "overlay",
             "size": 10,
             "solidity": 0.2
            },
            "type": "scatter"
           }
          ],
          "parcoords": [
           {
            "type": "parcoords",
            "line": {
             "colorbar": {
              "outlinewidth": 0,
              "ticks": ""
             }
            }
           }
          ],
          "scatterpolargl": [
           {
            "type": "scatterpolargl",
            "marker": {
             "colorbar": {
              "outlinewidth": 0,
              "ticks": ""
             }
            }
           }
          ],
          "bar": [
           {
            "error_x": {
             "color": "#2a3f5f"
            },
            "error_y": {
             "color": "#2a3f5f"
            },
            "marker": {
             "line": {
              "color": "#E5ECF6",
              "width": 0.5
             },
             "pattern": {
              "fillmode": "overlay",
              "size": 10,
              "solidity": 0.2
             }
            },
            "type": "bar"
           }
          ],
          "scattergeo": [
           {
            "type": "scattergeo",
            "marker": {
             "colorbar": {
              "outlinewidth": 0,
              "ticks": ""
             }
            }
           }
          ],
          "scatterpolar": [
           {
            "type": "scatterpolar",
            "marker": {
             "colorbar": {
              "outlinewidth": 0,
              "ticks": ""
             }
            }
           }
          ],
          "histogram": [
           {
            "marker": {
             "pattern": {
              "fillmode": "overlay",
              "size": 10,
              "solidity": 0.2
             }
            },
            "type": "histogram"
           }
          ],
          "scattergl": [
           {
            "type": "scattergl",
            "marker": {
             "colorbar": {
              "outlinewidth": 0,
              "ticks": ""
             }
            }
           }
          ],
          "scatter3d": [
           {
            "type": "scatter3d",
            "line": {
             "colorbar": {
              "outlinewidth": 0,
              "ticks": ""
             }
            },
            "marker": {
             "colorbar": {
              "outlinewidth": 0,
              "ticks": ""
             }
            }
           }
          ],
          "scattermapbox": [
           {
            "type": "scattermapbox",
            "marker": {
             "colorbar": {
              "outlinewidth": 0,
              "ticks": ""
             }
            }
           }
          ],
          "scatterternary": [
           {
            "type": "scatterternary",
            "marker": {
             "colorbar": {
              "outlinewidth": 0,
              "ticks": ""
             }
            }
           }
          ],
          "scattercarpet": [
           {
            "type": "scattercarpet",
            "marker": {
             "colorbar": {
              "outlinewidth": 0,
              "ticks": ""
             }
            }
           }
          ],
          "carpet": [
           {
            "aaxis": {
             "endlinecolor": "#2a3f5f",
             "gridcolor": "white",
             "linecolor": "white",
             "minorgridcolor": "white",
             "startlinecolor": "#2a3f5f"
            },
            "baxis": {
             "endlinecolor": "#2a3f5f",
             "gridcolor": "white",
             "linecolor": "white",
             "minorgridcolor": "white",
             "startlinecolor": "#2a3f5f"
            },
            "type": "carpet"
           }
          ],
          "table": [
           {
            "cells": {
             "fill": {
              "color": "#EBF0F8"
             },
             "line": {
              "color": "white"
             }
            },
            "header": {
             "fill": {
              "color": "#C8D4E3"
             },
             "line": {
              "color": "white"
             }
            },
            "type": "table"
           }
          ],
          "barpolar": [
           {
            "marker": {
             "line": {
              "color": "#E5ECF6",
              "width": 0.5
             },
             "pattern": {
              "fillmode": "overlay",
              "size": 10,
              "solidity": 0.2
             }
            },
            "type": "barpolar"
           }
          ],
          "pie": [
           {
            "automargin": true,
            "type": "pie"
           }
          ]
         },
         "layout": {
          "autotypenumbers": "strict",
          "colorway": [
           "#636efa",
           "#EF553B",
           "#00cc96",
           "#ab63fa",
           "#FFA15A",
           "#19d3f3",
           "#FF6692",
           "#B6E880",
           "#FF97FF",
           "#FECB52"
          ],
          "font": {
           "color": "#2a3f5f"
          },
          "hovermode": "closest",
          "hoverlabel": {
           "align": "left"
          },
          "paper_bgcolor": "white",
          "plot_bgcolor": "#E5ECF6",
          "polar": {
           "bgcolor": "#E5ECF6",
           "angularaxis": {
            "gridcolor": "white",
            "linecolor": "white",
            "ticks": ""
           },
           "radialaxis": {
            "gridcolor": "white",
            "linecolor": "white",
            "ticks": ""
           }
          },
          "ternary": {
           "bgcolor": "#E5ECF6",
           "aaxis": {
            "gridcolor": "white",
            "linecolor": "white",
            "ticks": ""
           },
           "baxis": {
            "gridcolor": "white",
            "linecolor": "white",
            "ticks": ""
           },
           "caxis": {
            "gridcolor": "white",
            "linecolor": "white",
            "ticks": ""
           }
          },
          "coloraxis": {
           "colorbar": {
            "outlinewidth": 0,
            "ticks": ""
           }
          },
          "colorscale": {
           "sequential": [
            [
             0.0,
             "#0d0887"
            ],
            [
             0.1111111111111111,
             "#46039f"
            ],
            [
             0.2222222222222222,
             "#7201a8"
            ],
            [
             0.3333333333333333,
             "#9c179e"
            ],
            [
             0.4444444444444444,
             "#bd3786"
            ],
            [
             0.5555555555555556,
             "#d8576b"
            ],
            [
             0.6666666666666666,
             "#ed7953"
            ],
            [
             0.7777777777777778,
             "#fb9f3a"
            ],
            [
             0.8888888888888888,
             "#fdca26"
            ],
            [
             1.0,
             "#f0f921"
            ]
           ],
           "sequentialminus": [
            [
             0.0,
             "#0d0887"
            ],
            [
             0.1111111111111111,
             "#46039f"
            ],
            [
             0.2222222222222222,
             "#7201a8"
            ],
            [
             0.3333333333333333,
             "#9c179e"
            ],
            [
             0.4444444444444444,
             "#bd3786"
            ],
            [
             0.5555555555555556,
             "#d8576b"
            ],
            [
             0.6666666666666666,
             "#ed7953"
            ],
            [
             0.7777777777777778,
             "#fb9f3a"
            ],
            [
             0.8888888888888888,
             "#fdca26"
            ],
            [
             1.0,
             "#f0f921"
            ]
           ],
           "diverging": [
            [
             0,
             "#8e0152"
            ],
            [
             0.1,
             "#c51b7d"
            ],
            [
             0.2,
             "#de77ae"
            ],
            [
             0.3,
             "#f1b6da"
            ],
            [
             0.4,
             "#fde0ef"
            ],
            [
             0.5,
             "#f7f7f7"
            ],
            [
             0.6,
             "#e6f5d0"
            ],
            [
             0.7,
             "#b8e186"
            ],
            [
             0.8,
             "#7fbc41"
            ],
            [
             0.9,
             "#4d9221"
            ],
            [
             1,
             "#276419"
            ]
           ]
          },
          "xaxis": {
           "gridcolor": "white",
           "linecolor": "white",
           "ticks": "",
           "title": {
            "standoff": 15
           },
           "zerolinecolor": "white",
           "automargin": true,
           "zerolinewidth": 2
          },
          "yaxis": {
           "gridcolor": "white",
           "linecolor": "white",
           "ticks": "",
           "title": {
            "standoff": 15
           },
           "zerolinecolor": "white",
           "automargin": true,
           "zerolinewidth": 2
          },
          "scene": {
           "xaxis": {
            "backgroundcolor": "#E5ECF6",
            "gridcolor": "white",
            "linecolor": "white",
            "showbackground": true,
            "ticks": "",
            "zerolinecolor": "white",
            "gridwidth": 2
           },
           "yaxis": {
            "backgroundcolor": "#E5ECF6",
            "gridcolor": "white",
            "linecolor": "white",
            "showbackground": true,
            "ticks": "",
            "zerolinecolor": "white",
            "gridwidth": 2
           },
           "zaxis": {
            "backgroundcolor": "#E5ECF6",
            "gridcolor": "white",
            "linecolor": "white",
            "showbackground": true,
            "ticks": "",
            "zerolinecolor": "white",
            "gridwidth": 2
           }
          },
          "shapedefaults": {
           "line": {
            "color": "#2a3f5f"
           }
          },
          "annotationdefaults": {
           "arrowcolor": "#2a3f5f",
           "arrowhead": 0,
           "arrowwidth": 1
          },
          "geo": {
           "bgcolor": "white",
           "landcolor": "#E5ECF6",
           "subunitcolor": "white",
           "showland": true,
           "showlakes": true,
           "lakecolor": "white"
          },
          "title": {
           "x": 0.05
          },
          "mapbox": {
           "style": "light"
          }
         }
        },
        "margin": {
         "l": 20,
         "r": 20,
         "t": 20,
         "b": 20
        },
        "font": {
         "color": "black"
        },
        "height": 600,
        "width": 600,
        "paper_bgcolor": "white",
        "plot_bgcolor": "white",
        "showlegend": false
       },
       "config": {
        "plotlyServerURL": "https://plot.ly"
       }
      },
      "text/html": [
       "<div>                            <div id=\"410c1072-d387-4ef5-a27f-e30fc8b6ed65\" class=\"plotly-graph-div\" style=\"height:600px; width:600px;\"></div>            <script type=\"text/javascript\">                require([\"plotly\"], function(Plotly) {                    window.PLOTLYENV=window.PLOTLYENV || {};                                    if (document.getElementById(\"410c1072-d387-4ef5-a27f-e30fc8b6ed65\")) {                    Plotly.newPlot(                        \"410c1072-d387-4ef5-a27f-e30fc8b6ed65\",                        [{\"hole\":0.3,\"insidetextorientation\":\"radial\",\"labels\":[\"NL\",\"KBR\",\"HAE\",\"Other(154)\"],\"textinfo\":\"label+percent\",\"textposition\":\"inside\",\"values\":[0.0074,0.0082,0.0084,0.4521],\"type\":\"pie\"}],                        {\"template\":{\"data\":{\"histogram2dcontour\":[{\"type\":\"histogram2dcontour\",\"colorbar\":{\"outlinewidth\":0,\"ticks\":\"\"},\"colorscale\":[[0.0,\"#0d0887\"],[0.1111111111111111,\"#46039f\"],[0.2222222222222222,\"#7201a8\"],[0.3333333333333333,\"#9c179e\"],[0.4444444444444444,\"#bd3786\"],[0.5555555555555556,\"#d8576b\"],[0.6666666666666666,\"#ed7953\"],[0.7777777777777778,\"#fb9f3a\"],[0.8888888888888888,\"#fdca26\"],[1.0,\"#f0f921\"]]}],\"choropleth\":[{\"type\":\"choropleth\",\"colorbar\":{\"outlinewidth\":0,\"ticks\":\"\"}}],\"histogram2d\":[{\"type\":\"histogram2d\",\"colorbar\":{\"outlinewidth\":0,\"ticks\":\"\"},\"colorscale\":[[0.0,\"#0d0887\"],[0.1111111111111111,\"#46039f\"],[0.2222222222222222,\"#7201a8\"],[0.3333333333333333,\"#9c179e\"],[0.4444444444444444,\"#bd3786\"],[0.5555555555555556,\"#d8576b\"],[0.6666666666666666,\"#ed7953\"],[0.7777777777777778,\"#fb9f3a\"],[0.8888888888888888,\"#fdca26\"],[1.0,\"#f0f921\"]]}],\"heatmap\":[{\"type\":\"heatmap\",\"colorbar\":{\"outlinewidth\":0,\"ticks\":\"\"},\"colorscale\":[[0.0,\"#0d0887\"],[0.1111111111111111,\"#46039f\"],[0.2222222222222222,\"#7201a8\"],[0.3333333333333333,\"#9c179e\"],[0.4444444444444444,\"#bd3786\"],[0.5555555555555556,\"#d8576b\"],[0.6666666666666666,\"#ed7953\"],[0.7777777777777778,\"#fb9f3a\"],[0.8888888888888888,\"#fdca26\"],[1.0,\"#f0f921\"]]}],\"heatmapgl\":[{\"type\":\"heatmapgl\",\"colorbar\":{\"outlinewidth\":0,\"ticks\":\"\"},\"colorscale\":[[0.0,\"#0d0887\"],[0.1111111111111111,\"#46039f\"],[0.2222222222222222,\"#7201a8\"],[0.3333333333333333,\"#9c179e\"],[0.4444444444444444,\"#bd3786\"],[0.5555555555555556,\"#d8576b\"],[0.6666666666666666,\"#ed7953\"],[0.7777777777777778,\"#fb9f3a\"],[0.8888888888888888,\"#fdca26\"],[1.0,\"#f0f921\"]]}],\"contourcarpet\":[{\"type\":\"contourcarpet\",\"colorbar\":{\"outlinewidth\":0,\"ticks\":\"\"}}],\"contour\":[{\"type\":\"contour\",\"colorbar\":{\"outlinewidth\":0,\"ticks\":\"\"},\"colorscale\":[[0.0,\"#0d0887\"],[0.1111111111111111,\"#46039f\"],[0.2222222222222222,\"#7201a8\"],[0.3333333333333333,\"#9c179e\"],[0.4444444444444444,\"#bd3786\"],[0.5555555555555556,\"#d8576b\"],[0.6666666666666666,\"#ed7953\"],[0.7777777777777778,\"#fb9f3a\"],[0.8888888888888888,\"#fdca26\"],[1.0,\"#f0f921\"]]}],\"surface\":[{\"type\":\"surface\",\"colorbar\":{\"outlinewidth\":0,\"ticks\":\"\"},\"colorscale\":[[0.0,\"#0d0887\"],[0.1111111111111111,\"#46039f\"],[0.2222222222222222,\"#7201a8\"],[0.3333333333333333,\"#9c179e\"],[0.4444444444444444,\"#bd3786\"],[0.5555555555555556,\"#d8576b\"],[0.6666666666666666,\"#ed7953\"],[0.7777777777777778,\"#fb9f3a\"],[0.8888888888888888,\"#fdca26\"],[1.0,\"#f0f921\"]]}],\"mesh3d\":[{\"type\":\"mesh3d\",\"colorbar\":{\"outlinewidth\":0,\"ticks\":\"\"}}],\"scatter\":[{\"fillpattern\":{\"fillmode\":\"overlay\",\"size\":10,\"solidity\":0.2},\"type\":\"scatter\"}],\"parcoords\":[{\"type\":\"parcoords\",\"line\":{\"colorbar\":{\"outlinewidth\":0,\"ticks\":\"\"}}}],\"scatterpolargl\":[{\"type\":\"scatterpolargl\",\"marker\":{\"colorbar\":{\"outlinewidth\":0,\"ticks\":\"\"}}}],\"bar\":[{\"error_x\":{\"color\":\"#2a3f5f\"},\"error_y\":{\"color\":\"#2a3f5f\"},\"marker\":{\"line\":{\"color\":\"#E5ECF6\",\"width\":0.5},\"pattern\":{\"fillmode\":\"overlay\",\"size\":10,\"solidity\":0.2}},\"type\":\"bar\"}],\"scattergeo\":[{\"type\":\"scattergeo\",\"marker\":{\"colorbar\":{\"outlinewidth\":0,\"ticks\":\"\"}}}],\"scatterpolar\":[{\"type\":\"scatterpolar\",\"marker\":{\"colorbar\":{\"outlinewidth\":0,\"ticks\":\"\"}}}],\"histogram\":[{\"marker\":{\"pattern\":{\"fillmode\":\"overlay\",\"size\":10,\"solidity\":0.2}},\"type\":\"histogram\"}],\"scattergl\":[{\"type\":\"scattergl\",\"marker\":{\"colorbar\":{\"outlinewidth\":0,\"ticks\":\"\"}}}],\"scatter3d\":[{\"type\":\"scatter3d\",\"line\":{\"colorbar\":{\"outlinewidth\":0,\"ticks\":\"\"}},\"marker\":{\"colorbar\":{\"outlinewidth\":0,\"ticks\":\"\"}}}],\"scattermapbox\":[{\"type\":\"scattermapbox\",\"marker\":{\"colorbar\":{\"outlinewidth\":0,\"ticks\":\"\"}}}],\"scatterternary\":[{\"type\":\"scatterternary\",\"marker\":{\"colorbar\":{\"outlinewidth\":0,\"ticks\":\"\"}}}],\"scattercarpet\":[{\"type\":\"scattercarpet\",\"marker\":{\"colorbar\":{\"outlinewidth\":0,\"ticks\":\"\"}}}],\"carpet\":[{\"aaxis\":{\"endlinecolor\":\"#2a3f5f\",\"gridcolor\":\"white\",\"linecolor\":\"white\",\"minorgridcolor\":\"white\",\"startlinecolor\":\"#2a3f5f\"},\"baxis\":{\"endlinecolor\":\"#2a3f5f\",\"gridcolor\":\"white\",\"linecolor\":\"white\",\"minorgridcolor\":\"white\",\"startlinecolor\":\"#2a3f5f\"},\"type\":\"carpet\"}],\"table\":[{\"cells\":{\"fill\":{\"color\":\"#EBF0F8\"},\"line\":{\"color\":\"white\"}},\"header\":{\"fill\":{\"color\":\"#C8D4E3\"},\"line\":{\"color\":\"white\"}},\"type\":\"table\"}],\"barpolar\":[{\"marker\":{\"line\":{\"color\":\"#E5ECF6\",\"width\":0.5},\"pattern\":{\"fillmode\":\"overlay\",\"size\":10,\"solidity\":0.2}},\"type\":\"barpolar\"}],\"pie\":[{\"automargin\":true,\"type\":\"pie\"}]},\"layout\":{\"autotypenumbers\":\"strict\",\"colorway\":[\"#636efa\",\"#EF553B\",\"#00cc96\",\"#ab63fa\",\"#FFA15A\",\"#19d3f3\",\"#FF6692\",\"#B6E880\",\"#FF97FF\",\"#FECB52\"],\"font\":{\"color\":\"#2a3f5f\"},\"hovermode\":\"closest\",\"hoverlabel\":{\"align\":\"left\"},\"paper_bgcolor\":\"white\",\"plot_bgcolor\":\"#E5ECF6\",\"polar\":{\"bgcolor\":\"#E5ECF6\",\"angularaxis\":{\"gridcolor\":\"white\",\"linecolor\":\"white\",\"ticks\":\"\"},\"radialaxis\":{\"gridcolor\":\"white\",\"linecolor\":\"white\",\"ticks\":\"\"}},\"ternary\":{\"bgcolor\":\"#E5ECF6\",\"aaxis\":{\"gridcolor\":\"white\",\"linecolor\":\"white\",\"ticks\":\"\"},\"baxis\":{\"gridcolor\":\"white\",\"linecolor\":\"white\",\"ticks\":\"\"},\"caxis\":{\"gridcolor\":\"white\",\"linecolor\":\"white\",\"ticks\":\"\"}},\"coloraxis\":{\"colorbar\":{\"outlinewidth\":0,\"ticks\":\"\"}},\"colorscale\":{\"sequential\":[[0.0,\"#0d0887\"],[0.1111111111111111,\"#46039f\"],[0.2222222222222222,\"#7201a8\"],[0.3333333333333333,\"#9c179e\"],[0.4444444444444444,\"#bd3786\"],[0.5555555555555556,\"#d8576b\"],[0.6666666666666666,\"#ed7953\"],[0.7777777777777778,\"#fb9f3a\"],[0.8888888888888888,\"#fdca26\"],[1.0,\"#f0f921\"]],\"sequentialminus\":[[0.0,\"#0d0887\"],[0.1111111111111111,\"#46039f\"],[0.2222222222222222,\"#7201a8\"],[0.3333333333333333,\"#9c179e\"],[0.4444444444444444,\"#bd3786\"],[0.5555555555555556,\"#d8576b\"],[0.6666666666666666,\"#ed7953\"],[0.7777777777777778,\"#fb9f3a\"],[0.8888888888888888,\"#fdca26\"],[1.0,\"#f0f921\"]],\"diverging\":[[0,\"#8e0152\"],[0.1,\"#c51b7d\"],[0.2,\"#de77ae\"],[0.3,\"#f1b6da\"],[0.4,\"#fde0ef\"],[0.5,\"#f7f7f7\"],[0.6,\"#e6f5d0\"],[0.7,\"#b8e186\"],[0.8,\"#7fbc41\"],[0.9,\"#4d9221\"],[1,\"#276419\"]]},\"xaxis\":{\"gridcolor\":\"white\",\"linecolor\":\"white\",\"ticks\":\"\",\"title\":{\"standoff\":15},\"zerolinecolor\":\"white\",\"automargin\":true,\"zerolinewidth\":2},\"yaxis\":{\"gridcolor\":\"white\",\"linecolor\":\"white\",\"ticks\":\"\",\"title\":{\"standoff\":15},\"zerolinecolor\":\"white\",\"automargin\":true,\"zerolinewidth\":2},\"scene\":{\"xaxis\":{\"backgroundcolor\":\"#E5ECF6\",\"gridcolor\":\"white\",\"linecolor\":\"white\",\"showbackground\":true,\"ticks\":\"\",\"zerolinecolor\":\"white\",\"gridwidth\":2},\"yaxis\":{\"backgroundcolor\":\"#E5ECF6\",\"gridcolor\":\"white\",\"linecolor\":\"white\",\"showbackground\":true,\"ticks\":\"\",\"zerolinecolor\":\"white\",\"gridwidth\":2},\"zaxis\":{\"backgroundcolor\":\"#E5ECF6\",\"gridcolor\":\"white\",\"linecolor\":\"white\",\"showbackground\":true,\"ticks\":\"\",\"zerolinecolor\":\"white\",\"gridwidth\":2}},\"shapedefaults\":{\"line\":{\"color\":\"#2a3f5f\"}},\"annotationdefaults\":{\"arrowcolor\":\"#2a3f5f\",\"arrowhead\":0,\"arrowwidth\":1},\"geo\":{\"bgcolor\":\"white\",\"landcolor\":\"#E5ECF6\",\"subunitcolor\":\"white\",\"showland\":true,\"showlakes\":true,\"lakecolor\":\"white\"},\"title\":{\"x\":0.05},\"mapbox\":{\"style\":\"light\"}}},\"margin\":{\"l\":20,\"r\":20,\"t\":20,\"b\":20},\"font\":{\"color\":\"black\"},\"height\":600,\"width\":600,\"paper_bgcolor\":\"white\",\"plot_bgcolor\":\"white\",\"showlegend\":false},                        {\"responsive\": true}                    ).then(function(){\n",
       "                            \n",
       "var gd = document.getElementById('410c1072-d387-4ef5-a27f-e30fc8b6ed65');\n",
       "var x = new MutationObserver(function (mutations, observer) {{\n",
       "        var display = window.getComputedStyle(gd).display;\n",
       "        if (!display || display === 'none') {{\n",
       "            console.log([gd, 'removed!']);\n",
       "            Plotly.purge(gd);\n",
       "            observer.disconnect();\n",
       "        }}\n",
       "}});\n",
       "\n",
       "// Listen for the removal of the full notebook cells\n",
       "var notebookContainer = gd.closest('#notebook-container');\n",
       "if (notebookContainer) {{\n",
       "    x.observe(notebookContainer, {childList: true});\n",
       "}}\n",
       "\n",
       "// Listen for the clearing of the current output cell\n",
       "var outputEl = gd.closest('.output');\n",
       "if (outputEl) {{\n",
       "    x.observe(outputEl, {childList: true});\n",
       "}}\n",
       "\n",
       "                        })                };                });            </script>        </div>"
      ]
     },
     "metadata": {},
     "output_type": "display_data"
    }
   ],
   "execution_count": 579
  },
  {
   "metadata": {},
   "cell_type": "markdown",
   "source": "#### Overview table - 6 Months",
   "id": "d80278521d9254c0"
  },
  {
   "metadata": {
    "ExecuteTime": {
     "end_time": "2025-06-15T15:57:20.306605Z",
     "start_time": "2025-06-15T15:57:20.279141Z"
    }
   },
   "cell_type": "code",
   "source": [
    "importlib.reload(mpt_utils)\n",
    "# Create overview\n",
    "mpt_utils.generate_overview_table(weights_all_6m, mu_6m, S_6m, df_pct)"
   ],
   "id": "c1ceb3ca171ad8e2",
   "outputs": [
    {
     "data": {
      "text/plain": [
       "        Share Count  Average Covariance Average Returns Return Last 12 Months  \\\n",
       "HAE               1            0.001282           7.23%                -0.65%   \n",
       "KBR               1           -0.006859          15.37%                18.23%   \n",
       "NL               11           -0.036282         -14.02%               -40.53%   \n",
       "6736.T            2            0.013269         -40.05%                31.39%   \n",
       "DORM              1           -0.014872         -16.84%               -24.26%   \n",
       "...             ...                 ...             ...                   ...   \n",
       "7955.T            1            0.001538          39.16%                18.40%   \n",
       "4745.T            2            0.000513          37.95%                 1.24%   \n",
       "6644.T            1            0.002244          -9.50%                25.05%   \n",
       "9474.T            1            0.018590         -13.89%                 2.30%   \n",
       "8897.T            1            0.005128         -12.83%                12.26%   \n",
       "\n",
       "       Return (Actual) Next 12 Months  \n",
       "HAE                           -18.21%  \n",
       "KBR                             3.81%  \n",
       "NL                             53.47%  \n",
       "6736.T                        296.94%  \n",
       "DORM                           44.44%  \n",
       "...                               ...  \n",
       "7955.T                          1.06%  \n",
       "4745.T                        -14.36%  \n",
       "6644.T                          8.48%  \n",
       "9474.T                         -3.39%  \n",
       "8897.T                         12.31%  \n",
       "\n",
       "[157 rows x 5 columns]"
      ],
      "text/html": [
       "<div>\n",
       "<style scoped>\n",
       "    .dataframe tbody tr th:only-of-type {\n",
       "        vertical-align: middle;\n",
       "    }\n",
       "\n",
       "    .dataframe tbody tr th {\n",
       "        vertical-align: top;\n",
       "    }\n",
       "\n",
       "    .dataframe thead th {\n",
       "        text-align: right;\n",
       "    }\n",
       "</style>\n",
       "<table border=\"1\" class=\"dataframe\">\n",
       "  <thead>\n",
       "    <tr style=\"text-align: right;\">\n",
       "      <th></th>\n",
       "      <th>Share Count</th>\n",
       "      <th>Average Covariance</th>\n",
       "      <th>Average Returns</th>\n",
       "      <th>Return Last 12 Months</th>\n",
       "      <th>Return (Actual) Next 12 Months</th>\n",
       "    </tr>\n",
       "  </thead>\n",
       "  <tbody>\n",
       "    <tr>\n",
       "      <th>HAE</th>\n",
       "      <td>1</td>\n",
       "      <td>0.001282</td>\n",
       "      <td>7.23%</td>\n",
       "      <td>-0.65%</td>\n",
       "      <td>-18.21%</td>\n",
       "    </tr>\n",
       "    <tr>\n",
       "      <th>KBR</th>\n",
       "      <td>1</td>\n",
       "      <td>-0.006859</td>\n",
       "      <td>15.37%</td>\n",
       "      <td>18.23%</td>\n",
       "      <td>3.81%</td>\n",
       "    </tr>\n",
       "    <tr>\n",
       "      <th>NL</th>\n",
       "      <td>11</td>\n",
       "      <td>-0.036282</td>\n",
       "      <td>-14.02%</td>\n",
       "      <td>-40.53%</td>\n",
       "      <td>53.47%</td>\n",
       "    </tr>\n",
       "    <tr>\n",
       "      <th>6736.T</th>\n",
       "      <td>2</td>\n",
       "      <td>0.013269</td>\n",
       "      <td>-40.05%</td>\n",
       "      <td>31.39%</td>\n",
       "      <td>296.94%</td>\n",
       "    </tr>\n",
       "    <tr>\n",
       "      <th>DORM</th>\n",
       "      <td>1</td>\n",
       "      <td>-0.014872</td>\n",
       "      <td>-16.84%</td>\n",
       "      <td>-24.26%</td>\n",
       "      <td>44.44%</td>\n",
       "    </tr>\n",
       "    <tr>\n",
       "      <th>...</th>\n",
       "      <td>...</td>\n",
       "      <td>...</td>\n",
       "      <td>...</td>\n",
       "      <td>...</td>\n",
       "      <td>...</td>\n",
       "    </tr>\n",
       "    <tr>\n",
       "      <th>7955.T</th>\n",
       "      <td>1</td>\n",
       "      <td>0.001538</td>\n",
       "      <td>39.16%</td>\n",
       "      <td>18.40%</td>\n",
       "      <td>1.06%</td>\n",
       "    </tr>\n",
       "    <tr>\n",
       "      <th>4745.T</th>\n",
       "      <td>2</td>\n",
       "      <td>0.000513</td>\n",
       "      <td>37.95%</td>\n",
       "      <td>1.24%</td>\n",
       "      <td>-14.36%</td>\n",
       "    </tr>\n",
       "    <tr>\n",
       "      <th>6644.T</th>\n",
       "      <td>1</td>\n",
       "      <td>0.002244</td>\n",
       "      <td>-9.50%</td>\n",
       "      <td>25.05%</td>\n",
       "      <td>8.48%</td>\n",
       "    </tr>\n",
       "    <tr>\n",
       "      <th>9474.T</th>\n",
       "      <td>1</td>\n",
       "      <td>0.018590</td>\n",
       "      <td>-13.89%</td>\n",
       "      <td>2.30%</td>\n",
       "      <td>-3.39%</td>\n",
       "    </tr>\n",
       "    <tr>\n",
       "      <th>8897.T</th>\n",
       "      <td>1</td>\n",
       "      <td>0.005128</td>\n",
       "      <td>-12.83%</td>\n",
       "      <td>12.26%</td>\n",
       "      <td>12.31%</td>\n",
       "    </tr>\n",
       "  </tbody>\n",
       "</table>\n",
       "<p>157 rows × 5 columns</p>\n",
       "</div>"
      ]
     },
     "execution_count": 580,
     "metadata": {},
     "output_type": "execute_result"
    }
   ],
   "execution_count": 580
  },
  {
   "metadata": {},
   "cell_type": "markdown",
   "source": "## XGBoost Univariate - 12 Months ",
   "id": "d780a819974a3cd7"
  },
  {
   "metadata": {
    "ExecuteTime": {
     "end_time": "2025-06-15T15:57:23.616638Z",
     "start_time": "2025-06-15T15:57:20.323928Z"
    }
   },
   "cell_type": "code",
   "source": [
    "importlib.reload(train_test)\n",
    "importlib.reload(xgboost_utils)\n",
    "#\n",
    "# df_tab_filtered = df_tabular.tail(variables.TRAIN_MONTH_NR*len(df.columns))\n",
    "X_train, y_train, X_test, y_test, min_datestr = train_test.split_train_test_tabular(df_tabular, months=variables.TEST_MONTHS_NR, target_key='m_return_target(t+12)')\n",
    "#\n",
    "model_12m, score_12m = xgboost_utils.get_xgboost_trained_model(X_train, y_train, X_test, y_test)"
   ],
   "id": "a0a40f4b1346a9e4",
   "outputs": [
    {
     "name": "stdout",
     "output_type": "stream",
     "text": [
      "[0]\tvalidation_0-rmse:0.11542\tvalidation_1-rmse:0.08103\n",
      "[1]\tvalidation_0-rmse:0.11537\tvalidation_1-rmse:0.08084\n",
      "[2]\tvalidation_0-rmse:0.11530\tvalidation_1-rmse:0.08084\n",
      "[3]\tvalidation_0-rmse:0.11521\tvalidation_1-rmse:0.08021\n",
      "[4]\tvalidation_0-rmse:0.11515\tvalidation_1-rmse:0.08020\n",
      "[5]\tvalidation_0-rmse:0.11509\tvalidation_1-rmse:0.08021\n",
      "[6]\tvalidation_0-rmse:0.11500\tvalidation_1-rmse:0.08023\n",
      "[7]\tvalidation_0-rmse:0.11493\tvalidation_1-rmse:0.08006\n",
      "[8]\tvalidation_0-rmse:0.11487\tvalidation_1-rmse:0.08001\n",
      "[9]\tvalidation_0-rmse:0.11480\tvalidation_1-rmse:0.07891\n",
      "[10]\tvalidation_0-rmse:0.11475\tvalidation_1-rmse:0.07874\n",
      "[11]\tvalidation_0-rmse:0.11469\tvalidation_1-rmse:0.07715\n",
      "[12]\tvalidation_0-rmse:0.11465\tvalidation_1-rmse:0.07716\n",
      "[13]\tvalidation_0-rmse:0.11460\tvalidation_1-rmse:0.07705\n",
      "[14]\tvalidation_0-rmse:0.11456\tvalidation_1-rmse:0.07687\n",
      "[15]\tvalidation_0-rmse:0.11445\tvalidation_1-rmse:0.07675\n",
      "[16]\tvalidation_0-rmse:0.11438\tvalidation_1-rmse:0.07676\n",
      "[17]\tvalidation_0-rmse:0.11433\tvalidation_1-rmse:0.07676\n",
      "[18]\tvalidation_0-rmse:0.11428\tvalidation_1-rmse:0.07669\n",
      "[19]\tvalidation_0-rmse:0.11424\tvalidation_1-rmse:0.07668\n",
      "[20]\tvalidation_0-rmse:0.11418\tvalidation_1-rmse:0.07655\n",
      "[21]\tvalidation_0-rmse:0.11415\tvalidation_1-rmse:0.07648\n",
      "[22]\tvalidation_0-rmse:0.11410\tvalidation_1-rmse:0.07630\n",
      "[23]\tvalidation_0-rmse:0.11402\tvalidation_1-rmse:0.07611\n",
      "[24]\tvalidation_0-rmse:0.11396\tvalidation_1-rmse:0.07602\n",
      "[25]\tvalidation_0-rmse:0.11389\tvalidation_1-rmse:0.07605\n",
      "[26]\tvalidation_0-rmse:0.11385\tvalidation_1-rmse:0.07591\n",
      "[27]\tvalidation_0-rmse:0.11376\tvalidation_1-rmse:0.07588\n",
      "[28]\tvalidation_0-rmse:0.11371\tvalidation_1-rmse:0.07597\n",
      "[29]\tvalidation_0-rmse:0.11354\tvalidation_1-rmse:0.07596\n",
      "[30]\tvalidation_0-rmse:0.11346\tvalidation_1-rmse:0.07600\n",
      "[31]\tvalidation_0-rmse:0.11334\tvalidation_1-rmse:0.07579\n",
      "[32]\tvalidation_0-rmse:0.11331\tvalidation_1-rmse:0.07568\n",
      "[33]\tvalidation_0-rmse:0.11326\tvalidation_1-rmse:0.07572\n",
      "[34]\tvalidation_0-rmse:0.11320\tvalidation_1-rmse:0.07559\n",
      "[35]\tvalidation_0-rmse:0.11316\tvalidation_1-rmse:0.07558\n",
      "[36]\tvalidation_0-rmse:0.11313\tvalidation_1-rmse:0.07561\n",
      "[37]\tvalidation_0-rmse:0.11305\tvalidation_1-rmse:0.07555\n",
      "[38]\tvalidation_0-rmse:0.11302\tvalidation_1-rmse:0.07556\n",
      "[39]\tvalidation_0-rmse:0.11299\tvalidation_1-rmse:0.07557\n",
      "[40]\tvalidation_0-rmse:0.11297\tvalidation_1-rmse:0.07563\n",
      "[41]\tvalidation_0-rmse:0.11293\tvalidation_1-rmse:0.07564\n",
      "[42]\tvalidation_0-rmse:0.11287\tvalidation_1-rmse:0.07567\n",
      "[43]\tvalidation_0-rmse:0.11284\tvalidation_1-rmse:0.07569\n",
      "[44]\tvalidation_0-rmse:0.11280\tvalidation_1-rmse:0.07577\n",
      "[45]\tvalidation_0-rmse:0.11277\tvalidation_1-rmse:0.07577\n",
      "[46]\tvalidation_0-rmse:0.11275\tvalidation_1-rmse:0.07578\n",
      "[47]\tvalidation_0-rmse:0.11271\tvalidation_1-rmse:0.07573\n",
      "[48]\tvalidation_0-rmse:0.11267\tvalidation_1-rmse:0.07577\n",
      "[49]\tvalidation_0-rmse:0.11261\tvalidation_1-rmse:0.07584\n",
      "[50]\tvalidation_0-rmse:0.11259\tvalidation_1-rmse:0.07576\n",
      "[51]\tvalidation_0-rmse:0.11256\tvalidation_1-rmse:0.07577\n",
      "[52]\tvalidation_0-rmse:0.11254\tvalidation_1-rmse:0.07576\n",
      "[53]\tvalidation_0-rmse:0.11251\tvalidation_1-rmse:0.07582\n",
      "[54]\tvalidation_0-rmse:0.11249\tvalidation_1-rmse:0.07583\n",
      "[55]\tvalidation_0-rmse:0.11247\tvalidation_1-rmse:0.07581\n",
      "[56]\tvalidation_0-rmse:0.11245\tvalidation_1-rmse:0.07584\n",
      "[57]\tvalidation_0-rmse:0.11242\tvalidation_1-rmse:0.07588\n",
      "[58]\tvalidation_0-rmse:0.11240\tvalidation_1-rmse:0.07574\n",
      "[59]\tvalidation_0-rmse:0.11237\tvalidation_1-rmse:0.07574\n",
      "[60]\tvalidation_0-rmse:0.11234\tvalidation_1-rmse:0.07559\n",
      "[61]\tvalidation_0-rmse:0.11229\tvalidation_1-rmse:0.07562\n",
      "[62]\tvalidation_0-rmse:0.11227\tvalidation_1-rmse:0.07550\n",
      "[63]\tvalidation_0-rmse:0.11221\tvalidation_1-rmse:0.07547\n",
      "[64]\tvalidation_0-rmse:0.11206\tvalidation_1-rmse:0.07556\n",
      "[65]\tvalidation_0-rmse:0.11205\tvalidation_1-rmse:0.07559\n",
      "[66]\tvalidation_0-rmse:0.11201\tvalidation_1-rmse:0.07559\n",
      "[67]\tvalidation_0-rmse:0.11198\tvalidation_1-rmse:0.07552\n",
      "[68]\tvalidation_0-rmse:0.11196\tvalidation_1-rmse:0.07547\n",
      "[69]\tvalidation_0-rmse:0.11193\tvalidation_1-rmse:0.07551\n",
      "[70]\tvalidation_0-rmse:0.11190\tvalidation_1-rmse:0.07551\n",
      "[71]\tvalidation_0-rmse:0.11181\tvalidation_1-rmse:0.07545\n",
      "[72]\tvalidation_0-rmse:0.11179\tvalidation_1-rmse:0.07543\n",
      "[73]\tvalidation_0-rmse:0.11176\tvalidation_1-rmse:0.07545\n",
      "[74]\tvalidation_0-rmse:0.11175\tvalidation_1-rmse:0.07542\n",
      "[75]\tvalidation_0-rmse:0.11174\tvalidation_1-rmse:0.07547\n",
      "[76]\tvalidation_0-rmse:0.11161\tvalidation_1-rmse:0.07551\n",
      "[77]\tvalidation_0-rmse:0.11158\tvalidation_1-rmse:0.07549\n",
      "[78]\tvalidation_0-rmse:0.11157\tvalidation_1-rmse:0.07547\n",
      "[79]\tvalidation_0-rmse:0.11156\tvalidation_1-rmse:0.07549\n",
      "[80]\tvalidation_0-rmse:0.11154\tvalidation_1-rmse:0.07553\n",
      "[81]\tvalidation_0-rmse:0.11152\tvalidation_1-rmse:0.07553\n",
      "[82]\tvalidation_0-rmse:0.11150\tvalidation_1-rmse:0.07555\n",
      "[83]\tvalidation_0-rmse:0.11149\tvalidation_1-rmse:0.07555\n",
      "[84]\tvalidation_0-rmse:0.11143\tvalidation_1-rmse:0.07561\n",
      "[85]\tvalidation_0-rmse:0.11140\tvalidation_1-rmse:0.07557\n",
      "[86]\tvalidation_0-rmse:0.11133\tvalidation_1-rmse:0.07562\n",
      "[87]\tvalidation_0-rmse:0.11131\tvalidation_1-rmse:0.07564\n",
      "[88]\tvalidation_0-rmse:0.11129\tvalidation_1-rmse:0.07564\n",
      "[89]\tvalidation_0-rmse:0.11126\tvalidation_1-rmse:0.07559\n",
      "[90]\tvalidation_0-rmse:0.11124\tvalidation_1-rmse:0.07559\n",
      "[91]\tvalidation_0-rmse:0.11123\tvalidation_1-rmse:0.07567\n",
      "[92]\tvalidation_0-rmse:0.11121\tvalidation_1-rmse:0.07565\n",
      "[93]\tvalidation_0-rmse:0.11120\tvalidation_1-rmse:0.07575\n",
      "[94]\tvalidation_0-rmse:0.11109\tvalidation_1-rmse:0.07573\n",
      "[95]\tvalidation_0-rmse:0.11103\tvalidation_1-rmse:0.07578\n",
      "[96]\tvalidation_0-rmse:0.11101\tvalidation_1-rmse:0.07580\n",
      "[97]\tvalidation_0-rmse:0.11100\tvalidation_1-rmse:0.07597\n",
      "[98]\tvalidation_0-rmse:0.11099\tvalidation_1-rmse:0.07600\n",
      "[99]\tvalidation_0-rmse:0.11098\tvalidation_1-rmse:0.07595\n",
      "[100]\tvalidation_0-rmse:0.11092\tvalidation_1-rmse:0.07589\n",
      "[101]\tvalidation_0-rmse:0.11091\tvalidation_1-rmse:0.07592\n",
      "[102]\tvalidation_0-rmse:0.11078\tvalidation_1-rmse:0.07594\n",
      "[103]\tvalidation_0-rmse:0.11075\tvalidation_1-rmse:0.07595\n",
      "[104]\tvalidation_0-rmse:0.11071\tvalidation_1-rmse:0.07598\n",
      "[105]\tvalidation_0-rmse:0.11069\tvalidation_1-rmse:0.07548\n",
      "[106]\tvalidation_0-rmse:0.11067\tvalidation_1-rmse:0.07548\n",
      "[107]\tvalidation_0-rmse:0.11066\tvalidation_1-rmse:0.07547\n",
      "[108]\tvalidation_0-rmse:0.11064\tvalidation_1-rmse:0.07545\n",
      "[109]\tvalidation_0-rmse:0.11062\tvalidation_1-rmse:0.07548\n",
      "[110]\tvalidation_0-rmse:0.11061\tvalidation_1-rmse:0.07548\n",
      "[111]\tvalidation_0-rmse:0.11052\tvalidation_1-rmse:0.07551\n",
      "[112]\tvalidation_0-rmse:0.11051\tvalidation_1-rmse:0.07573\n",
      "[113]\tvalidation_0-rmse:0.11040\tvalidation_1-rmse:0.07576\n",
      "[114]\tvalidation_0-rmse:0.11038\tvalidation_1-rmse:0.07573\n",
      "[115]\tvalidation_0-rmse:0.11036\tvalidation_1-rmse:0.07571\n",
      "[116]\tvalidation_0-rmse:0.11027\tvalidation_1-rmse:0.07570\n",
      "[117]\tvalidation_0-rmse:0.11025\tvalidation_1-rmse:0.07530\n",
      "[118]\tvalidation_0-rmse:0.11024\tvalidation_1-rmse:0.07535\n",
      "[119]\tvalidation_0-rmse:0.11019\tvalidation_1-rmse:0.07524\n",
      "[120]\tvalidation_0-rmse:0.11018\tvalidation_1-rmse:0.07526\n",
      "[121]\tvalidation_0-rmse:0.11016\tvalidation_1-rmse:0.07529\n",
      "[122]\tvalidation_0-rmse:0.11006\tvalidation_1-rmse:0.07529\n",
      "[123]\tvalidation_0-rmse:0.11003\tvalidation_1-rmse:0.07530\n",
      "[124]\tvalidation_0-rmse:0.11001\tvalidation_1-rmse:0.07530\n",
      "[125]\tvalidation_0-rmse:0.11000\tvalidation_1-rmse:0.07532\n",
      "[126]\tvalidation_0-rmse:0.10999\tvalidation_1-rmse:0.07534\n",
      "[127]\tvalidation_0-rmse:0.10996\tvalidation_1-rmse:0.07449\n",
      "[128]\tvalidation_0-rmse:0.10994\tvalidation_1-rmse:0.07460\n",
      "[129]\tvalidation_0-rmse:0.10989\tvalidation_1-rmse:0.07457\n",
      "[130]\tvalidation_0-rmse:0.10988\tvalidation_1-rmse:0.07459\n",
      "[131]\tvalidation_0-rmse:0.10986\tvalidation_1-rmse:0.07462\n",
      "[132]\tvalidation_0-rmse:0.10983\tvalidation_1-rmse:0.07464\n",
      "[133]\tvalidation_0-rmse:0.10981\tvalidation_1-rmse:0.07465\n",
      "[134]\tvalidation_0-rmse:0.10972\tvalidation_1-rmse:0.07452\n",
      "[135]\tvalidation_0-rmse:0.10970\tvalidation_1-rmse:0.07455\n",
      "[136]\tvalidation_0-rmse:0.10966\tvalidation_1-rmse:0.07453\n",
      "[137]\tvalidation_0-rmse:0.10966\tvalidation_1-rmse:0.07452\n",
      "[138]\tvalidation_0-rmse:0.10965\tvalidation_1-rmse:0.07452\n",
      "[139]\tvalidation_0-rmse:0.10963\tvalidation_1-rmse:0.07437\n",
      "[140]\tvalidation_0-rmse:0.10962\tvalidation_1-rmse:0.07444\n",
      "[141]\tvalidation_0-rmse:0.10960\tvalidation_1-rmse:0.07445\n",
      "[142]\tvalidation_0-rmse:0.10958\tvalidation_1-rmse:0.07445\n",
      "[143]\tvalidation_0-rmse:0.10957\tvalidation_1-rmse:0.07442\n",
      "[144]\tvalidation_0-rmse:0.10955\tvalidation_1-rmse:0.07449\n",
      "[145]\tvalidation_0-rmse:0.10947\tvalidation_1-rmse:0.07439\n",
      "[146]\tvalidation_0-rmse:0.10946\tvalidation_1-rmse:0.07448\n",
      "[147]\tvalidation_0-rmse:0.10945\tvalidation_1-rmse:0.07459\n",
      "[148]\tvalidation_0-rmse:0.10943\tvalidation_1-rmse:0.07457\n",
      "[149]\tvalidation_0-rmse:0.10942\tvalidation_1-rmse:0.07456\n",
      "[150]\tvalidation_0-rmse:0.10939\tvalidation_1-rmse:0.07451\n",
      "[151]\tvalidation_0-rmse:0.10938\tvalidation_1-rmse:0.07453\n",
      "[152]\tvalidation_0-rmse:0.10936\tvalidation_1-rmse:0.07453\n",
      "[153]\tvalidation_0-rmse:0.10928\tvalidation_1-rmse:0.07460\n",
      "[154]\tvalidation_0-rmse:0.10928\tvalidation_1-rmse:0.07459\n",
      "[155]\tvalidation_0-rmse:0.10926\tvalidation_1-rmse:0.07460\n",
      "[156]\tvalidation_0-rmse:0.10923\tvalidation_1-rmse:0.07448\n",
      "[157]\tvalidation_0-rmse:0.10921\tvalidation_1-rmse:0.07446\n",
      "[158]\tvalidation_0-rmse:0.10920\tvalidation_1-rmse:0.07437\n",
      "[159]\tvalidation_0-rmse:0.10917\tvalidation_1-rmse:0.07436\n",
      "[160]\tvalidation_0-rmse:0.10916\tvalidation_1-rmse:0.07435\n",
      "[161]\tvalidation_0-rmse:0.10908\tvalidation_1-rmse:0.07436\n",
      "[162]\tvalidation_0-rmse:0.10907\tvalidation_1-rmse:0.07429\n",
      "[163]\tvalidation_0-rmse:0.10906\tvalidation_1-rmse:0.07430\n",
      "[164]\tvalidation_0-rmse:0.10905\tvalidation_1-rmse:0.07429\n",
      "[165]\tvalidation_0-rmse:0.10905\tvalidation_1-rmse:0.07428\n",
      "[166]\tvalidation_0-rmse:0.10904\tvalidation_1-rmse:0.07429\n",
      "[167]\tvalidation_0-rmse:0.10903\tvalidation_1-rmse:0.07422\n",
      "[168]\tvalidation_0-rmse:0.10901\tvalidation_1-rmse:0.07425\n",
      "[169]\tvalidation_0-rmse:0.10897\tvalidation_1-rmse:0.07423\n",
      "[170]\tvalidation_0-rmse:0.10889\tvalidation_1-rmse:0.07423\n",
      "[171]\tvalidation_0-rmse:0.10882\tvalidation_1-rmse:0.07421\n",
      "[172]\tvalidation_0-rmse:0.10881\tvalidation_1-rmse:0.07422\n",
      "[173]\tvalidation_0-rmse:0.10880\tvalidation_1-rmse:0.07424\n",
      "[174]\tvalidation_0-rmse:0.10878\tvalidation_1-rmse:0.07422\n",
      "[175]\tvalidation_0-rmse:0.10877\tvalidation_1-rmse:0.07422\n",
      "[176]\tvalidation_0-rmse:0.10873\tvalidation_1-rmse:0.07427\n",
      "[177]\tvalidation_0-rmse:0.10871\tvalidation_1-rmse:0.07431\n",
      "[178]\tvalidation_0-rmse:0.10866\tvalidation_1-rmse:0.07435\n",
      "[179]\tvalidation_0-rmse:0.10865\tvalidation_1-rmse:0.07507\n",
      "[180]\tvalidation_0-rmse:0.10863\tvalidation_1-rmse:0.07505\n",
      "[181]\tvalidation_0-rmse:0.10862\tvalidation_1-rmse:0.07506\n",
      "[182]\tvalidation_0-rmse:0.10859\tvalidation_1-rmse:0.07504\n",
      "[183]\tvalidation_0-rmse:0.10857\tvalidation_1-rmse:0.07495\n",
      "[184]\tvalidation_0-rmse:0.10853\tvalidation_1-rmse:0.07501\n",
      "[185]\tvalidation_0-rmse:0.10852\tvalidation_1-rmse:0.07502\n",
      "[186]\tvalidation_0-rmse:0.10845\tvalidation_1-rmse:0.07491\n",
      "[187]\tvalidation_0-rmse:0.10845\tvalidation_1-rmse:0.07490\n",
      "[188]\tvalidation_0-rmse:0.10843\tvalidation_1-rmse:0.07490\n",
      "[189]\tvalidation_0-rmse:0.10837\tvalidation_1-rmse:0.07479\n",
      "[190]\tvalidation_0-rmse:0.10836\tvalidation_1-rmse:0.07480\n",
      "[191]\tvalidation_0-rmse:0.10835\tvalidation_1-rmse:0.07480\n",
      "[192]\tvalidation_0-rmse:0.10829\tvalidation_1-rmse:0.07469\n",
      "[193]\tvalidation_0-rmse:0.10828\tvalidation_1-rmse:0.07468\n",
      "[194]\tvalidation_0-rmse:0.10827\tvalidation_1-rmse:0.07461\n",
      "[195]\tvalidation_0-rmse:0.10826\tvalidation_1-rmse:0.07467\n",
      "[196]\tvalidation_0-rmse:0.10824\tvalidation_1-rmse:0.07467\n",
      "[197]\tvalidation_0-rmse:0.10823\tvalidation_1-rmse:0.07472\n",
      "[198]\tvalidation_0-rmse:0.10822\tvalidation_1-rmse:0.07474\n",
      "[199]\tvalidation_0-rmse:0.10815\tvalidation_1-rmse:0.07470\n",
      "Mean MAE: 0.084 (0.011)\n"
     ]
    }
   ],
   "execution_count": 581
  },
  {
   "metadata": {
    "ExecuteTime": {
     "end_time": "2025-06-15T15:57:23.735909Z",
     "start_time": "2025-06-15T15:57:23.618562Z"
    }
   },
   "cell_type": "code",
   "source": [
    "months_12m = 12\n",
    "X_train_12m, y_train_12m, X_test_12m, y_test_12m, min_datestr = train_test.split_train_test_tabular(df_tabular, months=months_12m,\n",
    "                                                                                                    target_key='m_return_target(t+12)')"
   ],
   "id": "e0761b0302e87c93",
   "outputs": [],
   "execution_count": 582
  },
  {
   "metadata": {
    "ExecuteTime": {
     "end_time": "2025-06-15T15:57:23.886315Z",
     "start_time": "2025-06-15T15:57:23.738665Z"
    }
   },
   "cell_type": "code",
   "source": [
    "dt = datetime.strptime(min_datestr, '%Y-%m-%d')\n",
    "\n",
    "# get all training months without the last 12 months\n",
    "X_train_input_12m = X_train_12m.head(len(X_train_12m) - len(df_pct.columns)*months_12m)\n",
    "# Get last 6 months of the training dataset and use as input to predict the next 12 months\n",
    "X_test_input_12m = X_train_12m.tail(len(df_pct.columns)*months_12m)\n",
    "\n",
    "# Trained \n",
    "y_train_pred_12m = model_12m.predict(X_train_input_12m)\n",
    "# Predictions\n",
    "y_test_pred_12m = model_6m.predict(X_test_input_12m)"
   ],
   "id": "7a78ee9acb0beda2",
   "outputs": [],
   "execution_count": 583
  },
  {
   "metadata": {},
   "cell_type": "markdown",
   "source": "### 12 Months Actual vs Prediction",
   "id": "6c2e81220c2489a"
  },
  {
   "metadata": {
    "ExecuteTime": {
     "end_time": "2025-06-15T15:57:23.939555Z",
     "start_time": "2025-06-15T15:57:23.895477Z"
    }
   },
   "cell_type": "code",
   "source": [
    "importlib.reload(mpt_utils)\n",
    "#\n",
    "y_train_mean_pred_12m, y_test_mean_pred_12m = mpt_utils.get_train_test_mean_pred(y_train_pred_12m, y_test_pred_12m, len(df_pct.columns))\n",
    "#\n",
    "plots.generate_timeseries_plot(df_pct, df_tabular, y_train_mean_pred_12m, y_test_mean_pred_12m)"
   ],
   "id": "fae7b2daecff5839",
   "outputs": [
    {
     "name": "stdout",
     "output_type": "stream",
     "text": [
      "262.0\n"
     ]
    },
    {
     "data": {
      "application/vnd.plotly.v1+json": {
       "data": [
        {
         "line": {
          "color": "#5c839f",
          "width": 2
         },
         "mode": "lines",
         "name": "Actual returns",
         "x": [
          "2001-11-01",
          "2001-12-01",
          "2002-01-01",
          "2002-02-01",
          "2002-03-01",
          "2002-04-01",
          "2002-05-01",
          "2002-06-01",
          "2002-07-01",
          "2002-08-01",
          "2002-09-01",
          "2002-10-01",
          "2002-11-01",
          "2002-12-01",
          "2003-01-01",
          "2003-02-01",
          "2003-03-01",
          "2003-04-01",
          "2003-05-01",
          "2003-06-01",
          "2003-07-01",
          "2003-08-01",
          "2003-09-01",
          "2003-10-01",
          "2003-11-01",
          "2003-12-01",
          "2004-01-01",
          "2004-02-01",
          "2004-03-01",
          "2004-04-01",
          "2004-05-01",
          "2004-06-01",
          "2004-07-01",
          "2004-08-01",
          "2004-09-01",
          "2004-10-01",
          "2004-11-01",
          "2004-12-01",
          "2005-01-01",
          "2005-02-01",
          "2005-03-01",
          "2005-04-01",
          "2005-05-01",
          "2005-06-01",
          "2005-07-01",
          "2005-08-01",
          "2005-09-01",
          "2005-10-01",
          "2005-11-01",
          "2005-12-01",
          "2006-01-01",
          "2006-02-01",
          "2006-03-01",
          "2006-04-01",
          "2006-05-01",
          "2006-06-01",
          "2006-07-01",
          "2006-08-01",
          "2006-09-01",
          "2006-10-01",
          "2006-11-01",
          "2006-12-01",
          "2007-01-01",
          "2007-02-01",
          "2007-03-01",
          "2007-04-01",
          "2007-05-01",
          "2007-06-01",
          "2007-07-01",
          "2007-08-01",
          "2007-09-01",
          "2007-10-01",
          "2007-11-01",
          "2007-12-01",
          "2008-01-01",
          "2008-02-01",
          "2008-03-01",
          "2008-04-01",
          "2008-05-01",
          "2008-06-01",
          "2008-07-01",
          "2008-08-01",
          "2008-09-01",
          "2008-10-01",
          "2008-11-01",
          "2008-12-01",
          "2009-01-01",
          "2009-02-01",
          "2009-03-01",
          "2009-04-01",
          "2009-05-01",
          "2009-06-01",
          "2009-07-01",
          "2009-08-01",
          "2009-09-01",
          "2009-10-01",
          "2009-11-01",
          "2009-12-01",
          "2010-01-01",
          "2010-02-01",
          "2010-03-01",
          "2010-04-01",
          "2010-05-01",
          "2010-06-01",
          "2010-07-01",
          "2010-08-01",
          "2010-09-01",
          "2010-10-01",
          "2010-11-01",
          "2010-12-01",
          "2011-01-01",
          "2011-02-01",
          "2011-03-01",
          "2011-04-01",
          "2011-05-01",
          "2011-06-01",
          "2011-07-01",
          "2011-08-01",
          "2011-09-01",
          "2011-10-01",
          "2011-11-01",
          "2011-12-01",
          "2012-01-01",
          "2012-02-01",
          "2012-03-01",
          "2012-04-01",
          "2012-05-01",
          "2012-06-01",
          "2012-07-01",
          "2012-08-01",
          "2012-09-01",
          "2012-10-01",
          "2012-11-01",
          "2012-12-01",
          "2013-01-01",
          "2013-02-01",
          "2013-03-01",
          "2013-04-01",
          "2013-05-01",
          "2013-06-01",
          "2013-07-01",
          "2013-08-01",
          "2013-09-01",
          "2013-10-01",
          "2013-11-01",
          "2013-12-01",
          "2014-01-01",
          "2014-02-01",
          "2014-03-01",
          "2014-04-01",
          "2014-05-01",
          "2014-06-01",
          "2014-07-01",
          "2014-08-01",
          "2014-09-01",
          "2014-10-01",
          "2014-11-01",
          "2014-12-01",
          "2015-01-01",
          "2015-02-01",
          "2015-03-01",
          "2015-04-01",
          "2015-05-01",
          "2015-06-01",
          "2015-07-01",
          "2015-08-01",
          "2015-09-01",
          "2015-10-01",
          "2015-11-01",
          "2015-12-01",
          "2016-01-01",
          "2016-02-01",
          "2016-03-01",
          "2016-04-01",
          "2016-05-01",
          "2016-06-01",
          "2016-07-01",
          "2016-08-01",
          "2016-09-01",
          "2016-10-01",
          "2016-11-01",
          "2016-12-01",
          "2017-01-01",
          "2017-02-01",
          "2017-03-01",
          "2017-04-01",
          "2017-05-01",
          "2017-06-01",
          "2017-07-01",
          "2017-08-01",
          "2017-09-01",
          "2017-10-01",
          "2017-11-01",
          "2017-12-01",
          "2018-01-01",
          "2018-02-01",
          "2018-03-01",
          "2018-04-01",
          "2018-05-01",
          "2018-06-01",
          "2018-07-01",
          "2018-08-01",
          "2018-09-01",
          "2018-10-01",
          "2018-11-01",
          "2018-12-01",
          "2019-01-01",
          "2019-02-01",
          "2019-03-01",
          "2019-04-01",
          "2019-05-01",
          "2019-06-01",
          "2019-07-01",
          "2019-08-01",
          "2019-09-01",
          "2019-10-01",
          "2019-11-01",
          "2019-12-01",
          "2020-01-01",
          "2020-02-01",
          "2020-03-01",
          "2020-04-01",
          "2020-05-01",
          "2020-06-01",
          "2020-07-01",
          "2020-08-01",
          "2020-09-01",
          "2020-10-01",
          "2020-11-01",
          "2020-12-01",
          "2021-01-01",
          "2021-02-01",
          "2021-03-01",
          "2021-04-01",
          "2021-05-01",
          "2021-06-01",
          "2021-07-01",
          "2021-08-01",
          "2021-09-01",
          "2021-10-01",
          "2021-11-01",
          "2021-12-01",
          "2022-01-01",
          "2022-02-01",
          "2022-03-01",
          "2022-04-01",
          "2022-05-01",
          "2022-06-01",
          "2022-07-01",
          "2022-08-01",
          "2022-09-01",
          "2022-10-01",
          "2022-11-01",
          "2022-12-01",
          "2023-01-01",
          "2023-02-01",
          "2023-03-01",
          "2023-04-01",
          "2023-05-01",
          "2023-06-01",
          "2023-07-01",
          "2023-08-01",
          "2023-09-01",
          "2023-10-01",
          "2023-11-01",
          "2023-12-01",
          "2024-01-01",
          "2024-02-01",
          "2024-03-01",
          "2024-04-01",
          "2024-05-01",
          "2024-06-01",
          "2024-07-01",
          "2024-08-01"
         ],
         "y": [
          0.02743993993994054,
          0.038025525525524406,
          -0.009414414414414263,
          0.22023273273273247,
          0.031974474474474324,
          -0.00259009009009048,
          -0.020735735735735616,
          0.033678678678677354,
          -0.003978978978978809,
          0.0299774774774777,
          -0.007777777777777883,
          -0.011524024024024082,
          -0.026936936936937994,
          0.01249999999999929,
          0.038400900900901425,
          -0.02846096096096018,
          -0.012762762762762891,
          0.07272522522522085,
          0.015735735735736167,
          0.001644144144144155,
          -0.026996996996994982,
          -0.030915915915913916,
          -0.09028528528528412,
          0.05090840840840727,
          0.0509159159159156,
          0.018573573573573476,
          -0.005405405405404129,
          0.012072072072070394,
          0.05409159159158938,
          0.009024024024022914,
          0.00522522522522495,
          -0.05081831831831807,
          -0.06252252252252144,
          -0.011471471471471095,
          -0.04330330330330234,
          0.010465465465465451,
          0.058453453453451765,
          -0.03432432432432431,
          -0.01071321321321217,
          0.003100600600600245,
          -0.0021696696696679174,
          0.06228978978978872,
          0.07175675675675475,
          0.03475225225225054,
          0.05778528528528293,
          0.06289039039038924,
          0.004909909909908583,
          0.05349099099098753,
          0.004924924924925467,
          0.01909159159158902,
          0.032132132132131064,
          0.01701951951951819,
          0.05260510510510441,
          0.00787537537537375,
          -0.0060810810810809635,
          0.039166666666664574,
          -0.03876126126125934,
          -0.006861861861861107,
          0.005180180180180738,
          0.004489489489490461,
          0.03232732732732635,
          0.05847597597597187,
          0.008250750750750768,
          0.024947447447445814,
          -0.0037087087087082082,
          -0.022267267267264912,
          0.03677177177176838,
          0.024557057057054577,
          0.040442942942939375,
          -6.981981981986074E-4,
          0.01872372372372233,
          0.07061561561561569,
          0.05157657657657366,
          0.02451201201201103,
          0.04399399399399351,
          0.0172822822822829,
          0.028603603603601258,
          0.0011486486486493863,
          -0.03011261261261,
          -0.0018618618618618799,
          -0.01278528528528522,
          0.028018018018014734,
          0.014181681681680214,
          0.024466966966965265,
          0.027897897897896762,
          0.030930930930927136,
          0.03999999999999804,
          0.0035285285285273638,
          0.0018993993994007585,
          0.021418918918917118,
          0.02924174174173988,
          -0.01469969969969842,
          -0.03518768768768399,
          -0.010007507507506563,
          0.0024024024024018598,
          0.019632132132131774,
          -0.05572822822822687,
          -0.009954954954954243,
          -0.06066066066065812,
          -0.010435435435435347,
          -0.014969969969969021,
          0.03434684684684575,
          0.027875375375374656,
          -0.07102852852852792,
          -0.0025300300300311607,
          0.01765015015014937,
          -0.07436936936936767,
          -0.16220720720720616,
          -0.05918918918918892,
          0.04562312312312233,
          -0.056186186186185094,
          -0.06329579579579647,
          0.07671171171171154,
          0.15475225225225198,
          0.04527027027027031,
          0.03893393393393363,
          0.07099849849849749,
          0.05655405405405389,
          0.03070570570570519,
          -0.021951951951950766,
          0.0010360360360355259,
          0.05536036036035763,
          -0.013551051051049257,
          0.020743243243242837,
          0.06338588588588245,
          0.04948948948948795,
          -0.05758258258257942,
          -0.040217717717715096,
          0.040165165165163996,
          -0.03746996996996865,
          0.07373123123122904,
          0.0181606606606608,
          0.029774774774774082,
          0.06351351351350831,
          0.01366366366366445,
          0.03365615615615347,
          -0.01171171171171026,
          0.02272522522522369,
          -0.0021996996996992424,
          -4.279279279268966E-4,
          -0.018408408408405852,
          -0.05390390390390232,
          -0.049354354354354535,
          0.07704954954954912,
          -0.014466966966965367,
          0.005720720720719719,
          0.056246246246242304,
          0.04385885885885599,
          0.03139639639639191,
          -0.005975975975974102,
          -0.05990990990990752,
          0.033543543543540055,
          -0.0019219219219228645,
          0.021854354354353456,
          0.016599099099097403,
          0.002957957957956614,
          0.017342342342340444,
          0.032770270270266355,
          0.06512762762762248,
          0.025345345345343828,
          0.04521021021020588,
          0.03481231231231119,
          0.018280780780780104,
          -0.009894894894894812,
          0.03924924924924866,
          -0.009249249249246638,
          0.05455705705705238,
          0.028130630630627262,
          0.02668168168168039,
          0.022522522522519184,
          -0.013288288288286432,
          0.030075075075072455,
          0.0034009009009017266,
          -0.014481981981981806,
          0.020037537537534345,
          0.03023273273272986,
          -0.013093093093094033,
          0.02825825825825312,
          -0.01791291291291064,
          0.03218468468468272,
          0.04343843843843276,
          0.015833333333329813,
          0.002282282282282333,
          0.04680930930930782,
          0.012477477477475851,
          2.1771771771783577E-4,
          0.0293018018017992,
          -0.007530030030026724,
          0.015135135135132538,
          -0.04286786786786334,
          -0.025360360360358603,
          0.058055555555554195,
          0.02036786786786493,
          -0.020202702702699193,
          -0.05234234234234081,
          -0.003768768768769082,
          0.06146396396395826,
          0.0017117117117124714,
          0.02473723723723631,
          -0.028280780780780446,
          0.058536036036028305,
          0.009331831831831616,
          0.011493993993994867,
          -0.004587087087085662,
          0.04523273273273265,
          0.03180180180179559,
          0.011876876876876663,
          0.023596096096092145,
          0.009294294294294847,
          0.01928678678678275,
          0.017432432432431755,
          0.013648648648647344,
          0.016336336336334467,
          0.005165165165165186,
          0.03681681681681481,
          0.024496996996993925,
          0.029166666666663676,
          0.011771771771771133,
          0.025037537537536014,
          -0.02737237237236656,
          -7.732732732720349E-4,
          0.021028528528523216,
          0.03003003003002891,
          0.00960210210210044,
          0.015405405405403583,
          0.023415915915913077,
          -0.0036411411411424455,
          -0.06527777777777555,
          0.018873873873872515,
          -0.0894669669669641,
          0.09368618618618263,
          0.041291291291286614,
          0.008566066066063804,
          0.043918918918915084,
          -0.05617867867867832,
          0.04983483483482942,
          0.020818318318316154,
          -0.026448948948949114,
          0.037800300300294465,
          0.032867867867863776,
          0.034909909909907055,
          0.02680930930930736,
          -0.014016516516515032,
          -0.09361111111110709,
          -0.18348348348348387,
          0.1288888888888864,
          0.0715540540540538,
          0.02461711711711967,
          0.01599099099099388,
          0.0644519519519513,
          -0.006869369369366662,
          -0.005548048048042986,
          0.14040540540540425,
          0.05409909909909216,
          0.02852852852853105,
          0.0521096096096072,
          0.04906156156155683,
          0.03810810810810494,
          0.01629129129128959,
          0.016869369369369114,
          0.011163663663662282,
          0.02643393393393012,
          -0.02038288288288037,
          0.03498498498498348,
          -0.02757507507507051,
          0.045360360360353846,
          -0.07055555555555282,
          -0.012312312312310003,
          0.007882882882881193,
          -0.048010510510507864,
          0.005157657657655745,
          -0.06768018018017974,
          0.09111111111110559,
          -0.029324324324321083,
          -0.09201201201200937,
          0.08337837837837592,
          0.05950450450450018,
          -0.04256756756756219,
          0.08824324324324206,
          -0.005262762762760831,
          -0.012912912912911412,
          0.005990990990987433,
          -0.006478978978976202,
          0.062995495495489,
          0.0376951951951896,
          -0.019376876876874283,
          -0.03429429429428832,
          -0.04720720720720273,
          0.08611111111110614,
          0.07102852852852637,
          -0.0033783783783778443,
          0.027439939939941205,
          0.033686186186181466,
          -0.03638888888888547,
          0.03388888888888686,
          2.852852852868182E-4,
          0.052469969969967556,
          0.002424924924925298,
          -0.03054054054053601
         ],
         "type": "scatter"
        },
        {
         "line": {
          "color": "red",
          "width": 2
         },
         "mode": "lines",
         "name": "Train returns",
         "x": [
          "2001-11-01",
          "2001-12-01",
          "2002-01-01",
          "2002-02-01",
          "2002-03-01",
          "2002-04-01",
          "2002-05-01",
          "2002-06-01",
          "2002-07-01",
          "2002-08-01",
          "2002-09-01",
          "2002-10-01",
          "2002-11-01",
          "2002-12-01",
          "2003-01-01",
          "2003-02-01",
          "2003-03-01",
          "2003-04-01",
          "2003-05-01",
          "2003-06-01",
          "2003-07-01",
          "2003-08-01",
          "2003-09-01",
          "2003-10-01",
          "2003-11-01",
          "2003-12-01",
          "2004-01-01",
          "2004-02-01",
          "2004-03-01",
          "2004-04-01",
          "2004-05-01",
          "2004-06-01",
          "2004-07-01",
          "2004-08-01",
          "2004-09-01",
          "2004-10-01",
          "2004-11-01",
          "2004-12-01",
          "2005-01-01",
          "2005-02-01",
          "2005-03-01",
          "2005-04-01",
          "2005-05-01",
          "2005-06-01",
          "2005-07-01",
          "2005-08-01",
          "2005-09-01",
          "2005-10-01",
          "2005-11-01",
          "2005-12-01",
          "2006-01-01",
          "2006-02-01",
          "2006-03-01",
          "2006-04-01",
          "2006-05-01",
          "2006-06-01",
          "2006-07-01",
          "2006-08-01",
          "2006-09-01",
          "2006-10-01",
          "2006-11-01",
          "2006-12-01",
          "2007-01-01",
          "2007-02-01",
          "2007-03-01",
          "2007-04-01",
          "2007-05-01",
          "2007-06-01",
          "2007-07-01",
          "2007-08-01",
          "2007-09-01",
          "2007-10-01",
          "2007-11-01",
          "2007-12-01",
          "2008-01-01",
          "2008-02-01",
          "2008-03-01",
          "2008-04-01",
          "2008-05-01",
          "2008-06-01",
          "2008-07-01",
          "2008-08-01",
          "2008-09-01",
          "2008-10-01",
          "2008-11-01",
          "2008-12-01",
          "2009-01-01",
          "2009-02-01",
          "2009-03-01",
          "2009-04-01",
          "2009-05-01",
          "2009-06-01",
          "2009-07-01",
          "2009-08-01",
          "2009-09-01",
          "2009-10-01",
          "2009-11-01",
          "2009-12-01",
          "2010-01-01",
          "2010-02-01",
          "2010-03-01",
          "2010-04-01",
          "2010-05-01",
          "2010-06-01",
          "2010-07-01",
          "2010-08-01",
          "2010-09-01",
          "2010-10-01",
          "2010-11-01",
          "2010-12-01",
          "2011-01-01",
          "2011-02-01",
          "2011-03-01",
          "2011-04-01",
          "2011-05-01",
          "2011-06-01",
          "2011-07-01",
          "2011-08-01",
          "2011-09-01",
          "2011-10-01",
          "2011-11-01",
          "2011-12-01",
          "2012-01-01",
          "2012-02-01",
          "2012-03-01",
          "2012-04-01",
          "2012-05-01",
          "2012-06-01",
          "2012-07-01",
          "2012-08-01",
          "2012-09-01",
          "2012-10-01",
          "2012-11-01",
          "2012-12-01",
          "2013-01-01",
          "2013-02-01",
          "2013-03-01",
          "2013-04-01",
          "2013-05-01",
          "2013-06-01",
          "2013-07-01",
          "2013-08-01",
          "2013-09-01",
          "2013-10-01",
          "2013-11-01",
          "2013-12-01",
          "2014-01-01",
          "2014-02-01",
          "2014-03-01",
          "2014-04-01",
          "2014-05-01",
          "2014-06-01",
          "2014-07-01",
          "2014-08-01",
          "2014-09-01",
          "2014-10-01",
          "2014-11-01",
          "2014-12-01",
          "2015-01-01",
          "2015-02-01",
          "2015-03-01",
          "2015-04-01",
          "2015-05-01",
          "2015-06-01",
          "2015-07-01",
          "2015-08-01",
          "2015-09-01",
          "2015-10-01",
          "2015-11-01",
          "2015-12-01",
          "2016-01-01",
          "2016-02-01",
          "2016-03-01",
          "2016-04-01",
          "2016-05-01",
          "2016-06-01",
          "2016-07-01",
          "2016-08-01",
          "2016-09-01",
          "2016-10-01",
          "2016-11-01",
          "2016-12-01",
          "2017-01-01",
          "2017-02-01",
          "2017-03-01",
          "2017-04-01",
          "2017-05-01",
          "2017-06-01",
          "2017-07-01",
          "2017-08-01",
          "2017-09-01",
          "2017-10-01",
          "2017-11-01",
          "2017-12-01",
          "2018-01-01",
          "2018-02-01",
          "2018-03-01",
          "2018-04-01",
          "2018-05-01",
          "2018-06-01",
          "2018-07-01",
          "2018-08-01",
          "2018-09-01",
          "2018-10-01",
          "2018-11-01",
          "2018-12-01",
          "2019-01-01",
          "2019-02-01",
          "2019-03-01",
          "2019-04-01",
          "2019-05-01",
          "2019-06-01",
          "2019-07-01",
          "2019-08-01",
          "2019-09-01",
          "2019-10-01",
          "2019-11-01",
          "2019-12-01",
          "2020-01-01",
          "2020-02-01",
          "2020-03-01",
          "2020-04-01",
          "2020-05-01",
          "2020-06-01",
          "2020-07-01",
          "2020-08-01",
          "2020-09-01",
          "2020-10-01",
          "2020-11-01",
          "2020-12-01",
          "2021-01-01",
          "2021-02-01",
          "2021-03-01",
          "2021-04-01",
          "2021-05-01",
          "2021-06-01",
          "2021-07-01",
          "2021-08-01",
          "2021-09-01",
          "2021-10-01",
          "2021-11-01",
          "2021-12-01",
          "2022-01-01",
          "2022-02-01",
          "2022-03-01",
          "2022-04-01",
          "2022-05-01",
          "2022-06-01",
          "2022-07-01",
          "2022-08-01",
          "2022-09-01",
          "2022-10-01",
          "2022-11-01",
          "2022-12-01",
          "2023-01-01",
          "2023-02-01",
          "2023-03-01",
          "2023-04-01",
          "2023-05-01",
          "2023-06-01",
          "2023-07-01",
          "2023-08-01"
         ],
         "y": [
          0.030341029167175293,
          0.021056532859802246,
          0.018164992332458496,
          0.019576668739318848,
          0.017761826515197754,
          0.017457008361816406,
          0.017045140266418457,
          0.017281174659729004,
          0.020323872566223145,
          0.018231511116027832,
          0.016995906829833984,
          0.017222166061401367,
          0.019217491149902344,
          0.016103625297546387,
          0.017359614372253418,
          0.015379905700683594,
          0.015724897384643555,
          0.019564270973205566,
          0.01596367359161377,
          0.018357515335083008,
          0.017470359802246094,
          0.015328764915466309,
          0.01750004291534424,
          0.01644754409790039,
          0.015666842460632324,
          0.015962839126586914,
          0.014030694961547852,
          0.016106009483337402,
          0.013071656227111816,
          0.014804363250732422,
          0.01606154441833496,
          0.014275789260864258,
          0.0159531831741333,
          0.013628244400024414,
          0.0179520845413208,
          0.015518784523010254,
          0.013521909713745117,
          0.01364600658416748,
          0.015177011489868164,
          0.015163302421569824,
          0.016203641891479492,
          0.014849185943603516,
          0.014980792999267578,
          0.01634812355041504,
          0.014490723609924316,
          0.016628265380859375,
          0.015482902526855469,
          0.012431144714355469,
          0.014510750770568848,
          0.014220952987670898,
          0.014762520790100098,
          0.015209078788757324,
          0.014981627464294434,
          0.015018105506896973,
          0.013380050659179688,
          0.01373589038848877,
          0.016415119171142578,
          0.013202786445617676,
          0.014182448387145996,
          0.0134049654006958,
          0.014514803886413574,
          0.013263821601867676,
          0.013548016548156738,
          0.014826059341430664,
          0.014153003692626953,
          0.013307332992553711,
          0.013207435607910156,
          0.011696696281433105,
          0.01255345344543457,
          0.012663722038269043,
          0.01414179801940918,
          0.013036370277404785,
          0.012099623680114746,
          0.01449739933013916,
          0.013267874717712402,
          0.013405323028564453,
          0.013123154640197754,
          0.012812018394470215,
          0.012982845306396484,
          0.01292717456817627,
          0.012182831764221191,
          0.012203216552734375,
          0.015420079231262207,
          0.01262807846069336,
          0.013679265975952148,
          0.012479066848754883,
          0.014334678649902344,
          0.01503300666809082,
          0.012929797172546387,
          0.014879345893859863,
          0.012751460075378418,
          0.014384269714355469,
          0.013536214828491211,
          0.013434290885925293,
          0.011970281600952148,
          0.012175917625427246,
          0.014401674270629883,
          0.014088273048400879,
          0.013807296752929688,
          0.011465668678283691,
          0.01218271255493164,
          0.01502692699432373,
          0.012412548065185547,
          0.011337876319885254,
          0.014105677604675293,
          0.011316299438476562,
          0.012476444244384766,
          0.014269471168518066,
          0.011577844619750977,
          0.011563539505004883,
          0.013743400573730469,
          0.013414144515991211,
          0.013202667236328125,
          0.013128280639648438,
          0.012613415718078613,
          0.013010025024414062,
          0.010645747184753418,
          0.012097835540771484,
          0.01204836368560791,
          0.012024164199829102,
          0.012331604957580566,
          0.011850714683532715,
          0.01354360580444336,
          0.01145780086517334,
          0.013225078582763672,
          0.013083100318908691,
          0.012001752853393555,
          0.012036442756652832,
          0.01073300838470459,
          0.01242685317993164,
          0.011361360549926758,
          0.013249874114990234,
          0.01302957534790039,
          0.012577652931213379,
          0.012421131134033203,
          0.014272928237915039,
          0.012693166732788086,
          0.012532472610473633,
          0.012450218200683594,
          0.012790203094482422,
          0.01368570327758789,
          0.01181173324584961,
          0.012559175491333008,
          0.012567400932312012,
          0.013068079948425293,
          0.013915061950683594,
          0.012578129768371582,
          0.011772871017456055,
          0.011951565742492676,
          0.012581706047058105,
          0.011166214942932129,
          0.01089620590209961,
          0.01054227352142334,
          0.012478470802307129,
          0.012562155723571777,
          0.011807680130004883,
          0.013114452362060547,
          0.011943221092224121,
          0.013147830963134766,
          0.011205673217773438,
          0.011281490325927734,
          0.011747479438781738,
          0.01190638542175293,
          0.012591004371643066,
          0.012734413146972656,
          0.012891411781311035,
          0.012835025787353516,
          0.013016223907470703,
          0.012907147407531738,
          0.010881543159484863,
          0.011733293533325195,
          0.010570764541625977,
          0.011236310005187988,
          0.01187586784362793,
          0.011377334594726562,
          0.011207103729248047,
          0.012399554252624512,
          0.011366009712219238,
          0.011710166931152344,
          0.011269211769104004,
          0.011814236640930176,
          0.01294410228729248,
          0.010098695755004883,
          0.011331319808959961,
          0.010035037994384766,
          0.013064861297607422,
          0.011932969093322754,
          0.011025667190551758,
          0.012850046157836914,
          0.01176142692565918,
          0.01094961166381836,
          0.011093616485595703,
          0.011511445045471191,
          0.011138677597045898,
          0.010097026824951172,
          0.011586546897888184,
          0.011024236679077148,
          0.012662172317504883,
          0.011096835136413574,
          0.011855244636535645,
          0.011876940727233887,
          0.0126495361328125,
          0.010412096977233887,
          0.00993812084197998,
          0.01144707202911377,
          0.008698701858520508,
          0.011396288871765137,
          0.01144719123840332,
          0.010711193084716797,
          0.008925199508666992,
          0.010273098945617676,
          0.0096893310546875,
          0.0112687349319458,
          0.009235978126525879,
          0.009734153747558594,
          0.011543750762939453,
          0.00980985164642334,
          0.007969021797180176,
          0.009314775466918945,
          0.010425448417663574,
          0.010956525802612305,
          0.010410785675048828,
          0.010326027870178223,
          0.011531710624694824,
          0.011304378509521484,
          0.009734511375427246,
          0.009941339492797852,
          0.01113438606262207,
          0.010799884796142578,
          0.010181307792663574,
          0.008894801139831543,
          0.009584903717041016,
          0.01011812686920166,
          0.009627461433410645,
          0.009574651718139648,
          0.008982300758361816,
          0.009378671646118164,
          0.007463812828063965,
          0.009864091873168945,
          0.009491920471191406,
          0.008665323257446289,
          0.009574651718139648,
          0.009958386421203613,
          0.008910775184631348,
          0.008644580841064453,
          0.007385849952697754,
          0.007031559944152832,
          0.010464906692504883,
          0.009491562843322754,
          0.009046196937561035,
          0.007454395294189453,
          0.008054971694946289,
          0.006278276443481445,
          0.008539438247680664,
          0.007223248481750488,
          0.0066509246826171875,
          0.008173465728759766,
          0.00789952278137207,
          0.007407069206237793,
          0.006594538688659668,
          0.007508397102355957,
          0.006134152412414551
         ],
         "type": "scatter"
        },
        {
         "line": {
          "color": "green",
          "width": 2
         },
         "mode": "lines",
         "name": "Test returns",
         "x": [
          "2023-08-01",
          "2023-09-01",
          "2023-10-01",
          "2023-11-01",
          "2023-12-01",
          "2024-01-01",
          "2024-02-01",
          "2024-03-01",
          "2024-04-01",
          "2024-05-01",
          "2024-06-01",
          "2024-07-01",
          "2024-08-01"
         ],
         "y": [
          0.006134152412414551,
          0.005409717559814453,
          0.005644321441650391,
          0.00592803955078125,
          0.005762815475463867,
          0.005023598670959473,
          0.005212068557739258,
          0.0049533843994140625,
          0.005070686340332031,
          0.005040764808654785,
          0.00541841983795166,
          0.004271030426025391,
          0.003912091255187988
         ],
         "type": "scatter"
        }
       ],
       "layout": {
        "template": {
         "data": {
          "barpolar": [
           {
            "marker": {
             "line": {
              "color": "white",
              "width": 0.5
             },
             "pattern": {
              "fillmode": "overlay",
              "size": 10,
              "solidity": 0.2
             }
            },
            "type": "barpolar"
           }
          ],
          "bar": [
           {
            "error_x": {
             "color": "#2a3f5f"
            },
            "error_y": {
             "color": "#2a3f5f"
            },
            "marker": {
             "line": {
              "color": "white",
              "width": 0.5
             },
             "pattern": {
              "fillmode": "overlay",
              "size": 10,
              "solidity": 0.2
             }
            },
            "type": "bar"
           }
          ],
          "carpet": [
           {
            "aaxis": {
             "endlinecolor": "#2a3f5f",
             "gridcolor": "#C8D4E3",
             "linecolor": "#C8D4E3",
             "minorgridcolor": "#C8D4E3",
             "startlinecolor": "#2a3f5f"
            },
            "baxis": {
             "endlinecolor": "#2a3f5f",
             "gridcolor": "#C8D4E3",
             "linecolor": "#C8D4E3",
             "minorgridcolor": "#C8D4E3",
             "startlinecolor": "#2a3f5f"
            },
            "type": "carpet"
           }
          ],
          "choropleth": [
           {
            "colorbar": {
             "outlinewidth": 0,
             "ticks": ""
            },
            "type": "choropleth"
           }
          ],
          "contourcarpet": [
           {
            "colorbar": {
             "outlinewidth": 0,
             "ticks": ""
            },
            "type": "contourcarpet"
           }
          ],
          "contour": [
           {
            "colorbar": {
             "outlinewidth": 0,
             "ticks": ""
            },
            "colorscale": [
             [
              0.0,
              "#0d0887"
             ],
             [
              0.1111111111111111,
              "#46039f"
             ],
             [
              0.2222222222222222,
              "#7201a8"
             ],
             [
              0.3333333333333333,
              "#9c179e"
             ],
             [
              0.4444444444444444,
              "#bd3786"
             ],
             [
              0.5555555555555556,
              "#d8576b"
             ],
             [
              0.6666666666666666,
              "#ed7953"
             ],
             [
              0.7777777777777778,
              "#fb9f3a"
             ],
             [
              0.8888888888888888,
              "#fdca26"
             ],
             [
              1.0,
              "#f0f921"
             ]
            ],
            "type": "contour"
           }
          ],
          "heatmapgl": [
           {
            "colorbar": {
             "outlinewidth": 0,
             "ticks": ""
            },
            "colorscale": [
             [
              0.0,
              "#0d0887"
             ],
             [
              0.1111111111111111,
              "#46039f"
             ],
             [
              0.2222222222222222,
              "#7201a8"
             ],
             [
              0.3333333333333333,
              "#9c179e"
             ],
             [
              0.4444444444444444,
              "#bd3786"
             ],
             [
              0.5555555555555556,
              "#d8576b"
             ],
             [
              0.6666666666666666,
              "#ed7953"
             ],
             [
              0.7777777777777778,
              "#fb9f3a"
             ],
             [
              0.8888888888888888,
              "#fdca26"
             ],
             [
              1.0,
              "#f0f921"
             ]
            ],
            "type": "heatmapgl"
           }
          ],
          "heatmap": [
           {
            "colorbar": {
             "outlinewidth": 0,
             "ticks": ""
            },
            "colorscale": [
             [
              0.0,
              "#0d0887"
             ],
             [
              0.1111111111111111,
              "#46039f"
             ],
             [
              0.2222222222222222,
              "#7201a8"
             ],
             [
              0.3333333333333333,
              "#9c179e"
             ],
             [
              0.4444444444444444,
              "#bd3786"
             ],
             [
              0.5555555555555556,
              "#d8576b"
             ],
             [
              0.6666666666666666,
              "#ed7953"
             ],
             [
              0.7777777777777778,
              "#fb9f3a"
             ],
             [
              0.8888888888888888,
              "#fdca26"
             ],
             [
              1.0,
              "#f0f921"
             ]
            ],
            "type": "heatmap"
           }
          ],
          "histogram2dcontour": [
           {
            "colorbar": {
             "outlinewidth": 0,
             "ticks": ""
            },
            "colorscale": [
             [
              0.0,
              "#0d0887"
             ],
             [
              0.1111111111111111,
              "#46039f"
             ],
             [
              0.2222222222222222,
              "#7201a8"
             ],
             [
              0.3333333333333333,
              "#9c179e"
             ],
             [
              0.4444444444444444,
              "#bd3786"
             ],
             [
              0.5555555555555556,
              "#d8576b"
             ],
             [
              0.6666666666666666,
              "#ed7953"
             ],
             [
              0.7777777777777778,
              "#fb9f3a"
             ],
             [
              0.8888888888888888,
              "#fdca26"
             ],
             [
              1.0,
              "#f0f921"
             ]
            ],
            "type": "histogram2dcontour"
           }
          ],
          "histogram2d": [
           {
            "colorbar": {
             "outlinewidth": 0,
             "ticks": ""
            },
            "colorscale": [
             [
              0.0,
              "#0d0887"
             ],
             [
              0.1111111111111111,
              "#46039f"
             ],
             [
              0.2222222222222222,
              "#7201a8"
             ],
             [
              0.3333333333333333,
              "#9c179e"
             ],
             [
              0.4444444444444444,
              "#bd3786"
             ],
             [
              0.5555555555555556,
              "#d8576b"
             ],
             [
              0.6666666666666666,
              "#ed7953"
             ],
             [
              0.7777777777777778,
              "#fb9f3a"
             ],
             [
              0.8888888888888888,
              "#fdca26"
             ],
             [
              1.0,
              "#f0f921"
             ]
            ],
            "type": "histogram2d"
           }
          ],
          "histogram": [
           {
            "marker": {
             "pattern": {
              "fillmode": "overlay",
              "size": 10,
              "solidity": 0.2
             }
            },
            "type": "histogram"
           }
          ],
          "mesh3d": [
           {
            "colorbar": {
             "outlinewidth": 0,
             "ticks": ""
            },
            "type": "mesh3d"
           }
          ],
          "parcoords": [
           {
            "line": {
             "colorbar": {
              "outlinewidth": 0,
              "ticks": ""
             }
            },
            "type": "parcoords"
           }
          ],
          "pie": [
           {
            "automargin": true,
            "type": "pie"
           }
          ],
          "scatter3d": [
           {
            "line": {
             "colorbar": {
              "outlinewidth": 0,
              "ticks": ""
             }
            },
            "marker": {
             "colorbar": {
              "outlinewidth": 0,
              "ticks": ""
             }
            },
            "type": "scatter3d"
           }
          ],
          "scattercarpet": [
           {
            "marker": {
             "colorbar": {
              "outlinewidth": 0,
              "ticks": ""
             }
            },
            "type": "scattercarpet"
           }
          ],
          "scattergeo": [
           {
            "marker": {
             "colorbar": {
              "outlinewidth": 0,
              "ticks": ""
             }
            },
            "type": "scattergeo"
           }
          ],
          "scattergl": [
           {
            "marker": {
             "colorbar": {
              "outlinewidth": 0,
              "ticks": ""
             }
            },
            "type": "scattergl"
           }
          ],
          "scattermapbox": [
           {
            "marker": {
             "colorbar": {
              "outlinewidth": 0,
              "ticks": ""
             }
            },
            "type": "scattermapbox"
           }
          ],
          "scatterpolargl": [
           {
            "marker": {
             "colorbar": {
              "outlinewidth": 0,
              "ticks": ""
             }
            },
            "type": "scatterpolargl"
           }
          ],
          "scatterpolar": [
           {
            "marker": {
             "colorbar": {
              "outlinewidth": 0,
              "ticks": ""
             }
            },
            "type": "scatterpolar"
           }
          ],
          "scatter": [
           {
            "fillpattern": {
             "fillmode": "overlay",
             "size": 10,
             "solidity": 0.2
            },
            "type": "scatter"
           }
          ],
          "scatterternary": [
           {
            "marker": {
             "colorbar": {
              "outlinewidth": 0,
              "ticks": ""
             }
            },
            "type": "scatterternary"
           }
          ],
          "surface": [
           {
            "colorbar": {
             "outlinewidth": 0,
             "ticks": ""
            },
            "colorscale": [
             [
              0.0,
              "#0d0887"
             ],
             [
              0.1111111111111111,
              "#46039f"
             ],
             [
              0.2222222222222222,
              "#7201a8"
             ],
             [
              0.3333333333333333,
              "#9c179e"
             ],
             [
              0.4444444444444444,
              "#bd3786"
             ],
             [
              0.5555555555555556,
              "#d8576b"
             ],
             [
              0.6666666666666666,
              "#ed7953"
             ],
             [
              0.7777777777777778,
              "#fb9f3a"
             ],
             [
              0.8888888888888888,
              "#fdca26"
             ],
             [
              1.0,
              "#f0f921"
             ]
            ],
            "type": "surface"
           }
          ],
          "table": [
           {
            "cells": {
             "fill": {
              "color": "#EBF0F8"
             },
             "line": {
              "color": "white"
             }
            },
            "header": {
             "fill": {
              "color": "#C8D4E3"
             },
             "line": {
              "color": "white"
             }
            },
            "type": "table"
           }
          ]
         },
         "layout": {
          "annotationdefaults": {
           "arrowcolor": "#2a3f5f",
           "arrowhead": 0,
           "arrowwidth": 1
          },
          "autotypenumbers": "strict",
          "coloraxis": {
           "colorbar": {
            "outlinewidth": 0,
            "ticks": ""
           }
          },
          "colorscale": {
           "diverging": [
            [
             0,
             "#8e0152"
            ],
            [
             0.1,
             "#c51b7d"
            ],
            [
             0.2,
             "#de77ae"
            ],
            [
             0.3,
             "#f1b6da"
            ],
            [
             0.4,
             "#fde0ef"
            ],
            [
             0.5,
             "#f7f7f7"
            ],
            [
             0.6,
             "#e6f5d0"
            ],
            [
             0.7,
             "#b8e186"
            ],
            [
             0.8,
             "#7fbc41"
            ],
            [
             0.9,
             "#4d9221"
            ],
            [
             1,
             "#276419"
            ]
           ],
           "sequential": [
            [
             0.0,
             "#0d0887"
            ],
            [
             0.1111111111111111,
             "#46039f"
            ],
            [
             0.2222222222222222,
             "#7201a8"
            ],
            [
             0.3333333333333333,
             "#9c179e"
            ],
            [
             0.4444444444444444,
             "#bd3786"
            ],
            [
             0.5555555555555556,
             "#d8576b"
            ],
            [
             0.6666666666666666,
             "#ed7953"
            ],
            [
             0.7777777777777778,
             "#fb9f3a"
            ],
            [
             0.8888888888888888,
             "#fdca26"
            ],
            [
             1.0,
             "#f0f921"
            ]
           ],
           "sequentialminus": [
            [
             0.0,
             "#0d0887"
            ],
            [
             0.1111111111111111,
             "#46039f"
            ],
            [
             0.2222222222222222,
             "#7201a8"
            ],
            [
             0.3333333333333333,
             "#9c179e"
            ],
            [
             0.4444444444444444,
             "#bd3786"
            ],
            [
             0.5555555555555556,
             "#d8576b"
            ],
            [
             0.6666666666666666,
             "#ed7953"
            ],
            [
             0.7777777777777778,
             "#fb9f3a"
            ],
            [
             0.8888888888888888,
             "#fdca26"
            ],
            [
             1.0,
             "#f0f921"
            ]
           ]
          },
          "colorway": [
           "#636efa",
           "#EF553B",
           "#00cc96",
           "#ab63fa",
           "#FFA15A",
           "#19d3f3",
           "#FF6692",
           "#B6E880",
           "#FF97FF",
           "#FECB52"
          ],
          "font": {
           "color": "#2a3f5f"
          },
          "geo": {
           "bgcolor": "white",
           "lakecolor": "white",
           "landcolor": "white",
           "showlakes": true,
           "showland": true,
           "subunitcolor": "#C8D4E3"
          },
          "hoverlabel": {
           "align": "left"
          },
          "hovermode": "closest",
          "mapbox": {
           "style": "light"
          },
          "paper_bgcolor": "white",
          "plot_bgcolor": "white",
          "polar": {
           "angularaxis": {
            "gridcolor": "#EBF0F8",
            "linecolor": "#EBF0F8",
            "ticks": ""
           },
           "bgcolor": "white",
           "radialaxis": {
            "gridcolor": "#EBF0F8",
            "linecolor": "#EBF0F8",
            "ticks": ""
           }
          },
          "scene": {
           "xaxis": {
            "backgroundcolor": "white",
            "gridcolor": "#DFE8F3",
            "gridwidth": 2,
            "linecolor": "#EBF0F8",
            "showbackground": true,
            "ticks": "",
            "zerolinecolor": "#EBF0F8"
           },
           "yaxis": {
            "backgroundcolor": "white",
            "gridcolor": "#DFE8F3",
            "gridwidth": 2,
            "linecolor": "#EBF0F8",
            "showbackground": true,
            "ticks": "",
            "zerolinecolor": "#EBF0F8"
           },
           "zaxis": {
            "backgroundcolor": "white",
            "gridcolor": "#DFE8F3",
            "gridwidth": 2,
            "linecolor": "#EBF0F8",
            "showbackground": true,
            "ticks": "",
            "zerolinecolor": "#EBF0F8"
           }
          },
          "shapedefaults": {
           "line": {
            "color": "#2a3f5f"
           }
          },
          "ternary": {
           "aaxis": {
            "gridcolor": "#DFE8F3",
            "linecolor": "#A2B1C6",
            "ticks": ""
           },
           "baxis": {
            "gridcolor": "#DFE8F3",
            "linecolor": "#A2B1C6",
            "ticks": ""
           },
           "bgcolor": "white",
           "caxis": {
            "gridcolor": "#DFE8F3",
            "linecolor": "#A2B1C6",
            "ticks": ""
           }
          },
          "title": {
           "x": 0.05
          },
          "xaxis": {
           "automargin": true,
           "gridcolor": "#EBF0F8",
           "linecolor": "#EBF0F8",
           "ticks": "",
           "title": {
            "standoff": 15
           },
           "zerolinecolor": "#EBF0F8",
           "zerolinewidth": 2
          },
          "yaxis": {
           "automargin": true,
           "gridcolor": "#EBF0F8",
           "linecolor": "#EBF0F8",
           "ticks": "",
           "title": {
            "standoff": 15
           },
           "zerolinecolor": "#EBF0F8",
           "zerolinewidth": 2
          }
         }
        },
        "shapes": [
         {
          "line": {
           "color": "red",
           "dash": "dash",
           "width": 1
          },
          "type": "line",
          "x0": "2023-08-01",
          "x1": "2023-08-01",
          "xref": "x",
          "y0": 0,
          "y1": 1,
          "yref": "y domain"
         }
        ],
        "yaxis": {
         "title": {
          "text": "Day closing return (%)"
         },
         "tickformat": ".0%",
         "range": [
          -0.25,
          0.6
         ]
        },
        "title": {
         "text": "12 Month Prediction vs Actual Plot"
        },
        "xaxis": {
         "title": {
          "text": "Date"
         }
        },
        "legend": {
         "title": {
          "text": "Legend"
         }
        }
       },
       "config": {
        "plotlyServerURL": "https://plot.ly"
       }
      },
      "text/html": [
       "<div>                            <div id=\"a6939cdc-ae18-4fe6-8085-8ccd512695f7\" class=\"plotly-graph-div\" style=\"height:525px; width:100%;\"></div>            <script type=\"text/javascript\">                require([\"plotly\"], function(Plotly) {                    window.PLOTLYENV=window.PLOTLYENV || {};                                    if (document.getElementById(\"a6939cdc-ae18-4fe6-8085-8ccd512695f7\")) {                    Plotly.newPlot(                        \"a6939cdc-ae18-4fe6-8085-8ccd512695f7\",                        [{\"line\":{\"color\":\"#5c839f\",\"width\":2},\"mode\":\"lines\",\"name\":\"Actual returns\",\"x\":[\"2001-11-01\",\"2001-12-01\",\"2002-01-01\",\"2002-02-01\",\"2002-03-01\",\"2002-04-01\",\"2002-05-01\",\"2002-06-01\",\"2002-07-01\",\"2002-08-01\",\"2002-09-01\",\"2002-10-01\",\"2002-11-01\",\"2002-12-01\",\"2003-01-01\",\"2003-02-01\",\"2003-03-01\",\"2003-04-01\",\"2003-05-01\",\"2003-06-01\",\"2003-07-01\",\"2003-08-01\",\"2003-09-01\",\"2003-10-01\",\"2003-11-01\",\"2003-12-01\",\"2004-01-01\",\"2004-02-01\",\"2004-03-01\",\"2004-04-01\",\"2004-05-01\",\"2004-06-01\",\"2004-07-01\",\"2004-08-01\",\"2004-09-01\",\"2004-10-01\",\"2004-11-01\",\"2004-12-01\",\"2005-01-01\",\"2005-02-01\",\"2005-03-01\",\"2005-04-01\",\"2005-05-01\",\"2005-06-01\",\"2005-07-01\",\"2005-08-01\",\"2005-09-01\",\"2005-10-01\",\"2005-11-01\",\"2005-12-01\",\"2006-01-01\",\"2006-02-01\",\"2006-03-01\",\"2006-04-01\",\"2006-05-01\",\"2006-06-01\",\"2006-07-01\",\"2006-08-01\",\"2006-09-01\",\"2006-10-01\",\"2006-11-01\",\"2006-12-01\",\"2007-01-01\",\"2007-02-01\",\"2007-03-01\",\"2007-04-01\",\"2007-05-01\",\"2007-06-01\",\"2007-07-01\",\"2007-08-01\",\"2007-09-01\",\"2007-10-01\",\"2007-11-01\",\"2007-12-01\",\"2008-01-01\",\"2008-02-01\",\"2008-03-01\",\"2008-04-01\",\"2008-05-01\",\"2008-06-01\",\"2008-07-01\",\"2008-08-01\",\"2008-09-01\",\"2008-10-01\",\"2008-11-01\",\"2008-12-01\",\"2009-01-01\",\"2009-02-01\",\"2009-03-01\",\"2009-04-01\",\"2009-05-01\",\"2009-06-01\",\"2009-07-01\",\"2009-08-01\",\"2009-09-01\",\"2009-10-01\",\"2009-11-01\",\"2009-12-01\",\"2010-01-01\",\"2010-02-01\",\"2010-03-01\",\"2010-04-01\",\"2010-05-01\",\"2010-06-01\",\"2010-07-01\",\"2010-08-01\",\"2010-09-01\",\"2010-10-01\",\"2010-11-01\",\"2010-12-01\",\"2011-01-01\",\"2011-02-01\",\"2011-03-01\",\"2011-04-01\",\"2011-05-01\",\"2011-06-01\",\"2011-07-01\",\"2011-08-01\",\"2011-09-01\",\"2011-10-01\",\"2011-11-01\",\"2011-12-01\",\"2012-01-01\",\"2012-02-01\",\"2012-03-01\",\"2012-04-01\",\"2012-05-01\",\"2012-06-01\",\"2012-07-01\",\"2012-08-01\",\"2012-09-01\",\"2012-10-01\",\"2012-11-01\",\"2012-12-01\",\"2013-01-01\",\"2013-02-01\",\"2013-03-01\",\"2013-04-01\",\"2013-05-01\",\"2013-06-01\",\"2013-07-01\",\"2013-08-01\",\"2013-09-01\",\"2013-10-01\",\"2013-11-01\",\"2013-12-01\",\"2014-01-01\",\"2014-02-01\",\"2014-03-01\",\"2014-04-01\",\"2014-05-01\",\"2014-06-01\",\"2014-07-01\",\"2014-08-01\",\"2014-09-01\",\"2014-10-01\",\"2014-11-01\",\"2014-12-01\",\"2015-01-01\",\"2015-02-01\",\"2015-03-01\",\"2015-04-01\",\"2015-05-01\",\"2015-06-01\",\"2015-07-01\",\"2015-08-01\",\"2015-09-01\",\"2015-10-01\",\"2015-11-01\",\"2015-12-01\",\"2016-01-01\",\"2016-02-01\",\"2016-03-01\",\"2016-04-01\",\"2016-05-01\",\"2016-06-01\",\"2016-07-01\",\"2016-08-01\",\"2016-09-01\",\"2016-10-01\",\"2016-11-01\",\"2016-12-01\",\"2017-01-01\",\"2017-02-01\",\"2017-03-01\",\"2017-04-01\",\"2017-05-01\",\"2017-06-01\",\"2017-07-01\",\"2017-08-01\",\"2017-09-01\",\"2017-10-01\",\"2017-11-01\",\"2017-12-01\",\"2018-01-01\",\"2018-02-01\",\"2018-03-01\",\"2018-04-01\",\"2018-05-01\",\"2018-06-01\",\"2018-07-01\",\"2018-08-01\",\"2018-09-01\",\"2018-10-01\",\"2018-11-01\",\"2018-12-01\",\"2019-01-01\",\"2019-02-01\",\"2019-03-01\",\"2019-04-01\",\"2019-05-01\",\"2019-06-01\",\"2019-07-01\",\"2019-08-01\",\"2019-09-01\",\"2019-10-01\",\"2019-11-01\",\"2019-12-01\",\"2020-01-01\",\"2020-02-01\",\"2020-03-01\",\"2020-04-01\",\"2020-05-01\",\"2020-06-01\",\"2020-07-01\",\"2020-08-01\",\"2020-09-01\",\"2020-10-01\",\"2020-11-01\",\"2020-12-01\",\"2021-01-01\",\"2021-02-01\",\"2021-03-01\",\"2021-04-01\",\"2021-05-01\",\"2021-06-01\",\"2021-07-01\",\"2021-08-01\",\"2021-09-01\",\"2021-10-01\",\"2021-11-01\",\"2021-12-01\",\"2022-01-01\",\"2022-02-01\",\"2022-03-01\",\"2022-04-01\",\"2022-05-01\",\"2022-06-01\",\"2022-07-01\",\"2022-08-01\",\"2022-09-01\",\"2022-10-01\",\"2022-11-01\",\"2022-12-01\",\"2023-01-01\",\"2023-02-01\",\"2023-03-01\",\"2023-04-01\",\"2023-05-01\",\"2023-06-01\",\"2023-07-01\",\"2023-08-01\",\"2023-09-01\",\"2023-10-01\",\"2023-11-01\",\"2023-12-01\",\"2024-01-01\",\"2024-02-01\",\"2024-03-01\",\"2024-04-01\",\"2024-05-01\",\"2024-06-01\",\"2024-07-01\",\"2024-08-01\"],\"y\":[0.02743993993994054,0.038025525525524406,-0.009414414414414263,0.22023273273273247,0.031974474474474324,-0.00259009009009048,-0.020735735735735616,0.033678678678677354,-0.003978978978978809,0.0299774774774777,-0.007777777777777883,-0.011524024024024082,-0.026936936936937994,0.01249999999999929,0.038400900900901425,-0.02846096096096018,-0.012762762762762891,0.07272522522522085,0.015735735735736167,0.001644144144144155,-0.026996996996994982,-0.030915915915913916,-0.09028528528528412,0.05090840840840727,0.0509159159159156,0.018573573573573476,-0.005405405405404129,0.012072072072070394,0.05409159159158938,0.009024024024022914,0.00522522522522495,-0.05081831831831807,-0.06252252252252144,-0.011471471471471095,-0.04330330330330234,0.010465465465465451,0.058453453453451765,-0.03432432432432431,-0.01071321321321217,0.003100600600600245,-0.0021696696696679174,0.06228978978978872,0.07175675675675475,0.03475225225225054,0.05778528528528293,0.06289039039038924,0.004909909909908583,0.05349099099098753,0.004924924924925467,0.01909159159158902,0.032132132132131064,0.01701951951951819,0.05260510510510441,0.00787537537537375,-0.0060810810810809635,0.039166666666664574,-0.03876126126125934,-0.006861861861861107,0.005180180180180738,0.004489489489490461,0.03232732732732635,0.05847597597597187,0.008250750750750768,0.024947447447445814,-0.0037087087087082082,-0.022267267267264912,0.03677177177176838,0.024557057057054577,0.040442942942939375,-0.0006981981981986074,0.01872372372372233,0.07061561561561569,0.05157657657657366,0.02451201201201103,0.04399399399399351,0.0172822822822829,0.028603603603601258,0.0011486486486493863,-0.03011261261261,-0.0018618618618618799,-0.01278528528528522,0.028018018018014734,0.014181681681680214,0.024466966966965265,0.027897897897896762,0.030930930930927136,0.03999999999999804,0.0035285285285273638,0.0018993993994007585,0.021418918918917118,0.02924174174173988,-0.01469969969969842,-0.03518768768768399,-0.010007507507506563,0.0024024024024018598,0.019632132132131774,-0.05572822822822687,-0.009954954954954243,-0.06066066066065812,-0.010435435435435347,-0.014969969969969021,0.03434684684684575,0.027875375375374656,-0.07102852852852792,-0.0025300300300311607,0.01765015015014937,-0.07436936936936767,-0.16220720720720616,-0.05918918918918892,0.04562312312312233,-0.056186186186185094,-0.06329579579579647,0.07671171171171154,0.15475225225225198,0.04527027027027031,0.03893393393393363,0.07099849849849749,0.05655405405405389,0.03070570570570519,-0.021951951951950766,0.0010360360360355259,0.05536036036035763,-0.013551051051049257,0.020743243243242837,0.06338588588588245,0.04948948948948795,-0.05758258258257942,-0.040217717717715096,0.040165165165163996,-0.03746996996996865,0.07373123123122904,0.0181606606606608,0.029774774774774082,0.06351351351350831,0.01366366366366445,0.03365615615615347,-0.01171171171171026,0.02272522522522369,-0.0021996996996992424,-0.0004279279279268966,-0.018408408408405852,-0.05390390390390232,-0.049354354354354535,0.07704954954954912,-0.014466966966965367,0.005720720720719719,0.056246246246242304,0.04385885885885599,0.03139639639639191,-0.005975975975974102,-0.05990990990990752,0.033543543543540055,-0.0019219219219228645,0.021854354354353456,0.016599099099097403,0.002957957957956614,0.017342342342340444,0.032770270270266355,0.06512762762762248,0.025345345345343828,0.04521021021020588,0.03481231231231119,0.018280780780780104,-0.009894894894894812,0.03924924924924866,-0.009249249249246638,0.05455705705705238,0.028130630630627262,0.02668168168168039,0.022522522522519184,-0.013288288288286432,0.030075075075072455,0.0034009009009017266,-0.014481981981981806,0.020037537537534345,0.03023273273272986,-0.013093093093094033,0.02825825825825312,-0.01791291291291064,0.03218468468468272,0.04343843843843276,0.015833333333329813,0.002282282282282333,0.04680930930930782,0.012477477477475851,0.00021771771771783577,0.0293018018017992,-0.007530030030026724,0.015135135135132538,-0.04286786786786334,-0.025360360360358603,0.058055555555554195,0.02036786786786493,-0.020202702702699193,-0.05234234234234081,-0.003768768768769082,0.06146396396395826,0.0017117117117124714,0.02473723723723631,-0.028280780780780446,0.058536036036028305,0.009331831831831616,0.011493993993994867,-0.004587087087085662,0.04523273273273265,0.03180180180179559,0.011876876876876663,0.023596096096092145,0.009294294294294847,0.01928678678678275,0.017432432432431755,0.013648648648647344,0.016336336336334467,0.005165165165165186,0.03681681681681481,0.024496996996993925,0.029166666666663676,0.011771771771771133,0.025037537537536014,-0.02737237237236656,-0.0007732732732720349,0.021028528528523216,0.03003003003002891,0.00960210210210044,0.015405405405403583,0.023415915915913077,-0.0036411411411424455,-0.06527777777777555,0.018873873873872515,-0.0894669669669641,0.09368618618618263,0.041291291291286614,0.008566066066063804,0.043918918918915084,-0.05617867867867832,0.04983483483482942,0.020818318318316154,-0.026448948948949114,0.037800300300294465,0.032867867867863776,0.034909909909907055,0.02680930930930736,-0.014016516516515032,-0.09361111111110709,-0.18348348348348387,0.1288888888888864,0.0715540540540538,0.02461711711711967,0.01599099099099388,0.0644519519519513,-0.006869369369366662,-0.005548048048042986,0.14040540540540425,0.05409909909909216,0.02852852852853105,0.0521096096096072,0.04906156156155683,0.03810810810810494,0.01629129129128959,0.016869369369369114,0.011163663663662282,0.02643393393393012,-0.02038288288288037,0.03498498498498348,-0.02757507507507051,0.045360360360353846,-0.07055555555555282,-0.012312312312310003,0.007882882882881193,-0.048010510510507864,0.005157657657655745,-0.06768018018017974,0.09111111111110559,-0.029324324324321083,-0.09201201201200937,0.08337837837837592,0.05950450450450018,-0.04256756756756219,0.08824324324324206,-0.005262762762760831,-0.012912912912911412,0.005990990990987433,-0.006478978978976202,0.062995495495489,0.0376951951951896,-0.019376876876874283,-0.03429429429428832,-0.04720720720720273,0.08611111111110614,0.07102852852852637,-0.0033783783783778443,0.027439939939941205,0.033686186186181466,-0.03638888888888547,0.03388888888888686,0.0002852852852868182,0.052469969969967556,0.002424924924925298,-0.03054054054053601],\"type\":\"scatter\"},{\"line\":{\"color\":\"red\",\"width\":2},\"mode\":\"lines\",\"name\":\"Train returns\",\"x\":[\"2001-11-01\",\"2001-12-01\",\"2002-01-01\",\"2002-02-01\",\"2002-03-01\",\"2002-04-01\",\"2002-05-01\",\"2002-06-01\",\"2002-07-01\",\"2002-08-01\",\"2002-09-01\",\"2002-10-01\",\"2002-11-01\",\"2002-12-01\",\"2003-01-01\",\"2003-02-01\",\"2003-03-01\",\"2003-04-01\",\"2003-05-01\",\"2003-06-01\",\"2003-07-01\",\"2003-08-01\",\"2003-09-01\",\"2003-10-01\",\"2003-11-01\",\"2003-12-01\",\"2004-01-01\",\"2004-02-01\",\"2004-03-01\",\"2004-04-01\",\"2004-05-01\",\"2004-06-01\",\"2004-07-01\",\"2004-08-01\",\"2004-09-01\",\"2004-10-01\",\"2004-11-01\",\"2004-12-01\",\"2005-01-01\",\"2005-02-01\",\"2005-03-01\",\"2005-04-01\",\"2005-05-01\",\"2005-06-01\",\"2005-07-01\",\"2005-08-01\",\"2005-09-01\",\"2005-10-01\",\"2005-11-01\",\"2005-12-01\",\"2006-01-01\",\"2006-02-01\",\"2006-03-01\",\"2006-04-01\",\"2006-05-01\",\"2006-06-01\",\"2006-07-01\",\"2006-08-01\",\"2006-09-01\",\"2006-10-01\",\"2006-11-01\",\"2006-12-01\",\"2007-01-01\",\"2007-02-01\",\"2007-03-01\",\"2007-04-01\",\"2007-05-01\",\"2007-06-01\",\"2007-07-01\",\"2007-08-01\",\"2007-09-01\",\"2007-10-01\",\"2007-11-01\",\"2007-12-01\",\"2008-01-01\",\"2008-02-01\",\"2008-03-01\",\"2008-04-01\",\"2008-05-01\",\"2008-06-01\",\"2008-07-01\",\"2008-08-01\",\"2008-09-01\",\"2008-10-01\",\"2008-11-01\",\"2008-12-01\",\"2009-01-01\",\"2009-02-01\",\"2009-03-01\",\"2009-04-01\",\"2009-05-01\",\"2009-06-01\",\"2009-07-01\",\"2009-08-01\",\"2009-09-01\",\"2009-10-01\",\"2009-11-01\",\"2009-12-01\",\"2010-01-01\",\"2010-02-01\",\"2010-03-01\",\"2010-04-01\",\"2010-05-01\",\"2010-06-01\",\"2010-07-01\",\"2010-08-01\",\"2010-09-01\",\"2010-10-01\",\"2010-11-01\",\"2010-12-01\",\"2011-01-01\",\"2011-02-01\",\"2011-03-01\",\"2011-04-01\",\"2011-05-01\",\"2011-06-01\",\"2011-07-01\",\"2011-08-01\",\"2011-09-01\",\"2011-10-01\",\"2011-11-01\",\"2011-12-01\",\"2012-01-01\",\"2012-02-01\",\"2012-03-01\",\"2012-04-01\",\"2012-05-01\",\"2012-06-01\",\"2012-07-01\",\"2012-08-01\",\"2012-09-01\",\"2012-10-01\",\"2012-11-01\",\"2012-12-01\",\"2013-01-01\",\"2013-02-01\",\"2013-03-01\",\"2013-04-01\",\"2013-05-01\",\"2013-06-01\",\"2013-07-01\",\"2013-08-01\",\"2013-09-01\",\"2013-10-01\",\"2013-11-01\",\"2013-12-01\",\"2014-01-01\",\"2014-02-01\",\"2014-03-01\",\"2014-04-01\",\"2014-05-01\",\"2014-06-01\",\"2014-07-01\",\"2014-08-01\",\"2014-09-01\",\"2014-10-01\",\"2014-11-01\",\"2014-12-01\",\"2015-01-01\",\"2015-02-01\",\"2015-03-01\",\"2015-04-01\",\"2015-05-01\",\"2015-06-01\",\"2015-07-01\",\"2015-08-01\",\"2015-09-01\",\"2015-10-01\",\"2015-11-01\",\"2015-12-01\",\"2016-01-01\",\"2016-02-01\",\"2016-03-01\",\"2016-04-01\",\"2016-05-01\",\"2016-06-01\",\"2016-07-01\",\"2016-08-01\",\"2016-09-01\",\"2016-10-01\",\"2016-11-01\",\"2016-12-01\",\"2017-01-01\",\"2017-02-01\",\"2017-03-01\",\"2017-04-01\",\"2017-05-01\",\"2017-06-01\",\"2017-07-01\",\"2017-08-01\",\"2017-09-01\",\"2017-10-01\",\"2017-11-01\",\"2017-12-01\",\"2018-01-01\",\"2018-02-01\",\"2018-03-01\",\"2018-04-01\",\"2018-05-01\",\"2018-06-01\",\"2018-07-01\",\"2018-08-01\",\"2018-09-01\",\"2018-10-01\",\"2018-11-01\",\"2018-12-01\",\"2019-01-01\",\"2019-02-01\",\"2019-03-01\",\"2019-04-01\",\"2019-05-01\",\"2019-06-01\",\"2019-07-01\",\"2019-08-01\",\"2019-09-01\",\"2019-10-01\",\"2019-11-01\",\"2019-12-01\",\"2020-01-01\",\"2020-02-01\",\"2020-03-01\",\"2020-04-01\",\"2020-05-01\",\"2020-06-01\",\"2020-07-01\",\"2020-08-01\",\"2020-09-01\",\"2020-10-01\",\"2020-11-01\",\"2020-12-01\",\"2021-01-01\",\"2021-02-01\",\"2021-03-01\",\"2021-04-01\",\"2021-05-01\",\"2021-06-01\",\"2021-07-01\",\"2021-08-01\",\"2021-09-01\",\"2021-10-01\",\"2021-11-01\",\"2021-12-01\",\"2022-01-01\",\"2022-02-01\",\"2022-03-01\",\"2022-04-01\",\"2022-05-01\",\"2022-06-01\",\"2022-07-01\",\"2022-08-01\",\"2022-09-01\",\"2022-10-01\",\"2022-11-01\",\"2022-12-01\",\"2023-01-01\",\"2023-02-01\",\"2023-03-01\",\"2023-04-01\",\"2023-05-01\",\"2023-06-01\",\"2023-07-01\",\"2023-08-01\"],\"y\":[0.030341029167175293,0.021056532859802246,0.018164992332458496,0.019576668739318848,0.017761826515197754,0.017457008361816406,0.017045140266418457,0.017281174659729004,0.020323872566223145,0.018231511116027832,0.016995906829833984,0.017222166061401367,0.019217491149902344,0.016103625297546387,0.017359614372253418,0.015379905700683594,0.015724897384643555,0.019564270973205566,0.01596367359161377,0.018357515335083008,0.017470359802246094,0.015328764915466309,0.01750004291534424,0.01644754409790039,0.015666842460632324,0.015962839126586914,0.014030694961547852,0.016106009483337402,0.013071656227111816,0.014804363250732422,0.01606154441833496,0.014275789260864258,0.0159531831741333,0.013628244400024414,0.0179520845413208,0.015518784523010254,0.013521909713745117,0.01364600658416748,0.015177011489868164,0.015163302421569824,0.016203641891479492,0.014849185943603516,0.014980792999267578,0.01634812355041504,0.014490723609924316,0.016628265380859375,0.015482902526855469,0.012431144714355469,0.014510750770568848,0.014220952987670898,0.014762520790100098,0.015209078788757324,0.014981627464294434,0.015018105506896973,0.013380050659179688,0.01373589038848877,0.016415119171142578,0.013202786445617676,0.014182448387145996,0.0134049654006958,0.014514803886413574,0.013263821601867676,0.013548016548156738,0.014826059341430664,0.014153003692626953,0.013307332992553711,0.013207435607910156,0.011696696281433105,0.01255345344543457,0.012663722038269043,0.01414179801940918,0.013036370277404785,0.012099623680114746,0.01449739933013916,0.013267874717712402,0.013405323028564453,0.013123154640197754,0.012812018394470215,0.012982845306396484,0.01292717456817627,0.012182831764221191,0.012203216552734375,0.015420079231262207,0.01262807846069336,0.013679265975952148,0.012479066848754883,0.014334678649902344,0.01503300666809082,0.012929797172546387,0.014879345893859863,0.012751460075378418,0.014384269714355469,0.013536214828491211,0.013434290885925293,0.011970281600952148,0.012175917625427246,0.014401674270629883,0.014088273048400879,0.013807296752929688,0.011465668678283691,0.01218271255493164,0.01502692699432373,0.012412548065185547,0.011337876319885254,0.014105677604675293,0.011316299438476562,0.012476444244384766,0.014269471168518066,0.011577844619750977,0.011563539505004883,0.013743400573730469,0.013414144515991211,0.013202667236328125,0.013128280639648438,0.012613415718078613,0.013010025024414062,0.010645747184753418,0.012097835540771484,0.01204836368560791,0.012024164199829102,0.012331604957580566,0.011850714683532715,0.01354360580444336,0.01145780086517334,0.013225078582763672,0.013083100318908691,0.012001752853393555,0.012036442756652832,0.01073300838470459,0.01242685317993164,0.011361360549926758,0.013249874114990234,0.01302957534790039,0.012577652931213379,0.012421131134033203,0.014272928237915039,0.012693166732788086,0.012532472610473633,0.012450218200683594,0.012790203094482422,0.01368570327758789,0.01181173324584961,0.012559175491333008,0.012567400932312012,0.013068079948425293,0.013915061950683594,0.012578129768371582,0.011772871017456055,0.011951565742492676,0.012581706047058105,0.011166214942932129,0.01089620590209961,0.01054227352142334,0.012478470802307129,0.012562155723571777,0.011807680130004883,0.013114452362060547,0.011943221092224121,0.013147830963134766,0.011205673217773438,0.011281490325927734,0.011747479438781738,0.01190638542175293,0.012591004371643066,0.012734413146972656,0.012891411781311035,0.012835025787353516,0.013016223907470703,0.012907147407531738,0.010881543159484863,0.011733293533325195,0.010570764541625977,0.011236310005187988,0.01187586784362793,0.011377334594726562,0.011207103729248047,0.012399554252624512,0.011366009712219238,0.011710166931152344,0.011269211769104004,0.011814236640930176,0.01294410228729248,0.010098695755004883,0.011331319808959961,0.010035037994384766,0.013064861297607422,0.011932969093322754,0.011025667190551758,0.012850046157836914,0.01176142692565918,0.01094961166381836,0.011093616485595703,0.011511445045471191,0.011138677597045898,0.010097026824951172,0.011586546897888184,0.011024236679077148,0.012662172317504883,0.011096835136413574,0.011855244636535645,0.011876940727233887,0.0126495361328125,0.010412096977233887,0.00993812084197998,0.01144707202911377,0.008698701858520508,0.011396288871765137,0.01144719123840332,0.010711193084716797,0.008925199508666992,0.010273098945617676,0.0096893310546875,0.0112687349319458,0.009235978126525879,0.009734153747558594,0.011543750762939453,0.00980985164642334,0.007969021797180176,0.009314775466918945,0.010425448417663574,0.010956525802612305,0.010410785675048828,0.010326027870178223,0.011531710624694824,0.011304378509521484,0.009734511375427246,0.009941339492797852,0.01113438606262207,0.010799884796142578,0.010181307792663574,0.008894801139831543,0.009584903717041016,0.01011812686920166,0.009627461433410645,0.009574651718139648,0.008982300758361816,0.009378671646118164,0.007463812828063965,0.009864091873168945,0.009491920471191406,0.008665323257446289,0.009574651718139648,0.009958386421203613,0.008910775184631348,0.008644580841064453,0.007385849952697754,0.007031559944152832,0.010464906692504883,0.009491562843322754,0.009046196937561035,0.007454395294189453,0.008054971694946289,0.006278276443481445,0.008539438247680664,0.007223248481750488,0.0066509246826171875,0.008173465728759766,0.00789952278137207,0.007407069206237793,0.006594538688659668,0.007508397102355957,0.006134152412414551],\"type\":\"scatter\"},{\"line\":{\"color\":\"green\",\"width\":2},\"mode\":\"lines\",\"name\":\"Test returns\",\"x\":[\"2023-08-01\",\"2023-09-01\",\"2023-10-01\",\"2023-11-01\",\"2023-12-01\",\"2024-01-01\",\"2024-02-01\",\"2024-03-01\",\"2024-04-01\",\"2024-05-01\",\"2024-06-01\",\"2024-07-01\",\"2024-08-01\"],\"y\":[0.006134152412414551,0.005409717559814453,0.005644321441650391,0.00592803955078125,0.005762815475463867,0.005023598670959473,0.005212068557739258,0.0049533843994140625,0.005070686340332031,0.005040764808654785,0.00541841983795166,0.004271030426025391,0.003912091255187988],\"type\":\"scatter\"}],                        {\"template\":{\"data\":{\"barpolar\":[{\"marker\":{\"line\":{\"color\":\"white\",\"width\":0.5},\"pattern\":{\"fillmode\":\"overlay\",\"size\":10,\"solidity\":0.2}},\"type\":\"barpolar\"}],\"bar\":[{\"error_x\":{\"color\":\"#2a3f5f\"},\"error_y\":{\"color\":\"#2a3f5f\"},\"marker\":{\"line\":{\"color\":\"white\",\"width\":0.5},\"pattern\":{\"fillmode\":\"overlay\",\"size\":10,\"solidity\":0.2}},\"type\":\"bar\"}],\"carpet\":[{\"aaxis\":{\"endlinecolor\":\"#2a3f5f\",\"gridcolor\":\"#C8D4E3\",\"linecolor\":\"#C8D4E3\",\"minorgridcolor\":\"#C8D4E3\",\"startlinecolor\":\"#2a3f5f\"},\"baxis\":{\"endlinecolor\":\"#2a3f5f\",\"gridcolor\":\"#C8D4E3\",\"linecolor\":\"#C8D4E3\",\"minorgridcolor\":\"#C8D4E3\",\"startlinecolor\":\"#2a3f5f\"},\"type\":\"carpet\"}],\"choropleth\":[{\"colorbar\":{\"outlinewidth\":0,\"ticks\":\"\"},\"type\":\"choropleth\"}],\"contourcarpet\":[{\"colorbar\":{\"outlinewidth\":0,\"ticks\":\"\"},\"type\":\"contourcarpet\"}],\"contour\":[{\"colorbar\":{\"outlinewidth\":0,\"ticks\":\"\"},\"colorscale\":[[0.0,\"#0d0887\"],[0.1111111111111111,\"#46039f\"],[0.2222222222222222,\"#7201a8\"],[0.3333333333333333,\"#9c179e\"],[0.4444444444444444,\"#bd3786\"],[0.5555555555555556,\"#d8576b\"],[0.6666666666666666,\"#ed7953\"],[0.7777777777777778,\"#fb9f3a\"],[0.8888888888888888,\"#fdca26\"],[1.0,\"#f0f921\"]],\"type\":\"contour\"}],\"heatmapgl\":[{\"colorbar\":{\"outlinewidth\":0,\"ticks\":\"\"},\"colorscale\":[[0.0,\"#0d0887\"],[0.1111111111111111,\"#46039f\"],[0.2222222222222222,\"#7201a8\"],[0.3333333333333333,\"#9c179e\"],[0.4444444444444444,\"#bd3786\"],[0.5555555555555556,\"#d8576b\"],[0.6666666666666666,\"#ed7953\"],[0.7777777777777778,\"#fb9f3a\"],[0.8888888888888888,\"#fdca26\"],[1.0,\"#f0f921\"]],\"type\":\"heatmapgl\"}],\"heatmap\":[{\"colorbar\":{\"outlinewidth\":0,\"ticks\":\"\"},\"colorscale\":[[0.0,\"#0d0887\"],[0.1111111111111111,\"#46039f\"],[0.2222222222222222,\"#7201a8\"],[0.3333333333333333,\"#9c179e\"],[0.4444444444444444,\"#bd3786\"],[0.5555555555555556,\"#d8576b\"],[0.6666666666666666,\"#ed7953\"],[0.7777777777777778,\"#fb9f3a\"],[0.8888888888888888,\"#fdca26\"],[1.0,\"#f0f921\"]],\"type\":\"heatmap\"}],\"histogram2dcontour\":[{\"colorbar\":{\"outlinewidth\":0,\"ticks\":\"\"},\"colorscale\":[[0.0,\"#0d0887\"],[0.1111111111111111,\"#46039f\"],[0.2222222222222222,\"#7201a8\"],[0.3333333333333333,\"#9c179e\"],[0.4444444444444444,\"#bd3786\"],[0.5555555555555556,\"#d8576b\"],[0.6666666666666666,\"#ed7953\"],[0.7777777777777778,\"#fb9f3a\"],[0.8888888888888888,\"#fdca26\"],[1.0,\"#f0f921\"]],\"type\":\"histogram2dcontour\"}],\"histogram2d\":[{\"colorbar\":{\"outlinewidth\":0,\"ticks\":\"\"},\"colorscale\":[[0.0,\"#0d0887\"],[0.1111111111111111,\"#46039f\"],[0.2222222222222222,\"#7201a8\"],[0.3333333333333333,\"#9c179e\"],[0.4444444444444444,\"#bd3786\"],[0.5555555555555556,\"#d8576b\"],[0.6666666666666666,\"#ed7953\"],[0.7777777777777778,\"#fb9f3a\"],[0.8888888888888888,\"#fdca26\"],[1.0,\"#f0f921\"]],\"type\":\"histogram2d\"}],\"histogram\":[{\"marker\":{\"pattern\":{\"fillmode\":\"overlay\",\"size\":10,\"solidity\":0.2}},\"type\":\"histogram\"}],\"mesh3d\":[{\"colorbar\":{\"outlinewidth\":0,\"ticks\":\"\"},\"type\":\"mesh3d\"}],\"parcoords\":[{\"line\":{\"colorbar\":{\"outlinewidth\":0,\"ticks\":\"\"}},\"type\":\"parcoords\"}],\"pie\":[{\"automargin\":true,\"type\":\"pie\"}],\"scatter3d\":[{\"line\":{\"colorbar\":{\"outlinewidth\":0,\"ticks\":\"\"}},\"marker\":{\"colorbar\":{\"outlinewidth\":0,\"ticks\":\"\"}},\"type\":\"scatter3d\"}],\"scattercarpet\":[{\"marker\":{\"colorbar\":{\"outlinewidth\":0,\"ticks\":\"\"}},\"type\":\"scattercarpet\"}],\"scattergeo\":[{\"marker\":{\"colorbar\":{\"outlinewidth\":0,\"ticks\":\"\"}},\"type\":\"scattergeo\"}],\"scattergl\":[{\"marker\":{\"colorbar\":{\"outlinewidth\":0,\"ticks\":\"\"}},\"type\":\"scattergl\"}],\"scattermapbox\":[{\"marker\":{\"colorbar\":{\"outlinewidth\":0,\"ticks\":\"\"}},\"type\":\"scattermapbox\"}],\"scatterpolargl\":[{\"marker\":{\"colorbar\":{\"outlinewidth\":0,\"ticks\":\"\"}},\"type\":\"scatterpolargl\"}],\"scatterpolar\":[{\"marker\":{\"colorbar\":{\"outlinewidth\":0,\"ticks\":\"\"}},\"type\":\"scatterpolar\"}],\"scatter\":[{\"fillpattern\":{\"fillmode\":\"overlay\",\"size\":10,\"solidity\":0.2},\"type\":\"scatter\"}],\"scatterternary\":[{\"marker\":{\"colorbar\":{\"outlinewidth\":0,\"ticks\":\"\"}},\"type\":\"scatterternary\"}],\"surface\":[{\"colorbar\":{\"outlinewidth\":0,\"ticks\":\"\"},\"colorscale\":[[0.0,\"#0d0887\"],[0.1111111111111111,\"#46039f\"],[0.2222222222222222,\"#7201a8\"],[0.3333333333333333,\"#9c179e\"],[0.4444444444444444,\"#bd3786\"],[0.5555555555555556,\"#d8576b\"],[0.6666666666666666,\"#ed7953\"],[0.7777777777777778,\"#fb9f3a\"],[0.8888888888888888,\"#fdca26\"],[1.0,\"#f0f921\"]],\"type\":\"surface\"}],\"table\":[{\"cells\":{\"fill\":{\"color\":\"#EBF0F8\"},\"line\":{\"color\":\"white\"}},\"header\":{\"fill\":{\"color\":\"#C8D4E3\"},\"line\":{\"color\":\"white\"}},\"type\":\"table\"}]},\"layout\":{\"annotationdefaults\":{\"arrowcolor\":\"#2a3f5f\",\"arrowhead\":0,\"arrowwidth\":1},\"autotypenumbers\":\"strict\",\"coloraxis\":{\"colorbar\":{\"outlinewidth\":0,\"ticks\":\"\"}},\"colorscale\":{\"diverging\":[[0,\"#8e0152\"],[0.1,\"#c51b7d\"],[0.2,\"#de77ae\"],[0.3,\"#f1b6da\"],[0.4,\"#fde0ef\"],[0.5,\"#f7f7f7\"],[0.6,\"#e6f5d0\"],[0.7,\"#b8e186\"],[0.8,\"#7fbc41\"],[0.9,\"#4d9221\"],[1,\"#276419\"]],\"sequential\":[[0.0,\"#0d0887\"],[0.1111111111111111,\"#46039f\"],[0.2222222222222222,\"#7201a8\"],[0.3333333333333333,\"#9c179e\"],[0.4444444444444444,\"#bd3786\"],[0.5555555555555556,\"#d8576b\"],[0.6666666666666666,\"#ed7953\"],[0.7777777777777778,\"#fb9f3a\"],[0.8888888888888888,\"#fdca26\"],[1.0,\"#f0f921\"]],\"sequentialminus\":[[0.0,\"#0d0887\"],[0.1111111111111111,\"#46039f\"],[0.2222222222222222,\"#7201a8\"],[0.3333333333333333,\"#9c179e\"],[0.4444444444444444,\"#bd3786\"],[0.5555555555555556,\"#d8576b\"],[0.6666666666666666,\"#ed7953\"],[0.7777777777777778,\"#fb9f3a\"],[0.8888888888888888,\"#fdca26\"],[1.0,\"#f0f921\"]]},\"colorway\":[\"#636efa\",\"#EF553B\",\"#00cc96\",\"#ab63fa\",\"#FFA15A\",\"#19d3f3\",\"#FF6692\",\"#B6E880\",\"#FF97FF\",\"#FECB52\"],\"font\":{\"color\":\"#2a3f5f\"},\"geo\":{\"bgcolor\":\"white\",\"lakecolor\":\"white\",\"landcolor\":\"white\",\"showlakes\":true,\"showland\":true,\"subunitcolor\":\"#C8D4E3\"},\"hoverlabel\":{\"align\":\"left\"},\"hovermode\":\"closest\",\"mapbox\":{\"style\":\"light\"},\"paper_bgcolor\":\"white\",\"plot_bgcolor\":\"white\",\"polar\":{\"angularaxis\":{\"gridcolor\":\"#EBF0F8\",\"linecolor\":\"#EBF0F8\",\"ticks\":\"\"},\"bgcolor\":\"white\",\"radialaxis\":{\"gridcolor\":\"#EBF0F8\",\"linecolor\":\"#EBF0F8\",\"ticks\":\"\"}},\"scene\":{\"xaxis\":{\"backgroundcolor\":\"white\",\"gridcolor\":\"#DFE8F3\",\"gridwidth\":2,\"linecolor\":\"#EBF0F8\",\"showbackground\":true,\"ticks\":\"\",\"zerolinecolor\":\"#EBF0F8\"},\"yaxis\":{\"backgroundcolor\":\"white\",\"gridcolor\":\"#DFE8F3\",\"gridwidth\":2,\"linecolor\":\"#EBF0F8\",\"showbackground\":true,\"ticks\":\"\",\"zerolinecolor\":\"#EBF0F8\"},\"zaxis\":{\"backgroundcolor\":\"white\",\"gridcolor\":\"#DFE8F3\",\"gridwidth\":2,\"linecolor\":\"#EBF0F8\",\"showbackground\":true,\"ticks\":\"\",\"zerolinecolor\":\"#EBF0F8\"}},\"shapedefaults\":{\"line\":{\"color\":\"#2a3f5f\"}},\"ternary\":{\"aaxis\":{\"gridcolor\":\"#DFE8F3\",\"linecolor\":\"#A2B1C6\",\"ticks\":\"\"},\"baxis\":{\"gridcolor\":\"#DFE8F3\",\"linecolor\":\"#A2B1C6\",\"ticks\":\"\"},\"bgcolor\":\"white\",\"caxis\":{\"gridcolor\":\"#DFE8F3\",\"linecolor\":\"#A2B1C6\",\"ticks\":\"\"}},\"title\":{\"x\":0.05},\"xaxis\":{\"automargin\":true,\"gridcolor\":\"#EBF0F8\",\"linecolor\":\"#EBF0F8\",\"ticks\":\"\",\"title\":{\"standoff\":15},\"zerolinecolor\":\"#EBF0F8\",\"zerolinewidth\":2},\"yaxis\":{\"automargin\":true,\"gridcolor\":\"#EBF0F8\",\"linecolor\":\"#EBF0F8\",\"ticks\":\"\",\"title\":{\"standoff\":15},\"zerolinecolor\":\"#EBF0F8\",\"zerolinewidth\":2}}},\"shapes\":[{\"line\":{\"color\":\"red\",\"dash\":\"dash\",\"width\":1},\"type\":\"line\",\"x0\":\"2023-08-01\",\"x1\":\"2023-08-01\",\"xref\":\"x\",\"y0\":0,\"y1\":1,\"yref\":\"y domain\"}],\"yaxis\":{\"title\":{\"text\":\"Day closing return (%)\"},\"tickformat\":\".0%\",\"range\":[-0.25,0.6]},\"title\":{\"text\":\"12 Month Prediction vs Actual Plot\"},\"xaxis\":{\"title\":{\"text\":\"Date\"}},\"legend\":{\"title\":{\"text\":\"Legend\"}}},                        {\"responsive\": true}                    ).then(function(){\n",
       "                            \n",
       "var gd = document.getElementById('a6939cdc-ae18-4fe6-8085-8ccd512695f7');\n",
       "var x = new MutationObserver(function (mutations, observer) {{\n",
       "        var display = window.getComputedStyle(gd).display;\n",
       "        if (!display || display === 'none') {{\n",
       "            console.log([gd, 'removed!']);\n",
       "            Plotly.purge(gd);\n",
       "            observer.disconnect();\n",
       "        }}\n",
       "}});\n",
       "\n",
       "// Listen for the removal of the full notebook cells\n",
       "var notebookContainer = gd.closest('#notebook-container');\n",
       "if (notebookContainer) {{\n",
       "    x.observe(notebookContainer, {childList: true});\n",
       "}}\n",
       "\n",
       "// Listen for the clearing of the current output cell\n",
       "var outputEl = gd.closest('.output');\n",
       "if (outputEl) {{\n",
       "    x.observe(outputEl, {childList: true});\n",
       "}}\n",
       "\n",
       "                        })                };                });            </script>        </div>"
      ]
     },
     "metadata": {},
     "output_type": "display_data"
    }
   ],
   "execution_count": 584
  },
  {
   "metadata": {},
   "cell_type": "markdown",
   "source": "#### Allocation - 12 Months",
   "id": "5e2c80c8090b26d"
  },
  {
   "metadata": {
    "ExecuteTime": {
     "end_time": "2025-06-15T15:57:24.036132Z",
     "start_time": "2025-06-15T15:57:23.960241Z"
    }
   },
   "cell_type": "code",
   "source": [
    "importlib.reload(mpt_utils)\n",
    "\n",
    "# Get train true values followed with predicted month/s\n",
    "y_train_12m_list = y_train_12m['m_return_target(t+12)'].tolist()\n",
    "y_test_12m_list = y_test_pred_12m.tolist()\n",
    "#\n",
    "df_to_evaluate_12m = mpt_utils.get_df_from_pred_list(df_pct, y_train_12m_list, y_test_12m_list)\n",
    "df_to_evaluate_12m = df_to_evaluate_12m - 1\n",
    "df_to_evaluate_12m"
   ],
   "id": "df6a53c2136de427",
   "outputs": [
    {
     "data": {
      "text/plain": [
       "          GME    2124.T    2491.T    2471.T    3046.T    PAT.DE      CROX  \\\n",
       "0    0.000000 -0.030000  0.090000  0.060000  0.260000  0.120000  0.200000   \n",
       "1    0.000000  0.000000  0.000000  0.000000  0.000000  0.000000  0.000000   \n",
       "2    0.000000 -0.040000 -0.050000 -0.070000 -0.220000 -0.130000 -0.170000   \n",
       "3    0.000000 -0.030000  0.080000  0.060000  0.310000  0.120000  0.200000   \n",
       "4   -0.010000  0.010000  0.050000  0.030000  0.940000  0.150000  0.390000   \n",
       "..        ...       ...       ...       ...       ...       ...       ...   \n",
       "281  0.005160  0.004145  0.005707 -0.028453  0.047851 -0.012776 -0.000763   \n",
       "282  0.004827  0.004389 -0.001850 -0.043974  0.064979 -0.017273  0.010151   \n",
       "283  0.008426  0.009897  0.012172  0.040293  0.048329 -0.015888  0.000665   \n",
       "284  0.006970  0.008440  0.023672  0.036633  0.036615 -0.008935  0.011481   \n",
       "285  0.003280  0.004750  0.022713  0.025257  0.039514 -0.026574  0.013199   \n",
       "\n",
       "       AOF.DE    SFQ.DE       DAN  ...      KREF     HLN.L       DBX  \\\n",
       "0    0.370000  0.110000  0.070000  ...  0.000000  0.000000  0.000000   \n",
       "1   -0.040000  0.000000  0.000000  ...  0.000000  0.000000  0.000000   \n",
       "2    0.260000 -0.090000 -0.090000  ...  0.000000  0.000000  0.000000   \n",
       "3   -0.140000  0.110000  0.070000  ...  0.000000  0.000000  0.000000   \n",
       "4    0.200000  0.000000  0.550000  ...  0.000000  0.000000  0.000000   \n",
       "..        ...       ...       ...  ...       ...       ...       ...   \n",
       "281  0.017925  0.006538  0.009805  ...  0.012536  0.008539  0.010313   \n",
       "282  0.006042  0.000906  0.013253  ...  0.013468  0.011194  0.013241   \n",
       "283 -0.003162 -0.000365  0.011145  ...  0.013164  0.007868  0.010869   \n",
       "284 -0.034219 -0.032748  0.010293  ...  0.008457 -0.000083  0.004236   \n",
       "285 -0.036489 -0.030857  0.011406  ...  0.011919  0.003154  0.003918   \n",
       "\n",
       "          BNL       CBL      KVUE      PSTL      NTST      BLCO     NBS.L  \n",
       "0    0.000000  0.000000  0.000000  0.000000  0.000000  0.000000  0.000000  \n",
       "1    0.010000  0.000000  0.000000  0.000000  0.000000  0.000000  0.000000  \n",
       "2    0.000000  0.000000  0.000000  0.000000  0.000000  0.000000  0.000000  \n",
       "3    0.000000  0.000000  0.000000  0.000000  0.000000  0.000000  0.000000  \n",
       "4    0.000000  0.000000  0.000000  0.000000  0.000000  0.000000  0.000000  \n",
       "..        ...       ...       ...       ...       ...       ...       ...  \n",
       "281  0.013142  0.004914  0.005151  0.021398  0.000597  0.019595 -0.000872  \n",
       "282  0.019144  0.008845  0.007677  0.025460  0.002750  0.015762  0.032114  \n",
       "283  0.014406 -0.011300  0.005375  0.023157 -0.000423  0.015072  0.053478  \n",
       "284  0.010833  0.018955 -0.025632  0.013041 -0.015869  0.011455  0.003850  \n",
       "285  0.006592  0.008719 -0.032134  0.010564 -0.018346 -0.001606  0.014416  \n",
       "\n",
       "[286 rows x 1332 columns]"
      ],
      "text/html": [
       "<div>\n",
       "<style scoped>\n",
       "    .dataframe tbody tr th:only-of-type {\n",
       "        vertical-align: middle;\n",
       "    }\n",
       "\n",
       "    .dataframe tbody tr th {\n",
       "        vertical-align: top;\n",
       "    }\n",
       "\n",
       "    .dataframe thead th {\n",
       "        text-align: right;\n",
       "    }\n",
       "</style>\n",
       "<table border=\"1\" class=\"dataframe\">\n",
       "  <thead>\n",
       "    <tr style=\"text-align: right;\">\n",
       "      <th></th>\n",
       "      <th>GME</th>\n",
       "      <th>2124.T</th>\n",
       "      <th>2491.T</th>\n",
       "      <th>2471.T</th>\n",
       "      <th>3046.T</th>\n",
       "      <th>PAT.DE</th>\n",
       "      <th>CROX</th>\n",
       "      <th>AOF.DE</th>\n",
       "      <th>SFQ.DE</th>\n",
       "      <th>DAN</th>\n",
       "      <th>...</th>\n",
       "      <th>KREF</th>\n",
       "      <th>HLN.L</th>\n",
       "      <th>DBX</th>\n",
       "      <th>BNL</th>\n",
       "      <th>CBL</th>\n",
       "      <th>KVUE</th>\n",
       "      <th>PSTL</th>\n",
       "      <th>NTST</th>\n",
       "      <th>BLCO</th>\n",
       "      <th>NBS.L</th>\n",
       "    </tr>\n",
       "  </thead>\n",
       "  <tbody>\n",
       "    <tr>\n",
       "      <th>0</th>\n",
       "      <td>0.000000</td>\n",
       "      <td>-0.030000</td>\n",
       "      <td>0.090000</td>\n",
       "      <td>0.060000</td>\n",
       "      <td>0.260000</td>\n",
       "      <td>0.120000</td>\n",
       "      <td>0.200000</td>\n",
       "      <td>0.370000</td>\n",
       "      <td>0.110000</td>\n",
       "      <td>0.070000</td>\n",
       "      <td>...</td>\n",
       "      <td>0.000000</td>\n",
       "      <td>0.000000</td>\n",
       "      <td>0.000000</td>\n",
       "      <td>0.000000</td>\n",
       "      <td>0.000000</td>\n",
       "      <td>0.000000</td>\n",
       "      <td>0.000000</td>\n",
       "      <td>0.000000</td>\n",
       "      <td>0.000000</td>\n",
       "      <td>0.000000</td>\n",
       "    </tr>\n",
       "    <tr>\n",
       "      <th>1</th>\n",
       "      <td>0.000000</td>\n",
       "      <td>0.000000</td>\n",
       "      <td>0.000000</td>\n",
       "      <td>0.000000</td>\n",
       "      <td>0.000000</td>\n",
       "      <td>0.000000</td>\n",
       "      <td>0.000000</td>\n",
       "      <td>-0.040000</td>\n",
       "      <td>0.000000</td>\n",
       "      <td>0.000000</td>\n",
       "      <td>...</td>\n",
       "      <td>0.000000</td>\n",
       "      <td>0.000000</td>\n",
       "      <td>0.000000</td>\n",
       "      <td>0.010000</td>\n",
       "      <td>0.000000</td>\n",
       "      <td>0.000000</td>\n",
       "      <td>0.000000</td>\n",
       "      <td>0.000000</td>\n",
       "      <td>0.000000</td>\n",
       "      <td>0.000000</td>\n",
       "    </tr>\n",
       "    <tr>\n",
       "      <th>2</th>\n",
       "      <td>0.000000</td>\n",
       "      <td>-0.040000</td>\n",
       "      <td>-0.050000</td>\n",
       "      <td>-0.070000</td>\n",
       "      <td>-0.220000</td>\n",
       "      <td>-0.130000</td>\n",
       "      <td>-0.170000</td>\n",
       "      <td>0.260000</td>\n",
       "      <td>-0.090000</td>\n",
       "      <td>-0.090000</td>\n",
       "      <td>...</td>\n",
       "      <td>0.000000</td>\n",
       "      <td>0.000000</td>\n",
       "      <td>0.000000</td>\n",
       "      <td>0.000000</td>\n",
       "      <td>0.000000</td>\n",
       "      <td>0.000000</td>\n",
       "      <td>0.000000</td>\n",
       "      <td>0.000000</td>\n",
       "      <td>0.000000</td>\n",
       "      <td>0.000000</td>\n",
       "    </tr>\n",
       "    <tr>\n",
       "      <th>3</th>\n",
       "      <td>0.000000</td>\n",
       "      <td>-0.030000</td>\n",
       "      <td>0.080000</td>\n",
       "      <td>0.060000</td>\n",
       "      <td>0.310000</td>\n",
       "      <td>0.120000</td>\n",
       "      <td>0.200000</td>\n",
       "      <td>-0.140000</td>\n",
       "      <td>0.110000</td>\n",
       "      <td>0.070000</td>\n",
       "      <td>...</td>\n",
       "      <td>0.000000</td>\n",
       "      <td>0.000000</td>\n",
       "      <td>0.000000</td>\n",
       "      <td>0.000000</td>\n",
       "      <td>0.000000</td>\n",
       "      <td>0.000000</td>\n",
       "      <td>0.000000</td>\n",
       "      <td>0.000000</td>\n",
       "      <td>0.000000</td>\n",
       "      <td>0.000000</td>\n",
       "    </tr>\n",
       "    <tr>\n",
       "      <th>4</th>\n",
       "      <td>-0.010000</td>\n",
       "      <td>0.010000</td>\n",
       "      <td>0.050000</td>\n",
       "      <td>0.030000</td>\n",
       "      <td>0.940000</td>\n",
       "      <td>0.150000</td>\n",
       "      <td>0.390000</td>\n",
       "      <td>0.200000</td>\n",
       "      <td>0.000000</td>\n",
       "      <td>0.550000</td>\n",
       "      <td>...</td>\n",
       "      <td>0.000000</td>\n",
       "      <td>0.000000</td>\n",
       "      <td>0.000000</td>\n",
       "      <td>0.000000</td>\n",
       "      <td>0.000000</td>\n",
       "      <td>0.000000</td>\n",
       "      <td>0.000000</td>\n",
       "      <td>0.000000</td>\n",
       "      <td>0.000000</td>\n",
       "      <td>0.000000</td>\n",
       "    </tr>\n",
       "    <tr>\n",
       "      <th>...</th>\n",
       "      <td>...</td>\n",
       "      <td>...</td>\n",
       "      <td>...</td>\n",
       "      <td>...</td>\n",
       "      <td>...</td>\n",
       "      <td>...</td>\n",
       "      <td>...</td>\n",
       "      <td>...</td>\n",
       "      <td>...</td>\n",
       "      <td>...</td>\n",
       "      <td>...</td>\n",
       "      <td>...</td>\n",
       "      <td>...</td>\n",
       "      <td>...</td>\n",
       "      <td>...</td>\n",
       "      <td>...</td>\n",
       "      <td>...</td>\n",
       "      <td>...</td>\n",
       "      <td>...</td>\n",
       "      <td>...</td>\n",
       "      <td>...</td>\n",
       "    </tr>\n",
       "    <tr>\n",
       "      <th>281</th>\n",
       "      <td>0.005160</td>\n",
       "      <td>0.004145</td>\n",
       "      <td>0.005707</td>\n",
       "      <td>-0.028453</td>\n",
       "      <td>0.047851</td>\n",
       "      <td>-0.012776</td>\n",
       "      <td>-0.000763</td>\n",
       "      <td>0.017925</td>\n",
       "      <td>0.006538</td>\n",
       "      <td>0.009805</td>\n",
       "      <td>...</td>\n",
       "      <td>0.012536</td>\n",
       "      <td>0.008539</td>\n",
       "      <td>0.010313</td>\n",
       "      <td>0.013142</td>\n",
       "      <td>0.004914</td>\n",
       "      <td>0.005151</td>\n",
       "      <td>0.021398</td>\n",
       "      <td>0.000597</td>\n",
       "      <td>0.019595</td>\n",
       "      <td>-0.000872</td>\n",
       "    </tr>\n",
       "    <tr>\n",
       "      <th>282</th>\n",
       "      <td>0.004827</td>\n",
       "      <td>0.004389</td>\n",
       "      <td>-0.001850</td>\n",
       "      <td>-0.043974</td>\n",
       "      <td>0.064979</td>\n",
       "      <td>-0.017273</td>\n",
       "      <td>0.010151</td>\n",
       "      <td>0.006042</td>\n",
       "      <td>0.000906</td>\n",
       "      <td>0.013253</td>\n",
       "      <td>...</td>\n",
       "      <td>0.013468</td>\n",
       "      <td>0.011194</td>\n",
       "      <td>0.013241</td>\n",
       "      <td>0.019144</td>\n",
       "      <td>0.008845</td>\n",
       "      <td>0.007677</td>\n",
       "      <td>0.025460</td>\n",
       "      <td>0.002750</td>\n",
       "      <td>0.015762</td>\n",
       "      <td>0.032114</td>\n",
       "    </tr>\n",
       "    <tr>\n",
       "      <th>283</th>\n",
       "      <td>0.008426</td>\n",
       "      <td>0.009897</td>\n",
       "      <td>0.012172</td>\n",
       "      <td>0.040293</td>\n",
       "      <td>0.048329</td>\n",
       "      <td>-0.015888</td>\n",
       "      <td>0.000665</td>\n",
       "      <td>-0.003162</td>\n",
       "      <td>-0.000365</td>\n",
       "      <td>0.011145</td>\n",
       "      <td>...</td>\n",
       "      <td>0.013164</td>\n",
       "      <td>0.007868</td>\n",
       "      <td>0.010869</td>\n",
       "      <td>0.014406</td>\n",
       "      <td>-0.011300</td>\n",
       "      <td>0.005375</td>\n",
       "      <td>0.023157</td>\n",
       "      <td>-0.000423</td>\n",
       "      <td>0.015072</td>\n",
       "      <td>0.053478</td>\n",
       "    </tr>\n",
       "    <tr>\n",
       "      <th>284</th>\n",
       "      <td>0.006970</td>\n",
       "      <td>0.008440</td>\n",
       "      <td>0.023672</td>\n",
       "      <td>0.036633</td>\n",
       "      <td>0.036615</td>\n",
       "      <td>-0.008935</td>\n",
       "      <td>0.011481</td>\n",
       "      <td>-0.034219</td>\n",
       "      <td>-0.032748</td>\n",
       "      <td>0.010293</td>\n",
       "      <td>...</td>\n",
       "      <td>0.008457</td>\n",
       "      <td>-0.000083</td>\n",
       "      <td>0.004236</td>\n",
       "      <td>0.010833</td>\n",
       "      <td>0.018955</td>\n",
       "      <td>-0.025632</td>\n",
       "      <td>0.013041</td>\n",
       "      <td>-0.015869</td>\n",
       "      <td>0.011455</td>\n",
       "      <td>0.003850</td>\n",
       "    </tr>\n",
       "    <tr>\n",
       "      <th>285</th>\n",
       "      <td>0.003280</td>\n",
       "      <td>0.004750</td>\n",
       "      <td>0.022713</td>\n",
       "      <td>0.025257</td>\n",
       "      <td>0.039514</td>\n",
       "      <td>-0.026574</td>\n",
       "      <td>0.013199</td>\n",
       "      <td>-0.036489</td>\n",
       "      <td>-0.030857</td>\n",
       "      <td>0.011406</td>\n",
       "      <td>...</td>\n",
       "      <td>0.011919</td>\n",
       "      <td>0.003154</td>\n",
       "      <td>0.003918</td>\n",
       "      <td>0.006592</td>\n",
       "      <td>0.008719</td>\n",
       "      <td>-0.032134</td>\n",
       "      <td>0.010564</td>\n",
       "      <td>-0.018346</td>\n",
       "      <td>-0.001606</td>\n",
       "      <td>0.014416</td>\n",
       "    </tr>\n",
       "  </tbody>\n",
       "</table>\n",
       "<p>286 rows × 1332 columns</p>\n",
       "</div>"
      ]
     },
     "execution_count": 585,
     "metadata": {},
     "output_type": "execute_result"
    }
   ],
   "execution_count": 585
  },
  {
   "metadata": {
    "ExecuteTime": {
     "end_time": "2025-06-15T15:57:28.998917Z",
     "start_time": "2025-06-15T15:57:24.049711Z"
    }
   },
   "cell_type": "code",
   "source": [
    "importlib.reload(mpt_utils)\n",
    "\n",
    "weights_12m, mu_12m, S_12m, weights_all_12m = mpt_utils.portfolio_and_plot(df_to_evaluate_12m, df)"
   ],
   "id": "6367050d5901b14e",
   "outputs": [
    {
     "name": "stdout",
     "output_type": "stream",
     "text": [
      "Expected annual return: 15.6%\n",
      "Annual volatility: 0.6%\n",
      "Sharpe Ratio: 24.38\n",
      "-- Allocation --\n",
      "{'3046.T': 1, 'GPI': 1, '3086.T': 3, 'CLFD': 1, 'NOVT': 1, 'NHI': 1, 'PRGS': 1, 'AN': 1, 'MRTN': 1, 'NL': 7, 'MONY.L': 1, 'ES': 1, 'WSM': 1, 'RSG': 1, 'HLCL.L': 1, 'BMY.L': 1, 'AMT': 1, 'ARES': 1, 'NNN': 1, 'UTG.L': 1, 'A': 1, '9729.T': 2, '8955.T': 1, 'BNR.DE': 1, 'LYB': 1, '7832.T': 1, '7915.T': 2, 'ESS': 1, 'ROKU': 1, 'ORLY': 1, '5334.T': 1, 'HAS': 1, '4151.T': 1, 'PDCO': 1, '5105.T': 1, '3738.T': 1, 'JHG': 1, 'RBLX': 1, '2120.T': 13, 'AGNC': 3, '8802.T': 1, '3107.T': 1, 'ZUMZ': 1, 'LADR': 1, 'OSPN': 2, '4745.T': 4, 'UNFI': 1, '8150.T': 1, '2154.T': 1, '4751.T': 2, '6471.T': 2, '4549.T': 1, 'HR': 1, '7976.T': 1, 'GPS': 1, 'IRT': 1, 'WU': 1, '8219.T': 1, 'EVRI': 1, 'DAKT': 1, 'DXLG': 3, '8897.T': 4, 'OUT': 1, 'SBRA': 1, 'KW': 1, 'WWW': 1, '7250.T': 1, 'ROIC': 1, '7732.T': 1, '3048.T': 1, '7955.T': 2, 'WSR': 1, '2471.T': 5, 'TAL': 1, 'OSW': 1, '7294.T': 2, '5110.T': 1, 'RELL': 1, 'MIR': 1, '5970.T': 1, '8439.T': 1, 'MPX': 1, 'ACEL': 1, 'PMT': 1, '4732.T': 1, 'EFC': 1, '7508.T': 1, 'CEC.DE': 5, '3608.T': 2, 'APLD': 2, 'SBH': 1, 'CATO': 1, 'BDN': 3, '6200.T': 1, 'PSM.DE': 1, 'KREF': 1, '7868.T': 2, 'MPW': 2, '2433.T': 1, 'UAA': 1, 'HLX': 1, '3151.T': 1, 'RITM': 1, '8086.T': 1, '6417.T': 1, 'MAC': 1, 'LXP': 1, 'AHH': 1, 'SVC': 1, '2874.T': 1, 'SHO': 1, 'TILE': 1, 'RWT': 1, '9470.T': 1, '7575.T': 1, '2389.T': 1, 'ARHS': 1, '8141.T': 1, '3402.T': 1, '3289.T': 1, 'BGC': 1, 'PDM': 1, '2124.T': 1, '6644.T': 1, 'INS.DE': 1, 'AOX.DE': 2, '7599.T': 1, '9474.T': 1, 'INN': 1, 'DHC': 1}\n",
      "-- Weights Percentage --\n",
      "{'3046.T': 0.0256, 'GPI': 0.0236, 'Other(128)': 0.9508}\n"
     ]
    },
    {
     "name": "stderr",
     "output_type": "stream",
     "text": [
      "/Users/herbishtini/anaconda3/envs/portfolio_optimisation/lib/python3.11/site-packages/pypfopt/discrete_allocation.py:27: FutureWarning:\n",
      "\n",
      "Downcasting object dtype arrays on .fillna, .ffill, .bfill is deprecated and will change in a future version. Call result.infer_objects(copy=False) instead. To opt-in to the future behavior, set `pd.set_option('future.no_silent_downcasting', True)`\n",
      "\n"
     ]
    },
    {
     "data": {
      "application/vnd.plotly.v1+json": {
       "data": [
        {
         "hole": 0.3,
         "insidetextorientation": "radial",
         "labels": [
          "3046.T",
          "GPI",
          "Other(128)"
         ],
         "textinfo": "label+percent",
         "textposition": "inside",
         "values": [
          0.0063,
          0.0058,
          0.2338
         ],
         "type": "pie"
        }
       ],
       "layout": {
        "template": {
         "data": {
          "histogram2dcontour": [
           {
            "type": "histogram2dcontour",
            "colorbar": {
             "outlinewidth": 0,
             "ticks": ""
            },
            "colorscale": [
             [
              0.0,
              "#0d0887"
             ],
             [
              0.1111111111111111,
              "#46039f"
             ],
             [
              0.2222222222222222,
              "#7201a8"
             ],
             [
              0.3333333333333333,
              "#9c179e"
             ],
             [
              0.4444444444444444,
              "#bd3786"
             ],
             [
              0.5555555555555556,
              "#d8576b"
             ],
             [
              0.6666666666666666,
              "#ed7953"
             ],
             [
              0.7777777777777778,
              "#fb9f3a"
             ],
             [
              0.8888888888888888,
              "#fdca26"
             ],
             [
              1.0,
              "#f0f921"
             ]
            ]
           }
          ],
          "choropleth": [
           {
            "type": "choropleth",
            "colorbar": {
             "outlinewidth": 0,
             "ticks": ""
            }
           }
          ],
          "histogram2d": [
           {
            "type": "histogram2d",
            "colorbar": {
             "outlinewidth": 0,
             "ticks": ""
            },
            "colorscale": [
             [
              0.0,
              "#0d0887"
             ],
             [
              0.1111111111111111,
              "#46039f"
             ],
             [
              0.2222222222222222,
              "#7201a8"
             ],
             [
              0.3333333333333333,
              "#9c179e"
             ],
             [
              0.4444444444444444,
              "#bd3786"
             ],
             [
              0.5555555555555556,
              "#d8576b"
             ],
             [
              0.6666666666666666,
              "#ed7953"
             ],
             [
              0.7777777777777778,
              "#fb9f3a"
             ],
             [
              0.8888888888888888,
              "#fdca26"
             ],
             [
              1.0,
              "#f0f921"
             ]
            ]
           }
          ],
          "heatmap": [
           {
            "type": "heatmap",
            "colorbar": {
             "outlinewidth": 0,
             "ticks": ""
            },
            "colorscale": [
             [
              0.0,
              "#0d0887"
             ],
             [
              0.1111111111111111,
              "#46039f"
             ],
             [
              0.2222222222222222,
              "#7201a8"
             ],
             [
              0.3333333333333333,
              "#9c179e"
             ],
             [
              0.4444444444444444,
              "#bd3786"
             ],
             [
              0.5555555555555556,
              "#d8576b"
             ],
             [
              0.6666666666666666,
              "#ed7953"
             ],
             [
              0.7777777777777778,
              "#fb9f3a"
             ],
             [
              0.8888888888888888,
              "#fdca26"
             ],
             [
              1.0,
              "#f0f921"
             ]
            ]
           }
          ],
          "heatmapgl": [
           {
            "type": "heatmapgl",
            "colorbar": {
             "outlinewidth": 0,
             "ticks": ""
            },
            "colorscale": [
             [
              0.0,
              "#0d0887"
             ],
             [
              0.1111111111111111,
              "#46039f"
             ],
             [
              0.2222222222222222,
              "#7201a8"
             ],
             [
              0.3333333333333333,
              "#9c179e"
             ],
             [
              0.4444444444444444,
              "#bd3786"
             ],
             [
              0.5555555555555556,
              "#d8576b"
             ],
             [
              0.6666666666666666,
              "#ed7953"
             ],
             [
              0.7777777777777778,
              "#fb9f3a"
             ],
             [
              0.8888888888888888,
              "#fdca26"
             ],
             [
              1.0,
              "#f0f921"
             ]
            ]
           }
          ],
          "contourcarpet": [
           {
            "type": "contourcarpet",
            "colorbar": {
             "outlinewidth": 0,
             "ticks": ""
            }
           }
          ],
          "contour": [
           {
            "type": "contour",
            "colorbar": {
             "outlinewidth": 0,
             "ticks": ""
            },
            "colorscale": [
             [
              0.0,
              "#0d0887"
             ],
             [
              0.1111111111111111,
              "#46039f"
             ],
             [
              0.2222222222222222,
              "#7201a8"
             ],
             [
              0.3333333333333333,
              "#9c179e"
             ],
             [
              0.4444444444444444,
              "#bd3786"
             ],
             [
              0.5555555555555556,
              "#d8576b"
             ],
             [
              0.6666666666666666,
              "#ed7953"
             ],
             [
              0.7777777777777778,
              "#fb9f3a"
             ],
             [
              0.8888888888888888,
              "#fdca26"
             ],
             [
              1.0,
              "#f0f921"
             ]
            ]
           }
          ],
          "surface": [
           {
            "type": "surface",
            "colorbar": {
             "outlinewidth": 0,
             "ticks": ""
            },
            "colorscale": [
             [
              0.0,
              "#0d0887"
             ],
             [
              0.1111111111111111,
              "#46039f"
             ],
             [
              0.2222222222222222,
              "#7201a8"
             ],
             [
              0.3333333333333333,
              "#9c179e"
             ],
             [
              0.4444444444444444,
              "#bd3786"
             ],
             [
              0.5555555555555556,
              "#d8576b"
             ],
             [
              0.6666666666666666,
              "#ed7953"
             ],
             [
              0.7777777777777778,
              "#fb9f3a"
             ],
             [
              0.8888888888888888,
              "#fdca26"
             ],
             [
              1.0,
              "#f0f921"
             ]
            ]
           }
          ],
          "mesh3d": [
           {
            "type": "mesh3d",
            "colorbar": {
             "outlinewidth": 0,
             "ticks": ""
            }
           }
          ],
          "scatter": [
           {
            "fillpattern": {
             "fillmode": "overlay",
             "size": 10,
             "solidity": 0.2
            },
            "type": "scatter"
           }
          ],
          "parcoords": [
           {
            "type": "parcoords",
            "line": {
             "colorbar": {
              "outlinewidth": 0,
              "ticks": ""
             }
            }
           }
          ],
          "scatterpolargl": [
           {
            "type": "scatterpolargl",
            "marker": {
             "colorbar": {
              "outlinewidth": 0,
              "ticks": ""
             }
            }
           }
          ],
          "bar": [
           {
            "error_x": {
             "color": "#2a3f5f"
            },
            "error_y": {
             "color": "#2a3f5f"
            },
            "marker": {
             "line": {
              "color": "#E5ECF6",
              "width": 0.5
             },
             "pattern": {
              "fillmode": "overlay",
              "size": 10,
              "solidity": 0.2
             }
            },
            "type": "bar"
           }
          ],
          "scattergeo": [
           {
            "type": "scattergeo",
            "marker": {
             "colorbar": {
              "outlinewidth": 0,
              "ticks": ""
             }
            }
           }
          ],
          "scatterpolar": [
           {
            "type": "scatterpolar",
            "marker": {
             "colorbar": {
              "outlinewidth": 0,
              "ticks": ""
             }
            }
           }
          ],
          "histogram": [
           {
            "marker": {
             "pattern": {
              "fillmode": "overlay",
              "size": 10,
              "solidity": 0.2
             }
            },
            "type": "histogram"
           }
          ],
          "scattergl": [
           {
            "type": "scattergl",
            "marker": {
             "colorbar": {
              "outlinewidth": 0,
              "ticks": ""
             }
            }
           }
          ],
          "scatter3d": [
           {
            "type": "scatter3d",
            "line": {
             "colorbar": {
              "outlinewidth": 0,
              "ticks": ""
             }
            },
            "marker": {
             "colorbar": {
              "outlinewidth": 0,
              "ticks": ""
             }
            }
           }
          ],
          "scattermapbox": [
           {
            "type": "scattermapbox",
            "marker": {
             "colorbar": {
              "outlinewidth": 0,
              "ticks": ""
             }
            }
           }
          ],
          "scatterternary": [
           {
            "type": "scatterternary",
            "marker": {
             "colorbar": {
              "outlinewidth": 0,
              "ticks": ""
             }
            }
           }
          ],
          "scattercarpet": [
           {
            "type": "scattercarpet",
            "marker": {
             "colorbar": {
              "outlinewidth": 0,
              "ticks": ""
             }
            }
           }
          ],
          "carpet": [
           {
            "aaxis": {
             "endlinecolor": "#2a3f5f",
             "gridcolor": "white",
             "linecolor": "white",
             "minorgridcolor": "white",
             "startlinecolor": "#2a3f5f"
            },
            "baxis": {
             "endlinecolor": "#2a3f5f",
             "gridcolor": "white",
             "linecolor": "white",
             "minorgridcolor": "white",
             "startlinecolor": "#2a3f5f"
            },
            "type": "carpet"
           }
          ],
          "table": [
           {
            "cells": {
             "fill": {
              "color": "#EBF0F8"
             },
             "line": {
              "color": "white"
             }
            },
            "header": {
             "fill": {
              "color": "#C8D4E3"
             },
             "line": {
              "color": "white"
             }
            },
            "type": "table"
           }
          ],
          "barpolar": [
           {
            "marker": {
             "line": {
              "color": "#E5ECF6",
              "width": 0.5
             },
             "pattern": {
              "fillmode": "overlay",
              "size": 10,
              "solidity": 0.2
             }
            },
            "type": "barpolar"
           }
          ],
          "pie": [
           {
            "automargin": true,
            "type": "pie"
           }
          ]
         },
         "layout": {
          "autotypenumbers": "strict",
          "colorway": [
           "#636efa",
           "#EF553B",
           "#00cc96",
           "#ab63fa",
           "#FFA15A",
           "#19d3f3",
           "#FF6692",
           "#B6E880",
           "#FF97FF",
           "#FECB52"
          ],
          "font": {
           "color": "#2a3f5f"
          },
          "hovermode": "closest",
          "hoverlabel": {
           "align": "left"
          },
          "paper_bgcolor": "white",
          "plot_bgcolor": "#E5ECF6",
          "polar": {
           "bgcolor": "#E5ECF6",
           "angularaxis": {
            "gridcolor": "white",
            "linecolor": "white",
            "ticks": ""
           },
           "radialaxis": {
            "gridcolor": "white",
            "linecolor": "white",
            "ticks": ""
           }
          },
          "ternary": {
           "bgcolor": "#E5ECF6",
           "aaxis": {
            "gridcolor": "white",
            "linecolor": "white",
            "ticks": ""
           },
           "baxis": {
            "gridcolor": "white",
            "linecolor": "white",
            "ticks": ""
           },
           "caxis": {
            "gridcolor": "white",
            "linecolor": "white",
            "ticks": ""
           }
          },
          "coloraxis": {
           "colorbar": {
            "outlinewidth": 0,
            "ticks": ""
           }
          },
          "colorscale": {
           "sequential": [
            [
             0.0,
             "#0d0887"
            ],
            [
             0.1111111111111111,
             "#46039f"
            ],
            [
             0.2222222222222222,
             "#7201a8"
            ],
            [
             0.3333333333333333,
             "#9c179e"
            ],
            [
             0.4444444444444444,
             "#bd3786"
            ],
            [
             0.5555555555555556,
             "#d8576b"
            ],
            [
             0.6666666666666666,
             "#ed7953"
            ],
            [
             0.7777777777777778,
             "#fb9f3a"
            ],
            [
             0.8888888888888888,
             "#fdca26"
            ],
            [
             1.0,
             "#f0f921"
            ]
           ],
           "sequentialminus": [
            [
             0.0,
             "#0d0887"
            ],
            [
             0.1111111111111111,
             "#46039f"
            ],
            [
             0.2222222222222222,
             "#7201a8"
            ],
            [
             0.3333333333333333,
             "#9c179e"
            ],
            [
             0.4444444444444444,
             "#bd3786"
            ],
            [
             0.5555555555555556,
             "#d8576b"
            ],
            [
             0.6666666666666666,
             "#ed7953"
            ],
            [
             0.7777777777777778,
             "#fb9f3a"
            ],
            [
             0.8888888888888888,
             "#fdca26"
            ],
            [
             1.0,
             "#f0f921"
            ]
           ],
           "diverging": [
            [
             0,
             "#8e0152"
            ],
            [
             0.1,
             "#c51b7d"
            ],
            [
             0.2,
             "#de77ae"
            ],
            [
             0.3,
             "#f1b6da"
            ],
            [
             0.4,
             "#fde0ef"
            ],
            [
             0.5,
             "#f7f7f7"
            ],
            [
             0.6,
             "#e6f5d0"
            ],
            [
             0.7,
             "#b8e186"
            ],
            [
             0.8,
             "#7fbc41"
            ],
            [
             0.9,
             "#4d9221"
            ],
            [
             1,
             "#276419"
            ]
           ]
          },
          "xaxis": {
           "gridcolor": "white",
           "linecolor": "white",
           "ticks": "",
           "title": {
            "standoff": 15
           },
           "zerolinecolor": "white",
           "automargin": true,
           "zerolinewidth": 2
          },
          "yaxis": {
           "gridcolor": "white",
           "linecolor": "white",
           "ticks": "",
           "title": {
            "standoff": 15
           },
           "zerolinecolor": "white",
           "automargin": true,
           "zerolinewidth": 2
          },
          "scene": {
           "xaxis": {
            "backgroundcolor": "#E5ECF6",
            "gridcolor": "white",
            "linecolor": "white",
            "showbackground": true,
            "ticks": "",
            "zerolinecolor": "white",
            "gridwidth": 2
           },
           "yaxis": {
            "backgroundcolor": "#E5ECF6",
            "gridcolor": "white",
            "linecolor": "white",
            "showbackground": true,
            "ticks": "",
            "zerolinecolor": "white",
            "gridwidth": 2
           },
           "zaxis": {
            "backgroundcolor": "#E5ECF6",
            "gridcolor": "white",
            "linecolor": "white",
            "showbackground": true,
            "ticks": "",
            "zerolinecolor": "white",
            "gridwidth": 2
           }
          },
          "shapedefaults": {
           "line": {
            "color": "#2a3f5f"
           }
          },
          "annotationdefaults": {
           "arrowcolor": "#2a3f5f",
           "arrowhead": 0,
           "arrowwidth": 1
          },
          "geo": {
           "bgcolor": "white",
           "landcolor": "#E5ECF6",
           "subunitcolor": "white",
           "showland": true,
           "showlakes": true,
           "lakecolor": "white"
          },
          "title": {
           "x": 0.05
          },
          "mapbox": {
           "style": "light"
          }
         }
        },
        "margin": {
         "l": 20,
         "r": 20,
         "t": 20,
         "b": 20
        },
        "font": {
         "color": "black"
        },
        "height": 600,
        "width": 600,
        "paper_bgcolor": "white",
        "plot_bgcolor": "white",
        "showlegend": false
       },
       "config": {
        "plotlyServerURL": "https://plot.ly"
       }
      },
      "text/html": [
       "<div>                            <div id=\"8a45e788-1031-4980-9c18-cac847cbbdbe\" class=\"plotly-graph-div\" style=\"height:600px; width:600px;\"></div>            <script type=\"text/javascript\">                require([\"plotly\"], function(Plotly) {                    window.PLOTLYENV=window.PLOTLYENV || {};                                    if (document.getElementById(\"8a45e788-1031-4980-9c18-cac847cbbdbe\")) {                    Plotly.newPlot(                        \"8a45e788-1031-4980-9c18-cac847cbbdbe\",                        [{\"hole\":0.3,\"insidetextorientation\":\"radial\",\"labels\":[\"3046.T\",\"GPI\",\"Other(128)\"],\"textinfo\":\"label+percent\",\"textposition\":\"inside\",\"values\":[0.0063,0.0058,0.2338],\"type\":\"pie\"}],                        {\"template\":{\"data\":{\"histogram2dcontour\":[{\"type\":\"histogram2dcontour\",\"colorbar\":{\"outlinewidth\":0,\"ticks\":\"\"},\"colorscale\":[[0.0,\"#0d0887\"],[0.1111111111111111,\"#46039f\"],[0.2222222222222222,\"#7201a8\"],[0.3333333333333333,\"#9c179e\"],[0.4444444444444444,\"#bd3786\"],[0.5555555555555556,\"#d8576b\"],[0.6666666666666666,\"#ed7953\"],[0.7777777777777778,\"#fb9f3a\"],[0.8888888888888888,\"#fdca26\"],[1.0,\"#f0f921\"]]}],\"choropleth\":[{\"type\":\"choropleth\",\"colorbar\":{\"outlinewidth\":0,\"ticks\":\"\"}}],\"histogram2d\":[{\"type\":\"histogram2d\",\"colorbar\":{\"outlinewidth\":0,\"ticks\":\"\"},\"colorscale\":[[0.0,\"#0d0887\"],[0.1111111111111111,\"#46039f\"],[0.2222222222222222,\"#7201a8\"],[0.3333333333333333,\"#9c179e\"],[0.4444444444444444,\"#bd3786\"],[0.5555555555555556,\"#d8576b\"],[0.6666666666666666,\"#ed7953\"],[0.7777777777777778,\"#fb9f3a\"],[0.8888888888888888,\"#fdca26\"],[1.0,\"#f0f921\"]]}],\"heatmap\":[{\"type\":\"heatmap\",\"colorbar\":{\"outlinewidth\":0,\"ticks\":\"\"},\"colorscale\":[[0.0,\"#0d0887\"],[0.1111111111111111,\"#46039f\"],[0.2222222222222222,\"#7201a8\"],[0.3333333333333333,\"#9c179e\"],[0.4444444444444444,\"#bd3786\"],[0.5555555555555556,\"#d8576b\"],[0.6666666666666666,\"#ed7953\"],[0.7777777777777778,\"#fb9f3a\"],[0.8888888888888888,\"#fdca26\"],[1.0,\"#f0f921\"]]}],\"heatmapgl\":[{\"type\":\"heatmapgl\",\"colorbar\":{\"outlinewidth\":0,\"ticks\":\"\"},\"colorscale\":[[0.0,\"#0d0887\"],[0.1111111111111111,\"#46039f\"],[0.2222222222222222,\"#7201a8\"],[0.3333333333333333,\"#9c179e\"],[0.4444444444444444,\"#bd3786\"],[0.5555555555555556,\"#d8576b\"],[0.6666666666666666,\"#ed7953\"],[0.7777777777777778,\"#fb9f3a\"],[0.8888888888888888,\"#fdca26\"],[1.0,\"#f0f921\"]]}],\"contourcarpet\":[{\"type\":\"contourcarpet\",\"colorbar\":{\"outlinewidth\":0,\"ticks\":\"\"}}],\"contour\":[{\"type\":\"contour\",\"colorbar\":{\"outlinewidth\":0,\"ticks\":\"\"},\"colorscale\":[[0.0,\"#0d0887\"],[0.1111111111111111,\"#46039f\"],[0.2222222222222222,\"#7201a8\"],[0.3333333333333333,\"#9c179e\"],[0.4444444444444444,\"#bd3786\"],[0.5555555555555556,\"#d8576b\"],[0.6666666666666666,\"#ed7953\"],[0.7777777777777778,\"#fb9f3a\"],[0.8888888888888888,\"#fdca26\"],[1.0,\"#f0f921\"]]}],\"surface\":[{\"type\":\"surface\",\"colorbar\":{\"outlinewidth\":0,\"ticks\":\"\"},\"colorscale\":[[0.0,\"#0d0887\"],[0.1111111111111111,\"#46039f\"],[0.2222222222222222,\"#7201a8\"],[0.3333333333333333,\"#9c179e\"],[0.4444444444444444,\"#bd3786\"],[0.5555555555555556,\"#d8576b\"],[0.6666666666666666,\"#ed7953\"],[0.7777777777777778,\"#fb9f3a\"],[0.8888888888888888,\"#fdca26\"],[1.0,\"#f0f921\"]]}],\"mesh3d\":[{\"type\":\"mesh3d\",\"colorbar\":{\"outlinewidth\":0,\"ticks\":\"\"}}],\"scatter\":[{\"fillpattern\":{\"fillmode\":\"overlay\",\"size\":10,\"solidity\":0.2},\"type\":\"scatter\"}],\"parcoords\":[{\"type\":\"parcoords\",\"line\":{\"colorbar\":{\"outlinewidth\":0,\"ticks\":\"\"}}}],\"scatterpolargl\":[{\"type\":\"scatterpolargl\",\"marker\":{\"colorbar\":{\"outlinewidth\":0,\"ticks\":\"\"}}}],\"bar\":[{\"error_x\":{\"color\":\"#2a3f5f\"},\"error_y\":{\"color\":\"#2a3f5f\"},\"marker\":{\"line\":{\"color\":\"#E5ECF6\",\"width\":0.5},\"pattern\":{\"fillmode\":\"overlay\",\"size\":10,\"solidity\":0.2}},\"type\":\"bar\"}],\"scattergeo\":[{\"type\":\"scattergeo\",\"marker\":{\"colorbar\":{\"outlinewidth\":0,\"ticks\":\"\"}}}],\"scatterpolar\":[{\"type\":\"scatterpolar\",\"marker\":{\"colorbar\":{\"outlinewidth\":0,\"ticks\":\"\"}}}],\"histogram\":[{\"marker\":{\"pattern\":{\"fillmode\":\"overlay\",\"size\":10,\"solidity\":0.2}},\"type\":\"histogram\"}],\"scattergl\":[{\"type\":\"scattergl\",\"marker\":{\"colorbar\":{\"outlinewidth\":0,\"ticks\":\"\"}}}],\"scatter3d\":[{\"type\":\"scatter3d\",\"line\":{\"colorbar\":{\"outlinewidth\":0,\"ticks\":\"\"}},\"marker\":{\"colorbar\":{\"outlinewidth\":0,\"ticks\":\"\"}}}],\"scattermapbox\":[{\"type\":\"scattermapbox\",\"marker\":{\"colorbar\":{\"outlinewidth\":0,\"ticks\":\"\"}}}],\"scatterternary\":[{\"type\":\"scatterternary\",\"marker\":{\"colorbar\":{\"outlinewidth\":0,\"ticks\":\"\"}}}],\"scattercarpet\":[{\"type\":\"scattercarpet\",\"marker\":{\"colorbar\":{\"outlinewidth\":0,\"ticks\":\"\"}}}],\"carpet\":[{\"aaxis\":{\"endlinecolor\":\"#2a3f5f\",\"gridcolor\":\"white\",\"linecolor\":\"white\",\"minorgridcolor\":\"white\",\"startlinecolor\":\"#2a3f5f\"},\"baxis\":{\"endlinecolor\":\"#2a3f5f\",\"gridcolor\":\"white\",\"linecolor\":\"white\",\"minorgridcolor\":\"white\",\"startlinecolor\":\"#2a3f5f\"},\"type\":\"carpet\"}],\"table\":[{\"cells\":{\"fill\":{\"color\":\"#EBF0F8\"},\"line\":{\"color\":\"white\"}},\"header\":{\"fill\":{\"color\":\"#C8D4E3\"},\"line\":{\"color\":\"white\"}},\"type\":\"table\"}],\"barpolar\":[{\"marker\":{\"line\":{\"color\":\"#E5ECF6\",\"width\":0.5},\"pattern\":{\"fillmode\":\"overlay\",\"size\":10,\"solidity\":0.2}},\"type\":\"barpolar\"}],\"pie\":[{\"automargin\":true,\"type\":\"pie\"}]},\"layout\":{\"autotypenumbers\":\"strict\",\"colorway\":[\"#636efa\",\"#EF553B\",\"#00cc96\",\"#ab63fa\",\"#FFA15A\",\"#19d3f3\",\"#FF6692\",\"#B6E880\",\"#FF97FF\",\"#FECB52\"],\"font\":{\"color\":\"#2a3f5f\"},\"hovermode\":\"closest\",\"hoverlabel\":{\"align\":\"left\"},\"paper_bgcolor\":\"white\",\"plot_bgcolor\":\"#E5ECF6\",\"polar\":{\"bgcolor\":\"#E5ECF6\",\"angularaxis\":{\"gridcolor\":\"white\",\"linecolor\":\"white\",\"ticks\":\"\"},\"radialaxis\":{\"gridcolor\":\"white\",\"linecolor\":\"white\",\"ticks\":\"\"}},\"ternary\":{\"bgcolor\":\"#E5ECF6\",\"aaxis\":{\"gridcolor\":\"white\",\"linecolor\":\"white\",\"ticks\":\"\"},\"baxis\":{\"gridcolor\":\"white\",\"linecolor\":\"white\",\"ticks\":\"\"},\"caxis\":{\"gridcolor\":\"white\",\"linecolor\":\"white\",\"ticks\":\"\"}},\"coloraxis\":{\"colorbar\":{\"outlinewidth\":0,\"ticks\":\"\"}},\"colorscale\":{\"sequential\":[[0.0,\"#0d0887\"],[0.1111111111111111,\"#46039f\"],[0.2222222222222222,\"#7201a8\"],[0.3333333333333333,\"#9c179e\"],[0.4444444444444444,\"#bd3786\"],[0.5555555555555556,\"#d8576b\"],[0.6666666666666666,\"#ed7953\"],[0.7777777777777778,\"#fb9f3a\"],[0.8888888888888888,\"#fdca26\"],[1.0,\"#f0f921\"]],\"sequentialminus\":[[0.0,\"#0d0887\"],[0.1111111111111111,\"#46039f\"],[0.2222222222222222,\"#7201a8\"],[0.3333333333333333,\"#9c179e\"],[0.4444444444444444,\"#bd3786\"],[0.5555555555555556,\"#d8576b\"],[0.6666666666666666,\"#ed7953\"],[0.7777777777777778,\"#fb9f3a\"],[0.8888888888888888,\"#fdca26\"],[1.0,\"#f0f921\"]],\"diverging\":[[0,\"#8e0152\"],[0.1,\"#c51b7d\"],[0.2,\"#de77ae\"],[0.3,\"#f1b6da\"],[0.4,\"#fde0ef\"],[0.5,\"#f7f7f7\"],[0.6,\"#e6f5d0\"],[0.7,\"#b8e186\"],[0.8,\"#7fbc41\"],[0.9,\"#4d9221\"],[1,\"#276419\"]]},\"xaxis\":{\"gridcolor\":\"white\",\"linecolor\":\"white\",\"ticks\":\"\",\"title\":{\"standoff\":15},\"zerolinecolor\":\"white\",\"automargin\":true,\"zerolinewidth\":2},\"yaxis\":{\"gridcolor\":\"white\",\"linecolor\":\"white\",\"ticks\":\"\",\"title\":{\"standoff\":15},\"zerolinecolor\":\"white\",\"automargin\":true,\"zerolinewidth\":2},\"scene\":{\"xaxis\":{\"backgroundcolor\":\"#E5ECF6\",\"gridcolor\":\"white\",\"linecolor\":\"white\",\"showbackground\":true,\"ticks\":\"\",\"zerolinecolor\":\"white\",\"gridwidth\":2},\"yaxis\":{\"backgroundcolor\":\"#E5ECF6\",\"gridcolor\":\"white\",\"linecolor\":\"white\",\"showbackground\":true,\"ticks\":\"\",\"zerolinecolor\":\"white\",\"gridwidth\":2},\"zaxis\":{\"backgroundcolor\":\"#E5ECF6\",\"gridcolor\":\"white\",\"linecolor\":\"white\",\"showbackground\":true,\"ticks\":\"\",\"zerolinecolor\":\"white\",\"gridwidth\":2}},\"shapedefaults\":{\"line\":{\"color\":\"#2a3f5f\"}},\"annotationdefaults\":{\"arrowcolor\":\"#2a3f5f\",\"arrowhead\":0,\"arrowwidth\":1},\"geo\":{\"bgcolor\":\"white\",\"landcolor\":\"#E5ECF6\",\"subunitcolor\":\"white\",\"showland\":true,\"showlakes\":true,\"lakecolor\":\"white\"},\"title\":{\"x\":0.05},\"mapbox\":{\"style\":\"light\"}}},\"margin\":{\"l\":20,\"r\":20,\"t\":20,\"b\":20},\"font\":{\"color\":\"black\"},\"height\":600,\"width\":600,\"paper_bgcolor\":\"white\",\"plot_bgcolor\":\"white\",\"showlegend\":false},                        {\"responsive\": true}                    ).then(function(){\n",
       "                            \n",
       "var gd = document.getElementById('8a45e788-1031-4980-9c18-cac847cbbdbe');\n",
       "var x = new MutationObserver(function (mutations, observer) {{\n",
       "        var display = window.getComputedStyle(gd).display;\n",
       "        if (!display || display === 'none') {{\n",
       "            console.log([gd, 'removed!']);\n",
       "            Plotly.purge(gd);\n",
       "            observer.disconnect();\n",
       "        }}\n",
       "}});\n",
       "\n",
       "// Listen for the removal of the full notebook cells\n",
       "var notebookContainer = gd.closest('#notebook-container');\n",
       "if (notebookContainer) {{\n",
       "    x.observe(notebookContainer, {childList: true});\n",
       "}}\n",
       "\n",
       "// Listen for the clearing of the current output cell\n",
       "var outputEl = gd.closest('.output');\n",
       "if (outputEl) {{\n",
       "    x.observe(outputEl, {childList: true});\n",
       "}}\n",
       "\n",
       "                        })                };                });            </script>        </div>"
      ]
     },
     "metadata": {},
     "output_type": "display_data"
    }
   ],
   "execution_count": 586
  },
  {
   "metadata": {},
   "cell_type": "markdown",
   "source": "#### Overview table",
   "id": "887526888ce646cc"
  },
  {
   "metadata": {
    "ExecuteTime": {
     "end_time": "2025-06-15T15:57:29.071883Z",
     "start_time": "2025-06-15T15:57:29.036355Z"
    }
   },
   "cell_type": "code",
   "source": [
    "importlib.reload(mpt_utils)\n",
    "# Create overview\n",
    "mpt_utils.generate_overview_table(weights_all_12m, mu_12m, S_12m, df_pct)"
   ],
   "id": "9459dc4978e01996",
   "outputs": [
    {
     "data": {
      "text/plain": [
       "        Share Count  Average Covariance Average Returns Return Last 12 Months  \\\n",
       "3046.T            1           -0.000155           9.22%                -4.69%   \n",
       "GPI               1           -0.001395          13.32%                47.69%   \n",
       "3086.T            3           -0.000543          63.94%                23.85%   \n",
       "CLFD              1           -0.001163          13.78%               -79.85%   \n",
       "NOVT              1           -0.000078          16.46%                -7.73%   \n",
       "...             ...                 ...             ...                   ...   \n",
       "AOX.DE            2           -0.000698           8.65%               -60.37%   \n",
       "7599.T            1            0.000000          12.80%                26.14%   \n",
       "9474.T            1            0.000388           9.60%                 2.30%   \n",
       "INN               1            0.000078          13.40%               -32.77%   \n",
       "DHC               1            0.000388          11.30%                57.91%   \n",
       "\n",
       "       Return (Actual) Next 12 Months  \n",
       "3046.T                         66.83%  \n",
       "GPI                            30.04%  \n",
       "3086.T                         -1.41%  \n",
       "CLFD                           34.68%  \n",
       "NOVT                           19.06%  \n",
       "...                               ...  \n",
       "AOX.DE                         39.42%  \n",
       "7599.T                         50.01%  \n",
       "9474.T                         -3.39%  \n",
       "INN                            10.46%  \n",
       "DHC                            75.33%  \n",
       "\n",
       "[130 rows x 5 columns]"
      ],
      "text/html": [
       "<div>\n",
       "<style scoped>\n",
       "    .dataframe tbody tr th:only-of-type {\n",
       "        vertical-align: middle;\n",
       "    }\n",
       "\n",
       "    .dataframe tbody tr th {\n",
       "        vertical-align: top;\n",
       "    }\n",
       "\n",
       "    .dataframe thead th {\n",
       "        text-align: right;\n",
       "    }\n",
       "</style>\n",
       "<table border=\"1\" class=\"dataframe\">\n",
       "  <thead>\n",
       "    <tr style=\"text-align: right;\">\n",
       "      <th></th>\n",
       "      <th>Share Count</th>\n",
       "      <th>Average Covariance</th>\n",
       "      <th>Average Returns</th>\n",
       "      <th>Return Last 12 Months</th>\n",
       "      <th>Return (Actual) Next 12 Months</th>\n",
       "    </tr>\n",
       "  </thead>\n",
       "  <tbody>\n",
       "    <tr>\n",
       "      <th>3046.T</th>\n",
       "      <td>1</td>\n",
       "      <td>-0.000155</td>\n",
       "      <td>9.22%</td>\n",
       "      <td>-4.69%</td>\n",
       "      <td>66.83%</td>\n",
       "    </tr>\n",
       "    <tr>\n",
       "      <th>GPI</th>\n",
       "      <td>1</td>\n",
       "      <td>-0.001395</td>\n",
       "      <td>13.32%</td>\n",
       "      <td>47.69%</td>\n",
       "      <td>30.04%</td>\n",
       "    </tr>\n",
       "    <tr>\n",
       "      <th>3086.T</th>\n",
       "      <td>3</td>\n",
       "      <td>-0.000543</td>\n",
       "      <td>63.94%</td>\n",
       "      <td>23.85%</td>\n",
       "      <td>-1.41%</td>\n",
       "    </tr>\n",
       "    <tr>\n",
       "      <th>CLFD</th>\n",
       "      <td>1</td>\n",
       "      <td>-0.001163</td>\n",
       "      <td>13.78%</td>\n",
       "      <td>-79.85%</td>\n",
       "      <td>34.68%</td>\n",
       "    </tr>\n",
       "    <tr>\n",
       "      <th>NOVT</th>\n",
       "      <td>1</td>\n",
       "      <td>-0.000078</td>\n",
       "      <td>16.46%</td>\n",
       "      <td>-7.73%</td>\n",
       "      <td>19.06%</td>\n",
       "    </tr>\n",
       "    <tr>\n",
       "      <th>...</th>\n",
       "      <td>...</td>\n",
       "      <td>...</td>\n",
       "      <td>...</td>\n",
       "      <td>...</td>\n",
       "      <td>...</td>\n",
       "    </tr>\n",
       "    <tr>\n",
       "      <th>AOX.DE</th>\n",
       "      <td>2</td>\n",
       "      <td>-0.000698</td>\n",
       "      <td>8.65%</td>\n",
       "      <td>-60.37%</td>\n",
       "      <td>39.42%</td>\n",
       "    </tr>\n",
       "    <tr>\n",
       "      <th>7599.T</th>\n",
       "      <td>1</td>\n",
       "      <td>0.000000</td>\n",
       "      <td>12.80%</td>\n",
       "      <td>26.14%</td>\n",
       "      <td>50.01%</td>\n",
       "    </tr>\n",
       "    <tr>\n",
       "      <th>9474.T</th>\n",
       "      <td>1</td>\n",
       "      <td>0.000388</td>\n",
       "      <td>9.60%</td>\n",
       "      <td>2.30%</td>\n",
       "      <td>-3.39%</td>\n",
       "    </tr>\n",
       "    <tr>\n",
       "      <th>INN</th>\n",
       "      <td>1</td>\n",
       "      <td>0.000078</td>\n",
       "      <td>13.40%</td>\n",
       "      <td>-32.77%</td>\n",
       "      <td>10.46%</td>\n",
       "    </tr>\n",
       "    <tr>\n",
       "      <th>DHC</th>\n",
       "      <td>1</td>\n",
       "      <td>0.000388</td>\n",
       "      <td>11.30%</td>\n",
       "      <td>57.91%</td>\n",
       "      <td>75.33%</td>\n",
       "    </tr>\n",
       "  </tbody>\n",
       "</table>\n",
       "<p>130 rows × 5 columns</p>\n",
       "</div>"
      ]
     },
     "execution_count": 587,
     "metadata": {},
     "output_type": "execute_result"
    }
   ],
   "execution_count": 587
  },
  {
   "metadata": {},
   "cell_type": "markdown",
   "source": "### Feature importance",
   "id": "e52eaf1da635685f"
  },
  {
   "metadata": {
    "ExecuteTime": {
     "end_time": "2025-06-15T15:57:29.111305Z",
     "start_time": "2025-06-15T15:57:29.083152Z"
    }
   },
   "cell_type": "code",
   "source": [
    "importlib.reload(plots)\n",
    "#\n",
    "plots.plot_feature_importance(model_12m)"
   ],
   "id": "7484738da33d53ff",
   "outputs": [
    {
     "data": {
      "application/vnd.plotly.v1+json": {
       "data": [
        {
         "alignmentgroup": "True",
         "hovertemplate": "score=%{x}<br>feature=%{y}<extra></extra>",
         "legendgroup": "",
         "marker": {
          "color": "#636efa",
          "pattern": {
           "shape": ""
          }
         },
         "name": "",
         "offsetgroup": "",
         "orientation": "h",
         "showlegend": false,
         "textposition": "auto",
         "x": [
          753.0,
          617.0,
          173.0,
          158.0,
          152.0,
          143.0,
          137.0,
          125.0,
          119.0,
          112.0,
          111.0,
          111.0,
          105.0,
          93.0,
          90.0
         ],
         "xaxis": "x",
         "y": [
          "year",
          "month",
          "m_return(t)",
          "m_return(t-5)",
          "m_return(t-11)",
          "m_return(t-6)",
          "m_return(t-2)",
          "m_return(t-4)",
          "m_return(t-8)",
          "m_return(t-3)",
          "m_return(t-7)",
          "m_return(t-1)",
          "m_return(t-10)",
          "stock_ticker_label",
          "m_return(t-9)"
         ],
         "yaxis": "y",
         "type": "bar"
        }
       ],
       "layout": {
        "template": {
         "data": {
          "histogram2dcontour": [
           {
            "type": "histogram2dcontour",
            "colorbar": {
             "outlinewidth": 0,
             "ticks": ""
            },
            "colorscale": [
             [
              0.0,
              "#0d0887"
             ],
             [
              0.1111111111111111,
              "#46039f"
             ],
             [
              0.2222222222222222,
              "#7201a8"
             ],
             [
              0.3333333333333333,
              "#9c179e"
             ],
             [
              0.4444444444444444,
              "#bd3786"
             ],
             [
              0.5555555555555556,
              "#d8576b"
             ],
             [
              0.6666666666666666,
              "#ed7953"
             ],
             [
              0.7777777777777778,
              "#fb9f3a"
             ],
             [
              0.8888888888888888,
              "#fdca26"
             ],
             [
              1.0,
              "#f0f921"
             ]
            ]
           }
          ],
          "choropleth": [
           {
            "type": "choropleth",
            "colorbar": {
             "outlinewidth": 0,
             "ticks": ""
            }
           }
          ],
          "histogram2d": [
           {
            "type": "histogram2d",
            "colorbar": {
             "outlinewidth": 0,
             "ticks": ""
            },
            "colorscale": [
             [
              0.0,
              "#0d0887"
             ],
             [
              0.1111111111111111,
              "#46039f"
             ],
             [
              0.2222222222222222,
              "#7201a8"
             ],
             [
              0.3333333333333333,
              "#9c179e"
             ],
             [
              0.4444444444444444,
              "#bd3786"
             ],
             [
              0.5555555555555556,
              "#d8576b"
             ],
             [
              0.6666666666666666,
              "#ed7953"
             ],
             [
              0.7777777777777778,
              "#fb9f3a"
             ],
             [
              0.8888888888888888,
              "#fdca26"
             ],
             [
              1.0,
              "#f0f921"
             ]
            ]
           }
          ],
          "heatmap": [
           {
            "type": "heatmap",
            "colorbar": {
             "outlinewidth": 0,
             "ticks": ""
            },
            "colorscale": [
             [
              0.0,
              "#0d0887"
             ],
             [
              0.1111111111111111,
              "#46039f"
             ],
             [
              0.2222222222222222,
              "#7201a8"
             ],
             [
              0.3333333333333333,
              "#9c179e"
             ],
             [
              0.4444444444444444,
              "#bd3786"
             ],
             [
              0.5555555555555556,
              "#d8576b"
             ],
             [
              0.6666666666666666,
              "#ed7953"
             ],
             [
              0.7777777777777778,
              "#fb9f3a"
             ],
             [
              0.8888888888888888,
              "#fdca26"
             ],
             [
              1.0,
              "#f0f921"
             ]
            ]
           }
          ],
          "heatmapgl": [
           {
            "type": "heatmapgl",
            "colorbar": {
             "outlinewidth": 0,
             "ticks": ""
            },
            "colorscale": [
             [
              0.0,
              "#0d0887"
             ],
             [
              0.1111111111111111,
              "#46039f"
             ],
             [
              0.2222222222222222,
              "#7201a8"
             ],
             [
              0.3333333333333333,
              "#9c179e"
             ],
             [
              0.4444444444444444,
              "#bd3786"
             ],
             [
              0.5555555555555556,
              "#d8576b"
             ],
             [
              0.6666666666666666,
              "#ed7953"
             ],
             [
              0.7777777777777778,
              "#fb9f3a"
             ],
             [
              0.8888888888888888,
              "#fdca26"
             ],
             [
              1.0,
              "#f0f921"
             ]
            ]
           }
          ],
          "contourcarpet": [
           {
            "type": "contourcarpet",
            "colorbar": {
             "outlinewidth": 0,
             "ticks": ""
            }
           }
          ],
          "contour": [
           {
            "type": "contour",
            "colorbar": {
             "outlinewidth": 0,
             "ticks": ""
            },
            "colorscale": [
             [
              0.0,
              "#0d0887"
             ],
             [
              0.1111111111111111,
              "#46039f"
             ],
             [
              0.2222222222222222,
              "#7201a8"
             ],
             [
              0.3333333333333333,
              "#9c179e"
             ],
             [
              0.4444444444444444,
              "#bd3786"
             ],
             [
              0.5555555555555556,
              "#d8576b"
             ],
             [
              0.6666666666666666,
              "#ed7953"
             ],
             [
              0.7777777777777778,
              "#fb9f3a"
             ],
             [
              0.8888888888888888,
              "#fdca26"
             ],
             [
              1.0,
              "#f0f921"
             ]
            ]
           }
          ],
          "surface": [
           {
            "type": "surface",
            "colorbar": {
             "outlinewidth": 0,
             "ticks": ""
            },
            "colorscale": [
             [
              0.0,
              "#0d0887"
             ],
             [
              0.1111111111111111,
              "#46039f"
             ],
             [
              0.2222222222222222,
              "#7201a8"
             ],
             [
              0.3333333333333333,
              "#9c179e"
             ],
             [
              0.4444444444444444,
              "#bd3786"
             ],
             [
              0.5555555555555556,
              "#d8576b"
             ],
             [
              0.6666666666666666,
              "#ed7953"
             ],
             [
              0.7777777777777778,
              "#fb9f3a"
             ],
             [
              0.8888888888888888,
              "#fdca26"
             ],
             [
              1.0,
              "#f0f921"
             ]
            ]
           }
          ],
          "mesh3d": [
           {
            "type": "mesh3d",
            "colorbar": {
             "outlinewidth": 0,
             "ticks": ""
            }
           }
          ],
          "scatter": [
           {
            "fillpattern": {
             "fillmode": "overlay",
             "size": 10,
             "solidity": 0.2
            },
            "type": "scatter"
           }
          ],
          "parcoords": [
           {
            "type": "parcoords",
            "line": {
             "colorbar": {
              "outlinewidth": 0,
              "ticks": ""
             }
            }
           }
          ],
          "scatterpolargl": [
           {
            "type": "scatterpolargl",
            "marker": {
             "colorbar": {
              "outlinewidth": 0,
              "ticks": ""
             }
            }
           }
          ],
          "bar": [
           {
            "error_x": {
             "color": "#2a3f5f"
            },
            "error_y": {
             "color": "#2a3f5f"
            },
            "marker": {
             "line": {
              "color": "#E5ECF6",
              "width": 0.5
             },
             "pattern": {
              "fillmode": "overlay",
              "size": 10,
              "solidity": 0.2
             }
            },
            "type": "bar"
           }
          ],
          "scattergeo": [
           {
            "type": "scattergeo",
            "marker": {
             "colorbar": {
              "outlinewidth": 0,
              "ticks": ""
             }
            }
           }
          ],
          "scatterpolar": [
           {
            "type": "scatterpolar",
            "marker": {
             "colorbar": {
              "outlinewidth": 0,
              "ticks": ""
             }
            }
           }
          ],
          "histogram": [
           {
            "marker": {
             "pattern": {
              "fillmode": "overlay",
              "size": 10,
              "solidity": 0.2
             }
            },
            "type": "histogram"
           }
          ],
          "scattergl": [
           {
            "type": "scattergl",
            "marker": {
             "colorbar": {
              "outlinewidth": 0,
              "ticks": ""
             }
            }
           }
          ],
          "scatter3d": [
           {
            "type": "scatter3d",
            "line": {
             "colorbar": {
              "outlinewidth": 0,
              "ticks": ""
             }
            },
            "marker": {
             "colorbar": {
              "outlinewidth": 0,
              "ticks": ""
             }
            }
           }
          ],
          "scattermapbox": [
           {
            "type": "scattermapbox",
            "marker": {
             "colorbar": {
              "outlinewidth": 0,
              "ticks": ""
             }
            }
           }
          ],
          "scatterternary": [
           {
            "type": "scatterternary",
            "marker": {
             "colorbar": {
              "outlinewidth": 0,
              "ticks": ""
             }
            }
           }
          ],
          "scattercarpet": [
           {
            "type": "scattercarpet",
            "marker": {
             "colorbar": {
              "outlinewidth": 0,
              "ticks": ""
             }
            }
           }
          ],
          "carpet": [
           {
            "aaxis": {
             "endlinecolor": "#2a3f5f",
             "gridcolor": "white",
             "linecolor": "white",
             "minorgridcolor": "white",
             "startlinecolor": "#2a3f5f"
            },
            "baxis": {
             "endlinecolor": "#2a3f5f",
             "gridcolor": "white",
             "linecolor": "white",
             "minorgridcolor": "white",
             "startlinecolor": "#2a3f5f"
            },
            "type": "carpet"
           }
          ],
          "table": [
           {
            "cells": {
             "fill": {
              "color": "#EBF0F8"
             },
             "line": {
              "color": "white"
             }
            },
            "header": {
             "fill": {
              "color": "#C8D4E3"
             },
             "line": {
              "color": "white"
             }
            },
            "type": "table"
           }
          ],
          "barpolar": [
           {
            "marker": {
             "line": {
              "color": "#E5ECF6",
              "width": 0.5
             },
             "pattern": {
              "fillmode": "overlay",
              "size": 10,
              "solidity": 0.2
             }
            },
            "type": "barpolar"
           }
          ],
          "pie": [
           {
            "automargin": true,
            "type": "pie"
           }
          ]
         },
         "layout": {
          "autotypenumbers": "strict",
          "colorway": [
           "#636efa",
           "#EF553B",
           "#00cc96",
           "#ab63fa",
           "#FFA15A",
           "#19d3f3",
           "#FF6692",
           "#B6E880",
           "#FF97FF",
           "#FECB52"
          ],
          "font": {
           "color": "#2a3f5f"
          },
          "hovermode": "closest",
          "hoverlabel": {
           "align": "left"
          },
          "paper_bgcolor": "white",
          "plot_bgcolor": "#E5ECF6",
          "polar": {
           "bgcolor": "#E5ECF6",
           "angularaxis": {
            "gridcolor": "white",
            "linecolor": "white",
            "ticks": ""
           },
           "radialaxis": {
            "gridcolor": "white",
            "linecolor": "white",
            "ticks": ""
           }
          },
          "ternary": {
           "bgcolor": "#E5ECF6",
           "aaxis": {
            "gridcolor": "white",
            "linecolor": "white",
            "ticks": ""
           },
           "baxis": {
            "gridcolor": "white",
            "linecolor": "white",
            "ticks": ""
           },
           "caxis": {
            "gridcolor": "white",
            "linecolor": "white",
            "ticks": ""
           }
          },
          "coloraxis": {
           "colorbar": {
            "outlinewidth": 0,
            "ticks": ""
           }
          },
          "colorscale": {
           "sequential": [
            [
             0.0,
             "#0d0887"
            ],
            [
             0.1111111111111111,
             "#46039f"
            ],
            [
             0.2222222222222222,
             "#7201a8"
            ],
            [
             0.3333333333333333,
             "#9c179e"
            ],
            [
             0.4444444444444444,
             "#bd3786"
            ],
            [
             0.5555555555555556,
             "#d8576b"
            ],
            [
             0.6666666666666666,
             "#ed7953"
            ],
            [
             0.7777777777777778,
             "#fb9f3a"
            ],
            [
             0.8888888888888888,
             "#fdca26"
            ],
            [
             1.0,
             "#f0f921"
            ]
           ],
           "sequentialminus": [
            [
             0.0,
             "#0d0887"
            ],
            [
             0.1111111111111111,
             "#46039f"
            ],
            [
             0.2222222222222222,
             "#7201a8"
            ],
            [
             0.3333333333333333,
             "#9c179e"
            ],
            [
             0.4444444444444444,
             "#bd3786"
            ],
            [
             0.5555555555555556,
             "#d8576b"
            ],
            [
             0.6666666666666666,
             "#ed7953"
            ],
            [
             0.7777777777777778,
             "#fb9f3a"
            ],
            [
             0.8888888888888888,
             "#fdca26"
            ],
            [
             1.0,
             "#f0f921"
            ]
           ],
           "diverging": [
            [
             0,
             "#8e0152"
            ],
            [
             0.1,
             "#c51b7d"
            ],
            [
             0.2,
             "#de77ae"
            ],
            [
             0.3,
             "#f1b6da"
            ],
            [
             0.4,
             "#fde0ef"
            ],
            [
             0.5,
             "#f7f7f7"
            ],
            [
             0.6,
             "#e6f5d0"
            ],
            [
             0.7,
             "#b8e186"
            ],
            [
             0.8,
             "#7fbc41"
            ],
            [
             0.9,
             "#4d9221"
            ],
            [
             1,
             "#276419"
            ]
           ]
          },
          "xaxis": {
           "gridcolor": "white",
           "linecolor": "white",
           "ticks": "",
           "title": {
            "standoff": 15
           },
           "zerolinecolor": "white",
           "automargin": true,
           "zerolinewidth": 2
          },
          "yaxis": {
           "gridcolor": "white",
           "linecolor": "white",
           "ticks": "",
           "title": {
            "standoff": 15
           },
           "zerolinecolor": "white",
           "automargin": true,
           "zerolinewidth": 2
          },
          "scene": {
           "xaxis": {
            "backgroundcolor": "#E5ECF6",
            "gridcolor": "white",
            "linecolor": "white",
            "showbackground": true,
            "ticks": "",
            "zerolinecolor": "white",
            "gridwidth": 2
           },
           "yaxis": {
            "backgroundcolor": "#E5ECF6",
            "gridcolor": "white",
            "linecolor": "white",
            "showbackground": true,
            "ticks": "",
            "zerolinecolor": "white",
            "gridwidth": 2
           },
           "zaxis": {
            "backgroundcolor": "#E5ECF6",
            "gridcolor": "white",
            "linecolor": "white",
            "showbackground": true,
            "ticks": "",
            "zerolinecolor": "white",
            "gridwidth": 2
           }
          },
          "shapedefaults": {
           "line": {
            "color": "#2a3f5f"
           }
          },
          "annotationdefaults": {
           "arrowcolor": "#2a3f5f",
           "arrowhead": 0,
           "arrowwidth": 1
          },
          "geo": {
           "bgcolor": "white",
           "landcolor": "#E5ECF6",
           "subunitcolor": "white",
           "showland": true,
           "showlakes": true,
           "lakecolor": "white"
          },
          "title": {
           "x": 0.05
          },
          "mapbox": {
           "style": "light"
          }
         }
        },
        "xaxis": {
         "anchor": "y",
         "domain": [
          0.0,
          1.0
         ],
         "title": {
          "text": "score"
         }
        },
        "yaxis": {
         "anchor": "x",
         "domain": [
          0.0,
          1.0
         ],
         "title": {
          "text": "feature"
         },
         "categoryorder": "total ascending"
        },
        "legend": {
         "tracegroupgap": 0
        },
        "title": {
         "text": "Top 20 Feature Importances (by Weight)"
        },
        "barmode": "relative",
        "height": 800,
        "width": 1000
       },
       "config": {
        "plotlyServerURL": "https://plot.ly"
       }
      },
      "text/html": [
       "<div>                            <div id=\"567018cf-273d-4b51-94a7-061a605b53e7\" class=\"plotly-graph-div\" style=\"height:800px; width:1000px;\"></div>            <script type=\"text/javascript\">                require([\"plotly\"], function(Plotly) {                    window.PLOTLYENV=window.PLOTLYENV || {};                                    if (document.getElementById(\"567018cf-273d-4b51-94a7-061a605b53e7\")) {                    Plotly.newPlot(                        \"567018cf-273d-4b51-94a7-061a605b53e7\",                        [{\"alignmentgroup\":\"True\",\"hovertemplate\":\"score=%{x}\\u003cbr\\u003efeature=%{y}\\u003cextra\\u003e\\u003c\\u002fextra\\u003e\",\"legendgroup\":\"\",\"marker\":{\"color\":\"#636efa\",\"pattern\":{\"shape\":\"\"}},\"name\":\"\",\"offsetgroup\":\"\",\"orientation\":\"h\",\"showlegend\":false,\"textposition\":\"auto\",\"x\":[753.0,617.0,173.0,158.0,152.0,143.0,137.0,125.0,119.0,112.0,111.0,111.0,105.0,93.0,90.0],\"xaxis\":\"x\",\"y\":[\"year\",\"month\",\"m_return(t)\",\"m_return(t-5)\",\"m_return(t-11)\",\"m_return(t-6)\",\"m_return(t-2)\",\"m_return(t-4)\",\"m_return(t-8)\",\"m_return(t-3)\",\"m_return(t-7)\",\"m_return(t-1)\",\"m_return(t-10)\",\"stock_ticker_label\",\"m_return(t-9)\"],\"yaxis\":\"y\",\"type\":\"bar\"}],                        {\"template\":{\"data\":{\"histogram2dcontour\":[{\"type\":\"histogram2dcontour\",\"colorbar\":{\"outlinewidth\":0,\"ticks\":\"\"},\"colorscale\":[[0.0,\"#0d0887\"],[0.1111111111111111,\"#46039f\"],[0.2222222222222222,\"#7201a8\"],[0.3333333333333333,\"#9c179e\"],[0.4444444444444444,\"#bd3786\"],[0.5555555555555556,\"#d8576b\"],[0.6666666666666666,\"#ed7953\"],[0.7777777777777778,\"#fb9f3a\"],[0.8888888888888888,\"#fdca26\"],[1.0,\"#f0f921\"]]}],\"choropleth\":[{\"type\":\"choropleth\",\"colorbar\":{\"outlinewidth\":0,\"ticks\":\"\"}}],\"histogram2d\":[{\"type\":\"histogram2d\",\"colorbar\":{\"outlinewidth\":0,\"ticks\":\"\"},\"colorscale\":[[0.0,\"#0d0887\"],[0.1111111111111111,\"#46039f\"],[0.2222222222222222,\"#7201a8\"],[0.3333333333333333,\"#9c179e\"],[0.4444444444444444,\"#bd3786\"],[0.5555555555555556,\"#d8576b\"],[0.6666666666666666,\"#ed7953\"],[0.7777777777777778,\"#fb9f3a\"],[0.8888888888888888,\"#fdca26\"],[1.0,\"#f0f921\"]]}],\"heatmap\":[{\"type\":\"heatmap\",\"colorbar\":{\"outlinewidth\":0,\"ticks\":\"\"},\"colorscale\":[[0.0,\"#0d0887\"],[0.1111111111111111,\"#46039f\"],[0.2222222222222222,\"#7201a8\"],[0.3333333333333333,\"#9c179e\"],[0.4444444444444444,\"#bd3786\"],[0.5555555555555556,\"#d8576b\"],[0.6666666666666666,\"#ed7953\"],[0.7777777777777778,\"#fb9f3a\"],[0.8888888888888888,\"#fdca26\"],[1.0,\"#f0f921\"]]}],\"heatmapgl\":[{\"type\":\"heatmapgl\",\"colorbar\":{\"outlinewidth\":0,\"ticks\":\"\"},\"colorscale\":[[0.0,\"#0d0887\"],[0.1111111111111111,\"#46039f\"],[0.2222222222222222,\"#7201a8\"],[0.3333333333333333,\"#9c179e\"],[0.4444444444444444,\"#bd3786\"],[0.5555555555555556,\"#d8576b\"],[0.6666666666666666,\"#ed7953\"],[0.7777777777777778,\"#fb9f3a\"],[0.8888888888888888,\"#fdca26\"],[1.0,\"#f0f921\"]]}],\"contourcarpet\":[{\"type\":\"contourcarpet\",\"colorbar\":{\"outlinewidth\":0,\"ticks\":\"\"}}],\"contour\":[{\"type\":\"contour\",\"colorbar\":{\"outlinewidth\":0,\"ticks\":\"\"},\"colorscale\":[[0.0,\"#0d0887\"],[0.1111111111111111,\"#46039f\"],[0.2222222222222222,\"#7201a8\"],[0.3333333333333333,\"#9c179e\"],[0.4444444444444444,\"#bd3786\"],[0.5555555555555556,\"#d8576b\"],[0.6666666666666666,\"#ed7953\"],[0.7777777777777778,\"#fb9f3a\"],[0.8888888888888888,\"#fdca26\"],[1.0,\"#f0f921\"]]}],\"surface\":[{\"type\":\"surface\",\"colorbar\":{\"outlinewidth\":0,\"ticks\":\"\"},\"colorscale\":[[0.0,\"#0d0887\"],[0.1111111111111111,\"#46039f\"],[0.2222222222222222,\"#7201a8\"],[0.3333333333333333,\"#9c179e\"],[0.4444444444444444,\"#bd3786\"],[0.5555555555555556,\"#d8576b\"],[0.6666666666666666,\"#ed7953\"],[0.7777777777777778,\"#fb9f3a\"],[0.8888888888888888,\"#fdca26\"],[1.0,\"#f0f921\"]]}],\"mesh3d\":[{\"type\":\"mesh3d\",\"colorbar\":{\"outlinewidth\":0,\"ticks\":\"\"}}],\"scatter\":[{\"fillpattern\":{\"fillmode\":\"overlay\",\"size\":10,\"solidity\":0.2},\"type\":\"scatter\"}],\"parcoords\":[{\"type\":\"parcoords\",\"line\":{\"colorbar\":{\"outlinewidth\":0,\"ticks\":\"\"}}}],\"scatterpolargl\":[{\"type\":\"scatterpolargl\",\"marker\":{\"colorbar\":{\"outlinewidth\":0,\"ticks\":\"\"}}}],\"bar\":[{\"error_x\":{\"color\":\"#2a3f5f\"},\"error_y\":{\"color\":\"#2a3f5f\"},\"marker\":{\"line\":{\"color\":\"#E5ECF6\",\"width\":0.5},\"pattern\":{\"fillmode\":\"overlay\",\"size\":10,\"solidity\":0.2}},\"type\":\"bar\"}],\"scattergeo\":[{\"type\":\"scattergeo\",\"marker\":{\"colorbar\":{\"outlinewidth\":0,\"ticks\":\"\"}}}],\"scatterpolar\":[{\"type\":\"scatterpolar\",\"marker\":{\"colorbar\":{\"outlinewidth\":0,\"ticks\":\"\"}}}],\"histogram\":[{\"marker\":{\"pattern\":{\"fillmode\":\"overlay\",\"size\":10,\"solidity\":0.2}},\"type\":\"histogram\"}],\"scattergl\":[{\"type\":\"scattergl\",\"marker\":{\"colorbar\":{\"outlinewidth\":0,\"ticks\":\"\"}}}],\"scatter3d\":[{\"type\":\"scatter3d\",\"line\":{\"colorbar\":{\"outlinewidth\":0,\"ticks\":\"\"}},\"marker\":{\"colorbar\":{\"outlinewidth\":0,\"ticks\":\"\"}}}],\"scattermapbox\":[{\"type\":\"scattermapbox\",\"marker\":{\"colorbar\":{\"outlinewidth\":0,\"ticks\":\"\"}}}],\"scatterternary\":[{\"type\":\"scatterternary\",\"marker\":{\"colorbar\":{\"outlinewidth\":0,\"ticks\":\"\"}}}],\"scattercarpet\":[{\"type\":\"scattercarpet\",\"marker\":{\"colorbar\":{\"outlinewidth\":0,\"ticks\":\"\"}}}],\"carpet\":[{\"aaxis\":{\"endlinecolor\":\"#2a3f5f\",\"gridcolor\":\"white\",\"linecolor\":\"white\",\"minorgridcolor\":\"white\",\"startlinecolor\":\"#2a3f5f\"},\"baxis\":{\"endlinecolor\":\"#2a3f5f\",\"gridcolor\":\"white\",\"linecolor\":\"white\",\"minorgridcolor\":\"white\",\"startlinecolor\":\"#2a3f5f\"},\"type\":\"carpet\"}],\"table\":[{\"cells\":{\"fill\":{\"color\":\"#EBF0F8\"},\"line\":{\"color\":\"white\"}},\"header\":{\"fill\":{\"color\":\"#C8D4E3\"},\"line\":{\"color\":\"white\"}},\"type\":\"table\"}],\"barpolar\":[{\"marker\":{\"line\":{\"color\":\"#E5ECF6\",\"width\":0.5},\"pattern\":{\"fillmode\":\"overlay\",\"size\":10,\"solidity\":0.2}},\"type\":\"barpolar\"}],\"pie\":[{\"automargin\":true,\"type\":\"pie\"}]},\"layout\":{\"autotypenumbers\":\"strict\",\"colorway\":[\"#636efa\",\"#EF553B\",\"#00cc96\",\"#ab63fa\",\"#FFA15A\",\"#19d3f3\",\"#FF6692\",\"#B6E880\",\"#FF97FF\",\"#FECB52\"],\"font\":{\"color\":\"#2a3f5f\"},\"hovermode\":\"closest\",\"hoverlabel\":{\"align\":\"left\"},\"paper_bgcolor\":\"white\",\"plot_bgcolor\":\"#E5ECF6\",\"polar\":{\"bgcolor\":\"#E5ECF6\",\"angularaxis\":{\"gridcolor\":\"white\",\"linecolor\":\"white\",\"ticks\":\"\"},\"radialaxis\":{\"gridcolor\":\"white\",\"linecolor\":\"white\",\"ticks\":\"\"}},\"ternary\":{\"bgcolor\":\"#E5ECF6\",\"aaxis\":{\"gridcolor\":\"white\",\"linecolor\":\"white\",\"ticks\":\"\"},\"baxis\":{\"gridcolor\":\"white\",\"linecolor\":\"white\",\"ticks\":\"\"},\"caxis\":{\"gridcolor\":\"white\",\"linecolor\":\"white\",\"ticks\":\"\"}},\"coloraxis\":{\"colorbar\":{\"outlinewidth\":0,\"ticks\":\"\"}},\"colorscale\":{\"sequential\":[[0.0,\"#0d0887\"],[0.1111111111111111,\"#46039f\"],[0.2222222222222222,\"#7201a8\"],[0.3333333333333333,\"#9c179e\"],[0.4444444444444444,\"#bd3786\"],[0.5555555555555556,\"#d8576b\"],[0.6666666666666666,\"#ed7953\"],[0.7777777777777778,\"#fb9f3a\"],[0.8888888888888888,\"#fdca26\"],[1.0,\"#f0f921\"]],\"sequentialminus\":[[0.0,\"#0d0887\"],[0.1111111111111111,\"#46039f\"],[0.2222222222222222,\"#7201a8\"],[0.3333333333333333,\"#9c179e\"],[0.4444444444444444,\"#bd3786\"],[0.5555555555555556,\"#d8576b\"],[0.6666666666666666,\"#ed7953\"],[0.7777777777777778,\"#fb9f3a\"],[0.8888888888888888,\"#fdca26\"],[1.0,\"#f0f921\"]],\"diverging\":[[0,\"#8e0152\"],[0.1,\"#c51b7d\"],[0.2,\"#de77ae\"],[0.3,\"#f1b6da\"],[0.4,\"#fde0ef\"],[0.5,\"#f7f7f7\"],[0.6,\"#e6f5d0\"],[0.7,\"#b8e186\"],[0.8,\"#7fbc41\"],[0.9,\"#4d9221\"],[1,\"#276419\"]]},\"xaxis\":{\"gridcolor\":\"white\",\"linecolor\":\"white\",\"ticks\":\"\",\"title\":{\"standoff\":15},\"zerolinecolor\":\"white\",\"automargin\":true,\"zerolinewidth\":2},\"yaxis\":{\"gridcolor\":\"white\",\"linecolor\":\"white\",\"ticks\":\"\",\"title\":{\"standoff\":15},\"zerolinecolor\":\"white\",\"automargin\":true,\"zerolinewidth\":2},\"scene\":{\"xaxis\":{\"backgroundcolor\":\"#E5ECF6\",\"gridcolor\":\"white\",\"linecolor\":\"white\",\"showbackground\":true,\"ticks\":\"\",\"zerolinecolor\":\"white\",\"gridwidth\":2},\"yaxis\":{\"backgroundcolor\":\"#E5ECF6\",\"gridcolor\":\"white\",\"linecolor\":\"white\",\"showbackground\":true,\"ticks\":\"\",\"zerolinecolor\":\"white\",\"gridwidth\":2},\"zaxis\":{\"backgroundcolor\":\"#E5ECF6\",\"gridcolor\":\"white\",\"linecolor\":\"white\",\"showbackground\":true,\"ticks\":\"\",\"zerolinecolor\":\"white\",\"gridwidth\":2}},\"shapedefaults\":{\"line\":{\"color\":\"#2a3f5f\"}},\"annotationdefaults\":{\"arrowcolor\":\"#2a3f5f\",\"arrowhead\":0,\"arrowwidth\":1},\"geo\":{\"bgcolor\":\"white\",\"landcolor\":\"#E5ECF6\",\"subunitcolor\":\"white\",\"showland\":true,\"showlakes\":true,\"lakecolor\":\"white\"},\"title\":{\"x\":0.05},\"mapbox\":{\"style\":\"light\"}}},\"xaxis\":{\"anchor\":\"y\",\"domain\":[0.0,1.0],\"title\":{\"text\":\"score\"}},\"yaxis\":{\"anchor\":\"x\",\"domain\":[0.0,1.0],\"title\":{\"text\":\"feature\"},\"categoryorder\":\"total ascending\"},\"legend\":{\"tracegroupgap\":0},\"title\":{\"text\":\"Top 20 Feature Importances (by Weight)\"},\"barmode\":\"relative\",\"height\":800,\"width\":1000},                        {\"responsive\": true}                    ).then(function(){\n",
       "                            \n",
       "var gd = document.getElementById('567018cf-273d-4b51-94a7-061a605b53e7');\n",
       "var x = new MutationObserver(function (mutations, observer) {{\n",
       "        var display = window.getComputedStyle(gd).display;\n",
       "        if (!display || display === 'none') {{\n",
       "            console.log([gd, 'removed!']);\n",
       "            Plotly.purge(gd);\n",
       "            observer.disconnect();\n",
       "        }}\n",
       "}});\n",
       "\n",
       "// Listen for the removal of the full notebook cells\n",
       "var notebookContainer = gd.closest('#notebook-container');\n",
       "if (notebookContainer) {{\n",
       "    x.observe(notebookContainer, {childList: true});\n",
       "}}\n",
       "\n",
       "// Listen for the clearing of the current output cell\n",
       "var outputEl = gd.closest('.output');\n",
       "if (outputEl) {{\n",
       "    x.observe(outputEl, {childList: true});\n",
       "}}\n",
       "\n",
       "                        })                };                });            </script>        </div>"
      ]
     },
     "metadata": {},
     "output_type": "display_data"
    }
   ],
   "execution_count": 588
  },
  {
   "metadata": {},
   "cell_type": "markdown",
   "source": "## Errors",
   "id": "503d22a8dd9e6d97"
  },
  {
   "metadata": {
    "ExecuteTime": {
     "end_time": "2025-06-15T15:57:29.262281Z",
     "start_time": "2025-06-15T15:57:29.174755Z"
    }
   },
   "cell_type": "code",
   "source": [
    "importlib.reload(plots)\n",
    "\n",
    "plots.plot_xgboost_error(model_1m, 1)"
   ],
   "id": "5cb6c2613219a9c6",
   "outputs": [
    {
     "data": {
      "text/plain": [
       "<Figure size 640x480 with 1 Axes>"
      ],
      "image/png": "[encoded data removed]"
     },
     "metadata": {},
     "output_type": "display_data"
    }
   ],
   "execution_count": 589
  },
  {
   "metadata": {
    "ExecuteTime": {
     "end_time": "2025-06-15T15:57:29.324175Z",
     "start_time": "2025-06-15T15:57:29.268686Z"
    }
   },
   "cell_type": "code",
   "source": [
    "importlib.reload(plots)\n",
    "\n",
    "plots.plot_xgboost_error(model_6m, 6)"
   ],
   "id": "988d26f68997a1c8",
   "outputs": [
    {
     "data": {
      "text/plain": [
       "<Figure size 640x480 with 1 Axes>"
      ],
      "image/png": "[encoded data removed]"
     },
     "metadata": {},
     "output_type": "display_data"
    }
   ],
   "execution_count": 590
  },
  {
   "metadata": {
    "ExecuteTime": {
     "end_time": "2025-06-15T15:57:29.381582Z",
     "start_time": "2025-06-15T15:57:29.330103Z"
    }
   },
   "cell_type": "code",
   "source": [
    "importlib.reload(plots)\n",
    "\n",
    "plots.plot_xgboost_error(model_12m, 12)"
   ],
   "id": "91badd0b6bd93903",
   "outputs": [
    {
     "data": {
      "text/plain": [
       "<Figure size 640x480 with 1 Axes>"
      ],
      "image/png": "[encoded data removed]"
     },
     "metadata": {},
     "output_type": "display_data"
    }
   ],
   "execution_count": 591
  },
  {
   "metadata": {
    "ExecuteTime": {
     "end_time": "2025-06-15T15:57:29.388392Z",
     "start_time": "2025-06-15T15:57:29.387095Z"
    }
   },
   "cell_type": "code",
   "source": "",
   "id": "cd5647794ec5f479",
   "outputs": [],
   "execution_count": null
  }
 ],
 "metadata": {
  "kernelspec": {
   "display_name": "Python 3",
   "language": "python",
   "name": "python3"
  },
  "language_info": {
   "codemirror_mode": {
    "name": "ipython",
    "version": 2
   },
   "file_extension": ".py",
   "mimetype": "text/x-python",
   "name": "python",
   "nbconvert_exporter": "python",
   "pygments_lexer": "ipython2",
   "version": "2.7.6"
  }
 },
 "nbformat": 4,
 "nbformat_minor": 5
}
