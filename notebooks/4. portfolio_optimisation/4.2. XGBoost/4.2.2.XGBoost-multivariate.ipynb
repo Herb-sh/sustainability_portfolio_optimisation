{
 "cells": [
  {
   "cell_type": "code",
   "id": "initial_id",
   "metadata": {
    "collapsed": true,
    "ExecuteTime": {
     "end_time": "2025-06-15T15:44:38.623767Z",
     "start_time": "2025-06-15T15:44:38.616124Z"
    }
   },
   "source": [
    "# Python\n",
    "import pandas as pd\n",
    "\n",
    "#\n",
    "from pathlib import Path\n",
    "from datetime import datetime\n",
    "#\n",
    "\n",
    "from sklearn.metrics import make_scorer, mean_absolute_error\n",
    "#\n",
    "import importlib\n",
    "import utilities.train_test.train_test as train_test\n",
    "import utilities.mpt_utils as mpt_utils\n",
    "import utilities.plots as plots\n",
    "import utilities.xgboost_utils as xgboost_utils\n",
    "import utilities.variables as variables"
   ],
   "outputs": [],
   "execution_count": 368
  },
  {
   "metadata": {
    "ExecuteTime": {
     "end_time": "2025-06-15T15:44:38.804160Z",
     "start_time": "2025-06-15T15:44:38.641377Z"
    }
   },
   "cell_type": "code",
   "source": [
    "df = pd.read_csv('../../../data/df_monthly_prices_complete_euro.csv', index_col='Date')\n",
    "df_pct = pd.read_csv('../../../data/df_monthly_returns_complete.csv', index_col='Date')\n",
    "df_prices = pd.read_csv('../../../data/df_monthly_prices_complete.csv', index_col='Date')\n",
    "df_overview = pd.read_csv('../../../data/df_overview.csv', index_col=0)"
   ],
   "id": "8fff3d5e823f722d",
   "outputs": [],
   "execution_count": 369
  },
  {
   "metadata": {},
   "cell_type": "markdown",
   "source": "## Create Tabular Time-Series DataFrame",
   "id": "aff74ba1fccd531b"
  },
  {
   "metadata": {
    "ExecuteTime": {
     "end_time": "2025-06-15T15:48:26.040576Z",
     "start_time": "2025-06-15T15:44:38.810881Z"
    }
   },
   "cell_type": "code",
   "source": [
    "importlib.reload(train_test)\n",
    " \n",
    "file=Path(\"../../../data/df_tabular_multi.csv\")\n",
    "\n",
    "if file.exists():\n",
    "    df_tabular_multi=pd.read_csv(file, index_col=0)\n",
    "else:\n",
    "    importlib.reload(train_test)\n",
    "    df_tabular_multi = train_test.get_dataframe_tabular_multi(df_pct)\n",
    "    df_tabular_multi.to_csv(file)"
   ],
   "id": "b9221bdd2218913f",
   "outputs": [],
   "execution_count": 370
  },
  {
   "metadata": {
    "ExecuteTime": {
     "end_time": "2025-06-15T15:48:26.066034Z",
     "start_time": "2025-06-15T15:48:26.060013Z"
    }
   },
   "cell_type": "code",
   "source": "df_tabular_multi.columns",
   "id": "bcbf39213ff973c2",
   "outputs": [
    {
     "data": {
      "text/plain": [
       "Index(['month', 'year', 'date', 'm_return(t-11)', 'm_return(t-10)',\n",
       "       'm_return(t-9)', 'm_return(t-8)', 'm_return(t-7)', 'm_return(t-6)',\n",
       "       'm_return(t-5)', 'm_return(t-4)', 'm_return(t-3)', 'm_return(t-2)',\n",
       "       'm_return(t-1)', 'm_return(t)', 'm_return_target(t+1)',\n",
       "       'm_return_target(t+2)', 'm_return_target(t+3)', 'm_return_target(t+4)',\n",
       "       'm_return_target(t+5)', 'm_return_target(t+6)', 'm_return_target(t+7)',\n",
       "       'm_return_target(t+8)', 'm_return_target(t+9)', 'm_return_target(t+10)',\n",
       "       'm_return_target(t+11)', 'm_return_target(t+12)', 'stock_ticker_label',\n",
       "       'company_esg_score', 'trailing_pe', 'beta', 'return_on_equity',\n",
       "       'earnings_growth', 'company_esg_score_scale', 'market_capital_scale',\n",
       "       'industry_Auto Components', 'industry_Automobiles', 'industry_Banks',\n",
       "       'industry_Building Products', 'industry_Chemicals',\n",
       "       'industry_Commercial Services', 'industry_Construction Materials',\n",
       "       'industry_Consumer Durables', 'industry_Consumer Services',\n",
       "       'industry_Containers & Packaging', 'industry_Diversified Financials',\n",
       "       'industry_Diversified Metals', 'industry_Electrical Equipment',\n",
       "       'industry_Energy Services', 'industry_Food Products',\n",
       "       'industry_Food Retailers', 'industry_Healthcare',\n",
       "       'industry_Homebuilders', 'industry_Household Products',\n",
       "       'industry_Insurance', 'industry_Machinery', 'industry_Media',\n",
       "       'industry_Oil & Gas Producers', 'industry_Paper & Forestry',\n",
       "       'industry_Pharmaceuticals', 'industry_Precious Metals',\n",
       "       'industry_Real Estate', 'industry_Refiners & Pipelines',\n",
       "       'industry_Retailing', 'industry_Semiconductors',\n",
       "       'industry_Software & Services', 'industry_Technology Hardware',\n",
       "       'industry_Telecommunication Services', 'industry_Textiles & Apparel',\n",
       "       'industry_Traders & Distributors', 'industry_Transportation',\n",
       "       'industry_Transportation Infrastructure', 'industry_Utilities',\n",
       "       'stock_exchange_ETR', 'stock_exchange_LON', 'stock_exchange_NAS',\n",
       "       'stock_exchange_NYS', 'stock_exchange_TKS', 'trailing_pe_scaled'],\n",
       "      dtype='object')"
      ]
     },
     "execution_count": 371,
     "metadata": {},
     "output_type": "execute_result"
    }
   ],
   "execution_count": 371
  },
  {
   "metadata": {},
   "cell_type": "markdown",
   "source": "## XGBoost Multivariate - 1 Month",
   "id": "4441e9b7d71e9e4c"
  },
  {
   "metadata": {
    "ExecuteTime": {
     "end_time": "2025-06-15T15:48:34.959206Z",
     "start_time": "2025-06-15T15:48:26.077306Z"
    }
   },
   "cell_type": "code",
   "source": [
    "importlib.reload(train_test)\n",
    "importlib.reload(xgboost_utils)\n",
    "importlib.reload(variables)\n",
    "#\n",
    "X_train, y_train, X_test, y_test, min_datestr = train_test.split_train_test_tabular(df_tabular_multi, months=variables.TEST_MONTHS_NR)\n",
    "#\n",
    "model_1m, score_1m = xgboost_utils.get_xgboost_trained_model(X_train, y_train, X_test, y_test)"
   ],
   "id": "13cd2f092a2e4628",
   "outputs": [
    {
     "name": "stdout",
     "output_type": "stream",
     "text": [
      "[0]\tvalidation_0-rmse:0.11709\tvalidation_1-rmse:0.10010\n",
      "[1]\tvalidation_0-rmse:0.11700\tvalidation_1-rmse:0.10002\n",
      "[2]\tvalidation_0-rmse:0.11689\tvalidation_1-rmse:0.09999\n",
      "[3]\tvalidation_0-rmse:0.11666\tvalidation_1-rmse:0.10000\n",
      "[4]\tvalidation_0-rmse:0.11658\tvalidation_1-rmse:0.09999\n",
      "[5]\tvalidation_0-rmse:0.11650\tvalidation_1-rmse:0.09997\n",
      "[6]\tvalidation_0-rmse:0.11642\tvalidation_1-rmse:0.09993\n",
      "[7]\tvalidation_0-rmse:0.11634\tvalidation_1-rmse:0.09992\n",
      "[8]\tvalidation_0-rmse:0.11612\tvalidation_1-rmse:0.09995\n",
      "[9]\tvalidation_0-rmse:0.11606\tvalidation_1-rmse:0.09994\n",
      "[10]\tvalidation_0-rmse:0.11596\tvalidation_1-rmse:0.09993\n",
      "[11]\tvalidation_0-rmse:0.11582\tvalidation_1-rmse:0.09993\n",
      "[12]\tvalidation_0-rmse:0.11576\tvalidation_1-rmse:0.09992\n",
      "[13]\tvalidation_0-rmse:0.11564\tvalidation_1-rmse:0.09993\n",
      "[14]\tvalidation_0-rmse:0.11558\tvalidation_1-rmse:0.09994\n",
      "[15]\tvalidation_0-rmse:0.11547\tvalidation_1-rmse:0.09998\n",
      "[16]\tvalidation_0-rmse:0.11539\tvalidation_1-rmse:0.09996\n",
      "[17]\tvalidation_0-rmse:0.11534\tvalidation_1-rmse:0.09992\n",
      "[18]\tvalidation_0-rmse:0.11528\tvalidation_1-rmse:0.09991\n",
      "[19]\tvalidation_0-rmse:0.11521\tvalidation_1-rmse:0.09991\n",
      "[20]\tvalidation_0-rmse:0.11517\tvalidation_1-rmse:0.09992\n",
      "[21]\tvalidation_0-rmse:0.11507\tvalidation_1-rmse:0.09992\n",
      "[22]\tvalidation_0-rmse:0.11500\tvalidation_1-rmse:0.09992\n",
      "[23]\tvalidation_0-rmse:0.11479\tvalidation_1-rmse:0.09993\n",
      "[24]\tvalidation_0-rmse:0.11475\tvalidation_1-rmse:0.09992\n",
      "[25]\tvalidation_0-rmse:0.11468\tvalidation_1-rmse:0.09993\n",
      "[26]\tvalidation_0-rmse:0.11461\tvalidation_1-rmse:0.09990\n",
      "[27]\tvalidation_0-rmse:0.11452\tvalidation_1-rmse:0.09992\n",
      "[28]\tvalidation_0-rmse:0.11448\tvalidation_1-rmse:0.09989\n",
      "[29]\tvalidation_0-rmse:0.11442\tvalidation_1-rmse:0.09989\n",
      "[30]\tvalidation_0-rmse:0.11427\tvalidation_1-rmse:0.09989\n",
      "[31]\tvalidation_0-rmse:0.11420\tvalidation_1-rmse:0.09983\n",
      "[32]\tvalidation_0-rmse:0.11413\tvalidation_1-rmse:0.09985\n",
      "[33]\tvalidation_0-rmse:0.11407\tvalidation_1-rmse:0.09985\n",
      "[34]\tvalidation_0-rmse:0.11401\tvalidation_1-rmse:0.09984\n",
      "[35]\tvalidation_0-rmse:0.11398\tvalidation_1-rmse:0.09985\n",
      "[36]\tvalidation_0-rmse:0.11392\tvalidation_1-rmse:0.09982\n",
      "[37]\tvalidation_0-rmse:0.11385\tvalidation_1-rmse:0.09973\n",
      "[38]\tvalidation_0-rmse:0.11381\tvalidation_1-rmse:0.09974\n",
      "[39]\tvalidation_0-rmse:0.11378\tvalidation_1-rmse:0.09974\n",
      "[40]\tvalidation_0-rmse:0.11373\tvalidation_1-rmse:0.09973\n",
      "[41]\tvalidation_0-rmse:0.11369\tvalidation_1-rmse:0.09973\n",
      "[42]\tvalidation_0-rmse:0.11366\tvalidation_1-rmse:0.09973\n",
      "[43]\tvalidation_0-rmse:0.11348\tvalidation_1-rmse:0.09974\n",
      "[44]\tvalidation_0-rmse:0.11342\tvalidation_1-rmse:0.09975\n",
      "[45]\tvalidation_0-rmse:0.11332\tvalidation_1-rmse:0.09974\n",
      "[46]\tvalidation_0-rmse:0.11328\tvalidation_1-rmse:0.09973\n",
      "[47]\tvalidation_0-rmse:0.11323\tvalidation_1-rmse:0.09973\n",
      "[48]\tvalidation_0-rmse:0.11318\tvalidation_1-rmse:0.09973\n",
      "[49]\tvalidation_0-rmse:0.11315\tvalidation_1-rmse:0.09973\n",
      "[50]\tvalidation_0-rmse:0.11312\tvalidation_1-rmse:0.09973\n",
      "[51]\tvalidation_0-rmse:0.11308\tvalidation_1-rmse:0.09972\n",
      "[52]\tvalidation_0-rmse:0.11306\tvalidation_1-rmse:0.09972\n",
      "[53]\tvalidation_0-rmse:0.11296\tvalidation_1-rmse:0.09983\n",
      "[54]\tvalidation_0-rmse:0.11291\tvalidation_1-rmse:0.09983\n",
      "[55]\tvalidation_0-rmse:0.11288\tvalidation_1-rmse:0.09980\n",
      "[56]\tvalidation_0-rmse:0.11285\tvalidation_1-rmse:0.09980\n",
      "[57]\tvalidation_0-rmse:0.11279\tvalidation_1-rmse:0.09981\n",
      "[58]\tvalidation_0-rmse:0.11270\tvalidation_1-rmse:0.09981\n",
      "[59]\tvalidation_0-rmse:0.11266\tvalidation_1-rmse:0.09983\n",
      "[60]\tvalidation_0-rmse:0.11262\tvalidation_1-rmse:0.09983\n",
      "[61]\tvalidation_0-rmse:0.11254\tvalidation_1-rmse:0.09982\n",
      "[62]\tvalidation_0-rmse:0.11251\tvalidation_1-rmse:0.09982\n",
      "[63]\tvalidation_0-rmse:0.11247\tvalidation_1-rmse:0.09981\n",
      "[64]\tvalidation_0-rmse:0.11244\tvalidation_1-rmse:0.09981\n",
      "[65]\tvalidation_0-rmse:0.11239\tvalidation_1-rmse:0.09981\n",
      "[66]\tvalidation_0-rmse:0.11236\tvalidation_1-rmse:0.09980\n",
      "[67]\tvalidation_0-rmse:0.11233\tvalidation_1-rmse:0.09981\n",
      "[68]\tvalidation_0-rmse:0.11229\tvalidation_1-rmse:0.09981\n",
      "[69]\tvalidation_0-rmse:0.11227\tvalidation_1-rmse:0.09981\n",
      "[70]\tvalidation_0-rmse:0.11224\tvalidation_1-rmse:0.09977\n",
      "[71]\tvalidation_0-rmse:0.11220\tvalidation_1-rmse:0.09981\n",
      "[72]\tvalidation_0-rmse:0.11213\tvalidation_1-rmse:0.10005\n",
      "[73]\tvalidation_0-rmse:0.11211\tvalidation_1-rmse:0.10005\n",
      "[74]\tvalidation_0-rmse:0.11204\tvalidation_1-rmse:0.10005\n",
      "[75]\tvalidation_0-rmse:0.11198\tvalidation_1-rmse:0.10003\n",
      "[76]\tvalidation_0-rmse:0.11196\tvalidation_1-rmse:0.10003\n",
      "[77]\tvalidation_0-rmse:0.11187\tvalidation_1-rmse:0.10000\n",
      "[78]\tvalidation_0-rmse:0.11183\tvalidation_1-rmse:0.10001\n",
      "[79]\tvalidation_0-rmse:0.11180\tvalidation_1-rmse:0.10001\n",
      "[80]\tvalidation_0-rmse:0.11178\tvalidation_1-rmse:0.10000\n",
      "[81]\tvalidation_0-rmse:0.11175\tvalidation_1-rmse:0.10000\n",
      "[82]\tvalidation_0-rmse:0.11169\tvalidation_1-rmse:0.10018\n",
      "[83]\tvalidation_0-rmse:0.11167\tvalidation_1-rmse:0.10018\n",
      "[84]\tvalidation_0-rmse:0.11163\tvalidation_1-rmse:0.10018\n",
      "[85]\tvalidation_0-rmse:0.11155\tvalidation_1-rmse:0.10039\n",
      "[86]\tvalidation_0-rmse:0.11151\tvalidation_1-rmse:0.10040\n",
      "[87]\tvalidation_0-rmse:0.11147\tvalidation_1-rmse:0.10039\n",
      "[88]\tvalidation_0-rmse:0.11135\tvalidation_1-rmse:0.10039\n",
      "[89]\tvalidation_0-rmse:0.11131\tvalidation_1-rmse:0.10042\n",
      "[90]\tvalidation_0-rmse:0.11128\tvalidation_1-rmse:0.10042\n",
      "[91]\tvalidation_0-rmse:0.11125\tvalidation_1-rmse:0.10042\n",
      "[92]\tvalidation_0-rmse:0.11112\tvalidation_1-rmse:0.10044\n",
      "[93]\tvalidation_0-rmse:0.11108\tvalidation_1-rmse:0.10044\n",
      "[94]\tvalidation_0-rmse:0.11105\tvalidation_1-rmse:0.10048\n",
      "[95]\tvalidation_0-rmse:0.11104\tvalidation_1-rmse:0.10049\n",
      "[96]\tvalidation_0-rmse:0.11102\tvalidation_1-rmse:0.10049\n",
      "[97]\tvalidation_0-rmse:0.11085\tvalidation_1-rmse:0.10057\n",
      "[98]\tvalidation_0-rmse:0.11083\tvalidation_1-rmse:0.10056\n",
      "[99]\tvalidation_0-rmse:0.11081\tvalidation_1-rmse:0.10056\n",
      "[100]\tvalidation_0-rmse:0.11077\tvalidation_1-rmse:0.10056\n",
      "[101]\tvalidation_0-rmse:0.11073\tvalidation_1-rmse:0.10056\n",
      "[102]\tvalidation_0-rmse:0.11071\tvalidation_1-rmse:0.10056\n",
      "[103]\tvalidation_0-rmse:0.11065\tvalidation_1-rmse:0.10065\n",
      "[104]\tvalidation_0-rmse:0.11062\tvalidation_1-rmse:0.10065\n",
      "[105]\tvalidation_0-rmse:0.11060\tvalidation_1-rmse:0.10065\n",
      "[106]\tvalidation_0-rmse:0.11055\tvalidation_1-rmse:0.10068\n",
      "[107]\tvalidation_0-rmse:0.11052\tvalidation_1-rmse:0.10069\n",
      "[108]\tvalidation_0-rmse:0.11046\tvalidation_1-rmse:0.10062\n",
      "[109]\tvalidation_0-rmse:0.11044\tvalidation_1-rmse:0.10062\n",
      "[110]\tvalidation_0-rmse:0.11035\tvalidation_1-rmse:0.10061\n",
      "[111]\tvalidation_0-rmse:0.11029\tvalidation_1-rmse:0.10067\n",
      "[112]\tvalidation_0-rmse:0.11025\tvalidation_1-rmse:0.10072\n",
      "[113]\tvalidation_0-rmse:0.11023\tvalidation_1-rmse:0.10071\n",
      "[114]\tvalidation_0-rmse:0.11019\tvalidation_1-rmse:0.10069\n",
      "[115]\tvalidation_0-rmse:0.11017\tvalidation_1-rmse:0.10068\n",
      "[116]\tvalidation_0-rmse:0.11014\tvalidation_1-rmse:0.10082\n",
      "[117]\tvalidation_0-rmse:0.11006\tvalidation_1-rmse:0.10073\n",
      "[118]\tvalidation_0-rmse:0.10998\tvalidation_1-rmse:0.10074\n",
      "[119]\tvalidation_0-rmse:0.10990\tvalidation_1-rmse:0.10071\n",
      "[120]\tvalidation_0-rmse:0.10982\tvalidation_1-rmse:0.10084\n",
      "[121]\tvalidation_0-rmse:0.10979\tvalidation_1-rmse:0.10089\n",
      "[122]\tvalidation_0-rmse:0.10975\tvalidation_1-rmse:0.10091\n",
      "[123]\tvalidation_0-rmse:0.10973\tvalidation_1-rmse:0.10093\n",
      "[124]\tvalidation_0-rmse:0.10959\tvalidation_1-rmse:0.10095\n",
      "[125]\tvalidation_0-rmse:0.10955\tvalidation_1-rmse:0.10098\n",
      "[126]\tvalidation_0-rmse:0.10954\tvalidation_1-rmse:0.10097\n",
      "[127]\tvalidation_0-rmse:0.10951\tvalidation_1-rmse:0.10099\n",
      "[128]\tvalidation_0-rmse:0.10944\tvalidation_1-rmse:0.10091\n",
      "[129]\tvalidation_0-rmse:0.10942\tvalidation_1-rmse:0.10091\n",
      "[130]\tvalidation_0-rmse:0.10940\tvalidation_1-rmse:0.10091\n",
      "[131]\tvalidation_0-rmse:0.10937\tvalidation_1-rmse:0.10091\n",
      "[132]\tvalidation_0-rmse:0.10935\tvalidation_1-rmse:0.10089\n",
      "[133]\tvalidation_0-rmse:0.10933\tvalidation_1-rmse:0.10088\n",
      "[134]\tvalidation_0-rmse:0.10932\tvalidation_1-rmse:0.10088\n",
      "[135]\tvalidation_0-rmse:0.10924\tvalidation_1-rmse:0.10088\n",
      "[136]\tvalidation_0-rmse:0.10921\tvalidation_1-rmse:0.10086\n",
      "[137]\tvalidation_0-rmse:0.10920\tvalidation_1-rmse:0.10086\n",
      "[138]\tvalidation_0-rmse:0.10913\tvalidation_1-rmse:0.10085\n",
      "[139]\tvalidation_0-rmse:0.10912\tvalidation_1-rmse:0.10086\n",
      "[140]\tvalidation_0-rmse:0.10910\tvalidation_1-rmse:0.10085\n",
      "[141]\tvalidation_0-rmse:0.10907\tvalidation_1-rmse:0.10085\n",
      "[142]\tvalidation_0-rmse:0.10906\tvalidation_1-rmse:0.10085\n",
      "[143]\tvalidation_0-rmse:0.10904\tvalidation_1-rmse:0.10092\n",
      "[144]\tvalidation_0-rmse:0.10901\tvalidation_1-rmse:0.10085\n",
      "[145]\tvalidation_0-rmse:0.10897\tvalidation_1-rmse:0.10087\n",
      "[146]\tvalidation_0-rmse:0.10889\tvalidation_1-rmse:0.10085\n",
      "[147]\tvalidation_0-rmse:0.10888\tvalidation_1-rmse:0.10085\n",
      "[148]\tvalidation_0-rmse:0.10883\tvalidation_1-rmse:0.10086\n",
      "[149]\tvalidation_0-rmse:0.10883\tvalidation_1-rmse:0.10086\n",
      "[150]\tvalidation_0-rmse:0.10882\tvalidation_1-rmse:0.10085\n",
      "[151]\tvalidation_0-rmse:0.10879\tvalidation_1-rmse:0.10085\n",
      "[152]\tvalidation_0-rmse:0.10879\tvalidation_1-rmse:0.10085\n",
      "[153]\tvalidation_0-rmse:0.10872\tvalidation_1-rmse:0.10085\n",
      "[154]\tvalidation_0-rmse:0.10871\tvalidation_1-rmse:0.10085\n",
      "[155]\tvalidation_0-rmse:0.10870\tvalidation_1-rmse:0.10083\n",
      "[156]\tvalidation_0-rmse:0.10868\tvalidation_1-rmse:0.10084\n",
      "[157]\tvalidation_0-rmse:0.10867\tvalidation_1-rmse:0.10083\n",
      "[158]\tvalidation_0-rmse:0.10865\tvalidation_1-rmse:0.10089\n",
      "[159]\tvalidation_0-rmse:0.10863\tvalidation_1-rmse:0.10089\n",
      "[160]\tvalidation_0-rmse:0.10861\tvalidation_1-rmse:0.10089\n",
      "[161]\tvalidation_0-rmse:0.10861\tvalidation_1-rmse:0.10088\n",
      "[162]\tvalidation_0-rmse:0.10860\tvalidation_1-rmse:0.10087\n",
      "[163]\tvalidation_0-rmse:0.10859\tvalidation_1-rmse:0.10092\n",
      "[164]\tvalidation_0-rmse:0.10857\tvalidation_1-rmse:0.10091\n",
      "[165]\tvalidation_0-rmse:0.10856\tvalidation_1-rmse:0.10091\n",
      "[166]\tvalidation_0-rmse:0.10854\tvalidation_1-rmse:0.10091\n",
      "[167]\tvalidation_0-rmse:0.10852\tvalidation_1-rmse:0.10092\n",
      "[168]\tvalidation_0-rmse:0.10850\tvalidation_1-rmse:0.10092\n",
      "[169]\tvalidation_0-rmse:0.10848\tvalidation_1-rmse:0.10093\n",
      "[170]\tvalidation_0-rmse:0.10846\tvalidation_1-rmse:0.10089\n",
      "[171]\tvalidation_0-rmse:0.10846\tvalidation_1-rmse:0.10089\n",
      "[172]\tvalidation_0-rmse:0.10843\tvalidation_1-rmse:0.10089\n",
      "[173]\tvalidation_0-rmse:0.10843\tvalidation_1-rmse:0.10090\n",
      "[174]\tvalidation_0-rmse:0.10840\tvalidation_1-rmse:0.10090\n",
      "[175]\tvalidation_0-rmse:0.10839\tvalidation_1-rmse:0.10090\n",
      "[176]\tvalidation_0-rmse:0.10837\tvalidation_1-rmse:0.10089\n",
      "[177]\tvalidation_0-rmse:0.10834\tvalidation_1-rmse:0.10090\n",
      "[178]\tvalidation_0-rmse:0.10833\tvalidation_1-rmse:0.10089\n",
      "[179]\tvalidation_0-rmse:0.10832\tvalidation_1-rmse:0.10089\n",
      "[180]\tvalidation_0-rmse:0.10831\tvalidation_1-rmse:0.10089\n",
      "[181]\tvalidation_0-rmse:0.10827\tvalidation_1-rmse:0.10085\n",
      "[182]\tvalidation_0-rmse:0.10826\tvalidation_1-rmse:0.10087\n",
      "[183]\tvalidation_0-rmse:0.10824\tvalidation_1-rmse:0.10087\n",
      "[184]\tvalidation_0-rmse:0.10823\tvalidation_1-rmse:0.10087\n",
      "[185]\tvalidation_0-rmse:0.10821\tvalidation_1-rmse:0.10086\n",
      "[186]\tvalidation_0-rmse:0.10820\tvalidation_1-rmse:0.10086\n",
      "[187]\tvalidation_0-rmse:0.10819\tvalidation_1-rmse:0.10086\n",
      "[188]\tvalidation_0-rmse:0.10816\tvalidation_1-rmse:0.10086\n",
      "[189]\tvalidation_0-rmse:0.10815\tvalidation_1-rmse:0.10086\n",
      "[190]\tvalidation_0-rmse:0.10805\tvalidation_1-rmse:0.10087\n",
      "[191]\tvalidation_0-rmse:0.10803\tvalidation_1-rmse:0.10087\n",
      "[192]\tvalidation_0-rmse:0.10801\tvalidation_1-rmse:0.10086\n",
      "[193]\tvalidation_0-rmse:0.10800\tvalidation_1-rmse:0.10086\n",
      "[194]\tvalidation_0-rmse:0.10800\tvalidation_1-rmse:0.10084\n",
      "[195]\tvalidation_0-rmse:0.10798\tvalidation_1-rmse:0.10084\n",
      "[196]\tvalidation_0-rmse:0.10793\tvalidation_1-rmse:0.10083\n",
      "[197]\tvalidation_0-rmse:0.10789\tvalidation_1-rmse:0.10085\n",
      "[198]\tvalidation_0-rmse:0.10788\tvalidation_1-rmse:0.10085\n",
      "[199]\tvalidation_0-rmse:0.10786\tvalidation_1-rmse:0.10086\n",
      "Mean MAE: 0.084 (0.012)\n"
     ]
    }
   ],
   "execution_count": 372
  },
  {
   "metadata": {
    "ExecuteTime": {
     "end_time": "2025-06-15T15:48:35.027580Z",
     "start_time": "2025-06-15T15:48:34.968565Z"
    }
   },
   "cell_type": "code",
   "source": "df_tabular_multi",
   "id": "8f023931a6449e80",
   "outputs": [
    {
     "data": {
      "text/plain": [
       "        month  year        date  m_return(t-11)  m_return(t-10)  \\\n",
       "0          11  2000  2000-11-01            1.05            0.91   \n",
       "1          12  2000  2000-12-01            0.91            1.30   \n",
       "2           1  2001  2001-01-01            1.30            1.00   \n",
       "3           2  2001  2001-02-01            1.00            0.97   \n",
       "4           3  2001  2001-03-01            0.97            1.00   \n",
       "...       ...   ...         ...             ...             ...   \n",
       "380947      4  2024  2024-04-01            0.97            0.98   \n",
       "380948      5  2024  2024-05-01            0.98            1.04   \n",
       "380949      6  2024  2024-06-01            1.04            0.98   \n",
       "380950      7  2024  2024-07-01            0.98            0.98   \n",
       "380951      8  2024  2024-08-01            0.98            0.99   \n",
       "\n",
       "        m_return(t-9)  m_return(t-8)  m_return(t-7)  m_return(t-6)  \\\n",
       "0                1.30           1.00           0.97           1.00   \n",
       "1                1.00           0.97           1.00           1.00   \n",
       "2                0.97           1.00           1.00           1.00   \n",
       "3                1.00           1.00           1.00           1.00   \n",
       "4                1.00           1.00           1.00           1.00   \n",
       "...               ...            ...            ...            ...   \n",
       "380947           1.04           0.98           0.98           0.99   \n",
       "380948           0.98           0.98           0.99           1.03   \n",
       "380949           0.98           0.99           1.03           1.11   \n",
       "380950           0.99           1.03           1.11           1.00   \n",
       "380951           1.03           1.11           1.00           1.04   \n",
       "\n",
       "        m_return(t-5)  ...  industry_Traders & Distributors  \\\n",
       "0                1.00  ...                              0.0   \n",
       "1                1.00  ...                              0.0   \n",
       "2                1.00  ...                              0.0   \n",
       "3                1.00  ...                              0.0   \n",
       "4                1.00  ...                              0.0   \n",
       "...               ...  ...                              ...   \n",
       "380947           1.03  ...                              0.0   \n",
       "380948           1.11  ...                              0.0   \n",
       "380949           1.00  ...                              0.0   \n",
       "380950           1.04  ...                              0.0   \n",
       "380951           1.02  ...                              0.0   \n",
       "\n",
       "        industry_Transportation  industry_Transportation Infrastructure  \\\n",
       "0                           0.0                                     0.0   \n",
       "1                           0.0                                     0.0   \n",
       "2                           0.0                                     0.0   \n",
       "3                           0.0                                     0.0   \n",
       "4                           0.0                                     0.0   \n",
       "...                         ...                                     ...   \n",
       "380947                      0.0                                     0.0   \n",
       "380948                      0.0                                     0.0   \n",
       "380949                      0.0                                     0.0   \n",
       "380950                      0.0                                     0.0   \n",
       "380951                      0.0                                     0.0   \n",
       "\n",
       "        industry_Utilities  stock_exchange_ETR  stock_exchange_LON  \\\n",
       "0                      0.0                 0.0                 0.0   \n",
       "1                      0.0                 0.0                 0.0   \n",
       "2                      0.0                 0.0                 0.0   \n",
       "3                      0.0                 0.0                 0.0   \n",
       "4                      0.0                 0.0                 0.0   \n",
       "...                    ...                 ...                 ...   \n",
       "380947                 0.0                 0.0                 1.0   \n",
       "380948                 0.0                 0.0                 1.0   \n",
       "380949                 0.0                 0.0                 1.0   \n",
       "380950                 0.0                 0.0                 1.0   \n",
       "380951                 0.0                 0.0                 1.0   \n",
       "\n",
       "        stock_exchange_NAS  stock_exchange_NYS  stock_exchange_TKS  \\\n",
       "0                      0.0                 1.0                 0.0   \n",
       "1                      0.0                 1.0                 0.0   \n",
       "2                      0.0                 1.0                 0.0   \n",
       "3                      0.0                 1.0                 0.0   \n",
       "4                      0.0                 1.0                 0.0   \n",
       "...                    ...                 ...                 ...   \n",
       "380947                 0.0                 0.0                 0.0   \n",
       "380948                 0.0                 0.0                 0.0   \n",
       "380949                 0.0                 0.0                 0.0   \n",
       "380950                 0.0                 0.0                 0.0   \n",
       "380951                 0.0                 0.0                 0.0   \n",
       "\n",
       "        trailing_pe_scaled  \n",
       "0                   0.0085  \n",
       "1                   0.0085  \n",
       "2                   0.0085  \n",
       "3                   0.0085  \n",
       "4                   0.0085  \n",
       "...                    ...  \n",
       "380947              0.0032  \n",
       "380948              0.0032  \n",
       "380949              0.0032  \n",
       "380950              0.0032  \n",
       "380951              0.0032  \n",
       "\n",
       "[380952 rows x 79 columns]"
      ],
      "text/html": [
       "<div>\n",
       "<style scoped>\n",
       "    .dataframe tbody tr th:only-of-type {\n",
       "        vertical-align: middle;\n",
       "    }\n",
       "\n",
       "    .dataframe tbody tr th {\n",
       "        vertical-align: top;\n",
       "    }\n",
       "\n",
       "    .dataframe thead th {\n",
       "        text-align: right;\n",
       "    }\n",
       "</style>\n",
       "<table border=\"1\" class=\"dataframe\">\n",
       "  <thead>\n",
       "    <tr style=\"text-align: right;\">\n",
       "      <th></th>\n",
       "      <th>month</th>\n",
       "      <th>year</th>\n",
       "      <th>date</th>\n",
       "      <th>m_return(t-11)</th>\n",
       "      <th>m_return(t-10)</th>\n",
       "      <th>m_return(t-9)</th>\n",
       "      <th>m_return(t-8)</th>\n",
       "      <th>m_return(t-7)</th>\n",
       "      <th>m_return(t-6)</th>\n",
       "      <th>m_return(t-5)</th>\n",
       "      <th>...</th>\n",
       "      <th>industry_Traders &amp; Distributors</th>\n",
       "      <th>industry_Transportation</th>\n",
       "      <th>industry_Transportation Infrastructure</th>\n",
       "      <th>industry_Utilities</th>\n",
       "      <th>stock_exchange_ETR</th>\n",
       "      <th>stock_exchange_LON</th>\n",
       "      <th>stock_exchange_NAS</th>\n",
       "      <th>stock_exchange_NYS</th>\n",
       "      <th>stock_exchange_TKS</th>\n",
       "      <th>trailing_pe_scaled</th>\n",
       "    </tr>\n",
       "  </thead>\n",
       "  <tbody>\n",
       "    <tr>\n",
       "      <th>0</th>\n",
       "      <td>11</td>\n",
       "      <td>2000</td>\n",
       "      <td>2000-11-01</td>\n",
       "      <td>1.05</td>\n",
       "      <td>0.91</td>\n",
       "      <td>1.30</td>\n",
       "      <td>1.00</td>\n",
       "      <td>0.97</td>\n",
       "      <td>1.00</td>\n",
       "      <td>1.00</td>\n",
       "      <td>...</td>\n",
       "      <td>0.0</td>\n",
       "      <td>0.0</td>\n",
       "      <td>0.0</td>\n",
       "      <td>0.0</td>\n",
       "      <td>0.0</td>\n",
       "      <td>0.0</td>\n",
       "      <td>0.0</td>\n",
       "      <td>1.0</td>\n",
       "      <td>0.0</td>\n",
       "      <td>0.0085</td>\n",
       "    </tr>\n",
       "    <tr>\n",
       "      <th>1</th>\n",
       "      <td>12</td>\n",
       "      <td>2000</td>\n",
       "      <td>2000-12-01</td>\n",
       "      <td>0.91</td>\n",
       "      <td>1.30</td>\n",
       "      <td>1.00</td>\n",
       "      <td>0.97</td>\n",
       "      <td>1.00</td>\n",
       "      <td>1.00</td>\n",
       "      <td>1.00</td>\n",
       "      <td>...</td>\n",
       "      <td>0.0</td>\n",
       "      <td>0.0</td>\n",
       "      <td>0.0</td>\n",
       "      <td>0.0</td>\n",
       "      <td>0.0</td>\n",
       "      <td>0.0</td>\n",
       "      <td>0.0</td>\n",
       "      <td>1.0</td>\n",
       "      <td>0.0</td>\n",
       "      <td>0.0085</td>\n",
       "    </tr>\n",
       "    <tr>\n",
       "      <th>2</th>\n",
       "      <td>1</td>\n",
       "      <td>2001</td>\n",
       "      <td>2001-01-01</td>\n",
       "      <td>1.30</td>\n",
       "      <td>1.00</td>\n",
       "      <td>0.97</td>\n",
       "      <td>1.00</td>\n",
       "      <td>1.00</td>\n",
       "      <td>1.00</td>\n",
       "      <td>1.00</td>\n",
       "      <td>...</td>\n",
       "      <td>0.0</td>\n",
       "      <td>0.0</td>\n",
       "      <td>0.0</td>\n",
       "      <td>0.0</td>\n",
       "      <td>0.0</td>\n",
       "      <td>0.0</td>\n",
       "      <td>0.0</td>\n",
       "      <td>1.0</td>\n",
       "      <td>0.0</td>\n",
       "      <td>0.0085</td>\n",
       "    </tr>\n",
       "    <tr>\n",
       "      <th>3</th>\n",
       "      <td>2</td>\n",
       "      <td>2001</td>\n",
       "      <td>2001-02-01</td>\n",
       "      <td>1.00</td>\n",
       "      <td>0.97</td>\n",
       "      <td>1.00</td>\n",
       "      <td>1.00</td>\n",
       "      <td>1.00</td>\n",
       "      <td>1.00</td>\n",
       "      <td>1.00</td>\n",
       "      <td>...</td>\n",
       "      <td>0.0</td>\n",
       "      <td>0.0</td>\n",
       "      <td>0.0</td>\n",
       "      <td>0.0</td>\n",
       "      <td>0.0</td>\n",
       "      <td>0.0</td>\n",
       "      <td>0.0</td>\n",
       "      <td>1.0</td>\n",
       "      <td>0.0</td>\n",
       "      <td>0.0085</td>\n",
       "    </tr>\n",
       "    <tr>\n",
       "      <th>4</th>\n",
       "      <td>3</td>\n",
       "      <td>2001</td>\n",
       "      <td>2001-03-01</td>\n",
       "      <td>0.97</td>\n",
       "      <td>1.00</td>\n",
       "      <td>1.00</td>\n",
       "      <td>1.00</td>\n",
       "      <td>1.00</td>\n",
       "      <td>1.00</td>\n",
       "      <td>1.00</td>\n",
       "      <td>...</td>\n",
       "      <td>0.0</td>\n",
       "      <td>0.0</td>\n",
       "      <td>0.0</td>\n",
       "      <td>0.0</td>\n",
       "      <td>0.0</td>\n",
       "      <td>0.0</td>\n",
       "      <td>0.0</td>\n",
       "      <td>1.0</td>\n",
       "      <td>0.0</td>\n",
       "      <td>0.0085</td>\n",
       "    </tr>\n",
       "    <tr>\n",
       "      <th>...</th>\n",
       "      <td>...</td>\n",
       "      <td>...</td>\n",
       "      <td>...</td>\n",
       "      <td>...</td>\n",
       "      <td>...</td>\n",
       "      <td>...</td>\n",
       "      <td>...</td>\n",
       "      <td>...</td>\n",
       "      <td>...</td>\n",
       "      <td>...</td>\n",
       "      <td>...</td>\n",
       "      <td>...</td>\n",
       "      <td>...</td>\n",
       "      <td>...</td>\n",
       "      <td>...</td>\n",
       "      <td>...</td>\n",
       "      <td>...</td>\n",
       "      <td>...</td>\n",
       "      <td>...</td>\n",
       "      <td>...</td>\n",
       "      <td>...</td>\n",
       "    </tr>\n",
       "    <tr>\n",
       "      <th>380947</th>\n",
       "      <td>4</td>\n",
       "      <td>2024</td>\n",
       "      <td>2024-04-01</td>\n",
       "      <td>0.97</td>\n",
       "      <td>0.98</td>\n",
       "      <td>1.04</td>\n",
       "      <td>0.98</td>\n",
       "      <td>0.98</td>\n",
       "      <td>0.99</td>\n",
       "      <td>1.03</td>\n",
       "      <td>...</td>\n",
       "      <td>0.0</td>\n",
       "      <td>0.0</td>\n",
       "      <td>0.0</td>\n",
       "      <td>0.0</td>\n",
       "      <td>0.0</td>\n",
       "      <td>1.0</td>\n",
       "      <td>0.0</td>\n",
       "      <td>0.0</td>\n",
       "      <td>0.0</td>\n",
       "      <td>0.0032</td>\n",
       "    </tr>\n",
       "    <tr>\n",
       "      <th>380948</th>\n",
       "      <td>5</td>\n",
       "      <td>2024</td>\n",
       "      <td>2024-05-01</td>\n",
       "      <td>0.98</td>\n",
       "      <td>1.04</td>\n",
       "      <td>0.98</td>\n",
       "      <td>0.98</td>\n",
       "      <td>0.99</td>\n",
       "      <td>1.03</td>\n",
       "      <td>1.11</td>\n",
       "      <td>...</td>\n",
       "      <td>0.0</td>\n",
       "      <td>0.0</td>\n",
       "      <td>0.0</td>\n",
       "      <td>0.0</td>\n",
       "      <td>0.0</td>\n",
       "      <td>1.0</td>\n",
       "      <td>0.0</td>\n",
       "      <td>0.0</td>\n",
       "      <td>0.0</td>\n",
       "      <td>0.0032</td>\n",
       "    </tr>\n",
       "    <tr>\n",
       "      <th>380949</th>\n",
       "      <td>6</td>\n",
       "      <td>2024</td>\n",
       "      <td>2024-06-01</td>\n",
       "      <td>1.04</td>\n",
       "      <td>0.98</td>\n",
       "      <td>0.98</td>\n",
       "      <td>0.99</td>\n",
       "      <td>1.03</td>\n",
       "      <td>1.11</td>\n",
       "      <td>1.00</td>\n",
       "      <td>...</td>\n",
       "      <td>0.0</td>\n",
       "      <td>0.0</td>\n",
       "      <td>0.0</td>\n",
       "      <td>0.0</td>\n",
       "      <td>0.0</td>\n",
       "      <td>1.0</td>\n",
       "      <td>0.0</td>\n",
       "      <td>0.0</td>\n",
       "      <td>0.0</td>\n",
       "      <td>0.0032</td>\n",
       "    </tr>\n",
       "    <tr>\n",
       "      <th>380950</th>\n",
       "      <td>7</td>\n",
       "      <td>2024</td>\n",
       "      <td>2024-07-01</td>\n",
       "      <td>0.98</td>\n",
       "      <td>0.98</td>\n",
       "      <td>0.99</td>\n",
       "      <td>1.03</td>\n",
       "      <td>1.11</td>\n",
       "      <td>1.00</td>\n",
       "      <td>1.04</td>\n",
       "      <td>...</td>\n",
       "      <td>0.0</td>\n",
       "      <td>0.0</td>\n",
       "      <td>0.0</td>\n",
       "      <td>0.0</td>\n",
       "      <td>0.0</td>\n",
       "      <td>1.0</td>\n",
       "      <td>0.0</td>\n",
       "      <td>0.0</td>\n",
       "      <td>0.0</td>\n",
       "      <td>0.0032</td>\n",
       "    </tr>\n",
       "    <tr>\n",
       "      <th>380951</th>\n",
       "      <td>8</td>\n",
       "      <td>2024</td>\n",
       "      <td>2024-08-01</td>\n",
       "      <td>0.98</td>\n",
       "      <td>0.99</td>\n",
       "      <td>1.03</td>\n",
       "      <td>1.11</td>\n",
       "      <td>1.00</td>\n",
       "      <td>1.04</td>\n",
       "      <td>1.02</td>\n",
       "      <td>...</td>\n",
       "      <td>0.0</td>\n",
       "      <td>0.0</td>\n",
       "      <td>0.0</td>\n",
       "      <td>0.0</td>\n",
       "      <td>0.0</td>\n",
       "      <td>1.0</td>\n",
       "      <td>0.0</td>\n",
       "      <td>0.0</td>\n",
       "      <td>0.0</td>\n",
       "      <td>0.0032</td>\n",
       "    </tr>\n",
       "  </tbody>\n",
       "</table>\n",
       "<p>380952 rows × 79 columns</p>\n",
       "</div>"
      ]
     },
     "execution_count": 373,
     "metadata": {},
     "output_type": "execute_result"
    }
   ],
   "execution_count": 373
  },
  {
   "metadata": {
    "ExecuteTime": {
     "end_time": "2025-06-15T15:48:35.343677Z",
     "start_time": "2025-06-15T15:48:35.032204Z"
    }
   },
   "cell_type": "code",
   "source": [
    "months_1m = 1\n",
    "X_train_1m, y_train_1m, X_test_1m, y_test_1m, min_datestr_1m = train_test.split_train_test_tabular(df_tabular_multi, months=1)\n",
    "# reset index\n",
    "X_train_1m.reset_index(drop=True, inplace=True)\n",
    "y_train_1m.reset_index(drop=True, inplace=True)\n",
    "X_test_1m.reset_index(drop=True, inplace=True)\n",
    "y_test_1m.reset_index(drop=True, inplace=True)"
   ],
   "id": "e38e80acfa22ccfe",
   "outputs": [],
   "execution_count": 374
  },
  {
   "metadata": {
    "ExecuteTime": {
     "end_time": "2025-06-15T15:48:35.617329Z",
     "start_time": "2025-06-15T15:48:35.352205Z"
    }
   },
   "cell_type": "code",
   "source": [
    "dt = datetime.strptime(min_datestr, '%Y-%m-%d')\n",
    "\n",
    "# get all training months without the last 6 months\n",
    "X_train_input_1m = X_train_1m.head(len(X_train_1m) - len(df_pct.columns) * months_1m)\n",
    "# Get last 6 months of the training dataset and use as input to predict the next 6 months\n",
    "X_test_input_1m = X_train_1m.tail(len(df_pct.columns) * months_1m)\n",
    "\n",
    "# Trained \n",
    "y_train_pred_1m = model_1m.predict(X_train_input_1m)\n",
    "# Predictions\n",
    "y_test_pred_1m = model_1m.predict(X_test_input_1m)"
   ],
   "id": "ed1ff73702ce29da",
   "outputs": [],
   "execution_count": 375
  },
  {
   "metadata": {},
   "cell_type": "markdown",
   "source": "### 1 month Actual vs Prediction",
   "id": "cd12d24fdb0d2753"
  },
  {
   "metadata": {
    "ExecuteTime": {
     "end_time": "2025-06-15T15:48:35.684337Z",
     "start_time": "2025-06-15T15:48:35.625468Z"
    }
   },
   "cell_type": "code",
   "source": [
    "importlib.reload(mpt_utils)\n",
    "importlib.reload(plots)\n",
    "\n",
    "y_train_mean_pred_1m, y_test_mean_pred_1m = mpt_utils.get_train_test_mean_pred(y_train_pred_1m, y_test_pred_1m, len(df_pct.columns))\n",
    "plots.generate_timeseries_plot(df_pct, df_tabular_multi, y_train_mean_pred_1m, y_test_mean_pred_1m)"
   ],
   "id": "c554cf80ec6502a6",
   "outputs": [
    {
     "name": "stdout",
     "output_type": "stream",
     "text": [
      "284.0\n"
     ]
    },
    {
     "data": {
      "application/vnd.plotly.v1+json": {
       "data": [
        {
         "line": {
          "color": "#5c839f",
          "width": 2
         },
         "mode": "lines",
         "name": "Actual returns",
         "x": [
          "2000-12-01",
          "2001-01-01",
          "2001-02-01",
          "2001-03-01",
          "2001-04-01",
          "2001-05-01",
          "2001-06-01",
          "2001-07-01",
          "2001-08-01",
          "2001-09-01",
          "2001-10-01",
          "2001-11-01",
          "2001-12-01",
          "2002-01-01",
          "2002-02-01",
          "2002-03-01",
          "2002-04-01",
          "2002-05-01",
          "2002-06-01",
          "2002-07-01",
          "2002-08-01",
          "2002-09-01",
          "2002-10-01",
          "2002-11-01",
          "2002-12-01",
          "2003-01-01",
          "2003-02-01",
          "2003-03-01",
          "2003-04-01",
          "2003-05-01",
          "2003-06-01",
          "2003-07-01",
          "2003-08-01",
          "2003-09-01",
          "2003-10-01",
          "2003-11-01",
          "2003-12-01",
          "2004-01-01",
          "2004-02-01",
          "2004-03-01",
          "2004-04-01",
          "2004-05-01",
          "2004-06-01",
          "2004-07-01",
          "2004-08-01",
          "2004-09-01",
          "2004-10-01",
          "2004-11-01",
          "2004-12-01",
          "2005-01-01",
          "2005-02-01",
          "2005-03-01",
          "2005-04-01",
          "2005-05-01",
          "2005-06-01",
          "2005-07-01",
          "2005-08-01",
          "2005-09-01",
          "2005-10-01",
          "2005-11-01",
          "2005-12-01",
          "2006-01-01",
          "2006-02-01",
          "2006-03-01",
          "2006-04-01",
          "2006-05-01",
          "2006-06-01",
          "2006-07-01",
          "2006-08-01",
          "2006-09-01",
          "2006-10-01",
          "2006-11-01",
          "2006-12-01",
          "2007-01-01",
          "2007-02-01",
          "2007-03-01",
          "2007-04-01",
          "2007-05-01",
          "2007-06-01",
          "2007-07-01",
          "2007-08-01",
          "2007-09-01",
          "2007-10-01",
          "2007-11-01",
          "2007-12-01",
          "2008-01-01",
          "2008-02-01",
          "2008-03-01",
          "2008-04-01",
          "2008-05-01",
          "2008-06-01",
          "2008-07-01",
          "2008-08-01",
          "2008-09-01",
          "2008-10-01",
          "2008-11-01",
          "2008-12-01",
          "2009-01-01",
          "2009-02-01",
          "2009-03-01",
          "2009-04-01",
          "2009-05-01",
          "2009-06-01",
          "2009-07-01",
          "2009-08-01",
          "2009-09-01",
          "2009-10-01",
          "2009-11-01",
          "2009-12-01",
          "2010-01-01",
          "2010-02-01",
          "2010-03-01",
          "2010-04-01",
          "2010-05-01",
          "2010-06-01",
          "2010-07-01",
          "2010-08-01",
          "2010-09-01",
          "2010-10-01",
          "2010-11-01",
          "2010-12-01",
          "2011-01-01",
          "2011-02-01",
          "2011-03-01",
          "2011-04-01",
          "2011-05-01",
          "2011-06-01",
          "2011-07-01",
          "2011-08-01",
          "2011-09-01",
          "2011-10-01",
          "2011-11-01",
          "2011-12-01",
          "2012-01-01",
          "2012-02-01",
          "2012-03-01",
          "2012-04-01",
          "2012-05-01",
          "2012-06-01",
          "2012-07-01",
          "2012-08-01",
          "2012-09-01",
          "2012-10-01",
          "2012-11-01",
          "2012-12-01",
          "2013-01-01",
          "2013-02-01",
          "2013-03-01",
          "2013-04-01",
          "2013-05-01",
          "2013-06-01",
          "2013-07-01",
          "2013-08-01",
          "2013-09-01",
          "2013-10-01",
          "2013-11-01",
          "2013-12-01",
          "2014-01-01",
          "2014-02-01",
          "2014-03-01",
          "2014-04-01",
          "2014-05-01",
          "2014-06-01",
          "2014-07-01",
          "2014-08-01",
          "2014-09-01",
          "2014-10-01",
          "2014-11-01",
          "2014-12-01",
          "2015-01-01",
          "2015-02-01",
          "2015-03-01",
          "2015-04-01",
          "2015-05-01",
          "2015-06-01",
          "2015-07-01",
          "2015-08-01",
          "2015-09-01",
          "2015-10-01",
          "2015-11-01",
          "2015-12-01",
          "2016-01-01",
          "2016-02-01",
          "2016-03-01",
          "2016-04-01",
          "2016-05-01",
          "2016-06-01",
          "2016-07-01",
          "2016-08-01",
          "2016-09-01",
          "2016-10-01",
          "2016-11-01",
          "2016-12-01",
          "2017-01-01",
          "2017-02-01",
          "2017-03-01",
          "2017-04-01",
          "2017-05-01",
          "2017-06-01",
          "2017-07-01",
          "2017-08-01",
          "2017-09-01",
          "2017-10-01",
          "2017-11-01",
          "2017-12-01",
          "2018-01-01",
          "2018-02-01",
          "2018-03-01",
          "2018-04-01",
          "2018-05-01",
          "2018-06-01",
          "2018-07-01",
          "2018-08-01",
          "2018-09-01",
          "2018-10-01",
          "2018-11-01",
          "2018-12-01",
          "2019-01-01",
          "2019-02-01",
          "2019-03-01",
          "2019-04-01",
          "2019-05-01",
          "2019-06-01",
          "2019-07-01",
          "2019-08-01",
          "2019-09-01",
          "2019-10-01",
          "2019-11-01",
          "2019-12-01",
          "2020-01-01",
          "2020-02-01",
          "2020-03-01",
          "2020-04-01",
          "2020-05-01",
          "2020-06-01",
          "2020-07-01",
          "2020-08-01",
          "2020-09-01",
          "2020-10-01",
          "2020-11-01",
          "2020-12-01",
          "2021-01-01",
          "2021-02-01",
          "2021-03-01",
          "2021-04-01",
          "2021-05-01",
          "2021-06-01",
          "2021-07-01",
          "2021-08-01",
          "2021-09-01",
          "2021-10-01",
          "2021-11-01",
          "2021-12-01",
          "2022-01-01",
          "2022-02-01",
          "2022-03-01",
          "2022-04-01",
          "2022-05-01",
          "2022-06-01",
          "2022-07-01",
          "2022-08-01",
          "2022-09-01",
          "2022-10-01",
          "2022-11-01",
          "2022-12-01",
          "2023-01-01",
          "2023-02-01",
          "2023-03-01",
          "2023-04-01",
          "2023-05-01",
          "2023-06-01",
          "2023-07-01",
          "2023-08-01",
          "2023-09-01",
          "2023-10-01",
          "2023-11-01",
          "2023-12-01",
          "2024-01-01",
          "2024-02-01",
          "2024-03-01",
          "2024-04-01",
          "2024-05-01",
          "2024-06-01",
          "2024-07-01",
          "2024-08-01"
         ],
         "y": [
          0.02743993993994054,
          0.038025525525524406,
          -0.009414414414414263,
          0.22023273273273247,
          0.031974474474474324,
          -0.00259009009009048,
          -0.020735735735735616,
          0.033678678678677354,
          -0.003978978978978809,
          0.0299774774774777,
          -0.007777777777777883,
          -0.011524024024024082,
          -0.026936936936937994,
          0.01249999999999929,
          0.038400900900901425,
          -0.02846096096096018,
          -0.012762762762762891,
          0.07272522522522085,
          0.015735735735736167,
          0.001644144144144155,
          -0.026996996996994982,
          -0.030915915915913916,
          -0.09028528528528412,
          0.05090840840840727,
          0.0509159159159156,
          0.018573573573573476,
          -0.005405405405404129,
          0.012072072072070394,
          0.05409159159158938,
          0.009024024024022914,
          0.00522522522522495,
          -0.05081831831831807,
          -0.06252252252252144,
          -0.011471471471471095,
          -0.04330330330330234,
          0.010465465465465451,
          0.058453453453451765,
          -0.03432432432432431,
          -0.01071321321321217,
          0.003100600600600245,
          -0.0021696696696679174,
          0.06228978978978872,
          0.07175675675675475,
          0.03475225225225054,
          0.05778528528528293,
          0.06289039039038924,
          0.004909909909908583,
          0.05349099099098753,
          0.004924924924925467,
          0.01909159159158902,
          0.032132132132131064,
          0.01701951951951819,
          0.05260510510510441,
          0.00787537537537375,
          -0.0060810810810809635,
          0.039166666666664574,
          -0.03876126126125934,
          -0.006861861861861107,
          0.005180180180180738,
          0.004489489489490461,
          0.03232732732732635,
          0.05847597597597187,
          0.008250750750750768,
          0.024947447447445814,
          -0.0037087087087082082,
          -0.022267267267264912,
          0.03677177177176838,
          0.024557057057054577,
          0.040442942942939375,
          -6.981981981986074E-4,
          0.01872372372372233,
          0.07061561561561569,
          0.05157657657657366,
          0.02451201201201103,
          0.04399399399399351,
          0.0172822822822829,
          0.028603603603601258,
          0.0011486486486493863,
          -0.03011261261261,
          -0.0018618618618618799,
          -0.01278528528528522,
          0.028018018018014734,
          0.014181681681680214,
          0.024466966966965265,
          0.027897897897896762,
          0.030930930930927136,
          0.03999999999999804,
          0.0035285285285273638,
          0.0018993993994007585,
          0.021418918918917118,
          0.02924174174173988,
          -0.01469969969969842,
          -0.03518768768768399,
          -0.010007507507506563,
          0.0024024024024018598,
          0.019632132132131774,
          -0.05572822822822687,
          -0.009954954954954243,
          -0.06066066066065812,
          -0.010435435435435347,
          -0.014969969969969021,
          0.03434684684684575,
          0.027875375375374656,
          -0.07102852852852792,
          -0.0025300300300311607,
          0.01765015015014937,
          -0.07436936936936767,
          -0.16220720720720616,
          -0.05918918918918892,
          0.04562312312312233,
          -0.056186186186185094,
          -0.06329579579579647,
          0.07671171171171154,
          0.15475225225225198,
          0.04527027027027031,
          0.03893393393393363,
          0.07099849849849749,
          0.05655405405405389,
          0.03070570570570519,
          -0.021951951951950766,
          0.0010360360360355259,
          0.05536036036035763,
          -0.013551051051049257,
          0.020743243243242837,
          0.06338588588588245,
          0.04948948948948795,
          -0.05758258258257942,
          -0.040217717717715096,
          0.040165165165163996,
          -0.03746996996996865,
          0.07373123123122904,
          0.0181606606606608,
          0.029774774774774082,
          0.06351351351350831,
          0.01366366366366445,
          0.03365615615615347,
          -0.01171171171171026,
          0.02272522522522369,
          -0.0021996996996992424,
          -4.279279279268966E-4,
          -0.018408408408405852,
          -0.05390390390390232,
          -0.049354354354354535,
          0.07704954954954912,
          -0.014466966966965367,
          0.005720720720719719,
          0.056246246246242304,
          0.04385885885885599,
          0.03139639639639191,
          -0.005975975975974102,
          -0.05990990990990752,
          0.033543543543540055,
          -0.0019219219219228645,
          0.021854354354353456,
          0.016599099099097403,
          0.002957957957956614,
          0.017342342342340444,
          0.032770270270266355,
          0.06512762762762248,
          0.025345345345343828,
          0.04521021021020588,
          0.03481231231231119,
          0.018280780780780104,
          -0.009894894894894812,
          0.03924924924924866,
          -0.009249249249246638,
          0.05455705705705238,
          0.028130630630627262,
          0.02668168168168039,
          0.022522522522519184,
          -0.013288288288286432,
          0.030075075075072455,
          0.0034009009009017266,
          -0.014481981981981806,
          0.020037537537534345,
          0.03023273273272986,
          -0.013093093093094033,
          0.02825825825825312,
          -0.01791291291291064,
          0.03218468468468272,
          0.04343843843843276,
          0.015833333333329813,
          0.002282282282282333,
          0.04680930930930782,
          0.012477477477475851,
          2.1771771771783577E-4,
          0.0293018018017992,
          -0.007530030030026724,
          0.015135135135132538,
          -0.04286786786786334,
          -0.025360360360358603,
          0.058055555555554195,
          0.02036786786786493,
          -0.020202702702699193,
          -0.05234234234234081,
          -0.003768768768769082,
          0.06146396396395826,
          0.0017117117117124714,
          0.02473723723723631,
          -0.028280780780780446,
          0.058536036036028305,
          0.009331831831831616,
          0.011493993993994867,
          -0.004587087087085662,
          0.04523273273273265,
          0.03180180180179559,
          0.011876876876876663,
          0.023596096096092145,
          0.009294294294294847,
          0.01928678678678275,
          0.017432432432431755,
          0.013648648648647344,
          0.016336336336334467,
          0.005165165165165186,
          0.03681681681681481,
          0.024496996996993925,
          0.029166666666663676,
          0.011771771771771133,
          0.025037537537536014,
          -0.02737237237236656,
          -7.732732732720349E-4,
          0.021028528528523216,
          0.03003003003002891,
          0.00960210210210044,
          0.015405405405403583,
          0.023415915915913077,
          -0.0036411411411424455,
          -0.06527777777777555,
          0.018873873873872515,
          -0.0894669669669641,
          0.09368618618618263,
          0.041291291291286614,
          0.008566066066063804,
          0.043918918918915084,
          -0.05617867867867832,
          0.04983483483482942,
          0.020818318318316154,
          -0.026448948948949114,
          0.037800300300294465,
          0.032867867867863776,
          0.034909909909907055,
          0.02680930930930736,
          -0.014016516516515032,
          -0.09361111111110709,
          -0.18348348348348387,
          0.1288888888888864,
          0.0715540540540538,
          0.02461711711711967,
          0.01599099099099388,
          0.0644519519519513,
          -0.006869369369366662,
          -0.005548048048042986,
          0.14040540540540425,
          0.05409909909909216,
          0.02852852852853105,
          0.0521096096096072,
          0.04906156156155683,
          0.03810810810810494,
          0.01629129129128959,
          0.016869369369369114,
          0.011163663663662282,
          0.02643393393393012,
          -0.02038288288288037,
          0.03498498498498348,
          -0.02757507507507051,
          0.045360360360353846,
          -0.07055555555555282,
          -0.012312312312310003,
          0.007882882882881193,
          -0.048010510510507864,
          0.005157657657655745,
          -0.06768018018017974,
          0.09111111111110559,
          -0.029324324324321083,
          -0.09201201201200937,
          0.08337837837837592,
          0.05950450450450018,
          -0.04256756756756219,
          0.08824324324324206,
          -0.005262762762760831,
          -0.012912912912911412,
          0.005990990990987433,
          -0.006478978978976202,
          0.062995495495489,
          0.0376951951951896,
          -0.019376876876874283,
          -0.03429429429428832,
          -0.04720720720720273,
          0.08611111111110614,
          0.07102852852852637,
          -0.0033783783783778443,
          0.027439939939941205,
          0.033686186186181466,
          -0.03638888888888547,
          0.03388888888888686,
          2.852852852868182E-4,
          0.052469969969967556,
          0.002424924924925298,
          -0.03054054054053601
         ],
         "type": "scatter"
        },
        {
         "line": {
          "color": "red",
          "width": 2
         },
         "mode": "lines",
         "name": "Train returns",
         "x": [
          "2000-12-01",
          "2001-01-01",
          "2001-02-01",
          "2001-03-01",
          "2001-04-01",
          "2001-05-01",
          "2001-06-01",
          "2001-07-01",
          "2001-08-01",
          "2001-09-01",
          "2001-10-01",
          "2001-11-01",
          "2001-12-01",
          "2002-01-01",
          "2002-02-01",
          "2002-03-01",
          "2002-04-01",
          "2002-05-01",
          "2002-06-01",
          "2002-07-01",
          "2002-08-01",
          "2002-09-01",
          "2002-10-01",
          "2002-11-01",
          "2002-12-01",
          "2003-01-01",
          "2003-02-01",
          "2003-03-01",
          "2003-04-01",
          "2003-05-01",
          "2003-06-01",
          "2003-07-01",
          "2003-08-01",
          "2003-09-01",
          "2003-10-01",
          "2003-11-01",
          "2003-12-01",
          "2004-01-01",
          "2004-02-01",
          "2004-03-01",
          "2004-04-01",
          "2004-05-01",
          "2004-06-01",
          "2004-07-01",
          "2004-08-01",
          "2004-09-01",
          "2004-10-01",
          "2004-11-01",
          "2004-12-01",
          "2005-01-01",
          "2005-02-01",
          "2005-03-01",
          "2005-04-01",
          "2005-05-01",
          "2005-06-01",
          "2005-07-01",
          "2005-08-01",
          "2005-09-01",
          "2005-10-01",
          "2005-11-01",
          "2005-12-01",
          "2006-01-01",
          "2006-02-01",
          "2006-03-01",
          "2006-04-01",
          "2006-05-01",
          "2006-06-01",
          "2006-07-01",
          "2006-08-01",
          "2006-09-01",
          "2006-10-01",
          "2006-11-01",
          "2006-12-01",
          "2007-01-01",
          "2007-02-01",
          "2007-03-01",
          "2007-04-01",
          "2007-05-01",
          "2007-06-01",
          "2007-07-01",
          "2007-08-01",
          "2007-09-01",
          "2007-10-01",
          "2007-11-01",
          "2007-12-01",
          "2008-01-01",
          "2008-02-01",
          "2008-03-01",
          "2008-04-01",
          "2008-05-01",
          "2008-06-01",
          "2008-07-01",
          "2008-08-01",
          "2008-09-01",
          "2008-10-01",
          "2008-11-01",
          "2008-12-01",
          "2009-01-01",
          "2009-02-01",
          "2009-03-01",
          "2009-04-01",
          "2009-05-01",
          "2009-06-01",
          "2009-07-01",
          "2009-08-01",
          "2009-09-01",
          "2009-10-01",
          "2009-11-01",
          "2009-12-01",
          "2010-01-01",
          "2010-02-01",
          "2010-03-01",
          "2010-04-01",
          "2010-05-01",
          "2010-06-01",
          "2010-07-01",
          "2010-08-01",
          "2010-09-01",
          "2010-10-01",
          "2010-11-01",
          "2010-12-01",
          "2011-01-01",
          "2011-02-01",
          "2011-03-01",
          "2011-04-01",
          "2011-05-01",
          "2011-06-01",
          "2011-07-01",
          "2011-08-01",
          "2011-09-01",
          "2011-10-01",
          "2011-11-01",
          "2011-12-01",
          "2012-01-01",
          "2012-02-01",
          "2012-03-01",
          "2012-04-01",
          "2012-05-01",
          "2012-06-01",
          "2012-07-01",
          "2012-08-01",
          "2012-09-01",
          "2012-10-01",
          "2012-11-01",
          "2012-12-01",
          "2013-01-01",
          "2013-02-01",
          "2013-03-01",
          "2013-04-01",
          "2013-05-01",
          "2013-06-01",
          "2013-07-01",
          "2013-08-01",
          "2013-09-01",
          "2013-10-01",
          "2013-11-01",
          "2013-12-01",
          "2014-01-01",
          "2014-02-01",
          "2014-03-01",
          "2014-04-01",
          "2014-05-01",
          "2014-06-01",
          "2014-07-01",
          "2014-08-01",
          "2014-09-01",
          "2014-10-01",
          "2014-11-01",
          "2014-12-01",
          "2015-01-01",
          "2015-02-01",
          "2015-03-01",
          "2015-04-01",
          "2015-05-01",
          "2015-06-01",
          "2015-07-01",
          "2015-08-01",
          "2015-09-01",
          "2015-10-01",
          "2015-11-01",
          "2015-12-01",
          "2016-01-01",
          "2016-02-01",
          "2016-03-01",
          "2016-04-01",
          "2016-05-01",
          "2016-06-01",
          "2016-07-01",
          "2016-08-01",
          "2016-09-01",
          "2016-10-01",
          "2016-11-01",
          "2016-12-01",
          "2017-01-01",
          "2017-02-01",
          "2017-03-01",
          "2017-04-01",
          "2017-05-01",
          "2017-06-01",
          "2017-07-01",
          "2017-08-01",
          "2017-09-01",
          "2017-10-01",
          "2017-11-01",
          "2017-12-01",
          "2018-01-01",
          "2018-02-01",
          "2018-03-01",
          "2018-04-01",
          "2018-05-01",
          "2018-06-01",
          "2018-07-01",
          "2018-08-01",
          "2018-09-01",
          "2018-10-01",
          "2018-11-01",
          "2018-12-01",
          "2019-01-01",
          "2019-02-01",
          "2019-03-01",
          "2019-04-01",
          "2019-05-01",
          "2019-06-01",
          "2019-07-01",
          "2019-08-01",
          "2019-09-01",
          "2019-10-01",
          "2019-11-01",
          "2019-12-01",
          "2020-01-01",
          "2020-02-01",
          "2020-03-01",
          "2020-04-01",
          "2020-05-01",
          "2020-06-01",
          "2020-07-01",
          "2020-08-01",
          "2020-09-01",
          "2020-10-01",
          "2020-11-01",
          "2020-12-01",
          "2021-01-01",
          "2021-02-01",
          "2021-03-01",
          "2021-04-01",
          "2021-05-01",
          "2021-06-01",
          "2021-07-01",
          "2021-08-01",
          "2021-09-01",
          "2021-10-01",
          "2021-11-01",
          "2021-12-01",
          "2022-01-01",
          "2022-02-01",
          "2022-03-01",
          "2022-04-01",
          "2022-05-01",
          "2022-06-01",
          "2022-07-01",
          "2022-08-01",
          "2022-09-01",
          "2022-10-01",
          "2022-11-01",
          "2022-12-01",
          "2023-01-01",
          "2023-02-01",
          "2023-03-01",
          "2023-04-01",
          "2023-05-01",
          "2023-06-01",
          "2023-07-01",
          "2023-08-01",
          "2023-09-01",
          "2023-10-01",
          "2023-11-01",
          "2023-12-01",
          "2024-01-01",
          "2024-02-01",
          "2024-03-01",
          "2024-04-01",
          "2024-05-01",
          "2024-06-01",
          "2024-07-01"
         ],
         "y": [
          0.03520476818084717,
          0.023009777069091797,
          0.022063732147216797,
          0.024744749069213867,
          0.01741647720336914,
          0.020521879196166992,
          0.018709778785705566,
          0.020374178886413574,
          0.020738720893859863,
          0.023636937141418457,
          0.016342520713806152,
          0.01997959613800049,
          0.01740741729736328,
          0.02072131633758545,
          0.018711566925048828,
          0.016372203826904297,
          0.01620781421661377,
          0.017536163330078125,
          0.022101640701293945,
          0.01818716526031494,
          0.017035365104675293,
          0.01684427261352539,
          0.017494916915893555,
          0.01697862148284912,
          0.01737380027770996,
          0.016879796981811523,
          0.0160977840423584,
          0.011633872985839844,
          0.01627671718597412,
          0.011896967887878418,
          0.01669943332672119,
          0.013844847679138184,
          0.013959050178527832,
          0.013502001762390137,
          0.014644026756286621,
          0.018230676651000977,
          0.014802813529968262,
          0.013772726058959961,
          0.013413667678833008,
          0.013529181480407715,
          0.0137556791305542,
          0.01391458511352539,
          0.017948150634765625,
          0.01353311538696289,
          0.015520334243774414,
          0.01663804054260254,
          0.014300107955932617,
          0.017276763916015625,
          0.013612627983093262,
          0.01270139217376709,
          0.013649344444274902,
          0.014928221702575684,
          0.016554594039916992,
          0.01423335075378418,
          0.014403343200683594,
          0.013455629348754883,
          0.011918067932128906,
          0.012248039245605469,
          0.01729297637939453,
          0.011614322662353516,
          0.013243317604064941,
          0.010756611824035645,
          0.014745473861694336,
          0.010930180549621582,
          0.013195395469665527,
          0.012667059898376465,
          0.01324009895324707,
          0.01302492618560791,
          0.013545513153076172,
          0.010568737983703613,
          0.009941458702087402,
          0.011996746063232422,
          0.01175069808959961,
          0.01278531551361084,
          0.010423898696899414,
          0.01006615161895752,
          0.01382911205291748,
          0.011537313461303711,
          0.01259756088256836,
          0.01180732250213623,
          0.012107014656066895,
          0.011532306671142578,
          0.012281656265258789,
          0.010675311088562012,
          0.008570432662963867,
          0.01598513126373291,
          0.011687874794006348,
          0.01214599609375,
          0.011165022850036621,
          0.01228952407836914,
          0.013210177421569824,
          0.013987064361572266,
          0.015292167663574219,
          0.014425158500671387,
          0.011484742164611816,
          0.01295924186706543,
          0.01501774787902832,
          0.0112152099609375,
          0.009946584701538086,
          0.010717153549194336,
          0.01248478889465332,
          0.012807607650756836,
          0.01267552375793457,
          0.009350895881652832,
          0.009881258010864258,
          0.012877702713012695,
          0.011142849922180176,
          0.011234164237976074,
          0.013614177703857422,
          0.010389208793640137,
          0.011737942695617676,
          0.013747215270996094,
          0.01011037826538086,
          0.008408427238464355,
          0.014045476913452148,
          0.011246800422668457,
          0.010828852653503418,
          0.010703206062316895,
          0.01258838176727295,
          0.012740135192871094,
          0.008418679237365723,
          0.01064300537109375,
          0.010825753211975098,
          0.011239767074584961,
          0.009348869323730469,
          0.00930476188659668,
          0.01157689094543457,
          0.013358831405639648,
          0.009515047073364258,
          0.011515259742736816,
          0.011172056198120117,
          0.009224772453308105,
          0.013043880462646484,
          0.010386824607849121,
          0.011080026626586914,
          0.0105438232421875,
          0.012032866477966309,
          0.010226249694824219,
          0.012318968772888184,
          0.01034843921661377,
          0.012229561805725098,
          0.011382818222045898,
          0.009751200675964355,
          0.012061119079589844,
          0.010042309761047363,
          0.013279080390930176,
          0.01096200942993164,
          0.01058340072631836,
          0.012197494506835938,
          0.009909272193908691,
          0.010564208030700684,
          0.013265013694763184,
          0.011313915252685547,
          0.010537505149841309,
          0.009835958480834961,
          0.013113617897033691,
          0.010418891906738281,
          0.009893059730529785,
          0.009463310241699219,
          0.010547757148742676,
          0.011285662651062012,
          0.008995771408081055,
          0.010834574699401855,
          0.01215660572052002,
          0.010616779327392578,
          0.009943962097167969,
          0.008277058601379395,
          0.00841987133026123,
          0.010281920433044434,
          0.010674357414245605,
          0.011723756790161133,
          0.011856913566589355,
          0.010027766227722168,
          0.012361407279968262,
          0.011594057083129883,
          0.011121749877929688,
          0.009195923805236816,
          0.010873913764953613,
          0.00857400894165039,
          0.0090559720993042,
          0.009543061256408691,
          0.010424971580505371,
          0.008905649185180664,
          0.010701179504394531,
          0.009307146072387695,
          0.009927034378051758,
          0.009736776351928711,
          0.009764909744262695,
          0.010625839233398438,
          0.009010791778564453,
          0.011165618896484375,
          0.009856343269348145,
          0.010541439056396484,
          0.010256648063659668,
          0.01081693172454834,
          0.01193082332611084,
          0.01033163070678711,
          0.008632779121398926,
          0.009193897247314453,
          0.009836435317993164,
          0.009894490242004395,
          0.009601473808288574,
          0.011075258255004883,
          0.00829768180847168,
          0.011085271835327148,
          0.01190805435180664,
          0.008728265762329102,
          0.011050224304199219,
          0.010927319526672363,
          0.010857224464416504,
          0.0087965726852417,
          0.00870823860168457,
          0.009673118591308594,
          0.008658528327941895,
          0.008970499038696289,
          0.008445024490356445,
          0.011061310768127441,
          0.007824420928955078,
          0.008129000663757324,
          0.009068608283996582,
          0.008920550346374512,
          0.00905609130859375,
          0.007941126823425293,
          0.010447978973388672,
          0.009169459342956543,
          0.008167862892150879,
          0.0077474117279052734,
          0.008204221725463867,
          0.00871884822845459,
          0.009918808937072754,
          0.008544325828552246,
          0.009987354278564453,
          0.010424137115478516,
          0.00896155834197998,
          0.007955789566040039,
          0.009233832359313965,
          0.00815129280090332,
          0.00953817367553711,
          0.01064157485961914,
          0.006533145904541016,
          0.008103609085083008,
          0.008880615234375,
          0.007845878601074219,
          0.007127046585083008,
          0.00838327407836914,
          0.008479118347167969,
          0.006966829299926758,
          0.00885629653930664,
          0.00930166244506836,
          0.008138418197631836,
          0.006987571716308594,
          0.008434295654296875,
          0.008738160133361816,
          0.007753610610961914,
          0.0072591304779052734,
          0.007030367851257324,
          0.007535219192504883,
          0.009232759475708008,
          0.007879495620727539,
          0.008524894714355469,
          0.006490945816040039,
          0.006857156753540039,
          0.006142973899841309,
          0.006711721420288086,
          0.0064241886138916016,
          0.007145881652832031,
          0.006196856498718262,
          0.006406307220458984,
          0.007423043251037598,
          0.006245255470275879,
          0.005268216133117676,
          0.0070410966873168945,
          0.005684256553649902,
          0.005213141441345215,
          0.0061331987380981445,
          0.005820631980895996,
          0.0053670406341552734,
          0.00517725944519043,
          0.005143404006958008,
          0.00466609001159668,
          0.005264639854431152,
          0.004792451858520508,
          0.004811525344848633,
          0.004369378089904785
         ],
         "type": "scatter"
        },
        {
         "line": {
          "color": "green",
          "width": 2
         },
         "mode": "lines",
         "name": "Test returns",
         "x": [
          "2024-07-01",
          "2024-08-01"
         ],
         "y": [
          0.004369378089904785,
          0.00355684757232666
         ],
         "type": "scatter"
        }
       ],
       "layout": {
        "template": {
         "data": {
          "barpolar": [
           {
            "marker": {
             "line": {
              "color": "white",
              "width": 0.5
             },
             "pattern": {
              "fillmode": "overlay",
              "size": 10,
              "solidity": 0.2
             }
            },
            "type": "barpolar"
           }
          ],
          "bar": [
           {
            "error_x": {
             "color": "#2a3f5f"
            },
            "error_y": {
             "color": "#2a3f5f"
            },
            "marker": {
             "line": {
              "color": "white",
              "width": 0.5
             },
             "pattern": {
              "fillmode": "overlay",
              "size": 10,
              "solidity": 0.2
             }
            },
            "type": "bar"
           }
          ],
          "carpet": [
           {
            "aaxis": {
             "endlinecolor": "#2a3f5f",
             "gridcolor": "#C8D4E3",
             "linecolor": "#C8D4E3",
             "minorgridcolor": "#C8D4E3",
             "startlinecolor": "#2a3f5f"
            },
            "baxis": {
             "endlinecolor": "#2a3f5f",
             "gridcolor": "#C8D4E3",
             "linecolor": "#C8D4E3",
             "minorgridcolor": "#C8D4E3",
             "startlinecolor": "#2a3f5f"
            },
            "type": "carpet"
           }
          ],
          "choropleth": [
           {
            "colorbar": {
             "outlinewidth": 0,
             "ticks": ""
            },
            "type": "choropleth"
           }
          ],
          "contourcarpet": [
           {
            "colorbar": {
             "outlinewidth": 0,
             "ticks": ""
            },
            "type": "contourcarpet"
           }
          ],
          "contour": [
           {
            "colorbar": {
             "outlinewidth": 0,
             "ticks": ""
            },
            "colorscale": [
             [
              0.0,
              "#0d0887"
             ],
             [
              0.1111111111111111,
              "#46039f"
             ],
             [
              0.2222222222222222,
              "#7201a8"
             ],
             [
              0.3333333333333333,
              "#9c179e"
             ],
             [
              0.4444444444444444,
              "#bd3786"
             ],
             [
              0.5555555555555556,
              "#d8576b"
             ],
             [
              0.6666666666666666,
              "#ed7953"
             ],
             [
              0.7777777777777778,
              "#fb9f3a"
             ],
             [
              0.8888888888888888,
              "#fdca26"
             ],
             [
              1.0,
              "#f0f921"
             ]
            ],
            "type": "contour"
           }
          ],
          "heatmapgl": [
           {
            "colorbar": {
             "outlinewidth": 0,
             "ticks": ""
            },
            "colorscale": [
             [
              0.0,
              "#0d0887"
             ],
             [
              0.1111111111111111,
              "#46039f"
             ],
             [
              0.2222222222222222,
              "#7201a8"
             ],
             [
              0.3333333333333333,
              "#9c179e"
             ],
             [
              0.4444444444444444,
              "#bd3786"
             ],
             [
              0.5555555555555556,
              "#d8576b"
             ],
             [
              0.6666666666666666,
              "#ed7953"
             ],
             [
              0.7777777777777778,
              "#fb9f3a"
             ],
             [
              0.8888888888888888,
              "#fdca26"
             ],
             [
              1.0,
              "#f0f921"
             ]
            ],
            "type": "heatmapgl"
           }
          ],
          "heatmap": [
           {
            "colorbar": {
             "outlinewidth": 0,
             "ticks": ""
            },
            "colorscale": [
             [
              0.0,
              "#0d0887"
             ],
             [
              0.1111111111111111,
              "#46039f"
             ],
             [
              0.2222222222222222,
              "#7201a8"
             ],
             [
              0.3333333333333333,
              "#9c179e"
             ],
             [
              0.4444444444444444,
              "#bd3786"
             ],
             [
              0.5555555555555556,
              "#d8576b"
             ],
             [
              0.6666666666666666,
              "#ed7953"
             ],
             [
              0.7777777777777778,
              "#fb9f3a"
             ],
             [
              0.8888888888888888,
              "#fdca26"
             ],
             [
              1.0,
              "#f0f921"
             ]
            ],
            "type": "heatmap"
           }
          ],
          "histogram2dcontour": [
           {
            "colorbar": {
             "outlinewidth": 0,
             "ticks": ""
            },
            "colorscale": [
             [
              0.0,
              "#0d0887"
             ],
             [
              0.1111111111111111,
              "#46039f"
             ],
             [
              0.2222222222222222,
              "#7201a8"
             ],
             [
              0.3333333333333333,
              "#9c179e"
             ],
             [
              0.4444444444444444,
              "#bd3786"
             ],
             [
              0.5555555555555556,
              "#d8576b"
             ],
             [
              0.6666666666666666,
              "#ed7953"
             ],
             [
              0.7777777777777778,
              "#fb9f3a"
             ],
             [
              0.8888888888888888,
              "#fdca26"
             ],
             [
              1.0,
              "#f0f921"
             ]
            ],
            "type": "histogram2dcontour"
           }
          ],
          "histogram2d": [
           {
            "colorbar": {
             "outlinewidth": 0,
             "ticks": ""
            },
            "colorscale": [
             [
              0.0,
              "#0d0887"
             ],
             [
              0.1111111111111111,
              "#46039f"
             ],
             [
              0.2222222222222222,
              "#7201a8"
             ],
             [
              0.3333333333333333,
              "#9c179e"
             ],
             [
              0.4444444444444444,
              "#bd3786"
             ],
             [
              0.5555555555555556,
              "#d8576b"
             ],
             [
              0.6666666666666666,
              "#ed7953"
             ],
             [
              0.7777777777777778,
              "#fb9f3a"
             ],
             [
              0.8888888888888888,
              "#fdca26"
             ],
             [
              1.0,
              "#f0f921"
             ]
            ],
            "type": "histogram2d"
           }
          ],
          "histogram": [
           {
            "marker": {
             "pattern": {
              "fillmode": "overlay",
              "size": 10,
              "solidity": 0.2
             }
            },
            "type": "histogram"
           }
          ],
          "mesh3d": [
           {
            "colorbar": {
             "outlinewidth": 0,
             "ticks": ""
            },
            "type": "mesh3d"
           }
          ],
          "parcoords": [
           {
            "line": {
             "colorbar": {
              "outlinewidth": 0,
              "ticks": ""
             }
            },
            "type": "parcoords"
           }
          ],
          "pie": [
           {
            "automargin": true,
            "type": "pie"
           }
          ],
          "scatter3d": [
           {
            "line": {
             "colorbar": {
              "outlinewidth": 0,
              "ticks": ""
             }
            },
            "marker": {
             "colorbar": {
              "outlinewidth": 0,
              "ticks": ""
             }
            },
            "type": "scatter3d"
           }
          ],
          "scattercarpet": [
           {
            "marker": {
             "colorbar": {
              "outlinewidth": 0,
              "ticks": ""
             }
            },
            "type": "scattercarpet"
           }
          ],
          "scattergeo": [
           {
            "marker": {
             "colorbar": {
              "outlinewidth": 0,
              "ticks": ""
             }
            },
            "type": "scattergeo"
           }
          ],
          "scattergl": [
           {
            "marker": {
             "colorbar": {
              "outlinewidth": 0,
              "ticks": ""
             }
            },
            "type": "scattergl"
           }
          ],
          "scattermapbox": [
           {
            "marker": {
             "colorbar": {
              "outlinewidth": 0,
              "ticks": ""
             }
            },
            "type": "scattermapbox"
           }
          ],
          "scatterpolargl": [
           {
            "marker": {
             "colorbar": {
              "outlinewidth": 0,
              "ticks": ""
             }
            },
            "type": "scatterpolargl"
           }
          ],
          "scatterpolar": [
           {
            "marker": {
             "colorbar": {
              "outlinewidth": 0,
              "ticks": ""
             }
            },
            "type": "scatterpolar"
           }
          ],
          "scatter": [
           {
            "fillpattern": {
             "fillmode": "overlay",
             "size": 10,
             "solidity": 0.2
            },
            "type": "scatter"
           }
          ],
          "scatterternary": [
           {
            "marker": {
             "colorbar": {
              "outlinewidth": 0,
              "ticks": ""
             }
            },
            "type": "scatterternary"
           }
          ],
          "surface": [
           {
            "colorbar": {
             "outlinewidth": 0,
             "ticks": ""
            },
            "colorscale": [
             [
              0.0,
              "#0d0887"
             ],
             [
              0.1111111111111111,
              "#46039f"
             ],
             [
              0.2222222222222222,
              "#7201a8"
             ],
             [
              0.3333333333333333,
              "#9c179e"
             ],
             [
              0.4444444444444444,
              "#bd3786"
             ],
             [
              0.5555555555555556,
              "#d8576b"
             ],
             [
              0.6666666666666666,
              "#ed7953"
             ],
             [
              0.7777777777777778,
              "#fb9f3a"
             ],
             [
              0.8888888888888888,
              "#fdca26"
             ],
             [
              1.0,
              "#f0f921"
             ]
            ],
            "type": "surface"
           }
          ],
          "table": [
           {
            "cells": {
             "fill": {
              "color": "#EBF0F8"
             },
             "line": {
              "color": "white"
             }
            },
            "header": {
             "fill": {
              "color": "#C8D4E3"
             },
             "line": {
              "color": "white"
             }
            },
            "type": "table"
           }
          ]
         },
         "layout": {
          "annotationdefaults": {
           "arrowcolor": "#2a3f5f",
           "arrowhead": 0,
           "arrowwidth": 1
          },
          "autotypenumbers": "strict",
          "coloraxis": {
           "colorbar": {
            "outlinewidth": 0,
            "ticks": ""
           }
          },
          "colorscale": {
           "diverging": [
            [
             0,
             "#8e0152"
            ],
            [
             0.1,
             "#c51b7d"
            ],
            [
             0.2,
             "#de77ae"
            ],
            [
             0.3,
             "#f1b6da"
            ],
            [
             0.4,
             "#fde0ef"
            ],
            [
             0.5,
             "#f7f7f7"
            ],
            [
             0.6,
             "#e6f5d0"
            ],
            [
             0.7,
             "#b8e186"
            ],
            [
             0.8,
             "#7fbc41"
            ],
            [
             0.9,
             "#4d9221"
            ],
            [
             1,
             "#276419"
            ]
           ],
           "sequential": [
            [
             0.0,
             "#0d0887"
            ],
            [
             0.1111111111111111,
             "#46039f"
            ],
            [
             0.2222222222222222,
             "#7201a8"
            ],
            [
             0.3333333333333333,
             "#9c179e"
            ],
            [
             0.4444444444444444,
             "#bd3786"
            ],
            [
             0.5555555555555556,
             "#d8576b"
            ],
            [
             0.6666666666666666,
             "#ed7953"
            ],
            [
             0.7777777777777778,
             "#fb9f3a"
            ],
            [
             0.8888888888888888,
             "#fdca26"
            ],
            [
             1.0,
             "#f0f921"
            ]
           ],
           "sequentialminus": [
            [
             0.0,
             "#0d0887"
            ],
            [
             0.1111111111111111,
             "#46039f"
            ],
            [
             0.2222222222222222,
             "#7201a8"
            ],
            [
             0.3333333333333333,
             "#9c179e"
            ],
            [
             0.4444444444444444,
             "#bd3786"
            ],
            [
             0.5555555555555556,
             "#d8576b"
            ],
            [
             0.6666666666666666,
             "#ed7953"
            ],
            [
             0.7777777777777778,
             "#fb9f3a"
            ],
            [
             0.8888888888888888,
             "#fdca26"
            ],
            [
             1.0,
             "#f0f921"
            ]
           ]
          },
          "colorway": [
           "#636efa",
           "#EF553B",
           "#00cc96",
           "#ab63fa",
           "#FFA15A",
           "#19d3f3",
           "#FF6692",
           "#B6E880",
           "#FF97FF",
           "#FECB52"
          ],
          "font": {
           "color": "#2a3f5f"
          },
          "geo": {
           "bgcolor": "white",
           "lakecolor": "white",
           "landcolor": "white",
           "showlakes": true,
           "showland": true,
           "subunitcolor": "#C8D4E3"
          },
          "hoverlabel": {
           "align": "left"
          },
          "hovermode": "closest",
          "mapbox": {
           "style": "light"
          },
          "paper_bgcolor": "white",
          "plot_bgcolor": "white",
          "polar": {
           "angularaxis": {
            "gridcolor": "#EBF0F8",
            "linecolor": "#EBF0F8",
            "ticks": ""
           },
           "bgcolor": "white",
           "radialaxis": {
            "gridcolor": "#EBF0F8",
            "linecolor": "#EBF0F8",
            "ticks": ""
           }
          },
          "scene": {
           "xaxis": {
            "backgroundcolor": "white",
            "gridcolor": "#DFE8F3",
            "gridwidth": 2,
            "linecolor": "#EBF0F8",
            "showbackground": true,
            "ticks": "",
            "zerolinecolor": "#EBF0F8"
           },
           "yaxis": {
            "backgroundcolor": "white",
            "gridcolor": "#DFE8F3",
            "gridwidth": 2,
            "linecolor": "#EBF0F8",
            "showbackground": true,
            "ticks": "",
            "zerolinecolor": "#EBF0F8"
           },
           "zaxis": {
            "backgroundcolor": "white",
            "gridcolor": "#DFE8F3",
            "gridwidth": 2,
            "linecolor": "#EBF0F8",
            "showbackground": true,
            "ticks": "",
            "zerolinecolor": "#EBF0F8"
           }
          },
          "shapedefaults": {
           "line": {
            "color": "#2a3f5f"
           }
          },
          "ternary": {
           "aaxis": {
            "gridcolor": "#DFE8F3",
            "linecolor": "#A2B1C6",
            "ticks": ""
           },
           "baxis": {
            "gridcolor": "#DFE8F3",
            "linecolor": "#A2B1C6",
            "ticks": ""
           },
           "bgcolor": "white",
           "caxis": {
            "gridcolor": "#DFE8F3",
            "linecolor": "#A2B1C6",
            "ticks": ""
           }
          },
          "title": {
           "x": 0.05
          },
          "xaxis": {
           "automargin": true,
           "gridcolor": "#EBF0F8",
           "linecolor": "#EBF0F8",
           "ticks": "",
           "title": {
            "standoff": 15
           },
           "zerolinecolor": "#EBF0F8",
           "zerolinewidth": 2
          },
          "yaxis": {
           "automargin": true,
           "gridcolor": "#EBF0F8",
           "linecolor": "#EBF0F8",
           "ticks": "",
           "title": {
            "standoff": 15
           },
           "zerolinecolor": "#EBF0F8",
           "zerolinewidth": 2
          }
         }
        },
        "shapes": [
         {
          "line": {
           "color": "red",
           "dash": "dash",
           "width": 1
          },
          "type": "line",
          "x0": "2024-07-01",
          "x1": "2024-07-01",
          "xref": "x",
          "y0": 0,
          "y1": 1,
          "yref": "y domain"
         }
        ],
        "yaxis": {
         "title": {
          "text": "Day closing return (%)"
         },
         "tickformat": ".0%",
         "range": [
          -0.25,
          0.6
         ]
        },
        "title": {
         "text": "1 Month Prediction vs Actual Plot"
        },
        "xaxis": {
         "title": {
          "text": "Date"
         }
        },
        "legend": {
         "title": {
          "text": "Legend"
         }
        }
       },
       "config": {
        "plotlyServerURL": "https://plot.ly"
       }
      },
      "text/html": [
       "<div>                            <div id=\"aeec433e-774c-4153-96f3-c78a61887ca8\" class=\"plotly-graph-div\" style=\"height:525px; width:100%;\"></div>            <script type=\"text/javascript\">                require([\"plotly\"], function(Plotly) {                    window.PLOTLYENV=window.PLOTLYENV || {};                                    if (document.getElementById(\"aeec433e-774c-4153-96f3-c78a61887ca8\")) {                    Plotly.newPlot(                        \"aeec433e-774c-4153-96f3-c78a61887ca8\",                        [{\"line\":{\"color\":\"#5c839f\",\"width\":2},\"mode\":\"lines\",\"name\":\"Actual returns\",\"x\":[\"2000-12-01\",\"2001-01-01\",\"2001-02-01\",\"2001-03-01\",\"2001-04-01\",\"2001-05-01\",\"2001-06-01\",\"2001-07-01\",\"2001-08-01\",\"2001-09-01\",\"2001-10-01\",\"2001-11-01\",\"2001-12-01\",\"2002-01-01\",\"2002-02-01\",\"2002-03-01\",\"2002-04-01\",\"2002-05-01\",\"2002-06-01\",\"2002-07-01\",\"2002-08-01\",\"2002-09-01\",\"2002-10-01\",\"2002-11-01\",\"2002-12-01\",\"2003-01-01\",\"2003-02-01\",\"2003-03-01\",\"2003-04-01\",\"2003-05-01\",\"2003-06-01\",\"2003-07-01\",\"2003-08-01\",\"2003-09-01\",\"2003-10-01\",\"2003-11-01\",\"2003-12-01\",\"2004-01-01\",\"2004-02-01\",\"2004-03-01\",\"2004-04-01\",\"2004-05-01\",\"2004-06-01\",\"2004-07-01\",\"2004-08-01\",\"2004-09-01\",\"2004-10-01\",\"2004-11-01\",\"2004-12-01\",\"2005-01-01\",\"2005-02-01\",\"2005-03-01\",\"2005-04-01\",\"2005-05-01\",\"2005-06-01\",\"2005-07-01\",\"2005-08-01\",\"2005-09-01\",\"2005-10-01\",\"2005-11-01\",\"2005-12-01\",\"2006-01-01\",\"2006-02-01\",\"2006-03-01\",\"2006-04-01\",\"2006-05-01\",\"2006-06-01\",\"2006-07-01\",\"2006-08-01\",\"2006-09-01\",\"2006-10-01\",\"2006-11-01\",\"2006-12-01\",\"2007-01-01\",\"2007-02-01\",\"2007-03-01\",\"2007-04-01\",\"2007-05-01\",\"2007-06-01\",\"2007-07-01\",\"2007-08-01\",\"2007-09-01\",\"2007-10-01\",\"2007-11-01\",\"2007-12-01\",\"2008-01-01\",\"2008-02-01\",\"2008-03-01\",\"2008-04-01\",\"2008-05-01\",\"2008-06-01\",\"2008-07-01\",\"2008-08-01\",\"2008-09-01\",\"2008-10-01\",\"2008-11-01\",\"2008-12-01\",\"2009-01-01\",\"2009-02-01\",\"2009-03-01\",\"2009-04-01\",\"2009-05-01\",\"2009-06-01\",\"2009-07-01\",\"2009-08-01\",\"2009-09-01\",\"2009-10-01\",\"2009-11-01\",\"2009-12-01\",\"2010-01-01\",\"2010-02-01\",\"2010-03-01\",\"2010-04-01\",\"2010-05-01\",\"2010-06-01\",\"2010-07-01\",\"2010-08-01\",\"2010-09-01\",\"2010-10-01\",\"2010-11-01\",\"2010-12-01\",\"2011-01-01\",\"2011-02-01\",\"2011-03-01\",\"2011-04-01\",\"2011-05-01\",\"2011-06-01\",\"2011-07-01\",\"2011-08-01\",\"2011-09-01\",\"2011-10-01\",\"2011-11-01\",\"2011-12-01\",\"2012-01-01\",\"2012-02-01\",\"2012-03-01\",\"2012-04-01\",\"2012-05-01\",\"2012-06-01\",\"2012-07-01\",\"2012-08-01\",\"2012-09-01\",\"2012-10-01\",\"2012-11-01\",\"2012-12-01\",\"2013-01-01\",\"2013-02-01\",\"2013-03-01\",\"2013-04-01\",\"2013-05-01\",\"2013-06-01\",\"2013-07-01\",\"2013-08-01\",\"2013-09-01\",\"2013-10-01\",\"2013-11-01\",\"2013-12-01\",\"2014-01-01\",\"2014-02-01\",\"2014-03-01\",\"2014-04-01\",\"2014-05-01\",\"2014-06-01\",\"2014-07-01\",\"2014-08-01\",\"2014-09-01\",\"2014-10-01\",\"2014-11-01\",\"2014-12-01\",\"2015-01-01\",\"2015-02-01\",\"2015-03-01\",\"2015-04-01\",\"2015-05-01\",\"2015-06-01\",\"2015-07-01\",\"2015-08-01\",\"2015-09-01\",\"2015-10-01\",\"2015-11-01\",\"2015-12-01\",\"2016-01-01\",\"2016-02-01\",\"2016-03-01\",\"2016-04-01\",\"2016-05-01\",\"2016-06-01\",\"2016-07-01\",\"2016-08-01\",\"2016-09-01\",\"2016-10-01\",\"2016-11-01\",\"2016-12-01\",\"2017-01-01\",\"2017-02-01\",\"2017-03-01\",\"2017-04-01\",\"2017-05-01\",\"2017-06-01\",\"2017-07-01\",\"2017-08-01\",\"2017-09-01\",\"2017-10-01\",\"2017-11-01\",\"2017-12-01\",\"2018-01-01\",\"2018-02-01\",\"2018-03-01\",\"2018-04-01\",\"2018-05-01\",\"2018-06-01\",\"2018-07-01\",\"2018-08-01\",\"2018-09-01\",\"2018-10-01\",\"2018-11-01\",\"2018-12-01\",\"2019-01-01\",\"2019-02-01\",\"2019-03-01\",\"2019-04-01\",\"2019-05-01\",\"2019-06-01\",\"2019-07-01\",\"2019-08-01\",\"2019-09-01\",\"2019-10-01\",\"2019-11-01\",\"2019-12-01\",\"2020-01-01\",\"2020-02-01\",\"2020-03-01\",\"2020-04-01\",\"2020-05-01\",\"2020-06-01\",\"2020-07-01\",\"2020-08-01\",\"2020-09-01\",\"2020-10-01\",\"2020-11-01\",\"2020-12-01\",\"2021-01-01\",\"2021-02-01\",\"2021-03-01\",\"2021-04-01\",\"2021-05-01\",\"2021-06-01\",\"2021-07-01\",\"2021-08-01\",\"2021-09-01\",\"2021-10-01\",\"2021-11-01\",\"2021-12-01\",\"2022-01-01\",\"2022-02-01\",\"2022-03-01\",\"2022-04-01\",\"2022-05-01\",\"2022-06-01\",\"2022-07-01\",\"2022-08-01\",\"2022-09-01\",\"2022-10-01\",\"2022-11-01\",\"2022-12-01\",\"2023-01-01\",\"2023-02-01\",\"2023-03-01\",\"2023-04-01\",\"2023-05-01\",\"2023-06-01\",\"2023-07-01\",\"2023-08-01\",\"2023-09-01\",\"2023-10-01\",\"2023-11-01\",\"2023-12-01\",\"2024-01-01\",\"2024-02-01\",\"2024-03-01\",\"2024-04-01\",\"2024-05-01\",\"2024-06-01\",\"2024-07-01\",\"2024-08-01\"],\"y\":[0.02743993993994054,0.038025525525524406,-0.009414414414414263,0.22023273273273247,0.031974474474474324,-0.00259009009009048,-0.020735735735735616,0.033678678678677354,-0.003978978978978809,0.0299774774774777,-0.007777777777777883,-0.011524024024024082,-0.026936936936937994,0.01249999999999929,0.038400900900901425,-0.02846096096096018,-0.012762762762762891,0.07272522522522085,0.015735735735736167,0.001644144144144155,-0.026996996996994982,-0.030915915915913916,-0.09028528528528412,0.05090840840840727,0.0509159159159156,0.018573573573573476,-0.005405405405404129,0.012072072072070394,0.05409159159158938,0.009024024024022914,0.00522522522522495,-0.05081831831831807,-0.06252252252252144,-0.011471471471471095,-0.04330330330330234,0.010465465465465451,0.058453453453451765,-0.03432432432432431,-0.01071321321321217,0.003100600600600245,-0.0021696696696679174,0.06228978978978872,0.07175675675675475,0.03475225225225054,0.05778528528528293,0.06289039039038924,0.004909909909908583,0.05349099099098753,0.004924924924925467,0.01909159159158902,0.032132132132131064,0.01701951951951819,0.05260510510510441,0.00787537537537375,-0.0060810810810809635,0.039166666666664574,-0.03876126126125934,-0.006861861861861107,0.005180180180180738,0.004489489489490461,0.03232732732732635,0.05847597597597187,0.008250750750750768,0.024947447447445814,-0.0037087087087082082,-0.022267267267264912,0.03677177177176838,0.024557057057054577,0.040442942942939375,-0.0006981981981986074,0.01872372372372233,0.07061561561561569,0.05157657657657366,0.02451201201201103,0.04399399399399351,0.0172822822822829,0.028603603603601258,0.0011486486486493863,-0.03011261261261,-0.0018618618618618799,-0.01278528528528522,0.028018018018014734,0.014181681681680214,0.024466966966965265,0.027897897897896762,0.030930930930927136,0.03999999999999804,0.0035285285285273638,0.0018993993994007585,0.021418918918917118,0.02924174174173988,-0.01469969969969842,-0.03518768768768399,-0.010007507507506563,0.0024024024024018598,0.019632132132131774,-0.05572822822822687,-0.009954954954954243,-0.06066066066065812,-0.010435435435435347,-0.014969969969969021,0.03434684684684575,0.027875375375374656,-0.07102852852852792,-0.0025300300300311607,0.01765015015014937,-0.07436936936936767,-0.16220720720720616,-0.05918918918918892,0.04562312312312233,-0.056186186186185094,-0.06329579579579647,0.07671171171171154,0.15475225225225198,0.04527027027027031,0.03893393393393363,0.07099849849849749,0.05655405405405389,0.03070570570570519,-0.021951951951950766,0.0010360360360355259,0.05536036036035763,-0.013551051051049257,0.020743243243242837,0.06338588588588245,0.04948948948948795,-0.05758258258257942,-0.040217717717715096,0.040165165165163996,-0.03746996996996865,0.07373123123122904,0.0181606606606608,0.029774774774774082,0.06351351351350831,0.01366366366366445,0.03365615615615347,-0.01171171171171026,0.02272522522522369,-0.0021996996996992424,-0.0004279279279268966,-0.018408408408405852,-0.05390390390390232,-0.049354354354354535,0.07704954954954912,-0.014466966966965367,0.005720720720719719,0.056246246246242304,0.04385885885885599,0.03139639639639191,-0.005975975975974102,-0.05990990990990752,0.033543543543540055,-0.0019219219219228645,0.021854354354353456,0.016599099099097403,0.002957957957956614,0.017342342342340444,0.032770270270266355,0.06512762762762248,0.025345345345343828,0.04521021021020588,0.03481231231231119,0.018280780780780104,-0.009894894894894812,0.03924924924924866,-0.009249249249246638,0.05455705705705238,0.028130630630627262,0.02668168168168039,0.022522522522519184,-0.013288288288286432,0.030075075075072455,0.0034009009009017266,-0.014481981981981806,0.020037537537534345,0.03023273273272986,-0.013093093093094033,0.02825825825825312,-0.01791291291291064,0.03218468468468272,0.04343843843843276,0.015833333333329813,0.002282282282282333,0.04680930930930782,0.012477477477475851,0.00021771771771783577,0.0293018018017992,-0.007530030030026724,0.015135135135132538,-0.04286786786786334,-0.025360360360358603,0.058055555555554195,0.02036786786786493,-0.020202702702699193,-0.05234234234234081,-0.003768768768769082,0.06146396396395826,0.0017117117117124714,0.02473723723723631,-0.028280780780780446,0.058536036036028305,0.009331831831831616,0.011493993993994867,-0.004587087087085662,0.04523273273273265,0.03180180180179559,0.011876876876876663,0.023596096096092145,0.009294294294294847,0.01928678678678275,0.017432432432431755,0.013648648648647344,0.016336336336334467,0.005165165165165186,0.03681681681681481,0.024496996996993925,0.029166666666663676,0.011771771771771133,0.025037537537536014,-0.02737237237236656,-0.0007732732732720349,0.021028528528523216,0.03003003003002891,0.00960210210210044,0.015405405405403583,0.023415915915913077,-0.0036411411411424455,-0.06527777777777555,0.018873873873872515,-0.0894669669669641,0.09368618618618263,0.041291291291286614,0.008566066066063804,0.043918918918915084,-0.05617867867867832,0.04983483483482942,0.020818318318316154,-0.026448948948949114,0.037800300300294465,0.032867867867863776,0.034909909909907055,0.02680930930930736,-0.014016516516515032,-0.09361111111110709,-0.18348348348348387,0.1288888888888864,0.0715540540540538,0.02461711711711967,0.01599099099099388,0.0644519519519513,-0.006869369369366662,-0.005548048048042986,0.14040540540540425,0.05409909909909216,0.02852852852853105,0.0521096096096072,0.04906156156155683,0.03810810810810494,0.01629129129128959,0.016869369369369114,0.011163663663662282,0.02643393393393012,-0.02038288288288037,0.03498498498498348,-0.02757507507507051,0.045360360360353846,-0.07055555555555282,-0.012312312312310003,0.007882882882881193,-0.048010510510507864,0.005157657657655745,-0.06768018018017974,0.09111111111110559,-0.029324324324321083,-0.09201201201200937,0.08337837837837592,0.05950450450450018,-0.04256756756756219,0.08824324324324206,-0.005262762762760831,-0.012912912912911412,0.005990990990987433,-0.006478978978976202,0.062995495495489,0.0376951951951896,-0.019376876876874283,-0.03429429429428832,-0.04720720720720273,0.08611111111110614,0.07102852852852637,-0.0033783783783778443,0.027439939939941205,0.033686186186181466,-0.03638888888888547,0.03388888888888686,0.0002852852852868182,0.052469969969967556,0.002424924924925298,-0.03054054054053601],\"type\":\"scatter\"},{\"line\":{\"color\":\"red\",\"width\":2},\"mode\":\"lines\",\"name\":\"Train returns\",\"x\":[\"2000-12-01\",\"2001-01-01\",\"2001-02-01\",\"2001-03-01\",\"2001-04-01\",\"2001-05-01\",\"2001-06-01\",\"2001-07-01\",\"2001-08-01\",\"2001-09-01\",\"2001-10-01\",\"2001-11-01\",\"2001-12-01\",\"2002-01-01\",\"2002-02-01\",\"2002-03-01\",\"2002-04-01\",\"2002-05-01\",\"2002-06-01\",\"2002-07-01\",\"2002-08-01\",\"2002-09-01\",\"2002-10-01\",\"2002-11-01\",\"2002-12-01\",\"2003-01-01\",\"2003-02-01\",\"2003-03-01\",\"2003-04-01\",\"2003-05-01\",\"2003-06-01\",\"2003-07-01\",\"2003-08-01\",\"2003-09-01\",\"2003-10-01\",\"2003-11-01\",\"2003-12-01\",\"2004-01-01\",\"2004-02-01\",\"2004-03-01\",\"2004-04-01\",\"2004-05-01\",\"2004-06-01\",\"2004-07-01\",\"2004-08-01\",\"2004-09-01\",\"2004-10-01\",\"2004-11-01\",\"2004-12-01\",\"2005-01-01\",\"2005-02-01\",\"2005-03-01\",\"2005-04-01\",\"2005-05-01\",\"2005-06-01\",\"2005-07-01\",\"2005-08-01\",\"2005-09-01\",\"2005-10-01\",\"2005-11-01\",\"2005-12-01\",\"2006-01-01\",\"2006-02-01\",\"2006-03-01\",\"2006-04-01\",\"2006-05-01\",\"2006-06-01\",\"2006-07-01\",\"2006-08-01\",\"2006-09-01\",\"2006-10-01\",\"2006-11-01\",\"2006-12-01\",\"2007-01-01\",\"2007-02-01\",\"2007-03-01\",\"2007-04-01\",\"2007-05-01\",\"2007-06-01\",\"2007-07-01\",\"2007-08-01\",\"2007-09-01\",\"2007-10-01\",\"2007-11-01\",\"2007-12-01\",\"2008-01-01\",\"2008-02-01\",\"2008-03-01\",\"2008-04-01\",\"2008-05-01\",\"2008-06-01\",\"2008-07-01\",\"2008-08-01\",\"2008-09-01\",\"2008-10-01\",\"2008-11-01\",\"2008-12-01\",\"2009-01-01\",\"2009-02-01\",\"2009-03-01\",\"2009-04-01\",\"2009-05-01\",\"2009-06-01\",\"2009-07-01\",\"2009-08-01\",\"2009-09-01\",\"2009-10-01\",\"2009-11-01\",\"2009-12-01\",\"2010-01-01\",\"2010-02-01\",\"2010-03-01\",\"2010-04-01\",\"2010-05-01\",\"2010-06-01\",\"2010-07-01\",\"2010-08-01\",\"2010-09-01\",\"2010-10-01\",\"2010-11-01\",\"2010-12-01\",\"2011-01-01\",\"2011-02-01\",\"2011-03-01\",\"2011-04-01\",\"2011-05-01\",\"2011-06-01\",\"2011-07-01\",\"2011-08-01\",\"2011-09-01\",\"2011-10-01\",\"2011-11-01\",\"2011-12-01\",\"2012-01-01\",\"2012-02-01\",\"2012-03-01\",\"2012-04-01\",\"2012-05-01\",\"2012-06-01\",\"2012-07-01\",\"2012-08-01\",\"2012-09-01\",\"2012-10-01\",\"2012-11-01\",\"2012-12-01\",\"2013-01-01\",\"2013-02-01\",\"2013-03-01\",\"2013-04-01\",\"2013-05-01\",\"2013-06-01\",\"2013-07-01\",\"2013-08-01\",\"2013-09-01\",\"2013-10-01\",\"2013-11-01\",\"2013-12-01\",\"2014-01-01\",\"2014-02-01\",\"2014-03-01\",\"2014-04-01\",\"2014-05-01\",\"2014-06-01\",\"2014-07-01\",\"2014-08-01\",\"2014-09-01\",\"2014-10-01\",\"2014-11-01\",\"2014-12-01\",\"2015-01-01\",\"2015-02-01\",\"2015-03-01\",\"2015-04-01\",\"2015-05-01\",\"2015-06-01\",\"2015-07-01\",\"2015-08-01\",\"2015-09-01\",\"2015-10-01\",\"2015-11-01\",\"2015-12-01\",\"2016-01-01\",\"2016-02-01\",\"2016-03-01\",\"2016-04-01\",\"2016-05-01\",\"2016-06-01\",\"2016-07-01\",\"2016-08-01\",\"2016-09-01\",\"2016-10-01\",\"2016-11-01\",\"2016-12-01\",\"2017-01-01\",\"2017-02-01\",\"2017-03-01\",\"2017-04-01\",\"2017-05-01\",\"2017-06-01\",\"2017-07-01\",\"2017-08-01\",\"2017-09-01\",\"2017-10-01\",\"2017-11-01\",\"2017-12-01\",\"2018-01-01\",\"2018-02-01\",\"2018-03-01\",\"2018-04-01\",\"2018-05-01\",\"2018-06-01\",\"2018-07-01\",\"2018-08-01\",\"2018-09-01\",\"2018-10-01\",\"2018-11-01\",\"2018-12-01\",\"2019-01-01\",\"2019-02-01\",\"2019-03-01\",\"2019-04-01\",\"2019-05-01\",\"2019-06-01\",\"2019-07-01\",\"2019-08-01\",\"2019-09-01\",\"2019-10-01\",\"2019-11-01\",\"2019-12-01\",\"2020-01-01\",\"2020-02-01\",\"2020-03-01\",\"2020-04-01\",\"2020-05-01\",\"2020-06-01\",\"2020-07-01\",\"2020-08-01\",\"2020-09-01\",\"2020-10-01\",\"2020-11-01\",\"2020-12-01\",\"2021-01-01\",\"2021-02-01\",\"2021-03-01\",\"2021-04-01\",\"2021-05-01\",\"2021-06-01\",\"2021-07-01\",\"2021-08-01\",\"2021-09-01\",\"2021-10-01\",\"2021-11-01\",\"2021-12-01\",\"2022-01-01\",\"2022-02-01\",\"2022-03-01\",\"2022-04-01\",\"2022-05-01\",\"2022-06-01\",\"2022-07-01\",\"2022-08-01\",\"2022-09-01\",\"2022-10-01\",\"2022-11-01\",\"2022-12-01\",\"2023-01-01\",\"2023-02-01\",\"2023-03-01\",\"2023-04-01\",\"2023-05-01\",\"2023-06-01\",\"2023-07-01\",\"2023-08-01\",\"2023-09-01\",\"2023-10-01\",\"2023-11-01\",\"2023-12-01\",\"2024-01-01\",\"2024-02-01\",\"2024-03-01\",\"2024-04-01\",\"2024-05-01\",\"2024-06-01\",\"2024-07-01\"],\"y\":[0.03520476818084717,0.023009777069091797,0.022063732147216797,0.024744749069213867,0.01741647720336914,0.020521879196166992,0.018709778785705566,0.020374178886413574,0.020738720893859863,0.023636937141418457,0.016342520713806152,0.01997959613800049,0.01740741729736328,0.02072131633758545,0.018711566925048828,0.016372203826904297,0.01620781421661377,0.017536163330078125,0.022101640701293945,0.01818716526031494,0.017035365104675293,0.01684427261352539,0.017494916915893555,0.01697862148284912,0.01737380027770996,0.016879796981811523,0.0160977840423584,0.011633872985839844,0.01627671718597412,0.011896967887878418,0.01669943332672119,0.013844847679138184,0.013959050178527832,0.013502001762390137,0.014644026756286621,0.018230676651000977,0.014802813529968262,0.013772726058959961,0.013413667678833008,0.013529181480407715,0.0137556791305542,0.01391458511352539,0.017948150634765625,0.01353311538696289,0.015520334243774414,0.01663804054260254,0.014300107955932617,0.017276763916015625,0.013612627983093262,0.01270139217376709,0.013649344444274902,0.014928221702575684,0.016554594039916992,0.01423335075378418,0.014403343200683594,0.013455629348754883,0.011918067932128906,0.012248039245605469,0.01729297637939453,0.011614322662353516,0.013243317604064941,0.010756611824035645,0.014745473861694336,0.010930180549621582,0.013195395469665527,0.012667059898376465,0.01324009895324707,0.01302492618560791,0.013545513153076172,0.010568737983703613,0.009941458702087402,0.011996746063232422,0.01175069808959961,0.01278531551361084,0.010423898696899414,0.01006615161895752,0.01382911205291748,0.011537313461303711,0.01259756088256836,0.01180732250213623,0.012107014656066895,0.011532306671142578,0.012281656265258789,0.010675311088562012,0.008570432662963867,0.01598513126373291,0.011687874794006348,0.01214599609375,0.011165022850036621,0.01228952407836914,0.013210177421569824,0.013987064361572266,0.015292167663574219,0.014425158500671387,0.011484742164611816,0.01295924186706543,0.01501774787902832,0.0112152099609375,0.009946584701538086,0.010717153549194336,0.01248478889465332,0.012807607650756836,0.01267552375793457,0.009350895881652832,0.009881258010864258,0.012877702713012695,0.011142849922180176,0.011234164237976074,0.013614177703857422,0.010389208793640137,0.011737942695617676,0.013747215270996094,0.01011037826538086,0.008408427238464355,0.014045476913452148,0.011246800422668457,0.010828852653503418,0.010703206062316895,0.01258838176727295,0.012740135192871094,0.008418679237365723,0.01064300537109375,0.010825753211975098,0.011239767074584961,0.009348869323730469,0.00930476188659668,0.01157689094543457,0.013358831405639648,0.009515047073364258,0.011515259742736816,0.011172056198120117,0.009224772453308105,0.013043880462646484,0.010386824607849121,0.011080026626586914,0.0105438232421875,0.012032866477966309,0.010226249694824219,0.012318968772888184,0.01034843921661377,0.012229561805725098,0.011382818222045898,0.009751200675964355,0.012061119079589844,0.010042309761047363,0.013279080390930176,0.01096200942993164,0.01058340072631836,0.012197494506835938,0.009909272193908691,0.010564208030700684,0.013265013694763184,0.011313915252685547,0.010537505149841309,0.009835958480834961,0.013113617897033691,0.010418891906738281,0.009893059730529785,0.009463310241699219,0.010547757148742676,0.011285662651062012,0.008995771408081055,0.010834574699401855,0.01215660572052002,0.010616779327392578,0.009943962097167969,0.008277058601379395,0.00841987133026123,0.010281920433044434,0.010674357414245605,0.011723756790161133,0.011856913566589355,0.010027766227722168,0.012361407279968262,0.011594057083129883,0.011121749877929688,0.009195923805236816,0.010873913764953613,0.00857400894165039,0.0090559720993042,0.009543061256408691,0.010424971580505371,0.008905649185180664,0.010701179504394531,0.009307146072387695,0.009927034378051758,0.009736776351928711,0.009764909744262695,0.010625839233398438,0.009010791778564453,0.011165618896484375,0.009856343269348145,0.010541439056396484,0.010256648063659668,0.01081693172454834,0.01193082332611084,0.01033163070678711,0.008632779121398926,0.009193897247314453,0.009836435317993164,0.009894490242004395,0.009601473808288574,0.011075258255004883,0.00829768180847168,0.011085271835327148,0.01190805435180664,0.008728265762329102,0.011050224304199219,0.010927319526672363,0.010857224464416504,0.0087965726852417,0.00870823860168457,0.009673118591308594,0.008658528327941895,0.008970499038696289,0.008445024490356445,0.011061310768127441,0.007824420928955078,0.008129000663757324,0.009068608283996582,0.008920550346374512,0.00905609130859375,0.007941126823425293,0.010447978973388672,0.009169459342956543,0.008167862892150879,0.0077474117279052734,0.008204221725463867,0.00871884822845459,0.009918808937072754,0.008544325828552246,0.009987354278564453,0.010424137115478516,0.00896155834197998,0.007955789566040039,0.009233832359313965,0.00815129280090332,0.00953817367553711,0.01064157485961914,0.006533145904541016,0.008103609085083008,0.008880615234375,0.007845878601074219,0.007127046585083008,0.00838327407836914,0.008479118347167969,0.006966829299926758,0.00885629653930664,0.00930166244506836,0.008138418197631836,0.006987571716308594,0.008434295654296875,0.008738160133361816,0.007753610610961914,0.0072591304779052734,0.007030367851257324,0.007535219192504883,0.009232759475708008,0.007879495620727539,0.008524894714355469,0.006490945816040039,0.006857156753540039,0.006142973899841309,0.006711721420288086,0.0064241886138916016,0.007145881652832031,0.006196856498718262,0.006406307220458984,0.007423043251037598,0.006245255470275879,0.005268216133117676,0.0070410966873168945,0.005684256553649902,0.005213141441345215,0.0061331987380981445,0.005820631980895996,0.0053670406341552734,0.00517725944519043,0.005143404006958008,0.00466609001159668,0.005264639854431152,0.004792451858520508,0.004811525344848633,0.004369378089904785],\"type\":\"scatter\"},{\"line\":{\"color\":\"green\",\"width\":2},\"mode\":\"lines\",\"name\":\"Test returns\",\"x\":[\"2024-07-01\",\"2024-08-01\"],\"y\":[0.004369378089904785,0.00355684757232666],\"type\":\"scatter\"}],                        {\"template\":{\"data\":{\"barpolar\":[{\"marker\":{\"line\":{\"color\":\"white\",\"width\":0.5},\"pattern\":{\"fillmode\":\"overlay\",\"size\":10,\"solidity\":0.2}},\"type\":\"barpolar\"}],\"bar\":[{\"error_x\":{\"color\":\"#2a3f5f\"},\"error_y\":{\"color\":\"#2a3f5f\"},\"marker\":{\"line\":{\"color\":\"white\",\"width\":0.5},\"pattern\":{\"fillmode\":\"overlay\",\"size\":10,\"solidity\":0.2}},\"type\":\"bar\"}],\"carpet\":[{\"aaxis\":{\"endlinecolor\":\"#2a3f5f\",\"gridcolor\":\"#C8D4E3\",\"linecolor\":\"#C8D4E3\",\"minorgridcolor\":\"#C8D4E3\",\"startlinecolor\":\"#2a3f5f\"},\"baxis\":{\"endlinecolor\":\"#2a3f5f\",\"gridcolor\":\"#C8D4E3\",\"linecolor\":\"#C8D4E3\",\"minorgridcolor\":\"#C8D4E3\",\"startlinecolor\":\"#2a3f5f\"},\"type\":\"carpet\"}],\"choropleth\":[{\"colorbar\":{\"outlinewidth\":0,\"ticks\":\"\"},\"type\":\"choropleth\"}],\"contourcarpet\":[{\"colorbar\":{\"outlinewidth\":0,\"ticks\":\"\"},\"type\":\"contourcarpet\"}],\"contour\":[{\"colorbar\":{\"outlinewidth\":0,\"ticks\":\"\"},\"colorscale\":[[0.0,\"#0d0887\"],[0.1111111111111111,\"#46039f\"],[0.2222222222222222,\"#7201a8\"],[0.3333333333333333,\"#9c179e\"],[0.4444444444444444,\"#bd3786\"],[0.5555555555555556,\"#d8576b\"],[0.6666666666666666,\"#ed7953\"],[0.7777777777777778,\"#fb9f3a\"],[0.8888888888888888,\"#fdca26\"],[1.0,\"#f0f921\"]],\"type\":\"contour\"}],\"heatmapgl\":[{\"colorbar\":{\"outlinewidth\":0,\"ticks\":\"\"},\"colorscale\":[[0.0,\"#0d0887\"],[0.1111111111111111,\"#46039f\"],[0.2222222222222222,\"#7201a8\"],[0.3333333333333333,\"#9c179e\"],[0.4444444444444444,\"#bd3786\"],[0.5555555555555556,\"#d8576b\"],[0.6666666666666666,\"#ed7953\"],[0.7777777777777778,\"#fb9f3a\"],[0.8888888888888888,\"#fdca26\"],[1.0,\"#f0f921\"]],\"type\":\"heatmapgl\"}],\"heatmap\":[{\"colorbar\":{\"outlinewidth\":0,\"ticks\":\"\"},\"colorscale\":[[0.0,\"#0d0887\"],[0.1111111111111111,\"#46039f\"],[0.2222222222222222,\"#7201a8\"],[0.3333333333333333,\"#9c179e\"],[0.4444444444444444,\"#bd3786\"],[0.5555555555555556,\"#d8576b\"],[0.6666666666666666,\"#ed7953\"],[0.7777777777777778,\"#fb9f3a\"],[0.8888888888888888,\"#fdca26\"],[1.0,\"#f0f921\"]],\"type\":\"heatmap\"}],\"histogram2dcontour\":[{\"colorbar\":{\"outlinewidth\":0,\"ticks\":\"\"},\"colorscale\":[[0.0,\"#0d0887\"],[0.1111111111111111,\"#46039f\"],[0.2222222222222222,\"#7201a8\"],[0.3333333333333333,\"#9c179e\"],[0.4444444444444444,\"#bd3786\"],[0.5555555555555556,\"#d8576b\"],[0.6666666666666666,\"#ed7953\"],[0.7777777777777778,\"#fb9f3a\"],[0.8888888888888888,\"#fdca26\"],[1.0,\"#f0f921\"]],\"type\":\"histogram2dcontour\"}],\"histogram2d\":[{\"colorbar\":{\"outlinewidth\":0,\"ticks\":\"\"},\"colorscale\":[[0.0,\"#0d0887\"],[0.1111111111111111,\"#46039f\"],[0.2222222222222222,\"#7201a8\"],[0.3333333333333333,\"#9c179e\"],[0.4444444444444444,\"#bd3786\"],[0.5555555555555556,\"#d8576b\"],[0.6666666666666666,\"#ed7953\"],[0.7777777777777778,\"#fb9f3a\"],[0.8888888888888888,\"#fdca26\"],[1.0,\"#f0f921\"]],\"type\":\"histogram2d\"}],\"histogram\":[{\"marker\":{\"pattern\":{\"fillmode\":\"overlay\",\"size\":10,\"solidity\":0.2}},\"type\":\"histogram\"}],\"mesh3d\":[{\"colorbar\":{\"outlinewidth\":0,\"ticks\":\"\"},\"type\":\"mesh3d\"}],\"parcoords\":[{\"line\":{\"colorbar\":{\"outlinewidth\":0,\"ticks\":\"\"}},\"type\":\"parcoords\"}],\"pie\":[{\"automargin\":true,\"type\":\"pie\"}],\"scatter3d\":[{\"line\":{\"colorbar\":{\"outlinewidth\":0,\"ticks\":\"\"}},\"marker\":{\"colorbar\":{\"outlinewidth\":0,\"ticks\":\"\"}},\"type\":\"scatter3d\"}],\"scattercarpet\":[{\"marker\":{\"colorbar\":{\"outlinewidth\":0,\"ticks\":\"\"}},\"type\":\"scattercarpet\"}],\"scattergeo\":[{\"marker\":{\"colorbar\":{\"outlinewidth\":0,\"ticks\":\"\"}},\"type\":\"scattergeo\"}],\"scattergl\":[{\"marker\":{\"colorbar\":{\"outlinewidth\":0,\"ticks\":\"\"}},\"type\":\"scattergl\"}],\"scattermapbox\":[{\"marker\":{\"colorbar\":{\"outlinewidth\":0,\"ticks\":\"\"}},\"type\":\"scattermapbox\"}],\"scatterpolargl\":[{\"marker\":{\"colorbar\":{\"outlinewidth\":0,\"ticks\":\"\"}},\"type\":\"scatterpolargl\"}],\"scatterpolar\":[{\"marker\":{\"colorbar\":{\"outlinewidth\":0,\"ticks\":\"\"}},\"type\":\"scatterpolar\"}],\"scatter\":[{\"fillpattern\":{\"fillmode\":\"overlay\",\"size\":10,\"solidity\":0.2},\"type\":\"scatter\"}],\"scatterternary\":[{\"marker\":{\"colorbar\":{\"outlinewidth\":0,\"ticks\":\"\"}},\"type\":\"scatterternary\"}],\"surface\":[{\"colorbar\":{\"outlinewidth\":0,\"ticks\":\"\"},\"colorscale\":[[0.0,\"#0d0887\"],[0.1111111111111111,\"#46039f\"],[0.2222222222222222,\"#7201a8\"],[0.3333333333333333,\"#9c179e\"],[0.4444444444444444,\"#bd3786\"],[0.5555555555555556,\"#d8576b\"],[0.6666666666666666,\"#ed7953\"],[0.7777777777777778,\"#fb9f3a\"],[0.8888888888888888,\"#fdca26\"],[1.0,\"#f0f921\"]],\"type\":\"surface\"}],\"table\":[{\"cells\":{\"fill\":{\"color\":\"#EBF0F8\"},\"line\":{\"color\":\"white\"}},\"header\":{\"fill\":{\"color\":\"#C8D4E3\"},\"line\":{\"color\":\"white\"}},\"type\":\"table\"}]},\"layout\":{\"annotationdefaults\":{\"arrowcolor\":\"#2a3f5f\",\"arrowhead\":0,\"arrowwidth\":1},\"autotypenumbers\":\"strict\",\"coloraxis\":{\"colorbar\":{\"outlinewidth\":0,\"ticks\":\"\"}},\"colorscale\":{\"diverging\":[[0,\"#8e0152\"],[0.1,\"#c51b7d\"],[0.2,\"#de77ae\"],[0.3,\"#f1b6da\"],[0.4,\"#fde0ef\"],[0.5,\"#f7f7f7\"],[0.6,\"#e6f5d0\"],[0.7,\"#b8e186\"],[0.8,\"#7fbc41\"],[0.9,\"#4d9221\"],[1,\"#276419\"]],\"sequential\":[[0.0,\"#0d0887\"],[0.1111111111111111,\"#46039f\"],[0.2222222222222222,\"#7201a8\"],[0.3333333333333333,\"#9c179e\"],[0.4444444444444444,\"#bd3786\"],[0.5555555555555556,\"#d8576b\"],[0.6666666666666666,\"#ed7953\"],[0.7777777777777778,\"#fb9f3a\"],[0.8888888888888888,\"#fdca26\"],[1.0,\"#f0f921\"]],\"sequentialminus\":[[0.0,\"#0d0887\"],[0.1111111111111111,\"#46039f\"],[0.2222222222222222,\"#7201a8\"],[0.3333333333333333,\"#9c179e\"],[0.4444444444444444,\"#bd3786\"],[0.5555555555555556,\"#d8576b\"],[0.6666666666666666,\"#ed7953\"],[0.7777777777777778,\"#fb9f3a\"],[0.8888888888888888,\"#fdca26\"],[1.0,\"#f0f921\"]]},\"colorway\":[\"#636efa\",\"#EF553B\",\"#00cc96\",\"#ab63fa\",\"#FFA15A\",\"#19d3f3\",\"#FF6692\",\"#B6E880\",\"#FF97FF\",\"#FECB52\"],\"font\":{\"color\":\"#2a3f5f\"},\"geo\":{\"bgcolor\":\"white\",\"lakecolor\":\"white\",\"landcolor\":\"white\",\"showlakes\":true,\"showland\":true,\"subunitcolor\":\"#C8D4E3\"},\"hoverlabel\":{\"align\":\"left\"},\"hovermode\":\"closest\",\"mapbox\":{\"style\":\"light\"},\"paper_bgcolor\":\"white\",\"plot_bgcolor\":\"white\",\"polar\":{\"angularaxis\":{\"gridcolor\":\"#EBF0F8\",\"linecolor\":\"#EBF0F8\",\"ticks\":\"\"},\"bgcolor\":\"white\",\"radialaxis\":{\"gridcolor\":\"#EBF0F8\",\"linecolor\":\"#EBF0F8\",\"ticks\":\"\"}},\"scene\":{\"xaxis\":{\"backgroundcolor\":\"white\",\"gridcolor\":\"#DFE8F3\",\"gridwidth\":2,\"linecolor\":\"#EBF0F8\",\"showbackground\":true,\"ticks\":\"\",\"zerolinecolor\":\"#EBF0F8\"},\"yaxis\":{\"backgroundcolor\":\"white\",\"gridcolor\":\"#DFE8F3\",\"gridwidth\":2,\"linecolor\":\"#EBF0F8\",\"showbackground\":true,\"ticks\":\"\",\"zerolinecolor\":\"#EBF0F8\"},\"zaxis\":{\"backgroundcolor\":\"white\",\"gridcolor\":\"#DFE8F3\",\"gridwidth\":2,\"linecolor\":\"#EBF0F8\",\"showbackground\":true,\"ticks\":\"\",\"zerolinecolor\":\"#EBF0F8\"}},\"shapedefaults\":{\"line\":{\"color\":\"#2a3f5f\"}},\"ternary\":{\"aaxis\":{\"gridcolor\":\"#DFE8F3\",\"linecolor\":\"#A2B1C6\",\"ticks\":\"\"},\"baxis\":{\"gridcolor\":\"#DFE8F3\",\"linecolor\":\"#A2B1C6\",\"ticks\":\"\"},\"bgcolor\":\"white\",\"caxis\":{\"gridcolor\":\"#DFE8F3\",\"linecolor\":\"#A2B1C6\",\"ticks\":\"\"}},\"title\":{\"x\":0.05},\"xaxis\":{\"automargin\":true,\"gridcolor\":\"#EBF0F8\",\"linecolor\":\"#EBF0F8\",\"ticks\":\"\",\"title\":{\"standoff\":15},\"zerolinecolor\":\"#EBF0F8\",\"zerolinewidth\":2},\"yaxis\":{\"automargin\":true,\"gridcolor\":\"#EBF0F8\",\"linecolor\":\"#EBF0F8\",\"ticks\":\"\",\"title\":{\"standoff\":15},\"zerolinecolor\":\"#EBF0F8\",\"zerolinewidth\":2}}},\"shapes\":[{\"line\":{\"color\":\"red\",\"dash\":\"dash\",\"width\":1},\"type\":\"line\",\"x0\":\"2024-07-01\",\"x1\":\"2024-07-01\",\"xref\":\"x\",\"y0\":0,\"y1\":1,\"yref\":\"y domain\"}],\"yaxis\":{\"title\":{\"text\":\"Day closing return (%)\"},\"tickformat\":\".0%\",\"range\":[-0.25,0.6]},\"title\":{\"text\":\"1 Month Prediction vs Actual Plot\"},\"xaxis\":{\"title\":{\"text\":\"Date\"}},\"legend\":{\"title\":{\"text\":\"Legend\"}}},                        {\"responsive\": true}                    ).then(function(){\n",
       "                            \n",
       "var gd = document.getElementById('aeec433e-774c-4153-96f3-c78a61887ca8');\n",
       "var x = new MutationObserver(function (mutations, observer) {{\n",
       "        var display = window.getComputedStyle(gd).display;\n",
       "        if (!display || display === 'none') {{\n",
       "            console.log([gd, 'removed!']);\n",
       "            Plotly.purge(gd);\n",
       "            observer.disconnect();\n",
       "        }}\n",
       "}});\n",
       "\n",
       "// Listen for the removal of the full notebook cells\n",
       "var notebookContainer = gd.closest('#notebook-container');\n",
       "if (notebookContainer) {{\n",
       "    x.observe(notebookContainer, {childList: true});\n",
       "}}\n",
       "\n",
       "// Listen for the clearing of the current output cell\n",
       "var outputEl = gd.closest('.output');\n",
       "if (outputEl) {{\n",
       "    x.observe(outputEl, {childList: true});\n",
       "}}\n",
       "\n",
       "                        })                };                });            </script>        </div>"
      ]
     },
     "metadata": {},
     "output_type": "display_data"
    }
   ],
   "execution_count": 376
  },
  {
   "metadata": {},
   "cell_type": "markdown",
   "source": "#### Allocation - 1 Month",
   "id": "8ff662d0f695a8cc"
  },
  {
   "metadata": {},
   "cell_type": "markdown",
   "source": [
    "In order for Mean-Variance Optimisation to create an optimal portfolio, by allocation to the best performing tickers, \n",
    "based on their weight and price. Predicted return and those being evaluated have to be adopted to the actual prices.\n"
   ],
   "id": "b20ab4dd856545ac"
  },
  {
   "metadata": {
    "ExecuteTime": {
     "end_time": "2025-06-15T15:48:35.745813Z",
     "start_time": "2025-06-15T15:48:35.691632Z"
    }
   },
   "cell_type": "code",
   "source": [
    "importlib.reload(mpt_utils)\n",
    "\n",
    "# Get train true values followed with predicted month/s\n",
    "y_train_1m_list = y_train_1m['m_return_target(t+1)'].tolist()\n",
    "y_test_1m_list = y_test_pred_1m.tolist()\n",
    "#\n",
    "df_to_evaluate_1m = mpt_utils.get_df_from_pred_list(df_pct, y_train_1m_list, y_test_1m_list)\n",
    "df_to_evaluate_1m = df_to_evaluate_1m - 1\n",
    "#\n",
    "df_to_evaluate_1m.tail(3)"
   ],
   "id": "b89f9aeaf74d7a28",
   "outputs": [
    {
     "data": {
      "text/plain": [
       "          GME    2124.T    2491.T    2471.T   3046.T    PAT.DE      CROX  \\\n",
       "283 -0.080000  0.100000  0.020000 -0.020000  0.17000  0.070000 -0.080000   \n",
       "284  0.030000  0.040000 -0.030000  0.120000  0.14000  0.120000  0.090000   \n",
       "285 -0.051674 -0.047119 -0.031614 -0.018961 -0.02534  0.003193  0.010767   \n",
       "\n",
       "       AOF.DE    SFQ.DE      DAN  ...      KREF     HLN.L       DBX       BNL  \\\n",
       "283  0.220000  0.080000  0.05000  ...  0.300000  0.080000  0.060000  0.120000   \n",
       "284  0.020000 -0.080000 -0.11000  ...  0.040000  0.090000  0.050000  0.050000   \n",
       "285  0.011744  0.003194  0.00304  ...  0.022931  0.004688  0.015694 -0.015178   \n",
       "\n",
       "          CBL      KVUE      PSTL      NTST      BLCO     NBS.L  \n",
       "283  0.120000  0.020000  0.120000  0.040000  0.190000  0.000000  \n",
       "284  0.020000  0.190000 -0.030000  0.010000 -0.050000  0.000000  \n",
       "285 -0.012599 -0.007574 -0.003856  0.001067 -0.000865 -0.013818  \n",
       "\n",
       "[3 rows x 1332 columns]"
      ],
      "text/html": [
       "<div>\n",
       "<style scoped>\n",
       "    .dataframe tbody tr th:only-of-type {\n",
       "        vertical-align: middle;\n",
       "    }\n",
       "\n",
       "    .dataframe tbody tr th {\n",
       "        vertical-align: top;\n",
       "    }\n",
       "\n",
       "    .dataframe thead th {\n",
       "        text-align: right;\n",
       "    }\n",
       "</style>\n",
       "<table border=\"1\" class=\"dataframe\">\n",
       "  <thead>\n",
       "    <tr style=\"text-align: right;\">\n",
       "      <th></th>\n",
       "      <th>GME</th>\n",
       "      <th>2124.T</th>\n",
       "      <th>2491.T</th>\n",
       "      <th>2471.T</th>\n",
       "      <th>3046.T</th>\n",
       "      <th>PAT.DE</th>\n",
       "      <th>CROX</th>\n",
       "      <th>AOF.DE</th>\n",
       "      <th>SFQ.DE</th>\n",
       "      <th>DAN</th>\n",
       "      <th>...</th>\n",
       "      <th>KREF</th>\n",
       "      <th>HLN.L</th>\n",
       "      <th>DBX</th>\n",
       "      <th>BNL</th>\n",
       "      <th>CBL</th>\n",
       "      <th>KVUE</th>\n",
       "      <th>PSTL</th>\n",
       "      <th>NTST</th>\n",
       "      <th>BLCO</th>\n",
       "      <th>NBS.L</th>\n",
       "    </tr>\n",
       "  </thead>\n",
       "  <tbody>\n",
       "    <tr>\n",
       "      <th>283</th>\n",
       "      <td>-0.080000</td>\n",
       "      <td>0.100000</td>\n",
       "      <td>0.020000</td>\n",
       "      <td>-0.020000</td>\n",
       "      <td>0.17000</td>\n",
       "      <td>0.070000</td>\n",
       "      <td>-0.080000</td>\n",
       "      <td>0.220000</td>\n",
       "      <td>0.080000</td>\n",
       "      <td>0.05000</td>\n",
       "      <td>...</td>\n",
       "      <td>0.300000</td>\n",
       "      <td>0.080000</td>\n",
       "      <td>0.060000</td>\n",
       "      <td>0.120000</td>\n",
       "      <td>0.120000</td>\n",
       "      <td>0.020000</td>\n",
       "      <td>0.120000</td>\n",
       "      <td>0.040000</td>\n",
       "      <td>0.190000</td>\n",
       "      <td>0.000000</td>\n",
       "    </tr>\n",
       "    <tr>\n",
       "      <th>284</th>\n",
       "      <td>0.030000</td>\n",
       "      <td>0.040000</td>\n",
       "      <td>-0.030000</td>\n",
       "      <td>0.120000</td>\n",
       "      <td>0.14000</td>\n",
       "      <td>0.120000</td>\n",
       "      <td>0.090000</td>\n",
       "      <td>0.020000</td>\n",
       "      <td>-0.080000</td>\n",
       "      <td>-0.11000</td>\n",
       "      <td>...</td>\n",
       "      <td>0.040000</td>\n",
       "      <td>0.090000</td>\n",
       "      <td>0.050000</td>\n",
       "      <td>0.050000</td>\n",
       "      <td>0.020000</td>\n",
       "      <td>0.190000</td>\n",
       "      <td>-0.030000</td>\n",
       "      <td>0.010000</td>\n",
       "      <td>-0.050000</td>\n",
       "      <td>0.000000</td>\n",
       "    </tr>\n",
       "    <tr>\n",
       "      <th>285</th>\n",
       "      <td>-0.051674</td>\n",
       "      <td>-0.047119</td>\n",
       "      <td>-0.031614</td>\n",
       "      <td>-0.018961</td>\n",
       "      <td>-0.02534</td>\n",
       "      <td>0.003193</td>\n",
       "      <td>0.010767</td>\n",
       "      <td>0.011744</td>\n",
       "      <td>0.003194</td>\n",
       "      <td>0.00304</td>\n",
       "      <td>...</td>\n",
       "      <td>0.022931</td>\n",
       "      <td>0.004688</td>\n",
       "      <td>0.015694</td>\n",
       "      <td>-0.015178</td>\n",
       "      <td>-0.012599</td>\n",
       "      <td>-0.007574</td>\n",
       "      <td>-0.003856</td>\n",
       "      <td>0.001067</td>\n",
       "      <td>-0.000865</td>\n",
       "      <td>-0.013818</td>\n",
       "    </tr>\n",
       "  </tbody>\n",
       "</table>\n",
       "<p>3 rows × 1332 columns</p>\n",
       "</div>"
      ]
     },
     "execution_count": 377,
     "metadata": {},
     "output_type": "execute_result"
    }
   ],
   "execution_count": 377
  },
  {
   "metadata": {
    "ExecuteTime": {
     "end_time": "2025-06-15T15:48:42.033314Z",
     "start_time": "2025-06-15T15:48:35.750993Z"
    }
   },
   "cell_type": "code",
   "source": [
    "importlib.reload(mpt_utils)\n",
    "\n",
    "weights_1m, mu_1m, S_1m, weights_all_1m = mpt_utils.portfolio_and_plot(df_to_evaluate_1m, df, plot_threshold=0.015)"
   ],
   "id": "ce3f40a8aa258366",
   "outputs": [
    {
     "name": "stdout",
     "output_type": "stream",
     "text": [
      "Expected annual return: 52.1%\n",
      "Annual volatility: 11.4%\n",
      "Sharpe Ratio: 4.38\n",
      "-- Allocation --\n",
      "{'6736.T': 6, '8022.T': 2, 'LRN': 1, '7599.T': 13, 'AVGO': 1, '8129.T': 3, 'NVDA': 1, 'ASCL.L': 1, 'ANF': 1, 'AGYS': 1, 'SFM': 1, 'APP': 1, 'CVLT': 1, 'BRBY.L': 1, '9024.T': 3, '9869.T': 2, '8282.T': 7, 'NL': 12, '2327.T': 2, 'MSI': 1, '6941.T': 3, 'PNN.L': 1, 'IDS.L': 1, '9766.T': 1, '9468.T': 3, '9101.T': 2, '7309.T': 1, 'HL.L': 1, '8977.T': 1, 'FTK.DE': 4, '2433.T': 8, '9934.T': 2, 'NEM.DE': 1, '7832.T': 3, '8283.T': 2, '4732.T': 6, '7419.T': 5, 'BGC': 6, 'STAA': 1, '4568.T': 1, 'GBF.DE': 1, '4324.T': 1, '3626.T': 2, '8012.T': 2, 'AMAL': 1, '7552.T': 2, '9831.T': 16, '9072.T': 2, '7483.T': 3, '2790.T': 2, '7947.T': 2, '7936.T': 2, '7906.T': 3, 'COP.DE': 2, '9842.T': 3, '7846.T': 1, '2331.T': 6, '9104.T': 1, '4549.T': 2, '2733.T': 1, '8818.T': 3, '7915.T': 3, '8309.T': 1, '7951.T': 1, '9260.T': 3, '7762.T': 6, '3148.T': 1, 'RELL': 2, '9107.T': 2, '9076.T': 1, '9434.T': 2, 'DOLE': 2, '5334.T': 1, '3107.T': 1, '7984.T': 1, '8803.T': 1, 'SWBI': 1, '7734.T': 1, 'CNK': 1, '9143.T': 2, '9605.T': 1, '7459.T': 1, '8008.T': 2, '4301.T': 2, '8173.T': 1, '6588.T': 1, '4544.T': 1, '6417.T': 1, '9069.T': 3, '2767.T': 1, 'WWW': 1, '3003.T': 2, '6914.T': 1, 'EQC': 1, '7239.T': 1, 'ESCA': 1, 'MFA': 1, '3608.T': 3, 'EOAN.DE': 1, '7575.T': 2, '3191.T': 1, '9832.T': 1, '7955.T': 3, 'DAKT': 1, 'FBRT': 1, '8151.T': 1, '8876.T': 1, '7994.T': 1, '2475.T': 1, '8086.T': 1, 'FNKO': 1, '8897.T': 3, '2874.T': 1, '9470.T': 1, '6471.T': 1}\n",
      "-- Weights Percentage --\n",
      "{'NVDA': 0.0183, '6736.T': 0.0591, 'AVGO': 0.0192, 'ANF': 0.0175, 'AGYS': 0.017, '7599.T': 0.0204, '8129.T': 0.0186, 'LRN': 0.0221, '8022.T': 0.0233, 'ASCL.L': 0.0181, 'SFM': 0.0168, 'Other(104)': 0.7495}\n"
     ]
    },
    {
     "name": "stderr",
     "output_type": "stream",
     "text": [
      "/Users/herbishtini/anaconda3/envs/portfolio_optimisation/lib/python3.11/site-packages/pypfopt/discrete_allocation.py:27: FutureWarning:\n",
      "\n",
      "Downcasting object dtype arrays on .fillna, .ffill, .bfill is deprecated and will change in a future version. Call result.infer_objects(copy=False) instead. To opt-in to the future behavior, set `pd.set_option('future.no_silent_downcasting', True)`\n",
      "\n"
     ]
    },
    {
     "data": {
      "application/vnd.plotly.v1+json": {
       "data": [
        {
         "hole": 0.3,
         "insidetextorientation": "radial",
         "labels": [
          "NVDA",
          "6736.T",
          "AVGO",
          "ANF",
          "AGYS",
          "7599.T",
          "8129.T",
          "LRN",
          "8022.T",
          "ASCL.L",
          "SFM",
          "Other(104)"
         ],
         "textinfo": "label+percent",
         "textposition": "inside",
         "values": [
          0.0101,
          0.0327,
          0.0106,
          0.0097,
          0.0094,
          0.0113,
          0.0103,
          0.0122,
          0.0129,
          0.01,
          0.0093,
          0.4144
         ],
         "type": "pie"
        }
       ],
       "layout": {
        "template": {
         "data": {
          "histogram2dcontour": [
           {
            "type": "histogram2dcontour",
            "colorbar": {
             "outlinewidth": 0,
             "ticks": ""
            },
            "colorscale": [
             [
              0.0,
              "#0d0887"
             ],
             [
              0.1111111111111111,
              "#46039f"
             ],
             [
              0.2222222222222222,
              "#7201a8"
             ],
             [
              0.3333333333333333,
              "#9c179e"
             ],
             [
              0.4444444444444444,
              "#bd3786"
             ],
             [
              0.5555555555555556,
              "#d8576b"
             ],
             [
              0.6666666666666666,
              "#ed7953"
             ],
             [
              0.7777777777777778,
              "#fb9f3a"
             ],
             [
              0.8888888888888888,
              "#fdca26"
             ],
             [
              1.0,
              "#f0f921"
             ]
            ]
           }
          ],
          "choropleth": [
           {
            "type": "choropleth",
            "colorbar": {
             "outlinewidth": 0,
             "ticks": ""
            }
           }
          ],
          "histogram2d": [
           {
            "type": "histogram2d",
            "colorbar": {
             "outlinewidth": 0,
             "ticks": ""
            },
            "colorscale": [
             [
              0.0,
              "#0d0887"
             ],
             [
              0.1111111111111111,
              "#46039f"
             ],
             [
              0.2222222222222222,
              "#7201a8"
             ],
             [
              0.3333333333333333,
              "#9c179e"
             ],
             [
              0.4444444444444444,
              "#bd3786"
             ],
             [
              0.5555555555555556,
              "#d8576b"
             ],
             [
              0.6666666666666666,
              "#ed7953"
             ],
             [
              0.7777777777777778,
              "#fb9f3a"
             ],
             [
              0.8888888888888888,
              "#fdca26"
             ],
             [
              1.0,
              "#f0f921"
             ]
            ]
           }
          ],
          "heatmap": [
           {
            "type": "heatmap",
            "colorbar": {
             "outlinewidth": 0,
             "ticks": ""
            },
            "colorscale": [
             [
              0.0,
              "#0d0887"
             ],
             [
              0.1111111111111111,
              "#46039f"
             ],
             [
              0.2222222222222222,
              "#7201a8"
             ],
             [
              0.3333333333333333,
              "#9c179e"
             ],
             [
              0.4444444444444444,
              "#bd3786"
             ],
             [
              0.5555555555555556,
              "#d8576b"
             ],
             [
              0.6666666666666666,
              "#ed7953"
             ],
             [
              0.7777777777777778,
              "#fb9f3a"
             ],
             [
              0.8888888888888888,
              "#fdca26"
             ],
             [
              1.0,
              "#f0f921"
             ]
            ]
           }
          ],
          "heatmapgl": [
           {
            "type": "heatmapgl",
            "colorbar": {
             "outlinewidth": 0,
             "ticks": ""
            },
            "colorscale": [
             [
              0.0,
              "#0d0887"
             ],
             [
              0.1111111111111111,
              "#46039f"
             ],
             [
              0.2222222222222222,
              "#7201a8"
             ],
             [
              0.3333333333333333,
              "#9c179e"
             ],
             [
              0.4444444444444444,
              "#bd3786"
             ],
             [
              0.5555555555555556,
              "#d8576b"
             ],
             [
              0.6666666666666666,
              "#ed7953"
             ],
             [
              0.7777777777777778,
              "#fb9f3a"
             ],
             [
              0.8888888888888888,
              "#fdca26"
             ],
             [
              1.0,
              "#f0f921"
             ]
            ]
           }
          ],
          "contourcarpet": [
           {
            "type": "contourcarpet",
            "colorbar": {
             "outlinewidth": 0,
             "ticks": ""
            }
           }
          ],
          "contour": [
           {
            "type": "contour",
            "colorbar": {
             "outlinewidth": 0,
             "ticks": ""
            },
            "colorscale": [
             [
              0.0,
              "#0d0887"
             ],
             [
              0.1111111111111111,
              "#46039f"
             ],
             [
              0.2222222222222222,
              "#7201a8"
             ],
             [
              0.3333333333333333,
              "#9c179e"
             ],
             [
              0.4444444444444444,
              "#bd3786"
             ],
             [
              0.5555555555555556,
              "#d8576b"
             ],
             [
              0.6666666666666666,
              "#ed7953"
             ],
             [
              0.7777777777777778,
              "#fb9f3a"
             ],
             [
              0.8888888888888888,
              "#fdca26"
             ],
             [
              1.0,
              "#f0f921"
             ]
            ]
           }
          ],
          "surface": [
           {
            "type": "surface",
            "colorbar": {
             "outlinewidth": 0,
             "ticks": ""
            },
            "colorscale": [
             [
              0.0,
              "#0d0887"
             ],
             [
              0.1111111111111111,
              "#46039f"
             ],
             [
              0.2222222222222222,
              "#7201a8"
             ],
             [
              0.3333333333333333,
              "#9c179e"
             ],
             [
              0.4444444444444444,
              "#bd3786"
             ],
             [
              0.5555555555555556,
              "#d8576b"
             ],
             [
              0.6666666666666666,
              "#ed7953"
             ],
             [
              0.7777777777777778,
              "#fb9f3a"
             ],
             [
              0.8888888888888888,
              "#fdca26"
             ],
             [
              1.0,
              "#f0f921"
             ]
            ]
           }
          ],
          "mesh3d": [
           {
            "type": "mesh3d",
            "colorbar": {
             "outlinewidth": 0,
             "ticks": ""
            }
           }
          ],
          "scatter": [
           {
            "fillpattern": {
             "fillmode": "overlay",
             "size": 10,
             "solidity": 0.2
            },
            "type": "scatter"
           }
          ],
          "parcoords": [
           {
            "type": "parcoords",
            "line": {
             "colorbar": {
              "outlinewidth": 0,
              "ticks": ""
             }
            }
           }
          ],
          "scatterpolargl": [
           {
            "type": "scatterpolargl",
            "marker": {
             "colorbar": {
              "outlinewidth": 0,
              "ticks": ""
             }
            }
           }
          ],
          "bar": [
           {
            "error_x": {
             "color": "#2a3f5f"
            },
            "error_y": {
             "color": "#2a3f5f"
            },
            "marker": {
             "line": {
              "color": "#E5ECF6",
              "width": 0.5
             },
             "pattern": {
              "fillmode": "overlay",
              "size": 10,
              "solidity": 0.2
             }
            },
            "type": "bar"
           }
          ],
          "scattergeo": [
           {
            "type": "scattergeo",
            "marker": {
             "colorbar": {
              "outlinewidth": 0,
              "ticks": ""
             }
            }
           }
          ],
          "scatterpolar": [
           {
            "type": "scatterpolar",
            "marker": {
             "colorbar": {
              "outlinewidth": 0,
              "ticks": ""
             }
            }
           }
          ],
          "histogram": [
           {
            "marker": {
             "pattern": {
              "fillmode": "overlay",
              "size": 10,
              "solidity": 0.2
             }
            },
            "type": "histogram"
           }
          ],
          "scattergl": [
           {
            "type": "scattergl",
            "marker": {
             "colorbar": {
              "outlinewidth": 0,
              "ticks": ""
             }
            }
           }
          ],
          "scatter3d": [
           {
            "type": "scatter3d",
            "line": {
             "colorbar": {
              "outlinewidth": 0,
              "ticks": ""
             }
            },
            "marker": {
             "colorbar": {
              "outlinewidth": 0,
              "ticks": ""
             }
            }
           }
          ],
          "scattermapbox": [
           {
            "type": "scattermapbox",
            "marker": {
             "colorbar": {
              "outlinewidth": 0,
              "ticks": ""
             }
            }
           }
          ],
          "scatterternary": [
           {
            "type": "scatterternary",
            "marker": {
             "colorbar": {
              "outlinewidth": 0,
              "ticks": ""
             }
            }
           }
          ],
          "scattercarpet": [
           {
            "type": "scattercarpet",
            "marker": {
             "colorbar": {
              "outlinewidth": 0,
              "ticks": ""
             }
            }
           }
          ],
          "carpet": [
           {
            "aaxis": {
             "endlinecolor": "#2a3f5f",
             "gridcolor": "white",
             "linecolor": "white",
             "minorgridcolor": "white",
             "startlinecolor": "#2a3f5f"
            },
            "baxis": {
             "endlinecolor": "#2a3f5f",
             "gridcolor": "white",
             "linecolor": "white",
             "minorgridcolor": "white",
             "startlinecolor": "#2a3f5f"
            },
            "type": "carpet"
           }
          ],
          "table": [
           {
            "cells": {
             "fill": {
              "color": "#EBF0F8"
             },
             "line": {
              "color": "white"
             }
            },
            "header": {
             "fill": {
              "color": "#C8D4E3"
             },
             "line": {
              "color": "white"
             }
            },
            "type": "table"
           }
          ],
          "barpolar": [
           {
            "marker": {
             "line": {
              "color": "#E5ECF6",
              "width": 0.5
             },
             "pattern": {
              "fillmode": "overlay",
              "size": 10,
              "solidity": 0.2
             }
            },
            "type": "barpolar"
           }
          ],
          "pie": [
           {
            "automargin": true,
            "type": "pie"
           }
          ]
         },
         "layout": {
          "autotypenumbers": "strict",
          "colorway": [
           "#636efa",
           "#EF553B",
           "#00cc96",
           "#ab63fa",
           "#FFA15A",
           "#19d3f3",
           "#FF6692",
           "#B6E880",
           "#FF97FF",
           "#FECB52"
          ],
          "font": {
           "color": "#2a3f5f"
          },
          "hovermode": "closest",
          "hoverlabel": {
           "align": "left"
          },
          "paper_bgcolor": "white",
          "plot_bgcolor": "#E5ECF6",
          "polar": {
           "bgcolor": "#E5ECF6",
           "angularaxis": {
            "gridcolor": "white",
            "linecolor": "white",
            "ticks": ""
           },
           "radialaxis": {
            "gridcolor": "white",
            "linecolor": "white",
            "ticks": ""
           }
          },
          "ternary": {
           "bgcolor": "#E5ECF6",
           "aaxis": {
            "gridcolor": "white",
            "linecolor": "white",
            "ticks": ""
           },
           "baxis": {
            "gridcolor": "white",
            "linecolor": "white",
            "ticks": ""
           },
           "caxis": {
            "gridcolor": "white",
            "linecolor": "white",
            "ticks": ""
           }
          },
          "coloraxis": {
           "colorbar": {
            "outlinewidth": 0,
            "ticks": ""
           }
          },
          "colorscale": {
           "sequential": [
            [
             0.0,
             "#0d0887"
            ],
            [
             0.1111111111111111,
             "#46039f"
            ],
            [
             0.2222222222222222,
             "#7201a8"
            ],
            [
             0.3333333333333333,
             "#9c179e"
            ],
            [
             0.4444444444444444,
             "#bd3786"
            ],
            [
             0.5555555555555556,
             "#d8576b"
            ],
            [
             0.6666666666666666,
             "#ed7953"
            ],
            [
             0.7777777777777778,
             "#fb9f3a"
            ],
            [
             0.8888888888888888,
             "#fdca26"
            ],
            [
             1.0,
             "#f0f921"
            ]
           ],
           "sequentialminus": [
            [
             0.0,
             "#0d0887"
            ],
            [
             0.1111111111111111,
             "#46039f"
            ],
            [
             0.2222222222222222,
             "#7201a8"
            ],
            [
             0.3333333333333333,
             "#9c179e"
            ],
            [
             0.4444444444444444,
             "#bd3786"
            ],
            [
             0.5555555555555556,
             "#d8576b"
            ],
            [
             0.6666666666666666,
             "#ed7953"
            ],
            [
             0.7777777777777778,
             "#fb9f3a"
            ],
            [
             0.8888888888888888,
             "#fdca26"
            ],
            [
             1.0,
             "#f0f921"
            ]
           ],
           "diverging": [
            [
             0,
             "#8e0152"
            ],
            [
             0.1,
             "#c51b7d"
            ],
            [
             0.2,
             "#de77ae"
            ],
            [
             0.3,
             "#f1b6da"
            ],
            [
             0.4,
             "#fde0ef"
            ],
            [
             0.5,
             "#f7f7f7"
            ],
            [
             0.6,
             "#e6f5d0"
            ],
            [
             0.7,
             "#b8e186"
            ],
            [
             0.8,
             "#7fbc41"
            ],
            [
             0.9,
             "#4d9221"
            ],
            [
             1,
             "#276419"
            ]
           ]
          },
          "xaxis": {
           "gridcolor": "white",
           "linecolor": "white",
           "ticks": "",
           "title": {
            "standoff": 15
           },
           "zerolinecolor": "white",
           "automargin": true,
           "zerolinewidth": 2
          },
          "yaxis": {
           "gridcolor": "white",
           "linecolor": "white",
           "ticks": "",
           "title": {
            "standoff": 15
           },
           "zerolinecolor": "white",
           "automargin": true,
           "zerolinewidth": 2
          },
          "scene": {
           "xaxis": {
            "backgroundcolor": "#E5ECF6",
            "gridcolor": "white",
            "linecolor": "white",
            "showbackground": true,
            "ticks": "",
            "zerolinecolor": "white",
            "gridwidth": 2
           },
           "yaxis": {
            "backgroundcolor": "#E5ECF6",
            "gridcolor": "white",
            "linecolor": "white",
            "showbackground": true,
            "ticks": "",
            "zerolinecolor": "white",
            "gridwidth": 2
           },
           "zaxis": {
            "backgroundcolor": "#E5ECF6",
            "gridcolor": "white",
            "linecolor": "white",
            "showbackground": true,
            "ticks": "",
            "zerolinecolor": "white",
            "gridwidth": 2
           }
          },
          "shapedefaults": {
           "line": {
            "color": "#2a3f5f"
           }
          },
          "annotationdefaults": {
           "arrowcolor": "#2a3f5f",
           "arrowhead": 0,
           "arrowwidth": 1
          },
          "geo": {
           "bgcolor": "white",
           "landcolor": "#E5ECF6",
           "subunitcolor": "white",
           "showland": true,
           "showlakes": true,
           "lakecolor": "white"
          },
          "title": {
           "x": 0.05
          },
          "mapbox": {
           "style": "light"
          }
         }
        },
        "margin": {
         "l": 20,
         "r": 20,
         "t": 20,
         "b": 20
        },
        "font": {
         "color": "black"
        },
        "height": 600,
        "width": 600,
        "paper_bgcolor": "white",
        "plot_bgcolor": "white",
        "showlegend": false
       },
       "config": {
        "plotlyServerURL": "https://plot.ly"
       }
      },
      "text/html": [
       "<div>                            <div id=\"6be217fe-abd6-4c3a-8147-9972a7c681ce\" class=\"plotly-graph-div\" style=\"height:600px; width:600px;\"></div>            <script type=\"text/javascript\">                require([\"plotly\"], function(Plotly) {                    window.PLOTLYENV=window.PLOTLYENV || {};                                    if (document.getElementById(\"6be217fe-abd6-4c3a-8147-9972a7c681ce\")) {                    Plotly.newPlot(                        \"6be217fe-abd6-4c3a-8147-9972a7c681ce\",                        [{\"hole\":0.3,\"insidetextorientation\":\"radial\",\"labels\":[\"NVDA\",\"6736.T\",\"AVGO\",\"ANF\",\"AGYS\",\"7599.T\",\"8129.T\",\"LRN\",\"8022.T\",\"ASCL.L\",\"SFM\",\"Other(104)\"],\"textinfo\":\"label+percent\",\"textposition\":\"inside\",\"values\":[0.0101,0.0327,0.0106,0.0097,0.0094,0.0113,0.0103,0.0122,0.0129,0.01,0.0093,0.4144],\"type\":\"pie\"}],                        {\"template\":{\"data\":{\"histogram2dcontour\":[{\"type\":\"histogram2dcontour\",\"colorbar\":{\"outlinewidth\":0,\"ticks\":\"\"},\"colorscale\":[[0.0,\"#0d0887\"],[0.1111111111111111,\"#46039f\"],[0.2222222222222222,\"#7201a8\"],[0.3333333333333333,\"#9c179e\"],[0.4444444444444444,\"#bd3786\"],[0.5555555555555556,\"#d8576b\"],[0.6666666666666666,\"#ed7953\"],[0.7777777777777778,\"#fb9f3a\"],[0.8888888888888888,\"#fdca26\"],[1.0,\"#f0f921\"]]}],\"choropleth\":[{\"type\":\"choropleth\",\"colorbar\":{\"outlinewidth\":0,\"ticks\":\"\"}}],\"histogram2d\":[{\"type\":\"histogram2d\",\"colorbar\":{\"outlinewidth\":0,\"ticks\":\"\"},\"colorscale\":[[0.0,\"#0d0887\"],[0.1111111111111111,\"#46039f\"],[0.2222222222222222,\"#7201a8\"],[0.3333333333333333,\"#9c179e\"],[0.4444444444444444,\"#bd3786\"],[0.5555555555555556,\"#d8576b\"],[0.6666666666666666,\"#ed7953\"],[0.7777777777777778,\"#fb9f3a\"],[0.8888888888888888,\"#fdca26\"],[1.0,\"#f0f921\"]]}],\"heatmap\":[{\"type\":\"heatmap\",\"colorbar\":{\"outlinewidth\":0,\"ticks\":\"\"},\"colorscale\":[[0.0,\"#0d0887\"],[0.1111111111111111,\"#46039f\"],[0.2222222222222222,\"#7201a8\"],[0.3333333333333333,\"#9c179e\"],[0.4444444444444444,\"#bd3786\"],[0.5555555555555556,\"#d8576b\"],[0.6666666666666666,\"#ed7953\"],[0.7777777777777778,\"#fb9f3a\"],[0.8888888888888888,\"#fdca26\"],[1.0,\"#f0f921\"]]}],\"heatmapgl\":[{\"type\":\"heatmapgl\",\"colorbar\":{\"outlinewidth\":0,\"ticks\":\"\"},\"colorscale\":[[0.0,\"#0d0887\"],[0.1111111111111111,\"#46039f\"],[0.2222222222222222,\"#7201a8\"],[0.3333333333333333,\"#9c179e\"],[0.4444444444444444,\"#bd3786\"],[0.5555555555555556,\"#d8576b\"],[0.6666666666666666,\"#ed7953\"],[0.7777777777777778,\"#fb9f3a\"],[0.8888888888888888,\"#fdca26\"],[1.0,\"#f0f921\"]]}],\"contourcarpet\":[{\"type\":\"contourcarpet\",\"colorbar\":{\"outlinewidth\":0,\"ticks\":\"\"}}],\"contour\":[{\"type\":\"contour\",\"colorbar\":{\"outlinewidth\":0,\"ticks\":\"\"},\"colorscale\":[[0.0,\"#0d0887\"],[0.1111111111111111,\"#46039f\"],[0.2222222222222222,\"#7201a8\"],[0.3333333333333333,\"#9c179e\"],[0.4444444444444444,\"#bd3786\"],[0.5555555555555556,\"#d8576b\"],[0.6666666666666666,\"#ed7953\"],[0.7777777777777778,\"#fb9f3a\"],[0.8888888888888888,\"#fdca26\"],[1.0,\"#f0f921\"]]}],\"surface\":[{\"type\":\"surface\",\"colorbar\":{\"outlinewidth\":0,\"ticks\":\"\"},\"colorscale\":[[0.0,\"#0d0887\"],[0.1111111111111111,\"#46039f\"],[0.2222222222222222,\"#7201a8\"],[0.3333333333333333,\"#9c179e\"],[0.4444444444444444,\"#bd3786\"],[0.5555555555555556,\"#d8576b\"],[0.6666666666666666,\"#ed7953\"],[0.7777777777777778,\"#fb9f3a\"],[0.8888888888888888,\"#fdca26\"],[1.0,\"#f0f921\"]]}],\"mesh3d\":[{\"type\":\"mesh3d\",\"colorbar\":{\"outlinewidth\":0,\"ticks\":\"\"}}],\"scatter\":[{\"fillpattern\":{\"fillmode\":\"overlay\",\"size\":10,\"solidity\":0.2},\"type\":\"scatter\"}],\"parcoords\":[{\"type\":\"parcoords\",\"line\":{\"colorbar\":{\"outlinewidth\":0,\"ticks\":\"\"}}}],\"scatterpolargl\":[{\"type\":\"scatterpolargl\",\"marker\":{\"colorbar\":{\"outlinewidth\":0,\"ticks\":\"\"}}}],\"bar\":[{\"error_x\":{\"color\":\"#2a3f5f\"},\"error_y\":{\"color\":\"#2a3f5f\"},\"marker\":{\"line\":{\"color\":\"#E5ECF6\",\"width\":0.5},\"pattern\":{\"fillmode\":\"overlay\",\"size\":10,\"solidity\":0.2}},\"type\":\"bar\"}],\"scattergeo\":[{\"type\":\"scattergeo\",\"marker\":{\"colorbar\":{\"outlinewidth\":0,\"ticks\":\"\"}}}],\"scatterpolar\":[{\"type\":\"scatterpolar\",\"marker\":{\"colorbar\":{\"outlinewidth\":0,\"ticks\":\"\"}}}],\"histogram\":[{\"marker\":{\"pattern\":{\"fillmode\":\"overlay\",\"size\":10,\"solidity\":0.2}},\"type\":\"histogram\"}],\"scattergl\":[{\"type\":\"scattergl\",\"marker\":{\"colorbar\":{\"outlinewidth\":0,\"ticks\":\"\"}}}],\"scatter3d\":[{\"type\":\"scatter3d\",\"line\":{\"colorbar\":{\"outlinewidth\":0,\"ticks\":\"\"}},\"marker\":{\"colorbar\":{\"outlinewidth\":0,\"ticks\":\"\"}}}],\"scattermapbox\":[{\"type\":\"scattermapbox\",\"marker\":{\"colorbar\":{\"outlinewidth\":0,\"ticks\":\"\"}}}],\"scatterternary\":[{\"type\":\"scatterternary\",\"marker\":{\"colorbar\":{\"outlinewidth\":0,\"ticks\":\"\"}}}],\"scattercarpet\":[{\"type\":\"scattercarpet\",\"marker\":{\"colorbar\":{\"outlinewidth\":0,\"ticks\":\"\"}}}],\"carpet\":[{\"aaxis\":{\"endlinecolor\":\"#2a3f5f\",\"gridcolor\":\"white\",\"linecolor\":\"white\",\"minorgridcolor\":\"white\",\"startlinecolor\":\"#2a3f5f\"},\"baxis\":{\"endlinecolor\":\"#2a3f5f\",\"gridcolor\":\"white\",\"linecolor\":\"white\",\"minorgridcolor\":\"white\",\"startlinecolor\":\"#2a3f5f\"},\"type\":\"carpet\"}],\"table\":[{\"cells\":{\"fill\":{\"color\":\"#EBF0F8\"},\"line\":{\"color\":\"white\"}},\"header\":{\"fill\":{\"color\":\"#C8D4E3\"},\"line\":{\"color\":\"white\"}},\"type\":\"table\"}],\"barpolar\":[{\"marker\":{\"line\":{\"color\":\"#E5ECF6\",\"width\":0.5},\"pattern\":{\"fillmode\":\"overlay\",\"size\":10,\"solidity\":0.2}},\"type\":\"barpolar\"}],\"pie\":[{\"automargin\":true,\"type\":\"pie\"}]},\"layout\":{\"autotypenumbers\":\"strict\",\"colorway\":[\"#636efa\",\"#EF553B\",\"#00cc96\",\"#ab63fa\",\"#FFA15A\",\"#19d3f3\",\"#FF6692\",\"#B6E880\",\"#FF97FF\",\"#FECB52\"],\"font\":{\"color\":\"#2a3f5f\"},\"hovermode\":\"closest\",\"hoverlabel\":{\"align\":\"left\"},\"paper_bgcolor\":\"white\",\"plot_bgcolor\":\"#E5ECF6\",\"polar\":{\"bgcolor\":\"#E5ECF6\",\"angularaxis\":{\"gridcolor\":\"white\",\"linecolor\":\"white\",\"ticks\":\"\"},\"radialaxis\":{\"gridcolor\":\"white\",\"linecolor\":\"white\",\"ticks\":\"\"}},\"ternary\":{\"bgcolor\":\"#E5ECF6\",\"aaxis\":{\"gridcolor\":\"white\",\"linecolor\":\"white\",\"ticks\":\"\"},\"baxis\":{\"gridcolor\":\"white\",\"linecolor\":\"white\",\"ticks\":\"\"},\"caxis\":{\"gridcolor\":\"white\",\"linecolor\":\"white\",\"ticks\":\"\"}},\"coloraxis\":{\"colorbar\":{\"outlinewidth\":0,\"ticks\":\"\"}},\"colorscale\":{\"sequential\":[[0.0,\"#0d0887\"],[0.1111111111111111,\"#46039f\"],[0.2222222222222222,\"#7201a8\"],[0.3333333333333333,\"#9c179e\"],[0.4444444444444444,\"#bd3786\"],[0.5555555555555556,\"#d8576b\"],[0.6666666666666666,\"#ed7953\"],[0.7777777777777778,\"#fb9f3a\"],[0.8888888888888888,\"#fdca26\"],[1.0,\"#f0f921\"]],\"sequentialminus\":[[0.0,\"#0d0887\"],[0.1111111111111111,\"#46039f\"],[0.2222222222222222,\"#7201a8\"],[0.3333333333333333,\"#9c179e\"],[0.4444444444444444,\"#bd3786\"],[0.5555555555555556,\"#d8576b\"],[0.6666666666666666,\"#ed7953\"],[0.7777777777777778,\"#fb9f3a\"],[0.8888888888888888,\"#fdca26\"],[1.0,\"#f0f921\"]],\"diverging\":[[0,\"#8e0152\"],[0.1,\"#c51b7d\"],[0.2,\"#de77ae\"],[0.3,\"#f1b6da\"],[0.4,\"#fde0ef\"],[0.5,\"#f7f7f7\"],[0.6,\"#e6f5d0\"],[0.7,\"#b8e186\"],[0.8,\"#7fbc41\"],[0.9,\"#4d9221\"],[1,\"#276419\"]]},\"xaxis\":{\"gridcolor\":\"white\",\"linecolor\":\"white\",\"ticks\":\"\",\"title\":{\"standoff\":15},\"zerolinecolor\":\"white\",\"automargin\":true,\"zerolinewidth\":2},\"yaxis\":{\"gridcolor\":\"white\",\"linecolor\":\"white\",\"ticks\":\"\",\"title\":{\"standoff\":15},\"zerolinecolor\":\"white\",\"automargin\":true,\"zerolinewidth\":2},\"scene\":{\"xaxis\":{\"backgroundcolor\":\"#E5ECF6\",\"gridcolor\":\"white\",\"linecolor\":\"white\",\"showbackground\":true,\"ticks\":\"\",\"zerolinecolor\":\"white\",\"gridwidth\":2},\"yaxis\":{\"backgroundcolor\":\"#E5ECF6\",\"gridcolor\":\"white\",\"linecolor\":\"white\",\"showbackground\":true,\"ticks\":\"\",\"zerolinecolor\":\"white\",\"gridwidth\":2},\"zaxis\":{\"backgroundcolor\":\"#E5ECF6\",\"gridcolor\":\"white\",\"linecolor\":\"white\",\"showbackground\":true,\"ticks\":\"\",\"zerolinecolor\":\"white\",\"gridwidth\":2}},\"shapedefaults\":{\"line\":{\"color\":\"#2a3f5f\"}},\"annotationdefaults\":{\"arrowcolor\":\"#2a3f5f\",\"arrowhead\":0,\"arrowwidth\":1},\"geo\":{\"bgcolor\":\"white\",\"landcolor\":\"#E5ECF6\",\"subunitcolor\":\"white\",\"showland\":true,\"showlakes\":true,\"lakecolor\":\"white\"},\"title\":{\"x\":0.05},\"mapbox\":{\"style\":\"light\"}}},\"margin\":{\"l\":20,\"r\":20,\"t\":20,\"b\":20},\"font\":{\"color\":\"black\"},\"height\":600,\"width\":600,\"paper_bgcolor\":\"white\",\"plot_bgcolor\":\"white\",\"showlegend\":false},                        {\"responsive\": true}                    ).then(function(){\n",
       "                            \n",
       "var gd = document.getElementById('6be217fe-abd6-4c3a-8147-9972a7c681ce');\n",
       "var x = new MutationObserver(function (mutations, observer) {{\n",
       "        var display = window.getComputedStyle(gd).display;\n",
       "        if (!display || display === 'none') {{\n",
       "            console.log([gd, 'removed!']);\n",
       "            Plotly.purge(gd);\n",
       "            observer.disconnect();\n",
       "        }}\n",
       "}});\n",
       "\n",
       "// Listen for the removal of the full notebook cells\n",
       "var notebookContainer = gd.closest('#notebook-container');\n",
       "if (notebookContainer) {{\n",
       "    x.observe(notebookContainer, {childList: true});\n",
       "}}\n",
       "\n",
       "// Listen for the clearing of the current output cell\n",
       "var outputEl = gd.closest('.output');\n",
       "if (outputEl) {{\n",
       "    x.observe(outputEl, {childList: true});\n",
       "}}\n",
       "\n",
       "                        })                };                });            </script>        </div>"
      ]
     },
     "metadata": {},
     "output_type": "display_data"
    }
   ],
   "execution_count": 378
  },
  {
   "metadata": {},
   "cell_type": "markdown",
   "source": "#### Overview",
   "id": "5e9d2d227f7b770"
  },
  {
   "metadata": {},
   "cell_type": "markdown",
   "source": "#### Overview - 1 Month",
   "id": "cbe026bfa39eeb8"
  },
  {
   "metadata": {
    "ExecuteTime": {
     "end_time": "2025-06-15T15:48:42.058709Z",
     "start_time": "2025-06-15T15:48:42.038360Z"
    }
   },
   "cell_type": "code",
   "source": [
    "importlib.reload(mpt_utils)\n",
    "# Create overview\n",
    "mpt_utils.generate_overview_table(weights_all_1m, mu_1m, S_1m, df_pct)"
   ],
   "id": "4125fd745fbddd6a",
   "outputs": [
    {
     "data": {
      "text/plain": [
       "        Share Count  Average Covariance Average Returns Return Last 12 Months  \\\n",
       "6736.T            6           -0.050965         178.69%                31.39%   \n",
       "8022.T            2           -0.011316          18.51%                75.44%   \n",
       "LRN               1           -0.012105         -56.30%                62.22%   \n",
       "7599.T           13            0.009298          68.23%                26.14%   \n",
       "AVGO              1            0.001667         260.69%                83.55%   \n",
       "...             ...                 ...             ...                   ...   \n",
       "FNKO              1           -0.039211          30.98%               -62.69%   \n",
       "8897.T            3            0.023860          -5.39%                12.26%   \n",
       "2874.T            1            0.043070          26.87%                30.54%   \n",
       "9470.T            1            0.002982         -14.91%               -10.92%   \n",
       "6471.T            1            0.028860          16.29%                 6.27%   \n",
       "\n",
       "       Return (Actual) Next 12 Months  \n",
       "6736.T                        296.94%  \n",
       "8022.T                         93.58%  \n",
       "LRN                            75.45%  \n",
       "7599.T                         50.01%  \n",
       "AVGO                           81.33%  \n",
       "...                               ...  \n",
       "FNKO                           34.43%  \n",
       "8897.T                         12.31%  \n",
       "2874.T                        -14.93%  \n",
       "9470.T                         17.16%  \n",
       "6471.T                        -12.75%  \n",
       "\n",
       "[115 rows x 5 columns]"
      ],
      "text/html": [
       "<div>\n",
       "<style scoped>\n",
       "    .dataframe tbody tr th:only-of-type {\n",
       "        vertical-align: middle;\n",
       "    }\n",
       "\n",
       "    .dataframe tbody tr th {\n",
       "        vertical-align: top;\n",
       "    }\n",
       "\n",
       "    .dataframe thead th {\n",
       "        text-align: right;\n",
       "    }\n",
       "</style>\n",
       "<table border=\"1\" class=\"dataframe\">\n",
       "  <thead>\n",
       "    <tr style=\"text-align: right;\">\n",
       "      <th></th>\n",
       "      <th>Share Count</th>\n",
       "      <th>Average Covariance</th>\n",
       "      <th>Average Returns</th>\n",
       "      <th>Return Last 12 Months</th>\n",
       "      <th>Return (Actual) Next 12 Months</th>\n",
       "    </tr>\n",
       "  </thead>\n",
       "  <tbody>\n",
       "    <tr>\n",
       "      <th>6736.T</th>\n",
       "      <td>6</td>\n",
       "      <td>-0.050965</td>\n",
       "      <td>178.69%</td>\n",
       "      <td>31.39%</td>\n",
       "      <td>296.94%</td>\n",
       "    </tr>\n",
       "    <tr>\n",
       "      <th>8022.T</th>\n",
       "      <td>2</td>\n",
       "      <td>-0.011316</td>\n",
       "      <td>18.51%</td>\n",
       "      <td>75.44%</td>\n",
       "      <td>93.58%</td>\n",
       "    </tr>\n",
       "    <tr>\n",
       "      <th>LRN</th>\n",
       "      <td>1</td>\n",
       "      <td>-0.012105</td>\n",
       "      <td>-56.30%</td>\n",
       "      <td>62.22%</td>\n",
       "      <td>75.45%</td>\n",
       "    </tr>\n",
       "    <tr>\n",
       "      <th>7599.T</th>\n",
       "      <td>13</td>\n",
       "      <td>0.009298</td>\n",
       "      <td>68.23%</td>\n",
       "      <td>26.14%</td>\n",
       "      <td>50.01%</td>\n",
       "    </tr>\n",
       "    <tr>\n",
       "      <th>AVGO</th>\n",
       "      <td>1</td>\n",
       "      <td>0.001667</td>\n",
       "      <td>260.69%</td>\n",
       "      <td>83.55%</td>\n",
       "      <td>81.33%</td>\n",
       "    </tr>\n",
       "    <tr>\n",
       "      <th>...</th>\n",
       "      <td>...</td>\n",
       "      <td>...</td>\n",
       "      <td>...</td>\n",
       "      <td>...</td>\n",
       "      <td>...</td>\n",
       "    </tr>\n",
       "    <tr>\n",
       "      <th>FNKO</th>\n",
       "      <td>1</td>\n",
       "      <td>-0.039211</td>\n",
       "      <td>30.98%</td>\n",
       "      <td>-62.69%</td>\n",
       "      <td>34.43%</td>\n",
       "    </tr>\n",
       "    <tr>\n",
       "      <th>8897.T</th>\n",
       "      <td>3</td>\n",
       "      <td>0.023860</td>\n",
       "      <td>-5.39%</td>\n",
       "      <td>12.26%</td>\n",
       "      <td>12.31%</td>\n",
       "    </tr>\n",
       "    <tr>\n",
       "      <th>2874.T</th>\n",
       "      <td>1</td>\n",
       "      <td>0.043070</td>\n",
       "      <td>26.87%</td>\n",
       "      <td>30.54%</td>\n",
       "      <td>-14.93%</td>\n",
       "    </tr>\n",
       "    <tr>\n",
       "      <th>9470.T</th>\n",
       "      <td>1</td>\n",
       "      <td>0.002982</td>\n",
       "      <td>-14.91%</td>\n",
       "      <td>-10.92%</td>\n",
       "      <td>17.16%</td>\n",
       "    </tr>\n",
       "    <tr>\n",
       "      <th>6471.T</th>\n",
       "      <td>1</td>\n",
       "      <td>0.028860</td>\n",
       "      <td>16.29%</td>\n",
       "      <td>6.27%</td>\n",
       "      <td>-12.75%</td>\n",
       "    </tr>\n",
       "  </tbody>\n",
       "</table>\n",
       "<p>115 rows × 5 columns</p>\n",
       "</div>"
      ]
     },
     "execution_count": 379,
     "metadata": {},
     "output_type": "execute_result"
    }
   ],
   "execution_count": 379
  },
  {
   "metadata": {},
   "cell_type": "markdown",
   "source": "## 6 Months\n",
   "id": "ebaa3b1a67bb1921"
  },
  {
   "metadata": {
    "ExecuteTime": {
     "end_time": "2025-06-15T15:48:50.616417Z",
     "start_time": "2025-06-15T15:48:42.067083Z"
    }
   },
   "cell_type": "code",
   "source": [
    "importlib.reload(train_test)\n",
    "importlib.reload(xgboost_utils)\n",
    "\n",
    "X_train, y_train, X_test, y_test, min_datestr = train_test.split_train_test_tabular(df_tabular_multi, months=variables.TEST_MONTHS_NR, target_key='m_return_target(t+6)')\n",
    "#\n",
    "model_6m, score_6m = xgboost_utils.get_xgboost_trained_model(X_train, y_train, X_test, y_test)"
   ],
   "id": "a2d055d2544d4f08",
   "outputs": [
    {
     "name": "stdout",
     "output_type": "stream",
     "text": [
      "[0]\tvalidation_0-rmse:0.11617\tvalidation_1-rmse:0.09337\n",
      "[1]\tvalidation_0-rmse:0.11606\tvalidation_1-rmse:0.09332\n",
      "[2]\tvalidation_0-rmse:0.11590\tvalidation_1-rmse:0.09335\n",
      "[3]\tvalidation_0-rmse:0.11582\tvalidation_1-rmse:0.09333\n",
      "[4]\tvalidation_0-rmse:0.11574\tvalidation_1-rmse:0.09330\n",
      "[5]\tvalidation_0-rmse:0.11558\tvalidation_1-rmse:0.09334\n",
      "[6]\tvalidation_0-rmse:0.11549\tvalidation_1-rmse:0.09330\n",
      "[7]\tvalidation_0-rmse:0.11541\tvalidation_1-rmse:0.09330\n",
      "[8]\tvalidation_0-rmse:0.11534\tvalidation_1-rmse:0.09332\n",
      "[9]\tvalidation_0-rmse:0.11526\tvalidation_1-rmse:0.09333\n",
      "[10]\tvalidation_0-rmse:0.11517\tvalidation_1-rmse:0.09333\n",
      "[11]\tvalidation_0-rmse:0.11509\tvalidation_1-rmse:0.09339\n",
      "[12]\tvalidation_0-rmse:0.11502\tvalidation_1-rmse:0.09339\n",
      "[13]\tvalidation_0-rmse:0.11495\tvalidation_1-rmse:0.09338\n",
      "[14]\tvalidation_0-rmse:0.11488\tvalidation_1-rmse:0.09337\n",
      "[15]\tvalidation_0-rmse:0.11482\tvalidation_1-rmse:0.09338\n",
      "[16]\tvalidation_0-rmse:0.11477\tvalidation_1-rmse:0.09341\n",
      "[17]\tvalidation_0-rmse:0.11468\tvalidation_1-rmse:0.09342\n",
      "[18]\tvalidation_0-rmse:0.11461\tvalidation_1-rmse:0.09346\n",
      "[19]\tvalidation_0-rmse:0.11452\tvalidation_1-rmse:0.09345\n",
      "[20]\tvalidation_0-rmse:0.11448\tvalidation_1-rmse:0.09341\n",
      "[21]\tvalidation_0-rmse:0.11441\tvalidation_1-rmse:0.09331\n",
      "[22]\tvalidation_0-rmse:0.11435\tvalidation_1-rmse:0.09330\n",
      "[23]\tvalidation_0-rmse:0.11431\tvalidation_1-rmse:0.09328\n",
      "[24]\tvalidation_0-rmse:0.11429\tvalidation_1-rmse:0.09328\n",
      "[25]\tvalidation_0-rmse:0.11423\tvalidation_1-rmse:0.09329\n",
      "[26]\tvalidation_0-rmse:0.11420\tvalidation_1-rmse:0.09330\n",
      "[27]\tvalidation_0-rmse:0.11415\tvalidation_1-rmse:0.09332\n",
      "[28]\tvalidation_0-rmse:0.11411\tvalidation_1-rmse:0.09327\n",
      "[29]\tvalidation_0-rmse:0.11408\tvalidation_1-rmse:0.09326\n",
      "[30]\tvalidation_0-rmse:0.11404\tvalidation_1-rmse:0.09328\n",
      "[31]\tvalidation_0-rmse:0.11397\tvalidation_1-rmse:0.09326\n",
      "[32]\tvalidation_0-rmse:0.11391\tvalidation_1-rmse:0.09304\n",
      "[33]\tvalidation_0-rmse:0.11386\tvalidation_1-rmse:0.09305\n",
      "[34]\tvalidation_0-rmse:0.11381\tvalidation_1-rmse:0.09303\n",
      "[35]\tvalidation_0-rmse:0.11376\tvalidation_1-rmse:0.09282\n",
      "[36]\tvalidation_0-rmse:0.11371\tvalidation_1-rmse:0.09282\n",
      "[37]\tvalidation_0-rmse:0.11366\tvalidation_1-rmse:0.09282\n",
      "[38]\tvalidation_0-rmse:0.11362\tvalidation_1-rmse:0.09282\n",
      "[39]\tvalidation_0-rmse:0.11359\tvalidation_1-rmse:0.09278\n",
      "[40]\tvalidation_0-rmse:0.11355\tvalidation_1-rmse:0.09273\n",
      "[41]\tvalidation_0-rmse:0.11351\tvalidation_1-rmse:0.09272\n",
      "[42]\tvalidation_0-rmse:0.11346\tvalidation_1-rmse:0.09270\n",
      "[43]\tvalidation_0-rmse:0.11342\tvalidation_1-rmse:0.09272\n",
      "[44]\tvalidation_0-rmse:0.11339\tvalidation_1-rmse:0.09271\n",
      "[45]\tvalidation_0-rmse:0.11321\tvalidation_1-rmse:0.09271\n",
      "[46]\tvalidation_0-rmse:0.11319\tvalidation_1-rmse:0.09273\n",
      "[47]\tvalidation_0-rmse:0.11316\tvalidation_1-rmse:0.09269\n",
      "[48]\tvalidation_0-rmse:0.11312\tvalidation_1-rmse:0.09269\n",
      "[49]\tvalidation_0-rmse:0.11310\tvalidation_1-rmse:0.09266\n",
      "[50]\tvalidation_0-rmse:0.11305\tvalidation_1-rmse:0.09263\n",
      "[51]\tvalidation_0-rmse:0.11303\tvalidation_1-rmse:0.09263\n",
      "[52]\tvalidation_0-rmse:0.11301\tvalidation_1-rmse:0.09263\n",
      "[53]\tvalidation_0-rmse:0.11294\tvalidation_1-rmse:0.09263\n",
      "[54]\tvalidation_0-rmse:0.11292\tvalidation_1-rmse:0.09263\n",
      "[55]\tvalidation_0-rmse:0.11289\tvalidation_1-rmse:0.09273\n",
      "[56]\tvalidation_0-rmse:0.11283\tvalidation_1-rmse:0.09271\n",
      "[57]\tvalidation_0-rmse:0.11280\tvalidation_1-rmse:0.09272\n",
      "[58]\tvalidation_0-rmse:0.11278\tvalidation_1-rmse:0.09274\n",
      "[59]\tvalidation_0-rmse:0.11264\tvalidation_1-rmse:0.09259\n",
      "[60]\tvalidation_0-rmse:0.11260\tvalidation_1-rmse:0.09260\n",
      "[61]\tvalidation_0-rmse:0.11257\tvalidation_1-rmse:0.09256\n",
      "[62]\tvalidation_0-rmse:0.11254\tvalidation_1-rmse:0.09256\n",
      "[63]\tvalidation_0-rmse:0.11252\tvalidation_1-rmse:0.09264\n",
      "[64]\tvalidation_0-rmse:0.11248\tvalidation_1-rmse:0.09264\n",
      "[65]\tvalidation_0-rmse:0.11246\tvalidation_1-rmse:0.09253\n",
      "[66]\tvalidation_0-rmse:0.11241\tvalidation_1-rmse:0.09236\n",
      "[67]\tvalidation_0-rmse:0.11237\tvalidation_1-rmse:0.09234\n",
      "[68]\tvalidation_0-rmse:0.11235\tvalidation_1-rmse:0.09236\n",
      "[69]\tvalidation_0-rmse:0.11232\tvalidation_1-rmse:0.09232\n",
      "[70]\tvalidation_0-rmse:0.11226\tvalidation_1-rmse:0.09229\n",
      "[71]\tvalidation_0-rmse:0.11223\tvalidation_1-rmse:0.09229\n",
      "[72]\tvalidation_0-rmse:0.11218\tvalidation_1-rmse:0.09227\n",
      "[73]\tvalidation_0-rmse:0.11216\tvalidation_1-rmse:0.09229\n",
      "[74]\tvalidation_0-rmse:0.11215\tvalidation_1-rmse:0.09228\n",
      "[75]\tvalidation_0-rmse:0.11212\tvalidation_1-rmse:0.09228\n",
      "[76]\tvalidation_0-rmse:0.11210\tvalidation_1-rmse:0.09228\n",
      "[77]\tvalidation_0-rmse:0.11193\tvalidation_1-rmse:0.09220\n",
      "[78]\tvalidation_0-rmse:0.11190\tvalidation_1-rmse:0.09220\n",
      "[79]\tvalidation_0-rmse:0.11181\tvalidation_1-rmse:0.09217\n",
      "[80]\tvalidation_0-rmse:0.11179\tvalidation_1-rmse:0.09217\n",
      "[81]\tvalidation_0-rmse:0.11176\tvalidation_1-rmse:0.09217\n",
      "[82]\tvalidation_0-rmse:0.11172\tvalidation_1-rmse:0.09217\n",
      "[83]\tvalidation_0-rmse:0.11171\tvalidation_1-rmse:0.09218\n",
      "[84]\tvalidation_0-rmse:0.11165\tvalidation_1-rmse:0.09212\n",
      "[85]\tvalidation_0-rmse:0.11161\tvalidation_1-rmse:0.09216\n",
      "[86]\tvalidation_0-rmse:0.11157\tvalidation_1-rmse:0.09203\n",
      "[87]\tvalidation_0-rmse:0.11145\tvalidation_1-rmse:0.09203\n",
      "[88]\tvalidation_0-rmse:0.11141\tvalidation_1-rmse:0.09204\n",
      "[89]\tvalidation_0-rmse:0.11140\tvalidation_1-rmse:0.09204\n",
      "[90]\tvalidation_0-rmse:0.11139\tvalidation_1-rmse:0.09203\n",
      "[91]\tvalidation_0-rmse:0.11134\tvalidation_1-rmse:0.09201\n",
      "[92]\tvalidation_0-rmse:0.11132\tvalidation_1-rmse:0.09200\n",
      "[93]\tvalidation_0-rmse:0.11128\tvalidation_1-rmse:0.09206\n",
      "[94]\tvalidation_0-rmse:0.11117\tvalidation_1-rmse:0.09201\n",
      "[95]\tvalidation_0-rmse:0.11115\tvalidation_1-rmse:0.09199\n",
      "[96]\tvalidation_0-rmse:0.11113\tvalidation_1-rmse:0.09199\n",
      "[97]\tvalidation_0-rmse:0.11110\tvalidation_1-rmse:0.09199\n",
      "[98]\tvalidation_0-rmse:0.11108\tvalidation_1-rmse:0.09199\n",
      "[99]\tvalidation_0-rmse:0.11105\tvalidation_1-rmse:0.09199\n",
      "[100]\tvalidation_0-rmse:0.11102\tvalidation_1-rmse:0.09207\n",
      "[101]\tvalidation_0-rmse:0.11101\tvalidation_1-rmse:0.09207\n",
      "[102]\tvalidation_0-rmse:0.11097\tvalidation_1-rmse:0.09211\n",
      "[103]\tvalidation_0-rmse:0.11094\tvalidation_1-rmse:0.09210\n",
      "[104]\tvalidation_0-rmse:0.11092\tvalidation_1-rmse:0.09209\n",
      "[105]\tvalidation_0-rmse:0.11089\tvalidation_1-rmse:0.09208\n",
      "[106]\tvalidation_0-rmse:0.11087\tvalidation_1-rmse:0.09208\n",
      "[107]\tvalidation_0-rmse:0.11084\tvalidation_1-rmse:0.09212\n",
      "[108]\tvalidation_0-rmse:0.11082\tvalidation_1-rmse:0.09221\n",
      "[109]\tvalidation_0-rmse:0.11080\tvalidation_1-rmse:0.09223\n",
      "[110]\tvalidation_0-rmse:0.11076\tvalidation_1-rmse:0.09222\n",
      "[111]\tvalidation_0-rmse:0.11075\tvalidation_1-rmse:0.09222\n",
      "[112]\tvalidation_0-rmse:0.11072\tvalidation_1-rmse:0.09225\n",
      "[113]\tvalidation_0-rmse:0.11068\tvalidation_1-rmse:0.09224\n",
      "[114]\tvalidation_0-rmse:0.11067\tvalidation_1-rmse:0.09224\n",
      "[115]\tvalidation_0-rmse:0.11066\tvalidation_1-rmse:0.09224\n",
      "[116]\tvalidation_0-rmse:0.11064\tvalidation_1-rmse:0.09233\n",
      "[117]\tvalidation_0-rmse:0.11059\tvalidation_1-rmse:0.09237\n",
      "[118]\tvalidation_0-rmse:0.11056\tvalidation_1-rmse:0.09231\n",
      "[119]\tvalidation_0-rmse:0.11052\tvalidation_1-rmse:0.09231\n",
      "[120]\tvalidation_0-rmse:0.11049\tvalidation_1-rmse:0.09248\n",
      "[121]\tvalidation_0-rmse:0.11045\tvalidation_1-rmse:0.09247\n",
      "[122]\tvalidation_0-rmse:0.11039\tvalidation_1-rmse:0.09248\n",
      "[123]\tvalidation_0-rmse:0.11038\tvalidation_1-rmse:0.09249\n",
      "[124]\tvalidation_0-rmse:0.11036\tvalidation_1-rmse:0.09247\n",
      "[125]\tvalidation_0-rmse:0.11035\tvalidation_1-rmse:0.09248\n",
      "[126]\tvalidation_0-rmse:0.11032\tvalidation_1-rmse:0.09249\n",
      "[127]\tvalidation_0-rmse:0.11031\tvalidation_1-rmse:0.09249\n",
      "[128]\tvalidation_0-rmse:0.11029\tvalidation_1-rmse:0.09251\n",
      "[129]\tvalidation_0-rmse:0.11027\tvalidation_1-rmse:0.09252\n",
      "[130]\tvalidation_0-rmse:0.11026\tvalidation_1-rmse:0.09253\n",
      "[131]\tvalidation_0-rmse:0.11024\tvalidation_1-rmse:0.09254\n",
      "[132]\tvalidation_0-rmse:0.11023\tvalidation_1-rmse:0.09256\n",
      "[133]\tvalidation_0-rmse:0.11022\tvalidation_1-rmse:0.09257\n",
      "[134]\tvalidation_0-rmse:0.11021\tvalidation_1-rmse:0.09256\n",
      "[135]\tvalidation_0-rmse:0.11019\tvalidation_1-rmse:0.09256\n",
      "[136]\tvalidation_0-rmse:0.11017\tvalidation_1-rmse:0.09255\n",
      "[137]\tvalidation_0-rmse:0.11016\tvalidation_1-rmse:0.09255\n",
      "[138]\tvalidation_0-rmse:0.11015\tvalidation_1-rmse:0.09262\n",
      "[139]\tvalidation_0-rmse:0.11014\tvalidation_1-rmse:0.09261\n",
      "[140]\tvalidation_0-rmse:0.11012\tvalidation_1-rmse:0.09258\n",
      "[141]\tvalidation_0-rmse:0.11010\tvalidation_1-rmse:0.09252\n",
      "[142]\tvalidation_0-rmse:0.11008\tvalidation_1-rmse:0.09255\n",
      "[143]\tvalidation_0-rmse:0.11005\tvalidation_1-rmse:0.09265\n",
      "[144]\tvalidation_0-rmse:0.11003\tvalidation_1-rmse:0.09264\n",
      "[145]\tvalidation_0-rmse:0.11002\tvalidation_1-rmse:0.09264\n",
      "[146]\tvalidation_0-rmse:0.11001\tvalidation_1-rmse:0.09264\n",
      "[147]\tvalidation_0-rmse:0.11000\tvalidation_1-rmse:0.09263\n",
      "[148]\tvalidation_0-rmse:0.10997\tvalidation_1-rmse:0.09266\n",
      "[149]\tvalidation_0-rmse:0.10996\tvalidation_1-rmse:0.09267\n",
      "[150]\tvalidation_0-rmse:0.10994\tvalidation_1-rmse:0.09269\n",
      "[151]\tvalidation_0-rmse:0.10993\tvalidation_1-rmse:0.09268\n",
      "[152]\tvalidation_0-rmse:0.10991\tvalidation_1-rmse:0.09268\n",
      "[153]\tvalidation_0-rmse:0.10989\tvalidation_1-rmse:0.09267\n",
      "[154]\tvalidation_0-rmse:0.10988\tvalidation_1-rmse:0.09267\n",
      "[155]\tvalidation_0-rmse:0.10986\tvalidation_1-rmse:0.09266\n",
      "[156]\tvalidation_0-rmse:0.10984\tvalidation_1-rmse:0.09266\n",
      "[157]\tvalidation_0-rmse:0.10983\tvalidation_1-rmse:0.09269\n",
      "[158]\tvalidation_0-rmse:0.10982\tvalidation_1-rmse:0.09271\n",
      "[159]\tvalidation_0-rmse:0.10979\tvalidation_1-rmse:0.09271\n",
      "[160]\tvalidation_0-rmse:0.10978\tvalidation_1-rmse:0.09271\n",
      "[161]\tvalidation_0-rmse:0.10976\tvalidation_1-rmse:0.09271\n",
      "[162]\tvalidation_0-rmse:0.10972\tvalidation_1-rmse:0.09271\n",
      "[163]\tvalidation_0-rmse:0.10969\tvalidation_1-rmse:0.09273\n",
      "[164]\tvalidation_0-rmse:0.10963\tvalidation_1-rmse:0.09270\n",
      "[165]\tvalidation_0-rmse:0.10959\tvalidation_1-rmse:0.09270\n",
      "[166]\tvalidation_0-rmse:0.10955\tvalidation_1-rmse:0.09270\n",
      "[167]\tvalidation_0-rmse:0.10951\tvalidation_1-rmse:0.09266\n",
      "[168]\tvalidation_0-rmse:0.10950\tvalidation_1-rmse:0.09264\n",
      "[169]\tvalidation_0-rmse:0.10948\tvalidation_1-rmse:0.09268\n",
      "[170]\tvalidation_0-rmse:0.10945\tvalidation_1-rmse:0.09270\n",
      "[171]\tvalidation_0-rmse:0.10935\tvalidation_1-rmse:0.09266\n",
      "[172]\tvalidation_0-rmse:0.10924\tvalidation_1-rmse:0.09264\n",
      "[173]\tvalidation_0-rmse:0.10921\tvalidation_1-rmse:0.09267\n",
      "[174]\tvalidation_0-rmse:0.10919\tvalidation_1-rmse:0.09267\n",
      "[175]\tvalidation_0-rmse:0.10918\tvalidation_1-rmse:0.09268\n",
      "[176]\tvalidation_0-rmse:0.10916\tvalidation_1-rmse:0.09268\n",
      "[177]\tvalidation_0-rmse:0.10907\tvalidation_1-rmse:0.09262\n",
      "[178]\tvalidation_0-rmse:0.10904\tvalidation_1-rmse:0.09267\n",
      "[179]\tvalidation_0-rmse:0.10902\tvalidation_1-rmse:0.09267\n",
      "[180]\tvalidation_0-rmse:0.10900\tvalidation_1-rmse:0.09266\n",
      "[181]\tvalidation_0-rmse:0.10896\tvalidation_1-rmse:0.09267\n",
      "[182]\tvalidation_0-rmse:0.10895\tvalidation_1-rmse:0.09267\n",
      "[183]\tvalidation_0-rmse:0.10893\tvalidation_1-rmse:0.09271\n",
      "[184]\tvalidation_0-rmse:0.10892\tvalidation_1-rmse:0.09271\n",
      "[185]\tvalidation_0-rmse:0.10891\tvalidation_1-rmse:0.09270\n",
      "[186]\tvalidation_0-rmse:0.10889\tvalidation_1-rmse:0.09266\n",
      "[187]\tvalidation_0-rmse:0.10888\tvalidation_1-rmse:0.09267\n",
      "[188]\tvalidation_0-rmse:0.10887\tvalidation_1-rmse:0.09270\n",
      "[189]\tvalidation_0-rmse:0.10885\tvalidation_1-rmse:0.09270\n",
      "[190]\tvalidation_0-rmse:0.10884\tvalidation_1-rmse:0.09274\n",
      "[191]\tvalidation_0-rmse:0.10883\tvalidation_1-rmse:0.09275\n",
      "[192]\tvalidation_0-rmse:0.10882\tvalidation_1-rmse:0.09272\n",
      "[193]\tvalidation_0-rmse:0.10881\tvalidation_1-rmse:0.09272\n",
      "[194]\tvalidation_0-rmse:0.10880\tvalidation_1-rmse:0.09277\n",
      "[195]\tvalidation_0-rmse:0.10879\tvalidation_1-rmse:0.09279\n",
      "[196]\tvalidation_0-rmse:0.10874\tvalidation_1-rmse:0.09278\n",
      "[197]\tvalidation_0-rmse:0.10872\tvalidation_1-rmse:0.09275\n",
      "[198]\tvalidation_0-rmse:0.10869\tvalidation_1-rmse:0.09275\n",
      "[199]\tvalidation_0-rmse:0.10867\tvalidation_1-rmse:0.09275\n",
      "Mean MAE: 0.084 (0.012)\n"
     ]
    }
   ],
   "execution_count": 380
  },
  {
   "metadata": {
    "ExecuteTime": {
     "end_time": "2025-06-15T15:48:50.913128Z",
     "start_time": "2025-06-15T15:48:50.620697Z"
    }
   },
   "cell_type": "code",
   "source": [
    "months_6m = 6\n",
    "X_train_6m, y_train_6m, X_test_6m, y_test_6m, min_datestr = train_test.split_train_test_tabular(df_tabular_multi, months=6,\n",
    "                                                                                      target_key='m_return_target(t+6)')"
   ],
   "id": "459a450caa0e1dc1",
   "outputs": [],
   "execution_count": 381
  },
  {
   "metadata": {
    "ExecuteTime": {
     "end_time": "2025-06-15T15:48:51.147593Z",
     "start_time": "2025-06-15T15:48:50.916538Z"
    }
   },
   "cell_type": "code",
   "source": [
    "dt = datetime.strptime(min_datestr, '%Y-%m-%d')\n",
    "\n",
    "# get all training months without the last 6 months\n",
    "X_train_input_6m = X_train_6m.head(len(X_train_6m) - len(df_pct.columns)*months_6m)\n",
    "# Get last 6 months of the training dataset and use as input to predict the next 6 months\n",
    "X_test_input_6m = X_train_6m.tail(len(df_pct.columns)*months_6m)\n",
    "\n",
    "# Trained \n",
    "y_train_pred_6m = model_6m.predict(X_train_input_6m)\n",
    "# Predictions\n",
    "y_test_pred_6m = model_6m.predict(X_test_input_6m)"
   ],
   "id": "9a86a4da2744d05d",
   "outputs": [],
   "execution_count": 382
  },
  {
   "metadata": {},
   "cell_type": "markdown",
   "source": "### 6 Months Actual vs Prediction",
   "id": "d0c3079231ade694"
  },
  {
   "metadata": {
    "ExecuteTime": {
     "end_time": "2025-06-15T15:48:51.210694Z",
     "start_time": "2025-06-15T15:48:51.162024Z"
    }
   },
   "cell_type": "code",
   "source": [
    "importlib.reload(mpt_utils)\n",
    "y_train_mean_pred_6m, y_test_mean_pred_6m = mpt_utils.get_train_test_mean_pred(y_train_pred_6m, y_test_pred_6m, len(df_pct.columns))\n",
    "#\n",
    "plots.generate_timeseries_plot(df_pct, df_tabular_multi, y_train_mean_pred_6m, y_test_mean_pred_6m)"
   ],
   "id": "d3ed8454bf112ed2",
   "outputs": [
    {
     "name": "stdout",
     "output_type": "stream",
     "text": [
      "274.0\n"
     ]
    },
    {
     "data": {
      "application/vnd.plotly.v1+json": {
       "data": [
        {
         "line": {
          "color": "#5c839f",
          "width": 2
         },
         "mode": "lines",
         "name": "Actual returns",
         "x": [
          "2001-05-01",
          "2001-06-01",
          "2001-07-01",
          "2001-08-01",
          "2001-09-01",
          "2001-10-01",
          "2001-11-01",
          "2001-12-01",
          "2002-01-01",
          "2002-02-01",
          "2002-03-01",
          "2002-04-01",
          "2002-05-01",
          "2002-06-01",
          "2002-07-01",
          "2002-08-01",
          "2002-09-01",
          "2002-10-01",
          "2002-11-01",
          "2002-12-01",
          "2003-01-01",
          "2003-02-01",
          "2003-03-01",
          "2003-04-01",
          "2003-05-01",
          "2003-06-01",
          "2003-07-01",
          "2003-08-01",
          "2003-09-01",
          "2003-10-01",
          "2003-11-01",
          "2003-12-01",
          "2004-01-01",
          "2004-02-01",
          "2004-03-01",
          "2004-04-01",
          "2004-05-01",
          "2004-06-01",
          "2004-07-01",
          "2004-08-01",
          "2004-09-01",
          "2004-10-01",
          "2004-11-01",
          "2004-12-01",
          "2005-01-01",
          "2005-02-01",
          "2005-03-01",
          "2005-04-01",
          "2005-05-01",
          "2005-06-01",
          "2005-07-01",
          "2005-08-01",
          "2005-09-01",
          "2005-10-01",
          "2005-11-01",
          "2005-12-01",
          "2006-01-01",
          "2006-02-01",
          "2006-03-01",
          "2006-04-01",
          "2006-05-01",
          "2006-06-01",
          "2006-07-01",
          "2006-08-01",
          "2006-09-01",
          "2006-10-01",
          "2006-11-01",
          "2006-12-01",
          "2007-01-01",
          "2007-02-01",
          "2007-03-01",
          "2007-04-01",
          "2007-05-01",
          "2007-06-01",
          "2007-07-01",
          "2007-08-01",
          "2007-09-01",
          "2007-10-01",
          "2007-11-01",
          "2007-12-01",
          "2008-01-01",
          "2008-02-01",
          "2008-03-01",
          "2008-04-01",
          "2008-05-01",
          "2008-06-01",
          "2008-07-01",
          "2008-08-01",
          "2008-09-01",
          "2008-10-01",
          "2008-11-01",
          "2008-12-01",
          "2009-01-01",
          "2009-02-01",
          "2009-03-01",
          "2009-04-01",
          "2009-05-01",
          "2009-06-01",
          "2009-07-01",
          "2009-08-01",
          "2009-09-01",
          "2009-10-01",
          "2009-11-01",
          "2009-12-01",
          "2010-01-01",
          "2010-02-01",
          "2010-03-01",
          "2010-04-01",
          "2010-05-01",
          "2010-06-01",
          "2010-07-01",
          "2010-08-01",
          "2010-09-01",
          "2010-10-01",
          "2010-11-01",
          "2010-12-01",
          "2011-01-01",
          "2011-02-01",
          "2011-03-01",
          "2011-04-01",
          "2011-05-01",
          "2011-06-01",
          "2011-07-01",
          "2011-08-01",
          "2011-09-01",
          "2011-10-01",
          "2011-11-01",
          "2011-12-01",
          "2012-01-01",
          "2012-02-01",
          "2012-03-01",
          "2012-04-01",
          "2012-05-01",
          "2012-06-01",
          "2012-07-01",
          "2012-08-01",
          "2012-09-01",
          "2012-10-01",
          "2012-11-01",
          "2012-12-01",
          "2013-01-01",
          "2013-02-01",
          "2013-03-01",
          "2013-04-01",
          "2013-05-01",
          "2013-06-01",
          "2013-07-01",
          "2013-08-01",
          "2013-09-01",
          "2013-10-01",
          "2013-11-01",
          "2013-12-01",
          "2014-01-01",
          "2014-02-01",
          "2014-03-01",
          "2014-04-01",
          "2014-05-01",
          "2014-06-01",
          "2014-07-01",
          "2014-08-01",
          "2014-09-01",
          "2014-10-01",
          "2014-11-01",
          "2014-12-01",
          "2015-01-01",
          "2015-02-01",
          "2015-03-01",
          "2015-04-01",
          "2015-05-01",
          "2015-06-01",
          "2015-07-01",
          "2015-08-01",
          "2015-09-01",
          "2015-10-01",
          "2015-11-01",
          "2015-12-01",
          "2016-01-01",
          "2016-02-01",
          "2016-03-01",
          "2016-04-01",
          "2016-05-01",
          "2016-06-01",
          "2016-07-01",
          "2016-08-01",
          "2016-09-01",
          "2016-10-01",
          "2016-11-01",
          "2016-12-01",
          "2017-01-01",
          "2017-02-01",
          "2017-03-01",
          "2017-04-01",
          "2017-05-01",
          "2017-06-01",
          "2017-07-01",
          "2017-08-01",
          "2017-09-01",
          "2017-10-01",
          "2017-11-01",
          "2017-12-01",
          "2018-01-01",
          "2018-02-01",
          "2018-03-01",
          "2018-04-01",
          "2018-05-01",
          "2018-06-01",
          "2018-07-01",
          "2018-08-01",
          "2018-09-01",
          "2018-10-01",
          "2018-11-01",
          "2018-12-01",
          "2019-01-01",
          "2019-02-01",
          "2019-03-01",
          "2019-04-01",
          "2019-05-01",
          "2019-06-01",
          "2019-07-01",
          "2019-08-01",
          "2019-09-01",
          "2019-10-01",
          "2019-11-01",
          "2019-12-01",
          "2020-01-01",
          "2020-02-01",
          "2020-03-01",
          "2020-04-01",
          "2020-05-01",
          "2020-06-01",
          "2020-07-01",
          "2020-08-01",
          "2020-09-01",
          "2020-10-01",
          "2020-11-01",
          "2020-12-01",
          "2021-01-01",
          "2021-02-01",
          "2021-03-01",
          "2021-04-01",
          "2021-05-01",
          "2021-06-01",
          "2021-07-01",
          "2021-08-01",
          "2021-09-01",
          "2021-10-01",
          "2021-11-01",
          "2021-12-01",
          "2022-01-01",
          "2022-02-01",
          "2022-03-01",
          "2022-04-01",
          "2022-05-01",
          "2022-06-01",
          "2022-07-01",
          "2022-08-01",
          "2022-09-01",
          "2022-10-01",
          "2022-11-01",
          "2022-12-01",
          "2023-01-01",
          "2023-02-01",
          "2023-03-01",
          "2023-04-01",
          "2023-05-01",
          "2023-06-01",
          "2023-07-01",
          "2023-08-01",
          "2023-09-01",
          "2023-10-01",
          "2023-11-01",
          "2023-12-01",
          "2024-01-01",
          "2024-02-01",
          "2024-03-01",
          "2024-04-01",
          "2024-05-01",
          "2024-06-01",
          "2024-07-01",
          "2024-08-01"
         ],
         "y": [
          0.02743993993994054,
          0.038025525525524406,
          -0.009414414414414263,
          0.22023273273273247,
          0.031974474474474324,
          -0.00259009009009048,
          -0.020735735735735616,
          0.033678678678677354,
          -0.003978978978978809,
          0.0299774774774777,
          -0.007777777777777883,
          -0.011524024024024082,
          -0.026936936936937994,
          0.01249999999999929,
          0.038400900900901425,
          -0.02846096096096018,
          -0.012762762762762891,
          0.07272522522522085,
          0.015735735735736167,
          0.001644144144144155,
          -0.026996996996994982,
          -0.030915915915913916,
          -0.09028528528528412,
          0.05090840840840727,
          0.0509159159159156,
          0.018573573573573476,
          -0.005405405405404129,
          0.012072072072070394,
          0.05409159159158938,
          0.009024024024022914,
          0.00522522522522495,
          -0.05081831831831807,
          -0.06252252252252144,
          -0.011471471471471095,
          -0.04330330330330234,
          0.010465465465465451,
          0.058453453453451765,
          -0.03432432432432431,
          -0.01071321321321217,
          0.003100600600600245,
          -0.0021696696696679174,
          0.06228978978978872,
          0.07175675675675475,
          0.03475225225225054,
          0.05778528528528293,
          0.06289039039038924,
          0.004909909909908583,
          0.05349099099098753,
          0.004924924924925467,
          0.01909159159158902,
          0.032132132132131064,
          0.01701951951951819,
          0.05260510510510441,
          0.00787537537537375,
          -0.0060810810810809635,
          0.039166666666664574,
          -0.03876126126125934,
          -0.006861861861861107,
          0.005180180180180738,
          0.004489489489490461,
          0.03232732732732635,
          0.05847597597597187,
          0.008250750750750768,
          0.024947447447445814,
          -0.0037087087087082082,
          -0.022267267267264912,
          0.03677177177176838,
          0.024557057057054577,
          0.040442942942939375,
          -6.981981981986074E-4,
          0.01872372372372233,
          0.07061561561561569,
          0.05157657657657366,
          0.02451201201201103,
          0.04399399399399351,
          0.0172822822822829,
          0.028603603603601258,
          0.0011486486486493863,
          -0.03011261261261,
          -0.0018618618618618799,
          -0.01278528528528522,
          0.028018018018014734,
          0.014181681681680214,
          0.024466966966965265,
          0.027897897897896762,
          0.030930930930927136,
          0.03999999999999804,
          0.0035285285285273638,
          0.0018993993994007585,
          0.021418918918917118,
          0.02924174174173988,
          -0.01469969969969842,
          -0.03518768768768399,
          -0.010007507507506563,
          0.0024024024024018598,
          0.019632132132131774,
          -0.05572822822822687,
          -0.009954954954954243,
          -0.06066066066065812,
          -0.010435435435435347,
          -0.014969969969969021,
          0.03434684684684575,
          0.027875375375374656,
          -0.07102852852852792,
          -0.0025300300300311607,
          0.01765015015014937,
          -0.07436936936936767,
          -0.16220720720720616,
          -0.05918918918918892,
          0.04562312312312233,
          -0.056186186186185094,
          -0.06329579579579647,
          0.07671171171171154,
          0.15475225225225198,
          0.04527027027027031,
          0.03893393393393363,
          0.07099849849849749,
          0.05655405405405389,
          0.03070570570570519,
          -0.021951951951950766,
          0.0010360360360355259,
          0.05536036036035763,
          -0.013551051051049257,
          0.020743243243242837,
          0.06338588588588245,
          0.04948948948948795,
          -0.05758258258257942,
          -0.040217717717715096,
          0.040165165165163996,
          -0.03746996996996865,
          0.07373123123122904,
          0.0181606606606608,
          0.029774774774774082,
          0.06351351351350831,
          0.01366366366366445,
          0.03365615615615347,
          -0.01171171171171026,
          0.02272522522522369,
          -0.0021996996996992424,
          -4.279279279268966E-4,
          -0.018408408408405852,
          -0.05390390390390232,
          -0.049354354354354535,
          0.07704954954954912,
          -0.014466966966965367,
          0.005720720720719719,
          0.056246246246242304,
          0.04385885885885599,
          0.03139639639639191,
          -0.005975975975974102,
          -0.05990990990990752,
          0.033543543543540055,
          -0.0019219219219228645,
          0.021854354354353456,
          0.016599099099097403,
          0.002957957957956614,
          0.017342342342340444,
          0.032770270270266355,
          0.06512762762762248,
          0.025345345345343828,
          0.04521021021020588,
          0.03481231231231119,
          0.018280780780780104,
          -0.009894894894894812,
          0.03924924924924866,
          -0.009249249249246638,
          0.05455705705705238,
          0.028130630630627262,
          0.02668168168168039,
          0.022522522522519184,
          -0.013288288288286432,
          0.030075075075072455,
          0.0034009009009017266,
          -0.014481981981981806,
          0.020037537537534345,
          0.03023273273272986,
          -0.013093093093094033,
          0.02825825825825312,
          -0.01791291291291064,
          0.03218468468468272,
          0.04343843843843276,
          0.015833333333329813,
          0.002282282282282333,
          0.04680930930930782,
          0.012477477477475851,
          2.1771771771783577E-4,
          0.0293018018017992,
          -0.007530030030026724,
          0.015135135135132538,
          -0.04286786786786334,
          -0.025360360360358603,
          0.058055555555554195,
          0.02036786786786493,
          -0.020202702702699193,
          -0.05234234234234081,
          -0.003768768768769082,
          0.06146396396395826,
          0.0017117117117124714,
          0.02473723723723631,
          -0.028280780780780446,
          0.058536036036028305,
          0.009331831831831616,
          0.011493993993994867,
          -0.004587087087085662,
          0.04523273273273265,
          0.03180180180179559,
          0.011876876876876663,
          0.023596096096092145,
          0.009294294294294847,
          0.01928678678678275,
          0.017432432432431755,
          0.013648648648647344,
          0.016336336336334467,
          0.005165165165165186,
          0.03681681681681481,
          0.024496996996993925,
          0.029166666666663676,
          0.011771771771771133,
          0.025037537537536014,
          -0.02737237237236656,
          -7.732732732720349E-4,
          0.021028528528523216,
          0.03003003003002891,
          0.00960210210210044,
          0.015405405405403583,
          0.023415915915913077,
          -0.0036411411411424455,
          -0.06527777777777555,
          0.018873873873872515,
          -0.0894669669669641,
          0.09368618618618263,
          0.041291291291286614,
          0.008566066066063804,
          0.043918918918915084,
          -0.05617867867867832,
          0.04983483483482942,
          0.020818318318316154,
          -0.026448948948949114,
          0.037800300300294465,
          0.032867867867863776,
          0.034909909909907055,
          0.02680930930930736,
          -0.014016516516515032,
          -0.09361111111110709,
          -0.18348348348348387,
          0.1288888888888864,
          0.0715540540540538,
          0.02461711711711967,
          0.01599099099099388,
          0.0644519519519513,
          -0.006869369369366662,
          -0.005548048048042986,
          0.14040540540540425,
          0.05409909909909216,
          0.02852852852853105,
          0.0521096096096072,
          0.04906156156155683,
          0.03810810810810494,
          0.01629129129128959,
          0.016869369369369114,
          0.011163663663662282,
          0.02643393393393012,
          -0.02038288288288037,
          0.03498498498498348,
          -0.02757507507507051,
          0.045360360360353846,
          -0.07055555555555282,
          -0.012312312312310003,
          0.007882882882881193,
          -0.048010510510507864,
          0.005157657657655745,
          -0.06768018018017974,
          0.09111111111110559,
          -0.029324324324321083,
          -0.09201201201200937,
          0.08337837837837592,
          0.05950450450450018,
          -0.04256756756756219,
          0.08824324324324206,
          -0.005262762762760831,
          -0.012912912912911412,
          0.005990990990987433,
          -0.006478978978976202,
          0.062995495495489,
          0.0376951951951896,
          -0.019376876876874283,
          -0.03429429429428832,
          -0.04720720720720273,
          0.08611111111110614,
          0.07102852852852637,
          -0.0033783783783778443,
          0.027439939939941205,
          0.033686186186181466,
          -0.03638888888888547,
          0.03388888888888686,
          2.852852852868182E-4,
          0.052469969969967556,
          0.002424924924925298,
          -0.03054054054053601
         ],
         "type": "scatter"
        },
        {
         "line": {
          "color": "red",
          "width": 2
         },
         "mode": "lines",
         "name": "Train returns",
         "x": [
          "2001-05-01",
          "2001-06-01",
          "2001-07-01",
          "2001-08-01",
          "2001-09-01",
          "2001-10-01",
          "2001-11-01",
          "2001-12-01",
          "2002-01-01",
          "2002-02-01",
          "2002-03-01",
          "2002-04-01",
          "2002-05-01",
          "2002-06-01",
          "2002-07-01",
          "2002-08-01",
          "2002-09-01",
          "2002-10-01",
          "2002-11-01",
          "2002-12-01",
          "2003-01-01",
          "2003-02-01",
          "2003-03-01",
          "2003-04-01",
          "2003-05-01",
          "2003-06-01",
          "2003-07-01",
          "2003-08-01",
          "2003-09-01",
          "2003-10-01",
          "2003-11-01",
          "2003-12-01",
          "2004-01-01",
          "2004-02-01",
          "2004-03-01",
          "2004-04-01",
          "2004-05-01",
          "2004-06-01",
          "2004-07-01",
          "2004-08-01",
          "2004-09-01",
          "2004-10-01",
          "2004-11-01",
          "2004-12-01",
          "2005-01-01",
          "2005-02-01",
          "2005-03-01",
          "2005-04-01",
          "2005-05-01",
          "2005-06-01",
          "2005-07-01",
          "2005-08-01",
          "2005-09-01",
          "2005-10-01",
          "2005-11-01",
          "2005-12-01",
          "2006-01-01",
          "2006-02-01",
          "2006-03-01",
          "2006-04-01",
          "2006-05-01",
          "2006-06-01",
          "2006-07-01",
          "2006-08-01",
          "2006-09-01",
          "2006-10-01",
          "2006-11-01",
          "2006-12-01",
          "2007-01-01",
          "2007-02-01",
          "2007-03-01",
          "2007-04-01",
          "2007-05-01",
          "2007-06-01",
          "2007-07-01",
          "2007-08-01",
          "2007-09-01",
          "2007-10-01",
          "2007-11-01",
          "2007-12-01",
          "2008-01-01",
          "2008-02-01",
          "2008-03-01",
          "2008-04-01",
          "2008-05-01",
          "2008-06-01",
          "2008-07-01",
          "2008-08-01",
          "2008-09-01",
          "2008-10-01",
          "2008-11-01",
          "2008-12-01",
          "2009-01-01",
          "2009-02-01",
          "2009-03-01",
          "2009-04-01",
          "2009-05-01",
          "2009-06-01",
          "2009-07-01",
          "2009-08-01",
          "2009-09-01",
          "2009-10-01",
          "2009-11-01",
          "2009-12-01",
          "2010-01-01",
          "2010-02-01",
          "2010-03-01",
          "2010-04-01",
          "2010-05-01",
          "2010-06-01",
          "2010-07-01",
          "2010-08-01",
          "2010-09-01",
          "2010-10-01",
          "2010-11-01",
          "2010-12-01",
          "2011-01-01",
          "2011-02-01",
          "2011-03-01",
          "2011-04-01",
          "2011-05-01",
          "2011-06-01",
          "2011-07-01",
          "2011-08-01",
          "2011-09-01",
          "2011-10-01",
          "2011-11-01",
          "2011-12-01",
          "2012-01-01",
          "2012-02-01",
          "2012-03-01",
          "2012-04-01",
          "2012-05-01",
          "2012-06-01",
          "2012-07-01",
          "2012-08-01",
          "2012-09-01",
          "2012-10-01",
          "2012-11-01",
          "2012-12-01",
          "2013-01-01",
          "2013-02-01",
          "2013-03-01",
          "2013-04-01",
          "2013-05-01",
          "2013-06-01",
          "2013-07-01",
          "2013-08-01",
          "2013-09-01",
          "2013-10-01",
          "2013-11-01",
          "2013-12-01",
          "2014-01-01",
          "2014-02-01",
          "2014-03-01",
          "2014-04-01",
          "2014-05-01",
          "2014-06-01",
          "2014-07-01",
          "2014-08-01",
          "2014-09-01",
          "2014-10-01",
          "2014-11-01",
          "2014-12-01",
          "2015-01-01",
          "2015-02-01",
          "2015-03-01",
          "2015-04-01",
          "2015-05-01",
          "2015-06-01",
          "2015-07-01",
          "2015-08-01",
          "2015-09-01",
          "2015-10-01",
          "2015-11-01",
          "2015-12-01",
          "2016-01-01",
          "2016-02-01",
          "2016-03-01",
          "2016-04-01",
          "2016-05-01",
          "2016-06-01",
          "2016-07-01",
          "2016-08-01",
          "2016-09-01",
          "2016-10-01",
          "2016-11-01",
          "2016-12-01",
          "2017-01-01",
          "2017-02-01",
          "2017-03-01",
          "2017-04-01",
          "2017-05-01",
          "2017-06-01",
          "2017-07-01",
          "2017-08-01",
          "2017-09-01",
          "2017-10-01",
          "2017-11-01",
          "2017-12-01",
          "2018-01-01",
          "2018-02-01",
          "2018-03-01",
          "2018-04-01",
          "2018-05-01",
          "2018-06-01",
          "2018-07-01",
          "2018-08-01",
          "2018-09-01",
          "2018-10-01",
          "2018-11-01",
          "2018-12-01",
          "2019-01-01",
          "2019-02-01",
          "2019-03-01",
          "2019-04-01",
          "2019-05-01",
          "2019-06-01",
          "2019-07-01",
          "2019-08-01",
          "2019-09-01",
          "2019-10-01",
          "2019-11-01",
          "2019-12-01",
          "2020-01-01",
          "2020-02-01",
          "2020-03-01",
          "2020-04-01",
          "2020-05-01",
          "2020-06-01",
          "2020-07-01",
          "2020-08-01",
          "2020-09-01",
          "2020-10-01",
          "2020-11-01",
          "2020-12-01",
          "2021-01-01",
          "2021-02-01",
          "2021-03-01",
          "2021-04-01",
          "2021-05-01",
          "2021-06-01",
          "2021-07-01",
          "2021-08-01",
          "2021-09-01",
          "2021-10-01",
          "2021-11-01",
          "2021-12-01",
          "2022-01-01",
          "2022-02-01",
          "2022-03-01",
          "2022-04-01",
          "2022-05-01",
          "2022-06-01",
          "2022-07-01",
          "2022-08-01",
          "2022-09-01",
          "2022-10-01",
          "2022-11-01",
          "2022-12-01",
          "2023-01-01",
          "2023-02-01",
          "2023-03-01",
          "2023-04-01",
          "2023-05-01",
          "2023-06-01",
          "2023-07-01",
          "2023-08-01",
          "2023-09-01",
          "2023-10-01",
          "2023-11-01",
          "2023-12-01",
          "2024-01-01",
          "2024-02-01"
         ],
         "y": [
          0.030221223831176758,
          0.025018930435180664,
          0.01965034008026123,
          0.02268815040588379,
          0.019408226013183594,
          0.018284320831298828,
          0.021187305450439453,
          0.01771366596221924,
          0.020681381225585938,
          0.019109487533569336,
          0.015034079551696777,
          0.02156960964202881,
          0.01998722553253174,
          0.017681002616882324,
          0.01789391040802002,
          0.01659846305847168,
          0.016498804092407227,
          0.015452027320861816,
          0.01941847801208496,
          0.017972946166992188,
          0.018404126167297363,
          0.014459609985351562,
          0.01958167552947998,
          0.01630377769470215,
          0.01590728759765625,
          0.016742467880249023,
          0.013294816017150879,
          0.01651930809020996,
          0.01374661922454834,
          0.013571500778198242,
          0.015287041664123535,
          0.0164492130279541,
          0.012743830680847168,
          0.015232682228088379,
          0.014889001846313477,
          0.017634987831115723,
          0.013832807540893555,
          0.014263391494750977,
          0.013139843940734863,
          0.014556288719177246,
          0.014212369918823242,
          0.01766371726989746,
          0.013787031173706055,
          0.015665292739868164,
          0.01604771614074707,
          0.014699220657348633,
          0.015972018241882324,
          0.01468658447265625,
          0.012240290641784668,
          0.013837218284606934,
          0.014801621437072754,
          0.015517592430114746,
          0.014944195747375488,
          0.015095710754394531,
          0.014126062393188477,
          0.012974739074707031,
          0.013084650039672852,
          0.01766526699066162,
          0.012359261512756348,
          0.01406848430633545,
          0.012006282806396484,
          0.014314532279968262,
          0.011925458908081055,
          0.01373147964477539,
          0.013063669204711914,
          0.014760494232177734,
          0.01246953010559082,
          0.013979673385620117,
          0.011211276054382324,
          0.011675119400024414,
          0.011992573738098145,
          0.011858105659484863,
          0.013081073760986328,
          0.01077115535736084,
          0.01200711727142334,
          0.015437483787536621,
          0.012223124504089355,
          0.0117875337600708,
          0.013541221618652344,
          0.011197805404663086,
          0.012255430221557617,
          0.012450933456420898,
          0.010161757469177246,
          0.012746453285217285,
          0.01426243782043457,
          0.012331962585449219,
          0.01312410831451416,
          0.012404561042785645,
          0.01303708553314209,
          0.014605402946472168,
          0.01226353645324707,
          0.015679240226745605,
          0.012403011322021484,
          0.014236092567443848,
          0.012934327125549316,
          0.013380050659179688,
          0.010390520095825195,
          0.0112227201461792,
          0.01296091079711914,
          0.013210654258728027,
          0.01385486125946045,
          0.010507464408874512,
          0.010751485824584961,
          0.012660026550292969,
          0.01230311393737793,
          0.012132763862609863,
          0.012358307838439941,
          0.011625409126281738,
          0.011600375175476074,
          0.013455390930175781,
          0.011814475059509277,
          0.0091019868850708,
          0.014829635620117188,
          0.011657953262329102,
          0.011952638626098633,
          0.011787891387939453,
          0.0128631591796875,
          0.012291908264160156,
          0.009916305541992188,
          0.01154780387878418,
          0.010677337646484375,
          0.012322187423706055,
          0.00988149642944336,
          0.01068115234375,
          0.01210033893585205,
          0.01287221908569336,
          0.010546207427978516,
          0.012462019920349121,
          0.011235237121582031,
          0.01237332820892334,
          0.01034557819366455,
          0.01175081729888916,
          0.01212000846862793,
          0.010219693183898926,
          0.012635350227355957,
          0.011981606483459473,
          0.012134671211242676,
          0.010581254959106445,
          0.013897538185119629,
          0.011469602584838867,
          0.011464238166809082,
          0.010953545570373535,
          0.011774659156799316,
          0.013692378997802734,
          0.01096963882446289,
          0.011465311050415039,
          0.011739253997802734,
          0.011327028274536133,
          0.012675881385803223,
          0.011591792106628418,
          0.0110853910446167,
          0.01124727725982666,
          0.011740326881408691,
          0.01153564453125,
          0.010319948196411133,
          0.009596586227416992,
          0.010874748229980469,
          0.012027263641357422,
          0.010057926177978516,
          0.011789441108703613,
          0.011402368545532227,
          0.012047410011291504,
          0.01063227653503418,
          0.009612798690795898,
          0.009525060653686523,
          0.010864019393920898,
          0.01104116439819336,
          0.011918187141418457,
          0.012284159660339355,
          0.011373281478881836,
          0.011899232864379883,
          0.012075543403625488,
          0.01175224781036377,
          0.010277509689331055,
          0.010058283805847168,
          0.01037454605102539,
          0.009268522262573242,
          0.010122537612915039,
          0.010113835334777832,
          0.010873079299926758,
          0.010179638862609863,
          0.010191202163696289,
          0.01008760929107666,
          0.010560393333435059,
          0.010542869567871094,
          0.011788249015808105,
          0.00861215591430664,
          0.011383414268493652,
          0.01035451889038086,
          0.011139154434204102,
          0.011065483093261719,
          0.010253548622131348,
          0.01219785213470459,
          0.010202646255493164,
          0.009521245956420898,
          0.009531259536743164,
          0.010747313499450684,
          0.010489702224731445,
          0.009300827980041504,
          0.01140737533569336,
          0.010625839233398438,
          0.012468695640563965,
          0.009741663932800293,
          0.010825395584106445,
          0.0110548734664917,
          0.0104600191116333,
          0.0107194185256958,
          0.0089111328125,
          0.009759187698364258,
          0.009269952774047852,
          0.008452177047729492,
          0.0095902681350708,
          0.011316299438476562,
          0.009043335914611816,
          0.00803983211517334,
          0.008833169937133789,
          0.01003420352935791,
          0.01053476333618164,
          0.00798642635345459,
          0.01028585433959961,
          0.010455846786499023,
          0.008359432220458984,
          0.007641315460205078,
          0.008878111839294434,
          0.009134769439697266,
          0.01045238971710205,
          0.00972592830657959,
          0.010192036628723145,
          0.010222554206848145,
          0.009713411331176758,
          0.008542537689208984,
          0.008979439735412598,
          0.00932157039642334,
          0.010493278503417969,
          0.009510993957519531,
          0.007669329643249512,
          0.008263945579528809,
          0.00943899154663086,
          0.008734583854675293,
          0.008465051651000977,
          0.0074939727783203125,
          0.009813070297241211,
          0.007085204124450684,
          0.008373379707336426,
          0.009657979011535645,
          0.007965087890625,
          0.007441878318786621,
          0.008325695991516113,
          0.008565425872802734,
          0.007982730865478516,
          0.007954597473144531,
          0.007044553756713867,
          0.007878899574279785,
          0.009130001068115234,
          0.008394122123718262,
          0.007132172584533691,
          0.008101940155029297,
          0.0060416460037231445,
          0.006268501281738281,
          0.007396221160888672,
          0.006689310073852539,
          0.006264805793762207,
          0.006882667541503906,
          0.007429838180541992,
          0.0066078901290893555,
          0.006015658378601074,
          0.006858348846435547,
          0.005520343780517578,
          0.005505800247192383,
          0.005770325660705566,
          0.006121158599853516,
          0.0055773258209228516,
          0.004999279975891113,
          0.005342602729797363
         ],
         "type": "scatter"
        },
        {
         "line": {
          "color": "green",
          "width": 2
         },
         "mode": "lines",
         "name": "Test returns",
         "x": [
          "2024-02-01",
          "2024-03-01",
          "2024-04-01",
          "2024-05-01",
          "2024-06-01",
          "2024-07-01",
          "2024-08-01"
         ],
         "y": [
          0.005342602729797363,
          0.005371689796447754,
          0.005240440368652344,
          0.004844546318054199,
          0.005120635032653809,
          0.005012035369873047,
          0.004050016403198242
         ],
         "type": "scatter"
        }
       ],
       "layout": {
        "template": {
         "data": {
          "barpolar": [
           {
            "marker": {
             "line": {
              "color": "white",
              "width": 0.5
             },
             "pattern": {
              "fillmode": "overlay",
              "size": 10,
              "solidity": 0.2
             }
            },
            "type": "barpolar"
           }
          ],
          "bar": [
           {
            "error_x": {
             "color": "#2a3f5f"
            },
            "error_y": {
             "color": "#2a3f5f"
            },
            "marker": {
             "line": {
              "color": "white",
              "width": 0.5
             },
             "pattern": {
              "fillmode": "overlay",
              "size": 10,
              "solidity": 0.2
             }
            },
            "type": "bar"
           }
          ],
          "carpet": [
           {
            "aaxis": {
             "endlinecolor": "#2a3f5f",
             "gridcolor": "#C8D4E3",
             "linecolor": "#C8D4E3",
             "minorgridcolor": "#C8D4E3",
             "startlinecolor": "#2a3f5f"
            },
            "baxis": {
             "endlinecolor": "#2a3f5f",
             "gridcolor": "#C8D4E3",
             "linecolor": "#C8D4E3",
             "minorgridcolor": "#C8D4E3",
             "startlinecolor": "#2a3f5f"
            },
            "type": "carpet"
           }
          ],
          "choropleth": [
           {
            "colorbar": {
             "outlinewidth": 0,
             "ticks": ""
            },
            "type": "choropleth"
           }
          ],
          "contourcarpet": [
           {
            "colorbar": {
             "outlinewidth": 0,
             "ticks": ""
            },
            "type": "contourcarpet"
           }
          ],
          "contour": [
           {
            "colorbar": {
             "outlinewidth": 0,
             "ticks": ""
            },
            "colorscale": [
             [
              0.0,
              "#0d0887"
             ],
             [
              0.1111111111111111,
              "#46039f"
             ],
             [
              0.2222222222222222,
              "#7201a8"
             ],
             [
              0.3333333333333333,
              "#9c179e"
             ],
             [
              0.4444444444444444,
              "#bd3786"
             ],
             [
              0.5555555555555556,
              "#d8576b"
             ],
             [
              0.6666666666666666,
              "#ed7953"
             ],
             [
              0.7777777777777778,
              "#fb9f3a"
             ],
             [
              0.8888888888888888,
              "#fdca26"
             ],
             [
              1.0,
              "#f0f921"
             ]
            ],
            "type": "contour"
           }
          ],
          "heatmapgl": [
           {
            "colorbar": {
             "outlinewidth": 0,
             "ticks": ""
            },
            "colorscale": [
             [
              0.0,
              "#0d0887"
             ],
             [
              0.1111111111111111,
              "#46039f"
             ],
             [
              0.2222222222222222,
              "#7201a8"
             ],
             [
              0.3333333333333333,
              "#9c179e"
             ],
             [
              0.4444444444444444,
              "#bd3786"
             ],
             [
              0.5555555555555556,
              "#d8576b"
             ],
             [
              0.6666666666666666,
              "#ed7953"
             ],
             [
              0.7777777777777778,
              "#fb9f3a"
             ],
             [
              0.8888888888888888,
              "#fdca26"
             ],
             [
              1.0,
              "#f0f921"
             ]
            ],
            "type": "heatmapgl"
           }
          ],
          "heatmap": [
           {
            "colorbar": {
             "outlinewidth": 0,
             "ticks": ""
            },
            "colorscale": [
             [
              0.0,
              "#0d0887"
             ],
             [
              0.1111111111111111,
              "#46039f"
             ],
             [
              0.2222222222222222,
              "#7201a8"
             ],
             [
              0.3333333333333333,
              "#9c179e"
             ],
             [
              0.4444444444444444,
              "#bd3786"
             ],
             [
              0.5555555555555556,
              "#d8576b"
             ],
             [
              0.6666666666666666,
              "#ed7953"
             ],
             [
              0.7777777777777778,
              "#fb9f3a"
             ],
             [
              0.8888888888888888,
              "#fdca26"
             ],
             [
              1.0,
              "#f0f921"
             ]
            ],
            "type": "heatmap"
           }
          ],
          "histogram2dcontour": [
           {
            "colorbar": {
             "outlinewidth": 0,
             "ticks": ""
            },
            "colorscale": [
             [
              0.0,
              "#0d0887"
             ],
             [
              0.1111111111111111,
              "#46039f"
             ],
             [
              0.2222222222222222,
              "#7201a8"
             ],
             [
              0.3333333333333333,
              "#9c179e"
             ],
             [
              0.4444444444444444,
              "#bd3786"
             ],
             [
              0.5555555555555556,
              "#d8576b"
             ],
             [
              0.6666666666666666,
              "#ed7953"
             ],
             [
              0.7777777777777778,
              "#fb9f3a"
             ],
             [
              0.8888888888888888,
              "#fdca26"
             ],
             [
              1.0,
              "#f0f921"
             ]
            ],
            "type": "histogram2dcontour"
           }
          ],
          "histogram2d": [
           {
            "colorbar": {
             "outlinewidth": 0,
             "ticks": ""
            },
            "colorscale": [
             [
              0.0,
              "#0d0887"
             ],
             [
              0.1111111111111111,
              "#46039f"
             ],
             [
              0.2222222222222222,
              "#7201a8"
             ],
             [
              0.3333333333333333,
              "#9c179e"
             ],
             [
              0.4444444444444444,
              "#bd3786"
             ],
             [
              0.5555555555555556,
              "#d8576b"
             ],
             [
              0.6666666666666666,
              "#ed7953"
             ],
             [
              0.7777777777777778,
              "#fb9f3a"
             ],
             [
              0.8888888888888888,
              "#fdca26"
             ],
             [
              1.0,
              "#f0f921"
             ]
            ],
            "type": "histogram2d"
           }
          ],
          "histogram": [
           {
            "marker": {
             "pattern": {
              "fillmode": "overlay",
              "size": 10,
              "solidity": 0.2
             }
            },
            "type": "histogram"
           }
          ],
          "mesh3d": [
           {
            "colorbar": {
             "outlinewidth": 0,
             "ticks": ""
            },
            "type": "mesh3d"
           }
          ],
          "parcoords": [
           {
            "line": {
             "colorbar": {
              "outlinewidth": 0,
              "ticks": ""
             }
            },
            "type": "parcoords"
           }
          ],
          "pie": [
           {
            "automargin": true,
            "type": "pie"
           }
          ],
          "scatter3d": [
           {
            "line": {
             "colorbar": {
              "outlinewidth": 0,
              "ticks": ""
             }
            },
            "marker": {
             "colorbar": {
              "outlinewidth": 0,
              "ticks": ""
             }
            },
            "type": "scatter3d"
           }
          ],
          "scattercarpet": [
           {
            "marker": {
             "colorbar": {
              "outlinewidth": 0,
              "ticks": ""
             }
            },
            "type": "scattercarpet"
           }
          ],
          "scattergeo": [
           {
            "marker": {
             "colorbar": {
              "outlinewidth": 0,
              "ticks": ""
             }
            },
            "type": "scattergeo"
           }
          ],
          "scattergl": [
           {
            "marker": {
             "colorbar": {
              "outlinewidth": 0,
              "ticks": ""
             }
            },
            "type": "scattergl"
           }
          ],
          "scattermapbox": [
           {
            "marker": {
             "colorbar": {
              "outlinewidth": 0,
              "ticks": ""
             }
            },
            "type": "scattermapbox"
           }
          ],
          "scatterpolargl": [
           {
            "marker": {
             "colorbar": {
              "outlinewidth": 0,
              "ticks": ""
             }
            },
            "type": "scatterpolargl"
           }
          ],
          "scatterpolar": [
           {
            "marker": {
             "colorbar": {
              "outlinewidth": 0,
              "ticks": ""
             }
            },
            "type": "scatterpolar"
           }
          ],
          "scatter": [
           {
            "fillpattern": {
             "fillmode": "overlay",
             "size": 10,
             "solidity": 0.2
            },
            "type": "scatter"
           }
          ],
          "scatterternary": [
           {
            "marker": {
             "colorbar": {
              "outlinewidth": 0,
              "ticks": ""
             }
            },
            "type": "scatterternary"
           }
          ],
          "surface": [
           {
            "colorbar": {
             "outlinewidth": 0,
             "ticks": ""
            },
            "colorscale": [
             [
              0.0,
              "#0d0887"
             ],
             [
              0.1111111111111111,
              "#46039f"
             ],
             [
              0.2222222222222222,
              "#7201a8"
             ],
             [
              0.3333333333333333,
              "#9c179e"
             ],
             [
              0.4444444444444444,
              "#bd3786"
             ],
             [
              0.5555555555555556,
              "#d8576b"
             ],
             [
              0.6666666666666666,
              "#ed7953"
             ],
             [
              0.7777777777777778,
              "#fb9f3a"
             ],
             [
              0.8888888888888888,
              "#fdca26"
             ],
             [
              1.0,
              "#f0f921"
             ]
            ],
            "type": "surface"
           }
          ],
          "table": [
           {
            "cells": {
             "fill": {
              "color": "#EBF0F8"
             },
             "line": {
              "color": "white"
             }
            },
            "header": {
             "fill": {
              "color": "#C8D4E3"
             },
             "line": {
              "color": "white"
             }
            },
            "type": "table"
           }
          ]
         },
         "layout": {
          "annotationdefaults": {
           "arrowcolor": "#2a3f5f",
           "arrowhead": 0,
           "arrowwidth": 1
          },
          "autotypenumbers": "strict",
          "coloraxis": {
           "colorbar": {
            "outlinewidth": 0,
            "ticks": ""
           }
          },
          "colorscale": {
           "diverging": [
            [
             0,
             "#8e0152"
            ],
            [
             0.1,
             "#c51b7d"
            ],
            [
             0.2,
             "#de77ae"
            ],
            [
             0.3,
             "#f1b6da"
            ],
            [
             0.4,
             "#fde0ef"
            ],
            [
             0.5,
             "#f7f7f7"
            ],
            [
             0.6,
             "#e6f5d0"
            ],
            [
             0.7,
             "#b8e186"
            ],
            [
             0.8,
             "#7fbc41"
            ],
            [
             0.9,
             "#4d9221"
            ],
            [
             1,
             "#276419"
            ]
           ],
           "sequential": [
            [
             0.0,
             "#0d0887"
            ],
            [
             0.1111111111111111,
             "#46039f"
            ],
            [
             0.2222222222222222,
             "#7201a8"
            ],
            [
             0.3333333333333333,
             "#9c179e"
            ],
            [
             0.4444444444444444,
             "#bd3786"
            ],
            [
             0.5555555555555556,
             "#d8576b"
            ],
            [
             0.6666666666666666,
             "#ed7953"
            ],
            [
             0.7777777777777778,
             "#fb9f3a"
            ],
            [
             0.8888888888888888,
             "#fdca26"
            ],
            [
             1.0,
             "#f0f921"
            ]
           ],
           "sequentialminus": [
            [
             0.0,
             "#0d0887"
            ],
            [
             0.1111111111111111,
             "#46039f"
            ],
            [
             0.2222222222222222,
             "#7201a8"
            ],
            [
             0.3333333333333333,
             "#9c179e"
            ],
            [
             0.4444444444444444,
             "#bd3786"
            ],
            [
             0.5555555555555556,
             "#d8576b"
            ],
            [
             0.6666666666666666,
             "#ed7953"
            ],
            [
             0.7777777777777778,
             "#fb9f3a"
            ],
            [
             0.8888888888888888,
             "#fdca26"
            ],
            [
             1.0,
             "#f0f921"
            ]
           ]
          },
          "colorway": [
           "#636efa",
           "#EF553B",
           "#00cc96",
           "#ab63fa",
           "#FFA15A",
           "#19d3f3",
           "#FF6692",
           "#B6E880",
           "#FF97FF",
           "#FECB52"
          ],
          "font": {
           "color": "#2a3f5f"
          },
          "geo": {
           "bgcolor": "white",
           "lakecolor": "white",
           "landcolor": "white",
           "showlakes": true,
           "showland": true,
           "subunitcolor": "#C8D4E3"
          },
          "hoverlabel": {
           "align": "left"
          },
          "hovermode": "closest",
          "mapbox": {
           "style": "light"
          },
          "paper_bgcolor": "white",
          "plot_bgcolor": "white",
          "polar": {
           "angularaxis": {
            "gridcolor": "#EBF0F8",
            "linecolor": "#EBF0F8",
            "ticks": ""
           },
           "bgcolor": "white",
           "radialaxis": {
            "gridcolor": "#EBF0F8",
            "linecolor": "#EBF0F8",
            "ticks": ""
           }
          },
          "scene": {
           "xaxis": {
            "backgroundcolor": "white",
            "gridcolor": "#DFE8F3",
            "gridwidth": 2,
            "linecolor": "#EBF0F8",
            "showbackground": true,
            "ticks": "",
            "zerolinecolor": "#EBF0F8"
           },
           "yaxis": {
            "backgroundcolor": "white",
            "gridcolor": "#DFE8F3",
            "gridwidth": 2,
            "linecolor": "#EBF0F8",
            "showbackground": true,
            "ticks": "",
            "zerolinecolor": "#EBF0F8"
           },
           "zaxis": {
            "backgroundcolor": "white",
            "gridcolor": "#DFE8F3",
            "gridwidth": 2,
            "linecolor": "#EBF0F8",
            "showbackground": true,
            "ticks": "",
            "zerolinecolor": "#EBF0F8"
           }
          },
          "shapedefaults": {
           "line": {
            "color": "#2a3f5f"
           }
          },
          "ternary": {
           "aaxis": {
            "gridcolor": "#DFE8F3",
            "linecolor": "#A2B1C6",
            "ticks": ""
           },
           "baxis": {
            "gridcolor": "#DFE8F3",
            "linecolor": "#A2B1C6",
            "ticks": ""
           },
           "bgcolor": "white",
           "caxis": {
            "gridcolor": "#DFE8F3",
            "linecolor": "#A2B1C6",
            "ticks": ""
           }
          },
          "title": {
           "x": 0.05
          },
          "xaxis": {
           "automargin": true,
           "gridcolor": "#EBF0F8",
           "linecolor": "#EBF0F8",
           "ticks": "",
           "title": {
            "standoff": 15
           },
           "zerolinecolor": "#EBF0F8",
           "zerolinewidth": 2
          },
          "yaxis": {
           "automargin": true,
           "gridcolor": "#EBF0F8",
           "linecolor": "#EBF0F8",
           "ticks": "",
           "title": {
            "standoff": 15
           },
           "zerolinecolor": "#EBF0F8",
           "zerolinewidth": 2
          }
         }
        },
        "shapes": [
         {
          "line": {
           "color": "red",
           "dash": "dash",
           "width": 1
          },
          "type": "line",
          "x0": "2024-02-01",
          "x1": "2024-02-01",
          "xref": "x",
          "y0": 0,
          "y1": 1,
          "yref": "y domain"
         }
        ],
        "yaxis": {
         "title": {
          "text": "Day closing return (%)"
         },
         "tickformat": ".0%",
         "range": [
          -0.25,
          0.6
         ]
        },
        "title": {
         "text": "6 Month Prediction vs Actual Plot"
        },
        "xaxis": {
         "title": {
          "text": "Date"
         }
        },
        "legend": {
         "title": {
          "text": "Legend"
         }
        }
       },
       "config": {
        "plotlyServerURL": "https://plot.ly"
       }
      },
      "text/html": [
       "<div>                            <div id=\"9c66335a-3398-4caa-90cb-f2920be637ea\" class=\"plotly-graph-div\" style=\"height:525px; width:100%;\"></div>            <script type=\"text/javascript\">                require([\"plotly\"], function(Plotly) {                    window.PLOTLYENV=window.PLOTLYENV || {};                                    if (document.getElementById(\"9c66335a-3398-4caa-90cb-f2920be637ea\")) {                    Plotly.newPlot(                        \"9c66335a-3398-4caa-90cb-f2920be637ea\",                        [{\"line\":{\"color\":\"#5c839f\",\"width\":2},\"mode\":\"lines\",\"name\":\"Actual returns\",\"x\":[\"2001-05-01\",\"2001-06-01\",\"2001-07-01\",\"2001-08-01\",\"2001-09-01\",\"2001-10-01\",\"2001-11-01\",\"2001-12-01\",\"2002-01-01\",\"2002-02-01\",\"2002-03-01\",\"2002-04-01\",\"2002-05-01\",\"2002-06-01\",\"2002-07-01\",\"2002-08-01\",\"2002-09-01\",\"2002-10-01\",\"2002-11-01\",\"2002-12-01\",\"2003-01-01\",\"2003-02-01\",\"2003-03-01\",\"2003-04-01\",\"2003-05-01\",\"2003-06-01\",\"2003-07-01\",\"2003-08-01\",\"2003-09-01\",\"2003-10-01\",\"2003-11-01\",\"2003-12-01\",\"2004-01-01\",\"2004-02-01\",\"2004-03-01\",\"2004-04-01\",\"2004-05-01\",\"2004-06-01\",\"2004-07-01\",\"2004-08-01\",\"2004-09-01\",\"2004-10-01\",\"2004-11-01\",\"2004-12-01\",\"2005-01-01\",\"2005-02-01\",\"2005-03-01\",\"2005-04-01\",\"2005-05-01\",\"2005-06-01\",\"2005-07-01\",\"2005-08-01\",\"2005-09-01\",\"2005-10-01\",\"2005-11-01\",\"2005-12-01\",\"2006-01-01\",\"2006-02-01\",\"2006-03-01\",\"2006-04-01\",\"2006-05-01\",\"2006-06-01\",\"2006-07-01\",\"2006-08-01\",\"2006-09-01\",\"2006-10-01\",\"2006-11-01\",\"2006-12-01\",\"2007-01-01\",\"2007-02-01\",\"2007-03-01\",\"2007-04-01\",\"2007-05-01\",\"2007-06-01\",\"2007-07-01\",\"2007-08-01\",\"2007-09-01\",\"2007-10-01\",\"2007-11-01\",\"2007-12-01\",\"2008-01-01\",\"2008-02-01\",\"2008-03-01\",\"2008-04-01\",\"2008-05-01\",\"2008-06-01\",\"2008-07-01\",\"2008-08-01\",\"2008-09-01\",\"2008-10-01\",\"2008-11-01\",\"2008-12-01\",\"2009-01-01\",\"2009-02-01\",\"2009-03-01\",\"2009-04-01\",\"2009-05-01\",\"2009-06-01\",\"2009-07-01\",\"2009-08-01\",\"2009-09-01\",\"2009-10-01\",\"2009-11-01\",\"2009-12-01\",\"2010-01-01\",\"2010-02-01\",\"2010-03-01\",\"2010-04-01\",\"2010-05-01\",\"2010-06-01\",\"2010-07-01\",\"2010-08-01\",\"2010-09-01\",\"2010-10-01\",\"2010-11-01\",\"2010-12-01\",\"2011-01-01\",\"2011-02-01\",\"2011-03-01\",\"2011-04-01\",\"2011-05-01\",\"2011-06-01\",\"2011-07-01\",\"2011-08-01\",\"2011-09-01\",\"2011-10-01\",\"2011-11-01\",\"2011-12-01\",\"2012-01-01\",\"2012-02-01\",\"2012-03-01\",\"2012-04-01\",\"2012-05-01\",\"2012-06-01\",\"2012-07-01\",\"2012-08-01\",\"2012-09-01\",\"2012-10-01\",\"2012-11-01\",\"2012-12-01\",\"2013-01-01\",\"2013-02-01\",\"2013-03-01\",\"2013-04-01\",\"2013-05-01\",\"2013-06-01\",\"2013-07-01\",\"2013-08-01\",\"2013-09-01\",\"2013-10-01\",\"2013-11-01\",\"2013-12-01\",\"2014-01-01\",\"2014-02-01\",\"2014-03-01\",\"2014-04-01\",\"2014-05-01\",\"2014-06-01\",\"2014-07-01\",\"2014-08-01\",\"2014-09-01\",\"2014-10-01\",\"2014-11-01\",\"2014-12-01\",\"2015-01-01\",\"2015-02-01\",\"2015-03-01\",\"2015-04-01\",\"2015-05-01\",\"2015-06-01\",\"2015-07-01\",\"2015-08-01\",\"2015-09-01\",\"2015-10-01\",\"2015-11-01\",\"2015-12-01\",\"2016-01-01\",\"2016-02-01\",\"2016-03-01\",\"2016-04-01\",\"2016-05-01\",\"2016-06-01\",\"2016-07-01\",\"2016-08-01\",\"2016-09-01\",\"2016-10-01\",\"2016-11-01\",\"2016-12-01\",\"2017-01-01\",\"2017-02-01\",\"2017-03-01\",\"2017-04-01\",\"2017-05-01\",\"2017-06-01\",\"2017-07-01\",\"2017-08-01\",\"2017-09-01\",\"2017-10-01\",\"2017-11-01\",\"2017-12-01\",\"2018-01-01\",\"2018-02-01\",\"2018-03-01\",\"2018-04-01\",\"2018-05-01\",\"2018-06-01\",\"2018-07-01\",\"2018-08-01\",\"2018-09-01\",\"2018-10-01\",\"2018-11-01\",\"2018-12-01\",\"2019-01-01\",\"2019-02-01\",\"2019-03-01\",\"2019-04-01\",\"2019-05-01\",\"2019-06-01\",\"2019-07-01\",\"2019-08-01\",\"2019-09-01\",\"2019-10-01\",\"2019-11-01\",\"2019-12-01\",\"2020-01-01\",\"2020-02-01\",\"2020-03-01\",\"2020-04-01\",\"2020-05-01\",\"2020-06-01\",\"2020-07-01\",\"2020-08-01\",\"2020-09-01\",\"2020-10-01\",\"2020-11-01\",\"2020-12-01\",\"2021-01-01\",\"2021-02-01\",\"2021-03-01\",\"2021-04-01\",\"2021-05-01\",\"2021-06-01\",\"2021-07-01\",\"2021-08-01\",\"2021-09-01\",\"2021-10-01\",\"2021-11-01\",\"2021-12-01\",\"2022-01-01\",\"2022-02-01\",\"2022-03-01\",\"2022-04-01\",\"2022-05-01\",\"2022-06-01\",\"2022-07-01\",\"2022-08-01\",\"2022-09-01\",\"2022-10-01\",\"2022-11-01\",\"2022-12-01\",\"2023-01-01\",\"2023-02-01\",\"2023-03-01\",\"2023-04-01\",\"2023-05-01\",\"2023-06-01\",\"2023-07-01\",\"2023-08-01\",\"2023-09-01\",\"2023-10-01\",\"2023-11-01\",\"2023-12-01\",\"2024-01-01\",\"2024-02-01\",\"2024-03-01\",\"2024-04-01\",\"2024-05-01\",\"2024-06-01\",\"2024-07-01\",\"2024-08-01\"],\"y\":[0.02743993993994054,0.038025525525524406,-0.009414414414414263,0.22023273273273247,0.031974474474474324,-0.00259009009009048,-0.020735735735735616,0.033678678678677354,-0.003978978978978809,0.0299774774774777,-0.007777777777777883,-0.011524024024024082,-0.026936936936937994,0.01249999999999929,0.038400900900901425,-0.02846096096096018,-0.012762762762762891,0.07272522522522085,0.015735735735736167,0.001644144144144155,-0.026996996996994982,-0.030915915915913916,-0.09028528528528412,0.05090840840840727,0.0509159159159156,0.018573573573573476,-0.005405405405404129,0.012072072072070394,0.05409159159158938,0.009024024024022914,0.00522522522522495,-0.05081831831831807,-0.06252252252252144,-0.011471471471471095,-0.04330330330330234,0.010465465465465451,0.058453453453451765,-0.03432432432432431,-0.01071321321321217,0.003100600600600245,-0.0021696696696679174,0.06228978978978872,0.07175675675675475,0.03475225225225054,0.05778528528528293,0.06289039039038924,0.004909909909908583,0.05349099099098753,0.004924924924925467,0.01909159159158902,0.032132132132131064,0.01701951951951819,0.05260510510510441,0.00787537537537375,-0.0060810810810809635,0.039166666666664574,-0.03876126126125934,-0.006861861861861107,0.005180180180180738,0.004489489489490461,0.03232732732732635,0.05847597597597187,0.008250750750750768,0.024947447447445814,-0.0037087087087082082,-0.022267267267264912,0.03677177177176838,0.024557057057054577,0.040442942942939375,-0.0006981981981986074,0.01872372372372233,0.07061561561561569,0.05157657657657366,0.02451201201201103,0.04399399399399351,0.0172822822822829,0.028603603603601258,0.0011486486486493863,-0.03011261261261,-0.0018618618618618799,-0.01278528528528522,0.028018018018014734,0.014181681681680214,0.024466966966965265,0.027897897897896762,0.030930930930927136,0.03999999999999804,0.0035285285285273638,0.0018993993994007585,0.021418918918917118,0.02924174174173988,-0.01469969969969842,-0.03518768768768399,-0.010007507507506563,0.0024024024024018598,0.019632132132131774,-0.05572822822822687,-0.009954954954954243,-0.06066066066065812,-0.010435435435435347,-0.014969969969969021,0.03434684684684575,0.027875375375374656,-0.07102852852852792,-0.0025300300300311607,0.01765015015014937,-0.07436936936936767,-0.16220720720720616,-0.05918918918918892,0.04562312312312233,-0.056186186186185094,-0.06329579579579647,0.07671171171171154,0.15475225225225198,0.04527027027027031,0.03893393393393363,0.07099849849849749,0.05655405405405389,0.03070570570570519,-0.021951951951950766,0.0010360360360355259,0.05536036036035763,-0.013551051051049257,0.020743243243242837,0.06338588588588245,0.04948948948948795,-0.05758258258257942,-0.040217717717715096,0.040165165165163996,-0.03746996996996865,0.07373123123122904,0.0181606606606608,0.029774774774774082,0.06351351351350831,0.01366366366366445,0.03365615615615347,-0.01171171171171026,0.02272522522522369,-0.0021996996996992424,-0.0004279279279268966,-0.018408408408405852,-0.05390390390390232,-0.049354354354354535,0.07704954954954912,-0.014466966966965367,0.005720720720719719,0.056246246246242304,0.04385885885885599,0.03139639639639191,-0.005975975975974102,-0.05990990990990752,0.033543543543540055,-0.0019219219219228645,0.021854354354353456,0.016599099099097403,0.002957957957956614,0.017342342342340444,0.032770270270266355,0.06512762762762248,0.025345345345343828,0.04521021021020588,0.03481231231231119,0.018280780780780104,-0.009894894894894812,0.03924924924924866,-0.009249249249246638,0.05455705705705238,0.028130630630627262,0.02668168168168039,0.022522522522519184,-0.013288288288286432,0.030075075075072455,0.0034009009009017266,-0.014481981981981806,0.020037537537534345,0.03023273273272986,-0.013093093093094033,0.02825825825825312,-0.01791291291291064,0.03218468468468272,0.04343843843843276,0.015833333333329813,0.002282282282282333,0.04680930930930782,0.012477477477475851,0.00021771771771783577,0.0293018018017992,-0.007530030030026724,0.015135135135132538,-0.04286786786786334,-0.025360360360358603,0.058055555555554195,0.02036786786786493,-0.020202702702699193,-0.05234234234234081,-0.003768768768769082,0.06146396396395826,0.0017117117117124714,0.02473723723723631,-0.028280780780780446,0.058536036036028305,0.009331831831831616,0.011493993993994867,-0.004587087087085662,0.04523273273273265,0.03180180180179559,0.011876876876876663,0.023596096096092145,0.009294294294294847,0.01928678678678275,0.017432432432431755,0.013648648648647344,0.016336336336334467,0.005165165165165186,0.03681681681681481,0.024496996996993925,0.029166666666663676,0.011771771771771133,0.025037537537536014,-0.02737237237236656,-0.0007732732732720349,0.021028528528523216,0.03003003003002891,0.00960210210210044,0.015405405405403583,0.023415915915913077,-0.0036411411411424455,-0.06527777777777555,0.018873873873872515,-0.0894669669669641,0.09368618618618263,0.041291291291286614,0.008566066066063804,0.043918918918915084,-0.05617867867867832,0.04983483483482942,0.020818318318316154,-0.026448948948949114,0.037800300300294465,0.032867867867863776,0.034909909909907055,0.02680930930930736,-0.014016516516515032,-0.09361111111110709,-0.18348348348348387,0.1288888888888864,0.0715540540540538,0.02461711711711967,0.01599099099099388,0.0644519519519513,-0.006869369369366662,-0.005548048048042986,0.14040540540540425,0.05409909909909216,0.02852852852853105,0.0521096096096072,0.04906156156155683,0.03810810810810494,0.01629129129128959,0.016869369369369114,0.011163663663662282,0.02643393393393012,-0.02038288288288037,0.03498498498498348,-0.02757507507507051,0.045360360360353846,-0.07055555555555282,-0.012312312312310003,0.007882882882881193,-0.048010510510507864,0.005157657657655745,-0.06768018018017974,0.09111111111110559,-0.029324324324321083,-0.09201201201200937,0.08337837837837592,0.05950450450450018,-0.04256756756756219,0.08824324324324206,-0.005262762762760831,-0.012912912912911412,0.005990990990987433,-0.006478978978976202,0.062995495495489,0.0376951951951896,-0.019376876876874283,-0.03429429429428832,-0.04720720720720273,0.08611111111110614,0.07102852852852637,-0.0033783783783778443,0.027439939939941205,0.033686186186181466,-0.03638888888888547,0.03388888888888686,0.0002852852852868182,0.052469969969967556,0.002424924924925298,-0.03054054054053601],\"type\":\"scatter\"},{\"line\":{\"color\":\"red\",\"width\":2},\"mode\":\"lines\",\"name\":\"Train returns\",\"x\":[\"2001-05-01\",\"2001-06-01\",\"2001-07-01\",\"2001-08-01\",\"2001-09-01\",\"2001-10-01\",\"2001-11-01\",\"2001-12-01\",\"2002-01-01\",\"2002-02-01\",\"2002-03-01\",\"2002-04-01\",\"2002-05-01\",\"2002-06-01\",\"2002-07-01\",\"2002-08-01\",\"2002-09-01\",\"2002-10-01\",\"2002-11-01\",\"2002-12-01\",\"2003-01-01\",\"2003-02-01\",\"2003-03-01\",\"2003-04-01\",\"2003-05-01\",\"2003-06-01\",\"2003-07-01\",\"2003-08-01\",\"2003-09-01\",\"2003-10-01\",\"2003-11-01\",\"2003-12-01\",\"2004-01-01\",\"2004-02-01\",\"2004-03-01\",\"2004-04-01\",\"2004-05-01\",\"2004-06-01\",\"2004-07-01\",\"2004-08-01\",\"2004-09-01\",\"2004-10-01\",\"2004-11-01\",\"2004-12-01\",\"2005-01-01\",\"2005-02-01\",\"2005-03-01\",\"2005-04-01\",\"2005-05-01\",\"2005-06-01\",\"2005-07-01\",\"2005-08-01\",\"2005-09-01\",\"2005-10-01\",\"2005-11-01\",\"2005-12-01\",\"2006-01-01\",\"2006-02-01\",\"2006-03-01\",\"2006-04-01\",\"2006-05-01\",\"2006-06-01\",\"2006-07-01\",\"2006-08-01\",\"2006-09-01\",\"2006-10-01\",\"2006-11-01\",\"2006-12-01\",\"2007-01-01\",\"2007-02-01\",\"2007-03-01\",\"2007-04-01\",\"2007-05-01\",\"2007-06-01\",\"2007-07-01\",\"2007-08-01\",\"2007-09-01\",\"2007-10-01\",\"2007-11-01\",\"2007-12-01\",\"2008-01-01\",\"2008-02-01\",\"2008-03-01\",\"2008-04-01\",\"2008-05-01\",\"2008-06-01\",\"2008-07-01\",\"2008-08-01\",\"2008-09-01\",\"2008-10-01\",\"2008-11-01\",\"2008-12-01\",\"2009-01-01\",\"2009-02-01\",\"2009-03-01\",\"2009-04-01\",\"2009-05-01\",\"2009-06-01\",\"2009-07-01\",\"2009-08-01\",\"2009-09-01\",\"2009-10-01\",\"2009-11-01\",\"2009-12-01\",\"2010-01-01\",\"2010-02-01\",\"2010-03-01\",\"2010-04-01\",\"2010-05-01\",\"2010-06-01\",\"2010-07-01\",\"2010-08-01\",\"2010-09-01\",\"2010-10-01\",\"2010-11-01\",\"2010-12-01\",\"2011-01-01\",\"2011-02-01\",\"2011-03-01\",\"2011-04-01\",\"2011-05-01\",\"2011-06-01\",\"2011-07-01\",\"2011-08-01\",\"2011-09-01\",\"2011-10-01\",\"2011-11-01\",\"2011-12-01\",\"2012-01-01\",\"2012-02-01\",\"2012-03-01\",\"2012-04-01\",\"2012-05-01\",\"2012-06-01\",\"2012-07-01\",\"2012-08-01\",\"2012-09-01\",\"2012-10-01\",\"2012-11-01\",\"2012-12-01\",\"2013-01-01\",\"2013-02-01\",\"2013-03-01\",\"2013-04-01\",\"2013-05-01\",\"2013-06-01\",\"2013-07-01\",\"2013-08-01\",\"2013-09-01\",\"2013-10-01\",\"2013-11-01\",\"2013-12-01\",\"2014-01-01\",\"2014-02-01\",\"2014-03-01\",\"2014-04-01\",\"2014-05-01\",\"2014-06-01\",\"2014-07-01\",\"2014-08-01\",\"2014-09-01\",\"2014-10-01\",\"2014-11-01\",\"2014-12-01\",\"2015-01-01\",\"2015-02-01\",\"2015-03-01\",\"2015-04-01\",\"2015-05-01\",\"2015-06-01\",\"2015-07-01\",\"2015-08-01\",\"2015-09-01\",\"2015-10-01\",\"2015-11-01\",\"2015-12-01\",\"2016-01-01\",\"2016-02-01\",\"2016-03-01\",\"2016-04-01\",\"2016-05-01\",\"2016-06-01\",\"2016-07-01\",\"2016-08-01\",\"2016-09-01\",\"2016-10-01\",\"2016-11-01\",\"2016-12-01\",\"2017-01-01\",\"2017-02-01\",\"2017-03-01\",\"2017-04-01\",\"2017-05-01\",\"2017-06-01\",\"2017-07-01\",\"2017-08-01\",\"2017-09-01\",\"2017-10-01\",\"2017-11-01\",\"2017-12-01\",\"2018-01-01\",\"2018-02-01\",\"2018-03-01\",\"2018-04-01\",\"2018-05-01\",\"2018-06-01\",\"2018-07-01\",\"2018-08-01\",\"2018-09-01\",\"2018-10-01\",\"2018-11-01\",\"2018-12-01\",\"2019-01-01\",\"2019-02-01\",\"2019-03-01\",\"2019-04-01\",\"2019-05-01\",\"2019-06-01\",\"2019-07-01\",\"2019-08-01\",\"2019-09-01\",\"2019-10-01\",\"2019-11-01\",\"2019-12-01\",\"2020-01-01\",\"2020-02-01\",\"2020-03-01\",\"2020-04-01\",\"2020-05-01\",\"2020-06-01\",\"2020-07-01\",\"2020-08-01\",\"2020-09-01\",\"2020-10-01\",\"2020-11-01\",\"2020-12-01\",\"2021-01-01\",\"2021-02-01\",\"2021-03-01\",\"2021-04-01\",\"2021-05-01\",\"2021-06-01\",\"2021-07-01\",\"2021-08-01\",\"2021-09-01\",\"2021-10-01\",\"2021-11-01\",\"2021-12-01\",\"2022-01-01\",\"2022-02-01\",\"2022-03-01\",\"2022-04-01\",\"2022-05-01\",\"2022-06-01\",\"2022-07-01\",\"2022-08-01\",\"2022-09-01\",\"2022-10-01\",\"2022-11-01\",\"2022-12-01\",\"2023-01-01\",\"2023-02-01\",\"2023-03-01\",\"2023-04-01\",\"2023-05-01\",\"2023-06-01\",\"2023-07-01\",\"2023-08-01\",\"2023-09-01\",\"2023-10-01\",\"2023-11-01\",\"2023-12-01\",\"2024-01-01\",\"2024-02-01\"],\"y\":[0.030221223831176758,0.025018930435180664,0.01965034008026123,0.02268815040588379,0.019408226013183594,0.018284320831298828,0.021187305450439453,0.01771366596221924,0.020681381225585938,0.019109487533569336,0.015034079551696777,0.02156960964202881,0.01998722553253174,0.017681002616882324,0.01789391040802002,0.01659846305847168,0.016498804092407227,0.015452027320861816,0.01941847801208496,0.017972946166992188,0.018404126167297363,0.014459609985351562,0.01958167552947998,0.01630377769470215,0.01590728759765625,0.016742467880249023,0.013294816017150879,0.01651930809020996,0.01374661922454834,0.013571500778198242,0.015287041664123535,0.0164492130279541,0.012743830680847168,0.015232682228088379,0.014889001846313477,0.017634987831115723,0.013832807540893555,0.014263391494750977,0.013139843940734863,0.014556288719177246,0.014212369918823242,0.01766371726989746,0.013787031173706055,0.015665292739868164,0.01604771614074707,0.014699220657348633,0.015972018241882324,0.01468658447265625,0.012240290641784668,0.013837218284606934,0.014801621437072754,0.015517592430114746,0.014944195747375488,0.015095710754394531,0.014126062393188477,0.012974739074707031,0.013084650039672852,0.01766526699066162,0.012359261512756348,0.01406848430633545,0.012006282806396484,0.014314532279968262,0.011925458908081055,0.01373147964477539,0.013063669204711914,0.014760494232177734,0.01246953010559082,0.013979673385620117,0.011211276054382324,0.011675119400024414,0.011992573738098145,0.011858105659484863,0.013081073760986328,0.01077115535736084,0.01200711727142334,0.015437483787536621,0.012223124504089355,0.0117875337600708,0.013541221618652344,0.011197805404663086,0.012255430221557617,0.012450933456420898,0.010161757469177246,0.012746453285217285,0.01426243782043457,0.012331962585449219,0.01312410831451416,0.012404561042785645,0.01303708553314209,0.014605402946472168,0.01226353645324707,0.015679240226745605,0.012403011322021484,0.014236092567443848,0.012934327125549316,0.013380050659179688,0.010390520095825195,0.0112227201461792,0.01296091079711914,0.013210654258728027,0.01385486125946045,0.010507464408874512,0.010751485824584961,0.012660026550292969,0.01230311393737793,0.012132763862609863,0.012358307838439941,0.011625409126281738,0.011600375175476074,0.013455390930175781,0.011814475059509277,0.0091019868850708,0.014829635620117188,0.011657953262329102,0.011952638626098633,0.011787891387939453,0.0128631591796875,0.012291908264160156,0.009916305541992188,0.01154780387878418,0.010677337646484375,0.012322187423706055,0.00988149642944336,0.01068115234375,0.01210033893585205,0.01287221908569336,0.010546207427978516,0.012462019920349121,0.011235237121582031,0.01237332820892334,0.01034557819366455,0.01175081729888916,0.01212000846862793,0.010219693183898926,0.012635350227355957,0.011981606483459473,0.012134671211242676,0.010581254959106445,0.013897538185119629,0.011469602584838867,0.011464238166809082,0.010953545570373535,0.011774659156799316,0.013692378997802734,0.01096963882446289,0.011465311050415039,0.011739253997802734,0.011327028274536133,0.012675881385803223,0.011591792106628418,0.0110853910446167,0.01124727725982666,0.011740326881408691,0.01153564453125,0.010319948196411133,0.009596586227416992,0.010874748229980469,0.012027263641357422,0.010057926177978516,0.011789441108703613,0.011402368545532227,0.012047410011291504,0.01063227653503418,0.009612798690795898,0.009525060653686523,0.010864019393920898,0.01104116439819336,0.011918187141418457,0.012284159660339355,0.011373281478881836,0.011899232864379883,0.012075543403625488,0.01175224781036377,0.010277509689331055,0.010058283805847168,0.01037454605102539,0.009268522262573242,0.010122537612915039,0.010113835334777832,0.010873079299926758,0.010179638862609863,0.010191202163696289,0.01008760929107666,0.010560393333435059,0.010542869567871094,0.011788249015808105,0.00861215591430664,0.011383414268493652,0.01035451889038086,0.011139154434204102,0.011065483093261719,0.010253548622131348,0.01219785213470459,0.010202646255493164,0.009521245956420898,0.009531259536743164,0.010747313499450684,0.010489702224731445,0.009300827980041504,0.01140737533569336,0.010625839233398438,0.012468695640563965,0.009741663932800293,0.010825395584106445,0.0110548734664917,0.0104600191116333,0.0107194185256958,0.0089111328125,0.009759187698364258,0.009269952774047852,0.008452177047729492,0.0095902681350708,0.011316299438476562,0.009043335914611816,0.00803983211517334,0.008833169937133789,0.01003420352935791,0.01053476333618164,0.00798642635345459,0.01028585433959961,0.010455846786499023,0.008359432220458984,0.007641315460205078,0.008878111839294434,0.009134769439697266,0.01045238971710205,0.00972592830657959,0.010192036628723145,0.010222554206848145,0.009713411331176758,0.008542537689208984,0.008979439735412598,0.00932157039642334,0.010493278503417969,0.009510993957519531,0.007669329643249512,0.008263945579528809,0.00943899154663086,0.008734583854675293,0.008465051651000977,0.0074939727783203125,0.009813070297241211,0.007085204124450684,0.008373379707336426,0.009657979011535645,0.007965087890625,0.007441878318786621,0.008325695991516113,0.008565425872802734,0.007982730865478516,0.007954597473144531,0.007044553756713867,0.007878899574279785,0.009130001068115234,0.008394122123718262,0.007132172584533691,0.008101940155029297,0.0060416460037231445,0.006268501281738281,0.007396221160888672,0.006689310073852539,0.006264805793762207,0.006882667541503906,0.007429838180541992,0.0066078901290893555,0.006015658378601074,0.006858348846435547,0.005520343780517578,0.005505800247192383,0.005770325660705566,0.006121158599853516,0.0055773258209228516,0.004999279975891113,0.005342602729797363],\"type\":\"scatter\"},{\"line\":{\"color\":\"green\",\"width\":2},\"mode\":\"lines\",\"name\":\"Test returns\",\"x\":[\"2024-02-01\",\"2024-03-01\",\"2024-04-01\",\"2024-05-01\",\"2024-06-01\",\"2024-07-01\",\"2024-08-01\"],\"y\":[0.005342602729797363,0.005371689796447754,0.005240440368652344,0.004844546318054199,0.005120635032653809,0.005012035369873047,0.004050016403198242],\"type\":\"scatter\"}],                        {\"template\":{\"data\":{\"barpolar\":[{\"marker\":{\"line\":{\"color\":\"white\",\"width\":0.5},\"pattern\":{\"fillmode\":\"overlay\",\"size\":10,\"solidity\":0.2}},\"type\":\"barpolar\"}],\"bar\":[{\"error_x\":{\"color\":\"#2a3f5f\"},\"error_y\":{\"color\":\"#2a3f5f\"},\"marker\":{\"line\":{\"color\":\"white\",\"width\":0.5},\"pattern\":{\"fillmode\":\"overlay\",\"size\":10,\"solidity\":0.2}},\"type\":\"bar\"}],\"carpet\":[{\"aaxis\":{\"endlinecolor\":\"#2a3f5f\",\"gridcolor\":\"#C8D4E3\",\"linecolor\":\"#C8D4E3\",\"minorgridcolor\":\"#C8D4E3\",\"startlinecolor\":\"#2a3f5f\"},\"baxis\":{\"endlinecolor\":\"#2a3f5f\",\"gridcolor\":\"#C8D4E3\",\"linecolor\":\"#C8D4E3\",\"minorgridcolor\":\"#C8D4E3\",\"startlinecolor\":\"#2a3f5f\"},\"type\":\"carpet\"}],\"choropleth\":[{\"colorbar\":{\"outlinewidth\":0,\"ticks\":\"\"},\"type\":\"choropleth\"}],\"contourcarpet\":[{\"colorbar\":{\"outlinewidth\":0,\"ticks\":\"\"},\"type\":\"contourcarpet\"}],\"contour\":[{\"colorbar\":{\"outlinewidth\":0,\"ticks\":\"\"},\"colorscale\":[[0.0,\"#0d0887\"],[0.1111111111111111,\"#46039f\"],[0.2222222222222222,\"#7201a8\"],[0.3333333333333333,\"#9c179e\"],[0.4444444444444444,\"#bd3786\"],[0.5555555555555556,\"#d8576b\"],[0.6666666666666666,\"#ed7953\"],[0.7777777777777778,\"#fb9f3a\"],[0.8888888888888888,\"#fdca26\"],[1.0,\"#f0f921\"]],\"type\":\"contour\"}],\"heatmapgl\":[{\"colorbar\":{\"outlinewidth\":0,\"ticks\":\"\"},\"colorscale\":[[0.0,\"#0d0887\"],[0.1111111111111111,\"#46039f\"],[0.2222222222222222,\"#7201a8\"],[0.3333333333333333,\"#9c179e\"],[0.4444444444444444,\"#bd3786\"],[0.5555555555555556,\"#d8576b\"],[0.6666666666666666,\"#ed7953\"],[0.7777777777777778,\"#fb9f3a\"],[0.8888888888888888,\"#fdca26\"],[1.0,\"#f0f921\"]],\"type\":\"heatmapgl\"}],\"heatmap\":[{\"colorbar\":{\"outlinewidth\":0,\"ticks\":\"\"},\"colorscale\":[[0.0,\"#0d0887\"],[0.1111111111111111,\"#46039f\"],[0.2222222222222222,\"#7201a8\"],[0.3333333333333333,\"#9c179e\"],[0.4444444444444444,\"#bd3786\"],[0.5555555555555556,\"#d8576b\"],[0.6666666666666666,\"#ed7953\"],[0.7777777777777778,\"#fb9f3a\"],[0.8888888888888888,\"#fdca26\"],[1.0,\"#f0f921\"]],\"type\":\"heatmap\"}],\"histogram2dcontour\":[{\"colorbar\":{\"outlinewidth\":0,\"ticks\":\"\"},\"colorscale\":[[0.0,\"#0d0887\"],[0.1111111111111111,\"#46039f\"],[0.2222222222222222,\"#7201a8\"],[0.3333333333333333,\"#9c179e\"],[0.4444444444444444,\"#bd3786\"],[0.5555555555555556,\"#d8576b\"],[0.6666666666666666,\"#ed7953\"],[0.7777777777777778,\"#fb9f3a\"],[0.8888888888888888,\"#fdca26\"],[1.0,\"#f0f921\"]],\"type\":\"histogram2dcontour\"}],\"histogram2d\":[{\"colorbar\":{\"outlinewidth\":0,\"ticks\":\"\"},\"colorscale\":[[0.0,\"#0d0887\"],[0.1111111111111111,\"#46039f\"],[0.2222222222222222,\"#7201a8\"],[0.3333333333333333,\"#9c179e\"],[0.4444444444444444,\"#bd3786\"],[0.5555555555555556,\"#d8576b\"],[0.6666666666666666,\"#ed7953\"],[0.7777777777777778,\"#fb9f3a\"],[0.8888888888888888,\"#fdca26\"],[1.0,\"#f0f921\"]],\"type\":\"histogram2d\"}],\"histogram\":[{\"marker\":{\"pattern\":{\"fillmode\":\"overlay\",\"size\":10,\"solidity\":0.2}},\"type\":\"histogram\"}],\"mesh3d\":[{\"colorbar\":{\"outlinewidth\":0,\"ticks\":\"\"},\"type\":\"mesh3d\"}],\"parcoords\":[{\"line\":{\"colorbar\":{\"outlinewidth\":0,\"ticks\":\"\"}},\"type\":\"parcoords\"}],\"pie\":[{\"automargin\":true,\"type\":\"pie\"}],\"scatter3d\":[{\"line\":{\"colorbar\":{\"outlinewidth\":0,\"ticks\":\"\"}},\"marker\":{\"colorbar\":{\"outlinewidth\":0,\"ticks\":\"\"}},\"type\":\"scatter3d\"}],\"scattercarpet\":[{\"marker\":{\"colorbar\":{\"outlinewidth\":0,\"ticks\":\"\"}},\"type\":\"scattercarpet\"}],\"scattergeo\":[{\"marker\":{\"colorbar\":{\"outlinewidth\":0,\"ticks\":\"\"}},\"type\":\"scattergeo\"}],\"scattergl\":[{\"marker\":{\"colorbar\":{\"outlinewidth\":0,\"ticks\":\"\"}},\"type\":\"scattergl\"}],\"scattermapbox\":[{\"marker\":{\"colorbar\":{\"outlinewidth\":0,\"ticks\":\"\"}},\"type\":\"scattermapbox\"}],\"scatterpolargl\":[{\"marker\":{\"colorbar\":{\"outlinewidth\":0,\"ticks\":\"\"}},\"type\":\"scatterpolargl\"}],\"scatterpolar\":[{\"marker\":{\"colorbar\":{\"outlinewidth\":0,\"ticks\":\"\"}},\"type\":\"scatterpolar\"}],\"scatter\":[{\"fillpattern\":{\"fillmode\":\"overlay\",\"size\":10,\"solidity\":0.2},\"type\":\"scatter\"}],\"scatterternary\":[{\"marker\":{\"colorbar\":{\"outlinewidth\":0,\"ticks\":\"\"}},\"type\":\"scatterternary\"}],\"surface\":[{\"colorbar\":{\"outlinewidth\":0,\"ticks\":\"\"},\"colorscale\":[[0.0,\"#0d0887\"],[0.1111111111111111,\"#46039f\"],[0.2222222222222222,\"#7201a8\"],[0.3333333333333333,\"#9c179e\"],[0.4444444444444444,\"#bd3786\"],[0.5555555555555556,\"#d8576b\"],[0.6666666666666666,\"#ed7953\"],[0.7777777777777778,\"#fb9f3a\"],[0.8888888888888888,\"#fdca26\"],[1.0,\"#f0f921\"]],\"type\":\"surface\"}],\"table\":[{\"cells\":{\"fill\":{\"color\":\"#EBF0F8\"},\"line\":{\"color\":\"white\"}},\"header\":{\"fill\":{\"color\":\"#C8D4E3\"},\"line\":{\"color\":\"white\"}},\"type\":\"table\"}]},\"layout\":{\"annotationdefaults\":{\"arrowcolor\":\"#2a3f5f\",\"arrowhead\":0,\"arrowwidth\":1},\"autotypenumbers\":\"strict\",\"coloraxis\":{\"colorbar\":{\"outlinewidth\":0,\"ticks\":\"\"}},\"colorscale\":{\"diverging\":[[0,\"#8e0152\"],[0.1,\"#c51b7d\"],[0.2,\"#de77ae\"],[0.3,\"#f1b6da\"],[0.4,\"#fde0ef\"],[0.5,\"#f7f7f7\"],[0.6,\"#e6f5d0\"],[0.7,\"#b8e186\"],[0.8,\"#7fbc41\"],[0.9,\"#4d9221\"],[1,\"#276419\"]],\"sequential\":[[0.0,\"#0d0887\"],[0.1111111111111111,\"#46039f\"],[0.2222222222222222,\"#7201a8\"],[0.3333333333333333,\"#9c179e\"],[0.4444444444444444,\"#bd3786\"],[0.5555555555555556,\"#d8576b\"],[0.6666666666666666,\"#ed7953\"],[0.7777777777777778,\"#fb9f3a\"],[0.8888888888888888,\"#fdca26\"],[1.0,\"#f0f921\"]],\"sequentialminus\":[[0.0,\"#0d0887\"],[0.1111111111111111,\"#46039f\"],[0.2222222222222222,\"#7201a8\"],[0.3333333333333333,\"#9c179e\"],[0.4444444444444444,\"#bd3786\"],[0.5555555555555556,\"#d8576b\"],[0.6666666666666666,\"#ed7953\"],[0.7777777777777778,\"#fb9f3a\"],[0.8888888888888888,\"#fdca26\"],[1.0,\"#f0f921\"]]},\"colorway\":[\"#636efa\",\"#EF553B\",\"#00cc96\",\"#ab63fa\",\"#FFA15A\",\"#19d3f3\",\"#FF6692\",\"#B6E880\",\"#FF97FF\",\"#FECB52\"],\"font\":{\"color\":\"#2a3f5f\"},\"geo\":{\"bgcolor\":\"white\",\"lakecolor\":\"white\",\"landcolor\":\"white\",\"showlakes\":true,\"showland\":true,\"subunitcolor\":\"#C8D4E3\"},\"hoverlabel\":{\"align\":\"left\"},\"hovermode\":\"closest\",\"mapbox\":{\"style\":\"light\"},\"paper_bgcolor\":\"white\",\"plot_bgcolor\":\"white\",\"polar\":{\"angularaxis\":{\"gridcolor\":\"#EBF0F8\",\"linecolor\":\"#EBF0F8\",\"ticks\":\"\"},\"bgcolor\":\"white\",\"radialaxis\":{\"gridcolor\":\"#EBF0F8\",\"linecolor\":\"#EBF0F8\",\"ticks\":\"\"}},\"scene\":{\"xaxis\":{\"backgroundcolor\":\"white\",\"gridcolor\":\"#DFE8F3\",\"gridwidth\":2,\"linecolor\":\"#EBF0F8\",\"showbackground\":true,\"ticks\":\"\",\"zerolinecolor\":\"#EBF0F8\"},\"yaxis\":{\"backgroundcolor\":\"white\",\"gridcolor\":\"#DFE8F3\",\"gridwidth\":2,\"linecolor\":\"#EBF0F8\",\"showbackground\":true,\"ticks\":\"\",\"zerolinecolor\":\"#EBF0F8\"},\"zaxis\":{\"backgroundcolor\":\"white\",\"gridcolor\":\"#DFE8F3\",\"gridwidth\":2,\"linecolor\":\"#EBF0F8\",\"showbackground\":true,\"ticks\":\"\",\"zerolinecolor\":\"#EBF0F8\"}},\"shapedefaults\":{\"line\":{\"color\":\"#2a3f5f\"}},\"ternary\":{\"aaxis\":{\"gridcolor\":\"#DFE8F3\",\"linecolor\":\"#A2B1C6\",\"ticks\":\"\"},\"baxis\":{\"gridcolor\":\"#DFE8F3\",\"linecolor\":\"#A2B1C6\",\"ticks\":\"\"},\"bgcolor\":\"white\",\"caxis\":{\"gridcolor\":\"#DFE8F3\",\"linecolor\":\"#A2B1C6\",\"ticks\":\"\"}},\"title\":{\"x\":0.05},\"xaxis\":{\"automargin\":true,\"gridcolor\":\"#EBF0F8\",\"linecolor\":\"#EBF0F8\",\"ticks\":\"\",\"title\":{\"standoff\":15},\"zerolinecolor\":\"#EBF0F8\",\"zerolinewidth\":2},\"yaxis\":{\"automargin\":true,\"gridcolor\":\"#EBF0F8\",\"linecolor\":\"#EBF0F8\",\"ticks\":\"\",\"title\":{\"standoff\":15},\"zerolinecolor\":\"#EBF0F8\",\"zerolinewidth\":2}}},\"shapes\":[{\"line\":{\"color\":\"red\",\"dash\":\"dash\",\"width\":1},\"type\":\"line\",\"x0\":\"2024-02-01\",\"x1\":\"2024-02-01\",\"xref\":\"x\",\"y0\":0,\"y1\":1,\"yref\":\"y domain\"}],\"yaxis\":{\"title\":{\"text\":\"Day closing return (%)\"},\"tickformat\":\".0%\",\"range\":[-0.25,0.6]},\"title\":{\"text\":\"6 Month Prediction vs Actual Plot\"},\"xaxis\":{\"title\":{\"text\":\"Date\"}},\"legend\":{\"title\":{\"text\":\"Legend\"}}},                        {\"responsive\": true}                    ).then(function(){\n",
       "                            \n",
       "var gd = document.getElementById('9c66335a-3398-4caa-90cb-f2920be637ea');\n",
       "var x = new MutationObserver(function (mutations, observer) {{\n",
       "        var display = window.getComputedStyle(gd).display;\n",
       "        if (!display || display === 'none') {{\n",
       "            console.log([gd, 'removed!']);\n",
       "            Plotly.purge(gd);\n",
       "            observer.disconnect();\n",
       "        }}\n",
       "}});\n",
       "\n",
       "// Listen for the removal of the full notebook cells\n",
       "var notebookContainer = gd.closest('#notebook-container');\n",
       "if (notebookContainer) {{\n",
       "    x.observe(notebookContainer, {childList: true});\n",
       "}}\n",
       "\n",
       "// Listen for the clearing of the current output cell\n",
       "var outputEl = gd.closest('.output');\n",
       "if (outputEl) {{\n",
       "    x.observe(outputEl, {childList: true});\n",
       "}}\n",
       "\n",
       "                        })                };                });            </script>        </div>"
      ]
     },
     "metadata": {},
     "output_type": "display_data"
    }
   ],
   "execution_count": 383
  },
  {
   "metadata": {},
   "cell_type": "markdown",
   "source": "#### Allocation",
   "id": "1148da093550c989"
  },
  {
   "metadata": {
    "ExecuteTime": {
     "end_time": "2025-06-15T15:48:51.276972Z",
     "start_time": "2025-06-15T15:48:51.218477Z"
    }
   },
   "cell_type": "code",
   "source": [
    "# Get train true values followed with predicted month/s\n",
    "y_train_6m_list = y_train_6m['m_return_target(t+6)'].tolist()\n",
    "y_pred_6m_list = y_test_pred_6m.tolist()\n",
    "#\n",
    "df_to_evaluate_6m = mpt_utils.get_df_from_pred_list(df_pct, y_train_1m_list, y_pred_6m_list)\n",
    "df_to_evaluate_6m = df_to_evaluate_6m - 1\n",
    "df_to_evaluate_6m.head(3)"
   ],
   "id": "d761352c52ff61eb",
   "outputs": [
    {
     "data": {
      "text/plain": [
       "    GME  2124.T  2491.T  2471.T  3046.T  PAT.DE  CROX  AOF.DE  SFQ.DE   DAN  \\\n",
       "0  0.00   -0.16   -0.11    0.00    0.00    0.00  0.00   -0.27    0.00  0.00   \n",
       "1  0.00   -0.50   -0.20   -0.47   -0.06   -0.36 -0.14    0.28   -0.10  0.00   \n",
       "2  0.03    0.01   -0.27   -0.25    0.00   -0.29 -0.30   -0.16   -0.11 -0.14   \n",
       "\n",
       "   ...  KREF  HLN.L   DBX   BNL   CBL  KVUE  PSTL  NTST  BLCO  NBS.L  \n",
       "0  ...  0.00    0.0  0.00  0.00  0.00   0.0   0.0  0.00   0.0   0.00  \n",
       "1  ...  0.03    0.0  0.01  0.00 -0.04   0.0   0.0  0.00   0.0  -0.01  \n",
       "2  ...  0.00    0.0  0.00 -0.05  0.00   0.0   0.0 -0.03   0.0  -0.03  \n",
       "\n",
       "[3 rows x 1332 columns]"
      ],
      "text/html": [
       "<div>\n",
       "<style scoped>\n",
       "    .dataframe tbody tr th:only-of-type {\n",
       "        vertical-align: middle;\n",
       "    }\n",
       "\n",
       "    .dataframe tbody tr th {\n",
       "        vertical-align: top;\n",
       "    }\n",
       "\n",
       "    .dataframe thead th {\n",
       "        text-align: right;\n",
       "    }\n",
       "</style>\n",
       "<table border=\"1\" class=\"dataframe\">\n",
       "  <thead>\n",
       "    <tr style=\"text-align: right;\">\n",
       "      <th></th>\n",
       "      <th>GME</th>\n",
       "      <th>2124.T</th>\n",
       "      <th>2491.T</th>\n",
       "      <th>2471.T</th>\n",
       "      <th>3046.T</th>\n",
       "      <th>PAT.DE</th>\n",
       "      <th>CROX</th>\n",
       "      <th>AOF.DE</th>\n",
       "      <th>SFQ.DE</th>\n",
       "      <th>DAN</th>\n",
       "      <th>...</th>\n",
       "      <th>KREF</th>\n",
       "      <th>HLN.L</th>\n",
       "      <th>DBX</th>\n",
       "      <th>BNL</th>\n",
       "      <th>CBL</th>\n",
       "      <th>KVUE</th>\n",
       "      <th>PSTL</th>\n",
       "      <th>NTST</th>\n",
       "      <th>BLCO</th>\n",
       "      <th>NBS.L</th>\n",
       "    </tr>\n",
       "  </thead>\n",
       "  <tbody>\n",
       "    <tr>\n",
       "      <th>0</th>\n",
       "      <td>0.00</td>\n",
       "      <td>-0.16</td>\n",
       "      <td>-0.11</td>\n",
       "      <td>0.00</td>\n",
       "      <td>0.00</td>\n",
       "      <td>0.00</td>\n",
       "      <td>0.00</td>\n",
       "      <td>-0.27</td>\n",
       "      <td>0.00</td>\n",
       "      <td>0.00</td>\n",
       "      <td>...</td>\n",
       "      <td>0.00</td>\n",
       "      <td>0.0</td>\n",
       "      <td>0.00</td>\n",
       "      <td>0.00</td>\n",
       "      <td>0.00</td>\n",
       "      <td>0.0</td>\n",
       "      <td>0.0</td>\n",
       "      <td>0.00</td>\n",
       "      <td>0.0</td>\n",
       "      <td>0.00</td>\n",
       "    </tr>\n",
       "    <tr>\n",
       "      <th>1</th>\n",
       "      <td>0.00</td>\n",
       "      <td>-0.50</td>\n",
       "      <td>-0.20</td>\n",
       "      <td>-0.47</td>\n",
       "      <td>-0.06</td>\n",
       "      <td>-0.36</td>\n",
       "      <td>-0.14</td>\n",
       "      <td>0.28</td>\n",
       "      <td>-0.10</td>\n",
       "      <td>0.00</td>\n",
       "      <td>...</td>\n",
       "      <td>0.03</td>\n",
       "      <td>0.0</td>\n",
       "      <td>0.01</td>\n",
       "      <td>0.00</td>\n",
       "      <td>-0.04</td>\n",
       "      <td>0.0</td>\n",
       "      <td>0.0</td>\n",
       "      <td>0.00</td>\n",
       "      <td>0.0</td>\n",
       "      <td>-0.01</td>\n",
       "    </tr>\n",
       "    <tr>\n",
       "      <th>2</th>\n",
       "      <td>0.03</td>\n",
       "      <td>0.01</td>\n",
       "      <td>-0.27</td>\n",
       "      <td>-0.25</td>\n",
       "      <td>0.00</td>\n",
       "      <td>-0.29</td>\n",
       "      <td>-0.30</td>\n",
       "      <td>-0.16</td>\n",
       "      <td>-0.11</td>\n",
       "      <td>-0.14</td>\n",
       "      <td>...</td>\n",
       "      <td>0.00</td>\n",
       "      <td>0.0</td>\n",
       "      <td>0.00</td>\n",
       "      <td>-0.05</td>\n",
       "      <td>0.00</td>\n",
       "      <td>0.0</td>\n",
       "      <td>0.0</td>\n",
       "      <td>-0.03</td>\n",
       "      <td>0.0</td>\n",
       "      <td>-0.03</td>\n",
       "    </tr>\n",
       "  </tbody>\n",
       "</table>\n",
       "<p>3 rows × 1332 columns</p>\n",
       "</div>"
      ]
     },
     "execution_count": 384,
     "metadata": {},
     "output_type": "execute_result"
    }
   ],
   "execution_count": 384
  },
  {
   "metadata": {},
   "cell_type": "markdown",
   "source": [
    "In order for Mean-Variance Optimisation to create an optimal portfolio, by allocation to the best performing tickers, \n",
    "based on their weight and price. Predicted return and those being evaluated have to be adopted to the actual prices."
   ],
   "id": "e45f090c6f6ff0e9"
  },
  {
   "metadata": {
    "ExecuteTime": {
     "end_time": "2025-06-15T15:48:57.424936Z",
     "start_time": "2025-06-15T15:48:51.282791Z"
    }
   },
   "cell_type": "code",
   "source": [
    "importlib.reload(mpt_utils)\n",
    "\n",
    "weights_6m, mu_6m, S_6m, weights_all_6m = mpt_utils.portfolio_and_plot(df_to_evaluate_6m, df, plot_threshold=0.015)"
   ],
   "id": "625e784b3069ce09",
   "outputs": [
    {
     "name": "stdout",
     "output_type": "stream",
     "text": [
      "Expected annual return: 21.2%\n",
      "Annual volatility: 5.1%\n",
      "Sharpe Ratio: 3.75\n",
      "-- Allocation --\n",
      "{'HAE': 1, 'KBR': 1, 'NL': 11, '6736.T': 2, '8972.T': 1, 'BYG.L': 1, 'DORM': 1, '8022.T': 1, '8012.T': 2, 'CSR': 1, 'TAL': 12, '3659.T': 2, '2692.T': 1, 'BOOT': 1, 'MDB': 1, 'DAR': 1, 'SMTC': 1, '9107.T': 4, '7483.T': 2, '6055.T': 4, 'TRU': 1, 'OMCL': 1, 'MMSI': 1, 'LULU': 1, '6758.T': 1, 'CVNA': 1, 'GROW.L': 1, 'BYW6.DE': 3, '6417.T': 4, '7419.T': 4, 'GLW': 1, '7476.T': 2, 'PLUS.L': 1, '4568.T': 1, '7911.T': 1, '5991.T': 4, 'TTC': 1, '7988.T': 1, 'GFT.DE': 1, '8282.T': 3, '6845.T': 1, 'TPE.DE': 3, '3132.T': 1, '3608.T': 4, 'ICHR': 2, '2760.T': 2, '8129.T': 1, '7718.T': 2, '9104.T': 1, '7613.T': 5, 'ENR.DE': 2, '8173.T': 1, '7868.T': 13, '9470.T': 5, 'AY': 1, '9790.T': 1, '2733.T': 1, 'VNA.DE': 1, '5332.T': 1, '8876.T': 2, '9729.T': 2, '3738.T': 1, '4301.T': 3, '6951.T': 1, '8150.T': 2, '6651.T': 1, 'SLP': 1, '6460.T': 1, '9869.T': 1, '8151.T': 3, '6744.T': 2, '9882.T': 1, '2784.T': 1, '9364.T': 1, '7459.T': 1, '8056.T': 1, '7994.T': 2, '6915.T': 1, '7832.T': 1, 'MEI': 2, 'RELL': 1, '2433.T': 3, '8014.T': 1, 'HR': 1, '7906.T': 1, '8084.T': 1, 'WMG': 1, '4326.T': 2, '9605.T': 1, '8130.T': 1, 'PRO': 1, '7732.T': 3, 'AMKR': 1, 'TRTX': 3, '8008.T': 1, 'KD': 1, '4369.T': 1, '7552.T': 1, '6750.T': 2, '2475.T': 1, '4732.T': 2, 'NOEJ.DE': 1, '4218.T': 1, '7740.T': 1, '7936.T': 1, '9757.T': 1, 'EOAN.DE': 1, '2331.T': 2, '2767.T': 1, 'TTK.DE': 1, 'IRT': 1, 'DAKT': 1, 'PTVE': 2, '5101.T': 1, '2790.T': 1, '7220.T': 1, 'AHH': 1, '9143.T': 1, '3151.T': 2, 'HST': 1, 'EFC': 1, '2715.T': 1, '4619.T': 2, '2429.T': 1, '5988.T': 1, '9260.T': 1, '7990.T': 1, '5970.T': 1, '2491.T': 1, 'AOX.DE': 5, '7239.T': 1, '7752.T': 1, '7780.T': 1, 'DHC': 5, '7593.T': 3, '7893.T': 1, '6183.T': 1, 'UAA': 1, '2471.T': 4, '7575.T': 1, '7955.T': 2, '3050.T': 1, '9474.T': 1, '4745.T': 2, '6644.T': 1, '8897.T': 1}\n",
      "-- Weights Percentage --\n",
      "{'6736.T': 0.0157, 'DORM': 0.0153, 'NL': 0.0175, 'BYG.L': 0.0153, 'KBR': 0.0175, '8972.T': 0.0153, 'HAE': 0.0175, '8022.T': 0.0151, 'Other(138)': 0.8707}\n"
     ]
    },
    {
     "name": "stderr",
     "output_type": "stream",
     "text": [
      "/Users/herbishtini/anaconda3/envs/portfolio_optimisation/lib/python3.11/site-packages/pypfopt/discrete_allocation.py:27: FutureWarning:\n",
      "\n",
      "Downcasting object dtype arrays on .fillna, .ffill, .bfill is deprecated and will change in a future version. Call result.infer_objects(copy=False) instead. To opt-in to the future behavior, set `pd.set_option('future.no_silent_downcasting', True)`\n",
      "\n"
     ]
    },
    {
     "data": {
      "application/vnd.plotly.v1+json": {
       "data": [
        {
         "hole": 0.3,
         "insidetextorientation": "radial",
         "labels": [
          "6736.T",
          "DORM",
          "NL",
          "BYG.L",
          "KBR",
          "8972.T",
          "HAE",
          "8022.T",
          "Other(138)"
         ],
         "textinfo": "label+percent",
         "textposition": "inside",
         "values": [
          0.007,
          0.0068,
          0.0078,
          0.0068,
          0.0078,
          0.0068,
          0.0078,
          0.0067,
          0.3871
         ],
         "type": "pie"
        }
       ],
       "layout": {
        "template": {
         "data": {
          "histogram2dcontour": [
           {
            "type": "histogram2dcontour",
            "colorbar": {
             "outlinewidth": 0,
             "ticks": ""
            },
            "colorscale": [
             [
              0.0,
              "#0d0887"
             ],
             [
              0.1111111111111111,
              "#46039f"
             ],
             [
              0.2222222222222222,
              "#7201a8"
             ],
             [
              0.3333333333333333,
              "#9c179e"
             ],
             [
              0.4444444444444444,
              "#bd3786"
             ],
             [
              0.5555555555555556,
              "#d8576b"
             ],
             [
              0.6666666666666666,
              "#ed7953"
             ],
             [
              0.7777777777777778,
              "#fb9f3a"
             ],
             [
              0.8888888888888888,
              "#fdca26"
             ],
             [
              1.0,
              "#f0f921"
             ]
            ]
           }
          ],
          "choropleth": [
           {
            "type": "choropleth",
            "colorbar": {
             "outlinewidth": 0,
             "ticks": ""
            }
           }
          ],
          "histogram2d": [
           {
            "type": "histogram2d",
            "colorbar": {
             "outlinewidth": 0,
             "ticks": ""
            },
            "colorscale": [
             [
              0.0,
              "#0d0887"
             ],
             [
              0.1111111111111111,
              "#46039f"
             ],
             [
              0.2222222222222222,
              "#7201a8"
             ],
             [
              0.3333333333333333,
              "#9c179e"
             ],
             [
              0.4444444444444444,
              "#bd3786"
             ],
             [
              0.5555555555555556,
              "#d8576b"
             ],
             [
              0.6666666666666666,
              "#ed7953"
             ],
             [
              0.7777777777777778,
              "#fb9f3a"
             ],
             [
              0.8888888888888888,
              "#fdca26"
             ],
             [
              1.0,
              "#f0f921"
             ]
            ]
           }
          ],
          "heatmap": [
           {
            "type": "heatmap",
            "colorbar": {
             "outlinewidth": 0,
             "ticks": ""
            },
            "colorscale": [
             [
              0.0,
              "#0d0887"
             ],
             [
              0.1111111111111111,
              "#46039f"
             ],
             [
              0.2222222222222222,
              "#7201a8"
             ],
             [
              0.3333333333333333,
              "#9c179e"
             ],
             [
              0.4444444444444444,
              "#bd3786"
             ],
             [
              0.5555555555555556,
              "#d8576b"
             ],
             [
              0.6666666666666666,
              "#ed7953"
             ],
             [
              0.7777777777777778,
              "#fb9f3a"
             ],
             [
              0.8888888888888888,
              "#fdca26"
             ],
             [
              1.0,
              "#f0f921"
             ]
            ]
           }
          ],
          "heatmapgl": [
           {
            "type": "heatmapgl",
            "colorbar": {
             "outlinewidth": 0,
             "ticks": ""
            },
            "colorscale": [
             [
              0.0,
              "#0d0887"
             ],
             [
              0.1111111111111111,
              "#46039f"
             ],
             [
              0.2222222222222222,
              "#7201a8"
             ],
             [
              0.3333333333333333,
              "#9c179e"
             ],
             [
              0.4444444444444444,
              "#bd3786"
             ],
             [
              0.5555555555555556,
              "#d8576b"
             ],
             [
              0.6666666666666666,
              "#ed7953"
             ],
             [
              0.7777777777777778,
              "#fb9f3a"
             ],
             [
              0.8888888888888888,
              "#fdca26"
             ],
             [
              1.0,
              "#f0f921"
             ]
            ]
           }
          ],
          "contourcarpet": [
           {
            "type": "contourcarpet",
            "colorbar": {
             "outlinewidth": 0,
             "ticks": ""
            }
           }
          ],
          "contour": [
           {
            "type": "contour",
            "colorbar": {
             "outlinewidth": 0,
             "ticks": ""
            },
            "colorscale": [
             [
              0.0,
              "#0d0887"
             ],
             [
              0.1111111111111111,
              "#46039f"
             ],
             [
              0.2222222222222222,
              "#7201a8"
             ],
             [
              0.3333333333333333,
              "#9c179e"
             ],
             [
              0.4444444444444444,
              "#bd3786"
             ],
             [
              0.5555555555555556,
              "#d8576b"
             ],
             [
              0.6666666666666666,
              "#ed7953"
             ],
             [
              0.7777777777777778,
              "#fb9f3a"
             ],
             [
              0.8888888888888888,
              "#fdca26"
             ],
             [
              1.0,
              "#f0f921"
             ]
            ]
           }
          ],
          "surface": [
           {
            "type": "surface",
            "colorbar": {
             "outlinewidth": 0,
             "ticks": ""
            },
            "colorscale": [
             [
              0.0,
              "#0d0887"
             ],
             [
              0.1111111111111111,
              "#46039f"
             ],
             [
              0.2222222222222222,
              "#7201a8"
             ],
             [
              0.3333333333333333,
              "#9c179e"
             ],
             [
              0.4444444444444444,
              "#bd3786"
             ],
             [
              0.5555555555555556,
              "#d8576b"
             ],
             [
              0.6666666666666666,
              "#ed7953"
             ],
             [
              0.7777777777777778,
              "#fb9f3a"
             ],
             [
              0.8888888888888888,
              "#fdca26"
             ],
             [
              1.0,
              "#f0f921"
             ]
            ]
           }
          ],
          "mesh3d": [
           {
            "type": "mesh3d",
            "colorbar": {
             "outlinewidth": 0,
             "ticks": ""
            }
           }
          ],
          "scatter": [
           {
            "fillpattern": {
             "fillmode": "overlay",
             "size": 10,
             "solidity": 0.2
            },
            "type": "scatter"
           }
          ],
          "parcoords": [
           {
            "type": "parcoords",
            "line": {
             "colorbar": {
              "outlinewidth": 0,
              "ticks": ""
             }
            }
           }
          ],
          "scatterpolargl": [
           {
            "type": "scatterpolargl",
            "marker": {
             "colorbar": {
              "outlinewidth": 0,
              "ticks": ""
             }
            }
           }
          ],
          "bar": [
           {
            "error_x": {
             "color": "#2a3f5f"
            },
            "error_y": {
             "color": "#2a3f5f"
            },
            "marker": {
             "line": {
              "color": "#E5ECF6",
              "width": 0.5
             },
             "pattern": {
              "fillmode": "overlay",
              "size": 10,
              "solidity": 0.2
             }
            },
            "type": "bar"
           }
          ],
          "scattergeo": [
           {
            "type": "scattergeo",
            "marker": {
             "colorbar": {
              "outlinewidth": 0,
              "ticks": ""
             }
            }
           }
          ],
          "scatterpolar": [
           {
            "type": "scatterpolar",
            "marker": {
             "colorbar": {
              "outlinewidth": 0,
              "ticks": ""
             }
            }
           }
          ],
          "histogram": [
           {
            "marker": {
             "pattern": {
              "fillmode": "overlay",
              "size": 10,
              "solidity": 0.2
             }
            },
            "type": "histogram"
           }
          ],
          "scattergl": [
           {
            "type": "scattergl",
            "marker": {
             "colorbar": {
              "outlinewidth": 0,
              "ticks": ""
             }
            }
           }
          ],
          "scatter3d": [
           {
            "type": "scatter3d",
            "line": {
             "colorbar": {
              "outlinewidth": 0,
              "ticks": ""
             }
            },
            "marker": {
             "colorbar": {
              "outlinewidth": 0,
              "ticks": ""
             }
            }
           }
          ],
          "scattermapbox": [
           {
            "type": "scattermapbox",
            "marker": {
             "colorbar": {
              "outlinewidth": 0,
              "ticks": ""
             }
            }
           }
          ],
          "scatterternary": [
           {
            "type": "scatterternary",
            "marker": {
             "colorbar": {
              "outlinewidth": 0,
              "ticks": ""
             }
            }
           }
          ],
          "scattercarpet": [
           {
            "type": "scattercarpet",
            "marker": {
             "colorbar": {
              "outlinewidth": 0,
              "ticks": ""
             }
            }
           }
          ],
          "carpet": [
           {
            "aaxis": {
             "endlinecolor": "#2a3f5f",
             "gridcolor": "white",
             "linecolor": "white",
             "minorgridcolor": "white",
             "startlinecolor": "#2a3f5f"
            },
            "baxis": {
             "endlinecolor": "#2a3f5f",
             "gridcolor": "white",
             "linecolor": "white",
             "minorgridcolor": "white",
             "startlinecolor": "#2a3f5f"
            },
            "type": "carpet"
           }
          ],
          "table": [
           {
            "cells": {
             "fill": {
              "color": "#EBF0F8"
             },
             "line": {
              "color": "white"
             }
            },
            "header": {
             "fill": {
              "color": "#C8D4E3"
             },
             "line": {
              "color": "white"
             }
            },
            "type": "table"
           }
          ],
          "barpolar": [
           {
            "marker": {
             "line": {
              "color": "#E5ECF6",
              "width": 0.5
             },
             "pattern": {
              "fillmode": "overlay",
              "size": 10,
              "solidity": 0.2
             }
            },
            "type": "barpolar"
           }
          ],
          "pie": [
           {
            "automargin": true,
            "type": "pie"
           }
          ]
         },
         "layout": {
          "autotypenumbers": "strict",
          "colorway": [
           "#636efa",
           "#EF553B",
           "#00cc96",
           "#ab63fa",
           "#FFA15A",
           "#19d3f3",
           "#FF6692",
           "#B6E880",
           "#FF97FF",
           "#FECB52"
          ],
          "font": {
           "color": "#2a3f5f"
          },
          "hovermode": "closest",
          "hoverlabel": {
           "align": "left"
          },
          "paper_bgcolor": "white",
          "plot_bgcolor": "#E5ECF6",
          "polar": {
           "bgcolor": "#E5ECF6",
           "angularaxis": {
            "gridcolor": "white",
            "linecolor": "white",
            "ticks": ""
           },
           "radialaxis": {
            "gridcolor": "white",
            "linecolor": "white",
            "ticks": ""
           }
          },
          "ternary": {
           "bgcolor": "#E5ECF6",
           "aaxis": {
            "gridcolor": "white",
            "linecolor": "white",
            "ticks": ""
           },
           "baxis": {
            "gridcolor": "white",
            "linecolor": "white",
            "ticks": ""
           },
           "caxis": {
            "gridcolor": "white",
            "linecolor": "white",
            "ticks": ""
           }
          },
          "coloraxis": {
           "colorbar": {
            "outlinewidth": 0,
            "ticks": ""
           }
          },
          "colorscale": {
           "sequential": [
            [
             0.0,
             "#0d0887"
            ],
            [
             0.1111111111111111,
             "#46039f"
            ],
            [
             0.2222222222222222,
             "#7201a8"
            ],
            [
             0.3333333333333333,
             "#9c179e"
            ],
            [
             0.4444444444444444,
             "#bd3786"
            ],
            [
             0.5555555555555556,
             "#d8576b"
            ],
            [
             0.6666666666666666,
             "#ed7953"
            ],
            [
             0.7777777777777778,
             "#fb9f3a"
            ],
            [
             0.8888888888888888,
             "#fdca26"
            ],
            [
             1.0,
             "#f0f921"
            ]
           ],
           "sequentialminus": [
            [
             0.0,
             "#0d0887"
            ],
            [
             0.1111111111111111,
             "#46039f"
            ],
            [
             0.2222222222222222,
             "#7201a8"
            ],
            [
             0.3333333333333333,
             "#9c179e"
            ],
            [
             0.4444444444444444,
             "#bd3786"
            ],
            [
             0.5555555555555556,
             "#d8576b"
            ],
            [
             0.6666666666666666,
             "#ed7953"
            ],
            [
             0.7777777777777778,
             "#fb9f3a"
            ],
            [
             0.8888888888888888,
             "#fdca26"
            ],
            [
             1.0,
             "#f0f921"
            ]
           ],
           "diverging": [
            [
             0,
             "#8e0152"
            ],
            [
             0.1,
             "#c51b7d"
            ],
            [
             0.2,
             "#de77ae"
            ],
            [
             0.3,
             "#f1b6da"
            ],
            [
             0.4,
             "#fde0ef"
            ],
            [
             0.5,
             "#f7f7f7"
            ],
            [
             0.6,
             "#e6f5d0"
            ],
            [
             0.7,
             "#b8e186"
            ],
            [
             0.8,
             "#7fbc41"
            ],
            [
             0.9,
             "#4d9221"
            ],
            [
             1,
             "#276419"
            ]
           ]
          },
          "xaxis": {
           "gridcolor": "white",
           "linecolor": "white",
           "ticks": "",
           "title": {
            "standoff": 15
           },
           "zerolinecolor": "white",
           "automargin": true,
           "zerolinewidth": 2
          },
          "yaxis": {
           "gridcolor": "white",
           "linecolor": "white",
           "ticks": "",
           "title": {
            "standoff": 15
           },
           "zerolinecolor": "white",
           "automargin": true,
           "zerolinewidth": 2
          },
          "scene": {
           "xaxis": {
            "backgroundcolor": "#E5ECF6",
            "gridcolor": "white",
            "linecolor": "white",
            "showbackground": true,
            "ticks": "",
            "zerolinecolor": "white",
            "gridwidth": 2
           },
           "yaxis": {
            "backgroundcolor": "#E5ECF6",
            "gridcolor": "white",
            "linecolor": "white",
            "showbackground": true,
            "ticks": "",
            "zerolinecolor": "white",
            "gridwidth": 2
           },
           "zaxis": {
            "backgroundcolor": "#E5ECF6",
            "gridcolor": "white",
            "linecolor": "white",
            "showbackground": true,
            "ticks": "",
            "zerolinecolor": "white",
            "gridwidth": 2
           }
          },
          "shapedefaults": {
           "line": {
            "color": "#2a3f5f"
           }
          },
          "annotationdefaults": {
           "arrowcolor": "#2a3f5f",
           "arrowhead": 0,
           "arrowwidth": 1
          },
          "geo": {
           "bgcolor": "white",
           "landcolor": "#E5ECF6",
           "subunitcolor": "white",
           "showland": true,
           "showlakes": true,
           "lakecolor": "white"
          },
          "title": {
           "x": 0.05
          },
          "mapbox": {
           "style": "light"
          }
         }
        },
        "margin": {
         "l": 20,
         "r": 20,
         "t": 20,
         "b": 20
        },
        "font": {
         "color": "black"
        },
        "height": 600,
        "width": 600,
        "paper_bgcolor": "white",
        "plot_bgcolor": "white",
        "showlegend": false
       },
       "config": {
        "plotlyServerURL": "https://plot.ly"
       }
      },
      "text/html": [
       "<div>                            <div id=\"007bb2ce-ecde-4c5f-ad76-c9551d8ec0b7\" class=\"plotly-graph-div\" style=\"height:600px; width:600px;\"></div>            <script type=\"text/javascript\">                require([\"plotly\"], function(Plotly) {                    window.PLOTLYENV=window.PLOTLYENV || {};                                    if (document.getElementById(\"007bb2ce-ecde-4c5f-ad76-c9551d8ec0b7\")) {                    Plotly.newPlot(                        \"007bb2ce-ecde-4c5f-ad76-c9551d8ec0b7\",                        [{\"hole\":0.3,\"insidetextorientation\":\"radial\",\"labels\":[\"6736.T\",\"DORM\",\"NL\",\"BYG.L\",\"KBR\",\"8972.T\",\"HAE\",\"8022.T\",\"Other(138)\"],\"textinfo\":\"label+percent\",\"textposition\":\"inside\",\"values\":[0.007,0.0068,0.0078,0.0068,0.0078,0.0068,0.0078,0.0067,0.3871],\"type\":\"pie\"}],                        {\"template\":{\"data\":{\"histogram2dcontour\":[{\"type\":\"histogram2dcontour\",\"colorbar\":{\"outlinewidth\":0,\"ticks\":\"\"},\"colorscale\":[[0.0,\"#0d0887\"],[0.1111111111111111,\"#46039f\"],[0.2222222222222222,\"#7201a8\"],[0.3333333333333333,\"#9c179e\"],[0.4444444444444444,\"#bd3786\"],[0.5555555555555556,\"#d8576b\"],[0.6666666666666666,\"#ed7953\"],[0.7777777777777778,\"#fb9f3a\"],[0.8888888888888888,\"#fdca26\"],[1.0,\"#f0f921\"]]}],\"choropleth\":[{\"type\":\"choropleth\",\"colorbar\":{\"outlinewidth\":0,\"ticks\":\"\"}}],\"histogram2d\":[{\"type\":\"histogram2d\",\"colorbar\":{\"outlinewidth\":0,\"ticks\":\"\"},\"colorscale\":[[0.0,\"#0d0887\"],[0.1111111111111111,\"#46039f\"],[0.2222222222222222,\"#7201a8\"],[0.3333333333333333,\"#9c179e\"],[0.4444444444444444,\"#bd3786\"],[0.5555555555555556,\"#d8576b\"],[0.6666666666666666,\"#ed7953\"],[0.7777777777777778,\"#fb9f3a\"],[0.8888888888888888,\"#fdca26\"],[1.0,\"#f0f921\"]]}],\"heatmap\":[{\"type\":\"heatmap\",\"colorbar\":{\"outlinewidth\":0,\"ticks\":\"\"},\"colorscale\":[[0.0,\"#0d0887\"],[0.1111111111111111,\"#46039f\"],[0.2222222222222222,\"#7201a8\"],[0.3333333333333333,\"#9c179e\"],[0.4444444444444444,\"#bd3786\"],[0.5555555555555556,\"#d8576b\"],[0.6666666666666666,\"#ed7953\"],[0.7777777777777778,\"#fb9f3a\"],[0.8888888888888888,\"#fdca26\"],[1.0,\"#f0f921\"]]}],\"heatmapgl\":[{\"type\":\"heatmapgl\",\"colorbar\":{\"outlinewidth\":0,\"ticks\":\"\"},\"colorscale\":[[0.0,\"#0d0887\"],[0.1111111111111111,\"#46039f\"],[0.2222222222222222,\"#7201a8\"],[0.3333333333333333,\"#9c179e\"],[0.4444444444444444,\"#bd3786\"],[0.5555555555555556,\"#d8576b\"],[0.6666666666666666,\"#ed7953\"],[0.7777777777777778,\"#fb9f3a\"],[0.8888888888888888,\"#fdca26\"],[1.0,\"#f0f921\"]]}],\"contourcarpet\":[{\"type\":\"contourcarpet\",\"colorbar\":{\"outlinewidth\":0,\"ticks\":\"\"}}],\"contour\":[{\"type\":\"contour\",\"colorbar\":{\"outlinewidth\":0,\"ticks\":\"\"},\"colorscale\":[[0.0,\"#0d0887\"],[0.1111111111111111,\"#46039f\"],[0.2222222222222222,\"#7201a8\"],[0.3333333333333333,\"#9c179e\"],[0.4444444444444444,\"#bd3786\"],[0.5555555555555556,\"#d8576b\"],[0.6666666666666666,\"#ed7953\"],[0.7777777777777778,\"#fb9f3a\"],[0.8888888888888888,\"#fdca26\"],[1.0,\"#f0f921\"]]}],\"surface\":[{\"type\":\"surface\",\"colorbar\":{\"outlinewidth\":0,\"ticks\":\"\"},\"colorscale\":[[0.0,\"#0d0887\"],[0.1111111111111111,\"#46039f\"],[0.2222222222222222,\"#7201a8\"],[0.3333333333333333,\"#9c179e\"],[0.4444444444444444,\"#bd3786\"],[0.5555555555555556,\"#d8576b\"],[0.6666666666666666,\"#ed7953\"],[0.7777777777777778,\"#fb9f3a\"],[0.8888888888888888,\"#fdca26\"],[1.0,\"#f0f921\"]]}],\"mesh3d\":[{\"type\":\"mesh3d\",\"colorbar\":{\"outlinewidth\":0,\"ticks\":\"\"}}],\"scatter\":[{\"fillpattern\":{\"fillmode\":\"overlay\",\"size\":10,\"solidity\":0.2},\"type\":\"scatter\"}],\"parcoords\":[{\"type\":\"parcoords\",\"line\":{\"colorbar\":{\"outlinewidth\":0,\"ticks\":\"\"}}}],\"scatterpolargl\":[{\"type\":\"scatterpolargl\",\"marker\":{\"colorbar\":{\"outlinewidth\":0,\"ticks\":\"\"}}}],\"bar\":[{\"error_x\":{\"color\":\"#2a3f5f\"},\"error_y\":{\"color\":\"#2a3f5f\"},\"marker\":{\"line\":{\"color\":\"#E5ECF6\",\"width\":0.5},\"pattern\":{\"fillmode\":\"overlay\",\"size\":10,\"solidity\":0.2}},\"type\":\"bar\"}],\"scattergeo\":[{\"type\":\"scattergeo\",\"marker\":{\"colorbar\":{\"outlinewidth\":0,\"ticks\":\"\"}}}],\"scatterpolar\":[{\"type\":\"scatterpolar\",\"marker\":{\"colorbar\":{\"outlinewidth\":0,\"ticks\":\"\"}}}],\"histogram\":[{\"marker\":{\"pattern\":{\"fillmode\":\"overlay\",\"size\":10,\"solidity\":0.2}},\"type\":\"histogram\"}],\"scattergl\":[{\"type\":\"scattergl\",\"marker\":{\"colorbar\":{\"outlinewidth\":0,\"ticks\":\"\"}}}],\"scatter3d\":[{\"type\":\"scatter3d\",\"line\":{\"colorbar\":{\"outlinewidth\":0,\"ticks\":\"\"}},\"marker\":{\"colorbar\":{\"outlinewidth\":0,\"ticks\":\"\"}}}],\"scattermapbox\":[{\"type\":\"scattermapbox\",\"marker\":{\"colorbar\":{\"outlinewidth\":0,\"ticks\":\"\"}}}],\"scatterternary\":[{\"type\":\"scatterternary\",\"marker\":{\"colorbar\":{\"outlinewidth\":0,\"ticks\":\"\"}}}],\"scattercarpet\":[{\"type\":\"scattercarpet\",\"marker\":{\"colorbar\":{\"outlinewidth\":0,\"ticks\":\"\"}}}],\"carpet\":[{\"aaxis\":{\"endlinecolor\":\"#2a3f5f\",\"gridcolor\":\"white\",\"linecolor\":\"white\",\"minorgridcolor\":\"white\",\"startlinecolor\":\"#2a3f5f\"},\"baxis\":{\"endlinecolor\":\"#2a3f5f\",\"gridcolor\":\"white\",\"linecolor\":\"white\",\"minorgridcolor\":\"white\",\"startlinecolor\":\"#2a3f5f\"},\"type\":\"carpet\"}],\"table\":[{\"cells\":{\"fill\":{\"color\":\"#EBF0F8\"},\"line\":{\"color\":\"white\"}},\"header\":{\"fill\":{\"color\":\"#C8D4E3\"},\"line\":{\"color\":\"white\"}},\"type\":\"table\"}],\"barpolar\":[{\"marker\":{\"line\":{\"color\":\"#E5ECF6\",\"width\":0.5},\"pattern\":{\"fillmode\":\"overlay\",\"size\":10,\"solidity\":0.2}},\"type\":\"barpolar\"}],\"pie\":[{\"automargin\":true,\"type\":\"pie\"}]},\"layout\":{\"autotypenumbers\":\"strict\",\"colorway\":[\"#636efa\",\"#EF553B\",\"#00cc96\",\"#ab63fa\",\"#FFA15A\",\"#19d3f3\",\"#FF6692\",\"#B6E880\",\"#FF97FF\",\"#FECB52\"],\"font\":{\"color\":\"#2a3f5f\"},\"hovermode\":\"closest\",\"hoverlabel\":{\"align\":\"left\"},\"paper_bgcolor\":\"white\",\"plot_bgcolor\":\"#E5ECF6\",\"polar\":{\"bgcolor\":\"#E5ECF6\",\"angularaxis\":{\"gridcolor\":\"white\",\"linecolor\":\"white\",\"ticks\":\"\"},\"radialaxis\":{\"gridcolor\":\"white\",\"linecolor\":\"white\",\"ticks\":\"\"}},\"ternary\":{\"bgcolor\":\"#E5ECF6\",\"aaxis\":{\"gridcolor\":\"white\",\"linecolor\":\"white\",\"ticks\":\"\"},\"baxis\":{\"gridcolor\":\"white\",\"linecolor\":\"white\",\"ticks\":\"\"},\"caxis\":{\"gridcolor\":\"white\",\"linecolor\":\"white\",\"ticks\":\"\"}},\"coloraxis\":{\"colorbar\":{\"outlinewidth\":0,\"ticks\":\"\"}},\"colorscale\":{\"sequential\":[[0.0,\"#0d0887\"],[0.1111111111111111,\"#46039f\"],[0.2222222222222222,\"#7201a8\"],[0.3333333333333333,\"#9c179e\"],[0.4444444444444444,\"#bd3786\"],[0.5555555555555556,\"#d8576b\"],[0.6666666666666666,\"#ed7953\"],[0.7777777777777778,\"#fb9f3a\"],[0.8888888888888888,\"#fdca26\"],[1.0,\"#f0f921\"]],\"sequentialminus\":[[0.0,\"#0d0887\"],[0.1111111111111111,\"#46039f\"],[0.2222222222222222,\"#7201a8\"],[0.3333333333333333,\"#9c179e\"],[0.4444444444444444,\"#bd3786\"],[0.5555555555555556,\"#d8576b\"],[0.6666666666666666,\"#ed7953\"],[0.7777777777777778,\"#fb9f3a\"],[0.8888888888888888,\"#fdca26\"],[1.0,\"#f0f921\"]],\"diverging\":[[0,\"#8e0152\"],[0.1,\"#c51b7d\"],[0.2,\"#de77ae\"],[0.3,\"#f1b6da\"],[0.4,\"#fde0ef\"],[0.5,\"#f7f7f7\"],[0.6,\"#e6f5d0\"],[0.7,\"#b8e186\"],[0.8,\"#7fbc41\"],[0.9,\"#4d9221\"],[1,\"#276419\"]]},\"xaxis\":{\"gridcolor\":\"white\",\"linecolor\":\"white\",\"ticks\":\"\",\"title\":{\"standoff\":15},\"zerolinecolor\":\"white\",\"automargin\":true,\"zerolinewidth\":2},\"yaxis\":{\"gridcolor\":\"white\",\"linecolor\":\"white\",\"ticks\":\"\",\"title\":{\"standoff\":15},\"zerolinecolor\":\"white\",\"automargin\":true,\"zerolinewidth\":2},\"scene\":{\"xaxis\":{\"backgroundcolor\":\"#E5ECF6\",\"gridcolor\":\"white\",\"linecolor\":\"white\",\"showbackground\":true,\"ticks\":\"\",\"zerolinecolor\":\"white\",\"gridwidth\":2},\"yaxis\":{\"backgroundcolor\":\"#E5ECF6\",\"gridcolor\":\"white\",\"linecolor\":\"white\",\"showbackground\":true,\"ticks\":\"\",\"zerolinecolor\":\"white\",\"gridwidth\":2},\"zaxis\":{\"backgroundcolor\":\"#E5ECF6\",\"gridcolor\":\"white\",\"linecolor\":\"white\",\"showbackground\":true,\"ticks\":\"\",\"zerolinecolor\":\"white\",\"gridwidth\":2}},\"shapedefaults\":{\"line\":{\"color\":\"#2a3f5f\"}},\"annotationdefaults\":{\"arrowcolor\":\"#2a3f5f\",\"arrowhead\":0,\"arrowwidth\":1},\"geo\":{\"bgcolor\":\"white\",\"landcolor\":\"#E5ECF6\",\"subunitcolor\":\"white\",\"showland\":true,\"showlakes\":true,\"lakecolor\":\"white\"},\"title\":{\"x\":0.05},\"mapbox\":{\"style\":\"light\"}}},\"margin\":{\"l\":20,\"r\":20,\"t\":20,\"b\":20},\"font\":{\"color\":\"black\"},\"height\":600,\"width\":600,\"paper_bgcolor\":\"white\",\"plot_bgcolor\":\"white\",\"showlegend\":false},                        {\"responsive\": true}                    ).then(function(){\n",
       "                            \n",
       "var gd = document.getElementById('007bb2ce-ecde-4c5f-ad76-c9551d8ec0b7');\n",
       "var x = new MutationObserver(function (mutations, observer) {{\n",
       "        var display = window.getComputedStyle(gd).display;\n",
       "        if (!display || display === 'none') {{\n",
       "            console.log([gd, 'removed!']);\n",
       "            Plotly.purge(gd);\n",
       "            observer.disconnect();\n",
       "        }}\n",
       "}});\n",
       "\n",
       "// Listen for the removal of the full notebook cells\n",
       "var notebookContainer = gd.closest('#notebook-container');\n",
       "if (notebookContainer) {{\n",
       "    x.observe(notebookContainer, {childList: true});\n",
       "}}\n",
       "\n",
       "// Listen for the clearing of the current output cell\n",
       "var outputEl = gd.closest('.output');\n",
       "if (outputEl) {{\n",
       "    x.observe(outputEl, {childList: true});\n",
       "}}\n",
       "\n",
       "                        })                };                });            </script>        </div>"
      ]
     },
     "metadata": {},
     "output_type": "display_data"
    }
   ],
   "execution_count": 385
  },
  {
   "metadata": {},
   "cell_type": "markdown",
   "source": "#### Overview - 6 Months",
   "id": "7a8e449dc443a4c9"
  },
  {
   "metadata": {
    "ExecuteTime": {
     "end_time": "2025-06-15T15:48:57.452979Z",
     "start_time": "2025-06-15T15:48:57.430464Z"
    }
   },
   "cell_type": "code",
   "source": [
    "importlib.reload(mpt_utils)\n",
    "# Create overview\n",
    "mpt_utils.generate_overview_table(weights_all_6m, mu_6m, S_6m, df_pct)"
   ],
   "id": "b418720723786c",
   "outputs": [
    {
     "data": {
      "text/plain": [
       "        Share Count  Average Covariance Average Returns Return Last 12 Months  \\\n",
       "HAE               1            0.004000           7.51%                -0.65%   \n",
       "KBR               1           -0.006345          14.75%                18.23%   \n",
       "NL               11           -0.031034         -13.20%               -40.53%   \n",
       "6736.T            2            0.013034         -39.64%                31.39%   \n",
       "8972.T            1           -0.003034         -16.54%                -0.66%   \n",
       "...             ...                 ...             ...                   ...   \n",
       "3050.T            1           -0.010276         -23.03%                 3.66%   \n",
       "9474.T            1            0.018828          36.76%                 2.30%   \n",
       "4745.T            2            0.000483          -9.17%                 1.24%   \n",
       "6644.T            1            0.003241         -14.03%                25.05%   \n",
       "8897.T            1            0.006000         -13.01%                12.26%   \n",
       "\n",
       "       Return (Actual) Next 12 Months  \n",
       "HAE                           -18.21%  \n",
       "KBR                             3.81%  \n",
       "NL                             53.47%  \n",
       "6736.T                        296.94%  \n",
       "8972.T                         -4.56%  \n",
       "...                               ...  \n",
       "3050.T                         25.78%  \n",
       "9474.T                         -3.39%  \n",
       "4745.T                        -14.36%  \n",
       "6644.T                          8.48%  \n",
       "8897.T                         12.31%  \n",
       "\n",
       "[146 rows x 5 columns]"
      ],
      "text/html": [
       "<div>\n",
       "<style scoped>\n",
       "    .dataframe tbody tr th:only-of-type {\n",
       "        vertical-align: middle;\n",
       "    }\n",
       "\n",
       "    .dataframe tbody tr th {\n",
       "        vertical-align: top;\n",
       "    }\n",
       "\n",
       "    .dataframe thead th {\n",
       "        text-align: right;\n",
       "    }\n",
       "</style>\n",
       "<table border=\"1\" class=\"dataframe\">\n",
       "  <thead>\n",
       "    <tr style=\"text-align: right;\">\n",
       "      <th></th>\n",
       "      <th>Share Count</th>\n",
       "      <th>Average Covariance</th>\n",
       "      <th>Average Returns</th>\n",
       "      <th>Return Last 12 Months</th>\n",
       "      <th>Return (Actual) Next 12 Months</th>\n",
       "    </tr>\n",
       "  </thead>\n",
       "  <tbody>\n",
       "    <tr>\n",
       "      <th>HAE</th>\n",
       "      <td>1</td>\n",
       "      <td>0.004000</td>\n",
       "      <td>7.51%</td>\n",
       "      <td>-0.65%</td>\n",
       "      <td>-18.21%</td>\n",
       "    </tr>\n",
       "    <tr>\n",
       "      <th>KBR</th>\n",
       "      <td>1</td>\n",
       "      <td>-0.006345</td>\n",
       "      <td>14.75%</td>\n",
       "      <td>18.23%</td>\n",
       "      <td>3.81%</td>\n",
       "    </tr>\n",
       "    <tr>\n",
       "      <th>NL</th>\n",
       "      <td>11</td>\n",
       "      <td>-0.031034</td>\n",
       "      <td>-13.20%</td>\n",
       "      <td>-40.53%</td>\n",
       "      <td>53.47%</td>\n",
       "    </tr>\n",
       "    <tr>\n",
       "      <th>6736.T</th>\n",
       "      <td>2</td>\n",
       "      <td>0.013034</td>\n",
       "      <td>-39.64%</td>\n",
       "      <td>31.39%</td>\n",
       "      <td>296.94%</td>\n",
       "    </tr>\n",
       "    <tr>\n",
       "      <th>8972.T</th>\n",
       "      <td>1</td>\n",
       "      <td>-0.003034</td>\n",
       "      <td>-16.54%</td>\n",
       "      <td>-0.66%</td>\n",
       "      <td>-4.56%</td>\n",
       "    </tr>\n",
       "    <tr>\n",
       "      <th>...</th>\n",
       "      <td>...</td>\n",
       "      <td>...</td>\n",
       "      <td>...</td>\n",
       "      <td>...</td>\n",
       "      <td>...</td>\n",
       "    </tr>\n",
       "    <tr>\n",
       "      <th>3050.T</th>\n",
       "      <td>1</td>\n",
       "      <td>-0.010276</td>\n",
       "      <td>-23.03%</td>\n",
       "      <td>3.66%</td>\n",
       "      <td>25.78%</td>\n",
       "    </tr>\n",
       "    <tr>\n",
       "      <th>9474.T</th>\n",
       "      <td>1</td>\n",
       "      <td>0.018828</td>\n",
       "      <td>36.76%</td>\n",
       "      <td>2.30%</td>\n",
       "      <td>-3.39%</td>\n",
       "    </tr>\n",
       "    <tr>\n",
       "      <th>4745.T</th>\n",
       "      <td>2</td>\n",
       "      <td>0.000483</td>\n",
       "      <td>-9.17%</td>\n",
       "      <td>1.24%</td>\n",
       "      <td>-14.36%</td>\n",
       "    </tr>\n",
       "    <tr>\n",
       "      <th>6644.T</th>\n",
       "      <td>1</td>\n",
       "      <td>0.003241</td>\n",
       "      <td>-14.03%</td>\n",
       "      <td>25.05%</td>\n",
       "      <td>8.48%</td>\n",
       "    </tr>\n",
       "    <tr>\n",
       "      <th>8897.T</th>\n",
       "      <td>1</td>\n",
       "      <td>0.006000</td>\n",
       "      <td>-13.01%</td>\n",
       "      <td>12.26%</td>\n",
       "      <td>12.31%</td>\n",
       "    </tr>\n",
       "  </tbody>\n",
       "</table>\n",
       "<p>146 rows × 5 columns</p>\n",
       "</div>"
      ]
     },
     "execution_count": 386,
     "metadata": {},
     "output_type": "execute_result"
    }
   ],
   "execution_count": 386
  },
  {
   "metadata": {},
   "cell_type": "markdown",
   "source": "## 12 Months",
   "id": "87b88272ba0852d0"
  },
  {
   "metadata": {
    "ExecuteTime": {
     "end_time": "2025-06-15T15:49:05.166338Z",
     "start_time": "2025-06-15T15:48:57.461688Z"
    }
   },
   "cell_type": "code",
   "source": [
    "importlib.reload(train_test)\n",
    "importlib.reload(xgboost_utils)\n",
    "\n",
    "X_train, y_train, X_test, y_test, min_datestr = train_test.split_train_test_tabular(df_tabular_multi, months=variables.TEST_MONTHS_NR,\n",
    "                                                                                    target_key='m_return_target(t+12)')\n",
    "#\n",
    "model_12m, score_12m = xgboost_utils.get_xgboost_trained_model(X_train, y_train, X_test, y_test)"
   ],
   "id": "e09baf27fb7d16f6",
   "outputs": [
    {
     "name": "stdout",
     "output_type": "stream",
     "text": [
      "[0]\tvalidation_0-rmse:0.11545\tvalidation_1-rmse:0.08109\n",
      "[1]\tvalidation_0-rmse:0.11538\tvalidation_1-rmse:0.08045\n",
      "[2]\tvalidation_0-rmse:0.11530\tvalidation_1-rmse:0.08043\n",
      "[3]\tvalidation_0-rmse:0.11523\tvalidation_1-rmse:0.08026\n",
      "[4]\tvalidation_0-rmse:0.11516\tvalidation_1-rmse:0.08014\n",
      "[5]\tvalidation_0-rmse:0.11507\tvalidation_1-rmse:0.08015\n",
      "[6]\tvalidation_0-rmse:0.11501\tvalidation_1-rmse:0.08009\n",
      "[7]\tvalidation_0-rmse:0.11495\tvalidation_1-rmse:0.08006\n",
      "[8]\tvalidation_0-rmse:0.11487\tvalidation_1-rmse:0.07971\n",
      "[9]\tvalidation_0-rmse:0.11480\tvalidation_1-rmse:0.07954\n",
      "[10]\tvalidation_0-rmse:0.11475\tvalidation_1-rmse:0.07950\n",
      "[11]\tvalidation_0-rmse:0.11469\tvalidation_1-rmse:0.07934\n",
      "[12]\tvalidation_0-rmse:0.11464\tvalidation_1-rmse:0.07909\n",
      "[13]\tvalidation_0-rmse:0.11455\tvalidation_1-rmse:0.07902\n",
      "[14]\tvalidation_0-rmse:0.11451\tvalidation_1-rmse:0.07905\n",
      "[15]\tvalidation_0-rmse:0.11440\tvalidation_1-rmse:0.07902\n",
      "[16]\tvalidation_0-rmse:0.11435\tvalidation_1-rmse:0.07894\n",
      "[17]\tvalidation_0-rmse:0.11430\tvalidation_1-rmse:0.07890\n",
      "[18]\tvalidation_0-rmse:0.11415\tvalidation_1-rmse:0.07885\n",
      "[19]\tvalidation_0-rmse:0.11407\tvalidation_1-rmse:0.07872\n",
      "[20]\tvalidation_0-rmse:0.11404\tvalidation_1-rmse:0.07865\n",
      "[21]\tvalidation_0-rmse:0.11401\tvalidation_1-rmse:0.07880\n",
      "[22]\tvalidation_0-rmse:0.11398\tvalidation_1-rmse:0.07872\n",
      "[23]\tvalidation_0-rmse:0.11395\tvalidation_1-rmse:0.07850\n",
      "[24]\tvalidation_0-rmse:0.11392\tvalidation_1-rmse:0.07862\n",
      "[25]\tvalidation_0-rmse:0.11386\tvalidation_1-rmse:0.07864\n",
      "[26]\tvalidation_0-rmse:0.11382\tvalidation_1-rmse:0.07862\n",
      "[27]\tvalidation_0-rmse:0.11366\tvalidation_1-rmse:0.07867\n",
      "[28]\tvalidation_0-rmse:0.11361\tvalidation_1-rmse:0.07854\n",
      "[29]\tvalidation_0-rmse:0.11345\tvalidation_1-rmse:0.07855\n",
      "[30]\tvalidation_0-rmse:0.11343\tvalidation_1-rmse:0.07862\n",
      "[31]\tvalidation_0-rmse:0.11327\tvalidation_1-rmse:0.07862\n",
      "[32]\tvalidation_0-rmse:0.11322\tvalidation_1-rmse:0.07857\n",
      "[33]\tvalidation_0-rmse:0.11318\tvalidation_1-rmse:0.07858\n",
      "[34]\tvalidation_0-rmse:0.11312\tvalidation_1-rmse:0.07854\n",
      "[35]\tvalidation_0-rmse:0.11309\tvalidation_1-rmse:0.07855\n",
      "[36]\tvalidation_0-rmse:0.11305\tvalidation_1-rmse:0.07852\n",
      "[37]\tvalidation_0-rmse:0.11301\tvalidation_1-rmse:0.07842\n",
      "[38]\tvalidation_0-rmse:0.11298\tvalidation_1-rmse:0.07842\n",
      "[39]\tvalidation_0-rmse:0.11295\tvalidation_1-rmse:0.07849\n",
      "[40]\tvalidation_0-rmse:0.11293\tvalidation_1-rmse:0.07855\n",
      "[41]\tvalidation_0-rmse:0.11292\tvalidation_1-rmse:0.07855\n",
      "[42]\tvalidation_0-rmse:0.11288\tvalidation_1-rmse:0.07864\n",
      "[43]\tvalidation_0-rmse:0.11272\tvalidation_1-rmse:0.07864\n",
      "[44]\tvalidation_0-rmse:0.11268\tvalidation_1-rmse:0.07865\n",
      "[45]\tvalidation_0-rmse:0.11265\tvalidation_1-rmse:0.07867\n",
      "[46]\tvalidation_0-rmse:0.11262\tvalidation_1-rmse:0.07865\n",
      "[47]\tvalidation_0-rmse:0.11259\tvalidation_1-rmse:0.07854\n",
      "[48]\tvalidation_0-rmse:0.11257\tvalidation_1-rmse:0.07853\n",
      "[49]\tvalidation_0-rmse:0.11251\tvalidation_1-rmse:0.07828\n",
      "[50]\tvalidation_0-rmse:0.11249\tvalidation_1-rmse:0.07807\n",
      "[51]\tvalidation_0-rmse:0.11248\tvalidation_1-rmse:0.07809\n",
      "[52]\tvalidation_0-rmse:0.11245\tvalidation_1-rmse:0.07812\n",
      "[53]\tvalidation_0-rmse:0.11243\tvalidation_1-rmse:0.07820\n",
      "[54]\tvalidation_0-rmse:0.11241\tvalidation_1-rmse:0.07822\n",
      "[55]\tvalidation_0-rmse:0.11239\tvalidation_1-rmse:0.07807\n",
      "[56]\tvalidation_0-rmse:0.11237\tvalidation_1-rmse:0.07808\n",
      "[57]\tvalidation_0-rmse:0.11229\tvalidation_1-rmse:0.07805\n",
      "[58]\tvalidation_0-rmse:0.11228\tvalidation_1-rmse:0.07806\n",
      "[59]\tvalidation_0-rmse:0.11225\tvalidation_1-rmse:0.07806\n",
      "[60]\tvalidation_0-rmse:0.11221\tvalidation_1-rmse:0.07804\n",
      "[61]\tvalidation_0-rmse:0.11219\tvalidation_1-rmse:0.07791\n",
      "[62]\tvalidation_0-rmse:0.11217\tvalidation_1-rmse:0.07782\n",
      "[63]\tvalidation_0-rmse:0.11215\tvalidation_1-rmse:0.07781\n",
      "[64]\tvalidation_0-rmse:0.11206\tvalidation_1-rmse:0.07782\n",
      "[65]\tvalidation_0-rmse:0.11203\tvalidation_1-rmse:0.07783\n",
      "[66]\tvalidation_0-rmse:0.11200\tvalidation_1-rmse:0.07721\n",
      "[67]\tvalidation_0-rmse:0.11198\tvalidation_1-rmse:0.07724\n",
      "[68]\tvalidation_0-rmse:0.11196\tvalidation_1-rmse:0.07725\n",
      "[69]\tvalidation_0-rmse:0.11194\tvalidation_1-rmse:0.07731\n",
      "[70]\tvalidation_0-rmse:0.11191\tvalidation_1-rmse:0.07731\n",
      "[71]\tvalidation_0-rmse:0.11189\tvalidation_1-rmse:0.07734\n",
      "[72]\tvalidation_0-rmse:0.11187\tvalidation_1-rmse:0.07681\n",
      "[73]\tvalidation_0-rmse:0.11185\tvalidation_1-rmse:0.07679\n",
      "[74]\tvalidation_0-rmse:0.11177\tvalidation_1-rmse:0.07680\n",
      "[75]\tvalidation_0-rmse:0.11174\tvalidation_1-rmse:0.07622\n",
      "[76]\tvalidation_0-rmse:0.11172\tvalidation_1-rmse:0.07625\n",
      "[77]\tvalidation_0-rmse:0.11169\tvalidation_1-rmse:0.07623\n",
      "[78]\tvalidation_0-rmse:0.11168\tvalidation_1-rmse:0.07613\n",
      "[79]\tvalidation_0-rmse:0.11165\tvalidation_1-rmse:0.07611\n",
      "[80]\tvalidation_0-rmse:0.11162\tvalidation_1-rmse:0.07611\n",
      "[81]\tvalidation_0-rmse:0.11154\tvalidation_1-rmse:0.07612\n",
      "[82]\tvalidation_0-rmse:0.11151\tvalidation_1-rmse:0.07613\n",
      "[83]\tvalidation_0-rmse:0.11148\tvalidation_1-rmse:0.07611\n",
      "[84]\tvalidation_0-rmse:0.11140\tvalidation_1-rmse:0.07614\n",
      "[85]\tvalidation_0-rmse:0.11136\tvalidation_1-rmse:0.07552\n",
      "[86]\tvalidation_0-rmse:0.11132\tvalidation_1-rmse:0.07551\n",
      "[87]\tvalidation_0-rmse:0.11124\tvalidation_1-rmse:0.07553\n",
      "[88]\tvalidation_0-rmse:0.11122\tvalidation_1-rmse:0.07553\n",
      "[89]\tvalidation_0-rmse:0.11117\tvalidation_1-rmse:0.07497\n",
      "[90]\tvalidation_0-rmse:0.11116\tvalidation_1-rmse:0.07498\n",
      "[91]\tvalidation_0-rmse:0.11114\tvalidation_1-rmse:0.07503\n",
      "[92]\tvalidation_0-rmse:0.11109\tvalidation_1-rmse:0.07425\n",
      "[93]\tvalidation_0-rmse:0.11104\tvalidation_1-rmse:0.07429\n",
      "[94]\tvalidation_0-rmse:0.11102\tvalidation_1-rmse:0.07430\n",
      "[95]\tvalidation_0-rmse:0.11100\tvalidation_1-rmse:0.07433\n",
      "[96]\tvalidation_0-rmse:0.11095\tvalidation_1-rmse:0.07431\n",
      "[97]\tvalidation_0-rmse:0.11094\tvalidation_1-rmse:0.07431\n",
      "[98]\tvalidation_0-rmse:0.11092\tvalidation_1-rmse:0.07421\n",
      "[99]\tvalidation_0-rmse:0.11091\tvalidation_1-rmse:0.07425\n",
      "[100]\tvalidation_0-rmse:0.11089\tvalidation_1-rmse:0.07423\n",
      "[101]\tvalidation_0-rmse:0.11088\tvalidation_1-rmse:0.07427\n",
      "[102]\tvalidation_0-rmse:0.11082\tvalidation_1-rmse:0.07440\n",
      "[103]\tvalidation_0-rmse:0.11080\tvalidation_1-rmse:0.07443\n",
      "[104]\tvalidation_0-rmse:0.11075\tvalidation_1-rmse:0.07444\n",
      "[105]\tvalidation_0-rmse:0.11073\tvalidation_1-rmse:0.07446\n",
      "[106]\tvalidation_0-rmse:0.11072\tvalidation_1-rmse:0.07446\n",
      "[107]\tvalidation_0-rmse:0.11067\tvalidation_1-rmse:0.07430\n",
      "[108]\tvalidation_0-rmse:0.11065\tvalidation_1-rmse:0.07428\n",
      "[109]\tvalidation_0-rmse:0.11063\tvalidation_1-rmse:0.07433\n",
      "[110]\tvalidation_0-rmse:0.11062\tvalidation_1-rmse:0.07431\n",
      "[111]\tvalidation_0-rmse:0.11060\tvalidation_1-rmse:0.07433\n",
      "[112]\tvalidation_0-rmse:0.11059\tvalidation_1-rmse:0.07436\n",
      "[113]\tvalidation_0-rmse:0.11058\tvalidation_1-rmse:0.07424\n",
      "[114]\tvalidation_0-rmse:0.11055\tvalidation_1-rmse:0.07422\n",
      "[115]\tvalidation_0-rmse:0.11054\tvalidation_1-rmse:0.07422\n",
      "[116]\tvalidation_0-rmse:0.11049\tvalidation_1-rmse:0.07421\n",
      "[117]\tvalidation_0-rmse:0.11048\tvalidation_1-rmse:0.07402\n",
      "[118]\tvalidation_0-rmse:0.11047\tvalidation_1-rmse:0.07408\n",
      "[119]\tvalidation_0-rmse:0.11044\tvalidation_1-rmse:0.07407\n",
      "[120]\tvalidation_0-rmse:0.11044\tvalidation_1-rmse:0.07407\n",
      "[121]\tvalidation_0-rmse:0.11041\tvalidation_1-rmse:0.07408\n",
      "[122]\tvalidation_0-rmse:0.11025\tvalidation_1-rmse:0.07403\n",
      "[123]\tvalidation_0-rmse:0.11022\tvalidation_1-rmse:0.07405\n",
      "[124]\tvalidation_0-rmse:0.11020\tvalidation_1-rmse:0.07407\n",
      "[125]\tvalidation_0-rmse:0.11018\tvalidation_1-rmse:0.07407\n",
      "[126]\tvalidation_0-rmse:0.11016\tvalidation_1-rmse:0.07412\n",
      "[127]\tvalidation_0-rmse:0.11014\tvalidation_1-rmse:0.07413\n",
      "[128]\tvalidation_0-rmse:0.11013\tvalidation_1-rmse:0.07423\n",
      "[129]\tvalidation_0-rmse:0.11011\tvalidation_1-rmse:0.07420\n",
      "[130]\tvalidation_0-rmse:0.11010\tvalidation_1-rmse:0.07420\n",
      "[131]\tvalidation_0-rmse:0.11008\tvalidation_1-rmse:0.07421\n",
      "[132]\tvalidation_0-rmse:0.11007\tvalidation_1-rmse:0.07423\n",
      "[133]\tvalidation_0-rmse:0.11005\tvalidation_1-rmse:0.07424\n",
      "[134]\tvalidation_0-rmse:0.11003\tvalidation_1-rmse:0.07426\n",
      "[135]\tvalidation_0-rmse:0.11002\tvalidation_1-rmse:0.07427\n",
      "[136]\tvalidation_0-rmse:0.11000\tvalidation_1-rmse:0.07428\n",
      "[137]\tvalidation_0-rmse:0.10998\tvalidation_1-rmse:0.07424\n",
      "[138]\tvalidation_0-rmse:0.10997\tvalidation_1-rmse:0.07417\n",
      "[139]\tvalidation_0-rmse:0.10996\tvalidation_1-rmse:0.07416\n",
      "[140]\tvalidation_0-rmse:0.10993\tvalidation_1-rmse:0.07426\n",
      "[141]\tvalidation_0-rmse:0.10991\tvalidation_1-rmse:0.07428\n",
      "[142]\tvalidation_0-rmse:0.10990\tvalidation_1-rmse:0.07435\n",
      "[143]\tvalidation_0-rmse:0.10989\tvalidation_1-rmse:0.07439\n",
      "[144]\tvalidation_0-rmse:0.10987\tvalidation_1-rmse:0.07441\n",
      "[145]\tvalidation_0-rmse:0.10982\tvalidation_1-rmse:0.07428\n",
      "[146]\tvalidation_0-rmse:0.10981\tvalidation_1-rmse:0.07436\n",
      "[147]\tvalidation_0-rmse:0.10979\tvalidation_1-rmse:0.07448\n",
      "[148]\tvalidation_0-rmse:0.10972\tvalidation_1-rmse:0.07448\n",
      "[149]\tvalidation_0-rmse:0.10970\tvalidation_1-rmse:0.07447\n",
      "[150]\tvalidation_0-rmse:0.10967\tvalidation_1-rmse:0.07447\n",
      "[151]\tvalidation_0-rmse:0.10966\tvalidation_1-rmse:0.07412\n",
      "[152]\tvalidation_0-rmse:0.10963\tvalidation_1-rmse:0.07355\n",
      "[153]\tvalidation_0-rmse:0.10958\tvalidation_1-rmse:0.07357\n",
      "[154]\tvalidation_0-rmse:0.10957\tvalidation_1-rmse:0.07357\n",
      "[155]\tvalidation_0-rmse:0.10956\tvalidation_1-rmse:0.07358\n",
      "[156]\tvalidation_0-rmse:0.10955\tvalidation_1-rmse:0.07358\n",
      "[157]\tvalidation_0-rmse:0.10954\tvalidation_1-rmse:0.07358\n",
      "[158]\tvalidation_0-rmse:0.10953\tvalidation_1-rmse:0.07350\n",
      "[159]\tvalidation_0-rmse:0.10949\tvalidation_1-rmse:0.07351\n",
      "[160]\tvalidation_0-rmse:0.10948\tvalidation_1-rmse:0.07351\n",
      "[161]\tvalidation_0-rmse:0.10947\tvalidation_1-rmse:0.07351\n",
      "[162]\tvalidation_0-rmse:0.10943\tvalidation_1-rmse:0.07351\n",
      "[163]\tvalidation_0-rmse:0.10941\tvalidation_1-rmse:0.07340\n",
      "[164]\tvalidation_0-rmse:0.10939\tvalidation_1-rmse:0.07340\n",
      "[165]\tvalidation_0-rmse:0.10937\tvalidation_1-rmse:0.07348\n",
      "[166]\tvalidation_0-rmse:0.10935\tvalidation_1-rmse:0.07348\n",
      "[167]\tvalidation_0-rmse:0.10935\tvalidation_1-rmse:0.07349\n",
      "[168]\tvalidation_0-rmse:0.10932\tvalidation_1-rmse:0.07348\n",
      "[169]\tvalidation_0-rmse:0.10931\tvalidation_1-rmse:0.07348\n",
      "[170]\tvalidation_0-rmse:0.10929\tvalidation_1-rmse:0.07346\n",
      "[171]\tvalidation_0-rmse:0.10928\tvalidation_1-rmse:0.07330\n",
      "[172]\tvalidation_0-rmse:0.10927\tvalidation_1-rmse:0.07335\n",
      "[173]\tvalidation_0-rmse:0.10926\tvalidation_1-rmse:0.07332\n",
      "[174]\tvalidation_0-rmse:0.10924\tvalidation_1-rmse:0.07329\n",
      "[175]\tvalidation_0-rmse:0.10923\tvalidation_1-rmse:0.07328\n",
      "[176]\tvalidation_0-rmse:0.10922\tvalidation_1-rmse:0.07327\n",
      "[177]\tvalidation_0-rmse:0.10917\tvalidation_1-rmse:0.07292\n",
      "[178]\tvalidation_0-rmse:0.10911\tvalidation_1-rmse:0.07296\n",
      "[179]\tvalidation_0-rmse:0.10908\tvalidation_1-rmse:0.07295\n",
      "[180]\tvalidation_0-rmse:0.10908\tvalidation_1-rmse:0.07293\n",
      "[181]\tvalidation_0-rmse:0.10906\tvalidation_1-rmse:0.07282\n",
      "[182]\tvalidation_0-rmse:0.10903\tvalidation_1-rmse:0.07281\n",
      "[183]\tvalidation_0-rmse:0.10902\tvalidation_1-rmse:0.07282\n",
      "[184]\tvalidation_0-rmse:0.10901\tvalidation_1-rmse:0.07280\n",
      "[185]\tvalidation_0-rmse:0.10898\tvalidation_1-rmse:0.07281\n",
      "[186]\tvalidation_0-rmse:0.10897\tvalidation_1-rmse:0.07285\n",
      "[187]\tvalidation_0-rmse:0.10896\tvalidation_1-rmse:0.07285\n",
      "[188]\tvalidation_0-rmse:0.10896\tvalidation_1-rmse:0.07286\n",
      "[189]\tvalidation_0-rmse:0.10894\tvalidation_1-rmse:0.07291\n",
      "[190]\tvalidation_0-rmse:0.10894\tvalidation_1-rmse:0.07290\n",
      "[191]\tvalidation_0-rmse:0.10893\tvalidation_1-rmse:0.07288\n",
      "[192]\tvalidation_0-rmse:0.10891\tvalidation_1-rmse:0.07287\n",
      "[193]\tvalidation_0-rmse:0.10888\tvalidation_1-rmse:0.07283\n",
      "[194]\tvalidation_0-rmse:0.10888\tvalidation_1-rmse:0.07281\n",
      "[195]\tvalidation_0-rmse:0.10881\tvalidation_1-rmse:0.07285\n",
      "[196]\tvalidation_0-rmse:0.10880\tvalidation_1-rmse:0.07285\n",
      "[197]\tvalidation_0-rmse:0.10878\tvalidation_1-rmse:0.07285\n",
      "[198]\tvalidation_0-rmse:0.10873\tvalidation_1-rmse:0.07286\n",
      "[199]\tvalidation_0-rmse:0.10865\tvalidation_1-rmse:0.07283\n",
      "Mean MAE: 0.085 (0.011)\n"
     ]
    }
   ],
   "execution_count": 387
  },
  {
   "metadata": {
    "ExecuteTime": {
     "end_time": "2025-06-15T15:49:05.454697Z",
     "start_time": "2025-06-15T15:49:05.170108Z"
    }
   },
   "cell_type": "code",
   "source": [
    "months_12m = 12\n",
    "X_train_12m, y_train_12m, X_test_12m, y_test_12m, min_datestr = train_test.split_train_test_tabular(df_tabular_multi, months=months_12m,\n",
    "                                                                                          target_key='m_return_target(t+12)')"
   ],
   "id": "c1966cf153bc8fe7",
   "outputs": [],
   "execution_count": 388
  },
  {
   "metadata": {
    "ExecuteTime": {
     "end_time": "2025-06-15T15:49:05.695573Z",
     "start_time": "2025-06-15T15:49:05.458224Z"
    }
   },
   "cell_type": "code",
   "source": [
    "dt = datetime.strptime(min_datestr, '%Y-%m-%d')\n",
    "\n",
    "# get all training months without the last 12 months\n",
    "X_train_input_12m = X_train_12m.head(len(X_train_12m) - len(df_pct.columns)*months_12m)\n",
    "# Get last 6 months of the training dataset and use as input to predict the next 12 months\n",
    "X_test_input_12m = X_train_12m.tail(len(df_pct.columns)*months_12m)\n",
    "\n",
    "# Trained \n",
    "y_train_pred_12m = model_12m.predict(X_train_input_12m)\n",
    "# Predictions\n",
    "y_test_pred_12m = model_12m.predict(X_test_input_12m)"
   ],
   "id": "b437eae9f6783c48",
   "outputs": [],
   "execution_count": 389
  },
  {
   "metadata": {},
   "cell_type": "markdown",
   "source": "### 12 Months Actual vs Prediction",
   "id": "c2d9b00a44eff0fd"
  },
  {
   "metadata": {
    "ExecuteTime": {
     "end_time": "2025-06-15T15:49:05.758511Z",
     "start_time": "2025-06-15T15:49:05.708745Z"
    }
   },
   "cell_type": "code",
   "source": [
    "importlib.reload(mpt_utils)\n",
    "#\n",
    "y_train_mean_pred_12m, y_test_mean_pred_12m = mpt_utils.get_train_test_mean_pred(y_train_pred_12m, y_test_pred_12m, len(df_pct.columns))\n",
    "#\n",
    "plots.generate_timeseries_plot(df_pct, df_tabular_multi, y_train_mean_pred_12m, y_test_mean_pred_12m)"
   ],
   "id": "e9ccba2a945e92be",
   "outputs": [
    {
     "name": "stdout",
     "output_type": "stream",
     "text": [
      "262.0\n"
     ]
    },
    {
     "data": {
      "application/vnd.plotly.v1+json": {
       "data": [
        {
         "line": {
          "color": "#5c839f",
          "width": 2
         },
         "mode": "lines",
         "name": "Actual returns",
         "x": [
          "2001-11-01",
          "2001-12-01",
          "2002-01-01",
          "2002-02-01",
          "2002-03-01",
          "2002-04-01",
          "2002-05-01",
          "2002-06-01",
          "2002-07-01",
          "2002-08-01",
          "2002-09-01",
          "2002-10-01",
          "2002-11-01",
          "2002-12-01",
          "2003-01-01",
          "2003-02-01",
          "2003-03-01",
          "2003-04-01",
          "2003-05-01",
          "2003-06-01",
          "2003-07-01",
          "2003-08-01",
          "2003-09-01",
          "2003-10-01",
          "2003-11-01",
          "2003-12-01",
          "2004-01-01",
          "2004-02-01",
          "2004-03-01",
          "2004-04-01",
          "2004-05-01",
          "2004-06-01",
          "2004-07-01",
          "2004-08-01",
          "2004-09-01",
          "2004-10-01",
          "2004-11-01",
          "2004-12-01",
          "2005-01-01",
          "2005-02-01",
          "2005-03-01",
          "2005-04-01",
          "2005-05-01",
          "2005-06-01",
          "2005-07-01",
          "2005-08-01",
          "2005-09-01",
          "2005-10-01",
          "2005-11-01",
          "2005-12-01",
          "2006-01-01",
          "2006-02-01",
          "2006-03-01",
          "2006-04-01",
          "2006-05-01",
          "2006-06-01",
          "2006-07-01",
          "2006-08-01",
          "2006-09-01",
          "2006-10-01",
          "2006-11-01",
          "2006-12-01",
          "2007-01-01",
          "2007-02-01",
          "2007-03-01",
          "2007-04-01",
          "2007-05-01",
          "2007-06-01",
          "2007-07-01",
          "2007-08-01",
          "2007-09-01",
          "2007-10-01",
          "2007-11-01",
          "2007-12-01",
          "2008-01-01",
          "2008-02-01",
          "2008-03-01",
          "2008-04-01",
          "2008-05-01",
          "2008-06-01",
          "2008-07-01",
          "2008-08-01",
          "2008-09-01",
          "2008-10-01",
          "2008-11-01",
          "2008-12-01",
          "2009-01-01",
          "2009-02-01",
          "2009-03-01",
          "2009-04-01",
          "2009-05-01",
          "2009-06-01",
          "2009-07-01",
          "2009-08-01",
          "2009-09-01",
          "2009-10-01",
          "2009-11-01",
          "2009-12-01",
          "2010-01-01",
          "2010-02-01",
          "2010-03-01",
          "2010-04-01",
          "2010-05-01",
          "2010-06-01",
          "2010-07-01",
          "2010-08-01",
          "2010-09-01",
          "2010-10-01",
          "2010-11-01",
          "2010-12-01",
          "2011-01-01",
          "2011-02-01",
          "2011-03-01",
          "2011-04-01",
          "2011-05-01",
          "2011-06-01",
          "2011-07-01",
          "2011-08-01",
          "2011-09-01",
          "2011-10-01",
          "2011-11-01",
          "2011-12-01",
          "2012-01-01",
          "2012-02-01",
          "2012-03-01",
          "2012-04-01",
          "2012-05-01",
          "2012-06-01",
          "2012-07-01",
          "2012-08-01",
          "2012-09-01",
          "2012-10-01",
          "2012-11-01",
          "2012-12-01",
          "2013-01-01",
          "2013-02-01",
          "2013-03-01",
          "2013-04-01",
          "2013-05-01",
          "2013-06-01",
          "2013-07-01",
          "2013-08-01",
          "2013-09-01",
          "2013-10-01",
          "2013-11-01",
          "2013-12-01",
          "2014-01-01",
          "2014-02-01",
          "2014-03-01",
          "2014-04-01",
          "2014-05-01",
          "2014-06-01",
          "2014-07-01",
          "2014-08-01",
          "2014-09-01",
          "2014-10-01",
          "2014-11-01",
          "2014-12-01",
          "2015-01-01",
          "2015-02-01",
          "2015-03-01",
          "2015-04-01",
          "2015-05-01",
          "2015-06-01",
          "2015-07-01",
          "2015-08-01",
          "2015-09-01",
          "2015-10-01",
          "2015-11-01",
          "2015-12-01",
          "2016-01-01",
          "2016-02-01",
          "2016-03-01",
          "2016-04-01",
          "2016-05-01",
          "2016-06-01",
          "2016-07-01",
          "2016-08-01",
          "2016-09-01",
          "2016-10-01",
          "2016-11-01",
          "2016-12-01",
          "2017-01-01",
          "2017-02-01",
          "2017-03-01",
          "2017-04-01",
          "2017-05-01",
          "2017-06-01",
          "2017-07-01",
          "2017-08-01",
          "2017-09-01",
          "2017-10-01",
          "2017-11-01",
          "2017-12-01",
          "2018-01-01",
          "2018-02-01",
          "2018-03-01",
          "2018-04-01",
          "2018-05-01",
          "2018-06-01",
          "2018-07-01",
          "2018-08-01",
          "2018-09-01",
          "2018-10-01",
          "2018-11-01",
          "2018-12-01",
          "2019-01-01",
          "2019-02-01",
          "2019-03-01",
          "2019-04-01",
          "2019-05-01",
          "2019-06-01",
          "2019-07-01",
          "2019-08-01",
          "2019-09-01",
          "2019-10-01",
          "2019-11-01",
          "2019-12-01",
          "2020-01-01",
          "2020-02-01",
          "2020-03-01",
          "2020-04-01",
          "2020-05-01",
          "2020-06-01",
          "2020-07-01",
          "2020-08-01",
          "2020-09-01",
          "2020-10-01",
          "2020-11-01",
          "2020-12-01",
          "2021-01-01",
          "2021-02-01",
          "2021-03-01",
          "2021-04-01",
          "2021-05-01",
          "2021-06-01",
          "2021-07-01",
          "2021-08-01",
          "2021-09-01",
          "2021-10-01",
          "2021-11-01",
          "2021-12-01",
          "2022-01-01",
          "2022-02-01",
          "2022-03-01",
          "2022-04-01",
          "2022-05-01",
          "2022-06-01",
          "2022-07-01",
          "2022-08-01",
          "2022-09-01",
          "2022-10-01",
          "2022-11-01",
          "2022-12-01",
          "2023-01-01",
          "2023-02-01",
          "2023-03-01",
          "2023-04-01",
          "2023-05-01",
          "2023-06-01",
          "2023-07-01",
          "2023-08-01",
          "2023-09-01",
          "2023-10-01",
          "2023-11-01",
          "2023-12-01",
          "2024-01-01",
          "2024-02-01",
          "2024-03-01",
          "2024-04-01",
          "2024-05-01",
          "2024-06-01",
          "2024-07-01",
          "2024-08-01"
         ],
         "y": [
          0.02743993993994054,
          0.038025525525524406,
          -0.009414414414414263,
          0.22023273273273247,
          0.031974474474474324,
          -0.00259009009009048,
          -0.020735735735735616,
          0.033678678678677354,
          -0.003978978978978809,
          0.0299774774774777,
          -0.007777777777777883,
          -0.011524024024024082,
          -0.026936936936937994,
          0.01249999999999929,
          0.038400900900901425,
          -0.02846096096096018,
          -0.012762762762762891,
          0.07272522522522085,
          0.015735735735736167,
          0.001644144144144155,
          -0.026996996996994982,
          -0.030915915915913916,
          -0.09028528528528412,
          0.05090840840840727,
          0.0509159159159156,
          0.018573573573573476,
          -0.005405405405404129,
          0.012072072072070394,
          0.05409159159158938,
          0.009024024024022914,
          0.00522522522522495,
          -0.05081831831831807,
          -0.06252252252252144,
          -0.011471471471471095,
          -0.04330330330330234,
          0.010465465465465451,
          0.058453453453451765,
          -0.03432432432432431,
          -0.01071321321321217,
          0.003100600600600245,
          -0.0021696696696679174,
          0.06228978978978872,
          0.07175675675675475,
          0.03475225225225054,
          0.05778528528528293,
          0.06289039039038924,
          0.004909909909908583,
          0.05349099099098753,
          0.004924924924925467,
          0.01909159159158902,
          0.032132132132131064,
          0.01701951951951819,
          0.05260510510510441,
          0.00787537537537375,
          -0.0060810810810809635,
          0.039166666666664574,
          -0.03876126126125934,
          -0.006861861861861107,
          0.005180180180180738,
          0.004489489489490461,
          0.03232732732732635,
          0.05847597597597187,
          0.008250750750750768,
          0.024947447447445814,
          -0.0037087087087082082,
          -0.022267267267264912,
          0.03677177177176838,
          0.024557057057054577,
          0.040442942942939375,
          -6.981981981986074E-4,
          0.01872372372372233,
          0.07061561561561569,
          0.05157657657657366,
          0.02451201201201103,
          0.04399399399399351,
          0.0172822822822829,
          0.028603603603601258,
          0.0011486486486493863,
          -0.03011261261261,
          -0.0018618618618618799,
          -0.01278528528528522,
          0.028018018018014734,
          0.014181681681680214,
          0.024466966966965265,
          0.027897897897896762,
          0.030930930930927136,
          0.03999999999999804,
          0.0035285285285273638,
          0.0018993993994007585,
          0.021418918918917118,
          0.02924174174173988,
          -0.01469969969969842,
          -0.03518768768768399,
          -0.010007507507506563,
          0.0024024024024018598,
          0.019632132132131774,
          -0.05572822822822687,
          -0.009954954954954243,
          -0.06066066066065812,
          -0.010435435435435347,
          -0.014969969969969021,
          0.03434684684684575,
          0.027875375375374656,
          -0.07102852852852792,
          -0.0025300300300311607,
          0.01765015015014937,
          -0.07436936936936767,
          -0.16220720720720616,
          -0.05918918918918892,
          0.04562312312312233,
          -0.056186186186185094,
          -0.06329579579579647,
          0.07671171171171154,
          0.15475225225225198,
          0.04527027027027031,
          0.03893393393393363,
          0.07099849849849749,
          0.05655405405405389,
          0.03070570570570519,
          -0.021951951951950766,
          0.0010360360360355259,
          0.05536036036035763,
          -0.013551051051049257,
          0.020743243243242837,
          0.06338588588588245,
          0.04948948948948795,
          -0.05758258258257942,
          -0.040217717717715096,
          0.040165165165163996,
          -0.03746996996996865,
          0.07373123123122904,
          0.0181606606606608,
          0.029774774774774082,
          0.06351351351350831,
          0.01366366366366445,
          0.03365615615615347,
          -0.01171171171171026,
          0.02272522522522369,
          -0.0021996996996992424,
          -4.279279279268966E-4,
          -0.018408408408405852,
          -0.05390390390390232,
          -0.049354354354354535,
          0.07704954954954912,
          -0.014466966966965367,
          0.005720720720719719,
          0.056246246246242304,
          0.04385885885885599,
          0.03139639639639191,
          -0.005975975975974102,
          -0.05990990990990752,
          0.033543543543540055,
          -0.0019219219219228645,
          0.021854354354353456,
          0.016599099099097403,
          0.002957957957956614,
          0.017342342342340444,
          0.032770270270266355,
          0.06512762762762248,
          0.025345345345343828,
          0.04521021021020588,
          0.03481231231231119,
          0.018280780780780104,
          -0.009894894894894812,
          0.03924924924924866,
          -0.009249249249246638,
          0.05455705705705238,
          0.028130630630627262,
          0.02668168168168039,
          0.022522522522519184,
          -0.013288288288286432,
          0.030075075075072455,
          0.0034009009009017266,
          -0.014481981981981806,
          0.020037537537534345,
          0.03023273273272986,
          -0.013093093093094033,
          0.02825825825825312,
          -0.01791291291291064,
          0.03218468468468272,
          0.04343843843843276,
          0.015833333333329813,
          0.002282282282282333,
          0.04680930930930782,
          0.012477477477475851,
          2.1771771771783577E-4,
          0.0293018018017992,
          -0.007530030030026724,
          0.015135135135132538,
          -0.04286786786786334,
          -0.025360360360358603,
          0.058055555555554195,
          0.02036786786786493,
          -0.020202702702699193,
          -0.05234234234234081,
          -0.003768768768769082,
          0.06146396396395826,
          0.0017117117117124714,
          0.02473723723723631,
          -0.028280780780780446,
          0.058536036036028305,
          0.009331831831831616,
          0.011493993993994867,
          -0.004587087087085662,
          0.04523273273273265,
          0.03180180180179559,
          0.011876876876876663,
          0.023596096096092145,
          0.009294294294294847,
          0.01928678678678275,
          0.017432432432431755,
          0.013648648648647344,
          0.016336336336334467,
          0.005165165165165186,
          0.03681681681681481,
          0.024496996996993925,
          0.029166666666663676,
          0.011771771771771133,
          0.025037537537536014,
          -0.02737237237236656,
          -7.732732732720349E-4,
          0.021028528528523216,
          0.03003003003002891,
          0.00960210210210044,
          0.015405405405403583,
          0.023415915915913077,
          -0.0036411411411424455,
          -0.06527777777777555,
          0.018873873873872515,
          -0.0894669669669641,
          0.09368618618618263,
          0.041291291291286614,
          0.008566066066063804,
          0.043918918918915084,
          -0.05617867867867832,
          0.04983483483482942,
          0.020818318318316154,
          -0.026448948948949114,
          0.037800300300294465,
          0.032867867867863776,
          0.034909909909907055,
          0.02680930930930736,
          -0.014016516516515032,
          -0.09361111111110709,
          -0.18348348348348387,
          0.1288888888888864,
          0.0715540540540538,
          0.02461711711711967,
          0.01599099099099388,
          0.0644519519519513,
          -0.006869369369366662,
          -0.005548048048042986,
          0.14040540540540425,
          0.05409909909909216,
          0.02852852852853105,
          0.0521096096096072,
          0.04906156156155683,
          0.03810810810810494,
          0.01629129129128959,
          0.016869369369369114,
          0.011163663663662282,
          0.02643393393393012,
          -0.02038288288288037,
          0.03498498498498348,
          -0.02757507507507051,
          0.045360360360353846,
          -0.07055555555555282,
          -0.012312312312310003,
          0.007882882882881193,
          -0.048010510510507864,
          0.005157657657655745,
          -0.06768018018017974,
          0.09111111111110559,
          -0.029324324324321083,
          -0.09201201201200937,
          0.08337837837837592,
          0.05950450450450018,
          -0.04256756756756219,
          0.08824324324324206,
          -0.005262762762760831,
          -0.012912912912911412,
          0.005990990990987433,
          -0.006478978978976202,
          0.062995495495489,
          0.0376951951951896,
          -0.019376876876874283,
          -0.03429429429428832,
          -0.04720720720720273,
          0.08611111111110614,
          0.07102852852852637,
          -0.0033783783783778443,
          0.027439939939941205,
          0.033686186186181466,
          -0.03638888888888547,
          0.03388888888888686,
          2.852852852868182E-4,
          0.052469969969967556,
          0.002424924924925298,
          -0.03054054054053601
         ],
         "type": "scatter"
        },
        {
         "line": {
          "color": "red",
          "width": 2
         },
         "mode": "lines",
         "name": "Train returns",
         "x": [
          "2001-11-01",
          "2001-12-01",
          "2002-01-01",
          "2002-02-01",
          "2002-03-01",
          "2002-04-01",
          "2002-05-01",
          "2002-06-01",
          "2002-07-01",
          "2002-08-01",
          "2002-09-01",
          "2002-10-01",
          "2002-11-01",
          "2002-12-01",
          "2003-01-01",
          "2003-02-01",
          "2003-03-01",
          "2003-04-01",
          "2003-05-01",
          "2003-06-01",
          "2003-07-01",
          "2003-08-01",
          "2003-09-01",
          "2003-10-01",
          "2003-11-01",
          "2003-12-01",
          "2004-01-01",
          "2004-02-01",
          "2004-03-01",
          "2004-04-01",
          "2004-05-01",
          "2004-06-01",
          "2004-07-01",
          "2004-08-01",
          "2004-09-01",
          "2004-10-01",
          "2004-11-01",
          "2004-12-01",
          "2005-01-01",
          "2005-02-01",
          "2005-03-01",
          "2005-04-01",
          "2005-05-01",
          "2005-06-01",
          "2005-07-01",
          "2005-08-01",
          "2005-09-01",
          "2005-10-01",
          "2005-11-01",
          "2005-12-01",
          "2006-01-01",
          "2006-02-01",
          "2006-03-01",
          "2006-04-01",
          "2006-05-01",
          "2006-06-01",
          "2006-07-01",
          "2006-08-01",
          "2006-09-01",
          "2006-10-01",
          "2006-11-01",
          "2006-12-01",
          "2007-01-01",
          "2007-02-01",
          "2007-03-01",
          "2007-04-01",
          "2007-05-01",
          "2007-06-01",
          "2007-07-01",
          "2007-08-01",
          "2007-09-01",
          "2007-10-01",
          "2007-11-01",
          "2007-12-01",
          "2008-01-01",
          "2008-02-01",
          "2008-03-01",
          "2008-04-01",
          "2008-05-01",
          "2008-06-01",
          "2008-07-01",
          "2008-08-01",
          "2008-09-01",
          "2008-10-01",
          "2008-11-01",
          "2008-12-01",
          "2009-01-01",
          "2009-02-01",
          "2009-03-01",
          "2009-04-01",
          "2009-05-01",
          "2009-06-01",
          "2009-07-01",
          "2009-08-01",
          "2009-09-01",
          "2009-10-01",
          "2009-11-01",
          "2009-12-01",
          "2010-01-01",
          "2010-02-01",
          "2010-03-01",
          "2010-04-01",
          "2010-05-01",
          "2010-06-01",
          "2010-07-01",
          "2010-08-01",
          "2010-09-01",
          "2010-10-01",
          "2010-11-01",
          "2010-12-01",
          "2011-01-01",
          "2011-02-01",
          "2011-03-01",
          "2011-04-01",
          "2011-05-01",
          "2011-06-01",
          "2011-07-01",
          "2011-08-01",
          "2011-09-01",
          "2011-10-01",
          "2011-11-01",
          "2011-12-01",
          "2012-01-01",
          "2012-02-01",
          "2012-03-01",
          "2012-04-01",
          "2012-05-01",
          "2012-06-01",
          "2012-07-01",
          "2012-08-01",
          "2012-09-01",
          "2012-10-01",
          "2012-11-01",
          "2012-12-01",
          "2013-01-01",
          "2013-02-01",
          "2013-03-01",
          "2013-04-01",
          "2013-05-01",
          "2013-06-01",
          "2013-07-01",
          "2013-08-01",
          "2013-09-01",
          "2013-10-01",
          "2013-11-01",
          "2013-12-01",
          "2014-01-01",
          "2014-02-01",
          "2014-03-01",
          "2014-04-01",
          "2014-05-01",
          "2014-06-01",
          "2014-07-01",
          "2014-08-01",
          "2014-09-01",
          "2014-10-01",
          "2014-11-01",
          "2014-12-01",
          "2015-01-01",
          "2015-02-01",
          "2015-03-01",
          "2015-04-01",
          "2015-05-01",
          "2015-06-01",
          "2015-07-01",
          "2015-08-01",
          "2015-09-01",
          "2015-10-01",
          "2015-11-01",
          "2015-12-01",
          "2016-01-01",
          "2016-02-01",
          "2016-03-01",
          "2016-04-01",
          "2016-05-01",
          "2016-06-01",
          "2016-07-01",
          "2016-08-01",
          "2016-09-01",
          "2016-10-01",
          "2016-11-01",
          "2016-12-01",
          "2017-01-01",
          "2017-02-01",
          "2017-03-01",
          "2017-04-01",
          "2017-05-01",
          "2017-06-01",
          "2017-07-01",
          "2017-08-01",
          "2017-09-01",
          "2017-10-01",
          "2017-11-01",
          "2017-12-01",
          "2018-01-01",
          "2018-02-01",
          "2018-03-01",
          "2018-04-01",
          "2018-05-01",
          "2018-06-01",
          "2018-07-01",
          "2018-08-01",
          "2018-09-01",
          "2018-10-01",
          "2018-11-01",
          "2018-12-01",
          "2019-01-01",
          "2019-02-01",
          "2019-03-01",
          "2019-04-01",
          "2019-05-01",
          "2019-06-01",
          "2019-07-01",
          "2019-08-01",
          "2019-09-01",
          "2019-10-01",
          "2019-11-01",
          "2019-12-01",
          "2020-01-01",
          "2020-02-01",
          "2020-03-01",
          "2020-04-01",
          "2020-05-01",
          "2020-06-01",
          "2020-07-01",
          "2020-08-01",
          "2020-09-01",
          "2020-10-01",
          "2020-11-01",
          "2020-12-01",
          "2021-01-01",
          "2021-02-01",
          "2021-03-01",
          "2021-04-01",
          "2021-05-01",
          "2021-06-01",
          "2021-07-01",
          "2021-08-01",
          "2021-09-01",
          "2021-10-01",
          "2021-11-01",
          "2021-12-01",
          "2022-01-01",
          "2022-02-01",
          "2022-03-01",
          "2022-04-01",
          "2022-05-01",
          "2022-06-01",
          "2022-07-01",
          "2022-08-01",
          "2022-09-01",
          "2022-10-01",
          "2022-11-01",
          "2022-12-01",
          "2023-01-01",
          "2023-02-01",
          "2023-03-01",
          "2023-04-01",
          "2023-05-01",
          "2023-06-01",
          "2023-07-01",
          "2023-08-01"
         ],
         "y": [
          0.03125035762786865,
          0.02132093906402588,
          0.018060922622680664,
          0.02088475227355957,
          0.017316341400146484,
          0.017704010009765625,
          0.016815185546875,
          0.017214655876159668,
          0.020341992378234863,
          0.0185849666595459,
          0.01676356792449951,
          0.017722725868225098,
          0.019510865211486816,
          0.01614391803741455,
          0.01718294620513916,
          0.015323519706726074,
          0.01569533348083496,
          0.019249439239501953,
          0.01615595817565918,
          0.017949581146240234,
          0.017482399940490723,
          0.015076637268066406,
          0.01776289939880371,
          0.016918063163757324,
          0.015460729598999023,
          0.016067862510681152,
          0.014108657836914062,
          0.01590263843536377,
          0.013282179832458496,
          0.014678239822387695,
          0.015996932983398438,
          0.014212965965270996,
          0.016228437423706055,
          0.013668060302734375,
          0.018213748931884766,
          0.01547539234161377,
          0.013609528541564941,
          0.013516783714294434,
          0.01524507999420166,
          0.015170454978942871,
          0.0163424015045166,
          0.014861464500427246,
          0.015102624893188477,
          0.016449570655822754,
          0.014591097831726074,
          0.01627635955810547,
          0.015429973602294922,
          0.012386083602905273,
          0.01463615894317627,
          0.014220237731933594,
          0.015039801597595215,
          0.01538705825805664,
          0.015187382698059082,
          0.014911413192749023,
          0.013331770896911621,
          0.01377570629119873,
          0.0167464017868042,
          0.013207793235778809,
          0.014416694641113281,
          0.01353609561920166,
          0.014368176460266113,
          0.013406872749328613,
          0.013670921325683594,
          0.014698982238769531,
          0.014175176620483398,
          0.013444185256958008,
          0.013242959976196289,
          0.011752843856811523,
          0.01246631145477295,
          0.012664318084716797,
          0.014232754707336426,
          0.012905597686767578,
          0.012213468551635742,
          0.014348626136779785,
          0.013210415840148926,
          0.013827323913574219,
          0.013226866722106934,
          0.012774109840393066,
          0.013050556182861328,
          0.012890100479125977,
          0.012139558792114258,
          0.012136101722717285,
          0.015604972839355469,
          0.012655377388000488,
          0.013576030731201172,
          0.012394547462463379,
          0.014140725135803223,
          0.015231132507324219,
          0.012888073921203613,
          0.014937281608581543,
          0.012775182723999023,
          0.014222502708435059,
          0.013756990432739258,
          0.013493895530700684,
          0.012107610702514648,
          0.012403726577758789,
          0.014341235160827637,
          0.014077544212341309,
          0.013889074325561523,
          0.011197566986083984,
          0.012093424797058105,
          0.015035390853881836,
          0.012378811836242676,
          0.011411428451538086,
          0.014140129089355469,
          0.011350512504577637,
          0.012447953224182129,
          0.014596104621887207,
          0.011593818664550781,
          0.011566519737243652,
          0.013636350631713867,
          0.013393044471740723,
          0.013367772102355957,
          0.01311194896697998,
          0.012714743614196777,
          0.01289987564086914,
          0.010819673538208008,
          0.01220548152923584,
          0.012126326560974121,
          0.012063384056091309,
          0.012153267860412598,
          0.01192939281463623,
          0.013669490814208984,
          0.011452078819274902,
          0.013242959976196289,
          0.012972593307495117,
          0.012427330017089844,
          0.012122154235839844,
          0.010827064514160156,
          0.01255786418914795,
          0.011250495910644531,
          0.013171076774597168,
          0.013138413429260254,
          0.012523770332336426,
          0.012497305870056152,
          0.014325857162475586,
          0.012570619583129883,
          0.012535810470581055,
          0.01225423812866211,
          0.012660980224609375,
          0.013684391975402832,
          0.011880040168762207,
          0.012615084648132324,
          0.012493491172790527,
          0.012672901153564453,
          0.013944864273071289,
          0.012585759162902832,
          0.011857986450195312,
          0.011742591857910156,
          0.0129777193069458,
          0.011039137840270996,
          0.01070857048034668,
          0.010628938674926758,
          0.012377262115478516,
          0.012542128562927246,
          0.011929988861083984,
          0.013030290603637695,
          0.011930227279663086,
          0.013127684593200684,
          0.011146068572998047,
          0.011190056800842285,
          0.011650323867797852,
          0.011786699295043945,
          0.012548446655273438,
          0.012578368186950684,
          0.012919068336486816,
          0.012801766395568848,
          0.012927412986755371,
          0.012851476669311523,
          0.010787606239318848,
          0.01180112361907959,
          0.0105057954788208,
          0.0111922025680542,
          0.011783838272094727,
          0.01101541519165039,
          0.011208415031433105,
          0.012102603912353516,
          0.010863304138183594,
          0.011623501777648926,
          0.01140296459197998,
          0.011873126029968262,
          0.012935638427734375,
          0.009881973266601562,
          0.011454582214355469,
          0.010250568389892578,
          0.012669682502746582,
          0.011759757995605469,
          0.011015057563781738,
          0.01288139820098877,
          0.011573553085327148,
          0.010947823524475098,
          0.010982632637023926,
          0.01154637336730957,
          0.011128425598144531,
          0.010117650032043457,
          0.011532187461853027,
          0.011055231094360352,
          0.012436866760253906,
          0.01094973087310791,
          0.011736273765563965,
          0.01201772689819336,
          0.0127180814743042,
          0.010326266288757324,
          0.009922385215759277,
          0.011127829551696777,
          0.008400440216064453,
          0.011293530464172363,
          0.011448025703430176,
          0.010555148124694824,
          0.008920073509216309,
          0.010246872901916504,
          0.009629130363464355,
          0.01120615005493164,
          0.009310483932495117,
          0.009983181953430176,
          0.011183857917785645,
          0.0098114013671875,
          0.008009910583496094,
          0.009290933609008789,
          0.010532855987548828,
          0.011018991470336914,
          0.01052713394165039,
          0.010374665260314941,
          0.011644721031188965,
          0.011167287826538086,
          0.009627580642700195,
          0.009797453880310059,
          0.01070868968963623,
          0.01083672046661377,
          0.010149598121643066,
          0.00884711742401123,
          0.00946044921875,
          0.010202407836914062,
          0.009494781494140625,
          0.009580612182617188,
          0.008888006210327148,
          0.009315252304077148,
          0.007359743118286133,
          0.009849190711975098,
          0.009371519088745117,
          0.008797645568847656,
          0.009420275688171387,
          0.00978553295135498,
          0.008783340454101562,
          0.008491992950439453,
          0.007372379302978516,
          0.006956577301025391,
          0.010471940040588379,
          0.009268522262573242,
          0.009058713912963867,
          0.0075408220291137695,
          0.008035421371459961,
          0.006339907646179199,
          0.008448123931884766,
          0.007286667823791504,
          0.006527900695800781,
          0.008079051971435547,
          0.00783681869506836,
          0.007256269454956055,
          0.006620287895202637,
          0.0075626373291015625,
          0.006098747253417969
         ],
         "type": "scatter"
        },
        {
         "line": {
          "color": "green",
          "width": 2
         },
         "mode": "lines",
         "name": "Test returns",
         "x": [
          "2023-08-01",
          "2023-09-01",
          "2023-10-01",
          "2023-11-01",
          "2023-12-01",
          "2024-01-01",
          "2024-02-01",
          "2024-03-01",
          "2024-04-01",
          "2024-05-01",
          "2024-06-01",
          "2024-07-01",
          "2024-08-01"
         ],
         "y": [
          0.006098747253417969,
          0.00596308708190918,
          0.006490945816040039,
          0.006528615951538086,
          0.006063222885131836,
          0.005342364311218262,
          0.006044507026672363,
          0.005648612976074219,
          0.005657553672790527,
          0.005694270133972168,
          0.005913376808166504,
          0.005160689353942871,
          0.004715919494628906
         ],
         "type": "scatter"
        }
       ],
       "layout": {
        "template": {
         "data": {
          "barpolar": [
           {
            "marker": {
             "line": {
              "color": "white",
              "width": 0.5
             },
             "pattern": {
              "fillmode": "overlay",
              "size": 10,
              "solidity": 0.2
             }
            },
            "type": "barpolar"
           }
          ],
          "bar": [
           {
            "error_x": {
             "color": "#2a3f5f"
            },
            "error_y": {
             "color": "#2a3f5f"
            },
            "marker": {
             "line": {
              "color": "white",
              "width": 0.5
             },
             "pattern": {
              "fillmode": "overlay",
              "size": 10,
              "solidity": 0.2
             }
            },
            "type": "bar"
           }
          ],
          "carpet": [
           {
            "aaxis": {
             "endlinecolor": "#2a3f5f",
             "gridcolor": "#C8D4E3",
             "linecolor": "#C8D4E3",
             "minorgridcolor": "#C8D4E3",
             "startlinecolor": "#2a3f5f"
            },
            "baxis": {
             "endlinecolor": "#2a3f5f",
             "gridcolor": "#C8D4E3",
             "linecolor": "#C8D4E3",
             "minorgridcolor": "#C8D4E3",
             "startlinecolor": "#2a3f5f"
            },
            "type": "carpet"
           }
          ],
          "choropleth": [
           {
            "colorbar": {
             "outlinewidth": 0,
             "ticks": ""
            },
            "type": "choropleth"
           }
          ],
          "contourcarpet": [
           {
            "colorbar": {
             "outlinewidth": 0,
             "ticks": ""
            },
            "type": "contourcarpet"
           }
          ],
          "contour": [
           {
            "colorbar": {
             "outlinewidth": 0,
             "ticks": ""
            },
            "colorscale": [
             [
              0.0,
              "#0d0887"
             ],
             [
              0.1111111111111111,
              "#46039f"
             ],
             [
              0.2222222222222222,
              "#7201a8"
             ],
             [
              0.3333333333333333,
              "#9c179e"
             ],
             [
              0.4444444444444444,
              "#bd3786"
             ],
             [
              0.5555555555555556,
              "#d8576b"
             ],
             [
              0.6666666666666666,
              "#ed7953"
             ],
             [
              0.7777777777777778,
              "#fb9f3a"
             ],
             [
              0.8888888888888888,
              "#fdca26"
             ],
             [
              1.0,
              "#f0f921"
             ]
            ],
            "type": "contour"
           }
          ],
          "heatmapgl": [
           {
            "colorbar": {
             "outlinewidth": 0,
             "ticks": ""
            },
            "colorscale": [
             [
              0.0,
              "#0d0887"
             ],
             [
              0.1111111111111111,
              "#46039f"
             ],
             [
              0.2222222222222222,
              "#7201a8"
             ],
             [
              0.3333333333333333,
              "#9c179e"
             ],
             [
              0.4444444444444444,
              "#bd3786"
             ],
             [
              0.5555555555555556,
              "#d8576b"
             ],
             [
              0.6666666666666666,
              "#ed7953"
             ],
             [
              0.7777777777777778,
              "#fb9f3a"
             ],
             [
              0.8888888888888888,
              "#fdca26"
             ],
             [
              1.0,
              "#f0f921"
             ]
            ],
            "type": "heatmapgl"
           }
          ],
          "heatmap": [
           {
            "colorbar": {
             "outlinewidth": 0,
             "ticks": ""
            },
            "colorscale": [
             [
              0.0,
              "#0d0887"
             ],
             [
              0.1111111111111111,
              "#46039f"
             ],
             [
              0.2222222222222222,
              "#7201a8"
             ],
             [
              0.3333333333333333,
              "#9c179e"
             ],
             [
              0.4444444444444444,
              "#bd3786"
             ],
             [
              0.5555555555555556,
              "#d8576b"
             ],
             [
              0.6666666666666666,
              "#ed7953"
             ],
             [
              0.7777777777777778,
              "#fb9f3a"
             ],
             [
              0.8888888888888888,
              "#fdca26"
             ],
             [
              1.0,
              "#f0f921"
             ]
            ],
            "type": "heatmap"
           }
          ],
          "histogram2dcontour": [
           {
            "colorbar": {
             "outlinewidth": 0,
             "ticks": ""
            },
            "colorscale": [
             [
              0.0,
              "#0d0887"
             ],
             [
              0.1111111111111111,
              "#46039f"
             ],
             [
              0.2222222222222222,
              "#7201a8"
             ],
             [
              0.3333333333333333,
              "#9c179e"
             ],
             [
              0.4444444444444444,
              "#bd3786"
             ],
             [
              0.5555555555555556,
              "#d8576b"
             ],
             [
              0.6666666666666666,
              "#ed7953"
             ],
             [
              0.7777777777777778,
              "#fb9f3a"
             ],
             [
              0.8888888888888888,
              "#fdca26"
             ],
             [
              1.0,
              "#f0f921"
             ]
            ],
            "type": "histogram2dcontour"
           }
          ],
          "histogram2d": [
           {
            "colorbar": {
             "outlinewidth": 0,
             "ticks": ""
            },
            "colorscale": [
             [
              0.0,
              "#0d0887"
             ],
             [
              0.1111111111111111,
              "#46039f"
             ],
             [
              0.2222222222222222,
              "#7201a8"
             ],
             [
              0.3333333333333333,
              "#9c179e"
             ],
             [
              0.4444444444444444,
              "#bd3786"
             ],
             [
              0.5555555555555556,
              "#d8576b"
             ],
             [
              0.6666666666666666,
              "#ed7953"
             ],
             [
              0.7777777777777778,
              "#fb9f3a"
             ],
             [
              0.8888888888888888,
              "#fdca26"
             ],
             [
              1.0,
              "#f0f921"
             ]
            ],
            "type": "histogram2d"
           }
          ],
          "histogram": [
           {
            "marker": {
             "pattern": {
              "fillmode": "overlay",
              "size": 10,
              "solidity": 0.2
             }
            },
            "type": "histogram"
           }
          ],
          "mesh3d": [
           {
            "colorbar": {
             "outlinewidth": 0,
             "ticks": ""
            },
            "type": "mesh3d"
           }
          ],
          "parcoords": [
           {
            "line": {
             "colorbar": {
              "outlinewidth": 0,
              "ticks": ""
             }
            },
            "type": "parcoords"
           }
          ],
          "pie": [
           {
            "automargin": true,
            "type": "pie"
           }
          ],
          "scatter3d": [
           {
            "line": {
             "colorbar": {
              "outlinewidth": 0,
              "ticks": ""
             }
            },
            "marker": {
             "colorbar": {
              "outlinewidth": 0,
              "ticks": ""
             }
            },
            "type": "scatter3d"
           }
          ],
          "scattercarpet": [
           {
            "marker": {
             "colorbar": {
              "outlinewidth": 0,
              "ticks": ""
             }
            },
            "type": "scattercarpet"
           }
          ],
          "scattergeo": [
           {
            "marker": {
             "colorbar": {
              "outlinewidth": 0,
              "ticks": ""
             }
            },
            "type": "scattergeo"
           }
          ],
          "scattergl": [
           {
            "marker": {
             "colorbar": {
              "outlinewidth": 0,
              "ticks": ""
             }
            },
            "type": "scattergl"
           }
          ],
          "scattermapbox": [
           {
            "marker": {
             "colorbar": {
              "outlinewidth": 0,
              "ticks": ""
             }
            },
            "type": "scattermapbox"
           }
          ],
          "scatterpolargl": [
           {
            "marker": {
             "colorbar": {
              "outlinewidth": 0,
              "ticks": ""
             }
            },
            "type": "scatterpolargl"
           }
          ],
          "scatterpolar": [
           {
            "marker": {
             "colorbar": {
              "outlinewidth": 0,
              "ticks": ""
             }
            },
            "type": "scatterpolar"
           }
          ],
          "scatter": [
           {
            "fillpattern": {
             "fillmode": "overlay",
             "size": 10,
             "solidity": 0.2
            },
            "type": "scatter"
           }
          ],
          "scatterternary": [
           {
            "marker": {
             "colorbar": {
              "outlinewidth": 0,
              "ticks": ""
             }
            },
            "type": "scatterternary"
           }
          ],
          "surface": [
           {
            "colorbar": {
             "outlinewidth": 0,
             "ticks": ""
            },
            "colorscale": [
             [
              0.0,
              "#0d0887"
             ],
             [
              0.1111111111111111,
              "#46039f"
             ],
             [
              0.2222222222222222,
              "#7201a8"
             ],
             [
              0.3333333333333333,
              "#9c179e"
             ],
             [
              0.4444444444444444,
              "#bd3786"
             ],
             [
              0.5555555555555556,
              "#d8576b"
             ],
             [
              0.6666666666666666,
              "#ed7953"
             ],
             [
              0.7777777777777778,
              "#fb9f3a"
             ],
             [
              0.8888888888888888,
              "#fdca26"
             ],
             [
              1.0,
              "#f0f921"
             ]
            ],
            "type": "surface"
           }
          ],
          "table": [
           {
            "cells": {
             "fill": {
              "color": "#EBF0F8"
             },
             "line": {
              "color": "white"
             }
            },
            "header": {
             "fill": {
              "color": "#C8D4E3"
             },
             "line": {
              "color": "white"
             }
            },
            "type": "table"
           }
          ]
         },
         "layout": {
          "annotationdefaults": {
           "arrowcolor": "#2a3f5f",
           "arrowhead": 0,
           "arrowwidth": 1
          },
          "autotypenumbers": "strict",
          "coloraxis": {
           "colorbar": {
            "outlinewidth": 0,
            "ticks": ""
           }
          },
          "colorscale": {
           "diverging": [
            [
             0,
             "#8e0152"
            ],
            [
             0.1,
             "#c51b7d"
            ],
            [
             0.2,
             "#de77ae"
            ],
            [
             0.3,
             "#f1b6da"
            ],
            [
             0.4,
             "#fde0ef"
            ],
            [
             0.5,
             "#f7f7f7"
            ],
            [
             0.6,
             "#e6f5d0"
            ],
            [
             0.7,
             "#b8e186"
            ],
            [
             0.8,
             "#7fbc41"
            ],
            [
             0.9,
             "#4d9221"
            ],
            [
             1,
             "#276419"
            ]
           ],
           "sequential": [
            [
             0.0,
             "#0d0887"
            ],
            [
             0.1111111111111111,
             "#46039f"
            ],
            [
             0.2222222222222222,
             "#7201a8"
            ],
            [
             0.3333333333333333,
             "#9c179e"
            ],
            [
             0.4444444444444444,
             "#bd3786"
            ],
            [
             0.5555555555555556,
             "#d8576b"
            ],
            [
             0.6666666666666666,
             "#ed7953"
            ],
            [
             0.7777777777777778,
             "#fb9f3a"
            ],
            [
             0.8888888888888888,
             "#fdca26"
            ],
            [
             1.0,
             "#f0f921"
            ]
           ],
           "sequentialminus": [
            [
             0.0,
             "#0d0887"
            ],
            [
             0.1111111111111111,
             "#46039f"
            ],
            [
             0.2222222222222222,
             "#7201a8"
            ],
            [
             0.3333333333333333,
             "#9c179e"
            ],
            [
             0.4444444444444444,
             "#bd3786"
            ],
            [
             0.5555555555555556,
             "#d8576b"
            ],
            [
             0.6666666666666666,
             "#ed7953"
            ],
            [
             0.7777777777777778,
             "#fb9f3a"
            ],
            [
             0.8888888888888888,
             "#fdca26"
            ],
            [
             1.0,
             "#f0f921"
            ]
           ]
          },
          "colorway": [
           "#636efa",
           "#EF553B",
           "#00cc96",
           "#ab63fa",
           "#FFA15A",
           "#19d3f3",
           "#FF6692",
           "#B6E880",
           "#FF97FF",
           "#FECB52"
          ],
          "font": {
           "color": "#2a3f5f"
          },
          "geo": {
           "bgcolor": "white",
           "lakecolor": "white",
           "landcolor": "white",
           "showlakes": true,
           "showland": true,
           "subunitcolor": "#C8D4E3"
          },
          "hoverlabel": {
           "align": "left"
          },
          "hovermode": "closest",
          "mapbox": {
           "style": "light"
          },
          "paper_bgcolor": "white",
          "plot_bgcolor": "white",
          "polar": {
           "angularaxis": {
            "gridcolor": "#EBF0F8",
            "linecolor": "#EBF0F8",
            "ticks": ""
           },
           "bgcolor": "white",
           "radialaxis": {
            "gridcolor": "#EBF0F8",
            "linecolor": "#EBF0F8",
            "ticks": ""
           }
          },
          "scene": {
           "xaxis": {
            "backgroundcolor": "white",
            "gridcolor": "#DFE8F3",
            "gridwidth": 2,
            "linecolor": "#EBF0F8",
            "showbackground": true,
            "ticks": "",
            "zerolinecolor": "#EBF0F8"
           },
           "yaxis": {
            "backgroundcolor": "white",
            "gridcolor": "#DFE8F3",
            "gridwidth": 2,
            "linecolor": "#EBF0F8",
            "showbackground": true,
            "ticks": "",
            "zerolinecolor": "#EBF0F8"
           },
           "zaxis": {
            "backgroundcolor": "white",
            "gridcolor": "#DFE8F3",
            "gridwidth": 2,
            "linecolor": "#EBF0F8",
            "showbackground": true,
            "ticks": "",
            "zerolinecolor": "#EBF0F8"
           }
          },
          "shapedefaults": {
           "line": {
            "color": "#2a3f5f"
           }
          },
          "ternary": {
           "aaxis": {
            "gridcolor": "#DFE8F3",
            "linecolor": "#A2B1C6",
            "ticks": ""
           },
           "baxis": {
            "gridcolor": "#DFE8F3",
            "linecolor": "#A2B1C6",
            "ticks": ""
           },
           "bgcolor": "white",
           "caxis": {
            "gridcolor": "#DFE8F3",
            "linecolor": "#A2B1C6",
            "ticks": ""
           }
          },
          "title": {
           "x": 0.05
          },
          "xaxis": {
           "automargin": true,
           "gridcolor": "#EBF0F8",
           "linecolor": "#EBF0F8",
           "ticks": "",
           "title": {
            "standoff": 15
           },
           "zerolinecolor": "#EBF0F8",
           "zerolinewidth": 2
          },
          "yaxis": {
           "automargin": true,
           "gridcolor": "#EBF0F8",
           "linecolor": "#EBF0F8",
           "ticks": "",
           "title": {
            "standoff": 15
           },
           "zerolinecolor": "#EBF0F8",
           "zerolinewidth": 2
          }
         }
        },
        "shapes": [
         {
          "line": {
           "color": "red",
           "dash": "dash",
           "width": 1
          },
          "type": "line",
          "x0": "2023-08-01",
          "x1": "2023-08-01",
          "xref": "x",
          "y0": 0,
          "y1": 1,
          "yref": "y domain"
         }
        ],
        "yaxis": {
         "title": {
          "text": "Day closing return (%)"
         },
         "tickformat": ".0%",
         "range": [
          -0.25,
          0.6
         ]
        },
        "title": {
         "text": "12 Month Prediction vs Actual Plot"
        },
        "xaxis": {
         "title": {
          "text": "Date"
         }
        },
        "legend": {
         "title": {
          "text": "Legend"
         }
        }
       },
       "config": {
        "plotlyServerURL": "https://plot.ly"
       }
      },
      "text/html": [
       "<div>                            <div id=\"0aecd16f-133d-4b93-8a98-3646c0f884ec\" class=\"plotly-graph-div\" style=\"height:525px; width:100%;\"></div>            <script type=\"text/javascript\">                require([\"plotly\"], function(Plotly) {                    window.PLOTLYENV=window.PLOTLYENV || {};                                    if (document.getElementById(\"0aecd16f-133d-4b93-8a98-3646c0f884ec\")) {                    Plotly.newPlot(                        \"0aecd16f-133d-4b93-8a98-3646c0f884ec\",                        [{\"line\":{\"color\":\"#5c839f\",\"width\":2},\"mode\":\"lines\",\"name\":\"Actual returns\",\"x\":[\"2001-11-01\",\"2001-12-01\",\"2002-01-01\",\"2002-02-01\",\"2002-03-01\",\"2002-04-01\",\"2002-05-01\",\"2002-06-01\",\"2002-07-01\",\"2002-08-01\",\"2002-09-01\",\"2002-10-01\",\"2002-11-01\",\"2002-12-01\",\"2003-01-01\",\"2003-02-01\",\"2003-03-01\",\"2003-04-01\",\"2003-05-01\",\"2003-06-01\",\"2003-07-01\",\"2003-08-01\",\"2003-09-01\",\"2003-10-01\",\"2003-11-01\",\"2003-12-01\",\"2004-01-01\",\"2004-02-01\",\"2004-03-01\",\"2004-04-01\",\"2004-05-01\",\"2004-06-01\",\"2004-07-01\",\"2004-08-01\",\"2004-09-01\",\"2004-10-01\",\"2004-11-01\",\"2004-12-01\",\"2005-01-01\",\"2005-02-01\",\"2005-03-01\",\"2005-04-01\",\"2005-05-01\",\"2005-06-01\",\"2005-07-01\",\"2005-08-01\",\"2005-09-01\",\"2005-10-01\",\"2005-11-01\",\"2005-12-01\",\"2006-01-01\",\"2006-02-01\",\"2006-03-01\",\"2006-04-01\",\"2006-05-01\",\"2006-06-01\",\"2006-07-01\",\"2006-08-01\",\"2006-09-01\",\"2006-10-01\",\"2006-11-01\",\"2006-12-01\",\"2007-01-01\",\"2007-02-01\",\"2007-03-01\",\"2007-04-01\",\"2007-05-01\",\"2007-06-01\",\"2007-07-01\",\"2007-08-01\",\"2007-09-01\",\"2007-10-01\",\"2007-11-01\",\"2007-12-01\",\"2008-01-01\",\"2008-02-01\",\"2008-03-01\",\"2008-04-01\",\"2008-05-01\",\"2008-06-01\",\"2008-07-01\",\"2008-08-01\",\"2008-09-01\",\"2008-10-01\",\"2008-11-01\",\"2008-12-01\",\"2009-01-01\",\"2009-02-01\",\"2009-03-01\",\"2009-04-01\",\"2009-05-01\",\"2009-06-01\",\"2009-07-01\",\"2009-08-01\",\"2009-09-01\",\"2009-10-01\",\"2009-11-01\",\"2009-12-01\",\"2010-01-01\",\"2010-02-01\",\"2010-03-01\",\"2010-04-01\",\"2010-05-01\",\"2010-06-01\",\"2010-07-01\",\"2010-08-01\",\"2010-09-01\",\"2010-10-01\",\"2010-11-01\",\"2010-12-01\",\"2011-01-01\",\"2011-02-01\",\"2011-03-01\",\"2011-04-01\",\"2011-05-01\",\"2011-06-01\",\"2011-07-01\",\"2011-08-01\",\"2011-09-01\",\"2011-10-01\",\"2011-11-01\",\"2011-12-01\",\"2012-01-01\",\"2012-02-01\",\"2012-03-01\",\"2012-04-01\",\"2012-05-01\",\"2012-06-01\",\"2012-07-01\",\"2012-08-01\",\"2012-09-01\",\"2012-10-01\",\"2012-11-01\",\"2012-12-01\",\"2013-01-01\",\"2013-02-01\",\"2013-03-01\",\"2013-04-01\",\"2013-05-01\",\"2013-06-01\",\"2013-07-01\",\"2013-08-01\",\"2013-09-01\",\"2013-10-01\",\"2013-11-01\",\"2013-12-01\",\"2014-01-01\",\"2014-02-01\",\"2014-03-01\",\"2014-04-01\",\"2014-05-01\",\"2014-06-01\",\"2014-07-01\",\"2014-08-01\",\"2014-09-01\",\"2014-10-01\",\"2014-11-01\",\"2014-12-01\",\"2015-01-01\",\"2015-02-01\",\"2015-03-01\",\"2015-04-01\",\"2015-05-01\",\"2015-06-01\",\"2015-07-01\",\"2015-08-01\",\"2015-09-01\",\"2015-10-01\",\"2015-11-01\",\"2015-12-01\",\"2016-01-01\",\"2016-02-01\",\"2016-03-01\",\"2016-04-01\",\"2016-05-01\",\"2016-06-01\",\"2016-07-01\",\"2016-08-01\",\"2016-09-01\",\"2016-10-01\",\"2016-11-01\",\"2016-12-01\",\"2017-01-01\",\"2017-02-01\",\"2017-03-01\",\"2017-04-01\",\"2017-05-01\",\"2017-06-01\",\"2017-07-01\",\"2017-08-01\",\"2017-09-01\",\"2017-10-01\",\"2017-11-01\",\"2017-12-01\",\"2018-01-01\",\"2018-02-01\",\"2018-03-01\",\"2018-04-01\",\"2018-05-01\",\"2018-06-01\",\"2018-07-01\",\"2018-08-01\",\"2018-09-01\",\"2018-10-01\",\"2018-11-01\",\"2018-12-01\",\"2019-01-01\",\"2019-02-01\",\"2019-03-01\",\"2019-04-01\",\"2019-05-01\",\"2019-06-01\",\"2019-07-01\",\"2019-08-01\",\"2019-09-01\",\"2019-10-01\",\"2019-11-01\",\"2019-12-01\",\"2020-01-01\",\"2020-02-01\",\"2020-03-01\",\"2020-04-01\",\"2020-05-01\",\"2020-06-01\",\"2020-07-01\",\"2020-08-01\",\"2020-09-01\",\"2020-10-01\",\"2020-11-01\",\"2020-12-01\",\"2021-01-01\",\"2021-02-01\",\"2021-03-01\",\"2021-04-01\",\"2021-05-01\",\"2021-06-01\",\"2021-07-01\",\"2021-08-01\",\"2021-09-01\",\"2021-10-01\",\"2021-11-01\",\"2021-12-01\",\"2022-01-01\",\"2022-02-01\",\"2022-03-01\",\"2022-04-01\",\"2022-05-01\",\"2022-06-01\",\"2022-07-01\",\"2022-08-01\",\"2022-09-01\",\"2022-10-01\",\"2022-11-01\",\"2022-12-01\",\"2023-01-01\",\"2023-02-01\",\"2023-03-01\",\"2023-04-01\",\"2023-05-01\",\"2023-06-01\",\"2023-07-01\",\"2023-08-01\",\"2023-09-01\",\"2023-10-01\",\"2023-11-01\",\"2023-12-01\",\"2024-01-01\",\"2024-02-01\",\"2024-03-01\",\"2024-04-01\",\"2024-05-01\",\"2024-06-01\",\"2024-07-01\",\"2024-08-01\"],\"y\":[0.02743993993994054,0.038025525525524406,-0.009414414414414263,0.22023273273273247,0.031974474474474324,-0.00259009009009048,-0.020735735735735616,0.033678678678677354,-0.003978978978978809,0.0299774774774777,-0.007777777777777883,-0.011524024024024082,-0.026936936936937994,0.01249999999999929,0.038400900900901425,-0.02846096096096018,-0.012762762762762891,0.07272522522522085,0.015735735735736167,0.001644144144144155,-0.026996996996994982,-0.030915915915913916,-0.09028528528528412,0.05090840840840727,0.0509159159159156,0.018573573573573476,-0.005405405405404129,0.012072072072070394,0.05409159159158938,0.009024024024022914,0.00522522522522495,-0.05081831831831807,-0.06252252252252144,-0.011471471471471095,-0.04330330330330234,0.010465465465465451,0.058453453453451765,-0.03432432432432431,-0.01071321321321217,0.003100600600600245,-0.0021696696696679174,0.06228978978978872,0.07175675675675475,0.03475225225225054,0.05778528528528293,0.06289039039038924,0.004909909909908583,0.05349099099098753,0.004924924924925467,0.01909159159158902,0.032132132132131064,0.01701951951951819,0.05260510510510441,0.00787537537537375,-0.0060810810810809635,0.039166666666664574,-0.03876126126125934,-0.006861861861861107,0.005180180180180738,0.004489489489490461,0.03232732732732635,0.05847597597597187,0.008250750750750768,0.024947447447445814,-0.0037087087087082082,-0.022267267267264912,0.03677177177176838,0.024557057057054577,0.040442942942939375,-0.0006981981981986074,0.01872372372372233,0.07061561561561569,0.05157657657657366,0.02451201201201103,0.04399399399399351,0.0172822822822829,0.028603603603601258,0.0011486486486493863,-0.03011261261261,-0.0018618618618618799,-0.01278528528528522,0.028018018018014734,0.014181681681680214,0.024466966966965265,0.027897897897896762,0.030930930930927136,0.03999999999999804,0.0035285285285273638,0.0018993993994007585,0.021418918918917118,0.02924174174173988,-0.01469969969969842,-0.03518768768768399,-0.010007507507506563,0.0024024024024018598,0.019632132132131774,-0.05572822822822687,-0.009954954954954243,-0.06066066066065812,-0.010435435435435347,-0.014969969969969021,0.03434684684684575,0.027875375375374656,-0.07102852852852792,-0.0025300300300311607,0.01765015015014937,-0.07436936936936767,-0.16220720720720616,-0.05918918918918892,0.04562312312312233,-0.056186186186185094,-0.06329579579579647,0.07671171171171154,0.15475225225225198,0.04527027027027031,0.03893393393393363,0.07099849849849749,0.05655405405405389,0.03070570570570519,-0.021951951951950766,0.0010360360360355259,0.05536036036035763,-0.013551051051049257,0.020743243243242837,0.06338588588588245,0.04948948948948795,-0.05758258258257942,-0.040217717717715096,0.040165165165163996,-0.03746996996996865,0.07373123123122904,0.0181606606606608,0.029774774774774082,0.06351351351350831,0.01366366366366445,0.03365615615615347,-0.01171171171171026,0.02272522522522369,-0.0021996996996992424,-0.0004279279279268966,-0.018408408408405852,-0.05390390390390232,-0.049354354354354535,0.07704954954954912,-0.014466966966965367,0.005720720720719719,0.056246246246242304,0.04385885885885599,0.03139639639639191,-0.005975975975974102,-0.05990990990990752,0.033543543543540055,-0.0019219219219228645,0.021854354354353456,0.016599099099097403,0.002957957957956614,0.017342342342340444,0.032770270270266355,0.06512762762762248,0.025345345345343828,0.04521021021020588,0.03481231231231119,0.018280780780780104,-0.009894894894894812,0.03924924924924866,-0.009249249249246638,0.05455705705705238,0.028130630630627262,0.02668168168168039,0.022522522522519184,-0.013288288288286432,0.030075075075072455,0.0034009009009017266,-0.014481981981981806,0.020037537537534345,0.03023273273272986,-0.013093093093094033,0.02825825825825312,-0.01791291291291064,0.03218468468468272,0.04343843843843276,0.015833333333329813,0.002282282282282333,0.04680930930930782,0.012477477477475851,0.00021771771771783577,0.0293018018017992,-0.007530030030026724,0.015135135135132538,-0.04286786786786334,-0.025360360360358603,0.058055555555554195,0.02036786786786493,-0.020202702702699193,-0.05234234234234081,-0.003768768768769082,0.06146396396395826,0.0017117117117124714,0.02473723723723631,-0.028280780780780446,0.058536036036028305,0.009331831831831616,0.011493993993994867,-0.004587087087085662,0.04523273273273265,0.03180180180179559,0.011876876876876663,0.023596096096092145,0.009294294294294847,0.01928678678678275,0.017432432432431755,0.013648648648647344,0.016336336336334467,0.005165165165165186,0.03681681681681481,0.024496996996993925,0.029166666666663676,0.011771771771771133,0.025037537537536014,-0.02737237237236656,-0.0007732732732720349,0.021028528528523216,0.03003003003002891,0.00960210210210044,0.015405405405403583,0.023415915915913077,-0.0036411411411424455,-0.06527777777777555,0.018873873873872515,-0.0894669669669641,0.09368618618618263,0.041291291291286614,0.008566066066063804,0.043918918918915084,-0.05617867867867832,0.04983483483482942,0.020818318318316154,-0.026448948948949114,0.037800300300294465,0.032867867867863776,0.034909909909907055,0.02680930930930736,-0.014016516516515032,-0.09361111111110709,-0.18348348348348387,0.1288888888888864,0.0715540540540538,0.02461711711711967,0.01599099099099388,0.0644519519519513,-0.006869369369366662,-0.005548048048042986,0.14040540540540425,0.05409909909909216,0.02852852852853105,0.0521096096096072,0.04906156156155683,0.03810810810810494,0.01629129129128959,0.016869369369369114,0.011163663663662282,0.02643393393393012,-0.02038288288288037,0.03498498498498348,-0.02757507507507051,0.045360360360353846,-0.07055555555555282,-0.012312312312310003,0.007882882882881193,-0.048010510510507864,0.005157657657655745,-0.06768018018017974,0.09111111111110559,-0.029324324324321083,-0.09201201201200937,0.08337837837837592,0.05950450450450018,-0.04256756756756219,0.08824324324324206,-0.005262762762760831,-0.012912912912911412,0.005990990990987433,-0.006478978978976202,0.062995495495489,0.0376951951951896,-0.019376876876874283,-0.03429429429428832,-0.04720720720720273,0.08611111111110614,0.07102852852852637,-0.0033783783783778443,0.027439939939941205,0.033686186186181466,-0.03638888888888547,0.03388888888888686,0.0002852852852868182,0.052469969969967556,0.002424924924925298,-0.03054054054053601],\"type\":\"scatter\"},{\"line\":{\"color\":\"red\",\"width\":2},\"mode\":\"lines\",\"name\":\"Train returns\",\"x\":[\"2001-11-01\",\"2001-12-01\",\"2002-01-01\",\"2002-02-01\",\"2002-03-01\",\"2002-04-01\",\"2002-05-01\",\"2002-06-01\",\"2002-07-01\",\"2002-08-01\",\"2002-09-01\",\"2002-10-01\",\"2002-11-01\",\"2002-12-01\",\"2003-01-01\",\"2003-02-01\",\"2003-03-01\",\"2003-04-01\",\"2003-05-01\",\"2003-06-01\",\"2003-07-01\",\"2003-08-01\",\"2003-09-01\",\"2003-10-01\",\"2003-11-01\",\"2003-12-01\",\"2004-01-01\",\"2004-02-01\",\"2004-03-01\",\"2004-04-01\",\"2004-05-01\",\"2004-06-01\",\"2004-07-01\",\"2004-08-01\",\"2004-09-01\",\"2004-10-01\",\"2004-11-01\",\"2004-12-01\",\"2005-01-01\",\"2005-02-01\",\"2005-03-01\",\"2005-04-01\",\"2005-05-01\",\"2005-06-01\",\"2005-07-01\",\"2005-08-01\",\"2005-09-01\",\"2005-10-01\",\"2005-11-01\",\"2005-12-01\",\"2006-01-01\",\"2006-02-01\",\"2006-03-01\",\"2006-04-01\",\"2006-05-01\",\"2006-06-01\",\"2006-07-01\",\"2006-08-01\",\"2006-09-01\",\"2006-10-01\",\"2006-11-01\",\"2006-12-01\",\"2007-01-01\",\"2007-02-01\",\"2007-03-01\",\"2007-04-01\",\"2007-05-01\",\"2007-06-01\",\"2007-07-01\",\"2007-08-01\",\"2007-09-01\",\"2007-10-01\",\"2007-11-01\",\"2007-12-01\",\"2008-01-01\",\"2008-02-01\",\"2008-03-01\",\"2008-04-01\",\"2008-05-01\",\"2008-06-01\",\"2008-07-01\",\"2008-08-01\",\"2008-09-01\",\"2008-10-01\",\"2008-11-01\",\"2008-12-01\",\"2009-01-01\",\"2009-02-01\",\"2009-03-01\",\"2009-04-01\",\"2009-05-01\",\"2009-06-01\",\"2009-07-01\",\"2009-08-01\",\"2009-09-01\",\"2009-10-01\",\"2009-11-01\",\"2009-12-01\",\"2010-01-01\",\"2010-02-01\",\"2010-03-01\",\"2010-04-01\",\"2010-05-01\",\"2010-06-01\",\"2010-07-01\",\"2010-08-01\",\"2010-09-01\",\"2010-10-01\",\"2010-11-01\",\"2010-12-01\",\"2011-01-01\",\"2011-02-01\",\"2011-03-01\",\"2011-04-01\",\"2011-05-01\",\"2011-06-01\",\"2011-07-01\",\"2011-08-01\",\"2011-09-01\",\"2011-10-01\",\"2011-11-01\",\"2011-12-01\",\"2012-01-01\",\"2012-02-01\",\"2012-03-01\",\"2012-04-01\",\"2012-05-01\",\"2012-06-01\",\"2012-07-01\",\"2012-08-01\",\"2012-09-01\",\"2012-10-01\",\"2012-11-01\",\"2012-12-01\",\"2013-01-01\",\"2013-02-01\",\"2013-03-01\",\"2013-04-01\",\"2013-05-01\",\"2013-06-01\",\"2013-07-01\",\"2013-08-01\",\"2013-09-01\",\"2013-10-01\",\"2013-11-01\",\"2013-12-01\",\"2014-01-01\",\"2014-02-01\",\"2014-03-01\",\"2014-04-01\",\"2014-05-01\",\"2014-06-01\",\"2014-07-01\",\"2014-08-01\",\"2014-09-01\",\"2014-10-01\",\"2014-11-01\",\"2014-12-01\",\"2015-01-01\",\"2015-02-01\",\"2015-03-01\",\"2015-04-01\",\"2015-05-01\",\"2015-06-01\",\"2015-07-01\",\"2015-08-01\",\"2015-09-01\",\"2015-10-01\",\"2015-11-01\",\"2015-12-01\",\"2016-01-01\",\"2016-02-01\",\"2016-03-01\",\"2016-04-01\",\"2016-05-01\",\"2016-06-01\",\"2016-07-01\",\"2016-08-01\",\"2016-09-01\",\"2016-10-01\",\"2016-11-01\",\"2016-12-01\",\"2017-01-01\",\"2017-02-01\",\"2017-03-01\",\"2017-04-01\",\"2017-05-01\",\"2017-06-01\",\"2017-07-01\",\"2017-08-01\",\"2017-09-01\",\"2017-10-01\",\"2017-11-01\",\"2017-12-01\",\"2018-01-01\",\"2018-02-01\",\"2018-03-01\",\"2018-04-01\",\"2018-05-01\",\"2018-06-01\",\"2018-07-01\",\"2018-08-01\",\"2018-09-01\",\"2018-10-01\",\"2018-11-01\",\"2018-12-01\",\"2019-01-01\",\"2019-02-01\",\"2019-03-01\",\"2019-04-01\",\"2019-05-01\",\"2019-06-01\",\"2019-07-01\",\"2019-08-01\",\"2019-09-01\",\"2019-10-01\",\"2019-11-01\",\"2019-12-01\",\"2020-01-01\",\"2020-02-01\",\"2020-03-01\",\"2020-04-01\",\"2020-05-01\",\"2020-06-01\",\"2020-07-01\",\"2020-08-01\",\"2020-09-01\",\"2020-10-01\",\"2020-11-01\",\"2020-12-01\",\"2021-01-01\",\"2021-02-01\",\"2021-03-01\",\"2021-04-01\",\"2021-05-01\",\"2021-06-01\",\"2021-07-01\",\"2021-08-01\",\"2021-09-01\",\"2021-10-01\",\"2021-11-01\",\"2021-12-01\",\"2022-01-01\",\"2022-02-01\",\"2022-03-01\",\"2022-04-01\",\"2022-05-01\",\"2022-06-01\",\"2022-07-01\",\"2022-08-01\",\"2022-09-01\",\"2022-10-01\",\"2022-11-01\",\"2022-12-01\",\"2023-01-01\",\"2023-02-01\",\"2023-03-01\",\"2023-04-01\",\"2023-05-01\",\"2023-06-01\",\"2023-07-01\",\"2023-08-01\"],\"y\":[0.03125035762786865,0.02132093906402588,0.018060922622680664,0.02088475227355957,0.017316341400146484,0.017704010009765625,0.016815185546875,0.017214655876159668,0.020341992378234863,0.0185849666595459,0.01676356792449951,0.017722725868225098,0.019510865211486816,0.01614391803741455,0.01718294620513916,0.015323519706726074,0.01569533348083496,0.019249439239501953,0.01615595817565918,0.017949581146240234,0.017482399940490723,0.015076637268066406,0.01776289939880371,0.016918063163757324,0.015460729598999023,0.016067862510681152,0.014108657836914062,0.01590263843536377,0.013282179832458496,0.014678239822387695,0.015996932983398438,0.014212965965270996,0.016228437423706055,0.013668060302734375,0.018213748931884766,0.01547539234161377,0.013609528541564941,0.013516783714294434,0.01524507999420166,0.015170454978942871,0.0163424015045166,0.014861464500427246,0.015102624893188477,0.016449570655822754,0.014591097831726074,0.01627635955810547,0.015429973602294922,0.012386083602905273,0.01463615894317627,0.014220237731933594,0.015039801597595215,0.01538705825805664,0.015187382698059082,0.014911413192749023,0.013331770896911621,0.01377570629119873,0.0167464017868042,0.013207793235778809,0.014416694641113281,0.01353609561920166,0.014368176460266113,0.013406872749328613,0.013670921325683594,0.014698982238769531,0.014175176620483398,0.013444185256958008,0.013242959976196289,0.011752843856811523,0.01246631145477295,0.012664318084716797,0.014232754707336426,0.012905597686767578,0.012213468551635742,0.014348626136779785,0.013210415840148926,0.013827323913574219,0.013226866722106934,0.012774109840393066,0.013050556182861328,0.012890100479125977,0.012139558792114258,0.012136101722717285,0.015604972839355469,0.012655377388000488,0.013576030731201172,0.012394547462463379,0.014140725135803223,0.015231132507324219,0.012888073921203613,0.014937281608581543,0.012775182723999023,0.014222502708435059,0.013756990432739258,0.013493895530700684,0.012107610702514648,0.012403726577758789,0.014341235160827637,0.014077544212341309,0.013889074325561523,0.011197566986083984,0.012093424797058105,0.015035390853881836,0.012378811836242676,0.011411428451538086,0.014140129089355469,0.011350512504577637,0.012447953224182129,0.014596104621887207,0.011593818664550781,0.011566519737243652,0.013636350631713867,0.013393044471740723,0.013367772102355957,0.01311194896697998,0.012714743614196777,0.01289987564086914,0.010819673538208008,0.01220548152923584,0.012126326560974121,0.012063384056091309,0.012153267860412598,0.01192939281463623,0.013669490814208984,0.011452078819274902,0.013242959976196289,0.012972593307495117,0.012427330017089844,0.012122154235839844,0.010827064514160156,0.01255786418914795,0.011250495910644531,0.013171076774597168,0.013138413429260254,0.012523770332336426,0.012497305870056152,0.014325857162475586,0.012570619583129883,0.012535810470581055,0.01225423812866211,0.012660980224609375,0.013684391975402832,0.011880040168762207,0.012615084648132324,0.012493491172790527,0.012672901153564453,0.013944864273071289,0.012585759162902832,0.011857986450195312,0.011742591857910156,0.0129777193069458,0.011039137840270996,0.01070857048034668,0.010628938674926758,0.012377262115478516,0.012542128562927246,0.011929988861083984,0.013030290603637695,0.011930227279663086,0.013127684593200684,0.011146068572998047,0.011190056800842285,0.011650323867797852,0.011786699295043945,0.012548446655273438,0.012578368186950684,0.012919068336486816,0.012801766395568848,0.012927412986755371,0.012851476669311523,0.010787606239318848,0.01180112361907959,0.0105057954788208,0.0111922025680542,0.011783838272094727,0.01101541519165039,0.011208415031433105,0.012102603912353516,0.010863304138183594,0.011623501777648926,0.01140296459197998,0.011873126029968262,0.012935638427734375,0.009881973266601562,0.011454582214355469,0.010250568389892578,0.012669682502746582,0.011759757995605469,0.011015057563781738,0.01288139820098877,0.011573553085327148,0.010947823524475098,0.010982632637023926,0.01154637336730957,0.011128425598144531,0.010117650032043457,0.011532187461853027,0.011055231094360352,0.012436866760253906,0.01094973087310791,0.011736273765563965,0.01201772689819336,0.0127180814743042,0.010326266288757324,0.009922385215759277,0.011127829551696777,0.008400440216064453,0.011293530464172363,0.011448025703430176,0.010555148124694824,0.008920073509216309,0.010246872901916504,0.009629130363464355,0.01120615005493164,0.009310483932495117,0.009983181953430176,0.011183857917785645,0.0098114013671875,0.008009910583496094,0.009290933609008789,0.010532855987548828,0.011018991470336914,0.01052713394165039,0.010374665260314941,0.011644721031188965,0.011167287826538086,0.009627580642700195,0.009797453880310059,0.01070868968963623,0.01083672046661377,0.010149598121643066,0.00884711742401123,0.00946044921875,0.010202407836914062,0.009494781494140625,0.009580612182617188,0.008888006210327148,0.009315252304077148,0.007359743118286133,0.009849190711975098,0.009371519088745117,0.008797645568847656,0.009420275688171387,0.00978553295135498,0.008783340454101562,0.008491992950439453,0.007372379302978516,0.006956577301025391,0.010471940040588379,0.009268522262573242,0.009058713912963867,0.0075408220291137695,0.008035421371459961,0.006339907646179199,0.008448123931884766,0.007286667823791504,0.006527900695800781,0.008079051971435547,0.00783681869506836,0.007256269454956055,0.006620287895202637,0.0075626373291015625,0.006098747253417969],\"type\":\"scatter\"},{\"line\":{\"color\":\"green\",\"width\":2},\"mode\":\"lines\",\"name\":\"Test returns\",\"x\":[\"2023-08-01\",\"2023-09-01\",\"2023-10-01\",\"2023-11-01\",\"2023-12-01\",\"2024-01-01\",\"2024-02-01\",\"2024-03-01\",\"2024-04-01\",\"2024-05-01\",\"2024-06-01\",\"2024-07-01\",\"2024-08-01\"],\"y\":[0.006098747253417969,0.00596308708190918,0.006490945816040039,0.006528615951538086,0.006063222885131836,0.005342364311218262,0.006044507026672363,0.005648612976074219,0.005657553672790527,0.005694270133972168,0.005913376808166504,0.005160689353942871,0.004715919494628906],\"type\":\"scatter\"}],                        {\"template\":{\"data\":{\"barpolar\":[{\"marker\":{\"line\":{\"color\":\"white\",\"width\":0.5},\"pattern\":{\"fillmode\":\"overlay\",\"size\":10,\"solidity\":0.2}},\"type\":\"barpolar\"}],\"bar\":[{\"error_x\":{\"color\":\"#2a3f5f\"},\"error_y\":{\"color\":\"#2a3f5f\"},\"marker\":{\"line\":{\"color\":\"white\",\"width\":0.5},\"pattern\":{\"fillmode\":\"overlay\",\"size\":10,\"solidity\":0.2}},\"type\":\"bar\"}],\"carpet\":[{\"aaxis\":{\"endlinecolor\":\"#2a3f5f\",\"gridcolor\":\"#C8D4E3\",\"linecolor\":\"#C8D4E3\",\"minorgridcolor\":\"#C8D4E3\",\"startlinecolor\":\"#2a3f5f\"},\"baxis\":{\"endlinecolor\":\"#2a3f5f\",\"gridcolor\":\"#C8D4E3\",\"linecolor\":\"#C8D4E3\",\"minorgridcolor\":\"#C8D4E3\",\"startlinecolor\":\"#2a3f5f\"},\"type\":\"carpet\"}],\"choropleth\":[{\"colorbar\":{\"outlinewidth\":0,\"ticks\":\"\"},\"type\":\"choropleth\"}],\"contourcarpet\":[{\"colorbar\":{\"outlinewidth\":0,\"ticks\":\"\"},\"type\":\"contourcarpet\"}],\"contour\":[{\"colorbar\":{\"outlinewidth\":0,\"ticks\":\"\"},\"colorscale\":[[0.0,\"#0d0887\"],[0.1111111111111111,\"#46039f\"],[0.2222222222222222,\"#7201a8\"],[0.3333333333333333,\"#9c179e\"],[0.4444444444444444,\"#bd3786\"],[0.5555555555555556,\"#d8576b\"],[0.6666666666666666,\"#ed7953\"],[0.7777777777777778,\"#fb9f3a\"],[0.8888888888888888,\"#fdca26\"],[1.0,\"#f0f921\"]],\"type\":\"contour\"}],\"heatmapgl\":[{\"colorbar\":{\"outlinewidth\":0,\"ticks\":\"\"},\"colorscale\":[[0.0,\"#0d0887\"],[0.1111111111111111,\"#46039f\"],[0.2222222222222222,\"#7201a8\"],[0.3333333333333333,\"#9c179e\"],[0.4444444444444444,\"#bd3786\"],[0.5555555555555556,\"#d8576b\"],[0.6666666666666666,\"#ed7953\"],[0.7777777777777778,\"#fb9f3a\"],[0.8888888888888888,\"#fdca26\"],[1.0,\"#f0f921\"]],\"type\":\"heatmapgl\"}],\"heatmap\":[{\"colorbar\":{\"outlinewidth\":0,\"ticks\":\"\"},\"colorscale\":[[0.0,\"#0d0887\"],[0.1111111111111111,\"#46039f\"],[0.2222222222222222,\"#7201a8\"],[0.3333333333333333,\"#9c179e\"],[0.4444444444444444,\"#bd3786\"],[0.5555555555555556,\"#d8576b\"],[0.6666666666666666,\"#ed7953\"],[0.7777777777777778,\"#fb9f3a\"],[0.8888888888888888,\"#fdca26\"],[1.0,\"#f0f921\"]],\"type\":\"heatmap\"}],\"histogram2dcontour\":[{\"colorbar\":{\"outlinewidth\":0,\"ticks\":\"\"},\"colorscale\":[[0.0,\"#0d0887\"],[0.1111111111111111,\"#46039f\"],[0.2222222222222222,\"#7201a8\"],[0.3333333333333333,\"#9c179e\"],[0.4444444444444444,\"#bd3786\"],[0.5555555555555556,\"#d8576b\"],[0.6666666666666666,\"#ed7953\"],[0.7777777777777778,\"#fb9f3a\"],[0.8888888888888888,\"#fdca26\"],[1.0,\"#f0f921\"]],\"type\":\"histogram2dcontour\"}],\"histogram2d\":[{\"colorbar\":{\"outlinewidth\":0,\"ticks\":\"\"},\"colorscale\":[[0.0,\"#0d0887\"],[0.1111111111111111,\"#46039f\"],[0.2222222222222222,\"#7201a8\"],[0.3333333333333333,\"#9c179e\"],[0.4444444444444444,\"#bd3786\"],[0.5555555555555556,\"#d8576b\"],[0.6666666666666666,\"#ed7953\"],[0.7777777777777778,\"#fb9f3a\"],[0.8888888888888888,\"#fdca26\"],[1.0,\"#f0f921\"]],\"type\":\"histogram2d\"}],\"histogram\":[{\"marker\":{\"pattern\":{\"fillmode\":\"overlay\",\"size\":10,\"solidity\":0.2}},\"type\":\"histogram\"}],\"mesh3d\":[{\"colorbar\":{\"outlinewidth\":0,\"ticks\":\"\"},\"type\":\"mesh3d\"}],\"parcoords\":[{\"line\":{\"colorbar\":{\"outlinewidth\":0,\"ticks\":\"\"}},\"type\":\"parcoords\"}],\"pie\":[{\"automargin\":true,\"type\":\"pie\"}],\"scatter3d\":[{\"line\":{\"colorbar\":{\"outlinewidth\":0,\"ticks\":\"\"}},\"marker\":{\"colorbar\":{\"outlinewidth\":0,\"ticks\":\"\"}},\"type\":\"scatter3d\"}],\"scattercarpet\":[{\"marker\":{\"colorbar\":{\"outlinewidth\":0,\"ticks\":\"\"}},\"type\":\"scattercarpet\"}],\"scattergeo\":[{\"marker\":{\"colorbar\":{\"outlinewidth\":0,\"ticks\":\"\"}},\"type\":\"scattergeo\"}],\"scattergl\":[{\"marker\":{\"colorbar\":{\"outlinewidth\":0,\"ticks\":\"\"}},\"type\":\"scattergl\"}],\"scattermapbox\":[{\"marker\":{\"colorbar\":{\"outlinewidth\":0,\"ticks\":\"\"}},\"type\":\"scattermapbox\"}],\"scatterpolargl\":[{\"marker\":{\"colorbar\":{\"outlinewidth\":0,\"ticks\":\"\"}},\"type\":\"scatterpolargl\"}],\"scatterpolar\":[{\"marker\":{\"colorbar\":{\"outlinewidth\":0,\"ticks\":\"\"}},\"type\":\"scatterpolar\"}],\"scatter\":[{\"fillpattern\":{\"fillmode\":\"overlay\",\"size\":10,\"solidity\":0.2},\"type\":\"scatter\"}],\"scatterternary\":[{\"marker\":{\"colorbar\":{\"outlinewidth\":0,\"ticks\":\"\"}},\"type\":\"scatterternary\"}],\"surface\":[{\"colorbar\":{\"outlinewidth\":0,\"ticks\":\"\"},\"colorscale\":[[0.0,\"#0d0887\"],[0.1111111111111111,\"#46039f\"],[0.2222222222222222,\"#7201a8\"],[0.3333333333333333,\"#9c179e\"],[0.4444444444444444,\"#bd3786\"],[0.5555555555555556,\"#d8576b\"],[0.6666666666666666,\"#ed7953\"],[0.7777777777777778,\"#fb9f3a\"],[0.8888888888888888,\"#fdca26\"],[1.0,\"#f0f921\"]],\"type\":\"surface\"}],\"table\":[{\"cells\":{\"fill\":{\"color\":\"#EBF0F8\"},\"line\":{\"color\":\"white\"}},\"header\":{\"fill\":{\"color\":\"#C8D4E3\"},\"line\":{\"color\":\"white\"}},\"type\":\"table\"}]},\"layout\":{\"annotationdefaults\":{\"arrowcolor\":\"#2a3f5f\",\"arrowhead\":0,\"arrowwidth\":1},\"autotypenumbers\":\"strict\",\"coloraxis\":{\"colorbar\":{\"outlinewidth\":0,\"ticks\":\"\"}},\"colorscale\":{\"diverging\":[[0,\"#8e0152\"],[0.1,\"#c51b7d\"],[0.2,\"#de77ae\"],[0.3,\"#f1b6da\"],[0.4,\"#fde0ef\"],[0.5,\"#f7f7f7\"],[0.6,\"#e6f5d0\"],[0.7,\"#b8e186\"],[0.8,\"#7fbc41\"],[0.9,\"#4d9221\"],[1,\"#276419\"]],\"sequential\":[[0.0,\"#0d0887\"],[0.1111111111111111,\"#46039f\"],[0.2222222222222222,\"#7201a8\"],[0.3333333333333333,\"#9c179e\"],[0.4444444444444444,\"#bd3786\"],[0.5555555555555556,\"#d8576b\"],[0.6666666666666666,\"#ed7953\"],[0.7777777777777778,\"#fb9f3a\"],[0.8888888888888888,\"#fdca26\"],[1.0,\"#f0f921\"]],\"sequentialminus\":[[0.0,\"#0d0887\"],[0.1111111111111111,\"#46039f\"],[0.2222222222222222,\"#7201a8\"],[0.3333333333333333,\"#9c179e\"],[0.4444444444444444,\"#bd3786\"],[0.5555555555555556,\"#d8576b\"],[0.6666666666666666,\"#ed7953\"],[0.7777777777777778,\"#fb9f3a\"],[0.8888888888888888,\"#fdca26\"],[1.0,\"#f0f921\"]]},\"colorway\":[\"#636efa\",\"#EF553B\",\"#00cc96\",\"#ab63fa\",\"#FFA15A\",\"#19d3f3\",\"#FF6692\",\"#B6E880\",\"#FF97FF\",\"#FECB52\"],\"font\":{\"color\":\"#2a3f5f\"},\"geo\":{\"bgcolor\":\"white\",\"lakecolor\":\"white\",\"landcolor\":\"white\",\"showlakes\":true,\"showland\":true,\"subunitcolor\":\"#C8D4E3\"},\"hoverlabel\":{\"align\":\"left\"},\"hovermode\":\"closest\",\"mapbox\":{\"style\":\"light\"},\"paper_bgcolor\":\"white\",\"plot_bgcolor\":\"white\",\"polar\":{\"angularaxis\":{\"gridcolor\":\"#EBF0F8\",\"linecolor\":\"#EBF0F8\",\"ticks\":\"\"},\"bgcolor\":\"white\",\"radialaxis\":{\"gridcolor\":\"#EBF0F8\",\"linecolor\":\"#EBF0F8\",\"ticks\":\"\"}},\"scene\":{\"xaxis\":{\"backgroundcolor\":\"white\",\"gridcolor\":\"#DFE8F3\",\"gridwidth\":2,\"linecolor\":\"#EBF0F8\",\"showbackground\":true,\"ticks\":\"\",\"zerolinecolor\":\"#EBF0F8\"},\"yaxis\":{\"backgroundcolor\":\"white\",\"gridcolor\":\"#DFE8F3\",\"gridwidth\":2,\"linecolor\":\"#EBF0F8\",\"showbackground\":true,\"ticks\":\"\",\"zerolinecolor\":\"#EBF0F8\"},\"zaxis\":{\"backgroundcolor\":\"white\",\"gridcolor\":\"#DFE8F3\",\"gridwidth\":2,\"linecolor\":\"#EBF0F8\",\"showbackground\":true,\"ticks\":\"\",\"zerolinecolor\":\"#EBF0F8\"}},\"shapedefaults\":{\"line\":{\"color\":\"#2a3f5f\"}},\"ternary\":{\"aaxis\":{\"gridcolor\":\"#DFE8F3\",\"linecolor\":\"#A2B1C6\",\"ticks\":\"\"},\"baxis\":{\"gridcolor\":\"#DFE8F3\",\"linecolor\":\"#A2B1C6\",\"ticks\":\"\"},\"bgcolor\":\"white\",\"caxis\":{\"gridcolor\":\"#DFE8F3\",\"linecolor\":\"#A2B1C6\",\"ticks\":\"\"}},\"title\":{\"x\":0.05},\"xaxis\":{\"automargin\":true,\"gridcolor\":\"#EBF0F8\",\"linecolor\":\"#EBF0F8\",\"ticks\":\"\",\"title\":{\"standoff\":15},\"zerolinecolor\":\"#EBF0F8\",\"zerolinewidth\":2},\"yaxis\":{\"automargin\":true,\"gridcolor\":\"#EBF0F8\",\"linecolor\":\"#EBF0F8\",\"ticks\":\"\",\"title\":{\"standoff\":15},\"zerolinecolor\":\"#EBF0F8\",\"zerolinewidth\":2}}},\"shapes\":[{\"line\":{\"color\":\"red\",\"dash\":\"dash\",\"width\":1},\"type\":\"line\",\"x0\":\"2023-08-01\",\"x1\":\"2023-08-01\",\"xref\":\"x\",\"y0\":0,\"y1\":1,\"yref\":\"y domain\"}],\"yaxis\":{\"title\":{\"text\":\"Day closing return (%)\"},\"tickformat\":\".0%\",\"range\":[-0.25,0.6]},\"title\":{\"text\":\"12 Month Prediction vs Actual Plot\"},\"xaxis\":{\"title\":{\"text\":\"Date\"}},\"legend\":{\"title\":{\"text\":\"Legend\"}}},                        {\"responsive\": true}                    ).then(function(){\n",
       "                            \n",
       "var gd = document.getElementById('0aecd16f-133d-4b93-8a98-3646c0f884ec');\n",
       "var x = new MutationObserver(function (mutations, observer) {{\n",
       "        var display = window.getComputedStyle(gd).display;\n",
       "        if (!display || display === 'none') {{\n",
       "            console.log([gd, 'removed!']);\n",
       "            Plotly.purge(gd);\n",
       "            observer.disconnect();\n",
       "        }}\n",
       "}});\n",
       "\n",
       "// Listen for the removal of the full notebook cells\n",
       "var notebookContainer = gd.closest('#notebook-container');\n",
       "if (notebookContainer) {{\n",
       "    x.observe(notebookContainer, {childList: true});\n",
       "}}\n",
       "\n",
       "// Listen for the clearing of the current output cell\n",
       "var outputEl = gd.closest('.output');\n",
       "if (outputEl) {{\n",
       "    x.observe(outputEl, {childList: true});\n",
       "}}\n",
       "\n",
       "                        })                };                });            </script>        </div>"
      ]
     },
     "metadata": {},
     "output_type": "display_data"
    }
   ],
   "execution_count": 390
  },
  {
   "metadata": {},
   "cell_type": "markdown",
   "source": "#### Allocation",
   "id": "fbee5ac36ce81844"
  },
  {
   "metadata": {
    "ExecuteTime": {
     "end_time": "2025-06-15T15:49:05.831944Z",
     "start_time": "2025-06-15T15:49:05.765684Z"
    }
   },
   "cell_type": "code",
   "source": [
    "importlib.reload(mpt_utils)\n",
    "\n",
    "# Get train true values followed with predicted month/s\n",
    "y_train_12m_list = y_train_12m['m_return_target(t+12)'].tolist()\n",
    "y_test_12m_list = y_test_pred_12m.tolist()\n",
    "#\n",
    "df_to_evaluate_12m = mpt_utils.get_df_from_pred_list(df_pct, y_train_12m_list, y_test_12m_list)\n",
    "df_to_evaluate_12m = df_to_evaluate_12m - 1\n",
    "df_to_evaluate_12m"
   ],
   "id": "c4dd13fb1fb5f1d2",
   "outputs": [
    {
     "data": {
      "text/plain": [
       "          GME    2124.T    2491.T    2471.T    3046.T    PAT.DE      CROX  \\\n",
       "0    0.000000 -0.030000  0.090000  0.060000  0.260000  0.120000  0.200000   \n",
       "1    0.000000  0.000000  0.000000  0.000000  0.000000  0.000000  0.000000   \n",
       "2    0.000000 -0.040000 -0.050000 -0.070000 -0.220000 -0.130000 -0.170000   \n",
       "3    0.000000 -0.030000  0.080000  0.060000  0.310000  0.120000  0.200000   \n",
       "4   -0.010000  0.010000  0.050000  0.030000  0.940000  0.150000  0.390000   \n",
       "..        ...       ...       ...       ...       ...       ...       ...   \n",
       "281  0.001861 -0.004618  0.007040  0.021484  0.027083 -0.011992  0.004698   \n",
       "282  0.002837 -0.006437  0.005220  0.019598  0.016799 -0.025274 -0.004154   \n",
       "283  0.006398 -0.008146  0.016693  0.033106  0.021435  0.009683  0.005314   \n",
       "284  0.015416  0.000872  0.033767  0.060698  0.020390  0.024066  0.036396   \n",
       "285  0.004533 -0.025843  0.029346  0.041708  0.040512 -0.007282  0.010740   \n",
       "\n",
       "       AOF.DE    SFQ.DE       DAN  ...      KREF     HLN.L       DBX  \\\n",
       "0    0.370000  0.110000  0.070000  ...  0.000000  0.000000  0.000000   \n",
       "1   -0.040000  0.000000  0.000000  ...  0.000000  0.000000  0.000000   \n",
       "2    0.260000 -0.090000 -0.090000  ...  0.000000  0.000000  0.000000   \n",
       "3   -0.140000  0.110000  0.070000  ...  0.000000  0.000000  0.000000   \n",
       "4    0.200000  0.000000  0.550000  ...  0.000000  0.000000  0.000000   \n",
       "..        ...       ...       ...  ...       ...       ...       ...   \n",
       "281 -0.003909 -0.001842  0.018930  ...  0.007671  0.009142  0.010564   \n",
       "282  0.004878  0.010324  0.015049  ...  0.006934  0.010685  0.005005   \n",
       "283 -0.004534 -0.003401  0.016040  ...  0.004244  0.004515  0.004547   \n",
       "284 -0.007209  0.005033  0.008299  ...  0.007146  0.009705  0.008398   \n",
       "285  0.008987  0.006371  0.008495  ...  0.003967  0.003973  0.002052   \n",
       "\n",
       "          BNL       CBL      KVUE      PSTL      NTST      BLCO     NBS.L  \n",
       "0    0.000000  0.000000  0.000000  0.000000  0.000000  0.000000  0.000000  \n",
       "1    0.010000  0.000000  0.000000  0.000000  0.000000  0.000000  0.000000  \n",
       "2    0.000000  0.000000  0.000000  0.000000  0.000000  0.000000  0.000000  \n",
       "3    0.000000  0.000000  0.000000  0.000000  0.000000  0.000000  0.000000  \n",
       "4    0.000000  0.000000  0.000000  0.000000  0.000000  0.000000  0.000000  \n",
       "..        ...       ...       ...       ...       ...       ...       ...  \n",
       "281  0.004486  0.025480  0.013043  0.015253 -0.016993  0.003992  0.009293  \n",
       "282  0.002164  0.011171  0.012119  0.010814 -0.018313  0.003103  0.014944  \n",
       "283 -0.000674  0.010438  0.010090  0.008785 -0.022944  0.003340  0.002395  \n",
       "284  0.005777  0.019606  0.012694  0.011389  0.005588  0.020836  0.034491  \n",
       "285 -0.002849  0.007464  0.008676  0.005965 -0.024191  0.003431  0.001787  \n",
       "\n",
       "[286 rows x 1332 columns]"
      ],
      "text/html": [
       "<div>\n",
       "<style scoped>\n",
       "    .dataframe tbody tr th:only-of-type {\n",
       "        vertical-align: middle;\n",
       "    }\n",
       "\n",
       "    .dataframe tbody tr th {\n",
       "        vertical-align: top;\n",
       "    }\n",
       "\n",
       "    .dataframe thead th {\n",
       "        text-align: right;\n",
       "    }\n",
       "</style>\n",
       "<table border=\"1\" class=\"dataframe\">\n",
       "  <thead>\n",
       "    <tr style=\"text-align: right;\">\n",
       "      <th></th>\n",
       "      <th>GME</th>\n",
       "      <th>2124.T</th>\n",
       "      <th>2491.T</th>\n",
       "      <th>2471.T</th>\n",
       "      <th>3046.T</th>\n",
       "      <th>PAT.DE</th>\n",
       "      <th>CROX</th>\n",
       "      <th>AOF.DE</th>\n",
       "      <th>SFQ.DE</th>\n",
       "      <th>DAN</th>\n",
       "      <th>...</th>\n",
       "      <th>KREF</th>\n",
       "      <th>HLN.L</th>\n",
       "      <th>DBX</th>\n",
       "      <th>BNL</th>\n",
       "      <th>CBL</th>\n",
       "      <th>KVUE</th>\n",
       "      <th>PSTL</th>\n",
       "      <th>NTST</th>\n",
       "      <th>BLCO</th>\n",
       "      <th>NBS.L</th>\n",
       "    </tr>\n",
       "  </thead>\n",
       "  <tbody>\n",
       "    <tr>\n",
       "      <th>0</th>\n",
       "      <td>0.000000</td>\n",
       "      <td>-0.030000</td>\n",
       "      <td>0.090000</td>\n",
       "      <td>0.060000</td>\n",
       "      <td>0.260000</td>\n",
       "      <td>0.120000</td>\n",
       "      <td>0.200000</td>\n",
       "      <td>0.370000</td>\n",
       "      <td>0.110000</td>\n",
       "      <td>0.070000</td>\n",
       "      <td>...</td>\n",
       "      <td>0.000000</td>\n",
       "      <td>0.000000</td>\n",
       "      <td>0.000000</td>\n",
       "      <td>0.000000</td>\n",
       "      <td>0.000000</td>\n",
       "      <td>0.000000</td>\n",
       "      <td>0.000000</td>\n",
       "      <td>0.000000</td>\n",
       "      <td>0.000000</td>\n",
       "      <td>0.000000</td>\n",
       "    </tr>\n",
       "    <tr>\n",
       "      <th>1</th>\n",
       "      <td>0.000000</td>\n",
       "      <td>0.000000</td>\n",
       "      <td>0.000000</td>\n",
       "      <td>0.000000</td>\n",
       "      <td>0.000000</td>\n",
       "      <td>0.000000</td>\n",
       "      <td>0.000000</td>\n",
       "      <td>-0.040000</td>\n",
       "      <td>0.000000</td>\n",
       "      <td>0.000000</td>\n",
       "      <td>...</td>\n",
       "      <td>0.000000</td>\n",
       "      <td>0.000000</td>\n",
       "      <td>0.000000</td>\n",
       "      <td>0.010000</td>\n",
       "      <td>0.000000</td>\n",
       "      <td>0.000000</td>\n",
       "      <td>0.000000</td>\n",
       "      <td>0.000000</td>\n",
       "      <td>0.000000</td>\n",
       "      <td>0.000000</td>\n",
       "    </tr>\n",
       "    <tr>\n",
       "      <th>2</th>\n",
       "      <td>0.000000</td>\n",
       "      <td>-0.040000</td>\n",
       "      <td>-0.050000</td>\n",
       "      <td>-0.070000</td>\n",
       "      <td>-0.220000</td>\n",
       "      <td>-0.130000</td>\n",
       "      <td>-0.170000</td>\n",
       "      <td>0.260000</td>\n",
       "      <td>-0.090000</td>\n",
       "      <td>-0.090000</td>\n",
       "      <td>...</td>\n",
       "      <td>0.000000</td>\n",
       "      <td>0.000000</td>\n",
       "      <td>0.000000</td>\n",
       "      <td>0.000000</td>\n",
       "      <td>0.000000</td>\n",
       "      <td>0.000000</td>\n",
       "      <td>0.000000</td>\n",
       "      <td>0.000000</td>\n",
       "      <td>0.000000</td>\n",
       "      <td>0.000000</td>\n",
       "    </tr>\n",
       "    <tr>\n",
       "      <th>3</th>\n",
       "      <td>0.000000</td>\n",
       "      <td>-0.030000</td>\n",
       "      <td>0.080000</td>\n",
       "      <td>0.060000</td>\n",
       "      <td>0.310000</td>\n",
       "      <td>0.120000</td>\n",
       "      <td>0.200000</td>\n",
       "      <td>-0.140000</td>\n",
       "      <td>0.110000</td>\n",
       "      <td>0.070000</td>\n",
       "      <td>...</td>\n",
       "      <td>0.000000</td>\n",
       "      <td>0.000000</td>\n",
       "      <td>0.000000</td>\n",
       "      <td>0.000000</td>\n",
       "      <td>0.000000</td>\n",
       "      <td>0.000000</td>\n",
       "      <td>0.000000</td>\n",
       "      <td>0.000000</td>\n",
       "      <td>0.000000</td>\n",
       "      <td>0.000000</td>\n",
       "    </tr>\n",
       "    <tr>\n",
       "      <th>4</th>\n",
       "      <td>-0.010000</td>\n",
       "      <td>0.010000</td>\n",
       "      <td>0.050000</td>\n",
       "      <td>0.030000</td>\n",
       "      <td>0.940000</td>\n",
       "      <td>0.150000</td>\n",
       "      <td>0.390000</td>\n",
       "      <td>0.200000</td>\n",
       "      <td>0.000000</td>\n",
       "      <td>0.550000</td>\n",
       "      <td>...</td>\n",
       "      <td>0.000000</td>\n",
       "      <td>0.000000</td>\n",
       "      <td>0.000000</td>\n",
       "      <td>0.000000</td>\n",
       "      <td>0.000000</td>\n",
       "      <td>0.000000</td>\n",
       "      <td>0.000000</td>\n",
       "      <td>0.000000</td>\n",
       "      <td>0.000000</td>\n",
       "      <td>0.000000</td>\n",
       "    </tr>\n",
       "    <tr>\n",
       "      <th>...</th>\n",
       "      <td>...</td>\n",
       "      <td>...</td>\n",
       "      <td>...</td>\n",
       "      <td>...</td>\n",
       "      <td>...</td>\n",
       "      <td>...</td>\n",
       "      <td>...</td>\n",
       "      <td>...</td>\n",
       "      <td>...</td>\n",
       "      <td>...</td>\n",
       "      <td>...</td>\n",
       "      <td>...</td>\n",
       "      <td>...</td>\n",
       "      <td>...</td>\n",
       "      <td>...</td>\n",
       "      <td>...</td>\n",
       "      <td>...</td>\n",
       "      <td>...</td>\n",
       "      <td>...</td>\n",
       "      <td>...</td>\n",
       "      <td>...</td>\n",
       "    </tr>\n",
       "    <tr>\n",
       "      <th>281</th>\n",
       "      <td>0.001861</td>\n",
       "      <td>-0.004618</td>\n",
       "      <td>0.007040</td>\n",
       "      <td>0.021484</td>\n",
       "      <td>0.027083</td>\n",
       "      <td>-0.011992</td>\n",
       "      <td>0.004698</td>\n",
       "      <td>-0.003909</td>\n",
       "      <td>-0.001842</td>\n",
       "      <td>0.018930</td>\n",
       "      <td>...</td>\n",
       "      <td>0.007671</td>\n",
       "      <td>0.009142</td>\n",
       "      <td>0.010564</td>\n",
       "      <td>0.004486</td>\n",
       "      <td>0.025480</td>\n",
       "      <td>0.013043</td>\n",
       "      <td>0.015253</td>\n",
       "      <td>-0.016993</td>\n",
       "      <td>0.003992</td>\n",
       "      <td>0.009293</td>\n",
       "    </tr>\n",
       "    <tr>\n",
       "      <th>282</th>\n",
       "      <td>0.002837</td>\n",
       "      <td>-0.006437</td>\n",
       "      <td>0.005220</td>\n",
       "      <td>0.019598</td>\n",
       "      <td>0.016799</td>\n",
       "      <td>-0.025274</td>\n",
       "      <td>-0.004154</td>\n",
       "      <td>0.004878</td>\n",
       "      <td>0.010324</td>\n",
       "      <td>0.015049</td>\n",
       "      <td>...</td>\n",
       "      <td>0.006934</td>\n",
       "      <td>0.010685</td>\n",
       "      <td>0.005005</td>\n",
       "      <td>0.002164</td>\n",
       "      <td>0.011171</td>\n",
       "      <td>0.012119</td>\n",
       "      <td>0.010814</td>\n",
       "      <td>-0.018313</td>\n",
       "      <td>0.003103</td>\n",
       "      <td>0.014944</td>\n",
       "    </tr>\n",
       "    <tr>\n",
       "      <th>283</th>\n",
       "      <td>0.006398</td>\n",
       "      <td>-0.008146</td>\n",
       "      <td>0.016693</td>\n",
       "      <td>0.033106</td>\n",
       "      <td>0.021435</td>\n",
       "      <td>0.009683</td>\n",
       "      <td>0.005314</td>\n",
       "      <td>-0.004534</td>\n",
       "      <td>-0.003401</td>\n",
       "      <td>0.016040</td>\n",
       "      <td>...</td>\n",
       "      <td>0.004244</td>\n",
       "      <td>0.004515</td>\n",
       "      <td>0.004547</td>\n",
       "      <td>-0.000674</td>\n",
       "      <td>0.010438</td>\n",
       "      <td>0.010090</td>\n",
       "      <td>0.008785</td>\n",
       "      <td>-0.022944</td>\n",
       "      <td>0.003340</td>\n",
       "      <td>0.002395</td>\n",
       "    </tr>\n",
       "    <tr>\n",
       "      <th>284</th>\n",
       "      <td>0.015416</td>\n",
       "      <td>0.000872</td>\n",
       "      <td>0.033767</td>\n",
       "      <td>0.060698</td>\n",
       "      <td>0.020390</td>\n",
       "      <td>0.024066</td>\n",
       "      <td>0.036396</td>\n",
       "      <td>-0.007209</td>\n",
       "      <td>0.005033</td>\n",
       "      <td>0.008299</td>\n",
       "      <td>...</td>\n",
       "      <td>0.007146</td>\n",
       "      <td>0.009705</td>\n",
       "      <td>0.008398</td>\n",
       "      <td>0.005777</td>\n",
       "      <td>0.019606</td>\n",
       "      <td>0.012694</td>\n",
       "      <td>0.011389</td>\n",
       "      <td>0.005588</td>\n",
       "      <td>0.020836</td>\n",
       "      <td>0.034491</td>\n",
       "    </tr>\n",
       "    <tr>\n",
       "      <th>285</th>\n",
       "      <td>0.004533</td>\n",
       "      <td>-0.025843</td>\n",
       "      <td>0.029346</td>\n",
       "      <td>0.041708</td>\n",
       "      <td>0.040512</td>\n",
       "      <td>-0.007282</td>\n",
       "      <td>0.010740</td>\n",
       "      <td>0.008987</td>\n",
       "      <td>0.006371</td>\n",
       "      <td>0.008495</td>\n",
       "      <td>...</td>\n",
       "      <td>0.003967</td>\n",
       "      <td>0.003973</td>\n",
       "      <td>0.002052</td>\n",
       "      <td>-0.002849</td>\n",
       "      <td>0.007464</td>\n",
       "      <td>0.008676</td>\n",
       "      <td>0.005965</td>\n",
       "      <td>-0.024191</td>\n",
       "      <td>0.003431</td>\n",
       "      <td>0.001787</td>\n",
       "    </tr>\n",
       "  </tbody>\n",
       "</table>\n",
       "<p>286 rows × 1332 columns</p>\n",
       "</div>"
      ]
     },
     "execution_count": 391,
     "metadata": {},
     "output_type": "execute_result"
    }
   ],
   "execution_count": 391
  },
  {
   "metadata": {
    "ExecuteTime": {
     "end_time": "2025-06-15T15:49:11.631224Z",
     "start_time": "2025-06-15T15:49:05.837866Z"
    }
   },
   "cell_type": "code",
   "source": [
    "importlib.reload(mpt_utils)\n",
    "\n",
    "weights_12m, mu_12m, S_12m, weights_all_12m = mpt_utils.portfolio_and_plot(df_to_evaluate_12m, df, plot_threshold=0.015)"
   ],
   "id": "4b5a6d087126e1f7",
   "outputs": [
    {
     "name": "stdout",
     "output_type": "stream",
     "text": [
      "Expected annual return: 15.3%\n",
      "Annual volatility: 0.5%\n",
      "Sharpe Ratio: 28.66\n",
      "-- Allocation --\n",
      "{'WINA': 1, 'ANSS': 1, '3046.T': 1, 'HAS': 1, 'DAY': 1, 'AMT': 1, 'MRTN': 1, 'NL': 6, 'NOVT': 1, 'PRGS': 1, '4745.T': 7, 'NHI': 1, 'WSM': 1, 'AAPL': 1, 'RBLX': 1, 'A': 1, '8955.T': 1, 'HZO': 1, 'ES': 1, 'MONY.L': 1, 'ILMN': 1, '8060.T': 1, 'BLD': 1, '7915.T': 2, 'HST': 1, 'RS': 1, 'TTG.L': 1, 'OC': 1, 'HRI': 1, 'RSG': 1, 'ZUMZ': 1, 'BMY.L': 1, 'AGNC': 3, '7832.T': 1, '2120.T': 14, '8876.T': 2, 'PANW': 1, '9790.T': 1, 'UPBD': 1, '3738.T': 1, '6471.T': 3, '3107.T': 1, '8219.T': 2, 'YUMC': 1, 'TDC': 1, 'CENT': 1, 'STX': 1, '2471.T': 8, 'RWA.L': 1, 'DLAR.L': 1, 'RGA': 1, '7893.T': 2, 'ROKU': 1, 'HSIC': 1, 'BCYC': 1, 'WSC': 1, 'DKS': 1, 'LSCC': 1, '8802.T': 1, 'LYB': 1, 'DOCU': 1, 'RUN': 1, 'DAN': 1, '8150.T': 1, '9434.T': 1, '5938.T': 1, 'PMT': 1, '4549.T': 1, '6724.T': 1, '2429.T': 1, '3151.T': 2, '9613.T': 1, '7613.T': 1, '8050.T': 1, 'NVRI': 2, 'ARI': 1, '9729.T': 1, '2491.T': 1, 'FARO': 1, 'KMI': 1, 'PSM.DE': 2, '6448.T': 1, 'OSPN': 2, '4293.T': 5, '4751.T': 2, 'HBI': 3, '3048.T': 1, '8804.T': 1, 'RWT': 2, '9470.T': 2, '3191.T': 1, 'TTMI': 1, 'LAUR': 1, 'PSTL': 1, 'GPS': 1, '6417.T': 1, 'AOX.DE': 4, '3086.T': 1, 'SBRA': 1, 'APLD': 2, 'WWW': 1, 'TRTX': 2, '6200.T': 2, '7868.T': 3, 'MPW': 3, '2433.T': 1, 'HCSG': 1, '7250.T': 1, '6644.T': 2, '2389.T': 1, '7294.T': 2, 'WU': 1, 'OUT': 1, 'DXLG': 2, 'TAL': 1, '9832.T': 1, 'IRT': 1, '7955.T': 2, 'BDN': 3, 'WSR': 1, '7508.T': 1, 'ACRE': 1, '2337.T': 4, 'OSW': 1, 'ACEL': 1, '7599.T': 1, 'ARLO': 1, '3402.T': 2, 'CEC.DE': 4, '8601.T': 1, 'MPX': 1, 'MIR': 1, 'SVC': 1, 'DRH': 1, 'NMRK': 1, '3289.T': 1, 'LSEA': 1, 'INN': 1, '9474.T': 1, '3608.T': 1, '8897.T': 1}\n",
      "-- Weights Percentage --\n",
      "{'Other(141)': 1.0}\n"
     ]
    },
    {
     "name": "stderr",
     "output_type": "stream",
     "text": [
      "/Users/herbishtini/anaconda3/envs/portfolio_optimisation/lib/python3.11/site-packages/pypfopt/discrete_allocation.py:27: FutureWarning:\n",
      "\n",
      "Downcasting object dtype arrays on .fillna, .ffill, .bfill is deprecated and will change in a future version. Call result.infer_objects(copy=False) instead. To opt-in to the future behavior, set `pd.set_option('future.no_silent_downcasting', True)`\n",
      "\n"
     ]
    },
    {
     "data": {
      "application/vnd.plotly.v1+json": {
       "data": [
        {
         "hole": 0.3,
         "insidetextorientation": "radial",
         "labels": [
          "Other(141)"
         ],
         "textinfo": "label+percent",
         "textposition": "inside",
         "values": [
          0.2688
         ],
         "type": "pie"
        }
       ],
       "layout": {
        "template": {
         "data": {
          "histogram2dcontour": [
           {
            "type": "histogram2dcontour",
            "colorbar": {
             "outlinewidth": 0,
             "ticks": ""
            },
            "colorscale": [
             [
              0.0,
              "#0d0887"
             ],
             [
              0.1111111111111111,
              "#46039f"
             ],
             [
              0.2222222222222222,
              "#7201a8"
             ],
             [
              0.3333333333333333,
              "#9c179e"
             ],
             [
              0.4444444444444444,
              "#bd3786"
             ],
             [
              0.5555555555555556,
              "#d8576b"
             ],
             [
              0.6666666666666666,
              "#ed7953"
             ],
             [
              0.7777777777777778,
              "#fb9f3a"
             ],
             [
              0.8888888888888888,
              "#fdca26"
             ],
             [
              1.0,
              "#f0f921"
             ]
            ]
           }
          ],
          "choropleth": [
           {
            "type": "choropleth",
            "colorbar": {
             "outlinewidth": 0,
             "ticks": ""
            }
           }
          ],
          "histogram2d": [
           {
            "type": "histogram2d",
            "colorbar": {
             "outlinewidth": 0,
             "ticks": ""
            },
            "colorscale": [
             [
              0.0,
              "#0d0887"
             ],
             [
              0.1111111111111111,
              "#46039f"
             ],
             [
              0.2222222222222222,
              "#7201a8"
             ],
             [
              0.3333333333333333,
              "#9c179e"
             ],
             [
              0.4444444444444444,
              "#bd3786"
             ],
             [
              0.5555555555555556,
              "#d8576b"
             ],
             [
              0.6666666666666666,
              "#ed7953"
             ],
             [
              0.7777777777777778,
              "#fb9f3a"
             ],
             [
              0.8888888888888888,
              "#fdca26"
             ],
             [
              1.0,
              "#f0f921"
             ]
            ]
           }
          ],
          "heatmap": [
           {
            "type": "heatmap",
            "colorbar": {
             "outlinewidth": 0,
             "ticks": ""
            },
            "colorscale": [
             [
              0.0,
              "#0d0887"
             ],
             [
              0.1111111111111111,
              "#46039f"
             ],
             [
              0.2222222222222222,
              "#7201a8"
             ],
             [
              0.3333333333333333,
              "#9c179e"
             ],
             [
              0.4444444444444444,
              "#bd3786"
             ],
             [
              0.5555555555555556,
              "#d8576b"
             ],
             [
              0.6666666666666666,
              "#ed7953"
             ],
             [
              0.7777777777777778,
              "#fb9f3a"
             ],
             [
              0.8888888888888888,
              "#fdca26"
             ],
             [
              1.0,
              "#f0f921"
             ]
            ]
           }
          ],
          "heatmapgl": [
           {
            "type": "heatmapgl",
            "colorbar": {
             "outlinewidth": 0,
             "ticks": ""
            },
            "colorscale": [
             [
              0.0,
              "#0d0887"
             ],
             [
              0.1111111111111111,
              "#46039f"
             ],
             [
              0.2222222222222222,
              "#7201a8"
             ],
             [
              0.3333333333333333,
              "#9c179e"
             ],
             [
              0.4444444444444444,
              "#bd3786"
             ],
             [
              0.5555555555555556,
              "#d8576b"
             ],
             [
              0.6666666666666666,
              "#ed7953"
             ],
             [
              0.7777777777777778,
              "#fb9f3a"
             ],
             [
              0.8888888888888888,
              "#fdca26"
             ],
             [
              1.0,
              "#f0f921"
             ]
            ]
           }
          ],
          "contourcarpet": [
           {
            "type": "contourcarpet",
            "colorbar": {
             "outlinewidth": 0,
             "ticks": ""
            }
           }
          ],
          "contour": [
           {
            "type": "contour",
            "colorbar": {
             "outlinewidth": 0,
             "ticks": ""
            },
            "colorscale": [
             [
              0.0,
              "#0d0887"
             ],
             [
              0.1111111111111111,
              "#46039f"
             ],
             [
              0.2222222222222222,
              "#7201a8"
             ],
             [
              0.3333333333333333,
              "#9c179e"
             ],
             [
              0.4444444444444444,
              "#bd3786"
             ],
             [
              0.5555555555555556,
              "#d8576b"
             ],
             [
              0.6666666666666666,
              "#ed7953"
             ],
             [
              0.7777777777777778,
              "#fb9f3a"
             ],
             [
              0.8888888888888888,
              "#fdca26"
             ],
             [
              1.0,
              "#f0f921"
             ]
            ]
           }
          ],
          "surface": [
           {
            "type": "surface",
            "colorbar": {
             "outlinewidth": 0,
             "ticks": ""
            },
            "colorscale": [
             [
              0.0,
              "#0d0887"
             ],
             [
              0.1111111111111111,
              "#46039f"
             ],
             [
              0.2222222222222222,
              "#7201a8"
             ],
             [
              0.3333333333333333,
              "#9c179e"
             ],
             [
              0.4444444444444444,
              "#bd3786"
             ],
             [
              0.5555555555555556,
              "#d8576b"
             ],
             [
              0.6666666666666666,
              "#ed7953"
             ],
             [
              0.7777777777777778,
              "#fb9f3a"
             ],
             [
              0.8888888888888888,
              "#fdca26"
             ],
             [
              1.0,
              "#f0f921"
             ]
            ]
           }
          ],
          "mesh3d": [
           {
            "type": "mesh3d",
            "colorbar": {
             "outlinewidth": 0,
             "ticks": ""
            }
           }
          ],
          "scatter": [
           {
            "fillpattern": {
             "fillmode": "overlay",
             "size": 10,
             "solidity": 0.2
            },
            "type": "scatter"
           }
          ],
          "parcoords": [
           {
            "type": "parcoords",
            "line": {
             "colorbar": {
              "outlinewidth": 0,
              "ticks": ""
             }
            }
           }
          ],
          "scatterpolargl": [
           {
            "type": "scatterpolargl",
            "marker": {
             "colorbar": {
              "outlinewidth": 0,
              "ticks": ""
             }
            }
           }
          ],
          "bar": [
           {
            "error_x": {
             "color": "#2a3f5f"
            },
            "error_y": {
             "color": "#2a3f5f"
            },
            "marker": {
             "line": {
              "color": "#E5ECF6",
              "width": 0.5
             },
             "pattern": {
              "fillmode": "overlay",
              "size": 10,
              "solidity": 0.2
             }
            },
            "type": "bar"
           }
          ],
          "scattergeo": [
           {
            "type": "scattergeo",
            "marker": {
             "colorbar": {
              "outlinewidth": 0,
              "ticks": ""
             }
            }
           }
          ],
          "scatterpolar": [
           {
            "type": "scatterpolar",
            "marker": {
             "colorbar": {
              "outlinewidth": 0,
              "ticks": ""
             }
            }
           }
          ],
          "histogram": [
           {
            "marker": {
             "pattern": {
              "fillmode": "overlay",
              "size": 10,
              "solidity": 0.2
             }
            },
            "type": "histogram"
           }
          ],
          "scattergl": [
           {
            "type": "scattergl",
            "marker": {
             "colorbar": {
              "outlinewidth": 0,
              "ticks": ""
             }
            }
           }
          ],
          "scatter3d": [
           {
            "type": "scatter3d",
            "line": {
             "colorbar": {
              "outlinewidth": 0,
              "ticks": ""
             }
            },
            "marker": {
             "colorbar": {
              "outlinewidth": 0,
              "ticks": ""
             }
            }
           }
          ],
          "scattermapbox": [
           {
            "type": "scattermapbox",
            "marker": {
             "colorbar": {
              "outlinewidth": 0,
              "ticks": ""
             }
            }
           }
          ],
          "scatterternary": [
           {
            "type": "scatterternary",
            "marker": {
             "colorbar": {
              "outlinewidth": 0,
              "ticks": ""
             }
            }
           }
          ],
          "scattercarpet": [
           {
            "type": "scattercarpet",
            "marker": {
             "colorbar": {
              "outlinewidth": 0,
              "ticks": ""
             }
            }
           }
          ],
          "carpet": [
           {
            "aaxis": {
             "endlinecolor": "#2a3f5f",
             "gridcolor": "white",
             "linecolor": "white",
             "minorgridcolor": "white",
             "startlinecolor": "#2a3f5f"
            },
            "baxis": {
             "endlinecolor": "#2a3f5f",
             "gridcolor": "white",
             "linecolor": "white",
             "minorgridcolor": "white",
             "startlinecolor": "#2a3f5f"
            },
            "type": "carpet"
           }
          ],
          "table": [
           {
            "cells": {
             "fill": {
              "color": "#EBF0F8"
             },
             "line": {
              "color": "white"
             }
            },
            "header": {
             "fill": {
              "color": "#C8D4E3"
             },
             "line": {
              "color": "white"
             }
            },
            "type": "table"
           }
          ],
          "barpolar": [
           {
            "marker": {
             "line": {
              "color": "#E5ECF6",
              "width": 0.5
             },
             "pattern": {
              "fillmode": "overlay",
              "size": 10,
              "solidity": 0.2
             }
            },
            "type": "barpolar"
           }
          ],
          "pie": [
           {
            "automargin": true,
            "type": "pie"
           }
          ]
         },
         "layout": {
          "autotypenumbers": "strict",
          "colorway": [
           "#636efa",
           "#EF553B",
           "#00cc96",
           "#ab63fa",
           "#FFA15A",
           "#19d3f3",
           "#FF6692",
           "#B6E880",
           "#FF97FF",
           "#FECB52"
          ],
          "font": {
           "color": "#2a3f5f"
          },
          "hovermode": "closest",
          "hoverlabel": {
           "align": "left"
          },
          "paper_bgcolor": "white",
          "plot_bgcolor": "#E5ECF6",
          "polar": {
           "bgcolor": "#E5ECF6",
           "angularaxis": {
            "gridcolor": "white",
            "linecolor": "white",
            "ticks": ""
           },
           "radialaxis": {
            "gridcolor": "white",
            "linecolor": "white",
            "ticks": ""
           }
          },
          "ternary": {
           "bgcolor": "#E5ECF6",
           "aaxis": {
            "gridcolor": "white",
            "linecolor": "white",
            "ticks": ""
           },
           "baxis": {
            "gridcolor": "white",
            "linecolor": "white",
            "ticks": ""
           },
           "caxis": {
            "gridcolor": "white",
            "linecolor": "white",
            "ticks": ""
           }
          },
          "coloraxis": {
           "colorbar": {
            "outlinewidth": 0,
            "ticks": ""
           }
          },
          "colorscale": {
           "sequential": [
            [
             0.0,
             "#0d0887"
            ],
            [
             0.1111111111111111,
             "#46039f"
            ],
            [
             0.2222222222222222,
             "#7201a8"
            ],
            [
             0.3333333333333333,
             "#9c179e"
            ],
            [
             0.4444444444444444,
             "#bd3786"
            ],
            [
             0.5555555555555556,
             "#d8576b"
            ],
            [
             0.6666666666666666,
             "#ed7953"
            ],
            [
             0.7777777777777778,
             "#fb9f3a"
            ],
            [
             0.8888888888888888,
             "#fdca26"
            ],
            [
             1.0,
             "#f0f921"
            ]
           ],
           "sequentialminus": [
            [
             0.0,
             "#0d0887"
            ],
            [
             0.1111111111111111,
             "#46039f"
            ],
            [
             0.2222222222222222,
             "#7201a8"
            ],
            [
             0.3333333333333333,
             "#9c179e"
            ],
            [
             0.4444444444444444,
             "#bd3786"
            ],
            [
             0.5555555555555556,
             "#d8576b"
            ],
            [
             0.6666666666666666,
             "#ed7953"
            ],
            [
             0.7777777777777778,
             "#fb9f3a"
            ],
            [
             0.8888888888888888,
             "#fdca26"
            ],
            [
             1.0,
             "#f0f921"
            ]
           ],
           "diverging": [
            [
             0,
             "#8e0152"
            ],
            [
             0.1,
             "#c51b7d"
            ],
            [
             0.2,
             "#de77ae"
            ],
            [
             0.3,
             "#f1b6da"
            ],
            [
             0.4,
             "#fde0ef"
            ],
            [
             0.5,
             "#f7f7f7"
            ],
            [
             0.6,
             "#e6f5d0"
            ],
            [
             0.7,
             "#b8e186"
            ],
            [
             0.8,
             "#7fbc41"
            ],
            [
             0.9,
             "#4d9221"
            ],
            [
             1,
             "#276419"
            ]
           ]
          },
          "xaxis": {
           "gridcolor": "white",
           "linecolor": "white",
           "ticks": "",
           "title": {
            "standoff": 15
           },
           "zerolinecolor": "white",
           "automargin": true,
           "zerolinewidth": 2
          },
          "yaxis": {
           "gridcolor": "white",
           "linecolor": "white",
           "ticks": "",
           "title": {
            "standoff": 15
           },
           "zerolinecolor": "white",
           "automargin": true,
           "zerolinewidth": 2
          },
          "scene": {
           "xaxis": {
            "backgroundcolor": "#E5ECF6",
            "gridcolor": "white",
            "linecolor": "white",
            "showbackground": true,
            "ticks": "",
            "zerolinecolor": "white",
            "gridwidth": 2
           },
           "yaxis": {
            "backgroundcolor": "#E5ECF6",
            "gridcolor": "white",
            "linecolor": "white",
            "showbackground": true,
            "ticks": "",
            "zerolinecolor": "white",
            "gridwidth": 2
           },
           "zaxis": {
            "backgroundcolor": "#E5ECF6",
            "gridcolor": "white",
            "linecolor": "white",
            "showbackground": true,
            "ticks": "",
            "zerolinecolor": "white",
            "gridwidth": 2
           }
          },
          "shapedefaults": {
           "line": {
            "color": "#2a3f5f"
           }
          },
          "annotationdefaults": {
           "arrowcolor": "#2a3f5f",
           "arrowhead": 0,
           "arrowwidth": 1
          },
          "geo": {
           "bgcolor": "white",
           "landcolor": "#E5ECF6",
           "subunitcolor": "white",
           "showland": true,
           "showlakes": true,
           "lakecolor": "white"
          },
          "title": {
           "x": 0.05
          },
          "mapbox": {
           "style": "light"
          }
         }
        },
        "margin": {
         "l": 20,
         "r": 20,
         "t": 20,
         "b": 20
        },
        "font": {
         "color": "black"
        },
        "height": 600,
        "width": 600,
        "paper_bgcolor": "white",
        "plot_bgcolor": "white",
        "showlegend": false
       },
       "config": {
        "plotlyServerURL": "https://plot.ly"
       }
      },
      "text/html": [
       "<div>                            <div id=\"77c5a0df-50a0-4932-86f2-36211d317ba7\" class=\"plotly-graph-div\" style=\"height:600px; width:600px;\"></div>            <script type=\"text/javascript\">                require([\"plotly\"], function(Plotly) {                    window.PLOTLYENV=window.PLOTLYENV || {};                                    if (document.getElementById(\"77c5a0df-50a0-4932-86f2-36211d317ba7\")) {                    Plotly.newPlot(                        \"77c5a0df-50a0-4932-86f2-36211d317ba7\",                        [{\"hole\":0.3,\"insidetextorientation\":\"radial\",\"labels\":[\"Other(141)\"],\"textinfo\":\"label+percent\",\"textposition\":\"inside\",\"values\":[0.2688],\"type\":\"pie\"}],                        {\"template\":{\"data\":{\"histogram2dcontour\":[{\"type\":\"histogram2dcontour\",\"colorbar\":{\"outlinewidth\":0,\"ticks\":\"\"},\"colorscale\":[[0.0,\"#0d0887\"],[0.1111111111111111,\"#46039f\"],[0.2222222222222222,\"#7201a8\"],[0.3333333333333333,\"#9c179e\"],[0.4444444444444444,\"#bd3786\"],[0.5555555555555556,\"#d8576b\"],[0.6666666666666666,\"#ed7953\"],[0.7777777777777778,\"#fb9f3a\"],[0.8888888888888888,\"#fdca26\"],[1.0,\"#f0f921\"]]}],\"choropleth\":[{\"type\":\"choropleth\",\"colorbar\":{\"outlinewidth\":0,\"ticks\":\"\"}}],\"histogram2d\":[{\"type\":\"histogram2d\",\"colorbar\":{\"outlinewidth\":0,\"ticks\":\"\"},\"colorscale\":[[0.0,\"#0d0887\"],[0.1111111111111111,\"#46039f\"],[0.2222222222222222,\"#7201a8\"],[0.3333333333333333,\"#9c179e\"],[0.4444444444444444,\"#bd3786\"],[0.5555555555555556,\"#d8576b\"],[0.6666666666666666,\"#ed7953\"],[0.7777777777777778,\"#fb9f3a\"],[0.8888888888888888,\"#fdca26\"],[1.0,\"#f0f921\"]]}],\"heatmap\":[{\"type\":\"heatmap\",\"colorbar\":{\"outlinewidth\":0,\"ticks\":\"\"},\"colorscale\":[[0.0,\"#0d0887\"],[0.1111111111111111,\"#46039f\"],[0.2222222222222222,\"#7201a8\"],[0.3333333333333333,\"#9c179e\"],[0.4444444444444444,\"#bd3786\"],[0.5555555555555556,\"#d8576b\"],[0.6666666666666666,\"#ed7953\"],[0.7777777777777778,\"#fb9f3a\"],[0.8888888888888888,\"#fdca26\"],[1.0,\"#f0f921\"]]}],\"heatmapgl\":[{\"type\":\"heatmapgl\",\"colorbar\":{\"outlinewidth\":0,\"ticks\":\"\"},\"colorscale\":[[0.0,\"#0d0887\"],[0.1111111111111111,\"#46039f\"],[0.2222222222222222,\"#7201a8\"],[0.3333333333333333,\"#9c179e\"],[0.4444444444444444,\"#bd3786\"],[0.5555555555555556,\"#d8576b\"],[0.6666666666666666,\"#ed7953\"],[0.7777777777777778,\"#fb9f3a\"],[0.8888888888888888,\"#fdca26\"],[1.0,\"#f0f921\"]]}],\"contourcarpet\":[{\"type\":\"contourcarpet\",\"colorbar\":{\"outlinewidth\":0,\"ticks\":\"\"}}],\"contour\":[{\"type\":\"contour\",\"colorbar\":{\"outlinewidth\":0,\"ticks\":\"\"},\"colorscale\":[[0.0,\"#0d0887\"],[0.1111111111111111,\"#46039f\"],[0.2222222222222222,\"#7201a8\"],[0.3333333333333333,\"#9c179e\"],[0.4444444444444444,\"#bd3786\"],[0.5555555555555556,\"#d8576b\"],[0.6666666666666666,\"#ed7953\"],[0.7777777777777778,\"#fb9f3a\"],[0.8888888888888888,\"#fdca26\"],[1.0,\"#f0f921\"]]}],\"surface\":[{\"type\":\"surface\",\"colorbar\":{\"outlinewidth\":0,\"ticks\":\"\"},\"colorscale\":[[0.0,\"#0d0887\"],[0.1111111111111111,\"#46039f\"],[0.2222222222222222,\"#7201a8\"],[0.3333333333333333,\"#9c179e\"],[0.4444444444444444,\"#bd3786\"],[0.5555555555555556,\"#d8576b\"],[0.6666666666666666,\"#ed7953\"],[0.7777777777777778,\"#fb9f3a\"],[0.8888888888888888,\"#fdca26\"],[1.0,\"#f0f921\"]]}],\"mesh3d\":[{\"type\":\"mesh3d\",\"colorbar\":{\"outlinewidth\":0,\"ticks\":\"\"}}],\"scatter\":[{\"fillpattern\":{\"fillmode\":\"overlay\",\"size\":10,\"solidity\":0.2},\"type\":\"scatter\"}],\"parcoords\":[{\"type\":\"parcoords\",\"line\":{\"colorbar\":{\"outlinewidth\":0,\"ticks\":\"\"}}}],\"scatterpolargl\":[{\"type\":\"scatterpolargl\",\"marker\":{\"colorbar\":{\"outlinewidth\":0,\"ticks\":\"\"}}}],\"bar\":[{\"error_x\":{\"color\":\"#2a3f5f\"},\"error_y\":{\"color\":\"#2a3f5f\"},\"marker\":{\"line\":{\"color\":\"#E5ECF6\",\"width\":0.5},\"pattern\":{\"fillmode\":\"overlay\",\"size\":10,\"solidity\":0.2}},\"type\":\"bar\"}],\"scattergeo\":[{\"type\":\"scattergeo\",\"marker\":{\"colorbar\":{\"outlinewidth\":0,\"ticks\":\"\"}}}],\"scatterpolar\":[{\"type\":\"scatterpolar\",\"marker\":{\"colorbar\":{\"outlinewidth\":0,\"ticks\":\"\"}}}],\"histogram\":[{\"marker\":{\"pattern\":{\"fillmode\":\"overlay\",\"size\":10,\"solidity\":0.2}},\"type\":\"histogram\"}],\"scattergl\":[{\"type\":\"scattergl\",\"marker\":{\"colorbar\":{\"outlinewidth\":0,\"ticks\":\"\"}}}],\"scatter3d\":[{\"type\":\"scatter3d\",\"line\":{\"colorbar\":{\"outlinewidth\":0,\"ticks\":\"\"}},\"marker\":{\"colorbar\":{\"outlinewidth\":0,\"ticks\":\"\"}}}],\"scattermapbox\":[{\"type\":\"scattermapbox\",\"marker\":{\"colorbar\":{\"outlinewidth\":0,\"ticks\":\"\"}}}],\"scatterternary\":[{\"type\":\"scatterternary\",\"marker\":{\"colorbar\":{\"outlinewidth\":0,\"ticks\":\"\"}}}],\"scattercarpet\":[{\"type\":\"scattercarpet\",\"marker\":{\"colorbar\":{\"outlinewidth\":0,\"ticks\":\"\"}}}],\"carpet\":[{\"aaxis\":{\"endlinecolor\":\"#2a3f5f\",\"gridcolor\":\"white\",\"linecolor\":\"white\",\"minorgridcolor\":\"white\",\"startlinecolor\":\"#2a3f5f\"},\"baxis\":{\"endlinecolor\":\"#2a3f5f\",\"gridcolor\":\"white\",\"linecolor\":\"white\",\"minorgridcolor\":\"white\",\"startlinecolor\":\"#2a3f5f\"},\"type\":\"carpet\"}],\"table\":[{\"cells\":{\"fill\":{\"color\":\"#EBF0F8\"},\"line\":{\"color\":\"white\"}},\"header\":{\"fill\":{\"color\":\"#C8D4E3\"},\"line\":{\"color\":\"white\"}},\"type\":\"table\"}],\"barpolar\":[{\"marker\":{\"line\":{\"color\":\"#E5ECF6\",\"width\":0.5},\"pattern\":{\"fillmode\":\"overlay\",\"size\":10,\"solidity\":0.2}},\"type\":\"barpolar\"}],\"pie\":[{\"automargin\":true,\"type\":\"pie\"}]},\"layout\":{\"autotypenumbers\":\"strict\",\"colorway\":[\"#636efa\",\"#EF553B\",\"#00cc96\",\"#ab63fa\",\"#FFA15A\",\"#19d3f3\",\"#FF6692\",\"#B6E880\",\"#FF97FF\",\"#FECB52\"],\"font\":{\"color\":\"#2a3f5f\"},\"hovermode\":\"closest\",\"hoverlabel\":{\"align\":\"left\"},\"paper_bgcolor\":\"white\",\"plot_bgcolor\":\"#E5ECF6\",\"polar\":{\"bgcolor\":\"#E5ECF6\",\"angularaxis\":{\"gridcolor\":\"white\",\"linecolor\":\"white\",\"ticks\":\"\"},\"radialaxis\":{\"gridcolor\":\"white\",\"linecolor\":\"white\",\"ticks\":\"\"}},\"ternary\":{\"bgcolor\":\"#E5ECF6\",\"aaxis\":{\"gridcolor\":\"white\",\"linecolor\":\"white\",\"ticks\":\"\"},\"baxis\":{\"gridcolor\":\"white\",\"linecolor\":\"white\",\"ticks\":\"\"},\"caxis\":{\"gridcolor\":\"white\",\"linecolor\":\"white\",\"ticks\":\"\"}},\"coloraxis\":{\"colorbar\":{\"outlinewidth\":0,\"ticks\":\"\"}},\"colorscale\":{\"sequential\":[[0.0,\"#0d0887\"],[0.1111111111111111,\"#46039f\"],[0.2222222222222222,\"#7201a8\"],[0.3333333333333333,\"#9c179e\"],[0.4444444444444444,\"#bd3786\"],[0.5555555555555556,\"#d8576b\"],[0.6666666666666666,\"#ed7953\"],[0.7777777777777778,\"#fb9f3a\"],[0.8888888888888888,\"#fdca26\"],[1.0,\"#f0f921\"]],\"sequentialminus\":[[0.0,\"#0d0887\"],[0.1111111111111111,\"#46039f\"],[0.2222222222222222,\"#7201a8\"],[0.3333333333333333,\"#9c179e\"],[0.4444444444444444,\"#bd3786\"],[0.5555555555555556,\"#d8576b\"],[0.6666666666666666,\"#ed7953\"],[0.7777777777777778,\"#fb9f3a\"],[0.8888888888888888,\"#fdca26\"],[1.0,\"#f0f921\"]],\"diverging\":[[0,\"#8e0152\"],[0.1,\"#c51b7d\"],[0.2,\"#de77ae\"],[0.3,\"#f1b6da\"],[0.4,\"#fde0ef\"],[0.5,\"#f7f7f7\"],[0.6,\"#e6f5d0\"],[0.7,\"#b8e186\"],[0.8,\"#7fbc41\"],[0.9,\"#4d9221\"],[1,\"#276419\"]]},\"xaxis\":{\"gridcolor\":\"white\",\"linecolor\":\"white\",\"ticks\":\"\",\"title\":{\"standoff\":15},\"zerolinecolor\":\"white\",\"automargin\":true,\"zerolinewidth\":2},\"yaxis\":{\"gridcolor\":\"white\",\"linecolor\":\"white\",\"ticks\":\"\",\"title\":{\"standoff\":15},\"zerolinecolor\":\"white\",\"automargin\":true,\"zerolinewidth\":2},\"scene\":{\"xaxis\":{\"backgroundcolor\":\"#E5ECF6\",\"gridcolor\":\"white\",\"linecolor\":\"white\",\"showbackground\":true,\"ticks\":\"\",\"zerolinecolor\":\"white\",\"gridwidth\":2},\"yaxis\":{\"backgroundcolor\":\"#E5ECF6\",\"gridcolor\":\"white\",\"linecolor\":\"white\",\"showbackground\":true,\"ticks\":\"\",\"zerolinecolor\":\"white\",\"gridwidth\":2},\"zaxis\":{\"backgroundcolor\":\"#E5ECF6\",\"gridcolor\":\"white\",\"linecolor\":\"white\",\"showbackground\":true,\"ticks\":\"\",\"zerolinecolor\":\"white\",\"gridwidth\":2}},\"shapedefaults\":{\"line\":{\"color\":\"#2a3f5f\"}},\"annotationdefaults\":{\"arrowcolor\":\"#2a3f5f\",\"arrowhead\":0,\"arrowwidth\":1},\"geo\":{\"bgcolor\":\"white\",\"landcolor\":\"#E5ECF6\",\"subunitcolor\":\"white\",\"showland\":true,\"showlakes\":true,\"lakecolor\":\"white\"},\"title\":{\"x\":0.05},\"mapbox\":{\"style\":\"light\"}}},\"margin\":{\"l\":20,\"r\":20,\"t\":20,\"b\":20},\"font\":{\"color\":\"black\"},\"height\":600,\"width\":600,\"paper_bgcolor\":\"white\",\"plot_bgcolor\":\"white\",\"showlegend\":false},                        {\"responsive\": true}                    ).then(function(){\n",
       "                            \n",
       "var gd = document.getElementById('77c5a0df-50a0-4932-86f2-36211d317ba7');\n",
       "var x = new MutationObserver(function (mutations, observer) {{\n",
       "        var display = window.getComputedStyle(gd).display;\n",
       "        if (!display || display === 'none') {{\n",
       "            console.log([gd, 'removed!']);\n",
       "            Plotly.purge(gd);\n",
       "            observer.disconnect();\n",
       "        }}\n",
       "}});\n",
       "\n",
       "// Listen for the removal of the full notebook cells\n",
       "var notebookContainer = gd.closest('#notebook-container');\n",
       "if (notebookContainer) {{\n",
       "    x.observe(notebookContainer, {childList: true});\n",
       "}}\n",
       "\n",
       "// Listen for the clearing of the current output cell\n",
       "var outputEl = gd.closest('.output');\n",
       "if (outputEl) {{\n",
       "    x.observe(outputEl, {childList: true});\n",
       "}}\n",
       "\n",
       "                        })                };                });            </script>        </div>"
      ]
     },
     "metadata": {},
     "output_type": "display_data"
    }
   ],
   "execution_count": 392
  },
  {
   "metadata": {},
   "cell_type": "markdown",
   "source": "#### Overview table",
   "id": "39ac3616c06a3b1f"
  },
  {
   "metadata": {
    "ExecuteTime": {
     "end_time": "2025-06-15T15:49:11.666537Z",
     "start_time": "2025-06-15T15:49:11.642117Z"
    }
   },
   "cell_type": "code",
   "source": [
    "importlib.reload(mpt_utils)\n",
    "# Create overview\n",
    "mpt_utils.generate_overview_table(weights_all_12m, mu_12m, S_12m, df_pct)"
   ],
   "id": "e98ffb3af34b1d15",
   "outputs": [
    {
     "data": {
      "text/plain": [
       "        Share Count  Average Covariance Average Returns Return Last 12 Months  \\\n",
       "WINA              1           -0.000929          16.68%                62.86%   \n",
       "ANSS              1            0.000714          25.16%                25.84%   \n",
       "3046.T            1           -0.000786          33.48%                -4.69%   \n",
       "HAS               1            0.000500          20.05%               -28.02%   \n",
       "DAY               1           -0.000714          12.90%                -3.79%   \n",
       "...             ...                 ...             ...                   ...   \n",
       "LSEA              1            0.000143          20.77%                55.46%   \n",
       "INN               1            0.001000          12.73%               -32.77%   \n",
       "9474.T            1            0.000000           9.76%                 2.30%   \n",
       "3608.T            1           -0.000143          11.19%                81.27%   \n",
       "8897.T            1            0.000857          14.37%                12.26%   \n",
       "\n",
       "       Return (Actual) Next 12 Months  \n",
       "WINA                           -6.83%  \n",
       "ANSS                            4.32%  \n",
       "3046.T                         66.83%  \n",
       "HAS                             6.28%  \n",
       "DAY                           -14.72%  \n",
       "...                               ...  \n",
       "LSEA                           31.19%  \n",
       "INN                            10.46%  \n",
       "9474.T                         -3.39%  \n",
       "3608.T                         12.53%  \n",
       "8897.T                         12.31%  \n",
       "\n",
       "[141 rows x 5 columns]"
      ],
      "text/html": [
       "<div>\n",
       "<style scoped>\n",
       "    .dataframe tbody tr th:only-of-type {\n",
       "        vertical-align: middle;\n",
       "    }\n",
       "\n",
       "    .dataframe tbody tr th {\n",
       "        vertical-align: top;\n",
       "    }\n",
       "\n",
       "    .dataframe thead th {\n",
       "        text-align: right;\n",
       "    }\n",
       "</style>\n",
       "<table border=\"1\" class=\"dataframe\">\n",
       "  <thead>\n",
       "    <tr style=\"text-align: right;\">\n",
       "      <th></th>\n",
       "      <th>Share Count</th>\n",
       "      <th>Average Covariance</th>\n",
       "      <th>Average Returns</th>\n",
       "      <th>Return Last 12 Months</th>\n",
       "      <th>Return (Actual) Next 12 Months</th>\n",
       "    </tr>\n",
       "  </thead>\n",
       "  <tbody>\n",
       "    <tr>\n",
       "      <th>WINA</th>\n",
       "      <td>1</td>\n",
       "      <td>-0.000929</td>\n",
       "      <td>16.68%</td>\n",
       "      <td>62.86%</td>\n",
       "      <td>-6.83%</td>\n",
       "    </tr>\n",
       "    <tr>\n",
       "      <th>ANSS</th>\n",
       "      <td>1</td>\n",
       "      <td>0.000714</td>\n",
       "      <td>25.16%</td>\n",
       "      <td>25.84%</td>\n",
       "      <td>4.32%</td>\n",
       "    </tr>\n",
       "    <tr>\n",
       "      <th>3046.T</th>\n",
       "      <td>1</td>\n",
       "      <td>-0.000786</td>\n",
       "      <td>33.48%</td>\n",
       "      <td>-4.69%</td>\n",
       "      <td>66.83%</td>\n",
       "    </tr>\n",
       "    <tr>\n",
       "      <th>HAS</th>\n",
       "      <td>1</td>\n",
       "      <td>0.000500</td>\n",
       "      <td>20.05%</td>\n",
       "      <td>-28.02%</td>\n",
       "      <td>6.28%</td>\n",
       "    </tr>\n",
       "    <tr>\n",
       "      <th>DAY</th>\n",
       "      <td>1</td>\n",
       "      <td>-0.000714</td>\n",
       "      <td>12.90%</td>\n",
       "      <td>-3.79%</td>\n",
       "      <td>-14.72%</td>\n",
       "    </tr>\n",
       "    <tr>\n",
       "      <th>...</th>\n",
       "      <td>...</td>\n",
       "      <td>...</td>\n",
       "      <td>...</td>\n",
       "      <td>...</td>\n",
       "      <td>...</td>\n",
       "    </tr>\n",
       "    <tr>\n",
       "      <th>LSEA</th>\n",
       "      <td>1</td>\n",
       "      <td>0.000143</td>\n",
       "      <td>20.77%</td>\n",
       "      <td>55.46%</td>\n",
       "      <td>31.19%</td>\n",
       "    </tr>\n",
       "    <tr>\n",
       "      <th>INN</th>\n",
       "      <td>1</td>\n",
       "      <td>0.001000</td>\n",
       "      <td>12.73%</td>\n",
       "      <td>-32.77%</td>\n",
       "      <td>10.46%</td>\n",
       "    </tr>\n",
       "    <tr>\n",
       "      <th>9474.T</th>\n",
       "      <td>1</td>\n",
       "      <td>0.000000</td>\n",
       "      <td>9.76%</td>\n",
       "      <td>2.30%</td>\n",
       "      <td>-3.39%</td>\n",
       "    </tr>\n",
       "    <tr>\n",
       "      <th>3608.T</th>\n",
       "      <td>1</td>\n",
       "      <td>-0.000143</td>\n",
       "      <td>11.19%</td>\n",
       "      <td>81.27%</td>\n",
       "      <td>12.53%</td>\n",
       "    </tr>\n",
       "    <tr>\n",
       "      <th>8897.T</th>\n",
       "      <td>1</td>\n",
       "      <td>0.000857</td>\n",
       "      <td>14.37%</td>\n",
       "      <td>12.26%</td>\n",
       "      <td>12.31%</td>\n",
       "    </tr>\n",
       "  </tbody>\n",
       "</table>\n",
       "<p>141 rows × 5 columns</p>\n",
       "</div>"
      ]
     },
     "execution_count": 393,
     "metadata": {},
     "output_type": "execute_result"
    }
   ],
   "execution_count": 393
  },
  {
   "metadata": {},
   "cell_type": "markdown",
   "source": "## Feature importance",
   "id": "2165202ddf70dd41"
  },
  {
   "metadata": {
    "ExecuteTime": {
     "end_time": "2025-06-15T15:49:11.697441Z",
     "start_time": "2025-06-15T15:49:11.670020Z"
    }
   },
   "cell_type": "code",
   "source": [
    "### Feature importance\n",
    "importlib.reload(plots)\n",
    "#\n",
    "plots.plot_feature_importance(model_12m)"
   ],
   "id": "96d04e12e09015aa",
   "outputs": [
    {
     "data": {
      "application/vnd.plotly.v1+json": {
       "data": [
        {
         "alignmentgroup": "True",
         "hovertemplate": "score=%{x}<br>feature=%{y}<extra></extra>",
         "legendgroup": "",
         "marker": {
          "color": "#636efa",
          "pattern": {
           "shape": ""
          }
         },
         "name": "",
         "offsetgroup": "",
         "orientation": "h",
         "showlegend": false,
         "textposition": "auto",
         "x": [
          664.0,
          594.0,
          160.0,
          144.0,
          138.0,
          137.0,
          134.0,
          131.0,
          119.0,
          111.0,
          103.0,
          100.0,
          98.0,
          87.0,
          71.0,
          28.0,
          20.0,
          18.0,
          17.0,
          14.0
         ],
         "xaxis": "x",
         "y": [
          "year",
          "month",
          "m_return(t)",
          "m_return(t-11)",
          "m_return(t-5)",
          "m_return(t-4)",
          "m_return(t-6)",
          "m_return(t-2)",
          "m_return(t-10)",
          "m_return(t-8)",
          "m_return(t-7)",
          "m_return(t-1)",
          "m_return(t-3)",
          "m_return(t-9)",
          "stock_ticker_label",
          "beta",
          "trailing_pe",
          "market_capital_scale",
          "return_on_equity",
          "earnings_growth"
         ],
         "yaxis": "y",
         "type": "bar"
        }
       ],
       "layout": {
        "template": {
         "data": {
          "histogram2dcontour": [
           {
            "type": "histogram2dcontour",
            "colorbar": {
             "outlinewidth": 0,
             "ticks": ""
            },
            "colorscale": [
             [
              0.0,
              "#0d0887"
             ],
             [
              0.1111111111111111,
              "#46039f"
             ],
             [
              0.2222222222222222,
              "#7201a8"
             ],
             [
              0.3333333333333333,
              "#9c179e"
             ],
             [
              0.4444444444444444,
              "#bd3786"
             ],
             [
              0.5555555555555556,
              "#d8576b"
             ],
             [
              0.6666666666666666,
              "#ed7953"
             ],
             [
              0.7777777777777778,
              "#fb9f3a"
             ],
             [
              0.8888888888888888,
              "#fdca26"
             ],
             [
              1.0,
              "#f0f921"
             ]
            ]
           }
          ],
          "choropleth": [
           {
            "type": "choropleth",
            "colorbar": {
             "outlinewidth": 0,
             "ticks": ""
            }
           }
          ],
          "histogram2d": [
           {
            "type": "histogram2d",
            "colorbar": {
             "outlinewidth": 0,
             "ticks": ""
            },
            "colorscale": [
             [
              0.0,
              "#0d0887"
             ],
             [
              0.1111111111111111,
              "#46039f"
             ],
             [
              0.2222222222222222,
              "#7201a8"
             ],
             [
              0.3333333333333333,
              "#9c179e"
             ],
             [
              0.4444444444444444,
              "#bd3786"
             ],
             [
              0.5555555555555556,
              "#d8576b"
             ],
             [
              0.6666666666666666,
              "#ed7953"
             ],
             [
              0.7777777777777778,
              "#fb9f3a"
             ],
             [
              0.8888888888888888,
              "#fdca26"
             ],
             [
              1.0,
              "#f0f921"
             ]
            ]
           }
          ],
          "heatmap": [
           {
            "type": "heatmap",
            "colorbar": {
             "outlinewidth": 0,
             "ticks": ""
            },
            "colorscale": [
             [
              0.0,
              "#0d0887"
             ],
             [
              0.1111111111111111,
              "#46039f"
             ],
             [
              0.2222222222222222,
              "#7201a8"
             ],
             [
              0.3333333333333333,
              "#9c179e"
             ],
             [
              0.4444444444444444,
              "#bd3786"
             ],
             [
              0.5555555555555556,
              "#d8576b"
             ],
             [
              0.6666666666666666,
              "#ed7953"
             ],
             [
              0.7777777777777778,
              "#fb9f3a"
             ],
             [
              0.8888888888888888,
              "#fdca26"
             ],
             [
              1.0,
              "#f0f921"
             ]
            ]
           }
          ],
          "heatmapgl": [
           {
            "type": "heatmapgl",
            "colorbar": {
             "outlinewidth": 0,
             "ticks": ""
            },
            "colorscale": [
             [
              0.0,
              "#0d0887"
             ],
             [
              0.1111111111111111,
              "#46039f"
             ],
             [
              0.2222222222222222,
              "#7201a8"
             ],
             [
              0.3333333333333333,
              "#9c179e"
             ],
             [
              0.4444444444444444,
              "#bd3786"
             ],
             [
              0.5555555555555556,
              "#d8576b"
             ],
             [
              0.6666666666666666,
              "#ed7953"
             ],
             [
              0.7777777777777778,
              "#fb9f3a"
             ],
             [
              0.8888888888888888,
              "#fdca26"
             ],
             [
              1.0,
              "#f0f921"
             ]
            ]
           }
          ],
          "contourcarpet": [
           {
            "type": "contourcarpet",
            "colorbar": {
             "outlinewidth": 0,
             "ticks": ""
            }
           }
          ],
          "contour": [
           {
            "type": "contour",
            "colorbar": {
             "outlinewidth": 0,
             "ticks": ""
            },
            "colorscale": [
             [
              0.0,
              "#0d0887"
             ],
             [
              0.1111111111111111,
              "#46039f"
             ],
             [
              0.2222222222222222,
              "#7201a8"
             ],
             [
              0.3333333333333333,
              "#9c179e"
             ],
             [
              0.4444444444444444,
              "#bd3786"
             ],
             [
              0.5555555555555556,
              "#d8576b"
             ],
             [
              0.6666666666666666,
              "#ed7953"
             ],
             [
              0.7777777777777778,
              "#fb9f3a"
             ],
             [
              0.8888888888888888,
              "#fdca26"
             ],
             [
              1.0,
              "#f0f921"
             ]
            ]
           }
          ],
          "surface": [
           {
            "type": "surface",
            "colorbar": {
             "outlinewidth": 0,
             "ticks": ""
            },
            "colorscale": [
             [
              0.0,
              "#0d0887"
             ],
             [
              0.1111111111111111,
              "#46039f"
             ],
             [
              0.2222222222222222,
              "#7201a8"
             ],
             [
              0.3333333333333333,
              "#9c179e"
             ],
             [
              0.4444444444444444,
              "#bd3786"
             ],
             [
              0.5555555555555556,
              "#d8576b"
             ],
             [
              0.6666666666666666,
              "#ed7953"
             ],
             [
              0.7777777777777778,
              "#fb9f3a"
             ],
             [
              0.8888888888888888,
              "#fdca26"
             ],
             [
              1.0,
              "#f0f921"
             ]
            ]
           }
          ],
          "mesh3d": [
           {
            "type": "mesh3d",
            "colorbar": {
             "outlinewidth": 0,
             "ticks": ""
            }
           }
          ],
          "scatter": [
           {
            "fillpattern": {
             "fillmode": "overlay",
             "size": 10,
             "solidity": 0.2
            },
            "type": "scatter"
           }
          ],
          "parcoords": [
           {
            "type": "parcoords",
            "line": {
             "colorbar": {
              "outlinewidth": 0,
              "ticks": ""
             }
            }
           }
          ],
          "scatterpolargl": [
           {
            "type": "scatterpolargl",
            "marker": {
             "colorbar": {
              "outlinewidth": 0,
              "ticks": ""
             }
            }
           }
          ],
          "bar": [
           {
            "error_x": {
             "color": "#2a3f5f"
            },
            "error_y": {
             "color": "#2a3f5f"
            },
            "marker": {
             "line": {
              "color": "#E5ECF6",
              "width": 0.5
             },
             "pattern": {
              "fillmode": "overlay",
              "size": 10,
              "solidity": 0.2
             }
            },
            "type": "bar"
           }
          ],
          "scattergeo": [
           {
            "type": "scattergeo",
            "marker": {
             "colorbar": {
              "outlinewidth": 0,
              "ticks": ""
             }
            }
           }
          ],
          "scatterpolar": [
           {
            "type": "scatterpolar",
            "marker": {
             "colorbar": {
              "outlinewidth": 0,
              "ticks": ""
             }
            }
           }
          ],
          "histogram": [
           {
            "marker": {
             "pattern": {
              "fillmode": "overlay",
              "size": 10,
              "solidity": 0.2
             }
            },
            "type": "histogram"
           }
          ],
          "scattergl": [
           {
            "type": "scattergl",
            "marker": {
             "colorbar": {
              "outlinewidth": 0,
              "ticks": ""
             }
            }
           }
          ],
          "scatter3d": [
           {
            "type": "scatter3d",
            "line": {
             "colorbar": {
              "outlinewidth": 0,
              "ticks": ""
             }
            },
            "marker": {
             "colorbar": {
              "outlinewidth": 0,
              "ticks": ""
             }
            }
           }
          ],
          "scattermapbox": [
           {
            "type": "scattermapbox",
            "marker": {
             "colorbar": {
              "outlinewidth": 0,
              "ticks": ""
             }
            }
           }
          ],
          "scatterternary": [
           {
            "type": "scatterternary",
            "marker": {
             "colorbar": {
              "outlinewidth": 0,
              "ticks": ""
             }
            }
           }
          ],
          "scattercarpet": [
           {
            "type": "scattercarpet",
            "marker": {
             "colorbar": {
              "outlinewidth": 0,
              "ticks": ""
             }
            }
           }
          ],
          "carpet": [
           {
            "aaxis": {
             "endlinecolor": "#2a3f5f",
             "gridcolor": "white",
             "linecolor": "white",
             "minorgridcolor": "white",
             "startlinecolor": "#2a3f5f"
            },
            "baxis": {
             "endlinecolor": "#2a3f5f",
             "gridcolor": "white",
             "linecolor": "white",
             "minorgridcolor": "white",
             "startlinecolor": "#2a3f5f"
            },
            "type": "carpet"
           }
          ],
          "table": [
           {
            "cells": {
             "fill": {
              "color": "#EBF0F8"
             },
             "line": {
              "color": "white"
             }
            },
            "header": {
             "fill": {
              "color": "#C8D4E3"
             },
             "line": {
              "color": "white"
             }
            },
            "type": "table"
           }
          ],
          "barpolar": [
           {
            "marker": {
             "line": {
              "color": "#E5ECF6",
              "width": 0.5
             },
             "pattern": {
              "fillmode": "overlay",
              "size": 10,
              "solidity": 0.2
             }
            },
            "type": "barpolar"
           }
          ],
          "pie": [
           {
            "automargin": true,
            "type": "pie"
           }
          ]
         },
         "layout": {
          "autotypenumbers": "strict",
          "colorway": [
           "#636efa",
           "#EF553B",
           "#00cc96",
           "#ab63fa",
           "#FFA15A",
           "#19d3f3",
           "#FF6692",
           "#B6E880",
           "#FF97FF",
           "#FECB52"
          ],
          "font": {
           "color": "#2a3f5f"
          },
          "hovermode": "closest",
          "hoverlabel": {
           "align": "left"
          },
          "paper_bgcolor": "white",
          "plot_bgcolor": "#E5ECF6",
          "polar": {
           "bgcolor": "#E5ECF6",
           "angularaxis": {
            "gridcolor": "white",
            "linecolor": "white",
            "ticks": ""
           },
           "radialaxis": {
            "gridcolor": "white",
            "linecolor": "white",
            "ticks": ""
           }
          },
          "ternary": {
           "bgcolor": "#E5ECF6",
           "aaxis": {
            "gridcolor": "white",
            "linecolor": "white",
            "ticks": ""
           },
           "baxis": {
            "gridcolor": "white",
            "linecolor": "white",
            "ticks": ""
           },
           "caxis": {
            "gridcolor": "white",
            "linecolor": "white",
            "ticks": ""
           }
          },
          "coloraxis": {
           "colorbar": {
            "outlinewidth": 0,
            "ticks": ""
           }
          },
          "colorscale": {
           "sequential": [
            [
             0.0,
             "#0d0887"
            ],
            [
             0.1111111111111111,
             "#46039f"
            ],
            [
             0.2222222222222222,
             "#7201a8"
            ],
            [
             0.3333333333333333,
             "#9c179e"
            ],
            [
             0.4444444444444444,
             "#bd3786"
            ],
            [
             0.5555555555555556,
             "#d8576b"
            ],
            [
             0.6666666666666666,
             "#ed7953"
            ],
            [
             0.7777777777777778,
             "#fb9f3a"
            ],
            [
             0.8888888888888888,
             "#fdca26"
            ],
            [
             1.0,
             "#f0f921"
            ]
           ],
           "sequentialminus": [
            [
             0.0,
             "#0d0887"
            ],
            [
             0.1111111111111111,
             "#46039f"
            ],
            [
             0.2222222222222222,
             "#7201a8"
            ],
            [
             0.3333333333333333,
             "#9c179e"
            ],
            [
             0.4444444444444444,
             "#bd3786"
            ],
            [
             0.5555555555555556,
             "#d8576b"
            ],
            [
             0.6666666666666666,
             "#ed7953"
            ],
            [
             0.7777777777777778,
             "#fb9f3a"
            ],
            [
             0.8888888888888888,
             "#fdca26"
            ],
            [
             1.0,
             "#f0f921"
            ]
           ],
           "diverging": [
            [
             0,
             "#8e0152"
            ],
            [
             0.1,
             "#c51b7d"
            ],
            [
             0.2,
             "#de77ae"
            ],
            [
             0.3,
             "#f1b6da"
            ],
            [
             0.4,
             "#fde0ef"
            ],
            [
             0.5,
             "#f7f7f7"
            ],
            [
             0.6,
             "#e6f5d0"
            ],
            [
             0.7,
             "#b8e186"
            ],
            [
             0.8,
             "#7fbc41"
            ],
            [
             0.9,
             "#4d9221"
            ],
            [
             1,
             "#276419"
            ]
           ]
          },
          "xaxis": {
           "gridcolor": "white",
           "linecolor": "white",
           "ticks": "",
           "title": {
            "standoff": 15
           },
           "zerolinecolor": "white",
           "automargin": true,
           "zerolinewidth": 2
          },
          "yaxis": {
           "gridcolor": "white",
           "linecolor": "white",
           "ticks": "",
           "title": {
            "standoff": 15
           },
           "zerolinecolor": "white",
           "automargin": true,
           "zerolinewidth": 2
          },
          "scene": {
           "xaxis": {
            "backgroundcolor": "#E5ECF6",
            "gridcolor": "white",
            "linecolor": "white",
            "showbackground": true,
            "ticks": "",
            "zerolinecolor": "white",
            "gridwidth": 2
           },
           "yaxis": {
            "backgroundcolor": "#E5ECF6",
            "gridcolor": "white",
            "linecolor": "white",
            "showbackground": true,
            "ticks": "",
            "zerolinecolor": "white",
            "gridwidth": 2
           },
           "zaxis": {
            "backgroundcolor": "#E5ECF6",
            "gridcolor": "white",
            "linecolor": "white",
            "showbackground": true,
            "ticks": "",
            "zerolinecolor": "white",
            "gridwidth": 2
           }
          },
          "shapedefaults": {
           "line": {
            "color": "#2a3f5f"
           }
          },
          "annotationdefaults": {
           "arrowcolor": "#2a3f5f",
           "arrowhead": 0,
           "arrowwidth": 1
          },
          "geo": {
           "bgcolor": "white",
           "landcolor": "#E5ECF6",
           "subunitcolor": "white",
           "showland": true,
           "showlakes": true,
           "lakecolor": "white"
          },
          "title": {
           "x": 0.05
          },
          "mapbox": {
           "style": "light"
          }
         }
        },
        "xaxis": {
         "anchor": "y",
         "domain": [
          0.0,
          1.0
         ],
         "title": {
          "text": "score"
         }
        },
        "yaxis": {
         "anchor": "x",
         "domain": [
          0.0,
          1.0
         ],
         "title": {
          "text": "feature"
         },
         "categoryorder": "total ascending"
        },
        "legend": {
         "tracegroupgap": 0
        },
        "title": {
         "text": "Top 20 Feature Importances (by Weight)"
        },
        "barmode": "relative",
        "height": 800,
        "width": 1000
       },
       "config": {
        "plotlyServerURL": "https://plot.ly"
       }
      },
      "text/html": [
       "<div>                            <div id=\"de94fe34-6ce1-4a54-b26d-3c17b8e1454b\" class=\"plotly-graph-div\" style=\"height:800px; width:1000px;\"></div>            <script type=\"text/javascript\">                require([\"plotly\"], function(Plotly) {                    window.PLOTLYENV=window.PLOTLYENV || {};                                    if (document.getElementById(\"de94fe34-6ce1-4a54-b26d-3c17b8e1454b\")) {                    Plotly.newPlot(                        \"de94fe34-6ce1-4a54-b26d-3c17b8e1454b\",                        [{\"alignmentgroup\":\"True\",\"hovertemplate\":\"score=%{x}\\u003cbr\\u003efeature=%{y}\\u003cextra\\u003e\\u003c\\u002fextra\\u003e\",\"legendgroup\":\"\",\"marker\":{\"color\":\"#636efa\",\"pattern\":{\"shape\":\"\"}},\"name\":\"\",\"offsetgroup\":\"\",\"orientation\":\"h\",\"showlegend\":false,\"textposition\":\"auto\",\"x\":[664.0,594.0,160.0,144.0,138.0,137.0,134.0,131.0,119.0,111.0,103.0,100.0,98.0,87.0,71.0,28.0,20.0,18.0,17.0,14.0],\"xaxis\":\"x\",\"y\":[\"year\",\"month\",\"m_return(t)\",\"m_return(t-11)\",\"m_return(t-5)\",\"m_return(t-4)\",\"m_return(t-6)\",\"m_return(t-2)\",\"m_return(t-10)\",\"m_return(t-8)\",\"m_return(t-7)\",\"m_return(t-1)\",\"m_return(t-3)\",\"m_return(t-9)\",\"stock_ticker_label\",\"beta\",\"trailing_pe\",\"market_capital_scale\",\"return_on_equity\",\"earnings_growth\"],\"yaxis\":\"y\",\"type\":\"bar\"}],                        {\"template\":{\"data\":{\"histogram2dcontour\":[{\"type\":\"histogram2dcontour\",\"colorbar\":{\"outlinewidth\":0,\"ticks\":\"\"},\"colorscale\":[[0.0,\"#0d0887\"],[0.1111111111111111,\"#46039f\"],[0.2222222222222222,\"#7201a8\"],[0.3333333333333333,\"#9c179e\"],[0.4444444444444444,\"#bd3786\"],[0.5555555555555556,\"#d8576b\"],[0.6666666666666666,\"#ed7953\"],[0.7777777777777778,\"#fb9f3a\"],[0.8888888888888888,\"#fdca26\"],[1.0,\"#f0f921\"]]}],\"choropleth\":[{\"type\":\"choropleth\",\"colorbar\":{\"outlinewidth\":0,\"ticks\":\"\"}}],\"histogram2d\":[{\"type\":\"histogram2d\",\"colorbar\":{\"outlinewidth\":0,\"ticks\":\"\"},\"colorscale\":[[0.0,\"#0d0887\"],[0.1111111111111111,\"#46039f\"],[0.2222222222222222,\"#7201a8\"],[0.3333333333333333,\"#9c179e\"],[0.4444444444444444,\"#bd3786\"],[0.5555555555555556,\"#d8576b\"],[0.6666666666666666,\"#ed7953\"],[0.7777777777777778,\"#fb9f3a\"],[0.8888888888888888,\"#fdca26\"],[1.0,\"#f0f921\"]]}],\"heatmap\":[{\"type\":\"heatmap\",\"colorbar\":{\"outlinewidth\":0,\"ticks\":\"\"},\"colorscale\":[[0.0,\"#0d0887\"],[0.1111111111111111,\"#46039f\"],[0.2222222222222222,\"#7201a8\"],[0.3333333333333333,\"#9c179e\"],[0.4444444444444444,\"#bd3786\"],[0.5555555555555556,\"#d8576b\"],[0.6666666666666666,\"#ed7953\"],[0.7777777777777778,\"#fb9f3a\"],[0.8888888888888888,\"#fdca26\"],[1.0,\"#f0f921\"]]}],\"heatmapgl\":[{\"type\":\"heatmapgl\",\"colorbar\":{\"outlinewidth\":0,\"ticks\":\"\"},\"colorscale\":[[0.0,\"#0d0887\"],[0.1111111111111111,\"#46039f\"],[0.2222222222222222,\"#7201a8\"],[0.3333333333333333,\"#9c179e\"],[0.4444444444444444,\"#bd3786\"],[0.5555555555555556,\"#d8576b\"],[0.6666666666666666,\"#ed7953\"],[0.7777777777777778,\"#fb9f3a\"],[0.8888888888888888,\"#fdca26\"],[1.0,\"#f0f921\"]]}],\"contourcarpet\":[{\"type\":\"contourcarpet\",\"colorbar\":{\"outlinewidth\":0,\"ticks\":\"\"}}],\"contour\":[{\"type\":\"contour\",\"colorbar\":{\"outlinewidth\":0,\"ticks\":\"\"},\"colorscale\":[[0.0,\"#0d0887\"],[0.1111111111111111,\"#46039f\"],[0.2222222222222222,\"#7201a8\"],[0.3333333333333333,\"#9c179e\"],[0.4444444444444444,\"#bd3786\"],[0.5555555555555556,\"#d8576b\"],[0.6666666666666666,\"#ed7953\"],[0.7777777777777778,\"#fb9f3a\"],[0.8888888888888888,\"#fdca26\"],[1.0,\"#f0f921\"]]}],\"surface\":[{\"type\":\"surface\",\"colorbar\":{\"outlinewidth\":0,\"ticks\":\"\"},\"colorscale\":[[0.0,\"#0d0887\"],[0.1111111111111111,\"#46039f\"],[0.2222222222222222,\"#7201a8\"],[0.3333333333333333,\"#9c179e\"],[0.4444444444444444,\"#bd3786\"],[0.5555555555555556,\"#d8576b\"],[0.6666666666666666,\"#ed7953\"],[0.7777777777777778,\"#fb9f3a\"],[0.8888888888888888,\"#fdca26\"],[1.0,\"#f0f921\"]]}],\"mesh3d\":[{\"type\":\"mesh3d\",\"colorbar\":{\"outlinewidth\":0,\"ticks\":\"\"}}],\"scatter\":[{\"fillpattern\":{\"fillmode\":\"overlay\",\"size\":10,\"solidity\":0.2},\"type\":\"scatter\"}],\"parcoords\":[{\"type\":\"parcoords\",\"line\":{\"colorbar\":{\"outlinewidth\":0,\"ticks\":\"\"}}}],\"scatterpolargl\":[{\"type\":\"scatterpolargl\",\"marker\":{\"colorbar\":{\"outlinewidth\":0,\"ticks\":\"\"}}}],\"bar\":[{\"error_x\":{\"color\":\"#2a3f5f\"},\"error_y\":{\"color\":\"#2a3f5f\"},\"marker\":{\"line\":{\"color\":\"#E5ECF6\",\"width\":0.5},\"pattern\":{\"fillmode\":\"overlay\",\"size\":10,\"solidity\":0.2}},\"type\":\"bar\"}],\"scattergeo\":[{\"type\":\"scattergeo\",\"marker\":{\"colorbar\":{\"outlinewidth\":0,\"ticks\":\"\"}}}],\"scatterpolar\":[{\"type\":\"scatterpolar\",\"marker\":{\"colorbar\":{\"outlinewidth\":0,\"ticks\":\"\"}}}],\"histogram\":[{\"marker\":{\"pattern\":{\"fillmode\":\"overlay\",\"size\":10,\"solidity\":0.2}},\"type\":\"histogram\"}],\"scattergl\":[{\"type\":\"scattergl\",\"marker\":{\"colorbar\":{\"outlinewidth\":0,\"ticks\":\"\"}}}],\"scatter3d\":[{\"type\":\"scatter3d\",\"line\":{\"colorbar\":{\"outlinewidth\":0,\"ticks\":\"\"}},\"marker\":{\"colorbar\":{\"outlinewidth\":0,\"ticks\":\"\"}}}],\"scattermapbox\":[{\"type\":\"scattermapbox\",\"marker\":{\"colorbar\":{\"outlinewidth\":0,\"ticks\":\"\"}}}],\"scatterternary\":[{\"type\":\"scatterternary\",\"marker\":{\"colorbar\":{\"outlinewidth\":0,\"ticks\":\"\"}}}],\"scattercarpet\":[{\"type\":\"scattercarpet\",\"marker\":{\"colorbar\":{\"outlinewidth\":0,\"ticks\":\"\"}}}],\"carpet\":[{\"aaxis\":{\"endlinecolor\":\"#2a3f5f\",\"gridcolor\":\"white\",\"linecolor\":\"white\",\"minorgridcolor\":\"white\",\"startlinecolor\":\"#2a3f5f\"},\"baxis\":{\"endlinecolor\":\"#2a3f5f\",\"gridcolor\":\"white\",\"linecolor\":\"white\",\"minorgridcolor\":\"white\",\"startlinecolor\":\"#2a3f5f\"},\"type\":\"carpet\"}],\"table\":[{\"cells\":{\"fill\":{\"color\":\"#EBF0F8\"},\"line\":{\"color\":\"white\"}},\"header\":{\"fill\":{\"color\":\"#C8D4E3\"},\"line\":{\"color\":\"white\"}},\"type\":\"table\"}],\"barpolar\":[{\"marker\":{\"line\":{\"color\":\"#E5ECF6\",\"width\":0.5},\"pattern\":{\"fillmode\":\"overlay\",\"size\":10,\"solidity\":0.2}},\"type\":\"barpolar\"}],\"pie\":[{\"automargin\":true,\"type\":\"pie\"}]},\"layout\":{\"autotypenumbers\":\"strict\",\"colorway\":[\"#636efa\",\"#EF553B\",\"#00cc96\",\"#ab63fa\",\"#FFA15A\",\"#19d3f3\",\"#FF6692\",\"#B6E880\",\"#FF97FF\",\"#FECB52\"],\"font\":{\"color\":\"#2a3f5f\"},\"hovermode\":\"closest\",\"hoverlabel\":{\"align\":\"left\"},\"paper_bgcolor\":\"white\",\"plot_bgcolor\":\"#E5ECF6\",\"polar\":{\"bgcolor\":\"#E5ECF6\",\"angularaxis\":{\"gridcolor\":\"white\",\"linecolor\":\"white\",\"ticks\":\"\"},\"radialaxis\":{\"gridcolor\":\"white\",\"linecolor\":\"white\",\"ticks\":\"\"}},\"ternary\":{\"bgcolor\":\"#E5ECF6\",\"aaxis\":{\"gridcolor\":\"white\",\"linecolor\":\"white\",\"ticks\":\"\"},\"baxis\":{\"gridcolor\":\"white\",\"linecolor\":\"white\",\"ticks\":\"\"},\"caxis\":{\"gridcolor\":\"white\",\"linecolor\":\"white\",\"ticks\":\"\"}},\"coloraxis\":{\"colorbar\":{\"outlinewidth\":0,\"ticks\":\"\"}},\"colorscale\":{\"sequential\":[[0.0,\"#0d0887\"],[0.1111111111111111,\"#46039f\"],[0.2222222222222222,\"#7201a8\"],[0.3333333333333333,\"#9c179e\"],[0.4444444444444444,\"#bd3786\"],[0.5555555555555556,\"#d8576b\"],[0.6666666666666666,\"#ed7953\"],[0.7777777777777778,\"#fb9f3a\"],[0.8888888888888888,\"#fdca26\"],[1.0,\"#f0f921\"]],\"sequentialminus\":[[0.0,\"#0d0887\"],[0.1111111111111111,\"#46039f\"],[0.2222222222222222,\"#7201a8\"],[0.3333333333333333,\"#9c179e\"],[0.4444444444444444,\"#bd3786\"],[0.5555555555555556,\"#d8576b\"],[0.6666666666666666,\"#ed7953\"],[0.7777777777777778,\"#fb9f3a\"],[0.8888888888888888,\"#fdca26\"],[1.0,\"#f0f921\"]],\"diverging\":[[0,\"#8e0152\"],[0.1,\"#c51b7d\"],[0.2,\"#de77ae\"],[0.3,\"#f1b6da\"],[0.4,\"#fde0ef\"],[0.5,\"#f7f7f7\"],[0.6,\"#e6f5d0\"],[0.7,\"#b8e186\"],[0.8,\"#7fbc41\"],[0.9,\"#4d9221\"],[1,\"#276419\"]]},\"xaxis\":{\"gridcolor\":\"white\",\"linecolor\":\"white\",\"ticks\":\"\",\"title\":{\"standoff\":15},\"zerolinecolor\":\"white\",\"automargin\":true,\"zerolinewidth\":2},\"yaxis\":{\"gridcolor\":\"white\",\"linecolor\":\"white\",\"ticks\":\"\",\"title\":{\"standoff\":15},\"zerolinecolor\":\"white\",\"automargin\":true,\"zerolinewidth\":2},\"scene\":{\"xaxis\":{\"backgroundcolor\":\"#E5ECF6\",\"gridcolor\":\"white\",\"linecolor\":\"white\",\"showbackground\":true,\"ticks\":\"\",\"zerolinecolor\":\"white\",\"gridwidth\":2},\"yaxis\":{\"backgroundcolor\":\"#E5ECF6\",\"gridcolor\":\"white\",\"linecolor\":\"white\",\"showbackground\":true,\"ticks\":\"\",\"zerolinecolor\":\"white\",\"gridwidth\":2},\"zaxis\":{\"backgroundcolor\":\"#E5ECF6\",\"gridcolor\":\"white\",\"linecolor\":\"white\",\"showbackground\":true,\"ticks\":\"\",\"zerolinecolor\":\"white\",\"gridwidth\":2}},\"shapedefaults\":{\"line\":{\"color\":\"#2a3f5f\"}},\"annotationdefaults\":{\"arrowcolor\":\"#2a3f5f\",\"arrowhead\":0,\"arrowwidth\":1},\"geo\":{\"bgcolor\":\"white\",\"landcolor\":\"#E5ECF6\",\"subunitcolor\":\"white\",\"showland\":true,\"showlakes\":true,\"lakecolor\":\"white\"},\"title\":{\"x\":0.05},\"mapbox\":{\"style\":\"light\"}}},\"xaxis\":{\"anchor\":\"y\",\"domain\":[0.0,1.0],\"title\":{\"text\":\"score\"}},\"yaxis\":{\"anchor\":\"x\",\"domain\":[0.0,1.0],\"title\":{\"text\":\"feature\"},\"categoryorder\":\"total ascending\"},\"legend\":{\"tracegroupgap\":0},\"title\":{\"text\":\"Top 20 Feature Importances (by Weight)\"},\"barmode\":\"relative\",\"height\":800,\"width\":1000},                        {\"responsive\": true}                    ).then(function(){\n",
       "                            \n",
       "var gd = document.getElementById('de94fe34-6ce1-4a54-b26d-3c17b8e1454b');\n",
       "var x = new MutationObserver(function (mutations, observer) {{\n",
       "        var display = window.getComputedStyle(gd).display;\n",
       "        if (!display || display === 'none') {{\n",
       "            console.log([gd, 'removed!']);\n",
       "            Plotly.purge(gd);\n",
       "            observer.disconnect();\n",
       "        }}\n",
       "}});\n",
       "\n",
       "// Listen for the removal of the full notebook cells\n",
       "var notebookContainer = gd.closest('#notebook-container');\n",
       "if (notebookContainer) {{\n",
       "    x.observe(notebookContainer, {childList: true});\n",
       "}}\n",
       "\n",
       "// Listen for the clearing of the current output cell\n",
       "var outputEl = gd.closest('.output');\n",
       "if (outputEl) {{\n",
       "    x.observe(outputEl, {childList: true});\n",
       "}}\n",
       "\n",
       "                        })                };                });            </script>        </div>"
      ]
     },
     "metadata": {},
     "output_type": "display_data"
    }
   ],
   "execution_count": 394
  },
  {
   "metadata": {},
   "cell_type": "markdown",
   "source": "### Errors",
   "id": "70ba816ba0d2e6fe"
  },
  {
   "metadata": {
    "ExecuteTime": {
     "end_time": "2025-06-15T15:49:11.846342Z",
     "start_time": "2025-06-15T15:49:11.731252Z"
    }
   },
   "cell_type": "code",
   "source": [
    "importlib.reload(plots)\n",
    "\n",
    "plots.plot_xgboost_error(model_1m, 1)"
   ],
   "id": "840e949b4bd53660",
   "outputs": [
    {
     "data": {
      "text/plain": [
       "<Figure size 640x480 with 1 Axes>"
      ],
      "image/png": "[encoded data removed]"
     },
     "metadata": {},
     "output_type": "display_data"
    }
   ],
   "execution_count": 395
  },
  {
   "metadata": {
    "ExecuteTime": {
     "end_time": "2025-06-15T15:49:11.898457Z",
     "start_time": "2025-06-15T15:49:11.850485Z"
    }
   },
   "cell_type": "code",
   "source": [
    "importlib.reload(plots)\n",
    "\n",
    "plots.plot_xgboost_error(model_6m, 6)"
   ],
   "id": "8ca3954551f1d10a",
   "outputs": [
    {
     "data": {
      "text/plain": [
       "<Figure size 640x480 with 1 Axes>"
      ],
      "image/png": "[encoded data removed]"
     },
     "metadata": {},
     "output_type": "display_data"
    }
   ],
   "execution_count": 396
  },
  {
   "metadata": {
    "ExecuteTime": {
     "end_time": "2025-06-15T15:49:11.947225Z",
     "start_time": "2025-06-15T15:49:11.902384Z"
    }
   },
   "cell_type": "code",
   "source": "plots.plot_xgboost_error(model_12m, 12)",
   "id": "5ec85f4a0ee4861d",
   "outputs": [
    {
     "data": {
      "text/plain": [
       "<Figure size 640x480 with 1 Axes>"
      ],
      "image/png": "[encoded data removed]"
     },
     "metadata": {},
     "output_type": "display_data"
    }
   ],
   "execution_count": 397
  }
 ],
 "metadata": {
  "kernelspec": {
   "display_name": "Python 3",
   "language": "python",
   "name": "python3"
  },
  "language_info": {
   "codemirror_mode": {
    "name": "ipython",
    "version": 2
   },
   "file_extension": ".py",
   "mimetype": "text/x-python",
   "name": "python",
   "nbconvert_exporter": "python",
   "pygments_lexer": "ipython2",
   "version": "2.7.6"
  }
 },
 "nbformat": 4,
 "nbformat_minor": 5
}
