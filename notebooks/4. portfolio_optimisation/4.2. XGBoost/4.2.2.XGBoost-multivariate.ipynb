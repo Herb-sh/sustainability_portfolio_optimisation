{
 "cells": [
  {
   "cell_type": "code",
   "id": "initial_id",
   "metadata": {
    "collapsed": true,
    "ExecuteTime": {
     "end_time": "2025-06-14T09:08:48.163744Z",
     "start_time": "2025-06-14T09:08:48.156782Z"
    }
   },
   "source": [
    "# Python\n",
    "import pandas as pd\n",
    "\n",
    "#\n",
    "from pathlib import Path\n",
    "from datetime import datetime\n",
    "#\n",
    "\n",
    "from sklearn.metrics import make_scorer, mean_absolute_error\n",
    "#\n",
    "import importlib\n",
    "import utilities.train_test.train_test as train_test\n",
    "import utilities.mpt_utils as mpt_utils\n",
    "import utilities.plots as plots\n",
    "import utilities.xgboost_utils as xgboost_utils"
   ],
   "outputs": [],
   "execution_count": 121
  },
  {
   "metadata": {
    "ExecuteTime": {
     "end_time": "2025-06-14T09:08:48.353530Z",
     "start_time": "2025-06-14T09:08:48.169768Z"
    }
   },
   "cell_type": "code",
   "source": [
    "df = pd.read_csv('../../../data/df_monthly_prices_complete_euro.csv', index_col='Date')\n",
    "df_pct = pd.read_csv('../../../data/df_monthly_returns_complete.csv', index_col='Date')\n",
    "df_prices = pd.read_csv('../../../data/df_monthly_prices_complete.csv', index_col='Date')\n",
    "df_overview = pd.read_csv('../../../data/df_overview.csv', index_col=0)\n",
    "\n",
    "min_date = pd.to_datetime(df_pct.index.max()) - pd.DateOffset(months=12*15)\n",
    "min_datestr = min_date.strftime('%Y-%m-%d')"
   ],
   "id": "8fff3d5e823f722d",
   "outputs": [],
   "execution_count": 122
  },
  {
   "metadata": {
    "ExecuteTime": {
     "end_time": "2025-06-14T09:08:50.402741Z",
     "start_time": "2025-06-14T09:08:48.780904Z"
    }
   },
   "cell_type": "code",
   "source": [
    "importlib.reload(train_test)\n",
    " \n",
    "file=Path(\"../../../data/df_tabular_multi.csv\")\n",
    "\n",
    "if file.exists():\n",
    "    df_tabular_multi=pd.read_csv(file, index_col=0)\n",
    "else:\n",
    "    importlib.reload(train_test)\n",
    "    df_tabular_multi = train_test.get_dataframe_tabular_multi(df_pct)\n",
    "    df_tabular_multi.to_csv(file)"
   ],
   "id": "b9221bdd2218913f",
   "outputs": [],
   "execution_count": 123
  },
  {
   "metadata": {},
   "cell_type": "markdown",
   "source": "## Direct forecasting",
   "id": "83c623e468a5825a"
  },
  {
   "metadata": {
    "ExecuteTime": {
     "end_time": "2025-06-14T09:08:50.650417Z",
     "start_time": "2025-06-14T09:08:50.644580Z"
    }
   },
   "cell_type": "code",
   "source": [
    "# True values\n",
    "y_true = df_pct.mean(axis=1)"
   ],
   "id": "811bd1873de6da8",
   "outputs": [],
   "execution_count": 124
  },
  {
   "metadata": {},
   "cell_type": "markdown",
   "source": "## XGBoost Multivariate - 1 Month",
   "id": "4441e9b7d71e9e4c"
  },
  {
   "metadata": {
    "ExecuteTime": {
     "end_time": "2025-06-14T09:08:58.213791Z",
     "start_time": "2025-06-14T09:08:50.889858Z"
    }
   },
   "cell_type": "code",
   "source": [
    "importlib.reload(train_test)\n",
    "importlib.reload(xgboost_utils)\n",
    "df_tab_multi_filtered = df_tabular_multi.tail(240*len(df.columns))\n",
    "X_train, y_train, X_test, y_test, min_datestr = train_test.split_train_test_tabular(df_tab_multi_filtered, months=60)\n",
    "#\n",
    "model_1m, score_1m = xgboost_utils.get_xgboost_trained_model(X_train, y_train, X_test, y_test)"
   ],
   "id": "13cd2f092a2e4628",
   "outputs": [
    {
     "name": "stdout",
     "output_type": "stream",
     "text": [
      "[0]\tvalidation_0-rmse:5.55300\tvalidation_1-rmse:0.52397\n",
      "[1]\tvalidation_0-rmse:4.72250\tvalidation_1-rmse:0.80497\n",
      "[2]\tvalidation_0-rmse:4.01506\tvalidation_1-rmse:1.07163\n",
      "[3]\tvalidation_0-rmse:3.41355\tvalidation_1-rmse:1.30157\n",
      "[4]\tvalidation_0-rmse:2.90387\tvalidation_1-rmse:1.49990\n",
      "[5]\tvalidation_0-rmse:2.47159\tvalidation_1-rmse:1.66921\n",
      "[6]\tvalidation_0-rmse:2.10229\tvalidation_1-rmse:1.81779\n",
      "[7]\tvalidation_0-rmse:1.78839\tvalidation_1-rmse:1.94142\n",
      "[8]\tvalidation_0-rmse:1.52195\tvalidation_1-rmse:2.04640\n",
      "[9]\tvalidation_0-rmse:1.29568\tvalidation_1-rmse:2.13580\n",
      "[10]\tvalidation_0-rmse:1.10452\tvalidation_1-rmse:2.21192\n",
      "[11]\tvalidation_0-rmse:0.94165\tvalidation_1-rmse:2.27662\n",
      "[12]\tvalidation_0-rmse:0.80434\tvalidation_1-rmse:2.33172\n",
      "[13]\tvalidation_0-rmse:0.68835\tvalidation_1-rmse:2.37855\n",
      "[14]\tvalidation_0-rmse:0.59035\tvalidation_1-rmse:2.41841\n",
      "[15]\tvalidation_0-rmse:0.50678\tvalidation_1-rmse:2.45224\n",
      "[16]\tvalidation_0-rmse:0.43785\tvalidation_1-rmse:2.48103\n",
      "[17]\tvalidation_0-rmse:0.38017\tvalidation_1-rmse:2.50552\n",
      "[18]\tvalidation_0-rmse:0.33245\tvalidation_1-rmse:2.52635\n",
      "[19]\tvalidation_0-rmse:0.29240\tvalidation_1-rmse:2.54406\n",
      "[20]\tvalidation_0-rmse:0.26007\tvalidation_1-rmse:2.55912\n",
      "[21]\tvalidation_0-rmse:0.23405\tvalidation_1-rmse:2.57190\n",
      "[22]\tvalidation_0-rmse:0.21326\tvalidation_1-rmse:2.57188\n",
      "[23]\tvalidation_0-rmse:0.19686\tvalidation_1-rmse:2.57189\n",
      "[24]\tvalidation_0-rmse:0.18265\tvalidation_1-rmse:2.57183\n",
      "[25]\tvalidation_0-rmse:0.17188\tvalidation_1-rmse:2.57184\n",
      "[26]\tvalidation_0-rmse:0.16380\tvalidation_1-rmse:2.57187\n",
      "[27]\tvalidation_0-rmse:0.15715\tvalidation_1-rmse:2.57192\n",
      "[28]\tvalidation_0-rmse:0.15284\tvalidation_1-rmse:2.57196\n",
      "[29]\tvalidation_0-rmse:0.14793\tvalidation_1-rmse:2.57192\n",
      "[30]\tvalidation_0-rmse:0.14188\tvalidation_1-rmse:2.57213\n",
      "[31]\tvalidation_0-rmse:0.13945\tvalidation_1-rmse:2.57737\n",
      "[32]\tvalidation_0-rmse:0.13634\tvalidation_1-rmse:2.57739\n",
      "[33]\tvalidation_0-rmse:0.13436\tvalidation_1-rmse:2.57732\n",
      "[34]\tvalidation_0-rmse:0.13342\tvalidation_1-rmse:2.57735\n",
      "[35]\tvalidation_0-rmse:0.12969\tvalidation_1-rmse:2.57733\n",
      "[36]\tvalidation_0-rmse:0.12665\tvalidation_1-rmse:2.57734\n",
      "[37]\tvalidation_0-rmse:0.12362\tvalidation_1-rmse:2.57744\n",
      "[38]\tvalidation_0-rmse:0.12303\tvalidation_1-rmse:2.57745\n",
      "[39]\tvalidation_0-rmse:0.12164\tvalidation_1-rmse:2.57747\n",
      "[40]\tvalidation_0-rmse:0.12044\tvalidation_1-rmse:2.57748\n",
      "[41]\tvalidation_0-rmse:0.11983\tvalidation_1-rmse:2.57750\n",
      "[42]\tvalidation_0-rmse:0.11949\tvalidation_1-rmse:2.57751\n",
      "[43]\tvalidation_0-rmse:0.11842\tvalidation_1-rmse:2.57742\n",
      "[44]\tvalidation_0-rmse:0.11730\tvalidation_1-rmse:2.57745\n",
      "[45]\tvalidation_0-rmse:0.11595\tvalidation_1-rmse:2.57747\n",
      "[46]\tvalidation_0-rmse:0.11518\tvalidation_1-rmse:2.57746\n",
      "[47]\tvalidation_0-rmse:0.11486\tvalidation_1-rmse:2.57746\n",
      "[48]\tvalidation_0-rmse:0.11419\tvalidation_1-rmse:2.57751\n",
      "[49]\tvalidation_0-rmse:0.11330\tvalidation_1-rmse:2.57752\n",
      "[50]\tvalidation_0-rmse:0.11263\tvalidation_1-rmse:2.57753\n",
      "[51]\tvalidation_0-rmse:0.11233\tvalidation_1-rmse:2.57751\n",
      "[52]\tvalidation_0-rmse:0.11135\tvalidation_1-rmse:2.57749\n",
      "[53]\tvalidation_0-rmse:0.11078\tvalidation_1-rmse:2.57753\n",
      "[54]\tvalidation_0-rmse:0.11040\tvalidation_1-rmse:2.57750\n",
      "[55]\tvalidation_0-rmse:0.10973\tvalidation_1-rmse:2.57745\n",
      "[56]\tvalidation_0-rmse:0.10931\tvalidation_1-rmse:2.57740\n",
      "[57]\tvalidation_0-rmse:0.10921\tvalidation_1-rmse:2.57739\n",
      "[58]\tvalidation_0-rmse:0.10869\tvalidation_1-rmse:2.57735\n",
      "[59]\tvalidation_0-rmse:0.10852\tvalidation_1-rmse:2.57733\n",
      "[60]\tvalidation_0-rmse:0.10790\tvalidation_1-rmse:2.57729\n",
      "[61]\tvalidation_0-rmse:0.10770\tvalidation_1-rmse:2.57724\n",
      "[62]\tvalidation_0-rmse:0.10757\tvalidation_1-rmse:2.57725\n",
      "[63]\tvalidation_0-rmse:0.10697\tvalidation_1-rmse:2.57725\n",
      "[64]\tvalidation_0-rmse:0.10673\tvalidation_1-rmse:2.57725\n",
      "[65]\tvalidation_0-rmse:0.10649\tvalidation_1-rmse:2.57725\n",
      "[66]\tvalidation_0-rmse:0.10630\tvalidation_1-rmse:2.57725\n",
      "[67]\tvalidation_0-rmse:0.10613\tvalidation_1-rmse:2.57728\n",
      "[68]\tvalidation_0-rmse:0.10592\tvalidation_1-rmse:2.57728\n",
      "[69]\tvalidation_0-rmse:0.10578\tvalidation_1-rmse:2.57728\n",
      "[70]\tvalidation_0-rmse:0.10564\tvalidation_1-rmse:2.57728\n",
      "[71]\tvalidation_0-rmse:0.10551\tvalidation_1-rmse:2.57730\n",
      "[72]\tvalidation_0-rmse:0.10534\tvalidation_1-rmse:2.57731\n",
      "[73]\tvalidation_0-rmse:0.10512\tvalidation_1-rmse:2.57733\n",
      "[74]\tvalidation_0-rmse:0.10488\tvalidation_1-rmse:2.57734\n",
      "[75]\tvalidation_0-rmse:0.10462\tvalidation_1-rmse:2.57735\n",
      "[76]\tvalidation_0-rmse:0.10448\tvalidation_1-rmse:2.57735\n",
      "[77]\tvalidation_0-rmse:0.10436\tvalidation_1-rmse:2.57728\n",
      "[78]\tvalidation_0-rmse:0.10414\tvalidation_1-rmse:2.57728\n",
      "[79]\tvalidation_0-rmse:0.10321\tvalidation_1-rmse:2.57734\n",
      "[80]\tvalidation_0-rmse:0.10312\tvalidation_1-rmse:2.57733\n",
      "[81]\tvalidation_0-rmse:0.10293\tvalidation_1-rmse:2.57734\n",
      "[82]\tvalidation_0-rmse:0.10280\tvalidation_1-rmse:2.57734\n",
      "[83]\tvalidation_0-rmse:0.10240\tvalidation_1-rmse:2.57735\n",
      "[84]\tvalidation_0-rmse:0.10226\tvalidation_1-rmse:2.57735\n",
      "[85]\tvalidation_0-rmse:0.10191\tvalidation_1-rmse:2.57741\n",
      "[86]\tvalidation_0-rmse:0.10181\tvalidation_1-rmse:2.57741\n",
      "[87]\tvalidation_0-rmse:0.10168\tvalidation_1-rmse:2.57741\n",
      "[88]\tvalidation_0-rmse:0.10138\tvalidation_1-rmse:2.57736\n",
      "[89]\tvalidation_0-rmse:0.10121\tvalidation_1-rmse:2.57736\n",
      "[90]\tvalidation_0-rmse:0.10107\tvalidation_1-rmse:2.57737\n",
      "[91]\tvalidation_0-rmse:0.10041\tvalidation_1-rmse:2.57739\n",
      "[92]\tvalidation_0-rmse:0.10011\tvalidation_1-rmse:2.57744\n",
      "[93]\tvalidation_0-rmse:0.09996\tvalidation_1-rmse:2.57743\n",
      "[94]\tvalidation_0-rmse:0.09979\tvalidation_1-rmse:2.57743\n",
      "[95]\tvalidation_0-rmse:0.09954\tvalidation_1-rmse:2.57742\n",
      "[96]\tvalidation_0-rmse:0.09919\tvalidation_1-rmse:2.57737\n",
      "[97]\tvalidation_0-rmse:0.09900\tvalidation_1-rmse:2.57738\n",
      "[98]\tvalidation_0-rmse:0.09884\tvalidation_1-rmse:2.57738\n",
      "[99]\tvalidation_0-rmse:0.09873\tvalidation_1-rmse:2.57738\n",
      "Mean MAE: 32.922 (16.571)\n"
     ]
    }
   ],
   "execution_count": 125
  },
  {
   "metadata": {
    "ExecuteTime": {
     "end_time": "2025-06-14T09:08:58.683840Z",
     "start_time": "2025-06-14T09:08:58.608250Z"
    }
   },
   "cell_type": "code",
   "source": "X_train",
   "id": "c6ac7746a5f6ff0f",
   "outputs": [
    {
     "data": {
      "text/plain": [
       "        month  year  m_return(t-11)  m_return(t-10)  m_return(t-9)  \\\n",
       "76076      11  2000            1.00            1.00           1.16   \n",
       "76077      12  2000            1.00            1.16           1.00   \n",
       "76078       1  2001            1.16            1.00           1.00   \n",
       "76079       2  2001            1.00            1.00           1.00   \n",
       "76080       3  2001            1.00            1.00           1.00   \n",
       "...       ...   ...             ...             ...            ...   \n",
       "472693      4  2019            1.07            1.00           1.06   \n",
       "472694      5  2019            1.00            1.06           1.00   \n",
       "472695      6  2019            1.06            1.00           1.09   \n",
       "472696      7  2019            1.00            1.09           0.90   \n",
       "472697      8  2019            1.09            0.90           1.05   \n",
       "\n",
       "        m_return(t-8)  m_return(t-7)  m_return(t-6)  m_return(t-5)  \\\n",
       "76076            1.00           1.00           1.00           1.00   \n",
       "76077            1.00           1.00           1.00           1.00   \n",
       "76078            1.00           1.00           1.00           1.00   \n",
       "76079            1.00           1.00           1.00           1.00   \n",
       "76080            1.00           1.00           1.00           1.00   \n",
       "...               ...            ...            ...            ...   \n",
       "472693           1.00           1.09           0.90           1.05   \n",
       "472694           1.09           0.90           1.05           0.90   \n",
       "472695           0.90           1.05           0.90           1.15   \n",
       "472696           1.05           0.90           1.15           1.05   \n",
       "472697           0.90           1.15           1.05           1.00   \n",
       "\n",
       "        m_return(t-4)  ...  industry_Traders & Distributors  \\\n",
       "76076            1.00  ...                                0   \n",
       "76077            1.00  ...                                0   \n",
       "76078            1.00  ...                                0   \n",
       "76079            1.00  ...                                0   \n",
       "76080            1.00  ...                                0   \n",
       "...               ...  ...                              ...   \n",
       "472693           0.90  ...                                0   \n",
       "472694           1.15  ...                                0   \n",
       "472695           1.05  ...                                0   \n",
       "472696           1.00  ...                                0   \n",
       "472697           1.06  ...                                0   \n",
       "\n",
       "        industry_Transportation  industry_Transportation Infrastructure  \\\n",
       "76076                         0                                       0   \n",
       "76077                         0                                       0   \n",
       "76078                         0                                       0   \n",
       "76079                         0                                       0   \n",
       "76080                         0                                       0   \n",
       "...                         ...                                     ...   \n",
       "472693                        1                                       0   \n",
       "472694                        1                                       0   \n",
       "472695                        1                                       0   \n",
       "472696                        1                                       0   \n",
       "472697                        1                                       0   \n",
       "\n",
       "        industry_Utilities  stock_exchange_ETR  stock_exchange_LON  \\\n",
       "76076                    0                   0                   0   \n",
       "76077                    0                   0                   0   \n",
       "76078                    0                   0                   0   \n",
       "76079                    0                   0                   0   \n",
       "76080                    0                   0                   0   \n",
       "...                    ...                 ...                 ...   \n",
       "472693                   0                   0                   0   \n",
       "472694                   0                   0                   0   \n",
       "472695                   0                   0                   0   \n",
       "472696                   0                   0                   0   \n",
       "472697                   0                   0                   0   \n",
       "\n",
       "        stock_exchange_NAS  stock_exchange_NYS  stock_exchange_TKS  \\\n",
       "76076                    0                   1                   0   \n",
       "76077                    0                   1                   0   \n",
       "76078                    0                   1                   0   \n",
       "76079                    0                   1                   0   \n",
       "76080                    0                   1                   0   \n",
       "...                    ...                 ...                 ...   \n",
       "472693                   0                   1                   0   \n",
       "472694                   0                   1                   0   \n",
       "472695                   0                   1                   0   \n",
       "472696                   0                   1                   0   \n",
       "472697                   0                   1                   0   \n",
       "\n",
       "        trailing_pe_scaled  \n",
       "76076             0.001861  \n",
       "76077             0.001861  \n",
       "76078             0.001861  \n",
       "76079             0.001861  \n",
       "76080             0.001861  \n",
       "...                    ...  \n",
       "472693            0.002044  \n",
       "472694            0.002044  \n",
       "472695            0.002044  \n",
       "472696            0.002044  \n",
       "472697            0.002044  \n",
       "\n",
       "[313462 rows x 72 columns]"
      ],
      "text/html": [
       "<div>\n",
       "<style scoped>\n",
       "    .dataframe tbody tr th:only-of-type {\n",
       "        vertical-align: middle;\n",
       "    }\n",
       "\n",
       "    .dataframe tbody tr th {\n",
       "        vertical-align: top;\n",
       "    }\n",
       "\n",
       "    .dataframe thead th {\n",
       "        text-align: right;\n",
       "    }\n",
       "</style>\n",
       "<table border=\"1\" class=\"dataframe\">\n",
       "  <thead>\n",
       "    <tr style=\"text-align: right;\">\n",
       "      <th></th>\n",
       "      <th>month</th>\n",
       "      <th>year</th>\n",
       "      <th>m_return(t-11)</th>\n",
       "      <th>m_return(t-10)</th>\n",
       "      <th>m_return(t-9)</th>\n",
       "      <th>m_return(t-8)</th>\n",
       "      <th>m_return(t-7)</th>\n",
       "      <th>m_return(t-6)</th>\n",
       "      <th>m_return(t-5)</th>\n",
       "      <th>m_return(t-4)</th>\n",
       "      <th>...</th>\n",
       "      <th>industry_Traders &amp; Distributors</th>\n",
       "      <th>industry_Transportation</th>\n",
       "      <th>industry_Transportation Infrastructure</th>\n",
       "      <th>industry_Utilities</th>\n",
       "      <th>stock_exchange_ETR</th>\n",
       "      <th>stock_exchange_LON</th>\n",
       "      <th>stock_exchange_NAS</th>\n",
       "      <th>stock_exchange_NYS</th>\n",
       "      <th>stock_exchange_TKS</th>\n",
       "      <th>trailing_pe_scaled</th>\n",
       "    </tr>\n",
       "  </thead>\n",
       "  <tbody>\n",
       "    <tr>\n",
       "      <th>76076</th>\n",
       "      <td>11</td>\n",
       "      <td>2000</td>\n",
       "      <td>1.00</td>\n",
       "      <td>1.00</td>\n",
       "      <td>1.16</td>\n",
       "      <td>1.00</td>\n",
       "      <td>1.00</td>\n",
       "      <td>1.00</td>\n",
       "      <td>1.00</td>\n",
       "      <td>1.00</td>\n",
       "      <td>...</td>\n",
       "      <td>0</td>\n",
       "      <td>0</td>\n",
       "      <td>0</td>\n",
       "      <td>0</td>\n",
       "      <td>0</td>\n",
       "      <td>0</td>\n",
       "      <td>0</td>\n",
       "      <td>1</td>\n",
       "      <td>0</td>\n",
       "      <td>0.001861</td>\n",
       "    </tr>\n",
       "    <tr>\n",
       "      <th>76077</th>\n",
       "      <td>12</td>\n",
       "      <td>2000</td>\n",
       "      <td>1.00</td>\n",
       "      <td>1.16</td>\n",
       "      <td>1.00</td>\n",
       "      <td>1.00</td>\n",
       "      <td>1.00</td>\n",
       "      <td>1.00</td>\n",
       "      <td>1.00</td>\n",
       "      <td>1.00</td>\n",
       "      <td>...</td>\n",
       "      <td>0</td>\n",
       "      <td>0</td>\n",
       "      <td>0</td>\n",
       "      <td>0</td>\n",
       "      <td>0</td>\n",
       "      <td>0</td>\n",
       "      <td>0</td>\n",
       "      <td>1</td>\n",
       "      <td>0</td>\n",
       "      <td>0.001861</td>\n",
       "    </tr>\n",
       "    <tr>\n",
       "      <th>76078</th>\n",
       "      <td>1</td>\n",
       "      <td>2001</td>\n",
       "      <td>1.16</td>\n",
       "      <td>1.00</td>\n",
       "      <td>1.00</td>\n",
       "      <td>1.00</td>\n",
       "      <td>1.00</td>\n",
       "      <td>1.00</td>\n",
       "      <td>1.00</td>\n",
       "      <td>1.00</td>\n",
       "      <td>...</td>\n",
       "      <td>0</td>\n",
       "      <td>0</td>\n",
       "      <td>0</td>\n",
       "      <td>0</td>\n",
       "      <td>0</td>\n",
       "      <td>0</td>\n",
       "      <td>0</td>\n",
       "      <td>1</td>\n",
       "      <td>0</td>\n",
       "      <td>0.001861</td>\n",
       "    </tr>\n",
       "    <tr>\n",
       "      <th>76079</th>\n",
       "      <td>2</td>\n",
       "      <td>2001</td>\n",
       "      <td>1.00</td>\n",
       "      <td>1.00</td>\n",
       "      <td>1.00</td>\n",
       "      <td>1.00</td>\n",
       "      <td>1.00</td>\n",
       "      <td>1.00</td>\n",
       "      <td>1.00</td>\n",
       "      <td>1.00</td>\n",
       "      <td>...</td>\n",
       "      <td>0</td>\n",
       "      <td>0</td>\n",
       "      <td>0</td>\n",
       "      <td>0</td>\n",
       "      <td>0</td>\n",
       "      <td>0</td>\n",
       "      <td>0</td>\n",
       "      <td>1</td>\n",
       "      <td>0</td>\n",
       "      <td>0.001861</td>\n",
       "    </tr>\n",
       "    <tr>\n",
       "      <th>76080</th>\n",
       "      <td>3</td>\n",
       "      <td>2001</td>\n",
       "      <td>1.00</td>\n",
       "      <td>1.00</td>\n",
       "      <td>1.00</td>\n",
       "      <td>1.00</td>\n",
       "      <td>1.00</td>\n",
       "      <td>1.00</td>\n",
       "      <td>1.00</td>\n",
       "      <td>1.00</td>\n",
       "      <td>...</td>\n",
       "      <td>0</td>\n",
       "      <td>0</td>\n",
       "      <td>0</td>\n",
       "      <td>0</td>\n",
       "      <td>0</td>\n",
       "      <td>0</td>\n",
       "      <td>0</td>\n",
       "      <td>1</td>\n",
       "      <td>0</td>\n",
       "      <td>0.001861</td>\n",
       "    </tr>\n",
       "    <tr>\n",
       "      <th>...</th>\n",
       "      <td>...</td>\n",
       "      <td>...</td>\n",
       "      <td>...</td>\n",
       "      <td>...</td>\n",
       "      <td>...</td>\n",
       "      <td>...</td>\n",
       "      <td>...</td>\n",
       "      <td>...</td>\n",
       "      <td>...</td>\n",
       "      <td>...</td>\n",
       "      <td>...</td>\n",
       "      <td>...</td>\n",
       "      <td>...</td>\n",
       "      <td>...</td>\n",
       "      <td>...</td>\n",
       "      <td>...</td>\n",
       "      <td>...</td>\n",
       "      <td>...</td>\n",
       "      <td>...</td>\n",
       "      <td>...</td>\n",
       "      <td>...</td>\n",
       "    </tr>\n",
       "    <tr>\n",
       "      <th>472693</th>\n",
       "      <td>4</td>\n",
       "      <td>2019</td>\n",
       "      <td>1.07</td>\n",
       "      <td>1.00</td>\n",
       "      <td>1.06</td>\n",
       "      <td>1.00</td>\n",
       "      <td>1.09</td>\n",
       "      <td>0.90</td>\n",
       "      <td>1.05</td>\n",
       "      <td>0.90</td>\n",
       "      <td>...</td>\n",
       "      <td>0</td>\n",
       "      <td>1</td>\n",
       "      <td>0</td>\n",
       "      <td>0</td>\n",
       "      <td>0</td>\n",
       "      <td>0</td>\n",
       "      <td>0</td>\n",
       "      <td>1</td>\n",
       "      <td>0</td>\n",
       "      <td>0.002044</td>\n",
       "    </tr>\n",
       "    <tr>\n",
       "      <th>472694</th>\n",
       "      <td>5</td>\n",
       "      <td>2019</td>\n",
       "      <td>1.00</td>\n",
       "      <td>1.06</td>\n",
       "      <td>1.00</td>\n",
       "      <td>1.09</td>\n",
       "      <td>0.90</td>\n",
       "      <td>1.05</td>\n",
       "      <td>0.90</td>\n",
       "      <td>1.15</td>\n",
       "      <td>...</td>\n",
       "      <td>0</td>\n",
       "      <td>1</td>\n",
       "      <td>0</td>\n",
       "      <td>0</td>\n",
       "      <td>0</td>\n",
       "      <td>0</td>\n",
       "      <td>0</td>\n",
       "      <td>1</td>\n",
       "      <td>0</td>\n",
       "      <td>0.002044</td>\n",
       "    </tr>\n",
       "    <tr>\n",
       "      <th>472695</th>\n",
       "      <td>6</td>\n",
       "      <td>2019</td>\n",
       "      <td>1.06</td>\n",
       "      <td>1.00</td>\n",
       "      <td>1.09</td>\n",
       "      <td>0.90</td>\n",
       "      <td>1.05</td>\n",
       "      <td>0.90</td>\n",
       "      <td>1.15</td>\n",
       "      <td>1.05</td>\n",
       "      <td>...</td>\n",
       "      <td>0</td>\n",
       "      <td>1</td>\n",
       "      <td>0</td>\n",
       "      <td>0</td>\n",
       "      <td>0</td>\n",
       "      <td>0</td>\n",
       "      <td>0</td>\n",
       "      <td>1</td>\n",
       "      <td>0</td>\n",
       "      <td>0.002044</td>\n",
       "    </tr>\n",
       "    <tr>\n",
       "      <th>472696</th>\n",
       "      <td>7</td>\n",
       "      <td>2019</td>\n",
       "      <td>1.00</td>\n",
       "      <td>1.09</td>\n",
       "      <td>0.90</td>\n",
       "      <td>1.05</td>\n",
       "      <td>0.90</td>\n",
       "      <td>1.15</td>\n",
       "      <td>1.05</td>\n",
       "      <td>1.00</td>\n",
       "      <td>...</td>\n",
       "      <td>0</td>\n",
       "      <td>1</td>\n",
       "      <td>0</td>\n",
       "      <td>0</td>\n",
       "      <td>0</td>\n",
       "      <td>0</td>\n",
       "      <td>0</td>\n",
       "      <td>1</td>\n",
       "      <td>0</td>\n",
       "      <td>0.002044</td>\n",
       "    </tr>\n",
       "    <tr>\n",
       "      <th>472697</th>\n",
       "      <td>8</td>\n",
       "      <td>2019</td>\n",
       "      <td>1.09</td>\n",
       "      <td>0.90</td>\n",
       "      <td>1.05</td>\n",
       "      <td>0.90</td>\n",
       "      <td>1.15</td>\n",
       "      <td>1.05</td>\n",
       "      <td>1.00</td>\n",
       "      <td>1.06</td>\n",
       "      <td>...</td>\n",
       "      <td>0</td>\n",
       "      <td>1</td>\n",
       "      <td>0</td>\n",
       "      <td>0</td>\n",
       "      <td>0</td>\n",
       "      <td>0</td>\n",
       "      <td>0</td>\n",
       "      <td>1</td>\n",
       "      <td>0</td>\n",
       "      <td>0.002044</td>\n",
       "    </tr>\n",
       "  </tbody>\n",
       "</table>\n",
       "<p>313462 rows × 72 columns</p>\n",
       "</div>"
      ]
     },
     "execution_count": 126,
     "metadata": {},
     "output_type": "execute_result"
    }
   ],
   "execution_count": 126
  },
  {
   "metadata": {
    "ExecuteTime": {
     "end_time": "2025-06-14T09:08:59.404718Z",
     "start_time": "2025-06-14T09:08:58.930473Z"
    }
   },
   "cell_type": "code",
   "source": [
    "months_1m = 1\n",
    "X_train_1m, y_train_1m, X_test_1m, y_test_1m, min_datestr_1m = train_test.split_train_test_tabular(df_tabular_multi, months=1)\n",
    "# reset index\n",
    "X_train_1m.reset_index(drop=True, inplace=True)\n",
    "y_train_1m.reset_index(drop=True, inplace=True)\n",
    "X_test_1m.reset_index(drop=True, inplace=True)\n",
    "y_test_1m.reset_index(drop=True, inplace=True)"
   ],
   "id": "e38e80acfa22ccfe",
   "outputs": [],
   "execution_count": 127
  },
  {
   "metadata": {
    "ExecuteTime": {
     "end_time": "2025-06-14T09:08:59.733829Z",
     "start_time": "2025-06-14T09:08:59.464477Z"
    }
   },
   "cell_type": "code",
   "source": [
    "dt = datetime.strptime(min_datestr, '%Y-%m-%d')\n",
    "\n",
    "# get all training months without the last 6 months\n",
    "X_train_input_1m = X_train_1m.head(len(X_train_1m) - len(df_pct.columns) * months_1m)\n",
    "# Get last 6 months of the training dataset and use as input to predict the next 6 months\n",
    "X_test_input_1m = X_train_1m.tail(len(df_pct.columns) * months_1m)\n",
    "\n",
    "# Trained \n",
    "y_train_pred_1m = model_1m.predict(X_train_input_1m)\n",
    "# Predictions\n",
    "y_test_pred_1m = model_1m.predict(X_test_input_1m)"
   ],
   "id": "ed1ff73702ce29da",
   "outputs": [],
   "execution_count": 128
  },
  {
   "metadata": {},
   "cell_type": "markdown",
   "source": "### 1 month Actual vs Prediction",
   "id": "cd12d24fdb0d2753"
  },
  {
   "metadata": {
    "ExecuteTime": {
     "end_time": "2025-06-14T09:09:00.586037Z",
     "start_time": "2025-06-14T09:09:00.494660Z"
    }
   },
   "cell_type": "code",
   "source": [
    "importlib.reload(mpt_utils)\n",
    "importlib.reload(plots)\n",
    "\n",
    "y_train_mean_pred_1m, y_test_mean_pred_1m = mpt_utils.get_train_test_mean_pred(y_train_pred_1m, y_test_pred_1m,\n",
    "                                                                                len(df_pct.columns))\n",
    "plots.generate_timeseries_plot(df_pct, df_tabular_multi, y_train_mean_pred_1m, y_test_mean_pred_1m)"
   ],
   "id": "c554cf80ec6502a6",
   "outputs": [
    {
     "data": {
      "application/vnd.plotly.v1+json": {
       "data": [
        {
         "line": {
          "color": "#5c839f",
          "width": 2
         },
         "mode": "lines",
         "name": "Actual returns",
         "x": [
          "2000-12-01",
          "2001-01-01",
          "2001-02-01",
          "2001-03-01",
          "2001-04-01",
          "2001-05-01",
          "2001-06-01",
          "2001-07-01",
          "2001-08-01",
          "2001-09-01",
          "2001-10-01",
          "2001-11-01",
          "2001-12-01",
          "2002-01-01",
          "2002-02-01",
          "2002-03-01",
          "2002-04-01",
          "2002-05-01",
          "2002-06-01",
          "2002-07-01",
          "2002-08-01",
          "2002-09-01",
          "2002-10-01",
          "2002-11-01",
          "2002-12-01",
          "2003-01-01",
          "2003-02-01",
          "2003-03-01",
          "2003-04-01",
          "2003-05-01",
          "2003-06-01",
          "2003-07-01",
          "2003-08-01",
          "2003-09-01",
          "2003-10-01",
          "2003-11-01",
          "2003-12-01",
          "2004-01-01",
          "2004-02-01",
          "2004-03-01",
          "2004-04-01",
          "2004-05-01",
          "2004-06-01",
          "2004-07-01",
          "2004-08-01",
          "2004-09-01",
          "2004-10-01",
          "2004-11-01",
          "2004-12-01",
          "2005-01-01",
          "2005-02-01",
          "2005-03-01",
          "2005-04-01",
          "2005-05-01",
          "2005-06-01",
          "2005-07-01",
          "2005-08-01",
          "2005-09-01",
          "2005-10-01",
          "2005-11-01",
          "2005-12-01",
          "2006-01-01",
          "2006-02-01",
          "2006-03-01",
          "2006-04-01",
          "2006-05-01",
          "2006-06-01",
          "2006-07-01",
          "2006-08-01",
          "2006-09-01",
          "2006-10-01",
          "2006-11-01",
          "2006-12-01",
          "2007-01-01",
          "2007-02-01",
          "2007-03-01",
          "2007-04-01",
          "2007-05-01",
          "2007-06-01",
          "2007-07-01",
          "2007-08-01",
          "2007-09-01",
          "2007-10-01",
          "2007-11-01",
          "2007-12-01",
          "2008-01-01",
          "2008-02-01",
          "2008-03-01",
          "2008-04-01",
          "2008-05-01",
          "2008-06-01",
          "2008-07-01",
          "2008-08-01",
          "2008-09-01",
          "2008-10-01",
          "2008-11-01",
          "2008-12-01",
          "2009-01-01",
          "2009-02-01",
          "2009-03-01",
          "2009-04-01",
          "2009-05-01",
          "2009-06-01",
          "2009-07-01",
          "2009-08-01",
          "2009-09-01",
          "2009-10-01",
          "2009-11-01",
          "2009-12-01",
          "2010-01-01",
          "2010-02-01",
          "2010-03-01",
          "2010-04-01",
          "2010-05-01",
          "2010-06-01",
          "2010-07-01",
          "2010-08-01",
          "2010-09-01",
          "2010-10-01",
          "2010-11-01",
          "2010-12-01",
          "2011-01-01",
          "2011-02-01",
          "2011-03-01",
          "2011-04-01",
          "2011-05-01",
          "2011-06-01",
          "2011-07-01",
          "2011-08-01",
          "2011-09-01",
          "2011-10-01",
          "2011-11-01",
          "2011-12-01",
          "2012-01-01",
          "2012-02-01",
          "2012-03-01",
          "2012-04-01",
          "2012-05-01",
          "2012-06-01",
          "2012-07-01",
          "2012-08-01",
          "2012-09-01",
          "2012-10-01",
          "2012-11-01",
          "2012-12-01",
          "2013-01-01",
          "2013-02-01",
          "2013-03-01",
          "2013-04-01",
          "2013-05-01",
          "2013-06-01",
          "2013-07-01",
          "2013-08-01",
          "2013-09-01",
          "2013-10-01",
          "2013-11-01",
          "2013-12-01",
          "2014-01-01",
          "2014-02-01",
          "2014-03-01",
          "2014-04-01",
          "2014-05-01",
          "2014-06-01",
          "2014-07-01",
          "2014-08-01",
          "2014-09-01",
          "2014-10-01",
          "2014-11-01",
          "2014-12-01",
          "2015-01-01",
          "2015-02-01",
          "2015-03-01",
          "2015-04-01",
          "2015-05-01",
          "2015-06-01",
          "2015-07-01",
          "2015-08-01",
          "2015-09-01",
          "2015-10-01",
          "2015-11-01",
          "2015-12-01",
          "2016-01-01",
          "2016-02-01",
          "2016-03-01",
          "2016-04-01",
          "2016-05-01",
          "2016-06-01",
          "2016-07-01",
          "2016-08-01",
          "2016-09-01",
          "2016-10-01",
          "2016-11-01",
          "2016-12-01",
          "2017-01-01",
          "2017-02-01",
          "2017-03-01",
          "2017-04-01",
          "2017-05-01",
          "2017-06-01",
          "2017-07-01",
          "2017-08-01",
          "2017-09-01",
          "2017-10-01",
          "2017-11-01",
          "2017-12-01",
          "2018-01-01",
          "2018-02-01",
          "2018-03-01",
          "2018-04-01",
          "2018-05-01",
          "2018-06-01",
          "2018-07-01",
          "2018-08-01",
          "2018-09-01",
          "2018-10-01",
          "2018-11-01",
          "2018-12-01",
          "2019-01-01",
          "2019-02-01",
          "2019-03-01",
          "2019-04-01",
          "2019-05-01",
          "2019-06-01",
          "2019-07-01",
          "2019-08-01",
          "2019-09-01",
          "2019-10-01",
          "2019-11-01",
          "2019-12-01",
          "2020-01-01",
          "2020-02-01",
          "2020-03-01",
          "2020-04-01",
          "2020-05-01",
          "2020-06-01",
          "2020-07-01",
          "2020-08-01",
          "2020-09-01",
          "2020-10-01",
          "2020-11-01",
          "2020-12-01",
          "2021-01-01",
          "2021-02-01",
          "2021-03-01",
          "2021-04-01",
          "2021-05-01",
          "2021-06-01",
          "2021-07-01",
          "2021-08-01",
          "2021-09-01",
          "2021-10-01",
          "2021-11-01",
          "2021-12-01",
          "2022-01-01",
          "2022-02-01",
          "2022-03-01",
          "2022-04-01",
          "2022-05-01",
          "2022-06-01",
          "2022-07-01",
          "2022-08-01",
          "2022-09-01",
          "2022-10-01",
          "2022-11-01",
          "2022-12-01",
          "2023-01-01",
          "2023-02-01",
          "2023-03-01",
          "2023-04-01",
          "2023-05-01",
          "2023-06-01",
          "2023-07-01",
          "2023-08-01",
          "2023-09-01",
          "2023-10-01",
          "2023-11-01",
          "2023-12-01",
          "2024-01-01",
          "2024-02-01",
          "2024-03-01",
          "2024-04-01",
          "2024-05-01",
          "2024-06-01",
          "2024-07-01",
          "2024-08-01"
         ],
         "y": [
          0.025547489413188185,
          0.03383545069570415,
          -0.007126436781608514,
          4.930568663036899,
          0.025245009074409852,
          -0.006037507562009159,
          -0.018251663641862592,
          0.03294615849969751,
          -0.004761040532365035,
          0.02735027223230513,
          -0.009370840895341792,
          -0.010689655172411272,
          -0.02825771324863846,
          0.009407138535993953,
          0.039165154264973134,
          -0.031022383545068588,
          -0.015251058681184593,
          0.06554143980641092,
          0.011845130066547194,
          -0.0015607985480955433,
          -0.026491228070174233,
          -0.030913490623106665,
          -0.08671506352086977,
          0.04992740471869106,
          0.050798548094372675,
          0.015862068965516674,
          -0.006067755595883906,
          0.009310344827584194,
          0.05072595281306347,
          0.00710223835450452,
          0.002764670296429683,
          -0.04802782819116436,
          -0.05811252268602196,
          -0.012516636418632099,
          -0.04310949788263729,
          0.007864488808227987,
          0.05825166364186196,
          -0.03358741681790489,
          -0.010980036297638107,
          0.005571687840290052,
          -0.004016938898969924,
          0.059951603145793175,
          0.06700544464609504,
          0.03416212946158392,
          0.5084513006654547,
          0.06142770719902968,
          0.0038233514821539583,
          0.04980036297640478,
          0.004228675136117133,
          0.015849969751963844,
          0.030526315789472847,
          0.014156079854809045,
          0.04684210526315691,
          0.004083484573501828,
          -0.0075257108287957175,
          0.03462189957652373,
          -0.036612220205683554,
          -0.0065880217785837525,
          0.005553539019962583,
          5.565638233508974E-4,
          0.029316394434359072,
          0.05376285541439363,
          0.006430732002420392,
          0.020381125226857755,
          -0.004440411373259678,
          -0.026696914700541474,
          0.03314579552328811,
          0.0216817906836011,
          0.03581367211130959,
          -6.957047791892323E-4,
          0.12865093768904812,
          0.0726013309134903,
          2.2130248033877846,
          0.02156079854809434,
          0.040816696914699246,
          0.012891712038716197,
          0.02750151240169063,
          0.009207501512401128,
          -0.031373260738048914,
          -8.166969147005432E-4,
          -0.014313369630973627,
          0.024882032667874254,
          0.02975196612219899,
          0.02138535995160007,
          0.018880822746520476,
          0.02797943133695835,
          0.036872353297032756,
          0.004440411373261455,
          0.001584996975197539,
          0.0188082274652126,
          0.022619479733814396,
          -0.011415607985479137,
          -0.02407138535994935,
          -0.009249848759829371,
          0.002474289171202848,
          0.02551724137930922,
          -0.05206291591046308,
          -0.009225650332726487,
          -0.0579552329098596,
          -0.009280096793706338,
          -0.013121597096186988,
          0.031149425287355648,
          0.02318814277071768,
          -0.06243799153054985,
          -0.0049909255898370475,
          0.02157894736842092,
          -0.07269812462189917,
          -0.1541802782819104,
          -0.05525105868118674,
          0.04130066545674316,
          -0.050229885057469614,
          -0.05834845735027172,
          0.06975801572897589,
          0.14761645493042796,
          0.04329098608590476,
          0.035021173623714486,
          0.062389594676345084,
          0.055202661826980304,
          0.032274652147609384,
          -0.022008469449483536,
          0.0015910465819715114,
          0.05137931034482435,
          -0.010393224440409243,
          0.018554143980639592,
          0.05903811252268154,
          0.04499697519660795,
          -0.0543738656987246,
          -0.038058076225041315,
          0.03886267392619347,
          -0.035414398064121166,
          0.06960677555958616,
          0.016388384754989715,
          0.02758620689654956,
          0.0584029038112468,
          0.011978221415607448,
          0.032480338777975515,
          0.001603145795523453,
          0.019885057471262124,
          -0.005003024803385547,
          -0.002764670296429572,
          -0.016957047791891444,
          -0.0525287356321813,
          -0.04701754385964807,
          0.06892316999394943,
          -0.015662431941921517,
          2.5408348457278684E-4,
          0.059376890502114144,
          0.09954022988505207,
          0.026303690260128354,
          -0.007253478523894019,
          -0.057241379310342566,
          0.03002419842709836,
          -0.004234724742891327,
          0.019667271627342275,
          0.017150635208708076,
          0.001203871748335139,
          0.016684815486990523,
          0.031173623714453536,
          0.06079249848759227,
          0.0218390804597679,
          0.04068360556563255,
          0.03336963097398571,
          0.018215366001207878,
          -0.009491833030852881,
          0.03699334543254329,
          -0.01653962492437533,
          0.05121597096188113,
          0.021343012704170272,
          0.023980641258315005,
          0.02228070175438135,
          -0.0122565033272799,
          0.02886267392619213,
          8.287961282520406E-4,
          -0.01481548699334323,
          0.01611615245008835,
          0.03064730792497894,
          -0.012855414398062703,
          0.0267453115547438,
          -0.010508166969145138,
          0.025311554748938203,
          0.041675741076825146,
          0.014168179068358766,
          0.0019419237749558338,
          0.04445856019358252,
          0.009745916515426112,
          4.1137326073759084E-4,
          0.02520871143375225,
          -0.009673321234116239,
          0.012788868723531133,
          -0.041355111917719234,
          -0.03201451905625696,
          0.062341197822137984,
          0.01900181488203012,
          -0.01770719903205853,
          -0.0508892921960038,
          -6.41258318208493E-4,
          0.056612220205681574,
          4.355716878403637E-4,
          0.02140955837870062,
          -0.029092558983665584,
          0.053581367211125164,
          0.011010284331519182,
          0.0043375680580743925,
          -0.015184513006653577,
          0.051433756805806974,
          0.03154869933453708,
          0.014658197217180424,
          0.021845130066540985,
          0.009751966122203415,
          0.015595886267387948,
          0.012667876588020377,
          0.01312159709618732,
          0.013569267997577406,
          0.003387779794311596,
          0.03088929219600267,
          0.01952208106472675,
          0.023224440411370395,
          0.01144585601935666,
          0.023817301875374675,
          -0.025577737447060378,
          -0.00336358136720849,
          0.019479733817297173,
          0.02636418632788695,
          0.008632788868722763,
          0.017592256503323966,
          0.021772534785239328,
          -0.009249848759832702,
          -0.06341197822141131,
          0.01151240169388612,
          -0.08667271627343787,
          0.09143980641258032,
          0.03675136116152111,
          0.00413793103448179,
          0.043049001814877474,
          -0.05917725347852165,
          0.045353901996365575,
          0.022123411978218988,
          -0.029552329098605612,
          0.03694494857833708,
          0.029479733817298515,
          0.0347307924984841,
          0.026805807622500843,
          -0.010248033877796825,
          -0.0900846944948529,
          -0.1816152450090751,
          0.12603145795522974,
          0.07255293405928498,
          0.030417422867514476,
          0.022571082879613735,
          0.06055656382334962,
          -0.0054869933454299025,
          -0.007670901391404694,
          0.15838475499092408,
          0.057961282516630463,
          0.0404839685420475,
          0.05379310344827615,
          0.058929219600720506,
          0.037652752571080805,
          0.021343012704173825,
          0.020756200846943296,
          0.0036418632788870475,
          0.02528735632183654,
          -0.013514821536595778,
          0.030024198427099247,
          -0.030066545674527045,
          0.040211736237137696,
          -0.07431941923774554,
          -0.012316999395034944,
          0.003230490018147014,
          -0.05532365396248862,
          7.199032062885635E-4,
          -0.07505747126436668,
          0.09042952208106025,
          -0.03070175438596201,
          -0.09862673926194399,
          0.08102843315184272,
          0.05529945553538784,
          -0.0422625529340539,
          0.09733212341197661,
          -0.011004234724740436,
          -0.020066545674530145,
          0.0013188142770683697,
          -0.009116757410766452,
          0.06248033877797354,
          0.04333938294010187,
          -0.03137931034482633,
          -0.040217785843914555,
          -0.05788868723532303,
          0.0877132486388339,
          0.07932849364790973,
          -0.014603750756200906,
          0.07413793103448185,
          0.027628554143975803,
          -0.04402903811251935,
          0.034162129461583035,
          -0.006757410768298278,
          0.055251058681182075,
          -0.0028009679370835094,
          -0.03332123411977328
         ],
         "type": "scatter"
        },
        {
         "line": {
          "color": "red",
          "width": 2
         },
         "mode": "lines",
         "name": "Train returns",
         "x": [
          "2000-12-01",
          "2001-01-01",
          "2001-02-01",
          "2001-03-01",
          "2001-04-01",
          "2001-05-01",
          "2001-06-01",
          "2001-07-01",
          "2001-08-01",
          "2001-09-01",
          "2001-10-01",
          "2001-11-01",
          "2001-12-01",
          "2002-01-01",
          "2002-02-01",
          "2002-03-01",
          "2002-04-01",
          "2002-05-01",
          "2002-06-01",
          "2002-07-01",
          "2002-08-01",
          "2002-09-01",
          "2002-10-01",
          "2002-11-01",
          "2002-12-01",
          "2003-01-01",
          "2003-02-01",
          "2003-03-01",
          "2003-04-01",
          "2003-05-01",
          "2003-06-01",
          "2003-07-01",
          "2003-08-01",
          "2003-09-01",
          "2003-10-01",
          "2003-11-01",
          "2003-12-01",
          "2004-01-01",
          "2004-02-01",
          "2004-03-01",
          "2004-04-01",
          "2004-05-01",
          "2004-06-01",
          "2004-07-01",
          "2004-08-01",
          "2004-09-01",
          "2004-10-01",
          "2004-11-01",
          "2004-12-01",
          "2005-01-01",
          "2005-02-01",
          "2005-03-01",
          "2005-04-01",
          "2005-05-01",
          "2005-06-01",
          "2005-07-01",
          "2005-08-01",
          "2005-09-01",
          "2005-10-01",
          "2005-11-01",
          "2005-12-01",
          "2006-01-01",
          "2006-02-01",
          "2006-03-01",
          "2006-04-01",
          "2006-05-01",
          "2006-06-01",
          "2006-07-01",
          "2006-08-01",
          "2006-09-01",
          "2006-10-01",
          "2006-11-01",
          "2006-12-01",
          "2007-01-01",
          "2007-02-01",
          "2007-03-01",
          "2007-04-01",
          "2007-05-01",
          "2007-06-01",
          "2007-07-01",
          "2007-08-01",
          "2007-09-01",
          "2007-10-01",
          "2007-11-01",
          "2007-12-01",
          "2008-01-01",
          "2008-02-01",
          "2008-03-01",
          "2008-04-01",
          "2008-05-01",
          "2008-06-01",
          "2008-07-01",
          "2008-08-01",
          "2008-09-01",
          "2008-10-01",
          "2008-11-01",
          "2008-12-01",
          "2009-01-01",
          "2009-02-01",
          "2009-03-01",
          "2009-04-01",
          "2009-05-01",
          "2009-06-01",
          "2009-07-01",
          "2009-08-01",
          "2009-09-01",
          "2009-10-01",
          "2009-11-01",
          "2009-12-01",
          "2010-01-01",
          "2010-02-01",
          "2010-03-01",
          "2010-04-01",
          "2010-05-01",
          "2010-06-01",
          "2010-07-01",
          "2010-08-01",
          "2010-09-01",
          "2010-10-01",
          "2010-11-01",
          "2010-12-01",
          "2011-01-01",
          "2011-02-01",
          "2011-03-01",
          "2011-04-01",
          "2011-05-01",
          "2011-06-01",
          "2011-07-01",
          "2011-08-01",
          "2011-09-01",
          "2011-10-01",
          "2011-11-01",
          "2011-12-01",
          "2012-01-01",
          "2012-02-01",
          "2012-03-01",
          "2012-04-01",
          "2012-05-01",
          "2012-06-01",
          "2012-07-01",
          "2012-08-01",
          "2012-09-01",
          "2012-10-01",
          "2012-11-01",
          "2012-12-01",
          "2013-01-01",
          "2013-02-01",
          "2013-03-01",
          "2013-04-01",
          "2013-05-01",
          "2013-06-01",
          "2013-07-01",
          "2013-08-01",
          "2013-09-01",
          "2013-10-01",
          "2013-11-01",
          "2013-12-01",
          "2014-01-01",
          "2014-02-01",
          "2014-03-01",
          "2014-04-01",
          "2014-05-01",
          "2014-06-01",
          "2014-07-01",
          "2014-08-01",
          "2014-09-01",
          "2014-10-01",
          "2014-11-01",
          "2014-12-01",
          "2015-01-01",
          "2015-02-01",
          "2015-03-01",
          "2015-04-01",
          "2015-05-01",
          "2015-06-01",
          "2015-07-01",
          "2015-08-01",
          "2015-09-01",
          "2015-10-01",
          "2015-11-01",
          "2015-12-01",
          "2016-01-01",
          "2016-02-01",
          "2016-03-01",
          "2016-04-01",
          "2016-05-01",
          "2016-06-01",
          "2016-07-01",
          "2016-08-01",
          "2016-09-01",
          "2016-10-01",
          "2016-11-01",
          "2016-12-01",
          "2017-01-01",
          "2017-02-01",
          "2017-03-01",
          "2017-04-01",
          "2017-05-01",
          "2017-06-01",
          "2017-07-01",
          "2017-08-01",
          "2017-09-01",
          "2017-10-01",
          "2017-11-01",
          "2017-12-01",
          "2018-01-01",
          "2018-02-01",
          "2018-03-01",
          "2018-04-01",
          "2018-05-01",
          "2018-06-01",
          "2018-07-01",
          "2018-08-01",
          "2018-09-01",
          "2018-10-01",
          "2018-11-01",
          "2018-12-01",
          "2019-01-01",
          "2019-02-01",
          "2019-03-01",
          "2019-04-01",
          "2019-05-01",
          "2019-06-01",
          "2019-07-01",
          "2019-08-01",
          "2019-09-01",
          "2019-10-01",
          "2019-11-01",
          "2019-12-01",
          "2020-01-01",
          "2020-02-01",
          "2020-03-01",
          "2020-04-01",
          "2020-05-01",
          "2020-06-01",
          "2020-07-01",
          "2020-08-01",
          "2020-09-01",
          "2020-10-01",
          "2020-11-01",
          "2020-12-01",
          "2021-01-01",
          "2021-02-01",
          "2021-03-01",
          "2021-04-01",
          "2021-05-01",
          "2021-06-01",
          "2021-07-01",
          "2021-08-01",
          "2021-09-01",
          "2021-10-01",
          "2021-11-01",
          "2021-12-01",
          "2022-01-01",
          "2022-02-01",
          "2022-03-01",
          "2022-04-01",
          "2022-05-01",
          "2022-06-01",
          "2022-07-01",
          "2022-08-01",
          "2022-09-01",
          "2022-10-01",
          "2022-11-01",
          "2022-12-01",
          "2023-01-01",
          "2023-02-01",
          "2023-03-01",
          "2023-04-01",
          "2023-05-01",
          "2023-06-01",
          "2023-07-01",
          "2023-08-01",
          "2023-09-01",
          "2023-10-01",
          "2023-11-01",
          "2023-12-01",
          "2024-01-01",
          "2024-02-01",
          "2024-03-01",
          "2024-04-01",
          "2024-05-01",
          "2024-06-01",
          "2024-07-01"
         ],
         "y": [
          0.009013772010803223,
          0.014635682106018066,
          0.009535789489746094,
          0.01018059253692627,
          0.01169884204864502,
          0.011917591094970703,
          0.013523697853088379,
          0.012573003768920898,
          0.011196732521057129,
          0.008478403091430664,
          0.014666318893432617,
          0.008832216262817383,
          0.011321187019348145,
          0.0069730281829833984,
          0.0044972896575927734,
          0.009020090103149414,
          0.009114742279052734,
          0.011876583099365234,
          0.010272741317749023,
          0.010858774185180664,
          0.008156061172485352,
          0.01462411880493164,
          0.009988069534301758,
          0.010133504867553711,
          0.007364988327026367,
          0.01396799087524414,
          0.008542895317077637,
          0.4612070322036743,
          0.00842142105102539,
          0.010207772254943848,
          0.009811639785766602,
          0.009457111358642578,
          0.014704585075378418,
          0.013356804847717285,
          0.011430501937866211,
          0.013129234313964844,
          0.009282827377319336,
          0.010151505470275879,
          5.661988735198975,
          0.01024472713470459,
          0.010416269302368164,
          0.009949922561645508,
          0.0108489990234375,
          0.013263463973999023,
          0.014751672744750977,
          0.007178544998168945,
          0.00924527645111084,
          0.010597586631774902,
          0.01156926155090332,
          0.008532881736755371,
          0.00841522216796875,
          0.01134788990020752,
          0.010578036308288574,
          0.011441946029663086,
          0.011966228485107422,
          0.008617401123046875,
          0.010352373123168945,
          0.007834196090698242,
          0.011448264122009277,
          0.010658025741577148,
          0.00792694091796875,
          0.008408546447753906,
          2.628924608230591,
          0.010855913162231445,
          0.008068561553955078,
          0.005553841590881348,
          0.009413719177246094,
          0.02344965934753418,
          0.013730525970458984,
          0.011161208152770996,
          0.010367751121520996,
          0.008581876754760742,
          0.008158087730407715,
          0.006856679916381836,
          0.012234926223754883,
          0.007535338401794434,
          0.033840179443359375,
          0.009263992309570312,
          0.007565736770629883,
          0.008340597152709961,
          0.011461734771728516,
          0.013069391250610352,
          0.010648250579833984,
          0.01105654239654541,
          0.008504271507263184,
          0.006807088851928711,
          0.008620142936706543,
          0.007680177688598633,
          0.010230422019958496,
          0.009275317192077637,
          0.009282350540161133,
          0.008536934852600098,
          0.010464787483215332,
          0.011391282081604004,
          0.0097123384475708,
          0.011726617813110352,
          0.009313225746154785,
          0.006417989730834961,
          0.0072062015533447266,
          0.007358193397521973,
          0.0075531005859375,
          0.007033348083496094,
          0.006542563438415527,
          0.011831402778625488,
          0.007768511772155762,
          0.007670402526855469,
          0.009904861450195312,
          0.006811618804931641,
          0.00848376750946045,
          0.005962491035461426,
          0.003443479537963867,
          0.010557770729064941,
          0.011136770248413086,
          0.009416818618774414,
          0.0070459842681884766,
          0.011007189750671387,
          0.010263562202453613,
          0.007925868034362793,
          0.00879216194152832,
          0.007647037506103516,
          0.010650396347045898,
          0.008712530136108398,
          0.009084701538085938,
          0.014399170875549316,
          0.008612990379333496,
          0.015212655067443848,
          0.00661015510559082,
          0.007731437683105469,
          0.01065671443939209,
          0.004887819290161133,
          0.009679675102233887,
          0.006809234619140625,
          0.008604288101196289,
          0.0074961185455322266,
          0.00919950008392334,
          0.00967419147491455,
          0.010052800178527832,
          0.008851885795593262,
          0.007155179977416992,
          0.007123112678527832,
          0.01071786880493164,
          0.009847640991210938,
          0.006534099578857422,
          0.008435606956481934,
          0.009246826171875,
          0.007677912712097168,
          0.10814046859741211,
          0.0063065290451049805,
          0.012053370475769043,
          0.009845376014709473,
          0.012281298637390137,
          0.01060330867767334,
          0.003679633140563965,
          0.011425614356994629,
          0.01105964183807373,
          0.01782679557800293,
          0.008333325386047363,
          0.0065419673919677734,
          0.005879878997802734,
          0.007643699645996094,
          -0.05132550001144409,
          0.003620624542236328,
          0.009038329124450684,
          0.009559988975524902,
          0.017046213150024414,
          0.011464476585388184,
          0.007285475730895996,
          0.008344769477844238,
          0.009079337120056152,
          0.010501742362976074,
          0.01022040843963623,
          0.007038116455078125,
          0.012032389640808105,
          0.006132364273071289,
          0.008968710899353027,
          0.009452581405639648,
          0.006720900535583496,
          0.008288979530334473,
          0.010831832885742188,
          0.010741710662841797,
          0.012305617332458496,
          0.008556127548217773,
          0.014136075973510742,
          0.00822901725769043,
          0.007926344871520996,
          0.015450119972229004,
          0.007682204246520996,
          0.007299900054931641,
          0.009489059448242188,
          0.005818486213684082,
          0.00706326961517334,
          0.007938981056213379,
          0.009264707565307617,
          0.006556153297424316,
          0.009569644927978516,
          0.009925007820129395,
          0.008282899856567383,
          0.005785107612609863,
          0.009651422500610352,
          0.008129477500915527,
          0.005375027656555176,
          0.1145240068435669,
          0.005776047706604004,
          0.01172947883605957,
          0.007438063621520996,
          0.46063053607940674,
          0.010964632034301758,
          0.00823974609375,
          0.005966901779174805,
          0.010979771614074707,
          0.015755176544189453,
          0.011133909225463867,
          0.009354591369628906,
          0.007983207702636719,
          0.009126901626586914,
          0.011391401290893555,
          0.009897112846374512,
          0.009768009185791016,
          0.00945901870727539,
          0.01559603214263916,
          0.009091496467590332,
          0.01001274585723877,
          0.010157108306884766,
          0.008773207664489746,
          0.011107444763183594,
          0.0042961835861206055,
          0.008168458938598633,
          0.007238149642944336,
          0.012808918952941895,
          0.007114768028259277,
          0.004606366157531738,
          0.006080269813537598,
          0.010290384292602539,
          0.006451010704040527,
          0.007224917411804199,
          0.009794116020202637,
          0.0076406002044677734,
          0.009106040000915527,
          0.00583195686340332,
          0.012401580810546875,
          0.007623910903930664,
          0.006679058074951172,
          0.006074786186218262,
          0.010682344436645508,
          0.00851893424987793,
          0.0110398530960083,
          0.007431387901306152,
          0.0072242021560668945,
          0.007288932800292969,
          0.00836491584777832,
          0.016167521476745605,
          0.010647416114807129,
          0.013027071952819824,
          0.008876204490661621,
          0.008186578750610352,
          0.008080720901489258,
          0.007475614547729492,
          0.007587432861328125,
          0.010128498077392578,
          0.011327981948852539,
          0.008602499961853027,
          0.006700754165649414,
          0.014020442962646484,
          0.007790088653564453,
          0.03824734687805176,
          0.007785677909851074,
          0.007377505302429199,
          0.006327509880065918,
          0.011455059051513672,
          0.008351325988769531,
          0.0058318376541137695,
          0.006261587142944336,
          0.008092880249023438,
          0.008077144622802734,
          0.00923919677734375,
          0.015079379081726074,
          0.010419726371765137,
          0.00587773323059082,
          0.0119553804397583,
          0.009253978729248047,
          0.0274885892868042,
          0.016987085342407227,
          0.007554769515991211,
          0.008743524551391602
         ],
         "type": "scatter"
        },
        {
         "line": {
          "color": "green",
          "width": 2
         },
         "mode": "lines",
         "name": "Test returns",
         "x": [
          "2024-07-01",
          "2024-08-01"
         ],
         "y": [
          0.008743524551391602,
          0.009914755821228027
         ],
         "type": "scatter"
        }
       ],
       "layout": {
        "template": {
         "data": {
          "barpolar": [
           {
            "marker": {
             "line": {
              "color": "white",
              "width": 0.5
             },
             "pattern": {
              "fillmode": "overlay",
              "size": 10,
              "solidity": 0.2
             }
            },
            "type": "barpolar"
           }
          ],
          "bar": [
           {
            "error_x": {
             "color": "#2a3f5f"
            },
            "error_y": {
             "color": "#2a3f5f"
            },
            "marker": {
             "line": {
              "color": "white",
              "width": 0.5
             },
             "pattern": {
              "fillmode": "overlay",
              "size": 10,
              "solidity": 0.2
             }
            },
            "type": "bar"
           }
          ],
          "carpet": [
           {
            "aaxis": {
             "endlinecolor": "#2a3f5f",
             "gridcolor": "#C8D4E3",
             "linecolor": "#C8D4E3",
             "minorgridcolor": "#C8D4E3",
             "startlinecolor": "#2a3f5f"
            },
            "baxis": {
             "endlinecolor": "#2a3f5f",
             "gridcolor": "#C8D4E3",
             "linecolor": "#C8D4E3",
             "minorgridcolor": "#C8D4E3",
             "startlinecolor": "#2a3f5f"
            },
            "type": "carpet"
           }
          ],
          "choropleth": [
           {
            "colorbar": {
             "outlinewidth": 0,
             "ticks": ""
            },
            "type": "choropleth"
           }
          ],
          "contourcarpet": [
           {
            "colorbar": {
             "outlinewidth": 0,
             "ticks": ""
            },
            "type": "contourcarpet"
           }
          ],
          "contour": [
           {
            "colorbar": {
             "outlinewidth": 0,
             "ticks": ""
            },
            "colorscale": [
             [
              0.0,
              "#0d0887"
             ],
             [
              0.1111111111111111,
              "#46039f"
             ],
             [
              0.2222222222222222,
              "#7201a8"
             ],
             [
              0.3333333333333333,
              "#9c179e"
             ],
             [
              0.4444444444444444,
              "#bd3786"
             ],
             [
              0.5555555555555556,
              "#d8576b"
             ],
             [
              0.6666666666666666,
              "#ed7953"
             ],
             [
              0.7777777777777778,
              "#fb9f3a"
             ],
             [
              0.8888888888888888,
              "#fdca26"
             ],
             [
              1.0,
              "#f0f921"
             ]
            ],
            "type": "contour"
           }
          ],
          "heatmapgl": [
           {
            "colorbar": {
             "outlinewidth": 0,
             "ticks": ""
            },
            "colorscale": [
             [
              0.0,
              "#0d0887"
             ],
             [
              0.1111111111111111,
              "#46039f"
             ],
             [
              0.2222222222222222,
              "#7201a8"
             ],
             [
              0.3333333333333333,
              "#9c179e"
             ],
             [
              0.4444444444444444,
              "#bd3786"
             ],
             [
              0.5555555555555556,
              "#d8576b"
             ],
             [
              0.6666666666666666,
              "#ed7953"
             ],
             [
              0.7777777777777778,
              "#fb9f3a"
             ],
             [
              0.8888888888888888,
              "#fdca26"
             ],
             [
              1.0,
              "#f0f921"
             ]
            ],
            "type": "heatmapgl"
           }
          ],
          "heatmap": [
           {
            "colorbar": {
             "outlinewidth": 0,
             "ticks": ""
            },
            "colorscale": [
             [
              0.0,
              "#0d0887"
             ],
             [
              0.1111111111111111,
              "#46039f"
             ],
             [
              0.2222222222222222,
              "#7201a8"
             ],
             [
              0.3333333333333333,
              "#9c179e"
             ],
             [
              0.4444444444444444,
              "#bd3786"
             ],
             [
              0.5555555555555556,
              "#d8576b"
             ],
             [
              0.6666666666666666,
              "#ed7953"
             ],
             [
              0.7777777777777778,
              "#fb9f3a"
             ],
             [
              0.8888888888888888,
              "#fdca26"
             ],
             [
              1.0,
              "#f0f921"
             ]
            ],
            "type": "heatmap"
           }
          ],
          "histogram2dcontour": [
           {
            "colorbar": {
             "outlinewidth": 0,
             "ticks": ""
            },
            "colorscale": [
             [
              0.0,
              "#0d0887"
             ],
             [
              0.1111111111111111,
              "#46039f"
             ],
             [
              0.2222222222222222,
              "#7201a8"
             ],
             [
              0.3333333333333333,
              "#9c179e"
             ],
             [
              0.4444444444444444,
              "#bd3786"
             ],
             [
              0.5555555555555556,
              "#d8576b"
             ],
             [
              0.6666666666666666,
              "#ed7953"
             ],
             [
              0.7777777777777778,
              "#fb9f3a"
             ],
             [
              0.8888888888888888,
              "#fdca26"
             ],
             [
              1.0,
              "#f0f921"
             ]
            ],
            "type": "histogram2dcontour"
           }
          ],
          "histogram2d": [
           {
            "colorbar": {
             "outlinewidth": 0,
             "ticks": ""
            },
            "colorscale": [
             [
              0.0,
              "#0d0887"
             ],
             [
              0.1111111111111111,
              "#46039f"
             ],
             [
              0.2222222222222222,
              "#7201a8"
             ],
             [
              0.3333333333333333,
              "#9c179e"
             ],
             [
              0.4444444444444444,
              "#bd3786"
             ],
             [
              0.5555555555555556,
              "#d8576b"
             ],
             [
              0.6666666666666666,
              "#ed7953"
             ],
             [
              0.7777777777777778,
              "#fb9f3a"
             ],
             [
              0.8888888888888888,
              "#fdca26"
             ],
             [
              1.0,
              "#f0f921"
             ]
            ],
            "type": "histogram2d"
           }
          ],
          "histogram": [
           {
            "marker": {
             "pattern": {
              "fillmode": "overlay",
              "size": 10,
              "solidity": 0.2
             }
            },
            "type": "histogram"
           }
          ],
          "mesh3d": [
           {
            "colorbar": {
             "outlinewidth": 0,
             "ticks": ""
            },
            "type": "mesh3d"
           }
          ],
          "parcoords": [
           {
            "line": {
             "colorbar": {
              "outlinewidth": 0,
              "ticks": ""
             }
            },
            "type": "parcoords"
           }
          ],
          "pie": [
           {
            "automargin": true,
            "type": "pie"
           }
          ],
          "scatter3d": [
           {
            "line": {
             "colorbar": {
              "outlinewidth": 0,
              "ticks": ""
             }
            },
            "marker": {
             "colorbar": {
              "outlinewidth": 0,
              "ticks": ""
             }
            },
            "type": "scatter3d"
           }
          ],
          "scattercarpet": [
           {
            "marker": {
             "colorbar": {
              "outlinewidth": 0,
              "ticks": ""
             }
            },
            "type": "scattercarpet"
           }
          ],
          "scattergeo": [
           {
            "marker": {
             "colorbar": {
              "outlinewidth": 0,
              "ticks": ""
             }
            },
            "type": "scattergeo"
           }
          ],
          "scattergl": [
           {
            "marker": {
             "colorbar": {
              "outlinewidth": 0,
              "ticks": ""
             }
            },
            "type": "scattergl"
           }
          ],
          "scattermapbox": [
           {
            "marker": {
             "colorbar": {
              "outlinewidth": 0,
              "ticks": ""
             }
            },
            "type": "scattermapbox"
           }
          ],
          "scatterpolargl": [
           {
            "marker": {
             "colorbar": {
              "outlinewidth": 0,
              "ticks": ""
             }
            },
            "type": "scatterpolargl"
           }
          ],
          "scatterpolar": [
           {
            "marker": {
             "colorbar": {
              "outlinewidth": 0,
              "ticks": ""
             }
            },
            "type": "scatterpolar"
           }
          ],
          "scatter": [
           {
            "fillpattern": {
             "fillmode": "overlay",
             "size": 10,
             "solidity": 0.2
            },
            "type": "scatter"
           }
          ],
          "scatterternary": [
           {
            "marker": {
             "colorbar": {
              "outlinewidth": 0,
              "ticks": ""
             }
            },
            "type": "scatterternary"
           }
          ],
          "surface": [
           {
            "colorbar": {
             "outlinewidth": 0,
             "ticks": ""
            },
            "colorscale": [
             [
              0.0,
              "#0d0887"
             ],
             [
              0.1111111111111111,
              "#46039f"
             ],
             [
              0.2222222222222222,
              "#7201a8"
             ],
             [
              0.3333333333333333,
              "#9c179e"
             ],
             [
              0.4444444444444444,
              "#bd3786"
             ],
             [
              0.5555555555555556,
              "#d8576b"
             ],
             [
              0.6666666666666666,
              "#ed7953"
             ],
             [
              0.7777777777777778,
              "#fb9f3a"
             ],
             [
              0.8888888888888888,
              "#fdca26"
             ],
             [
              1.0,
              "#f0f921"
             ]
            ],
            "type": "surface"
           }
          ],
          "table": [
           {
            "cells": {
             "fill": {
              "color": "#EBF0F8"
             },
             "line": {
              "color": "white"
             }
            },
            "header": {
             "fill": {
              "color": "#C8D4E3"
             },
             "line": {
              "color": "white"
             }
            },
            "type": "table"
           }
          ]
         },
         "layout": {
          "annotationdefaults": {
           "arrowcolor": "#2a3f5f",
           "arrowhead": 0,
           "arrowwidth": 1
          },
          "autotypenumbers": "strict",
          "coloraxis": {
           "colorbar": {
            "outlinewidth": 0,
            "ticks": ""
           }
          },
          "colorscale": {
           "diverging": [
            [
             0,
             "#8e0152"
            ],
            [
             0.1,
             "#c51b7d"
            ],
            [
             0.2,
             "#de77ae"
            ],
            [
             0.3,
             "#f1b6da"
            ],
            [
             0.4,
             "#fde0ef"
            ],
            [
             0.5,
             "#f7f7f7"
            ],
            [
             0.6,
             "#e6f5d0"
            ],
            [
             0.7,
             "#b8e186"
            ],
            [
             0.8,
             "#7fbc41"
            ],
            [
             0.9,
             "#4d9221"
            ],
            [
             1,
             "#276419"
            ]
           ],
           "sequential": [
            [
             0.0,
             "#0d0887"
            ],
            [
             0.1111111111111111,
             "#46039f"
            ],
            [
             0.2222222222222222,
             "#7201a8"
            ],
            [
             0.3333333333333333,
             "#9c179e"
            ],
            [
             0.4444444444444444,
             "#bd3786"
            ],
            [
             0.5555555555555556,
             "#d8576b"
            ],
            [
             0.6666666666666666,
             "#ed7953"
            ],
            [
             0.7777777777777778,
             "#fb9f3a"
            ],
            [
             0.8888888888888888,
             "#fdca26"
            ],
            [
             1.0,
             "#f0f921"
            ]
           ],
           "sequentialminus": [
            [
             0.0,
             "#0d0887"
            ],
            [
             0.1111111111111111,
             "#46039f"
            ],
            [
             0.2222222222222222,
             "#7201a8"
            ],
            [
             0.3333333333333333,
             "#9c179e"
            ],
            [
             0.4444444444444444,
             "#bd3786"
            ],
            [
             0.5555555555555556,
             "#d8576b"
            ],
            [
             0.6666666666666666,
             "#ed7953"
            ],
            [
             0.7777777777777778,
             "#fb9f3a"
            ],
            [
             0.8888888888888888,
             "#fdca26"
            ],
            [
             1.0,
             "#f0f921"
            ]
           ]
          },
          "colorway": [
           "#636efa",
           "#EF553B",
           "#00cc96",
           "#ab63fa",
           "#FFA15A",
           "#19d3f3",
           "#FF6692",
           "#B6E880",
           "#FF97FF",
           "#FECB52"
          ],
          "font": {
           "color": "#2a3f5f"
          },
          "geo": {
           "bgcolor": "white",
           "lakecolor": "white",
           "landcolor": "white",
           "showlakes": true,
           "showland": true,
           "subunitcolor": "#C8D4E3"
          },
          "hoverlabel": {
           "align": "left"
          },
          "hovermode": "closest",
          "mapbox": {
           "style": "light"
          },
          "paper_bgcolor": "white",
          "plot_bgcolor": "white",
          "polar": {
           "angularaxis": {
            "gridcolor": "#EBF0F8",
            "linecolor": "#EBF0F8",
            "ticks": ""
           },
           "bgcolor": "white",
           "radialaxis": {
            "gridcolor": "#EBF0F8",
            "linecolor": "#EBF0F8",
            "ticks": ""
           }
          },
          "scene": {
           "xaxis": {
            "backgroundcolor": "white",
            "gridcolor": "#DFE8F3",
            "gridwidth": 2,
            "linecolor": "#EBF0F8",
            "showbackground": true,
            "ticks": "",
            "zerolinecolor": "#EBF0F8"
           },
           "yaxis": {
            "backgroundcolor": "white",
            "gridcolor": "#DFE8F3",
            "gridwidth": 2,
            "linecolor": "#EBF0F8",
            "showbackground": true,
            "ticks": "",
            "zerolinecolor": "#EBF0F8"
           },
           "zaxis": {
            "backgroundcolor": "white",
            "gridcolor": "#DFE8F3",
            "gridwidth": 2,
            "linecolor": "#EBF0F8",
            "showbackground": true,
            "ticks": "",
            "zerolinecolor": "#EBF0F8"
           }
          },
          "shapedefaults": {
           "line": {
            "color": "#2a3f5f"
           }
          },
          "ternary": {
           "aaxis": {
            "gridcolor": "#DFE8F3",
            "linecolor": "#A2B1C6",
            "ticks": ""
           },
           "baxis": {
            "gridcolor": "#DFE8F3",
            "linecolor": "#A2B1C6",
            "ticks": ""
           },
           "bgcolor": "white",
           "caxis": {
            "gridcolor": "#DFE8F3",
            "linecolor": "#A2B1C6",
            "ticks": ""
           }
          },
          "title": {
           "x": 0.05
          },
          "xaxis": {
           "automargin": true,
           "gridcolor": "#EBF0F8",
           "linecolor": "#EBF0F8",
           "ticks": "",
           "title": {
            "standoff": 15
           },
           "zerolinecolor": "#EBF0F8",
           "zerolinewidth": 2
          },
          "yaxis": {
           "automargin": true,
           "gridcolor": "#EBF0F8",
           "linecolor": "#EBF0F8",
           "ticks": "",
           "title": {
            "standoff": 15
           },
           "zerolinecolor": "#EBF0F8",
           "zerolinewidth": 2
          }
         }
        },
        "shapes": [
         {
          "line": {
           "color": "red",
           "dash": "dash",
           "width": 1
          },
          "type": "line",
          "x0": "2024-07-01",
          "x1": "2024-07-01",
          "xref": "x",
          "y0": 0,
          "y1": 1,
          "yref": "y domain"
         }
        ],
        "yaxis": {
         "title": {
          "text": "Day closing return (%)"
         },
         "tickformat": ".0%",
         "range": [
          -0.25,
          0.6
         ]
        },
        "title": {
         "text": "1 Month Prediction vs Actual Plot"
        },
        "xaxis": {
         "title": {
          "text": "Date"
         }
        },
        "legend": {
         "title": {
          "text": "Legend"
         }
        }
       },
       "config": {
        "plotlyServerURL": "https://plot.ly"
       }
      },
      "text/html": [
       "<div>                            <div id=\"5a5ab49c-1066-47a5-8903-b1a61de5e509\" class=\"plotly-graph-div\" style=\"height:525px; width:100%;\"></div>            <script type=\"text/javascript\">                require([\"plotly\"], function(Plotly) {                    window.PLOTLYENV=window.PLOTLYENV || {};                                    if (document.getElementById(\"5a5ab49c-1066-47a5-8903-b1a61de5e509\")) {                    Plotly.newPlot(                        \"5a5ab49c-1066-47a5-8903-b1a61de5e509\",                        [{\"line\":{\"color\":\"#5c839f\",\"width\":2},\"mode\":\"lines\",\"name\":\"Actual returns\",\"x\":[\"2000-12-01\",\"2001-01-01\",\"2001-02-01\",\"2001-03-01\",\"2001-04-01\",\"2001-05-01\",\"2001-06-01\",\"2001-07-01\",\"2001-08-01\",\"2001-09-01\",\"2001-10-01\",\"2001-11-01\",\"2001-12-01\",\"2002-01-01\",\"2002-02-01\",\"2002-03-01\",\"2002-04-01\",\"2002-05-01\",\"2002-06-01\",\"2002-07-01\",\"2002-08-01\",\"2002-09-01\",\"2002-10-01\",\"2002-11-01\",\"2002-12-01\",\"2003-01-01\",\"2003-02-01\",\"2003-03-01\",\"2003-04-01\",\"2003-05-01\",\"2003-06-01\",\"2003-07-01\",\"2003-08-01\",\"2003-09-01\",\"2003-10-01\",\"2003-11-01\",\"2003-12-01\",\"2004-01-01\",\"2004-02-01\",\"2004-03-01\",\"2004-04-01\",\"2004-05-01\",\"2004-06-01\",\"2004-07-01\",\"2004-08-01\",\"2004-09-01\",\"2004-10-01\",\"2004-11-01\",\"2004-12-01\",\"2005-01-01\",\"2005-02-01\",\"2005-03-01\",\"2005-04-01\",\"2005-05-01\",\"2005-06-01\",\"2005-07-01\",\"2005-08-01\",\"2005-09-01\",\"2005-10-01\",\"2005-11-01\",\"2005-12-01\",\"2006-01-01\",\"2006-02-01\",\"2006-03-01\",\"2006-04-01\",\"2006-05-01\",\"2006-06-01\",\"2006-07-01\",\"2006-08-01\",\"2006-09-01\",\"2006-10-01\",\"2006-11-01\",\"2006-12-01\",\"2007-01-01\",\"2007-02-01\",\"2007-03-01\",\"2007-04-01\",\"2007-05-01\",\"2007-06-01\",\"2007-07-01\",\"2007-08-01\",\"2007-09-01\",\"2007-10-01\",\"2007-11-01\",\"2007-12-01\",\"2008-01-01\",\"2008-02-01\",\"2008-03-01\",\"2008-04-01\",\"2008-05-01\",\"2008-06-01\",\"2008-07-01\",\"2008-08-01\",\"2008-09-01\",\"2008-10-01\",\"2008-11-01\",\"2008-12-01\",\"2009-01-01\",\"2009-02-01\",\"2009-03-01\",\"2009-04-01\",\"2009-05-01\",\"2009-06-01\",\"2009-07-01\",\"2009-08-01\",\"2009-09-01\",\"2009-10-01\",\"2009-11-01\",\"2009-12-01\",\"2010-01-01\",\"2010-02-01\",\"2010-03-01\",\"2010-04-01\",\"2010-05-01\",\"2010-06-01\",\"2010-07-01\",\"2010-08-01\",\"2010-09-01\",\"2010-10-01\",\"2010-11-01\",\"2010-12-01\",\"2011-01-01\",\"2011-02-01\",\"2011-03-01\",\"2011-04-01\",\"2011-05-01\",\"2011-06-01\",\"2011-07-01\",\"2011-08-01\",\"2011-09-01\",\"2011-10-01\",\"2011-11-01\",\"2011-12-01\",\"2012-01-01\",\"2012-02-01\",\"2012-03-01\",\"2012-04-01\",\"2012-05-01\",\"2012-06-01\",\"2012-07-01\",\"2012-08-01\",\"2012-09-01\",\"2012-10-01\",\"2012-11-01\",\"2012-12-01\",\"2013-01-01\",\"2013-02-01\",\"2013-03-01\",\"2013-04-01\",\"2013-05-01\",\"2013-06-01\",\"2013-07-01\",\"2013-08-01\",\"2013-09-01\",\"2013-10-01\",\"2013-11-01\",\"2013-12-01\",\"2014-01-01\",\"2014-02-01\",\"2014-03-01\",\"2014-04-01\",\"2014-05-01\",\"2014-06-01\",\"2014-07-01\",\"2014-08-01\",\"2014-09-01\",\"2014-10-01\",\"2014-11-01\",\"2014-12-01\",\"2015-01-01\",\"2015-02-01\",\"2015-03-01\",\"2015-04-01\",\"2015-05-01\",\"2015-06-01\",\"2015-07-01\",\"2015-08-01\",\"2015-09-01\",\"2015-10-01\",\"2015-11-01\",\"2015-12-01\",\"2016-01-01\",\"2016-02-01\",\"2016-03-01\",\"2016-04-01\",\"2016-05-01\",\"2016-06-01\",\"2016-07-01\",\"2016-08-01\",\"2016-09-01\",\"2016-10-01\",\"2016-11-01\",\"2016-12-01\",\"2017-01-01\",\"2017-02-01\",\"2017-03-01\",\"2017-04-01\",\"2017-05-01\",\"2017-06-01\",\"2017-07-01\",\"2017-08-01\",\"2017-09-01\",\"2017-10-01\",\"2017-11-01\",\"2017-12-01\",\"2018-01-01\",\"2018-02-01\",\"2018-03-01\",\"2018-04-01\",\"2018-05-01\",\"2018-06-01\",\"2018-07-01\",\"2018-08-01\",\"2018-09-01\",\"2018-10-01\",\"2018-11-01\",\"2018-12-01\",\"2019-01-01\",\"2019-02-01\",\"2019-03-01\",\"2019-04-01\",\"2019-05-01\",\"2019-06-01\",\"2019-07-01\",\"2019-08-01\",\"2019-09-01\",\"2019-10-01\",\"2019-11-01\",\"2019-12-01\",\"2020-01-01\",\"2020-02-01\",\"2020-03-01\",\"2020-04-01\",\"2020-05-01\",\"2020-06-01\",\"2020-07-01\",\"2020-08-01\",\"2020-09-01\",\"2020-10-01\",\"2020-11-01\",\"2020-12-01\",\"2021-01-01\",\"2021-02-01\",\"2021-03-01\",\"2021-04-01\",\"2021-05-01\",\"2021-06-01\",\"2021-07-01\",\"2021-08-01\",\"2021-09-01\",\"2021-10-01\",\"2021-11-01\",\"2021-12-01\",\"2022-01-01\",\"2022-02-01\",\"2022-03-01\",\"2022-04-01\",\"2022-05-01\",\"2022-06-01\",\"2022-07-01\",\"2022-08-01\",\"2022-09-01\",\"2022-10-01\",\"2022-11-01\",\"2022-12-01\",\"2023-01-01\",\"2023-02-01\",\"2023-03-01\",\"2023-04-01\",\"2023-05-01\",\"2023-06-01\",\"2023-07-01\",\"2023-08-01\",\"2023-09-01\",\"2023-10-01\",\"2023-11-01\",\"2023-12-01\",\"2024-01-01\",\"2024-02-01\",\"2024-03-01\",\"2024-04-01\",\"2024-05-01\",\"2024-06-01\",\"2024-07-01\",\"2024-08-01\"],\"y\":[0.025547489413188185,0.03383545069570415,-0.007126436781608514,4.930568663036899,0.025245009074409852,-0.006037507562009159,-0.018251663641862592,0.03294615849969751,-0.004761040532365035,0.02735027223230513,-0.009370840895341792,-0.010689655172411272,-0.02825771324863846,0.009407138535993953,0.039165154264973134,-0.031022383545068588,-0.015251058681184593,0.06554143980641092,0.011845130066547194,-0.0015607985480955433,-0.026491228070174233,-0.030913490623106665,-0.08671506352086977,0.04992740471869106,0.050798548094372675,0.015862068965516674,-0.006067755595883906,0.009310344827584194,0.05072595281306347,0.00710223835450452,0.002764670296429683,-0.04802782819116436,-0.05811252268602196,-0.012516636418632099,-0.04310949788263729,0.007864488808227987,0.05825166364186196,-0.03358741681790489,-0.010980036297638107,0.005571687840290052,-0.004016938898969924,0.059951603145793175,0.06700544464609504,0.03416212946158392,0.5084513006654547,0.06142770719902968,0.0038233514821539583,0.04980036297640478,0.004228675136117133,0.015849969751963844,0.030526315789472847,0.014156079854809045,0.04684210526315691,0.004083484573501828,-0.0075257108287957175,0.03462189957652373,-0.036612220205683554,-0.0065880217785837525,0.005553539019962583,0.0005565638233508974,0.029316394434359072,0.05376285541439363,0.006430732002420392,0.020381125226857755,-0.004440411373259678,-0.026696914700541474,0.03314579552328811,0.0216817906836011,0.03581367211130959,-0.0006957047791892323,0.12865093768904812,0.0726013309134903,2.2130248033877846,0.02156079854809434,0.040816696914699246,0.012891712038716197,0.02750151240169063,0.009207501512401128,-0.031373260738048914,-0.0008166969147005432,-0.014313369630973627,0.024882032667874254,0.02975196612219899,0.02138535995160007,0.018880822746520476,0.02797943133695835,0.036872353297032756,0.004440411373261455,0.001584996975197539,0.0188082274652126,0.022619479733814396,-0.011415607985479137,-0.02407138535994935,-0.009249848759829371,0.002474289171202848,0.02551724137930922,-0.05206291591046308,-0.009225650332726487,-0.0579552329098596,-0.009280096793706338,-0.013121597096186988,0.031149425287355648,0.02318814277071768,-0.06243799153054985,-0.0049909255898370475,0.02157894736842092,-0.07269812462189917,-0.1541802782819104,-0.05525105868118674,0.04130066545674316,-0.050229885057469614,-0.05834845735027172,0.06975801572897589,0.14761645493042796,0.04329098608590476,0.035021173623714486,0.062389594676345084,0.055202661826980304,0.032274652147609384,-0.022008469449483536,0.0015910465819715114,0.05137931034482435,-0.010393224440409243,0.018554143980639592,0.05903811252268154,0.04499697519660795,-0.0543738656987246,-0.038058076225041315,0.03886267392619347,-0.035414398064121166,0.06960677555958616,0.016388384754989715,0.02758620689654956,0.0584029038112468,0.011978221415607448,0.032480338777975515,0.001603145795523453,0.019885057471262124,-0.005003024803385547,-0.002764670296429572,-0.016957047791891444,-0.0525287356321813,-0.04701754385964807,0.06892316999394943,-0.015662431941921517,0.00025408348457278684,0.059376890502114144,0.09954022988505207,0.026303690260128354,-0.007253478523894019,-0.057241379310342566,0.03002419842709836,-0.004234724742891327,0.019667271627342275,0.017150635208708076,0.001203871748335139,0.016684815486990523,0.031173623714453536,0.06079249848759227,0.0218390804597679,0.04068360556563255,0.03336963097398571,0.018215366001207878,-0.009491833030852881,0.03699334543254329,-0.01653962492437533,0.05121597096188113,0.021343012704170272,0.023980641258315005,0.02228070175438135,-0.0122565033272799,0.02886267392619213,0.0008287961282520406,-0.01481548699334323,0.01611615245008835,0.03064730792497894,-0.012855414398062703,0.0267453115547438,-0.010508166969145138,0.025311554748938203,0.041675741076825146,0.014168179068358766,0.0019419237749558338,0.04445856019358252,0.009745916515426112,0.00041137326073759084,0.02520871143375225,-0.009673321234116239,0.012788868723531133,-0.041355111917719234,-0.03201451905625696,0.062341197822137984,0.01900181488203012,-0.01770719903205853,-0.0508892921960038,-0.000641258318208493,0.056612220205681574,0.0004355716878403637,0.02140955837870062,-0.029092558983665584,0.053581367211125164,0.011010284331519182,0.0043375680580743925,-0.015184513006653577,0.051433756805806974,0.03154869933453708,0.014658197217180424,0.021845130066540985,0.009751966122203415,0.015595886267387948,0.012667876588020377,0.01312159709618732,0.013569267997577406,0.003387779794311596,0.03088929219600267,0.01952208106472675,0.023224440411370395,0.01144585601935666,0.023817301875374675,-0.025577737447060378,-0.00336358136720849,0.019479733817297173,0.02636418632788695,0.008632788868722763,0.017592256503323966,0.021772534785239328,-0.009249848759832702,-0.06341197822141131,0.01151240169388612,-0.08667271627343787,0.09143980641258032,0.03675136116152111,0.00413793103448179,0.043049001814877474,-0.05917725347852165,0.045353901996365575,0.022123411978218988,-0.029552329098605612,0.03694494857833708,0.029479733817298515,0.0347307924984841,0.026805807622500843,-0.010248033877796825,-0.0900846944948529,-0.1816152450090751,0.12603145795522974,0.07255293405928498,0.030417422867514476,0.022571082879613735,0.06055656382334962,-0.0054869933454299025,-0.007670901391404694,0.15838475499092408,0.057961282516630463,0.0404839685420475,0.05379310344827615,0.058929219600720506,0.037652752571080805,0.021343012704173825,0.020756200846943296,0.0036418632788870475,0.02528735632183654,-0.013514821536595778,0.030024198427099247,-0.030066545674527045,0.040211736237137696,-0.07431941923774554,-0.012316999395034944,0.003230490018147014,-0.05532365396248862,0.0007199032062885635,-0.07505747126436668,0.09042952208106025,-0.03070175438596201,-0.09862673926194399,0.08102843315184272,0.05529945553538784,-0.0422625529340539,0.09733212341197661,-0.011004234724740436,-0.020066545674530145,0.0013188142770683697,-0.009116757410766452,0.06248033877797354,0.04333938294010187,-0.03137931034482633,-0.040217785843914555,-0.05788868723532303,0.0877132486388339,0.07932849364790973,-0.014603750756200906,0.07413793103448185,0.027628554143975803,-0.04402903811251935,0.034162129461583035,-0.006757410768298278,0.055251058681182075,-0.0028009679370835094,-0.03332123411977328],\"type\":\"scatter\"},{\"line\":{\"color\":\"red\",\"width\":2},\"mode\":\"lines\",\"name\":\"Train returns\",\"x\":[\"2000-12-01\",\"2001-01-01\",\"2001-02-01\",\"2001-03-01\",\"2001-04-01\",\"2001-05-01\",\"2001-06-01\",\"2001-07-01\",\"2001-08-01\",\"2001-09-01\",\"2001-10-01\",\"2001-11-01\",\"2001-12-01\",\"2002-01-01\",\"2002-02-01\",\"2002-03-01\",\"2002-04-01\",\"2002-05-01\",\"2002-06-01\",\"2002-07-01\",\"2002-08-01\",\"2002-09-01\",\"2002-10-01\",\"2002-11-01\",\"2002-12-01\",\"2003-01-01\",\"2003-02-01\",\"2003-03-01\",\"2003-04-01\",\"2003-05-01\",\"2003-06-01\",\"2003-07-01\",\"2003-08-01\",\"2003-09-01\",\"2003-10-01\",\"2003-11-01\",\"2003-12-01\",\"2004-01-01\",\"2004-02-01\",\"2004-03-01\",\"2004-04-01\",\"2004-05-01\",\"2004-06-01\",\"2004-07-01\",\"2004-08-01\",\"2004-09-01\",\"2004-10-01\",\"2004-11-01\",\"2004-12-01\",\"2005-01-01\",\"2005-02-01\",\"2005-03-01\",\"2005-04-01\",\"2005-05-01\",\"2005-06-01\",\"2005-07-01\",\"2005-08-01\",\"2005-09-01\",\"2005-10-01\",\"2005-11-01\",\"2005-12-01\",\"2006-01-01\",\"2006-02-01\",\"2006-03-01\",\"2006-04-01\",\"2006-05-01\",\"2006-06-01\",\"2006-07-01\",\"2006-08-01\",\"2006-09-01\",\"2006-10-01\",\"2006-11-01\",\"2006-12-01\",\"2007-01-01\",\"2007-02-01\",\"2007-03-01\",\"2007-04-01\",\"2007-05-01\",\"2007-06-01\",\"2007-07-01\",\"2007-08-01\",\"2007-09-01\",\"2007-10-01\",\"2007-11-01\",\"2007-12-01\",\"2008-01-01\",\"2008-02-01\",\"2008-03-01\",\"2008-04-01\",\"2008-05-01\",\"2008-06-01\",\"2008-07-01\",\"2008-08-01\",\"2008-09-01\",\"2008-10-01\",\"2008-11-01\",\"2008-12-01\",\"2009-01-01\",\"2009-02-01\",\"2009-03-01\",\"2009-04-01\",\"2009-05-01\",\"2009-06-01\",\"2009-07-01\",\"2009-08-01\",\"2009-09-01\",\"2009-10-01\",\"2009-11-01\",\"2009-12-01\",\"2010-01-01\",\"2010-02-01\",\"2010-03-01\",\"2010-04-01\",\"2010-05-01\",\"2010-06-01\",\"2010-07-01\",\"2010-08-01\",\"2010-09-01\",\"2010-10-01\",\"2010-11-01\",\"2010-12-01\",\"2011-01-01\",\"2011-02-01\",\"2011-03-01\",\"2011-04-01\",\"2011-05-01\",\"2011-06-01\",\"2011-07-01\",\"2011-08-01\",\"2011-09-01\",\"2011-10-01\",\"2011-11-01\",\"2011-12-01\",\"2012-01-01\",\"2012-02-01\",\"2012-03-01\",\"2012-04-01\",\"2012-05-01\",\"2012-06-01\",\"2012-07-01\",\"2012-08-01\",\"2012-09-01\",\"2012-10-01\",\"2012-11-01\",\"2012-12-01\",\"2013-01-01\",\"2013-02-01\",\"2013-03-01\",\"2013-04-01\",\"2013-05-01\",\"2013-06-01\",\"2013-07-01\",\"2013-08-01\",\"2013-09-01\",\"2013-10-01\",\"2013-11-01\",\"2013-12-01\",\"2014-01-01\",\"2014-02-01\",\"2014-03-01\",\"2014-04-01\",\"2014-05-01\",\"2014-06-01\",\"2014-07-01\",\"2014-08-01\",\"2014-09-01\",\"2014-10-01\",\"2014-11-01\",\"2014-12-01\",\"2015-01-01\",\"2015-02-01\",\"2015-03-01\",\"2015-04-01\",\"2015-05-01\",\"2015-06-01\",\"2015-07-01\",\"2015-08-01\",\"2015-09-01\",\"2015-10-01\",\"2015-11-01\",\"2015-12-01\",\"2016-01-01\",\"2016-02-01\",\"2016-03-01\",\"2016-04-01\",\"2016-05-01\",\"2016-06-01\",\"2016-07-01\",\"2016-08-01\",\"2016-09-01\",\"2016-10-01\",\"2016-11-01\",\"2016-12-01\",\"2017-01-01\",\"2017-02-01\",\"2017-03-01\",\"2017-04-01\",\"2017-05-01\",\"2017-06-01\",\"2017-07-01\",\"2017-08-01\",\"2017-09-01\",\"2017-10-01\",\"2017-11-01\",\"2017-12-01\",\"2018-01-01\",\"2018-02-01\",\"2018-03-01\",\"2018-04-01\",\"2018-05-01\",\"2018-06-01\",\"2018-07-01\",\"2018-08-01\",\"2018-09-01\",\"2018-10-01\",\"2018-11-01\",\"2018-12-01\",\"2019-01-01\",\"2019-02-01\",\"2019-03-01\",\"2019-04-01\",\"2019-05-01\",\"2019-06-01\",\"2019-07-01\",\"2019-08-01\",\"2019-09-01\",\"2019-10-01\",\"2019-11-01\",\"2019-12-01\",\"2020-01-01\",\"2020-02-01\",\"2020-03-01\",\"2020-04-01\",\"2020-05-01\",\"2020-06-01\",\"2020-07-01\",\"2020-08-01\",\"2020-09-01\",\"2020-10-01\",\"2020-11-01\",\"2020-12-01\",\"2021-01-01\",\"2021-02-01\",\"2021-03-01\",\"2021-04-01\",\"2021-05-01\",\"2021-06-01\",\"2021-07-01\",\"2021-08-01\",\"2021-09-01\",\"2021-10-01\",\"2021-11-01\",\"2021-12-01\",\"2022-01-01\",\"2022-02-01\",\"2022-03-01\",\"2022-04-01\",\"2022-05-01\",\"2022-06-01\",\"2022-07-01\",\"2022-08-01\",\"2022-09-01\",\"2022-10-01\",\"2022-11-01\",\"2022-12-01\",\"2023-01-01\",\"2023-02-01\",\"2023-03-01\",\"2023-04-01\",\"2023-05-01\",\"2023-06-01\",\"2023-07-01\",\"2023-08-01\",\"2023-09-01\",\"2023-10-01\",\"2023-11-01\",\"2023-12-01\",\"2024-01-01\",\"2024-02-01\",\"2024-03-01\",\"2024-04-01\",\"2024-05-01\",\"2024-06-01\",\"2024-07-01\"],\"y\":[0.009013772010803223,0.014635682106018066,0.009535789489746094,0.01018059253692627,0.01169884204864502,0.011917591094970703,0.013523697853088379,0.012573003768920898,0.011196732521057129,0.008478403091430664,0.014666318893432617,0.008832216262817383,0.011321187019348145,0.0069730281829833984,0.0044972896575927734,0.009020090103149414,0.009114742279052734,0.011876583099365234,0.010272741317749023,0.010858774185180664,0.008156061172485352,0.01462411880493164,0.009988069534301758,0.010133504867553711,0.007364988327026367,0.01396799087524414,0.008542895317077637,0.4612070322036743,0.00842142105102539,0.010207772254943848,0.009811639785766602,0.009457111358642578,0.014704585075378418,0.013356804847717285,0.011430501937866211,0.013129234313964844,0.009282827377319336,0.010151505470275879,5.661988735198975,0.01024472713470459,0.010416269302368164,0.009949922561645508,0.0108489990234375,0.013263463973999023,0.014751672744750977,0.007178544998168945,0.00924527645111084,0.010597586631774902,0.01156926155090332,0.008532881736755371,0.00841522216796875,0.01134788990020752,0.010578036308288574,0.011441946029663086,0.011966228485107422,0.008617401123046875,0.010352373123168945,0.007834196090698242,0.011448264122009277,0.010658025741577148,0.00792694091796875,0.008408546447753906,2.628924608230591,0.010855913162231445,0.008068561553955078,0.005553841590881348,0.009413719177246094,0.02344965934753418,0.013730525970458984,0.011161208152770996,0.010367751121520996,0.008581876754760742,0.008158087730407715,0.006856679916381836,0.012234926223754883,0.007535338401794434,0.033840179443359375,0.009263992309570312,0.007565736770629883,0.008340597152709961,0.011461734771728516,0.013069391250610352,0.010648250579833984,0.01105654239654541,0.008504271507263184,0.006807088851928711,0.008620142936706543,0.007680177688598633,0.010230422019958496,0.009275317192077637,0.009282350540161133,0.008536934852600098,0.010464787483215332,0.011391282081604004,0.0097123384475708,0.011726617813110352,0.009313225746154785,0.006417989730834961,0.0072062015533447266,0.007358193397521973,0.0075531005859375,0.007033348083496094,0.006542563438415527,0.011831402778625488,0.007768511772155762,0.007670402526855469,0.009904861450195312,0.006811618804931641,0.00848376750946045,0.005962491035461426,0.003443479537963867,0.010557770729064941,0.011136770248413086,0.009416818618774414,0.0070459842681884766,0.011007189750671387,0.010263562202453613,0.007925868034362793,0.00879216194152832,0.007647037506103516,0.010650396347045898,0.008712530136108398,0.009084701538085938,0.014399170875549316,0.008612990379333496,0.015212655067443848,0.00661015510559082,0.007731437683105469,0.01065671443939209,0.004887819290161133,0.009679675102233887,0.006809234619140625,0.008604288101196289,0.0074961185455322266,0.00919950008392334,0.00967419147491455,0.010052800178527832,0.008851885795593262,0.007155179977416992,0.007123112678527832,0.01071786880493164,0.009847640991210938,0.006534099578857422,0.008435606956481934,0.009246826171875,0.007677912712097168,0.10814046859741211,0.0063065290451049805,0.012053370475769043,0.009845376014709473,0.012281298637390137,0.01060330867767334,0.003679633140563965,0.011425614356994629,0.01105964183807373,0.01782679557800293,0.008333325386047363,0.0065419673919677734,0.005879878997802734,0.007643699645996094,-0.05132550001144409,0.003620624542236328,0.009038329124450684,0.009559988975524902,0.017046213150024414,0.011464476585388184,0.007285475730895996,0.008344769477844238,0.009079337120056152,0.010501742362976074,0.01022040843963623,0.007038116455078125,0.012032389640808105,0.006132364273071289,0.008968710899353027,0.009452581405639648,0.006720900535583496,0.008288979530334473,0.010831832885742188,0.010741710662841797,0.012305617332458496,0.008556127548217773,0.014136075973510742,0.00822901725769043,0.007926344871520996,0.015450119972229004,0.007682204246520996,0.007299900054931641,0.009489059448242188,0.005818486213684082,0.00706326961517334,0.007938981056213379,0.009264707565307617,0.006556153297424316,0.009569644927978516,0.009925007820129395,0.008282899856567383,0.005785107612609863,0.009651422500610352,0.008129477500915527,0.005375027656555176,0.1145240068435669,0.005776047706604004,0.01172947883605957,0.007438063621520996,0.46063053607940674,0.010964632034301758,0.00823974609375,0.005966901779174805,0.010979771614074707,0.015755176544189453,0.011133909225463867,0.009354591369628906,0.007983207702636719,0.009126901626586914,0.011391401290893555,0.009897112846374512,0.009768009185791016,0.00945901870727539,0.01559603214263916,0.009091496467590332,0.01001274585723877,0.010157108306884766,0.008773207664489746,0.011107444763183594,0.0042961835861206055,0.008168458938598633,0.007238149642944336,0.012808918952941895,0.007114768028259277,0.004606366157531738,0.006080269813537598,0.010290384292602539,0.006451010704040527,0.007224917411804199,0.009794116020202637,0.0076406002044677734,0.009106040000915527,0.00583195686340332,0.012401580810546875,0.007623910903930664,0.006679058074951172,0.006074786186218262,0.010682344436645508,0.00851893424987793,0.0110398530960083,0.007431387901306152,0.0072242021560668945,0.007288932800292969,0.00836491584777832,0.016167521476745605,0.010647416114807129,0.013027071952819824,0.008876204490661621,0.008186578750610352,0.008080720901489258,0.007475614547729492,0.007587432861328125,0.010128498077392578,0.011327981948852539,0.008602499961853027,0.006700754165649414,0.014020442962646484,0.007790088653564453,0.03824734687805176,0.007785677909851074,0.007377505302429199,0.006327509880065918,0.011455059051513672,0.008351325988769531,0.0058318376541137695,0.006261587142944336,0.008092880249023438,0.008077144622802734,0.00923919677734375,0.015079379081726074,0.010419726371765137,0.00587773323059082,0.0119553804397583,0.009253978729248047,0.0274885892868042,0.016987085342407227,0.007554769515991211,0.008743524551391602],\"type\":\"scatter\"},{\"line\":{\"color\":\"green\",\"width\":2},\"mode\":\"lines\",\"name\":\"Test returns\",\"x\":[\"2024-07-01\",\"2024-08-01\"],\"y\":[0.008743524551391602,0.009914755821228027],\"type\":\"scatter\"}],                        {\"template\":{\"data\":{\"barpolar\":[{\"marker\":{\"line\":{\"color\":\"white\",\"width\":0.5},\"pattern\":{\"fillmode\":\"overlay\",\"size\":10,\"solidity\":0.2}},\"type\":\"barpolar\"}],\"bar\":[{\"error_x\":{\"color\":\"#2a3f5f\"},\"error_y\":{\"color\":\"#2a3f5f\"},\"marker\":{\"line\":{\"color\":\"white\",\"width\":0.5},\"pattern\":{\"fillmode\":\"overlay\",\"size\":10,\"solidity\":0.2}},\"type\":\"bar\"}],\"carpet\":[{\"aaxis\":{\"endlinecolor\":\"#2a3f5f\",\"gridcolor\":\"#C8D4E3\",\"linecolor\":\"#C8D4E3\",\"minorgridcolor\":\"#C8D4E3\",\"startlinecolor\":\"#2a3f5f\"},\"baxis\":{\"endlinecolor\":\"#2a3f5f\",\"gridcolor\":\"#C8D4E3\",\"linecolor\":\"#C8D4E3\",\"minorgridcolor\":\"#C8D4E3\",\"startlinecolor\":\"#2a3f5f\"},\"type\":\"carpet\"}],\"choropleth\":[{\"colorbar\":{\"outlinewidth\":0,\"ticks\":\"\"},\"type\":\"choropleth\"}],\"contourcarpet\":[{\"colorbar\":{\"outlinewidth\":0,\"ticks\":\"\"},\"type\":\"contourcarpet\"}],\"contour\":[{\"colorbar\":{\"outlinewidth\":0,\"ticks\":\"\"},\"colorscale\":[[0.0,\"#0d0887\"],[0.1111111111111111,\"#46039f\"],[0.2222222222222222,\"#7201a8\"],[0.3333333333333333,\"#9c179e\"],[0.4444444444444444,\"#bd3786\"],[0.5555555555555556,\"#d8576b\"],[0.6666666666666666,\"#ed7953\"],[0.7777777777777778,\"#fb9f3a\"],[0.8888888888888888,\"#fdca26\"],[1.0,\"#f0f921\"]],\"type\":\"contour\"}],\"heatmapgl\":[{\"colorbar\":{\"outlinewidth\":0,\"ticks\":\"\"},\"colorscale\":[[0.0,\"#0d0887\"],[0.1111111111111111,\"#46039f\"],[0.2222222222222222,\"#7201a8\"],[0.3333333333333333,\"#9c179e\"],[0.4444444444444444,\"#bd3786\"],[0.5555555555555556,\"#d8576b\"],[0.6666666666666666,\"#ed7953\"],[0.7777777777777778,\"#fb9f3a\"],[0.8888888888888888,\"#fdca26\"],[1.0,\"#f0f921\"]],\"type\":\"heatmapgl\"}],\"heatmap\":[{\"colorbar\":{\"outlinewidth\":0,\"ticks\":\"\"},\"colorscale\":[[0.0,\"#0d0887\"],[0.1111111111111111,\"#46039f\"],[0.2222222222222222,\"#7201a8\"],[0.3333333333333333,\"#9c179e\"],[0.4444444444444444,\"#bd3786\"],[0.5555555555555556,\"#d8576b\"],[0.6666666666666666,\"#ed7953\"],[0.7777777777777778,\"#fb9f3a\"],[0.8888888888888888,\"#fdca26\"],[1.0,\"#f0f921\"]],\"type\":\"heatmap\"}],\"histogram2dcontour\":[{\"colorbar\":{\"outlinewidth\":0,\"ticks\":\"\"},\"colorscale\":[[0.0,\"#0d0887\"],[0.1111111111111111,\"#46039f\"],[0.2222222222222222,\"#7201a8\"],[0.3333333333333333,\"#9c179e\"],[0.4444444444444444,\"#bd3786\"],[0.5555555555555556,\"#d8576b\"],[0.6666666666666666,\"#ed7953\"],[0.7777777777777778,\"#fb9f3a\"],[0.8888888888888888,\"#fdca26\"],[1.0,\"#f0f921\"]],\"type\":\"histogram2dcontour\"}],\"histogram2d\":[{\"colorbar\":{\"outlinewidth\":0,\"ticks\":\"\"},\"colorscale\":[[0.0,\"#0d0887\"],[0.1111111111111111,\"#46039f\"],[0.2222222222222222,\"#7201a8\"],[0.3333333333333333,\"#9c179e\"],[0.4444444444444444,\"#bd3786\"],[0.5555555555555556,\"#d8576b\"],[0.6666666666666666,\"#ed7953\"],[0.7777777777777778,\"#fb9f3a\"],[0.8888888888888888,\"#fdca26\"],[1.0,\"#f0f921\"]],\"type\":\"histogram2d\"}],\"histogram\":[{\"marker\":{\"pattern\":{\"fillmode\":\"overlay\",\"size\":10,\"solidity\":0.2}},\"type\":\"histogram\"}],\"mesh3d\":[{\"colorbar\":{\"outlinewidth\":0,\"ticks\":\"\"},\"type\":\"mesh3d\"}],\"parcoords\":[{\"line\":{\"colorbar\":{\"outlinewidth\":0,\"ticks\":\"\"}},\"type\":\"parcoords\"}],\"pie\":[{\"automargin\":true,\"type\":\"pie\"}],\"scatter3d\":[{\"line\":{\"colorbar\":{\"outlinewidth\":0,\"ticks\":\"\"}},\"marker\":{\"colorbar\":{\"outlinewidth\":0,\"ticks\":\"\"}},\"type\":\"scatter3d\"}],\"scattercarpet\":[{\"marker\":{\"colorbar\":{\"outlinewidth\":0,\"ticks\":\"\"}},\"type\":\"scattercarpet\"}],\"scattergeo\":[{\"marker\":{\"colorbar\":{\"outlinewidth\":0,\"ticks\":\"\"}},\"type\":\"scattergeo\"}],\"scattergl\":[{\"marker\":{\"colorbar\":{\"outlinewidth\":0,\"ticks\":\"\"}},\"type\":\"scattergl\"}],\"scattermapbox\":[{\"marker\":{\"colorbar\":{\"outlinewidth\":0,\"ticks\":\"\"}},\"type\":\"scattermapbox\"}],\"scatterpolargl\":[{\"marker\":{\"colorbar\":{\"outlinewidth\":0,\"ticks\":\"\"}},\"type\":\"scatterpolargl\"}],\"scatterpolar\":[{\"marker\":{\"colorbar\":{\"outlinewidth\":0,\"ticks\":\"\"}},\"type\":\"scatterpolar\"}],\"scatter\":[{\"fillpattern\":{\"fillmode\":\"overlay\",\"size\":10,\"solidity\":0.2},\"type\":\"scatter\"}],\"scatterternary\":[{\"marker\":{\"colorbar\":{\"outlinewidth\":0,\"ticks\":\"\"}},\"type\":\"scatterternary\"}],\"surface\":[{\"colorbar\":{\"outlinewidth\":0,\"ticks\":\"\"},\"colorscale\":[[0.0,\"#0d0887\"],[0.1111111111111111,\"#46039f\"],[0.2222222222222222,\"#7201a8\"],[0.3333333333333333,\"#9c179e\"],[0.4444444444444444,\"#bd3786\"],[0.5555555555555556,\"#d8576b\"],[0.6666666666666666,\"#ed7953\"],[0.7777777777777778,\"#fb9f3a\"],[0.8888888888888888,\"#fdca26\"],[1.0,\"#f0f921\"]],\"type\":\"surface\"}],\"table\":[{\"cells\":{\"fill\":{\"color\":\"#EBF0F8\"},\"line\":{\"color\":\"white\"}},\"header\":{\"fill\":{\"color\":\"#C8D4E3\"},\"line\":{\"color\":\"white\"}},\"type\":\"table\"}]},\"layout\":{\"annotationdefaults\":{\"arrowcolor\":\"#2a3f5f\",\"arrowhead\":0,\"arrowwidth\":1},\"autotypenumbers\":\"strict\",\"coloraxis\":{\"colorbar\":{\"outlinewidth\":0,\"ticks\":\"\"}},\"colorscale\":{\"diverging\":[[0,\"#8e0152\"],[0.1,\"#c51b7d\"],[0.2,\"#de77ae\"],[0.3,\"#f1b6da\"],[0.4,\"#fde0ef\"],[0.5,\"#f7f7f7\"],[0.6,\"#e6f5d0\"],[0.7,\"#b8e186\"],[0.8,\"#7fbc41\"],[0.9,\"#4d9221\"],[1,\"#276419\"]],\"sequential\":[[0.0,\"#0d0887\"],[0.1111111111111111,\"#46039f\"],[0.2222222222222222,\"#7201a8\"],[0.3333333333333333,\"#9c179e\"],[0.4444444444444444,\"#bd3786\"],[0.5555555555555556,\"#d8576b\"],[0.6666666666666666,\"#ed7953\"],[0.7777777777777778,\"#fb9f3a\"],[0.8888888888888888,\"#fdca26\"],[1.0,\"#f0f921\"]],\"sequentialminus\":[[0.0,\"#0d0887\"],[0.1111111111111111,\"#46039f\"],[0.2222222222222222,\"#7201a8\"],[0.3333333333333333,\"#9c179e\"],[0.4444444444444444,\"#bd3786\"],[0.5555555555555556,\"#d8576b\"],[0.6666666666666666,\"#ed7953\"],[0.7777777777777778,\"#fb9f3a\"],[0.8888888888888888,\"#fdca26\"],[1.0,\"#f0f921\"]]},\"colorway\":[\"#636efa\",\"#EF553B\",\"#00cc96\",\"#ab63fa\",\"#FFA15A\",\"#19d3f3\",\"#FF6692\",\"#B6E880\",\"#FF97FF\",\"#FECB52\"],\"font\":{\"color\":\"#2a3f5f\"},\"geo\":{\"bgcolor\":\"white\",\"lakecolor\":\"white\",\"landcolor\":\"white\",\"showlakes\":true,\"showland\":true,\"subunitcolor\":\"#C8D4E3\"},\"hoverlabel\":{\"align\":\"left\"},\"hovermode\":\"closest\",\"mapbox\":{\"style\":\"light\"},\"paper_bgcolor\":\"white\",\"plot_bgcolor\":\"white\",\"polar\":{\"angularaxis\":{\"gridcolor\":\"#EBF0F8\",\"linecolor\":\"#EBF0F8\",\"ticks\":\"\"},\"bgcolor\":\"white\",\"radialaxis\":{\"gridcolor\":\"#EBF0F8\",\"linecolor\":\"#EBF0F8\",\"ticks\":\"\"}},\"scene\":{\"xaxis\":{\"backgroundcolor\":\"white\",\"gridcolor\":\"#DFE8F3\",\"gridwidth\":2,\"linecolor\":\"#EBF0F8\",\"showbackground\":true,\"ticks\":\"\",\"zerolinecolor\":\"#EBF0F8\"},\"yaxis\":{\"backgroundcolor\":\"white\",\"gridcolor\":\"#DFE8F3\",\"gridwidth\":2,\"linecolor\":\"#EBF0F8\",\"showbackground\":true,\"ticks\":\"\",\"zerolinecolor\":\"#EBF0F8\"},\"zaxis\":{\"backgroundcolor\":\"white\",\"gridcolor\":\"#DFE8F3\",\"gridwidth\":2,\"linecolor\":\"#EBF0F8\",\"showbackground\":true,\"ticks\":\"\",\"zerolinecolor\":\"#EBF0F8\"}},\"shapedefaults\":{\"line\":{\"color\":\"#2a3f5f\"}},\"ternary\":{\"aaxis\":{\"gridcolor\":\"#DFE8F3\",\"linecolor\":\"#A2B1C6\",\"ticks\":\"\"},\"baxis\":{\"gridcolor\":\"#DFE8F3\",\"linecolor\":\"#A2B1C6\",\"ticks\":\"\"},\"bgcolor\":\"white\",\"caxis\":{\"gridcolor\":\"#DFE8F3\",\"linecolor\":\"#A2B1C6\",\"ticks\":\"\"}},\"title\":{\"x\":0.05},\"xaxis\":{\"automargin\":true,\"gridcolor\":\"#EBF0F8\",\"linecolor\":\"#EBF0F8\",\"ticks\":\"\",\"title\":{\"standoff\":15},\"zerolinecolor\":\"#EBF0F8\",\"zerolinewidth\":2},\"yaxis\":{\"automargin\":true,\"gridcolor\":\"#EBF0F8\",\"linecolor\":\"#EBF0F8\",\"ticks\":\"\",\"title\":{\"standoff\":15},\"zerolinecolor\":\"#EBF0F8\",\"zerolinewidth\":2}}},\"shapes\":[{\"line\":{\"color\":\"red\",\"dash\":\"dash\",\"width\":1},\"type\":\"line\",\"x0\":\"2024-07-01\",\"x1\":\"2024-07-01\",\"xref\":\"x\",\"y0\":0,\"y1\":1,\"yref\":\"y domain\"}],\"yaxis\":{\"title\":{\"text\":\"Day closing return (%)\"},\"tickformat\":\".0%\",\"range\":[-0.25,0.6]},\"title\":{\"text\":\"1 Month Prediction vs Actual Plot\"},\"xaxis\":{\"title\":{\"text\":\"Date\"}},\"legend\":{\"title\":{\"text\":\"Legend\"}}},                        {\"responsive\": true}                    ).then(function(){\n",
       "                            \n",
       "var gd = document.getElementById('5a5ab49c-1066-47a5-8903-b1a61de5e509');\n",
       "var x = new MutationObserver(function (mutations, observer) {{\n",
       "        var display = window.getComputedStyle(gd).display;\n",
       "        if (!display || display === 'none') {{\n",
       "            console.log([gd, 'removed!']);\n",
       "            Plotly.purge(gd);\n",
       "            observer.disconnect();\n",
       "        }}\n",
       "}});\n",
       "\n",
       "// Listen for the removal of the full notebook cells\n",
       "var notebookContainer = gd.closest('#notebook-container');\n",
       "if (notebookContainer) {{\n",
       "    x.observe(notebookContainer, {childList: true});\n",
       "}}\n",
       "\n",
       "// Listen for the clearing of the current output cell\n",
       "var outputEl = gd.closest('.output');\n",
       "if (outputEl) {{\n",
       "    x.observe(outputEl, {childList: true});\n",
       "}}\n",
       "\n",
       "                        })                };                });            </script>        </div>"
      ]
     },
     "metadata": {},
     "output_type": "display_data"
    }
   ],
   "execution_count": 129
  },
  {
   "metadata": {},
   "cell_type": "markdown",
   "source": "#### Allocation - 1 Month",
   "id": "8ff662d0f695a8cc"
  },
  {
   "metadata": {},
   "cell_type": "markdown",
   "source": [
    "In order for Mean-Variance Optimisation to create an optimal portfolio, by allocation to the best performing tickers, \n",
    "based on their weight and price. Predicted return and those being evaluated have to be adopted to the actual prices.\n"
   ],
   "id": "b20ab4dd856545ac"
  },
  {
   "metadata": {
    "ExecuteTime": {
     "end_time": "2025-06-14T09:09:01.098800Z",
     "start_time": "2025-06-14T09:09:00.914019Z"
    }
   },
   "cell_type": "code",
   "source": [
    "importlib.reload(mpt_utils)\n",
    "\n",
    "# Get train true values followed with predicted month/s\n",
    "y_train_1m_list = y_train_1m['m_return_target(t+1)'].tolist()\n",
    "y_test_1m_list = y_test_pred_1m.tolist()\n",
    "#\n",
    "df_to_evaluate_1m = mpt_utils.get_df_from_pred_list(df_pct, y_train_1m_list, y_test_1m_list)\n",
    "df_to_evaluate_1m = df_to_evaluate_1m - 1\n",
    "#\n",
    "df_to_evaluate_1m.tail(3)"
   ],
   "id": "b89f9aeaf74d7a28",
   "outputs": [
    {
     "data": {
      "text/plain": [
       "        RS1.L        KE    TEG.DE    LEG.DE       SCS      HNI       AVT  \\\n",
       "283  0.190000  0.080000  0.020000  0.060000  0.120000  0.22000  0.050000   \n",
       "284 -0.040000 -0.220000  0.060000  0.080000 -0.020000 -0.02000  0.030000   \n",
       "285  0.022735  0.031849  0.038203  0.042481  0.018576  0.01324  0.031824   \n",
       "\n",
       "         ACCO    VNA.DE    7912.T  ...   DEQ.DE     KIDS     HALO      MATW  \\\n",
       "283  0.090000  0.070000 -0.080000  ...  0.10000  0.07000  0.06000  0.160000   \n",
       "284  0.070000  0.100000  0.060000  ... -0.05000  0.04000  0.16000 -0.130000   \n",
       "285  0.024014  0.007395  0.001942  ... -0.02029 -0.00868  0.00833  0.018864   \n",
       "\n",
       "       9842.T      KVHI    MOON.L       NEO    6055.T       UNP  \n",
       "283 -0.060000 -0.040000  0.140000  0.280000 -0.100000  0.090000  \n",
       "284 -0.040000  0.000000 -0.030000 -0.070000 -0.110000  0.040000  \n",
       "285  0.027201  0.037062  0.035512  0.020886  0.027564  0.001306  \n",
       "\n",
       "[3 rows x 1653 columns]"
      ],
      "text/html": [
       "<div>\n",
       "<style scoped>\n",
       "    .dataframe tbody tr th:only-of-type {\n",
       "        vertical-align: middle;\n",
       "    }\n",
       "\n",
       "    .dataframe tbody tr th {\n",
       "        vertical-align: top;\n",
       "    }\n",
       "\n",
       "    .dataframe thead th {\n",
       "        text-align: right;\n",
       "    }\n",
       "</style>\n",
       "<table border=\"1\" class=\"dataframe\">\n",
       "  <thead>\n",
       "    <tr style=\"text-align: right;\">\n",
       "      <th></th>\n",
       "      <th>RS1.L</th>\n",
       "      <th>KE</th>\n",
       "      <th>TEG.DE</th>\n",
       "      <th>LEG.DE</th>\n",
       "      <th>SCS</th>\n",
       "      <th>HNI</th>\n",
       "      <th>AVT</th>\n",
       "      <th>ACCO</th>\n",
       "      <th>VNA.DE</th>\n",
       "      <th>7912.T</th>\n",
       "      <th>...</th>\n",
       "      <th>DEQ.DE</th>\n",
       "      <th>KIDS</th>\n",
       "      <th>HALO</th>\n",
       "      <th>MATW</th>\n",
       "      <th>9842.T</th>\n",
       "      <th>KVHI</th>\n",
       "      <th>MOON.L</th>\n",
       "      <th>NEO</th>\n",
       "      <th>6055.T</th>\n",
       "      <th>UNP</th>\n",
       "    </tr>\n",
       "  </thead>\n",
       "  <tbody>\n",
       "    <tr>\n",
       "      <th>283</th>\n",
       "      <td>0.190000</td>\n",
       "      <td>0.080000</td>\n",
       "      <td>0.020000</td>\n",
       "      <td>0.060000</td>\n",
       "      <td>0.120000</td>\n",
       "      <td>0.22000</td>\n",
       "      <td>0.050000</td>\n",
       "      <td>0.090000</td>\n",
       "      <td>0.070000</td>\n",
       "      <td>-0.080000</td>\n",
       "      <td>...</td>\n",
       "      <td>0.10000</td>\n",
       "      <td>0.07000</td>\n",
       "      <td>0.06000</td>\n",
       "      <td>0.160000</td>\n",
       "      <td>-0.060000</td>\n",
       "      <td>-0.040000</td>\n",
       "      <td>0.140000</td>\n",
       "      <td>0.280000</td>\n",
       "      <td>-0.100000</td>\n",
       "      <td>0.090000</td>\n",
       "    </tr>\n",
       "    <tr>\n",
       "      <th>284</th>\n",
       "      <td>-0.040000</td>\n",
       "      <td>-0.220000</td>\n",
       "      <td>0.060000</td>\n",
       "      <td>0.080000</td>\n",
       "      <td>-0.020000</td>\n",
       "      <td>-0.02000</td>\n",
       "      <td>0.030000</td>\n",
       "      <td>0.070000</td>\n",
       "      <td>0.100000</td>\n",
       "      <td>0.060000</td>\n",
       "      <td>...</td>\n",
       "      <td>-0.05000</td>\n",
       "      <td>0.04000</td>\n",
       "      <td>0.16000</td>\n",
       "      <td>-0.130000</td>\n",
       "      <td>-0.040000</td>\n",
       "      <td>0.000000</td>\n",
       "      <td>-0.030000</td>\n",
       "      <td>-0.070000</td>\n",
       "      <td>-0.110000</td>\n",
       "      <td>0.040000</td>\n",
       "    </tr>\n",
       "    <tr>\n",
       "      <th>285</th>\n",
       "      <td>0.022735</td>\n",
       "      <td>0.031849</td>\n",
       "      <td>0.038203</td>\n",
       "      <td>0.042481</td>\n",
       "      <td>0.018576</td>\n",
       "      <td>0.01324</td>\n",
       "      <td>0.031824</td>\n",
       "      <td>0.024014</td>\n",
       "      <td>0.007395</td>\n",
       "      <td>0.001942</td>\n",
       "      <td>...</td>\n",
       "      <td>-0.02029</td>\n",
       "      <td>-0.00868</td>\n",
       "      <td>0.00833</td>\n",
       "      <td>0.018864</td>\n",
       "      <td>0.027201</td>\n",
       "      <td>0.037062</td>\n",
       "      <td>0.035512</td>\n",
       "      <td>0.020886</td>\n",
       "      <td>0.027564</td>\n",
       "      <td>0.001306</td>\n",
       "    </tr>\n",
       "  </tbody>\n",
       "</table>\n",
       "<p>3 rows × 1653 columns</p>\n",
       "</div>"
      ]
     },
     "execution_count": 130,
     "metadata": {},
     "output_type": "execute_result"
    }
   ],
   "execution_count": 130
  },
  {
   "metadata": {
    "ExecuteTime": {
     "end_time": "2025-06-14T09:09:12.428778Z",
     "start_time": "2025-06-14T09:09:01.466973Z"
    }
   },
   "cell_type": "code",
   "source": [
    "importlib.reload(mpt_utils)\n",
    "\n",
    "weights_1m, mu_1m, S_1m, weights_all_1m = mpt_utils.portfolio_and_plot(df_to_evaluate_1m, df)"
   ],
   "id": "ce3f40a8aa258366",
   "outputs": [
    {
     "name": "stdout",
     "output_type": "stream",
     "text": [
      "Expected annual return: 34.9%\n",
      "Annual volatility: 35.3%\n",
      "Sharpe Ratio: 0.93\n",
      "-- Allocation --\n",
      "{'PLUS.L': 1, 'NVDA': 4, '7552.T': 13, '8129.T': 9, 'LRN': 5, '2760.T': 11, '7944.T': 11, 'SFM': 2, '6417.T': 16, '7451.T': 6, '9433.T': 6, '7433.T': 6, '9101.T': 5, '3191.T': 15, '9697.T': 10, 'PGR': 1, '7984.T': 11, 'BMI': 1, 'AGYS': 1, '8114.T': 5, '7974.T': 2, '7868.T': 46, '8022.T': 2, '1911.T': 3, 'PECO': 3, '3659.T': 7, '9107.T': 6, 'CPRX': 7, '2767.T': 7, '9413.T': 4, '3050.T': 11, '7734.T': 3, '6430.T': 3, '1973.T': 4, 'BIRK': 1, '8060.T': 2, 'FINV': 16, '2670.T': 3, '4980.T': 1, '8012.T': 2, '9434.T': 4, '6460.T': 4, '8283.T': 2, '4812.T': 1, '7906.T': 4, 'BBW': 1, '2733.T': 2, 'OMI': 3, '9882.T': 2, 'PMTS': 2, '8309.T': 1, '7994.T': 2, '8803.T': 1, '7599.T': 1}\n",
      "-- Weights Percentage --\n",
      "{'BMI': 0.0213, '7984.T': 0.0223, 'AGYS': 0.0204, 'NVDA': 0.0633, '7944.T': 0.0343, '7433.T': 0.0275, '2760.T': 0.0358, '7552.T': 0.0447, '6417.T': 0.029, 'LRN': 0.0406, '9101.T': 0.0262, '8129.T': 0.0412, 'SFM': 0.0292, '3191.T': 0.0254, '7451.T': 0.0288, 'PLUS.L': 0.0637, '9697.T': 0.0236, 'PGR': 0.0231, '9433.T': 0.0279, 'Other(35)': 0.3718}\n"
     ]
    },
    {
     "name": "stderr",
     "output_type": "stream",
     "text": [
      "/Users/herbishtini/anaconda3/envs/portfolio_optimisation/lib/python3.11/site-packages/pypfopt/discrete_allocation.py:27: FutureWarning:\n",
      "\n",
      "Downcasting object dtype arrays on .fillna, .ffill, .bfill is deprecated and will change in a future version. Call result.infer_objects(copy=False) instead. To opt-in to the future behavior, set `pd.set_option('future.no_silent_downcasting', True)`\n",
      "\n"
     ]
    },
    {
     "data": {
      "application/vnd.plotly.v1+json": {
       "data": [
        {
         "hole": 0.3,
         "insidetextorientation": "radial",
         "labels": [
          "BMI",
          "7984.T",
          "AGYS",
          "NVDA",
          "7944.T",
          "7433.T",
          "2760.T",
          "7552.T",
          "6417.T",
          "LRN",
          "9101.T",
          "8129.T",
          "SFM",
          "3191.T",
          "7451.T",
          "PLUS.L",
          "9697.T",
          "PGR",
          "9433.T",
          "Other(35)"
         ],
         "textinfo": "label+percent",
         "textposition": "inside",
         "values": [
          0.0167,
          0.0175,
          0.016,
          0.0497,
          0.0269,
          0.0216,
          0.0281,
          0.0351,
          0.0228,
          0.0319,
          0.0206,
          0.0323,
          0.0229,
          0.0199,
          0.0226,
          0.05,
          0.0185,
          0.0181,
          0.0219,
          0.2918
         ],
         "type": "pie"
        }
       ],
       "layout": {
        "template": {
         "data": {
          "histogram2dcontour": [
           {
            "type": "histogram2dcontour",
            "colorbar": {
             "outlinewidth": 0,
             "ticks": ""
            },
            "colorscale": [
             [
              0.0,
              "#0d0887"
             ],
             [
              0.1111111111111111,
              "#46039f"
             ],
             [
              0.2222222222222222,
              "#7201a8"
             ],
             [
              0.3333333333333333,
              "#9c179e"
             ],
             [
              0.4444444444444444,
              "#bd3786"
             ],
             [
              0.5555555555555556,
              "#d8576b"
             ],
             [
              0.6666666666666666,
              "#ed7953"
             ],
             [
              0.7777777777777778,
              "#fb9f3a"
             ],
             [
              0.8888888888888888,
              "#fdca26"
             ],
             [
              1.0,
              "#f0f921"
             ]
            ]
           }
          ],
          "choropleth": [
           {
            "type": "choropleth",
            "colorbar": {
             "outlinewidth": 0,
             "ticks": ""
            }
           }
          ],
          "histogram2d": [
           {
            "type": "histogram2d",
            "colorbar": {
             "outlinewidth": 0,
             "ticks": ""
            },
            "colorscale": [
             [
              0.0,
              "#0d0887"
             ],
             [
              0.1111111111111111,
              "#46039f"
             ],
             [
              0.2222222222222222,
              "#7201a8"
             ],
             [
              0.3333333333333333,
              "#9c179e"
             ],
             [
              0.4444444444444444,
              "#bd3786"
             ],
             [
              0.5555555555555556,
              "#d8576b"
             ],
             [
              0.6666666666666666,
              "#ed7953"
             ],
             [
              0.7777777777777778,
              "#fb9f3a"
             ],
             [
              0.8888888888888888,
              "#fdca26"
             ],
             [
              1.0,
              "#f0f921"
             ]
            ]
           }
          ],
          "heatmap": [
           {
            "type": "heatmap",
            "colorbar": {
             "outlinewidth": 0,
             "ticks": ""
            },
            "colorscale": [
             [
              0.0,
              "#0d0887"
             ],
             [
              0.1111111111111111,
              "#46039f"
             ],
             [
              0.2222222222222222,
              "#7201a8"
             ],
             [
              0.3333333333333333,
              "#9c179e"
             ],
             [
              0.4444444444444444,
              "#bd3786"
             ],
             [
              0.5555555555555556,
              "#d8576b"
             ],
             [
              0.6666666666666666,
              "#ed7953"
             ],
             [
              0.7777777777777778,
              "#fb9f3a"
             ],
             [
              0.8888888888888888,
              "#fdca26"
             ],
             [
              1.0,
              "#f0f921"
             ]
            ]
           }
          ],
          "heatmapgl": [
           {
            "type": "heatmapgl",
            "colorbar": {
             "outlinewidth": 0,
             "ticks": ""
            },
            "colorscale": [
             [
              0.0,
              "#0d0887"
             ],
             [
              0.1111111111111111,
              "#46039f"
             ],
             [
              0.2222222222222222,
              "#7201a8"
             ],
             [
              0.3333333333333333,
              "#9c179e"
             ],
             [
              0.4444444444444444,
              "#bd3786"
             ],
             [
              0.5555555555555556,
              "#d8576b"
             ],
             [
              0.6666666666666666,
              "#ed7953"
             ],
             [
              0.7777777777777778,
              "#fb9f3a"
             ],
             [
              0.8888888888888888,
              "#fdca26"
             ],
             [
              1.0,
              "#f0f921"
             ]
            ]
           }
          ],
          "contourcarpet": [
           {
            "type": "contourcarpet",
            "colorbar": {
             "outlinewidth": 0,
             "ticks": ""
            }
           }
          ],
          "contour": [
           {
            "type": "contour",
            "colorbar": {
             "outlinewidth": 0,
             "ticks": ""
            },
            "colorscale": [
             [
              0.0,
              "#0d0887"
             ],
             [
              0.1111111111111111,
              "#46039f"
             ],
             [
              0.2222222222222222,
              "#7201a8"
             ],
             [
              0.3333333333333333,
              "#9c179e"
             ],
             [
              0.4444444444444444,
              "#bd3786"
             ],
             [
              0.5555555555555556,
              "#d8576b"
             ],
             [
              0.6666666666666666,
              "#ed7953"
             ],
             [
              0.7777777777777778,
              "#fb9f3a"
             ],
             [
              0.8888888888888888,
              "#fdca26"
             ],
             [
              1.0,
              "#f0f921"
             ]
            ]
           }
          ],
          "surface": [
           {
            "type": "surface",
            "colorbar": {
             "outlinewidth": 0,
             "ticks": ""
            },
            "colorscale": [
             [
              0.0,
              "#0d0887"
             ],
             [
              0.1111111111111111,
              "#46039f"
             ],
             [
              0.2222222222222222,
              "#7201a8"
             ],
             [
              0.3333333333333333,
              "#9c179e"
             ],
             [
              0.4444444444444444,
              "#bd3786"
             ],
             [
              0.5555555555555556,
              "#d8576b"
             ],
             [
              0.6666666666666666,
              "#ed7953"
             ],
             [
              0.7777777777777778,
              "#fb9f3a"
             ],
             [
              0.8888888888888888,
              "#fdca26"
             ],
             [
              1.0,
              "#f0f921"
             ]
            ]
           }
          ],
          "mesh3d": [
           {
            "type": "mesh3d",
            "colorbar": {
             "outlinewidth": 0,
             "ticks": ""
            }
           }
          ],
          "scatter": [
           {
            "fillpattern": {
             "fillmode": "overlay",
             "size": 10,
             "solidity": 0.2
            },
            "type": "scatter"
           }
          ],
          "parcoords": [
           {
            "type": "parcoords",
            "line": {
             "colorbar": {
              "outlinewidth": 0,
              "ticks": ""
             }
            }
           }
          ],
          "scatterpolargl": [
           {
            "type": "scatterpolargl",
            "marker": {
             "colorbar": {
              "outlinewidth": 0,
              "ticks": ""
             }
            }
           }
          ],
          "bar": [
           {
            "error_x": {
             "color": "#2a3f5f"
            },
            "error_y": {
             "color": "#2a3f5f"
            },
            "marker": {
             "line": {
              "color": "#E5ECF6",
              "width": 0.5
             },
             "pattern": {
              "fillmode": "overlay",
              "size": 10,
              "solidity": 0.2
             }
            },
            "type": "bar"
           }
          ],
          "scattergeo": [
           {
            "type": "scattergeo",
            "marker": {
             "colorbar": {
              "outlinewidth": 0,
              "ticks": ""
             }
            }
           }
          ],
          "scatterpolar": [
           {
            "type": "scatterpolar",
            "marker": {
             "colorbar": {
              "outlinewidth": 0,
              "ticks": ""
             }
            }
           }
          ],
          "histogram": [
           {
            "marker": {
             "pattern": {
              "fillmode": "overlay",
              "size": 10,
              "solidity": 0.2
             }
            },
            "type": "histogram"
           }
          ],
          "scattergl": [
           {
            "type": "scattergl",
            "marker": {
             "colorbar": {
              "outlinewidth": 0,
              "ticks": ""
             }
            }
           }
          ],
          "scatter3d": [
           {
            "type": "scatter3d",
            "line": {
             "colorbar": {
              "outlinewidth": 0,
              "ticks": ""
             }
            },
            "marker": {
             "colorbar": {
              "outlinewidth": 0,
              "ticks": ""
             }
            }
           }
          ],
          "scattermapbox": [
           {
            "type": "scattermapbox",
            "marker": {
             "colorbar": {
              "outlinewidth": 0,
              "ticks": ""
             }
            }
           }
          ],
          "scatterternary": [
           {
            "type": "scatterternary",
            "marker": {
             "colorbar": {
              "outlinewidth": 0,
              "ticks": ""
             }
            }
           }
          ],
          "scattercarpet": [
           {
            "type": "scattercarpet",
            "marker": {
             "colorbar": {
              "outlinewidth": 0,
              "ticks": ""
             }
            }
           }
          ],
          "carpet": [
           {
            "aaxis": {
             "endlinecolor": "#2a3f5f",
             "gridcolor": "white",
             "linecolor": "white",
             "minorgridcolor": "white",
             "startlinecolor": "#2a3f5f"
            },
            "baxis": {
             "endlinecolor": "#2a3f5f",
             "gridcolor": "white",
             "linecolor": "white",
             "minorgridcolor": "white",
             "startlinecolor": "#2a3f5f"
            },
            "type": "carpet"
           }
          ],
          "table": [
           {
            "cells": {
             "fill": {
              "color": "#EBF0F8"
             },
             "line": {
              "color": "white"
             }
            },
            "header": {
             "fill": {
              "color": "#C8D4E3"
             },
             "line": {
              "color": "white"
             }
            },
            "type": "table"
           }
          ],
          "barpolar": [
           {
            "marker": {
             "line": {
              "color": "#E5ECF6",
              "width": 0.5
             },
             "pattern": {
              "fillmode": "overlay",
              "size": 10,
              "solidity": 0.2
             }
            },
            "type": "barpolar"
           }
          ],
          "pie": [
           {
            "automargin": true,
            "type": "pie"
           }
          ]
         },
         "layout": {
          "autotypenumbers": "strict",
          "colorway": [
           "#636efa",
           "#EF553B",
           "#00cc96",
           "#ab63fa",
           "#FFA15A",
           "#19d3f3",
           "#FF6692",
           "#B6E880",
           "#FF97FF",
           "#FECB52"
          ],
          "font": {
           "color": "#2a3f5f"
          },
          "hovermode": "closest",
          "hoverlabel": {
           "align": "left"
          },
          "paper_bgcolor": "white",
          "plot_bgcolor": "#E5ECF6",
          "polar": {
           "bgcolor": "#E5ECF6",
           "angularaxis": {
            "gridcolor": "white",
            "linecolor": "white",
            "ticks": ""
           },
           "radialaxis": {
            "gridcolor": "white",
            "linecolor": "white",
            "ticks": ""
           }
          },
          "ternary": {
           "bgcolor": "#E5ECF6",
           "aaxis": {
            "gridcolor": "white",
            "linecolor": "white",
            "ticks": ""
           },
           "baxis": {
            "gridcolor": "white",
            "linecolor": "white",
            "ticks": ""
           },
           "caxis": {
            "gridcolor": "white",
            "linecolor": "white",
            "ticks": ""
           }
          },
          "coloraxis": {
           "colorbar": {
            "outlinewidth": 0,
            "ticks": ""
           }
          },
          "colorscale": {
           "sequential": [
            [
             0.0,
             "#0d0887"
            ],
            [
             0.1111111111111111,
             "#46039f"
            ],
            [
             0.2222222222222222,
             "#7201a8"
            ],
            [
             0.3333333333333333,
             "#9c179e"
            ],
            [
             0.4444444444444444,
             "#bd3786"
            ],
            [
             0.5555555555555556,
             "#d8576b"
            ],
            [
             0.6666666666666666,
             "#ed7953"
            ],
            [
             0.7777777777777778,
             "#fb9f3a"
            ],
            [
             0.8888888888888888,
             "#fdca26"
            ],
            [
             1.0,
             "#f0f921"
            ]
           ],
           "sequentialminus": [
            [
             0.0,
             "#0d0887"
            ],
            [
             0.1111111111111111,
             "#46039f"
            ],
            [
             0.2222222222222222,
             "#7201a8"
            ],
            [
             0.3333333333333333,
             "#9c179e"
            ],
            [
             0.4444444444444444,
             "#bd3786"
            ],
            [
             0.5555555555555556,
             "#d8576b"
            ],
            [
             0.6666666666666666,
             "#ed7953"
            ],
            [
             0.7777777777777778,
             "#fb9f3a"
            ],
            [
             0.8888888888888888,
             "#fdca26"
            ],
            [
             1.0,
             "#f0f921"
            ]
           ],
           "diverging": [
            [
             0,
             "#8e0152"
            ],
            [
             0.1,
             "#c51b7d"
            ],
            [
             0.2,
             "#de77ae"
            ],
            [
             0.3,
             "#f1b6da"
            ],
            [
             0.4,
             "#fde0ef"
            ],
            [
             0.5,
             "#f7f7f7"
            ],
            [
             0.6,
             "#e6f5d0"
            ],
            [
             0.7,
             "#b8e186"
            ],
            [
             0.8,
             "#7fbc41"
            ],
            [
             0.9,
             "#4d9221"
            ],
            [
             1,
             "#276419"
            ]
           ]
          },
          "xaxis": {
           "gridcolor": "white",
           "linecolor": "white",
           "ticks": "",
           "title": {
            "standoff": 15
           },
           "zerolinecolor": "white",
           "automargin": true,
           "zerolinewidth": 2
          },
          "yaxis": {
           "gridcolor": "white",
           "linecolor": "white",
           "ticks": "",
           "title": {
            "standoff": 15
           },
           "zerolinecolor": "white",
           "automargin": true,
           "zerolinewidth": 2
          },
          "scene": {
           "xaxis": {
            "backgroundcolor": "#E5ECF6",
            "gridcolor": "white",
            "linecolor": "white",
            "showbackground": true,
            "ticks": "",
            "zerolinecolor": "white",
            "gridwidth": 2
           },
           "yaxis": {
            "backgroundcolor": "#E5ECF6",
            "gridcolor": "white",
            "linecolor": "white",
            "showbackground": true,
            "ticks": "",
            "zerolinecolor": "white",
            "gridwidth": 2
           },
           "zaxis": {
            "backgroundcolor": "#E5ECF6",
            "gridcolor": "white",
            "linecolor": "white",
            "showbackground": true,
            "ticks": "",
            "zerolinecolor": "white",
            "gridwidth": 2
           }
          },
          "shapedefaults": {
           "line": {
            "color": "#2a3f5f"
           }
          },
          "annotationdefaults": {
           "arrowcolor": "#2a3f5f",
           "arrowhead": 0,
           "arrowwidth": 1
          },
          "geo": {
           "bgcolor": "white",
           "landcolor": "#E5ECF6",
           "subunitcolor": "white",
           "showland": true,
           "showlakes": true,
           "lakecolor": "white"
          },
          "title": {
           "x": 0.05
          },
          "mapbox": {
           "style": "light"
          }
         }
        },
        "margin": {
         "l": 20,
         "r": 20,
         "t": 20,
         "b": 20
        },
        "font": {
         "color": "black"
        },
        "height": 600,
        "width": 600,
        "paper_bgcolor": "white",
        "plot_bgcolor": "white",
        "showlegend": false
       },
       "config": {
        "plotlyServerURL": "https://plot.ly"
       }
      },
      "text/html": [
       "<div>                            <div id=\"d089e234-4555-4f31-a9d1-e73284ae6250\" class=\"plotly-graph-div\" style=\"height:600px; width:600px;\"></div>            <script type=\"text/javascript\">                require([\"plotly\"], function(Plotly) {                    window.PLOTLYENV=window.PLOTLYENV || {};                                    if (document.getElementById(\"d089e234-4555-4f31-a9d1-e73284ae6250\")) {                    Plotly.newPlot(                        \"d089e234-4555-4f31-a9d1-e73284ae6250\",                        [{\"hole\":0.3,\"insidetextorientation\":\"radial\",\"labels\":[\"BMI\",\"7984.T\",\"AGYS\",\"NVDA\",\"7944.T\",\"7433.T\",\"2760.T\",\"7552.T\",\"6417.T\",\"LRN\",\"9101.T\",\"8129.T\",\"SFM\",\"3191.T\",\"7451.T\",\"PLUS.L\",\"9697.T\",\"PGR\",\"9433.T\",\"Other(35)\"],\"textinfo\":\"label+percent\",\"textposition\":\"inside\",\"values\":[0.0167,0.0175,0.016,0.0497,0.0269,0.0216,0.0281,0.0351,0.0228,0.0319,0.0206,0.0323,0.0229,0.0199,0.0226,0.05,0.0185,0.0181,0.0219,0.2918],\"type\":\"pie\"}],                        {\"template\":{\"data\":{\"histogram2dcontour\":[{\"type\":\"histogram2dcontour\",\"colorbar\":{\"outlinewidth\":0,\"ticks\":\"\"},\"colorscale\":[[0.0,\"#0d0887\"],[0.1111111111111111,\"#46039f\"],[0.2222222222222222,\"#7201a8\"],[0.3333333333333333,\"#9c179e\"],[0.4444444444444444,\"#bd3786\"],[0.5555555555555556,\"#d8576b\"],[0.6666666666666666,\"#ed7953\"],[0.7777777777777778,\"#fb9f3a\"],[0.8888888888888888,\"#fdca26\"],[1.0,\"#f0f921\"]]}],\"choropleth\":[{\"type\":\"choropleth\",\"colorbar\":{\"outlinewidth\":0,\"ticks\":\"\"}}],\"histogram2d\":[{\"type\":\"histogram2d\",\"colorbar\":{\"outlinewidth\":0,\"ticks\":\"\"},\"colorscale\":[[0.0,\"#0d0887\"],[0.1111111111111111,\"#46039f\"],[0.2222222222222222,\"#7201a8\"],[0.3333333333333333,\"#9c179e\"],[0.4444444444444444,\"#bd3786\"],[0.5555555555555556,\"#d8576b\"],[0.6666666666666666,\"#ed7953\"],[0.7777777777777778,\"#fb9f3a\"],[0.8888888888888888,\"#fdca26\"],[1.0,\"#f0f921\"]]}],\"heatmap\":[{\"type\":\"heatmap\",\"colorbar\":{\"outlinewidth\":0,\"ticks\":\"\"},\"colorscale\":[[0.0,\"#0d0887\"],[0.1111111111111111,\"#46039f\"],[0.2222222222222222,\"#7201a8\"],[0.3333333333333333,\"#9c179e\"],[0.4444444444444444,\"#bd3786\"],[0.5555555555555556,\"#d8576b\"],[0.6666666666666666,\"#ed7953\"],[0.7777777777777778,\"#fb9f3a\"],[0.8888888888888888,\"#fdca26\"],[1.0,\"#f0f921\"]]}],\"heatmapgl\":[{\"type\":\"heatmapgl\",\"colorbar\":{\"outlinewidth\":0,\"ticks\":\"\"},\"colorscale\":[[0.0,\"#0d0887\"],[0.1111111111111111,\"#46039f\"],[0.2222222222222222,\"#7201a8\"],[0.3333333333333333,\"#9c179e\"],[0.4444444444444444,\"#bd3786\"],[0.5555555555555556,\"#d8576b\"],[0.6666666666666666,\"#ed7953\"],[0.7777777777777778,\"#fb9f3a\"],[0.8888888888888888,\"#fdca26\"],[1.0,\"#f0f921\"]]}],\"contourcarpet\":[{\"type\":\"contourcarpet\",\"colorbar\":{\"outlinewidth\":0,\"ticks\":\"\"}}],\"contour\":[{\"type\":\"contour\",\"colorbar\":{\"outlinewidth\":0,\"ticks\":\"\"},\"colorscale\":[[0.0,\"#0d0887\"],[0.1111111111111111,\"#46039f\"],[0.2222222222222222,\"#7201a8\"],[0.3333333333333333,\"#9c179e\"],[0.4444444444444444,\"#bd3786\"],[0.5555555555555556,\"#d8576b\"],[0.6666666666666666,\"#ed7953\"],[0.7777777777777778,\"#fb9f3a\"],[0.8888888888888888,\"#fdca26\"],[1.0,\"#f0f921\"]]}],\"surface\":[{\"type\":\"surface\",\"colorbar\":{\"outlinewidth\":0,\"ticks\":\"\"},\"colorscale\":[[0.0,\"#0d0887\"],[0.1111111111111111,\"#46039f\"],[0.2222222222222222,\"#7201a8\"],[0.3333333333333333,\"#9c179e\"],[0.4444444444444444,\"#bd3786\"],[0.5555555555555556,\"#d8576b\"],[0.6666666666666666,\"#ed7953\"],[0.7777777777777778,\"#fb9f3a\"],[0.8888888888888888,\"#fdca26\"],[1.0,\"#f0f921\"]]}],\"mesh3d\":[{\"type\":\"mesh3d\",\"colorbar\":{\"outlinewidth\":0,\"ticks\":\"\"}}],\"scatter\":[{\"fillpattern\":{\"fillmode\":\"overlay\",\"size\":10,\"solidity\":0.2},\"type\":\"scatter\"}],\"parcoords\":[{\"type\":\"parcoords\",\"line\":{\"colorbar\":{\"outlinewidth\":0,\"ticks\":\"\"}}}],\"scatterpolargl\":[{\"type\":\"scatterpolargl\",\"marker\":{\"colorbar\":{\"outlinewidth\":0,\"ticks\":\"\"}}}],\"bar\":[{\"error_x\":{\"color\":\"#2a3f5f\"},\"error_y\":{\"color\":\"#2a3f5f\"},\"marker\":{\"line\":{\"color\":\"#E5ECF6\",\"width\":0.5},\"pattern\":{\"fillmode\":\"overlay\",\"size\":10,\"solidity\":0.2}},\"type\":\"bar\"}],\"scattergeo\":[{\"type\":\"scattergeo\",\"marker\":{\"colorbar\":{\"outlinewidth\":0,\"ticks\":\"\"}}}],\"scatterpolar\":[{\"type\":\"scatterpolar\",\"marker\":{\"colorbar\":{\"outlinewidth\":0,\"ticks\":\"\"}}}],\"histogram\":[{\"marker\":{\"pattern\":{\"fillmode\":\"overlay\",\"size\":10,\"solidity\":0.2}},\"type\":\"histogram\"}],\"scattergl\":[{\"type\":\"scattergl\",\"marker\":{\"colorbar\":{\"outlinewidth\":0,\"ticks\":\"\"}}}],\"scatter3d\":[{\"type\":\"scatter3d\",\"line\":{\"colorbar\":{\"outlinewidth\":0,\"ticks\":\"\"}},\"marker\":{\"colorbar\":{\"outlinewidth\":0,\"ticks\":\"\"}}}],\"scattermapbox\":[{\"type\":\"scattermapbox\",\"marker\":{\"colorbar\":{\"outlinewidth\":0,\"ticks\":\"\"}}}],\"scatterternary\":[{\"type\":\"scatterternary\",\"marker\":{\"colorbar\":{\"outlinewidth\":0,\"ticks\":\"\"}}}],\"scattercarpet\":[{\"type\":\"scattercarpet\",\"marker\":{\"colorbar\":{\"outlinewidth\":0,\"ticks\":\"\"}}}],\"carpet\":[{\"aaxis\":{\"endlinecolor\":\"#2a3f5f\",\"gridcolor\":\"white\",\"linecolor\":\"white\",\"minorgridcolor\":\"white\",\"startlinecolor\":\"#2a3f5f\"},\"baxis\":{\"endlinecolor\":\"#2a3f5f\",\"gridcolor\":\"white\",\"linecolor\":\"white\",\"minorgridcolor\":\"white\",\"startlinecolor\":\"#2a3f5f\"},\"type\":\"carpet\"}],\"table\":[{\"cells\":{\"fill\":{\"color\":\"#EBF0F8\"},\"line\":{\"color\":\"white\"}},\"header\":{\"fill\":{\"color\":\"#C8D4E3\"},\"line\":{\"color\":\"white\"}},\"type\":\"table\"}],\"barpolar\":[{\"marker\":{\"line\":{\"color\":\"#E5ECF6\",\"width\":0.5},\"pattern\":{\"fillmode\":\"overlay\",\"size\":10,\"solidity\":0.2}},\"type\":\"barpolar\"}],\"pie\":[{\"automargin\":true,\"type\":\"pie\"}]},\"layout\":{\"autotypenumbers\":\"strict\",\"colorway\":[\"#636efa\",\"#EF553B\",\"#00cc96\",\"#ab63fa\",\"#FFA15A\",\"#19d3f3\",\"#FF6692\",\"#B6E880\",\"#FF97FF\",\"#FECB52\"],\"font\":{\"color\":\"#2a3f5f\"},\"hovermode\":\"closest\",\"hoverlabel\":{\"align\":\"left\"},\"paper_bgcolor\":\"white\",\"plot_bgcolor\":\"#E5ECF6\",\"polar\":{\"bgcolor\":\"#E5ECF6\",\"angularaxis\":{\"gridcolor\":\"white\",\"linecolor\":\"white\",\"ticks\":\"\"},\"radialaxis\":{\"gridcolor\":\"white\",\"linecolor\":\"white\",\"ticks\":\"\"}},\"ternary\":{\"bgcolor\":\"#E5ECF6\",\"aaxis\":{\"gridcolor\":\"white\",\"linecolor\":\"white\",\"ticks\":\"\"},\"baxis\":{\"gridcolor\":\"white\",\"linecolor\":\"white\",\"ticks\":\"\"},\"caxis\":{\"gridcolor\":\"white\",\"linecolor\":\"white\",\"ticks\":\"\"}},\"coloraxis\":{\"colorbar\":{\"outlinewidth\":0,\"ticks\":\"\"}},\"colorscale\":{\"sequential\":[[0.0,\"#0d0887\"],[0.1111111111111111,\"#46039f\"],[0.2222222222222222,\"#7201a8\"],[0.3333333333333333,\"#9c179e\"],[0.4444444444444444,\"#bd3786\"],[0.5555555555555556,\"#d8576b\"],[0.6666666666666666,\"#ed7953\"],[0.7777777777777778,\"#fb9f3a\"],[0.8888888888888888,\"#fdca26\"],[1.0,\"#f0f921\"]],\"sequentialminus\":[[0.0,\"#0d0887\"],[0.1111111111111111,\"#46039f\"],[0.2222222222222222,\"#7201a8\"],[0.3333333333333333,\"#9c179e\"],[0.4444444444444444,\"#bd3786\"],[0.5555555555555556,\"#d8576b\"],[0.6666666666666666,\"#ed7953\"],[0.7777777777777778,\"#fb9f3a\"],[0.8888888888888888,\"#fdca26\"],[1.0,\"#f0f921\"]],\"diverging\":[[0,\"#8e0152\"],[0.1,\"#c51b7d\"],[0.2,\"#de77ae\"],[0.3,\"#f1b6da\"],[0.4,\"#fde0ef\"],[0.5,\"#f7f7f7\"],[0.6,\"#e6f5d0\"],[0.7,\"#b8e186\"],[0.8,\"#7fbc41\"],[0.9,\"#4d9221\"],[1,\"#276419\"]]},\"xaxis\":{\"gridcolor\":\"white\",\"linecolor\":\"white\",\"ticks\":\"\",\"title\":{\"standoff\":15},\"zerolinecolor\":\"white\",\"automargin\":true,\"zerolinewidth\":2},\"yaxis\":{\"gridcolor\":\"white\",\"linecolor\":\"white\",\"ticks\":\"\",\"title\":{\"standoff\":15},\"zerolinecolor\":\"white\",\"automargin\":true,\"zerolinewidth\":2},\"scene\":{\"xaxis\":{\"backgroundcolor\":\"#E5ECF6\",\"gridcolor\":\"white\",\"linecolor\":\"white\",\"showbackground\":true,\"ticks\":\"\",\"zerolinecolor\":\"white\",\"gridwidth\":2},\"yaxis\":{\"backgroundcolor\":\"#E5ECF6\",\"gridcolor\":\"white\",\"linecolor\":\"white\",\"showbackground\":true,\"ticks\":\"\",\"zerolinecolor\":\"white\",\"gridwidth\":2},\"zaxis\":{\"backgroundcolor\":\"#E5ECF6\",\"gridcolor\":\"white\",\"linecolor\":\"white\",\"showbackground\":true,\"ticks\":\"\",\"zerolinecolor\":\"white\",\"gridwidth\":2}},\"shapedefaults\":{\"line\":{\"color\":\"#2a3f5f\"}},\"annotationdefaults\":{\"arrowcolor\":\"#2a3f5f\",\"arrowhead\":0,\"arrowwidth\":1},\"geo\":{\"bgcolor\":\"white\",\"landcolor\":\"#E5ECF6\",\"subunitcolor\":\"white\",\"showland\":true,\"showlakes\":true,\"lakecolor\":\"white\"},\"title\":{\"x\":0.05},\"mapbox\":{\"style\":\"light\"}}},\"margin\":{\"l\":20,\"r\":20,\"t\":20,\"b\":20},\"font\":{\"color\":\"black\"},\"height\":600,\"width\":600,\"paper_bgcolor\":\"white\",\"plot_bgcolor\":\"white\",\"showlegend\":false},                        {\"responsive\": true}                    ).then(function(){\n",
       "                            \n",
       "var gd = document.getElementById('d089e234-4555-4f31-a9d1-e73284ae6250');\n",
       "var x = new MutationObserver(function (mutations, observer) {{\n",
       "        var display = window.getComputedStyle(gd).display;\n",
       "        if (!display || display === 'none') {{\n",
       "            console.log([gd, 'removed!']);\n",
       "            Plotly.purge(gd);\n",
       "            observer.disconnect();\n",
       "        }}\n",
       "}});\n",
       "\n",
       "// Listen for the removal of the full notebook cells\n",
       "var notebookContainer = gd.closest('#notebook-container');\n",
       "if (notebookContainer) {{\n",
       "    x.observe(notebookContainer, {childList: true});\n",
       "}}\n",
       "\n",
       "// Listen for the clearing of the current output cell\n",
       "var outputEl = gd.closest('.output');\n",
       "if (outputEl) {{\n",
       "    x.observe(outputEl, {childList: true});\n",
       "}}\n",
       "\n",
       "                        })                };                });            </script>        </div>"
      ]
     },
     "metadata": {},
     "output_type": "display_data"
    }
   ],
   "execution_count": 131
  },
  {
   "metadata": {},
   "cell_type": "markdown",
   "source": "#### Overview",
   "id": "5e9d2d227f7b770"
  },
  {
   "metadata": {},
   "cell_type": "markdown",
   "source": "#### Overview - 1 Month",
   "id": "cbe026bfa39eeb8"
  },
  {
   "metadata": {
    "ExecuteTime": {
     "end_time": "2025-06-14T09:09:12.677792Z",
     "start_time": "2025-06-14T09:09:12.661742Z"
    }
   },
   "cell_type": "code",
   "source": [
    "importlib.reload(mpt_utils)\n",
    "# Create overview\n",
    "mpt_utils.generate_overview_table(weights_all_1m, mu_1m, S_1m, df_pct)"
   ],
   "id": "4125fd745fbddd6a",
   "outputs": [
    {
     "data": {
      "text/plain": [
       "        Share Count  Average Covariance Average Returns Return Last 12 Months  \\\n",
       "PLUS.L            1           -0.016038          32.15%               -32.76%   \n",
       "NVDA              4            0.105849          17.77%                -3.33%   \n",
       "7552.T           13            0.032642          13.09%               -17.65%   \n",
       "8129.T            9           -0.028491          27.89%                -5.74%   \n",
       "LRN               5           -0.068113          31.16%                -8.93%   \n",
       "2760.T           11            0.056792          18.39%                 9.08%   \n",
       "7944.T           11           -0.321698          34.80%              -467.40%   \n",
       "SFM               2            0.045660          30.31%               -28.03%   \n",
       "6417.T           16            0.033962          35.14%                -8.82%   \n",
       "7451.T            6            0.016604          94.00%                -3.79%   \n",
       "9433.T            6            0.017358           2.35%                11.47%   \n",
       "7433.T            6            0.104340          88.12%                 4.96%   \n",
       "9101.T            5            0.250000          40.41%                11.01%   \n",
       "3191.T           15            0.006038          22.67%               -12.71%   \n",
       "9697.T           10            0.064151          -1.75%                11.14%   \n",
       "PGR               1            0.036226          47.55%                 4.44%   \n",
       "7984.T           11            0.034528          29.73%                -9.42%   \n",
       "BMI               1            0.095283          13.77%                18.21%   \n",
       "AGYS              1            0.133019          14.00%                50.97%   \n",
       "8114.T            5            0.087358          22.53%               -51.87%   \n",
       "7974.T            2            0.018491          18.66%                13.37%   \n",
       "7868.T           46            0.123396          28.02%                55.03%   \n",
       "8022.T            2            0.102642          14.44%                 9.75%   \n",
       "1911.T            3            0.097358          26.13%                -1.90%   \n",
       "PECO              3           -0.327170          39.60%               -16.35%   \n",
       "3659.T            7           -0.000755          59.02%                -1.83%   \n",
       "9107.T            6            0.303019          24.23%                 7.72%   \n",
       "CPRX              7            0.068679          69.40%                58.04%   \n",
       "2767.T            7            0.185283          57.63%               -34.83%   \n",
       "9413.T            4            0.030000          65.07%               -11.09%   \n",
       "3050.T           11            0.004528           9.12%                 1.46%   \n",
       "7734.T            3            0.057547           5.63%                -3.87%   \n",
       "6430.T            3            0.085283          15.22%                -0.95%   \n",
       "1973.T            4            0.059434          39.21%                45.25%   \n",
       "BIRK              1           -0.030943          11.57%                -9.67%   \n",
       "8060.T            2            0.054717          22.94%                11.20%   \n",
       "FINV             16            0.105094          28.04%               -48.75%   \n",
       "2670.T            3            0.046415          31.96%                14.00%   \n",
       "4980.T            1            0.165660          30.74%                 2.76%   \n",
       "8012.T            2            0.080566          13.95%                -3.62%   \n",
       "9434.T            4            0.030189          17.62%                13.48%   \n",
       "6460.T            4            0.050943          16.67%                 9.46%   \n",
       "8283.T            2           -0.010000          19.47%                -5.83%   \n",
       "4812.T            1            0.090566          82.19%                 1.13%   \n",
       "7906.T            4            0.146038          36.79%                -8.97%   \n",
       "BBW               1            0.206981          35.93%               -59.69%   \n",
       "2733.T            2            0.048113          20.98%               -20.01%   \n",
       "OMI               3           -0.070377          14.98%               -13.53%   \n",
       "9882.T            2            0.062830          62.23%                33.56%   \n",
       "PMTS              2            0.232075          14.50%               -35.23%   \n",
       "8309.T            1            0.077925          18.06%                -8.78%   \n",
       "7994.T            2            0.089057          28.49%               -26.24%   \n",
       "8803.T            1            0.053396          16.13%                27.23%   \n",
       "7599.T            1            0.095660           8.60%                23.76%   \n",
       "\n",
       "       Return (Actual) Next 12 Months  \n",
       "PLUS.L                        131.69%  \n",
       "NVDA                          209.80%  \n",
       "7552.T                         18.02%  \n",
       "8129.T                         -9.19%  \n",
       "LRN                            -0.92%  \n",
       "2760.T                         61.83%  \n",
       "7944.T                        876.44%  \n",
       "SFM                             9.26%  \n",
       "6417.T                        -23.01%  \n",
       "7451.T                          4.61%  \n",
       "9433.T                         -3.12%  \n",
       "7433.T                         -1.26%  \n",
       "9101.T                          5.06%  \n",
       "3191.T                         26.92%  \n",
       "9697.T                        102.53%  \n",
       "PGR                            27.78%  \n",
       "7984.T                        -10.01%  \n",
       "BMI                            22.71%  \n",
       "AGYS                           -6.46%  \n",
       "8114.T                         21.52%  \n",
       "7974.T                         55.63%  \n",
       "7868.T                         -6.98%  \n",
       "8022.T                        -30.99%  \n",
       "1911.T                         20.82%  \n",
       "PECO                           14.07%  \n",
       "3659.T                        105.09%  \n",
       "9107.T                         -5.79%  \n",
       "CPRX                          -44.43%  \n",
       "2767.T                        -30.65%  \n",
       "9413.T                         10.26%  \n",
       "3050.T                         40.24%  \n",
       "7734.T                         41.38%  \n",
       "6430.T                        -32.29%  \n",
       "1973.T                        111.09%  \n",
       "BIRK                           15.28%  \n",
       "8060.T                         -4.78%  \n",
       "FINV                          -31.45%  \n",
       "2670.T                        -17.63%  \n",
       "4980.T                         45.00%  \n",
       "8012.T                          0.23%  \n",
       "9434.T                        -15.15%  \n",
       "6460.T                        -14.53%  \n",
       "8283.T                          1.72%  \n",
       "4812.T                        102.21%  \n",
       "7906.T                         19.54%  \n",
       "BBW                           -20.85%  \n",
       "2733.T                         36.51%  \n",
       "OMI                           325.77%  \n",
       "9882.T                         14.10%  \n",
       "PMTS                          -24.72%  \n",
       "8309.T                        -26.10%  \n",
       "7994.T                        -27.22%  \n",
       "8803.T                         22.76%  \n",
       "7599.T                         36.01%  "
      ],
      "text/html": [
       "<div>\n",
       "<style scoped>\n",
       "    .dataframe tbody tr th:only-of-type {\n",
       "        vertical-align: middle;\n",
       "    }\n",
       "\n",
       "    .dataframe tbody tr th {\n",
       "        vertical-align: top;\n",
       "    }\n",
       "\n",
       "    .dataframe thead th {\n",
       "        text-align: right;\n",
       "    }\n",
       "</style>\n",
       "<table border=\"1\" class=\"dataframe\">\n",
       "  <thead>\n",
       "    <tr style=\"text-align: right;\">\n",
       "      <th></th>\n",
       "      <th>Share Count</th>\n",
       "      <th>Average Covariance</th>\n",
       "      <th>Average Returns</th>\n",
       "      <th>Return Last 12 Months</th>\n",
       "      <th>Return (Actual) Next 12 Months</th>\n",
       "    </tr>\n",
       "  </thead>\n",
       "  <tbody>\n",
       "    <tr>\n",
       "      <th>PLUS.L</th>\n",
       "      <td>1</td>\n",
       "      <td>-0.016038</td>\n",
       "      <td>32.15%</td>\n",
       "      <td>-32.76%</td>\n",
       "      <td>131.69%</td>\n",
       "    </tr>\n",
       "    <tr>\n",
       "      <th>NVDA</th>\n",
       "      <td>4</td>\n",
       "      <td>0.105849</td>\n",
       "      <td>17.77%</td>\n",
       "      <td>-3.33%</td>\n",
       "      <td>209.80%</td>\n",
       "    </tr>\n",
       "    <tr>\n",
       "      <th>7552.T</th>\n",
       "      <td>13</td>\n",
       "      <td>0.032642</td>\n",
       "      <td>13.09%</td>\n",
       "      <td>-17.65%</td>\n",
       "      <td>18.02%</td>\n",
       "    </tr>\n",
       "    <tr>\n",
       "      <th>8129.T</th>\n",
       "      <td>9</td>\n",
       "      <td>-0.028491</td>\n",
       "      <td>27.89%</td>\n",
       "      <td>-5.74%</td>\n",
       "      <td>-9.19%</td>\n",
       "    </tr>\n",
       "    <tr>\n",
       "      <th>LRN</th>\n",
       "      <td>5</td>\n",
       "      <td>-0.068113</td>\n",
       "      <td>31.16%</td>\n",
       "      <td>-8.93%</td>\n",
       "      <td>-0.92%</td>\n",
       "    </tr>\n",
       "    <tr>\n",
       "      <th>2760.T</th>\n",
       "      <td>11</td>\n",
       "      <td>0.056792</td>\n",
       "      <td>18.39%</td>\n",
       "      <td>9.08%</td>\n",
       "      <td>61.83%</td>\n",
       "    </tr>\n",
       "    <tr>\n",
       "      <th>7944.T</th>\n",
       "      <td>11</td>\n",
       "      <td>-0.321698</td>\n",
       "      <td>34.80%</td>\n",
       "      <td>-467.40%</td>\n",
       "      <td>876.44%</td>\n",
       "    </tr>\n",
       "    <tr>\n",
       "      <th>SFM</th>\n",
       "      <td>2</td>\n",
       "      <td>0.045660</td>\n",
       "      <td>30.31%</td>\n",
       "      <td>-28.03%</td>\n",
       "      <td>9.26%</td>\n",
       "    </tr>\n",
       "    <tr>\n",
       "      <th>6417.T</th>\n",
       "      <td>16</td>\n",
       "      <td>0.033962</td>\n",
       "      <td>35.14%</td>\n",
       "      <td>-8.82%</td>\n",
       "      <td>-23.01%</td>\n",
       "    </tr>\n",
       "    <tr>\n",
       "      <th>7451.T</th>\n",
       "      <td>6</td>\n",
       "      <td>0.016604</td>\n",
       "      <td>94.00%</td>\n",
       "      <td>-3.79%</td>\n",
       "      <td>4.61%</td>\n",
       "    </tr>\n",
       "    <tr>\n",
       "      <th>9433.T</th>\n",
       "      <td>6</td>\n",
       "      <td>0.017358</td>\n",
       "      <td>2.35%</td>\n",
       "      <td>11.47%</td>\n",
       "      <td>-3.12%</td>\n",
       "    </tr>\n",
       "    <tr>\n",
       "      <th>7433.T</th>\n",
       "      <td>6</td>\n",
       "      <td>0.104340</td>\n",
       "      <td>88.12%</td>\n",
       "      <td>4.96%</td>\n",
       "      <td>-1.26%</td>\n",
       "    </tr>\n",
       "    <tr>\n",
       "      <th>9101.T</th>\n",
       "      <td>5</td>\n",
       "      <td>0.250000</td>\n",
       "      <td>40.41%</td>\n",
       "      <td>11.01%</td>\n",
       "      <td>5.06%</td>\n",
       "    </tr>\n",
       "    <tr>\n",
       "      <th>3191.T</th>\n",
       "      <td>15</td>\n",
       "      <td>0.006038</td>\n",
       "      <td>22.67%</td>\n",
       "      <td>-12.71%</td>\n",
       "      <td>26.92%</td>\n",
       "    </tr>\n",
       "    <tr>\n",
       "      <th>9697.T</th>\n",
       "      <td>10</td>\n",
       "      <td>0.064151</td>\n",
       "      <td>-1.75%</td>\n",
       "      <td>11.14%</td>\n",
       "      <td>102.53%</td>\n",
       "    </tr>\n",
       "    <tr>\n",
       "      <th>PGR</th>\n",
       "      <td>1</td>\n",
       "      <td>0.036226</td>\n",
       "      <td>47.55%</td>\n",
       "      <td>4.44%</td>\n",
       "      <td>27.78%</td>\n",
       "    </tr>\n",
       "    <tr>\n",
       "      <th>7984.T</th>\n",
       "      <td>11</td>\n",
       "      <td>0.034528</td>\n",
       "      <td>29.73%</td>\n",
       "      <td>-9.42%</td>\n",
       "      <td>-10.01%</td>\n",
       "    </tr>\n",
       "    <tr>\n",
       "      <th>BMI</th>\n",
       "      <td>1</td>\n",
       "      <td>0.095283</td>\n",
       "      <td>13.77%</td>\n",
       "      <td>18.21%</td>\n",
       "      <td>22.71%</td>\n",
       "    </tr>\n",
       "    <tr>\n",
       "      <th>AGYS</th>\n",
       "      <td>1</td>\n",
       "      <td>0.133019</td>\n",
       "      <td>14.00%</td>\n",
       "      <td>50.97%</td>\n",
       "      <td>-6.46%</td>\n",
       "    </tr>\n",
       "    <tr>\n",
       "      <th>8114.T</th>\n",
       "      <td>5</td>\n",
       "      <td>0.087358</td>\n",
       "      <td>22.53%</td>\n",
       "      <td>-51.87%</td>\n",
       "      <td>21.52%</td>\n",
       "    </tr>\n",
       "    <tr>\n",
       "      <th>7974.T</th>\n",
       "      <td>2</td>\n",
       "      <td>0.018491</td>\n",
       "      <td>18.66%</td>\n",
       "      <td>13.37%</td>\n",
       "      <td>55.63%</td>\n",
       "    </tr>\n",
       "    <tr>\n",
       "      <th>7868.T</th>\n",
       "      <td>46</td>\n",
       "      <td>0.123396</td>\n",
       "      <td>28.02%</td>\n",
       "      <td>55.03%</td>\n",
       "      <td>-6.98%</td>\n",
       "    </tr>\n",
       "    <tr>\n",
       "      <th>8022.T</th>\n",
       "      <td>2</td>\n",
       "      <td>0.102642</td>\n",
       "      <td>14.44%</td>\n",
       "      <td>9.75%</td>\n",
       "      <td>-30.99%</td>\n",
       "    </tr>\n",
       "    <tr>\n",
       "      <th>1911.T</th>\n",
       "      <td>3</td>\n",
       "      <td>0.097358</td>\n",
       "      <td>26.13%</td>\n",
       "      <td>-1.90%</td>\n",
       "      <td>20.82%</td>\n",
       "    </tr>\n",
       "    <tr>\n",
       "      <th>PECO</th>\n",
       "      <td>3</td>\n",
       "      <td>-0.327170</td>\n",
       "      <td>39.60%</td>\n",
       "      <td>-16.35%</td>\n",
       "      <td>14.07%</td>\n",
       "    </tr>\n",
       "    <tr>\n",
       "      <th>3659.T</th>\n",
       "      <td>7</td>\n",
       "      <td>-0.000755</td>\n",
       "      <td>59.02%</td>\n",
       "      <td>-1.83%</td>\n",
       "      <td>105.09%</td>\n",
       "    </tr>\n",
       "    <tr>\n",
       "      <th>9107.T</th>\n",
       "      <td>6</td>\n",
       "      <td>0.303019</td>\n",
       "      <td>24.23%</td>\n",
       "      <td>7.72%</td>\n",
       "      <td>-5.79%</td>\n",
       "    </tr>\n",
       "    <tr>\n",
       "      <th>CPRX</th>\n",
       "      <td>7</td>\n",
       "      <td>0.068679</td>\n",
       "      <td>69.40%</td>\n",
       "      <td>58.04%</td>\n",
       "      <td>-44.43%</td>\n",
       "    </tr>\n",
       "    <tr>\n",
       "      <th>2767.T</th>\n",
       "      <td>7</td>\n",
       "      <td>0.185283</td>\n",
       "      <td>57.63%</td>\n",
       "      <td>-34.83%</td>\n",
       "      <td>-30.65%</td>\n",
       "    </tr>\n",
       "    <tr>\n",
       "      <th>9413.T</th>\n",
       "      <td>4</td>\n",
       "      <td>0.030000</td>\n",
       "      <td>65.07%</td>\n",
       "      <td>-11.09%</td>\n",
       "      <td>10.26%</td>\n",
       "    </tr>\n",
       "    <tr>\n",
       "      <th>3050.T</th>\n",
       "      <td>11</td>\n",
       "      <td>0.004528</td>\n",
       "      <td>9.12%</td>\n",
       "      <td>1.46%</td>\n",
       "      <td>40.24%</td>\n",
       "    </tr>\n",
       "    <tr>\n",
       "      <th>7734.T</th>\n",
       "      <td>3</td>\n",
       "      <td>0.057547</td>\n",
       "      <td>5.63%</td>\n",
       "      <td>-3.87%</td>\n",
       "      <td>41.38%</td>\n",
       "    </tr>\n",
       "    <tr>\n",
       "      <th>6430.T</th>\n",
       "      <td>3</td>\n",
       "      <td>0.085283</td>\n",
       "      <td>15.22%</td>\n",
       "      <td>-0.95%</td>\n",
       "      <td>-32.29%</td>\n",
       "    </tr>\n",
       "    <tr>\n",
       "      <th>1973.T</th>\n",
       "      <td>4</td>\n",
       "      <td>0.059434</td>\n",
       "      <td>39.21%</td>\n",
       "      <td>45.25%</td>\n",
       "      <td>111.09%</td>\n",
       "    </tr>\n",
       "    <tr>\n",
       "      <th>BIRK</th>\n",
       "      <td>1</td>\n",
       "      <td>-0.030943</td>\n",
       "      <td>11.57%</td>\n",
       "      <td>-9.67%</td>\n",
       "      <td>15.28%</td>\n",
       "    </tr>\n",
       "    <tr>\n",
       "      <th>8060.T</th>\n",
       "      <td>2</td>\n",
       "      <td>0.054717</td>\n",
       "      <td>22.94%</td>\n",
       "      <td>11.20%</td>\n",
       "      <td>-4.78%</td>\n",
       "    </tr>\n",
       "    <tr>\n",
       "      <th>FINV</th>\n",
       "      <td>16</td>\n",
       "      <td>0.105094</td>\n",
       "      <td>28.04%</td>\n",
       "      <td>-48.75%</td>\n",
       "      <td>-31.45%</td>\n",
       "    </tr>\n",
       "    <tr>\n",
       "      <th>2670.T</th>\n",
       "      <td>3</td>\n",
       "      <td>0.046415</td>\n",
       "      <td>31.96%</td>\n",
       "      <td>14.00%</td>\n",
       "      <td>-17.63%</td>\n",
       "    </tr>\n",
       "    <tr>\n",
       "      <th>4980.T</th>\n",
       "      <td>1</td>\n",
       "      <td>0.165660</td>\n",
       "      <td>30.74%</td>\n",
       "      <td>2.76%</td>\n",
       "      <td>45.00%</td>\n",
       "    </tr>\n",
       "    <tr>\n",
       "      <th>8012.T</th>\n",
       "      <td>2</td>\n",
       "      <td>0.080566</td>\n",
       "      <td>13.95%</td>\n",
       "      <td>-3.62%</td>\n",
       "      <td>0.23%</td>\n",
       "    </tr>\n",
       "    <tr>\n",
       "      <th>9434.T</th>\n",
       "      <td>4</td>\n",
       "      <td>0.030189</td>\n",
       "      <td>17.62%</td>\n",
       "      <td>13.48%</td>\n",
       "      <td>-15.15%</td>\n",
       "    </tr>\n",
       "    <tr>\n",
       "      <th>6460.T</th>\n",
       "      <td>4</td>\n",
       "      <td>0.050943</td>\n",
       "      <td>16.67%</td>\n",
       "      <td>9.46%</td>\n",
       "      <td>-14.53%</td>\n",
       "    </tr>\n",
       "    <tr>\n",
       "      <th>8283.T</th>\n",
       "      <td>2</td>\n",
       "      <td>-0.010000</td>\n",
       "      <td>19.47%</td>\n",
       "      <td>-5.83%</td>\n",
       "      <td>1.72%</td>\n",
       "    </tr>\n",
       "    <tr>\n",
       "      <th>4812.T</th>\n",
       "      <td>1</td>\n",
       "      <td>0.090566</td>\n",
       "      <td>82.19%</td>\n",
       "      <td>1.13%</td>\n",
       "      <td>102.21%</td>\n",
       "    </tr>\n",
       "    <tr>\n",
       "      <th>7906.T</th>\n",
       "      <td>4</td>\n",
       "      <td>0.146038</td>\n",
       "      <td>36.79%</td>\n",
       "      <td>-8.97%</td>\n",
       "      <td>19.54%</td>\n",
       "    </tr>\n",
       "    <tr>\n",
       "      <th>BBW</th>\n",
       "      <td>1</td>\n",
       "      <td>0.206981</td>\n",
       "      <td>35.93%</td>\n",
       "      <td>-59.69%</td>\n",
       "      <td>-20.85%</td>\n",
       "    </tr>\n",
       "    <tr>\n",
       "      <th>2733.T</th>\n",
       "      <td>2</td>\n",
       "      <td>0.048113</td>\n",
       "      <td>20.98%</td>\n",
       "      <td>-20.01%</td>\n",
       "      <td>36.51%</td>\n",
       "    </tr>\n",
       "    <tr>\n",
       "      <th>OMI</th>\n",
       "      <td>3</td>\n",
       "      <td>-0.070377</td>\n",
       "      <td>14.98%</td>\n",
       "      <td>-13.53%</td>\n",
       "      <td>325.77%</td>\n",
       "    </tr>\n",
       "    <tr>\n",
       "      <th>9882.T</th>\n",
       "      <td>2</td>\n",
       "      <td>0.062830</td>\n",
       "      <td>62.23%</td>\n",
       "      <td>33.56%</td>\n",
       "      <td>14.10%</td>\n",
       "    </tr>\n",
       "    <tr>\n",
       "      <th>PMTS</th>\n",
       "      <td>2</td>\n",
       "      <td>0.232075</td>\n",
       "      <td>14.50%</td>\n",
       "      <td>-35.23%</td>\n",
       "      <td>-24.72%</td>\n",
       "    </tr>\n",
       "    <tr>\n",
       "      <th>8309.T</th>\n",
       "      <td>1</td>\n",
       "      <td>0.077925</td>\n",
       "      <td>18.06%</td>\n",
       "      <td>-8.78%</td>\n",
       "      <td>-26.10%</td>\n",
       "    </tr>\n",
       "    <tr>\n",
       "      <th>7994.T</th>\n",
       "      <td>2</td>\n",
       "      <td>0.089057</td>\n",
       "      <td>28.49%</td>\n",
       "      <td>-26.24%</td>\n",
       "      <td>-27.22%</td>\n",
       "    </tr>\n",
       "    <tr>\n",
       "      <th>8803.T</th>\n",
       "      <td>1</td>\n",
       "      <td>0.053396</td>\n",
       "      <td>16.13%</td>\n",
       "      <td>27.23%</td>\n",
       "      <td>22.76%</td>\n",
       "    </tr>\n",
       "    <tr>\n",
       "      <th>7599.T</th>\n",
       "      <td>1</td>\n",
       "      <td>0.095660</td>\n",
       "      <td>8.60%</td>\n",
       "      <td>23.76%</td>\n",
       "      <td>36.01%</td>\n",
       "    </tr>\n",
       "  </tbody>\n",
       "</table>\n",
       "</div>"
      ]
     },
     "execution_count": 132,
     "metadata": {},
     "output_type": "execute_result"
    }
   ],
   "execution_count": 132
  },
  {
   "metadata": {},
   "cell_type": "markdown",
   "source": "## 6 Months\n",
   "id": "ebaa3b1a67bb1921"
  },
  {
   "metadata": {
    "ExecuteTime": {
     "end_time": "2025-06-14T09:09:20.098570Z",
     "start_time": "2025-06-14T09:09:12.699761Z"
    }
   },
   "cell_type": "code",
   "source": [
    "importlib.reload(train_test)\n",
    "importlib.reload(xgboost_utils)\n",
    "\n",
    "X_train, y_train, X_test, y_test, min_datestr = train_test.split_train_test_tabular(df_tabular_multi, months=60, target_key='m_return_target(t+6)')\n",
    "#\n",
    "model_6m, score_6m = xgboost_utils.get_xgboost_trained_model(X_train, y_train, X_test, y_test)"
   ],
   "id": "a2d055d2544d4f08",
   "outputs": [
    {
     "name": "stdout",
     "output_type": "stream",
     "text": [
      "[0]\tvalidation_0-rmse:5.08552\tvalidation_1-rmse:0.33372\n",
      "[1]\tvalidation_0-rmse:4.32331\tvalidation_1-rmse:0.33382\n",
      "[2]\tvalidation_0-rmse:3.67551\tvalidation_1-rmse:0.33357\n",
      "[3]\tvalidation_0-rmse:3.12503\tvalidation_1-rmse:0.33364\n",
      "[4]\tvalidation_0-rmse:2.65714\tvalidation_1-rmse:0.33393\n",
      "[5]\tvalidation_0-rmse:2.25967\tvalidation_1-rmse:0.33401\n",
      "[6]\tvalidation_0-rmse:1.92203\tvalidation_1-rmse:0.33409\n",
      "[7]\tvalidation_0-rmse:1.63525\tvalidation_1-rmse:0.33416\n",
      "[8]\tvalidation_0-rmse:1.39175\tvalidation_1-rmse:0.33419\n",
      "[9]\tvalidation_0-rmse:1.18560\tvalidation_1-rmse:0.33443\n",
      "[10]\tvalidation_0-rmse:1.01045\tvalidation_1-rmse:0.33489\n",
      "[11]\tvalidation_0-rmse:0.86236\tvalidation_1-rmse:0.33494\n",
      "[12]\tvalidation_0-rmse:0.73620\tvalidation_1-rmse:0.33505\n",
      "[13]\tvalidation_0-rmse:0.62987\tvalidation_1-rmse:0.33558\n",
      "[14]\tvalidation_0-rmse:0.54044\tvalidation_1-rmse:0.33587\n",
      "[15]\tvalidation_0-rmse:0.46523\tvalidation_1-rmse:0.33588\n",
      "[16]\tvalidation_0-rmse:0.40183\tvalidation_1-rmse:0.33604\n",
      "[17]\tvalidation_0-rmse:0.34918\tvalidation_1-rmse:0.33599\n",
      "[18]\tvalidation_0-rmse:0.30556\tvalidation_1-rmse:0.33601\n",
      "[19]\tvalidation_0-rmse:0.26968\tvalidation_1-rmse:0.33622\n",
      "[20]\tvalidation_0-rmse:0.24038\tvalidation_1-rmse:0.33618\n",
      "[21]\tvalidation_0-rmse:0.21668\tvalidation_1-rmse:0.33626\n",
      "[22]\tvalidation_0-rmse:0.19787\tvalidation_1-rmse:0.33633\n",
      "[23]\tvalidation_0-rmse:0.18095\tvalidation_1-rmse:0.33644\n",
      "[24]\tvalidation_0-rmse:0.16819\tvalidation_1-rmse:0.33651\n",
      "[25]\tvalidation_0-rmse:0.15949\tvalidation_1-rmse:0.33649\n",
      "[26]\tvalidation_0-rmse:0.15231\tvalidation_1-rmse:0.33657\n",
      "[27]\tvalidation_0-rmse:0.14662\tvalidation_1-rmse:0.33658\n",
      "[28]\tvalidation_0-rmse:0.14124\tvalidation_1-rmse:0.33664\n",
      "[29]\tvalidation_0-rmse:0.13827\tvalidation_1-rmse:0.33664\n",
      "[30]\tvalidation_0-rmse:0.13490\tvalidation_1-rmse:0.33663\n",
      "[31]\tvalidation_0-rmse:0.13258\tvalidation_1-rmse:0.33750\n",
      "[32]\tvalidation_0-rmse:0.12930\tvalidation_1-rmse:0.33759\n",
      "[33]\tvalidation_0-rmse:0.12727\tvalidation_1-rmse:0.33763\n",
      "[34]\tvalidation_0-rmse:0.12589\tvalidation_1-rmse:0.33785\n",
      "[35]\tvalidation_0-rmse:0.12487\tvalidation_1-rmse:0.33797\n",
      "[36]\tvalidation_0-rmse:0.12367\tvalidation_1-rmse:0.33808\n",
      "[37]\tvalidation_0-rmse:0.12304\tvalidation_1-rmse:0.33879\n",
      "[38]\tvalidation_0-rmse:0.12247\tvalidation_1-rmse:0.33882\n",
      "[39]\tvalidation_0-rmse:0.12214\tvalidation_1-rmse:0.33908\n",
      "[40]\tvalidation_0-rmse:0.12121\tvalidation_1-rmse:0.33906\n",
      "[41]\tvalidation_0-rmse:0.12090\tvalidation_1-rmse:0.33915\n",
      "[42]\tvalidation_0-rmse:0.12070\tvalidation_1-rmse:0.33956\n",
      "[43]\tvalidation_0-rmse:0.12043\tvalidation_1-rmse:0.33956\n",
      "[44]\tvalidation_0-rmse:0.11984\tvalidation_1-rmse:0.33966\n",
      "[45]\tvalidation_0-rmse:0.11906\tvalidation_1-rmse:0.33965\n",
      "[46]\tvalidation_0-rmse:0.11893\tvalidation_1-rmse:0.33971\n",
      "[47]\tvalidation_0-rmse:0.11866\tvalidation_1-rmse:0.33973\n",
      "[48]\tvalidation_0-rmse:0.11851\tvalidation_1-rmse:0.33981\n",
      "[49]\tvalidation_0-rmse:0.11826\tvalidation_1-rmse:0.33998\n",
      "[50]\tvalidation_0-rmse:0.11730\tvalidation_1-rmse:0.34046\n",
      "[51]\tvalidation_0-rmse:0.11589\tvalidation_1-rmse:0.34060\n",
      "[52]\tvalidation_0-rmse:0.11556\tvalidation_1-rmse:0.34094\n",
      "[53]\tvalidation_0-rmse:0.11500\tvalidation_1-rmse:0.34094\n",
      "[54]\tvalidation_0-rmse:0.11450\tvalidation_1-rmse:0.34094\n",
      "[55]\tvalidation_0-rmse:0.11437\tvalidation_1-rmse:0.34098\n",
      "[56]\tvalidation_0-rmse:0.11432\tvalidation_1-rmse:0.34109\n",
      "[57]\tvalidation_0-rmse:0.11297\tvalidation_1-rmse:0.34169\n",
      "[58]\tvalidation_0-rmse:0.11239\tvalidation_1-rmse:0.34209\n",
      "[59]\tvalidation_0-rmse:0.11178\tvalidation_1-rmse:0.34203\n",
      "[60]\tvalidation_0-rmse:0.11137\tvalidation_1-rmse:0.34204\n",
      "[61]\tvalidation_0-rmse:0.11109\tvalidation_1-rmse:0.34206\n",
      "[62]\tvalidation_0-rmse:0.11080\tvalidation_1-rmse:0.34213\n",
      "[63]\tvalidation_0-rmse:0.11052\tvalidation_1-rmse:0.34228\n",
      "[64]\tvalidation_0-rmse:0.11040\tvalidation_1-rmse:0.34231\n",
      "[65]\tvalidation_0-rmse:0.11004\tvalidation_1-rmse:0.34245\n",
      "[66]\tvalidation_0-rmse:0.10994\tvalidation_1-rmse:0.34250\n",
      "[67]\tvalidation_0-rmse:0.10965\tvalidation_1-rmse:0.34248\n",
      "[68]\tvalidation_0-rmse:0.10884\tvalidation_1-rmse:0.34255\n",
      "[69]\tvalidation_0-rmse:0.10849\tvalidation_1-rmse:0.34271\n",
      "[70]\tvalidation_0-rmse:0.10823\tvalidation_1-rmse:0.34281\n",
      "[71]\tvalidation_0-rmse:0.10805\tvalidation_1-rmse:0.34287\n",
      "[72]\tvalidation_0-rmse:0.10782\tvalidation_1-rmse:0.34273\n",
      "[73]\tvalidation_0-rmse:0.10767\tvalidation_1-rmse:0.34309\n",
      "[74]\tvalidation_0-rmse:0.10756\tvalidation_1-rmse:0.34310\n",
      "[75]\tvalidation_0-rmse:0.10739\tvalidation_1-rmse:0.34319\n",
      "[76]\tvalidation_0-rmse:0.10730\tvalidation_1-rmse:0.34322\n",
      "[77]\tvalidation_0-rmse:0.10721\tvalidation_1-rmse:0.34322\n",
      "[78]\tvalidation_0-rmse:0.10699\tvalidation_1-rmse:0.34365\n",
      "[79]\tvalidation_0-rmse:0.10637\tvalidation_1-rmse:0.34369\n",
      "[80]\tvalidation_0-rmse:0.10622\tvalidation_1-rmse:0.34371\n",
      "[81]\tvalidation_0-rmse:0.10610\tvalidation_1-rmse:0.34374\n",
      "[82]\tvalidation_0-rmse:0.10599\tvalidation_1-rmse:0.34376\n",
      "[83]\tvalidation_0-rmse:0.10595\tvalidation_1-rmse:0.34375\n",
      "[84]\tvalidation_0-rmse:0.10590\tvalidation_1-rmse:0.34376\n",
      "[85]\tvalidation_0-rmse:0.10587\tvalidation_1-rmse:0.34376\n",
      "[86]\tvalidation_0-rmse:0.10566\tvalidation_1-rmse:0.34372\n",
      "[87]\tvalidation_0-rmse:0.10557\tvalidation_1-rmse:0.34374\n",
      "[88]\tvalidation_0-rmse:0.10542\tvalidation_1-rmse:0.34381\n",
      "[89]\tvalidation_0-rmse:0.10530\tvalidation_1-rmse:0.34391\n",
      "[90]\tvalidation_0-rmse:0.10515\tvalidation_1-rmse:0.34393\n",
      "[91]\tvalidation_0-rmse:0.10498\tvalidation_1-rmse:0.34399\n",
      "[92]\tvalidation_0-rmse:0.10473\tvalidation_1-rmse:0.34407\n",
      "[93]\tvalidation_0-rmse:0.10459\tvalidation_1-rmse:0.34420\n",
      "[94]\tvalidation_0-rmse:0.10444\tvalidation_1-rmse:0.34418\n",
      "[95]\tvalidation_0-rmse:0.10432\tvalidation_1-rmse:0.34420\n",
      "[96]\tvalidation_0-rmse:0.10424\tvalidation_1-rmse:0.34415\n",
      "[97]\tvalidation_0-rmse:0.10410\tvalidation_1-rmse:0.34417\n",
      "[98]\tvalidation_0-rmse:0.10402\tvalidation_1-rmse:0.34418\n",
      "[99]\tvalidation_0-rmse:0.10373\tvalidation_1-rmse:0.34426\n",
      "Mean MAE: 12.689 (12.079)\n"
     ]
    }
   ],
   "execution_count": 133
  },
  {
   "metadata": {
    "ExecuteTime": {
     "end_time": "2025-06-14T09:09:20.556812Z",
     "start_time": "2025-06-14T09:09:20.120154Z"
    }
   },
   "cell_type": "code",
   "source": [
    "months_6m = 6\n",
    "X_train_6m, y_train_6m, X_test_6m, y_test_6m, min_datestr = train_test.split_train_test_tabular(df_tabular_multi, months=6,\n",
    "                                                                                      target_key='m_return_target(t+6)')"
   ],
   "id": "459a450caa0e1dc1",
   "outputs": [],
   "execution_count": 134
  },
  {
   "metadata": {
    "ExecuteTime": {
     "end_time": "2025-06-14T09:09:20.849641Z",
     "start_time": "2025-06-14T09:09:20.599665Z"
    }
   },
   "cell_type": "code",
   "source": [
    "dt = datetime.strptime(min_datestr, '%Y-%m-%d')\n",
    "\n",
    "# get all training months without the last 6 months\n",
    "X_train_input_6m = X_train_6m.head(len(X_train_6m) - len(df_pct.columns)*months_6m)\n",
    "# Get last 6 months of the training dataset and use as input to predict the next 6 months\n",
    "X_test_input_6m = X_train_6m.tail(len(df_pct.columns)*months_6m)\n",
    "\n",
    "# Trained \n",
    "y_train_pred_6m = model_6m.predict(X_train_input_6m)\n",
    "# Predictions\n",
    "y_test_pred_6m = model_6m.predict(X_test_input_6m)"
   ],
   "id": "9a86a4da2744d05d",
   "outputs": [],
   "execution_count": 135
  },
  {
   "metadata": {},
   "cell_type": "markdown",
   "source": "### 6 Months Actual vs Prediction",
   "id": "d0c3079231ade694"
  },
  {
   "metadata": {
    "ExecuteTime": {
     "end_time": "2025-06-14T09:09:21.202514Z",
     "start_time": "2025-06-14T09:09:21.139843Z"
    }
   },
   "cell_type": "code",
   "source": [
    "importlib.reload(mpt_utils)\n",
    "y_train_mean_pred_6m, y_test_mean_pred_6m = mpt_utils.get_train_test_mean_pred(y_train_pred_6m, y_test_pred_6m, len(df_pct.columns))\n",
    "#\n",
    "plots.generate_timeseries_plot(df_pct, df_tabular_multi, y_train_mean_pred_6m, y_test_mean_pred_6m)"
   ],
   "id": "d3ed8454bf112ed2",
   "outputs": [
    {
     "data": {
      "application/vnd.plotly.v1+json": {
       "data": [
        {
         "line": {
          "color": "#5c839f",
          "width": 2
         },
         "mode": "lines",
         "name": "Actual returns",
         "x": [
          "2001-05-01",
          "2001-06-01",
          "2001-07-01",
          "2001-08-01",
          "2001-09-01",
          "2001-10-01",
          "2001-11-01",
          "2001-12-01",
          "2002-01-01",
          "2002-02-01",
          "2002-03-01",
          "2002-04-01",
          "2002-05-01",
          "2002-06-01",
          "2002-07-01",
          "2002-08-01",
          "2002-09-01",
          "2002-10-01",
          "2002-11-01",
          "2002-12-01",
          "2003-01-01",
          "2003-02-01",
          "2003-03-01",
          "2003-04-01",
          "2003-05-01",
          "2003-06-01",
          "2003-07-01",
          "2003-08-01",
          "2003-09-01",
          "2003-10-01",
          "2003-11-01",
          "2003-12-01",
          "2004-01-01",
          "2004-02-01",
          "2004-03-01",
          "2004-04-01",
          "2004-05-01",
          "2004-06-01",
          "2004-07-01",
          "2004-08-01",
          "2004-09-01",
          "2004-10-01",
          "2004-11-01",
          "2004-12-01",
          "2005-01-01",
          "2005-02-01",
          "2005-03-01",
          "2005-04-01",
          "2005-05-01",
          "2005-06-01",
          "2005-07-01",
          "2005-08-01",
          "2005-09-01",
          "2005-10-01",
          "2005-11-01",
          "2005-12-01",
          "2006-01-01",
          "2006-02-01",
          "2006-03-01",
          "2006-04-01",
          "2006-05-01",
          "2006-06-01",
          "2006-07-01",
          "2006-08-01",
          "2006-09-01",
          "2006-10-01",
          "2006-11-01",
          "2006-12-01",
          "2007-01-01",
          "2007-02-01",
          "2007-03-01",
          "2007-04-01",
          "2007-05-01",
          "2007-06-01",
          "2007-07-01",
          "2007-08-01",
          "2007-09-01",
          "2007-10-01",
          "2007-11-01",
          "2007-12-01",
          "2008-01-01",
          "2008-02-01",
          "2008-03-01",
          "2008-04-01",
          "2008-05-01",
          "2008-06-01",
          "2008-07-01",
          "2008-08-01",
          "2008-09-01",
          "2008-10-01",
          "2008-11-01",
          "2008-12-01",
          "2009-01-01",
          "2009-02-01",
          "2009-03-01",
          "2009-04-01",
          "2009-05-01",
          "2009-06-01",
          "2009-07-01",
          "2009-08-01",
          "2009-09-01",
          "2009-10-01",
          "2009-11-01",
          "2009-12-01",
          "2010-01-01",
          "2010-02-01",
          "2010-03-01",
          "2010-04-01",
          "2010-05-01",
          "2010-06-01",
          "2010-07-01",
          "2010-08-01",
          "2010-09-01",
          "2010-10-01",
          "2010-11-01",
          "2010-12-01",
          "2011-01-01",
          "2011-02-01",
          "2011-03-01",
          "2011-04-01",
          "2011-05-01",
          "2011-06-01",
          "2011-07-01",
          "2011-08-01",
          "2011-09-01",
          "2011-10-01",
          "2011-11-01",
          "2011-12-01",
          "2012-01-01",
          "2012-02-01",
          "2012-03-01",
          "2012-04-01",
          "2012-05-01",
          "2012-06-01",
          "2012-07-01",
          "2012-08-01",
          "2012-09-01",
          "2012-10-01",
          "2012-11-01",
          "2012-12-01",
          "2013-01-01",
          "2013-02-01",
          "2013-03-01",
          "2013-04-01",
          "2013-05-01",
          "2013-06-01",
          "2013-07-01",
          "2013-08-01",
          "2013-09-01",
          "2013-10-01",
          "2013-11-01",
          "2013-12-01",
          "2014-01-01",
          "2014-02-01",
          "2014-03-01",
          "2014-04-01",
          "2014-05-01",
          "2014-06-01",
          "2014-07-01",
          "2014-08-01",
          "2014-09-01",
          "2014-10-01",
          "2014-11-01",
          "2014-12-01",
          "2015-01-01",
          "2015-02-01",
          "2015-03-01",
          "2015-04-01",
          "2015-05-01",
          "2015-06-01",
          "2015-07-01",
          "2015-08-01",
          "2015-09-01",
          "2015-10-01",
          "2015-11-01",
          "2015-12-01",
          "2016-01-01",
          "2016-02-01",
          "2016-03-01",
          "2016-04-01",
          "2016-05-01",
          "2016-06-01",
          "2016-07-01",
          "2016-08-01",
          "2016-09-01",
          "2016-10-01",
          "2016-11-01",
          "2016-12-01",
          "2017-01-01",
          "2017-02-01",
          "2017-03-01",
          "2017-04-01",
          "2017-05-01",
          "2017-06-01",
          "2017-07-01",
          "2017-08-01",
          "2017-09-01",
          "2017-10-01",
          "2017-11-01",
          "2017-12-01",
          "2018-01-01",
          "2018-02-01",
          "2018-03-01",
          "2018-04-01",
          "2018-05-01",
          "2018-06-01",
          "2018-07-01",
          "2018-08-01",
          "2018-09-01",
          "2018-10-01",
          "2018-11-01",
          "2018-12-01",
          "2019-01-01",
          "2019-02-01",
          "2019-03-01",
          "2019-04-01",
          "2019-05-01",
          "2019-06-01",
          "2019-07-01",
          "2019-08-01",
          "2019-09-01",
          "2019-10-01",
          "2019-11-01",
          "2019-12-01",
          "2020-01-01",
          "2020-02-01",
          "2020-03-01",
          "2020-04-01",
          "2020-05-01",
          "2020-06-01",
          "2020-07-01",
          "2020-08-01",
          "2020-09-01",
          "2020-10-01",
          "2020-11-01",
          "2020-12-01",
          "2021-01-01",
          "2021-02-01",
          "2021-03-01",
          "2021-04-01",
          "2021-05-01",
          "2021-06-01",
          "2021-07-01",
          "2021-08-01",
          "2021-09-01",
          "2021-10-01",
          "2021-11-01",
          "2021-12-01",
          "2022-01-01",
          "2022-02-01",
          "2022-03-01",
          "2022-04-01",
          "2022-05-01",
          "2022-06-01",
          "2022-07-01",
          "2022-08-01",
          "2022-09-01",
          "2022-10-01",
          "2022-11-01",
          "2022-12-01",
          "2023-01-01",
          "2023-02-01",
          "2023-03-01",
          "2023-04-01",
          "2023-05-01",
          "2023-06-01",
          "2023-07-01",
          "2023-08-01",
          "2023-09-01",
          "2023-10-01",
          "2023-11-01",
          "2023-12-01",
          "2024-01-01",
          "2024-02-01",
          "2024-03-01",
          "2024-04-01",
          "2024-05-01",
          "2024-06-01",
          "2024-07-01",
          "2024-08-01"
         ],
         "y": [
          0.025547489413188185,
          0.03383545069570415,
          -0.007126436781608514,
          4.930568663036899,
          0.025245009074409852,
          -0.006037507562009159,
          -0.018251663641862592,
          0.03294615849969751,
          -0.004761040532365035,
          0.02735027223230513,
          -0.009370840895341792,
          -0.010689655172411272,
          -0.02825771324863846,
          0.009407138535993953,
          0.039165154264973134,
          -0.031022383545068588,
          -0.015251058681184593,
          0.06554143980641092,
          0.011845130066547194,
          -0.0015607985480955433,
          -0.026491228070174233,
          -0.030913490623106665,
          -0.08671506352086977,
          0.04992740471869106,
          0.050798548094372675,
          0.015862068965516674,
          -0.006067755595883906,
          0.009310344827584194,
          0.05072595281306347,
          0.00710223835450452,
          0.002764670296429683,
          -0.04802782819116436,
          -0.05811252268602196,
          -0.012516636418632099,
          -0.04310949788263729,
          0.007864488808227987,
          0.05825166364186196,
          -0.03358741681790489,
          -0.010980036297638107,
          0.005571687840290052,
          -0.004016938898969924,
          0.059951603145793175,
          0.06700544464609504,
          0.03416212946158392,
          0.5084513006654547,
          0.06142770719902968,
          0.0038233514821539583,
          0.04980036297640478,
          0.004228675136117133,
          0.015849969751963844,
          0.030526315789472847,
          0.014156079854809045,
          0.04684210526315691,
          0.004083484573501828,
          -0.0075257108287957175,
          0.03462189957652373,
          -0.036612220205683554,
          -0.0065880217785837525,
          0.005553539019962583,
          5.565638233508974E-4,
          0.029316394434359072,
          0.05376285541439363,
          0.006430732002420392,
          0.020381125226857755,
          -0.004440411373259678,
          -0.026696914700541474,
          0.03314579552328811,
          0.0216817906836011,
          0.03581367211130959,
          -6.957047791892323E-4,
          0.12865093768904812,
          0.0726013309134903,
          2.2130248033877846,
          0.02156079854809434,
          0.040816696914699246,
          0.012891712038716197,
          0.02750151240169063,
          0.009207501512401128,
          -0.031373260738048914,
          -8.166969147005432E-4,
          -0.014313369630973627,
          0.024882032667874254,
          0.02975196612219899,
          0.02138535995160007,
          0.018880822746520476,
          0.02797943133695835,
          0.036872353297032756,
          0.004440411373261455,
          0.001584996975197539,
          0.0188082274652126,
          0.022619479733814396,
          -0.011415607985479137,
          -0.02407138535994935,
          -0.009249848759829371,
          0.002474289171202848,
          0.02551724137930922,
          -0.05206291591046308,
          -0.009225650332726487,
          -0.0579552329098596,
          -0.009280096793706338,
          -0.013121597096186988,
          0.031149425287355648,
          0.02318814277071768,
          -0.06243799153054985,
          -0.0049909255898370475,
          0.02157894736842092,
          -0.07269812462189917,
          -0.1541802782819104,
          -0.05525105868118674,
          0.04130066545674316,
          -0.050229885057469614,
          -0.05834845735027172,
          0.06975801572897589,
          0.14761645493042796,
          0.04329098608590476,
          0.035021173623714486,
          0.062389594676345084,
          0.055202661826980304,
          0.032274652147609384,
          -0.022008469449483536,
          0.0015910465819715114,
          0.05137931034482435,
          -0.010393224440409243,
          0.018554143980639592,
          0.05903811252268154,
          0.04499697519660795,
          -0.0543738656987246,
          -0.038058076225041315,
          0.03886267392619347,
          -0.035414398064121166,
          0.06960677555958616,
          0.016388384754989715,
          0.02758620689654956,
          0.0584029038112468,
          0.011978221415607448,
          0.032480338777975515,
          0.001603145795523453,
          0.019885057471262124,
          -0.005003024803385547,
          -0.002764670296429572,
          -0.016957047791891444,
          -0.0525287356321813,
          -0.04701754385964807,
          0.06892316999394943,
          -0.015662431941921517,
          2.5408348457278684E-4,
          0.059376890502114144,
          0.09954022988505207,
          0.026303690260128354,
          -0.007253478523894019,
          -0.057241379310342566,
          0.03002419842709836,
          -0.004234724742891327,
          0.019667271627342275,
          0.017150635208708076,
          0.001203871748335139,
          0.016684815486990523,
          0.031173623714453536,
          0.06079249848759227,
          0.0218390804597679,
          0.04068360556563255,
          0.03336963097398571,
          0.018215366001207878,
          -0.009491833030852881,
          0.03699334543254329,
          -0.01653962492437533,
          0.05121597096188113,
          0.021343012704170272,
          0.023980641258315005,
          0.02228070175438135,
          -0.0122565033272799,
          0.02886267392619213,
          8.287961282520406E-4,
          -0.01481548699334323,
          0.01611615245008835,
          0.03064730792497894,
          -0.012855414398062703,
          0.0267453115547438,
          -0.010508166969145138,
          0.025311554748938203,
          0.041675741076825146,
          0.014168179068358766,
          0.0019419237749558338,
          0.04445856019358252,
          0.009745916515426112,
          4.1137326073759084E-4,
          0.02520871143375225,
          -0.009673321234116239,
          0.012788868723531133,
          -0.041355111917719234,
          -0.03201451905625696,
          0.062341197822137984,
          0.01900181488203012,
          -0.01770719903205853,
          -0.0508892921960038,
          -6.41258318208493E-4,
          0.056612220205681574,
          4.355716878403637E-4,
          0.02140955837870062,
          -0.029092558983665584,
          0.053581367211125164,
          0.011010284331519182,
          0.0043375680580743925,
          -0.015184513006653577,
          0.051433756805806974,
          0.03154869933453708,
          0.014658197217180424,
          0.021845130066540985,
          0.009751966122203415,
          0.015595886267387948,
          0.012667876588020377,
          0.01312159709618732,
          0.013569267997577406,
          0.003387779794311596,
          0.03088929219600267,
          0.01952208106472675,
          0.023224440411370395,
          0.01144585601935666,
          0.023817301875374675,
          -0.025577737447060378,
          -0.00336358136720849,
          0.019479733817297173,
          0.02636418632788695,
          0.008632788868722763,
          0.017592256503323966,
          0.021772534785239328,
          -0.009249848759832702,
          -0.06341197822141131,
          0.01151240169388612,
          -0.08667271627343787,
          0.09143980641258032,
          0.03675136116152111,
          0.00413793103448179,
          0.043049001814877474,
          -0.05917725347852165,
          0.045353901996365575,
          0.022123411978218988,
          -0.029552329098605612,
          0.03694494857833708,
          0.029479733817298515,
          0.0347307924984841,
          0.026805807622500843,
          -0.010248033877796825,
          -0.0900846944948529,
          -0.1816152450090751,
          0.12603145795522974,
          0.07255293405928498,
          0.030417422867514476,
          0.022571082879613735,
          0.06055656382334962,
          -0.0054869933454299025,
          -0.007670901391404694,
          0.15838475499092408,
          0.057961282516630463,
          0.0404839685420475,
          0.05379310344827615,
          0.058929219600720506,
          0.037652752571080805,
          0.021343012704173825,
          0.020756200846943296,
          0.0036418632788870475,
          0.02528735632183654,
          -0.013514821536595778,
          0.030024198427099247,
          -0.030066545674527045,
          0.040211736237137696,
          -0.07431941923774554,
          -0.012316999395034944,
          0.003230490018147014,
          -0.05532365396248862,
          7.199032062885635E-4,
          -0.07505747126436668,
          0.09042952208106025,
          -0.03070175438596201,
          -0.09862673926194399,
          0.08102843315184272,
          0.05529945553538784,
          -0.0422625529340539,
          0.09733212341197661,
          -0.011004234724740436,
          -0.020066545674530145,
          0.0013188142770683697,
          -0.009116757410766452,
          0.06248033877797354,
          0.04333938294010187,
          -0.03137931034482633,
          -0.040217785843914555,
          -0.05788868723532303,
          0.0877132486388339,
          0.07932849364790973,
          -0.014603750756200906,
          0.07413793103448185,
          0.027628554143975803,
          -0.04402903811251935,
          0.034162129461583035,
          -0.006757410768298278,
          0.055251058681182075,
          -0.0028009679370835094,
          -0.03332123411977328
         ],
         "type": "scatter"
        },
        {
         "line": {
          "color": "red",
          "width": 2
         },
         "mode": "lines",
         "name": "Train returns",
         "x": [
          "2001-05-01",
          "2001-06-01",
          "2001-07-01",
          "2001-08-01",
          "2001-09-01",
          "2001-10-01",
          "2001-11-01",
          "2001-12-01",
          "2002-01-01",
          "2002-02-01",
          "2002-03-01",
          "2002-04-01",
          "2002-05-01",
          "2002-06-01",
          "2002-07-01",
          "2002-08-01",
          "2002-09-01",
          "2002-10-01",
          "2002-11-01",
          "2002-12-01",
          "2003-01-01",
          "2003-02-01",
          "2003-03-01",
          "2003-04-01",
          "2003-05-01",
          "2003-06-01",
          "2003-07-01",
          "2003-08-01",
          "2003-09-01",
          "2003-10-01",
          "2003-11-01",
          "2003-12-01",
          "2004-01-01",
          "2004-02-01",
          "2004-03-01",
          "2004-04-01",
          "2004-05-01",
          "2004-06-01",
          "2004-07-01",
          "2004-08-01",
          "2004-09-01",
          "2004-10-01",
          "2004-11-01",
          "2004-12-01",
          "2005-01-01",
          "2005-02-01",
          "2005-03-01",
          "2005-04-01",
          "2005-05-01",
          "2005-06-01",
          "2005-07-01",
          "2005-08-01",
          "2005-09-01",
          "2005-10-01",
          "2005-11-01",
          "2005-12-01",
          "2006-01-01",
          "2006-02-01",
          "2006-03-01",
          "2006-04-01",
          "2006-05-01",
          "2006-06-01",
          "2006-07-01",
          "2006-08-01",
          "2006-09-01",
          "2006-10-01",
          "2006-11-01",
          "2006-12-01",
          "2007-01-01",
          "2007-02-01",
          "2007-03-01",
          "2007-04-01",
          "2007-05-01",
          "2007-06-01",
          "2007-07-01",
          "2007-08-01",
          "2007-09-01",
          "2007-10-01",
          "2007-11-01",
          "2007-12-01",
          "2008-01-01",
          "2008-02-01",
          "2008-03-01",
          "2008-04-01",
          "2008-05-01",
          "2008-06-01",
          "2008-07-01",
          "2008-08-01",
          "2008-09-01",
          "2008-10-01",
          "2008-11-01",
          "2008-12-01",
          "2009-01-01",
          "2009-02-01",
          "2009-03-01",
          "2009-04-01",
          "2009-05-01",
          "2009-06-01",
          "2009-07-01",
          "2009-08-01",
          "2009-09-01",
          "2009-10-01",
          "2009-11-01",
          "2009-12-01",
          "2010-01-01",
          "2010-02-01",
          "2010-03-01",
          "2010-04-01",
          "2010-05-01",
          "2010-06-01",
          "2010-07-01",
          "2010-08-01",
          "2010-09-01",
          "2010-10-01",
          "2010-11-01",
          "2010-12-01",
          "2011-01-01",
          "2011-02-01",
          "2011-03-01",
          "2011-04-01",
          "2011-05-01",
          "2011-06-01",
          "2011-07-01",
          "2011-08-01",
          "2011-09-01",
          "2011-10-01",
          "2011-11-01",
          "2011-12-01",
          "2012-01-01",
          "2012-02-01",
          "2012-03-01",
          "2012-04-01",
          "2012-05-01",
          "2012-06-01",
          "2012-07-01",
          "2012-08-01",
          "2012-09-01",
          "2012-10-01",
          "2012-11-01",
          "2012-12-01",
          "2013-01-01",
          "2013-02-01",
          "2013-03-01",
          "2013-04-01",
          "2013-05-01",
          "2013-06-01",
          "2013-07-01",
          "2013-08-01",
          "2013-09-01",
          "2013-10-01",
          "2013-11-01",
          "2013-12-01",
          "2014-01-01",
          "2014-02-01",
          "2014-03-01",
          "2014-04-01",
          "2014-05-01",
          "2014-06-01",
          "2014-07-01",
          "2014-08-01",
          "2014-09-01",
          "2014-10-01",
          "2014-11-01",
          "2014-12-01",
          "2015-01-01",
          "2015-02-01",
          "2015-03-01",
          "2015-04-01",
          "2015-05-01",
          "2015-06-01",
          "2015-07-01",
          "2015-08-01",
          "2015-09-01",
          "2015-10-01",
          "2015-11-01",
          "2015-12-01",
          "2016-01-01",
          "2016-02-01",
          "2016-03-01",
          "2016-04-01",
          "2016-05-01",
          "2016-06-01",
          "2016-07-01",
          "2016-08-01",
          "2016-09-01",
          "2016-10-01",
          "2016-11-01",
          "2016-12-01",
          "2017-01-01",
          "2017-02-01",
          "2017-03-01",
          "2017-04-01",
          "2017-05-01",
          "2017-06-01",
          "2017-07-01",
          "2017-08-01",
          "2017-09-01",
          "2017-10-01",
          "2017-11-01",
          "2017-12-01",
          "2018-01-01",
          "2018-02-01",
          "2018-03-01",
          "2018-04-01",
          "2018-05-01",
          "2018-06-01",
          "2018-07-01",
          "2018-08-01",
          "2018-09-01",
          "2018-10-01",
          "2018-11-01",
          "2018-12-01",
          "2019-01-01",
          "2019-02-01",
          "2019-03-01",
          "2019-04-01",
          "2019-05-01",
          "2019-06-01",
          "2019-07-01",
          "2019-08-01",
          "2019-09-01",
          "2019-10-01",
          "2019-11-01",
          "2019-12-01",
          "2020-01-01",
          "2020-02-01",
          "2020-03-01",
          "2020-04-01",
          "2020-05-01",
          "2020-06-01",
          "2020-07-01",
          "2020-08-01",
          "2020-09-01",
          "2020-10-01",
          "2020-11-01",
          "2020-12-01",
          "2021-01-01",
          "2021-02-01",
          "2021-03-01",
          "2021-04-01",
          "2021-05-01",
          "2021-06-01",
          "2021-07-01",
          "2021-08-01",
          "2021-09-01",
          "2021-10-01",
          "2021-11-01",
          "2021-12-01",
          "2022-01-01",
          "2022-02-01",
          "2022-03-01",
          "2022-04-01",
          "2022-05-01",
          "2022-06-01",
          "2022-07-01",
          "2022-08-01",
          "2022-09-01",
          "2022-10-01",
          "2022-11-01",
          "2022-12-01",
          "2023-01-01",
          "2023-02-01",
          "2023-03-01",
          "2023-04-01",
          "2023-05-01",
          "2023-06-01",
          "2023-07-01",
          "2023-08-01",
          "2023-09-01",
          "2023-10-01",
          "2023-11-01",
          "2023-12-01",
          "2024-01-01",
          "2024-02-01"
         ],
         "y": [
          0.0038640499114990234,
          0.008454203605651855,
          0.0031293630599975586,
          0.0032883882522583008,
          0.0070552825927734375,
          0.007642865180969238,
          0.0029342174530029297,
          0.004373669624328613,
          0.0050362348556518555,
          0.0027112960815429688,
          0.007098674774169922,
          0.0051157474517822266,
          0.0066776275634765625,
          2.5904178619384766E-4,
          0.0017157793045043945,
          0.003576993942260742,
          0.003865361213684082,
          0.004716157913208008,
          0.004016399383544922,
          0.0045108795166015625,
          0.004077315330505371,
          0.006059527397155762,
          0.007570147514343262,
          0.005118727684020996,
          0.0069103240966796875,
          0.0060471296310424805,
          0.010350823402404785,
          0.005002498626708984,
          0.0034637451171875,
          0.0025712251663208008,
          0.0048743486404418945,
          0.004962563514709473,
          0.005223870277404785,
          0.009424686431884766,
          0.004500746726989746,
          0.0064105987548828125,
          0.004619121551513672,
          0.007646799087524414,
          0.0070449113845825195,
          0.004730582237243652,
          0.0065125226974487305,
          0.005467653274536133,
          0.006879448890686035,
          0.012512564659118652,
          0.0061283111572265625,
          0.0034694671630859375,
          0.003851652145385742,
          0.006349444389343262,
          0.00406491756439209,
          0.0023322105407714844,
          0.007146239280700684,
          0.004872322082519531,
          0.0066759586334228516,
          0.008798360824584961,
          0.004273414611816406,
          0.006352782249450684,
          0.0033742189407348633,
          0.005740165710449219,
          0.004442095756530762,
          0.003377676010131836,
          0.45646917819976807,
          2.1703433990478516,
          0.005612015724182129,
          0.0037605762481689453,
          0.004015564918518066,
          0.00474238395690918,
          0.0151902437210083,
          0.009412288665771484,
          0.0068367719650268555,
          0.0054590702056884766,
          0.006979942321777344,
          0.0031851530075073242,
          0.0010470151901245117,
          0.00687718391418457,
          0.005914807319641113,
          0.030481696128845215,
          0.001934647560119629,
          0.0031783580780029297,
          0.0029653310775756836,
          0.01002204418182373,
          0.006682157516479492,
          0.004694104194641113,
          0.005586147308349609,
          0.0036003589630126953,
          0.0029488801956176758,
          0.0020253658294677734,
          0.005279183387756348,
          0.005074262619018555,
          0.004814863204956055,
          0.0019085407257080078,
          0.006291866302490234,
          0.009751200675964355,
          0.0032494068145751953,
          0.004890799522399902,
          0.005924105644226074,
          0.0038105249404907227,
          0.002266407012939453,
          0.0030251741409301758,
          0.003921866416931152,
          0.0025300979614257812,
          0.0025620460510253906,
          0.007472038269042969,
          0.004455685615539551,
          0.0023201704025268555,
          0.005015134811401367,
          0.0035058259963989258,
          0.0020453929901123047,
          0.0010319948196411133,
          0.0015611648559570312,
          0.0064650774002075195,
          0.007184624671936035,
          0.004664301872253418,
          0.0019265413284301758,
          0.006018996238708496,
          0.005141019821166992,
          0.007607698440551758,
          0.007917642593383789,
          0.003179311752319336,
          0.004163265228271484,
          0.004717588424682617,
          0.005289554595947266,
          0.009938478469848633,
          0.004517674446105957,
          0.008092641830444336,
          0.003781437873840332,
          0.003982424736022949,
          0.009963154792785645,
          0.0018846988677978516,
          0.004120349884033203,
          0.0028815269470214844,
          0.002490997314453125,
          0.002520918846130371,
          0.005585074424743652,
          0.0033431053161621094,
          0.007036924362182617,
          0.005086541175842285,
          0.0019239187240600586,
          0.0030345916748046875,
          0.009396553039550781,
          0.004425048828125,
          0.0026397705078125,
          0.005400180816650391,
          0.008730769157409668,
          0.09797894954681396,
          0.004754304885864258,
          0.008337020874023438,
          0.0038785934448242188,
          0.008487582206726074,
          0.007207632064819336,
          5.725622177124023E-4,
          0.0062247514724731445,
          0.0056247711181640625,
          0.009137511253356934,
          0.0027027130126953125,
          0.00210416316986084,
          0.0027979612350463867,
          0.0044918060302734375,
          -0.05764502286911011,
          0.0026634931564331055,
          0.0038585662841796875,
          0.005416750907897949,
          0.0013517141342163086,
          0.008128166198730469,
          0.0028624534606933594,
          0.0031032562255859375,
          0.004622697830200195,
          0.008371114730834961,
          0.005395650863647461,
          0.00349271297454834,
          0.009781479835510254,
          0.0026650428771972656,
          0.0038722753524780273,
          0.004236698150634766,
          6.695985794067383E-4,
          0.003186345100402832,
          0.005876779556274414,
          0.004143357276916504,
          0.008061885833740234,
          0.006487011909484863,
          0.008785843849182129,
          0.0036399364471435547,
          0.003346562385559082,
          0.005601167678833008,
          0.0024950504302978516,
          0.008324265480041504,
          0.0010849237442016602,
          0.0024808645248413086,
          0.0030618906021118164,
          0.0026112794876098633,
          0.002690434455871582,
          0.007729172706604004,
          0.006657123565673828,
          0.0052716732025146484,
          0.004265427589416504,
          0.003275752067565918,
          0.002573847770690918,
          0.0049419403076171875,
          0.0015276670455932617,
          0.11091923713684082,
          0.003866910934448242,
          0.00484156608581543,
          0.008919358253479004,
          0.0036832094192504883,
          0.007243752479553223,
          0.001064300537109375,
          0.0058536529541015625,
          0.008143901824951172,
          0.004329204559326172,
          0.00360262393951416,
          0.0037196874618530273,
          0.0034027099609375,
          0.0078200101852417,
          0.0037009716033935547,
          0.004495978355407715,
          0.003968477249145508,
          0.0016968250274658203,
          0.011348724365234375,
          0.00315701961517334,
          0.004221677780151367,
          0.005379676818847656,
          0.004453778266906738,
          6.973743438720703E-4,
          0.0038007497787475586,
          0.004257082939147949,
          0.00870978832244873,
          0.004196524620056152,
          -1.7780065536499023E-4,
          0.003916382789611816,
          0.008275628089904785,
          0.002300739288330078,
          0.00637662410736084,
          0.005310416221618652,
          0.0025293827056884766,
          0.004687309265136719,
          9.359121322631836E-4,
          0.008910059928894043,
          0.0019860267639160156,
          0.0020052194595336914,
          0.0028820037841796875,
          0.006843209266662598,
          0.005899786949157715,
          0.0047615766525268555,
          0.001180410385131836,
          0.00658869743347168,
          0.002998828887939453,
          0.010447502136230469,
          0.008198380470275879,
          0.0066661834716796875,
          0.00472712516784668,
          0.004832148551940918,
          0.002354741096496582,
          0.004732370376586914,
          0.004369258880615234,
          0.004406571388244629,
          0.007203221321105957,
          0.004538297653198242,
          0.0025548934936523438,
          0.005979776382446289,
          0.004748821258544922,
          0.011165499687194824,
          0.005904555320739746,
          -2.3555755615234375E-4,
          0.004298567771911621,
          0.007790684700012207,
          0.005255937576293945,
          0.0015382766723632812,
          0.0041904449462890625,
          0.004559159278869629,
          0.0036007165908813477,
          0.004767775535583496,
          0.01416921615600586,
          0.006268620491027832,
          0.0036194324493408203,
          0.009413361549377441
         ],
         "type": "scatter"
        },
        {
         "line": {
          "color": "green",
          "width": 2
         },
         "mode": "lines",
         "name": "Test returns",
         "x": [
          "2024-02-01",
          "2024-03-01",
          "2024-04-01",
          "2024-05-01",
          "2024-06-01",
          "2024-07-01",
          "2024-08-01"
         ],
         "y": [
          0.009413361549377441,
          0.004263877868652344,
          0.02131354808807373,
          0.018800973892211914,
          0.005198121070861816,
          0.0038655996322631836,
          0.006406545639038086
         ],
         "type": "scatter"
        }
       ],
       "layout": {
        "template": {
         "data": {
          "barpolar": [
           {
            "marker": {
             "line": {
              "color": "white",
              "width": 0.5
             },
             "pattern": {
              "fillmode": "overlay",
              "size": 10,
              "solidity": 0.2
             }
            },
            "type": "barpolar"
           }
          ],
          "bar": [
           {
            "error_x": {
             "color": "#2a3f5f"
            },
            "error_y": {
             "color": "#2a3f5f"
            },
            "marker": {
             "line": {
              "color": "white",
              "width": 0.5
             },
             "pattern": {
              "fillmode": "overlay",
              "size": 10,
              "solidity": 0.2
             }
            },
            "type": "bar"
           }
          ],
          "carpet": [
           {
            "aaxis": {
             "endlinecolor": "#2a3f5f",
             "gridcolor": "#C8D4E3",
             "linecolor": "#C8D4E3",
             "minorgridcolor": "#C8D4E3",
             "startlinecolor": "#2a3f5f"
            },
            "baxis": {
             "endlinecolor": "#2a3f5f",
             "gridcolor": "#C8D4E3",
             "linecolor": "#C8D4E3",
             "minorgridcolor": "#C8D4E3",
             "startlinecolor": "#2a3f5f"
            },
            "type": "carpet"
           }
          ],
          "choropleth": [
           {
            "colorbar": {
             "outlinewidth": 0,
             "ticks": ""
            },
            "type": "choropleth"
           }
          ],
          "contourcarpet": [
           {
            "colorbar": {
             "outlinewidth": 0,
             "ticks": ""
            },
            "type": "contourcarpet"
           }
          ],
          "contour": [
           {
            "colorbar": {
             "outlinewidth": 0,
             "ticks": ""
            },
            "colorscale": [
             [
              0.0,
              "#0d0887"
             ],
             [
              0.1111111111111111,
              "#46039f"
             ],
             [
              0.2222222222222222,
              "#7201a8"
             ],
             [
              0.3333333333333333,
              "#9c179e"
             ],
             [
              0.4444444444444444,
              "#bd3786"
             ],
             [
              0.5555555555555556,
              "#d8576b"
             ],
             [
              0.6666666666666666,
              "#ed7953"
             ],
             [
              0.7777777777777778,
              "#fb9f3a"
             ],
             [
              0.8888888888888888,
              "#fdca26"
             ],
             [
              1.0,
              "#f0f921"
             ]
            ],
            "type": "contour"
           }
          ],
          "heatmapgl": [
           {
            "colorbar": {
             "outlinewidth": 0,
             "ticks": ""
            },
            "colorscale": [
             [
              0.0,
              "#0d0887"
             ],
             [
              0.1111111111111111,
              "#46039f"
             ],
             [
              0.2222222222222222,
              "#7201a8"
             ],
             [
              0.3333333333333333,
              "#9c179e"
             ],
             [
              0.4444444444444444,
              "#bd3786"
             ],
             [
              0.5555555555555556,
              "#d8576b"
             ],
             [
              0.6666666666666666,
              "#ed7953"
             ],
             [
              0.7777777777777778,
              "#fb9f3a"
             ],
             [
              0.8888888888888888,
              "#fdca26"
             ],
             [
              1.0,
              "#f0f921"
             ]
            ],
            "type": "heatmapgl"
           }
          ],
          "heatmap": [
           {
            "colorbar": {
             "outlinewidth": 0,
             "ticks": ""
            },
            "colorscale": [
             [
              0.0,
              "#0d0887"
             ],
             [
              0.1111111111111111,
              "#46039f"
             ],
             [
              0.2222222222222222,
              "#7201a8"
             ],
             [
              0.3333333333333333,
              "#9c179e"
             ],
             [
              0.4444444444444444,
              "#bd3786"
             ],
             [
              0.5555555555555556,
              "#d8576b"
             ],
             [
              0.6666666666666666,
              "#ed7953"
             ],
             [
              0.7777777777777778,
              "#fb9f3a"
             ],
             [
              0.8888888888888888,
              "#fdca26"
             ],
             [
              1.0,
              "#f0f921"
             ]
            ],
            "type": "heatmap"
           }
          ],
          "histogram2dcontour": [
           {
            "colorbar": {
             "outlinewidth": 0,
             "ticks": ""
            },
            "colorscale": [
             [
              0.0,
              "#0d0887"
             ],
             [
              0.1111111111111111,
              "#46039f"
             ],
             [
              0.2222222222222222,
              "#7201a8"
             ],
             [
              0.3333333333333333,
              "#9c179e"
             ],
             [
              0.4444444444444444,
              "#bd3786"
             ],
             [
              0.5555555555555556,
              "#d8576b"
             ],
             [
              0.6666666666666666,
              "#ed7953"
             ],
             [
              0.7777777777777778,
              "#fb9f3a"
             ],
             [
              0.8888888888888888,
              "#fdca26"
             ],
             [
              1.0,
              "#f0f921"
             ]
            ],
            "type": "histogram2dcontour"
           }
          ],
          "histogram2d": [
           {
            "colorbar": {
             "outlinewidth": 0,
             "ticks": ""
            },
            "colorscale": [
             [
              0.0,
              "#0d0887"
             ],
             [
              0.1111111111111111,
              "#46039f"
             ],
             [
              0.2222222222222222,
              "#7201a8"
             ],
             [
              0.3333333333333333,
              "#9c179e"
             ],
             [
              0.4444444444444444,
              "#bd3786"
             ],
             [
              0.5555555555555556,
              "#d8576b"
             ],
             [
              0.6666666666666666,
              "#ed7953"
             ],
             [
              0.7777777777777778,
              "#fb9f3a"
             ],
             [
              0.8888888888888888,
              "#fdca26"
             ],
             [
              1.0,
              "#f0f921"
             ]
            ],
            "type": "histogram2d"
           }
          ],
          "histogram": [
           {
            "marker": {
             "pattern": {
              "fillmode": "overlay",
              "size": 10,
              "solidity": 0.2
             }
            },
            "type": "histogram"
           }
          ],
          "mesh3d": [
           {
            "colorbar": {
             "outlinewidth": 0,
             "ticks": ""
            },
            "type": "mesh3d"
           }
          ],
          "parcoords": [
           {
            "line": {
             "colorbar": {
              "outlinewidth": 0,
              "ticks": ""
             }
            },
            "type": "parcoords"
           }
          ],
          "pie": [
           {
            "automargin": true,
            "type": "pie"
           }
          ],
          "scatter3d": [
           {
            "line": {
             "colorbar": {
              "outlinewidth": 0,
              "ticks": ""
             }
            },
            "marker": {
             "colorbar": {
              "outlinewidth": 0,
              "ticks": ""
             }
            },
            "type": "scatter3d"
           }
          ],
          "scattercarpet": [
           {
            "marker": {
             "colorbar": {
              "outlinewidth": 0,
              "ticks": ""
             }
            },
            "type": "scattercarpet"
           }
          ],
          "scattergeo": [
           {
            "marker": {
             "colorbar": {
              "outlinewidth": 0,
              "ticks": ""
             }
            },
            "type": "scattergeo"
           }
          ],
          "scattergl": [
           {
            "marker": {
             "colorbar": {
              "outlinewidth": 0,
              "ticks": ""
             }
            },
            "type": "scattergl"
           }
          ],
          "scattermapbox": [
           {
            "marker": {
             "colorbar": {
              "outlinewidth": 0,
              "ticks": ""
             }
            },
            "type": "scattermapbox"
           }
          ],
          "scatterpolargl": [
           {
            "marker": {
             "colorbar": {
              "outlinewidth": 0,
              "ticks": ""
             }
            },
            "type": "scatterpolargl"
           }
          ],
          "scatterpolar": [
           {
            "marker": {
             "colorbar": {
              "outlinewidth": 0,
              "ticks": ""
             }
            },
            "type": "scatterpolar"
           }
          ],
          "scatter": [
           {
            "fillpattern": {
             "fillmode": "overlay",
             "size": 10,
             "solidity": 0.2
            },
            "type": "scatter"
           }
          ],
          "scatterternary": [
           {
            "marker": {
             "colorbar": {
              "outlinewidth": 0,
              "ticks": ""
             }
            },
            "type": "scatterternary"
           }
          ],
          "surface": [
           {
            "colorbar": {
             "outlinewidth": 0,
             "ticks": ""
            },
            "colorscale": [
             [
              0.0,
              "#0d0887"
             ],
             [
              0.1111111111111111,
              "#46039f"
             ],
             [
              0.2222222222222222,
              "#7201a8"
             ],
             [
              0.3333333333333333,
              "#9c179e"
             ],
             [
              0.4444444444444444,
              "#bd3786"
             ],
             [
              0.5555555555555556,
              "#d8576b"
             ],
             [
              0.6666666666666666,
              "#ed7953"
             ],
             [
              0.7777777777777778,
              "#fb9f3a"
             ],
             [
              0.8888888888888888,
              "#fdca26"
             ],
             [
              1.0,
              "#f0f921"
             ]
            ],
            "type": "surface"
           }
          ],
          "table": [
           {
            "cells": {
             "fill": {
              "color": "#EBF0F8"
             },
             "line": {
              "color": "white"
             }
            },
            "header": {
             "fill": {
              "color": "#C8D4E3"
             },
             "line": {
              "color": "white"
             }
            },
            "type": "table"
           }
          ]
         },
         "layout": {
          "annotationdefaults": {
           "arrowcolor": "#2a3f5f",
           "arrowhead": 0,
           "arrowwidth": 1
          },
          "autotypenumbers": "strict",
          "coloraxis": {
           "colorbar": {
            "outlinewidth": 0,
            "ticks": ""
           }
          },
          "colorscale": {
           "diverging": [
            [
             0,
             "#8e0152"
            ],
            [
             0.1,
             "#c51b7d"
            ],
            [
             0.2,
             "#de77ae"
            ],
            [
             0.3,
             "#f1b6da"
            ],
            [
             0.4,
             "#fde0ef"
            ],
            [
             0.5,
             "#f7f7f7"
            ],
            [
             0.6,
             "#e6f5d0"
            ],
            [
             0.7,
             "#b8e186"
            ],
            [
             0.8,
             "#7fbc41"
            ],
            [
             0.9,
             "#4d9221"
            ],
            [
             1,
             "#276419"
            ]
           ],
           "sequential": [
            [
             0.0,
             "#0d0887"
            ],
            [
             0.1111111111111111,
             "#46039f"
            ],
            [
             0.2222222222222222,
             "#7201a8"
            ],
            [
             0.3333333333333333,
             "#9c179e"
            ],
            [
             0.4444444444444444,
             "#bd3786"
            ],
            [
             0.5555555555555556,
             "#d8576b"
            ],
            [
             0.6666666666666666,
             "#ed7953"
            ],
            [
             0.7777777777777778,
             "#fb9f3a"
            ],
            [
             0.8888888888888888,
             "#fdca26"
            ],
            [
             1.0,
             "#f0f921"
            ]
           ],
           "sequentialminus": [
            [
             0.0,
             "#0d0887"
            ],
            [
             0.1111111111111111,
             "#46039f"
            ],
            [
             0.2222222222222222,
             "#7201a8"
            ],
            [
             0.3333333333333333,
             "#9c179e"
            ],
            [
             0.4444444444444444,
             "#bd3786"
            ],
            [
             0.5555555555555556,
             "#d8576b"
            ],
            [
             0.6666666666666666,
             "#ed7953"
            ],
            [
             0.7777777777777778,
             "#fb9f3a"
            ],
            [
             0.8888888888888888,
             "#fdca26"
            ],
            [
             1.0,
             "#f0f921"
            ]
           ]
          },
          "colorway": [
           "#636efa",
           "#EF553B",
           "#00cc96",
           "#ab63fa",
           "#FFA15A",
           "#19d3f3",
           "#FF6692",
           "#B6E880",
           "#FF97FF",
           "#FECB52"
          ],
          "font": {
           "color": "#2a3f5f"
          },
          "geo": {
           "bgcolor": "white",
           "lakecolor": "white",
           "landcolor": "white",
           "showlakes": true,
           "showland": true,
           "subunitcolor": "#C8D4E3"
          },
          "hoverlabel": {
           "align": "left"
          },
          "hovermode": "closest",
          "mapbox": {
           "style": "light"
          },
          "paper_bgcolor": "white",
          "plot_bgcolor": "white",
          "polar": {
           "angularaxis": {
            "gridcolor": "#EBF0F8",
            "linecolor": "#EBF0F8",
            "ticks": ""
           },
           "bgcolor": "white",
           "radialaxis": {
            "gridcolor": "#EBF0F8",
            "linecolor": "#EBF0F8",
            "ticks": ""
           }
          },
          "scene": {
           "xaxis": {
            "backgroundcolor": "white",
            "gridcolor": "#DFE8F3",
            "gridwidth": 2,
            "linecolor": "#EBF0F8",
            "showbackground": true,
            "ticks": "",
            "zerolinecolor": "#EBF0F8"
           },
           "yaxis": {
            "backgroundcolor": "white",
            "gridcolor": "#DFE8F3",
            "gridwidth": 2,
            "linecolor": "#EBF0F8",
            "showbackground": true,
            "ticks": "",
            "zerolinecolor": "#EBF0F8"
           },
           "zaxis": {
            "backgroundcolor": "white",
            "gridcolor": "#DFE8F3",
            "gridwidth": 2,
            "linecolor": "#EBF0F8",
            "showbackground": true,
            "ticks": "",
            "zerolinecolor": "#EBF0F8"
           }
          },
          "shapedefaults": {
           "line": {
            "color": "#2a3f5f"
           }
          },
          "ternary": {
           "aaxis": {
            "gridcolor": "#DFE8F3",
            "linecolor": "#A2B1C6",
            "ticks": ""
           },
           "baxis": {
            "gridcolor": "#DFE8F3",
            "linecolor": "#A2B1C6",
            "ticks": ""
           },
           "bgcolor": "white",
           "caxis": {
            "gridcolor": "#DFE8F3",
            "linecolor": "#A2B1C6",
            "ticks": ""
           }
          },
          "title": {
           "x": 0.05
          },
          "xaxis": {
           "automargin": true,
           "gridcolor": "#EBF0F8",
           "linecolor": "#EBF0F8",
           "ticks": "",
           "title": {
            "standoff": 15
           },
           "zerolinecolor": "#EBF0F8",
           "zerolinewidth": 2
          },
          "yaxis": {
           "automargin": true,
           "gridcolor": "#EBF0F8",
           "linecolor": "#EBF0F8",
           "ticks": "",
           "title": {
            "standoff": 15
           },
           "zerolinecolor": "#EBF0F8",
           "zerolinewidth": 2
          }
         }
        },
        "shapes": [
         {
          "line": {
           "color": "red",
           "dash": "dash",
           "width": 1
          },
          "type": "line",
          "x0": "2024-02-01",
          "x1": "2024-02-01",
          "xref": "x",
          "y0": 0,
          "y1": 1,
          "yref": "y domain"
         }
        ],
        "yaxis": {
         "title": {
          "text": "Day closing return (%)"
         },
         "tickformat": ".0%",
         "range": [
          -0.25,
          0.6
         ]
        },
        "title": {
         "text": "6 Month Prediction vs Actual Plot"
        },
        "xaxis": {
         "title": {
          "text": "Date"
         }
        },
        "legend": {
         "title": {
          "text": "Legend"
         }
        }
       },
       "config": {
        "plotlyServerURL": "https://plot.ly"
       }
      },
      "text/html": [
       "<div>                            <div id=\"c9eb240a-963d-4fe3-a07a-8bf341b24fd4\" class=\"plotly-graph-div\" style=\"height:525px; width:100%;\"></div>            <script type=\"text/javascript\">                require([\"plotly\"], function(Plotly) {                    window.PLOTLYENV=window.PLOTLYENV || {};                                    if (document.getElementById(\"c9eb240a-963d-4fe3-a07a-8bf341b24fd4\")) {                    Plotly.newPlot(                        \"c9eb240a-963d-4fe3-a07a-8bf341b24fd4\",                        [{\"line\":{\"color\":\"#5c839f\",\"width\":2},\"mode\":\"lines\",\"name\":\"Actual returns\",\"x\":[\"2001-05-01\",\"2001-06-01\",\"2001-07-01\",\"2001-08-01\",\"2001-09-01\",\"2001-10-01\",\"2001-11-01\",\"2001-12-01\",\"2002-01-01\",\"2002-02-01\",\"2002-03-01\",\"2002-04-01\",\"2002-05-01\",\"2002-06-01\",\"2002-07-01\",\"2002-08-01\",\"2002-09-01\",\"2002-10-01\",\"2002-11-01\",\"2002-12-01\",\"2003-01-01\",\"2003-02-01\",\"2003-03-01\",\"2003-04-01\",\"2003-05-01\",\"2003-06-01\",\"2003-07-01\",\"2003-08-01\",\"2003-09-01\",\"2003-10-01\",\"2003-11-01\",\"2003-12-01\",\"2004-01-01\",\"2004-02-01\",\"2004-03-01\",\"2004-04-01\",\"2004-05-01\",\"2004-06-01\",\"2004-07-01\",\"2004-08-01\",\"2004-09-01\",\"2004-10-01\",\"2004-11-01\",\"2004-12-01\",\"2005-01-01\",\"2005-02-01\",\"2005-03-01\",\"2005-04-01\",\"2005-05-01\",\"2005-06-01\",\"2005-07-01\",\"2005-08-01\",\"2005-09-01\",\"2005-10-01\",\"2005-11-01\",\"2005-12-01\",\"2006-01-01\",\"2006-02-01\",\"2006-03-01\",\"2006-04-01\",\"2006-05-01\",\"2006-06-01\",\"2006-07-01\",\"2006-08-01\",\"2006-09-01\",\"2006-10-01\",\"2006-11-01\",\"2006-12-01\",\"2007-01-01\",\"2007-02-01\",\"2007-03-01\",\"2007-04-01\",\"2007-05-01\",\"2007-06-01\",\"2007-07-01\",\"2007-08-01\",\"2007-09-01\",\"2007-10-01\",\"2007-11-01\",\"2007-12-01\",\"2008-01-01\",\"2008-02-01\",\"2008-03-01\",\"2008-04-01\",\"2008-05-01\",\"2008-06-01\",\"2008-07-01\",\"2008-08-01\",\"2008-09-01\",\"2008-10-01\",\"2008-11-01\",\"2008-12-01\",\"2009-01-01\",\"2009-02-01\",\"2009-03-01\",\"2009-04-01\",\"2009-05-01\",\"2009-06-01\",\"2009-07-01\",\"2009-08-01\",\"2009-09-01\",\"2009-10-01\",\"2009-11-01\",\"2009-12-01\",\"2010-01-01\",\"2010-02-01\",\"2010-03-01\",\"2010-04-01\",\"2010-05-01\",\"2010-06-01\",\"2010-07-01\",\"2010-08-01\",\"2010-09-01\",\"2010-10-01\",\"2010-11-01\",\"2010-12-01\",\"2011-01-01\",\"2011-02-01\",\"2011-03-01\",\"2011-04-01\",\"2011-05-01\",\"2011-06-01\",\"2011-07-01\",\"2011-08-01\",\"2011-09-01\",\"2011-10-01\",\"2011-11-01\",\"2011-12-01\",\"2012-01-01\",\"2012-02-01\",\"2012-03-01\",\"2012-04-01\",\"2012-05-01\",\"2012-06-01\",\"2012-07-01\",\"2012-08-01\",\"2012-09-01\",\"2012-10-01\",\"2012-11-01\",\"2012-12-01\",\"2013-01-01\",\"2013-02-01\",\"2013-03-01\",\"2013-04-01\",\"2013-05-01\",\"2013-06-01\",\"2013-07-01\",\"2013-08-01\",\"2013-09-01\",\"2013-10-01\",\"2013-11-01\",\"2013-12-01\",\"2014-01-01\",\"2014-02-01\",\"2014-03-01\",\"2014-04-01\",\"2014-05-01\",\"2014-06-01\",\"2014-07-01\",\"2014-08-01\",\"2014-09-01\",\"2014-10-01\",\"2014-11-01\",\"2014-12-01\",\"2015-01-01\",\"2015-02-01\",\"2015-03-01\",\"2015-04-01\",\"2015-05-01\",\"2015-06-01\",\"2015-07-01\",\"2015-08-01\",\"2015-09-01\",\"2015-10-01\",\"2015-11-01\",\"2015-12-01\",\"2016-01-01\",\"2016-02-01\",\"2016-03-01\",\"2016-04-01\",\"2016-05-01\",\"2016-06-01\",\"2016-07-01\",\"2016-08-01\",\"2016-09-01\",\"2016-10-01\",\"2016-11-01\",\"2016-12-01\",\"2017-01-01\",\"2017-02-01\",\"2017-03-01\",\"2017-04-01\",\"2017-05-01\",\"2017-06-01\",\"2017-07-01\",\"2017-08-01\",\"2017-09-01\",\"2017-10-01\",\"2017-11-01\",\"2017-12-01\",\"2018-01-01\",\"2018-02-01\",\"2018-03-01\",\"2018-04-01\",\"2018-05-01\",\"2018-06-01\",\"2018-07-01\",\"2018-08-01\",\"2018-09-01\",\"2018-10-01\",\"2018-11-01\",\"2018-12-01\",\"2019-01-01\",\"2019-02-01\",\"2019-03-01\",\"2019-04-01\",\"2019-05-01\",\"2019-06-01\",\"2019-07-01\",\"2019-08-01\",\"2019-09-01\",\"2019-10-01\",\"2019-11-01\",\"2019-12-01\",\"2020-01-01\",\"2020-02-01\",\"2020-03-01\",\"2020-04-01\",\"2020-05-01\",\"2020-06-01\",\"2020-07-01\",\"2020-08-01\",\"2020-09-01\",\"2020-10-01\",\"2020-11-01\",\"2020-12-01\",\"2021-01-01\",\"2021-02-01\",\"2021-03-01\",\"2021-04-01\",\"2021-05-01\",\"2021-06-01\",\"2021-07-01\",\"2021-08-01\",\"2021-09-01\",\"2021-10-01\",\"2021-11-01\",\"2021-12-01\",\"2022-01-01\",\"2022-02-01\",\"2022-03-01\",\"2022-04-01\",\"2022-05-01\",\"2022-06-01\",\"2022-07-01\",\"2022-08-01\",\"2022-09-01\",\"2022-10-01\",\"2022-11-01\",\"2022-12-01\",\"2023-01-01\",\"2023-02-01\",\"2023-03-01\",\"2023-04-01\",\"2023-05-01\",\"2023-06-01\",\"2023-07-01\",\"2023-08-01\",\"2023-09-01\",\"2023-10-01\",\"2023-11-01\",\"2023-12-01\",\"2024-01-01\",\"2024-02-01\",\"2024-03-01\",\"2024-04-01\",\"2024-05-01\",\"2024-06-01\",\"2024-07-01\",\"2024-08-01\"],\"y\":[0.025547489413188185,0.03383545069570415,-0.007126436781608514,4.930568663036899,0.025245009074409852,-0.006037507562009159,-0.018251663641862592,0.03294615849969751,-0.004761040532365035,0.02735027223230513,-0.009370840895341792,-0.010689655172411272,-0.02825771324863846,0.009407138535993953,0.039165154264973134,-0.031022383545068588,-0.015251058681184593,0.06554143980641092,0.011845130066547194,-0.0015607985480955433,-0.026491228070174233,-0.030913490623106665,-0.08671506352086977,0.04992740471869106,0.050798548094372675,0.015862068965516674,-0.006067755595883906,0.009310344827584194,0.05072595281306347,0.00710223835450452,0.002764670296429683,-0.04802782819116436,-0.05811252268602196,-0.012516636418632099,-0.04310949788263729,0.007864488808227987,0.05825166364186196,-0.03358741681790489,-0.010980036297638107,0.005571687840290052,-0.004016938898969924,0.059951603145793175,0.06700544464609504,0.03416212946158392,0.5084513006654547,0.06142770719902968,0.0038233514821539583,0.04980036297640478,0.004228675136117133,0.015849969751963844,0.030526315789472847,0.014156079854809045,0.04684210526315691,0.004083484573501828,-0.0075257108287957175,0.03462189957652373,-0.036612220205683554,-0.0065880217785837525,0.005553539019962583,0.0005565638233508974,0.029316394434359072,0.05376285541439363,0.006430732002420392,0.020381125226857755,-0.004440411373259678,-0.026696914700541474,0.03314579552328811,0.0216817906836011,0.03581367211130959,-0.0006957047791892323,0.12865093768904812,0.0726013309134903,2.2130248033877846,0.02156079854809434,0.040816696914699246,0.012891712038716197,0.02750151240169063,0.009207501512401128,-0.031373260738048914,-0.0008166969147005432,-0.014313369630973627,0.024882032667874254,0.02975196612219899,0.02138535995160007,0.018880822746520476,0.02797943133695835,0.036872353297032756,0.004440411373261455,0.001584996975197539,0.0188082274652126,0.022619479733814396,-0.011415607985479137,-0.02407138535994935,-0.009249848759829371,0.002474289171202848,0.02551724137930922,-0.05206291591046308,-0.009225650332726487,-0.0579552329098596,-0.009280096793706338,-0.013121597096186988,0.031149425287355648,0.02318814277071768,-0.06243799153054985,-0.0049909255898370475,0.02157894736842092,-0.07269812462189917,-0.1541802782819104,-0.05525105868118674,0.04130066545674316,-0.050229885057469614,-0.05834845735027172,0.06975801572897589,0.14761645493042796,0.04329098608590476,0.035021173623714486,0.062389594676345084,0.055202661826980304,0.032274652147609384,-0.022008469449483536,0.0015910465819715114,0.05137931034482435,-0.010393224440409243,0.018554143980639592,0.05903811252268154,0.04499697519660795,-0.0543738656987246,-0.038058076225041315,0.03886267392619347,-0.035414398064121166,0.06960677555958616,0.016388384754989715,0.02758620689654956,0.0584029038112468,0.011978221415607448,0.032480338777975515,0.001603145795523453,0.019885057471262124,-0.005003024803385547,-0.002764670296429572,-0.016957047791891444,-0.0525287356321813,-0.04701754385964807,0.06892316999394943,-0.015662431941921517,0.00025408348457278684,0.059376890502114144,0.09954022988505207,0.026303690260128354,-0.007253478523894019,-0.057241379310342566,0.03002419842709836,-0.004234724742891327,0.019667271627342275,0.017150635208708076,0.001203871748335139,0.016684815486990523,0.031173623714453536,0.06079249848759227,0.0218390804597679,0.04068360556563255,0.03336963097398571,0.018215366001207878,-0.009491833030852881,0.03699334543254329,-0.01653962492437533,0.05121597096188113,0.021343012704170272,0.023980641258315005,0.02228070175438135,-0.0122565033272799,0.02886267392619213,0.0008287961282520406,-0.01481548699334323,0.01611615245008835,0.03064730792497894,-0.012855414398062703,0.0267453115547438,-0.010508166969145138,0.025311554748938203,0.041675741076825146,0.014168179068358766,0.0019419237749558338,0.04445856019358252,0.009745916515426112,0.00041137326073759084,0.02520871143375225,-0.009673321234116239,0.012788868723531133,-0.041355111917719234,-0.03201451905625696,0.062341197822137984,0.01900181488203012,-0.01770719903205853,-0.0508892921960038,-0.000641258318208493,0.056612220205681574,0.0004355716878403637,0.02140955837870062,-0.029092558983665584,0.053581367211125164,0.011010284331519182,0.0043375680580743925,-0.015184513006653577,0.051433756805806974,0.03154869933453708,0.014658197217180424,0.021845130066540985,0.009751966122203415,0.015595886267387948,0.012667876588020377,0.01312159709618732,0.013569267997577406,0.003387779794311596,0.03088929219600267,0.01952208106472675,0.023224440411370395,0.01144585601935666,0.023817301875374675,-0.025577737447060378,-0.00336358136720849,0.019479733817297173,0.02636418632788695,0.008632788868722763,0.017592256503323966,0.021772534785239328,-0.009249848759832702,-0.06341197822141131,0.01151240169388612,-0.08667271627343787,0.09143980641258032,0.03675136116152111,0.00413793103448179,0.043049001814877474,-0.05917725347852165,0.045353901996365575,0.022123411978218988,-0.029552329098605612,0.03694494857833708,0.029479733817298515,0.0347307924984841,0.026805807622500843,-0.010248033877796825,-0.0900846944948529,-0.1816152450090751,0.12603145795522974,0.07255293405928498,0.030417422867514476,0.022571082879613735,0.06055656382334962,-0.0054869933454299025,-0.007670901391404694,0.15838475499092408,0.057961282516630463,0.0404839685420475,0.05379310344827615,0.058929219600720506,0.037652752571080805,0.021343012704173825,0.020756200846943296,0.0036418632788870475,0.02528735632183654,-0.013514821536595778,0.030024198427099247,-0.030066545674527045,0.040211736237137696,-0.07431941923774554,-0.012316999395034944,0.003230490018147014,-0.05532365396248862,0.0007199032062885635,-0.07505747126436668,0.09042952208106025,-0.03070175438596201,-0.09862673926194399,0.08102843315184272,0.05529945553538784,-0.0422625529340539,0.09733212341197661,-0.011004234724740436,-0.020066545674530145,0.0013188142770683697,-0.009116757410766452,0.06248033877797354,0.04333938294010187,-0.03137931034482633,-0.040217785843914555,-0.05788868723532303,0.0877132486388339,0.07932849364790973,-0.014603750756200906,0.07413793103448185,0.027628554143975803,-0.04402903811251935,0.034162129461583035,-0.006757410768298278,0.055251058681182075,-0.0028009679370835094,-0.03332123411977328],\"type\":\"scatter\"},{\"line\":{\"color\":\"red\",\"width\":2},\"mode\":\"lines\",\"name\":\"Train returns\",\"x\":[\"2001-05-01\",\"2001-06-01\",\"2001-07-01\",\"2001-08-01\",\"2001-09-01\",\"2001-10-01\",\"2001-11-01\",\"2001-12-01\",\"2002-01-01\",\"2002-02-01\",\"2002-03-01\",\"2002-04-01\",\"2002-05-01\",\"2002-06-01\",\"2002-07-01\",\"2002-08-01\",\"2002-09-01\",\"2002-10-01\",\"2002-11-01\",\"2002-12-01\",\"2003-01-01\",\"2003-02-01\",\"2003-03-01\",\"2003-04-01\",\"2003-05-01\",\"2003-06-01\",\"2003-07-01\",\"2003-08-01\",\"2003-09-01\",\"2003-10-01\",\"2003-11-01\",\"2003-12-01\",\"2004-01-01\",\"2004-02-01\",\"2004-03-01\",\"2004-04-01\",\"2004-05-01\",\"2004-06-01\",\"2004-07-01\",\"2004-08-01\",\"2004-09-01\",\"2004-10-01\",\"2004-11-01\",\"2004-12-01\",\"2005-01-01\",\"2005-02-01\",\"2005-03-01\",\"2005-04-01\",\"2005-05-01\",\"2005-06-01\",\"2005-07-01\",\"2005-08-01\",\"2005-09-01\",\"2005-10-01\",\"2005-11-01\",\"2005-12-01\",\"2006-01-01\",\"2006-02-01\",\"2006-03-01\",\"2006-04-01\",\"2006-05-01\",\"2006-06-01\",\"2006-07-01\",\"2006-08-01\",\"2006-09-01\",\"2006-10-01\",\"2006-11-01\",\"2006-12-01\",\"2007-01-01\",\"2007-02-01\",\"2007-03-01\",\"2007-04-01\",\"2007-05-01\",\"2007-06-01\",\"2007-07-01\",\"2007-08-01\",\"2007-09-01\",\"2007-10-01\",\"2007-11-01\",\"2007-12-01\",\"2008-01-01\",\"2008-02-01\",\"2008-03-01\",\"2008-04-01\",\"2008-05-01\",\"2008-06-01\",\"2008-07-01\",\"2008-08-01\",\"2008-09-01\",\"2008-10-01\",\"2008-11-01\",\"2008-12-01\",\"2009-01-01\",\"2009-02-01\",\"2009-03-01\",\"2009-04-01\",\"2009-05-01\",\"2009-06-01\",\"2009-07-01\",\"2009-08-01\",\"2009-09-01\",\"2009-10-01\",\"2009-11-01\",\"2009-12-01\",\"2010-01-01\",\"2010-02-01\",\"2010-03-01\",\"2010-04-01\",\"2010-05-01\",\"2010-06-01\",\"2010-07-01\",\"2010-08-01\",\"2010-09-01\",\"2010-10-01\",\"2010-11-01\",\"2010-12-01\",\"2011-01-01\",\"2011-02-01\",\"2011-03-01\",\"2011-04-01\",\"2011-05-01\",\"2011-06-01\",\"2011-07-01\",\"2011-08-01\",\"2011-09-01\",\"2011-10-01\",\"2011-11-01\",\"2011-12-01\",\"2012-01-01\",\"2012-02-01\",\"2012-03-01\",\"2012-04-01\",\"2012-05-01\",\"2012-06-01\",\"2012-07-01\",\"2012-08-01\",\"2012-09-01\",\"2012-10-01\",\"2012-11-01\",\"2012-12-01\",\"2013-01-01\",\"2013-02-01\",\"2013-03-01\",\"2013-04-01\",\"2013-05-01\",\"2013-06-01\",\"2013-07-01\",\"2013-08-01\",\"2013-09-01\",\"2013-10-01\",\"2013-11-01\",\"2013-12-01\",\"2014-01-01\",\"2014-02-01\",\"2014-03-01\",\"2014-04-01\",\"2014-05-01\",\"2014-06-01\",\"2014-07-01\",\"2014-08-01\",\"2014-09-01\",\"2014-10-01\",\"2014-11-01\",\"2014-12-01\",\"2015-01-01\",\"2015-02-01\",\"2015-03-01\",\"2015-04-01\",\"2015-05-01\",\"2015-06-01\",\"2015-07-01\",\"2015-08-01\",\"2015-09-01\",\"2015-10-01\",\"2015-11-01\",\"2015-12-01\",\"2016-01-01\",\"2016-02-01\",\"2016-03-01\",\"2016-04-01\",\"2016-05-01\",\"2016-06-01\",\"2016-07-01\",\"2016-08-01\",\"2016-09-01\",\"2016-10-01\",\"2016-11-01\",\"2016-12-01\",\"2017-01-01\",\"2017-02-01\",\"2017-03-01\",\"2017-04-01\",\"2017-05-01\",\"2017-06-01\",\"2017-07-01\",\"2017-08-01\",\"2017-09-01\",\"2017-10-01\",\"2017-11-01\",\"2017-12-01\",\"2018-01-01\",\"2018-02-01\",\"2018-03-01\",\"2018-04-01\",\"2018-05-01\",\"2018-06-01\",\"2018-07-01\",\"2018-08-01\",\"2018-09-01\",\"2018-10-01\",\"2018-11-01\",\"2018-12-01\",\"2019-01-01\",\"2019-02-01\",\"2019-03-01\",\"2019-04-01\",\"2019-05-01\",\"2019-06-01\",\"2019-07-01\",\"2019-08-01\",\"2019-09-01\",\"2019-10-01\",\"2019-11-01\",\"2019-12-01\",\"2020-01-01\",\"2020-02-01\",\"2020-03-01\",\"2020-04-01\",\"2020-05-01\",\"2020-06-01\",\"2020-07-01\",\"2020-08-01\",\"2020-09-01\",\"2020-10-01\",\"2020-11-01\",\"2020-12-01\",\"2021-01-01\",\"2021-02-01\",\"2021-03-01\",\"2021-04-01\",\"2021-05-01\",\"2021-06-01\",\"2021-07-01\",\"2021-08-01\",\"2021-09-01\",\"2021-10-01\",\"2021-11-01\",\"2021-12-01\",\"2022-01-01\",\"2022-02-01\",\"2022-03-01\",\"2022-04-01\",\"2022-05-01\",\"2022-06-01\",\"2022-07-01\",\"2022-08-01\",\"2022-09-01\",\"2022-10-01\",\"2022-11-01\",\"2022-12-01\",\"2023-01-01\",\"2023-02-01\",\"2023-03-01\",\"2023-04-01\",\"2023-05-01\",\"2023-06-01\",\"2023-07-01\",\"2023-08-01\",\"2023-09-01\",\"2023-10-01\",\"2023-11-01\",\"2023-12-01\",\"2024-01-01\",\"2024-02-01\"],\"y\":[0.0038640499114990234,0.008454203605651855,0.0031293630599975586,0.0032883882522583008,0.0070552825927734375,0.007642865180969238,0.0029342174530029297,0.004373669624328613,0.0050362348556518555,0.0027112960815429688,0.007098674774169922,0.0051157474517822266,0.0066776275634765625,0.00025904178619384766,0.0017157793045043945,0.003576993942260742,0.003865361213684082,0.004716157913208008,0.004016399383544922,0.0045108795166015625,0.004077315330505371,0.006059527397155762,0.007570147514343262,0.005118727684020996,0.0069103240966796875,0.0060471296310424805,0.010350823402404785,0.005002498626708984,0.0034637451171875,0.0025712251663208008,0.0048743486404418945,0.004962563514709473,0.005223870277404785,0.009424686431884766,0.004500746726989746,0.0064105987548828125,0.004619121551513672,0.007646799087524414,0.0070449113845825195,0.004730582237243652,0.0065125226974487305,0.005467653274536133,0.006879448890686035,0.012512564659118652,0.0061283111572265625,0.0034694671630859375,0.003851652145385742,0.006349444389343262,0.00406491756439209,0.0023322105407714844,0.007146239280700684,0.004872322082519531,0.0066759586334228516,0.008798360824584961,0.004273414611816406,0.006352782249450684,0.0033742189407348633,0.005740165710449219,0.004442095756530762,0.003377676010131836,0.45646917819976807,2.1703433990478516,0.005612015724182129,0.0037605762481689453,0.004015564918518066,0.00474238395690918,0.0151902437210083,0.009412288665771484,0.0068367719650268555,0.0054590702056884766,0.006979942321777344,0.0031851530075073242,0.0010470151901245117,0.00687718391418457,0.005914807319641113,0.030481696128845215,0.001934647560119629,0.0031783580780029297,0.0029653310775756836,0.01002204418182373,0.006682157516479492,0.004694104194641113,0.005586147308349609,0.0036003589630126953,0.0029488801956176758,0.0020253658294677734,0.005279183387756348,0.005074262619018555,0.004814863204956055,0.0019085407257080078,0.006291866302490234,0.009751200675964355,0.0032494068145751953,0.004890799522399902,0.005924105644226074,0.0038105249404907227,0.002266407012939453,0.0030251741409301758,0.003921866416931152,0.0025300979614257812,0.0025620460510253906,0.007472038269042969,0.004455685615539551,0.0023201704025268555,0.005015134811401367,0.0035058259963989258,0.0020453929901123047,0.0010319948196411133,0.0015611648559570312,0.0064650774002075195,0.007184624671936035,0.004664301872253418,0.0019265413284301758,0.006018996238708496,0.005141019821166992,0.007607698440551758,0.007917642593383789,0.003179311752319336,0.004163265228271484,0.004717588424682617,0.005289554595947266,0.009938478469848633,0.004517674446105957,0.008092641830444336,0.003781437873840332,0.003982424736022949,0.009963154792785645,0.0018846988677978516,0.004120349884033203,0.0028815269470214844,0.002490997314453125,0.002520918846130371,0.005585074424743652,0.0033431053161621094,0.007036924362182617,0.005086541175842285,0.0019239187240600586,0.0030345916748046875,0.009396553039550781,0.004425048828125,0.0026397705078125,0.005400180816650391,0.008730769157409668,0.09797894954681396,0.004754304885864258,0.008337020874023438,0.0038785934448242188,0.008487582206726074,0.007207632064819336,0.0005725622177124023,0.0062247514724731445,0.0056247711181640625,0.009137511253356934,0.0027027130126953125,0.00210416316986084,0.0027979612350463867,0.0044918060302734375,-0.05764502286911011,0.0026634931564331055,0.0038585662841796875,0.005416750907897949,0.0013517141342163086,0.008128166198730469,0.0028624534606933594,0.0031032562255859375,0.004622697830200195,0.008371114730834961,0.005395650863647461,0.00349271297454834,0.009781479835510254,0.0026650428771972656,0.0038722753524780273,0.004236698150634766,0.0006695985794067383,0.003186345100402832,0.005876779556274414,0.004143357276916504,0.008061885833740234,0.006487011909484863,0.008785843849182129,0.0036399364471435547,0.003346562385559082,0.005601167678833008,0.0024950504302978516,0.008324265480041504,0.0010849237442016602,0.0024808645248413086,0.0030618906021118164,0.0026112794876098633,0.002690434455871582,0.007729172706604004,0.006657123565673828,0.0052716732025146484,0.004265427589416504,0.003275752067565918,0.002573847770690918,0.0049419403076171875,0.0015276670455932617,0.11091923713684082,0.003866910934448242,0.00484156608581543,0.008919358253479004,0.0036832094192504883,0.007243752479553223,0.001064300537109375,0.0058536529541015625,0.008143901824951172,0.004329204559326172,0.00360262393951416,0.0037196874618530273,0.0034027099609375,0.0078200101852417,0.0037009716033935547,0.004495978355407715,0.003968477249145508,0.0016968250274658203,0.011348724365234375,0.00315701961517334,0.004221677780151367,0.005379676818847656,0.004453778266906738,0.0006973743438720703,0.0038007497787475586,0.004257082939147949,0.00870978832244873,0.004196524620056152,-0.00017780065536499023,0.003916382789611816,0.008275628089904785,0.002300739288330078,0.00637662410736084,0.005310416221618652,0.0025293827056884766,0.004687309265136719,0.0009359121322631836,0.008910059928894043,0.0019860267639160156,0.0020052194595336914,0.0028820037841796875,0.006843209266662598,0.005899786949157715,0.0047615766525268555,0.001180410385131836,0.00658869743347168,0.002998828887939453,0.010447502136230469,0.008198380470275879,0.0066661834716796875,0.00472712516784668,0.004832148551940918,0.002354741096496582,0.004732370376586914,0.004369258880615234,0.004406571388244629,0.007203221321105957,0.004538297653198242,0.0025548934936523438,0.005979776382446289,0.004748821258544922,0.011165499687194824,0.005904555320739746,-0.00023555755615234375,0.004298567771911621,0.007790684700012207,0.005255937576293945,0.0015382766723632812,0.0041904449462890625,0.004559159278869629,0.0036007165908813477,0.004767775535583496,0.01416921615600586,0.006268620491027832,0.0036194324493408203,0.009413361549377441],\"type\":\"scatter\"},{\"line\":{\"color\":\"green\",\"width\":2},\"mode\":\"lines\",\"name\":\"Test returns\",\"x\":[\"2024-02-01\",\"2024-03-01\",\"2024-04-01\",\"2024-05-01\",\"2024-06-01\",\"2024-07-01\",\"2024-08-01\"],\"y\":[0.009413361549377441,0.004263877868652344,0.02131354808807373,0.018800973892211914,0.005198121070861816,0.0038655996322631836,0.006406545639038086],\"type\":\"scatter\"}],                        {\"template\":{\"data\":{\"barpolar\":[{\"marker\":{\"line\":{\"color\":\"white\",\"width\":0.5},\"pattern\":{\"fillmode\":\"overlay\",\"size\":10,\"solidity\":0.2}},\"type\":\"barpolar\"}],\"bar\":[{\"error_x\":{\"color\":\"#2a3f5f\"},\"error_y\":{\"color\":\"#2a3f5f\"},\"marker\":{\"line\":{\"color\":\"white\",\"width\":0.5},\"pattern\":{\"fillmode\":\"overlay\",\"size\":10,\"solidity\":0.2}},\"type\":\"bar\"}],\"carpet\":[{\"aaxis\":{\"endlinecolor\":\"#2a3f5f\",\"gridcolor\":\"#C8D4E3\",\"linecolor\":\"#C8D4E3\",\"minorgridcolor\":\"#C8D4E3\",\"startlinecolor\":\"#2a3f5f\"},\"baxis\":{\"endlinecolor\":\"#2a3f5f\",\"gridcolor\":\"#C8D4E3\",\"linecolor\":\"#C8D4E3\",\"minorgridcolor\":\"#C8D4E3\",\"startlinecolor\":\"#2a3f5f\"},\"type\":\"carpet\"}],\"choropleth\":[{\"colorbar\":{\"outlinewidth\":0,\"ticks\":\"\"},\"type\":\"choropleth\"}],\"contourcarpet\":[{\"colorbar\":{\"outlinewidth\":0,\"ticks\":\"\"},\"type\":\"contourcarpet\"}],\"contour\":[{\"colorbar\":{\"outlinewidth\":0,\"ticks\":\"\"},\"colorscale\":[[0.0,\"#0d0887\"],[0.1111111111111111,\"#46039f\"],[0.2222222222222222,\"#7201a8\"],[0.3333333333333333,\"#9c179e\"],[0.4444444444444444,\"#bd3786\"],[0.5555555555555556,\"#d8576b\"],[0.6666666666666666,\"#ed7953\"],[0.7777777777777778,\"#fb9f3a\"],[0.8888888888888888,\"#fdca26\"],[1.0,\"#f0f921\"]],\"type\":\"contour\"}],\"heatmapgl\":[{\"colorbar\":{\"outlinewidth\":0,\"ticks\":\"\"},\"colorscale\":[[0.0,\"#0d0887\"],[0.1111111111111111,\"#46039f\"],[0.2222222222222222,\"#7201a8\"],[0.3333333333333333,\"#9c179e\"],[0.4444444444444444,\"#bd3786\"],[0.5555555555555556,\"#d8576b\"],[0.6666666666666666,\"#ed7953\"],[0.7777777777777778,\"#fb9f3a\"],[0.8888888888888888,\"#fdca26\"],[1.0,\"#f0f921\"]],\"type\":\"heatmapgl\"}],\"heatmap\":[{\"colorbar\":{\"outlinewidth\":0,\"ticks\":\"\"},\"colorscale\":[[0.0,\"#0d0887\"],[0.1111111111111111,\"#46039f\"],[0.2222222222222222,\"#7201a8\"],[0.3333333333333333,\"#9c179e\"],[0.4444444444444444,\"#bd3786\"],[0.5555555555555556,\"#d8576b\"],[0.6666666666666666,\"#ed7953\"],[0.7777777777777778,\"#fb9f3a\"],[0.8888888888888888,\"#fdca26\"],[1.0,\"#f0f921\"]],\"type\":\"heatmap\"}],\"histogram2dcontour\":[{\"colorbar\":{\"outlinewidth\":0,\"ticks\":\"\"},\"colorscale\":[[0.0,\"#0d0887\"],[0.1111111111111111,\"#46039f\"],[0.2222222222222222,\"#7201a8\"],[0.3333333333333333,\"#9c179e\"],[0.4444444444444444,\"#bd3786\"],[0.5555555555555556,\"#d8576b\"],[0.6666666666666666,\"#ed7953\"],[0.7777777777777778,\"#fb9f3a\"],[0.8888888888888888,\"#fdca26\"],[1.0,\"#f0f921\"]],\"type\":\"histogram2dcontour\"}],\"histogram2d\":[{\"colorbar\":{\"outlinewidth\":0,\"ticks\":\"\"},\"colorscale\":[[0.0,\"#0d0887\"],[0.1111111111111111,\"#46039f\"],[0.2222222222222222,\"#7201a8\"],[0.3333333333333333,\"#9c179e\"],[0.4444444444444444,\"#bd3786\"],[0.5555555555555556,\"#d8576b\"],[0.6666666666666666,\"#ed7953\"],[0.7777777777777778,\"#fb9f3a\"],[0.8888888888888888,\"#fdca26\"],[1.0,\"#f0f921\"]],\"type\":\"histogram2d\"}],\"histogram\":[{\"marker\":{\"pattern\":{\"fillmode\":\"overlay\",\"size\":10,\"solidity\":0.2}},\"type\":\"histogram\"}],\"mesh3d\":[{\"colorbar\":{\"outlinewidth\":0,\"ticks\":\"\"},\"type\":\"mesh3d\"}],\"parcoords\":[{\"line\":{\"colorbar\":{\"outlinewidth\":0,\"ticks\":\"\"}},\"type\":\"parcoords\"}],\"pie\":[{\"automargin\":true,\"type\":\"pie\"}],\"scatter3d\":[{\"line\":{\"colorbar\":{\"outlinewidth\":0,\"ticks\":\"\"}},\"marker\":{\"colorbar\":{\"outlinewidth\":0,\"ticks\":\"\"}},\"type\":\"scatter3d\"}],\"scattercarpet\":[{\"marker\":{\"colorbar\":{\"outlinewidth\":0,\"ticks\":\"\"}},\"type\":\"scattercarpet\"}],\"scattergeo\":[{\"marker\":{\"colorbar\":{\"outlinewidth\":0,\"ticks\":\"\"}},\"type\":\"scattergeo\"}],\"scattergl\":[{\"marker\":{\"colorbar\":{\"outlinewidth\":0,\"ticks\":\"\"}},\"type\":\"scattergl\"}],\"scattermapbox\":[{\"marker\":{\"colorbar\":{\"outlinewidth\":0,\"ticks\":\"\"}},\"type\":\"scattermapbox\"}],\"scatterpolargl\":[{\"marker\":{\"colorbar\":{\"outlinewidth\":0,\"ticks\":\"\"}},\"type\":\"scatterpolargl\"}],\"scatterpolar\":[{\"marker\":{\"colorbar\":{\"outlinewidth\":0,\"ticks\":\"\"}},\"type\":\"scatterpolar\"}],\"scatter\":[{\"fillpattern\":{\"fillmode\":\"overlay\",\"size\":10,\"solidity\":0.2},\"type\":\"scatter\"}],\"scatterternary\":[{\"marker\":{\"colorbar\":{\"outlinewidth\":0,\"ticks\":\"\"}},\"type\":\"scatterternary\"}],\"surface\":[{\"colorbar\":{\"outlinewidth\":0,\"ticks\":\"\"},\"colorscale\":[[0.0,\"#0d0887\"],[0.1111111111111111,\"#46039f\"],[0.2222222222222222,\"#7201a8\"],[0.3333333333333333,\"#9c179e\"],[0.4444444444444444,\"#bd3786\"],[0.5555555555555556,\"#d8576b\"],[0.6666666666666666,\"#ed7953\"],[0.7777777777777778,\"#fb9f3a\"],[0.8888888888888888,\"#fdca26\"],[1.0,\"#f0f921\"]],\"type\":\"surface\"}],\"table\":[{\"cells\":{\"fill\":{\"color\":\"#EBF0F8\"},\"line\":{\"color\":\"white\"}},\"header\":{\"fill\":{\"color\":\"#C8D4E3\"},\"line\":{\"color\":\"white\"}},\"type\":\"table\"}]},\"layout\":{\"annotationdefaults\":{\"arrowcolor\":\"#2a3f5f\",\"arrowhead\":0,\"arrowwidth\":1},\"autotypenumbers\":\"strict\",\"coloraxis\":{\"colorbar\":{\"outlinewidth\":0,\"ticks\":\"\"}},\"colorscale\":{\"diverging\":[[0,\"#8e0152\"],[0.1,\"#c51b7d\"],[0.2,\"#de77ae\"],[0.3,\"#f1b6da\"],[0.4,\"#fde0ef\"],[0.5,\"#f7f7f7\"],[0.6,\"#e6f5d0\"],[0.7,\"#b8e186\"],[0.8,\"#7fbc41\"],[0.9,\"#4d9221\"],[1,\"#276419\"]],\"sequential\":[[0.0,\"#0d0887\"],[0.1111111111111111,\"#46039f\"],[0.2222222222222222,\"#7201a8\"],[0.3333333333333333,\"#9c179e\"],[0.4444444444444444,\"#bd3786\"],[0.5555555555555556,\"#d8576b\"],[0.6666666666666666,\"#ed7953\"],[0.7777777777777778,\"#fb9f3a\"],[0.8888888888888888,\"#fdca26\"],[1.0,\"#f0f921\"]],\"sequentialminus\":[[0.0,\"#0d0887\"],[0.1111111111111111,\"#46039f\"],[0.2222222222222222,\"#7201a8\"],[0.3333333333333333,\"#9c179e\"],[0.4444444444444444,\"#bd3786\"],[0.5555555555555556,\"#d8576b\"],[0.6666666666666666,\"#ed7953\"],[0.7777777777777778,\"#fb9f3a\"],[0.8888888888888888,\"#fdca26\"],[1.0,\"#f0f921\"]]},\"colorway\":[\"#636efa\",\"#EF553B\",\"#00cc96\",\"#ab63fa\",\"#FFA15A\",\"#19d3f3\",\"#FF6692\",\"#B6E880\",\"#FF97FF\",\"#FECB52\"],\"font\":{\"color\":\"#2a3f5f\"},\"geo\":{\"bgcolor\":\"white\",\"lakecolor\":\"white\",\"landcolor\":\"white\",\"showlakes\":true,\"showland\":true,\"subunitcolor\":\"#C8D4E3\"},\"hoverlabel\":{\"align\":\"left\"},\"hovermode\":\"closest\",\"mapbox\":{\"style\":\"light\"},\"paper_bgcolor\":\"white\",\"plot_bgcolor\":\"white\",\"polar\":{\"angularaxis\":{\"gridcolor\":\"#EBF0F8\",\"linecolor\":\"#EBF0F8\",\"ticks\":\"\"},\"bgcolor\":\"white\",\"radialaxis\":{\"gridcolor\":\"#EBF0F8\",\"linecolor\":\"#EBF0F8\",\"ticks\":\"\"}},\"scene\":{\"xaxis\":{\"backgroundcolor\":\"white\",\"gridcolor\":\"#DFE8F3\",\"gridwidth\":2,\"linecolor\":\"#EBF0F8\",\"showbackground\":true,\"ticks\":\"\",\"zerolinecolor\":\"#EBF0F8\"},\"yaxis\":{\"backgroundcolor\":\"white\",\"gridcolor\":\"#DFE8F3\",\"gridwidth\":2,\"linecolor\":\"#EBF0F8\",\"showbackground\":true,\"ticks\":\"\",\"zerolinecolor\":\"#EBF0F8\"},\"zaxis\":{\"backgroundcolor\":\"white\",\"gridcolor\":\"#DFE8F3\",\"gridwidth\":2,\"linecolor\":\"#EBF0F8\",\"showbackground\":true,\"ticks\":\"\",\"zerolinecolor\":\"#EBF0F8\"}},\"shapedefaults\":{\"line\":{\"color\":\"#2a3f5f\"}},\"ternary\":{\"aaxis\":{\"gridcolor\":\"#DFE8F3\",\"linecolor\":\"#A2B1C6\",\"ticks\":\"\"},\"baxis\":{\"gridcolor\":\"#DFE8F3\",\"linecolor\":\"#A2B1C6\",\"ticks\":\"\"},\"bgcolor\":\"white\",\"caxis\":{\"gridcolor\":\"#DFE8F3\",\"linecolor\":\"#A2B1C6\",\"ticks\":\"\"}},\"title\":{\"x\":0.05},\"xaxis\":{\"automargin\":true,\"gridcolor\":\"#EBF0F8\",\"linecolor\":\"#EBF0F8\",\"ticks\":\"\",\"title\":{\"standoff\":15},\"zerolinecolor\":\"#EBF0F8\",\"zerolinewidth\":2},\"yaxis\":{\"automargin\":true,\"gridcolor\":\"#EBF0F8\",\"linecolor\":\"#EBF0F8\",\"ticks\":\"\",\"title\":{\"standoff\":15},\"zerolinecolor\":\"#EBF0F8\",\"zerolinewidth\":2}}},\"shapes\":[{\"line\":{\"color\":\"red\",\"dash\":\"dash\",\"width\":1},\"type\":\"line\",\"x0\":\"2024-02-01\",\"x1\":\"2024-02-01\",\"xref\":\"x\",\"y0\":0,\"y1\":1,\"yref\":\"y domain\"}],\"yaxis\":{\"title\":{\"text\":\"Day closing return (%)\"},\"tickformat\":\".0%\",\"range\":[-0.25,0.6]},\"title\":{\"text\":\"6 Month Prediction vs Actual Plot\"},\"xaxis\":{\"title\":{\"text\":\"Date\"}},\"legend\":{\"title\":{\"text\":\"Legend\"}}},                        {\"responsive\": true}                    ).then(function(){\n",
       "                            \n",
       "var gd = document.getElementById('c9eb240a-963d-4fe3-a07a-8bf341b24fd4');\n",
       "var x = new MutationObserver(function (mutations, observer) {{\n",
       "        var display = window.getComputedStyle(gd).display;\n",
       "        if (!display || display === 'none') {{\n",
       "            console.log([gd, 'removed!']);\n",
       "            Plotly.purge(gd);\n",
       "            observer.disconnect();\n",
       "        }}\n",
       "}});\n",
       "\n",
       "// Listen for the removal of the full notebook cells\n",
       "var notebookContainer = gd.closest('#notebook-container');\n",
       "if (notebookContainer) {{\n",
       "    x.observe(notebookContainer, {childList: true});\n",
       "}}\n",
       "\n",
       "// Listen for the clearing of the current output cell\n",
       "var outputEl = gd.closest('.output');\n",
       "if (outputEl) {{\n",
       "    x.observe(outputEl, {childList: true});\n",
       "}}\n",
       "\n",
       "                        })                };                });            </script>        </div>"
      ]
     },
     "metadata": {},
     "output_type": "display_data"
    }
   ],
   "execution_count": 136
  },
  {
   "metadata": {},
   "cell_type": "markdown",
   "source": "#### Allocation",
   "id": "1148da093550c989"
  },
  {
   "metadata": {
    "ExecuteTime": {
     "end_time": "2025-06-14T09:09:21.558599Z",
     "start_time": "2025-06-14T09:09:21.459709Z"
    }
   },
   "cell_type": "code",
   "source": [
    "# Get train true values followed with predicted month/s\n",
    "y_train_6m_list = y_train_6m['m_return_target(t+6)'].tolist()\n",
    "y_pred_6m_list = y_test_pred_6m.tolist()\n",
    "#\n",
    "df_to_evaluate_6m = mpt_utils.get_df_from_pred_list(df_pct, y_train_1m_list, y_pred_6m_list)\n",
    "df_to_evaluate_6m = df_to_evaluate_6m - 1\n",
    "df_to_evaluate_6m.head(3)"
   ],
   "id": "d761352c52ff61eb",
   "outputs": [
    {
     "data": {
      "text/plain": [
       "   RS1.L    KE  TEG.DE  LEG.DE   SCS   HNI   AVT  ACCO  VNA.DE  7912.T  ...  \\\n",
       "0   0.00  0.00    0.00   -0.06  0.03  0.05  0.22  0.00   -0.04    0.05  ...   \n",
       "1   0.01  0.00    0.55    0.04  0.09 -0.02  0.28 -0.08    0.02   -0.06  ...   \n",
       "2   0.00 -0.03    0.09   -0.13 -0.05 -0.01 -0.11 -0.02   -0.10   -0.08  ...   \n",
       "\n",
       "   DEQ.DE  KIDS  HALO  MATW  9842.T  KVHI  MOON.L   NEO  6055.T   UNP  \n",
       "0    0.00  0.00  0.00  0.09    0.00 -0.16    0.00  0.00     0.0  0.09  \n",
       "1    0.00  0.29 -0.09 -0.02   -0.04  0.69   -0.14 -0.24     0.0  0.05  \n",
       "2   -0.48  0.00  0.00  0.01    0.00 -0.26    0.00  0.00     0.0  0.04  \n",
       "\n",
       "[3 rows x 1653 columns]"
      ],
      "text/html": [
       "<div>\n",
       "<style scoped>\n",
       "    .dataframe tbody tr th:only-of-type {\n",
       "        vertical-align: middle;\n",
       "    }\n",
       "\n",
       "    .dataframe tbody tr th {\n",
       "        vertical-align: top;\n",
       "    }\n",
       "\n",
       "    .dataframe thead th {\n",
       "        text-align: right;\n",
       "    }\n",
       "</style>\n",
       "<table border=\"1\" class=\"dataframe\">\n",
       "  <thead>\n",
       "    <tr style=\"text-align: right;\">\n",
       "      <th></th>\n",
       "      <th>RS1.L</th>\n",
       "      <th>KE</th>\n",
       "      <th>TEG.DE</th>\n",
       "      <th>LEG.DE</th>\n",
       "      <th>SCS</th>\n",
       "      <th>HNI</th>\n",
       "      <th>AVT</th>\n",
       "      <th>ACCO</th>\n",
       "      <th>VNA.DE</th>\n",
       "      <th>7912.T</th>\n",
       "      <th>...</th>\n",
       "      <th>DEQ.DE</th>\n",
       "      <th>KIDS</th>\n",
       "      <th>HALO</th>\n",
       "      <th>MATW</th>\n",
       "      <th>9842.T</th>\n",
       "      <th>KVHI</th>\n",
       "      <th>MOON.L</th>\n",
       "      <th>NEO</th>\n",
       "      <th>6055.T</th>\n",
       "      <th>UNP</th>\n",
       "    </tr>\n",
       "  </thead>\n",
       "  <tbody>\n",
       "    <tr>\n",
       "      <th>0</th>\n",
       "      <td>0.00</td>\n",
       "      <td>0.00</td>\n",
       "      <td>0.00</td>\n",
       "      <td>-0.06</td>\n",
       "      <td>0.03</td>\n",
       "      <td>0.05</td>\n",
       "      <td>0.22</td>\n",
       "      <td>0.00</td>\n",
       "      <td>-0.04</td>\n",
       "      <td>0.05</td>\n",
       "      <td>...</td>\n",
       "      <td>0.00</td>\n",
       "      <td>0.00</td>\n",
       "      <td>0.00</td>\n",
       "      <td>0.09</td>\n",
       "      <td>0.00</td>\n",
       "      <td>-0.16</td>\n",
       "      <td>0.00</td>\n",
       "      <td>0.00</td>\n",
       "      <td>0.0</td>\n",
       "      <td>0.09</td>\n",
       "    </tr>\n",
       "    <tr>\n",
       "      <th>1</th>\n",
       "      <td>0.01</td>\n",
       "      <td>0.00</td>\n",
       "      <td>0.55</td>\n",
       "      <td>0.04</td>\n",
       "      <td>0.09</td>\n",
       "      <td>-0.02</td>\n",
       "      <td>0.28</td>\n",
       "      <td>-0.08</td>\n",
       "      <td>0.02</td>\n",
       "      <td>-0.06</td>\n",
       "      <td>...</td>\n",
       "      <td>0.00</td>\n",
       "      <td>0.29</td>\n",
       "      <td>-0.09</td>\n",
       "      <td>-0.02</td>\n",
       "      <td>-0.04</td>\n",
       "      <td>0.69</td>\n",
       "      <td>-0.14</td>\n",
       "      <td>-0.24</td>\n",
       "      <td>0.0</td>\n",
       "      <td>0.05</td>\n",
       "    </tr>\n",
       "    <tr>\n",
       "      <th>2</th>\n",
       "      <td>0.00</td>\n",
       "      <td>-0.03</td>\n",
       "      <td>0.09</td>\n",
       "      <td>-0.13</td>\n",
       "      <td>-0.05</td>\n",
       "      <td>-0.01</td>\n",
       "      <td>-0.11</td>\n",
       "      <td>-0.02</td>\n",
       "      <td>-0.10</td>\n",
       "      <td>-0.08</td>\n",
       "      <td>...</td>\n",
       "      <td>-0.48</td>\n",
       "      <td>0.00</td>\n",
       "      <td>0.00</td>\n",
       "      <td>0.01</td>\n",
       "      <td>0.00</td>\n",
       "      <td>-0.26</td>\n",
       "      <td>0.00</td>\n",
       "      <td>0.00</td>\n",
       "      <td>0.0</td>\n",
       "      <td>0.04</td>\n",
       "    </tr>\n",
       "  </tbody>\n",
       "</table>\n",
       "<p>3 rows × 1653 columns</p>\n",
       "</div>"
      ]
     },
     "execution_count": 137,
     "metadata": {},
     "output_type": "execute_result"
    }
   ],
   "execution_count": 137
  },
  {
   "metadata": {},
   "cell_type": "markdown",
   "source": [
    "In order for Mean-Variance Optimisation to create an optimal portfolio, by allocation to the best performing tickers, \n",
    "based on their weight and price. Predicted return and those being evaluated have to be adopted to the actual prices."
   ],
   "id": "e45f090c6f6ff0e9"
  },
  {
   "metadata": {
    "jupyter": {
     "is_executing": true
    },
    "ExecuteTime": {
     "start_time": "2025-06-14T09:09:22.035584Z"
    }
   },
   "cell_type": "code",
   "source": [
    "importlib.reload(mpt_utils)\n",
    "\n",
    "weights_6m, mu_6m, S_6m, weights_all_6m = mpt_utils.portfolio_and_plot(df_to_evaluate_6m, df)"
   ],
   "id": "625e784b3069ce09",
   "outputs": [],
   "execution_count": null
  },
  {
   "metadata": {},
   "cell_type": "markdown",
   "source": "#### Overview - 6 Months",
   "id": "7a8e449dc443a4c9"
  },
  {
   "metadata": {
    "ExecuteTime": {
     "end_time": "2025-06-14T08:41:10.722706Z",
     "start_time": "2025-06-14T08:41:10.708031Z"
    }
   },
   "cell_type": "code",
   "source": [
    "importlib.reload(mpt_utils)\n",
    "# Create overview\n",
    "mpt_utils.generate_overview_table(weights_all_6m, mu_6m, S_6m, df_pct)"
   ],
   "id": "b418720723786c",
   "outputs": [
    {
     "data": {
      "text/plain": [
       "        Share Count  Average Covariance Average Returns Return Last 12 Months  \\\n",
       "8129.T            7            0.001000          19.77%                -5.74%   \n",
       "BAH               1           -0.005667          14.99%                44.58%   \n",
       "7552.T           10            0.007167           9.39%               -17.65%   \n",
       "PLUS.L            1            0.021333          25.12%               -32.76%   \n",
       "7451.T            5            0.008167          22.48%                -3.79%   \n",
       "...             ...                 ...             ...                   ...   \n",
       "9069.T            4            0.033833          12.75%                 2.27%   \n",
       "9869.T            1            0.032833         115.89%                 2.71%   \n",
       "FINV              5            0.044833          22.83%               -48.75%   \n",
       "6718.T            1            0.070167          20.71%                30.14%   \n",
       "3608.T            2            0.062667          12.76%               -23.16%   \n",
       "\n",
       "       Return (Actual) Next 12 Months  \n",
       "8129.T                         -9.19%  \n",
       "BAH                            20.61%  \n",
       "7552.T                         18.02%  \n",
       "PLUS.L                        131.69%  \n",
       "7451.T                          4.61%  \n",
       "...                               ...  \n",
       "9069.T                         20.42%  \n",
       "9869.T                         14.36%  \n",
       "FINV                          -31.45%  \n",
       "6718.T                         -1.44%  \n",
       "3608.T                        -43.60%  \n",
       "\n",
       "[61 rows x 5 columns]"
      ],
      "text/html": [
       "<div>\n",
       "<style scoped>\n",
       "    .dataframe tbody tr th:only-of-type {\n",
       "        vertical-align: middle;\n",
       "    }\n",
       "\n",
       "    .dataframe tbody tr th {\n",
       "        vertical-align: top;\n",
       "    }\n",
       "\n",
       "    .dataframe thead th {\n",
       "        text-align: right;\n",
       "    }\n",
       "</style>\n",
       "<table border=\"1\" class=\"dataframe\">\n",
       "  <thead>\n",
       "    <tr style=\"text-align: right;\">\n",
       "      <th></th>\n",
       "      <th>Share Count</th>\n",
       "      <th>Average Covariance</th>\n",
       "      <th>Average Returns</th>\n",
       "      <th>Return Last 12 Months</th>\n",
       "      <th>Return (Actual) Next 12 Months</th>\n",
       "    </tr>\n",
       "  </thead>\n",
       "  <tbody>\n",
       "    <tr>\n",
       "      <th>8129.T</th>\n",
       "      <td>7</td>\n",
       "      <td>0.001000</td>\n",
       "      <td>19.77%</td>\n",
       "      <td>-5.74%</td>\n",
       "      <td>-9.19%</td>\n",
       "    </tr>\n",
       "    <tr>\n",
       "      <th>BAH</th>\n",
       "      <td>1</td>\n",
       "      <td>-0.005667</td>\n",
       "      <td>14.99%</td>\n",
       "      <td>44.58%</td>\n",
       "      <td>20.61%</td>\n",
       "    </tr>\n",
       "    <tr>\n",
       "      <th>7552.T</th>\n",
       "      <td>10</td>\n",
       "      <td>0.007167</td>\n",
       "      <td>9.39%</td>\n",
       "      <td>-17.65%</td>\n",
       "      <td>18.02%</td>\n",
       "    </tr>\n",
       "    <tr>\n",
       "      <th>PLUS.L</th>\n",
       "      <td>1</td>\n",
       "      <td>0.021333</td>\n",
       "      <td>25.12%</td>\n",
       "      <td>-32.76%</td>\n",
       "      <td>131.69%</td>\n",
       "    </tr>\n",
       "    <tr>\n",
       "      <th>7451.T</th>\n",
       "      <td>5</td>\n",
       "      <td>0.008167</td>\n",
       "      <td>22.48%</td>\n",
       "      <td>-3.79%</td>\n",
       "      <td>4.61%</td>\n",
       "    </tr>\n",
       "    <tr>\n",
       "      <th>...</th>\n",
       "      <td>...</td>\n",
       "      <td>...</td>\n",
       "      <td>...</td>\n",
       "      <td>...</td>\n",
       "      <td>...</td>\n",
       "    </tr>\n",
       "    <tr>\n",
       "      <th>9069.T</th>\n",
       "      <td>4</td>\n",
       "      <td>0.033833</td>\n",
       "      <td>12.75%</td>\n",
       "      <td>2.27%</td>\n",
       "      <td>20.42%</td>\n",
       "    </tr>\n",
       "    <tr>\n",
       "      <th>9869.T</th>\n",
       "      <td>1</td>\n",
       "      <td>0.032833</td>\n",
       "      <td>115.89%</td>\n",
       "      <td>2.71%</td>\n",
       "      <td>14.36%</td>\n",
       "    </tr>\n",
       "    <tr>\n",
       "      <th>FINV</th>\n",
       "      <td>5</td>\n",
       "      <td>0.044833</td>\n",
       "      <td>22.83%</td>\n",
       "      <td>-48.75%</td>\n",
       "      <td>-31.45%</td>\n",
       "    </tr>\n",
       "    <tr>\n",
       "      <th>6718.T</th>\n",
       "      <td>1</td>\n",
       "      <td>0.070167</td>\n",
       "      <td>20.71%</td>\n",
       "      <td>30.14%</td>\n",
       "      <td>-1.44%</td>\n",
       "    </tr>\n",
       "    <tr>\n",
       "      <th>3608.T</th>\n",
       "      <td>2</td>\n",
       "      <td>0.062667</td>\n",
       "      <td>12.76%</td>\n",
       "      <td>-23.16%</td>\n",
       "      <td>-43.60%</td>\n",
       "    </tr>\n",
       "  </tbody>\n",
       "</table>\n",
       "<p>61 rows × 5 columns</p>\n",
       "</div>"
      ]
     },
     "execution_count": 108,
     "metadata": {},
     "output_type": "execute_result"
    }
   ],
   "execution_count": 108
  },
  {
   "metadata": {},
   "cell_type": "markdown",
   "source": "## 12 Months",
   "id": "87b88272ba0852d0"
  },
  {
   "metadata": {
    "ExecuteTime": {
     "end_time": "2025-06-14T08:41:41.826282Z",
     "start_time": "2025-06-14T08:41:34.007341Z"
    }
   },
   "cell_type": "code",
   "source": [
    "importlib.reload(train_test)\n",
    "importlib.reload(xgboost_utils)\n",
    "\n",
    "X_train, y_train, X_test, y_test, min_datestr = train_test.split_train_test_tabular(df_tabular_multi, months=60,\n",
    "                                                                                    target_key='m_return_target(t+12)')\n",
    "#\n",
    "model_12m, score_12m = xgboost_utils.get_xgboost_trained_model(X_train, y_train, X_test, y_test)"
   ],
   "id": "e09baf27fb7d16f6",
   "outputs": [
    {
     "name": "stdout",
     "output_type": "stream",
     "text": [
      "[0]\tvalidation_0-rmse:5.08601\tvalidation_1-rmse:0.35089\n",
      "[1]\tvalidation_0-rmse:4.32426\tvalidation_1-rmse:0.35300\n",
      "[2]\tvalidation_0-rmse:3.67695\tvalidation_1-rmse:0.35651\n",
      "[3]\tvalidation_0-rmse:3.12704\tvalidation_1-rmse:0.36044\n",
      "[4]\tvalidation_0-rmse:2.65983\tvalidation_1-rmse:0.36404\n",
      "[5]\tvalidation_0-rmse:2.26301\tvalidation_1-rmse:0.36516\n",
      "[6]\tvalidation_0-rmse:1.92607\tvalidation_1-rmse:0.36541\n",
      "[7]\tvalidation_0-rmse:1.63996\tvalidation_1-rmse:0.36921\n",
      "[8]\tvalidation_0-rmse:1.39589\tvalidation_1-rmse:0.36923\n",
      "[9]\tvalidation_0-rmse:1.18973\tvalidation_1-rmse:0.36863\n",
      "[10]\tvalidation_0-rmse:1.01514\tvalidation_1-rmse:0.37069\n",
      "[11]\tvalidation_0-rmse:0.86764\tvalidation_1-rmse:0.37146\n",
      "[12]\tvalidation_0-rmse:0.74329\tvalidation_1-rmse:0.37212\n",
      "[13]\tvalidation_0-rmse:0.63770\tvalidation_1-rmse:0.37132\n",
      "[14]\tvalidation_0-rmse:0.54854\tvalidation_1-rmse:0.37134\n",
      "[15]\tvalidation_0-rmse:0.47228\tvalidation_1-rmse:0.37109\n",
      "[16]\tvalidation_0-rmse:0.41009\tvalidation_1-rmse:0.37130\n",
      "[17]\tvalidation_0-rmse:0.35736\tvalidation_1-rmse:0.37374\n",
      "[18]\tvalidation_0-rmse:0.31433\tvalidation_1-rmse:0.37386\n",
      "[19]\tvalidation_0-rmse:0.27818\tvalidation_1-rmse:0.37760\n",
      "[20]\tvalidation_0-rmse:0.25110\tvalidation_1-rmse:0.37804\n",
      "[21]\tvalidation_0-rmse:0.22622\tvalidation_1-rmse:0.38292\n",
      "[22]\tvalidation_0-rmse:0.20730\tvalidation_1-rmse:0.38284\n",
      "[23]\tvalidation_0-rmse:0.19265\tvalidation_1-rmse:0.38230\n",
      "[24]\tvalidation_0-rmse:0.18070\tvalidation_1-rmse:0.38242\n",
      "[25]\tvalidation_0-rmse:0.17136\tvalidation_1-rmse:0.38242\n",
      "[26]\tvalidation_0-rmse:0.16100\tvalidation_1-rmse:0.38626\n",
      "[27]\tvalidation_0-rmse:0.15344\tvalidation_1-rmse:0.38629\n",
      "[28]\tvalidation_0-rmse:0.14752\tvalidation_1-rmse:0.39080\n",
      "[29]\tvalidation_0-rmse:0.14363\tvalidation_1-rmse:0.39145\n",
      "[30]\tvalidation_0-rmse:0.13988\tvalidation_1-rmse:0.39092\n",
      "[31]\tvalidation_0-rmse:0.13762\tvalidation_1-rmse:0.39085\n",
      "[32]\tvalidation_0-rmse:0.13551\tvalidation_1-rmse:0.39068\n",
      "[33]\tvalidation_0-rmse:0.13405\tvalidation_1-rmse:0.39228\n",
      "[34]\tvalidation_0-rmse:0.13244\tvalidation_1-rmse:0.39206\n",
      "[35]\tvalidation_0-rmse:0.13133\tvalidation_1-rmse:0.39145\n",
      "[36]\tvalidation_0-rmse:0.12959\tvalidation_1-rmse:0.39077\n",
      "[37]\tvalidation_0-rmse:0.12877\tvalidation_1-rmse:0.39087\n",
      "[38]\tvalidation_0-rmse:0.12703\tvalidation_1-rmse:0.39128\n",
      "[39]\tvalidation_0-rmse:0.12617\tvalidation_1-rmse:0.39134\n",
      "[40]\tvalidation_0-rmse:0.12532\tvalidation_1-rmse:0.39117\n",
      "[41]\tvalidation_0-rmse:0.12439\tvalidation_1-rmse:0.39088\n",
      "[42]\tvalidation_0-rmse:0.12355\tvalidation_1-rmse:0.39218\n",
      "[43]\tvalidation_0-rmse:0.12279\tvalidation_1-rmse:0.39146\n",
      "[44]\tvalidation_0-rmse:0.12227\tvalidation_1-rmse:0.39162\n",
      "[45]\tvalidation_0-rmse:0.12176\tvalidation_1-rmse:0.39163\n",
      "[46]\tvalidation_0-rmse:0.12065\tvalidation_1-rmse:0.39174\n",
      "[47]\tvalidation_0-rmse:0.12009\tvalidation_1-rmse:0.39182\n",
      "[48]\tvalidation_0-rmse:0.11985\tvalidation_1-rmse:0.39165\n",
      "[49]\tvalidation_0-rmse:0.11957\tvalidation_1-rmse:0.39143\n",
      "[50]\tvalidation_0-rmse:0.11912\tvalidation_1-rmse:0.39124\n",
      "[51]\tvalidation_0-rmse:0.11848\tvalidation_1-rmse:0.39184\n",
      "[52]\tvalidation_0-rmse:0.11815\tvalidation_1-rmse:0.39192\n",
      "[53]\tvalidation_0-rmse:0.11780\tvalidation_1-rmse:0.39197\n",
      "[54]\tvalidation_0-rmse:0.11740\tvalidation_1-rmse:0.39202\n",
      "[55]\tvalidation_0-rmse:0.11717\tvalidation_1-rmse:0.39199\n",
      "[56]\tvalidation_0-rmse:0.11688\tvalidation_1-rmse:0.39177\n",
      "[57]\tvalidation_0-rmse:0.11659\tvalidation_1-rmse:0.39199\n",
      "[58]\tvalidation_0-rmse:0.11648\tvalidation_1-rmse:0.39199\n",
      "[59]\tvalidation_0-rmse:0.11614\tvalidation_1-rmse:0.39187\n",
      "[60]\tvalidation_0-rmse:0.11593\tvalidation_1-rmse:0.39195\n",
      "[61]\tvalidation_0-rmse:0.11550\tvalidation_1-rmse:0.39194\n",
      "[62]\tvalidation_0-rmse:0.11513\tvalidation_1-rmse:0.39239\n",
      "[63]\tvalidation_0-rmse:0.11505\tvalidation_1-rmse:0.39251\n",
      "[64]\tvalidation_0-rmse:0.11489\tvalidation_1-rmse:0.39258\n",
      "[65]\tvalidation_0-rmse:0.11475\tvalidation_1-rmse:0.39254\n",
      "[66]\tvalidation_0-rmse:0.11430\tvalidation_1-rmse:0.39255\n",
      "[67]\tvalidation_0-rmse:0.11382\tvalidation_1-rmse:0.39252\n",
      "[68]\tvalidation_0-rmse:0.11348\tvalidation_1-rmse:0.39248\n",
      "[69]\tvalidation_0-rmse:0.11326\tvalidation_1-rmse:0.39271\n",
      "[70]\tvalidation_0-rmse:0.11292\tvalidation_1-rmse:0.39266\n",
      "[71]\tvalidation_0-rmse:0.11279\tvalidation_1-rmse:0.39262\n",
      "[72]\tvalidation_0-rmse:0.11265\tvalidation_1-rmse:0.39252\n",
      "[73]\tvalidation_0-rmse:0.11254\tvalidation_1-rmse:0.39252\n",
      "[74]\tvalidation_0-rmse:0.11226\tvalidation_1-rmse:0.39259\n",
      "[75]\tvalidation_0-rmse:0.11215\tvalidation_1-rmse:0.39259\n",
      "[76]\tvalidation_0-rmse:0.11195\tvalidation_1-rmse:0.39280\n",
      "[77]\tvalidation_0-rmse:0.11180\tvalidation_1-rmse:0.39282\n",
      "[78]\tvalidation_0-rmse:0.11169\tvalidation_1-rmse:0.39275\n",
      "[79]\tvalidation_0-rmse:0.11107\tvalidation_1-rmse:0.39270\n",
      "[80]\tvalidation_0-rmse:0.11095\tvalidation_1-rmse:0.39277\n",
      "[81]\tvalidation_0-rmse:0.11080\tvalidation_1-rmse:0.39283\n",
      "[82]\tvalidation_0-rmse:0.11055\tvalidation_1-rmse:0.39293\n",
      "[83]\tvalidation_0-rmse:0.11039\tvalidation_1-rmse:0.39302\n",
      "[84]\tvalidation_0-rmse:0.11030\tvalidation_1-rmse:0.39322\n",
      "[85]\tvalidation_0-rmse:0.11009\tvalidation_1-rmse:0.39310\n",
      "[86]\tvalidation_0-rmse:0.10995\tvalidation_1-rmse:0.39325\n",
      "[87]\tvalidation_0-rmse:0.10976\tvalidation_1-rmse:0.39355\n",
      "[88]\tvalidation_0-rmse:0.10948\tvalidation_1-rmse:0.39359\n",
      "[89]\tvalidation_0-rmse:0.10930\tvalidation_1-rmse:0.39365\n",
      "[90]\tvalidation_0-rmse:0.10915\tvalidation_1-rmse:0.39370\n",
      "[91]\tvalidation_0-rmse:0.10888\tvalidation_1-rmse:0.39456\n",
      "[92]\tvalidation_0-rmse:0.10844\tvalidation_1-rmse:0.39458\n",
      "[93]\tvalidation_0-rmse:0.10812\tvalidation_1-rmse:0.39458\n",
      "[94]\tvalidation_0-rmse:0.10782\tvalidation_1-rmse:0.39446\n",
      "[95]\tvalidation_0-rmse:0.10765\tvalidation_1-rmse:0.39449\n",
      "[96]\tvalidation_0-rmse:0.10755\tvalidation_1-rmse:0.39446\n",
      "[97]\tvalidation_0-rmse:0.10736\tvalidation_1-rmse:0.39490\n",
      "[98]\tvalidation_0-rmse:0.10711\tvalidation_1-rmse:0.39505\n",
      "[99]\tvalidation_0-rmse:0.10684\tvalidation_1-rmse:0.39498\n",
      "Mean MAE: 17.622 (0.022)\n"
     ]
    }
   ],
   "execution_count": 110
  },
  {
   "metadata": {
    "ExecuteTime": {
     "end_time": "2025-06-14T08:41:42.453374Z",
     "start_time": "2025-06-14T08:41:42.161166Z"
    }
   },
   "cell_type": "code",
   "source": [
    "months_12m = 12\n",
    "X_train_12m, y_train_12m, X_test_12m, y_test_12m, min_datestr = train_test.split_train_test_tabular(df_tabular_multi, months=months_12m,\n",
    "                                                                                          target_key='m_return_target(t+12)')"
   ],
   "id": "c1966cf153bc8fe7",
   "outputs": [],
   "execution_count": 112
  },
  {
   "metadata": {
    "ExecuteTime": {
     "end_time": "2025-06-14T08:41:42.938253Z",
     "start_time": "2025-06-14T08:41:42.693082Z"
    }
   },
   "cell_type": "code",
   "source": [
    "dt = datetime.strptime(min_datestr, '%Y-%m-%d')\n",
    "\n",
    "# get all training months without the last 12 months\n",
    "X_train_input_12m = X_train_12m.head(len(X_train_12m) - len(df_pct.columns)*months_12m)\n",
    "# Get last 6 months of the training dataset and use as input to predict the next 12 months\n",
    "X_test_input_12m = X_train_12m.tail(len(df_pct.columns)*months_12m)\n",
    "\n",
    "# Trained \n",
    "y_train_pred_12m = model_12m.predict(X_train_input_12m)\n",
    "# Predictions\n",
    "y_test_pred_12m = model_12m.predict(X_test_input_12m)"
   ],
   "id": "b437eae9f6783c48",
   "outputs": [],
   "execution_count": 113
  },
  {
   "metadata": {},
   "cell_type": "markdown",
   "source": "### 12 Months Actual vs Prediction",
   "id": "c2d9b00a44eff0fd"
  },
  {
   "metadata": {
    "ExecuteTime": {
     "end_time": "2025-06-14T08:41:43.231359Z",
     "start_time": "2025-06-14T08:41:43.177653Z"
    }
   },
   "cell_type": "code",
   "source": [
    "importlib.reload(mpt_utils)\n",
    "#\n",
    "y_train_mean_pred_12m, y_test_mean_pred_12m = mpt_utils.get_train_test_mean_pred(y_train_pred_12m, y_test_pred_12m, len(df_pct.columns))\n",
    "#\n",
    "plots.generate_timeseries_plot(df_pct, df_tabular_multi, y_train_mean_pred_12m, y_test_mean_pred_12m)"
   ],
   "id": "e9ccba2a945e92be",
   "outputs": [
    {
     "data": {
      "application/vnd.plotly.v1+json": {
       "data": [
        {
         "line": {
          "color": "#5c839f",
          "width": 2
         },
         "mode": "lines",
         "name": "Actual returns",
         "x": [
          "2001-11-01",
          "2001-12-01",
          "2002-01-01",
          "2002-02-01",
          "2002-03-01",
          "2002-04-01",
          "2002-05-01",
          "2002-06-01",
          "2002-07-01",
          "2002-08-01",
          "2002-09-01",
          "2002-10-01",
          "2002-11-01",
          "2002-12-01",
          "2003-01-01",
          "2003-02-01",
          "2003-03-01",
          "2003-04-01",
          "2003-05-01",
          "2003-06-01",
          "2003-07-01",
          "2003-08-01",
          "2003-09-01",
          "2003-10-01",
          "2003-11-01",
          "2003-12-01",
          "2004-01-01",
          "2004-02-01",
          "2004-03-01",
          "2004-04-01",
          "2004-05-01",
          "2004-06-01",
          "2004-07-01",
          "2004-08-01",
          "2004-09-01",
          "2004-10-01",
          "2004-11-01",
          "2004-12-01",
          "2005-01-01",
          "2005-02-01",
          "2005-03-01",
          "2005-04-01",
          "2005-05-01",
          "2005-06-01",
          "2005-07-01",
          "2005-08-01",
          "2005-09-01",
          "2005-10-01",
          "2005-11-01",
          "2005-12-01",
          "2006-01-01",
          "2006-02-01",
          "2006-03-01",
          "2006-04-01",
          "2006-05-01",
          "2006-06-01",
          "2006-07-01",
          "2006-08-01",
          "2006-09-01",
          "2006-10-01",
          "2006-11-01",
          "2006-12-01",
          "2007-01-01",
          "2007-02-01",
          "2007-03-01",
          "2007-04-01",
          "2007-05-01",
          "2007-06-01",
          "2007-07-01",
          "2007-08-01",
          "2007-09-01",
          "2007-10-01",
          "2007-11-01",
          "2007-12-01",
          "2008-01-01",
          "2008-02-01",
          "2008-03-01",
          "2008-04-01",
          "2008-05-01",
          "2008-06-01",
          "2008-07-01",
          "2008-08-01",
          "2008-09-01",
          "2008-10-01",
          "2008-11-01",
          "2008-12-01",
          "2009-01-01",
          "2009-02-01",
          "2009-03-01",
          "2009-04-01",
          "2009-05-01",
          "2009-06-01",
          "2009-07-01",
          "2009-08-01",
          "2009-09-01",
          "2009-10-01",
          "2009-11-01",
          "2009-12-01",
          "2010-01-01",
          "2010-02-01",
          "2010-03-01",
          "2010-04-01",
          "2010-05-01",
          "2010-06-01",
          "2010-07-01",
          "2010-08-01",
          "2010-09-01",
          "2010-10-01",
          "2010-11-01",
          "2010-12-01",
          "2011-01-01",
          "2011-02-01",
          "2011-03-01",
          "2011-04-01",
          "2011-05-01",
          "2011-06-01",
          "2011-07-01",
          "2011-08-01",
          "2011-09-01",
          "2011-10-01",
          "2011-11-01",
          "2011-12-01",
          "2012-01-01",
          "2012-02-01",
          "2012-03-01",
          "2012-04-01",
          "2012-05-01",
          "2012-06-01",
          "2012-07-01",
          "2012-08-01",
          "2012-09-01",
          "2012-10-01",
          "2012-11-01",
          "2012-12-01",
          "2013-01-01",
          "2013-02-01",
          "2013-03-01",
          "2013-04-01",
          "2013-05-01",
          "2013-06-01",
          "2013-07-01",
          "2013-08-01",
          "2013-09-01",
          "2013-10-01",
          "2013-11-01",
          "2013-12-01",
          "2014-01-01",
          "2014-02-01",
          "2014-03-01",
          "2014-04-01",
          "2014-05-01",
          "2014-06-01",
          "2014-07-01",
          "2014-08-01",
          "2014-09-01",
          "2014-10-01",
          "2014-11-01",
          "2014-12-01",
          "2015-01-01",
          "2015-02-01",
          "2015-03-01",
          "2015-04-01",
          "2015-05-01",
          "2015-06-01",
          "2015-07-01",
          "2015-08-01",
          "2015-09-01",
          "2015-10-01",
          "2015-11-01",
          "2015-12-01",
          "2016-01-01",
          "2016-02-01",
          "2016-03-01",
          "2016-04-01",
          "2016-05-01",
          "2016-06-01",
          "2016-07-01",
          "2016-08-01",
          "2016-09-01",
          "2016-10-01",
          "2016-11-01",
          "2016-12-01",
          "2017-01-01",
          "2017-02-01",
          "2017-03-01",
          "2017-04-01",
          "2017-05-01",
          "2017-06-01",
          "2017-07-01",
          "2017-08-01",
          "2017-09-01",
          "2017-10-01",
          "2017-11-01",
          "2017-12-01",
          "2018-01-01",
          "2018-02-01",
          "2018-03-01",
          "2018-04-01",
          "2018-05-01",
          "2018-06-01",
          "2018-07-01",
          "2018-08-01",
          "2018-09-01",
          "2018-10-01",
          "2018-11-01",
          "2018-12-01",
          "2019-01-01",
          "2019-02-01",
          "2019-03-01",
          "2019-04-01",
          "2019-05-01",
          "2019-06-01",
          "2019-07-01",
          "2019-08-01",
          "2019-09-01",
          "2019-10-01",
          "2019-11-01",
          "2019-12-01",
          "2020-01-01",
          "2020-02-01",
          "2020-03-01",
          "2020-04-01",
          "2020-05-01",
          "2020-06-01",
          "2020-07-01",
          "2020-08-01",
          "2020-09-01",
          "2020-10-01",
          "2020-11-01",
          "2020-12-01",
          "2021-01-01",
          "2021-02-01",
          "2021-03-01",
          "2021-04-01",
          "2021-05-01",
          "2021-06-01",
          "2021-07-01",
          "2021-08-01",
          "2021-09-01",
          "2021-10-01",
          "2021-11-01",
          "2021-12-01",
          "2022-01-01",
          "2022-02-01",
          "2022-03-01",
          "2022-04-01",
          "2022-05-01",
          "2022-06-01",
          "2022-07-01",
          "2022-08-01",
          "2022-09-01",
          "2022-10-01",
          "2022-11-01",
          "2022-12-01",
          "2023-01-01",
          "2023-02-01",
          "2023-03-01",
          "2023-04-01",
          "2023-05-01",
          "2023-06-01",
          "2023-07-01",
          "2023-08-01",
          "2023-09-01",
          "2023-10-01",
          "2023-11-01",
          "2023-12-01",
          "2024-01-01",
          "2024-02-01",
          "2024-03-01",
          "2024-04-01",
          "2024-05-01",
          "2024-06-01",
          "2024-07-01",
          "2024-08-01"
         ],
         "y": [
          0.025547489413188185,
          0.03383545069570415,
          -0.007126436781608514,
          4.930568663036899,
          0.025245009074409852,
          -0.006037507562009159,
          -0.018251663641862592,
          0.03294615849969751,
          -0.004761040532365035,
          0.02735027223230513,
          -0.009370840895341792,
          -0.010689655172411272,
          -0.02825771324863846,
          0.009407138535993953,
          0.039165154264973134,
          -0.031022383545068588,
          -0.015251058681184593,
          0.06554143980641092,
          0.011845130066547194,
          -0.0015607985480955433,
          -0.026491228070174233,
          -0.030913490623106665,
          -0.08671506352086977,
          0.04992740471869106,
          0.050798548094372675,
          0.015862068965516674,
          -0.006067755595883906,
          0.009310344827584194,
          0.05072595281306347,
          0.00710223835450452,
          0.002764670296429683,
          -0.04802782819116436,
          -0.05811252268602196,
          -0.012516636418632099,
          -0.04310949788263729,
          0.007864488808227987,
          0.05825166364186196,
          -0.03358741681790489,
          -0.010980036297638107,
          0.005571687840290052,
          -0.004016938898969924,
          0.059951603145793175,
          0.06700544464609504,
          0.03416212946158392,
          0.5084513006654547,
          0.06142770719902968,
          0.0038233514821539583,
          0.04980036297640478,
          0.004228675136117133,
          0.015849969751963844,
          0.030526315789472847,
          0.014156079854809045,
          0.04684210526315691,
          0.004083484573501828,
          -0.0075257108287957175,
          0.03462189957652373,
          -0.036612220205683554,
          -0.0065880217785837525,
          0.005553539019962583,
          5.565638233508974E-4,
          0.029316394434359072,
          0.05376285541439363,
          0.006430732002420392,
          0.020381125226857755,
          -0.004440411373259678,
          -0.026696914700541474,
          0.03314579552328811,
          0.0216817906836011,
          0.03581367211130959,
          -6.957047791892323E-4,
          0.12865093768904812,
          0.0726013309134903,
          2.2130248033877846,
          0.02156079854809434,
          0.040816696914699246,
          0.012891712038716197,
          0.02750151240169063,
          0.009207501512401128,
          -0.031373260738048914,
          -8.166969147005432E-4,
          -0.014313369630973627,
          0.024882032667874254,
          0.02975196612219899,
          0.02138535995160007,
          0.018880822746520476,
          0.02797943133695835,
          0.036872353297032756,
          0.004440411373261455,
          0.001584996975197539,
          0.0188082274652126,
          0.022619479733814396,
          -0.011415607985479137,
          -0.02407138535994935,
          -0.009249848759829371,
          0.002474289171202848,
          0.02551724137930922,
          -0.05206291591046308,
          -0.009225650332726487,
          -0.0579552329098596,
          -0.009280096793706338,
          -0.013121597096186988,
          0.031149425287355648,
          0.02318814277071768,
          -0.06243799153054985,
          -0.0049909255898370475,
          0.02157894736842092,
          -0.07269812462189917,
          -0.1541802782819104,
          -0.05525105868118674,
          0.04130066545674316,
          -0.050229885057469614,
          -0.05834845735027172,
          0.06975801572897589,
          0.14761645493042796,
          0.04329098608590476,
          0.035021173623714486,
          0.062389594676345084,
          0.055202661826980304,
          0.032274652147609384,
          -0.022008469449483536,
          0.0015910465819715114,
          0.05137931034482435,
          -0.010393224440409243,
          0.018554143980639592,
          0.05903811252268154,
          0.04499697519660795,
          -0.0543738656987246,
          -0.038058076225041315,
          0.03886267392619347,
          -0.035414398064121166,
          0.06960677555958616,
          0.016388384754989715,
          0.02758620689654956,
          0.0584029038112468,
          0.011978221415607448,
          0.032480338777975515,
          0.001603145795523453,
          0.019885057471262124,
          -0.005003024803385547,
          -0.002764670296429572,
          -0.016957047791891444,
          -0.0525287356321813,
          -0.04701754385964807,
          0.06892316999394943,
          -0.015662431941921517,
          2.5408348457278684E-4,
          0.059376890502114144,
          0.09954022988505207,
          0.026303690260128354,
          -0.007253478523894019,
          -0.057241379310342566,
          0.03002419842709836,
          -0.004234724742891327,
          0.019667271627342275,
          0.017150635208708076,
          0.001203871748335139,
          0.016684815486990523,
          0.031173623714453536,
          0.06079249848759227,
          0.0218390804597679,
          0.04068360556563255,
          0.03336963097398571,
          0.018215366001207878,
          -0.009491833030852881,
          0.03699334543254329,
          -0.01653962492437533,
          0.05121597096188113,
          0.021343012704170272,
          0.023980641258315005,
          0.02228070175438135,
          -0.0122565033272799,
          0.02886267392619213,
          8.287961282520406E-4,
          -0.01481548699334323,
          0.01611615245008835,
          0.03064730792497894,
          -0.012855414398062703,
          0.0267453115547438,
          -0.010508166969145138,
          0.025311554748938203,
          0.041675741076825146,
          0.014168179068358766,
          0.0019419237749558338,
          0.04445856019358252,
          0.009745916515426112,
          4.1137326073759084E-4,
          0.02520871143375225,
          -0.009673321234116239,
          0.012788868723531133,
          -0.041355111917719234,
          -0.03201451905625696,
          0.062341197822137984,
          0.01900181488203012,
          -0.01770719903205853,
          -0.0508892921960038,
          -6.41258318208493E-4,
          0.056612220205681574,
          4.355716878403637E-4,
          0.02140955837870062,
          -0.029092558983665584,
          0.053581367211125164,
          0.011010284331519182,
          0.0043375680580743925,
          -0.015184513006653577,
          0.051433756805806974,
          0.03154869933453708,
          0.014658197217180424,
          0.021845130066540985,
          0.009751966122203415,
          0.015595886267387948,
          0.012667876588020377,
          0.01312159709618732,
          0.013569267997577406,
          0.003387779794311596,
          0.03088929219600267,
          0.01952208106472675,
          0.023224440411370395,
          0.01144585601935666,
          0.023817301875374675,
          -0.025577737447060378,
          -0.00336358136720849,
          0.019479733817297173,
          0.02636418632788695,
          0.008632788868722763,
          0.017592256503323966,
          0.021772534785239328,
          -0.009249848759832702,
          -0.06341197822141131,
          0.01151240169388612,
          -0.08667271627343787,
          0.09143980641258032,
          0.03675136116152111,
          0.00413793103448179,
          0.043049001814877474,
          -0.05917725347852165,
          0.045353901996365575,
          0.022123411978218988,
          -0.029552329098605612,
          0.03694494857833708,
          0.029479733817298515,
          0.0347307924984841,
          0.026805807622500843,
          -0.010248033877796825,
          -0.0900846944948529,
          -0.1816152450090751,
          0.12603145795522974,
          0.07255293405928498,
          0.030417422867514476,
          0.022571082879613735,
          0.06055656382334962,
          -0.0054869933454299025,
          -0.007670901391404694,
          0.15838475499092408,
          0.057961282516630463,
          0.0404839685420475,
          0.05379310344827615,
          0.058929219600720506,
          0.037652752571080805,
          0.021343012704173825,
          0.020756200846943296,
          0.0036418632788870475,
          0.02528735632183654,
          -0.013514821536595778,
          0.030024198427099247,
          -0.030066545674527045,
          0.040211736237137696,
          -0.07431941923774554,
          -0.012316999395034944,
          0.003230490018147014,
          -0.05532365396248862,
          7.199032062885635E-4,
          -0.07505747126436668,
          0.09042952208106025,
          -0.03070175438596201,
          -0.09862673926194399,
          0.08102843315184272,
          0.05529945553538784,
          -0.0422625529340539,
          0.09733212341197661,
          -0.011004234724740436,
          -0.020066545674530145,
          0.0013188142770683697,
          -0.009116757410766452,
          0.06248033877797354,
          0.04333938294010187,
          -0.03137931034482633,
          -0.040217785843914555,
          -0.05788868723532303,
          0.0877132486388339,
          0.07932849364790973,
          -0.014603750756200906,
          0.07413793103448185,
          0.027628554143975803,
          -0.04402903811251935,
          0.034162129461583035,
          -0.006757410768298278,
          0.055251058681182075,
          -0.0028009679370835094,
          -0.03332123411977328
         ],
         "type": "scatter"
        },
        {
         "line": {
          "color": "red",
          "width": 2
         },
         "mode": "lines",
         "name": "Train returns",
         "x": [
          "2001-11-01",
          "2001-12-01",
          "2002-01-01",
          "2002-02-01",
          "2002-03-01",
          "2002-04-01",
          "2002-05-01",
          "2002-06-01",
          "2002-07-01",
          "2002-08-01",
          "2002-09-01",
          "2002-10-01",
          "2002-11-01",
          "2002-12-01",
          "2003-01-01",
          "2003-02-01",
          "2003-03-01",
          "2003-04-01",
          "2003-05-01",
          "2003-06-01",
          "2003-07-01",
          "2003-08-01",
          "2003-09-01",
          "2003-10-01",
          "2003-11-01",
          "2003-12-01",
          "2004-01-01",
          "2004-02-01",
          "2004-03-01",
          "2004-04-01",
          "2004-05-01",
          "2004-06-01",
          "2004-07-01",
          "2004-08-01",
          "2004-09-01",
          "2004-10-01",
          "2004-11-01",
          "2004-12-01",
          "2005-01-01",
          "2005-02-01",
          "2005-03-01",
          "2005-04-01",
          "2005-05-01",
          "2005-06-01",
          "2005-07-01",
          "2005-08-01",
          "2005-09-01",
          "2005-10-01",
          "2005-11-01",
          "2005-12-01",
          "2006-01-01",
          "2006-02-01",
          "2006-03-01",
          "2006-04-01",
          "2006-05-01",
          "2006-06-01",
          "2006-07-01",
          "2006-08-01",
          "2006-09-01",
          "2006-10-01",
          "2006-11-01",
          "2006-12-01",
          "2007-01-01",
          "2007-02-01",
          "2007-03-01",
          "2007-04-01",
          "2007-05-01",
          "2007-06-01",
          "2007-07-01",
          "2007-08-01",
          "2007-09-01",
          "2007-10-01",
          "2007-11-01",
          "2007-12-01",
          "2008-01-01",
          "2008-02-01",
          "2008-03-01",
          "2008-04-01",
          "2008-05-01",
          "2008-06-01",
          "2008-07-01",
          "2008-08-01",
          "2008-09-01",
          "2008-10-01",
          "2008-11-01",
          "2008-12-01",
          "2009-01-01",
          "2009-02-01",
          "2009-03-01",
          "2009-04-01",
          "2009-05-01",
          "2009-06-01",
          "2009-07-01",
          "2009-08-01",
          "2009-09-01",
          "2009-10-01",
          "2009-11-01",
          "2009-12-01",
          "2010-01-01",
          "2010-02-01",
          "2010-03-01",
          "2010-04-01",
          "2010-05-01",
          "2010-06-01",
          "2010-07-01",
          "2010-08-01",
          "2010-09-01",
          "2010-10-01",
          "2010-11-01",
          "2010-12-01",
          "2011-01-01",
          "2011-02-01",
          "2011-03-01",
          "2011-04-01",
          "2011-05-01",
          "2011-06-01",
          "2011-07-01",
          "2011-08-01",
          "2011-09-01",
          "2011-10-01",
          "2011-11-01",
          "2011-12-01",
          "2012-01-01",
          "2012-02-01",
          "2012-03-01",
          "2012-04-01",
          "2012-05-01",
          "2012-06-01",
          "2012-07-01",
          "2012-08-01",
          "2012-09-01",
          "2012-10-01",
          "2012-11-01",
          "2012-12-01",
          "2013-01-01",
          "2013-02-01",
          "2013-03-01",
          "2013-04-01",
          "2013-05-01",
          "2013-06-01",
          "2013-07-01",
          "2013-08-01",
          "2013-09-01",
          "2013-10-01",
          "2013-11-01",
          "2013-12-01",
          "2014-01-01",
          "2014-02-01",
          "2014-03-01",
          "2014-04-01",
          "2014-05-01",
          "2014-06-01",
          "2014-07-01",
          "2014-08-01",
          "2014-09-01",
          "2014-10-01",
          "2014-11-01",
          "2014-12-01",
          "2015-01-01",
          "2015-02-01",
          "2015-03-01",
          "2015-04-01",
          "2015-05-01",
          "2015-06-01",
          "2015-07-01",
          "2015-08-01",
          "2015-09-01",
          "2015-10-01",
          "2015-11-01",
          "2015-12-01",
          "2016-01-01",
          "2016-02-01",
          "2016-03-01",
          "2016-04-01",
          "2016-05-01",
          "2016-06-01",
          "2016-07-01",
          "2016-08-01",
          "2016-09-01",
          "2016-10-01",
          "2016-11-01",
          "2016-12-01",
          "2017-01-01",
          "2017-02-01",
          "2017-03-01",
          "2017-04-01",
          "2017-05-01",
          "2017-06-01",
          "2017-07-01",
          "2017-08-01",
          "2017-09-01",
          "2017-10-01",
          "2017-11-01",
          "2017-12-01",
          "2018-01-01",
          "2018-02-01",
          "2018-03-01",
          "2018-04-01",
          "2018-05-01",
          "2018-06-01",
          "2018-07-01",
          "2018-08-01",
          "2018-09-01",
          "2018-10-01",
          "2018-11-01",
          "2018-12-01",
          "2019-01-01",
          "2019-02-01",
          "2019-03-01",
          "2019-04-01",
          "2019-05-01",
          "2019-06-01",
          "2019-07-01",
          "2019-08-01",
          "2019-09-01",
          "2019-10-01",
          "2019-11-01",
          "2019-12-01",
          "2020-01-01",
          "2020-02-01",
          "2020-03-01",
          "2020-04-01",
          "2020-05-01",
          "2020-06-01",
          "2020-07-01",
          "2020-08-01",
          "2020-09-01",
          "2020-10-01",
          "2020-11-01",
          "2020-12-01",
          "2021-01-01",
          "2021-02-01",
          "2021-03-01",
          "2021-04-01",
          "2021-05-01",
          "2021-06-01",
          "2021-07-01",
          "2021-08-01",
          "2021-09-01",
          "2021-10-01",
          "2021-11-01",
          "2021-12-01",
          "2022-01-01",
          "2022-02-01",
          "2022-03-01",
          "2022-04-01",
          "2022-05-01",
          "2022-06-01",
          "2022-07-01",
          "2022-08-01",
          "2022-09-01",
          "2022-10-01",
          "2022-11-01",
          "2022-12-01",
          "2023-01-01",
          "2023-02-01",
          "2023-03-01",
          "2023-04-01",
          "2023-05-01",
          "2023-06-01",
          "2023-07-01",
          "2023-08-01"
         ],
         "y": [
          0.008245587348937988,
          0.013420462608337402,
          0.008569478988647461,
          0.010702848434448242,
          0.015405416488647461,
          0.014570355415344238,
          0.012759208679199219,
          0.0135573148727417,
          0.010904669761657715,
          0.01190030574798584,
          0.017052650451660156,
          0.01092076301574707,
          0.011745452880859375,
          0.009566426277160645,
          0.008965373039245605,
          0.010960698127746582,
          0.01340627670288086,
          0.010530948638916016,
          0.01171731948852539,
          0.010233402252197266,
          0.012994885444641113,
          0.014267921447753906,
          0.013740301132202148,
          0.01072382926940918,
          0.01845991611480713,
          0.01280820369720459,
          0.021165013313293457,
          0.011297345161437988,
          0.012639522552490234,
          0.010975956916809082,
          0.012363195419311523,
          0.012051582336425781,
          0.015296220779418945,
          0.011999845504760742,
          0.013496160507202148,
          0.012917399406433105,
          0.012007474899291992,
          0.01768314838409424,
          0.012270808219909668,
          0.015104055404663086,
          0.013305425643920898,
          0.012514114379882812,
          0.018651127815246582,
          0.011308431625366211,
          0.009915351867675781,
          0.012038826942443848,
          0.013718247413635254,
          0.010576486587524414,
          0.009791016578674316,
          0.013397812843322754,
          0.014110922813415527,
          0.028294682502746582,
          0.014267802238464355,
          0.014876604080200195,
          0.013907194137573242,
          0.01117408275604248,
          0.014858126640319824,
          0.010703802108764648,
          0.012063026428222656,
          2.6305699348449707,
          0.01385653018951416,
          0.012151241302490234,
          0.009691596031188965,
          0.009952664375305176,
          0.01098787784576416,
          0.02745687961578369,
          0.016873955726623535,
          0.01197504997253418,
          0.013979911804199219,
          0.010958552360534668,
          0.008707284927368164,
          0.013944625854492188,
          0.008919477462768555,
          0.02704942226409912,
          0.015542149543762207,
          0.00968015193939209,
          0.010447144508361816,
          0.015143275260925293,
          0.014716625213623047,
          0.011676192283630371,
          0.014406919479370117,
          0.011251688003540039,
          0.009381532669067383,
          0.011331558227539062,
          0.01485896110534668,
          0.012828588485717773,
          0.015048503875732422,
          0.008451461791992188,
          0.012869477272033691,
          0.015741348266601562,
          0.009670376777648926,
          0.01257479190826416,
          0.014786958694458008,
          0.010781645774841309,
          0.009968161582946777,
          0.011483192443847656,
          0.008754372596740723,
          0.010486602783203125,
          0.008394479751586914,
          0.014993667602539062,
          0.013793587684631348,
          0.010870099067687988,
          0.013521552085876465,
          0.011412620544433594,
          0.010173559188842773,
          0.011441349983215332,
          0.010760664939880371,
          0.0135267972946167,
          0.013029217720031738,
          0.009520769119262695,
          0.012989282608032227,
          0.014119505882263184,
          0.010558485984802246,
          0.01478278636932373,
          0.016634225845336914,
          0.018698930740356445,
          0.011641621589660645,
          0.011814475059509277,
          0.01397240161895752,
          0.013175487518310547,
          0.020040392875671387,
          0.014358878135681152,
          0.012685418128967285,
          0.01610696315765381,
          0.009128928184509277,
          0.012560486793518066,
          0.01036214828491211,
          0.01210486888885498,
          0.011161327362060547,
          0.012412667274475098,
          0.012054204940795898,
          0.014510035514831543,
          0.010915875434875488,
          0.011110424995422363,
          0.010378718376159668,
          0.020512104034423828,
          0.014819741249084473,
          0.01061248779296875,
          0.013639211654663086,
          0.015817642211914062,
          0.1259598731994629,
          0.011944293975830078,
          0.017801880836486816,
          0.009888172149658203,
          0.01743316650390625,
          0.014526605606079102,
          0.01004338264465332,
          0.014730453491210938,
          0.016184449195861816,
          0.014588475227355957,
          0.015960097312927246,
          0.009752631187438965,
          0.0083543062210083,
          0.011621832847595215,
          -0.05160379409790039,
          0.010241150856018066,
          0.01578807830810547,
          0.008271217346191406,
          0.010017752647399902,
          0.014804363250732422,
          0.008546233177185059,
          0.015305399894714355,
          0.014330267906188965,
          0.016154766082763672,
          0.016352057456970215,
          0.015617728233337402,
          0.009378433227539062,
          0.014218688011169434,
          0.012452006340026855,
          0.010850906372070312,
          0.009222865104675293,
          0.015682697296142578,
          0.014112472534179688,
          0.013658761978149414,
          0.013592958450317383,
          0.015947461128234863,
          0.014555573463439941,
          0.012053728103637695,
          0.013374686241149902,
          0.009937882423400879,
          0.016180872917175293,
          0.009856343269348145,
          0.00963747501373291,
          0.010641336441040039,
          0.012675046920776367,
          0.01223301887512207,
          0.01353597640991211,
          0.014939546585083008,
          0.016589760780334473,
          0.008997201919555664,
          0.01027369499206543,
          0.0072557926177978516,
          0.011591196060180664,
          0.007665514945983887,
          0.12309038639068604,
          0.014925479888916016,
          0.012176871299743652,
          0.015761137008666992,
          0.01381826400756836,
          0.015677690505981445,
          0.009501934051513672,
          0.013467073440551758,
          0.018544912338256836,
          0.007529497146606445,
          0.011580824851989746,
          0.011415362358093262,
          0.01692664623260498,
          0.013540148735046387,
          0.011122465133666992,
          0.0135345458984375,
          0.016433119773864746,
          0.01740264892578125,
          0.012085437774658203,
          0.01303398609161377,
          0.013822793960571289,
          0.01316821575164795,
          0.009046554565429688,
          0.010155439376831055,
          0.012016892433166504,
          0.01266026496887207,
          0.015764236450195312,
          0.007780909538269043,
          0.01568138599395752,
          0.014746904373168945,
          0.006680727005004883,
          0.00953221321105957,
          0.011182188987731934,
          0.01071178913116455,
          0.012039422988891602,
          0.010905861854553223,
          0.016060829162597656,
          0.00863957405090332,
          0.008404135704040527,
          0.010686397552490234,
          0.01315164566040039,
          0.012417435646057129,
          0.01033473014831543,
          0.009790301322937012,
          0.013126254081726074,
          0.011582016944885254,
          0.0238264799118042,
          0.015691757202148438,
          0.015670180320739746,
          0.012302398681640625,
          0.012819647789001465,
          0.014168620109558105,
          0.011090278625488281,
          0.012621283531188965,
          0.01605820655822754,
          0.01423025131225586,
          0.012608885765075684,
          0.013220429420471191,
          0.01449120044708252,
          0.010743856430053711,
          0.06102597713470459,
          0.014674901962280273,
          0.014020323753356934,
          0.010502457618713379,
          0.016234755516052246,
          0.011179089546203613,
          0.013081192970275879,
          0.011399388313293457
         ],
         "type": "scatter"
        },
        {
         "line": {
          "color": "green",
          "width": 2
         },
         "mode": "lines",
         "name": "Test returns",
         "x": [
          "2023-08-01",
          "2023-09-01",
          "2023-10-01",
          "2023-11-01",
          "2023-12-01",
          "2024-01-01",
          "2024-02-01",
          "2024-03-01",
          "2024-04-01",
          "2024-05-01",
          "2024-06-01",
          "2024-07-01",
          "2024-08-01"
         ],
         "y": [
          0.011399388313293457,
          0.0145491361618042,
          0.012192845344543457,
          0.020504474639892578,
          0.015639901161193848,
          0.011860489845275879,
          0.0190354585647583,
          0.015750885009765625,
          0.030017733573913574,
          0.019804835319519043,
          0.017917394638061523,
          0.008799910545349121,
          0.013658881187438965
         ],
         "type": "scatter"
        }
       ],
       "layout": {
        "template": {
         "data": {
          "barpolar": [
           {
            "marker": {
             "line": {
              "color": "white",
              "width": 0.5
             },
             "pattern": {
              "fillmode": "overlay",
              "size": 10,
              "solidity": 0.2
             }
            },
            "type": "barpolar"
           }
          ],
          "bar": [
           {
            "error_x": {
             "color": "#2a3f5f"
            },
            "error_y": {
             "color": "#2a3f5f"
            },
            "marker": {
             "line": {
              "color": "white",
              "width": 0.5
             },
             "pattern": {
              "fillmode": "overlay",
              "size": 10,
              "solidity": 0.2
             }
            },
            "type": "bar"
           }
          ],
          "carpet": [
           {
            "aaxis": {
             "endlinecolor": "#2a3f5f",
             "gridcolor": "#C8D4E3",
             "linecolor": "#C8D4E3",
             "minorgridcolor": "#C8D4E3",
             "startlinecolor": "#2a3f5f"
            },
            "baxis": {
             "endlinecolor": "#2a3f5f",
             "gridcolor": "#C8D4E3",
             "linecolor": "#C8D4E3",
             "minorgridcolor": "#C8D4E3",
             "startlinecolor": "#2a3f5f"
            },
            "type": "carpet"
           }
          ],
          "choropleth": [
           {
            "colorbar": {
             "outlinewidth": 0,
             "ticks": ""
            },
            "type": "choropleth"
           }
          ],
          "contourcarpet": [
           {
            "colorbar": {
             "outlinewidth": 0,
             "ticks": ""
            },
            "type": "contourcarpet"
           }
          ],
          "contour": [
           {
            "colorbar": {
             "outlinewidth": 0,
             "ticks": ""
            },
            "colorscale": [
             [
              0.0,
              "#0d0887"
             ],
             [
              0.1111111111111111,
              "#46039f"
             ],
             [
              0.2222222222222222,
              "#7201a8"
             ],
             [
              0.3333333333333333,
              "#9c179e"
             ],
             [
              0.4444444444444444,
              "#bd3786"
             ],
             [
              0.5555555555555556,
              "#d8576b"
             ],
             [
              0.6666666666666666,
              "#ed7953"
             ],
             [
              0.7777777777777778,
              "#fb9f3a"
             ],
             [
              0.8888888888888888,
              "#fdca26"
             ],
             [
              1.0,
              "#f0f921"
             ]
            ],
            "type": "contour"
           }
          ],
          "heatmapgl": [
           {
            "colorbar": {
             "outlinewidth": 0,
             "ticks": ""
            },
            "colorscale": [
             [
              0.0,
              "#0d0887"
             ],
             [
              0.1111111111111111,
              "#46039f"
             ],
             [
              0.2222222222222222,
              "#7201a8"
             ],
             [
              0.3333333333333333,
              "#9c179e"
             ],
             [
              0.4444444444444444,
              "#bd3786"
             ],
             [
              0.5555555555555556,
              "#d8576b"
             ],
             [
              0.6666666666666666,
              "#ed7953"
             ],
             [
              0.7777777777777778,
              "#fb9f3a"
             ],
             [
              0.8888888888888888,
              "#fdca26"
             ],
             [
              1.0,
              "#f0f921"
             ]
            ],
            "type": "heatmapgl"
           }
          ],
          "heatmap": [
           {
            "colorbar": {
             "outlinewidth": 0,
             "ticks": ""
            },
            "colorscale": [
             [
              0.0,
              "#0d0887"
             ],
             [
              0.1111111111111111,
              "#46039f"
             ],
             [
              0.2222222222222222,
              "#7201a8"
             ],
             [
              0.3333333333333333,
              "#9c179e"
             ],
             [
              0.4444444444444444,
              "#bd3786"
             ],
             [
              0.5555555555555556,
              "#d8576b"
             ],
             [
              0.6666666666666666,
              "#ed7953"
             ],
             [
              0.7777777777777778,
              "#fb9f3a"
             ],
             [
              0.8888888888888888,
              "#fdca26"
             ],
             [
              1.0,
              "#f0f921"
             ]
            ],
            "type": "heatmap"
           }
          ],
          "histogram2dcontour": [
           {
            "colorbar": {
             "outlinewidth": 0,
             "ticks": ""
            },
            "colorscale": [
             [
              0.0,
              "#0d0887"
             ],
             [
              0.1111111111111111,
              "#46039f"
             ],
             [
              0.2222222222222222,
              "#7201a8"
             ],
             [
              0.3333333333333333,
              "#9c179e"
             ],
             [
              0.4444444444444444,
              "#bd3786"
             ],
             [
              0.5555555555555556,
              "#d8576b"
             ],
             [
              0.6666666666666666,
              "#ed7953"
             ],
             [
              0.7777777777777778,
              "#fb9f3a"
             ],
             [
              0.8888888888888888,
              "#fdca26"
             ],
             [
              1.0,
              "#f0f921"
             ]
            ],
            "type": "histogram2dcontour"
           }
          ],
          "histogram2d": [
           {
            "colorbar": {
             "outlinewidth": 0,
             "ticks": ""
            },
            "colorscale": [
             [
              0.0,
              "#0d0887"
             ],
             [
              0.1111111111111111,
              "#46039f"
             ],
             [
              0.2222222222222222,
              "#7201a8"
             ],
             [
              0.3333333333333333,
              "#9c179e"
             ],
             [
              0.4444444444444444,
              "#bd3786"
             ],
             [
              0.5555555555555556,
              "#d8576b"
             ],
             [
              0.6666666666666666,
              "#ed7953"
             ],
             [
              0.7777777777777778,
              "#fb9f3a"
             ],
             [
              0.8888888888888888,
              "#fdca26"
             ],
             [
              1.0,
              "#f0f921"
             ]
            ],
            "type": "histogram2d"
           }
          ],
          "histogram": [
           {
            "marker": {
             "pattern": {
              "fillmode": "overlay",
              "size": 10,
              "solidity": 0.2
             }
            },
            "type": "histogram"
           }
          ],
          "mesh3d": [
           {
            "colorbar": {
             "outlinewidth": 0,
             "ticks": ""
            },
            "type": "mesh3d"
           }
          ],
          "parcoords": [
           {
            "line": {
             "colorbar": {
              "outlinewidth": 0,
              "ticks": ""
             }
            },
            "type": "parcoords"
           }
          ],
          "pie": [
           {
            "automargin": true,
            "type": "pie"
           }
          ],
          "scatter3d": [
           {
            "line": {
             "colorbar": {
              "outlinewidth": 0,
              "ticks": ""
             }
            },
            "marker": {
             "colorbar": {
              "outlinewidth": 0,
              "ticks": ""
             }
            },
            "type": "scatter3d"
           }
          ],
          "scattercarpet": [
           {
            "marker": {
             "colorbar": {
              "outlinewidth": 0,
              "ticks": ""
             }
            },
            "type": "scattercarpet"
           }
          ],
          "scattergeo": [
           {
            "marker": {
             "colorbar": {
              "outlinewidth": 0,
              "ticks": ""
             }
            },
            "type": "scattergeo"
           }
          ],
          "scattergl": [
           {
            "marker": {
             "colorbar": {
              "outlinewidth": 0,
              "ticks": ""
             }
            },
            "type": "scattergl"
           }
          ],
          "scattermapbox": [
           {
            "marker": {
             "colorbar": {
              "outlinewidth": 0,
              "ticks": ""
             }
            },
            "type": "scattermapbox"
           }
          ],
          "scatterpolargl": [
           {
            "marker": {
             "colorbar": {
              "outlinewidth": 0,
              "ticks": ""
             }
            },
            "type": "scatterpolargl"
           }
          ],
          "scatterpolar": [
           {
            "marker": {
             "colorbar": {
              "outlinewidth": 0,
              "ticks": ""
             }
            },
            "type": "scatterpolar"
           }
          ],
          "scatter": [
           {
            "fillpattern": {
             "fillmode": "overlay",
             "size": 10,
             "solidity": 0.2
            },
            "type": "scatter"
           }
          ],
          "scatterternary": [
           {
            "marker": {
             "colorbar": {
              "outlinewidth": 0,
              "ticks": ""
             }
            },
            "type": "scatterternary"
           }
          ],
          "surface": [
           {
            "colorbar": {
             "outlinewidth": 0,
             "ticks": ""
            },
            "colorscale": [
             [
              0.0,
              "#0d0887"
             ],
             [
              0.1111111111111111,
              "#46039f"
             ],
             [
              0.2222222222222222,
              "#7201a8"
             ],
             [
              0.3333333333333333,
              "#9c179e"
             ],
             [
              0.4444444444444444,
              "#bd3786"
             ],
             [
              0.5555555555555556,
              "#d8576b"
             ],
             [
              0.6666666666666666,
              "#ed7953"
             ],
             [
              0.7777777777777778,
              "#fb9f3a"
             ],
             [
              0.8888888888888888,
              "#fdca26"
             ],
             [
              1.0,
              "#f0f921"
             ]
            ],
            "type": "surface"
           }
          ],
          "table": [
           {
            "cells": {
             "fill": {
              "color": "#EBF0F8"
             },
             "line": {
              "color": "white"
             }
            },
            "header": {
             "fill": {
              "color": "#C8D4E3"
             },
             "line": {
              "color": "white"
             }
            },
            "type": "table"
           }
          ]
         },
         "layout": {
          "annotationdefaults": {
           "arrowcolor": "#2a3f5f",
           "arrowhead": 0,
           "arrowwidth": 1
          },
          "autotypenumbers": "strict",
          "coloraxis": {
           "colorbar": {
            "outlinewidth": 0,
            "ticks": ""
           }
          },
          "colorscale": {
           "diverging": [
            [
             0,
             "#8e0152"
            ],
            [
             0.1,
             "#c51b7d"
            ],
            [
             0.2,
             "#de77ae"
            ],
            [
             0.3,
             "#f1b6da"
            ],
            [
             0.4,
             "#fde0ef"
            ],
            [
             0.5,
             "#f7f7f7"
            ],
            [
             0.6,
             "#e6f5d0"
            ],
            [
             0.7,
             "#b8e186"
            ],
            [
             0.8,
             "#7fbc41"
            ],
            [
             0.9,
             "#4d9221"
            ],
            [
             1,
             "#276419"
            ]
           ],
           "sequential": [
            [
             0.0,
             "#0d0887"
            ],
            [
             0.1111111111111111,
             "#46039f"
            ],
            [
             0.2222222222222222,
             "#7201a8"
            ],
            [
             0.3333333333333333,
             "#9c179e"
            ],
            [
             0.4444444444444444,
             "#bd3786"
            ],
            [
             0.5555555555555556,
             "#d8576b"
            ],
            [
             0.6666666666666666,
             "#ed7953"
            ],
            [
             0.7777777777777778,
             "#fb9f3a"
            ],
            [
             0.8888888888888888,
             "#fdca26"
            ],
            [
             1.0,
             "#f0f921"
            ]
           ],
           "sequentialminus": [
            [
             0.0,
             "#0d0887"
            ],
            [
             0.1111111111111111,
             "#46039f"
            ],
            [
             0.2222222222222222,
             "#7201a8"
            ],
            [
             0.3333333333333333,
             "#9c179e"
            ],
            [
             0.4444444444444444,
             "#bd3786"
            ],
            [
             0.5555555555555556,
             "#d8576b"
            ],
            [
             0.6666666666666666,
             "#ed7953"
            ],
            [
             0.7777777777777778,
             "#fb9f3a"
            ],
            [
             0.8888888888888888,
             "#fdca26"
            ],
            [
             1.0,
             "#f0f921"
            ]
           ]
          },
          "colorway": [
           "#636efa",
           "#EF553B",
           "#00cc96",
           "#ab63fa",
           "#FFA15A",
           "#19d3f3",
           "#FF6692",
           "#B6E880",
           "#FF97FF",
           "#FECB52"
          ],
          "font": {
           "color": "#2a3f5f"
          },
          "geo": {
           "bgcolor": "white",
           "lakecolor": "white",
           "landcolor": "white",
           "showlakes": true,
           "showland": true,
           "subunitcolor": "#C8D4E3"
          },
          "hoverlabel": {
           "align": "left"
          },
          "hovermode": "closest",
          "mapbox": {
           "style": "light"
          },
          "paper_bgcolor": "white",
          "plot_bgcolor": "white",
          "polar": {
           "angularaxis": {
            "gridcolor": "#EBF0F8",
            "linecolor": "#EBF0F8",
            "ticks": ""
           },
           "bgcolor": "white",
           "radialaxis": {
            "gridcolor": "#EBF0F8",
            "linecolor": "#EBF0F8",
            "ticks": ""
           }
          },
          "scene": {
           "xaxis": {
            "backgroundcolor": "white",
            "gridcolor": "#DFE8F3",
            "gridwidth": 2,
            "linecolor": "#EBF0F8",
            "showbackground": true,
            "ticks": "",
            "zerolinecolor": "#EBF0F8"
           },
           "yaxis": {
            "backgroundcolor": "white",
            "gridcolor": "#DFE8F3",
            "gridwidth": 2,
            "linecolor": "#EBF0F8",
            "showbackground": true,
            "ticks": "",
            "zerolinecolor": "#EBF0F8"
           },
           "zaxis": {
            "backgroundcolor": "white",
            "gridcolor": "#DFE8F3",
            "gridwidth": 2,
            "linecolor": "#EBF0F8",
            "showbackground": true,
            "ticks": "",
            "zerolinecolor": "#EBF0F8"
           }
          },
          "shapedefaults": {
           "line": {
            "color": "#2a3f5f"
           }
          },
          "ternary": {
           "aaxis": {
            "gridcolor": "#DFE8F3",
            "linecolor": "#A2B1C6",
            "ticks": ""
           },
           "baxis": {
            "gridcolor": "#DFE8F3",
            "linecolor": "#A2B1C6",
            "ticks": ""
           },
           "bgcolor": "white",
           "caxis": {
            "gridcolor": "#DFE8F3",
            "linecolor": "#A2B1C6",
            "ticks": ""
           }
          },
          "title": {
           "x": 0.05
          },
          "xaxis": {
           "automargin": true,
           "gridcolor": "#EBF0F8",
           "linecolor": "#EBF0F8",
           "ticks": "",
           "title": {
            "standoff": 15
           },
           "zerolinecolor": "#EBF0F8",
           "zerolinewidth": 2
          },
          "yaxis": {
           "automargin": true,
           "gridcolor": "#EBF0F8",
           "linecolor": "#EBF0F8",
           "ticks": "",
           "title": {
            "standoff": 15
           },
           "zerolinecolor": "#EBF0F8",
           "zerolinewidth": 2
          }
         }
        },
        "shapes": [
         {
          "line": {
           "color": "red",
           "dash": "dash",
           "width": 1
          },
          "type": "line",
          "x0": "2023-08-01",
          "x1": "2023-08-01",
          "xref": "x",
          "y0": 0,
          "y1": 1,
          "yref": "y domain"
         }
        ],
        "yaxis": {
         "title": {
          "text": "Day closing return (%)"
         },
         "tickformat": ".0%",
         "range": [
          -0.25,
          0.6
         ]
        },
        "title": {
         "text": "12 Month Prediction vs Actual Plot"
        },
        "xaxis": {
         "title": {
          "text": "Date"
         }
        },
        "legend": {
         "title": {
          "text": "Legend"
         }
        }
       },
       "config": {
        "plotlyServerURL": "https://plot.ly"
       }
      },
      "text/html": [
       "<div>                            <div id=\"25668e1d-f2a9-4b9a-b9cf-2f5f610c7896\" class=\"plotly-graph-div\" style=\"height:525px; width:100%;\"></div>            <script type=\"text/javascript\">                require([\"plotly\"], function(Plotly) {                    window.PLOTLYENV=window.PLOTLYENV || {};                                    if (document.getElementById(\"25668e1d-f2a9-4b9a-b9cf-2f5f610c7896\")) {                    Plotly.newPlot(                        \"25668e1d-f2a9-4b9a-b9cf-2f5f610c7896\",                        [{\"line\":{\"color\":\"#5c839f\",\"width\":2},\"mode\":\"lines\",\"name\":\"Actual returns\",\"x\":[\"2001-11-01\",\"2001-12-01\",\"2002-01-01\",\"2002-02-01\",\"2002-03-01\",\"2002-04-01\",\"2002-05-01\",\"2002-06-01\",\"2002-07-01\",\"2002-08-01\",\"2002-09-01\",\"2002-10-01\",\"2002-11-01\",\"2002-12-01\",\"2003-01-01\",\"2003-02-01\",\"2003-03-01\",\"2003-04-01\",\"2003-05-01\",\"2003-06-01\",\"2003-07-01\",\"2003-08-01\",\"2003-09-01\",\"2003-10-01\",\"2003-11-01\",\"2003-12-01\",\"2004-01-01\",\"2004-02-01\",\"2004-03-01\",\"2004-04-01\",\"2004-05-01\",\"2004-06-01\",\"2004-07-01\",\"2004-08-01\",\"2004-09-01\",\"2004-10-01\",\"2004-11-01\",\"2004-12-01\",\"2005-01-01\",\"2005-02-01\",\"2005-03-01\",\"2005-04-01\",\"2005-05-01\",\"2005-06-01\",\"2005-07-01\",\"2005-08-01\",\"2005-09-01\",\"2005-10-01\",\"2005-11-01\",\"2005-12-01\",\"2006-01-01\",\"2006-02-01\",\"2006-03-01\",\"2006-04-01\",\"2006-05-01\",\"2006-06-01\",\"2006-07-01\",\"2006-08-01\",\"2006-09-01\",\"2006-10-01\",\"2006-11-01\",\"2006-12-01\",\"2007-01-01\",\"2007-02-01\",\"2007-03-01\",\"2007-04-01\",\"2007-05-01\",\"2007-06-01\",\"2007-07-01\",\"2007-08-01\",\"2007-09-01\",\"2007-10-01\",\"2007-11-01\",\"2007-12-01\",\"2008-01-01\",\"2008-02-01\",\"2008-03-01\",\"2008-04-01\",\"2008-05-01\",\"2008-06-01\",\"2008-07-01\",\"2008-08-01\",\"2008-09-01\",\"2008-10-01\",\"2008-11-01\",\"2008-12-01\",\"2009-01-01\",\"2009-02-01\",\"2009-03-01\",\"2009-04-01\",\"2009-05-01\",\"2009-06-01\",\"2009-07-01\",\"2009-08-01\",\"2009-09-01\",\"2009-10-01\",\"2009-11-01\",\"2009-12-01\",\"2010-01-01\",\"2010-02-01\",\"2010-03-01\",\"2010-04-01\",\"2010-05-01\",\"2010-06-01\",\"2010-07-01\",\"2010-08-01\",\"2010-09-01\",\"2010-10-01\",\"2010-11-01\",\"2010-12-01\",\"2011-01-01\",\"2011-02-01\",\"2011-03-01\",\"2011-04-01\",\"2011-05-01\",\"2011-06-01\",\"2011-07-01\",\"2011-08-01\",\"2011-09-01\",\"2011-10-01\",\"2011-11-01\",\"2011-12-01\",\"2012-01-01\",\"2012-02-01\",\"2012-03-01\",\"2012-04-01\",\"2012-05-01\",\"2012-06-01\",\"2012-07-01\",\"2012-08-01\",\"2012-09-01\",\"2012-10-01\",\"2012-11-01\",\"2012-12-01\",\"2013-01-01\",\"2013-02-01\",\"2013-03-01\",\"2013-04-01\",\"2013-05-01\",\"2013-06-01\",\"2013-07-01\",\"2013-08-01\",\"2013-09-01\",\"2013-10-01\",\"2013-11-01\",\"2013-12-01\",\"2014-01-01\",\"2014-02-01\",\"2014-03-01\",\"2014-04-01\",\"2014-05-01\",\"2014-06-01\",\"2014-07-01\",\"2014-08-01\",\"2014-09-01\",\"2014-10-01\",\"2014-11-01\",\"2014-12-01\",\"2015-01-01\",\"2015-02-01\",\"2015-03-01\",\"2015-04-01\",\"2015-05-01\",\"2015-06-01\",\"2015-07-01\",\"2015-08-01\",\"2015-09-01\",\"2015-10-01\",\"2015-11-01\",\"2015-12-01\",\"2016-01-01\",\"2016-02-01\",\"2016-03-01\",\"2016-04-01\",\"2016-05-01\",\"2016-06-01\",\"2016-07-01\",\"2016-08-01\",\"2016-09-01\",\"2016-10-01\",\"2016-11-01\",\"2016-12-01\",\"2017-01-01\",\"2017-02-01\",\"2017-03-01\",\"2017-04-01\",\"2017-05-01\",\"2017-06-01\",\"2017-07-01\",\"2017-08-01\",\"2017-09-01\",\"2017-10-01\",\"2017-11-01\",\"2017-12-01\",\"2018-01-01\",\"2018-02-01\",\"2018-03-01\",\"2018-04-01\",\"2018-05-01\",\"2018-06-01\",\"2018-07-01\",\"2018-08-01\",\"2018-09-01\",\"2018-10-01\",\"2018-11-01\",\"2018-12-01\",\"2019-01-01\",\"2019-02-01\",\"2019-03-01\",\"2019-04-01\",\"2019-05-01\",\"2019-06-01\",\"2019-07-01\",\"2019-08-01\",\"2019-09-01\",\"2019-10-01\",\"2019-11-01\",\"2019-12-01\",\"2020-01-01\",\"2020-02-01\",\"2020-03-01\",\"2020-04-01\",\"2020-05-01\",\"2020-06-01\",\"2020-07-01\",\"2020-08-01\",\"2020-09-01\",\"2020-10-01\",\"2020-11-01\",\"2020-12-01\",\"2021-01-01\",\"2021-02-01\",\"2021-03-01\",\"2021-04-01\",\"2021-05-01\",\"2021-06-01\",\"2021-07-01\",\"2021-08-01\",\"2021-09-01\",\"2021-10-01\",\"2021-11-01\",\"2021-12-01\",\"2022-01-01\",\"2022-02-01\",\"2022-03-01\",\"2022-04-01\",\"2022-05-01\",\"2022-06-01\",\"2022-07-01\",\"2022-08-01\",\"2022-09-01\",\"2022-10-01\",\"2022-11-01\",\"2022-12-01\",\"2023-01-01\",\"2023-02-01\",\"2023-03-01\",\"2023-04-01\",\"2023-05-01\",\"2023-06-01\",\"2023-07-01\",\"2023-08-01\",\"2023-09-01\",\"2023-10-01\",\"2023-11-01\",\"2023-12-01\",\"2024-01-01\",\"2024-02-01\",\"2024-03-01\",\"2024-04-01\",\"2024-05-01\",\"2024-06-01\",\"2024-07-01\",\"2024-08-01\"],\"y\":[0.025547489413188185,0.03383545069570415,-0.007126436781608514,4.930568663036899,0.025245009074409852,-0.006037507562009159,-0.018251663641862592,0.03294615849969751,-0.004761040532365035,0.02735027223230513,-0.009370840895341792,-0.010689655172411272,-0.02825771324863846,0.009407138535993953,0.039165154264973134,-0.031022383545068588,-0.015251058681184593,0.06554143980641092,0.011845130066547194,-0.0015607985480955433,-0.026491228070174233,-0.030913490623106665,-0.08671506352086977,0.04992740471869106,0.050798548094372675,0.015862068965516674,-0.006067755595883906,0.009310344827584194,0.05072595281306347,0.00710223835450452,0.002764670296429683,-0.04802782819116436,-0.05811252268602196,-0.012516636418632099,-0.04310949788263729,0.007864488808227987,0.05825166364186196,-0.03358741681790489,-0.010980036297638107,0.005571687840290052,-0.004016938898969924,0.059951603145793175,0.06700544464609504,0.03416212946158392,0.5084513006654547,0.06142770719902968,0.0038233514821539583,0.04980036297640478,0.004228675136117133,0.015849969751963844,0.030526315789472847,0.014156079854809045,0.04684210526315691,0.004083484573501828,-0.0075257108287957175,0.03462189957652373,-0.036612220205683554,-0.0065880217785837525,0.005553539019962583,0.0005565638233508974,0.029316394434359072,0.05376285541439363,0.006430732002420392,0.020381125226857755,-0.004440411373259678,-0.026696914700541474,0.03314579552328811,0.0216817906836011,0.03581367211130959,-0.0006957047791892323,0.12865093768904812,0.0726013309134903,2.2130248033877846,0.02156079854809434,0.040816696914699246,0.012891712038716197,0.02750151240169063,0.009207501512401128,-0.031373260738048914,-0.0008166969147005432,-0.014313369630973627,0.024882032667874254,0.02975196612219899,0.02138535995160007,0.018880822746520476,0.02797943133695835,0.036872353297032756,0.004440411373261455,0.001584996975197539,0.0188082274652126,0.022619479733814396,-0.011415607985479137,-0.02407138535994935,-0.009249848759829371,0.002474289171202848,0.02551724137930922,-0.05206291591046308,-0.009225650332726487,-0.0579552329098596,-0.009280096793706338,-0.013121597096186988,0.031149425287355648,0.02318814277071768,-0.06243799153054985,-0.0049909255898370475,0.02157894736842092,-0.07269812462189917,-0.1541802782819104,-0.05525105868118674,0.04130066545674316,-0.050229885057469614,-0.05834845735027172,0.06975801572897589,0.14761645493042796,0.04329098608590476,0.035021173623714486,0.062389594676345084,0.055202661826980304,0.032274652147609384,-0.022008469449483536,0.0015910465819715114,0.05137931034482435,-0.010393224440409243,0.018554143980639592,0.05903811252268154,0.04499697519660795,-0.0543738656987246,-0.038058076225041315,0.03886267392619347,-0.035414398064121166,0.06960677555958616,0.016388384754989715,0.02758620689654956,0.0584029038112468,0.011978221415607448,0.032480338777975515,0.001603145795523453,0.019885057471262124,-0.005003024803385547,-0.002764670296429572,-0.016957047791891444,-0.0525287356321813,-0.04701754385964807,0.06892316999394943,-0.015662431941921517,0.00025408348457278684,0.059376890502114144,0.09954022988505207,0.026303690260128354,-0.007253478523894019,-0.057241379310342566,0.03002419842709836,-0.004234724742891327,0.019667271627342275,0.017150635208708076,0.001203871748335139,0.016684815486990523,0.031173623714453536,0.06079249848759227,0.0218390804597679,0.04068360556563255,0.03336963097398571,0.018215366001207878,-0.009491833030852881,0.03699334543254329,-0.01653962492437533,0.05121597096188113,0.021343012704170272,0.023980641258315005,0.02228070175438135,-0.0122565033272799,0.02886267392619213,0.0008287961282520406,-0.01481548699334323,0.01611615245008835,0.03064730792497894,-0.012855414398062703,0.0267453115547438,-0.010508166969145138,0.025311554748938203,0.041675741076825146,0.014168179068358766,0.0019419237749558338,0.04445856019358252,0.009745916515426112,0.00041137326073759084,0.02520871143375225,-0.009673321234116239,0.012788868723531133,-0.041355111917719234,-0.03201451905625696,0.062341197822137984,0.01900181488203012,-0.01770719903205853,-0.0508892921960038,-0.000641258318208493,0.056612220205681574,0.0004355716878403637,0.02140955837870062,-0.029092558983665584,0.053581367211125164,0.011010284331519182,0.0043375680580743925,-0.015184513006653577,0.051433756805806974,0.03154869933453708,0.014658197217180424,0.021845130066540985,0.009751966122203415,0.015595886267387948,0.012667876588020377,0.01312159709618732,0.013569267997577406,0.003387779794311596,0.03088929219600267,0.01952208106472675,0.023224440411370395,0.01144585601935666,0.023817301875374675,-0.025577737447060378,-0.00336358136720849,0.019479733817297173,0.02636418632788695,0.008632788868722763,0.017592256503323966,0.021772534785239328,-0.009249848759832702,-0.06341197822141131,0.01151240169388612,-0.08667271627343787,0.09143980641258032,0.03675136116152111,0.00413793103448179,0.043049001814877474,-0.05917725347852165,0.045353901996365575,0.022123411978218988,-0.029552329098605612,0.03694494857833708,0.029479733817298515,0.0347307924984841,0.026805807622500843,-0.010248033877796825,-0.0900846944948529,-0.1816152450090751,0.12603145795522974,0.07255293405928498,0.030417422867514476,0.022571082879613735,0.06055656382334962,-0.0054869933454299025,-0.007670901391404694,0.15838475499092408,0.057961282516630463,0.0404839685420475,0.05379310344827615,0.058929219600720506,0.037652752571080805,0.021343012704173825,0.020756200846943296,0.0036418632788870475,0.02528735632183654,-0.013514821536595778,0.030024198427099247,-0.030066545674527045,0.040211736237137696,-0.07431941923774554,-0.012316999395034944,0.003230490018147014,-0.05532365396248862,0.0007199032062885635,-0.07505747126436668,0.09042952208106025,-0.03070175438596201,-0.09862673926194399,0.08102843315184272,0.05529945553538784,-0.0422625529340539,0.09733212341197661,-0.011004234724740436,-0.020066545674530145,0.0013188142770683697,-0.009116757410766452,0.06248033877797354,0.04333938294010187,-0.03137931034482633,-0.040217785843914555,-0.05788868723532303,0.0877132486388339,0.07932849364790973,-0.014603750756200906,0.07413793103448185,0.027628554143975803,-0.04402903811251935,0.034162129461583035,-0.006757410768298278,0.055251058681182075,-0.0028009679370835094,-0.03332123411977328],\"type\":\"scatter\"},{\"line\":{\"color\":\"red\",\"width\":2},\"mode\":\"lines\",\"name\":\"Train returns\",\"x\":[\"2001-11-01\",\"2001-12-01\",\"2002-01-01\",\"2002-02-01\",\"2002-03-01\",\"2002-04-01\",\"2002-05-01\",\"2002-06-01\",\"2002-07-01\",\"2002-08-01\",\"2002-09-01\",\"2002-10-01\",\"2002-11-01\",\"2002-12-01\",\"2003-01-01\",\"2003-02-01\",\"2003-03-01\",\"2003-04-01\",\"2003-05-01\",\"2003-06-01\",\"2003-07-01\",\"2003-08-01\",\"2003-09-01\",\"2003-10-01\",\"2003-11-01\",\"2003-12-01\",\"2004-01-01\",\"2004-02-01\",\"2004-03-01\",\"2004-04-01\",\"2004-05-01\",\"2004-06-01\",\"2004-07-01\",\"2004-08-01\",\"2004-09-01\",\"2004-10-01\",\"2004-11-01\",\"2004-12-01\",\"2005-01-01\",\"2005-02-01\",\"2005-03-01\",\"2005-04-01\",\"2005-05-01\",\"2005-06-01\",\"2005-07-01\",\"2005-08-01\",\"2005-09-01\",\"2005-10-01\",\"2005-11-01\",\"2005-12-01\",\"2006-01-01\",\"2006-02-01\",\"2006-03-01\",\"2006-04-01\",\"2006-05-01\",\"2006-06-01\",\"2006-07-01\",\"2006-08-01\",\"2006-09-01\",\"2006-10-01\",\"2006-11-01\",\"2006-12-01\",\"2007-01-01\",\"2007-02-01\",\"2007-03-01\",\"2007-04-01\",\"2007-05-01\",\"2007-06-01\",\"2007-07-01\",\"2007-08-01\",\"2007-09-01\",\"2007-10-01\",\"2007-11-01\",\"2007-12-01\",\"2008-01-01\",\"2008-02-01\",\"2008-03-01\",\"2008-04-01\",\"2008-05-01\",\"2008-06-01\",\"2008-07-01\",\"2008-08-01\",\"2008-09-01\",\"2008-10-01\",\"2008-11-01\",\"2008-12-01\",\"2009-01-01\",\"2009-02-01\",\"2009-03-01\",\"2009-04-01\",\"2009-05-01\",\"2009-06-01\",\"2009-07-01\",\"2009-08-01\",\"2009-09-01\",\"2009-10-01\",\"2009-11-01\",\"2009-12-01\",\"2010-01-01\",\"2010-02-01\",\"2010-03-01\",\"2010-04-01\",\"2010-05-01\",\"2010-06-01\",\"2010-07-01\",\"2010-08-01\",\"2010-09-01\",\"2010-10-01\",\"2010-11-01\",\"2010-12-01\",\"2011-01-01\",\"2011-02-01\",\"2011-03-01\",\"2011-04-01\",\"2011-05-01\",\"2011-06-01\",\"2011-07-01\",\"2011-08-01\",\"2011-09-01\",\"2011-10-01\",\"2011-11-01\",\"2011-12-01\",\"2012-01-01\",\"2012-02-01\",\"2012-03-01\",\"2012-04-01\",\"2012-05-01\",\"2012-06-01\",\"2012-07-01\",\"2012-08-01\",\"2012-09-01\",\"2012-10-01\",\"2012-11-01\",\"2012-12-01\",\"2013-01-01\",\"2013-02-01\",\"2013-03-01\",\"2013-04-01\",\"2013-05-01\",\"2013-06-01\",\"2013-07-01\",\"2013-08-01\",\"2013-09-01\",\"2013-10-01\",\"2013-11-01\",\"2013-12-01\",\"2014-01-01\",\"2014-02-01\",\"2014-03-01\",\"2014-04-01\",\"2014-05-01\",\"2014-06-01\",\"2014-07-01\",\"2014-08-01\",\"2014-09-01\",\"2014-10-01\",\"2014-11-01\",\"2014-12-01\",\"2015-01-01\",\"2015-02-01\",\"2015-03-01\",\"2015-04-01\",\"2015-05-01\",\"2015-06-01\",\"2015-07-01\",\"2015-08-01\",\"2015-09-01\",\"2015-10-01\",\"2015-11-01\",\"2015-12-01\",\"2016-01-01\",\"2016-02-01\",\"2016-03-01\",\"2016-04-01\",\"2016-05-01\",\"2016-06-01\",\"2016-07-01\",\"2016-08-01\",\"2016-09-01\",\"2016-10-01\",\"2016-11-01\",\"2016-12-01\",\"2017-01-01\",\"2017-02-01\",\"2017-03-01\",\"2017-04-01\",\"2017-05-01\",\"2017-06-01\",\"2017-07-01\",\"2017-08-01\",\"2017-09-01\",\"2017-10-01\",\"2017-11-01\",\"2017-12-01\",\"2018-01-01\",\"2018-02-01\",\"2018-03-01\",\"2018-04-01\",\"2018-05-01\",\"2018-06-01\",\"2018-07-01\",\"2018-08-01\",\"2018-09-01\",\"2018-10-01\",\"2018-11-01\",\"2018-12-01\",\"2019-01-01\",\"2019-02-01\",\"2019-03-01\",\"2019-04-01\",\"2019-05-01\",\"2019-06-01\",\"2019-07-01\",\"2019-08-01\",\"2019-09-01\",\"2019-10-01\",\"2019-11-01\",\"2019-12-01\",\"2020-01-01\",\"2020-02-01\",\"2020-03-01\",\"2020-04-01\",\"2020-05-01\",\"2020-06-01\",\"2020-07-01\",\"2020-08-01\",\"2020-09-01\",\"2020-10-01\",\"2020-11-01\",\"2020-12-01\",\"2021-01-01\",\"2021-02-01\",\"2021-03-01\",\"2021-04-01\",\"2021-05-01\",\"2021-06-01\",\"2021-07-01\",\"2021-08-01\",\"2021-09-01\",\"2021-10-01\",\"2021-11-01\",\"2021-12-01\",\"2022-01-01\",\"2022-02-01\",\"2022-03-01\",\"2022-04-01\",\"2022-05-01\",\"2022-06-01\",\"2022-07-01\",\"2022-08-01\",\"2022-09-01\",\"2022-10-01\",\"2022-11-01\",\"2022-12-01\",\"2023-01-01\",\"2023-02-01\",\"2023-03-01\",\"2023-04-01\",\"2023-05-01\",\"2023-06-01\",\"2023-07-01\",\"2023-08-01\"],\"y\":[0.008245587348937988,0.013420462608337402,0.008569478988647461,0.010702848434448242,0.015405416488647461,0.014570355415344238,0.012759208679199219,0.0135573148727417,0.010904669761657715,0.01190030574798584,0.017052650451660156,0.01092076301574707,0.011745452880859375,0.009566426277160645,0.008965373039245605,0.010960698127746582,0.01340627670288086,0.010530948638916016,0.01171731948852539,0.010233402252197266,0.012994885444641113,0.014267921447753906,0.013740301132202148,0.01072382926940918,0.01845991611480713,0.01280820369720459,0.021165013313293457,0.011297345161437988,0.012639522552490234,0.010975956916809082,0.012363195419311523,0.012051582336425781,0.015296220779418945,0.011999845504760742,0.013496160507202148,0.012917399406433105,0.012007474899291992,0.01768314838409424,0.012270808219909668,0.015104055404663086,0.013305425643920898,0.012514114379882812,0.018651127815246582,0.011308431625366211,0.009915351867675781,0.012038826942443848,0.013718247413635254,0.010576486587524414,0.009791016578674316,0.013397812843322754,0.014110922813415527,0.028294682502746582,0.014267802238464355,0.014876604080200195,0.013907194137573242,0.01117408275604248,0.014858126640319824,0.010703802108764648,0.012063026428222656,2.6305699348449707,0.01385653018951416,0.012151241302490234,0.009691596031188965,0.009952664375305176,0.01098787784576416,0.02745687961578369,0.016873955726623535,0.01197504997253418,0.013979911804199219,0.010958552360534668,0.008707284927368164,0.013944625854492188,0.008919477462768555,0.02704942226409912,0.015542149543762207,0.00968015193939209,0.010447144508361816,0.015143275260925293,0.014716625213623047,0.011676192283630371,0.014406919479370117,0.011251688003540039,0.009381532669067383,0.011331558227539062,0.01485896110534668,0.012828588485717773,0.015048503875732422,0.008451461791992188,0.012869477272033691,0.015741348266601562,0.009670376777648926,0.01257479190826416,0.014786958694458008,0.010781645774841309,0.009968161582946777,0.011483192443847656,0.008754372596740723,0.010486602783203125,0.008394479751586914,0.014993667602539062,0.013793587684631348,0.010870099067687988,0.013521552085876465,0.011412620544433594,0.010173559188842773,0.011441349983215332,0.010760664939880371,0.0135267972946167,0.013029217720031738,0.009520769119262695,0.012989282608032227,0.014119505882263184,0.010558485984802246,0.01478278636932373,0.016634225845336914,0.018698930740356445,0.011641621589660645,0.011814475059509277,0.01397240161895752,0.013175487518310547,0.020040392875671387,0.014358878135681152,0.012685418128967285,0.01610696315765381,0.009128928184509277,0.012560486793518066,0.01036214828491211,0.01210486888885498,0.011161327362060547,0.012412667274475098,0.012054204940795898,0.014510035514831543,0.010915875434875488,0.011110424995422363,0.010378718376159668,0.020512104034423828,0.014819741249084473,0.01061248779296875,0.013639211654663086,0.015817642211914062,0.1259598731994629,0.011944293975830078,0.017801880836486816,0.009888172149658203,0.01743316650390625,0.014526605606079102,0.01004338264465332,0.014730453491210938,0.016184449195861816,0.014588475227355957,0.015960097312927246,0.009752631187438965,0.0083543062210083,0.011621832847595215,-0.05160379409790039,0.010241150856018066,0.01578807830810547,0.008271217346191406,0.010017752647399902,0.014804363250732422,0.008546233177185059,0.015305399894714355,0.014330267906188965,0.016154766082763672,0.016352057456970215,0.015617728233337402,0.009378433227539062,0.014218688011169434,0.012452006340026855,0.010850906372070312,0.009222865104675293,0.015682697296142578,0.014112472534179688,0.013658761978149414,0.013592958450317383,0.015947461128234863,0.014555573463439941,0.012053728103637695,0.013374686241149902,0.009937882423400879,0.016180872917175293,0.009856343269348145,0.00963747501373291,0.010641336441040039,0.012675046920776367,0.01223301887512207,0.01353597640991211,0.014939546585083008,0.016589760780334473,0.008997201919555664,0.01027369499206543,0.0072557926177978516,0.011591196060180664,0.007665514945983887,0.12309038639068604,0.014925479888916016,0.012176871299743652,0.015761137008666992,0.01381826400756836,0.015677690505981445,0.009501934051513672,0.013467073440551758,0.018544912338256836,0.007529497146606445,0.011580824851989746,0.011415362358093262,0.01692664623260498,0.013540148735046387,0.011122465133666992,0.0135345458984375,0.016433119773864746,0.01740264892578125,0.012085437774658203,0.01303398609161377,0.013822793960571289,0.01316821575164795,0.009046554565429688,0.010155439376831055,0.012016892433166504,0.01266026496887207,0.015764236450195312,0.007780909538269043,0.01568138599395752,0.014746904373168945,0.006680727005004883,0.00953221321105957,0.011182188987731934,0.01071178913116455,0.012039422988891602,0.010905861854553223,0.016060829162597656,0.00863957405090332,0.008404135704040527,0.010686397552490234,0.01315164566040039,0.012417435646057129,0.01033473014831543,0.009790301322937012,0.013126254081726074,0.011582016944885254,0.0238264799118042,0.015691757202148438,0.015670180320739746,0.012302398681640625,0.012819647789001465,0.014168620109558105,0.011090278625488281,0.012621283531188965,0.01605820655822754,0.01423025131225586,0.012608885765075684,0.013220429420471191,0.01449120044708252,0.010743856430053711,0.06102597713470459,0.014674901962280273,0.014020323753356934,0.010502457618713379,0.016234755516052246,0.011179089546203613,0.013081192970275879,0.011399388313293457],\"type\":\"scatter\"},{\"line\":{\"color\":\"green\",\"width\":2},\"mode\":\"lines\",\"name\":\"Test returns\",\"x\":[\"2023-08-01\",\"2023-09-01\",\"2023-10-01\",\"2023-11-01\",\"2023-12-01\",\"2024-01-01\",\"2024-02-01\",\"2024-03-01\",\"2024-04-01\",\"2024-05-01\",\"2024-06-01\",\"2024-07-01\",\"2024-08-01\"],\"y\":[0.011399388313293457,0.0145491361618042,0.012192845344543457,0.020504474639892578,0.015639901161193848,0.011860489845275879,0.0190354585647583,0.015750885009765625,0.030017733573913574,0.019804835319519043,0.017917394638061523,0.008799910545349121,0.013658881187438965],\"type\":\"scatter\"}],                        {\"template\":{\"data\":{\"barpolar\":[{\"marker\":{\"line\":{\"color\":\"white\",\"width\":0.5},\"pattern\":{\"fillmode\":\"overlay\",\"size\":10,\"solidity\":0.2}},\"type\":\"barpolar\"}],\"bar\":[{\"error_x\":{\"color\":\"#2a3f5f\"},\"error_y\":{\"color\":\"#2a3f5f\"},\"marker\":{\"line\":{\"color\":\"white\",\"width\":0.5},\"pattern\":{\"fillmode\":\"overlay\",\"size\":10,\"solidity\":0.2}},\"type\":\"bar\"}],\"carpet\":[{\"aaxis\":{\"endlinecolor\":\"#2a3f5f\",\"gridcolor\":\"#C8D4E3\",\"linecolor\":\"#C8D4E3\",\"minorgridcolor\":\"#C8D4E3\",\"startlinecolor\":\"#2a3f5f\"},\"baxis\":{\"endlinecolor\":\"#2a3f5f\",\"gridcolor\":\"#C8D4E3\",\"linecolor\":\"#C8D4E3\",\"minorgridcolor\":\"#C8D4E3\",\"startlinecolor\":\"#2a3f5f\"},\"type\":\"carpet\"}],\"choropleth\":[{\"colorbar\":{\"outlinewidth\":0,\"ticks\":\"\"},\"type\":\"choropleth\"}],\"contourcarpet\":[{\"colorbar\":{\"outlinewidth\":0,\"ticks\":\"\"},\"type\":\"contourcarpet\"}],\"contour\":[{\"colorbar\":{\"outlinewidth\":0,\"ticks\":\"\"},\"colorscale\":[[0.0,\"#0d0887\"],[0.1111111111111111,\"#46039f\"],[0.2222222222222222,\"#7201a8\"],[0.3333333333333333,\"#9c179e\"],[0.4444444444444444,\"#bd3786\"],[0.5555555555555556,\"#d8576b\"],[0.6666666666666666,\"#ed7953\"],[0.7777777777777778,\"#fb9f3a\"],[0.8888888888888888,\"#fdca26\"],[1.0,\"#f0f921\"]],\"type\":\"contour\"}],\"heatmapgl\":[{\"colorbar\":{\"outlinewidth\":0,\"ticks\":\"\"},\"colorscale\":[[0.0,\"#0d0887\"],[0.1111111111111111,\"#46039f\"],[0.2222222222222222,\"#7201a8\"],[0.3333333333333333,\"#9c179e\"],[0.4444444444444444,\"#bd3786\"],[0.5555555555555556,\"#d8576b\"],[0.6666666666666666,\"#ed7953\"],[0.7777777777777778,\"#fb9f3a\"],[0.8888888888888888,\"#fdca26\"],[1.0,\"#f0f921\"]],\"type\":\"heatmapgl\"}],\"heatmap\":[{\"colorbar\":{\"outlinewidth\":0,\"ticks\":\"\"},\"colorscale\":[[0.0,\"#0d0887\"],[0.1111111111111111,\"#46039f\"],[0.2222222222222222,\"#7201a8\"],[0.3333333333333333,\"#9c179e\"],[0.4444444444444444,\"#bd3786\"],[0.5555555555555556,\"#d8576b\"],[0.6666666666666666,\"#ed7953\"],[0.7777777777777778,\"#fb9f3a\"],[0.8888888888888888,\"#fdca26\"],[1.0,\"#f0f921\"]],\"type\":\"heatmap\"}],\"histogram2dcontour\":[{\"colorbar\":{\"outlinewidth\":0,\"ticks\":\"\"},\"colorscale\":[[0.0,\"#0d0887\"],[0.1111111111111111,\"#46039f\"],[0.2222222222222222,\"#7201a8\"],[0.3333333333333333,\"#9c179e\"],[0.4444444444444444,\"#bd3786\"],[0.5555555555555556,\"#d8576b\"],[0.6666666666666666,\"#ed7953\"],[0.7777777777777778,\"#fb9f3a\"],[0.8888888888888888,\"#fdca26\"],[1.0,\"#f0f921\"]],\"type\":\"histogram2dcontour\"}],\"histogram2d\":[{\"colorbar\":{\"outlinewidth\":0,\"ticks\":\"\"},\"colorscale\":[[0.0,\"#0d0887\"],[0.1111111111111111,\"#46039f\"],[0.2222222222222222,\"#7201a8\"],[0.3333333333333333,\"#9c179e\"],[0.4444444444444444,\"#bd3786\"],[0.5555555555555556,\"#d8576b\"],[0.6666666666666666,\"#ed7953\"],[0.7777777777777778,\"#fb9f3a\"],[0.8888888888888888,\"#fdca26\"],[1.0,\"#f0f921\"]],\"type\":\"histogram2d\"}],\"histogram\":[{\"marker\":{\"pattern\":{\"fillmode\":\"overlay\",\"size\":10,\"solidity\":0.2}},\"type\":\"histogram\"}],\"mesh3d\":[{\"colorbar\":{\"outlinewidth\":0,\"ticks\":\"\"},\"type\":\"mesh3d\"}],\"parcoords\":[{\"line\":{\"colorbar\":{\"outlinewidth\":0,\"ticks\":\"\"}},\"type\":\"parcoords\"}],\"pie\":[{\"automargin\":true,\"type\":\"pie\"}],\"scatter3d\":[{\"line\":{\"colorbar\":{\"outlinewidth\":0,\"ticks\":\"\"}},\"marker\":{\"colorbar\":{\"outlinewidth\":0,\"ticks\":\"\"}},\"type\":\"scatter3d\"}],\"scattercarpet\":[{\"marker\":{\"colorbar\":{\"outlinewidth\":0,\"ticks\":\"\"}},\"type\":\"scattercarpet\"}],\"scattergeo\":[{\"marker\":{\"colorbar\":{\"outlinewidth\":0,\"ticks\":\"\"}},\"type\":\"scattergeo\"}],\"scattergl\":[{\"marker\":{\"colorbar\":{\"outlinewidth\":0,\"ticks\":\"\"}},\"type\":\"scattergl\"}],\"scattermapbox\":[{\"marker\":{\"colorbar\":{\"outlinewidth\":0,\"ticks\":\"\"}},\"type\":\"scattermapbox\"}],\"scatterpolargl\":[{\"marker\":{\"colorbar\":{\"outlinewidth\":0,\"ticks\":\"\"}},\"type\":\"scatterpolargl\"}],\"scatterpolar\":[{\"marker\":{\"colorbar\":{\"outlinewidth\":0,\"ticks\":\"\"}},\"type\":\"scatterpolar\"}],\"scatter\":[{\"fillpattern\":{\"fillmode\":\"overlay\",\"size\":10,\"solidity\":0.2},\"type\":\"scatter\"}],\"scatterternary\":[{\"marker\":{\"colorbar\":{\"outlinewidth\":0,\"ticks\":\"\"}},\"type\":\"scatterternary\"}],\"surface\":[{\"colorbar\":{\"outlinewidth\":0,\"ticks\":\"\"},\"colorscale\":[[0.0,\"#0d0887\"],[0.1111111111111111,\"#46039f\"],[0.2222222222222222,\"#7201a8\"],[0.3333333333333333,\"#9c179e\"],[0.4444444444444444,\"#bd3786\"],[0.5555555555555556,\"#d8576b\"],[0.6666666666666666,\"#ed7953\"],[0.7777777777777778,\"#fb9f3a\"],[0.8888888888888888,\"#fdca26\"],[1.0,\"#f0f921\"]],\"type\":\"surface\"}],\"table\":[{\"cells\":{\"fill\":{\"color\":\"#EBF0F8\"},\"line\":{\"color\":\"white\"}},\"header\":{\"fill\":{\"color\":\"#C8D4E3\"},\"line\":{\"color\":\"white\"}},\"type\":\"table\"}]},\"layout\":{\"annotationdefaults\":{\"arrowcolor\":\"#2a3f5f\",\"arrowhead\":0,\"arrowwidth\":1},\"autotypenumbers\":\"strict\",\"coloraxis\":{\"colorbar\":{\"outlinewidth\":0,\"ticks\":\"\"}},\"colorscale\":{\"diverging\":[[0,\"#8e0152\"],[0.1,\"#c51b7d\"],[0.2,\"#de77ae\"],[0.3,\"#f1b6da\"],[0.4,\"#fde0ef\"],[0.5,\"#f7f7f7\"],[0.6,\"#e6f5d0\"],[0.7,\"#b8e186\"],[0.8,\"#7fbc41\"],[0.9,\"#4d9221\"],[1,\"#276419\"]],\"sequential\":[[0.0,\"#0d0887\"],[0.1111111111111111,\"#46039f\"],[0.2222222222222222,\"#7201a8\"],[0.3333333333333333,\"#9c179e\"],[0.4444444444444444,\"#bd3786\"],[0.5555555555555556,\"#d8576b\"],[0.6666666666666666,\"#ed7953\"],[0.7777777777777778,\"#fb9f3a\"],[0.8888888888888888,\"#fdca26\"],[1.0,\"#f0f921\"]],\"sequentialminus\":[[0.0,\"#0d0887\"],[0.1111111111111111,\"#46039f\"],[0.2222222222222222,\"#7201a8\"],[0.3333333333333333,\"#9c179e\"],[0.4444444444444444,\"#bd3786\"],[0.5555555555555556,\"#d8576b\"],[0.6666666666666666,\"#ed7953\"],[0.7777777777777778,\"#fb9f3a\"],[0.8888888888888888,\"#fdca26\"],[1.0,\"#f0f921\"]]},\"colorway\":[\"#636efa\",\"#EF553B\",\"#00cc96\",\"#ab63fa\",\"#FFA15A\",\"#19d3f3\",\"#FF6692\",\"#B6E880\",\"#FF97FF\",\"#FECB52\"],\"font\":{\"color\":\"#2a3f5f\"},\"geo\":{\"bgcolor\":\"white\",\"lakecolor\":\"white\",\"landcolor\":\"white\",\"showlakes\":true,\"showland\":true,\"subunitcolor\":\"#C8D4E3\"},\"hoverlabel\":{\"align\":\"left\"},\"hovermode\":\"closest\",\"mapbox\":{\"style\":\"light\"},\"paper_bgcolor\":\"white\",\"plot_bgcolor\":\"white\",\"polar\":{\"angularaxis\":{\"gridcolor\":\"#EBF0F8\",\"linecolor\":\"#EBF0F8\",\"ticks\":\"\"},\"bgcolor\":\"white\",\"radialaxis\":{\"gridcolor\":\"#EBF0F8\",\"linecolor\":\"#EBF0F8\",\"ticks\":\"\"}},\"scene\":{\"xaxis\":{\"backgroundcolor\":\"white\",\"gridcolor\":\"#DFE8F3\",\"gridwidth\":2,\"linecolor\":\"#EBF0F8\",\"showbackground\":true,\"ticks\":\"\",\"zerolinecolor\":\"#EBF0F8\"},\"yaxis\":{\"backgroundcolor\":\"white\",\"gridcolor\":\"#DFE8F3\",\"gridwidth\":2,\"linecolor\":\"#EBF0F8\",\"showbackground\":true,\"ticks\":\"\",\"zerolinecolor\":\"#EBF0F8\"},\"zaxis\":{\"backgroundcolor\":\"white\",\"gridcolor\":\"#DFE8F3\",\"gridwidth\":2,\"linecolor\":\"#EBF0F8\",\"showbackground\":true,\"ticks\":\"\",\"zerolinecolor\":\"#EBF0F8\"}},\"shapedefaults\":{\"line\":{\"color\":\"#2a3f5f\"}},\"ternary\":{\"aaxis\":{\"gridcolor\":\"#DFE8F3\",\"linecolor\":\"#A2B1C6\",\"ticks\":\"\"},\"baxis\":{\"gridcolor\":\"#DFE8F3\",\"linecolor\":\"#A2B1C6\",\"ticks\":\"\"},\"bgcolor\":\"white\",\"caxis\":{\"gridcolor\":\"#DFE8F3\",\"linecolor\":\"#A2B1C6\",\"ticks\":\"\"}},\"title\":{\"x\":0.05},\"xaxis\":{\"automargin\":true,\"gridcolor\":\"#EBF0F8\",\"linecolor\":\"#EBF0F8\",\"ticks\":\"\",\"title\":{\"standoff\":15},\"zerolinecolor\":\"#EBF0F8\",\"zerolinewidth\":2},\"yaxis\":{\"automargin\":true,\"gridcolor\":\"#EBF0F8\",\"linecolor\":\"#EBF0F8\",\"ticks\":\"\",\"title\":{\"standoff\":15},\"zerolinecolor\":\"#EBF0F8\",\"zerolinewidth\":2}}},\"shapes\":[{\"line\":{\"color\":\"red\",\"dash\":\"dash\",\"width\":1},\"type\":\"line\",\"x0\":\"2023-08-01\",\"x1\":\"2023-08-01\",\"xref\":\"x\",\"y0\":0,\"y1\":1,\"yref\":\"y domain\"}],\"yaxis\":{\"title\":{\"text\":\"Day closing return (%)\"},\"tickformat\":\".0%\",\"range\":[-0.25,0.6]},\"title\":{\"text\":\"12 Month Prediction vs Actual Plot\"},\"xaxis\":{\"title\":{\"text\":\"Date\"}},\"legend\":{\"title\":{\"text\":\"Legend\"}}},                        {\"responsive\": true}                    ).then(function(){\n",
       "                            \n",
       "var gd = document.getElementById('25668e1d-f2a9-4b9a-b9cf-2f5f610c7896');\n",
       "var x = new MutationObserver(function (mutations, observer) {{\n",
       "        var display = window.getComputedStyle(gd).display;\n",
       "        if (!display || display === 'none') {{\n",
       "            console.log([gd, 'removed!']);\n",
       "            Plotly.purge(gd);\n",
       "            observer.disconnect();\n",
       "        }}\n",
       "}});\n",
       "\n",
       "// Listen for the removal of the full notebook cells\n",
       "var notebookContainer = gd.closest('#notebook-container');\n",
       "if (notebookContainer) {{\n",
       "    x.observe(notebookContainer, {childList: true});\n",
       "}}\n",
       "\n",
       "// Listen for the clearing of the current output cell\n",
       "var outputEl = gd.closest('.output');\n",
       "if (outputEl) {{\n",
       "    x.observe(outputEl, {childList: true});\n",
       "}}\n",
       "\n",
       "                        })                };                });            </script>        </div>"
      ]
     },
     "metadata": {},
     "output_type": "display_data"
    }
   ],
   "execution_count": 114
  },
  {
   "metadata": {},
   "cell_type": "markdown",
   "source": "#### Allocation",
   "id": "fbee5ac36ce81844"
  },
  {
   "metadata": {
    "ExecuteTime": {
     "end_time": "2025-06-14T08:41:43.770649Z",
     "start_time": "2025-06-14T08:41:43.695053Z"
    }
   },
   "cell_type": "code",
   "source": [
    "importlib.reload(mpt_utils)\n",
    "\n",
    "# Get train true values followed with predicted month/s\n",
    "y_train_12m_list = y_train_12m['m_return_target(t+12)'].tolist()\n",
    "y_test_12m_list = y_test_pred_12m.tolist()\n",
    "#\n",
    "df_to_evaluate_12m = mpt_utils.get_df_from_pred_list(df_pct, y_train_12m_list, y_test_12m_list)\n",
    "df_to_evaluate_12m = df_to_evaluate_12m - 1\n",
    "df_to_evaluate_12m"
   ],
   "id": "c4dd13fb1fb5f1d2",
   "outputs": [
    {
     "data": {
      "text/plain": [
       "        RS1.L        KE    TEG.DE    LEG.DE       SCS       HNI       AVT  \\\n",
       "0    0.000000  0.000000  0.050000 -0.020000  0.090000  0.060000  0.150000   \n",
       "1    0.000000  0.000000 -0.150000  0.000000  0.040000  0.090000  0.070000   \n",
       "2    0.010000  0.000000  0.040000  0.000000  0.070000  0.010000  0.050000   \n",
       "3    0.000000  0.000000 -0.020000  0.000000 -0.030000 -0.030000 -0.010000   \n",
       "4    0.000000  0.000000 -0.050000  0.000000  0.100000  0.050000  0.030000   \n",
       "..        ...       ...       ...       ...       ...       ...       ...   \n",
       "281  0.014592  0.023966  0.012057  0.051155  0.143342  0.143709  0.140952   \n",
       "282  0.031962  0.017365  0.024726 -0.019914  0.054285  0.053646  0.066728   \n",
       "283  0.023153  0.014651  0.019246  0.020118  0.031611  0.033545  0.050528   \n",
       "284  0.032906  0.009539  0.017140  0.014027  0.030139  0.043966  0.022789   \n",
       "285  0.019821  0.025391  0.001722  0.002728  0.017839  0.062225  0.014107   \n",
       "\n",
       "         ACCO    VNA.DE    7912.T  ...    DEQ.DE      KIDS      HALO  \\\n",
       "0    1.430000 -0.020000  0.010000  ...  0.000000  0.000000  0.000000   \n",
       "1    0.000000  0.000000 -0.010000  ... -0.120000  0.000000  0.000000   \n",
       "2   -0.650000  0.000000 -0.100000  ...  0.000000  0.000000  0.000000   \n",
       "3    0.060000  0.000000  0.100000  ...  0.010000 -0.100000  0.000000   \n",
       "4    2.970000  0.000000  0.100000  ...  0.000000  0.000000  0.000000   \n",
       "..        ...       ...       ...  ...       ...       ...       ...   \n",
       "281  0.099619  0.161245 -0.040952  ...  0.016260  0.025457  0.032536   \n",
       "282  0.075157  0.035702 -0.087491  ...  0.013040  0.017196  0.014220   \n",
       "283  0.064791  0.034306 -0.007815  ...  0.013407  0.007108  0.013897   \n",
       "284  0.063520  0.042845 -0.027683  ...  0.008144  0.027703  0.020091   \n",
       "285  0.035436  0.011512  0.082501  ...  0.001175  0.004487  0.014444   \n",
       "\n",
       "         MATW    9842.T      KVHI    MOON.L       NEO    6055.T       UNP  \n",
       "0    0.050000  0.000000 -0.170000  0.000000  0.000000  0.000000  0.060000  \n",
       "1    0.020000  0.000000 -0.010000  0.000000  0.000000  0.000000  0.040000  \n",
       "2    0.010000  0.000000  0.230000  0.000000 -0.050000 -0.010000  0.090000  \n",
       "3   -0.030000  0.000000  0.020000  0.000000  0.000000  0.010000 -0.020000  \n",
       "4    0.040000  0.000000 -0.160000  0.000000  0.050000  0.000000  0.020000  \n",
       "..        ...       ...       ...       ...       ...       ...       ...  \n",
       "281  0.016108  0.023193  0.100874  0.073610  0.063517  0.069168  0.079946  \n",
       "282  0.019524 -0.017155  0.036698  0.010102  0.050665  0.063623  0.056048  \n",
       "283  0.017179  0.029285  0.045024  0.040124  0.050930  0.037327  0.033125  \n",
       "284  0.010791  0.009895  0.009157  0.059261  0.031407  0.050803  0.029967  \n",
       "285  0.010711  0.010346  0.047346  0.026264  0.036408  0.007300  0.018088  \n",
       "\n",
       "[286 rows x 1653 columns]"
      ],
      "text/html": [
       "<div>\n",
       "<style scoped>\n",
       "    .dataframe tbody tr th:only-of-type {\n",
       "        vertical-align: middle;\n",
       "    }\n",
       "\n",
       "    .dataframe tbody tr th {\n",
       "        vertical-align: top;\n",
       "    }\n",
       "\n",
       "    .dataframe thead th {\n",
       "        text-align: right;\n",
       "    }\n",
       "</style>\n",
       "<table border=\"1\" class=\"dataframe\">\n",
       "  <thead>\n",
       "    <tr style=\"text-align: right;\">\n",
       "      <th></th>\n",
       "      <th>RS1.L</th>\n",
       "      <th>KE</th>\n",
       "      <th>TEG.DE</th>\n",
       "      <th>LEG.DE</th>\n",
       "      <th>SCS</th>\n",
       "      <th>HNI</th>\n",
       "      <th>AVT</th>\n",
       "      <th>ACCO</th>\n",
       "      <th>VNA.DE</th>\n",
       "      <th>7912.T</th>\n",
       "      <th>...</th>\n",
       "      <th>DEQ.DE</th>\n",
       "      <th>KIDS</th>\n",
       "      <th>HALO</th>\n",
       "      <th>MATW</th>\n",
       "      <th>9842.T</th>\n",
       "      <th>KVHI</th>\n",
       "      <th>MOON.L</th>\n",
       "      <th>NEO</th>\n",
       "      <th>6055.T</th>\n",
       "      <th>UNP</th>\n",
       "    </tr>\n",
       "  </thead>\n",
       "  <tbody>\n",
       "    <tr>\n",
       "      <th>0</th>\n",
       "      <td>0.000000</td>\n",
       "      <td>0.000000</td>\n",
       "      <td>0.050000</td>\n",
       "      <td>-0.020000</td>\n",
       "      <td>0.090000</td>\n",
       "      <td>0.060000</td>\n",
       "      <td>0.150000</td>\n",
       "      <td>1.430000</td>\n",
       "      <td>-0.020000</td>\n",
       "      <td>0.010000</td>\n",
       "      <td>...</td>\n",
       "      <td>0.000000</td>\n",
       "      <td>0.000000</td>\n",
       "      <td>0.000000</td>\n",
       "      <td>0.050000</td>\n",
       "      <td>0.000000</td>\n",
       "      <td>-0.170000</td>\n",
       "      <td>0.000000</td>\n",
       "      <td>0.000000</td>\n",
       "      <td>0.000000</td>\n",
       "      <td>0.060000</td>\n",
       "    </tr>\n",
       "    <tr>\n",
       "      <th>1</th>\n",
       "      <td>0.000000</td>\n",
       "      <td>0.000000</td>\n",
       "      <td>-0.150000</td>\n",
       "      <td>0.000000</td>\n",
       "      <td>0.040000</td>\n",
       "      <td>0.090000</td>\n",
       "      <td>0.070000</td>\n",
       "      <td>0.000000</td>\n",
       "      <td>0.000000</td>\n",
       "      <td>-0.010000</td>\n",
       "      <td>...</td>\n",
       "      <td>-0.120000</td>\n",
       "      <td>0.000000</td>\n",
       "      <td>0.000000</td>\n",
       "      <td>0.020000</td>\n",
       "      <td>0.000000</td>\n",
       "      <td>-0.010000</td>\n",
       "      <td>0.000000</td>\n",
       "      <td>0.000000</td>\n",
       "      <td>0.000000</td>\n",
       "      <td>0.040000</td>\n",
       "    </tr>\n",
       "    <tr>\n",
       "      <th>2</th>\n",
       "      <td>0.010000</td>\n",
       "      <td>0.000000</td>\n",
       "      <td>0.040000</td>\n",
       "      <td>0.000000</td>\n",
       "      <td>0.070000</td>\n",
       "      <td>0.010000</td>\n",
       "      <td>0.050000</td>\n",
       "      <td>-0.650000</td>\n",
       "      <td>0.000000</td>\n",
       "      <td>-0.100000</td>\n",
       "      <td>...</td>\n",
       "      <td>0.000000</td>\n",
       "      <td>0.000000</td>\n",
       "      <td>0.000000</td>\n",
       "      <td>0.010000</td>\n",
       "      <td>0.000000</td>\n",
       "      <td>0.230000</td>\n",
       "      <td>0.000000</td>\n",
       "      <td>-0.050000</td>\n",
       "      <td>-0.010000</td>\n",
       "      <td>0.090000</td>\n",
       "    </tr>\n",
       "    <tr>\n",
       "      <th>3</th>\n",
       "      <td>0.000000</td>\n",
       "      <td>0.000000</td>\n",
       "      <td>-0.020000</td>\n",
       "      <td>0.000000</td>\n",
       "      <td>-0.030000</td>\n",
       "      <td>-0.030000</td>\n",
       "      <td>-0.010000</td>\n",
       "      <td>0.060000</td>\n",
       "      <td>0.000000</td>\n",
       "      <td>0.100000</td>\n",
       "      <td>...</td>\n",
       "      <td>0.010000</td>\n",
       "      <td>-0.100000</td>\n",
       "      <td>0.000000</td>\n",
       "      <td>-0.030000</td>\n",
       "      <td>0.000000</td>\n",
       "      <td>0.020000</td>\n",
       "      <td>0.000000</td>\n",
       "      <td>0.000000</td>\n",
       "      <td>0.010000</td>\n",
       "      <td>-0.020000</td>\n",
       "    </tr>\n",
       "    <tr>\n",
       "      <th>4</th>\n",
       "      <td>0.000000</td>\n",
       "      <td>0.000000</td>\n",
       "      <td>-0.050000</td>\n",
       "      <td>0.000000</td>\n",
       "      <td>0.100000</td>\n",
       "      <td>0.050000</td>\n",
       "      <td>0.030000</td>\n",
       "      <td>2.970000</td>\n",
       "      <td>0.000000</td>\n",
       "      <td>0.100000</td>\n",
       "      <td>...</td>\n",
       "      <td>0.000000</td>\n",
       "      <td>0.000000</td>\n",
       "      <td>0.000000</td>\n",
       "      <td>0.040000</td>\n",
       "      <td>0.000000</td>\n",
       "      <td>-0.160000</td>\n",
       "      <td>0.000000</td>\n",
       "      <td>0.050000</td>\n",
       "      <td>0.000000</td>\n",
       "      <td>0.020000</td>\n",
       "    </tr>\n",
       "    <tr>\n",
       "      <th>...</th>\n",
       "      <td>...</td>\n",
       "      <td>...</td>\n",
       "      <td>...</td>\n",
       "      <td>...</td>\n",
       "      <td>...</td>\n",
       "      <td>...</td>\n",
       "      <td>...</td>\n",
       "      <td>...</td>\n",
       "      <td>...</td>\n",
       "      <td>...</td>\n",
       "      <td>...</td>\n",
       "      <td>...</td>\n",
       "      <td>...</td>\n",
       "      <td>...</td>\n",
       "      <td>...</td>\n",
       "      <td>...</td>\n",
       "      <td>...</td>\n",
       "      <td>...</td>\n",
       "      <td>...</td>\n",
       "      <td>...</td>\n",
       "      <td>...</td>\n",
       "    </tr>\n",
       "    <tr>\n",
       "      <th>281</th>\n",
       "      <td>0.014592</td>\n",
       "      <td>0.023966</td>\n",
       "      <td>0.012057</td>\n",
       "      <td>0.051155</td>\n",
       "      <td>0.143342</td>\n",
       "      <td>0.143709</td>\n",
       "      <td>0.140952</td>\n",
       "      <td>0.099619</td>\n",
       "      <td>0.161245</td>\n",
       "      <td>-0.040952</td>\n",
       "      <td>...</td>\n",
       "      <td>0.016260</td>\n",
       "      <td>0.025457</td>\n",
       "      <td>0.032536</td>\n",
       "      <td>0.016108</td>\n",
       "      <td>0.023193</td>\n",
       "      <td>0.100874</td>\n",
       "      <td>0.073610</td>\n",
       "      <td>0.063517</td>\n",
       "      <td>0.069168</td>\n",
       "      <td>0.079946</td>\n",
       "    </tr>\n",
       "    <tr>\n",
       "      <th>282</th>\n",
       "      <td>0.031962</td>\n",
       "      <td>0.017365</td>\n",
       "      <td>0.024726</td>\n",
       "      <td>-0.019914</td>\n",
       "      <td>0.054285</td>\n",
       "      <td>0.053646</td>\n",
       "      <td>0.066728</td>\n",
       "      <td>0.075157</td>\n",
       "      <td>0.035702</td>\n",
       "      <td>-0.087491</td>\n",
       "      <td>...</td>\n",
       "      <td>0.013040</td>\n",
       "      <td>0.017196</td>\n",
       "      <td>0.014220</td>\n",
       "      <td>0.019524</td>\n",
       "      <td>-0.017155</td>\n",
       "      <td>0.036698</td>\n",
       "      <td>0.010102</td>\n",
       "      <td>0.050665</td>\n",
       "      <td>0.063623</td>\n",
       "      <td>0.056048</td>\n",
       "    </tr>\n",
       "    <tr>\n",
       "      <th>283</th>\n",
       "      <td>0.023153</td>\n",
       "      <td>0.014651</td>\n",
       "      <td>0.019246</td>\n",
       "      <td>0.020118</td>\n",
       "      <td>0.031611</td>\n",
       "      <td>0.033545</td>\n",
       "      <td>0.050528</td>\n",
       "      <td>0.064791</td>\n",
       "      <td>0.034306</td>\n",
       "      <td>-0.007815</td>\n",
       "      <td>...</td>\n",
       "      <td>0.013407</td>\n",
       "      <td>0.007108</td>\n",
       "      <td>0.013897</td>\n",
       "      <td>0.017179</td>\n",
       "      <td>0.029285</td>\n",
       "      <td>0.045024</td>\n",
       "      <td>0.040124</td>\n",
       "      <td>0.050930</td>\n",
       "      <td>0.037327</td>\n",
       "      <td>0.033125</td>\n",
       "    </tr>\n",
       "    <tr>\n",
       "      <th>284</th>\n",
       "      <td>0.032906</td>\n",
       "      <td>0.009539</td>\n",
       "      <td>0.017140</td>\n",
       "      <td>0.014027</td>\n",
       "      <td>0.030139</td>\n",
       "      <td>0.043966</td>\n",
       "      <td>0.022789</td>\n",
       "      <td>0.063520</td>\n",
       "      <td>0.042845</td>\n",
       "      <td>-0.027683</td>\n",
       "      <td>...</td>\n",
       "      <td>0.008144</td>\n",
       "      <td>0.027703</td>\n",
       "      <td>0.020091</td>\n",
       "      <td>0.010791</td>\n",
       "      <td>0.009895</td>\n",
       "      <td>0.009157</td>\n",
       "      <td>0.059261</td>\n",
       "      <td>0.031407</td>\n",
       "      <td>0.050803</td>\n",
       "      <td>0.029967</td>\n",
       "    </tr>\n",
       "    <tr>\n",
       "      <th>285</th>\n",
       "      <td>0.019821</td>\n",
       "      <td>0.025391</td>\n",
       "      <td>0.001722</td>\n",
       "      <td>0.002728</td>\n",
       "      <td>0.017839</td>\n",
       "      <td>0.062225</td>\n",
       "      <td>0.014107</td>\n",
       "      <td>0.035436</td>\n",
       "      <td>0.011512</td>\n",
       "      <td>0.082501</td>\n",
       "      <td>...</td>\n",
       "      <td>0.001175</td>\n",
       "      <td>0.004487</td>\n",
       "      <td>0.014444</td>\n",
       "      <td>0.010711</td>\n",
       "      <td>0.010346</td>\n",
       "      <td>0.047346</td>\n",
       "      <td>0.026264</td>\n",
       "      <td>0.036408</td>\n",
       "      <td>0.007300</td>\n",
       "      <td>0.018088</td>\n",
       "    </tr>\n",
       "  </tbody>\n",
       "</table>\n",
       "<p>286 rows × 1653 columns</p>\n",
       "</div>"
      ]
     },
     "execution_count": 115,
     "metadata": {},
     "output_type": "execute_result"
    }
   ],
   "execution_count": 115
  },
  {
   "metadata": {
    "ExecuteTime": {
     "end_time": "2025-06-14T08:41:55.613298Z",
     "start_time": "2025-06-14T08:41:43.957641Z"
    }
   },
   "cell_type": "code",
   "source": [
    "importlib.reload(mpt_utils)\n",
    "\n",
    "weights_12m, mu_12m, S_12m, weights_all_12m = mpt_utils.portfolio_and_plot(df_to_evaluate_12m, df)"
   ],
   "id": "4b5a6d087126e1f7",
   "outputs": [
    {
     "name": "stdout",
     "output_type": "stream",
     "text": [
      "Expected annual return: 36.8%\n",
      "Annual volatility: 29.5%\n",
      "Sharpe Ratio: 1.18\n",
      "-- Allocation --\n",
      "{'7732.T': 1, 'EXTR': 1, '9101.T': 1, 'BOOT': 1, '9107.T': 3, '2767.T': 2, 'SMCI': 1, 'BBW': 1, 'NVDA': 1, '9104.T': 1, 'MOD': 1, 'FORM': 1, 'PKG': 1, 'DDS': 1, 'PMTS': 1, '7867.T': 1, '8022.T': 1, 'DXLG': 2, '5332.T': 1, '3003.T': 1, 'ANF': 1, 'CME': 1, 'AGYS': 1, '3086.T': 1, '7936.T': 1, '7433.T': 1, 'MCK': 1, 'LADR': 1, '6417.T': 1, 'HRB': 1, '9024.T': 1, '6762.T': 1, '4980.T': 1, '7762.T': 2, '7868.T': 8, '2760.T': 1, '8308.T': 2, '7552.T': 1, '2715.T': 1, '6814.T': 1, 'CPRX': 1, '3608.T': 2, '7994.T': 1, '7906.T': 1, '7599.T': 3, '5991.T': 1, 'BGC': 1, '3107.T': 1, '7944.T': 5, 'POWW': 2, '2395.T': 1, '3289.T': 1, '8601.T': 2, '9697.T': 1, 'STGW': 1, '2124.T': 1, '3402.T': 1, '4293.T': 3, '7272.T': 1, 'FINV': 2, '7955.T': 1, 'NL': 1, '6644.T': 1, '7593.T': 1, '2337.T': 1, 'LINC': 1}\n",
      "-- Weights Percentage --\n",
      "{'8022.T': 0.0211, 'NVDA': 0.0245, '7867.T': 0.0211, '9104.T': 0.024, 'BOOT': 0.0307, '3003.T': 0.0203, 'DXLG': 0.0207, 'FORM': 0.0232, '5332.T': 0.0203, '7732.T': 0.0593, 'EXTR': 0.0402, '2767.T': 0.0282, '9101.T': 0.0344, 'BBW': 0.0257, 'MOD': 0.0236, 'DDS': 0.0228, 'PKG': 0.0228, '9107.T': 0.0307, 'PMTS': 0.0224, 'SMCI': 0.0265, 'Other(46)': 0.4573}\n"
     ]
    },
    {
     "name": "stderr",
     "output_type": "stream",
     "text": [
      "/Users/herbishtini/anaconda3/envs/portfolio_optimisation/lib/python3.11/site-packages/pypfopt/discrete_allocation.py:27: FutureWarning:\n",
      "\n",
      "Downcasting object dtype arrays on .fillna, .ffill, .bfill is deprecated and will change in a future version. Call result.infer_objects(copy=False) instead. To opt-in to the future behavior, set `pd.set_option('future.no_silent_downcasting', True)`\n",
      "\n"
     ]
    },
    {
     "data": {
      "application/vnd.plotly.v1+json": {
       "data": [
        {
         "hole": 0.3,
         "insidetextorientation": "radial",
         "labels": [
          "8022.T",
          "NVDA",
          "7867.T",
          "9104.T",
          "BOOT",
          "3003.T",
          "DXLG",
          "FORM",
          "5332.T",
          "7732.T",
          "EXTR",
          "2767.T",
          "9101.T",
          "BBW",
          "MOD",
          "DDS",
          "PKG",
          "9107.T",
          "PMTS",
          "SMCI",
          "Other(46)"
         ],
         "textinfo": "label+percent",
         "textposition": "inside",
         "values": [
          0.0051,
          0.0059,
          0.0051,
          0.0058,
          0.0074,
          0.0049,
          0.005,
          0.0056,
          0.0049,
          0.0143,
          0.0097,
          0.0068,
          0.0083,
          0.0062,
          0.0057,
          0.0055,
          0.0055,
          0.0074,
          0.0054,
          0.0064,
          0.1103
         ],
         "type": "pie"
        }
       ],
       "layout": {
        "template": {
         "data": {
          "histogram2dcontour": [
           {
            "type": "histogram2dcontour",
            "colorbar": {
             "outlinewidth": 0,
             "ticks": ""
            },
            "colorscale": [
             [
              0.0,
              "#0d0887"
             ],
             [
              0.1111111111111111,
              "#46039f"
             ],
             [
              0.2222222222222222,
              "#7201a8"
             ],
             [
              0.3333333333333333,
              "#9c179e"
             ],
             [
              0.4444444444444444,
              "#bd3786"
             ],
             [
              0.5555555555555556,
              "#d8576b"
             ],
             [
              0.6666666666666666,
              "#ed7953"
             ],
             [
              0.7777777777777778,
              "#fb9f3a"
             ],
             [
              0.8888888888888888,
              "#fdca26"
             ],
             [
              1.0,
              "#f0f921"
             ]
            ]
           }
          ],
          "choropleth": [
           {
            "type": "choropleth",
            "colorbar": {
             "outlinewidth": 0,
             "ticks": ""
            }
           }
          ],
          "histogram2d": [
           {
            "type": "histogram2d",
            "colorbar": {
             "outlinewidth": 0,
             "ticks": ""
            },
            "colorscale": [
             [
              0.0,
              "#0d0887"
             ],
             [
              0.1111111111111111,
              "#46039f"
             ],
             [
              0.2222222222222222,
              "#7201a8"
             ],
             [
              0.3333333333333333,
              "#9c179e"
             ],
             [
              0.4444444444444444,
              "#bd3786"
             ],
             [
              0.5555555555555556,
              "#d8576b"
             ],
             [
              0.6666666666666666,
              "#ed7953"
             ],
             [
              0.7777777777777778,
              "#fb9f3a"
             ],
             [
              0.8888888888888888,
              "#fdca26"
             ],
             [
              1.0,
              "#f0f921"
             ]
            ]
           }
          ],
          "heatmap": [
           {
            "type": "heatmap",
            "colorbar": {
             "outlinewidth": 0,
             "ticks": ""
            },
            "colorscale": [
             [
              0.0,
              "#0d0887"
             ],
             [
              0.1111111111111111,
              "#46039f"
             ],
             [
              0.2222222222222222,
              "#7201a8"
             ],
             [
              0.3333333333333333,
              "#9c179e"
             ],
             [
              0.4444444444444444,
              "#bd3786"
             ],
             [
              0.5555555555555556,
              "#d8576b"
             ],
             [
              0.6666666666666666,
              "#ed7953"
             ],
             [
              0.7777777777777778,
              "#fb9f3a"
             ],
             [
              0.8888888888888888,
              "#fdca26"
             ],
             [
              1.0,
              "#f0f921"
             ]
            ]
           }
          ],
          "heatmapgl": [
           {
            "type": "heatmapgl",
            "colorbar": {
             "outlinewidth": 0,
             "ticks": ""
            },
            "colorscale": [
             [
              0.0,
              "#0d0887"
             ],
             [
              0.1111111111111111,
              "#46039f"
             ],
             [
              0.2222222222222222,
              "#7201a8"
             ],
             [
              0.3333333333333333,
              "#9c179e"
             ],
             [
              0.4444444444444444,
              "#bd3786"
             ],
             [
              0.5555555555555556,
              "#d8576b"
             ],
             [
              0.6666666666666666,
              "#ed7953"
             ],
             [
              0.7777777777777778,
              "#fb9f3a"
             ],
             [
              0.8888888888888888,
              "#fdca26"
             ],
             [
              1.0,
              "#f0f921"
             ]
            ]
           }
          ],
          "contourcarpet": [
           {
            "type": "contourcarpet",
            "colorbar": {
             "outlinewidth": 0,
             "ticks": ""
            }
           }
          ],
          "contour": [
           {
            "type": "contour",
            "colorbar": {
             "outlinewidth": 0,
             "ticks": ""
            },
            "colorscale": [
             [
              0.0,
              "#0d0887"
             ],
             [
              0.1111111111111111,
              "#46039f"
             ],
             [
              0.2222222222222222,
              "#7201a8"
             ],
             [
              0.3333333333333333,
              "#9c179e"
             ],
             [
              0.4444444444444444,
              "#bd3786"
             ],
             [
              0.5555555555555556,
              "#d8576b"
             ],
             [
              0.6666666666666666,
              "#ed7953"
             ],
             [
              0.7777777777777778,
              "#fb9f3a"
             ],
             [
              0.8888888888888888,
              "#fdca26"
             ],
             [
              1.0,
              "#f0f921"
             ]
            ]
           }
          ],
          "surface": [
           {
            "type": "surface",
            "colorbar": {
             "outlinewidth": 0,
             "ticks": ""
            },
            "colorscale": [
             [
              0.0,
              "#0d0887"
             ],
             [
              0.1111111111111111,
              "#46039f"
             ],
             [
              0.2222222222222222,
              "#7201a8"
             ],
             [
              0.3333333333333333,
              "#9c179e"
             ],
             [
              0.4444444444444444,
              "#bd3786"
             ],
             [
              0.5555555555555556,
              "#d8576b"
             ],
             [
              0.6666666666666666,
              "#ed7953"
             ],
             [
              0.7777777777777778,
              "#fb9f3a"
             ],
             [
              0.8888888888888888,
              "#fdca26"
             ],
             [
              1.0,
              "#f0f921"
             ]
            ]
           }
          ],
          "mesh3d": [
           {
            "type": "mesh3d",
            "colorbar": {
             "outlinewidth": 0,
             "ticks": ""
            }
           }
          ],
          "scatter": [
           {
            "fillpattern": {
             "fillmode": "overlay",
             "size": 10,
             "solidity": 0.2
            },
            "type": "scatter"
           }
          ],
          "parcoords": [
           {
            "type": "parcoords",
            "line": {
             "colorbar": {
              "outlinewidth": 0,
              "ticks": ""
             }
            }
           }
          ],
          "scatterpolargl": [
           {
            "type": "scatterpolargl",
            "marker": {
             "colorbar": {
              "outlinewidth": 0,
              "ticks": ""
             }
            }
           }
          ],
          "bar": [
           {
            "error_x": {
             "color": "#2a3f5f"
            },
            "error_y": {
             "color": "#2a3f5f"
            },
            "marker": {
             "line": {
              "color": "#E5ECF6",
              "width": 0.5
             },
             "pattern": {
              "fillmode": "overlay",
              "size": 10,
              "solidity": 0.2
             }
            },
            "type": "bar"
           }
          ],
          "scattergeo": [
           {
            "type": "scattergeo",
            "marker": {
             "colorbar": {
              "outlinewidth": 0,
              "ticks": ""
             }
            }
           }
          ],
          "scatterpolar": [
           {
            "type": "scatterpolar",
            "marker": {
             "colorbar": {
              "outlinewidth": 0,
              "ticks": ""
             }
            }
           }
          ],
          "histogram": [
           {
            "marker": {
             "pattern": {
              "fillmode": "overlay",
              "size": 10,
              "solidity": 0.2
             }
            },
            "type": "histogram"
           }
          ],
          "scattergl": [
           {
            "type": "scattergl",
            "marker": {
             "colorbar": {
              "outlinewidth": 0,
              "ticks": ""
             }
            }
           }
          ],
          "scatter3d": [
           {
            "type": "scatter3d",
            "line": {
             "colorbar": {
              "outlinewidth": 0,
              "ticks": ""
             }
            },
            "marker": {
             "colorbar": {
              "outlinewidth": 0,
              "ticks": ""
             }
            }
           }
          ],
          "scattermapbox": [
           {
            "type": "scattermapbox",
            "marker": {
             "colorbar": {
              "outlinewidth": 0,
              "ticks": ""
             }
            }
           }
          ],
          "scatterternary": [
           {
            "type": "scatterternary",
            "marker": {
             "colorbar": {
              "outlinewidth": 0,
              "ticks": ""
             }
            }
           }
          ],
          "scattercarpet": [
           {
            "type": "scattercarpet",
            "marker": {
             "colorbar": {
              "outlinewidth": 0,
              "ticks": ""
             }
            }
           }
          ],
          "carpet": [
           {
            "aaxis": {
             "endlinecolor": "#2a3f5f",
             "gridcolor": "white",
             "linecolor": "white",
             "minorgridcolor": "white",
             "startlinecolor": "#2a3f5f"
            },
            "baxis": {
             "endlinecolor": "#2a3f5f",
             "gridcolor": "white",
             "linecolor": "white",
             "minorgridcolor": "white",
             "startlinecolor": "#2a3f5f"
            },
            "type": "carpet"
           }
          ],
          "table": [
           {
            "cells": {
             "fill": {
              "color": "#EBF0F8"
             },
             "line": {
              "color": "white"
             }
            },
            "header": {
             "fill": {
              "color": "#C8D4E3"
             },
             "line": {
              "color": "white"
             }
            },
            "type": "table"
           }
          ],
          "barpolar": [
           {
            "marker": {
             "line": {
              "color": "#E5ECF6",
              "width": 0.5
             },
             "pattern": {
              "fillmode": "overlay",
              "size": 10,
              "solidity": 0.2
             }
            },
            "type": "barpolar"
           }
          ],
          "pie": [
           {
            "automargin": true,
            "type": "pie"
           }
          ]
         },
         "layout": {
          "autotypenumbers": "strict",
          "colorway": [
           "#636efa",
           "#EF553B",
           "#00cc96",
           "#ab63fa",
           "#FFA15A",
           "#19d3f3",
           "#FF6692",
           "#B6E880",
           "#FF97FF",
           "#FECB52"
          ],
          "font": {
           "color": "#2a3f5f"
          },
          "hovermode": "closest",
          "hoverlabel": {
           "align": "left"
          },
          "paper_bgcolor": "white",
          "plot_bgcolor": "#E5ECF6",
          "polar": {
           "bgcolor": "#E5ECF6",
           "angularaxis": {
            "gridcolor": "white",
            "linecolor": "white",
            "ticks": ""
           },
           "radialaxis": {
            "gridcolor": "white",
            "linecolor": "white",
            "ticks": ""
           }
          },
          "ternary": {
           "bgcolor": "#E5ECF6",
           "aaxis": {
            "gridcolor": "white",
            "linecolor": "white",
            "ticks": ""
           },
           "baxis": {
            "gridcolor": "white",
            "linecolor": "white",
            "ticks": ""
           },
           "caxis": {
            "gridcolor": "white",
            "linecolor": "white",
            "ticks": ""
           }
          },
          "coloraxis": {
           "colorbar": {
            "outlinewidth": 0,
            "ticks": ""
           }
          },
          "colorscale": {
           "sequential": [
            [
             0.0,
             "#0d0887"
            ],
            [
             0.1111111111111111,
             "#46039f"
            ],
            [
             0.2222222222222222,
             "#7201a8"
            ],
            [
             0.3333333333333333,
             "#9c179e"
            ],
            [
             0.4444444444444444,
             "#bd3786"
            ],
            [
             0.5555555555555556,
             "#d8576b"
            ],
            [
             0.6666666666666666,
             "#ed7953"
            ],
            [
             0.7777777777777778,
             "#fb9f3a"
            ],
            [
             0.8888888888888888,
             "#fdca26"
            ],
            [
             1.0,
             "#f0f921"
            ]
           ],
           "sequentialminus": [
            [
             0.0,
             "#0d0887"
            ],
            [
             0.1111111111111111,
             "#46039f"
            ],
            [
             0.2222222222222222,
             "#7201a8"
            ],
            [
             0.3333333333333333,
             "#9c179e"
            ],
            [
             0.4444444444444444,
             "#bd3786"
            ],
            [
             0.5555555555555556,
             "#d8576b"
            ],
            [
             0.6666666666666666,
             "#ed7953"
            ],
            [
             0.7777777777777778,
             "#fb9f3a"
            ],
            [
             0.8888888888888888,
             "#fdca26"
            ],
            [
             1.0,
             "#f0f921"
            ]
           ],
           "diverging": [
            [
             0,
             "#8e0152"
            ],
            [
             0.1,
             "#c51b7d"
            ],
            [
             0.2,
             "#de77ae"
            ],
            [
             0.3,
             "#f1b6da"
            ],
            [
             0.4,
             "#fde0ef"
            ],
            [
             0.5,
             "#f7f7f7"
            ],
            [
             0.6,
             "#e6f5d0"
            ],
            [
             0.7,
             "#b8e186"
            ],
            [
             0.8,
             "#7fbc41"
            ],
            [
             0.9,
             "#4d9221"
            ],
            [
             1,
             "#276419"
            ]
           ]
          },
          "xaxis": {
           "gridcolor": "white",
           "linecolor": "white",
           "ticks": "",
           "title": {
            "standoff": 15
           },
           "zerolinecolor": "white",
           "automargin": true,
           "zerolinewidth": 2
          },
          "yaxis": {
           "gridcolor": "white",
           "linecolor": "white",
           "ticks": "",
           "title": {
            "standoff": 15
           },
           "zerolinecolor": "white",
           "automargin": true,
           "zerolinewidth": 2
          },
          "scene": {
           "xaxis": {
            "backgroundcolor": "#E5ECF6",
            "gridcolor": "white",
            "linecolor": "white",
            "showbackground": true,
            "ticks": "",
            "zerolinecolor": "white",
            "gridwidth": 2
           },
           "yaxis": {
            "backgroundcolor": "#E5ECF6",
            "gridcolor": "white",
            "linecolor": "white",
            "showbackground": true,
            "ticks": "",
            "zerolinecolor": "white",
            "gridwidth": 2
           },
           "zaxis": {
            "backgroundcolor": "#E5ECF6",
            "gridcolor": "white",
            "linecolor": "white",
            "showbackground": true,
            "ticks": "",
            "zerolinecolor": "white",
            "gridwidth": 2
           }
          },
          "shapedefaults": {
           "line": {
            "color": "#2a3f5f"
           }
          },
          "annotationdefaults": {
           "arrowcolor": "#2a3f5f",
           "arrowhead": 0,
           "arrowwidth": 1
          },
          "geo": {
           "bgcolor": "white",
           "landcolor": "#E5ECF6",
           "subunitcolor": "white",
           "showland": true,
           "showlakes": true,
           "lakecolor": "white"
          },
          "title": {
           "x": 0.05
          },
          "mapbox": {
           "style": "light"
          }
         }
        },
        "margin": {
         "l": 20,
         "r": 20,
         "t": 20,
         "b": 20
        },
        "font": {
         "color": "black"
        },
        "height": 600,
        "width": 600,
        "paper_bgcolor": "white",
        "plot_bgcolor": "white",
        "showlegend": false
       },
       "config": {
        "plotlyServerURL": "https://plot.ly"
       }
      },
      "text/html": [
       "<div>                            <div id=\"a815667a-ad6c-48e8-99a6-6b8a437e1f7a\" class=\"plotly-graph-div\" style=\"height:600px; width:600px;\"></div>            <script type=\"text/javascript\">                require([\"plotly\"], function(Plotly) {                    window.PLOTLYENV=window.PLOTLYENV || {};                                    if (document.getElementById(\"a815667a-ad6c-48e8-99a6-6b8a437e1f7a\")) {                    Plotly.newPlot(                        \"a815667a-ad6c-48e8-99a6-6b8a437e1f7a\",                        [{\"hole\":0.3,\"insidetextorientation\":\"radial\",\"labels\":[\"8022.T\",\"NVDA\",\"7867.T\",\"9104.T\",\"BOOT\",\"3003.T\",\"DXLG\",\"FORM\",\"5332.T\",\"7732.T\",\"EXTR\",\"2767.T\",\"9101.T\",\"BBW\",\"MOD\",\"DDS\",\"PKG\",\"9107.T\",\"PMTS\",\"SMCI\",\"Other(46)\"],\"textinfo\":\"label+percent\",\"textposition\":\"inside\",\"values\":[0.0051,0.0059,0.0051,0.0058,0.0074,0.0049,0.005,0.0056,0.0049,0.0143,0.0097,0.0068,0.0083,0.0062,0.0057,0.0055,0.0055,0.0074,0.0054,0.0064,0.1103],\"type\":\"pie\"}],                        {\"template\":{\"data\":{\"histogram2dcontour\":[{\"type\":\"histogram2dcontour\",\"colorbar\":{\"outlinewidth\":0,\"ticks\":\"\"},\"colorscale\":[[0.0,\"#0d0887\"],[0.1111111111111111,\"#46039f\"],[0.2222222222222222,\"#7201a8\"],[0.3333333333333333,\"#9c179e\"],[0.4444444444444444,\"#bd3786\"],[0.5555555555555556,\"#d8576b\"],[0.6666666666666666,\"#ed7953\"],[0.7777777777777778,\"#fb9f3a\"],[0.8888888888888888,\"#fdca26\"],[1.0,\"#f0f921\"]]}],\"choropleth\":[{\"type\":\"choropleth\",\"colorbar\":{\"outlinewidth\":0,\"ticks\":\"\"}}],\"histogram2d\":[{\"type\":\"histogram2d\",\"colorbar\":{\"outlinewidth\":0,\"ticks\":\"\"},\"colorscale\":[[0.0,\"#0d0887\"],[0.1111111111111111,\"#46039f\"],[0.2222222222222222,\"#7201a8\"],[0.3333333333333333,\"#9c179e\"],[0.4444444444444444,\"#bd3786\"],[0.5555555555555556,\"#d8576b\"],[0.6666666666666666,\"#ed7953\"],[0.7777777777777778,\"#fb9f3a\"],[0.8888888888888888,\"#fdca26\"],[1.0,\"#f0f921\"]]}],\"heatmap\":[{\"type\":\"heatmap\",\"colorbar\":{\"outlinewidth\":0,\"ticks\":\"\"},\"colorscale\":[[0.0,\"#0d0887\"],[0.1111111111111111,\"#46039f\"],[0.2222222222222222,\"#7201a8\"],[0.3333333333333333,\"#9c179e\"],[0.4444444444444444,\"#bd3786\"],[0.5555555555555556,\"#d8576b\"],[0.6666666666666666,\"#ed7953\"],[0.7777777777777778,\"#fb9f3a\"],[0.8888888888888888,\"#fdca26\"],[1.0,\"#f0f921\"]]}],\"heatmapgl\":[{\"type\":\"heatmapgl\",\"colorbar\":{\"outlinewidth\":0,\"ticks\":\"\"},\"colorscale\":[[0.0,\"#0d0887\"],[0.1111111111111111,\"#46039f\"],[0.2222222222222222,\"#7201a8\"],[0.3333333333333333,\"#9c179e\"],[0.4444444444444444,\"#bd3786\"],[0.5555555555555556,\"#d8576b\"],[0.6666666666666666,\"#ed7953\"],[0.7777777777777778,\"#fb9f3a\"],[0.8888888888888888,\"#fdca26\"],[1.0,\"#f0f921\"]]}],\"contourcarpet\":[{\"type\":\"contourcarpet\",\"colorbar\":{\"outlinewidth\":0,\"ticks\":\"\"}}],\"contour\":[{\"type\":\"contour\",\"colorbar\":{\"outlinewidth\":0,\"ticks\":\"\"},\"colorscale\":[[0.0,\"#0d0887\"],[0.1111111111111111,\"#46039f\"],[0.2222222222222222,\"#7201a8\"],[0.3333333333333333,\"#9c179e\"],[0.4444444444444444,\"#bd3786\"],[0.5555555555555556,\"#d8576b\"],[0.6666666666666666,\"#ed7953\"],[0.7777777777777778,\"#fb9f3a\"],[0.8888888888888888,\"#fdca26\"],[1.0,\"#f0f921\"]]}],\"surface\":[{\"type\":\"surface\",\"colorbar\":{\"outlinewidth\":0,\"ticks\":\"\"},\"colorscale\":[[0.0,\"#0d0887\"],[0.1111111111111111,\"#46039f\"],[0.2222222222222222,\"#7201a8\"],[0.3333333333333333,\"#9c179e\"],[0.4444444444444444,\"#bd3786\"],[0.5555555555555556,\"#d8576b\"],[0.6666666666666666,\"#ed7953\"],[0.7777777777777778,\"#fb9f3a\"],[0.8888888888888888,\"#fdca26\"],[1.0,\"#f0f921\"]]}],\"mesh3d\":[{\"type\":\"mesh3d\",\"colorbar\":{\"outlinewidth\":0,\"ticks\":\"\"}}],\"scatter\":[{\"fillpattern\":{\"fillmode\":\"overlay\",\"size\":10,\"solidity\":0.2},\"type\":\"scatter\"}],\"parcoords\":[{\"type\":\"parcoords\",\"line\":{\"colorbar\":{\"outlinewidth\":0,\"ticks\":\"\"}}}],\"scatterpolargl\":[{\"type\":\"scatterpolargl\",\"marker\":{\"colorbar\":{\"outlinewidth\":0,\"ticks\":\"\"}}}],\"bar\":[{\"error_x\":{\"color\":\"#2a3f5f\"},\"error_y\":{\"color\":\"#2a3f5f\"},\"marker\":{\"line\":{\"color\":\"#E5ECF6\",\"width\":0.5},\"pattern\":{\"fillmode\":\"overlay\",\"size\":10,\"solidity\":0.2}},\"type\":\"bar\"}],\"scattergeo\":[{\"type\":\"scattergeo\",\"marker\":{\"colorbar\":{\"outlinewidth\":0,\"ticks\":\"\"}}}],\"scatterpolar\":[{\"type\":\"scatterpolar\",\"marker\":{\"colorbar\":{\"outlinewidth\":0,\"ticks\":\"\"}}}],\"histogram\":[{\"marker\":{\"pattern\":{\"fillmode\":\"overlay\",\"size\":10,\"solidity\":0.2}},\"type\":\"histogram\"}],\"scattergl\":[{\"type\":\"scattergl\",\"marker\":{\"colorbar\":{\"outlinewidth\":0,\"ticks\":\"\"}}}],\"scatter3d\":[{\"type\":\"scatter3d\",\"line\":{\"colorbar\":{\"outlinewidth\":0,\"ticks\":\"\"}},\"marker\":{\"colorbar\":{\"outlinewidth\":0,\"ticks\":\"\"}}}],\"scattermapbox\":[{\"type\":\"scattermapbox\",\"marker\":{\"colorbar\":{\"outlinewidth\":0,\"ticks\":\"\"}}}],\"scatterternary\":[{\"type\":\"scatterternary\",\"marker\":{\"colorbar\":{\"outlinewidth\":0,\"ticks\":\"\"}}}],\"scattercarpet\":[{\"type\":\"scattercarpet\",\"marker\":{\"colorbar\":{\"outlinewidth\":0,\"ticks\":\"\"}}}],\"carpet\":[{\"aaxis\":{\"endlinecolor\":\"#2a3f5f\",\"gridcolor\":\"white\",\"linecolor\":\"white\",\"minorgridcolor\":\"white\",\"startlinecolor\":\"#2a3f5f\"},\"baxis\":{\"endlinecolor\":\"#2a3f5f\",\"gridcolor\":\"white\",\"linecolor\":\"white\",\"minorgridcolor\":\"white\",\"startlinecolor\":\"#2a3f5f\"},\"type\":\"carpet\"}],\"table\":[{\"cells\":{\"fill\":{\"color\":\"#EBF0F8\"},\"line\":{\"color\":\"white\"}},\"header\":{\"fill\":{\"color\":\"#C8D4E3\"},\"line\":{\"color\":\"white\"}},\"type\":\"table\"}],\"barpolar\":[{\"marker\":{\"line\":{\"color\":\"#E5ECF6\",\"width\":0.5},\"pattern\":{\"fillmode\":\"overlay\",\"size\":10,\"solidity\":0.2}},\"type\":\"barpolar\"}],\"pie\":[{\"automargin\":true,\"type\":\"pie\"}]},\"layout\":{\"autotypenumbers\":\"strict\",\"colorway\":[\"#636efa\",\"#EF553B\",\"#00cc96\",\"#ab63fa\",\"#FFA15A\",\"#19d3f3\",\"#FF6692\",\"#B6E880\",\"#FF97FF\",\"#FECB52\"],\"font\":{\"color\":\"#2a3f5f\"},\"hovermode\":\"closest\",\"hoverlabel\":{\"align\":\"left\"},\"paper_bgcolor\":\"white\",\"plot_bgcolor\":\"#E5ECF6\",\"polar\":{\"bgcolor\":\"#E5ECF6\",\"angularaxis\":{\"gridcolor\":\"white\",\"linecolor\":\"white\",\"ticks\":\"\"},\"radialaxis\":{\"gridcolor\":\"white\",\"linecolor\":\"white\",\"ticks\":\"\"}},\"ternary\":{\"bgcolor\":\"#E5ECF6\",\"aaxis\":{\"gridcolor\":\"white\",\"linecolor\":\"white\",\"ticks\":\"\"},\"baxis\":{\"gridcolor\":\"white\",\"linecolor\":\"white\",\"ticks\":\"\"},\"caxis\":{\"gridcolor\":\"white\",\"linecolor\":\"white\",\"ticks\":\"\"}},\"coloraxis\":{\"colorbar\":{\"outlinewidth\":0,\"ticks\":\"\"}},\"colorscale\":{\"sequential\":[[0.0,\"#0d0887\"],[0.1111111111111111,\"#46039f\"],[0.2222222222222222,\"#7201a8\"],[0.3333333333333333,\"#9c179e\"],[0.4444444444444444,\"#bd3786\"],[0.5555555555555556,\"#d8576b\"],[0.6666666666666666,\"#ed7953\"],[0.7777777777777778,\"#fb9f3a\"],[0.8888888888888888,\"#fdca26\"],[1.0,\"#f0f921\"]],\"sequentialminus\":[[0.0,\"#0d0887\"],[0.1111111111111111,\"#46039f\"],[0.2222222222222222,\"#7201a8\"],[0.3333333333333333,\"#9c179e\"],[0.4444444444444444,\"#bd3786\"],[0.5555555555555556,\"#d8576b\"],[0.6666666666666666,\"#ed7953\"],[0.7777777777777778,\"#fb9f3a\"],[0.8888888888888888,\"#fdca26\"],[1.0,\"#f0f921\"]],\"diverging\":[[0,\"#8e0152\"],[0.1,\"#c51b7d\"],[0.2,\"#de77ae\"],[0.3,\"#f1b6da\"],[0.4,\"#fde0ef\"],[0.5,\"#f7f7f7\"],[0.6,\"#e6f5d0\"],[0.7,\"#b8e186\"],[0.8,\"#7fbc41\"],[0.9,\"#4d9221\"],[1,\"#276419\"]]},\"xaxis\":{\"gridcolor\":\"white\",\"linecolor\":\"white\",\"ticks\":\"\",\"title\":{\"standoff\":15},\"zerolinecolor\":\"white\",\"automargin\":true,\"zerolinewidth\":2},\"yaxis\":{\"gridcolor\":\"white\",\"linecolor\":\"white\",\"ticks\":\"\",\"title\":{\"standoff\":15},\"zerolinecolor\":\"white\",\"automargin\":true,\"zerolinewidth\":2},\"scene\":{\"xaxis\":{\"backgroundcolor\":\"#E5ECF6\",\"gridcolor\":\"white\",\"linecolor\":\"white\",\"showbackground\":true,\"ticks\":\"\",\"zerolinecolor\":\"white\",\"gridwidth\":2},\"yaxis\":{\"backgroundcolor\":\"#E5ECF6\",\"gridcolor\":\"white\",\"linecolor\":\"white\",\"showbackground\":true,\"ticks\":\"\",\"zerolinecolor\":\"white\",\"gridwidth\":2},\"zaxis\":{\"backgroundcolor\":\"#E5ECF6\",\"gridcolor\":\"white\",\"linecolor\":\"white\",\"showbackground\":true,\"ticks\":\"\",\"zerolinecolor\":\"white\",\"gridwidth\":2}},\"shapedefaults\":{\"line\":{\"color\":\"#2a3f5f\"}},\"annotationdefaults\":{\"arrowcolor\":\"#2a3f5f\",\"arrowhead\":0,\"arrowwidth\":1},\"geo\":{\"bgcolor\":\"white\",\"landcolor\":\"#E5ECF6\",\"subunitcolor\":\"white\",\"showland\":true,\"showlakes\":true,\"lakecolor\":\"white\"},\"title\":{\"x\":0.05},\"mapbox\":{\"style\":\"light\"}}},\"margin\":{\"l\":20,\"r\":20,\"t\":20,\"b\":20},\"font\":{\"color\":\"black\"},\"height\":600,\"width\":600,\"paper_bgcolor\":\"white\",\"plot_bgcolor\":\"white\",\"showlegend\":false},                        {\"responsive\": true}                    ).then(function(){\n",
       "                            \n",
       "var gd = document.getElementById('a815667a-ad6c-48e8-99a6-6b8a437e1f7a');\n",
       "var x = new MutationObserver(function (mutations, observer) {{\n",
       "        var display = window.getComputedStyle(gd).display;\n",
       "        if (!display || display === 'none') {{\n",
       "            console.log([gd, 'removed!']);\n",
       "            Plotly.purge(gd);\n",
       "            observer.disconnect();\n",
       "        }}\n",
       "}});\n",
       "\n",
       "// Listen for the removal of the full notebook cells\n",
       "var notebookContainer = gd.closest('#notebook-container');\n",
       "if (notebookContainer) {{\n",
       "    x.observe(notebookContainer, {childList: true});\n",
       "}}\n",
       "\n",
       "// Listen for the clearing of the current output cell\n",
       "var outputEl = gd.closest('.output');\n",
       "if (outputEl) {{\n",
       "    x.observe(outputEl, {childList: true});\n",
       "}}\n",
       "\n",
       "                        })                };                });            </script>        </div>"
      ]
     },
     "metadata": {},
     "output_type": "display_data"
    }
   ],
   "execution_count": 116
  },
  {
   "metadata": {},
   "cell_type": "markdown",
   "source": "#### Overview table",
   "id": "39ac3616c06a3b1f"
  },
  {
   "metadata": {
    "ExecuteTime": {
     "end_time": "2025-06-14T08:41:56.154315Z",
     "start_time": "2025-06-14T08:41:56.137684Z"
    }
   },
   "cell_type": "code",
   "source": [
    "importlib.reload(mpt_utils)\n",
    "# Create overview\n",
    "mpt_utils.generate_overview_table(weights_all_12m, mu_12m, S_12m, df_pct)"
   ],
   "id": "e98ffb3af34b1d15",
   "outputs": [
    {
     "data": {
      "text/plain": [
       "        Share Count  Average Covariance Average Returns Return Last 12 Months  \\\n",
       "7732.T            1            0.079077          28.79%                -5.34%   \n",
       "EXTR              1            0.036769          16.71%                16.20%   \n",
       "9101.T            1            0.035846          32.53%                11.01%   \n",
       "BOOT              1            0.033385          23.11%                41.98%   \n",
       "9107.T            3            0.028615          25.88%                 7.72%   \n",
       "...             ...                 ...             ...                   ...   \n",
       "NL                1            0.011231          82.57%               -22.53%   \n",
       "6644.T            1            0.001385          11.10%                 7.95%   \n",
       "7593.T            1            0.007846          25.68%                 9.84%   \n",
       "2337.T            1            0.013077          28.56%                20.59%   \n",
       "LINC              1            0.021692          35.17%               -14.12%   \n",
       "\n",
       "       Return (Actual) Next 12 Months  \n",
       "7732.T                        -31.37%  \n",
       "EXTR                          -45.43%  \n",
       "9101.T                          5.06%  \n",
       "BOOT                          -19.79%  \n",
       "9107.T                         -5.79%  \n",
       "...                               ...  \n",
       "NL                             16.26%  \n",
       "6644.T                         -3.03%  \n",
       "7593.T                         -2.53%  \n",
       "2337.T                        -28.51%  \n",
       "LINC                          165.03%  \n",
       "\n",
       "[66 rows x 5 columns]"
      ],
      "text/html": [
       "<div>\n",
       "<style scoped>\n",
       "    .dataframe tbody tr th:only-of-type {\n",
       "        vertical-align: middle;\n",
       "    }\n",
       "\n",
       "    .dataframe tbody tr th {\n",
       "        vertical-align: top;\n",
       "    }\n",
       "\n",
       "    .dataframe thead th {\n",
       "        text-align: right;\n",
       "    }\n",
       "</style>\n",
       "<table border=\"1\" class=\"dataframe\">\n",
       "  <thead>\n",
       "    <tr style=\"text-align: right;\">\n",
       "      <th></th>\n",
       "      <th>Share Count</th>\n",
       "      <th>Average Covariance</th>\n",
       "      <th>Average Returns</th>\n",
       "      <th>Return Last 12 Months</th>\n",
       "      <th>Return (Actual) Next 12 Months</th>\n",
       "    </tr>\n",
       "  </thead>\n",
       "  <tbody>\n",
       "    <tr>\n",
       "      <th>7732.T</th>\n",
       "      <td>1</td>\n",
       "      <td>0.079077</td>\n",
       "      <td>28.79%</td>\n",
       "      <td>-5.34%</td>\n",
       "      <td>-31.37%</td>\n",
       "    </tr>\n",
       "    <tr>\n",
       "      <th>EXTR</th>\n",
       "      <td>1</td>\n",
       "      <td>0.036769</td>\n",
       "      <td>16.71%</td>\n",
       "      <td>16.20%</td>\n",
       "      <td>-45.43%</td>\n",
       "    </tr>\n",
       "    <tr>\n",
       "      <th>9101.T</th>\n",
       "      <td>1</td>\n",
       "      <td>0.035846</td>\n",
       "      <td>32.53%</td>\n",
       "      <td>11.01%</td>\n",
       "      <td>5.06%</td>\n",
       "    </tr>\n",
       "    <tr>\n",
       "      <th>BOOT</th>\n",
       "      <td>1</td>\n",
       "      <td>0.033385</td>\n",
       "      <td>23.11%</td>\n",
       "      <td>41.98%</td>\n",
       "      <td>-19.79%</td>\n",
       "    </tr>\n",
       "    <tr>\n",
       "      <th>9107.T</th>\n",
       "      <td>3</td>\n",
       "      <td>0.028615</td>\n",
       "      <td>25.88%</td>\n",
       "      <td>7.72%</td>\n",
       "      <td>-5.79%</td>\n",
       "    </tr>\n",
       "    <tr>\n",
       "      <th>...</th>\n",
       "      <td>...</td>\n",
       "      <td>...</td>\n",
       "      <td>...</td>\n",
       "      <td>...</td>\n",
       "      <td>...</td>\n",
       "    </tr>\n",
       "    <tr>\n",
       "      <th>NL</th>\n",
       "      <td>1</td>\n",
       "      <td>0.011231</td>\n",
       "      <td>82.57%</td>\n",
       "      <td>-22.53%</td>\n",
       "      <td>16.26%</td>\n",
       "    </tr>\n",
       "    <tr>\n",
       "      <th>6644.T</th>\n",
       "      <td>1</td>\n",
       "      <td>0.001385</td>\n",
       "      <td>11.10%</td>\n",
       "      <td>7.95%</td>\n",
       "      <td>-3.03%</td>\n",
       "    </tr>\n",
       "    <tr>\n",
       "      <th>7593.T</th>\n",
       "      <td>1</td>\n",
       "      <td>0.007846</td>\n",
       "      <td>25.68%</td>\n",
       "      <td>9.84%</td>\n",
       "      <td>-2.53%</td>\n",
       "    </tr>\n",
       "    <tr>\n",
       "      <th>2337.T</th>\n",
       "      <td>1</td>\n",
       "      <td>0.013077</td>\n",
       "      <td>28.56%</td>\n",
       "      <td>20.59%</td>\n",
       "      <td>-28.51%</td>\n",
       "    </tr>\n",
       "    <tr>\n",
       "      <th>LINC</th>\n",
       "      <td>1</td>\n",
       "      <td>0.021692</td>\n",
       "      <td>35.17%</td>\n",
       "      <td>-14.12%</td>\n",
       "      <td>165.03%</td>\n",
       "    </tr>\n",
       "  </tbody>\n",
       "</table>\n",
       "<p>66 rows × 5 columns</p>\n",
       "</div>"
      ]
     },
     "execution_count": 117,
     "metadata": {},
     "output_type": "execute_result"
    }
   ],
   "execution_count": 117
  },
  {
   "metadata": {},
   "cell_type": "markdown",
   "source": "### Errors",
   "id": "70ba816ba0d2e6fe"
  },
  {
   "metadata": {
    "ExecuteTime": {
     "end_time": "2025-06-14T08:41:56.256216Z",
     "start_time": "2025-06-14T08:41:56.180051Z"
    }
   },
   "cell_type": "code",
   "source": [
    "importlib.reload(plots)\n",
    "\n",
    "plots.plot_xgboost_error(model_1m)"
   ],
   "id": "840e949b4bd53660",
   "outputs": [
    {
     "data": {
      "text/plain": [
       "<Figure size 640x480 with 1 Axes>"
      ],
      "image/png": "[encoded data removed]"
     },
     "metadata": {},
     "output_type": "display_data"
    }
   ],
   "execution_count": 118
  },
  {
   "metadata": {
    "ExecuteTime": {
     "end_time": "2025-06-14T08:41:56.337907Z",
     "start_time": "2025-06-14T08:41:56.281057Z"
    }
   },
   "cell_type": "code",
   "source": [
    "importlib.reload(plots)\n",
    "\n",
    "plots.plot_xgboost_error(model_6m)"
   ],
   "id": "8ca3954551f1d10a",
   "outputs": [
    {
     "data": {
      "text/plain": [
       "<Figure size 640x480 with 1 Axes>"
      ],
      "image/png": "[encoded data removed]"
     },
     "metadata": {},
     "output_type": "display_data"
    }
   ],
   "execution_count": 119
  },
  {
   "metadata": {
    "ExecuteTime": {
     "end_time": "2025-06-14T08:41:56.448733Z",
     "start_time": "2025-06-14T08:41:56.385726Z"
    }
   },
   "cell_type": "code",
   "source": "plots.plot_xgboost_error(model_12m)",
   "id": "5ec85f4a0ee4861d",
   "outputs": [
    {
     "data": {
      "text/plain": [
       "<Figure size 640x480 with 1 Axes>"
      ],
      "image/png": "[encoded data removed]"
     },
     "metadata": {},
     "output_type": "display_data"
    }
   ],
   "execution_count": 120
  }
 ],
 "metadata": {
  "kernelspec": {
   "display_name": "Python 3",
   "language": "python",
   "name": "python3"
  },
  "language_info": {
   "codemirror_mode": {
    "name": "ipython",
    "version": 2
   },
   "file_extension": ".py",
   "mimetype": "text/x-python",
   "name": "python",
   "nbconvert_exporter": "python",
   "pygments_lexer": "ipython2",
   "version": "2.7.6"
  }
 },
 "nbformat": 4,
 "nbformat_minor": 5
}
