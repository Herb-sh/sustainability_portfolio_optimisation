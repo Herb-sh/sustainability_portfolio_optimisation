{
 "cells": [
  {
   "cell_type": "code",
   "id": "initial_id",
   "metadata": {
    "collapsed": true
   },
   "source": [
    "# Python\n",
    "import pandas as pd\n",
    "import numpy as np\n",
    "\n",
    "#\n",
    "# Python\n",
    "#\n",
    "\n",
    "#\n",
    "import importlib\n",
    "import utilities.variables as variables\n",
    "import utilities.utility as utility\n",
    "import utilities.plots as plots\n",
    "import utilities.prophet_utils as prophet_utils\n",
    "import utilities.mpt_utils as mpt_utils\n",
    "importlib.reload(variables)\n",
    "importlib.reload(utility)\n",
    "importlib.reload(plots)\n",
    "importlib.reload(prophet_utils)\n",
    "#\n",
    "import logging\n",
    "logger = logging.getLogger('cmdstanpy')\n",
    "logger.addHandler(logging.NullHandler())\n",
    "logger.propagate = False\n",
    "logger.setLevel(logging.CRITICAL)"
   ],
   "outputs": [],
   "execution_count": null
  },
  {
   "metadata": {},
   "cell_type": "code",
   "source": [
    "# Includes by default percentage values\n",
    "df = pd.read_csv('../../../data/df_monthly_returns_complete.csv', index_col='Date')\n",
    "df_pct = pd.read_csv('../../../data/df_monthly_returns_complete_percentage.csv', index_col='Date')"
   ],
   "id": "347268eecd1bb79f",
   "outputs": [],
   "execution_count": null
  },
  {
   "metadata": {},
   "cell_type": "markdown",
   "source": "### Train & Plot Methods",
   "id": "9ff3e355e9024b6c"
  },
  {
   "metadata": {},
   "cell_type": "code",
   "source": [
    "#filtered_cols = [col for col in df.columns if not '.T' in col]\n",
    "#df = df[filtered_cols][600:800]\n",
    "df_pct.drop(columns=['2181.T', 'BGEO.L', 'ILM1.DE', 'MCG.L', '8766.T'], inplace=True)"
   ],
   "id": "5a6d87749e88f70b",
   "outputs": [],
   "execution_count": null
  },
  {
   "metadata": {},
   "cell_type": "code",
   "source": [
    "test_size_years = variables.FIVE_YEARS_NR\n",
    "# actual values\n",
    "df_train = df_pct.head(int(variables.ALL_YEARS_NR - test_size_years) * 12)\n",
    "df_test = df_pct.tail(test_size_years * 12)"
   ],
   "id": "411bc6dc86427efb",
   "outputs": [],
   "execution_count": null
  },
  {
   "metadata": {},
   "cell_type": "markdown",
   "source": "### 1 Month Actual vs Prediction",
   "id": "4202eafff826a51"
  },
  {
   "metadata": {},
   "cell_type": "code",
   "source": [
    "importlib.reload(prophet_utils)\n",
    "importlib.reload(plots)\n",
    "\n",
    "forecasts_1m = prophet_utils.train_predict(dataframe=df_train, months=1)\n",
    "#\n",
    "plots.plot_lines_actual_vs_predicted(dataframe=df_pct, forecasts=forecasts_1m, months=1)"
   ],
   "id": "727b4bd00830377f",
   "outputs": [],
   "execution_count": null
  },
  {
   "metadata": {},
   "cell_type": "markdown",
   "source": "#### Overview table - 1 Month",
   "id": "7107616dd7c46f9e"
  },
  {
   "metadata": {},
   "cell_type": "code",
   "source": [
    "importlib.reload(prophet_utils)\n",
    "importlib.reload(mpt_utils)\n",
    "\n",
    "df_pred_1m, raw_weights_1m, mu_1m, S_1m, sigma_1m, sharpe_1m = mpt_utils.get_prediction_portfolio_performance(forecasts_1m, \"prophet_weights_1m.csv\", min_avg_return=0, months=12)\n",
    "mpt_utils.create_discrete_allocation(df, raw_weights_1m, total_portfolio_value = 10000)\n",
    "\n",
    "# Create overview\n",
    "df_view_1m = pd.DataFrame.from_dict(raw_weights_1m, orient='index', columns=['max_sharpe_weight'])\n",
    "# Extract volatilities (square root of diagonal elements)\n",
    "df_view_1m['avg_annual_volatility'] = pd.Series(np.sqrt(np.diag(S_1m)), index=S_1m.columns).values\n",
    "# Set annual returns\n",
    "df_view_1m['avg_annual_return'] = mu_1m.values\n",
    "#\n",
    "df_view_1m['return_last_period(1m)'] = round(df_test.head(1).prod() - 1, 2)\n",
    "df_view_1m.head(10)"
   ],
   "id": "37bc96c19b2a285e",
   "outputs": [],
   "execution_count": null
  },
  {
   "metadata": {},
   "cell_type": "markdown",
   "source": "### 6 Months Actual vs Prediction",
   "id": "2c6b80be49fa7f0b"
  },
  {
   "metadata": {},
   "cell_type": "code",
   "source": [
    "importlib.reload(prophet_utils)\n",
    "\n",
    "forecasts_6m = prophet_utils.train_predict(dataframe=df_train, months=6)\n",
    "#\n",
    "prophet_utils.plot(dataframe=df_pct, forecasts=forecasts_6m, months=6)\n"
   ],
   "id": "623a3db6e8b82428",
   "outputs": [],
   "execution_count": null
  },
  {
   "metadata": {},
   "cell_type": "code",
   "source": [
    "importlib.reload(prophet_utils)\n",
    "importlib.reload(mpt_utils)\n",
    "\n",
    "df_pred_6m, raw_weights_6m, mu_6m, S_6m, sigma_6m, sharpe_6m = mpt_utils.get_prediction_portfolio_performance(forecasts_6m, \"prophet_weights_6m.csv\", min_avg_return=0, months=12)\n",
    "mpt_utils.create_discrete_allocation(df, raw_weights_6m)"
   ],
   "id": "537c207e5a8ce434",
   "outputs": [],
   "execution_count": null
  },
  {
   "metadata": {},
   "cell_type": "code",
   "source": [
    "importlib.reload(prophet_utils)\n",
    "\n",
    "df_view_6m = pd.DataFrame.from_dict(raw_weights_6m, orient='index', columns=['max_sharpe_weight'])\n",
    "# Extract volatilities (square root of diagonal elements)\n",
    "df_view_6m['avg_annual_volatility'] = pd.Series(np.sqrt(np.diag(S_6m)), index=S_6m.columns).values\n",
    "# Set annual returns\n",
    "df_view_6m['avg_annual_return'] = mu_6m.values\n",
    "#\n",
    "df_view_6m['return_last_period(6m)'] = round(df_test.head(6).prod() - 1, 2)\n",
    "df_view_6m"
   ],
   "id": "8efda78ec668dd20",
   "outputs": [],
   "execution_count": null
  },
  {
   "metadata": {},
   "cell_type": "markdown",
   "source": "### 12 months Actual vs Prediction",
   "id": "e0867f820bf6579b"
  },
  {
   "metadata": {},
   "cell_type": "code",
   "source": [
    "importlib.reload(prophet_utils)\n",
    "importlib.reload(plots)\n",
    "\n",
    "# TODO change to 12 instead of 11\n",
    "forecasts_12m = prophet_utils.train_predict(dataframe=df_train, months=12)\n",
    "#\n",
    "plots.plot_lines_actual_vs_predicted(dataframe=df_pct, forecasts=forecasts_12m, months=12)"
   ],
   "id": "b8c9743df693c264",
   "outputs": [],
   "execution_count": null
  },
  {
   "metadata": {},
   "cell_type": "code",
   "source": [
    "importlib.reload(prophet_utils)\n",
    "importlib.reload(mpt_utils)\n",
    "\n",
    "# @TODO Check issue with 12 months, maybe it gets out of range, 11 Months works fine\n",
    "#\n",
    "df_pred_12m, raw_weights_12m, mu_12m, S_12m, sigma_12m, sharpe_12m = mpt_utils.get_prediction_portfolio_performance(forecasts_12m, \"prophet_weights_12m.csv\", min_avg_return=0, months=12)\n",
    "mpt_utils.create_discrete_allocation(df, raw_weights_12m)\n",
    "\n",
    "df_view_12m = pd.DataFrame.from_dict(raw_weights_12m, orient='index', columns=['max_sharpe_weight'])\n",
    "# Extract volatilities (square root of diagonal elements)\n",
    "df_view_12m['avg_annual_volatility'] = pd.Series(np.sqrt(np.diag(S_12m)), index=S_12m.columns).values\n",
    "# Set annual returns\n",
    "df_view_12m['avg_annual_return'] = mu_12m.values\n",
    "#\n",
    "df_view_12m['return_last_period(12m)'] = round(df_test.head(12).prod() - 1, 2)\n",
    "df_view_12m.head(10)"
   ],
   "id": "81d6cd3211627edf",
   "outputs": [],
   "execution_count": null
  }
 ],
 "metadata": {
  "kernelspec": {
   "display_name": "Python 3",
   "language": "python",
   "name": "python3"
  },
  "language_info": {
   "codemirror_mode": {
    "name": "ipython",
    "version": 2
   },
   "file_extension": ".py",
   "mimetype": "text/x-python",
   "name": "python",
   "nbconvert_exporter": "python",
   "pygments_lexer": "ipython2",
   "version": "2.7.6"
  }
 },
 "nbformat": 4,
 "nbformat_minor": 5
}
