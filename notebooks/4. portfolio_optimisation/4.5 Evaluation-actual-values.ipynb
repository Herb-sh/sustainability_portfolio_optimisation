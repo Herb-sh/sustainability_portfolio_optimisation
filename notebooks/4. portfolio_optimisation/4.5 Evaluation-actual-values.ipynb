{
 "cells": [
  {
   "metadata": {
    "ExecuteTime": {
     "end_time": "2025-06-15T21:24:51.654196Z",
     "start_time": "2025-06-15T21:24:51.627870Z"
    }
   },
   "cell_type": "code",
   "source": [
    "import numpy as np\n",
    "import pandas as pd\n",
    "#\n",
    "from pypfopt import EfficientFrontier, EfficientSemivariance, plotting\n",
    "#\n",
    "import importlib\n",
    "import utilities.variables as variables\n",
    "import utilities.utility as utility\n",
    "import utilities.plots as plots\n",
    "import utilities.mpt_utils as mpt_utils\n",
    "importlib.reload(variables)\n",
    "importlib.reload(utility)\n",
    "importlib.reload(plots)\n",
    "importlib.reload(mpt_utils)"
   ],
   "id": "d222b0645c0f6655",
   "outputs": [
    {
     "data": {
      "text/plain": [
       "<module 'utilities.mpt_utils' from '/Users/herbishtini/Documents/UNI/Master Thesis/sustainability_portfolio_optimisation/utilities/mpt_utils.py'>"
      ]
     },
     "execution_count": 73,
     "metadata": {},
     "output_type": "execute_result"
    }
   ],
   "execution_count": 73
  },
  {
   "metadata": {},
   "cell_type": "markdown",
   "source": "## Data",
   "id": "e496fe7cf7269782"
  },
  {
   "metadata": {
    "ExecuteTime": {
     "end_time": "2025-06-15T21:24:51.816169Z",
     "start_time": "2025-06-15T21:24:51.724929Z"
    }
   },
   "cell_type": "code",
   "source": [
    "# Read in price data\n",
    "df = pd.read_csv('../../data/df_monthly_prices_complete_euro.csv', index_col='Date')\n",
    "df_pct = pd.read_csv('../../data/df_monthly_returns_complete.csv', index_col='Date')\n",
    "df_overview = pd.read_csv('../../data/df_overview.csv', index_col=0)"
   ],
   "id": "6e213ee2dc591c05",
   "outputs": [],
   "execution_count": 74
  },
  {
   "metadata": {
    "ExecuteTime": {
     "end_time": "2025-06-15T21:24:51.870443Z",
     "start_time": "2025-06-15T21:24:51.867438Z"
    }
   },
   "cell_type": "code",
   "source": [
    "variables.PORTF_ALLOC_YEARS_NR = 3\n",
    "df_train_1m = df.head((int(variables.ALL_YEARS_NR - variables.PORTF_ALLOC_YEARS_NR) * 12) + 1)\n",
    "df_test_1m = df.tail(variables.PORTF_ALLOC_YEARS_NR * 12)\n",
    "\n",
    "df_train_6m = df.head((int(variables.ALL_YEARS_NR - variables.PORTF_ALLOC_YEARS_NR) * 12) + 6)\n",
    "df_test_6m = df.tail(variables.PORTF_ALLOC_YEARS_NR * 12)\n",
    "\n",
    "df_train_12m = df.head((int(variables.ALL_YEARS_NR - variables.PORTF_ALLOC_YEARS_NR) * 12) + 12)\n",
    "df_test_12m = df.tail(variables.PORTF_ALLOC_YEARS_NR * 12)"
   ],
   "id": "f4fdb55948a69e7b",
   "outputs": [],
   "execution_count": 75
  },
  {
   "metadata": {},
   "cell_type": "markdown",
   "source": "## Actual MPT Portfolios",
   "id": "3efd0cce453dad9b"
  },
  {
   "metadata": {},
   "cell_type": "markdown",
   "source": [
    "This section includes MPT portfolio allocations for 1-month, 6-months, 12-months, created with known market-data. \n",
    "\n",
    "It is used as one of two evaluation mechanisms."
   ],
   "id": "8f4bb16254f32354"
  },
  {
   "metadata": {},
   "cell_type": "markdown",
   "source": "### 1 Month",
   "id": "c8e6ea7470e15f8c"
  },
  {
   "metadata": {
    "ExecuteTime": {
     "end_time": "2025-06-15T21:24:53.260324Z",
     "start_time": "2025-06-15T21:24:51.924527Z"
    }
   },
   "cell_type": "code",
   "source": [
    "importlib.reload(mpt_utils)\n",
    "#\n",
    "df_portfolio_1m = df_train_1m.tail(variables.PORTF_ALLOC_YEARS_NR * 12)\n",
    "weights_1m, mu_1m, S_1m, weights_all_1m = mpt_utils.benchmark_portfolio_and_plot(df_portfolio_1m)"
   ],
   "id": "a9d460bcf7c651e2",
   "outputs": [
    {
     "name": "stdout",
     "output_type": "stream",
     "text": [
      "Expected annual return: 74.1%\n",
      "Annual volatility: 7.7%\n",
      "Sharpe Ratio: 9.32\n",
      "-- Allocation --\n",
      "{'2767.T': 63, '2395.T': 21, 'DDS': 2, 'DXLG': 57, 'CAR': 1, 'RELL': 10, '3186.T': 11, 'CLFD': 2, '7433.T': 8, '9107.T': 43, '9101.T': 11, '9104.T': 10, 'ADV.DE': 7, '8050.T': 7, 'INVP.L': 1, 'BEZ.L': 1, 'CPRX': 10, '6417.T': 22, '7868.T': 64, 'MEGP.L': 1, '8114.T': 5, '7762.T': 31, '2685.T': 9, '2670.T': 8, 'VRTX': 1, '6430.T': 11, 'DGII': 2, '2379.T': 4, '7451.T': 5, 'MCK': 1, 'HURN': 1, '7846.T': 2, 'HRB': 2, '7552.T': 7, 'LRN': 2, '8219.T': 13, 'CAL': 3, '8060.T': 4, 'RGP': 5, '9024.T': 9, '6460.T': 6, '2792.T': 10, 'PINE.L': 1, '3191.T': 6, 'STGW': 10, 'ASO': 1, '8804.T': 6, '8897.T': 30, 'FCN': 1, 'GFT.DE': 2, 'BBW': 4, '9433.T': 2, 'AZPN': 1, '3086.T': 9, '8923.T': 7, 'AMN': 1, 'UNM': 1, '7906.T': 7, 'BOSS.DE': 1, 'DEQ.DE': 3, '9364.T': 3, '8309.T': 4, '3231.T': 2, '3050.T': 8, '3048.T': 7, '3608.T': 18, '7984.T': 4, '3289.T': 10, '7867.T': 5, '6055.T': 3, '7599.T': 8, '8129.T': 3, '8803.T': 1, 'AMAL': 1, '3626.T': 1, '6915.T': 2, '8012.T': 2, '7751.T': 1, '7911.T': 2, '7994.T': 3, '4980.T': 1, '8022.T': 1, 'AIV': 2, '4665.T': 1, '7593.T': 6, 'HOLI': 1, '3107.T': 1, '8802.T': 1, '9434.T': 1, '2715.T': 1, '7740.T': 1, '2124.T': 2, '3402.T': 2}\n",
      "-- Weights Percentage --\n",
      "{'CLFD': 0.0228, 'CAR': 0.0311, 'DXLG': 0.0402, 'DDS': 0.0414, '2395.T': 0.0414, '9107.T': 0.021, '2767.T': 0.0465, '9104.T': 0.0204, '3186.T': 0.0237, 'RELL': 0.0253, '9101.T': 0.0208, '7433.T': 0.0216, 'Other(81)': 0.6437}\n"
     ]
    },
    {
     "data": {
      "application/vnd.plotly.v1+json": {
       "data": [
        {
         "hole": 0.3,
         "insidetextorientation": "radial",
         "labels": [
          "CLFD",
          "CAR",
          "DXLG",
          "DDS",
          "2395.T",
          "9107.T",
          "2767.T",
          "9104.T",
          "3186.T",
          "RELL",
          "9101.T",
          "7433.T",
          "Other(81)"
         ],
         "textinfo": "label+percent",
         "textposition": "inside",
         "values": [
          0.0191,
          0.0261,
          0.0337,
          0.0347,
          0.0347,
          0.0176,
          0.039,
          0.0171,
          0.0199,
          0.0212,
          0.0174,
          0.0181,
          0.5395
         ],
         "type": "pie"
        }
       ],
       "layout": {
        "template": {
         "data": {
          "histogram2dcontour": [
           {
            "type": "histogram2dcontour",
            "colorbar": {
             "outlinewidth": 0,
             "ticks": ""
            },
            "colorscale": [
             [
              0.0,
              "#0d0887"
             ],
             [
              0.1111111111111111,
              "#46039f"
             ],
             [
              0.2222222222222222,
              "#7201a8"
             ],
             [
              0.3333333333333333,
              "#9c179e"
             ],
             [
              0.4444444444444444,
              "#bd3786"
             ],
             [
              0.5555555555555556,
              "#d8576b"
             ],
             [
              0.6666666666666666,
              "#ed7953"
             ],
             [
              0.7777777777777778,
              "#fb9f3a"
             ],
             [
              0.8888888888888888,
              "#fdca26"
             ],
             [
              1.0,
              "#f0f921"
             ]
            ]
           }
          ],
          "choropleth": [
           {
            "type": "choropleth",
            "colorbar": {
             "outlinewidth": 0,
             "ticks": ""
            }
           }
          ],
          "histogram2d": [
           {
            "type": "histogram2d",
            "colorbar": {
             "outlinewidth": 0,
             "ticks": ""
            },
            "colorscale": [
             [
              0.0,
              "#0d0887"
             ],
             [
              0.1111111111111111,
              "#46039f"
             ],
             [
              0.2222222222222222,
              "#7201a8"
             ],
             [
              0.3333333333333333,
              "#9c179e"
             ],
             [
              0.4444444444444444,
              "#bd3786"
             ],
             [
              0.5555555555555556,
              "#d8576b"
             ],
             [
              0.6666666666666666,
              "#ed7953"
             ],
             [
              0.7777777777777778,
              "#fb9f3a"
             ],
             [
              0.8888888888888888,
              "#fdca26"
             ],
             [
              1.0,
              "#f0f921"
             ]
            ]
           }
          ],
          "heatmap": [
           {
            "type": "heatmap",
            "colorbar": {
             "outlinewidth": 0,
             "ticks": ""
            },
            "colorscale": [
             [
              0.0,
              "#0d0887"
             ],
             [
              0.1111111111111111,
              "#46039f"
             ],
             [
              0.2222222222222222,
              "#7201a8"
             ],
             [
              0.3333333333333333,
              "#9c179e"
             ],
             [
              0.4444444444444444,
              "#bd3786"
             ],
             [
              0.5555555555555556,
              "#d8576b"
             ],
             [
              0.6666666666666666,
              "#ed7953"
             ],
             [
              0.7777777777777778,
              "#fb9f3a"
             ],
             [
              0.8888888888888888,
              "#fdca26"
             ],
             [
              1.0,
              "#f0f921"
             ]
            ]
           }
          ],
          "heatmapgl": [
           {
            "type": "heatmapgl",
            "colorbar": {
             "outlinewidth": 0,
             "ticks": ""
            },
            "colorscale": [
             [
              0.0,
              "#0d0887"
             ],
             [
              0.1111111111111111,
              "#46039f"
             ],
             [
              0.2222222222222222,
              "#7201a8"
             ],
             [
              0.3333333333333333,
              "#9c179e"
             ],
             [
              0.4444444444444444,
              "#bd3786"
             ],
             [
              0.5555555555555556,
              "#d8576b"
             ],
             [
              0.6666666666666666,
              "#ed7953"
             ],
             [
              0.7777777777777778,
              "#fb9f3a"
             ],
             [
              0.8888888888888888,
              "#fdca26"
             ],
             [
              1.0,
              "#f0f921"
             ]
            ]
           }
          ],
          "contourcarpet": [
           {
            "type": "contourcarpet",
            "colorbar": {
             "outlinewidth": 0,
             "ticks": ""
            }
           }
          ],
          "contour": [
           {
            "type": "contour",
            "colorbar": {
             "outlinewidth": 0,
             "ticks": ""
            },
            "colorscale": [
             [
              0.0,
              "#0d0887"
             ],
             [
              0.1111111111111111,
              "#46039f"
             ],
             [
              0.2222222222222222,
              "#7201a8"
             ],
             [
              0.3333333333333333,
              "#9c179e"
             ],
             [
              0.4444444444444444,
              "#bd3786"
             ],
             [
              0.5555555555555556,
              "#d8576b"
             ],
             [
              0.6666666666666666,
              "#ed7953"
             ],
             [
              0.7777777777777778,
              "#fb9f3a"
             ],
             [
              0.8888888888888888,
              "#fdca26"
             ],
             [
              1.0,
              "#f0f921"
             ]
            ]
           }
          ],
          "surface": [
           {
            "type": "surface",
            "colorbar": {
             "outlinewidth": 0,
             "ticks": ""
            },
            "colorscale": [
             [
              0.0,
              "#0d0887"
             ],
             [
              0.1111111111111111,
              "#46039f"
             ],
             [
              0.2222222222222222,
              "#7201a8"
             ],
             [
              0.3333333333333333,
              "#9c179e"
             ],
             [
              0.4444444444444444,
              "#bd3786"
             ],
             [
              0.5555555555555556,
              "#d8576b"
             ],
             [
              0.6666666666666666,
              "#ed7953"
             ],
             [
              0.7777777777777778,
              "#fb9f3a"
             ],
             [
              0.8888888888888888,
              "#fdca26"
             ],
             [
              1.0,
              "#f0f921"
             ]
            ]
           }
          ],
          "mesh3d": [
           {
            "type": "mesh3d",
            "colorbar": {
             "outlinewidth": 0,
             "ticks": ""
            }
           }
          ],
          "scatter": [
           {
            "marker": {
             "line": {
              "color": "#283442"
             }
            },
            "type": "scatter"
           }
          ],
          "parcoords": [
           {
            "type": "parcoords",
            "line": {
             "colorbar": {
              "outlinewidth": 0,
              "ticks": ""
             }
            }
           }
          ],
          "scatterpolargl": [
           {
            "type": "scatterpolargl",
            "marker": {
             "colorbar": {
              "outlinewidth": 0,
              "ticks": ""
             }
            }
           }
          ],
          "bar": [
           {
            "error_x": {
             "color": "#f2f5fa"
            },
            "error_y": {
             "color": "#f2f5fa"
            },
            "marker": {
             "line": {
              "color": "rgb(17,17,17)",
              "width": 0.5
             },
             "pattern": {
              "fillmode": "overlay",
              "size": 10,
              "solidity": 0.2
             }
            },
            "type": "bar"
           }
          ],
          "scattergeo": [
           {
            "type": "scattergeo",
            "marker": {
             "colorbar": {
              "outlinewidth": 0,
              "ticks": ""
             }
            }
           }
          ],
          "scatterpolar": [
           {
            "type": "scatterpolar",
            "marker": {
             "colorbar": {
              "outlinewidth": 0,
              "ticks": ""
             }
            }
           }
          ],
          "histogram": [
           {
            "marker": {
             "pattern": {
              "fillmode": "overlay",
              "size": 10,
              "solidity": 0.2
             }
            },
            "type": "histogram"
           }
          ],
          "scattergl": [
           {
            "marker": {
             "line": {
              "color": "#283442"
             }
            },
            "type": "scattergl"
           }
          ],
          "scatter3d": [
           {
            "type": "scatter3d",
            "line": {
             "colorbar": {
              "outlinewidth": 0,
              "ticks": ""
             }
            },
            "marker": {
             "colorbar": {
              "outlinewidth": 0,
              "ticks": ""
             }
            }
           }
          ],
          "scattermapbox": [
           {
            "type": "scattermapbox",
            "marker": {
             "colorbar": {
              "outlinewidth": 0,
              "ticks": ""
             }
            }
           }
          ],
          "scatterternary": [
           {
            "type": "scatterternary",
            "marker": {
             "colorbar": {
              "outlinewidth": 0,
              "ticks": ""
             }
            }
           }
          ],
          "scattercarpet": [
           {
            "type": "scattercarpet",
            "marker": {
             "colorbar": {
              "outlinewidth": 0,
              "ticks": ""
             }
            }
           }
          ],
          "carpet": [
           {
            "aaxis": {
             "endlinecolor": "#A2B1C6",
             "gridcolor": "#506784",
             "linecolor": "#506784",
             "minorgridcolor": "#506784",
             "startlinecolor": "#A2B1C6"
            },
            "baxis": {
             "endlinecolor": "#A2B1C6",
             "gridcolor": "#506784",
             "linecolor": "#506784",
             "minorgridcolor": "#506784",
             "startlinecolor": "#A2B1C6"
            },
            "type": "carpet"
           }
          ],
          "table": [
           {
            "cells": {
             "fill": {
              "color": "#506784"
             },
             "line": {
              "color": "rgb(17,17,17)"
             }
            },
            "header": {
             "fill": {
              "color": "#2a3f5f"
             },
             "line": {
              "color": "rgb(17,17,17)"
             }
            },
            "type": "table"
           }
          ],
          "barpolar": [
           {
            "marker": {
             "line": {
              "color": "rgb(17,17,17)",
              "width": 0.5
             },
             "pattern": {
              "fillmode": "overlay",
              "size": 10,
              "solidity": 0.2
             }
            },
            "type": "barpolar"
           }
          ],
          "pie": [
           {
            "automargin": true,
            "type": "pie"
           }
          ]
         },
         "layout": {
          "autotypenumbers": "strict",
          "colorway": [
           "#636efa",
           "#EF553B",
           "#00cc96",
           "#ab63fa",
           "#FFA15A",
           "#19d3f3",
           "#FF6692",
           "#B6E880",
           "#FF97FF",
           "#FECB52"
          ],
          "font": {
           "color": "#f2f5fa"
          },
          "hovermode": "closest",
          "hoverlabel": {
           "align": "left"
          },
          "paper_bgcolor": "rgb(17,17,17)",
          "plot_bgcolor": "rgb(17,17,17)",
          "polar": {
           "bgcolor": "rgb(17,17,17)",
           "angularaxis": {
            "gridcolor": "#506784",
            "linecolor": "#506784",
            "ticks": ""
           },
           "radialaxis": {
            "gridcolor": "#506784",
            "linecolor": "#506784",
            "ticks": ""
           }
          },
          "ternary": {
           "bgcolor": "rgb(17,17,17)",
           "aaxis": {
            "gridcolor": "#506784",
            "linecolor": "#506784",
            "ticks": ""
           },
           "baxis": {
            "gridcolor": "#506784",
            "linecolor": "#506784",
            "ticks": ""
           },
           "caxis": {
            "gridcolor": "#506784",
            "linecolor": "#506784",
            "ticks": ""
           }
          },
          "coloraxis": {
           "colorbar": {
            "outlinewidth": 0,
            "ticks": ""
           }
          },
          "colorscale": {
           "sequential": [
            [
             0.0,
             "#0d0887"
            ],
            [
             0.1111111111111111,
             "#46039f"
            ],
            [
             0.2222222222222222,
             "#7201a8"
            ],
            [
             0.3333333333333333,
             "#9c179e"
            ],
            [
             0.4444444444444444,
             "#bd3786"
            ],
            [
             0.5555555555555556,
             "#d8576b"
            ],
            [
             0.6666666666666666,
             "#ed7953"
            ],
            [
             0.7777777777777778,
             "#fb9f3a"
            ],
            [
             0.8888888888888888,
             "#fdca26"
            ],
            [
             1.0,
             "#f0f921"
            ]
           ],
           "sequentialminus": [
            [
             0.0,
             "#0d0887"
            ],
            [
             0.1111111111111111,
             "#46039f"
            ],
            [
             0.2222222222222222,
             "#7201a8"
            ],
            [
             0.3333333333333333,
             "#9c179e"
            ],
            [
             0.4444444444444444,
             "#bd3786"
            ],
            [
             0.5555555555555556,
             "#d8576b"
            ],
            [
             0.6666666666666666,
             "#ed7953"
            ],
            [
             0.7777777777777778,
             "#fb9f3a"
            ],
            [
             0.8888888888888888,
             "#fdca26"
            ],
            [
             1.0,
             "#f0f921"
            ]
           ],
           "diverging": [
            [
             0,
             "#8e0152"
            ],
            [
             0.1,
             "#c51b7d"
            ],
            [
             0.2,
             "#de77ae"
            ],
            [
             0.3,
             "#f1b6da"
            ],
            [
             0.4,
             "#fde0ef"
            ],
            [
             0.5,
             "#f7f7f7"
            ],
            [
             0.6,
             "#e6f5d0"
            ],
            [
             0.7,
             "#b8e186"
            ],
            [
             0.8,
             "#7fbc41"
            ],
            [
             0.9,
             "#4d9221"
            ],
            [
             1,
             "#276419"
            ]
           ]
          },
          "xaxis": {
           "gridcolor": "#283442",
           "linecolor": "#506784",
           "ticks": "",
           "title": {
            "standoff": 15
           },
           "zerolinecolor": "#283442",
           "automargin": true,
           "zerolinewidth": 2
          },
          "yaxis": {
           "gridcolor": "#283442",
           "linecolor": "#506784",
           "ticks": "",
           "title": {
            "standoff": 15
           },
           "zerolinecolor": "#283442",
           "automargin": true,
           "zerolinewidth": 2
          },
          "scene": {
           "xaxis": {
            "backgroundcolor": "rgb(17,17,17)",
            "gridcolor": "#506784",
            "linecolor": "#506784",
            "showbackground": true,
            "ticks": "",
            "zerolinecolor": "#C8D4E3",
            "gridwidth": 2
           },
           "yaxis": {
            "backgroundcolor": "rgb(17,17,17)",
            "gridcolor": "#506784",
            "linecolor": "#506784",
            "showbackground": true,
            "ticks": "",
            "zerolinecolor": "#C8D4E3",
            "gridwidth": 2
           },
           "zaxis": {
            "backgroundcolor": "rgb(17,17,17)",
            "gridcolor": "#506784",
            "linecolor": "#506784",
            "showbackground": true,
            "ticks": "",
            "zerolinecolor": "#C8D4E3",
            "gridwidth": 2
           }
          },
          "shapedefaults": {
           "line": {
            "color": "#f2f5fa"
           }
          },
          "annotationdefaults": {
           "arrowcolor": "#f2f5fa",
           "arrowhead": 0,
           "arrowwidth": 1
          },
          "geo": {
           "bgcolor": "rgb(17,17,17)",
           "landcolor": "rgb(17,17,17)",
           "subunitcolor": "#506784",
           "showland": true,
           "showlakes": true,
           "lakecolor": "rgb(17,17,17)"
          },
          "title": {
           "x": 0.05
          },
          "updatemenudefaults": {
           "bgcolor": "#506784",
           "borderwidth": 0
          },
          "sliderdefaults": {
           "bgcolor": "#C8D4E3",
           "borderwidth": 1,
           "bordercolor": "rgb(17,17,17)",
           "tickwidth": 0
          },
          "mapbox": {
           "style": "dark"
          }
         }
        },
        "margin": {
         "l": 20,
         "r": 20,
         "t": 20,
         "b": 20
        },
        "font": {
         "color": "black"
        },
        "height": 600,
        "width": 600,
        "paper_bgcolor": "white",
        "plot_bgcolor": "white",
        "showlegend": false
       },
       "config": {
        "plotlyServerURL": "https://plot.ly"
       }
      },
      "text/html": [
       "<div>                            <div id=\"629ead5e-3ac5-4804-b81c-b41c98c959cb\" class=\"plotly-graph-div\" style=\"height:600px; width:600px;\"></div>            <script type=\"text/javascript\">                require([\"plotly\"], function(Plotly) {                    window.PLOTLYENV=window.PLOTLYENV || {};                                    if (document.getElementById(\"629ead5e-3ac5-4804-b81c-b41c98c959cb\")) {                    Plotly.newPlot(                        \"629ead5e-3ac5-4804-b81c-b41c98c959cb\",                        [{\"hole\":0.3,\"insidetextorientation\":\"radial\",\"labels\":[\"CLFD\",\"CAR\",\"DXLG\",\"DDS\",\"2395.T\",\"9107.T\",\"2767.T\",\"9104.T\",\"3186.T\",\"RELL\",\"9101.T\",\"7433.T\",\"Other(81)\"],\"textinfo\":\"label+percent\",\"textposition\":\"inside\",\"values\":[0.0191,0.0261,0.0337,0.0347,0.0347,0.0176,0.039,0.0171,0.0199,0.0212,0.0174,0.0181,0.5395],\"type\":\"pie\"}],                        {\"template\":{\"data\":{\"histogram2dcontour\":[{\"type\":\"histogram2dcontour\",\"colorbar\":{\"outlinewidth\":0,\"ticks\":\"\"},\"colorscale\":[[0.0,\"#0d0887\"],[0.1111111111111111,\"#46039f\"],[0.2222222222222222,\"#7201a8\"],[0.3333333333333333,\"#9c179e\"],[0.4444444444444444,\"#bd3786\"],[0.5555555555555556,\"#d8576b\"],[0.6666666666666666,\"#ed7953\"],[0.7777777777777778,\"#fb9f3a\"],[0.8888888888888888,\"#fdca26\"],[1.0,\"#f0f921\"]]}],\"choropleth\":[{\"type\":\"choropleth\",\"colorbar\":{\"outlinewidth\":0,\"ticks\":\"\"}}],\"histogram2d\":[{\"type\":\"histogram2d\",\"colorbar\":{\"outlinewidth\":0,\"ticks\":\"\"},\"colorscale\":[[0.0,\"#0d0887\"],[0.1111111111111111,\"#46039f\"],[0.2222222222222222,\"#7201a8\"],[0.3333333333333333,\"#9c179e\"],[0.4444444444444444,\"#bd3786\"],[0.5555555555555556,\"#d8576b\"],[0.6666666666666666,\"#ed7953\"],[0.7777777777777778,\"#fb9f3a\"],[0.8888888888888888,\"#fdca26\"],[1.0,\"#f0f921\"]]}],\"heatmap\":[{\"type\":\"heatmap\",\"colorbar\":{\"outlinewidth\":0,\"ticks\":\"\"},\"colorscale\":[[0.0,\"#0d0887\"],[0.1111111111111111,\"#46039f\"],[0.2222222222222222,\"#7201a8\"],[0.3333333333333333,\"#9c179e\"],[0.4444444444444444,\"#bd3786\"],[0.5555555555555556,\"#d8576b\"],[0.6666666666666666,\"#ed7953\"],[0.7777777777777778,\"#fb9f3a\"],[0.8888888888888888,\"#fdca26\"],[1.0,\"#f0f921\"]]}],\"heatmapgl\":[{\"type\":\"heatmapgl\",\"colorbar\":{\"outlinewidth\":0,\"ticks\":\"\"},\"colorscale\":[[0.0,\"#0d0887\"],[0.1111111111111111,\"#46039f\"],[0.2222222222222222,\"#7201a8\"],[0.3333333333333333,\"#9c179e\"],[0.4444444444444444,\"#bd3786\"],[0.5555555555555556,\"#d8576b\"],[0.6666666666666666,\"#ed7953\"],[0.7777777777777778,\"#fb9f3a\"],[0.8888888888888888,\"#fdca26\"],[1.0,\"#f0f921\"]]}],\"contourcarpet\":[{\"type\":\"contourcarpet\",\"colorbar\":{\"outlinewidth\":0,\"ticks\":\"\"}}],\"contour\":[{\"type\":\"contour\",\"colorbar\":{\"outlinewidth\":0,\"ticks\":\"\"},\"colorscale\":[[0.0,\"#0d0887\"],[0.1111111111111111,\"#46039f\"],[0.2222222222222222,\"#7201a8\"],[0.3333333333333333,\"#9c179e\"],[0.4444444444444444,\"#bd3786\"],[0.5555555555555556,\"#d8576b\"],[0.6666666666666666,\"#ed7953\"],[0.7777777777777778,\"#fb9f3a\"],[0.8888888888888888,\"#fdca26\"],[1.0,\"#f0f921\"]]}],\"surface\":[{\"type\":\"surface\",\"colorbar\":{\"outlinewidth\":0,\"ticks\":\"\"},\"colorscale\":[[0.0,\"#0d0887\"],[0.1111111111111111,\"#46039f\"],[0.2222222222222222,\"#7201a8\"],[0.3333333333333333,\"#9c179e\"],[0.4444444444444444,\"#bd3786\"],[0.5555555555555556,\"#d8576b\"],[0.6666666666666666,\"#ed7953\"],[0.7777777777777778,\"#fb9f3a\"],[0.8888888888888888,\"#fdca26\"],[1.0,\"#f0f921\"]]}],\"mesh3d\":[{\"type\":\"mesh3d\",\"colorbar\":{\"outlinewidth\":0,\"ticks\":\"\"}}],\"scatter\":[{\"marker\":{\"line\":{\"color\":\"#283442\"}},\"type\":\"scatter\"}],\"parcoords\":[{\"type\":\"parcoords\",\"line\":{\"colorbar\":{\"outlinewidth\":0,\"ticks\":\"\"}}}],\"scatterpolargl\":[{\"type\":\"scatterpolargl\",\"marker\":{\"colorbar\":{\"outlinewidth\":0,\"ticks\":\"\"}}}],\"bar\":[{\"error_x\":{\"color\":\"#f2f5fa\"},\"error_y\":{\"color\":\"#f2f5fa\"},\"marker\":{\"line\":{\"color\":\"rgb(17,17,17)\",\"width\":0.5},\"pattern\":{\"fillmode\":\"overlay\",\"size\":10,\"solidity\":0.2}},\"type\":\"bar\"}],\"scattergeo\":[{\"type\":\"scattergeo\",\"marker\":{\"colorbar\":{\"outlinewidth\":0,\"ticks\":\"\"}}}],\"scatterpolar\":[{\"type\":\"scatterpolar\",\"marker\":{\"colorbar\":{\"outlinewidth\":0,\"ticks\":\"\"}}}],\"histogram\":[{\"marker\":{\"pattern\":{\"fillmode\":\"overlay\",\"size\":10,\"solidity\":0.2}},\"type\":\"histogram\"}],\"scattergl\":[{\"marker\":{\"line\":{\"color\":\"#283442\"}},\"type\":\"scattergl\"}],\"scatter3d\":[{\"type\":\"scatter3d\",\"line\":{\"colorbar\":{\"outlinewidth\":0,\"ticks\":\"\"}},\"marker\":{\"colorbar\":{\"outlinewidth\":0,\"ticks\":\"\"}}}],\"scattermapbox\":[{\"type\":\"scattermapbox\",\"marker\":{\"colorbar\":{\"outlinewidth\":0,\"ticks\":\"\"}}}],\"scatterternary\":[{\"type\":\"scatterternary\",\"marker\":{\"colorbar\":{\"outlinewidth\":0,\"ticks\":\"\"}}}],\"scattercarpet\":[{\"type\":\"scattercarpet\",\"marker\":{\"colorbar\":{\"outlinewidth\":0,\"ticks\":\"\"}}}],\"carpet\":[{\"aaxis\":{\"endlinecolor\":\"#A2B1C6\",\"gridcolor\":\"#506784\",\"linecolor\":\"#506784\",\"minorgridcolor\":\"#506784\",\"startlinecolor\":\"#A2B1C6\"},\"baxis\":{\"endlinecolor\":\"#A2B1C6\",\"gridcolor\":\"#506784\",\"linecolor\":\"#506784\",\"minorgridcolor\":\"#506784\",\"startlinecolor\":\"#A2B1C6\"},\"type\":\"carpet\"}],\"table\":[{\"cells\":{\"fill\":{\"color\":\"#506784\"},\"line\":{\"color\":\"rgb(17,17,17)\"}},\"header\":{\"fill\":{\"color\":\"#2a3f5f\"},\"line\":{\"color\":\"rgb(17,17,17)\"}},\"type\":\"table\"}],\"barpolar\":[{\"marker\":{\"line\":{\"color\":\"rgb(17,17,17)\",\"width\":0.5},\"pattern\":{\"fillmode\":\"overlay\",\"size\":10,\"solidity\":0.2}},\"type\":\"barpolar\"}],\"pie\":[{\"automargin\":true,\"type\":\"pie\"}]},\"layout\":{\"autotypenumbers\":\"strict\",\"colorway\":[\"#636efa\",\"#EF553B\",\"#00cc96\",\"#ab63fa\",\"#FFA15A\",\"#19d3f3\",\"#FF6692\",\"#B6E880\",\"#FF97FF\",\"#FECB52\"],\"font\":{\"color\":\"#f2f5fa\"},\"hovermode\":\"closest\",\"hoverlabel\":{\"align\":\"left\"},\"paper_bgcolor\":\"rgb(17,17,17)\",\"plot_bgcolor\":\"rgb(17,17,17)\",\"polar\":{\"bgcolor\":\"rgb(17,17,17)\",\"angularaxis\":{\"gridcolor\":\"#506784\",\"linecolor\":\"#506784\",\"ticks\":\"\"},\"radialaxis\":{\"gridcolor\":\"#506784\",\"linecolor\":\"#506784\",\"ticks\":\"\"}},\"ternary\":{\"bgcolor\":\"rgb(17,17,17)\",\"aaxis\":{\"gridcolor\":\"#506784\",\"linecolor\":\"#506784\",\"ticks\":\"\"},\"baxis\":{\"gridcolor\":\"#506784\",\"linecolor\":\"#506784\",\"ticks\":\"\"},\"caxis\":{\"gridcolor\":\"#506784\",\"linecolor\":\"#506784\",\"ticks\":\"\"}},\"coloraxis\":{\"colorbar\":{\"outlinewidth\":0,\"ticks\":\"\"}},\"colorscale\":{\"sequential\":[[0.0,\"#0d0887\"],[0.1111111111111111,\"#46039f\"],[0.2222222222222222,\"#7201a8\"],[0.3333333333333333,\"#9c179e\"],[0.4444444444444444,\"#bd3786\"],[0.5555555555555556,\"#d8576b\"],[0.6666666666666666,\"#ed7953\"],[0.7777777777777778,\"#fb9f3a\"],[0.8888888888888888,\"#fdca26\"],[1.0,\"#f0f921\"]],\"sequentialminus\":[[0.0,\"#0d0887\"],[0.1111111111111111,\"#46039f\"],[0.2222222222222222,\"#7201a8\"],[0.3333333333333333,\"#9c179e\"],[0.4444444444444444,\"#bd3786\"],[0.5555555555555556,\"#d8576b\"],[0.6666666666666666,\"#ed7953\"],[0.7777777777777778,\"#fb9f3a\"],[0.8888888888888888,\"#fdca26\"],[1.0,\"#f0f921\"]],\"diverging\":[[0,\"#8e0152\"],[0.1,\"#c51b7d\"],[0.2,\"#de77ae\"],[0.3,\"#f1b6da\"],[0.4,\"#fde0ef\"],[0.5,\"#f7f7f7\"],[0.6,\"#e6f5d0\"],[0.7,\"#b8e186\"],[0.8,\"#7fbc41\"],[0.9,\"#4d9221\"],[1,\"#276419\"]]},\"xaxis\":{\"gridcolor\":\"#283442\",\"linecolor\":\"#506784\",\"ticks\":\"\",\"title\":{\"standoff\":15},\"zerolinecolor\":\"#283442\",\"automargin\":true,\"zerolinewidth\":2},\"yaxis\":{\"gridcolor\":\"#283442\",\"linecolor\":\"#506784\",\"ticks\":\"\",\"title\":{\"standoff\":15},\"zerolinecolor\":\"#283442\",\"automargin\":true,\"zerolinewidth\":2},\"scene\":{\"xaxis\":{\"backgroundcolor\":\"rgb(17,17,17)\",\"gridcolor\":\"#506784\",\"linecolor\":\"#506784\",\"showbackground\":true,\"ticks\":\"\",\"zerolinecolor\":\"#C8D4E3\",\"gridwidth\":2},\"yaxis\":{\"backgroundcolor\":\"rgb(17,17,17)\",\"gridcolor\":\"#506784\",\"linecolor\":\"#506784\",\"showbackground\":true,\"ticks\":\"\",\"zerolinecolor\":\"#C8D4E3\",\"gridwidth\":2},\"zaxis\":{\"backgroundcolor\":\"rgb(17,17,17)\",\"gridcolor\":\"#506784\",\"linecolor\":\"#506784\",\"showbackground\":true,\"ticks\":\"\",\"zerolinecolor\":\"#C8D4E3\",\"gridwidth\":2}},\"shapedefaults\":{\"line\":{\"color\":\"#f2f5fa\"}},\"annotationdefaults\":{\"arrowcolor\":\"#f2f5fa\",\"arrowhead\":0,\"arrowwidth\":1},\"geo\":{\"bgcolor\":\"rgb(17,17,17)\",\"landcolor\":\"rgb(17,17,17)\",\"subunitcolor\":\"#506784\",\"showland\":true,\"showlakes\":true,\"lakecolor\":\"rgb(17,17,17)\"},\"title\":{\"x\":0.05},\"updatemenudefaults\":{\"bgcolor\":\"#506784\",\"borderwidth\":0},\"sliderdefaults\":{\"bgcolor\":\"#C8D4E3\",\"borderwidth\":1,\"bordercolor\":\"rgb(17,17,17)\",\"tickwidth\":0},\"mapbox\":{\"style\":\"dark\"}}},\"margin\":{\"l\":20,\"r\":20,\"t\":20,\"b\":20},\"font\":{\"color\":\"black\"},\"height\":600,\"width\":600,\"paper_bgcolor\":\"white\",\"plot_bgcolor\":\"white\",\"showlegend\":false},                        {\"responsive\": true}                    ).then(function(){\n",
       "                            \n",
       "var gd = document.getElementById('629ead5e-3ac5-4804-b81c-b41c98c959cb');\n",
       "var x = new MutationObserver(function (mutations, observer) {{\n",
       "        var display = window.getComputedStyle(gd).display;\n",
       "        if (!display || display === 'none') {{\n",
       "            console.log([gd, 'removed!']);\n",
       "            Plotly.purge(gd);\n",
       "            observer.disconnect();\n",
       "        }}\n",
       "}});\n",
       "\n",
       "// Listen for the removal of the full notebook cells\n",
       "var notebookContainer = gd.closest('#notebook-container');\n",
       "if (notebookContainer) {{\n",
       "    x.observe(notebookContainer, {childList: true});\n",
       "}}\n",
       "\n",
       "// Listen for the clearing of the current output cell\n",
       "var outputEl = gd.closest('.output');\n",
       "if (outputEl) {{\n",
       "    x.observe(outputEl, {childList: true});\n",
       "}}\n",
       "\n",
       "                        })                };                });            </script>        </div>"
      ]
     },
     "metadata": {},
     "output_type": "display_data"
    }
   ],
   "execution_count": 76
  },
  {
   "metadata": {
    "ExecuteTime": {
     "end_time": "2025-06-15T21:24:53.343278Z",
     "start_time": "2025-06-15T21:24:53.324274Z"
    }
   },
   "cell_type": "code",
   "source": [
    "importlib.reload(mpt_utils)\n",
    "# Create overview\n",
    "df_view_1m = mpt_utils.generate_overview_table(weights_all_1m, mu_1m, S_1m, df_pct)\n",
    "df_view_1m"
   ],
   "id": "cbe1755dc9e64635",
   "outputs": [
    {
     "data": {
      "text/plain": [
       "        Share Count  Average Covariance Average Returns Return Last 12 Months  \\\n",
       "2767.T           63            0.001304          22.48%                56.75%   \n",
       "2395.T           21           -0.001739         100.39%               -37.13%   \n",
       "DDS               2            0.001848          14.13%                -0.13%   \n",
       "DXLG             57            0.004348         134.17%               -37.52%   \n",
       "CAR               1            0.000543         170.26%               -30.68%   \n",
       "...             ...                 ...             ...                   ...   \n",
       "9434.T            1            0.000217          15.34%                20.34%   \n",
       "2715.T            1            0.001630           7.33%                15.64%   \n",
       "7740.T            1            0.002609          14.50%                25.31%   \n",
       "2124.T            2            0.000217          26.41%                -1.51%   \n",
       "3402.T            2            0.000435          13.78%                 2.94%   \n",
       "\n",
       "       Return (Actual) Next 12 Months  \n",
       "2767.T                         -0.47%  \n",
       "2395.T                        -37.52%  \n",
       "DDS                             8.19%  \n",
       "DXLG                          -41.85%  \n",
       "CAR                           -60.65%  \n",
       "...                               ...  \n",
       "9434.T                         23.32%  \n",
       "2715.T                         -3.01%  \n",
       "7740.T                        101.30%  \n",
       "2124.T                         27.48%  \n",
       "3402.T                         -1.49%  \n",
       "\n",
       "[93 rows x 5 columns]"
      ],
      "text/html": [
       "<div>\n",
       "<style scoped>\n",
       "    .dataframe tbody tr th:only-of-type {\n",
       "        vertical-align: middle;\n",
       "    }\n",
       "\n",
       "    .dataframe tbody tr th {\n",
       "        vertical-align: top;\n",
       "    }\n",
       "\n",
       "    .dataframe thead th {\n",
       "        text-align: right;\n",
       "    }\n",
       "</style>\n",
       "<table border=\"1\" class=\"dataframe\">\n",
       "  <thead>\n",
       "    <tr style=\"text-align: right;\">\n",
       "      <th></th>\n",
       "      <th>Share Count</th>\n",
       "      <th>Average Covariance</th>\n",
       "      <th>Average Returns</th>\n",
       "      <th>Return Last 12 Months</th>\n",
       "      <th>Return (Actual) Next 12 Months</th>\n",
       "    </tr>\n",
       "  </thead>\n",
       "  <tbody>\n",
       "    <tr>\n",
       "      <th>2767.T</th>\n",
       "      <td>63</td>\n",
       "      <td>0.001304</td>\n",
       "      <td>22.48%</td>\n",
       "      <td>56.75%</td>\n",
       "      <td>-0.47%</td>\n",
       "    </tr>\n",
       "    <tr>\n",
       "      <th>2395.T</th>\n",
       "      <td>21</td>\n",
       "      <td>-0.001739</td>\n",
       "      <td>100.39%</td>\n",
       "      <td>-37.13%</td>\n",
       "      <td>-37.52%</td>\n",
       "    </tr>\n",
       "    <tr>\n",
       "      <th>DDS</th>\n",
       "      <td>2</td>\n",
       "      <td>0.001848</td>\n",
       "      <td>14.13%</td>\n",
       "      <td>-0.13%</td>\n",
       "      <td>8.19%</td>\n",
       "    </tr>\n",
       "    <tr>\n",
       "      <th>DXLG</th>\n",
       "      <td>57</td>\n",
       "      <td>0.004348</td>\n",
       "      <td>134.17%</td>\n",
       "      <td>-37.52%</td>\n",
       "      <td>-41.85%</td>\n",
       "    </tr>\n",
       "    <tr>\n",
       "      <th>CAR</th>\n",
       "      <td>1</td>\n",
       "      <td>0.000543</td>\n",
       "      <td>170.26%</td>\n",
       "      <td>-30.68%</td>\n",
       "      <td>-60.65%</td>\n",
       "    </tr>\n",
       "    <tr>\n",
       "      <th>...</th>\n",
       "      <td>...</td>\n",
       "      <td>...</td>\n",
       "      <td>...</td>\n",
       "      <td>...</td>\n",
       "      <td>...</td>\n",
       "    </tr>\n",
       "    <tr>\n",
       "      <th>9434.T</th>\n",
       "      <td>1</td>\n",
       "      <td>0.000217</td>\n",
       "      <td>15.34%</td>\n",
       "      <td>20.34%</td>\n",
       "      <td>23.32%</td>\n",
       "    </tr>\n",
       "    <tr>\n",
       "      <th>2715.T</th>\n",
       "      <td>1</td>\n",
       "      <td>0.001630</td>\n",
       "      <td>7.33%</td>\n",
       "      <td>15.64%</td>\n",
       "      <td>-3.01%</td>\n",
       "    </tr>\n",
       "    <tr>\n",
       "      <th>7740.T</th>\n",
       "      <td>1</td>\n",
       "      <td>0.002609</td>\n",
       "      <td>14.50%</td>\n",
       "      <td>25.31%</td>\n",
       "      <td>101.30%</td>\n",
       "    </tr>\n",
       "    <tr>\n",
       "      <th>2124.T</th>\n",
       "      <td>2</td>\n",
       "      <td>0.000217</td>\n",
       "      <td>26.41%</td>\n",
       "      <td>-1.51%</td>\n",
       "      <td>27.48%</td>\n",
       "    </tr>\n",
       "    <tr>\n",
       "      <th>3402.T</th>\n",
       "      <td>2</td>\n",
       "      <td>0.000435</td>\n",
       "      <td>13.78%</td>\n",
       "      <td>2.94%</td>\n",
       "      <td>-1.49%</td>\n",
       "    </tr>\n",
       "  </tbody>\n",
       "</table>\n",
       "<p>93 rows × 5 columns</p>\n",
       "</div>"
      ]
     },
     "execution_count": 77,
     "metadata": {},
     "output_type": "execute_result"
    }
   ],
   "execution_count": 77
  },
  {
   "metadata": {},
   "cell_type": "markdown",
   "source": "### 6 Months",
   "id": "46af7526f5e5478a"
  },
  {
   "metadata": {
    "ExecuteTime": {
     "end_time": "2025-06-15T21:24:55.347944Z",
     "start_time": "2025-06-15T21:24:53.428634Z"
    }
   },
   "cell_type": "code",
   "source": [
    "importlib.reload(mpt_utils)\n",
    "#\n",
    "df_portfolio_6m = df_train_12m.tail(variables.PORTF_ALLOC_YEARS_NR * 6)\n",
    "weights_6m, mu_6m, S_6m, weights_all_6m = mpt_utils.benchmark_portfolio_and_plot(df_portfolio_6m)\n",
    "importlib.reload(mpt_utils)"
   ],
   "id": "71d011de18dd5f1e",
   "outputs": [
    {
     "name": "stdout",
     "output_type": "stream",
     "text": [
      "Expected annual return: 92.8%\n",
      "Annual volatility: 2.4%\n",
      "Sharpe Ratio: 37.18\n",
      "-- Allocation --\n",
      "{'6430.T': 10, 'EH': 16, 'NBPE.L': 1, 'BCPT.L': 2, '7868.T': 52, 'GROW.L': 1, 'SMCI': 1, 'ARLO': 17, 'OKTA': 2, '9107.T': 13, 'CMPR': 2, 'APP': 3, 'DAKT': 16, 'NVDA': 3, 'RDC.DE': 1, 'ANF': 2, 'IOT': 4, '8022.T': 3, '2685.T': 5, '8129.T': 4, '7867.T': 7, '7936.T': 11, 'BBOX.L': 1, 'SMAR': 2, 'ANET': 1, 'NEM.DE': 1, 'FOR': 3, '2784.T': 5, '3086.T': 8, 'WG.L': 1, '8219.T': 7, '6146.T': 1, '1911.T': 3, '3132.T': 1, 'FIE.DE': 1, 'GWRE': 1, '3050.T': 9, '8057.T': 1, '4716.T': 1, '7911.T': 3, '2733.T': 3, '7976.T': 5, '6718.T': 3, 'HHFA.DE': 3, '4619.T': 7, 'BIJ.DE': 1, '7483.T': 4, '2670.T': 3, '3591.T': 2, '2692.T': 1, 'SNWS.L': 1, 'PAR': 1, 'SMHN.DE': 2, '6417.T': 6, '3341.T': 5, '7994.T': 3, '7575.T': 6, '6737.T': 1, '7552.T': 2, '6651.T': 2, '6644.T': 10, '8923.T': 3, '6460.T': 2, '8130.T': 2, 'MOD': 1, '2792.T': 4, 'ENR.DE': 3, '8086.T': 5, '9401.T': 2, '8283.T': 1, '7239.T': 3, '3002.T': 1, '8173.T': 2, '3107.T': 2, '7453.T': 2, '9882.T': 3, '7459.T': 2, '2327.T': 2, 'LAUR': 2, '3151.T': 5, '6436.T': 1, 'EOAN.DE': 3, '9842.T': 3, '6183.T': 3, '8056.T': 1, 'ESCA': 2, '4326.T': 2, '8697.T': 1, '9101.T': 1, '7762.T': 4, '8014.T': 1, '1925.T': 1, '5105.T': 1, '2874.T': 3, '3608.T': 4, '2760.T': 1, '7906.T': 2, '7296.T': 1, '8084.T': 1, '5101.T': 1, '9697.T': 1, 'HLX': 1, '9729.T': 1, '9434.T': 1, '7893.T': 2, '2331.T': 2, '7984.T': 1, '8282.T': 1, '1973.T': 1, '5110.T': 1, '9832.T': 1, '6744.T': 1, '4218.T': 1, '2715.T': 1, '8818.T': 1}\n",
      "-- Weights Percentage --\n",
      "{'SMCI': 0.023, 'NBPE.L': 0.0323, '6430.T': 0.0457, 'EH': 0.0358, '7868.T': 0.026, 'ARLO': 0.0221, 'OKTA': 0.0208, 'GROW.L': 0.0232, 'BCPT.L': 0.0265, 'Other(106)': 0.7446}\n"
     ]
    },
    {
     "data": {
      "application/vnd.plotly.v1+json": {
       "data": [
        {
         "hole": 0.3,
         "insidetextorientation": "radial",
         "labels": [
          "SMCI",
          "NBPE.L",
          "6430.T",
          "EH",
          "7868.T",
          "ARLO",
          "OKTA",
          "GROW.L",
          "BCPT.L",
          "Other(106)"
         ],
         "textinfo": "label+percent",
         "textposition": "inside",
         "values": [
          0.0167,
          0.0235,
          0.0332,
          0.026,
          0.0189,
          0.0161,
          0.0151,
          0.0169,
          0.0193,
          0.5415
         ],
         "type": "pie"
        }
       ],
       "layout": {
        "template": {
         "data": {
          "histogram2dcontour": [
           {
            "type": "histogram2dcontour",
            "colorbar": {
             "outlinewidth": 0,
             "ticks": ""
            },
            "colorscale": [
             [
              0.0,
              "#0d0887"
             ],
             [
              0.1111111111111111,
              "#46039f"
             ],
             [
              0.2222222222222222,
              "#7201a8"
             ],
             [
              0.3333333333333333,
              "#9c179e"
             ],
             [
              0.4444444444444444,
              "#bd3786"
             ],
             [
              0.5555555555555556,
              "#d8576b"
             ],
             [
              0.6666666666666666,
              "#ed7953"
             ],
             [
              0.7777777777777778,
              "#fb9f3a"
             ],
             [
              0.8888888888888888,
              "#fdca26"
             ],
             [
              1.0,
              "#f0f921"
             ]
            ]
           }
          ],
          "choropleth": [
           {
            "type": "choropleth",
            "colorbar": {
             "outlinewidth": 0,
             "ticks": ""
            }
           }
          ],
          "histogram2d": [
           {
            "type": "histogram2d",
            "colorbar": {
             "outlinewidth": 0,
             "ticks": ""
            },
            "colorscale": [
             [
              0.0,
              "#0d0887"
             ],
             [
              0.1111111111111111,
              "#46039f"
             ],
             [
              0.2222222222222222,
              "#7201a8"
             ],
             [
              0.3333333333333333,
              "#9c179e"
             ],
             [
              0.4444444444444444,
              "#bd3786"
             ],
             [
              0.5555555555555556,
              "#d8576b"
             ],
             [
              0.6666666666666666,
              "#ed7953"
             ],
             [
              0.7777777777777778,
              "#fb9f3a"
             ],
             [
              0.8888888888888888,
              "#fdca26"
             ],
             [
              1.0,
              "#f0f921"
             ]
            ]
           }
          ],
          "heatmap": [
           {
            "type": "heatmap",
            "colorbar": {
             "outlinewidth": 0,
             "ticks": ""
            },
            "colorscale": [
             [
              0.0,
              "#0d0887"
             ],
             [
              0.1111111111111111,
              "#46039f"
             ],
             [
              0.2222222222222222,
              "#7201a8"
             ],
             [
              0.3333333333333333,
              "#9c179e"
             ],
             [
              0.4444444444444444,
              "#bd3786"
             ],
             [
              0.5555555555555556,
              "#d8576b"
             ],
             [
              0.6666666666666666,
              "#ed7953"
             ],
             [
              0.7777777777777778,
              "#fb9f3a"
             ],
             [
              0.8888888888888888,
              "#fdca26"
             ],
             [
              1.0,
              "#f0f921"
             ]
            ]
           }
          ],
          "heatmapgl": [
           {
            "type": "heatmapgl",
            "colorbar": {
             "outlinewidth": 0,
             "ticks": ""
            },
            "colorscale": [
             [
              0.0,
              "#0d0887"
             ],
             [
              0.1111111111111111,
              "#46039f"
             ],
             [
              0.2222222222222222,
              "#7201a8"
             ],
             [
              0.3333333333333333,
              "#9c179e"
             ],
             [
              0.4444444444444444,
              "#bd3786"
             ],
             [
              0.5555555555555556,
              "#d8576b"
             ],
             [
              0.6666666666666666,
              "#ed7953"
             ],
             [
              0.7777777777777778,
              "#fb9f3a"
             ],
             [
              0.8888888888888888,
              "#fdca26"
             ],
             [
              1.0,
              "#f0f921"
             ]
            ]
           }
          ],
          "contourcarpet": [
           {
            "type": "contourcarpet",
            "colorbar": {
             "outlinewidth": 0,
             "ticks": ""
            }
           }
          ],
          "contour": [
           {
            "type": "contour",
            "colorbar": {
             "outlinewidth": 0,
             "ticks": ""
            },
            "colorscale": [
             [
              0.0,
              "#0d0887"
             ],
             [
              0.1111111111111111,
              "#46039f"
             ],
             [
              0.2222222222222222,
              "#7201a8"
             ],
             [
              0.3333333333333333,
              "#9c179e"
             ],
             [
              0.4444444444444444,
              "#bd3786"
             ],
             [
              0.5555555555555556,
              "#d8576b"
             ],
             [
              0.6666666666666666,
              "#ed7953"
             ],
             [
              0.7777777777777778,
              "#fb9f3a"
             ],
             [
              0.8888888888888888,
              "#fdca26"
             ],
             [
              1.0,
              "#f0f921"
             ]
            ]
           }
          ],
          "surface": [
           {
            "type": "surface",
            "colorbar": {
             "outlinewidth": 0,
             "ticks": ""
            },
            "colorscale": [
             [
              0.0,
              "#0d0887"
             ],
             [
              0.1111111111111111,
              "#46039f"
             ],
             [
              0.2222222222222222,
              "#7201a8"
             ],
             [
              0.3333333333333333,
              "#9c179e"
             ],
             [
              0.4444444444444444,
              "#bd3786"
             ],
             [
              0.5555555555555556,
              "#d8576b"
             ],
             [
              0.6666666666666666,
              "#ed7953"
             ],
             [
              0.7777777777777778,
              "#fb9f3a"
             ],
             [
              0.8888888888888888,
              "#fdca26"
             ],
             [
              1.0,
              "#f0f921"
             ]
            ]
           }
          ],
          "mesh3d": [
           {
            "type": "mesh3d",
            "colorbar": {
             "outlinewidth": 0,
             "ticks": ""
            }
           }
          ],
          "scatter": [
           {
            "marker": {
             "line": {
              "color": "#283442"
             }
            },
            "type": "scatter"
           }
          ],
          "parcoords": [
           {
            "type": "parcoords",
            "line": {
             "colorbar": {
              "outlinewidth": 0,
              "ticks": ""
             }
            }
           }
          ],
          "scatterpolargl": [
           {
            "type": "scatterpolargl",
            "marker": {
             "colorbar": {
              "outlinewidth": 0,
              "ticks": ""
             }
            }
           }
          ],
          "bar": [
           {
            "error_x": {
             "color": "#f2f5fa"
            },
            "error_y": {
             "color": "#f2f5fa"
            },
            "marker": {
             "line": {
              "color": "rgb(17,17,17)",
              "width": 0.5
             },
             "pattern": {
              "fillmode": "overlay",
              "size": 10,
              "solidity": 0.2
             }
            },
            "type": "bar"
           }
          ],
          "scattergeo": [
           {
            "type": "scattergeo",
            "marker": {
             "colorbar": {
              "outlinewidth": 0,
              "ticks": ""
             }
            }
           }
          ],
          "scatterpolar": [
           {
            "type": "scatterpolar",
            "marker": {
             "colorbar": {
              "outlinewidth": 0,
              "ticks": ""
             }
            }
           }
          ],
          "histogram": [
           {
            "marker": {
             "pattern": {
              "fillmode": "overlay",
              "size": 10,
              "solidity": 0.2
             }
            },
            "type": "histogram"
           }
          ],
          "scattergl": [
           {
            "marker": {
             "line": {
              "color": "#283442"
             }
            },
            "type": "scattergl"
           }
          ],
          "scatter3d": [
           {
            "type": "scatter3d",
            "line": {
             "colorbar": {
              "outlinewidth": 0,
              "ticks": ""
             }
            },
            "marker": {
             "colorbar": {
              "outlinewidth": 0,
              "ticks": ""
             }
            }
           }
          ],
          "scattermapbox": [
           {
            "type": "scattermapbox",
            "marker": {
             "colorbar": {
              "outlinewidth": 0,
              "ticks": ""
             }
            }
           }
          ],
          "scatterternary": [
           {
            "type": "scatterternary",
            "marker": {
             "colorbar": {
              "outlinewidth": 0,
              "ticks": ""
             }
            }
           }
          ],
          "scattercarpet": [
           {
            "type": "scattercarpet",
            "marker": {
             "colorbar": {
              "outlinewidth": 0,
              "ticks": ""
             }
            }
           }
          ],
          "carpet": [
           {
            "aaxis": {
             "endlinecolor": "#A2B1C6",
             "gridcolor": "#506784",
             "linecolor": "#506784",
             "minorgridcolor": "#506784",
             "startlinecolor": "#A2B1C6"
            },
            "baxis": {
             "endlinecolor": "#A2B1C6",
             "gridcolor": "#506784",
             "linecolor": "#506784",
             "minorgridcolor": "#506784",
             "startlinecolor": "#A2B1C6"
            },
            "type": "carpet"
           }
          ],
          "table": [
           {
            "cells": {
             "fill": {
              "color": "#506784"
             },
             "line": {
              "color": "rgb(17,17,17)"
             }
            },
            "header": {
             "fill": {
              "color": "#2a3f5f"
             },
             "line": {
              "color": "rgb(17,17,17)"
             }
            },
            "type": "table"
           }
          ],
          "barpolar": [
           {
            "marker": {
             "line": {
              "color": "rgb(17,17,17)",
              "width": 0.5
             },
             "pattern": {
              "fillmode": "overlay",
              "size": 10,
              "solidity": 0.2
             }
            },
            "type": "barpolar"
           }
          ],
          "pie": [
           {
            "automargin": true,
            "type": "pie"
           }
          ]
         },
         "layout": {
          "autotypenumbers": "strict",
          "colorway": [
           "#636efa",
           "#EF553B",
           "#00cc96",
           "#ab63fa",
           "#FFA15A",
           "#19d3f3",
           "#FF6692",
           "#B6E880",
           "#FF97FF",
           "#FECB52"
          ],
          "font": {
           "color": "#f2f5fa"
          },
          "hovermode": "closest",
          "hoverlabel": {
           "align": "left"
          },
          "paper_bgcolor": "rgb(17,17,17)",
          "plot_bgcolor": "rgb(17,17,17)",
          "polar": {
           "bgcolor": "rgb(17,17,17)",
           "angularaxis": {
            "gridcolor": "#506784",
            "linecolor": "#506784",
            "ticks": ""
           },
           "radialaxis": {
            "gridcolor": "#506784",
            "linecolor": "#506784",
            "ticks": ""
           }
          },
          "ternary": {
           "bgcolor": "rgb(17,17,17)",
           "aaxis": {
            "gridcolor": "#506784",
            "linecolor": "#506784",
            "ticks": ""
           },
           "baxis": {
            "gridcolor": "#506784",
            "linecolor": "#506784",
            "ticks": ""
           },
           "caxis": {
            "gridcolor": "#506784",
            "linecolor": "#506784",
            "ticks": ""
           }
          },
          "coloraxis": {
           "colorbar": {
            "outlinewidth": 0,
            "ticks": ""
           }
          },
          "colorscale": {
           "sequential": [
            [
             0.0,
             "#0d0887"
            ],
            [
             0.1111111111111111,
             "#46039f"
            ],
            [
             0.2222222222222222,
             "#7201a8"
            ],
            [
             0.3333333333333333,
             "#9c179e"
            ],
            [
             0.4444444444444444,
             "#bd3786"
            ],
            [
             0.5555555555555556,
             "#d8576b"
            ],
            [
             0.6666666666666666,
             "#ed7953"
            ],
            [
             0.7777777777777778,
             "#fb9f3a"
            ],
            [
             0.8888888888888888,
             "#fdca26"
            ],
            [
             1.0,
             "#f0f921"
            ]
           ],
           "sequentialminus": [
            [
             0.0,
             "#0d0887"
            ],
            [
             0.1111111111111111,
             "#46039f"
            ],
            [
             0.2222222222222222,
             "#7201a8"
            ],
            [
             0.3333333333333333,
             "#9c179e"
            ],
            [
             0.4444444444444444,
             "#bd3786"
            ],
            [
             0.5555555555555556,
             "#d8576b"
            ],
            [
             0.6666666666666666,
             "#ed7953"
            ],
            [
             0.7777777777777778,
             "#fb9f3a"
            ],
            [
             0.8888888888888888,
             "#fdca26"
            ],
            [
             1.0,
             "#f0f921"
            ]
           ],
           "diverging": [
            [
             0,
             "#8e0152"
            ],
            [
             0.1,
             "#c51b7d"
            ],
            [
             0.2,
             "#de77ae"
            ],
            [
             0.3,
             "#f1b6da"
            ],
            [
             0.4,
             "#fde0ef"
            ],
            [
             0.5,
             "#f7f7f7"
            ],
            [
             0.6,
             "#e6f5d0"
            ],
            [
             0.7,
             "#b8e186"
            ],
            [
             0.8,
             "#7fbc41"
            ],
            [
             0.9,
             "#4d9221"
            ],
            [
             1,
             "#276419"
            ]
           ]
          },
          "xaxis": {
           "gridcolor": "#283442",
           "linecolor": "#506784",
           "ticks": "",
           "title": {
            "standoff": 15
           },
           "zerolinecolor": "#283442",
           "automargin": true,
           "zerolinewidth": 2
          },
          "yaxis": {
           "gridcolor": "#283442",
           "linecolor": "#506784",
           "ticks": "",
           "title": {
            "standoff": 15
           },
           "zerolinecolor": "#283442",
           "automargin": true,
           "zerolinewidth": 2
          },
          "scene": {
           "xaxis": {
            "backgroundcolor": "rgb(17,17,17)",
            "gridcolor": "#506784",
            "linecolor": "#506784",
            "showbackground": true,
            "ticks": "",
            "zerolinecolor": "#C8D4E3",
            "gridwidth": 2
           },
           "yaxis": {
            "backgroundcolor": "rgb(17,17,17)",
            "gridcolor": "#506784",
            "linecolor": "#506784",
            "showbackground": true,
            "ticks": "",
            "zerolinecolor": "#C8D4E3",
            "gridwidth": 2
           },
           "zaxis": {
            "backgroundcolor": "rgb(17,17,17)",
            "gridcolor": "#506784",
            "linecolor": "#506784",
            "showbackground": true,
            "ticks": "",
            "zerolinecolor": "#C8D4E3",
            "gridwidth": 2
           }
          },
          "shapedefaults": {
           "line": {
            "color": "#f2f5fa"
           }
          },
          "annotationdefaults": {
           "arrowcolor": "#f2f5fa",
           "arrowhead": 0,
           "arrowwidth": 1
          },
          "geo": {
           "bgcolor": "rgb(17,17,17)",
           "landcolor": "rgb(17,17,17)",
           "subunitcolor": "#506784",
           "showland": true,
           "showlakes": true,
           "lakecolor": "rgb(17,17,17)"
          },
          "title": {
           "x": 0.05
          },
          "updatemenudefaults": {
           "bgcolor": "#506784",
           "borderwidth": 0
          },
          "sliderdefaults": {
           "bgcolor": "#C8D4E3",
           "borderwidth": 1,
           "bordercolor": "rgb(17,17,17)",
           "tickwidth": 0
          },
          "mapbox": {
           "style": "dark"
          }
         }
        },
        "margin": {
         "l": 20,
         "r": 20,
         "t": 20,
         "b": 20
        },
        "font": {
         "color": "black"
        },
        "height": 600,
        "width": 600,
        "paper_bgcolor": "white",
        "plot_bgcolor": "white",
        "showlegend": false
       },
       "config": {
        "plotlyServerURL": "https://plot.ly"
       }
      },
      "text/html": [
       "<div>                            <div id=\"5996fb3e-9bc4-466c-aed1-fe41e2407c8b\" class=\"plotly-graph-div\" style=\"height:600px; width:600px;\"></div>            <script type=\"text/javascript\">                require([\"plotly\"], function(Plotly) {                    window.PLOTLYENV=window.PLOTLYENV || {};                                    if (document.getElementById(\"5996fb3e-9bc4-466c-aed1-fe41e2407c8b\")) {                    Plotly.newPlot(                        \"5996fb3e-9bc4-466c-aed1-fe41e2407c8b\",                        [{\"hole\":0.3,\"insidetextorientation\":\"radial\",\"labels\":[\"SMCI\",\"NBPE.L\",\"6430.T\",\"EH\",\"7868.T\",\"ARLO\",\"OKTA\",\"GROW.L\",\"BCPT.L\",\"Other(106)\"],\"textinfo\":\"label+percent\",\"textposition\":\"inside\",\"values\":[0.0167,0.0235,0.0332,0.026,0.0189,0.0161,0.0151,0.0169,0.0193,0.5415],\"type\":\"pie\"}],                        {\"template\":{\"data\":{\"histogram2dcontour\":[{\"type\":\"histogram2dcontour\",\"colorbar\":{\"outlinewidth\":0,\"ticks\":\"\"},\"colorscale\":[[0.0,\"#0d0887\"],[0.1111111111111111,\"#46039f\"],[0.2222222222222222,\"#7201a8\"],[0.3333333333333333,\"#9c179e\"],[0.4444444444444444,\"#bd3786\"],[0.5555555555555556,\"#d8576b\"],[0.6666666666666666,\"#ed7953\"],[0.7777777777777778,\"#fb9f3a\"],[0.8888888888888888,\"#fdca26\"],[1.0,\"#f0f921\"]]}],\"choropleth\":[{\"type\":\"choropleth\",\"colorbar\":{\"outlinewidth\":0,\"ticks\":\"\"}}],\"histogram2d\":[{\"type\":\"histogram2d\",\"colorbar\":{\"outlinewidth\":0,\"ticks\":\"\"},\"colorscale\":[[0.0,\"#0d0887\"],[0.1111111111111111,\"#46039f\"],[0.2222222222222222,\"#7201a8\"],[0.3333333333333333,\"#9c179e\"],[0.4444444444444444,\"#bd3786\"],[0.5555555555555556,\"#d8576b\"],[0.6666666666666666,\"#ed7953\"],[0.7777777777777778,\"#fb9f3a\"],[0.8888888888888888,\"#fdca26\"],[1.0,\"#f0f921\"]]}],\"heatmap\":[{\"type\":\"heatmap\",\"colorbar\":{\"outlinewidth\":0,\"ticks\":\"\"},\"colorscale\":[[0.0,\"#0d0887\"],[0.1111111111111111,\"#46039f\"],[0.2222222222222222,\"#7201a8\"],[0.3333333333333333,\"#9c179e\"],[0.4444444444444444,\"#bd3786\"],[0.5555555555555556,\"#d8576b\"],[0.6666666666666666,\"#ed7953\"],[0.7777777777777778,\"#fb9f3a\"],[0.8888888888888888,\"#fdca26\"],[1.0,\"#f0f921\"]]}],\"heatmapgl\":[{\"type\":\"heatmapgl\",\"colorbar\":{\"outlinewidth\":0,\"ticks\":\"\"},\"colorscale\":[[0.0,\"#0d0887\"],[0.1111111111111111,\"#46039f\"],[0.2222222222222222,\"#7201a8\"],[0.3333333333333333,\"#9c179e\"],[0.4444444444444444,\"#bd3786\"],[0.5555555555555556,\"#d8576b\"],[0.6666666666666666,\"#ed7953\"],[0.7777777777777778,\"#fb9f3a\"],[0.8888888888888888,\"#fdca26\"],[1.0,\"#f0f921\"]]}],\"contourcarpet\":[{\"type\":\"contourcarpet\",\"colorbar\":{\"outlinewidth\":0,\"ticks\":\"\"}}],\"contour\":[{\"type\":\"contour\",\"colorbar\":{\"outlinewidth\":0,\"ticks\":\"\"},\"colorscale\":[[0.0,\"#0d0887\"],[0.1111111111111111,\"#46039f\"],[0.2222222222222222,\"#7201a8\"],[0.3333333333333333,\"#9c179e\"],[0.4444444444444444,\"#bd3786\"],[0.5555555555555556,\"#d8576b\"],[0.6666666666666666,\"#ed7953\"],[0.7777777777777778,\"#fb9f3a\"],[0.8888888888888888,\"#fdca26\"],[1.0,\"#f0f921\"]]}],\"surface\":[{\"type\":\"surface\",\"colorbar\":{\"outlinewidth\":0,\"ticks\":\"\"},\"colorscale\":[[0.0,\"#0d0887\"],[0.1111111111111111,\"#46039f\"],[0.2222222222222222,\"#7201a8\"],[0.3333333333333333,\"#9c179e\"],[0.4444444444444444,\"#bd3786\"],[0.5555555555555556,\"#d8576b\"],[0.6666666666666666,\"#ed7953\"],[0.7777777777777778,\"#fb9f3a\"],[0.8888888888888888,\"#fdca26\"],[1.0,\"#f0f921\"]]}],\"mesh3d\":[{\"type\":\"mesh3d\",\"colorbar\":{\"outlinewidth\":0,\"ticks\":\"\"}}],\"scatter\":[{\"marker\":{\"line\":{\"color\":\"#283442\"}},\"type\":\"scatter\"}],\"parcoords\":[{\"type\":\"parcoords\",\"line\":{\"colorbar\":{\"outlinewidth\":0,\"ticks\":\"\"}}}],\"scatterpolargl\":[{\"type\":\"scatterpolargl\",\"marker\":{\"colorbar\":{\"outlinewidth\":0,\"ticks\":\"\"}}}],\"bar\":[{\"error_x\":{\"color\":\"#f2f5fa\"},\"error_y\":{\"color\":\"#f2f5fa\"},\"marker\":{\"line\":{\"color\":\"rgb(17,17,17)\",\"width\":0.5},\"pattern\":{\"fillmode\":\"overlay\",\"size\":10,\"solidity\":0.2}},\"type\":\"bar\"}],\"scattergeo\":[{\"type\":\"scattergeo\",\"marker\":{\"colorbar\":{\"outlinewidth\":0,\"ticks\":\"\"}}}],\"scatterpolar\":[{\"type\":\"scatterpolar\",\"marker\":{\"colorbar\":{\"outlinewidth\":0,\"ticks\":\"\"}}}],\"histogram\":[{\"marker\":{\"pattern\":{\"fillmode\":\"overlay\",\"size\":10,\"solidity\":0.2}},\"type\":\"histogram\"}],\"scattergl\":[{\"marker\":{\"line\":{\"color\":\"#283442\"}},\"type\":\"scattergl\"}],\"scatter3d\":[{\"type\":\"scatter3d\",\"line\":{\"colorbar\":{\"outlinewidth\":0,\"ticks\":\"\"}},\"marker\":{\"colorbar\":{\"outlinewidth\":0,\"ticks\":\"\"}}}],\"scattermapbox\":[{\"type\":\"scattermapbox\",\"marker\":{\"colorbar\":{\"outlinewidth\":0,\"ticks\":\"\"}}}],\"scatterternary\":[{\"type\":\"scatterternary\",\"marker\":{\"colorbar\":{\"outlinewidth\":0,\"ticks\":\"\"}}}],\"scattercarpet\":[{\"type\":\"scattercarpet\",\"marker\":{\"colorbar\":{\"outlinewidth\":0,\"ticks\":\"\"}}}],\"carpet\":[{\"aaxis\":{\"endlinecolor\":\"#A2B1C6\",\"gridcolor\":\"#506784\",\"linecolor\":\"#506784\",\"minorgridcolor\":\"#506784\",\"startlinecolor\":\"#A2B1C6\"},\"baxis\":{\"endlinecolor\":\"#A2B1C6\",\"gridcolor\":\"#506784\",\"linecolor\":\"#506784\",\"minorgridcolor\":\"#506784\",\"startlinecolor\":\"#A2B1C6\"},\"type\":\"carpet\"}],\"table\":[{\"cells\":{\"fill\":{\"color\":\"#506784\"},\"line\":{\"color\":\"rgb(17,17,17)\"}},\"header\":{\"fill\":{\"color\":\"#2a3f5f\"},\"line\":{\"color\":\"rgb(17,17,17)\"}},\"type\":\"table\"}],\"barpolar\":[{\"marker\":{\"line\":{\"color\":\"rgb(17,17,17)\",\"width\":0.5},\"pattern\":{\"fillmode\":\"overlay\",\"size\":10,\"solidity\":0.2}},\"type\":\"barpolar\"}],\"pie\":[{\"automargin\":true,\"type\":\"pie\"}]},\"layout\":{\"autotypenumbers\":\"strict\",\"colorway\":[\"#636efa\",\"#EF553B\",\"#00cc96\",\"#ab63fa\",\"#FFA15A\",\"#19d3f3\",\"#FF6692\",\"#B6E880\",\"#FF97FF\",\"#FECB52\"],\"font\":{\"color\":\"#f2f5fa\"},\"hovermode\":\"closest\",\"hoverlabel\":{\"align\":\"left\"},\"paper_bgcolor\":\"rgb(17,17,17)\",\"plot_bgcolor\":\"rgb(17,17,17)\",\"polar\":{\"bgcolor\":\"rgb(17,17,17)\",\"angularaxis\":{\"gridcolor\":\"#506784\",\"linecolor\":\"#506784\",\"ticks\":\"\"},\"radialaxis\":{\"gridcolor\":\"#506784\",\"linecolor\":\"#506784\",\"ticks\":\"\"}},\"ternary\":{\"bgcolor\":\"rgb(17,17,17)\",\"aaxis\":{\"gridcolor\":\"#506784\",\"linecolor\":\"#506784\",\"ticks\":\"\"},\"baxis\":{\"gridcolor\":\"#506784\",\"linecolor\":\"#506784\",\"ticks\":\"\"},\"caxis\":{\"gridcolor\":\"#506784\",\"linecolor\":\"#506784\",\"ticks\":\"\"}},\"coloraxis\":{\"colorbar\":{\"outlinewidth\":0,\"ticks\":\"\"}},\"colorscale\":{\"sequential\":[[0.0,\"#0d0887\"],[0.1111111111111111,\"#46039f\"],[0.2222222222222222,\"#7201a8\"],[0.3333333333333333,\"#9c179e\"],[0.4444444444444444,\"#bd3786\"],[0.5555555555555556,\"#d8576b\"],[0.6666666666666666,\"#ed7953\"],[0.7777777777777778,\"#fb9f3a\"],[0.8888888888888888,\"#fdca26\"],[1.0,\"#f0f921\"]],\"sequentialminus\":[[0.0,\"#0d0887\"],[0.1111111111111111,\"#46039f\"],[0.2222222222222222,\"#7201a8\"],[0.3333333333333333,\"#9c179e\"],[0.4444444444444444,\"#bd3786\"],[0.5555555555555556,\"#d8576b\"],[0.6666666666666666,\"#ed7953\"],[0.7777777777777778,\"#fb9f3a\"],[0.8888888888888888,\"#fdca26\"],[1.0,\"#f0f921\"]],\"diverging\":[[0,\"#8e0152\"],[0.1,\"#c51b7d\"],[0.2,\"#de77ae\"],[0.3,\"#f1b6da\"],[0.4,\"#fde0ef\"],[0.5,\"#f7f7f7\"],[0.6,\"#e6f5d0\"],[0.7,\"#b8e186\"],[0.8,\"#7fbc41\"],[0.9,\"#4d9221\"],[1,\"#276419\"]]},\"xaxis\":{\"gridcolor\":\"#283442\",\"linecolor\":\"#506784\",\"ticks\":\"\",\"title\":{\"standoff\":15},\"zerolinecolor\":\"#283442\",\"automargin\":true,\"zerolinewidth\":2},\"yaxis\":{\"gridcolor\":\"#283442\",\"linecolor\":\"#506784\",\"ticks\":\"\",\"title\":{\"standoff\":15},\"zerolinecolor\":\"#283442\",\"automargin\":true,\"zerolinewidth\":2},\"scene\":{\"xaxis\":{\"backgroundcolor\":\"rgb(17,17,17)\",\"gridcolor\":\"#506784\",\"linecolor\":\"#506784\",\"showbackground\":true,\"ticks\":\"\",\"zerolinecolor\":\"#C8D4E3\",\"gridwidth\":2},\"yaxis\":{\"backgroundcolor\":\"rgb(17,17,17)\",\"gridcolor\":\"#506784\",\"linecolor\":\"#506784\",\"showbackground\":true,\"ticks\":\"\",\"zerolinecolor\":\"#C8D4E3\",\"gridwidth\":2},\"zaxis\":{\"backgroundcolor\":\"rgb(17,17,17)\",\"gridcolor\":\"#506784\",\"linecolor\":\"#506784\",\"showbackground\":true,\"ticks\":\"\",\"zerolinecolor\":\"#C8D4E3\",\"gridwidth\":2}},\"shapedefaults\":{\"line\":{\"color\":\"#f2f5fa\"}},\"annotationdefaults\":{\"arrowcolor\":\"#f2f5fa\",\"arrowhead\":0,\"arrowwidth\":1},\"geo\":{\"bgcolor\":\"rgb(17,17,17)\",\"landcolor\":\"rgb(17,17,17)\",\"subunitcolor\":\"#506784\",\"showland\":true,\"showlakes\":true,\"lakecolor\":\"rgb(17,17,17)\"},\"title\":{\"x\":0.05},\"updatemenudefaults\":{\"bgcolor\":\"#506784\",\"borderwidth\":0},\"sliderdefaults\":{\"bgcolor\":\"#C8D4E3\",\"borderwidth\":1,\"bordercolor\":\"rgb(17,17,17)\",\"tickwidth\":0},\"mapbox\":{\"style\":\"dark\"}}},\"margin\":{\"l\":20,\"r\":20,\"t\":20,\"b\":20},\"font\":{\"color\":\"black\"},\"height\":600,\"width\":600,\"paper_bgcolor\":\"white\",\"plot_bgcolor\":\"white\",\"showlegend\":false},                        {\"responsive\": true}                    ).then(function(){\n",
       "                            \n",
       "var gd = document.getElementById('5996fb3e-9bc4-466c-aed1-fe41e2407c8b');\n",
       "var x = new MutationObserver(function (mutations, observer) {{\n",
       "        var display = window.getComputedStyle(gd).display;\n",
       "        if (!display || display === 'none') {{\n",
       "            console.log([gd, 'removed!']);\n",
       "            Plotly.purge(gd);\n",
       "            observer.disconnect();\n",
       "        }}\n",
       "}});\n",
       "\n",
       "// Listen for the removal of the full notebook cells\n",
       "var notebookContainer = gd.closest('#notebook-container');\n",
       "if (notebookContainer) {{\n",
       "    x.observe(notebookContainer, {childList: true});\n",
       "}}\n",
       "\n",
       "// Listen for the clearing of the current output cell\n",
       "var outputEl = gd.closest('.output');\n",
       "if (outputEl) {{\n",
       "    x.observe(outputEl, {childList: true});\n",
       "}}\n",
       "\n",
       "                        })                };                });            </script>        </div>"
      ]
     },
     "metadata": {},
     "output_type": "display_data"
    },
    {
     "data": {
      "text/plain": [
       "<module 'utilities.mpt_utils' from '/Users/herbishtini/Documents/UNI/Master Thesis/sustainability_portfolio_optimisation/utilities/mpt_utils.py'>"
      ]
     },
     "execution_count": 78,
     "metadata": {},
     "output_type": "execute_result"
    }
   ],
   "execution_count": 78
  },
  {
   "metadata": {
    "ExecuteTime": {
     "end_time": "2025-06-15T21:24:55.533451Z",
     "start_time": "2025-06-15T21:24:55.516080Z"
    }
   },
   "cell_type": "code",
   "source": [
    "# Create overview\n",
    "df_view_6m = mpt_utils.generate_overview_table(weights_all_6m, mu_6m, S_6m, df_pct)\n",
    "df_view_6m"
   ],
   "id": "145141f615e88016",
   "outputs": [
    {
     "data": {
      "text/plain": [
       "        Share Count  Average Covariance Average Returns Return Last 12 Months  \\\n",
       "6430.T           10       -1.140351e-03         258.67%               209.51%   \n",
       "EH               16       -1.026316e-02          45.12%               268.11%   \n",
       "NBPE.L            1       -4.298246e-03         346.37%                -0.25%   \n",
       "BCPT.L            2       -8.596491e-03          22.51%               -23.90%   \n",
       "7868.T           52       -1.228070e-03          40.73%                95.94%   \n",
       "...             ...                 ...             ...                   ...   \n",
       "9832.T            1        1.052632e-03          20.83%                14.24%   \n",
       "6744.T            1        8.771930e-05          39.70%                16.45%   \n",
       "4218.T            1        4.108556e-19           7.75%                 9.86%   \n",
       "2715.T            1        8.771930e-04          45.77%                15.64%   \n",
       "8818.T            1        5.263158e-04          20.44%                 8.82%   \n",
       "\n",
       "       Return (Actual) Next 12 Months  \n",
       "6430.T                        -37.68%  \n",
       "EH                            -36.03%  \n",
       "NBPE.L                        -28.42%  \n",
       "BCPT.L                        -16.03%  \n",
       "7868.T                        -16.15%  \n",
       "...                               ...  \n",
       "9832.T                         -2.99%  \n",
       "6744.T                         49.27%  \n",
       "4218.T                          7.02%  \n",
       "2715.T                         -3.01%  \n",
       "8818.T                         17.35%  \n",
       "\n",
       "[115 rows x 5 columns]"
      ],
      "text/html": [
       "<div>\n",
       "<style scoped>\n",
       "    .dataframe tbody tr th:only-of-type {\n",
       "        vertical-align: middle;\n",
       "    }\n",
       "\n",
       "    .dataframe tbody tr th {\n",
       "        vertical-align: top;\n",
       "    }\n",
       "\n",
       "    .dataframe thead th {\n",
       "        text-align: right;\n",
       "    }\n",
       "</style>\n",
       "<table border=\"1\" class=\"dataframe\">\n",
       "  <thead>\n",
       "    <tr style=\"text-align: right;\">\n",
       "      <th></th>\n",
       "      <th>Share Count</th>\n",
       "      <th>Average Covariance</th>\n",
       "      <th>Average Returns</th>\n",
       "      <th>Return Last 12 Months</th>\n",
       "      <th>Return (Actual) Next 12 Months</th>\n",
       "    </tr>\n",
       "  </thead>\n",
       "  <tbody>\n",
       "    <tr>\n",
       "      <th>6430.T</th>\n",
       "      <td>10</td>\n",
       "      <td>-1.140351e-03</td>\n",
       "      <td>258.67%</td>\n",
       "      <td>209.51%</td>\n",
       "      <td>-37.68%</td>\n",
       "    </tr>\n",
       "    <tr>\n",
       "      <th>EH</th>\n",
       "      <td>16</td>\n",
       "      <td>-1.026316e-02</td>\n",
       "      <td>45.12%</td>\n",
       "      <td>268.11%</td>\n",
       "      <td>-36.03%</td>\n",
       "    </tr>\n",
       "    <tr>\n",
       "      <th>NBPE.L</th>\n",
       "      <td>1</td>\n",
       "      <td>-4.298246e-03</td>\n",
       "      <td>346.37%</td>\n",
       "      <td>-0.25%</td>\n",
       "      <td>-28.42%</td>\n",
       "    </tr>\n",
       "    <tr>\n",
       "      <th>BCPT.L</th>\n",
       "      <td>2</td>\n",
       "      <td>-8.596491e-03</td>\n",
       "      <td>22.51%</td>\n",
       "      <td>-23.90%</td>\n",
       "      <td>-16.03%</td>\n",
       "    </tr>\n",
       "    <tr>\n",
       "      <th>7868.T</th>\n",
       "      <td>52</td>\n",
       "      <td>-1.228070e-03</td>\n",
       "      <td>40.73%</td>\n",
       "      <td>95.94%</td>\n",
       "      <td>-16.15%</td>\n",
       "    </tr>\n",
       "    <tr>\n",
       "      <th>...</th>\n",
       "      <td>...</td>\n",
       "      <td>...</td>\n",
       "      <td>...</td>\n",
       "      <td>...</td>\n",
       "      <td>...</td>\n",
       "    </tr>\n",
       "    <tr>\n",
       "      <th>9832.T</th>\n",
       "      <td>1</td>\n",
       "      <td>1.052632e-03</td>\n",
       "      <td>20.83%</td>\n",
       "      <td>14.24%</td>\n",
       "      <td>-2.99%</td>\n",
       "    </tr>\n",
       "    <tr>\n",
       "      <th>6744.T</th>\n",
       "      <td>1</td>\n",
       "      <td>8.771930e-05</td>\n",
       "      <td>39.70%</td>\n",
       "      <td>16.45%</td>\n",
       "      <td>49.27%</td>\n",
       "    </tr>\n",
       "    <tr>\n",
       "      <th>4218.T</th>\n",
       "      <td>1</td>\n",
       "      <td>4.108556e-19</td>\n",
       "      <td>7.75%</td>\n",
       "      <td>9.86%</td>\n",
       "      <td>7.02%</td>\n",
       "    </tr>\n",
       "    <tr>\n",
       "      <th>2715.T</th>\n",
       "      <td>1</td>\n",
       "      <td>8.771930e-04</td>\n",
       "      <td>45.77%</td>\n",
       "      <td>15.64%</td>\n",
       "      <td>-3.01%</td>\n",
       "    </tr>\n",
       "    <tr>\n",
       "      <th>8818.T</th>\n",
       "      <td>1</td>\n",
       "      <td>5.263158e-04</td>\n",
       "      <td>20.44%</td>\n",
       "      <td>8.82%</td>\n",
       "      <td>17.35%</td>\n",
       "    </tr>\n",
       "  </tbody>\n",
       "</table>\n",
       "<p>115 rows × 5 columns</p>\n",
       "</div>"
      ]
     },
     "execution_count": 79,
     "metadata": {},
     "output_type": "execute_result"
    }
   ],
   "execution_count": 79
  },
  {
   "metadata": {},
   "cell_type": "markdown",
   "source": "### 12 Months",
   "id": "8e432d9e81d3bf8f"
  },
  {
   "cell_type": "code",
   "id": "initial_id",
   "metadata": {
    "collapsed": true,
    "ExecuteTime": {
     "end_time": "2025-06-15T21:24:56.236162Z",
     "start_time": "2025-06-15T21:24:55.592162Z"
    }
   },
   "source": [
    "importlib.reload(mpt_utils)\n",
    "#\n",
    "df_portfolio_12m = df_train_12m.tail(variables.PORTF_ALLOC_YEARS_NR * 12)\n",
    "weights_12m, mu_12m, S_12m, weights_all_12m = mpt_utils.benchmark_portfolio_and_plot(df_portfolio_12m)\n",
    "importlib.reload(mpt_utils)"
   ],
   "outputs": [
    {
     "name": "stdout",
     "output_type": "stream",
     "text": [
      "Expected annual return: 42.4%\n",
      "Annual volatility: 4.3%\n",
      "Sharpe Ratio: 9.47\n",
      "-- Allocation --\n",
      "{'LRN': 12, '2670.T': 27, 'VRTX': 1, 'ADV.DE': 20, '6430.T': 10, '2784.T': 20, '8923.T': 26, 'SMCI': 1, '2685.T': 16, '6417.T': 32, '7433.T': 8, '7868.T': 70, '7451.T': 11, '3191.T': 24, '6460.T': 14, 'MCK': 1, '2767.T': 18, '8060.T': 9, 'GKOS': 3, '8129.T': 10, '3050.T': 28, 'TAL': 24, '7734.T': 10, '3086.T': 21, 'HLN.L': 1, '7552.T': 11, 'MEGP.L': 1, 'BEZ.L': 1, 'QLYS': 1, 'HNR1.DE': 1, '6183.T': 13, 'SFM': 3, 'BCPT.L': 1, '2395.T': 10, '7867.T': 8, '7906.T': 10, '7984.T': 7, '7976.T': 8, 'AGYS': 2, '3048.T': 14, '3659.T': 5, '9024.T': 10, '9433.T': 3, 'CLMB': 2, 'PRO': 2, '8897.T': 24, '8056.T': 2, '3626.T': 2, '9869.T': 1, 'BIJ.DE': 1, '3186.T': 1, '7762.T': 3, '8219.T': 1}\n",
      "-- Weights Percentage --\n",
      "{'8923.T': 0.0316, 'SMCI': 0.0311, 'VRTX': 0.0464, '2685.T': 0.0306, 'ADV.DE': 0.0428, '2767.T': 0.0236, '6430.T': 0.0348, '2670.T': 0.0472, 'MCK': 0.0245, '7734.T': 0.0207, 'TAL': 0.0208, '6460.T': 0.0256, '8129.T': 0.0226, 'LRN': 0.0521, 'GKOS': 0.0229, '7868.T': 0.0265, '3086.T': 0.0206, '7433.T': 0.0268, '6417.T': 0.0271, '8060.T': 0.0231, '3050.T': 0.0215, '2784.T': 0.0325, '3191.T': 0.0265, '7451.T': 0.0265, 'HLN.L': 0.0204, 'Other(28)': 0.2711}\n"
     ]
    },
    {
     "data": {
      "application/vnd.plotly.v1+json": {
       "data": [
        {
         "hole": 0.3,
         "insidetextorientation": "radial",
         "labels": [
          "8923.T",
          "SMCI",
          "VRTX",
          "2685.T",
          "ADV.DE",
          "2767.T",
          "6430.T",
          "2670.T",
          "MCK",
          "7734.T",
          "TAL",
          "6460.T",
          "8129.T",
          "LRN",
          "GKOS",
          "7868.T",
          "3086.T",
          "7433.T",
          "6417.T",
          "8060.T",
          "3050.T",
          "2784.T",
          "3191.T",
          "7451.T",
          "HLN.L",
          "Other(28)"
         ],
         "textinfo": "label+percent",
         "textposition": "inside",
         "values": [
          0.0304,
          0.0299,
          0.0446,
          0.0294,
          0.0411,
          0.0227,
          0.0334,
          0.0453,
          0.0235,
          0.0199,
          0.02,
          0.0246,
          0.0217,
          0.05,
          0.022,
          0.0255,
          0.0198,
          0.0257,
          0.026,
          0.0222,
          0.0207,
          0.0312,
          0.0255,
          0.0255,
          0.0196,
          0.2604
         ],
         "type": "pie"
        }
       ],
       "layout": {
        "template": {
         "data": {
          "histogram2dcontour": [
           {
            "type": "histogram2dcontour",
            "colorbar": {
             "outlinewidth": 0,
             "ticks": ""
            },
            "colorscale": [
             [
              0.0,
              "#0d0887"
             ],
             [
              0.1111111111111111,
              "#46039f"
             ],
             [
              0.2222222222222222,
              "#7201a8"
             ],
             [
              0.3333333333333333,
              "#9c179e"
             ],
             [
              0.4444444444444444,
              "#bd3786"
             ],
             [
              0.5555555555555556,
              "#d8576b"
             ],
             [
              0.6666666666666666,
              "#ed7953"
             ],
             [
              0.7777777777777778,
              "#fb9f3a"
             ],
             [
              0.8888888888888888,
              "#fdca26"
             ],
             [
              1.0,
              "#f0f921"
             ]
            ]
           }
          ],
          "choropleth": [
           {
            "type": "choropleth",
            "colorbar": {
             "outlinewidth": 0,
             "ticks": ""
            }
           }
          ],
          "histogram2d": [
           {
            "type": "histogram2d",
            "colorbar": {
             "outlinewidth": 0,
             "ticks": ""
            },
            "colorscale": [
             [
              0.0,
              "#0d0887"
             ],
             [
              0.1111111111111111,
              "#46039f"
             ],
             [
              0.2222222222222222,
              "#7201a8"
             ],
             [
              0.3333333333333333,
              "#9c179e"
             ],
             [
              0.4444444444444444,
              "#bd3786"
             ],
             [
              0.5555555555555556,
              "#d8576b"
             ],
             [
              0.6666666666666666,
              "#ed7953"
             ],
             [
              0.7777777777777778,
              "#fb9f3a"
             ],
             [
              0.8888888888888888,
              "#fdca26"
             ],
             [
              1.0,
              "#f0f921"
             ]
            ]
           }
          ],
          "heatmap": [
           {
            "type": "heatmap",
            "colorbar": {
             "outlinewidth": 0,
             "ticks": ""
            },
            "colorscale": [
             [
              0.0,
              "#0d0887"
             ],
             [
              0.1111111111111111,
              "#46039f"
             ],
             [
              0.2222222222222222,
              "#7201a8"
             ],
             [
              0.3333333333333333,
              "#9c179e"
             ],
             [
              0.4444444444444444,
              "#bd3786"
             ],
             [
              0.5555555555555556,
              "#d8576b"
             ],
             [
              0.6666666666666666,
              "#ed7953"
             ],
             [
              0.7777777777777778,
              "#fb9f3a"
             ],
             [
              0.8888888888888888,
              "#fdca26"
             ],
             [
              1.0,
              "#f0f921"
             ]
            ]
           }
          ],
          "heatmapgl": [
           {
            "type": "heatmapgl",
            "colorbar": {
             "outlinewidth": 0,
             "ticks": ""
            },
            "colorscale": [
             [
              0.0,
              "#0d0887"
             ],
             [
              0.1111111111111111,
              "#46039f"
             ],
             [
              0.2222222222222222,
              "#7201a8"
             ],
             [
              0.3333333333333333,
              "#9c179e"
             ],
             [
              0.4444444444444444,
              "#bd3786"
             ],
             [
              0.5555555555555556,
              "#d8576b"
             ],
             [
              0.6666666666666666,
              "#ed7953"
             ],
             [
              0.7777777777777778,
              "#fb9f3a"
             ],
             [
              0.8888888888888888,
              "#fdca26"
             ],
             [
              1.0,
              "#f0f921"
             ]
            ]
           }
          ],
          "contourcarpet": [
           {
            "type": "contourcarpet",
            "colorbar": {
             "outlinewidth": 0,
             "ticks": ""
            }
           }
          ],
          "contour": [
           {
            "type": "contour",
            "colorbar": {
             "outlinewidth": 0,
             "ticks": ""
            },
            "colorscale": [
             [
              0.0,
              "#0d0887"
             ],
             [
              0.1111111111111111,
              "#46039f"
             ],
             [
              0.2222222222222222,
              "#7201a8"
             ],
             [
              0.3333333333333333,
              "#9c179e"
             ],
             [
              0.4444444444444444,
              "#bd3786"
             ],
             [
              0.5555555555555556,
              "#d8576b"
             ],
             [
              0.6666666666666666,
              "#ed7953"
             ],
             [
              0.7777777777777778,
              "#fb9f3a"
             ],
             [
              0.8888888888888888,
              "#fdca26"
             ],
             [
              1.0,
              "#f0f921"
             ]
            ]
           }
          ],
          "surface": [
           {
            "type": "surface",
            "colorbar": {
             "outlinewidth": 0,
             "ticks": ""
            },
            "colorscale": [
             [
              0.0,
              "#0d0887"
             ],
             [
              0.1111111111111111,
              "#46039f"
             ],
             [
              0.2222222222222222,
              "#7201a8"
             ],
             [
              0.3333333333333333,
              "#9c179e"
             ],
             [
              0.4444444444444444,
              "#bd3786"
             ],
             [
              0.5555555555555556,
              "#d8576b"
             ],
             [
              0.6666666666666666,
              "#ed7953"
             ],
             [
              0.7777777777777778,
              "#fb9f3a"
             ],
             [
              0.8888888888888888,
              "#fdca26"
             ],
             [
              1.0,
              "#f0f921"
             ]
            ]
           }
          ],
          "mesh3d": [
           {
            "type": "mesh3d",
            "colorbar": {
             "outlinewidth": 0,
             "ticks": ""
            }
           }
          ],
          "scatter": [
           {
            "marker": {
             "line": {
              "color": "#283442"
             }
            },
            "type": "scatter"
           }
          ],
          "parcoords": [
           {
            "type": "parcoords",
            "line": {
             "colorbar": {
              "outlinewidth": 0,
              "ticks": ""
             }
            }
           }
          ],
          "scatterpolargl": [
           {
            "type": "scatterpolargl",
            "marker": {
             "colorbar": {
              "outlinewidth": 0,
              "ticks": ""
             }
            }
           }
          ],
          "bar": [
           {
            "error_x": {
             "color": "#f2f5fa"
            },
            "error_y": {
             "color": "#f2f5fa"
            },
            "marker": {
             "line": {
              "color": "rgb(17,17,17)",
              "width": 0.5
             },
             "pattern": {
              "fillmode": "overlay",
              "size": 10,
              "solidity": 0.2
             }
            },
            "type": "bar"
           }
          ],
          "scattergeo": [
           {
            "type": "scattergeo",
            "marker": {
             "colorbar": {
              "outlinewidth": 0,
              "ticks": ""
             }
            }
           }
          ],
          "scatterpolar": [
           {
            "type": "scatterpolar",
            "marker": {
             "colorbar": {
              "outlinewidth": 0,
              "ticks": ""
             }
            }
           }
          ],
          "histogram": [
           {
            "marker": {
             "pattern": {
              "fillmode": "overlay",
              "size": 10,
              "solidity": 0.2
             }
            },
            "type": "histogram"
           }
          ],
          "scattergl": [
           {
            "marker": {
             "line": {
              "color": "#283442"
             }
            },
            "type": "scattergl"
           }
          ],
          "scatter3d": [
           {
            "type": "scatter3d",
            "line": {
             "colorbar": {
              "outlinewidth": 0,
              "ticks": ""
             }
            },
            "marker": {
             "colorbar": {
              "outlinewidth": 0,
              "ticks": ""
             }
            }
           }
          ],
          "scattermapbox": [
           {
            "type": "scattermapbox",
            "marker": {
             "colorbar": {
              "outlinewidth": 0,
              "ticks": ""
             }
            }
           }
          ],
          "scatterternary": [
           {
            "type": "scatterternary",
            "marker": {
             "colorbar": {
              "outlinewidth": 0,
              "ticks": ""
             }
            }
           }
          ],
          "scattercarpet": [
           {
            "type": "scattercarpet",
            "marker": {
             "colorbar": {
              "outlinewidth": 0,
              "ticks": ""
             }
            }
           }
          ],
          "carpet": [
           {
            "aaxis": {
             "endlinecolor": "#A2B1C6",
             "gridcolor": "#506784",
             "linecolor": "#506784",
             "minorgridcolor": "#506784",
             "startlinecolor": "#A2B1C6"
            },
            "baxis": {
             "endlinecolor": "#A2B1C6",
             "gridcolor": "#506784",
             "linecolor": "#506784",
             "minorgridcolor": "#506784",
             "startlinecolor": "#A2B1C6"
            },
            "type": "carpet"
           }
          ],
          "table": [
           {
            "cells": {
             "fill": {
              "color": "#506784"
             },
             "line": {
              "color": "rgb(17,17,17)"
             }
            },
            "header": {
             "fill": {
              "color": "#2a3f5f"
             },
             "line": {
              "color": "rgb(17,17,17)"
             }
            },
            "type": "table"
           }
          ],
          "barpolar": [
           {
            "marker": {
             "line": {
              "color": "rgb(17,17,17)",
              "width": 0.5
             },
             "pattern": {
              "fillmode": "overlay",
              "size": 10,
              "solidity": 0.2
             }
            },
            "type": "barpolar"
           }
          ],
          "pie": [
           {
            "automargin": true,
            "type": "pie"
           }
          ]
         },
         "layout": {
          "autotypenumbers": "strict",
          "colorway": [
           "#636efa",
           "#EF553B",
           "#00cc96",
           "#ab63fa",
           "#FFA15A",
           "#19d3f3",
           "#FF6692",
           "#B6E880",
           "#FF97FF",
           "#FECB52"
          ],
          "font": {
           "color": "#f2f5fa"
          },
          "hovermode": "closest",
          "hoverlabel": {
           "align": "left"
          },
          "paper_bgcolor": "rgb(17,17,17)",
          "plot_bgcolor": "rgb(17,17,17)",
          "polar": {
           "bgcolor": "rgb(17,17,17)",
           "angularaxis": {
            "gridcolor": "#506784",
            "linecolor": "#506784",
            "ticks": ""
           },
           "radialaxis": {
            "gridcolor": "#506784",
            "linecolor": "#506784",
            "ticks": ""
           }
          },
          "ternary": {
           "bgcolor": "rgb(17,17,17)",
           "aaxis": {
            "gridcolor": "#506784",
            "linecolor": "#506784",
            "ticks": ""
           },
           "baxis": {
            "gridcolor": "#506784",
            "linecolor": "#506784",
            "ticks": ""
           },
           "caxis": {
            "gridcolor": "#506784",
            "linecolor": "#506784",
            "ticks": ""
           }
          },
          "coloraxis": {
           "colorbar": {
            "outlinewidth": 0,
            "ticks": ""
           }
          },
          "colorscale": {
           "sequential": [
            [
             0.0,
             "#0d0887"
            ],
            [
             0.1111111111111111,
             "#46039f"
            ],
            [
             0.2222222222222222,
             "#7201a8"
            ],
            [
             0.3333333333333333,
             "#9c179e"
            ],
            [
             0.4444444444444444,
             "#bd3786"
            ],
            [
             0.5555555555555556,
             "#d8576b"
            ],
            [
             0.6666666666666666,
             "#ed7953"
            ],
            [
             0.7777777777777778,
             "#fb9f3a"
            ],
            [
             0.8888888888888888,
             "#fdca26"
            ],
            [
             1.0,
             "#f0f921"
            ]
           ],
           "sequentialminus": [
            [
             0.0,
             "#0d0887"
            ],
            [
             0.1111111111111111,
             "#46039f"
            ],
            [
             0.2222222222222222,
             "#7201a8"
            ],
            [
             0.3333333333333333,
             "#9c179e"
            ],
            [
             0.4444444444444444,
             "#bd3786"
            ],
            [
             0.5555555555555556,
             "#d8576b"
            ],
            [
             0.6666666666666666,
             "#ed7953"
            ],
            [
             0.7777777777777778,
             "#fb9f3a"
            ],
            [
             0.8888888888888888,
             "#fdca26"
            ],
            [
             1.0,
             "#f0f921"
            ]
           ],
           "diverging": [
            [
             0,
             "#8e0152"
            ],
            [
             0.1,
             "#c51b7d"
            ],
            [
             0.2,
             "#de77ae"
            ],
            [
             0.3,
             "#f1b6da"
            ],
            [
             0.4,
             "#fde0ef"
            ],
            [
             0.5,
             "#f7f7f7"
            ],
            [
             0.6,
             "#e6f5d0"
            ],
            [
             0.7,
             "#b8e186"
            ],
            [
             0.8,
             "#7fbc41"
            ],
            [
             0.9,
             "#4d9221"
            ],
            [
             1,
             "#276419"
            ]
           ]
          },
          "xaxis": {
           "gridcolor": "#283442",
           "linecolor": "#506784",
           "ticks": "",
           "title": {
            "standoff": 15
           },
           "zerolinecolor": "#283442",
           "automargin": true,
           "zerolinewidth": 2
          },
          "yaxis": {
           "gridcolor": "#283442",
           "linecolor": "#506784",
           "ticks": "",
           "title": {
            "standoff": 15
           },
           "zerolinecolor": "#283442",
           "automargin": true,
           "zerolinewidth": 2
          },
          "scene": {
           "xaxis": {
            "backgroundcolor": "rgb(17,17,17)",
            "gridcolor": "#506784",
            "linecolor": "#506784",
            "showbackground": true,
            "ticks": "",
            "zerolinecolor": "#C8D4E3",
            "gridwidth": 2
           },
           "yaxis": {
            "backgroundcolor": "rgb(17,17,17)",
            "gridcolor": "#506784",
            "linecolor": "#506784",
            "showbackground": true,
            "ticks": "",
            "zerolinecolor": "#C8D4E3",
            "gridwidth": 2
           },
           "zaxis": {
            "backgroundcolor": "rgb(17,17,17)",
            "gridcolor": "#506784",
            "linecolor": "#506784",
            "showbackground": true,
            "ticks": "",
            "zerolinecolor": "#C8D4E3",
            "gridwidth": 2
           }
          },
          "shapedefaults": {
           "line": {
            "color": "#f2f5fa"
           }
          },
          "annotationdefaults": {
           "arrowcolor": "#f2f5fa",
           "arrowhead": 0,
           "arrowwidth": 1
          },
          "geo": {
           "bgcolor": "rgb(17,17,17)",
           "landcolor": "rgb(17,17,17)",
           "subunitcolor": "#506784",
           "showland": true,
           "showlakes": true,
           "lakecolor": "rgb(17,17,17)"
          },
          "title": {
           "x": 0.05
          },
          "updatemenudefaults": {
           "bgcolor": "#506784",
           "borderwidth": 0
          },
          "sliderdefaults": {
           "bgcolor": "#C8D4E3",
           "borderwidth": 1,
           "bordercolor": "rgb(17,17,17)",
           "tickwidth": 0
          },
          "mapbox": {
           "style": "dark"
          }
         }
        },
        "margin": {
         "l": 20,
         "r": 20,
         "t": 20,
         "b": 20
        },
        "font": {
         "color": "black"
        },
        "height": 600,
        "width": 600,
        "paper_bgcolor": "white",
        "plot_bgcolor": "white",
        "showlegend": false
       },
       "config": {
        "plotlyServerURL": "https://plot.ly"
       }
      },
      "text/html": [
       "<div>                            <div id=\"e10f1bba-9cd4-470b-b7bf-b298a4c8cb52\" class=\"plotly-graph-div\" style=\"height:600px; width:600px;\"></div>            <script type=\"text/javascript\">                require([\"plotly\"], function(Plotly) {                    window.PLOTLYENV=window.PLOTLYENV || {};                                    if (document.getElementById(\"e10f1bba-9cd4-470b-b7bf-b298a4c8cb52\")) {                    Plotly.newPlot(                        \"e10f1bba-9cd4-470b-b7bf-b298a4c8cb52\",                        [{\"hole\":0.3,\"insidetextorientation\":\"radial\",\"labels\":[\"8923.T\",\"SMCI\",\"VRTX\",\"2685.T\",\"ADV.DE\",\"2767.T\",\"6430.T\",\"2670.T\",\"MCK\",\"7734.T\",\"TAL\",\"6460.T\",\"8129.T\",\"LRN\",\"GKOS\",\"7868.T\",\"3086.T\",\"7433.T\",\"6417.T\",\"8060.T\",\"3050.T\",\"2784.T\",\"3191.T\",\"7451.T\",\"HLN.L\",\"Other(28)\"],\"textinfo\":\"label+percent\",\"textposition\":\"inside\",\"values\":[0.0304,0.0299,0.0446,0.0294,0.0411,0.0227,0.0334,0.0453,0.0235,0.0199,0.02,0.0246,0.0217,0.05,0.022,0.0255,0.0198,0.0257,0.026,0.0222,0.0207,0.0312,0.0255,0.0255,0.0196,0.2604],\"type\":\"pie\"}],                        {\"template\":{\"data\":{\"histogram2dcontour\":[{\"type\":\"histogram2dcontour\",\"colorbar\":{\"outlinewidth\":0,\"ticks\":\"\"},\"colorscale\":[[0.0,\"#0d0887\"],[0.1111111111111111,\"#46039f\"],[0.2222222222222222,\"#7201a8\"],[0.3333333333333333,\"#9c179e\"],[0.4444444444444444,\"#bd3786\"],[0.5555555555555556,\"#d8576b\"],[0.6666666666666666,\"#ed7953\"],[0.7777777777777778,\"#fb9f3a\"],[0.8888888888888888,\"#fdca26\"],[1.0,\"#f0f921\"]]}],\"choropleth\":[{\"type\":\"choropleth\",\"colorbar\":{\"outlinewidth\":0,\"ticks\":\"\"}}],\"histogram2d\":[{\"type\":\"histogram2d\",\"colorbar\":{\"outlinewidth\":0,\"ticks\":\"\"},\"colorscale\":[[0.0,\"#0d0887\"],[0.1111111111111111,\"#46039f\"],[0.2222222222222222,\"#7201a8\"],[0.3333333333333333,\"#9c179e\"],[0.4444444444444444,\"#bd3786\"],[0.5555555555555556,\"#d8576b\"],[0.6666666666666666,\"#ed7953\"],[0.7777777777777778,\"#fb9f3a\"],[0.8888888888888888,\"#fdca26\"],[1.0,\"#f0f921\"]]}],\"heatmap\":[{\"type\":\"heatmap\",\"colorbar\":{\"outlinewidth\":0,\"ticks\":\"\"},\"colorscale\":[[0.0,\"#0d0887\"],[0.1111111111111111,\"#46039f\"],[0.2222222222222222,\"#7201a8\"],[0.3333333333333333,\"#9c179e\"],[0.4444444444444444,\"#bd3786\"],[0.5555555555555556,\"#d8576b\"],[0.6666666666666666,\"#ed7953\"],[0.7777777777777778,\"#fb9f3a\"],[0.8888888888888888,\"#fdca26\"],[1.0,\"#f0f921\"]]}],\"heatmapgl\":[{\"type\":\"heatmapgl\",\"colorbar\":{\"outlinewidth\":0,\"ticks\":\"\"},\"colorscale\":[[0.0,\"#0d0887\"],[0.1111111111111111,\"#46039f\"],[0.2222222222222222,\"#7201a8\"],[0.3333333333333333,\"#9c179e\"],[0.4444444444444444,\"#bd3786\"],[0.5555555555555556,\"#d8576b\"],[0.6666666666666666,\"#ed7953\"],[0.7777777777777778,\"#fb9f3a\"],[0.8888888888888888,\"#fdca26\"],[1.0,\"#f0f921\"]]}],\"contourcarpet\":[{\"type\":\"contourcarpet\",\"colorbar\":{\"outlinewidth\":0,\"ticks\":\"\"}}],\"contour\":[{\"type\":\"contour\",\"colorbar\":{\"outlinewidth\":0,\"ticks\":\"\"},\"colorscale\":[[0.0,\"#0d0887\"],[0.1111111111111111,\"#46039f\"],[0.2222222222222222,\"#7201a8\"],[0.3333333333333333,\"#9c179e\"],[0.4444444444444444,\"#bd3786\"],[0.5555555555555556,\"#d8576b\"],[0.6666666666666666,\"#ed7953\"],[0.7777777777777778,\"#fb9f3a\"],[0.8888888888888888,\"#fdca26\"],[1.0,\"#f0f921\"]]}],\"surface\":[{\"type\":\"surface\",\"colorbar\":{\"outlinewidth\":0,\"ticks\":\"\"},\"colorscale\":[[0.0,\"#0d0887\"],[0.1111111111111111,\"#46039f\"],[0.2222222222222222,\"#7201a8\"],[0.3333333333333333,\"#9c179e\"],[0.4444444444444444,\"#bd3786\"],[0.5555555555555556,\"#d8576b\"],[0.6666666666666666,\"#ed7953\"],[0.7777777777777778,\"#fb9f3a\"],[0.8888888888888888,\"#fdca26\"],[1.0,\"#f0f921\"]]}],\"mesh3d\":[{\"type\":\"mesh3d\",\"colorbar\":{\"outlinewidth\":0,\"ticks\":\"\"}}],\"scatter\":[{\"marker\":{\"line\":{\"color\":\"#283442\"}},\"type\":\"scatter\"}],\"parcoords\":[{\"type\":\"parcoords\",\"line\":{\"colorbar\":{\"outlinewidth\":0,\"ticks\":\"\"}}}],\"scatterpolargl\":[{\"type\":\"scatterpolargl\",\"marker\":{\"colorbar\":{\"outlinewidth\":0,\"ticks\":\"\"}}}],\"bar\":[{\"error_x\":{\"color\":\"#f2f5fa\"},\"error_y\":{\"color\":\"#f2f5fa\"},\"marker\":{\"line\":{\"color\":\"rgb(17,17,17)\",\"width\":0.5},\"pattern\":{\"fillmode\":\"overlay\",\"size\":10,\"solidity\":0.2}},\"type\":\"bar\"}],\"scattergeo\":[{\"type\":\"scattergeo\",\"marker\":{\"colorbar\":{\"outlinewidth\":0,\"ticks\":\"\"}}}],\"scatterpolar\":[{\"type\":\"scatterpolar\",\"marker\":{\"colorbar\":{\"outlinewidth\":0,\"ticks\":\"\"}}}],\"histogram\":[{\"marker\":{\"pattern\":{\"fillmode\":\"overlay\",\"size\":10,\"solidity\":0.2}},\"type\":\"histogram\"}],\"scattergl\":[{\"marker\":{\"line\":{\"color\":\"#283442\"}},\"type\":\"scattergl\"}],\"scatter3d\":[{\"type\":\"scatter3d\",\"line\":{\"colorbar\":{\"outlinewidth\":0,\"ticks\":\"\"}},\"marker\":{\"colorbar\":{\"outlinewidth\":0,\"ticks\":\"\"}}}],\"scattermapbox\":[{\"type\":\"scattermapbox\",\"marker\":{\"colorbar\":{\"outlinewidth\":0,\"ticks\":\"\"}}}],\"scatterternary\":[{\"type\":\"scatterternary\",\"marker\":{\"colorbar\":{\"outlinewidth\":0,\"ticks\":\"\"}}}],\"scattercarpet\":[{\"type\":\"scattercarpet\",\"marker\":{\"colorbar\":{\"outlinewidth\":0,\"ticks\":\"\"}}}],\"carpet\":[{\"aaxis\":{\"endlinecolor\":\"#A2B1C6\",\"gridcolor\":\"#506784\",\"linecolor\":\"#506784\",\"minorgridcolor\":\"#506784\",\"startlinecolor\":\"#A2B1C6\"},\"baxis\":{\"endlinecolor\":\"#A2B1C6\",\"gridcolor\":\"#506784\",\"linecolor\":\"#506784\",\"minorgridcolor\":\"#506784\",\"startlinecolor\":\"#A2B1C6\"},\"type\":\"carpet\"}],\"table\":[{\"cells\":{\"fill\":{\"color\":\"#506784\"},\"line\":{\"color\":\"rgb(17,17,17)\"}},\"header\":{\"fill\":{\"color\":\"#2a3f5f\"},\"line\":{\"color\":\"rgb(17,17,17)\"}},\"type\":\"table\"}],\"barpolar\":[{\"marker\":{\"line\":{\"color\":\"rgb(17,17,17)\",\"width\":0.5},\"pattern\":{\"fillmode\":\"overlay\",\"size\":10,\"solidity\":0.2}},\"type\":\"barpolar\"}],\"pie\":[{\"automargin\":true,\"type\":\"pie\"}]},\"layout\":{\"autotypenumbers\":\"strict\",\"colorway\":[\"#636efa\",\"#EF553B\",\"#00cc96\",\"#ab63fa\",\"#FFA15A\",\"#19d3f3\",\"#FF6692\",\"#B6E880\",\"#FF97FF\",\"#FECB52\"],\"font\":{\"color\":\"#f2f5fa\"},\"hovermode\":\"closest\",\"hoverlabel\":{\"align\":\"left\"},\"paper_bgcolor\":\"rgb(17,17,17)\",\"plot_bgcolor\":\"rgb(17,17,17)\",\"polar\":{\"bgcolor\":\"rgb(17,17,17)\",\"angularaxis\":{\"gridcolor\":\"#506784\",\"linecolor\":\"#506784\",\"ticks\":\"\"},\"radialaxis\":{\"gridcolor\":\"#506784\",\"linecolor\":\"#506784\",\"ticks\":\"\"}},\"ternary\":{\"bgcolor\":\"rgb(17,17,17)\",\"aaxis\":{\"gridcolor\":\"#506784\",\"linecolor\":\"#506784\",\"ticks\":\"\"},\"baxis\":{\"gridcolor\":\"#506784\",\"linecolor\":\"#506784\",\"ticks\":\"\"},\"caxis\":{\"gridcolor\":\"#506784\",\"linecolor\":\"#506784\",\"ticks\":\"\"}},\"coloraxis\":{\"colorbar\":{\"outlinewidth\":0,\"ticks\":\"\"}},\"colorscale\":{\"sequential\":[[0.0,\"#0d0887\"],[0.1111111111111111,\"#46039f\"],[0.2222222222222222,\"#7201a8\"],[0.3333333333333333,\"#9c179e\"],[0.4444444444444444,\"#bd3786\"],[0.5555555555555556,\"#d8576b\"],[0.6666666666666666,\"#ed7953\"],[0.7777777777777778,\"#fb9f3a\"],[0.8888888888888888,\"#fdca26\"],[1.0,\"#f0f921\"]],\"sequentialminus\":[[0.0,\"#0d0887\"],[0.1111111111111111,\"#46039f\"],[0.2222222222222222,\"#7201a8\"],[0.3333333333333333,\"#9c179e\"],[0.4444444444444444,\"#bd3786\"],[0.5555555555555556,\"#d8576b\"],[0.6666666666666666,\"#ed7953\"],[0.7777777777777778,\"#fb9f3a\"],[0.8888888888888888,\"#fdca26\"],[1.0,\"#f0f921\"]],\"diverging\":[[0,\"#8e0152\"],[0.1,\"#c51b7d\"],[0.2,\"#de77ae\"],[0.3,\"#f1b6da\"],[0.4,\"#fde0ef\"],[0.5,\"#f7f7f7\"],[0.6,\"#e6f5d0\"],[0.7,\"#b8e186\"],[0.8,\"#7fbc41\"],[0.9,\"#4d9221\"],[1,\"#276419\"]]},\"xaxis\":{\"gridcolor\":\"#283442\",\"linecolor\":\"#506784\",\"ticks\":\"\",\"title\":{\"standoff\":15},\"zerolinecolor\":\"#283442\",\"automargin\":true,\"zerolinewidth\":2},\"yaxis\":{\"gridcolor\":\"#283442\",\"linecolor\":\"#506784\",\"ticks\":\"\",\"title\":{\"standoff\":15},\"zerolinecolor\":\"#283442\",\"automargin\":true,\"zerolinewidth\":2},\"scene\":{\"xaxis\":{\"backgroundcolor\":\"rgb(17,17,17)\",\"gridcolor\":\"#506784\",\"linecolor\":\"#506784\",\"showbackground\":true,\"ticks\":\"\",\"zerolinecolor\":\"#C8D4E3\",\"gridwidth\":2},\"yaxis\":{\"backgroundcolor\":\"rgb(17,17,17)\",\"gridcolor\":\"#506784\",\"linecolor\":\"#506784\",\"showbackground\":true,\"ticks\":\"\",\"zerolinecolor\":\"#C8D4E3\",\"gridwidth\":2},\"zaxis\":{\"backgroundcolor\":\"rgb(17,17,17)\",\"gridcolor\":\"#506784\",\"linecolor\":\"#506784\",\"showbackground\":true,\"ticks\":\"\",\"zerolinecolor\":\"#C8D4E3\",\"gridwidth\":2}},\"shapedefaults\":{\"line\":{\"color\":\"#f2f5fa\"}},\"annotationdefaults\":{\"arrowcolor\":\"#f2f5fa\",\"arrowhead\":0,\"arrowwidth\":1},\"geo\":{\"bgcolor\":\"rgb(17,17,17)\",\"landcolor\":\"rgb(17,17,17)\",\"subunitcolor\":\"#506784\",\"showland\":true,\"showlakes\":true,\"lakecolor\":\"rgb(17,17,17)\"},\"title\":{\"x\":0.05},\"updatemenudefaults\":{\"bgcolor\":\"#506784\",\"borderwidth\":0},\"sliderdefaults\":{\"bgcolor\":\"#C8D4E3\",\"borderwidth\":1,\"bordercolor\":\"rgb(17,17,17)\",\"tickwidth\":0},\"mapbox\":{\"style\":\"dark\"}}},\"margin\":{\"l\":20,\"r\":20,\"t\":20,\"b\":20},\"font\":{\"color\":\"black\"},\"height\":600,\"width\":600,\"paper_bgcolor\":\"white\",\"plot_bgcolor\":\"white\",\"showlegend\":false},                        {\"responsive\": true}                    ).then(function(){\n",
       "                            \n",
       "var gd = document.getElementById('e10f1bba-9cd4-470b-b7bf-b298a4c8cb52');\n",
       "var x = new MutationObserver(function (mutations, observer) {{\n",
       "        var display = window.getComputedStyle(gd).display;\n",
       "        if (!display || display === 'none') {{\n",
       "            console.log([gd, 'removed!']);\n",
       "            Plotly.purge(gd);\n",
       "            observer.disconnect();\n",
       "        }}\n",
       "}});\n",
       "\n",
       "// Listen for the removal of the full notebook cells\n",
       "var notebookContainer = gd.closest('#notebook-container');\n",
       "if (notebookContainer) {{\n",
       "    x.observe(notebookContainer, {childList: true});\n",
       "}}\n",
       "\n",
       "// Listen for the clearing of the current output cell\n",
       "var outputEl = gd.closest('.output');\n",
       "if (outputEl) {{\n",
       "    x.observe(outputEl, {childList: true});\n",
       "}}\n",
       "\n",
       "                        })                };                });            </script>        </div>"
      ]
     },
     "metadata": {},
     "output_type": "display_data"
    },
    {
     "data": {
      "text/plain": [
       "<module 'utilities.mpt_utils' from '/Users/herbishtini/Documents/UNI/Master Thesis/sustainability_portfolio_optimisation/utilities/mpt_utils.py'>"
      ]
     },
     "execution_count": 80,
     "metadata": {},
     "output_type": "execute_result"
    }
   ],
   "execution_count": 80
  },
  {
   "metadata": {
    "ExecuteTime": {
     "end_time": "2025-06-15T21:24:56.295584Z",
     "start_time": "2025-06-15T21:24:56.275968Z"
    }
   },
   "cell_type": "code",
   "source": [
    "# Create overview\n",
    "df_view_12m = mpt_utils.generate_overview_table(weights_all_12m, mu_12m, S_12m, df_pct)\n",
    "df_view_12m"
   ],
   "id": "4e4383428c51e02c",
   "outputs": [
    {
     "data": {
      "text/plain": [
       "         Share Count  Average Covariance Average Returns  \\\n",
       "LRN               12       -6.153846e-03          39.87%   \n",
       "2670.T            27       -2.692308e-03         191.03%   \n",
       "VRTX               1       -1.730769e-03          39.02%   \n",
       "ADV.DE            20       -3.846154e-04          16.26%   \n",
       "6430.T            10        5.769231e-04          21.15%   \n",
       "2784.T            20       -1.923077e-03          33.89%   \n",
       "8923.T            26       -5.769231e-04          31.05%   \n",
       "SMCI               1        2.115385e-03          18.59%   \n",
       "2685.T            16       -2.500000e-03         199.65%   \n",
       "6417.T            32        1.346154e-03         122.18%   \n",
       "7433.T             8        2.884615e-03          28.91%   \n",
       "7868.T            70        1.923077e-04          26.32%   \n",
       "7451.T            11       -1.923077e-03          49.09%   \n",
       "3191.T            24       -1.153846e-03           5.76%   \n",
       "6460.T            14       -5.769231e-04          70.58%   \n",
       "MCK                1        7.692308e-04          47.93%   \n",
       "2767.T            18        6.153846e-03          42.08%   \n",
       "8060.T             9       -6.672013e-20          51.87%   \n",
       "GKOS               3       -2.115385e-03          34.72%   \n",
       "8129.T            10       -2.692308e-03          35.33%   \n",
       "3050.T            28       -3.269231e-03          22.31%   \n",
       "TAL               24        1.923077e-04           7.76%   \n",
       "7734.T            10       -1.538462e-03          13.21%   \n",
       "3086.T            21       -7.692308e-04          23.08%   \n",
       "HLN.L              1       -1.538462e-03          17.51%   \n",
       "7552.T            11       -5.769231e-04          10.72%   \n",
       "MEGP.L             1       -5.769231e-04          11.19%   \n",
       "BEZ.L              1       -5.769231e-04          34.83%   \n",
       "QLYS               1        5.769231e-04          29.70%   \n",
       "HNR1.DE            1       -1.730769e-03          78.58%   \n",
       "6183.T            13       -2.307692e-03          24.99%   \n",
       "SFM                3        9.615385e-04          14.01%   \n",
       "BCPT.L             1       -6.730769e-03          22.48%   \n",
       "2395.T            10        1.923077e-03           4.60%   \n",
       "7867.T             8        1.730769e-03          46.81%   \n",
       "7906.T            10        2.884615e-03          17.47%   \n",
       "7984.T             7       -3.846154e-04          74.87%   \n",
       "7976.T             8        7.692308e-04          64.53%   \n",
       "AGYS               2        1.923077e-03          37.29%   \n",
       "3048.T            14       -1.538462e-03           7.82%   \n",
       "3659.T             5        7.692308e-04           8.65%   \n",
       "9024.T            10       -3.846154e-04          18.96%   \n",
       "9433.T             3       -1.346154e-03          28.26%   \n",
       "CLMB               2        7.692308e-04          51.93%   \n",
       "PRO                2       -1.923077e-04          41.04%   \n",
       "8897.T            24        1.730769e-03          21.86%   \n",
       "8056.T             2       -1.153846e-03          43.12%   \n",
       "3626.T             2        1.923077e-03           5.75%   \n",
       "9869.T             1       -7.692308e-04           8.84%   \n",
       "BIJ.DE             1        1.153846e-03           9.32%   \n",
       "3186.T             1       -5.769231e-04          19.17%   \n",
       "7762.T             3        2.115385e-03           9.22%   \n",
       "8219.T             1        2.692308e-03          10.94%   \n",
       "\n",
       "        Return Last 12 Months Return (Actual) Next 12 Months  \n",
       "LRN                    62.22%                         75.45%  \n",
       "2670.T                  8.05%                         16.29%  \n",
       "VRTX                   16.28%                         36.21%  \n",
       "ADV.DE                 -5.67%                         -3.03%  \n",
       "6430.T                209.51%                        -37.68%  \n",
       "2784.T                 41.28%                          0.08%  \n",
       "8923.T                 30.36%                         22.16%  \n",
       "SMCI                  242.74%                         48.43%  \n",
       "2685.T                 61.48%                         22.88%  \n",
       "6417.T                 32.16%                         62.98%  \n",
       "7433.T                 40.64%                         -4.69%  \n",
       "7868.T                 95.94%                        -16.15%  \n",
       "7451.T                 37.33%                         34.63%  \n",
       "3191.T                 -0.76%                         24.58%  \n",
       "6460.T                 29.36%                          8.14%  \n",
       "MCK                    15.56%                         17.41%  \n",
       "2767.T                 56.75%                         -0.47%  \n",
       "8060.T                 19.46%                         29.61%  \n",
       "GKOS                   20.80%                         67.40%  \n",
       "8129.T                 70.02%                         57.78%  \n",
       "3050.T                  3.66%                         25.78%  \n",
       "TAL                    84.94%                        -17.19%  \n",
       "7734.T                 52.32%                         26.06%  \n",
       "3086.T                 23.85%                         -1.41%  \n",
       "HLN.L                  24.00%                         16.15%  \n",
       "7552.T                 30.66%                         68.61%  \n",
       "MEGP.L                 59.61%                         26.35%  \n",
       "BEZ.L                 -15.46%                         43.41%  \n",
       "QLYS                    6.80%                        -20.85%  \n",
       "HNR1.DE                28.44%                         26.00%  \n",
       "6183.T                 15.89%                          0.94%  \n",
       "SFM                    42.95%                        138.57%  \n",
       "BCPT.L                -23.90%                        -16.03%  \n",
       "2395.T                -37.13%                        -37.52%  \n",
       "7867.T                 62.29%                         72.45%  \n",
       "7906.T                 17.08%                         17.10%  \n",
       "7984.T                 28.84%                          9.55%  \n",
       "7976.T                 29.58%                         28.31%  \n",
       "AGYS                   33.89%                         54.18%  \n",
       "3048.T                 -0.19%                         48.46%  \n",
       "3659.T                 10.42%                          1.54%  \n",
       "9024.T                 11.83%                        152.54%  \n",
       "9433.T                  7.27%                         10.15%  \n",
       "CLMB                   44.47%                        103.83%  \n",
       "PRO                    26.08%                        -50.34%  \n",
       "8897.T                 12.26%                         12.31%  \n",
       "8056.T                 20.30%                         33.98%  \n",
       "3626.T                -19.27%                          9.53%  \n",
       "9869.T                 23.40%                          6.48%  \n",
       "BIJ.DE                  5.74%                          9.30%  \n",
       "3186.T                -26.44%                        -22.57%  \n",
       "7762.T                 45.65%                          3.69%  \n",
       "8219.T                 47.95%                        -17.50%  "
      ],
      "text/html": [
       "<div>\n",
       "<style scoped>\n",
       "    .dataframe tbody tr th:only-of-type {\n",
       "        vertical-align: middle;\n",
       "    }\n",
       "\n",
       "    .dataframe tbody tr th {\n",
       "        vertical-align: top;\n",
       "    }\n",
       "\n",
       "    .dataframe thead th {\n",
       "        text-align: right;\n",
       "    }\n",
       "</style>\n",
       "<table border=\"1\" class=\"dataframe\">\n",
       "  <thead>\n",
       "    <tr style=\"text-align: right;\">\n",
       "      <th></th>\n",
       "      <th>Share Count</th>\n",
       "      <th>Average Covariance</th>\n",
       "      <th>Average Returns</th>\n",
       "      <th>Return Last 12 Months</th>\n",
       "      <th>Return (Actual) Next 12 Months</th>\n",
       "    </tr>\n",
       "  </thead>\n",
       "  <tbody>\n",
       "    <tr>\n",
       "      <th>LRN</th>\n",
       "      <td>12</td>\n",
       "      <td>-6.153846e-03</td>\n",
       "      <td>39.87%</td>\n",
       "      <td>62.22%</td>\n",
       "      <td>75.45%</td>\n",
       "    </tr>\n",
       "    <tr>\n",
       "      <th>2670.T</th>\n",
       "      <td>27</td>\n",
       "      <td>-2.692308e-03</td>\n",
       "      <td>191.03%</td>\n",
       "      <td>8.05%</td>\n",
       "      <td>16.29%</td>\n",
       "    </tr>\n",
       "    <tr>\n",
       "      <th>VRTX</th>\n",
       "      <td>1</td>\n",
       "      <td>-1.730769e-03</td>\n",
       "      <td>39.02%</td>\n",
       "      <td>16.28%</td>\n",
       "      <td>36.21%</td>\n",
       "    </tr>\n",
       "    <tr>\n",
       "      <th>ADV.DE</th>\n",
       "      <td>20</td>\n",
       "      <td>-3.846154e-04</td>\n",
       "      <td>16.26%</td>\n",
       "      <td>-5.67%</td>\n",
       "      <td>-3.03%</td>\n",
       "    </tr>\n",
       "    <tr>\n",
       "      <th>6430.T</th>\n",
       "      <td>10</td>\n",
       "      <td>5.769231e-04</td>\n",
       "      <td>21.15%</td>\n",
       "      <td>209.51%</td>\n",
       "      <td>-37.68%</td>\n",
       "    </tr>\n",
       "    <tr>\n",
       "      <th>2784.T</th>\n",
       "      <td>20</td>\n",
       "      <td>-1.923077e-03</td>\n",
       "      <td>33.89%</td>\n",
       "      <td>41.28%</td>\n",
       "      <td>0.08%</td>\n",
       "    </tr>\n",
       "    <tr>\n",
       "      <th>8923.T</th>\n",
       "      <td>26</td>\n",
       "      <td>-5.769231e-04</td>\n",
       "      <td>31.05%</td>\n",
       "      <td>30.36%</td>\n",
       "      <td>22.16%</td>\n",
       "    </tr>\n",
       "    <tr>\n",
       "      <th>SMCI</th>\n",
       "      <td>1</td>\n",
       "      <td>2.115385e-03</td>\n",
       "      <td>18.59%</td>\n",
       "      <td>242.74%</td>\n",
       "      <td>48.43%</td>\n",
       "    </tr>\n",
       "    <tr>\n",
       "      <th>2685.T</th>\n",
       "      <td>16</td>\n",
       "      <td>-2.500000e-03</td>\n",
       "      <td>199.65%</td>\n",
       "      <td>61.48%</td>\n",
       "      <td>22.88%</td>\n",
       "    </tr>\n",
       "    <tr>\n",
       "      <th>6417.T</th>\n",
       "      <td>32</td>\n",
       "      <td>1.346154e-03</td>\n",
       "      <td>122.18%</td>\n",
       "      <td>32.16%</td>\n",
       "      <td>62.98%</td>\n",
       "    </tr>\n",
       "    <tr>\n",
       "      <th>7433.T</th>\n",
       "      <td>8</td>\n",
       "      <td>2.884615e-03</td>\n",
       "      <td>28.91%</td>\n",
       "      <td>40.64%</td>\n",
       "      <td>-4.69%</td>\n",
       "    </tr>\n",
       "    <tr>\n",
       "      <th>7868.T</th>\n",
       "      <td>70</td>\n",
       "      <td>1.923077e-04</td>\n",
       "      <td>26.32%</td>\n",
       "      <td>95.94%</td>\n",
       "      <td>-16.15%</td>\n",
       "    </tr>\n",
       "    <tr>\n",
       "      <th>7451.T</th>\n",
       "      <td>11</td>\n",
       "      <td>-1.923077e-03</td>\n",
       "      <td>49.09%</td>\n",
       "      <td>37.33%</td>\n",
       "      <td>34.63%</td>\n",
       "    </tr>\n",
       "    <tr>\n",
       "      <th>3191.T</th>\n",
       "      <td>24</td>\n",
       "      <td>-1.153846e-03</td>\n",
       "      <td>5.76%</td>\n",
       "      <td>-0.76%</td>\n",
       "      <td>24.58%</td>\n",
       "    </tr>\n",
       "    <tr>\n",
       "      <th>6460.T</th>\n",
       "      <td>14</td>\n",
       "      <td>-5.769231e-04</td>\n",
       "      <td>70.58%</td>\n",
       "      <td>29.36%</td>\n",
       "      <td>8.14%</td>\n",
       "    </tr>\n",
       "    <tr>\n",
       "      <th>MCK</th>\n",
       "      <td>1</td>\n",
       "      <td>7.692308e-04</td>\n",
       "      <td>47.93%</td>\n",
       "      <td>15.56%</td>\n",
       "      <td>17.41%</td>\n",
       "    </tr>\n",
       "    <tr>\n",
       "      <th>2767.T</th>\n",
       "      <td>18</td>\n",
       "      <td>6.153846e-03</td>\n",
       "      <td>42.08%</td>\n",
       "      <td>56.75%</td>\n",
       "      <td>-0.47%</td>\n",
       "    </tr>\n",
       "    <tr>\n",
       "      <th>8060.T</th>\n",
       "      <td>9</td>\n",
       "      <td>-6.672013e-20</td>\n",
       "      <td>51.87%</td>\n",
       "      <td>19.46%</td>\n",
       "      <td>29.61%</td>\n",
       "    </tr>\n",
       "    <tr>\n",
       "      <th>GKOS</th>\n",
       "      <td>3</td>\n",
       "      <td>-2.115385e-03</td>\n",
       "      <td>34.72%</td>\n",
       "      <td>20.80%</td>\n",
       "      <td>67.40%</td>\n",
       "    </tr>\n",
       "    <tr>\n",
       "      <th>8129.T</th>\n",
       "      <td>10</td>\n",
       "      <td>-2.692308e-03</td>\n",
       "      <td>35.33%</td>\n",
       "      <td>70.02%</td>\n",
       "      <td>57.78%</td>\n",
       "    </tr>\n",
       "    <tr>\n",
       "      <th>3050.T</th>\n",
       "      <td>28</td>\n",
       "      <td>-3.269231e-03</td>\n",
       "      <td>22.31%</td>\n",
       "      <td>3.66%</td>\n",
       "      <td>25.78%</td>\n",
       "    </tr>\n",
       "    <tr>\n",
       "      <th>TAL</th>\n",
       "      <td>24</td>\n",
       "      <td>1.923077e-04</td>\n",
       "      <td>7.76%</td>\n",
       "      <td>84.94%</td>\n",
       "      <td>-17.19%</td>\n",
       "    </tr>\n",
       "    <tr>\n",
       "      <th>7734.T</th>\n",
       "      <td>10</td>\n",
       "      <td>-1.538462e-03</td>\n",
       "      <td>13.21%</td>\n",
       "      <td>52.32%</td>\n",
       "      <td>26.06%</td>\n",
       "    </tr>\n",
       "    <tr>\n",
       "      <th>3086.T</th>\n",
       "      <td>21</td>\n",
       "      <td>-7.692308e-04</td>\n",
       "      <td>23.08%</td>\n",
       "      <td>23.85%</td>\n",
       "      <td>-1.41%</td>\n",
       "    </tr>\n",
       "    <tr>\n",
       "      <th>HLN.L</th>\n",
       "      <td>1</td>\n",
       "      <td>-1.538462e-03</td>\n",
       "      <td>17.51%</td>\n",
       "      <td>24.00%</td>\n",
       "      <td>16.15%</td>\n",
       "    </tr>\n",
       "    <tr>\n",
       "      <th>7552.T</th>\n",
       "      <td>11</td>\n",
       "      <td>-5.769231e-04</td>\n",
       "      <td>10.72%</td>\n",
       "      <td>30.66%</td>\n",
       "      <td>68.61%</td>\n",
       "    </tr>\n",
       "    <tr>\n",
       "      <th>MEGP.L</th>\n",
       "      <td>1</td>\n",
       "      <td>-5.769231e-04</td>\n",
       "      <td>11.19%</td>\n",
       "      <td>59.61%</td>\n",
       "      <td>26.35%</td>\n",
       "    </tr>\n",
       "    <tr>\n",
       "      <th>BEZ.L</th>\n",
       "      <td>1</td>\n",
       "      <td>-5.769231e-04</td>\n",
       "      <td>34.83%</td>\n",
       "      <td>-15.46%</td>\n",
       "      <td>43.41%</td>\n",
       "    </tr>\n",
       "    <tr>\n",
       "      <th>QLYS</th>\n",
       "      <td>1</td>\n",
       "      <td>5.769231e-04</td>\n",
       "      <td>29.70%</td>\n",
       "      <td>6.80%</td>\n",
       "      <td>-20.85%</td>\n",
       "    </tr>\n",
       "    <tr>\n",
       "      <th>HNR1.DE</th>\n",
       "      <td>1</td>\n",
       "      <td>-1.730769e-03</td>\n",
       "      <td>78.58%</td>\n",
       "      <td>28.44%</td>\n",
       "      <td>26.00%</td>\n",
       "    </tr>\n",
       "    <tr>\n",
       "      <th>6183.T</th>\n",
       "      <td>13</td>\n",
       "      <td>-2.307692e-03</td>\n",
       "      <td>24.99%</td>\n",
       "      <td>15.89%</td>\n",
       "      <td>0.94%</td>\n",
       "    </tr>\n",
       "    <tr>\n",
       "      <th>SFM</th>\n",
       "      <td>3</td>\n",
       "      <td>9.615385e-04</td>\n",
       "      <td>14.01%</td>\n",
       "      <td>42.95%</td>\n",
       "      <td>138.57%</td>\n",
       "    </tr>\n",
       "    <tr>\n",
       "      <th>BCPT.L</th>\n",
       "      <td>1</td>\n",
       "      <td>-6.730769e-03</td>\n",
       "      <td>22.48%</td>\n",
       "      <td>-23.90%</td>\n",
       "      <td>-16.03%</td>\n",
       "    </tr>\n",
       "    <tr>\n",
       "      <th>2395.T</th>\n",
       "      <td>10</td>\n",
       "      <td>1.923077e-03</td>\n",
       "      <td>4.60%</td>\n",
       "      <td>-37.13%</td>\n",
       "      <td>-37.52%</td>\n",
       "    </tr>\n",
       "    <tr>\n",
       "      <th>7867.T</th>\n",
       "      <td>8</td>\n",
       "      <td>1.730769e-03</td>\n",
       "      <td>46.81%</td>\n",
       "      <td>62.29%</td>\n",
       "      <td>72.45%</td>\n",
       "    </tr>\n",
       "    <tr>\n",
       "      <th>7906.T</th>\n",
       "      <td>10</td>\n",
       "      <td>2.884615e-03</td>\n",
       "      <td>17.47%</td>\n",
       "      <td>17.08%</td>\n",
       "      <td>17.10%</td>\n",
       "    </tr>\n",
       "    <tr>\n",
       "      <th>7984.T</th>\n",
       "      <td>7</td>\n",
       "      <td>-3.846154e-04</td>\n",
       "      <td>74.87%</td>\n",
       "      <td>28.84%</td>\n",
       "      <td>9.55%</td>\n",
       "    </tr>\n",
       "    <tr>\n",
       "      <th>7976.T</th>\n",
       "      <td>8</td>\n",
       "      <td>7.692308e-04</td>\n",
       "      <td>64.53%</td>\n",
       "      <td>29.58%</td>\n",
       "      <td>28.31%</td>\n",
       "    </tr>\n",
       "    <tr>\n",
       "      <th>AGYS</th>\n",
       "      <td>2</td>\n",
       "      <td>1.923077e-03</td>\n",
       "      <td>37.29%</td>\n",
       "      <td>33.89%</td>\n",
       "      <td>54.18%</td>\n",
       "    </tr>\n",
       "    <tr>\n",
       "      <th>3048.T</th>\n",
       "      <td>14</td>\n",
       "      <td>-1.538462e-03</td>\n",
       "      <td>7.82%</td>\n",
       "      <td>-0.19%</td>\n",
       "      <td>48.46%</td>\n",
       "    </tr>\n",
       "    <tr>\n",
       "      <th>3659.T</th>\n",
       "      <td>5</td>\n",
       "      <td>7.692308e-04</td>\n",
       "      <td>8.65%</td>\n",
       "      <td>10.42%</td>\n",
       "      <td>1.54%</td>\n",
       "    </tr>\n",
       "    <tr>\n",
       "      <th>9024.T</th>\n",
       "      <td>10</td>\n",
       "      <td>-3.846154e-04</td>\n",
       "      <td>18.96%</td>\n",
       "      <td>11.83%</td>\n",
       "      <td>152.54%</td>\n",
       "    </tr>\n",
       "    <tr>\n",
       "      <th>9433.T</th>\n",
       "      <td>3</td>\n",
       "      <td>-1.346154e-03</td>\n",
       "      <td>28.26%</td>\n",
       "      <td>7.27%</td>\n",
       "      <td>10.15%</td>\n",
       "    </tr>\n",
       "    <tr>\n",
       "      <th>CLMB</th>\n",
       "      <td>2</td>\n",
       "      <td>7.692308e-04</td>\n",
       "      <td>51.93%</td>\n",
       "      <td>44.47%</td>\n",
       "      <td>103.83%</td>\n",
       "    </tr>\n",
       "    <tr>\n",
       "      <th>PRO</th>\n",
       "      <td>2</td>\n",
       "      <td>-1.923077e-04</td>\n",
       "      <td>41.04%</td>\n",
       "      <td>26.08%</td>\n",
       "      <td>-50.34%</td>\n",
       "    </tr>\n",
       "    <tr>\n",
       "      <th>8897.T</th>\n",
       "      <td>24</td>\n",
       "      <td>1.730769e-03</td>\n",
       "      <td>21.86%</td>\n",
       "      <td>12.26%</td>\n",
       "      <td>12.31%</td>\n",
       "    </tr>\n",
       "    <tr>\n",
       "      <th>8056.T</th>\n",
       "      <td>2</td>\n",
       "      <td>-1.153846e-03</td>\n",
       "      <td>43.12%</td>\n",
       "      <td>20.30%</td>\n",
       "      <td>33.98%</td>\n",
       "    </tr>\n",
       "    <tr>\n",
       "      <th>3626.T</th>\n",
       "      <td>2</td>\n",
       "      <td>1.923077e-03</td>\n",
       "      <td>5.75%</td>\n",
       "      <td>-19.27%</td>\n",
       "      <td>9.53%</td>\n",
       "    </tr>\n",
       "    <tr>\n",
       "      <th>9869.T</th>\n",
       "      <td>1</td>\n",
       "      <td>-7.692308e-04</td>\n",
       "      <td>8.84%</td>\n",
       "      <td>23.40%</td>\n",
       "      <td>6.48%</td>\n",
       "    </tr>\n",
       "    <tr>\n",
       "      <th>BIJ.DE</th>\n",
       "      <td>1</td>\n",
       "      <td>1.153846e-03</td>\n",
       "      <td>9.32%</td>\n",
       "      <td>5.74%</td>\n",
       "      <td>9.30%</td>\n",
       "    </tr>\n",
       "    <tr>\n",
       "      <th>3186.T</th>\n",
       "      <td>1</td>\n",
       "      <td>-5.769231e-04</td>\n",
       "      <td>19.17%</td>\n",
       "      <td>-26.44%</td>\n",
       "      <td>-22.57%</td>\n",
       "    </tr>\n",
       "    <tr>\n",
       "      <th>7762.T</th>\n",
       "      <td>3</td>\n",
       "      <td>2.115385e-03</td>\n",
       "      <td>9.22%</td>\n",
       "      <td>45.65%</td>\n",
       "      <td>3.69%</td>\n",
       "    </tr>\n",
       "    <tr>\n",
       "      <th>8219.T</th>\n",
       "      <td>1</td>\n",
       "      <td>2.692308e-03</td>\n",
       "      <td>10.94%</td>\n",
       "      <td>47.95%</td>\n",
       "      <td>-17.50%</td>\n",
       "    </tr>\n",
       "  </tbody>\n",
       "</table>\n",
       "</div>"
      ]
     },
     "execution_count": 81,
     "metadata": {},
     "output_type": "execute_result"
    }
   ],
   "execution_count": 81
  },
  {
   "metadata": {},
   "cell_type": "markdown",
   "source": "## Actual Returns ",
   "id": "25581443c0dbb4c1"
  },
  {
   "metadata": {},
   "cell_type": "markdown",
   "source": "### 1 Month",
   "id": "59ca607fec335254"
  },
  {
   "metadata": {
    "ExecuteTime": {
     "end_time": "2025-06-15T21:24:56.337707Z",
     "start_time": "2025-06-15T21:24:56.330393Z"
    }
   },
   "cell_type": "code",
   "source": [
    "importlib.reload(mpt_utils)\n",
    "#\n",
    "return_rate_1m = mpt_utils.get_allocation_return_rate(df_portfolio_1m.tail(1+1), weights_all_1m)\n",
    "return_rate_1m"
   ],
   "id": "e4f6611641c77cd3",
   "outputs": [
    {
     "data": {
      "text/plain": [
       "0.10352284181484828"
      ]
     },
     "execution_count": 82,
     "metadata": {},
     "output_type": "execute_result"
    }
   ],
   "execution_count": 82
  },
  {
   "metadata": {},
   "cell_type": "markdown",
   "source": "### 6 Months",
   "id": "f7291fd8f13f5c73"
  },
  {
   "metadata": {
    "ExecuteTime": {
     "end_time": "2025-06-15T21:24:56.408187Z",
     "start_time": "2025-06-15T21:24:56.399570Z"
    }
   },
   "cell_type": "code",
   "source": [
    "importlib.reload(mpt_utils)\n",
    "#\n",
    "return_rate_6m = mpt_utils.get_allocation_return_rate(df_portfolio_6m.tail(6+1), weights_all_6m)\n",
    "return_rate_6m"
   ],
   "id": "3923d682f8996035",
   "outputs": [
    {
     "data": {
      "text/plain": [
       "0.4371030563046279"
      ]
     },
     "execution_count": 83,
     "metadata": {},
     "output_type": "execute_result"
    }
   ],
   "execution_count": 83
  },
  {
   "metadata": {},
   "cell_type": "markdown",
   "source": "### 12 Months",
   "id": "efd7e63400fbf7cd"
  },
  {
   "metadata": {
    "ExecuteTime": {
     "end_time": "2025-06-15T21:24:56.438188Z",
     "start_time": "2025-06-15T21:24:56.430993Z"
    }
   },
   "cell_type": "code",
   "source": [
    "importlib.reload(mpt_utils)\n",
    "#\n",
    "return_rate_12m = mpt_utils.get_allocation_return_rate(df_portfolio_12m.tail(12+1), weights_all_12m)\n",
    "return_rate_12m"
   ],
   "id": "777ad05789e3fb2c",
   "outputs": [
    {
     "data": {
      "text/plain": [
       "0.34191203653631036"
      ]
     },
     "execution_count": 84,
     "metadata": {},
     "output_type": "execute_result"
    }
   ],
   "execution_count": 84
  }
 ],
 "metadata": {
  "kernelspec": {
   "display_name": "Python 3",
   "language": "python",
   "name": "python3"
  },
  "language_info": {
   "codemirror_mode": {
    "name": "ipython",
    "version": 2
   },
   "file_extension": ".py",
   "mimetype": "text/x-python",
   "name": "python",
   "nbconvert_exporter": "python",
   "pygments_lexer": "ipython2",
   "version": "2.7.6"
  }
 },
 "nbformat": 4,
 "nbformat_minor": 5
}
