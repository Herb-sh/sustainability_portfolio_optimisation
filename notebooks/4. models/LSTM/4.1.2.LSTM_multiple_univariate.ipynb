{
 "cells": [
  {
   "metadata": {
    "ExecuteTime": {
     "end_time": "2025-04-14T22:26:06.411964Z",
     "start_time": "2025-04-14T22:26:06.399773Z"
    }
   },
   "cell_type": "code",
   "source": [
    "import torch\n",
    "import torch.nn as nn\n",
    "import torch.optim as optim\n",
    "import torch.utils.data as data\n",
    "import pandas as pd\n",
    "import numpy as np\n",
    "import plotly.graph_objects as go\n",
    "from sklearn.model_selection import train_test_split\n",
    "#\n",
    "from pypfopt import EfficientFrontier\n",
    "from pypfopt import risk_models\n",
    "from pypfopt import expected_returns\n",
    "from pypfopt.discrete_allocation import DiscreteAllocation, get_latest_prices\n",
    "#\n",
    "import importlib\n",
    "import utilities.train_test as train_test\n",
    "import utilities.comparison as comparison\n",
    "import utilities.lstm_utils as lstm_utils"
   ],
   "id": "9be531e52190f129",
   "outputs": [],
   "execution_count": 333
  },
  {
   "metadata": {},
   "cell_type": "markdown",
   "source": "### Preparing Data",
   "id": "fe8516df25855518"
  },
  {
   "metadata": {
    "ExecuteTime": {
     "end_time": "2025-04-12T22:37:11.195658Z",
     "start_time": "2025-04-12T22:37:11.119757Z"
    }
   },
   "cell_type": "code",
   "source": [
    "df_time_series = pd.read_csv('../../../data/df_monthly_returns_complete_percentage.csv', index_col='Date')\n",
    "\n",
    "df_time_series = df_time_series.loc[:, ~df_time_series.columns.str.contains('^Unnamed')]"
   ],
   "id": "4513018354bbc541",
   "outputs": [],
   "execution_count": 145
  },
  {
   "metadata": {
    "ExecuteTime": {
     "end_time": "2025-04-12T22:37:11.243474Z",
     "start_time": "2025-04-12T22:37:11.240090Z"
    }
   },
   "cell_type": "code",
   "source": [
    "# \n",
    "df_time_series_plus1 = df_time_series\n",
    "df_time_series = df_time_series - 1"
   ],
   "id": "b8263a875e7a6a1c",
   "outputs": [],
   "execution_count": 147
  },
  {
   "metadata": {},
   "cell_type": "markdown",
   "source": "### Normalisation",
   "id": "c64a95d1ae4bdac4"
  },
  {
   "metadata": {
    "ExecuteTime": {
     "end_time": "2025-04-12T22:37:11.268055Z",
     "start_time": "2025-04-12T22:37:11.265774Z"
    }
   },
   "cell_type": "code",
   "source": [
    "''' \n",
    "df_ts_torch = torch.from_numpy(df_time_series.values)\n",
    "# Reshape to (num_samples, num_features) for normalization\n",
    "df_ts_flat = df_ts_torch.view(-1, df_ts_torch.shape[-1])  # Shape: (1000*300, 5)\n",
    "\n",
    "# Calculate min and max per feature\n",
    "df_min = df_ts_flat.min(dim=0, keepdim=True)[0]\n",
    "df_max = df_ts_flat.max(dim=0, keepdim=True)[0]\n",
    "\n",
    "# Apply Min-Max normalization\n",
    "df_ts_normalised = (df_ts_flat - df_min) / (df_max - df_min)\n",
    "\n",
    "# Reshape back to original shape\n",
    "df_time_series_torch = df_ts_normalised.view(df_ts_torch.shape)\n",
    "'''\n"
   ],
   "id": "78b25301531f46d4",
   "outputs": [
    {
     "data": {
      "text/plain": [
       "' \\ndf_ts_torch = torch.from_numpy(df_time_series.values)\\n# Reshape to (num_samples, num_features) for normalization\\ndf_ts_flat = df_ts_torch.view(-1, df_ts_torch.shape[-1])  # Shape: (1000*300, 5)\\n\\n# Calculate min and max per feature\\ndf_min = df_ts_flat.min(dim=0, keepdim=True)[0]\\ndf_max = df_ts_flat.max(dim=0, keepdim=True)[0]\\n\\n# Apply Min-Max normalization\\ndf_ts_normalised = (df_ts_flat - df_min) / (df_max - df_min)\\n\\n# Reshape back to original shape\\ndf_time_series_torch = df_ts_normalised.view(df_ts_torch.shape)\\n'"
      ]
     },
     "execution_count": 148,
     "metadata": {},
     "output_type": "execute_result"
    }
   ],
   "execution_count": 148
  },
  {
   "metadata": {},
   "cell_type": "markdown",
   "source": "### LSTM Model",
   "id": "d5b44de5e3c4223c"
  },
  {
   "metadata": {},
   "cell_type": "code",
   "outputs": [],
   "execution_count": null,
   "source": [
    "# Define LSTM model\n",
    "class LSTMModel(nn.Module):\n",
    "    def __init__(self, input_size, hidden_size=128, num_layers=1, output_size=1, learning_rate=0.001, dropout=0.2): # , hidden_size=128\n",
    "        super(LSTMModel, self).__init__()\n",
    "        self.hidden_size = hidden_size\n",
    "        # LSTM for time-series data (stock returns)\n",
    "        self.lstm = nn.LSTM(input_size=input_size,\n",
    "                            hidden_size=hidden_size,\n",
    "                            # num_layers=num_layers,\n",
    "                            batch_first=True)\n",
    "\n",
    "        # FC layer for final prediction\n",
    "        self.fc_final = nn.Linear(hidden_size, 12)\n",
    "\n",
    "    def forward(self, ts_batch): # ts_batch (64, 1653, 10), static_data (64, 1653, 44)\n",
    "        # Time-Series Data\n",
    "        # Reshape dynamic data for LSTM (requires time-step as 2nd dimension)\n",
    "        batch_size, num_stocks, sequence_length = ts_batch.shape[0], ts_batch.shape[1], ts_batch.shape[2]\n",
    "        ts_batch_reshaped = ts_batch.view(batch_size * num_stocks, sequence_length)\n",
    "        #\n",
    "        ts_output_1, (hidden, cell)  = self.lstm(ts_batch_reshaped) # ts_batch_reshaped\n",
    "\n",
    "        ts_output = ts_output_1.view(batch_size, num_stocks, self.hidden_size)\n",
    "        #\n",
    "        # ts_output_2 = self.fc_lstm(ts_output)\n",
    "        #fc_final = nn.Linear(sequence_length, 1)\n",
    "        # prediction =   # (64, 1653, 10)\n",
    "\n",
    "        return self.fc_final(ts_output)#.squeeze(-1) # ts_output_2"
   ],
   "id": "ff4cbc246759fc20"
  },
  {
   "metadata": {},
   "cell_type": "markdown",
   "source": "## 1 Month",
   "id": "d5318687c5affaa7"
  },
  {
   "metadata": {
    "ExecuteTime": {
     "end_time": "2025-04-14T23:26:32.251719Z",
     "start_time": "2025-04-14T23:26:31.407729Z"
    }
   },
   "cell_type": "code",
   "source": [
    "importlib.reload(lstm_utils)\n",
    "\n",
    "# Set sequence length (e.g., 12 time points)\n",
    "X_train_1m, X_test_1m, y_train_1m, y_test_1m = lstm_utils.split_train_test(df_time_series, [], in_seq_length=12, out_seq_length=1)\n",
    "\n",
    "# Check the shapes of the training and test data\n",
    "print(\"Shape of X_train:\", X_train_1m.shape)\n",
    "print(\"Shape of y_train:\", y_train_1m.shape)\n",
    "print(\"Shape of X_test:\", X_test_1m.shape)\n",
    "print(\"Shape of y_test:\", y_test_1m.shape)"
   ],
   "id": "a758546911c3a7a7",
   "outputs": [
    {
     "name": "stdout",
     "output_type": "stream",
     "text": [
      "torch.Size([287, 1653, 12]) torch.Size([287, 1653, 1])\n",
      "Shape of X_train: torch.Size([227, 1653, 12])\n",
      "Shape of y_train: torch.Size([227, 1653, 1])\n",
      "Shape of X_test: torch.Size([60, 1653, 12])\n",
      "Shape of y_test: torch.Size([60, 1653, 1])\n"
     ]
    }
   ],
   "execution_count": 343
  },
  {
   "metadata": {},
   "cell_type": "markdown",
   "source": "## 6 Months",
   "id": "43a9fdefde6c005"
  },
  {
   "metadata": {
    "ExecuteTime": {
     "end_time": "2025-04-14T23:26:24.230984Z",
     "start_time": "2025-04-14T23:26:23.258109Z"
    }
   },
   "cell_type": "code",
   "source": [
    "importlib.reload(lstm_utils)\n",
    "\n",
    "# Set sequence length (e.g., 12 time points)\n",
    "X_train_6m, X_test_6m, y_train_6m, y_test_6m = lstm_utils.split_train_test(df_time_series, [], in_seq_length=12, out_seq_length=6)\n",
    "\n",
    "# Check the shapes of the training and test data\n",
    "print(\"Shape of X_train:\", X_train_6m.shape)\n",
    "print(\"Shape of y_train:\", y_train_6m.shape)\n",
    "print(\"Shape of X_test:\", X_test_6m.shape)\n",
    "print(\"Shape of y_test:\", y_test_6m.shape)"
   ],
   "id": "1696162ee878eb39",
   "outputs": [
    {
     "name": "stdout",
     "output_type": "stream",
     "text": [
      "torch.Size([282, 1653, 12]) torch.Size([282, 1653, 6])\n",
      "Shape of X_train: torch.Size([222, 1653, 12])\n",
      "Shape of y_train: torch.Size([222, 1653, 6])\n",
      "Shape of X_test: torch.Size([60, 1653, 12])\n",
      "Shape of y_test: torch.Size([60, 1653, 6])\n"
     ]
    }
   ],
   "execution_count": 342
  },
  {
   "metadata": {},
   "cell_type": "code",
   "outputs": [],
   "execution_count": null,
   "source": [
    "importlib.reload(lstm_utils)\n",
    "\n",
    "# Model, Loss, Optimizer\n",
    "model_6m = LSTMModel(input_size=in_seq_length, output_size=out_seq_length).to(device)\n",
    "criterion = nn.MSELoss()  # Mean Squared Error for regression\n",
    "optimizer = optim.Adam(model.parameters(), lr=0.001)\n",
    "\n",
    "#\n",
    "model, y_train_pred, y_test_pred = lstm_utils.lstm_train_validate(model, optimizer, X_train, X_test, y_train, y_test)"
   ],
   "id": "10ce63dabded6f1d"
  },
  {
   "metadata": {},
   "cell_type": "markdown",
   "source": "## 12 Months",
   "id": "f32c4b7502d9dfb9"
  },
  {
   "metadata": {},
   "cell_type": "markdown",
   "source": "### Split the data into training and testing sets",
   "id": "e6383e415b7539d5"
  },
  {
   "metadata": {},
   "cell_type": "markdown",
   "source": "### Train-Test Split",
   "id": "6ce4ba4bb6d29a7d"
  },
  {
   "metadata": {
    "ExecuteTime": {
     "end_time": "2025-04-14T23:26:45.787257Z",
     "start_time": "2025-04-14T23:26:44.627190Z"
    }
   },
   "cell_type": "code",
   "source": [
    "importlib.reload(lstm_utils)\n",
    "\n",
    "# Set sequence length (e.g., 12 time points)\n",
    "X_train_12m, X_test_12m, y_train_12m, y_test_12m = lstm_utils.split_train_test(df_time_series, [], in_seq_length=12, out_seq_length=12)\n",
    "\n",
    "# Check the shapes of the training and test data\n",
    "print(\"Shape of X_train:\", X_train.shape)\n",
    "print(\"Shape of y_train:\", y_train.shape)\n",
    "print(\"Shape of X_test:\", X_test.shape)\n",
    "print(\"Shape of y_test:\", y_test.shape)"
   ],
   "id": "15a242ca157c28d8",
   "outputs": [
    {
     "name": "stdout",
     "output_type": "stream",
     "text": [
      "torch.Size([276, 1653, 12]) torch.Size([276, 1653, 12])\n",
      "Shape of X_train: torch.Size([216, 1653, 12])\n",
      "Shape of y_train: torch.Size([216, 1653, 12])\n",
      "Shape of X_test: torch.Size([60, 1653, 12])\n",
      "Shape of y_test: torch.Size([60, 1653, 12])\n"
     ]
    }
   ],
   "execution_count": 344
  },
  {
   "metadata": {
    "ExecuteTime": {
     "end_time": "2025-04-14T23:31:43.474474Z",
     "start_time": "2025-04-14T23:31:43.462947Z"
    }
   },
   "cell_type": "code",
   "source": [
    "print(X_train[50][0])\n",
    "print(y_train[38][0])"
   ],
   "id": "c2c83f2e90d2436b",
   "outputs": [
    {
     "name": "stdout",
     "output_type": "stream",
     "text": [
      "tensor([ 0.1100, -0.0200, -0.0200,  0.0400, -0.0100,  0.0100, -0.0500, -0.0100,\n",
      "        -0.0400, -0.0700,  0.0100, -0.0300])\n",
      "tensor([ 0.1100, -0.0200, -0.0200,  0.0400, -0.0100,  0.0100, -0.0500, -0.0100,\n",
      "        -0.0400, -0.0700,  0.0100, -0.0300])\n"
     ]
    }
   ],
   "execution_count": 346
  },
  {
   "metadata": {},
   "cell_type": "markdown",
   "source": "",
   "id": "eaa863db73cdd3d2"
  },
  {
   "metadata": {
    "ExecuteTime": {
     "end_time": "2025-04-14T20:19:59.613053Z",
     "start_time": "2025-04-14T20:19:59.607562Z"
    }
   },
   "cell_type": "code",
   "source": [
    "# Model, Loss, Optimizer\n",
    "model = LSTMModel(input_size=in_seq_length, output_size=out_seq_length).to(device)\n",
    "criterion = nn.MSELoss()  # Mean Squared Error for regression\n",
    "optimizer = optim.Adam(model.parameters(), lr=0.001)"
   ],
   "id": "44c1702b803110f6",
   "outputs": [],
   "execution_count": 329
  },
  {
   "metadata": {
    "ExecuteTime": {
     "end_time": "2025-04-14T20:20:55.955191Z",
     "start_time": "2025-04-14T20:20:00.307927Z"
    }
   },
   "cell_type": "code",
   "source": [
    "importlib.reload(lstm_utils)\n",
    "#\n",
    "model, y_train_pred, y_test_pred = lstm_utils.lstm_train_validate(model, optimizer, X_train, X_test, y_train, y_test)"
   ],
   "id": "22cdddc240803495",
   "outputs": [
    {
     "name": "stdout",
     "output_type": "stream",
     "text": [
      "Epoch 1/1, Loss: 36.1096, Train RMSE: 6.1193, Test RMSE: 0.2769. \n",
      "Model training complete and saved.\n"
     ]
    }
   ],
   "execution_count": 330
  },
  {
   "metadata": {
    "ExecuteTime": {
     "end_time": "2025-04-13T23:05:59.997778Z",
     "start_time": "2025-04-13T23:05:59.984302Z"
    }
   },
   "cell_type": "code",
   "source": "last_month = X_test[[len(X_test) - 1]]",
   "id": "113b405d49a85b6e",
   "outputs": [],
   "execution_count": 298
  },
  {
   "metadata": {
    "ExecuteTime": {
     "end_time": "2025-04-13T23:09:01.604897Z",
     "start_time": "2025-04-13T23:09:01.512441Z"
    }
   },
   "cell_type": "code",
   "source": [
    "with torch.no_grad():\n",
    "    last_month_pred = model(last_month)"
   ],
   "id": "d767d07c58c6d7b5",
   "outputs": [],
   "execution_count": 303
  },
  {
   "metadata": {
    "ExecuteTime": {
     "end_time": "2025-04-13T23:21:10.946606Z",
     "start_time": "2025-04-13T23:21:10.941085Z"
    }
   },
   "cell_type": "code",
   "source": [
    "# Actual values\n",
    "y_test_12m = y_test[len(y_test) - 1][:, -1]\n",
    "# Predicted\n",
    "y_test_pred_12m = last_month_pred[0][:, -1]"
   ],
   "id": "765bc49dac33ad2d",
   "outputs": [
    {
     "data": {
      "text/plain": [
       "tensor([ 0.0553,  0.0107,  0.0534,  ...,  0.0438, -0.0076, -0.0185])"
      ]
     },
     "execution_count": 312,
     "metadata": {},
     "output_type": "execute_result"
    }
   ],
   "execution_count": 312
  }
 ],
 "metadata": {
  "kernelspec": {
   "display_name": "Python 3",
   "language": "python",
   "name": "python3"
  },
  "language_info": {
   "codemirror_mode": {
    "name": "ipython",
    "version": 2
   },
   "file_extension": ".py",
   "mimetype": "text/x-python",
   "name": "python",
   "nbconvert_exporter": "python",
   "pygments_lexer": "ipython2",
   "version": "2.7.6"
  }
 },
 "nbformat": 4,
 "nbformat_minor": 5
}
