{
 "cells": [
  {
   "cell_type": "code",
   "id": "initial_id",
   "metadata": {
    "collapsed": true,
    "ExecuteTime": {
     "end_time": "2025-03-10T20:38:12.932228Z",
     "start_time": "2025-03-10T20:38:12.916965Z"
    }
   },
   "source": [
    "# Python\n",
    "import pandas as pd\n",
    "import numpy as np\n",
    "import torch\n",
    "from requests.packages import target\n",
    "#\n",
    "from xgboost import XGBRegressor\n",
    "#\n",
    "import seaborn as sns\n",
    "import matplotlib.pyplot as plt\n",
    "import plotly.graph_objects as go\n",
    "\n",
    "from xgboost import plot_importance, plot_tree\n",
    "from sklearn.metrics import mean_squared_error, mean_absolute_error"
   ],
   "outputs": [],
   "execution_count": 172
  },
  {
   "metadata": {
    "ExecuteTime": {
     "end_time": "2025-03-10T20:38:13.884613Z",
     "start_time": "2025-03-10T20:38:12.945066Z"
    }
   },
   "cell_type": "code",
   "source": [
    "df = pd.read_csv('../../../data/df_monthly_returns_complete_percentage.csv', index_col='Date')\n",
    "\n",
    "df_tabular = pd.read_csv('../../../data/train_test/df_tabular.csv', index_col=0)\n",
    "\n",
    "X_train = pd.read_csv('../../../data/train_test/df_tabular_xtrain.csv', index_col=0)\n",
    "y_train = pd.read_csv('../../../data/train_test/df_tabular_ytrain.csv', index_col=0)\n",
    "X_test = pd.read_csv('../../../data/train_test/df_tabular_xtest.csv', index_col=0)\n",
    "y_test = pd.read_csv('../../../data/train_test/df_tabular_ytest.csv', index_col=0)"
   ],
   "id": "b9221bdd2218913f",
   "outputs": [],
   "execution_count": 173
  },
  {
   "metadata": {
    "ExecuteTime": {
     "end_time": "2025-03-10T23:13:35.228773Z",
     "start_time": "2025-03-10T23:13:34.560173Z"
    }
   },
   "cell_type": "code",
   "source": "df.head()",
   "id": "f55cc50dc7e14cf1",
   "outputs": [
    {
     "data": {
      "text/plain": [
       "            RS1.L    KE  TEG.DE  LEG.DE   SCS   HNI   AVT  ACCO  VNA.DE  \\\n",
       "Date                                                                      \n",
       "1999-10-01    NaN   NaN     NaN     NaN   NaN   NaN   NaN   NaN     NaN   \n",
       "1999-11-01   1.13  1.00    1.00    1.00  1.03  1.10  1.01  1.03    1.00   \n",
       "1999-12-01   1.11  1.00    1.00    1.00  0.92  1.02  1.10  1.00    1.00   \n",
       "2000-01-01   1.02  1.00    1.00    1.00  0.96  0.88  0.89  0.73    1.00   \n",
       "2000-02-01   1.00  1.01    0.81    1.23  1.08  0.96  1.25  1.95    1.18   \n",
       "\n",
       "            7912.T  ...  DEQ.DE  KIDS  HALO  MATW  9842.T  KVHI  MOON.L   NEO  \\\n",
       "Date                ...                                                         \n",
       "1999-10-01     NaN  ...     NaN   NaN   NaN   NaN     NaN   NaN     NaN   NaN   \n",
       "1999-11-01    1.03  ...    1.00  1.00  1.00  0.93    1.00  0.99    1.00  1.00   \n",
       "1999-12-01    0.97  ...    1.00  1.00  1.00  1.18    1.00  1.01    1.00  1.00   \n",
       "2000-01-01    1.00  ...    1.00  1.00  1.00  0.85    1.00  1.22    1.00  1.00   \n",
       "2000-02-01    0.93  ...    1.03  0.94  1.07  1.04    1.47  1.97    1.13  0.95   \n",
       "\n",
       "            6055.T   UNP  \n",
       "Date                      \n",
       "1999-10-01     NaN   NaN  \n",
       "1999-11-01    1.00  0.84  \n",
       "1999-12-01    1.00  0.93  \n",
       "2000-01-01    1.00  0.93  \n",
       "2000-02-01    1.01  0.94  \n",
       "\n",
       "[5 rows x 1653 columns]"
      ],
      "text/html": [
       "<div>\n",
       "<style scoped>\n",
       "    .dataframe tbody tr th:only-of-type {\n",
       "        vertical-align: middle;\n",
       "    }\n",
       "\n",
       "    .dataframe tbody tr th {\n",
       "        vertical-align: top;\n",
       "    }\n",
       "\n",
       "    .dataframe thead th {\n",
       "        text-align: right;\n",
       "    }\n",
       "</style>\n",
       "<table border=\"1\" class=\"dataframe\">\n",
       "  <thead>\n",
       "    <tr style=\"text-align: right;\">\n",
       "      <th></th>\n",
       "      <th>RS1.L</th>\n",
       "      <th>KE</th>\n",
       "      <th>TEG.DE</th>\n",
       "      <th>LEG.DE</th>\n",
       "      <th>SCS</th>\n",
       "      <th>HNI</th>\n",
       "      <th>AVT</th>\n",
       "      <th>ACCO</th>\n",
       "      <th>VNA.DE</th>\n",
       "      <th>7912.T</th>\n",
       "      <th>...</th>\n",
       "      <th>DEQ.DE</th>\n",
       "      <th>KIDS</th>\n",
       "      <th>HALO</th>\n",
       "      <th>MATW</th>\n",
       "      <th>9842.T</th>\n",
       "      <th>KVHI</th>\n",
       "      <th>MOON.L</th>\n",
       "      <th>NEO</th>\n",
       "      <th>6055.T</th>\n",
       "      <th>UNP</th>\n",
       "    </tr>\n",
       "    <tr>\n",
       "      <th>Date</th>\n",
       "      <th></th>\n",
       "      <th></th>\n",
       "      <th></th>\n",
       "      <th></th>\n",
       "      <th></th>\n",
       "      <th></th>\n",
       "      <th></th>\n",
       "      <th></th>\n",
       "      <th></th>\n",
       "      <th></th>\n",
       "      <th></th>\n",
       "      <th></th>\n",
       "      <th></th>\n",
       "      <th></th>\n",
       "      <th></th>\n",
       "      <th></th>\n",
       "      <th></th>\n",
       "      <th></th>\n",
       "      <th></th>\n",
       "      <th></th>\n",
       "      <th></th>\n",
       "    </tr>\n",
       "  </thead>\n",
       "  <tbody>\n",
       "    <tr>\n",
       "      <th>1999-10-01</th>\n",
       "      <td>NaN</td>\n",
       "      <td>NaN</td>\n",
       "      <td>NaN</td>\n",
       "      <td>NaN</td>\n",
       "      <td>NaN</td>\n",
       "      <td>NaN</td>\n",
       "      <td>NaN</td>\n",
       "      <td>NaN</td>\n",
       "      <td>NaN</td>\n",
       "      <td>NaN</td>\n",
       "      <td>...</td>\n",
       "      <td>NaN</td>\n",
       "      <td>NaN</td>\n",
       "      <td>NaN</td>\n",
       "      <td>NaN</td>\n",
       "      <td>NaN</td>\n",
       "      <td>NaN</td>\n",
       "      <td>NaN</td>\n",
       "      <td>NaN</td>\n",
       "      <td>NaN</td>\n",
       "      <td>NaN</td>\n",
       "    </tr>\n",
       "    <tr>\n",
       "      <th>1999-11-01</th>\n",
       "      <td>1.13</td>\n",
       "      <td>1.00</td>\n",
       "      <td>1.00</td>\n",
       "      <td>1.00</td>\n",
       "      <td>1.03</td>\n",
       "      <td>1.10</td>\n",
       "      <td>1.01</td>\n",
       "      <td>1.03</td>\n",
       "      <td>1.00</td>\n",
       "      <td>1.03</td>\n",
       "      <td>...</td>\n",
       "      <td>1.00</td>\n",
       "      <td>1.00</td>\n",
       "      <td>1.00</td>\n",
       "      <td>0.93</td>\n",
       "      <td>1.00</td>\n",
       "      <td>0.99</td>\n",
       "      <td>1.00</td>\n",
       "      <td>1.00</td>\n",
       "      <td>1.00</td>\n",
       "      <td>0.84</td>\n",
       "    </tr>\n",
       "    <tr>\n",
       "      <th>1999-12-01</th>\n",
       "      <td>1.11</td>\n",
       "      <td>1.00</td>\n",
       "      <td>1.00</td>\n",
       "      <td>1.00</td>\n",
       "      <td>0.92</td>\n",
       "      <td>1.02</td>\n",
       "      <td>1.10</td>\n",
       "      <td>1.00</td>\n",
       "      <td>1.00</td>\n",
       "      <td>0.97</td>\n",
       "      <td>...</td>\n",
       "      <td>1.00</td>\n",
       "      <td>1.00</td>\n",
       "      <td>1.00</td>\n",
       "      <td>1.18</td>\n",
       "      <td>1.00</td>\n",
       "      <td>1.01</td>\n",
       "      <td>1.00</td>\n",
       "      <td>1.00</td>\n",
       "      <td>1.00</td>\n",
       "      <td>0.93</td>\n",
       "    </tr>\n",
       "    <tr>\n",
       "      <th>2000-01-01</th>\n",
       "      <td>1.02</td>\n",
       "      <td>1.00</td>\n",
       "      <td>1.00</td>\n",
       "      <td>1.00</td>\n",
       "      <td>0.96</td>\n",
       "      <td>0.88</td>\n",
       "      <td>0.89</td>\n",
       "      <td>0.73</td>\n",
       "      <td>1.00</td>\n",
       "      <td>1.00</td>\n",
       "      <td>...</td>\n",
       "      <td>1.00</td>\n",
       "      <td>1.00</td>\n",
       "      <td>1.00</td>\n",
       "      <td>0.85</td>\n",
       "      <td>1.00</td>\n",
       "      <td>1.22</td>\n",
       "      <td>1.00</td>\n",
       "      <td>1.00</td>\n",
       "      <td>1.00</td>\n",
       "      <td>0.93</td>\n",
       "    </tr>\n",
       "    <tr>\n",
       "      <th>2000-02-01</th>\n",
       "      <td>1.00</td>\n",
       "      <td>1.01</td>\n",
       "      <td>0.81</td>\n",
       "      <td>1.23</td>\n",
       "      <td>1.08</td>\n",
       "      <td>0.96</td>\n",
       "      <td>1.25</td>\n",
       "      <td>1.95</td>\n",
       "      <td>1.18</td>\n",
       "      <td>0.93</td>\n",
       "      <td>...</td>\n",
       "      <td>1.03</td>\n",
       "      <td>0.94</td>\n",
       "      <td>1.07</td>\n",
       "      <td>1.04</td>\n",
       "      <td>1.47</td>\n",
       "      <td>1.97</td>\n",
       "      <td>1.13</td>\n",
       "      <td>0.95</td>\n",
       "      <td>1.01</td>\n",
       "      <td>0.94</td>\n",
       "    </tr>\n",
       "  </tbody>\n",
       "</table>\n",
       "<p>5 rows × 1653 columns</p>\n",
       "</div>"
      ]
     },
     "execution_count": 189,
     "metadata": {},
     "output_type": "execute_result"
    }
   ],
   "execution_count": 189
  },
  {
   "metadata": {
    "ExecuteTime": {
     "end_time": "2025-03-10T20:38:13.916271Z",
     "start_time": "2025-03-10T20:38:13.910587Z"
    }
   },
   "cell_type": "code",
   "source": "df.mean(axis=1)",
   "id": "53d7c3b81384646d",
   "outputs": [
    {
     "data": {
      "text/plain": [
       "Date\n",
       "1999-10-01         NaN\n",
       "1999-11-01    1.025547\n",
       "1999-12-01    1.033835\n",
       "2000-01-01    0.992874\n",
       "2000-02-01    5.930569\n",
       "                ...   \n",
       "2024-05-01    1.034162\n",
       "2024-06-01    0.993243\n",
       "2024-07-01    1.055251\n",
       "2024-08-01    0.997199\n",
       "2024-09-01    0.966679\n",
       "Length: 300, dtype: float64"
      ]
     },
     "execution_count": 175,
     "metadata": {},
     "output_type": "execute_result"
    }
   ],
   "execution_count": 175
  },
  {
   "metadata": {
    "ExecuteTime": {
     "end_time": "2025-03-10T23:13:58.364732Z",
     "start_time": "2025-03-10T23:13:58.210740Z"
    }
   },
   "cell_type": "code",
   "source": "X_train.head()",
   "id": "400dd7cbbf146d24",
   "outputs": [
    {
     "data": {
      "text/plain": [
       "   month  year  m_return(t-12)  m_return(t-11)  m_return(t-10)  m_return(t-9)  \\\n",
       "2     12  1999            1.00            1.00            1.00           1.00   \n",
       "3      1  2000            1.01            1.00            1.00           1.00   \n",
       "4      2  2000            1.00            1.01            1.00           1.00   \n",
       "5      3  2000            1.00            1.00            1.01           1.00   \n",
       "6      4  2000            1.00            1.00            1.00           1.01   \n",
       "\n",
       "   m_return(t-8)  m_return(t-7)  m_return(t-6)  m_return(t-5)  m_return(t-4)  \\\n",
       "2            1.0           1.01           1.00           1.00           1.00   \n",
       "3            1.0           1.00           1.01           1.00           1.00   \n",
       "4            1.0           1.00           1.00           1.01           1.00   \n",
       "5            1.0           1.00           1.00           1.00           1.01   \n",
       "6            1.0           1.00           1.00           1.00           1.00   \n",
       "\n",
       "   m_return(t-3)  m_return(t-2)  m_return(t-1)  m_return(t)  ticker_label  \n",
       "2           1.00            1.0           1.02         1.11          1371  \n",
       "3           1.00            1.0           1.00         1.02          1371  \n",
       "4           1.00            1.0           1.00         1.00          1371  \n",
       "5           1.00            1.0           1.00         1.00          1371  \n",
       "6           1.01            1.0           1.00         1.00          1371  "
      ],
      "text/html": [
       "<div>\n",
       "<style scoped>\n",
       "    .dataframe tbody tr th:only-of-type {\n",
       "        vertical-align: middle;\n",
       "    }\n",
       "\n",
       "    .dataframe tbody tr th {\n",
       "        vertical-align: top;\n",
       "    }\n",
       "\n",
       "    .dataframe thead th {\n",
       "        text-align: right;\n",
       "    }\n",
       "</style>\n",
       "<table border=\"1\" class=\"dataframe\">\n",
       "  <thead>\n",
       "    <tr style=\"text-align: right;\">\n",
       "      <th></th>\n",
       "      <th>month</th>\n",
       "      <th>year</th>\n",
       "      <th>m_return(t-12)</th>\n",
       "      <th>m_return(t-11)</th>\n",
       "      <th>m_return(t-10)</th>\n",
       "      <th>m_return(t-9)</th>\n",
       "      <th>m_return(t-8)</th>\n",
       "      <th>m_return(t-7)</th>\n",
       "      <th>m_return(t-6)</th>\n",
       "      <th>m_return(t-5)</th>\n",
       "      <th>m_return(t-4)</th>\n",
       "      <th>m_return(t-3)</th>\n",
       "      <th>m_return(t-2)</th>\n",
       "      <th>m_return(t-1)</th>\n",
       "      <th>m_return(t)</th>\n",
       "      <th>ticker_label</th>\n",
       "    </tr>\n",
       "  </thead>\n",
       "  <tbody>\n",
       "    <tr>\n",
       "      <th>2</th>\n",
       "      <td>12</td>\n",
       "      <td>1999</td>\n",
       "      <td>1.00</td>\n",
       "      <td>1.00</td>\n",
       "      <td>1.00</td>\n",
       "      <td>1.00</td>\n",
       "      <td>1.0</td>\n",
       "      <td>1.01</td>\n",
       "      <td>1.00</td>\n",
       "      <td>1.00</td>\n",
       "      <td>1.00</td>\n",
       "      <td>1.00</td>\n",
       "      <td>1.0</td>\n",
       "      <td>1.02</td>\n",
       "      <td>1.11</td>\n",
       "      <td>1371</td>\n",
       "    </tr>\n",
       "    <tr>\n",
       "      <th>3</th>\n",
       "      <td>1</td>\n",
       "      <td>2000</td>\n",
       "      <td>1.01</td>\n",
       "      <td>1.00</td>\n",
       "      <td>1.00</td>\n",
       "      <td>1.00</td>\n",
       "      <td>1.0</td>\n",
       "      <td>1.00</td>\n",
       "      <td>1.01</td>\n",
       "      <td>1.00</td>\n",
       "      <td>1.00</td>\n",
       "      <td>1.00</td>\n",
       "      <td>1.0</td>\n",
       "      <td>1.00</td>\n",
       "      <td>1.02</td>\n",
       "      <td>1371</td>\n",
       "    </tr>\n",
       "    <tr>\n",
       "      <th>4</th>\n",
       "      <td>2</td>\n",
       "      <td>2000</td>\n",
       "      <td>1.00</td>\n",
       "      <td>1.01</td>\n",
       "      <td>1.00</td>\n",
       "      <td>1.00</td>\n",
       "      <td>1.0</td>\n",
       "      <td>1.00</td>\n",
       "      <td>1.00</td>\n",
       "      <td>1.01</td>\n",
       "      <td>1.00</td>\n",
       "      <td>1.00</td>\n",
       "      <td>1.0</td>\n",
       "      <td>1.00</td>\n",
       "      <td>1.00</td>\n",
       "      <td>1371</td>\n",
       "    </tr>\n",
       "    <tr>\n",
       "      <th>5</th>\n",
       "      <td>3</td>\n",
       "      <td>2000</td>\n",
       "      <td>1.00</td>\n",
       "      <td>1.00</td>\n",
       "      <td>1.01</td>\n",
       "      <td>1.00</td>\n",
       "      <td>1.0</td>\n",
       "      <td>1.00</td>\n",
       "      <td>1.00</td>\n",
       "      <td>1.00</td>\n",
       "      <td>1.01</td>\n",
       "      <td>1.00</td>\n",
       "      <td>1.0</td>\n",
       "      <td>1.00</td>\n",
       "      <td>1.00</td>\n",
       "      <td>1371</td>\n",
       "    </tr>\n",
       "    <tr>\n",
       "      <th>6</th>\n",
       "      <td>4</td>\n",
       "      <td>2000</td>\n",
       "      <td>1.00</td>\n",
       "      <td>1.00</td>\n",
       "      <td>1.00</td>\n",
       "      <td>1.01</td>\n",
       "      <td>1.0</td>\n",
       "      <td>1.00</td>\n",
       "      <td>1.00</td>\n",
       "      <td>1.00</td>\n",
       "      <td>1.00</td>\n",
       "      <td>1.01</td>\n",
       "      <td>1.0</td>\n",
       "      <td>1.00</td>\n",
       "      <td>1.00</td>\n",
       "      <td>1371</td>\n",
       "    </tr>\n",
       "  </tbody>\n",
       "</table>\n",
       "</div>"
      ]
     },
     "execution_count": 190,
     "metadata": {},
     "output_type": "execute_result"
    }
   ],
   "execution_count": 190
  },
  {
   "metadata": {
    "ExecuteTime": {
     "end_time": "2025-03-10T23:14:10.892135Z",
     "start_time": "2025-03-10T23:14:10.818286Z"
    }
   },
   "cell_type": "code",
   "source": "y_test.head()",
   "id": "dd2cf617faa48fc2",
   "outputs": [
    {
     "data": {
      "text/plain": [
       "     m_return_target(t+1)\n",
       "255                  1.09\n",
       "256                  1.01\n",
       "257                  1.11\n",
       "258                  1.02\n",
       "259                  1.07"
      ],
      "text/html": [
       "<div>\n",
       "<style scoped>\n",
       "    .dataframe tbody tr th:only-of-type {\n",
       "        vertical-align: middle;\n",
       "    }\n",
       "\n",
       "    .dataframe tbody tr th {\n",
       "        vertical-align: top;\n",
       "    }\n",
       "\n",
       "    .dataframe thead th {\n",
       "        text-align: right;\n",
       "    }\n",
       "</style>\n",
       "<table border=\"1\" class=\"dataframe\">\n",
       "  <thead>\n",
       "    <tr style=\"text-align: right;\">\n",
       "      <th></th>\n",
       "      <th>m_return_target(t+1)</th>\n",
       "    </tr>\n",
       "  </thead>\n",
       "  <tbody>\n",
       "    <tr>\n",
       "      <th>255</th>\n",
       "      <td>1.09</td>\n",
       "    </tr>\n",
       "    <tr>\n",
       "      <th>256</th>\n",
       "      <td>1.01</td>\n",
       "    </tr>\n",
       "    <tr>\n",
       "      <th>257</th>\n",
       "      <td>1.11</td>\n",
       "    </tr>\n",
       "    <tr>\n",
       "      <th>258</th>\n",
       "      <td>1.02</td>\n",
       "    </tr>\n",
       "    <tr>\n",
       "      <th>259</th>\n",
       "      <td>1.07</td>\n",
       "    </tr>\n",
       "  </tbody>\n",
       "</table>\n",
       "</div>"
      ]
     },
     "execution_count": 191,
     "metadata": {},
     "output_type": "execute_result"
    }
   ],
   "execution_count": 191
  },
  {
   "metadata": {
    "ExecuteTime": {
     "end_time": "2025-03-10T20:38:23.569450Z",
     "start_time": "2025-03-10T20:38:14.113933Z"
    }
   },
   "cell_type": "code",
   "source": [
    "reg = xgboost.XGBRegressor(n_estimators=1000)\n",
    "reg.fit(X_train, y_train,\n",
    "        eval_set=[(X_train, y_train), (X_test, y_test)],\n",
    "        #early_stopping_rounds=50,\n",
    "        verbose=False) # Change verbose to True if you want to see it train"
   ],
   "id": "2cd1cababb8bbe1e",
   "outputs": [
    {
     "data": {
      "text/plain": [
       "XGBRegressor(base_score=None, booster=None, callbacks=None,\n",
       "             colsample_bylevel=None, colsample_bynode=None,\n",
       "             colsample_bytree=None, device=None, early_stopping_rounds=None,\n",
       "             enable_categorical=False, eval_metric=None, feature_types=None,\n",
       "             gamma=None, grow_policy=None, importance_type=None,\n",
       "             interaction_constraints=None, learning_rate=None, max_bin=None,\n",
       "             max_cat_threshold=None, max_cat_to_onehot=None,\n",
       "             max_delta_step=None, max_depth=None, max_leaves=None,\n",
       "             min_child_weight=None, missing=nan, monotone_constraints=None,\n",
       "             multi_strategy=None, n_estimators=1000, n_jobs=None,\n",
       "             num_parallel_tree=None, random_state=None, ...)"
      ],
      "text/html": [
       "<style>#sk-container-id-5 {color: black;}#sk-container-id-5 pre{padding: 0;}#sk-container-id-5 div.sk-toggleable {background-color: white;}#sk-container-id-5 label.sk-toggleable__label {cursor: pointer;display: block;width: 100%;margin-bottom: 0;padding: 0.3em;box-sizing: border-box;text-align: center;}#sk-container-id-5 label.sk-toggleable__label-arrow:before {content: \"▸\";float: left;margin-right: 0.25em;color: #696969;}#sk-container-id-5 label.sk-toggleable__label-arrow:hover:before {color: black;}#sk-container-id-5 div.sk-estimator:hover label.sk-toggleable__label-arrow:before {color: black;}#sk-container-id-5 div.sk-toggleable__content {max-height: 0;max-width: 0;overflow: hidden;text-align: left;background-color: #f0f8ff;}#sk-container-id-5 div.sk-toggleable__content pre {margin: 0.2em;color: black;border-radius: 0.25em;background-color: #f0f8ff;}#sk-container-id-5 input.sk-toggleable__control:checked~div.sk-toggleable__content {max-height: 200px;max-width: 100%;overflow: auto;}#sk-container-id-5 input.sk-toggleable__control:checked~label.sk-toggleable__label-arrow:before {content: \"▾\";}#sk-container-id-5 div.sk-estimator input.sk-toggleable__control:checked~label.sk-toggleable__label {background-color: #d4ebff;}#sk-container-id-5 div.sk-label input.sk-toggleable__control:checked~label.sk-toggleable__label {background-color: #d4ebff;}#sk-container-id-5 input.sk-hidden--visually {border: 0;clip: rect(1px 1px 1px 1px);clip: rect(1px, 1px, 1px, 1px);height: 1px;margin: -1px;overflow: hidden;padding: 0;position: absolute;width: 1px;}#sk-container-id-5 div.sk-estimator {font-family: monospace;background-color: #f0f8ff;border: 1px dotted black;border-radius: 0.25em;box-sizing: border-box;margin-bottom: 0.5em;}#sk-container-id-5 div.sk-estimator:hover {background-color: #d4ebff;}#sk-container-id-5 div.sk-parallel-item::after {content: \"\";width: 100%;border-bottom: 1px solid gray;flex-grow: 1;}#sk-container-id-5 div.sk-label:hover label.sk-toggleable__label {background-color: #d4ebff;}#sk-container-id-5 div.sk-serial::before {content: \"\";position: absolute;border-left: 1px solid gray;box-sizing: border-box;top: 0;bottom: 0;left: 50%;z-index: 0;}#sk-container-id-5 div.sk-serial {display: flex;flex-direction: column;align-items: center;background-color: white;padding-right: 0.2em;padding-left: 0.2em;position: relative;}#sk-container-id-5 div.sk-item {position: relative;z-index: 1;}#sk-container-id-5 div.sk-parallel {display: flex;align-items: stretch;justify-content: center;background-color: white;position: relative;}#sk-container-id-5 div.sk-item::before, #sk-container-id-5 div.sk-parallel-item::before {content: \"\";position: absolute;border-left: 1px solid gray;box-sizing: border-box;top: 0;bottom: 0;left: 50%;z-index: -1;}#sk-container-id-5 div.sk-parallel-item {display: flex;flex-direction: column;z-index: 1;position: relative;background-color: white;}#sk-container-id-5 div.sk-parallel-item:first-child::after {align-self: flex-end;width: 50%;}#sk-container-id-5 div.sk-parallel-item:last-child::after {align-self: flex-start;width: 50%;}#sk-container-id-5 div.sk-parallel-item:only-child::after {width: 0;}#sk-container-id-5 div.sk-dashed-wrapped {border: 1px dashed gray;margin: 0 0.4em 0.5em 0.4em;box-sizing: border-box;padding-bottom: 0.4em;background-color: white;}#sk-container-id-5 div.sk-label label {font-family: monospace;font-weight: bold;display: inline-block;line-height: 1.2em;}#sk-container-id-5 div.sk-label-container {text-align: center;}#sk-container-id-5 div.sk-container {/* jupyter's `normalize.less` sets `[hidden] { display: none; }` but bootstrap.min.css set `[hidden] { display: none !important; }` so we also need the `!important` here to be able to override the default hidden behavior on the sphinx rendered scikit-learn.org. See: https://github.com/scikit-learn/scikit-learn/issues/21755 */display: inline-block !important;position: relative;}#sk-container-id-5 div.sk-text-repr-fallback {display: none;}</style><div id=\"sk-container-id-5\" class=\"sk-top-container\"><div class=\"sk-text-repr-fallback\"><pre>XGBRegressor(base_score=None, booster=None, callbacks=None,\n",
       "             colsample_bylevel=None, colsample_bynode=None,\n",
       "             colsample_bytree=None, device=None, early_stopping_rounds=None,\n",
       "             enable_categorical=False, eval_metric=None, feature_types=None,\n",
       "             gamma=None, grow_policy=None, importance_type=None,\n",
       "             interaction_constraints=None, learning_rate=None, max_bin=None,\n",
       "             max_cat_threshold=None, max_cat_to_onehot=None,\n",
       "             max_delta_step=None, max_depth=None, max_leaves=None,\n",
       "             min_child_weight=None, missing=nan, monotone_constraints=None,\n",
       "             multi_strategy=None, n_estimators=1000, n_jobs=None,\n",
       "             num_parallel_tree=None, random_state=None, ...)</pre><b>In a Jupyter environment, please rerun this cell to show the HTML representation or trust the notebook. <br />On GitHub, the HTML representation is unable to render, please try loading this page with nbviewer.org.</b></div><div class=\"sk-container\" hidden><div class=\"sk-item\"><div class=\"sk-estimator sk-toggleable\"><input class=\"sk-toggleable__control sk-hidden--visually\" id=\"sk-estimator-id-5\" type=\"checkbox\" checked><label for=\"sk-estimator-id-5\" class=\"sk-toggleable__label sk-toggleable__label-arrow\">XGBRegressor</label><div class=\"sk-toggleable__content\"><pre>XGBRegressor(base_score=None, booster=None, callbacks=None,\n",
       "             colsample_bylevel=None, colsample_bynode=None,\n",
       "             colsample_bytree=None, device=None, early_stopping_rounds=None,\n",
       "             enable_categorical=False, eval_metric=None, feature_types=None,\n",
       "             gamma=None, grow_policy=None, importance_type=None,\n",
       "             interaction_constraints=None, learning_rate=None, max_bin=None,\n",
       "             max_cat_threshold=None, max_cat_to_onehot=None,\n",
       "             max_delta_step=None, max_depth=None, max_leaves=None,\n",
       "             min_child_weight=None, missing=nan, monotone_constraints=None,\n",
       "             multi_strategy=None, n_estimators=1000, n_jobs=None,\n",
       "             num_parallel_tree=None, random_state=None, ...)</pre></div></div></div></div></div>"
      ]
     },
     "execution_count": 178,
     "metadata": {},
     "output_type": "execute_result"
    }
   ],
   "execution_count": 178
  },
  {
   "metadata": {
    "ExecuteTime": {
     "end_time": "2025-03-10T20:38:25.209835Z",
     "start_time": "2025-03-10T20:38:23.575413Z"
    }
   },
   "cell_type": "code",
   "source": [
    "# Predictions\n",
    "y_train_pred = reg.predict(X_train)\n",
    "y_test_pred = reg.predict(X_test)"
   ],
   "id": "a76dc83bc9448997",
   "outputs": [],
   "execution_count": 179
  },
  {
   "metadata": {
    "ExecuteTime": {
     "end_time": "2025-03-10T20:38:25.215785Z",
     "start_time": "2025-03-10T20:38:25.212668Z"
    }
   },
   "cell_type": "code",
   "source": [
    "# True values\n",
    "y_true = df.mean(axis=1)"
   ],
   "id": "811bd1873de6da8",
   "outputs": [],
   "execution_count": 180
  },
  {
   "metadata": {
    "ExecuteTime": {
     "end_time": "2025-03-10T20:38:25.234522Z",
     "start_time": "2025-03-10T20:38:25.231904Z"
    }
   },
   "cell_type": "code",
   "source": "y_true",
   "id": "f553e8f4c67b28c4",
   "outputs": [
    {
     "data": {
      "text/plain": [
       "Date\n",
       "1999-10-01         NaN\n",
       "1999-11-01    1.025547\n",
       "1999-12-01    1.033835\n",
       "2000-01-01    0.992874\n",
       "2000-02-01    5.930569\n",
       "                ...   \n",
       "2024-05-01    1.034162\n",
       "2024-06-01    0.993243\n",
       "2024-07-01    1.055251\n",
       "2024-08-01    0.997199\n",
       "2024-09-01    0.966679\n",
       "Length: 300, dtype: float64"
      ]
     },
     "execution_count": 182,
     "metadata": {},
     "output_type": "execute_result"
    }
   ],
   "execution_count": 182
  },
  {
   "metadata": {
    "ExecuteTime": {
     "end_time": "2025-03-10T20:38:25.271013Z",
     "start_time": "2025-03-10T20:38:25.266560Z"
    }
   },
   "cell_type": "code",
   "source": [
    "\n",
    "train_pred_torch_list = torch.from_numpy(y_train_pred)\n",
    "# Reshape to (num_samples, num_features) for normalization\n",
    "train_rows = int(len(train_pred_torch_list)/1653)\n",
    "train_pred_torch_view = train_pred_torch_list.view(train_rows, 1653)\n",
    "df_train_pred_view = pd.DataFrame(train_pred_torch_view)\n",
    "y_train_true = df_train_pred_view.mean(axis=1)\n",
    "y_train_true"
   ],
   "id": "d9c2b8ca3b2e4c00",
   "outputs": [
    {
     "data": {
      "text/plain": [
       "0      1.008120\n",
       "1      1.013285\n",
       "2      1.010209\n",
       "3      1.012696\n",
       "4      1.011994\n",
       "         ...   \n",
       "248    1.018307\n",
       "249    1.013816\n",
       "250    1.014403\n",
       "251    1.010942\n",
       "252    1.015797\n",
       "Length: 253, dtype: float32"
      ]
     },
     "execution_count": 185,
     "metadata": {},
     "output_type": "execute_result"
    }
   ],
   "execution_count": 185
  },
  {
   "metadata": {
    "ExecuteTime": {
     "end_time": "2025-03-10T20:38:25.291174Z",
     "start_time": "2025-03-10T20:38:25.286262Z"
    }
   },
   "cell_type": "code",
   "source": [
    "test_pred_torch_list = torch.from_numpy(y_test_pred)\n",
    "test_rows = int(len(test_pred_torch_list) / 1653)\n",
    "\n",
    "test_pred_torch_view = test_pred_torch_list.view(test_rows, 1653)\n",
    "df_test_pred_view = pd.DataFrame(test_pred_torch_view)\n",
    "y_test_true = df_test_pred_view.mean(axis=1)\n",
    "y_test_true"
   ],
   "id": "cfc164d779a48a88",
   "outputs": [
    {
     "data": {
      "text/plain": [
       "0     1.079504\n",
       "1     1.128966\n",
       "2     1.150882\n",
       "3     1.105346\n",
       "4     1.138556\n",
       "5     1.098432\n",
       "6     1.144861\n",
       "7     1.079334\n",
       "8     1.143317\n",
       "9     1.132314\n",
       "10    1.156715\n",
       "11    1.112353\n",
       "12    1.100364\n",
       "13    1.093954\n",
       "14    1.098792\n",
       "15    1.130769\n",
       "16    1.074374\n",
       "17    1.152937\n",
       "18    1.134711\n",
       "19    1.141034\n",
       "20    1.145708\n",
       "21    1.187630\n",
       "22    1.139091\n",
       "23    1.140404\n",
       "24    1.095342\n",
       "25    1.135841\n",
       "26    1.152137\n",
       "27    1.137754\n",
       "28    1.192320\n",
       "29    1.126222\n",
       "30    1.128906\n",
       "31    1.106057\n",
       "32    1.204554\n",
       "33    1.143878\n",
       "34    1.146310\n",
       "35    1.126790\n",
       "36    1.109124\n",
       "37    1.080688\n",
       "38    1.104218\n",
       "39    1.114362\n",
       "40    1.091730\n",
       "41    1.188110\n",
       "42    1.125517\n",
       "43    1.107383\n",
       "44    1.132453\n",
       "dtype: float32"
      ]
     },
     "execution_count": 186,
     "metadata": {},
     "output_type": "execute_result"
    }
   ],
   "execution_count": 186
  },
  {
   "metadata": {
    "ExecuteTime": {
     "end_time": "2025-03-10T20:38:25.306395Z",
     "start_time": "2025-03-10T20:38:25.304504Z"
    }
   },
   "cell_type": "code",
   "source": [
    "#min_date = pd.to_datetime(df_tabular.index[-1]).replace(day=1) - pd.DateOffset(months=60)\n",
    "#min_datestr = min_date.strftime('%Y-%m-%d')\n",
    "min_datestr = '2020-01-0.1'"
   ],
   "id": "d3c63509c9a1efe5",
   "outputs": [],
   "execution_count": 187
  },
  {
   "metadata": {
    "ExecuteTime": {
     "end_time": "2025-03-10T20:38:25.344988Z",
     "start_time": "2025-03-10T20:38:25.313576Z"
    }
   },
   "cell_type": "code",
   "source": [
    "\n",
    "# Create the plot\n",
    "fig = go.Figure()\n",
    "\n",
    "# Add the timeseries line\n",
    "fig.add_trace(go.Scatter(y=y_true, x=df.index.tolist(), mode='lines', name='Actual returns',\n",
    "                         line=dict(color='#5c839f', width=2)))  #, line=dict(color='red'))\n",
    "# Add the training plot in red\n",
    "fig.add_trace(go.Scatter(y=y_train_true, x=df.index.tolist()[:len(y_train_true)],\n",
    "                         mode='lines', name='Train returns',\n",
    "                         line=dict(color='red', width=2)))  #, line=dict(color='red')\n",
    "\n",
    "# Add the testing plot in green\n",
    "fig.add_trace(go.Scatter(y=y_test_true, x=df.index.tolist()[len(y_train_true):],\n",
    "                         mode='lines', name='Test returns',\n",
    "                         line=dict(color='green', width=2)))  # , line=dict(color='green')\n",
    "\n",
    "fig.add_vline(x=min_datestr, line_color='red', line_dash='dash', line_width=1)\n",
    "\n",
    "# Update layout with labels\n",
    "fig.update_layout(\n",
    "        title='1 Year Prediction vs Actual Plot',\n",
    "        xaxis=dict(\n",
    "                title='Date'\n",
    "        ),\n",
    "        yaxis=dict(\n",
    "                title='Day closing return (%)',\n",
    "                tickformat='.0%',\n",
    "                range=[0.75, 1.6]\n",
    "        ),\n",
    "        legend=dict(title=\"Legend\"),\n",
    "        template=\"plotly_white\"\n",
    ")\n",
    "\n",
    "fig.show()"
   ],
   "id": "575407a2f792ce63",
   "outputs": [
    {
     "data": {
      "application/vnd.plotly.v1+json": {
       "data": [
        {
         "line": {
          "color": "#5c839f",
          "width": 2
         },
         "mode": "lines",
         "name": "Actual returns",
         "x": [
          "1999-10-01",
          "1999-11-01",
          "1999-12-01",
          "2000-01-01",
          "2000-02-01",
          "2000-03-01",
          "2000-04-01",
          "2000-05-01",
          "2000-06-01",
          "2000-07-01",
          "2000-08-01",
          "2000-09-01",
          "2000-10-01",
          "2000-11-01",
          "2000-12-01",
          "2001-01-01",
          "2001-02-01",
          "2001-03-01",
          "2001-04-01",
          "2001-05-01",
          "2001-06-01",
          "2001-07-01",
          "2001-08-01",
          "2001-09-01",
          "2001-10-01",
          "2001-11-01",
          "2001-12-01",
          "2002-01-01",
          "2002-02-01",
          "2002-03-01",
          "2002-04-01",
          "2002-05-01",
          "2002-06-01",
          "2002-07-01",
          "2002-08-01",
          "2002-09-01",
          "2002-10-01",
          "2002-11-01",
          "2002-12-01",
          "2003-01-01",
          "2003-02-01",
          "2003-03-01",
          "2003-04-01",
          "2003-05-01",
          "2003-06-01",
          "2003-07-01",
          "2003-08-01",
          "2003-09-01",
          "2003-10-01",
          "2003-11-01",
          "2003-12-01",
          "2004-01-01",
          "2004-02-01",
          "2004-03-01",
          "2004-04-01",
          "2004-05-01",
          "2004-06-01",
          "2004-07-01",
          "2004-08-01",
          "2004-09-01",
          "2004-10-01",
          "2004-11-01",
          "2004-12-01",
          "2005-01-01",
          "2005-02-01",
          "2005-03-01",
          "2005-04-01",
          "2005-05-01",
          "2005-06-01",
          "2005-07-01",
          "2005-08-01",
          "2005-09-01",
          "2005-10-01",
          "2005-11-01",
          "2005-12-01",
          "2006-01-01",
          "2006-02-01",
          "2006-03-01",
          "2006-04-01",
          "2006-05-01",
          "2006-06-01",
          "2006-07-01",
          "2006-08-01",
          "2006-09-01",
          "2006-10-01",
          "2006-11-01",
          "2006-12-01",
          "2007-01-01",
          "2007-02-01",
          "2007-03-01",
          "2007-04-01",
          "2007-05-01",
          "2007-06-01",
          "2007-07-01",
          "2007-08-01",
          "2007-09-01",
          "2007-10-01",
          "2007-11-01",
          "2007-12-01",
          "2008-01-01",
          "2008-02-01",
          "2008-03-01",
          "2008-04-01",
          "2008-05-01",
          "2008-06-01",
          "2008-07-01",
          "2008-08-01",
          "2008-09-01",
          "2008-10-01",
          "2008-11-01",
          "2008-12-01",
          "2009-01-01",
          "2009-02-01",
          "2009-03-01",
          "2009-04-01",
          "2009-05-01",
          "2009-06-01",
          "2009-07-01",
          "2009-08-01",
          "2009-09-01",
          "2009-10-01",
          "2009-11-01",
          "2009-12-01",
          "2010-01-01",
          "2010-02-01",
          "2010-03-01",
          "2010-04-01",
          "2010-05-01",
          "2010-06-01",
          "2010-07-01",
          "2010-08-01",
          "2010-09-01",
          "2010-10-01",
          "2010-11-01",
          "2010-12-01",
          "2011-01-01",
          "2011-02-01",
          "2011-03-01",
          "2011-04-01",
          "2011-05-01",
          "2011-06-01",
          "2011-07-01",
          "2011-08-01",
          "2011-09-01",
          "2011-10-01",
          "2011-11-01",
          "2011-12-01",
          "2012-01-01",
          "2012-02-01",
          "2012-03-01",
          "2012-04-01",
          "2012-05-01",
          "2012-06-01",
          "2012-07-01",
          "2012-08-01",
          "2012-09-01",
          "2012-10-01",
          "2012-11-01",
          "2012-12-01",
          "2013-01-01",
          "2013-02-01",
          "2013-03-01",
          "2013-04-01",
          "2013-05-01",
          "2013-06-01",
          "2013-07-01",
          "2013-08-01",
          "2013-09-01",
          "2013-10-01",
          "2013-11-01",
          "2013-12-01",
          "2014-01-01",
          "2014-02-01",
          "2014-03-01",
          "2014-04-01",
          "2014-05-01",
          "2014-06-01",
          "2014-07-01",
          "2014-08-01",
          "2014-09-01",
          "2014-10-01",
          "2014-11-01",
          "2014-12-01",
          "2015-01-01",
          "2015-02-01",
          "2015-03-01",
          "2015-04-01",
          "2015-05-01",
          "2015-06-01",
          "2015-07-01",
          "2015-08-01",
          "2015-09-01",
          "2015-10-01",
          "2015-11-01",
          "2015-12-01",
          "2016-01-01",
          "2016-02-01",
          "2016-03-01",
          "2016-04-01",
          "2016-05-01",
          "2016-06-01",
          "2016-07-01",
          "2016-08-01",
          "2016-09-01",
          "2016-10-01",
          "2016-11-01",
          "2016-12-01",
          "2017-01-01",
          "2017-02-01",
          "2017-03-01",
          "2017-04-01",
          "2017-05-01",
          "2017-06-01",
          "2017-07-01",
          "2017-08-01",
          "2017-09-01",
          "2017-10-01",
          "2017-11-01",
          "2017-12-01",
          "2018-01-01",
          "2018-02-01",
          "2018-03-01",
          "2018-04-01",
          "2018-05-01",
          "2018-06-01",
          "2018-07-01",
          "2018-08-01",
          "2018-09-01",
          "2018-10-01",
          "2018-11-01",
          "2018-12-01",
          "2019-01-01",
          "2019-02-01",
          "2019-03-01",
          "2019-04-01",
          "2019-05-01",
          "2019-06-01",
          "2019-07-01",
          "2019-08-01",
          "2019-09-01",
          "2019-10-01",
          "2019-11-01",
          "2019-12-01",
          "2020-01-01",
          "2020-02-01",
          "2020-03-01",
          "2020-04-01",
          "2020-05-01",
          "2020-06-01",
          "2020-07-01",
          "2020-08-01",
          "2020-09-01",
          "2020-10-01",
          "2020-11-01",
          "2020-12-01",
          "2021-01-01",
          "2021-02-01",
          "2021-03-01",
          "2021-04-01",
          "2021-05-01",
          "2021-06-01",
          "2021-07-01",
          "2021-08-01",
          "2021-09-01",
          "2021-10-01",
          "2021-11-01",
          "2021-12-01",
          "2022-01-01",
          "2022-02-01",
          "2022-03-01",
          "2022-04-01",
          "2022-05-01",
          "2022-06-01",
          "2022-07-01",
          "2022-08-01",
          "2022-09-01",
          "2022-10-01",
          "2022-11-01",
          "2022-12-01",
          "2023-01-01",
          "2023-02-01",
          "2023-03-01",
          "2023-04-01",
          "2023-05-01",
          "2023-06-01",
          "2023-07-01",
          "2023-08-01",
          "2023-09-01",
          "2023-10-01",
          "2023-11-01",
          "2023-12-01",
          "2024-01-01",
          "2024-02-01",
          "2024-03-01",
          "2024-04-01",
          "2024-05-01",
          "2024-06-01",
          "2024-07-01",
          "2024-08-01",
          "2024-09-01"
         ],
         "y": [
          null,
          1.0255474894131882,
          1.0338354506957046,
          0.9928735632183908,
          5.930568663036903,
          1.02524500907441,
          0.9939624924379915,
          0.9817483363581366,
          1.0329461584996975,
          0.9952389594676346,
          1.027350272232305,
          0.9906291591046583,
          0.9893103448275862,
          0.9717422867513611,
          1.0094071385359953,
          1.0391651542649727,
          0.9689776164549303,
          0.9847489413188143,
          1.0655414398064127,
          1.0118451300665456,
          0.9984392014519057,
          0.9735087719298245,
          0.9690865093768906,
          0.9132849364791288,
          1.0499274047186933,
          1.050798548094374,
          1.0158620689655173,
          0.9939322444041138,
          1.0093103448275862,
          1.050725952813067,
          1.007102238354507,
          1.0027646702964308,
          0.9519721718088325,
          0.9418874773139746,
          0.9874833635813671,
          0.9568905021173624,
          1.0078644888082275,
          1.0582516636418633,
          0.9664125831820932,
          0.9890199637023595,
          1.0055716878402905,
          0.9959830611010285,
          1.0599516031457954,
          1.0670054446460981,
          1.034162129461585,
          1.508451300665457,
          1.0614277071990321,
          1.0038233514821537,
          1.0498003629764066,
          1.0042286751361162,
          1.015849969751966,
          1.0305263157894737,
          1.0141560798548095,
          1.0468421052631578,
          1.0040834845735027,
          0.992474289171204,
          1.0346218995765275,
          0.9633877797943133,
          0.9934119782214157,
          1.0055535390199637,
          1.0005565638233516,
          1.0293163944343617,
          1.053762855414398,
          1.00643073200242,
          1.0203811252268602,
          0.9955595886267392,
          0.9733030852994556,
          1.033145795523291,
          1.0216817906836055,
          1.0358136721113127,
          0.9993042952208105,
          1.1286509376890503,
          1.0726013309134907,
          3.2130248033877797,
          1.0215607985480943,
          1.0408166969147006,
          1.0128917120387175,
          1.027501512401694,
          1.0092075015124016,
          0.9686267392619479,
          0.9991833030852995,
          0.9856866303690262,
          1.0248820326678767,
          1.0297519661222019,
          1.0213853599516032,
          1.0188808227465216,
          1.027979431336963,
          1.0368723532970356,
          1.0044404113732608,
          1.0015849969751967,
          1.0188082274652148,
          1.0226194797338173,
          0.9885843920145191,
          0.9759286146400484,
          0.9907501512401694,
          1.002474289171204,
          1.0255172413793103,
          0.9479370840895343,
          0.9907743496672716,
          0.9420447670901392,
          0.9907199032062917,
          0.9868784029038112,
          1.0311494252873565,
          1.02318814277072,
          0.9375620084694495,
          0.9950090744101633,
          1.0215789473684211,
          0.9273018753781004,
          0.8458197217180883,
          0.9447489413188144,
          1.0413006654567454,
          0.9497701149425287,
          0.9416515426497277,
          1.0697580157289777,
          1.1476164549304295,
          1.0432909860859043,
          1.0350211736237145,
          1.0623895946763462,
          1.0552026618269812,
          1.0322746521476103,
          0.9779915305505141,
          1.0015910465819722,
          1.0513793103448277,
          0.9896067755595885,
          1.0185541439806414,
          1.0590381125226862,
          1.0449969751966124,
          0.9456261343012704,
          0.9619419237749547,
          1.0388626739261946,
          0.9645856019358742,
          1.0696067755595886,
          1.0163883847549908,
          1.0275862068965518,
          1.0584029038112523,
          1.0119782214156081,
          1.0324803387779795,
          1.0016031457955235,
          1.0198850574712643,
          0.9949969751966122,
          0.9972353297035693,
          0.9830429522081064,
          0.9474712643678161,
          0.9529824561403508,
          1.0689231699939505,
          0.9843375680580763,
          1.0002540834845735,
          1.0593768905021175,
          1.0995402298850574,
          1.026303690260133,
          0.9927465214761042,
          0.9427586206896552,
          1.0300241984271024,
          0.9957652752571083,
          1.0196672716273443,
          1.0171506352087114,
          1.0012038717483362,
          1.0166848154869934,
          1.0311736237144584,
          1.0607924984875983,
          1.0218390804597701,
          1.0406836055656383,
          1.0333696309739866,
          1.01821536600121,
          0.990508166969147,
          1.0369933454325468,
          0.98346037507562,
          1.0512159709618873,
          1.0213430127041743,
          1.0239806412583181,
          1.022280701754386,
          0.9877434966727164,
          1.0288626739261948,
          1.0008287961282516,
          0.9851845130066547,
          1.0161161524500906,
          1.0306473079249847,
          0.9871445856019359,
          1.026745311554749,
          0.989491833030853,
          1.0253115547489413,
          1.04167574107683,
          1.0141681790683605,
          1.0019419237749547,
          1.0444585601935874,
          1.0097459165154263,
          1.000411373260738,
          1.0252087114337567,
          0.9903266787658802,
          1.012788868723533,
          0.9586448880822745,
          0.9679854809437386,
          1.0623411978221418,
          1.0190018148820326,
          0.9822928009679371,
          0.9491107078039926,
          0.9993587416817907,
          1.0566122202056867,
          1.0004355716878404,
          1.0214095583787053,
          0.9709074410163339,
          1.0535813672111312,
          1.0110102843315183,
          1.0043375680580762,
          0.9848154869933453,
          1.0514337568058076,
          1.0315486993345433,
          1.0146581972171809,
          1.0218451300665456,
          1.009751966122202,
          1.0155958862673926,
          1.0126678765880217,
          1.0131215970961889,
          1.0135692679975803,
          1.0033877797943134,
          1.0308892921960073,
          1.0195220810647307,
          1.0232244404113733,
          1.0114458560193589,
          1.023817301875378,
          0.974422262552934,
          0.996636418632789,
          1.0194797338173018,
          1.0263641863278887,
          1.0086327888687234,
          1.0175922565033273,
          1.0217725347852389,
          0.9907501512401694,
          0.9365880217785845,
          1.0115124016938897,
          0.9133272837265578,
          1.0914398064125832,
          1.0367513611615244,
          1.004137931034483,
          1.043049001814882,
          0.940822746521476,
          1.0453539019963702,
          1.0221234119782214,
          0.9704476709013913,
          1.0369449485783424,
          1.0294797338173018,
          1.0347307924984874,
          1.0268058076225044,
          0.9897519661222022,
          0.9099153055051422,
          0.8183847549909256,
          1.1260314579552329,
          1.072552934059286,
          1.0304174228675136,
          1.0225710828796128,
          1.0605565638233514,
          0.9945130066545675,
          0.9923290986085905,
          1.1583847549909256,
          1.0579612825166365,
          1.0404839685420448,
          1.053793103448276,
          1.0589292196007258,
          1.037652752571083,
          1.0213430127041743,
          1.0207562008469449,
          1.0036418632788868,
          1.025287356321839,
          0.9864851784633998,
          1.0300241984271024,
          0.969933454325469,
          1.0402117362371448,
          0.9256805807622505,
          0.9876830006049606,
          1.003230490018149,
          0.9446763460375075,
          1.0007199032062917,
          0.9249425287356322,
          1.0904295220810647,
          0.9692982456140351,
          0.901373260738052,
          1.0810284331518452,
          1.0552994555353903,
          0.9577374470659408,
          1.0973321234119784,
          0.9889957652752571,
          0.979933454325469,
          1.001318814277072,
          0.9908832425892315,
          1.0624803387779795,
          1.0433393829401088,
          0.9686206896551725,
          0.95978221415608,
          0.9421113127646703,
          1.0877132486388386,
          1.079328493647913,
          0.9853962492437992,
          1.0741379310344827,
          1.0276285541439807,
          0.9559709618874773,
          1.0341621294615853,
          0.9932425892317,
          1.0552510586811856,
          0.9971990320629158,
          0.9666787658802178
         ],
         "type": "scatter"
        },
        {
         "line": {
          "color": "red",
          "width": 2
         },
         "mode": "lines",
         "name": "Train returns",
         "x": [
          "1999-10-01",
          "1999-11-01",
          "1999-12-01",
          "2000-01-01",
          "2000-02-01",
          "2000-03-01",
          "2000-04-01",
          "2000-05-01",
          "2000-06-01",
          "2000-07-01",
          "2000-08-01",
          "2000-09-01",
          "2000-10-01",
          "2000-11-01",
          "2000-12-01",
          "2001-01-01",
          "2001-02-01",
          "2001-03-01",
          "2001-04-01",
          "2001-05-01",
          "2001-06-01",
          "2001-07-01",
          "2001-08-01",
          "2001-09-01",
          "2001-10-01",
          "2001-11-01",
          "2001-12-01",
          "2002-01-01",
          "2002-02-01",
          "2002-03-01",
          "2002-04-01",
          "2002-05-01",
          "2002-06-01",
          "2002-07-01",
          "2002-08-01",
          "2002-09-01",
          "2002-10-01",
          "2002-11-01",
          "2002-12-01",
          "2003-01-01",
          "2003-02-01",
          "2003-03-01",
          "2003-04-01",
          "2003-05-01",
          "2003-06-01",
          "2003-07-01",
          "2003-08-01",
          "2003-09-01",
          "2003-10-01",
          "2003-11-01",
          "2003-12-01",
          "2004-01-01",
          "2004-02-01",
          "2004-03-01",
          "2004-04-01",
          "2004-05-01",
          "2004-06-01",
          "2004-07-01",
          "2004-08-01",
          "2004-09-01",
          "2004-10-01",
          "2004-11-01",
          "2004-12-01",
          "2005-01-01",
          "2005-02-01",
          "2005-03-01",
          "2005-04-01",
          "2005-05-01",
          "2005-06-01",
          "2005-07-01",
          "2005-08-01",
          "2005-09-01",
          "2005-10-01",
          "2005-11-01",
          "2005-12-01",
          "2006-01-01",
          "2006-02-01",
          "2006-03-01",
          "2006-04-01",
          "2006-05-01",
          "2006-06-01",
          "2006-07-01",
          "2006-08-01",
          "2006-09-01",
          "2006-10-01",
          "2006-11-01",
          "2006-12-01",
          "2007-01-01",
          "2007-02-01",
          "2007-03-01",
          "2007-04-01",
          "2007-05-01",
          "2007-06-01",
          "2007-07-01",
          "2007-08-01",
          "2007-09-01",
          "2007-10-01",
          "2007-11-01",
          "2007-12-01",
          "2008-01-01",
          "2008-02-01",
          "2008-03-01",
          "2008-04-01",
          "2008-05-01",
          "2008-06-01",
          "2008-07-01",
          "2008-08-01",
          "2008-09-01",
          "2008-10-01",
          "2008-11-01",
          "2008-12-01",
          "2009-01-01",
          "2009-02-01",
          "2009-03-01",
          "2009-04-01",
          "2009-05-01",
          "2009-06-01",
          "2009-07-01",
          "2009-08-01",
          "2009-09-01",
          "2009-10-01",
          "2009-11-01",
          "2009-12-01",
          "2010-01-01",
          "2010-02-01",
          "2010-03-01",
          "2010-04-01",
          "2010-05-01",
          "2010-06-01",
          "2010-07-01",
          "2010-08-01",
          "2010-09-01",
          "2010-10-01",
          "2010-11-01",
          "2010-12-01",
          "2011-01-01",
          "2011-02-01",
          "2011-03-01",
          "2011-04-01",
          "2011-05-01",
          "2011-06-01",
          "2011-07-01",
          "2011-08-01",
          "2011-09-01",
          "2011-10-01",
          "2011-11-01",
          "2011-12-01",
          "2012-01-01",
          "2012-02-01",
          "2012-03-01",
          "2012-04-01",
          "2012-05-01",
          "2012-06-01",
          "2012-07-01",
          "2012-08-01",
          "2012-09-01",
          "2012-10-01",
          "2012-11-01",
          "2012-12-01",
          "2013-01-01",
          "2013-02-01",
          "2013-03-01",
          "2013-04-01",
          "2013-05-01",
          "2013-06-01",
          "2013-07-01",
          "2013-08-01",
          "2013-09-01",
          "2013-10-01",
          "2013-11-01",
          "2013-12-01",
          "2014-01-01",
          "2014-02-01",
          "2014-03-01",
          "2014-04-01",
          "2014-05-01",
          "2014-06-01",
          "2014-07-01",
          "2014-08-01",
          "2014-09-01",
          "2014-10-01",
          "2014-11-01",
          "2014-12-01",
          "2015-01-01",
          "2015-02-01",
          "2015-03-01",
          "2015-04-01",
          "2015-05-01",
          "2015-06-01",
          "2015-07-01",
          "2015-08-01",
          "2015-09-01",
          "2015-10-01",
          "2015-11-01",
          "2015-12-01",
          "2016-01-01",
          "2016-02-01",
          "2016-03-01",
          "2016-04-01",
          "2016-05-01",
          "2016-06-01",
          "2016-07-01",
          "2016-08-01",
          "2016-09-01",
          "2016-10-01",
          "2016-11-01",
          "2016-12-01",
          "2017-01-01",
          "2017-02-01",
          "2017-03-01",
          "2017-04-01",
          "2017-05-01",
          "2017-06-01",
          "2017-07-01",
          "2017-08-01",
          "2017-09-01",
          "2017-10-01",
          "2017-11-01",
          "2017-12-01",
          "2018-01-01",
          "2018-02-01",
          "2018-03-01",
          "2018-04-01",
          "2018-05-01",
          "2018-06-01",
          "2018-07-01",
          "2018-08-01",
          "2018-09-01",
          "2018-10-01",
          "2018-11-01",
          "2018-12-01",
          "2019-01-01",
          "2019-02-01",
          "2019-03-01",
          "2019-04-01",
          "2019-05-01",
          "2019-06-01",
          "2019-07-01",
          "2019-08-01",
          "2019-09-01",
          "2019-10-01",
          "2019-11-01",
          "2019-12-01",
          "2020-01-01",
          "2020-02-01",
          "2020-03-01",
          "2020-04-01",
          "2020-05-01",
          "2020-06-01",
          "2020-07-01",
          "2020-08-01",
          "2020-09-01",
          "2020-10-01"
         ],
         "y": [
          1.0081195831298828,
          1.0132850408554077,
          1.0102092027664185,
          1.0126957893371582,
          1.0119937658309937,
          1.0119580030441284,
          1.0123369693756104,
          1.01091730594635,
          1.010648488998413,
          1.01251220703125,
          1.0100704431533813,
          1.0094189643859863,
          1.0082948207855225,
          1.0098857879638672,
          1.0134553909301758,
          1.0118005275726318,
          1.0116769075393677,
          1.0092144012451172,
          1.0112810134887695,
          1.0122714042663574,
          1.0105862617492676,
          1.0081791877746582,
          1.0138064622879028,
          1.0155110359191895,
          1.0143799781799316,
          1.0133129358291626,
          1.0117729902267456,
          1.0125651359558105,
          1.0091346502304077,
          1.0127031803131104,
          1.0112355947494507,
          1.0119082927703857,
          1.0099409818649292,
          1.007764458656311,
          1.0233334302902222,
          1.0101090669631958,
          1.0141550302505493,
          1.0105575323104858,
          1.012223482131958,
          1.0170096158981323,
          1.0092101097106934,
          1.0130136013031006,
          1.0105584859848022,
          1.0114035606384277,
          1.0086195468902588,
          1.0121806859970093,
          1.0112967491149902,
          1.007916808128357,
          1.012912392616272,
          1.013501763343811,
          1.0138341188430786,
          1.0089294910430908,
          1.008433222770691,
          1.011435866355896,
          1.0074560642242432,
          8.350676536560059,
          1.009595513343811,
          1.009162425994873,
          1.0071516036987305,
          1.012943983078003,
          1.0191996097564697,
          1.0137410163879395,
          1.0103075504302979,
          1.011160969734192,
          1.010968804359436,
          1.0114998817443848,
          1.0138291120529175,
          1.0221110582351685,
          1.0148091316223145,
          1.0096416473388672,
          1.0107852220535278,
          1.0129090547561646,
          1.0112309455871582,
          1.0105727910995483,
          1.0111925601959229,
          1.0083860158920288,
          1.0093002319335938,
          1.0101746320724487,
          1.0133634805679321,
          1.0127860307693481,
          1.0101488828659058,
          1.013654112815857,
          1.0141055583953857,
          1.0086054801940918,
          1.0130605697631836,
          1.0145456790924072,
          1.0090092420578003,
          1.0084556341171265,
          1.008034586906433,
          1.0078052282333374,
          1.0089256763458252,
          1.0110650062561035,
          1.0116002559661865,
          1.0096081495285034,
          1.009109616279602,
          1.007054090499878,
          1.0082765817642212,
          1.011719822883606,
          1.0085052251815796,
          1.0134828090667725,
          1.0125727653503418,
          1.006773591041565,
          1.0134071111679077,
          1.0104671716690063,
          1.0131139755249023,
          1.0139071941375732,
          1.012052297592163,
          1.0153374671936035,
          1.0134856700897217,
          1.0164077281951904,
          1.0106619596481323,
          1.0166956186294556,
          1.0076552629470825,
          1.010422706604004,
          1.0109869241714478,
          1.0100269317626953,
          1.0089237689971924,
          1.012015700340271,
          1.0098217725753784,
          1.0120456218719482,
          1.0091062784194946,
          1.0155422687530518,
          1.0090175867080688,
          1.0081350803375244,
          1.0093375444412231,
          1.016213297843933,
          1.007785677909851,
          1.011305570602417,
          1.0095744132995605,
          1.1010997295379639,
          1.0105602741241455,
          1.0151644945144653,
          1.0086034536361694,
          1.0135976076126099,
          1.012308120727539,
          1.0080795288085938,
          1.0141130685806274,
          1.018418788909912,
          1.013731598854065,
          1.010923981666565,
          1.0089243650436401,
          1.0096977949142456,
          0.9537656307220459,
          1.007724642753601,
          1.0090582370758057,
          1.0062789916992188,
          1.0116965770721436,
          1.0089696645736694,
          1.0083081722259521,
          1.010530948638916,
          1.0164122581481934,
          1.0089343786239624,
          1.0152997970581055,
          1.0084155797958374,
          1.010642409324646,
          1.0127795934677124,
          1.010048508644104,
          1.0075751543045044,
          1.0199421644210815,
          1.0112711191177368,
          1.0207316875457764,
          1.0112487077713013,
          1.0122095346450806,
          1.0101704597473145,
          1.0190659761428833,
          1.0109807252883911,
          1.013121485710144,
          1.0106055736541748,
          1.008668303489685,
          1.009606957435608,
          1.0102145671844482,
          1.0114717483520508,
          1.0138205289840698,
          1.0148805379867554,
          1.0133144855499268,
          1.007098913192749,
          1.0122170448303223,
          1.0095568895339966,
          1.0077216625213623,
          1.115280032157898,
          1.009240984916687,
          1.011620044708252,
          1.01959228515625,
          1.016531229019165,
          1.0077991485595703,
          1.0071380138397217,
          1.0116547346115112,
          1.0087310075759888,
          1.0125393867492676,
          1.0102674961090088,
          1.0098497867584229,
          1.0110065937042236,
          1.006915807723999,
          1.010988712310791,
          1.0090159177780151,
          1.0143072605133057,
          1.0119714736938477,
          1.0127235651016235,
          1.011777639389038,
          1.0073809623718262,
          1.0078892707824707,
          1.012528419494629,
          1.010520339012146,
          1.0142831802368164,
          1.0052926540374756,
          1.0110862255096436,
          1.011254072189331,
          1.005326509475708,
          1.0084025859832764,
          1.0105609893798828,
          1.0096713304519653,
          1.0106385946273804,
          1.0148117542266846,
          1.0122106075286865,
          1.0096900463104248,
          1.0070322751998901,
          1.0122734308242798,
          1.011049747467041,
          1.0116028785705566,
          1.0072599649429321,
          1.0093129873275757,
          1.012621521949768,
          1.0116959810256958,
          1.0147629976272583,
          1.0099645853042603,
          1.0086785554885864,
          1.0117387771606445,
          1.0100722312927246,
          1.0110015869140625,
          1.0109302997589111,
          1.0146557092666626,
          1.009980320930481,
          1.0112730264663696,
          1.0082913637161255,
          1.010249137878418,
          1.0129066705703735,
          1.010164499282837,
          1.0127800703048706,
          1.0098557472229004,
          1.0094348192214966,
          1.0078924894332886,
          1.0104320049285889,
          1.010561227798462,
          1.0076333284378052,
          1.0227166414260864,
          1.0160424709320068,
          1.007429838180542,
          1.013296127319336,
          1.0183073282241821,
          1.013816475868225,
          1.014402985572815,
          1.0109422206878662,
          1.0157970190048218
         ],
         "type": "scatter"
        },
        {
         "line": {
          "color": "green",
          "width": 2
         },
         "mode": "lines",
         "name": "Test returns",
         "x": [
          "2020-11-01",
          "2020-12-01",
          "2021-01-01",
          "2021-02-01",
          "2021-03-01",
          "2021-04-01",
          "2021-05-01",
          "2021-06-01",
          "2021-07-01",
          "2021-08-01",
          "2021-09-01",
          "2021-10-01",
          "2021-11-01",
          "2021-12-01",
          "2022-01-01",
          "2022-02-01",
          "2022-03-01",
          "2022-04-01",
          "2022-05-01",
          "2022-06-01",
          "2022-07-01",
          "2022-08-01",
          "2022-09-01",
          "2022-10-01",
          "2022-11-01",
          "2022-12-01",
          "2023-01-01",
          "2023-02-01",
          "2023-03-01",
          "2023-04-01",
          "2023-05-01",
          "2023-06-01",
          "2023-07-01",
          "2023-08-01",
          "2023-09-01",
          "2023-10-01",
          "2023-11-01",
          "2023-12-01",
          "2024-01-01",
          "2024-02-01",
          "2024-03-01",
          "2024-04-01",
          "2024-05-01",
          "2024-06-01",
          "2024-07-01",
          "2024-08-01",
          "2024-09-01"
         ],
         "y": [
          1.0795044898986816,
          1.1289660930633545,
          1.1508824825286865,
          1.1053457260131836,
          1.1385562419891357,
          1.0984324216842651,
          1.144860863685608,
          1.0793339014053345,
          1.1433171033859253,
          1.1323137283325195,
          1.1567152738571167,
          1.1123530864715576,
          1.1003637313842773,
          1.0939539670944214,
          1.0987920761108398,
          1.13076913356781,
          1.0743743181228638,
          1.152937412261963,
          1.1347105503082275,
          1.1410340070724487,
          1.145708441734314,
          1.1876295804977417,
          1.1390914916992188,
          1.1404041051864624,
          1.0953422784805298,
          1.1358411312103271,
          1.152137279510498,
          1.1377538442611694,
          1.192320466041565,
          1.1262223720550537,
          1.1289057731628418,
          1.1060566902160645,
          1.2045537233352661,
          1.1438778638839722,
          1.1463096141815186,
          1.1267895698547363,
          1.1091235876083374,
          1.0806878805160522,
          1.104217767715454,
          1.1143624782562256,
          1.091729998588562,
          1.1881104707717896,
          1.12551748752594,
          1.1073834896087646,
          1.1324529647827148
         ],
         "type": "scatter"
        }
       ],
       "layout": {
        "template": {
         "data": {
          "barpolar": [
           {
            "marker": {
             "line": {
              "color": "white",
              "width": 0.5
             },
             "pattern": {
              "fillmode": "overlay",
              "size": 10,
              "solidity": 0.2
             }
            },
            "type": "barpolar"
           }
          ],
          "bar": [
           {
            "error_x": {
             "color": "#2a3f5f"
            },
            "error_y": {
             "color": "#2a3f5f"
            },
            "marker": {
             "line": {
              "color": "white",
              "width": 0.5
             },
             "pattern": {
              "fillmode": "overlay",
              "size": 10,
              "solidity": 0.2
             }
            },
            "type": "bar"
           }
          ],
          "carpet": [
           {
            "aaxis": {
             "endlinecolor": "#2a3f5f",
             "gridcolor": "#C8D4E3",
             "linecolor": "#C8D4E3",
             "minorgridcolor": "#C8D4E3",
             "startlinecolor": "#2a3f5f"
            },
            "baxis": {
             "endlinecolor": "#2a3f5f",
             "gridcolor": "#C8D4E3",
             "linecolor": "#C8D4E3",
             "minorgridcolor": "#C8D4E3",
             "startlinecolor": "#2a3f5f"
            },
            "type": "carpet"
           }
          ],
          "choropleth": [
           {
            "colorbar": {
             "outlinewidth": 0,
             "ticks": ""
            },
            "type": "choropleth"
           }
          ],
          "contourcarpet": [
           {
            "colorbar": {
             "outlinewidth": 0,
             "ticks": ""
            },
            "type": "contourcarpet"
           }
          ],
          "contour": [
           {
            "colorbar": {
             "outlinewidth": 0,
             "ticks": ""
            },
            "colorscale": [
             [
              0.0,
              "#0d0887"
             ],
             [
              0.1111111111111111,
              "#46039f"
             ],
             [
              0.2222222222222222,
              "#7201a8"
             ],
             [
              0.3333333333333333,
              "#9c179e"
             ],
             [
              0.4444444444444444,
              "#bd3786"
             ],
             [
              0.5555555555555556,
              "#d8576b"
             ],
             [
              0.6666666666666666,
              "#ed7953"
             ],
             [
              0.7777777777777778,
              "#fb9f3a"
             ],
             [
              0.8888888888888888,
              "#fdca26"
             ],
             [
              1.0,
              "#f0f921"
             ]
            ],
            "type": "contour"
           }
          ],
          "heatmapgl": [
           {
            "colorbar": {
             "outlinewidth": 0,
             "ticks": ""
            },
            "colorscale": [
             [
              0.0,
              "#0d0887"
             ],
             [
              0.1111111111111111,
              "#46039f"
             ],
             [
              0.2222222222222222,
              "#7201a8"
             ],
             [
              0.3333333333333333,
              "#9c179e"
             ],
             [
              0.4444444444444444,
              "#bd3786"
             ],
             [
              0.5555555555555556,
              "#d8576b"
             ],
             [
              0.6666666666666666,
              "#ed7953"
             ],
             [
              0.7777777777777778,
              "#fb9f3a"
             ],
             [
              0.8888888888888888,
              "#fdca26"
             ],
             [
              1.0,
              "#f0f921"
             ]
            ],
            "type": "heatmapgl"
           }
          ],
          "heatmap": [
           {
            "colorbar": {
             "outlinewidth": 0,
             "ticks": ""
            },
            "colorscale": [
             [
              0.0,
              "#0d0887"
             ],
             [
              0.1111111111111111,
              "#46039f"
             ],
             [
              0.2222222222222222,
              "#7201a8"
             ],
             [
              0.3333333333333333,
              "#9c179e"
             ],
             [
              0.4444444444444444,
              "#bd3786"
             ],
             [
              0.5555555555555556,
              "#d8576b"
             ],
             [
              0.6666666666666666,
              "#ed7953"
             ],
             [
              0.7777777777777778,
              "#fb9f3a"
             ],
             [
              0.8888888888888888,
              "#fdca26"
             ],
             [
              1.0,
              "#f0f921"
             ]
            ],
            "type": "heatmap"
           }
          ],
          "histogram2dcontour": [
           {
            "colorbar": {
             "outlinewidth": 0,
             "ticks": ""
            },
            "colorscale": [
             [
              0.0,
              "#0d0887"
             ],
             [
              0.1111111111111111,
              "#46039f"
             ],
             [
              0.2222222222222222,
              "#7201a8"
             ],
             [
              0.3333333333333333,
              "#9c179e"
             ],
             [
              0.4444444444444444,
              "#bd3786"
             ],
             [
              0.5555555555555556,
              "#d8576b"
             ],
             [
              0.6666666666666666,
              "#ed7953"
             ],
             [
              0.7777777777777778,
              "#fb9f3a"
             ],
             [
              0.8888888888888888,
              "#fdca26"
             ],
             [
              1.0,
              "#f0f921"
             ]
            ],
            "type": "histogram2dcontour"
           }
          ],
          "histogram2d": [
           {
            "colorbar": {
             "outlinewidth": 0,
             "ticks": ""
            },
            "colorscale": [
             [
              0.0,
              "#0d0887"
             ],
             [
              0.1111111111111111,
              "#46039f"
             ],
             [
              0.2222222222222222,
              "#7201a8"
             ],
             [
              0.3333333333333333,
              "#9c179e"
             ],
             [
              0.4444444444444444,
              "#bd3786"
             ],
             [
              0.5555555555555556,
              "#d8576b"
             ],
             [
              0.6666666666666666,
              "#ed7953"
             ],
             [
              0.7777777777777778,
              "#fb9f3a"
             ],
             [
              0.8888888888888888,
              "#fdca26"
             ],
             [
              1.0,
              "#f0f921"
             ]
            ],
            "type": "histogram2d"
           }
          ],
          "histogram": [
           {
            "marker": {
             "pattern": {
              "fillmode": "overlay",
              "size": 10,
              "solidity": 0.2
             }
            },
            "type": "histogram"
           }
          ],
          "mesh3d": [
           {
            "colorbar": {
             "outlinewidth": 0,
             "ticks": ""
            },
            "type": "mesh3d"
           }
          ],
          "parcoords": [
           {
            "line": {
             "colorbar": {
              "outlinewidth": 0,
              "ticks": ""
             }
            },
            "type": "parcoords"
           }
          ],
          "pie": [
           {
            "automargin": true,
            "type": "pie"
           }
          ],
          "scatter3d": [
           {
            "line": {
             "colorbar": {
              "outlinewidth": 0,
              "ticks": ""
             }
            },
            "marker": {
             "colorbar": {
              "outlinewidth": 0,
              "ticks": ""
             }
            },
            "type": "scatter3d"
           }
          ],
          "scattercarpet": [
           {
            "marker": {
             "colorbar": {
              "outlinewidth": 0,
              "ticks": ""
             }
            },
            "type": "scattercarpet"
           }
          ],
          "scattergeo": [
           {
            "marker": {
             "colorbar": {
              "outlinewidth": 0,
              "ticks": ""
             }
            },
            "type": "scattergeo"
           }
          ],
          "scattergl": [
           {
            "marker": {
             "colorbar": {
              "outlinewidth": 0,
              "ticks": ""
             }
            },
            "type": "scattergl"
           }
          ],
          "scattermapbox": [
           {
            "marker": {
             "colorbar": {
              "outlinewidth": 0,
              "ticks": ""
             }
            },
            "type": "scattermapbox"
           }
          ],
          "scatterpolargl": [
           {
            "marker": {
             "colorbar": {
              "outlinewidth": 0,
              "ticks": ""
             }
            },
            "type": "scatterpolargl"
           }
          ],
          "scatterpolar": [
           {
            "marker": {
             "colorbar": {
              "outlinewidth": 0,
              "ticks": ""
             }
            },
            "type": "scatterpolar"
           }
          ],
          "scatter": [
           {
            "fillpattern": {
             "fillmode": "overlay",
             "size": 10,
             "solidity": 0.2
            },
            "type": "scatter"
           }
          ],
          "scatterternary": [
           {
            "marker": {
             "colorbar": {
              "outlinewidth": 0,
              "ticks": ""
             }
            },
            "type": "scatterternary"
           }
          ],
          "surface": [
           {
            "colorbar": {
             "outlinewidth": 0,
             "ticks": ""
            },
            "colorscale": [
             [
              0.0,
              "#0d0887"
             ],
             [
              0.1111111111111111,
              "#46039f"
             ],
             [
              0.2222222222222222,
              "#7201a8"
             ],
             [
              0.3333333333333333,
              "#9c179e"
             ],
             [
              0.4444444444444444,
              "#bd3786"
             ],
             [
              0.5555555555555556,
              "#d8576b"
             ],
             [
              0.6666666666666666,
              "#ed7953"
             ],
             [
              0.7777777777777778,
              "#fb9f3a"
             ],
             [
              0.8888888888888888,
              "#fdca26"
             ],
             [
              1.0,
              "#f0f921"
             ]
            ],
            "type": "surface"
           }
          ],
          "table": [
           {
            "cells": {
             "fill": {
              "color": "#EBF0F8"
             },
             "line": {
              "color": "white"
             }
            },
            "header": {
             "fill": {
              "color": "#C8D4E3"
             },
             "line": {
              "color": "white"
             }
            },
            "type": "table"
           }
          ]
         },
         "layout": {
          "annotationdefaults": {
           "arrowcolor": "#2a3f5f",
           "arrowhead": 0,
           "arrowwidth": 1
          },
          "autotypenumbers": "strict",
          "coloraxis": {
           "colorbar": {
            "outlinewidth": 0,
            "ticks": ""
           }
          },
          "colorscale": {
           "diverging": [
            [
             0,
             "#8e0152"
            ],
            [
             0.1,
             "#c51b7d"
            ],
            [
             0.2,
             "#de77ae"
            ],
            [
             0.3,
             "#f1b6da"
            ],
            [
             0.4,
             "#fde0ef"
            ],
            [
             0.5,
             "#f7f7f7"
            ],
            [
             0.6,
             "#e6f5d0"
            ],
            [
             0.7,
             "#b8e186"
            ],
            [
             0.8,
             "#7fbc41"
            ],
            [
             0.9,
             "#4d9221"
            ],
            [
             1,
             "#276419"
            ]
           ],
           "sequential": [
            [
             0.0,
             "#0d0887"
            ],
            [
             0.1111111111111111,
             "#46039f"
            ],
            [
             0.2222222222222222,
             "#7201a8"
            ],
            [
             0.3333333333333333,
             "#9c179e"
            ],
            [
             0.4444444444444444,
             "#bd3786"
            ],
            [
             0.5555555555555556,
             "#d8576b"
            ],
            [
             0.6666666666666666,
             "#ed7953"
            ],
            [
             0.7777777777777778,
             "#fb9f3a"
            ],
            [
             0.8888888888888888,
             "#fdca26"
            ],
            [
             1.0,
             "#f0f921"
            ]
           ],
           "sequentialminus": [
            [
             0.0,
             "#0d0887"
            ],
            [
             0.1111111111111111,
             "#46039f"
            ],
            [
             0.2222222222222222,
             "#7201a8"
            ],
            [
             0.3333333333333333,
             "#9c179e"
            ],
            [
             0.4444444444444444,
             "#bd3786"
            ],
            [
             0.5555555555555556,
             "#d8576b"
            ],
            [
             0.6666666666666666,
             "#ed7953"
            ],
            [
             0.7777777777777778,
             "#fb9f3a"
            ],
            [
             0.8888888888888888,
             "#fdca26"
            ],
            [
             1.0,
             "#f0f921"
            ]
           ]
          },
          "colorway": [
           "#636efa",
           "#EF553B",
           "#00cc96",
           "#ab63fa",
           "#FFA15A",
           "#19d3f3",
           "#FF6692",
           "#B6E880",
           "#FF97FF",
           "#FECB52"
          ],
          "font": {
           "color": "#2a3f5f"
          },
          "geo": {
           "bgcolor": "white",
           "lakecolor": "white",
           "landcolor": "white",
           "showlakes": true,
           "showland": true,
           "subunitcolor": "#C8D4E3"
          },
          "hoverlabel": {
           "align": "left"
          },
          "hovermode": "closest",
          "mapbox": {
           "style": "light"
          },
          "paper_bgcolor": "white",
          "plot_bgcolor": "white",
          "polar": {
           "angularaxis": {
            "gridcolor": "#EBF0F8",
            "linecolor": "#EBF0F8",
            "ticks": ""
           },
           "bgcolor": "white",
           "radialaxis": {
            "gridcolor": "#EBF0F8",
            "linecolor": "#EBF0F8",
            "ticks": ""
           }
          },
          "scene": {
           "xaxis": {
            "backgroundcolor": "white",
            "gridcolor": "#DFE8F3",
            "gridwidth": 2,
            "linecolor": "#EBF0F8",
            "showbackground": true,
            "ticks": "",
            "zerolinecolor": "#EBF0F8"
           },
           "yaxis": {
            "backgroundcolor": "white",
            "gridcolor": "#DFE8F3",
            "gridwidth": 2,
            "linecolor": "#EBF0F8",
            "showbackground": true,
            "ticks": "",
            "zerolinecolor": "#EBF0F8"
           },
           "zaxis": {
            "backgroundcolor": "white",
            "gridcolor": "#DFE8F3",
            "gridwidth": 2,
            "linecolor": "#EBF0F8",
            "showbackground": true,
            "ticks": "",
            "zerolinecolor": "#EBF0F8"
           }
          },
          "shapedefaults": {
           "line": {
            "color": "#2a3f5f"
           }
          },
          "ternary": {
           "aaxis": {
            "gridcolor": "#DFE8F3",
            "linecolor": "#A2B1C6",
            "ticks": ""
           },
           "baxis": {
            "gridcolor": "#DFE8F3",
            "linecolor": "#A2B1C6",
            "ticks": ""
           },
           "bgcolor": "white",
           "caxis": {
            "gridcolor": "#DFE8F3",
            "linecolor": "#A2B1C6",
            "ticks": ""
           }
          },
          "title": {
           "x": 0.05
          },
          "xaxis": {
           "automargin": true,
           "gridcolor": "#EBF0F8",
           "linecolor": "#EBF0F8",
           "ticks": "",
           "title": {
            "standoff": 15
           },
           "zerolinecolor": "#EBF0F8",
           "zerolinewidth": 2
          },
          "yaxis": {
           "automargin": true,
           "gridcolor": "#EBF0F8",
           "linecolor": "#EBF0F8",
           "ticks": "",
           "title": {
            "standoff": 15
           },
           "zerolinecolor": "#EBF0F8",
           "zerolinewidth": 2
          }
         }
        },
        "shapes": [
         {
          "line": {
           "color": "red",
           "dash": "dash",
           "width": 1
          },
          "type": "line",
          "x0": "2020-01-0.1",
          "x1": "2020-01-0.1",
          "xref": "x",
          "y0": 0,
          "y1": 1,
          "yref": "y domain"
         }
        ],
        "yaxis": {
         "title": {
          "text": "Day closing return (%)"
         },
         "tickformat": ".0%",
         "range": [
          0.75,
          1.6
         ]
        },
        "title": {
         "text": "1 Year Prediction vs Actual Plot"
        },
        "xaxis": {
         "title": {
          "text": "Date"
         }
        },
        "legend": {
         "title": {
          "text": "Legend"
         }
        }
       },
       "config": {
        "plotlyServerURL": "https://plot.ly"
       }
      },
      "text/html": [
       "<div>                            <div id=\"7cac9bd6-9af1-482a-af33-c70137a0574b\" class=\"plotly-graph-div\" style=\"height:525px; width:100%;\"></div>            <script type=\"text/javascript\">                require([\"plotly\"], function(Plotly) {                    window.PLOTLYENV=window.PLOTLYENV || {};                                    if (document.getElementById(\"7cac9bd6-9af1-482a-af33-c70137a0574b\")) {                    Plotly.newPlot(                        \"7cac9bd6-9af1-482a-af33-c70137a0574b\",                        [{\"line\":{\"color\":\"#5c839f\",\"width\":2},\"mode\":\"lines\",\"name\":\"Actual returns\",\"x\":[\"1999-10-01\",\"1999-11-01\",\"1999-12-01\",\"2000-01-01\",\"2000-02-01\",\"2000-03-01\",\"2000-04-01\",\"2000-05-01\",\"2000-06-01\",\"2000-07-01\",\"2000-08-01\",\"2000-09-01\",\"2000-10-01\",\"2000-11-01\",\"2000-12-01\",\"2001-01-01\",\"2001-02-01\",\"2001-03-01\",\"2001-04-01\",\"2001-05-01\",\"2001-06-01\",\"2001-07-01\",\"2001-08-01\",\"2001-09-01\",\"2001-10-01\",\"2001-11-01\",\"2001-12-01\",\"2002-01-01\",\"2002-02-01\",\"2002-03-01\",\"2002-04-01\",\"2002-05-01\",\"2002-06-01\",\"2002-07-01\",\"2002-08-01\",\"2002-09-01\",\"2002-10-01\",\"2002-11-01\",\"2002-12-01\",\"2003-01-01\",\"2003-02-01\",\"2003-03-01\",\"2003-04-01\",\"2003-05-01\",\"2003-06-01\",\"2003-07-01\",\"2003-08-01\",\"2003-09-01\",\"2003-10-01\",\"2003-11-01\",\"2003-12-01\",\"2004-01-01\",\"2004-02-01\",\"2004-03-01\",\"2004-04-01\",\"2004-05-01\",\"2004-06-01\",\"2004-07-01\",\"2004-08-01\",\"2004-09-01\",\"2004-10-01\",\"2004-11-01\",\"2004-12-01\",\"2005-01-01\",\"2005-02-01\",\"2005-03-01\",\"2005-04-01\",\"2005-05-01\",\"2005-06-01\",\"2005-07-01\",\"2005-08-01\",\"2005-09-01\",\"2005-10-01\",\"2005-11-01\",\"2005-12-01\",\"2006-01-01\",\"2006-02-01\",\"2006-03-01\",\"2006-04-01\",\"2006-05-01\",\"2006-06-01\",\"2006-07-01\",\"2006-08-01\",\"2006-09-01\",\"2006-10-01\",\"2006-11-01\",\"2006-12-01\",\"2007-01-01\",\"2007-02-01\",\"2007-03-01\",\"2007-04-01\",\"2007-05-01\",\"2007-06-01\",\"2007-07-01\",\"2007-08-01\",\"2007-09-01\",\"2007-10-01\",\"2007-11-01\",\"2007-12-01\",\"2008-01-01\",\"2008-02-01\",\"2008-03-01\",\"2008-04-01\",\"2008-05-01\",\"2008-06-01\",\"2008-07-01\",\"2008-08-01\",\"2008-09-01\",\"2008-10-01\",\"2008-11-01\",\"2008-12-01\",\"2009-01-01\",\"2009-02-01\",\"2009-03-01\",\"2009-04-01\",\"2009-05-01\",\"2009-06-01\",\"2009-07-01\",\"2009-08-01\",\"2009-09-01\",\"2009-10-01\",\"2009-11-01\",\"2009-12-01\",\"2010-01-01\",\"2010-02-01\",\"2010-03-01\",\"2010-04-01\",\"2010-05-01\",\"2010-06-01\",\"2010-07-01\",\"2010-08-01\",\"2010-09-01\",\"2010-10-01\",\"2010-11-01\",\"2010-12-01\",\"2011-01-01\",\"2011-02-01\",\"2011-03-01\",\"2011-04-01\",\"2011-05-01\",\"2011-06-01\",\"2011-07-01\",\"2011-08-01\",\"2011-09-01\",\"2011-10-01\",\"2011-11-01\",\"2011-12-01\",\"2012-01-01\",\"2012-02-01\",\"2012-03-01\",\"2012-04-01\",\"2012-05-01\",\"2012-06-01\",\"2012-07-01\",\"2012-08-01\",\"2012-09-01\",\"2012-10-01\",\"2012-11-01\",\"2012-12-01\",\"2013-01-01\",\"2013-02-01\",\"2013-03-01\",\"2013-04-01\",\"2013-05-01\",\"2013-06-01\",\"2013-07-01\",\"2013-08-01\",\"2013-09-01\",\"2013-10-01\",\"2013-11-01\",\"2013-12-01\",\"2014-01-01\",\"2014-02-01\",\"2014-03-01\",\"2014-04-01\",\"2014-05-01\",\"2014-06-01\",\"2014-07-01\",\"2014-08-01\",\"2014-09-01\",\"2014-10-01\",\"2014-11-01\",\"2014-12-01\",\"2015-01-01\",\"2015-02-01\",\"2015-03-01\",\"2015-04-01\",\"2015-05-01\",\"2015-06-01\",\"2015-07-01\",\"2015-08-01\",\"2015-09-01\",\"2015-10-01\",\"2015-11-01\",\"2015-12-01\",\"2016-01-01\",\"2016-02-01\",\"2016-03-01\",\"2016-04-01\",\"2016-05-01\",\"2016-06-01\",\"2016-07-01\",\"2016-08-01\",\"2016-09-01\",\"2016-10-01\",\"2016-11-01\",\"2016-12-01\",\"2017-01-01\",\"2017-02-01\",\"2017-03-01\",\"2017-04-01\",\"2017-05-01\",\"2017-06-01\",\"2017-07-01\",\"2017-08-01\",\"2017-09-01\",\"2017-10-01\",\"2017-11-01\",\"2017-12-01\",\"2018-01-01\",\"2018-02-01\",\"2018-03-01\",\"2018-04-01\",\"2018-05-01\",\"2018-06-01\",\"2018-07-01\",\"2018-08-01\",\"2018-09-01\",\"2018-10-01\",\"2018-11-01\",\"2018-12-01\",\"2019-01-01\",\"2019-02-01\",\"2019-03-01\",\"2019-04-01\",\"2019-05-01\",\"2019-06-01\",\"2019-07-01\",\"2019-08-01\",\"2019-09-01\",\"2019-10-01\",\"2019-11-01\",\"2019-12-01\",\"2020-01-01\",\"2020-02-01\",\"2020-03-01\",\"2020-04-01\",\"2020-05-01\",\"2020-06-01\",\"2020-07-01\",\"2020-08-01\",\"2020-09-01\",\"2020-10-01\",\"2020-11-01\",\"2020-12-01\",\"2021-01-01\",\"2021-02-01\",\"2021-03-01\",\"2021-04-01\",\"2021-05-01\",\"2021-06-01\",\"2021-07-01\",\"2021-08-01\",\"2021-09-01\",\"2021-10-01\",\"2021-11-01\",\"2021-12-01\",\"2022-01-01\",\"2022-02-01\",\"2022-03-01\",\"2022-04-01\",\"2022-05-01\",\"2022-06-01\",\"2022-07-01\",\"2022-08-01\",\"2022-09-01\",\"2022-10-01\",\"2022-11-01\",\"2022-12-01\",\"2023-01-01\",\"2023-02-01\",\"2023-03-01\",\"2023-04-01\",\"2023-05-01\",\"2023-06-01\",\"2023-07-01\",\"2023-08-01\",\"2023-09-01\",\"2023-10-01\",\"2023-11-01\",\"2023-12-01\",\"2024-01-01\",\"2024-02-01\",\"2024-03-01\",\"2024-04-01\",\"2024-05-01\",\"2024-06-01\",\"2024-07-01\",\"2024-08-01\",\"2024-09-01\"],\"y\":[null,1.0255474894131882,1.0338354506957046,0.9928735632183908,5.930568663036903,1.02524500907441,0.9939624924379915,0.9817483363581366,1.0329461584996975,0.9952389594676346,1.027350272232305,0.9906291591046583,0.9893103448275862,0.9717422867513611,1.0094071385359953,1.0391651542649727,0.9689776164549303,0.9847489413188143,1.0655414398064127,1.0118451300665456,0.9984392014519057,0.9735087719298245,0.9690865093768906,0.9132849364791288,1.0499274047186933,1.050798548094374,1.0158620689655173,0.9939322444041138,1.0093103448275862,1.050725952813067,1.007102238354507,1.0027646702964308,0.9519721718088325,0.9418874773139746,0.9874833635813671,0.9568905021173624,1.0078644888082275,1.0582516636418633,0.9664125831820932,0.9890199637023595,1.0055716878402905,0.9959830611010285,1.0599516031457954,1.0670054446460981,1.034162129461585,1.508451300665457,1.0614277071990321,1.0038233514821537,1.0498003629764066,1.0042286751361162,1.015849969751966,1.0305263157894737,1.0141560798548095,1.0468421052631578,1.0040834845735027,0.992474289171204,1.0346218995765275,0.9633877797943133,0.9934119782214157,1.0055535390199637,1.0005565638233516,1.0293163944343617,1.053762855414398,1.00643073200242,1.0203811252268602,0.9955595886267392,0.9733030852994556,1.033145795523291,1.0216817906836055,1.0358136721113127,0.9993042952208105,1.1286509376890503,1.0726013309134907,3.2130248033877797,1.0215607985480943,1.0408166969147006,1.0128917120387175,1.027501512401694,1.0092075015124016,0.9686267392619479,0.9991833030852995,0.9856866303690262,1.0248820326678767,1.0297519661222019,1.0213853599516032,1.0188808227465216,1.027979431336963,1.0368723532970356,1.0044404113732608,1.0015849969751967,1.0188082274652148,1.0226194797338173,0.9885843920145191,0.9759286146400484,0.9907501512401694,1.002474289171204,1.0255172413793103,0.9479370840895343,0.9907743496672716,0.9420447670901392,0.9907199032062917,0.9868784029038112,1.0311494252873565,1.02318814277072,0.9375620084694495,0.9950090744101633,1.0215789473684211,0.9273018753781004,0.8458197217180883,0.9447489413188144,1.0413006654567454,0.9497701149425287,0.9416515426497277,1.0697580157289777,1.1476164549304295,1.0432909860859043,1.0350211736237145,1.0623895946763462,1.0552026618269812,1.0322746521476103,0.9779915305505141,1.0015910465819722,1.0513793103448277,0.9896067755595885,1.0185541439806414,1.0590381125226862,1.0449969751966124,0.9456261343012704,0.9619419237749547,1.0388626739261946,0.9645856019358742,1.0696067755595886,1.0163883847549908,1.0275862068965518,1.0584029038112523,1.0119782214156081,1.0324803387779795,1.0016031457955235,1.0198850574712643,0.9949969751966122,0.9972353297035693,0.9830429522081064,0.9474712643678161,0.9529824561403508,1.0689231699939505,0.9843375680580763,1.0002540834845735,1.0593768905021175,1.0995402298850574,1.026303690260133,0.9927465214761042,0.9427586206896552,1.0300241984271024,0.9957652752571083,1.0196672716273443,1.0171506352087114,1.0012038717483362,1.0166848154869934,1.0311736237144584,1.0607924984875983,1.0218390804597701,1.0406836055656383,1.0333696309739866,1.01821536600121,0.990508166969147,1.0369933454325468,0.98346037507562,1.0512159709618873,1.0213430127041743,1.0239806412583181,1.022280701754386,0.9877434966727164,1.0288626739261948,1.0008287961282516,0.9851845130066547,1.0161161524500906,1.0306473079249847,0.9871445856019359,1.026745311554749,0.989491833030853,1.0253115547489413,1.04167574107683,1.0141681790683605,1.0019419237749547,1.0444585601935874,1.0097459165154263,1.000411373260738,1.0252087114337567,0.9903266787658802,1.012788868723533,0.9586448880822745,0.9679854809437386,1.0623411978221418,1.0190018148820326,0.9822928009679371,0.9491107078039926,0.9993587416817907,1.0566122202056867,1.0004355716878404,1.0214095583787053,0.9709074410163339,1.0535813672111312,1.0110102843315183,1.0043375680580762,0.9848154869933453,1.0514337568058076,1.0315486993345433,1.0146581972171809,1.0218451300665456,1.009751966122202,1.0155958862673926,1.0126678765880217,1.0131215970961889,1.0135692679975803,1.0033877797943134,1.0308892921960073,1.0195220810647307,1.0232244404113733,1.0114458560193589,1.023817301875378,0.974422262552934,0.996636418632789,1.0194797338173018,1.0263641863278887,1.0086327888687234,1.0175922565033273,1.0217725347852389,0.9907501512401694,0.9365880217785845,1.0115124016938897,0.9133272837265578,1.0914398064125832,1.0367513611615244,1.004137931034483,1.043049001814882,0.940822746521476,1.0453539019963702,1.0221234119782214,0.9704476709013913,1.0369449485783424,1.0294797338173018,1.0347307924984874,1.0268058076225044,0.9897519661222022,0.9099153055051422,0.8183847549909256,1.1260314579552329,1.072552934059286,1.0304174228675136,1.0225710828796128,1.0605565638233514,0.9945130066545675,0.9923290986085905,1.1583847549909256,1.0579612825166365,1.0404839685420448,1.053793103448276,1.0589292196007258,1.037652752571083,1.0213430127041743,1.0207562008469449,1.0036418632788868,1.025287356321839,0.9864851784633998,1.0300241984271024,0.969933454325469,1.0402117362371448,0.9256805807622505,0.9876830006049606,1.003230490018149,0.9446763460375075,1.0007199032062917,0.9249425287356322,1.0904295220810647,0.9692982456140351,0.901373260738052,1.0810284331518452,1.0552994555353903,0.9577374470659408,1.0973321234119784,0.9889957652752571,0.979933454325469,1.001318814277072,0.9908832425892315,1.0624803387779795,1.0433393829401088,0.9686206896551725,0.95978221415608,0.9421113127646703,1.0877132486388386,1.079328493647913,0.9853962492437992,1.0741379310344827,1.0276285541439807,0.9559709618874773,1.0341621294615853,0.9932425892317,1.0552510586811856,0.9971990320629158,0.9666787658802178],\"type\":\"scatter\"},{\"line\":{\"color\":\"red\",\"width\":2},\"mode\":\"lines\",\"name\":\"Train returns\",\"x\":[\"1999-10-01\",\"1999-11-01\",\"1999-12-01\",\"2000-01-01\",\"2000-02-01\",\"2000-03-01\",\"2000-04-01\",\"2000-05-01\",\"2000-06-01\",\"2000-07-01\",\"2000-08-01\",\"2000-09-01\",\"2000-10-01\",\"2000-11-01\",\"2000-12-01\",\"2001-01-01\",\"2001-02-01\",\"2001-03-01\",\"2001-04-01\",\"2001-05-01\",\"2001-06-01\",\"2001-07-01\",\"2001-08-01\",\"2001-09-01\",\"2001-10-01\",\"2001-11-01\",\"2001-12-01\",\"2002-01-01\",\"2002-02-01\",\"2002-03-01\",\"2002-04-01\",\"2002-05-01\",\"2002-06-01\",\"2002-07-01\",\"2002-08-01\",\"2002-09-01\",\"2002-10-01\",\"2002-11-01\",\"2002-12-01\",\"2003-01-01\",\"2003-02-01\",\"2003-03-01\",\"2003-04-01\",\"2003-05-01\",\"2003-06-01\",\"2003-07-01\",\"2003-08-01\",\"2003-09-01\",\"2003-10-01\",\"2003-11-01\",\"2003-12-01\",\"2004-01-01\",\"2004-02-01\",\"2004-03-01\",\"2004-04-01\",\"2004-05-01\",\"2004-06-01\",\"2004-07-01\",\"2004-08-01\",\"2004-09-01\",\"2004-10-01\",\"2004-11-01\",\"2004-12-01\",\"2005-01-01\",\"2005-02-01\",\"2005-03-01\",\"2005-04-01\",\"2005-05-01\",\"2005-06-01\",\"2005-07-01\",\"2005-08-01\",\"2005-09-01\",\"2005-10-01\",\"2005-11-01\",\"2005-12-01\",\"2006-01-01\",\"2006-02-01\",\"2006-03-01\",\"2006-04-01\",\"2006-05-01\",\"2006-06-01\",\"2006-07-01\",\"2006-08-01\",\"2006-09-01\",\"2006-10-01\",\"2006-11-01\",\"2006-12-01\",\"2007-01-01\",\"2007-02-01\",\"2007-03-01\",\"2007-04-01\",\"2007-05-01\",\"2007-06-01\",\"2007-07-01\",\"2007-08-01\",\"2007-09-01\",\"2007-10-01\",\"2007-11-01\",\"2007-12-01\",\"2008-01-01\",\"2008-02-01\",\"2008-03-01\",\"2008-04-01\",\"2008-05-01\",\"2008-06-01\",\"2008-07-01\",\"2008-08-01\",\"2008-09-01\",\"2008-10-01\",\"2008-11-01\",\"2008-12-01\",\"2009-01-01\",\"2009-02-01\",\"2009-03-01\",\"2009-04-01\",\"2009-05-01\",\"2009-06-01\",\"2009-07-01\",\"2009-08-01\",\"2009-09-01\",\"2009-10-01\",\"2009-11-01\",\"2009-12-01\",\"2010-01-01\",\"2010-02-01\",\"2010-03-01\",\"2010-04-01\",\"2010-05-01\",\"2010-06-01\",\"2010-07-01\",\"2010-08-01\",\"2010-09-01\",\"2010-10-01\",\"2010-11-01\",\"2010-12-01\",\"2011-01-01\",\"2011-02-01\",\"2011-03-01\",\"2011-04-01\",\"2011-05-01\",\"2011-06-01\",\"2011-07-01\",\"2011-08-01\",\"2011-09-01\",\"2011-10-01\",\"2011-11-01\",\"2011-12-01\",\"2012-01-01\",\"2012-02-01\",\"2012-03-01\",\"2012-04-01\",\"2012-05-01\",\"2012-06-01\",\"2012-07-01\",\"2012-08-01\",\"2012-09-01\",\"2012-10-01\",\"2012-11-01\",\"2012-12-01\",\"2013-01-01\",\"2013-02-01\",\"2013-03-01\",\"2013-04-01\",\"2013-05-01\",\"2013-06-01\",\"2013-07-01\",\"2013-08-01\",\"2013-09-01\",\"2013-10-01\",\"2013-11-01\",\"2013-12-01\",\"2014-01-01\",\"2014-02-01\",\"2014-03-01\",\"2014-04-01\",\"2014-05-01\",\"2014-06-01\",\"2014-07-01\",\"2014-08-01\",\"2014-09-01\",\"2014-10-01\",\"2014-11-01\",\"2014-12-01\",\"2015-01-01\",\"2015-02-01\",\"2015-03-01\",\"2015-04-01\",\"2015-05-01\",\"2015-06-01\",\"2015-07-01\",\"2015-08-01\",\"2015-09-01\",\"2015-10-01\",\"2015-11-01\",\"2015-12-01\",\"2016-01-01\",\"2016-02-01\",\"2016-03-01\",\"2016-04-01\",\"2016-05-01\",\"2016-06-01\",\"2016-07-01\",\"2016-08-01\",\"2016-09-01\",\"2016-10-01\",\"2016-11-01\",\"2016-12-01\",\"2017-01-01\",\"2017-02-01\",\"2017-03-01\",\"2017-04-01\",\"2017-05-01\",\"2017-06-01\",\"2017-07-01\",\"2017-08-01\",\"2017-09-01\",\"2017-10-01\",\"2017-11-01\",\"2017-12-01\",\"2018-01-01\",\"2018-02-01\",\"2018-03-01\",\"2018-04-01\",\"2018-05-01\",\"2018-06-01\",\"2018-07-01\",\"2018-08-01\",\"2018-09-01\",\"2018-10-01\",\"2018-11-01\",\"2018-12-01\",\"2019-01-01\",\"2019-02-01\",\"2019-03-01\",\"2019-04-01\",\"2019-05-01\",\"2019-06-01\",\"2019-07-01\",\"2019-08-01\",\"2019-09-01\",\"2019-10-01\",\"2019-11-01\",\"2019-12-01\",\"2020-01-01\",\"2020-02-01\",\"2020-03-01\",\"2020-04-01\",\"2020-05-01\",\"2020-06-01\",\"2020-07-01\",\"2020-08-01\",\"2020-09-01\",\"2020-10-01\"],\"y\":[1.0081195831298828,1.0132850408554077,1.0102092027664185,1.0126957893371582,1.0119937658309937,1.0119580030441284,1.0123369693756104,1.01091730594635,1.010648488998413,1.01251220703125,1.0100704431533813,1.0094189643859863,1.0082948207855225,1.0098857879638672,1.0134553909301758,1.0118005275726318,1.0116769075393677,1.0092144012451172,1.0112810134887695,1.0122714042663574,1.0105862617492676,1.0081791877746582,1.0138064622879028,1.0155110359191895,1.0143799781799316,1.0133129358291626,1.0117729902267456,1.0125651359558105,1.0091346502304077,1.0127031803131104,1.0112355947494507,1.0119082927703857,1.0099409818649292,1.007764458656311,1.0233334302902222,1.0101090669631958,1.0141550302505493,1.0105575323104858,1.012223482131958,1.0170096158981323,1.0092101097106934,1.0130136013031006,1.0105584859848022,1.0114035606384277,1.0086195468902588,1.0121806859970093,1.0112967491149902,1.007916808128357,1.012912392616272,1.013501763343811,1.0138341188430786,1.0089294910430908,1.008433222770691,1.011435866355896,1.0074560642242432,8.350676536560059,1.009595513343811,1.009162425994873,1.0071516036987305,1.012943983078003,1.0191996097564697,1.0137410163879395,1.0103075504302979,1.011160969734192,1.010968804359436,1.0114998817443848,1.0138291120529175,1.0221110582351685,1.0148091316223145,1.0096416473388672,1.0107852220535278,1.0129090547561646,1.0112309455871582,1.0105727910995483,1.0111925601959229,1.0083860158920288,1.0093002319335938,1.0101746320724487,1.0133634805679321,1.0127860307693481,1.0101488828659058,1.013654112815857,1.0141055583953857,1.0086054801940918,1.0130605697631836,1.0145456790924072,1.0090092420578003,1.0084556341171265,1.008034586906433,1.0078052282333374,1.0089256763458252,1.0110650062561035,1.0116002559661865,1.0096081495285034,1.009109616279602,1.007054090499878,1.0082765817642212,1.011719822883606,1.0085052251815796,1.0134828090667725,1.0125727653503418,1.006773591041565,1.0134071111679077,1.0104671716690063,1.0131139755249023,1.0139071941375732,1.012052297592163,1.0153374671936035,1.0134856700897217,1.0164077281951904,1.0106619596481323,1.0166956186294556,1.0076552629470825,1.010422706604004,1.0109869241714478,1.0100269317626953,1.0089237689971924,1.012015700340271,1.0098217725753784,1.0120456218719482,1.0091062784194946,1.0155422687530518,1.0090175867080688,1.0081350803375244,1.0093375444412231,1.016213297843933,1.007785677909851,1.011305570602417,1.0095744132995605,1.1010997295379639,1.0105602741241455,1.0151644945144653,1.0086034536361694,1.0135976076126099,1.012308120727539,1.0080795288085938,1.0141130685806274,1.018418788909912,1.013731598854065,1.010923981666565,1.0089243650436401,1.0096977949142456,0.9537656307220459,1.007724642753601,1.0090582370758057,1.0062789916992188,1.0116965770721436,1.0089696645736694,1.0083081722259521,1.010530948638916,1.0164122581481934,1.0089343786239624,1.0152997970581055,1.0084155797958374,1.010642409324646,1.0127795934677124,1.010048508644104,1.0075751543045044,1.0199421644210815,1.0112711191177368,1.0207316875457764,1.0112487077713013,1.0122095346450806,1.0101704597473145,1.0190659761428833,1.0109807252883911,1.013121485710144,1.0106055736541748,1.008668303489685,1.009606957435608,1.0102145671844482,1.0114717483520508,1.0138205289840698,1.0148805379867554,1.0133144855499268,1.007098913192749,1.0122170448303223,1.0095568895339966,1.0077216625213623,1.115280032157898,1.009240984916687,1.011620044708252,1.01959228515625,1.016531229019165,1.0077991485595703,1.0071380138397217,1.0116547346115112,1.0087310075759888,1.0125393867492676,1.0102674961090088,1.0098497867584229,1.0110065937042236,1.006915807723999,1.010988712310791,1.0090159177780151,1.0143072605133057,1.0119714736938477,1.0127235651016235,1.011777639389038,1.0073809623718262,1.0078892707824707,1.012528419494629,1.010520339012146,1.0142831802368164,1.0052926540374756,1.0110862255096436,1.011254072189331,1.005326509475708,1.0084025859832764,1.0105609893798828,1.0096713304519653,1.0106385946273804,1.0148117542266846,1.0122106075286865,1.0096900463104248,1.0070322751998901,1.0122734308242798,1.011049747467041,1.0116028785705566,1.0072599649429321,1.0093129873275757,1.012621521949768,1.0116959810256958,1.0147629976272583,1.0099645853042603,1.0086785554885864,1.0117387771606445,1.0100722312927246,1.0110015869140625,1.0109302997589111,1.0146557092666626,1.009980320930481,1.0112730264663696,1.0082913637161255,1.010249137878418,1.0129066705703735,1.010164499282837,1.0127800703048706,1.0098557472229004,1.0094348192214966,1.0078924894332886,1.0104320049285889,1.010561227798462,1.0076333284378052,1.0227166414260864,1.0160424709320068,1.007429838180542,1.013296127319336,1.0183073282241821,1.013816475868225,1.014402985572815,1.0109422206878662,1.0157970190048218],\"type\":\"scatter\"},{\"line\":{\"color\":\"green\",\"width\":2},\"mode\":\"lines\",\"name\":\"Test returns\",\"x\":[\"2020-11-01\",\"2020-12-01\",\"2021-01-01\",\"2021-02-01\",\"2021-03-01\",\"2021-04-01\",\"2021-05-01\",\"2021-06-01\",\"2021-07-01\",\"2021-08-01\",\"2021-09-01\",\"2021-10-01\",\"2021-11-01\",\"2021-12-01\",\"2022-01-01\",\"2022-02-01\",\"2022-03-01\",\"2022-04-01\",\"2022-05-01\",\"2022-06-01\",\"2022-07-01\",\"2022-08-01\",\"2022-09-01\",\"2022-10-01\",\"2022-11-01\",\"2022-12-01\",\"2023-01-01\",\"2023-02-01\",\"2023-03-01\",\"2023-04-01\",\"2023-05-01\",\"2023-06-01\",\"2023-07-01\",\"2023-08-01\",\"2023-09-01\",\"2023-10-01\",\"2023-11-01\",\"2023-12-01\",\"2024-01-01\",\"2024-02-01\",\"2024-03-01\",\"2024-04-01\",\"2024-05-01\",\"2024-06-01\",\"2024-07-01\",\"2024-08-01\",\"2024-09-01\"],\"y\":[1.0795044898986816,1.1289660930633545,1.1508824825286865,1.1053457260131836,1.1385562419891357,1.0984324216842651,1.144860863685608,1.0793339014053345,1.1433171033859253,1.1323137283325195,1.1567152738571167,1.1123530864715576,1.1003637313842773,1.0939539670944214,1.0987920761108398,1.13076913356781,1.0743743181228638,1.152937412261963,1.1347105503082275,1.1410340070724487,1.145708441734314,1.1876295804977417,1.1390914916992188,1.1404041051864624,1.0953422784805298,1.1358411312103271,1.152137279510498,1.1377538442611694,1.192320466041565,1.1262223720550537,1.1289057731628418,1.1060566902160645,1.2045537233352661,1.1438778638839722,1.1463096141815186,1.1267895698547363,1.1091235876083374,1.0806878805160522,1.104217767715454,1.1143624782562256,1.091729998588562,1.1881104707717896,1.12551748752594,1.1073834896087646,1.1324529647827148],\"type\":\"scatter\"}],                        {\"template\":{\"data\":{\"barpolar\":[{\"marker\":{\"line\":{\"color\":\"white\",\"width\":0.5},\"pattern\":{\"fillmode\":\"overlay\",\"size\":10,\"solidity\":0.2}},\"type\":\"barpolar\"}],\"bar\":[{\"error_x\":{\"color\":\"#2a3f5f\"},\"error_y\":{\"color\":\"#2a3f5f\"},\"marker\":{\"line\":{\"color\":\"white\",\"width\":0.5},\"pattern\":{\"fillmode\":\"overlay\",\"size\":10,\"solidity\":0.2}},\"type\":\"bar\"}],\"carpet\":[{\"aaxis\":{\"endlinecolor\":\"#2a3f5f\",\"gridcolor\":\"#C8D4E3\",\"linecolor\":\"#C8D4E3\",\"minorgridcolor\":\"#C8D4E3\",\"startlinecolor\":\"#2a3f5f\"},\"baxis\":{\"endlinecolor\":\"#2a3f5f\",\"gridcolor\":\"#C8D4E3\",\"linecolor\":\"#C8D4E3\",\"minorgridcolor\":\"#C8D4E3\",\"startlinecolor\":\"#2a3f5f\"},\"type\":\"carpet\"}],\"choropleth\":[{\"colorbar\":{\"outlinewidth\":0,\"ticks\":\"\"},\"type\":\"choropleth\"}],\"contourcarpet\":[{\"colorbar\":{\"outlinewidth\":0,\"ticks\":\"\"},\"type\":\"contourcarpet\"}],\"contour\":[{\"colorbar\":{\"outlinewidth\":0,\"ticks\":\"\"},\"colorscale\":[[0.0,\"#0d0887\"],[0.1111111111111111,\"#46039f\"],[0.2222222222222222,\"#7201a8\"],[0.3333333333333333,\"#9c179e\"],[0.4444444444444444,\"#bd3786\"],[0.5555555555555556,\"#d8576b\"],[0.6666666666666666,\"#ed7953\"],[0.7777777777777778,\"#fb9f3a\"],[0.8888888888888888,\"#fdca26\"],[1.0,\"#f0f921\"]],\"type\":\"contour\"}],\"heatmapgl\":[{\"colorbar\":{\"outlinewidth\":0,\"ticks\":\"\"},\"colorscale\":[[0.0,\"#0d0887\"],[0.1111111111111111,\"#46039f\"],[0.2222222222222222,\"#7201a8\"],[0.3333333333333333,\"#9c179e\"],[0.4444444444444444,\"#bd3786\"],[0.5555555555555556,\"#d8576b\"],[0.6666666666666666,\"#ed7953\"],[0.7777777777777778,\"#fb9f3a\"],[0.8888888888888888,\"#fdca26\"],[1.0,\"#f0f921\"]],\"type\":\"heatmapgl\"}],\"heatmap\":[{\"colorbar\":{\"outlinewidth\":0,\"ticks\":\"\"},\"colorscale\":[[0.0,\"#0d0887\"],[0.1111111111111111,\"#46039f\"],[0.2222222222222222,\"#7201a8\"],[0.3333333333333333,\"#9c179e\"],[0.4444444444444444,\"#bd3786\"],[0.5555555555555556,\"#d8576b\"],[0.6666666666666666,\"#ed7953\"],[0.7777777777777778,\"#fb9f3a\"],[0.8888888888888888,\"#fdca26\"],[1.0,\"#f0f921\"]],\"type\":\"heatmap\"}],\"histogram2dcontour\":[{\"colorbar\":{\"outlinewidth\":0,\"ticks\":\"\"},\"colorscale\":[[0.0,\"#0d0887\"],[0.1111111111111111,\"#46039f\"],[0.2222222222222222,\"#7201a8\"],[0.3333333333333333,\"#9c179e\"],[0.4444444444444444,\"#bd3786\"],[0.5555555555555556,\"#d8576b\"],[0.6666666666666666,\"#ed7953\"],[0.7777777777777778,\"#fb9f3a\"],[0.8888888888888888,\"#fdca26\"],[1.0,\"#f0f921\"]],\"type\":\"histogram2dcontour\"}],\"histogram2d\":[{\"colorbar\":{\"outlinewidth\":0,\"ticks\":\"\"},\"colorscale\":[[0.0,\"#0d0887\"],[0.1111111111111111,\"#46039f\"],[0.2222222222222222,\"#7201a8\"],[0.3333333333333333,\"#9c179e\"],[0.4444444444444444,\"#bd3786\"],[0.5555555555555556,\"#d8576b\"],[0.6666666666666666,\"#ed7953\"],[0.7777777777777778,\"#fb9f3a\"],[0.8888888888888888,\"#fdca26\"],[1.0,\"#f0f921\"]],\"type\":\"histogram2d\"}],\"histogram\":[{\"marker\":{\"pattern\":{\"fillmode\":\"overlay\",\"size\":10,\"solidity\":0.2}},\"type\":\"histogram\"}],\"mesh3d\":[{\"colorbar\":{\"outlinewidth\":0,\"ticks\":\"\"},\"type\":\"mesh3d\"}],\"parcoords\":[{\"line\":{\"colorbar\":{\"outlinewidth\":0,\"ticks\":\"\"}},\"type\":\"parcoords\"}],\"pie\":[{\"automargin\":true,\"type\":\"pie\"}],\"scatter3d\":[{\"line\":{\"colorbar\":{\"outlinewidth\":0,\"ticks\":\"\"}},\"marker\":{\"colorbar\":{\"outlinewidth\":0,\"ticks\":\"\"}},\"type\":\"scatter3d\"}],\"scattercarpet\":[{\"marker\":{\"colorbar\":{\"outlinewidth\":0,\"ticks\":\"\"}},\"type\":\"scattercarpet\"}],\"scattergeo\":[{\"marker\":{\"colorbar\":{\"outlinewidth\":0,\"ticks\":\"\"}},\"type\":\"scattergeo\"}],\"scattergl\":[{\"marker\":{\"colorbar\":{\"outlinewidth\":0,\"ticks\":\"\"}},\"type\":\"scattergl\"}],\"scattermapbox\":[{\"marker\":{\"colorbar\":{\"outlinewidth\":0,\"ticks\":\"\"}},\"type\":\"scattermapbox\"}],\"scatterpolargl\":[{\"marker\":{\"colorbar\":{\"outlinewidth\":0,\"ticks\":\"\"}},\"type\":\"scatterpolargl\"}],\"scatterpolar\":[{\"marker\":{\"colorbar\":{\"outlinewidth\":0,\"ticks\":\"\"}},\"type\":\"scatterpolar\"}],\"scatter\":[{\"fillpattern\":{\"fillmode\":\"overlay\",\"size\":10,\"solidity\":0.2},\"type\":\"scatter\"}],\"scatterternary\":[{\"marker\":{\"colorbar\":{\"outlinewidth\":0,\"ticks\":\"\"}},\"type\":\"scatterternary\"}],\"surface\":[{\"colorbar\":{\"outlinewidth\":0,\"ticks\":\"\"},\"colorscale\":[[0.0,\"#0d0887\"],[0.1111111111111111,\"#46039f\"],[0.2222222222222222,\"#7201a8\"],[0.3333333333333333,\"#9c179e\"],[0.4444444444444444,\"#bd3786\"],[0.5555555555555556,\"#d8576b\"],[0.6666666666666666,\"#ed7953\"],[0.7777777777777778,\"#fb9f3a\"],[0.8888888888888888,\"#fdca26\"],[1.0,\"#f0f921\"]],\"type\":\"surface\"}],\"table\":[{\"cells\":{\"fill\":{\"color\":\"#EBF0F8\"},\"line\":{\"color\":\"white\"}},\"header\":{\"fill\":{\"color\":\"#C8D4E3\"},\"line\":{\"color\":\"white\"}},\"type\":\"table\"}]},\"layout\":{\"annotationdefaults\":{\"arrowcolor\":\"#2a3f5f\",\"arrowhead\":0,\"arrowwidth\":1},\"autotypenumbers\":\"strict\",\"coloraxis\":{\"colorbar\":{\"outlinewidth\":0,\"ticks\":\"\"}},\"colorscale\":{\"diverging\":[[0,\"#8e0152\"],[0.1,\"#c51b7d\"],[0.2,\"#de77ae\"],[0.3,\"#f1b6da\"],[0.4,\"#fde0ef\"],[0.5,\"#f7f7f7\"],[0.6,\"#e6f5d0\"],[0.7,\"#b8e186\"],[0.8,\"#7fbc41\"],[0.9,\"#4d9221\"],[1,\"#276419\"]],\"sequential\":[[0.0,\"#0d0887\"],[0.1111111111111111,\"#46039f\"],[0.2222222222222222,\"#7201a8\"],[0.3333333333333333,\"#9c179e\"],[0.4444444444444444,\"#bd3786\"],[0.5555555555555556,\"#d8576b\"],[0.6666666666666666,\"#ed7953\"],[0.7777777777777778,\"#fb9f3a\"],[0.8888888888888888,\"#fdca26\"],[1.0,\"#f0f921\"]],\"sequentialminus\":[[0.0,\"#0d0887\"],[0.1111111111111111,\"#46039f\"],[0.2222222222222222,\"#7201a8\"],[0.3333333333333333,\"#9c179e\"],[0.4444444444444444,\"#bd3786\"],[0.5555555555555556,\"#d8576b\"],[0.6666666666666666,\"#ed7953\"],[0.7777777777777778,\"#fb9f3a\"],[0.8888888888888888,\"#fdca26\"],[1.0,\"#f0f921\"]]},\"colorway\":[\"#636efa\",\"#EF553B\",\"#00cc96\",\"#ab63fa\",\"#FFA15A\",\"#19d3f3\",\"#FF6692\",\"#B6E880\",\"#FF97FF\",\"#FECB52\"],\"font\":{\"color\":\"#2a3f5f\"},\"geo\":{\"bgcolor\":\"white\",\"lakecolor\":\"white\",\"landcolor\":\"white\",\"showlakes\":true,\"showland\":true,\"subunitcolor\":\"#C8D4E3\"},\"hoverlabel\":{\"align\":\"left\"},\"hovermode\":\"closest\",\"mapbox\":{\"style\":\"light\"},\"paper_bgcolor\":\"white\",\"plot_bgcolor\":\"white\",\"polar\":{\"angularaxis\":{\"gridcolor\":\"#EBF0F8\",\"linecolor\":\"#EBF0F8\",\"ticks\":\"\"},\"bgcolor\":\"white\",\"radialaxis\":{\"gridcolor\":\"#EBF0F8\",\"linecolor\":\"#EBF0F8\",\"ticks\":\"\"}},\"scene\":{\"xaxis\":{\"backgroundcolor\":\"white\",\"gridcolor\":\"#DFE8F3\",\"gridwidth\":2,\"linecolor\":\"#EBF0F8\",\"showbackground\":true,\"ticks\":\"\",\"zerolinecolor\":\"#EBF0F8\"},\"yaxis\":{\"backgroundcolor\":\"white\",\"gridcolor\":\"#DFE8F3\",\"gridwidth\":2,\"linecolor\":\"#EBF0F8\",\"showbackground\":true,\"ticks\":\"\",\"zerolinecolor\":\"#EBF0F8\"},\"zaxis\":{\"backgroundcolor\":\"white\",\"gridcolor\":\"#DFE8F3\",\"gridwidth\":2,\"linecolor\":\"#EBF0F8\",\"showbackground\":true,\"ticks\":\"\",\"zerolinecolor\":\"#EBF0F8\"}},\"shapedefaults\":{\"line\":{\"color\":\"#2a3f5f\"}},\"ternary\":{\"aaxis\":{\"gridcolor\":\"#DFE8F3\",\"linecolor\":\"#A2B1C6\",\"ticks\":\"\"},\"baxis\":{\"gridcolor\":\"#DFE8F3\",\"linecolor\":\"#A2B1C6\",\"ticks\":\"\"},\"bgcolor\":\"white\",\"caxis\":{\"gridcolor\":\"#DFE8F3\",\"linecolor\":\"#A2B1C6\",\"ticks\":\"\"}},\"title\":{\"x\":0.05},\"xaxis\":{\"automargin\":true,\"gridcolor\":\"#EBF0F8\",\"linecolor\":\"#EBF0F8\",\"ticks\":\"\",\"title\":{\"standoff\":15},\"zerolinecolor\":\"#EBF0F8\",\"zerolinewidth\":2},\"yaxis\":{\"automargin\":true,\"gridcolor\":\"#EBF0F8\",\"linecolor\":\"#EBF0F8\",\"ticks\":\"\",\"title\":{\"standoff\":15},\"zerolinecolor\":\"#EBF0F8\",\"zerolinewidth\":2}}},\"shapes\":[{\"line\":{\"color\":\"red\",\"dash\":\"dash\",\"width\":1},\"type\":\"line\",\"x0\":\"2020-01-0.1\",\"x1\":\"2020-01-0.1\",\"xref\":\"x\",\"y0\":0,\"y1\":1,\"yref\":\"y domain\"}],\"yaxis\":{\"title\":{\"text\":\"Day closing return (%)\"},\"tickformat\":\".0%\",\"range\":[0.75,1.6]},\"title\":{\"text\":\"1 Year Prediction vs Actual Plot\"},\"xaxis\":{\"title\":{\"text\":\"Date\"}},\"legend\":{\"title\":{\"text\":\"Legend\"}}},                        {\"responsive\": true}                    ).then(function(){\n",
       "                            \n",
       "var gd = document.getElementById('7cac9bd6-9af1-482a-af33-c70137a0574b');\n",
       "var x = new MutationObserver(function (mutations, observer) {{\n",
       "        var display = window.getComputedStyle(gd).display;\n",
       "        if (!display || display === 'none') {{\n",
       "            console.log([gd, 'removed!']);\n",
       "            Plotly.purge(gd);\n",
       "            observer.disconnect();\n",
       "        }}\n",
       "}});\n",
       "\n",
       "// Listen for the removal of the full notebook cells\n",
       "var notebookContainer = gd.closest('#notebook-container');\n",
       "if (notebookContainer) {{\n",
       "    x.observe(notebookContainer, {childList: true});\n",
       "}}\n",
       "\n",
       "// Listen for the clearing of the current output cell\n",
       "var outputEl = gd.closest('.output');\n",
       "if (outputEl) {{\n",
       "    x.observe(outputEl, {childList: true});\n",
       "}}\n",
       "\n",
       "                        })                };                });            </script>        </div>"
      ]
     },
     "metadata": {},
     "output_type": "display_data"
    }
   ],
   "execution_count": 188
  },
  {
   "metadata": {
    "ExecuteTime": {
     "end_time": "2025-03-10T20:38:25.351970Z",
     "start_time": "2025-03-10T20:38:25.350434Z"
    }
   },
   "cell_type": "code",
   "source": "",
   "id": "f3a65ae3c95f55fc",
   "outputs": [],
   "execution_count": null
  }
 ],
 "metadata": {
  "kernelspec": {
   "display_name": "Python 3",
   "language": "python",
   "name": "python3"
  },
  "language_info": {
   "codemirror_mode": {
    "name": "ipython",
    "version": 2
   },
   "file_extension": ".py",
   "mimetype": "text/x-python",
   "name": "python",
   "nbconvert_exporter": "python",
   "pygments_lexer": "ipython2",
   "version": "2.7.6"
  }
 },
 "nbformat": 4,
 "nbformat_minor": 5
}
