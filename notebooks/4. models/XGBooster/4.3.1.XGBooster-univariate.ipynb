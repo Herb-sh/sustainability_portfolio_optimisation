{
 "cells": [
  {
   "cell_type": "code",
   "id": "initial_id",
   "metadata": {
    "collapsed": true,
    "ExecuteTime": {
     "end_time": "2025-03-31T23:16:43.038017Z",
     "start_time": "2025-03-31T23:16:43.031568Z"
    }
   },
   "source": [
    "# Python\n",
    "import pandas as pd\n",
    "import torch\n",
    "#\n",
    "import xgboost\n",
    "from xgboost import XGBRegressor\n",
    "#\n",
    "import plotly.graph_objects as go\n",
    "\n",
    "from xgboost import plot_importance, plot_tree\n",
    "from sklearn.metrics import mean_squared_error, mean_absolute_error\n",
    "import importlib\n",
    "import utilities.train_test as train_test\n",
    "import utilities.variables as variables"
   ],
   "outputs": [],
   "execution_count": 280
  },
  {
   "metadata": {
    "ExecuteTime": {
     "end_time": "2025-03-31T23:16:43.105302Z",
     "start_time": "2025-03-31T23:16:43.042929Z"
    }
   },
   "cell_type": "code",
   "source": "df = pd.read_csv('../../../data/df_monthly_returns_complete_percentage.csv', index_col='Date')",
   "id": "b9221bdd2218913f",
   "outputs": [],
   "execution_count": 281
  },
  {
   "metadata": {
    "ExecuteTime": {
     "end_time": "2025-03-31T23:18:54.690024Z",
     "start_time": "2025-03-31T23:16:43.145196Z"
    }
   },
   "cell_type": "code",
   "source": [
    "importlib.reload(train_test)\n",
    "df_tabular = train_test.get_dataframe_tabular(df)"
   ],
   "id": "497ab01d13be91e7",
   "outputs": [],
   "execution_count": 282
  },
  {
   "metadata": {
    "ExecuteTime": {
     "end_time": "2025-03-31T23:18:54.766249Z",
     "start_time": "2025-03-31T23:18:54.756760Z"
    }
   },
   "cell_type": "code",
   "source": "df_tabular ",
   "id": "3f9d4f9c2f8252c2",
   "outputs": [
    {
     "data": {
      "text/plain": [
       "        month  year        date  m_return(t-11)  m_return(t-10)  \\\n",
       "12         10  2000  2000-10-01            1.13            1.11   \n",
       "13         11  2000  2000-11-01            1.11            1.02   \n",
       "14         12  2000  2000-12-01            1.02            1.00   \n",
       "15          1  2001  2001-01-01            1.00            1.00   \n",
       "16          2  2001  2001-02-01            1.00            1.00   \n",
       "...       ...   ...         ...             ...             ...   \n",
       "495894      4  2024  2024-04-01            0.98            1.07   \n",
       "495895      5  2024  2024-05-01            1.07            1.13   \n",
       "495896      6  2024  2024-06-01            1.13            0.95   \n",
       "495897      7  2024  2024-07-01            0.95            0.93   \n",
       "495898      8  2024  2024-08-01            0.93            1.02   \n",
       "\n",
       "        m_return(t-9)  m_return(t-8)  m_return(t-7)  m_return(t-6)  \\\n",
       "12               1.02           1.00           1.00           1.00   \n",
       "13               1.00           1.00           1.00           1.00   \n",
       "14               1.00           1.00           1.00           1.00   \n",
       "15               1.00           1.00           1.00           1.01   \n",
       "16               1.00           1.00           1.01           1.00   \n",
       "...               ...            ...            ...            ...   \n",
       "495894           1.13           0.95           0.93           1.02   \n",
       "495895           0.95           0.93           1.02           1.09   \n",
       "495896           0.93           1.02           1.09           1.09   \n",
       "495897           1.02           1.09           1.09           1.00   \n",
       "495898           1.09           1.09           1.00           1.04   \n",
       "\n",
       "        m_return(t-5)  m_return(t-4)  m_return(t-3)  m_return(t-2)  \\\n",
       "12               1.00           1.00           1.01           1.00   \n",
       "13               1.00           1.01           1.00           1.00   \n",
       "14               1.01           1.00           1.00           1.00   \n",
       "15               1.00           1.00           1.00           1.00   \n",
       "16               1.00           1.00           1.00           1.00   \n",
       "...               ...            ...            ...            ...   \n",
       "495894           1.09           1.09           1.00           1.04   \n",
       "495895           1.09           1.00           1.04           0.97   \n",
       "495896           1.00           1.04           0.97           0.96   \n",
       "495897           1.04           0.97           0.96           0.98   \n",
       "495898           0.97           0.96           0.98           0.98   \n",
       "\n",
       "        m_return(t-1)  m_return(t)  m_return_target(t+1)  stock_ticker_label  \n",
       "12               1.00         1.00                  1.00                1371  \n",
       "13               1.00         1.00                  1.00                1371  \n",
       "14               1.00         1.00                  1.01                1371  \n",
       "15               1.00         1.01                  1.00                1371  \n",
       "16               1.01         1.00                  1.00                1371  \n",
       "...               ...          ...                   ...                 ...  \n",
       "495894           0.97         0.96                  0.98                1549  \n",
       "495895           0.96         0.98                  0.98                1549  \n",
       "495896           0.98         0.98                  1.09                1549  \n",
       "495897           0.98         1.09                  1.04                1549  \n",
       "495898           1.09         1.04                  0.99                1549  \n",
       "\n",
       "[474411 rows x 17 columns]"
      ],
      "text/html": [
       "<div>\n",
       "<style scoped>\n",
       "    .dataframe tbody tr th:only-of-type {\n",
       "        vertical-align: middle;\n",
       "    }\n",
       "\n",
       "    .dataframe tbody tr th {\n",
       "        vertical-align: top;\n",
       "    }\n",
       "\n",
       "    .dataframe thead th {\n",
       "        text-align: right;\n",
       "    }\n",
       "</style>\n",
       "<table border=\"1\" class=\"dataframe\">\n",
       "  <thead>\n",
       "    <tr style=\"text-align: right;\">\n",
       "      <th></th>\n",
       "      <th>month</th>\n",
       "      <th>year</th>\n",
       "      <th>date</th>\n",
       "      <th>m_return(t-11)</th>\n",
       "      <th>m_return(t-10)</th>\n",
       "      <th>m_return(t-9)</th>\n",
       "      <th>m_return(t-8)</th>\n",
       "      <th>m_return(t-7)</th>\n",
       "      <th>m_return(t-6)</th>\n",
       "      <th>m_return(t-5)</th>\n",
       "      <th>m_return(t-4)</th>\n",
       "      <th>m_return(t-3)</th>\n",
       "      <th>m_return(t-2)</th>\n",
       "      <th>m_return(t-1)</th>\n",
       "      <th>m_return(t)</th>\n",
       "      <th>m_return_target(t+1)</th>\n",
       "      <th>stock_ticker_label</th>\n",
       "    </tr>\n",
       "  </thead>\n",
       "  <tbody>\n",
       "    <tr>\n",
       "      <th>12</th>\n",
       "      <td>10</td>\n",
       "      <td>2000</td>\n",
       "      <td>2000-10-01</td>\n",
       "      <td>1.13</td>\n",
       "      <td>1.11</td>\n",
       "      <td>1.02</td>\n",
       "      <td>1.00</td>\n",
       "      <td>1.00</td>\n",
       "      <td>1.00</td>\n",
       "      <td>1.00</td>\n",
       "      <td>1.00</td>\n",
       "      <td>1.01</td>\n",
       "      <td>1.00</td>\n",
       "      <td>1.00</td>\n",
       "      <td>1.00</td>\n",
       "      <td>1.00</td>\n",
       "      <td>1371</td>\n",
       "    </tr>\n",
       "    <tr>\n",
       "      <th>13</th>\n",
       "      <td>11</td>\n",
       "      <td>2000</td>\n",
       "      <td>2000-11-01</td>\n",
       "      <td>1.11</td>\n",
       "      <td>1.02</td>\n",
       "      <td>1.00</td>\n",
       "      <td>1.00</td>\n",
       "      <td>1.00</td>\n",
       "      <td>1.00</td>\n",
       "      <td>1.00</td>\n",
       "      <td>1.01</td>\n",
       "      <td>1.00</td>\n",
       "      <td>1.00</td>\n",
       "      <td>1.00</td>\n",
       "      <td>1.00</td>\n",
       "      <td>1.00</td>\n",
       "      <td>1371</td>\n",
       "    </tr>\n",
       "    <tr>\n",
       "      <th>14</th>\n",
       "      <td>12</td>\n",
       "      <td>2000</td>\n",
       "      <td>2000-12-01</td>\n",
       "      <td>1.02</td>\n",
       "      <td>1.00</td>\n",
       "      <td>1.00</td>\n",
       "      <td>1.00</td>\n",
       "      <td>1.00</td>\n",
       "      <td>1.00</td>\n",
       "      <td>1.01</td>\n",
       "      <td>1.00</td>\n",
       "      <td>1.00</td>\n",
       "      <td>1.00</td>\n",
       "      <td>1.00</td>\n",
       "      <td>1.00</td>\n",
       "      <td>1.01</td>\n",
       "      <td>1371</td>\n",
       "    </tr>\n",
       "    <tr>\n",
       "      <th>15</th>\n",
       "      <td>1</td>\n",
       "      <td>2001</td>\n",
       "      <td>2001-01-01</td>\n",
       "      <td>1.00</td>\n",
       "      <td>1.00</td>\n",
       "      <td>1.00</td>\n",
       "      <td>1.00</td>\n",
       "      <td>1.00</td>\n",
       "      <td>1.01</td>\n",
       "      <td>1.00</td>\n",
       "      <td>1.00</td>\n",
       "      <td>1.00</td>\n",
       "      <td>1.00</td>\n",
       "      <td>1.00</td>\n",
       "      <td>1.01</td>\n",
       "      <td>1.00</td>\n",
       "      <td>1371</td>\n",
       "    </tr>\n",
       "    <tr>\n",
       "      <th>16</th>\n",
       "      <td>2</td>\n",
       "      <td>2001</td>\n",
       "      <td>2001-02-01</td>\n",
       "      <td>1.00</td>\n",
       "      <td>1.00</td>\n",
       "      <td>1.00</td>\n",
       "      <td>1.00</td>\n",
       "      <td>1.01</td>\n",
       "      <td>1.00</td>\n",
       "      <td>1.00</td>\n",
       "      <td>1.00</td>\n",
       "      <td>1.00</td>\n",
       "      <td>1.00</td>\n",
       "      <td>1.01</td>\n",
       "      <td>1.00</td>\n",
       "      <td>1.00</td>\n",
       "      <td>1371</td>\n",
       "    </tr>\n",
       "    <tr>\n",
       "      <th>...</th>\n",
       "      <td>...</td>\n",
       "      <td>...</td>\n",
       "      <td>...</td>\n",
       "      <td>...</td>\n",
       "      <td>...</td>\n",
       "      <td>...</td>\n",
       "      <td>...</td>\n",
       "      <td>...</td>\n",
       "      <td>...</td>\n",
       "      <td>...</td>\n",
       "      <td>...</td>\n",
       "      <td>...</td>\n",
       "      <td>...</td>\n",
       "      <td>...</td>\n",
       "      <td>...</td>\n",
       "      <td>...</td>\n",
       "      <td>...</td>\n",
       "    </tr>\n",
       "    <tr>\n",
       "      <th>495894</th>\n",
       "      <td>4</td>\n",
       "      <td>2024</td>\n",
       "      <td>2024-04-01</td>\n",
       "      <td>0.98</td>\n",
       "      <td>1.07</td>\n",
       "      <td>1.13</td>\n",
       "      <td>0.95</td>\n",
       "      <td>0.93</td>\n",
       "      <td>1.02</td>\n",
       "      <td>1.09</td>\n",
       "      <td>1.09</td>\n",
       "      <td>1.00</td>\n",
       "      <td>1.04</td>\n",
       "      <td>0.97</td>\n",
       "      <td>0.96</td>\n",
       "      <td>0.98</td>\n",
       "      <td>1549</td>\n",
       "    </tr>\n",
       "    <tr>\n",
       "      <th>495895</th>\n",
       "      <td>5</td>\n",
       "      <td>2024</td>\n",
       "      <td>2024-05-01</td>\n",
       "      <td>1.07</td>\n",
       "      <td>1.13</td>\n",
       "      <td>0.95</td>\n",
       "      <td>0.93</td>\n",
       "      <td>1.02</td>\n",
       "      <td>1.09</td>\n",
       "      <td>1.09</td>\n",
       "      <td>1.00</td>\n",
       "      <td>1.04</td>\n",
       "      <td>0.97</td>\n",
       "      <td>0.96</td>\n",
       "      <td>0.98</td>\n",
       "      <td>0.98</td>\n",
       "      <td>1549</td>\n",
       "    </tr>\n",
       "    <tr>\n",
       "      <th>495896</th>\n",
       "      <td>6</td>\n",
       "      <td>2024</td>\n",
       "      <td>2024-06-01</td>\n",
       "      <td>1.13</td>\n",
       "      <td>0.95</td>\n",
       "      <td>0.93</td>\n",
       "      <td>1.02</td>\n",
       "      <td>1.09</td>\n",
       "      <td>1.09</td>\n",
       "      <td>1.00</td>\n",
       "      <td>1.04</td>\n",
       "      <td>0.97</td>\n",
       "      <td>0.96</td>\n",
       "      <td>0.98</td>\n",
       "      <td>0.98</td>\n",
       "      <td>1.09</td>\n",
       "      <td>1549</td>\n",
       "    </tr>\n",
       "    <tr>\n",
       "      <th>495897</th>\n",
       "      <td>7</td>\n",
       "      <td>2024</td>\n",
       "      <td>2024-07-01</td>\n",
       "      <td>0.95</td>\n",
       "      <td>0.93</td>\n",
       "      <td>1.02</td>\n",
       "      <td>1.09</td>\n",
       "      <td>1.09</td>\n",
       "      <td>1.00</td>\n",
       "      <td>1.04</td>\n",
       "      <td>0.97</td>\n",
       "      <td>0.96</td>\n",
       "      <td>0.98</td>\n",
       "      <td>0.98</td>\n",
       "      <td>1.09</td>\n",
       "      <td>1.04</td>\n",
       "      <td>1549</td>\n",
       "    </tr>\n",
       "    <tr>\n",
       "      <th>495898</th>\n",
       "      <td>8</td>\n",
       "      <td>2024</td>\n",
       "      <td>2024-08-01</td>\n",
       "      <td>0.93</td>\n",
       "      <td>1.02</td>\n",
       "      <td>1.09</td>\n",
       "      <td>1.09</td>\n",
       "      <td>1.00</td>\n",
       "      <td>1.04</td>\n",
       "      <td>0.97</td>\n",
       "      <td>0.96</td>\n",
       "      <td>0.98</td>\n",
       "      <td>0.98</td>\n",
       "      <td>1.09</td>\n",
       "      <td>1.04</td>\n",
       "      <td>0.99</td>\n",
       "      <td>1549</td>\n",
       "    </tr>\n",
       "  </tbody>\n",
       "</table>\n",
       "<p>474411 rows × 17 columns</p>\n",
       "</div>"
      ]
     },
     "execution_count": 283,
     "metadata": {},
     "output_type": "execute_result"
    }
   ],
   "execution_count": 283
  },
  {
   "metadata": {
    "ExecuteTime": {
     "end_time": "2025-03-31T23:18:54.836663Z",
     "start_time": "2025-03-31T23:18:54.832006Z"
    }
   },
   "cell_type": "code",
   "source": "df_tabular[df_tabular[\"m_return_target(t+1)\"].isna()][[\"date\", \"stock_ticker_label\"]]\n",
   "id": "7daea158ea251e5a",
   "outputs": [
    {
     "data": {
      "text/plain": [
       "Empty DataFrame\n",
       "Columns: [date, stock_ticker_label]\n",
       "Index: []"
      ],
      "text/html": [
       "<div>\n",
       "<style scoped>\n",
       "    .dataframe tbody tr th:only-of-type {\n",
       "        vertical-align: middle;\n",
       "    }\n",
       "\n",
       "    .dataframe tbody tr th {\n",
       "        vertical-align: top;\n",
       "    }\n",
       "\n",
       "    .dataframe thead th {\n",
       "        text-align: right;\n",
       "    }\n",
       "</style>\n",
       "<table border=\"1\" class=\"dataframe\">\n",
       "  <thead>\n",
       "    <tr style=\"text-align: right;\">\n",
       "      <th></th>\n",
       "      <th>date</th>\n",
       "      <th>stock_ticker_label</th>\n",
       "    </tr>\n",
       "  </thead>\n",
       "  <tbody>\n",
       "  </tbody>\n",
       "</table>\n",
       "</div>"
      ]
     },
     "execution_count": 284,
     "metadata": {},
     "output_type": "execute_result"
    }
   ],
   "execution_count": 284
  },
  {
   "metadata": {
    "ExecuteTime": {
     "end_time": "2025-03-31T23:18:54.943115Z",
     "start_time": "2025-03-31T23:18:54.937542Z"
    }
   },
   "cell_type": "code",
   "source": [
    "# Methods\n",
    "def generate_plot(df, y_train_pred, y_test_pred):\n",
    "    # Create the plot\n",
    "    fig = go.Figure()\n",
    "    indices = df.index.tolist()\n",
    "    min_date = pd.to_datetime(df_tabular['date'].max()) - pd.DateOffset(months=len(y_test_pred))\n",
    "    min_datestr = min_date.strftime('%Y-%m-%d')\n",
    "\n",
    "    # Add the timeseries line\n",
    "    fig.add_trace(go.Scatter(y=df.mean(axis=1), x=indices, mode='lines', name='Actual returns',\n",
    "                             line=dict(color='#5c839f', width=2)))\n",
    "    # Add the training plot in red\n",
    "    fig.add_trace(go.Scatter(y=y_train_pred, x=indices[:len(y_train_pred)],\n",
    "                             mode='lines', name='Train returns',\n",
    "                             line=dict(color='red', width=2)))\n",
    "\n",
    "    # Add the testing plot in green\n",
    "    fig.add_trace(go.Scatter(x=indices[len(y_train_pred) -1:],\n",
    "                             y=[y_train_pred[len(y_train_pred)-1], *y_test_pred],\n",
    "                             mode='lines', name='Test returns',\n",
    "                             line=dict(color='green', width=2)))\n",
    "\n",
    "    fig.add_vline(x=min_datestr, line_color='red', line_dash='dash', line_width=1)\n",
    "\n",
    "    # Update layout with labels\n",
    "    fig.update_layout(\n",
    "        title='{0} Month Prediction vs Actual Plot'.format(len(y_test_pred)),\n",
    "        xaxis=dict(\n",
    "            title='Date'\n",
    "        ),\n",
    "        yaxis=dict(\n",
    "            title='Day closing return (%)',\n",
    "            tickformat='.0%',\n",
    "            range=[0.75, 1.6]\n",
    "        ),\n",
    "        legend=dict(title=\"Legend\"),\n",
    "        template=\"plotly_white\"\n",
    "    )\n",
    "\n",
    "    fig.show()\n",
    "\n",
    "def get_tt_pred(y_train_pred_1m, y_test_pred_1m):\n",
    "    train_pred_torch_list = torch.from_numpy(y_train_pred_1m)\n",
    "    # Reshape to (num_samples, num_features) for normalization\n",
    "    train_rows = int(len(train_pred_torch_list)/1653)\n",
    "    train_pred_torch_view = train_pred_torch_list.view(train_rows, 1653)\n",
    "    y_train_pred = pd.DataFrame(train_pred_torch_view).mean(axis=1)\n",
    "    #\n",
    "    test_pred_torch_list = torch.from_numpy(y_test_pred_1m)\n",
    "    test_rows = int(len(test_pred_torch_list) / 1653)\n",
    "    test_pred_torch_view = test_pred_torch_list.view(test_rows, 1653)\n",
    "    y_test_pred = pd.DataFrame(test_pred_torch_view).mean(axis=1)\n",
    "\n",
    "    return y_train_pred, y_test_pred"
   ],
   "id": "6186217d33eebb05",
   "outputs": [],
   "execution_count": 285
  },
  {
   "metadata": {},
   "cell_type": "markdown",
   "source": "## Model",
   "id": "3d47cb7cada4850e"
  },
  {
   "metadata": {
    "ExecuteTime": {
     "end_time": "2025-03-31T23:18:55.027278Z",
     "start_time": "2025-03-31T23:18:54.998930Z"
    }
   },
   "cell_type": "code",
   "source": "pd.to_datetime(df_tabular['date']).max() - pd.DateOffset(months=30)",
   "id": "440bd7eb5f9aaaeb",
   "outputs": [
    {
     "data": {
      "text/plain": [
       "Timestamp('2022-02-01 00:00:00')"
      ]
     },
     "execution_count": 286,
     "metadata": {},
     "output_type": "execute_result"
    }
   ],
   "execution_count": 286
  },
  {
   "metadata": {
    "ExecuteTime": {
     "end_time": "2025-03-31T23:19:05.103942Z",
     "start_time": "2025-03-31T23:18:55.343823Z"
    }
   },
   "cell_type": "code",
   "source": [
    "importlib.reload(train_test)\n",
    "\n",
    "X_train, y_train, X_test, y_test = train_test.get_train_test(df_tabular, months=60)\n",
    "\n",
    "model = xgboost.XGBRegressor(n_estimators=1000)\n",
    "model.fit(X_train, y_train,\n",
    "        eval_set=[(X_train, y_train), (X_test, y_test)],\n",
    "        verbose=False)"
   ],
   "id": "8be1eec0fcedb9ec",
   "outputs": [
    {
     "data": {
      "text/plain": [
       "XGBRegressor(base_score=None, booster=None, callbacks=None,\n",
       "             colsample_bylevel=None, colsample_bynode=None,\n",
       "             colsample_bytree=None, device=None, early_stopping_rounds=None,\n",
       "             enable_categorical=False, eval_metric=None, feature_types=None,\n",
       "             gamma=None, grow_policy=None, importance_type=None,\n",
       "             interaction_constraints=None, learning_rate=None, max_bin=None,\n",
       "             max_cat_threshold=None, max_cat_to_onehot=None,\n",
       "             max_delta_step=None, max_depth=None, max_leaves=None,\n",
       "             min_child_weight=None, missing=nan, monotone_constraints=None,\n",
       "             multi_strategy=None, n_estimators=1000, n_jobs=None,\n",
       "             num_parallel_tree=None, random_state=None, ...)"
      ],
      "text/html": [
       "<style>#sk-container-id-7 {color: black;}#sk-container-id-7 pre{padding: 0;}#sk-container-id-7 div.sk-toggleable {background-color: white;}#sk-container-id-7 label.sk-toggleable__label {cursor: pointer;display: block;width: 100%;margin-bottom: 0;padding: 0.3em;box-sizing: border-box;text-align: center;}#sk-container-id-7 label.sk-toggleable__label-arrow:before {content: \"▸\";float: left;margin-right: 0.25em;color: #696969;}#sk-container-id-7 label.sk-toggleable__label-arrow:hover:before {color: black;}#sk-container-id-7 div.sk-estimator:hover label.sk-toggleable__label-arrow:before {color: black;}#sk-container-id-7 div.sk-toggleable__content {max-height: 0;max-width: 0;overflow: hidden;text-align: left;background-color: #f0f8ff;}#sk-container-id-7 div.sk-toggleable__content pre {margin: 0.2em;color: black;border-radius: 0.25em;background-color: #f0f8ff;}#sk-container-id-7 input.sk-toggleable__control:checked~div.sk-toggleable__content {max-height: 200px;max-width: 100%;overflow: auto;}#sk-container-id-7 input.sk-toggleable__control:checked~label.sk-toggleable__label-arrow:before {content: \"▾\";}#sk-container-id-7 div.sk-estimator input.sk-toggleable__control:checked~label.sk-toggleable__label {background-color: #d4ebff;}#sk-container-id-7 div.sk-label input.sk-toggleable__control:checked~label.sk-toggleable__label {background-color: #d4ebff;}#sk-container-id-7 input.sk-hidden--visually {border: 0;clip: rect(1px 1px 1px 1px);clip: rect(1px, 1px, 1px, 1px);height: 1px;margin: -1px;overflow: hidden;padding: 0;position: absolute;width: 1px;}#sk-container-id-7 div.sk-estimator {font-family: monospace;background-color: #f0f8ff;border: 1px dotted black;border-radius: 0.25em;box-sizing: border-box;margin-bottom: 0.5em;}#sk-container-id-7 div.sk-estimator:hover {background-color: #d4ebff;}#sk-container-id-7 div.sk-parallel-item::after {content: \"\";width: 100%;border-bottom: 1px solid gray;flex-grow: 1;}#sk-container-id-7 div.sk-label:hover label.sk-toggleable__label {background-color: #d4ebff;}#sk-container-id-7 div.sk-serial::before {content: \"\";position: absolute;border-left: 1px solid gray;box-sizing: border-box;top: 0;bottom: 0;left: 50%;z-index: 0;}#sk-container-id-7 div.sk-serial {display: flex;flex-direction: column;align-items: center;background-color: white;padding-right: 0.2em;padding-left: 0.2em;position: relative;}#sk-container-id-7 div.sk-item {position: relative;z-index: 1;}#sk-container-id-7 div.sk-parallel {display: flex;align-items: stretch;justify-content: center;background-color: white;position: relative;}#sk-container-id-7 div.sk-item::before, #sk-container-id-7 div.sk-parallel-item::before {content: \"\";position: absolute;border-left: 1px solid gray;box-sizing: border-box;top: 0;bottom: 0;left: 50%;z-index: -1;}#sk-container-id-7 div.sk-parallel-item {display: flex;flex-direction: column;z-index: 1;position: relative;background-color: white;}#sk-container-id-7 div.sk-parallel-item:first-child::after {align-self: flex-end;width: 50%;}#sk-container-id-7 div.sk-parallel-item:last-child::after {align-self: flex-start;width: 50%;}#sk-container-id-7 div.sk-parallel-item:only-child::after {width: 0;}#sk-container-id-7 div.sk-dashed-wrapped {border: 1px dashed gray;margin: 0 0.4em 0.5em 0.4em;box-sizing: border-box;padding-bottom: 0.4em;background-color: white;}#sk-container-id-7 div.sk-label label {font-family: monospace;font-weight: bold;display: inline-block;line-height: 1.2em;}#sk-container-id-7 div.sk-label-container {text-align: center;}#sk-container-id-7 div.sk-container {/* jupyter's `normalize.less` sets `[hidden] { display: none; }` but bootstrap.min.css set `[hidden] { display: none !important; }` so we also need the `!important` here to be able to override the default hidden behavior on the sphinx rendered scikit-learn.org. See: https://github.com/scikit-learn/scikit-learn/issues/21755 */display: inline-block !important;position: relative;}#sk-container-id-7 div.sk-text-repr-fallback {display: none;}</style><div id=\"sk-container-id-7\" class=\"sk-top-container\"><div class=\"sk-text-repr-fallback\"><pre>XGBRegressor(base_score=None, booster=None, callbacks=None,\n",
       "             colsample_bylevel=None, colsample_bynode=None,\n",
       "             colsample_bytree=None, device=None, early_stopping_rounds=None,\n",
       "             enable_categorical=False, eval_metric=None, feature_types=None,\n",
       "             gamma=None, grow_policy=None, importance_type=None,\n",
       "             interaction_constraints=None, learning_rate=None, max_bin=None,\n",
       "             max_cat_threshold=None, max_cat_to_onehot=None,\n",
       "             max_delta_step=None, max_depth=None, max_leaves=None,\n",
       "             min_child_weight=None, missing=nan, monotone_constraints=None,\n",
       "             multi_strategy=None, n_estimators=1000, n_jobs=None,\n",
       "             num_parallel_tree=None, random_state=None, ...)</pre><b>In a Jupyter environment, please rerun this cell to show the HTML representation or trust the notebook. <br />On GitHub, the HTML representation is unable to render, please try loading this page with nbviewer.org.</b></div><div class=\"sk-container\" hidden><div class=\"sk-item\"><div class=\"sk-estimator sk-toggleable\"><input class=\"sk-toggleable__control sk-hidden--visually\" id=\"sk-estimator-id-7\" type=\"checkbox\" checked><label for=\"sk-estimator-id-7\" class=\"sk-toggleable__label sk-toggleable__label-arrow\">XGBRegressor</label><div class=\"sk-toggleable__content\"><pre>XGBRegressor(base_score=None, booster=None, callbacks=None,\n",
       "             colsample_bylevel=None, colsample_bynode=None,\n",
       "             colsample_bytree=None, device=None, early_stopping_rounds=None,\n",
       "             enable_categorical=False, eval_metric=None, feature_types=None,\n",
       "             gamma=None, grow_policy=None, importance_type=None,\n",
       "             interaction_constraints=None, learning_rate=None, max_bin=None,\n",
       "             max_cat_threshold=None, max_cat_to_onehot=None,\n",
       "             max_delta_step=None, max_depth=None, max_leaves=None,\n",
       "             min_child_weight=None, missing=nan, monotone_constraints=None,\n",
       "             multi_strategy=None, n_estimators=1000, n_jobs=None,\n",
       "             num_parallel_tree=None, random_state=None, ...)</pre></div></div></div></div></div>"
      ]
     },
     "execution_count": 287,
     "metadata": {},
     "output_type": "execute_result"
    }
   ],
   "execution_count": 287
  },
  {
   "metadata": {},
   "cell_type": "markdown",
   "source": "## 1 Month",
   "id": "420fc796bdd8258f"
  },
  {
   "metadata": {
    "ExecuteTime": {
     "end_time": "2025-03-31T23:19:05.248183Z",
     "start_time": "2025-03-31T23:19:05.155506Z"
    }
   },
   "cell_type": "code",
   "source": [
    "months_1m = 1\n",
    "X_train_1m, y_train_1m, X_test_1m, y_test_1m = train_test.get_train_test(df_tabular, months=1)"
   ],
   "id": "2cd1cababb8bbe1e",
   "outputs": [],
   "execution_count": 288
  },
  {
   "metadata": {
    "ExecuteTime": {
     "end_time": "2025-03-31T23:19:06.887488Z",
     "start_time": "2025-03-31T23:19:05.254908Z"
    }
   },
   "cell_type": "code",
   "source": [
    "# Predictions\n",
    "y_train_pred_1m = model.predict(X_train_1m)\n",
    "y_test_pred_1m = model.predict(X_test_1m)"
   ],
   "id": "a76dc83bc9448997",
   "outputs": [],
   "execution_count": 289
  },
  {
   "metadata": {},
   "cell_type": "markdown",
   "source": "#### Train-Data",
   "id": "f02819904a6dbc4b"
  },
  {
   "metadata": {
    "ExecuteTime": {
     "end_time": "2025-03-31T23:19:06.907410Z",
     "start_time": "2025-03-31T23:19:06.890367Z"
    }
   },
   "cell_type": "code",
   "source": "y_train_pred_1m, y_test_pred_1m = get_tt_pred(y_train_pred_1m, y_test_pred_1m)",
   "id": "d9c2b8ca3b2e4c00",
   "outputs": [],
   "execution_count": 290
  },
  {
   "metadata": {},
   "cell_type": "markdown",
   "source": "#### Actual vs Prediction plot",
   "id": "25364fb4677243db"
  },
  {
   "metadata": {
    "ExecuteTime": {
     "end_time": "2025-03-31T23:19:06.956335Z",
     "start_time": "2025-03-31T23:19:06.909958Z"
    }
   },
   "cell_type": "code",
   "source": "generate_plot(df, y_train_pred_1m, y_test_pred_1m)",
   "id": "575407a2f792ce63",
   "outputs": [
    {
     "data": {
      "application/vnd.plotly.v1+json": {
       "data": [
        {
         "line": {
          "color": "#5c839f",
          "width": 2
         },
         "mode": "lines",
         "name": "Actual returns",
         "x": [
          "1999-10-01",
          "1999-11-01",
          "1999-12-01",
          "2000-01-01",
          "2000-02-01",
          "2000-03-01",
          "2000-04-01",
          "2000-05-01",
          "2000-06-01",
          "2000-07-01",
          "2000-08-01",
          "2000-09-01",
          "2000-10-01",
          "2000-11-01",
          "2000-12-01",
          "2001-01-01",
          "2001-02-01",
          "2001-03-01",
          "2001-04-01",
          "2001-05-01",
          "2001-06-01",
          "2001-07-01",
          "2001-08-01",
          "2001-09-01",
          "2001-10-01",
          "2001-11-01",
          "2001-12-01",
          "2002-01-01",
          "2002-02-01",
          "2002-03-01",
          "2002-04-01",
          "2002-05-01",
          "2002-06-01",
          "2002-07-01",
          "2002-08-01",
          "2002-09-01",
          "2002-10-01",
          "2002-11-01",
          "2002-12-01",
          "2003-01-01",
          "2003-02-01",
          "2003-03-01",
          "2003-04-01",
          "2003-05-01",
          "2003-06-01",
          "2003-07-01",
          "2003-08-01",
          "2003-09-01",
          "2003-10-01",
          "2003-11-01",
          "2003-12-01",
          "2004-01-01",
          "2004-02-01",
          "2004-03-01",
          "2004-04-01",
          "2004-05-01",
          "2004-06-01",
          "2004-07-01",
          "2004-08-01",
          "2004-09-01",
          "2004-10-01",
          "2004-11-01",
          "2004-12-01",
          "2005-01-01",
          "2005-02-01",
          "2005-03-01",
          "2005-04-01",
          "2005-05-01",
          "2005-06-01",
          "2005-07-01",
          "2005-08-01",
          "2005-09-01",
          "2005-10-01",
          "2005-11-01",
          "2005-12-01",
          "2006-01-01",
          "2006-02-01",
          "2006-03-01",
          "2006-04-01",
          "2006-05-01",
          "2006-06-01",
          "2006-07-01",
          "2006-08-01",
          "2006-09-01",
          "2006-10-01",
          "2006-11-01",
          "2006-12-01",
          "2007-01-01",
          "2007-02-01",
          "2007-03-01",
          "2007-04-01",
          "2007-05-01",
          "2007-06-01",
          "2007-07-01",
          "2007-08-01",
          "2007-09-01",
          "2007-10-01",
          "2007-11-01",
          "2007-12-01",
          "2008-01-01",
          "2008-02-01",
          "2008-03-01",
          "2008-04-01",
          "2008-05-01",
          "2008-06-01",
          "2008-07-01",
          "2008-08-01",
          "2008-09-01",
          "2008-10-01",
          "2008-11-01",
          "2008-12-01",
          "2009-01-01",
          "2009-02-01",
          "2009-03-01",
          "2009-04-01",
          "2009-05-01",
          "2009-06-01",
          "2009-07-01",
          "2009-08-01",
          "2009-09-01",
          "2009-10-01",
          "2009-11-01",
          "2009-12-01",
          "2010-01-01",
          "2010-02-01",
          "2010-03-01",
          "2010-04-01",
          "2010-05-01",
          "2010-06-01",
          "2010-07-01",
          "2010-08-01",
          "2010-09-01",
          "2010-10-01",
          "2010-11-01",
          "2010-12-01",
          "2011-01-01",
          "2011-02-01",
          "2011-03-01",
          "2011-04-01",
          "2011-05-01",
          "2011-06-01",
          "2011-07-01",
          "2011-08-01",
          "2011-09-01",
          "2011-10-01",
          "2011-11-01",
          "2011-12-01",
          "2012-01-01",
          "2012-02-01",
          "2012-03-01",
          "2012-04-01",
          "2012-05-01",
          "2012-06-01",
          "2012-07-01",
          "2012-08-01",
          "2012-09-01",
          "2012-10-01",
          "2012-11-01",
          "2012-12-01",
          "2013-01-01",
          "2013-02-01",
          "2013-03-01",
          "2013-04-01",
          "2013-05-01",
          "2013-06-01",
          "2013-07-01",
          "2013-08-01",
          "2013-09-01",
          "2013-10-01",
          "2013-11-01",
          "2013-12-01",
          "2014-01-01",
          "2014-02-01",
          "2014-03-01",
          "2014-04-01",
          "2014-05-01",
          "2014-06-01",
          "2014-07-01",
          "2014-08-01",
          "2014-09-01",
          "2014-10-01",
          "2014-11-01",
          "2014-12-01",
          "2015-01-01",
          "2015-02-01",
          "2015-03-01",
          "2015-04-01",
          "2015-05-01",
          "2015-06-01",
          "2015-07-01",
          "2015-08-01",
          "2015-09-01",
          "2015-10-01",
          "2015-11-01",
          "2015-12-01",
          "2016-01-01",
          "2016-02-01",
          "2016-03-01",
          "2016-04-01",
          "2016-05-01",
          "2016-06-01",
          "2016-07-01",
          "2016-08-01",
          "2016-09-01",
          "2016-10-01",
          "2016-11-01",
          "2016-12-01",
          "2017-01-01",
          "2017-02-01",
          "2017-03-01",
          "2017-04-01",
          "2017-05-01",
          "2017-06-01",
          "2017-07-01",
          "2017-08-01",
          "2017-09-01",
          "2017-10-01",
          "2017-11-01",
          "2017-12-01",
          "2018-01-01",
          "2018-02-01",
          "2018-03-01",
          "2018-04-01",
          "2018-05-01",
          "2018-06-01",
          "2018-07-01",
          "2018-08-01",
          "2018-09-01",
          "2018-10-01",
          "2018-11-01",
          "2018-12-01",
          "2019-01-01",
          "2019-02-01",
          "2019-03-01",
          "2019-04-01",
          "2019-05-01",
          "2019-06-01",
          "2019-07-01",
          "2019-08-01",
          "2019-09-01",
          "2019-10-01",
          "2019-11-01",
          "2019-12-01",
          "2020-01-01",
          "2020-02-01",
          "2020-03-01",
          "2020-04-01",
          "2020-05-01",
          "2020-06-01",
          "2020-07-01",
          "2020-08-01",
          "2020-09-01",
          "2020-10-01",
          "2020-11-01",
          "2020-12-01",
          "2021-01-01",
          "2021-02-01",
          "2021-03-01",
          "2021-04-01",
          "2021-05-01",
          "2021-06-01",
          "2021-07-01",
          "2021-08-01",
          "2021-09-01",
          "2021-10-01",
          "2021-11-01",
          "2021-12-01",
          "2022-01-01",
          "2022-02-01",
          "2022-03-01",
          "2022-04-01",
          "2022-05-01",
          "2022-06-01",
          "2022-07-01",
          "2022-08-01",
          "2022-09-01",
          "2022-10-01",
          "2022-11-01",
          "2022-12-01",
          "2023-01-01",
          "2023-02-01",
          "2023-03-01",
          "2023-04-01",
          "2023-05-01",
          "2023-06-01",
          "2023-07-01",
          "2023-08-01",
          "2023-09-01",
          "2023-10-01",
          "2023-11-01",
          "2023-12-01",
          "2024-01-01",
          "2024-02-01",
          "2024-03-01",
          "2024-04-01",
          "2024-05-01",
          "2024-06-01",
          "2024-07-01",
          "2024-08-01",
          "2024-09-01"
         ],
         "y": [
          null,
          1.0255474894131882,
          1.0338354506957046,
          0.9928735632183908,
          5.930568663036903,
          1.02524500907441,
          0.9939624924379915,
          0.9817483363581366,
          1.0329461584996975,
          0.9952389594676346,
          1.027350272232305,
          0.9906291591046583,
          0.9893103448275862,
          0.9717422867513611,
          1.0094071385359953,
          1.0391651542649727,
          0.9689776164549303,
          0.9847489413188143,
          1.0655414398064127,
          1.0118451300665456,
          0.9984392014519057,
          0.9735087719298245,
          0.9690865093768906,
          0.9132849364791288,
          1.0499274047186933,
          1.050798548094374,
          1.0158620689655173,
          0.9939322444041138,
          1.0093103448275862,
          1.050725952813067,
          1.007102238354507,
          1.0027646702964308,
          0.9519721718088325,
          0.9418874773139746,
          0.9874833635813671,
          0.9568905021173624,
          1.0078644888082275,
          1.0582516636418633,
          0.9664125831820932,
          0.9890199637023595,
          1.0055716878402905,
          0.9959830611010285,
          1.0599516031457954,
          1.0670054446460981,
          1.034162129461585,
          1.508451300665457,
          1.0614277071990321,
          1.0038233514821537,
          1.0498003629764066,
          1.0042286751361162,
          1.015849969751966,
          1.0305263157894737,
          1.0141560798548095,
          1.0468421052631578,
          1.0040834845735027,
          0.992474289171204,
          1.0346218995765275,
          0.9633877797943133,
          0.9934119782214157,
          1.0055535390199637,
          1.0005565638233516,
          1.0293163944343617,
          1.053762855414398,
          1.00643073200242,
          1.0203811252268602,
          0.9955595886267392,
          0.9733030852994556,
          1.033145795523291,
          1.0216817906836055,
          1.0358136721113127,
          0.9993042952208105,
          1.1286509376890503,
          1.0726013309134907,
          3.2130248033877797,
          1.0215607985480943,
          1.0408166969147006,
          1.0128917120387175,
          1.027501512401694,
          1.0092075015124016,
          0.9686267392619479,
          0.9991833030852995,
          0.9856866303690262,
          1.0248820326678767,
          1.0297519661222019,
          1.0213853599516032,
          1.0188808227465216,
          1.027979431336963,
          1.0368723532970356,
          1.0044404113732608,
          1.0015849969751967,
          1.0188082274652148,
          1.0226194797338173,
          0.9885843920145191,
          0.9759286146400484,
          0.9907501512401694,
          1.002474289171204,
          1.0255172413793103,
          0.9479370840895343,
          0.9907743496672716,
          0.9420447670901392,
          0.9907199032062917,
          0.9868784029038112,
          1.0311494252873565,
          1.02318814277072,
          0.9375620084694495,
          0.9950090744101633,
          1.0215789473684211,
          0.9273018753781004,
          0.8458197217180883,
          0.9447489413188144,
          1.0413006654567454,
          0.9497701149425287,
          0.9416515426497277,
          1.0697580157289777,
          1.1476164549304295,
          1.0432909860859043,
          1.0350211736237145,
          1.0623895946763462,
          1.0552026618269812,
          1.0322746521476103,
          0.9779915305505141,
          1.0015910465819722,
          1.0513793103448277,
          0.9896067755595885,
          1.0185541439806414,
          1.0590381125226862,
          1.0449969751966124,
          0.9456261343012704,
          0.9619419237749547,
          1.0388626739261946,
          0.9645856019358742,
          1.0696067755595886,
          1.0163883847549908,
          1.0275862068965518,
          1.0584029038112523,
          1.0119782214156081,
          1.0324803387779795,
          1.0016031457955235,
          1.0198850574712643,
          0.9949969751966122,
          0.9972353297035693,
          0.9830429522081064,
          0.9474712643678161,
          0.9529824561403508,
          1.0689231699939505,
          0.9843375680580763,
          1.0002540834845735,
          1.0593768905021175,
          1.0995402298850574,
          1.026303690260133,
          0.9927465214761042,
          0.9427586206896552,
          1.0300241984271024,
          0.9957652752571083,
          1.0196672716273443,
          1.0171506352087114,
          1.0012038717483362,
          1.0166848154869934,
          1.0311736237144584,
          1.0607924984875983,
          1.0218390804597701,
          1.0406836055656383,
          1.0333696309739866,
          1.01821536600121,
          0.990508166969147,
          1.0369933454325468,
          0.98346037507562,
          1.0512159709618873,
          1.0213430127041743,
          1.0239806412583181,
          1.022280701754386,
          0.9877434966727164,
          1.0288626739261948,
          1.0008287961282516,
          0.9851845130066547,
          1.0161161524500906,
          1.0306473079249847,
          0.9871445856019359,
          1.026745311554749,
          0.989491833030853,
          1.0253115547489413,
          1.04167574107683,
          1.0141681790683605,
          1.0019419237749547,
          1.0444585601935874,
          1.0097459165154263,
          1.000411373260738,
          1.0252087114337567,
          0.9903266787658802,
          1.012788868723533,
          0.9586448880822745,
          0.9679854809437386,
          1.0623411978221418,
          1.0190018148820326,
          0.9822928009679371,
          0.9491107078039926,
          0.9993587416817907,
          1.0566122202056867,
          1.0004355716878404,
          1.0214095583787053,
          0.9709074410163339,
          1.0535813672111312,
          1.0110102843315183,
          1.0043375680580762,
          0.9848154869933453,
          1.0514337568058076,
          1.0315486993345433,
          1.0146581972171809,
          1.0218451300665456,
          1.009751966122202,
          1.0155958862673926,
          1.0126678765880217,
          1.0131215970961889,
          1.0135692679975803,
          1.0033877797943134,
          1.0308892921960073,
          1.0195220810647307,
          1.0232244404113733,
          1.0114458560193589,
          1.023817301875378,
          0.974422262552934,
          0.996636418632789,
          1.0194797338173018,
          1.0263641863278887,
          1.0086327888687234,
          1.0175922565033273,
          1.0217725347852389,
          0.9907501512401694,
          0.9365880217785845,
          1.0115124016938897,
          0.9133272837265578,
          1.0914398064125832,
          1.0367513611615244,
          1.004137931034483,
          1.043049001814882,
          0.940822746521476,
          1.0453539019963702,
          1.0221234119782214,
          0.9704476709013913,
          1.0369449485783424,
          1.0294797338173018,
          1.0347307924984874,
          1.0268058076225044,
          0.9897519661222022,
          0.9099153055051422,
          0.8183847549909256,
          1.1260314579552329,
          1.072552934059286,
          1.0304174228675136,
          1.0225710828796128,
          1.0605565638233514,
          0.9945130066545675,
          0.9923290986085905,
          1.1583847549909256,
          1.0579612825166365,
          1.0404839685420448,
          1.053793103448276,
          1.0589292196007258,
          1.037652752571083,
          1.0213430127041743,
          1.0207562008469449,
          1.0036418632788868,
          1.025287356321839,
          0.9864851784633998,
          1.0300241984271024,
          0.969933454325469,
          1.0402117362371448,
          0.9256805807622505,
          0.9876830006049606,
          1.003230490018149,
          0.9446763460375075,
          1.0007199032062917,
          0.9249425287356322,
          1.0904295220810647,
          0.9692982456140351,
          0.901373260738052,
          1.0810284331518452,
          1.0552994555353903,
          0.9577374470659408,
          1.0973321234119784,
          0.9889957652752571,
          0.979933454325469,
          1.001318814277072,
          0.9908832425892315,
          1.0624803387779795,
          1.0433393829401088,
          0.9686206896551725,
          0.95978221415608,
          0.9421113127646703,
          1.0877132486388386,
          1.079328493647913,
          0.9853962492437992,
          1.0741379310344827,
          1.0276285541439807,
          0.9559709618874773,
          1.0341621294615853,
          0.9932425892317,
          1.0552510586811856,
          0.9971990320629158,
          0.9666787658802178
         ],
         "type": "scatter"
        },
        {
         "line": {
          "color": "red",
          "width": 2
         },
         "mode": "lines",
         "name": "Train returns",
         "x": [
          "1999-10-01",
          "1999-11-01",
          "1999-12-01",
          "2000-01-01",
          "2000-02-01",
          "2000-03-01",
          "2000-04-01",
          "2000-05-01",
          "2000-06-01",
          "2000-07-01",
          "2000-08-01",
          "2000-09-01",
          "2000-10-01",
          "2000-11-01",
          "2000-12-01",
          "2001-01-01",
          "2001-02-01",
          "2001-03-01",
          "2001-04-01",
          "2001-05-01",
          "2001-06-01",
          "2001-07-01",
          "2001-08-01",
          "2001-09-01",
          "2001-10-01",
          "2001-11-01",
          "2001-12-01",
          "2002-01-01",
          "2002-02-01",
          "2002-03-01",
          "2002-04-01",
          "2002-05-01",
          "2002-06-01",
          "2002-07-01",
          "2002-08-01",
          "2002-09-01",
          "2002-10-01",
          "2002-11-01",
          "2002-12-01",
          "2003-01-01",
          "2003-02-01",
          "2003-03-01",
          "2003-04-01",
          "2003-05-01",
          "2003-06-01",
          "2003-07-01",
          "2003-08-01",
          "2003-09-01",
          "2003-10-01",
          "2003-11-01",
          "2003-12-01",
          "2004-01-01",
          "2004-02-01",
          "2004-03-01",
          "2004-04-01",
          "2004-05-01",
          "2004-06-01",
          "2004-07-01",
          "2004-08-01",
          "2004-09-01",
          "2004-10-01",
          "2004-11-01",
          "2004-12-01",
          "2005-01-01",
          "2005-02-01",
          "2005-03-01",
          "2005-04-01",
          "2005-05-01",
          "2005-06-01",
          "2005-07-01",
          "2005-08-01",
          "2005-09-01",
          "2005-10-01",
          "2005-11-01",
          "2005-12-01",
          "2006-01-01",
          "2006-02-01",
          "2006-03-01",
          "2006-04-01",
          "2006-05-01",
          "2006-06-01",
          "2006-07-01",
          "2006-08-01",
          "2006-09-01",
          "2006-10-01",
          "2006-11-01",
          "2006-12-01",
          "2007-01-01",
          "2007-02-01",
          "2007-03-01",
          "2007-04-01",
          "2007-05-01",
          "2007-06-01",
          "2007-07-01",
          "2007-08-01",
          "2007-09-01",
          "2007-10-01",
          "2007-11-01",
          "2007-12-01",
          "2008-01-01",
          "2008-02-01",
          "2008-03-01",
          "2008-04-01",
          "2008-05-01",
          "2008-06-01",
          "2008-07-01",
          "2008-08-01",
          "2008-09-01",
          "2008-10-01",
          "2008-11-01",
          "2008-12-01",
          "2009-01-01",
          "2009-02-01",
          "2009-03-01",
          "2009-04-01",
          "2009-05-01",
          "2009-06-01",
          "2009-07-01",
          "2009-08-01",
          "2009-09-01",
          "2009-10-01",
          "2009-11-01",
          "2009-12-01",
          "2010-01-01",
          "2010-02-01",
          "2010-03-01",
          "2010-04-01",
          "2010-05-01",
          "2010-06-01",
          "2010-07-01",
          "2010-08-01",
          "2010-09-01",
          "2010-10-01",
          "2010-11-01",
          "2010-12-01",
          "2011-01-01",
          "2011-02-01",
          "2011-03-01",
          "2011-04-01",
          "2011-05-01",
          "2011-06-01",
          "2011-07-01",
          "2011-08-01",
          "2011-09-01",
          "2011-10-01",
          "2011-11-01",
          "2011-12-01",
          "2012-01-01",
          "2012-02-01",
          "2012-03-01",
          "2012-04-01",
          "2012-05-01",
          "2012-06-01",
          "2012-07-01",
          "2012-08-01",
          "2012-09-01",
          "2012-10-01",
          "2012-11-01",
          "2012-12-01",
          "2013-01-01",
          "2013-02-01",
          "2013-03-01",
          "2013-04-01",
          "2013-05-01",
          "2013-06-01",
          "2013-07-01",
          "2013-08-01",
          "2013-09-01",
          "2013-10-01",
          "2013-11-01",
          "2013-12-01",
          "2014-01-01",
          "2014-02-01",
          "2014-03-01",
          "2014-04-01",
          "2014-05-01",
          "2014-06-01",
          "2014-07-01",
          "2014-08-01",
          "2014-09-01",
          "2014-10-01",
          "2014-11-01",
          "2014-12-01",
          "2015-01-01",
          "2015-02-01",
          "2015-03-01",
          "2015-04-01",
          "2015-05-01",
          "2015-06-01",
          "2015-07-01",
          "2015-08-01",
          "2015-09-01",
          "2015-10-01",
          "2015-11-01",
          "2015-12-01",
          "2016-01-01",
          "2016-02-01",
          "2016-03-01",
          "2016-04-01",
          "2016-05-01",
          "2016-06-01",
          "2016-07-01",
          "2016-08-01",
          "2016-09-01",
          "2016-10-01",
          "2016-11-01",
          "2016-12-01",
          "2017-01-01",
          "2017-02-01",
          "2017-03-01",
          "2017-04-01",
          "2017-05-01",
          "2017-06-01",
          "2017-07-01",
          "2017-08-01",
          "2017-09-01",
          "2017-10-01",
          "2017-11-01",
          "2017-12-01",
          "2018-01-01",
          "2018-02-01",
          "2018-03-01",
          "2018-04-01",
          "2018-05-01",
          "2018-06-01",
          "2018-07-01",
          "2018-08-01",
          "2018-09-01",
          "2018-10-01",
          "2018-11-01",
          "2018-12-01",
          "2019-01-01",
          "2019-02-01",
          "2019-03-01",
          "2019-04-01",
          "2019-05-01",
          "2019-06-01",
          "2019-07-01",
          "2019-08-01",
          "2019-09-01",
          "2019-10-01",
          "2019-11-01",
          "2019-12-01",
          "2020-01-01",
          "2020-02-01",
          "2020-03-01",
          "2020-04-01",
          "2020-05-01",
          "2020-06-01",
          "2020-07-01",
          "2020-08-01",
          "2020-09-01",
          "2020-10-01",
          "2020-11-01",
          "2020-12-01",
          "2021-01-01",
          "2021-02-01",
          "2021-03-01",
          "2021-04-01",
          "2021-05-01",
          "2021-06-01",
          "2021-07-01",
          "2021-08-01",
          "2021-09-01",
          "2021-10-01",
          "2021-11-01",
          "2021-12-01",
          "2022-01-01",
          "2022-02-01",
          "2022-03-01",
          "2022-04-01",
          "2022-05-01",
          "2022-06-01",
          "2022-07-01",
          "2022-08-01",
          "2022-09-01",
          "2022-10-01",
          "2022-11-01",
          "2022-12-01",
          "2023-01-01",
          "2023-02-01",
          "2023-03-01",
          "2023-04-01",
          "2023-05-01",
          "2023-06-01",
          "2023-07-01"
         ],
         "y": [
          1.0058401823043823,
          1.010583519935608,
          1.0071265697479248,
          1.0055274963378906,
          1.0083537101745605,
          1.009065866470337,
          1.0104591846466064,
          1.0075876712799072,
          1.009149432182312,
          1.0064470767974854,
          1.011484980583191,
          1.0064178705215454,
          1.0078144073486328,
          1.006986379623413,
          1.0075541734695435,
          1.0075442790985107,
          1.0097421407699585,
          1.0105314254760742,
          1.0070840120315552,
          1.0079615116119385,
          1.0055053234100342,
          1.0084956884384155,
          1.010574221611023,
          1.0100256204605103,
          1.0047458410263062,
          1.0152140855789185,
          1.0088764429092407,
          1.0156501531600952,
          1.0115604400634766,
          1.0055031776428223,
          1.0077786445617676,
          1.0096814632415771,
          1.0087299346923828,
          1.0110411643981934,
          1.010292410850525,
          1.0095698833465576,
          1.010542392730713,
          1.0099607706069946,
          1.0126889944076538,
          1.0101646184921265,
          1.0071628093719482,
          1.0102826356887817,
          1.0074636936187744,
          1.0108551979064941,
          1.0162649154663086,
          1.009292483329773,
          1.0084819793701172,
          1.009475827217102,
          1.0062975883483887,
          1.0070995092391968,
          1.0074727535247803,
          1.011228084564209,
          1.0109938383102417,
          1.0055818557739258,
          1.012765645980835,
          1.0090875625610352,
          1.0102304220199585,
          1.0066295862197876,
          1.0063797235488892,
          1.0088012218475342,
          1.0084311962127686,
          1.005789041519165,
          3.6289985179901123,
          1.0088181495666504,
          1.0097273588180542,
          1.0048630237579346,
          1.0070044994354248,
          1.0090349912643433,
          1.0212664604187012,
          1.010906457901001,
          1.007402777671814,
          1.0090371370315552,
          1.0091443061828613,
          1.007773756980896,
          1.0111802816390991,
          1.0072189569473267,
          1.0170683860778809,
          1.0144832134246826,
          1.0083845853805542,
          1.0068095922470093,
          1.0074180364608765,
          1.0091187953948975,
          1.0116437673568726,
          1.007946491241455,
          1.0083121061325073,
          1.0085680484771729,
          1.0087714195251465,
          1.0083668231964111,
          1.007997989654541,
          1.0113613605499268,
          1.0065051317214966,
          1.0071946382522583,
          1.0156536102294922,
          1.0106717348098755,
          1.0053050518035889,
          1.008202314376831,
          1.0078810453414917,
          1.004228949546814,
          1.0060207843780518,
          1.0069695711135864,
          1.0069950819015503,
          1.0073894262313843,
          1.0097925662994385,
          1.0116280317306519,
          1.0081868171691895,
          1.0119798183441162,
          1.006993055343628,
          1.0088708400726318,
          1.0054517984390259,
          1.0053399801254272,
          0.9990869760513306,
          1.0069400072097778,
          1.008129596710205,
          1.0092031955718994,
          1.0078001022338867,
          1.0061206817626953,
          1.0125389099121094,
          1.0075938701629639,
          1.0067259073257446,
          1.006317377090454,
          1.0099050998687744,
          1.011721134185791,
          1.0088698863983154,
          1.0104951858520508,
          1.012269377708435,
          1.010245442390442,
          1.0100983381271362,
          1.009351372718811,
          1.0110148191452026,
          1.0065670013427734,
          1.0072979927062988,
          1.0076402425765991,
          1.0063353776931763,
          1.0098545551300049,
          1.0085443258285522,
          1.0079748630523682,
          1.0070561170578003,
          1.0116585493087769,
          1.006226658821106,
          1.0091819763183594,
          1.0132808685302734,
          1.0151989459991455,
          1.0058292150497437,
          1.0070282220840454,
          1.0090492963790894,
          1.008192777633667,
          1.1016708612442017,
          1.0099384784698486,
          1.0113145112991333,
          1.0076645612716675,
          1.0098967552185059,
          1.0087261199951172,
          1.0066394805908203,
          1.007521629333496,
          1.0096721649169922,
          1.0188205242156982,
          1.034024953842163,
          1.0058425664901733,
          1.005218505859375,
          1.007240891456604,
          0.9506968259811401,
          1.0066453218460083,
          1.0123867988586426,
          1.0096763372421265,
          1.0061204433441162,
          1.0102591514587402,
          1.0086243152618408,
          1.0076014995574951,
          1.0104572772979736,
          1.0069372653961182,
          1.0069273710250854,
          1.0102559328079224,
          1.0124859809875488,
          1.0060070753097534,
          1.0097160339355469,
          1.0134001970291138,
          1.0079952478408813,
          1.004489779472351,
          1.0066757202148438,
          1.0100651979446411,
          1.0096385478973389,
          1.0124285221099854,
          1.0136933326721191,
          1.009508490562439,
          1.0092920064926147,
          1.0098289251327515,
          1.0130407810211182,
          1.0061707496643066,
          1.009628415107727,
          1.0059223175048828,
          1.0101454257965088,
          1.0070021152496338,
          1.0076000690460205,
          1.0068166255950928,
          1.0034656524658203,
          1.0130196809768677,
          1.0095772743225098,
          1.0081136226654053,
          1.0038293600082397,
          1.0124491453170776,
          1.0074721574783325,
          1.0061523914337158,
          1.1129180192947388,
          1.0100114345550537,
          1.007678747177124,
          1.0124602317810059,
          3.098879814147949,
          1.0166352987289429,
          1.0080291032791138,
          1.0081685781478882,
          1.0068392753601074,
          1.0116559267044067,
          1.0112024545669556,
          1.0071940422058105,
          1.0087437629699707,
          1.0103107690811157,
          1.0119314193725586,
          1.0067301988601685,
          1.0099260807037354,
          1.0181796550750732,
          1.0132675170898438,
          1.0129756927490234,
          1.0113664865493774,
          1.0127294063568115,
          1.0121593475341797,
          1.00761079788208,
          1.0027302503585815,
          1.0169641971588135,
          1.0086370706558228,
          1.0130257606506348,
          1.0069960355758667,
          1.0034360885620117,
          0.9995626211166382,
          1.0100022554397583,
          1.0083129405975342,
          1.0050841569900513,
          1.0110315084457397,
          1.0077319145202637,
          1.0080677270889282,
          1.003768801689148,
          1.0159481763839722,
          1.0066473484039307,
          1.0050157308578491,
          1.0065360069274902,
          1.0080057382583618,
          1.0084906816482544,
          1.0063505172729492,
          1.0087523460388184,
          1.0073528289794922,
          1.0066683292388916,
          1.0181264877319336,
          1.008301854133606,
          1.01167631149292,
          1.0131429433822632,
          1.0085166692733765,
          1.0051605701446533,
          1.0130630731582642,
          1.0086168050765991,
          1.0094248056411743,
          1.0132482051849365,
          1.008353352546692,
          1.005511999130249,
          1.0082298517227173,
          1.0147628784179688,
          1.0040515661239624,
          1.0172661542892456,
          1.0097100734710693,
          1.0084805488586426,
          1.0062639713287354,
          1.0089939832687378,
          1.006792426109314,
          1.0056875944137573,
          1.0065056085586548,
          1.0116735696792603,
          1.006757378578186,
          1.0077873468399048,
          1.0179890394210815,
          1.0087380409240723,
          1.0132458209991455,
          1.009829044342041,
          1.0092389583587646,
          1.0143299102783203,
          1.0203574895858765,
          1.0103150606155396,
          1.0069587230682373,
          1.0105040073394775
         ],
         "type": "scatter"
        },
        {
         "line": {
          "color": "green",
          "width": 2
         },
         "mode": "lines",
         "name": "Test returns",
         "x": [
          "2023-07-01",
          "2023-08-01",
          "2023-09-01",
          "2023-10-01",
          "2023-11-01",
          "2023-12-01",
          "2024-01-01",
          "2024-02-01",
          "2024-03-01",
          "2024-04-01",
          "2024-05-01",
          "2024-06-01",
          "2024-07-01",
          "2024-08-01",
          "2024-09-01"
         ],
         "y": [
          1.0105040073394775,
          1.0258145332336426
         ],
         "type": "scatter"
        }
       ],
       "layout": {
        "template": {
         "data": {
          "barpolar": [
           {
            "marker": {
             "line": {
              "color": "white",
              "width": 0.5
             },
             "pattern": {
              "fillmode": "overlay",
              "size": 10,
              "solidity": 0.2
             }
            },
            "type": "barpolar"
           }
          ],
          "bar": [
           {
            "error_x": {
             "color": "#2a3f5f"
            },
            "error_y": {
             "color": "#2a3f5f"
            },
            "marker": {
             "line": {
              "color": "white",
              "width": 0.5
             },
             "pattern": {
              "fillmode": "overlay",
              "size": 10,
              "solidity": 0.2
             }
            },
            "type": "bar"
           }
          ],
          "carpet": [
           {
            "aaxis": {
             "endlinecolor": "#2a3f5f",
             "gridcolor": "#C8D4E3",
             "linecolor": "#C8D4E3",
             "minorgridcolor": "#C8D4E3",
             "startlinecolor": "#2a3f5f"
            },
            "baxis": {
             "endlinecolor": "#2a3f5f",
             "gridcolor": "#C8D4E3",
             "linecolor": "#C8D4E3",
             "minorgridcolor": "#C8D4E3",
             "startlinecolor": "#2a3f5f"
            },
            "type": "carpet"
           }
          ],
          "choropleth": [
           {
            "colorbar": {
             "outlinewidth": 0,
             "ticks": ""
            },
            "type": "choropleth"
           }
          ],
          "contourcarpet": [
           {
            "colorbar": {
             "outlinewidth": 0,
             "ticks": ""
            },
            "type": "contourcarpet"
           }
          ],
          "contour": [
           {
            "colorbar": {
             "outlinewidth": 0,
             "ticks": ""
            },
            "colorscale": [
             [
              0.0,
              "#0d0887"
             ],
             [
              0.1111111111111111,
              "#46039f"
             ],
             [
              0.2222222222222222,
              "#7201a8"
             ],
             [
              0.3333333333333333,
              "#9c179e"
             ],
             [
              0.4444444444444444,
              "#bd3786"
             ],
             [
              0.5555555555555556,
              "#d8576b"
             ],
             [
              0.6666666666666666,
              "#ed7953"
             ],
             [
              0.7777777777777778,
              "#fb9f3a"
             ],
             [
              0.8888888888888888,
              "#fdca26"
             ],
             [
              1.0,
              "#f0f921"
             ]
            ],
            "type": "contour"
           }
          ],
          "heatmapgl": [
           {
            "colorbar": {
             "outlinewidth": 0,
             "ticks": ""
            },
            "colorscale": [
             [
              0.0,
              "#0d0887"
             ],
             [
              0.1111111111111111,
              "#46039f"
             ],
             [
              0.2222222222222222,
              "#7201a8"
             ],
             [
              0.3333333333333333,
              "#9c179e"
             ],
             [
              0.4444444444444444,
              "#bd3786"
             ],
             [
              0.5555555555555556,
              "#d8576b"
             ],
             [
              0.6666666666666666,
              "#ed7953"
             ],
             [
              0.7777777777777778,
              "#fb9f3a"
             ],
             [
              0.8888888888888888,
              "#fdca26"
             ],
             [
              1.0,
              "#f0f921"
             ]
            ],
            "type": "heatmapgl"
           }
          ],
          "heatmap": [
           {
            "colorbar": {
             "outlinewidth": 0,
             "ticks": ""
            },
            "colorscale": [
             [
              0.0,
              "#0d0887"
             ],
             [
              0.1111111111111111,
              "#46039f"
             ],
             [
              0.2222222222222222,
              "#7201a8"
             ],
             [
              0.3333333333333333,
              "#9c179e"
             ],
             [
              0.4444444444444444,
              "#bd3786"
             ],
             [
              0.5555555555555556,
              "#d8576b"
             ],
             [
              0.6666666666666666,
              "#ed7953"
             ],
             [
              0.7777777777777778,
              "#fb9f3a"
             ],
             [
              0.8888888888888888,
              "#fdca26"
             ],
             [
              1.0,
              "#f0f921"
             ]
            ],
            "type": "heatmap"
           }
          ],
          "histogram2dcontour": [
           {
            "colorbar": {
             "outlinewidth": 0,
             "ticks": ""
            },
            "colorscale": [
             [
              0.0,
              "#0d0887"
             ],
             [
              0.1111111111111111,
              "#46039f"
             ],
             [
              0.2222222222222222,
              "#7201a8"
             ],
             [
              0.3333333333333333,
              "#9c179e"
             ],
             [
              0.4444444444444444,
              "#bd3786"
             ],
             [
              0.5555555555555556,
              "#d8576b"
             ],
             [
              0.6666666666666666,
              "#ed7953"
             ],
             [
              0.7777777777777778,
              "#fb9f3a"
             ],
             [
              0.8888888888888888,
              "#fdca26"
             ],
             [
              1.0,
              "#f0f921"
             ]
            ],
            "type": "histogram2dcontour"
           }
          ],
          "histogram2d": [
           {
            "colorbar": {
             "outlinewidth": 0,
             "ticks": ""
            },
            "colorscale": [
             [
              0.0,
              "#0d0887"
             ],
             [
              0.1111111111111111,
              "#46039f"
             ],
             [
              0.2222222222222222,
              "#7201a8"
             ],
             [
              0.3333333333333333,
              "#9c179e"
             ],
             [
              0.4444444444444444,
              "#bd3786"
             ],
             [
              0.5555555555555556,
              "#d8576b"
             ],
             [
              0.6666666666666666,
              "#ed7953"
             ],
             [
              0.7777777777777778,
              "#fb9f3a"
             ],
             [
              0.8888888888888888,
              "#fdca26"
             ],
             [
              1.0,
              "#f0f921"
             ]
            ],
            "type": "histogram2d"
           }
          ],
          "histogram": [
           {
            "marker": {
             "pattern": {
              "fillmode": "overlay",
              "size": 10,
              "solidity": 0.2
             }
            },
            "type": "histogram"
           }
          ],
          "mesh3d": [
           {
            "colorbar": {
             "outlinewidth": 0,
             "ticks": ""
            },
            "type": "mesh3d"
           }
          ],
          "parcoords": [
           {
            "line": {
             "colorbar": {
              "outlinewidth": 0,
              "ticks": ""
             }
            },
            "type": "parcoords"
           }
          ],
          "pie": [
           {
            "automargin": true,
            "type": "pie"
           }
          ],
          "scatter3d": [
           {
            "line": {
             "colorbar": {
              "outlinewidth": 0,
              "ticks": ""
             }
            },
            "marker": {
             "colorbar": {
              "outlinewidth": 0,
              "ticks": ""
             }
            },
            "type": "scatter3d"
           }
          ],
          "scattercarpet": [
           {
            "marker": {
             "colorbar": {
              "outlinewidth": 0,
              "ticks": ""
             }
            },
            "type": "scattercarpet"
           }
          ],
          "scattergeo": [
           {
            "marker": {
             "colorbar": {
              "outlinewidth": 0,
              "ticks": ""
             }
            },
            "type": "scattergeo"
           }
          ],
          "scattergl": [
           {
            "marker": {
             "colorbar": {
              "outlinewidth": 0,
              "ticks": ""
             }
            },
            "type": "scattergl"
           }
          ],
          "scattermapbox": [
           {
            "marker": {
             "colorbar": {
              "outlinewidth": 0,
              "ticks": ""
             }
            },
            "type": "scattermapbox"
           }
          ],
          "scatterpolargl": [
           {
            "marker": {
             "colorbar": {
              "outlinewidth": 0,
              "ticks": ""
             }
            },
            "type": "scatterpolargl"
           }
          ],
          "scatterpolar": [
           {
            "marker": {
             "colorbar": {
              "outlinewidth": 0,
              "ticks": ""
             }
            },
            "type": "scatterpolar"
           }
          ],
          "scatter": [
           {
            "fillpattern": {
             "fillmode": "overlay",
             "size": 10,
             "solidity": 0.2
            },
            "type": "scatter"
           }
          ],
          "scatterternary": [
           {
            "marker": {
             "colorbar": {
              "outlinewidth": 0,
              "ticks": ""
             }
            },
            "type": "scatterternary"
           }
          ],
          "surface": [
           {
            "colorbar": {
             "outlinewidth": 0,
             "ticks": ""
            },
            "colorscale": [
             [
              0.0,
              "#0d0887"
             ],
             [
              0.1111111111111111,
              "#46039f"
             ],
             [
              0.2222222222222222,
              "#7201a8"
             ],
             [
              0.3333333333333333,
              "#9c179e"
             ],
             [
              0.4444444444444444,
              "#bd3786"
             ],
             [
              0.5555555555555556,
              "#d8576b"
             ],
             [
              0.6666666666666666,
              "#ed7953"
             ],
             [
              0.7777777777777778,
              "#fb9f3a"
             ],
             [
              0.8888888888888888,
              "#fdca26"
             ],
             [
              1.0,
              "#f0f921"
             ]
            ],
            "type": "surface"
           }
          ],
          "table": [
           {
            "cells": {
             "fill": {
              "color": "#EBF0F8"
             },
             "line": {
              "color": "white"
             }
            },
            "header": {
             "fill": {
              "color": "#C8D4E3"
             },
             "line": {
              "color": "white"
             }
            },
            "type": "table"
           }
          ]
         },
         "layout": {
          "annotationdefaults": {
           "arrowcolor": "#2a3f5f",
           "arrowhead": 0,
           "arrowwidth": 1
          },
          "autotypenumbers": "strict",
          "coloraxis": {
           "colorbar": {
            "outlinewidth": 0,
            "ticks": ""
           }
          },
          "colorscale": {
           "diverging": [
            [
             0,
             "#8e0152"
            ],
            [
             0.1,
             "#c51b7d"
            ],
            [
             0.2,
             "#de77ae"
            ],
            [
             0.3,
             "#f1b6da"
            ],
            [
             0.4,
             "#fde0ef"
            ],
            [
             0.5,
             "#f7f7f7"
            ],
            [
             0.6,
             "#e6f5d0"
            ],
            [
             0.7,
             "#b8e186"
            ],
            [
             0.8,
             "#7fbc41"
            ],
            [
             0.9,
             "#4d9221"
            ],
            [
             1,
             "#276419"
            ]
           ],
           "sequential": [
            [
             0.0,
             "#0d0887"
            ],
            [
             0.1111111111111111,
             "#46039f"
            ],
            [
             0.2222222222222222,
             "#7201a8"
            ],
            [
             0.3333333333333333,
             "#9c179e"
            ],
            [
             0.4444444444444444,
             "#bd3786"
            ],
            [
             0.5555555555555556,
             "#d8576b"
            ],
            [
             0.6666666666666666,
             "#ed7953"
            ],
            [
             0.7777777777777778,
             "#fb9f3a"
            ],
            [
             0.8888888888888888,
             "#fdca26"
            ],
            [
             1.0,
             "#f0f921"
            ]
           ],
           "sequentialminus": [
            [
             0.0,
             "#0d0887"
            ],
            [
             0.1111111111111111,
             "#46039f"
            ],
            [
             0.2222222222222222,
             "#7201a8"
            ],
            [
             0.3333333333333333,
             "#9c179e"
            ],
            [
             0.4444444444444444,
             "#bd3786"
            ],
            [
             0.5555555555555556,
             "#d8576b"
            ],
            [
             0.6666666666666666,
             "#ed7953"
            ],
            [
             0.7777777777777778,
             "#fb9f3a"
            ],
            [
             0.8888888888888888,
             "#fdca26"
            ],
            [
             1.0,
             "#f0f921"
            ]
           ]
          },
          "colorway": [
           "#636efa",
           "#EF553B",
           "#00cc96",
           "#ab63fa",
           "#FFA15A",
           "#19d3f3",
           "#FF6692",
           "#B6E880",
           "#FF97FF",
           "#FECB52"
          ],
          "font": {
           "color": "#2a3f5f"
          },
          "geo": {
           "bgcolor": "white",
           "lakecolor": "white",
           "landcolor": "white",
           "showlakes": true,
           "showland": true,
           "subunitcolor": "#C8D4E3"
          },
          "hoverlabel": {
           "align": "left"
          },
          "hovermode": "closest",
          "mapbox": {
           "style": "light"
          },
          "paper_bgcolor": "white",
          "plot_bgcolor": "white",
          "polar": {
           "angularaxis": {
            "gridcolor": "#EBF0F8",
            "linecolor": "#EBF0F8",
            "ticks": ""
           },
           "bgcolor": "white",
           "radialaxis": {
            "gridcolor": "#EBF0F8",
            "linecolor": "#EBF0F8",
            "ticks": ""
           }
          },
          "scene": {
           "xaxis": {
            "backgroundcolor": "white",
            "gridcolor": "#DFE8F3",
            "gridwidth": 2,
            "linecolor": "#EBF0F8",
            "showbackground": true,
            "ticks": "",
            "zerolinecolor": "#EBF0F8"
           },
           "yaxis": {
            "backgroundcolor": "white",
            "gridcolor": "#DFE8F3",
            "gridwidth": 2,
            "linecolor": "#EBF0F8",
            "showbackground": true,
            "ticks": "",
            "zerolinecolor": "#EBF0F8"
           },
           "zaxis": {
            "backgroundcolor": "white",
            "gridcolor": "#DFE8F3",
            "gridwidth": 2,
            "linecolor": "#EBF0F8",
            "showbackground": true,
            "ticks": "",
            "zerolinecolor": "#EBF0F8"
           }
          },
          "shapedefaults": {
           "line": {
            "color": "#2a3f5f"
           }
          },
          "ternary": {
           "aaxis": {
            "gridcolor": "#DFE8F3",
            "linecolor": "#A2B1C6",
            "ticks": ""
           },
           "baxis": {
            "gridcolor": "#DFE8F3",
            "linecolor": "#A2B1C6",
            "ticks": ""
           },
           "bgcolor": "white",
           "caxis": {
            "gridcolor": "#DFE8F3",
            "linecolor": "#A2B1C6",
            "ticks": ""
           }
          },
          "title": {
           "x": 0.05
          },
          "xaxis": {
           "automargin": true,
           "gridcolor": "#EBF0F8",
           "linecolor": "#EBF0F8",
           "ticks": "",
           "title": {
            "standoff": 15
           },
           "zerolinecolor": "#EBF0F8",
           "zerolinewidth": 2
          },
          "yaxis": {
           "automargin": true,
           "gridcolor": "#EBF0F8",
           "linecolor": "#EBF0F8",
           "ticks": "",
           "title": {
            "standoff": 15
           },
           "zerolinecolor": "#EBF0F8",
           "zerolinewidth": 2
          }
         }
        },
        "shapes": [
         {
          "line": {
           "color": "red",
           "dash": "dash",
           "width": 1
          },
          "type": "line",
          "x0": "2024-07-01",
          "x1": "2024-07-01",
          "xref": "x",
          "y0": 0,
          "y1": 1,
          "yref": "y domain"
         }
        ],
        "yaxis": {
         "title": {
          "text": "Day closing return (%)"
         },
         "tickformat": ".0%",
         "range": [
          0.75,
          1.6
         ]
        },
        "title": {
         "text": "1 Month Prediction vs Actual Plot"
        },
        "xaxis": {
         "title": {
          "text": "Date"
         }
        },
        "legend": {
         "title": {
          "text": "Legend"
         }
        }
       },
       "config": {
        "plotlyServerURL": "https://plot.ly"
       }
      },
      "text/html": [
       "<div>                            <div id=\"47a7512b-1afa-4dc2-ac07-f9042ece23d6\" class=\"plotly-graph-div\" style=\"height:525px; width:100%;\"></div>            <script type=\"text/javascript\">                require([\"plotly\"], function(Plotly) {                    window.PLOTLYENV=window.PLOTLYENV || {};                                    if (document.getElementById(\"47a7512b-1afa-4dc2-ac07-f9042ece23d6\")) {                    Plotly.newPlot(                        \"47a7512b-1afa-4dc2-ac07-f9042ece23d6\",                        [{\"line\":{\"color\":\"#5c839f\",\"width\":2},\"mode\":\"lines\",\"name\":\"Actual returns\",\"x\":[\"1999-10-01\",\"1999-11-01\",\"1999-12-01\",\"2000-01-01\",\"2000-02-01\",\"2000-03-01\",\"2000-04-01\",\"2000-05-01\",\"2000-06-01\",\"2000-07-01\",\"2000-08-01\",\"2000-09-01\",\"2000-10-01\",\"2000-11-01\",\"2000-12-01\",\"2001-01-01\",\"2001-02-01\",\"2001-03-01\",\"2001-04-01\",\"2001-05-01\",\"2001-06-01\",\"2001-07-01\",\"2001-08-01\",\"2001-09-01\",\"2001-10-01\",\"2001-11-01\",\"2001-12-01\",\"2002-01-01\",\"2002-02-01\",\"2002-03-01\",\"2002-04-01\",\"2002-05-01\",\"2002-06-01\",\"2002-07-01\",\"2002-08-01\",\"2002-09-01\",\"2002-10-01\",\"2002-11-01\",\"2002-12-01\",\"2003-01-01\",\"2003-02-01\",\"2003-03-01\",\"2003-04-01\",\"2003-05-01\",\"2003-06-01\",\"2003-07-01\",\"2003-08-01\",\"2003-09-01\",\"2003-10-01\",\"2003-11-01\",\"2003-12-01\",\"2004-01-01\",\"2004-02-01\",\"2004-03-01\",\"2004-04-01\",\"2004-05-01\",\"2004-06-01\",\"2004-07-01\",\"2004-08-01\",\"2004-09-01\",\"2004-10-01\",\"2004-11-01\",\"2004-12-01\",\"2005-01-01\",\"2005-02-01\",\"2005-03-01\",\"2005-04-01\",\"2005-05-01\",\"2005-06-01\",\"2005-07-01\",\"2005-08-01\",\"2005-09-01\",\"2005-10-01\",\"2005-11-01\",\"2005-12-01\",\"2006-01-01\",\"2006-02-01\",\"2006-03-01\",\"2006-04-01\",\"2006-05-01\",\"2006-06-01\",\"2006-07-01\",\"2006-08-01\",\"2006-09-01\",\"2006-10-01\",\"2006-11-01\",\"2006-12-01\",\"2007-01-01\",\"2007-02-01\",\"2007-03-01\",\"2007-04-01\",\"2007-05-01\",\"2007-06-01\",\"2007-07-01\",\"2007-08-01\",\"2007-09-01\",\"2007-10-01\",\"2007-11-01\",\"2007-12-01\",\"2008-01-01\",\"2008-02-01\",\"2008-03-01\",\"2008-04-01\",\"2008-05-01\",\"2008-06-01\",\"2008-07-01\",\"2008-08-01\",\"2008-09-01\",\"2008-10-01\",\"2008-11-01\",\"2008-12-01\",\"2009-01-01\",\"2009-02-01\",\"2009-03-01\",\"2009-04-01\",\"2009-05-01\",\"2009-06-01\",\"2009-07-01\",\"2009-08-01\",\"2009-09-01\",\"2009-10-01\",\"2009-11-01\",\"2009-12-01\",\"2010-01-01\",\"2010-02-01\",\"2010-03-01\",\"2010-04-01\",\"2010-05-01\",\"2010-06-01\",\"2010-07-01\",\"2010-08-01\",\"2010-09-01\",\"2010-10-01\",\"2010-11-01\",\"2010-12-01\",\"2011-01-01\",\"2011-02-01\",\"2011-03-01\",\"2011-04-01\",\"2011-05-01\",\"2011-06-01\",\"2011-07-01\",\"2011-08-01\",\"2011-09-01\",\"2011-10-01\",\"2011-11-01\",\"2011-12-01\",\"2012-01-01\",\"2012-02-01\",\"2012-03-01\",\"2012-04-01\",\"2012-05-01\",\"2012-06-01\",\"2012-07-01\",\"2012-08-01\",\"2012-09-01\",\"2012-10-01\",\"2012-11-01\",\"2012-12-01\",\"2013-01-01\",\"2013-02-01\",\"2013-03-01\",\"2013-04-01\",\"2013-05-01\",\"2013-06-01\",\"2013-07-01\",\"2013-08-01\",\"2013-09-01\",\"2013-10-01\",\"2013-11-01\",\"2013-12-01\",\"2014-01-01\",\"2014-02-01\",\"2014-03-01\",\"2014-04-01\",\"2014-05-01\",\"2014-06-01\",\"2014-07-01\",\"2014-08-01\",\"2014-09-01\",\"2014-10-01\",\"2014-11-01\",\"2014-12-01\",\"2015-01-01\",\"2015-02-01\",\"2015-03-01\",\"2015-04-01\",\"2015-05-01\",\"2015-06-01\",\"2015-07-01\",\"2015-08-01\",\"2015-09-01\",\"2015-10-01\",\"2015-11-01\",\"2015-12-01\",\"2016-01-01\",\"2016-02-01\",\"2016-03-01\",\"2016-04-01\",\"2016-05-01\",\"2016-06-01\",\"2016-07-01\",\"2016-08-01\",\"2016-09-01\",\"2016-10-01\",\"2016-11-01\",\"2016-12-01\",\"2017-01-01\",\"2017-02-01\",\"2017-03-01\",\"2017-04-01\",\"2017-05-01\",\"2017-06-01\",\"2017-07-01\",\"2017-08-01\",\"2017-09-01\",\"2017-10-01\",\"2017-11-01\",\"2017-12-01\",\"2018-01-01\",\"2018-02-01\",\"2018-03-01\",\"2018-04-01\",\"2018-05-01\",\"2018-06-01\",\"2018-07-01\",\"2018-08-01\",\"2018-09-01\",\"2018-10-01\",\"2018-11-01\",\"2018-12-01\",\"2019-01-01\",\"2019-02-01\",\"2019-03-01\",\"2019-04-01\",\"2019-05-01\",\"2019-06-01\",\"2019-07-01\",\"2019-08-01\",\"2019-09-01\",\"2019-10-01\",\"2019-11-01\",\"2019-12-01\",\"2020-01-01\",\"2020-02-01\",\"2020-03-01\",\"2020-04-01\",\"2020-05-01\",\"2020-06-01\",\"2020-07-01\",\"2020-08-01\",\"2020-09-01\",\"2020-10-01\",\"2020-11-01\",\"2020-12-01\",\"2021-01-01\",\"2021-02-01\",\"2021-03-01\",\"2021-04-01\",\"2021-05-01\",\"2021-06-01\",\"2021-07-01\",\"2021-08-01\",\"2021-09-01\",\"2021-10-01\",\"2021-11-01\",\"2021-12-01\",\"2022-01-01\",\"2022-02-01\",\"2022-03-01\",\"2022-04-01\",\"2022-05-01\",\"2022-06-01\",\"2022-07-01\",\"2022-08-01\",\"2022-09-01\",\"2022-10-01\",\"2022-11-01\",\"2022-12-01\",\"2023-01-01\",\"2023-02-01\",\"2023-03-01\",\"2023-04-01\",\"2023-05-01\",\"2023-06-01\",\"2023-07-01\",\"2023-08-01\",\"2023-09-01\",\"2023-10-01\",\"2023-11-01\",\"2023-12-01\",\"2024-01-01\",\"2024-02-01\",\"2024-03-01\",\"2024-04-01\",\"2024-05-01\",\"2024-06-01\",\"2024-07-01\",\"2024-08-01\",\"2024-09-01\"],\"y\":[null,1.0255474894131882,1.0338354506957046,0.9928735632183908,5.930568663036903,1.02524500907441,0.9939624924379915,0.9817483363581366,1.0329461584996975,0.9952389594676346,1.027350272232305,0.9906291591046583,0.9893103448275862,0.9717422867513611,1.0094071385359953,1.0391651542649727,0.9689776164549303,0.9847489413188143,1.0655414398064127,1.0118451300665456,0.9984392014519057,0.9735087719298245,0.9690865093768906,0.9132849364791288,1.0499274047186933,1.050798548094374,1.0158620689655173,0.9939322444041138,1.0093103448275862,1.050725952813067,1.007102238354507,1.0027646702964308,0.9519721718088325,0.9418874773139746,0.9874833635813671,0.9568905021173624,1.0078644888082275,1.0582516636418633,0.9664125831820932,0.9890199637023595,1.0055716878402905,0.9959830611010285,1.0599516031457954,1.0670054446460981,1.034162129461585,1.508451300665457,1.0614277071990321,1.0038233514821537,1.0498003629764066,1.0042286751361162,1.015849969751966,1.0305263157894737,1.0141560798548095,1.0468421052631578,1.0040834845735027,0.992474289171204,1.0346218995765275,0.9633877797943133,0.9934119782214157,1.0055535390199637,1.0005565638233516,1.0293163944343617,1.053762855414398,1.00643073200242,1.0203811252268602,0.9955595886267392,0.9733030852994556,1.033145795523291,1.0216817906836055,1.0358136721113127,0.9993042952208105,1.1286509376890503,1.0726013309134907,3.2130248033877797,1.0215607985480943,1.0408166969147006,1.0128917120387175,1.027501512401694,1.0092075015124016,0.9686267392619479,0.9991833030852995,0.9856866303690262,1.0248820326678767,1.0297519661222019,1.0213853599516032,1.0188808227465216,1.027979431336963,1.0368723532970356,1.0044404113732608,1.0015849969751967,1.0188082274652148,1.0226194797338173,0.9885843920145191,0.9759286146400484,0.9907501512401694,1.002474289171204,1.0255172413793103,0.9479370840895343,0.9907743496672716,0.9420447670901392,0.9907199032062917,0.9868784029038112,1.0311494252873565,1.02318814277072,0.9375620084694495,0.9950090744101633,1.0215789473684211,0.9273018753781004,0.8458197217180883,0.9447489413188144,1.0413006654567454,0.9497701149425287,0.9416515426497277,1.0697580157289777,1.1476164549304295,1.0432909860859043,1.0350211736237145,1.0623895946763462,1.0552026618269812,1.0322746521476103,0.9779915305505141,1.0015910465819722,1.0513793103448277,0.9896067755595885,1.0185541439806414,1.0590381125226862,1.0449969751966124,0.9456261343012704,0.9619419237749547,1.0388626739261946,0.9645856019358742,1.0696067755595886,1.0163883847549908,1.0275862068965518,1.0584029038112523,1.0119782214156081,1.0324803387779795,1.0016031457955235,1.0198850574712643,0.9949969751966122,0.9972353297035693,0.9830429522081064,0.9474712643678161,0.9529824561403508,1.0689231699939505,0.9843375680580763,1.0002540834845735,1.0593768905021175,1.0995402298850574,1.026303690260133,0.9927465214761042,0.9427586206896552,1.0300241984271024,0.9957652752571083,1.0196672716273443,1.0171506352087114,1.0012038717483362,1.0166848154869934,1.0311736237144584,1.0607924984875983,1.0218390804597701,1.0406836055656383,1.0333696309739866,1.01821536600121,0.990508166969147,1.0369933454325468,0.98346037507562,1.0512159709618873,1.0213430127041743,1.0239806412583181,1.022280701754386,0.9877434966727164,1.0288626739261948,1.0008287961282516,0.9851845130066547,1.0161161524500906,1.0306473079249847,0.9871445856019359,1.026745311554749,0.989491833030853,1.0253115547489413,1.04167574107683,1.0141681790683605,1.0019419237749547,1.0444585601935874,1.0097459165154263,1.000411373260738,1.0252087114337567,0.9903266787658802,1.012788868723533,0.9586448880822745,0.9679854809437386,1.0623411978221418,1.0190018148820326,0.9822928009679371,0.9491107078039926,0.9993587416817907,1.0566122202056867,1.0004355716878404,1.0214095583787053,0.9709074410163339,1.0535813672111312,1.0110102843315183,1.0043375680580762,0.9848154869933453,1.0514337568058076,1.0315486993345433,1.0146581972171809,1.0218451300665456,1.009751966122202,1.0155958862673926,1.0126678765880217,1.0131215970961889,1.0135692679975803,1.0033877797943134,1.0308892921960073,1.0195220810647307,1.0232244404113733,1.0114458560193589,1.023817301875378,0.974422262552934,0.996636418632789,1.0194797338173018,1.0263641863278887,1.0086327888687234,1.0175922565033273,1.0217725347852389,0.9907501512401694,0.9365880217785845,1.0115124016938897,0.9133272837265578,1.0914398064125832,1.0367513611615244,1.004137931034483,1.043049001814882,0.940822746521476,1.0453539019963702,1.0221234119782214,0.9704476709013913,1.0369449485783424,1.0294797338173018,1.0347307924984874,1.0268058076225044,0.9897519661222022,0.9099153055051422,0.8183847549909256,1.1260314579552329,1.072552934059286,1.0304174228675136,1.0225710828796128,1.0605565638233514,0.9945130066545675,0.9923290986085905,1.1583847549909256,1.0579612825166365,1.0404839685420448,1.053793103448276,1.0589292196007258,1.037652752571083,1.0213430127041743,1.0207562008469449,1.0036418632788868,1.025287356321839,0.9864851784633998,1.0300241984271024,0.969933454325469,1.0402117362371448,0.9256805807622505,0.9876830006049606,1.003230490018149,0.9446763460375075,1.0007199032062917,0.9249425287356322,1.0904295220810647,0.9692982456140351,0.901373260738052,1.0810284331518452,1.0552994555353903,0.9577374470659408,1.0973321234119784,0.9889957652752571,0.979933454325469,1.001318814277072,0.9908832425892315,1.0624803387779795,1.0433393829401088,0.9686206896551725,0.95978221415608,0.9421113127646703,1.0877132486388386,1.079328493647913,0.9853962492437992,1.0741379310344827,1.0276285541439807,0.9559709618874773,1.0341621294615853,0.9932425892317,1.0552510586811856,0.9971990320629158,0.9666787658802178],\"type\":\"scatter\"},{\"line\":{\"color\":\"red\",\"width\":2},\"mode\":\"lines\",\"name\":\"Train returns\",\"x\":[\"1999-10-01\",\"1999-11-01\",\"1999-12-01\",\"2000-01-01\",\"2000-02-01\",\"2000-03-01\",\"2000-04-01\",\"2000-05-01\",\"2000-06-01\",\"2000-07-01\",\"2000-08-01\",\"2000-09-01\",\"2000-10-01\",\"2000-11-01\",\"2000-12-01\",\"2001-01-01\",\"2001-02-01\",\"2001-03-01\",\"2001-04-01\",\"2001-05-01\",\"2001-06-01\",\"2001-07-01\",\"2001-08-01\",\"2001-09-01\",\"2001-10-01\",\"2001-11-01\",\"2001-12-01\",\"2002-01-01\",\"2002-02-01\",\"2002-03-01\",\"2002-04-01\",\"2002-05-01\",\"2002-06-01\",\"2002-07-01\",\"2002-08-01\",\"2002-09-01\",\"2002-10-01\",\"2002-11-01\",\"2002-12-01\",\"2003-01-01\",\"2003-02-01\",\"2003-03-01\",\"2003-04-01\",\"2003-05-01\",\"2003-06-01\",\"2003-07-01\",\"2003-08-01\",\"2003-09-01\",\"2003-10-01\",\"2003-11-01\",\"2003-12-01\",\"2004-01-01\",\"2004-02-01\",\"2004-03-01\",\"2004-04-01\",\"2004-05-01\",\"2004-06-01\",\"2004-07-01\",\"2004-08-01\",\"2004-09-01\",\"2004-10-01\",\"2004-11-01\",\"2004-12-01\",\"2005-01-01\",\"2005-02-01\",\"2005-03-01\",\"2005-04-01\",\"2005-05-01\",\"2005-06-01\",\"2005-07-01\",\"2005-08-01\",\"2005-09-01\",\"2005-10-01\",\"2005-11-01\",\"2005-12-01\",\"2006-01-01\",\"2006-02-01\",\"2006-03-01\",\"2006-04-01\",\"2006-05-01\",\"2006-06-01\",\"2006-07-01\",\"2006-08-01\",\"2006-09-01\",\"2006-10-01\",\"2006-11-01\",\"2006-12-01\",\"2007-01-01\",\"2007-02-01\",\"2007-03-01\",\"2007-04-01\",\"2007-05-01\",\"2007-06-01\",\"2007-07-01\",\"2007-08-01\",\"2007-09-01\",\"2007-10-01\",\"2007-11-01\",\"2007-12-01\",\"2008-01-01\",\"2008-02-01\",\"2008-03-01\",\"2008-04-01\",\"2008-05-01\",\"2008-06-01\",\"2008-07-01\",\"2008-08-01\",\"2008-09-01\",\"2008-10-01\",\"2008-11-01\",\"2008-12-01\",\"2009-01-01\",\"2009-02-01\",\"2009-03-01\",\"2009-04-01\",\"2009-05-01\",\"2009-06-01\",\"2009-07-01\",\"2009-08-01\",\"2009-09-01\",\"2009-10-01\",\"2009-11-01\",\"2009-12-01\",\"2010-01-01\",\"2010-02-01\",\"2010-03-01\",\"2010-04-01\",\"2010-05-01\",\"2010-06-01\",\"2010-07-01\",\"2010-08-01\",\"2010-09-01\",\"2010-10-01\",\"2010-11-01\",\"2010-12-01\",\"2011-01-01\",\"2011-02-01\",\"2011-03-01\",\"2011-04-01\",\"2011-05-01\",\"2011-06-01\",\"2011-07-01\",\"2011-08-01\",\"2011-09-01\",\"2011-10-01\",\"2011-11-01\",\"2011-12-01\",\"2012-01-01\",\"2012-02-01\",\"2012-03-01\",\"2012-04-01\",\"2012-05-01\",\"2012-06-01\",\"2012-07-01\",\"2012-08-01\",\"2012-09-01\",\"2012-10-01\",\"2012-11-01\",\"2012-12-01\",\"2013-01-01\",\"2013-02-01\",\"2013-03-01\",\"2013-04-01\",\"2013-05-01\",\"2013-06-01\",\"2013-07-01\",\"2013-08-01\",\"2013-09-01\",\"2013-10-01\",\"2013-11-01\",\"2013-12-01\",\"2014-01-01\",\"2014-02-01\",\"2014-03-01\",\"2014-04-01\",\"2014-05-01\",\"2014-06-01\",\"2014-07-01\",\"2014-08-01\",\"2014-09-01\",\"2014-10-01\",\"2014-11-01\",\"2014-12-01\",\"2015-01-01\",\"2015-02-01\",\"2015-03-01\",\"2015-04-01\",\"2015-05-01\",\"2015-06-01\",\"2015-07-01\",\"2015-08-01\",\"2015-09-01\",\"2015-10-01\",\"2015-11-01\",\"2015-12-01\",\"2016-01-01\",\"2016-02-01\",\"2016-03-01\",\"2016-04-01\",\"2016-05-01\",\"2016-06-01\",\"2016-07-01\",\"2016-08-01\",\"2016-09-01\",\"2016-10-01\",\"2016-11-01\",\"2016-12-01\",\"2017-01-01\",\"2017-02-01\",\"2017-03-01\",\"2017-04-01\",\"2017-05-01\",\"2017-06-01\",\"2017-07-01\",\"2017-08-01\",\"2017-09-01\",\"2017-10-01\",\"2017-11-01\",\"2017-12-01\",\"2018-01-01\",\"2018-02-01\",\"2018-03-01\",\"2018-04-01\",\"2018-05-01\",\"2018-06-01\",\"2018-07-01\",\"2018-08-01\",\"2018-09-01\",\"2018-10-01\",\"2018-11-01\",\"2018-12-01\",\"2019-01-01\",\"2019-02-01\",\"2019-03-01\",\"2019-04-01\",\"2019-05-01\",\"2019-06-01\",\"2019-07-01\",\"2019-08-01\",\"2019-09-01\",\"2019-10-01\",\"2019-11-01\",\"2019-12-01\",\"2020-01-01\",\"2020-02-01\",\"2020-03-01\",\"2020-04-01\",\"2020-05-01\",\"2020-06-01\",\"2020-07-01\",\"2020-08-01\",\"2020-09-01\",\"2020-10-01\",\"2020-11-01\",\"2020-12-01\",\"2021-01-01\",\"2021-02-01\",\"2021-03-01\",\"2021-04-01\",\"2021-05-01\",\"2021-06-01\",\"2021-07-01\",\"2021-08-01\",\"2021-09-01\",\"2021-10-01\",\"2021-11-01\",\"2021-12-01\",\"2022-01-01\",\"2022-02-01\",\"2022-03-01\",\"2022-04-01\",\"2022-05-01\",\"2022-06-01\",\"2022-07-01\",\"2022-08-01\",\"2022-09-01\",\"2022-10-01\",\"2022-11-01\",\"2022-12-01\",\"2023-01-01\",\"2023-02-01\",\"2023-03-01\",\"2023-04-01\",\"2023-05-01\",\"2023-06-01\",\"2023-07-01\"],\"y\":[1.0058401823043823,1.010583519935608,1.0071265697479248,1.0055274963378906,1.0083537101745605,1.009065866470337,1.0104591846466064,1.0075876712799072,1.009149432182312,1.0064470767974854,1.011484980583191,1.0064178705215454,1.0078144073486328,1.006986379623413,1.0075541734695435,1.0075442790985107,1.0097421407699585,1.0105314254760742,1.0070840120315552,1.0079615116119385,1.0055053234100342,1.0084956884384155,1.010574221611023,1.0100256204605103,1.0047458410263062,1.0152140855789185,1.0088764429092407,1.0156501531600952,1.0115604400634766,1.0055031776428223,1.0077786445617676,1.0096814632415771,1.0087299346923828,1.0110411643981934,1.010292410850525,1.0095698833465576,1.010542392730713,1.0099607706069946,1.0126889944076538,1.0101646184921265,1.0071628093719482,1.0102826356887817,1.0074636936187744,1.0108551979064941,1.0162649154663086,1.009292483329773,1.0084819793701172,1.009475827217102,1.0062975883483887,1.0070995092391968,1.0074727535247803,1.011228084564209,1.0109938383102417,1.0055818557739258,1.012765645980835,1.0090875625610352,1.0102304220199585,1.0066295862197876,1.0063797235488892,1.0088012218475342,1.0084311962127686,1.005789041519165,3.6289985179901123,1.0088181495666504,1.0097273588180542,1.0048630237579346,1.0070044994354248,1.0090349912643433,1.0212664604187012,1.010906457901001,1.007402777671814,1.0090371370315552,1.0091443061828613,1.007773756980896,1.0111802816390991,1.0072189569473267,1.0170683860778809,1.0144832134246826,1.0083845853805542,1.0068095922470093,1.0074180364608765,1.0091187953948975,1.0116437673568726,1.007946491241455,1.0083121061325073,1.0085680484771729,1.0087714195251465,1.0083668231964111,1.007997989654541,1.0113613605499268,1.0065051317214966,1.0071946382522583,1.0156536102294922,1.0106717348098755,1.0053050518035889,1.008202314376831,1.0078810453414917,1.004228949546814,1.0060207843780518,1.0069695711135864,1.0069950819015503,1.0073894262313843,1.0097925662994385,1.0116280317306519,1.0081868171691895,1.0119798183441162,1.006993055343628,1.0088708400726318,1.0054517984390259,1.0053399801254272,0.9990869760513306,1.0069400072097778,1.008129596710205,1.0092031955718994,1.0078001022338867,1.0061206817626953,1.0125389099121094,1.0075938701629639,1.0067259073257446,1.006317377090454,1.0099050998687744,1.011721134185791,1.0088698863983154,1.0104951858520508,1.012269377708435,1.010245442390442,1.0100983381271362,1.009351372718811,1.0110148191452026,1.0065670013427734,1.0072979927062988,1.0076402425765991,1.0063353776931763,1.0098545551300049,1.0085443258285522,1.0079748630523682,1.0070561170578003,1.0116585493087769,1.006226658821106,1.0091819763183594,1.0132808685302734,1.0151989459991455,1.0058292150497437,1.0070282220840454,1.0090492963790894,1.008192777633667,1.1016708612442017,1.0099384784698486,1.0113145112991333,1.0076645612716675,1.0098967552185059,1.0087261199951172,1.0066394805908203,1.007521629333496,1.0096721649169922,1.0188205242156982,1.034024953842163,1.0058425664901733,1.005218505859375,1.007240891456604,0.9506968259811401,1.0066453218460083,1.0123867988586426,1.0096763372421265,1.0061204433441162,1.0102591514587402,1.0086243152618408,1.0076014995574951,1.0104572772979736,1.0069372653961182,1.0069273710250854,1.0102559328079224,1.0124859809875488,1.0060070753097534,1.0097160339355469,1.0134001970291138,1.0079952478408813,1.004489779472351,1.0066757202148438,1.0100651979446411,1.0096385478973389,1.0124285221099854,1.0136933326721191,1.009508490562439,1.0092920064926147,1.0098289251327515,1.0130407810211182,1.0061707496643066,1.009628415107727,1.0059223175048828,1.0101454257965088,1.0070021152496338,1.0076000690460205,1.0068166255950928,1.0034656524658203,1.0130196809768677,1.0095772743225098,1.0081136226654053,1.0038293600082397,1.0124491453170776,1.0074721574783325,1.0061523914337158,1.1129180192947388,1.0100114345550537,1.007678747177124,1.0124602317810059,3.098879814147949,1.0166352987289429,1.0080291032791138,1.0081685781478882,1.0068392753601074,1.0116559267044067,1.0112024545669556,1.0071940422058105,1.0087437629699707,1.0103107690811157,1.0119314193725586,1.0067301988601685,1.0099260807037354,1.0181796550750732,1.0132675170898438,1.0129756927490234,1.0113664865493774,1.0127294063568115,1.0121593475341797,1.00761079788208,1.0027302503585815,1.0169641971588135,1.0086370706558228,1.0130257606506348,1.0069960355758667,1.0034360885620117,0.9995626211166382,1.0100022554397583,1.0083129405975342,1.0050841569900513,1.0110315084457397,1.0077319145202637,1.0080677270889282,1.003768801689148,1.0159481763839722,1.0066473484039307,1.0050157308578491,1.0065360069274902,1.0080057382583618,1.0084906816482544,1.0063505172729492,1.0087523460388184,1.0073528289794922,1.0066683292388916,1.0181264877319336,1.008301854133606,1.01167631149292,1.0131429433822632,1.0085166692733765,1.0051605701446533,1.0130630731582642,1.0086168050765991,1.0094248056411743,1.0132482051849365,1.008353352546692,1.005511999130249,1.0082298517227173,1.0147628784179688,1.0040515661239624,1.0172661542892456,1.0097100734710693,1.0084805488586426,1.0062639713287354,1.0089939832687378,1.006792426109314,1.0056875944137573,1.0065056085586548,1.0116735696792603,1.006757378578186,1.0077873468399048,1.0179890394210815,1.0087380409240723,1.0132458209991455,1.009829044342041,1.0092389583587646,1.0143299102783203,1.0203574895858765,1.0103150606155396,1.0069587230682373,1.0105040073394775],\"type\":\"scatter\"},{\"line\":{\"color\":\"green\",\"width\":2},\"mode\":\"lines\",\"name\":\"Test returns\",\"x\":[\"2023-07-01\",\"2023-08-01\",\"2023-09-01\",\"2023-10-01\",\"2023-11-01\",\"2023-12-01\",\"2024-01-01\",\"2024-02-01\",\"2024-03-01\",\"2024-04-01\",\"2024-05-01\",\"2024-06-01\",\"2024-07-01\",\"2024-08-01\",\"2024-09-01\"],\"y\":[1.0105040073394775,1.0258145332336426],\"type\":\"scatter\"}],                        {\"template\":{\"data\":{\"barpolar\":[{\"marker\":{\"line\":{\"color\":\"white\",\"width\":0.5},\"pattern\":{\"fillmode\":\"overlay\",\"size\":10,\"solidity\":0.2}},\"type\":\"barpolar\"}],\"bar\":[{\"error_x\":{\"color\":\"#2a3f5f\"},\"error_y\":{\"color\":\"#2a3f5f\"},\"marker\":{\"line\":{\"color\":\"white\",\"width\":0.5},\"pattern\":{\"fillmode\":\"overlay\",\"size\":10,\"solidity\":0.2}},\"type\":\"bar\"}],\"carpet\":[{\"aaxis\":{\"endlinecolor\":\"#2a3f5f\",\"gridcolor\":\"#C8D4E3\",\"linecolor\":\"#C8D4E3\",\"minorgridcolor\":\"#C8D4E3\",\"startlinecolor\":\"#2a3f5f\"},\"baxis\":{\"endlinecolor\":\"#2a3f5f\",\"gridcolor\":\"#C8D4E3\",\"linecolor\":\"#C8D4E3\",\"minorgridcolor\":\"#C8D4E3\",\"startlinecolor\":\"#2a3f5f\"},\"type\":\"carpet\"}],\"choropleth\":[{\"colorbar\":{\"outlinewidth\":0,\"ticks\":\"\"},\"type\":\"choropleth\"}],\"contourcarpet\":[{\"colorbar\":{\"outlinewidth\":0,\"ticks\":\"\"},\"type\":\"contourcarpet\"}],\"contour\":[{\"colorbar\":{\"outlinewidth\":0,\"ticks\":\"\"},\"colorscale\":[[0.0,\"#0d0887\"],[0.1111111111111111,\"#46039f\"],[0.2222222222222222,\"#7201a8\"],[0.3333333333333333,\"#9c179e\"],[0.4444444444444444,\"#bd3786\"],[0.5555555555555556,\"#d8576b\"],[0.6666666666666666,\"#ed7953\"],[0.7777777777777778,\"#fb9f3a\"],[0.8888888888888888,\"#fdca26\"],[1.0,\"#f0f921\"]],\"type\":\"contour\"}],\"heatmapgl\":[{\"colorbar\":{\"outlinewidth\":0,\"ticks\":\"\"},\"colorscale\":[[0.0,\"#0d0887\"],[0.1111111111111111,\"#46039f\"],[0.2222222222222222,\"#7201a8\"],[0.3333333333333333,\"#9c179e\"],[0.4444444444444444,\"#bd3786\"],[0.5555555555555556,\"#d8576b\"],[0.6666666666666666,\"#ed7953\"],[0.7777777777777778,\"#fb9f3a\"],[0.8888888888888888,\"#fdca26\"],[1.0,\"#f0f921\"]],\"type\":\"heatmapgl\"}],\"heatmap\":[{\"colorbar\":{\"outlinewidth\":0,\"ticks\":\"\"},\"colorscale\":[[0.0,\"#0d0887\"],[0.1111111111111111,\"#46039f\"],[0.2222222222222222,\"#7201a8\"],[0.3333333333333333,\"#9c179e\"],[0.4444444444444444,\"#bd3786\"],[0.5555555555555556,\"#d8576b\"],[0.6666666666666666,\"#ed7953\"],[0.7777777777777778,\"#fb9f3a\"],[0.8888888888888888,\"#fdca26\"],[1.0,\"#f0f921\"]],\"type\":\"heatmap\"}],\"histogram2dcontour\":[{\"colorbar\":{\"outlinewidth\":0,\"ticks\":\"\"},\"colorscale\":[[0.0,\"#0d0887\"],[0.1111111111111111,\"#46039f\"],[0.2222222222222222,\"#7201a8\"],[0.3333333333333333,\"#9c179e\"],[0.4444444444444444,\"#bd3786\"],[0.5555555555555556,\"#d8576b\"],[0.6666666666666666,\"#ed7953\"],[0.7777777777777778,\"#fb9f3a\"],[0.8888888888888888,\"#fdca26\"],[1.0,\"#f0f921\"]],\"type\":\"histogram2dcontour\"}],\"histogram2d\":[{\"colorbar\":{\"outlinewidth\":0,\"ticks\":\"\"},\"colorscale\":[[0.0,\"#0d0887\"],[0.1111111111111111,\"#46039f\"],[0.2222222222222222,\"#7201a8\"],[0.3333333333333333,\"#9c179e\"],[0.4444444444444444,\"#bd3786\"],[0.5555555555555556,\"#d8576b\"],[0.6666666666666666,\"#ed7953\"],[0.7777777777777778,\"#fb9f3a\"],[0.8888888888888888,\"#fdca26\"],[1.0,\"#f0f921\"]],\"type\":\"histogram2d\"}],\"histogram\":[{\"marker\":{\"pattern\":{\"fillmode\":\"overlay\",\"size\":10,\"solidity\":0.2}},\"type\":\"histogram\"}],\"mesh3d\":[{\"colorbar\":{\"outlinewidth\":0,\"ticks\":\"\"},\"type\":\"mesh3d\"}],\"parcoords\":[{\"line\":{\"colorbar\":{\"outlinewidth\":0,\"ticks\":\"\"}},\"type\":\"parcoords\"}],\"pie\":[{\"automargin\":true,\"type\":\"pie\"}],\"scatter3d\":[{\"line\":{\"colorbar\":{\"outlinewidth\":0,\"ticks\":\"\"}},\"marker\":{\"colorbar\":{\"outlinewidth\":0,\"ticks\":\"\"}},\"type\":\"scatter3d\"}],\"scattercarpet\":[{\"marker\":{\"colorbar\":{\"outlinewidth\":0,\"ticks\":\"\"}},\"type\":\"scattercarpet\"}],\"scattergeo\":[{\"marker\":{\"colorbar\":{\"outlinewidth\":0,\"ticks\":\"\"}},\"type\":\"scattergeo\"}],\"scattergl\":[{\"marker\":{\"colorbar\":{\"outlinewidth\":0,\"ticks\":\"\"}},\"type\":\"scattergl\"}],\"scattermapbox\":[{\"marker\":{\"colorbar\":{\"outlinewidth\":0,\"ticks\":\"\"}},\"type\":\"scattermapbox\"}],\"scatterpolargl\":[{\"marker\":{\"colorbar\":{\"outlinewidth\":0,\"ticks\":\"\"}},\"type\":\"scatterpolargl\"}],\"scatterpolar\":[{\"marker\":{\"colorbar\":{\"outlinewidth\":0,\"ticks\":\"\"}},\"type\":\"scatterpolar\"}],\"scatter\":[{\"fillpattern\":{\"fillmode\":\"overlay\",\"size\":10,\"solidity\":0.2},\"type\":\"scatter\"}],\"scatterternary\":[{\"marker\":{\"colorbar\":{\"outlinewidth\":0,\"ticks\":\"\"}},\"type\":\"scatterternary\"}],\"surface\":[{\"colorbar\":{\"outlinewidth\":0,\"ticks\":\"\"},\"colorscale\":[[0.0,\"#0d0887\"],[0.1111111111111111,\"#46039f\"],[0.2222222222222222,\"#7201a8\"],[0.3333333333333333,\"#9c179e\"],[0.4444444444444444,\"#bd3786\"],[0.5555555555555556,\"#d8576b\"],[0.6666666666666666,\"#ed7953\"],[0.7777777777777778,\"#fb9f3a\"],[0.8888888888888888,\"#fdca26\"],[1.0,\"#f0f921\"]],\"type\":\"surface\"}],\"table\":[{\"cells\":{\"fill\":{\"color\":\"#EBF0F8\"},\"line\":{\"color\":\"white\"}},\"header\":{\"fill\":{\"color\":\"#C8D4E3\"},\"line\":{\"color\":\"white\"}},\"type\":\"table\"}]},\"layout\":{\"annotationdefaults\":{\"arrowcolor\":\"#2a3f5f\",\"arrowhead\":0,\"arrowwidth\":1},\"autotypenumbers\":\"strict\",\"coloraxis\":{\"colorbar\":{\"outlinewidth\":0,\"ticks\":\"\"}},\"colorscale\":{\"diverging\":[[0,\"#8e0152\"],[0.1,\"#c51b7d\"],[0.2,\"#de77ae\"],[0.3,\"#f1b6da\"],[0.4,\"#fde0ef\"],[0.5,\"#f7f7f7\"],[0.6,\"#e6f5d0\"],[0.7,\"#b8e186\"],[0.8,\"#7fbc41\"],[0.9,\"#4d9221\"],[1,\"#276419\"]],\"sequential\":[[0.0,\"#0d0887\"],[0.1111111111111111,\"#46039f\"],[0.2222222222222222,\"#7201a8\"],[0.3333333333333333,\"#9c179e\"],[0.4444444444444444,\"#bd3786\"],[0.5555555555555556,\"#d8576b\"],[0.6666666666666666,\"#ed7953\"],[0.7777777777777778,\"#fb9f3a\"],[0.8888888888888888,\"#fdca26\"],[1.0,\"#f0f921\"]],\"sequentialminus\":[[0.0,\"#0d0887\"],[0.1111111111111111,\"#46039f\"],[0.2222222222222222,\"#7201a8\"],[0.3333333333333333,\"#9c179e\"],[0.4444444444444444,\"#bd3786\"],[0.5555555555555556,\"#d8576b\"],[0.6666666666666666,\"#ed7953\"],[0.7777777777777778,\"#fb9f3a\"],[0.8888888888888888,\"#fdca26\"],[1.0,\"#f0f921\"]]},\"colorway\":[\"#636efa\",\"#EF553B\",\"#00cc96\",\"#ab63fa\",\"#FFA15A\",\"#19d3f3\",\"#FF6692\",\"#B6E880\",\"#FF97FF\",\"#FECB52\"],\"font\":{\"color\":\"#2a3f5f\"},\"geo\":{\"bgcolor\":\"white\",\"lakecolor\":\"white\",\"landcolor\":\"white\",\"showlakes\":true,\"showland\":true,\"subunitcolor\":\"#C8D4E3\"},\"hoverlabel\":{\"align\":\"left\"},\"hovermode\":\"closest\",\"mapbox\":{\"style\":\"light\"},\"paper_bgcolor\":\"white\",\"plot_bgcolor\":\"white\",\"polar\":{\"angularaxis\":{\"gridcolor\":\"#EBF0F8\",\"linecolor\":\"#EBF0F8\",\"ticks\":\"\"},\"bgcolor\":\"white\",\"radialaxis\":{\"gridcolor\":\"#EBF0F8\",\"linecolor\":\"#EBF0F8\",\"ticks\":\"\"}},\"scene\":{\"xaxis\":{\"backgroundcolor\":\"white\",\"gridcolor\":\"#DFE8F3\",\"gridwidth\":2,\"linecolor\":\"#EBF0F8\",\"showbackground\":true,\"ticks\":\"\",\"zerolinecolor\":\"#EBF0F8\"},\"yaxis\":{\"backgroundcolor\":\"white\",\"gridcolor\":\"#DFE8F3\",\"gridwidth\":2,\"linecolor\":\"#EBF0F8\",\"showbackground\":true,\"ticks\":\"\",\"zerolinecolor\":\"#EBF0F8\"},\"zaxis\":{\"backgroundcolor\":\"white\",\"gridcolor\":\"#DFE8F3\",\"gridwidth\":2,\"linecolor\":\"#EBF0F8\",\"showbackground\":true,\"ticks\":\"\",\"zerolinecolor\":\"#EBF0F8\"}},\"shapedefaults\":{\"line\":{\"color\":\"#2a3f5f\"}},\"ternary\":{\"aaxis\":{\"gridcolor\":\"#DFE8F3\",\"linecolor\":\"#A2B1C6\",\"ticks\":\"\"},\"baxis\":{\"gridcolor\":\"#DFE8F3\",\"linecolor\":\"#A2B1C6\",\"ticks\":\"\"},\"bgcolor\":\"white\",\"caxis\":{\"gridcolor\":\"#DFE8F3\",\"linecolor\":\"#A2B1C6\",\"ticks\":\"\"}},\"title\":{\"x\":0.05},\"xaxis\":{\"automargin\":true,\"gridcolor\":\"#EBF0F8\",\"linecolor\":\"#EBF0F8\",\"ticks\":\"\",\"title\":{\"standoff\":15},\"zerolinecolor\":\"#EBF0F8\",\"zerolinewidth\":2},\"yaxis\":{\"automargin\":true,\"gridcolor\":\"#EBF0F8\",\"linecolor\":\"#EBF0F8\",\"ticks\":\"\",\"title\":{\"standoff\":15},\"zerolinecolor\":\"#EBF0F8\",\"zerolinewidth\":2}}},\"shapes\":[{\"line\":{\"color\":\"red\",\"dash\":\"dash\",\"width\":1},\"type\":\"line\",\"x0\":\"2024-07-01\",\"x1\":\"2024-07-01\",\"xref\":\"x\",\"y0\":0,\"y1\":1,\"yref\":\"y domain\"}],\"yaxis\":{\"title\":{\"text\":\"Day closing return (%)\"},\"tickformat\":\".0%\",\"range\":[0.75,1.6]},\"title\":{\"text\":\"1 Month Prediction vs Actual Plot\"},\"xaxis\":{\"title\":{\"text\":\"Date\"}},\"legend\":{\"title\":{\"text\":\"Legend\"}}},                        {\"responsive\": true}                    ).then(function(){\n",
       "                            \n",
       "var gd = document.getElementById('47a7512b-1afa-4dc2-ac07-f9042ece23d6');\n",
       "var x = new MutationObserver(function (mutations, observer) {{\n",
       "        var display = window.getComputedStyle(gd).display;\n",
       "        if (!display || display === 'none') {{\n",
       "            console.log([gd, 'removed!']);\n",
       "            Plotly.purge(gd);\n",
       "            observer.disconnect();\n",
       "        }}\n",
       "}});\n",
       "\n",
       "// Listen for the removal of the full notebook cells\n",
       "var notebookContainer = gd.closest('#notebook-container');\n",
       "if (notebookContainer) {{\n",
       "    x.observe(notebookContainer, {childList: true});\n",
       "}}\n",
       "\n",
       "// Listen for the clearing of the current output cell\n",
       "var outputEl = gd.closest('.output');\n",
       "if (outputEl) {{\n",
       "    x.observe(outputEl, {childList: true});\n",
       "}}\n",
       "\n",
       "                        })                };                });            </script>        </div>"
      ]
     },
     "metadata": {},
     "output_type": "display_data"
    }
   ],
   "execution_count": 291
  },
  {
   "metadata": {},
   "cell_type": "markdown",
   "source": "### 6 Months",
   "id": "b9d9c2787485c1ff"
  },
  {
   "metadata": {
    "ExecuteTime": {
     "end_time": "2025-03-31T23:19:07.106378Z",
     "start_time": "2025-03-31T23:19:06.965652Z"
    }
   },
   "cell_type": "code",
   "source": [
    "months_6m = 6\n",
    "X_train_6m, y_train_6m, X_test_6m, y_test_6m = train_test.get_train_test(df_tabular, months=6)"
   ],
   "id": "93df1cf38cd00ed9",
   "outputs": [],
   "execution_count": 292
  },
  {
   "metadata": {
    "ExecuteTime": {
     "end_time": "2025-03-31T23:19:08.699594Z",
     "start_time": "2025-03-31T23:19:07.109523Z"
    }
   },
   "cell_type": "code",
   "source": [
    "# Predictions\n",
    "y_train_pred_6m = model.predict(X_train_6m)\n",
    "y_test_pred_6m = model.predict(X_test_6m)"
   ],
   "id": "34201fec54105879",
   "outputs": [],
   "execution_count": 293
  },
  {
   "metadata": {},
   "cell_type": "markdown",
   "source": "#### Train-Data",
   "id": "fe51ea194fe52f40"
  },
  {
   "metadata": {
    "ExecuteTime": {
     "end_time": "2025-03-31T23:19:08.707667Z",
     "start_time": "2025-03-31T23:19:08.703115Z"
    }
   },
   "cell_type": "code",
   "source": "y_train_pred_6m, y_test_pred_6m = get_tt_pred(y_train_pred_6m, y_test_pred_6m)",
   "id": "e9f110dcb5c789bd",
   "outputs": [],
   "execution_count": 294
  },
  {
   "metadata": {},
   "cell_type": "markdown",
   "source": "#### Actual vs Prediction plot",
   "id": "47b11a14208d302a"
  },
  {
   "metadata": {
    "ExecuteTime": {
     "end_time": "2025-03-31T23:19:08.750884Z",
     "start_time": "2025-03-31T23:19:08.715174Z"
    }
   },
   "cell_type": "code",
   "source": "generate_plot(df, y_train_pred_6m, y_test_pred_6m)",
   "id": "171c2e1803eb29ea",
   "outputs": [
    {
     "data": {
      "application/vnd.plotly.v1+json": {
       "data": [
        {
         "line": {
          "color": "#5c839f",
          "width": 2
         },
         "mode": "lines",
         "name": "Actual returns",
         "x": [
          "1999-10-01",
          "1999-11-01",
          "1999-12-01",
          "2000-01-01",
          "2000-02-01",
          "2000-03-01",
          "2000-04-01",
          "2000-05-01",
          "2000-06-01",
          "2000-07-01",
          "2000-08-01",
          "2000-09-01",
          "2000-10-01",
          "2000-11-01",
          "2000-12-01",
          "2001-01-01",
          "2001-02-01",
          "2001-03-01",
          "2001-04-01",
          "2001-05-01",
          "2001-06-01",
          "2001-07-01",
          "2001-08-01",
          "2001-09-01",
          "2001-10-01",
          "2001-11-01",
          "2001-12-01",
          "2002-01-01",
          "2002-02-01",
          "2002-03-01",
          "2002-04-01",
          "2002-05-01",
          "2002-06-01",
          "2002-07-01",
          "2002-08-01",
          "2002-09-01",
          "2002-10-01",
          "2002-11-01",
          "2002-12-01",
          "2003-01-01",
          "2003-02-01",
          "2003-03-01",
          "2003-04-01",
          "2003-05-01",
          "2003-06-01",
          "2003-07-01",
          "2003-08-01",
          "2003-09-01",
          "2003-10-01",
          "2003-11-01",
          "2003-12-01",
          "2004-01-01",
          "2004-02-01",
          "2004-03-01",
          "2004-04-01",
          "2004-05-01",
          "2004-06-01",
          "2004-07-01",
          "2004-08-01",
          "2004-09-01",
          "2004-10-01",
          "2004-11-01",
          "2004-12-01",
          "2005-01-01",
          "2005-02-01",
          "2005-03-01",
          "2005-04-01",
          "2005-05-01",
          "2005-06-01",
          "2005-07-01",
          "2005-08-01",
          "2005-09-01",
          "2005-10-01",
          "2005-11-01",
          "2005-12-01",
          "2006-01-01",
          "2006-02-01",
          "2006-03-01",
          "2006-04-01",
          "2006-05-01",
          "2006-06-01",
          "2006-07-01",
          "2006-08-01",
          "2006-09-01",
          "2006-10-01",
          "2006-11-01",
          "2006-12-01",
          "2007-01-01",
          "2007-02-01",
          "2007-03-01",
          "2007-04-01",
          "2007-05-01",
          "2007-06-01",
          "2007-07-01",
          "2007-08-01",
          "2007-09-01",
          "2007-10-01",
          "2007-11-01",
          "2007-12-01",
          "2008-01-01",
          "2008-02-01",
          "2008-03-01",
          "2008-04-01",
          "2008-05-01",
          "2008-06-01",
          "2008-07-01",
          "2008-08-01",
          "2008-09-01",
          "2008-10-01",
          "2008-11-01",
          "2008-12-01",
          "2009-01-01",
          "2009-02-01",
          "2009-03-01",
          "2009-04-01",
          "2009-05-01",
          "2009-06-01",
          "2009-07-01",
          "2009-08-01",
          "2009-09-01",
          "2009-10-01",
          "2009-11-01",
          "2009-12-01",
          "2010-01-01",
          "2010-02-01",
          "2010-03-01",
          "2010-04-01",
          "2010-05-01",
          "2010-06-01",
          "2010-07-01",
          "2010-08-01",
          "2010-09-01",
          "2010-10-01",
          "2010-11-01",
          "2010-12-01",
          "2011-01-01",
          "2011-02-01",
          "2011-03-01",
          "2011-04-01",
          "2011-05-01",
          "2011-06-01",
          "2011-07-01",
          "2011-08-01",
          "2011-09-01",
          "2011-10-01",
          "2011-11-01",
          "2011-12-01",
          "2012-01-01",
          "2012-02-01",
          "2012-03-01",
          "2012-04-01",
          "2012-05-01",
          "2012-06-01",
          "2012-07-01",
          "2012-08-01",
          "2012-09-01",
          "2012-10-01",
          "2012-11-01",
          "2012-12-01",
          "2013-01-01",
          "2013-02-01",
          "2013-03-01",
          "2013-04-01",
          "2013-05-01",
          "2013-06-01",
          "2013-07-01",
          "2013-08-01",
          "2013-09-01",
          "2013-10-01",
          "2013-11-01",
          "2013-12-01",
          "2014-01-01",
          "2014-02-01",
          "2014-03-01",
          "2014-04-01",
          "2014-05-01",
          "2014-06-01",
          "2014-07-01",
          "2014-08-01",
          "2014-09-01",
          "2014-10-01",
          "2014-11-01",
          "2014-12-01",
          "2015-01-01",
          "2015-02-01",
          "2015-03-01",
          "2015-04-01",
          "2015-05-01",
          "2015-06-01",
          "2015-07-01",
          "2015-08-01",
          "2015-09-01",
          "2015-10-01",
          "2015-11-01",
          "2015-12-01",
          "2016-01-01",
          "2016-02-01",
          "2016-03-01",
          "2016-04-01",
          "2016-05-01",
          "2016-06-01",
          "2016-07-01",
          "2016-08-01",
          "2016-09-01",
          "2016-10-01",
          "2016-11-01",
          "2016-12-01",
          "2017-01-01",
          "2017-02-01",
          "2017-03-01",
          "2017-04-01",
          "2017-05-01",
          "2017-06-01",
          "2017-07-01",
          "2017-08-01",
          "2017-09-01",
          "2017-10-01",
          "2017-11-01",
          "2017-12-01",
          "2018-01-01",
          "2018-02-01",
          "2018-03-01",
          "2018-04-01",
          "2018-05-01",
          "2018-06-01",
          "2018-07-01",
          "2018-08-01",
          "2018-09-01",
          "2018-10-01",
          "2018-11-01",
          "2018-12-01",
          "2019-01-01",
          "2019-02-01",
          "2019-03-01",
          "2019-04-01",
          "2019-05-01",
          "2019-06-01",
          "2019-07-01",
          "2019-08-01",
          "2019-09-01",
          "2019-10-01",
          "2019-11-01",
          "2019-12-01",
          "2020-01-01",
          "2020-02-01",
          "2020-03-01",
          "2020-04-01",
          "2020-05-01",
          "2020-06-01",
          "2020-07-01",
          "2020-08-01",
          "2020-09-01",
          "2020-10-01",
          "2020-11-01",
          "2020-12-01",
          "2021-01-01",
          "2021-02-01",
          "2021-03-01",
          "2021-04-01",
          "2021-05-01",
          "2021-06-01",
          "2021-07-01",
          "2021-08-01",
          "2021-09-01",
          "2021-10-01",
          "2021-11-01",
          "2021-12-01",
          "2022-01-01",
          "2022-02-01",
          "2022-03-01",
          "2022-04-01",
          "2022-05-01",
          "2022-06-01",
          "2022-07-01",
          "2022-08-01",
          "2022-09-01",
          "2022-10-01",
          "2022-11-01",
          "2022-12-01",
          "2023-01-01",
          "2023-02-01",
          "2023-03-01",
          "2023-04-01",
          "2023-05-01",
          "2023-06-01",
          "2023-07-01",
          "2023-08-01",
          "2023-09-01",
          "2023-10-01",
          "2023-11-01",
          "2023-12-01",
          "2024-01-01",
          "2024-02-01",
          "2024-03-01",
          "2024-04-01",
          "2024-05-01",
          "2024-06-01",
          "2024-07-01",
          "2024-08-01",
          "2024-09-01"
         ],
         "y": [
          null,
          1.0255474894131882,
          1.0338354506957046,
          0.9928735632183908,
          5.930568663036903,
          1.02524500907441,
          0.9939624924379915,
          0.9817483363581366,
          1.0329461584996975,
          0.9952389594676346,
          1.027350272232305,
          0.9906291591046583,
          0.9893103448275862,
          0.9717422867513611,
          1.0094071385359953,
          1.0391651542649727,
          0.9689776164549303,
          0.9847489413188143,
          1.0655414398064127,
          1.0118451300665456,
          0.9984392014519057,
          0.9735087719298245,
          0.9690865093768906,
          0.9132849364791288,
          1.0499274047186933,
          1.050798548094374,
          1.0158620689655173,
          0.9939322444041138,
          1.0093103448275862,
          1.050725952813067,
          1.007102238354507,
          1.0027646702964308,
          0.9519721718088325,
          0.9418874773139746,
          0.9874833635813671,
          0.9568905021173624,
          1.0078644888082275,
          1.0582516636418633,
          0.9664125831820932,
          0.9890199637023595,
          1.0055716878402905,
          0.9959830611010285,
          1.0599516031457954,
          1.0670054446460981,
          1.034162129461585,
          1.508451300665457,
          1.0614277071990321,
          1.0038233514821537,
          1.0498003629764066,
          1.0042286751361162,
          1.015849969751966,
          1.0305263157894737,
          1.0141560798548095,
          1.0468421052631578,
          1.0040834845735027,
          0.992474289171204,
          1.0346218995765275,
          0.9633877797943133,
          0.9934119782214157,
          1.0055535390199637,
          1.0005565638233516,
          1.0293163944343617,
          1.053762855414398,
          1.00643073200242,
          1.0203811252268602,
          0.9955595886267392,
          0.9733030852994556,
          1.033145795523291,
          1.0216817906836055,
          1.0358136721113127,
          0.9993042952208105,
          1.1286509376890503,
          1.0726013309134907,
          3.2130248033877797,
          1.0215607985480943,
          1.0408166969147006,
          1.0128917120387175,
          1.027501512401694,
          1.0092075015124016,
          0.9686267392619479,
          0.9991833030852995,
          0.9856866303690262,
          1.0248820326678767,
          1.0297519661222019,
          1.0213853599516032,
          1.0188808227465216,
          1.027979431336963,
          1.0368723532970356,
          1.0044404113732608,
          1.0015849969751967,
          1.0188082274652148,
          1.0226194797338173,
          0.9885843920145191,
          0.9759286146400484,
          0.9907501512401694,
          1.002474289171204,
          1.0255172413793103,
          0.9479370840895343,
          0.9907743496672716,
          0.9420447670901392,
          0.9907199032062917,
          0.9868784029038112,
          1.0311494252873565,
          1.02318814277072,
          0.9375620084694495,
          0.9950090744101633,
          1.0215789473684211,
          0.9273018753781004,
          0.8458197217180883,
          0.9447489413188144,
          1.0413006654567454,
          0.9497701149425287,
          0.9416515426497277,
          1.0697580157289777,
          1.1476164549304295,
          1.0432909860859043,
          1.0350211736237145,
          1.0623895946763462,
          1.0552026618269812,
          1.0322746521476103,
          0.9779915305505141,
          1.0015910465819722,
          1.0513793103448277,
          0.9896067755595885,
          1.0185541439806414,
          1.0590381125226862,
          1.0449969751966124,
          0.9456261343012704,
          0.9619419237749547,
          1.0388626739261946,
          0.9645856019358742,
          1.0696067755595886,
          1.0163883847549908,
          1.0275862068965518,
          1.0584029038112523,
          1.0119782214156081,
          1.0324803387779795,
          1.0016031457955235,
          1.0198850574712643,
          0.9949969751966122,
          0.9972353297035693,
          0.9830429522081064,
          0.9474712643678161,
          0.9529824561403508,
          1.0689231699939505,
          0.9843375680580763,
          1.0002540834845735,
          1.0593768905021175,
          1.0995402298850574,
          1.026303690260133,
          0.9927465214761042,
          0.9427586206896552,
          1.0300241984271024,
          0.9957652752571083,
          1.0196672716273443,
          1.0171506352087114,
          1.0012038717483362,
          1.0166848154869934,
          1.0311736237144584,
          1.0607924984875983,
          1.0218390804597701,
          1.0406836055656383,
          1.0333696309739866,
          1.01821536600121,
          0.990508166969147,
          1.0369933454325468,
          0.98346037507562,
          1.0512159709618873,
          1.0213430127041743,
          1.0239806412583181,
          1.022280701754386,
          0.9877434966727164,
          1.0288626739261948,
          1.0008287961282516,
          0.9851845130066547,
          1.0161161524500906,
          1.0306473079249847,
          0.9871445856019359,
          1.026745311554749,
          0.989491833030853,
          1.0253115547489413,
          1.04167574107683,
          1.0141681790683605,
          1.0019419237749547,
          1.0444585601935874,
          1.0097459165154263,
          1.000411373260738,
          1.0252087114337567,
          0.9903266787658802,
          1.012788868723533,
          0.9586448880822745,
          0.9679854809437386,
          1.0623411978221418,
          1.0190018148820326,
          0.9822928009679371,
          0.9491107078039926,
          0.9993587416817907,
          1.0566122202056867,
          1.0004355716878404,
          1.0214095583787053,
          0.9709074410163339,
          1.0535813672111312,
          1.0110102843315183,
          1.0043375680580762,
          0.9848154869933453,
          1.0514337568058076,
          1.0315486993345433,
          1.0146581972171809,
          1.0218451300665456,
          1.009751966122202,
          1.0155958862673926,
          1.0126678765880217,
          1.0131215970961889,
          1.0135692679975803,
          1.0033877797943134,
          1.0308892921960073,
          1.0195220810647307,
          1.0232244404113733,
          1.0114458560193589,
          1.023817301875378,
          0.974422262552934,
          0.996636418632789,
          1.0194797338173018,
          1.0263641863278887,
          1.0086327888687234,
          1.0175922565033273,
          1.0217725347852389,
          0.9907501512401694,
          0.9365880217785845,
          1.0115124016938897,
          0.9133272837265578,
          1.0914398064125832,
          1.0367513611615244,
          1.004137931034483,
          1.043049001814882,
          0.940822746521476,
          1.0453539019963702,
          1.0221234119782214,
          0.9704476709013913,
          1.0369449485783424,
          1.0294797338173018,
          1.0347307924984874,
          1.0268058076225044,
          0.9897519661222022,
          0.9099153055051422,
          0.8183847549909256,
          1.1260314579552329,
          1.072552934059286,
          1.0304174228675136,
          1.0225710828796128,
          1.0605565638233514,
          0.9945130066545675,
          0.9923290986085905,
          1.1583847549909256,
          1.0579612825166365,
          1.0404839685420448,
          1.053793103448276,
          1.0589292196007258,
          1.037652752571083,
          1.0213430127041743,
          1.0207562008469449,
          1.0036418632788868,
          1.025287356321839,
          0.9864851784633998,
          1.0300241984271024,
          0.969933454325469,
          1.0402117362371448,
          0.9256805807622505,
          0.9876830006049606,
          1.003230490018149,
          0.9446763460375075,
          1.0007199032062917,
          0.9249425287356322,
          1.0904295220810647,
          0.9692982456140351,
          0.901373260738052,
          1.0810284331518452,
          1.0552994555353903,
          0.9577374470659408,
          1.0973321234119784,
          0.9889957652752571,
          0.979933454325469,
          1.001318814277072,
          0.9908832425892315,
          1.0624803387779795,
          1.0433393829401088,
          0.9686206896551725,
          0.95978221415608,
          0.9421113127646703,
          1.0877132486388386,
          1.079328493647913,
          0.9853962492437992,
          1.0741379310344827,
          1.0276285541439807,
          0.9559709618874773,
          1.0341621294615853,
          0.9932425892317,
          1.0552510586811856,
          0.9971990320629158,
          0.9666787658802178
         ],
         "type": "scatter"
        },
        {
         "line": {
          "color": "red",
          "width": 2
         },
         "mode": "lines",
         "name": "Train returns",
         "x": [
          "1999-10-01",
          "1999-11-01",
          "1999-12-01",
          "2000-01-01",
          "2000-02-01",
          "2000-03-01",
          "2000-04-01",
          "2000-05-01",
          "2000-06-01",
          "2000-07-01",
          "2000-08-01",
          "2000-09-01",
          "2000-10-01",
          "2000-11-01",
          "2000-12-01",
          "2001-01-01",
          "2001-02-01",
          "2001-03-01",
          "2001-04-01",
          "2001-05-01",
          "2001-06-01",
          "2001-07-01",
          "2001-08-01",
          "2001-09-01",
          "2001-10-01",
          "2001-11-01",
          "2001-12-01",
          "2002-01-01",
          "2002-02-01",
          "2002-03-01",
          "2002-04-01",
          "2002-05-01",
          "2002-06-01",
          "2002-07-01",
          "2002-08-01",
          "2002-09-01",
          "2002-10-01",
          "2002-11-01",
          "2002-12-01",
          "2003-01-01",
          "2003-02-01",
          "2003-03-01",
          "2003-04-01",
          "2003-05-01",
          "2003-06-01",
          "2003-07-01",
          "2003-08-01",
          "2003-09-01",
          "2003-10-01",
          "2003-11-01",
          "2003-12-01",
          "2004-01-01",
          "2004-02-01",
          "2004-03-01",
          "2004-04-01",
          "2004-05-01",
          "2004-06-01",
          "2004-07-01",
          "2004-08-01",
          "2004-09-01",
          "2004-10-01",
          "2004-11-01",
          "2004-12-01",
          "2005-01-01",
          "2005-02-01",
          "2005-03-01",
          "2005-04-01",
          "2005-05-01",
          "2005-06-01",
          "2005-07-01",
          "2005-08-01",
          "2005-09-01",
          "2005-10-01",
          "2005-11-01",
          "2005-12-01",
          "2006-01-01",
          "2006-02-01",
          "2006-03-01",
          "2006-04-01",
          "2006-05-01",
          "2006-06-01",
          "2006-07-01",
          "2006-08-01",
          "2006-09-01",
          "2006-10-01",
          "2006-11-01",
          "2006-12-01",
          "2007-01-01",
          "2007-02-01",
          "2007-03-01",
          "2007-04-01",
          "2007-05-01",
          "2007-06-01",
          "2007-07-01",
          "2007-08-01",
          "2007-09-01",
          "2007-10-01",
          "2007-11-01",
          "2007-12-01",
          "2008-01-01",
          "2008-02-01",
          "2008-03-01",
          "2008-04-01",
          "2008-05-01",
          "2008-06-01",
          "2008-07-01",
          "2008-08-01",
          "2008-09-01",
          "2008-10-01",
          "2008-11-01",
          "2008-12-01",
          "2009-01-01",
          "2009-02-01",
          "2009-03-01",
          "2009-04-01",
          "2009-05-01",
          "2009-06-01",
          "2009-07-01",
          "2009-08-01",
          "2009-09-01",
          "2009-10-01",
          "2009-11-01",
          "2009-12-01",
          "2010-01-01",
          "2010-02-01",
          "2010-03-01",
          "2010-04-01",
          "2010-05-01",
          "2010-06-01",
          "2010-07-01",
          "2010-08-01",
          "2010-09-01",
          "2010-10-01",
          "2010-11-01",
          "2010-12-01",
          "2011-01-01",
          "2011-02-01",
          "2011-03-01",
          "2011-04-01",
          "2011-05-01",
          "2011-06-01",
          "2011-07-01",
          "2011-08-01",
          "2011-09-01",
          "2011-10-01",
          "2011-11-01",
          "2011-12-01",
          "2012-01-01",
          "2012-02-01",
          "2012-03-01",
          "2012-04-01",
          "2012-05-01",
          "2012-06-01",
          "2012-07-01",
          "2012-08-01",
          "2012-09-01",
          "2012-10-01",
          "2012-11-01",
          "2012-12-01",
          "2013-01-01",
          "2013-02-01",
          "2013-03-01",
          "2013-04-01",
          "2013-05-01",
          "2013-06-01",
          "2013-07-01",
          "2013-08-01",
          "2013-09-01",
          "2013-10-01",
          "2013-11-01",
          "2013-12-01",
          "2014-01-01",
          "2014-02-01",
          "2014-03-01",
          "2014-04-01",
          "2014-05-01",
          "2014-06-01",
          "2014-07-01",
          "2014-08-01",
          "2014-09-01",
          "2014-10-01",
          "2014-11-01",
          "2014-12-01",
          "2015-01-01",
          "2015-02-01",
          "2015-03-01",
          "2015-04-01",
          "2015-05-01",
          "2015-06-01",
          "2015-07-01",
          "2015-08-01",
          "2015-09-01",
          "2015-10-01",
          "2015-11-01",
          "2015-12-01",
          "2016-01-01",
          "2016-02-01",
          "2016-03-01",
          "2016-04-01",
          "2016-05-01",
          "2016-06-01",
          "2016-07-01",
          "2016-08-01",
          "2016-09-01",
          "2016-10-01",
          "2016-11-01",
          "2016-12-01",
          "2017-01-01",
          "2017-02-01",
          "2017-03-01",
          "2017-04-01",
          "2017-05-01",
          "2017-06-01",
          "2017-07-01",
          "2017-08-01",
          "2017-09-01",
          "2017-10-01",
          "2017-11-01",
          "2017-12-01",
          "2018-01-01",
          "2018-02-01",
          "2018-03-01",
          "2018-04-01",
          "2018-05-01",
          "2018-06-01",
          "2018-07-01",
          "2018-08-01",
          "2018-09-01",
          "2018-10-01",
          "2018-11-01",
          "2018-12-01",
          "2019-01-01",
          "2019-02-01",
          "2019-03-01",
          "2019-04-01",
          "2019-05-01",
          "2019-06-01",
          "2019-07-01",
          "2019-08-01",
          "2019-09-01",
          "2019-10-01",
          "2019-11-01",
          "2019-12-01",
          "2020-01-01",
          "2020-02-01",
          "2020-03-01",
          "2020-04-01",
          "2020-05-01",
          "2020-06-01",
          "2020-07-01",
          "2020-08-01",
          "2020-09-01",
          "2020-10-01",
          "2020-11-01",
          "2020-12-01",
          "2021-01-01",
          "2021-02-01",
          "2021-03-01",
          "2021-04-01",
          "2021-05-01",
          "2021-06-01",
          "2021-07-01",
          "2021-08-01",
          "2021-09-01",
          "2021-10-01",
          "2021-11-01",
          "2021-12-01",
          "2022-01-01",
          "2022-02-01",
          "2022-03-01",
          "2022-04-01",
          "2022-05-01",
          "2022-06-01",
          "2022-07-01",
          "2022-08-01",
          "2022-09-01",
          "2022-10-01",
          "2022-11-01",
          "2022-12-01",
          "2023-01-01",
          "2023-02-01"
         ],
         "y": [
          1.0057373046875,
          1.0107638835906982,
          1.0072433948516846,
          1.0050439834594727,
          1.0082786083221436,
          1.0091806650161743,
          1.0109649896621704,
          1.0079454183578491,
          1.0087926387786865,
          1.0064022541046143,
          1.0120856761932373,
          1.0061414241790771,
          1.007828950881958,
          1.0060169696807861,
          1.0083240270614624,
          1.009437918663025,
          1.0085560083389282,
          1.0100734233856201,
          1.0065159797668457,
          1.008219838142395,
          1.0071510076522827,
          1.0078977346420288,
          1.0112687349319458,
          1.0072331428527832,
          1.0143122673034668,
          1.007045865058899,
          1.016601800918579,
          1.0118345022201538,
          1.0053366422653198,
          1.0076442956924438,
          1.009562611579895,
          1.0085840225219727,
          1.0095423460006714,
          1.0123573541641235,
          1.0102776288986206,
          1.0084155797958374,
          1.0097428560256958,
          1.0120140314102173,
          1.0117720365524292,
          1.0063230991363525,
          1.009114384651184,
          1.009675145149231,
          1.0101808309555054,
          1.0116697549819946,
          1.0132859945297241,
          1.0067353248596191,
          1.009263515472412,
          1.0082865953445435,
          1.0076110363006592,
          1.007927656173706,
          1.0100468397140503,
          1.0111362934112549,
          1.0057746171951294,
          1.0125755071640015,
          1.009371280670166,
          1.010101318359375,
          1.006703495979309,
          1.0061274766921997,
          1.008339762687683,
          1.008402705192566,
          1.0065393447875977,
          3.6280899047851562,
          1.010266661643982,
          1.0081099271774292,
          1.0046452283859253,
          1.007737159729004,
          1.015921711921692,
          1.0124316215515137,
          1.0095505714416504,
          1.0096970796585083,
          1.007550597190857,
          1.008304476737976,
          1.0069044828414917,
          1.0105022192001343,
          1.009864330291748,
          1.016392707824707,
          1.0138102769851685,
          1.0072784423828125,
          1.0078153610229492,
          1.008230209350586,
          1.0098333358764648,
          1.010095477104187,
          1.0095281600952148,
          1.0074689388275146,
          1.0089356899261475,
          1.008988618850708,
          1.0074912309646606,
          1.007861852645874,
          1.0099573135375977,
          1.0059088468551636,
          1.0147669315338135,
          1.0110809803009033,
          1.0063785314559937,
          1.0075360536575317,
          1.0087021589279175,
          1.0063096284866333,
          1.0046231746673584,
          1.0072605609893799,
          1.0069332122802734,
          1.0071110725402832,
          1.0091661214828491,
          1.0070304870605469,
          1.0120928287506104,
          1.0116111040115356,
          1.007855772972107,
          1.0090596675872803,
          1.0048907995224,
          1.0052490234375,
          0.9997548460960388,
          1.0063201189041138,
          1.0084367990493774,
          1.009009599685669,
          1.0076491832733154,
          1.0060871839523315,
          1.0126310586929321,
          1.0092424154281616,
          1.0055910348892212,
          1.0039747953414917,
          1.0110931396484375,
          1.010202407836914,
          1.008602499961853,
          1.010133981704712,
          1.0130735635757446,
          1.0136407613754272,
          1.0076745748519897,
          1.00771963596344,
          1.0089905261993408,
          1.006567358970642,
          1.0100890398025513,
          1.0062204599380493,
          1.0090603828430176,
          1.007996916770935,
          1.0073360204696655,
          1.008907675743103,
          1.0068449974060059,
          1.0117943286895752,
          1.007217526435852,
          1.0093027353286743,
          1.015783667564392,
          1.0091845989227295,
          1.0078110694885254,
          1.011048436164856,
          1.0042550563812256,
          1.0063034296035767,
          1.1047070026397705,
          1.0087288618087769,
          1.0112260580062866,
          1.0065827369689941,
          1.0122828483581543,
          1.0076820850372314,
          1.0049047470092773,
          1.0105994939804077,
          1.0096657276153564,
          1.016467571258545,
          1.0339159965515137,
          1.003717303276062,
          1.0076156854629517,
          0.9927398562431335,
          0.9660061001777649,
          1.0115044116973877,
          1.0102430582046509,
          1.0058585405349731,
          1.0088509321212769,
          1.0093410015106201,
          1.00521981716156,
          1.0114479064941406,
          1.0069773197174072,
          1.0069363117218018,
          1.0106595754623413,
          1.011318325996399,
          1.006464958190918,
          1.0105646848678589,
          1.0131784677505493,
          1.0074445009231567,
          1.0044511556625366,
          1.0075792074203491,
          1.0101548433303833,
          1.0152498483657837,
          1.0075289011001587,
          1.0134601593017578,
          1.0103646516799927,
          1.0070749521255493,
          1.0119433403015137,
          1.01301908493042,
          1.0035502910614014,
          1.0100696086883545,
          1.004523515701294,
          1.011276364326477,
          1.0069482326507568,
          1.0087157487869263,
          1.0082826614379883,
          1.0042153596878052,
          1.011305809020996,
          1.0103037357330322,
          1.004626989364624,
          1.0085649490356445,
          1.0094671249389648,
          1.0065248012542725,
          1.0049620866775513,
          1.1156963109970093,
          1.0081157684326172,
          1.0072487592697144,
          3.103461980819702,
          1.0085744857788086,
          1.0152555704116821,
          1.0073267221450806,
          1.009308099746704,
          1.0116592645645142,
          1.0089508295059204,
          1.0093358755111694,
          1.00834321975708,
          1.0090839862823486,
          1.009770154953003,
          1.0113732814788818,
          1.0080403089523315,
          1.0198878049850464,
          1.0112924575805664,
          1.0136162042617798,
          1.0089023113250732,
          1.0141667127609253,
          1.0126793384552002,
          1.0080710649490356,
          1.0023256540298462,
          1.016890048980713,
          1.0086952447891235,
          1.0119256973266602,
          1.0066556930541992,
          1.0036461353302002,
          0.9991152882575989,
          1.0100021362304688,
          1.0077084302902222,
          1.0061850547790527,
          1.0114046335220337,
          1.0061964988708496,
          1.007641077041626,
          1.0032529830932617,
          1.0167210102081299,
          1.0062519311904907,
          1.0063382387161255,
          1.006638526916504,
          1.0076208114624023,
          1.007631540298462,
          1.0098265409469604,
          1.0030622482299805,
          1.0122162103652954,
          1.0055302381515503,
          1.0151903629302979,
          1.0104069709777832,
          1.0119175910949707,
          1.012333631515503,
          1.0067205429077148,
          1.0100412368774414,
          1.010345220565796,
          1.0089139938354492,
          1.0077898502349854,
          1.0140719413757324,
          1.007239818572998,
          1.00559663772583,
          1.0079084634780884,
          1.0099081993103027,
          1.0118714570999146,
          1.0158804655075073,
          1.0041007995605469,
          1.007184386253357,
          1.009207010269165,
          1.0092259645462036,
          1.0068095922470093,
          1.005476713180542,
          1.0107253789901733,
          1.0059775114059448,
          1.0082744359970093,
          1.0167092084884644,
          1.009328007698059,
          1.0114089250564575,
          1.012056589126587,
          1.0074381828308105,
          1.0146167278289795,
          1.019981026649475,
          1.0097413063049316,
          1.0068806409835815,
          1.0113487243652344
         ],
         "type": "scatter"
        },
        {
         "line": {
          "color": "green",
          "width": 2
         },
         "mode": "lines",
         "name": "Test returns",
         "x": [
          "2023-02-01",
          "2023-03-01",
          "2023-04-01",
          "2023-05-01",
          "2023-06-01",
          "2023-07-01",
          "2023-08-01",
          "2023-09-01",
          "2023-10-01",
          "2023-11-01",
          "2023-12-01",
          "2024-01-01",
          "2024-02-01",
          "2024-03-01",
          "2024-04-01",
          "2024-05-01",
          "2024-06-01",
          "2024-07-01",
          "2024-08-01",
          "2024-09-01"
         ],
         "y": [
          1.0113487243652344,
          1.0094610452651978,
          1.0142345428466797,
          1.0134918689727783,
          1.0125269889831543,
          1.0153993368148804,
          1.0216025114059448
         ],
         "type": "scatter"
        }
       ],
       "layout": {
        "template": {
         "data": {
          "barpolar": [
           {
            "marker": {
             "line": {
              "color": "white",
              "width": 0.5
             },
             "pattern": {
              "fillmode": "overlay",
              "size": 10,
              "solidity": 0.2
             }
            },
            "type": "barpolar"
           }
          ],
          "bar": [
           {
            "error_x": {
             "color": "#2a3f5f"
            },
            "error_y": {
             "color": "#2a3f5f"
            },
            "marker": {
             "line": {
              "color": "white",
              "width": 0.5
             },
             "pattern": {
              "fillmode": "overlay",
              "size": 10,
              "solidity": 0.2
             }
            },
            "type": "bar"
           }
          ],
          "carpet": [
           {
            "aaxis": {
             "endlinecolor": "#2a3f5f",
             "gridcolor": "#C8D4E3",
             "linecolor": "#C8D4E3",
             "minorgridcolor": "#C8D4E3",
             "startlinecolor": "#2a3f5f"
            },
            "baxis": {
             "endlinecolor": "#2a3f5f",
             "gridcolor": "#C8D4E3",
             "linecolor": "#C8D4E3",
             "minorgridcolor": "#C8D4E3",
             "startlinecolor": "#2a3f5f"
            },
            "type": "carpet"
           }
          ],
          "choropleth": [
           {
            "colorbar": {
             "outlinewidth": 0,
             "ticks": ""
            },
            "type": "choropleth"
           }
          ],
          "contourcarpet": [
           {
            "colorbar": {
             "outlinewidth": 0,
             "ticks": ""
            },
            "type": "contourcarpet"
           }
          ],
          "contour": [
           {
            "colorbar": {
             "outlinewidth": 0,
             "ticks": ""
            },
            "colorscale": [
             [
              0.0,
              "#0d0887"
             ],
             [
              0.1111111111111111,
              "#46039f"
             ],
             [
              0.2222222222222222,
              "#7201a8"
             ],
             [
              0.3333333333333333,
              "#9c179e"
             ],
             [
              0.4444444444444444,
              "#bd3786"
             ],
             [
              0.5555555555555556,
              "#d8576b"
             ],
             [
              0.6666666666666666,
              "#ed7953"
             ],
             [
              0.7777777777777778,
              "#fb9f3a"
             ],
             [
              0.8888888888888888,
              "#fdca26"
             ],
             [
              1.0,
              "#f0f921"
             ]
            ],
            "type": "contour"
           }
          ],
          "heatmapgl": [
           {
            "colorbar": {
             "outlinewidth": 0,
             "ticks": ""
            },
            "colorscale": [
             [
              0.0,
              "#0d0887"
             ],
             [
              0.1111111111111111,
              "#46039f"
             ],
             [
              0.2222222222222222,
              "#7201a8"
             ],
             [
              0.3333333333333333,
              "#9c179e"
             ],
             [
              0.4444444444444444,
              "#bd3786"
             ],
             [
              0.5555555555555556,
              "#d8576b"
             ],
             [
              0.6666666666666666,
              "#ed7953"
             ],
             [
              0.7777777777777778,
              "#fb9f3a"
             ],
             [
              0.8888888888888888,
              "#fdca26"
             ],
             [
              1.0,
              "#f0f921"
             ]
            ],
            "type": "heatmapgl"
           }
          ],
          "heatmap": [
           {
            "colorbar": {
             "outlinewidth": 0,
             "ticks": ""
            },
            "colorscale": [
             [
              0.0,
              "#0d0887"
             ],
             [
              0.1111111111111111,
              "#46039f"
             ],
             [
              0.2222222222222222,
              "#7201a8"
             ],
             [
              0.3333333333333333,
              "#9c179e"
             ],
             [
              0.4444444444444444,
              "#bd3786"
             ],
             [
              0.5555555555555556,
              "#d8576b"
             ],
             [
              0.6666666666666666,
              "#ed7953"
             ],
             [
              0.7777777777777778,
              "#fb9f3a"
             ],
             [
              0.8888888888888888,
              "#fdca26"
             ],
             [
              1.0,
              "#f0f921"
             ]
            ],
            "type": "heatmap"
           }
          ],
          "histogram2dcontour": [
           {
            "colorbar": {
             "outlinewidth": 0,
             "ticks": ""
            },
            "colorscale": [
             [
              0.0,
              "#0d0887"
             ],
             [
              0.1111111111111111,
              "#46039f"
             ],
             [
              0.2222222222222222,
              "#7201a8"
             ],
             [
              0.3333333333333333,
              "#9c179e"
             ],
             [
              0.4444444444444444,
              "#bd3786"
             ],
             [
              0.5555555555555556,
              "#d8576b"
             ],
             [
              0.6666666666666666,
              "#ed7953"
             ],
             [
              0.7777777777777778,
              "#fb9f3a"
             ],
             [
              0.8888888888888888,
              "#fdca26"
             ],
             [
              1.0,
              "#f0f921"
             ]
            ],
            "type": "histogram2dcontour"
           }
          ],
          "histogram2d": [
           {
            "colorbar": {
             "outlinewidth": 0,
             "ticks": ""
            },
            "colorscale": [
             [
              0.0,
              "#0d0887"
             ],
             [
              0.1111111111111111,
              "#46039f"
             ],
             [
              0.2222222222222222,
              "#7201a8"
             ],
             [
              0.3333333333333333,
              "#9c179e"
             ],
             [
              0.4444444444444444,
              "#bd3786"
             ],
             [
              0.5555555555555556,
              "#d8576b"
             ],
             [
              0.6666666666666666,
              "#ed7953"
             ],
             [
              0.7777777777777778,
              "#fb9f3a"
             ],
             [
              0.8888888888888888,
              "#fdca26"
             ],
             [
              1.0,
              "#f0f921"
             ]
            ],
            "type": "histogram2d"
           }
          ],
          "histogram": [
           {
            "marker": {
             "pattern": {
              "fillmode": "overlay",
              "size": 10,
              "solidity": 0.2
             }
            },
            "type": "histogram"
           }
          ],
          "mesh3d": [
           {
            "colorbar": {
             "outlinewidth": 0,
             "ticks": ""
            },
            "type": "mesh3d"
           }
          ],
          "parcoords": [
           {
            "line": {
             "colorbar": {
              "outlinewidth": 0,
              "ticks": ""
             }
            },
            "type": "parcoords"
           }
          ],
          "pie": [
           {
            "automargin": true,
            "type": "pie"
           }
          ],
          "scatter3d": [
           {
            "line": {
             "colorbar": {
              "outlinewidth": 0,
              "ticks": ""
             }
            },
            "marker": {
             "colorbar": {
              "outlinewidth": 0,
              "ticks": ""
             }
            },
            "type": "scatter3d"
           }
          ],
          "scattercarpet": [
           {
            "marker": {
             "colorbar": {
              "outlinewidth": 0,
              "ticks": ""
             }
            },
            "type": "scattercarpet"
           }
          ],
          "scattergeo": [
           {
            "marker": {
             "colorbar": {
              "outlinewidth": 0,
              "ticks": ""
             }
            },
            "type": "scattergeo"
           }
          ],
          "scattergl": [
           {
            "marker": {
             "colorbar": {
              "outlinewidth": 0,
              "ticks": ""
             }
            },
            "type": "scattergl"
           }
          ],
          "scattermapbox": [
           {
            "marker": {
             "colorbar": {
              "outlinewidth": 0,
              "ticks": ""
             }
            },
            "type": "scattermapbox"
           }
          ],
          "scatterpolargl": [
           {
            "marker": {
             "colorbar": {
              "outlinewidth": 0,
              "ticks": ""
             }
            },
            "type": "scatterpolargl"
           }
          ],
          "scatterpolar": [
           {
            "marker": {
             "colorbar": {
              "outlinewidth": 0,
              "ticks": ""
             }
            },
            "type": "scatterpolar"
           }
          ],
          "scatter": [
           {
            "fillpattern": {
             "fillmode": "overlay",
             "size": 10,
             "solidity": 0.2
            },
            "type": "scatter"
           }
          ],
          "scatterternary": [
           {
            "marker": {
             "colorbar": {
              "outlinewidth": 0,
              "ticks": ""
             }
            },
            "type": "scatterternary"
           }
          ],
          "surface": [
           {
            "colorbar": {
             "outlinewidth": 0,
             "ticks": ""
            },
            "colorscale": [
             [
              0.0,
              "#0d0887"
             ],
             [
              0.1111111111111111,
              "#46039f"
             ],
             [
              0.2222222222222222,
              "#7201a8"
             ],
             [
              0.3333333333333333,
              "#9c179e"
             ],
             [
              0.4444444444444444,
              "#bd3786"
             ],
             [
              0.5555555555555556,
              "#d8576b"
             ],
             [
              0.6666666666666666,
              "#ed7953"
             ],
             [
              0.7777777777777778,
              "#fb9f3a"
             ],
             [
              0.8888888888888888,
              "#fdca26"
             ],
             [
              1.0,
              "#f0f921"
             ]
            ],
            "type": "surface"
           }
          ],
          "table": [
           {
            "cells": {
             "fill": {
              "color": "#EBF0F8"
             },
             "line": {
              "color": "white"
             }
            },
            "header": {
             "fill": {
              "color": "#C8D4E3"
             },
             "line": {
              "color": "white"
             }
            },
            "type": "table"
           }
          ]
         },
         "layout": {
          "annotationdefaults": {
           "arrowcolor": "#2a3f5f",
           "arrowhead": 0,
           "arrowwidth": 1
          },
          "autotypenumbers": "strict",
          "coloraxis": {
           "colorbar": {
            "outlinewidth": 0,
            "ticks": ""
           }
          },
          "colorscale": {
           "diverging": [
            [
             0,
             "#8e0152"
            ],
            [
             0.1,
             "#c51b7d"
            ],
            [
             0.2,
             "#de77ae"
            ],
            [
             0.3,
             "#f1b6da"
            ],
            [
             0.4,
             "#fde0ef"
            ],
            [
             0.5,
             "#f7f7f7"
            ],
            [
             0.6,
             "#e6f5d0"
            ],
            [
             0.7,
             "#b8e186"
            ],
            [
             0.8,
             "#7fbc41"
            ],
            [
             0.9,
             "#4d9221"
            ],
            [
             1,
             "#276419"
            ]
           ],
           "sequential": [
            [
             0.0,
             "#0d0887"
            ],
            [
             0.1111111111111111,
             "#46039f"
            ],
            [
             0.2222222222222222,
             "#7201a8"
            ],
            [
             0.3333333333333333,
             "#9c179e"
            ],
            [
             0.4444444444444444,
             "#bd3786"
            ],
            [
             0.5555555555555556,
             "#d8576b"
            ],
            [
             0.6666666666666666,
             "#ed7953"
            ],
            [
             0.7777777777777778,
             "#fb9f3a"
            ],
            [
             0.8888888888888888,
             "#fdca26"
            ],
            [
             1.0,
             "#f0f921"
            ]
           ],
           "sequentialminus": [
            [
             0.0,
             "#0d0887"
            ],
            [
             0.1111111111111111,
             "#46039f"
            ],
            [
             0.2222222222222222,
             "#7201a8"
            ],
            [
             0.3333333333333333,
             "#9c179e"
            ],
            [
             0.4444444444444444,
             "#bd3786"
            ],
            [
             0.5555555555555556,
             "#d8576b"
            ],
            [
             0.6666666666666666,
             "#ed7953"
            ],
            [
             0.7777777777777778,
             "#fb9f3a"
            ],
            [
             0.8888888888888888,
             "#fdca26"
            ],
            [
             1.0,
             "#f0f921"
            ]
           ]
          },
          "colorway": [
           "#636efa",
           "#EF553B",
           "#00cc96",
           "#ab63fa",
           "#FFA15A",
           "#19d3f3",
           "#FF6692",
           "#B6E880",
           "#FF97FF",
           "#FECB52"
          ],
          "font": {
           "color": "#2a3f5f"
          },
          "geo": {
           "bgcolor": "white",
           "lakecolor": "white",
           "landcolor": "white",
           "showlakes": true,
           "showland": true,
           "subunitcolor": "#C8D4E3"
          },
          "hoverlabel": {
           "align": "left"
          },
          "hovermode": "closest",
          "mapbox": {
           "style": "light"
          },
          "paper_bgcolor": "white",
          "plot_bgcolor": "white",
          "polar": {
           "angularaxis": {
            "gridcolor": "#EBF0F8",
            "linecolor": "#EBF0F8",
            "ticks": ""
           },
           "bgcolor": "white",
           "radialaxis": {
            "gridcolor": "#EBF0F8",
            "linecolor": "#EBF0F8",
            "ticks": ""
           }
          },
          "scene": {
           "xaxis": {
            "backgroundcolor": "white",
            "gridcolor": "#DFE8F3",
            "gridwidth": 2,
            "linecolor": "#EBF0F8",
            "showbackground": true,
            "ticks": "",
            "zerolinecolor": "#EBF0F8"
           },
           "yaxis": {
            "backgroundcolor": "white",
            "gridcolor": "#DFE8F3",
            "gridwidth": 2,
            "linecolor": "#EBF0F8",
            "showbackground": true,
            "ticks": "",
            "zerolinecolor": "#EBF0F8"
           },
           "zaxis": {
            "backgroundcolor": "white",
            "gridcolor": "#DFE8F3",
            "gridwidth": 2,
            "linecolor": "#EBF0F8",
            "showbackground": true,
            "ticks": "",
            "zerolinecolor": "#EBF0F8"
           }
          },
          "shapedefaults": {
           "line": {
            "color": "#2a3f5f"
           }
          },
          "ternary": {
           "aaxis": {
            "gridcolor": "#DFE8F3",
            "linecolor": "#A2B1C6",
            "ticks": ""
           },
           "baxis": {
            "gridcolor": "#DFE8F3",
            "linecolor": "#A2B1C6",
            "ticks": ""
           },
           "bgcolor": "white",
           "caxis": {
            "gridcolor": "#DFE8F3",
            "linecolor": "#A2B1C6",
            "ticks": ""
           }
          },
          "title": {
           "x": 0.05
          },
          "xaxis": {
           "automargin": true,
           "gridcolor": "#EBF0F8",
           "linecolor": "#EBF0F8",
           "ticks": "",
           "title": {
            "standoff": 15
           },
           "zerolinecolor": "#EBF0F8",
           "zerolinewidth": 2
          },
          "yaxis": {
           "automargin": true,
           "gridcolor": "#EBF0F8",
           "linecolor": "#EBF0F8",
           "ticks": "",
           "title": {
            "standoff": 15
           },
           "zerolinecolor": "#EBF0F8",
           "zerolinewidth": 2
          }
         }
        },
        "shapes": [
         {
          "line": {
           "color": "red",
           "dash": "dash",
           "width": 1
          },
          "type": "line",
          "x0": "2024-02-01",
          "x1": "2024-02-01",
          "xref": "x",
          "y0": 0,
          "y1": 1,
          "yref": "y domain"
         }
        ],
        "yaxis": {
         "title": {
          "text": "Day closing return (%)"
         },
         "tickformat": ".0%",
         "range": [
          0.75,
          1.6
         ]
        },
        "title": {
         "text": "6 Month Prediction vs Actual Plot"
        },
        "xaxis": {
         "title": {
          "text": "Date"
         }
        },
        "legend": {
         "title": {
          "text": "Legend"
         }
        }
       },
       "config": {
        "plotlyServerURL": "https://plot.ly"
       }
      },
      "text/html": [
       "<div>                            <div id=\"375ca6b9-1674-4639-9dcb-d96ba8d92652\" class=\"plotly-graph-div\" style=\"height:525px; width:100%;\"></div>            <script type=\"text/javascript\">                require([\"plotly\"], function(Plotly) {                    window.PLOTLYENV=window.PLOTLYENV || {};                                    if (document.getElementById(\"375ca6b9-1674-4639-9dcb-d96ba8d92652\")) {                    Plotly.newPlot(                        \"375ca6b9-1674-4639-9dcb-d96ba8d92652\",                        [{\"line\":{\"color\":\"#5c839f\",\"width\":2},\"mode\":\"lines\",\"name\":\"Actual returns\",\"x\":[\"1999-10-01\",\"1999-11-01\",\"1999-12-01\",\"2000-01-01\",\"2000-02-01\",\"2000-03-01\",\"2000-04-01\",\"2000-05-01\",\"2000-06-01\",\"2000-07-01\",\"2000-08-01\",\"2000-09-01\",\"2000-10-01\",\"2000-11-01\",\"2000-12-01\",\"2001-01-01\",\"2001-02-01\",\"2001-03-01\",\"2001-04-01\",\"2001-05-01\",\"2001-06-01\",\"2001-07-01\",\"2001-08-01\",\"2001-09-01\",\"2001-10-01\",\"2001-11-01\",\"2001-12-01\",\"2002-01-01\",\"2002-02-01\",\"2002-03-01\",\"2002-04-01\",\"2002-05-01\",\"2002-06-01\",\"2002-07-01\",\"2002-08-01\",\"2002-09-01\",\"2002-10-01\",\"2002-11-01\",\"2002-12-01\",\"2003-01-01\",\"2003-02-01\",\"2003-03-01\",\"2003-04-01\",\"2003-05-01\",\"2003-06-01\",\"2003-07-01\",\"2003-08-01\",\"2003-09-01\",\"2003-10-01\",\"2003-11-01\",\"2003-12-01\",\"2004-01-01\",\"2004-02-01\",\"2004-03-01\",\"2004-04-01\",\"2004-05-01\",\"2004-06-01\",\"2004-07-01\",\"2004-08-01\",\"2004-09-01\",\"2004-10-01\",\"2004-11-01\",\"2004-12-01\",\"2005-01-01\",\"2005-02-01\",\"2005-03-01\",\"2005-04-01\",\"2005-05-01\",\"2005-06-01\",\"2005-07-01\",\"2005-08-01\",\"2005-09-01\",\"2005-10-01\",\"2005-11-01\",\"2005-12-01\",\"2006-01-01\",\"2006-02-01\",\"2006-03-01\",\"2006-04-01\",\"2006-05-01\",\"2006-06-01\",\"2006-07-01\",\"2006-08-01\",\"2006-09-01\",\"2006-10-01\",\"2006-11-01\",\"2006-12-01\",\"2007-01-01\",\"2007-02-01\",\"2007-03-01\",\"2007-04-01\",\"2007-05-01\",\"2007-06-01\",\"2007-07-01\",\"2007-08-01\",\"2007-09-01\",\"2007-10-01\",\"2007-11-01\",\"2007-12-01\",\"2008-01-01\",\"2008-02-01\",\"2008-03-01\",\"2008-04-01\",\"2008-05-01\",\"2008-06-01\",\"2008-07-01\",\"2008-08-01\",\"2008-09-01\",\"2008-10-01\",\"2008-11-01\",\"2008-12-01\",\"2009-01-01\",\"2009-02-01\",\"2009-03-01\",\"2009-04-01\",\"2009-05-01\",\"2009-06-01\",\"2009-07-01\",\"2009-08-01\",\"2009-09-01\",\"2009-10-01\",\"2009-11-01\",\"2009-12-01\",\"2010-01-01\",\"2010-02-01\",\"2010-03-01\",\"2010-04-01\",\"2010-05-01\",\"2010-06-01\",\"2010-07-01\",\"2010-08-01\",\"2010-09-01\",\"2010-10-01\",\"2010-11-01\",\"2010-12-01\",\"2011-01-01\",\"2011-02-01\",\"2011-03-01\",\"2011-04-01\",\"2011-05-01\",\"2011-06-01\",\"2011-07-01\",\"2011-08-01\",\"2011-09-01\",\"2011-10-01\",\"2011-11-01\",\"2011-12-01\",\"2012-01-01\",\"2012-02-01\",\"2012-03-01\",\"2012-04-01\",\"2012-05-01\",\"2012-06-01\",\"2012-07-01\",\"2012-08-01\",\"2012-09-01\",\"2012-10-01\",\"2012-11-01\",\"2012-12-01\",\"2013-01-01\",\"2013-02-01\",\"2013-03-01\",\"2013-04-01\",\"2013-05-01\",\"2013-06-01\",\"2013-07-01\",\"2013-08-01\",\"2013-09-01\",\"2013-10-01\",\"2013-11-01\",\"2013-12-01\",\"2014-01-01\",\"2014-02-01\",\"2014-03-01\",\"2014-04-01\",\"2014-05-01\",\"2014-06-01\",\"2014-07-01\",\"2014-08-01\",\"2014-09-01\",\"2014-10-01\",\"2014-11-01\",\"2014-12-01\",\"2015-01-01\",\"2015-02-01\",\"2015-03-01\",\"2015-04-01\",\"2015-05-01\",\"2015-06-01\",\"2015-07-01\",\"2015-08-01\",\"2015-09-01\",\"2015-10-01\",\"2015-11-01\",\"2015-12-01\",\"2016-01-01\",\"2016-02-01\",\"2016-03-01\",\"2016-04-01\",\"2016-05-01\",\"2016-06-01\",\"2016-07-01\",\"2016-08-01\",\"2016-09-01\",\"2016-10-01\",\"2016-11-01\",\"2016-12-01\",\"2017-01-01\",\"2017-02-01\",\"2017-03-01\",\"2017-04-01\",\"2017-05-01\",\"2017-06-01\",\"2017-07-01\",\"2017-08-01\",\"2017-09-01\",\"2017-10-01\",\"2017-11-01\",\"2017-12-01\",\"2018-01-01\",\"2018-02-01\",\"2018-03-01\",\"2018-04-01\",\"2018-05-01\",\"2018-06-01\",\"2018-07-01\",\"2018-08-01\",\"2018-09-01\",\"2018-10-01\",\"2018-11-01\",\"2018-12-01\",\"2019-01-01\",\"2019-02-01\",\"2019-03-01\",\"2019-04-01\",\"2019-05-01\",\"2019-06-01\",\"2019-07-01\",\"2019-08-01\",\"2019-09-01\",\"2019-10-01\",\"2019-11-01\",\"2019-12-01\",\"2020-01-01\",\"2020-02-01\",\"2020-03-01\",\"2020-04-01\",\"2020-05-01\",\"2020-06-01\",\"2020-07-01\",\"2020-08-01\",\"2020-09-01\",\"2020-10-01\",\"2020-11-01\",\"2020-12-01\",\"2021-01-01\",\"2021-02-01\",\"2021-03-01\",\"2021-04-01\",\"2021-05-01\",\"2021-06-01\",\"2021-07-01\",\"2021-08-01\",\"2021-09-01\",\"2021-10-01\",\"2021-11-01\",\"2021-12-01\",\"2022-01-01\",\"2022-02-01\",\"2022-03-01\",\"2022-04-01\",\"2022-05-01\",\"2022-06-01\",\"2022-07-01\",\"2022-08-01\",\"2022-09-01\",\"2022-10-01\",\"2022-11-01\",\"2022-12-01\",\"2023-01-01\",\"2023-02-01\",\"2023-03-01\",\"2023-04-01\",\"2023-05-01\",\"2023-06-01\",\"2023-07-01\",\"2023-08-01\",\"2023-09-01\",\"2023-10-01\",\"2023-11-01\",\"2023-12-01\",\"2024-01-01\",\"2024-02-01\",\"2024-03-01\",\"2024-04-01\",\"2024-05-01\",\"2024-06-01\",\"2024-07-01\",\"2024-08-01\",\"2024-09-01\"],\"y\":[null,1.0255474894131882,1.0338354506957046,0.9928735632183908,5.930568663036903,1.02524500907441,0.9939624924379915,0.9817483363581366,1.0329461584996975,0.9952389594676346,1.027350272232305,0.9906291591046583,0.9893103448275862,0.9717422867513611,1.0094071385359953,1.0391651542649727,0.9689776164549303,0.9847489413188143,1.0655414398064127,1.0118451300665456,0.9984392014519057,0.9735087719298245,0.9690865093768906,0.9132849364791288,1.0499274047186933,1.050798548094374,1.0158620689655173,0.9939322444041138,1.0093103448275862,1.050725952813067,1.007102238354507,1.0027646702964308,0.9519721718088325,0.9418874773139746,0.9874833635813671,0.9568905021173624,1.0078644888082275,1.0582516636418633,0.9664125831820932,0.9890199637023595,1.0055716878402905,0.9959830611010285,1.0599516031457954,1.0670054446460981,1.034162129461585,1.508451300665457,1.0614277071990321,1.0038233514821537,1.0498003629764066,1.0042286751361162,1.015849969751966,1.0305263157894737,1.0141560798548095,1.0468421052631578,1.0040834845735027,0.992474289171204,1.0346218995765275,0.9633877797943133,0.9934119782214157,1.0055535390199637,1.0005565638233516,1.0293163944343617,1.053762855414398,1.00643073200242,1.0203811252268602,0.9955595886267392,0.9733030852994556,1.033145795523291,1.0216817906836055,1.0358136721113127,0.9993042952208105,1.1286509376890503,1.0726013309134907,3.2130248033877797,1.0215607985480943,1.0408166969147006,1.0128917120387175,1.027501512401694,1.0092075015124016,0.9686267392619479,0.9991833030852995,0.9856866303690262,1.0248820326678767,1.0297519661222019,1.0213853599516032,1.0188808227465216,1.027979431336963,1.0368723532970356,1.0044404113732608,1.0015849969751967,1.0188082274652148,1.0226194797338173,0.9885843920145191,0.9759286146400484,0.9907501512401694,1.002474289171204,1.0255172413793103,0.9479370840895343,0.9907743496672716,0.9420447670901392,0.9907199032062917,0.9868784029038112,1.0311494252873565,1.02318814277072,0.9375620084694495,0.9950090744101633,1.0215789473684211,0.9273018753781004,0.8458197217180883,0.9447489413188144,1.0413006654567454,0.9497701149425287,0.9416515426497277,1.0697580157289777,1.1476164549304295,1.0432909860859043,1.0350211736237145,1.0623895946763462,1.0552026618269812,1.0322746521476103,0.9779915305505141,1.0015910465819722,1.0513793103448277,0.9896067755595885,1.0185541439806414,1.0590381125226862,1.0449969751966124,0.9456261343012704,0.9619419237749547,1.0388626739261946,0.9645856019358742,1.0696067755595886,1.0163883847549908,1.0275862068965518,1.0584029038112523,1.0119782214156081,1.0324803387779795,1.0016031457955235,1.0198850574712643,0.9949969751966122,0.9972353297035693,0.9830429522081064,0.9474712643678161,0.9529824561403508,1.0689231699939505,0.9843375680580763,1.0002540834845735,1.0593768905021175,1.0995402298850574,1.026303690260133,0.9927465214761042,0.9427586206896552,1.0300241984271024,0.9957652752571083,1.0196672716273443,1.0171506352087114,1.0012038717483362,1.0166848154869934,1.0311736237144584,1.0607924984875983,1.0218390804597701,1.0406836055656383,1.0333696309739866,1.01821536600121,0.990508166969147,1.0369933454325468,0.98346037507562,1.0512159709618873,1.0213430127041743,1.0239806412583181,1.022280701754386,0.9877434966727164,1.0288626739261948,1.0008287961282516,0.9851845130066547,1.0161161524500906,1.0306473079249847,0.9871445856019359,1.026745311554749,0.989491833030853,1.0253115547489413,1.04167574107683,1.0141681790683605,1.0019419237749547,1.0444585601935874,1.0097459165154263,1.000411373260738,1.0252087114337567,0.9903266787658802,1.012788868723533,0.9586448880822745,0.9679854809437386,1.0623411978221418,1.0190018148820326,0.9822928009679371,0.9491107078039926,0.9993587416817907,1.0566122202056867,1.0004355716878404,1.0214095583787053,0.9709074410163339,1.0535813672111312,1.0110102843315183,1.0043375680580762,0.9848154869933453,1.0514337568058076,1.0315486993345433,1.0146581972171809,1.0218451300665456,1.009751966122202,1.0155958862673926,1.0126678765880217,1.0131215970961889,1.0135692679975803,1.0033877797943134,1.0308892921960073,1.0195220810647307,1.0232244404113733,1.0114458560193589,1.023817301875378,0.974422262552934,0.996636418632789,1.0194797338173018,1.0263641863278887,1.0086327888687234,1.0175922565033273,1.0217725347852389,0.9907501512401694,0.9365880217785845,1.0115124016938897,0.9133272837265578,1.0914398064125832,1.0367513611615244,1.004137931034483,1.043049001814882,0.940822746521476,1.0453539019963702,1.0221234119782214,0.9704476709013913,1.0369449485783424,1.0294797338173018,1.0347307924984874,1.0268058076225044,0.9897519661222022,0.9099153055051422,0.8183847549909256,1.1260314579552329,1.072552934059286,1.0304174228675136,1.0225710828796128,1.0605565638233514,0.9945130066545675,0.9923290986085905,1.1583847549909256,1.0579612825166365,1.0404839685420448,1.053793103448276,1.0589292196007258,1.037652752571083,1.0213430127041743,1.0207562008469449,1.0036418632788868,1.025287356321839,0.9864851784633998,1.0300241984271024,0.969933454325469,1.0402117362371448,0.9256805807622505,0.9876830006049606,1.003230490018149,0.9446763460375075,1.0007199032062917,0.9249425287356322,1.0904295220810647,0.9692982456140351,0.901373260738052,1.0810284331518452,1.0552994555353903,0.9577374470659408,1.0973321234119784,0.9889957652752571,0.979933454325469,1.001318814277072,0.9908832425892315,1.0624803387779795,1.0433393829401088,0.9686206896551725,0.95978221415608,0.9421113127646703,1.0877132486388386,1.079328493647913,0.9853962492437992,1.0741379310344827,1.0276285541439807,0.9559709618874773,1.0341621294615853,0.9932425892317,1.0552510586811856,0.9971990320629158,0.9666787658802178],\"type\":\"scatter\"},{\"line\":{\"color\":\"red\",\"width\":2},\"mode\":\"lines\",\"name\":\"Train returns\",\"x\":[\"1999-10-01\",\"1999-11-01\",\"1999-12-01\",\"2000-01-01\",\"2000-02-01\",\"2000-03-01\",\"2000-04-01\",\"2000-05-01\",\"2000-06-01\",\"2000-07-01\",\"2000-08-01\",\"2000-09-01\",\"2000-10-01\",\"2000-11-01\",\"2000-12-01\",\"2001-01-01\",\"2001-02-01\",\"2001-03-01\",\"2001-04-01\",\"2001-05-01\",\"2001-06-01\",\"2001-07-01\",\"2001-08-01\",\"2001-09-01\",\"2001-10-01\",\"2001-11-01\",\"2001-12-01\",\"2002-01-01\",\"2002-02-01\",\"2002-03-01\",\"2002-04-01\",\"2002-05-01\",\"2002-06-01\",\"2002-07-01\",\"2002-08-01\",\"2002-09-01\",\"2002-10-01\",\"2002-11-01\",\"2002-12-01\",\"2003-01-01\",\"2003-02-01\",\"2003-03-01\",\"2003-04-01\",\"2003-05-01\",\"2003-06-01\",\"2003-07-01\",\"2003-08-01\",\"2003-09-01\",\"2003-10-01\",\"2003-11-01\",\"2003-12-01\",\"2004-01-01\",\"2004-02-01\",\"2004-03-01\",\"2004-04-01\",\"2004-05-01\",\"2004-06-01\",\"2004-07-01\",\"2004-08-01\",\"2004-09-01\",\"2004-10-01\",\"2004-11-01\",\"2004-12-01\",\"2005-01-01\",\"2005-02-01\",\"2005-03-01\",\"2005-04-01\",\"2005-05-01\",\"2005-06-01\",\"2005-07-01\",\"2005-08-01\",\"2005-09-01\",\"2005-10-01\",\"2005-11-01\",\"2005-12-01\",\"2006-01-01\",\"2006-02-01\",\"2006-03-01\",\"2006-04-01\",\"2006-05-01\",\"2006-06-01\",\"2006-07-01\",\"2006-08-01\",\"2006-09-01\",\"2006-10-01\",\"2006-11-01\",\"2006-12-01\",\"2007-01-01\",\"2007-02-01\",\"2007-03-01\",\"2007-04-01\",\"2007-05-01\",\"2007-06-01\",\"2007-07-01\",\"2007-08-01\",\"2007-09-01\",\"2007-10-01\",\"2007-11-01\",\"2007-12-01\",\"2008-01-01\",\"2008-02-01\",\"2008-03-01\",\"2008-04-01\",\"2008-05-01\",\"2008-06-01\",\"2008-07-01\",\"2008-08-01\",\"2008-09-01\",\"2008-10-01\",\"2008-11-01\",\"2008-12-01\",\"2009-01-01\",\"2009-02-01\",\"2009-03-01\",\"2009-04-01\",\"2009-05-01\",\"2009-06-01\",\"2009-07-01\",\"2009-08-01\",\"2009-09-01\",\"2009-10-01\",\"2009-11-01\",\"2009-12-01\",\"2010-01-01\",\"2010-02-01\",\"2010-03-01\",\"2010-04-01\",\"2010-05-01\",\"2010-06-01\",\"2010-07-01\",\"2010-08-01\",\"2010-09-01\",\"2010-10-01\",\"2010-11-01\",\"2010-12-01\",\"2011-01-01\",\"2011-02-01\",\"2011-03-01\",\"2011-04-01\",\"2011-05-01\",\"2011-06-01\",\"2011-07-01\",\"2011-08-01\",\"2011-09-01\",\"2011-10-01\",\"2011-11-01\",\"2011-12-01\",\"2012-01-01\",\"2012-02-01\",\"2012-03-01\",\"2012-04-01\",\"2012-05-01\",\"2012-06-01\",\"2012-07-01\",\"2012-08-01\",\"2012-09-01\",\"2012-10-01\",\"2012-11-01\",\"2012-12-01\",\"2013-01-01\",\"2013-02-01\",\"2013-03-01\",\"2013-04-01\",\"2013-05-01\",\"2013-06-01\",\"2013-07-01\",\"2013-08-01\",\"2013-09-01\",\"2013-10-01\",\"2013-11-01\",\"2013-12-01\",\"2014-01-01\",\"2014-02-01\",\"2014-03-01\",\"2014-04-01\",\"2014-05-01\",\"2014-06-01\",\"2014-07-01\",\"2014-08-01\",\"2014-09-01\",\"2014-10-01\",\"2014-11-01\",\"2014-12-01\",\"2015-01-01\",\"2015-02-01\",\"2015-03-01\",\"2015-04-01\",\"2015-05-01\",\"2015-06-01\",\"2015-07-01\",\"2015-08-01\",\"2015-09-01\",\"2015-10-01\",\"2015-11-01\",\"2015-12-01\",\"2016-01-01\",\"2016-02-01\",\"2016-03-01\",\"2016-04-01\",\"2016-05-01\",\"2016-06-01\",\"2016-07-01\",\"2016-08-01\",\"2016-09-01\",\"2016-10-01\",\"2016-11-01\",\"2016-12-01\",\"2017-01-01\",\"2017-02-01\",\"2017-03-01\",\"2017-04-01\",\"2017-05-01\",\"2017-06-01\",\"2017-07-01\",\"2017-08-01\",\"2017-09-01\",\"2017-10-01\",\"2017-11-01\",\"2017-12-01\",\"2018-01-01\",\"2018-02-01\",\"2018-03-01\",\"2018-04-01\",\"2018-05-01\",\"2018-06-01\",\"2018-07-01\",\"2018-08-01\",\"2018-09-01\",\"2018-10-01\",\"2018-11-01\",\"2018-12-01\",\"2019-01-01\",\"2019-02-01\",\"2019-03-01\",\"2019-04-01\",\"2019-05-01\",\"2019-06-01\",\"2019-07-01\",\"2019-08-01\",\"2019-09-01\",\"2019-10-01\",\"2019-11-01\",\"2019-12-01\",\"2020-01-01\",\"2020-02-01\",\"2020-03-01\",\"2020-04-01\",\"2020-05-01\",\"2020-06-01\",\"2020-07-01\",\"2020-08-01\",\"2020-09-01\",\"2020-10-01\",\"2020-11-01\",\"2020-12-01\",\"2021-01-01\",\"2021-02-01\",\"2021-03-01\",\"2021-04-01\",\"2021-05-01\",\"2021-06-01\",\"2021-07-01\",\"2021-08-01\",\"2021-09-01\",\"2021-10-01\",\"2021-11-01\",\"2021-12-01\",\"2022-01-01\",\"2022-02-01\",\"2022-03-01\",\"2022-04-01\",\"2022-05-01\",\"2022-06-01\",\"2022-07-01\",\"2022-08-01\",\"2022-09-01\",\"2022-10-01\",\"2022-11-01\",\"2022-12-01\",\"2023-01-01\",\"2023-02-01\"],\"y\":[1.0057373046875,1.0107638835906982,1.0072433948516846,1.0050439834594727,1.0082786083221436,1.0091806650161743,1.0109649896621704,1.0079454183578491,1.0087926387786865,1.0064022541046143,1.0120856761932373,1.0061414241790771,1.007828950881958,1.0060169696807861,1.0083240270614624,1.009437918663025,1.0085560083389282,1.0100734233856201,1.0065159797668457,1.008219838142395,1.0071510076522827,1.0078977346420288,1.0112687349319458,1.0072331428527832,1.0143122673034668,1.007045865058899,1.016601800918579,1.0118345022201538,1.0053366422653198,1.0076442956924438,1.009562611579895,1.0085840225219727,1.0095423460006714,1.0123573541641235,1.0102776288986206,1.0084155797958374,1.0097428560256958,1.0120140314102173,1.0117720365524292,1.0063230991363525,1.009114384651184,1.009675145149231,1.0101808309555054,1.0116697549819946,1.0132859945297241,1.0067353248596191,1.009263515472412,1.0082865953445435,1.0076110363006592,1.007927656173706,1.0100468397140503,1.0111362934112549,1.0057746171951294,1.0125755071640015,1.009371280670166,1.010101318359375,1.006703495979309,1.0061274766921997,1.008339762687683,1.008402705192566,1.0065393447875977,3.6280899047851562,1.010266661643982,1.0081099271774292,1.0046452283859253,1.007737159729004,1.015921711921692,1.0124316215515137,1.0095505714416504,1.0096970796585083,1.007550597190857,1.008304476737976,1.0069044828414917,1.0105022192001343,1.009864330291748,1.016392707824707,1.0138102769851685,1.0072784423828125,1.0078153610229492,1.008230209350586,1.0098333358764648,1.010095477104187,1.0095281600952148,1.0074689388275146,1.0089356899261475,1.008988618850708,1.0074912309646606,1.007861852645874,1.0099573135375977,1.0059088468551636,1.0147669315338135,1.0110809803009033,1.0063785314559937,1.0075360536575317,1.0087021589279175,1.0063096284866333,1.0046231746673584,1.0072605609893799,1.0069332122802734,1.0071110725402832,1.0091661214828491,1.0070304870605469,1.0120928287506104,1.0116111040115356,1.007855772972107,1.0090596675872803,1.0048907995224,1.0052490234375,0.9997548460960388,1.0063201189041138,1.0084367990493774,1.009009599685669,1.0076491832733154,1.0060871839523315,1.0126310586929321,1.0092424154281616,1.0055910348892212,1.0039747953414917,1.0110931396484375,1.010202407836914,1.008602499961853,1.010133981704712,1.0130735635757446,1.0136407613754272,1.0076745748519897,1.00771963596344,1.0089905261993408,1.006567358970642,1.0100890398025513,1.0062204599380493,1.0090603828430176,1.007996916770935,1.0073360204696655,1.008907675743103,1.0068449974060059,1.0117943286895752,1.007217526435852,1.0093027353286743,1.015783667564392,1.0091845989227295,1.0078110694885254,1.011048436164856,1.0042550563812256,1.0063034296035767,1.1047070026397705,1.0087288618087769,1.0112260580062866,1.0065827369689941,1.0122828483581543,1.0076820850372314,1.0049047470092773,1.0105994939804077,1.0096657276153564,1.016467571258545,1.0339159965515137,1.003717303276062,1.0076156854629517,0.9927398562431335,0.9660061001777649,1.0115044116973877,1.0102430582046509,1.0058585405349731,1.0088509321212769,1.0093410015106201,1.00521981716156,1.0114479064941406,1.0069773197174072,1.0069363117218018,1.0106595754623413,1.011318325996399,1.006464958190918,1.0105646848678589,1.0131784677505493,1.0074445009231567,1.0044511556625366,1.0075792074203491,1.0101548433303833,1.0152498483657837,1.0075289011001587,1.0134601593017578,1.0103646516799927,1.0070749521255493,1.0119433403015137,1.01301908493042,1.0035502910614014,1.0100696086883545,1.004523515701294,1.011276364326477,1.0069482326507568,1.0087157487869263,1.0082826614379883,1.0042153596878052,1.011305809020996,1.0103037357330322,1.004626989364624,1.0085649490356445,1.0094671249389648,1.0065248012542725,1.0049620866775513,1.1156963109970093,1.0081157684326172,1.0072487592697144,3.103461980819702,1.0085744857788086,1.0152555704116821,1.0073267221450806,1.009308099746704,1.0116592645645142,1.0089508295059204,1.0093358755111694,1.00834321975708,1.0090839862823486,1.009770154953003,1.0113732814788818,1.0080403089523315,1.0198878049850464,1.0112924575805664,1.0136162042617798,1.0089023113250732,1.0141667127609253,1.0126793384552002,1.0080710649490356,1.0023256540298462,1.016890048980713,1.0086952447891235,1.0119256973266602,1.0066556930541992,1.0036461353302002,0.9991152882575989,1.0100021362304688,1.0077084302902222,1.0061850547790527,1.0114046335220337,1.0061964988708496,1.007641077041626,1.0032529830932617,1.0167210102081299,1.0062519311904907,1.0063382387161255,1.006638526916504,1.0076208114624023,1.007631540298462,1.0098265409469604,1.0030622482299805,1.0122162103652954,1.0055302381515503,1.0151903629302979,1.0104069709777832,1.0119175910949707,1.012333631515503,1.0067205429077148,1.0100412368774414,1.010345220565796,1.0089139938354492,1.0077898502349854,1.0140719413757324,1.007239818572998,1.00559663772583,1.0079084634780884,1.0099081993103027,1.0118714570999146,1.0158804655075073,1.0041007995605469,1.007184386253357,1.009207010269165,1.0092259645462036,1.0068095922470093,1.005476713180542,1.0107253789901733,1.0059775114059448,1.0082744359970093,1.0167092084884644,1.009328007698059,1.0114089250564575,1.012056589126587,1.0074381828308105,1.0146167278289795,1.019981026649475,1.0097413063049316,1.0068806409835815,1.0113487243652344],\"type\":\"scatter\"},{\"line\":{\"color\":\"green\",\"width\":2},\"mode\":\"lines\",\"name\":\"Test returns\",\"x\":[\"2023-02-01\",\"2023-03-01\",\"2023-04-01\",\"2023-05-01\",\"2023-06-01\",\"2023-07-01\",\"2023-08-01\",\"2023-09-01\",\"2023-10-01\",\"2023-11-01\",\"2023-12-01\",\"2024-01-01\",\"2024-02-01\",\"2024-03-01\",\"2024-04-01\",\"2024-05-01\",\"2024-06-01\",\"2024-07-01\",\"2024-08-01\",\"2024-09-01\"],\"y\":[1.0113487243652344,1.0094610452651978,1.0142345428466797,1.0134918689727783,1.0125269889831543,1.0153993368148804,1.0216025114059448],\"type\":\"scatter\"}],                        {\"template\":{\"data\":{\"barpolar\":[{\"marker\":{\"line\":{\"color\":\"white\",\"width\":0.5},\"pattern\":{\"fillmode\":\"overlay\",\"size\":10,\"solidity\":0.2}},\"type\":\"barpolar\"}],\"bar\":[{\"error_x\":{\"color\":\"#2a3f5f\"},\"error_y\":{\"color\":\"#2a3f5f\"},\"marker\":{\"line\":{\"color\":\"white\",\"width\":0.5},\"pattern\":{\"fillmode\":\"overlay\",\"size\":10,\"solidity\":0.2}},\"type\":\"bar\"}],\"carpet\":[{\"aaxis\":{\"endlinecolor\":\"#2a3f5f\",\"gridcolor\":\"#C8D4E3\",\"linecolor\":\"#C8D4E3\",\"minorgridcolor\":\"#C8D4E3\",\"startlinecolor\":\"#2a3f5f\"},\"baxis\":{\"endlinecolor\":\"#2a3f5f\",\"gridcolor\":\"#C8D4E3\",\"linecolor\":\"#C8D4E3\",\"minorgridcolor\":\"#C8D4E3\",\"startlinecolor\":\"#2a3f5f\"},\"type\":\"carpet\"}],\"choropleth\":[{\"colorbar\":{\"outlinewidth\":0,\"ticks\":\"\"},\"type\":\"choropleth\"}],\"contourcarpet\":[{\"colorbar\":{\"outlinewidth\":0,\"ticks\":\"\"},\"type\":\"contourcarpet\"}],\"contour\":[{\"colorbar\":{\"outlinewidth\":0,\"ticks\":\"\"},\"colorscale\":[[0.0,\"#0d0887\"],[0.1111111111111111,\"#46039f\"],[0.2222222222222222,\"#7201a8\"],[0.3333333333333333,\"#9c179e\"],[0.4444444444444444,\"#bd3786\"],[0.5555555555555556,\"#d8576b\"],[0.6666666666666666,\"#ed7953\"],[0.7777777777777778,\"#fb9f3a\"],[0.8888888888888888,\"#fdca26\"],[1.0,\"#f0f921\"]],\"type\":\"contour\"}],\"heatmapgl\":[{\"colorbar\":{\"outlinewidth\":0,\"ticks\":\"\"},\"colorscale\":[[0.0,\"#0d0887\"],[0.1111111111111111,\"#46039f\"],[0.2222222222222222,\"#7201a8\"],[0.3333333333333333,\"#9c179e\"],[0.4444444444444444,\"#bd3786\"],[0.5555555555555556,\"#d8576b\"],[0.6666666666666666,\"#ed7953\"],[0.7777777777777778,\"#fb9f3a\"],[0.8888888888888888,\"#fdca26\"],[1.0,\"#f0f921\"]],\"type\":\"heatmapgl\"}],\"heatmap\":[{\"colorbar\":{\"outlinewidth\":0,\"ticks\":\"\"},\"colorscale\":[[0.0,\"#0d0887\"],[0.1111111111111111,\"#46039f\"],[0.2222222222222222,\"#7201a8\"],[0.3333333333333333,\"#9c179e\"],[0.4444444444444444,\"#bd3786\"],[0.5555555555555556,\"#d8576b\"],[0.6666666666666666,\"#ed7953\"],[0.7777777777777778,\"#fb9f3a\"],[0.8888888888888888,\"#fdca26\"],[1.0,\"#f0f921\"]],\"type\":\"heatmap\"}],\"histogram2dcontour\":[{\"colorbar\":{\"outlinewidth\":0,\"ticks\":\"\"},\"colorscale\":[[0.0,\"#0d0887\"],[0.1111111111111111,\"#46039f\"],[0.2222222222222222,\"#7201a8\"],[0.3333333333333333,\"#9c179e\"],[0.4444444444444444,\"#bd3786\"],[0.5555555555555556,\"#d8576b\"],[0.6666666666666666,\"#ed7953\"],[0.7777777777777778,\"#fb9f3a\"],[0.8888888888888888,\"#fdca26\"],[1.0,\"#f0f921\"]],\"type\":\"histogram2dcontour\"}],\"histogram2d\":[{\"colorbar\":{\"outlinewidth\":0,\"ticks\":\"\"},\"colorscale\":[[0.0,\"#0d0887\"],[0.1111111111111111,\"#46039f\"],[0.2222222222222222,\"#7201a8\"],[0.3333333333333333,\"#9c179e\"],[0.4444444444444444,\"#bd3786\"],[0.5555555555555556,\"#d8576b\"],[0.6666666666666666,\"#ed7953\"],[0.7777777777777778,\"#fb9f3a\"],[0.8888888888888888,\"#fdca26\"],[1.0,\"#f0f921\"]],\"type\":\"histogram2d\"}],\"histogram\":[{\"marker\":{\"pattern\":{\"fillmode\":\"overlay\",\"size\":10,\"solidity\":0.2}},\"type\":\"histogram\"}],\"mesh3d\":[{\"colorbar\":{\"outlinewidth\":0,\"ticks\":\"\"},\"type\":\"mesh3d\"}],\"parcoords\":[{\"line\":{\"colorbar\":{\"outlinewidth\":0,\"ticks\":\"\"}},\"type\":\"parcoords\"}],\"pie\":[{\"automargin\":true,\"type\":\"pie\"}],\"scatter3d\":[{\"line\":{\"colorbar\":{\"outlinewidth\":0,\"ticks\":\"\"}},\"marker\":{\"colorbar\":{\"outlinewidth\":0,\"ticks\":\"\"}},\"type\":\"scatter3d\"}],\"scattercarpet\":[{\"marker\":{\"colorbar\":{\"outlinewidth\":0,\"ticks\":\"\"}},\"type\":\"scattercarpet\"}],\"scattergeo\":[{\"marker\":{\"colorbar\":{\"outlinewidth\":0,\"ticks\":\"\"}},\"type\":\"scattergeo\"}],\"scattergl\":[{\"marker\":{\"colorbar\":{\"outlinewidth\":0,\"ticks\":\"\"}},\"type\":\"scattergl\"}],\"scattermapbox\":[{\"marker\":{\"colorbar\":{\"outlinewidth\":0,\"ticks\":\"\"}},\"type\":\"scattermapbox\"}],\"scatterpolargl\":[{\"marker\":{\"colorbar\":{\"outlinewidth\":0,\"ticks\":\"\"}},\"type\":\"scatterpolargl\"}],\"scatterpolar\":[{\"marker\":{\"colorbar\":{\"outlinewidth\":0,\"ticks\":\"\"}},\"type\":\"scatterpolar\"}],\"scatter\":[{\"fillpattern\":{\"fillmode\":\"overlay\",\"size\":10,\"solidity\":0.2},\"type\":\"scatter\"}],\"scatterternary\":[{\"marker\":{\"colorbar\":{\"outlinewidth\":0,\"ticks\":\"\"}},\"type\":\"scatterternary\"}],\"surface\":[{\"colorbar\":{\"outlinewidth\":0,\"ticks\":\"\"},\"colorscale\":[[0.0,\"#0d0887\"],[0.1111111111111111,\"#46039f\"],[0.2222222222222222,\"#7201a8\"],[0.3333333333333333,\"#9c179e\"],[0.4444444444444444,\"#bd3786\"],[0.5555555555555556,\"#d8576b\"],[0.6666666666666666,\"#ed7953\"],[0.7777777777777778,\"#fb9f3a\"],[0.8888888888888888,\"#fdca26\"],[1.0,\"#f0f921\"]],\"type\":\"surface\"}],\"table\":[{\"cells\":{\"fill\":{\"color\":\"#EBF0F8\"},\"line\":{\"color\":\"white\"}},\"header\":{\"fill\":{\"color\":\"#C8D4E3\"},\"line\":{\"color\":\"white\"}},\"type\":\"table\"}]},\"layout\":{\"annotationdefaults\":{\"arrowcolor\":\"#2a3f5f\",\"arrowhead\":0,\"arrowwidth\":1},\"autotypenumbers\":\"strict\",\"coloraxis\":{\"colorbar\":{\"outlinewidth\":0,\"ticks\":\"\"}},\"colorscale\":{\"diverging\":[[0,\"#8e0152\"],[0.1,\"#c51b7d\"],[0.2,\"#de77ae\"],[0.3,\"#f1b6da\"],[0.4,\"#fde0ef\"],[0.5,\"#f7f7f7\"],[0.6,\"#e6f5d0\"],[0.7,\"#b8e186\"],[0.8,\"#7fbc41\"],[0.9,\"#4d9221\"],[1,\"#276419\"]],\"sequential\":[[0.0,\"#0d0887\"],[0.1111111111111111,\"#46039f\"],[0.2222222222222222,\"#7201a8\"],[0.3333333333333333,\"#9c179e\"],[0.4444444444444444,\"#bd3786\"],[0.5555555555555556,\"#d8576b\"],[0.6666666666666666,\"#ed7953\"],[0.7777777777777778,\"#fb9f3a\"],[0.8888888888888888,\"#fdca26\"],[1.0,\"#f0f921\"]],\"sequentialminus\":[[0.0,\"#0d0887\"],[0.1111111111111111,\"#46039f\"],[0.2222222222222222,\"#7201a8\"],[0.3333333333333333,\"#9c179e\"],[0.4444444444444444,\"#bd3786\"],[0.5555555555555556,\"#d8576b\"],[0.6666666666666666,\"#ed7953\"],[0.7777777777777778,\"#fb9f3a\"],[0.8888888888888888,\"#fdca26\"],[1.0,\"#f0f921\"]]},\"colorway\":[\"#636efa\",\"#EF553B\",\"#00cc96\",\"#ab63fa\",\"#FFA15A\",\"#19d3f3\",\"#FF6692\",\"#B6E880\",\"#FF97FF\",\"#FECB52\"],\"font\":{\"color\":\"#2a3f5f\"},\"geo\":{\"bgcolor\":\"white\",\"lakecolor\":\"white\",\"landcolor\":\"white\",\"showlakes\":true,\"showland\":true,\"subunitcolor\":\"#C8D4E3\"},\"hoverlabel\":{\"align\":\"left\"},\"hovermode\":\"closest\",\"mapbox\":{\"style\":\"light\"},\"paper_bgcolor\":\"white\",\"plot_bgcolor\":\"white\",\"polar\":{\"angularaxis\":{\"gridcolor\":\"#EBF0F8\",\"linecolor\":\"#EBF0F8\",\"ticks\":\"\"},\"bgcolor\":\"white\",\"radialaxis\":{\"gridcolor\":\"#EBF0F8\",\"linecolor\":\"#EBF0F8\",\"ticks\":\"\"}},\"scene\":{\"xaxis\":{\"backgroundcolor\":\"white\",\"gridcolor\":\"#DFE8F3\",\"gridwidth\":2,\"linecolor\":\"#EBF0F8\",\"showbackground\":true,\"ticks\":\"\",\"zerolinecolor\":\"#EBF0F8\"},\"yaxis\":{\"backgroundcolor\":\"white\",\"gridcolor\":\"#DFE8F3\",\"gridwidth\":2,\"linecolor\":\"#EBF0F8\",\"showbackground\":true,\"ticks\":\"\",\"zerolinecolor\":\"#EBF0F8\"},\"zaxis\":{\"backgroundcolor\":\"white\",\"gridcolor\":\"#DFE8F3\",\"gridwidth\":2,\"linecolor\":\"#EBF0F8\",\"showbackground\":true,\"ticks\":\"\",\"zerolinecolor\":\"#EBF0F8\"}},\"shapedefaults\":{\"line\":{\"color\":\"#2a3f5f\"}},\"ternary\":{\"aaxis\":{\"gridcolor\":\"#DFE8F3\",\"linecolor\":\"#A2B1C6\",\"ticks\":\"\"},\"baxis\":{\"gridcolor\":\"#DFE8F3\",\"linecolor\":\"#A2B1C6\",\"ticks\":\"\"},\"bgcolor\":\"white\",\"caxis\":{\"gridcolor\":\"#DFE8F3\",\"linecolor\":\"#A2B1C6\",\"ticks\":\"\"}},\"title\":{\"x\":0.05},\"xaxis\":{\"automargin\":true,\"gridcolor\":\"#EBF0F8\",\"linecolor\":\"#EBF0F8\",\"ticks\":\"\",\"title\":{\"standoff\":15},\"zerolinecolor\":\"#EBF0F8\",\"zerolinewidth\":2},\"yaxis\":{\"automargin\":true,\"gridcolor\":\"#EBF0F8\",\"linecolor\":\"#EBF0F8\",\"ticks\":\"\",\"title\":{\"standoff\":15},\"zerolinecolor\":\"#EBF0F8\",\"zerolinewidth\":2}}},\"shapes\":[{\"line\":{\"color\":\"red\",\"dash\":\"dash\",\"width\":1},\"type\":\"line\",\"x0\":\"2024-02-01\",\"x1\":\"2024-02-01\",\"xref\":\"x\",\"y0\":0,\"y1\":1,\"yref\":\"y domain\"}],\"yaxis\":{\"title\":{\"text\":\"Day closing return (%)\"},\"tickformat\":\".0%\",\"range\":[0.75,1.6]},\"title\":{\"text\":\"6 Month Prediction vs Actual Plot\"},\"xaxis\":{\"title\":{\"text\":\"Date\"}},\"legend\":{\"title\":{\"text\":\"Legend\"}}},                        {\"responsive\": true}                    ).then(function(){\n",
       "                            \n",
       "var gd = document.getElementById('375ca6b9-1674-4639-9dcb-d96ba8d92652');\n",
       "var x = new MutationObserver(function (mutations, observer) {{\n",
       "        var display = window.getComputedStyle(gd).display;\n",
       "        if (!display || display === 'none') {{\n",
       "            console.log([gd, 'removed!']);\n",
       "            Plotly.purge(gd);\n",
       "            observer.disconnect();\n",
       "        }}\n",
       "}});\n",
       "\n",
       "// Listen for the removal of the full notebook cells\n",
       "var notebookContainer = gd.closest('#notebook-container');\n",
       "if (notebookContainer) {{\n",
       "    x.observe(notebookContainer, {childList: true});\n",
       "}}\n",
       "\n",
       "// Listen for the clearing of the current output cell\n",
       "var outputEl = gd.closest('.output');\n",
       "if (outputEl) {{\n",
       "    x.observe(outputEl, {childList: true});\n",
       "}}\n",
       "\n",
       "                        })                };                });            </script>        </div>"
      ]
     },
     "metadata": {},
     "output_type": "display_data"
    }
   ],
   "execution_count": 295
  },
  {
   "metadata": {},
   "cell_type": "markdown",
   "source": "## 12 Months",
   "id": "d780a819974a3cd7"
  },
  {
   "metadata": {
    "ExecuteTime": {
     "end_time": "2025-03-31T23:19:08.847755Z",
     "start_time": "2025-03-31T23:19:08.756664Z"
    }
   },
   "cell_type": "code",
   "source": [
    "months_12m = 12\n",
    "X_train_12m, y_train_12m, X_test_12m, y_test_12m = train_test.get_train_test(df_tabular, months=12)"
   ],
   "id": "e0761b0302e87c93",
   "outputs": [],
   "execution_count": 296
  },
  {
   "metadata": {
    "ExecuteTime": {
     "end_time": "2025-03-31T23:19:10.406217Z",
     "start_time": "2025-03-31T23:19:08.852471Z"
    }
   },
   "cell_type": "code",
   "source": [
    "# Predictions\n",
    "y_train_pred_12m = model.predict(X_train_12m)\n",
    "y_test_pred_12m = model.predict(X_test_12m)"
   ],
   "id": "7a78ee9acb0beda2",
   "outputs": [],
   "execution_count": 297
  },
  {
   "metadata": {},
   "cell_type": "markdown",
   "source": "#### Train-Data",
   "id": "130a1b553b890c2b"
  },
  {
   "metadata": {
    "ExecuteTime": {
     "end_time": "2025-03-31T23:19:10.411637Z",
     "start_time": "2025-03-31T23:19:10.408857Z"
    }
   },
   "cell_type": "code",
   "source": "y_train_pred_12m, y_test_pred_12m = get_tt_pred(y_train_pred_12m, y_test_pred_12m)",
   "id": "7dbda15b051b6071",
   "outputs": [],
   "execution_count": 298
  },
  {
   "metadata": {},
   "cell_type": "markdown",
   "source": "#### Actual vs Prediction plot",
   "id": "6c2e81220c2489a"
  },
  {
   "metadata": {
    "ExecuteTime": {
     "end_time": "2025-03-31T23:19:10.450252Z",
     "start_time": "2025-03-31T23:19:10.414167Z"
    }
   },
   "cell_type": "code",
   "source": "generate_plot(df, y_train_pred_12m, y_test_pred_12m)",
   "id": "fae7b2daecff5839",
   "outputs": [
    {
     "data": {
      "application/vnd.plotly.v1+json": {
       "data": [
        {
         "line": {
          "color": "#5c839f",
          "width": 2
         },
         "mode": "lines",
         "name": "Actual returns",
         "x": [
          "1999-10-01",
          "1999-11-01",
          "1999-12-01",
          "2000-01-01",
          "2000-02-01",
          "2000-03-01",
          "2000-04-01",
          "2000-05-01",
          "2000-06-01",
          "2000-07-01",
          "2000-08-01",
          "2000-09-01",
          "2000-10-01",
          "2000-11-01",
          "2000-12-01",
          "2001-01-01",
          "2001-02-01",
          "2001-03-01",
          "2001-04-01",
          "2001-05-01",
          "2001-06-01",
          "2001-07-01",
          "2001-08-01",
          "2001-09-01",
          "2001-10-01",
          "2001-11-01",
          "2001-12-01",
          "2002-01-01",
          "2002-02-01",
          "2002-03-01",
          "2002-04-01",
          "2002-05-01",
          "2002-06-01",
          "2002-07-01",
          "2002-08-01",
          "2002-09-01",
          "2002-10-01",
          "2002-11-01",
          "2002-12-01",
          "2003-01-01",
          "2003-02-01",
          "2003-03-01",
          "2003-04-01",
          "2003-05-01",
          "2003-06-01",
          "2003-07-01",
          "2003-08-01",
          "2003-09-01",
          "2003-10-01",
          "2003-11-01",
          "2003-12-01",
          "2004-01-01",
          "2004-02-01",
          "2004-03-01",
          "2004-04-01",
          "2004-05-01",
          "2004-06-01",
          "2004-07-01",
          "2004-08-01",
          "2004-09-01",
          "2004-10-01",
          "2004-11-01",
          "2004-12-01",
          "2005-01-01",
          "2005-02-01",
          "2005-03-01",
          "2005-04-01",
          "2005-05-01",
          "2005-06-01",
          "2005-07-01",
          "2005-08-01",
          "2005-09-01",
          "2005-10-01",
          "2005-11-01",
          "2005-12-01",
          "2006-01-01",
          "2006-02-01",
          "2006-03-01",
          "2006-04-01",
          "2006-05-01",
          "2006-06-01",
          "2006-07-01",
          "2006-08-01",
          "2006-09-01",
          "2006-10-01",
          "2006-11-01",
          "2006-12-01",
          "2007-01-01",
          "2007-02-01",
          "2007-03-01",
          "2007-04-01",
          "2007-05-01",
          "2007-06-01",
          "2007-07-01",
          "2007-08-01",
          "2007-09-01",
          "2007-10-01",
          "2007-11-01",
          "2007-12-01",
          "2008-01-01",
          "2008-02-01",
          "2008-03-01",
          "2008-04-01",
          "2008-05-01",
          "2008-06-01",
          "2008-07-01",
          "2008-08-01",
          "2008-09-01",
          "2008-10-01",
          "2008-11-01",
          "2008-12-01",
          "2009-01-01",
          "2009-02-01",
          "2009-03-01",
          "2009-04-01",
          "2009-05-01",
          "2009-06-01",
          "2009-07-01",
          "2009-08-01",
          "2009-09-01",
          "2009-10-01",
          "2009-11-01",
          "2009-12-01",
          "2010-01-01",
          "2010-02-01",
          "2010-03-01",
          "2010-04-01",
          "2010-05-01",
          "2010-06-01",
          "2010-07-01",
          "2010-08-01",
          "2010-09-01",
          "2010-10-01",
          "2010-11-01",
          "2010-12-01",
          "2011-01-01",
          "2011-02-01",
          "2011-03-01",
          "2011-04-01",
          "2011-05-01",
          "2011-06-01",
          "2011-07-01",
          "2011-08-01",
          "2011-09-01",
          "2011-10-01",
          "2011-11-01",
          "2011-12-01",
          "2012-01-01",
          "2012-02-01",
          "2012-03-01",
          "2012-04-01",
          "2012-05-01",
          "2012-06-01",
          "2012-07-01",
          "2012-08-01",
          "2012-09-01",
          "2012-10-01",
          "2012-11-01",
          "2012-12-01",
          "2013-01-01",
          "2013-02-01",
          "2013-03-01",
          "2013-04-01",
          "2013-05-01",
          "2013-06-01",
          "2013-07-01",
          "2013-08-01",
          "2013-09-01",
          "2013-10-01",
          "2013-11-01",
          "2013-12-01",
          "2014-01-01",
          "2014-02-01",
          "2014-03-01",
          "2014-04-01",
          "2014-05-01",
          "2014-06-01",
          "2014-07-01",
          "2014-08-01",
          "2014-09-01",
          "2014-10-01",
          "2014-11-01",
          "2014-12-01",
          "2015-01-01",
          "2015-02-01",
          "2015-03-01",
          "2015-04-01",
          "2015-05-01",
          "2015-06-01",
          "2015-07-01",
          "2015-08-01",
          "2015-09-01",
          "2015-10-01",
          "2015-11-01",
          "2015-12-01",
          "2016-01-01",
          "2016-02-01",
          "2016-03-01",
          "2016-04-01",
          "2016-05-01",
          "2016-06-01",
          "2016-07-01",
          "2016-08-01",
          "2016-09-01",
          "2016-10-01",
          "2016-11-01",
          "2016-12-01",
          "2017-01-01",
          "2017-02-01",
          "2017-03-01",
          "2017-04-01",
          "2017-05-01",
          "2017-06-01",
          "2017-07-01",
          "2017-08-01",
          "2017-09-01",
          "2017-10-01",
          "2017-11-01",
          "2017-12-01",
          "2018-01-01",
          "2018-02-01",
          "2018-03-01",
          "2018-04-01",
          "2018-05-01",
          "2018-06-01",
          "2018-07-01",
          "2018-08-01",
          "2018-09-01",
          "2018-10-01",
          "2018-11-01",
          "2018-12-01",
          "2019-01-01",
          "2019-02-01",
          "2019-03-01",
          "2019-04-01",
          "2019-05-01",
          "2019-06-01",
          "2019-07-01",
          "2019-08-01",
          "2019-09-01",
          "2019-10-01",
          "2019-11-01",
          "2019-12-01",
          "2020-01-01",
          "2020-02-01",
          "2020-03-01",
          "2020-04-01",
          "2020-05-01",
          "2020-06-01",
          "2020-07-01",
          "2020-08-01",
          "2020-09-01",
          "2020-10-01",
          "2020-11-01",
          "2020-12-01",
          "2021-01-01",
          "2021-02-01",
          "2021-03-01",
          "2021-04-01",
          "2021-05-01",
          "2021-06-01",
          "2021-07-01",
          "2021-08-01",
          "2021-09-01",
          "2021-10-01",
          "2021-11-01",
          "2021-12-01",
          "2022-01-01",
          "2022-02-01",
          "2022-03-01",
          "2022-04-01",
          "2022-05-01",
          "2022-06-01",
          "2022-07-01",
          "2022-08-01",
          "2022-09-01",
          "2022-10-01",
          "2022-11-01",
          "2022-12-01",
          "2023-01-01",
          "2023-02-01",
          "2023-03-01",
          "2023-04-01",
          "2023-05-01",
          "2023-06-01",
          "2023-07-01",
          "2023-08-01",
          "2023-09-01",
          "2023-10-01",
          "2023-11-01",
          "2023-12-01",
          "2024-01-01",
          "2024-02-01",
          "2024-03-01",
          "2024-04-01",
          "2024-05-01",
          "2024-06-01",
          "2024-07-01",
          "2024-08-01",
          "2024-09-01"
         ],
         "y": [
          null,
          1.0255474894131882,
          1.0338354506957046,
          0.9928735632183908,
          5.930568663036903,
          1.02524500907441,
          0.9939624924379915,
          0.9817483363581366,
          1.0329461584996975,
          0.9952389594676346,
          1.027350272232305,
          0.9906291591046583,
          0.9893103448275862,
          0.9717422867513611,
          1.0094071385359953,
          1.0391651542649727,
          0.9689776164549303,
          0.9847489413188143,
          1.0655414398064127,
          1.0118451300665456,
          0.9984392014519057,
          0.9735087719298245,
          0.9690865093768906,
          0.9132849364791288,
          1.0499274047186933,
          1.050798548094374,
          1.0158620689655173,
          0.9939322444041138,
          1.0093103448275862,
          1.050725952813067,
          1.007102238354507,
          1.0027646702964308,
          0.9519721718088325,
          0.9418874773139746,
          0.9874833635813671,
          0.9568905021173624,
          1.0078644888082275,
          1.0582516636418633,
          0.9664125831820932,
          0.9890199637023595,
          1.0055716878402905,
          0.9959830611010285,
          1.0599516031457954,
          1.0670054446460981,
          1.034162129461585,
          1.508451300665457,
          1.0614277071990321,
          1.0038233514821537,
          1.0498003629764066,
          1.0042286751361162,
          1.015849969751966,
          1.0305263157894737,
          1.0141560798548095,
          1.0468421052631578,
          1.0040834845735027,
          0.992474289171204,
          1.0346218995765275,
          0.9633877797943133,
          0.9934119782214157,
          1.0055535390199637,
          1.0005565638233516,
          1.0293163944343617,
          1.053762855414398,
          1.00643073200242,
          1.0203811252268602,
          0.9955595886267392,
          0.9733030852994556,
          1.033145795523291,
          1.0216817906836055,
          1.0358136721113127,
          0.9993042952208105,
          1.1286509376890503,
          1.0726013309134907,
          3.2130248033877797,
          1.0215607985480943,
          1.0408166969147006,
          1.0128917120387175,
          1.027501512401694,
          1.0092075015124016,
          0.9686267392619479,
          0.9991833030852995,
          0.9856866303690262,
          1.0248820326678767,
          1.0297519661222019,
          1.0213853599516032,
          1.0188808227465216,
          1.027979431336963,
          1.0368723532970356,
          1.0044404113732608,
          1.0015849969751967,
          1.0188082274652148,
          1.0226194797338173,
          0.9885843920145191,
          0.9759286146400484,
          0.9907501512401694,
          1.002474289171204,
          1.0255172413793103,
          0.9479370840895343,
          0.9907743496672716,
          0.9420447670901392,
          0.9907199032062917,
          0.9868784029038112,
          1.0311494252873565,
          1.02318814277072,
          0.9375620084694495,
          0.9950090744101633,
          1.0215789473684211,
          0.9273018753781004,
          0.8458197217180883,
          0.9447489413188144,
          1.0413006654567454,
          0.9497701149425287,
          0.9416515426497277,
          1.0697580157289777,
          1.1476164549304295,
          1.0432909860859043,
          1.0350211736237145,
          1.0623895946763462,
          1.0552026618269812,
          1.0322746521476103,
          0.9779915305505141,
          1.0015910465819722,
          1.0513793103448277,
          0.9896067755595885,
          1.0185541439806414,
          1.0590381125226862,
          1.0449969751966124,
          0.9456261343012704,
          0.9619419237749547,
          1.0388626739261946,
          0.9645856019358742,
          1.0696067755595886,
          1.0163883847549908,
          1.0275862068965518,
          1.0584029038112523,
          1.0119782214156081,
          1.0324803387779795,
          1.0016031457955235,
          1.0198850574712643,
          0.9949969751966122,
          0.9972353297035693,
          0.9830429522081064,
          0.9474712643678161,
          0.9529824561403508,
          1.0689231699939505,
          0.9843375680580763,
          1.0002540834845735,
          1.0593768905021175,
          1.0995402298850574,
          1.026303690260133,
          0.9927465214761042,
          0.9427586206896552,
          1.0300241984271024,
          0.9957652752571083,
          1.0196672716273443,
          1.0171506352087114,
          1.0012038717483362,
          1.0166848154869934,
          1.0311736237144584,
          1.0607924984875983,
          1.0218390804597701,
          1.0406836055656383,
          1.0333696309739866,
          1.01821536600121,
          0.990508166969147,
          1.0369933454325468,
          0.98346037507562,
          1.0512159709618873,
          1.0213430127041743,
          1.0239806412583181,
          1.022280701754386,
          0.9877434966727164,
          1.0288626739261948,
          1.0008287961282516,
          0.9851845130066547,
          1.0161161524500906,
          1.0306473079249847,
          0.9871445856019359,
          1.026745311554749,
          0.989491833030853,
          1.0253115547489413,
          1.04167574107683,
          1.0141681790683605,
          1.0019419237749547,
          1.0444585601935874,
          1.0097459165154263,
          1.000411373260738,
          1.0252087114337567,
          0.9903266787658802,
          1.012788868723533,
          0.9586448880822745,
          0.9679854809437386,
          1.0623411978221418,
          1.0190018148820326,
          0.9822928009679371,
          0.9491107078039926,
          0.9993587416817907,
          1.0566122202056867,
          1.0004355716878404,
          1.0214095583787053,
          0.9709074410163339,
          1.0535813672111312,
          1.0110102843315183,
          1.0043375680580762,
          0.9848154869933453,
          1.0514337568058076,
          1.0315486993345433,
          1.0146581972171809,
          1.0218451300665456,
          1.009751966122202,
          1.0155958862673926,
          1.0126678765880217,
          1.0131215970961889,
          1.0135692679975803,
          1.0033877797943134,
          1.0308892921960073,
          1.0195220810647307,
          1.0232244404113733,
          1.0114458560193589,
          1.023817301875378,
          0.974422262552934,
          0.996636418632789,
          1.0194797338173018,
          1.0263641863278887,
          1.0086327888687234,
          1.0175922565033273,
          1.0217725347852389,
          0.9907501512401694,
          0.9365880217785845,
          1.0115124016938897,
          0.9133272837265578,
          1.0914398064125832,
          1.0367513611615244,
          1.004137931034483,
          1.043049001814882,
          0.940822746521476,
          1.0453539019963702,
          1.0221234119782214,
          0.9704476709013913,
          1.0369449485783424,
          1.0294797338173018,
          1.0347307924984874,
          1.0268058076225044,
          0.9897519661222022,
          0.9099153055051422,
          0.8183847549909256,
          1.1260314579552329,
          1.072552934059286,
          1.0304174228675136,
          1.0225710828796128,
          1.0605565638233514,
          0.9945130066545675,
          0.9923290986085905,
          1.1583847549909256,
          1.0579612825166365,
          1.0404839685420448,
          1.053793103448276,
          1.0589292196007258,
          1.037652752571083,
          1.0213430127041743,
          1.0207562008469449,
          1.0036418632788868,
          1.025287356321839,
          0.9864851784633998,
          1.0300241984271024,
          0.969933454325469,
          1.0402117362371448,
          0.9256805807622505,
          0.9876830006049606,
          1.003230490018149,
          0.9446763460375075,
          1.0007199032062917,
          0.9249425287356322,
          1.0904295220810647,
          0.9692982456140351,
          0.901373260738052,
          1.0810284331518452,
          1.0552994555353903,
          0.9577374470659408,
          1.0973321234119784,
          0.9889957652752571,
          0.979933454325469,
          1.001318814277072,
          0.9908832425892315,
          1.0624803387779795,
          1.0433393829401088,
          0.9686206896551725,
          0.95978221415608,
          0.9421113127646703,
          1.0877132486388386,
          1.079328493647913,
          0.9853962492437992,
          1.0741379310344827,
          1.0276285541439807,
          0.9559709618874773,
          1.0341621294615853,
          0.9932425892317,
          1.0552510586811856,
          0.9971990320629158,
          0.9666787658802178
         ],
         "type": "scatter"
        },
        {
         "line": {
          "color": "red",
          "width": 2
         },
         "mode": "lines",
         "name": "Train returns",
         "x": [
          "1999-10-01",
          "1999-11-01",
          "1999-12-01",
          "2000-01-01",
          "2000-02-01",
          "2000-03-01",
          "2000-04-01",
          "2000-05-01",
          "2000-06-01",
          "2000-07-01",
          "2000-08-01",
          "2000-09-01",
          "2000-10-01",
          "2000-11-01",
          "2000-12-01",
          "2001-01-01",
          "2001-02-01",
          "2001-03-01",
          "2001-04-01",
          "2001-05-01",
          "2001-06-01",
          "2001-07-01",
          "2001-08-01",
          "2001-09-01",
          "2001-10-01",
          "2001-11-01",
          "2001-12-01",
          "2002-01-01",
          "2002-02-01",
          "2002-03-01",
          "2002-04-01",
          "2002-05-01",
          "2002-06-01",
          "2002-07-01",
          "2002-08-01",
          "2002-09-01",
          "2002-10-01",
          "2002-11-01",
          "2002-12-01",
          "2003-01-01",
          "2003-02-01",
          "2003-03-01",
          "2003-04-01",
          "2003-05-01",
          "2003-06-01",
          "2003-07-01",
          "2003-08-01",
          "2003-09-01",
          "2003-10-01",
          "2003-11-01",
          "2003-12-01",
          "2004-01-01",
          "2004-02-01",
          "2004-03-01",
          "2004-04-01",
          "2004-05-01",
          "2004-06-01",
          "2004-07-01",
          "2004-08-01",
          "2004-09-01",
          "2004-10-01",
          "2004-11-01",
          "2004-12-01",
          "2005-01-01",
          "2005-02-01",
          "2005-03-01",
          "2005-04-01",
          "2005-05-01",
          "2005-06-01",
          "2005-07-01",
          "2005-08-01",
          "2005-09-01",
          "2005-10-01",
          "2005-11-01",
          "2005-12-01",
          "2006-01-01",
          "2006-02-01",
          "2006-03-01",
          "2006-04-01",
          "2006-05-01",
          "2006-06-01",
          "2006-07-01",
          "2006-08-01",
          "2006-09-01",
          "2006-10-01",
          "2006-11-01",
          "2006-12-01",
          "2007-01-01",
          "2007-02-01",
          "2007-03-01",
          "2007-04-01",
          "2007-05-01",
          "2007-06-01",
          "2007-07-01",
          "2007-08-01",
          "2007-09-01",
          "2007-10-01",
          "2007-11-01",
          "2007-12-01",
          "2008-01-01",
          "2008-02-01",
          "2008-03-01",
          "2008-04-01",
          "2008-05-01",
          "2008-06-01",
          "2008-07-01",
          "2008-08-01",
          "2008-09-01",
          "2008-10-01",
          "2008-11-01",
          "2008-12-01",
          "2009-01-01",
          "2009-02-01",
          "2009-03-01",
          "2009-04-01",
          "2009-05-01",
          "2009-06-01",
          "2009-07-01",
          "2009-08-01",
          "2009-09-01",
          "2009-10-01",
          "2009-11-01",
          "2009-12-01",
          "2010-01-01",
          "2010-02-01",
          "2010-03-01",
          "2010-04-01",
          "2010-05-01",
          "2010-06-01",
          "2010-07-01",
          "2010-08-01",
          "2010-09-01",
          "2010-10-01",
          "2010-11-01",
          "2010-12-01",
          "2011-01-01",
          "2011-02-01",
          "2011-03-01",
          "2011-04-01",
          "2011-05-01",
          "2011-06-01",
          "2011-07-01",
          "2011-08-01",
          "2011-09-01",
          "2011-10-01",
          "2011-11-01",
          "2011-12-01",
          "2012-01-01",
          "2012-02-01",
          "2012-03-01",
          "2012-04-01",
          "2012-05-01",
          "2012-06-01",
          "2012-07-01",
          "2012-08-01",
          "2012-09-01",
          "2012-10-01",
          "2012-11-01",
          "2012-12-01",
          "2013-01-01",
          "2013-02-01",
          "2013-03-01",
          "2013-04-01",
          "2013-05-01",
          "2013-06-01",
          "2013-07-01",
          "2013-08-01",
          "2013-09-01",
          "2013-10-01",
          "2013-11-01",
          "2013-12-01",
          "2014-01-01",
          "2014-02-01",
          "2014-03-01",
          "2014-04-01",
          "2014-05-01",
          "2014-06-01",
          "2014-07-01",
          "2014-08-01",
          "2014-09-01",
          "2014-10-01",
          "2014-11-01",
          "2014-12-01",
          "2015-01-01",
          "2015-02-01",
          "2015-03-01",
          "2015-04-01",
          "2015-05-01",
          "2015-06-01",
          "2015-07-01",
          "2015-08-01",
          "2015-09-01",
          "2015-10-01",
          "2015-11-01",
          "2015-12-01",
          "2016-01-01",
          "2016-02-01",
          "2016-03-01",
          "2016-04-01",
          "2016-05-01",
          "2016-06-01",
          "2016-07-01",
          "2016-08-01",
          "2016-09-01",
          "2016-10-01",
          "2016-11-01",
          "2016-12-01",
          "2017-01-01",
          "2017-02-01",
          "2017-03-01",
          "2017-04-01",
          "2017-05-01",
          "2017-06-01",
          "2017-07-01",
          "2017-08-01",
          "2017-09-01",
          "2017-10-01",
          "2017-11-01",
          "2017-12-01",
          "2018-01-01",
          "2018-02-01",
          "2018-03-01",
          "2018-04-01",
          "2018-05-01",
          "2018-06-01",
          "2018-07-01",
          "2018-08-01",
          "2018-09-01",
          "2018-10-01",
          "2018-11-01",
          "2018-12-01",
          "2019-01-01",
          "2019-02-01",
          "2019-03-01",
          "2019-04-01",
          "2019-05-01",
          "2019-06-01",
          "2019-07-01",
          "2019-08-01",
          "2019-09-01",
          "2019-10-01",
          "2019-11-01",
          "2019-12-01",
          "2020-01-01",
          "2020-02-01",
          "2020-03-01",
          "2020-04-01",
          "2020-05-01",
          "2020-06-01",
          "2020-07-01",
          "2020-08-01",
          "2020-09-01",
          "2020-10-01",
          "2020-11-01",
          "2020-12-01",
          "2021-01-01",
          "2021-02-01",
          "2021-03-01",
          "2021-04-01",
          "2021-05-01",
          "2021-06-01",
          "2021-07-01",
          "2021-08-01",
          "2021-09-01",
          "2021-10-01",
          "2021-11-01",
          "2021-12-01",
          "2022-01-01",
          "2022-02-01",
          "2022-03-01",
          "2022-04-01",
          "2022-05-01",
          "2022-06-01",
          "2022-07-01",
          "2022-08-01"
         ],
         "y": [
          1.0063951015472412,
          1.0103687047958374,
          1.0079612731933594,
          1.0060818195343018,
          1.0081926584243774,
          1.0100642442703247,
          1.0090889930725098,
          1.010382056236267,
          1.007469654083252,
          1.0081164836883545,
          1.0115361213684082,
          1.0069040060043335,
          1.0082865953445435,
          1.008423089981079,
          1.0064722299575806,
          1.008842945098877,
          1.010961890220642,
          1.0089975595474243,
          1.007288932800293,
          1.0067652463912964,
          1.008695125579834,
          1.0105234384536743,
          1.0098631381988525,
          1.0063531398773193,
          1.0131736993789673,
          1.0094962120056152,
          1.016036868095398,
          1.0107979774475098,
          1.0069822072982788,
          1.007903814315796,
          1.0120986700057983,
          1.0099351406097412,
          1.0102832317352295,
          1.0110526084899902,
          1.0105623006820679,
          1.0088742971420288,
          1.0066900253295898,
          1.0170533657073975,
          1.0056666135787964,
          1.0110524892807007,
          1.0096219778060913,
          1.009764552116394,
          1.0119355916976929,
          1.0133426189422607,
          1.00728440284729,
          1.0102373361587524,
          1.0086325407028198,
          1.0076897144317627,
          1.0076643228530884,
          1.011438250541687,
          1.0124722719192505,
          1.0046672821044922,
          1.0135546922683716,
          1.0087422132492065,
          1.0101406574249268,
          1.0074248313903809,
          1.0072417259216309,
          1.008283257484436,
          1.0079678297042847,
          3.6245930194854736,
          1.0110102891921997,
          1.0108600854873657,
          1.0075690746307373,
          1.0059691667556763,
          1.0086933374404907,
          1.0165226459503174,
          1.0118688344955444,
          1.0079230070114136,
          1.0098400115966797,
          1.00982666015625,
          1.0059305429458618,
          1.010039210319519,
          1.0086963176727295,
          1.0183700323104858,
          1.0134979486465454,
          1.0087279081344604,
          1.0073485374450684,
          1.007173776626587,
          1.0096336603164673,
          1.0118941068649292,
          1.0084612369537354,
          1.0082190036773682,
          1.008512258529663,
          1.0093952417373657,
          1.0099401473999023,
          1.0077393054962158,
          1.0106528997421265,
          1.0069957971572876,
          1.0137656927108765,
          1.0111873149871826,
          1.0068995952606201,
          1.0079758167266846,
          1.008863091468811,
          1.005615234375,
          1.0049965381622314,
          1.0080782175064087,
          1.0060802698135376,
          1.007628321647644,
          1.0089954137802124,
          1.0121400356292725,
          1.009128451347351,
          1.0115705728530884,
          1.0079066753387451,
          1.0076284408569336,
          1.0052112340927124,
          1.005475401878357,
          1.0003215074539185,
          1.007177710533142,
          1.0102241039276123,
          1.008288025856018,
          1.0070689916610718,
          1.010146141052246,
          1.0098146200180054,
          1.0068341493606567,
          1.0046937465667725,
          1.008723258972168,
          1.0129269361495972,
          1.0086467266082764,
          1.0104337930679321,
          1.0118296146392822,
          1.0119189023971558,
          1.0100001096725464,
          1.0093224048614502,
          1.0075541734695435,
          1.0097708702087402,
          1.007632851600647,
          1.0081543922424316,
          1.0076770782470703,
          1.009745717048645,
          1.0071226358413696,
          1.0092270374298096,
          1.007400631904602,
          1.0116831064224243,
          1.0082656145095825,
          1.0094187259674072,
          1.0155073404312134,
          1.0103700160980225,
          1.0082377195358276,
          1.0113251209259033,
          1.0040870904922485,
          1.0984091758728027,
          1.0128318071365356,
          1.008512258529663,
          1.0106587409973145,
          1.0107312202453613,
          1.0104223489761353,
          1.0070465803146362,
          1.0075289011001587,
          1.0099211931228638,
          1.0186492204666138,
          1.0343977212905884,
          1.0064467191696167,
          1.00538170337677,
          1.0082576274871826,
          0.9508050084114075,
          1.0048376321792603,
          1.010955572128296,
          1.0078147649765015,
          1.006678819656372,
          1.00941002368927,
          1.0075604915618896,
          1.0096389055252075,
          1.0079667568206787,
          1.0096983909606934,
          1.0075541734695435,
          1.010789394378662,
          1.0107945203781128,
          1.0068384408950806,
          1.0100003480911255,
          1.0136117935180664,
          1.0049563646316528,
          1.006615400314331,
          1.0099328756332397,
          1.011043667793274,
          1.0113497972488403,
          1.0142089128494263,
          1.0107636451721191,
          1.008496642112732,
          1.0109175443649292,
          1.0136662721633911,
          1.004144549369812,
          1.0096848011016846,
          1.005499243736267,
          1.011243224143982,
          1.0069355964660645,
          1.0091489553451538,
          1.001784324645996,
          1.0108754634857178,
          1.0108286142349243,
          1.01038658618927,
          1.00462806224823,
          1.01030695438385,
          1.0070573091506958,
          1.0086981058120728,
          1.112411379814148,
          1.008174180984497,
          1.0080076456069946,
          1.014430046081543,
          3.098565101623535,
          1.016235113143921,
          1.0076019763946533,
          1.0080080032348633,
          1.0090227127075195,
          1.008654236793518,
          1.0113600492477417,
          1.0076024532318115,
          1.008824110031128,
          1.0127869844436646,
          1.0100222826004028,
          1.0069137811660767,
          1.0149829387664795,
          1.009570837020874,
          1.0157051086425781,
          1.0106327533721924,
          1.0112570524215698,
          1.0128659009933472,
          1.0127960443496704,
          1.0032376050949097,
          1.0161421298980713,
          1.0077099800109863,
          1.0127861499786377,
          1.0078579187393188,
          1.0033295154571533,
          1.0024889707565308,
          1.0106767416000366,
          1.0078543424606323,
          1.0059421062469482,
          1.011500597000122,
          1.0069469213485718,
          1.0076788663864136,
          1.0037270784378052,
          1.0163028240203857,
          1.0063340663909912,
          1.0075087547302246,
          1.0074063539505005,
          1.006706714630127,
          1.0090457201004028,
          1.0099202394485474,
          1.0044596195220947,
          1.0099809169769287,
          1.008310079574585,
          1.0160900354385376,
          1.009526014328003,
          1.0108476877212524,
          1.0120172500610352,
          1.006464958190918,
          1.0132594108581543,
          1.0081528425216675,
          1.0079553127288818,
          1.014134168624878,
          1.0084034204483032,
          1.0061973333358765,
          1.0086054801940918,
          1.0122873783111572,
          1.005724310874939,
          1.0153847932815552,
          1.0099670886993408,
          1.0083043575286865,
          1.0077807903289795,
          1.0107594728469849,
          1.0058826208114624,
          1.0059421062469482,
          1.010658621788025,
          1.007887363433838,
          1.0073736906051636,
          1.0161337852478027,
          1.0098744630813599,
          1.0117601156234741,
          1.0102179050445557,
          1.009565830230713,
          1.0159837007522583,
          1.0199227333068848,
          1.0103193521499634,
          1.0067569017410278,
          1.0115399360656738
         ],
         "type": "scatter"
        },
        {
         "line": {
          "color": "green",
          "width": 2
         },
         "mode": "lines",
         "name": "Test returns",
         "x": [
          "2022-08-01",
          "2022-09-01",
          "2022-10-01",
          "2022-11-01",
          "2022-12-01",
          "2023-01-01",
          "2023-02-01",
          "2023-03-01",
          "2023-04-01",
          "2023-05-01",
          "2023-06-01",
          "2023-07-01",
          "2023-08-01",
          "2023-09-01",
          "2023-10-01",
          "2023-11-01",
          "2023-12-01",
          "2024-01-01",
          "2024-02-01",
          "2024-03-01",
          "2024-04-01",
          "2024-05-01",
          "2024-06-01",
          "2024-07-01",
          "2024-08-01",
          "2024-09-01"
         ],
         "y": [
          1.0115399360656738,
          0.9994059801101685,
          1.0045957565307617,
          1.005676031112671,
          1.0048104524612427,
          1.0051361322402954,
          1.0049254894256592,
          1.0099177360534668,
          1.0051008462905884,
          1.0084233283996582,
          1.0079231262207031,
          1.006197214126587,
          1.0119208097457886
         ],
         "type": "scatter"
        }
       ],
       "layout": {
        "template": {
         "data": {
          "barpolar": [
           {
            "marker": {
             "line": {
              "color": "white",
              "width": 0.5
             },
             "pattern": {
              "fillmode": "overlay",
              "size": 10,
              "solidity": 0.2
             }
            },
            "type": "barpolar"
           }
          ],
          "bar": [
           {
            "error_x": {
             "color": "#2a3f5f"
            },
            "error_y": {
             "color": "#2a3f5f"
            },
            "marker": {
             "line": {
              "color": "white",
              "width": 0.5
             },
             "pattern": {
              "fillmode": "overlay",
              "size": 10,
              "solidity": 0.2
             }
            },
            "type": "bar"
           }
          ],
          "carpet": [
           {
            "aaxis": {
             "endlinecolor": "#2a3f5f",
             "gridcolor": "#C8D4E3",
             "linecolor": "#C8D4E3",
             "minorgridcolor": "#C8D4E3",
             "startlinecolor": "#2a3f5f"
            },
            "baxis": {
             "endlinecolor": "#2a3f5f",
             "gridcolor": "#C8D4E3",
             "linecolor": "#C8D4E3",
             "minorgridcolor": "#C8D4E3",
             "startlinecolor": "#2a3f5f"
            },
            "type": "carpet"
           }
          ],
          "choropleth": [
           {
            "colorbar": {
             "outlinewidth": 0,
             "ticks": ""
            },
            "type": "choropleth"
           }
          ],
          "contourcarpet": [
           {
            "colorbar": {
             "outlinewidth": 0,
             "ticks": ""
            },
            "type": "contourcarpet"
           }
          ],
          "contour": [
           {
            "colorbar": {
             "outlinewidth": 0,
             "ticks": ""
            },
            "colorscale": [
             [
              0.0,
              "#0d0887"
             ],
             [
              0.1111111111111111,
              "#46039f"
             ],
             [
              0.2222222222222222,
              "#7201a8"
             ],
             [
              0.3333333333333333,
              "#9c179e"
             ],
             [
              0.4444444444444444,
              "#bd3786"
             ],
             [
              0.5555555555555556,
              "#d8576b"
             ],
             [
              0.6666666666666666,
              "#ed7953"
             ],
             [
              0.7777777777777778,
              "#fb9f3a"
             ],
             [
              0.8888888888888888,
              "#fdca26"
             ],
             [
              1.0,
              "#f0f921"
             ]
            ],
            "type": "contour"
           }
          ],
          "heatmapgl": [
           {
            "colorbar": {
             "outlinewidth": 0,
             "ticks": ""
            },
            "colorscale": [
             [
              0.0,
              "#0d0887"
             ],
             [
              0.1111111111111111,
              "#46039f"
             ],
             [
              0.2222222222222222,
              "#7201a8"
             ],
             [
              0.3333333333333333,
              "#9c179e"
             ],
             [
              0.4444444444444444,
              "#bd3786"
             ],
             [
              0.5555555555555556,
              "#d8576b"
             ],
             [
              0.6666666666666666,
              "#ed7953"
             ],
             [
              0.7777777777777778,
              "#fb9f3a"
             ],
             [
              0.8888888888888888,
              "#fdca26"
             ],
             [
              1.0,
              "#f0f921"
             ]
            ],
            "type": "heatmapgl"
           }
          ],
          "heatmap": [
           {
            "colorbar": {
             "outlinewidth": 0,
             "ticks": ""
            },
            "colorscale": [
             [
              0.0,
              "#0d0887"
             ],
             [
              0.1111111111111111,
              "#46039f"
             ],
             [
              0.2222222222222222,
              "#7201a8"
             ],
             [
              0.3333333333333333,
              "#9c179e"
             ],
             [
              0.4444444444444444,
              "#bd3786"
             ],
             [
              0.5555555555555556,
              "#d8576b"
             ],
             [
              0.6666666666666666,
              "#ed7953"
             ],
             [
              0.7777777777777778,
              "#fb9f3a"
             ],
             [
              0.8888888888888888,
              "#fdca26"
             ],
             [
              1.0,
              "#f0f921"
             ]
            ],
            "type": "heatmap"
           }
          ],
          "histogram2dcontour": [
           {
            "colorbar": {
             "outlinewidth": 0,
             "ticks": ""
            },
            "colorscale": [
             [
              0.0,
              "#0d0887"
             ],
             [
              0.1111111111111111,
              "#46039f"
             ],
             [
              0.2222222222222222,
              "#7201a8"
             ],
             [
              0.3333333333333333,
              "#9c179e"
             ],
             [
              0.4444444444444444,
              "#bd3786"
             ],
             [
              0.5555555555555556,
              "#d8576b"
             ],
             [
              0.6666666666666666,
              "#ed7953"
             ],
             [
              0.7777777777777778,
              "#fb9f3a"
             ],
             [
              0.8888888888888888,
              "#fdca26"
             ],
             [
              1.0,
              "#f0f921"
             ]
            ],
            "type": "histogram2dcontour"
           }
          ],
          "histogram2d": [
           {
            "colorbar": {
             "outlinewidth": 0,
             "ticks": ""
            },
            "colorscale": [
             [
              0.0,
              "#0d0887"
             ],
             [
              0.1111111111111111,
              "#46039f"
             ],
             [
              0.2222222222222222,
              "#7201a8"
             ],
             [
              0.3333333333333333,
              "#9c179e"
             ],
             [
              0.4444444444444444,
              "#bd3786"
             ],
             [
              0.5555555555555556,
              "#d8576b"
             ],
             [
              0.6666666666666666,
              "#ed7953"
             ],
             [
              0.7777777777777778,
              "#fb9f3a"
             ],
             [
              0.8888888888888888,
              "#fdca26"
             ],
             [
              1.0,
              "#f0f921"
             ]
            ],
            "type": "histogram2d"
           }
          ],
          "histogram": [
           {
            "marker": {
             "pattern": {
              "fillmode": "overlay",
              "size": 10,
              "solidity": 0.2
             }
            },
            "type": "histogram"
           }
          ],
          "mesh3d": [
           {
            "colorbar": {
             "outlinewidth": 0,
             "ticks": ""
            },
            "type": "mesh3d"
           }
          ],
          "parcoords": [
           {
            "line": {
             "colorbar": {
              "outlinewidth": 0,
              "ticks": ""
             }
            },
            "type": "parcoords"
           }
          ],
          "pie": [
           {
            "automargin": true,
            "type": "pie"
           }
          ],
          "scatter3d": [
           {
            "line": {
             "colorbar": {
              "outlinewidth": 0,
              "ticks": ""
             }
            },
            "marker": {
             "colorbar": {
              "outlinewidth": 0,
              "ticks": ""
             }
            },
            "type": "scatter3d"
           }
          ],
          "scattercarpet": [
           {
            "marker": {
             "colorbar": {
              "outlinewidth": 0,
              "ticks": ""
             }
            },
            "type": "scattercarpet"
           }
          ],
          "scattergeo": [
           {
            "marker": {
             "colorbar": {
              "outlinewidth": 0,
              "ticks": ""
             }
            },
            "type": "scattergeo"
           }
          ],
          "scattergl": [
           {
            "marker": {
             "colorbar": {
              "outlinewidth": 0,
              "ticks": ""
             }
            },
            "type": "scattergl"
           }
          ],
          "scattermapbox": [
           {
            "marker": {
             "colorbar": {
              "outlinewidth": 0,
              "ticks": ""
             }
            },
            "type": "scattermapbox"
           }
          ],
          "scatterpolargl": [
           {
            "marker": {
             "colorbar": {
              "outlinewidth": 0,
              "ticks": ""
             }
            },
            "type": "scatterpolargl"
           }
          ],
          "scatterpolar": [
           {
            "marker": {
             "colorbar": {
              "outlinewidth": 0,
              "ticks": ""
             }
            },
            "type": "scatterpolar"
           }
          ],
          "scatter": [
           {
            "fillpattern": {
             "fillmode": "overlay",
             "size": 10,
             "solidity": 0.2
            },
            "type": "scatter"
           }
          ],
          "scatterternary": [
           {
            "marker": {
             "colorbar": {
              "outlinewidth": 0,
              "ticks": ""
             }
            },
            "type": "scatterternary"
           }
          ],
          "surface": [
           {
            "colorbar": {
             "outlinewidth": 0,
             "ticks": ""
            },
            "colorscale": [
             [
              0.0,
              "#0d0887"
             ],
             [
              0.1111111111111111,
              "#46039f"
             ],
             [
              0.2222222222222222,
              "#7201a8"
             ],
             [
              0.3333333333333333,
              "#9c179e"
             ],
             [
              0.4444444444444444,
              "#bd3786"
             ],
             [
              0.5555555555555556,
              "#d8576b"
             ],
             [
              0.6666666666666666,
              "#ed7953"
             ],
             [
              0.7777777777777778,
              "#fb9f3a"
             ],
             [
              0.8888888888888888,
              "#fdca26"
             ],
             [
              1.0,
              "#f0f921"
             ]
            ],
            "type": "surface"
           }
          ],
          "table": [
           {
            "cells": {
             "fill": {
              "color": "#EBF0F8"
             },
             "line": {
              "color": "white"
             }
            },
            "header": {
             "fill": {
              "color": "#C8D4E3"
             },
             "line": {
              "color": "white"
             }
            },
            "type": "table"
           }
          ]
         },
         "layout": {
          "annotationdefaults": {
           "arrowcolor": "#2a3f5f",
           "arrowhead": 0,
           "arrowwidth": 1
          },
          "autotypenumbers": "strict",
          "coloraxis": {
           "colorbar": {
            "outlinewidth": 0,
            "ticks": ""
           }
          },
          "colorscale": {
           "diverging": [
            [
             0,
             "#8e0152"
            ],
            [
             0.1,
             "#c51b7d"
            ],
            [
             0.2,
             "#de77ae"
            ],
            [
             0.3,
             "#f1b6da"
            ],
            [
             0.4,
             "#fde0ef"
            ],
            [
             0.5,
             "#f7f7f7"
            ],
            [
             0.6,
             "#e6f5d0"
            ],
            [
             0.7,
             "#b8e186"
            ],
            [
             0.8,
             "#7fbc41"
            ],
            [
             0.9,
             "#4d9221"
            ],
            [
             1,
             "#276419"
            ]
           ],
           "sequential": [
            [
             0.0,
             "#0d0887"
            ],
            [
             0.1111111111111111,
             "#46039f"
            ],
            [
             0.2222222222222222,
             "#7201a8"
            ],
            [
             0.3333333333333333,
             "#9c179e"
            ],
            [
             0.4444444444444444,
             "#bd3786"
            ],
            [
             0.5555555555555556,
             "#d8576b"
            ],
            [
             0.6666666666666666,
             "#ed7953"
            ],
            [
             0.7777777777777778,
             "#fb9f3a"
            ],
            [
             0.8888888888888888,
             "#fdca26"
            ],
            [
             1.0,
             "#f0f921"
            ]
           ],
           "sequentialminus": [
            [
             0.0,
             "#0d0887"
            ],
            [
             0.1111111111111111,
             "#46039f"
            ],
            [
             0.2222222222222222,
             "#7201a8"
            ],
            [
             0.3333333333333333,
             "#9c179e"
            ],
            [
             0.4444444444444444,
             "#bd3786"
            ],
            [
             0.5555555555555556,
             "#d8576b"
            ],
            [
             0.6666666666666666,
             "#ed7953"
            ],
            [
             0.7777777777777778,
             "#fb9f3a"
            ],
            [
             0.8888888888888888,
             "#fdca26"
            ],
            [
             1.0,
             "#f0f921"
            ]
           ]
          },
          "colorway": [
           "#636efa",
           "#EF553B",
           "#00cc96",
           "#ab63fa",
           "#FFA15A",
           "#19d3f3",
           "#FF6692",
           "#B6E880",
           "#FF97FF",
           "#FECB52"
          ],
          "font": {
           "color": "#2a3f5f"
          },
          "geo": {
           "bgcolor": "white",
           "lakecolor": "white",
           "landcolor": "white",
           "showlakes": true,
           "showland": true,
           "subunitcolor": "#C8D4E3"
          },
          "hoverlabel": {
           "align": "left"
          },
          "hovermode": "closest",
          "mapbox": {
           "style": "light"
          },
          "paper_bgcolor": "white",
          "plot_bgcolor": "white",
          "polar": {
           "angularaxis": {
            "gridcolor": "#EBF0F8",
            "linecolor": "#EBF0F8",
            "ticks": ""
           },
           "bgcolor": "white",
           "radialaxis": {
            "gridcolor": "#EBF0F8",
            "linecolor": "#EBF0F8",
            "ticks": ""
           }
          },
          "scene": {
           "xaxis": {
            "backgroundcolor": "white",
            "gridcolor": "#DFE8F3",
            "gridwidth": 2,
            "linecolor": "#EBF0F8",
            "showbackground": true,
            "ticks": "",
            "zerolinecolor": "#EBF0F8"
           },
           "yaxis": {
            "backgroundcolor": "white",
            "gridcolor": "#DFE8F3",
            "gridwidth": 2,
            "linecolor": "#EBF0F8",
            "showbackground": true,
            "ticks": "",
            "zerolinecolor": "#EBF0F8"
           },
           "zaxis": {
            "backgroundcolor": "white",
            "gridcolor": "#DFE8F3",
            "gridwidth": 2,
            "linecolor": "#EBF0F8",
            "showbackground": true,
            "ticks": "",
            "zerolinecolor": "#EBF0F8"
           }
          },
          "shapedefaults": {
           "line": {
            "color": "#2a3f5f"
           }
          },
          "ternary": {
           "aaxis": {
            "gridcolor": "#DFE8F3",
            "linecolor": "#A2B1C6",
            "ticks": ""
           },
           "baxis": {
            "gridcolor": "#DFE8F3",
            "linecolor": "#A2B1C6",
            "ticks": ""
           },
           "bgcolor": "white",
           "caxis": {
            "gridcolor": "#DFE8F3",
            "linecolor": "#A2B1C6",
            "ticks": ""
           }
          },
          "title": {
           "x": 0.05
          },
          "xaxis": {
           "automargin": true,
           "gridcolor": "#EBF0F8",
           "linecolor": "#EBF0F8",
           "ticks": "",
           "title": {
            "standoff": 15
           },
           "zerolinecolor": "#EBF0F8",
           "zerolinewidth": 2
          },
          "yaxis": {
           "automargin": true,
           "gridcolor": "#EBF0F8",
           "linecolor": "#EBF0F8",
           "ticks": "",
           "title": {
            "standoff": 15
           },
           "zerolinecolor": "#EBF0F8",
           "zerolinewidth": 2
          }
         }
        },
        "shapes": [
         {
          "line": {
           "color": "red",
           "dash": "dash",
           "width": 1
          },
          "type": "line",
          "x0": "2023-08-01",
          "x1": "2023-08-01",
          "xref": "x",
          "y0": 0,
          "y1": 1,
          "yref": "y domain"
         }
        ],
        "yaxis": {
         "title": {
          "text": "Day closing return (%)"
         },
         "tickformat": ".0%",
         "range": [
          0.75,
          1.6
         ]
        },
        "title": {
         "text": "12 Month Prediction vs Actual Plot"
        },
        "xaxis": {
         "title": {
          "text": "Date"
         }
        },
        "legend": {
         "title": {
          "text": "Legend"
         }
        }
       },
       "config": {
        "plotlyServerURL": "https://plot.ly"
       }
      },
      "text/html": [
       "<div>                            <div id=\"faf83fc8-83a0-45b6-a52d-8bdbe7812578\" class=\"plotly-graph-div\" style=\"height:525px; width:100%;\"></div>            <script type=\"text/javascript\">                require([\"plotly\"], function(Plotly) {                    window.PLOTLYENV=window.PLOTLYENV || {};                                    if (document.getElementById(\"faf83fc8-83a0-45b6-a52d-8bdbe7812578\")) {                    Plotly.newPlot(                        \"faf83fc8-83a0-45b6-a52d-8bdbe7812578\",                        [{\"line\":{\"color\":\"#5c839f\",\"width\":2},\"mode\":\"lines\",\"name\":\"Actual returns\",\"x\":[\"1999-10-01\",\"1999-11-01\",\"1999-12-01\",\"2000-01-01\",\"2000-02-01\",\"2000-03-01\",\"2000-04-01\",\"2000-05-01\",\"2000-06-01\",\"2000-07-01\",\"2000-08-01\",\"2000-09-01\",\"2000-10-01\",\"2000-11-01\",\"2000-12-01\",\"2001-01-01\",\"2001-02-01\",\"2001-03-01\",\"2001-04-01\",\"2001-05-01\",\"2001-06-01\",\"2001-07-01\",\"2001-08-01\",\"2001-09-01\",\"2001-10-01\",\"2001-11-01\",\"2001-12-01\",\"2002-01-01\",\"2002-02-01\",\"2002-03-01\",\"2002-04-01\",\"2002-05-01\",\"2002-06-01\",\"2002-07-01\",\"2002-08-01\",\"2002-09-01\",\"2002-10-01\",\"2002-11-01\",\"2002-12-01\",\"2003-01-01\",\"2003-02-01\",\"2003-03-01\",\"2003-04-01\",\"2003-05-01\",\"2003-06-01\",\"2003-07-01\",\"2003-08-01\",\"2003-09-01\",\"2003-10-01\",\"2003-11-01\",\"2003-12-01\",\"2004-01-01\",\"2004-02-01\",\"2004-03-01\",\"2004-04-01\",\"2004-05-01\",\"2004-06-01\",\"2004-07-01\",\"2004-08-01\",\"2004-09-01\",\"2004-10-01\",\"2004-11-01\",\"2004-12-01\",\"2005-01-01\",\"2005-02-01\",\"2005-03-01\",\"2005-04-01\",\"2005-05-01\",\"2005-06-01\",\"2005-07-01\",\"2005-08-01\",\"2005-09-01\",\"2005-10-01\",\"2005-11-01\",\"2005-12-01\",\"2006-01-01\",\"2006-02-01\",\"2006-03-01\",\"2006-04-01\",\"2006-05-01\",\"2006-06-01\",\"2006-07-01\",\"2006-08-01\",\"2006-09-01\",\"2006-10-01\",\"2006-11-01\",\"2006-12-01\",\"2007-01-01\",\"2007-02-01\",\"2007-03-01\",\"2007-04-01\",\"2007-05-01\",\"2007-06-01\",\"2007-07-01\",\"2007-08-01\",\"2007-09-01\",\"2007-10-01\",\"2007-11-01\",\"2007-12-01\",\"2008-01-01\",\"2008-02-01\",\"2008-03-01\",\"2008-04-01\",\"2008-05-01\",\"2008-06-01\",\"2008-07-01\",\"2008-08-01\",\"2008-09-01\",\"2008-10-01\",\"2008-11-01\",\"2008-12-01\",\"2009-01-01\",\"2009-02-01\",\"2009-03-01\",\"2009-04-01\",\"2009-05-01\",\"2009-06-01\",\"2009-07-01\",\"2009-08-01\",\"2009-09-01\",\"2009-10-01\",\"2009-11-01\",\"2009-12-01\",\"2010-01-01\",\"2010-02-01\",\"2010-03-01\",\"2010-04-01\",\"2010-05-01\",\"2010-06-01\",\"2010-07-01\",\"2010-08-01\",\"2010-09-01\",\"2010-10-01\",\"2010-11-01\",\"2010-12-01\",\"2011-01-01\",\"2011-02-01\",\"2011-03-01\",\"2011-04-01\",\"2011-05-01\",\"2011-06-01\",\"2011-07-01\",\"2011-08-01\",\"2011-09-01\",\"2011-10-01\",\"2011-11-01\",\"2011-12-01\",\"2012-01-01\",\"2012-02-01\",\"2012-03-01\",\"2012-04-01\",\"2012-05-01\",\"2012-06-01\",\"2012-07-01\",\"2012-08-01\",\"2012-09-01\",\"2012-10-01\",\"2012-11-01\",\"2012-12-01\",\"2013-01-01\",\"2013-02-01\",\"2013-03-01\",\"2013-04-01\",\"2013-05-01\",\"2013-06-01\",\"2013-07-01\",\"2013-08-01\",\"2013-09-01\",\"2013-10-01\",\"2013-11-01\",\"2013-12-01\",\"2014-01-01\",\"2014-02-01\",\"2014-03-01\",\"2014-04-01\",\"2014-05-01\",\"2014-06-01\",\"2014-07-01\",\"2014-08-01\",\"2014-09-01\",\"2014-10-01\",\"2014-11-01\",\"2014-12-01\",\"2015-01-01\",\"2015-02-01\",\"2015-03-01\",\"2015-04-01\",\"2015-05-01\",\"2015-06-01\",\"2015-07-01\",\"2015-08-01\",\"2015-09-01\",\"2015-10-01\",\"2015-11-01\",\"2015-12-01\",\"2016-01-01\",\"2016-02-01\",\"2016-03-01\",\"2016-04-01\",\"2016-05-01\",\"2016-06-01\",\"2016-07-01\",\"2016-08-01\",\"2016-09-01\",\"2016-10-01\",\"2016-11-01\",\"2016-12-01\",\"2017-01-01\",\"2017-02-01\",\"2017-03-01\",\"2017-04-01\",\"2017-05-01\",\"2017-06-01\",\"2017-07-01\",\"2017-08-01\",\"2017-09-01\",\"2017-10-01\",\"2017-11-01\",\"2017-12-01\",\"2018-01-01\",\"2018-02-01\",\"2018-03-01\",\"2018-04-01\",\"2018-05-01\",\"2018-06-01\",\"2018-07-01\",\"2018-08-01\",\"2018-09-01\",\"2018-10-01\",\"2018-11-01\",\"2018-12-01\",\"2019-01-01\",\"2019-02-01\",\"2019-03-01\",\"2019-04-01\",\"2019-05-01\",\"2019-06-01\",\"2019-07-01\",\"2019-08-01\",\"2019-09-01\",\"2019-10-01\",\"2019-11-01\",\"2019-12-01\",\"2020-01-01\",\"2020-02-01\",\"2020-03-01\",\"2020-04-01\",\"2020-05-01\",\"2020-06-01\",\"2020-07-01\",\"2020-08-01\",\"2020-09-01\",\"2020-10-01\",\"2020-11-01\",\"2020-12-01\",\"2021-01-01\",\"2021-02-01\",\"2021-03-01\",\"2021-04-01\",\"2021-05-01\",\"2021-06-01\",\"2021-07-01\",\"2021-08-01\",\"2021-09-01\",\"2021-10-01\",\"2021-11-01\",\"2021-12-01\",\"2022-01-01\",\"2022-02-01\",\"2022-03-01\",\"2022-04-01\",\"2022-05-01\",\"2022-06-01\",\"2022-07-01\",\"2022-08-01\",\"2022-09-01\",\"2022-10-01\",\"2022-11-01\",\"2022-12-01\",\"2023-01-01\",\"2023-02-01\",\"2023-03-01\",\"2023-04-01\",\"2023-05-01\",\"2023-06-01\",\"2023-07-01\",\"2023-08-01\",\"2023-09-01\",\"2023-10-01\",\"2023-11-01\",\"2023-12-01\",\"2024-01-01\",\"2024-02-01\",\"2024-03-01\",\"2024-04-01\",\"2024-05-01\",\"2024-06-01\",\"2024-07-01\",\"2024-08-01\",\"2024-09-01\"],\"y\":[null,1.0255474894131882,1.0338354506957046,0.9928735632183908,5.930568663036903,1.02524500907441,0.9939624924379915,0.9817483363581366,1.0329461584996975,0.9952389594676346,1.027350272232305,0.9906291591046583,0.9893103448275862,0.9717422867513611,1.0094071385359953,1.0391651542649727,0.9689776164549303,0.9847489413188143,1.0655414398064127,1.0118451300665456,0.9984392014519057,0.9735087719298245,0.9690865093768906,0.9132849364791288,1.0499274047186933,1.050798548094374,1.0158620689655173,0.9939322444041138,1.0093103448275862,1.050725952813067,1.007102238354507,1.0027646702964308,0.9519721718088325,0.9418874773139746,0.9874833635813671,0.9568905021173624,1.0078644888082275,1.0582516636418633,0.9664125831820932,0.9890199637023595,1.0055716878402905,0.9959830611010285,1.0599516031457954,1.0670054446460981,1.034162129461585,1.508451300665457,1.0614277071990321,1.0038233514821537,1.0498003629764066,1.0042286751361162,1.015849969751966,1.0305263157894737,1.0141560798548095,1.0468421052631578,1.0040834845735027,0.992474289171204,1.0346218995765275,0.9633877797943133,0.9934119782214157,1.0055535390199637,1.0005565638233516,1.0293163944343617,1.053762855414398,1.00643073200242,1.0203811252268602,0.9955595886267392,0.9733030852994556,1.033145795523291,1.0216817906836055,1.0358136721113127,0.9993042952208105,1.1286509376890503,1.0726013309134907,3.2130248033877797,1.0215607985480943,1.0408166969147006,1.0128917120387175,1.027501512401694,1.0092075015124016,0.9686267392619479,0.9991833030852995,0.9856866303690262,1.0248820326678767,1.0297519661222019,1.0213853599516032,1.0188808227465216,1.027979431336963,1.0368723532970356,1.0044404113732608,1.0015849969751967,1.0188082274652148,1.0226194797338173,0.9885843920145191,0.9759286146400484,0.9907501512401694,1.002474289171204,1.0255172413793103,0.9479370840895343,0.9907743496672716,0.9420447670901392,0.9907199032062917,0.9868784029038112,1.0311494252873565,1.02318814277072,0.9375620084694495,0.9950090744101633,1.0215789473684211,0.9273018753781004,0.8458197217180883,0.9447489413188144,1.0413006654567454,0.9497701149425287,0.9416515426497277,1.0697580157289777,1.1476164549304295,1.0432909860859043,1.0350211736237145,1.0623895946763462,1.0552026618269812,1.0322746521476103,0.9779915305505141,1.0015910465819722,1.0513793103448277,0.9896067755595885,1.0185541439806414,1.0590381125226862,1.0449969751966124,0.9456261343012704,0.9619419237749547,1.0388626739261946,0.9645856019358742,1.0696067755595886,1.0163883847549908,1.0275862068965518,1.0584029038112523,1.0119782214156081,1.0324803387779795,1.0016031457955235,1.0198850574712643,0.9949969751966122,0.9972353297035693,0.9830429522081064,0.9474712643678161,0.9529824561403508,1.0689231699939505,0.9843375680580763,1.0002540834845735,1.0593768905021175,1.0995402298850574,1.026303690260133,0.9927465214761042,0.9427586206896552,1.0300241984271024,0.9957652752571083,1.0196672716273443,1.0171506352087114,1.0012038717483362,1.0166848154869934,1.0311736237144584,1.0607924984875983,1.0218390804597701,1.0406836055656383,1.0333696309739866,1.01821536600121,0.990508166969147,1.0369933454325468,0.98346037507562,1.0512159709618873,1.0213430127041743,1.0239806412583181,1.022280701754386,0.9877434966727164,1.0288626739261948,1.0008287961282516,0.9851845130066547,1.0161161524500906,1.0306473079249847,0.9871445856019359,1.026745311554749,0.989491833030853,1.0253115547489413,1.04167574107683,1.0141681790683605,1.0019419237749547,1.0444585601935874,1.0097459165154263,1.000411373260738,1.0252087114337567,0.9903266787658802,1.012788868723533,0.9586448880822745,0.9679854809437386,1.0623411978221418,1.0190018148820326,0.9822928009679371,0.9491107078039926,0.9993587416817907,1.0566122202056867,1.0004355716878404,1.0214095583787053,0.9709074410163339,1.0535813672111312,1.0110102843315183,1.0043375680580762,0.9848154869933453,1.0514337568058076,1.0315486993345433,1.0146581972171809,1.0218451300665456,1.009751966122202,1.0155958862673926,1.0126678765880217,1.0131215970961889,1.0135692679975803,1.0033877797943134,1.0308892921960073,1.0195220810647307,1.0232244404113733,1.0114458560193589,1.023817301875378,0.974422262552934,0.996636418632789,1.0194797338173018,1.0263641863278887,1.0086327888687234,1.0175922565033273,1.0217725347852389,0.9907501512401694,0.9365880217785845,1.0115124016938897,0.9133272837265578,1.0914398064125832,1.0367513611615244,1.004137931034483,1.043049001814882,0.940822746521476,1.0453539019963702,1.0221234119782214,0.9704476709013913,1.0369449485783424,1.0294797338173018,1.0347307924984874,1.0268058076225044,0.9897519661222022,0.9099153055051422,0.8183847549909256,1.1260314579552329,1.072552934059286,1.0304174228675136,1.0225710828796128,1.0605565638233514,0.9945130066545675,0.9923290986085905,1.1583847549909256,1.0579612825166365,1.0404839685420448,1.053793103448276,1.0589292196007258,1.037652752571083,1.0213430127041743,1.0207562008469449,1.0036418632788868,1.025287356321839,0.9864851784633998,1.0300241984271024,0.969933454325469,1.0402117362371448,0.9256805807622505,0.9876830006049606,1.003230490018149,0.9446763460375075,1.0007199032062917,0.9249425287356322,1.0904295220810647,0.9692982456140351,0.901373260738052,1.0810284331518452,1.0552994555353903,0.9577374470659408,1.0973321234119784,0.9889957652752571,0.979933454325469,1.001318814277072,0.9908832425892315,1.0624803387779795,1.0433393829401088,0.9686206896551725,0.95978221415608,0.9421113127646703,1.0877132486388386,1.079328493647913,0.9853962492437992,1.0741379310344827,1.0276285541439807,0.9559709618874773,1.0341621294615853,0.9932425892317,1.0552510586811856,0.9971990320629158,0.9666787658802178],\"type\":\"scatter\"},{\"line\":{\"color\":\"red\",\"width\":2},\"mode\":\"lines\",\"name\":\"Train returns\",\"x\":[\"1999-10-01\",\"1999-11-01\",\"1999-12-01\",\"2000-01-01\",\"2000-02-01\",\"2000-03-01\",\"2000-04-01\",\"2000-05-01\",\"2000-06-01\",\"2000-07-01\",\"2000-08-01\",\"2000-09-01\",\"2000-10-01\",\"2000-11-01\",\"2000-12-01\",\"2001-01-01\",\"2001-02-01\",\"2001-03-01\",\"2001-04-01\",\"2001-05-01\",\"2001-06-01\",\"2001-07-01\",\"2001-08-01\",\"2001-09-01\",\"2001-10-01\",\"2001-11-01\",\"2001-12-01\",\"2002-01-01\",\"2002-02-01\",\"2002-03-01\",\"2002-04-01\",\"2002-05-01\",\"2002-06-01\",\"2002-07-01\",\"2002-08-01\",\"2002-09-01\",\"2002-10-01\",\"2002-11-01\",\"2002-12-01\",\"2003-01-01\",\"2003-02-01\",\"2003-03-01\",\"2003-04-01\",\"2003-05-01\",\"2003-06-01\",\"2003-07-01\",\"2003-08-01\",\"2003-09-01\",\"2003-10-01\",\"2003-11-01\",\"2003-12-01\",\"2004-01-01\",\"2004-02-01\",\"2004-03-01\",\"2004-04-01\",\"2004-05-01\",\"2004-06-01\",\"2004-07-01\",\"2004-08-01\",\"2004-09-01\",\"2004-10-01\",\"2004-11-01\",\"2004-12-01\",\"2005-01-01\",\"2005-02-01\",\"2005-03-01\",\"2005-04-01\",\"2005-05-01\",\"2005-06-01\",\"2005-07-01\",\"2005-08-01\",\"2005-09-01\",\"2005-10-01\",\"2005-11-01\",\"2005-12-01\",\"2006-01-01\",\"2006-02-01\",\"2006-03-01\",\"2006-04-01\",\"2006-05-01\",\"2006-06-01\",\"2006-07-01\",\"2006-08-01\",\"2006-09-01\",\"2006-10-01\",\"2006-11-01\",\"2006-12-01\",\"2007-01-01\",\"2007-02-01\",\"2007-03-01\",\"2007-04-01\",\"2007-05-01\",\"2007-06-01\",\"2007-07-01\",\"2007-08-01\",\"2007-09-01\",\"2007-10-01\",\"2007-11-01\",\"2007-12-01\",\"2008-01-01\",\"2008-02-01\",\"2008-03-01\",\"2008-04-01\",\"2008-05-01\",\"2008-06-01\",\"2008-07-01\",\"2008-08-01\",\"2008-09-01\",\"2008-10-01\",\"2008-11-01\",\"2008-12-01\",\"2009-01-01\",\"2009-02-01\",\"2009-03-01\",\"2009-04-01\",\"2009-05-01\",\"2009-06-01\",\"2009-07-01\",\"2009-08-01\",\"2009-09-01\",\"2009-10-01\",\"2009-11-01\",\"2009-12-01\",\"2010-01-01\",\"2010-02-01\",\"2010-03-01\",\"2010-04-01\",\"2010-05-01\",\"2010-06-01\",\"2010-07-01\",\"2010-08-01\",\"2010-09-01\",\"2010-10-01\",\"2010-11-01\",\"2010-12-01\",\"2011-01-01\",\"2011-02-01\",\"2011-03-01\",\"2011-04-01\",\"2011-05-01\",\"2011-06-01\",\"2011-07-01\",\"2011-08-01\",\"2011-09-01\",\"2011-10-01\",\"2011-11-01\",\"2011-12-01\",\"2012-01-01\",\"2012-02-01\",\"2012-03-01\",\"2012-04-01\",\"2012-05-01\",\"2012-06-01\",\"2012-07-01\",\"2012-08-01\",\"2012-09-01\",\"2012-10-01\",\"2012-11-01\",\"2012-12-01\",\"2013-01-01\",\"2013-02-01\",\"2013-03-01\",\"2013-04-01\",\"2013-05-01\",\"2013-06-01\",\"2013-07-01\",\"2013-08-01\",\"2013-09-01\",\"2013-10-01\",\"2013-11-01\",\"2013-12-01\",\"2014-01-01\",\"2014-02-01\",\"2014-03-01\",\"2014-04-01\",\"2014-05-01\",\"2014-06-01\",\"2014-07-01\",\"2014-08-01\",\"2014-09-01\",\"2014-10-01\",\"2014-11-01\",\"2014-12-01\",\"2015-01-01\",\"2015-02-01\",\"2015-03-01\",\"2015-04-01\",\"2015-05-01\",\"2015-06-01\",\"2015-07-01\",\"2015-08-01\",\"2015-09-01\",\"2015-10-01\",\"2015-11-01\",\"2015-12-01\",\"2016-01-01\",\"2016-02-01\",\"2016-03-01\",\"2016-04-01\",\"2016-05-01\",\"2016-06-01\",\"2016-07-01\",\"2016-08-01\",\"2016-09-01\",\"2016-10-01\",\"2016-11-01\",\"2016-12-01\",\"2017-01-01\",\"2017-02-01\",\"2017-03-01\",\"2017-04-01\",\"2017-05-01\",\"2017-06-01\",\"2017-07-01\",\"2017-08-01\",\"2017-09-01\",\"2017-10-01\",\"2017-11-01\",\"2017-12-01\",\"2018-01-01\",\"2018-02-01\",\"2018-03-01\",\"2018-04-01\",\"2018-05-01\",\"2018-06-01\",\"2018-07-01\",\"2018-08-01\",\"2018-09-01\",\"2018-10-01\",\"2018-11-01\",\"2018-12-01\",\"2019-01-01\",\"2019-02-01\",\"2019-03-01\",\"2019-04-01\",\"2019-05-01\",\"2019-06-01\",\"2019-07-01\",\"2019-08-01\",\"2019-09-01\",\"2019-10-01\",\"2019-11-01\",\"2019-12-01\",\"2020-01-01\",\"2020-02-01\",\"2020-03-01\",\"2020-04-01\",\"2020-05-01\",\"2020-06-01\",\"2020-07-01\",\"2020-08-01\",\"2020-09-01\",\"2020-10-01\",\"2020-11-01\",\"2020-12-01\",\"2021-01-01\",\"2021-02-01\",\"2021-03-01\",\"2021-04-01\",\"2021-05-01\",\"2021-06-01\",\"2021-07-01\",\"2021-08-01\",\"2021-09-01\",\"2021-10-01\",\"2021-11-01\",\"2021-12-01\",\"2022-01-01\",\"2022-02-01\",\"2022-03-01\",\"2022-04-01\",\"2022-05-01\",\"2022-06-01\",\"2022-07-01\",\"2022-08-01\"],\"y\":[1.0063951015472412,1.0103687047958374,1.0079612731933594,1.0060818195343018,1.0081926584243774,1.0100642442703247,1.0090889930725098,1.010382056236267,1.007469654083252,1.0081164836883545,1.0115361213684082,1.0069040060043335,1.0082865953445435,1.008423089981079,1.0064722299575806,1.008842945098877,1.010961890220642,1.0089975595474243,1.007288932800293,1.0067652463912964,1.008695125579834,1.0105234384536743,1.0098631381988525,1.0063531398773193,1.0131736993789673,1.0094962120056152,1.016036868095398,1.0107979774475098,1.0069822072982788,1.007903814315796,1.0120986700057983,1.0099351406097412,1.0102832317352295,1.0110526084899902,1.0105623006820679,1.0088742971420288,1.0066900253295898,1.0170533657073975,1.0056666135787964,1.0110524892807007,1.0096219778060913,1.009764552116394,1.0119355916976929,1.0133426189422607,1.00728440284729,1.0102373361587524,1.0086325407028198,1.0076897144317627,1.0076643228530884,1.011438250541687,1.0124722719192505,1.0046672821044922,1.0135546922683716,1.0087422132492065,1.0101406574249268,1.0074248313903809,1.0072417259216309,1.008283257484436,1.0079678297042847,3.6245930194854736,1.0110102891921997,1.0108600854873657,1.0075690746307373,1.0059691667556763,1.0086933374404907,1.0165226459503174,1.0118688344955444,1.0079230070114136,1.0098400115966797,1.00982666015625,1.0059305429458618,1.010039210319519,1.0086963176727295,1.0183700323104858,1.0134979486465454,1.0087279081344604,1.0073485374450684,1.007173776626587,1.0096336603164673,1.0118941068649292,1.0084612369537354,1.0082190036773682,1.008512258529663,1.0093952417373657,1.0099401473999023,1.0077393054962158,1.0106528997421265,1.0069957971572876,1.0137656927108765,1.0111873149871826,1.0068995952606201,1.0079758167266846,1.008863091468811,1.005615234375,1.0049965381622314,1.0080782175064087,1.0060802698135376,1.007628321647644,1.0089954137802124,1.0121400356292725,1.009128451347351,1.0115705728530884,1.0079066753387451,1.0076284408569336,1.0052112340927124,1.005475401878357,1.0003215074539185,1.007177710533142,1.0102241039276123,1.008288025856018,1.0070689916610718,1.010146141052246,1.0098146200180054,1.0068341493606567,1.0046937465667725,1.008723258972168,1.0129269361495972,1.0086467266082764,1.0104337930679321,1.0118296146392822,1.0119189023971558,1.0100001096725464,1.0093224048614502,1.0075541734695435,1.0097708702087402,1.007632851600647,1.0081543922424316,1.0076770782470703,1.009745717048645,1.0071226358413696,1.0092270374298096,1.007400631904602,1.0116831064224243,1.0082656145095825,1.0094187259674072,1.0155073404312134,1.0103700160980225,1.0082377195358276,1.0113251209259033,1.0040870904922485,1.0984091758728027,1.0128318071365356,1.008512258529663,1.0106587409973145,1.0107312202453613,1.0104223489761353,1.0070465803146362,1.0075289011001587,1.0099211931228638,1.0186492204666138,1.0343977212905884,1.0064467191696167,1.00538170337677,1.0082576274871826,0.9508050084114075,1.0048376321792603,1.010955572128296,1.0078147649765015,1.006678819656372,1.00941002368927,1.0075604915618896,1.0096389055252075,1.0079667568206787,1.0096983909606934,1.0075541734695435,1.010789394378662,1.0107945203781128,1.0068384408950806,1.0100003480911255,1.0136117935180664,1.0049563646316528,1.006615400314331,1.0099328756332397,1.011043667793274,1.0113497972488403,1.0142089128494263,1.0107636451721191,1.008496642112732,1.0109175443649292,1.0136662721633911,1.004144549369812,1.0096848011016846,1.005499243736267,1.011243224143982,1.0069355964660645,1.0091489553451538,1.001784324645996,1.0108754634857178,1.0108286142349243,1.01038658618927,1.00462806224823,1.01030695438385,1.0070573091506958,1.0086981058120728,1.112411379814148,1.008174180984497,1.0080076456069946,1.014430046081543,3.098565101623535,1.016235113143921,1.0076019763946533,1.0080080032348633,1.0090227127075195,1.008654236793518,1.0113600492477417,1.0076024532318115,1.008824110031128,1.0127869844436646,1.0100222826004028,1.0069137811660767,1.0149829387664795,1.009570837020874,1.0157051086425781,1.0106327533721924,1.0112570524215698,1.0128659009933472,1.0127960443496704,1.0032376050949097,1.0161421298980713,1.0077099800109863,1.0127861499786377,1.0078579187393188,1.0033295154571533,1.0024889707565308,1.0106767416000366,1.0078543424606323,1.0059421062469482,1.011500597000122,1.0069469213485718,1.0076788663864136,1.0037270784378052,1.0163028240203857,1.0063340663909912,1.0075087547302246,1.0074063539505005,1.006706714630127,1.0090457201004028,1.0099202394485474,1.0044596195220947,1.0099809169769287,1.008310079574585,1.0160900354385376,1.009526014328003,1.0108476877212524,1.0120172500610352,1.006464958190918,1.0132594108581543,1.0081528425216675,1.0079553127288818,1.014134168624878,1.0084034204483032,1.0061973333358765,1.0086054801940918,1.0122873783111572,1.005724310874939,1.0153847932815552,1.0099670886993408,1.0083043575286865,1.0077807903289795,1.0107594728469849,1.0058826208114624,1.0059421062469482,1.010658621788025,1.007887363433838,1.0073736906051636,1.0161337852478027,1.0098744630813599,1.0117601156234741,1.0102179050445557,1.009565830230713,1.0159837007522583,1.0199227333068848,1.0103193521499634,1.0067569017410278,1.0115399360656738],\"type\":\"scatter\"},{\"line\":{\"color\":\"green\",\"width\":2},\"mode\":\"lines\",\"name\":\"Test returns\",\"x\":[\"2022-08-01\",\"2022-09-01\",\"2022-10-01\",\"2022-11-01\",\"2022-12-01\",\"2023-01-01\",\"2023-02-01\",\"2023-03-01\",\"2023-04-01\",\"2023-05-01\",\"2023-06-01\",\"2023-07-01\",\"2023-08-01\",\"2023-09-01\",\"2023-10-01\",\"2023-11-01\",\"2023-12-01\",\"2024-01-01\",\"2024-02-01\",\"2024-03-01\",\"2024-04-01\",\"2024-05-01\",\"2024-06-01\",\"2024-07-01\",\"2024-08-01\",\"2024-09-01\"],\"y\":[1.0115399360656738,0.9994059801101685,1.0045957565307617,1.005676031112671,1.0048104524612427,1.0051361322402954,1.0049254894256592,1.0099177360534668,1.0051008462905884,1.0084233283996582,1.0079231262207031,1.006197214126587,1.0119208097457886],\"type\":\"scatter\"}],                        {\"template\":{\"data\":{\"barpolar\":[{\"marker\":{\"line\":{\"color\":\"white\",\"width\":0.5},\"pattern\":{\"fillmode\":\"overlay\",\"size\":10,\"solidity\":0.2}},\"type\":\"barpolar\"}],\"bar\":[{\"error_x\":{\"color\":\"#2a3f5f\"},\"error_y\":{\"color\":\"#2a3f5f\"},\"marker\":{\"line\":{\"color\":\"white\",\"width\":0.5},\"pattern\":{\"fillmode\":\"overlay\",\"size\":10,\"solidity\":0.2}},\"type\":\"bar\"}],\"carpet\":[{\"aaxis\":{\"endlinecolor\":\"#2a3f5f\",\"gridcolor\":\"#C8D4E3\",\"linecolor\":\"#C8D4E3\",\"minorgridcolor\":\"#C8D4E3\",\"startlinecolor\":\"#2a3f5f\"},\"baxis\":{\"endlinecolor\":\"#2a3f5f\",\"gridcolor\":\"#C8D4E3\",\"linecolor\":\"#C8D4E3\",\"minorgridcolor\":\"#C8D4E3\",\"startlinecolor\":\"#2a3f5f\"},\"type\":\"carpet\"}],\"choropleth\":[{\"colorbar\":{\"outlinewidth\":0,\"ticks\":\"\"},\"type\":\"choropleth\"}],\"contourcarpet\":[{\"colorbar\":{\"outlinewidth\":0,\"ticks\":\"\"},\"type\":\"contourcarpet\"}],\"contour\":[{\"colorbar\":{\"outlinewidth\":0,\"ticks\":\"\"},\"colorscale\":[[0.0,\"#0d0887\"],[0.1111111111111111,\"#46039f\"],[0.2222222222222222,\"#7201a8\"],[0.3333333333333333,\"#9c179e\"],[0.4444444444444444,\"#bd3786\"],[0.5555555555555556,\"#d8576b\"],[0.6666666666666666,\"#ed7953\"],[0.7777777777777778,\"#fb9f3a\"],[0.8888888888888888,\"#fdca26\"],[1.0,\"#f0f921\"]],\"type\":\"contour\"}],\"heatmapgl\":[{\"colorbar\":{\"outlinewidth\":0,\"ticks\":\"\"},\"colorscale\":[[0.0,\"#0d0887\"],[0.1111111111111111,\"#46039f\"],[0.2222222222222222,\"#7201a8\"],[0.3333333333333333,\"#9c179e\"],[0.4444444444444444,\"#bd3786\"],[0.5555555555555556,\"#d8576b\"],[0.6666666666666666,\"#ed7953\"],[0.7777777777777778,\"#fb9f3a\"],[0.8888888888888888,\"#fdca26\"],[1.0,\"#f0f921\"]],\"type\":\"heatmapgl\"}],\"heatmap\":[{\"colorbar\":{\"outlinewidth\":0,\"ticks\":\"\"},\"colorscale\":[[0.0,\"#0d0887\"],[0.1111111111111111,\"#46039f\"],[0.2222222222222222,\"#7201a8\"],[0.3333333333333333,\"#9c179e\"],[0.4444444444444444,\"#bd3786\"],[0.5555555555555556,\"#d8576b\"],[0.6666666666666666,\"#ed7953\"],[0.7777777777777778,\"#fb9f3a\"],[0.8888888888888888,\"#fdca26\"],[1.0,\"#f0f921\"]],\"type\":\"heatmap\"}],\"histogram2dcontour\":[{\"colorbar\":{\"outlinewidth\":0,\"ticks\":\"\"},\"colorscale\":[[0.0,\"#0d0887\"],[0.1111111111111111,\"#46039f\"],[0.2222222222222222,\"#7201a8\"],[0.3333333333333333,\"#9c179e\"],[0.4444444444444444,\"#bd3786\"],[0.5555555555555556,\"#d8576b\"],[0.6666666666666666,\"#ed7953\"],[0.7777777777777778,\"#fb9f3a\"],[0.8888888888888888,\"#fdca26\"],[1.0,\"#f0f921\"]],\"type\":\"histogram2dcontour\"}],\"histogram2d\":[{\"colorbar\":{\"outlinewidth\":0,\"ticks\":\"\"},\"colorscale\":[[0.0,\"#0d0887\"],[0.1111111111111111,\"#46039f\"],[0.2222222222222222,\"#7201a8\"],[0.3333333333333333,\"#9c179e\"],[0.4444444444444444,\"#bd3786\"],[0.5555555555555556,\"#d8576b\"],[0.6666666666666666,\"#ed7953\"],[0.7777777777777778,\"#fb9f3a\"],[0.8888888888888888,\"#fdca26\"],[1.0,\"#f0f921\"]],\"type\":\"histogram2d\"}],\"histogram\":[{\"marker\":{\"pattern\":{\"fillmode\":\"overlay\",\"size\":10,\"solidity\":0.2}},\"type\":\"histogram\"}],\"mesh3d\":[{\"colorbar\":{\"outlinewidth\":0,\"ticks\":\"\"},\"type\":\"mesh3d\"}],\"parcoords\":[{\"line\":{\"colorbar\":{\"outlinewidth\":0,\"ticks\":\"\"}},\"type\":\"parcoords\"}],\"pie\":[{\"automargin\":true,\"type\":\"pie\"}],\"scatter3d\":[{\"line\":{\"colorbar\":{\"outlinewidth\":0,\"ticks\":\"\"}},\"marker\":{\"colorbar\":{\"outlinewidth\":0,\"ticks\":\"\"}},\"type\":\"scatter3d\"}],\"scattercarpet\":[{\"marker\":{\"colorbar\":{\"outlinewidth\":0,\"ticks\":\"\"}},\"type\":\"scattercarpet\"}],\"scattergeo\":[{\"marker\":{\"colorbar\":{\"outlinewidth\":0,\"ticks\":\"\"}},\"type\":\"scattergeo\"}],\"scattergl\":[{\"marker\":{\"colorbar\":{\"outlinewidth\":0,\"ticks\":\"\"}},\"type\":\"scattergl\"}],\"scattermapbox\":[{\"marker\":{\"colorbar\":{\"outlinewidth\":0,\"ticks\":\"\"}},\"type\":\"scattermapbox\"}],\"scatterpolargl\":[{\"marker\":{\"colorbar\":{\"outlinewidth\":0,\"ticks\":\"\"}},\"type\":\"scatterpolargl\"}],\"scatterpolar\":[{\"marker\":{\"colorbar\":{\"outlinewidth\":0,\"ticks\":\"\"}},\"type\":\"scatterpolar\"}],\"scatter\":[{\"fillpattern\":{\"fillmode\":\"overlay\",\"size\":10,\"solidity\":0.2},\"type\":\"scatter\"}],\"scatterternary\":[{\"marker\":{\"colorbar\":{\"outlinewidth\":0,\"ticks\":\"\"}},\"type\":\"scatterternary\"}],\"surface\":[{\"colorbar\":{\"outlinewidth\":0,\"ticks\":\"\"},\"colorscale\":[[0.0,\"#0d0887\"],[0.1111111111111111,\"#46039f\"],[0.2222222222222222,\"#7201a8\"],[0.3333333333333333,\"#9c179e\"],[0.4444444444444444,\"#bd3786\"],[0.5555555555555556,\"#d8576b\"],[0.6666666666666666,\"#ed7953\"],[0.7777777777777778,\"#fb9f3a\"],[0.8888888888888888,\"#fdca26\"],[1.0,\"#f0f921\"]],\"type\":\"surface\"}],\"table\":[{\"cells\":{\"fill\":{\"color\":\"#EBF0F8\"},\"line\":{\"color\":\"white\"}},\"header\":{\"fill\":{\"color\":\"#C8D4E3\"},\"line\":{\"color\":\"white\"}},\"type\":\"table\"}]},\"layout\":{\"annotationdefaults\":{\"arrowcolor\":\"#2a3f5f\",\"arrowhead\":0,\"arrowwidth\":1},\"autotypenumbers\":\"strict\",\"coloraxis\":{\"colorbar\":{\"outlinewidth\":0,\"ticks\":\"\"}},\"colorscale\":{\"diverging\":[[0,\"#8e0152\"],[0.1,\"#c51b7d\"],[0.2,\"#de77ae\"],[0.3,\"#f1b6da\"],[0.4,\"#fde0ef\"],[0.5,\"#f7f7f7\"],[0.6,\"#e6f5d0\"],[0.7,\"#b8e186\"],[0.8,\"#7fbc41\"],[0.9,\"#4d9221\"],[1,\"#276419\"]],\"sequential\":[[0.0,\"#0d0887\"],[0.1111111111111111,\"#46039f\"],[0.2222222222222222,\"#7201a8\"],[0.3333333333333333,\"#9c179e\"],[0.4444444444444444,\"#bd3786\"],[0.5555555555555556,\"#d8576b\"],[0.6666666666666666,\"#ed7953\"],[0.7777777777777778,\"#fb9f3a\"],[0.8888888888888888,\"#fdca26\"],[1.0,\"#f0f921\"]],\"sequentialminus\":[[0.0,\"#0d0887\"],[0.1111111111111111,\"#46039f\"],[0.2222222222222222,\"#7201a8\"],[0.3333333333333333,\"#9c179e\"],[0.4444444444444444,\"#bd3786\"],[0.5555555555555556,\"#d8576b\"],[0.6666666666666666,\"#ed7953\"],[0.7777777777777778,\"#fb9f3a\"],[0.8888888888888888,\"#fdca26\"],[1.0,\"#f0f921\"]]},\"colorway\":[\"#636efa\",\"#EF553B\",\"#00cc96\",\"#ab63fa\",\"#FFA15A\",\"#19d3f3\",\"#FF6692\",\"#B6E880\",\"#FF97FF\",\"#FECB52\"],\"font\":{\"color\":\"#2a3f5f\"},\"geo\":{\"bgcolor\":\"white\",\"lakecolor\":\"white\",\"landcolor\":\"white\",\"showlakes\":true,\"showland\":true,\"subunitcolor\":\"#C8D4E3\"},\"hoverlabel\":{\"align\":\"left\"},\"hovermode\":\"closest\",\"mapbox\":{\"style\":\"light\"},\"paper_bgcolor\":\"white\",\"plot_bgcolor\":\"white\",\"polar\":{\"angularaxis\":{\"gridcolor\":\"#EBF0F8\",\"linecolor\":\"#EBF0F8\",\"ticks\":\"\"},\"bgcolor\":\"white\",\"radialaxis\":{\"gridcolor\":\"#EBF0F8\",\"linecolor\":\"#EBF0F8\",\"ticks\":\"\"}},\"scene\":{\"xaxis\":{\"backgroundcolor\":\"white\",\"gridcolor\":\"#DFE8F3\",\"gridwidth\":2,\"linecolor\":\"#EBF0F8\",\"showbackground\":true,\"ticks\":\"\",\"zerolinecolor\":\"#EBF0F8\"},\"yaxis\":{\"backgroundcolor\":\"white\",\"gridcolor\":\"#DFE8F3\",\"gridwidth\":2,\"linecolor\":\"#EBF0F8\",\"showbackground\":true,\"ticks\":\"\",\"zerolinecolor\":\"#EBF0F8\"},\"zaxis\":{\"backgroundcolor\":\"white\",\"gridcolor\":\"#DFE8F3\",\"gridwidth\":2,\"linecolor\":\"#EBF0F8\",\"showbackground\":true,\"ticks\":\"\",\"zerolinecolor\":\"#EBF0F8\"}},\"shapedefaults\":{\"line\":{\"color\":\"#2a3f5f\"}},\"ternary\":{\"aaxis\":{\"gridcolor\":\"#DFE8F3\",\"linecolor\":\"#A2B1C6\",\"ticks\":\"\"},\"baxis\":{\"gridcolor\":\"#DFE8F3\",\"linecolor\":\"#A2B1C6\",\"ticks\":\"\"},\"bgcolor\":\"white\",\"caxis\":{\"gridcolor\":\"#DFE8F3\",\"linecolor\":\"#A2B1C6\",\"ticks\":\"\"}},\"title\":{\"x\":0.05},\"xaxis\":{\"automargin\":true,\"gridcolor\":\"#EBF0F8\",\"linecolor\":\"#EBF0F8\",\"ticks\":\"\",\"title\":{\"standoff\":15},\"zerolinecolor\":\"#EBF0F8\",\"zerolinewidth\":2},\"yaxis\":{\"automargin\":true,\"gridcolor\":\"#EBF0F8\",\"linecolor\":\"#EBF0F8\",\"ticks\":\"\",\"title\":{\"standoff\":15},\"zerolinecolor\":\"#EBF0F8\",\"zerolinewidth\":2}}},\"shapes\":[{\"line\":{\"color\":\"red\",\"dash\":\"dash\",\"width\":1},\"type\":\"line\",\"x0\":\"2023-08-01\",\"x1\":\"2023-08-01\",\"xref\":\"x\",\"y0\":0,\"y1\":1,\"yref\":\"y domain\"}],\"yaxis\":{\"title\":{\"text\":\"Day closing return (%)\"},\"tickformat\":\".0%\",\"range\":[0.75,1.6]},\"title\":{\"text\":\"12 Month Prediction vs Actual Plot\"},\"xaxis\":{\"title\":{\"text\":\"Date\"}},\"legend\":{\"title\":{\"text\":\"Legend\"}}},                        {\"responsive\": true}                    ).then(function(){\n",
       "                            \n",
       "var gd = document.getElementById('faf83fc8-83a0-45b6-a52d-8bdbe7812578');\n",
       "var x = new MutationObserver(function (mutations, observer) {{\n",
       "        var display = window.getComputedStyle(gd).display;\n",
       "        if (!display || display === 'none') {{\n",
       "            console.log([gd, 'removed!']);\n",
       "            Plotly.purge(gd);\n",
       "            observer.disconnect();\n",
       "        }}\n",
       "}});\n",
       "\n",
       "// Listen for the removal of the full notebook cells\n",
       "var notebookContainer = gd.closest('#notebook-container');\n",
       "if (notebookContainer) {{\n",
       "    x.observe(notebookContainer, {childList: true});\n",
       "}}\n",
       "\n",
       "// Listen for the clearing of the current output cell\n",
       "var outputEl = gd.closest('.output');\n",
       "if (outputEl) {{\n",
       "    x.observe(outputEl, {childList: true});\n",
       "}}\n",
       "\n",
       "                        })                };                });            </script>        </div>"
      ]
     },
     "metadata": {},
     "output_type": "display_data"
    }
   ],
   "execution_count": 299
  }
 ],
 "metadata": {
  "kernelspec": {
   "display_name": "Python 3",
   "language": "python",
   "name": "python3"
  },
  "language_info": {
   "codemirror_mode": {
    "name": "ipython",
    "version": 2
   },
   "file_extension": ".py",
   "mimetype": "text/x-python",
   "name": "python",
   "nbconvert_exporter": "python",
   "pygments_lexer": "ipython2",
   "version": "2.7.6"
  }
 },
 "nbformat": 4,
 "nbformat_minor": 5
}
