{
 "cells": [
  {
   "cell_type": "code",
   "id": "initial_id",
   "metadata": {
    "collapsed": true,
    "ExecuteTime": {
     "end_time": "2025-04-06T11:40:49.132728Z",
     "start_time": "2025-04-06T11:40:49.126903Z"
    }
   },
   "source": [
    "# Python\n",
    "import pandas as pd\n",
    "import numpy as np\n",
    "#\n",
    "from pathlib import Path\n",
    "#\n",
    "import xgboost\n",
    "#\n",
    "import importlib\n",
    "import utilities.train_test as train_test\n",
    "import utilities.comparison as comparison"
   ],
   "outputs": [],
   "execution_count": 367
  },
  {
   "metadata": {
    "ExecuteTime": {
     "end_time": "2025-04-06T11:40:49.199988Z",
     "start_time": "2025-04-06T11:40:49.138166Z"
    }
   },
   "cell_type": "code",
   "source": [
    "df = pd.read_csv('../../../data/df_monthly_returns_complete_percentage.csv', index_col='Date')\n",
    "df_overview = pd.read_csv('../../../data/df_overview.csv', index_col=0)"
   ],
   "id": "b9221bdd2218913f",
   "outputs": [],
   "execution_count": 368
  },
  {
   "metadata": {
    "ExecuteTime": {
     "end_time": "2025-04-06T12:16:14.103624Z",
     "start_time": "2025-04-06T12:16:13.369241Z"
    }
   },
   "cell_type": "code",
   "source": [
    "file = Path(\"../../../data/df_tabular.csv\")\n",
    "\n",
    "if file.exists():\n",
    "    df_tabular = pd.read_csv(file, index_col=0)\n",
    "else:\n",
    "    importlib.reload(train_test)\n",
    "    df_tabular = train_test.get_dataframe_tabular(df)\n",
    "    df_tabular.to_csv(file)"
   ],
   "id": "e2b0193bd016f312",
   "outputs": [],
   "execution_count": 448
  },
  {
   "metadata": {
    "ExecuteTime": {
     "end_time": "2025-04-06T12:16:15.614918Z",
     "start_time": "2025-04-06T12:16:15.523189Z"
    }
   },
   "cell_type": "code",
   "source": "df_tabular",
   "id": "e4ec708dbefb392d",
   "outputs": [
    {
     "data": {
      "text/plain": [
       "        month  year        date  m_return(t-11)  m_return(t-10)  \\\n",
       "0          10  2000  2000-10-01            1.13            1.11   \n",
       "1          11  2000  2000-11-01            1.11            1.02   \n",
       "2          12  2000  2000-12-01            1.02            1.00   \n",
       "3           1  2001  2001-01-01            1.00            1.00   \n",
       "4           2  2001  2001-02-01            1.00            1.00   \n",
       "...       ...   ...         ...             ...             ...   \n",
       "474406      4  2024  2024-04-01            0.98            1.07   \n",
       "474407      5  2024  2024-05-01            1.07            1.13   \n",
       "474408      6  2024  2024-06-01            1.13            0.95   \n",
       "474409      7  2024  2024-07-01            0.95            0.93   \n",
       "474410      8  2024  2024-08-01            0.93            1.02   \n",
       "\n",
       "        m_return(t-9)  m_return(t-8)  m_return(t-7)  m_return(t-6)  \\\n",
       "0                1.02           1.00           1.00           1.00   \n",
       "1                1.00           1.00           1.00           1.00   \n",
       "2                1.00           1.00           1.00           1.00   \n",
       "3                1.00           1.00           1.00           1.01   \n",
       "4                1.00           1.00           1.01           1.00   \n",
       "...               ...            ...            ...            ...   \n",
       "474406           1.13           0.95           0.93           1.02   \n",
       "474407           0.95           0.93           1.02           1.09   \n",
       "474408           0.93           1.02           1.09           1.09   \n",
       "474409           1.02           1.09           1.09           1.00   \n",
       "474410           1.09           1.09           1.00           1.04   \n",
       "\n",
       "        m_return(t-5)  ...  m_return_target(t+4)  m_return_target(t+5)  \\\n",
       "0                1.00  ...                  1.00                  1.00   \n",
       "1                1.00  ...                  1.00                  1.00   \n",
       "2                1.01  ...                  1.00                  1.00   \n",
       "3                1.00  ...                  1.00                  1.00   \n",
       "4                1.00  ...                  1.00                  1.01   \n",
       "...               ...  ...                   ...                   ...   \n",
       "474406           1.09  ...                  1.04                  0.99   \n",
       "474407           1.09  ...                  0.99                   NaN   \n",
       "474408           1.00  ...                   NaN                   NaN   \n",
       "474409           1.04  ...                   NaN                   NaN   \n",
       "474410           0.97  ...                   NaN                   NaN   \n",
       "\n",
       "        m_return_target(t+6)  m_return_target(t+7)  m_return_target(t+8)  \\\n",
       "0                       1.00                  1.00                  1.00   \n",
       "1                       1.00                  1.00                  1.01   \n",
       "2                       1.00                  1.01                  1.00   \n",
       "3                       1.01                  1.00                  1.00   \n",
       "4                       1.00                  1.00                  1.00   \n",
       "...                      ...                   ...                   ...   \n",
       "474406                   NaN                   NaN                   NaN   \n",
       "474407                   NaN                   NaN                   NaN   \n",
       "474408                   NaN                   NaN                   NaN   \n",
       "474409                   NaN                   NaN                   NaN   \n",
       "474410                   NaN                   NaN                   NaN   \n",
       "\n",
       "        m_return_target(t+9)  m_return_target(t+10)  m_return_target(t+11)  \\\n",
       "0                       1.01                    1.0                   1.00   \n",
       "1                       1.00                    1.0                   1.00   \n",
       "2                       1.00                    1.0                   1.00   \n",
       "3                       1.00                    1.0                   1.00   \n",
       "4                       1.00                    1.0                   1.01   \n",
       "...                      ...                    ...                    ...   \n",
       "474406                   NaN                    NaN                    NaN   \n",
       "474407                   NaN                    NaN                    NaN   \n",
       "474408                   NaN                    NaN                    NaN   \n",
       "474409                   NaN                    NaN                    NaN   \n",
       "474410                   NaN                    NaN                    NaN   \n",
       "\n",
       "        m_return_target(t+12)  stock_ticker_label  \n",
       "0                        1.00                1371  \n",
       "1                        1.00                1371  \n",
       "2                        1.00                1371  \n",
       "3                        1.01                1371  \n",
       "4                        1.00                1371  \n",
       "...                       ...                 ...  \n",
       "474406                    NaN                1549  \n",
       "474407                    NaN                1549  \n",
       "474408                    NaN                1549  \n",
       "474409                    NaN                1549  \n",
       "474410                    NaN                1549  \n",
       "\n",
       "[474411 rows x 28 columns]"
      ],
      "text/html": [
       "<div>\n",
       "<style scoped>\n",
       "    .dataframe tbody tr th:only-of-type {\n",
       "        vertical-align: middle;\n",
       "    }\n",
       "\n",
       "    .dataframe tbody tr th {\n",
       "        vertical-align: top;\n",
       "    }\n",
       "\n",
       "    .dataframe thead th {\n",
       "        text-align: right;\n",
       "    }\n",
       "</style>\n",
       "<table border=\"1\" class=\"dataframe\">\n",
       "  <thead>\n",
       "    <tr style=\"text-align: right;\">\n",
       "      <th></th>\n",
       "      <th>month</th>\n",
       "      <th>year</th>\n",
       "      <th>date</th>\n",
       "      <th>m_return(t-11)</th>\n",
       "      <th>m_return(t-10)</th>\n",
       "      <th>m_return(t-9)</th>\n",
       "      <th>m_return(t-8)</th>\n",
       "      <th>m_return(t-7)</th>\n",
       "      <th>m_return(t-6)</th>\n",
       "      <th>m_return(t-5)</th>\n",
       "      <th>...</th>\n",
       "      <th>m_return_target(t+4)</th>\n",
       "      <th>m_return_target(t+5)</th>\n",
       "      <th>m_return_target(t+6)</th>\n",
       "      <th>m_return_target(t+7)</th>\n",
       "      <th>m_return_target(t+8)</th>\n",
       "      <th>m_return_target(t+9)</th>\n",
       "      <th>m_return_target(t+10)</th>\n",
       "      <th>m_return_target(t+11)</th>\n",
       "      <th>m_return_target(t+12)</th>\n",
       "      <th>stock_ticker_label</th>\n",
       "    </tr>\n",
       "  </thead>\n",
       "  <tbody>\n",
       "    <tr>\n",
       "      <th>0</th>\n",
       "      <td>10</td>\n",
       "      <td>2000</td>\n",
       "      <td>2000-10-01</td>\n",
       "      <td>1.13</td>\n",
       "      <td>1.11</td>\n",
       "      <td>1.02</td>\n",
       "      <td>1.00</td>\n",
       "      <td>1.00</td>\n",
       "      <td>1.00</td>\n",
       "      <td>1.00</td>\n",
       "      <td>...</td>\n",
       "      <td>1.00</td>\n",
       "      <td>1.00</td>\n",
       "      <td>1.00</td>\n",
       "      <td>1.00</td>\n",
       "      <td>1.00</td>\n",
       "      <td>1.01</td>\n",
       "      <td>1.0</td>\n",
       "      <td>1.00</td>\n",
       "      <td>1.00</td>\n",
       "      <td>1371</td>\n",
       "    </tr>\n",
       "    <tr>\n",
       "      <th>1</th>\n",
       "      <td>11</td>\n",
       "      <td>2000</td>\n",
       "      <td>2000-11-01</td>\n",
       "      <td>1.11</td>\n",
       "      <td>1.02</td>\n",
       "      <td>1.00</td>\n",
       "      <td>1.00</td>\n",
       "      <td>1.00</td>\n",
       "      <td>1.00</td>\n",
       "      <td>1.00</td>\n",
       "      <td>...</td>\n",
       "      <td>1.00</td>\n",
       "      <td>1.00</td>\n",
       "      <td>1.00</td>\n",
       "      <td>1.00</td>\n",
       "      <td>1.01</td>\n",
       "      <td>1.00</td>\n",
       "      <td>1.0</td>\n",
       "      <td>1.00</td>\n",
       "      <td>1.00</td>\n",
       "      <td>1371</td>\n",
       "    </tr>\n",
       "    <tr>\n",
       "      <th>2</th>\n",
       "      <td>12</td>\n",
       "      <td>2000</td>\n",
       "      <td>2000-12-01</td>\n",
       "      <td>1.02</td>\n",
       "      <td>1.00</td>\n",
       "      <td>1.00</td>\n",
       "      <td>1.00</td>\n",
       "      <td>1.00</td>\n",
       "      <td>1.00</td>\n",
       "      <td>1.01</td>\n",
       "      <td>...</td>\n",
       "      <td>1.00</td>\n",
       "      <td>1.00</td>\n",
       "      <td>1.00</td>\n",
       "      <td>1.01</td>\n",
       "      <td>1.00</td>\n",
       "      <td>1.00</td>\n",
       "      <td>1.0</td>\n",
       "      <td>1.00</td>\n",
       "      <td>1.00</td>\n",
       "      <td>1371</td>\n",
       "    </tr>\n",
       "    <tr>\n",
       "      <th>3</th>\n",
       "      <td>1</td>\n",
       "      <td>2001</td>\n",
       "      <td>2001-01-01</td>\n",
       "      <td>1.00</td>\n",
       "      <td>1.00</td>\n",
       "      <td>1.00</td>\n",
       "      <td>1.00</td>\n",
       "      <td>1.00</td>\n",
       "      <td>1.01</td>\n",
       "      <td>1.00</td>\n",
       "      <td>...</td>\n",
       "      <td>1.00</td>\n",
       "      <td>1.00</td>\n",
       "      <td>1.01</td>\n",
       "      <td>1.00</td>\n",
       "      <td>1.00</td>\n",
       "      <td>1.00</td>\n",
       "      <td>1.0</td>\n",
       "      <td>1.00</td>\n",
       "      <td>1.01</td>\n",
       "      <td>1371</td>\n",
       "    </tr>\n",
       "    <tr>\n",
       "      <th>4</th>\n",
       "      <td>2</td>\n",
       "      <td>2001</td>\n",
       "      <td>2001-02-01</td>\n",
       "      <td>1.00</td>\n",
       "      <td>1.00</td>\n",
       "      <td>1.00</td>\n",
       "      <td>1.00</td>\n",
       "      <td>1.01</td>\n",
       "      <td>1.00</td>\n",
       "      <td>1.00</td>\n",
       "      <td>...</td>\n",
       "      <td>1.00</td>\n",
       "      <td>1.01</td>\n",
       "      <td>1.00</td>\n",
       "      <td>1.00</td>\n",
       "      <td>1.00</td>\n",
       "      <td>1.00</td>\n",
       "      <td>1.0</td>\n",
       "      <td>1.01</td>\n",
       "      <td>1.00</td>\n",
       "      <td>1371</td>\n",
       "    </tr>\n",
       "    <tr>\n",
       "      <th>...</th>\n",
       "      <td>...</td>\n",
       "      <td>...</td>\n",
       "      <td>...</td>\n",
       "      <td>...</td>\n",
       "      <td>...</td>\n",
       "      <td>...</td>\n",
       "      <td>...</td>\n",
       "      <td>...</td>\n",
       "      <td>...</td>\n",
       "      <td>...</td>\n",
       "      <td>...</td>\n",
       "      <td>...</td>\n",
       "      <td>...</td>\n",
       "      <td>...</td>\n",
       "      <td>...</td>\n",
       "      <td>...</td>\n",
       "      <td>...</td>\n",
       "      <td>...</td>\n",
       "      <td>...</td>\n",
       "      <td>...</td>\n",
       "      <td>...</td>\n",
       "    </tr>\n",
       "    <tr>\n",
       "      <th>474406</th>\n",
       "      <td>4</td>\n",
       "      <td>2024</td>\n",
       "      <td>2024-04-01</td>\n",
       "      <td>0.98</td>\n",
       "      <td>1.07</td>\n",
       "      <td>1.13</td>\n",
       "      <td>0.95</td>\n",
       "      <td>0.93</td>\n",
       "      <td>1.02</td>\n",
       "      <td>1.09</td>\n",
       "      <td>...</td>\n",
       "      <td>1.04</td>\n",
       "      <td>0.99</td>\n",
       "      <td>NaN</td>\n",
       "      <td>NaN</td>\n",
       "      <td>NaN</td>\n",
       "      <td>NaN</td>\n",
       "      <td>NaN</td>\n",
       "      <td>NaN</td>\n",
       "      <td>NaN</td>\n",
       "      <td>1549</td>\n",
       "    </tr>\n",
       "    <tr>\n",
       "      <th>474407</th>\n",
       "      <td>5</td>\n",
       "      <td>2024</td>\n",
       "      <td>2024-05-01</td>\n",
       "      <td>1.07</td>\n",
       "      <td>1.13</td>\n",
       "      <td>0.95</td>\n",
       "      <td>0.93</td>\n",
       "      <td>1.02</td>\n",
       "      <td>1.09</td>\n",
       "      <td>1.09</td>\n",
       "      <td>...</td>\n",
       "      <td>0.99</td>\n",
       "      <td>NaN</td>\n",
       "      <td>NaN</td>\n",
       "      <td>NaN</td>\n",
       "      <td>NaN</td>\n",
       "      <td>NaN</td>\n",
       "      <td>NaN</td>\n",
       "      <td>NaN</td>\n",
       "      <td>NaN</td>\n",
       "      <td>1549</td>\n",
       "    </tr>\n",
       "    <tr>\n",
       "      <th>474408</th>\n",
       "      <td>6</td>\n",
       "      <td>2024</td>\n",
       "      <td>2024-06-01</td>\n",
       "      <td>1.13</td>\n",
       "      <td>0.95</td>\n",
       "      <td>0.93</td>\n",
       "      <td>1.02</td>\n",
       "      <td>1.09</td>\n",
       "      <td>1.09</td>\n",
       "      <td>1.00</td>\n",
       "      <td>...</td>\n",
       "      <td>NaN</td>\n",
       "      <td>NaN</td>\n",
       "      <td>NaN</td>\n",
       "      <td>NaN</td>\n",
       "      <td>NaN</td>\n",
       "      <td>NaN</td>\n",
       "      <td>NaN</td>\n",
       "      <td>NaN</td>\n",
       "      <td>NaN</td>\n",
       "      <td>1549</td>\n",
       "    </tr>\n",
       "    <tr>\n",
       "      <th>474409</th>\n",
       "      <td>7</td>\n",
       "      <td>2024</td>\n",
       "      <td>2024-07-01</td>\n",
       "      <td>0.95</td>\n",
       "      <td>0.93</td>\n",
       "      <td>1.02</td>\n",
       "      <td>1.09</td>\n",
       "      <td>1.09</td>\n",
       "      <td>1.00</td>\n",
       "      <td>1.04</td>\n",
       "      <td>...</td>\n",
       "      <td>NaN</td>\n",
       "      <td>NaN</td>\n",
       "      <td>NaN</td>\n",
       "      <td>NaN</td>\n",
       "      <td>NaN</td>\n",
       "      <td>NaN</td>\n",
       "      <td>NaN</td>\n",
       "      <td>NaN</td>\n",
       "      <td>NaN</td>\n",
       "      <td>1549</td>\n",
       "    </tr>\n",
       "    <tr>\n",
       "      <th>474410</th>\n",
       "      <td>8</td>\n",
       "      <td>2024</td>\n",
       "      <td>2024-08-01</td>\n",
       "      <td>0.93</td>\n",
       "      <td>1.02</td>\n",
       "      <td>1.09</td>\n",
       "      <td>1.09</td>\n",
       "      <td>1.00</td>\n",
       "      <td>1.04</td>\n",
       "      <td>0.97</td>\n",
       "      <td>...</td>\n",
       "      <td>NaN</td>\n",
       "      <td>NaN</td>\n",
       "      <td>NaN</td>\n",
       "      <td>NaN</td>\n",
       "      <td>NaN</td>\n",
       "      <td>NaN</td>\n",
       "      <td>NaN</td>\n",
       "      <td>NaN</td>\n",
       "      <td>NaN</td>\n",
       "      <td>1549</td>\n",
       "    </tr>\n",
       "  </tbody>\n",
       "</table>\n",
       "<p>474411 rows × 28 columns</p>\n",
       "</div>"
      ]
     },
     "execution_count": 449,
     "metadata": {},
     "output_type": "execute_result"
    }
   ],
   "execution_count": 449
  },
  {
   "metadata": {},
   "cell_type": "markdown",
   "source": "### Missing values",
   "id": "375975a1ee3f40a1"
  },
  {
   "metadata": {
    "ExecuteTime": {
     "end_time": "2025-04-06T12:16:17.142143Z",
     "start_time": "2025-04-06T12:16:17.133596Z"
    }
   },
   "cell_type": "code",
   "source": "df_tabular[df_tabular[\"m_return_target(t+1)\"].isna()][[\"date\", \"stock_ticker_label\"]]\n",
   "id": "7daea158ea251e5a",
   "outputs": [
    {
     "data": {
      "text/plain": [
       "Empty DataFrame\n",
       "Columns: [date, stock_ticker_label]\n",
       "Index: []"
      ],
      "text/html": [
       "<div>\n",
       "<style scoped>\n",
       "    .dataframe tbody tr th:only-of-type {\n",
       "        vertical-align: middle;\n",
       "    }\n",
       "\n",
       "    .dataframe tbody tr th {\n",
       "        vertical-align: top;\n",
       "    }\n",
       "\n",
       "    .dataframe thead th {\n",
       "        text-align: right;\n",
       "    }\n",
       "</style>\n",
       "<table border=\"1\" class=\"dataframe\">\n",
       "  <thead>\n",
       "    <tr style=\"text-align: right;\">\n",
       "      <th></th>\n",
       "      <th>date</th>\n",
       "      <th>stock_ticker_label</th>\n",
       "    </tr>\n",
       "  </thead>\n",
       "  <tbody>\n",
       "  </tbody>\n",
       "</table>\n",
       "</div>"
      ]
     },
     "execution_count": 450,
     "metadata": {},
     "output_type": "execute_result"
    }
   ],
   "execution_count": 450
  },
  {
   "metadata": {},
   "cell_type": "markdown",
   "source": "## Direct forecasting",
   "id": "da71bcf8417400cf"
  },
  {
   "metadata": {},
   "cell_type": "markdown",
   "source": "## 1 Month",
   "id": "420fc796bdd8258f"
  },
  {
   "metadata": {
    "ExecuteTime": {
     "end_time": "2025-04-06T12:16:32.399609Z",
     "start_time": "2025-04-06T12:16:20.424784Z"
    }
   },
   "cell_type": "code",
   "source": [
    "importlib.reload(train_test)\n",
    "\n",
    "X_train, y_train, X_test, y_test = train_test.get_train_test(df_tabular, months=60)\n",
    "\n",
    "model = xgboost.XGBRegressor(n_estimators=1000)\n",
    "model.fit(X_train, y_train,\n",
    "          eval_set=[(X_train, y_train), (X_test, y_test)],\n",
    "          verbose=False)"
   ],
   "id": "f8b6f469d0e456e9",
   "outputs": [
    {
     "data": {
      "text/plain": [
       "XGBRegressor(base_score=None, booster=None, callbacks=None,\n",
       "             colsample_bylevel=None, colsample_bynode=None,\n",
       "             colsample_bytree=None, device=None, early_stopping_rounds=None,\n",
       "             enable_categorical=False, eval_metric=None, feature_types=None,\n",
       "             gamma=None, grow_policy=None, importance_type=None,\n",
       "             interaction_constraints=None, learning_rate=None, max_bin=None,\n",
       "             max_cat_threshold=None, max_cat_to_onehot=None,\n",
       "             max_delta_step=None, max_depth=None, max_leaves=None,\n",
       "             min_child_weight=None, missing=nan, monotone_constraints=None,\n",
       "             multi_strategy=None, n_estimators=1000, n_jobs=None,\n",
       "             num_parallel_tree=None, random_state=None, ...)"
      ],
      "text/html": [
       "<style>#sk-container-id-8 {color: black;}#sk-container-id-8 pre{padding: 0;}#sk-container-id-8 div.sk-toggleable {background-color: white;}#sk-container-id-8 label.sk-toggleable__label {cursor: pointer;display: block;width: 100%;margin-bottom: 0;padding: 0.3em;box-sizing: border-box;text-align: center;}#sk-container-id-8 label.sk-toggleable__label-arrow:before {content: \"▸\";float: left;margin-right: 0.25em;color: #696969;}#sk-container-id-8 label.sk-toggleable__label-arrow:hover:before {color: black;}#sk-container-id-8 div.sk-estimator:hover label.sk-toggleable__label-arrow:before {color: black;}#sk-container-id-8 div.sk-toggleable__content {max-height: 0;max-width: 0;overflow: hidden;text-align: left;background-color: #f0f8ff;}#sk-container-id-8 div.sk-toggleable__content pre {margin: 0.2em;color: black;border-radius: 0.25em;background-color: #f0f8ff;}#sk-container-id-8 input.sk-toggleable__control:checked~div.sk-toggleable__content {max-height: 200px;max-width: 100%;overflow: auto;}#sk-container-id-8 input.sk-toggleable__control:checked~label.sk-toggleable__label-arrow:before {content: \"▾\";}#sk-container-id-8 div.sk-estimator input.sk-toggleable__control:checked~label.sk-toggleable__label {background-color: #d4ebff;}#sk-container-id-8 div.sk-label input.sk-toggleable__control:checked~label.sk-toggleable__label {background-color: #d4ebff;}#sk-container-id-8 input.sk-hidden--visually {border: 0;clip: rect(1px 1px 1px 1px);clip: rect(1px, 1px, 1px, 1px);height: 1px;margin: -1px;overflow: hidden;padding: 0;position: absolute;width: 1px;}#sk-container-id-8 div.sk-estimator {font-family: monospace;background-color: #f0f8ff;border: 1px dotted black;border-radius: 0.25em;box-sizing: border-box;margin-bottom: 0.5em;}#sk-container-id-8 div.sk-estimator:hover {background-color: #d4ebff;}#sk-container-id-8 div.sk-parallel-item::after {content: \"\";width: 100%;border-bottom: 1px solid gray;flex-grow: 1;}#sk-container-id-8 div.sk-label:hover label.sk-toggleable__label {background-color: #d4ebff;}#sk-container-id-8 div.sk-serial::before {content: \"\";position: absolute;border-left: 1px solid gray;box-sizing: border-box;top: 0;bottom: 0;left: 50%;z-index: 0;}#sk-container-id-8 div.sk-serial {display: flex;flex-direction: column;align-items: center;background-color: white;padding-right: 0.2em;padding-left: 0.2em;position: relative;}#sk-container-id-8 div.sk-item {position: relative;z-index: 1;}#sk-container-id-8 div.sk-parallel {display: flex;align-items: stretch;justify-content: center;background-color: white;position: relative;}#sk-container-id-8 div.sk-item::before, #sk-container-id-8 div.sk-parallel-item::before {content: \"\";position: absolute;border-left: 1px solid gray;box-sizing: border-box;top: 0;bottom: 0;left: 50%;z-index: -1;}#sk-container-id-8 div.sk-parallel-item {display: flex;flex-direction: column;z-index: 1;position: relative;background-color: white;}#sk-container-id-8 div.sk-parallel-item:first-child::after {align-self: flex-end;width: 50%;}#sk-container-id-8 div.sk-parallel-item:last-child::after {align-self: flex-start;width: 50%;}#sk-container-id-8 div.sk-parallel-item:only-child::after {width: 0;}#sk-container-id-8 div.sk-dashed-wrapped {border: 1px dashed gray;margin: 0 0.4em 0.5em 0.4em;box-sizing: border-box;padding-bottom: 0.4em;background-color: white;}#sk-container-id-8 div.sk-label label {font-family: monospace;font-weight: bold;display: inline-block;line-height: 1.2em;}#sk-container-id-8 div.sk-label-container {text-align: center;}#sk-container-id-8 div.sk-container {/* jupyter's `normalize.less` sets `[hidden] { display: none; }` but bootstrap.min.css set `[hidden] { display: none !important; }` so we also need the `!important` here to be able to override the default hidden behavior on the sphinx rendered scikit-learn.org. See: https://github.com/scikit-learn/scikit-learn/issues/21755 */display: inline-block !important;position: relative;}#sk-container-id-8 div.sk-text-repr-fallback {display: none;}</style><div id=\"sk-container-id-8\" class=\"sk-top-container\"><div class=\"sk-text-repr-fallback\"><pre>XGBRegressor(base_score=None, booster=None, callbacks=None,\n",
       "             colsample_bylevel=None, colsample_bynode=None,\n",
       "             colsample_bytree=None, device=None, early_stopping_rounds=None,\n",
       "             enable_categorical=False, eval_metric=None, feature_types=None,\n",
       "             gamma=None, grow_policy=None, importance_type=None,\n",
       "             interaction_constraints=None, learning_rate=None, max_bin=None,\n",
       "             max_cat_threshold=None, max_cat_to_onehot=None,\n",
       "             max_delta_step=None, max_depth=None, max_leaves=None,\n",
       "             min_child_weight=None, missing=nan, monotone_constraints=None,\n",
       "             multi_strategy=None, n_estimators=1000, n_jobs=None,\n",
       "             num_parallel_tree=None, random_state=None, ...)</pre><b>In a Jupyter environment, please rerun this cell to show the HTML representation or trust the notebook. <br />On GitHub, the HTML representation is unable to render, please try loading this page with nbviewer.org.</b></div><div class=\"sk-container\" hidden><div class=\"sk-item\"><div class=\"sk-estimator sk-toggleable\"><input class=\"sk-toggleable__control sk-hidden--visually\" id=\"sk-estimator-id-8\" type=\"checkbox\" checked><label for=\"sk-estimator-id-8\" class=\"sk-toggleable__label sk-toggleable__label-arrow\">XGBRegressor</label><div class=\"sk-toggleable__content\"><pre>XGBRegressor(base_score=None, booster=None, callbacks=None,\n",
       "             colsample_bylevel=None, colsample_bynode=None,\n",
       "             colsample_bytree=None, device=None, early_stopping_rounds=None,\n",
       "             enable_categorical=False, eval_metric=None, feature_types=None,\n",
       "             gamma=None, grow_policy=None, importance_type=None,\n",
       "             interaction_constraints=None, learning_rate=None, max_bin=None,\n",
       "             max_cat_threshold=None, max_cat_to_onehot=None,\n",
       "             max_delta_step=None, max_depth=None, max_leaves=None,\n",
       "             min_child_weight=None, missing=nan, monotone_constraints=None,\n",
       "             multi_strategy=None, n_estimators=1000, n_jobs=None,\n",
       "             num_parallel_tree=None, random_state=None, ...)</pre></div></div></div></div></div>"
      ]
     },
     "execution_count": 451,
     "metadata": {},
     "output_type": "execute_result"
    }
   ],
   "execution_count": 451
  },
  {
   "metadata": {
    "ExecuteTime": {
     "end_time": "2025-04-06T12:23:31.127632Z",
     "start_time": "2025-04-06T12:23:30.941823Z"
    }
   },
   "cell_type": "code",
   "source": [
    "importlib.reload(comparison)\n",
    "months_1m = 1\n",
    "X_train_1m, y_train_1m, X_test_1m, y_test_1m = train_test.get_train_test(df_tabular, months=1)\n",
    "# reset index\n",
    "X_train_1m.reset_index(drop=True, inplace=True)\n",
    "y_train_1m.reset_index(drop=True, inplace=True)\n",
    "X_test_1m.reset_index(drop=True, inplace=True)\n",
    "y_test_1m.reset_index(drop=True, inplace=True)"
   ],
   "id": "2cd1cababb8bbe1e",
   "outputs": [],
   "execution_count": 479
  },
  {
   "metadata": {
    "ExecuteTime": {
     "end_time": "2025-04-06T12:23:42.026571Z",
     "start_time": "2025-04-06T12:23:40.417932Z"
    }
   },
   "cell_type": "code",
   "source": [
    "# Predictions\n",
    "y_train_pred_1m = model.predict(X_train_1m)\n",
    "y_test_pred_1m = model.predict(X_test_1m)"
   ],
   "id": "a76dc83bc9448997",
   "outputs": [],
   "execution_count": 481
  },
  {
   "metadata": {
    "ExecuteTime": {
     "end_time": "2025-04-06T12:23:43.605733Z",
     "start_time": "2025-04-06T12:23:43.596120Z"
    }
   },
   "cell_type": "code",
   "source": [
    "importlib.reload(comparison)\n",
    "y_train_mean_pred_1m, y_test_mean_pred_1m = comparison.get_train_test_mean_pred(y_train_pred_1m, y_test_pred_1m, len(df.columns))"
   ],
   "id": "d9c2b8ca3b2e4c00",
   "outputs": [],
   "execution_count": 482
  },
  {
   "metadata": {},
   "cell_type": "markdown",
   "source": "### 1 month Actual vs Prediction",
   "id": "25364fb4677243db"
  },
  {
   "metadata": {
    "ExecuteTime": {
     "end_time": "2025-04-06T12:23:47.053327Z",
     "start_time": "2025-04-06T12:23:46.976332Z"
    }
   },
   "cell_type": "code",
   "source": [
    "importlib.reload(comparison)\n",
    "comparison.generate_plot(df, df_tabular, y_train_mean_pred_1m, y_test_mean_pred_1m)"
   ],
   "id": "575407a2f792ce63",
   "outputs": [
    {
     "data": {
      "application/vnd.plotly.v1+json": {
       "data": [
        {
         "line": {
          "color": "#5c839f",
          "width": 2
         },
         "mode": "lines",
         "name": "Actual returns",
         "x": [
          "2000-10-01",
          "2000-11-01",
          "2000-12-01",
          "2001-01-01",
          "2001-02-01",
          "2001-03-01",
          "2001-04-01",
          "2001-05-01",
          "2001-06-01",
          "2001-07-01",
          "2001-08-01",
          "2001-09-01",
          "2001-10-01",
          "2001-11-01",
          "2001-12-01",
          "2002-01-01",
          "2002-02-01",
          "2002-03-01",
          "2002-04-01",
          "2002-05-01",
          "2002-06-01",
          "2002-07-01",
          "2002-08-01",
          "2002-09-01",
          "2002-10-01",
          "2002-11-01",
          "2002-12-01",
          "2003-01-01",
          "2003-02-01",
          "2003-03-01",
          "2003-04-01",
          "2003-05-01",
          "2003-06-01",
          "2003-07-01",
          "2003-08-01",
          "2003-09-01",
          "2003-10-01",
          "2003-11-01",
          "2003-12-01",
          "2004-01-01",
          "2004-02-01",
          "2004-03-01",
          "2004-04-01",
          "2004-05-01",
          "2004-06-01",
          "2004-07-01",
          "2004-08-01",
          "2004-09-01",
          "2004-10-01",
          "2004-11-01",
          "2004-12-01",
          "2005-01-01",
          "2005-02-01",
          "2005-03-01",
          "2005-04-01",
          "2005-05-01",
          "2005-06-01",
          "2005-07-01",
          "2005-08-01",
          "2005-09-01",
          "2005-10-01",
          "2005-11-01",
          "2005-12-01",
          "2006-01-01",
          "2006-02-01",
          "2006-03-01",
          "2006-04-01",
          "2006-05-01",
          "2006-06-01",
          "2006-07-01",
          "2006-08-01",
          "2006-09-01",
          "2006-10-01",
          "2006-11-01",
          "2006-12-01",
          "2007-01-01",
          "2007-02-01",
          "2007-03-01",
          "2007-04-01",
          "2007-05-01",
          "2007-06-01",
          "2007-07-01",
          "2007-08-01",
          "2007-09-01",
          "2007-10-01",
          "2007-11-01",
          "2007-12-01",
          "2008-01-01",
          "2008-02-01",
          "2008-03-01",
          "2008-04-01",
          "2008-05-01",
          "2008-06-01",
          "2008-07-01",
          "2008-08-01",
          "2008-09-01",
          "2008-10-01",
          "2008-11-01",
          "2008-12-01",
          "2009-01-01",
          "2009-02-01",
          "2009-03-01",
          "2009-04-01",
          "2009-05-01",
          "2009-06-01",
          "2009-07-01",
          "2009-08-01",
          "2009-09-01",
          "2009-10-01",
          "2009-11-01",
          "2009-12-01",
          "2010-01-01",
          "2010-02-01",
          "2010-03-01",
          "2010-04-01",
          "2010-05-01",
          "2010-06-01",
          "2010-07-01",
          "2010-08-01",
          "2010-09-01",
          "2010-10-01",
          "2010-11-01",
          "2010-12-01",
          "2011-01-01",
          "2011-02-01",
          "2011-03-01",
          "2011-04-01",
          "2011-05-01",
          "2011-06-01",
          "2011-07-01",
          "2011-08-01",
          "2011-09-01",
          "2011-10-01",
          "2011-11-01",
          "2011-12-01",
          "2012-01-01",
          "2012-02-01",
          "2012-03-01",
          "2012-04-01",
          "2012-05-01",
          "2012-06-01",
          "2012-07-01",
          "2012-08-01",
          "2012-09-01",
          "2012-10-01",
          "2012-11-01",
          "2012-12-01",
          "2013-01-01",
          "2013-02-01",
          "2013-03-01",
          "2013-04-01",
          "2013-05-01",
          "2013-06-01",
          "2013-07-01",
          "2013-08-01",
          "2013-09-01",
          "2013-10-01",
          "2013-11-01",
          "2013-12-01",
          "2014-01-01",
          "2014-02-01",
          "2014-03-01",
          "2014-04-01",
          "2014-05-01",
          "2014-06-01",
          "2014-07-01",
          "2014-08-01",
          "2014-09-01",
          "2014-10-01",
          "2014-11-01",
          "2014-12-01",
          "2015-01-01",
          "2015-02-01",
          "2015-03-01",
          "2015-04-01",
          "2015-05-01",
          "2015-06-01",
          "2015-07-01",
          "2015-08-01",
          "2015-09-01",
          "2015-10-01",
          "2015-11-01",
          "2015-12-01",
          "2016-01-01",
          "2016-02-01",
          "2016-03-01",
          "2016-04-01",
          "2016-05-01",
          "2016-06-01",
          "2016-07-01",
          "2016-08-01",
          "2016-09-01",
          "2016-10-01",
          "2016-11-01",
          "2016-12-01",
          "2017-01-01",
          "2017-02-01",
          "2017-03-01",
          "2017-04-01",
          "2017-05-01",
          "2017-06-01",
          "2017-07-01",
          "2017-08-01",
          "2017-09-01",
          "2017-10-01",
          "2017-11-01",
          "2017-12-01",
          "2018-01-01",
          "2018-02-01",
          "2018-03-01",
          "2018-04-01",
          "2018-05-01",
          "2018-06-01",
          "2018-07-01",
          "2018-08-01",
          "2018-09-01",
          "2018-10-01",
          "2018-11-01",
          "2018-12-01",
          "2019-01-01",
          "2019-02-01",
          "2019-03-01",
          "2019-04-01",
          "2019-05-01",
          "2019-06-01",
          "2019-07-01",
          "2019-08-01",
          "2019-09-01",
          "2019-10-01",
          "2019-11-01",
          "2019-12-01",
          "2020-01-01",
          "2020-02-01",
          "2020-03-01",
          "2020-04-01",
          "2020-05-01",
          "2020-06-01",
          "2020-07-01",
          "2020-08-01",
          "2020-09-01",
          "2020-10-01",
          "2020-11-01",
          "2020-12-01",
          "2021-01-01",
          "2021-02-01",
          "2021-03-01",
          "2021-04-01",
          "2021-05-01",
          "2021-06-01",
          "2021-07-01",
          "2021-08-01",
          "2021-09-01",
          "2021-10-01",
          "2021-11-01",
          "2021-12-01",
          "2022-01-01",
          "2022-02-01",
          "2022-03-01",
          "2022-04-01",
          "2022-05-01",
          "2022-06-01",
          "2022-07-01",
          "2022-08-01",
          "2022-09-01",
          "2022-10-01",
          "2022-11-01",
          "2022-12-01",
          "2023-01-01",
          "2023-02-01",
          "2023-03-01",
          "2023-04-01",
          "2023-05-01",
          "2023-06-01",
          "2023-07-01",
          "2023-08-01",
          "2023-09-01",
          "2023-10-01",
          "2023-11-01",
          "2023-12-01",
          "2024-01-01",
          "2024-02-01",
          "2024-03-01",
          "2024-04-01",
          "2024-05-01",
          "2024-06-01",
          "2024-07-01",
          "2024-08-01"
         ],
         "y": [
          null,
          1.0255474894131882,
          1.0338354506957046,
          0.9928735632183908,
          5.930568663036903,
          1.02524500907441,
          0.9939624924379915,
          0.9817483363581366,
          1.0329461584996975,
          0.9952389594676346,
          1.027350272232305,
          0.9906291591046583,
          0.9893103448275862,
          0.9717422867513611,
          1.0094071385359953,
          1.0391651542649727,
          0.9689776164549303,
          0.9847489413188143,
          1.0655414398064127,
          1.0118451300665456,
          0.9984392014519057,
          0.9735087719298245,
          0.9690865093768906,
          0.9132849364791288,
          1.0499274047186933,
          1.050798548094374,
          1.0158620689655173,
          0.9939322444041138,
          1.0093103448275862,
          1.050725952813067,
          1.007102238354507,
          1.0027646702964308,
          0.9519721718088325,
          0.9418874773139746,
          0.9874833635813671,
          0.9568905021173624,
          1.0078644888082275,
          1.0582516636418633,
          0.9664125831820932,
          0.9890199637023595,
          1.0055716878402905,
          0.9959830611010285,
          1.0599516031457954,
          1.0670054446460981,
          1.034162129461585,
          1.508451300665457,
          1.0614277071990321,
          1.0038233514821537,
          1.0498003629764066,
          1.0042286751361162,
          1.015849969751966,
          1.0305263157894737,
          1.0141560798548095,
          1.0468421052631578,
          1.0040834845735027,
          0.992474289171204,
          1.0346218995765275,
          0.9633877797943133,
          0.9934119782214157,
          1.0055535390199637,
          1.0005565638233516,
          1.0293163944343617,
          1.053762855414398,
          1.00643073200242,
          1.0203811252268602,
          0.9955595886267392,
          0.9733030852994556,
          1.033145795523291,
          1.0216817906836055,
          1.0358136721113127,
          0.9993042952208105,
          1.1286509376890503,
          1.0726013309134907,
          3.2130248033877797,
          1.0215607985480943,
          1.0408166969147006,
          1.0128917120387175,
          1.027501512401694,
          1.0092075015124016,
          0.9686267392619479,
          0.9991833030852995,
          0.9856866303690262,
          1.0248820326678767,
          1.0297519661222019,
          1.0213853599516032,
          1.0188808227465216,
          1.027979431336963,
          1.0368723532970356,
          1.0044404113732608,
          1.0015849969751967,
          1.0188082274652148,
          1.0226194797338173,
          0.9885843920145191,
          0.9759286146400484,
          0.9907501512401694,
          1.002474289171204,
          1.0255172413793103,
          0.9479370840895343,
          0.9907743496672716,
          0.9420447670901392,
          0.9907199032062917,
          0.9868784029038112,
          1.0311494252873565,
          1.02318814277072,
          0.9375620084694495,
          0.9950090744101633,
          1.0215789473684211,
          0.9273018753781004,
          0.8458197217180883,
          0.9447489413188144,
          1.0413006654567454,
          0.9497701149425287,
          0.9416515426497277,
          1.0697580157289777,
          1.1476164549304295,
          1.0432909860859043,
          1.0350211736237145,
          1.0623895946763462,
          1.0552026618269812,
          1.0322746521476103,
          0.9779915305505141,
          1.0015910465819722,
          1.0513793103448277,
          0.9896067755595885,
          1.0185541439806414,
          1.0590381125226862,
          1.0449969751966124,
          0.9456261343012704,
          0.9619419237749547,
          1.0388626739261946,
          0.9645856019358742,
          1.0696067755595886,
          1.0163883847549908,
          1.0275862068965518,
          1.0584029038112523,
          1.0119782214156081,
          1.0324803387779795,
          1.0016031457955235,
          1.0198850574712643,
          0.9949969751966122,
          0.9972353297035693,
          0.9830429522081064,
          0.9474712643678161,
          0.9529824561403508,
          1.0689231699939505,
          0.9843375680580763,
          1.0002540834845735,
          1.0593768905021175,
          1.0995402298850574,
          1.026303690260133,
          0.9927465214761042,
          0.9427586206896552,
          1.0300241984271024,
          0.9957652752571083,
          1.0196672716273443,
          1.0171506352087114,
          1.0012038717483362,
          1.0166848154869934,
          1.0311736237144584,
          1.0607924984875983,
          1.0218390804597701,
          1.0406836055656383,
          1.0333696309739866,
          1.01821536600121,
          0.990508166969147,
          1.0369933454325468,
          0.98346037507562,
          1.0512159709618873,
          1.0213430127041743,
          1.0239806412583181,
          1.022280701754386,
          0.9877434966727164,
          1.0288626739261948,
          1.0008287961282516,
          0.9851845130066547,
          1.0161161524500906,
          1.0306473079249847,
          0.9871445856019359,
          1.026745311554749,
          0.989491833030853,
          1.0253115547489413,
          1.04167574107683,
          1.0141681790683605,
          1.0019419237749547,
          1.0444585601935874,
          1.0097459165154263,
          1.000411373260738,
          1.0252087114337567,
          0.9903266787658802,
          1.012788868723533,
          0.9586448880822745,
          0.9679854809437386,
          1.0623411978221418,
          1.0190018148820326,
          0.9822928009679371,
          0.9491107078039926,
          0.9993587416817907,
          1.0566122202056867,
          1.0004355716878404,
          1.0214095583787053,
          0.9709074410163339,
          1.0535813672111312,
          1.0110102843315183,
          1.0043375680580762,
          0.9848154869933453,
          1.0514337568058076,
          1.0315486993345433,
          1.0146581972171809,
          1.0218451300665456,
          1.009751966122202,
          1.0155958862673926,
          1.0126678765880217,
          1.0131215970961889,
          1.0135692679975803,
          1.0033877797943134,
          1.0308892921960073,
          1.0195220810647307,
          1.0232244404113733,
          1.0114458560193589,
          1.023817301875378,
          0.974422262552934,
          0.996636418632789,
          1.0194797338173018,
          1.0263641863278887,
          1.0086327888687234,
          1.0175922565033273,
          1.0217725347852389,
          0.9907501512401694,
          0.9365880217785845,
          1.0115124016938897,
          0.9133272837265578,
          1.0914398064125832,
          1.0367513611615244,
          1.004137931034483,
          1.043049001814882,
          0.940822746521476,
          1.0453539019963702,
          1.0221234119782214,
          0.9704476709013913,
          1.0369449485783424,
          1.0294797338173018,
          1.0347307924984874,
          1.0268058076225044,
          0.9897519661222022,
          0.9099153055051422,
          0.8183847549909256,
          1.1260314579552329,
          1.072552934059286,
          1.0304174228675136,
          1.0225710828796128,
          1.0605565638233514,
          0.9945130066545675,
          0.9923290986085905,
          1.1583847549909256,
          1.0579612825166365,
          1.0404839685420448,
          1.053793103448276,
          1.0589292196007258,
          1.037652752571083,
          1.0213430127041743,
          1.0207562008469449,
          1.0036418632788868,
          1.025287356321839,
          0.9864851784633998,
          1.0300241984271024,
          0.969933454325469,
          1.0402117362371448,
          0.9256805807622505,
          0.9876830006049606,
          1.003230490018149,
          0.9446763460375075,
          1.0007199032062917,
          0.9249425287356322,
          1.0904295220810647,
          0.9692982456140351,
          0.901373260738052,
          1.0810284331518452,
          1.0552994555353903,
          0.9577374470659408,
          1.0973321234119784,
          0.9889957652752571,
          0.979933454325469,
          1.001318814277072,
          0.9908832425892315,
          1.0624803387779795,
          1.0433393829401088,
          0.9686206896551725,
          0.95978221415608,
          0.9421113127646703,
          1.0877132486388386,
          1.079328493647913,
          0.9853962492437992,
          1.0741379310344827,
          1.0276285541439807,
          0.9559709618874773,
          1.0341621294615853,
          0.9932425892317,
          1.0552510586811856,
          0.9971990320629158,
          0.9666787658802178
         ],
         "type": "scatter"
        },
        {
         "line": {
          "color": "red",
          "width": 2
         },
         "mode": "lines",
         "name": "Train returns",
         "x": [
          "2000-10-01",
          "2000-11-01",
          "2000-12-01",
          "2001-01-01",
          "2001-02-01",
          "2001-03-01",
          "2001-04-01",
          "2001-05-01",
          "2001-06-01",
          "2001-07-01",
          "2001-08-01",
          "2001-09-01",
          "2001-10-01",
          "2001-11-01",
          "2001-12-01",
          "2002-01-01",
          "2002-02-01",
          "2002-03-01",
          "2002-04-01",
          "2002-05-01",
          "2002-06-01",
          "2002-07-01",
          "2002-08-01",
          "2002-09-01",
          "2002-10-01",
          "2002-11-01",
          "2002-12-01",
          "2003-01-01",
          "2003-02-01",
          "2003-03-01",
          "2003-04-01",
          "2003-05-01",
          "2003-06-01",
          "2003-07-01",
          "2003-08-01",
          "2003-09-01",
          "2003-10-01",
          "2003-11-01",
          "2003-12-01",
          "2004-01-01",
          "2004-02-01",
          "2004-03-01",
          "2004-04-01",
          "2004-05-01",
          "2004-06-01",
          "2004-07-01",
          "2004-08-01",
          "2004-09-01",
          "2004-10-01",
          "2004-11-01",
          "2004-12-01",
          "2005-01-01",
          "2005-02-01",
          "2005-03-01",
          "2005-04-01",
          "2005-05-01",
          "2005-06-01",
          "2005-07-01",
          "2005-08-01",
          "2005-09-01",
          "2005-10-01",
          "2005-11-01",
          "2005-12-01",
          "2006-01-01",
          "2006-02-01",
          "2006-03-01",
          "2006-04-01",
          "2006-05-01",
          "2006-06-01",
          "2006-07-01",
          "2006-08-01",
          "2006-09-01",
          "2006-10-01",
          "2006-11-01",
          "2006-12-01",
          "2007-01-01",
          "2007-02-01",
          "2007-03-01",
          "2007-04-01",
          "2007-05-01",
          "2007-06-01",
          "2007-07-01",
          "2007-08-01",
          "2007-09-01",
          "2007-10-01",
          "2007-11-01",
          "2007-12-01",
          "2008-01-01",
          "2008-02-01",
          "2008-03-01",
          "2008-04-01",
          "2008-05-01",
          "2008-06-01",
          "2008-07-01",
          "2008-08-01",
          "2008-09-01",
          "2008-10-01",
          "2008-11-01",
          "2008-12-01",
          "2009-01-01",
          "2009-02-01",
          "2009-03-01",
          "2009-04-01",
          "2009-05-01",
          "2009-06-01",
          "2009-07-01",
          "2009-08-01",
          "2009-09-01",
          "2009-10-01",
          "2009-11-01",
          "2009-12-01",
          "2010-01-01",
          "2010-02-01",
          "2010-03-01",
          "2010-04-01",
          "2010-05-01",
          "2010-06-01",
          "2010-07-01",
          "2010-08-01",
          "2010-09-01",
          "2010-10-01",
          "2010-11-01",
          "2010-12-01",
          "2011-01-01",
          "2011-02-01",
          "2011-03-01",
          "2011-04-01",
          "2011-05-01",
          "2011-06-01",
          "2011-07-01",
          "2011-08-01",
          "2011-09-01",
          "2011-10-01",
          "2011-11-01",
          "2011-12-01",
          "2012-01-01",
          "2012-02-01",
          "2012-03-01",
          "2012-04-01",
          "2012-05-01",
          "2012-06-01",
          "2012-07-01",
          "2012-08-01",
          "2012-09-01",
          "2012-10-01",
          "2012-11-01",
          "2012-12-01",
          "2013-01-01",
          "2013-02-01",
          "2013-03-01",
          "2013-04-01",
          "2013-05-01",
          "2013-06-01",
          "2013-07-01",
          "2013-08-01",
          "2013-09-01",
          "2013-10-01",
          "2013-11-01",
          "2013-12-01",
          "2014-01-01",
          "2014-02-01",
          "2014-03-01",
          "2014-04-01",
          "2014-05-01",
          "2014-06-01",
          "2014-07-01",
          "2014-08-01",
          "2014-09-01",
          "2014-10-01",
          "2014-11-01",
          "2014-12-01",
          "2015-01-01",
          "2015-02-01",
          "2015-03-01",
          "2015-04-01",
          "2015-05-01",
          "2015-06-01",
          "2015-07-01",
          "2015-08-01",
          "2015-09-01",
          "2015-10-01",
          "2015-11-01",
          "2015-12-01",
          "2016-01-01",
          "2016-02-01",
          "2016-03-01",
          "2016-04-01",
          "2016-05-01",
          "2016-06-01",
          "2016-07-01",
          "2016-08-01",
          "2016-09-01",
          "2016-10-01",
          "2016-11-01",
          "2016-12-01",
          "2017-01-01",
          "2017-02-01",
          "2017-03-01",
          "2017-04-01",
          "2017-05-01",
          "2017-06-01",
          "2017-07-01",
          "2017-08-01",
          "2017-09-01",
          "2017-10-01",
          "2017-11-01",
          "2017-12-01",
          "2018-01-01",
          "2018-02-01",
          "2018-03-01",
          "2018-04-01",
          "2018-05-01",
          "2018-06-01",
          "2018-07-01",
          "2018-08-01",
          "2018-09-01",
          "2018-10-01",
          "2018-11-01",
          "2018-12-01",
          "2019-01-01",
          "2019-02-01",
          "2019-03-01",
          "2019-04-01",
          "2019-05-01",
          "2019-06-01",
          "2019-07-01",
          "2019-08-01",
          "2019-09-01",
          "2019-10-01",
          "2019-11-01",
          "2019-12-01",
          "2020-01-01",
          "2020-02-01",
          "2020-03-01",
          "2020-04-01",
          "2020-05-01",
          "2020-06-01",
          "2020-07-01",
          "2020-08-01",
          "2020-09-01",
          "2020-10-01",
          "2020-11-01",
          "2020-12-01",
          "2021-01-01",
          "2021-02-01",
          "2021-03-01",
          "2021-04-01",
          "2021-05-01",
          "2021-06-01",
          "2021-07-01",
          "2021-08-01",
          "2021-09-01",
          "2021-10-01",
          "2021-11-01",
          "2021-12-01",
          "2022-01-01",
          "2022-02-01",
          "2022-03-01",
          "2022-04-01",
          "2022-05-01",
          "2022-06-01",
          "2022-07-01",
          "2022-08-01",
          "2022-09-01",
          "2022-10-01",
          "2022-11-01",
          "2022-12-01",
          "2023-01-01",
          "2023-02-01",
          "2023-03-01",
          "2023-04-01",
          "2023-05-01",
          "2023-06-01",
          "2023-07-01",
          "2023-08-01",
          "2023-09-01",
          "2023-10-01",
          "2023-11-01",
          "2023-12-01",
          "2024-01-01",
          "2024-02-01",
          "2024-03-01",
          "2024-04-01",
          "2024-05-01",
          "2024-06-01",
          "2024-07-01"
         ],
         "y": [
          1.0196129083633423,
          1.0287736654281616,
          1.024152159690857,
          1.0238516330718994,
          1.0272815227508545,
          1.0320841073989868,
          1.028673768043518,
          1.0287442207336426,
          1.024020791053772,
          1.0243349075317383,
          1.0268759727478027,
          1.0224684476852417,
          1.0247975587844849,
          1.0235235691070557,
          1.0282859802246094,
          1.0281250476837158,
          1.0279487371444702,
          1.0336973667144775,
          1.0236485004425049,
          1.026023030281067,
          1.0249228477478027,
          1.0262035131454468,
          1.0235220193862915,
          1.024938941001892,
          1.020540475845337,
          1.0300583839416504,
          1.0262870788574219,
          1.0285724401474,
          1.0291374921798706,
          1.0267714262008667,
          1.0246623754501343,
          1.0289231538772583,
          1.0257916450500488,
          1.0263220071792603,
          1.026054859161377,
          1.0269949436187744,
          1.0242068767547607,
          1.0257240533828735,
          1.035440444946289,
          1.028234839439392,
          1.0275940895080566,
          1.0304713249206543,
          1.0298147201538086,
          1.0271105766296387,
          1.0363603830337524,
          1.0214433670043945,
          1.0298746824264526,
          1.026864767074585,
          1.0255391597747803,
          1.0237680673599243,
          1.027105689048767,
          1.0276745557785034,
          1.0293811559677124,
          1.0279473066329956,
          1.0273760557174683,
          1.028475284576416,
          1.0276970863342285,
          1.0239125490188599,
          1.0225080251693726,
          1.0276401042938232,
          1.0265339612960815,
          1.0248216390609741,
          3.652369260787964,
          1.0228736400604248,
          1.0249593257904053,
          1.0238994359970093,
          1.0242681503295898,
          1.0257781744003296,
          1.0375959873199463,
          1.0288934707641602,
          1.0323044061660767,
          1.0295974016189575,
          1.024080514907837,
          1.0297740697860718,
          1.0259047746658325,
          1.025800347328186,
          1.0440146923065186,
          1.0327452421188354,
          1.0269896984100342,
          1.0250805616378784,
          1.0256469249725342,
          1.0236728191375732,
          1.0301570892333984,
          1.0247288942337036,
          1.0230337381362915,
          1.026728630065918,
          1.020074486732483,
          1.0284600257873535,
          1.0388765335083008,
          1.034360408782959,
          1.0218627452850342,
          1.0281505584716797,
          1.0280811786651611,
          1.0272926092147827,
          1.023271083831787,
          1.023545742034912,
          1.0280402898788452,
          1.0216668844223022,
          1.023484706878662,
          1.0264865159988403,
          1.0256799459457397,
          1.0303045511245728,
          1.0256584882736206,
          1.0311877727508545,
          1.0228519439697266,
          1.0269005298614502,
          1.0251185894012451,
          1.0268311500549316,
          1.0323938131332397,
          1.0241364240646362,
          1.0326212644577026,
          1.0292212963104248,
          1.0262839794158936,
          1.028824806213379,
          1.0239787101745605,
          1.0242199897766113,
          1.0368313789367676,
          1.0274300575256348,
          1.023507833480835,
          1.0213736295700073,
          1.0341225862503052,
          1.032588005065918,
          1.0220478773117065,
          1.029129147529602,
          1.031660795211792,
          1.0300415754318237,
          1.030473232269287,
          1.024476408958435,
          1.0284934043884277,
          1.0259500741958618,
          1.0235390663146973,
          1.0215269327163696,
          1.0285025835037231,
          1.0258368253707886,
          1.03732430934906,
          1.0264922380447388,
          1.0302106142044067,
          1.029794692993164,
          1.0281938314437866,
          1.0341359376907349,
          1.0263762474060059,
          1.0346342325210571,
          1.022108554840088,
          1.021453619003296,
          1.0305732488632202,
          1.0331021547317505,
          1.1150213479995728,
          1.0251853466033936,
          1.0320626497268677,
          1.0269606113433838,
          1.0344629287719727,
          1.0263051986694336,
          1.0268362760543823,
          1.023643136024475,
          1.0257755517959595,
          1.0387649536132812,
          1.044220209121704,
          1.0286622047424316,
          1.020311951637268,
          1.021826148033142,
          0.9614875912666321,
          1.0322990417480469,
          1.0256214141845703,
          1.02252197265625,
          1.03107488155365,
          1.0296852588653564,
          1.0280039310455322,
          1.0286625623703003,
          1.0328700542449951,
          1.026566743850708,
          1.026248574256897,
          1.025969386100769,
          1.0274709463119507,
          1.027343511581421,
          1.0345882177352905,
          1.029046893119812,
          1.0271270275115967,
          1.0199835300445557,
          1.0316076278686523,
          1.0303882360458374,
          1.0286530256271362,
          1.0325120687484741,
          1.034496784210205,
          1.0312217473983765,
          1.0322275161743164,
          1.0277824401855469,
          1.0293635129928589,
          1.028458833694458,
          1.0236539840698242,
          1.024232268333435,
          1.0236316919326782,
          1.0238059759140015,
          1.0350532531738281,
          1.0290446281433105,
          1.0289041996002197,
          1.0334548950195312,
          1.029123306274414,
          1.0270673036575317,
          1.019379734992981,
          1.0258187055587769,
          1.0251572132110596,
          1.0285139083862305,
          1.136894702911377,
          1.033761739730835,
          1.0220049619674683,
          1.0371259450912476,
          3.1227219104766846,
          1.0357954502105713,
          1.0232306718826294,
          1.0261964797973633,
          1.0256825685501099,
          1.034590244293213,
          1.0395660400390625,
          1.0177158117294312,
          1.0245310068130493,
          1.0333918333053589,
          1.026886224746704,
          1.0212956666946411,
          1.028744101524353,
          1.0299261808395386,
          1.0293523073196411,
          1.0313326120376587,
          1.028182864189148,
          1.0297369956970215,
          1.030372142791748,
          1.0256266593933105,
          1.0272217988967896,
          1.0261753797531128,
          1.0260447263717651,
          1.0270404815673828,
          1.0222256183624268,
          1.0253682136535645,
          1.0228681564331055,
          1.0261831283569336,
          1.0283163785934448,
          1.021786093711853,
          1.0249189138412476,
          1.028139352798462,
          1.0257227420806885,
          1.0296003818511963,
          1.0278198719024658,
          1.0248726606369019,
          1.023699402809143,
          1.0238245725631714,
          1.0233739614486694,
          1.0241079330444336,
          1.0237127542495728,
          1.0268051624298096,
          1.0275508165359497,
          1.022594690322876,
          1.0362434387207031,
          1.0260188579559326,
          1.0323212146759033,
          1.033482313156128,
          1.0245870351791382,
          1.0247278213500977,
          1.0246658325195312,
          1.026868462562561,
          1.0372819900512695,
          1.0325409173965454,
          1.0313999652862549,
          1.0242531299591064,
          1.0306206941604614,
          1.0254963636398315,
          1.0252759456634521,
          1.043330430984497,
          1.0484986305236816,
          1.026036024093628,
          1.0246303081512451,
          1.0253095626831055,
          1.0272598266601562,
          1.0250258445739746,
          1.0193969011306763,
          1.0258393287658691,
          1.0312329530715942,
          1.025559425354004,
          1.0386863946914673,
          1.0238832235336304,
          1.0254757404327393,
          1.0311368703842163,
          1.0396924018859863,
          1.0294564962387085,
          1.038881540298462,
          1.032794713973999,
          1.022018313407898,
          1.0288885831832886
         ],
         "type": "scatter"
        },
        {
         "line": {
          "color": "green",
          "width": 2
         },
         "mode": "lines",
         "name": "Test returns",
         "x": [
          "2024-07-01",
          "2024-08-01"
         ],
         "y": [
          1.0288885831832886,
          1.5728886127471924
         ],
         "type": "scatter"
        }
       ],
       "layout": {
        "template": {
         "data": {
          "barpolar": [
           {
            "marker": {
             "line": {
              "color": "white",
              "width": 0.5
             },
             "pattern": {
              "fillmode": "overlay",
              "size": 10,
              "solidity": 0.2
             }
            },
            "type": "barpolar"
           }
          ],
          "bar": [
           {
            "error_x": {
             "color": "#2a3f5f"
            },
            "error_y": {
             "color": "#2a3f5f"
            },
            "marker": {
             "line": {
              "color": "white",
              "width": 0.5
             },
             "pattern": {
              "fillmode": "overlay",
              "size": 10,
              "solidity": 0.2
             }
            },
            "type": "bar"
           }
          ],
          "carpet": [
           {
            "aaxis": {
             "endlinecolor": "#2a3f5f",
             "gridcolor": "#C8D4E3",
             "linecolor": "#C8D4E3",
             "minorgridcolor": "#C8D4E3",
             "startlinecolor": "#2a3f5f"
            },
            "baxis": {
             "endlinecolor": "#2a3f5f",
             "gridcolor": "#C8D4E3",
             "linecolor": "#C8D4E3",
             "minorgridcolor": "#C8D4E3",
             "startlinecolor": "#2a3f5f"
            },
            "type": "carpet"
           }
          ],
          "choropleth": [
           {
            "colorbar": {
             "outlinewidth": 0,
             "ticks": ""
            },
            "type": "choropleth"
           }
          ],
          "contourcarpet": [
           {
            "colorbar": {
             "outlinewidth": 0,
             "ticks": ""
            },
            "type": "contourcarpet"
           }
          ],
          "contour": [
           {
            "colorbar": {
             "outlinewidth": 0,
             "ticks": ""
            },
            "colorscale": [
             [
              0.0,
              "#0d0887"
             ],
             [
              0.1111111111111111,
              "#46039f"
             ],
             [
              0.2222222222222222,
              "#7201a8"
             ],
             [
              0.3333333333333333,
              "#9c179e"
             ],
             [
              0.4444444444444444,
              "#bd3786"
             ],
             [
              0.5555555555555556,
              "#d8576b"
             ],
             [
              0.6666666666666666,
              "#ed7953"
             ],
             [
              0.7777777777777778,
              "#fb9f3a"
             ],
             [
              0.8888888888888888,
              "#fdca26"
             ],
             [
              1.0,
              "#f0f921"
             ]
            ],
            "type": "contour"
           }
          ],
          "heatmapgl": [
           {
            "colorbar": {
             "outlinewidth": 0,
             "ticks": ""
            },
            "colorscale": [
             [
              0.0,
              "#0d0887"
             ],
             [
              0.1111111111111111,
              "#46039f"
             ],
             [
              0.2222222222222222,
              "#7201a8"
             ],
             [
              0.3333333333333333,
              "#9c179e"
             ],
             [
              0.4444444444444444,
              "#bd3786"
             ],
             [
              0.5555555555555556,
              "#d8576b"
             ],
             [
              0.6666666666666666,
              "#ed7953"
             ],
             [
              0.7777777777777778,
              "#fb9f3a"
             ],
             [
              0.8888888888888888,
              "#fdca26"
             ],
             [
              1.0,
              "#f0f921"
             ]
            ],
            "type": "heatmapgl"
           }
          ],
          "heatmap": [
           {
            "colorbar": {
             "outlinewidth": 0,
             "ticks": ""
            },
            "colorscale": [
             [
              0.0,
              "#0d0887"
             ],
             [
              0.1111111111111111,
              "#46039f"
             ],
             [
              0.2222222222222222,
              "#7201a8"
             ],
             [
              0.3333333333333333,
              "#9c179e"
             ],
             [
              0.4444444444444444,
              "#bd3786"
             ],
             [
              0.5555555555555556,
              "#d8576b"
             ],
             [
              0.6666666666666666,
              "#ed7953"
             ],
             [
              0.7777777777777778,
              "#fb9f3a"
             ],
             [
              0.8888888888888888,
              "#fdca26"
             ],
             [
              1.0,
              "#f0f921"
             ]
            ],
            "type": "heatmap"
           }
          ],
          "histogram2dcontour": [
           {
            "colorbar": {
             "outlinewidth": 0,
             "ticks": ""
            },
            "colorscale": [
             [
              0.0,
              "#0d0887"
             ],
             [
              0.1111111111111111,
              "#46039f"
             ],
             [
              0.2222222222222222,
              "#7201a8"
             ],
             [
              0.3333333333333333,
              "#9c179e"
             ],
             [
              0.4444444444444444,
              "#bd3786"
             ],
             [
              0.5555555555555556,
              "#d8576b"
             ],
             [
              0.6666666666666666,
              "#ed7953"
             ],
             [
              0.7777777777777778,
              "#fb9f3a"
             ],
             [
              0.8888888888888888,
              "#fdca26"
             ],
             [
              1.0,
              "#f0f921"
             ]
            ],
            "type": "histogram2dcontour"
           }
          ],
          "histogram2d": [
           {
            "colorbar": {
             "outlinewidth": 0,
             "ticks": ""
            },
            "colorscale": [
             [
              0.0,
              "#0d0887"
             ],
             [
              0.1111111111111111,
              "#46039f"
             ],
             [
              0.2222222222222222,
              "#7201a8"
             ],
             [
              0.3333333333333333,
              "#9c179e"
             ],
             [
              0.4444444444444444,
              "#bd3786"
             ],
             [
              0.5555555555555556,
              "#d8576b"
             ],
             [
              0.6666666666666666,
              "#ed7953"
             ],
             [
              0.7777777777777778,
              "#fb9f3a"
             ],
             [
              0.8888888888888888,
              "#fdca26"
             ],
             [
              1.0,
              "#f0f921"
             ]
            ],
            "type": "histogram2d"
           }
          ],
          "histogram": [
           {
            "marker": {
             "pattern": {
              "fillmode": "overlay",
              "size": 10,
              "solidity": 0.2
             }
            },
            "type": "histogram"
           }
          ],
          "mesh3d": [
           {
            "colorbar": {
             "outlinewidth": 0,
             "ticks": ""
            },
            "type": "mesh3d"
           }
          ],
          "parcoords": [
           {
            "line": {
             "colorbar": {
              "outlinewidth": 0,
              "ticks": ""
             }
            },
            "type": "parcoords"
           }
          ],
          "pie": [
           {
            "automargin": true,
            "type": "pie"
           }
          ],
          "scatter3d": [
           {
            "line": {
             "colorbar": {
              "outlinewidth": 0,
              "ticks": ""
             }
            },
            "marker": {
             "colorbar": {
              "outlinewidth": 0,
              "ticks": ""
             }
            },
            "type": "scatter3d"
           }
          ],
          "scattercarpet": [
           {
            "marker": {
             "colorbar": {
              "outlinewidth": 0,
              "ticks": ""
             }
            },
            "type": "scattercarpet"
           }
          ],
          "scattergeo": [
           {
            "marker": {
             "colorbar": {
              "outlinewidth": 0,
              "ticks": ""
             }
            },
            "type": "scattergeo"
           }
          ],
          "scattergl": [
           {
            "marker": {
             "colorbar": {
              "outlinewidth": 0,
              "ticks": ""
             }
            },
            "type": "scattergl"
           }
          ],
          "scattermapbox": [
           {
            "marker": {
             "colorbar": {
              "outlinewidth": 0,
              "ticks": ""
             }
            },
            "type": "scattermapbox"
           }
          ],
          "scatterpolargl": [
           {
            "marker": {
             "colorbar": {
              "outlinewidth": 0,
              "ticks": ""
             }
            },
            "type": "scatterpolargl"
           }
          ],
          "scatterpolar": [
           {
            "marker": {
             "colorbar": {
              "outlinewidth": 0,
              "ticks": ""
             }
            },
            "type": "scatterpolar"
           }
          ],
          "scatter": [
           {
            "fillpattern": {
             "fillmode": "overlay",
             "size": 10,
             "solidity": 0.2
            },
            "type": "scatter"
           }
          ],
          "scatterternary": [
           {
            "marker": {
             "colorbar": {
              "outlinewidth": 0,
              "ticks": ""
             }
            },
            "type": "scatterternary"
           }
          ],
          "surface": [
           {
            "colorbar": {
             "outlinewidth": 0,
             "ticks": ""
            },
            "colorscale": [
             [
              0.0,
              "#0d0887"
             ],
             [
              0.1111111111111111,
              "#46039f"
             ],
             [
              0.2222222222222222,
              "#7201a8"
             ],
             [
              0.3333333333333333,
              "#9c179e"
             ],
             [
              0.4444444444444444,
              "#bd3786"
             ],
             [
              0.5555555555555556,
              "#d8576b"
             ],
             [
              0.6666666666666666,
              "#ed7953"
             ],
             [
              0.7777777777777778,
              "#fb9f3a"
             ],
             [
              0.8888888888888888,
              "#fdca26"
             ],
             [
              1.0,
              "#f0f921"
             ]
            ],
            "type": "surface"
           }
          ],
          "table": [
           {
            "cells": {
             "fill": {
              "color": "#EBF0F8"
             },
             "line": {
              "color": "white"
             }
            },
            "header": {
             "fill": {
              "color": "#C8D4E3"
             },
             "line": {
              "color": "white"
             }
            },
            "type": "table"
           }
          ]
         },
         "layout": {
          "annotationdefaults": {
           "arrowcolor": "#2a3f5f",
           "arrowhead": 0,
           "arrowwidth": 1
          },
          "autotypenumbers": "strict",
          "coloraxis": {
           "colorbar": {
            "outlinewidth": 0,
            "ticks": ""
           }
          },
          "colorscale": {
           "diverging": [
            [
             0,
             "#8e0152"
            ],
            [
             0.1,
             "#c51b7d"
            ],
            [
             0.2,
             "#de77ae"
            ],
            [
             0.3,
             "#f1b6da"
            ],
            [
             0.4,
             "#fde0ef"
            ],
            [
             0.5,
             "#f7f7f7"
            ],
            [
             0.6,
             "#e6f5d0"
            ],
            [
             0.7,
             "#b8e186"
            ],
            [
             0.8,
             "#7fbc41"
            ],
            [
             0.9,
             "#4d9221"
            ],
            [
             1,
             "#276419"
            ]
           ],
           "sequential": [
            [
             0.0,
             "#0d0887"
            ],
            [
             0.1111111111111111,
             "#46039f"
            ],
            [
             0.2222222222222222,
             "#7201a8"
            ],
            [
             0.3333333333333333,
             "#9c179e"
            ],
            [
             0.4444444444444444,
             "#bd3786"
            ],
            [
             0.5555555555555556,
             "#d8576b"
            ],
            [
             0.6666666666666666,
             "#ed7953"
            ],
            [
             0.7777777777777778,
             "#fb9f3a"
            ],
            [
             0.8888888888888888,
             "#fdca26"
            ],
            [
             1.0,
             "#f0f921"
            ]
           ],
           "sequentialminus": [
            [
             0.0,
             "#0d0887"
            ],
            [
             0.1111111111111111,
             "#46039f"
            ],
            [
             0.2222222222222222,
             "#7201a8"
            ],
            [
             0.3333333333333333,
             "#9c179e"
            ],
            [
             0.4444444444444444,
             "#bd3786"
            ],
            [
             0.5555555555555556,
             "#d8576b"
            ],
            [
             0.6666666666666666,
             "#ed7953"
            ],
            [
             0.7777777777777778,
             "#fb9f3a"
            ],
            [
             0.8888888888888888,
             "#fdca26"
            ],
            [
             1.0,
             "#f0f921"
            ]
           ]
          },
          "colorway": [
           "#636efa",
           "#EF553B",
           "#00cc96",
           "#ab63fa",
           "#FFA15A",
           "#19d3f3",
           "#FF6692",
           "#B6E880",
           "#FF97FF",
           "#FECB52"
          ],
          "font": {
           "color": "#2a3f5f"
          },
          "geo": {
           "bgcolor": "white",
           "lakecolor": "white",
           "landcolor": "white",
           "showlakes": true,
           "showland": true,
           "subunitcolor": "#C8D4E3"
          },
          "hoverlabel": {
           "align": "left"
          },
          "hovermode": "closest",
          "mapbox": {
           "style": "light"
          },
          "paper_bgcolor": "white",
          "plot_bgcolor": "white",
          "polar": {
           "angularaxis": {
            "gridcolor": "#EBF0F8",
            "linecolor": "#EBF0F8",
            "ticks": ""
           },
           "bgcolor": "white",
           "radialaxis": {
            "gridcolor": "#EBF0F8",
            "linecolor": "#EBF0F8",
            "ticks": ""
           }
          },
          "scene": {
           "xaxis": {
            "backgroundcolor": "white",
            "gridcolor": "#DFE8F3",
            "gridwidth": 2,
            "linecolor": "#EBF0F8",
            "showbackground": true,
            "ticks": "",
            "zerolinecolor": "#EBF0F8"
           },
           "yaxis": {
            "backgroundcolor": "white",
            "gridcolor": "#DFE8F3",
            "gridwidth": 2,
            "linecolor": "#EBF0F8",
            "showbackground": true,
            "ticks": "",
            "zerolinecolor": "#EBF0F8"
           },
           "zaxis": {
            "backgroundcolor": "white",
            "gridcolor": "#DFE8F3",
            "gridwidth": 2,
            "linecolor": "#EBF0F8",
            "showbackground": true,
            "ticks": "",
            "zerolinecolor": "#EBF0F8"
           }
          },
          "shapedefaults": {
           "line": {
            "color": "#2a3f5f"
           }
          },
          "ternary": {
           "aaxis": {
            "gridcolor": "#DFE8F3",
            "linecolor": "#A2B1C6",
            "ticks": ""
           },
           "baxis": {
            "gridcolor": "#DFE8F3",
            "linecolor": "#A2B1C6",
            "ticks": ""
           },
           "bgcolor": "white",
           "caxis": {
            "gridcolor": "#DFE8F3",
            "linecolor": "#A2B1C6",
            "ticks": ""
           }
          },
          "title": {
           "x": 0.05
          },
          "xaxis": {
           "automargin": true,
           "gridcolor": "#EBF0F8",
           "linecolor": "#EBF0F8",
           "ticks": "",
           "title": {
            "standoff": 15
           },
           "zerolinecolor": "#EBF0F8",
           "zerolinewidth": 2
          },
          "yaxis": {
           "automargin": true,
           "gridcolor": "#EBF0F8",
           "linecolor": "#EBF0F8",
           "ticks": "",
           "title": {
            "standoff": 15
           },
           "zerolinecolor": "#EBF0F8",
           "zerolinewidth": 2
          }
         }
        },
        "shapes": [
         {
          "line": {
           "color": "red",
           "dash": "dash",
           "width": 1
          },
          "type": "line",
          "x0": "2024-07-01",
          "x1": "2024-07-01",
          "xref": "x",
          "y0": 0,
          "y1": 1,
          "yref": "y domain"
         }
        ],
        "yaxis": {
         "title": {
          "text": "Day closing return (%)"
         },
         "tickformat": ".0%",
         "range": [
          0.75,
          1.6
         ]
        },
        "title": {
         "text": "1 Month Prediction vs Actual Plot"
        },
        "xaxis": {
         "title": {
          "text": "Date"
         }
        },
        "legend": {
         "title": {
          "text": "Legend"
         }
        }
       },
       "config": {
        "plotlyServerURL": "https://plot.ly"
       }
      },
      "text/html": [
       "<div>                            <div id=\"286f9d4a-3a1e-4571-8df8-5bcc3fc92a1e\" class=\"plotly-graph-div\" style=\"height:525px; width:100%;\"></div>            <script type=\"text/javascript\">                require([\"plotly\"], function(Plotly) {                    window.PLOTLYENV=window.PLOTLYENV || {};                                    if (document.getElementById(\"286f9d4a-3a1e-4571-8df8-5bcc3fc92a1e\")) {                    Plotly.newPlot(                        \"286f9d4a-3a1e-4571-8df8-5bcc3fc92a1e\",                        [{\"line\":{\"color\":\"#5c839f\",\"width\":2},\"mode\":\"lines\",\"name\":\"Actual returns\",\"x\":[\"2000-10-01\",\"2000-11-01\",\"2000-12-01\",\"2001-01-01\",\"2001-02-01\",\"2001-03-01\",\"2001-04-01\",\"2001-05-01\",\"2001-06-01\",\"2001-07-01\",\"2001-08-01\",\"2001-09-01\",\"2001-10-01\",\"2001-11-01\",\"2001-12-01\",\"2002-01-01\",\"2002-02-01\",\"2002-03-01\",\"2002-04-01\",\"2002-05-01\",\"2002-06-01\",\"2002-07-01\",\"2002-08-01\",\"2002-09-01\",\"2002-10-01\",\"2002-11-01\",\"2002-12-01\",\"2003-01-01\",\"2003-02-01\",\"2003-03-01\",\"2003-04-01\",\"2003-05-01\",\"2003-06-01\",\"2003-07-01\",\"2003-08-01\",\"2003-09-01\",\"2003-10-01\",\"2003-11-01\",\"2003-12-01\",\"2004-01-01\",\"2004-02-01\",\"2004-03-01\",\"2004-04-01\",\"2004-05-01\",\"2004-06-01\",\"2004-07-01\",\"2004-08-01\",\"2004-09-01\",\"2004-10-01\",\"2004-11-01\",\"2004-12-01\",\"2005-01-01\",\"2005-02-01\",\"2005-03-01\",\"2005-04-01\",\"2005-05-01\",\"2005-06-01\",\"2005-07-01\",\"2005-08-01\",\"2005-09-01\",\"2005-10-01\",\"2005-11-01\",\"2005-12-01\",\"2006-01-01\",\"2006-02-01\",\"2006-03-01\",\"2006-04-01\",\"2006-05-01\",\"2006-06-01\",\"2006-07-01\",\"2006-08-01\",\"2006-09-01\",\"2006-10-01\",\"2006-11-01\",\"2006-12-01\",\"2007-01-01\",\"2007-02-01\",\"2007-03-01\",\"2007-04-01\",\"2007-05-01\",\"2007-06-01\",\"2007-07-01\",\"2007-08-01\",\"2007-09-01\",\"2007-10-01\",\"2007-11-01\",\"2007-12-01\",\"2008-01-01\",\"2008-02-01\",\"2008-03-01\",\"2008-04-01\",\"2008-05-01\",\"2008-06-01\",\"2008-07-01\",\"2008-08-01\",\"2008-09-01\",\"2008-10-01\",\"2008-11-01\",\"2008-12-01\",\"2009-01-01\",\"2009-02-01\",\"2009-03-01\",\"2009-04-01\",\"2009-05-01\",\"2009-06-01\",\"2009-07-01\",\"2009-08-01\",\"2009-09-01\",\"2009-10-01\",\"2009-11-01\",\"2009-12-01\",\"2010-01-01\",\"2010-02-01\",\"2010-03-01\",\"2010-04-01\",\"2010-05-01\",\"2010-06-01\",\"2010-07-01\",\"2010-08-01\",\"2010-09-01\",\"2010-10-01\",\"2010-11-01\",\"2010-12-01\",\"2011-01-01\",\"2011-02-01\",\"2011-03-01\",\"2011-04-01\",\"2011-05-01\",\"2011-06-01\",\"2011-07-01\",\"2011-08-01\",\"2011-09-01\",\"2011-10-01\",\"2011-11-01\",\"2011-12-01\",\"2012-01-01\",\"2012-02-01\",\"2012-03-01\",\"2012-04-01\",\"2012-05-01\",\"2012-06-01\",\"2012-07-01\",\"2012-08-01\",\"2012-09-01\",\"2012-10-01\",\"2012-11-01\",\"2012-12-01\",\"2013-01-01\",\"2013-02-01\",\"2013-03-01\",\"2013-04-01\",\"2013-05-01\",\"2013-06-01\",\"2013-07-01\",\"2013-08-01\",\"2013-09-01\",\"2013-10-01\",\"2013-11-01\",\"2013-12-01\",\"2014-01-01\",\"2014-02-01\",\"2014-03-01\",\"2014-04-01\",\"2014-05-01\",\"2014-06-01\",\"2014-07-01\",\"2014-08-01\",\"2014-09-01\",\"2014-10-01\",\"2014-11-01\",\"2014-12-01\",\"2015-01-01\",\"2015-02-01\",\"2015-03-01\",\"2015-04-01\",\"2015-05-01\",\"2015-06-01\",\"2015-07-01\",\"2015-08-01\",\"2015-09-01\",\"2015-10-01\",\"2015-11-01\",\"2015-12-01\",\"2016-01-01\",\"2016-02-01\",\"2016-03-01\",\"2016-04-01\",\"2016-05-01\",\"2016-06-01\",\"2016-07-01\",\"2016-08-01\",\"2016-09-01\",\"2016-10-01\",\"2016-11-01\",\"2016-12-01\",\"2017-01-01\",\"2017-02-01\",\"2017-03-01\",\"2017-04-01\",\"2017-05-01\",\"2017-06-01\",\"2017-07-01\",\"2017-08-01\",\"2017-09-01\",\"2017-10-01\",\"2017-11-01\",\"2017-12-01\",\"2018-01-01\",\"2018-02-01\",\"2018-03-01\",\"2018-04-01\",\"2018-05-01\",\"2018-06-01\",\"2018-07-01\",\"2018-08-01\",\"2018-09-01\",\"2018-10-01\",\"2018-11-01\",\"2018-12-01\",\"2019-01-01\",\"2019-02-01\",\"2019-03-01\",\"2019-04-01\",\"2019-05-01\",\"2019-06-01\",\"2019-07-01\",\"2019-08-01\",\"2019-09-01\",\"2019-10-01\",\"2019-11-01\",\"2019-12-01\",\"2020-01-01\",\"2020-02-01\",\"2020-03-01\",\"2020-04-01\",\"2020-05-01\",\"2020-06-01\",\"2020-07-01\",\"2020-08-01\",\"2020-09-01\",\"2020-10-01\",\"2020-11-01\",\"2020-12-01\",\"2021-01-01\",\"2021-02-01\",\"2021-03-01\",\"2021-04-01\",\"2021-05-01\",\"2021-06-01\",\"2021-07-01\",\"2021-08-01\",\"2021-09-01\",\"2021-10-01\",\"2021-11-01\",\"2021-12-01\",\"2022-01-01\",\"2022-02-01\",\"2022-03-01\",\"2022-04-01\",\"2022-05-01\",\"2022-06-01\",\"2022-07-01\",\"2022-08-01\",\"2022-09-01\",\"2022-10-01\",\"2022-11-01\",\"2022-12-01\",\"2023-01-01\",\"2023-02-01\",\"2023-03-01\",\"2023-04-01\",\"2023-05-01\",\"2023-06-01\",\"2023-07-01\",\"2023-08-01\",\"2023-09-01\",\"2023-10-01\",\"2023-11-01\",\"2023-12-01\",\"2024-01-01\",\"2024-02-01\",\"2024-03-01\",\"2024-04-01\",\"2024-05-01\",\"2024-06-01\",\"2024-07-01\",\"2024-08-01\"],\"y\":[null,1.0255474894131882,1.0338354506957046,0.9928735632183908,5.930568663036903,1.02524500907441,0.9939624924379915,0.9817483363581366,1.0329461584996975,0.9952389594676346,1.027350272232305,0.9906291591046583,0.9893103448275862,0.9717422867513611,1.0094071385359953,1.0391651542649727,0.9689776164549303,0.9847489413188143,1.0655414398064127,1.0118451300665456,0.9984392014519057,0.9735087719298245,0.9690865093768906,0.9132849364791288,1.0499274047186933,1.050798548094374,1.0158620689655173,0.9939322444041138,1.0093103448275862,1.050725952813067,1.007102238354507,1.0027646702964308,0.9519721718088325,0.9418874773139746,0.9874833635813671,0.9568905021173624,1.0078644888082275,1.0582516636418633,0.9664125831820932,0.9890199637023595,1.0055716878402905,0.9959830611010285,1.0599516031457954,1.0670054446460981,1.034162129461585,1.508451300665457,1.0614277071990321,1.0038233514821537,1.0498003629764066,1.0042286751361162,1.015849969751966,1.0305263157894737,1.0141560798548095,1.0468421052631578,1.0040834845735027,0.992474289171204,1.0346218995765275,0.9633877797943133,0.9934119782214157,1.0055535390199637,1.0005565638233516,1.0293163944343617,1.053762855414398,1.00643073200242,1.0203811252268602,0.9955595886267392,0.9733030852994556,1.033145795523291,1.0216817906836055,1.0358136721113127,0.9993042952208105,1.1286509376890503,1.0726013309134907,3.2130248033877797,1.0215607985480943,1.0408166969147006,1.0128917120387175,1.027501512401694,1.0092075015124016,0.9686267392619479,0.9991833030852995,0.9856866303690262,1.0248820326678767,1.0297519661222019,1.0213853599516032,1.0188808227465216,1.027979431336963,1.0368723532970356,1.0044404113732608,1.0015849969751967,1.0188082274652148,1.0226194797338173,0.9885843920145191,0.9759286146400484,0.9907501512401694,1.002474289171204,1.0255172413793103,0.9479370840895343,0.9907743496672716,0.9420447670901392,0.9907199032062917,0.9868784029038112,1.0311494252873565,1.02318814277072,0.9375620084694495,0.9950090744101633,1.0215789473684211,0.9273018753781004,0.8458197217180883,0.9447489413188144,1.0413006654567454,0.9497701149425287,0.9416515426497277,1.0697580157289777,1.1476164549304295,1.0432909860859043,1.0350211736237145,1.0623895946763462,1.0552026618269812,1.0322746521476103,0.9779915305505141,1.0015910465819722,1.0513793103448277,0.9896067755595885,1.0185541439806414,1.0590381125226862,1.0449969751966124,0.9456261343012704,0.9619419237749547,1.0388626739261946,0.9645856019358742,1.0696067755595886,1.0163883847549908,1.0275862068965518,1.0584029038112523,1.0119782214156081,1.0324803387779795,1.0016031457955235,1.0198850574712643,0.9949969751966122,0.9972353297035693,0.9830429522081064,0.9474712643678161,0.9529824561403508,1.0689231699939505,0.9843375680580763,1.0002540834845735,1.0593768905021175,1.0995402298850574,1.026303690260133,0.9927465214761042,0.9427586206896552,1.0300241984271024,0.9957652752571083,1.0196672716273443,1.0171506352087114,1.0012038717483362,1.0166848154869934,1.0311736237144584,1.0607924984875983,1.0218390804597701,1.0406836055656383,1.0333696309739866,1.01821536600121,0.990508166969147,1.0369933454325468,0.98346037507562,1.0512159709618873,1.0213430127041743,1.0239806412583181,1.022280701754386,0.9877434966727164,1.0288626739261948,1.0008287961282516,0.9851845130066547,1.0161161524500906,1.0306473079249847,0.9871445856019359,1.026745311554749,0.989491833030853,1.0253115547489413,1.04167574107683,1.0141681790683605,1.0019419237749547,1.0444585601935874,1.0097459165154263,1.000411373260738,1.0252087114337567,0.9903266787658802,1.012788868723533,0.9586448880822745,0.9679854809437386,1.0623411978221418,1.0190018148820326,0.9822928009679371,0.9491107078039926,0.9993587416817907,1.0566122202056867,1.0004355716878404,1.0214095583787053,0.9709074410163339,1.0535813672111312,1.0110102843315183,1.0043375680580762,0.9848154869933453,1.0514337568058076,1.0315486993345433,1.0146581972171809,1.0218451300665456,1.009751966122202,1.0155958862673926,1.0126678765880217,1.0131215970961889,1.0135692679975803,1.0033877797943134,1.0308892921960073,1.0195220810647307,1.0232244404113733,1.0114458560193589,1.023817301875378,0.974422262552934,0.996636418632789,1.0194797338173018,1.0263641863278887,1.0086327888687234,1.0175922565033273,1.0217725347852389,0.9907501512401694,0.9365880217785845,1.0115124016938897,0.9133272837265578,1.0914398064125832,1.0367513611615244,1.004137931034483,1.043049001814882,0.940822746521476,1.0453539019963702,1.0221234119782214,0.9704476709013913,1.0369449485783424,1.0294797338173018,1.0347307924984874,1.0268058076225044,0.9897519661222022,0.9099153055051422,0.8183847549909256,1.1260314579552329,1.072552934059286,1.0304174228675136,1.0225710828796128,1.0605565638233514,0.9945130066545675,0.9923290986085905,1.1583847549909256,1.0579612825166365,1.0404839685420448,1.053793103448276,1.0589292196007258,1.037652752571083,1.0213430127041743,1.0207562008469449,1.0036418632788868,1.025287356321839,0.9864851784633998,1.0300241984271024,0.969933454325469,1.0402117362371448,0.9256805807622505,0.9876830006049606,1.003230490018149,0.9446763460375075,1.0007199032062917,0.9249425287356322,1.0904295220810647,0.9692982456140351,0.901373260738052,1.0810284331518452,1.0552994555353903,0.9577374470659408,1.0973321234119784,0.9889957652752571,0.979933454325469,1.001318814277072,0.9908832425892315,1.0624803387779795,1.0433393829401088,0.9686206896551725,0.95978221415608,0.9421113127646703,1.0877132486388386,1.079328493647913,0.9853962492437992,1.0741379310344827,1.0276285541439807,0.9559709618874773,1.0341621294615853,0.9932425892317,1.0552510586811856,0.9971990320629158,0.9666787658802178],\"type\":\"scatter\"},{\"line\":{\"color\":\"red\",\"width\":2},\"mode\":\"lines\",\"name\":\"Train returns\",\"x\":[\"2000-10-01\",\"2000-11-01\",\"2000-12-01\",\"2001-01-01\",\"2001-02-01\",\"2001-03-01\",\"2001-04-01\",\"2001-05-01\",\"2001-06-01\",\"2001-07-01\",\"2001-08-01\",\"2001-09-01\",\"2001-10-01\",\"2001-11-01\",\"2001-12-01\",\"2002-01-01\",\"2002-02-01\",\"2002-03-01\",\"2002-04-01\",\"2002-05-01\",\"2002-06-01\",\"2002-07-01\",\"2002-08-01\",\"2002-09-01\",\"2002-10-01\",\"2002-11-01\",\"2002-12-01\",\"2003-01-01\",\"2003-02-01\",\"2003-03-01\",\"2003-04-01\",\"2003-05-01\",\"2003-06-01\",\"2003-07-01\",\"2003-08-01\",\"2003-09-01\",\"2003-10-01\",\"2003-11-01\",\"2003-12-01\",\"2004-01-01\",\"2004-02-01\",\"2004-03-01\",\"2004-04-01\",\"2004-05-01\",\"2004-06-01\",\"2004-07-01\",\"2004-08-01\",\"2004-09-01\",\"2004-10-01\",\"2004-11-01\",\"2004-12-01\",\"2005-01-01\",\"2005-02-01\",\"2005-03-01\",\"2005-04-01\",\"2005-05-01\",\"2005-06-01\",\"2005-07-01\",\"2005-08-01\",\"2005-09-01\",\"2005-10-01\",\"2005-11-01\",\"2005-12-01\",\"2006-01-01\",\"2006-02-01\",\"2006-03-01\",\"2006-04-01\",\"2006-05-01\",\"2006-06-01\",\"2006-07-01\",\"2006-08-01\",\"2006-09-01\",\"2006-10-01\",\"2006-11-01\",\"2006-12-01\",\"2007-01-01\",\"2007-02-01\",\"2007-03-01\",\"2007-04-01\",\"2007-05-01\",\"2007-06-01\",\"2007-07-01\",\"2007-08-01\",\"2007-09-01\",\"2007-10-01\",\"2007-11-01\",\"2007-12-01\",\"2008-01-01\",\"2008-02-01\",\"2008-03-01\",\"2008-04-01\",\"2008-05-01\",\"2008-06-01\",\"2008-07-01\",\"2008-08-01\",\"2008-09-01\",\"2008-10-01\",\"2008-11-01\",\"2008-12-01\",\"2009-01-01\",\"2009-02-01\",\"2009-03-01\",\"2009-04-01\",\"2009-05-01\",\"2009-06-01\",\"2009-07-01\",\"2009-08-01\",\"2009-09-01\",\"2009-10-01\",\"2009-11-01\",\"2009-12-01\",\"2010-01-01\",\"2010-02-01\",\"2010-03-01\",\"2010-04-01\",\"2010-05-01\",\"2010-06-01\",\"2010-07-01\",\"2010-08-01\",\"2010-09-01\",\"2010-10-01\",\"2010-11-01\",\"2010-12-01\",\"2011-01-01\",\"2011-02-01\",\"2011-03-01\",\"2011-04-01\",\"2011-05-01\",\"2011-06-01\",\"2011-07-01\",\"2011-08-01\",\"2011-09-01\",\"2011-10-01\",\"2011-11-01\",\"2011-12-01\",\"2012-01-01\",\"2012-02-01\",\"2012-03-01\",\"2012-04-01\",\"2012-05-01\",\"2012-06-01\",\"2012-07-01\",\"2012-08-01\",\"2012-09-01\",\"2012-10-01\",\"2012-11-01\",\"2012-12-01\",\"2013-01-01\",\"2013-02-01\",\"2013-03-01\",\"2013-04-01\",\"2013-05-01\",\"2013-06-01\",\"2013-07-01\",\"2013-08-01\",\"2013-09-01\",\"2013-10-01\",\"2013-11-01\",\"2013-12-01\",\"2014-01-01\",\"2014-02-01\",\"2014-03-01\",\"2014-04-01\",\"2014-05-01\",\"2014-06-01\",\"2014-07-01\",\"2014-08-01\",\"2014-09-01\",\"2014-10-01\",\"2014-11-01\",\"2014-12-01\",\"2015-01-01\",\"2015-02-01\",\"2015-03-01\",\"2015-04-01\",\"2015-05-01\",\"2015-06-01\",\"2015-07-01\",\"2015-08-01\",\"2015-09-01\",\"2015-10-01\",\"2015-11-01\",\"2015-12-01\",\"2016-01-01\",\"2016-02-01\",\"2016-03-01\",\"2016-04-01\",\"2016-05-01\",\"2016-06-01\",\"2016-07-01\",\"2016-08-01\",\"2016-09-01\",\"2016-10-01\",\"2016-11-01\",\"2016-12-01\",\"2017-01-01\",\"2017-02-01\",\"2017-03-01\",\"2017-04-01\",\"2017-05-01\",\"2017-06-01\",\"2017-07-01\",\"2017-08-01\",\"2017-09-01\",\"2017-10-01\",\"2017-11-01\",\"2017-12-01\",\"2018-01-01\",\"2018-02-01\",\"2018-03-01\",\"2018-04-01\",\"2018-05-01\",\"2018-06-01\",\"2018-07-01\",\"2018-08-01\",\"2018-09-01\",\"2018-10-01\",\"2018-11-01\",\"2018-12-01\",\"2019-01-01\",\"2019-02-01\",\"2019-03-01\",\"2019-04-01\",\"2019-05-01\",\"2019-06-01\",\"2019-07-01\",\"2019-08-01\",\"2019-09-01\",\"2019-10-01\",\"2019-11-01\",\"2019-12-01\",\"2020-01-01\",\"2020-02-01\",\"2020-03-01\",\"2020-04-01\",\"2020-05-01\",\"2020-06-01\",\"2020-07-01\",\"2020-08-01\",\"2020-09-01\",\"2020-10-01\",\"2020-11-01\",\"2020-12-01\",\"2021-01-01\",\"2021-02-01\",\"2021-03-01\",\"2021-04-01\",\"2021-05-01\",\"2021-06-01\",\"2021-07-01\",\"2021-08-01\",\"2021-09-01\",\"2021-10-01\",\"2021-11-01\",\"2021-12-01\",\"2022-01-01\",\"2022-02-01\",\"2022-03-01\",\"2022-04-01\",\"2022-05-01\",\"2022-06-01\",\"2022-07-01\",\"2022-08-01\",\"2022-09-01\",\"2022-10-01\",\"2022-11-01\",\"2022-12-01\",\"2023-01-01\",\"2023-02-01\",\"2023-03-01\",\"2023-04-01\",\"2023-05-01\",\"2023-06-01\",\"2023-07-01\",\"2023-08-01\",\"2023-09-01\",\"2023-10-01\",\"2023-11-01\",\"2023-12-01\",\"2024-01-01\",\"2024-02-01\",\"2024-03-01\",\"2024-04-01\",\"2024-05-01\",\"2024-06-01\",\"2024-07-01\"],\"y\":[1.0196129083633423,1.0287736654281616,1.024152159690857,1.0238516330718994,1.0272815227508545,1.0320841073989868,1.028673768043518,1.0287442207336426,1.024020791053772,1.0243349075317383,1.0268759727478027,1.0224684476852417,1.0247975587844849,1.0235235691070557,1.0282859802246094,1.0281250476837158,1.0279487371444702,1.0336973667144775,1.0236485004425049,1.026023030281067,1.0249228477478027,1.0262035131454468,1.0235220193862915,1.024938941001892,1.020540475845337,1.0300583839416504,1.0262870788574219,1.0285724401474,1.0291374921798706,1.0267714262008667,1.0246623754501343,1.0289231538772583,1.0257916450500488,1.0263220071792603,1.026054859161377,1.0269949436187744,1.0242068767547607,1.0257240533828735,1.035440444946289,1.028234839439392,1.0275940895080566,1.0304713249206543,1.0298147201538086,1.0271105766296387,1.0363603830337524,1.0214433670043945,1.0298746824264526,1.026864767074585,1.0255391597747803,1.0237680673599243,1.027105689048767,1.0276745557785034,1.0293811559677124,1.0279473066329956,1.0273760557174683,1.028475284576416,1.0276970863342285,1.0239125490188599,1.0225080251693726,1.0276401042938232,1.0265339612960815,1.0248216390609741,3.652369260787964,1.0228736400604248,1.0249593257904053,1.0238994359970093,1.0242681503295898,1.0257781744003296,1.0375959873199463,1.0288934707641602,1.0323044061660767,1.0295974016189575,1.024080514907837,1.0297740697860718,1.0259047746658325,1.025800347328186,1.0440146923065186,1.0327452421188354,1.0269896984100342,1.0250805616378784,1.0256469249725342,1.0236728191375732,1.0301570892333984,1.0247288942337036,1.0230337381362915,1.026728630065918,1.020074486732483,1.0284600257873535,1.0388765335083008,1.034360408782959,1.0218627452850342,1.0281505584716797,1.0280811786651611,1.0272926092147827,1.023271083831787,1.023545742034912,1.0280402898788452,1.0216668844223022,1.023484706878662,1.0264865159988403,1.0256799459457397,1.0303045511245728,1.0256584882736206,1.0311877727508545,1.0228519439697266,1.0269005298614502,1.0251185894012451,1.0268311500549316,1.0323938131332397,1.0241364240646362,1.0326212644577026,1.0292212963104248,1.0262839794158936,1.028824806213379,1.0239787101745605,1.0242199897766113,1.0368313789367676,1.0274300575256348,1.023507833480835,1.0213736295700073,1.0341225862503052,1.032588005065918,1.0220478773117065,1.029129147529602,1.031660795211792,1.0300415754318237,1.030473232269287,1.024476408958435,1.0284934043884277,1.0259500741958618,1.0235390663146973,1.0215269327163696,1.0285025835037231,1.0258368253707886,1.03732430934906,1.0264922380447388,1.0302106142044067,1.029794692993164,1.0281938314437866,1.0341359376907349,1.0263762474060059,1.0346342325210571,1.022108554840088,1.021453619003296,1.0305732488632202,1.0331021547317505,1.1150213479995728,1.0251853466033936,1.0320626497268677,1.0269606113433838,1.0344629287719727,1.0263051986694336,1.0268362760543823,1.023643136024475,1.0257755517959595,1.0387649536132812,1.044220209121704,1.0286622047424316,1.020311951637268,1.021826148033142,0.9614875912666321,1.0322990417480469,1.0256214141845703,1.02252197265625,1.03107488155365,1.0296852588653564,1.0280039310455322,1.0286625623703003,1.0328700542449951,1.026566743850708,1.026248574256897,1.025969386100769,1.0274709463119507,1.027343511581421,1.0345882177352905,1.029046893119812,1.0271270275115967,1.0199835300445557,1.0316076278686523,1.0303882360458374,1.0286530256271362,1.0325120687484741,1.034496784210205,1.0312217473983765,1.0322275161743164,1.0277824401855469,1.0293635129928589,1.028458833694458,1.0236539840698242,1.024232268333435,1.0236316919326782,1.0238059759140015,1.0350532531738281,1.0290446281433105,1.0289041996002197,1.0334548950195312,1.029123306274414,1.0270673036575317,1.019379734992981,1.0258187055587769,1.0251572132110596,1.0285139083862305,1.136894702911377,1.033761739730835,1.0220049619674683,1.0371259450912476,3.1227219104766846,1.0357954502105713,1.0232306718826294,1.0261964797973633,1.0256825685501099,1.034590244293213,1.0395660400390625,1.0177158117294312,1.0245310068130493,1.0333918333053589,1.026886224746704,1.0212956666946411,1.028744101524353,1.0299261808395386,1.0293523073196411,1.0313326120376587,1.028182864189148,1.0297369956970215,1.030372142791748,1.0256266593933105,1.0272217988967896,1.0261753797531128,1.0260447263717651,1.0270404815673828,1.0222256183624268,1.0253682136535645,1.0228681564331055,1.0261831283569336,1.0283163785934448,1.021786093711853,1.0249189138412476,1.028139352798462,1.0257227420806885,1.0296003818511963,1.0278198719024658,1.0248726606369019,1.023699402809143,1.0238245725631714,1.0233739614486694,1.0241079330444336,1.0237127542495728,1.0268051624298096,1.0275508165359497,1.022594690322876,1.0362434387207031,1.0260188579559326,1.0323212146759033,1.033482313156128,1.0245870351791382,1.0247278213500977,1.0246658325195312,1.026868462562561,1.0372819900512695,1.0325409173965454,1.0313999652862549,1.0242531299591064,1.0306206941604614,1.0254963636398315,1.0252759456634521,1.043330430984497,1.0484986305236816,1.026036024093628,1.0246303081512451,1.0253095626831055,1.0272598266601562,1.0250258445739746,1.0193969011306763,1.0258393287658691,1.0312329530715942,1.025559425354004,1.0386863946914673,1.0238832235336304,1.0254757404327393,1.0311368703842163,1.0396924018859863,1.0294564962387085,1.038881540298462,1.032794713973999,1.022018313407898,1.0288885831832886],\"type\":\"scatter\"},{\"line\":{\"color\":\"green\",\"width\":2},\"mode\":\"lines\",\"name\":\"Test returns\",\"x\":[\"2024-07-01\",\"2024-08-01\"],\"y\":[1.0288885831832886,1.5728886127471924],\"type\":\"scatter\"}],                        {\"template\":{\"data\":{\"barpolar\":[{\"marker\":{\"line\":{\"color\":\"white\",\"width\":0.5},\"pattern\":{\"fillmode\":\"overlay\",\"size\":10,\"solidity\":0.2}},\"type\":\"barpolar\"}],\"bar\":[{\"error_x\":{\"color\":\"#2a3f5f\"},\"error_y\":{\"color\":\"#2a3f5f\"},\"marker\":{\"line\":{\"color\":\"white\",\"width\":0.5},\"pattern\":{\"fillmode\":\"overlay\",\"size\":10,\"solidity\":0.2}},\"type\":\"bar\"}],\"carpet\":[{\"aaxis\":{\"endlinecolor\":\"#2a3f5f\",\"gridcolor\":\"#C8D4E3\",\"linecolor\":\"#C8D4E3\",\"minorgridcolor\":\"#C8D4E3\",\"startlinecolor\":\"#2a3f5f\"},\"baxis\":{\"endlinecolor\":\"#2a3f5f\",\"gridcolor\":\"#C8D4E3\",\"linecolor\":\"#C8D4E3\",\"minorgridcolor\":\"#C8D4E3\",\"startlinecolor\":\"#2a3f5f\"},\"type\":\"carpet\"}],\"choropleth\":[{\"colorbar\":{\"outlinewidth\":0,\"ticks\":\"\"},\"type\":\"choropleth\"}],\"contourcarpet\":[{\"colorbar\":{\"outlinewidth\":0,\"ticks\":\"\"},\"type\":\"contourcarpet\"}],\"contour\":[{\"colorbar\":{\"outlinewidth\":0,\"ticks\":\"\"},\"colorscale\":[[0.0,\"#0d0887\"],[0.1111111111111111,\"#46039f\"],[0.2222222222222222,\"#7201a8\"],[0.3333333333333333,\"#9c179e\"],[0.4444444444444444,\"#bd3786\"],[0.5555555555555556,\"#d8576b\"],[0.6666666666666666,\"#ed7953\"],[0.7777777777777778,\"#fb9f3a\"],[0.8888888888888888,\"#fdca26\"],[1.0,\"#f0f921\"]],\"type\":\"contour\"}],\"heatmapgl\":[{\"colorbar\":{\"outlinewidth\":0,\"ticks\":\"\"},\"colorscale\":[[0.0,\"#0d0887\"],[0.1111111111111111,\"#46039f\"],[0.2222222222222222,\"#7201a8\"],[0.3333333333333333,\"#9c179e\"],[0.4444444444444444,\"#bd3786\"],[0.5555555555555556,\"#d8576b\"],[0.6666666666666666,\"#ed7953\"],[0.7777777777777778,\"#fb9f3a\"],[0.8888888888888888,\"#fdca26\"],[1.0,\"#f0f921\"]],\"type\":\"heatmapgl\"}],\"heatmap\":[{\"colorbar\":{\"outlinewidth\":0,\"ticks\":\"\"},\"colorscale\":[[0.0,\"#0d0887\"],[0.1111111111111111,\"#46039f\"],[0.2222222222222222,\"#7201a8\"],[0.3333333333333333,\"#9c179e\"],[0.4444444444444444,\"#bd3786\"],[0.5555555555555556,\"#d8576b\"],[0.6666666666666666,\"#ed7953\"],[0.7777777777777778,\"#fb9f3a\"],[0.8888888888888888,\"#fdca26\"],[1.0,\"#f0f921\"]],\"type\":\"heatmap\"}],\"histogram2dcontour\":[{\"colorbar\":{\"outlinewidth\":0,\"ticks\":\"\"},\"colorscale\":[[0.0,\"#0d0887\"],[0.1111111111111111,\"#46039f\"],[0.2222222222222222,\"#7201a8\"],[0.3333333333333333,\"#9c179e\"],[0.4444444444444444,\"#bd3786\"],[0.5555555555555556,\"#d8576b\"],[0.6666666666666666,\"#ed7953\"],[0.7777777777777778,\"#fb9f3a\"],[0.8888888888888888,\"#fdca26\"],[1.0,\"#f0f921\"]],\"type\":\"histogram2dcontour\"}],\"histogram2d\":[{\"colorbar\":{\"outlinewidth\":0,\"ticks\":\"\"},\"colorscale\":[[0.0,\"#0d0887\"],[0.1111111111111111,\"#46039f\"],[0.2222222222222222,\"#7201a8\"],[0.3333333333333333,\"#9c179e\"],[0.4444444444444444,\"#bd3786\"],[0.5555555555555556,\"#d8576b\"],[0.6666666666666666,\"#ed7953\"],[0.7777777777777778,\"#fb9f3a\"],[0.8888888888888888,\"#fdca26\"],[1.0,\"#f0f921\"]],\"type\":\"histogram2d\"}],\"histogram\":[{\"marker\":{\"pattern\":{\"fillmode\":\"overlay\",\"size\":10,\"solidity\":0.2}},\"type\":\"histogram\"}],\"mesh3d\":[{\"colorbar\":{\"outlinewidth\":0,\"ticks\":\"\"},\"type\":\"mesh3d\"}],\"parcoords\":[{\"line\":{\"colorbar\":{\"outlinewidth\":0,\"ticks\":\"\"}},\"type\":\"parcoords\"}],\"pie\":[{\"automargin\":true,\"type\":\"pie\"}],\"scatter3d\":[{\"line\":{\"colorbar\":{\"outlinewidth\":0,\"ticks\":\"\"}},\"marker\":{\"colorbar\":{\"outlinewidth\":0,\"ticks\":\"\"}},\"type\":\"scatter3d\"}],\"scattercarpet\":[{\"marker\":{\"colorbar\":{\"outlinewidth\":0,\"ticks\":\"\"}},\"type\":\"scattercarpet\"}],\"scattergeo\":[{\"marker\":{\"colorbar\":{\"outlinewidth\":0,\"ticks\":\"\"}},\"type\":\"scattergeo\"}],\"scattergl\":[{\"marker\":{\"colorbar\":{\"outlinewidth\":0,\"ticks\":\"\"}},\"type\":\"scattergl\"}],\"scattermapbox\":[{\"marker\":{\"colorbar\":{\"outlinewidth\":0,\"ticks\":\"\"}},\"type\":\"scattermapbox\"}],\"scatterpolargl\":[{\"marker\":{\"colorbar\":{\"outlinewidth\":0,\"ticks\":\"\"}},\"type\":\"scatterpolargl\"}],\"scatterpolar\":[{\"marker\":{\"colorbar\":{\"outlinewidth\":0,\"ticks\":\"\"}},\"type\":\"scatterpolar\"}],\"scatter\":[{\"fillpattern\":{\"fillmode\":\"overlay\",\"size\":10,\"solidity\":0.2},\"type\":\"scatter\"}],\"scatterternary\":[{\"marker\":{\"colorbar\":{\"outlinewidth\":0,\"ticks\":\"\"}},\"type\":\"scatterternary\"}],\"surface\":[{\"colorbar\":{\"outlinewidth\":0,\"ticks\":\"\"},\"colorscale\":[[0.0,\"#0d0887\"],[0.1111111111111111,\"#46039f\"],[0.2222222222222222,\"#7201a8\"],[0.3333333333333333,\"#9c179e\"],[0.4444444444444444,\"#bd3786\"],[0.5555555555555556,\"#d8576b\"],[0.6666666666666666,\"#ed7953\"],[0.7777777777777778,\"#fb9f3a\"],[0.8888888888888888,\"#fdca26\"],[1.0,\"#f0f921\"]],\"type\":\"surface\"}],\"table\":[{\"cells\":{\"fill\":{\"color\":\"#EBF0F8\"},\"line\":{\"color\":\"white\"}},\"header\":{\"fill\":{\"color\":\"#C8D4E3\"},\"line\":{\"color\":\"white\"}},\"type\":\"table\"}]},\"layout\":{\"annotationdefaults\":{\"arrowcolor\":\"#2a3f5f\",\"arrowhead\":0,\"arrowwidth\":1},\"autotypenumbers\":\"strict\",\"coloraxis\":{\"colorbar\":{\"outlinewidth\":0,\"ticks\":\"\"}},\"colorscale\":{\"diverging\":[[0,\"#8e0152\"],[0.1,\"#c51b7d\"],[0.2,\"#de77ae\"],[0.3,\"#f1b6da\"],[0.4,\"#fde0ef\"],[0.5,\"#f7f7f7\"],[0.6,\"#e6f5d0\"],[0.7,\"#b8e186\"],[0.8,\"#7fbc41\"],[0.9,\"#4d9221\"],[1,\"#276419\"]],\"sequential\":[[0.0,\"#0d0887\"],[0.1111111111111111,\"#46039f\"],[0.2222222222222222,\"#7201a8\"],[0.3333333333333333,\"#9c179e\"],[0.4444444444444444,\"#bd3786\"],[0.5555555555555556,\"#d8576b\"],[0.6666666666666666,\"#ed7953\"],[0.7777777777777778,\"#fb9f3a\"],[0.8888888888888888,\"#fdca26\"],[1.0,\"#f0f921\"]],\"sequentialminus\":[[0.0,\"#0d0887\"],[0.1111111111111111,\"#46039f\"],[0.2222222222222222,\"#7201a8\"],[0.3333333333333333,\"#9c179e\"],[0.4444444444444444,\"#bd3786\"],[0.5555555555555556,\"#d8576b\"],[0.6666666666666666,\"#ed7953\"],[0.7777777777777778,\"#fb9f3a\"],[0.8888888888888888,\"#fdca26\"],[1.0,\"#f0f921\"]]},\"colorway\":[\"#636efa\",\"#EF553B\",\"#00cc96\",\"#ab63fa\",\"#FFA15A\",\"#19d3f3\",\"#FF6692\",\"#B6E880\",\"#FF97FF\",\"#FECB52\"],\"font\":{\"color\":\"#2a3f5f\"},\"geo\":{\"bgcolor\":\"white\",\"lakecolor\":\"white\",\"landcolor\":\"white\",\"showlakes\":true,\"showland\":true,\"subunitcolor\":\"#C8D4E3\"},\"hoverlabel\":{\"align\":\"left\"},\"hovermode\":\"closest\",\"mapbox\":{\"style\":\"light\"},\"paper_bgcolor\":\"white\",\"plot_bgcolor\":\"white\",\"polar\":{\"angularaxis\":{\"gridcolor\":\"#EBF0F8\",\"linecolor\":\"#EBF0F8\",\"ticks\":\"\"},\"bgcolor\":\"white\",\"radialaxis\":{\"gridcolor\":\"#EBF0F8\",\"linecolor\":\"#EBF0F8\",\"ticks\":\"\"}},\"scene\":{\"xaxis\":{\"backgroundcolor\":\"white\",\"gridcolor\":\"#DFE8F3\",\"gridwidth\":2,\"linecolor\":\"#EBF0F8\",\"showbackground\":true,\"ticks\":\"\",\"zerolinecolor\":\"#EBF0F8\"},\"yaxis\":{\"backgroundcolor\":\"white\",\"gridcolor\":\"#DFE8F3\",\"gridwidth\":2,\"linecolor\":\"#EBF0F8\",\"showbackground\":true,\"ticks\":\"\",\"zerolinecolor\":\"#EBF0F8\"},\"zaxis\":{\"backgroundcolor\":\"white\",\"gridcolor\":\"#DFE8F3\",\"gridwidth\":2,\"linecolor\":\"#EBF0F8\",\"showbackground\":true,\"ticks\":\"\",\"zerolinecolor\":\"#EBF0F8\"}},\"shapedefaults\":{\"line\":{\"color\":\"#2a3f5f\"}},\"ternary\":{\"aaxis\":{\"gridcolor\":\"#DFE8F3\",\"linecolor\":\"#A2B1C6\",\"ticks\":\"\"},\"baxis\":{\"gridcolor\":\"#DFE8F3\",\"linecolor\":\"#A2B1C6\",\"ticks\":\"\"},\"bgcolor\":\"white\",\"caxis\":{\"gridcolor\":\"#DFE8F3\",\"linecolor\":\"#A2B1C6\",\"ticks\":\"\"}},\"title\":{\"x\":0.05},\"xaxis\":{\"automargin\":true,\"gridcolor\":\"#EBF0F8\",\"linecolor\":\"#EBF0F8\",\"ticks\":\"\",\"title\":{\"standoff\":15},\"zerolinecolor\":\"#EBF0F8\",\"zerolinewidth\":2},\"yaxis\":{\"automargin\":true,\"gridcolor\":\"#EBF0F8\",\"linecolor\":\"#EBF0F8\",\"ticks\":\"\",\"title\":{\"standoff\":15},\"zerolinecolor\":\"#EBF0F8\",\"zerolinewidth\":2}}},\"shapes\":[{\"line\":{\"color\":\"red\",\"dash\":\"dash\",\"width\":1},\"type\":\"line\",\"x0\":\"2024-07-01\",\"x1\":\"2024-07-01\",\"xref\":\"x\",\"y0\":0,\"y1\":1,\"yref\":\"y domain\"}],\"yaxis\":{\"title\":{\"text\":\"Day closing return (%)\"},\"tickformat\":\".0%\",\"range\":[0.75,1.6]},\"title\":{\"text\":\"1 Month Prediction vs Actual Plot\"},\"xaxis\":{\"title\":{\"text\":\"Date\"}},\"legend\":{\"title\":{\"text\":\"Legend\"}}},                        {\"responsive\": true}                    ).then(function(){\n",
       "                            \n",
       "var gd = document.getElementById('286f9d4a-3a1e-4571-8df8-5bcc3fc92a1e');\n",
       "var x = new MutationObserver(function (mutations, observer) {{\n",
       "        var display = window.getComputedStyle(gd).display;\n",
       "        if (!display || display === 'none') {{\n",
       "            console.log([gd, 'removed!']);\n",
       "            Plotly.purge(gd);\n",
       "            observer.disconnect();\n",
       "        }}\n",
       "}});\n",
       "\n",
       "// Listen for the removal of the full notebook cells\n",
       "var notebookContainer = gd.closest('#notebook-container');\n",
       "if (notebookContainer) {{\n",
       "    x.observe(notebookContainer, {childList: true});\n",
       "}}\n",
       "\n",
       "// Listen for the clearing of the current output cell\n",
       "var outputEl = gd.closest('.output');\n",
       "if (outputEl) {{\n",
       "    x.observe(outputEl, {childList: true});\n",
       "}}\n",
       "\n",
       "                        })                };                });            </script>        </div>"
      ]
     },
     "metadata": {},
     "output_type": "display_data"
    }
   ],
   "execution_count": 483
  },
  {
   "metadata": {},
   "cell_type": "markdown",
   "source": "#### Overview table",
   "id": "f8a6981ec5d33de7"
  },
  {
   "metadata": {
    "ExecuteTime": {
     "end_time": "2025-04-06T18:54:33.040536Z",
     "start_time": "2025-04-06T18:54:32.958329Z"
    }
   },
   "cell_type": "code",
   "source": [
    "importlib.reload(comparison)\n",
    "\n",
    "# Get train true values followed with predicted month/s\n",
    "y_train_1m_list = y_train_1m['m_return_target(t+1)'].tolist()\n",
    "y_test_1m_list = y_test_pred_1m.tolist()\n",
    "#\n",
    "df_to_evaluate_1m = comparison.get_df_to_evaluate(df, y_train_1m_list, y_test_1m_list)\n",
    "df_to_evaluate_1m = df_to_evaluate_1m - 1\n",
    "df_to_evaluate_1m"
   ],
   "id": "d4066fdd8e91ee4",
   "outputs": [
    {
     "data": {
      "text/plain": [
       "        RS1.L       KE    TEG.DE    LEG.DE       SCS       HNI       AVT  \\\n",
       "0    0.000000  0.00000 -0.100000  0.000000 -0.230000  0.010000 -0.340000   \n",
       "1    0.000000  0.00000  0.000000 -0.060000  0.030000  0.050000  0.220000   \n",
       "2    0.010000  0.00000  0.550000  0.040000  0.090000 -0.020000  0.280000   \n",
       "3    0.000000 -0.03000  0.090000 -0.130000 -0.050000 -0.010000 -0.110000   \n",
       "4    0.000000  0.00000 -0.060000  0.000000 -0.150000 -0.070000 -0.160000   \n",
       "..        ...      ...       ...       ...       ...       ...       ...   \n",
       "282 -0.050000  0.10000  0.060000  0.020000  0.140000  0.120000  0.120000   \n",
       "283  0.000000 -0.04000 -0.040000 -0.030000 -0.050000 -0.040000 -0.060000   \n",
       "284  0.190000  0.08000  0.020000  0.060000  0.120000  0.220000  0.050000   \n",
       "285 -0.040000 -0.22000  0.060000  0.080000 -0.020000 -0.020000  0.030000   \n",
       "286  0.481712  0.40435  0.753293  0.552723  0.660177  0.625111  0.391511   \n",
       "\n",
       "         ACCO    VNA.DE   7912.T  ...    DEQ.DE      KIDS      HALO      MATW  \\\n",
       "0    0.000000  0.000000 -0.06000  ...  0.000000  0.000000  0.000000  0.070000   \n",
       "1    0.000000 -0.040000  0.05000  ...  0.000000  0.000000  0.000000  0.090000   \n",
       "2   -0.080000  0.020000 -0.06000  ...  0.000000  0.290000 -0.090000 -0.020000   \n",
       "3   -0.020000 -0.100000 -0.08000  ... -0.480000  0.000000  0.000000  0.010000   \n",
       "4    0.000000  0.000000  0.02000  ...  1.180000  0.000000  0.000000  0.050000   \n",
       "..        ...       ...      ...  ...       ...       ...       ...       ...   \n",
       "282  0.060000  0.060000  0.06000  ...  0.090000  0.070000  0.160000  0.050000   \n",
       "283 -0.060000 -0.050000  0.11000  ...  0.070000 -0.090000  0.180000 -0.110000   \n",
       "284  0.090000  0.070000 -0.08000  ...  0.100000  0.070000  0.060000  0.160000   \n",
       "285  0.070000  0.100000  0.06000  ... -0.050000  0.040000  0.160000 -0.130000   \n",
       "286  0.205793  0.693868  0.49948  ...  0.520323  0.328609  1.036522  0.235018   \n",
       "\n",
       "       9842.T      KVHI    MOON.L      NEO    6055.T       UNP  \n",
       "0    0.000000 -0.340000  0.000000  0.00000  0.000000 -0.010000  \n",
       "1    0.000000 -0.160000  0.000000  0.00000  0.000000  0.090000  \n",
       "2   -0.040000  0.690000 -0.140000 -0.24000  0.000000  0.050000  \n",
       "3    0.000000 -0.260000  0.000000  0.00000  0.000000  0.040000  \n",
       "4    0.000000  0.150000  0.000000  0.00000  0.000000  0.020000  \n",
       "..        ...       ...       ...      ...       ...       ...  \n",
       "282 -0.010000  0.080000  0.030000 -0.02000 -0.140000 -0.020000  \n",
       "283  0.010000 -0.100000  0.190000  0.01000  0.140000 -0.020000  \n",
       "284 -0.060000 -0.040000  0.140000  0.28000 -0.100000  0.090000  \n",
       "285 -0.040000  0.000000 -0.030000 -0.07000 -0.110000  0.040000  \n",
       "286  0.229088  0.217481  0.257771  0.53799  1.344105  0.686714  \n",
       "\n",
       "[287 rows x 1653 columns]"
      ],
      "text/html": [
       "<div>\n",
       "<style scoped>\n",
       "    .dataframe tbody tr th:only-of-type {\n",
       "        vertical-align: middle;\n",
       "    }\n",
       "\n",
       "    .dataframe tbody tr th {\n",
       "        vertical-align: top;\n",
       "    }\n",
       "\n",
       "    .dataframe thead th {\n",
       "        text-align: right;\n",
       "    }\n",
       "</style>\n",
       "<table border=\"1\" class=\"dataframe\">\n",
       "  <thead>\n",
       "    <tr style=\"text-align: right;\">\n",
       "      <th></th>\n",
       "      <th>RS1.L</th>\n",
       "      <th>KE</th>\n",
       "      <th>TEG.DE</th>\n",
       "      <th>LEG.DE</th>\n",
       "      <th>SCS</th>\n",
       "      <th>HNI</th>\n",
       "      <th>AVT</th>\n",
       "      <th>ACCO</th>\n",
       "      <th>VNA.DE</th>\n",
       "      <th>7912.T</th>\n",
       "      <th>...</th>\n",
       "      <th>DEQ.DE</th>\n",
       "      <th>KIDS</th>\n",
       "      <th>HALO</th>\n",
       "      <th>MATW</th>\n",
       "      <th>9842.T</th>\n",
       "      <th>KVHI</th>\n",
       "      <th>MOON.L</th>\n",
       "      <th>NEO</th>\n",
       "      <th>6055.T</th>\n",
       "      <th>UNP</th>\n",
       "    </tr>\n",
       "  </thead>\n",
       "  <tbody>\n",
       "    <tr>\n",
       "      <th>0</th>\n",
       "      <td>0.000000</td>\n",
       "      <td>0.00000</td>\n",
       "      <td>-0.100000</td>\n",
       "      <td>0.000000</td>\n",
       "      <td>-0.230000</td>\n",
       "      <td>0.010000</td>\n",
       "      <td>-0.340000</td>\n",
       "      <td>0.000000</td>\n",
       "      <td>0.000000</td>\n",
       "      <td>-0.06000</td>\n",
       "      <td>...</td>\n",
       "      <td>0.000000</td>\n",
       "      <td>0.000000</td>\n",
       "      <td>0.000000</td>\n",
       "      <td>0.070000</td>\n",
       "      <td>0.000000</td>\n",
       "      <td>-0.340000</td>\n",
       "      <td>0.000000</td>\n",
       "      <td>0.00000</td>\n",
       "      <td>0.000000</td>\n",
       "      <td>-0.010000</td>\n",
       "    </tr>\n",
       "    <tr>\n",
       "      <th>1</th>\n",
       "      <td>0.000000</td>\n",
       "      <td>0.00000</td>\n",
       "      <td>0.000000</td>\n",
       "      <td>-0.060000</td>\n",
       "      <td>0.030000</td>\n",
       "      <td>0.050000</td>\n",
       "      <td>0.220000</td>\n",
       "      <td>0.000000</td>\n",
       "      <td>-0.040000</td>\n",
       "      <td>0.05000</td>\n",
       "      <td>...</td>\n",
       "      <td>0.000000</td>\n",
       "      <td>0.000000</td>\n",
       "      <td>0.000000</td>\n",
       "      <td>0.090000</td>\n",
       "      <td>0.000000</td>\n",
       "      <td>-0.160000</td>\n",
       "      <td>0.000000</td>\n",
       "      <td>0.00000</td>\n",
       "      <td>0.000000</td>\n",
       "      <td>0.090000</td>\n",
       "    </tr>\n",
       "    <tr>\n",
       "      <th>2</th>\n",
       "      <td>0.010000</td>\n",
       "      <td>0.00000</td>\n",
       "      <td>0.550000</td>\n",
       "      <td>0.040000</td>\n",
       "      <td>0.090000</td>\n",
       "      <td>-0.020000</td>\n",
       "      <td>0.280000</td>\n",
       "      <td>-0.080000</td>\n",
       "      <td>0.020000</td>\n",
       "      <td>-0.06000</td>\n",
       "      <td>...</td>\n",
       "      <td>0.000000</td>\n",
       "      <td>0.290000</td>\n",
       "      <td>-0.090000</td>\n",
       "      <td>-0.020000</td>\n",
       "      <td>-0.040000</td>\n",
       "      <td>0.690000</td>\n",
       "      <td>-0.140000</td>\n",
       "      <td>-0.24000</td>\n",
       "      <td>0.000000</td>\n",
       "      <td>0.050000</td>\n",
       "    </tr>\n",
       "    <tr>\n",
       "      <th>3</th>\n",
       "      <td>0.000000</td>\n",
       "      <td>-0.03000</td>\n",
       "      <td>0.090000</td>\n",
       "      <td>-0.130000</td>\n",
       "      <td>-0.050000</td>\n",
       "      <td>-0.010000</td>\n",
       "      <td>-0.110000</td>\n",
       "      <td>-0.020000</td>\n",
       "      <td>-0.100000</td>\n",
       "      <td>-0.08000</td>\n",
       "      <td>...</td>\n",
       "      <td>-0.480000</td>\n",
       "      <td>0.000000</td>\n",
       "      <td>0.000000</td>\n",
       "      <td>0.010000</td>\n",
       "      <td>0.000000</td>\n",
       "      <td>-0.260000</td>\n",
       "      <td>0.000000</td>\n",
       "      <td>0.00000</td>\n",
       "      <td>0.000000</td>\n",
       "      <td>0.040000</td>\n",
       "    </tr>\n",
       "    <tr>\n",
       "      <th>4</th>\n",
       "      <td>0.000000</td>\n",
       "      <td>0.00000</td>\n",
       "      <td>-0.060000</td>\n",
       "      <td>0.000000</td>\n",
       "      <td>-0.150000</td>\n",
       "      <td>-0.070000</td>\n",
       "      <td>-0.160000</td>\n",
       "      <td>0.000000</td>\n",
       "      <td>0.000000</td>\n",
       "      <td>0.02000</td>\n",
       "      <td>...</td>\n",
       "      <td>1.180000</td>\n",
       "      <td>0.000000</td>\n",
       "      <td>0.000000</td>\n",
       "      <td>0.050000</td>\n",
       "      <td>0.000000</td>\n",
       "      <td>0.150000</td>\n",
       "      <td>0.000000</td>\n",
       "      <td>0.00000</td>\n",
       "      <td>0.000000</td>\n",
       "      <td>0.020000</td>\n",
       "    </tr>\n",
       "    <tr>\n",
       "      <th>...</th>\n",
       "      <td>...</td>\n",
       "      <td>...</td>\n",
       "      <td>...</td>\n",
       "      <td>...</td>\n",
       "      <td>...</td>\n",
       "      <td>...</td>\n",
       "      <td>...</td>\n",
       "      <td>...</td>\n",
       "      <td>...</td>\n",
       "      <td>...</td>\n",
       "      <td>...</td>\n",
       "      <td>...</td>\n",
       "      <td>...</td>\n",
       "      <td>...</td>\n",
       "      <td>...</td>\n",
       "      <td>...</td>\n",
       "      <td>...</td>\n",
       "      <td>...</td>\n",
       "      <td>...</td>\n",
       "      <td>...</td>\n",
       "      <td>...</td>\n",
       "    </tr>\n",
       "    <tr>\n",
       "      <th>282</th>\n",
       "      <td>-0.050000</td>\n",
       "      <td>0.10000</td>\n",
       "      <td>0.060000</td>\n",
       "      <td>0.020000</td>\n",
       "      <td>0.140000</td>\n",
       "      <td>0.120000</td>\n",
       "      <td>0.120000</td>\n",
       "      <td>0.060000</td>\n",
       "      <td>0.060000</td>\n",
       "      <td>0.06000</td>\n",
       "      <td>...</td>\n",
       "      <td>0.090000</td>\n",
       "      <td>0.070000</td>\n",
       "      <td>0.160000</td>\n",
       "      <td>0.050000</td>\n",
       "      <td>-0.010000</td>\n",
       "      <td>0.080000</td>\n",
       "      <td>0.030000</td>\n",
       "      <td>-0.02000</td>\n",
       "      <td>-0.140000</td>\n",
       "      <td>-0.020000</td>\n",
       "    </tr>\n",
       "    <tr>\n",
       "      <th>283</th>\n",
       "      <td>0.000000</td>\n",
       "      <td>-0.04000</td>\n",
       "      <td>-0.040000</td>\n",
       "      <td>-0.030000</td>\n",
       "      <td>-0.050000</td>\n",
       "      <td>-0.040000</td>\n",
       "      <td>-0.060000</td>\n",
       "      <td>-0.060000</td>\n",
       "      <td>-0.050000</td>\n",
       "      <td>0.11000</td>\n",
       "      <td>...</td>\n",
       "      <td>0.070000</td>\n",
       "      <td>-0.090000</td>\n",
       "      <td>0.180000</td>\n",
       "      <td>-0.110000</td>\n",
       "      <td>0.010000</td>\n",
       "      <td>-0.100000</td>\n",
       "      <td>0.190000</td>\n",
       "      <td>0.01000</td>\n",
       "      <td>0.140000</td>\n",
       "      <td>-0.020000</td>\n",
       "    </tr>\n",
       "    <tr>\n",
       "      <th>284</th>\n",
       "      <td>0.190000</td>\n",
       "      <td>0.08000</td>\n",
       "      <td>0.020000</td>\n",
       "      <td>0.060000</td>\n",
       "      <td>0.120000</td>\n",
       "      <td>0.220000</td>\n",
       "      <td>0.050000</td>\n",
       "      <td>0.090000</td>\n",
       "      <td>0.070000</td>\n",
       "      <td>-0.08000</td>\n",
       "      <td>...</td>\n",
       "      <td>0.100000</td>\n",
       "      <td>0.070000</td>\n",
       "      <td>0.060000</td>\n",
       "      <td>0.160000</td>\n",
       "      <td>-0.060000</td>\n",
       "      <td>-0.040000</td>\n",
       "      <td>0.140000</td>\n",
       "      <td>0.28000</td>\n",
       "      <td>-0.100000</td>\n",
       "      <td>0.090000</td>\n",
       "    </tr>\n",
       "    <tr>\n",
       "      <th>285</th>\n",
       "      <td>-0.040000</td>\n",
       "      <td>-0.22000</td>\n",
       "      <td>0.060000</td>\n",
       "      <td>0.080000</td>\n",
       "      <td>-0.020000</td>\n",
       "      <td>-0.020000</td>\n",
       "      <td>0.030000</td>\n",
       "      <td>0.070000</td>\n",
       "      <td>0.100000</td>\n",
       "      <td>0.06000</td>\n",
       "      <td>...</td>\n",
       "      <td>-0.050000</td>\n",
       "      <td>0.040000</td>\n",
       "      <td>0.160000</td>\n",
       "      <td>-0.130000</td>\n",
       "      <td>-0.040000</td>\n",
       "      <td>0.000000</td>\n",
       "      <td>-0.030000</td>\n",
       "      <td>-0.07000</td>\n",
       "      <td>-0.110000</td>\n",
       "      <td>0.040000</td>\n",
       "    </tr>\n",
       "    <tr>\n",
       "      <th>286</th>\n",
       "      <td>0.481712</td>\n",
       "      <td>0.40435</td>\n",
       "      <td>0.753293</td>\n",
       "      <td>0.552723</td>\n",
       "      <td>0.660177</td>\n",
       "      <td>0.625111</td>\n",
       "      <td>0.391511</td>\n",
       "      <td>0.205793</td>\n",
       "      <td>0.693868</td>\n",
       "      <td>0.49948</td>\n",
       "      <td>...</td>\n",
       "      <td>0.520323</td>\n",
       "      <td>0.328609</td>\n",
       "      <td>1.036522</td>\n",
       "      <td>0.235018</td>\n",
       "      <td>0.229088</td>\n",
       "      <td>0.217481</td>\n",
       "      <td>0.257771</td>\n",
       "      <td>0.53799</td>\n",
       "      <td>1.344105</td>\n",
       "      <td>0.686714</td>\n",
       "    </tr>\n",
       "  </tbody>\n",
       "</table>\n",
       "<p>287 rows × 1653 columns</p>\n",
       "</div>"
      ]
     },
     "execution_count": 613,
     "metadata": {},
     "output_type": "execute_result"
    }
   ],
   "execution_count": 613
  },
  {
   "metadata": {
    "ExecuteTime": {
     "end_time": "2025-04-07T18:45:24.977124Z",
     "start_time": "2025-04-07T18:45:16.711697Z"
    }
   },
   "cell_type": "code",
   "source": [
    "importlib.reload(comparison)\n",
    "df_pred_1m, raw_weights_1m, mu_1m, S_1m, sigma_1m, sharpe_1m = comparison.get_portfolio_performance(df_to_evaluate_1m,\n",
    "                                                                                                    \"xgbooster_weights_1m.csv\",\n",
    "                                                                                                    min_avg_return=-0.5,\n",
    "                                                                                                    months=12)\n",
    "\n",
    "allocation, leftover = comparison.create_discrete_allocation(df_pred_1m, raw_weights_1m)\n",
    "\n",
    "# Create overview\n",
    "df_view_1m = pd.DataFrame.from_dict(raw_weights_1m, orient='index', columns=['max_sharpe_weight'])\n",
    "# Extract volatilities (square root of diagonal elements)\n",
    "df_view_1m['avg_annual_volatility'] = pd.Series(np.sqrt(np.diag(S_1m)), index=S_1m.columns).values\n",
    "# Set annual returns\n",
    "df_view_1m['avg_annual_return'] = mu_1m.values\n",
    "#\n",
    "df_view_1m"
   ],
   "id": "af027ccea9e1252e",
   "outputs": [
    {
     "name": "stdout",
     "output_type": "stream",
     "text": [
      "Expected annual return: 176.7%\n",
      "Annual volatility: 68.5%\n",
      "Sharpe Ratio: 2.55\n",
      "Discrete allocation: {'RS1.L': 5, 'KE': 6, 'TEG.DE': 3, 'LEG.DE': 4, 'SCS': 4, 'HNI': 4, 'AVT': 6, 'ACCO': 10, 'VNA.DE': 3, '7912.T': 5, 'KEYS': 4, 'SGRO.L': 5, 'CBRE': 4, 'BRC': 5, 'PGRE': 4, 'PSON.L': 701, 'BBOX.L': 4, 'REL.L': 314, 'TMV.DE': 20, 'BHE': 1165, 'PLXS': 9, 'GPE.L': 26, 'HAS': 3, 'CHGG': 11, 'JLL': 5, 'LAND.L': 5, 'OLED': 7, 'CDW': 15, 'FLEX': 8, 'REZI': 4, 'TPL': 3, 'ARW': 4, 'NOVT': 3, 'RYN': 3, 'SNX': 3, '7911.T': 6, 'CMPR': 10, 'DLAR.L': 6, '2379.T': 1, '6754.T': 1, 'SHA.DE': 14, 'TTMI': 3, '3234.T': 2, 'PBI': 182, 'BYG.L': 5, 'ASGN': 11, 'COA.L': 6, 'VVV': 3, 'PAGE.L': 6, 'DB1.DE': 4, 'AVB': 7, '3309.T': 2, 'STWD': 4, 'GROW.L': 1, 'MTO.L': 10, 'KFY': 4, 'BLND.L': 3, 'RGLD': 4, 'KFRC': 5, 'IWG.L': 8, '8954.T': 11, 'ZIL2.DE': 2, 'SANM': 329, 'SXS.L': 5, 'YETI': 10, 'ACN': 4, 'HPP': 15, '7893.T': 9, 'SVS.L': 11, 'AGNC': 12, 'CTS': 9, 'IPG': 4, 'BMI': 5, 'FUTR.L': 8, 'EBOX.L': 3, 'SCSC': 6, 'MAN': 7, '7994.T': 11, '3283.T': 2, 'PDM': 4, 'III.L': 1, 'NBS.L': 11, 'DSCV.L': 11, '6183.T': 2, 'KELYA': 4, '6724.T': 1, '4384.T': 1, 'ST': 8, '7984.T': 8, 'CCK': 9, 'APTV': 12, 'STEM.L': 3, 'UU.L': 9, 'ITRI': 3, '6287.T': 2, 'INF.L': 7, '4218.T': 2, 'HMSO.L': 5, 'WDC': 3, '7313.T': 1, 'EBF': 7, 'TNET': 3, '6098.T': 1, 'MLKN': 4, 'HLMA.L': 3, 'WPP.L': 8, 'JBL': 10, '3279.T': 2, 'JEN.DE': 5, 'LXP': 4, 'TRMB': 4, 'WKP.L': 3, '6028.T': 1, 'NLY': 3, 'KGF.L': 5, '7951.T': 7, '7846.T': 8, 'SBAC': 4, 'KRG': 6, 'ATR': 193, 'ELME': 10, 'DNLM.L': 4, 'BDEV.L': 4, 'TEP.L': 3, 'ESRT': 4, 'CGNX': 8, 'ZBRA': 2, 'DLX': 17, 'BWA': 9, 'ELV': 298, 'NYT': 5, 'SNWS.L': 7, 'INS.DE': 3, 'INCH.L': 3, 'NWSA': 11, 'AT1.DE': 9, 'MKSI': 10, '7914.T': 3, 'MMI': 5, 'EXPN.L': 4, 'GRI.L': 5, 'SNBR': 10454, 'SMWH.L': 3, 'IR': 4, 'ITV.L': 55, 'LAD': 6, 'HSII': 5, 'CUZ': 4, 'LIN': 6, 'PHP.L': 4, 'NL': 152, 'BALL': 3, '2146.T': 1, 'DHR': 4, 'KIM': 4, '8057.T': 7, '6841.T': 1, 'MAC': 5, 'ECOR.L': 12, 'SWBI': 215, '8151.T': 5, 'CNNE': 4, 'PLD': 4, 'REXR': 4, 'IPGP': 5, 'RHI': 4, '6845.T': 1, '7868.T': 8, 'CDP': 7, 'AAP': 12, 'GOLF': 4, 'HAS.L': 5, 'LSL.L': 11, '7272.T': 2, 'RCH.L': 4, 'ATGE': 4, '7701.T': 2, 'SAP.DE': 4, 'GWI.L': 15, 'POOL': 6, 'AZO': 852, 'ZWS': 3, 'GTX': 14, 'LKQ': 8, '2154.T': 1, 'HPQ': 3, 'AZEK': 3, 'ADV.DE': 12, 'VRE': 5, 'NSIT': 11, 'KMX': 4, 'OXIG.L': 6, 'CDNS': 7, 'CAH': 4, 'VNT': 3, 'VTR': 2, 'COR': 5, 'REG': 9, '7976.T': 3, 'STAA': 12, 'JOUT': 5, 'PNN.L': 11, 'ENR.DE': 304, 'WSM': 2, 'WIX.L': 6, 'A': 3, 'EQR': 11, 'PFG': 3, '8952.T': 6, 'PTEC.L': 457, 'SPGI': 6, 'FOXT.L': 545, 'HPE': 3, '8976.T': 8, '2124.T': 2, '4641.T': 2, 'LZB': 7, 'CWC.DE': 4, 'AAD.DE': 3, 'STX': 3, 'ESS': 58, 'AMAT': 3, 'AMH': 4, 'LEA': 14, '7762.T': 12, 'ANIK': 6, 'PKE': 17, 'HIW': 8, 'MAA': 4, 'PSM.DE': 18, '4848.T': 1, 'HLE.DE': 6, '5108.T': 1, 'RELL': 4, '3107.T': 2, 'PSA': 3, 'AY': 6, '7476.T': 1, 'ORLY': 8, 'LOW': 4, 'ALV.DE': 12, 'BBSI': 5, 'DLB': 24, 'OPEN': 2, 'RSW.L': 14, 'SMDS.L': 5, '7613.T': 3, 'LMP.L': 3, 'O5G.DE': 39, 'CCI': 6, 'DLN.L': 3, 'ALV': 4, 'LITE': 3, 'MNDI.L': 6, '8084.T': 4, 'AMBP': 139, 'BXP': 7, 'EXLS': 4, '8022.T': 49, 'BDN': 7, '8060.T': 6, 'MTH': 5, 'XRAY': 8, 'FL': 2, 'HAE': 7, 'BRX': 6, '6701.T': 1, 'MTD': 5, 'MSI': 4, 'FME.DE': 20, 'DLR': 4, 'SAFE.L': 5, 'LRCX': 4, '7864.T': 4, 'FOXA': 175, 'LEG': 17, 'HLCL.L': 5, '3466.T': 2, 'SAX.DE': 7, '4732.T': 1, 'KBX.DE': 3, 'JDG.L': 3, 'IRM': 3, 'BOSS.DE': 6, 'NSP': 16, 'G1A.DE': 10, 'RDW.L': 5, 'RNW': 6, 'FRT': 12, 'PINE.L': 6, 'SPG': 4, 'MPX': 18, '6702.T': 1, '1925.T': 1, 'BSL.DE': 8, 'IVT': 12, 'TBCG.L': 3612, 'HBH.DE': 8, 'PAG': 8, 'JD.L': 4, '6448.T': 1, 'AMT': 4, 'ESCA': 6, 'BKG.L': 6, 'IGT': 2, 'CRMT': 9, 'BCYC': 13, 'TPX': 6, '6915.T': 1, 'TMO': 3, '9934.T': 9, 'WAT': 3, 'AN': 5, 'THRM': 3, 'PETS.L': 4, 'GPC': 13, 'MNRO': 8, '3462.T': 2, 'UDMY': 3, 'HD': 3, 'EGP': 8, 'NWL': 11, 'SPT.L': 5, '6981.T': 1, 'CSCO': 13, 'HASI': 4, 'RWS.L': 5, '6436.T': 2, 'ASCL.L': 912, 'OKTA': 10, 'MOV': 14, 'UDR': 4, 'PMT': 4, 'CMLS': 2, 'G24.DE': 7, 'JNPR': 995, '8967.T': 6, '8159.T': 3, 'HST': 5, 'AGR.L': 3, '3295.T': 2, '8960.T': 7, '8035.T': 2, 'SBRA': 10, 'ICG.L': 8, 'EQIX': 5, 'TEL': 3, 'BIG.L': 4, 'CI': 92, '7734.T': 2, 'TBI': 11, 'SREI.L': 9, 'UTG.L': 3, 'HOG': 5, 'UTMD': 8, 'SVT.L': 13, 'DRH': 5, 'BFSA.DE': 5, '7906.T': 5, 'DHL.DE': 6, 'DFS.L': 9, '8984.T': 8, 'FTDR': 5, 'SUPR.L': 3, 'IFX.DE': 2, 'WLY': 4, 'AOX.DE': 94, 'JBGS': 6, 'GPI': 3, 'CLMB': 336, 'BAH': 12, 'ETD': 9, 'ARE': 3, 'SSP': 2, 'TW.L': 4, 'SMTC': 2, 'AGYS': 382, 'SDRY.L': 15, 'SEE': 4, 'SLG': 4, 'NVDA': 60, '7867.T': 3, 'WTS': 3, 'AKAM': 5, 'NCC.L': 3, 'SKT': 3, '3282.T': 1, 'IBM': 5, '3421.T': 1, '6200.T': 1, 'EA': 5, 'TSCO': 6, 'ACRE': 3, 'CEC.DE': 12, 'PANW': 4, 'ADS.DE': 2, 'AV.L': 4, 'RTO.L': 9, 'VID.L': 6, '5988.T': 2, 'AL': 3, 'QCOM': 8, 'BCPT.L': 2, 'GWRE': 4, 'LEVI': 2, '3451.T': 2, 'NDAQ': 3, '8141.T': 13, 'QGEN': 4, 'TM17.L': 14, '8986.T': 7, 'DWNI.DE': 3, 'GAW.L': 4, 'KRC': 5, 'BIRK': 10910, 'CRI': 17, 'PAG.L': 4, '2715.T': 2, 'TPR': 2, 'FOSL': 15, 'CCEP': 8, 'RWI.L': 10, 'ILM1.DE': 1, 'ACLS': 9, 'COMM': 1, 'JAKK': 3, 'HQI': 7, 'CAR': 5, 'FRE.DE': 9, 'HAYW': 6, '8968.T': 9, 'HOFT': 2, '3249.T': 1, '6861.T': 1, 'CNH': 17, 'IPO.L': 10, 'CURY.L': 11, 'ANET': 4, '7718.T': 3, 'BNR.DE': 5, 'CCC.L': 17, 'LOPE': 5, 'STAG': 3, '7282.T': 2, 'G': 32, '8957.T': 10, '8955.T': 6, 'VNO': 4, '7944.T': 12, 'RXRX': 3, 'CNXN': 5, 'MKTX': 4, 'CREI.L': 3, 'WPC': 3, 'AMD': 10, 'ELS': 5, 'AKR': 303, 'TGNA': 16, 'SNPS': 4, 'VICI': 6, 'HWDN.L': 3, 'KNOS.L': 11, '9983.T': 4, 'BBY': 4, 'MRL.L': 11, 'MHK': 3, 'GPMT': 6, 'FERG': 6, 'STVG.L': 4, 'USFD': 4, 'RL': 3, 'INVP.L': 3, 'FRA.DE': 7, 'MOTR.L': 3, 'BMY.L': 324, 'COLD': 4, 'ADBE': 5, 'PARA': 22, 'THRY': 19, 'ETWO': 12, '8173.T': 9, 'GYC.DE': 2, 'TTEK': 5, 'CENT': 10, 'PK': 5, 'AAT': 4, '6645.T': 2, 'DECK': 3, 'ITI': 26, '6866.T': 2, '7433.T': 2, 'KBH': 5, 'MSFT': 3, '8818.T': 7, 'CPT': 4, 'EXR': 4, 'PLCE': 2, 'JBHT': 5, '7752.T': 7, 'NTAP': 4, 'ABM': 4, 'AMS.L': 14, 'CNXC': 6, 'FGP.L': 10, '7309.T': 1, '8014.T': 7, 'HL.L': 1553, 'FBRT': 10, '7593.T': 2, 'FIS': 9, 'ABG': 3, 'PRU.L': 9, 'VFC': 6, 'SITC': 4, 'MSCI': 5, 'FIGS': 5, 'KLIC': 7, 'LULU': 8, 'VOD.L': 6, '8953.T': 7, 'SRE.L': 3, '8154.T': 4, 'ANSS': 6, 'CTEC.L': 3, '7780.T': 4, 'ORA': 5, 'NTGR': 4, 'SUI': 3, 'SIG': 3, 'HSIC': 12, 'CRUS': 2, '8130.T': 11, 'ALFA.L': 11, '6430.T': 2, 'ORCL': 2, 'OMC': 4, 'CIEN': 4, '8897.T': 7, 'KTB': 4, 'HLN.L': 10, '3471.T': 2, 'SMP': 14, 'DJCO': 4, 'ALGM': 9, 'CTRE': 6, '9332.T': 12, '4849.T': 1, 'CRM': 6, 'MCO': 6, '4902.T': 1, '3132.T': 2, 'HUBS': 6, '3493.T': 2, 'VEEV': 9, 'TPT.L': 6, '7483.T': 2, 'AMCR': 8, 'FCPT': 3, 'GBF.DE': 1835, '8150.T': 16, 'TRNO': 7, 'SAFE': 5, 'RITM': 4, 'MUV2.DE': 308, '8876.T': 4, 'RESI.L': 17, '9602.T': 11, 'GCI': 3, 'HWG.L': 4, 'GLPI': 10, 'DAN': 10, 'APD': 7, 'RDUS': 13, 'ARLO': 6, 'SIX2.DE': 4, 'ZM': 2, 'OMF': 4, 'OI': 12, '8283.T': 9, 'GEN': 6, 'ARI': 4, '8972.T': 4, '8951.T': 8, 'PEB': 8, '4307.T': 2, 'SVC': 8, 'NOEJ.DE': 24, '4194.T': 1, 'RF': 4, 'HRB': 4, 'MAT': 13, 'LASR': 8, '6703.T': 2, 'DT': 6, '7947.T': 6, '3002.T': 2, 'FR': 3, '2760.T': 1, 'NOW': 5, 'XPER': 3, 'V': 3, 'DIS': 2, '7250.T': 1, '7990.T': 10, 'CRST.L': 6, '3738.T': 2, 'AGS': 544, '3487.T': 2, '7552.T': 2, 'ZAL.DE': 5, '9882.T': 6, 'MFA': 5, 'INTC': 6, 'HOLI': 8, 'ADP': 9, 'MET': 8, 'HIG': 1026, 'CIM': 4, 'ZTS': 3, 'CALX': 14, '8111.T': 3, 'VPG': 6, 'ADSK': 4, '7220.T': 1, 'JUP.L': 8, 'TT': 3, '4298.T': 1, 'VSCO': 5, 'MIR': 2, 'FND': 3, 'WY': 3, 'KW': 7, '7741.T': 2, 'CTSH': 4, 'SHO': 8, 'HABA.DE': 4, '3281.T': 2, 'SFQ.DE': 5, 'CSR': 5, 'ANF': 118, 'ADC': 6, '9832.T': 14, 'R': 5, 'AEO': 5, 'TLX.DE': 2, '6856.T': 1, '8961.T': 10, 'ZUMZ': 2, 'AXL': 13, '6674.T': 1, 'AON': 9, 'SYY': 4, 'DXC': 5, 'CASS': 3, 'CROX': 2, 'XHR': 6, 'CLDT': 14, '6460.T': 2, 'ARCB': 5, 'NOVA': 3, 'TER': 6, 'ABDP.L': 9, 'OMI': 3, '2475.T': 2, 'FDM.L': 11, '3076.T': 2, 'WEYS': 12, 'EBAY': 3, 'BERY': 5, 'MRVL': 4, 'ROIC': 4, 'MLAB': 4, 'AVY': 4, 'GSK.L': 15, '5970.T': 2, 'MMS': 4, 'SCI': 3, 'TDC': 6, 'TJX': 8, '6857.T': 1, 'ULTA': 5, 'O': 3, 'BNL': 3, 'OSIS': 4, 'CPI.L': 7, '3591.T': 2, 'BR': 5, 'CVLT': 193, 'NFLX': 3, 'BSY': 8, '8008.T': 10, 'MA': 5, 'SEDG': 5, '6758.T': 2, '5991.T': 1, 'SONO': 2, 'ETSY': 5, 'WOOF': 2, 'PVH': 4, 'COO': 4, 'IDS.L': 397, 'WHR.L': 2, '7974.T': 4, 'AHT.L': 9, 'VRA': 11, 'ICLR': 2, 'NXST': 20, 'NXT': 5, 'URI': 4, 'CPRT': 3, '6737.T': 2, 'CYBR': 3, 'DELL': 3, 'ASO': 4, 'VSTO': 6, 'SHOO': 4, 'BNZL.L': 442, 'LCII': 5, 'GLOB': 4, 'WCC': 4, '8964.T': 8, '8056.T': 4, '7832.T': 8, '1435.T': 1, 'ABDN.L': 8, '6417.T': 2, 'SDR.L': 4, 'DEA': 4, 'DX': 9, 'GT': 4, '3186.T': 1, 'PATH': 20, 'TW': 3, 'NRR.L': 4, 'NSSC': 2, '6744.T': 2, '2733.T': 2, '3226.T': 2, '4324.T': 2, 'HVT': 7, 'GHC': 5, 'WSR': 4, 'MMSI': 201, 'ITRK.L': 12, '7419.T': 2, 'ESTC': 20, '6745.T': 2, '4062.T': 2, 'LRN': 192, '9474.T': 7, 'ODFL': 16, 'VTU.L': 3, 'AZTA': 16, 'DORM': 4, 'EPR': 7, 'BURL': 3, '1928.T': 1, 'PSDL.L': 10, '6471.T': 2, 'WBA': 2885, 'THRL.L': 6, 'BOOT': 4, 'GWW': 5, '3003.T': 2, '2692.T': 2, 'DE': 11, 'GPK': 4, 'CPS': 3, 'INVH': 2, 'BFAM': 2, '7508.T': 2, 'VVI': 2, 'SIRI': 6, 'RBBN': 27, 'TTWO': 4, '3668.T': 2, 'GIII': 5, 'GBG.L': 5397, 'VOYA': 13, 'IQV': 2, 'DDOG': 6, 'CCO': 17, 'MRVI': 3, 'CACI': 334, 'WMG': 13, 'NG.L': 15, 'AAN': 10, 'BATRK': 11, 'JCI': 2, 'TPE.DE': 5, '2120.T': 1, 'GPS': 2, 'JST.DE': 13, 'ESP.L': 4, '2429.T': 2, 'CVNA': 582, 'EXPD': 6, 'CSGS': 9, 'NNN': 4, 'INN': 2, 'NMRK': 4, 'PYCR': 10, 'BGEO.L': 8, 'TPK.L': 12, 'HBI': 2409, 'KLAC': 2, '6902.T': 1, 'GCO': 5, 'CLAR': 8, 'NYMT': 4, 'MER.L': 2, 'HIBB': 4, 'EOAN.DE': 4976, '7296.T': 2, '3092.T': 1, 'RVTY': 8, 'XPP.L': 2, 'HLT': 3, '8987.T': 8, '2784.T': 2, 'BKE': 4, 'YOU.DE': 11, 'DHC': 4, '6859.T': 2, 'SFIX': 4, 'AZPN': 4, 'RHP': 4, 'SMHN.DE': 240, 'VRSK': 11, '4544.T': 2, 'UAA': 3, 'IDXX': 1, 'PSN.L': 7, 'CRTO': 35, '3231.T': 2, 'CPRI': 12, '9843.T': 7, 'BLD': 7, 'CIO': 5, 'DAVA': 6, 'RGP': 21, 'FTNT': 8, 'FFIV': 4, 'SPX.L': 3, 'STRA': 4, '9470.T': 3, 'COHU': 10, 'PSTG': 6, '6762.T': 1, 'HEAR': 415, 'TPH': 3, 'LTC': 9, 'PCTN.L': 7, '3765.T': 2, '8966.T': 6, 'FOXF': 9, 'OSPN': 11, 'OSUR': 6, 'MCW': 10, 'FTK.DE': 4, 'PYPL': 3, 'PAR': 60, '3104.T': 1, '9735.T': 8, 'CWK': 10, 'JUST.L': 116, 'EYE': 3, 'FDS': 20, 'VTY.L': 5, 'FRPH': 9, 'SYF': 3, 'PFGC': 5, 'AEWU.L': 10, 'PCH': 8, 'AGCO': 13, 'RWT': 4, 'VIAV': 8, 'ZS': 2, 'FOUR.L': 6, 'OMCL': 15, '3292.T': 2, 'IHRT': 1, 'LESL': 4, 'SOHO.L': 2, 'EQC': 22, 'HBAN': 4, 'WAF.DE': 5, '9729.T': 4, 'PRDO': 235, 'OSW': 5, 'SBS.DE': 8, 'BXMT': 4, 'IRT': 2, '7239.T': 2, 'KD': 8, 'CUBE': 4, 'VTSC.DE': 81, '1911.T': 1, 'TMHC': 2, 'SMAR': 15, '4745.T': 2, 'LGEN.L': 6, 'GLW': 11, 'PAYX': 4, 'XRX': 11, 'GFS': 11, 'MTCH': 16, 'GES': 6, 'NAPA': 16, '3116.T': 2, '6644.T': 2, 'IHG.L': 2, '7729.T': 2, 'OXM': 2, '7731.T': 3, 'CARR': 4, '6736.T': 382, 'MEGP.L': 8, 'TTK.DE': 7, 'AAPL': 4, 'JHG': 3, 'TTSH': 4, '3269.T': 2, 'REGN': 879, 'SGE.L': 8, 'UNIT': 4, 'UPBD': 5, 'EVD.DE': 3, 'SCT.L': 19, 'SNOW': 6, '6425.T': 2, 'INTU': 2, 'UNM': 235, 'PTON': 2, 'WTW': 8, 'DKS': 3, 'MRK.DE': 4, '3468.T': 2, 'ROKU': 5, '9627.T': 4, '4293.T': 2, '4665.T': 2, 'HLIT': 12, 'YUMC': 5, 'ZI': 16, 'FITB': 6, 'EFC': 4, '6146.T': 1, 'LFUS': 7, 'BWY.L': 7, '7955.T': 8, 'U': 7, 'CTAS': 3, 'UNH': 12, 'BLKB': 4, '7600.T': 1, 'LDOS': 3, 'MBG.DE': 5, 'DOCU': 6, 'SSE.L': 3, '6383.T': 1, 'PLYM': 3, 'EPRT': 2, '6750.T': 2, 'COK.DE': 4, 'PINC': 9, 'KVUE': 3, '6588.T': 2, 'FORM': 6, '6976.T': 2, '5332.T': 2, '7732.T': 3, '4433.T': 2, 'CME': 9, 'EXTR': 5, 'AOF.DE': 5, 'TGT': 2, '2767.T': 2, 'ASHM.L': 8, '8985.T': 11, '4452.T': 2, 'RLJ': 4, 'LNT': 7, '2491.T': 2, 'ATRI': 5, 'P911.DE': 15, '8804.T': 824, '8802.T': 7, 'ARHS': 3, 'HZO': 2, '4751.T': 1, 'MEDP': 4, '7751.T': 3, 'BKNG': 7, 'LSEG.L': 4, 'AMN': 9, 'ROST': 6, 'CAL': 2, '6951.T': 2, '1973.T': 2, '8439.T': 10, 'MANH': 4, '3492.T': 2, '5105.T': 2, 'EQH': 2, 'PCA.L': 6, '9101.T': 4, 'HTZ': 2, 'PAT.DE': 6, 'TFC': 4, 'OHI': 8, 'TROW': 4, 'FSLR': 3, 'CCH.L': 14, '9364.T': 13, '7730.T': 2, 'NEOG': 8, 'HNR1.DE': 11, '4619.T': 1, 'DAY': 11, '6592.T': 1, 'SNDR': 8, 'MONY.L': 21, 'MDB': 27, 'MEG': 4, 'MERC': 12, 'SHYF': 14, 'CHEF': 4, 'HCSG': 6, '2874.T': 2, 'WU': 15, 'APLE': 12, '9068.T': 49, 'MSGS': 11, 'DBI': 10, 'CON.DE': 7, 'IHR.L': 2, 'ROK': 7, 'GNTX': 10, 'WDAY': 4, 'CCS': 3, '9831.T': 11, 'COHR': 1, '9401.T': 2, '9719.T': 7, '3148.T': 2, 'RH': 2, '8079.T': 4, '7915.T': 6, 'LSCC': 18, '4980.T': 1, 'CHRW': 12, '3289.T': 2, 'IVR': 13, 'RMV.L': 9, 'BBW': 5, 'GXI.DE': 6, 'EMG.L': 11, 'ONTF': 6, 'CRWD': 15, 'SLAB': 5, '6914.T': 2, '3050.T': 2, 'GTN': 9355, 'CLI.L': 6, 'SAIA': 4, 'KN': 5, '6814.T': 1, '7241.T': 1, 'NDX1.DE': 5, 'LINC': 4, 'DAKT': 2, 'PRI': 7, 'CHKP': 3, 'HFFG': 6, 'ALIT': 5, 'NETW.L': 24, 'TEAM': 10, 'DGII': 10, 'EVTC': 5, 'HHFA.DE': 5, 'AFL': 531, 'SBGI': 7, 'PECO': 10, 'PUM.DE': 5, '8129.T': 4, 'NCNO': 9, 'SBH': 4, 'NWG.L': 5, 'NEXN.L': 465, 'EVT.DE': 2, 'FI': 5, 'JILL': 8, '9404.T': 3, 'UNFI': 10, 'CBL': 4, 'AHH': 4, 'SFM': 242, 'HR': 8, 'KMI': 4, 'KWS.L': 12, '7740.T': 2, '2168.T': 1, '6723.T': 1, 'TWO': 4, '3191.T': 2, '9076.T': 13, 'MPW': 7, 'AEIS': 7, 'AMKR': 8, 'ZIG.L': 5, '6923.T': 1, 'KREF': 3, 'AER': 2, 'PFE': 14, '4301.T': 2, 'NVMI': 2, 'LADR': 4, '3046.T': 2, '9024.T': 25, '2170.T': 1, '3612.T': 1, 'YOU.L': 7, 'LIO.L': 25, 'ICFI': 3, 'INFN': 5, '7294.T': 2, 'HURN': 8, 'SLP': 12, '4716.T': 2, '7599.T': 1, 'UCTT': 6, 'CHPT': 1, 'CFLT': 25, 'ONEW': 2, 'VMUK.L': 4, '7735.T': 1, 'VYX': 7, 'B4B.DE': 27, 'XYL': 2, 'RBLX': 7, 'AYI': 6, '4689.T': 1, '8050.T': 3, 'SY1.DE': 4, 'WST': 4, 'RARE': 3, 'UE': 5, 'BFH': 362, '2331.T': 1, 'KAR': 2, '8282.T': 9, '5110.T': 1, '6268.T': 2, 'ETN': 3, 'AMC': 9, 'FWRD': 3, '2395.T': 2, 'WBD': 6, 'SHL.DE': 5, 'CRL': 5, 'AUTO.L': 5, 'ADI': 3, 'NSA': 4, '8114.T': 6, 'ES': 3, 'WTB.L': 9, '4812.T': 2, 'KNX': 5, 'TRTX': 5, 'EVOK.L': 16, 'LAMR': 6, '4816.T': 1, 'CPRX': 3, '4151.T': 2, 'ONT.L': 8, 'BELFB': 8, '7354.T': 2, 'TWKS': 18, '9434.T': 2926, 'MOD': 2, 'BEZ.L': 5, 'WHR': 4, 'DRVN': 2, '8591.T': 9, 'PRSR.L': 3, '7844.T': 9, 'DDS': 4, 'RMR': 4, '4549.T': 1, '7575.T': 2, 'MNDY': 113, 'KCO.DE': 8, 'EVRI': 10, '3635.T': 2, 'HSTM': 11, 'DNB': 5, 'AXP': 3, 'ORC': 11, 'GTY.DE': 2, '4503.T': 2, 'FOR': 3, 'GEF': 5, '7747.T': 2, 'NTST': 4, '3086.T': 1, 'PKG': 5, 'OC': 5, '9987.T': 3, 'ARR': 10, 'IMAX': 2, '3659.T': 1, '8601.T': 5, 'DTE.DE': 1797, 'IHS': 3, '8963.T': 4, '5938.T': 1, 'NBPE.L': 12, 'TAL': 2, '7803.T': 16, 'BIRD': 17, 'FLGT': 5, 'WRBY': 8, 'PGNY': 8, 'PFC.L': 1, 'SRP.L': 5, 'UTI': 217, 'BEPC': 3, '3481.T': 1, 'ATG.L': 14, 'WINA': 21, '7451.T': 2, 'GTY': 3, 'HEN3.DE': 12, 'TYL': 4, 'PRG': 4, 'BLK': 3, 'NTCT': 6, '7459.T': 2, 'FAN.L': 6, '9613.T': 5, 'TYMN.L': 6, 'PAYC': 12, 'GDDY': 285, 'RMBS': 28, 'PACB': 2, 'CRDA.L': 12, 'MGRC': 28, 'DNOW': 10, 'MSA': 4, 'RC': 5, 'TTG.L': 6, 'MNG.L': 18, '3402.T': 2, 'N91.L': 4, 'WTRG': 8, 'UPWK': 6, '5101.T': 2, 'CPG.L': 10, 'KBR': 5, 'ADUS': 2, 'PRPL': 9, 'PWSC': 5, '8308.T': 3, 'RSG': 5, 'PTC': 4, 'ALGN': 2, 'CRH': 3, 'RAT.L': 7, 'PRU': 11, '8958.T': 8, '2972.T': 2, 'CNK': 6, '2979.T': 2, 'LNC': 3, '6965.T': 2, 'NXT.L': 3, 'PHNX.L': 4, 'OUT': 3, 'LBRDK': 12, 'CTO': 13, 'ICE': 4, 'MU': 6, 'ROL': 4, 'OTIS': 4, 'IIPR': 1, '7936.T': 1, 'FINV': 17, 'PRGS': 9, 'EVK.DE': 7, '8219.T': 8, 'JKHY': 4, 'AMP': 4, 'PTVE': 2270, 'ICUI': 2, 'ENTG': 6, '6718.T': 2, '9107.T': 12, 'AWK': 3, 'BOWL': 3, 'NKE': 18, '6955.T': 2, 'DTG.DE': 5, 'QSI': 8, 'JMAT.L': 6, '2685.T': 1, 'NHI': 4, 'DLTR': 8, '3476.T': 2, 'PRO': 7, 'UPS': 7, 'DWS.DE': 7, 'BIJ.DE': 7, 'EXC': 11, '3290.T': 2, 'FCN': 8, 'JAMF': 15, 'VZ': 4, 'GLE.L': 3, '7988.T': 8, '3287.T': 2, 'TOST': 5, 'ARES': 6, 'WM': 8, 'LXS.DE': 10, 'CMI': 5, 'HCKT': 96, 'NESF.L': 11, 'PLUS.L': 3412, '2389.T': 2, 'WWW': 3, 'VSAT': 6, 'TILE': 3, 'BDC': 4, 'HUBB': 4, 'ADTN': 46, 'RGA': 4, 'AVGO': 3, 'RM': 18, 'URBN': 2883, '6651.T': 2, 'ULTP.L': 6, 'AVNS': 4, 'LAUR': 7, 'ENR': 15, 'SCVL': 4, 'ADPT': 9, 'SAH': 4, 'ONL': 3, 'DBRG': 11, '9697.T': 10, 'GPRO': 16, 'VRNT': 6, 'HUM': 13, 'CARG': 4, 'NEM.DE': 4, 'ZIM': 6, 'SBLK': 6, '7860.T': 6, 'NXU.DE': 4, 'TROX': 7, 'BK': 4, 'MPWR': 4, 'VOXX': 9, 'ILMN': 2, 'PD': 6, 'APH': 4, 'FSJ.L': 11, 'MSM': 16, '4369.T': 1, 'FDX': 3, '6941.T': 1, '9766.T': 55, '7606.T': 2, 'VECO': 9, 'MRTN': 8, '6504.T': 1, '8012.T': 6, 'CRAI': 2, 'GKOS': 357, 'KMT': 8, '9757.T': 12, 'NTNX': 524, '9413.T': 7, 'BOOT.L': 8, 'IT': 5, '8697.T': 6, '6971.T': 2, 'NXPI': 3, 'RS': 6, 'ITRN': 6, '9869.T': 7, '8977.T': 9, 'APP': 29, 'AVNW': 4, 'APLD': 3, 'DOLE': 8, 'SBRY.L': 4, 'HLX': 6, '9069.T': 14, '2433.T': 1, 'WEIR.L': 2, '3151.T': 2, 'MHO': 8, 'LSTR': 13, '8923.T': 8, '3593.T': 2, '6326.T': 2, 'VRTX': 8, 'NVT': 2, 'TTC': 8, '2327.T': 1, 'GFT.DE': 5, '3636.T': 2, '8252.T': 7, '8086.T': 8, 'ROP': 5, '3994.T': 2, '3697.T': 1, 'BKR': 4, 'RCL': 3, 'SLB': 6, '2502.T': 2, '9790.T': 6, 'TRU': 2, 'PETQ': 6, '2790.T': 1, 'FIE.DE': 8, '4839.T': 2, 'NVRI': 6, 'GME': 9, '9605.T': 26, 'AIN': 5, 'PMTS': 6, '4676.T': 2, 'FUBO': 5, 'CLFD': 7, 'MVIS': 8, 'SEAT': 7, '4326.T': 1, 'SMCI': 202, 'ACEL': 11, '9409.T': 6, 'ISRG': 4, 'VC': 9, 'BLCO': 13, 'GMRE': 4, 'AMAL': 4, '2337.T': 1, 'GPN': 5, 'BRKR': 4, 'BEN': 5, '3608.T': 1, 'FLTR.L': 15, 'STGW': 3, '8074.T': 4, '3048.T': 1, 'HRI': 6, 'QLYS': 10, 'DFIN': 7, '8803.T': 9, 'XP': 3, 'CNM': 3, 'ONTO': 4, 'ONON': 3, '2792.T': 1, 'COUR': 8, 'AUDC': 3, 'FWONK': 2127, '5334.T': 1, 'DOW': 10, 'PSTL': 4, '7458.T': 2, 'ECV.DE': 4, 'DAR': 5, 'AMG': 4, 'FLYW': 14, 'FORR': 15, '3626.T': 2, 'BIG': 19, 'UIS': 6, '2971.T': 2, 'IOT': 3, 'CERS': 3, 'AIV': 2, 'BC': 3, 'WSC': 10, '7453.T': 1, 'DCC.L': 5, 'CARD.L': 7, 'WIX': 3, '2471.T': 1, 'LQDT': 593, 'DRQ': 7, 'NFG.L': 11, '9064.T': 11, 'GRG.L': 15, 'LYB': 12, 'AWI': 5, 'BC8.DE': 6, 'ACTG': 10, 'LSEA': 13, '3341.T': 1, 'IQ': 10, 'CLVT': 7, 'LII': 3, '8309.T': 7, 'PGR': 1392, 'IVAC': 6, 'TWI': 3419, '4568.T': 2, 'CRCT': 7, '6787.T': 1, 'ALLE': 3, '9433.T': 2206, 'OCN.L': 4, 'VSEC': 2, '7564.T': 1, 'TSCO.L': 354, 'PFD.L': 5, '9143.T': 13, 'GXO': 3, 'BGC': 2, '3296.T': 2, 'PEN': 17, '7518.T': 2, '9072.T': 8, 'ENPH': 6, 'GAMA.L': 4, '2670.T': 1, 'SUP': 6, 'MATX': 6, 'DEQ.DE': 4, 'KIDS': 7, 'HALO': 2, 'MATW': 9, '9842.T': 9, 'KVHI': 9, 'MOON.L': 8, 'NEO': 4, '6055.T': 2, 'UNP': 3}\n",
      "Funds remaining: €35.67\n"
     ]
    },
    {
     "data": {
      "text/plain": [
       "        max_sharpe_weight  avg_annual_volatility  avg_annual_return\n",
       "RS1.L                 0.0               3.485498           0.614151\n",
       "KE                    0.0               3.474583          -0.043396\n",
       "TEG.DE                0.0               3.701630           1.597632\n",
       "LEG.DE                0.0               3.546676           1.147623\n",
       "SCS                   0.0               3.621287           1.171782\n",
       "...                   ...                    ...                ...\n",
       "KVHI                  0.0               3.334557           0.074981\n",
       "MOON.L                0.0               3.358550           0.617740\n",
       "NEO                   0.0               3.619571           1.075490\n",
       "6055.T                0.0               4.581623           0.835447\n",
       "UNP                   0.0               3.608043           1.155177\n",
       "\n",
       "[1644 rows x 3 columns]"
      ],
      "text/html": [
       "<div>\n",
       "<style scoped>\n",
       "    .dataframe tbody tr th:only-of-type {\n",
       "        vertical-align: middle;\n",
       "    }\n",
       "\n",
       "    .dataframe tbody tr th {\n",
       "        vertical-align: top;\n",
       "    }\n",
       "\n",
       "    .dataframe thead th {\n",
       "        text-align: right;\n",
       "    }\n",
       "</style>\n",
       "<table border=\"1\" class=\"dataframe\">\n",
       "  <thead>\n",
       "    <tr style=\"text-align: right;\">\n",
       "      <th></th>\n",
       "      <th>max_sharpe_weight</th>\n",
       "      <th>avg_annual_volatility</th>\n",
       "      <th>avg_annual_return</th>\n",
       "    </tr>\n",
       "  </thead>\n",
       "  <tbody>\n",
       "    <tr>\n",
       "      <th>RS1.L</th>\n",
       "      <td>0.0</td>\n",
       "      <td>3.485498</td>\n",
       "      <td>0.614151</td>\n",
       "    </tr>\n",
       "    <tr>\n",
       "      <th>KE</th>\n",
       "      <td>0.0</td>\n",
       "      <td>3.474583</td>\n",
       "      <td>-0.043396</td>\n",
       "    </tr>\n",
       "    <tr>\n",
       "      <th>TEG.DE</th>\n",
       "      <td>0.0</td>\n",
       "      <td>3.701630</td>\n",
       "      <td>1.597632</td>\n",
       "    </tr>\n",
       "    <tr>\n",
       "      <th>LEG.DE</th>\n",
       "      <td>0.0</td>\n",
       "      <td>3.546676</td>\n",
       "      <td>1.147623</td>\n",
       "    </tr>\n",
       "    <tr>\n",
       "      <th>SCS</th>\n",
       "      <td>0.0</td>\n",
       "      <td>3.621287</td>\n",
       "      <td>1.171782</td>\n",
       "    </tr>\n",
       "    <tr>\n",
       "      <th>...</th>\n",
       "      <td>...</td>\n",
       "      <td>...</td>\n",
       "      <td>...</td>\n",
       "    </tr>\n",
       "    <tr>\n",
       "      <th>KVHI</th>\n",
       "      <td>0.0</td>\n",
       "      <td>3.334557</td>\n",
       "      <td>0.074981</td>\n",
       "    </tr>\n",
       "    <tr>\n",
       "      <th>MOON.L</th>\n",
       "      <td>0.0</td>\n",
       "      <td>3.358550</td>\n",
       "      <td>0.617740</td>\n",
       "    </tr>\n",
       "    <tr>\n",
       "      <th>NEO</th>\n",
       "      <td>0.0</td>\n",
       "      <td>3.619571</td>\n",
       "      <td>1.075490</td>\n",
       "    </tr>\n",
       "    <tr>\n",
       "      <th>6055.T</th>\n",
       "      <td>0.0</td>\n",
       "      <td>4.581623</td>\n",
       "      <td>0.835447</td>\n",
       "    </tr>\n",
       "    <tr>\n",
       "      <th>UNP</th>\n",
       "      <td>0.0</td>\n",
       "      <td>3.608043</td>\n",
       "      <td>1.155177</td>\n",
       "    </tr>\n",
       "  </tbody>\n",
       "</table>\n",
       "<p>1644 rows × 3 columns</p>\n",
       "</div>"
      ]
     },
     "execution_count": 666,
     "metadata": {},
     "output_type": "execute_result"
    }
   ],
   "execution_count": 666
  },
  {
   "metadata": {},
   "cell_type": "markdown",
   "source": "## 6 Months",
   "id": "b9d9c2787485c1ff"
  },
  {
   "metadata": {
    "ExecuteTime": {
     "end_time": "2025-04-07T18:46:06.160881Z",
     "start_time": "2025-04-07T18:46:05.674913Z"
    }
   },
   "cell_type": "code",
   "source": [
    "importlib.reload(train_test)\n",
    "X_train, y_train, X_test, y_test = train_test.get_train_test(df_tabular, months=60, target_key='m_return_target(t+6)')\n",
    "\n",
    "# \n",
    "model = xgboost.XGBRegressor(n_estimators=1000)\n",
    "model.fit(X_train, y_train,\n",
    "          eval_set=[(X_train, y_train), (X_test, y_test)],\n",
    "          verbose=False)"
   ],
   "id": "93df1cf38cd00ed9",
   "outputs": [],
   "execution_count": 668
  },
  {
   "metadata": {
    "ExecuteTime": {
     "end_time": "2025-04-07T18:46:08.569018Z",
     "start_time": "2025-04-07T18:46:06.872007Z"
    }
   },
   "cell_type": "code",
   "source": [
    "months_6m = 6\n",
    "X_train_6m, y_train_6m, X_test_6m, y_test_6m = train_test.get_train_test(df_tabular, months=6,\n",
    "                                                                         target_key='m_return_target(t+6)')\n",
    "\n",
    "# Predictions\n",
    "y_train_pred_6m = model.predict(X_train_6m)\n",
    "y_test_pred_6m = model.predict(X_test_6m)"
   ],
   "id": "34201fec54105879",
   "outputs": [],
   "execution_count": 669
  },
  {
   "metadata": {},
   "cell_type": "markdown",
   "source": "#### Train-Data",
   "id": "fe51ea194fe52f40"
  },
  {
   "metadata": {
    "ExecuteTime": {
     "end_time": "2025-04-07T18:46:35.298843Z",
     "start_time": "2025-04-07T18:46:35.266073Z"
    }
   },
   "cell_type": "code",
   "source": [
    "importlib.reload(comparison)\n",
    "y_train_mean_pred_6m, y_test_mean_pred_6m = comparison.get_train_test_mean_pred(y_train_pred_6m, y_test_pred_6m, len(df.columns))"
   ],
   "id": "e9f110dcb5c789bd",
   "outputs": [],
   "execution_count": 671
  },
  {
   "metadata": {},
   "cell_type": "markdown",
   "source": "### 6 Months Actual vs Prediction",
   "id": "47b11a14208d302a"
  },
  {
   "metadata": {
    "ExecuteTime": {
     "end_time": "2025-04-07T18:46:37.223359Z",
     "start_time": "2025-04-07T18:46:37.124927Z"
    }
   },
   "cell_type": "code",
   "source": [
    "importlib.reload(comparison)\n",
    "comparison.generate_plot(df, df_tabular, y_train_mean_pred_6m, y_test_mean_pred_6m)"
   ],
   "id": "171c2e1803eb29ea",
   "outputs": [
    {
     "data": {
      "application/vnd.plotly.v1+json": {
       "data": [
        {
         "line": {
          "color": "#5c839f",
          "width": 2
         },
         "mode": "lines",
         "name": "Actual returns",
         "x": [
          "2000-10-01",
          "2000-11-01",
          "2000-12-01",
          "2001-01-01",
          "2001-02-01",
          "2001-03-01",
          "2001-04-01",
          "2001-05-01",
          "2001-06-01",
          "2001-07-01",
          "2001-08-01",
          "2001-09-01",
          "2001-10-01",
          "2001-11-01",
          "2001-12-01",
          "2002-01-01",
          "2002-02-01",
          "2002-03-01",
          "2002-04-01",
          "2002-05-01",
          "2002-06-01",
          "2002-07-01",
          "2002-08-01",
          "2002-09-01",
          "2002-10-01",
          "2002-11-01",
          "2002-12-01",
          "2003-01-01",
          "2003-02-01",
          "2003-03-01",
          "2003-04-01",
          "2003-05-01",
          "2003-06-01",
          "2003-07-01",
          "2003-08-01",
          "2003-09-01",
          "2003-10-01",
          "2003-11-01",
          "2003-12-01",
          "2004-01-01",
          "2004-02-01",
          "2004-03-01",
          "2004-04-01",
          "2004-05-01",
          "2004-06-01",
          "2004-07-01",
          "2004-08-01",
          "2004-09-01",
          "2004-10-01",
          "2004-11-01",
          "2004-12-01",
          "2005-01-01",
          "2005-02-01",
          "2005-03-01",
          "2005-04-01",
          "2005-05-01",
          "2005-06-01",
          "2005-07-01",
          "2005-08-01",
          "2005-09-01",
          "2005-10-01",
          "2005-11-01",
          "2005-12-01",
          "2006-01-01",
          "2006-02-01",
          "2006-03-01",
          "2006-04-01",
          "2006-05-01",
          "2006-06-01",
          "2006-07-01",
          "2006-08-01",
          "2006-09-01",
          "2006-10-01",
          "2006-11-01",
          "2006-12-01",
          "2007-01-01",
          "2007-02-01",
          "2007-03-01",
          "2007-04-01",
          "2007-05-01",
          "2007-06-01",
          "2007-07-01",
          "2007-08-01",
          "2007-09-01",
          "2007-10-01",
          "2007-11-01",
          "2007-12-01",
          "2008-01-01",
          "2008-02-01",
          "2008-03-01",
          "2008-04-01",
          "2008-05-01",
          "2008-06-01",
          "2008-07-01",
          "2008-08-01",
          "2008-09-01",
          "2008-10-01",
          "2008-11-01",
          "2008-12-01",
          "2009-01-01",
          "2009-02-01",
          "2009-03-01",
          "2009-04-01",
          "2009-05-01",
          "2009-06-01",
          "2009-07-01",
          "2009-08-01",
          "2009-09-01",
          "2009-10-01",
          "2009-11-01",
          "2009-12-01",
          "2010-01-01",
          "2010-02-01",
          "2010-03-01",
          "2010-04-01",
          "2010-05-01",
          "2010-06-01",
          "2010-07-01",
          "2010-08-01",
          "2010-09-01",
          "2010-10-01",
          "2010-11-01",
          "2010-12-01",
          "2011-01-01",
          "2011-02-01",
          "2011-03-01",
          "2011-04-01",
          "2011-05-01",
          "2011-06-01",
          "2011-07-01",
          "2011-08-01",
          "2011-09-01",
          "2011-10-01",
          "2011-11-01",
          "2011-12-01",
          "2012-01-01",
          "2012-02-01",
          "2012-03-01",
          "2012-04-01",
          "2012-05-01",
          "2012-06-01",
          "2012-07-01",
          "2012-08-01",
          "2012-09-01",
          "2012-10-01",
          "2012-11-01",
          "2012-12-01",
          "2013-01-01",
          "2013-02-01",
          "2013-03-01",
          "2013-04-01",
          "2013-05-01",
          "2013-06-01",
          "2013-07-01",
          "2013-08-01",
          "2013-09-01",
          "2013-10-01",
          "2013-11-01",
          "2013-12-01",
          "2014-01-01",
          "2014-02-01",
          "2014-03-01",
          "2014-04-01",
          "2014-05-01",
          "2014-06-01",
          "2014-07-01",
          "2014-08-01",
          "2014-09-01",
          "2014-10-01",
          "2014-11-01",
          "2014-12-01",
          "2015-01-01",
          "2015-02-01",
          "2015-03-01",
          "2015-04-01",
          "2015-05-01",
          "2015-06-01",
          "2015-07-01",
          "2015-08-01",
          "2015-09-01",
          "2015-10-01",
          "2015-11-01",
          "2015-12-01",
          "2016-01-01",
          "2016-02-01",
          "2016-03-01",
          "2016-04-01",
          "2016-05-01",
          "2016-06-01",
          "2016-07-01",
          "2016-08-01",
          "2016-09-01",
          "2016-10-01",
          "2016-11-01",
          "2016-12-01",
          "2017-01-01",
          "2017-02-01",
          "2017-03-01",
          "2017-04-01",
          "2017-05-01",
          "2017-06-01",
          "2017-07-01",
          "2017-08-01",
          "2017-09-01",
          "2017-10-01",
          "2017-11-01",
          "2017-12-01",
          "2018-01-01",
          "2018-02-01",
          "2018-03-01",
          "2018-04-01",
          "2018-05-01",
          "2018-06-01",
          "2018-07-01",
          "2018-08-01",
          "2018-09-01",
          "2018-10-01",
          "2018-11-01",
          "2018-12-01",
          "2019-01-01",
          "2019-02-01",
          "2019-03-01",
          "2019-04-01",
          "2019-05-01",
          "2019-06-01",
          "2019-07-01",
          "2019-08-01",
          "2019-09-01",
          "2019-10-01",
          "2019-11-01",
          "2019-12-01",
          "2020-01-01",
          "2020-02-01",
          "2020-03-01",
          "2020-04-01",
          "2020-05-01",
          "2020-06-01",
          "2020-07-01",
          "2020-08-01",
          "2020-09-01",
          "2020-10-01",
          "2020-11-01",
          "2020-12-01",
          "2021-01-01",
          "2021-02-01",
          "2021-03-01",
          "2021-04-01",
          "2021-05-01",
          "2021-06-01",
          "2021-07-01",
          "2021-08-01",
          "2021-09-01",
          "2021-10-01",
          "2021-11-01",
          "2021-12-01",
          "2022-01-01",
          "2022-02-01",
          "2022-03-01",
          "2022-04-01",
          "2022-05-01",
          "2022-06-01",
          "2022-07-01",
          "2022-08-01",
          "2022-09-01",
          "2022-10-01",
          "2022-11-01",
          "2022-12-01",
          "2023-01-01",
          "2023-02-01",
          "2023-03-01",
          "2023-04-01",
          "2023-05-01",
          "2023-06-01",
          "2023-07-01",
          "2023-08-01",
          "2023-09-01",
          "2023-10-01",
          "2023-11-01",
          "2023-12-01",
          "2024-01-01",
          "2024-02-01",
          "2024-03-01",
          "2024-04-01",
          "2024-05-01",
          "2024-06-01",
          "2024-07-01",
          "2024-08-01"
         ],
         "y": [
          null,
          1.0255474894131882,
          1.0338354506957046,
          0.9928735632183908,
          5.930568663036903,
          1.02524500907441,
          0.9939624924379915,
          0.9817483363581366,
          1.0329461584996975,
          0.9952389594676346,
          1.027350272232305,
          0.9906291591046583,
          0.9893103448275862,
          0.9717422867513611,
          1.0094071385359953,
          1.0391651542649727,
          0.9689776164549303,
          0.9847489413188143,
          1.0655414398064127,
          1.0118451300665456,
          0.9984392014519057,
          0.9735087719298245,
          0.9690865093768906,
          0.9132849364791288,
          1.0499274047186933,
          1.050798548094374,
          1.0158620689655173,
          0.9939322444041138,
          1.0093103448275862,
          1.050725952813067,
          1.007102238354507,
          1.0027646702964308,
          0.9519721718088325,
          0.9418874773139746,
          0.9874833635813671,
          0.9568905021173624,
          1.0078644888082275,
          1.0582516636418633,
          0.9664125831820932,
          0.9890199637023595,
          1.0055716878402905,
          0.9959830611010285,
          1.0599516031457954,
          1.0670054446460981,
          1.034162129461585,
          1.508451300665457,
          1.0614277071990321,
          1.0038233514821537,
          1.0498003629764066,
          1.0042286751361162,
          1.015849969751966,
          1.0305263157894737,
          1.0141560798548095,
          1.0468421052631578,
          1.0040834845735027,
          0.992474289171204,
          1.0346218995765275,
          0.9633877797943133,
          0.9934119782214157,
          1.0055535390199637,
          1.0005565638233516,
          1.0293163944343617,
          1.053762855414398,
          1.00643073200242,
          1.0203811252268602,
          0.9955595886267392,
          0.9733030852994556,
          1.033145795523291,
          1.0216817906836055,
          1.0358136721113127,
          0.9993042952208105,
          1.1286509376890503,
          1.0726013309134907,
          3.2130248033877797,
          1.0215607985480943,
          1.0408166969147006,
          1.0128917120387175,
          1.027501512401694,
          1.0092075015124016,
          0.9686267392619479,
          0.9991833030852995,
          0.9856866303690262,
          1.0248820326678767,
          1.0297519661222019,
          1.0213853599516032,
          1.0188808227465216,
          1.027979431336963,
          1.0368723532970356,
          1.0044404113732608,
          1.0015849969751967,
          1.0188082274652148,
          1.0226194797338173,
          0.9885843920145191,
          0.9759286146400484,
          0.9907501512401694,
          1.002474289171204,
          1.0255172413793103,
          0.9479370840895343,
          0.9907743496672716,
          0.9420447670901392,
          0.9907199032062917,
          0.9868784029038112,
          1.0311494252873565,
          1.02318814277072,
          0.9375620084694495,
          0.9950090744101633,
          1.0215789473684211,
          0.9273018753781004,
          0.8458197217180883,
          0.9447489413188144,
          1.0413006654567454,
          0.9497701149425287,
          0.9416515426497277,
          1.0697580157289777,
          1.1476164549304295,
          1.0432909860859043,
          1.0350211736237145,
          1.0623895946763462,
          1.0552026618269812,
          1.0322746521476103,
          0.9779915305505141,
          1.0015910465819722,
          1.0513793103448277,
          0.9896067755595885,
          1.0185541439806414,
          1.0590381125226862,
          1.0449969751966124,
          0.9456261343012704,
          0.9619419237749547,
          1.0388626739261946,
          0.9645856019358742,
          1.0696067755595886,
          1.0163883847549908,
          1.0275862068965518,
          1.0584029038112523,
          1.0119782214156081,
          1.0324803387779795,
          1.0016031457955235,
          1.0198850574712643,
          0.9949969751966122,
          0.9972353297035693,
          0.9830429522081064,
          0.9474712643678161,
          0.9529824561403508,
          1.0689231699939505,
          0.9843375680580763,
          1.0002540834845735,
          1.0593768905021175,
          1.0995402298850574,
          1.026303690260133,
          0.9927465214761042,
          0.9427586206896552,
          1.0300241984271024,
          0.9957652752571083,
          1.0196672716273443,
          1.0171506352087114,
          1.0012038717483362,
          1.0166848154869934,
          1.0311736237144584,
          1.0607924984875983,
          1.0218390804597701,
          1.0406836055656383,
          1.0333696309739866,
          1.01821536600121,
          0.990508166969147,
          1.0369933454325468,
          0.98346037507562,
          1.0512159709618873,
          1.0213430127041743,
          1.0239806412583181,
          1.022280701754386,
          0.9877434966727164,
          1.0288626739261948,
          1.0008287961282516,
          0.9851845130066547,
          1.0161161524500906,
          1.0306473079249847,
          0.9871445856019359,
          1.026745311554749,
          0.989491833030853,
          1.0253115547489413,
          1.04167574107683,
          1.0141681790683605,
          1.0019419237749547,
          1.0444585601935874,
          1.0097459165154263,
          1.000411373260738,
          1.0252087114337567,
          0.9903266787658802,
          1.012788868723533,
          0.9586448880822745,
          0.9679854809437386,
          1.0623411978221418,
          1.0190018148820326,
          0.9822928009679371,
          0.9491107078039926,
          0.9993587416817907,
          1.0566122202056867,
          1.0004355716878404,
          1.0214095583787053,
          0.9709074410163339,
          1.0535813672111312,
          1.0110102843315183,
          1.0043375680580762,
          0.9848154869933453,
          1.0514337568058076,
          1.0315486993345433,
          1.0146581972171809,
          1.0218451300665456,
          1.009751966122202,
          1.0155958862673926,
          1.0126678765880217,
          1.0131215970961889,
          1.0135692679975803,
          1.0033877797943134,
          1.0308892921960073,
          1.0195220810647307,
          1.0232244404113733,
          1.0114458560193589,
          1.023817301875378,
          0.974422262552934,
          0.996636418632789,
          1.0194797338173018,
          1.0263641863278887,
          1.0086327888687234,
          1.0175922565033273,
          1.0217725347852389,
          0.9907501512401694,
          0.9365880217785845,
          1.0115124016938897,
          0.9133272837265578,
          1.0914398064125832,
          1.0367513611615244,
          1.004137931034483,
          1.043049001814882,
          0.940822746521476,
          1.0453539019963702,
          1.0221234119782214,
          0.9704476709013913,
          1.0369449485783424,
          1.0294797338173018,
          1.0347307924984874,
          1.0268058076225044,
          0.9897519661222022,
          0.9099153055051422,
          0.8183847549909256,
          1.1260314579552329,
          1.072552934059286,
          1.0304174228675136,
          1.0225710828796128,
          1.0605565638233514,
          0.9945130066545675,
          0.9923290986085905,
          1.1583847549909256,
          1.0579612825166365,
          1.0404839685420448,
          1.053793103448276,
          1.0589292196007258,
          1.037652752571083,
          1.0213430127041743,
          1.0207562008469449,
          1.0036418632788868,
          1.025287356321839,
          0.9864851784633998,
          1.0300241984271024,
          0.969933454325469,
          1.0402117362371448,
          0.9256805807622505,
          0.9876830006049606,
          1.003230490018149,
          0.9446763460375075,
          1.0007199032062917,
          0.9249425287356322,
          1.0904295220810647,
          0.9692982456140351,
          0.901373260738052,
          1.0810284331518452,
          1.0552994555353903,
          0.9577374470659408,
          1.0973321234119784,
          0.9889957652752571,
          0.979933454325469,
          1.001318814277072,
          0.9908832425892315,
          1.0624803387779795,
          1.0433393829401088,
          0.9686206896551725,
          0.95978221415608,
          0.9421113127646703,
          1.0877132486388386,
          1.079328493647913,
          0.9853962492437992,
          1.0741379310344827,
          1.0276285541439807,
          0.9559709618874773,
          1.0341621294615853,
          0.9932425892317,
          1.0552510586811856,
          0.9971990320629158,
          0.9666787658802178
         ],
         "type": "scatter"
        },
        {
         "line": {
          "color": "red",
          "width": 2
         },
         "mode": "lines",
         "name": "Train returns",
         "x": [
          "2000-10-01",
          "2000-11-01",
          "2000-12-01",
          "2001-01-01",
          "2001-02-01",
          "2001-03-01",
          "2001-04-01",
          "2001-05-01",
          "2001-06-01",
          "2001-07-01",
          "2001-08-01",
          "2001-09-01",
          "2001-10-01",
          "2001-11-01",
          "2001-12-01",
          "2002-01-01",
          "2002-02-01",
          "2002-03-01",
          "2002-04-01",
          "2002-05-01",
          "2002-06-01",
          "2002-07-01",
          "2002-08-01",
          "2002-09-01",
          "2002-10-01",
          "2002-11-01",
          "2002-12-01",
          "2003-01-01",
          "2003-02-01",
          "2003-03-01",
          "2003-04-01",
          "2003-05-01",
          "2003-06-01",
          "2003-07-01",
          "2003-08-01",
          "2003-09-01",
          "2003-10-01",
          "2003-11-01",
          "2003-12-01",
          "2004-01-01",
          "2004-02-01",
          "2004-03-01",
          "2004-04-01",
          "2004-05-01",
          "2004-06-01",
          "2004-07-01",
          "2004-08-01",
          "2004-09-01",
          "2004-10-01",
          "2004-11-01",
          "2004-12-01",
          "2005-01-01",
          "2005-02-01",
          "2005-03-01",
          "2005-04-01",
          "2005-05-01",
          "2005-06-01",
          "2005-07-01",
          "2005-08-01",
          "2005-09-01",
          "2005-10-01",
          "2005-11-01",
          "2005-12-01",
          "2006-01-01",
          "2006-02-01",
          "2006-03-01",
          "2006-04-01",
          "2006-05-01",
          "2006-06-01",
          "2006-07-01",
          "2006-08-01",
          "2006-09-01",
          "2006-10-01",
          "2006-11-01",
          "2006-12-01",
          "2007-01-01",
          "2007-02-01",
          "2007-03-01",
          "2007-04-01",
          "2007-05-01",
          "2007-06-01",
          "2007-07-01",
          "2007-08-01",
          "2007-09-01",
          "2007-10-01",
          "2007-11-01",
          "2007-12-01",
          "2008-01-01",
          "2008-02-01",
          "2008-03-01",
          "2008-04-01",
          "2008-05-01",
          "2008-06-01",
          "2008-07-01",
          "2008-08-01",
          "2008-09-01",
          "2008-10-01",
          "2008-11-01",
          "2008-12-01",
          "2009-01-01",
          "2009-02-01",
          "2009-03-01",
          "2009-04-01",
          "2009-05-01",
          "2009-06-01",
          "2009-07-01",
          "2009-08-01",
          "2009-09-01",
          "2009-10-01",
          "2009-11-01",
          "2009-12-01",
          "2010-01-01",
          "2010-02-01",
          "2010-03-01",
          "2010-04-01",
          "2010-05-01",
          "2010-06-01",
          "2010-07-01",
          "2010-08-01",
          "2010-09-01",
          "2010-10-01",
          "2010-11-01",
          "2010-12-01",
          "2011-01-01",
          "2011-02-01",
          "2011-03-01",
          "2011-04-01",
          "2011-05-01",
          "2011-06-01",
          "2011-07-01",
          "2011-08-01",
          "2011-09-01",
          "2011-10-01",
          "2011-11-01",
          "2011-12-01",
          "2012-01-01",
          "2012-02-01",
          "2012-03-01",
          "2012-04-01",
          "2012-05-01",
          "2012-06-01",
          "2012-07-01",
          "2012-08-01",
          "2012-09-01",
          "2012-10-01",
          "2012-11-01",
          "2012-12-01",
          "2013-01-01",
          "2013-02-01",
          "2013-03-01",
          "2013-04-01",
          "2013-05-01",
          "2013-06-01",
          "2013-07-01",
          "2013-08-01",
          "2013-09-01",
          "2013-10-01",
          "2013-11-01",
          "2013-12-01",
          "2014-01-01",
          "2014-02-01",
          "2014-03-01",
          "2014-04-01",
          "2014-05-01",
          "2014-06-01",
          "2014-07-01",
          "2014-08-01",
          "2014-09-01",
          "2014-10-01",
          "2014-11-01",
          "2014-12-01",
          "2015-01-01",
          "2015-02-01",
          "2015-03-01",
          "2015-04-01",
          "2015-05-01",
          "2015-06-01",
          "2015-07-01",
          "2015-08-01",
          "2015-09-01",
          "2015-10-01",
          "2015-11-01",
          "2015-12-01",
          "2016-01-01",
          "2016-02-01",
          "2016-03-01",
          "2016-04-01",
          "2016-05-01",
          "2016-06-01",
          "2016-07-01",
          "2016-08-01",
          "2016-09-01",
          "2016-10-01",
          "2016-11-01",
          "2016-12-01",
          "2017-01-01",
          "2017-02-01",
          "2017-03-01",
          "2017-04-01",
          "2017-05-01",
          "2017-06-01",
          "2017-07-01",
          "2017-08-01",
          "2017-09-01",
          "2017-10-01",
          "2017-11-01",
          "2017-12-01",
          "2018-01-01",
          "2018-02-01",
          "2018-03-01",
          "2018-04-01",
          "2018-05-01",
          "2018-06-01",
          "2018-07-01",
          "2018-08-01",
          "2018-09-01",
          "2018-10-01",
          "2018-11-01",
          "2018-12-01",
          "2019-01-01",
          "2019-02-01",
          "2019-03-01",
          "2019-04-01",
          "2019-05-01",
          "2019-06-01",
          "2019-07-01",
          "2019-08-01",
          "2019-09-01",
          "2019-10-01",
          "2019-11-01",
          "2019-12-01",
          "2020-01-01",
          "2020-02-01",
          "2020-03-01",
          "2020-04-01",
          "2020-05-01",
          "2020-06-01",
          "2020-07-01",
          "2020-08-01",
          "2020-09-01",
          "2020-10-01",
          "2020-11-01",
          "2020-12-01",
          "2021-01-01",
          "2021-02-01",
          "2021-03-01",
          "2021-04-01",
          "2021-05-01",
          "2021-06-01",
          "2021-07-01",
          "2021-08-01",
          "2021-09-01",
          "2021-10-01",
          "2021-11-01",
          "2021-12-01",
          "2022-01-01",
          "2022-02-01",
          "2022-03-01",
          "2022-04-01",
          "2022-05-01",
          "2022-06-01",
          "2022-07-01",
          "2022-08-01",
          "2022-09-01",
          "2022-10-01",
          "2022-11-01",
          "2022-12-01",
          "2023-01-01",
          "2023-02-01",
          "2023-03-01",
          "2023-04-01",
          "2023-05-01",
          "2023-06-01",
          "2023-07-01",
          "2023-08-01",
          "2023-09-01",
          "2023-10-01",
          "2023-11-01",
          "2023-12-01",
          "2024-01-01",
          "2024-02-01"
         ],
         "y": [
          1.0140886306762695,
          1.0219535827636719,
          1.0184463262557983,
          1.0184355974197388,
          1.025658369064331,
          1.0261954069137573,
          1.0215400457382202,
          1.0180189609527588,
          1.0185850858688354,
          1.0179212093353271,
          1.0211405754089355,
          1.0166125297546387,
          1.0192232131958008,
          1.0201915502548218,
          1.0184963941574097,
          1.018612265586853,
          1.0216385126113892,
          1.0185641050338745,
          1.0176901817321777,
          1.0199424028396606,
          1.018149733543396,
          1.0197622776031494,
          1.0197004079818726,
          1.0159211158752441,
          1.0246292352676392,
          1.0158659219741821,
          1.0240516662597656,
          1.0222989320755005,
          1.016548752784729,
          1.0177398920059204,
          1.019507646560669,
          1.0207915306091309,
          1.0200990438461304,
          1.021406650543213,
          1.0169789791107178,
          1.0213395357131958,
          1.0189272165298462,
          1.0230772495269775,
          1.0229854583740234,
          1.0229246616363525,
          1.0235720872879028,
          1.0200916528701782,
          1.0179811716079712,
          1.024880051612854,
          1.0230770111083984,
          1.0178635120391846,
          1.0258129835128784,
          1.016934871673584,
          1.0189502239227295,
          1.0198760032653809,
          1.0214011669158936,
          1.0199288129806519,
          1.0178496837615967,
          1.0217797756195068,
          1.021390676498413,
          1.0196723937988281,
          1.017503261566162,
          1.0158556699752808,
          1.0226455926895142,
          1.0191584825515747,
          1.0169981718063354,
          3.6403603553771973,
          1.0194302797317505,
          1.0192817449569702,
          1.0188976526260376,
          1.0191195011138916,
          1.027109980583191,
          1.0262354612350464,
          1.0206433534622192,
          1.0208156108856201,
          1.022100806236267,
          1.0188933610916138,
          1.0192838907241821,
          1.0223772525787354,
          1.0221376419067383,
          1.0400339365005493,
          1.0226067304611206,
          1.0171419382095337,
          1.0176455974578857,
          1.0181204080581665,
          1.019357681274414,
          1.022304654121399,
          1.0184109210968018,
          1.0194376707077026,
          1.018847942352295,
          1.0183475017547607,
          1.0269443988800049,
          1.0188802480697632,
          1.0268691778182983,
          1.0192646980285645,
          1.0216479301452637,
          1.0219378471374512,
          1.0207126140594482,
          1.016493558883667,
          1.0203663110733032,
          1.018204689025879,
          1.0145918130874634,
          1.0157639980316162,
          1.016880750656128,
          1.023686170578003,
          1.0195053815841675,
          1.0212676525115967,
          1.020869255065918,
          1.0228936672210693,
          1.018123984336853,
          1.0190507173538208,
          1.021176815032959,
          1.0173614025115967,
          1.021254301071167,
          1.0167720317840576,
          1.0187773704528809,
          1.0237318277359009,
          1.0162606239318848,
          1.0172864198684692,
          1.0273802280426025,
          1.019171953201294,
          1.0167193412780762,
          1.0170496702194214,
          1.0301765203475952,
          1.0197217464447021,
          1.019579291343689,
          1.019910216331482,
          1.0233306884765625,
          1.024196982383728,
          1.015960693359375,
          1.0228708982467651,
          1.0201724767684937,
          1.0140882730484009,
          1.0209983587265015,
          1.0158323049545288,
          1.020470142364502,
          1.0183193683624268,
          1.0193952322006226,
          1.0214778184890747,
          1.0180288553237915,
          1.0248892307281494,
          1.0160167217254639,
          1.0216313600540161,
          1.024746060371399,
          1.0209275484085083,
          1.0181914567947388,
          1.0213112831115723,
          1.0278252363204956,
          1.016710877418518,
          1.1095296144485474,
          1.017124056816101,
          1.025549292564392,
          1.0198841094970703,
          1.025088906288147,
          1.0180476903915405,
          1.016204833984375,
          1.0213552713394165,
          1.0225447416305542,
          1.028548002243042,
          1.0395640134811401,
          1.0148934125900269,
          1.0171104669570923,
          1.0020229816436768,
          0.9764172434806824,
          1.0213193893432617,
          1.0206156969070435,
          1.0170668363571167,
          1.0201841592788696,
          1.0248759984970093,
          1.016198992729187,
          1.0228158235549927,
          1.0189660787582397,
          1.020828127861023,
          1.0191271305084229,
          1.0218805074691772,
          1.015467882156372,
          1.027058720588684,
          1.0203731060028076,
          1.0178866386413574,
          1.015376329421997,
          1.017479419708252,
          1.0213525295257568,
          1.0279960632324219,
          1.0203222036361694,
          1.022265911102295,
          1.0239225625991821,
          1.018197774887085,
          1.0219146013259888,
          1.0265997648239136,
          1.0154422521591187,
          1.0207935571670532,
          1.0156699419021606,
          1.017367959022522,
          1.0218071937561035,
          1.0256907939910889,
          1.0200551748275757,
          1.025006890296936,
          1.020888090133667,
          1.0215048789978027,
          1.016397476196289,
          1.017879605293274,
          1.0212363004684448,
          1.0187782049179077,
          1.0195456743240356,
          1.1295750141143799,
          1.0183240175247192,
          1.0180416107177734,
          3.1166110038757324,
          1.0197792053222656,
          1.0193438529968262,
          1.0206974744796753,
          1.0188703536987305,
          1.0256212949752808,
          1.0263727903366089,
          1.0168415307998657,
          1.0184797048568726,
          1.0195038318634033,
          1.01882803440094,
          1.017319917678833,
          1.0173492431640625,
          1.0226739645004272,
          1.0222549438476562,
          1.0267513990402222,
          1.0207903385162354,
          1.018631935119629,
          1.0235835313796997,
          1.019187092781067,
          1.0185842514038086,
          1.0211999416351318,
          1.0174317359924316,
          1.0220448970794678,
          1.0169034004211426,
          1.0217804908752441,
          1.0142227411270142,
          1.0183014869689941,
          1.0161428451538086,
          1.0165135860443115,
          1.0207258462905884,
          1.0183625221252441,
          1.0191595554351807,
          1.018297791481018,
          1.0239980220794678,
          1.0169219970703125,
          1.0153276920318604,
          1.0165959596633911,
          1.0187883377075195,
          1.0162009000778198,
          1.0205137729644775,
          1.0161728858947754,
          1.0290374755859375,
          1.0159000158309937,
          1.0295884609222412,
          1.0254355669021606,
          1.02156400680542,
          1.0183298587799072,
          1.0163030624389648,
          1.0195153951644897,
          1.018961787223816,
          1.0305529832839966,
          1.0189529657363892,
          1.0232559442520142,
          1.0178474187850952,
          1.0162585973739624,
          1.0179522037506104,
          1.018255352973938,
          1.029557228088379,
          1.046326756477356,
          1.0189279317855835,
          1.016107201576233,
          1.0187227725982666,
          1.018247365951538,
          1.0170912742614746,
          1.0162066221237183,
          1.0184412002563477,
          1.0189119577407837,
          1.0169463157653809,
          1.0312708616256714,
          1.0175005197525024,
          1.0198185443878174,
          1.0253591537475586,
          1.0277597904205322,
          1.0233412981033325,
          1.0267398357391357,
          1.025079607963562,
          1.016402006149292,
          1.021708607673645
         ],
         "type": "scatter"
        },
        {
         "line": {
          "color": "green",
          "width": 2
         },
         "mode": "lines",
         "name": "Test returns",
         "x": [
          "2024-02-01",
          "2024-03-01",
          "2024-04-01",
          "2024-05-01",
          "2024-06-01",
          "2024-07-01",
          "2024-08-01"
         ],
         "y": [
          1.021708607673645,
          1.4263769388198853,
          1.4316104650497437,
          1.4880744218826294,
          1.4680399894714355,
          1.48713219165802,
          1.4667720794677734
         ],
         "type": "scatter"
        }
       ],
       "layout": {
        "template": {
         "data": {
          "barpolar": [
           {
            "marker": {
             "line": {
              "color": "white",
              "width": 0.5
             },
             "pattern": {
              "fillmode": "overlay",
              "size": 10,
              "solidity": 0.2
             }
            },
            "type": "barpolar"
           }
          ],
          "bar": [
           {
            "error_x": {
             "color": "#2a3f5f"
            },
            "error_y": {
             "color": "#2a3f5f"
            },
            "marker": {
             "line": {
              "color": "white",
              "width": 0.5
             },
             "pattern": {
              "fillmode": "overlay",
              "size": 10,
              "solidity": 0.2
             }
            },
            "type": "bar"
           }
          ],
          "carpet": [
           {
            "aaxis": {
             "endlinecolor": "#2a3f5f",
             "gridcolor": "#C8D4E3",
             "linecolor": "#C8D4E3",
             "minorgridcolor": "#C8D4E3",
             "startlinecolor": "#2a3f5f"
            },
            "baxis": {
             "endlinecolor": "#2a3f5f",
             "gridcolor": "#C8D4E3",
             "linecolor": "#C8D4E3",
             "minorgridcolor": "#C8D4E3",
             "startlinecolor": "#2a3f5f"
            },
            "type": "carpet"
           }
          ],
          "choropleth": [
           {
            "colorbar": {
             "outlinewidth": 0,
             "ticks": ""
            },
            "type": "choropleth"
           }
          ],
          "contourcarpet": [
           {
            "colorbar": {
             "outlinewidth": 0,
             "ticks": ""
            },
            "type": "contourcarpet"
           }
          ],
          "contour": [
           {
            "colorbar": {
             "outlinewidth": 0,
             "ticks": ""
            },
            "colorscale": [
             [
              0.0,
              "#0d0887"
             ],
             [
              0.1111111111111111,
              "#46039f"
             ],
             [
              0.2222222222222222,
              "#7201a8"
             ],
             [
              0.3333333333333333,
              "#9c179e"
             ],
             [
              0.4444444444444444,
              "#bd3786"
             ],
             [
              0.5555555555555556,
              "#d8576b"
             ],
             [
              0.6666666666666666,
              "#ed7953"
             ],
             [
              0.7777777777777778,
              "#fb9f3a"
             ],
             [
              0.8888888888888888,
              "#fdca26"
             ],
             [
              1.0,
              "#f0f921"
             ]
            ],
            "type": "contour"
           }
          ],
          "heatmapgl": [
           {
            "colorbar": {
             "outlinewidth": 0,
             "ticks": ""
            },
            "colorscale": [
             [
              0.0,
              "#0d0887"
             ],
             [
              0.1111111111111111,
              "#46039f"
             ],
             [
              0.2222222222222222,
              "#7201a8"
             ],
             [
              0.3333333333333333,
              "#9c179e"
             ],
             [
              0.4444444444444444,
              "#bd3786"
             ],
             [
              0.5555555555555556,
              "#d8576b"
             ],
             [
              0.6666666666666666,
              "#ed7953"
             ],
             [
              0.7777777777777778,
              "#fb9f3a"
             ],
             [
              0.8888888888888888,
              "#fdca26"
             ],
             [
              1.0,
              "#f0f921"
             ]
            ],
            "type": "heatmapgl"
           }
          ],
          "heatmap": [
           {
            "colorbar": {
             "outlinewidth": 0,
             "ticks": ""
            },
            "colorscale": [
             [
              0.0,
              "#0d0887"
             ],
             [
              0.1111111111111111,
              "#46039f"
             ],
             [
              0.2222222222222222,
              "#7201a8"
             ],
             [
              0.3333333333333333,
              "#9c179e"
             ],
             [
              0.4444444444444444,
              "#bd3786"
             ],
             [
              0.5555555555555556,
              "#d8576b"
             ],
             [
              0.6666666666666666,
              "#ed7953"
             ],
             [
              0.7777777777777778,
              "#fb9f3a"
             ],
             [
              0.8888888888888888,
              "#fdca26"
             ],
             [
              1.0,
              "#f0f921"
             ]
            ],
            "type": "heatmap"
           }
          ],
          "histogram2dcontour": [
           {
            "colorbar": {
             "outlinewidth": 0,
             "ticks": ""
            },
            "colorscale": [
             [
              0.0,
              "#0d0887"
             ],
             [
              0.1111111111111111,
              "#46039f"
             ],
             [
              0.2222222222222222,
              "#7201a8"
             ],
             [
              0.3333333333333333,
              "#9c179e"
             ],
             [
              0.4444444444444444,
              "#bd3786"
             ],
             [
              0.5555555555555556,
              "#d8576b"
             ],
             [
              0.6666666666666666,
              "#ed7953"
             ],
             [
              0.7777777777777778,
              "#fb9f3a"
             ],
             [
              0.8888888888888888,
              "#fdca26"
             ],
             [
              1.0,
              "#f0f921"
             ]
            ],
            "type": "histogram2dcontour"
           }
          ],
          "histogram2d": [
           {
            "colorbar": {
             "outlinewidth": 0,
             "ticks": ""
            },
            "colorscale": [
             [
              0.0,
              "#0d0887"
             ],
             [
              0.1111111111111111,
              "#46039f"
             ],
             [
              0.2222222222222222,
              "#7201a8"
             ],
             [
              0.3333333333333333,
              "#9c179e"
             ],
             [
              0.4444444444444444,
              "#bd3786"
             ],
             [
              0.5555555555555556,
              "#d8576b"
             ],
             [
              0.6666666666666666,
              "#ed7953"
             ],
             [
              0.7777777777777778,
              "#fb9f3a"
             ],
             [
              0.8888888888888888,
              "#fdca26"
             ],
             [
              1.0,
              "#f0f921"
             ]
            ],
            "type": "histogram2d"
           }
          ],
          "histogram": [
           {
            "marker": {
             "pattern": {
              "fillmode": "overlay",
              "size": 10,
              "solidity": 0.2
             }
            },
            "type": "histogram"
           }
          ],
          "mesh3d": [
           {
            "colorbar": {
             "outlinewidth": 0,
             "ticks": ""
            },
            "type": "mesh3d"
           }
          ],
          "parcoords": [
           {
            "line": {
             "colorbar": {
              "outlinewidth": 0,
              "ticks": ""
             }
            },
            "type": "parcoords"
           }
          ],
          "pie": [
           {
            "automargin": true,
            "type": "pie"
           }
          ],
          "scatter3d": [
           {
            "line": {
             "colorbar": {
              "outlinewidth": 0,
              "ticks": ""
             }
            },
            "marker": {
             "colorbar": {
              "outlinewidth": 0,
              "ticks": ""
             }
            },
            "type": "scatter3d"
           }
          ],
          "scattercarpet": [
           {
            "marker": {
             "colorbar": {
              "outlinewidth": 0,
              "ticks": ""
             }
            },
            "type": "scattercarpet"
           }
          ],
          "scattergeo": [
           {
            "marker": {
             "colorbar": {
              "outlinewidth": 0,
              "ticks": ""
             }
            },
            "type": "scattergeo"
           }
          ],
          "scattergl": [
           {
            "marker": {
             "colorbar": {
              "outlinewidth": 0,
              "ticks": ""
             }
            },
            "type": "scattergl"
           }
          ],
          "scattermapbox": [
           {
            "marker": {
             "colorbar": {
              "outlinewidth": 0,
              "ticks": ""
             }
            },
            "type": "scattermapbox"
           }
          ],
          "scatterpolargl": [
           {
            "marker": {
             "colorbar": {
              "outlinewidth": 0,
              "ticks": ""
             }
            },
            "type": "scatterpolargl"
           }
          ],
          "scatterpolar": [
           {
            "marker": {
             "colorbar": {
              "outlinewidth": 0,
              "ticks": ""
             }
            },
            "type": "scatterpolar"
           }
          ],
          "scatter": [
           {
            "fillpattern": {
             "fillmode": "overlay",
             "size": 10,
             "solidity": 0.2
            },
            "type": "scatter"
           }
          ],
          "scatterternary": [
           {
            "marker": {
             "colorbar": {
              "outlinewidth": 0,
              "ticks": ""
             }
            },
            "type": "scatterternary"
           }
          ],
          "surface": [
           {
            "colorbar": {
             "outlinewidth": 0,
             "ticks": ""
            },
            "colorscale": [
             [
              0.0,
              "#0d0887"
             ],
             [
              0.1111111111111111,
              "#46039f"
             ],
             [
              0.2222222222222222,
              "#7201a8"
             ],
             [
              0.3333333333333333,
              "#9c179e"
             ],
             [
              0.4444444444444444,
              "#bd3786"
             ],
             [
              0.5555555555555556,
              "#d8576b"
             ],
             [
              0.6666666666666666,
              "#ed7953"
             ],
             [
              0.7777777777777778,
              "#fb9f3a"
             ],
             [
              0.8888888888888888,
              "#fdca26"
             ],
             [
              1.0,
              "#f0f921"
             ]
            ],
            "type": "surface"
           }
          ],
          "table": [
           {
            "cells": {
             "fill": {
              "color": "#EBF0F8"
             },
             "line": {
              "color": "white"
             }
            },
            "header": {
             "fill": {
              "color": "#C8D4E3"
             },
             "line": {
              "color": "white"
             }
            },
            "type": "table"
           }
          ]
         },
         "layout": {
          "annotationdefaults": {
           "arrowcolor": "#2a3f5f",
           "arrowhead": 0,
           "arrowwidth": 1
          },
          "autotypenumbers": "strict",
          "coloraxis": {
           "colorbar": {
            "outlinewidth": 0,
            "ticks": ""
           }
          },
          "colorscale": {
           "diverging": [
            [
             0,
             "#8e0152"
            ],
            [
             0.1,
             "#c51b7d"
            ],
            [
             0.2,
             "#de77ae"
            ],
            [
             0.3,
             "#f1b6da"
            ],
            [
             0.4,
             "#fde0ef"
            ],
            [
             0.5,
             "#f7f7f7"
            ],
            [
             0.6,
             "#e6f5d0"
            ],
            [
             0.7,
             "#b8e186"
            ],
            [
             0.8,
             "#7fbc41"
            ],
            [
             0.9,
             "#4d9221"
            ],
            [
             1,
             "#276419"
            ]
           ],
           "sequential": [
            [
             0.0,
             "#0d0887"
            ],
            [
             0.1111111111111111,
             "#46039f"
            ],
            [
             0.2222222222222222,
             "#7201a8"
            ],
            [
             0.3333333333333333,
             "#9c179e"
            ],
            [
             0.4444444444444444,
             "#bd3786"
            ],
            [
             0.5555555555555556,
             "#d8576b"
            ],
            [
             0.6666666666666666,
             "#ed7953"
            ],
            [
             0.7777777777777778,
             "#fb9f3a"
            ],
            [
             0.8888888888888888,
             "#fdca26"
            ],
            [
             1.0,
             "#f0f921"
            ]
           ],
           "sequentialminus": [
            [
             0.0,
             "#0d0887"
            ],
            [
             0.1111111111111111,
             "#46039f"
            ],
            [
             0.2222222222222222,
             "#7201a8"
            ],
            [
             0.3333333333333333,
             "#9c179e"
            ],
            [
             0.4444444444444444,
             "#bd3786"
            ],
            [
             0.5555555555555556,
             "#d8576b"
            ],
            [
             0.6666666666666666,
             "#ed7953"
            ],
            [
             0.7777777777777778,
             "#fb9f3a"
            ],
            [
             0.8888888888888888,
             "#fdca26"
            ],
            [
             1.0,
             "#f0f921"
            ]
           ]
          },
          "colorway": [
           "#636efa",
           "#EF553B",
           "#00cc96",
           "#ab63fa",
           "#FFA15A",
           "#19d3f3",
           "#FF6692",
           "#B6E880",
           "#FF97FF",
           "#FECB52"
          ],
          "font": {
           "color": "#2a3f5f"
          },
          "geo": {
           "bgcolor": "white",
           "lakecolor": "white",
           "landcolor": "white",
           "showlakes": true,
           "showland": true,
           "subunitcolor": "#C8D4E3"
          },
          "hoverlabel": {
           "align": "left"
          },
          "hovermode": "closest",
          "mapbox": {
           "style": "light"
          },
          "paper_bgcolor": "white",
          "plot_bgcolor": "white",
          "polar": {
           "angularaxis": {
            "gridcolor": "#EBF0F8",
            "linecolor": "#EBF0F8",
            "ticks": ""
           },
           "bgcolor": "white",
           "radialaxis": {
            "gridcolor": "#EBF0F8",
            "linecolor": "#EBF0F8",
            "ticks": ""
           }
          },
          "scene": {
           "xaxis": {
            "backgroundcolor": "white",
            "gridcolor": "#DFE8F3",
            "gridwidth": 2,
            "linecolor": "#EBF0F8",
            "showbackground": true,
            "ticks": "",
            "zerolinecolor": "#EBF0F8"
           },
           "yaxis": {
            "backgroundcolor": "white",
            "gridcolor": "#DFE8F3",
            "gridwidth": 2,
            "linecolor": "#EBF0F8",
            "showbackground": true,
            "ticks": "",
            "zerolinecolor": "#EBF0F8"
           },
           "zaxis": {
            "backgroundcolor": "white",
            "gridcolor": "#DFE8F3",
            "gridwidth": 2,
            "linecolor": "#EBF0F8",
            "showbackground": true,
            "ticks": "",
            "zerolinecolor": "#EBF0F8"
           }
          },
          "shapedefaults": {
           "line": {
            "color": "#2a3f5f"
           }
          },
          "ternary": {
           "aaxis": {
            "gridcolor": "#DFE8F3",
            "linecolor": "#A2B1C6",
            "ticks": ""
           },
           "baxis": {
            "gridcolor": "#DFE8F3",
            "linecolor": "#A2B1C6",
            "ticks": ""
           },
           "bgcolor": "white",
           "caxis": {
            "gridcolor": "#DFE8F3",
            "linecolor": "#A2B1C6",
            "ticks": ""
           }
          },
          "title": {
           "x": 0.05
          },
          "xaxis": {
           "automargin": true,
           "gridcolor": "#EBF0F8",
           "linecolor": "#EBF0F8",
           "ticks": "",
           "title": {
            "standoff": 15
           },
           "zerolinecolor": "#EBF0F8",
           "zerolinewidth": 2
          },
          "yaxis": {
           "automargin": true,
           "gridcolor": "#EBF0F8",
           "linecolor": "#EBF0F8",
           "ticks": "",
           "title": {
            "standoff": 15
           },
           "zerolinecolor": "#EBF0F8",
           "zerolinewidth": 2
          }
         }
        },
        "shapes": [
         {
          "line": {
           "color": "red",
           "dash": "dash",
           "width": 1
          },
          "type": "line",
          "x0": "2024-02-01",
          "x1": "2024-02-01",
          "xref": "x",
          "y0": 0,
          "y1": 1,
          "yref": "y domain"
         }
        ],
        "yaxis": {
         "title": {
          "text": "Day closing return (%)"
         },
         "tickformat": ".0%",
         "range": [
          0.75,
          1.6
         ]
        },
        "title": {
         "text": "6 Month Prediction vs Actual Plot"
        },
        "xaxis": {
         "title": {
          "text": "Date"
         }
        },
        "legend": {
         "title": {
          "text": "Legend"
         }
        }
       },
       "config": {
        "plotlyServerURL": "https://plot.ly"
       }
      },
      "text/html": [
       "<div>                            <div id=\"a50fd940-0d96-4c9b-bb53-e7e7fbcece86\" class=\"plotly-graph-div\" style=\"height:525px; width:100%;\"></div>            <script type=\"text/javascript\">                require([\"plotly\"], function(Plotly) {                    window.PLOTLYENV=window.PLOTLYENV || {};                                    if (document.getElementById(\"a50fd940-0d96-4c9b-bb53-e7e7fbcece86\")) {                    Plotly.newPlot(                        \"a50fd940-0d96-4c9b-bb53-e7e7fbcece86\",                        [{\"line\":{\"color\":\"#5c839f\",\"width\":2},\"mode\":\"lines\",\"name\":\"Actual returns\",\"x\":[\"2000-10-01\",\"2000-11-01\",\"2000-12-01\",\"2001-01-01\",\"2001-02-01\",\"2001-03-01\",\"2001-04-01\",\"2001-05-01\",\"2001-06-01\",\"2001-07-01\",\"2001-08-01\",\"2001-09-01\",\"2001-10-01\",\"2001-11-01\",\"2001-12-01\",\"2002-01-01\",\"2002-02-01\",\"2002-03-01\",\"2002-04-01\",\"2002-05-01\",\"2002-06-01\",\"2002-07-01\",\"2002-08-01\",\"2002-09-01\",\"2002-10-01\",\"2002-11-01\",\"2002-12-01\",\"2003-01-01\",\"2003-02-01\",\"2003-03-01\",\"2003-04-01\",\"2003-05-01\",\"2003-06-01\",\"2003-07-01\",\"2003-08-01\",\"2003-09-01\",\"2003-10-01\",\"2003-11-01\",\"2003-12-01\",\"2004-01-01\",\"2004-02-01\",\"2004-03-01\",\"2004-04-01\",\"2004-05-01\",\"2004-06-01\",\"2004-07-01\",\"2004-08-01\",\"2004-09-01\",\"2004-10-01\",\"2004-11-01\",\"2004-12-01\",\"2005-01-01\",\"2005-02-01\",\"2005-03-01\",\"2005-04-01\",\"2005-05-01\",\"2005-06-01\",\"2005-07-01\",\"2005-08-01\",\"2005-09-01\",\"2005-10-01\",\"2005-11-01\",\"2005-12-01\",\"2006-01-01\",\"2006-02-01\",\"2006-03-01\",\"2006-04-01\",\"2006-05-01\",\"2006-06-01\",\"2006-07-01\",\"2006-08-01\",\"2006-09-01\",\"2006-10-01\",\"2006-11-01\",\"2006-12-01\",\"2007-01-01\",\"2007-02-01\",\"2007-03-01\",\"2007-04-01\",\"2007-05-01\",\"2007-06-01\",\"2007-07-01\",\"2007-08-01\",\"2007-09-01\",\"2007-10-01\",\"2007-11-01\",\"2007-12-01\",\"2008-01-01\",\"2008-02-01\",\"2008-03-01\",\"2008-04-01\",\"2008-05-01\",\"2008-06-01\",\"2008-07-01\",\"2008-08-01\",\"2008-09-01\",\"2008-10-01\",\"2008-11-01\",\"2008-12-01\",\"2009-01-01\",\"2009-02-01\",\"2009-03-01\",\"2009-04-01\",\"2009-05-01\",\"2009-06-01\",\"2009-07-01\",\"2009-08-01\",\"2009-09-01\",\"2009-10-01\",\"2009-11-01\",\"2009-12-01\",\"2010-01-01\",\"2010-02-01\",\"2010-03-01\",\"2010-04-01\",\"2010-05-01\",\"2010-06-01\",\"2010-07-01\",\"2010-08-01\",\"2010-09-01\",\"2010-10-01\",\"2010-11-01\",\"2010-12-01\",\"2011-01-01\",\"2011-02-01\",\"2011-03-01\",\"2011-04-01\",\"2011-05-01\",\"2011-06-01\",\"2011-07-01\",\"2011-08-01\",\"2011-09-01\",\"2011-10-01\",\"2011-11-01\",\"2011-12-01\",\"2012-01-01\",\"2012-02-01\",\"2012-03-01\",\"2012-04-01\",\"2012-05-01\",\"2012-06-01\",\"2012-07-01\",\"2012-08-01\",\"2012-09-01\",\"2012-10-01\",\"2012-11-01\",\"2012-12-01\",\"2013-01-01\",\"2013-02-01\",\"2013-03-01\",\"2013-04-01\",\"2013-05-01\",\"2013-06-01\",\"2013-07-01\",\"2013-08-01\",\"2013-09-01\",\"2013-10-01\",\"2013-11-01\",\"2013-12-01\",\"2014-01-01\",\"2014-02-01\",\"2014-03-01\",\"2014-04-01\",\"2014-05-01\",\"2014-06-01\",\"2014-07-01\",\"2014-08-01\",\"2014-09-01\",\"2014-10-01\",\"2014-11-01\",\"2014-12-01\",\"2015-01-01\",\"2015-02-01\",\"2015-03-01\",\"2015-04-01\",\"2015-05-01\",\"2015-06-01\",\"2015-07-01\",\"2015-08-01\",\"2015-09-01\",\"2015-10-01\",\"2015-11-01\",\"2015-12-01\",\"2016-01-01\",\"2016-02-01\",\"2016-03-01\",\"2016-04-01\",\"2016-05-01\",\"2016-06-01\",\"2016-07-01\",\"2016-08-01\",\"2016-09-01\",\"2016-10-01\",\"2016-11-01\",\"2016-12-01\",\"2017-01-01\",\"2017-02-01\",\"2017-03-01\",\"2017-04-01\",\"2017-05-01\",\"2017-06-01\",\"2017-07-01\",\"2017-08-01\",\"2017-09-01\",\"2017-10-01\",\"2017-11-01\",\"2017-12-01\",\"2018-01-01\",\"2018-02-01\",\"2018-03-01\",\"2018-04-01\",\"2018-05-01\",\"2018-06-01\",\"2018-07-01\",\"2018-08-01\",\"2018-09-01\",\"2018-10-01\",\"2018-11-01\",\"2018-12-01\",\"2019-01-01\",\"2019-02-01\",\"2019-03-01\",\"2019-04-01\",\"2019-05-01\",\"2019-06-01\",\"2019-07-01\",\"2019-08-01\",\"2019-09-01\",\"2019-10-01\",\"2019-11-01\",\"2019-12-01\",\"2020-01-01\",\"2020-02-01\",\"2020-03-01\",\"2020-04-01\",\"2020-05-01\",\"2020-06-01\",\"2020-07-01\",\"2020-08-01\",\"2020-09-01\",\"2020-10-01\",\"2020-11-01\",\"2020-12-01\",\"2021-01-01\",\"2021-02-01\",\"2021-03-01\",\"2021-04-01\",\"2021-05-01\",\"2021-06-01\",\"2021-07-01\",\"2021-08-01\",\"2021-09-01\",\"2021-10-01\",\"2021-11-01\",\"2021-12-01\",\"2022-01-01\",\"2022-02-01\",\"2022-03-01\",\"2022-04-01\",\"2022-05-01\",\"2022-06-01\",\"2022-07-01\",\"2022-08-01\",\"2022-09-01\",\"2022-10-01\",\"2022-11-01\",\"2022-12-01\",\"2023-01-01\",\"2023-02-01\",\"2023-03-01\",\"2023-04-01\",\"2023-05-01\",\"2023-06-01\",\"2023-07-01\",\"2023-08-01\",\"2023-09-01\",\"2023-10-01\",\"2023-11-01\",\"2023-12-01\",\"2024-01-01\",\"2024-02-01\",\"2024-03-01\",\"2024-04-01\",\"2024-05-01\",\"2024-06-01\",\"2024-07-01\",\"2024-08-01\"],\"y\":[null,1.0255474894131882,1.0338354506957046,0.9928735632183908,5.930568663036903,1.02524500907441,0.9939624924379915,0.9817483363581366,1.0329461584996975,0.9952389594676346,1.027350272232305,0.9906291591046583,0.9893103448275862,0.9717422867513611,1.0094071385359953,1.0391651542649727,0.9689776164549303,0.9847489413188143,1.0655414398064127,1.0118451300665456,0.9984392014519057,0.9735087719298245,0.9690865093768906,0.9132849364791288,1.0499274047186933,1.050798548094374,1.0158620689655173,0.9939322444041138,1.0093103448275862,1.050725952813067,1.007102238354507,1.0027646702964308,0.9519721718088325,0.9418874773139746,0.9874833635813671,0.9568905021173624,1.0078644888082275,1.0582516636418633,0.9664125831820932,0.9890199637023595,1.0055716878402905,0.9959830611010285,1.0599516031457954,1.0670054446460981,1.034162129461585,1.508451300665457,1.0614277071990321,1.0038233514821537,1.0498003629764066,1.0042286751361162,1.015849969751966,1.0305263157894737,1.0141560798548095,1.0468421052631578,1.0040834845735027,0.992474289171204,1.0346218995765275,0.9633877797943133,0.9934119782214157,1.0055535390199637,1.0005565638233516,1.0293163944343617,1.053762855414398,1.00643073200242,1.0203811252268602,0.9955595886267392,0.9733030852994556,1.033145795523291,1.0216817906836055,1.0358136721113127,0.9993042952208105,1.1286509376890503,1.0726013309134907,3.2130248033877797,1.0215607985480943,1.0408166969147006,1.0128917120387175,1.027501512401694,1.0092075015124016,0.9686267392619479,0.9991833030852995,0.9856866303690262,1.0248820326678767,1.0297519661222019,1.0213853599516032,1.0188808227465216,1.027979431336963,1.0368723532970356,1.0044404113732608,1.0015849969751967,1.0188082274652148,1.0226194797338173,0.9885843920145191,0.9759286146400484,0.9907501512401694,1.002474289171204,1.0255172413793103,0.9479370840895343,0.9907743496672716,0.9420447670901392,0.9907199032062917,0.9868784029038112,1.0311494252873565,1.02318814277072,0.9375620084694495,0.9950090744101633,1.0215789473684211,0.9273018753781004,0.8458197217180883,0.9447489413188144,1.0413006654567454,0.9497701149425287,0.9416515426497277,1.0697580157289777,1.1476164549304295,1.0432909860859043,1.0350211736237145,1.0623895946763462,1.0552026618269812,1.0322746521476103,0.9779915305505141,1.0015910465819722,1.0513793103448277,0.9896067755595885,1.0185541439806414,1.0590381125226862,1.0449969751966124,0.9456261343012704,0.9619419237749547,1.0388626739261946,0.9645856019358742,1.0696067755595886,1.0163883847549908,1.0275862068965518,1.0584029038112523,1.0119782214156081,1.0324803387779795,1.0016031457955235,1.0198850574712643,0.9949969751966122,0.9972353297035693,0.9830429522081064,0.9474712643678161,0.9529824561403508,1.0689231699939505,0.9843375680580763,1.0002540834845735,1.0593768905021175,1.0995402298850574,1.026303690260133,0.9927465214761042,0.9427586206896552,1.0300241984271024,0.9957652752571083,1.0196672716273443,1.0171506352087114,1.0012038717483362,1.0166848154869934,1.0311736237144584,1.0607924984875983,1.0218390804597701,1.0406836055656383,1.0333696309739866,1.01821536600121,0.990508166969147,1.0369933454325468,0.98346037507562,1.0512159709618873,1.0213430127041743,1.0239806412583181,1.022280701754386,0.9877434966727164,1.0288626739261948,1.0008287961282516,0.9851845130066547,1.0161161524500906,1.0306473079249847,0.9871445856019359,1.026745311554749,0.989491833030853,1.0253115547489413,1.04167574107683,1.0141681790683605,1.0019419237749547,1.0444585601935874,1.0097459165154263,1.000411373260738,1.0252087114337567,0.9903266787658802,1.012788868723533,0.9586448880822745,0.9679854809437386,1.0623411978221418,1.0190018148820326,0.9822928009679371,0.9491107078039926,0.9993587416817907,1.0566122202056867,1.0004355716878404,1.0214095583787053,0.9709074410163339,1.0535813672111312,1.0110102843315183,1.0043375680580762,0.9848154869933453,1.0514337568058076,1.0315486993345433,1.0146581972171809,1.0218451300665456,1.009751966122202,1.0155958862673926,1.0126678765880217,1.0131215970961889,1.0135692679975803,1.0033877797943134,1.0308892921960073,1.0195220810647307,1.0232244404113733,1.0114458560193589,1.023817301875378,0.974422262552934,0.996636418632789,1.0194797338173018,1.0263641863278887,1.0086327888687234,1.0175922565033273,1.0217725347852389,0.9907501512401694,0.9365880217785845,1.0115124016938897,0.9133272837265578,1.0914398064125832,1.0367513611615244,1.004137931034483,1.043049001814882,0.940822746521476,1.0453539019963702,1.0221234119782214,0.9704476709013913,1.0369449485783424,1.0294797338173018,1.0347307924984874,1.0268058076225044,0.9897519661222022,0.9099153055051422,0.8183847549909256,1.1260314579552329,1.072552934059286,1.0304174228675136,1.0225710828796128,1.0605565638233514,0.9945130066545675,0.9923290986085905,1.1583847549909256,1.0579612825166365,1.0404839685420448,1.053793103448276,1.0589292196007258,1.037652752571083,1.0213430127041743,1.0207562008469449,1.0036418632788868,1.025287356321839,0.9864851784633998,1.0300241984271024,0.969933454325469,1.0402117362371448,0.9256805807622505,0.9876830006049606,1.003230490018149,0.9446763460375075,1.0007199032062917,0.9249425287356322,1.0904295220810647,0.9692982456140351,0.901373260738052,1.0810284331518452,1.0552994555353903,0.9577374470659408,1.0973321234119784,0.9889957652752571,0.979933454325469,1.001318814277072,0.9908832425892315,1.0624803387779795,1.0433393829401088,0.9686206896551725,0.95978221415608,0.9421113127646703,1.0877132486388386,1.079328493647913,0.9853962492437992,1.0741379310344827,1.0276285541439807,0.9559709618874773,1.0341621294615853,0.9932425892317,1.0552510586811856,0.9971990320629158,0.9666787658802178],\"type\":\"scatter\"},{\"line\":{\"color\":\"red\",\"width\":2},\"mode\":\"lines\",\"name\":\"Train returns\",\"x\":[\"2000-10-01\",\"2000-11-01\",\"2000-12-01\",\"2001-01-01\",\"2001-02-01\",\"2001-03-01\",\"2001-04-01\",\"2001-05-01\",\"2001-06-01\",\"2001-07-01\",\"2001-08-01\",\"2001-09-01\",\"2001-10-01\",\"2001-11-01\",\"2001-12-01\",\"2002-01-01\",\"2002-02-01\",\"2002-03-01\",\"2002-04-01\",\"2002-05-01\",\"2002-06-01\",\"2002-07-01\",\"2002-08-01\",\"2002-09-01\",\"2002-10-01\",\"2002-11-01\",\"2002-12-01\",\"2003-01-01\",\"2003-02-01\",\"2003-03-01\",\"2003-04-01\",\"2003-05-01\",\"2003-06-01\",\"2003-07-01\",\"2003-08-01\",\"2003-09-01\",\"2003-10-01\",\"2003-11-01\",\"2003-12-01\",\"2004-01-01\",\"2004-02-01\",\"2004-03-01\",\"2004-04-01\",\"2004-05-01\",\"2004-06-01\",\"2004-07-01\",\"2004-08-01\",\"2004-09-01\",\"2004-10-01\",\"2004-11-01\",\"2004-12-01\",\"2005-01-01\",\"2005-02-01\",\"2005-03-01\",\"2005-04-01\",\"2005-05-01\",\"2005-06-01\",\"2005-07-01\",\"2005-08-01\",\"2005-09-01\",\"2005-10-01\",\"2005-11-01\",\"2005-12-01\",\"2006-01-01\",\"2006-02-01\",\"2006-03-01\",\"2006-04-01\",\"2006-05-01\",\"2006-06-01\",\"2006-07-01\",\"2006-08-01\",\"2006-09-01\",\"2006-10-01\",\"2006-11-01\",\"2006-12-01\",\"2007-01-01\",\"2007-02-01\",\"2007-03-01\",\"2007-04-01\",\"2007-05-01\",\"2007-06-01\",\"2007-07-01\",\"2007-08-01\",\"2007-09-01\",\"2007-10-01\",\"2007-11-01\",\"2007-12-01\",\"2008-01-01\",\"2008-02-01\",\"2008-03-01\",\"2008-04-01\",\"2008-05-01\",\"2008-06-01\",\"2008-07-01\",\"2008-08-01\",\"2008-09-01\",\"2008-10-01\",\"2008-11-01\",\"2008-12-01\",\"2009-01-01\",\"2009-02-01\",\"2009-03-01\",\"2009-04-01\",\"2009-05-01\",\"2009-06-01\",\"2009-07-01\",\"2009-08-01\",\"2009-09-01\",\"2009-10-01\",\"2009-11-01\",\"2009-12-01\",\"2010-01-01\",\"2010-02-01\",\"2010-03-01\",\"2010-04-01\",\"2010-05-01\",\"2010-06-01\",\"2010-07-01\",\"2010-08-01\",\"2010-09-01\",\"2010-10-01\",\"2010-11-01\",\"2010-12-01\",\"2011-01-01\",\"2011-02-01\",\"2011-03-01\",\"2011-04-01\",\"2011-05-01\",\"2011-06-01\",\"2011-07-01\",\"2011-08-01\",\"2011-09-01\",\"2011-10-01\",\"2011-11-01\",\"2011-12-01\",\"2012-01-01\",\"2012-02-01\",\"2012-03-01\",\"2012-04-01\",\"2012-05-01\",\"2012-06-01\",\"2012-07-01\",\"2012-08-01\",\"2012-09-01\",\"2012-10-01\",\"2012-11-01\",\"2012-12-01\",\"2013-01-01\",\"2013-02-01\",\"2013-03-01\",\"2013-04-01\",\"2013-05-01\",\"2013-06-01\",\"2013-07-01\",\"2013-08-01\",\"2013-09-01\",\"2013-10-01\",\"2013-11-01\",\"2013-12-01\",\"2014-01-01\",\"2014-02-01\",\"2014-03-01\",\"2014-04-01\",\"2014-05-01\",\"2014-06-01\",\"2014-07-01\",\"2014-08-01\",\"2014-09-01\",\"2014-10-01\",\"2014-11-01\",\"2014-12-01\",\"2015-01-01\",\"2015-02-01\",\"2015-03-01\",\"2015-04-01\",\"2015-05-01\",\"2015-06-01\",\"2015-07-01\",\"2015-08-01\",\"2015-09-01\",\"2015-10-01\",\"2015-11-01\",\"2015-12-01\",\"2016-01-01\",\"2016-02-01\",\"2016-03-01\",\"2016-04-01\",\"2016-05-01\",\"2016-06-01\",\"2016-07-01\",\"2016-08-01\",\"2016-09-01\",\"2016-10-01\",\"2016-11-01\",\"2016-12-01\",\"2017-01-01\",\"2017-02-01\",\"2017-03-01\",\"2017-04-01\",\"2017-05-01\",\"2017-06-01\",\"2017-07-01\",\"2017-08-01\",\"2017-09-01\",\"2017-10-01\",\"2017-11-01\",\"2017-12-01\",\"2018-01-01\",\"2018-02-01\",\"2018-03-01\",\"2018-04-01\",\"2018-05-01\",\"2018-06-01\",\"2018-07-01\",\"2018-08-01\",\"2018-09-01\",\"2018-10-01\",\"2018-11-01\",\"2018-12-01\",\"2019-01-01\",\"2019-02-01\",\"2019-03-01\",\"2019-04-01\",\"2019-05-01\",\"2019-06-01\",\"2019-07-01\",\"2019-08-01\",\"2019-09-01\",\"2019-10-01\",\"2019-11-01\",\"2019-12-01\",\"2020-01-01\",\"2020-02-01\",\"2020-03-01\",\"2020-04-01\",\"2020-05-01\",\"2020-06-01\",\"2020-07-01\",\"2020-08-01\",\"2020-09-01\",\"2020-10-01\",\"2020-11-01\",\"2020-12-01\",\"2021-01-01\",\"2021-02-01\",\"2021-03-01\",\"2021-04-01\",\"2021-05-01\",\"2021-06-01\",\"2021-07-01\",\"2021-08-01\",\"2021-09-01\",\"2021-10-01\",\"2021-11-01\",\"2021-12-01\",\"2022-01-01\",\"2022-02-01\",\"2022-03-01\",\"2022-04-01\",\"2022-05-01\",\"2022-06-01\",\"2022-07-01\",\"2022-08-01\",\"2022-09-01\",\"2022-10-01\",\"2022-11-01\",\"2022-12-01\",\"2023-01-01\",\"2023-02-01\",\"2023-03-01\",\"2023-04-01\",\"2023-05-01\",\"2023-06-01\",\"2023-07-01\",\"2023-08-01\",\"2023-09-01\",\"2023-10-01\",\"2023-11-01\",\"2023-12-01\",\"2024-01-01\",\"2024-02-01\"],\"y\":[1.0140886306762695,1.0219535827636719,1.0184463262557983,1.0184355974197388,1.025658369064331,1.0261954069137573,1.0215400457382202,1.0180189609527588,1.0185850858688354,1.0179212093353271,1.0211405754089355,1.0166125297546387,1.0192232131958008,1.0201915502548218,1.0184963941574097,1.018612265586853,1.0216385126113892,1.0185641050338745,1.0176901817321777,1.0199424028396606,1.018149733543396,1.0197622776031494,1.0197004079818726,1.0159211158752441,1.0246292352676392,1.0158659219741821,1.0240516662597656,1.0222989320755005,1.016548752784729,1.0177398920059204,1.019507646560669,1.0207915306091309,1.0200990438461304,1.021406650543213,1.0169789791107178,1.0213395357131958,1.0189272165298462,1.0230772495269775,1.0229854583740234,1.0229246616363525,1.0235720872879028,1.0200916528701782,1.0179811716079712,1.024880051612854,1.0230770111083984,1.0178635120391846,1.0258129835128784,1.016934871673584,1.0189502239227295,1.0198760032653809,1.0214011669158936,1.0199288129806519,1.0178496837615967,1.0217797756195068,1.021390676498413,1.0196723937988281,1.017503261566162,1.0158556699752808,1.0226455926895142,1.0191584825515747,1.0169981718063354,3.6403603553771973,1.0194302797317505,1.0192817449569702,1.0188976526260376,1.0191195011138916,1.027109980583191,1.0262354612350464,1.0206433534622192,1.0208156108856201,1.022100806236267,1.0188933610916138,1.0192838907241821,1.0223772525787354,1.0221376419067383,1.0400339365005493,1.0226067304611206,1.0171419382095337,1.0176455974578857,1.0181204080581665,1.019357681274414,1.022304654121399,1.0184109210968018,1.0194376707077026,1.018847942352295,1.0183475017547607,1.0269443988800049,1.0188802480697632,1.0268691778182983,1.0192646980285645,1.0216479301452637,1.0219378471374512,1.0207126140594482,1.016493558883667,1.0203663110733032,1.018204689025879,1.0145918130874634,1.0157639980316162,1.016880750656128,1.023686170578003,1.0195053815841675,1.0212676525115967,1.020869255065918,1.0228936672210693,1.018123984336853,1.0190507173538208,1.021176815032959,1.0173614025115967,1.021254301071167,1.0167720317840576,1.0187773704528809,1.0237318277359009,1.0162606239318848,1.0172864198684692,1.0273802280426025,1.019171953201294,1.0167193412780762,1.0170496702194214,1.0301765203475952,1.0197217464447021,1.019579291343689,1.019910216331482,1.0233306884765625,1.024196982383728,1.015960693359375,1.0228708982467651,1.0201724767684937,1.0140882730484009,1.0209983587265015,1.0158323049545288,1.020470142364502,1.0183193683624268,1.0193952322006226,1.0214778184890747,1.0180288553237915,1.0248892307281494,1.0160167217254639,1.0216313600540161,1.024746060371399,1.0209275484085083,1.0181914567947388,1.0213112831115723,1.0278252363204956,1.016710877418518,1.1095296144485474,1.017124056816101,1.025549292564392,1.0198841094970703,1.025088906288147,1.0180476903915405,1.016204833984375,1.0213552713394165,1.0225447416305542,1.028548002243042,1.0395640134811401,1.0148934125900269,1.0171104669570923,1.0020229816436768,0.9764172434806824,1.0213193893432617,1.0206156969070435,1.0170668363571167,1.0201841592788696,1.0248759984970093,1.016198992729187,1.0228158235549927,1.0189660787582397,1.020828127861023,1.0191271305084229,1.0218805074691772,1.015467882156372,1.027058720588684,1.0203731060028076,1.0178866386413574,1.015376329421997,1.017479419708252,1.0213525295257568,1.0279960632324219,1.0203222036361694,1.022265911102295,1.0239225625991821,1.018197774887085,1.0219146013259888,1.0265997648239136,1.0154422521591187,1.0207935571670532,1.0156699419021606,1.017367959022522,1.0218071937561035,1.0256907939910889,1.0200551748275757,1.025006890296936,1.020888090133667,1.0215048789978027,1.016397476196289,1.017879605293274,1.0212363004684448,1.0187782049179077,1.0195456743240356,1.1295750141143799,1.0183240175247192,1.0180416107177734,3.1166110038757324,1.0197792053222656,1.0193438529968262,1.0206974744796753,1.0188703536987305,1.0256212949752808,1.0263727903366089,1.0168415307998657,1.0184797048568726,1.0195038318634033,1.01882803440094,1.017319917678833,1.0173492431640625,1.0226739645004272,1.0222549438476562,1.0267513990402222,1.0207903385162354,1.018631935119629,1.0235835313796997,1.019187092781067,1.0185842514038086,1.0211999416351318,1.0174317359924316,1.0220448970794678,1.0169034004211426,1.0217804908752441,1.0142227411270142,1.0183014869689941,1.0161428451538086,1.0165135860443115,1.0207258462905884,1.0183625221252441,1.0191595554351807,1.018297791481018,1.0239980220794678,1.0169219970703125,1.0153276920318604,1.0165959596633911,1.0187883377075195,1.0162009000778198,1.0205137729644775,1.0161728858947754,1.0290374755859375,1.0159000158309937,1.0295884609222412,1.0254355669021606,1.02156400680542,1.0183298587799072,1.0163030624389648,1.0195153951644897,1.018961787223816,1.0305529832839966,1.0189529657363892,1.0232559442520142,1.0178474187850952,1.0162585973739624,1.0179522037506104,1.018255352973938,1.029557228088379,1.046326756477356,1.0189279317855835,1.016107201576233,1.0187227725982666,1.018247365951538,1.0170912742614746,1.0162066221237183,1.0184412002563477,1.0189119577407837,1.0169463157653809,1.0312708616256714,1.0175005197525024,1.0198185443878174,1.0253591537475586,1.0277597904205322,1.0233412981033325,1.0267398357391357,1.025079607963562,1.016402006149292,1.021708607673645],\"type\":\"scatter\"},{\"line\":{\"color\":\"green\",\"width\":2},\"mode\":\"lines\",\"name\":\"Test returns\",\"x\":[\"2024-02-01\",\"2024-03-01\",\"2024-04-01\",\"2024-05-01\",\"2024-06-01\",\"2024-07-01\",\"2024-08-01\"],\"y\":[1.021708607673645,1.4263769388198853,1.4316104650497437,1.4880744218826294,1.4680399894714355,1.48713219165802,1.4667720794677734],\"type\":\"scatter\"}],                        {\"template\":{\"data\":{\"barpolar\":[{\"marker\":{\"line\":{\"color\":\"white\",\"width\":0.5},\"pattern\":{\"fillmode\":\"overlay\",\"size\":10,\"solidity\":0.2}},\"type\":\"barpolar\"}],\"bar\":[{\"error_x\":{\"color\":\"#2a3f5f\"},\"error_y\":{\"color\":\"#2a3f5f\"},\"marker\":{\"line\":{\"color\":\"white\",\"width\":0.5},\"pattern\":{\"fillmode\":\"overlay\",\"size\":10,\"solidity\":0.2}},\"type\":\"bar\"}],\"carpet\":[{\"aaxis\":{\"endlinecolor\":\"#2a3f5f\",\"gridcolor\":\"#C8D4E3\",\"linecolor\":\"#C8D4E3\",\"minorgridcolor\":\"#C8D4E3\",\"startlinecolor\":\"#2a3f5f\"},\"baxis\":{\"endlinecolor\":\"#2a3f5f\",\"gridcolor\":\"#C8D4E3\",\"linecolor\":\"#C8D4E3\",\"minorgridcolor\":\"#C8D4E3\",\"startlinecolor\":\"#2a3f5f\"},\"type\":\"carpet\"}],\"choropleth\":[{\"colorbar\":{\"outlinewidth\":0,\"ticks\":\"\"},\"type\":\"choropleth\"}],\"contourcarpet\":[{\"colorbar\":{\"outlinewidth\":0,\"ticks\":\"\"},\"type\":\"contourcarpet\"}],\"contour\":[{\"colorbar\":{\"outlinewidth\":0,\"ticks\":\"\"},\"colorscale\":[[0.0,\"#0d0887\"],[0.1111111111111111,\"#46039f\"],[0.2222222222222222,\"#7201a8\"],[0.3333333333333333,\"#9c179e\"],[0.4444444444444444,\"#bd3786\"],[0.5555555555555556,\"#d8576b\"],[0.6666666666666666,\"#ed7953\"],[0.7777777777777778,\"#fb9f3a\"],[0.8888888888888888,\"#fdca26\"],[1.0,\"#f0f921\"]],\"type\":\"contour\"}],\"heatmapgl\":[{\"colorbar\":{\"outlinewidth\":0,\"ticks\":\"\"},\"colorscale\":[[0.0,\"#0d0887\"],[0.1111111111111111,\"#46039f\"],[0.2222222222222222,\"#7201a8\"],[0.3333333333333333,\"#9c179e\"],[0.4444444444444444,\"#bd3786\"],[0.5555555555555556,\"#d8576b\"],[0.6666666666666666,\"#ed7953\"],[0.7777777777777778,\"#fb9f3a\"],[0.8888888888888888,\"#fdca26\"],[1.0,\"#f0f921\"]],\"type\":\"heatmapgl\"}],\"heatmap\":[{\"colorbar\":{\"outlinewidth\":0,\"ticks\":\"\"},\"colorscale\":[[0.0,\"#0d0887\"],[0.1111111111111111,\"#46039f\"],[0.2222222222222222,\"#7201a8\"],[0.3333333333333333,\"#9c179e\"],[0.4444444444444444,\"#bd3786\"],[0.5555555555555556,\"#d8576b\"],[0.6666666666666666,\"#ed7953\"],[0.7777777777777778,\"#fb9f3a\"],[0.8888888888888888,\"#fdca26\"],[1.0,\"#f0f921\"]],\"type\":\"heatmap\"}],\"histogram2dcontour\":[{\"colorbar\":{\"outlinewidth\":0,\"ticks\":\"\"},\"colorscale\":[[0.0,\"#0d0887\"],[0.1111111111111111,\"#46039f\"],[0.2222222222222222,\"#7201a8\"],[0.3333333333333333,\"#9c179e\"],[0.4444444444444444,\"#bd3786\"],[0.5555555555555556,\"#d8576b\"],[0.6666666666666666,\"#ed7953\"],[0.7777777777777778,\"#fb9f3a\"],[0.8888888888888888,\"#fdca26\"],[1.0,\"#f0f921\"]],\"type\":\"histogram2dcontour\"}],\"histogram2d\":[{\"colorbar\":{\"outlinewidth\":0,\"ticks\":\"\"},\"colorscale\":[[0.0,\"#0d0887\"],[0.1111111111111111,\"#46039f\"],[0.2222222222222222,\"#7201a8\"],[0.3333333333333333,\"#9c179e\"],[0.4444444444444444,\"#bd3786\"],[0.5555555555555556,\"#d8576b\"],[0.6666666666666666,\"#ed7953\"],[0.7777777777777778,\"#fb9f3a\"],[0.8888888888888888,\"#fdca26\"],[1.0,\"#f0f921\"]],\"type\":\"histogram2d\"}],\"histogram\":[{\"marker\":{\"pattern\":{\"fillmode\":\"overlay\",\"size\":10,\"solidity\":0.2}},\"type\":\"histogram\"}],\"mesh3d\":[{\"colorbar\":{\"outlinewidth\":0,\"ticks\":\"\"},\"type\":\"mesh3d\"}],\"parcoords\":[{\"line\":{\"colorbar\":{\"outlinewidth\":0,\"ticks\":\"\"}},\"type\":\"parcoords\"}],\"pie\":[{\"automargin\":true,\"type\":\"pie\"}],\"scatter3d\":[{\"line\":{\"colorbar\":{\"outlinewidth\":0,\"ticks\":\"\"}},\"marker\":{\"colorbar\":{\"outlinewidth\":0,\"ticks\":\"\"}},\"type\":\"scatter3d\"}],\"scattercarpet\":[{\"marker\":{\"colorbar\":{\"outlinewidth\":0,\"ticks\":\"\"}},\"type\":\"scattercarpet\"}],\"scattergeo\":[{\"marker\":{\"colorbar\":{\"outlinewidth\":0,\"ticks\":\"\"}},\"type\":\"scattergeo\"}],\"scattergl\":[{\"marker\":{\"colorbar\":{\"outlinewidth\":0,\"ticks\":\"\"}},\"type\":\"scattergl\"}],\"scattermapbox\":[{\"marker\":{\"colorbar\":{\"outlinewidth\":0,\"ticks\":\"\"}},\"type\":\"scattermapbox\"}],\"scatterpolargl\":[{\"marker\":{\"colorbar\":{\"outlinewidth\":0,\"ticks\":\"\"}},\"type\":\"scatterpolargl\"}],\"scatterpolar\":[{\"marker\":{\"colorbar\":{\"outlinewidth\":0,\"ticks\":\"\"}},\"type\":\"scatterpolar\"}],\"scatter\":[{\"fillpattern\":{\"fillmode\":\"overlay\",\"size\":10,\"solidity\":0.2},\"type\":\"scatter\"}],\"scatterternary\":[{\"marker\":{\"colorbar\":{\"outlinewidth\":0,\"ticks\":\"\"}},\"type\":\"scatterternary\"}],\"surface\":[{\"colorbar\":{\"outlinewidth\":0,\"ticks\":\"\"},\"colorscale\":[[0.0,\"#0d0887\"],[0.1111111111111111,\"#46039f\"],[0.2222222222222222,\"#7201a8\"],[0.3333333333333333,\"#9c179e\"],[0.4444444444444444,\"#bd3786\"],[0.5555555555555556,\"#d8576b\"],[0.6666666666666666,\"#ed7953\"],[0.7777777777777778,\"#fb9f3a\"],[0.8888888888888888,\"#fdca26\"],[1.0,\"#f0f921\"]],\"type\":\"surface\"}],\"table\":[{\"cells\":{\"fill\":{\"color\":\"#EBF0F8\"},\"line\":{\"color\":\"white\"}},\"header\":{\"fill\":{\"color\":\"#C8D4E3\"},\"line\":{\"color\":\"white\"}},\"type\":\"table\"}]},\"layout\":{\"annotationdefaults\":{\"arrowcolor\":\"#2a3f5f\",\"arrowhead\":0,\"arrowwidth\":1},\"autotypenumbers\":\"strict\",\"coloraxis\":{\"colorbar\":{\"outlinewidth\":0,\"ticks\":\"\"}},\"colorscale\":{\"diverging\":[[0,\"#8e0152\"],[0.1,\"#c51b7d\"],[0.2,\"#de77ae\"],[0.3,\"#f1b6da\"],[0.4,\"#fde0ef\"],[0.5,\"#f7f7f7\"],[0.6,\"#e6f5d0\"],[0.7,\"#b8e186\"],[0.8,\"#7fbc41\"],[0.9,\"#4d9221\"],[1,\"#276419\"]],\"sequential\":[[0.0,\"#0d0887\"],[0.1111111111111111,\"#46039f\"],[0.2222222222222222,\"#7201a8\"],[0.3333333333333333,\"#9c179e\"],[0.4444444444444444,\"#bd3786\"],[0.5555555555555556,\"#d8576b\"],[0.6666666666666666,\"#ed7953\"],[0.7777777777777778,\"#fb9f3a\"],[0.8888888888888888,\"#fdca26\"],[1.0,\"#f0f921\"]],\"sequentialminus\":[[0.0,\"#0d0887\"],[0.1111111111111111,\"#46039f\"],[0.2222222222222222,\"#7201a8\"],[0.3333333333333333,\"#9c179e\"],[0.4444444444444444,\"#bd3786\"],[0.5555555555555556,\"#d8576b\"],[0.6666666666666666,\"#ed7953\"],[0.7777777777777778,\"#fb9f3a\"],[0.8888888888888888,\"#fdca26\"],[1.0,\"#f0f921\"]]},\"colorway\":[\"#636efa\",\"#EF553B\",\"#00cc96\",\"#ab63fa\",\"#FFA15A\",\"#19d3f3\",\"#FF6692\",\"#B6E880\",\"#FF97FF\",\"#FECB52\"],\"font\":{\"color\":\"#2a3f5f\"},\"geo\":{\"bgcolor\":\"white\",\"lakecolor\":\"white\",\"landcolor\":\"white\",\"showlakes\":true,\"showland\":true,\"subunitcolor\":\"#C8D4E3\"},\"hoverlabel\":{\"align\":\"left\"},\"hovermode\":\"closest\",\"mapbox\":{\"style\":\"light\"},\"paper_bgcolor\":\"white\",\"plot_bgcolor\":\"white\",\"polar\":{\"angularaxis\":{\"gridcolor\":\"#EBF0F8\",\"linecolor\":\"#EBF0F8\",\"ticks\":\"\"},\"bgcolor\":\"white\",\"radialaxis\":{\"gridcolor\":\"#EBF0F8\",\"linecolor\":\"#EBF0F8\",\"ticks\":\"\"}},\"scene\":{\"xaxis\":{\"backgroundcolor\":\"white\",\"gridcolor\":\"#DFE8F3\",\"gridwidth\":2,\"linecolor\":\"#EBF0F8\",\"showbackground\":true,\"ticks\":\"\",\"zerolinecolor\":\"#EBF0F8\"},\"yaxis\":{\"backgroundcolor\":\"white\",\"gridcolor\":\"#DFE8F3\",\"gridwidth\":2,\"linecolor\":\"#EBF0F8\",\"showbackground\":true,\"ticks\":\"\",\"zerolinecolor\":\"#EBF0F8\"},\"zaxis\":{\"backgroundcolor\":\"white\",\"gridcolor\":\"#DFE8F3\",\"gridwidth\":2,\"linecolor\":\"#EBF0F8\",\"showbackground\":true,\"ticks\":\"\",\"zerolinecolor\":\"#EBF0F8\"}},\"shapedefaults\":{\"line\":{\"color\":\"#2a3f5f\"}},\"ternary\":{\"aaxis\":{\"gridcolor\":\"#DFE8F3\",\"linecolor\":\"#A2B1C6\",\"ticks\":\"\"},\"baxis\":{\"gridcolor\":\"#DFE8F3\",\"linecolor\":\"#A2B1C6\",\"ticks\":\"\"},\"bgcolor\":\"white\",\"caxis\":{\"gridcolor\":\"#DFE8F3\",\"linecolor\":\"#A2B1C6\",\"ticks\":\"\"}},\"title\":{\"x\":0.05},\"xaxis\":{\"automargin\":true,\"gridcolor\":\"#EBF0F8\",\"linecolor\":\"#EBF0F8\",\"ticks\":\"\",\"title\":{\"standoff\":15},\"zerolinecolor\":\"#EBF0F8\",\"zerolinewidth\":2},\"yaxis\":{\"automargin\":true,\"gridcolor\":\"#EBF0F8\",\"linecolor\":\"#EBF0F8\",\"ticks\":\"\",\"title\":{\"standoff\":15},\"zerolinecolor\":\"#EBF0F8\",\"zerolinewidth\":2}}},\"shapes\":[{\"line\":{\"color\":\"red\",\"dash\":\"dash\",\"width\":1},\"type\":\"line\",\"x0\":\"2024-02-01\",\"x1\":\"2024-02-01\",\"xref\":\"x\",\"y0\":0,\"y1\":1,\"yref\":\"y domain\"}],\"yaxis\":{\"title\":{\"text\":\"Day closing return (%)\"},\"tickformat\":\".0%\",\"range\":[0.75,1.6]},\"title\":{\"text\":\"6 Month Prediction vs Actual Plot\"},\"xaxis\":{\"title\":{\"text\":\"Date\"}},\"legend\":{\"title\":{\"text\":\"Legend\"}}},                        {\"responsive\": true}                    ).then(function(){\n",
       "                            \n",
       "var gd = document.getElementById('a50fd940-0d96-4c9b-bb53-e7e7fbcece86');\n",
       "var x = new MutationObserver(function (mutations, observer) {{\n",
       "        var display = window.getComputedStyle(gd).display;\n",
       "        if (!display || display === 'none') {{\n",
       "            console.log([gd, 'removed!']);\n",
       "            Plotly.purge(gd);\n",
       "            observer.disconnect();\n",
       "        }}\n",
       "}});\n",
       "\n",
       "// Listen for the removal of the full notebook cells\n",
       "var notebookContainer = gd.closest('#notebook-container');\n",
       "if (notebookContainer) {{\n",
       "    x.observe(notebookContainer, {childList: true});\n",
       "}}\n",
       "\n",
       "// Listen for the clearing of the current output cell\n",
       "var outputEl = gd.closest('.output');\n",
       "if (outputEl) {{\n",
       "    x.observe(outputEl, {childList: true});\n",
       "}}\n",
       "\n",
       "                        })                };                });            </script>        </div>"
      ]
     },
     "metadata": {},
     "output_type": "display_data"
    }
   ],
   "execution_count": 672
  },
  {
   "metadata": {},
   "cell_type": "markdown",
   "source": "#### Overview table",
   "id": "d80278521d9254c0"
  },
  {
   "metadata": {
    "ExecuteTime": {
     "end_time": "2025-04-07T18:46:51.239790Z",
     "start_time": "2025-04-07T18:46:51.157046Z"
    }
   },
   "cell_type": "code",
   "source": [
    "# Get train true values followed with predicted month/s\n",
    "y_train_6m_list = y_train_6m['m_return_target(t+6)'].tolist()\n",
    "y_test_6m_list = y_test_pred_6m.tolist()\n",
    "#\n",
    "df_to_evaluate_6m = comparison.get_df_to_evaluate(df, y_train_1m_list, y_test_1m_list)\n",
    "df_to_evaluate_6m = df_to_evaluate_6m - 1\n",
    "df_to_evaluate_6m"
   ],
   "id": "4eebf0c6accb1d96",
   "outputs": [
    {
     "data": {
      "text/plain": [
       "        RS1.L       KE    TEG.DE    LEG.DE       SCS       HNI       AVT  \\\n",
       "0    0.000000  0.00000 -0.100000  0.000000 -0.230000  0.010000 -0.340000   \n",
       "1    0.000000  0.00000  0.000000 -0.060000  0.030000  0.050000  0.220000   \n",
       "2    0.010000  0.00000  0.550000  0.040000  0.090000 -0.020000  0.280000   \n",
       "3    0.000000 -0.03000  0.090000 -0.130000 -0.050000 -0.010000 -0.110000   \n",
       "4    0.000000  0.00000 -0.060000  0.000000 -0.150000 -0.070000 -0.160000   \n",
       "..        ...      ...       ...       ...       ...       ...       ...   \n",
       "282 -0.050000  0.10000  0.060000  0.020000  0.140000  0.120000  0.120000   \n",
       "283  0.000000 -0.04000 -0.040000 -0.030000 -0.050000 -0.040000 -0.060000   \n",
       "284  0.190000  0.08000  0.020000  0.060000  0.120000  0.220000  0.050000   \n",
       "285 -0.040000 -0.22000  0.060000  0.080000 -0.020000 -0.020000  0.030000   \n",
       "286  0.481712  0.40435  0.753293  0.552723  0.660177  0.625111  0.391511   \n",
       "\n",
       "         ACCO    VNA.DE   7912.T  ...    DEQ.DE      KIDS      HALO      MATW  \\\n",
       "0    0.000000  0.000000 -0.06000  ...  0.000000  0.000000  0.000000  0.070000   \n",
       "1    0.000000 -0.040000  0.05000  ...  0.000000  0.000000  0.000000  0.090000   \n",
       "2   -0.080000  0.020000 -0.06000  ...  0.000000  0.290000 -0.090000 -0.020000   \n",
       "3   -0.020000 -0.100000 -0.08000  ... -0.480000  0.000000  0.000000  0.010000   \n",
       "4    0.000000  0.000000  0.02000  ...  1.180000  0.000000  0.000000  0.050000   \n",
       "..        ...       ...      ...  ...       ...       ...       ...       ...   \n",
       "282  0.060000  0.060000  0.06000  ...  0.090000  0.070000  0.160000  0.050000   \n",
       "283 -0.060000 -0.050000  0.11000  ...  0.070000 -0.090000  0.180000 -0.110000   \n",
       "284  0.090000  0.070000 -0.08000  ...  0.100000  0.070000  0.060000  0.160000   \n",
       "285  0.070000  0.100000  0.06000  ... -0.050000  0.040000  0.160000 -0.130000   \n",
       "286  0.205793  0.693868  0.49948  ...  0.520323  0.328609  1.036522  0.235018   \n",
       "\n",
       "       9842.T      KVHI    MOON.L      NEO    6055.T       UNP  \n",
       "0    0.000000 -0.340000  0.000000  0.00000  0.000000 -0.010000  \n",
       "1    0.000000 -0.160000  0.000000  0.00000  0.000000  0.090000  \n",
       "2   -0.040000  0.690000 -0.140000 -0.24000  0.000000  0.050000  \n",
       "3    0.000000 -0.260000  0.000000  0.00000  0.000000  0.040000  \n",
       "4    0.000000  0.150000  0.000000  0.00000  0.000000  0.020000  \n",
       "..        ...       ...       ...      ...       ...       ...  \n",
       "282 -0.010000  0.080000  0.030000 -0.02000 -0.140000 -0.020000  \n",
       "283  0.010000 -0.100000  0.190000  0.01000  0.140000 -0.020000  \n",
       "284 -0.060000 -0.040000  0.140000  0.28000 -0.100000  0.090000  \n",
       "285 -0.040000  0.000000 -0.030000 -0.07000 -0.110000  0.040000  \n",
       "286  0.229088  0.217481  0.257771  0.53799  1.344105  0.686714  \n",
       "\n",
       "[287 rows x 1653 columns]"
      ],
      "text/html": [
       "<div>\n",
       "<style scoped>\n",
       "    .dataframe tbody tr th:only-of-type {\n",
       "        vertical-align: middle;\n",
       "    }\n",
       "\n",
       "    .dataframe tbody tr th {\n",
       "        vertical-align: top;\n",
       "    }\n",
       "\n",
       "    .dataframe thead th {\n",
       "        text-align: right;\n",
       "    }\n",
       "</style>\n",
       "<table border=\"1\" class=\"dataframe\">\n",
       "  <thead>\n",
       "    <tr style=\"text-align: right;\">\n",
       "      <th></th>\n",
       "      <th>RS1.L</th>\n",
       "      <th>KE</th>\n",
       "      <th>TEG.DE</th>\n",
       "      <th>LEG.DE</th>\n",
       "      <th>SCS</th>\n",
       "      <th>HNI</th>\n",
       "      <th>AVT</th>\n",
       "      <th>ACCO</th>\n",
       "      <th>VNA.DE</th>\n",
       "      <th>7912.T</th>\n",
       "      <th>...</th>\n",
       "      <th>DEQ.DE</th>\n",
       "      <th>KIDS</th>\n",
       "      <th>HALO</th>\n",
       "      <th>MATW</th>\n",
       "      <th>9842.T</th>\n",
       "      <th>KVHI</th>\n",
       "      <th>MOON.L</th>\n",
       "      <th>NEO</th>\n",
       "      <th>6055.T</th>\n",
       "      <th>UNP</th>\n",
       "    </tr>\n",
       "  </thead>\n",
       "  <tbody>\n",
       "    <tr>\n",
       "      <th>0</th>\n",
       "      <td>0.000000</td>\n",
       "      <td>0.00000</td>\n",
       "      <td>-0.100000</td>\n",
       "      <td>0.000000</td>\n",
       "      <td>-0.230000</td>\n",
       "      <td>0.010000</td>\n",
       "      <td>-0.340000</td>\n",
       "      <td>0.000000</td>\n",
       "      <td>0.000000</td>\n",
       "      <td>-0.06000</td>\n",
       "      <td>...</td>\n",
       "      <td>0.000000</td>\n",
       "      <td>0.000000</td>\n",
       "      <td>0.000000</td>\n",
       "      <td>0.070000</td>\n",
       "      <td>0.000000</td>\n",
       "      <td>-0.340000</td>\n",
       "      <td>0.000000</td>\n",
       "      <td>0.00000</td>\n",
       "      <td>0.000000</td>\n",
       "      <td>-0.010000</td>\n",
       "    </tr>\n",
       "    <tr>\n",
       "      <th>1</th>\n",
       "      <td>0.000000</td>\n",
       "      <td>0.00000</td>\n",
       "      <td>0.000000</td>\n",
       "      <td>-0.060000</td>\n",
       "      <td>0.030000</td>\n",
       "      <td>0.050000</td>\n",
       "      <td>0.220000</td>\n",
       "      <td>0.000000</td>\n",
       "      <td>-0.040000</td>\n",
       "      <td>0.05000</td>\n",
       "      <td>...</td>\n",
       "      <td>0.000000</td>\n",
       "      <td>0.000000</td>\n",
       "      <td>0.000000</td>\n",
       "      <td>0.090000</td>\n",
       "      <td>0.000000</td>\n",
       "      <td>-0.160000</td>\n",
       "      <td>0.000000</td>\n",
       "      <td>0.00000</td>\n",
       "      <td>0.000000</td>\n",
       "      <td>0.090000</td>\n",
       "    </tr>\n",
       "    <tr>\n",
       "      <th>2</th>\n",
       "      <td>0.010000</td>\n",
       "      <td>0.00000</td>\n",
       "      <td>0.550000</td>\n",
       "      <td>0.040000</td>\n",
       "      <td>0.090000</td>\n",
       "      <td>-0.020000</td>\n",
       "      <td>0.280000</td>\n",
       "      <td>-0.080000</td>\n",
       "      <td>0.020000</td>\n",
       "      <td>-0.06000</td>\n",
       "      <td>...</td>\n",
       "      <td>0.000000</td>\n",
       "      <td>0.290000</td>\n",
       "      <td>-0.090000</td>\n",
       "      <td>-0.020000</td>\n",
       "      <td>-0.040000</td>\n",
       "      <td>0.690000</td>\n",
       "      <td>-0.140000</td>\n",
       "      <td>-0.24000</td>\n",
       "      <td>0.000000</td>\n",
       "      <td>0.050000</td>\n",
       "    </tr>\n",
       "    <tr>\n",
       "      <th>3</th>\n",
       "      <td>0.000000</td>\n",
       "      <td>-0.03000</td>\n",
       "      <td>0.090000</td>\n",
       "      <td>-0.130000</td>\n",
       "      <td>-0.050000</td>\n",
       "      <td>-0.010000</td>\n",
       "      <td>-0.110000</td>\n",
       "      <td>-0.020000</td>\n",
       "      <td>-0.100000</td>\n",
       "      <td>-0.08000</td>\n",
       "      <td>...</td>\n",
       "      <td>-0.480000</td>\n",
       "      <td>0.000000</td>\n",
       "      <td>0.000000</td>\n",
       "      <td>0.010000</td>\n",
       "      <td>0.000000</td>\n",
       "      <td>-0.260000</td>\n",
       "      <td>0.000000</td>\n",
       "      <td>0.00000</td>\n",
       "      <td>0.000000</td>\n",
       "      <td>0.040000</td>\n",
       "    </tr>\n",
       "    <tr>\n",
       "      <th>4</th>\n",
       "      <td>0.000000</td>\n",
       "      <td>0.00000</td>\n",
       "      <td>-0.060000</td>\n",
       "      <td>0.000000</td>\n",
       "      <td>-0.150000</td>\n",
       "      <td>-0.070000</td>\n",
       "      <td>-0.160000</td>\n",
       "      <td>0.000000</td>\n",
       "      <td>0.000000</td>\n",
       "      <td>0.02000</td>\n",
       "      <td>...</td>\n",
       "      <td>1.180000</td>\n",
       "      <td>0.000000</td>\n",
       "      <td>0.000000</td>\n",
       "      <td>0.050000</td>\n",
       "      <td>0.000000</td>\n",
       "      <td>0.150000</td>\n",
       "      <td>0.000000</td>\n",
       "      <td>0.00000</td>\n",
       "      <td>0.000000</td>\n",
       "      <td>0.020000</td>\n",
       "    </tr>\n",
       "    <tr>\n",
       "      <th>...</th>\n",
       "      <td>...</td>\n",
       "      <td>...</td>\n",
       "      <td>...</td>\n",
       "      <td>...</td>\n",
       "      <td>...</td>\n",
       "      <td>...</td>\n",
       "      <td>...</td>\n",
       "      <td>...</td>\n",
       "      <td>...</td>\n",
       "      <td>...</td>\n",
       "      <td>...</td>\n",
       "      <td>...</td>\n",
       "      <td>...</td>\n",
       "      <td>...</td>\n",
       "      <td>...</td>\n",
       "      <td>...</td>\n",
       "      <td>...</td>\n",
       "      <td>...</td>\n",
       "      <td>...</td>\n",
       "      <td>...</td>\n",
       "      <td>...</td>\n",
       "    </tr>\n",
       "    <tr>\n",
       "      <th>282</th>\n",
       "      <td>-0.050000</td>\n",
       "      <td>0.10000</td>\n",
       "      <td>0.060000</td>\n",
       "      <td>0.020000</td>\n",
       "      <td>0.140000</td>\n",
       "      <td>0.120000</td>\n",
       "      <td>0.120000</td>\n",
       "      <td>0.060000</td>\n",
       "      <td>0.060000</td>\n",
       "      <td>0.06000</td>\n",
       "      <td>...</td>\n",
       "      <td>0.090000</td>\n",
       "      <td>0.070000</td>\n",
       "      <td>0.160000</td>\n",
       "      <td>0.050000</td>\n",
       "      <td>-0.010000</td>\n",
       "      <td>0.080000</td>\n",
       "      <td>0.030000</td>\n",
       "      <td>-0.02000</td>\n",
       "      <td>-0.140000</td>\n",
       "      <td>-0.020000</td>\n",
       "    </tr>\n",
       "    <tr>\n",
       "      <th>283</th>\n",
       "      <td>0.000000</td>\n",
       "      <td>-0.04000</td>\n",
       "      <td>-0.040000</td>\n",
       "      <td>-0.030000</td>\n",
       "      <td>-0.050000</td>\n",
       "      <td>-0.040000</td>\n",
       "      <td>-0.060000</td>\n",
       "      <td>-0.060000</td>\n",
       "      <td>-0.050000</td>\n",
       "      <td>0.11000</td>\n",
       "      <td>...</td>\n",
       "      <td>0.070000</td>\n",
       "      <td>-0.090000</td>\n",
       "      <td>0.180000</td>\n",
       "      <td>-0.110000</td>\n",
       "      <td>0.010000</td>\n",
       "      <td>-0.100000</td>\n",
       "      <td>0.190000</td>\n",
       "      <td>0.01000</td>\n",
       "      <td>0.140000</td>\n",
       "      <td>-0.020000</td>\n",
       "    </tr>\n",
       "    <tr>\n",
       "      <th>284</th>\n",
       "      <td>0.190000</td>\n",
       "      <td>0.08000</td>\n",
       "      <td>0.020000</td>\n",
       "      <td>0.060000</td>\n",
       "      <td>0.120000</td>\n",
       "      <td>0.220000</td>\n",
       "      <td>0.050000</td>\n",
       "      <td>0.090000</td>\n",
       "      <td>0.070000</td>\n",
       "      <td>-0.08000</td>\n",
       "      <td>...</td>\n",
       "      <td>0.100000</td>\n",
       "      <td>0.070000</td>\n",
       "      <td>0.060000</td>\n",
       "      <td>0.160000</td>\n",
       "      <td>-0.060000</td>\n",
       "      <td>-0.040000</td>\n",
       "      <td>0.140000</td>\n",
       "      <td>0.28000</td>\n",
       "      <td>-0.100000</td>\n",
       "      <td>0.090000</td>\n",
       "    </tr>\n",
       "    <tr>\n",
       "      <th>285</th>\n",
       "      <td>-0.040000</td>\n",
       "      <td>-0.22000</td>\n",
       "      <td>0.060000</td>\n",
       "      <td>0.080000</td>\n",
       "      <td>-0.020000</td>\n",
       "      <td>-0.020000</td>\n",
       "      <td>0.030000</td>\n",
       "      <td>0.070000</td>\n",
       "      <td>0.100000</td>\n",
       "      <td>0.06000</td>\n",
       "      <td>...</td>\n",
       "      <td>-0.050000</td>\n",
       "      <td>0.040000</td>\n",
       "      <td>0.160000</td>\n",
       "      <td>-0.130000</td>\n",
       "      <td>-0.040000</td>\n",
       "      <td>0.000000</td>\n",
       "      <td>-0.030000</td>\n",
       "      <td>-0.07000</td>\n",
       "      <td>-0.110000</td>\n",
       "      <td>0.040000</td>\n",
       "    </tr>\n",
       "    <tr>\n",
       "      <th>286</th>\n",
       "      <td>0.481712</td>\n",
       "      <td>0.40435</td>\n",
       "      <td>0.753293</td>\n",
       "      <td>0.552723</td>\n",
       "      <td>0.660177</td>\n",
       "      <td>0.625111</td>\n",
       "      <td>0.391511</td>\n",
       "      <td>0.205793</td>\n",
       "      <td>0.693868</td>\n",
       "      <td>0.49948</td>\n",
       "      <td>...</td>\n",
       "      <td>0.520323</td>\n",
       "      <td>0.328609</td>\n",
       "      <td>1.036522</td>\n",
       "      <td>0.235018</td>\n",
       "      <td>0.229088</td>\n",
       "      <td>0.217481</td>\n",
       "      <td>0.257771</td>\n",
       "      <td>0.53799</td>\n",
       "      <td>1.344105</td>\n",
       "      <td>0.686714</td>\n",
       "    </tr>\n",
       "  </tbody>\n",
       "</table>\n",
       "<p>287 rows × 1653 columns</p>\n",
       "</div>"
      ]
     },
     "execution_count": 675,
     "metadata": {},
     "output_type": "execute_result"
    }
   ],
   "execution_count": 675
  },
  {
   "metadata": {
    "ExecuteTime": {
     "end_time": "2025-04-07T18:47:25.957859Z",
     "start_time": "2025-04-07T18:47:17.564043Z"
    }
   },
   "cell_type": "code",
   "source": [
    "importlib.reload(comparison)\n",
    "df_pred_6m, raw_weights_6m, mu_6m, S_6m, sigma_6m, sharpe_6m = comparison.get_portfolio_performance(df_to_evaluate_6m,\n",
    "                                                                                                    \"xgbooster_weights_6m.csv\",\n",
    "                                                                                                    min_avg_return=-0.5,\n",
    "                                                                                                    months=12)\n",
    "comparison.create_discrete_allocation(df_pred_6m, raw_weights_6m)\n",
    "\n",
    "# Create overview\n",
    "df_view_6m = pd.DataFrame.from_dict(raw_weights_6m, orient='index', columns=['max_sharpe_weight'])\n",
    "# Extract volatilities (square root of diagonal elements)\n",
    "df_view_6m['avg_annual_volatility'] = pd.Series(np.sqrt(np.diag(S_6m)), index=S_6m.columns).values\n",
    "# Set annual returns\n",
    "df_view_6m['avg_annual_return'] = mu_6m.values\n",
    "#\n",
    "df_view_6m"
   ],
   "id": "c1ceb3ca171ad8e2",
   "outputs": [
    {
     "name": "stdout",
     "output_type": "stream",
     "text": [
      "Expected annual return: 176.7%\n",
      "Annual volatility: 68.5%\n",
      "Sharpe Ratio: 2.55\n",
      "Discrete allocation: {'RS1.L': 5, 'KE': 6, 'TEG.DE': 3, 'LEG.DE': 4, 'SCS': 4, 'HNI': 4, 'AVT': 6, 'ACCO': 10, 'VNA.DE': 3, '7912.T': 5, 'KEYS': 4, 'SGRO.L': 5, 'CBRE': 4, 'BRC': 5, 'PGRE': 4, 'PSON.L': 701, 'BBOX.L': 4, 'REL.L': 314, 'TMV.DE': 20, 'BHE': 1165, 'PLXS': 9, 'GPE.L': 26, 'HAS': 3, 'CHGG': 11, 'JLL': 5, 'LAND.L': 5, 'OLED': 7, 'CDW': 15, 'FLEX': 8, 'REZI': 4, 'TPL': 3, 'ARW': 4, 'NOVT': 3, 'RYN': 3, 'SNX': 3, '7911.T': 6, 'CMPR': 10, 'DLAR.L': 6, '2379.T': 1, '6754.T': 1, 'SHA.DE': 14, 'TTMI': 3, '3234.T': 2, 'PBI': 182, 'BYG.L': 5, 'ASGN': 11, 'COA.L': 6, 'VVV': 3, 'PAGE.L': 6, 'DB1.DE': 4, 'AVB': 7, '3309.T': 2, 'STWD': 4, 'GROW.L': 1, 'MTO.L': 10, 'KFY': 4, 'BLND.L': 3, 'RGLD': 4, 'KFRC': 5, 'IWG.L': 8, '8954.T': 11, 'ZIL2.DE': 2, 'SANM': 329, 'SXS.L': 5, 'YETI': 10, 'ACN': 4, 'HPP': 15, '7893.T': 9, 'SVS.L': 11, 'AGNC': 12, 'CTS': 9, 'IPG': 4, 'BMI': 5, 'FUTR.L': 8, 'EBOX.L': 3, 'SCSC': 6, 'MAN': 7, '7994.T': 11, '3283.T': 2, 'PDM': 4, 'III.L': 1, 'NBS.L': 11, 'DSCV.L': 11, '6183.T': 2, 'KELYA': 4, '6724.T': 1, '4384.T': 1, 'ST': 8, '7984.T': 8, 'CCK': 9, 'APTV': 12, 'STEM.L': 3, 'UU.L': 9, 'ITRI': 3, '6287.T': 2, 'INF.L': 7, '4218.T': 2, 'HMSO.L': 5, 'WDC': 3, '7313.T': 1, 'EBF': 7, 'TNET': 3, '6098.T': 1, 'MLKN': 4, 'HLMA.L': 3, 'WPP.L': 8, 'JBL': 10, '3279.T': 2, 'JEN.DE': 5, 'LXP': 4, 'TRMB': 4, 'WKP.L': 3, '6028.T': 1, 'NLY': 3, 'KGF.L': 5, '7951.T': 7, '7846.T': 8, 'SBAC': 4, 'KRG': 6, 'ATR': 193, 'ELME': 10, 'DNLM.L': 4, 'BDEV.L': 4, 'TEP.L': 3, 'ESRT': 4, 'CGNX': 8, 'ZBRA': 2, 'DLX': 17, 'BWA': 9, 'ELV': 298, 'NYT': 5, 'SNWS.L': 7, 'INS.DE': 3, 'INCH.L': 3, 'NWSA': 11, 'AT1.DE': 9, 'MKSI': 10, '7914.T': 3, 'MMI': 5, 'EXPN.L': 4, 'GRI.L': 5, 'SNBR': 10454, 'SMWH.L': 3, 'IR': 4, 'ITV.L': 55, 'LAD': 6, 'HSII': 5, 'CUZ': 4, 'LIN': 6, 'PHP.L': 4, 'NL': 152, 'BALL': 3, '2146.T': 1, 'DHR': 4, 'KIM': 4, '8057.T': 7, '6841.T': 1, 'MAC': 5, 'ECOR.L': 12, 'SWBI': 215, '8151.T': 5, 'CNNE': 4, 'PLD': 4, 'REXR': 4, 'IPGP': 5, 'RHI': 4, '6845.T': 1, '7868.T': 8, 'CDP': 7, 'AAP': 12, 'GOLF': 4, 'HAS.L': 5, 'LSL.L': 11, '7272.T': 2, 'RCH.L': 4, 'ATGE': 4, '7701.T': 2, 'SAP.DE': 4, 'GWI.L': 15, 'POOL': 6, 'AZO': 852, 'ZWS': 3, 'GTX': 14, 'LKQ': 8, '2154.T': 1, 'HPQ': 3, 'AZEK': 3, 'ADV.DE': 12, 'VRE': 5, 'NSIT': 11, 'KMX': 4, 'OXIG.L': 6, 'CDNS': 7, 'CAH': 4, 'VNT': 3, 'VTR': 2, 'COR': 5, 'REG': 9, '7976.T': 3, 'STAA': 12, 'JOUT': 5, 'PNN.L': 11, 'ENR.DE': 304, 'WSM': 2, 'WIX.L': 6, 'A': 3, 'EQR': 11, 'PFG': 3, '8952.T': 6, 'PTEC.L': 457, 'SPGI': 6, 'FOXT.L': 545, 'HPE': 3, '8976.T': 8, '2124.T': 2, '4641.T': 2, 'LZB': 7, 'CWC.DE': 4, 'AAD.DE': 3, 'STX': 3, 'ESS': 58, 'AMAT': 3, 'AMH': 4, 'LEA': 14, '7762.T': 12, 'ANIK': 6, 'PKE': 17, 'HIW': 8, 'MAA': 4, 'PSM.DE': 18, '4848.T': 1, 'HLE.DE': 6, '5108.T': 1, 'RELL': 4, '3107.T': 2, 'PSA': 3, 'AY': 6, '7476.T': 1, 'ORLY': 8, 'LOW': 4, 'ALV.DE': 12, 'BBSI': 5, 'DLB': 24, 'OPEN': 2, 'RSW.L': 14, 'SMDS.L': 5, '7613.T': 3, 'LMP.L': 3, 'O5G.DE': 39, 'CCI': 6, 'DLN.L': 3, 'ALV': 4, 'LITE': 3, 'MNDI.L': 6, '8084.T': 4, 'AMBP': 139, 'BXP': 7, 'EXLS': 4, '8022.T': 49, 'BDN': 7, '8060.T': 6, 'MTH': 5, 'XRAY': 8, 'FL': 2, 'HAE': 7, 'BRX': 6, '6701.T': 1, 'MTD': 5, 'MSI': 4, 'FME.DE': 20, 'DLR': 4, 'SAFE.L': 5, 'LRCX': 4, '7864.T': 4, 'FOXA': 175, 'LEG': 17, 'HLCL.L': 5, '3466.T': 2, 'SAX.DE': 7, '4732.T': 1, 'KBX.DE': 3, 'JDG.L': 3, 'IRM': 3, 'BOSS.DE': 6, 'NSP': 16, 'G1A.DE': 10, 'RDW.L': 5, 'RNW': 6, 'FRT': 12, 'PINE.L': 6, 'SPG': 4, 'MPX': 18, '6702.T': 1, '1925.T': 1, 'BSL.DE': 8, 'IVT': 12, 'TBCG.L': 3612, 'HBH.DE': 8, 'PAG': 8, 'JD.L': 4, '6448.T': 1, 'AMT': 4, 'ESCA': 6, 'BKG.L': 6, 'IGT': 2, 'CRMT': 9, 'BCYC': 13, 'TPX': 6, '6915.T': 1, 'TMO': 3, '9934.T': 9, 'WAT': 3, 'AN': 5, 'THRM': 3, 'PETS.L': 4, 'GPC': 13, 'MNRO': 8, '3462.T': 2, 'UDMY': 3, 'HD': 3, 'EGP': 8, 'NWL': 11, 'SPT.L': 5, '6981.T': 1, 'CSCO': 13, 'HASI': 4, 'RWS.L': 5, '6436.T': 2, 'ASCL.L': 912, 'OKTA': 10, 'MOV': 14, 'UDR': 4, 'PMT': 4, 'CMLS': 2, 'G24.DE': 7, 'JNPR': 995, '8967.T': 6, '8159.T': 3, 'HST': 5, 'AGR.L': 3, '3295.T': 2, '8960.T': 7, '8035.T': 2, 'SBRA': 10, 'ICG.L': 8, 'EQIX': 5, 'TEL': 3, 'BIG.L': 4, 'CI': 92, '7734.T': 2, 'TBI': 11, 'SREI.L': 9, 'UTG.L': 3, 'HOG': 5, 'UTMD': 8, 'SVT.L': 13, 'DRH': 5, 'BFSA.DE': 5, '7906.T': 5, 'DHL.DE': 6, 'DFS.L': 9, '8984.T': 8, 'FTDR': 5, 'SUPR.L': 3, 'IFX.DE': 2, 'WLY': 4, 'AOX.DE': 94, 'JBGS': 6, 'GPI': 3, 'CLMB': 336, 'BAH': 12, 'ETD': 9, 'ARE': 3, 'SSP': 2, 'TW.L': 4, 'SMTC': 2, 'AGYS': 382, 'SDRY.L': 15, 'SEE': 4, 'SLG': 4, 'NVDA': 60, '7867.T': 3, 'WTS': 3, 'AKAM': 5, 'NCC.L': 3, 'SKT': 3, '3282.T': 1, 'IBM': 5, '3421.T': 1, '6200.T': 1, 'EA': 5, 'TSCO': 6, 'ACRE': 3, 'CEC.DE': 12, 'PANW': 4, 'ADS.DE': 2, 'AV.L': 4, 'RTO.L': 9, 'VID.L': 6, '5988.T': 2, 'AL': 3, 'QCOM': 8, 'BCPT.L': 2, 'GWRE': 4, 'LEVI': 2, '3451.T': 2, 'NDAQ': 3, '8141.T': 13, 'QGEN': 4, 'TM17.L': 14, '8986.T': 7, 'DWNI.DE': 3, 'GAW.L': 4, 'KRC': 5, 'BIRK': 10910, 'CRI': 17, 'PAG.L': 4, '2715.T': 2, 'TPR': 2, 'FOSL': 15, 'CCEP': 8, 'RWI.L': 10, 'ILM1.DE': 1, 'ACLS': 9, 'COMM': 1, 'JAKK': 3, 'HQI': 7, 'CAR': 5, 'FRE.DE': 9, 'HAYW': 6, '8968.T': 9, 'HOFT': 2, '3249.T': 1, '6861.T': 1, 'CNH': 17, 'IPO.L': 10, 'CURY.L': 11, 'ANET': 4, '7718.T': 3, 'BNR.DE': 5, 'CCC.L': 17, 'LOPE': 5, 'STAG': 3, '7282.T': 2, 'G': 32, '8957.T': 10, '8955.T': 6, 'VNO': 4, '7944.T': 12, 'RXRX': 3, 'CNXN': 5, 'MKTX': 4, 'CREI.L': 3, 'WPC': 3, 'AMD': 10, 'ELS': 5, 'AKR': 303, 'TGNA': 16, 'SNPS': 4, 'VICI': 6, 'HWDN.L': 3, 'KNOS.L': 11, '9983.T': 4, 'BBY': 4, 'MRL.L': 11, 'MHK': 3, 'GPMT': 6, 'FERG': 6, 'STVG.L': 4, 'USFD': 4, 'RL': 3, 'INVP.L': 3, 'FRA.DE': 7, 'MOTR.L': 3, 'BMY.L': 324, 'COLD': 4, 'ADBE': 5, 'PARA': 22, 'THRY': 19, 'ETWO': 12, '8173.T': 9, 'GYC.DE': 2, 'TTEK': 5, 'CENT': 10, 'PK': 5, 'AAT': 4, '6645.T': 2, 'DECK': 3, 'ITI': 26, '6866.T': 2, '7433.T': 2, 'KBH': 5, 'MSFT': 3, '8818.T': 7, 'CPT': 4, 'EXR': 4, 'PLCE': 2, 'JBHT': 5, '7752.T': 7, 'NTAP': 4, 'ABM': 4, 'AMS.L': 14, 'CNXC': 6, 'FGP.L': 10, '7309.T': 1, '8014.T': 7, 'HL.L': 1553, 'FBRT': 10, '7593.T': 2, 'FIS': 9, 'ABG': 3, 'PRU.L': 9, 'VFC': 6, 'SITC': 4, 'MSCI': 5, 'FIGS': 5, 'KLIC': 7, 'LULU': 8, 'VOD.L': 6, '8953.T': 7, 'SRE.L': 3, '8154.T': 4, 'ANSS': 6, 'CTEC.L': 3, '7780.T': 4, 'ORA': 5, 'NTGR': 4, 'SUI': 3, 'SIG': 3, 'HSIC': 12, 'CRUS': 2, '8130.T': 11, 'ALFA.L': 11, '6430.T': 2, 'ORCL': 2, 'OMC': 4, 'CIEN': 4, '8897.T': 7, 'KTB': 4, 'HLN.L': 10, '3471.T': 2, 'SMP': 14, 'DJCO': 4, 'ALGM': 9, 'CTRE': 6, '9332.T': 12, '4849.T': 1, 'CRM': 6, 'MCO': 6, '4902.T': 1, '3132.T': 2, 'HUBS': 6, '3493.T': 2, 'VEEV': 9, 'TPT.L': 6, '7483.T': 2, 'AMCR': 8, 'FCPT': 3, 'GBF.DE': 1835, '8150.T': 16, 'TRNO': 7, 'SAFE': 5, 'RITM': 4, 'MUV2.DE': 308, '8876.T': 4, 'RESI.L': 17, '9602.T': 11, 'GCI': 3, 'HWG.L': 4, 'GLPI': 10, 'DAN': 10, 'APD': 7, 'RDUS': 13, 'ARLO': 6, 'SIX2.DE': 4, 'ZM': 2, 'OMF': 4, 'OI': 12, '8283.T': 9, 'GEN': 6, 'ARI': 4, '8972.T': 4, '8951.T': 8, 'PEB': 8, '4307.T': 2, 'SVC': 8, 'NOEJ.DE': 24, '4194.T': 1, 'RF': 4, 'HRB': 4, 'MAT': 13, 'LASR': 8, '6703.T': 2, 'DT': 6, '7947.T': 6, '3002.T': 2, 'FR': 3, '2760.T': 1, 'NOW': 5, 'XPER': 3, 'V': 3, 'DIS': 2, '7250.T': 1, '7990.T': 10, 'CRST.L': 6, '3738.T': 2, 'AGS': 544, '3487.T': 2, '7552.T': 2, 'ZAL.DE': 5, '9882.T': 6, 'MFA': 5, 'INTC': 6, 'HOLI': 8, 'ADP': 9, 'MET': 8, 'HIG': 1026, 'CIM': 4, 'ZTS': 3, 'CALX': 14, '8111.T': 3, 'VPG': 6, 'ADSK': 4, '7220.T': 1, 'JUP.L': 8, 'TT': 3, '4298.T': 1, 'VSCO': 5, 'MIR': 2, 'FND': 3, 'WY': 3, 'KW': 7, '7741.T': 2, 'CTSH': 4, 'SHO': 8, 'HABA.DE': 4, '3281.T': 2, 'SFQ.DE': 5, 'CSR': 5, 'ANF': 118, 'ADC': 6, '9832.T': 14, 'R': 5, 'AEO': 5, 'TLX.DE': 2, '6856.T': 1, '8961.T': 10, 'ZUMZ': 2, 'AXL': 13, '6674.T': 1, 'AON': 9, 'SYY': 4, 'DXC': 5, 'CASS': 3, 'CROX': 2, 'XHR': 6, 'CLDT': 14, '6460.T': 2, 'ARCB': 5, 'NOVA': 3, 'TER': 6, 'ABDP.L': 9, 'OMI': 3, '2475.T': 2, 'FDM.L': 11, '3076.T': 2, 'WEYS': 12, 'EBAY': 3, 'BERY': 5, 'MRVL': 4, 'ROIC': 4, 'MLAB': 4, 'AVY': 4, 'GSK.L': 15, '5970.T': 2, 'MMS': 4, 'SCI': 3, 'TDC': 6, 'TJX': 8, '6857.T': 1, 'ULTA': 5, 'O': 3, 'BNL': 3, 'OSIS': 4, 'CPI.L': 7, '3591.T': 2, 'BR': 5, 'CVLT': 193, 'NFLX': 3, 'BSY': 8, '8008.T': 10, 'MA': 5, 'SEDG': 5, '6758.T': 2, '5991.T': 1, 'SONO': 2, 'ETSY': 5, 'WOOF': 2, 'PVH': 4, 'COO': 4, 'IDS.L': 397, 'WHR.L': 2, '7974.T': 4, 'AHT.L': 9, 'VRA': 11, 'ICLR': 2, 'NXST': 20, 'NXT': 5, 'URI': 4, 'CPRT': 3, '6737.T': 2, 'CYBR': 3, 'DELL': 3, 'ASO': 4, 'VSTO': 6, 'SHOO': 4, 'BNZL.L': 442, 'LCII': 5, 'GLOB': 4, 'WCC': 4, '8964.T': 8, '8056.T': 4, '7832.T': 8, '1435.T': 1, 'ABDN.L': 8, '6417.T': 2, 'SDR.L': 4, 'DEA': 4, 'DX': 9, 'GT': 4, '3186.T': 1, 'PATH': 20, 'TW': 3, 'NRR.L': 4, 'NSSC': 2, '6744.T': 2, '2733.T': 2, '3226.T': 2, '4324.T': 2, 'HVT': 7, 'GHC': 5, 'WSR': 4, 'MMSI': 201, 'ITRK.L': 12, '7419.T': 2, 'ESTC': 20, '6745.T': 2, '4062.T': 2, 'LRN': 192, '9474.T': 7, 'ODFL': 16, 'VTU.L': 3, 'AZTA': 16, 'DORM': 4, 'EPR': 7, 'BURL': 3, '1928.T': 1, 'PSDL.L': 10, '6471.T': 2, 'WBA': 2885, 'THRL.L': 6, 'BOOT': 4, 'GWW': 5, '3003.T': 2, '2692.T': 2, 'DE': 11, 'GPK': 4, 'CPS': 3, 'INVH': 2, 'BFAM': 2, '7508.T': 2, 'VVI': 2, 'SIRI': 6, 'RBBN': 27, 'TTWO': 4, '3668.T': 2, 'GIII': 5, 'GBG.L': 5397, 'VOYA': 13, 'IQV': 2, 'DDOG': 6, 'CCO': 17, 'MRVI': 3, 'CACI': 334, 'WMG': 13, 'NG.L': 15, 'AAN': 10, 'BATRK': 11, 'JCI': 2, 'TPE.DE': 5, '2120.T': 1, 'GPS': 2, 'JST.DE': 13, 'ESP.L': 4, '2429.T': 2, 'CVNA': 582, 'EXPD': 6, 'CSGS': 9, 'NNN': 4, 'INN': 2, 'NMRK': 4, 'PYCR': 10, 'BGEO.L': 8, 'TPK.L': 12, 'HBI': 2409, 'KLAC': 2, '6902.T': 1, 'GCO': 5, 'CLAR': 8, 'NYMT': 4, 'MER.L': 2, 'HIBB': 4, 'EOAN.DE': 4976, '7296.T': 2, '3092.T': 1, 'RVTY': 8, 'XPP.L': 2, 'HLT': 3, '8987.T': 8, '2784.T': 2, 'BKE': 4, 'YOU.DE': 11, 'DHC': 4, '6859.T': 2, 'SFIX': 4, 'AZPN': 4, 'RHP': 4, 'SMHN.DE': 240, 'VRSK': 11, '4544.T': 2, 'UAA': 3, 'IDXX': 1, 'PSN.L': 7, 'CRTO': 35, '3231.T': 2, 'CPRI': 12, '9843.T': 7, 'BLD': 7, 'CIO': 5, 'DAVA': 6, 'RGP': 21, 'FTNT': 8, 'FFIV': 4, 'SPX.L': 3, 'STRA': 4, '9470.T': 3, 'COHU': 10, 'PSTG': 6, '6762.T': 1, 'HEAR': 415, 'TPH': 3, 'LTC': 9, 'PCTN.L': 7, '3765.T': 2, '8966.T': 6, 'FOXF': 9, 'OSPN': 11, 'OSUR': 6, 'MCW': 10, 'FTK.DE': 4, 'PYPL': 3, 'PAR': 60, '3104.T': 1, '9735.T': 8, 'CWK': 10, 'JUST.L': 116, 'EYE': 3, 'FDS': 20, 'VTY.L': 5, 'FRPH': 9, 'SYF': 3, 'PFGC': 5, 'AEWU.L': 10, 'PCH': 8, 'AGCO': 13, 'RWT': 4, 'VIAV': 8, 'ZS': 2, 'FOUR.L': 6, 'OMCL': 15, '3292.T': 2, 'IHRT': 1, 'LESL': 4, 'SOHO.L': 2, 'EQC': 22, 'HBAN': 4, 'WAF.DE': 5, '9729.T': 4, 'PRDO': 235, 'OSW': 5, 'SBS.DE': 8, 'BXMT': 4, 'IRT': 2, '7239.T': 2, 'KD': 8, 'CUBE': 4, 'VTSC.DE': 81, '1911.T': 1, 'TMHC': 2, 'SMAR': 15, '4745.T': 2, 'LGEN.L': 6, 'GLW': 11, 'PAYX': 4, 'XRX': 11, 'GFS': 11, 'MTCH': 16, 'GES': 6, 'NAPA': 16, '3116.T': 2, '6644.T': 2, 'IHG.L': 2, '7729.T': 2, 'OXM': 2, '7731.T': 3, 'CARR': 4, '6736.T': 382, 'MEGP.L': 8, 'TTK.DE': 7, 'AAPL': 4, 'JHG': 3, 'TTSH': 4, '3269.T': 2, 'REGN': 879, 'SGE.L': 8, 'UNIT': 4, 'UPBD': 5, 'EVD.DE': 3, 'SCT.L': 19, 'SNOW': 6, '6425.T': 2, 'INTU': 2, 'UNM': 235, 'PTON': 2, 'WTW': 8, 'DKS': 3, 'MRK.DE': 4, '3468.T': 2, 'ROKU': 5, '9627.T': 4, '4293.T': 2, '4665.T': 2, 'HLIT': 12, 'YUMC': 5, 'ZI': 16, 'FITB': 6, 'EFC': 4, '6146.T': 1, 'LFUS': 7, 'BWY.L': 7, '7955.T': 8, 'U': 7, 'CTAS': 3, 'UNH': 12, 'BLKB': 4, '7600.T': 1, 'LDOS': 3, 'MBG.DE': 5, 'DOCU': 6, 'SSE.L': 3, '6383.T': 1, 'PLYM': 3, 'EPRT': 2, '6750.T': 2, 'COK.DE': 4, 'PINC': 9, 'KVUE': 3, '6588.T': 2, 'FORM': 6, '6976.T': 2, '5332.T': 2, '7732.T': 3, '4433.T': 2, 'CME': 9, 'EXTR': 5, 'AOF.DE': 5, 'TGT': 2, '2767.T': 2, 'ASHM.L': 8, '8985.T': 11, '4452.T': 2, 'RLJ': 4, 'LNT': 7, '2491.T': 2, 'ATRI': 5, 'P911.DE': 15, '8804.T': 824, '8802.T': 7, 'ARHS': 3, 'HZO': 2, '4751.T': 1, 'MEDP': 4, '7751.T': 3, 'BKNG': 7, 'LSEG.L': 4, 'AMN': 9, 'ROST': 6, 'CAL': 2, '6951.T': 2, '1973.T': 2, '8439.T': 10, 'MANH': 4, '3492.T': 2, '5105.T': 2, 'EQH': 2, 'PCA.L': 6, '9101.T': 4, 'HTZ': 2, 'PAT.DE': 6, 'TFC': 4, 'OHI': 8, 'TROW': 4, 'FSLR': 3, 'CCH.L': 14, '9364.T': 13, '7730.T': 2, 'NEOG': 8, 'HNR1.DE': 11, '4619.T': 1, 'DAY': 11, '6592.T': 1, 'SNDR': 8, 'MONY.L': 21, 'MDB': 27, 'MEG': 4, 'MERC': 12, 'SHYF': 14, 'CHEF': 4, 'HCSG': 6, '2874.T': 2, 'WU': 15, 'APLE': 12, '9068.T': 49, 'MSGS': 11, 'DBI': 10, 'CON.DE': 7, 'IHR.L': 2, 'ROK': 7, 'GNTX': 10, 'WDAY': 4, 'CCS': 3, '9831.T': 11, 'COHR': 1, '9401.T': 2, '9719.T': 7, '3148.T': 2, 'RH': 2, '8079.T': 4, '7915.T': 6, 'LSCC': 18, '4980.T': 1, 'CHRW': 12, '3289.T': 2, 'IVR': 13, 'RMV.L': 9, 'BBW': 5, 'GXI.DE': 6, 'EMG.L': 11, 'ONTF': 6, 'CRWD': 15, 'SLAB': 5, '6914.T': 2, '3050.T': 2, 'GTN': 9355, 'CLI.L': 6, 'SAIA': 4, 'KN': 5, '6814.T': 1, '7241.T': 1, 'NDX1.DE': 5, 'LINC': 4, 'DAKT': 2, 'PRI': 7, 'CHKP': 3, 'HFFG': 6, 'ALIT': 5, 'NETW.L': 24, 'TEAM': 10, 'DGII': 10, 'EVTC': 5, 'HHFA.DE': 5, 'AFL': 531, 'SBGI': 7, 'PECO': 10, 'PUM.DE': 5, '8129.T': 4, 'NCNO': 9, 'SBH': 4, 'NWG.L': 5, 'NEXN.L': 465, 'EVT.DE': 2, 'FI': 5, 'JILL': 8, '9404.T': 3, 'UNFI': 10, 'CBL': 4, 'AHH': 4, 'SFM': 242, 'HR': 8, 'KMI': 4, 'KWS.L': 12, '7740.T': 2, '2168.T': 1, '6723.T': 1, 'TWO': 4, '3191.T': 2, '9076.T': 13, 'MPW': 7, 'AEIS': 7, 'AMKR': 8, 'ZIG.L': 5, '6923.T': 1, 'KREF': 3, 'AER': 2, 'PFE': 14, '4301.T': 2, 'NVMI': 2, 'LADR': 4, '3046.T': 2, '9024.T': 25, '2170.T': 1, '3612.T': 1, 'YOU.L': 7, 'LIO.L': 25, 'ICFI': 3, 'INFN': 5, '7294.T': 2, 'HURN': 8, 'SLP': 12, '4716.T': 2, '7599.T': 1, 'UCTT': 6, 'CHPT': 1, 'CFLT': 25, 'ONEW': 2, 'VMUK.L': 4, '7735.T': 1, 'VYX': 7, 'B4B.DE': 27, 'XYL': 2, 'RBLX': 7, 'AYI': 6, '4689.T': 1, '8050.T': 3, 'SY1.DE': 4, 'WST': 4, 'RARE': 3, 'UE': 5, 'BFH': 362, '2331.T': 1, 'KAR': 2, '8282.T': 9, '5110.T': 1, '6268.T': 2, 'ETN': 3, 'AMC': 9, 'FWRD': 3, '2395.T': 2, 'WBD': 6, 'SHL.DE': 5, 'CRL': 5, 'AUTO.L': 5, 'ADI': 3, 'NSA': 4, '8114.T': 6, 'ES': 3, 'WTB.L': 9, '4812.T': 2, 'KNX': 5, 'TRTX': 5, 'EVOK.L': 16, 'LAMR': 6, '4816.T': 1, 'CPRX': 3, '4151.T': 2, 'ONT.L': 8, 'BELFB': 8, '7354.T': 2, 'TWKS': 18, '9434.T': 2926, 'MOD': 2, 'BEZ.L': 5, 'WHR': 4, 'DRVN': 2, '8591.T': 9, 'PRSR.L': 3, '7844.T': 9, 'DDS': 4, 'RMR': 4, '4549.T': 1, '7575.T': 2, 'MNDY': 113, 'KCO.DE': 8, 'EVRI': 10, '3635.T': 2, 'HSTM': 11, 'DNB': 5, 'AXP': 3, 'ORC': 11, 'GTY.DE': 2, '4503.T': 2, 'FOR': 3, 'GEF': 5, '7747.T': 2, 'NTST': 4, '3086.T': 1, 'PKG': 5, 'OC': 5, '9987.T': 3, 'ARR': 10, 'IMAX': 2, '3659.T': 1, '8601.T': 5, 'DTE.DE': 1797, 'IHS': 3, '8963.T': 4, '5938.T': 1, 'NBPE.L': 12, 'TAL': 2, '7803.T': 16, 'BIRD': 17, 'FLGT': 5, 'WRBY': 8, 'PGNY': 8, 'PFC.L': 1, 'SRP.L': 5, 'UTI': 217, 'BEPC': 3, '3481.T': 1, 'ATG.L': 14, 'WINA': 21, '7451.T': 2, 'GTY': 3, 'HEN3.DE': 12, 'TYL': 4, 'PRG': 4, 'BLK': 3, 'NTCT': 6, '7459.T': 2, 'FAN.L': 6, '9613.T': 5, 'TYMN.L': 6, 'PAYC': 12, 'GDDY': 285, 'RMBS': 28, 'PACB': 2, 'CRDA.L': 12, 'MGRC': 28, 'DNOW': 10, 'MSA': 4, 'RC': 5, 'TTG.L': 6, 'MNG.L': 18, '3402.T': 2, 'N91.L': 4, 'WTRG': 8, 'UPWK': 6, '5101.T': 2, 'CPG.L': 10, 'KBR': 5, 'ADUS': 2, 'PRPL': 9, 'PWSC': 5, '8308.T': 3, 'RSG': 5, 'PTC': 4, 'ALGN': 2, 'CRH': 3, 'RAT.L': 7, 'PRU': 11, '8958.T': 8, '2972.T': 2, 'CNK': 6, '2979.T': 2, 'LNC': 3, '6965.T': 2, 'NXT.L': 3, 'PHNX.L': 4, 'OUT': 3, 'LBRDK': 12, 'CTO': 13, 'ICE': 4, 'MU': 6, 'ROL': 4, 'OTIS': 4, 'IIPR': 1, '7936.T': 1, 'FINV': 17, 'PRGS': 9, 'EVK.DE': 7, '8219.T': 8, 'JKHY': 4, 'AMP': 4, 'PTVE': 2270, 'ICUI': 2, 'ENTG': 6, '6718.T': 2, '9107.T': 12, 'AWK': 3, 'BOWL': 3, 'NKE': 18, '6955.T': 2, 'DTG.DE': 5, 'QSI': 8, 'JMAT.L': 6, '2685.T': 1, 'NHI': 4, 'DLTR': 8, '3476.T': 2, 'PRO': 7, 'UPS': 7, 'DWS.DE': 7, 'BIJ.DE': 7, 'EXC': 11, '3290.T': 2, 'FCN': 8, 'JAMF': 15, 'VZ': 4, 'GLE.L': 3, '7988.T': 8, '3287.T': 2, 'TOST': 5, 'ARES': 6, 'WM': 8, 'LXS.DE': 10, 'CMI': 5, 'HCKT': 96, 'NESF.L': 11, 'PLUS.L': 3412, '2389.T': 2, 'WWW': 3, 'VSAT': 6, 'TILE': 3, 'BDC': 4, 'HUBB': 4, 'ADTN': 46, 'RGA': 4, 'AVGO': 3, 'RM': 18, 'URBN': 2883, '6651.T': 2, 'ULTP.L': 6, 'AVNS': 4, 'LAUR': 7, 'ENR': 15, 'SCVL': 4, 'ADPT': 9, 'SAH': 4, 'ONL': 3, 'DBRG': 11, '9697.T': 10, 'GPRO': 16, 'VRNT': 6, 'HUM': 13, 'CARG': 4, 'NEM.DE': 4, 'ZIM': 6, 'SBLK': 6, '7860.T': 6, 'NXU.DE': 4, 'TROX': 7, 'BK': 4, 'MPWR': 4, 'VOXX': 9, 'ILMN': 2, 'PD': 6, 'APH': 4, 'FSJ.L': 11, 'MSM': 16, '4369.T': 1, 'FDX': 3, '6941.T': 1, '9766.T': 55, '7606.T': 2, 'VECO': 9, 'MRTN': 8, '6504.T': 1, '8012.T': 6, 'CRAI': 2, 'GKOS': 357, 'KMT': 8, '9757.T': 12, 'NTNX': 524, '9413.T': 7, 'BOOT.L': 8, 'IT': 5, '8697.T': 6, '6971.T': 2, 'NXPI': 3, 'RS': 6, 'ITRN': 6, '9869.T': 7, '8977.T': 9, 'APP': 29, 'AVNW': 4, 'APLD': 3, 'DOLE': 8, 'SBRY.L': 4, 'HLX': 6, '9069.T': 14, '2433.T': 1, 'WEIR.L': 2, '3151.T': 2, 'MHO': 8, 'LSTR': 13, '8923.T': 8, '3593.T': 2, '6326.T': 2, 'VRTX': 8, 'NVT': 2, 'TTC': 8, '2327.T': 1, 'GFT.DE': 5, '3636.T': 2, '8252.T': 7, '8086.T': 8, 'ROP': 5, '3994.T': 2, '3697.T': 1, 'BKR': 4, 'RCL': 3, 'SLB': 6, '2502.T': 2, '9790.T': 6, 'TRU': 2, 'PETQ': 6, '2790.T': 1, 'FIE.DE': 8, '4839.T': 2, 'NVRI': 6, 'GME': 9, '9605.T': 26, 'AIN': 5, 'PMTS': 6, '4676.T': 2, 'FUBO': 5, 'CLFD': 7, 'MVIS': 8, 'SEAT': 7, '4326.T': 1, 'SMCI': 202, 'ACEL': 11, '9409.T': 6, 'ISRG': 4, 'VC': 9, 'BLCO': 13, 'GMRE': 4, 'AMAL': 4, '2337.T': 1, 'GPN': 5, 'BRKR': 4, 'BEN': 5, '3608.T': 1, 'FLTR.L': 15, 'STGW': 3, '8074.T': 4, '3048.T': 1, 'HRI': 6, 'QLYS': 10, 'DFIN': 7, '8803.T': 9, 'XP': 3, 'CNM': 3, 'ONTO': 4, 'ONON': 3, '2792.T': 1, 'COUR': 8, 'AUDC': 3, 'FWONK': 2127, '5334.T': 1, 'DOW': 10, 'PSTL': 4, '7458.T': 2, 'ECV.DE': 4, 'DAR': 5, 'AMG': 4, 'FLYW': 14, 'FORR': 15, '3626.T': 2, 'BIG': 19, 'UIS': 6, '2971.T': 2, 'IOT': 3, 'CERS': 3, 'AIV': 2, 'BC': 3, 'WSC': 10, '7453.T': 1, 'DCC.L': 5, 'CARD.L': 7, 'WIX': 3, '2471.T': 1, 'LQDT': 593, 'DRQ': 7, 'NFG.L': 11, '9064.T': 11, 'GRG.L': 15, 'LYB': 12, 'AWI': 5, 'BC8.DE': 6, 'ACTG': 10, 'LSEA': 13, '3341.T': 1, 'IQ': 10, 'CLVT': 7, 'LII': 3, '8309.T': 7, 'PGR': 1392, 'IVAC': 6, 'TWI': 3419, '4568.T': 2, 'CRCT': 7, '6787.T': 1, 'ALLE': 3, '9433.T': 2206, 'OCN.L': 4, 'VSEC': 2, '7564.T': 1, 'TSCO.L': 354, 'PFD.L': 5, '9143.T': 13, 'GXO': 3, 'BGC': 2, '3296.T': 2, 'PEN': 17, '7518.T': 2, '9072.T': 8, 'ENPH': 6, 'GAMA.L': 4, '2670.T': 1, 'SUP': 6, 'MATX': 6, 'DEQ.DE': 4, 'KIDS': 7, 'HALO': 2, 'MATW': 9, '9842.T': 9, 'KVHI': 9, 'MOON.L': 8, 'NEO': 4, '6055.T': 2, 'UNP': 3}\n",
      "Funds remaining: €35.67\n"
     ]
    },
    {
     "data": {
      "text/plain": [
       "        max_sharpe_weight  avg_annual_volatility  avg_annual_return\n",
       "RS1.L                 0.0               3.485498           0.614151\n",
       "KE                    0.0               3.474583          -0.043396\n",
       "TEG.DE                0.0               3.701630           1.597632\n",
       "LEG.DE                0.0               3.546676           1.147623\n",
       "SCS                   0.0               3.621287           1.171782\n",
       "...                   ...                    ...                ...\n",
       "KVHI                  0.0               3.334557           0.074981\n",
       "MOON.L                0.0               3.358550           0.617740\n",
       "NEO                   0.0               3.619571           1.075490\n",
       "6055.T                0.0               4.581623           0.835447\n",
       "UNP                   0.0               3.608043           1.155177\n",
       "\n",
       "[1644 rows x 3 columns]"
      ],
      "text/html": [
       "<div>\n",
       "<style scoped>\n",
       "    .dataframe tbody tr th:only-of-type {\n",
       "        vertical-align: middle;\n",
       "    }\n",
       "\n",
       "    .dataframe tbody tr th {\n",
       "        vertical-align: top;\n",
       "    }\n",
       "\n",
       "    .dataframe thead th {\n",
       "        text-align: right;\n",
       "    }\n",
       "</style>\n",
       "<table border=\"1\" class=\"dataframe\">\n",
       "  <thead>\n",
       "    <tr style=\"text-align: right;\">\n",
       "      <th></th>\n",
       "      <th>max_sharpe_weight</th>\n",
       "      <th>avg_annual_volatility</th>\n",
       "      <th>avg_annual_return</th>\n",
       "    </tr>\n",
       "  </thead>\n",
       "  <tbody>\n",
       "    <tr>\n",
       "      <th>RS1.L</th>\n",
       "      <td>0.0</td>\n",
       "      <td>3.485498</td>\n",
       "      <td>0.614151</td>\n",
       "    </tr>\n",
       "    <tr>\n",
       "      <th>KE</th>\n",
       "      <td>0.0</td>\n",
       "      <td>3.474583</td>\n",
       "      <td>-0.043396</td>\n",
       "    </tr>\n",
       "    <tr>\n",
       "      <th>TEG.DE</th>\n",
       "      <td>0.0</td>\n",
       "      <td>3.701630</td>\n",
       "      <td>1.597632</td>\n",
       "    </tr>\n",
       "    <tr>\n",
       "      <th>LEG.DE</th>\n",
       "      <td>0.0</td>\n",
       "      <td>3.546676</td>\n",
       "      <td>1.147623</td>\n",
       "    </tr>\n",
       "    <tr>\n",
       "      <th>SCS</th>\n",
       "      <td>0.0</td>\n",
       "      <td>3.621287</td>\n",
       "      <td>1.171782</td>\n",
       "    </tr>\n",
       "    <tr>\n",
       "      <th>...</th>\n",
       "      <td>...</td>\n",
       "      <td>...</td>\n",
       "      <td>...</td>\n",
       "    </tr>\n",
       "    <tr>\n",
       "      <th>KVHI</th>\n",
       "      <td>0.0</td>\n",
       "      <td>3.334557</td>\n",
       "      <td>0.074981</td>\n",
       "    </tr>\n",
       "    <tr>\n",
       "      <th>MOON.L</th>\n",
       "      <td>0.0</td>\n",
       "      <td>3.358550</td>\n",
       "      <td>0.617740</td>\n",
       "    </tr>\n",
       "    <tr>\n",
       "      <th>NEO</th>\n",
       "      <td>0.0</td>\n",
       "      <td>3.619571</td>\n",
       "      <td>1.075490</td>\n",
       "    </tr>\n",
       "    <tr>\n",
       "      <th>6055.T</th>\n",
       "      <td>0.0</td>\n",
       "      <td>4.581623</td>\n",
       "      <td>0.835447</td>\n",
       "    </tr>\n",
       "    <tr>\n",
       "      <th>UNP</th>\n",
       "      <td>0.0</td>\n",
       "      <td>3.608043</td>\n",
       "      <td>1.155177</td>\n",
       "    </tr>\n",
       "  </tbody>\n",
       "</table>\n",
       "<p>1644 rows × 3 columns</p>\n",
       "</div>"
      ]
     },
     "execution_count": 677,
     "metadata": {},
     "output_type": "execute_result"
    }
   ],
   "execution_count": 677
  },
  {
   "metadata": {},
   "cell_type": "markdown",
   "source": "## 12 Months ",
   "id": "d780a819974a3cd7"
  },
  {
   "metadata": {},
   "cell_type": "code",
   "outputs": [],
   "execution_count": null,
   "source": [
    "importlib.reload(train_test)\n",
    "X_train, y_train, X_test, y_test = train_test.get_train_test(df_tabular, months=60, target_key='m_return_target(t+12)')\n",
    "\n",
    "# \n",
    "model = xgboost.XGBRegressor(n_estimators=1000)\n",
    "model.fit(X_train, y_train,\n",
    "          eval_set=[(X_train, y_train), (X_test, y_test)],\n",
    "          verbose=False)"
   ],
   "id": "a0a40f4b1346a9e4"
  },
  {
   "metadata": {
    "ExecuteTime": {
     "end_time": "2025-04-07T18:47:35.153841Z",
     "start_time": "2025-04-07T18:47:34.957468Z"
    }
   },
   "cell_type": "code",
   "source": [
    "months_12m = 12\n",
    "X_train_12m, y_train_12m, X_test_12m, y_test_12m = train_test.get_train_test(df_tabular, months=12,\n",
    "                                                                             target_key='m_return_target(t+12)')"
   ],
   "id": "e0761b0302e87c93",
   "outputs": [],
   "execution_count": 678
  },
  {
   "metadata": {
    "ExecuteTime": {
     "end_time": "2025-04-07T18:47:37.534399Z",
     "start_time": "2025-04-07T18:47:35.830720Z"
    }
   },
   "cell_type": "code",
   "source": [
    "# Predictions\n",
    "y_train_pred_12m = model.predict(X_train_12m)\n",
    "y_test_pred_12m = model.predict(X_test_12m)"
   ],
   "id": "7a78ee9acb0beda2",
   "outputs": [],
   "execution_count": 679
  },
  {
   "metadata": {
    "ExecuteTime": {
     "end_time": "2025-04-07T18:47:38.796755Z",
     "start_time": "2025-04-07T18:47:38.777632Z"
    }
   },
   "cell_type": "code",
   "source": "X_test_12m",
   "id": "dd2820f75e536ae3",
   "outputs": [
    {
     "data": {
      "text/plain": [
       "        month  year  m_return(t-11)  m_return(t-10)  m_return(t-9)  \\\n",
       "275         9  2023            0.99            0.96           0.98   \n",
       "276        10  2023            0.96            0.98           1.05   \n",
       "277        11  2023            0.98            1.05           1.04   \n",
       "278        12  2023            1.05            1.04           0.94   \n",
       "279         1  2024            1.04            0.94           1.01   \n",
       "...       ...   ...             ...             ...            ...   \n",
       "474406      4  2024            0.98            1.07           1.13   \n",
       "474407      5  2024            1.07            1.13           0.95   \n",
       "474408      6  2024            1.13            0.95           0.93   \n",
       "474409      7  2024            0.95            0.93           1.02   \n",
       "474410      8  2024            0.93            1.02           1.09   \n",
       "\n",
       "        m_return(t-8)  m_return(t-7)  m_return(t-6)  m_return(t-5)  \\\n",
       "275              1.05           1.04           0.94           1.01   \n",
       "276              1.04           0.94           1.01           0.86   \n",
       "277              0.94           1.01           0.86           0.95   \n",
       "278              1.01           0.86           0.95           1.05   \n",
       "279              0.86           0.95           1.05           0.97   \n",
       "...               ...            ...            ...            ...   \n",
       "474406           0.95           0.93           1.02           1.09   \n",
       "474407           0.93           1.02           1.09           1.09   \n",
       "474408           1.02           1.09           1.09           1.00   \n",
       "474409           1.09           1.09           1.00           1.04   \n",
       "474410           1.09           1.00           1.04           0.97   \n",
       "\n",
       "        m_return(t-4)  ...  m_return(t-2)  m_return(t-1)  m_return(t)  \\\n",
       "275              0.86  ...           1.05           0.97         0.97   \n",
       "276              0.95  ...           0.97           0.97         0.92   \n",
       "277              1.05  ...           0.97           0.92         1.10   \n",
       "278              0.97  ...           0.92           1.10         1.11   \n",
       "279              0.97  ...           1.10           1.11         0.96   \n",
       "...               ...  ...            ...            ...          ...   \n",
       "474406           1.09  ...           1.04           0.97         0.96   \n",
       "474407           1.00  ...           0.97           0.96         0.98   \n",
       "474408           1.04  ...           0.96           0.98         0.98   \n",
       "474409           0.97  ...           0.98           0.98         1.09   \n",
       "474410           0.96  ...           0.98           1.09         1.04   \n",
       "\n",
       "        m_return_target(t+2)  m_return_target(t+4)  m_return_target(t+6)  \\\n",
       "275                     1.10                  0.96                  0.96   \n",
       "276                     1.11                  0.96                  1.01   \n",
       "277                     0.96                  0.96                  0.95   \n",
       "278                     0.96                  1.01                  1.00   \n",
       "279                     0.96                  0.95                  1.19   \n",
       "...                      ...                   ...                   ...   \n",
       "474406                  0.98                  1.04                   NaN   \n",
       "474407                  1.09                  0.99                   NaN   \n",
       "474408                  1.04                   NaN                   NaN   \n",
       "474409                  0.99                   NaN                   NaN   \n",
       "474410                   NaN                   NaN                   NaN   \n",
       "\n",
       "        m_return_target(t+8)  m_return_target(t+10)  m_return_target(t+12)  \\\n",
       "275                     0.95                   1.19                   0.99   \n",
       "276                     1.00                   0.96                    NaN   \n",
       "277                     1.19                   0.99                    NaN   \n",
       "278                     0.96                    NaN                    NaN   \n",
       "279                     0.99                    NaN                    NaN   \n",
       "...                      ...                    ...                    ...   \n",
       "474406                   NaN                    NaN                    NaN   \n",
       "474407                   NaN                    NaN                    NaN   \n",
       "474408                   NaN                    NaN                    NaN   \n",
       "474409                   NaN                    NaN                    NaN   \n",
       "474410                   NaN                    NaN                    NaN   \n",
       "\n",
       "        stock_ticker_label  \n",
       "275                   1371  \n",
       "276                   1371  \n",
       "277                   1371  \n",
       "278                   1371  \n",
       "279                   1371  \n",
       "...                    ...  \n",
       "474406                1549  \n",
       "474407                1549  \n",
       "474408                1549  \n",
       "474409                1549  \n",
       "474410                1549  \n",
       "\n",
       "[19836 rows x 21 columns]"
      ],
      "text/html": [
       "<div>\n",
       "<style scoped>\n",
       "    .dataframe tbody tr th:only-of-type {\n",
       "        vertical-align: middle;\n",
       "    }\n",
       "\n",
       "    .dataframe tbody tr th {\n",
       "        vertical-align: top;\n",
       "    }\n",
       "\n",
       "    .dataframe thead th {\n",
       "        text-align: right;\n",
       "    }\n",
       "</style>\n",
       "<table border=\"1\" class=\"dataframe\">\n",
       "  <thead>\n",
       "    <tr style=\"text-align: right;\">\n",
       "      <th></th>\n",
       "      <th>month</th>\n",
       "      <th>year</th>\n",
       "      <th>m_return(t-11)</th>\n",
       "      <th>m_return(t-10)</th>\n",
       "      <th>m_return(t-9)</th>\n",
       "      <th>m_return(t-8)</th>\n",
       "      <th>m_return(t-7)</th>\n",
       "      <th>m_return(t-6)</th>\n",
       "      <th>m_return(t-5)</th>\n",
       "      <th>m_return(t-4)</th>\n",
       "      <th>...</th>\n",
       "      <th>m_return(t-2)</th>\n",
       "      <th>m_return(t-1)</th>\n",
       "      <th>m_return(t)</th>\n",
       "      <th>m_return_target(t+2)</th>\n",
       "      <th>m_return_target(t+4)</th>\n",
       "      <th>m_return_target(t+6)</th>\n",
       "      <th>m_return_target(t+8)</th>\n",
       "      <th>m_return_target(t+10)</th>\n",
       "      <th>m_return_target(t+12)</th>\n",
       "      <th>stock_ticker_label</th>\n",
       "    </tr>\n",
       "  </thead>\n",
       "  <tbody>\n",
       "    <tr>\n",
       "      <th>275</th>\n",
       "      <td>9</td>\n",
       "      <td>2023</td>\n",
       "      <td>0.99</td>\n",
       "      <td>0.96</td>\n",
       "      <td>0.98</td>\n",
       "      <td>1.05</td>\n",
       "      <td>1.04</td>\n",
       "      <td>0.94</td>\n",
       "      <td>1.01</td>\n",
       "      <td>0.86</td>\n",
       "      <td>...</td>\n",
       "      <td>1.05</td>\n",
       "      <td>0.97</td>\n",
       "      <td>0.97</td>\n",
       "      <td>1.10</td>\n",
       "      <td>0.96</td>\n",
       "      <td>0.96</td>\n",
       "      <td>0.95</td>\n",
       "      <td>1.19</td>\n",
       "      <td>0.99</td>\n",
       "      <td>1371</td>\n",
       "    </tr>\n",
       "    <tr>\n",
       "      <th>276</th>\n",
       "      <td>10</td>\n",
       "      <td>2023</td>\n",
       "      <td>0.96</td>\n",
       "      <td>0.98</td>\n",
       "      <td>1.05</td>\n",
       "      <td>1.04</td>\n",
       "      <td>0.94</td>\n",
       "      <td>1.01</td>\n",
       "      <td>0.86</td>\n",
       "      <td>0.95</td>\n",
       "      <td>...</td>\n",
       "      <td>0.97</td>\n",
       "      <td>0.97</td>\n",
       "      <td>0.92</td>\n",
       "      <td>1.11</td>\n",
       "      <td>0.96</td>\n",
       "      <td>1.01</td>\n",
       "      <td>1.00</td>\n",
       "      <td>0.96</td>\n",
       "      <td>NaN</td>\n",
       "      <td>1371</td>\n",
       "    </tr>\n",
       "    <tr>\n",
       "      <th>277</th>\n",
       "      <td>11</td>\n",
       "      <td>2023</td>\n",
       "      <td>0.98</td>\n",
       "      <td>1.05</td>\n",
       "      <td>1.04</td>\n",
       "      <td>0.94</td>\n",
       "      <td>1.01</td>\n",
       "      <td>0.86</td>\n",
       "      <td>0.95</td>\n",
       "      <td>1.05</td>\n",
       "      <td>...</td>\n",
       "      <td>0.97</td>\n",
       "      <td>0.92</td>\n",
       "      <td>1.10</td>\n",
       "      <td>0.96</td>\n",
       "      <td>0.96</td>\n",
       "      <td>0.95</td>\n",
       "      <td>1.19</td>\n",
       "      <td>0.99</td>\n",
       "      <td>NaN</td>\n",
       "      <td>1371</td>\n",
       "    </tr>\n",
       "    <tr>\n",
       "      <th>278</th>\n",
       "      <td>12</td>\n",
       "      <td>2023</td>\n",
       "      <td>1.05</td>\n",
       "      <td>1.04</td>\n",
       "      <td>0.94</td>\n",
       "      <td>1.01</td>\n",
       "      <td>0.86</td>\n",
       "      <td>0.95</td>\n",
       "      <td>1.05</td>\n",
       "      <td>0.97</td>\n",
       "      <td>...</td>\n",
       "      <td>0.92</td>\n",
       "      <td>1.10</td>\n",
       "      <td>1.11</td>\n",
       "      <td>0.96</td>\n",
       "      <td>1.01</td>\n",
       "      <td>1.00</td>\n",
       "      <td>0.96</td>\n",
       "      <td>NaN</td>\n",
       "      <td>NaN</td>\n",
       "      <td>1371</td>\n",
       "    </tr>\n",
       "    <tr>\n",
       "      <th>279</th>\n",
       "      <td>1</td>\n",
       "      <td>2024</td>\n",
       "      <td>1.04</td>\n",
       "      <td>0.94</td>\n",
       "      <td>1.01</td>\n",
       "      <td>0.86</td>\n",
       "      <td>0.95</td>\n",
       "      <td>1.05</td>\n",
       "      <td>0.97</td>\n",
       "      <td>0.97</td>\n",
       "      <td>...</td>\n",
       "      <td>1.10</td>\n",
       "      <td>1.11</td>\n",
       "      <td>0.96</td>\n",
       "      <td>0.96</td>\n",
       "      <td>0.95</td>\n",
       "      <td>1.19</td>\n",
       "      <td>0.99</td>\n",
       "      <td>NaN</td>\n",
       "      <td>NaN</td>\n",
       "      <td>1371</td>\n",
       "    </tr>\n",
       "    <tr>\n",
       "      <th>...</th>\n",
       "      <td>...</td>\n",
       "      <td>...</td>\n",
       "      <td>...</td>\n",
       "      <td>...</td>\n",
       "      <td>...</td>\n",
       "      <td>...</td>\n",
       "      <td>...</td>\n",
       "      <td>...</td>\n",
       "      <td>...</td>\n",
       "      <td>...</td>\n",
       "      <td>...</td>\n",
       "      <td>...</td>\n",
       "      <td>...</td>\n",
       "      <td>...</td>\n",
       "      <td>...</td>\n",
       "      <td>...</td>\n",
       "      <td>...</td>\n",
       "      <td>...</td>\n",
       "      <td>...</td>\n",
       "      <td>...</td>\n",
       "      <td>...</td>\n",
       "    </tr>\n",
       "    <tr>\n",
       "      <th>474406</th>\n",
       "      <td>4</td>\n",
       "      <td>2024</td>\n",
       "      <td>0.98</td>\n",
       "      <td>1.07</td>\n",
       "      <td>1.13</td>\n",
       "      <td>0.95</td>\n",
       "      <td>0.93</td>\n",
       "      <td>1.02</td>\n",
       "      <td>1.09</td>\n",
       "      <td>1.09</td>\n",
       "      <td>...</td>\n",
       "      <td>1.04</td>\n",
       "      <td>0.97</td>\n",
       "      <td>0.96</td>\n",
       "      <td>0.98</td>\n",
       "      <td>1.04</td>\n",
       "      <td>NaN</td>\n",
       "      <td>NaN</td>\n",
       "      <td>NaN</td>\n",
       "      <td>NaN</td>\n",
       "      <td>1549</td>\n",
       "    </tr>\n",
       "    <tr>\n",
       "      <th>474407</th>\n",
       "      <td>5</td>\n",
       "      <td>2024</td>\n",
       "      <td>1.07</td>\n",
       "      <td>1.13</td>\n",
       "      <td>0.95</td>\n",
       "      <td>0.93</td>\n",
       "      <td>1.02</td>\n",
       "      <td>1.09</td>\n",
       "      <td>1.09</td>\n",
       "      <td>1.00</td>\n",
       "      <td>...</td>\n",
       "      <td>0.97</td>\n",
       "      <td>0.96</td>\n",
       "      <td>0.98</td>\n",
       "      <td>1.09</td>\n",
       "      <td>0.99</td>\n",
       "      <td>NaN</td>\n",
       "      <td>NaN</td>\n",
       "      <td>NaN</td>\n",
       "      <td>NaN</td>\n",
       "      <td>1549</td>\n",
       "    </tr>\n",
       "    <tr>\n",
       "      <th>474408</th>\n",
       "      <td>6</td>\n",
       "      <td>2024</td>\n",
       "      <td>1.13</td>\n",
       "      <td>0.95</td>\n",
       "      <td>0.93</td>\n",
       "      <td>1.02</td>\n",
       "      <td>1.09</td>\n",
       "      <td>1.09</td>\n",
       "      <td>1.00</td>\n",
       "      <td>1.04</td>\n",
       "      <td>...</td>\n",
       "      <td>0.96</td>\n",
       "      <td>0.98</td>\n",
       "      <td>0.98</td>\n",
       "      <td>1.04</td>\n",
       "      <td>NaN</td>\n",
       "      <td>NaN</td>\n",
       "      <td>NaN</td>\n",
       "      <td>NaN</td>\n",
       "      <td>NaN</td>\n",
       "      <td>1549</td>\n",
       "    </tr>\n",
       "    <tr>\n",
       "      <th>474409</th>\n",
       "      <td>7</td>\n",
       "      <td>2024</td>\n",
       "      <td>0.95</td>\n",
       "      <td>0.93</td>\n",
       "      <td>1.02</td>\n",
       "      <td>1.09</td>\n",
       "      <td>1.09</td>\n",
       "      <td>1.00</td>\n",
       "      <td>1.04</td>\n",
       "      <td>0.97</td>\n",
       "      <td>...</td>\n",
       "      <td>0.98</td>\n",
       "      <td>0.98</td>\n",
       "      <td>1.09</td>\n",
       "      <td>0.99</td>\n",
       "      <td>NaN</td>\n",
       "      <td>NaN</td>\n",
       "      <td>NaN</td>\n",
       "      <td>NaN</td>\n",
       "      <td>NaN</td>\n",
       "      <td>1549</td>\n",
       "    </tr>\n",
       "    <tr>\n",
       "      <th>474410</th>\n",
       "      <td>8</td>\n",
       "      <td>2024</td>\n",
       "      <td>0.93</td>\n",
       "      <td>1.02</td>\n",
       "      <td>1.09</td>\n",
       "      <td>1.09</td>\n",
       "      <td>1.00</td>\n",
       "      <td>1.04</td>\n",
       "      <td>0.97</td>\n",
       "      <td>0.96</td>\n",
       "      <td>...</td>\n",
       "      <td>0.98</td>\n",
       "      <td>1.09</td>\n",
       "      <td>1.04</td>\n",
       "      <td>NaN</td>\n",
       "      <td>NaN</td>\n",
       "      <td>NaN</td>\n",
       "      <td>NaN</td>\n",
       "      <td>NaN</td>\n",
       "      <td>NaN</td>\n",
       "      <td>1549</td>\n",
       "    </tr>\n",
       "  </tbody>\n",
       "</table>\n",
       "<p>19836 rows × 21 columns</p>\n",
       "</div>"
      ]
     },
     "execution_count": 680,
     "metadata": {},
     "output_type": "execute_result"
    }
   ],
   "execution_count": 680
  },
  {
   "metadata": {},
   "cell_type": "markdown",
   "source": "#### Train-Data",
   "id": "130a1b553b890c2b"
  },
  {
   "metadata": {
    "ExecuteTime": {
     "end_time": "2025-04-07T18:48:00.953484Z",
     "start_time": "2025-04-07T18:48:00.923642Z"
    }
   },
   "cell_type": "code",
   "source": [
    "importlib.reload(comparison)\n",
    "y_train_mean_pred_12m, y_test_mean_pred_12m = comparison.get_train_test_mean_pred(y_train_pred_12m, y_test_pred_12m, len(df.columns))"
   ],
   "id": "7dbda15b051b6071",
   "outputs": [],
   "execution_count": 683
  },
  {
   "metadata": {},
   "cell_type": "markdown",
   "source": "### 12 Months Actual vs Prediction",
   "id": "6c2e81220c2489a"
  },
  {
   "metadata": {
    "ExecuteTime": {
     "end_time": "2025-04-07T18:48:03.444251Z",
     "start_time": "2025-04-07T18:48:03.355770Z"
    }
   },
   "cell_type": "code",
   "source": [
    "importlib.reload(comparison)\n",
    "comparison.generate_plot(df, df_tabular, y_train_mean_pred_12m, y_test_mean_pred_12m)"
   ],
   "id": "fae7b2daecff5839",
   "outputs": [
    {
     "data": {
      "application/vnd.plotly.v1+json": {
       "data": [
        {
         "line": {
          "color": "#5c839f",
          "width": 2
         },
         "mode": "lines",
         "name": "Actual returns",
         "x": [
          "2000-10-01",
          "2000-11-01",
          "2000-12-01",
          "2001-01-01",
          "2001-02-01",
          "2001-03-01",
          "2001-04-01",
          "2001-05-01",
          "2001-06-01",
          "2001-07-01",
          "2001-08-01",
          "2001-09-01",
          "2001-10-01",
          "2001-11-01",
          "2001-12-01",
          "2002-01-01",
          "2002-02-01",
          "2002-03-01",
          "2002-04-01",
          "2002-05-01",
          "2002-06-01",
          "2002-07-01",
          "2002-08-01",
          "2002-09-01",
          "2002-10-01",
          "2002-11-01",
          "2002-12-01",
          "2003-01-01",
          "2003-02-01",
          "2003-03-01",
          "2003-04-01",
          "2003-05-01",
          "2003-06-01",
          "2003-07-01",
          "2003-08-01",
          "2003-09-01",
          "2003-10-01",
          "2003-11-01",
          "2003-12-01",
          "2004-01-01",
          "2004-02-01",
          "2004-03-01",
          "2004-04-01",
          "2004-05-01",
          "2004-06-01",
          "2004-07-01",
          "2004-08-01",
          "2004-09-01",
          "2004-10-01",
          "2004-11-01",
          "2004-12-01",
          "2005-01-01",
          "2005-02-01",
          "2005-03-01",
          "2005-04-01",
          "2005-05-01",
          "2005-06-01",
          "2005-07-01",
          "2005-08-01",
          "2005-09-01",
          "2005-10-01",
          "2005-11-01",
          "2005-12-01",
          "2006-01-01",
          "2006-02-01",
          "2006-03-01",
          "2006-04-01",
          "2006-05-01",
          "2006-06-01",
          "2006-07-01",
          "2006-08-01",
          "2006-09-01",
          "2006-10-01",
          "2006-11-01",
          "2006-12-01",
          "2007-01-01",
          "2007-02-01",
          "2007-03-01",
          "2007-04-01",
          "2007-05-01",
          "2007-06-01",
          "2007-07-01",
          "2007-08-01",
          "2007-09-01",
          "2007-10-01",
          "2007-11-01",
          "2007-12-01",
          "2008-01-01",
          "2008-02-01",
          "2008-03-01",
          "2008-04-01",
          "2008-05-01",
          "2008-06-01",
          "2008-07-01",
          "2008-08-01",
          "2008-09-01",
          "2008-10-01",
          "2008-11-01",
          "2008-12-01",
          "2009-01-01",
          "2009-02-01",
          "2009-03-01",
          "2009-04-01",
          "2009-05-01",
          "2009-06-01",
          "2009-07-01",
          "2009-08-01",
          "2009-09-01",
          "2009-10-01",
          "2009-11-01",
          "2009-12-01",
          "2010-01-01",
          "2010-02-01",
          "2010-03-01",
          "2010-04-01",
          "2010-05-01",
          "2010-06-01",
          "2010-07-01",
          "2010-08-01",
          "2010-09-01",
          "2010-10-01",
          "2010-11-01",
          "2010-12-01",
          "2011-01-01",
          "2011-02-01",
          "2011-03-01",
          "2011-04-01",
          "2011-05-01",
          "2011-06-01",
          "2011-07-01",
          "2011-08-01",
          "2011-09-01",
          "2011-10-01",
          "2011-11-01",
          "2011-12-01",
          "2012-01-01",
          "2012-02-01",
          "2012-03-01",
          "2012-04-01",
          "2012-05-01",
          "2012-06-01",
          "2012-07-01",
          "2012-08-01",
          "2012-09-01",
          "2012-10-01",
          "2012-11-01",
          "2012-12-01",
          "2013-01-01",
          "2013-02-01",
          "2013-03-01",
          "2013-04-01",
          "2013-05-01",
          "2013-06-01",
          "2013-07-01",
          "2013-08-01",
          "2013-09-01",
          "2013-10-01",
          "2013-11-01",
          "2013-12-01",
          "2014-01-01",
          "2014-02-01",
          "2014-03-01",
          "2014-04-01",
          "2014-05-01",
          "2014-06-01",
          "2014-07-01",
          "2014-08-01",
          "2014-09-01",
          "2014-10-01",
          "2014-11-01",
          "2014-12-01",
          "2015-01-01",
          "2015-02-01",
          "2015-03-01",
          "2015-04-01",
          "2015-05-01",
          "2015-06-01",
          "2015-07-01",
          "2015-08-01",
          "2015-09-01",
          "2015-10-01",
          "2015-11-01",
          "2015-12-01",
          "2016-01-01",
          "2016-02-01",
          "2016-03-01",
          "2016-04-01",
          "2016-05-01",
          "2016-06-01",
          "2016-07-01",
          "2016-08-01",
          "2016-09-01",
          "2016-10-01",
          "2016-11-01",
          "2016-12-01",
          "2017-01-01",
          "2017-02-01",
          "2017-03-01",
          "2017-04-01",
          "2017-05-01",
          "2017-06-01",
          "2017-07-01",
          "2017-08-01",
          "2017-09-01",
          "2017-10-01",
          "2017-11-01",
          "2017-12-01",
          "2018-01-01",
          "2018-02-01",
          "2018-03-01",
          "2018-04-01",
          "2018-05-01",
          "2018-06-01",
          "2018-07-01",
          "2018-08-01",
          "2018-09-01",
          "2018-10-01",
          "2018-11-01",
          "2018-12-01",
          "2019-01-01",
          "2019-02-01",
          "2019-03-01",
          "2019-04-01",
          "2019-05-01",
          "2019-06-01",
          "2019-07-01",
          "2019-08-01",
          "2019-09-01",
          "2019-10-01",
          "2019-11-01",
          "2019-12-01",
          "2020-01-01",
          "2020-02-01",
          "2020-03-01",
          "2020-04-01",
          "2020-05-01",
          "2020-06-01",
          "2020-07-01",
          "2020-08-01",
          "2020-09-01",
          "2020-10-01",
          "2020-11-01",
          "2020-12-01",
          "2021-01-01",
          "2021-02-01",
          "2021-03-01",
          "2021-04-01",
          "2021-05-01",
          "2021-06-01",
          "2021-07-01",
          "2021-08-01",
          "2021-09-01",
          "2021-10-01",
          "2021-11-01",
          "2021-12-01",
          "2022-01-01",
          "2022-02-01",
          "2022-03-01",
          "2022-04-01",
          "2022-05-01",
          "2022-06-01",
          "2022-07-01",
          "2022-08-01",
          "2022-09-01",
          "2022-10-01",
          "2022-11-01",
          "2022-12-01",
          "2023-01-01",
          "2023-02-01",
          "2023-03-01",
          "2023-04-01",
          "2023-05-01",
          "2023-06-01",
          "2023-07-01",
          "2023-08-01",
          "2023-09-01",
          "2023-10-01",
          "2023-11-01",
          "2023-12-01",
          "2024-01-01",
          "2024-02-01",
          "2024-03-01",
          "2024-04-01",
          "2024-05-01",
          "2024-06-01",
          "2024-07-01",
          "2024-08-01"
         ],
         "y": [
          null,
          1.0255474894131882,
          1.0338354506957046,
          0.9928735632183908,
          5.930568663036903,
          1.02524500907441,
          0.9939624924379915,
          0.9817483363581366,
          1.0329461584996975,
          0.9952389594676346,
          1.027350272232305,
          0.9906291591046583,
          0.9893103448275862,
          0.9717422867513611,
          1.0094071385359953,
          1.0391651542649727,
          0.9689776164549303,
          0.9847489413188143,
          1.0655414398064127,
          1.0118451300665456,
          0.9984392014519057,
          0.9735087719298245,
          0.9690865093768906,
          0.9132849364791288,
          1.0499274047186933,
          1.050798548094374,
          1.0158620689655173,
          0.9939322444041138,
          1.0093103448275862,
          1.050725952813067,
          1.007102238354507,
          1.0027646702964308,
          0.9519721718088325,
          0.9418874773139746,
          0.9874833635813671,
          0.9568905021173624,
          1.0078644888082275,
          1.0582516636418633,
          0.9664125831820932,
          0.9890199637023595,
          1.0055716878402905,
          0.9959830611010285,
          1.0599516031457954,
          1.0670054446460981,
          1.034162129461585,
          1.508451300665457,
          1.0614277071990321,
          1.0038233514821537,
          1.0498003629764066,
          1.0042286751361162,
          1.015849969751966,
          1.0305263157894737,
          1.0141560798548095,
          1.0468421052631578,
          1.0040834845735027,
          0.992474289171204,
          1.0346218995765275,
          0.9633877797943133,
          0.9934119782214157,
          1.0055535390199637,
          1.0005565638233516,
          1.0293163944343617,
          1.053762855414398,
          1.00643073200242,
          1.0203811252268602,
          0.9955595886267392,
          0.9733030852994556,
          1.033145795523291,
          1.0216817906836055,
          1.0358136721113127,
          0.9993042952208105,
          1.1286509376890503,
          1.0726013309134907,
          3.2130248033877797,
          1.0215607985480943,
          1.0408166969147006,
          1.0128917120387175,
          1.027501512401694,
          1.0092075015124016,
          0.9686267392619479,
          0.9991833030852995,
          0.9856866303690262,
          1.0248820326678767,
          1.0297519661222019,
          1.0213853599516032,
          1.0188808227465216,
          1.027979431336963,
          1.0368723532970356,
          1.0044404113732608,
          1.0015849969751967,
          1.0188082274652148,
          1.0226194797338173,
          0.9885843920145191,
          0.9759286146400484,
          0.9907501512401694,
          1.002474289171204,
          1.0255172413793103,
          0.9479370840895343,
          0.9907743496672716,
          0.9420447670901392,
          0.9907199032062917,
          0.9868784029038112,
          1.0311494252873565,
          1.02318814277072,
          0.9375620084694495,
          0.9950090744101633,
          1.0215789473684211,
          0.9273018753781004,
          0.8458197217180883,
          0.9447489413188144,
          1.0413006654567454,
          0.9497701149425287,
          0.9416515426497277,
          1.0697580157289777,
          1.1476164549304295,
          1.0432909860859043,
          1.0350211736237145,
          1.0623895946763462,
          1.0552026618269812,
          1.0322746521476103,
          0.9779915305505141,
          1.0015910465819722,
          1.0513793103448277,
          0.9896067755595885,
          1.0185541439806414,
          1.0590381125226862,
          1.0449969751966124,
          0.9456261343012704,
          0.9619419237749547,
          1.0388626739261946,
          0.9645856019358742,
          1.0696067755595886,
          1.0163883847549908,
          1.0275862068965518,
          1.0584029038112523,
          1.0119782214156081,
          1.0324803387779795,
          1.0016031457955235,
          1.0198850574712643,
          0.9949969751966122,
          0.9972353297035693,
          0.9830429522081064,
          0.9474712643678161,
          0.9529824561403508,
          1.0689231699939505,
          0.9843375680580763,
          1.0002540834845735,
          1.0593768905021175,
          1.0995402298850574,
          1.026303690260133,
          0.9927465214761042,
          0.9427586206896552,
          1.0300241984271024,
          0.9957652752571083,
          1.0196672716273443,
          1.0171506352087114,
          1.0012038717483362,
          1.0166848154869934,
          1.0311736237144584,
          1.0607924984875983,
          1.0218390804597701,
          1.0406836055656383,
          1.0333696309739866,
          1.01821536600121,
          0.990508166969147,
          1.0369933454325468,
          0.98346037507562,
          1.0512159709618873,
          1.0213430127041743,
          1.0239806412583181,
          1.022280701754386,
          0.9877434966727164,
          1.0288626739261948,
          1.0008287961282516,
          0.9851845130066547,
          1.0161161524500906,
          1.0306473079249847,
          0.9871445856019359,
          1.026745311554749,
          0.989491833030853,
          1.0253115547489413,
          1.04167574107683,
          1.0141681790683605,
          1.0019419237749547,
          1.0444585601935874,
          1.0097459165154263,
          1.000411373260738,
          1.0252087114337567,
          0.9903266787658802,
          1.012788868723533,
          0.9586448880822745,
          0.9679854809437386,
          1.0623411978221418,
          1.0190018148820326,
          0.9822928009679371,
          0.9491107078039926,
          0.9993587416817907,
          1.0566122202056867,
          1.0004355716878404,
          1.0214095583787053,
          0.9709074410163339,
          1.0535813672111312,
          1.0110102843315183,
          1.0043375680580762,
          0.9848154869933453,
          1.0514337568058076,
          1.0315486993345433,
          1.0146581972171809,
          1.0218451300665456,
          1.009751966122202,
          1.0155958862673926,
          1.0126678765880217,
          1.0131215970961889,
          1.0135692679975803,
          1.0033877797943134,
          1.0308892921960073,
          1.0195220810647307,
          1.0232244404113733,
          1.0114458560193589,
          1.023817301875378,
          0.974422262552934,
          0.996636418632789,
          1.0194797338173018,
          1.0263641863278887,
          1.0086327888687234,
          1.0175922565033273,
          1.0217725347852389,
          0.9907501512401694,
          0.9365880217785845,
          1.0115124016938897,
          0.9133272837265578,
          1.0914398064125832,
          1.0367513611615244,
          1.004137931034483,
          1.043049001814882,
          0.940822746521476,
          1.0453539019963702,
          1.0221234119782214,
          0.9704476709013913,
          1.0369449485783424,
          1.0294797338173018,
          1.0347307924984874,
          1.0268058076225044,
          0.9897519661222022,
          0.9099153055051422,
          0.8183847549909256,
          1.1260314579552329,
          1.072552934059286,
          1.0304174228675136,
          1.0225710828796128,
          1.0605565638233514,
          0.9945130066545675,
          0.9923290986085905,
          1.1583847549909256,
          1.0579612825166365,
          1.0404839685420448,
          1.053793103448276,
          1.0589292196007258,
          1.037652752571083,
          1.0213430127041743,
          1.0207562008469449,
          1.0036418632788868,
          1.025287356321839,
          0.9864851784633998,
          1.0300241984271024,
          0.969933454325469,
          1.0402117362371448,
          0.9256805807622505,
          0.9876830006049606,
          1.003230490018149,
          0.9446763460375075,
          1.0007199032062917,
          0.9249425287356322,
          1.0904295220810647,
          0.9692982456140351,
          0.901373260738052,
          1.0810284331518452,
          1.0552994555353903,
          0.9577374470659408,
          1.0973321234119784,
          0.9889957652752571,
          0.979933454325469,
          1.001318814277072,
          0.9908832425892315,
          1.0624803387779795,
          1.0433393829401088,
          0.9686206896551725,
          0.95978221415608,
          0.9421113127646703,
          1.0877132486388386,
          1.079328493647913,
          0.9853962492437992,
          1.0741379310344827,
          1.0276285541439807,
          0.9559709618874773,
          1.0341621294615853,
          0.9932425892317,
          1.0552510586811856,
          0.9971990320629158,
          0.9666787658802178
         ],
         "type": "scatter"
        },
        {
         "line": {
          "color": "red",
          "width": 2
         },
         "mode": "lines",
         "name": "Train returns",
         "x": [
          "2000-10-01",
          "2000-11-01",
          "2000-12-01",
          "2001-01-01",
          "2001-02-01",
          "2001-03-01",
          "2001-04-01",
          "2001-05-01",
          "2001-06-01",
          "2001-07-01",
          "2001-08-01",
          "2001-09-01",
          "2001-10-01",
          "2001-11-01",
          "2001-12-01",
          "2002-01-01",
          "2002-02-01",
          "2002-03-01",
          "2002-04-01",
          "2002-05-01",
          "2002-06-01",
          "2002-07-01",
          "2002-08-01",
          "2002-09-01",
          "2002-10-01",
          "2002-11-01",
          "2002-12-01",
          "2003-01-01",
          "2003-02-01",
          "2003-03-01",
          "2003-04-01",
          "2003-05-01",
          "2003-06-01",
          "2003-07-01",
          "2003-08-01",
          "2003-09-01",
          "2003-10-01",
          "2003-11-01",
          "2003-12-01",
          "2004-01-01",
          "2004-02-01",
          "2004-03-01",
          "2004-04-01",
          "2004-05-01",
          "2004-06-01",
          "2004-07-01",
          "2004-08-01",
          "2004-09-01",
          "2004-10-01",
          "2004-11-01",
          "2004-12-01",
          "2005-01-01",
          "2005-02-01",
          "2005-03-01",
          "2005-04-01",
          "2005-05-01",
          "2005-06-01",
          "2005-07-01",
          "2005-08-01",
          "2005-09-01",
          "2005-10-01",
          "2005-11-01",
          "2005-12-01",
          "2006-01-01",
          "2006-02-01",
          "2006-03-01",
          "2006-04-01",
          "2006-05-01",
          "2006-06-01",
          "2006-07-01",
          "2006-08-01",
          "2006-09-01",
          "2006-10-01",
          "2006-11-01",
          "2006-12-01",
          "2007-01-01",
          "2007-02-01",
          "2007-03-01",
          "2007-04-01",
          "2007-05-01",
          "2007-06-01",
          "2007-07-01",
          "2007-08-01",
          "2007-09-01",
          "2007-10-01",
          "2007-11-01",
          "2007-12-01",
          "2008-01-01",
          "2008-02-01",
          "2008-03-01",
          "2008-04-01",
          "2008-05-01",
          "2008-06-01",
          "2008-07-01",
          "2008-08-01",
          "2008-09-01",
          "2008-10-01",
          "2008-11-01",
          "2008-12-01",
          "2009-01-01",
          "2009-02-01",
          "2009-03-01",
          "2009-04-01",
          "2009-05-01",
          "2009-06-01",
          "2009-07-01",
          "2009-08-01",
          "2009-09-01",
          "2009-10-01",
          "2009-11-01",
          "2009-12-01",
          "2010-01-01",
          "2010-02-01",
          "2010-03-01",
          "2010-04-01",
          "2010-05-01",
          "2010-06-01",
          "2010-07-01",
          "2010-08-01",
          "2010-09-01",
          "2010-10-01",
          "2010-11-01",
          "2010-12-01",
          "2011-01-01",
          "2011-02-01",
          "2011-03-01",
          "2011-04-01",
          "2011-05-01",
          "2011-06-01",
          "2011-07-01",
          "2011-08-01",
          "2011-09-01",
          "2011-10-01",
          "2011-11-01",
          "2011-12-01",
          "2012-01-01",
          "2012-02-01",
          "2012-03-01",
          "2012-04-01",
          "2012-05-01",
          "2012-06-01",
          "2012-07-01",
          "2012-08-01",
          "2012-09-01",
          "2012-10-01",
          "2012-11-01",
          "2012-12-01",
          "2013-01-01",
          "2013-02-01",
          "2013-03-01",
          "2013-04-01",
          "2013-05-01",
          "2013-06-01",
          "2013-07-01",
          "2013-08-01",
          "2013-09-01",
          "2013-10-01",
          "2013-11-01",
          "2013-12-01",
          "2014-01-01",
          "2014-02-01",
          "2014-03-01",
          "2014-04-01",
          "2014-05-01",
          "2014-06-01",
          "2014-07-01",
          "2014-08-01",
          "2014-09-01",
          "2014-10-01",
          "2014-11-01",
          "2014-12-01",
          "2015-01-01",
          "2015-02-01",
          "2015-03-01",
          "2015-04-01",
          "2015-05-01",
          "2015-06-01",
          "2015-07-01",
          "2015-08-01",
          "2015-09-01",
          "2015-10-01",
          "2015-11-01",
          "2015-12-01",
          "2016-01-01",
          "2016-02-01",
          "2016-03-01",
          "2016-04-01",
          "2016-05-01",
          "2016-06-01",
          "2016-07-01",
          "2016-08-01",
          "2016-09-01",
          "2016-10-01",
          "2016-11-01",
          "2016-12-01",
          "2017-01-01",
          "2017-02-01",
          "2017-03-01",
          "2017-04-01",
          "2017-05-01",
          "2017-06-01",
          "2017-07-01",
          "2017-08-01",
          "2017-09-01",
          "2017-10-01",
          "2017-11-01",
          "2017-12-01",
          "2018-01-01",
          "2018-02-01",
          "2018-03-01",
          "2018-04-01",
          "2018-05-01",
          "2018-06-01",
          "2018-07-01",
          "2018-08-01",
          "2018-09-01",
          "2018-10-01",
          "2018-11-01",
          "2018-12-01",
          "2019-01-01",
          "2019-02-01",
          "2019-03-01",
          "2019-04-01",
          "2019-05-01",
          "2019-06-01",
          "2019-07-01",
          "2019-08-01",
          "2019-09-01",
          "2019-10-01",
          "2019-11-01",
          "2019-12-01",
          "2020-01-01",
          "2020-02-01",
          "2020-03-01",
          "2020-04-01",
          "2020-05-01",
          "2020-06-01",
          "2020-07-01",
          "2020-08-01",
          "2020-09-01",
          "2020-10-01",
          "2020-11-01",
          "2020-12-01",
          "2021-01-01",
          "2021-02-01",
          "2021-03-01",
          "2021-04-01",
          "2021-05-01",
          "2021-06-01",
          "2021-07-01",
          "2021-08-01",
          "2021-09-01",
          "2021-10-01",
          "2021-11-01",
          "2021-12-01",
          "2022-01-01",
          "2022-02-01",
          "2022-03-01",
          "2022-04-01",
          "2022-05-01",
          "2022-06-01",
          "2022-07-01",
          "2022-08-01",
          "2022-09-01",
          "2022-10-01",
          "2022-11-01",
          "2022-12-01",
          "2023-01-01",
          "2023-02-01",
          "2023-03-01",
          "2023-04-01",
          "2023-05-01",
          "2023-06-01",
          "2023-07-01",
          "2023-08-01"
         ],
         "y": [
          1.0060440301895142,
          1.0109705924987793,
          1.0078686475753784,
          1.0135667324066162,
          1.012737512588501,
          1.008853554725647,
          1.0096338987350464,
          1.0105831623077393,
          1.0085519552230835,
          1.0085539817810059,
          1.0105359554290771,
          1.0083709955215454,
          1.0084633827209473,
          1.0084919929504395,
          1.0058573484420776,
          1.009567379951477,
          1.0135563611984253,
          1.0083633661270142,
          1.009165644645691,
          1.007607102394104,
          1.0098055601119995,
          1.0101583003997803,
          1.0084458589553833,
          1.0058671236038208,
          1.0135747194290161,
          1.010293960571289,
          1.0118714570999146,
          1.0109392404556274,
          1.0090346336364746,
          1.0085549354553223,
          1.012102484703064,
          1.0100549459457397,
          1.0090386867523193,
          1.0090209245681763,
          1.0115116834640503,
          1.0075007677078247,
          1.0057547092437744,
          1.0183724164962769,
          1.008191466331482,
          1.0165977478027344,
          1.010176420211792,
          1.009498119354248,
          1.0139729976654053,
          1.0133839845657349,
          1.007712483406067,
          1.0138005018234253,
          1.0069774389266968,
          1.0089548826217651,
          1.008832573890686,
          1.011521339416504,
          1.0118343830108643,
          1.0056041479110718,
          1.0124262571334839,
          1.0119752883911133,
          1.009584665298462,
          1.0079395771026611,
          1.0065358877182007,
          1.006961464881897,
          1.0089975595474243,
          3.6266837120056152,
          1.0119332075119019,
          1.0105220079421997,
          1.0080065727233887,
          1.0059441328048706,
          1.0088469982147217,
          1.017234444618225,
          1.0124621391296387,
          1.008332371711731,
          1.011580228805542,
          1.0099079608917236,
          1.0092929601669312,
          1.0108047723770142,
          1.0101962089538574,
          1.0253231525421143,
          1.0146825313568115,
          1.006821870803833,
          1.0087281465530396,
          1.0074560642242432,
          1.009390950202942,
          1.012825846672058,
          1.00802743434906,
          1.0093785524368286,
          1.007336974143982,
          1.00978684425354,
          1.0142923593521118,
          1.0084468126296997,
          1.013419508934021,
          1.0098248720169067,
          1.0109151601791382,
          1.011649489402771,
          1.0101944208145142,
          1.0084912776947021,
          1.0095478296279907,
          1.0084666013717651,
          1.0046072006225586,
          1.0073204040527344,
          1.006798267364502,
          1.011215090751648,
          1.0090079307556152,
          1.0116583108901978,
          1.0118519067764282,
          1.0122946500778198,
          1.0069881677627563,
          1.0151175260543823,
          1.0058916807174683,
          1.0071556568145752,
          1.0051904916763306,
          1.0091418027877808,
          1.0146855115890503,
          1.0084115266799927,
          1.0063968896865845,
          1.0106397867202759,
          1.0100585222244263,
          1.0077062845230103,
          1.0083776712417603,
          1.008655309677124,
          1.0232230424880981,
          1.0091118812561035,
          1.0101597309112549,
          1.0127471685409546,
          1.0110790729522705,
          1.0104997158050537,
          1.008732795715332,
          1.0079998970031738,
          1.009979248046875,
          1.0063481330871582,
          1.0079329013824463,
          1.0076744556427002,
          1.0091369152069092,
          1.0097630023956299,
          1.0107308626174927,
          1.008495569229126,
          1.011287808418274,
          1.0074392557144165,
          1.0123220682144165,
          1.0145759582519531,
          1.0115000009536743,
          1.0100418329238892,
          1.010890007019043,
          1.0128027200698853,
          1.0976039171218872,
          1.0088732242584229,
          1.0090796947479248,
          1.0122628211975098,
          1.01413094997406,
          1.0110161304473877,
          1.0063875913619995,
          1.0086452960968018,
          1.0109915733337402,
          1.0209360122680664,
          1.0270936489105225,
          1.012000322341919,
          1.0059343576431274,
          1.0073788166046143,
          0.9506846070289612,
          1.002565622329712,
          1.0112353563308716,
          1.0068297386169434,
          1.0059928894042969,
          1.0107485055923462,
          1.0086429119110107,
          1.0077285766601562,
          1.010206699371338,
          1.010719895362854,
          1.0086982250213623,
          1.0081170797348022,
          1.011707067489624,
          1.0089032649993896,
          1.013508915901184,
          1.0097954273223877,
          1.0045132637023926,
          1.0067882537841797,
          1.0098692178726196,
          1.0126657485961914,
          1.0131006240844727,
          1.0142780542373657,
          1.0121126174926758,
          1.008867621421814,
          1.0116056203842163,
          1.0121649503707886,
          1.0063060522079468,
          1.0118879079818726,
          1.0063203573226929,
          1.0095280408859253,
          1.0118129253387451,
          1.0148283243179321,
          1.010416030883789,
          1.0143507719039917,
          1.0109328031539917,
          1.0121564865112305,
          1.0044394731521606,
          1.0110539197921753,
          1.0078442096710205,
          1.0078577995300293,
          1.1135776042938232,
          1.0089828968048096,
          1.0071603059768677,
          1.016647458076477,
          3.0983245372772217,
          1.009521245956421,
          1.0106943845748901,
          1.0062222480773926,
          1.009606122970581,
          1.0070786476135254,
          1.0169111490249634,
          1.0074657201766968,
          1.0078210830688477,
          1.0145301818847656,
          1.005968451499939,
          1.0074998140335083,
          1.01242995262146,
          1.0063518285751343,
          1.017321228981018,
          1.008689045906067,
          1.0107479095458984,
          1.0129674673080444,
          1.0124281644821167,
          1.004475712776184,
          1.0121188163757324,
          1.00661039352417,
          1.0125714540481567,
          1.0069081783294678,
          1.0078595876693726,
          1.0069727897644043,
          1.0090141296386719,
          1.0066825151443481,
          1.0062320232391357,
          1.0096153020858765,
          1.0086005926132202,
          1.0075876712799072,
          1.0070098638534546,
          1.013824462890625,
          1.0083249807357788,
          1.0080410242080688,
          1.0072797536849976,
          1.0089833736419678,
          1.0073837041854858,
          1.0085279941558838,
          1.0048445463180542,
          1.0100843906402588,
          1.0088481903076172,
          1.0161120891571045,
          1.0112296342849731,
          1.0102686882019043,
          1.008512258529663,
          1.0072414875030518,
          1.0106422901153564,
          1.0074987411499023,
          1.0127183198928833,
          1.0143241882324219,
          1.0092865228652954,
          1.0071568489074707,
          1.007974624633789,
          1.0106185674667358,
          1.0068283081054688,
          1.0176392793655396,
          1.0296740531921387,
          1.0110136270523071,
          1.0085817575454712,
          1.008656620979309,
          1.0057591199874878,
          1.0057499408721924,
          1.0087263584136963,
          1.0102834701538086,
          1.0073070526123047,
          1.0164827108383179,
          1.0104039907455444,
          1.0089190006256104,
          1.0144495964050293,
          1.0150588750839233,
          1.0146657228469849,
          1.0170824527740479,
          1.0117113590240479,
          1.0062321424484253,
          1.0115033388137817
         ],
         "type": "scatter"
        },
        {
         "line": {
          "color": "green",
          "width": 2
         },
         "mode": "lines",
         "name": "Test returns",
         "x": [
          "2023-08-01",
          "2023-09-01",
          "2023-10-01",
          "2023-11-01",
          "2023-12-01",
          "2024-01-01",
          "2024-02-01",
          "2024-03-01",
          "2024-04-01",
          "2024-05-01",
          "2024-06-01",
          "2024-07-01",
          "2024-08-01"
         ],
         "y": [
          1.0115033388137817,
          1.4548286199569702,
          1.4570567607879639,
          1.4792226552963257,
          1.4560363292694092,
          1.4834885597229004,
          1.490082859992981,
          1.4688928127288818,
          1.5048408508300781,
          1.5148431062698364,
          1.4741790294647217,
          1.4815785884857178,
          1.4913944005966187
         ],
         "type": "scatter"
        }
       ],
       "layout": {
        "template": {
         "data": {
          "barpolar": [
           {
            "marker": {
             "line": {
              "color": "white",
              "width": 0.5
             },
             "pattern": {
              "fillmode": "overlay",
              "size": 10,
              "solidity": 0.2
             }
            },
            "type": "barpolar"
           }
          ],
          "bar": [
           {
            "error_x": {
             "color": "#2a3f5f"
            },
            "error_y": {
             "color": "#2a3f5f"
            },
            "marker": {
             "line": {
              "color": "white",
              "width": 0.5
             },
             "pattern": {
              "fillmode": "overlay",
              "size": 10,
              "solidity": 0.2
             }
            },
            "type": "bar"
           }
          ],
          "carpet": [
           {
            "aaxis": {
             "endlinecolor": "#2a3f5f",
             "gridcolor": "#C8D4E3",
             "linecolor": "#C8D4E3",
             "minorgridcolor": "#C8D4E3",
             "startlinecolor": "#2a3f5f"
            },
            "baxis": {
             "endlinecolor": "#2a3f5f",
             "gridcolor": "#C8D4E3",
             "linecolor": "#C8D4E3",
             "minorgridcolor": "#C8D4E3",
             "startlinecolor": "#2a3f5f"
            },
            "type": "carpet"
           }
          ],
          "choropleth": [
           {
            "colorbar": {
             "outlinewidth": 0,
             "ticks": ""
            },
            "type": "choropleth"
           }
          ],
          "contourcarpet": [
           {
            "colorbar": {
             "outlinewidth": 0,
             "ticks": ""
            },
            "type": "contourcarpet"
           }
          ],
          "contour": [
           {
            "colorbar": {
             "outlinewidth": 0,
             "ticks": ""
            },
            "colorscale": [
             [
              0.0,
              "#0d0887"
             ],
             [
              0.1111111111111111,
              "#46039f"
             ],
             [
              0.2222222222222222,
              "#7201a8"
             ],
             [
              0.3333333333333333,
              "#9c179e"
             ],
             [
              0.4444444444444444,
              "#bd3786"
             ],
             [
              0.5555555555555556,
              "#d8576b"
             ],
             [
              0.6666666666666666,
              "#ed7953"
             ],
             [
              0.7777777777777778,
              "#fb9f3a"
             ],
             [
              0.8888888888888888,
              "#fdca26"
             ],
             [
              1.0,
              "#f0f921"
             ]
            ],
            "type": "contour"
           }
          ],
          "heatmapgl": [
           {
            "colorbar": {
             "outlinewidth": 0,
             "ticks": ""
            },
            "colorscale": [
             [
              0.0,
              "#0d0887"
             ],
             [
              0.1111111111111111,
              "#46039f"
             ],
             [
              0.2222222222222222,
              "#7201a8"
             ],
             [
              0.3333333333333333,
              "#9c179e"
             ],
             [
              0.4444444444444444,
              "#bd3786"
             ],
             [
              0.5555555555555556,
              "#d8576b"
             ],
             [
              0.6666666666666666,
              "#ed7953"
             ],
             [
              0.7777777777777778,
              "#fb9f3a"
             ],
             [
              0.8888888888888888,
              "#fdca26"
             ],
             [
              1.0,
              "#f0f921"
             ]
            ],
            "type": "heatmapgl"
           }
          ],
          "heatmap": [
           {
            "colorbar": {
             "outlinewidth": 0,
             "ticks": ""
            },
            "colorscale": [
             [
              0.0,
              "#0d0887"
             ],
             [
              0.1111111111111111,
              "#46039f"
             ],
             [
              0.2222222222222222,
              "#7201a8"
             ],
             [
              0.3333333333333333,
              "#9c179e"
             ],
             [
              0.4444444444444444,
              "#bd3786"
             ],
             [
              0.5555555555555556,
              "#d8576b"
             ],
             [
              0.6666666666666666,
              "#ed7953"
             ],
             [
              0.7777777777777778,
              "#fb9f3a"
             ],
             [
              0.8888888888888888,
              "#fdca26"
             ],
             [
              1.0,
              "#f0f921"
             ]
            ],
            "type": "heatmap"
           }
          ],
          "histogram2dcontour": [
           {
            "colorbar": {
             "outlinewidth": 0,
             "ticks": ""
            },
            "colorscale": [
             [
              0.0,
              "#0d0887"
             ],
             [
              0.1111111111111111,
              "#46039f"
             ],
             [
              0.2222222222222222,
              "#7201a8"
             ],
             [
              0.3333333333333333,
              "#9c179e"
             ],
             [
              0.4444444444444444,
              "#bd3786"
             ],
             [
              0.5555555555555556,
              "#d8576b"
             ],
             [
              0.6666666666666666,
              "#ed7953"
             ],
             [
              0.7777777777777778,
              "#fb9f3a"
             ],
             [
              0.8888888888888888,
              "#fdca26"
             ],
             [
              1.0,
              "#f0f921"
             ]
            ],
            "type": "histogram2dcontour"
           }
          ],
          "histogram2d": [
           {
            "colorbar": {
             "outlinewidth": 0,
             "ticks": ""
            },
            "colorscale": [
             [
              0.0,
              "#0d0887"
             ],
             [
              0.1111111111111111,
              "#46039f"
             ],
             [
              0.2222222222222222,
              "#7201a8"
             ],
             [
              0.3333333333333333,
              "#9c179e"
             ],
             [
              0.4444444444444444,
              "#bd3786"
             ],
             [
              0.5555555555555556,
              "#d8576b"
             ],
             [
              0.6666666666666666,
              "#ed7953"
             ],
             [
              0.7777777777777778,
              "#fb9f3a"
             ],
             [
              0.8888888888888888,
              "#fdca26"
             ],
             [
              1.0,
              "#f0f921"
             ]
            ],
            "type": "histogram2d"
           }
          ],
          "histogram": [
           {
            "marker": {
             "pattern": {
              "fillmode": "overlay",
              "size": 10,
              "solidity": 0.2
             }
            },
            "type": "histogram"
           }
          ],
          "mesh3d": [
           {
            "colorbar": {
             "outlinewidth": 0,
             "ticks": ""
            },
            "type": "mesh3d"
           }
          ],
          "parcoords": [
           {
            "line": {
             "colorbar": {
              "outlinewidth": 0,
              "ticks": ""
             }
            },
            "type": "parcoords"
           }
          ],
          "pie": [
           {
            "automargin": true,
            "type": "pie"
           }
          ],
          "scatter3d": [
           {
            "line": {
             "colorbar": {
              "outlinewidth": 0,
              "ticks": ""
             }
            },
            "marker": {
             "colorbar": {
              "outlinewidth": 0,
              "ticks": ""
             }
            },
            "type": "scatter3d"
           }
          ],
          "scattercarpet": [
           {
            "marker": {
             "colorbar": {
              "outlinewidth": 0,
              "ticks": ""
             }
            },
            "type": "scattercarpet"
           }
          ],
          "scattergeo": [
           {
            "marker": {
             "colorbar": {
              "outlinewidth": 0,
              "ticks": ""
             }
            },
            "type": "scattergeo"
           }
          ],
          "scattergl": [
           {
            "marker": {
             "colorbar": {
              "outlinewidth": 0,
              "ticks": ""
             }
            },
            "type": "scattergl"
           }
          ],
          "scattermapbox": [
           {
            "marker": {
             "colorbar": {
              "outlinewidth": 0,
              "ticks": ""
             }
            },
            "type": "scattermapbox"
           }
          ],
          "scatterpolargl": [
           {
            "marker": {
             "colorbar": {
              "outlinewidth": 0,
              "ticks": ""
             }
            },
            "type": "scatterpolargl"
           }
          ],
          "scatterpolar": [
           {
            "marker": {
             "colorbar": {
              "outlinewidth": 0,
              "ticks": ""
             }
            },
            "type": "scatterpolar"
           }
          ],
          "scatter": [
           {
            "fillpattern": {
             "fillmode": "overlay",
             "size": 10,
             "solidity": 0.2
            },
            "type": "scatter"
           }
          ],
          "scatterternary": [
           {
            "marker": {
             "colorbar": {
              "outlinewidth": 0,
              "ticks": ""
             }
            },
            "type": "scatterternary"
           }
          ],
          "surface": [
           {
            "colorbar": {
             "outlinewidth": 0,
             "ticks": ""
            },
            "colorscale": [
             [
              0.0,
              "#0d0887"
             ],
             [
              0.1111111111111111,
              "#46039f"
             ],
             [
              0.2222222222222222,
              "#7201a8"
             ],
             [
              0.3333333333333333,
              "#9c179e"
             ],
             [
              0.4444444444444444,
              "#bd3786"
             ],
             [
              0.5555555555555556,
              "#d8576b"
             ],
             [
              0.6666666666666666,
              "#ed7953"
             ],
             [
              0.7777777777777778,
              "#fb9f3a"
             ],
             [
              0.8888888888888888,
              "#fdca26"
             ],
             [
              1.0,
              "#f0f921"
             ]
            ],
            "type": "surface"
           }
          ],
          "table": [
           {
            "cells": {
             "fill": {
              "color": "#EBF0F8"
             },
             "line": {
              "color": "white"
             }
            },
            "header": {
             "fill": {
              "color": "#C8D4E3"
             },
             "line": {
              "color": "white"
             }
            },
            "type": "table"
           }
          ]
         },
         "layout": {
          "annotationdefaults": {
           "arrowcolor": "#2a3f5f",
           "arrowhead": 0,
           "arrowwidth": 1
          },
          "autotypenumbers": "strict",
          "coloraxis": {
           "colorbar": {
            "outlinewidth": 0,
            "ticks": ""
           }
          },
          "colorscale": {
           "diverging": [
            [
             0,
             "#8e0152"
            ],
            [
             0.1,
             "#c51b7d"
            ],
            [
             0.2,
             "#de77ae"
            ],
            [
             0.3,
             "#f1b6da"
            ],
            [
             0.4,
             "#fde0ef"
            ],
            [
             0.5,
             "#f7f7f7"
            ],
            [
             0.6,
             "#e6f5d0"
            ],
            [
             0.7,
             "#b8e186"
            ],
            [
             0.8,
             "#7fbc41"
            ],
            [
             0.9,
             "#4d9221"
            ],
            [
             1,
             "#276419"
            ]
           ],
           "sequential": [
            [
             0.0,
             "#0d0887"
            ],
            [
             0.1111111111111111,
             "#46039f"
            ],
            [
             0.2222222222222222,
             "#7201a8"
            ],
            [
             0.3333333333333333,
             "#9c179e"
            ],
            [
             0.4444444444444444,
             "#bd3786"
            ],
            [
             0.5555555555555556,
             "#d8576b"
            ],
            [
             0.6666666666666666,
             "#ed7953"
            ],
            [
             0.7777777777777778,
             "#fb9f3a"
            ],
            [
             0.8888888888888888,
             "#fdca26"
            ],
            [
             1.0,
             "#f0f921"
            ]
           ],
           "sequentialminus": [
            [
             0.0,
             "#0d0887"
            ],
            [
             0.1111111111111111,
             "#46039f"
            ],
            [
             0.2222222222222222,
             "#7201a8"
            ],
            [
             0.3333333333333333,
             "#9c179e"
            ],
            [
             0.4444444444444444,
             "#bd3786"
            ],
            [
             0.5555555555555556,
             "#d8576b"
            ],
            [
             0.6666666666666666,
             "#ed7953"
            ],
            [
             0.7777777777777778,
             "#fb9f3a"
            ],
            [
             0.8888888888888888,
             "#fdca26"
            ],
            [
             1.0,
             "#f0f921"
            ]
           ]
          },
          "colorway": [
           "#636efa",
           "#EF553B",
           "#00cc96",
           "#ab63fa",
           "#FFA15A",
           "#19d3f3",
           "#FF6692",
           "#B6E880",
           "#FF97FF",
           "#FECB52"
          ],
          "font": {
           "color": "#2a3f5f"
          },
          "geo": {
           "bgcolor": "white",
           "lakecolor": "white",
           "landcolor": "white",
           "showlakes": true,
           "showland": true,
           "subunitcolor": "#C8D4E3"
          },
          "hoverlabel": {
           "align": "left"
          },
          "hovermode": "closest",
          "mapbox": {
           "style": "light"
          },
          "paper_bgcolor": "white",
          "plot_bgcolor": "white",
          "polar": {
           "angularaxis": {
            "gridcolor": "#EBF0F8",
            "linecolor": "#EBF0F8",
            "ticks": ""
           },
           "bgcolor": "white",
           "radialaxis": {
            "gridcolor": "#EBF0F8",
            "linecolor": "#EBF0F8",
            "ticks": ""
           }
          },
          "scene": {
           "xaxis": {
            "backgroundcolor": "white",
            "gridcolor": "#DFE8F3",
            "gridwidth": 2,
            "linecolor": "#EBF0F8",
            "showbackground": true,
            "ticks": "",
            "zerolinecolor": "#EBF0F8"
           },
           "yaxis": {
            "backgroundcolor": "white",
            "gridcolor": "#DFE8F3",
            "gridwidth": 2,
            "linecolor": "#EBF0F8",
            "showbackground": true,
            "ticks": "",
            "zerolinecolor": "#EBF0F8"
           },
           "zaxis": {
            "backgroundcolor": "white",
            "gridcolor": "#DFE8F3",
            "gridwidth": 2,
            "linecolor": "#EBF0F8",
            "showbackground": true,
            "ticks": "",
            "zerolinecolor": "#EBF0F8"
           }
          },
          "shapedefaults": {
           "line": {
            "color": "#2a3f5f"
           }
          },
          "ternary": {
           "aaxis": {
            "gridcolor": "#DFE8F3",
            "linecolor": "#A2B1C6",
            "ticks": ""
           },
           "baxis": {
            "gridcolor": "#DFE8F3",
            "linecolor": "#A2B1C6",
            "ticks": ""
           },
           "bgcolor": "white",
           "caxis": {
            "gridcolor": "#DFE8F3",
            "linecolor": "#A2B1C6",
            "ticks": ""
           }
          },
          "title": {
           "x": 0.05
          },
          "xaxis": {
           "automargin": true,
           "gridcolor": "#EBF0F8",
           "linecolor": "#EBF0F8",
           "ticks": "",
           "title": {
            "standoff": 15
           },
           "zerolinecolor": "#EBF0F8",
           "zerolinewidth": 2
          },
          "yaxis": {
           "automargin": true,
           "gridcolor": "#EBF0F8",
           "linecolor": "#EBF0F8",
           "ticks": "",
           "title": {
            "standoff": 15
           },
           "zerolinecolor": "#EBF0F8",
           "zerolinewidth": 2
          }
         }
        },
        "shapes": [
         {
          "line": {
           "color": "red",
           "dash": "dash",
           "width": 1
          },
          "type": "line",
          "x0": "2023-08-01",
          "x1": "2023-08-01",
          "xref": "x",
          "y0": 0,
          "y1": 1,
          "yref": "y domain"
         }
        ],
        "yaxis": {
         "title": {
          "text": "Day closing return (%)"
         },
         "tickformat": ".0%",
         "range": [
          0.75,
          1.6
         ]
        },
        "title": {
         "text": "12 Month Prediction vs Actual Plot"
        },
        "xaxis": {
         "title": {
          "text": "Date"
         }
        },
        "legend": {
         "title": {
          "text": "Legend"
         }
        }
       },
       "config": {
        "plotlyServerURL": "https://plot.ly"
       }
      },
      "text/html": [
       "<div>                            <div id=\"20b9df55-1708-415e-8bac-b4787d6ac016\" class=\"plotly-graph-div\" style=\"height:525px; width:100%;\"></div>            <script type=\"text/javascript\">                require([\"plotly\"], function(Plotly) {                    window.PLOTLYENV=window.PLOTLYENV || {};                                    if (document.getElementById(\"20b9df55-1708-415e-8bac-b4787d6ac016\")) {                    Plotly.newPlot(                        \"20b9df55-1708-415e-8bac-b4787d6ac016\",                        [{\"line\":{\"color\":\"#5c839f\",\"width\":2},\"mode\":\"lines\",\"name\":\"Actual returns\",\"x\":[\"2000-10-01\",\"2000-11-01\",\"2000-12-01\",\"2001-01-01\",\"2001-02-01\",\"2001-03-01\",\"2001-04-01\",\"2001-05-01\",\"2001-06-01\",\"2001-07-01\",\"2001-08-01\",\"2001-09-01\",\"2001-10-01\",\"2001-11-01\",\"2001-12-01\",\"2002-01-01\",\"2002-02-01\",\"2002-03-01\",\"2002-04-01\",\"2002-05-01\",\"2002-06-01\",\"2002-07-01\",\"2002-08-01\",\"2002-09-01\",\"2002-10-01\",\"2002-11-01\",\"2002-12-01\",\"2003-01-01\",\"2003-02-01\",\"2003-03-01\",\"2003-04-01\",\"2003-05-01\",\"2003-06-01\",\"2003-07-01\",\"2003-08-01\",\"2003-09-01\",\"2003-10-01\",\"2003-11-01\",\"2003-12-01\",\"2004-01-01\",\"2004-02-01\",\"2004-03-01\",\"2004-04-01\",\"2004-05-01\",\"2004-06-01\",\"2004-07-01\",\"2004-08-01\",\"2004-09-01\",\"2004-10-01\",\"2004-11-01\",\"2004-12-01\",\"2005-01-01\",\"2005-02-01\",\"2005-03-01\",\"2005-04-01\",\"2005-05-01\",\"2005-06-01\",\"2005-07-01\",\"2005-08-01\",\"2005-09-01\",\"2005-10-01\",\"2005-11-01\",\"2005-12-01\",\"2006-01-01\",\"2006-02-01\",\"2006-03-01\",\"2006-04-01\",\"2006-05-01\",\"2006-06-01\",\"2006-07-01\",\"2006-08-01\",\"2006-09-01\",\"2006-10-01\",\"2006-11-01\",\"2006-12-01\",\"2007-01-01\",\"2007-02-01\",\"2007-03-01\",\"2007-04-01\",\"2007-05-01\",\"2007-06-01\",\"2007-07-01\",\"2007-08-01\",\"2007-09-01\",\"2007-10-01\",\"2007-11-01\",\"2007-12-01\",\"2008-01-01\",\"2008-02-01\",\"2008-03-01\",\"2008-04-01\",\"2008-05-01\",\"2008-06-01\",\"2008-07-01\",\"2008-08-01\",\"2008-09-01\",\"2008-10-01\",\"2008-11-01\",\"2008-12-01\",\"2009-01-01\",\"2009-02-01\",\"2009-03-01\",\"2009-04-01\",\"2009-05-01\",\"2009-06-01\",\"2009-07-01\",\"2009-08-01\",\"2009-09-01\",\"2009-10-01\",\"2009-11-01\",\"2009-12-01\",\"2010-01-01\",\"2010-02-01\",\"2010-03-01\",\"2010-04-01\",\"2010-05-01\",\"2010-06-01\",\"2010-07-01\",\"2010-08-01\",\"2010-09-01\",\"2010-10-01\",\"2010-11-01\",\"2010-12-01\",\"2011-01-01\",\"2011-02-01\",\"2011-03-01\",\"2011-04-01\",\"2011-05-01\",\"2011-06-01\",\"2011-07-01\",\"2011-08-01\",\"2011-09-01\",\"2011-10-01\",\"2011-11-01\",\"2011-12-01\",\"2012-01-01\",\"2012-02-01\",\"2012-03-01\",\"2012-04-01\",\"2012-05-01\",\"2012-06-01\",\"2012-07-01\",\"2012-08-01\",\"2012-09-01\",\"2012-10-01\",\"2012-11-01\",\"2012-12-01\",\"2013-01-01\",\"2013-02-01\",\"2013-03-01\",\"2013-04-01\",\"2013-05-01\",\"2013-06-01\",\"2013-07-01\",\"2013-08-01\",\"2013-09-01\",\"2013-10-01\",\"2013-11-01\",\"2013-12-01\",\"2014-01-01\",\"2014-02-01\",\"2014-03-01\",\"2014-04-01\",\"2014-05-01\",\"2014-06-01\",\"2014-07-01\",\"2014-08-01\",\"2014-09-01\",\"2014-10-01\",\"2014-11-01\",\"2014-12-01\",\"2015-01-01\",\"2015-02-01\",\"2015-03-01\",\"2015-04-01\",\"2015-05-01\",\"2015-06-01\",\"2015-07-01\",\"2015-08-01\",\"2015-09-01\",\"2015-10-01\",\"2015-11-01\",\"2015-12-01\",\"2016-01-01\",\"2016-02-01\",\"2016-03-01\",\"2016-04-01\",\"2016-05-01\",\"2016-06-01\",\"2016-07-01\",\"2016-08-01\",\"2016-09-01\",\"2016-10-01\",\"2016-11-01\",\"2016-12-01\",\"2017-01-01\",\"2017-02-01\",\"2017-03-01\",\"2017-04-01\",\"2017-05-01\",\"2017-06-01\",\"2017-07-01\",\"2017-08-01\",\"2017-09-01\",\"2017-10-01\",\"2017-11-01\",\"2017-12-01\",\"2018-01-01\",\"2018-02-01\",\"2018-03-01\",\"2018-04-01\",\"2018-05-01\",\"2018-06-01\",\"2018-07-01\",\"2018-08-01\",\"2018-09-01\",\"2018-10-01\",\"2018-11-01\",\"2018-12-01\",\"2019-01-01\",\"2019-02-01\",\"2019-03-01\",\"2019-04-01\",\"2019-05-01\",\"2019-06-01\",\"2019-07-01\",\"2019-08-01\",\"2019-09-01\",\"2019-10-01\",\"2019-11-01\",\"2019-12-01\",\"2020-01-01\",\"2020-02-01\",\"2020-03-01\",\"2020-04-01\",\"2020-05-01\",\"2020-06-01\",\"2020-07-01\",\"2020-08-01\",\"2020-09-01\",\"2020-10-01\",\"2020-11-01\",\"2020-12-01\",\"2021-01-01\",\"2021-02-01\",\"2021-03-01\",\"2021-04-01\",\"2021-05-01\",\"2021-06-01\",\"2021-07-01\",\"2021-08-01\",\"2021-09-01\",\"2021-10-01\",\"2021-11-01\",\"2021-12-01\",\"2022-01-01\",\"2022-02-01\",\"2022-03-01\",\"2022-04-01\",\"2022-05-01\",\"2022-06-01\",\"2022-07-01\",\"2022-08-01\",\"2022-09-01\",\"2022-10-01\",\"2022-11-01\",\"2022-12-01\",\"2023-01-01\",\"2023-02-01\",\"2023-03-01\",\"2023-04-01\",\"2023-05-01\",\"2023-06-01\",\"2023-07-01\",\"2023-08-01\",\"2023-09-01\",\"2023-10-01\",\"2023-11-01\",\"2023-12-01\",\"2024-01-01\",\"2024-02-01\",\"2024-03-01\",\"2024-04-01\",\"2024-05-01\",\"2024-06-01\",\"2024-07-01\",\"2024-08-01\"],\"y\":[null,1.0255474894131882,1.0338354506957046,0.9928735632183908,5.930568663036903,1.02524500907441,0.9939624924379915,0.9817483363581366,1.0329461584996975,0.9952389594676346,1.027350272232305,0.9906291591046583,0.9893103448275862,0.9717422867513611,1.0094071385359953,1.0391651542649727,0.9689776164549303,0.9847489413188143,1.0655414398064127,1.0118451300665456,0.9984392014519057,0.9735087719298245,0.9690865093768906,0.9132849364791288,1.0499274047186933,1.050798548094374,1.0158620689655173,0.9939322444041138,1.0093103448275862,1.050725952813067,1.007102238354507,1.0027646702964308,0.9519721718088325,0.9418874773139746,0.9874833635813671,0.9568905021173624,1.0078644888082275,1.0582516636418633,0.9664125831820932,0.9890199637023595,1.0055716878402905,0.9959830611010285,1.0599516031457954,1.0670054446460981,1.034162129461585,1.508451300665457,1.0614277071990321,1.0038233514821537,1.0498003629764066,1.0042286751361162,1.015849969751966,1.0305263157894737,1.0141560798548095,1.0468421052631578,1.0040834845735027,0.992474289171204,1.0346218995765275,0.9633877797943133,0.9934119782214157,1.0055535390199637,1.0005565638233516,1.0293163944343617,1.053762855414398,1.00643073200242,1.0203811252268602,0.9955595886267392,0.9733030852994556,1.033145795523291,1.0216817906836055,1.0358136721113127,0.9993042952208105,1.1286509376890503,1.0726013309134907,3.2130248033877797,1.0215607985480943,1.0408166969147006,1.0128917120387175,1.027501512401694,1.0092075015124016,0.9686267392619479,0.9991833030852995,0.9856866303690262,1.0248820326678767,1.0297519661222019,1.0213853599516032,1.0188808227465216,1.027979431336963,1.0368723532970356,1.0044404113732608,1.0015849969751967,1.0188082274652148,1.0226194797338173,0.9885843920145191,0.9759286146400484,0.9907501512401694,1.002474289171204,1.0255172413793103,0.9479370840895343,0.9907743496672716,0.9420447670901392,0.9907199032062917,0.9868784029038112,1.0311494252873565,1.02318814277072,0.9375620084694495,0.9950090744101633,1.0215789473684211,0.9273018753781004,0.8458197217180883,0.9447489413188144,1.0413006654567454,0.9497701149425287,0.9416515426497277,1.0697580157289777,1.1476164549304295,1.0432909860859043,1.0350211736237145,1.0623895946763462,1.0552026618269812,1.0322746521476103,0.9779915305505141,1.0015910465819722,1.0513793103448277,0.9896067755595885,1.0185541439806414,1.0590381125226862,1.0449969751966124,0.9456261343012704,0.9619419237749547,1.0388626739261946,0.9645856019358742,1.0696067755595886,1.0163883847549908,1.0275862068965518,1.0584029038112523,1.0119782214156081,1.0324803387779795,1.0016031457955235,1.0198850574712643,0.9949969751966122,0.9972353297035693,0.9830429522081064,0.9474712643678161,0.9529824561403508,1.0689231699939505,0.9843375680580763,1.0002540834845735,1.0593768905021175,1.0995402298850574,1.026303690260133,0.9927465214761042,0.9427586206896552,1.0300241984271024,0.9957652752571083,1.0196672716273443,1.0171506352087114,1.0012038717483362,1.0166848154869934,1.0311736237144584,1.0607924984875983,1.0218390804597701,1.0406836055656383,1.0333696309739866,1.01821536600121,0.990508166969147,1.0369933454325468,0.98346037507562,1.0512159709618873,1.0213430127041743,1.0239806412583181,1.022280701754386,0.9877434966727164,1.0288626739261948,1.0008287961282516,0.9851845130066547,1.0161161524500906,1.0306473079249847,0.9871445856019359,1.026745311554749,0.989491833030853,1.0253115547489413,1.04167574107683,1.0141681790683605,1.0019419237749547,1.0444585601935874,1.0097459165154263,1.000411373260738,1.0252087114337567,0.9903266787658802,1.012788868723533,0.9586448880822745,0.9679854809437386,1.0623411978221418,1.0190018148820326,0.9822928009679371,0.9491107078039926,0.9993587416817907,1.0566122202056867,1.0004355716878404,1.0214095583787053,0.9709074410163339,1.0535813672111312,1.0110102843315183,1.0043375680580762,0.9848154869933453,1.0514337568058076,1.0315486993345433,1.0146581972171809,1.0218451300665456,1.009751966122202,1.0155958862673926,1.0126678765880217,1.0131215970961889,1.0135692679975803,1.0033877797943134,1.0308892921960073,1.0195220810647307,1.0232244404113733,1.0114458560193589,1.023817301875378,0.974422262552934,0.996636418632789,1.0194797338173018,1.0263641863278887,1.0086327888687234,1.0175922565033273,1.0217725347852389,0.9907501512401694,0.9365880217785845,1.0115124016938897,0.9133272837265578,1.0914398064125832,1.0367513611615244,1.004137931034483,1.043049001814882,0.940822746521476,1.0453539019963702,1.0221234119782214,0.9704476709013913,1.0369449485783424,1.0294797338173018,1.0347307924984874,1.0268058076225044,0.9897519661222022,0.9099153055051422,0.8183847549909256,1.1260314579552329,1.072552934059286,1.0304174228675136,1.0225710828796128,1.0605565638233514,0.9945130066545675,0.9923290986085905,1.1583847549909256,1.0579612825166365,1.0404839685420448,1.053793103448276,1.0589292196007258,1.037652752571083,1.0213430127041743,1.0207562008469449,1.0036418632788868,1.025287356321839,0.9864851784633998,1.0300241984271024,0.969933454325469,1.0402117362371448,0.9256805807622505,0.9876830006049606,1.003230490018149,0.9446763460375075,1.0007199032062917,0.9249425287356322,1.0904295220810647,0.9692982456140351,0.901373260738052,1.0810284331518452,1.0552994555353903,0.9577374470659408,1.0973321234119784,0.9889957652752571,0.979933454325469,1.001318814277072,0.9908832425892315,1.0624803387779795,1.0433393829401088,0.9686206896551725,0.95978221415608,0.9421113127646703,1.0877132486388386,1.079328493647913,0.9853962492437992,1.0741379310344827,1.0276285541439807,0.9559709618874773,1.0341621294615853,0.9932425892317,1.0552510586811856,0.9971990320629158,0.9666787658802178],\"type\":\"scatter\"},{\"line\":{\"color\":\"red\",\"width\":2},\"mode\":\"lines\",\"name\":\"Train returns\",\"x\":[\"2000-10-01\",\"2000-11-01\",\"2000-12-01\",\"2001-01-01\",\"2001-02-01\",\"2001-03-01\",\"2001-04-01\",\"2001-05-01\",\"2001-06-01\",\"2001-07-01\",\"2001-08-01\",\"2001-09-01\",\"2001-10-01\",\"2001-11-01\",\"2001-12-01\",\"2002-01-01\",\"2002-02-01\",\"2002-03-01\",\"2002-04-01\",\"2002-05-01\",\"2002-06-01\",\"2002-07-01\",\"2002-08-01\",\"2002-09-01\",\"2002-10-01\",\"2002-11-01\",\"2002-12-01\",\"2003-01-01\",\"2003-02-01\",\"2003-03-01\",\"2003-04-01\",\"2003-05-01\",\"2003-06-01\",\"2003-07-01\",\"2003-08-01\",\"2003-09-01\",\"2003-10-01\",\"2003-11-01\",\"2003-12-01\",\"2004-01-01\",\"2004-02-01\",\"2004-03-01\",\"2004-04-01\",\"2004-05-01\",\"2004-06-01\",\"2004-07-01\",\"2004-08-01\",\"2004-09-01\",\"2004-10-01\",\"2004-11-01\",\"2004-12-01\",\"2005-01-01\",\"2005-02-01\",\"2005-03-01\",\"2005-04-01\",\"2005-05-01\",\"2005-06-01\",\"2005-07-01\",\"2005-08-01\",\"2005-09-01\",\"2005-10-01\",\"2005-11-01\",\"2005-12-01\",\"2006-01-01\",\"2006-02-01\",\"2006-03-01\",\"2006-04-01\",\"2006-05-01\",\"2006-06-01\",\"2006-07-01\",\"2006-08-01\",\"2006-09-01\",\"2006-10-01\",\"2006-11-01\",\"2006-12-01\",\"2007-01-01\",\"2007-02-01\",\"2007-03-01\",\"2007-04-01\",\"2007-05-01\",\"2007-06-01\",\"2007-07-01\",\"2007-08-01\",\"2007-09-01\",\"2007-10-01\",\"2007-11-01\",\"2007-12-01\",\"2008-01-01\",\"2008-02-01\",\"2008-03-01\",\"2008-04-01\",\"2008-05-01\",\"2008-06-01\",\"2008-07-01\",\"2008-08-01\",\"2008-09-01\",\"2008-10-01\",\"2008-11-01\",\"2008-12-01\",\"2009-01-01\",\"2009-02-01\",\"2009-03-01\",\"2009-04-01\",\"2009-05-01\",\"2009-06-01\",\"2009-07-01\",\"2009-08-01\",\"2009-09-01\",\"2009-10-01\",\"2009-11-01\",\"2009-12-01\",\"2010-01-01\",\"2010-02-01\",\"2010-03-01\",\"2010-04-01\",\"2010-05-01\",\"2010-06-01\",\"2010-07-01\",\"2010-08-01\",\"2010-09-01\",\"2010-10-01\",\"2010-11-01\",\"2010-12-01\",\"2011-01-01\",\"2011-02-01\",\"2011-03-01\",\"2011-04-01\",\"2011-05-01\",\"2011-06-01\",\"2011-07-01\",\"2011-08-01\",\"2011-09-01\",\"2011-10-01\",\"2011-11-01\",\"2011-12-01\",\"2012-01-01\",\"2012-02-01\",\"2012-03-01\",\"2012-04-01\",\"2012-05-01\",\"2012-06-01\",\"2012-07-01\",\"2012-08-01\",\"2012-09-01\",\"2012-10-01\",\"2012-11-01\",\"2012-12-01\",\"2013-01-01\",\"2013-02-01\",\"2013-03-01\",\"2013-04-01\",\"2013-05-01\",\"2013-06-01\",\"2013-07-01\",\"2013-08-01\",\"2013-09-01\",\"2013-10-01\",\"2013-11-01\",\"2013-12-01\",\"2014-01-01\",\"2014-02-01\",\"2014-03-01\",\"2014-04-01\",\"2014-05-01\",\"2014-06-01\",\"2014-07-01\",\"2014-08-01\",\"2014-09-01\",\"2014-10-01\",\"2014-11-01\",\"2014-12-01\",\"2015-01-01\",\"2015-02-01\",\"2015-03-01\",\"2015-04-01\",\"2015-05-01\",\"2015-06-01\",\"2015-07-01\",\"2015-08-01\",\"2015-09-01\",\"2015-10-01\",\"2015-11-01\",\"2015-12-01\",\"2016-01-01\",\"2016-02-01\",\"2016-03-01\",\"2016-04-01\",\"2016-05-01\",\"2016-06-01\",\"2016-07-01\",\"2016-08-01\",\"2016-09-01\",\"2016-10-01\",\"2016-11-01\",\"2016-12-01\",\"2017-01-01\",\"2017-02-01\",\"2017-03-01\",\"2017-04-01\",\"2017-05-01\",\"2017-06-01\",\"2017-07-01\",\"2017-08-01\",\"2017-09-01\",\"2017-10-01\",\"2017-11-01\",\"2017-12-01\",\"2018-01-01\",\"2018-02-01\",\"2018-03-01\",\"2018-04-01\",\"2018-05-01\",\"2018-06-01\",\"2018-07-01\",\"2018-08-01\",\"2018-09-01\",\"2018-10-01\",\"2018-11-01\",\"2018-12-01\",\"2019-01-01\",\"2019-02-01\",\"2019-03-01\",\"2019-04-01\",\"2019-05-01\",\"2019-06-01\",\"2019-07-01\",\"2019-08-01\",\"2019-09-01\",\"2019-10-01\",\"2019-11-01\",\"2019-12-01\",\"2020-01-01\",\"2020-02-01\",\"2020-03-01\",\"2020-04-01\",\"2020-05-01\",\"2020-06-01\",\"2020-07-01\",\"2020-08-01\",\"2020-09-01\",\"2020-10-01\",\"2020-11-01\",\"2020-12-01\",\"2021-01-01\",\"2021-02-01\",\"2021-03-01\",\"2021-04-01\",\"2021-05-01\",\"2021-06-01\",\"2021-07-01\",\"2021-08-01\",\"2021-09-01\",\"2021-10-01\",\"2021-11-01\",\"2021-12-01\",\"2022-01-01\",\"2022-02-01\",\"2022-03-01\",\"2022-04-01\",\"2022-05-01\",\"2022-06-01\",\"2022-07-01\",\"2022-08-01\",\"2022-09-01\",\"2022-10-01\",\"2022-11-01\",\"2022-12-01\",\"2023-01-01\",\"2023-02-01\",\"2023-03-01\",\"2023-04-01\",\"2023-05-01\",\"2023-06-01\",\"2023-07-01\",\"2023-08-01\"],\"y\":[1.0060440301895142,1.0109705924987793,1.0078686475753784,1.0135667324066162,1.012737512588501,1.008853554725647,1.0096338987350464,1.0105831623077393,1.0085519552230835,1.0085539817810059,1.0105359554290771,1.0083709955215454,1.0084633827209473,1.0084919929504395,1.0058573484420776,1.009567379951477,1.0135563611984253,1.0083633661270142,1.009165644645691,1.007607102394104,1.0098055601119995,1.0101583003997803,1.0084458589553833,1.0058671236038208,1.0135747194290161,1.010293960571289,1.0118714570999146,1.0109392404556274,1.0090346336364746,1.0085549354553223,1.012102484703064,1.0100549459457397,1.0090386867523193,1.0090209245681763,1.0115116834640503,1.0075007677078247,1.0057547092437744,1.0183724164962769,1.008191466331482,1.0165977478027344,1.010176420211792,1.009498119354248,1.0139729976654053,1.0133839845657349,1.007712483406067,1.0138005018234253,1.0069774389266968,1.0089548826217651,1.008832573890686,1.011521339416504,1.0118343830108643,1.0056041479110718,1.0124262571334839,1.0119752883911133,1.009584665298462,1.0079395771026611,1.0065358877182007,1.006961464881897,1.0089975595474243,3.6266837120056152,1.0119332075119019,1.0105220079421997,1.0080065727233887,1.0059441328048706,1.0088469982147217,1.017234444618225,1.0124621391296387,1.008332371711731,1.011580228805542,1.0099079608917236,1.0092929601669312,1.0108047723770142,1.0101962089538574,1.0253231525421143,1.0146825313568115,1.006821870803833,1.0087281465530396,1.0074560642242432,1.009390950202942,1.012825846672058,1.00802743434906,1.0093785524368286,1.007336974143982,1.00978684425354,1.0142923593521118,1.0084468126296997,1.013419508934021,1.0098248720169067,1.0109151601791382,1.011649489402771,1.0101944208145142,1.0084912776947021,1.0095478296279907,1.0084666013717651,1.0046072006225586,1.0073204040527344,1.006798267364502,1.011215090751648,1.0090079307556152,1.0116583108901978,1.0118519067764282,1.0122946500778198,1.0069881677627563,1.0151175260543823,1.0058916807174683,1.0071556568145752,1.0051904916763306,1.0091418027877808,1.0146855115890503,1.0084115266799927,1.0063968896865845,1.0106397867202759,1.0100585222244263,1.0077062845230103,1.0083776712417603,1.008655309677124,1.0232230424880981,1.0091118812561035,1.0101597309112549,1.0127471685409546,1.0110790729522705,1.0104997158050537,1.008732795715332,1.0079998970031738,1.009979248046875,1.0063481330871582,1.0079329013824463,1.0076744556427002,1.0091369152069092,1.0097630023956299,1.0107308626174927,1.008495569229126,1.011287808418274,1.0074392557144165,1.0123220682144165,1.0145759582519531,1.0115000009536743,1.0100418329238892,1.010890007019043,1.0128027200698853,1.0976039171218872,1.0088732242584229,1.0090796947479248,1.0122628211975098,1.01413094997406,1.0110161304473877,1.0063875913619995,1.0086452960968018,1.0109915733337402,1.0209360122680664,1.0270936489105225,1.012000322341919,1.0059343576431274,1.0073788166046143,0.9506846070289612,1.002565622329712,1.0112353563308716,1.0068297386169434,1.0059928894042969,1.0107485055923462,1.0086429119110107,1.0077285766601562,1.010206699371338,1.010719895362854,1.0086982250213623,1.0081170797348022,1.011707067489624,1.0089032649993896,1.013508915901184,1.0097954273223877,1.0045132637023926,1.0067882537841797,1.0098692178726196,1.0126657485961914,1.0131006240844727,1.0142780542373657,1.0121126174926758,1.008867621421814,1.0116056203842163,1.0121649503707886,1.0063060522079468,1.0118879079818726,1.0063203573226929,1.0095280408859253,1.0118129253387451,1.0148283243179321,1.010416030883789,1.0143507719039917,1.0109328031539917,1.0121564865112305,1.0044394731521606,1.0110539197921753,1.0078442096710205,1.0078577995300293,1.1135776042938232,1.0089828968048096,1.0071603059768677,1.016647458076477,3.0983245372772217,1.009521245956421,1.0106943845748901,1.0062222480773926,1.009606122970581,1.0070786476135254,1.0169111490249634,1.0074657201766968,1.0078210830688477,1.0145301818847656,1.005968451499939,1.0074998140335083,1.01242995262146,1.0063518285751343,1.017321228981018,1.008689045906067,1.0107479095458984,1.0129674673080444,1.0124281644821167,1.004475712776184,1.0121188163757324,1.00661039352417,1.0125714540481567,1.0069081783294678,1.0078595876693726,1.0069727897644043,1.0090141296386719,1.0066825151443481,1.0062320232391357,1.0096153020858765,1.0086005926132202,1.0075876712799072,1.0070098638534546,1.013824462890625,1.0083249807357788,1.0080410242080688,1.0072797536849976,1.0089833736419678,1.0073837041854858,1.0085279941558838,1.0048445463180542,1.0100843906402588,1.0088481903076172,1.0161120891571045,1.0112296342849731,1.0102686882019043,1.008512258529663,1.0072414875030518,1.0106422901153564,1.0074987411499023,1.0127183198928833,1.0143241882324219,1.0092865228652954,1.0071568489074707,1.007974624633789,1.0106185674667358,1.0068283081054688,1.0176392793655396,1.0296740531921387,1.0110136270523071,1.0085817575454712,1.008656620979309,1.0057591199874878,1.0057499408721924,1.0087263584136963,1.0102834701538086,1.0073070526123047,1.0164827108383179,1.0104039907455444,1.0089190006256104,1.0144495964050293,1.0150588750839233,1.0146657228469849,1.0170824527740479,1.0117113590240479,1.0062321424484253,1.0115033388137817],\"type\":\"scatter\"},{\"line\":{\"color\":\"green\",\"width\":2},\"mode\":\"lines\",\"name\":\"Test returns\",\"x\":[\"2023-08-01\",\"2023-09-01\",\"2023-10-01\",\"2023-11-01\",\"2023-12-01\",\"2024-01-01\",\"2024-02-01\",\"2024-03-01\",\"2024-04-01\",\"2024-05-01\",\"2024-06-01\",\"2024-07-01\",\"2024-08-01\"],\"y\":[1.0115033388137817,1.4548286199569702,1.4570567607879639,1.4792226552963257,1.4560363292694092,1.4834885597229004,1.490082859992981,1.4688928127288818,1.5048408508300781,1.5148431062698364,1.4741790294647217,1.4815785884857178,1.4913944005966187],\"type\":\"scatter\"}],                        {\"template\":{\"data\":{\"barpolar\":[{\"marker\":{\"line\":{\"color\":\"white\",\"width\":0.5},\"pattern\":{\"fillmode\":\"overlay\",\"size\":10,\"solidity\":0.2}},\"type\":\"barpolar\"}],\"bar\":[{\"error_x\":{\"color\":\"#2a3f5f\"},\"error_y\":{\"color\":\"#2a3f5f\"},\"marker\":{\"line\":{\"color\":\"white\",\"width\":0.5},\"pattern\":{\"fillmode\":\"overlay\",\"size\":10,\"solidity\":0.2}},\"type\":\"bar\"}],\"carpet\":[{\"aaxis\":{\"endlinecolor\":\"#2a3f5f\",\"gridcolor\":\"#C8D4E3\",\"linecolor\":\"#C8D4E3\",\"minorgridcolor\":\"#C8D4E3\",\"startlinecolor\":\"#2a3f5f\"},\"baxis\":{\"endlinecolor\":\"#2a3f5f\",\"gridcolor\":\"#C8D4E3\",\"linecolor\":\"#C8D4E3\",\"minorgridcolor\":\"#C8D4E3\",\"startlinecolor\":\"#2a3f5f\"},\"type\":\"carpet\"}],\"choropleth\":[{\"colorbar\":{\"outlinewidth\":0,\"ticks\":\"\"},\"type\":\"choropleth\"}],\"contourcarpet\":[{\"colorbar\":{\"outlinewidth\":0,\"ticks\":\"\"},\"type\":\"contourcarpet\"}],\"contour\":[{\"colorbar\":{\"outlinewidth\":0,\"ticks\":\"\"},\"colorscale\":[[0.0,\"#0d0887\"],[0.1111111111111111,\"#46039f\"],[0.2222222222222222,\"#7201a8\"],[0.3333333333333333,\"#9c179e\"],[0.4444444444444444,\"#bd3786\"],[0.5555555555555556,\"#d8576b\"],[0.6666666666666666,\"#ed7953\"],[0.7777777777777778,\"#fb9f3a\"],[0.8888888888888888,\"#fdca26\"],[1.0,\"#f0f921\"]],\"type\":\"contour\"}],\"heatmapgl\":[{\"colorbar\":{\"outlinewidth\":0,\"ticks\":\"\"},\"colorscale\":[[0.0,\"#0d0887\"],[0.1111111111111111,\"#46039f\"],[0.2222222222222222,\"#7201a8\"],[0.3333333333333333,\"#9c179e\"],[0.4444444444444444,\"#bd3786\"],[0.5555555555555556,\"#d8576b\"],[0.6666666666666666,\"#ed7953\"],[0.7777777777777778,\"#fb9f3a\"],[0.8888888888888888,\"#fdca26\"],[1.0,\"#f0f921\"]],\"type\":\"heatmapgl\"}],\"heatmap\":[{\"colorbar\":{\"outlinewidth\":0,\"ticks\":\"\"},\"colorscale\":[[0.0,\"#0d0887\"],[0.1111111111111111,\"#46039f\"],[0.2222222222222222,\"#7201a8\"],[0.3333333333333333,\"#9c179e\"],[0.4444444444444444,\"#bd3786\"],[0.5555555555555556,\"#d8576b\"],[0.6666666666666666,\"#ed7953\"],[0.7777777777777778,\"#fb9f3a\"],[0.8888888888888888,\"#fdca26\"],[1.0,\"#f0f921\"]],\"type\":\"heatmap\"}],\"histogram2dcontour\":[{\"colorbar\":{\"outlinewidth\":0,\"ticks\":\"\"},\"colorscale\":[[0.0,\"#0d0887\"],[0.1111111111111111,\"#46039f\"],[0.2222222222222222,\"#7201a8\"],[0.3333333333333333,\"#9c179e\"],[0.4444444444444444,\"#bd3786\"],[0.5555555555555556,\"#d8576b\"],[0.6666666666666666,\"#ed7953\"],[0.7777777777777778,\"#fb9f3a\"],[0.8888888888888888,\"#fdca26\"],[1.0,\"#f0f921\"]],\"type\":\"histogram2dcontour\"}],\"histogram2d\":[{\"colorbar\":{\"outlinewidth\":0,\"ticks\":\"\"},\"colorscale\":[[0.0,\"#0d0887\"],[0.1111111111111111,\"#46039f\"],[0.2222222222222222,\"#7201a8\"],[0.3333333333333333,\"#9c179e\"],[0.4444444444444444,\"#bd3786\"],[0.5555555555555556,\"#d8576b\"],[0.6666666666666666,\"#ed7953\"],[0.7777777777777778,\"#fb9f3a\"],[0.8888888888888888,\"#fdca26\"],[1.0,\"#f0f921\"]],\"type\":\"histogram2d\"}],\"histogram\":[{\"marker\":{\"pattern\":{\"fillmode\":\"overlay\",\"size\":10,\"solidity\":0.2}},\"type\":\"histogram\"}],\"mesh3d\":[{\"colorbar\":{\"outlinewidth\":0,\"ticks\":\"\"},\"type\":\"mesh3d\"}],\"parcoords\":[{\"line\":{\"colorbar\":{\"outlinewidth\":0,\"ticks\":\"\"}},\"type\":\"parcoords\"}],\"pie\":[{\"automargin\":true,\"type\":\"pie\"}],\"scatter3d\":[{\"line\":{\"colorbar\":{\"outlinewidth\":0,\"ticks\":\"\"}},\"marker\":{\"colorbar\":{\"outlinewidth\":0,\"ticks\":\"\"}},\"type\":\"scatter3d\"}],\"scattercarpet\":[{\"marker\":{\"colorbar\":{\"outlinewidth\":0,\"ticks\":\"\"}},\"type\":\"scattercarpet\"}],\"scattergeo\":[{\"marker\":{\"colorbar\":{\"outlinewidth\":0,\"ticks\":\"\"}},\"type\":\"scattergeo\"}],\"scattergl\":[{\"marker\":{\"colorbar\":{\"outlinewidth\":0,\"ticks\":\"\"}},\"type\":\"scattergl\"}],\"scattermapbox\":[{\"marker\":{\"colorbar\":{\"outlinewidth\":0,\"ticks\":\"\"}},\"type\":\"scattermapbox\"}],\"scatterpolargl\":[{\"marker\":{\"colorbar\":{\"outlinewidth\":0,\"ticks\":\"\"}},\"type\":\"scatterpolargl\"}],\"scatterpolar\":[{\"marker\":{\"colorbar\":{\"outlinewidth\":0,\"ticks\":\"\"}},\"type\":\"scatterpolar\"}],\"scatter\":[{\"fillpattern\":{\"fillmode\":\"overlay\",\"size\":10,\"solidity\":0.2},\"type\":\"scatter\"}],\"scatterternary\":[{\"marker\":{\"colorbar\":{\"outlinewidth\":0,\"ticks\":\"\"}},\"type\":\"scatterternary\"}],\"surface\":[{\"colorbar\":{\"outlinewidth\":0,\"ticks\":\"\"},\"colorscale\":[[0.0,\"#0d0887\"],[0.1111111111111111,\"#46039f\"],[0.2222222222222222,\"#7201a8\"],[0.3333333333333333,\"#9c179e\"],[0.4444444444444444,\"#bd3786\"],[0.5555555555555556,\"#d8576b\"],[0.6666666666666666,\"#ed7953\"],[0.7777777777777778,\"#fb9f3a\"],[0.8888888888888888,\"#fdca26\"],[1.0,\"#f0f921\"]],\"type\":\"surface\"}],\"table\":[{\"cells\":{\"fill\":{\"color\":\"#EBF0F8\"},\"line\":{\"color\":\"white\"}},\"header\":{\"fill\":{\"color\":\"#C8D4E3\"},\"line\":{\"color\":\"white\"}},\"type\":\"table\"}]},\"layout\":{\"annotationdefaults\":{\"arrowcolor\":\"#2a3f5f\",\"arrowhead\":0,\"arrowwidth\":1},\"autotypenumbers\":\"strict\",\"coloraxis\":{\"colorbar\":{\"outlinewidth\":0,\"ticks\":\"\"}},\"colorscale\":{\"diverging\":[[0,\"#8e0152\"],[0.1,\"#c51b7d\"],[0.2,\"#de77ae\"],[0.3,\"#f1b6da\"],[0.4,\"#fde0ef\"],[0.5,\"#f7f7f7\"],[0.6,\"#e6f5d0\"],[0.7,\"#b8e186\"],[0.8,\"#7fbc41\"],[0.9,\"#4d9221\"],[1,\"#276419\"]],\"sequential\":[[0.0,\"#0d0887\"],[0.1111111111111111,\"#46039f\"],[0.2222222222222222,\"#7201a8\"],[0.3333333333333333,\"#9c179e\"],[0.4444444444444444,\"#bd3786\"],[0.5555555555555556,\"#d8576b\"],[0.6666666666666666,\"#ed7953\"],[0.7777777777777778,\"#fb9f3a\"],[0.8888888888888888,\"#fdca26\"],[1.0,\"#f0f921\"]],\"sequentialminus\":[[0.0,\"#0d0887\"],[0.1111111111111111,\"#46039f\"],[0.2222222222222222,\"#7201a8\"],[0.3333333333333333,\"#9c179e\"],[0.4444444444444444,\"#bd3786\"],[0.5555555555555556,\"#d8576b\"],[0.6666666666666666,\"#ed7953\"],[0.7777777777777778,\"#fb9f3a\"],[0.8888888888888888,\"#fdca26\"],[1.0,\"#f0f921\"]]},\"colorway\":[\"#636efa\",\"#EF553B\",\"#00cc96\",\"#ab63fa\",\"#FFA15A\",\"#19d3f3\",\"#FF6692\",\"#B6E880\",\"#FF97FF\",\"#FECB52\"],\"font\":{\"color\":\"#2a3f5f\"},\"geo\":{\"bgcolor\":\"white\",\"lakecolor\":\"white\",\"landcolor\":\"white\",\"showlakes\":true,\"showland\":true,\"subunitcolor\":\"#C8D4E3\"},\"hoverlabel\":{\"align\":\"left\"},\"hovermode\":\"closest\",\"mapbox\":{\"style\":\"light\"},\"paper_bgcolor\":\"white\",\"plot_bgcolor\":\"white\",\"polar\":{\"angularaxis\":{\"gridcolor\":\"#EBF0F8\",\"linecolor\":\"#EBF0F8\",\"ticks\":\"\"},\"bgcolor\":\"white\",\"radialaxis\":{\"gridcolor\":\"#EBF0F8\",\"linecolor\":\"#EBF0F8\",\"ticks\":\"\"}},\"scene\":{\"xaxis\":{\"backgroundcolor\":\"white\",\"gridcolor\":\"#DFE8F3\",\"gridwidth\":2,\"linecolor\":\"#EBF0F8\",\"showbackground\":true,\"ticks\":\"\",\"zerolinecolor\":\"#EBF0F8\"},\"yaxis\":{\"backgroundcolor\":\"white\",\"gridcolor\":\"#DFE8F3\",\"gridwidth\":2,\"linecolor\":\"#EBF0F8\",\"showbackground\":true,\"ticks\":\"\",\"zerolinecolor\":\"#EBF0F8\"},\"zaxis\":{\"backgroundcolor\":\"white\",\"gridcolor\":\"#DFE8F3\",\"gridwidth\":2,\"linecolor\":\"#EBF0F8\",\"showbackground\":true,\"ticks\":\"\",\"zerolinecolor\":\"#EBF0F8\"}},\"shapedefaults\":{\"line\":{\"color\":\"#2a3f5f\"}},\"ternary\":{\"aaxis\":{\"gridcolor\":\"#DFE8F3\",\"linecolor\":\"#A2B1C6\",\"ticks\":\"\"},\"baxis\":{\"gridcolor\":\"#DFE8F3\",\"linecolor\":\"#A2B1C6\",\"ticks\":\"\"},\"bgcolor\":\"white\",\"caxis\":{\"gridcolor\":\"#DFE8F3\",\"linecolor\":\"#A2B1C6\",\"ticks\":\"\"}},\"title\":{\"x\":0.05},\"xaxis\":{\"automargin\":true,\"gridcolor\":\"#EBF0F8\",\"linecolor\":\"#EBF0F8\",\"ticks\":\"\",\"title\":{\"standoff\":15},\"zerolinecolor\":\"#EBF0F8\",\"zerolinewidth\":2},\"yaxis\":{\"automargin\":true,\"gridcolor\":\"#EBF0F8\",\"linecolor\":\"#EBF0F8\",\"ticks\":\"\",\"title\":{\"standoff\":15},\"zerolinecolor\":\"#EBF0F8\",\"zerolinewidth\":2}}},\"shapes\":[{\"line\":{\"color\":\"red\",\"dash\":\"dash\",\"width\":1},\"type\":\"line\",\"x0\":\"2023-08-01\",\"x1\":\"2023-08-01\",\"xref\":\"x\",\"y0\":0,\"y1\":1,\"yref\":\"y domain\"}],\"yaxis\":{\"title\":{\"text\":\"Day closing return (%)\"},\"tickformat\":\".0%\",\"range\":[0.75,1.6]},\"title\":{\"text\":\"12 Month Prediction vs Actual Plot\"},\"xaxis\":{\"title\":{\"text\":\"Date\"}},\"legend\":{\"title\":{\"text\":\"Legend\"}}},                        {\"responsive\": true}                    ).then(function(){\n",
       "                            \n",
       "var gd = document.getElementById('20b9df55-1708-415e-8bac-b4787d6ac016');\n",
       "var x = new MutationObserver(function (mutations, observer) {{\n",
       "        var display = window.getComputedStyle(gd).display;\n",
       "        if (!display || display === 'none') {{\n",
       "            console.log([gd, 'removed!']);\n",
       "            Plotly.purge(gd);\n",
       "            observer.disconnect();\n",
       "        }}\n",
       "}});\n",
       "\n",
       "// Listen for the removal of the full notebook cells\n",
       "var notebookContainer = gd.closest('#notebook-container');\n",
       "if (notebookContainer) {{\n",
       "    x.observe(notebookContainer, {childList: true});\n",
       "}}\n",
       "\n",
       "// Listen for the clearing of the current output cell\n",
       "var outputEl = gd.closest('.output');\n",
       "if (outputEl) {{\n",
       "    x.observe(outputEl, {childList: true});\n",
       "}}\n",
       "\n",
       "                        })                };                });            </script>        </div>"
      ]
     },
     "metadata": {},
     "output_type": "display_data"
    }
   ],
   "execution_count": 684
  },
  {
   "metadata": {},
   "cell_type": "markdown",
   "source": "#### Overview table",
   "id": "887526888ce646cc"
  },
  {
   "metadata": {
    "ExecuteTime": {
     "end_time": "2025-04-07T18:55:18.535042Z",
     "start_time": "2025-04-07T18:55:18.457016Z"
    }
   },
   "cell_type": "code",
   "source": [
    "importlib.reload(comparison)\n",
    "\n",
    "# Get train true values followed with predicted month/s\n",
    "y_train_12m_list = y_train_12m['m_return_target(t+12)'].tolist()\n",
    "y_test_12m_list = y_test_pred_12m.tolist()\n",
    "#\n",
    "df_to_evaluate_12m = comparison.get_df_to_evaluate(df, y_train_12m_list, y_test_12m_list)\n",
    "df_to_evaluate_12m = df_to_evaluate_12m - 1\n",
    "df_to_evaluate_12m"
   ],
   "id": "df6a53c2136de427",
   "outputs": [
    {
     "data": {
      "text/plain": [
       "        RS1.L        KE    TEG.DE    LEG.DE       SCS       HNI       AVT  \\\n",
       "0    0.000000  0.000000  0.320000  0.000000  0.050000  0.100000  0.140000   \n",
       "1    0.000000  0.000000  0.050000 -0.020000  0.090000  0.060000  0.150000   \n",
       "2    0.000000  0.000000 -0.150000  0.000000  0.040000  0.090000  0.070000   \n",
       "3    0.010000  0.000000  0.040000  0.000000  0.070000  0.010000  0.050000   \n",
       "4    0.000000  0.000000 -0.020000  0.000000 -0.030000 -0.030000 -0.010000   \n",
       "..        ...       ...       ...       ...       ...       ...       ...   \n",
       "282  0.244577  0.156353  0.366744  0.682462  0.407572  0.722693  0.135381   \n",
       "283  0.783048  0.260594  0.327395  1.077794  0.837635  0.516154  0.407484   \n",
       "284 -0.022296 -0.156392  0.255224  0.461186  0.081146  0.074576  0.077683   \n",
       "285  0.699889  0.047668  0.089610  0.105799  0.107854  0.542740  0.139710   \n",
       "286  0.481712  0.404350  0.753293  0.552723  0.660177  0.625111  0.391511   \n",
       "\n",
       "         ACCO    VNA.DE    7912.T  ...    DEQ.DE      KIDS      HALO  \\\n",
       "0    0.000000  0.000000  0.140000  ...  0.000000  0.000000  0.000000   \n",
       "1    1.430000 -0.020000  0.010000  ...  0.000000  0.000000  0.000000   \n",
       "2    0.000000  0.000000 -0.010000  ... -0.120000  0.000000  0.000000   \n",
       "3   -0.650000  0.000000 -0.100000  ...  0.000000  0.000000  0.000000   \n",
       "4    0.060000  0.000000  0.100000  ...  0.010000 -0.100000  0.000000   \n",
       "..        ...       ...       ...  ...       ...       ...       ...   \n",
       "282  0.099747  0.376074  0.294111  ...  0.314119 -0.048038  0.410128   \n",
       "283  0.819195  0.779750  0.498811  ...  0.859540  0.192757  0.303528   \n",
       "284  0.374535  0.457722  0.368885  ...  0.047518 -0.011545  0.297595   \n",
       "285  0.052103  0.103307  0.880507  ...  0.389076  0.231679  0.147094   \n",
       "286  0.205793  0.693868  0.499480  ...  0.520323  0.328609  1.036522   \n",
       "\n",
       "         MATW    9842.T      KVHI    MOON.L       NEO    6055.T       UNP  \n",
       "0    0.040000  0.000000  0.530000  0.000000  0.000000  0.010000  0.110000  \n",
       "1    0.050000  0.000000 -0.170000  0.000000  0.000000  0.000000  0.060000  \n",
       "2    0.020000  0.000000 -0.010000  0.000000  0.000000  0.000000  0.040000  \n",
       "3    0.010000  0.000000  0.230000  0.000000 -0.050000 -0.010000  0.090000  \n",
       "4   -0.030000  0.000000  0.020000  0.000000  0.000000  0.010000 -0.020000  \n",
       "..        ...       ...       ...       ...       ...       ...       ...  \n",
       "282  0.023295  0.430739  0.187370  0.253476  0.426754  0.726424  0.372873  \n",
       "283  0.189406  0.420859  0.268963  0.168814  0.298489  0.828836  0.278691  \n",
       "284 -0.072121  0.424665  0.426920  0.310471  0.009284  1.368559  0.197654  \n",
       "285 -0.003247  0.530417 -0.146416  0.251774  0.124364  1.360146  0.662187  \n",
       "286  0.235018  0.229088  0.217481  0.257771  0.537990  1.344105  0.686714  \n",
       "\n",
       "[287 rows x 1653 columns]"
      ],
      "text/html": [
       "<div>\n",
       "<style scoped>\n",
       "    .dataframe tbody tr th:only-of-type {\n",
       "        vertical-align: middle;\n",
       "    }\n",
       "\n",
       "    .dataframe tbody tr th {\n",
       "        vertical-align: top;\n",
       "    }\n",
       "\n",
       "    .dataframe thead th {\n",
       "        text-align: right;\n",
       "    }\n",
       "</style>\n",
       "<table border=\"1\" class=\"dataframe\">\n",
       "  <thead>\n",
       "    <tr style=\"text-align: right;\">\n",
       "      <th></th>\n",
       "      <th>RS1.L</th>\n",
       "      <th>KE</th>\n",
       "      <th>TEG.DE</th>\n",
       "      <th>LEG.DE</th>\n",
       "      <th>SCS</th>\n",
       "      <th>HNI</th>\n",
       "      <th>AVT</th>\n",
       "      <th>ACCO</th>\n",
       "      <th>VNA.DE</th>\n",
       "      <th>7912.T</th>\n",
       "      <th>...</th>\n",
       "      <th>DEQ.DE</th>\n",
       "      <th>KIDS</th>\n",
       "      <th>HALO</th>\n",
       "      <th>MATW</th>\n",
       "      <th>9842.T</th>\n",
       "      <th>KVHI</th>\n",
       "      <th>MOON.L</th>\n",
       "      <th>NEO</th>\n",
       "      <th>6055.T</th>\n",
       "      <th>UNP</th>\n",
       "    </tr>\n",
       "  </thead>\n",
       "  <tbody>\n",
       "    <tr>\n",
       "      <th>0</th>\n",
       "      <td>0.000000</td>\n",
       "      <td>0.000000</td>\n",
       "      <td>0.320000</td>\n",
       "      <td>0.000000</td>\n",
       "      <td>0.050000</td>\n",
       "      <td>0.100000</td>\n",
       "      <td>0.140000</td>\n",
       "      <td>0.000000</td>\n",
       "      <td>0.000000</td>\n",
       "      <td>0.140000</td>\n",
       "      <td>...</td>\n",
       "      <td>0.000000</td>\n",
       "      <td>0.000000</td>\n",
       "      <td>0.000000</td>\n",
       "      <td>0.040000</td>\n",
       "      <td>0.000000</td>\n",
       "      <td>0.530000</td>\n",
       "      <td>0.000000</td>\n",
       "      <td>0.000000</td>\n",
       "      <td>0.010000</td>\n",
       "      <td>0.110000</td>\n",
       "    </tr>\n",
       "    <tr>\n",
       "      <th>1</th>\n",
       "      <td>0.000000</td>\n",
       "      <td>0.000000</td>\n",
       "      <td>0.050000</td>\n",
       "      <td>-0.020000</td>\n",
       "      <td>0.090000</td>\n",
       "      <td>0.060000</td>\n",
       "      <td>0.150000</td>\n",
       "      <td>1.430000</td>\n",
       "      <td>-0.020000</td>\n",
       "      <td>0.010000</td>\n",
       "      <td>...</td>\n",
       "      <td>0.000000</td>\n",
       "      <td>0.000000</td>\n",
       "      <td>0.000000</td>\n",
       "      <td>0.050000</td>\n",
       "      <td>0.000000</td>\n",
       "      <td>-0.170000</td>\n",
       "      <td>0.000000</td>\n",
       "      <td>0.000000</td>\n",
       "      <td>0.000000</td>\n",
       "      <td>0.060000</td>\n",
       "    </tr>\n",
       "    <tr>\n",
       "      <th>2</th>\n",
       "      <td>0.000000</td>\n",
       "      <td>0.000000</td>\n",
       "      <td>-0.150000</td>\n",
       "      <td>0.000000</td>\n",
       "      <td>0.040000</td>\n",
       "      <td>0.090000</td>\n",
       "      <td>0.070000</td>\n",
       "      <td>0.000000</td>\n",
       "      <td>0.000000</td>\n",
       "      <td>-0.010000</td>\n",
       "      <td>...</td>\n",
       "      <td>-0.120000</td>\n",
       "      <td>0.000000</td>\n",
       "      <td>0.000000</td>\n",
       "      <td>0.020000</td>\n",
       "      <td>0.000000</td>\n",
       "      <td>-0.010000</td>\n",
       "      <td>0.000000</td>\n",
       "      <td>0.000000</td>\n",
       "      <td>0.000000</td>\n",
       "      <td>0.040000</td>\n",
       "    </tr>\n",
       "    <tr>\n",
       "      <th>3</th>\n",
       "      <td>0.010000</td>\n",
       "      <td>0.000000</td>\n",
       "      <td>0.040000</td>\n",
       "      <td>0.000000</td>\n",
       "      <td>0.070000</td>\n",
       "      <td>0.010000</td>\n",
       "      <td>0.050000</td>\n",
       "      <td>-0.650000</td>\n",
       "      <td>0.000000</td>\n",
       "      <td>-0.100000</td>\n",
       "      <td>...</td>\n",
       "      <td>0.000000</td>\n",
       "      <td>0.000000</td>\n",
       "      <td>0.000000</td>\n",
       "      <td>0.010000</td>\n",
       "      <td>0.000000</td>\n",
       "      <td>0.230000</td>\n",
       "      <td>0.000000</td>\n",
       "      <td>-0.050000</td>\n",
       "      <td>-0.010000</td>\n",
       "      <td>0.090000</td>\n",
       "    </tr>\n",
       "    <tr>\n",
       "      <th>4</th>\n",
       "      <td>0.000000</td>\n",
       "      <td>0.000000</td>\n",
       "      <td>-0.020000</td>\n",
       "      <td>0.000000</td>\n",
       "      <td>-0.030000</td>\n",
       "      <td>-0.030000</td>\n",
       "      <td>-0.010000</td>\n",
       "      <td>0.060000</td>\n",
       "      <td>0.000000</td>\n",
       "      <td>0.100000</td>\n",
       "      <td>...</td>\n",
       "      <td>0.010000</td>\n",
       "      <td>-0.100000</td>\n",
       "      <td>0.000000</td>\n",
       "      <td>-0.030000</td>\n",
       "      <td>0.000000</td>\n",
       "      <td>0.020000</td>\n",
       "      <td>0.000000</td>\n",
       "      <td>0.000000</td>\n",
       "      <td>0.010000</td>\n",
       "      <td>-0.020000</td>\n",
       "    </tr>\n",
       "    <tr>\n",
       "      <th>...</th>\n",
       "      <td>...</td>\n",
       "      <td>...</td>\n",
       "      <td>...</td>\n",
       "      <td>...</td>\n",
       "      <td>...</td>\n",
       "      <td>...</td>\n",
       "      <td>...</td>\n",
       "      <td>...</td>\n",
       "      <td>...</td>\n",
       "      <td>...</td>\n",
       "      <td>...</td>\n",
       "      <td>...</td>\n",
       "      <td>...</td>\n",
       "      <td>...</td>\n",
       "      <td>...</td>\n",
       "      <td>...</td>\n",
       "      <td>...</td>\n",
       "      <td>...</td>\n",
       "      <td>...</td>\n",
       "      <td>...</td>\n",
       "      <td>...</td>\n",
       "    </tr>\n",
       "    <tr>\n",
       "      <th>282</th>\n",
       "      <td>0.244577</td>\n",
       "      <td>0.156353</td>\n",
       "      <td>0.366744</td>\n",
       "      <td>0.682462</td>\n",
       "      <td>0.407572</td>\n",
       "      <td>0.722693</td>\n",
       "      <td>0.135381</td>\n",
       "      <td>0.099747</td>\n",
       "      <td>0.376074</td>\n",
       "      <td>0.294111</td>\n",
       "      <td>...</td>\n",
       "      <td>0.314119</td>\n",
       "      <td>-0.048038</td>\n",
       "      <td>0.410128</td>\n",
       "      <td>0.023295</td>\n",
       "      <td>0.430739</td>\n",
       "      <td>0.187370</td>\n",
       "      <td>0.253476</td>\n",
       "      <td>0.426754</td>\n",
       "      <td>0.726424</td>\n",
       "      <td>0.372873</td>\n",
       "    </tr>\n",
       "    <tr>\n",
       "      <th>283</th>\n",
       "      <td>0.783048</td>\n",
       "      <td>0.260594</td>\n",
       "      <td>0.327395</td>\n",
       "      <td>1.077794</td>\n",
       "      <td>0.837635</td>\n",
       "      <td>0.516154</td>\n",
       "      <td>0.407484</td>\n",
       "      <td>0.819195</td>\n",
       "      <td>0.779750</td>\n",
       "      <td>0.498811</td>\n",
       "      <td>...</td>\n",
       "      <td>0.859540</td>\n",
       "      <td>0.192757</td>\n",
       "      <td>0.303528</td>\n",
       "      <td>0.189406</td>\n",
       "      <td>0.420859</td>\n",
       "      <td>0.268963</td>\n",
       "      <td>0.168814</td>\n",
       "      <td>0.298489</td>\n",
       "      <td>0.828836</td>\n",
       "      <td>0.278691</td>\n",
       "    </tr>\n",
       "    <tr>\n",
       "      <th>284</th>\n",
       "      <td>-0.022296</td>\n",
       "      <td>-0.156392</td>\n",
       "      <td>0.255224</td>\n",
       "      <td>0.461186</td>\n",
       "      <td>0.081146</td>\n",
       "      <td>0.074576</td>\n",
       "      <td>0.077683</td>\n",
       "      <td>0.374535</td>\n",
       "      <td>0.457722</td>\n",
       "      <td>0.368885</td>\n",
       "      <td>...</td>\n",
       "      <td>0.047518</td>\n",
       "      <td>-0.011545</td>\n",
       "      <td>0.297595</td>\n",
       "      <td>-0.072121</td>\n",
       "      <td>0.424665</td>\n",
       "      <td>0.426920</td>\n",
       "      <td>0.310471</td>\n",
       "      <td>0.009284</td>\n",
       "      <td>1.368559</td>\n",
       "      <td>0.197654</td>\n",
       "    </tr>\n",
       "    <tr>\n",
       "      <th>285</th>\n",
       "      <td>0.699889</td>\n",
       "      <td>0.047668</td>\n",
       "      <td>0.089610</td>\n",
       "      <td>0.105799</td>\n",
       "      <td>0.107854</td>\n",
       "      <td>0.542740</td>\n",
       "      <td>0.139710</td>\n",
       "      <td>0.052103</td>\n",
       "      <td>0.103307</td>\n",
       "      <td>0.880507</td>\n",
       "      <td>...</td>\n",
       "      <td>0.389076</td>\n",
       "      <td>0.231679</td>\n",
       "      <td>0.147094</td>\n",
       "      <td>-0.003247</td>\n",
       "      <td>0.530417</td>\n",
       "      <td>-0.146416</td>\n",
       "      <td>0.251774</td>\n",
       "      <td>0.124364</td>\n",
       "      <td>1.360146</td>\n",
       "      <td>0.662187</td>\n",
       "    </tr>\n",
       "    <tr>\n",
       "      <th>286</th>\n",
       "      <td>0.481712</td>\n",
       "      <td>0.404350</td>\n",
       "      <td>0.753293</td>\n",
       "      <td>0.552723</td>\n",
       "      <td>0.660177</td>\n",
       "      <td>0.625111</td>\n",
       "      <td>0.391511</td>\n",
       "      <td>0.205793</td>\n",
       "      <td>0.693868</td>\n",
       "      <td>0.499480</td>\n",
       "      <td>...</td>\n",
       "      <td>0.520323</td>\n",
       "      <td>0.328609</td>\n",
       "      <td>1.036522</td>\n",
       "      <td>0.235018</td>\n",
       "      <td>0.229088</td>\n",
       "      <td>0.217481</td>\n",
       "      <td>0.257771</td>\n",
       "      <td>0.537990</td>\n",
       "      <td>1.344105</td>\n",
       "      <td>0.686714</td>\n",
       "    </tr>\n",
       "  </tbody>\n",
       "</table>\n",
       "<p>287 rows × 1653 columns</p>\n",
       "</div>"
      ]
     },
     "execution_count": 690,
     "metadata": {},
     "output_type": "execute_result"
    }
   ],
   "execution_count": 690
  },
  {
   "metadata": {
    "ExecuteTime": {
     "end_time": "2025-04-07T19:02:01.642174Z",
     "start_time": "2025-04-07T19:01:47.995319Z"
    }
   },
   "cell_type": "code",
   "source": [
    "importlib.reload(comparison)\n",
    "df_pred_12m, raw_weights_12m, mu_12m, S_12m, sigma_12m, sharpe_12m = comparison.get_portfolio_performance(df_to_evaluate_12m,\n",
    "                                                                                                          \"xgbooster_weights_12m.csv\",\n",
    "                                                                                                          min_avg_return=-0.5,\n",
    "                                                                                                          months=12)\n",
    "comparison.create_discrete_allocation(df_pred_12m, raw_weights_12m)\n",
    "\n",
    "# Create overview\n",
    "df_view_12m = pd.DataFrame.from_dict(raw_weights_12m, orient='index', columns=['max_sharpe_weight'])\n",
    "# Extract volatilities (square root of diagonal elements)\n",
    "df_view_12m['avg_annual_volatility'] = pd.Series(np.sqrt(np.diag(S_12m)), index=S_12m.columns).values\n",
    "# Set annual returns\n",
    "df_view_12m['avg_annual_return'] = mu_12m.values\n",
    "# \n",
    "df_view_12m['return_last_period(12m)'] = round(df.tail(12).prod() - 1, 2)\n",
    "df_view_12m"
   ],
   "id": "9459dc4978e01996",
   "outputs": [
    {
     "name": "stdout",
     "output_type": "stream",
     "text": [
      "[-0.04358553886413574, 0.41664886474609375, 0.5675022602081299, 1.1773312091827393, 0.5249886512756348, 0.3171074390411377, 0.3990079164505005, 0.15635335445404053, 0.26059412956237793, -0.15639227628707886, 0.04766845703125, 0.40434956550598145]\n",
      "mu 22.510101099514678\n",
      "Expected annual return: 689083.3%\n",
      "Annual volatility: 521.3%\n",
      "Sharpe Ratio: 1321.79\n",
      "Discrete allocation: {'RS1.L': 1, 'KE': 2, 'TEG.DE': 1, 'LEG.DE': 1, 'SCS': 1, 'HNI': 1, 'AVT': 2, 'ACCO': 3, 'VNA.DE': 1, '7912.T': 1, 'KEYS': 1, 'SGRO.L': 1, 'CBRE': 1, 'BRC': 2, 'PGRE': 1, 'PSON.L': 11, 'BBOX.L': 1, 'REL.L': 11, 'TMV.DE': 6, 'BHE': 10, 'PLXS': 3, 'GPE.L': 23, 'HAS': 1, 'JLL': 2, 'LAND.L': 1, 'OLED': 2, 'CDW': 7, 'FLEX': 3, 'REZI': 1, 'TPL': 1, 'ARW': 1, 'NOVT': 1, 'RYN': 1, 'SNX': 1, '7911.T': 2, 'CMPR': 3, 'DLAR.L': 2, 'SHA.DE': 7, 'TTMI': 1, 'PBI': 1, 'BYG.L': 1, 'ASGN': 4, 'COA.L': 2, 'VVV': 1, 'PAGE.L': 2, 'DB1.DE': 1, 'AVB': 2, '3309.T': 1, 'STWD': 1, 'MTO.L': 3, 'KFY': 1, 'BLND.L': 1, 'RGLD': 1, 'KFRC': 1, 'IWG.L': 3, '8954.T': 4, 'ZIL2.DE': 1, 'SANM': 14, 'SXS.L': 1, 'YETI': 4, 'ACN': 1, 'HPP': 8, '7893.T': 3, 'SVS.L': 4, 'AGNC': 4, 'CTS': 3, 'IPG': 1, 'BMI': 1, 'FUTR.L': 2, 'EBOX.L': 1, 'SCSC': 2, 'MAN': 2, '7994.T': 4, 'PDM': 1, 'NBS.L': 4, 'DSCV.L': 4, 'KELYA': 1, 'ST': 3, '7984.T': 3, 'CCK': 3, 'APTV': 5, 'STEM.L': 1, 'UU.L': 3, 'ITRI': 1, '6287.T': 1, 'INF.L': 2, 'HMSO.L': 1, 'WDC': 1, 'EBF': 2, 'TNET': 1, 'MLKN': 1, 'HLMA.L': 1, 'WPP.L': 3, 'JBL': 3, '3279.T': 1, 'JEN.DE': 2, 'LXP': 1, 'TRMB': 1, 'WKP.L': 1, 'NLY': 1, 'KGF.L': 2, '7951.T': 2, '7846.T': 3, 'SBAC': 1, 'KRG': 2, 'ATR': 8, 'ELME': 3, 'DNLM.L': 1, 'BDEV.L': 1, 'TEP.L': 1, 'ESRT': 1, 'CGNX': 2, 'ZBRA': 1, 'DLX': 10, 'BWA': 3, 'ELV': 5, 'NYT': 1, 'SNWS.L': 2, 'INS.DE': 1, 'INCH.L': 1, 'NWSA': 4, 'AT1.DE': 3, 'MKSI': 3, '7914.T': 1, 'MMI': 1, 'EXPN.L': 1, 'GRI.L': 1, 'SMWH.L': 1, 'IR': 1, 'ITV.L': 11, 'LAD': 2, 'HSII': 2, 'CUZ': 1, 'LIN': 2, 'PHP.L': 1, 'NL': 2, 'BALL': 1, 'DHR': 1, 'KIM': 1, '8057.T': 2, 'MAC': 2, 'ECOR.L': 5, 'SWBI': 7, '8151.T': 2, 'CNNE': 1, 'PLD': 1, 'REXR': 1, 'IPGP': 1, 'RHI': 1, '7868.T': 3, 'CDP': 2, 'GOLF': 1, 'HAS.L': 1, 'LSL.L': 4, '7272.T': 1, 'RCH.L': 1, 'ATGE': 1, '7701.T': 1, 'SAP.DE': 1, 'GWI.L': 8, 'POOL': 2, 'AZO': 12, 'ZWS': 1, 'GTX': 7, 'LKQ': 2, 'HPQ': 1, 'AZEK': 1, 'ADV.DE': 5, 'VRE': 1, 'NSIT': 4, 'KMX': 1, 'OXIG.L': 2, 'CDNS': 2, 'CAH': 1, 'VNT': 1, 'VTR': 1, 'COR': 2, 'REG': 3, '7976.T': 1, 'STAA': 5, 'JOUT': 1, 'PNN.L': 4, 'ENR.DE': 2, 'WSM': 1, 'WIX.L': 2, 'A': 1, 'EQR': 4, 'PFG': 1, '8952.T': 2, 'PTEC.L': 5, 'SPGI': 2, 'FOXT.L': 4, 'HPE': 1, '8976.T': 2, '4641.T': 1, 'LZB': 2, 'CWC.DE': 1, 'AAD.DE': 1, 'STX': 1, 'ESS': 4, 'AMAT': 1, 'AMH': 1, 'LEA': 6, '7762.T': 4, 'ANIK': 2, 'PKE': 10, 'HIW': 3, 'MAA': 1, 'PSM.DE': 10, 'HLE.DE': 2, 'RELL': 1, '3107.T': 1, 'PSA': 1, 'AY': 2, 'ORLY': 3, 'LOW': 1, 'ALV.DE': 4, 'BBSI': 2, 'DLB': 19, 'OPEN': 1, 'RSW.L': 6, 'SMDS.L': 1, '7613.T': 1, 'LMP.L': 1, 'O5G.DE': 44, 'CCI': 2, 'DLN.L': 1, 'ALV': 1, 'LITE': 1, 'MNDI.L': 2, '8084.T': 1, 'AMBP': 3, 'BXP': 2, 'EXLS': 1, '8022.T': 1, 'BDN': 2, '8060.T': 2, 'MTH': 1, 'XRAY': 3, 'FL': 1, 'HAE': 2, 'BRX': 2, 'MTD': 1, 'MSI': 1, 'FME.DE': 13, 'DLR': 1, 'SAFE.L': 1, 'LRCX': 1, '7864.T': 1, 'FOXA': 5, 'LEG': 9, 'HLCL.L': 1, 'SAX.DE': 2, 'KBX.DE': 1, 'JDG.L': 1, 'IRM': 1, 'BOSS.DE': 2, 'NSP': 9, 'G1A.DE': 3, 'RDW.L': 2, 'RNW': 2, 'FRT': 4, 'PINE.L': 2, 'SPG': 1, 'MPX': 10, '1925.T': 349, 'BSL.DE': 3, 'IVT': 4, 'TBCG.L': 33, 'HBH.DE': 3, 'PAG': 3, 'JD.L': 1, 'AMT': 1, 'ESCA': 2, 'BKG.L': 2, 'IGT': 1, 'CRMT': 3, 'BCYC': 5, 'TPX': 2, 'TMO': 1, '9934.T': 3, 'WAT': 1, 'AN': 1, 'THRM': 1, 'PETS.L': 1, 'GPC': 5, 'MNRO': 2, 'UDMY': 1, 'HD': 1, 'EGP': 3, 'NWL': 4, 'SPT.L': 1, 'CSCO': 5, 'HASI': 1, 'RWS.L': 2, 'ASCL.L': 1, 'OKTA': 4, 'MOV': 7, 'UDR': 1, 'PMT': 1, 'CMLS': 1, 'G24.DE': 2, 'JNPR': 9, '8967.T': 2, '8159.T': 1, 'HST': 1, 'AGR.L': 1, '3295.T': 1, '8960.T': 2, 'SBRA': 4, 'ICG.L': 3, 'EQIX': 2, 'TEL': 1, 'BIG.L': 1, 'CI': 6, '7734.T': 1, 'TBI': 4, 'SREI.L': 3, 'UTG.L': 1, 'HOG': 2, 'UTMD': 2, 'SVT.L': 6, 'DRH': 2, 'BFSA.DE': 1, '7906.T': 2, 'DHL.DE': 2, 'DFS.L': 3, '8984.T': 3, 'FTDR': 1, 'SUPR.L': 1, 'IFX.DE': 1, 'WLY': 1, 'AOX.DE': 2, 'JBGS': 2, 'GPI': 1, 'CLMB': 2, 'BAH': 2, 'ETD': 3, 'ARE': 1, 'SSP': 1, 'TW.L': 1, 'SMTC': 1, 'AGYS': 2, 'SDRY.L': 8, 'SEE': 1, 'SLG': 1, '7867.T': 1, 'WTS': 1, 'AKAM': 2, 'NCC.L': 1, 'SKT': 1, 'IBM': 1, 'EA': 2, 'TSCO': 2, 'ACRE': 1, 'CEC.DE': 5, 'PANW': 1, 'ADS.DE': 1, 'AV.L': 1, 'RTO.L': 3, 'VID.L': 2, '5988.T': 1, 'AL': 1, 'QCOM': 3, 'BCPT.L': 1, 'GWRE': 1, 'LEVI': 1, '3451.T': 1, 'NDAQ': 1, '8141.T': 5, 'QGEN': 1, '8986.T': 2, 'DWNI.DE': 1, 'GAW.L': 1, 'KRC': 1, 'BIRK': 7988, 'CRI': 10, 'PAG.L': 1, 'FOSL': 7, 'CCEP': 3, 'RWI.L': 3, 'ACLS': 3, 'JAKK': 1, 'HQI': 2, 'CAR': 2, 'FRE.DE': 3, 'HAYW': 2, '8968.T': 3, 'HOFT': 1, 'CNH': 10, 'IPO.L': 3, 'CURY.L': 4, 'ANET': 1, '7718.T': 1, 'BNR.DE': 2, 'CCC.L': 9, 'LOPE': 1, 'STAG': 1, '7282.T': 1, 'G': 33, '8957.T': 4, '8955.T': 2, 'VNO': 1, '7944.T': 5, 'RXRX': 1, 'CNXN': 1, 'MKTX': 1, 'CREI.L': 1, 'WPC': 1, 'AMD': 3, 'ELS': 1, 'AKR': 4, 'TGNA': 9, 'SNPS': 1, 'VICI': 2, 'HWDN.L': 1, 'KNOS.L': 4, '9983.T': 1, 'BBY': 1, 'MRL.L': 4, 'MHK': 1, 'GPMT': 2, 'FERG': 2, 'STVG.L': 1, 'USFD': 1, 'RL': 1, 'INVP.L': 1, 'FRA.DE': 2, 'MOTR.L': 1, 'BMY.L': 4, 'COLD': 1, 'ADBE': 1, 'PARA': 16, 'THRY': 12, 'ETWO': 5, '8173.T': 3, 'GYC.DE': 1, 'TTEK': 2, 'CENT': 3, 'PK': 2, 'AAT': 1, 'DECK': 1, 'ITI': 2, 'KBH': 1, 'MSFT': 1, '8818.T': 2, 'CPT': 1, 'EXR': 1, 'PLCE': 1, 'JBHT': 1, '7752.T': 2, 'NTAP': 1, 'ABM': 1, 'AMS.L': 6, 'CNXC': 2, 'FGP.L': 3, '8014.T': 2, 'HL.L': 10, 'FBRT': 4, '7593.T': 1, 'FIS': 3, 'ABG': 1, 'PRU.L': 3, 'VFC': 2, 'SITC': 1, 'MSCI': 1, 'FIGS': 1, 'KLIC': 2, 'LULU': 2, 'VOD.L': 2, '8953.T': 2, 'SRE.L': 1, '8154.T': 1, 'ANSS': 2, 'CTEC.L': 1, '7780.T': 1, 'ORA': 1, 'NTGR': 1, 'SUI': 1, 'SIG': 1, 'HSIC': 5, 'CRUS': 1, '8130.T': 4, 'ALFA.L': 4, '6430.T': 1, 'ORCL': 1, 'OMC': 1, 'CIEN': 1, '8897.T': 2, 'KTB': 1, 'HLN.L': 3, '3471.T': 1, 'SMP': 6, 'DJCO': 1, 'ALGM': 3, 'CTRE': 2, '9332.T': 4, 'CRM': 2, 'MCO': 2, '3132.T': 1, 'HUBS': 2, '3493.T': 1, 'VEEV': 3, 'TPT.L': 2, '7483.T': 1, 'AMCR': 2, 'FCPT': 1, 'GBF.DE': 10, '8150.T': 9, 'TRNO': 2, 'SAFE': 2, 'RITM': 1, 'MUV2.DE': 6, '8876.T': 1, 'RESI.L': 10, '9602.T': 4, 'GCI': 1, 'HWG.L': 1, 'GLPI': 3, 'DAN': 3, 'APD': 2, 'RDUS': 6, 'ARLO': 2, 'SIX2.DE': 1, 'ZM': 1, 'OMF': 1, 'OI': 5, '8283.T': 3, 'GEN': 2, 'ARI': 1, '8972.T': 1, '8951.T': 2, 'PEB': 3, 'SVC': 3, 'NOEJ.DE': 20, 'RF': 1, 'HRB': 1, 'MAT': 5, 'LASR': 3, '6703.T': 1, 'DT': 2, '7947.T': 2, 'FR': 1, 'NOW': 1, 'XPER': 1, 'V': 1, 'DIS': 1, '7990.T': 3, 'CRST.L': 2, '3738.T': 1, 'AGS': 4, '3487.T': 1, '7552.T': 1, 'ZAL.DE': 2, '9882.T': 2, 'MFA': 1, 'INTC': 2, 'HOLI': 3, 'ADP': 3, 'MET': 3, 'HIG': 6, 'CIM': 1, 'ZTS': 1, 'CALX': 6, '8111.T': 1, 'VPG': 2, 'ADSK': 1, 'JUP.L': 3, 'TT': 1, 'VSCO': 2, 'MIR': 1, 'FND': 1, 'WY': 1, 'KW': 2, '7741.T': 1, 'CTSH': 1, 'SHO': 3, 'HABA.DE': 1, 'SFQ.DE': 1, 'CSR': 1, 'ANF': 1, 'ADC': 2, '9832.T': 6, 'R': 1, 'AEO': 1, 'TLX.DE': 1, '8961.T': 4, 'ZUMZ': 1, 'AXL': 5, 'AON': 3, 'SYY': 1, 'DXC': 2, 'CASS': 1, 'CROX': 1, 'XHR': 2, 'CLDT': 6, 'ARCB': 2, 'NOVA': 1, 'TER': 2, 'ABDP.L': 3, 'OMI': 1, 'FDM.L': 4, 'WEYS': 5, 'EBAY': 1, 'BERY': 2, 'MRVL': 1, 'ROIC': 1, 'MLAB': 1, 'AVY': 1, 'GSK.L': 7, '5970.T': 1, 'MMS': 1, 'SCI': 1, 'TDC': 2, 'TJX': 3, 'ULTA': 1, 'O': 1, 'BNL': 1, 'OSIS': 1, 'CPI.L': 2, 'BR': 2, 'CVLT': 1, 'NFLX': 1, 'BSY': 3, '8008.T': 3, 'MA': 1, 'SEDG': 1, '6758.T': 1, 'SONO': 1, 'ETSY': 1, 'WOOF': 1, 'PVH': 1, 'COO': 1, 'IDS.L': 10, 'WHR.L': 1, '7974.T': 1, 'AHT.L': 3, 'VRA': 4, 'ICLR': 1, 'NXST': 13, 'NXT': 1, 'URI': 1, 'CPRT': 1, '6737.T': 1, 'CYBR': 1, 'DELL': 1, 'ASO': 1, 'VSTO': 2, 'SHOO': 1, 'BNZL.L': 12, 'LCII': 2, 'GLOB': 1, 'WCC': 1, '8964.T': 3, '8056.T': 1, '7832.T': 3, 'ABDN.L': 2, 'SDR.L': 1, 'DEA': 1, 'DX': 3, 'GT': 1, 'PATH': 14, 'TW': 1, 'NRR.L': 1, 'NSSC': 1, '6744.T': 1, '3226.T': 1, 'HVT': 2, 'GHC': 1, 'WSR': 1, 'MMSI': 5, 'ITRK.L': 5, 'ESTC': 14, '6745.T': 1, '4062.T': 1, 'LRN': 1, '9474.T': 2, 'ODFL': 9, 'VTU.L': 1, 'AZTA': 9, 'DORM': 1, 'EPR': 2, 'BURL': 1, 'PSDL.L': 4, '6471.T': 1, 'WBA': 509, 'THRL.L': 2, 'BOOT': 1, 'GWW': 1, '3003.T': 1, 'DE': 4, 'GPK': 1, 'CPS': 1, 'INVH': 1, 'BFAM': 1, '7508.T': 1, 'VVI': 1, 'SIRI': 2, 'RBBN': 24, 'TTWO': 1, 'GIII': 1, 'GBG.L': 27, 'VOYA': 6, 'IQV': 1, 'DDOG': 2, 'CCO': 9, 'MRVI': 1, 'CACI': 3, 'WMG': 6, 'NG.L': 8, 'AAN': 4, 'BATRK': 4, 'JCI': 1, 'TPE.DE': 2, 'GPS': 1, 'JST.DE': 6, 'ESP.L': 1, '2429.T': 1, 'CVNA': 1, 'EXPD': 2, 'CSGS': 3, 'NNN': 1, 'INN': 1, 'NMRK': 1, 'PYCR': 3, 'BGEO.L': 2, 'TPK.L': 5, 'HBI': 38, 'KLAC': 1, 'CLAR': 2, 'NYMT': 1, 'MER.L': 2, 'HIBB': 1, 'EOAN.DE': 87, '7296.T': 1, 'RVTY': 2, 'XPP.L': 1, 'HLT': 1, '8987.T': 2, '2784.T': 1, 'BKE': 1, 'YOU.DE': 4, 'DHC': 1, '6859.T': 1, 'SFIX': 1, 'AZPN': 1, 'RHP': 1, 'SMHN.DE': 1, 'VRSK': 4, '4544.T': 1, 'UAA': 1, 'PSN.L': 2, 'CRTO': 2, '3231.T': 1, 'CPRI': 5, '9843.T': 2, 'BLD': 2, 'CIO': 1, 'DAVA': 2, 'RGP': 15, 'FTNT': 3, 'FFIV': 1, 'SPX.L': 1, 'STRA': 1, '9470.T': 1, 'COHU': 3, 'PSTG': 2, 'HEAR': 3, 'TPH': 1, 'LTC': 3, 'PCTN.L': 2, '8966.T': 2, 'FOXF': 3, 'OSPN': 4, 'OSUR': 2, 'MCW': 3, 'FTK.DE': 1, 'PYPL': 1, 'PAR': 24, '9735.T': 3, 'CWK': 4, 'JUST.L': 1, 'EYE': 1, 'FDS': 13, 'VTY.L': 2, 'FRPH': 3, 'SYF': 1, 'PFGC': 2, 'AEWU.L': 3, 'PCH': 3, 'AGCO': 5, 'RWT': 1, 'VIAV': 2, 'ZS': 1, 'FOUR.L': 2, 'OMCL': 7, '3292.T': 1, 'IHRT': 715, 'LESL': 1, 'EQC': 16, 'HBAN': 1, 'WAF.DE': 2, '9729.T': 1, 'PRDO': 8, 'OSW': 1, 'SBS.DE': 3, 'BXMT': 1, 'IRT': 1, '7239.T': 1, 'KD': 3, 'CUBE': 1, 'VTSC.DE': 82, 'TMHC': 1, 'SMAR': 7, '4745.T': 1, 'LGEN.L': 2, 'GLW': 4, 'PAYX': 1, 'XRX': 4, 'GFS': 4, 'MTCH': 8, 'GES': 2, 'NAPA': 9, '3116.T': 1, '6644.T': 1, 'IHG.L': 1, '7729.T': 1, 'OXM': 1, '7731.T': 1, 'CARR': 1, '6736.T': 1840, 'MEGP.L': 2, 'TTK.DE': 2, 'AAPL': 1, 'JHG': 1, 'TTSH': 1, '3269.T': 1, 'REGN': 10, 'SGE.L': 3, 'UNIT': 1, 'UPBD': 2, 'EVD.DE': 1, 'SCT.L': 12, 'SNOW': 2, '6425.T': 1, 'INTU': 1, 'UNM': 33, 'PTON': 1, 'WTW': 2, 'DKS': 1, 'MRK.DE': 1, '3468.T': 1, 'ROKU': 1, '9627.T': 1, '4293.T': 1, '4665.T': 1, 'HLIT': 5, 'YUMC': 2, 'ZI': 9, 'FITB': 2, 'EFC': 1, '6146.T': 468, 'LFUS': 2, 'BWY.L': 2, '7955.T': 3, 'U': 2, 'CTAS': 1, 'UNH': 5, 'BLKB': 1, 'LDOS': 1, 'MBG.DE': 2, 'DOCU': 2, 'SSE.L': 1, 'PLYM': 1, 'EPRT': 1, '6750.T': 1, 'COK.DE': 1, 'PINC': 3, 'KVUE': 1, 'FORM': 2, '7732.T': 1, 'CME': 3, 'EXTR': 1, 'AOF.DE': 2, 'TGT': 1, '2767.T': 1, 'ASHM.L': 2, '8985.T': 4, 'RLJ': 1, 'LNT': 2, 'ATRI': 2, 'P911.DE': 8, '8804.T': 10, '8802.T': 2, 'ARHS': 1, 'HZO': 1, 'MEDP': 1, '7751.T': 1, 'BKNG': 2, 'LSEG.L': 1, 'AMN': 3, 'ROST': 2, 'CAL': 1, '8439.T': 3, 'MANH': 1, '3492.T': 1, 'EQH': 1, 'PCA.L': 2, '9101.T': 1, 'PAT.DE': 2, 'TFC': 1, 'OHI': 3, 'TROW': 1, 'FSLR': 1, 'CCH.L': 6, '9364.T': 6, '7730.T': 1, 'NEOG': 2, 'HNR1.DE': 4, 'DAY': 4, 'SNDR': 3, 'MONY.L': 16, 'MDB': 7551, 'MEG': 1, 'MERC': 5, 'SHYF': 6, 'CHEF': 1, 'HCSG': 2, '2874.T': 1, 'WU': 7, 'APLE': 5, '9068.T': 4, 'MSGS': 4, 'DBI': 3, 'CON.DE': 2, 'IHR.L': 1, 'ROK': 2, 'GNTX': 3, 'WDAY': 1, 'CCS': 1, '9831.T': 4, '9401.T': 1, '9719.T': 2, 'RH': 1, '8079.T': 1, '7915.T': 2, 'LSCC': 10, 'CHRW': 4, '3289.T': 1, 'IVR': 6, 'RMV.L': 3, 'BBW': 2, 'GXI.DE': 2, 'EMG.L': 4, 'ONTF': 2, 'CRWD': 2, 'SLAB': 1, '6914.T': 1, 'GTN': 6383, 'CLI.L': 2, 'SAIA': 1, 'KN': 1, 'NDX1.DE': 2, 'LINC': 1, 'DAKT': 1, 'PRI': 2, 'CHKP': 1, 'HFFG': 2, 'ALIT': 2, 'NETW.L': 20, 'TEAM': 4, 'DGII': 4, 'EVTC': 1, 'HHFA.DE': 2, 'AFL': 5, 'SBGI': 2, 'PECO': 4, 'PUM.DE': 1, '8129.T': 1, 'NCNO': 3, 'SBH': 1, 'NWG.L': 1, 'NEXN.L': 3, 'EVT.DE': 1, 'FI': 2, 'JILL': 3, '9404.T': 1, 'UNFI': 4, 'CBL': 1, 'AHH': 1, 'SFM': 1, 'HR': 2, 'KMI': 1, 'KWS.L': 5, '7740.T': 1, 'TWO': 1, '3191.T': 1, '9076.T': 5, 'MPW': 2, 'AEIS': 2, 'AMKR': 2, 'ZIG.L': 1, 'KREF': 1, 'AER': 1, 'PFE': 6, '4301.T': 1, 'NVMI': 1, 'LADR': 1, '9024.T': 1, 'YOU.L': 2, 'LIO.L': 21, 'ICFI': 1, 'INFN': 1, '7294.T': 1, 'HURN': 3, 'SLP': 5, '4716.T': 1, '7599.T': 535, 'UCTT': 2, 'CFLT': 21, 'ONEW': 1, 'VMUK.L': 1, 'VYX': 2, 'B4B.DE': 24, 'XYL': 1, 'RBLX': 2, 'AYI': 2, '8050.T': 1, 'SY1.DE': 1, 'WST': 1, 'RARE': 1, 'UE': 2, 'BFH': 5, 'KAR': 1, '8282.T': 3, '6268.T': 1, 'ETN': 1, 'AMC': 118, 'FWRD': 1, '2395.T': 1, 'WBD': 2, 'SHL.DE': 2, 'CRL': 1, 'AUTO.L': 1, 'ADI': 1, 'NSA': 1, '8114.T': 2, 'ES': 1, 'WTB.L': 3, 'KNX': 1, 'TRTX': 1, 'EVOK.L': 9, 'LAMR': 2, 'CPRX': 1, 'ONT.L': 3, 'BELFB': 3, 'TWKS': 11, '9434.T': 22, 'MOD': 1, 'BEZ.L': 1, 'WHR': 1, 'DRVN': 1, '8591.T': 3, 'PRSR.L': 1, '7844.T': 3, 'DDS': 1, 'RMR': 1, '7575.T': 1, 'MNDY': 4, 'KCO.DE': 3, 'EVRI': 4, '3635.T': 1, 'HSTM': 4, 'DNB': 1, 'AXP': 1, 'ORC': 4, 'FOR': 1, 'GEF': 1, '7747.T': 1, 'NTST': 1, 'PKG': 1, 'OC': 1, '9987.T': 1, 'ARR': 4, '8601.T': 1, 'DTE.DE': 16, 'IHS': 1, '8963.T': 1, 'NBPE.L': 5, 'TAL': 1, '7803.T': 9, 'BIRD': 9, 'FLGT': 2, 'WRBY': 3, 'PGNY': 2, 'SRP.L': 1, 'UTI': 2, 'BEPC': 1, 'ATG.L': 6, 'WINA': 15, 'GTY': 1, 'HEN3.DE': 4, 'TYL': 1, 'PRG': 1, 'BLK': 1, 'NTCT': 2, '7459.T': 1, 'FAN.L': 2, '9613.T': 1, 'TYMN.L': 2, 'PAYC': 5, 'GDDY': 1, 'RMBS': 26, 'CRDA.L': 5, 'MGRC': 27, 'DNOW': 4, 'MSA': 1, 'RC': 1, 'TTG.L': 2, 'MNG.L': 11, '3402.T': 1, 'N91.L': 1, 'WTRG': 3, 'UPWK': 2, 'CPG.L': 4, 'KBR': 1, 'ADUS': 1, 'PRPL': 3, 'PWSC': 2, '8308.T': 1, 'RSG': 2, 'PTC': 1, 'ALGN': 1, 'CRH': 1, 'RAT.L': 2, 'PRU': 4, '8958.T': 2, '2972.T': 1, 'CNK': 2, 'LNC': 1, '6965.T': 1, 'NXT.L': 1, 'PHNX.L': 1, 'OUT': 1, 'LBRDK': 5, 'CTO': 6, 'ICE': 1, 'MU': 2, 'ROL': 1, 'OTIS': 1, 'FINV': 10, 'PRGS': 3, 'EVK.DE': 2, '8219.T': 3, 'JKHY': 1, 'AMP': 1, 'PTVE': 21, 'ICUI': 1, 'ENTG': 2, '6718.T': 1, '9107.T': 5, 'AWK': 1, 'BOWL': 1, 'NKE': 11, '6955.T': 1, 'DTG.DE': 1, 'QSI': 3, 'JMAT.L': 2, 'NHI': 1, 'DLTR': 2, 'PRO': 2, 'UPS': 2, 'DWS.DE': 2, 'BIJ.DE': 2, 'EXC': 4, '3290.T': 1, 'FCN': 2, 'JAMF': 7, 'VZ': 1, 'GLE.L': 1, '7988.T': 3, 'TOST': 1, 'ARES': 2, 'WM': 3, 'LXS.DE': 4, 'CMI': 1, 'HCKT': 85, 'NESF.L': 4, 'PLUS.L': 8, '2389.T': 1, 'WWW': 1, 'VSAT': 2, 'TILE': 1, 'BDC': 1, 'HUBB': 1, 'ADTN': 24364, 'RGA': 1, 'AVGO': 1, 'RM': 10, 'URBN': 508, '6651.T': 1, 'ULTP.L': 2, 'AVNS': 1, 'LAUR': 2, 'ENR': 7, 'SCVL': 1, 'ADPT': 3, 'SAH': 1, 'ONL': 1, 'DBRG': 4, '9697.T': 4, 'GPRO': 8, 'VRNT': 2, 'HUM': 6, 'CARG': 1, 'NEM.DE': 1, 'ZIM': 2, 'SBLK': 2, '7860.T': 2, 'NXU.DE': 1, 'TROX': 2, 'BK': 1, 'MPWR': 1, 'VOXX': 1499, 'ILMN': 1, 'PD': 2, 'APH': 1, 'FSJ.L': 4, 'MSM': 9, 'FDX': 1, '9766.T': 2, 'VECO': 3, 'MRTN': 2, '8012.T': 2, 'CRAI': 1, 'GKOS': 3, 'KMT': 3, '9757.T': 5, 'NTNX': 3, '9413.T': 2, 'BOOT.L': 3, 'IT': 2, '8697.T': 2, 'NXPI': 1, 'RS': 2, 'ITRN': 2, '9869.T': 2, '8977.T': 3, 'APP': 1, 'AVNW': 1, 'APLD': 1, 'DOLE': 2, 'SBRY.L': 1, 'HLX': 2, '9069.T': 6, 'WEIR.L': 1, '3151.T': 1, 'MHO': 3, 'LSTR': 5, '8923.T': 3, '3593.T': 1, '6326.T': 1, 'VRTX': 3, 'NVT': 1, 'TTC': 3, 'GFT.DE': 2, '3636.T': 1, '8252.T': 2, '8086.T': 3, 'ROP': 1, 'BKR': 1, 'RCL': 1, 'SLB': 2, '9790.T': 2, 'TRU': 1, 'PETQ': 2, 'FIE.DE': 2, '4839.T': 1, 'NVRI': 2, 'GME': 3, '9605.T': 23, 'AIN': 1, 'PMTS': 2, '4676.T': 1, 'FUBO': 2, 'CLFD': 2, 'MVIS': 3, 'SEAT': 2, 'SMCI': 2, 'ACEL': 4, '9409.T': 2, 'ISRG': 1, 'VC': 3, 'BLCO': 5, 'GMRE': 1, 'AMAL': 1, 'GPN': 1, 'BRKR': 1, 'BEN': 1, 'FLTR.L': 7, 'STGW': 1, '8074.T': 1, 'HRI': 2, 'QLYS': 4, 'DFIN': 2, '8803.T': 3, 'XP': 1, 'CNM': 1, 'ONTO': 1, 'ONON': 1, 'COUR': 3, 'AUDC': 1, 'FWONK': 24, 'DOW': 4, 'PSTL': 1, 'ECV.DE': 1, 'DAR': 1, 'AMG': 1, 'FLYW': 6, 'FORR': 7, '3626.T': 1, 'UIS': 2, '2971.T': 1, 'IOT': 1, 'CERS': 1, 'AIV': 1, 'BC': 1, 'WSC': 4, 'DCC.L': 1, 'CARD.L': 2, 'WIX': 1, 'LQDT': 11, 'DRQ': 2, 'NFG.L': 4, '9064.T': 4, 'GRG.L': 7, 'LYB': 5, 'AWI': 2, 'BC8.DE': 2, 'ACTG': 3, 'LSEA': 5, 'IQ': 4, 'CLVT': 2, 'LII': 1, '8309.T': 2, 'PGR': 4, 'IVAC': 2, 'TWI': 712, '4568.T': 1, 'CRCT': 2, '6787.T': 18, 'ALLE': 1, '9433.T': 30, 'OCN.L': 1, 'VSEC': 1, 'TSCO.L': 6, 'PFD.L': 1, '9143.T': 5, 'GXO': 1, 'BGC': 1, '3296.T': 1, 'PEN': 9, '7518.T': 1, '9072.T': 2, 'ENPH': 2, 'GAMA.L': 1, 'SUP': 2, 'MATX': 2, 'DEQ.DE': 1, 'KIDS': 2, 'HALO': 1, 'MATW': 3, '9842.T': 3, 'KVHI': 3, 'MOON.L': 3, 'NEO': 1, '6055.T': 1, 'UNP': 1}\n",
      "Funds remaining: €36.80\n"
     ]
    },
    {
     "data": {
      "text/plain": [
       "        max_sharpe_weight  avg_annual_volatility  avg_annual_return  \\\n",
       "RS1.L                 0.0               6.298242          64.552049   \n",
       "KE                    0.0               6.424462          22.510101   \n",
       "TEG.DE                0.0               5.917304          48.089041   \n",
       "LEG.DE                0.0               6.162226          66.919311   \n",
       "SCS                   0.0               6.567690          82.924753   \n",
       "...                   ...                    ...                ...   \n",
       "KVHI                  0.0               5.987088           8.968217   \n",
       "MOON.L                0.0               5.771122          31.839668   \n",
       "NEO                   0.0               6.763030          53.747281   \n",
       "6055.T                0.0               7.052233         362.695099   \n",
       "UNP                   0.0               6.103412          69.913661   \n",
       "\n",
       "        return_last_period(12m)  \n",
       "RS1.L                      0.08  \n",
       "KE                        -0.35  \n",
       "TEG.DE                     0.63  \n",
       "LEG.DE                     0.49  \n",
       "SCS                        0.22  \n",
       "...                         ...  \n",
       "KVHI                      -0.12  \n",
       "MOON.L                     0.22  \n",
       "NEO                        0.28  \n",
       "6055.T                    -0.26  \n",
       "UNP                        0.26  \n",
       "\n",
       "[1637 rows x 4 columns]"
      ],
      "text/html": [
       "<div>\n",
       "<style scoped>\n",
       "    .dataframe tbody tr th:only-of-type {\n",
       "        vertical-align: middle;\n",
       "    }\n",
       "\n",
       "    .dataframe tbody tr th {\n",
       "        vertical-align: top;\n",
       "    }\n",
       "\n",
       "    .dataframe thead th {\n",
       "        text-align: right;\n",
       "    }\n",
       "</style>\n",
       "<table border=\"1\" class=\"dataframe\">\n",
       "  <thead>\n",
       "    <tr style=\"text-align: right;\">\n",
       "      <th></th>\n",
       "      <th>max_sharpe_weight</th>\n",
       "      <th>avg_annual_volatility</th>\n",
       "      <th>avg_annual_return</th>\n",
       "      <th>return_last_period(12m)</th>\n",
       "    </tr>\n",
       "  </thead>\n",
       "  <tbody>\n",
       "    <tr>\n",
       "      <th>RS1.L</th>\n",
       "      <td>0.0</td>\n",
       "      <td>6.298242</td>\n",
       "      <td>64.552049</td>\n",
       "      <td>0.08</td>\n",
       "    </tr>\n",
       "    <tr>\n",
       "      <th>KE</th>\n",
       "      <td>0.0</td>\n",
       "      <td>6.424462</td>\n",
       "      <td>22.510101</td>\n",
       "      <td>-0.35</td>\n",
       "    </tr>\n",
       "    <tr>\n",
       "      <th>TEG.DE</th>\n",
       "      <td>0.0</td>\n",
       "      <td>5.917304</td>\n",
       "      <td>48.089041</td>\n",
       "      <td>0.63</td>\n",
       "    </tr>\n",
       "    <tr>\n",
       "      <th>LEG.DE</th>\n",
       "      <td>0.0</td>\n",
       "      <td>6.162226</td>\n",
       "      <td>66.919311</td>\n",
       "      <td>0.49</td>\n",
       "    </tr>\n",
       "    <tr>\n",
       "      <th>SCS</th>\n",
       "      <td>0.0</td>\n",
       "      <td>6.567690</td>\n",
       "      <td>82.924753</td>\n",
       "      <td>0.22</td>\n",
       "    </tr>\n",
       "    <tr>\n",
       "      <th>...</th>\n",
       "      <td>...</td>\n",
       "      <td>...</td>\n",
       "      <td>...</td>\n",
       "      <td>...</td>\n",
       "    </tr>\n",
       "    <tr>\n",
       "      <th>KVHI</th>\n",
       "      <td>0.0</td>\n",
       "      <td>5.987088</td>\n",
       "      <td>8.968217</td>\n",
       "      <td>-0.12</td>\n",
       "    </tr>\n",
       "    <tr>\n",
       "      <th>MOON.L</th>\n",
       "      <td>0.0</td>\n",
       "      <td>5.771122</td>\n",
       "      <td>31.839668</td>\n",
       "      <td>0.22</td>\n",
       "    </tr>\n",
       "    <tr>\n",
       "      <th>NEO</th>\n",
       "      <td>0.0</td>\n",
       "      <td>6.763030</td>\n",
       "      <td>53.747281</td>\n",
       "      <td>0.28</td>\n",
       "    </tr>\n",
       "    <tr>\n",
       "      <th>6055.T</th>\n",
       "      <td>0.0</td>\n",
       "      <td>7.052233</td>\n",
       "      <td>362.695099</td>\n",
       "      <td>-0.26</td>\n",
       "    </tr>\n",
       "    <tr>\n",
       "      <th>UNP</th>\n",
       "      <td>0.0</td>\n",
       "      <td>6.103412</td>\n",
       "      <td>69.913661</td>\n",
       "      <td>0.26</td>\n",
       "    </tr>\n",
       "  </tbody>\n",
       "</table>\n",
       "<p>1637 rows × 4 columns</p>\n",
       "</div>"
      ]
     },
     "execution_count": 695,
     "metadata": {},
     "output_type": "execute_result"
    }
   ],
   "execution_count": 695
  },
  {
   "metadata": {
    "ExecuteTime": {
     "end_time": "2025-04-07T19:05:19.053714Z",
     "start_time": "2025-04-07T19:05:19.050512Z"
    }
   },
   "cell_type": "code",
   "source": "mu_6m['KE']",
   "id": "18d5bdc0a86e5294",
   "outputs": [
    {
     "data": {
      "text/plain": [
       "-0.04339569734487636"
      ]
     },
     "execution_count": 697,
     "metadata": {},
     "output_type": "execute_result"
    }
   ],
   "execution_count": 697
  },
  {
   "metadata": {},
   "cell_type": "markdown",
   "source": "# Recursive forecasting",
   "id": "3686ffbce64421d1"
  },
  {
   "metadata": {},
   "cell_type": "markdown",
   "source": "## 1 Month",
   "id": "8367b887061b7b5b"
  },
  {
   "metadata": {},
   "cell_type": "code",
   "source": "",
   "id": "78964753d7a21866",
   "outputs": [],
   "execution_count": null
  },
  {
   "metadata": {},
   "cell_type": "markdown",
   "source": "## 6 Months",
   "id": "4e7f64272843759d"
  },
  {
   "metadata": {},
   "cell_type": "code",
   "source": "",
   "id": "dd11fa976c59f473",
   "outputs": [],
   "execution_count": null
  },
  {
   "metadata": {},
   "cell_type": "markdown",
   "source": "## 12 Months",
   "id": "611eee484b897800"
  },
  {
   "metadata": {},
   "cell_type": "code",
   "source": "",
   "id": "f029dd1054da80a3",
   "outputs": [],
   "execution_count": null
  }
 ],
 "metadata": {
  "kernelspec": {
   "display_name": "Python 3",
   "language": "python",
   "name": "python3"
  },
  "language_info": {
   "codemirror_mode": {
    "name": "ipython",
    "version": 2
   },
   "file_extension": ".py",
   "mimetype": "text/x-python",
   "name": "python",
   "nbconvert_exporter": "python",
   "pygments_lexer": "ipython2",
   "version": "2.7.6"
  }
 },
 "nbformat": 4,
 "nbformat_minor": 5
}
