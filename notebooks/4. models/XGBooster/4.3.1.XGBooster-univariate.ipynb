{
 "cells": [
  {
   "cell_type": "code",
   "id": "initial_id",
   "metadata": {
    "collapsed": true,
    "ExecuteTime": {
     "end_time": "2025-05-06T19:01:56.698140Z",
     "start_time": "2025-05-06T19:01:56.681170Z"
    }
   },
   "source": [
    "# Python\n",
    "import pandas as pd\n",
    "import numpy as np\n",
    "#\n",
    "from pathlib import Path\n",
    "from datetime import datetime\n",
    "#\n",
    "import xgboost\n",
    "#\n",
    "import importlib\n",
    "import utilities.train_test as train_test\n",
    "import utilities.comparison as comparison"
   ],
   "outputs": [],
   "execution_count": 34
  },
  {
   "metadata": {
    "ExecuteTime": {
     "end_time": "2025-05-06T19:01:56.771236Z",
     "start_time": "2025-05-06T19:01:56.705960Z"
    }
   },
   "cell_type": "code",
   "source": [
    "df = pd.read_csv('../../../data/df_monthly_returns_complete_percentage.csv', index_col='Date')\n",
    "df_overview = pd.read_csv('../../../data/df_overview.csv', index_col=0)"
   ],
   "id": "b9221bdd2218913f",
   "outputs": [],
   "execution_count": 35
  },
  {
   "metadata": {
    "ExecuteTime": {
     "end_time": "2025-05-06T19:01:57.636168Z",
     "start_time": "2025-05-06T19:01:56.966897Z"
    }
   },
   "cell_type": "code",
   "source": [
    "file = Path(\"../../../data/df_tabular.csv\")\n",
    "\n",
    "if file.exists():\n",
    "    df_tabular = pd.read_csv(file, index_col=0)\n",
    "else:\n",
    "    importlib.reload(train_test)\n",
    "    df_tabular = train_test.get_dataframe_tabular(df)\n",
    "    df_tabular.to_csv(file)"
   ],
   "id": "e2b0193bd016f312",
   "outputs": [],
   "execution_count": 36
  },
  {
   "metadata": {
    "ExecuteTime": {
     "end_time": "2025-05-06T19:01:57.813474Z",
     "start_time": "2025-05-06T19:01:57.762677Z"
    }
   },
   "cell_type": "code",
   "source": "df_tabular",
   "id": "e4ec708dbefb392d",
   "outputs": [
    {
     "data": {
      "text/plain": [
       "        month  year        date  m_return(t-11)  m_return(t-10)  \\\n",
       "0          10  2000  2000-10-01            1.13            1.11   \n",
       "1          11  2000  2000-11-01            1.11            1.02   \n",
       "2          12  2000  2000-12-01            1.02            1.00   \n",
       "3           1  2001  2001-01-01            1.00            1.00   \n",
       "4           2  2001  2001-02-01            1.00            1.00   \n",
       "...       ...   ...         ...             ...             ...   \n",
       "474406      4  2024  2024-04-01            0.98            1.07   \n",
       "474407      5  2024  2024-05-01            1.07            1.13   \n",
       "474408      6  2024  2024-06-01            1.13            0.95   \n",
       "474409      7  2024  2024-07-01            0.95            0.93   \n",
       "474410      8  2024  2024-08-01            0.93            1.02   \n",
       "\n",
       "        m_return(t-9)  m_return(t-8)  m_return(t-7)  m_return(t-6)  \\\n",
       "0                1.02           1.00           1.00           1.00   \n",
       "1                1.00           1.00           1.00           1.00   \n",
       "2                1.00           1.00           1.00           1.00   \n",
       "3                1.00           1.00           1.00           1.01   \n",
       "4                1.00           1.00           1.01           1.00   \n",
       "...               ...            ...            ...            ...   \n",
       "474406           1.13           0.95           0.93           1.02   \n",
       "474407           0.95           0.93           1.02           1.09   \n",
       "474408           0.93           1.02           1.09           1.09   \n",
       "474409           1.02           1.09           1.09           1.00   \n",
       "474410           1.09           1.09           1.00           1.04   \n",
       "\n",
       "        m_return(t-5)  ...  m_return_target(t+4)  m_return_target(t+5)  \\\n",
       "0                1.00  ...                  1.00                  1.00   \n",
       "1                1.00  ...                  1.00                  1.00   \n",
       "2                1.01  ...                  1.00                  1.00   \n",
       "3                1.00  ...                  1.00                  1.00   \n",
       "4                1.00  ...                  1.00                  1.01   \n",
       "...               ...  ...                   ...                   ...   \n",
       "474406           1.09  ...                  1.04                  0.99   \n",
       "474407           1.09  ...                  0.99                   NaN   \n",
       "474408           1.00  ...                   NaN                   NaN   \n",
       "474409           1.04  ...                   NaN                   NaN   \n",
       "474410           0.97  ...                   NaN                   NaN   \n",
       "\n",
       "        m_return_target(t+6)  m_return_target(t+7)  m_return_target(t+8)  \\\n",
       "0                       1.00                  1.00                  1.00   \n",
       "1                       1.00                  1.00                  1.01   \n",
       "2                       1.00                  1.01                  1.00   \n",
       "3                       1.01                  1.00                  1.00   \n",
       "4                       1.00                  1.00                  1.00   \n",
       "...                      ...                   ...                   ...   \n",
       "474406                   NaN                   NaN                   NaN   \n",
       "474407                   NaN                   NaN                   NaN   \n",
       "474408                   NaN                   NaN                   NaN   \n",
       "474409                   NaN                   NaN                   NaN   \n",
       "474410                   NaN                   NaN                   NaN   \n",
       "\n",
       "        m_return_target(t+9)  m_return_target(t+10)  m_return_target(t+11)  \\\n",
       "0                       1.01                    1.0                   1.00   \n",
       "1                       1.00                    1.0                   1.00   \n",
       "2                       1.00                    1.0                   1.00   \n",
       "3                       1.00                    1.0                   1.00   \n",
       "4                       1.00                    1.0                   1.01   \n",
       "...                      ...                    ...                    ...   \n",
       "474406                   NaN                    NaN                    NaN   \n",
       "474407                   NaN                    NaN                    NaN   \n",
       "474408                   NaN                    NaN                    NaN   \n",
       "474409                   NaN                    NaN                    NaN   \n",
       "474410                   NaN                    NaN                    NaN   \n",
       "\n",
       "        m_return_target(t+12)  stock_ticker_label  \n",
       "0                        1.00                1371  \n",
       "1                        1.00                1371  \n",
       "2                        1.00                1371  \n",
       "3                        1.01                1371  \n",
       "4                        1.00                1371  \n",
       "...                       ...                 ...  \n",
       "474406                    NaN                1549  \n",
       "474407                    NaN                1549  \n",
       "474408                    NaN                1549  \n",
       "474409                    NaN                1549  \n",
       "474410                    NaN                1549  \n",
       "\n",
       "[474411 rows x 28 columns]"
      ],
      "text/html": [
       "<div>\n",
       "<style scoped>\n",
       "    .dataframe tbody tr th:only-of-type {\n",
       "        vertical-align: middle;\n",
       "    }\n",
       "\n",
       "    .dataframe tbody tr th {\n",
       "        vertical-align: top;\n",
       "    }\n",
       "\n",
       "    .dataframe thead th {\n",
       "        text-align: right;\n",
       "    }\n",
       "</style>\n",
       "<table border=\"1\" class=\"dataframe\">\n",
       "  <thead>\n",
       "    <tr style=\"text-align: right;\">\n",
       "      <th></th>\n",
       "      <th>month</th>\n",
       "      <th>year</th>\n",
       "      <th>date</th>\n",
       "      <th>m_return(t-11)</th>\n",
       "      <th>m_return(t-10)</th>\n",
       "      <th>m_return(t-9)</th>\n",
       "      <th>m_return(t-8)</th>\n",
       "      <th>m_return(t-7)</th>\n",
       "      <th>m_return(t-6)</th>\n",
       "      <th>m_return(t-5)</th>\n",
       "      <th>...</th>\n",
       "      <th>m_return_target(t+4)</th>\n",
       "      <th>m_return_target(t+5)</th>\n",
       "      <th>m_return_target(t+6)</th>\n",
       "      <th>m_return_target(t+7)</th>\n",
       "      <th>m_return_target(t+8)</th>\n",
       "      <th>m_return_target(t+9)</th>\n",
       "      <th>m_return_target(t+10)</th>\n",
       "      <th>m_return_target(t+11)</th>\n",
       "      <th>m_return_target(t+12)</th>\n",
       "      <th>stock_ticker_label</th>\n",
       "    </tr>\n",
       "  </thead>\n",
       "  <tbody>\n",
       "    <tr>\n",
       "      <th>0</th>\n",
       "      <td>10</td>\n",
       "      <td>2000</td>\n",
       "      <td>2000-10-01</td>\n",
       "      <td>1.13</td>\n",
       "      <td>1.11</td>\n",
       "      <td>1.02</td>\n",
       "      <td>1.00</td>\n",
       "      <td>1.00</td>\n",
       "      <td>1.00</td>\n",
       "      <td>1.00</td>\n",
       "      <td>...</td>\n",
       "      <td>1.00</td>\n",
       "      <td>1.00</td>\n",
       "      <td>1.00</td>\n",
       "      <td>1.00</td>\n",
       "      <td>1.00</td>\n",
       "      <td>1.01</td>\n",
       "      <td>1.0</td>\n",
       "      <td>1.00</td>\n",
       "      <td>1.00</td>\n",
       "      <td>1371</td>\n",
       "    </tr>\n",
       "    <tr>\n",
       "      <th>1</th>\n",
       "      <td>11</td>\n",
       "      <td>2000</td>\n",
       "      <td>2000-11-01</td>\n",
       "      <td>1.11</td>\n",
       "      <td>1.02</td>\n",
       "      <td>1.00</td>\n",
       "      <td>1.00</td>\n",
       "      <td>1.00</td>\n",
       "      <td>1.00</td>\n",
       "      <td>1.00</td>\n",
       "      <td>...</td>\n",
       "      <td>1.00</td>\n",
       "      <td>1.00</td>\n",
       "      <td>1.00</td>\n",
       "      <td>1.00</td>\n",
       "      <td>1.01</td>\n",
       "      <td>1.00</td>\n",
       "      <td>1.0</td>\n",
       "      <td>1.00</td>\n",
       "      <td>1.00</td>\n",
       "      <td>1371</td>\n",
       "    </tr>\n",
       "    <tr>\n",
       "      <th>2</th>\n",
       "      <td>12</td>\n",
       "      <td>2000</td>\n",
       "      <td>2000-12-01</td>\n",
       "      <td>1.02</td>\n",
       "      <td>1.00</td>\n",
       "      <td>1.00</td>\n",
       "      <td>1.00</td>\n",
       "      <td>1.00</td>\n",
       "      <td>1.00</td>\n",
       "      <td>1.01</td>\n",
       "      <td>...</td>\n",
       "      <td>1.00</td>\n",
       "      <td>1.00</td>\n",
       "      <td>1.00</td>\n",
       "      <td>1.01</td>\n",
       "      <td>1.00</td>\n",
       "      <td>1.00</td>\n",
       "      <td>1.0</td>\n",
       "      <td>1.00</td>\n",
       "      <td>1.00</td>\n",
       "      <td>1371</td>\n",
       "    </tr>\n",
       "    <tr>\n",
       "      <th>3</th>\n",
       "      <td>1</td>\n",
       "      <td>2001</td>\n",
       "      <td>2001-01-01</td>\n",
       "      <td>1.00</td>\n",
       "      <td>1.00</td>\n",
       "      <td>1.00</td>\n",
       "      <td>1.00</td>\n",
       "      <td>1.00</td>\n",
       "      <td>1.01</td>\n",
       "      <td>1.00</td>\n",
       "      <td>...</td>\n",
       "      <td>1.00</td>\n",
       "      <td>1.00</td>\n",
       "      <td>1.01</td>\n",
       "      <td>1.00</td>\n",
       "      <td>1.00</td>\n",
       "      <td>1.00</td>\n",
       "      <td>1.0</td>\n",
       "      <td>1.00</td>\n",
       "      <td>1.01</td>\n",
       "      <td>1371</td>\n",
       "    </tr>\n",
       "    <tr>\n",
       "      <th>4</th>\n",
       "      <td>2</td>\n",
       "      <td>2001</td>\n",
       "      <td>2001-02-01</td>\n",
       "      <td>1.00</td>\n",
       "      <td>1.00</td>\n",
       "      <td>1.00</td>\n",
       "      <td>1.00</td>\n",
       "      <td>1.01</td>\n",
       "      <td>1.00</td>\n",
       "      <td>1.00</td>\n",
       "      <td>...</td>\n",
       "      <td>1.00</td>\n",
       "      <td>1.01</td>\n",
       "      <td>1.00</td>\n",
       "      <td>1.00</td>\n",
       "      <td>1.00</td>\n",
       "      <td>1.00</td>\n",
       "      <td>1.0</td>\n",
       "      <td>1.01</td>\n",
       "      <td>1.00</td>\n",
       "      <td>1371</td>\n",
       "    </tr>\n",
       "    <tr>\n",
       "      <th>...</th>\n",
       "      <td>...</td>\n",
       "      <td>...</td>\n",
       "      <td>...</td>\n",
       "      <td>...</td>\n",
       "      <td>...</td>\n",
       "      <td>...</td>\n",
       "      <td>...</td>\n",
       "      <td>...</td>\n",
       "      <td>...</td>\n",
       "      <td>...</td>\n",
       "      <td>...</td>\n",
       "      <td>...</td>\n",
       "      <td>...</td>\n",
       "      <td>...</td>\n",
       "      <td>...</td>\n",
       "      <td>...</td>\n",
       "      <td>...</td>\n",
       "      <td>...</td>\n",
       "      <td>...</td>\n",
       "      <td>...</td>\n",
       "      <td>...</td>\n",
       "    </tr>\n",
       "    <tr>\n",
       "      <th>474406</th>\n",
       "      <td>4</td>\n",
       "      <td>2024</td>\n",
       "      <td>2024-04-01</td>\n",
       "      <td>0.98</td>\n",
       "      <td>1.07</td>\n",
       "      <td>1.13</td>\n",
       "      <td>0.95</td>\n",
       "      <td>0.93</td>\n",
       "      <td>1.02</td>\n",
       "      <td>1.09</td>\n",
       "      <td>...</td>\n",
       "      <td>1.04</td>\n",
       "      <td>0.99</td>\n",
       "      <td>NaN</td>\n",
       "      <td>NaN</td>\n",
       "      <td>NaN</td>\n",
       "      <td>NaN</td>\n",
       "      <td>NaN</td>\n",
       "      <td>NaN</td>\n",
       "      <td>NaN</td>\n",
       "      <td>1549</td>\n",
       "    </tr>\n",
       "    <tr>\n",
       "      <th>474407</th>\n",
       "      <td>5</td>\n",
       "      <td>2024</td>\n",
       "      <td>2024-05-01</td>\n",
       "      <td>1.07</td>\n",
       "      <td>1.13</td>\n",
       "      <td>0.95</td>\n",
       "      <td>0.93</td>\n",
       "      <td>1.02</td>\n",
       "      <td>1.09</td>\n",
       "      <td>1.09</td>\n",
       "      <td>...</td>\n",
       "      <td>0.99</td>\n",
       "      <td>NaN</td>\n",
       "      <td>NaN</td>\n",
       "      <td>NaN</td>\n",
       "      <td>NaN</td>\n",
       "      <td>NaN</td>\n",
       "      <td>NaN</td>\n",
       "      <td>NaN</td>\n",
       "      <td>NaN</td>\n",
       "      <td>1549</td>\n",
       "    </tr>\n",
       "    <tr>\n",
       "      <th>474408</th>\n",
       "      <td>6</td>\n",
       "      <td>2024</td>\n",
       "      <td>2024-06-01</td>\n",
       "      <td>1.13</td>\n",
       "      <td>0.95</td>\n",
       "      <td>0.93</td>\n",
       "      <td>1.02</td>\n",
       "      <td>1.09</td>\n",
       "      <td>1.09</td>\n",
       "      <td>1.00</td>\n",
       "      <td>...</td>\n",
       "      <td>NaN</td>\n",
       "      <td>NaN</td>\n",
       "      <td>NaN</td>\n",
       "      <td>NaN</td>\n",
       "      <td>NaN</td>\n",
       "      <td>NaN</td>\n",
       "      <td>NaN</td>\n",
       "      <td>NaN</td>\n",
       "      <td>NaN</td>\n",
       "      <td>1549</td>\n",
       "    </tr>\n",
       "    <tr>\n",
       "      <th>474409</th>\n",
       "      <td>7</td>\n",
       "      <td>2024</td>\n",
       "      <td>2024-07-01</td>\n",
       "      <td>0.95</td>\n",
       "      <td>0.93</td>\n",
       "      <td>1.02</td>\n",
       "      <td>1.09</td>\n",
       "      <td>1.09</td>\n",
       "      <td>1.00</td>\n",
       "      <td>1.04</td>\n",
       "      <td>...</td>\n",
       "      <td>NaN</td>\n",
       "      <td>NaN</td>\n",
       "      <td>NaN</td>\n",
       "      <td>NaN</td>\n",
       "      <td>NaN</td>\n",
       "      <td>NaN</td>\n",
       "      <td>NaN</td>\n",
       "      <td>NaN</td>\n",
       "      <td>NaN</td>\n",
       "      <td>1549</td>\n",
       "    </tr>\n",
       "    <tr>\n",
       "      <th>474410</th>\n",
       "      <td>8</td>\n",
       "      <td>2024</td>\n",
       "      <td>2024-08-01</td>\n",
       "      <td>0.93</td>\n",
       "      <td>1.02</td>\n",
       "      <td>1.09</td>\n",
       "      <td>1.09</td>\n",
       "      <td>1.00</td>\n",
       "      <td>1.04</td>\n",
       "      <td>0.97</td>\n",
       "      <td>...</td>\n",
       "      <td>NaN</td>\n",
       "      <td>NaN</td>\n",
       "      <td>NaN</td>\n",
       "      <td>NaN</td>\n",
       "      <td>NaN</td>\n",
       "      <td>NaN</td>\n",
       "      <td>NaN</td>\n",
       "      <td>NaN</td>\n",
       "      <td>NaN</td>\n",
       "      <td>1549</td>\n",
       "    </tr>\n",
       "  </tbody>\n",
       "</table>\n",
       "<p>474411 rows × 28 columns</p>\n",
       "</div>"
      ]
     },
     "execution_count": 37,
     "metadata": {},
     "output_type": "execute_result"
    }
   ],
   "execution_count": 37
  },
  {
   "metadata": {},
   "cell_type": "markdown",
   "source": "### Missing values",
   "id": "375975a1ee3f40a1"
  },
  {
   "metadata": {
    "ExecuteTime": {
     "end_time": "2025-05-06T19:01:57.965456Z",
     "start_time": "2025-05-06T19:01:57.961362Z"
    }
   },
   "cell_type": "code",
   "source": "df_tabular[df_tabular[\"m_return_target(t+1)\"].isna()][[\"date\", \"stock_ticker_label\"]]",
   "id": "7daea158ea251e5a",
   "outputs": [
    {
     "data": {
      "text/plain": [
       "Empty DataFrame\n",
       "Columns: [date, stock_ticker_label]\n",
       "Index: []"
      ],
      "text/html": [
       "<div>\n",
       "<style scoped>\n",
       "    .dataframe tbody tr th:only-of-type {\n",
       "        vertical-align: middle;\n",
       "    }\n",
       "\n",
       "    .dataframe tbody tr th {\n",
       "        vertical-align: top;\n",
       "    }\n",
       "\n",
       "    .dataframe thead th {\n",
       "        text-align: right;\n",
       "    }\n",
       "</style>\n",
       "<table border=\"1\" class=\"dataframe\">\n",
       "  <thead>\n",
       "    <tr style=\"text-align: right;\">\n",
       "      <th></th>\n",
       "      <th>date</th>\n",
       "      <th>stock_ticker_label</th>\n",
       "    </tr>\n",
       "  </thead>\n",
       "  <tbody>\n",
       "  </tbody>\n",
       "</table>\n",
       "</div>"
      ]
     },
     "execution_count": 38,
     "metadata": {},
     "output_type": "execute_result"
    }
   ],
   "execution_count": 38
  },
  {
   "metadata": {},
   "cell_type": "markdown",
   "source": "## Direct forecasting",
   "id": "da71bcf8417400cf"
  },
  {
   "metadata": {},
   "cell_type": "markdown",
   "source": "## 1 Month",
   "id": "420fc796bdd8258f"
  },
  {
   "metadata": {
    "ExecuteTime": {
     "end_time": "2025-05-06T19:02:08.551869Z",
     "start_time": "2025-05-06T19:01:59.238453Z"
    }
   },
   "cell_type": "code",
   "source": [
    "importlib.reload(train_test)\n",
    "\n",
    "X_train, y_train, X_test, y_test, min_datestr = train_test.split_train_test_tabular(df_tabular, months=60)\n",
    "\n",
    "model_1m = xgboost.XGBRegressor(n_estimators=1000)\n",
    "model_1m.fit(X_train, y_train,\n",
    "          eval_set=[(X_train, y_train), (X_test, y_test)],\n",
    "          verbose=False)"
   ],
   "id": "f8b6f469d0e456e9",
   "outputs": [
    {
     "data": {
      "text/plain": [
       "XGBRegressor(base_score=None, booster=None, callbacks=None,\n",
       "             colsample_bylevel=None, colsample_bynode=None,\n",
       "             colsample_bytree=None, device=None, early_stopping_rounds=None,\n",
       "             enable_categorical=False, eval_metric=None, feature_types=None,\n",
       "             gamma=None, grow_policy=None, importance_type=None,\n",
       "             interaction_constraints=None, learning_rate=None, max_bin=None,\n",
       "             max_cat_threshold=None, max_cat_to_onehot=None,\n",
       "             max_delta_step=None, max_depth=None, max_leaves=None,\n",
       "             min_child_weight=None, missing=nan, monotone_constraints=None,\n",
       "             multi_strategy=None, n_estimators=1000, n_jobs=None,\n",
       "             num_parallel_tree=None, random_state=None, ...)"
      ],
      "text/html": [
       "<style>#sk-container-id-3 {color: black;}#sk-container-id-3 pre{padding: 0;}#sk-container-id-3 div.sk-toggleable {background-color: white;}#sk-container-id-3 label.sk-toggleable__label {cursor: pointer;display: block;width: 100%;margin-bottom: 0;padding: 0.3em;box-sizing: border-box;text-align: center;}#sk-container-id-3 label.sk-toggleable__label-arrow:before {content: \"▸\";float: left;margin-right: 0.25em;color: #696969;}#sk-container-id-3 label.sk-toggleable__label-arrow:hover:before {color: black;}#sk-container-id-3 div.sk-estimator:hover label.sk-toggleable__label-arrow:before {color: black;}#sk-container-id-3 div.sk-toggleable__content {max-height: 0;max-width: 0;overflow: hidden;text-align: left;background-color: #f0f8ff;}#sk-container-id-3 div.sk-toggleable__content pre {margin: 0.2em;color: black;border-radius: 0.25em;background-color: #f0f8ff;}#sk-container-id-3 input.sk-toggleable__control:checked~div.sk-toggleable__content {max-height: 200px;max-width: 100%;overflow: auto;}#sk-container-id-3 input.sk-toggleable__control:checked~label.sk-toggleable__label-arrow:before {content: \"▾\";}#sk-container-id-3 div.sk-estimator input.sk-toggleable__control:checked~label.sk-toggleable__label {background-color: #d4ebff;}#sk-container-id-3 div.sk-label input.sk-toggleable__control:checked~label.sk-toggleable__label {background-color: #d4ebff;}#sk-container-id-3 input.sk-hidden--visually {border: 0;clip: rect(1px 1px 1px 1px);clip: rect(1px, 1px, 1px, 1px);height: 1px;margin: -1px;overflow: hidden;padding: 0;position: absolute;width: 1px;}#sk-container-id-3 div.sk-estimator {font-family: monospace;background-color: #f0f8ff;border: 1px dotted black;border-radius: 0.25em;box-sizing: border-box;margin-bottom: 0.5em;}#sk-container-id-3 div.sk-estimator:hover {background-color: #d4ebff;}#sk-container-id-3 div.sk-parallel-item::after {content: \"\";width: 100%;border-bottom: 1px solid gray;flex-grow: 1;}#sk-container-id-3 div.sk-label:hover label.sk-toggleable__label {background-color: #d4ebff;}#sk-container-id-3 div.sk-serial::before {content: \"\";position: absolute;border-left: 1px solid gray;box-sizing: border-box;top: 0;bottom: 0;left: 50%;z-index: 0;}#sk-container-id-3 div.sk-serial {display: flex;flex-direction: column;align-items: center;background-color: white;padding-right: 0.2em;padding-left: 0.2em;position: relative;}#sk-container-id-3 div.sk-item {position: relative;z-index: 1;}#sk-container-id-3 div.sk-parallel {display: flex;align-items: stretch;justify-content: center;background-color: white;position: relative;}#sk-container-id-3 div.sk-item::before, #sk-container-id-3 div.sk-parallel-item::before {content: \"\";position: absolute;border-left: 1px solid gray;box-sizing: border-box;top: 0;bottom: 0;left: 50%;z-index: -1;}#sk-container-id-3 div.sk-parallel-item {display: flex;flex-direction: column;z-index: 1;position: relative;background-color: white;}#sk-container-id-3 div.sk-parallel-item:first-child::after {align-self: flex-end;width: 50%;}#sk-container-id-3 div.sk-parallel-item:last-child::after {align-self: flex-start;width: 50%;}#sk-container-id-3 div.sk-parallel-item:only-child::after {width: 0;}#sk-container-id-3 div.sk-dashed-wrapped {border: 1px dashed gray;margin: 0 0.4em 0.5em 0.4em;box-sizing: border-box;padding-bottom: 0.4em;background-color: white;}#sk-container-id-3 div.sk-label label {font-family: monospace;font-weight: bold;display: inline-block;line-height: 1.2em;}#sk-container-id-3 div.sk-label-container {text-align: center;}#sk-container-id-3 div.sk-container {/* jupyter's `normalize.less` sets `[hidden] { display: none; }` but bootstrap.min.css set `[hidden] { display: none !important; }` so we also need the `!important` here to be able to override the default hidden behavior on the sphinx rendered scikit-learn.org. See: https://github.com/scikit-learn/scikit-learn/issues/21755 */display: inline-block !important;position: relative;}#sk-container-id-3 div.sk-text-repr-fallback {display: none;}</style><div id=\"sk-container-id-3\" class=\"sk-top-container\"><div class=\"sk-text-repr-fallback\"><pre>XGBRegressor(base_score=None, booster=None, callbacks=None,\n",
       "             colsample_bylevel=None, colsample_bynode=None,\n",
       "             colsample_bytree=None, device=None, early_stopping_rounds=None,\n",
       "             enable_categorical=False, eval_metric=None, feature_types=None,\n",
       "             gamma=None, grow_policy=None, importance_type=None,\n",
       "             interaction_constraints=None, learning_rate=None, max_bin=None,\n",
       "             max_cat_threshold=None, max_cat_to_onehot=None,\n",
       "             max_delta_step=None, max_depth=None, max_leaves=None,\n",
       "             min_child_weight=None, missing=nan, monotone_constraints=None,\n",
       "             multi_strategy=None, n_estimators=1000, n_jobs=None,\n",
       "             num_parallel_tree=None, random_state=None, ...)</pre><b>In a Jupyter environment, please rerun this cell to show the HTML representation or trust the notebook. <br />On GitHub, the HTML representation is unable to render, please try loading this page with nbviewer.org.</b></div><div class=\"sk-container\" hidden><div class=\"sk-item\"><div class=\"sk-estimator sk-toggleable\"><input class=\"sk-toggleable__control sk-hidden--visually\" id=\"sk-estimator-id-3\" type=\"checkbox\" checked><label for=\"sk-estimator-id-3\" class=\"sk-toggleable__label sk-toggleable__label-arrow\">XGBRegressor</label><div class=\"sk-toggleable__content\"><pre>XGBRegressor(base_score=None, booster=None, callbacks=None,\n",
       "             colsample_bylevel=None, colsample_bynode=None,\n",
       "             colsample_bytree=None, device=None, early_stopping_rounds=None,\n",
       "             enable_categorical=False, eval_metric=None, feature_types=None,\n",
       "             gamma=None, grow_policy=None, importance_type=None,\n",
       "             interaction_constraints=None, learning_rate=None, max_bin=None,\n",
       "             max_cat_threshold=None, max_cat_to_onehot=None,\n",
       "             max_delta_step=None, max_depth=None, max_leaves=None,\n",
       "             min_child_weight=None, missing=nan, monotone_constraints=None,\n",
       "             multi_strategy=None, n_estimators=1000, n_jobs=None,\n",
       "             num_parallel_tree=None, random_state=None, ...)</pre></div></div></div></div></div>"
      ]
     },
     "execution_count": 41,
     "metadata": {},
     "output_type": "execute_result"
    }
   ],
   "execution_count": 41
  },
  {
   "metadata": {
    "ExecuteTime": {
     "end_time": "2025-05-06T19:02:08.845597Z",
     "start_time": "2025-05-06T19:02:08.684943Z"
    }
   },
   "cell_type": "code",
   "source": [
    "importlib.reload(train_test)\n",
    "months_1m = 1\n",
    "X_train_1m, y_train_1m, X_test_1m, y_test_1m, min_datestr = train_test.split_train_test_tabular(df_tabular, months=1)\n",
    "# reset index\n",
    "X_train_1m.reset_index(drop=True, inplace=True)\n",
    "y_train_1m.reset_index(drop=True, inplace=True)\n",
    "X_test_1m.reset_index(drop=True, inplace=True)\n",
    "y_test_1m.reset_index(drop=True, inplace=True)"
   ],
   "id": "2cd1cababb8bbe1e",
   "outputs": [],
   "execution_count": 43
  },
  {
   "metadata": {
    "ExecuteTime": {
     "end_time": "2025-05-06T19:02:10.352697Z",
     "start_time": "2025-05-06T19:02:08.849668Z"
    }
   },
   "cell_type": "code",
   "source": [
    "dt = datetime.strptime(min_datestr, '%Y-%m-%d')\n",
    "\n",
    "# get all training months without the last month\n",
    "X_train_input_1m = X_train_1m.head(len(X_train_1m) - len(df.columns) * months_1m)\n",
    "# Get last month of the training dataset and use as input to predict the next month\n",
    "X_test_input_1m = X_train_1m.tail(len(df.columns) * months_1m)\n",
    "\n",
    "# Trained \n",
    "y_train_pred_1m = model_1m.predict(X_train_input_1m)\n",
    "# Predictions\n",
    "y_test_pred_1m = model_1m.predict(X_test_input_1m)"
   ],
   "id": "e35d8bb28abb5c7b",
   "outputs": [],
   "execution_count": 44
  },
  {
   "metadata": {},
   "cell_type": "markdown",
   "source": "### 1 month Actual vs Prediction",
   "id": "25364fb4677243db"
  },
  {
   "metadata": {
    "ExecuteTime": {
     "end_time": "2025-05-06T19:02:10.460215Z",
     "start_time": "2025-05-06T19:02:10.372225Z"
    }
   },
   "cell_type": "code",
   "source": [
    "importlib.reload(comparison)\n",
    "#\n",
    "y_train_mean_pred_1m, y_test_mean_pred_1m = comparison.get_train_test_mean_pred(y_train_pred_1m, y_test_pred_1m, len(df.columns))\n",
    "#\n",
    "comparison.generate_plot(df, df_tabular, y_train_mean_pred_1m, y_test_mean_pred_1m)"
   ],
   "id": "575407a2f792ce63",
   "outputs": [
    {
     "name": "stdout",
     "output_type": "stream",
     "text": [
      "286 285 1\n"
     ]
    },
    {
     "data": {
      "application/vnd.plotly.v1+json": {
       "data": [
        {
         "line": {
          "color": "#5c839f",
          "width": 2
         },
         "mode": "lines",
         "name": "Actual returns",
         "x": [
          "2000-11-01",
          "2000-12-01",
          "2001-01-01",
          "2001-02-01",
          "2001-03-01",
          "2001-04-01",
          "2001-05-01",
          "2001-06-01",
          "2001-07-01",
          "2001-08-01",
          "2001-09-01",
          "2001-10-01",
          "2001-11-01",
          "2001-12-01",
          "2002-01-01",
          "2002-02-01",
          "2002-03-01",
          "2002-04-01",
          "2002-05-01",
          "2002-06-01",
          "2002-07-01",
          "2002-08-01",
          "2002-09-01",
          "2002-10-01",
          "2002-11-01",
          "2002-12-01",
          "2003-01-01",
          "2003-02-01",
          "2003-03-01",
          "2003-04-01",
          "2003-05-01",
          "2003-06-01",
          "2003-07-01",
          "2003-08-01",
          "2003-09-01",
          "2003-10-01",
          "2003-11-01",
          "2003-12-01",
          "2004-01-01",
          "2004-02-01",
          "2004-03-01",
          "2004-04-01",
          "2004-05-01",
          "2004-06-01",
          "2004-07-01",
          "2004-08-01",
          "2004-09-01",
          "2004-10-01",
          "2004-11-01",
          "2004-12-01",
          "2005-01-01",
          "2005-02-01",
          "2005-03-01",
          "2005-04-01",
          "2005-05-01",
          "2005-06-01",
          "2005-07-01",
          "2005-08-01",
          "2005-09-01",
          "2005-10-01",
          "2005-11-01",
          "2005-12-01",
          "2006-01-01",
          "2006-02-01",
          "2006-03-01",
          "2006-04-01",
          "2006-05-01",
          "2006-06-01",
          "2006-07-01",
          "2006-08-01",
          "2006-09-01",
          "2006-10-01",
          "2006-11-01",
          "2006-12-01",
          "2007-01-01",
          "2007-02-01",
          "2007-03-01",
          "2007-04-01",
          "2007-05-01",
          "2007-06-01",
          "2007-07-01",
          "2007-08-01",
          "2007-09-01",
          "2007-10-01",
          "2007-11-01",
          "2007-12-01",
          "2008-01-01",
          "2008-02-01",
          "2008-03-01",
          "2008-04-01",
          "2008-05-01",
          "2008-06-01",
          "2008-07-01",
          "2008-08-01",
          "2008-09-01",
          "2008-10-01",
          "2008-11-01",
          "2008-12-01",
          "2009-01-01",
          "2009-02-01",
          "2009-03-01",
          "2009-04-01",
          "2009-05-01",
          "2009-06-01",
          "2009-07-01",
          "2009-08-01",
          "2009-09-01",
          "2009-10-01",
          "2009-11-01",
          "2009-12-01",
          "2010-01-01",
          "2010-02-01",
          "2010-03-01",
          "2010-04-01",
          "2010-05-01",
          "2010-06-01",
          "2010-07-01",
          "2010-08-01",
          "2010-09-01",
          "2010-10-01",
          "2010-11-01",
          "2010-12-01",
          "2011-01-01",
          "2011-02-01",
          "2011-03-01",
          "2011-04-01",
          "2011-05-01",
          "2011-06-01",
          "2011-07-01",
          "2011-08-01",
          "2011-09-01",
          "2011-10-01",
          "2011-11-01",
          "2011-12-01",
          "2012-01-01",
          "2012-02-01",
          "2012-03-01",
          "2012-04-01",
          "2012-05-01",
          "2012-06-01",
          "2012-07-01",
          "2012-08-01",
          "2012-09-01",
          "2012-10-01",
          "2012-11-01",
          "2012-12-01",
          "2013-01-01",
          "2013-02-01",
          "2013-03-01",
          "2013-04-01",
          "2013-05-01",
          "2013-06-01",
          "2013-07-01",
          "2013-08-01",
          "2013-09-01",
          "2013-10-01",
          "2013-11-01",
          "2013-12-01",
          "2014-01-01",
          "2014-02-01",
          "2014-03-01",
          "2014-04-01",
          "2014-05-01",
          "2014-06-01",
          "2014-07-01",
          "2014-08-01",
          "2014-09-01",
          "2014-10-01",
          "2014-11-01",
          "2014-12-01",
          "2015-01-01",
          "2015-02-01",
          "2015-03-01",
          "2015-04-01",
          "2015-05-01",
          "2015-06-01",
          "2015-07-01",
          "2015-08-01",
          "2015-09-01",
          "2015-10-01",
          "2015-11-01",
          "2015-12-01",
          "2016-01-01",
          "2016-02-01",
          "2016-03-01",
          "2016-04-01",
          "2016-05-01",
          "2016-06-01",
          "2016-07-01",
          "2016-08-01",
          "2016-09-01",
          "2016-10-01",
          "2016-11-01",
          "2016-12-01",
          "2017-01-01",
          "2017-02-01",
          "2017-03-01",
          "2017-04-01",
          "2017-05-01",
          "2017-06-01",
          "2017-07-01",
          "2017-08-01",
          "2017-09-01",
          "2017-10-01",
          "2017-11-01",
          "2017-12-01",
          "2018-01-01",
          "2018-02-01",
          "2018-03-01",
          "2018-04-01",
          "2018-05-01",
          "2018-06-01",
          "2018-07-01",
          "2018-08-01",
          "2018-09-01",
          "2018-10-01",
          "2018-11-01",
          "2018-12-01",
          "2019-01-01",
          "2019-02-01",
          "2019-03-01",
          "2019-04-01",
          "2019-05-01",
          "2019-06-01",
          "2019-07-01",
          "2019-08-01",
          "2019-09-01",
          "2019-10-01",
          "2019-11-01",
          "2019-12-01",
          "2020-01-01",
          "2020-02-01",
          "2020-03-01",
          "2020-04-01",
          "2020-05-01",
          "2020-06-01",
          "2020-07-01",
          "2020-08-01",
          "2020-09-01",
          "2020-10-01",
          "2020-11-01",
          "2020-12-01",
          "2021-01-01",
          "2021-02-01",
          "2021-03-01",
          "2021-04-01",
          "2021-05-01",
          "2021-06-01",
          "2021-07-01",
          "2021-08-01",
          "2021-09-01",
          "2021-10-01",
          "2021-11-01",
          "2021-12-01",
          "2022-01-01",
          "2022-02-01",
          "2022-03-01",
          "2022-04-01",
          "2022-05-01",
          "2022-06-01",
          "2022-07-01",
          "2022-08-01",
          "2022-09-01",
          "2022-10-01",
          "2022-11-01",
          "2022-12-01",
          "2023-01-01",
          "2023-02-01",
          "2023-03-01",
          "2023-04-01",
          "2023-05-01",
          "2023-06-01",
          "2023-07-01",
          "2023-08-01",
          "2023-09-01",
          "2023-10-01",
          "2023-11-01",
          "2023-12-01",
          "2024-01-01",
          "2024-02-01",
          "2024-03-01",
          "2024-04-01",
          "2024-05-01",
          "2024-06-01",
          "2024-07-01",
          "2024-08-01"
         ],
         "y": [
          1.0255474894131882,
          1.0338354506957042,
          0.9928735632183915,
          5.930568663036899,
          1.0252450090744099,
          0.9939624924379908,
          0.9817483363581374,
          1.0329461584996975,
          0.995238959467635,
          1.0273502722323051,
          0.9906291591046582,
          0.9893103448275887,
          0.9717422867513615,
          1.009407138535994,
          1.0391651542649731,
          0.9689776164549314,
          0.9847489413188154,
          1.065541439806411,
          1.0118451300665472,
          0.9984392014519045,
          0.9735087719298258,
          0.9690865093768933,
          0.9132849364791302,
          1.049927404718691,
          1.0507985480943727,
          1.0158620689655167,
          0.9939322444041161,
          1.0093103448275842,
          1.0507259528130635,
          1.0071022383545045,
          1.0027646702964297,
          0.9519721718088356,
          0.941887477313978,
          0.9874833635813679,
          0.9568905021173627,
          1.007864488808228,
          1.058251663641862,
          0.9664125831820951,
          0.9890199637023619,
          1.00557168784029,
          0.9959830611010301,
          1.0599516031457932,
          1.067005444646095,
          1.034162129461584,
          1.5084513006654547,
          1.0614277071990297,
          1.003823351482154,
          1.0498003629764048,
          1.0042286751361171,
          1.0158499697519638,
          1.0305263157894728,
          1.014156079854809,
          1.046842105263157,
          1.0040834845735018,
          0.9924742891712043,
          1.0346218995765237,
          0.9633877797943164,
          0.9934119782214162,
          1.0055535390199626,
          1.000556563823351,
          1.029316394434359,
          1.0537628554143936,
          1.0064307320024204,
          1.0203811252268578,
          0.9955595886267403,
          0.9733030852994585,
          1.0331457955232881,
          1.021681790683601,
          1.0358136721113096,
          0.9993042952208108,
          1.1286509376890481,
          1.0726013309134903,
          3.2130248033877846,
          1.0215607985480943,
          1.0408166969146992,
          1.0128917120387162,
          1.0275015124016906,
          1.0092075015124011,
          0.9686267392619511,
          0.9991833030852995,
          0.9856866303690264,
          1.0248820326678743,
          1.029751966122199,
          1.0213853599516,
          1.0188808227465205,
          1.0279794313369583,
          1.0368723532970328,
          1.0044404113732615,
          1.0015849969751975,
          1.0188082274652126,
          1.0226194797338144,
          0.9885843920145209,
          0.9759286146400507,
          0.9907501512401706,
          1.0024742891712028,
          1.0255172413793092,
          0.9479370840895369,
          0.9907743496672735,
          0.9420447670901404,
          0.9907199032062937,
          0.986878402903813,
          1.0311494252873556,
          1.0231881427707177,
          0.9375620084694501,
          0.995009074410163,
          1.021578947368421,
          0.9273018753781008,
          0.8458197217180896,
          0.9447489413188133,
          1.0413006654567432,
          0.9497701149425304,
          0.9416515426497283,
          1.0697580157289759,
          1.147616454930428,
          1.0432909860859048,
          1.0350211736237145,
          1.062389594676345,
          1.0552026618269803,
          1.0322746521476094,
          0.9779915305505165,
          1.0015910465819715,
          1.0513793103448243,
          0.9896067755595908,
          1.0185541439806396,
          1.0590381125226815,
          1.044996975196608,
          0.9456261343012754,
          0.9619419237749587,
          1.0388626739261935,
          0.9645856019358788,
          1.0696067755595862,
          1.0163883847549897,
          1.0275862068965496,
          1.0584029038112468,
          1.0119782214156074,
          1.0324803387779755,
          1.0016031457955235,
          1.0198850574712621,
          0.9949969751966145,
          0.9972353297035704,
          0.9830429522081086,
          0.9474712643678187,
          0.9529824561403519,
          1.0689231699939494,
          0.9843375680580785,
          1.0002540834845728,
          1.0593768905021141,
          1.099540229885052,
          1.0263036902601284,
          0.992746521476106,
          0.9427586206896574,
          1.0300241984270984,
          0.9957652752571087,
          1.0196672716273423,
          1.017150635208708,
          1.0012038717483351,
          1.0166848154869905,
          1.0311736237144535,
          1.0607924984875923,
          1.021839080459768,
          1.0406836055656326,
          1.0333696309739857,
          1.0182153660012079,
          0.9905081669691471,
          1.0369933454325433,
          0.9834603750756247,
          1.0512159709618811,
          1.0213430127041703,
          1.023980641258315,
          1.0222807017543813,
          0.9877434966727201,
          1.0288626739261921,
          1.000828796128252,
          0.9851845130066568,
          1.0161161524500884,
          1.030647307924979,
          0.9871445856019373,
          1.0267453115547438,
          0.9894918330308549,
          1.0253115547489382,
          1.0416757410768251,
          1.0141681790683588,
          1.0019419237749558,
          1.0444585601935825,
          1.0097459165154261,
          1.0004113732607376,
          1.0252087114337523,
          0.9903266787658838,
          1.0127888687235311,
          0.9586448880822808,
          0.967985480943743,
          1.062341197822138,
          1.0190018148820301,
          0.9822928009679415,
          0.9491107078039962,
          0.9993587416817915,
          1.0566122202056816,
          1.0004355716878404,
          1.0214095583787006,
          0.9709074410163344,
          1.0535813672111252,
          1.0110102843315192,
          1.0043375680580744,
          0.9848154869933464,
          1.051433756805807,
          1.031548699334537,
          1.0146581972171804,
          1.021845130066541,
          1.0097519661222034,
          1.015595886267388,
          1.0126678765880204,
          1.0131215970961873,
          1.0135692679975774,
          1.0033877797943116,
          1.0308892921960027,
          1.0195220810647267,
          1.0232244404113704,
          1.0114458560193567,
          1.0238173018753747,
          0.9744222625529396,
          0.9966364186327915,
          1.0194797338172972,
          1.026364186327887,
          1.0086327888687228,
          1.017592256503324,
          1.0217725347852393,
          0.9907501512401673,
          0.9365880217785887,
          1.0115124016938861,
          0.9133272837265621,
          1.0914398064125803,
          1.0367513611615211,
          1.0041379310344818,
          1.0430490018148775,
          0.9408227465214783,
          1.0453539019963656,
          1.022123411978219,
          0.9704476709013944,
          1.036944948578337,
          1.0294797338172985,
          1.034730792498484,
          1.0268058076225008,
          0.9897519661222032,
          0.9099153055051471,
          0.8183847549909249,
          1.1260314579552297,
          1.072552934059285,
          1.0304174228675145,
          1.0225710828796137,
          1.0605565638233496,
          0.9945130066545701,
          0.9923290986085953,
          1.158384754990924,
          1.0579612825166305,
          1.0404839685420475,
          1.0537931034482761,
          1.0589292196007205,
          1.0376527525710808,
          1.0213430127041738,
          1.0207562008469433,
          1.003641863278887,
          1.0252873563218365,
          0.9864851784634042,
          1.0300241984270992,
          0.969933454325473,
          1.0402117362371377,
          0.9256805807622545,
          0.9876830006049651,
          1.003230490018147,
          0.9446763460375114,
          1.0007199032062886,
          0.9249425287356333,
          1.0904295220810603,
          0.969298245614038,
          0.901373260738056,
          1.0810284331518427,
          1.0552994555353878,
          0.9577374470659461,
          1.0973321234119766,
          0.9889957652752596,
          0.9799334543254699,
          1.0013188142770684,
          0.9908832425892335,
          1.0624803387779735,
          1.0433393829401019,
          0.9686206896551737,
          0.9597822141560854,
          0.942111312764677,
          1.087713248638834,
          1.0793284936479097,
          0.9853962492437991,
          1.0741379310344819,
          1.0276285541439758,
          0.9559709618874807,
          1.034162129461583,
          0.9932425892317017,
          1.055251058681182,
          0.9971990320629165,
          0.9666787658802267
         ],
         "type": "scatter"
        },
        {
         "line": {
          "color": "red",
          "width": 2
         },
         "mode": "lines",
         "name": "Train returns",
         "x": [
          "2000-11-01",
          "2000-12-01",
          "2001-01-01",
          "2001-02-01",
          "2001-03-01",
          "2001-04-01",
          "2001-05-01",
          "2001-06-01",
          "2001-07-01",
          "2001-08-01",
          "2001-09-01",
          "2001-10-01",
          "2001-11-01",
          "2001-12-01",
          "2002-01-01",
          "2002-02-01",
          "2002-03-01",
          "2002-04-01",
          "2002-05-01",
          "2002-06-01",
          "2002-07-01",
          "2002-08-01",
          "2002-09-01",
          "2002-10-01",
          "2002-11-01",
          "2002-12-01",
          "2003-01-01",
          "2003-02-01",
          "2003-03-01",
          "2003-04-01",
          "2003-05-01",
          "2003-06-01",
          "2003-07-01",
          "2003-08-01",
          "2003-09-01",
          "2003-10-01",
          "2003-11-01",
          "2003-12-01",
          "2004-01-01",
          "2004-02-01",
          "2004-03-01",
          "2004-04-01",
          "2004-05-01",
          "2004-06-01",
          "2004-07-01",
          "2004-08-01",
          "2004-09-01",
          "2004-10-01",
          "2004-11-01",
          "2004-12-01",
          "2005-01-01",
          "2005-02-01",
          "2005-03-01",
          "2005-04-01",
          "2005-05-01",
          "2005-06-01",
          "2005-07-01",
          "2005-08-01",
          "2005-09-01",
          "2005-10-01",
          "2005-11-01",
          "2005-12-01",
          "2006-01-01",
          "2006-02-01",
          "2006-03-01",
          "2006-04-01",
          "2006-05-01",
          "2006-06-01",
          "2006-07-01",
          "2006-08-01",
          "2006-09-01",
          "2006-10-01",
          "2006-11-01",
          "2006-12-01",
          "2007-01-01",
          "2007-02-01",
          "2007-03-01",
          "2007-04-01",
          "2007-05-01",
          "2007-06-01",
          "2007-07-01",
          "2007-08-01",
          "2007-09-01",
          "2007-10-01",
          "2007-11-01",
          "2007-12-01",
          "2008-01-01",
          "2008-02-01",
          "2008-03-01",
          "2008-04-01",
          "2008-05-01",
          "2008-06-01",
          "2008-07-01",
          "2008-08-01",
          "2008-09-01",
          "2008-10-01",
          "2008-11-01",
          "2008-12-01",
          "2009-01-01",
          "2009-02-01",
          "2009-03-01",
          "2009-04-01",
          "2009-05-01",
          "2009-06-01",
          "2009-07-01",
          "2009-08-01",
          "2009-09-01",
          "2009-10-01",
          "2009-11-01",
          "2009-12-01",
          "2010-01-01",
          "2010-02-01",
          "2010-03-01",
          "2010-04-01",
          "2010-05-01",
          "2010-06-01",
          "2010-07-01",
          "2010-08-01",
          "2010-09-01",
          "2010-10-01",
          "2010-11-01",
          "2010-12-01",
          "2011-01-01",
          "2011-02-01",
          "2011-03-01",
          "2011-04-01",
          "2011-05-01",
          "2011-06-01",
          "2011-07-01",
          "2011-08-01",
          "2011-09-01",
          "2011-10-01",
          "2011-11-01",
          "2011-12-01",
          "2012-01-01",
          "2012-02-01",
          "2012-03-01",
          "2012-04-01",
          "2012-05-01",
          "2012-06-01",
          "2012-07-01",
          "2012-08-01",
          "2012-09-01",
          "2012-10-01",
          "2012-11-01",
          "2012-12-01",
          "2013-01-01",
          "2013-02-01",
          "2013-03-01",
          "2013-04-01",
          "2013-05-01",
          "2013-06-01",
          "2013-07-01",
          "2013-08-01",
          "2013-09-01",
          "2013-10-01",
          "2013-11-01",
          "2013-12-01",
          "2014-01-01",
          "2014-02-01",
          "2014-03-01",
          "2014-04-01",
          "2014-05-01",
          "2014-06-01",
          "2014-07-01",
          "2014-08-01",
          "2014-09-01",
          "2014-10-01",
          "2014-11-01",
          "2014-12-01",
          "2015-01-01",
          "2015-02-01",
          "2015-03-01",
          "2015-04-01",
          "2015-05-01",
          "2015-06-01",
          "2015-07-01",
          "2015-08-01",
          "2015-09-01",
          "2015-10-01",
          "2015-11-01",
          "2015-12-01",
          "2016-01-01",
          "2016-02-01",
          "2016-03-01",
          "2016-04-01",
          "2016-05-01",
          "2016-06-01",
          "2016-07-01",
          "2016-08-01",
          "2016-09-01",
          "2016-10-01",
          "2016-11-01",
          "2016-12-01",
          "2017-01-01",
          "2017-02-01",
          "2017-03-01",
          "2017-04-01",
          "2017-05-01",
          "2017-06-01",
          "2017-07-01",
          "2017-08-01",
          "2017-09-01",
          "2017-10-01",
          "2017-11-01",
          "2017-12-01",
          "2018-01-01",
          "2018-02-01",
          "2018-03-01",
          "2018-04-01",
          "2018-05-01",
          "2018-06-01",
          "2018-07-01",
          "2018-08-01",
          "2018-09-01",
          "2018-10-01",
          "2018-11-01",
          "2018-12-01",
          "2019-01-01",
          "2019-02-01",
          "2019-03-01",
          "2019-04-01",
          "2019-05-01",
          "2019-06-01",
          "2019-07-01",
          "2019-08-01",
          "2019-09-01",
          "2019-10-01",
          "2019-11-01",
          "2019-12-01",
          "2020-01-01",
          "2020-02-01",
          "2020-03-01",
          "2020-04-01",
          "2020-05-01",
          "2020-06-01",
          "2020-07-01",
          "2020-08-01",
          "2020-09-01",
          "2020-10-01",
          "2020-11-01",
          "2020-12-01",
          "2021-01-01",
          "2021-02-01",
          "2021-03-01",
          "2021-04-01",
          "2021-05-01",
          "2021-06-01",
          "2021-07-01",
          "2021-08-01",
          "2021-09-01",
          "2021-10-01",
          "2021-11-01",
          "2021-12-01",
          "2022-01-01",
          "2022-02-01",
          "2022-03-01",
          "2022-04-01",
          "2022-05-01",
          "2022-06-01",
          "2022-07-01",
          "2022-08-01",
          "2022-09-01",
          "2022-10-01",
          "2022-11-01",
          "2022-12-01",
          "2023-01-01",
          "2023-02-01",
          "2023-03-01",
          "2023-04-01",
          "2023-05-01",
          "2023-06-01",
          "2023-07-01",
          "2023-08-01",
          "2023-09-01",
          "2023-10-01",
          "2023-11-01",
          "2023-12-01",
          "2024-01-01",
          "2024-02-01",
          "2024-03-01",
          "2024-04-01",
          "2024-05-01",
          "2024-06-01",
          "2024-07-01"
         ],
         "y": [
          1.0058401823043823,
          1.010583519935608,
          1.0071265697479248,
          1.0055274963378906,
          1.0083537101745605,
          1.009065866470337,
          1.0104591846466064,
          1.0075876712799072,
          1.009149432182312,
          1.0064470767974854,
          1.011484980583191,
          1.0064178705215454,
          1.0078144073486328,
          1.006986379623413,
          1.0075541734695435,
          1.0075442790985107,
          1.0097421407699585,
          1.0105314254760742,
          1.0070840120315552,
          1.0079615116119385,
          1.0055053234100342,
          1.0084956884384155,
          1.010574221611023,
          1.0100256204605103,
          1.0047458410263062,
          1.0152140855789185,
          1.0088764429092407,
          1.0156501531600952,
          1.0115604400634766,
          1.0055031776428223,
          1.0077786445617676,
          1.0096814632415771,
          1.0087299346923828,
          1.0110411643981934,
          1.010292410850525,
          1.0095698833465576,
          1.010542392730713,
          1.0099607706069946,
          1.0126889944076538,
          1.0101646184921265,
          1.0071628093719482,
          1.0102826356887817,
          1.0074636936187744,
          1.0108551979064941,
          1.0162649154663086,
          1.009292483329773,
          1.0084819793701172,
          1.009475827217102,
          1.0062975883483887,
          1.0070995092391968,
          1.0074727535247803,
          1.011228084564209,
          1.0109938383102417,
          1.0055818557739258,
          1.012765645980835,
          1.0090875625610352,
          1.0102304220199585,
          1.0066295862197876,
          1.0063797235488892,
          1.0088012218475342,
          1.0084311962127686,
          1.005789041519165,
          3.6289985179901123,
          1.0088181495666504,
          1.0097273588180542,
          1.0048630237579346,
          1.0070044994354248,
          1.0090349912643433,
          1.0212664604187012,
          1.010906457901001,
          1.007402777671814,
          1.0090371370315552,
          1.0091443061828613,
          1.007773756980896,
          1.0111802816390991,
          1.0072189569473267,
          1.0170683860778809,
          1.0144832134246826,
          1.0083845853805542,
          1.0068095922470093,
          1.0074180364608765,
          1.0091187953948975,
          1.0116437673568726,
          1.007946491241455,
          1.0083121061325073,
          1.0085680484771729,
          1.0087714195251465,
          1.0083668231964111,
          1.007997989654541,
          1.0113613605499268,
          1.0065051317214966,
          1.0071946382522583,
          1.0156536102294922,
          1.0106717348098755,
          1.0053050518035889,
          1.008202314376831,
          1.0078810453414917,
          1.004228949546814,
          1.0060207843780518,
          1.0069695711135864,
          1.0069950819015503,
          1.0073894262313843,
          1.0097925662994385,
          1.0116280317306519,
          1.0081868171691895,
          1.0119798183441162,
          1.006993055343628,
          1.0088708400726318,
          1.0054517984390259,
          1.0053399801254272,
          0.9990869760513306,
          1.0069400072097778,
          1.008129596710205,
          1.0092031955718994,
          1.0078001022338867,
          1.0061206817626953,
          1.0125389099121094,
          1.0075938701629639,
          1.0067259073257446,
          1.006317377090454,
          1.0099050998687744,
          1.011721134185791,
          1.0088698863983154,
          1.0104951858520508,
          1.012269377708435,
          1.010245442390442,
          1.0100983381271362,
          1.009351372718811,
          1.0110148191452026,
          1.0065670013427734,
          1.0072979927062988,
          1.0076402425765991,
          1.0063353776931763,
          1.0098545551300049,
          1.0085443258285522,
          1.0079748630523682,
          1.0070561170578003,
          1.0116585493087769,
          1.006226658821106,
          1.0091819763183594,
          1.0132808685302734,
          1.0151989459991455,
          1.0058292150497437,
          1.0070282220840454,
          1.0090492963790894,
          1.008192777633667,
          1.1016708612442017,
          1.0099384784698486,
          1.0113145112991333,
          1.0076645612716675,
          1.0098967552185059,
          1.0087261199951172,
          1.0066394805908203,
          1.007521629333496,
          1.0096721649169922,
          1.0188205242156982,
          1.034024953842163,
          1.0058425664901733,
          1.005218505859375,
          1.007240891456604,
          0.9506968259811401,
          1.0066453218460083,
          1.0123867988586426,
          1.0096763372421265,
          1.0061204433441162,
          1.0102591514587402,
          1.0086243152618408,
          1.0076014995574951,
          1.0104572772979736,
          1.0069372653961182,
          1.0069273710250854,
          1.0102559328079224,
          1.0124859809875488,
          1.0060070753097534,
          1.0097160339355469,
          1.0134001970291138,
          1.0079952478408813,
          1.004489779472351,
          1.0066757202148438,
          1.0100651979446411,
          1.0096385478973389,
          1.0124285221099854,
          1.0136933326721191,
          1.009508490562439,
          1.0092920064926147,
          1.0098289251327515,
          1.0130407810211182,
          1.0061707496643066,
          1.009628415107727,
          1.0059223175048828,
          1.0101454257965088,
          1.0070021152496338,
          1.0076000690460205,
          1.0068166255950928,
          1.0034656524658203,
          1.0130196809768677,
          1.0095772743225098,
          1.0081136226654053,
          1.0038293600082397,
          1.0124491453170776,
          1.0074721574783325,
          1.0061523914337158,
          1.1129180192947388,
          1.0100114345550537,
          1.007678747177124,
          1.0124602317810059,
          3.098879814147949,
          1.0166352987289429,
          1.0080291032791138,
          1.0081685781478882,
          1.0068392753601074,
          1.0116559267044067,
          1.0112024545669556,
          1.0071940422058105,
          1.0087437629699707,
          1.0103107690811157,
          1.0119314193725586,
          1.0067301988601685,
          1.0099260807037354,
          1.0181796550750732,
          1.0132675170898438,
          1.0129756927490234,
          1.0113664865493774,
          1.0127294063568115,
          1.0121593475341797,
          1.00761079788208,
          1.0027302503585815,
          1.0169641971588135,
          1.0086370706558228,
          1.0130257606506348,
          1.0069960355758667,
          1.0034360885620117,
          0.9995626211166382,
          1.0100022554397583,
          1.0083129405975342,
          1.0050841569900513,
          1.0110315084457397,
          1.0077319145202637,
          1.0080677270889282,
          1.003768801689148,
          1.0159481763839722,
          1.0066473484039307,
          1.0050157308578491,
          1.0065360069274902,
          1.0080057382583618,
          1.0084906816482544,
          1.0063505172729492,
          1.0087523460388184,
          1.0073528289794922,
          1.0066683292388916,
          1.0181264877319336,
          1.008301854133606,
          1.01167631149292,
          1.0131429433822632,
          1.0085166692733765,
          1.0051605701446533,
          1.0130630731582642,
          1.0086168050765991,
          1.0094248056411743,
          1.0132482051849365,
          1.008353352546692,
          1.005511999130249,
          1.0082298517227173,
          1.0147628784179688,
          1.0040515661239624,
          1.0172661542892456,
          1.0097100734710693,
          1.0084805488586426,
          1.0062639713287354,
          1.0089939832687378,
          1.006792426109314,
          1.0056875944137573,
          1.0065056085586548,
          1.0116735696792603,
          1.006757378578186,
          1.0077873468399048,
          1.0179890394210815,
          1.0087380409240723,
          1.0132458209991455,
          1.009829044342041,
          1.0092389583587646,
          1.0143299102783203,
          1.0203574895858765,
          1.0103150606155396,
          1.0069587230682373
         ],
         "type": "scatter"
        },
        {
         "line": {
          "color": "green",
          "width": 2
         },
         "mode": "lines",
         "name": "Test returns",
         "x": [
          "2024-07-01",
          "2024-08-01"
         ],
         "y": [
          1.0069587230682373,
          1.0105040073394775
         ],
         "type": "scatter"
        }
       ],
       "layout": {
        "template": {
         "data": {
          "barpolar": [
           {
            "marker": {
             "line": {
              "color": "white",
              "width": 0.5
             },
             "pattern": {
              "fillmode": "overlay",
              "size": 10,
              "solidity": 0.2
             }
            },
            "type": "barpolar"
           }
          ],
          "bar": [
           {
            "error_x": {
             "color": "#2a3f5f"
            },
            "error_y": {
             "color": "#2a3f5f"
            },
            "marker": {
             "line": {
              "color": "white",
              "width": 0.5
             },
             "pattern": {
              "fillmode": "overlay",
              "size": 10,
              "solidity": 0.2
             }
            },
            "type": "bar"
           }
          ],
          "carpet": [
           {
            "aaxis": {
             "endlinecolor": "#2a3f5f",
             "gridcolor": "#C8D4E3",
             "linecolor": "#C8D4E3",
             "minorgridcolor": "#C8D4E3",
             "startlinecolor": "#2a3f5f"
            },
            "baxis": {
             "endlinecolor": "#2a3f5f",
             "gridcolor": "#C8D4E3",
             "linecolor": "#C8D4E3",
             "minorgridcolor": "#C8D4E3",
             "startlinecolor": "#2a3f5f"
            },
            "type": "carpet"
           }
          ],
          "choropleth": [
           {
            "colorbar": {
             "outlinewidth": 0,
             "ticks": ""
            },
            "type": "choropleth"
           }
          ],
          "contourcarpet": [
           {
            "colorbar": {
             "outlinewidth": 0,
             "ticks": ""
            },
            "type": "contourcarpet"
           }
          ],
          "contour": [
           {
            "colorbar": {
             "outlinewidth": 0,
             "ticks": ""
            },
            "colorscale": [
             [
              0.0,
              "#0d0887"
             ],
             [
              0.1111111111111111,
              "#46039f"
             ],
             [
              0.2222222222222222,
              "#7201a8"
             ],
             [
              0.3333333333333333,
              "#9c179e"
             ],
             [
              0.4444444444444444,
              "#bd3786"
             ],
             [
              0.5555555555555556,
              "#d8576b"
             ],
             [
              0.6666666666666666,
              "#ed7953"
             ],
             [
              0.7777777777777778,
              "#fb9f3a"
             ],
             [
              0.8888888888888888,
              "#fdca26"
             ],
             [
              1.0,
              "#f0f921"
             ]
            ],
            "type": "contour"
           }
          ],
          "heatmapgl": [
           {
            "colorbar": {
             "outlinewidth": 0,
             "ticks": ""
            },
            "colorscale": [
             [
              0.0,
              "#0d0887"
             ],
             [
              0.1111111111111111,
              "#46039f"
             ],
             [
              0.2222222222222222,
              "#7201a8"
             ],
             [
              0.3333333333333333,
              "#9c179e"
             ],
             [
              0.4444444444444444,
              "#bd3786"
             ],
             [
              0.5555555555555556,
              "#d8576b"
             ],
             [
              0.6666666666666666,
              "#ed7953"
             ],
             [
              0.7777777777777778,
              "#fb9f3a"
             ],
             [
              0.8888888888888888,
              "#fdca26"
             ],
             [
              1.0,
              "#f0f921"
             ]
            ],
            "type": "heatmapgl"
           }
          ],
          "heatmap": [
           {
            "colorbar": {
             "outlinewidth": 0,
             "ticks": ""
            },
            "colorscale": [
             [
              0.0,
              "#0d0887"
             ],
             [
              0.1111111111111111,
              "#46039f"
             ],
             [
              0.2222222222222222,
              "#7201a8"
             ],
             [
              0.3333333333333333,
              "#9c179e"
             ],
             [
              0.4444444444444444,
              "#bd3786"
             ],
             [
              0.5555555555555556,
              "#d8576b"
             ],
             [
              0.6666666666666666,
              "#ed7953"
             ],
             [
              0.7777777777777778,
              "#fb9f3a"
             ],
             [
              0.8888888888888888,
              "#fdca26"
             ],
             [
              1.0,
              "#f0f921"
             ]
            ],
            "type": "heatmap"
           }
          ],
          "histogram2dcontour": [
           {
            "colorbar": {
             "outlinewidth": 0,
             "ticks": ""
            },
            "colorscale": [
             [
              0.0,
              "#0d0887"
             ],
             [
              0.1111111111111111,
              "#46039f"
             ],
             [
              0.2222222222222222,
              "#7201a8"
             ],
             [
              0.3333333333333333,
              "#9c179e"
             ],
             [
              0.4444444444444444,
              "#bd3786"
             ],
             [
              0.5555555555555556,
              "#d8576b"
             ],
             [
              0.6666666666666666,
              "#ed7953"
             ],
             [
              0.7777777777777778,
              "#fb9f3a"
             ],
             [
              0.8888888888888888,
              "#fdca26"
             ],
             [
              1.0,
              "#f0f921"
             ]
            ],
            "type": "histogram2dcontour"
           }
          ],
          "histogram2d": [
           {
            "colorbar": {
             "outlinewidth": 0,
             "ticks": ""
            },
            "colorscale": [
             [
              0.0,
              "#0d0887"
             ],
             [
              0.1111111111111111,
              "#46039f"
             ],
             [
              0.2222222222222222,
              "#7201a8"
             ],
             [
              0.3333333333333333,
              "#9c179e"
             ],
             [
              0.4444444444444444,
              "#bd3786"
             ],
             [
              0.5555555555555556,
              "#d8576b"
             ],
             [
              0.6666666666666666,
              "#ed7953"
             ],
             [
              0.7777777777777778,
              "#fb9f3a"
             ],
             [
              0.8888888888888888,
              "#fdca26"
             ],
             [
              1.0,
              "#f0f921"
             ]
            ],
            "type": "histogram2d"
           }
          ],
          "histogram": [
           {
            "marker": {
             "pattern": {
              "fillmode": "overlay",
              "size": 10,
              "solidity": 0.2
             }
            },
            "type": "histogram"
           }
          ],
          "mesh3d": [
           {
            "colorbar": {
             "outlinewidth": 0,
             "ticks": ""
            },
            "type": "mesh3d"
           }
          ],
          "parcoords": [
           {
            "line": {
             "colorbar": {
              "outlinewidth": 0,
              "ticks": ""
             }
            },
            "type": "parcoords"
           }
          ],
          "pie": [
           {
            "automargin": true,
            "type": "pie"
           }
          ],
          "scatter3d": [
           {
            "line": {
             "colorbar": {
              "outlinewidth": 0,
              "ticks": ""
             }
            },
            "marker": {
             "colorbar": {
              "outlinewidth": 0,
              "ticks": ""
             }
            },
            "type": "scatter3d"
           }
          ],
          "scattercarpet": [
           {
            "marker": {
             "colorbar": {
              "outlinewidth": 0,
              "ticks": ""
             }
            },
            "type": "scattercarpet"
           }
          ],
          "scattergeo": [
           {
            "marker": {
             "colorbar": {
              "outlinewidth": 0,
              "ticks": ""
             }
            },
            "type": "scattergeo"
           }
          ],
          "scattergl": [
           {
            "marker": {
             "colorbar": {
              "outlinewidth": 0,
              "ticks": ""
             }
            },
            "type": "scattergl"
           }
          ],
          "scattermapbox": [
           {
            "marker": {
             "colorbar": {
              "outlinewidth": 0,
              "ticks": ""
             }
            },
            "type": "scattermapbox"
           }
          ],
          "scatterpolargl": [
           {
            "marker": {
             "colorbar": {
              "outlinewidth": 0,
              "ticks": ""
             }
            },
            "type": "scatterpolargl"
           }
          ],
          "scatterpolar": [
           {
            "marker": {
             "colorbar": {
              "outlinewidth": 0,
              "ticks": ""
             }
            },
            "type": "scatterpolar"
           }
          ],
          "scatter": [
           {
            "fillpattern": {
             "fillmode": "overlay",
             "size": 10,
             "solidity": 0.2
            },
            "type": "scatter"
           }
          ],
          "scatterternary": [
           {
            "marker": {
             "colorbar": {
              "outlinewidth": 0,
              "ticks": ""
             }
            },
            "type": "scatterternary"
           }
          ],
          "surface": [
           {
            "colorbar": {
             "outlinewidth": 0,
             "ticks": ""
            },
            "colorscale": [
             [
              0.0,
              "#0d0887"
             ],
             [
              0.1111111111111111,
              "#46039f"
             ],
             [
              0.2222222222222222,
              "#7201a8"
             ],
             [
              0.3333333333333333,
              "#9c179e"
             ],
             [
              0.4444444444444444,
              "#bd3786"
             ],
             [
              0.5555555555555556,
              "#d8576b"
             ],
             [
              0.6666666666666666,
              "#ed7953"
             ],
             [
              0.7777777777777778,
              "#fb9f3a"
             ],
             [
              0.8888888888888888,
              "#fdca26"
             ],
             [
              1.0,
              "#f0f921"
             ]
            ],
            "type": "surface"
           }
          ],
          "table": [
           {
            "cells": {
             "fill": {
              "color": "#EBF0F8"
             },
             "line": {
              "color": "white"
             }
            },
            "header": {
             "fill": {
              "color": "#C8D4E3"
             },
             "line": {
              "color": "white"
             }
            },
            "type": "table"
           }
          ]
         },
         "layout": {
          "annotationdefaults": {
           "arrowcolor": "#2a3f5f",
           "arrowhead": 0,
           "arrowwidth": 1
          },
          "autotypenumbers": "strict",
          "coloraxis": {
           "colorbar": {
            "outlinewidth": 0,
            "ticks": ""
           }
          },
          "colorscale": {
           "diverging": [
            [
             0,
             "#8e0152"
            ],
            [
             0.1,
             "#c51b7d"
            ],
            [
             0.2,
             "#de77ae"
            ],
            [
             0.3,
             "#f1b6da"
            ],
            [
             0.4,
             "#fde0ef"
            ],
            [
             0.5,
             "#f7f7f7"
            ],
            [
             0.6,
             "#e6f5d0"
            ],
            [
             0.7,
             "#b8e186"
            ],
            [
             0.8,
             "#7fbc41"
            ],
            [
             0.9,
             "#4d9221"
            ],
            [
             1,
             "#276419"
            ]
           ],
           "sequential": [
            [
             0.0,
             "#0d0887"
            ],
            [
             0.1111111111111111,
             "#46039f"
            ],
            [
             0.2222222222222222,
             "#7201a8"
            ],
            [
             0.3333333333333333,
             "#9c179e"
            ],
            [
             0.4444444444444444,
             "#bd3786"
            ],
            [
             0.5555555555555556,
             "#d8576b"
            ],
            [
             0.6666666666666666,
             "#ed7953"
            ],
            [
             0.7777777777777778,
             "#fb9f3a"
            ],
            [
             0.8888888888888888,
             "#fdca26"
            ],
            [
             1.0,
             "#f0f921"
            ]
           ],
           "sequentialminus": [
            [
             0.0,
             "#0d0887"
            ],
            [
             0.1111111111111111,
             "#46039f"
            ],
            [
             0.2222222222222222,
             "#7201a8"
            ],
            [
             0.3333333333333333,
             "#9c179e"
            ],
            [
             0.4444444444444444,
             "#bd3786"
            ],
            [
             0.5555555555555556,
             "#d8576b"
            ],
            [
             0.6666666666666666,
             "#ed7953"
            ],
            [
             0.7777777777777778,
             "#fb9f3a"
            ],
            [
             0.8888888888888888,
             "#fdca26"
            ],
            [
             1.0,
             "#f0f921"
            ]
           ]
          },
          "colorway": [
           "#636efa",
           "#EF553B",
           "#00cc96",
           "#ab63fa",
           "#FFA15A",
           "#19d3f3",
           "#FF6692",
           "#B6E880",
           "#FF97FF",
           "#FECB52"
          ],
          "font": {
           "color": "#2a3f5f"
          },
          "geo": {
           "bgcolor": "white",
           "lakecolor": "white",
           "landcolor": "white",
           "showlakes": true,
           "showland": true,
           "subunitcolor": "#C8D4E3"
          },
          "hoverlabel": {
           "align": "left"
          },
          "hovermode": "closest",
          "mapbox": {
           "style": "light"
          },
          "paper_bgcolor": "white",
          "plot_bgcolor": "white",
          "polar": {
           "angularaxis": {
            "gridcolor": "#EBF0F8",
            "linecolor": "#EBF0F8",
            "ticks": ""
           },
           "bgcolor": "white",
           "radialaxis": {
            "gridcolor": "#EBF0F8",
            "linecolor": "#EBF0F8",
            "ticks": ""
           }
          },
          "scene": {
           "xaxis": {
            "backgroundcolor": "white",
            "gridcolor": "#DFE8F3",
            "gridwidth": 2,
            "linecolor": "#EBF0F8",
            "showbackground": true,
            "ticks": "",
            "zerolinecolor": "#EBF0F8"
           },
           "yaxis": {
            "backgroundcolor": "white",
            "gridcolor": "#DFE8F3",
            "gridwidth": 2,
            "linecolor": "#EBF0F8",
            "showbackground": true,
            "ticks": "",
            "zerolinecolor": "#EBF0F8"
           },
           "zaxis": {
            "backgroundcolor": "white",
            "gridcolor": "#DFE8F3",
            "gridwidth": 2,
            "linecolor": "#EBF0F8",
            "showbackground": true,
            "ticks": "",
            "zerolinecolor": "#EBF0F8"
           }
          },
          "shapedefaults": {
           "line": {
            "color": "#2a3f5f"
           }
          },
          "ternary": {
           "aaxis": {
            "gridcolor": "#DFE8F3",
            "linecolor": "#A2B1C6",
            "ticks": ""
           },
           "baxis": {
            "gridcolor": "#DFE8F3",
            "linecolor": "#A2B1C6",
            "ticks": ""
           },
           "bgcolor": "white",
           "caxis": {
            "gridcolor": "#DFE8F3",
            "linecolor": "#A2B1C6",
            "ticks": ""
           }
          },
          "title": {
           "x": 0.05
          },
          "xaxis": {
           "automargin": true,
           "gridcolor": "#EBF0F8",
           "linecolor": "#EBF0F8",
           "ticks": "",
           "title": {
            "standoff": 15
           },
           "zerolinecolor": "#EBF0F8",
           "zerolinewidth": 2
          },
          "yaxis": {
           "automargin": true,
           "gridcolor": "#EBF0F8",
           "linecolor": "#EBF0F8",
           "ticks": "",
           "title": {
            "standoff": 15
           },
           "zerolinecolor": "#EBF0F8",
           "zerolinewidth": 2
          }
         }
        },
        "shapes": [
         {
          "line": {
           "color": "red",
           "dash": "dash",
           "width": 1
          },
          "type": "line",
          "x0": "2024-07-01",
          "x1": "2024-07-01",
          "xref": "x",
          "y0": 0,
          "y1": 1,
          "yref": "y domain"
         }
        ],
        "yaxis": {
         "title": {
          "text": "Day closing return (%)"
         },
         "tickformat": ".0%",
         "range": [
          0.75,
          1.6
         ]
        },
        "title": {
         "text": "1 Month Prediction vs Actual Plot"
        },
        "xaxis": {
         "title": {
          "text": "Date"
         }
        },
        "legend": {
         "title": {
          "text": "Legend"
         }
        }
       },
       "config": {
        "plotlyServerURL": "https://plot.ly"
       }
      },
      "text/html": [
       "<div>                            <div id=\"30b51cb9-2dff-47e2-bc4c-c50410885ba7\" class=\"plotly-graph-div\" style=\"height:525px; width:100%;\"></div>            <script type=\"text/javascript\">                require([\"plotly\"], function(Plotly) {                    window.PLOTLYENV=window.PLOTLYENV || {};                                    if (document.getElementById(\"30b51cb9-2dff-47e2-bc4c-c50410885ba7\")) {                    Plotly.newPlot(                        \"30b51cb9-2dff-47e2-bc4c-c50410885ba7\",                        [{\"line\":{\"color\":\"#5c839f\",\"width\":2},\"mode\":\"lines\",\"name\":\"Actual returns\",\"x\":[\"2000-11-01\",\"2000-12-01\",\"2001-01-01\",\"2001-02-01\",\"2001-03-01\",\"2001-04-01\",\"2001-05-01\",\"2001-06-01\",\"2001-07-01\",\"2001-08-01\",\"2001-09-01\",\"2001-10-01\",\"2001-11-01\",\"2001-12-01\",\"2002-01-01\",\"2002-02-01\",\"2002-03-01\",\"2002-04-01\",\"2002-05-01\",\"2002-06-01\",\"2002-07-01\",\"2002-08-01\",\"2002-09-01\",\"2002-10-01\",\"2002-11-01\",\"2002-12-01\",\"2003-01-01\",\"2003-02-01\",\"2003-03-01\",\"2003-04-01\",\"2003-05-01\",\"2003-06-01\",\"2003-07-01\",\"2003-08-01\",\"2003-09-01\",\"2003-10-01\",\"2003-11-01\",\"2003-12-01\",\"2004-01-01\",\"2004-02-01\",\"2004-03-01\",\"2004-04-01\",\"2004-05-01\",\"2004-06-01\",\"2004-07-01\",\"2004-08-01\",\"2004-09-01\",\"2004-10-01\",\"2004-11-01\",\"2004-12-01\",\"2005-01-01\",\"2005-02-01\",\"2005-03-01\",\"2005-04-01\",\"2005-05-01\",\"2005-06-01\",\"2005-07-01\",\"2005-08-01\",\"2005-09-01\",\"2005-10-01\",\"2005-11-01\",\"2005-12-01\",\"2006-01-01\",\"2006-02-01\",\"2006-03-01\",\"2006-04-01\",\"2006-05-01\",\"2006-06-01\",\"2006-07-01\",\"2006-08-01\",\"2006-09-01\",\"2006-10-01\",\"2006-11-01\",\"2006-12-01\",\"2007-01-01\",\"2007-02-01\",\"2007-03-01\",\"2007-04-01\",\"2007-05-01\",\"2007-06-01\",\"2007-07-01\",\"2007-08-01\",\"2007-09-01\",\"2007-10-01\",\"2007-11-01\",\"2007-12-01\",\"2008-01-01\",\"2008-02-01\",\"2008-03-01\",\"2008-04-01\",\"2008-05-01\",\"2008-06-01\",\"2008-07-01\",\"2008-08-01\",\"2008-09-01\",\"2008-10-01\",\"2008-11-01\",\"2008-12-01\",\"2009-01-01\",\"2009-02-01\",\"2009-03-01\",\"2009-04-01\",\"2009-05-01\",\"2009-06-01\",\"2009-07-01\",\"2009-08-01\",\"2009-09-01\",\"2009-10-01\",\"2009-11-01\",\"2009-12-01\",\"2010-01-01\",\"2010-02-01\",\"2010-03-01\",\"2010-04-01\",\"2010-05-01\",\"2010-06-01\",\"2010-07-01\",\"2010-08-01\",\"2010-09-01\",\"2010-10-01\",\"2010-11-01\",\"2010-12-01\",\"2011-01-01\",\"2011-02-01\",\"2011-03-01\",\"2011-04-01\",\"2011-05-01\",\"2011-06-01\",\"2011-07-01\",\"2011-08-01\",\"2011-09-01\",\"2011-10-01\",\"2011-11-01\",\"2011-12-01\",\"2012-01-01\",\"2012-02-01\",\"2012-03-01\",\"2012-04-01\",\"2012-05-01\",\"2012-06-01\",\"2012-07-01\",\"2012-08-01\",\"2012-09-01\",\"2012-10-01\",\"2012-11-01\",\"2012-12-01\",\"2013-01-01\",\"2013-02-01\",\"2013-03-01\",\"2013-04-01\",\"2013-05-01\",\"2013-06-01\",\"2013-07-01\",\"2013-08-01\",\"2013-09-01\",\"2013-10-01\",\"2013-11-01\",\"2013-12-01\",\"2014-01-01\",\"2014-02-01\",\"2014-03-01\",\"2014-04-01\",\"2014-05-01\",\"2014-06-01\",\"2014-07-01\",\"2014-08-01\",\"2014-09-01\",\"2014-10-01\",\"2014-11-01\",\"2014-12-01\",\"2015-01-01\",\"2015-02-01\",\"2015-03-01\",\"2015-04-01\",\"2015-05-01\",\"2015-06-01\",\"2015-07-01\",\"2015-08-01\",\"2015-09-01\",\"2015-10-01\",\"2015-11-01\",\"2015-12-01\",\"2016-01-01\",\"2016-02-01\",\"2016-03-01\",\"2016-04-01\",\"2016-05-01\",\"2016-06-01\",\"2016-07-01\",\"2016-08-01\",\"2016-09-01\",\"2016-10-01\",\"2016-11-01\",\"2016-12-01\",\"2017-01-01\",\"2017-02-01\",\"2017-03-01\",\"2017-04-01\",\"2017-05-01\",\"2017-06-01\",\"2017-07-01\",\"2017-08-01\",\"2017-09-01\",\"2017-10-01\",\"2017-11-01\",\"2017-12-01\",\"2018-01-01\",\"2018-02-01\",\"2018-03-01\",\"2018-04-01\",\"2018-05-01\",\"2018-06-01\",\"2018-07-01\",\"2018-08-01\",\"2018-09-01\",\"2018-10-01\",\"2018-11-01\",\"2018-12-01\",\"2019-01-01\",\"2019-02-01\",\"2019-03-01\",\"2019-04-01\",\"2019-05-01\",\"2019-06-01\",\"2019-07-01\",\"2019-08-01\",\"2019-09-01\",\"2019-10-01\",\"2019-11-01\",\"2019-12-01\",\"2020-01-01\",\"2020-02-01\",\"2020-03-01\",\"2020-04-01\",\"2020-05-01\",\"2020-06-01\",\"2020-07-01\",\"2020-08-01\",\"2020-09-01\",\"2020-10-01\",\"2020-11-01\",\"2020-12-01\",\"2021-01-01\",\"2021-02-01\",\"2021-03-01\",\"2021-04-01\",\"2021-05-01\",\"2021-06-01\",\"2021-07-01\",\"2021-08-01\",\"2021-09-01\",\"2021-10-01\",\"2021-11-01\",\"2021-12-01\",\"2022-01-01\",\"2022-02-01\",\"2022-03-01\",\"2022-04-01\",\"2022-05-01\",\"2022-06-01\",\"2022-07-01\",\"2022-08-01\",\"2022-09-01\",\"2022-10-01\",\"2022-11-01\",\"2022-12-01\",\"2023-01-01\",\"2023-02-01\",\"2023-03-01\",\"2023-04-01\",\"2023-05-01\",\"2023-06-01\",\"2023-07-01\",\"2023-08-01\",\"2023-09-01\",\"2023-10-01\",\"2023-11-01\",\"2023-12-01\",\"2024-01-01\",\"2024-02-01\",\"2024-03-01\",\"2024-04-01\",\"2024-05-01\",\"2024-06-01\",\"2024-07-01\",\"2024-08-01\"],\"y\":[1.0255474894131882,1.0338354506957042,0.9928735632183915,5.930568663036899,1.0252450090744099,0.9939624924379908,0.9817483363581374,1.0329461584996975,0.995238959467635,1.0273502722323051,0.9906291591046582,0.9893103448275887,0.9717422867513615,1.009407138535994,1.0391651542649731,0.9689776164549314,0.9847489413188154,1.065541439806411,1.0118451300665472,0.9984392014519045,0.9735087719298258,0.9690865093768933,0.9132849364791302,1.049927404718691,1.0507985480943727,1.0158620689655167,0.9939322444041161,1.0093103448275842,1.0507259528130635,1.0071022383545045,1.0027646702964297,0.9519721718088356,0.941887477313978,0.9874833635813679,0.9568905021173627,1.007864488808228,1.058251663641862,0.9664125831820951,0.9890199637023619,1.00557168784029,0.9959830611010301,1.0599516031457932,1.067005444646095,1.034162129461584,1.5084513006654547,1.0614277071990297,1.003823351482154,1.0498003629764048,1.0042286751361171,1.0158499697519638,1.0305263157894728,1.014156079854809,1.046842105263157,1.0040834845735018,0.9924742891712043,1.0346218995765237,0.9633877797943164,0.9934119782214162,1.0055535390199626,1.000556563823351,1.029316394434359,1.0537628554143936,1.0064307320024204,1.0203811252268578,0.9955595886267403,0.9733030852994585,1.0331457955232881,1.021681790683601,1.0358136721113096,0.9993042952208108,1.1286509376890481,1.0726013309134903,3.2130248033877846,1.0215607985480943,1.0408166969146992,1.0128917120387162,1.0275015124016906,1.0092075015124011,0.9686267392619511,0.9991833030852995,0.9856866303690264,1.0248820326678743,1.029751966122199,1.0213853599516,1.0188808227465205,1.0279794313369583,1.0368723532970328,1.0044404113732615,1.0015849969751975,1.0188082274652126,1.0226194797338144,0.9885843920145209,0.9759286146400507,0.9907501512401706,1.0024742891712028,1.0255172413793092,0.9479370840895369,0.9907743496672735,0.9420447670901404,0.9907199032062937,0.986878402903813,1.0311494252873556,1.0231881427707177,0.9375620084694501,0.995009074410163,1.021578947368421,0.9273018753781008,0.8458197217180896,0.9447489413188133,1.0413006654567432,0.9497701149425304,0.9416515426497283,1.0697580157289759,1.147616454930428,1.0432909860859048,1.0350211736237145,1.062389594676345,1.0552026618269803,1.0322746521476094,0.9779915305505165,1.0015910465819715,1.0513793103448243,0.9896067755595908,1.0185541439806396,1.0590381125226815,1.044996975196608,0.9456261343012754,0.9619419237749587,1.0388626739261935,0.9645856019358788,1.0696067755595862,1.0163883847549897,1.0275862068965496,1.0584029038112468,1.0119782214156074,1.0324803387779755,1.0016031457955235,1.0198850574712621,0.9949969751966145,0.9972353297035704,0.9830429522081086,0.9474712643678187,0.9529824561403519,1.0689231699939494,0.9843375680580785,1.0002540834845728,1.0593768905021141,1.099540229885052,1.0263036902601284,0.992746521476106,0.9427586206896574,1.0300241984270984,0.9957652752571087,1.0196672716273423,1.017150635208708,1.0012038717483351,1.0166848154869905,1.0311736237144535,1.0607924984875923,1.021839080459768,1.0406836055656326,1.0333696309739857,1.0182153660012079,0.9905081669691471,1.0369933454325433,0.9834603750756247,1.0512159709618811,1.0213430127041703,1.023980641258315,1.0222807017543813,0.9877434966727201,1.0288626739261921,1.000828796128252,0.9851845130066568,1.0161161524500884,1.030647307924979,0.9871445856019373,1.0267453115547438,0.9894918330308549,1.0253115547489382,1.0416757410768251,1.0141681790683588,1.0019419237749558,1.0444585601935825,1.0097459165154261,1.0004113732607376,1.0252087114337523,0.9903266787658838,1.0127888687235311,0.9586448880822808,0.967985480943743,1.062341197822138,1.0190018148820301,0.9822928009679415,0.9491107078039962,0.9993587416817915,1.0566122202056816,1.0004355716878404,1.0214095583787006,0.9709074410163344,1.0535813672111252,1.0110102843315192,1.0043375680580744,0.9848154869933464,1.051433756805807,1.031548699334537,1.0146581972171804,1.021845130066541,1.0097519661222034,1.015595886267388,1.0126678765880204,1.0131215970961873,1.0135692679975774,1.0033877797943116,1.0308892921960027,1.0195220810647267,1.0232244404113704,1.0114458560193567,1.0238173018753747,0.9744222625529396,0.9966364186327915,1.0194797338172972,1.026364186327887,1.0086327888687228,1.017592256503324,1.0217725347852393,0.9907501512401673,0.9365880217785887,1.0115124016938861,0.9133272837265621,1.0914398064125803,1.0367513611615211,1.0041379310344818,1.0430490018148775,0.9408227465214783,1.0453539019963656,1.022123411978219,0.9704476709013944,1.036944948578337,1.0294797338172985,1.034730792498484,1.0268058076225008,0.9897519661222032,0.9099153055051471,0.8183847549909249,1.1260314579552297,1.072552934059285,1.0304174228675145,1.0225710828796137,1.0605565638233496,0.9945130066545701,0.9923290986085953,1.158384754990924,1.0579612825166305,1.0404839685420475,1.0537931034482761,1.0589292196007205,1.0376527525710808,1.0213430127041738,1.0207562008469433,1.003641863278887,1.0252873563218365,0.9864851784634042,1.0300241984270992,0.969933454325473,1.0402117362371377,0.9256805807622545,0.9876830006049651,1.003230490018147,0.9446763460375114,1.0007199032062886,0.9249425287356333,1.0904295220810603,0.969298245614038,0.901373260738056,1.0810284331518427,1.0552994555353878,0.9577374470659461,1.0973321234119766,0.9889957652752596,0.9799334543254699,1.0013188142770684,0.9908832425892335,1.0624803387779735,1.0433393829401019,0.9686206896551737,0.9597822141560854,0.942111312764677,1.087713248638834,1.0793284936479097,0.9853962492437991,1.0741379310344819,1.0276285541439758,0.9559709618874807,1.034162129461583,0.9932425892317017,1.055251058681182,0.9971990320629165,0.9666787658802267],\"type\":\"scatter\"},{\"line\":{\"color\":\"red\",\"width\":2},\"mode\":\"lines\",\"name\":\"Train returns\",\"x\":[\"2000-11-01\",\"2000-12-01\",\"2001-01-01\",\"2001-02-01\",\"2001-03-01\",\"2001-04-01\",\"2001-05-01\",\"2001-06-01\",\"2001-07-01\",\"2001-08-01\",\"2001-09-01\",\"2001-10-01\",\"2001-11-01\",\"2001-12-01\",\"2002-01-01\",\"2002-02-01\",\"2002-03-01\",\"2002-04-01\",\"2002-05-01\",\"2002-06-01\",\"2002-07-01\",\"2002-08-01\",\"2002-09-01\",\"2002-10-01\",\"2002-11-01\",\"2002-12-01\",\"2003-01-01\",\"2003-02-01\",\"2003-03-01\",\"2003-04-01\",\"2003-05-01\",\"2003-06-01\",\"2003-07-01\",\"2003-08-01\",\"2003-09-01\",\"2003-10-01\",\"2003-11-01\",\"2003-12-01\",\"2004-01-01\",\"2004-02-01\",\"2004-03-01\",\"2004-04-01\",\"2004-05-01\",\"2004-06-01\",\"2004-07-01\",\"2004-08-01\",\"2004-09-01\",\"2004-10-01\",\"2004-11-01\",\"2004-12-01\",\"2005-01-01\",\"2005-02-01\",\"2005-03-01\",\"2005-04-01\",\"2005-05-01\",\"2005-06-01\",\"2005-07-01\",\"2005-08-01\",\"2005-09-01\",\"2005-10-01\",\"2005-11-01\",\"2005-12-01\",\"2006-01-01\",\"2006-02-01\",\"2006-03-01\",\"2006-04-01\",\"2006-05-01\",\"2006-06-01\",\"2006-07-01\",\"2006-08-01\",\"2006-09-01\",\"2006-10-01\",\"2006-11-01\",\"2006-12-01\",\"2007-01-01\",\"2007-02-01\",\"2007-03-01\",\"2007-04-01\",\"2007-05-01\",\"2007-06-01\",\"2007-07-01\",\"2007-08-01\",\"2007-09-01\",\"2007-10-01\",\"2007-11-01\",\"2007-12-01\",\"2008-01-01\",\"2008-02-01\",\"2008-03-01\",\"2008-04-01\",\"2008-05-01\",\"2008-06-01\",\"2008-07-01\",\"2008-08-01\",\"2008-09-01\",\"2008-10-01\",\"2008-11-01\",\"2008-12-01\",\"2009-01-01\",\"2009-02-01\",\"2009-03-01\",\"2009-04-01\",\"2009-05-01\",\"2009-06-01\",\"2009-07-01\",\"2009-08-01\",\"2009-09-01\",\"2009-10-01\",\"2009-11-01\",\"2009-12-01\",\"2010-01-01\",\"2010-02-01\",\"2010-03-01\",\"2010-04-01\",\"2010-05-01\",\"2010-06-01\",\"2010-07-01\",\"2010-08-01\",\"2010-09-01\",\"2010-10-01\",\"2010-11-01\",\"2010-12-01\",\"2011-01-01\",\"2011-02-01\",\"2011-03-01\",\"2011-04-01\",\"2011-05-01\",\"2011-06-01\",\"2011-07-01\",\"2011-08-01\",\"2011-09-01\",\"2011-10-01\",\"2011-11-01\",\"2011-12-01\",\"2012-01-01\",\"2012-02-01\",\"2012-03-01\",\"2012-04-01\",\"2012-05-01\",\"2012-06-01\",\"2012-07-01\",\"2012-08-01\",\"2012-09-01\",\"2012-10-01\",\"2012-11-01\",\"2012-12-01\",\"2013-01-01\",\"2013-02-01\",\"2013-03-01\",\"2013-04-01\",\"2013-05-01\",\"2013-06-01\",\"2013-07-01\",\"2013-08-01\",\"2013-09-01\",\"2013-10-01\",\"2013-11-01\",\"2013-12-01\",\"2014-01-01\",\"2014-02-01\",\"2014-03-01\",\"2014-04-01\",\"2014-05-01\",\"2014-06-01\",\"2014-07-01\",\"2014-08-01\",\"2014-09-01\",\"2014-10-01\",\"2014-11-01\",\"2014-12-01\",\"2015-01-01\",\"2015-02-01\",\"2015-03-01\",\"2015-04-01\",\"2015-05-01\",\"2015-06-01\",\"2015-07-01\",\"2015-08-01\",\"2015-09-01\",\"2015-10-01\",\"2015-11-01\",\"2015-12-01\",\"2016-01-01\",\"2016-02-01\",\"2016-03-01\",\"2016-04-01\",\"2016-05-01\",\"2016-06-01\",\"2016-07-01\",\"2016-08-01\",\"2016-09-01\",\"2016-10-01\",\"2016-11-01\",\"2016-12-01\",\"2017-01-01\",\"2017-02-01\",\"2017-03-01\",\"2017-04-01\",\"2017-05-01\",\"2017-06-01\",\"2017-07-01\",\"2017-08-01\",\"2017-09-01\",\"2017-10-01\",\"2017-11-01\",\"2017-12-01\",\"2018-01-01\",\"2018-02-01\",\"2018-03-01\",\"2018-04-01\",\"2018-05-01\",\"2018-06-01\",\"2018-07-01\",\"2018-08-01\",\"2018-09-01\",\"2018-10-01\",\"2018-11-01\",\"2018-12-01\",\"2019-01-01\",\"2019-02-01\",\"2019-03-01\",\"2019-04-01\",\"2019-05-01\",\"2019-06-01\",\"2019-07-01\",\"2019-08-01\",\"2019-09-01\",\"2019-10-01\",\"2019-11-01\",\"2019-12-01\",\"2020-01-01\",\"2020-02-01\",\"2020-03-01\",\"2020-04-01\",\"2020-05-01\",\"2020-06-01\",\"2020-07-01\",\"2020-08-01\",\"2020-09-01\",\"2020-10-01\",\"2020-11-01\",\"2020-12-01\",\"2021-01-01\",\"2021-02-01\",\"2021-03-01\",\"2021-04-01\",\"2021-05-01\",\"2021-06-01\",\"2021-07-01\",\"2021-08-01\",\"2021-09-01\",\"2021-10-01\",\"2021-11-01\",\"2021-12-01\",\"2022-01-01\",\"2022-02-01\",\"2022-03-01\",\"2022-04-01\",\"2022-05-01\",\"2022-06-01\",\"2022-07-01\",\"2022-08-01\",\"2022-09-01\",\"2022-10-01\",\"2022-11-01\",\"2022-12-01\",\"2023-01-01\",\"2023-02-01\",\"2023-03-01\",\"2023-04-01\",\"2023-05-01\",\"2023-06-01\",\"2023-07-01\",\"2023-08-01\",\"2023-09-01\",\"2023-10-01\",\"2023-11-01\",\"2023-12-01\",\"2024-01-01\",\"2024-02-01\",\"2024-03-01\",\"2024-04-01\",\"2024-05-01\",\"2024-06-01\",\"2024-07-01\"],\"y\":[1.0058401823043823,1.010583519935608,1.0071265697479248,1.0055274963378906,1.0083537101745605,1.009065866470337,1.0104591846466064,1.0075876712799072,1.009149432182312,1.0064470767974854,1.011484980583191,1.0064178705215454,1.0078144073486328,1.006986379623413,1.0075541734695435,1.0075442790985107,1.0097421407699585,1.0105314254760742,1.0070840120315552,1.0079615116119385,1.0055053234100342,1.0084956884384155,1.010574221611023,1.0100256204605103,1.0047458410263062,1.0152140855789185,1.0088764429092407,1.0156501531600952,1.0115604400634766,1.0055031776428223,1.0077786445617676,1.0096814632415771,1.0087299346923828,1.0110411643981934,1.010292410850525,1.0095698833465576,1.010542392730713,1.0099607706069946,1.0126889944076538,1.0101646184921265,1.0071628093719482,1.0102826356887817,1.0074636936187744,1.0108551979064941,1.0162649154663086,1.009292483329773,1.0084819793701172,1.009475827217102,1.0062975883483887,1.0070995092391968,1.0074727535247803,1.011228084564209,1.0109938383102417,1.0055818557739258,1.012765645980835,1.0090875625610352,1.0102304220199585,1.0066295862197876,1.0063797235488892,1.0088012218475342,1.0084311962127686,1.005789041519165,3.6289985179901123,1.0088181495666504,1.0097273588180542,1.0048630237579346,1.0070044994354248,1.0090349912643433,1.0212664604187012,1.010906457901001,1.007402777671814,1.0090371370315552,1.0091443061828613,1.007773756980896,1.0111802816390991,1.0072189569473267,1.0170683860778809,1.0144832134246826,1.0083845853805542,1.0068095922470093,1.0074180364608765,1.0091187953948975,1.0116437673568726,1.007946491241455,1.0083121061325073,1.0085680484771729,1.0087714195251465,1.0083668231964111,1.007997989654541,1.0113613605499268,1.0065051317214966,1.0071946382522583,1.0156536102294922,1.0106717348098755,1.0053050518035889,1.008202314376831,1.0078810453414917,1.004228949546814,1.0060207843780518,1.0069695711135864,1.0069950819015503,1.0073894262313843,1.0097925662994385,1.0116280317306519,1.0081868171691895,1.0119798183441162,1.006993055343628,1.0088708400726318,1.0054517984390259,1.0053399801254272,0.9990869760513306,1.0069400072097778,1.008129596710205,1.0092031955718994,1.0078001022338867,1.0061206817626953,1.0125389099121094,1.0075938701629639,1.0067259073257446,1.006317377090454,1.0099050998687744,1.011721134185791,1.0088698863983154,1.0104951858520508,1.012269377708435,1.010245442390442,1.0100983381271362,1.009351372718811,1.0110148191452026,1.0065670013427734,1.0072979927062988,1.0076402425765991,1.0063353776931763,1.0098545551300049,1.0085443258285522,1.0079748630523682,1.0070561170578003,1.0116585493087769,1.006226658821106,1.0091819763183594,1.0132808685302734,1.0151989459991455,1.0058292150497437,1.0070282220840454,1.0090492963790894,1.008192777633667,1.1016708612442017,1.0099384784698486,1.0113145112991333,1.0076645612716675,1.0098967552185059,1.0087261199951172,1.0066394805908203,1.007521629333496,1.0096721649169922,1.0188205242156982,1.034024953842163,1.0058425664901733,1.005218505859375,1.007240891456604,0.9506968259811401,1.0066453218460083,1.0123867988586426,1.0096763372421265,1.0061204433441162,1.0102591514587402,1.0086243152618408,1.0076014995574951,1.0104572772979736,1.0069372653961182,1.0069273710250854,1.0102559328079224,1.0124859809875488,1.0060070753097534,1.0097160339355469,1.0134001970291138,1.0079952478408813,1.004489779472351,1.0066757202148438,1.0100651979446411,1.0096385478973389,1.0124285221099854,1.0136933326721191,1.009508490562439,1.0092920064926147,1.0098289251327515,1.0130407810211182,1.0061707496643066,1.009628415107727,1.0059223175048828,1.0101454257965088,1.0070021152496338,1.0076000690460205,1.0068166255950928,1.0034656524658203,1.0130196809768677,1.0095772743225098,1.0081136226654053,1.0038293600082397,1.0124491453170776,1.0074721574783325,1.0061523914337158,1.1129180192947388,1.0100114345550537,1.007678747177124,1.0124602317810059,3.098879814147949,1.0166352987289429,1.0080291032791138,1.0081685781478882,1.0068392753601074,1.0116559267044067,1.0112024545669556,1.0071940422058105,1.0087437629699707,1.0103107690811157,1.0119314193725586,1.0067301988601685,1.0099260807037354,1.0181796550750732,1.0132675170898438,1.0129756927490234,1.0113664865493774,1.0127294063568115,1.0121593475341797,1.00761079788208,1.0027302503585815,1.0169641971588135,1.0086370706558228,1.0130257606506348,1.0069960355758667,1.0034360885620117,0.9995626211166382,1.0100022554397583,1.0083129405975342,1.0050841569900513,1.0110315084457397,1.0077319145202637,1.0080677270889282,1.003768801689148,1.0159481763839722,1.0066473484039307,1.0050157308578491,1.0065360069274902,1.0080057382583618,1.0084906816482544,1.0063505172729492,1.0087523460388184,1.0073528289794922,1.0066683292388916,1.0181264877319336,1.008301854133606,1.01167631149292,1.0131429433822632,1.0085166692733765,1.0051605701446533,1.0130630731582642,1.0086168050765991,1.0094248056411743,1.0132482051849365,1.008353352546692,1.005511999130249,1.0082298517227173,1.0147628784179688,1.0040515661239624,1.0172661542892456,1.0097100734710693,1.0084805488586426,1.0062639713287354,1.0089939832687378,1.006792426109314,1.0056875944137573,1.0065056085586548,1.0116735696792603,1.006757378578186,1.0077873468399048,1.0179890394210815,1.0087380409240723,1.0132458209991455,1.009829044342041,1.0092389583587646,1.0143299102783203,1.0203574895858765,1.0103150606155396,1.0069587230682373],\"type\":\"scatter\"},{\"line\":{\"color\":\"green\",\"width\":2},\"mode\":\"lines\",\"name\":\"Test returns\",\"x\":[\"2024-07-01\",\"2024-08-01\"],\"y\":[1.0069587230682373,1.0105040073394775],\"type\":\"scatter\"}],                        {\"template\":{\"data\":{\"barpolar\":[{\"marker\":{\"line\":{\"color\":\"white\",\"width\":0.5},\"pattern\":{\"fillmode\":\"overlay\",\"size\":10,\"solidity\":0.2}},\"type\":\"barpolar\"}],\"bar\":[{\"error_x\":{\"color\":\"#2a3f5f\"},\"error_y\":{\"color\":\"#2a3f5f\"},\"marker\":{\"line\":{\"color\":\"white\",\"width\":0.5},\"pattern\":{\"fillmode\":\"overlay\",\"size\":10,\"solidity\":0.2}},\"type\":\"bar\"}],\"carpet\":[{\"aaxis\":{\"endlinecolor\":\"#2a3f5f\",\"gridcolor\":\"#C8D4E3\",\"linecolor\":\"#C8D4E3\",\"minorgridcolor\":\"#C8D4E3\",\"startlinecolor\":\"#2a3f5f\"},\"baxis\":{\"endlinecolor\":\"#2a3f5f\",\"gridcolor\":\"#C8D4E3\",\"linecolor\":\"#C8D4E3\",\"minorgridcolor\":\"#C8D4E3\",\"startlinecolor\":\"#2a3f5f\"},\"type\":\"carpet\"}],\"choropleth\":[{\"colorbar\":{\"outlinewidth\":0,\"ticks\":\"\"},\"type\":\"choropleth\"}],\"contourcarpet\":[{\"colorbar\":{\"outlinewidth\":0,\"ticks\":\"\"},\"type\":\"contourcarpet\"}],\"contour\":[{\"colorbar\":{\"outlinewidth\":0,\"ticks\":\"\"},\"colorscale\":[[0.0,\"#0d0887\"],[0.1111111111111111,\"#46039f\"],[0.2222222222222222,\"#7201a8\"],[0.3333333333333333,\"#9c179e\"],[0.4444444444444444,\"#bd3786\"],[0.5555555555555556,\"#d8576b\"],[0.6666666666666666,\"#ed7953\"],[0.7777777777777778,\"#fb9f3a\"],[0.8888888888888888,\"#fdca26\"],[1.0,\"#f0f921\"]],\"type\":\"contour\"}],\"heatmapgl\":[{\"colorbar\":{\"outlinewidth\":0,\"ticks\":\"\"},\"colorscale\":[[0.0,\"#0d0887\"],[0.1111111111111111,\"#46039f\"],[0.2222222222222222,\"#7201a8\"],[0.3333333333333333,\"#9c179e\"],[0.4444444444444444,\"#bd3786\"],[0.5555555555555556,\"#d8576b\"],[0.6666666666666666,\"#ed7953\"],[0.7777777777777778,\"#fb9f3a\"],[0.8888888888888888,\"#fdca26\"],[1.0,\"#f0f921\"]],\"type\":\"heatmapgl\"}],\"heatmap\":[{\"colorbar\":{\"outlinewidth\":0,\"ticks\":\"\"},\"colorscale\":[[0.0,\"#0d0887\"],[0.1111111111111111,\"#46039f\"],[0.2222222222222222,\"#7201a8\"],[0.3333333333333333,\"#9c179e\"],[0.4444444444444444,\"#bd3786\"],[0.5555555555555556,\"#d8576b\"],[0.6666666666666666,\"#ed7953\"],[0.7777777777777778,\"#fb9f3a\"],[0.8888888888888888,\"#fdca26\"],[1.0,\"#f0f921\"]],\"type\":\"heatmap\"}],\"histogram2dcontour\":[{\"colorbar\":{\"outlinewidth\":0,\"ticks\":\"\"},\"colorscale\":[[0.0,\"#0d0887\"],[0.1111111111111111,\"#46039f\"],[0.2222222222222222,\"#7201a8\"],[0.3333333333333333,\"#9c179e\"],[0.4444444444444444,\"#bd3786\"],[0.5555555555555556,\"#d8576b\"],[0.6666666666666666,\"#ed7953\"],[0.7777777777777778,\"#fb9f3a\"],[0.8888888888888888,\"#fdca26\"],[1.0,\"#f0f921\"]],\"type\":\"histogram2dcontour\"}],\"histogram2d\":[{\"colorbar\":{\"outlinewidth\":0,\"ticks\":\"\"},\"colorscale\":[[0.0,\"#0d0887\"],[0.1111111111111111,\"#46039f\"],[0.2222222222222222,\"#7201a8\"],[0.3333333333333333,\"#9c179e\"],[0.4444444444444444,\"#bd3786\"],[0.5555555555555556,\"#d8576b\"],[0.6666666666666666,\"#ed7953\"],[0.7777777777777778,\"#fb9f3a\"],[0.8888888888888888,\"#fdca26\"],[1.0,\"#f0f921\"]],\"type\":\"histogram2d\"}],\"histogram\":[{\"marker\":{\"pattern\":{\"fillmode\":\"overlay\",\"size\":10,\"solidity\":0.2}},\"type\":\"histogram\"}],\"mesh3d\":[{\"colorbar\":{\"outlinewidth\":0,\"ticks\":\"\"},\"type\":\"mesh3d\"}],\"parcoords\":[{\"line\":{\"colorbar\":{\"outlinewidth\":0,\"ticks\":\"\"}},\"type\":\"parcoords\"}],\"pie\":[{\"automargin\":true,\"type\":\"pie\"}],\"scatter3d\":[{\"line\":{\"colorbar\":{\"outlinewidth\":0,\"ticks\":\"\"}},\"marker\":{\"colorbar\":{\"outlinewidth\":0,\"ticks\":\"\"}},\"type\":\"scatter3d\"}],\"scattercarpet\":[{\"marker\":{\"colorbar\":{\"outlinewidth\":0,\"ticks\":\"\"}},\"type\":\"scattercarpet\"}],\"scattergeo\":[{\"marker\":{\"colorbar\":{\"outlinewidth\":0,\"ticks\":\"\"}},\"type\":\"scattergeo\"}],\"scattergl\":[{\"marker\":{\"colorbar\":{\"outlinewidth\":0,\"ticks\":\"\"}},\"type\":\"scattergl\"}],\"scattermapbox\":[{\"marker\":{\"colorbar\":{\"outlinewidth\":0,\"ticks\":\"\"}},\"type\":\"scattermapbox\"}],\"scatterpolargl\":[{\"marker\":{\"colorbar\":{\"outlinewidth\":0,\"ticks\":\"\"}},\"type\":\"scatterpolargl\"}],\"scatterpolar\":[{\"marker\":{\"colorbar\":{\"outlinewidth\":0,\"ticks\":\"\"}},\"type\":\"scatterpolar\"}],\"scatter\":[{\"fillpattern\":{\"fillmode\":\"overlay\",\"size\":10,\"solidity\":0.2},\"type\":\"scatter\"}],\"scatterternary\":[{\"marker\":{\"colorbar\":{\"outlinewidth\":0,\"ticks\":\"\"}},\"type\":\"scatterternary\"}],\"surface\":[{\"colorbar\":{\"outlinewidth\":0,\"ticks\":\"\"},\"colorscale\":[[0.0,\"#0d0887\"],[0.1111111111111111,\"#46039f\"],[0.2222222222222222,\"#7201a8\"],[0.3333333333333333,\"#9c179e\"],[0.4444444444444444,\"#bd3786\"],[0.5555555555555556,\"#d8576b\"],[0.6666666666666666,\"#ed7953\"],[0.7777777777777778,\"#fb9f3a\"],[0.8888888888888888,\"#fdca26\"],[1.0,\"#f0f921\"]],\"type\":\"surface\"}],\"table\":[{\"cells\":{\"fill\":{\"color\":\"#EBF0F8\"},\"line\":{\"color\":\"white\"}},\"header\":{\"fill\":{\"color\":\"#C8D4E3\"},\"line\":{\"color\":\"white\"}},\"type\":\"table\"}]},\"layout\":{\"annotationdefaults\":{\"arrowcolor\":\"#2a3f5f\",\"arrowhead\":0,\"arrowwidth\":1},\"autotypenumbers\":\"strict\",\"coloraxis\":{\"colorbar\":{\"outlinewidth\":0,\"ticks\":\"\"}},\"colorscale\":{\"diverging\":[[0,\"#8e0152\"],[0.1,\"#c51b7d\"],[0.2,\"#de77ae\"],[0.3,\"#f1b6da\"],[0.4,\"#fde0ef\"],[0.5,\"#f7f7f7\"],[0.6,\"#e6f5d0\"],[0.7,\"#b8e186\"],[0.8,\"#7fbc41\"],[0.9,\"#4d9221\"],[1,\"#276419\"]],\"sequential\":[[0.0,\"#0d0887\"],[0.1111111111111111,\"#46039f\"],[0.2222222222222222,\"#7201a8\"],[0.3333333333333333,\"#9c179e\"],[0.4444444444444444,\"#bd3786\"],[0.5555555555555556,\"#d8576b\"],[0.6666666666666666,\"#ed7953\"],[0.7777777777777778,\"#fb9f3a\"],[0.8888888888888888,\"#fdca26\"],[1.0,\"#f0f921\"]],\"sequentialminus\":[[0.0,\"#0d0887\"],[0.1111111111111111,\"#46039f\"],[0.2222222222222222,\"#7201a8\"],[0.3333333333333333,\"#9c179e\"],[0.4444444444444444,\"#bd3786\"],[0.5555555555555556,\"#d8576b\"],[0.6666666666666666,\"#ed7953\"],[0.7777777777777778,\"#fb9f3a\"],[0.8888888888888888,\"#fdca26\"],[1.0,\"#f0f921\"]]},\"colorway\":[\"#636efa\",\"#EF553B\",\"#00cc96\",\"#ab63fa\",\"#FFA15A\",\"#19d3f3\",\"#FF6692\",\"#B6E880\",\"#FF97FF\",\"#FECB52\"],\"font\":{\"color\":\"#2a3f5f\"},\"geo\":{\"bgcolor\":\"white\",\"lakecolor\":\"white\",\"landcolor\":\"white\",\"showlakes\":true,\"showland\":true,\"subunitcolor\":\"#C8D4E3\"},\"hoverlabel\":{\"align\":\"left\"},\"hovermode\":\"closest\",\"mapbox\":{\"style\":\"light\"},\"paper_bgcolor\":\"white\",\"plot_bgcolor\":\"white\",\"polar\":{\"angularaxis\":{\"gridcolor\":\"#EBF0F8\",\"linecolor\":\"#EBF0F8\",\"ticks\":\"\"},\"bgcolor\":\"white\",\"radialaxis\":{\"gridcolor\":\"#EBF0F8\",\"linecolor\":\"#EBF0F8\",\"ticks\":\"\"}},\"scene\":{\"xaxis\":{\"backgroundcolor\":\"white\",\"gridcolor\":\"#DFE8F3\",\"gridwidth\":2,\"linecolor\":\"#EBF0F8\",\"showbackground\":true,\"ticks\":\"\",\"zerolinecolor\":\"#EBF0F8\"},\"yaxis\":{\"backgroundcolor\":\"white\",\"gridcolor\":\"#DFE8F3\",\"gridwidth\":2,\"linecolor\":\"#EBF0F8\",\"showbackground\":true,\"ticks\":\"\",\"zerolinecolor\":\"#EBF0F8\"},\"zaxis\":{\"backgroundcolor\":\"white\",\"gridcolor\":\"#DFE8F3\",\"gridwidth\":2,\"linecolor\":\"#EBF0F8\",\"showbackground\":true,\"ticks\":\"\",\"zerolinecolor\":\"#EBF0F8\"}},\"shapedefaults\":{\"line\":{\"color\":\"#2a3f5f\"}},\"ternary\":{\"aaxis\":{\"gridcolor\":\"#DFE8F3\",\"linecolor\":\"#A2B1C6\",\"ticks\":\"\"},\"baxis\":{\"gridcolor\":\"#DFE8F3\",\"linecolor\":\"#A2B1C6\",\"ticks\":\"\"},\"bgcolor\":\"white\",\"caxis\":{\"gridcolor\":\"#DFE8F3\",\"linecolor\":\"#A2B1C6\",\"ticks\":\"\"}},\"title\":{\"x\":0.05},\"xaxis\":{\"automargin\":true,\"gridcolor\":\"#EBF0F8\",\"linecolor\":\"#EBF0F8\",\"ticks\":\"\",\"title\":{\"standoff\":15},\"zerolinecolor\":\"#EBF0F8\",\"zerolinewidth\":2},\"yaxis\":{\"automargin\":true,\"gridcolor\":\"#EBF0F8\",\"linecolor\":\"#EBF0F8\",\"ticks\":\"\",\"title\":{\"standoff\":15},\"zerolinecolor\":\"#EBF0F8\",\"zerolinewidth\":2}}},\"shapes\":[{\"line\":{\"color\":\"red\",\"dash\":\"dash\",\"width\":1},\"type\":\"line\",\"x0\":\"2024-07-01\",\"x1\":\"2024-07-01\",\"xref\":\"x\",\"y0\":0,\"y1\":1,\"yref\":\"y domain\"}],\"yaxis\":{\"title\":{\"text\":\"Day closing return (%)\"},\"tickformat\":\".0%\",\"range\":[0.75,1.6]},\"title\":{\"text\":\"1 Month Prediction vs Actual Plot\"},\"xaxis\":{\"title\":{\"text\":\"Date\"}},\"legend\":{\"title\":{\"text\":\"Legend\"}}},                        {\"responsive\": true}                    ).then(function(){\n",
       "                            \n",
       "var gd = document.getElementById('30b51cb9-2dff-47e2-bc4c-c50410885ba7');\n",
       "var x = new MutationObserver(function (mutations, observer) {{\n",
       "        var display = window.getComputedStyle(gd).display;\n",
       "        if (!display || display === 'none') {{\n",
       "            console.log([gd, 'removed!']);\n",
       "            Plotly.purge(gd);\n",
       "            observer.disconnect();\n",
       "        }}\n",
       "}});\n",
       "\n",
       "// Listen for the removal of the full notebook cells\n",
       "var notebookContainer = gd.closest('#notebook-container');\n",
       "if (notebookContainer) {{\n",
       "    x.observe(notebookContainer, {childList: true});\n",
       "}}\n",
       "\n",
       "// Listen for the clearing of the current output cell\n",
       "var outputEl = gd.closest('.output');\n",
       "if (outputEl) {{\n",
       "    x.observe(outputEl, {childList: true});\n",
       "}}\n",
       "\n",
       "                        })                };                });            </script>        </div>"
      ]
     },
     "metadata": {},
     "output_type": "display_data"
    }
   ],
   "execution_count": 46
  },
  {
   "metadata": {},
   "cell_type": "markdown",
   "source": "#### Overview table",
   "id": "f8a6981ec5d33de7"
  },
  {
   "metadata": {
    "ExecuteTime": {
     "end_time": "2025-05-06T19:02:10.548431Z",
     "start_time": "2025-05-06T19:02:10.471741Z"
    }
   },
   "cell_type": "code",
   "source": [
    "importlib.reload(comparison)\n",
    "\n",
    "# Get train true values followed with predicted month/s\n",
    "y_train_1m_list = y_train_1m['m_return_target(t+1)'].tolist()\n",
    "y_test_1m_list = y_test_pred_1m.tolist()\n",
    "#\n",
    "df_to_evaluate_1m = comparison.get_df_from_pred_list(df, y_train_1m_list, y_test_1m_list)\n",
    "df_to_evaluate_1m = df_to_evaluate_1m - 1\n",
    "df_to_evaluate_1m"
   ],
   "id": "d4066fdd8e91ee4",
   "outputs": [
    {
     "data": {
      "text/plain": [
       "        RS1.L       KE    TEG.DE    LEG.DE       SCS       HNI       AVT  \\\n",
       "0    0.000000  0.00000 -0.100000  0.000000 -0.230000  0.010000 -0.340000   \n",
       "1    0.000000  0.00000  0.000000 -0.060000  0.030000  0.050000  0.220000   \n",
       "2    0.010000  0.00000  0.550000  0.040000  0.090000 -0.020000  0.280000   \n",
       "3    0.000000 -0.03000  0.090000 -0.130000 -0.050000 -0.010000 -0.110000   \n",
       "4    0.000000  0.00000 -0.060000  0.000000 -0.150000 -0.070000 -0.160000   \n",
       "..        ...      ...       ...       ...       ...       ...       ...   \n",
       "282 -0.050000  0.10000  0.060000  0.020000  0.140000  0.120000  0.120000   \n",
       "283  0.000000 -0.04000 -0.040000 -0.030000 -0.050000 -0.040000 -0.060000   \n",
       "284  0.190000  0.08000  0.020000  0.060000  0.120000  0.220000  0.050000   \n",
       "285 -0.040000 -0.22000  0.060000  0.080000 -0.020000 -0.020000  0.030000   \n",
       "286  0.022413  0.02617  0.011342 -0.013135  0.009965 -0.024812 -0.015528   \n",
       "\n",
       "         ACCO    VNA.DE    7912.T  ...    DEQ.DE     KIDS      HALO      MATW  \\\n",
       "0    0.000000  0.000000 -0.060000  ...  0.000000  0.00000  0.000000  0.070000   \n",
       "1    0.000000 -0.040000  0.050000  ...  0.000000  0.00000  0.000000  0.090000   \n",
       "2   -0.080000  0.020000 -0.060000  ...  0.000000  0.29000 -0.090000 -0.020000   \n",
       "3   -0.020000 -0.100000 -0.080000  ... -0.480000  0.00000  0.000000  0.010000   \n",
       "4    0.000000  0.000000  0.020000  ...  1.180000  0.00000  0.000000  0.050000   \n",
       "..        ...       ...       ...  ...       ...      ...       ...       ...   \n",
       "282  0.060000  0.060000  0.060000  ...  0.090000  0.07000  0.160000  0.050000   \n",
       "283 -0.060000 -0.050000  0.110000  ...  0.070000 -0.09000  0.180000 -0.110000   \n",
       "284  0.090000  0.070000 -0.080000  ...  0.100000  0.07000  0.060000  0.160000   \n",
       "285  0.070000  0.100000  0.060000  ... -0.050000  0.04000  0.160000 -0.130000   \n",
       "286  0.009008  0.032015  0.049289  ... -0.013366 -0.06791 -0.008705  0.040692   \n",
       "\n",
       "      9842.T      KVHI    MOON.L      NEO    6055.T       UNP  \n",
       "0    0.00000 -0.340000  0.000000  0.00000  0.000000 -0.010000  \n",
       "1    0.00000 -0.160000  0.000000  0.00000  0.000000  0.090000  \n",
       "2   -0.04000  0.690000 -0.140000 -0.24000  0.000000  0.050000  \n",
       "3    0.00000 -0.260000  0.000000  0.00000  0.000000  0.040000  \n",
       "4    0.00000  0.150000  0.000000  0.00000  0.000000  0.020000  \n",
       "..       ...       ...       ...      ...       ...       ...  \n",
       "282 -0.01000  0.080000  0.030000 -0.02000 -0.140000 -0.020000  \n",
       "283  0.01000 -0.100000  0.190000  0.01000  0.140000 -0.020000  \n",
       "284 -0.06000 -0.040000  0.140000  0.28000 -0.100000  0.090000  \n",
       "285 -0.04000  0.000000 -0.030000 -0.07000 -0.110000  0.040000  \n",
       "286  0.00835  0.042783 -0.022595  0.00622  0.002591 -0.015102  \n",
       "\n",
       "[287 rows x 1653 columns]"
      ],
      "text/html": [
       "<div>\n",
       "<style scoped>\n",
       "    .dataframe tbody tr th:only-of-type {\n",
       "        vertical-align: middle;\n",
       "    }\n",
       "\n",
       "    .dataframe tbody tr th {\n",
       "        vertical-align: top;\n",
       "    }\n",
       "\n",
       "    .dataframe thead th {\n",
       "        text-align: right;\n",
       "    }\n",
       "</style>\n",
       "<table border=\"1\" class=\"dataframe\">\n",
       "  <thead>\n",
       "    <tr style=\"text-align: right;\">\n",
       "      <th></th>\n",
       "      <th>RS1.L</th>\n",
       "      <th>KE</th>\n",
       "      <th>TEG.DE</th>\n",
       "      <th>LEG.DE</th>\n",
       "      <th>SCS</th>\n",
       "      <th>HNI</th>\n",
       "      <th>AVT</th>\n",
       "      <th>ACCO</th>\n",
       "      <th>VNA.DE</th>\n",
       "      <th>7912.T</th>\n",
       "      <th>...</th>\n",
       "      <th>DEQ.DE</th>\n",
       "      <th>KIDS</th>\n",
       "      <th>HALO</th>\n",
       "      <th>MATW</th>\n",
       "      <th>9842.T</th>\n",
       "      <th>KVHI</th>\n",
       "      <th>MOON.L</th>\n",
       "      <th>NEO</th>\n",
       "      <th>6055.T</th>\n",
       "      <th>UNP</th>\n",
       "    </tr>\n",
       "  </thead>\n",
       "  <tbody>\n",
       "    <tr>\n",
       "      <th>0</th>\n",
       "      <td>0.000000</td>\n",
       "      <td>0.00000</td>\n",
       "      <td>-0.100000</td>\n",
       "      <td>0.000000</td>\n",
       "      <td>-0.230000</td>\n",
       "      <td>0.010000</td>\n",
       "      <td>-0.340000</td>\n",
       "      <td>0.000000</td>\n",
       "      <td>0.000000</td>\n",
       "      <td>-0.060000</td>\n",
       "      <td>...</td>\n",
       "      <td>0.000000</td>\n",
       "      <td>0.00000</td>\n",
       "      <td>0.000000</td>\n",
       "      <td>0.070000</td>\n",
       "      <td>0.00000</td>\n",
       "      <td>-0.340000</td>\n",
       "      <td>0.000000</td>\n",
       "      <td>0.00000</td>\n",
       "      <td>0.000000</td>\n",
       "      <td>-0.010000</td>\n",
       "    </tr>\n",
       "    <tr>\n",
       "      <th>1</th>\n",
       "      <td>0.000000</td>\n",
       "      <td>0.00000</td>\n",
       "      <td>0.000000</td>\n",
       "      <td>-0.060000</td>\n",
       "      <td>0.030000</td>\n",
       "      <td>0.050000</td>\n",
       "      <td>0.220000</td>\n",
       "      <td>0.000000</td>\n",
       "      <td>-0.040000</td>\n",
       "      <td>0.050000</td>\n",
       "      <td>...</td>\n",
       "      <td>0.000000</td>\n",
       "      <td>0.00000</td>\n",
       "      <td>0.000000</td>\n",
       "      <td>0.090000</td>\n",
       "      <td>0.00000</td>\n",
       "      <td>-0.160000</td>\n",
       "      <td>0.000000</td>\n",
       "      <td>0.00000</td>\n",
       "      <td>0.000000</td>\n",
       "      <td>0.090000</td>\n",
       "    </tr>\n",
       "    <tr>\n",
       "      <th>2</th>\n",
       "      <td>0.010000</td>\n",
       "      <td>0.00000</td>\n",
       "      <td>0.550000</td>\n",
       "      <td>0.040000</td>\n",
       "      <td>0.090000</td>\n",
       "      <td>-0.020000</td>\n",
       "      <td>0.280000</td>\n",
       "      <td>-0.080000</td>\n",
       "      <td>0.020000</td>\n",
       "      <td>-0.060000</td>\n",
       "      <td>...</td>\n",
       "      <td>0.000000</td>\n",
       "      <td>0.29000</td>\n",
       "      <td>-0.090000</td>\n",
       "      <td>-0.020000</td>\n",
       "      <td>-0.04000</td>\n",
       "      <td>0.690000</td>\n",
       "      <td>-0.140000</td>\n",
       "      <td>-0.24000</td>\n",
       "      <td>0.000000</td>\n",
       "      <td>0.050000</td>\n",
       "    </tr>\n",
       "    <tr>\n",
       "      <th>3</th>\n",
       "      <td>0.000000</td>\n",
       "      <td>-0.03000</td>\n",
       "      <td>0.090000</td>\n",
       "      <td>-0.130000</td>\n",
       "      <td>-0.050000</td>\n",
       "      <td>-0.010000</td>\n",
       "      <td>-0.110000</td>\n",
       "      <td>-0.020000</td>\n",
       "      <td>-0.100000</td>\n",
       "      <td>-0.080000</td>\n",
       "      <td>...</td>\n",
       "      <td>-0.480000</td>\n",
       "      <td>0.00000</td>\n",
       "      <td>0.000000</td>\n",
       "      <td>0.010000</td>\n",
       "      <td>0.00000</td>\n",
       "      <td>-0.260000</td>\n",
       "      <td>0.000000</td>\n",
       "      <td>0.00000</td>\n",
       "      <td>0.000000</td>\n",
       "      <td>0.040000</td>\n",
       "    </tr>\n",
       "    <tr>\n",
       "      <th>4</th>\n",
       "      <td>0.000000</td>\n",
       "      <td>0.00000</td>\n",
       "      <td>-0.060000</td>\n",
       "      <td>0.000000</td>\n",
       "      <td>-0.150000</td>\n",
       "      <td>-0.070000</td>\n",
       "      <td>-0.160000</td>\n",
       "      <td>0.000000</td>\n",
       "      <td>0.000000</td>\n",
       "      <td>0.020000</td>\n",
       "      <td>...</td>\n",
       "      <td>1.180000</td>\n",
       "      <td>0.00000</td>\n",
       "      <td>0.000000</td>\n",
       "      <td>0.050000</td>\n",
       "      <td>0.00000</td>\n",
       "      <td>0.150000</td>\n",
       "      <td>0.000000</td>\n",
       "      <td>0.00000</td>\n",
       "      <td>0.000000</td>\n",
       "      <td>0.020000</td>\n",
       "    </tr>\n",
       "    <tr>\n",
       "      <th>...</th>\n",
       "      <td>...</td>\n",
       "      <td>...</td>\n",
       "      <td>...</td>\n",
       "      <td>...</td>\n",
       "      <td>...</td>\n",
       "      <td>...</td>\n",
       "      <td>...</td>\n",
       "      <td>...</td>\n",
       "      <td>...</td>\n",
       "      <td>...</td>\n",
       "      <td>...</td>\n",
       "      <td>...</td>\n",
       "      <td>...</td>\n",
       "      <td>...</td>\n",
       "      <td>...</td>\n",
       "      <td>...</td>\n",
       "      <td>...</td>\n",
       "      <td>...</td>\n",
       "      <td>...</td>\n",
       "      <td>...</td>\n",
       "      <td>...</td>\n",
       "    </tr>\n",
       "    <tr>\n",
       "      <th>282</th>\n",
       "      <td>-0.050000</td>\n",
       "      <td>0.10000</td>\n",
       "      <td>0.060000</td>\n",
       "      <td>0.020000</td>\n",
       "      <td>0.140000</td>\n",
       "      <td>0.120000</td>\n",
       "      <td>0.120000</td>\n",
       "      <td>0.060000</td>\n",
       "      <td>0.060000</td>\n",
       "      <td>0.060000</td>\n",
       "      <td>...</td>\n",
       "      <td>0.090000</td>\n",
       "      <td>0.07000</td>\n",
       "      <td>0.160000</td>\n",
       "      <td>0.050000</td>\n",
       "      <td>-0.01000</td>\n",
       "      <td>0.080000</td>\n",
       "      <td>0.030000</td>\n",
       "      <td>-0.02000</td>\n",
       "      <td>-0.140000</td>\n",
       "      <td>-0.020000</td>\n",
       "    </tr>\n",
       "    <tr>\n",
       "      <th>283</th>\n",
       "      <td>0.000000</td>\n",
       "      <td>-0.04000</td>\n",
       "      <td>-0.040000</td>\n",
       "      <td>-0.030000</td>\n",
       "      <td>-0.050000</td>\n",
       "      <td>-0.040000</td>\n",
       "      <td>-0.060000</td>\n",
       "      <td>-0.060000</td>\n",
       "      <td>-0.050000</td>\n",
       "      <td>0.110000</td>\n",
       "      <td>...</td>\n",
       "      <td>0.070000</td>\n",
       "      <td>-0.09000</td>\n",
       "      <td>0.180000</td>\n",
       "      <td>-0.110000</td>\n",
       "      <td>0.01000</td>\n",
       "      <td>-0.100000</td>\n",
       "      <td>0.190000</td>\n",
       "      <td>0.01000</td>\n",
       "      <td>0.140000</td>\n",
       "      <td>-0.020000</td>\n",
       "    </tr>\n",
       "    <tr>\n",
       "      <th>284</th>\n",
       "      <td>0.190000</td>\n",
       "      <td>0.08000</td>\n",
       "      <td>0.020000</td>\n",
       "      <td>0.060000</td>\n",
       "      <td>0.120000</td>\n",
       "      <td>0.220000</td>\n",
       "      <td>0.050000</td>\n",
       "      <td>0.090000</td>\n",
       "      <td>0.070000</td>\n",
       "      <td>-0.080000</td>\n",
       "      <td>...</td>\n",
       "      <td>0.100000</td>\n",
       "      <td>0.07000</td>\n",
       "      <td>0.060000</td>\n",
       "      <td>0.160000</td>\n",
       "      <td>-0.06000</td>\n",
       "      <td>-0.040000</td>\n",
       "      <td>0.140000</td>\n",
       "      <td>0.28000</td>\n",
       "      <td>-0.100000</td>\n",
       "      <td>0.090000</td>\n",
       "    </tr>\n",
       "    <tr>\n",
       "      <th>285</th>\n",
       "      <td>-0.040000</td>\n",
       "      <td>-0.22000</td>\n",
       "      <td>0.060000</td>\n",
       "      <td>0.080000</td>\n",
       "      <td>-0.020000</td>\n",
       "      <td>-0.020000</td>\n",
       "      <td>0.030000</td>\n",
       "      <td>0.070000</td>\n",
       "      <td>0.100000</td>\n",
       "      <td>0.060000</td>\n",
       "      <td>...</td>\n",
       "      <td>-0.050000</td>\n",
       "      <td>0.04000</td>\n",
       "      <td>0.160000</td>\n",
       "      <td>-0.130000</td>\n",
       "      <td>-0.04000</td>\n",
       "      <td>0.000000</td>\n",
       "      <td>-0.030000</td>\n",
       "      <td>-0.07000</td>\n",
       "      <td>-0.110000</td>\n",
       "      <td>0.040000</td>\n",
       "    </tr>\n",
       "    <tr>\n",
       "      <th>286</th>\n",
       "      <td>0.022413</td>\n",
       "      <td>0.02617</td>\n",
       "      <td>0.011342</td>\n",
       "      <td>-0.013135</td>\n",
       "      <td>0.009965</td>\n",
       "      <td>-0.024812</td>\n",
       "      <td>-0.015528</td>\n",
       "      <td>0.009008</td>\n",
       "      <td>0.032015</td>\n",
       "      <td>0.049289</td>\n",
       "      <td>...</td>\n",
       "      <td>-0.013366</td>\n",
       "      <td>-0.06791</td>\n",
       "      <td>-0.008705</td>\n",
       "      <td>0.040692</td>\n",
       "      <td>0.00835</td>\n",
       "      <td>0.042783</td>\n",
       "      <td>-0.022595</td>\n",
       "      <td>0.00622</td>\n",
       "      <td>0.002591</td>\n",
       "      <td>-0.015102</td>\n",
       "    </tr>\n",
       "  </tbody>\n",
       "</table>\n",
       "<p>287 rows × 1653 columns</p>\n",
       "</div>"
      ]
     },
     "execution_count": 47,
     "metadata": {},
     "output_type": "execute_result"
    }
   ],
   "execution_count": 47
  },
  {
   "metadata": {
    "ExecuteTime": {
     "end_time": "2025-05-06T19:02:20.306144Z",
     "start_time": "2025-05-06T19:02:10.734583Z"
    }
   },
   "cell_type": "code",
   "source": [
    "importlib.reload(comparison)\n",
    "df_pred_1m, raw_weights_1m, mu_1m, S_1m, sigma_1m, sharpe_1m = comparison.get_portfolio_performance(df_to_evaluate_1m,\n",
    "                                                                                                    \"xgbooster_weights_1m.csv\",\n",
    "                                                                                                    min_avg_return=-0.5,\n",
    "                                                                                                    months=12)\n",
    "\n",
    "allocation, leftover = comparison.create_discrete_allocation(df_pred_1m, raw_weights_1m)\n",
    "\n",
    "# Create overview\n",
    "df_view_1m = pd.DataFrame.from_dict(raw_weights_1m, orient='index', columns=['max_sharpe_weight'])\n",
    "# Extract volatilities (square root of diagonal elements)\n",
    "df_view_1m['avg_annual_volatility'] = pd.Series(np.sqrt(np.diag(S_1m)), index=S_1m.columns).values\n",
    "# Set annual returns\n",
    "df_view_1m['avg_annual_return'] = mu_1m.values\n",
    "#\n",
    "df_view_1m['return_last_period(1m)'] = round(df.tail(1).prod() - 1, 2)\n",
    "#\n",
    "df_view_1m"
   ],
   "id": "af027ccea9e1252e",
   "outputs": [
    {
     "name": "stdout",
     "output_type": "stream",
     "text": [
      "Expected annual return: 65.1%\n",
      "Annual volatility: 9.4%\n",
      "Sharpe Ratio: 6.73\n",
      "Discrete allocation: {'RS1.L': 96, 'KE': 82, 'TEG.DE': 2145, 'SCS': 206, 'ACCO': 225, 'VNA.DE': 68, '7912.T': 547, 'KEYS': 15850, 'SGRO.L': 395, 'CBRE': 314, 'PGRE': 487, 'BBOX.L': 205, 'PLXS': 19417, 'LAND.L': 67, 'OLED': 24, 'CDW': 50, 'FLEX': 717, 'REZI': 359, 'CMPR': 20, 'DLAR.L': 390, '2379.T': 32, '6754.T': 34, 'SHA.DE': 95, 'TTMI': 75, '3234.T': 84, 'ASGN': 104, 'COA.L': 224, 'VVV': 28, 'PAGE.L': 41, '3309.T': 2538, 'STWD': 1114, 'GROW.L': 54, 'KFY': 51, 'MEI': 36, 'RGLD': 66, 'IWG.L': 1, 'ZIL2.DE': 258, 'SANM': 72, 'ACN': 33, '7893.T': 106, 'AGNC': 268, 'CTS': 36, 'SCSC': 308, '3283.T': 62, 'PDM': 134, 'III.L': 665, 'NBS.L': 47, 'DSCV.L': 29, '6183.T': 55, 'KELYA': 135, '4384.T': 41, 'BRBY.L': 23, '7984.T': 671, 'CCK': 37, 'APTV': 35, 'STEM.L': 17618, 'UU.L': 9493, 'ITRI': 23623, 'INF.L': 61, '4218.T': 217, 'HMSO.L': 153, 'WDC': 189, '7313.T': 283, 'EBF': 125, 'TNET': 36, '6098.T': 18127, 'HLMA.L': 39, 'WPP.L': 61, 'JBL': 224, '3279.T': 143, 'LXP': 123, '6028.T': 43, 'NLY': 217, '7846.T': 169, 'KRG': 186, 'ELME': 881, 'BDEV.L': 74, 'TEP.L': 947, 'ESRT': 77, 'CGNX': 45, 'ZBRA': 79, 'DLX': 90, 'BWA': 186, 'ELV': 2314, 'NYT': 164, 'SNWS.L': 5735, 'INS.DE': 109, 'INCH.L': 204, 'NWSA': 76, 'AT1.DE': 304, 'MKSI': 95, '7914.T': 253, 'MMI': 64, 'SNBR': 272, 'SMWH.L': 208, 'ITV.L': 101, 'LAD': 464, 'HSII': 173, 'LIN': 319, 'NL': 956, 'BALL': 59, '2146.T': 14679, 'DHR': 145, '8057.T': 2569, 'ECOR.L': 45, 'PLD': 87, 'REXR': 134, 'IPGP': 73, 'RHI': 49, 'AAP': 37, 'HEAD.L': 26, '7272.T': 84, 'RCH.L': 136, 'ATGE': 1105, 'GWI.L': 101, 'POOL': 260, 'AZO': 180, 'LKQ': 66, 'MIDW.L': 82, 'HPQ': 87, 'AZEK': 75, 'ADV.DE': 69, 'NSIT': 134, 'KMX': 101, 'OXIG.L': 1295, 'CDNS': 140, 'VNT': 38778, 'QUAD': 101, 'REG': 275, '7976.T': 78, 'API.L': 107, 'PNN.L': 5384, 'ENR.DE': 17652, 'WSM': 127, 'WIX.L': 88, 'EQR': 389, 'PFG': 85, '8952.T': 360, 'PTEC.L': 846, 'SPGI': 90, 'FOXT.L': 1704, 'HPE': 110, '8976.T': 127, 'LZB': 10, 'AAD.DE': 39, 'ESS': 656, 'LEA': 78, '7762.T': 108, 'HIW': 43, 'MAA': 50, 'PSM.DE': 12, '3107.T': 21300, 'PSA': 16, 'AY': 46, 'ORLY': 44, 'ALV.DE': 29248, 'BBSI': 79, 'DLB': 6, 'OPEN': 22, 'SMDS.L': 144, 'LMP.L': 22, 'O5G.DE': 16, 'HFD.L': 16, 'BDN': 19, 'MTH': 57, 'HAE': 70, 'BRX': 78, '6701.T': 507, 'MTD': 37, 'MSI': 3478, 'DLR': 533, 'SAFE.L': 249, 'LRCX': 97, '7864.T': 99, 'LEG': 69, '9468.T': 361, '4732.T': 352, 'KBX.DE': 54, 'JDG.L': 429, 'IRM': 7463, 'BOSS.DE': 54, 'G1A.DE': 123, 'RDW.L': 501, 'RNW': 126, 'MPX': 246, 'HBH.DE': 132, 'AMT': 43, 'CRMT': 30, '6915.T': 536, 'TMO': 12, '9934.T': 154, 'WAT': 89, 'AN': 11, 'THRM': 39, 'PETS.L': 11, 'GPC': 75, 'RWA.L': 38, 'MNRO': 19, 'HD': 74, 'EGP': 36, '6981.T': 20, 'HASI': 8, 'RWS.L': 41, '6436.T': 497, 'ASCL.L': 3517, 'OKTA': 54, 'MOV': 29, 'PMT': 47, '8159.T': 32, 'HST': 39, '3295.T': 10, '8960.T': 126, '8035.T': 102, 'ICG.L': 177, 'EQIX': 102, 'ADNT': 69, 'TEL': 51, 'BIG.L': 821, '7734.T': 335, 'TBI': 56, 'SREI.L': 21, 'UTG.L': 51, 'HOG': 12364, 'UTMD': 141, 'SVT.L': 1057, 'DRH': 61, '7906.T': 717, 'DHL.DE': 158, 'DFS.L': 61, '8984.T': 693, 'SUPR.L': 118, 'IFX.DE': 11313, 'WLY': 21548, 'AOX.DE': 2502, 'JBGS': 99, 'GPI': 270, 'CLMB': 2720, 'BAH': 9584, 'ETD': 45, 'LVWR': 9516, 'TW.L': 77, 'SMTC': 122, 'SDRY.L': 246, 'WTS': 39, 'AKAM': 94, '3282.T': 407, 'IBM': 77, '3421.T': 557, 'TSCO': 208, 'ACRE': 234, 'CEC.DE': 89, 'ADS.DE': 381, 'RTO.L': 69, 'AL': 95, 'QCOM': 172, 'BCPT.L': 35, 'GWRE': 287, 'LEVI': 414, 'NDAQ': 262, 'QGEN': 386, 'DWNI.DE': 94, 'GAW.L': 35, 'KRC': 103, 'BIRK': 141, 'CRI': 449, 'PAG.L': 64, 'TPR': 436, 'CCEP': 177, 'RWI.L': 83, 'ILM1.DE': 105, 'ACLS': 51, 'JAKK': 32, 'FRE.DE': 69, '8968.T': 60, '3249.T': 1140, '6861.T': 197, 'CNH': 91, 'IPO.L': 54, '7718.T': 398, 'BNR.DE': 147, 'STAG': 126, 'G': 180, '8957.T': 577, 'VNO': 96, 'RXRX': 58, 'CREI.L': 21, 'AKR': 454, 'DOX': 249, 'TGNA': 60, 'VICI': 8300, '9983.T': 504, 'BBY': 164, 'MHK': 30661, 'FERG': 32, 'STVG.L': 837, 'USFD': 84, 'RL': 94, 'FRA.DE': 77, 'BMY.L': 1886, 'COLD': 1, 'PARA': 9, '8173.T': 586, 'GYC.DE': 54, 'TTEK': 828, '6866.T': 91, '7433.T': 320, 'KBH': 93, 'MSFT': 1632, 'JBHT': 429, '7752.T': 1664, 'NTAP': 569, 'ABM': 39184, 'AMS.L': 29960, 'CNXC': 315, 'FGP.L': 1088, '7309.T': 20495, 'FBRT': 504, 'HELE': 15807, 'FIS': 264, 'FIGS': 10053, 'KLIC': 674, 'LULU': 322, 'VOD.L': 179, 'CABO': 21392, '8953.T': 244, 'CTEC.L': 2685, '7780.T': 1800, 'SUI': 20755, 'CRUS': 13536, 'COLM': 186, '8130.T': 446, 'ALFA.L': 842, '8897.T': 377, 'KTB': 3599, 'HLN.L': 964, '3471.T': 5176, 'SMP': 120, 'DJCO': 114, 'ALGM': 58, 'CTRE': 2137, '9332.T': 65, '4849.T': 55, 'CRM': 167, 'MCO': 85, '3493.T': 29320, 'VEEV': 73, 'TPT.L': 84, '7483.T': 1338, 'AMCR': 144, 'FCPT': 146, 'RRTL.DE': 144, 'FNKO': 752, 'GBF.DE': 2357, '8150.T': 20168, 'SAFE': 199, 'RITM': 1724, 'MUV2.DE': 458, 'RESI.L': 19175, 'BYIT.L': 330, 'GLPI': 119, 'APD': 18119, 'RDUS': 347, 'OMF': 292, 'BVB.DE': 34471, 'ARI': 175, '8951.T': 336, 'CWH': 200, 'PEB': 37, '4307.T': 255, 'SVC': 197, 'NOEJ.DE': 49, 'COP.DE': 6386, '4194.T': 286, 'RF': 95, 'HRB': 333, '6703.T': 277, '7947.T': 2786, '3002.T': 1834, 'FR': 30957, '2760.T': 224, 'XPER': 235, 'DIS': 5275, '7250.T': 552, '7990.T': 39000, 'AGS': 2376, 'ZAL.DE': 26, 'INTC': 16255, 'ADP': 351, 'MET': 280, 'CIM': 190, 'CALX': 234, 'VPG': 155, 'TT': 64966, 'VSCO': 310, 'KW': 18084, 'SHO': 290, 'SFQ.DE': 298, 'CSR': 489, 'ANF': 3056, '9832.T': 85, 'AEO': 49, 'TLX.DE': 1394, '6856.T': 181, '8961.T': 176, 'ZUMZ': 815, 'VAR1.DE': 39902, 'AON': 395, 'DXC': 96, 'CASS': 99, '6460.T': 213, 'ARCB': 19673, 'TER': 170, 'ABDP.L': 70, '2475.T': 293, 'FDM.L': 47, '3076.T': 183, 'CNC': 182, 'EBAY': 197, 'MRVL': 550, 'MLAB': 16133, 'GSK.L': 1955, '5970.T': 18968, 'MMS': 114, 'SCI': 10258, 'TDC': 259, 'ULTA': 166, 'O': 175, 'BNL': 230, 'OSIS': 140, 'CPI.L': 160, '3591.T': 1975, 'CVLT': 8912, 'BSY': 59, '8008.T': 212, 'MA': 102, 'SEDG': 121, 'SONO': 19802, 'ETSY': 1260, 'WOOF': 107, 'WHR.L': 79, 'AHT.L': 192, 'BYW6.DE': 35, 'ICLR': 63, 'NXST': 31, 'DELL': 837, 'VSTO': 69, 'BNZL.L': 1107, 'LCII': 5, 'GLOB': 24, '8056.T': 184, '1435.T': 210, '6417.T': 203, 'S92.DE': 15, 'GT': 35, 'NSSC': 1, '6744.T': 202, '2733.T': 296, '3226.T': 212, 'HVT': 52, 'WSR': 48, 'MMSI': 1791, '7419.T': 331, 'ESTC': 39, '4062.T': 42, 'AZTA': 224, 'DORM': 77, 'EPR': 94, 'BURL': 150, '1928.T': 2084, 'PSDL.L': 60, '6471.T': 159, 'BOOT': 2244, 'GWW': 516, 'POWW': 3545, '3003.T': 99, '2692.T': 222, 'DE': 1972, 'GPK': 106, 'CPS': 62, 'INVH': 1411, '3668.T': 163, 'GBG.L': 6616, 'IQV': 3, 'CCO': 12, 'WMG': 44, 'NG.L': 16, 'AAN': 23, 'JCI': 58, 'TPE.DE': 14, '2120.T': 41, 'GPS': 87, 'JST.DE': 23, 'CSGS': 51, 'NNN': 74, 'NMRK': 60, 'BGEO.L': 46, 'TPK.L': 31078, 'KLAC': 34140, '6902.T': 9, 'GCO': 83, 'NYMT': 216, 'HIBB': 12, 'EOAN.DE': 53, '7296.T': 112, 'RVTY': 7, 'HLT': 82, '8987.T': 77, '2784.T': 154, 'BKE': 1, 'YOU.DE': 15, '6859.T': 69, 'AZPN': 26, 'RHP': 35, 'UAA': 61, 'IDXX': 58, 'CIO': 8, 'FTNT': 1125, 'COHU': 63, 'WW': 11, 'PSTG': 95, '6762.T': 198, 'HEAR': 3963, 'TPH': 44, 'LTC': 143, '3765.T': 53, 'EVLV': 26, 'OSUR': 100, 'MCW': 26, 'FTK.DE': 785, '3104.T': 49, '9735.T': 1719, 'CWK': 376, 'JUST.L': 2684, 'EYE': 77, 'FDS': 29, 'VTY.L': 48, 'FRPH': 7430, 'AEWU.L': 193, 'AGCO': 220, 'VIAV': 14, 'FOUR.L': 50, 'TLYS': 74, 'OMCL': 39, '3292.T': 61, 'LESL': 26, 'SOHO.L': 16, 'CERT': 42, 'HBAN': 325, 'WAF.DE': 85, '9729.T': 115, 'DGE.L': 27, 'PRDO': 481, 'SBS.DE': 661, 'BXMT': 42, 'KD': 2, 'CUBE': 14, 'VTSC.DE': 4994, '1911.T': 90, 'TMHC': 84, 'LGEN.L': 61, 'PAYX': 5, 'JSG.L': 24, 'GFS': 14, 'GES': 32, '3116.T': 10, 'HTWS.L': 37, '6644.T': 163, 'IHG.L': 34, 'OXM': 22, '6736.T': 6896, 'MEGP.L': 35, 'TTSH': 44, '3269.T': 383, 'REGN': 78, 'UNIT': 45, 'BIO': 430, 'UPBD': 84, 'SCT.L': 35, 'SNOW': 53, '6425.T': 195, 'INTU': 114, 'UNM': 78, 'PTON': 94, 'WTW': 1739, 'DKS': 2788, 'MRK.DE': 139, 'ROKU': 115, '4293.T': 126, '4665.T': 386, 'YUMC': 67, 'ZI': 17, 'FITB': 25, 'EFC': 42, 'LFUS': 110, 'BWY.L': 52, 'DXLG': 33, 'CTAS': 190, 'UNH': 172, 'BLKB': 31, 'LDOS': 3110, 'MBG.DE': 83, 'DOCU': 33, 'PLYM': 2, 'EPRT': 318, 'COK.DE': 23, 'PINC': 12714, 'KVUE': 107, '6588.T': 363, 'ICHR': 76, '6976.T': 137, '5332.T': 1030, '7732.T': 160, 'CME': 934, 'TGT': 39, '2767.T': 1383, 'ASHM.L': 56, '8985.T': 102, '4452.T': 1291, 'RLJ': 98, 'LNT': 186, '8804.T': 75, 'ARHS': 18812, 'RDC.DE': 4, '4751.T': 47, 'MEDP': 80, '7751.T': 274, 'BKNG': 3, 'CAL': 14, '6951.T': 50, '1973.T': 174, '8439.T': 79, '3492.T': 95, '5105.T': 28, 'EWCZ': 11, '9101.T': 488, 'PAT.DE': 49, 'TROW': 40, 'HNR1.DE': 235, '4619.T': 34, 'DAY': 101, 'MDB': 35, 'MEG': 130, 'WG.L': 1590, 'WU': 128, 'APLE': 133, '9068.T': 1659, 'MSGS': 399, '9831.T': 3512, 'COHR': 5049, '9401.T': 558, 'CATO': 255, '9719.T': 592, '3148.T': 925, 'RH': 71, '8079.T': 73, '7915.T': 3200, 'LSCC': 172, '4980.T': 276, 'CHRW': 128, '3289.T': 82, 'IVR': 117, 'RMV.L': 150, 'GXI.DE': 125, 'ZD': 1790, 'CRWD': 2918, 'SLAB': 482, '6914.T': 263, 'KN': 34187, '6814.T': 529, '7241.T': 170, 'NDX1.DE': 156, 'LINC': 75, 'DAKT': 468, 'CHCT': 59, 'PRI': 130, 'CHKP': 265, 'HFFG': 49, 'ALIT': 39, 'NETW.L': 45, 'HHFA.DE': 96, 'AFL': 1256, 'SBGI': 53, 'PECO': 35, 'PUM.DE': 21, '8129.T': 394, 'NEXN.L': 219, '9404.T': 268, 'UNFI': 25, '2168.T': 20, '6723.T': 21, 'TWO': 42, 'MPW': 93, 'AEIS': 121, 'AMKR': 88, 'ZIG.L': 78, '6923.T': 225, 'KREF': 75, 'PFE': 14772, '9024.T': 4771, 'YOU.L': 481, 'LIO.L': 235, 'INFN': 188, '7294.T': 16893, 'SLP': 239, '4716.T': 53407, 'UCTT': 173, 'CHPT': 148, 'CFLT': 177, 'VMUK.L': 11724, 'VYX': 120, 'RBLX': 176, 'AYI': 4167, 'SY1.DE': 264, 'WST': 53, 'RARE': 185, 'UE': 1697, '8282.T': 1108, '5110.T': 29, '6268.T': 32, 'ETN': 180, 'AMC': 42, 'FWRD': 26, '2395.T': 32, 'WBD': 110, 'SHL.DE': 98, 'CRL': 65, 'AUTO.L': 337, 'ADI': 29, 'NSA': 94, '8114.T': 185, 'ES': 51, 'EEX': 174, 'WTB.L': 220, '4812.T': 64, 'KNX': 58, 'TRTX': 17, 'EVOK.L': 22, '4816.T': 17, 'CPRX': 192, '4151.T': 22, 'BELFB': 259, 'TWKS': 101, '9434.T': 687, 'MOD': 418, 'BEZ.L': 4997, 'WHR': 9607, '8591.T': 26555, 'PRSR.L': 358, '7844.T': 48, 'DDS': 198, '7575.T': 37, 'KCO.DE': 39, 'EVRI': 35, 'HSTM': 590, 'AXP': 1068, 'ORC': 116, 'ARRY': 213, '4503.T': 203, 'FOR': 27, 'EHTH': 55, '7747.T': 230, 'TPIC': 62, 'NTST': 247, '3086.T': 23, 'PKG': 91, 'OC': 40, '9987.T': 73, 'ARR': 56, 'IMAX': 352, '8601.T': 1799, 'DTE.DE': 361, '8963.T': 312, '5938.T': 387, 'NBPE.L': 288, 'BIRD': 26, 'FLGT': 38, 'WRBY': 180, 'PGNY': 17, 'SRP.L': 23, 'UTI': 414, '3481.T': 157, 'HEN3.DE': 220, 'TYL': 344, 'ADV': 145, 'BLK': 19, '7459.T': 101, 'PDCO': 28, 'TYMN.L': 1486, 'PAYC': 149, 'GDDY': 2674, 'RMBS': 74, 'CRDA.L': 31797, 'MSA': 49, 'TTG.L': 1505, '3402.T': 311, 'N91.L': 40, 'WTRG': 44, 'UPWK': 111, '5101.T': 71, 'KBR': 554, 'ADUS': 23, 'PWSC': 245, 'PTC': 43, 'CRH': 85, 'RAT.L': 34736, '2972.T': 94, 'CNK': 439, 'LNC': 53, 'NXT.L': 128, 'LBRDK': 36, 'LABS.L': 113, 'CTO': 435, 'ICE': 153, 'ROL': 152, 'OTIS': 24, 'FINV': 54, 'PRGS': 50, 'CVS': 178, 'JKHY': 18938, 'PTVE': 61, 'ICUI': 88, 'ENTG': 205, '9107.T': 2375, 'AWK': 45, 'BOWL': 23089, 'NKE': 336, 'MITK': 166, '2685.T': 120, 'NHI': 3311, '3476.T': 104, 'PRO': 134, 'UPS': 65, 'DWS.DE': 105, 'BIJ.DE': 92, 'EXC': 326, '3290.T': 47, 'FCN': 3019, 'JAMF': 54, 'VZ': 641, 'GILT': 143, '7988.T': 104, '3287.T': 69, 'TOST': 424, 'ARES': 60, 'WM': 788, 'HCKT': 275, 'NESF.L': 189, 'PKST': 66, 'PLUS.L': 5112, 'DBX': 287, 'WWW': 29224, 'TILE': 41, 'BDC': 103, 'HUBB': 87, 'RGA': 1752, 'AVGO': 2445, 'RM': 62, 'HFG.DE': 68, '6651.T': 182, '9684.T': 160, 'ENR': 5362, 'SCVL': 99, 'IRWD': 57, 'EVC': 281, 'ADPT': 108, 'SAH': 207, 'ONL': 83, '9697.T': 129, 'VRNT': 83, 'NEM.DE': 26253, 'SBLK': 88, 'VOXX': 116, 'ILMN': 82, 'FSJ.L': 14046, '6941.T': 1007, '7606.T': 42, 'VECO': 14, 'MRC': 596, '6504.T': 16, '8012.T': 1155, 'KMT': 34, '9757.T': 94, '9413.T': 704, 'CMBM': 29, 'BOOT.L': 68, 'SFOR.L': 63, '6971.T': 37, 'NXPI': 52, 'RS': 75, 'ITRN': 49, '9869.T': 1429, '8977.T': 198, 'APP': 3118, 'AVNW': 151, '2433.T': 250, 'HOV': 33, 'MHO': 238, 'LSTR': 106, '8923.T': 249, '6326.T': 330, 'VRTX': 1133, 'NVT': 109, 'TTC': 122, 'CCRN': 1695, '2327.T': 8003, 'GFT.DE': 93, 'CRSR': 95, '3636.T': 210, '8252.T': 187, '8086.T': 553, 'ROP': 127, '3697.T': 112, 'RCL': 87, 'SLB': 69, 'EH': 117, '2502.T': 127, 'TRU': 81, 'KETL.L': 6944, '2790.T': 3152, 'FIE.DE': 348, 'NVRI': 131, '9605.T': 108, 'AIN': 69, 'PMTS': 174, 'FUBO': 51, 'CLFD': 250, 'MVIS': 270, 'SEAT': 107, 'SMCI': 217, 'SDGR': 42, 'DDD': 167, 'BLCO': 20, 'GMRE': 142, 'AMAL': 3687, '2337.T': 348, 'BRKR': 46, 'BEN': 158, 'STGW': 34, '8074.T': 980, '3048.T': 48503, 'HRI': 86, 'QLYS': 258, 'DFIN': 141, '8803.T': 3448, 'XP': 111, 'CNM': 353, 'ONTO': 255, 'ONON': 134, '2792.T': 152, 'COUR': 89, 'AUDC': 670, 'FWONK': 8173, '5334.T': 2181, 'PSTL': 99, 'ECV.DE': 109, 'DAR': 109, 'FORR': 25248, 'BIG': 20, 'UIS': 60, 'IOT': 63, 'CERS': 31, 'WSC': 83, 'WIX': 96, '2471.T': 297, 'DRQ': 61, 'GRG.L': 23127, '3341.T': 49, 'IQ': 32, 'CLVT': 119, 'LII': 80, '8309.T': 38661, 'PGR': 52564, 'MRNA': 58, 'TWI': 270, 'ALLE': 41, '9433.T': 689, 'OCN.L': 5559, '7564.T': 146, 'TSCO.L': 946, '9143.T': 356, 'PEN': 48, '7518.T': 39522, 'ENPH': 46, 'GAMA.L': 445, 'MATX': 400, 'MATW': 53, '9842.T': 2554, 'KVHI': 51, 'NEO': 317, '6055.T': 10102}\n",
      "Funds remaining: €10.71\n"
     ]
    },
    {
     "data": {
      "text/plain": [
       "        max_sharpe_weight  avg_annual_volatility  avg_annual_return  \\\n",
       "RS1.L             0.00000               1.576157           0.113799   \n",
       "KE                0.00000               1.631618          -0.301001   \n",
       "TEG.DE            0.00235               1.604974           0.498377   \n",
       "LEG.DE            0.00000               1.672290           0.364967   \n",
       "SCS               0.00000               1.595129           0.321200   \n",
       "...                   ...                    ...                ...   \n",
       "KVHI              0.00000               1.510988          -0.079269   \n",
       "MOON.L            0.00000               1.586560           0.257133   \n",
       "NEO               0.00000               1.937570           0.357876   \n",
       "6055.T            0.00000               1.737581          -0.214965   \n",
       "UNP               0.00000               1.438258           0.258441   \n",
       "\n",
       "        return_last_period(1m)  \n",
       "RS1.L                    -0.01  \n",
       "KE                       -0.05  \n",
       "TEG.DE                    0.10  \n",
       "LEG.DE                    0.08  \n",
       "SCS                      -0.07  \n",
       "...                        ...  \n",
       "KVHI                      0.00  \n",
       "MOON.L                   -0.05  \n",
       "NEO                      -0.05  \n",
       "6055.T                   -0.06  \n",
       "UNP                      -0.01  \n",
       "\n",
       "[1650 rows x 4 columns]"
      ],
      "text/html": [
       "<div>\n",
       "<style scoped>\n",
       "    .dataframe tbody tr th:only-of-type {\n",
       "        vertical-align: middle;\n",
       "    }\n",
       "\n",
       "    .dataframe tbody tr th {\n",
       "        vertical-align: top;\n",
       "    }\n",
       "\n",
       "    .dataframe thead th {\n",
       "        text-align: right;\n",
       "    }\n",
       "</style>\n",
       "<table border=\"1\" class=\"dataframe\">\n",
       "  <thead>\n",
       "    <tr style=\"text-align: right;\">\n",
       "      <th></th>\n",
       "      <th>max_sharpe_weight</th>\n",
       "      <th>avg_annual_volatility</th>\n",
       "      <th>avg_annual_return</th>\n",
       "      <th>return_last_period(1m)</th>\n",
       "    </tr>\n",
       "  </thead>\n",
       "  <tbody>\n",
       "    <tr>\n",
       "      <th>RS1.L</th>\n",
       "      <td>0.00000</td>\n",
       "      <td>1.576157</td>\n",
       "      <td>0.113799</td>\n",
       "      <td>-0.01</td>\n",
       "    </tr>\n",
       "    <tr>\n",
       "      <th>KE</th>\n",
       "      <td>0.00000</td>\n",
       "      <td>1.631618</td>\n",
       "      <td>-0.301001</td>\n",
       "      <td>-0.05</td>\n",
       "    </tr>\n",
       "    <tr>\n",
       "      <th>TEG.DE</th>\n",
       "      <td>0.00235</td>\n",
       "      <td>1.604974</td>\n",
       "      <td>0.498377</td>\n",
       "      <td>0.10</td>\n",
       "    </tr>\n",
       "    <tr>\n",
       "      <th>LEG.DE</th>\n",
       "      <td>0.00000</td>\n",
       "      <td>1.672290</td>\n",
       "      <td>0.364967</td>\n",
       "      <td>0.08</td>\n",
       "    </tr>\n",
       "    <tr>\n",
       "      <th>SCS</th>\n",
       "      <td>0.00000</td>\n",
       "      <td>1.595129</td>\n",
       "      <td>0.321200</td>\n",
       "      <td>-0.07</td>\n",
       "    </tr>\n",
       "    <tr>\n",
       "      <th>...</th>\n",
       "      <td>...</td>\n",
       "      <td>...</td>\n",
       "      <td>...</td>\n",
       "      <td>...</td>\n",
       "    </tr>\n",
       "    <tr>\n",
       "      <th>KVHI</th>\n",
       "      <td>0.00000</td>\n",
       "      <td>1.510988</td>\n",
       "      <td>-0.079269</td>\n",
       "      <td>0.00</td>\n",
       "    </tr>\n",
       "    <tr>\n",
       "      <th>MOON.L</th>\n",
       "      <td>0.00000</td>\n",
       "      <td>1.586560</td>\n",
       "      <td>0.257133</td>\n",
       "      <td>-0.05</td>\n",
       "    </tr>\n",
       "    <tr>\n",
       "      <th>NEO</th>\n",
       "      <td>0.00000</td>\n",
       "      <td>1.937570</td>\n",
       "      <td>0.357876</td>\n",
       "      <td>-0.05</td>\n",
       "    </tr>\n",
       "    <tr>\n",
       "      <th>6055.T</th>\n",
       "      <td>0.00000</td>\n",
       "      <td>1.737581</td>\n",
       "      <td>-0.214965</td>\n",
       "      <td>-0.06</td>\n",
       "    </tr>\n",
       "    <tr>\n",
       "      <th>UNP</th>\n",
       "      <td>0.00000</td>\n",
       "      <td>1.438258</td>\n",
       "      <td>0.258441</td>\n",
       "      <td>-0.01</td>\n",
       "    </tr>\n",
       "  </tbody>\n",
       "</table>\n",
       "<p>1650 rows × 4 columns</p>\n",
       "</div>"
      ]
     },
     "execution_count": 48,
     "metadata": {},
     "output_type": "execute_result"
    }
   ],
   "execution_count": 48
  },
  {
   "metadata": {},
   "cell_type": "markdown",
   "source": "## 6 Months",
   "id": "b9d9c2787485c1ff"
  },
  {
   "metadata": {
    "ExecuteTime": {
     "end_time": "2025-05-06T19:29:59.952778Z",
     "start_time": "2025-05-06T19:29:50.880361Z"
    }
   },
   "cell_type": "code",
   "source": [
    "importlib.reload(train_test)\n",
    "X_train, y_train, X_test, y_test, min_datestr = train_test.split_train_test_tabular(df_tabular, months=60, target_key='m_return_target(t+6)')\n",
    "\n",
    "# \n",
    "model_6m = xgboost.XGBRegressor(n_estimators=1000)\n",
    "model_6m.fit(X_train, y_train,\n",
    "          eval_set=[(X_train, y_train), (X_test, y_test)],\n",
    "          verbose=False)\n",
    "\n",
    "print(len(X_train)/1653, len(X_test)/1653)"
   ],
   "id": "93df1cf38cd00ed9",
   "outputs": [
    {
     "name": "stdout",
     "output_type": "stream",
     "text": [
      "227.0 55.0\n"
     ]
    }
   ],
   "execution_count": 83
  },
  {
   "metadata": {
    "ExecuteTime": {
     "end_time": "2025-05-06T19:02:31.758424Z",
     "start_time": "2025-05-06T19:02:31.587914Z"
    }
   },
   "cell_type": "code",
   "source": [
    "months_6m = 6\n",
    "X_train_6m, y_train_6m, X_test_6m, y_test_6m, min_datestr = train_test.split_train_test_tabular(df_tabular, months=6,\n",
    "                                                                                              target_key='m_return_target(t+6)')"
   ],
   "id": "34201fec54105879",
   "outputs": [],
   "execution_count": 50
  },
  {
   "metadata": {
    "ExecuteTime": {
     "end_time": "2025-05-06T19:02:33.504074Z",
     "start_time": "2025-05-06T19:02:31.798404Z"
    }
   },
   "cell_type": "code",
   "source": [
    "dt = datetime.strptime(min_datestr, '%Y-%m-%d')\n",
    "\n",
    "# get all training months without the last 6 months\n",
    "X_train_input_6m = X_train_6m.head(len(X_train_6m) - len(df.columns)*months_6m)\n",
    "# Get last 6 months of the training dataset and use as input to predict the next 6 months\n",
    "X_test_input_6m = X_train_6m.tail(len(df.columns)*months_6m)\n",
    "\n",
    "# Trained \n",
    "y_train_pred_6m = model_6m.predict(X_train_input_6m)\n",
    "# Predictions\n",
    "y_test_pred_6m = model_6m.predict(X_test_input_6m)"
   ],
   "id": "bb0ba2ff0be542b6",
   "outputs": [],
   "execution_count": 51
  },
  {
   "metadata": {},
   "cell_type": "markdown",
   "source": "### 6 Months Actual vs Prediction",
   "id": "47b11a14208d302a"
  },
  {
   "metadata": {
    "ExecuteTime": {
     "end_time": "2025-05-06T19:02:33.646107Z",
     "start_time": "2025-05-06T19:02:33.572943Z"
    }
   },
   "cell_type": "code",
   "source": [
    "importlib.reload(comparison)\n",
    "#\n",
    "y_train_mean_pred_6m, y_test_mean_pred_6m = comparison.get_train_test_mean_pred(y_train_pred_6m, y_test_pred_6m, len(df.columns))\n",
    "#\n",
    "comparison.generate_plot(df, df_tabular, y_train_mean_pred_6m, y_test_mean_pred_6m)"
   ],
   "id": "171c2e1803eb29ea",
   "outputs": [
    {
     "name": "stdout",
     "output_type": "stream",
     "text": [
      "281 275 6\n"
     ]
    },
    {
     "data": {
      "application/vnd.plotly.v1+json": {
       "data": [
        {
         "line": {
          "color": "#5c839f",
          "width": 2
         },
         "mode": "lines",
         "name": "Actual returns",
         "x": [
          "2001-04-01",
          "2001-05-01",
          "2001-06-01",
          "2001-07-01",
          "2001-08-01",
          "2001-09-01",
          "2001-10-01",
          "2001-11-01",
          "2001-12-01",
          "2002-01-01",
          "2002-02-01",
          "2002-03-01",
          "2002-04-01",
          "2002-05-01",
          "2002-06-01",
          "2002-07-01",
          "2002-08-01",
          "2002-09-01",
          "2002-10-01",
          "2002-11-01",
          "2002-12-01",
          "2003-01-01",
          "2003-02-01",
          "2003-03-01",
          "2003-04-01",
          "2003-05-01",
          "2003-06-01",
          "2003-07-01",
          "2003-08-01",
          "2003-09-01",
          "2003-10-01",
          "2003-11-01",
          "2003-12-01",
          "2004-01-01",
          "2004-02-01",
          "2004-03-01",
          "2004-04-01",
          "2004-05-01",
          "2004-06-01",
          "2004-07-01",
          "2004-08-01",
          "2004-09-01",
          "2004-10-01",
          "2004-11-01",
          "2004-12-01",
          "2005-01-01",
          "2005-02-01",
          "2005-03-01",
          "2005-04-01",
          "2005-05-01",
          "2005-06-01",
          "2005-07-01",
          "2005-08-01",
          "2005-09-01",
          "2005-10-01",
          "2005-11-01",
          "2005-12-01",
          "2006-01-01",
          "2006-02-01",
          "2006-03-01",
          "2006-04-01",
          "2006-05-01",
          "2006-06-01",
          "2006-07-01",
          "2006-08-01",
          "2006-09-01",
          "2006-10-01",
          "2006-11-01",
          "2006-12-01",
          "2007-01-01",
          "2007-02-01",
          "2007-03-01",
          "2007-04-01",
          "2007-05-01",
          "2007-06-01",
          "2007-07-01",
          "2007-08-01",
          "2007-09-01",
          "2007-10-01",
          "2007-11-01",
          "2007-12-01",
          "2008-01-01",
          "2008-02-01",
          "2008-03-01",
          "2008-04-01",
          "2008-05-01",
          "2008-06-01",
          "2008-07-01",
          "2008-08-01",
          "2008-09-01",
          "2008-10-01",
          "2008-11-01",
          "2008-12-01",
          "2009-01-01",
          "2009-02-01",
          "2009-03-01",
          "2009-04-01",
          "2009-05-01",
          "2009-06-01",
          "2009-07-01",
          "2009-08-01",
          "2009-09-01",
          "2009-10-01",
          "2009-11-01",
          "2009-12-01",
          "2010-01-01",
          "2010-02-01",
          "2010-03-01",
          "2010-04-01",
          "2010-05-01",
          "2010-06-01",
          "2010-07-01",
          "2010-08-01",
          "2010-09-01",
          "2010-10-01",
          "2010-11-01",
          "2010-12-01",
          "2011-01-01",
          "2011-02-01",
          "2011-03-01",
          "2011-04-01",
          "2011-05-01",
          "2011-06-01",
          "2011-07-01",
          "2011-08-01",
          "2011-09-01",
          "2011-10-01",
          "2011-11-01",
          "2011-12-01",
          "2012-01-01",
          "2012-02-01",
          "2012-03-01",
          "2012-04-01",
          "2012-05-01",
          "2012-06-01",
          "2012-07-01",
          "2012-08-01",
          "2012-09-01",
          "2012-10-01",
          "2012-11-01",
          "2012-12-01",
          "2013-01-01",
          "2013-02-01",
          "2013-03-01",
          "2013-04-01",
          "2013-05-01",
          "2013-06-01",
          "2013-07-01",
          "2013-08-01",
          "2013-09-01",
          "2013-10-01",
          "2013-11-01",
          "2013-12-01",
          "2014-01-01",
          "2014-02-01",
          "2014-03-01",
          "2014-04-01",
          "2014-05-01",
          "2014-06-01",
          "2014-07-01",
          "2014-08-01",
          "2014-09-01",
          "2014-10-01",
          "2014-11-01",
          "2014-12-01",
          "2015-01-01",
          "2015-02-01",
          "2015-03-01",
          "2015-04-01",
          "2015-05-01",
          "2015-06-01",
          "2015-07-01",
          "2015-08-01",
          "2015-09-01",
          "2015-10-01",
          "2015-11-01",
          "2015-12-01",
          "2016-01-01",
          "2016-02-01",
          "2016-03-01",
          "2016-04-01",
          "2016-05-01",
          "2016-06-01",
          "2016-07-01",
          "2016-08-01",
          "2016-09-01",
          "2016-10-01",
          "2016-11-01",
          "2016-12-01",
          "2017-01-01",
          "2017-02-01",
          "2017-03-01",
          "2017-04-01",
          "2017-05-01",
          "2017-06-01",
          "2017-07-01",
          "2017-08-01",
          "2017-09-01",
          "2017-10-01",
          "2017-11-01",
          "2017-12-01",
          "2018-01-01",
          "2018-02-01",
          "2018-03-01",
          "2018-04-01",
          "2018-05-01",
          "2018-06-01",
          "2018-07-01",
          "2018-08-01",
          "2018-09-01",
          "2018-10-01",
          "2018-11-01",
          "2018-12-01",
          "2019-01-01",
          "2019-02-01",
          "2019-03-01",
          "2019-04-01",
          "2019-05-01",
          "2019-06-01",
          "2019-07-01",
          "2019-08-01",
          "2019-09-01",
          "2019-10-01",
          "2019-11-01",
          "2019-12-01",
          "2020-01-01",
          "2020-02-01",
          "2020-03-01",
          "2020-04-01",
          "2020-05-01",
          "2020-06-01",
          "2020-07-01",
          "2020-08-01",
          "2020-09-01",
          "2020-10-01",
          "2020-11-01",
          "2020-12-01",
          "2021-01-01",
          "2021-02-01",
          "2021-03-01",
          "2021-04-01",
          "2021-05-01",
          "2021-06-01",
          "2021-07-01",
          "2021-08-01",
          "2021-09-01",
          "2021-10-01",
          "2021-11-01",
          "2021-12-01",
          "2022-01-01",
          "2022-02-01",
          "2022-03-01",
          "2022-04-01",
          "2022-05-01",
          "2022-06-01",
          "2022-07-01",
          "2022-08-01",
          "2022-09-01",
          "2022-10-01",
          "2022-11-01",
          "2022-12-01",
          "2023-01-01",
          "2023-02-01",
          "2023-03-01",
          "2023-04-01",
          "2023-05-01",
          "2023-06-01",
          "2023-07-01",
          "2023-08-01",
          "2023-09-01",
          "2023-10-01",
          "2023-11-01",
          "2023-12-01",
          "2024-01-01",
          "2024-02-01",
          "2024-03-01",
          "2024-04-01",
          "2024-05-01",
          "2024-06-01",
          "2024-07-01",
          "2024-08-01"
         ],
         "y": [
          1.0255474894131882,
          1.0338354506957042,
          0.9928735632183915,
          5.930568663036899,
          1.0252450090744099,
          0.9939624924379908,
          0.9817483363581374,
          1.0329461584996975,
          0.995238959467635,
          1.0273502722323051,
          0.9906291591046582,
          0.9893103448275887,
          0.9717422867513615,
          1.009407138535994,
          1.0391651542649731,
          0.9689776164549314,
          0.9847489413188154,
          1.065541439806411,
          1.0118451300665472,
          0.9984392014519045,
          0.9735087719298258,
          0.9690865093768933,
          0.9132849364791302,
          1.049927404718691,
          1.0507985480943727,
          1.0158620689655167,
          0.9939322444041161,
          1.0093103448275842,
          1.0507259528130635,
          1.0071022383545045,
          1.0027646702964297,
          0.9519721718088356,
          0.941887477313978,
          0.9874833635813679,
          0.9568905021173627,
          1.007864488808228,
          1.058251663641862,
          0.9664125831820951,
          0.9890199637023619,
          1.00557168784029,
          0.9959830611010301,
          1.0599516031457932,
          1.067005444646095,
          1.034162129461584,
          1.5084513006654547,
          1.0614277071990297,
          1.003823351482154,
          1.0498003629764048,
          1.0042286751361171,
          1.0158499697519638,
          1.0305263157894728,
          1.014156079854809,
          1.046842105263157,
          1.0040834845735018,
          0.9924742891712043,
          1.0346218995765237,
          0.9633877797943164,
          0.9934119782214162,
          1.0055535390199626,
          1.000556563823351,
          1.029316394434359,
          1.0537628554143936,
          1.0064307320024204,
          1.0203811252268578,
          0.9955595886267403,
          0.9733030852994585,
          1.0331457955232881,
          1.021681790683601,
          1.0358136721113096,
          0.9993042952208108,
          1.1286509376890481,
          1.0726013309134903,
          3.2130248033877846,
          1.0215607985480943,
          1.0408166969146992,
          1.0128917120387162,
          1.0275015124016906,
          1.0092075015124011,
          0.9686267392619511,
          0.9991833030852995,
          0.9856866303690264,
          1.0248820326678743,
          1.029751966122199,
          1.0213853599516,
          1.0188808227465205,
          1.0279794313369583,
          1.0368723532970328,
          1.0044404113732615,
          1.0015849969751975,
          1.0188082274652126,
          1.0226194797338144,
          0.9885843920145209,
          0.9759286146400507,
          0.9907501512401706,
          1.0024742891712028,
          1.0255172413793092,
          0.9479370840895369,
          0.9907743496672735,
          0.9420447670901404,
          0.9907199032062937,
          0.986878402903813,
          1.0311494252873556,
          1.0231881427707177,
          0.9375620084694501,
          0.995009074410163,
          1.021578947368421,
          0.9273018753781008,
          0.8458197217180896,
          0.9447489413188133,
          1.0413006654567432,
          0.9497701149425304,
          0.9416515426497283,
          1.0697580157289759,
          1.147616454930428,
          1.0432909860859048,
          1.0350211736237145,
          1.062389594676345,
          1.0552026618269803,
          1.0322746521476094,
          0.9779915305505165,
          1.0015910465819715,
          1.0513793103448243,
          0.9896067755595908,
          1.0185541439806396,
          1.0590381125226815,
          1.044996975196608,
          0.9456261343012754,
          0.9619419237749587,
          1.0388626739261935,
          0.9645856019358788,
          1.0696067755595862,
          1.0163883847549897,
          1.0275862068965496,
          1.0584029038112468,
          1.0119782214156074,
          1.0324803387779755,
          1.0016031457955235,
          1.0198850574712621,
          0.9949969751966145,
          0.9972353297035704,
          0.9830429522081086,
          0.9474712643678187,
          0.9529824561403519,
          1.0689231699939494,
          0.9843375680580785,
          1.0002540834845728,
          1.0593768905021141,
          1.099540229885052,
          1.0263036902601284,
          0.992746521476106,
          0.9427586206896574,
          1.0300241984270984,
          0.9957652752571087,
          1.0196672716273423,
          1.017150635208708,
          1.0012038717483351,
          1.0166848154869905,
          1.0311736237144535,
          1.0607924984875923,
          1.021839080459768,
          1.0406836055656326,
          1.0333696309739857,
          1.0182153660012079,
          0.9905081669691471,
          1.0369933454325433,
          0.9834603750756247,
          1.0512159709618811,
          1.0213430127041703,
          1.023980641258315,
          1.0222807017543813,
          0.9877434966727201,
          1.0288626739261921,
          1.000828796128252,
          0.9851845130066568,
          1.0161161524500884,
          1.030647307924979,
          0.9871445856019373,
          1.0267453115547438,
          0.9894918330308549,
          1.0253115547489382,
          1.0416757410768251,
          1.0141681790683588,
          1.0019419237749558,
          1.0444585601935825,
          1.0097459165154261,
          1.0004113732607376,
          1.0252087114337523,
          0.9903266787658838,
          1.0127888687235311,
          0.9586448880822808,
          0.967985480943743,
          1.062341197822138,
          1.0190018148820301,
          0.9822928009679415,
          0.9491107078039962,
          0.9993587416817915,
          1.0566122202056816,
          1.0004355716878404,
          1.0214095583787006,
          0.9709074410163344,
          1.0535813672111252,
          1.0110102843315192,
          1.0043375680580744,
          0.9848154869933464,
          1.051433756805807,
          1.031548699334537,
          1.0146581972171804,
          1.021845130066541,
          1.0097519661222034,
          1.015595886267388,
          1.0126678765880204,
          1.0131215970961873,
          1.0135692679975774,
          1.0033877797943116,
          1.0308892921960027,
          1.0195220810647267,
          1.0232244404113704,
          1.0114458560193567,
          1.0238173018753747,
          0.9744222625529396,
          0.9966364186327915,
          1.0194797338172972,
          1.026364186327887,
          1.0086327888687228,
          1.017592256503324,
          1.0217725347852393,
          0.9907501512401673,
          0.9365880217785887,
          1.0115124016938861,
          0.9133272837265621,
          1.0914398064125803,
          1.0367513611615211,
          1.0041379310344818,
          1.0430490018148775,
          0.9408227465214783,
          1.0453539019963656,
          1.022123411978219,
          0.9704476709013944,
          1.036944948578337,
          1.0294797338172985,
          1.034730792498484,
          1.0268058076225008,
          0.9897519661222032,
          0.9099153055051471,
          0.8183847549909249,
          1.1260314579552297,
          1.072552934059285,
          1.0304174228675145,
          1.0225710828796137,
          1.0605565638233496,
          0.9945130066545701,
          0.9923290986085953,
          1.158384754990924,
          1.0579612825166305,
          1.0404839685420475,
          1.0537931034482761,
          1.0589292196007205,
          1.0376527525710808,
          1.0213430127041738,
          1.0207562008469433,
          1.003641863278887,
          1.0252873563218365,
          0.9864851784634042,
          1.0300241984270992,
          0.969933454325473,
          1.0402117362371377,
          0.9256805807622545,
          0.9876830006049651,
          1.003230490018147,
          0.9446763460375114,
          1.0007199032062886,
          0.9249425287356333,
          1.0904295220810603,
          0.969298245614038,
          0.901373260738056,
          1.0810284331518427,
          1.0552994555353878,
          0.9577374470659461,
          1.0973321234119766,
          0.9889957652752596,
          0.9799334543254699,
          1.0013188142770684,
          0.9908832425892335,
          1.0624803387779735,
          1.0433393829401019,
          0.9686206896551737,
          0.9597822141560854,
          0.942111312764677,
          1.087713248638834,
          1.0793284936479097,
          0.9853962492437991,
          1.0741379310344819,
          1.0276285541439758,
          0.9559709618874807,
          1.034162129461583,
          0.9932425892317017,
          1.055251058681182,
          0.9971990320629165,
          0.9666787658802267
         ],
         "type": "scatter"
        },
        {
         "line": {
          "color": "red",
          "width": 2
         },
         "mode": "lines",
         "name": "Train returns",
         "x": [
          "2001-04-01",
          "2001-05-01",
          "2001-06-01",
          "2001-07-01",
          "2001-08-01",
          "2001-09-01",
          "2001-10-01",
          "2001-11-01",
          "2001-12-01",
          "2002-01-01",
          "2002-02-01",
          "2002-03-01",
          "2002-04-01",
          "2002-05-01",
          "2002-06-01",
          "2002-07-01",
          "2002-08-01",
          "2002-09-01",
          "2002-10-01",
          "2002-11-01",
          "2002-12-01",
          "2003-01-01",
          "2003-02-01",
          "2003-03-01",
          "2003-04-01",
          "2003-05-01",
          "2003-06-01",
          "2003-07-01",
          "2003-08-01",
          "2003-09-01",
          "2003-10-01",
          "2003-11-01",
          "2003-12-01",
          "2004-01-01",
          "2004-02-01",
          "2004-03-01",
          "2004-04-01",
          "2004-05-01",
          "2004-06-01",
          "2004-07-01",
          "2004-08-01",
          "2004-09-01",
          "2004-10-01",
          "2004-11-01",
          "2004-12-01",
          "2005-01-01",
          "2005-02-01",
          "2005-03-01",
          "2005-04-01",
          "2005-05-01",
          "2005-06-01",
          "2005-07-01",
          "2005-08-01",
          "2005-09-01",
          "2005-10-01",
          "2005-11-01",
          "2005-12-01",
          "2006-01-01",
          "2006-02-01",
          "2006-03-01",
          "2006-04-01",
          "2006-05-01",
          "2006-06-01",
          "2006-07-01",
          "2006-08-01",
          "2006-09-01",
          "2006-10-01",
          "2006-11-01",
          "2006-12-01",
          "2007-01-01",
          "2007-02-01",
          "2007-03-01",
          "2007-04-01",
          "2007-05-01",
          "2007-06-01",
          "2007-07-01",
          "2007-08-01",
          "2007-09-01",
          "2007-10-01",
          "2007-11-01",
          "2007-12-01",
          "2008-01-01",
          "2008-02-01",
          "2008-03-01",
          "2008-04-01",
          "2008-05-01",
          "2008-06-01",
          "2008-07-01",
          "2008-08-01",
          "2008-09-01",
          "2008-10-01",
          "2008-11-01",
          "2008-12-01",
          "2009-01-01",
          "2009-02-01",
          "2009-03-01",
          "2009-04-01",
          "2009-05-01",
          "2009-06-01",
          "2009-07-01",
          "2009-08-01",
          "2009-09-01",
          "2009-10-01",
          "2009-11-01",
          "2009-12-01",
          "2010-01-01",
          "2010-02-01",
          "2010-03-01",
          "2010-04-01",
          "2010-05-01",
          "2010-06-01",
          "2010-07-01",
          "2010-08-01",
          "2010-09-01",
          "2010-10-01",
          "2010-11-01",
          "2010-12-01",
          "2011-01-01",
          "2011-02-01",
          "2011-03-01",
          "2011-04-01",
          "2011-05-01",
          "2011-06-01",
          "2011-07-01",
          "2011-08-01",
          "2011-09-01",
          "2011-10-01",
          "2011-11-01",
          "2011-12-01",
          "2012-01-01",
          "2012-02-01",
          "2012-03-01",
          "2012-04-01",
          "2012-05-01",
          "2012-06-01",
          "2012-07-01",
          "2012-08-01",
          "2012-09-01",
          "2012-10-01",
          "2012-11-01",
          "2012-12-01",
          "2013-01-01",
          "2013-02-01",
          "2013-03-01",
          "2013-04-01",
          "2013-05-01",
          "2013-06-01",
          "2013-07-01",
          "2013-08-01",
          "2013-09-01",
          "2013-10-01",
          "2013-11-01",
          "2013-12-01",
          "2014-01-01",
          "2014-02-01",
          "2014-03-01",
          "2014-04-01",
          "2014-05-01",
          "2014-06-01",
          "2014-07-01",
          "2014-08-01",
          "2014-09-01",
          "2014-10-01",
          "2014-11-01",
          "2014-12-01",
          "2015-01-01",
          "2015-02-01",
          "2015-03-01",
          "2015-04-01",
          "2015-05-01",
          "2015-06-01",
          "2015-07-01",
          "2015-08-01",
          "2015-09-01",
          "2015-10-01",
          "2015-11-01",
          "2015-12-01",
          "2016-01-01",
          "2016-02-01",
          "2016-03-01",
          "2016-04-01",
          "2016-05-01",
          "2016-06-01",
          "2016-07-01",
          "2016-08-01",
          "2016-09-01",
          "2016-10-01",
          "2016-11-01",
          "2016-12-01",
          "2017-01-01",
          "2017-02-01",
          "2017-03-01",
          "2017-04-01",
          "2017-05-01",
          "2017-06-01",
          "2017-07-01",
          "2017-08-01",
          "2017-09-01",
          "2017-10-01",
          "2017-11-01",
          "2017-12-01",
          "2018-01-01",
          "2018-02-01",
          "2018-03-01",
          "2018-04-01",
          "2018-05-01",
          "2018-06-01",
          "2018-07-01",
          "2018-08-01",
          "2018-09-01",
          "2018-10-01",
          "2018-11-01",
          "2018-12-01",
          "2019-01-01",
          "2019-02-01",
          "2019-03-01",
          "2019-04-01",
          "2019-05-01",
          "2019-06-01",
          "2019-07-01",
          "2019-08-01",
          "2019-09-01",
          "2019-10-01",
          "2019-11-01",
          "2019-12-01",
          "2020-01-01",
          "2020-02-01",
          "2020-03-01",
          "2020-04-01",
          "2020-05-01",
          "2020-06-01",
          "2020-07-01",
          "2020-08-01",
          "2020-09-01",
          "2020-10-01",
          "2020-11-01",
          "2020-12-01",
          "2021-01-01",
          "2021-02-01",
          "2021-03-01",
          "2021-04-01",
          "2021-05-01",
          "2021-06-01",
          "2021-07-01",
          "2021-08-01",
          "2021-09-01",
          "2021-10-01",
          "2021-11-01",
          "2021-12-01",
          "2022-01-01",
          "2022-02-01",
          "2022-03-01",
          "2022-04-01",
          "2022-05-01",
          "2022-06-01",
          "2022-07-01",
          "2022-08-01",
          "2022-09-01",
          "2022-10-01",
          "2022-11-01",
          "2022-12-01",
          "2023-01-01",
          "2023-02-01",
          "2023-03-01",
          "2023-04-01",
          "2023-05-01",
          "2023-06-01",
          "2023-07-01",
          "2023-08-01",
          "2023-09-01",
          "2023-10-01",
          "2023-11-01",
          "2023-12-01",
          "2024-01-01",
          "2024-02-01"
         ],
         "y": [
          1.0025663375854492,
          1.0069528818130493,
          1.0029155015945435,
          1.0035953521728516,
          1.0082038640975952,
          1.008632779121399,
          1.005486011505127,
          1.0068988800048828,
          1.0058951377868652,
          1.0042450428009033,
          1.0072848796844482,
          1.00464928150177,
          1.0060365200042725,
          1.002081036567688,
          1.004823088645935,
          1.0052175521850586,
          1.0052142143249512,
          1.0059949159622192,
          1.0055724382400513,
          1.0054309368133545,
          1.0033299922943115,
          1.0063321590423584,
          1.0078052282333374,
          1.004637360572815,
          1.0096819400787354,
          1.0076332092285156,
          1.009944200515747,
          1.00887131690979,
          1.0062545537948608,
          1.0034842491149902,
          1.0079479217529297,
          1.008906602859497,
          1.0049530267715454,
          1.0096532106399536,
          1.0101773738861084,
          1.0063564777374268,
          1.0054681301116943,
          1.0086123943328857,
          1.0083421468734741,
          1.0085995197296143,
          1.0076134204864502,
          1.0068618059158325,
          1.006172776222229,
          1.0078662633895874,
          1.0117216110229492,
          1.0035368204116821,
          1.0097440481185913,
          1.003969430923462,
          1.0055832862854004,
          1.0035828351974487,
          1.0081384181976318,
          1.008550763130188,
          1.0039057731628418,
          1.0103870630264282,
          1.0064074993133545,
          1.0068786144256592,
          1.0029183626174927,
          1.0037235021591187,
          1.0050606727600098,
          1.0069431066513062,
          1.0015729665756226,
          3.6277761459350586,
          1.0091629028320312,
          1.0054823160171509,
          1.001469612121582,
          1.0066423416137695,
          1.011786937713623,
          1.0110952854156494,
          1.0096105337142944,
          1.005976676940918,
          1.0058835744857788,
          1.0048174858093262,
          1.003867745399475,
          1.0049917697906494,
          1.0066132545471191,
          1.0162748098373413,
          1.0082263946533203,
          1.0036901235580444,
          1.00444757938385,
          1.0100451707839966,
          1.0114432573318481,
          1.0063352584838867,
          1.004858136177063,
          1.0046050548553467,
          1.005127191543579,
          1.00416100025177,
          1.0060856342315674,
          1.0058233737945557,
          1.0080089569091797,
          1.0039145946502686,
          1.009456753730774,
          1.0100535154342651,
          1.0064448118209839,
          1.0034122467041016,
          1.00802481174469,
          1.0047399997711182,
          1.000656247138977,
          1.0044935941696167,
          1.0021626949310303,
          1.002549409866333,
          1.0051679611206055,
          1.0042309761047363,
          1.0143986940383911,
          1.0072118043899536,
          1.0043994188308716,
          1.004963994026184,
          1.0004656314849854,
          1.00340735912323,
          1.0056426525115967,
          1.0032440423965454,
          1.0080276727676392,
          1.007022738456726,
          1.0044385194778442,
          1.0031577348709106,
          1.010128378868103,
          1.0076172351837158,
          1.0098564624786377,
          1.006192922592163,
          1.0135045051574707,
          1.005964994430542,
          1.0064164400100708,
          1.00642728805542,
          1.0094633102416992,
          1.0087333917617798,
          1.0057257413864136,
          1.0048389434814453,
          1.0059679746627808,
          1.0035817623138428,
          1.0054081678390503,
          1.0026911497116089,
          1.0075773000717163,
          1.0035005807876587,
          1.0029487609863281,
          1.0056027173995972,
          1.0071935653686523,
          1.0068882703781128,
          1.0068191289901733,
          1.0040130615234375,
          1.0105650424957275,
          1.0081567764282227,
          1.007455825805664,
          1.0070788860321045,
          1.0059571266174316,
          1.0021982192993164,
          1.1009972095489502,
          1.005402684211731,
          1.0074931383132935,
          1.002331256866455,
          1.0127105712890625,
          1.0066639184951782,
          1.004599690437317,
          1.008143424987793,
          1.0121688842773438,
          1.0120962858200073,
          1.0084561109542847,
          1.004605770111084,
          1.004239797592163,
          0.9898927807807922,
          0.9611192345619202,
          1.0083584785461426,
          1.0076589584350586,
          1.0026192665100098,
          1.0081347227096558,
          1.0076203346252441,
          1.003470540046692,
          1.0070412158966064,
          1.0036336183547974,
          1.0057684183120728,
          1.0062025785446167,
          1.008467197418213,
          1.0063693523406982,
          1.0078997611999512,
          1.0088144540786743,
          1.0018924474716187,
          1.0012726783752441,
          1.002807378768921,
          1.0080922842025757,
          1.009617567062378,
          1.0034468173980713,
          1.0119229555130005,
          1.010585904121399,
          1.0031927824020386,
          1.010223388671875,
          1.005983829498291,
          1.0010344982147217,
          1.0096492767333984,
          0.9999200701713562,
          1.0065464973449707,
          1.004431128501892,
          1.0062717199325562,
          1.0058674812316895,
          1.0102211236953735,
          1.0081173181533813,
          1.00577974319458,
          1.0024536848068237,
          1.0062205791473389,
          1.0047200918197632,
          1.0100820064544678,
          0.9991602301597595,
          1.1085294485092163,
          1.0070029497146606,
          1.0043361186981201,
          1.0117368698120117,
          1.0063904523849487,
          1.015532374382019,
          1.00203275680542,
          1.0078867673873901,
          1.0082948207855225,
          1.008834719657898,
          1.0062888860702515,
          1.0026617050170898,
          1.0055434703826904,
          1.0118931531906128,
          1.008756160736084,
          1.0040093660354614,
          1.0101267099380493,
          1.010636329650879,
          1.0102324485778809,
          1.007391095161438,
          1.007570743560791,
          1.0195987224578857,
          1.006726861000061,
          1.001490831375122,
          1.0081932544708252,
          1.0061542987823486,
          1.0126445293426514,
          1.0048677921295166,
          1.0000512599945068,
          1.0072882175445557,
          1.0072903633117676,
          1.003138780593872,
          1.0022486448287964,
          1.0075393915176392,
          1.0010356903076172,
          1.0052011013031006,
          1.003067970275879,
          1.0131911039352417,
          1.0036373138427734,
          1.0026493072509766,
          1.0034288167953491,
          1.006969690322876,
          1.005991816520691,
          1.0049222707748413,
          1.002781867980957,
          1.0084054470062256,
          1.0043094158172607,
          1.014390468597412,
          1.0079585313796997,
          1.008992314338684,
          1.0059726238250732,
          1.0046534538269043,
          1.0048130750656128,
          1.0055124759674072,
          1.007622480392456,
          1.0041965246200562,
          1.010636806488037,
          1.003930926322937,
          1.002851128578186,
          1.007480502128601,
          1.0064948797225952,
          1.0116896629333496,
          1.0130877494812012,
          1.0016825199127197,
          1.0059058666229248,
          1.0051809549331665,
          1.0058258771896362,
          1.0026023387908936,
          1.0061297416687012,
          1.0051696300506592,
          1.0066413879394531,
          1.0069676637649536,
          1.0155580043792725,
          1.0061451196670532,
          1.0046592950820923,
          1.0103751420974731
         ],
         "type": "scatter"
        },
        {
         "line": {
          "color": "green",
          "width": 2
         },
         "mode": "lines",
         "name": "Test returns",
         "x": [
          "2024-02-01",
          "2024-03-01",
          "2024-04-01",
          "2024-05-01",
          "2024-06-01",
          "2024-07-01",
          "2024-08-01"
         ],
         "y": [
          1.0103751420974731,
          1.0051370859146118,
          1.0060381889343262,
          1.0166313648223877,
          1.0126087665557861,
          1.0045331716537476,
          1.0071252584457397
         ],
         "type": "scatter"
        }
       ],
       "layout": {
        "template": {
         "data": {
          "barpolar": [
           {
            "marker": {
             "line": {
              "color": "white",
              "width": 0.5
             },
             "pattern": {
              "fillmode": "overlay",
              "size": 10,
              "solidity": 0.2
             }
            },
            "type": "barpolar"
           }
          ],
          "bar": [
           {
            "error_x": {
             "color": "#2a3f5f"
            },
            "error_y": {
             "color": "#2a3f5f"
            },
            "marker": {
             "line": {
              "color": "white",
              "width": 0.5
             },
             "pattern": {
              "fillmode": "overlay",
              "size": 10,
              "solidity": 0.2
             }
            },
            "type": "bar"
           }
          ],
          "carpet": [
           {
            "aaxis": {
             "endlinecolor": "#2a3f5f",
             "gridcolor": "#C8D4E3",
             "linecolor": "#C8D4E3",
             "minorgridcolor": "#C8D4E3",
             "startlinecolor": "#2a3f5f"
            },
            "baxis": {
             "endlinecolor": "#2a3f5f",
             "gridcolor": "#C8D4E3",
             "linecolor": "#C8D4E3",
             "minorgridcolor": "#C8D4E3",
             "startlinecolor": "#2a3f5f"
            },
            "type": "carpet"
           }
          ],
          "choropleth": [
           {
            "colorbar": {
             "outlinewidth": 0,
             "ticks": ""
            },
            "type": "choropleth"
           }
          ],
          "contourcarpet": [
           {
            "colorbar": {
             "outlinewidth": 0,
             "ticks": ""
            },
            "type": "contourcarpet"
           }
          ],
          "contour": [
           {
            "colorbar": {
             "outlinewidth": 0,
             "ticks": ""
            },
            "colorscale": [
             [
              0.0,
              "#0d0887"
             ],
             [
              0.1111111111111111,
              "#46039f"
             ],
             [
              0.2222222222222222,
              "#7201a8"
             ],
             [
              0.3333333333333333,
              "#9c179e"
             ],
             [
              0.4444444444444444,
              "#bd3786"
             ],
             [
              0.5555555555555556,
              "#d8576b"
             ],
             [
              0.6666666666666666,
              "#ed7953"
             ],
             [
              0.7777777777777778,
              "#fb9f3a"
             ],
             [
              0.8888888888888888,
              "#fdca26"
             ],
             [
              1.0,
              "#f0f921"
             ]
            ],
            "type": "contour"
           }
          ],
          "heatmapgl": [
           {
            "colorbar": {
             "outlinewidth": 0,
             "ticks": ""
            },
            "colorscale": [
             [
              0.0,
              "#0d0887"
             ],
             [
              0.1111111111111111,
              "#46039f"
             ],
             [
              0.2222222222222222,
              "#7201a8"
             ],
             [
              0.3333333333333333,
              "#9c179e"
             ],
             [
              0.4444444444444444,
              "#bd3786"
             ],
             [
              0.5555555555555556,
              "#d8576b"
             ],
             [
              0.6666666666666666,
              "#ed7953"
             ],
             [
              0.7777777777777778,
              "#fb9f3a"
             ],
             [
              0.8888888888888888,
              "#fdca26"
             ],
             [
              1.0,
              "#f0f921"
             ]
            ],
            "type": "heatmapgl"
           }
          ],
          "heatmap": [
           {
            "colorbar": {
             "outlinewidth": 0,
             "ticks": ""
            },
            "colorscale": [
             [
              0.0,
              "#0d0887"
             ],
             [
              0.1111111111111111,
              "#46039f"
             ],
             [
              0.2222222222222222,
              "#7201a8"
             ],
             [
              0.3333333333333333,
              "#9c179e"
             ],
             [
              0.4444444444444444,
              "#bd3786"
             ],
             [
              0.5555555555555556,
              "#d8576b"
             ],
             [
              0.6666666666666666,
              "#ed7953"
             ],
             [
              0.7777777777777778,
              "#fb9f3a"
             ],
             [
              0.8888888888888888,
              "#fdca26"
             ],
             [
              1.0,
              "#f0f921"
             ]
            ],
            "type": "heatmap"
           }
          ],
          "histogram2dcontour": [
           {
            "colorbar": {
             "outlinewidth": 0,
             "ticks": ""
            },
            "colorscale": [
             [
              0.0,
              "#0d0887"
             ],
             [
              0.1111111111111111,
              "#46039f"
             ],
             [
              0.2222222222222222,
              "#7201a8"
             ],
             [
              0.3333333333333333,
              "#9c179e"
             ],
             [
              0.4444444444444444,
              "#bd3786"
             ],
             [
              0.5555555555555556,
              "#d8576b"
             ],
             [
              0.6666666666666666,
              "#ed7953"
             ],
             [
              0.7777777777777778,
              "#fb9f3a"
             ],
             [
              0.8888888888888888,
              "#fdca26"
             ],
             [
              1.0,
              "#f0f921"
             ]
            ],
            "type": "histogram2dcontour"
           }
          ],
          "histogram2d": [
           {
            "colorbar": {
             "outlinewidth": 0,
             "ticks": ""
            },
            "colorscale": [
             [
              0.0,
              "#0d0887"
             ],
             [
              0.1111111111111111,
              "#46039f"
             ],
             [
              0.2222222222222222,
              "#7201a8"
             ],
             [
              0.3333333333333333,
              "#9c179e"
             ],
             [
              0.4444444444444444,
              "#bd3786"
             ],
             [
              0.5555555555555556,
              "#d8576b"
             ],
             [
              0.6666666666666666,
              "#ed7953"
             ],
             [
              0.7777777777777778,
              "#fb9f3a"
             ],
             [
              0.8888888888888888,
              "#fdca26"
             ],
             [
              1.0,
              "#f0f921"
             ]
            ],
            "type": "histogram2d"
           }
          ],
          "histogram": [
           {
            "marker": {
             "pattern": {
              "fillmode": "overlay",
              "size": 10,
              "solidity": 0.2
             }
            },
            "type": "histogram"
           }
          ],
          "mesh3d": [
           {
            "colorbar": {
             "outlinewidth": 0,
             "ticks": ""
            },
            "type": "mesh3d"
           }
          ],
          "parcoords": [
           {
            "line": {
             "colorbar": {
              "outlinewidth": 0,
              "ticks": ""
             }
            },
            "type": "parcoords"
           }
          ],
          "pie": [
           {
            "automargin": true,
            "type": "pie"
           }
          ],
          "scatter3d": [
           {
            "line": {
             "colorbar": {
              "outlinewidth": 0,
              "ticks": ""
             }
            },
            "marker": {
             "colorbar": {
              "outlinewidth": 0,
              "ticks": ""
             }
            },
            "type": "scatter3d"
           }
          ],
          "scattercarpet": [
           {
            "marker": {
             "colorbar": {
              "outlinewidth": 0,
              "ticks": ""
             }
            },
            "type": "scattercarpet"
           }
          ],
          "scattergeo": [
           {
            "marker": {
             "colorbar": {
              "outlinewidth": 0,
              "ticks": ""
             }
            },
            "type": "scattergeo"
           }
          ],
          "scattergl": [
           {
            "marker": {
             "colorbar": {
              "outlinewidth": 0,
              "ticks": ""
             }
            },
            "type": "scattergl"
           }
          ],
          "scattermapbox": [
           {
            "marker": {
             "colorbar": {
              "outlinewidth": 0,
              "ticks": ""
             }
            },
            "type": "scattermapbox"
           }
          ],
          "scatterpolargl": [
           {
            "marker": {
             "colorbar": {
              "outlinewidth": 0,
              "ticks": ""
             }
            },
            "type": "scatterpolargl"
           }
          ],
          "scatterpolar": [
           {
            "marker": {
             "colorbar": {
              "outlinewidth": 0,
              "ticks": ""
             }
            },
            "type": "scatterpolar"
           }
          ],
          "scatter": [
           {
            "fillpattern": {
             "fillmode": "overlay",
             "size": 10,
             "solidity": 0.2
            },
            "type": "scatter"
           }
          ],
          "scatterternary": [
           {
            "marker": {
             "colorbar": {
              "outlinewidth": 0,
              "ticks": ""
             }
            },
            "type": "scatterternary"
           }
          ],
          "surface": [
           {
            "colorbar": {
             "outlinewidth": 0,
             "ticks": ""
            },
            "colorscale": [
             [
              0.0,
              "#0d0887"
             ],
             [
              0.1111111111111111,
              "#46039f"
             ],
             [
              0.2222222222222222,
              "#7201a8"
             ],
             [
              0.3333333333333333,
              "#9c179e"
             ],
             [
              0.4444444444444444,
              "#bd3786"
             ],
             [
              0.5555555555555556,
              "#d8576b"
             ],
             [
              0.6666666666666666,
              "#ed7953"
             ],
             [
              0.7777777777777778,
              "#fb9f3a"
             ],
             [
              0.8888888888888888,
              "#fdca26"
             ],
             [
              1.0,
              "#f0f921"
             ]
            ],
            "type": "surface"
           }
          ],
          "table": [
           {
            "cells": {
             "fill": {
              "color": "#EBF0F8"
             },
             "line": {
              "color": "white"
             }
            },
            "header": {
             "fill": {
              "color": "#C8D4E3"
             },
             "line": {
              "color": "white"
             }
            },
            "type": "table"
           }
          ]
         },
         "layout": {
          "annotationdefaults": {
           "arrowcolor": "#2a3f5f",
           "arrowhead": 0,
           "arrowwidth": 1
          },
          "autotypenumbers": "strict",
          "coloraxis": {
           "colorbar": {
            "outlinewidth": 0,
            "ticks": ""
           }
          },
          "colorscale": {
           "diverging": [
            [
             0,
             "#8e0152"
            ],
            [
             0.1,
             "#c51b7d"
            ],
            [
             0.2,
             "#de77ae"
            ],
            [
             0.3,
             "#f1b6da"
            ],
            [
             0.4,
             "#fde0ef"
            ],
            [
             0.5,
             "#f7f7f7"
            ],
            [
             0.6,
             "#e6f5d0"
            ],
            [
             0.7,
             "#b8e186"
            ],
            [
             0.8,
             "#7fbc41"
            ],
            [
             0.9,
             "#4d9221"
            ],
            [
             1,
             "#276419"
            ]
           ],
           "sequential": [
            [
             0.0,
             "#0d0887"
            ],
            [
             0.1111111111111111,
             "#46039f"
            ],
            [
             0.2222222222222222,
             "#7201a8"
            ],
            [
             0.3333333333333333,
             "#9c179e"
            ],
            [
             0.4444444444444444,
             "#bd3786"
            ],
            [
             0.5555555555555556,
             "#d8576b"
            ],
            [
             0.6666666666666666,
             "#ed7953"
            ],
            [
             0.7777777777777778,
             "#fb9f3a"
            ],
            [
             0.8888888888888888,
             "#fdca26"
            ],
            [
             1.0,
             "#f0f921"
            ]
           ],
           "sequentialminus": [
            [
             0.0,
             "#0d0887"
            ],
            [
             0.1111111111111111,
             "#46039f"
            ],
            [
             0.2222222222222222,
             "#7201a8"
            ],
            [
             0.3333333333333333,
             "#9c179e"
            ],
            [
             0.4444444444444444,
             "#bd3786"
            ],
            [
             0.5555555555555556,
             "#d8576b"
            ],
            [
             0.6666666666666666,
             "#ed7953"
            ],
            [
             0.7777777777777778,
             "#fb9f3a"
            ],
            [
             0.8888888888888888,
             "#fdca26"
            ],
            [
             1.0,
             "#f0f921"
            ]
           ]
          },
          "colorway": [
           "#636efa",
           "#EF553B",
           "#00cc96",
           "#ab63fa",
           "#FFA15A",
           "#19d3f3",
           "#FF6692",
           "#B6E880",
           "#FF97FF",
           "#FECB52"
          ],
          "font": {
           "color": "#2a3f5f"
          },
          "geo": {
           "bgcolor": "white",
           "lakecolor": "white",
           "landcolor": "white",
           "showlakes": true,
           "showland": true,
           "subunitcolor": "#C8D4E3"
          },
          "hoverlabel": {
           "align": "left"
          },
          "hovermode": "closest",
          "mapbox": {
           "style": "light"
          },
          "paper_bgcolor": "white",
          "plot_bgcolor": "white",
          "polar": {
           "angularaxis": {
            "gridcolor": "#EBF0F8",
            "linecolor": "#EBF0F8",
            "ticks": ""
           },
           "bgcolor": "white",
           "radialaxis": {
            "gridcolor": "#EBF0F8",
            "linecolor": "#EBF0F8",
            "ticks": ""
           }
          },
          "scene": {
           "xaxis": {
            "backgroundcolor": "white",
            "gridcolor": "#DFE8F3",
            "gridwidth": 2,
            "linecolor": "#EBF0F8",
            "showbackground": true,
            "ticks": "",
            "zerolinecolor": "#EBF0F8"
           },
           "yaxis": {
            "backgroundcolor": "white",
            "gridcolor": "#DFE8F3",
            "gridwidth": 2,
            "linecolor": "#EBF0F8",
            "showbackground": true,
            "ticks": "",
            "zerolinecolor": "#EBF0F8"
           },
           "zaxis": {
            "backgroundcolor": "white",
            "gridcolor": "#DFE8F3",
            "gridwidth": 2,
            "linecolor": "#EBF0F8",
            "showbackground": true,
            "ticks": "",
            "zerolinecolor": "#EBF0F8"
           }
          },
          "shapedefaults": {
           "line": {
            "color": "#2a3f5f"
           }
          },
          "ternary": {
           "aaxis": {
            "gridcolor": "#DFE8F3",
            "linecolor": "#A2B1C6",
            "ticks": ""
           },
           "baxis": {
            "gridcolor": "#DFE8F3",
            "linecolor": "#A2B1C6",
            "ticks": ""
           },
           "bgcolor": "white",
           "caxis": {
            "gridcolor": "#DFE8F3",
            "linecolor": "#A2B1C6",
            "ticks": ""
           }
          },
          "title": {
           "x": 0.05
          },
          "xaxis": {
           "automargin": true,
           "gridcolor": "#EBF0F8",
           "linecolor": "#EBF0F8",
           "ticks": "",
           "title": {
            "standoff": 15
           },
           "zerolinecolor": "#EBF0F8",
           "zerolinewidth": 2
          },
          "yaxis": {
           "automargin": true,
           "gridcolor": "#EBF0F8",
           "linecolor": "#EBF0F8",
           "ticks": "",
           "title": {
            "standoff": 15
           },
           "zerolinecolor": "#EBF0F8",
           "zerolinewidth": 2
          }
         }
        },
        "shapes": [
         {
          "line": {
           "color": "red",
           "dash": "dash",
           "width": 1
          },
          "type": "line",
          "x0": "2024-02-01",
          "x1": "2024-02-01",
          "xref": "x",
          "y0": 0,
          "y1": 1,
          "yref": "y domain"
         }
        ],
        "yaxis": {
         "title": {
          "text": "Day closing return (%)"
         },
         "tickformat": ".0%",
         "range": [
          0.75,
          1.6
         ]
        },
        "title": {
         "text": "6 Month Prediction vs Actual Plot"
        },
        "xaxis": {
         "title": {
          "text": "Date"
         }
        },
        "legend": {
         "title": {
          "text": "Legend"
         }
        }
       },
       "config": {
        "plotlyServerURL": "https://plot.ly"
       }
      },
      "text/html": [
       "<div>                            <div id=\"939cc837-3efc-4f14-aad8-1e762a500966\" class=\"plotly-graph-div\" style=\"height:525px; width:100%;\"></div>            <script type=\"text/javascript\">                require([\"plotly\"], function(Plotly) {                    window.PLOTLYENV=window.PLOTLYENV || {};                                    if (document.getElementById(\"939cc837-3efc-4f14-aad8-1e762a500966\")) {                    Plotly.newPlot(                        \"939cc837-3efc-4f14-aad8-1e762a500966\",                        [{\"line\":{\"color\":\"#5c839f\",\"width\":2},\"mode\":\"lines\",\"name\":\"Actual returns\",\"x\":[\"2001-04-01\",\"2001-05-01\",\"2001-06-01\",\"2001-07-01\",\"2001-08-01\",\"2001-09-01\",\"2001-10-01\",\"2001-11-01\",\"2001-12-01\",\"2002-01-01\",\"2002-02-01\",\"2002-03-01\",\"2002-04-01\",\"2002-05-01\",\"2002-06-01\",\"2002-07-01\",\"2002-08-01\",\"2002-09-01\",\"2002-10-01\",\"2002-11-01\",\"2002-12-01\",\"2003-01-01\",\"2003-02-01\",\"2003-03-01\",\"2003-04-01\",\"2003-05-01\",\"2003-06-01\",\"2003-07-01\",\"2003-08-01\",\"2003-09-01\",\"2003-10-01\",\"2003-11-01\",\"2003-12-01\",\"2004-01-01\",\"2004-02-01\",\"2004-03-01\",\"2004-04-01\",\"2004-05-01\",\"2004-06-01\",\"2004-07-01\",\"2004-08-01\",\"2004-09-01\",\"2004-10-01\",\"2004-11-01\",\"2004-12-01\",\"2005-01-01\",\"2005-02-01\",\"2005-03-01\",\"2005-04-01\",\"2005-05-01\",\"2005-06-01\",\"2005-07-01\",\"2005-08-01\",\"2005-09-01\",\"2005-10-01\",\"2005-11-01\",\"2005-12-01\",\"2006-01-01\",\"2006-02-01\",\"2006-03-01\",\"2006-04-01\",\"2006-05-01\",\"2006-06-01\",\"2006-07-01\",\"2006-08-01\",\"2006-09-01\",\"2006-10-01\",\"2006-11-01\",\"2006-12-01\",\"2007-01-01\",\"2007-02-01\",\"2007-03-01\",\"2007-04-01\",\"2007-05-01\",\"2007-06-01\",\"2007-07-01\",\"2007-08-01\",\"2007-09-01\",\"2007-10-01\",\"2007-11-01\",\"2007-12-01\",\"2008-01-01\",\"2008-02-01\",\"2008-03-01\",\"2008-04-01\",\"2008-05-01\",\"2008-06-01\",\"2008-07-01\",\"2008-08-01\",\"2008-09-01\",\"2008-10-01\",\"2008-11-01\",\"2008-12-01\",\"2009-01-01\",\"2009-02-01\",\"2009-03-01\",\"2009-04-01\",\"2009-05-01\",\"2009-06-01\",\"2009-07-01\",\"2009-08-01\",\"2009-09-01\",\"2009-10-01\",\"2009-11-01\",\"2009-12-01\",\"2010-01-01\",\"2010-02-01\",\"2010-03-01\",\"2010-04-01\",\"2010-05-01\",\"2010-06-01\",\"2010-07-01\",\"2010-08-01\",\"2010-09-01\",\"2010-10-01\",\"2010-11-01\",\"2010-12-01\",\"2011-01-01\",\"2011-02-01\",\"2011-03-01\",\"2011-04-01\",\"2011-05-01\",\"2011-06-01\",\"2011-07-01\",\"2011-08-01\",\"2011-09-01\",\"2011-10-01\",\"2011-11-01\",\"2011-12-01\",\"2012-01-01\",\"2012-02-01\",\"2012-03-01\",\"2012-04-01\",\"2012-05-01\",\"2012-06-01\",\"2012-07-01\",\"2012-08-01\",\"2012-09-01\",\"2012-10-01\",\"2012-11-01\",\"2012-12-01\",\"2013-01-01\",\"2013-02-01\",\"2013-03-01\",\"2013-04-01\",\"2013-05-01\",\"2013-06-01\",\"2013-07-01\",\"2013-08-01\",\"2013-09-01\",\"2013-10-01\",\"2013-11-01\",\"2013-12-01\",\"2014-01-01\",\"2014-02-01\",\"2014-03-01\",\"2014-04-01\",\"2014-05-01\",\"2014-06-01\",\"2014-07-01\",\"2014-08-01\",\"2014-09-01\",\"2014-10-01\",\"2014-11-01\",\"2014-12-01\",\"2015-01-01\",\"2015-02-01\",\"2015-03-01\",\"2015-04-01\",\"2015-05-01\",\"2015-06-01\",\"2015-07-01\",\"2015-08-01\",\"2015-09-01\",\"2015-10-01\",\"2015-11-01\",\"2015-12-01\",\"2016-01-01\",\"2016-02-01\",\"2016-03-01\",\"2016-04-01\",\"2016-05-01\",\"2016-06-01\",\"2016-07-01\",\"2016-08-01\",\"2016-09-01\",\"2016-10-01\",\"2016-11-01\",\"2016-12-01\",\"2017-01-01\",\"2017-02-01\",\"2017-03-01\",\"2017-04-01\",\"2017-05-01\",\"2017-06-01\",\"2017-07-01\",\"2017-08-01\",\"2017-09-01\",\"2017-10-01\",\"2017-11-01\",\"2017-12-01\",\"2018-01-01\",\"2018-02-01\",\"2018-03-01\",\"2018-04-01\",\"2018-05-01\",\"2018-06-01\",\"2018-07-01\",\"2018-08-01\",\"2018-09-01\",\"2018-10-01\",\"2018-11-01\",\"2018-12-01\",\"2019-01-01\",\"2019-02-01\",\"2019-03-01\",\"2019-04-01\",\"2019-05-01\",\"2019-06-01\",\"2019-07-01\",\"2019-08-01\",\"2019-09-01\",\"2019-10-01\",\"2019-11-01\",\"2019-12-01\",\"2020-01-01\",\"2020-02-01\",\"2020-03-01\",\"2020-04-01\",\"2020-05-01\",\"2020-06-01\",\"2020-07-01\",\"2020-08-01\",\"2020-09-01\",\"2020-10-01\",\"2020-11-01\",\"2020-12-01\",\"2021-01-01\",\"2021-02-01\",\"2021-03-01\",\"2021-04-01\",\"2021-05-01\",\"2021-06-01\",\"2021-07-01\",\"2021-08-01\",\"2021-09-01\",\"2021-10-01\",\"2021-11-01\",\"2021-12-01\",\"2022-01-01\",\"2022-02-01\",\"2022-03-01\",\"2022-04-01\",\"2022-05-01\",\"2022-06-01\",\"2022-07-01\",\"2022-08-01\",\"2022-09-01\",\"2022-10-01\",\"2022-11-01\",\"2022-12-01\",\"2023-01-01\",\"2023-02-01\",\"2023-03-01\",\"2023-04-01\",\"2023-05-01\",\"2023-06-01\",\"2023-07-01\",\"2023-08-01\",\"2023-09-01\",\"2023-10-01\",\"2023-11-01\",\"2023-12-01\",\"2024-01-01\",\"2024-02-01\",\"2024-03-01\",\"2024-04-01\",\"2024-05-01\",\"2024-06-01\",\"2024-07-01\",\"2024-08-01\"],\"y\":[1.0255474894131882,1.0338354506957042,0.9928735632183915,5.930568663036899,1.0252450090744099,0.9939624924379908,0.9817483363581374,1.0329461584996975,0.995238959467635,1.0273502722323051,0.9906291591046582,0.9893103448275887,0.9717422867513615,1.009407138535994,1.0391651542649731,0.9689776164549314,0.9847489413188154,1.065541439806411,1.0118451300665472,0.9984392014519045,0.9735087719298258,0.9690865093768933,0.9132849364791302,1.049927404718691,1.0507985480943727,1.0158620689655167,0.9939322444041161,1.0093103448275842,1.0507259528130635,1.0071022383545045,1.0027646702964297,0.9519721718088356,0.941887477313978,0.9874833635813679,0.9568905021173627,1.007864488808228,1.058251663641862,0.9664125831820951,0.9890199637023619,1.00557168784029,0.9959830611010301,1.0599516031457932,1.067005444646095,1.034162129461584,1.5084513006654547,1.0614277071990297,1.003823351482154,1.0498003629764048,1.0042286751361171,1.0158499697519638,1.0305263157894728,1.014156079854809,1.046842105263157,1.0040834845735018,0.9924742891712043,1.0346218995765237,0.9633877797943164,0.9934119782214162,1.0055535390199626,1.000556563823351,1.029316394434359,1.0537628554143936,1.0064307320024204,1.0203811252268578,0.9955595886267403,0.9733030852994585,1.0331457955232881,1.021681790683601,1.0358136721113096,0.9993042952208108,1.1286509376890481,1.0726013309134903,3.2130248033877846,1.0215607985480943,1.0408166969146992,1.0128917120387162,1.0275015124016906,1.0092075015124011,0.9686267392619511,0.9991833030852995,0.9856866303690264,1.0248820326678743,1.029751966122199,1.0213853599516,1.0188808227465205,1.0279794313369583,1.0368723532970328,1.0044404113732615,1.0015849969751975,1.0188082274652126,1.0226194797338144,0.9885843920145209,0.9759286146400507,0.9907501512401706,1.0024742891712028,1.0255172413793092,0.9479370840895369,0.9907743496672735,0.9420447670901404,0.9907199032062937,0.986878402903813,1.0311494252873556,1.0231881427707177,0.9375620084694501,0.995009074410163,1.021578947368421,0.9273018753781008,0.8458197217180896,0.9447489413188133,1.0413006654567432,0.9497701149425304,0.9416515426497283,1.0697580157289759,1.147616454930428,1.0432909860859048,1.0350211736237145,1.062389594676345,1.0552026618269803,1.0322746521476094,0.9779915305505165,1.0015910465819715,1.0513793103448243,0.9896067755595908,1.0185541439806396,1.0590381125226815,1.044996975196608,0.9456261343012754,0.9619419237749587,1.0388626739261935,0.9645856019358788,1.0696067755595862,1.0163883847549897,1.0275862068965496,1.0584029038112468,1.0119782214156074,1.0324803387779755,1.0016031457955235,1.0198850574712621,0.9949969751966145,0.9972353297035704,0.9830429522081086,0.9474712643678187,0.9529824561403519,1.0689231699939494,0.9843375680580785,1.0002540834845728,1.0593768905021141,1.099540229885052,1.0263036902601284,0.992746521476106,0.9427586206896574,1.0300241984270984,0.9957652752571087,1.0196672716273423,1.017150635208708,1.0012038717483351,1.0166848154869905,1.0311736237144535,1.0607924984875923,1.021839080459768,1.0406836055656326,1.0333696309739857,1.0182153660012079,0.9905081669691471,1.0369933454325433,0.9834603750756247,1.0512159709618811,1.0213430127041703,1.023980641258315,1.0222807017543813,0.9877434966727201,1.0288626739261921,1.000828796128252,0.9851845130066568,1.0161161524500884,1.030647307924979,0.9871445856019373,1.0267453115547438,0.9894918330308549,1.0253115547489382,1.0416757410768251,1.0141681790683588,1.0019419237749558,1.0444585601935825,1.0097459165154261,1.0004113732607376,1.0252087114337523,0.9903266787658838,1.0127888687235311,0.9586448880822808,0.967985480943743,1.062341197822138,1.0190018148820301,0.9822928009679415,0.9491107078039962,0.9993587416817915,1.0566122202056816,1.0004355716878404,1.0214095583787006,0.9709074410163344,1.0535813672111252,1.0110102843315192,1.0043375680580744,0.9848154869933464,1.051433756805807,1.031548699334537,1.0146581972171804,1.021845130066541,1.0097519661222034,1.015595886267388,1.0126678765880204,1.0131215970961873,1.0135692679975774,1.0033877797943116,1.0308892921960027,1.0195220810647267,1.0232244404113704,1.0114458560193567,1.0238173018753747,0.9744222625529396,0.9966364186327915,1.0194797338172972,1.026364186327887,1.0086327888687228,1.017592256503324,1.0217725347852393,0.9907501512401673,0.9365880217785887,1.0115124016938861,0.9133272837265621,1.0914398064125803,1.0367513611615211,1.0041379310344818,1.0430490018148775,0.9408227465214783,1.0453539019963656,1.022123411978219,0.9704476709013944,1.036944948578337,1.0294797338172985,1.034730792498484,1.0268058076225008,0.9897519661222032,0.9099153055051471,0.8183847549909249,1.1260314579552297,1.072552934059285,1.0304174228675145,1.0225710828796137,1.0605565638233496,0.9945130066545701,0.9923290986085953,1.158384754990924,1.0579612825166305,1.0404839685420475,1.0537931034482761,1.0589292196007205,1.0376527525710808,1.0213430127041738,1.0207562008469433,1.003641863278887,1.0252873563218365,0.9864851784634042,1.0300241984270992,0.969933454325473,1.0402117362371377,0.9256805807622545,0.9876830006049651,1.003230490018147,0.9446763460375114,1.0007199032062886,0.9249425287356333,1.0904295220810603,0.969298245614038,0.901373260738056,1.0810284331518427,1.0552994555353878,0.9577374470659461,1.0973321234119766,0.9889957652752596,0.9799334543254699,1.0013188142770684,0.9908832425892335,1.0624803387779735,1.0433393829401019,0.9686206896551737,0.9597822141560854,0.942111312764677,1.087713248638834,1.0793284936479097,0.9853962492437991,1.0741379310344819,1.0276285541439758,0.9559709618874807,1.034162129461583,0.9932425892317017,1.055251058681182,0.9971990320629165,0.9666787658802267],\"type\":\"scatter\"},{\"line\":{\"color\":\"red\",\"width\":2},\"mode\":\"lines\",\"name\":\"Train returns\",\"x\":[\"2001-04-01\",\"2001-05-01\",\"2001-06-01\",\"2001-07-01\",\"2001-08-01\",\"2001-09-01\",\"2001-10-01\",\"2001-11-01\",\"2001-12-01\",\"2002-01-01\",\"2002-02-01\",\"2002-03-01\",\"2002-04-01\",\"2002-05-01\",\"2002-06-01\",\"2002-07-01\",\"2002-08-01\",\"2002-09-01\",\"2002-10-01\",\"2002-11-01\",\"2002-12-01\",\"2003-01-01\",\"2003-02-01\",\"2003-03-01\",\"2003-04-01\",\"2003-05-01\",\"2003-06-01\",\"2003-07-01\",\"2003-08-01\",\"2003-09-01\",\"2003-10-01\",\"2003-11-01\",\"2003-12-01\",\"2004-01-01\",\"2004-02-01\",\"2004-03-01\",\"2004-04-01\",\"2004-05-01\",\"2004-06-01\",\"2004-07-01\",\"2004-08-01\",\"2004-09-01\",\"2004-10-01\",\"2004-11-01\",\"2004-12-01\",\"2005-01-01\",\"2005-02-01\",\"2005-03-01\",\"2005-04-01\",\"2005-05-01\",\"2005-06-01\",\"2005-07-01\",\"2005-08-01\",\"2005-09-01\",\"2005-10-01\",\"2005-11-01\",\"2005-12-01\",\"2006-01-01\",\"2006-02-01\",\"2006-03-01\",\"2006-04-01\",\"2006-05-01\",\"2006-06-01\",\"2006-07-01\",\"2006-08-01\",\"2006-09-01\",\"2006-10-01\",\"2006-11-01\",\"2006-12-01\",\"2007-01-01\",\"2007-02-01\",\"2007-03-01\",\"2007-04-01\",\"2007-05-01\",\"2007-06-01\",\"2007-07-01\",\"2007-08-01\",\"2007-09-01\",\"2007-10-01\",\"2007-11-01\",\"2007-12-01\",\"2008-01-01\",\"2008-02-01\",\"2008-03-01\",\"2008-04-01\",\"2008-05-01\",\"2008-06-01\",\"2008-07-01\",\"2008-08-01\",\"2008-09-01\",\"2008-10-01\",\"2008-11-01\",\"2008-12-01\",\"2009-01-01\",\"2009-02-01\",\"2009-03-01\",\"2009-04-01\",\"2009-05-01\",\"2009-06-01\",\"2009-07-01\",\"2009-08-01\",\"2009-09-01\",\"2009-10-01\",\"2009-11-01\",\"2009-12-01\",\"2010-01-01\",\"2010-02-01\",\"2010-03-01\",\"2010-04-01\",\"2010-05-01\",\"2010-06-01\",\"2010-07-01\",\"2010-08-01\",\"2010-09-01\",\"2010-10-01\",\"2010-11-01\",\"2010-12-01\",\"2011-01-01\",\"2011-02-01\",\"2011-03-01\",\"2011-04-01\",\"2011-05-01\",\"2011-06-01\",\"2011-07-01\",\"2011-08-01\",\"2011-09-01\",\"2011-10-01\",\"2011-11-01\",\"2011-12-01\",\"2012-01-01\",\"2012-02-01\",\"2012-03-01\",\"2012-04-01\",\"2012-05-01\",\"2012-06-01\",\"2012-07-01\",\"2012-08-01\",\"2012-09-01\",\"2012-10-01\",\"2012-11-01\",\"2012-12-01\",\"2013-01-01\",\"2013-02-01\",\"2013-03-01\",\"2013-04-01\",\"2013-05-01\",\"2013-06-01\",\"2013-07-01\",\"2013-08-01\",\"2013-09-01\",\"2013-10-01\",\"2013-11-01\",\"2013-12-01\",\"2014-01-01\",\"2014-02-01\",\"2014-03-01\",\"2014-04-01\",\"2014-05-01\",\"2014-06-01\",\"2014-07-01\",\"2014-08-01\",\"2014-09-01\",\"2014-10-01\",\"2014-11-01\",\"2014-12-01\",\"2015-01-01\",\"2015-02-01\",\"2015-03-01\",\"2015-04-01\",\"2015-05-01\",\"2015-06-01\",\"2015-07-01\",\"2015-08-01\",\"2015-09-01\",\"2015-10-01\",\"2015-11-01\",\"2015-12-01\",\"2016-01-01\",\"2016-02-01\",\"2016-03-01\",\"2016-04-01\",\"2016-05-01\",\"2016-06-01\",\"2016-07-01\",\"2016-08-01\",\"2016-09-01\",\"2016-10-01\",\"2016-11-01\",\"2016-12-01\",\"2017-01-01\",\"2017-02-01\",\"2017-03-01\",\"2017-04-01\",\"2017-05-01\",\"2017-06-01\",\"2017-07-01\",\"2017-08-01\",\"2017-09-01\",\"2017-10-01\",\"2017-11-01\",\"2017-12-01\",\"2018-01-01\",\"2018-02-01\",\"2018-03-01\",\"2018-04-01\",\"2018-05-01\",\"2018-06-01\",\"2018-07-01\",\"2018-08-01\",\"2018-09-01\",\"2018-10-01\",\"2018-11-01\",\"2018-12-01\",\"2019-01-01\",\"2019-02-01\",\"2019-03-01\",\"2019-04-01\",\"2019-05-01\",\"2019-06-01\",\"2019-07-01\",\"2019-08-01\",\"2019-09-01\",\"2019-10-01\",\"2019-11-01\",\"2019-12-01\",\"2020-01-01\",\"2020-02-01\",\"2020-03-01\",\"2020-04-01\",\"2020-05-01\",\"2020-06-01\",\"2020-07-01\",\"2020-08-01\",\"2020-09-01\",\"2020-10-01\",\"2020-11-01\",\"2020-12-01\",\"2021-01-01\",\"2021-02-01\",\"2021-03-01\",\"2021-04-01\",\"2021-05-01\",\"2021-06-01\",\"2021-07-01\",\"2021-08-01\",\"2021-09-01\",\"2021-10-01\",\"2021-11-01\",\"2021-12-01\",\"2022-01-01\",\"2022-02-01\",\"2022-03-01\",\"2022-04-01\",\"2022-05-01\",\"2022-06-01\",\"2022-07-01\",\"2022-08-01\",\"2022-09-01\",\"2022-10-01\",\"2022-11-01\",\"2022-12-01\",\"2023-01-01\",\"2023-02-01\",\"2023-03-01\",\"2023-04-01\",\"2023-05-01\",\"2023-06-01\",\"2023-07-01\",\"2023-08-01\",\"2023-09-01\",\"2023-10-01\",\"2023-11-01\",\"2023-12-01\",\"2024-01-01\",\"2024-02-01\"],\"y\":[1.0025663375854492,1.0069528818130493,1.0029155015945435,1.0035953521728516,1.0082038640975952,1.008632779121399,1.005486011505127,1.0068988800048828,1.0058951377868652,1.0042450428009033,1.0072848796844482,1.00464928150177,1.0060365200042725,1.002081036567688,1.004823088645935,1.0052175521850586,1.0052142143249512,1.0059949159622192,1.0055724382400513,1.0054309368133545,1.0033299922943115,1.0063321590423584,1.0078052282333374,1.004637360572815,1.0096819400787354,1.0076332092285156,1.009944200515747,1.00887131690979,1.0062545537948608,1.0034842491149902,1.0079479217529297,1.008906602859497,1.0049530267715454,1.0096532106399536,1.0101773738861084,1.0063564777374268,1.0054681301116943,1.0086123943328857,1.0083421468734741,1.0085995197296143,1.0076134204864502,1.0068618059158325,1.006172776222229,1.0078662633895874,1.0117216110229492,1.0035368204116821,1.0097440481185913,1.003969430923462,1.0055832862854004,1.0035828351974487,1.0081384181976318,1.008550763130188,1.0039057731628418,1.0103870630264282,1.0064074993133545,1.0068786144256592,1.0029183626174927,1.0037235021591187,1.0050606727600098,1.0069431066513062,1.0015729665756226,3.6277761459350586,1.0091629028320312,1.0054823160171509,1.001469612121582,1.0066423416137695,1.011786937713623,1.0110952854156494,1.0096105337142944,1.005976676940918,1.0058835744857788,1.0048174858093262,1.003867745399475,1.0049917697906494,1.0066132545471191,1.0162748098373413,1.0082263946533203,1.0036901235580444,1.00444757938385,1.0100451707839966,1.0114432573318481,1.0063352584838867,1.004858136177063,1.0046050548553467,1.005127191543579,1.00416100025177,1.0060856342315674,1.0058233737945557,1.0080089569091797,1.0039145946502686,1.009456753730774,1.0100535154342651,1.0064448118209839,1.0034122467041016,1.00802481174469,1.0047399997711182,1.000656247138977,1.0044935941696167,1.0021626949310303,1.002549409866333,1.0051679611206055,1.0042309761047363,1.0143986940383911,1.0072118043899536,1.0043994188308716,1.004963994026184,1.0004656314849854,1.00340735912323,1.0056426525115967,1.0032440423965454,1.0080276727676392,1.007022738456726,1.0044385194778442,1.0031577348709106,1.010128378868103,1.0076172351837158,1.0098564624786377,1.006192922592163,1.0135045051574707,1.005964994430542,1.0064164400100708,1.00642728805542,1.0094633102416992,1.0087333917617798,1.0057257413864136,1.0048389434814453,1.0059679746627808,1.0035817623138428,1.0054081678390503,1.0026911497116089,1.0075773000717163,1.0035005807876587,1.0029487609863281,1.0056027173995972,1.0071935653686523,1.0068882703781128,1.0068191289901733,1.0040130615234375,1.0105650424957275,1.0081567764282227,1.007455825805664,1.0070788860321045,1.0059571266174316,1.0021982192993164,1.1009972095489502,1.005402684211731,1.0074931383132935,1.002331256866455,1.0127105712890625,1.0066639184951782,1.004599690437317,1.008143424987793,1.0121688842773438,1.0120962858200073,1.0084561109542847,1.004605770111084,1.004239797592163,0.9898927807807922,0.9611192345619202,1.0083584785461426,1.0076589584350586,1.0026192665100098,1.0081347227096558,1.0076203346252441,1.003470540046692,1.0070412158966064,1.0036336183547974,1.0057684183120728,1.0062025785446167,1.008467197418213,1.0063693523406982,1.0078997611999512,1.0088144540786743,1.0018924474716187,1.0012726783752441,1.002807378768921,1.0080922842025757,1.009617567062378,1.0034468173980713,1.0119229555130005,1.010585904121399,1.0031927824020386,1.010223388671875,1.005983829498291,1.0010344982147217,1.0096492767333984,0.9999200701713562,1.0065464973449707,1.004431128501892,1.0062717199325562,1.0058674812316895,1.0102211236953735,1.0081173181533813,1.00577974319458,1.0024536848068237,1.0062205791473389,1.0047200918197632,1.0100820064544678,0.9991602301597595,1.1085294485092163,1.0070029497146606,1.0043361186981201,1.0117368698120117,1.0063904523849487,1.015532374382019,1.00203275680542,1.0078867673873901,1.0082948207855225,1.008834719657898,1.0062888860702515,1.0026617050170898,1.0055434703826904,1.0118931531906128,1.008756160736084,1.0040093660354614,1.0101267099380493,1.010636329650879,1.0102324485778809,1.007391095161438,1.007570743560791,1.0195987224578857,1.006726861000061,1.001490831375122,1.0081932544708252,1.0061542987823486,1.0126445293426514,1.0048677921295166,1.0000512599945068,1.0072882175445557,1.0072903633117676,1.003138780593872,1.0022486448287964,1.0075393915176392,1.0010356903076172,1.0052011013031006,1.003067970275879,1.0131911039352417,1.0036373138427734,1.0026493072509766,1.0034288167953491,1.006969690322876,1.005991816520691,1.0049222707748413,1.002781867980957,1.0084054470062256,1.0043094158172607,1.014390468597412,1.0079585313796997,1.008992314338684,1.0059726238250732,1.0046534538269043,1.0048130750656128,1.0055124759674072,1.007622480392456,1.0041965246200562,1.010636806488037,1.003930926322937,1.002851128578186,1.007480502128601,1.0064948797225952,1.0116896629333496,1.0130877494812012,1.0016825199127197,1.0059058666229248,1.0051809549331665,1.0058258771896362,1.0026023387908936,1.0061297416687012,1.0051696300506592,1.0066413879394531,1.0069676637649536,1.0155580043792725,1.0061451196670532,1.0046592950820923,1.0103751420974731],\"type\":\"scatter\"},{\"line\":{\"color\":\"green\",\"width\":2},\"mode\":\"lines\",\"name\":\"Test returns\",\"x\":[\"2024-02-01\",\"2024-03-01\",\"2024-04-01\",\"2024-05-01\",\"2024-06-01\",\"2024-07-01\",\"2024-08-01\"],\"y\":[1.0103751420974731,1.0051370859146118,1.0060381889343262,1.0166313648223877,1.0126087665557861,1.0045331716537476,1.0071252584457397],\"type\":\"scatter\"}],                        {\"template\":{\"data\":{\"barpolar\":[{\"marker\":{\"line\":{\"color\":\"white\",\"width\":0.5},\"pattern\":{\"fillmode\":\"overlay\",\"size\":10,\"solidity\":0.2}},\"type\":\"barpolar\"}],\"bar\":[{\"error_x\":{\"color\":\"#2a3f5f\"},\"error_y\":{\"color\":\"#2a3f5f\"},\"marker\":{\"line\":{\"color\":\"white\",\"width\":0.5},\"pattern\":{\"fillmode\":\"overlay\",\"size\":10,\"solidity\":0.2}},\"type\":\"bar\"}],\"carpet\":[{\"aaxis\":{\"endlinecolor\":\"#2a3f5f\",\"gridcolor\":\"#C8D4E3\",\"linecolor\":\"#C8D4E3\",\"minorgridcolor\":\"#C8D4E3\",\"startlinecolor\":\"#2a3f5f\"},\"baxis\":{\"endlinecolor\":\"#2a3f5f\",\"gridcolor\":\"#C8D4E3\",\"linecolor\":\"#C8D4E3\",\"minorgridcolor\":\"#C8D4E3\",\"startlinecolor\":\"#2a3f5f\"},\"type\":\"carpet\"}],\"choropleth\":[{\"colorbar\":{\"outlinewidth\":0,\"ticks\":\"\"},\"type\":\"choropleth\"}],\"contourcarpet\":[{\"colorbar\":{\"outlinewidth\":0,\"ticks\":\"\"},\"type\":\"contourcarpet\"}],\"contour\":[{\"colorbar\":{\"outlinewidth\":0,\"ticks\":\"\"},\"colorscale\":[[0.0,\"#0d0887\"],[0.1111111111111111,\"#46039f\"],[0.2222222222222222,\"#7201a8\"],[0.3333333333333333,\"#9c179e\"],[0.4444444444444444,\"#bd3786\"],[0.5555555555555556,\"#d8576b\"],[0.6666666666666666,\"#ed7953\"],[0.7777777777777778,\"#fb9f3a\"],[0.8888888888888888,\"#fdca26\"],[1.0,\"#f0f921\"]],\"type\":\"contour\"}],\"heatmapgl\":[{\"colorbar\":{\"outlinewidth\":0,\"ticks\":\"\"},\"colorscale\":[[0.0,\"#0d0887\"],[0.1111111111111111,\"#46039f\"],[0.2222222222222222,\"#7201a8\"],[0.3333333333333333,\"#9c179e\"],[0.4444444444444444,\"#bd3786\"],[0.5555555555555556,\"#d8576b\"],[0.6666666666666666,\"#ed7953\"],[0.7777777777777778,\"#fb9f3a\"],[0.8888888888888888,\"#fdca26\"],[1.0,\"#f0f921\"]],\"type\":\"heatmapgl\"}],\"heatmap\":[{\"colorbar\":{\"outlinewidth\":0,\"ticks\":\"\"},\"colorscale\":[[0.0,\"#0d0887\"],[0.1111111111111111,\"#46039f\"],[0.2222222222222222,\"#7201a8\"],[0.3333333333333333,\"#9c179e\"],[0.4444444444444444,\"#bd3786\"],[0.5555555555555556,\"#d8576b\"],[0.6666666666666666,\"#ed7953\"],[0.7777777777777778,\"#fb9f3a\"],[0.8888888888888888,\"#fdca26\"],[1.0,\"#f0f921\"]],\"type\":\"heatmap\"}],\"histogram2dcontour\":[{\"colorbar\":{\"outlinewidth\":0,\"ticks\":\"\"},\"colorscale\":[[0.0,\"#0d0887\"],[0.1111111111111111,\"#46039f\"],[0.2222222222222222,\"#7201a8\"],[0.3333333333333333,\"#9c179e\"],[0.4444444444444444,\"#bd3786\"],[0.5555555555555556,\"#d8576b\"],[0.6666666666666666,\"#ed7953\"],[0.7777777777777778,\"#fb9f3a\"],[0.8888888888888888,\"#fdca26\"],[1.0,\"#f0f921\"]],\"type\":\"histogram2dcontour\"}],\"histogram2d\":[{\"colorbar\":{\"outlinewidth\":0,\"ticks\":\"\"},\"colorscale\":[[0.0,\"#0d0887\"],[0.1111111111111111,\"#46039f\"],[0.2222222222222222,\"#7201a8\"],[0.3333333333333333,\"#9c179e\"],[0.4444444444444444,\"#bd3786\"],[0.5555555555555556,\"#d8576b\"],[0.6666666666666666,\"#ed7953\"],[0.7777777777777778,\"#fb9f3a\"],[0.8888888888888888,\"#fdca26\"],[1.0,\"#f0f921\"]],\"type\":\"histogram2d\"}],\"histogram\":[{\"marker\":{\"pattern\":{\"fillmode\":\"overlay\",\"size\":10,\"solidity\":0.2}},\"type\":\"histogram\"}],\"mesh3d\":[{\"colorbar\":{\"outlinewidth\":0,\"ticks\":\"\"},\"type\":\"mesh3d\"}],\"parcoords\":[{\"line\":{\"colorbar\":{\"outlinewidth\":0,\"ticks\":\"\"}},\"type\":\"parcoords\"}],\"pie\":[{\"automargin\":true,\"type\":\"pie\"}],\"scatter3d\":[{\"line\":{\"colorbar\":{\"outlinewidth\":0,\"ticks\":\"\"}},\"marker\":{\"colorbar\":{\"outlinewidth\":0,\"ticks\":\"\"}},\"type\":\"scatter3d\"}],\"scattercarpet\":[{\"marker\":{\"colorbar\":{\"outlinewidth\":0,\"ticks\":\"\"}},\"type\":\"scattercarpet\"}],\"scattergeo\":[{\"marker\":{\"colorbar\":{\"outlinewidth\":0,\"ticks\":\"\"}},\"type\":\"scattergeo\"}],\"scattergl\":[{\"marker\":{\"colorbar\":{\"outlinewidth\":0,\"ticks\":\"\"}},\"type\":\"scattergl\"}],\"scattermapbox\":[{\"marker\":{\"colorbar\":{\"outlinewidth\":0,\"ticks\":\"\"}},\"type\":\"scattermapbox\"}],\"scatterpolargl\":[{\"marker\":{\"colorbar\":{\"outlinewidth\":0,\"ticks\":\"\"}},\"type\":\"scatterpolargl\"}],\"scatterpolar\":[{\"marker\":{\"colorbar\":{\"outlinewidth\":0,\"ticks\":\"\"}},\"type\":\"scatterpolar\"}],\"scatter\":[{\"fillpattern\":{\"fillmode\":\"overlay\",\"size\":10,\"solidity\":0.2},\"type\":\"scatter\"}],\"scatterternary\":[{\"marker\":{\"colorbar\":{\"outlinewidth\":0,\"ticks\":\"\"}},\"type\":\"scatterternary\"}],\"surface\":[{\"colorbar\":{\"outlinewidth\":0,\"ticks\":\"\"},\"colorscale\":[[0.0,\"#0d0887\"],[0.1111111111111111,\"#46039f\"],[0.2222222222222222,\"#7201a8\"],[0.3333333333333333,\"#9c179e\"],[0.4444444444444444,\"#bd3786\"],[0.5555555555555556,\"#d8576b\"],[0.6666666666666666,\"#ed7953\"],[0.7777777777777778,\"#fb9f3a\"],[0.8888888888888888,\"#fdca26\"],[1.0,\"#f0f921\"]],\"type\":\"surface\"}],\"table\":[{\"cells\":{\"fill\":{\"color\":\"#EBF0F8\"},\"line\":{\"color\":\"white\"}},\"header\":{\"fill\":{\"color\":\"#C8D4E3\"},\"line\":{\"color\":\"white\"}},\"type\":\"table\"}]},\"layout\":{\"annotationdefaults\":{\"arrowcolor\":\"#2a3f5f\",\"arrowhead\":0,\"arrowwidth\":1},\"autotypenumbers\":\"strict\",\"coloraxis\":{\"colorbar\":{\"outlinewidth\":0,\"ticks\":\"\"}},\"colorscale\":{\"diverging\":[[0,\"#8e0152\"],[0.1,\"#c51b7d\"],[0.2,\"#de77ae\"],[0.3,\"#f1b6da\"],[0.4,\"#fde0ef\"],[0.5,\"#f7f7f7\"],[0.6,\"#e6f5d0\"],[0.7,\"#b8e186\"],[0.8,\"#7fbc41\"],[0.9,\"#4d9221\"],[1,\"#276419\"]],\"sequential\":[[0.0,\"#0d0887\"],[0.1111111111111111,\"#46039f\"],[0.2222222222222222,\"#7201a8\"],[0.3333333333333333,\"#9c179e\"],[0.4444444444444444,\"#bd3786\"],[0.5555555555555556,\"#d8576b\"],[0.6666666666666666,\"#ed7953\"],[0.7777777777777778,\"#fb9f3a\"],[0.8888888888888888,\"#fdca26\"],[1.0,\"#f0f921\"]],\"sequentialminus\":[[0.0,\"#0d0887\"],[0.1111111111111111,\"#46039f\"],[0.2222222222222222,\"#7201a8\"],[0.3333333333333333,\"#9c179e\"],[0.4444444444444444,\"#bd3786\"],[0.5555555555555556,\"#d8576b\"],[0.6666666666666666,\"#ed7953\"],[0.7777777777777778,\"#fb9f3a\"],[0.8888888888888888,\"#fdca26\"],[1.0,\"#f0f921\"]]},\"colorway\":[\"#636efa\",\"#EF553B\",\"#00cc96\",\"#ab63fa\",\"#FFA15A\",\"#19d3f3\",\"#FF6692\",\"#B6E880\",\"#FF97FF\",\"#FECB52\"],\"font\":{\"color\":\"#2a3f5f\"},\"geo\":{\"bgcolor\":\"white\",\"lakecolor\":\"white\",\"landcolor\":\"white\",\"showlakes\":true,\"showland\":true,\"subunitcolor\":\"#C8D4E3\"},\"hoverlabel\":{\"align\":\"left\"},\"hovermode\":\"closest\",\"mapbox\":{\"style\":\"light\"},\"paper_bgcolor\":\"white\",\"plot_bgcolor\":\"white\",\"polar\":{\"angularaxis\":{\"gridcolor\":\"#EBF0F8\",\"linecolor\":\"#EBF0F8\",\"ticks\":\"\"},\"bgcolor\":\"white\",\"radialaxis\":{\"gridcolor\":\"#EBF0F8\",\"linecolor\":\"#EBF0F8\",\"ticks\":\"\"}},\"scene\":{\"xaxis\":{\"backgroundcolor\":\"white\",\"gridcolor\":\"#DFE8F3\",\"gridwidth\":2,\"linecolor\":\"#EBF0F8\",\"showbackground\":true,\"ticks\":\"\",\"zerolinecolor\":\"#EBF0F8\"},\"yaxis\":{\"backgroundcolor\":\"white\",\"gridcolor\":\"#DFE8F3\",\"gridwidth\":2,\"linecolor\":\"#EBF0F8\",\"showbackground\":true,\"ticks\":\"\",\"zerolinecolor\":\"#EBF0F8\"},\"zaxis\":{\"backgroundcolor\":\"white\",\"gridcolor\":\"#DFE8F3\",\"gridwidth\":2,\"linecolor\":\"#EBF0F8\",\"showbackground\":true,\"ticks\":\"\",\"zerolinecolor\":\"#EBF0F8\"}},\"shapedefaults\":{\"line\":{\"color\":\"#2a3f5f\"}},\"ternary\":{\"aaxis\":{\"gridcolor\":\"#DFE8F3\",\"linecolor\":\"#A2B1C6\",\"ticks\":\"\"},\"baxis\":{\"gridcolor\":\"#DFE8F3\",\"linecolor\":\"#A2B1C6\",\"ticks\":\"\"},\"bgcolor\":\"white\",\"caxis\":{\"gridcolor\":\"#DFE8F3\",\"linecolor\":\"#A2B1C6\",\"ticks\":\"\"}},\"title\":{\"x\":0.05},\"xaxis\":{\"automargin\":true,\"gridcolor\":\"#EBF0F8\",\"linecolor\":\"#EBF0F8\",\"ticks\":\"\",\"title\":{\"standoff\":15},\"zerolinecolor\":\"#EBF0F8\",\"zerolinewidth\":2},\"yaxis\":{\"automargin\":true,\"gridcolor\":\"#EBF0F8\",\"linecolor\":\"#EBF0F8\",\"ticks\":\"\",\"title\":{\"standoff\":15},\"zerolinecolor\":\"#EBF0F8\",\"zerolinewidth\":2}}},\"shapes\":[{\"line\":{\"color\":\"red\",\"dash\":\"dash\",\"width\":1},\"type\":\"line\",\"x0\":\"2024-02-01\",\"x1\":\"2024-02-01\",\"xref\":\"x\",\"y0\":0,\"y1\":1,\"yref\":\"y domain\"}],\"yaxis\":{\"title\":{\"text\":\"Day closing return (%)\"},\"tickformat\":\".0%\",\"range\":[0.75,1.6]},\"title\":{\"text\":\"6 Month Prediction vs Actual Plot\"},\"xaxis\":{\"title\":{\"text\":\"Date\"}},\"legend\":{\"title\":{\"text\":\"Legend\"}}},                        {\"responsive\": true}                    ).then(function(){\n",
       "                            \n",
       "var gd = document.getElementById('939cc837-3efc-4f14-aad8-1e762a500966');\n",
       "var x = new MutationObserver(function (mutations, observer) {{\n",
       "        var display = window.getComputedStyle(gd).display;\n",
       "        if (!display || display === 'none') {{\n",
       "            console.log([gd, 'removed!']);\n",
       "            Plotly.purge(gd);\n",
       "            observer.disconnect();\n",
       "        }}\n",
       "}});\n",
       "\n",
       "// Listen for the removal of the full notebook cells\n",
       "var notebookContainer = gd.closest('#notebook-container');\n",
       "if (notebookContainer) {{\n",
       "    x.observe(notebookContainer, {childList: true});\n",
       "}}\n",
       "\n",
       "// Listen for the clearing of the current output cell\n",
       "var outputEl = gd.closest('.output');\n",
       "if (outputEl) {{\n",
       "    x.observe(outputEl, {childList: true});\n",
       "}}\n",
       "\n",
       "                        })                };                });            </script>        </div>"
      ]
     },
     "metadata": {},
     "output_type": "display_data"
    }
   ],
   "execution_count": 52
  },
  {
   "metadata": {},
   "cell_type": "markdown",
   "source": "#### Overview table",
   "id": "d80278521d9254c0"
  },
  {
   "metadata": {
    "ExecuteTime": {
     "end_time": "2025-05-06T19:02:33.735336Z",
     "start_time": "2025-05-06T19:02:33.659679Z"
    }
   },
   "cell_type": "code",
   "source": [
    "# Get train true values followed with predicted month/s\n",
    "y_train_6m_list = y_train_6m['m_return_target(t+6)'].tolist()\n",
    "y_pred_6m_list = y_test_pred_6m.tolist()\n",
    "#\n",
    "df_to_evaluate_6m = comparison.get_df_from_pred_list(df, y_train_1m_list, y_pred_6m_list)\n",
    "df_to_evaluate_6m = df_to_evaluate_6m - 1\n",
    "df_to_evaluate_6m"
   ],
   "id": "4eebf0c6accb1d96",
   "outputs": [
    {
     "data": {
      "text/plain": [
       "        RS1.L        KE    TEG.DE    LEG.DE       SCS       HNI       AVT  \\\n",
       "0    0.000000  0.000000 -0.100000  0.000000 -0.230000  0.010000 -0.340000   \n",
       "1    0.000000  0.000000  0.000000 -0.060000  0.030000  0.050000  0.220000   \n",
       "2    0.010000  0.000000  0.550000  0.040000  0.090000 -0.020000  0.280000   \n",
       "3    0.000000 -0.030000  0.090000 -0.130000 -0.050000 -0.010000 -0.110000   \n",
       "4    0.000000  0.000000 -0.060000  0.000000 -0.150000 -0.070000 -0.160000   \n",
       "..        ...       ...       ...       ...       ...       ...       ...   \n",
       "287  0.123534  0.070807 -0.058092 -0.253677  0.117354  0.092943  0.331190   \n",
       "288 -0.001414 -0.068942 -0.198856  0.178871  0.215746 -0.193470 -0.092314   \n",
       "289 -0.008178 -0.103794  0.212474 -0.202204 -0.210486  0.162061  0.122468   \n",
       "290 -0.011283 -0.252874  0.054542 -0.259109 -0.204893  0.040330  0.199532   \n",
       "291 -0.017258 -0.000993 -0.040265  0.063216 -0.219295 -0.821783 -0.199952   \n",
       "\n",
       "         ACCO    VNA.DE    7912.T  ...    DEQ.DE      KIDS      HALO  \\\n",
       "0    0.000000  0.000000 -0.060000  ...  0.000000  0.000000  0.000000   \n",
       "1    0.000000 -0.040000  0.050000  ...  0.000000  0.000000  0.000000   \n",
       "2   -0.080000  0.020000 -0.060000  ...  0.000000  0.290000 -0.090000   \n",
       "3   -0.020000 -0.100000 -0.080000  ... -0.480000  0.000000  0.000000   \n",
       "4    0.000000  0.000000  0.020000  ...  1.180000  0.000000  0.000000   \n",
       "..        ...       ...       ...  ...       ...       ...       ...   \n",
       "287  0.321947  0.026515 -0.168888  ...  0.012532 -0.026865 -0.022313   \n",
       "288 -0.067086  0.110363  0.077282  ...  0.032217 -0.080730 -0.005133   \n",
       "289 -0.108271 -0.025298 -0.009303  ...  0.033886 -0.007528  0.009432   \n",
       "290 -0.086460 -0.138622  0.158513  ... -0.001989 -0.017072  0.071985   \n",
       "291  0.285168 -0.172228 -0.102475  ... -0.112806 -0.000596 -0.000904   \n",
       "\n",
       "         MATW    9842.T      KVHI    MOON.L       NEO    6055.T       UNP  \n",
       "0    0.070000  0.000000 -0.340000  0.000000  0.000000  0.000000 -0.010000  \n",
       "1    0.090000  0.000000 -0.160000  0.000000  0.000000  0.000000  0.090000  \n",
       "2   -0.020000 -0.040000  0.690000 -0.140000 -0.240000  0.000000  0.050000  \n",
       "3    0.010000  0.000000 -0.260000  0.000000  0.000000  0.000000  0.040000  \n",
       "4    0.050000  0.000000  0.150000  0.000000  0.000000  0.000000  0.020000  \n",
       "..        ...       ...       ...       ...       ...       ...       ...  \n",
       "287 -0.001150  0.021679  0.032163 -0.031457  0.037416  0.011705 -0.019574  \n",
       "288 -0.175693  0.041845 -0.109208  0.010885 -0.159985  0.034830 -0.155161  \n",
       "289 -0.015825  0.021895 -0.073570 -0.006834 -0.064793  0.005849 -0.025031  \n",
       "290  0.010393  0.007745  0.000075 -0.068331 -0.031193 -0.016525 -0.009328  \n",
       "291  0.003341 -0.079014 -0.000896 -0.086022  0.006521 -0.088244 -0.014778  \n",
       "\n",
       "[292 rows x 1653 columns]"
      ],
      "text/html": [
       "<div>\n",
       "<style scoped>\n",
       "    .dataframe tbody tr th:only-of-type {\n",
       "        vertical-align: middle;\n",
       "    }\n",
       "\n",
       "    .dataframe tbody tr th {\n",
       "        vertical-align: top;\n",
       "    }\n",
       "\n",
       "    .dataframe thead th {\n",
       "        text-align: right;\n",
       "    }\n",
       "</style>\n",
       "<table border=\"1\" class=\"dataframe\">\n",
       "  <thead>\n",
       "    <tr style=\"text-align: right;\">\n",
       "      <th></th>\n",
       "      <th>RS1.L</th>\n",
       "      <th>KE</th>\n",
       "      <th>TEG.DE</th>\n",
       "      <th>LEG.DE</th>\n",
       "      <th>SCS</th>\n",
       "      <th>HNI</th>\n",
       "      <th>AVT</th>\n",
       "      <th>ACCO</th>\n",
       "      <th>VNA.DE</th>\n",
       "      <th>7912.T</th>\n",
       "      <th>...</th>\n",
       "      <th>DEQ.DE</th>\n",
       "      <th>KIDS</th>\n",
       "      <th>HALO</th>\n",
       "      <th>MATW</th>\n",
       "      <th>9842.T</th>\n",
       "      <th>KVHI</th>\n",
       "      <th>MOON.L</th>\n",
       "      <th>NEO</th>\n",
       "      <th>6055.T</th>\n",
       "      <th>UNP</th>\n",
       "    </tr>\n",
       "  </thead>\n",
       "  <tbody>\n",
       "    <tr>\n",
       "      <th>0</th>\n",
       "      <td>0.000000</td>\n",
       "      <td>0.000000</td>\n",
       "      <td>-0.100000</td>\n",
       "      <td>0.000000</td>\n",
       "      <td>-0.230000</td>\n",
       "      <td>0.010000</td>\n",
       "      <td>-0.340000</td>\n",
       "      <td>0.000000</td>\n",
       "      <td>0.000000</td>\n",
       "      <td>-0.060000</td>\n",
       "      <td>...</td>\n",
       "      <td>0.000000</td>\n",
       "      <td>0.000000</td>\n",
       "      <td>0.000000</td>\n",
       "      <td>0.070000</td>\n",
       "      <td>0.000000</td>\n",
       "      <td>-0.340000</td>\n",
       "      <td>0.000000</td>\n",
       "      <td>0.000000</td>\n",
       "      <td>0.000000</td>\n",
       "      <td>-0.010000</td>\n",
       "    </tr>\n",
       "    <tr>\n",
       "      <th>1</th>\n",
       "      <td>0.000000</td>\n",
       "      <td>0.000000</td>\n",
       "      <td>0.000000</td>\n",
       "      <td>-0.060000</td>\n",
       "      <td>0.030000</td>\n",
       "      <td>0.050000</td>\n",
       "      <td>0.220000</td>\n",
       "      <td>0.000000</td>\n",
       "      <td>-0.040000</td>\n",
       "      <td>0.050000</td>\n",
       "      <td>...</td>\n",
       "      <td>0.000000</td>\n",
       "      <td>0.000000</td>\n",
       "      <td>0.000000</td>\n",
       "      <td>0.090000</td>\n",
       "      <td>0.000000</td>\n",
       "      <td>-0.160000</td>\n",
       "      <td>0.000000</td>\n",
       "      <td>0.000000</td>\n",
       "      <td>0.000000</td>\n",
       "      <td>0.090000</td>\n",
       "    </tr>\n",
       "    <tr>\n",
       "      <th>2</th>\n",
       "      <td>0.010000</td>\n",
       "      <td>0.000000</td>\n",
       "      <td>0.550000</td>\n",
       "      <td>0.040000</td>\n",
       "      <td>0.090000</td>\n",
       "      <td>-0.020000</td>\n",
       "      <td>0.280000</td>\n",
       "      <td>-0.080000</td>\n",
       "      <td>0.020000</td>\n",
       "      <td>-0.060000</td>\n",
       "      <td>...</td>\n",
       "      <td>0.000000</td>\n",
       "      <td>0.290000</td>\n",
       "      <td>-0.090000</td>\n",
       "      <td>-0.020000</td>\n",
       "      <td>-0.040000</td>\n",
       "      <td>0.690000</td>\n",
       "      <td>-0.140000</td>\n",
       "      <td>-0.240000</td>\n",
       "      <td>0.000000</td>\n",
       "      <td>0.050000</td>\n",
       "    </tr>\n",
       "    <tr>\n",
       "      <th>3</th>\n",
       "      <td>0.000000</td>\n",
       "      <td>-0.030000</td>\n",
       "      <td>0.090000</td>\n",
       "      <td>-0.130000</td>\n",
       "      <td>-0.050000</td>\n",
       "      <td>-0.010000</td>\n",
       "      <td>-0.110000</td>\n",
       "      <td>-0.020000</td>\n",
       "      <td>-0.100000</td>\n",
       "      <td>-0.080000</td>\n",
       "      <td>...</td>\n",
       "      <td>-0.480000</td>\n",
       "      <td>0.000000</td>\n",
       "      <td>0.000000</td>\n",
       "      <td>0.010000</td>\n",
       "      <td>0.000000</td>\n",
       "      <td>-0.260000</td>\n",
       "      <td>0.000000</td>\n",
       "      <td>0.000000</td>\n",
       "      <td>0.000000</td>\n",
       "      <td>0.040000</td>\n",
       "    </tr>\n",
       "    <tr>\n",
       "      <th>4</th>\n",
       "      <td>0.000000</td>\n",
       "      <td>0.000000</td>\n",
       "      <td>-0.060000</td>\n",
       "      <td>0.000000</td>\n",
       "      <td>-0.150000</td>\n",
       "      <td>-0.070000</td>\n",
       "      <td>-0.160000</td>\n",
       "      <td>0.000000</td>\n",
       "      <td>0.000000</td>\n",
       "      <td>0.020000</td>\n",
       "      <td>...</td>\n",
       "      <td>1.180000</td>\n",
       "      <td>0.000000</td>\n",
       "      <td>0.000000</td>\n",
       "      <td>0.050000</td>\n",
       "      <td>0.000000</td>\n",
       "      <td>0.150000</td>\n",
       "      <td>0.000000</td>\n",
       "      <td>0.000000</td>\n",
       "      <td>0.000000</td>\n",
       "      <td>0.020000</td>\n",
       "    </tr>\n",
       "    <tr>\n",
       "      <th>...</th>\n",
       "      <td>...</td>\n",
       "      <td>...</td>\n",
       "      <td>...</td>\n",
       "      <td>...</td>\n",
       "      <td>...</td>\n",
       "      <td>...</td>\n",
       "      <td>...</td>\n",
       "      <td>...</td>\n",
       "      <td>...</td>\n",
       "      <td>...</td>\n",
       "      <td>...</td>\n",
       "      <td>...</td>\n",
       "      <td>...</td>\n",
       "      <td>...</td>\n",
       "      <td>...</td>\n",
       "      <td>...</td>\n",
       "      <td>...</td>\n",
       "      <td>...</td>\n",
       "      <td>...</td>\n",
       "      <td>...</td>\n",
       "      <td>...</td>\n",
       "    </tr>\n",
       "    <tr>\n",
       "      <th>287</th>\n",
       "      <td>0.123534</td>\n",
       "      <td>0.070807</td>\n",
       "      <td>-0.058092</td>\n",
       "      <td>-0.253677</td>\n",
       "      <td>0.117354</td>\n",
       "      <td>0.092943</td>\n",
       "      <td>0.331190</td>\n",
       "      <td>0.321947</td>\n",
       "      <td>0.026515</td>\n",
       "      <td>-0.168888</td>\n",
       "      <td>...</td>\n",
       "      <td>0.012532</td>\n",
       "      <td>-0.026865</td>\n",
       "      <td>-0.022313</td>\n",
       "      <td>-0.001150</td>\n",
       "      <td>0.021679</td>\n",
       "      <td>0.032163</td>\n",
       "      <td>-0.031457</td>\n",
       "      <td>0.037416</td>\n",
       "      <td>0.011705</td>\n",
       "      <td>-0.019574</td>\n",
       "    </tr>\n",
       "    <tr>\n",
       "      <th>288</th>\n",
       "      <td>-0.001414</td>\n",
       "      <td>-0.068942</td>\n",
       "      <td>-0.198856</td>\n",
       "      <td>0.178871</td>\n",
       "      <td>0.215746</td>\n",
       "      <td>-0.193470</td>\n",
       "      <td>-0.092314</td>\n",
       "      <td>-0.067086</td>\n",
       "      <td>0.110363</td>\n",
       "      <td>0.077282</td>\n",
       "      <td>...</td>\n",
       "      <td>0.032217</td>\n",
       "      <td>-0.080730</td>\n",
       "      <td>-0.005133</td>\n",
       "      <td>-0.175693</td>\n",
       "      <td>0.041845</td>\n",
       "      <td>-0.109208</td>\n",
       "      <td>0.010885</td>\n",
       "      <td>-0.159985</td>\n",
       "      <td>0.034830</td>\n",
       "      <td>-0.155161</td>\n",
       "    </tr>\n",
       "    <tr>\n",
       "      <th>289</th>\n",
       "      <td>-0.008178</td>\n",
       "      <td>-0.103794</td>\n",
       "      <td>0.212474</td>\n",
       "      <td>-0.202204</td>\n",
       "      <td>-0.210486</td>\n",
       "      <td>0.162061</td>\n",
       "      <td>0.122468</td>\n",
       "      <td>-0.108271</td>\n",
       "      <td>-0.025298</td>\n",
       "      <td>-0.009303</td>\n",
       "      <td>...</td>\n",
       "      <td>0.033886</td>\n",
       "      <td>-0.007528</td>\n",
       "      <td>0.009432</td>\n",
       "      <td>-0.015825</td>\n",
       "      <td>0.021895</td>\n",
       "      <td>-0.073570</td>\n",
       "      <td>-0.006834</td>\n",
       "      <td>-0.064793</td>\n",
       "      <td>0.005849</td>\n",
       "      <td>-0.025031</td>\n",
       "    </tr>\n",
       "    <tr>\n",
       "      <th>290</th>\n",
       "      <td>-0.011283</td>\n",
       "      <td>-0.252874</td>\n",
       "      <td>0.054542</td>\n",
       "      <td>-0.259109</td>\n",
       "      <td>-0.204893</td>\n",
       "      <td>0.040330</td>\n",
       "      <td>0.199532</td>\n",
       "      <td>-0.086460</td>\n",
       "      <td>-0.138622</td>\n",
       "      <td>0.158513</td>\n",
       "      <td>...</td>\n",
       "      <td>-0.001989</td>\n",
       "      <td>-0.017072</td>\n",
       "      <td>0.071985</td>\n",
       "      <td>0.010393</td>\n",
       "      <td>0.007745</td>\n",
       "      <td>0.000075</td>\n",
       "      <td>-0.068331</td>\n",
       "      <td>-0.031193</td>\n",
       "      <td>-0.016525</td>\n",
       "      <td>-0.009328</td>\n",
       "    </tr>\n",
       "    <tr>\n",
       "      <th>291</th>\n",
       "      <td>-0.017258</td>\n",
       "      <td>-0.000993</td>\n",
       "      <td>-0.040265</td>\n",
       "      <td>0.063216</td>\n",
       "      <td>-0.219295</td>\n",
       "      <td>-0.821783</td>\n",
       "      <td>-0.199952</td>\n",
       "      <td>0.285168</td>\n",
       "      <td>-0.172228</td>\n",
       "      <td>-0.102475</td>\n",
       "      <td>...</td>\n",
       "      <td>-0.112806</td>\n",
       "      <td>-0.000596</td>\n",
       "      <td>-0.000904</td>\n",
       "      <td>0.003341</td>\n",
       "      <td>-0.079014</td>\n",
       "      <td>-0.000896</td>\n",
       "      <td>-0.086022</td>\n",
       "      <td>0.006521</td>\n",
       "      <td>-0.088244</td>\n",
       "      <td>-0.014778</td>\n",
       "    </tr>\n",
       "  </tbody>\n",
       "</table>\n",
       "<p>292 rows × 1653 columns</p>\n",
       "</div>"
      ]
     },
     "execution_count": 53,
     "metadata": {},
     "output_type": "execute_result"
    }
   ],
   "execution_count": 53
  },
  {
   "metadata": {
    "ExecuteTime": {
     "end_time": "2025-05-06T19:02:49.881950Z",
     "start_time": "2025-05-06T19:02:34.132888Z"
    }
   },
   "cell_type": "code",
   "source": [
    "importlib.reload(comparison)\n",
    "df_pred_6m, raw_weights_6m, mu_6m, S_6m, sigma_6m, sharpe_6m = comparison.get_portfolio_performance(df_to_evaluate_6m,\n",
    "                                                                                                    \"xgbooster_weights_6m.csv\",\n",
    "                                                                                                    min_avg_return=-0.5,\n",
    "                                                                                                    months=12)\n",
    "comparison.create_discrete_allocation(df_pred_6m, raw_weights_6m)\n",
    "\n",
    "# Create overview\n",
    "df_view_6m = pd.DataFrame.from_dict(raw_weights_6m, orient='index', columns=['max_sharpe_weight'])\n",
    "# Extract volatilities (square root of diagonal elements)\n",
    "df_view_6m['avg_annual_volatility'] = pd.Series(np.sqrt(np.diag(S_6m)), index=S_6m.columns).values\n",
    "# Set annual returns\n",
    "df_view_6m['avg_annual_return'] = mu_6m.values\n",
    "#\n",
    "df_view_6m['return_last_period(6m)'] = round(df.tail(6).prod() - 1, 2)\n",
    "df_view_6m"
   ],
   "id": "c1ceb3ca171ad8e2",
   "outputs": [
    {
     "name": "stdout",
     "output_type": "stream",
     "text": [
      "Expected annual return: 90.1%\n",
      "Annual volatility: 11.1%\n",
      "Sharpe Ratio: 7.91\n",
      "Discrete allocation: {'PGRE': 25, 'PSON.L': 31, 'HAS': 899, 'TPL': 5905, 'ARW': 95, 'RYN': 74549, 'CMPR': 166, 'DLAR.L': 787, '2379.T': 28259, '6754.T': 83, 'PBI': 244, 'BYG.L': 772, 'COA.L': 677, 'STWD': 24, 'MTO.L': 139, 'IWG.L': 853, '8954.T': 26044, 'SVS.L': 252, 'FUTR.L': 1733, 'III.L': 1557, '6724.T': 30169, 'BRBY.L': 28008, '7984.T': 3929, 'WDC': 55, 'HLMA.L': 1312, 'WPP.L': 70, '3279.T': 66, 'JEN.DE': 387, 'LXP': 318, 'WKP.L': 247, '7951.T': 1693, 'KRG': 278, 'ATR': 30, 'ELV': 766, 'NYT': 232, 'SNWS.L': 1277, 'INCH.L': 231, 'NWSA': 20, 'EXPN.L': 109, 'CUZ': 394, '8151.T': 3429, 'RHI': 29386, '7868.T': 11065, 'LSL.L': 4037, 'ATGE': 956, '7701.T': 1255, 'GWI.L': 145, 'ZWS': 73888, 'VRE': 194, 'KMX': 48061, 'OXIG.L': 75575, 'REG': 241, '7976.T': 127, 'STAA': 1531, 'PNN.L': 108, 'ENR.DE': 3351, 'WSM': 3341, '8952.T': 613, 'PTEC.L': 2752, '8976.T': 205, 'STX': 67, 'ANIK': 51682, '4848.T': 72, '5108.T': 82398, 'BBSI': 70, 'LITE': 176, 'MNDI.L': 289, '8084.T': 180, 'AMBP': 409, 'BXP': 149, '8022.T': 6165, 'BRX': 86, '6701.T': 1851, 'MSI': 289, 'FME.DE': 1063, 'SAFE.L': 417, 'FOXA': 108, 'HLCL.L': 53, '3466.T': 97, 'JDG.L': 138, 'BOSS.DE': 33947, 'G1A.DE': 218, 'FRT': 209, '6702.T': 184, 'TBCG.L': 768, 'HBH.DE': 663, '6915.T': 76, 'RWA.L': 120, '6436.T': 901, 'UDR': 2978, 'G24.DE': 117, '8967.T': 2271, '7734.T': 280, 'SREI.L': 625, 'SVT.L': 390, 'DRH': 28817, 'BFSA.DE': 1201, 'DHL.DE': 270, 'WLY': 1456, 'BAH': 475, 'TW.L': 53, 'SMTC': 4278, 'AGYS': 436, 'SDRY.L': 367, 'SLG': 263, 'NCC.L': 1216, 'SKT': 15, '6200.T': 65765, 'TSCO': 261, 'CEC.DE': 1096, 'PANW': 8165, 'ADS.DE': 1454, '5988.T': 238, 'AL': 88, 'GWRE': 872, 'LEVI': 55, 'NDAQ': 285, '8986.T': 990, 'GAW.L': 989, 'RWI.L': 88, 'ACLS': 133, '8968.T': 42, '6861.T': 254, 'G': 157, '8955.T': 249, 'VNO': 905, 'STVG.L': 962, 'USFD': 498, 'INVP.L': 479, 'MOTR.L': 376, 'PARA': 5979, 'ETWO': 2187, 'GYC.DE': 2245, 'AAT': 20749, '6645.T': 1309, 'CPT': 749, 'JBHT': 7411, 'PRU.L': 72810, 'FIGS': 309, '8953.T': 1673, 'SRE.L': 190, '8154.T': 39353, 'CTEC.L': 62676, 'ORA': 60982, 'CRUS': 137138, 'ALFA.L': 558, '8897.T': 18011, 'KTB': 719, 'HLN.L': 635, 'ALGM': 73, '4902.T': 26, '3493.T': 42, 'TPT.L': 159, 'FNKO': 236, 'GBF.DE': 277, '8150.T': 61182, 'RITM': 68, 'MUV2.DE': 141, '8876.T': 1671, 'RESI.L': 15, '9602.T': 1713, 'GCI': 282, 'GLPI': 94, 'DAN': 31233, 'OMF': 6682, 'OI': 32622, '8283.T': 1735, 'BVB.DE': 642, '8972.T': 165, 'NOEJ.DE': 1185, 'DT': 452, 'NOW': 496, '3738.T': 5528, '8111.T': 191, '7220.T': 1783, 'TT': 1401, 'KW': 362, 'R': 2660, 'TLX.DE': 1043, 'DXC': 857, 'BERY': 3219, 'ROIC': 750, 'BNL': 174, 'BR': 9721, 'CVLT': 3567, 'BSY': 159, '5991.T': 35798, 'ETSY': 21783, 'CYBR': 778, 'DELL': 127, 'VSTO': 1445, '8056.T': 530, 'DEA': 2679, 'GT': 82194, '9104.T': 306, 'ITRK.L': 121, '6745.T': 936, 'VTU.L': 26091, 'DORM': 70042, 'EPR': 286, 'BFAM': 422, '7508.T': 106, 'RBBN': 228, 'TTWO': 47, '3668.T': 476, 'CACI': 454, 'AAN': 672, 'CVNA': 2329, 'KLAC': 215, '7296.T': 58163, '3092.T': 1224, '2784.T': 178, 'DHC': 1148, 'SFIX': 773, 'SMHN.DE': 79144, 'VRSK': 32554, '4544.T': 73698, 'PSN.L': 40342, 'CRTO': 367, '3231.T': 870, 'CPRI': 39235, '9843.T': 161, '9470.T': 312, 'PSTG': 420, '6762.T': 123, 'LTC': 266, '3765.T': 123, '8966.T': 66, 'FOXF': 82411, 'OSPN': 1096, 'OSUR': 30440, 'PAR': 1209, '9735.T': 253, 'JUST.L': 1371, 'VTY.L': 2068, 'SYF': 1592, 'VIAV': 79020, 'SOHO.L': 312, 'EQC': 8, 'DGE.L': 59, 'PRDO': 288, 'OSW': 712, 'SBS.DE': 2353, '7239.T': 15, 'SMAR': 2532, 'GLW': 1442, 'NAPA': 25823, 'HTWS.L': 397, '7731.T': 962, '6736.T': 96153, 'TTK.DE': 70847, '3269.T': 1525, 'REGN': 272, 'EVD.DE': 295, 'SCT.L': 237, '9627.T': 1444, 'FITB': 441, 'EFC': 285, 'CTAS': 184, '7600.T': 655, 'MBG.DE': 52, 'DOCU': 53208, 'SSE.L': 312, 'COK.DE': 595, '6588.T': 131747, 'FORM': 513, '6976.T': 1997, '5332.T': 216, '7732.T': 403, 'EXTR': 1610, '2767.T': 2186, '8985.T': 30, 'STJ.L': 562, '4452.T': 4074, 'LNT': 387, '8804.T': 371, '1973.T': 525, 'PCA.L': 453, '9101.T': 272, 'PAT.DE': 29347, 'TFC': 74049, 'OHI': 1259, 'CCH.L': 153, 'MEG': 492, 'WG.L': 185, 'APLE': 51111, 'MSGS': 3044, 'IHR.L': 156, 'ROK': 33141, '9831.T': 79, 'COHR': 184, '9401.T': 587, '9719.T': 536, '7915.T': 3546, 'BBW': 1695, 'CHKP': 571, 'NETW.L': 60, 'AFL': 1651, '8129.T': 5316, 'NWG.L': 2696, 'NEXN.L': 4049, 'EVT.DE': 33124, 'FI': 617, 'AHH': 212, 'HR': 653, '3191.T': 328, 'AMKR': 59, 'AER': 403, '4301.T': 256, 'NVMI': 133330, 'LADR': 68, '9024.T': 3545, '2170.T': 433, 'ICFI': 355, '4716.T': 1232, '7599.T': 7427, 'XYL': 59, 'RBLX': 343, 'ENT.L': 8960, '4689.T': 16615, '8050.T': 468, 'SY1.DE': 267, 'RARE': 86, 'RENT': 1368, 'BFH': 825, 'SHL.DE': 53437, 'CRL': 374, 'AUTO.L': 37842, 'ADI': 664, 'NSA': 36812, '8114.T': 5570, 'LAMR': 304, '4816.T': 5913, 'TWKS': 572, 'DRVN': 1015, 'ARR': 27, 'IHS': 74, 'UTI': 4, 'GTY': 221, 'HEN3.DE': 65, 'TYL': 999, '7459.T': 1347, 'TYMN.L': 1110, 'TTG.L': 96367, 'ADUS': 1162, '8308.T': 608, 'RSG': 705, 'RAT.L': 491, '2972.T': 69206, 'CNK': 1240, '2979.T': 156, 'NXT.L': 1729, 'CTO': 38571, 'IIPR': 102, '9107.T': 434, 'AWK': 268, 'NHI': 1418, 'FCN': 148, '7988.T': 79955, 'LXS.DE': 262, 'NESF.L': 479, 'PLUS.L': 2605, 'BDC': 72, 'ADTN': 26458, 'AVGO': 349, '6651.T': 95, 'ULTP.L': 1299, 'CARG': 462, 'NEM.DE': 472, 'BK': 618, 'MPWR': 1161, 'APH': 15093, '9766.T': 720, '7606.T': 12028, 'VECO': 22320, '8012.T': 4728, 'GKOS': 1162, '9757.T': 164, 'NTNX': 3837, '9869.T': 261, '8977.T': 390, 'APP': 2336, 'DOLE': 577, 'HLX': 210, '9069.T': 871, '2433.T': 115, '8923.T': 272, '6326.T': 518, 'VRTX': 3, 'SLB': 868, '9790.T': 158, '2790.T': 367, '4839.T': 35, '9605.T': 321, 'PMTS': 270, '9409.T': 161, 'AMAL': 4340, '2337.T': 58642, '3608.T': 369, 'STGW': 611, 'QLYS': 20514, 'XP': 62351, 'ONTO': 2223, 'ONON': 1, 'RERE': 1270, '5334.T': 127, '3626.T': 1203, 'UIS': 1094, '2971.T': 211, 'AIV': 278, '7453.T': 45, '2471.T': 299, 'AWI': 67344, '8309.T': 389, 'PGR': 71436, 'IVAC': 1449, '6787.T': 65090, '9433.T': 197, 'OCN.L': 443, 'VSEC': 1308, '7564.T': 412, 'PFD.L': 568, '3296.T': 88, 'RGL.L': 690, '9072.T': 1493, 'GAMA.L': 132, 'SUP': 2049, 'MATW': 3347}\n",
      "Funds remaining: €0.13\n"
     ]
    },
    {
     "data": {
      "text/plain": [
       "        max_sharpe_weight  avg_annual_volatility  avg_annual_return  \\\n",
       "RS1.L             0.00000               1.769312           0.134183   \n",
       "KE                0.00000               1.862518          -0.497960   \n",
       "TEG.DE            0.00166               1.868049           0.047628   \n",
       "LEG.DE            0.00000               2.001607          -0.213589   \n",
       "SCS               0.00000               1.981646          -0.324061   \n",
       "...                   ...                    ...                ...   \n",
       "KVHI              0.00000               1.751109          -0.224551   \n",
       "MOON.L            0.00000               1.795452           0.041699   \n",
       "NEO               0.00000               1.862586          -0.228996   \n",
       "6055.T            0.00000               1.787631          -0.305866   \n",
       "UNP               0.00000               1.742674          -0.221123   \n",
       "\n",
       "        return_last_period(6m)  \n",
       "RS1.L                     0.09  \n",
       "KE                       -0.18  \n",
       "TEG.DE                    0.28  \n",
       "LEG.DE                    0.22  \n",
       "SCS                       0.02  \n",
       "...                        ...  \n",
       "KVHI                     -0.12  \n",
       "MOON.L                    0.18  \n",
       "NEO                      -0.00  \n",
       "6055.T                   -0.31  \n",
       "UNP                       0.03  \n",
       "\n",
       "[1650 rows x 4 columns]"
      ],
      "text/html": [
       "<div>\n",
       "<style scoped>\n",
       "    .dataframe tbody tr th:only-of-type {\n",
       "        vertical-align: middle;\n",
       "    }\n",
       "\n",
       "    .dataframe tbody tr th {\n",
       "        vertical-align: top;\n",
       "    }\n",
       "\n",
       "    .dataframe thead th {\n",
       "        text-align: right;\n",
       "    }\n",
       "</style>\n",
       "<table border=\"1\" class=\"dataframe\">\n",
       "  <thead>\n",
       "    <tr style=\"text-align: right;\">\n",
       "      <th></th>\n",
       "      <th>max_sharpe_weight</th>\n",
       "      <th>avg_annual_volatility</th>\n",
       "      <th>avg_annual_return</th>\n",
       "      <th>return_last_period(6m)</th>\n",
       "    </tr>\n",
       "  </thead>\n",
       "  <tbody>\n",
       "    <tr>\n",
       "      <th>RS1.L</th>\n",
       "      <td>0.00000</td>\n",
       "      <td>1.769312</td>\n",
       "      <td>0.134183</td>\n",
       "      <td>0.09</td>\n",
       "    </tr>\n",
       "    <tr>\n",
       "      <th>KE</th>\n",
       "      <td>0.00000</td>\n",
       "      <td>1.862518</td>\n",
       "      <td>-0.497960</td>\n",
       "      <td>-0.18</td>\n",
       "    </tr>\n",
       "    <tr>\n",
       "      <th>TEG.DE</th>\n",
       "      <td>0.00166</td>\n",
       "      <td>1.868049</td>\n",
       "      <td>0.047628</td>\n",
       "      <td>0.28</td>\n",
       "    </tr>\n",
       "    <tr>\n",
       "      <th>LEG.DE</th>\n",
       "      <td>0.00000</td>\n",
       "      <td>2.001607</td>\n",
       "      <td>-0.213589</td>\n",
       "      <td>0.22</td>\n",
       "    </tr>\n",
       "    <tr>\n",
       "      <th>SCS</th>\n",
       "      <td>0.00000</td>\n",
       "      <td>1.981646</td>\n",
       "      <td>-0.324061</td>\n",
       "      <td>0.02</td>\n",
       "    </tr>\n",
       "    <tr>\n",
       "      <th>...</th>\n",
       "      <td>...</td>\n",
       "      <td>...</td>\n",
       "      <td>...</td>\n",
       "      <td>...</td>\n",
       "    </tr>\n",
       "    <tr>\n",
       "      <th>KVHI</th>\n",
       "      <td>0.00000</td>\n",
       "      <td>1.751109</td>\n",
       "      <td>-0.224551</td>\n",
       "      <td>-0.12</td>\n",
       "    </tr>\n",
       "    <tr>\n",
       "      <th>MOON.L</th>\n",
       "      <td>0.00000</td>\n",
       "      <td>1.795452</td>\n",
       "      <td>0.041699</td>\n",
       "      <td>0.18</td>\n",
       "    </tr>\n",
       "    <tr>\n",
       "      <th>NEO</th>\n",
       "      <td>0.00000</td>\n",
       "      <td>1.862586</td>\n",
       "      <td>-0.228996</td>\n",
       "      <td>-0.00</td>\n",
       "    </tr>\n",
       "    <tr>\n",
       "      <th>6055.T</th>\n",
       "      <td>0.00000</td>\n",
       "      <td>1.787631</td>\n",
       "      <td>-0.305866</td>\n",
       "      <td>-0.31</td>\n",
       "    </tr>\n",
       "    <tr>\n",
       "      <th>UNP</th>\n",
       "      <td>0.00000</td>\n",
       "      <td>1.742674</td>\n",
       "      <td>-0.221123</td>\n",
       "      <td>0.03</td>\n",
       "    </tr>\n",
       "  </tbody>\n",
       "</table>\n",
       "<p>1650 rows × 4 columns</p>\n",
       "</div>"
      ]
     },
     "execution_count": 54,
     "metadata": {},
     "output_type": "execute_result"
    }
   ],
   "execution_count": 54
  },
  {
   "metadata": {},
   "cell_type": "markdown",
   "source": "## 12 Months ",
   "id": "d780a819974a3cd7"
  },
  {
   "metadata": {
    "ExecuteTime": {
     "end_time": "2025-05-06T19:03:00.730915Z",
     "start_time": "2025-05-06T19:02:50.385890Z"
    }
   },
   "cell_type": "code",
   "source": [
    "importlib.reload(train_test)\n",
    "X_train, y_train, X_test, y_test, min_datestr = train_test.split_train_test_tabular(df_tabular, months=60, target_key='m_return_target(t+12)')\n",
    "\n",
    "# \n",
    "model_12m = xgboost.XGBRegressor(n_estimators=1000)\n",
    "model_12m.fit(X_train, y_train,\n",
    "          eval_set=[(X_train, y_train), (X_test, y_test)],\n",
    "          verbose=False)"
   ],
   "id": "a0a40f4b1346a9e4",
   "outputs": [
    {
     "data": {
      "text/plain": [
       "XGBRegressor(base_score=None, booster=None, callbacks=None,\n",
       "             colsample_bylevel=None, colsample_bynode=None,\n",
       "             colsample_bytree=None, device=None, early_stopping_rounds=None,\n",
       "             enable_categorical=False, eval_metric=None, feature_types=None,\n",
       "             gamma=None, grow_policy=None, importance_type=None,\n",
       "             interaction_constraints=None, learning_rate=None, max_bin=None,\n",
       "             max_cat_threshold=None, max_cat_to_onehot=None,\n",
       "             max_delta_step=None, max_depth=None, max_leaves=None,\n",
       "             min_child_weight=None, missing=nan, monotone_constraints=None,\n",
       "             multi_strategy=None, n_estimators=1000, n_jobs=None,\n",
       "             num_parallel_tree=None, random_state=None, ...)"
      ],
      "text/html": [
       "<style>#sk-container-id-5 {color: black;}#sk-container-id-5 pre{padding: 0;}#sk-container-id-5 div.sk-toggleable {background-color: white;}#sk-container-id-5 label.sk-toggleable__label {cursor: pointer;display: block;width: 100%;margin-bottom: 0;padding: 0.3em;box-sizing: border-box;text-align: center;}#sk-container-id-5 label.sk-toggleable__label-arrow:before {content: \"▸\";float: left;margin-right: 0.25em;color: #696969;}#sk-container-id-5 label.sk-toggleable__label-arrow:hover:before {color: black;}#sk-container-id-5 div.sk-estimator:hover label.sk-toggleable__label-arrow:before {color: black;}#sk-container-id-5 div.sk-toggleable__content {max-height: 0;max-width: 0;overflow: hidden;text-align: left;background-color: #f0f8ff;}#sk-container-id-5 div.sk-toggleable__content pre {margin: 0.2em;color: black;border-radius: 0.25em;background-color: #f0f8ff;}#sk-container-id-5 input.sk-toggleable__control:checked~div.sk-toggleable__content {max-height: 200px;max-width: 100%;overflow: auto;}#sk-container-id-5 input.sk-toggleable__control:checked~label.sk-toggleable__label-arrow:before {content: \"▾\";}#sk-container-id-5 div.sk-estimator input.sk-toggleable__control:checked~label.sk-toggleable__label {background-color: #d4ebff;}#sk-container-id-5 div.sk-label input.sk-toggleable__control:checked~label.sk-toggleable__label {background-color: #d4ebff;}#sk-container-id-5 input.sk-hidden--visually {border: 0;clip: rect(1px 1px 1px 1px);clip: rect(1px, 1px, 1px, 1px);height: 1px;margin: -1px;overflow: hidden;padding: 0;position: absolute;width: 1px;}#sk-container-id-5 div.sk-estimator {font-family: monospace;background-color: #f0f8ff;border: 1px dotted black;border-radius: 0.25em;box-sizing: border-box;margin-bottom: 0.5em;}#sk-container-id-5 div.sk-estimator:hover {background-color: #d4ebff;}#sk-container-id-5 div.sk-parallel-item::after {content: \"\";width: 100%;border-bottom: 1px solid gray;flex-grow: 1;}#sk-container-id-5 div.sk-label:hover label.sk-toggleable__label {background-color: #d4ebff;}#sk-container-id-5 div.sk-serial::before {content: \"\";position: absolute;border-left: 1px solid gray;box-sizing: border-box;top: 0;bottom: 0;left: 50%;z-index: 0;}#sk-container-id-5 div.sk-serial {display: flex;flex-direction: column;align-items: center;background-color: white;padding-right: 0.2em;padding-left: 0.2em;position: relative;}#sk-container-id-5 div.sk-item {position: relative;z-index: 1;}#sk-container-id-5 div.sk-parallel {display: flex;align-items: stretch;justify-content: center;background-color: white;position: relative;}#sk-container-id-5 div.sk-item::before, #sk-container-id-5 div.sk-parallel-item::before {content: \"\";position: absolute;border-left: 1px solid gray;box-sizing: border-box;top: 0;bottom: 0;left: 50%;z-index: -1;}#sk-container-id-5 div.sk-parallel-item {display: flex;flex-direction: column;z-index: 1;position: relative;background-color: white;}#sk-container-id-5 div.sk-parallel-item:first-child::after {align-self: flex-end;width: 50%;}#sk-container-id-5 div.sk-parallel-item:last-child::after {align-self: flex-start;width: 50%;}#sk-container-id-5 div.sk-parallel-item:only-child::after {width: 0;}#sk-container-id-5 div.sk-dashed-wrapped {border: 1px dashed gray;margin: 0 0.4em 0.5em 0.4em;box-sizing: border-box;padding-bottom: 0.4em;background-color: white;}#sk-container-id-5 div.sk-label label {font-family: monospace;font-weight: bold;display: inline-block;line-height: 1.2em;}#sk-container-id-5 div.sk-label-container {text-align: center;}#sk-container-id-5 div.sk-container {/* jupyter's `normalize.less` sets `[hidden] { display: none; }` but bootstrap.min.css set `[hidden] { display: none !important; }` so we also need the `!important` here to be able to override the default hidden behavior on the sphinx rendered scikit-learn.org. See: https://github.com/scikit-learn/scikit-learn/issues/21755 */display: inline-block !important;position: relative;}#sk-container-id-5 div.sk-text-repr-fallback {display: none;}</style><div id=\"sk-container-id-5\" class=\"sk-top-container\"><div class=\"sk-text-repr-fallback\"><pre>XGBRegressor(base_score=None, booster=None, callbacks=None,\n",
       "             colsample_bylevel=None, colsample_bynode=None,\n",
       "             colsample_bytree=None, device=None, early_stopping_rounds=None,\n",
       "             enable_categorical=False, eval_metric=None, feature_types=None,\n",
       "             gamma=None, grow_policy=None, importance_type=None,\n",
       "             interaction_constraints=None, learning_rate=None, max_bin=None,\n",
       "             max_cat_threshold=None, max_cat_to_onehot=None,\n",
       "             max_delta_step=None, max_depth=None, max_leaves=None,\n",
       "             min_child_weight=None, missing=nan, monotone_constraints=None,\n",
       "             multi_strategy=None, n_estimators=1000, n_jobs=None,\n",
       "             num_parallel_tree=None, random_state=None, ...)</pre><b>In a Jupyter environment, please rerun this cell to show the HTML representation or trust the notebook. <br />On GitHub, the HTML representation is unable to render, please try loading this page with nbviewer.org.</b></div><div class=\"sk-container\" hidden><div class=\"sk-item\"><div class=\"sk-estimator sk-toggleable\"><input class=\"sk-toggleable__control sk-hidden--visually\" id=\"sk-estimator-id-5\" type=\"checkbox\" checked><label for=\"sk-estimator-id-5\" class=\"sk-toggleable__label sk-toggleable__label-arrow\">XGBRegressor</label><div class=\"sk-toggleable__content\"><pre>XGBRegressor(base_score=None, booster=None, callbacks=None,\n",
       "             colsample_bylevel=None, colsample_bynode=None,\n",
       "             colsample_bytree=None, device=None, early_stopping_rounds=None,\n",
       "             enable_categorical=False, eval_metric=None, feature_types=None,\n",
       "             gamma=None, grow_policy=None, importance_type=None,\n",
       "             interaction_constraints=None, learning_rate=None, max_bin=None,\n",
       "             max_cat_threshold=None, max_cat_to_onehot=None,\n",
       "             max_delta_step=None, max_depth=None, max_leaves=None,\n",
       "             min_child_weight=None, missing=nan, monotone_constraints=None,\n",
       "             multi_strategy=None, n_estimators=1000, n_jobs=None,\n",
       "             num_parallel_tree=None, random_state=None, ...)</pre></div></div></div></div></div>"
      ]
     },
     "execution_count": 55,
     "metadata": {},
     "output_type": "execute_result"
    }
   ],
   "execution_count": 55
  },
  {
   "metadata": {
    "ExecuteTime": {
     "end_time": "2025-05-06T19:13:57.441903Z",
     "start_time": "2025-05-06T19:13:57.438809Z"
    }
   },
   "cell_type": "code",
   "source": "print(len(X_train)/1653, len(X_test)/1653)",
   "id": "b2bd155ff60c2b41",
   "outputs": [
    {
     "name": "stdout",
     "output_type": "stream",
     "text": [
      "227.0 49.0\n"
     ]
    }
   ],
   "execution_count": 73
  },
  {
   "metadata": {
    "ExecuteTime": {
     "end_time": "2025-05-06T19:03:00.937731Z",
     "start_time": "2025-05-06T19:03:00.765586Z"
    }
   },
   "cell_type": "code",
   "source": [
    "months_12m = 12\n",
    "X_train_12m, y_train_12m, X_test_12m, y_test_12m, min_datestr = train_test.split_train_test_tabular(df_tabular, months=months_12m,\n",
    "                                                                                                  target_key='m_return_target(t+12)')"
   ],
   "id": "e0761b0302e87c93",
   "outputs": [],
   "execution_count": 56
  },
  {
   "metadata": {
    "ExecuteTime": {
     "end_time": "2025-05-06T19:03:02.463182Z",
     "start_time": "2025-05-06T19:03:00.973435Z"
    }
   },
   "cell_type": "code",
   "source": [
    "dt = datetime.strptime(min_datestr, '%Y-%m-%d')\n",
    "\n",
    "# get all training months without the last 12 months\n",
    "X_train_input_12m = X_train_12m.head(len(X_train_12m) - len(df.columns)*months_12m)\n",
    "# Get last 6 months of the training dataset and use as input to predict the next 12 months\n",
    "X_test_input_12m = X_train_12m.tail(len(df.columns)*months_12m)\n",
    "\n",
    "# Trained \n",
    "y_train_pred_12m = model_12m.predict(X_train_input_12m)\n",
    "# Predictions\n",
    "y_test_pred_12m = model_6m.predict(X_test_input_12m)"
   ],
   "id": "7a78ee9acb0beda2",
   "outputs": [],
   "execution_count": 57
  },
  {
   "metadata": {},
   "cell_type": "markdown",
   "source": "### 12 Months Actual vs Prediction",
   "id": "6c2e81220c2489a"
  },
  {
   "metadata": {
    "ExecuteTime": {
     "end_time": "2025-05-06T19:03:02.517352Z",
     "start_time": "2025-05-06T19:03:02.466758Z"
    }
   },
   "cell_type": "code",
   "source": [
    "importlib.reload(comparison)\n",
    "#\n",
    "importlib.reload(comparison)\n",
    "y_train_mean_pred_12m, y_test_mean_pred_12m = comparison.get_train_test_mean_pred(y_train_pred_12m, y_test_pred_12m, len(df.columns))\n",
    "#\n",
    "comparison.generate_plot(df, df_tabular, y_train_mean_pred_12m, y_test_mean_pred_12m)"
   ],
   "id": "fae7b2daecff5839",
   "outputs": [
    {
     "data": {
      "application/vnd.plotly.v1+json": {
       "data": [
        {
         "line": {
          "color": "#5c839f",
          "width": 2
         },
         "mode": "lines",
         "name": "Actual returns",
         "x": [
          "2001-10-01",
          "2001-11-01",
          "2001-12-01",
          "2002-01-01",
          "2002-02-01",
          "2002-03-01",
          "2002-04-01",
          "2002-05-01",
          "2002-06-01",
          "2002-07-01",
          "2002-08-01",
          "2002-09-01",
          "2002-10-01",
          "2002-11-01",
          "2002-12-01",
          "2003-01-01",
          "2003-02-01",
          "2003-03-01",
          "2003-04-01",
          "2003-05-01",
          "2003-06-01",
          "2003-07-01",
          "2003-08-01",
          "2003-09-01",
          "2003-10-01",
          "2003-11-01",
          "2003-12-01",
          "2004-01-01",
          "2004-02-01",
          "2004-03-01",
          "2004-04-01",
          "2004-05-01",
          "2004-06-01",
          "2004-07-01",
          "2004-08-01",
          "2004-09-01",
          "2004-10-01",
          "2004-11-01",
          "2004-12-01",
          "2005-01-01",
          "2005-02-01",
          "2005-03-01",
          "2005-04-01",
          "2005-05-01",
          "2005-06-01",
          "2005-07-01",
          "2005-08-01",
          "2005-09-01",
          "2005-10-01",
          "2005-11-01",
          "2005-12-01",
          "2006-01-01",
          "2006-02-01",
          "2006-03-01",
          "2006-04-01",
          "2006-05-01",
          "2006-06-01",
          "2006-07-01",
          "2006-08-01",
          "2006-09-01",
          "2006-10-01",
          "2006-11-01",
          "2006-12-01",
          "2007-01-01",
          "2007-02-01",
          "2007-03-01",
          "2007-04-01",
          "2007-05-01",
          "2007-06-01",
          "2007-07-01",
          "2007-08-01",
          "2007-09-01",
          "2007-10-01",
          "2007-11-01",
          "2007-12-01",
          "2008-01-01",
          "2008-02-01",
          "2008-03-01",
          "2008-04-01",
          "2008-05-01",
          "2008-06-01",
          "2008-07-01",
          "2008-08-01",
          "2008-09-01",
          "2008-10-01",
          "2008-11-01",
          "2008-12-01",
          "2009-01-01",
          "2009-02-01",
          "2009-03-01",
          "2009-04-01",
          "2009-05-01",
          "2009-06-01",
          "2009-07-01",
          "2009-08-01",
          "2009-09-01",
          "2009-10-01",
          "2009-11-01",
          "2009-12-01",
          "2010-01-01",
          "2010-02-01",
          "2010-03-01",
          "2010-04-01",
          "2010-05-01",
          "2010-06-01",
          "2010-07-01",
          "2010-08-01",
          "2010-09-01",
          "2010-10-01",
          "2010-11-01",
          "2010-12-01",
          "2011-01-01",
          "2011-02-01",
          "2011-03-01",
          "2011-04-01",
          "2011-05-01",
          "2011-06-01",
          "2011-07-01",
          "2011-08-01",
          "2011-09-01",
          "2011-10-01",
          "2011-11-01",
          "2011-12-01",
          "2012-01-01",
          "2012-02-01",
          "2012-03-01",
          "2012-04-01",
          "2012-05-01",
          "2012-06-01",
          "2012-07-01",
          "2012-08-01",
          "2012-09-01",
          "2012-10-01",
          "2012-11-01",
          "2012-12-01",
          "2013-01-01",
          "2013-02-01",
          "2013-03-01",
          "2013-04-01",
          "2013-05-01",
          "2013-06-01",
          "2013-07-01",
          "2013-08-01",
          "2013-09-01",
          "2013-10-01",
          "2013-11-01",
          "2013-12-01",
          "2014-01-01",
          "2014-02-01",
          "2014-03-01",
          "2014-04-01",
          "2014-05-01",
          "2014-06-01",
          "2014-07-01",
          "2014-08-01",
          "2014-09-01",
          "2014-10-01",
          "2014-11-01",
          "2014-12-01",
          "2015-01-01",
          "2015-02-01",
          "2015-03-01",
          "2015-04-01",
          "2015-05-01",
          "2015-06-01",
          "2015-07-01",
          "2015-08-01",
          "2015-09-01",
          "2015-10-01",
          "2015-11-01",
          "2015-12-01",
          "2016-01-01",
          "2016-02-01",
          "2016-03-01",
          "2016-04-01",
          "2016-05-01",
          "2016-06-01",
          "2016-07-01",
          "2016-08-01",
          "2016-09-01",
          "2016-10-01",
          "2016-11-01",
          "2016-12-01",
          "2017-01-01",
          "2017-02-01",
          "2017-03-01",
          "2017-04-01",
          "2017-05-01",
          "2017-06-01",
          "2017-07-01",
          "2017-08-01",
          "2017-09-01",
          "2017-10-01",
          "2017-11-01",
          "2017-12-01",
          "2018-01-01",
          "2018-02-01",
          "2018-03-01",
          "2018-04-01",
          "2018-05-01",
          "2018-06-01",
          "2018-07-01",
          "2018-08-01",
          "2018-09-01",
          "2018-10-01",
          "2018-11-01",
          "2018-12-01",
          "2019-01-01",
          "2019-02-01",
          "2019-03-01",
          "2019-04-01",
          "2019-05-01",
          "2019-06-01",
          "2019-07-01",
          "2019-08-01",
          "2019-09-01",
          "2019-10-01",
          "2019-11-01",
          "2019-12-01",
          "2020-01-01",
          "2020-02-01",
          "2020-03-01",
          "2020-04-01",
          "2020-05-01",
          "2020-06-01",
          "2020-07-01",
          "2020-08-01",
          "2020-09-01",
          "2020-10-01",
          "2020-11-01",
          "2020-12-01",
          "2021-01-01",
          "2021-02-01",
          "2021-03-01",
          "2021-04-01",
          "2021-05-01",
          "2021-06-01",
          "2021-07-01",
          "2021-08-01",
          "2021-09-01",
          "2021-10-01",
          "2021-11-01",
          "2021-12-01",
          "2022-01-01",
          "2022-02-01",
          "2022-03-01",
          "2022-04-01",
          "2022-05-01",
          "2022-06-01",
          "2022-07-01",
          "2022-08-01",
          "2022-09-01",
          "2022-10-01",
          "2022-11-01",
          "2022-12-01",
          "2023-01-01",
          "2023-02-01",
          "2023-03-01",
          "2023-04-01",
          "2023-05-01",
          "2023-06-01",
          "2023-07-01",
          "2023-08-01",
          "2023-09-01",
          "2023-10-01",
          "2023-11-01",
          "2023-12-01",
          "2024-01-01",
          "2024-02-01",
          "2024-03-01",
          "2024-04-01",
          "2024-05-01",
          "2024-06-01",
          "2024-07-01",
          "2024-08-01"
         ],
         "y": [
          1.0255474894131882,
          1.0338354506957042,
          0.9928735632183915,
          5.930568663036899,
          1.0252450090744099,
          0.9939624924379908,
          0.9817483363581374,
          1.0329461584996975,
          0.995238959467635,
          1.0273502722323051,
          0.9906291591046582,
          0.9893103448275887,
          0.9717422867513615,
          1.009407138535994,
          1.0391651542649731,
          0.9689776164549314,
          0.9847489413188154,
          1.065541439806411,
          1.0118451300665472,
          0.9984392014519045,
          0.9735087719298258,
          0.9690865093768933,
          0.9132849364791302,
          1.049927404718691,
          1.0507985480943727,
          1.0158620689655167,
          0.9939322444041161,
          1.0093103448275842,
          1.0507259528130635,
          1.0071022383545045,
          1.0027646702964297,
          0.9519721718088356,
          0.941887477313978,
          0.9874833635813679,
          0.9568905021173627,
          1.007864488808228,
          1.058251663641862,
          0.9664125831820951,
          0.9890199637023619,
          1.00557168784029,
          0.9959830611010301,
          1.0599516031457932,
          1.067005444646095,
          1.034162129461584,
          1.5084513006654547,
          1.0614277071990297,
          1.003823351482154,
          1.0498003629764048,
          1.0042286751361171,
          1.0158499697519638,
          1.0305263157894728,
          1.014156079854809,
          1.046842105263157,
          1.0040834845735018,
          0.9924742891712043,
          1.0346218995765237,
          0.9633877797943164,
          0.9934119782214162,
          1.0055535390199626,
          1.000556563823351,
          1.029316394434359,
          1.0537628554143936,
          1.0064307320024204,
          1.0203811252268578,
          0.9955595886267403,
          0.9733030852994585,
          1.0331457955232881,
          1.021681790683601,
          1.0358136721113096,
          0.9993042952208108,
          1.1286509376890481,
          1.0726013309134903,
          3.2130248033877846,
          1.0215607985480943,
          1.0408166969146992,
          1.0128917120387162,
          1.0275015124016906,
          1.0092075015124011,
          0.9686267392619511,
          0.9991833030852995,
          0.9856866303690264,
          1.0248820326678743,
          1.029751966122199,
          1.0213853599516,
          1.0188808227465205,
          1.0279794313369583,
          1.0368723532970328,
          1.0044404113732615,
          1.0015849969751975,
          1.0188082274652126,
          1.0226194797338144,
          0.9885843920145209,
          0.9759286146400507,
          0.9907501512401706,
          1.0024742891712028,
          1.0255172413793092,
          0.9479370840895369,
          0.9907743496672735,
          0.9420447670901404,
          0.9907199032062937,
          0.986878402903813,
          1.0311494252873556,
          1.0231881427707177,
          0.9375620084694501,
          0.995009074410163,
          1.021578947368421,
          0.9273018753781008,
          0.8458197217180896,
          0.9447489413188133,
          1.0413006654567432,
          0.9497701149425304,
          0.9416515426497283,
          1.0697580157289759,
          1.147616454930428,
          1.0432909860859048,
          1.0350211736237145,
          1.062389594676345,
          1.0552026618269803,
          1.0322746521476094,
          0.9779915305505165,
          1.0015910465819715,
          1.0513793103448243,
          0.9896067755595908,
          1.0185541439806396,
          1.0590381125226815,
          1.044996975196608,
          0.9456261343012754,
          0.9619419237749587,
          1.0388626739261935,
          0.9645856019358788,
          1.0696067755595862,
          1.0163883847549897,
          1.0275862068965496,
          1.0584029038112468,
          1.0119782214156074,
          1.0324803387779755,
          1.0016031457955235,
          1.0198850574712621,
          0.9949969751966145,
          0.9972353297035704,
          0.9830429522081086,
          0.9474712643678187,
          0.9529824561403519,
          1.0689231699939494,
          0.9843375680580785,
          1.0002540834845728,
          1.0593768905021141,
          1.099540229885052,
          1.0263036902601284,
          0.992746521476106,
          0.9427586206896574,
          1.0300241984270984,
          0.9957652752571087,
          1.0196672716273423,
          1.017150635208708,
          1.0012038717483351,
          1.0166848154869905,
          1.0311736237144535,
          1.0607924984875923,
          1.021839080459768,
          1.0406836055656326,
          1.0333696309739857,
          1.0182153660012079,
          0.9905081669691471,
          1.0369933454325433,
          0.9834603750756247,
          1.0512159709618811,
          1.0213430127041703,
          1.023980641258315,
          1.0222807017543813,
          0.9877434966727201,
          1.0288626739261921,
          1.000828796128252,
          0.9851845130066568,
          1.0161161524500884,
          1.030647307924979,
          0.9871445856019373,
          1.0267453115547438,
          0.9894918330308549,
          1.0253115547489382,
          1.0416757410768251,
          1.0141681790683588,
          1.0019419237749558,
          1.0444585601935825,
          1.0097459165154261,
          1.0004113732607376,
          1.0252087114337523,
          0.9903266787658838,
          1.0127888687235311,
          0.9586448880822808,
          0.967985480943743,
          1.062341197822138,
          1.0190018148820301,
          0.9822928009679415,
          0.9491107078039962,
          0.9993587416817915,
          1.0566122202056816,
          1.0004355716878404,
          1.0214095583787006,
          0.9709074410163344,
          1.0535813672111252,
          1.0110102843315192,
          1.0043375680580744,
          0.9848154869933464,
          1.051433756805807,
          1.031548699334537,
          1.0146581972171804,
          1.021845130066541,
          1.0097519661222034,
          1.015595886267388,
          1.0126678765880204,
          1.0131215970961873,
          1.0135692679975774,
          1.0033877797943116,
          1.0308892921960027,
          1.0195220810647267,
          1.0232244404113704,
          1.0114458560193567,
          1.0238173018753747,
          0.9744222625529396,
          0.9966364186327915,
          1.0194797338172972,
          1.026364186327887,
          1.0086327888687228,
          1.017592256503324,
          1.0217725347852393,
          0.9907501512401673,
          0.9365880217785887,
          1.0115124016938861,
          0.9133272837265621,
          1.0914398064125803,
          1.0367513611615211,
          1.0041379310344818,
          1.0430490018148775,
          0.9408227465214783,
          1.0453539019963656,
          1.022123411978219,
          0.9704476709013944,
          1.036944948578337,
          1.0294797338172985,
          1.034730792498484,
          1.0268058076225008,
          0.9897519661222032,
          0.9099153055051471,
          0.8183847549909249,
          1.1260314579552297,
          1.072552934059285,
          1.0304174228675145,
          1.0225710828796137,
          1.0605565638233496,
          0.9945130066545701,
          0.9923290986085953,
          1.158384754990924,
          1.0579612825166305,
          1.0404839685420475,
          1.0537931034482761,
          1.0589292196007205,
          1.0376527525710808,
          1.0213430127041738,
          1.0207562008469433,
          1.003641863278887,
          1.0252873563218365,
          0.9864851784634042,
          1.0300241984270992,
          0.969933454325473,
          1.0402117362371377,
          0.9256805807622545,
          0.9876830006049651,
          1.003230490018147,
          0.9446763460375114,
          1.0007199032062886,
          0.9249425287356333,
          1.0904295220810603,
          0.969298245614038,
          0.901373260738056,
          1.0810284331518427,
          1.0552994555353878,
          0.9577374470659461,
          1.0973321234119766,
          0.9889957652752596,
          0.9799334543254699,
          1.0013188142770684,
          0.9908832425892335,
          1.0624803387779735,
          1.0433393829401019,
          0.9686206896551737,
          0.9597822141560854,
          0.942111312764677,
          1.087713248638834,
          1.0793284936479097,
          0.9853962492437991,
          1.0741379310344819,
          1.0276285541439758,
          0.9559709618874807,
          1.034162129461583,
          0.9932425892317017,
          1.055251058681182,
          0.9971990320629165,
          0.9666787658802267
         ],
         "type": "scatter"
        },
        {
         "line": {
          "color": "red",
          "width": 2
         },
         "mode": "lines",
         "name": "Train returns",
         "x": [
          "2001-10-01",
          "2001-11-01",
          "2001-12-01",
          "2002-01-01",
          "2002-02-01",
          "2002-03-01",
          "2002-04-01",
          "2002-05-01",
          "2002-06-01",
          "2002-07-01",
          "2002-08-01",
          "2002-09-01",
          "2002-10-01",
          "2002-11-01",
          "2002-12-01",
          "2003-01-01",
          "2003-02-01",
          "2003-03-01",
          "2003-04-01",
          "2003-05-01",
          "2003-06-01",
          "2003-07-01",
          "2003-08-01",
          "2003-09-01",
          "2003-10-01",
          "2003-11-01",
          "2003-12-01",
          "2004-01-01",
          "2004-02-01",
          "2004-03-01",
          "2004-04-01",
          "2004-05-01",
          "2004-06-01",
          "2004-07-01",
          "2004-08-01",
          "2004-09-01",
          "2004-10-01",
          "2004-11-01",
          "2004-12-01",
          "2005-01-01",
          "2005-02-01",
          "2005-03-01",
          "2005-04-01",
          "2005-05-01",
          "2005-06-01",
          "2005-07-01",
          "2005-08-01",
          "2005-09-01",
          "2005-10-01",
          "2005-11-01",
          "2005-12-01",
          "2006-01-01",
          "2006-02-01",
          "2006-03-01",
          "2006-04-01",
          "2006-05-01",
          "2006-06-01",
          "2006-07-01",
          "2006-08-01",
          "2006-09-01",
          "2006-10-01",
          "2006-11-01",
          "2006-12-01",
          "2007-01-01",
          "2007-02-01",
          "2007-03-01",
          "2007-04-01",
          "2007-05-01",
          "2007-06-01",
          "2007-07-01",
          "2007-08-01",
          "2007-09-01",
          "2007-10-01",
          "2007-11-01",
          "2007-12-01",
          "2008-01-01",
          "2008-02-01",
          "2008-03-01",
          "2008-04-01",
          "2008-05-01",
          "2008-06-01",
          "2008-07-01",
          "2008-08-01",
          "2008-09-01",
          "2008-10-01",
          "2008-11-01",
          "2008-12-01",
          "2009-01-01",
          "2009-02-01",
          "2009-03-01",
          "2009-04-01",
          "2009-05-01",
          "2009-06-01",
          "2009-07-01",
          "2009-08-01",
          "2009-09-01",
          "2009-10-01",
          "2009-11-01",
          "2009-12-01",
          "2010-01-01",
          "2010-02-01",
          "2010-03-01",
          "2010-04-01",
          "2010-05-01",
          "2010-06-01",
          "2010-07-01",
          "2010-08-01",
          "2010-09-01",
          "2010-10-01",
          "2010-11-01",
          "2010-12-01",
          "2011-01-01",
          "2011-02-01",
          "2011-03-01",
          "2011-04-01",
          "2011-05-01",
          "2011-06-01",
          "2011-07-01",
          "2011-08-01",
          "2011-09-01",
          "2011-10-01",
          "2011-11-01",
          "2011-12-01",
          "2012-01-01",
          "2012-02-01",
          "2012-03-01",
          "2012-04-01",
          "2012-05-01",
          "2012-06-01",
          "2012-07-01",
          "2012-08-01",
          "2012-09-01",
          "2012-10-01",
          "2012-11-01",
          "2012-12-01",
          "2013-01-01",
          "2013-02-01",
          "2013-03-01",
          "2013-04-01",
          "2013-05-01",
          "2013-06-01",
          "2013-07-01",
          "2013-08-01",
          "2013-09-01",
          "2013-10-01",
          "2013-11-01",
          "2013-12-01",
          "2014-01-01",
          "2014-02-01",
          "2014-03-01",
          "2014-04-01",
          "2014-05-01",
          "2014-06-01",
          "2014-07-01",
          "2014-08-01",
          "2014-09-01",
          "2014-10-01",
          "2014-11-01",
          "2014-12-01",
          "2015-01-01",
          "2015-02-01",
          "2015-03-01",
          "2015-04-01",
          "2015-05-01",
          "2015-06-01",
          "2015-07-01",
          "2015-08-01",
          "2015-09-01",
          "2015-10-01",
          "2015-11-01",
          "2015-12-01",
          "2016-01-01",
          "2016-02-01",
          "2016-03-01",
          "2016-04-01",
          "2016-05-01",
          "2016-06-01",
          "2016-07-01",
          "2016-08-01",
          "2016-09-01",
          "2016-10-01",
          "2016-11-01",
          "2016-12-01",
          "2017-01-01",
          "2017-02-01",
          "2017-03-01",
          "2017-04-01",
          "2017-05-01",
          "2017-06-01",
          "2017-07-01",
          "2017-08-01",
          "2017-09-01",
          "2017-10-01",
          "2017-11-01",
          "2017-12-01",
          "2018-01-01",
          "2018-02-01",
          "2018-03-01",
          "2018-04-01",
          "2018-05-01",
          "2018-06-01",
          "2018-07-01",
          "2018-08-01",
          "2018-09-01",
          "2018-10-01",
          "2018-11-01",
          "2018-12-01",
          "2019-01-01",
          "2019-02-01",
          "2019-03-01",
          "2019-04-01",
          "2019-05-01",
          "2019-06-01",
          "2019-07-01",
          "2019-08-01",
          "2019-09-01",
          "2019-10-01",
          "2019-11-01",
          "2019-12-01",
          "2020-01-01",
          "2020-02-01",
          "2020-03-01",
          "2020-04-01",
          "2020-05-01",
          "2020-06-01",
          "2020-07-01",
          "2020-08-01",
          "2020-09-01",
          "2020-10-01",
          "2020-11-01",
          "2020-12-01",
          "2021-01-01",
          "2021-02-01",
          "2021-03-01",
          "2021-04-01",
          "2021-05-01",
          "2021-06-01",
          "2021-07-01",
          "2021-08-01",
          "2021-09-01",
          "2021-10-01",
          "2021-11-01",
          "2021-12-01",
          "2022-01-01",
          "2022-02-01",
          "2022-03-01",
          "2022-04-01",
          "2022-05-01",
          "2022-06-01",
          "2022-07-01",
          "2022-08-01",
          "2022-09-01",
          "2022-10-01",
          "2022-11-01",
          "2022-12-01",
          "2023-01-01",
          "2023-02-01",
          "2023-03-01",
          "2023-04-01",
          "2023-05-01",
          "2023-06-01",
          "2023-07-01",
          "2023-08-01"
         ],
         "y": [
          1.0190500020980835,
          1.0137585401535034,
          1.0107325315475464,
          1.0139412879943848,
          1.0163217782974243,
          1.0200124979019165,
          1.018125057220459,
          1.0173835754394531,
          1.011033296585083,
          1.013551115989685,
          1.0206454992294312,
          1.0132968425750732,
          1.0127174854278564,
          1.0122084617614746,
          1.0172754526138306,
          1.0133168697357178,
          1.0145788192749023,
          1.0155141353607178,
          1.0137114524841309,
          1.014845609664917,
          1.0147606134414673,
          1.0167902708053589,
          1.014479637145996,
          1.0118932723999023,
          1.0195637941360474,
          1.0167021751403809,
          1.021378517150879,
          1.0174847841262817,
          1.0149964094161987,
          1.0142440795898438,
          1.01707923412323,
          1.018469214439392,
          1.0153980255126953,
          1.0145752429962158,
          1.0161609649658203,
          1.0138109922409058,
          1.013295292854309,
          1.0225194692611694,
          1.0112645626068115,
          1.0184040069580078,
          1.0190163850784302,
          1.0159432888031006,
          1.0176833868026733,
          1.0206986665725708,
          1.010998249053955,
          1.0166503190994263,
          1.0132759809494019,
          1.0134984254837036,
          1.0124835968017578,
          1.018303632736206,
          1.018823504447937,
          1.0139349699020386,
          1.018375277519226,
          1.018070936203003,
          1.0171974897384644,
          1.0135540962219238,
          1.0145469903945923,
          1.0137940645217896,
          1.0137258768081665,
          3.629964590072632,
          1.0189061164855957,
          1.0144593715667725,
          1.0123631954193115,
          1.0126217603683472,
          1.0131587982177734,
          1.0219886302947998,
          1.0181173086166382,
          1.0145679712295532,
          1.0174623727798462,
          1.01353120803833,
          1.011779546737671,
          1.014573574066162,
          1.0131497383117676,
          1.0248212814331055,
          1.0188812017440796,
          1.0131144523620605,
          1.0137344598770142,
          1.012597680091858,
          1.0202443599700928,
          1.015197515487671,
          1.013998031616211,
          1.0133949518203735,
          1.0134302377700806,
          1.0142478942871094,
          1.0198354721069336,
          1.0154756307601929,
          1.0189027786254883,
          1.0130313634872437,
          1.0215553045272827,
          1.0153169631958008,
          1.0175968408584595,
          1.0141390562057495,
          1.0183144807815552,
          1.015060305595398,
          1.0092525482177734,
          1.0172250270843506,
          1.012896180152893,
          1.0149645805358887,
          1.015175700187683,
          1.0182312726974487,
          1.0252430438995361,
          1.0171250104904175,
          1.0172946453094482,
          1.0148167610168457,
          1.0106520652770996,
          1.012710690498352,
          1.011142611503601,
          1.0155967473983765,
          1.015620470046997,
          1.0155068635940552,
          1.0135829448699951,
          1.015112042427063,
          1.016904592514038,
          1.0167051553726196,
          1.0162692070007324,
          1.0175869464874268,
          1.0213249921798706,
          1.0142337083816528,
          1.0148894786834717,
          1.016800045967102,
          1.0165787935256958,
          1.0166035890579224,
          1.017850637435913,
          1.0135893821716309,
          1.0167741775512695,
          1.0139861106872559,
          1.0135915279388428,
          1.0152486562728882,
          1.016501784324646,
          1.0153144598007202,
          1.0179983377456665,
          1.0171735286712646,
          1.0161192417144775,
          1.0141634941101074,
          1.0155447721481323,
          1.021458625793457,
          1.018428087234497,
          1.0156373977661133,
          1.0177443027496338,
          1.0134570598602295,
          1.109336256980896,
          1.0290541648864746,
          1.0186530351638794,
          1.0193465948104858,
          1.017945408821106,
          1.0173602104187012,
          1.0161635875701904,
          1.017059087753296,
          1.016746997833252,
          1.0219135284423828,
          1.0174493789672852,
          1.01837158203125,
          1.0138609409332275,
          1.0109907388687134,
          0.9642783999443054,
          1.0103721618652344,
          1.014519214630127,
          1.0154833793640137,
          1.0110785961151123,
          1.016153335571289,
          1.016168236732483,
          1.0132553577423096,
          1.0152969360351562,
          1.0188907384872437,
          1.0161713361740112,
          1.018043875694275,
          1.022307276725769,
          1.01898992061615,
          1.0152668952941895,
          1.0202478170394897,
          1.0101441144943237,
          1.014676809310913,
          1.0184139013290405,
          1.0141263008117676,
          1.018489956855774,
          1.0204331874847412,
          1.0198243856430054,
          1.0137077569961548,
          1.0176533460617065,
          1.0155434608459473,
          1.011877417564392,
          1.0204970836639404,
          1.0098860263824463,
          1.0140528678894043,
          1.0130724906921387,
          1.0178786516189575,
          1.0105396509170532,
          1.0187153816223145,
          1.016964316368103,
          1.0181069374084473,
          1.0117477178573608,
          1.0152475833892822,
          1.015773892402649,
          1.011754035949707,
          1.1162372827529907,
          1.0172767639160156,
          1.0168559551239014,
          1.023303747177124,
          1.0163285732269287,
          1.0201764106750488,
          1.0165250301361084,
          1.013282060623169,
          1.0166856050491333,
          1.0192464590072632,
          1.0158066749572754,
          1.011444330215454,
          1.0145641565322876,
          1.0209221839904785,
          1.0156354904174805,
          1.0125313997268677,
          1.0180838108062744,
          1.015110731124878,
          1.0213855504989624,
          1.01604425907135,
          1.0162113904953003,
          1.0251532793045044,
          1.0222275257110596,
          1.0098260641098022,
          1.0150800943374634,
          1.0145013332366943,
          1.021895408630371,
          1.015173077583313,
          1.010620355606079,
          1.0145964622497559,
          1.0162701606750488,
          1.0138521194458008,
          1.0109456777572632,
          1.0162315368652344,
          1.012090802192688,
          1.012939691543579,
          1.0123040676116943,
          1.0212591886520386,
          1.0129058361053467,
          1.0110483169555664,
          1.013556718826294,
          1.0123701095581055,
          1.0162694454193115,
          1.0150340795516968,
          1.015169620513916,
          1.0163689851760864,
          1.0151832103729248,
          1.0253256559371948,
          1.0193686485290527,
          1.0193613767623901,
          1.0195097923278809,
          1.0131443738937378,
          1.0171458721160889,
          1.0141496658325195,
          1.0872453451156616,
          1.0213546752929688,
          1.0156440734863281,
          1.0125348567962646,
          1.016732096672058,
          1.019603967666626,
          1.011324405670166,
          1.0216914415359497,
          1.0254522562026978,
          1.0175433158874512,
          1.0132715702056885,
          1.017671823501587,
          1.0131553411483765,
          1.011870265007019,
          1.0156232118606567
         ],
         "type": "scatter"
        },
        {
         "line": {
          "color": "green",
          "width": 2
         },
         "mode": "lines",
         "name": "Test returns",
         "x": [
          "2023-08-01",
          "2023-09-01",
          "2023-10-01",
          "2023-11-01",
          "2023-12-01",
          "2024-01-01",
          "2024-02-01",
          "2024-03-01",
          "2024-04-01",
          "2024-05-01",
          "2024-06-01",
          "2024-07-01",
          "2024-08-01"
         ],
         "y": [
          1.0156232118606567,
          1.0079666376113892,
          1.0059447288513184,
          1.0148895978927612,
          1.0064222812652588,
          1.0060774087905884,
          1.0081220865249634,
          1.0077683925628662,
          1.008264422416687,
          1.0162745714187622,
          1.0118987560272217,
          1.0067566633224487,
          1.0082341432571411
         ],
         "type": "scatter"
        }
       ],
       "layout": {
        "template": {
         "data": {
          "barpolar": [
           {
            "marker": {
             "line": {
              "color": "white",
              "width": 0.5
             },
             "pattern": {
              "fillmode": "overlay",
              "size": 10,
              "solidity": 0.2
             }
            },
            "type": "barpolar"
           }
          ],
          "bar": [
           {
            "error_x": {
             "color": "#2a3f5f"
            },
            "error_y": {
             "color": "#2a3f5f"
            },
            "marker": {
             "line": {
              "color": "white",
              "width": 0.5
             },
             "pattern": {
              "fillmode": "overlay",
              "size": 10,
              "solidity": 0.2
             }
            },
            "type": "bar"
           }
          ],
          "carpet": [
           {
            "aaxis": {
             "endlinecolor": "#2a3f5f",
             "gridcolor": "#C8D4E3",
             "linecolor": "#C8D4E3",
             "minorgridcolor": "#C8D4E3",
             "startlinecolor": "#2a3f5f"
            },
            "baxis": {
             "endlinecolor": "#2a3f5f",
             "gridcolor": "#C8D4E3",
             "linecolor": "#C8D4E3",
             "minorgridcolor": "#C8D4E3",
             "startlinecolor": "#2a3f5f"
            },
            "type": "carpet"
           }
          ],
          "choropleth": [
           {
            "colorbar": {
             "outlinewidth": 0,
             "ticks": ""
            },
            "type": "choropleth"
           }
          ],
          "contourcarpet": [
           {
            "colorbar": {
             "outlinewidth": 0,
             "ticks": ""
            },
            "type": "contourcarpet"
           }
          ],
          "contour": [
           {
            "colorbar": {
             "outlinewidth": 0,
             "ticks": ""
            },
            "colorscale": [
             [
              0.0,
              "#0d0887"
             ],
             [
              0.1111111111111111,
              "#46039f"
             ],
             [
              0.2222222222222222,
              "#7201a8"
             ],
             [
              0.3333333333333333,
              "#9c179e"
             ],
             [
              0.4444444444444444,
              "#bd3786"
             ],
             [
              0.5555555555555556,
              "#d8576b"
             ],
             [
              0.6666666666666666,
              "#ed7953"
             ],
             [
              0.7777777777777778,
              "#fb9f3a"
             ],
             [
              0.8888888888888888,
              "#fdca26"
             ],
             [
              1.0,
              "#f0f921"
             ]
            ],
            "type": "contour"
           }
          ],
          "heatmapgl": [
           {
            "colorbar": {
             "outlinewidth": 0,
             "ticks": ""
            },
            "colorscale": [
             [
              0.0,
              "#0d0887"
             ],
             [
              0.1111111111111111,
              "#46039f"
             ],
             [
              0.2222222222222222,
              "#7201a8"
             ],
             [
              0.3333333333333333,
              "#9c179e"
             ],
             [
              0.4444444444444444,
              "#bd3786"
             ],
             [
              0.5555555555555556,
              "#d8576b"
             ],
             [
              0.6666666666666666,
              "#ed7953"
             ],
             [
              0.7777777777777778,
              "#fb9f3a"
             ],
             [
              0.8888888888888888,
              "#fdca26"
             ],
             [
              1.0,
              "#f0f921"
             ]
            ],
            "type": "heatmapgl"
           }
          ],
          "heatmap": [
           {
            "colorbar": {
             "outlinewidth": 0,
             "ticks": ""
            },
            "colorscale": [
             [
              0.0,
              "#0d0887"
             ],
             [
              0.1111111111111111,
              "#46039f"
             ],
             [
              0.2222222222222222,
              "#7201a8"
             ],
             [
              0.3333333333333333,
              "#9c179e"
             ],
             [
              0.4444444444444444,
              "#bd3786"
             ],
             [
              0.5555555555555556,
              "#d8576b"
             ],
             [
              0.6666666666666666,
              "#ed7953"
             ],
             [
              0.7777777777777778,
              "#fb9f3a"
             ],
             [
              0.8888888888888888,
              "#fdca26"
             ],
             [
              1.0,
              "#f0f921"
             ]
            ],
            "type": "heatmap"
           }
          ],
          "histogram2dcontour": [
           {
            "colorbar": {
             "outlinewidth": 0,
             "ticks": ""
            },
            "colorscale": [
             [
              0.0,
              "#0d0887"
             ],
             [
              0.1111111111111111,
              "#46039f"
             ],
             [
              0.2222222222222222,
              "#7201a8"
             ],
             [
              0.3333333333333333,
              "#9c179e"
             ],
             [
              0.4444444444444444,
              "#bd3786"
             ],
             [
              0.5555555555555556,
              "#d8576b"
             ],
             [
              0.6666666666666666,
              "#ed7953"
             ],
             [
              0.7777777777777778,
              "#fb9f3a"
             ],
             [
              0.8888888888888888,
              "#fdca26"
             ],
             [
              1.0,
              "#f0f921"
             ]
            ],
            "type": "histogram2dcontour"
           }
          ],
          "histogram2d": [
           {
            "colorbar": {
             "outlinewidth": 0,
             "ticks": ""
            },
            "colorscale": [
             [
              0.0,
              "#0d0887"
             ],
             [
              0.1111111111111111,
              "#46039f"
             ],
             [
              0.2222222222222222,
              "#7201a8"
             ],
             [
              0.3333333333333333,
              "#9c179e"
             ],
             [
              0.4444444444444444,
              "#bd3786"
             ],
             [
              0.5555555555555556,
              "#d8576b"
             ],
             [
              0.6666666666666666,
              "#ed7953"
             ],
             [
              0.7777777777777778,
              "#fb9f3a"
             ],
             [
              0.8888888888888888,
              "#fdca26"
             ],
             [
              1.0,
              "#f0f921"
             ]
            ],
            "type": "histogram2d"
           }
          ],
          "histogram": [
           {
            "marker": {
             "pattern": {
              "fillmode": "overlay",
              "size": 10,
              "solidity": 0.2
             }
            },
            "type": "histogram"
           }
          ],
          "mesh3d": [
           {
            "colorbar": {
             "outlinewidth": 0,
             "ticks": ""
            },
            "type": "mesh3d"
           }
          ],
          "parcoords": [
           {
            "line": {
             "colorbar": {
              "outlinewidth": 0,
              "ticks": ""
             }
            },
            "type": "parcoords"
           }
          ],
          "pie": [
           {
            "automargin": true,
            "type": "pie"
           }
          ],
          "scatter3d": [
           {
            "line": {
             "colorbar": {
              "outlinewidth": 0,
              "ticks": ""
             }
            },
            "marker": {
             "colorbar": {
              "outlinewidth": 0,
              "ticks": ""
             }
            },
            "type": "scatter3d"
           }
          ],
          "scattercarpet": [
           {
            "marker": {
             "colorbar": {
              "outlinewidth": 0,
              "ticks": ""
             }
            },
            "type": "scattercarpet"
           }
          ],
          "scattergeo": [
           {
            "marker": {
             "colorbar": {
              "outlinewidth": 0,
              "ticks": ""
             }
            },
            "type": "scattergeo"
           }
          ],
          "scattergl": [
           {
            "marker": {
             "colorbar": {
              "outlinewidth": 0,
              "ticks": ""
             }
            },
            "type": "scattergl"
           }
          ],
          "scattermapbox": [
           {
            "marker": {
             "colorbar": {
              "outlinewidth": 0,
              "ticks": ""
             }
            },
            "type": "scattermapbox"
           }
          ],
          "scatterpolargl": [
           {
            "marker": {
             "colorbar": {
              "outlinewidth": 0,
              "ticks": ""
             }
            },
            "type": "scatterpolargl"
           }
          ],
          "scatterpolar": [
           {
            "marker": {
             "colorbar": {
              "outlinewidth": 0,
              "ticks": ""
             }
            },
            "type": "scatterpolar"
           }
          ],
          "scatter": [
           {
            "fillpattern": {
             "fillmode": "overlay",
             "size": 10,
             "solidity": 0.2
            },
            "type": "scatter"
           }
          ],
          "scatterternary": [
           {
            "marker": {
             "colorbar": {
              "outlinewidth": 0,
              "ticks": ""
             }
            },
            "type": "scatterternary"
           }
          ],
          "surface": [
           {
            "colorbar": {
             "outlinewidth": 0,
             "ticks": ""
            },
            "colorscale": [
             [
              0.0,
              "#0d0887"
             ],
             [
              0.1111111111111111,
              "#46039f"
             ],
             [
              0.2222222222222222,
              "#7201a8"
             ],
             [
              0.3333333333333333,
              "#9c179e"
             ],
             [
              0.4444444444444444,
              "#bd3786"
             ],
             [
              0.5555555555555556,
              "#d8576b"
             ],
             [
              0.6666666666666666,
              "#ed7953"
             ],
             [
              0.7777777777777778,
              "#fb9f3a"
             ],
             [
              0.8888888888888888,
              "#fdca26"
             ],
             [
              1.0,
              "#f0f921"
             ]
            ],
            "type": "surface"
           }
          ],
          "table": [
           {
            "cells": {
             "fill": {
              "color": "#EBF0F8"
             },
             "line": {
              "color": "white"
             }
            },
            "header": {
             "fill": {
              "color": "#C8D4E3"
             },
             "line": {
              "color": "white"
             }
            },
            "type": "table"
           }
          ]
         },
         "layout": {
          "annotationdefaults": {
           "arrowcolor": "#2a3f5f",
           "arrowhead": 0,
           "arrowwidth": 1
          },
          "autotypenumbers": "strict",
          "coloraxis": {
           "colorbar": {
            "outlinewidth": 0,
            "ticks": ""
           }
          },
          "colorscale": {
           "diverging": [
            [
             0,
             "#8e0152"
            ],
            [
             0.1,
             "#c51b7d"
            ],
            [
             0.2,
             "#de77ae"
            ],
            [
             0.3,
             "#f1b6da"
            ],
            [
             0.4,
             "#fde0ef"
            ],
            [
             0.5,
             "#f7f7f7"
            ],
            [
             0.6,
             "#e6f5d0"
            ],
            [
             0.7,
             "#b8e186"
            ],
            [
             0.8,
             "#7fbc41"
            ],
            [
             0.9,
             "#4d9221"
            ],
            [
             1,
             "#276419"
            ]
           ],
           "sequential": [
            [
             0.0,
             "#0d0887"
            ],
            [
             0.1111111111111111,
             "#46039f"
            ],
            [
             0.2222222222222222,
             "#7201a8"
            ],
            [
             0.3333333333333333,
             "#9c179e"
            ],
            [
             0.4444444444444444,
             "#bd3786"
            ],
            [
             0.5555555555555556,
             "#d8576b"
            ],
            [
             0.6666666666666666,
             "#ed7953"
            ],
            [
             0.7777777777777778,
             "#fb9f3a"
            ],
            [
             0.8888888888888888,
             "#fdca26"
            ],
            [
             1.0,
             "#f0f921"
            ]
           ],
           "sequentialminus": [
            [
             0.0,
             "#0d0887"
            ],
            [
             0.1111111111111111,
             "#46039f"
            ],
            [
             0.2222222222222222,
             "#7201a8"
            ],
            [
             0.3333333333333333,
             "#9c179e"
            ],
            [
             0.4444444444444444,
             "#bd3786"
            ],
            [
             0.5555555555555556,
             "#d8576b"
            ],
            [
             0.6666666666666666,
             "#ed7953"
            ],
            [
             0.7777777777777778,
             "#fb9f3a"
            ],
            [
             0.8888888888888888,
             "#fdca26"
            ],
            [
             1.0,
             "#f0f921"
            ]
           ]
          },
          "colorway": [
           "#636efa",
           "#EF553B",
           "#00cc96",
           "#ab63fa",
           "#FFA15A",
           "#19d3f3",
           "#FF6692",
           "#B6E880",
           "#FF97FF",
           "#FECB52"
          ],
          "font": {
           "color": "#2a3f5f"
          },
          "geo": {
           "bgcolor": "white",
           "lakecolor": "white",
           "landcolor": "white",
           "showlakes": true,
           "showland": true,
           "subunitcolor": "#C8D4E3"
          },
          "hoverlabel": {
           "align": "left"
          },
          "hovermode": "closest",
          "mapbox": {
           "style": "light"
          },
          "paper_bgcolor": "white",
          "plot_bgcolor": "white",
          "polar": {
           "angularaxis": {
            "gridcolor": "#EBF0F8",
            "linecolor": "#EBF0F8",
            "ticks": ""
           },
           "bgcolor": "white",
           "radialaxis": {
            "gridcolor": "#EBF0F8",
            "linecolor": "#EBF0F8",
            "ticks": ""
           }
          },
          "scene": {
           "xaxis": {
            "backgroundcolor": "white",
            "gridcolor": "#DFE8F3",
            "gridwidth": 2,
            "linecolor": "#EBF0F8",
            "showbackground": true,
            "ticks": "",
            "zerolinecolor": "#EBF0F8"
           },
           "yaxis": {
            "backgroundcolor": "white",
            "gridcolor": "#DFE8F3",
            "gridwidth": 2,
            "linecolor": "#EBF0F8",
            "showbackground": true,
            "ticks": "",
            "zerolinecolor": "#EBF0F8"
           },
           "zaxis": {
            "backgroundcolor": "white",
            "gridcolor": "#DFE8F3",
            "gridwidth": 2,
            "linecolor": "#EBF0F8",
            "showbackground": true,
            "ticks": "",
            "zerolinecolor": "#EBF0F8"
           }
          },
          "shapedefaults": {
           "line": {
            "color": "#2a3f5f"
           }
          },
          "ternary": {
           "aaxis": {
            "gridcolor": "#DFE8F3",
            "linecolor": "#A2B1C6",
            "ticks": ""
           },
           "baxis": {
            "gridcolor": "#DFE8F3",
            "linecolor": "#A2B1C6",
            "ticks": ""
           },
           "bgcolor": "white",
           "caxis": {
            "gridcolor": "#DFE8F3",
            "linecolor": "#A2B1C6",
            "ticks": ""
           }
          },
          "title": {
           "x": 0.05
          },
          "xaxis": {
           "automargin": true,
           "gridcolor": "#EBF0F8",
           "linecolor": "#EBF0F8",
           "ticks": "",
           "title": {
            "standoff": 15
           },
           "zerolinecolor": "#EBF0F8",
           "zerolinewidth": 2
          },
          "yaxis": {
           "automargin": true,
           "gridcolor": "#EBF0F8",
           "linecolor": "#EBF0F8",
           "ticks": "",
           "title": {
            "standoff": 15
           },
           "zerolinecolor": "#EBF0F8",
           "zerolinewidth": 2
          }
         }
        },
        "shapes": [
         {
          "line": {
           "color": "red",
           "dash": "dash",
           "width": 1
          },
          "type": "line",
          "x0": "2023-08-01",
          "x1": "2023-08-01",
          "xref": "x",
          "y0": 0,
          "y1": 1,
          "yref": "y domain"
         }
        ],
        "yaxis": {
         "title": {
          "text": "Day closing return (%)"
         },
         "tickformat": ".0%",
         "range": [
          0.75,
          1.6
         ]
        },
        "title": {
         "text": "12 Month Prediction vs Actual Plot"
        },
        "xaxis": {
         "title": {
          "text": "Date"
         }
        },
        "legend": {
         "title": {
          "text": "Legend"
         }
        }
       },
       "config": {
        "plotlyServerURL": "https://plot.ly"
       }
      },
      "text/html": [
       "<div>                            <div id=\"4edb2855-5b8c-4248-99f0-65bc2c648fde\" class=\"plotly-graph-div\" style=\"height:525px; width:100%;\"></div>            <script type=\"text/javascript\">                require([\"plotly\"], function(Plotly) {                    window.PLOTLYENV=window.PLOTLYENV || {};                                    if (document.getElementById(\"4edb2855-5b8c-4248-99f0-65bc2c648fde\")) {                    Plotly.newPlot(                        \"4edb2855-5b8c-4248-99f0-65bc2c648fde\",                        [{\"line\":{\"color\":\"#5c839f\",\"width\":2},\"mode\":\"lines\",\"name\":\"Actual returns\",\"x\":[\"2001-10-01\",\"2001-11-01\",\"2001-12-01\",\"2002-01-01\",\"2002-02-01\",\"2002-03-01\",\"2002-04-01\",\"2002-05-01\",\"2002-06-01\",\"2002-07-01\",\"2002-08-01\",\"2002-09-01\",\"2002-10-01\",\"2002-11-01\",\"2002-12-01\",\"2003-01-01\",\"2003-02-01\",\"2003-03-01\",\"2003-04-01\",\"2003-05-01\",\"2003-06-01\",\"2003-07-01\",\"2003-08-01\",\"2003-09-01\",\"2003-10-01\",\"2003-11-01\",\"2003-12-01\",\"2004-01-01\",\"2004-02-01\",\"2004-03-01\",\"2004-04-01\",\"2004-05-01\",\"2004-06-01\",\"2004-07-01\",\"2004-08-01\",\"2004-09-01\",\"2004-10-01\",\"2004-11-01\",\"2004-12-01\",\"2005-01-01\",\"2005-02-01\",\"2005-03-01\",\"2005-04-01\",\"2005-05-01\",\"2005-06-01\",\"2005-07-01\",\"2005-08-01\",\"2005-09-01\",\"2005-10-01\",\"2005-11-01\",\"2005-12-01\",\"2006-01-01\",\"2006-02-01\",\"2006-03-01\",\"2006-04-01\",\"2006-05-01\",\"2006-06-01\",\"2006-07-01\",\"2006-08-01\",\"2006-09-01\",\"2006-10-01\",\"2006-11-01\",\"2006-12-01\",\"2007-01-01\",\"2007-02-01\",\"2007-03-01\",\"2007-04-01\",\"2007-05-01\",\"2007-06-01\",\"2007-07-01\",\"2007-08-01\",\"2007-09-01\",\"2007-10-01\",\"2007-11-01\",\"2007-12-01\",\"2008-01-01\",\"2008-02-01\",\"2008-03-01\",\"2008-04-01\",\"2008-05-01\",\"2008-06-01\",\"2008-07-01\",\"2008-08-01\",\"2008-09-01\",\"2008-10-01\",\"2008-11-01\",\"2008-12-01\",\"2009-01-01\",\"2009-02-01\",\"2009-03-01\",\"2009-04-01\",\"2009-05-01\",\"2009-06-01\",\"2009-07-01\",\"2009-08-01\",\"2009-09-01\",\"2009-10-01\",\"2009-11-01\",\"2009-12-01\",\"2010-01-01\",\"2010-02-01\",\"2010-03-01\",\"2010-04-01\",\"2010-05-01\",\"2010-06-01\",\"2010-07-01\",\"2010-08-01\",\"2010-09-01\",\"2010-10-01\",\"2010-11-01\",\"2010-12-01\",\"2011-01-01\",\"2011-02-01\",\"2011-03-01\",\"2011-04-01\",\"2011-05-01\",\"2011-06-01\",\"2011-07-01\",\"2011-08-01\",\"2011-09-01\",\"2011-10-01\",\"2011-11-01\",\"2011-12-01\",\"2012-01-01\",\"2012-02-01\",\"2012-03-01\",\"2012-04-01\",\"2012-05-01\",\"2012-06-01\",\"2012-07-01\",\"2012-08-01\",\"2012-09-01\",\"2012-10-01\",\"2012-11-01\",\"2012-12-01\",\"2013-01-01\",\"2013-02-01\",\"2013-03-01\",\"2013-04-01\",\"2013-05-01\",\"2013-06-01\",\"2013-07-01\",\"2013-08-01\",\"2013-09-01\",\"2013-10-01\",\"2013-11-01\",\"2013-12-01\",\"2014-01-01\",\"2014-02-01\",\"2014-03-01\",\"2014-04-01\",\"2014-05-01\",\"2014-06-01\",\"2014-07-01\",\"2014-08-01\",\"2014-09-01\",\"2014-10-01\",\"2014-11-01\",\"2014-12-01\",\"2015-01-01\",\"2015-02-01\",\"2015-03-01\",\"2015-04-01\",\"2015-05-01\",\"2015-06-01\",\"2015-07-01\",\"2015-08-01\",\"2015-09-01\",\"2015-10-01\",\"2015-11-01\",\"2015-12-01\",\"2016-01-01\",\"2016-02-01\",\"2016-03-01\",\"2016-04-01\",\"2016-05-01\",\"2016-06-01\",\"2016-07-01\",\"2016-08-01\",\"2016-09-01\",\"2016-10-01\",\"2016-11-01\",\"2016-12-01\",\"2017-01-01\",\"2017-02-01\",\"2017-03-01\",\"2017-04-01\",\"2017-05-01\",\"2017-06-01\",\"2017-07-01\",\"2017-08-01\",\"2017-09-01\",\"2017-10-01\",\"2017-11-01\",\"2017-12-01\",\"2018-01-01\",\"2018-02-01\",\"2018-03-01\",\"2018-04-01\",\"2018-05-01\",\"2018-06-01\",\"2018-07-01\",\"2018-08-01\",\"2018-09-01\",\"2018-10-01\",\"2018-11-01\",\"2018-12-01\",\"2019-01-01\",\"2019-02-01\",\"2019-03-01\",\"2019-04-01\",\"2019-05-01\",\"2019-06-01\",\"2019-07-01\",\"2019-08-01\",\"2019-09-01\",\"2019-10-01\",\"2019-11-01\",\"2019-12-01\",\"2020-01-01\",\"2020-02-01\",\"2020-03-01\",\"2020-04-01\",\"2020-05-01\",\"2020-06-01\",\"2020-07-01\",\"2020-08-01\",\"2020-09-01\",\"2020-10-01\",\"2020-11-01\",\"2020-12-01\",\"2021-01-01\",\"2021-02-01\",\"2021-03-01\",\"2021-04-01\",\"2021-05-01\",\"2021-06-01\",\"2021-07-01\",\"2021-08-01\",\"2021-09-01\",\"2021-10-01\",\"2021-11-01\",\"2021-12-01\",\"2022-01-01\",\"2022-02-01\",\"2022-03-01\",\"2022-04-01\",\"2022-05-01\",\"2022-06-01\",\"2022-07-01\",\"2022-08-01\",\"2022-09-01\",\"2022-10-01\",\"2022-11-01\",\"2022-12-01\",\"2023-01-01\",\"2023-02-01\",\"2023-03-01\",\"2023-04-01\",\"2023-05-01\",\"2023-06-01\",\"2023-07-01\",\"2023-08-01\",\"2023-09-01\",\"2023-10-01\",\"2023-11-01\",\"2023-12-01\",\"2024-01-01\",\"2024-02-01\",\"2024-03-01\",\"2024-04-01\",\"2024-05-01\",\"2024-06-01\",\"2024-07-01\",\"2024-08-01\"],\"y\":[1.0255474894131882,1.0338354506957042,0.9928735632183915,5.930568663036899,1.0252450090744099,0.9939624924379908,0.9817483363581374,1.0329461584996975,0.995238959467635,1.0273502722323051,0.9906291591046582,0.9893103448275887,0.9717422867513615,1.009407138535994,1.0391651542649731,0.9689776164549314,0.9847489413188154,1.065541439806411,1.0118451300665472,0.9984392014519045,0.9735087719298258,0.9690865093768933,0.9132849364791302,1.049927404718691,1.0507985480943727,1.0158620689655167,0.9939322444041161,1.0093103448275842,1.0507259528130635,1.0071022383545045,1.0027646702964297,0.9519721718088356,0.941887477313978,0.9874833635813679,0.9568905021173627,1.007864488808228,1.058251663641862,0.9664125831820951,0.9890199637023619,1.00557168784029,0.9959830611010301,1.0599516031457932,1.067005444646095,1.034162129461584,1.5084513006654547,1.0614277071990297,1.003823351482154,1.0498003629764048,1.0042286751361171,1.0158499697519638,1.0305263157894728,1.014156079854809,1.046842105263157,1.0040834845735018,0.9924742891712043,1.0346218995765237,0.9633877797943164,0.9934119782214162,1.0055535390199626,1.000556563823351,1.029316394434359,1.0537628554143936,1.0064307320024204,1.0203811252268578,0.9955595886267403,0.9733030852994585,1.0331457955232881,1.021681790683601,1.0358136721113096,0.9993042952208108,1.1286509376890481,1.0726013309134903,3.2130248033877846,1.0215607985480943,1.0408166969146992,1.0128917120387162,1.0275015124016906,1.0092075015124011,0.9686267392619511,0.9991833030852995,0.9856866303690264,1.0248820326678743,1.029751966122199,1.0213853599516,1.0188808227465205,1.0279794313369583,1.0368723532970328,1.0044404113732615,1.0015849969751975,1.0188082274652126,1.0226194797338144,0.9885843920145209,0.9759286146400507,0.9907501512401706,1.0024742891712028,1.0255172413793092,0.9479370840895369,0.9907743496672735,0.9420447670901404,0.9907199032062937,0.986878402903813,1.0311494252873556,1.0231881427707177,0.9375620084694501,0.995009074410163,1.021578947368421,0.9273018753781008,0.8458197217180896,0.9447489413188133,1.0413006654567432,0.9497701149425304,0.9416515426497283,1.0697580157289759,1.147616454930428,1.0432909860859048,1.0350211736237145,1.062389594676345,1.0552026618269803,1.0322746521476094,0.9779915305505165,1.0015910465819715,1.0513793103448243,0.9896067755595908,1.0185541439806396,1.0590381125226815,1.044996975196608,0.9456261343012754,0.9619419237749587,1.0388626739261935,0.9645856019358788,1.0696067755595862,1.0163883847549897,1.0275862068965496,1.0584029038112468,1.0119782214156074,1.0324803387779755,1.0016031457955235,1.0198850574712621,0.9949969751966145,0.9972353297035704,0.9830429522081086,0.9474712643678187,0.9529824561403519,1.0689231699939494,0.9843375680580785,1.0002540834845728,1.0593768905021141,1.099540229885052,1.0263036902601284,0.992746521476106,0.9427586206896574,1.0300241984270984,0.9957652752571087,1.0196672716273423,1.017150635208708,1.0012038717483351,1.0166848154869905,1.0311736237144535,1.0607924984875923,1.021839080459768,1.0406836055656326,1.0333696309739857,1.0182153660012079,0.9905081669691471,1.0369933454325433,0.9834603750756247,1.0512159709618811,1.0213430127041703,1.023980641258315,1.0222807017543813,0.9877434966727201,1.0288626739261921,1.000828796128252,0.9851845130066568,1.0161161524500884,1.030647307924979,0.9871445856019373,1.0267453115547438,0.9894918330308549,1.0253115547489382,1.0416757410768251,1.0141681790683588,1.0019419237749558,1.0444585601935825,1.0097459165154261,1.0004113732607376,1.0252087114337523,0.9903266787658838,1.0127888687235311,0.9586448880822808,0.967985480943743,1.062341197822138,1.0190018148820301,0.9822928009679415,0.9491107078039962,0.9993587416817915,1.0566122202056816,1.0004355716878404,1.0214095583787006,0.9709074410163344,1.0535813672111252,1.0110102843315192,1.0043375680580744,0.9848154869933464,1.051433756805807,1.031548699334537,1.0146581972171804,1.021845130066541,1.0097519661222034,1.015595886267388,1.0126678765880204,1.0131215970961873,1.0135692679975774,1.0033877797943116,1.0308892921960027,1.0195220810647267,1.0232244404113704,1.0114458560193567,1.0238173018753747,0.9744222625529396,0.9966364186327915,1.0194797338172972,1.026364186327887,1.0086327888687228,1.017592256503324,1.0217725347852393,0.9907501512401673,0.9365880217785887,1.0115124016938861,0.9133272837265621,1.0914398064125803,1.0367513611615211,1.0041379310344818,1.0430490018148775,0.9408227465214783,1.0453539019963656,1.022123411978219,0.9704476709013944,1.036944948578337,1.0294797338172985,1.034730792498484,1.0268058076225008,0.9897519661222032,0.9099153055051471,0.8183847549909249,1.1260314579552297,1.072552934059285,1.0304174228675145,1.0225710828796137,1.0605565638233496,0.9945130066545701,0.9923290986085953,1.158384754990924,1.0579612825166305,1.0404839685420475,1.0537931034482761,1.0589292196007205,1.0376527525710808,1.0213430127041738,1.0207562008469433,1.003641863278887,1.0252873563218365,0.9864851784634042,1.0300241984270992,0.969933454325473,1.0402117362371377,0.9256805807622545,0.9876830006049651,1.003230490018147,0.9446763460375114,1.0007199032062886,0.9249425287356333,1.0904295220810603,0.969298245614038,0.901373260738056,1.0810284331518427,1.0552994555353878,0.9577374470659461,1.0973321234119766,0.9889957652752596,0.9799334543254699,1.0013188142770684,0.9908832425892335,1.0624803387779735,1.0433393829401019,0.9686206896551737,0.9597822141560854,0.942111312764677,1.087713248638834,1.0793284936479097,0.9853962492437991,1.0741379310344819,1.0276285541439758,0.9559709618874807,1.034162129461583,0.9932425892317017,1.055251058681182,0.9971990320629165,0.9666787658802267],\"type\":\"scatter\"},{\"line\":{\"color\":\"red\",\"width\":2},\"mode\":\"lines\",\"name\":\"Train returns\",\"x\":[\"2001-10-01\",\"2001-11-01\",\"2001-12-01\",\"2002-01-01\",\"2002-02-01\",\"2002-03-01\",\"2002-04-01\",\"2002-05-01\",\"2002-06-01\",\"2002-07-01\",\"2002-08-01\",\"2002-09-01\",\"2002-10-01\",\"2002-11-01\",\"2002-12-01\",\"2003-01-01\",\"2003-02-01\",\"2003-03-01\",\"2003-04-01\",\"2003-05-01\",\"2003-06-01\",\"2003-07-01\",\"2003-08-01\",\"2003-09-01\",\"2003-10-01\",\"2003-11-01\",\"2003-12-01\",\"2004-01-01\",\"2004-02-01\",\"2004-03-01\",\"2004-04-01\",\"2004-05-01\",\"2004-06-01\",\"2004-07-01\",\"2004-08-01\",\"2004-09-01\",\"2004-10-01\",\"2004-11-01\",\"2004-12-01\",\"2005-01-01\",\"2005-02-01\",\"2005-03-01\",\"2005-04-01\",\"2005-05-01\",\"2005-06-01\",\"2005-07-01\",\"2005-08-01\",\"2005-09-01\",\"2005-10-01\",\"2005-11-01\",\"2005-12-01\",\"2006-01-01\",\"2006-02-01\",\"2006-03-01\",\"2006-04-01\",\"2006-05-01\",\"2006-06-01\",\"2006-07-01\",\"2006-08-01\",\"2006-09-01\",\"2006-10-01\",\"2006-11-01\",\"2006-12-01\",\"2007-01-01\",\"2007-02-01\",\"2007-03-01\",\"2007-04-01\",\"2007-05-01\",\"2007-06-01\",\"2007-07-01\",\"2007-08-01\",\"2007-09-01\",\"2007-10-01\",\"2007-11-01\",\"2007-12-01\",\"2008-01-01\",\"2008-02-01\",\"2008-03-01\",\"2008-04-01\",\"2008-05-01\",\"2008-06-01\",\"2008-07-01\",\"2008-08-01\",\"2008-09-01\",\"2008-10-01\",\"2008-11-01\",\"2008-12-01\",\"2009-01-01\",\"2009-02-01\",\"2009-03-01\",\"2009-04-01\",\"2009-05-01\",\"2009-06-01\",\"2009-07-01\",\"2009-08-01\",\"2009-09-01\",\"2009-10-01\",\"2009-11-01\",\"2009-12-01\",\"2010-01-01\",\"2010-02-01\",\"2010-03-01\",\"2010-04-01\",\"2010-05-01\",\"2010-06-01\",\"2010-07-01\",\"2010-08-01\",\"2010-09-01\",\"2010-10-01\",\"2010-11-01\",\"2010-12-01\",\"2011-01-01\",\"2011-02-01\",\"2011-03-01\",\"2011-04-01\",\"2011-05-01\",\"2011-06-01\",\"2011-07-01\",\"2011-08-01\",\"2011-09-01\",\"2011-10-01\",\"2011-11-01\",\"2011-12-01\",\"2012-01-01\",\"2012-02-01\",\"2012-03-01\",\"2012-04-01\",\"2012-05-01\",\"2012-06-01\",\"2012-07-01\",\"2012-08-01\",\"2012-09-01\",\"2012-10-01\",\"2012-11-01\",\"2012-12-01\",\"2013-01-01\",\"2013-02-01\",\"2013-03-01\",\"2013-04-01\",\"2013-05-01\",\"2013-06-01\",\"2013-07-01\",\"2013-08-01\",\"2013-09-01\",\"2013-10-01\",\"2013-11-01\",\"2013-12-01\",\"2014-01-01\",\"2014-02-01\",\"2014-03-01\",\"2014-04-01\",\"2014-05-01\",\"2014-06-01\",\"2014-07-01\",\"2014-08-01\",\"2014-09-01\",\"2014-10-01\",\"2014-11-01\",\"2014-12-01\",\"2015-01-01\",\"2015-02-01\",\"2015-03-01\",\"2015-04-01\",\"2015-05-01\",\"2015-06-01\",\"2015-07-01\",\"2015-08-01\",\"2015-09-01\",\"2015-10-01\",\"2015-11-01\",\"2015-12-01\",\"2016-01-01\",\"2016-02-01\",\"2016-03-01\",\"2016-04-01\",\"2016-05-01\",\"2016-06-01\",\"2016-07-01\",\"2016-08-01\",\"2016-09-01\",\"2016-10-01\",\"2016-11-01\",\"2016-12-01\",\"2017-01-01\",\"2017-02-01\",\"2017-03-01\",\"2017-04-01\",\"2017-05-01\",\"2017-06-01\",\"2017-07-01\",\"2017-08-01\",\"2017-09-01\",\"2017-10-01\",\"2017-11-01\",\"2017-12-01\",\"2018-01-01\",\"2018-02-01\",\"2018-03-01\",\"2018-04-01\",\"2018-05-01\",\"2018-06-01\",\"2018-07-01\",\"2018-08-01\",\"2018-09-01\",\"2018-10-01\",\"2018-11-01\",\"2018-12-01\",\"2019-01-01\",\"2019-02-01\",\"2019-03-01\",\"2019-04-01\",\"2019-05-01\",\"2019-06-01\",\"2019-07-01\",\"2019-08-01\",\"2019-09-01\",\"2019-10-01\",\"2019-11-01\",\"2019-12-01\",\"2020-01-01\",\"2020-02-01\",\"2020-03-01\",\"2020-04-01\",\"2020-05-01\",\"2020-06-01\",\"2020-07-01\",\"2020-08-01\",\"2020-09-01\",\"2020-10-01\",\"2020-11-01\",\"2020-12-01\",\"2021-01-01\",\"2021-02-01\",\"2021-03-01\",\"2021-04-01\",\"2021-05-01\",\"2021-06-01\",\"2021-07-01\",\"2021-08-01\",\"2021-09-01\",\"2021-10-01\",\"2021-11-01\",\"2021-12-01\",\"2022-01-01\",\"2022-02-01\",\"2022-03-01\",\"2022-04-01\",\"2022-05-01\",\"2022-06-01\",\"2022-07-01\",\"2022-08-01\",\"2022-09-01\",\"2022-10-01\",\"2022-11-01\",\"2022-12-01\",\"2023-01-01\",\"2023-02-01\",\"2023-03-01\",\"2023-04-01\",\"2023-05-01\",\"2023-06-01\",\"2023-07-01\",\"2023-08-01\"],\"y\":[1.0190500020980835,1.0137585401535034,1.0107325315475464,1.0139412879943848,1.0163217782974243,1.0200124979019165,1.018125057220459,1.0173835754394531,1.011033296585083,1.013551115989685,1.0206454992294312,1.0132968425750732,1.0127174854278564,1.0122084617614746,1.0172754526138306,1.0133168697357178,1.0145788192749023,1.0155141353607178,1.0137114524841309,1.014845609664917,1.0147606134414673,1.0167902708053589,1.014479637145996,1.0118932723999023,1.0195637941360474,1.0167021751403809,1.021378517150879,1.0174847841262817,1.0149964094161987,1.0142440795898438,1.01707923412323,1.018469214439392,1.0153980255126953,1.0145752429962158,1.0161609649658203,1.0138109922409058,1.013295292854309,1.0225194692611694,1.0112645626068115,1.0184040069580078,1.0190163850784302,1.0159432888031006,1.0176833868026733,1.0206986665725708,1.010998249053955,1.0166503190994263,1.0132759809494019,1.0134984254837036,1.0124835968017578,1.018303632736206,1.018823504447937,1.0139349699020386,1.018375277519226,1.018070936203003,1.0171974897384644,1.0135540962219238,1.0145469903945923,1.0137940645217896,1.0137258768081665,3.629964590072632,1.0189061164855957,1.0144593715667725,1.0123631954193115,1.0126217603683472,1.0131587982177734,1.0219886302947998,1.0181173086166382,1.0145679712295532,1.0174623727798462,1.01353120803833,1.011779546737671,1.014573574066162,1.0131497383117676,1.0248212814331055,1.0188812017440796,1.0131144523620605,1.0137344598770142,1.012597680091858,1.0202443599700928,1.015197515487671,1.013998031616211,1.0133949518203735,1.0134302377700806,1.0142478942871094,1.0198354721069336,1.0154756307601929,1.0189027786254883,1.0130313634872437,1.0215553045272827,1.0153169631958008,1.0175968408584595,1.0141390562057495,1.0183144807815552,1.015060305595398,1.0092525482177734,1.0172250270843506,1.012896180152893,1.0149645805358887,1.015175700187683,1.0182312726974487,1.0252430438995361,1.0171250104904175,1.0172946453094482,1.0148167610168457,1.0106520652770996,1.012710690498352,1.011142611503601,1.0155967473983765,1.015620470046997,1.0155068635940552,1.0135829448699951,1.015112042427063,1.016904592514038,1.0167051553726196,1.0162692070007324,1.0175869464874268,1.0213249921798706,1.0142337083816528,1.0148894786834717,1.016800045967102,1.0165787935256958,1.0166035890579224,1.017850637435913,1.0135893821716309,1.0167741775512695,1.0139861106872559,1.0135915279388428,1.0152486562728882,1.016501784324646,1.0153144598007202,1.0179983377456665,1.0171735286712646,1.0161192417144775,1.0141634941101074,1.0155447721481323,1.021458625793457,1.018428087234497,1.0156373977661133,1.0177443027496338,1.0134570598602295,1.109336256980896,1.0290541648864746,1.0186530351638794,1.0193465948104858,1.017945408821106,1.0173602104187012,1.0161635875701904,1.017059087753296,1.016746997833252,1.0219135284423828,1.0174493789672852,1.01837158203125,1.0138609409332275,1.0109907388687134,0.9642783999443054,1.0103721618652344,1.014519214630127,1.0154833793640137,1.0110785961151123,1.016153335571289,1.016168236732483,1.0132553577423096,1.0152969360351562,1.0188907384872437,1.0161713361740112,1.018043875694275,1.022307276725769,1.01898992061615,1.0152668952941895,1.0202478170394897,1.0101441144943237,1.014676809310913,1.0184139013290405,1.0141263008117676,1.018489956855774,1.0204331874847412,1.0198243856430054,1.0137077569961548,1.0176533460617065,1.0155434608459473,1.011877417564392,1.0204970836639404,1.0098860263824463,1.0140528678894043,1.0130724906921387,1.0178786516189575,1.0105396509170532,1.0187153816223145,1.016964316368103,1.0181069374084473,1.0117477178573608,1.0152475833892822,1.015773892402649,1.011754035949707,1.1162372827529907,1.0172767639160156,1.0168559551239014,1.023303747177124,1.0163285732269287,1.0201764106750488,1.0165250301361084,1.013282060623169,1.0166856050491333,1.0192464590072632,1.0158066749572754,1.011444330215454,1.0145641565322876,1.0209221839904785,1.0156354904174805,1.0125313997268677,1.0180838108062744,1.015110731124878,1.0213855504989624,1.01604425907135,1.0162113904953003,1.0251532793045044,1.0222275257110596,1.0098260641098022,1.0150800943374634,1.0145013332366943,1.021895408630371,1.015173077583313,1.010620355606079,1.0145964622497559,1.0162701606750488,1.0138521194458008,1.0109456777572632,1.0162315368652344,1.012090802192688,1.012939691543579,1.0123040676116943,1.0212591886520386,1.0129058361053467,1.0110483169555664,1.013556718826294,1.0123701095581055,1.0162694454193115,1.0150340795516968,1.015169620513916,1.0163689851760864,1.0151832103729248,1.0253256559371948,1.0193686485290527,1.0193613767623901,1.0195097923278809,1.0131443738937378,1.0171458721160889,1.0141496658325195,1.0872453451156616,1.0213546752929688,1.0156440734863281,1.0125348567962646,1.016732096672058,1.019603967666626,1.011324405670166,1.0216914415359497,1.0254522562026978,1.0175433158874512,1.0132715702056885,1.017671823501587,1.0131553411483765,1.011870265007019,1.0156232118606567],\"type\":\"scatter\"},{\"line\":{\"color\":\"green\",\"width\":2},\"mode\":\"lines\",\"name\":\"Test returns\",\"x\":[\"2023-08-01\",\"2023-09-01\",\"2023-10-01\",\"2023-11-01\",\"2023-12-01\",\"2024-01-01\",\"2024-02-01\",\"2024-03-01\",\"2024-04-01\",\"2024-05-01\",\"2024-06-01\",\"2024-07-01\",\"2024-08-01\"],\"y\":[1.0156232118606567,1.0079666376113892,1.0059447288513184,1.0148895978927612,1.0064222812652588,1.0060774087905884,1.0081220865249634,1.0077683925628662,1.008264422416687,1.0162745714187622,1.0118987560272217,1.0067566633224487,1.0082341432571411],\"type\":\"scatter\"}],                        {\"template\":{\"data\":{\"barpolar\":[{\"marker\":{\"line\":{\"color\":\"white\",\"width\":0.5},\"pattern\":{\"fillmode\":\"overlay\",\"size\":10,\"solidity\":0.2}},\"type\":\"barpolar\"}],\"bar\":[{\"error_x\":{\"color\":\"#2a3f5f\"},\"error_y\":{\"color\":\"#2a3f5f\"},\"marker\":{\"line\":{\"color\":\"white\",\"width\":0.5},\"pattern\":{\"fillmode\":\"overlay\",\"size\":10,\"solidity\":0.2}},\"type\":\"bar\"}],\"carpet\":[{\"aaxis\":{\"endlinecolor\":\"#2a3f5f\",\"gridcolor\":\"#C8D4E3\",\"linecolor\":\"#C8D4E3\",\"minorgridcolor\":\"#C8D4E3\",\"startlinecolor\":\"#2a3f5f\"},\"baxis\":{\"endlinecolor\":\"#2a3f5f\",\"gridcolor\":\"#C8D4E3\",\"linecolor\":\"#C8D4E3\",\"minorgridcolor\":\"#C8D4E3\",\"startlinecolor\":\"#2a3f5f\"},\"type\":\"carpet\"}],\"choropleth\":[{\"colorbar\":{\"outlinewidth\":0,\"ticks\":\"\"},\"type\":\"choropleth\"}],\"contourcarpet\":[{\"colorbar\":{\"outlinewidth\":0,\"ticks\":\"\"},\"type\":\"contourcarpet\"}],\"contour\":[{\"colorbar\":{\"outlinewidth\":0,\"ticks\":\"\"},\"colorscale\":[[0.0,\"#0d0887\"],[0.1111111111111111,\"#46039f\"],[0.2222222222222222,\"#7201a8\"],[0.3333333333333333,\"#9c179e\"],[0.4444444444444444,\"#bd3786\"],[0.5555555555555556,\"#d8576b\"],[0.6666666666666666,\"#ed7953\"],[0.7777777777777778,\"#fb9f3a\"],[0.8888888888888888,\"#fdca26\"],[1.0,\"#f0f921\"]],\"type\":\"contour\"}],\"heatmapgl\":[{\"colorbar\":{\"outlinewidth\":0,\"ticks\":\"\"},\"colorscale\":[[0.0,\"#0d0887\"],[0.1111111111111111,\"#46039f\"],[0.2222222222222222,\"#7201a8\"],[0.3333333333333333,\"#9c179e\"],[0.4444444444444444,\"#bd3786\"],[0.5555555555555556,\"#d8576b\"],[0.6666666666666666,\"#ed7953\"],[0.7777777777777778,\"#fb9f3a\"],[0.8888888888888888,\"#fdca26\"],[1.0,\"#f0f921\"]],\"type\":\"heatmapgl\"}],\"heatmap\":[{\"colorbar\":{\"outlinewidth\":0,\"ticks\":\"\"},\"colorscale\":[[0.0,\"#0d0887\"],[0.1111111111111111,\"#46039f\"],[0.2222222222222222,\"#7201a8\"],[0.3333333333333333,\"#9c179e\"],[0.4444444444444444,\"#bd3786\"],[0.5555555555555556,\"#d8576b\"],[0.6666666666666666,\"#ed7953\"],[0.7777777777777778,\"#fb9f3a\"],[0.8888888888888888,\"#fdca26\"],[1.0,\"#f0f921\"]],\"type\":\"heatmap\"}],\"histogram2dcontour\":[{\"colorbar\":{\"outlinewidth\":0,\"ticks\":\"\"},\"colorscale\":[[0.0,\"#0d0887\"],[0.1111111111111111,\"#46039f\"],[0.2222222222222222,\"#7201a8\"],[0.3333333333333333,\"#9c179e\"],[0.4444444444444444,\"#bd3786\"],[0.5555555555555556,\"#d8576b\"],[0.6666666666666666,\"#ed7953\"],[0.7777777777777778,\"#fb9f3a\"],[0.8888888888888888,\"#fdca26\"],[1.0,\"#f0f921\"]],\"type\":\"histogram2dcontour\"}],\"histogram2d\":[{\"colorbar\":{\"outlinewidth\":0,\"ticks\":\"\"},\"colorscale\":[[0.0,\"#0d0887\"],[0.1111111111111111,\"#46039f\"],[0.2222222222222222,\"#7201a8\"],[0.3333333333333333,\"#9c179e\"],[0.4444444444444444,\"#bd3786\"],[0.5555555555555556,\"#d8576b\"],[0.6666666666666666,\"#ed7953\"],[0.7777777777777778,\"#fb9f3a\"],[0.8888888888888888,\"#fdca26\"],[1.0,\"#f0f921\"]],\"type\":\"histogram2d\"}],\"histogram\":[{\"marker\":{\"pattern\":{\"fillmode\":\"overlay\",\"size\":10,\"solidity\":0.2}},\"type\":\"histogram\"}],\"mesh3d\":[{\"colorbar\":{\"outlinewidth\":0,\"ticks\":\"\"},\"type\":\"mesh3d\"}],\"parcoords\":[{\"line\":{\"colorbar\":{\"outlinewidth\":0,\"ticks\":\"\"}},\"type\":\"parcoords\"}],\"pie\":[{\"automargin\":true,\"type\":\"pie\"}],\"scatter3d\":[{\"line\":{\"colorbar\":{\"outlinewidth\":0,\"ticks\":\"\"}},\"marker\":{\"colorbar\":{\"outlinewidth\":0,\"ticks\":\"\"}},\"type\":\"scatter3d\"}],\"scattercarpet\":[{\"marker\":{\"colorbar\":{\"outlinewidth\":0,\"ticks\":\"\"}},\"type\":\"scattercarpet\"}],\"scattergeo\":[{\"marker\":{\"colorbar\":{\"outlinewidth\":0,\"ticks\":\"\"}},\"type\":\"scattergeo\"}],\"scattergl\":[{\"marker\":{\"colorbar\":{\"outlinewidth\":0,\"ticks\":\"\"}},\"type\":\"scattergl\"}],\"scattermapbox\":[{\"marker\":{\"colorbar\":{\"outlinewidth\":0,\"ticks\":\"\"}},\"type\":\"scattermapbox\"}],\"scatterpolargl\":[{\"marker\":{\"colorbar\":{\"outlinewidth\":0,\"ticks\":\"\"}},\"type\":\"scatterpolargl\"}],\"scatterpolar\":[{\"marker\":{\"colorbar\":{\"outlinewidth\":0,\"ticks\":\"\"}},\"type\":\"scatterpolar\"}],\"scatter\":[{\"fillpattern\":{\"fillmode\":\"overlay\",\"size\":10,\"solidity\":0.2},\"type\":\"scatter\"}],\"scatterternary\":[{\"marker\":{\"colorbar\":{\"outlinewidth\":0,\"ticks\":\"\"}},\"type\":\"scatterternary\"}],\"surface\":[{\"colorbar\":{\"outlinewidth\":0,\"ticks\":\"\"},\"colorscale\":[[0.0,\"#0d0887\"],[0.1111111111111111,\"#46039f\"],[0.2222222222222222,\"#7201a8\"],[0.3333333333333333,\"#9c179e\"],[0.4444444444444444,\"#bd3786\"],[0.5555555555555556,\"#d8576b\"],[0.6666666666666666,\"#ed7953\"],[0.7777777777777778,\"#fb9f3a\"],[0.8888888888888888,\"#fdca26\"],[1.0,\"#f0f921\"]],\"type\":\"surface\"}],\"table\":[{\"cells\":{\"fill\":{\"color\":\"#EBF0F8\"},\"line\":{\"color\":\"white\"}},\"header\":{\"fill\":{\"color\":\"#C8D4E3\"},\"line\":{\"color\":\"white\"}},\"type\":\"table\"}]},\"layout\":{\"annotationdefaults\":{\"arrowcolor\":\"#2a3f5f\",\"arrowhead\":0,\"arrowwidth\":1},\"autotypenumbers\":\"strict\",\"coloraxis\":{\"colorbar\":{\"outlinewidth\":0,\"ticks\":\"\"}},\"colorscale\":{\"diverging\":[[0,\"#8e0152\"],[0.1,\"#c51b7d\"],[0.2,\"#de77ae\"],[0.3,\"#f1b6da\"],[0.4,\"#fde0ef\"],[0.5,\"#f7f7f7\"],[0.6,\"#e6f5d0\"],[0.7,\"#b8e186\"],[0.8,\"#7fbc41\"],[0.9,\"#4d9221\"],[1,\"#276419\"]],\"sequential\":[[0.0,\"#0d0887\"],[0.1111111111111111,\"#46039f\"],[0.2222222222222222,\"#7201a8\"],[0.3333333333333333,\"#9c179e\"],[0.4444444444444444,\"#bd3786\"],[0.5555555555555556,\"#d8576b\"],[0.6666666666666666,\"#ed7953\"],[0.7777777777777778,\"#fb9f3a\"],[0.8888888888888888,\"#fdca26\"],[1.0,\"#f0f921\"]],\"sequentialminus\":[[0.0,\"#0d0887\"],[0.1111111111111111,\"#46039f\"],[0.2222222222222222,\"#7201a8\"],[0.3333333333333333,\"#9c179e\"],[0.4444444444444444,\"#bd3786\"],[0.5555555555555556,\"#d8576b\"],[0.6666666666666666,\"#ed7953\"],[0.7777777777777778,\"#fb9f3a\"],[0.8888888888888888,\"#fdca26\"],[1.0,\"#f0f921\"]]},\"colorway\":[\"#636efa\",\"#EF553B\",\"#00cc96\",\"#ab63fa\",\"#FFA15A\",\"#19d3f3\",\"#FF6692\",\"#B6E880\",\"#FF97FF\",\"#FECB52\"],\"font\":{\"color\":\"#2a3f5f\"},\"geo\":{\"bgcolor\":\"white\",\"lakecolor\":\"white\",\"landcolor\":\"white\",\"showlakes\":true,\"showland\":true,\"subunitcolor\":\"#C8D4E3\"},\"hoverlabel\":{\"align\":\"left\"},\"hovermode\":\"closest\",\"mapbox\":{\"style\":\"light\"},\"paper_bgcolor\":\"white\",\"plot_bgcolor\":\"white\",\"polar\":{\"angularaxis\":{\"gridcolor\":\"#EBF0F8\",\"linecolor\":\"#EBF0F8\",\"ticks\":\"\"},\"bgcolor\":\"white\",\"radialaxis\":{\"gridcolor\":\"#EBF0F8\",\"linecolor\":\"#EBF0F8\",\"ticks\":\"\"}},\"scene\":{\"xaxis\":{\"backgroundcolor\":\"white\",\"gridcolor\":\"#DFE8F3\",\"gridwidth\":2,\"linecolor\":\"#EBF0F8\",\"showbackground\":true,\"ticks\":\"\",\"zerolinecolor\":\"#EBF0F8\"},\"yaxis\":{\"backgroundcolor\":\"white\",\"gridcolor\":\"#DFE8F3\",\"gridwidth\":2,\"linecolor\":\"#EBF0F8\",\"showbackground\":true,\"ticks\":\"\",\"zerolinecolor\":\"#EBF0F8\"},\"zaxis\":{\"backgroundcolor\":\"white\",\"gridcolor\":\"#DFE8F3\",\"gridwidth\":2,\"linecolor\":\"#EBF0F8\",\"showbackground\":true,\"ticks\":\"\",\"zerolinecolor\":\"#EBF0F8\"}},\"shapedefaults\":{\"line\":{\"color\":\"#2a3f5f\"}},\"ternary\":{\"aaxis\":{\"gridcolor\":\"#DFE8F3\",\"linecolor\":\"#A2B1C6\",\"ticks\":\"\"},\"baxis\":{\"gridcolor\":\"#DFE8F3\",\"linecolor\":\"#A2B1C6\",\"ticks\":\"\"},\"bgcolor\":\"white\",\"caxis\":{\"gridcolor\":\"#DFE8F3\",\"linecolor\":\"#A2B1C6\",\"ticks\":\"\"}},\"title\":{\"x\":0.05},\"xaxis\":{\"automargin\":true,\"gridcolor\":\"#EBF0F8\",\"linecolor\":\"#EBF0F8\",\"ticks\":\"\",\"title\":{\"standoff\":15},\"zerolinecolor\":\"#EBF0F8\",\"zerolinewidth\":2},\"yaxis\":{\"automargin\":true,\"gridcolor\":\"#EBF0F8\",\"linecolor\":\"#EBF0F8\",\"ticks\":\"\",\"title\":{\"standoff\":15},\"zerolinecolor\":\"#EBF0F8\",\"zerolinewidth\":2}}},\"shapes\":[{\"line\":{\"color\":\"red\",\"dash\":\"dash\",\"width\":1},\"type\":\"line\",\"x0\":\"2023-08-01\",\"x1\":\"2023-08-01\",\"xref\":\"x\",\"y0\":0,\"y1\":1,\"yref\":\"y domain\"}],\"yaxis\":{\"title\":{\"text\":\"Day closing return (%)\"},\"tickformat\":\".0%\",\"range\":[0.75,1.6]},\"title\":{\"text\":\"12 Month Prediction vs Actual Plot\"},\"xaxis\":{\"title\":{\"text\":\"Date\"}},\"legend\":{\"title\":{\"text\":\"Legend\"}}},                        {\"responsive\": true}                    ).then(function(){\n",
       "                            \n",
       "var gd = document.getElementById('4edb2855-5b8c-4248-99f0-65bc2c648fde');\n",
       "var x = new MutationObserver(function (mutations, observer) {{\n",
       "        var display = window.getComputedStyle(gd).display;\n",
       "        if (!display || display === 'none') {{\n",
       "            console.log([gd, 'removed!']);\n",
       "            Plotly.purge(gd);\n",
       "            observer.disconnect();\n",
       "        }}\n",
       "}});\n",
       "\n",
       "// Listen for the removal of the full notebook cells\n",
       "var notebookContainer = gd.closest('#notebook-container');\n",
       "if (notebookContainer) {{\n",
       "    x.observe(notebookContainer, {childList: true});\n",
       "}}\n",
       "\n",
       "// Listen for the clearing of the current output cell\n",
       "var outputEl = gd.closest('.output');\n",
       "if (outputEl) {{\n",
       "    x.observe(outputEl, {childList: true});\n",
       "}}\n",
       "\n",
       "                        })                };                });            </script>        </div>"
      ]
     },
     "metadata": {},
     "output_type": "display_data"
    }
   ],
   "execution_count": 58
  },
  {
   "metadata": {},
   "cell_type": "markdown",
   "source": "#### Overview table",
   "id": "887526888ce646cc"
  },
  {
   "metadata": {
    "ExecuteTime": {
     "end_time": "2025-05-06T19:03:02.605791Z",
     "start_time": "2025-05-06T19:03:02.527826Z"
    }
   },
   "cell_type": "code",
   "source": [
    "importlib.reload(comparison)\n",
    "\n",
    "# Get train true values followed with predicted month/s\n",
    "y_train_12m_list = y_train_12m['m_return_target(t+12)'].tolist()\n",
    "y_test_12m_list = y_test_pred_12m.tolist()\n",
    "#\n",
    "df_to_evaluate_12m = comparison.get_df_from_pred_list(df, y_train_12m_list, y_test_12m_list)\n",
    "df_to_evaluate_12m = df_to_evaluate_12m - 1\n",
    "df_to_evaluate_12m"
   ],
   "id": "df6a53c2136de427",
   "outputs": [
    {
     "data": {
      "text/plain": [
       "        RS1.L        KE    TEG.DE    LEG.DE       SCS       HNI       AVT  \\\n",
       "0    0.000000  0.000000  0.320000  0.000000  0.050000  0.100000  0.140000   \n",
       "1    0.000000  0.000000  0.050000 -0.020000  0.090000  0.060000  0.150000   \n",
       "2    0.000000  0.000000 -0.150000  0.000000  0.040000  0.090000  0.070000   \n",
       "3    0.010000  0.000000  0.040000  0.000000  0.070000  0.010000  0.050000   \n",
       "4    0.000000  0.000000 -0.020000  0.000000 -0.030000 -0.030000 -0.010000   \n",
       "..        ...       ...       ...       ...       ...       ...       ...   \n",
       "282  0.000292 -0.017971 -0.019445  0.069847  0.085843 -0.024792  0.043555   \n",
       "283  0.025323  0.054896  0.008362  0.056536 -0.056524  0.043779  0.048160   \n",
       "284  0.013769  0.068290  0.001476 -0.028086 -0.066652  0.052008 -0.019236   \n",
       "285  0.032251  0.002045  0.007750 -0.049634 -0.040268  0.023260 -0.014981   \n",
       "286 -0.043197  0.008207 -0.026125  0.064442  0.023441  0.009293 -0.000563   \n",
       "\n",
       "         ACCO    VNA.DE    7912.T  ...    DEQ.DE      KIDS      HALO  \\\n",
       "0    0.000000  0.000000  0.140000  ...  0.000000  0.000000  0.000000   \n",
       "1    1.430000 -0.020000  0.010000  ...  0.000000  0.000000  0.000000   \n",
       "2    0.000000  0.000000 -0.010000  ... -0.120000  0.000000  0.000000   \n",
       "3   -0.650000  0.000000 -0.100000  ...  0.000000  0.000000  0.000000   \n",
       "4    0.060000  0.000000  0.100000  ...  0.010000 -0.100000  0.000000   \n",
       "..        ...       ...       ...  ...       ...       ...       ...   \n",
       "282  0.036488  0.017755 -0.050697  ...  0.017791  0.034984 -0.009036   \n",
       "283  0.050901  0.019647 -0.019775  ...  0.026269 -0.001177  0.052536   \n",
       "284  0.026775  0.028045 -0.053575  ...  0.019490 -0.016612  0.011353   \n",
       "285  0.023231  0.016106 -0.022185  ... -0.004113 -0.005879  0.021267   \n",
       "286  0.036040 -0.002502  0.004334  ...  0.037979  0.024315  0.005251   \n",
       "\n",
       "         MATW    9842.T      KVHI    MOON.L       NEO    6055.T       UNP  \n",
       "0    0.040000  0.000000  0.530000  0.000000  0.000000  0.010000  0.110000  \n",
       "1    0.050000  0.000000 -0.170000  0.000000  0.000000  0.000000  0.060000  \n",
       "2    0.020000  0.000000 -0.010000  0.000000  0.000000  0.000000  0.040000  \n",
       "3    0.010000  0.000000  0.230000  0.000000 -0.050000 -0.010000  0.090000  \n",
       "4   -0.030000  0.000000  0.020000  0.000000  0.000000  0.010000 -0.020000  \n",
       "..        ...       ...       ...       ...       ...       ...       ...  \n",
       "282  0.008564 -0.060288  0.012532 -0.022313  0.021679 -0.031457  0.011705  \n",
       "283  0.043730 -0.014902  0.032217 -0.005133  0.041845  0.010885  0.034830  \n",
       "284 -0.005469 -0.095797  0.033886  0.009432  0.021895 -0.006834  0.005849  \n",
       "285  0.032262  0.089933 -0.001989  0.071985  0.007745 -0.068331 -0.016525  \n",
       "286 -0.037204  0.024161 -0.112806 -0.000904 -0.079014 -0.086022 -0.088244  \n",
       "\n",
       "[287 rows x 1653 columns]"
      ],
      "text/html": [
       "<div>\n",
       "<style scoped>\n",
       "    .dataframe tbody tr th:only-of-type {\n",
       "        vertical-align: middle;\n",
       "    }\n",
       "\n",
       "    .dataframe tbody tr th {\n",
       "        vertical-align: top;\n",
       "    }\n",
       "\n",
       "    .dataframe thead th {\n",
       "        text-align: right;\n",
       "    }\n",
       "</style>\n",
       "<table border=\"1\" class=\"dataframe\">\n",
       "  <thead>\n",
       "    <tr style=\"text-align: right;\">\n",
       "      <th></th>\n",
       "      <th>RS1.L</th>\n",
       "      <th>KE</th>\n",
       "      <th>TEG.DE</th>\n",
       "      <th>LEG.DE</th>\n",
       "      <th>SCS</th>\n",
       "      <th>HNI</th>\n",
       "      <th>AVT</th>\n",
       "      <th>ACCO</th>\n",
       "      <th>VNA.DE</th>\n",
       "      <th>7912.T</th>\n",
       "      <th>...</th>\n",
       "      <th>DEQ.DE</th>\n",
       "      <th>KIDS</th>\n",
       "      <th>HALO</th>\n",
       "      <th>MATW</th>\n",
       "      <th>9842.T</th>\n",
       "      <th>KVHI</th>\n",
       "      <th>MOON.L</th>\n",
       "      <th>NEO</th>\n",
       "      <th>6055.T</th>\n",
       "      <th>UNP</th>\n",
       "    </tr>\n",
       "  </thead>\n",
       "  <tbody>\n",
       "    <tr>\n",
       "      <th>0</th>\n",
       "      <td>0.000000</td>\n",
       "      <td>0.000000</td>\n",
       "      <td>0.320000</td>\n",
       "      <td>0.000000</td>\n",
       "      <td>0.050000</td>\n",
       "      <td>0.100000</td>\n",
       "      <td>0.140000</td>\n",
       "      <td>0.000000</td>\n",
       "      <td>0.000000</td>\n",
       "      <td>0.140000</td>\n",
       "      <td>...</td>\n",
       "      <td>0.000000</td>\n",
       "      <td>0.000000</td>\n",
       "      <td>0.000000</td>\n",
       "      <td>0.040000</td>\n",
       "      <td>0.000000</td>\n",
       "      <td>0.530000</td>\n",
       "      <td>0.000000</td>\n",
       "      <td>0.000000</td>\n",
       "      <td>0.010000</td>\n",
       "      <td>0.110000</td>\n",
       "    </tr>\n",
       "    <tr>\n",
       "      <th>1</th>\n",
       "      <td>0.000000</td>\n",
       "      <td>0.000000</td>\n",
       "      <td>0.050000</td>\n",
       "      <td>-0.020000</td>\n",
       "      <td>0.090000</td>\n",
       "      <td>0.060000</td>\n",
       "      <td>0.150000</td>\n",
       "      <td>1.430000</td>\n",
       "      <td>-0.020000</td>\n",
       "      <td>0.010000</td>\n",
       "      <td>...</td>\n",
       "      <td>0.000000</td>\n",
       "      <td>0.000000</td>\n",
       "      <td>0.000000</td>\n",
       "      <td>0.050000</td>\n",
       "      <td>0.000000</td>\n",
       "      <td>-0.170000</td>\n",
       "      <td>0.000000</td>\n",
       "      <td>0.000000</td>\n",
       "      <td>0.000000</td>\n",
       "      <td>0.060000</td>\n",
       "    </tr>\n",
       "    <tr>\n",
       "      <th>2</th>\n",
       "      <td>0.000000</td>\n",
       "      <td>0.000000</td>\n",
       "      <td>-0.150000</td>\n",
       "      <td>0.000000</td>\n",
       "      <td>0.040000</td>\n",
       "      <td>0.090000</td>\n",
       "      <td>0.070000</td>\n",
       "      <td>0.000000</td>\n",
       "      <td>0.000000</td>\n",
       "      <td>-0.010000</td>\n",
       "      <td>...</td>\n",
       "      <td>-0.120000</td>\n",
       "      <td>0.000000</td>\n",
       "      <td>0.000000</td>\n",
       "      <td>0.020000</td>\n",
       "      <td>0.000000</td>\n",
       "      <td>-0.010000</td>\n",
       "      <td>0.000000</td>\n",
       "      <td>0.000000</td>\n",
       "      <td>0.000000</td>\n",
       "      <td>0.040000</td>\n",
       "    </tr>\n",
       "    <tr>\n",
       "      <th>3</th>\n",
       "      <td>0.010000</td>\n",
       "      <td>0.000000</td>\n",
       "      <td>0.040000</td>\n",
       "      <td>0.000000</td>\n",
       "      <td>0.070000</td>\n",
       "      <td>0.010000</td>\n",
       "      <td>0.050000</td>\n",
       "      <td>-0.650000</td>\n",
       "      <td>0.000000</td>\n",
       "      <td>-0.100000</td>\n",
       "      <td>...</td>\n",
       "      <td>0.000000</td>\n",
       "      <td>0.000000</td>\n",
       "      <td>0.000000</td>\n",
       "      <td>0.010000</td>\n",
       "      <td>0.000000</td>\n",
       "      <td>0.230000</td>\n",
       "      <td>0.000000</td>\n",
       "      <td>-0.050000</td>\n",
       "      <td>-0.010000</td>\n",
       "      <td>0.090000</td>\n",
       "    </tr>\n",
       "    <tr>\n",
       "      <th>4</th>\n",
       "      <td>0.000000</td>\n",
       "      <td>0.000000</td>\n",
       "      <td>-0.020000</td>\n",
       "      <td>0.000000</td>\n",
       "      <td>-0.030000</td>\n",
       "      <td>-0.030000</td>\n",
       "      <td>-0.010000</td>\n",
       "      <td>0.060000</td>\n",
       "      <td>0.000000</td>\n",
       "      <td>0.100000</td>\n",
       "      <td>...</td>\n",
       "      <td>0.010000</td>\n",
       "      <td>-0.100000</td>\n",
       "      <td>0.000000</td>\n",
       "      <td>-0.030000</td>\n",
       "      <td>0.000000</td>\n",
       "      <td>0.020000</td>\n",
       "      <td>0.000000</td>\n",
       "      <td>0.000000</td>\n",
       "      <td>0.010000</td>\n",
       "      <td>-0.020000</td>\n",
       "    </tr>\n",
       "    <tr>\n",
       "      <th>...</th>\n",
       "      <td>...</td>\n",
       "      <td>...</td>\n",
       "      <td>...</td>\n",
       "      <td>...</td>\n",
       "      <td>...</td>\n",
       "      <td>...</td>\n",
       "      <td>...</td>\n",
       "      <td>...</td>\n",
       "      <td>...</td>\n",
       "      <td>...</td>\n",
       "      <td>...</td>\n",
       "      <td>...</td>\n",
       "      <td>...</td>\n",
       "      <td>...</td>\n",
       "      <td>...</td>\n",
       "      <td>...</td>\n",
       "      <td>...</td>\n",
       "      <td>...</td>\n",
       "      <td>...</td>\n",
       "      <td>...</td>\n",
       "      <td>...</td>\n",
       "    </tr>\n",
       "    <tr>\n",
       "      <th>282</th>\n",
       "      <td>0.000292</td>\n",
       "      <td>-0.017971</td>\n",
       "      <td>-0.019445</td>\n",
       "      <td>0.069847</td>\n",
       "      <td>0.085843</td>\n",
       "      <td>-0.024792</td>\n",
       "      <td>0.043555</td>\n",
       "      <td>0.036488</td>\n",
       "      <td>0.017755</td>\n",
       "      <td>-0.050697</td>\n",
       "      <td>...</td>\n",
       "      <td>0.017791</td>\n",
       "      <td>0.034984</td>\n",
       "      <td>-0.009036</td>\n",
       "      <td>0.008564</td>\n",
       "      <td>-0.060288</td>\n",
       "      <td>0.012532</td>\n",
       "      <td>-0.022313</td>\n",
       "      <td>0.021679</td>\n",
       "      <td>-0.031457</td>\n",
       "      <td>0.011705</td>\n",
       "    </tr>\n",
       "    <tr>\n",
       "      <th>283</th>\n",
       "      <td>0.025323</td>\n",
       "      <td>0.054896</td>\n",
       "      <td>0.008362</td>\n",
       "      <td>0.056536</td>\n",
       "      <td>-0.056524</td>\n",
       "      <td>0.043779</td>\n",
       "      <td>0.048160</td>\n",
       "      <td>0.050901</td>\n",
       "      <td>0.019647</td>\n",
       "      <td>-0.019775</td>\n",
       "      <td>...</td>\n",
       "      <td>0.026269</td>\n",
       "      <td>-0.001177</td>\n",
       "      <td>0.052536</td>\n",
       "      <td>0.043730</td>\n",
       "      <td>-0.014902</td>\n",
       "      <td>0.032217</td>\n",
       "      <td>-0.005133</td>\n",
       "      <td>0.041845</td>\n",
       "      <td>0.010885</td>\n",
       "      <td>0.034830</td>\n",
       "    </tr>\n",
       "    <tr>\n",
       "      <th>284</th>\n",
       "      <td>0.013769</td>\n",
       "      <td>0.068290</td>\n",
       "      <td>0.001476</td>\n",
       "      <td>-0.028086</td>\n",
       "      <td>-0.066652</td>\n",
       "      <td>0.052008</td>\n",
       "      <td>-0.019236</td>\n",
       "      <td>0.026775</td>\n",
       "      <td>0.028045</td>\n",
       "      <td>-0.053575</td>\n",
       "      <td>...</td>\n",
       "      <td>0.019490</td>\n",
       "      <td>-0.016612</td>\n",
       "      <td>0.011353</td>\n",
       "      <td>-0.005469</td>\n",
       "      <td>-0.095797</td>\n",
       "      <td>0.033886</td>\n",
       "      <td>0.009432</td>\n",
       "      <td>0.021895</td>\n",
       "      <td>-0.006834</td>\n",
       "      <td>0.005849</td>\n",
       "    </tr>\n",
       "    <tr>\n",
       "      <th>285</th>\n",
       "      <td>0.032251</td>\n",
       "      <td>0.002045</td>\n",
       "      <td>0.007750</td>\n",
       "      <td>-0.049634</td>\n",
       "      <td>-0.040268</td>\n",
       "      <td>0.023260</td>\n",
       "      <td>-0.014981</td>\n",
       "      <td>0.023231</td>\n",
       "      <td>0.016106</td>\n",
       "      <td>-0.022185</td>\n",
       "      <td>...</td>\n",
       "      <td>-0.004113</td>\n",
       "      <td>-0.005879</td>\n",
       "      <td>0.021267</td>\n",
       "      <td>0.032262</td>\n",
       "      <td>0.089933</td>\n",
       "      <td>-0.001989</td>\n",
       "      <td>0.071985</td>\n",
       "      <td>0.007745</td>\n",
       "      <td>-0.068331</td>\n",
       "      <td>-0.016525</td>\n",
       "    </tr>\n",
       "    <tr>\n",
       "      <th>286</th>\n",
       "      <td>-0.043197</td>\n",
       "      <td>0.008207</td>\n",
       "      <td>-0.026125</td>\n",
       "      <td>0.064442</td>\n",
       "      <td>0.023441</td>\n",
       "      <td>0.009293</td>\n",
       "      <td>-0.000563</td>\n",
       "      <td>0.036040</td>\n",
       "      <td>-0.002502</td>\n",
       "      <td>0.004334</td>\n",
       "      <td>...</td>\n",
       "      <td>0.037979</td>\n",
       "      <td>0.024315</td>\n",
       "      <td>0.005251</td>\n",
       "      <td>-0.037204</td>\n",
       "      <td>0.024161</td>\n",
       "      <td>-0.112806</td>\n",
       "      <td>-0.000904</td>\n",
       "      <td>-0.079014</td>\n",
       "      <td>-0.086022</td>\n",
       "      <td>-0.088244</td>\n",
       "    </tr>\n",
       "  </tbody>\n",
       "</table>\n",
       "<p>287 rows × 1653 columns</p>\n",
       "</div>"
      ]
     },
     "execution_count": 59,
     "metadata": {},
     "output_type": "execute_result"
    }
   ],
   "execution_count": 59
  },
  {
   "metadata": {
    "ExecuteTime": {
     "end_time": "2025-05-06T19:03:10.891512Z",
     "start_time": "2025-05-06T19:03:02.611214Z"
    }
   },
   "cell_type": "code",
   "source": [
    "importlib.reload(comparison)\n",
    "df_pred_12m, raw_weights_12m, mu_12m, S_12m, sigma_12m, sharpe_12m = comparison.get_portfolio_performance(df_to_evaluate_12m,\n",
    "                                                                                                          \"xgbooster_weights_12m.csv\",\n",
    "                                                                                                          min_avg_return=-0.5,\n",
    "                                                                                                          months=12)\n",
    "comparison.create_discrete_allocation(df_pred_12m, raw_weights_12m)\n",
    "\n",
    "# Create overview\n",
    "df_view_12m = pd.DataFrame.from_dict(raw_weights_12m, orient='index', columns=['max_sharpe_weight'])\n",
    "# Extract volatilities (square root of diagonal elements)\n",
    "df_view_12m['avg_annual_volatility'] = pd.Series(np.sqrt(np.diag(S_12m)), index=S_12m.columns).values\n",
    "# Set annual returns\n",
    "df_view_12m['avg_annual_return'] = mu_12m.values\n",
    "# \n",
    "df_view_12m['return_last_period(12m)'] = round(df.tail(12).prod() - 1, 2)\n",
    "df_view_12m"
   ],
   "id": "9459dc4978e01996",
   "outputs": [
    {
     "name": "stdout",
     "output_type": "stream",
     "text": [
      "Expected annual return: 373.9%\n",
      "Annual volatility: 16.7%\n",
      "Sharpe Ratio: 22.25\n",
      "Discrete allocation: {'KE': 436, 'LEG.DE': 113, 'SCS': 97, 'HNI': 1536, 'ACCO': 259, '7912.T': 449, 'KEYS': 22, 'SGRO.L': 98, 'BRC': 483, 'PGRE': 50, 'BBOX.L': 429, 'REL.L': 76, 'BHE': 228, 'PLXS': 687, 'HAS': 618, 'LAND.L': 374, 'OLED': 15355, 'CDW': 367, 'ARW': 127, 'FN': 989, 'NOVT': 4744, 'RYN': 7655, 'SNX': 21156, 'CMPR': 22316, 'DLAR.L': 433, 'SHA.DE': 422, 'TTMI': 428, '3234.T': 166, 'ASGN': 125, 'HOUS': 81, 'VVV': 229, 'PAGE.L': 55, 'DB1.DE': 625, 'AVB': 96, 'STWD': 220, 'GROW.L': 74, 'MTO.L': 2514, 'MEI': 248, 'RGLD': 283, 'KFRC': 212, 'IWG.L': 802, '8954.T': 541, 'ZIL2.DE': 2829, 'SANM': 119, 'CTS': 108, 'IPG': 43, 'BMI': 361, 'FUTR.L': 79, 'MAN': 154, '7994.T': 126, '3283.T': 61, 'PDM': 51, 'III.L': 300, 'NBS.L': 212, 'KELYA': 498, '4384.T': 1910, 'UU.L': 33, '6287.T': 249, 'HMSO.L': 148, 'WDC': 34, '7313.T': 135, 'TNET': 4787, '6098.T': 265, 'WPP.L': 131, 'JBL': 109, '3279.T': 312, 'JEN.DE': 112, 'TRMB': 10197, 'WKP.L': 87, 'NLY': 30, 'KGF.L': 29, 'RMAX': 356, '7951.T': 673, '7846.T': 69, 'SBAC': 206, 'ATR': 14, 'ELME': 6, 'TEP.L': 959, 'CGNX': 95, 'DLX': 93, 'ELV': 91, 'SNWS.L': 140, 'INS.DE': 44, 'NWSA': 56, 'EXPN.L': 110, 'GRI.L': 462, 'SMWH.L': 442, 'IR': 886, 'ITV.L': 259, 'HSII': 20501, 'CUZ': 86, 'LIN': 262, 'NL': 401, 'BALL': 372, '2146.T': 176, 'DHR': 47, 'KIM': 128, '8057.T': 86, '6841.T': 127, 'MAC': 256, 'SWBI': 329, '8151.T': 409, 'CNNE': 234, 'PLD': 99, 'REXR': 307, '6845.T': 284, '7868.T': 344, 'CDP': 221, 'HEAD.L': 271, 'GOLF': 226, 'HAS.L': 96, 'LSL.L': 180, '7272.T': 145, 'ATGE': 195, '7701.T': 167, 'SAP.DE': 85, 'GWI.L': 123, 'POOL': 29, 'AZO': 135, 'ZWS': 20169, 'LKQ': 8314, '2154.T': 193, 'KMX': 23032, 'OXIG.L': 521, 'CDNS': 107, 'CAH': 300, 'VNT': 63, 'VTR': 237, 'QUAD': 204, 'COR': 585, 'REG': 189, '7976.T': 238, 'API.L': 364, 'STAA': 194, 'JOUT': 2259, 'ENR.DE': 26, 'WSM': 21, 'WIX.L': 290, '8952.T': 28, 'PTEC.L': 426, 'SPGI': 234, 'FOXT.L': 519, 'HPE': 682, '8976.T': 187, '2124.T': 15622, 'AAD.DE': 179, 'STX': 55, 'ESS': 156, 'AMAT': 92, 'AMH': 21240, 'AG1.DE': 3563, '7762.T': 556, 'ANIK': 2511, 'PKE': 326, 'HIW': 233, 'PSM.DE': 54561, 'HLE.DE': 109, '5108.T': 290, 'RELL': 1329, '3107.T': 365, 'AY': 2468, '7476.T': 267, 'ORLY': 95, 'LOW': 490, 'ALV.DE': 199, 'BBSI': 114, 'DLB': 300, 'OPEN': 56, 'SMDS.L': 23610, '7613.T': 577, 'LMP.L': 73, 'O5G.DE': 477, 'CCI': 296, 'LITE': 1699, 'MNDI.L': 467, '8084.T': 24, 'AMBP': 14273, 'BXP': 308, 'EXLS': 55, '8022.T': 101, 'HFD.L': 277, '8060.T': 270, 'XRAY': 191, '6701.T': 518, 'DLR': 932, 'FOXA': 17976, 'SAX.DE': 601, '9468.T': 98, '4732.T': 350, 'JDG.L': 176, 'BOSS.DE': 97, 'RDW.L': 60, 'FRT': 79, 'MODG': 2520, '6702.T': 32, '1925.T': 37, 'BSL.DE': 341, 'TBCG.L': 925, 'HBH.DE': 253, 'PAG': 149, 'JD.L': 689, 'AMT': 185, 'ESCA': 214, 'BKG.L': 138, 'TMO': 208, '9934.T': 188, 'WAT': 308, 'AN': 59, 'PETS.L': 552, 'GPC': 77, 'RWA.L': 311, '3462.T': 1257, 'HD': 413, 'EGP': 398, 'NWL': 182, 'SPT.L': 312, '6981.T': 349, 'CSCO': 266, 'MOV': 98, 'PMT': 445, 'CMLS': 411, 'G24.DE': 220, 'RDWR': 153, '8159.T': 1127, '3295.T': 251, '8035.T': 72, 'ICG.L': 310, 'EQIX': 21489, 'ADNT': 330, 'BIG.L': 71, 'CI': 2262, 'UTG.L': 12628, 'UTMD': 433, 'BFSA.DE': 435, '7906.T': 808, 'DHL.DE': 515, 'FTDR': 239, 'IFX.DE': 110, 'WLY': 17, 'GPI': 236, 'BAH': 457, 'ETD': 14, 'ARE': 111, 'TW.L': 157, 'SDRY.L': 180, 'NVDA': 8983, '7867.T': 35, 'AKAM': 20156, 'NCC.L': 114, '6200.T': 354, 'EA': 184, 'ACRE': 307, 'CEC.DE': 51, 'VID.L': 82, '5988.T': 11, 'AL': 106, 'BCPT.L': 85, 'GWRE': 86, 'LEVI': 962, 'NDAQ': 197, 'QGEN': 206, 'TM17.L': 115, '8986.T': 222, 'GAW.L': 34, 'KRC': 18, 'BIRK': 1443, 'CRI': 104, 'PAG.L': 76, '2715.T': 62, 'TPR': 326, 'FOSL': 88, 'CCEP': 202, 'RWI.L': 3109, 'ILM1.DE': 161, 'HQI': 196, 'CAR': 70, 'FRE.DE': 642, 'HAYW': 383, '8968.T': 229, 'HOFT': 117, '6861.T': 780, 'CURY.L': 163, 'BNR.DE': 312, 'LOPE': 304, 'STAG': 898, '7282.T': 200, 'G': 216, '8957.T': 504, '7944.T': 1132, 'RXRX': 59, 'CNXN': 155, 'MKTX': 18408, 'CREI.L': 333, 'WPC': 156, 'AMD': 244, 'ELS': 101, 'AKR': 410, 'DOX': 299, 'TGNA': 423, 'VICI': 44, 'MRL.L': 293, 'MHK': 171, 'GPMT': 251, 'FERG': 112, 'USFD': 246, 'RL': 33, 'INVP.L': 29, 'FRA.DE': 146, 'MOTR.L': 131, 'BMY.L': 745, 'COLD': 430, 'PARA': 156, 'THRY': 881, 'GYC.DE': 192, 'TTEK': 179, 'CENT': 106, 'LOVE': 247, 'PK': 71, 'AAT': 441, '6645.T': 97, 'DECK': 544, 'ITI': 267, '6866.T': 273, 'MSFT': 994, '8818.T': 459, 'CPT': 95, 'EXR': 387, 'PLCE': 670, 'JBHT': 219, 'NTAP': 1663, 'AMS.L': 55, 'CNXC': 237, 'FGP.L': 20, '8014.T': 360, 'HL.L': 79, 'FBRT': 106, '7593.T': 451, 'HELE': 12418, 'FIS': 286, 'ABG': 247, 'PRU.L': 146, 'VFC': 757, 'FIGS': 360, 'KLIC': 140, 'LULU': 834, 'VOD.L': 172, 'CABO': 79, '8953.T': 141, 'SRE.L': 623, 'ANSS': 63, 'SIG': 66, 'HSIC': 171, 'CRUS': 160, '8130.T': 180, 'ALFA.L': 37, '6430.T': 1086, 'ORCL': 49, 'CIEN': 40, '8897.T': 1001, 'KTB': 65, '3471.T': 505, 'SMP': 64, 'CTRE': 400, '4849.T': 74, '4902.T': 24, 'HUBS': 55, '7483.T': 113, 'AMCR': 103, 'FCPT': 12, 'RRTL.DE': 846, 'HTG.DE': 68, 'GBF.DE': 247, 'SAFE': 270, 'RITM': 410, 'MUV2.DE': 281, '8876.T': 124, 'BYIT.L': 263, 'GLPI': 1037, 'DAN': 19, 'RDUS': 14964, 'SIX2.DE': 139, 'ZM': 57, 'OMF': 152, 'GEN': 51, 'ARI': 115, '8972.T': 1288, '8951.T': 272, 'MAT': 306, 'LASR': 387, '6703.T': 217, '7947.T': 816, 'FR': 12749, 'XPER': 218, 'DIS': 9568, 'CRST.L': 16261, '3738.T': 4526, 'SCHL': 304, 'INTC': 544, 'ADP': 189, 'ZTS': 59, 'VPG': 1385, 'ADSK': 501, '7220.T': 372, 'JUP.L': 144, 'TT': 393, '4298.T': 301, 'VSCO': 396, 'MIR': 126, 'FND': 83, 'WY': 298, 'CTSH': 177, 'SHO': 883, 'HABA.DE': 276, 'SFQ.DE': 767, 'CSR': 659, 'ADC': 242, '9832.T': 9737, 'TLX.DE': 2390, '8961.T': 216, 'VAR1.DE': 11398, '6674.T': 312, 'DXC': 97, 'CASS': 66, 'XHR': 1311, 'CLDT': 954, '6460.T': 15019, 'ARCB': 232, 'OMI': 133, '2475.T': 206, 'FDM.L': 11745, 'CNC': 461, 'EBAY': 124, 'BERY': 342, 'MRVL': 728, 'ROIC': 642, 'MLAB': 150, 'AVY': 41, 'GSK.L': 1891, '5970.T': 161, 'SCI': 443, 'TDC': 392, 'TJX': 272, '6857.T': 337, 'ULTA': 152, 'O': 125, 'CPI.L': 294, '3591.T': 88, 'CVLT': 654, 'NFLX': 95, 'BSY': 62, 'MA': 349, '6758.T': 121, '5991.T': 298, 'SONO': 17561, 'WHR.L': 111, '7974.T': 397, 'AHT.L': 474, 'NXST': 22174, 'URI': 422, 'CPRT': 611, '6737.T': 51, 'CYBR': 117, 'DELL': 25, 'ASO': 3550, 'VSTO': 352, 'SHOO': 420, 'LCII': 120, 'GLOB': 191, '8964.T': 98, '7832.T': 263, '1435.T': 208, 'ABDN.L': 189, 'S92.DE': 104, 'SDR.L': 42, 'DEA': 191, 'DX': 1887, 'GT': 527, '3186.T': 1843, 'NRR.L': 255, 'NSSC': 1163, '2733.T': 465, '3226.T': 94, '4324.T': 50, 'HVT': 438, 'GHC': 359, 'ITRK.L': 257, '4062.T': 447, '9474.T': 109, 'ODFL': 175, 'VTU.L': 491, 'AZTA': 82, 'BURL': 540, '1928.T': 113, 'PSDL.L': 216, '6471.T': 326, 'WBA': 35, 'BOOT': 3204, '2692.T': 49, 'DE': 131, 'GPK': 18, 'CPS': 42, 'BFAM': 1696, '7508.T': 1480, 'VVI': 182, 'SIRI': 41, 'RBBN': 119, 'TTWO': 54, '3668.T': 37, 'GIII': 168, 'WMG': 82, 'NG.L': 227, 'JCI': 633, 'TPE.DE': 301, 'JST.DE': 867, 'ESP.L': 128, '2429.T': 1293, 'DH': 45, 'CSGS': 93, '6902.T': 223, 'GCO': 78, 'CLAR': 1547, 'MER.L': 890, 'PCOR': 103, 'HIBB': 72, 'EOAN.DE': 24, '7296.T': 186, '3092.T': 252, 'XPP.L': 207, 'HLT': 6402, '8987.T': 297, 'BKE': 154, 'YOU.DE': 263, 'DHC': 226, 'SRT3.DE': 29, 'SMHN.DE': 539, 'VRSK': 192, 'UAA': 310, 'PSN.L': 574, 'CRTO': 263, '3231.T': 474, 'CIO': 190, 'DAVA': 204, 'RGP': 6949, 'FTNT': 388, 'FFIV': 1226, 'SPX.L': 225, 'WW': 41, 'PSTG': 243, 'HEAR': 39, 'TPH': 74, 'LTC': 659, 'PCTN.L': 39, '8966.T': 88, 'EVLV': 203, 'OSUR': 23, 'MCW': 49, 'PAR': 195, '9735.T': 1150, 'JUST.L': 262, 'EYE': 27, 'AEWU.L': 473, 'AGCO': 316, 'VIAV': 339, 'ZS': 6710, 'FOUR.L': 1459, 'OMCL': 238, 'IHRT': 206, 'SITE': 39, 'LESL': 193, 'SOHO.L': 176, 'WAF.DE': 143, '9729.T': 22363, 'OSW': 201, 'BXMT': 80, 'IRT': 892, 'CUBE': 71, 'TMHC': 202, 'GLW': 627, 'PAYX': 14283, 'GFS': 96, 'MTCH': 24547, 'HTWS.L': 305, '6644.T': 212, '7729.T': 258, 'OXM': 784, 'CARR': 89, '6736.T': 300, 'AAPL': 439, '3269.T': 730, 'REGN': 205, 'BIO': 90, 'UPBD': 66, 'EVD.DE': 111, 'SCT.L': 188, 'SNOW': 73, '6425.T': 9796, 'INTU': 47, 'WTW': 278, 'DKS': 186, '3468.T': 762, 'ROKU': 526, '9627.T': 286, '4293.T': 101, 'HLIT': 119, 'ODP': 57, 'ZI': 597, 'EFC': 30, 'CTAS': 299, 'UNH': 709, 'BLKB': 203, '7600.T': 350, 'PLYM': 1212, 'EPRT': 453, '6750.T': 170, 'COK.DE': 219, 'PINC': 71, 'KVUE': 390, '6588.T': 2846, 'ICHR': 676, '5332.T': 129, '4433.T': 130, 'EXTR': 332, 'AOF.DE': 273, 'TGT': 317, '2767.T': 305, '8985.T': 40, 'STJ.L': 66, '4452.T': 174, 'RLJ': 19104, 'LNT': 376, '2491.T': 400, 'ATRI': 524, '8804.T': 428, '8802.T': 314, 'RDC.DE': 249, 'HZO': 98, 'MEDP': 202, '7751.T': 173, 'AMN': 99, 'ROST': 247, 'CAL': 192, '6951.T': 342, '3492.T': 55, '5105.T': 67, 'PCA.L': 16, 'EWCZ': 11, 'PAT.DE': 1118, 'TFC': 57, 'FSLR': 1253, '9364.T': 177, '7730.T': 118, 'NEOG': 220, 'HNR1.DE': 559, '4619.T': 327, 'DAY': 409, '6592.T': 257, 'SNDR': 213, 'MDB': 1038, 'MEG': 414, 'MERC': 283, 'SHYF': 230, 'CHEF': 166, 'APLE': 103, 'ROK': 394, 'INFA': 906, '9401.T': 635, 'CATO': 10068, '9719.T': 18033, '3148.T': 17453, 'RH': 196, 'LSCC': 225, '3289.T': 599, 'GXI.DE': 206, 'EMG.L': 19, 'ONTF': 299, 'ZD': 17, 'SLAB': 202, '3050.T': 136, 'GTN': 124, 'CLI.L': 17, 'SAIA': 870, 'KN': 212, '7241.T': 151, 'NDX1.DE': 35, 'DAKT': 587, 'CHCT': 7795, 'PRI': 871, 'CHKP': 99, 'NETW.L': 52, 'HHFA.DE': 422, 'PUM.DE': 164, '8129.T': 434, 'NCNO': 172, 'FI': 194, 'JILL': 331, '9404.T': 151, 'UNFI': 246, 'CBL': 211, '2168.T': 369, '6723.T': 372, 'TWO': 208, '3191.T': 293, '6923.T': 219, 'INFN': 111, 'HURN': 1318, '7599.T': 139, 'UCTT': 8839, 'CHPT': 4206, 'VMUK.L': 260, 'B4B.DE': 58, 'XYL': 119, 'RBLX': 344, 'AYI': 65, 'ENT.L': 30, 'SY1.DE': 36, 'RENT': 134, 'UE': 420, 'BFH': 166, '2331.T': 189, '2395.T': 370, 'SHL.DE': 619, 'CRL': 200, 'AUTO.L': 389, 'EEX': 89, '4812.T': 266, 'KNX': 603, 'TRTX': 251, 'EVOK.L': 737, '4151.T': 393, 'ONT.L': 499, 'BELFB': 237, '7354.T': 111, 'TWKS': 204, 'MOD': 730, 'BEZ.L': 239, 'DRVN': 64, '8591.T': 69, 'PRSR.L': 150, '7844.T': 69, 'DDS': 563, 'RMR': 90, '4549.T': 16509, 'MNDY': 466, 'KCO.DE': 83, 'EVRI': 137, '3635.T': 429, 'AXP': 7772, 'ARRY': 10403, 'GTY.DE': 1019, '4503.T': 79, 'FOR': 71, 'EHTH': 38, 'NTST': 1157, 'PKG': 69, 'OC': 415, '9987.T': 2078, 'ARR': 7063, '3659.T': 593, '8601.T': 202, 'DTE.DE': 245, '7803.T': 23505, 'PAGS': 512, 'BIRD': 465, 'PGNY': 817, 'PFC.L': 64, 'UTI': 333, 'BEPC': 2179, '3481.T': 706, 'ATG.L': 21, 'DV': 313, 'GTY': 460, 'HEN3.DE': 518, 'TYL': 636, 'ADV': 5524, 'BLK': 210, 'NTCT': 227, 'PAYC': 143, 'GDDY': 316, 'PACB': 283, 'CRDA.L': 32, 'MGRC': 91, 'RC': 423, 'MNG.L': 151, 'ELAN': 436, '5101.T': 103, 'CPG.L': 1126, 'KBR': 250, 'ADUS': 337, 'RSG': 26539, 'PTC': 392, 'ALGN': 131, 'RAT.L': 135, '2972.T': 117, 'CNK': 422, 'LNC': 912, '6965.T': 85, 'NXT.L': 64, 'PHNX.L': 414, 'LABS.L': 832, 'CTO': 477, 'ICE': 37, 'MU': 96, 'ROL': 153, 'OTIS': 94, 'IIPR': 6697, '7936.T': 792, 'PRGS': 20, '8219.T': 41, 'AMP': 16, 'PTVE': 185, 'ICUI': 430, 'ENTG': 485, '9107.T': 381, 'AWK': 134, 'NKE': 37, '6955.T': 25, 'DTG.DE': 341, 'QSI': 151, 'JMAT.L': 164, 'MITK': 164, '2685.T': 456, 'NHI': 116, 'PRO': 348, 'BIJ.DE': 460, '3290.T': 70, 'FCN': 221, 'JAMF': 186, 'VZ': 910, '7988.T': 776, '3287.T': 295, 'TOST': 191, 'ARES': 452, 'WM': 370, 'LXS.DE': 495, 'CMI': 644, '2389.T': 289, 'DBX': 344, 'TILE': 38, 'HUBB': 310, 'ADTN': 361, 'RGA': 207, 'AVGO': 1761, 'RM': 181, 'HFG.DE': 999, '9684.T': 729, 'ENR': 343, 'SCVL': 397, 'IRWD': 349, 'EVC': 2785, 'ADPT': 1702, 'SAH': 184, 'CARG': 572, 'NEM.DE': 382, 'ZIM': 871, 'SBLK': 259, 'NXU.DE': 756, 'BK': 1033, 'ILMN': 261, 'APH': 398, '4369.T': 232, 'FDX': 191, '6941.T': 377, '6504.T': 93, '9757.T': 79, 'NTNX': 42, '9413.T': 94, 'BOOT.L': 81, 'IT': 87, 'SFOR.L': 1971, '8697.T': 15, '6971.T': 192, 'NXPI': 412, 'RS': 66, 'ITRN': 223, '9869.T': 37, 'APP': 132, 'DOLE': 138, 'SBRY.L': 324, 'HLX': 19800, '9069.T': 249, '2433.T': 438, 'WEIR.L': 89, '3151.T': 36, 'HOV': 265, 'LSTR': 1253, '3593.T': 209, 'VRTX': 287, 'TTC': 510, '2327.T': 615, '3636.T': 66, '3994.T': 70, '3697.T': 350, 'BKR': 641, 'EH': 126, '2502.T': 252, '9790.T': 598, 'TRU': 103, 'KETL.L': 191, 'PETQ': 427, '4839.T': 350, 'NVRI': 23781, 'GME': 39, '9605.T': 157, 'AIN': 2127, 'PMTS': 94, '4676.T': 351, 'FUBO': 40, 'CLFD': 84, 'MVIS': 384, 'SEAT': 46, 'SMCI': 344, 'DDD': 520, 'ISRG': 20, 'VC': 188, 'GMRE': 74, 'AMAL': 54, 'BEN': 159, 'FLTR.L': 2300, 'STGW': 93, '3048.T': 233, 'HRI': 4374, 'DFIN': 505, '8803.T': 202, 'XP': 250, 'AUDC': 309, 'FWONK': 400, 'RERE': 130, '5334.T': 114, 'DOW': 52, 'PSTL': 303, '7458.T': 253, 'ECV.DE': 782, 'DAR': 219, 'AMG': 76, '2971.T': 31, 'CERS': 49, 'BC': 566, 'WSC': 146, '7453.T': 1592, 'DCC.L': 266, 'CARD.L': 582, 'WIX': 751, '2471.T': 3584, 'LQDT': 91, 'DRQ': 328, '9064.T': 305, 'LYB': 16667, 'AWI': 929, 'BC8.DE': 17, '3341.T': 234, 'IQ': 17939, 'CLVT': 738, 'LII': 254, 'PGR': 35, 'MRNA': 335, 'TWI': 146, '4568.T': 201, 'CRCT': 913, '6787.T': 298, 'OCN.L': 905, 'VSEC': 28, 'TSCO.L': 40, 'BGC': 615, '3296.T': 63, 'RGL.L': 374, 'PEN': 102, '7518.T': 150, '9072.T': 253, 'GAMA.L': 397, '2670.T': 386, 'SUP': 117, 'MATX': 117, '9260.T': 338, 'DEQ.DE': 106, 'KIDS': 94, 'HALO': 1250, '9842.T': 134}\n",
      "Funds remaining: €75.83\n"
     ]
    },
    {
     "data": {
      "text/plain": [
       "        max_sharpe_weight  avg_annual_volatility  avg_annual_return  \\\n",
       "RS1.L             0.00029               1.718741           0.164886   \n",
       "KE                0.00020               1.734763          -0.034612   \n",
       "TEG.DE            0.00000               1.759762          -0.241269   \n",
       "LEG.DE            0.00060               1.837286           0.357127   \n",
       "SCS               0.00000               1.778105          -0.426986   \n",
       "...                   ...                    ...                ...   \n",
       "KVHI              0.00000               1.735725          -0.051170   \n",
       "MOON.L            0.00000               1.726650          -0.075088   \n",
       "NEO               0.00000               1.754121          -0.157139   \n",
       "6055.T            0.00000               1.731777          -0.316597   \n",
       "UNP               0.00000               1.760223          -0.279456   \n",
       "\n",
       "        return_last_period(12m)  \n",
       "RS1.L                      0.08  \n",
       "KE                        -0.35  \n",
       "TEG.DE                     0.63  \n",
       "LEG.DE                     0.49  \n",
       "SCS                        0.22  \n",
       "...                         ...  \n",
       "KVHI                      -0.12  \n",
       "MOON.L                     0.22  \n",
       "NEO                        0.28  \n",
       "6055.T                    -0.26  \n",
       "UNP                        0.26  \n",
       "\n",
       "[1651 rows x 4 columns]"
      ],
      "text/html": [
       "<div>\n",
       "<style scoped>\n",
       "    .dataframe tbody tr th:only-of-type {\n",
       "        vertical-align: middle;\n",
       "    }\n",
       "\n",
       "    .dataframe tbody tr th {\n",
       "        vertical-align: top;\n",
       "    }\n",
       "\n",
       "    .dataframe thead th {\n",
       "        text-align: right;\n",
       "    }\n",
       "</style>\n",
       "<table border=\"1\" class=\"dataframe\">\n",
       "  <thead>\n",
       "    <tr style=\"text-align: right;\">\n",
       "      <th></th>\n",
       "      <th>max_sharpe_weight</th>\n",
       "      <th>avg_annual_volatility</th>\n",
       "      <th>avg_annual_return</th>\n",
       "      <th>return_last_period(12m)</th>\n",
       "    </tr>\n",
       "  </thead>\n",
       "  <tbody>\n",
       "    <tr>\n",
       "      <th>RS1.L</th>\n",
       "      <td>0.00029</td>\n",
       "      <td>1.718741</td>\n",
       "      <td>0.164886</td>\n",
       "      <td>0.08</td>\n",
       "    </tr>\n",
       "    <tr>\n",
       "      <th>KE</th>\n",
       "      <td>0.00020</td>\n",
       "      <td>1.734763</td>\n",
       "      <td>-0.034612</td>\n",
       "      <td>-0.35</td>\n",
       "    </tr>\n",
       "    <tr>\n",
       "      <th>TEG.DE</th>\n",
       "      <td>0.00000</td>\n",
       "      <td>1.759762</td>\n",
       "      <td>-0.241269</td>\n",
       "      <td>0.63</td>\n",
       "    </tr>\n",
       "    <tr>\n",
       "      <th>LEG.DE</th>\n",
       "      <td>0.00060</td>\n",
       "      <td>1.837286</td>\n",
       "      <td>0.357127</td>\n",
       "      <td>0.49</td>\n",
       "    </tr>\n",
       "    <tr>\n",
       "      <th>SCS</th>\n",
       "      <td>0.00000</td>\n",
       "      <td>1.778105</td>\n",
       "      <td>-0.426986</td>\n",
       "      <td>0.22</td>\n",
       "    </tr>\n",
       "    <tr>\n",
       "      <th>...</th>\n",
       "      <td>...</td>\n",
       "      <td>...</td>\n",
       "      <td>...</td>\n",
       "      <td>...</td>\n",
       "    </tr>\n",
       "    <tr>\n",
       "      <th>KVHI</th>\n",
       "      <td>0.00000</td>\n",
       "      <td>1.735725</td>\n",
       "      <td>-0.051170</td>\n",
       "      <td>-0.12</td>\n",
       "    </tr>\n",
       "    <tr>\n",
       "      <th>MOON.L</th>\n",
       "      <td>0.00000</td>\n",
       "      <td>1.726650</td>\n",
       "      <td>-0.075088</td>\n",
       "      <td>0.22</td>\n",
       "    </tr>\n",
       "    <tr>\n",
       "      <th>NEO</th>\n",
       "      <td>0.00000</td>\n",
       "      <td>1.754121</td>\n",
       "      <td>-0.157139</td>\n",
       "      <td>0.28</td>\n",
       "    </tr>\n",
       "    <tr>\n",
       "      <th>6055.T</th>\n",
       "      <td>0.00000</td>\n",
       "      <td>1.731777</td>\n",
       "      <td>-0.316597</td>\n",
       "      <td>-0.26</td>\n",
       "    </tr>\n",
       "    <tr>\n",
       "      <th>UNP</th>\n",
       "      <td>0.00000</td>\n",
       "      <td>1.760223</td>\n",
       "      <td>-0.279456</td>\n",
       "      <td>0.26</td>\n",
       "    </tr>\n",
       "  </tbody>\n",
       "</table>\n",
       "<p>1651 rows × 4 columns</p>\n",
       "</div>"
      ]
     },
     "execution_count": 60,
     "metadata": {},
     "output_type": "execute_result"
    }
   ],
   "execution_count": 60
  },
  {
   "metadata": {
    "ExecuteTime": {
     "end_time": "2025-05-06T19:03:10.949235Z",
     "start_time": "2025-05-06T19:03:10.947400Z"
    }
   },
   "cell_type": "code",
   "source": "",
   "id": "f029dd1054da80a3",
   "outputs": [],
   "execution_count": null
  }
 ],
 "metadata": {
  "kernelspec": {
   "display_name": "Python 3",
   "language": "python",
   "name": "python3"
  },
  "language_info": {
   "codemirror_mode": {
    "name": "ipython",
    "version": 2
   },
   "file_extension": ".py",
   "mimetype": "text/x-python",
   "name": "python",
   "nbconvert_exporter": "python",
   "pygments_lexer": "ipython2",
   "version": "2.7.6"
  }
 },
 "nbformat": 4,
 "nbformat_minor": 5
}
