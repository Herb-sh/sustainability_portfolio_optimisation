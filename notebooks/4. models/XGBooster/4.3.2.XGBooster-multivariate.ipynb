{
 "cells": [
  {
   "cell_type": "code",
   "id": "initial_id",
   "metadata": {
    "collapsed": true,
    "ExecuteTime": {
     "end_time": "2025-03-31T19:35:04.684443Z",
     "start_time": "2025-03-31T19:35:04.677590Z"
    }
   },
   "source": [
    "# Python\n",
    "import pandas as pd\n",
    "import numpy as np\n",
    "#\n",
    "from pathlib import Path\n",
    "#\n",
    "import xgboost\n",
    "#\n",
    "import importlib\n",
    "import utilities.train_test as train_test\n",
    "import utilities.comparison as comparison"
   ],
   "outputs": [],
   "execution_count": 11
  },
  {
   "metadata": {},
   "cell_type": "code",
   "outputs": [],
   "execution_count": null,
   "source": [
    "df = pd.read_csv('../../../data/df_monthly_returns_complete_percentage.csv', index_col='Date')\n",
    "df_overview = pd.read_csv('../../../data/df_overview.csv', index_col=0)\n",
    "\n",
    "min_date = pd.to_datetime(df.index.max()) - pd.DateOffset(months=12*15)\n",
    "min_datestr = min_date.strftime('%Y-%m-%d')\n",
    "\n",
    "#df = df.loc[df.index >= min_datestr]"
   ],
   "id": "8fff3d5e823f722d"
  },
  {
   "metadata": {
    "ExecuteTime": {
     "end_time": "2025-03-31T19:37:52.768007Z",
     "start_time": "2025-03-31T19:35:04.693120Z"
    }
   },
   "cell_type": "code",
   "source": [
    "importlib.reload(train_test)\n",
    "\n",
    "df = pd.read_csv('../../../data/df_monthly_returns_complete_percentage.csv', index_col='Date')\n",
    "\n",
    "file=Path(\"../../../data/df_tabular_multi.csv\")\n",
    "\n",
    "if file.exists():\n",
    "    df_tabular=pd.read_csv(file, index_col=0)\n",
    "else:\n",
    "    importlib.reload(train_test)\n",
    "    df_tabular = train_test.get_dataframe_tabular_multi(df)\n",
    "    df_tabular.to_csv(file)"
   ],
   "id": "b9221bdd2218913f",
   "outputs": [],
   "execution_count": 12
  },
  {
   "metadata": {},
   "cell_type": "markdown",
   "source": "## Direct forecasting",
   "id": "83c623e468a5825a"
  },
  {
   "metadata": {
    "ExecuteTime": {
     "end_time": "2025-03-31T19:37:52.992622Z",
     "start_time": "2025-03-11T00:34:38.436006Z"
    }
   },
   "cell_type": "code",
   "source": [
    "# True values\n",
    "y_true = df.mean(axis=1)"
   ],
   "id": "811bd1873de6da8",
   "outputs": [],
   "execution_count": 30
  },
  {
   "metadata": {},
   "cell_type": "markdown",
   "source": "## 1 Month",
   "id": "4441e9b7d71e9e4c"
  },
  {
   "metadata": {},
   "cell_type": "code",
   "outputs": [],
   "execution_count": null,
   "source": [
    "importlib.reload(train_test)\n",
    "\n",
    "X_train, y_train, X_test, y_test = train_test.get_train_test(df_tabular, months=60)\n",
    "\n",
    "model = xgboost.XGBRegressor(n_estimators=1000)\n",
    "model.fit(X_train, y_train,\n",
    "          eval_set=[(X_train, y_train), (X_test, y_test)],\n",
    "          verbose=False)"
   ],
   "id": "1ef7b886a9125559"
  },
  {
   "metadata": {},
   "cell_type": "code",
   "outputs": [],
   "execution_count": null,
   "source": [
    "importlib.reload(comparison)\n",
    "months_1m = 1\n",
    "X_train_1m, y_train_1m, X_test_1m, y_test_1m = train_test.get_train_test(df_tabular, months=1)\n",
    "# reset index\n",
    "X_train_1m.reset_index(drop=True, inplace=True)\n",
    "y_train_1m.reset_index(drop=True, inplace=True)\n",
    "X_test_1m.reset_index(drop=True, inplace=True)\n",
    "y_test_1m.reset_index(drop=True, inplace=True)"
   ],
   "id": "e38e80acfa22ccfe"
  },
  {
   "metadata": {},
   "cell_type": "code",
   "outputs": [],
   "execution_count": null,
   "source": [
    "# Predictions\n",
    "y_train_pred_1m = model.predict(X_train_1m)\n",
    "y_test_pred_1m = model.predict(X_test_1m)"
   ],
   "id": "ed1ff73702ce29da"
  },
  {
   "metadata": {},
   "cell_type": "markdown",
   "source": "#### Train data",
   "id": "c324d597506ffa35"
  },
  {
   "metadata": {},
   "cell_type": "code",
   "outputs": [],
   "execution_count": null,
   "source": [
    "importlib.reload(comparison)\n",
    "y_train_mean_pred_1m, y_test_mean_pred_1m = comparison.get_train_test_mean_pred(y_train_pred_1m, y_test_pred_1m, len(df.columns))"
   ],
   "id": "41c676ba7d61844e"
  },
  {
   "metadata": {},
   "cell_type": "markdown",
   "source": "### 1 month Actual vs Prediction",
   "id": "cd12d24fdb0d2753"
  },
  {
   "metadata": {},
   "cell_type": "code",
   "outputs": [],
   "execution_count": null,
   "source": [
    "importlib.reload(comparison)\n",
    "comparison.generate_plot(df, df_tabular, y_train_mean_pred_1m, y_test_mean_pred_1m)"
   ],
   "id": "c554cf80ec6502a6"
  },
  {
   "metadata": {},
   "cell_type": "markdown",
   "source": "#### Overview table",
   "id": "bbb52293e9f74c02"
  },
  {
   "metadata": {},
   "cell_type": "code",
   "outputs": [],
   "execution_count": null,
   "source": [
    "importlib.reload(comparison)\n",
    "\n",
    "# Get train true values followed with predicted month/s\n",
    "y_train_1m_list = y_train_1m['m_return_target(t+1)'].tolist()\n",
    "y_test_1m_list = y_test_pred_1m.tolist()\n",
    "#\n",
    "df_to_evaluate_1m = comparison.get_df_to_evaluate(df, y_train_1m_list, y_test_1m_list)\n",
    "df_to_evaluate_1m = df_to_evaluate_1m - 1\n",
    "df_to_evaluate_1m"
   ],
   "id": "b89f9aeaf74d7a28"
  },
  {
   "metadata": {},
   "cell_type": "code",
   "outputs": [],
   "execution_count": null,
   "source": [
    "importlib.reload(comparison)\n",
    "df_pred_1m, raw_weights_1m, mu_1m, S_1m, sigma_1m, sharpe_1m = comparison.get_portfolio_performance(df_to_evaluate_1m,\n",
    "                                                                                                    \"xgbooster_weights_1m.csv\",\n",
    "                                                                                                    min_avg_return=-0.5,\n",
    "                                                                                                    months=12)\n",
    "\n",
    "allocation, leftover = comparison.create_discrete_allocation(df_pred_1m, raw_weights_1m)\n",
    "\n",
    "# Create overview\n",
    "df_view_1m = pd.DataFrame.from_dict(raw_weights_1m, orient='index', columns=['max_sharpe_weight'])\n",
    "# Extract volatilities (square root of diagonal elements)\n",
    "df_view_1m['avg_annual_volatility'] = pd.Series(np.sqrt(np.diag(S_1m)), index=S_1m.columns).values\n",
    "# Set annual returns\n",
    "df_view_1m['avg_annual_return'] = mu_1m.values\n",
    "#\n",
    "df_view_1m"
   ],
   "id": "4125fd745fbddd6a"
  },
  {
   "metadata": {},
   "cell_type": "markdown",
   "source": "## 6 Months\n",
   "id": "ebaa3b1a67bb1921"
  },
  {
   "metadata": {},
   "cell_type": "code",
   "outputs": [],
   "execution_count": null,
   "source": [
    "importlib.reload(train_test)\n",
    "X_train, y_train, X_test, y_test = train_test.get_train_test(df_tabular, months=60, target_key='m_return_target(t+6)')\n",
    "\n",
    "# \n",
    "model = xgboost.XGBRegressor(n_estimators=1000)\n",
    "model.fit(X_train, y_train,\n",
    "          eval_set=[(X_train, y_train), (X_test, y_test)],\n",
    "          verbose=False)"
   ],
   "id": "b1a9a2f1da6ccdd0"
  },
  {
   "metadata": {},
   "cell_type": "code",
   "outputs": [],
   "execution_count": null,
   "source": [
    "months_6m = 6\n",
    "X_train_6m, y_train_6m, X_test_6m, y_test_6m = train_test.get_train_test(df_tabular, months=6,\n",
    "                                                                         target_key='m_return_target(t+6)')\n",
    "\n",
    "# Predictions\n",
    "y_train_pred_6m = model.predict(X_train_6m)\n",
    "y_test_pred_6m = model.predict(X_test_6m)"
   ],
   "id": "459a450caa0e1dc1"
  },
  {
   "metadata": {},
   "cell_type": "markdown",
   "source": "#### Train data",
   "id": "21195a66217c4744"
  },
  {
   "metadata": {},
   "cell_type": "code",
   "outputs": [],
   "execution_count": null,
   "source": [
    "importlib.reload(comparison)\n",
    "y_train_mean_pred_6m, y_test_mean_pred_6m = comparison.get_train_test_mean_pred(y_train_pred_6m, y_test_pred_6m, len(df.columns))"
   ],
   "id": "e5749b7522561618"
  },
  {
   "metadata": {},
   "cell_type": "markdown",
   "source": "### 6 Months Actual vs Prediction",
   "id": "d0c3079231ade694"
  },
  {
   "metadata": {
    "ExecuteTime": {
     "end_time": "2025-04-07T23:59:28.441168Z",
     "start_time": "2025-04-07T23:59:28.211293Z"
    }
   },
   "cell_type": "code",
   "source": [
    "importlib.reload(comparison)\n",
    "comparison.generate_plot(df, df_tabular, y_train_mean_pred_6m, y_test_mean_pred_6m)"
   ],
   "id": "d3ed8454bf112ed2",
   "outputs": [
    {
     "ename": "NameError",
     "evalue": "name 'importlib' is not defined",
     "output_type": "error",
     "traceback": [
      "\u001B[0;31m---------------------------------------------------------------------------\u001B[0m",
      "\u001B[0;31mNameError\u001B[0m                                 Traceback (most recent call last)",
      "Cell \u001B[0;32mIn[1], line 1\u001B[0m\n\u001B[0;32m----> 1\u001B[0m importlib\u001B[38;5;241m.\u001B[39mreload(comparison)\n\u001B[1;32m      2\u001B[0m comparison\u001B[38;5;241m.\u001B[39mgenerate_plot(df, df_tabular, y_train_mean_pred_6m, y_test_mean_pred_6m)\n",
      "\u001B[0;31mNameError\u001B[0m: name 'importlib' is not defined"
     ]
    }
   ],
   "execution_count": 1
  },
  {
   "metadata": {},
   "cell_type": "markdown",
   "source": "#### Overview",
   "id": "1148da093550c989"
  },
  {
   "metadata": {},
   "cell_type": "code",
   "outputs": [],
   "execution_count": null,
   "source": [
    "# Get train true values followed with predicted month/s\n",
    "y_train_6m_list = y_train_6m['m_return_target(t+6)'].tolist()\n",
    "y_test_6m_list = y_test_pred_6m.tolist()\n",
    "#\n",
    "df_to_evaluate_6m = comparison.get_df_to_evaluate(df, y_train_1m_list, y_test_1m_list)\n",
    "df_to_evaluate_6m = df_to_evaluate_6m - 1\n",
    "df_to_evaluate_6m"
   ],
   "id": "d761352c52ff61eb"
  },
  {
   "metadata": {},
   "cell_type": "code",
   "outputs": [],
   "execution_count": null,
   "source": [
    "importlib.reload(comparison)\n",
    "df_pred_6m, raw_weights_6m, mu_6m, S_6m, sigma_6m, sharpe_6m = comparison.get_portfolio_performance(df_to_evaluate_6m,\n",
    "                                                                                                    \"xgbooster_weights_6m.csv\",\n",
    "                                                                                                    min_avg_return=-0.5,\n",
    "                                                                                                    months=12)\n",
    "comparison.create_discrete_allocation(df_pred_6m, raw_weights_6m)\n",
    "\n",
    "# Create overview\n",
    "df_view_6m = pd.DataFrame.from_dict(raw_weights_6m, orient='index', columns=['max_sharpe_weight'])\n",
    "# Extract volatilities (square root of diagonal elements)\n",
    "df_view_6m['avg_annual_volatility'] = pd.Series(np.sqrt(np.diag(S_6m)), index=S_6m.columns).values\n",
    "# Set annual returns\n",
    "df_view_6m['avg_annual_return'] = mu_6m.values\n",
    "#\n",
    "df_view_6m"
   ],
   "id": "b418720723786c"
  },
  {
   "metadata": {},
   "cell_type": "markdown",
   "source": "## 12 Months",
   "id": "87b88272ba0852d0"
  },
  {
   "metadata": {},
   "cell_type": "code",
   "outputs": [],
   "execution_count": null,
   "source": [
    "importlib.reload(train_test)\n",
    "X_train, y_train, X_test, y_test = train_test.get_train_test(df_tabular, months=60, target_key='m_return_target(t+12)')\n",
    "\n",
    "# \n",
    "model = xgboost.XGBRegressor(n_estimators=1000)\n",
    "model.fit(X_train, y_train,\n",
    "          eval_set=[(X_train, y_train), (X_test, y_test)],\n",
    "          verbose=False)"
   ],
   "id": "eaed46c6c2e0f136"
  },
  {
   "metadata": {},
   "cell_type": "code",
   "outputs": [],
   "execution_count": null,
   "source": [
    "months_12m = 12\n",
    "X_train_12m, y_train_12m, X_test_12m, y_test_12m = train_test.get_train_test(df_tabular, months=12,\n",
    "                                                                             target_key='m_return_target(t+12)')"
   ],
   "id": "c1966cf153bc8fe7"
  },
  {
   "metadata": {},
   "cell_type": "code",
   "outputs": [],
   "execution_count": null,
   "source": [
    "# Predictions\n",
    "y_train_pred_12m = model.predict(X_train_12m)\n",
    "y_test_pred_12m = model.predict(X_test_12m)"
   ],
   "id": "b437eae9f6783c48"
  },
  {
   "metadata": {},
   "cell_type": "markdown",
   "source": "#### Train-data",
   "id": "580130f2c245ce2d"
  },
  {
   "metadata": {},
   "cell_type": "code",
   "outputs": [],
   "execution_count": null,
   "source": [
    "importlib.reload(comparison)\n",
    "y_train_mean_pred_12m, y_test_mean_pred_12m = comparison.get_train_test_mean_pred(y_train_pred_12m, y_test_pred_12m, len(df.columns))"
   ],
   "id": "9115561acddefa29"
  },
  {
   "metadata": {},
   "cell_type": "markdown",
   "source": "### 12 Months Actual vs Prediction",
   "id": "c2d9b00a44eff0fd"
  },
  {
   "metadata": {},
   "cell_type": "code",
   "outputs": [],
   "execution_count": null,
   "source": [
    "importlib.reload(comparison)\n",
    "comparison.generate_plot(df, df_tabular, y_train_mean_pred_12m, y_test_mean_pred_12m)"
   ],
   "id": "e9ccba2a945e92be"
  },
  {
   "metadata": {},
   "cell_type": "markdown",
   "source": "#### Overview table",
   "id": "b5fac90a5039f917"
  },
  {
   "metadata": {},
   "cell_type": "code",
   "outputs": [],
   "execution_count": null,
   "source": [
    "importlib.reload(comparison)\n",
    "\n",
    "# Get train true values followed with predicted month/s\n",
    "y_train_12m_list = y_train_12m['m_return_target(t+12)'].tolist()\n",
    "y_test_12m_list = y_test_pred_12m.tolist()\n",
    "#\n",
    "df_to_evaluate_12m = comparison.get_df_to_evaluate(df, y_train_12m_list, y_test_12m_list)\n",
    "df_to_evaluate_12m = df_to_evaluate_12m - 1\n",
    "df_to_evaluate_12m"
   ],
   "id": "c4dd13fb1fb5f1d2"
  },
  {
   "metadata": {},
   "cell_type": "code",
   "outputs": [],
   "execution_count": null,
   "source": [
    "importlib.reload(comparison)\n",
    "df_pred_12m, raw_weights_12m, mu_12m, S_12m, sigma_12m, sharpe_12m = comparison.get_portfolio_performance(df_to_evaluate_12m,\n",
    "                                                                                                          \"xgbooster_weights_12m.csv\",\n",
    "                                                                                                          min_avg_return=-0.5,\n",
    "                                                                                                          months=12)\n",
    "comparison.create_discrete_allocation(df_pred_12m, raw_weights_12m)\n",
    "\n",
    "# Create overview\n",
    "df_view_12m = pd.DataFrame.from_dict(raw_weights_12m, orient='index', columns=['max_sharpe_weight'])\n",
    "# Extract volatilities (square root of diagonal elements)\n",
    "df_view_12m['avg_annual_volatility'] = pd.Series(np.sqrt(np.diag(S_12m)), index=S_12m.columns).values\n",
    "# Set annual returns\n",
    "df_view_12m['avg_annual_return'] = mu_12m.values\n",
    "# \n",
    "df_view_12m['return_last_period(12m)'] = round(df.tail(12).prod() - 1, 2)\n",
    "df_view_12m"
   ],
   "id": "3a171696f1592bdb"
  }
 ],
 "metadata": {
  "kernelspec": {
   "display_name": "Python 3",
   "language": "python",
   "name": "python3"
  },
  "language_info": {
   "codemirror_mode": {
    "name": "ipython",
    "version": 2
   },
   "file_extension": ".py",
   "mimetype": "text/x-python",
   "name": "python",
   "nbconvert_exporter": "python",
   "pygments_lexer": "ipython2",
   "version": "2.7.6"
  }
 },
 "nbformat": 4,
 "nbformat_minor": 5
}
