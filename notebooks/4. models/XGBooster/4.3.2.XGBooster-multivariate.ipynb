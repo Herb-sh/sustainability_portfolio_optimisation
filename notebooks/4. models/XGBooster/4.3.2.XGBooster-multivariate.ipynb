{
 "cells": [
  {
   "cell_type": "code",
   "id": "initial_id",
   "metadata": {
    "collapsed": true,
    "ExecuteTime": {
     "end_time": "2025-04-09T18:16:07.060282Z",
     "start_time": "2025-04-09T18:16:07.052699Z"
    }
   },
   "source": [
    "# Python\n",
    "import pandas as pd\n",
    "import numpy as np\n",
    "#\n",
    "from pathlib import Path\n",
    "#\n",
    "import xgboost\n",
    "#\n",
    "import importlib\n",
    "import utilities.train_test as train_test\n",
    "import utilities.comparison as comparison"
   ],
   "outputs": [],
   "execution_count": 16
  },
  {
   "metadata": {
    "ExecuteTime": {
     "end_time": "2025-04-09T18:16:07.129307Z",
     "start_time": "2025-04-09T18:16:07.064914Z"
    }
   },
   "cell_type": "code",
   "source": [
    "df = pd.read_csv('../../../data/df_monthly_returns_complete_percentage.csv', index_col='Date')\n",
    "df_overview = pd.read_csv('../../../data/df_overview.csv', index_col=0)\n",
    "\n",
    "min_date = pd.to_datetime(df.index.max()) - pd.DateOffset(months=12*15)\n",
    "min_datestr = min_date.strftime('%Y-%m-%d')\n",
    "\n",
    "#df = df.loc[df.index >= min_datestr]"
   ],
   "id": "8fff3d5e823f722d",
   "outputs": [],
   "execution_count": 17
  },
  {
   "metadata": {
    "ExecuteTime": {
     "end_time": "2025-04-09T18:16:08.921883Z",
     "start_time": "2025-04-09T18:16:07.350925Z"
    }
   },
   "cell_type": "code",
   "source": [
    "importlib.reload(train_test)\n",
    " \n",
    "df = pd.read_csv('../../../data/df_monthly_returns_complete_percentage.csv', index_col='Date')\n",
    "\n",
    "file=Path(\"../../../data/df_tabular_multi.csv\")\n",
    "\n",
    "if file.exists():\n",
    "    df_tabular_multi=pd.read_csv(file, index_col=0)\n",
    "else:\n",
    "    importlib.reload(train_test)\n",
    "    df_tabular_multi = train_test.get_dataframe_tabular_multi(df)\n",
    "    df_tabular_multi.to_csv(file)"
   ],
   "id": "b9221bdd2218913f",
   "outputs": [],
   "execution_count": 18
  },
  {
   "metadata": {},
   "cell_type": "markdown",
   "source": "## Direct forecasting",
   "id": "83c623e468a5825a"
  },
  {
   "metadata": {
    "ExecuteTime": {
     "end_time": "2025-04-09T18:16:09.031455Z",
     "start_time": "2025-04-09T18:16:09.025455Z"
    }
   },
   "cell_type": "code",
   "source": [
    "# True values\n",
    "y_true = df.mean(axis=1)"
   ],
   "id": "811bd1873de6da8",
   "outputs": [],
   "execution_count": 19
  },
  {
   "metadata": {},
   "cell_type": "markdown",
   "source": "## 1 Month",
   "id": "4441e9b7d71e9e4c"
  },
  {
   "metadata": {
    "ExecuteTime": {
     "end_time": "2025-04-09T18:16:09.187381Z",
     "start_time": "2025-04-09T18:16:09.133471Z"
    }
   },
   "cell_type": "code",
   "source": "df_tabular_multi",
   "id": "d0405d45c1971caa",
   "outputs": [
    {
     "data": {
      "text/plain": [
       "        month  year        date  m_return(t-11)  m_return(t-10)  \\\n",
       "0          10  2000  2000-10-01            1.13            1.11   \n",
       "1          11  2000  2000-11-01            1.11            1.02   \n",
       "2          12  2000  2000-12-01            1.02            1.00   \n",
       "3           1  2001  2001-01-01            1.00            1.00   \n",
       "4           2  2001  2001-02-01            1.00            1.00   \n",
       "...       ...   ...         ...             ...             ...   \n",
       "474406      4  2024  2024-04-01            0.98            1.07   \n",
       "474407      5  2024  2024-05-01            1.07            1.13   \n",
       "474408      6  2024  2024-06-01            1.13            0.95   \n",
       "474409      7  2024  2024-07-01            0.95            0.93   \n",
       "474410      8  2024  2024-08-01            0.93            1.02   \n",
       "\n",
       "        m_return(t-9)  m_return(t-8)  m_return(t-7)  m_return(t-6)  \\\n",
       "0                1.02           1.00           1.00           1.00   \n",
       "1                1.00           1.00           1.00           1.00   \n",
       "2                1.00           1.00           1.00           1.00   \n",
       "3                1.00           1.00           1.00           1.01   \n",
       "4                1.00           1.00           1.01           1.00   \n",
       "...               ...            ...            ...            ...   \n",
       "474406           1.13           0.95           0.93           1.02   \n",
       "474407           0.95           0.93           1.02           1.09   \n",
       "474408           0.93           1.02           1.09           1.09   \n",
       "474409           1.02           1.09           1.09           1.00   \n",
       "474410           1.09           1.09           1.00           1.04   \n",
       "\n",
       "        m_return(t-5)  ...  industry_Traders & Distributors  \\\n",
       "0                1.00  ...                                0   \n",
       "1                1.00  ...                                0   \n",
       "2                1.01  ...                                0   \n",
       "3                1.00  ...                                0   \n",
       "4                1.00  ...                                0   \n",
       "...               ...  ...                              ...   \n",
       "474406           1.09  ...                                0   \n",
       "474407           1.09  ...                                0   \n",
       "474408           1.00  ...                                0   \n",
       "474409           1.04  ...                                0   \n",
       "474410           0.97  ...                                0   \n",
       "\n",
       "        industry_Transportation  industry_Transportation Infrastructure  \\\n",
       "0                             0                                       0   \n",
       "1                             0                                       0   \n",
       "2                             0                                       0   \n",
       "3                             0                                       0   \n",
       "4                             0                                       0   \n",
       "...                         ...                                     ...   \n",
       "474406                        1                                       0   \n",
       "474407                        1                                       0   \n",
       "474408                        1                                       0   \n",
       "474409                        1                                       0   \n",
       "474410                        1                                       0   \n",
       "\n",
       "        industry_Utilities  stock_exchange_ETR  stock_exchange_LON  \\\n",
       "0                        0                   0                   1   \n",
       "1                        0                   0                   1   \n",
       "2                        0                   0                   1   \n",
       "3                        0                   0                   1   \n",
       "4                        0                   0                   1   \n",
       "...                    ...                 ...                 ...   \n",
       "474406                   0                   0                   0   \n",
       "474407                   0                   0                   0   \n",
       "474408                   0                   0                   0   \n",
       "474409                   0                   0                   0   \n",
       "474410                   0                   0                   0   \n",
       "\n",
       "        stock_exchange_NAS  stock_exchange_NYS  stock_exchange_TKS  \\\n",
       "0                        0                   0                   0   \n",
       "1                        0                   0                   0   \n",
       "2                        0                   0                   0   \n",
       "3                        0                   0                   0   \n",
       "4                        0                   0                   0   \n",
       "...                    ...                 ...                 ...   \n",
       "474406                   0                   1                   0   \n",
       "474407                   0                   1                   0   \n",
       "474408                   0                   1                   0   \n",
       "474409                   0                   1                   0   \n",
       "474410                   0                   1                   0   \n",
       "\n",
       "        trailing_pe_scaled  \n",
       "0                 0.001718  \n",
       "1                 0.001718  \n",
       "2                 0.001718  \n",
       "3                 0.001718  \n",
       "4                 0.001718  \n",
       "...                    ...  \n",
       "474406            0.002044  \n",
       "474407            0.002044  \n",
       "474408            0.002044  \n",
       "474409            0.002044  \n",
       "474410            0.002044  \n",
       "\n",
       "[474411 rows x 85 columns]"
      ],
      "text/html": [
       "<div>\n",
       "<style scoped>\n",
       "    .dataframe tbody tr th:only-of-type {\n",
       "        vertical-align: middle;\n",
       "    }\n",
       "\n",
       "    .dataframe tbody tr th {\n",
       "        vertical-align: top;\n",
       "    }\n",
       "\n",
       "    .dataframe thead th {\n",
       "        text-align: right;\n",
       "    }\n",
       "</style>\n",
       "<table border=\"1\" class=\"dataframe\">\n",
       "  <thead>\n",
       "    <tr style=\"text-align: right;\">\n",
       "      <th></th>\n",
       "      <th>month</th>\n",
       "      <th>year</th>\n",
       "      <th>date</th>\n",
       "      <th>m_return(t-11)</th>\n",
       "      <th>m_return(t-10)</th>\n",
       "      <th>m_return(t-9)</th>\n",
       "      <th>m_return(t-8)</th>\n",
       "      <th>m_return(t-7)</th>\n",
       "      <th>m_return(t-6)</th>\n",
       "      <th>m_return(t-5)</th>\n",
       "      <th>...</th>\n",
       "      <th>industry_Traders &amp; Distributors</th>\n",
       "      <th>industry_Transportation</th>\n",
       "      <th>industry_Transportation Infrastructure</th>\n",
       "      <th>industry_Utilities</th>\n",
       "      <th>stock_exchange_ETR</th>\n",
       "      <th>stock_exchange_LON</th>\n",
       "      <th>stock_exchange_NAS</th>\n",
       "      <th>stock_exchange_NYS</th>\n",
       "      <th>stock_exchange_TKS</th>\n",
       "      <th>trailing_pe_scaled</th>\n",
       "    </tr>\n",
       "  </thead>\n",
       "  <tbody>\n",
       "    <tr>\n",
       "      <th>0</th>\n",
       "      <td>10</td>\n",
       "      <td>2000</td>\n",
       "      <td>2000-10-01</td>\n",
       "      <td>1.13</td>\n",
       "      <td>1.11</td>\n",
       "      <td>1.02</td>\n",
       "      <td>1.00</td>\n",
       "      <td>1.00</td>\n",
       "      <td>1.00</td>\n",
       "      <td>1.00</td>\n",
       "      <td>...</td>\n",
       "      <td>0</td>\n",
       "      <td>0</td>\n",
       "      <td>0</td>\n",
       "      <td>0</td>\n",
       "      <td>0</td>\n",
       "      <td>1</td>\n",
       "      <td>0</td>\n",
       "      <td>0</td>\n",
       "      <td>0</td>\n",
       "      <td>0.001718</td>\n",
       "    </tr>\n",
       "    <tr>\n",
       "      <th>1</th>\n",
       "      <td>11</td>\n",
       "      <td>2000</td>\n",
       "      <td>2000-11-01</td>\n",
       "      <td>1.11</td>\n",
       "      <td>1.02</td>\n",
       "      <td>1.00</td>\n",
       "      <td>1.00</td>\n",
       "      <td>1.00</td>\n",
       "      <td>1.00</td>\n",
       "      <td>1.00</td>\n",
       "      <td>...</td>\n",
       "      <td>0</td>\n",
       "      <td>0</td>\n",
       "      <td>0</td>\n",
       "      <td>0</td>\n",
       "      <td>0</td>\n",
       "      <td>1</td>\n",
       "      <td>0</td>\n",
       "      <td>0</td>\n",
       "      <td>0</td>\n",
       "      <td>0.001718</td>\n",
       "    </tr>\n",
       "    <tr>\n",
       "      <th>2</th>\n",
       "      <td>12</td>\n",
       "      <td>2000</td>\n",
       "      <td>2000-12-01</td>\n",
       "      <td>1.02</td>\n",
       "      <td>1.00</td>\n",
       "      <td>1.00</td>\n",
       "      <td>1.00</td>\n",
       "      <td>1.00</td>\n",
       "      <td>1.00</td>\n",
       "      <td>1.01</td>\n",
       "      <td>...</td>\n",
       "      <td>0</td>\n",
       "      <td>0</td>\n",
       "      <td>0</td>\n",
       "      <td>0</td>\n",
       "      <td>0</td>\n",
       "      <td>1</td>\n",
       "      <td>0</td>\n",
       "      <td>0</td>\n",
       "      <td>0</td>\n",
       "      <td>0.001718</td>\n",
       "    </tr>\n",
       "    <tr>\n",
       "      <th>3</th>\n",
       "      <td>1</td>\n",
       "      <td>2001</td>\n",
       "      <td>2001-01-01</td>\n",
       "      <td>1.00</td>\n",
       "      <td>1.00</td>\n",
       "      <td>1.00</td>\n",
       "      <td>1.00</td>\n",
       "      <td>1.00</td>\n",
       "      <td>1.01</td>\n",
       "      <td>1.00</td>\n",
       "      <td>...</td>\n",
       "      <td>0</td>\n",
       "      <td>0</td>\n",
       "      <td>0</td>\n",
       "      <td>0</td>\n",
       "      <td>0</td>\n",
       "      <td>1</td>\n",
       "      <td>0</td>\n",
       "      <td>0</td>\n",
       "      <td>0</td>\n",
       "      <td>0.001718</td>\n",
       "    </tr>\n",
       "    <tr>\n",
       "      <th>4</th>\n",
       "      <td>2</td>\n",
       "      <td>2001</td>\n",
       "      <td>2001-02-01</td>\n",
       "      <td>1.00</td>\n",
       "      <td>1.00</td>\n",
       "      <td>1.00</td>\n",
       "      <td>1.00</td>\n",
       "      <td>1.01</td>\n",
       "      <td>1.00</td>\n",
       "      <td>1.00</td>\n",
       "      <td>...</td>\n",
       "      <td>0</td>\n",
       "      <td>0</td>\n",
       "      <td>0</td>\n",
       "      <td>0</td>\n",
       "      <td>0</td>\n",
       "      <td>1</td>\n",
       "      <td>0</td>\n",
       "      <td>0</td>\n",
       "      <td>0</td>\n",
       "      <td>0.001718</td>\n",
       "    </tr>\n",
       "    <tr>\n",
       "      <th>...</th>\n",
       "      <td>...</td>\n",
       "      <td>...</td>\n",
       "      <td>...</td>\n",
       "      <td>...</td>\n",
       "      <td>...</td>\n",
       "      <td>...</td>\n",
       "      <td>...</td>\n",
       "      <td>...</td>\n",
       "      <td>...</td>\n",
       "      <td>...</td>\n",
       "      <td>...</td>\n",
       "      <td>...</td>\n",
       "      <td>...</td>\n",
       "      <td>...</td>\n",
       "      <td>...</td>\n",
       "      <td>...</td>\n",
       "      <td>...</td>\n",
       "      <td>...</td>\n",
       "      <td>...</td>\n",
       "      <td>...</td>\n",
       "      <td>...</td>\n",
       "    </tr>\n",
       "    <tr>\n",
       "      <th>474406</th>\n",
       "      <td>4</td>\n",
       "      <td>2024</td>\n",
       "      <td>2024-04-01</td>\n",
       "      <td>0.98</td>\n",
       "      <td>1.07</td>\n",
       "      <td>1.13</td>\n",
       "      <td>0.95</td>\n",
       "      <td>0.93</td>\n",
       "      <td>1.02</td>\n",
       "      <td>1.09</td>\n",
       "      <td>...</td>\n",
       "      <td>0</td>\n",
       "      <td>1</td>\n",
       "      <td>0</td>\n",
       "      <td>0</td>\n",
       "      <td>0</td>\n",
       "      <td>0</td>\n",
       "      <td>0</td>\n",
       "      <td>1</td>\n",
       "      <td>0</td>\n",
       "      <td>0.002044</td>\n",
       "    </tr>\n",
       "    <tr>\n",
       "      <th>474407</th>\n",
       "      <td>5</td>\n",
       "      <td>2024</td>\n",
       "      <td>2024-05-01</td>\n",
       "      <td>1.07</td>\n",
       "      <td>1.13</td>\n",
       "      <td>0.95</td>\n",
       "      <td>0.93</td>\n",
       "      <td>1.02</td>\n",
       "      <td>1.09</td>\n",
       "      <td>1.09</td>\n",
       "      <td>...</td>\n",
       "      <td>0</td>\n",
       "      <td>1</td>\n",
       "      <td>0</td>\n",
       "      <td>0</td>\n",
       "      <td>0</td>\n",
       "      <td>0</td>\n",
       "      <td>0</td>\n",
       "      <td>1</td>\n",
       "      <td>0</td>\n",
       "      <td>0.002044</td>\n",
       "    </tr>\n",
       "    <tr>\n",
       "      <th>474408</th>\n",
       "      <td>6</td>\n",
       "      <td>2024</td>\n",
       "      <td>2024-06-01</td>\n",
       "      <td>1.13</td>\n",
       "      <td>0.95</td>\n",
       "      <td>0.93</td>\n",
       "      <td>1.02</td>\n",
       "      <td>1.09</td>\n",
       "      <td>1.09</td>\n",
       "      <td>1.00</td>\n",
       "      <td>...</td>\n",
       "      <td>0</td>\n",
       "      <td>1</td>\n",
       "      <td>0</td>\n",
       "      <td>0</td>\n",
       "      <td>0</td>\n",
       "      <td>0</td>\n",
       "      <td>0</td>\n",
       "      <td>1</td>\n",
       "      <td>0</td>\n",
       "      <td>0.002044</td>\n",
       "    </tr>\n",
       "    <tr>\n",
       "      <th>474409</th>\n",
       "      <td>7</td>\n",
       "      <td>2024</td>\n",
       "      <td>2024-07-01</td>\n",
       "      <td>0.95</td>\n",
       "      <td>0.93</td>\n",
       "      <td>1.02</td>\n",
       "      <td>1.09</td>\n",
       "      <td>1.09</td>\n",
       "      <td>1.00</td>\n",
       "      <td>1.04</td>\n",
       "      <td>...</td>\n",
       "      <td>0</td>\n",
       "      <td>1</td>\n",
       "      <td>0</td>\n",
       "      <td>0</td>\n",
       "      <td>0</td>\n",
       "      <td>0</td>\n",
       "      <td>0</td>\n",
       "      <td>1</td>\n",
       "      <td>0</td>\n",
       "      <td>0.002044</td>\n",
       "    </tr>\n",
       "    <tr>\n",
       "      <th>474410</th>\n",
       "      <td>8</td>\n",
       "      <td>2024</td>\n",
       "      <td>2024-08-01</td>\n",
       "      <td>0.93</td>\n",
       "      <td>1.02</td>\n",
       "      <td>1.09</td>\n",
       "      <td>1.09</td>\n",
       "      <td>1.00</td>\n",
       "      <td>1.04</td>\n",
       "      <td>0.97</td>\n",
       "      <td>...</td>\n",
       "      <td>0</td>\n",
       "      <td>1</td>\n",
       "      <td>0</td>\n",
       "      <td>0</td>\n",
       "      <td>0</td>\n",
       "      <td>0</td>\n",
       "      <td>0</td>\n",
       "      <td>1</td>\n",
       "      <td>0</td>\n",
       "      <td>0.002044</td>\n",
       "    </tr>\n",
       "  </tbody>\n",
       "</table>\n",
       "<p>474411 rows × 85 columns</p>\n",
       "</div>"
      ]
     },
     "execution_count": 20,
     "metadata": {},
     "output_type": "execute_result"
    }
   ],
   "execution_count": 20
  },
  {
   "metadata": {
    "ExecuteTime": {
     "end_time": "2025-04-09T18:16:37.632073Z",
     "start_time": "2025-04-09T18:16:09.316349Z"
    }
   },
   "cell_type": "code",
   "source": [
    "importlib.reload(train_test)\n",
    "\n",
    "X_train, y_train, X_test, y_test = train_test.get_train_test(df_tabular_multi, months=60)\n",
    "\n",
    "model = xgboost.XGBRegressor(n_estimators=1000)\n",
    "model.fit(X_train, y_train,\n",
    "          eval_set=[(X_train, y_train), (X_test, y_test)],\n",
    "          verbose=False)"
   ],
   "id": "1ef7b886a9125559",
   "outputs": [
    {
     "name": "stdout",
     "output_type": "stream",
     "text": [
      "2019-08-01\n"
     ]
    },
    {
     "data": {
      "text/plain": [
       "XGBRegressor(base_score=None, booster=None, callbacks=None,\n",
       "             colsample_bylevel=None, colsample_bynode=None,\n",
       "             colsample_bytree=None, device=None, early_stopping_rounds=None,\n",
       "             enable_categorical=False, eval_metric=None, feature_types=None,\n",
       "             gamma=None, grow_policy=None, importance_type=None,\n",
       "             interaction_constraints=None, learning_rate=None, max_bin=None,\n",
       "             max_cat_threshold=None, max_cat_to_onehot=None,\n",
       "             max_delta_step=None, max_depth=None, max_leaves=None,\n",
       "             min_child_weight=None, missing=nan, monotone_constraints=None,\n",
       "             multi_strategy=None, n_estimators=1000, n_jobs=None,\n",
       "             num_parallel_tree=None, random_state=None, ...)"
      ],
      "text/html": [
       "<style>#sk-container-id-2 {color: black;}#sk-container-id-2 pre{padding: 0;}#sk-container-id-2 div.sk-toggleable {background-color: white;}#sk-container-id-2 label.sk-toggleable__label {cursor: pointer;display: block;width: 100%;margin-bottom: 0;padding: 0.3em;box-sizing: border-box;text-align: center;}#sk-container-id-2 label.sk-toggleable__label-arrow:before {content: \"▸\";float: left;margin-right: 0.25em;color: #696969;}#sk-container-id-2 label.sk-toggleable__label-arrow:hover:before {color: black;}#sk-container-id-2 div.sk-estimator:hover label.sk-toggleable__label-arrow:before {color: black;}#sk-container-id-2 div.sk-toggleable__content {max-height: 0;max-width: 0;overflow: hidden;text-align: left;background-color: #f0f8ff;}#sk-container-id-2 div.sk-toggleable__content pre {margin: 0.2em;color: black;border-radius: 0.25em;background-color: #f0f8ff;}#sk-container-id-2 input.sk-toggleable__control:checked~div.sk-toggleable__content {max-height: 200px;max-width: 100%;overflow: auto;}#sk-container-id-2 input.sk-toggleable__control:checked~label.sk-toggleable__label-arrow:before {content: \"▾\";}#sk-container-id-2 div.sk-estimator input.sk-toggleable__control:checked~label.sk-toggleable__label {background-color: #d4ebff;}#sk-container-id-2 div.sk-label input.sk-toggleable__control:checked~label.sk-toggleable__label {background-color: #d4ebff;}#sk-container-id-2 input.sk-hidden--visually {border: 0;clip: rect(1px 1px 1px 1px);clip: rect(1px, 1px, 1px, 1px);height: 1px;margin: -1px;overflow: hidden;padding: 0;position: absolute;width: 1px;}#sk-container-id-2 div.sk-estimator {font-family: monospace;background-color: #f0f8ff;border: 1px dotted black;border-radius: 0.25em;box-sizing: border-box;margin-bottom: 0.5em;}#sk-container-id-2 div.sk-estimator:hover {background-color: #d4ebff;}#sk-container-id-2 div.sk-parallel-item::after {content: \"\";width: 100%;border-bottom: 1px solid gray;flex-grow: 1;}#sk-container-id-2 div.sk-label:hover label.sk-toggleable__label {background-color: #d4ebff;}#sk-container-id-2 div.sk-serial::before {content: \"\";position: absolute;border-left: 1px solid gray;box-sizing: border-box;top: 0;bottom: 0;left: 50%;z-index: 0;}#sk-container-id-2 div.sk-serial {display: flex;flex-direction: column;align-items: center;background-color: white;padding-right: 0.2em;padding-left: 0.2em;position: relative;}#sk-container-id-2 div.sk-item {position: relative;z-index: 1;}#sk-container-id-2 div.sk-parallel {display: flex;align-items: stretch;justify-content: center;background-color: white;position: relative;}#sk-container-id-2 div.sk-item::before, #sk-container-id-2 div.sk-parallel-item::before {content: \"\";position: absolute;border-left: 1px solid gray;box-sizing: border-box;top: 0;bottom: 0;left: 50%;z-index: -1;}#sk-container-id-2 div.sk-parallel-item {display: flex;flex-direction: column;z-index: 1;position: relative;background-color: white;}#sk-container-id-2 div.sk-parallel-item:first-child::after {align-self: flex-end;width: 50%;}#sk-container-id-2 div.sk-parallel-item:last-child::after {align-self: flex-start;width: 50%;}#sk-container-id-2 div.sk-parallel-item:only-child::after {width: 0;}#sk-container-id-2 div.sk-dashed-wrapped {border: 1px dashed gray;margin: 0 0.4em 0.5em 0.4em;box-sizing: border-box;padding-bottom: 0.4em;background-color: white;}#sk-container-id-2 div.sk-label label {font-family: monospace;font-weight: bold;display: inline-block;line-height: 1.2em;}#sk-container-id-2 div.sk-label-container {text-align: center;}#sk-container-id-2 div.sk-container {/* jupyter's `normalize.less` sets `[hidden] { display: none; }` but bootstrap.min.css set `[hidden] { display: none !important; }` so we also need the `!important` here to be able to override the default hidden behavior on the sphinx rendered scikit-learn.org. See: https://github.com/scikit-learn/scikit-learn/issues/21755 */display: inline-block !important;position: relative;}#sk-container-id-2 div.sk-text-repr-fallback {display: none;}</style><div id=\"sk-container-id-2\" class=\"sk-top-container\"><div class=\"sk-text-repr-fallback\"><pre>XGBRegressor(base_score=None, booster=None, callbacks=None,\n",
       "             colsample_bylevel=None, colsample_bynode=None,\n",
       "             colsample_bytree=None, device=None, early_stopping_rounds=None,\n",
       "             enable_categorical=False, eval_metric=None, feature_types=None,\n",
       "             gamma=None, grow_policy=None, importance_type=None,\n",
       "             interaction_constraints=None, learning_rate=None, max_bin=None,\n",
       "             max_cat_threshold=None, max_cat_to_onehot=None,\n",
       "             max_delta_step=None, max_depth=None, max_leaves=None,\n",
       "             min_child_weight=None, missing=nan, monotone_constraints=None,\n",
       "             multi_strategy=None, n_estimators=1000, n_jobs=None,\n",
       "             num_parallel_tree=None, random_state=None, ...)</pre><b>In a Jupyter environment, please rerun this cell to show the HTML representation or trust the notebook. <br />On GitHub, the HTML representation is unable to render, please try loading this page with nbviewer.org.</b></div><div class=\"sk-container\" hidden><div class=\"sk-item\"><div class=\"sk-estimator sk-toggleable\"><input class=\"sk-toggleable__control sk-hidden--visually\" id=\"sk-estimator-id-2\" type=\"checkbox\" checked><label for=\"sk-estimator-id-2\" class=\"sk-toggleable__label sk-toggleable__label-arrow\">XGBRegressor</label><div class=\"sk-toggleable__content\"><pre>XGBRegressor(base_score=None, booster=None, callbacks=None,\n",
       "             colsample_bylevel=None, colsample_bynode=None,\n",
       "             colsample_bytree=None, device=None, early_stopping_rounds=None,\n",
       "             enable_categorical=False, eval_metric=None, feature_types=None,\n",
       "             gamma=None, grow_policy=None, importance_type=None,\n",
       "             interaction_constraints=None, learning_rate=None, max_bin=None,\n",
       "             max_cat_threshold=None, max_cat_to_onehot=None,\n",
       "             max_delta_step=None, max_depth=None, max_leaves=None,\n",
       "             min_child_weight=None, missing=nan, monotone_constraints=None,\n",
       "             multi_strategy=None, n_estimators=1000, n_jobs=None,\n",
       "             num_parallel_tree=None, random_state=None, ...)</pre></div></div></div></div></div>"
      ]
     },
     "execution_count": 21,
     "metadata": {},
     "output_type": "execute_result"
    }
   ],
   "execution_count": 21
  },
  {
   "metadata": {
    "ExecuteTime": {
     "end_time": "2025-04-09T18:16:37.750372Z",
     "start_time": "2025-04-09T18:16:37.701911Z"
    }
   },
   "cell_type": "code",
   "source": "X_train",
   "id": "c8fea2c5457991e5",
   "outputs": [
    {
     "data": {
      "text/plain": [
       "        month  year  m_return(t-11)  m_return(t-10)  m_return(t-9)  \\\n",
       "0          10  2000            1.13            1.11           1.02   \n",
       "1          11  2000            1.11            1.02           1.00   \n",
       "2          12  2000            1.02            1.00           1.00   \n",
       "3           1  2001            1.00            1.00           1.00   \n",
       "4           2  2001            1.00            1.00           1.00   \n",
       "...       ...   ...             ...             ...            ...   \n",
       "474346      4  2019            1.07            1.00           1.06   \n",
       "474347      5  2019            1.00            1.06           1.00   \n",
       "474348      6  2019            1.06            1.00           1.09   \n",
       "474349      7  2019            1.00            1.09           0.90   \n",
       "474350      8  2019            1.09            0.90           1.05   \n",
       "\n",
       "        m_return(t-8)  m_return(t-7)  m_return(t-6)  m_return(t-5)  \\\n",
       "0                1.00           1.00           1.00           1.00   \n",
       "1                1.00           1.00           1.00           1.00   \n",
       "2                1.00           1.00           1.00           1.01   \n",
       "3                1.00           1.00           1.01           1.00   \n",
       "4                1.00           1.01           1.00           1.00   \n",
       "...               ...            ...            ...            ...   \n",
       "474346           1.00           1.09           0.90           1.05   \n",
       "474347           1.09           0.90           1.05           0.90   \n",
       "474348           0.90           1.05           0.90           1.15   \n",
       "474349           1.05           0.90           1.15           1.05   \n",
       "474350           0.90           1.15           1.05           1.00   \n",
       "\n",
       "        m_return(t-4)  ...  industry_Traders & Distributors  \\\n",
       "0                1.00  ...                                0   \n",
       "1                1.01  ...                                0   \n",
       "2                1.00  ...                                0   \n",
       "3                1.00  ...                                0   \n",
       "4                1.00  ...                                0   \n",
       "...               ...  ...                              ...   \n",
       "474346           0.90  ...                                0   \n",
       "474347           1.15  ...                                0   \n",
       "474348           1.05  ...                                0   \n",
       "474349           1.00  ...                                0   \n",
       "474350           1.06  ...                                0   \n",
       "\n",
       "        industry_Transportation  industry_Transportation Infrastructure  \\\n",
       "0                             0                                       0   \n",
       "1                             0                                       0   \n",
       "2                             0                                       0   \n",
       "3                             0                                       0   \n",
       "4                             0                                       0   \n",
       "...                         ...                                     ...   \n",
       "474346                        1                                       0   \n",
       "474347                        1                                       0   \n",
       "474348                        1                                       0   \n",
       "474349                        1                                       0   \n",
       "474350                        1                                       0   \n",
       "\n",
       "        industry_Utilities  stock_exchange_ETR  stock_exchange_LON  \\\n",
       "0                        0                   0                   1   \n",
       "1                        0                   0                   1   \n",
       "2                        0                   0                   1   \n",
       "3                        0                   0                   1   \n",
       "4                        0                   0                   1   \n",
       "...                    ...                 ...                 ...   \n",
       "474346                   0                   0                   0   \n",
       "474347                   0                   0                   0   \n",
       "474348                   0                   0                   0   \n",
       "474349                   0                   0                   0   \n",
       "474350                   0                   0                   0   \n",
       "\n",
       "        stock_exchange_NAS  stock_exchange_NYS  stock_exchange_TKS  \\\n",
       "0                        0                   0                   0   \n",
       "1                        0                   0                   0   \n",
       "2                        0                   0                   0   \n",
       "3                        0                   0                   0   \n",
       "4                        0                   0                   0   \n",
       "...                    ...                 ...                 ...   \n",
       "474346                   0                   1                   0   \n",
       "474347                   0                   1                   0   \n",
       "474348                   0                   1                   0   \n",
       "474349                   0                   1                   0   \n",
       "474350                   0                   1                   0   \n",
       "\n",
       "        trailing_pe_scaled  \n",
       "0                 0.001718  \n",
       "1                 0.001718  \n",
       "2                 0.001718  \n",
       "3                 0.001718  \n",
       "4                 0.001718  \n",
       "...                    ...  \n",
       "474346            0.002044  \n",
       "474347            0.002044  \n",
       "474348            0.002044  \n",
       "474349            0.002044  \n",
       "474350            0.002044  \n",
       "\n",
       "[375231 rows x 78 columns]"
      ],
      "text/html": [
       "<div>\n",
       "<style scoped>\n",
       "    .dataframe tbody tr th:only-of-type {\n",
       "        vertical-align: middle;\n",
       "    }\n",
       "\n",
       "    .dataframe tbody tr th {\n",
       "        vertical-align: top;\n",
       "    }\n",
       "\n",
       "    .dataframe thead th {\n",
       "        text-align: right;\n",
       "    }\n",
       "</style>\n",
       "<table border=\"1\" class=\"dataframe\">\n",
       "  <thead>\n",
       "    <tr style=\"text-align: right;\">\n",
       "      <th></th>\n",
       "      <th>month</th>\n",
       "      <th>year</th>\n",
       "      <th>m_return(t-11)</th>\n",
       "      <th>m_return(t-10)</th>\n",
       "      <th>m_return(t-9)</th>\n",
       "      <th>m_return(t-8)</th>\n",
       "      <th>m_return(t-7)</th>\n",
       "      <th>m_return(t-6)</th>\n",
       "      <th>m_return(t-5)</th>\n",
       "      <th>m_return(t-4)</th>\n",
       "      <th>...</th>\n",
       "      <th>industry_Traders &amp; Distributors</th>\n",
       "      <th>industry_Transportation</th>\n",
       "      <th>industry_Transportation Infrastructure</th>\n",
       "      <th>industry_Utilities</th>\n",
       "      <th>stock_exchange_ETR</th>\n",
       "      <th>stock_exchange_LON</th>\n",
       "      <th>stock_exchange_NAS</th>\n",
       "      <th>stock_exchange_NYS</th>\n",
       "      <th>stock_exchange_TKS</th>\n",
       "      <th>trailing_pe_scaled</th>\n",
       "    </tr>\n",
       "  </thead>\n",
       "  <tbody>\n",
       "    <tr>\n",
       "      <th>0</th>\n",
       "      <td>10</td>\n",
       "      <td>2000</td>\n",
       "      <td>1.13</td>\n",
       "      <td>1.11</td>\n",
       "      <td>1.02</td>\n",
       "      <td>1.00</td>\n",
       "      <td>1.00</td>\n",
       "      <td>1.00</td>\n",
       "      <td>1.00</td>\n",
       "      <td>1.00</td>\n",
       "      <td>...</td>\n",
       "      <td>0</td>\n",
       "      <td>0</td>\n",
       "      <td>0</td>\n",
       "      <td>0</td>\n",
       "      <td>0</td>\n",
       "      <td>1</td>\n",
       "      <td>0</td>\n",
       "      <td>0</td>\n",
       "      <td>0</td>\n",
       "      <td>0.001718</td>\n",
       "    </tr>\n",
       "    <tr>\n",
       "      <th>1</th>\n",
       "      <td>11</td>\n",
       "      <td>2000</td>\n",
       "      <td>1.11</td>\n",
       "      <td>1.02</td>\n",
       "      <td>1.00</td>\n",
       "      <td>1.00</td>\n",
       "      <td>1.00</td>\n",
       "      <td>1.00</td>\n",
       "      <td>1.00</td>\n",
       "      <td>1.01</td>\n",
       "      <td>...</td>\n",
       "      <td>0</td>\n",
       "      <td>0</td>\n",
       "      <td>0</td>\n",
       "      <td>0</td>\n",
       "      <td>0</td>\n",
       "      <td>1</td>\n",
       "      <td>0</td>\n",
       "      <td>0</td>\n",
       "      <td>0</td>\n",
       "      <td>0.001718</td>\n",
       "    </tr>\n",
       "    <tr>\n",
       "      <th>2</th>\n",
       "      <td>12</td>\n",
       "      <td>2000</td>\n",
       "      <td>1.02</td>\n",
       "      <td>1.00</td>\n",
       "      <td>1.00</td>\n",
       "      <td>1.00</td>\n",
       "      <td>1.00</td>\n",
       "      <td>1.00</td>\n",
       "      <td>1.01</td>\n",
       "      <td>1.00</td>\n",
       "      <td>...</td>\n",
       "      <td>0</td>\n",
       "      <td>0</td>\n",
       "      <td>0</td>\n",
       "      <td>0</td>\n",
       "      <td>0</td>\n",
       "      <td>1</td>\n",
       "      <td>0</td>\n",
       "      <td>0</td>\n",
       "      <td>0</td>\n",
       "      <td>0.001718</td>\n",
       "    </tr>\n",
       "    <tr>\n",
       "      <th>3</th>\n",
       "      <td>1</td>\n",
       "      <td>2001</td>\n",
       "      <td>1.00</td>\n",
       "      <td>1.00</td>\n",
       "      <td>1.00</td>\n",
       "      <td>1.00</td>\n",
       "      <td>1.00</td>\n",
       "      <td>1.01</td>\n",
       "      <td>1.00</td>\n",
       "      <td>1.00</td>\n",
       "      <td>...</td>\n",
       "      <td>0</td>\n",
       "      <td>0</td>\n",
       "      <td>0</td>\n",
       "      <td>0</td>\n",
       "      <td>0</td>\n",
       "      <td>1</td>\n",
       "      <td>0</td>\n",
       "      <td>0</td>\n",
       "      <td>0</td>\n",
       "      <td>0.001718</td>\n",
       "    </tr>\n",
       "    <tr>\n",
       "      <th>4</th>\n",
       "      <td>2</td>\n",
       "      <td>2001</td>\n",
       "      <td>1.00</td>\n",
       "      <td>1.00</td>\n",
       "      <td>1.00</td>\n",
       "      <td>1.00</td>\n",
       "      <td>1.01</td>\n",
       "      <td>1.00</td>\n",
       "      <td>1.00</td>\n",
       "      <td>1.00</td>\n",
       "      <td>...</td>\n",
       "      <td>0</td>\n",
       "      <td>0</td>\n",
       "      <td>0</td>\n",
       "      <td>0</td>\n",
       "      <td>0</td>\n",
       "      <td>1</td>\n",
       "      <td>0</td>\n",
       "      <td>0</td>\n",
       "      <td>0</td>\n",
       "      <td>0.001718</td>\n",
       "    </tr>\n",
       "    <tr>\n",
       "      <th>...</th>\n",
       "      <td>...</td>\n",
       "      <td>...</td>\n",
       "      <td>...</td>\n",
       "      <td>...</td>\n",
       "      <td>...</td>\n",
       "      <td>...</td>\n",
       "      <td>...</td>\n",
       "      <td>...</td>\n",
       "      <td>...</td>\n",
       "      <td>...</td>\n",
       "      <td>...</td>\n",
       "      <td>...</td>\n",
       "      <td>...</td>\n",
       "      <td>...</td>\n",
       "      <td>...</td>\n",
       "      <td>...</td>\n",
       "      <td>...</td>\n",
       "      <td>...</td>\n",
       "      <td>...</td>\n",
       "      <td>...</td>\n",
       "      <td>...</td>\n",
       "    </tr>\n",
       "    <tr>\n",
       "      <th>474346</th>\n",
       "      <td>4</td>\n",
       "      <td>2019</td>\n",
       "      <td>1.07</td>\n",
       "      <td>1.00</td>\n",
       "      <td>1.06</td>\n",
       "      <td>1.00</td>\n",
       "      <td>1.09</td>\n",
       "      <td>0.90</td>\n",
       "      <td>1.05</td>\n",
       "      <td>0.90</td>\n",
       "      <td>...</td>\n",
       "      <td>0</td>\n",
       "      <td>1</td>\n",
       "      <td>0</td>\n",
       "      <td>0</td>\n",
       "      <td>0</td>\n",
       "      <td>0</td>\n",
       "      <td>0</td>\n",
       "      <td>1</td>\n",
       "      <td>0</td>\n",
       "      <td>0.002044</td>\n",
       "    </tr>\n",
       "    <tr>\n",
       "      <th>474347</th>\n",
       "      <td>5</td>\n",
       "      <td>2019</td>\n",
       "      <td>1.00</td>\n",
       "      <td>1.06</td>\n",
       "      <td>1.00</td>\n",
       "      <td>1.09</td>\n",
       "      <td>0.90</td>\n",
       "      <td>1.05</td>\n",
       "      <td>0.90</td>\n",
       "      <td>1.15</td>\n",
       "      <td>...</td>\n",
       "      <td>0</td>\n",
       "      <td>1</td>\n",
       "      <td>0</td>\n",
       "      <td>0</td>\n",
       "      <td>0</td>\n",
       "      <td>0</td>\n",
       "      <td>0</td>\n",
       "      <td>1</td>\n",
       "      <td>0</td>\n",
       "      <td>0.002044</td>\n",
       "    </tr>\n",
       "    <tr>\n",
       "      <th>474348</th>\n",
       "      <td>6</td>\n",
       "      <td>2019</td>\n",
       "      <td>1.06</td>\n",
       "      <td>1.00</td>\n",
       "      <td>1.09</td>\n",
       "      <td>0.90</td>\n",
       "      <td>1.05</td>\n",
       "      <td>0.90</td>\n",
       "      <td>1.15</td>\n",
       "      <td>1.05</td>\n",
       "      <td>...</td>\n",
       "      <td>0</td>\n",
       "      <td>1</td>\n",
       "      <td>0</td>\n",
       "      <td>0</td>\n",
       "      <td>0</td>\n",
       "      <td>0</td>\n",
       "      <td>0</td>\n",
       "      <td>1</td>\n",
       "      <td>0</td>\n",
       "      <td>0.002044</td>\n",
       "    </tr>\n",
       "    <tr>\n",
       "      <th>474349</th>\n",
       "      <td>7</td>\n",
       "      <td>2019</td>\n",
       "      <td>1.00</td>\n",
       "      <td>1.09</td>\n",
       "      <td>0.90</td>\n",
       "      <td>1.05</td>\n",
       "      <td>0.90</td>\n",
       "      <td>1.15</td>\n",
       "      <td>1.05</td>\n",
       "      <td>1.00</td>\n",
       "      <td>...</td>\n",
       "      <td>0</td>\n",
       "      <td>1</td>\n",
       "      <td>0</td>\n",
       "      <td>0</td>\n",
       "      <td>0</td>\n",
       "      <td>0</td>\n",
       "      <td>0</td>\n",
       "      <td>1</td>\n",
       "      <td>0</td>\n",
       "      <td>0.002044</td>\n",
       "    </tr>\n",
       "    <tr>\n",
       "      <th>474350</th>\n",
       "      <td>8</td>\n",
       "      <td>2019</td>\n",
       "      <td>1.09</td>\n",
       "      <td>0.90</td>\n",
       "      <td>1.05</td>\n",
       "      <td>0.90</td>\n",
       "      <td>1.15</td>\n",
       "      <td>1.05</td>\n",
       "      <td>1.00</td>\n",
       "      <td>1.06</td>\n",
       "      <td>...</td>\n",
       "      <td>0</td>\n",
       "      <td>1</td>\n",
       "      <td>0</td>\n",
       "      <td>0</td>\n",
       "      <td>0</td>\n",
       "      <td>0</td>\n",
       "      <td>0</td>\n",
       "      <td>1</td>\n",
       "      <td>0</td>\n",
       "      <td>0.002044</td>\n",
       "    </tr>\n",
       "  </tbody>\n",
       "</table>\n",
       "<p>375231 rows × 78 columns</p>\n",
       "</div>"
      ]
     },
     "execution_count": 22,
     "metadata": {},
     "output_type": "execute_result"
    }
   ],
   "execution_count": 22
  },
  {
   "metadata": {
    "ExecuteTime": {
     "end_time": "2025-04-09T18:16:38.084191Z",
     "start_time": "2025-04-09T18:16:37.798563Z"
    }
   },
   "cell_type": "code",
   "source": [
    "importlib.reload(comparison)\n",
    "months_1m = 1\n",
    "X_train_1m, y_train_1m, X_test_1m, y_test_1m = train_test.get_train_test(df_tabular_multi, months=1)\n",
    "# reset index\n",
    "X_train_1m.reset_index(drop=True, inplace=True)\n",
    "y_train_1m.reset_index(drop=True, inplace=True)\n",
    "X_test_1m.reset_index(drop=True, inplace=True)\n",
    "y_test_1m.reset_index(drop=True, inplace=True)"
   ],
   "id": "e38e80acfa22ccfe",
   "outputs": [
    {
     "name": "stdout",
     "output_type": "stream",
     "text": [
      "2024-07-01\n"
     ]
    }
   ],
   "execution_count": 23
  },
  {
   "metadata": {
    "ExecuteTime": {
     "end_time": "2025-04-09T18:16:41.499989Z",
     "start_time": "2025-04-09T18:16:39.313584Z"
    }
   },
   "cell_type": "code",
   "source": [
    "# Predictions\n",
    "y_train_pred_1m = model.predict(X_train_1m)\n",
    "y_test_pred_1m = model.predict(X_test_1m)"
   ],
   "id": "ed1ff73702ce29da",
   "outputs": [],
   "execution_count": 24
  },
  {
   "metadata": {},
   "cell_type": "markdown",
   "source": "#### Train data",
   "id": "c324d597506ffa35"
  },
  {
   "metadata": {
    "ExecuteTime": {
     "end_time": "2025-04-09T18:16:42.376338Z",
     "start_time": "2025-04-09T18:16:42.363577Z"
    }
   },
   "cell_type": "code",
   "source": [
    "importlib.reload(comparison)\n",
    "y_train_mean_pred_1m, y_test_mean_pred_1m = comparison.get_train_test_mean_pred(y_train_pred_1m, y_test_pred_1m, len(df.columns))"
   ],
   "id": "41c676ba7d61844e",
   "outputs": [],
   "execution_count": 25
  },
  {
   "metadata": {},
   "cell_type": "markdown",
   "source": "### 1 month Actual vs Prediction",
   "id": "cd12d24fdb0d2753"
  },
  {
   "metadata": {
    "ExecuteTime": {
     "end_time": "2025-04-09T18:16:42.804590Z",
     "start_time": "2025-04-09T18:16:42.720Z"
    }
   },
   "cell_type": "code",
   "source": [
    "importlib.reload(comparison)\n",
    "comparison.generate_plot(df, df_tabular_multi, y_train_mean_pred_1m, y_test_mean_pred_1m)"
   ],
   "id": "c554cf80ec6502a6",
   "outputs": [
    {
     "data": {
      "application/vnd.plotly.v1+json": {
       "data": [
        {
         "line": {
          "color": "#5c839f",
          "width": 2
         },
         "mode": "lines",
         "name": "Actual returns",
         "x": [
          "2000-10-01",
          "2000-11-01",
          "2000-12-01",
          "2001-01-01",
          "2001-02-01",
          "2001-03-01",
          "2001-04-01",
          "2001-05-01",
          "2001-06-01",
          "2001-07-01",
          "2001-08-01",
          "2001-09-01",
          "2001-10-01",
          "2001-11-01",
          "2001-12-01",
          "2002-01-01",
          "2002-02-01",
          "2002-03-01",
          "2002-04-01",
          "2002-05-01",
          "2002-06-01",
          "2002-07-01",
          "2002-08-01",
          "2002-09-01",
          "2002-10-01",
          "2002-11-01",
          "2002-12-01",
          "2003-01-01",
          "2003-02-01",
          "2003-03-01",
          "2003-04-01",
          "2003-05-01",
          "2003-06-01",
          "2003-07-01",
          "2003-08-01",
          "2003-09-01",
          "2003-10-01",
          "2003-11-01",
          "2003-12-01",
          "2004-01-01",
          "2004-02-01",
          "2004-03-01",
          "2004-04-01",
          "2004-05-01",
          "2004-06-01",
          "2004-07-01",
          "2004-08-01",
          "2004-09-01",
          "2004-10-01",
          "2004-11-01",
          "2004-12-01",
          "2005-01-01",
          "2005-02-01",
          "2005-03-01",
          "2005-04-01",
          "2005-05-01",
          "2005-06-01",
          "2005-07-01",
          "2005-08-01",
          "2005-09-01",
          "2005-10-01",
          "2005-11-01",
          "2005-12-01",
          "2006-01-01",
          "2006-02-01",
          "2006-03-01",
          "2006-04-01",
          "2006-05-01",
          "2006-06-01",
          "2006-07-01",
          "2006-08-01",
          "2006-09-01",
          "2006-10-01",
          "2006-11-01",
          "2006-12-01",
          "2007-01-01",
          "2007-02-01",
          "2007-03-01",
          "2007-04-01",
          "2007-05-01",
          "2007-06-01",
          "2007-07-01",
          "2007-08-01",
          "2007-09-01",
          "2007-10-01",
          "2007-11-01",
          "2007-12-01",
          "2008-01-01",
          "2008-02-01",
          "2008-03-01",
          "2008-04-01",
          "2008-05-01",
          "2008-06-01",
          "2008-07-01",
          "2008-08-01",
          "2008-09-01",
          "2008-10-01",
          "2008-11-01",
          "2008-12-01",
          "2009-01-01",
          "2009-02-01",
          "2009-03-01",
          "2009-04-01",
          "2009-05-01",
          "2009-06-01",
          "2009-07-01",
          "2009-08-01",
          "2009-09-01",
          "2009-10-01",
          "2009-11-01",
          "2009-12-01",
          "2010-01-01",
          "2010-02-01",
          "2010-03-01",
          "2010-04-01",
          "2010-05-01",
          "2010-06-01",
          "2010-07-01",
          "2010-08-01",
          "2010-09-01",
          "2010-10-01",
          "2010-11-01",
          "2010-12-01",
          "2011-01-01",
          "2011-02-01",
          "2011-03-01",
          "2011-04-01",
          "2011-05-01",
          "2011-06-01",
          "2011-07-01",
          "2011-08-01",
          "2011-09-01",
          "2011-10-01",
          "2011-11-01",
          "2011-12-01",
          "2012-01-01",
          "2012-02-01",
          "2012-03-01",
          "2012-04-01",
          "2012-05-01",
          "2012-06-01",
          "2012-07-01",
          "2012-08-01",
          "2012-09-01",
          "2012-10-01",
          "2012-11-01",
          "2012-12-01",
          "2013-01-01",
          "2013-02-01",
          "2013-03-01",
          "2013-04-01",
          "2013-05-01",
          "2013-06-01",
          "2013-07-01",
          "2013-08-01",
          "2013-09-01",
          "2013-10-01",
          "2013-11-01",
          "2013-12-01",
          "2014-01-01",
          "2014-02-01",
          "2014-03-01",
          "2014-04-01",
          "2014-05-01",
          "2014-06-01",
          "2014-07-01",
          "2014-08-01",
          "2014-09-01",
          "2014-10-01",
          "2014-11-01",
          "2014-12-01",
          "2015-01-01",
          "2015-02-01",
          "2015-03-01",
          "2015-04-01",
          "2015-05-01",
          "2015-06-01",
          "2015-07-01",
          "2015-08-01",
          "2015-09-01",
          "2015-10-01",
          "2015-11-01",
          "2015-12-01",
          "2016-01-01",
          "2016-02-01",
          "2016-03-01",
          "2016-04-01",
          "2016-05-01",
          "2016-06-01",
          "2016-07-01",
          "2016-08-01",
          "2016-09-01",
          "2016-10-01",
          "2016-11-01",
          "2016-12-01",
          "2017-01-01",
          "2017-02-01",
          "2017-03-01",
          "2017-04-01",
          "2017-05-01",
          "2017-06-01",
          "2017-07-01",
          "2017-08-01",
          "2017-09-01",
          "2017-10-01",
          "2017-11-01",
          "2017-12-01",
          "2018-01-01",
          "2018-02-01",
          "2018-03-01",
          "2018-04-01",
          "2018-05-01",
          "2018-06-01",
          "2018-07-01",
          "2018-08-01",
          "2018-09-01",
          "2018-10-01",
          "2018-11-01",
          "2018-12-01",
          "2019-01-01",
          "2019-02-01",
          "2019-03-01",
          "2019-04-01",
          "2019-05-01",
          "2019-06-01",
          "2019-07-01",
          "2019-08-01",
          "2019-09-01",
          "2019-10-01",
          "2019-11-01",
          "2019-12-01",
          "2020-01-01",
          "2020-02-01",
          "2020-03-01",
          "2020-04-01",
          "2020-05-01",
          "2020-06-01",
          "2020-07-01",
          "2020-08-01",
          "2020-09-01",
          "2020-10-01",
          "2020-11-01",
          "2020-12-01",
          "2021-01-01",
          "2021-02-01",
          "2021-03-01",
          "2021-04-01",
          "2021-05-01",
          "2021-06-01",
          "2021-07-01",
          "2021-08-01",
          "2021-09-01",
          "2021-10-01",
          "2021-11-01",
          "2021-12-01",
          "2022-01-01",
          "2022-02-01",
          "2022-03-01",
          "2022-04-01",
          "2022-05-01",
          "2022-06-01",
          "2022-07-01",
          "2022-08-01",
          "2022-09-01",
          "2022-10-01",
          "2022-11-01",
          "2022-12-01",
          "2023-01-01",
          "2023-02-01",
          "2023-03-01",
          "2023-04-01",
          "2023-05-01",
          "2023-06-01",
          "2023-07-01",
          "2023-08-01",
          "2023-09-01",
          "2023-10-01",
          "2023-11-01",
          "2023-12-01",
          "2024-01-01",
          "2024-02-01",
          "2024-03-01",
          "2024-04-01",
          "2024-05-01",
          "2024-06-01",
          "2024-07-01",
          "2024-08-01"
         ],
         "y": [
          null,
          1.0255474894131882,
          1.0338354506957046,
          0.9928735632183908,
          5.930568663036903,
          1.02524500907441,
          0.9939624924379915,
          0.9817483363581366,
          1.0329461584996975,
          0.9952389594676346,
          1.027350272232305,
          0.9906291591046583,
          0.9893103448275862,
          0.9717422867513611,
          1.0094071385359953,
          1.0391651542649727,
          0.9689776164549303,
          0.9847489413188143,
          1.0655414398064127,
          1.0118451300665456,
          0.9984392014519057,
          0.9735087719298245,
          0.9690865093768906,
          0.9132849364791288,
          1.0499274047186933,
          1.050798548094374,
          1.0158620689655173,
          0.9939322444041138,
          1.0093103448275862,
          1.050725952813067,
          1.007102238354507,
          1.0027646702964308,
          0.9519721718088325,
          0.9418874773139746,
          0.9874833635813671,
          0.9568905021173624,
          1.0078644888082275,
          1.0582516636418633,
          0.9664125831820932,
          0.9890199637023595,
          1.0055716878402905,
          0.9959830611010285,
          1.0599516031457954,
          1.0670054446460981,
          1.034162129461585,
          1.508451300665457,
          1.0614277071990321,
          1.0038233514821537,
          1.0498003629764066,
          1.0042286751361162,
          1.015849969751966,
          1.0305263157894737,
          1.0141560798548095,
          1.0468421052631578,
          1.0040834845735027,
          0.992474289171204,
          1.0346218995765275,
          0.9633877797943133,
          0.9934119782214157,
          1.0055535390199637,
          1.0005565638233516,
          1.0293163944343617,
          1.053762855414398,
          1.00643073200242,
          1.0203811252268602,
          0.9955595886267392,
          0.9733030852994556,
          1.033145795523291,
          1.0216817906836055,
          1.0358136721113127,
          0.9993042952208105,
          1.1286509376890503,
          1.0726013309134907,
          3.2130248033877797,
          1.0215607985480943,
          1.0408166969147006,
          1.0128917120387175,
          1.027501512401694,
          1.0092075015124016,
          0.9686267392619479,
          0.9991833030852995,
          0.9856866303690262,
          1.0248820326678767,
          1.0297519661222019,
          1.0213853599516032,
          1.0188808227465216,
          1.027979431336963,
          1.0368723532970356,
          1.0044404113732608,
          1.0015849969751967,
          1.0188082274652148,
          1.0226194797338173,
          0.9885843920145191,
          0.9759286146400484,
          0.9907501512401694,
          1.002474289171204,
          1.0255172413793103,
          0.9479370840895343,
          0.9907743496672716,
          0.9420447670901392,
          0.9907199032062917,
          0.9868784029038112,
          1.0311494252873565,
          1.02318814277072,
          0.9375620084694495,
          0.9950090744101633,
          1.0215789473684211,
          0.9273018753781004,
          0.8458197217180883,
          0.9447489413188144,
          1.0413006654567454,
          0.9497701149425287,
          0.9416515426497277,
          1.0697580157289777,
          1.1476164549304295,
          1.0432909860859043,
          1.0350211736237145,
          1.0623895946763462,
          1.0552026618269812,
          1.0322746521476103,
          0.9779915305505141,
          1.0015910465819722,
          1.0513793103448277,
          0.9896067755595885,
          1.0185541439806414,
          1.0590381125226862,
          1.0449969751966124,
          0.9456261343012704,
          0.9619419237749547,
          1.0388626739261946,
          0.9645856019358742,
          1.0696067755595886,
          1.0163883847549908,
          1.0275862068965518,
          1.0584029038112523,
          1.0119782214156081,
          1.0324803387779795,
          1.0016031457955235,
          1.0198850574712643,
          0.9949969751966122,
          0.9972353297035693,
          0.9830429522081064,
          0.9474712643678161,
          0.9529824561403508,
          1.0689231699939505,
          0.9843375680580763,
          1.0002540834845735,
          1.0593768905021175,
          1.0995402298850574,
          1.026303690260133,
          0.9927465214761042,
          0.9427586206896552,
          1.0300241984271024,
          0.9957652752571083,
          1.0196672716273443,
          1.0171506352087114,
          1.0012038717483362,
          1.0166848154869934,
          1.0311736237144584,
          1.0607924984875983,
          1.0218390804597701,
          1.0406836055656383,
          1.0333696309739866,
          1.01821536600121,
          0.990508166969147,
          1.0369933454325468,
          0.98346037507562,
          1.0512159709618873,
          1.0213430127041743,
          1.0239806412583181,
          1.022280701754386,
          0.9877434966727164,
          1.0288626739261948,
          1.0008287961282516,
          0.9851845130066547,
          1.0161161524500906,
          1.0306473079249847,
          0.9871445856019359,
          1.026745311554749,
          0.989491833030853,
          1.0253115547489413,
          1.04167574107683,
          1.0141681790683605,
          1.0019419237749547,
          1.0444585601935874,
          1.0097459165154263,
          1.000411373260738,
          1.0252087114337567,
          0.9903266787658802,
          1.012788868723533,
          0.9586448880822745,
          0.9679854809437386,
          1.0623411978221418,
          1.0190018148820326,
          0.9822928009679371,
          0.9491107078039926,
          0.9993587416817907,
          1.0566122202056867,
          1.0004355716878404,
          1.0214095583787053,
          0.9709074410163339,
          1.0535813672111312,
          1.0110102843315183,
          1.0043375680580762,
          0.9848154869933453,
          1.0514337568058076,
          1.0315486993345433,
          1.0146581972171809,
          1.0218451300665456,
          1.009751966122202,
          1.0155958862673926,
          1.0126678765880217,
          1.0131215970961889,
          1.0135692679975803,
          1.0033877797943134,
          1.0308892921960073,
          1.0195220810647307,
          1.0232244404113733,
          1.0114458560193589,
          1.023817301875378,
          0.974422262552934,
          0.996636418632789,
          1.0194797338173018,
          1.0263641863278887,
          1.0086327888687234,
          1.0175922565033273,
          1.0217725347852389,
          0.9907501512401694,
          0.9365880217785845,
          1.0115124016938897,
          0.9133272837265578,
          1.0914398064125832,
          1.0367513611615244,
          1.004137931034483,
          1.043049001814882,
          0.940822746521476,
          1.0453539019963702,
          1.0221234119782214,
          0.9704476709013913,
          1.0369449485783424,
          1.0294797338173018,
          1.0347307924984874,
          1.0268058076225044,
          0.9897519661222022,
          0.9099153055051422,
          0.8183847549909256,
          1.1260314579552329,
          1.072552934059286,
          1.0304174228675136,
          1.0225710828796128,
          1.0605565638233514,
          0.9945130066545675,
          0.9923290986085905,
          1.1583847549909256,
          1.0579612825166365,
          1.0404839685420448,
          1.053793103448276,
          1.0589292196007258,
          1.037652752571083,
          1.0213430127041743,
          1.0207562008469449,
          1.0036418632788868,
          1.025287356321839,
          0.9864851784633998,
          1.0300241984271024,
          0.969933454325469,
          1.0402117362371448,
          0.9256805807622505,
          0.9876830006049606,
          1.003230490018149,
          0.9446763460375075,
          1.0007199032062917,
          0.9249425287356322,
          1.0904295220810647,
          0.9692982456140351,
          0.901373260738052,
          1.0810284331518452,
          1.0552994555353903,
          0.9577374470659408,
          1.0973321234119784,
          0.9889957652752571,
          0.979933454325469,
          1.001318814277072,
          0.9908832425892315,
          1.0624803387779795,
          1.0433393829401088,
          0.9686206896551725,
          0.95978221415608,
          0.9421113127646703,
          1.0877132486388386,
          1.079328493647913,
          0.9853962492437992,
          1.0741379310344827,
          1.0276285541439807,
          0.9559709618874773,
          1.0341621294615853,
          0.9932425892317,
          1.0552510586811856,
          0.9971990320629158,
          0.9666787658802178
         ],
         "type": "scatter"
        },
        {
         "line": {
          "color": "red",
          "width": 2
         },
         "mode": "lines",
         "name": "Train returns",
         "x": [
          "2000-10-01",
          "2000-11-01",
          "2000-12-01",
          "2001-01-01",
          "2001-02-01",
          "2001-03-01",
          "2001-04-01",
          "2001-05-01",
          "2001-06-01",
          "2001-07-01",
          "2001-08-01",
          "2001-09-01",
          "2001-10-01",
          "2001-11-01",
          "2001-12-01",
          "2002-01-01",
          "2002-02-01",
          "2002-03-01",
          "2002-04-01",
          "2002-05-01",
          "2002-06-01",
          "2002-07-01",
          "2002-08-01",
          "2002-09-01",
          "2002-10-01",
          "2002-11-01",
          "2002-12-01",
          "2003-01-01",
          "2003-02-01",
          "2003-03-01",
          "2003-04-01",
          "2003-05-01",
          "2003-06-01",
          "2003-07-01",
          "2003-08-01",
          "2003-09-01",
          "2003-10-01",
          "2003-11-01",
          "2003-12-01",
          "2004-01-01",
          "2004-02-01",
          "2004-03-01",
          "2004-04-01",
          "2004-05-01",
          "2004-06-01",
          "2004-07-01",
          "2004-08-01",
          "2004-09-01",
          "2004-10-01",
          "2004-11-01",
          "2004-12-01",
          "2005-01-01",
          "2005-02-01",
          "2005-03-01",
          "2005-04-01",
          "2005-05-01",
          "2005-06-01",
          "2005-07-01",
          "2005-08-01",
          "2005-09-01",
          "2005-10-01",
          "2005-11-01",
          "2005-12-01",
          "2006-01-01",
          "2006-02-01",
          "2006-03-01",
          "2006-04-01",
          "2006-05-01",
          "2006-06-01",
          "2006-07-01",
          "2006-08-01",
          "2006-09-01",
          "2006-10-01",
          "2006-11-01",
          "2006-12-01",
          "2007-01-01",
          "2007-02-01",
          "2007-03-01",
          "2007-04-01",
          "2007-05-01",
          "2007-06-01",
          "2007-07-01",
          "2007-08-01",
          "2007-09-01",
          "2007-10-01",
          "2007-11-01",
          "2007-12-01",
          "2008-01-01",
          "2008-02-01",
          "2008-03-01",
          "2008-04-01",
          "2008-05-01",
          "2008-06-01",
          "2008-07-01",
          "2008-08-01",
          "2008-09-01",
          "2008-10-01",
          "2008-11-01",
          "2008-12-01",
          "2009-01-01",
          "2009-02-01",
          "2009-03-01",
          "2009-04-01",
          "2009-05-01",
          "2009-06-01",
          "2009-07-01",
          "2009-08-01",
          "2009-09-01",
          "2009-10-01",
          "2009-11-01",
          "2009-12-01",
          "2010-01-01",
          "2010-02-01",
          "2010-03-01",
          "2010-04-01",
          "2010-05-01",
          "2010-06-01",
          "2010-07-01",
          "2010-08-01",
          "2010-09-01",
          "2010-10-01",
          "2010-11-01",
          "2010-12-01",
          "2011-01-01",
          "2011-02-01",
          "2011-03-01",
          "2011-04-01",
          "2011-05-01",
          "2011-06-01",
          "2011-07-01",
          "2011-08-01",
          "2011-09-01",
          "2011-10-01",
          "2011-11-01",
          "2011-12-01",
          "2012-01-01",
          "2012-02-01",
          "2012-03-01",
          "2012-04-01",
          "2012-05-01",
          "2012-06-01",
          "2012-07-01",
          "2012-08-01",
          "2012-09-01",
          "2012-10-01",
          "2012-11-01",
          "2012-12-01",
          "2013-01-01",
          "2013-02-01",
          "2013-03-01",
          "2013-04-01",
          "2013-05-01",
          "2013-06-01",
          "2013-07-01",
          "2013-08-01",
          "2013-09-01",
          "2013-10-01",
          "2013-11-01",
          "2013-12-01",
          "2014-01-01",
          "2014-02-01",
          "2014-03-01",
          "2014-04-01",
          "2014-05-01",
          "2014-06-01",
          "2014-07-01",
          "2014-08-01",
          "2014-09-01",
          "2014-10-01",
          "2014-11-01",
          "2014-12-01",
          "2015-01-01",
          "2015-02-01",
          "2015-03-01",
          "2015-04-01",
          "2015-05-01",
          "2015-06-01",
          "2015-07-01",
          "2015-08-01",
          "2015-09-01",
          "2015-10-01",
          "2015-11-01",
          "2015-12-01",
          "2016-01-01",
          "2016-02-01",
          "2016-03-01",
          "2016-04-01",
          "2016-05-01",
          "2016-06-01",
          "2016-07-01",
          "2016-08-01",
          "2016-09-01",
          "2016-10-01",
          "2016-11-01",
          "2016-12-01",
          "2017-01-01",
          "2017-02-01",
          "2017-03-01",
          "2017-04-01",
          "2017-05-01",
          "2017-06-01",
          "2017-07-01",
          "2017-08-01",
          "2017-09-01",
          "2017-10-01",
          "2017-11-01",
          "2017-12-01",
          "2018-01-01",
          "2018-02-01",
          "2018-03-01",
          "2018-04-01",
          "2018-05-01",
          "2018-06-01",
          "2018-07-01",
          "2018-08-01",
          "2018-09-01",
          "2018-10-01",
          "2018-11-01",
          "2018-12-01",
          "2019-01-01",
          "2019-02-01",
          "2019-03-01",
          "2019-04-01",
          "2019-05-01",
          "2019-06-01",
          "2019-07-01",
          "2019-08-01",
          "2019-09-01",
          "2019-10-01",
          "2019-11-01",
          "2019-12-01",
          "2020-01-01",
          "2020-02-01",
          "2020-03-01",
          "2020-04-01",
          "2020-05-01",
          "2020-06-01",
          "2020-07-01",
          "2020-08-01",
          "2020-09-01",
          "2020-10-01",
          "2020-11-01",
          "2020-12-01",
          "2021-01-01",
          "2021-02-01",
          "2021-03-01",
          "2021-04-01",
          "2021-05-01",
          "2021-06-01",
          "2021-07-01",
          "2021-08-01",
          "2021-09-01",
          "2021-10-01",
          "2021-11-01",
          "2021-12-01",
          "2022-01-01",
          "2022-02-01",
          "2022-03-01",
          "2022-04-01",
          "2022-05-01",
          "2022-06-01",
          "2022-07-01",
          "2022-08-01",
          "2022-09-01",
          "2022-10-01",
          "2022-11-01",
          "2022-12-01",
          "2023-01-01",
          "2023-02-01",
          "2023-03-01",
          "2023-04-01",
          "2023-05-01",
          "2023-06-01",
          "2023-07-01",
          "2023-08-01",
          "2023-09-01",
          "2023-10-01",
          "2023-11-01",
          "2023-12-01",
          "2024-01-01",
          "2024-02-01",
          "2024-03-01",
          "2024-04-01",
          "2024-05-01",
          "2024-06-01",
          "2024-07-01"
         ],
         "y": [
          1.004035234451294,
          1.011195182800293,
          1.0054978132247925,
          1.0084285736083984,
          1.0161194801330566,
          1.0109413862228394,
          1.0098751783370972,
          1.0061548948287964,
          1.0040483474731445,
          1.0061601400375366,
          1.0153762102127075,
          1.0070692300796509,
          1.0089237689971924,
          1.0090535879135132,
          1.0064170360565186,
          1.005945086479187,
          1.0097113847732544,
          1.006086826324463,
          1.0088529586791992,
          1.0073740482330322,
          1.006198525428772,
          1.0138132572174072,
          1.0118193626403809,
          1.0098659992218018,
          1.0121413469314575,
          1.0164822340011597,
          1.0112383365631104,
          1.0172932147979736,
          1.0119537115097046,
          1.00796377658844,
          1.0071228742599487,
          1.010449767112732,
          1.0106756687164307,
          1.008291244506836,
          1.009986400604248,
          1.0073672533035278,
          1.0121595859527588,
          1.010891318321228,
          1.0144113302230835,
          1.0106372833251953,
          1.0112712383270264,
          1.0104488134384155,
          1.00839364528656,
          1.0124871730804443,
          1.0123182535171509,
          1.0096845626831055,
          1.0060875415802002,
          1.0098934173583984,
          1.0085653066635132,
          1.0093955993652344,
          1.0085041522979736,
          1.0131973028182983,
          1.0100668668746948,
          1.0324556827545166,
          1.0150328874588013,
          1.007434606552124,
          1.0114777088165283,
          1.0061765909194946,
          1.0077184438705444,
          1.0095988512039185,
          1.0085843801498413,
          1.0066745281219482,
          3.6324613094329834,
          1.0079983472824097,
          1.006373405456543,
          1.0042368173599243,
          1.0062519311904907,
          1.0076600313186646,
          1.0330301523208618,
          1.0131138563156128,
          1.0096060037612915,
          1.0099108219146729,
          1.0081185102462769,
          1.0057445764541626,
          1.0126383304595947,
          1.0097230672836304,
          1.0558468103408813,
          1.0149519443511963,
          1.0065913200378418,
          1.0076065063476562,
          1.0097707509994507,
          1.020180106163025,
          1.0126317739486694,
          1.0102423429489136,
          1.0068007707595825,
          1.0072925090789795,
          1.006646990776062,
          1.0072338581085205,
          1.0106838941574097,
          1.012337327003479,
          1.0081450939178467,
          1.0094693899154663,
          1.0107070207595825,
          1.0107380151748657,
          1.007812261581421,
          1.0087229013442993,
          1.0064480304718018,
          1.0065594911575317,
          1.0066906213760376,
          1.011047601699829,
          1.006173849105835,
          1.0062929391860962,
          1.0076509714126587,
          1.011139988899231,
          1.0078327655792236,
          1.0070208311080933,
          1.0048292875289917,
          1.016676902770996,
          1.0061079263687134,
          1.006975531578064,
          1.0012167692184448,
          1.0085102319717407,
          1.0094786882400513,
          1.0084863901138306,
          1.0033583641052246,
          1.0087097883224487,
          1.0106792449951172,
          1.0081669092178345,
          1.017598271369934,
          1.0076096057891846,
          1.006701946258545,
          1.0097005367279053,
          1.0100436210632324,
          1.0118030309677124,
          1.015165090560913,
          1.011282205581665,
          1.0112850666046143,
          1.0067147016525269,
          1.0141072273254395,
          1.0093046426773071,
          1.0092198848724365,
          1.007274866104126,
          1.0051926374435425,
          1.007212519645691,
          1.0095129013061523,
          1.011978030204773,
          1.0088555812835693,
          1.0140413045883179,
          1.0065597295761108,
          1.0072293281555176,
          1.005734920501709,
          1.015143871307373,
          1.0048637390136719,
          1.0033172369003296,
          1.0061465501785278,
          1.0130895376205444,
          1.170272946357727,
          1.0068503618240356,
          1.0124460458755493,
          1.0100760459899902,
          1.0114988088607788,
          1.0104135274887085,
          1.0067421197891235,
          1.0078198909759521,
          1.0170854330062866,
          1.0179064273834229,
          1.004518747329712,
          1.0102553367614746,
          1.004988670349121,
          1.0045026540756226,
          0.9497326016426086,
          1.007135033607483,
          1.005980134010315,
          1.0098152160644531,
          1.0075775384902954,
          1.019516944885254,
          1.0081664323806763,
          1.004565954208374,
          1.0107057094573975,
          1.0085440874099731,
          1.0130504369735718,
          1.0088425874710083,
          1.0132418870925903,
          1.0036321878433228,
          1.011601209640503,
          1.0085159540176392,
          1.0103576183319092,
          1.0047290325164795,
          1.0066921710968018,
          1.0078403949737549,
          1.007790207862854,
          1.017716884613037,
          1.0127071142196655,
          1.0106396675109863,
          1.0098481178283691,
          1.0081090927124023,
          1.0125139951705933,
          1.0069414377212524,
          1.0114502906799316,
          1.0042285919189453,
          1.007453203201294,
          1.0059620141983032,
          1.0071794986724854,
          1.00640869140625,
          1.0080746412277222,
          1.0114972591400146,
          1.0068923234939575,
          1.0046052932739258,
          1.002570390701294,
          1.013683795928955,
          1.0046615600585938,
          1.0008399486541748,
          1.1618460416793823,
          1.0073809623718262,
          1.0062077045440674,
          1.0168856382369995,
          3.1283676624298096,
          1.0109755992889404,
          1.0010976791381836,
          1.008725643157959,
          1.0068453550338745,
          1.0178098678588867,
          1.0312786102294922,
          1.0065622329711914,
          1.0076478719711304,
          1.0079548358917236,
          1.0039554834365845,
          1.0100281238555908,
          1.0078556537628174,
          1.0050913095474243,
          1.0220158100128174,
          1.0110615491867065,
          1.0091127157211304,
          1.0063492059707642,
          1.0136277675628662,
          1.0047056674957275,
          1.0031312704086304,
          1.0118165016174316,
          1.0049676895141602,
          1.0125774145126343,
          1.0058969259262085,
          1.0045416355133057,
          1.006765604019165,
          1.0119386911392212,
          1.0101159811019897,
          1.0029447078704834,
          1.0114930868148804,
          1.0077810287475586,
          1.0074570178985596,
          1.0053013563156128,
          1.013879656791687,
          1.008623480796814,
          1.0037153959274292,
          1.0050742626190186,
          1.0079662799835205,
          1.008557677268982,
          1.0071065425872803,
          1.0063868761062622,
          1.0023362636566162,
          1.000645637512207,
          1.0127242803573608,
          1.0073788166046143,
          1.0119913816452026,
          1.0108311176300049,
          1.0056304931640625,
          1.005184292793274,
          1.0077877044677734,
          1.0087720155715942,
          1.0096365213394165,
          1.0078188180923462,
          1.0093637704849243,
          1.0052343606948853,
          1.0064767599105835,
          1.011362910270691,
          1.0065041780471802,
          1.0156936645507812,
          1.005415439605713,
          1.0049707889556885,
          1.0053478479385376,
          1.0081229209899902,
          1.0075453519821167,
          1.003454327583313,
          1.0061602592468262,
          1.0091955661773682,
          1.0077481269836426,
          1.0074093341827393,
          1.0186594724655151,
          1.0104848146438599,
          1.005547285079956,
          1.0106760263442993,
          1.0124746561050415,
          1.041590929031372,
          1.0298436880111694,
          1.0049244165420532,
          1.0089073181152344,
          1.0146210193634033
         ],
         "type": "scatter"
        },
        {
         "line": {
          "color": "green",
          "width": 2
         },
         "mode": "lines",
         "name": "Test returns",
         "x": [
          "2024-07-01",
          "2024-08-01"
         ],
         "y": [
          1.0146210193634033,
          0.8315739631652832
         ],
         "type": "scatter"
        }
       ],
       "layout": {
        "template": {
         "data": {
          "barpolar": [
           {
            "marker": {
             "line": {
              "color": "white",
              "width": 0.5
             },
             "pattern": {
              "fillmode": "overlay",
              "size": 10,
              "solidity": 0.2
             }
            },
            "type": "barpolar"
           }
          ],
          "bar": [
           {
            "error_x": {
             "color": "#2a3f5f"
            },
            "error_y": {
             "color": "#2a3f5f"
            },
            "marker": {
             "line": {
              "color": "white",
              "width": 0.5
             },
             "pattern": {
              "fillmode": "overlay",
              "size": 10,
              "solidity": 0.2
             }
            },
            "type": "bar"
           }
          ],
          "carpet": [
           {
            "aaxis": {
             "endlinecolor": "#2a3f5f",
             "gridcolor": "#C8D4E3",
             "linecolor": "#C8D4E3",
             "minorgridcolor": "#C8D4E3",
             "startlinecolor": "#2a3f5f"
            },
            "baxis": {
             "endlinecolor": "#2a3f5f",
             "gridcolor": "#C8D4E3",
             "linecolor": "#C8D4E3",
             "minorgridcolor": "#C8D4E3",
             "startlinecolor": "#2a3f5f"
            },
            "type": "carpet"
           }
          ],
          "choropleth": [
           {
            "colorbar": {
             "outlinewidth": 0,
             "ticks": ""
            },
            "type": "choropleth"
           }
          ],
          "contourcarpet": [
           {
            "colorbar": {
             "outlinewidth": 0,
             "ticks": ""
            },
            "type": "contourcarpet"
           }
          ],
          "contour": [
           {
            "colorbar": {
             "outlinewidth": 0,
             "ticks": ""
            },
            "colorscale": [
             [
              0.0,
              "#0d0887"
             ],
             [
              0.1111111111111111,
              "#46039f"
             ],
             [
              0.2222222222222222,
              "#7201a8"
             ],
             [
              0.3333333333333333,
              "#9c179e"
             ],
             [
              0.4444444444444444,
              "#bd3786"
             ],
             [
              0.5555555555555556,
              "#d8576b"
             ],
             [
              0.6666666666666666,
              "#ed7953"
             ],
             [
              0.7777777777777778,
              "#fb9f3a"
             ],
             [
              0.8888888888888888,
              "#fdca26"
             ],
             [
              1.0,
              "#f0f921"
             ]
            ],
            "type": "contour"
           }
          ],
          "heatmapgl": [
           {
            "colorbar": {
             "outlinewidth": 0,
             "ticks": ""
            },
            "colorscale": [
             [
              0.0,
              "#0d0887"
             ],
             [
              0.1111111111111111,
              "#46039f"
             ],
             [
              0.2222222222222222,
              "#7201a8"
             ],
             [
              0.3333333333333333,
              "#9c179e"
             ],
             [
              0.4444444444444444,
              "#bd3786"
             ],
             [
              0.5555555555555556,
              "#d8576b"
             ],
             [
              0.6666666666666666,
              "#ed7953"
             ],
             [
              0.7777777777777778,
              "#fb9f3a"
             ],
             [
              0.8888888888888888,
              "#fdca26"
             ],
             [
              1.0,
              "#f0f921"
             ]
            ],
            "type": "heatmapgl"
           }
          ],
          "heatmap": [
           {
            "colorbar": {
             "outlinewidth": 0,
             "ticks": ""
            },
            "colorscale": [
             [
              0.0,
              "#0d0887"
             ],
             [
              0.1111111111111111,
              "#46039f"
             ],
             [
              0.2222222222222222,
              "#7201a8"
             ],
             [
              0.3333333333333333,
              "#9c179e"
             ],
             [
              0.4444444444444444,
              "#bd3786"
             ],
             [
              0.5555555555555556,
              "#d8576b"
             ],
             [
              0.6666666666666666,
              "#ed7953"
             ],
             [
              0.7777777777777778,
              "#fb9f3a"
             ],
             [
              0.8888888888888888,
              "#fdca26"
             ],
             [
              1.0,
              "#f0f921"
             ]
            ],
            "type": "heatmap"
           }
          ],
          "histogram2dcontour": [
           {
            "colorbar": {
             "outlinewidth": 0,
             "ticks": ""
            },
            "colorscale": [
             [
              0.0,
              "#0d0887"
             ],
             [
              0.1111111111111111,
              "#46039f"
             ],
             [
              0.2222222222222222,
              "#7201a8"
             ],
             [
              0.3333333333333333,
              "#9c179e"
             ],
             [
              0.4444444444444444,
              "#bd3786"
             ],
             [
              0.5555555555555556,
              "#d8576b"
             ],
             [
              0.6666666666666666,
              "#ed7953"
             ],
             [
              0.7777777777777778,
              "#fb9f3a"
             ],
             [
              0.8888888888888888,
              "#fdca26"
             ],
             [
              1.0,
              "#f0f921"
             ]
            ],
            "type": "histogram2dcontour"
           }
          ],
          "histogram2d": [
           {
            "colorbar": {
             "outlinewidth": 0,
             "ticks": ""
            },
            "colorscale": [
             [
              0.0,
              "#0d0887"
             ],
             [
              0.1111111111111111,
              "#46039f"
             ],
             [
              0.2222222222222222,
              "#7201a8"
             ],
             [
              0.3333333333333333,
              "#9c179e"
             ],
             [
              0.4444444444444444,
              "#bd3786"
             ],
             [
              0.5555555555555556,
              "#d8576b"
             ],
             [
              0.6666666666666666,
              "#ed7953"
             ],
             [
              0.7777777777777778,
              "#fb9f3a"
             ],
             [
              0.8888888888888888,
              "#fdca26"
             ],
             [
              1.0,
              "#f0f921"
             ]
            ],
            "type": "histogram2d"
           }
          ],
          "histogram": [
           {
            "marker": {
             "pattern": {
              "fillmode": "overlay",
              "size": 10,
              "solidity": 0.2
             }
            },
            "type": "histogram"
           }
          ],
          "mesh3d": [
           {
            "colorbar": {
             "outlinewidth": 0,
             "ticks": ""
            },
            "type": "mesh3d"
           }
          ],
          "parcoords": [
           {
            "line": {
             "colorbar": {
              "outlinewidth": 0,
              "ticks": ""
             }
            },
            "type": "parcoords"
           }
          ],
          "pie": [
           {
            "automargin": true,
            "type": "pie"
           }
          ],
          "scatter3d": [
           {
            "line": {
             "colorbar": {
              "outlinewidth": 0,
              "ticks": ""
             }
            },
            "marker": {
             "colorbar": {
              "outlinewidth": 0,
              "ticks": ""
             }
            },
            "type": "scatter3d"
           }
          ],
          "scattercarpet": [
           {
            "marker": {
             "colorbar": {
              "outlinewidth": 0,
              "ticks": ""
             }
            },
            "type": "scattercarpet"
           }
          ],
          "scattergeo": [
           {
            "marker": {
             "colorbar": {
              "outlinewidth": 0,
              "ticks": ""
             }
            },
            "type": "scattergeo"
           }
          ],
          "scattergl": [
           {
            "marker": {
             "colorbar": {
              "outlinewidth": 0,
              "ticks": ""
             }
            },
            "type": "scattergl"
           }
          ],
          "scattermapbox": [
           {
            "marker": {
             "colorbar": {
              "outlinewidth": 0,
              "ticks": ""
             }
            },
            "type": "scattermapbox"
           }
          ],
          "scatterpolargl": [
           {
            "marker": {
             "colorbar": {
              "outlinewidth": 0,
              "ticks": ""
             }
            },
            "type": "scatterpolargl"
           }
          ],
          "scatterpolar": [
           {
            "marker": {
             "colorbar": {
              "outlinewidth": 0,
              "ticks": ""
             }
            },
            "type": "scatterpolar"
           }
          ],
          "scatter": [
           {
            "fillpattern": {
             "fillmode": "overlay",
             "size": 10,
             "solidity": 0.2
            },
            "type": "scatter"
           }
          ],
          "scatterternary": [
           {
            "marker": {
             "colorbar": {
              "outlinewidth": 0,
              "ticks": ""
             }
            },
            "type": "scatterternary"
           }
          ],
          "surface": [
           {
            "colorbar": {
             "outlinewidth": 0,
             "ticks": ""
            },
            "colorscale": [
             [
              0.0,
              "#0d0887"
             ],
             [
              0.1111111111111111,
              "#46039f"
             ],
             [
              0.2222222222222222,
              "#7201a8"
             ],
             [
              0.3333333333333333,
              "#9c179e"
             ],
             [
              0.4444444444444444,
              "#bd3786"
             ],
             [
              0.5555555555555556,
              "#d8576b"
             ],
             [
              0.6666666666666666,
              "#ed7953"
             ],
             [
              0.7777777777777778,
              "#fb9f3a"
             ],
             [
              0.8888888888888888,
              "#fdca26"
             ],
             [
              1.0,
              "#f0f921"
             ]
            ],
            "type": "surface"
           }
          ],
          "table": [
           {
            "cells": {
             "fill": {
              "color": "#EBF0F8"
             },
             "line": {
              "color": "white"
             }
            },
            "header": {
             "fill": {
              "color": "#C8D4E3"
             },
             "line": {
              "color": "white"
             }
            },
            "type": "table"
           }
          ]
         },
         "layout": {
          "annotationdefaults": {
           "arrowcolor": "#2a3f5f",
           "arrowhead": 0,
           "arrowwidth": 1
          },
          "autotypenumbers": "strict",
          "coloraxis": {
           "colorbar": {
            "outlinewidth": 0,
            "ticks": ""
           }
          },
          "colorscale": {
           "diverging": [
            [
             0,
             "#8e0152"
            ],
            [
             0.1,
             "#c51b7d"
            ],
            [
             0.2,
             "#de77ae"
            ],
            [
             0.3,
             "#f1b6da"
            ],
            [
             0.4,
             "#fde0ef"
            ],
            [
             0.5,
             "#f7f7f7"
            ],
            [
             0.6,
             "#e6f5d0"
            ],
            [
             0.7,
             "#b8e186"
            ],
            [
             0.8,
             "#7fbc41"
            ],
            [
             0.9,
             "#4d9221"
            ],
            [
             1,
             "#276419"
            ]
           ],
           "sequential": [
            [
             0.0,
             "#0d0887"
            ],
            [
             0.1111111111111111,
             "#46039f"
            ],
            [
             0.2222222222222222,
             "#7201a8"
            ],
            [
             0.3333333333333333,
             "#9c179e"
            ],
            [
             0.4444444444444444,
             "#bd3786"
            ],
            [
             0.5555555555555556,
             "#d8576b"
            ],
            [
             0.6666666666666666,
             "#ed7953"
            ],
            [
             0.7777777777777778,
             "#fb9f3a"
            ],
            [
             0.8888888888888888,
             "#fdca26"
            ],
            [
             1.0,
             "#f0f921"
            ]
           ],
           "sequentialminus": [
            [
             0.0,
             "#0d0887"
            ],
            [
             0.1111111111111111,
             "#46039f"
            ],
            [
             0.2222222222222222,
             "#7201a8"
            ],
            [
             0.3333333333333333,
             "#9c179e"
            ],
            [
             0.4444444444444444,
             "#bd3786"
            ],
            [
             0.5555555555555556,
             "#d8576b"
            ],
            [
             0.6666666666666666,
             "#ed7953"
            ],
            [
             0.7777777777777778,
             "#fb9f3a"
            ],
            [
             0.8888888888888888,
             "#fdca26"
            ],
            [
             1.0,
             "#f0f921"
            ]
           ]
          },
          "colorway": [
           "#636efa",
           "#EF553B",
           "#00cc96",
           "#ab63fa",
           "#FFA15A",
           "#19d3f3",
           "#FF6692",
           "#B6E880",
           "#FF97FF",
           "#FECB52"
          ],
          "font": {
           "color": "#2a3f5f"
          },
          "geo": {
           "bgcolor": "white",
           "lakecolor": "white",
           "landcolor": "white",
           "showlakes": true,
           "showland": true,
           "subunitcolor": "#C8D4E3"
          },
          "hoverlabel": {
           "align": "left"
          },
          "hovermode": "closest",
          "mapbox": {
           "style": "light"
          },
          "paper_bgcolor": "white",
          "plot_bgcolor": "white",
          "polar": {
           "angularaxis": {
            "gridcolor": "#EBF0F8",
            "linecolor": "#EBF0F8",
            "ticks": ""
           },
           "bgcolor": "white",
           "radialaxis": {
            "gridcolor": "#EBF0F8",
            "linecolor": "#EBF0F8",
            "ticks": ""
           }
          },
          "scene": {
           "xaxis": {
            "backgroundcolor": "white",
            "gridcolor": "#DFE8F3",
            "gridwidth": 2,
            "linecolor": "#EBF0F8",
            "showbackground": true,
            "ticks": "",
            "zerolinecolor": "#EBF0F8"
           },
           "yaxis": {
            "backgroundcolor": "white",
            "gridcolor": "#DFE8F3",
            "gridwidth": 2,
            "linecolor": "#EBF0F8",
            "showbackground": true,
            "ticks": "",
            "zerolinecolor": "#EBF0F8"
           },
           "zaxis": {
            "backgroundcolor": "white",
            "gridcolor": "#DFE8F3",
            "gridwidth": 2,
            "linecolor": "#EBF0F8",
            "showbackground": true,
            "ticks": "",
            "zerolinecolor": "#EBF0F8"
           }
          },
          "shapedefaults": {
           "line": {
            "color": "#2a3f5f"
           }
          },
          "ternary": {
           "aaxis": {
            "gridcolor": "#DFE8F3",
            "linecolor": "#A2B1C6",
            "ticks": ""
           },
           "baxis": {
            "gridcolor": "#DFE8F3",
            "linecolor": "#A2B1C6",
            "ticks": ""
           },
           "bgcolor": "white",
           "caxis": {
            "gridcolor": "#DFE8F3",
            "linecolor": "#A2B1C6",
            "ticks": ""
           }
          },
          "title": {
           "x": 0.05
          },
          "xaxis": {
           "automargin": true,
           "gridcolor": "#EBF0F8",
           "linecolor": "#EBF0F8",
           "ticks": "",
           "title": {
            "standoff": 15
           },
           "zerolinecolor": "#EBF0F8",
           "zerolinewidth": 2
          },
          "yaxis": {
           "automargin": true,
           "gridcolor": "#EBF0F8",
           "linecolor": "#EBF0F8",
           "ticks": "",
           "title": {
            "standoff": 15
           },
           "zerolinecolor": "#EBF0F8",
           "zerolinewidth": 2
          }
         }
        },
        "shapes": [
         {
          "line": {
           "color": "red",
           "dash": "dash",
           "width": 1
          },
          "type": "line",
          "x0": "2024-07-01",
          "x1": "2024-07-01",
          "xref": "x",
          "y0": 0,
          "y1": 1,
          "yref": "y domain"
         }
        ],
        "yaxis": {
         "title": {
          "text": "Day closing return (%)"
         },
         "tickformat": ".0%",
         "range": [
          0.75,
          1.6
         ]
        },
        "title": {
         "text": "1 Month Prediction vs Actual Plot"
        },
        "xaxis": {
         "title": {
          "text": "Date"
         }
        },
        "legend": {
         "title": {
          "text": "Legend"
         }
        }
       },
       "config": {
        "plotlyServerURL": "https://plot.ly"
       }
      },
      "text/html": [
       "<div>                            <div id=\"78c17498-93d0-4165-b9dc-2b320428c89f\" class=\"plotly-graph-div\" style=\"height:525px; width:100%;\"></div>            <script type=\"text/javascript\">                require([\"plotly\"], function(Plotly) {                    window.PLOTLYENV=window.PLOTLYENV || {};                                    if (document.getElementById(\"78c17498-93d0-4165-b9dc-2b320428c89f\")) {                    Plotly.newPlot(                        \"78c17498-93d0-4165-b9dc-2b320428c89f\",                        [{\"line\":{\"color\":\"#5c839f\",\"width\":2},\"mode\":\"lines\",\"name\":\"Actual returns\",\"x\":[\"2000-10-01\",\"2000-11-01\",\"2000-12-01\",\"2001-01-01\",\"2001-02-01\",\"2001-03-01\",\"2001-04-01\",\"2001-05-01\",\"2001-06-01\",\"2001-07-01\",\"2001-08-01\",\"2001-09-01\",\"2001-10-01\",\"2001-11-01\",\"2001-12-01\",\"2002-01-01\",\"2002-02-01\",\"2002-03-01\",\"2002-04-01\",\"2002-05-01\",\"2002-06-01\",\"2002-07-01\",\"2002-08-01\",\"2002-09-01\",\"2002-10-01\",\"2002-11-01\",\"2002-12-01\",\"2003-01-01\",\"2003-02-01\",\"2003-03-01\",\"2003-04-01\",\"2003-05-01\",\"2003-06-01\",\"2003-07-01\",\"2003-08-01\",\"2003-09-01\",\"2003-10-01\",\"2003-11-01\",\"2003-12-01\",\"2004-01-01\",\"2004-02-01\",\"2004-03-01\",\"2004-04-01\",\"2004-05-01\",\"2004-06-01\",\"2004-07-01\",\"2004-08-01\",\"2004-09-01\",\"2004-10-01\",\"2004-11-01\",\"2004-12-01\",\"2005-01-01\",\"2005-02-01\",\"2005-03-01\",\"2005-04-01\",\"2005-05-01\",\"2005-06-01\",\"2005-07-01\",\"2005-08-01\",\"2005-09-01\",\"2005-10-01\",\"2005-11-01\",\"2005-12-01\",\"2006-01-01\",\"2006-02-01\",\"2006-03-01\",\"2006-04-01\",\"2006-05-01\",\"2006-06-01\",\"2006-07-01\",\"2006-08-01\",\"2006-09-01\",\"2006-10-01\",\"2006-11-01\",\"2006-12-01\",\"2007-01-01\",\"2007-02-01\",\"2007-03-01\",\"2007-04-01\",\"2007-05-01\",\"2007-06-01\",\"2007-07-01\",\"2007-08-01\",\"2007-09-01\",\"2007-10-01\",\"2007-11-01\",\"2007-12-01\",\"2008-01-01\",\"2008-02-01\",\"2008-03-01\",\"2008-04-01\",\"2008-05-01\",\"2008-06-01\",\"2008-07-01\",\"2008-08-01\",\"2008-09-01\",\"2008-10-01\",\"2008-11-01\",\"2008-12-01\",\"2009-01-01\",\"2009-02-01\",\"2009-03-01\",\"2009-04-01\",\"2009-05-01\",\"2009-06-01\",\"2009-07-01\",\"2009-08-01\",\"2009-09-01\",\"2009-10-01\",\"2009-11-01\",\"2009-12-01\",\"2010-01-01\",\"2010-02-01\",\"2010-03-01\",\"2010-04-01\",\"2010-05-01\",\"2010-06-01\",\"2010-07-01\",\"2010-08-01\",\"2010-09-01\",\"2010-10-01\",\"2010-11-01\",\"2010-12-01\",\"2011-01-01\",\"2011-02-01\",\"2011-03-01\",\"2011-04-01\",\"2011-05-01\",\"2011-06-01\",\"2011-07-01\",\"2011-08-01\",\"2011-09-01\",\"2011-10-01\",\"2011-11-01\",\"2011-12-01\",\"2012-01-01\",\"2012-02-01\",\"2012-03-01\",\"2012-04-01\",\"2012-05-01\",\"2012-06-01\",\"2012-07-01\",\"2012-08-01\",\"2012-09-01\",\"2012-10-01\",\"2012-11-01\",\"2012-12-01\",\"2013-01-01\",\"2013-02-01\",\"2013-03-01\",\"2013-04-01\",\"2013-05-01\",\"2013-06-01\",\"2013-07-01\",\"2013-08-01\",\"2013-09-01\",\"2013-10-01\",\"2013-11-01\",\"2013-12-01\",\"2014-01-01\",\"2014-02-01\",\"2014-03-01\",\"2014-04-01\",\"2014-05-01\",\"2014-06-01\",\"2014-07-01\",\"2014-08-01\",\"2014-09-01\",\"2014-10-01\",\"2014-11-01\",\"2014-12-01\",\"2015-01-01\",\"2015-02-01\",\"2015-03-01\",\"2015-04-01\",\"2015-05-01\",\"2015-06-01\",\"2015-07-01\",\"2015-08-01\",\"2015-09-01\",\"2015-10-01\",\"2015-11-01\",\"2015-12-01\",\"2016-01-01\",\"2016-02-01\",\"2016-03-01\",\"2016-04-01\",\"2016-05-01\",\"2016-06-01\",\"2016-07-01\",\"2016-08-01\",\"2016-09-01\",\"2016-10-01\",\"2016-11-01\",\"2016-12-01\",\"2017-01-01\",\"2017-02-01\",\"2017-03-01\",\"2017-04-01\",\"2017-05-01\",\"2017-06-01\",\"2017-07-01\",\"2017-08-01\",\"2017-09-01\",\"2017-10-01\",\"2017-11-01\",\"2017-12-01\",\"2018-01-01\",\"2018-02-01\",\"2018-03-01\",\"2018-04-01\",\"2018-05-01\",\"2018-06-01\",\"2018-07-01\",\"2018-08-01\",\"2018-09-01\",\"2018-10-01\",\"2018-11-01\",\"2018-12-01\",\"2019-01-01\",\"2019-02-01\",\"2019-03-01\",\"2019-04-01\",\"2019-05-01\",\"2019-06-01\",\"2019-07-01\",\"2019-08-01\",\"2019-09-01\",\"2019-10-01\",\"2019-11-01\",\"2019-12-01\",\"2020-01-01\",\"2020-02-01\",\"2020-03-01\",\"2020-04-01\",\"2020-05-01\",\"2020-06-01\",\"2020-07-01\",\"2020-08-01\",\"2020-09-01\",\"2020-10-01\",\"2020-11-01\",\"2020-12-01\",\"2021-01-01\",\"2021-02-01\",\"2021-03-01\",\"2021-04-01\",\"2021-05-01\",\"2021-06-01\",\"2021-07-01\",\"2021-08-01\",\"2021-09-01\",\"2021-10-01\",\"2021-11-01\",\"2021-12-01\",\"2022-01-01\",\"2022-02-01\",\"2022-03-01\",\"2022-04-01\",\"2022-05-01\",\"2022-06-01\",\"2022-07-01\",\"2022-08-01\",\"2022-09-01\",\"2022-10-01\",\"2022-11-01\",\"2022-12-01\",\"2023-01-01\",\"2023-02-01\",\"2023-03-01\",\"2023-04-01\",\"2023-05-01\",\"2023-06-01\",\"2023-07-01\",\"2023-08-01\",\"2023-09-01\",\"2023-10-01\",\"2023-11-01\",\"2023-12-01\",\"2024-01-01\",\"2024-02-01\",\"2024-03-01\",\"2024-04-01\",\"2024-05-01\",\"2024-06-01\",\"2024-07-01\",\"2024-08-01\"],\"y\":[null,1.0255474894131882,1.0338354506957046,0.9928735632183908,5.930568663036903,1.02524500907441,0.9939624924379915,0.9817483363581366,1.0329461584996975,0.9952389594676346,1.027350272232305,0.9906291591046583,0.9893103448275862,0.9717422867513611,1.0094071385359953,1.0391651542649727,0.9689776164549303,0.9847489413188143,1.0655414398064127,1.0118451300665456,0.9984392014519057,0.9735087719298245,0.9690865093768906,0.9132849364791288,1.0499274047186933,1.050798548094374,1.0158620689655173,0.9939322444041138,1.0093103448275862,1.050725952813067,1.007102238354507,1.0027646702964308,0.9519721718088325,0.9418874773139746,0.9874833635813671,0.9568905021173624,1.0078644888082275,1.0582516636418633,0.9664125831820932,0.9890199637023595,1.0055716878402905,0.9959830611010285,1.0599516031457954,1.0670054446460981,1.034162129461585,1.508451300665457,1.0614277071990321,1.0038233514821537,1.0498003629764066,1.0042286751361162,1.015849969751966,1.0305263157894737,1.0141560798548095,1.0468421052631578,1.0040834845735027,0.992474289171204,1.0346218995765275,0.9633877797943133,0.9934119782214157,1.0055535390199637,1.0005565638233516,1.0293163944343617,1.053762855414398,1.00643073200242,1.0203811252268602,0.9955595886267392,0.9733030852994556,1.033145795523291,1.0216817906836055,1.0358136721113127,0.9993042952208105,1.1286509376890503,1.0726013309134907,3.2130248033877797,1.0215607985480943,1.0408166969147006,1.0128917120387175,1.027501512401694,1.0092075015124016,0.9686267392619479,0.9991833030852995,0.9856866303690262,1.0248820326678767,1.0297519661222019,1.0213853599516032,1.0188808227465216,1.027979431336963,1.0368723532970356,1.0044404113732608,1.0015849969751967,1.0188082274652148,1.0226194797338173,0.9885843920145191,0.9759286146400484,0.9907501512401694,1.002474289171204,1.0255172413793103,0.9479370840895343,0.9907743496672716,0.9420447670901392,0.9907199032062917,0.9868784029038112,1.0311494252873565,1.02318814277072,0.9375620084694495,0.9950090744101633,1.0215789473684211,0.9273018753781004,0.8458197217180883,0.9447489413188144,1.0413006654567454,0.9497701149425287,0.9416515426497277,1.0697580157289777,1.1476164549304295,1.0432909860859043,1.0350211736237145,1.0623895946763462,1.0552026618269812,1.0322746521476103,0.9779915305505141,1.0015910465819722,1.0513793103448277,0.9896067755595885,1.0185541439806414,1.0590381125226862,1.0449969751966124,0.9456261343012704,0.9619419237749547,1.0388626739261946,0.9645856019358742,1.0696067755595886,1.0163883847549908,1.0275862068965518,1.0584029038112523,1.0119782214156081,1.0324803387779795,1.0016031457955235,1.0198850574712643,0.9949969751966122,0.9972353297035693,0.9830429522081064,0.9474712643678161,0.9529824561403508,1.0689231699939505,0.9843375680580763,1.0002540834845735,1.0593768905021175,1.0995402298850574,1.026303690260133,0.9927465214761042,0.9427586206896552,1.0300241984271024,0.9957652752571083,1.0196672716273443,1.0171506352087114,1.0012038717483362,1.0166848154869934,1.0311736237144584,1.0607924984875983,1.0218390804597701,1.0406836055656383,1.0333696309739866,1.01821536600121,0.990508166969147,1.0369933454325468,0.98346037507562,1.0512159709618873,1.0213430127041743,1.0239806412583181,1.022280701754386,0.9877434966727164,1.0288626739261948,1.0008287961282516,0.9851845130066547,1.0161161524500906,1.0306473079249847,0.9871445856019359,1.026745311554749,0.989491833030853,1.0253115547489413,1.04167574107683,1.0141681790683605,1.0019419237749547,1.0444585601935874,1.0097459165154263,1.000411373260738,1.0252087114337567,0.9903266787658802,1.012788868723533,0.9586448880822745,0.9679854809437386,1.0623411978221418,1.0190018148820326,0.9822928009679371,0.9491107078039926,0.9993587416817907,1.0566122202056867,1.0004355716878404,1.0214095583787053,0.9709074410163339,1.0535813672111312,1.0110102843315183,1.0043375680580762,0.9848154869933453,1.0514337568058076,1.0315486993345433,1.0146581972171809,1.0218451300665456,1.009751966122202,1.0155958862673926,1.0126678765880217,1.0131215970961889,1.0135692679975803,1.0033877797943134,1.0308892921960073,1.0195220810647307,1.0232244404113733,1.0114458560193589,1.023817301875378,0.974422262552934,0.996636418632789,1.0194797338173018,1.0263641863278887,1.0086327888687234,1.0175922565033273,1.0217725347852389,0.9907501512401694,0.9365880217785845,1.0115124016938897,0.9133272837265578,1.0914398064125832,1.0367513611615244,1.004137931034483,1.043049001814882,0.940822746521476,1.0453539019963702,1.0221234119782214,0.9704476709013913,1.0369449485783424,1.0294797338173018,1.0347307924984874,1.0268058076225044,0.9897519661222022,0.9099153055051422,0.8183847549909256,1.1260314579552329,1.072552934059286,1.0304174228675136,1.0225710828796128,1.0605565638233514,0.9945130066545675,0.9923290986085905,1.1583847549909256,1.0579612825166365,1.0404839685420448,1.053793103448276,1.0589292196007258,1.037652752571083,1.0213430127041743,1.0207562008469449,1.0036418632788868,1.025287356321839,0.9864851784633998,1.0300241984271024,0.969933454325469,1.0402117362371448,0.9256805807622505,0.9876830006049606,1.003230490018149,0.9446763460375075,1.0007199032062917,0.9249425287356322,1.0904295220810647,0.9692982456140351,0.901373260738052,1.0810284331518452,1.0552994555353903,0.9577374470659408,1.0973321234119784,0.9889957652752571,0.979933454325469,1.001318814277072,0.9908832425892315,1.0624803387779795,1.0433393829401088,0.9686206896551725,0.95978221415608,0.9421113127646703,1.0877132486388386,1.079328493647913,0.9853962492437992,1.0741379310344827,1.0276285541439807,0.9559709618874773,1.0341621294615853,0.9932425892317,1.0552510586811856,0.9971990320629158,0.9666787658802178],\"type\":\"scatter\"},{\"line\":{\"color\":\"red\",\"width\":2},\"mode\":\"lines\",\"name\":\"Train returns\",\"x\":[\"2000-10-01\",\"2000-11-01\",\"2000-12-01\",\"2001-01-01\",\"2001-02-01\",\"2001-03-01\",\"2001-04-01\",\"2001-05-01\",\"2001-06-01\",\"2001-07-01\",\"2001-08-01\",\"2001-09-01\",\"2001-10-01\",\"2001-11-01\",\"2001-12-01\",\"2002-01-01\",\"2002-02-01\",\"2002-03-01\",\"2002-04-01\",\"2002-05-01\",\"2002-06-01\",\"2002-07-01\",\"2002-08-01\",\"2002-09-01\",\"2002-10-01\",\"2002-11-01\",\"2002-12-01\",\"2003-01-01\",\"2003-02-01\",\"2003-03-01\",\"2003-04-01\",\"2003-05-01\",\"2003-06-01\",\"2003-07-01\",\"2003-08-01\",\"2003-09-01\",\"2003-10-01\",\"2003-11-01\",\"2003-12-01\",\"2004-01-01\",\"2004-02-01\",\"2004-03-01\",\"2004-04-01\",\"2004-05-01\",\"2004-06-01\",\"2004-07-01\",\"2004-08-01\",\"2004-09-01\",\"2004-10-01\",\"2004-11-01\",\"2004-12-01\",\"2005-01-01\",\"2005-02-01\",\"2005-03-01\",\"2005-04-01\",\"2005-05-01\",\"2005-06-01\",\"2005-07-01\",\"2005-08-01\",\"2005-09-01\",\"2005-10-01\",\"2005-11-01\",\"2005-12-01\",\"2006-01-01\",\"2006-02-01\",\"2006-03-01\",\"2006-04-01\",\"2006-05-01\",\"2006-06-01\",\"2006-07-01\",\"2006-08-01\",\"2006-09-01\",\"2006-10-01\",\"2006-11-01\",\"2006-12-01\",\"2007-01-01\",\"2007-02-01\",\"2007-03-01\",\"2007-04-01\",\"2007-05-01\",\"2007-06-01\",\"2007-07-01\",\"2007-08-01\",\"2007-09-01\",\"2007-10-01\",\"2007-11-01\",\"2007-12-01\",\"2008-01-01\",\"2008-02-01\",\"2008-03-01\",\"2008-04-01\",\"2008-05-01\",\"2008-06-01\",\"2008-07-01\",\"2008-08-01\",\"2008-09-01\",\"2008-10-01\",\"2008-11-01\",\"2008-12-01\",\"2009-01-01\",\"2009-02-01\",\"2009-03-01\",\"2009-04-01\",\"2009-05-01\",\"2009-06-01\",\"2009-07-01\",\"2009-08-01\",\"2009-09-01\",\"2009-10-01\",\"2009-11-01\",\"2009-12-01\",\"2010-01-01\",\"2010-02-01\",\"2010-03-01\",\"2010-04-01\",\"2010-05-01\",\"2010-06-01\",\"2010-07-01\",\"2010-08-01\",\"2010-09-01\",\"2010-10-01\",\"2010-11-01\",\"2010-12-01\",\"2011-01-01\",\"2011-02-01\",\"2011-03-01\",\"2011-04-01\",\"2011-05-01\",\"2011-06-01\",\"2011-07-01\",\"2011-08-01\",\"2011-09-01\",\"2011-10-01\",\"2011-11-01\",\"2011-12-01\",\"2012-01-01\",\"2012-02-01\",\"2012-03-01\",\"2012-04-01\",\"2012-05-01\",\"2012-06-01\",\"2012-07-01\",\"2012-08-01\",\"2012-09-01\",\"2012-10-01\",\"2012-11-01\",\"2012-12-01\",\"2013-01-01\",\"2013-02-01\",\"2013-03-01\",\"2013-04-01\",\"2013-05-01\",\"2013-06-01\",\"2013-07-01\",\"2013-08-01\",\"2013-09-01\",\"2013-10-01\",\"2013-11-01\",\"2013-12-01\",\"2014-01-01\",\"2014-02-01\",\"2014-03-01\",\"2014-04-01\",\"2014-05-01\",\"2014-06-01\",\"2014-07-01\",\"2014-08-01\",\"2014-09-01\",\"2014-10-01\",\"2014-11-01\",\"2014-12-01\",\"2015-01-01\",\"2015-02-01\",\"2015-03-01\",\"2015-04-01\",\"2015-05-01\",\"2015-06-01\",\"2015-07-01\",\"2015-08-01\",\"2015-09-01\",\"2015-10-01\",\"2015-11-01\",\"2015-12-01\",\"2016-01-01\",\"2016-02-01\",\"2016-03-01\",\"2016-04-01\",\"2016-05-01\",\"2016-06-01\",\"2016-07-01\",\"2016-08-01\",\"2016-09-01\",\"2016-10-01\",\"2016-11-01\",\"2016-12-01\",\"2017-01-01\",\"2017-02-01\",\"2017-03-01\",\"2017-04-01\",\"2017-05-01\",\"2017-06-01\",\"2017-07-01\",\"2017-08-01\",\"2017-09-01\",\"2017-10-01\",\"2017-11-01\",\"2017-12-01\",\"2018-01-01\",\"2018-02-01\",\"2018-03-01\",\"2018-04-01\",\"2018-05-01\",\"2018-06-01\",\"2018-07-01\",\"2018-08-01\",\"2018-09-01\",\"2018-10-01\",\"2018-11-01\",\"2018-12-01\",\"2019-01-01\",\"2019-02-01\",\"2019-03-01\",\"2019-04-01\",\"2019-05-01\",\"2019-06-01\",\"2019-07-01\",\"2019-08-01\",\"2019-09-01\",\"2019-10-01\",\"2019-11-01\",\"2019-12-01\",\"2020-01-01\",\"2020-02-01\",\"2020-03-01\",\"2020-04-01\",\"2020-05-01\",\"2020-06-01\",\"2020-07-01\",\"2020-08-01\",\"2020-09-01\",\"2020-10-01\",\"2020-11-01\",\"2020-12-01\",\"2021-01-01\",\"2021-02-01\",\"2021-03-01\",\"2021-04-01\",\"2021-05-01\",\"2021-06-01\",\"2021-07-01\",\"2021-08-01\",\"2021-09-01\",\"2021-10-01\",\"2021-11-01\",\"2021-12-01\",\"2022-01-01\",\"2022-02-01\",\"2022-03-01\",\"2022-04-01\",\"2022-05-01\",\"2022-06-01\",\"2022-07-01\",\"2022-08-01\",\"2022-09-01\",\"2022-10-01\",\"2022-11-01\",\"2022-12-01\",\"2023-01-01\",\"2023-02-01\",\"2023-03-01\",\"2023-04-01\",\"2023-05-01\",\"2023-06-01\",\"2023-07-01\",\"2023-08-01\",\"2023-09-01\",\"2023-10-01\",\"2023-11-01\",\"2023-12-01\",\"2024-01-01\",\"2024-02-01\",\"2024-03-01\",\"2024-04-01\",\"2024-05-01\",\"2024-06-01\",\"2024-07-01\"],\"y\":[1.004035234451294,1.011195182800293,1.0054978132247925,1.0084285736083984,1.0161194801330566,1.0109413862228394,1.0098751783370972,1.0061548948287964,1.0040483474731445,1.0061601400375366,1.0153762102127075,1.0070692300796509,1.0089237689971924,1.0090535879135132,1.0064170360565186,1.005945086479187,1.0097113847732544,1.006086826324463,1.0088529586791992,1.0073740482330322,1.006198525428772,1.0138132572174072,1.0118193626403809,1.0098659992218018,1.0121413469314575,1.0164822340011597,1.0112383365631104,1.0172932147979736,1.0119537115097046,1.00796377658844,1.0071228742599487,1.010449767112732,1.0106756687164307,1.008291244506836,1.009986400604248,1.0073672533035278,1.0121595859527588,1.010891318321228,1.0144113302230835,1.0106372833251953,1.0112712383270264,1.0104488134384155,1.00839364528656,1.0124871730804443,1.0123182535171509,1.0096845626831055,1.0060875415802002,1.0098934173583984,1.0085653066635132,1.0093955993652344,1.0085041522979736,1.0131973028182983,1.0100668668746948,1.0324556827545166,1.0150328874588013,1.007434606552124,1.0114777088165283,1.0061765909194946,1.0077184438705444,1.0095988512039185,1.0085843801498413,1.0066745281219482,3.6324613094329834,1.0079983472824097,1.006373405456543,1.0042368173599243,1.0062519311904907,1.0076600313186646,1.0330301523208618,1.0131138563156128,1.0096060037612915,1.0099108219146729,1.0081185102462769,1.0057445764541626,1.0126383304595947,1.0097230672836304,1.0558468103408813,1.0149519443511963,1.0065913200378418,1.0076065063476562,1.0097707509994507,1.020180106163025,1.0126317739486694,1.0102423429489136,1.0068007707595825,1.0072925090789795,1.006646990776062,1.0072338581085205,1.0106838941574097,1.012337327003479,1.0081450939178467,1.0094693899154663,1.0107070207595825,1.0107380151748657,1.007812261581421,1.0087229013442993,1.0064480304718018,1.0065594911575317,1.0066906213760376,1.011047601699829,1.006173849105835,1.0062929391860962,1.0076509714126587,1.011139988899231,1.0078327655792236,1.0070208311080933,1.0048292875289917,1.016676902770996,1.0061079263687134,1.006975531578064,1.0012167692184448,1.0085102319717407,1.0094786882400513,1.0084863901138306,1.0033583641052246,1.0087097883224487,1.0106792449951172,1.0081669092178345,1.017598271369934,1.0076096057891846,1.006701946258545,1.0097005367279053,1.0100436210632324,1.0118030309677124,1.015165090560913,1.011282205581665,1.0112850666046143,1.0067147016525269,1.0141072273254395,1.0093046426773071,1.0092198848724365,1.007274866104126,1.0051926374435425,1.007212519645691,1.0095129013061523,1.011978030204773,1.0088555812835693,1.0140413045883179,1.0065597295761108,1.0072293281555176,1.005734920501709,1.015143871307373,1.0048637390136719,1.0033172369003296,1.0061465501785278,1.0130895376205444,1.170272946357727,1.0068503618240356,1.0124460458755493,1.0100760459899902,1.0114988088607788,1.0104135274887085,1.0067421197891235,1.0078198909759521,1.0170854330062866,1.0179064273834229,1.004518747329712,1.0102553367614746,1.004988670349121,1.0045026540756226,0.9497326016426086,1.007135033607483,1.005980134010315,1.0098152160644531,1.0075775384902954,1.019516944885254,1.0081664323806763,1.004565954208374,1.0107057094573975,1.0085440874099731,1.0130504369735718,1.0088425874710083,1.0132418870925903,1.0036321878433228,1.011601209640503,1.0085159540176392,1.0103576183319092,1.0047290325164795,1.0066921710968018,1.0078403949737549,1.007790207862854,1.017716884613037,1.0127071142196655,1.0106396675109863,1.0098481178283691,1.0081090927124023,1.0125139951705933,1.0069414377212524,1.0114502906799316,1.0042285919189453,1.007453203201294,1.0059620141983032,1.0071794986724854,1.00640869140625,1.0080746412277222,1.0114972591400146,1.0068923234939575,1.0046052932739258,1.002570390701294,1.013683795928955,1.0046615600585938,1.0008399486541748,1.1618460416793823,1.0073809623718262,1.0062077045440674,1.0168856382369995,3.1283676624298096,1.0109755992889404,1.0010976791381836,1.008725643157959,1.0068453550338745,1.0178098678588867,1.0312786102294922,1.0065622329711914,1.0076478719711304,1.0079548358917236,1.0039554834365845,1.0100281238555908,1.0078556537628174,1.0050913095474243,1.0220158100128174,1.0110615491867065,1.0091127157211304,1.0063492059707642,1.0136277675628662,1.0047056674957275,1.0031312704086304,1.0118165016174316,1.0049676895141602,1.0125774145126343,1.0058969259262085,1.0045416355133057,1.006765604019165,1.0119386911392212,1.0101159811019897,1.0029447078704834,1.0114930868148804,1.0077810287475586,1.0074570178985596,1.0053013563156128,1.013879656791687,1.008623480796814,1.0037153959274292,1.0050742626190186,1.0079662799835205,1.008557677268982,1.0071065425872803,1.0063868761062622,1.0023362636566162,1.000645637512207,1.0127242803573608,1.0073788166046143,1.0119913816452026,1.0108311176300049,1.0056304931640625,1.005184292793274,1.0077877044677734,1.0087720155715942,1.0096365213394165,1.0078188180923462,1.0093637704849243,1.0052343606948853,1.0064767599105835,1.011362910270691,1.0065041780471802,1.0156936645507812,1.005415439605713,1.0049707889556885,1.0053478479385376,1.0081229209899902,1.0075453519821167,1.003454327583313,1.0061602592468262,1.0091955661773682,1.0077481269836426,1.0074093341827393,1.0186594724655151,1.0104848146438599,1.005547285079956,1.0106760263442993,1.0124746561050415,1.041590929031372,1.0298436880111694,1.0049244165420532,1.0089073181152344,1.0146210193634033],\"type\":\"scatter\"},{\"line\":{\"color\":\"green\",\"width\":2},\"mode\":\"lines\",\"name\":\"Test returns\",\"x\":[\"2024-07-01\",\"2024-08-01\"],\"y\":[1.0146210193634033,0.8315739631652832],\"type\":\"scatter\"}],                        {\"template\":{\"data\":{\"barpolar\":[{\"marker\":{\"line\":{\"color\":\"white\",\"width\":0.5},\"pattern\":{\"fillmode\":\"overlay\",\"size\":10,\"solidity\":0.2}},\"type\":\"barpolar\"}],\"bar\":[{\"error_x\":{\"color\":\"#2a3f5f\"},\"error_y\":{\"color\":\"#2a3f5f\"},\"marker\":{\"line\":{\"color\":\"white\",\"width\":0.5},\"pattern\":{\"fillmode\":\"overlay\",\"size\":10,\"solidity\":0.2}},\"type\":\"bar\"}],\"carpet\":[{\"aaxis\":{\"endlinecolor\":\"#2a3f5f\",\"gridcolor\":\"#C8D4E3\",\"linecolor\":\"#C8D4E3\",\"minorgridcolor\":\"#C8D4E3\",\"startlinecolor\":\"#2a3f5f\"},\"baxis\":{\"endlinecolor\":\"#2a3f5f\",\"gridcolor\":\"#C8D4E3\",\"linecolor\":\"#C8D4E3\",\"minorgridcolor\":\"#C8D4E3\",\"startlinecolor\":\"#2a3f5f\"},\"type\":\"carpet\"}],\"choropleth\":[{\"colorbar\":{\"outlinewidth\":0,\"ticks\":\"\"},\"type\":\"choropleth\"}],\"contourcarpet\":[{\"colorbar\":{\"outlinewidth\":0,\"ticks\":\"\"},\"type\":\"contourcarpet\"}],\"contour\":[{\"colorbar\":{\"outlinewidth\":0,\"ticks\":\"\"},\"colorscale\":[[0.0,\"#0d0887\"],[0.1111111111111111,\"#46039f\"],[0.2222222222222222,\"#7201a8\"],[0.3333333333333333,\"#9c179e\"],[0.4444444444444444,\"#bd3786\"],[0.5555555555555556,\"#d8576b\"],[0.6666666666666666,\"#ed7953\"],[0.7777777777777778,\"#fb9f3a\"],[0.8888888888888888,\"#fdca26\"],[1.0,\"#f0f921\"]],\"type\":\"contour\"}],\"heatmapgl\":[{\"colorbar\":{\"outlinewidth\":0,\"ticks\":\"\"},\"colorscale\":[[0.0,\"#0d0887\"],[0.1111111111111111,\"#46039f\"],[0.2222222222222222,\"#7201a8\"],[0.3333333333333333,\"#9c179e\"],[0.4444444444444444,\"#bd3786\"],[0.5555555555555556,\"#d8576b\"],[0.6666666666666666,\"#ed7953\"],[0.7777777777777778,\"#fb9f3a\"],[0.8888888888888888,\"#fdca26\"],[1.0,\"#f0f921\"]],\"type\":\"heatmapgl\"}],\"heatmap\":[{\"colorbar\":{\"outlinewidth\":0,\"ticks\":\"\"},\"colorscale\":[[0.0,\"#0d0887\"],[0.1111111111111111,\"#46039f\"],[0.2222222222222222,\"#7201a8\"],[0.3333333333333333,\"#9c179e\"],[0.4444444444444444,\"#bd3786\"],[0.5555555555555556,\"#d8576b\"],[0.6666666666666666,\"#ed7953\"],[0.7777777777777778,\"#fb9f3a\"],[0.8888888888888888,\"#fdca26\"],[1.0,\"#f0f921\"]],\"type\":\"heatmap\"}],\"histogram2dcontour\":[{\"colorbar\":{\"outlinewidth\":0,\"ticks\":\"\"},\"colorscale\":[[0.0,\"#0d0887\"],[0.1111111111111111,\"#46039f\"],[0.2222222222222222,\"#7201a8\"],[0.3333333333333333,\"#9c179e\"],[0.4444444444444444,\"#bd3786\"],[0.5555555555555556,\"#d8576b\"],[0.6666666666666666,\"#ed7953\"],[0.7777777777777778,\"#fb9f3a\"],[0.8888888888888888,\"#fdca26\"],[1.0,\"#f0f921\"]],\"type\":\"histogram2dcontour\"}],\"histogram2d\":[{\"colorbar\":{\"outlinewidth\":0,\"ticks\":\"\"},\"colorscale\":[[0.0,\"#0d0887\"],[0.1111111111111111,\"#46039f\"],[0.2222222222222222,\"#7201a8\"],[0.3333333333333333,\"#9c179e\"],[0.4444444444444444,\"#bd3786\"],[0.5555555555555556,\"#d8576b\"],[0.6666666666666666,\"#ed7953\"],[0.7777777777777778,\"#fb9f3a\"],[0.8888888888888888,\"#fdca26\"],[1.0,\"#f0f921\"]],\"type\":\"histogram2d\"}],\"histogram\":[{\"marker\":{\"pattern\":{\"fillmode\":\"overlay\",\"size\":10,\"solidity\":0.2}},\"type\":\"histogram\"}],\"mesh3d\":[{\"colorbar\":{\"outlinewidth\":0,\"ticks\":\"\"},\"type\":\"mesh3d\"}],\"parcoords\":[{\"line\":{\"colorbar\":{\"outlinewidth\":0,\"ticks\":\"\"}},\"type\":\"parcoords\"}],\"pie\":[{\"automargin\":true,\"type\":\"pie\"}],\"scatter3d\":[{\"line\":{\"colorbar\":{\"outlinewidth\":0,\"ticks\":\"\"}},\"marker\":{\"colorbar\":{\"outlinewidth\":0,\"ticks\":\"\"}},\"type\":\"scatter3d\"}],\"scattercarpet\":[{\"marker\":{\"colorbar\":{\"outlinewidth\":0,\"ticks\":\"\"}},\"type\":\"scattercarpet\"}],\"scattergeo\":[{\"marker\":{\"colorbar\":{\"outlinewidth\":0,\"ticks\":\"\"}},\"type\":\"scattergeo\"}],\"scattergl\":[{\"marker\":{\"colorbar\":{\"outlinewidth\":0,\"ticks\":\"\"}},\"type\":\"scattergl\"}],\"scattermapbox\":[{\"marker\":{\"colorbar\":{\"outlinewidth\":0,\"ticks\":\"\"}},\"type\":\"scattermapbox\"}],\"scatterpolargl\":[{\"marker\":{\"colorbar\":{\"outlinewidth\":0,\"ticks\":\"\"}},\"type\":\"scatterpolargl\"}],\"scatterpolar\":[{\"marker\":{\"colorbar\":{\"outlinewidth\":0,\"ticks\":\"\"}},\"type\":\"scatterpolar\"}],\"scatter\":[{\"fillpattern\":{\"fillmode\":\"overlay\",\"size\":10,\"solidity\":0.2},\"type\":\"scatter\"}],\"scatterternary\":[{\"marker\":{\"colorbar\":{\"outlinewidth\":0,\"ticks\":\"\"}},\"type\":\"scatterternary\"}],\"surface\":[{\"colorbar\":{\"outlinewidth\":0,\"ticks\":\"\"},\"colorscale\":[[0.0,\"#0d0887\"],[0.1111111111111111,\"#46039f\"],[0.2222222222222222,\"#7201a8\"],[0.3333333333333333,\"#9c179e\"],[0.4444444444444444,\"#bd3786\"],[0.5555555555555556,\"#d8576b\"],[0.6666666666666666,\"#ed7953\"],[0.7777777777777778,\"#fb9f3a\"],[0.8888888888888888,\"#fdca26\"],[1.0,\"#f0f921\"]],\"type\":\"surface\"}],\"table\":[{\"cells\":{\"fill\":{\"color\":\"#EBF0F8\"},\"line\":{\"color\":\"white\"}},\"header\":{\"fill\":{\"color\":\"#C8D4E3\"},\"line\":{\"color\":\"white\"}},\"type\":\"table\"}]},\"layout\":{\"annotationdefaults\":{\"arrowcolor\":\"#2a3f5f\",\"arrowhead\":0,\"arrowwidth\":1},\"autotypenumbers\":\"strict\",\"coloraxis\":{\"colorbar\":{\"outlinewidth\":0,\"ticks\":\"\"}},\"colorscale\":{\"diverging\":[[0,\"#8e0152\"],[0.1,\"#c51b7d\"],[0.2,\"#de77ae\"],[0.3,\"#f1b6da\"],[0.4,\"#fde0ef\"],[0.5,\"#f7f7f7\"],[0.6,\"#e6f5d0\"],[0.7,\"#b8e186\"],[0.8,\"#7fbc41\"],[0.9,\"#4d9221\"],[1,\"#276419\"]],\"sequential\":[[0.0,\"#0d0887\"],[0.1111111111111111,\"#46039f\"],[0.2222222222222222,\"#7201a8\"],[0.3333333333333333,\"#9c179e\"],[0.4444444444444444,\"#bd3786\"],[0.5555555555555556,\"#d8576b\"],[0.6666666666666666,\"#ed7953\"],[0.7777777777777778,\"#fb9f3a\"],[0.8888888888888888,\"#fdca26\"],[1.0,\"#f0f921\"]],\"sequentialminus\":[[0.0,\"#0d0887\"],[0.1111111111111111,\"#46039f\"],[0.2222222222222222,\"#7201a8\"],[0.3333333333333333,\"#9c179e\"],[0.4444444444444444,\"#bd3786\"],[0.5555555555555556,\"#d8576b\"],[0.6666666666666666,\"#ed7953\"],[0.7777777777777778,\"#fb9f3a\"],[0.8888888888888888,\"#fdca26\"],[1.0,\"#f0f921\"]]},\"colorway\":[\"#636efa\",\"#EF553B\",\"#00cc96\",\"#ab63fa\",\"#FFA15A\",\"#19d3f3\",\"#FF6692\",\"#B6E880\",\"#FF97FF\",\"#FECB52\"],\"font\":{\"color\":\"#2a3f5f\"},\"geo\":{\"bgcolor\":\"white\",\"lakecolor\":\"white\",\"landcolor\":\"white\",\"showlakes\":true,\"showland\":true,\"subunitcolor\":\"#C8D4E3\"},\"hoverlabel\":{\"align\":\"left\"},\"hovermode\":\"closest\",\"mapbox\":{\"style\":\"light\"},\"paper_bgcolor\":\"white\",\"plot_bgcolor\":\"white\",\"polar\":{\"angularaxis\":{\"gridcolor\":\"#EBF0F8\",\"linecolor\":\"#EBF0F8\",\"ticks\":\"\"},\"bgcolor\":\"white\",\"radialaxis\":{\"gridcolor\":\"#EBF0F8\",\"linecolor\":\"#EBF0F8\",\"ticks\":\"\"}},\"scene\":{\"xaxis\":{\"backgroundcolor\":\"white\",\"gridcolor\":\"#DFE8F3\",\"gridwidth\":2,\"linecolor\":\"#EBF0F8\",\"showbackground\":true,\"ticks\":\"\",\"zerolinecolor\":\"#EBF0F8\"},\"yaxis\":{\"backgroundcolor\":\"white\",\"gridcolor\":\"#DFE8F3\",\"gridwidth\":2,\"linecolor\":\"#EBF0F8\",\"showbackground\":true,\"ticks\":\"\",\"zerolinecolor\":\"#EBF0F8\"},\"zaxis\":{\"backgroundcolor\":\"white\",\"gridcolor\":\"#DFE8F3\",\"gridwidth\":2,\"linecolor\":\"#EBF0F8\",\"showbackground\":true,\"ticks\":\"\",\"zerolinecolor\":\"#EBF0F8\"}},\"shapedefaults\":{\"line\":{\"color\":\"#2a3f5f\"}},\"ternary\":{\"aaxis\":{\"gridcolor\":\"#DFE8F3\",\"linecolor\":\"#A2B1C6\",\"ticks\":\"\"},\"baxis\":{\"gridcolor\":\"#DFE8F3\",\"linecolor\":\"#A2B1C6\",\"ticks\":\"\"},\"bgcolor\":\"white\",\"caxis\":{\"gridcolor\":\"#DFE8F3\",\"linecolor\":\"#A2B1C6\",\"ticks\":\"\"}},\"title\":{\"x\":0.05},\"xaxis\":{\"automargin\":true,\"gridcolor\":\"#EBF0F8\",\"linecolor\":\"#EBF0F8\",\"ticks\":\"\",\"title\":{\"standoff\":15},\"zerolinecolor\":\"#EBF0F8\",\"zerolinewidth\":2},\"yaxis\":{\"automargin\":true,\"gridcolor\":\"#EBF0F8\",\"linecolor\":\"#EBF0F8\",\"ticks\":\"\",\"title\":{\"standoff\":15},\"zerolinecolor\":\"#EBF0F8\",\"zerolinewidth\":2}}},\"shapes\":[{\"line\":{\"color\":\"red\",\"dash\":\"dash\",\"width\":1},\"type\":\"line\",\"x0\":\"2024-07-01\",\"x1\":\"2024-07-01\",\"xref\":\"x\",\"y0\":0,\"y1\":1,\"yref\":\"y domain\"}],\"yaxis\":{\"title\":{\"text\":\"Day closing return (%)\"},\"tickformat\":\".0%\",\"range\":[0.75,1.6]},\"title\":{\"text\":\"1 Month Prediction vs Actual Plot\"},\"xaxis\":{\"title\":{\"text\":\"Date\"}},\"legend\":{\"title\":{\"text\":\"Legend\"}}},                        {\"responsive\": true}                    ).then(function(){\n",
       "                            \n",
       "var gd = document.getElementById('78c17498-93d0-4165-b9dc-2b320428c89f');\n",
       "var x = new MutationObserver(function (mutations, observer) {{\n",
       "        var display = window.getComputedStyle(gd).display;\n",
       "        if (!display || display === 'none') {{\n",
       "            console.log([gd, 'removed!']);\n",
       "            Plotly.purge(gd);\n",
       "            observer.disconnect();\n",
       "        }}\n",
       "}});\n",
       "\n",
       "// Listen for the removal of the full notebook cells\n",
       "var notebookContainer = gd.closest('#notebook-container');\n",
       "if (notebookContainer) {{\n",
       "    x.observe(notebookContainer, {childList: true});\n",
       "}}\n",
       "\n",
       "// Listen for the clearing of the current output cell\n",
       "var outputEl = gd.closest('.output');\n",
       "if (outputEl) {{\n",
       "    x.observe(outputEl, {childList: true});\n",
       "}}\n",
       "\n",
       "                        })                };                });            </script>        </div>"
      ]
     },
     "metadata": {},
     "output_type": "display_data"
    }
   ],
   "execution_count": 26
  },
  {
   "metadata": {},
   "cell_type": "markdown",
   "source": "#### Overview table",
   "id": "bbb52293e9f74c02"
  },
  {
   "metadata": {
    "ExecuteTime": {
     "end_time": "2025-04-09T18:16:43.029337Z",
     "start_time": "2025-04-09T18:16:42.935753Z"
    }
   },
   "cell_type": "code",
   "source": [
    "importlib.reload(comparison)\n",
    "\n",
    "# Get train true values followed with predicted month/s\n",
    "y_train_1m_list = y_train_1m['m_return_target(t+1)'].tolist()\n",
    "y_test_1m_list = y_test_pred_1m.tolist()\n",
    "#\n",
    "df_to_evaluate_1m = comparison.get_df_from_pred_list(df, y_train_1m_list, y_test_1m_list)\n",
    "df_to_evaluate_1m = df_to_evaluate_1m - 1\n",
    "df_to_evaluate_1m"
   ],
   "id": "b89f9aeaf74d7a28",
   "outputs": [
    {
     "data": {
      "text/plain": [
       "        RS1.L       KE    TEG.DE    LEG.DE       SCS       HNI       AVT  \\\n",
       "0    0.000000  0.00000 -0.100000  0.000000 -0.230000  0.010000 -0.340000   \n",
       "1    0.000000  0.00000  0.000000 -0.060000  0.030000  0.050000  0.220000   \n",
       "2    0.010000  0.00000  0.550000  0.040000  0.090000 -0.020000  0.280000   \n",
       "3    0.000000 -0.03000  0.090000 -0.130000 -0.050000 -0.010000 -0.110000   \n",
       "4    0.000000  0.00000 -0.060000  0.000000 -0.150000 -0.070000 -0.160000   \n",
       "..        ...      ...       ...       ...       ...       ...       ...   \n",
       "282 -0.050000  0.10000  0.060000  0.020000  0.140000  0.120000  0.120000   \n",
       "283  0.000000 -0.04000 -0.040000 -0.030000 -0.050000 -0.040000 -0.060000   \n",
       "284  0.190000  0.08000  0.020000  0.060000  0.120000  0.220000  0.050000   \n",
       "285 -0.040000 -0.22000  0.060000  0.080000 -0.020000 -0.020000  0.030000   \n",
       "286 -0.344001 -0.41191 -0.408688 -0.529018 -0.362455 -0.231148 -0.384217   \n",
       "\n",
       "         ACCO   VNA.DE    7912.T  ...    DEQ.DE      KIDS      HALO      MATW  \\\n",
       "0    0.000000  0.00000 -0.060000  ...  0.000000  0.000000  0.000000  0.070000   \n",
       "1    0.000000 -0.04000  0.050000  ...  0.000000  0.000000  0.000000  0.090000   \n",
       "2   -0.080000  0.02000 -0.060000  ...  0.000000  0.290000 -0.090000 -0.020000   \n",
       "3   -0.020000 -0.10000 -0.080000  ... -0.480000  0.000000  0.000000  0.010000   \n",
       "4    0.000000  0.00000  0.020000  ...  1.180000  0.000000  0.000000  0.050000   \n",
       "..        ...      ...       ...  ...       ...       ...       ...       ...   \n",
       "282  0.060000  0.06000  0.060000  ...  0.090000  0.070000  0.160000  0.050000   \n",
       "283 -0.060000 -0.05000  0.110000  ...  0.070000 -0.090000  0.180000 -0.110000   \n",
       "284  0.090000  0.07000 -0.080000  ...  0.100000  0.070000  0.060000  0.160000   \n",
       "285  0.070000  0.10000  0.060000  ... -0.050000  0.040000  0.160000 -0.130000   \n",
       "286 -0.523186 -0.52668 -0.463763  ...  0.008081 -0.253088  0.006601 -0.618518   \n",
       "\n",
       "       9842.T      KVHI   MOON.L      NEO    6055.T       UNP  \n",
       "0    0.000000 -0.340000  0.00000  0.00000  0.000000 -0.010000  \n",
       "1    0.000000 -0.160000  0.00000  0.00000  0.000000  0.090000  \n",
       "2   -0.040000  0.690000 -0.14000 -0.24000  0.000000  0.050000  \n",
       "3    0.000000 -0.260000  0.00000  0.00000  0.000000  0.040000  \n",
       "4    0.000000  0.150000  0.00000  0.00000  0.000000  0.020000  \n",
       "..        ...       ...      ...      ...       ...       ...  \n",
       "282 -0.010000  0.080000  0.03000 -0.02000 -0.140000 -0.020000  \n",
       "283  0.010000 -0.100000  0.19000  0.01000  0.140000 -0.020000  \n",
       "284 -0.060000 -0.040000  0.14000  0.28000 -0.100000  0.090000  \n",
       "285 -0.040000  0.000000 -0.03000 -0.07000 -0.110000  0.040000  \n",
       "286 -0.243525 -0.404959  0.11336 -0.39337 -0.026505 -0.260589  \n",
       "\n",
       "[287 rows x 1653 columns]"
      ],
      "text/html": [
       "<div>\n",
       "<style scoped>\n",
       "    .dataframe tbody tr th:only-of-type {\n",
       "        vertical-align: middle;\n",
       "    }\n",
       "\n",
       "    .dataframe tbody tr th {\n",
       "        vertical-align: top;\n",
       "    }\n",
       "\n",
       "    .dataframe thead th {\n",
       "        text-align: right;\n",
       "    }\n",
       "</style>\n",
       "<table border=\"1\" class=\"dataframe\">\n",
       "  <thead>\n",
       "    <tr style=\"text-align: right;\">\n",
       "      <th></th>\n",
       "      <th>RS1.L</th>\n",
       "      <th>KE</th>\n",
       "      <th>TEG.DE</th>\n",
       "      <th>LEG.DE</th>\n",
       "      <th>SCS</th>\n",
       "      <th>HNI</th>\n",
       "      <th>AVT</th>\n",
       "      <th>ACCO</th>\n",
       "      <th>VNA.DE</th>\n",
       "      <th>7912.T</th>\n",
       "      <th>...</th>\n",
       "      <th>DEQ.DE</th>\n",
       "      <th>KIDS</th>\n",
       "      <th>HALO</th>\n",
       "      <th>MATW</th>\n",
       "      <th>9842.T</th>\n",
       "      <th>KVHI</th>\n",
       "      <th>MOON.L</th>\n",
       "      <th>NEO</th>\n",
       "      <th>6055.T</th>\n",
       "      <th>UNP</th>\n",
       "    </tr>\n",
       "  </thead>\n",
       "  <tbody>\n",
       "    <tr>\n",
       "      <th>0</th>\n",
       "      <td>0.000000</td>\n",
       "      <td>0.00000</td>\n",
       "      <td>-0.100000</td>\n",
       "      <td>0.000000</td>\n",
       "      <td>-0.230000</td>\n",
       "      <td>0.010000</td>\n",
       "      <td>-0.340000</td>\n",
       "      <td>0.000000</td>\n",
       "      <td>0.00000</td>\n",
       "      <td>-0.060000</td>\n",
       "      <td>...</td>\n",
       "      <td>0.000000</td>\n",
       "      <td>0.000000</td>\n",
       "      <td>0.000000</td>\n",
       "      <td>0.070000</td>\n",
       "      <td>0.000000</td>\n",
       "      <td>-0.340000</td>\n",
       "      <td>0.00000</td>\n",
       "      <td>0.00000</td>\n",
       "      <td>0.000000</td>\n",
       "      <td>-0.010000</td>\n",
       "    </tr>\n",
       "    <tr>\n",
       "      <th>1</th>\n",
       "      <td>0.000000</td>\n",
       "      <td>0.00000</td>\n",
       "      <td>0.000000</td>\n",
       "      <td>-0.060000</td>\n",
       "      <td>0.030000</td>\n",
       "      <td>0.050000</td>\n",
       "      <td>0.220000</td>\n",
       "      <td>0.000000</td>\n",
       "      <td>-0.04000</td>\n",
       "      <td>0.050000</td>\n",
       "      <td>...</td>\n",
       "      <td>0.000000</td>\n",
       "      <td>0.000000</td>\n",
       "      <td>0.000000</td>\n",
       "      <td>0.090000</td>\n",
       "      <td>0.000000</td>\n",
       "      <td>-0.160000</td>\n",
       "      <td>0.00000</td>\n",
       "      <td>0.00000</td>\n",
       "      <td>0.000000</td>\n",
       "      <td>0.090000</td>\n",
       "    </tr>\n",
       "    <tr>\n",
       "      <th>2</th>\n",
       "      <td>0.010000</td>\n",
       "      <td>0.00000</td>\n",
       "      <td>0.550000</td>\n",
       "      <td>0.040000</td>\n",
       "      <td>0.090000</td>\n",
       "      <td>-0.020000</td>\n",
       "      <td>0.280000</td>\n",
       "      <td>-0.080000</td>\n",
       "      <td>0.02000</td>\n",
       "      <td>-0.060000</td>\n",
       "      <td>...</td>\n",
       "      <td>0.000000</td>\n",
       "      <td>0.290000</td>\n",
       "      <td>-0.090000</td>\n",
       "      <td>-0.020000</td>\n",
       "      <td>-0.040000</td>\n",
       "      <td>0.690000</td>\n",
       "      <td>-0.14000</td>\n",
       "      <td>-0.24000</td>\n",
       "      <td>0.000000</td>\n",
       "      <td>0.050000</td>\n",
       "    </tr>\n",
       "    <tr>\n",
       "      <th>3</th>\n",
       "      <td>0.000000</td>\n",
       "      <td>-0.03000</td>\n",
       "      <td>0.090000</td>\n",
       "      <td>-0.130000</td>\n",
       "      <td>-0.050000</td>\n",
       "      <td>-0.010000</td>\n",
       "      <td>-0.110000</td>\n",
       "      <td>-0.020000</td>\n",
       "      <td>-0.10000</td>\n",
       "      <td>-0.080000</td>\n",
       "      <td>...</td>\n",
       "      <td>-0.480000</td>\n",
       "      <td>0.000000</td>\n",
       "      <td>0.000000</td>\n",
       "      <td>0.010000</td>\n",
       "      <td>0.000000</td>\n",
       "      <td>-0.260000</td>\n",
       "      <td>0.00000</td>\n",
       "      <td>0.00000</td>\n",
       "      <td>0.000000</td>\n",
       "      <td>0.040000</td>\n",
       "    </tr>\n",
       "    <tr>\n",
       "      <th>4</th>\n",
       "      <td>0.000000</td>\n",
       "      <td>0.00000</td>\n",
       "      <td>-0.060000</td>\n",
       "      <td>0.000000</td>\n",
       "      <td>-0.150000</td>\n",
       "      <td>-0.070000</td>\n",
       "      <td>-0.160000</td>\n",
       "      <td>0.000000</td>\n",
       "      <td>0.00000</td>\n",
       "      <td>0.020000</td>\n",
       "      <td>...</td>\n",
       "      <td>1.180000</td>\n",
       "      <td>0.000000</td>\n",
       "      <td>0.000000</td>\n",
       "      <td>0.050000</td>\n",
       "      <td>0.000000</td>\n",
       "      <td>0.150000</td>\n",
       "      <td>0.00000</td>\n",
       "      <td>0.00000</td>\n",
       "      <td>0.000000</td>\n",
       "      <td>0.020000</td>\n",
       "    </tr>\n",
       "    <tr>\n",
       "      <th>...</th>\n",
       "      <td>...</td>\n",
       "      <td>...</td>\n",
       "      <td>...</td>\n",
       "      <td>...</td>\n",
       "      <td>...</td>\n",
       "      <td>...</td>\n",
       "      <td>...</td>\n",
       "      <td>...</td>\n",
       "      <td>...</td>\n",
       "      <td>...</td>\n",
       "      <td>...</td>\n",
       "      <td>...</td>\n",
       "      <td>...</td>\n",
       "      <td>...</td>\n",
       "      <td>...</td>\n",
       "      <td>...</td>\n",
       "      <td>...</td>\n",
       "      <td>...</td>\n",
       "      <td>...</td>\n",
       "      <td>...</td>\n",
       "      <td>...</td>\n",
       "    </tr>\n",
       "    <tr>\n",
       "      <th>282</th>\n",
       "      <td>-0.050000</td>\n",
       "      <td>0.10000</td>\n",
       "      <td>0.060000</td>\n",
       "      <td>0.020000</td>\n",
       "      <td>0.140000</td>\n",
       "      <td>0.120000</td>\n",
       "      <td>0.120000</td>\n",
       "      <td>0.060000</td>\n",
       "      <td>0.06000</td>\n",
       "      <td>0.060000</td>\n",
       "      <td>...</td>\n",
       "      <td>0.090000</td>\n",
       "      <td>0.070000</td>\n",
       "      <td>0.160000</td>\n",
       "      <td>0.050000</td>\n",
       "      <td>-0.010000</td>\n",
       "      <td>0.080000</td>\n",
       "      <td>0.03000</td>\n",
       "      <td>-0.02000</td>\n",
       "      <td>-0.140000</td>\n",
       "      <td>-0.020000</td>\n",
       "    </tr>\n",
       "    <tr>\n",
       "      <th>283</th>\n",
       "      <td>0.000000</td>\n",
       "      <td>-0.04000</td>\n",
       "      <td>-0.040000</td>\n",
       "      <td>-0.030000</td>\n",
       "      <td>-0.050000</td>\n",
       "      <td>-0.040000</td>\n",
       "      <td>-0.060000</td>\n",
       "      <td>-0.060000</td>\n",
       "      <td>-0.05000</td>\n",
       "      <td>0.110000</td>\n",
       "      <td>...</td>\n",
       "      <td>0.070000</td>\n",
       "      <td>-0.090000</td>\n",
       "      <td>0.180000</td>\n",
       "      <td>-0.110000</td>\n",
       "      <td>0.010000</td>\n",
       "      <td>-0.100000</td>\n",
       "      <td>0.19000</td>\n",
       "      <td>0.01000</td>\n",
       "      <td>0.140000</td>\n",
       "      <td>-0.020000</td>\n",
       "    </tr>\n",
       "    <tr>\n",
       "      <th>284</th>\n",
       "      <td>0.190000</td>\n",
       "      <td>0.08000</td>\n",
       "      <td>0.020000</td>\n",
       "      <td>0.060000</td>\n",
       "      <td>0.120000</td>\n",
       "      <td>0.220000</td>\n",
       "      <td>0.050000</td>\n",
       "      <td>0.090000</td>\n",
       "      <td>0.07000</td>\n",
       "      <td>-0.080000</td>\n",
       "      <td>...</td>\n",
       "      <td>0.100000</td>\n",
       "      <td>0.070000</td>\n",
       "      <td>0.060000</td>\n",
       "      <td>0.160000</td>\n",
       "      <td>-0.060000</td>\n",
       "      <td>-0.040000</td>\n",
       "      <td>0.14000</td>\n",
       "      <td>0.28000</td>\n",
       "      <td>-0.100000</td>\n",
       "      <td>0.090000</td>\n",
       "    </tr>\n",
       "    <tr>\n",
       "      <th>285</th>\n",
       "      <td>-0.040000</td>\n",
       "      <td>-0.22000</td>\n",
       "      <td>0.060000</td>\n",
       "      <td>0.080000</td>\n",
       "      <td>-0.020000</td>\n",
       "      <td>-0.020000</td>\n",
       "      <td>0.030000</td>\n",
       "      <td>0.070000</td>\n",
       "      <td>0.10000</td>\n",
       "      <td>0.060000</td>\n",
       "      <td>...</td>\n",
       "      <td>-0.050000</td>\n",
       "      <td>0.040000</td>\n",
       "      <td>0.160000</td>\n",
       "      <td>-0.130000</td>\n",
       "      <td>-0.040000</td>\n",
       "      <td>0.000000</td>\n",
       "      <td>-0.03000</td>\n",
       "      <td>-0.07000</td>\n",
       "      <td>-0.110000</td>\n",
       "      <td>0.040000</td>\n",
       "    </tr>\n",
       "    <tr>\n",
       "      <th>286</th>\n",
       "      <td>-0.344001</td>\n",
       "      <td>-0.41191</td>\n",
       "      <td>-0.408688</td>\n",
       "      <td>-0.529018</td>\n",
       "      <td>-0.362455</td>\n",
       "      <td>-0.231148</td>\n",
       "      <td>-0.384217</td>\n",
       "      <td>-0.523186</td>\n",
       "      <td>-0.52668</td>\n",
       "      <td>-0.463763</td>\n",
       "      <td>...</td>\n",
       "      <td>0.008081</td>\n",
       "      <td>-0.253088</td>\n",
       "      <td>0.006601</td>\n",
       "      <td>-0.618518</td>\n",
       "      <td>-0.243525</td>\n",
       "      <td>-0.404959</td>\n",
       "      <td>0.11336</td>\n",
       "      <td>-0.39337</td>\n",
       "      <td>-0.026505</td>\n",
       "      <td>-0.260589</td>\n",
       "    </tr>\n",
       "  </tbody>\n",
       "</table>\n",
       "<p>287 rows × 1653 columns</p>\n",
       "</div>"
      ]
     },
     "execution_count": 27,
     "metadata": {},
     "output_type": "execute_result"
    }
   ],
   "execution_count": 27
  },
  {
   "metadata": {
    "ExecuteTime": {
     "end_time": "2025-04-09T18:16:52.052808Z",
     "start_time": "2025-04-09T18:16:43.384077Z"
    }
   },
   "cell_type": "code",
   "source": [
    "importlib.reload(comparison)\n",
    "df_pred_1m, raw_weights_1m, mu_1m, S_1m, sigma_1m, sharpe_1m = comparison.get_portfolio_performance(df_to_evaluate_1m,\n",
    "                                                                                                    \"xgbooster_weights_1m.csv\",\n",
    "                                                                                                    min_avg_return=-0.5,\n",
    "                                                                                                    months=12)\n",
    "\n",
    "allocation, leftover = comparison.create_discrete_allocation(df_pred_1m, raw_weights_1m)\n",
    "\n",
    "# Create overview\n",
    "df_view_1m = pd.DataFrame.from_dict(raw_weights_1m, orient='index', columns=['max_sharpe_weight'])\n",
    "# Extract volatilities (square root of diagonal elements)\n",
    "df_view_1m['avg_annual_volatility'] = pd.Series(np.sqrt(np.diag(S_1m)), index=S_1m.columns).values\n",
    "# Set annual returns\n",
    "df_view_1m['avg_annual_return'] = mu_1m.values\n",
    "#\n",
    "df_view_1m"
   ],
   "id": "4125fd745fbddd6a",
   "outputs": [
    {
     "name": "stdout",
     "output_type": "stream",
     "text": [
      "Expected annual return: 80.4%\n",
      "Annual volatility: 54.6%\n",
      "Sharpe Ratio: 1.44\n",
      "Discrete allocation: {'CDW': 37924, '2379.T': 45, '6754.T': 32, 'ASGN': 381, 'GROW.L': 3, 'KFY': 982, 'KFRC': 1178, '7893.T': 46927, 'BMI': 461, 'EBOX.L': 107, 'NBS.L': 74, '7313.T': 63, '6098.T': 218, 'WPP.L': 50631, 'DNLM.L': 885, 'TEP.L': 434, 'ESRT': 911, 'ZBRA': 681, 'NYT': 293, 'SNWS.L': 201, 'INCH.L': 26, 'LAD': 82, '2146.T': 36, '8057.T': 73, '8151.T': 742, '7868.T': 86, 'CDP': 470, 'GOLF': 156, '7272.T': 23, 'RCH.L': 250, '7701.T': 1340, '2154.T': 16, 'NSIT': 507, 'CDNS': 138, 'VNT': 70, '7976.T': 59, 'WSM': 1054, 'FOXT.L': 205, '2124.T': 24, '4641.T': 41, 'LEA': 10340, '7762.T': 42, 'ANIK': 469, '5108.T': 25, '3107.T': 50, 'BBSI': 252, '8084.T': 570, '6701.T': 122, '4732.T': 36, 'JDG.L': 56, '6702.T': 65, '1925.T': 32, 'IVT': 16, '6448.T': 23, 'ESCA': 50, 'BKG.L': 132, '3462.T': 37, '6981.T': 29, '6436.T': 51407, 'HST': 346, '8035.T': 62, '7734.T': 122, 'UTG.L': 167, 'HOG': 103, 'UTMD': 403, 'CLMB': 495, 'SSP': 2, 'SMTC': 36, '7867.T': 291, 'WTS': 236, '6200.T': 165, 'AV.L': 582, 'BCPT.L': 3, 'GWRE': 183, 'PAG.L': 333, '2715.T': 105, 'ILM1.DE': 3, 'COMM': 3, 'ANET': 250, 'CCC.L': 13305, 'LOPE': 102, '7944.T': 2, 'CNXN': 123, 'FERG': 8903, 'STVG.L': 104, 'RL': 70, 'INVP.L': 304, 'BMY.L': 228, '8173.T': 97789, 'CENT': 62735, '6866.T': 641, '7433.T': 96, 'KBH': 371, 'MSFT': 1003, '8818.T': 627, 'NTAP': 1687, '8014.T': 355, 'HL.L': 21967, '7593.T': 51, '8953.T': 41, '7780.T': 167, 'KTB': 27260, '9332.T': 273, '4849.T': 72, 'CRM': 476, '4902.T': 19660, '8150.T': 85, 'BYIT.L': 38322, 'ZM': 308, 'COP.DE': 47, '4194.T': 95, '6703.T': 21, '3002.T': 11743, '2760.T': 18, '7250.T': 198, '3738.T': 242, 'JUP.L': 155, '4298.T': 52, '3281.T': 49, 'SFQ.DE': 42121, 'AEO': 74, 'DXC': 334, 'XHR': 85, '2475.T': 19, '3076.T': 119, 'WEYS': 171, '5970.T': 51, 'SCI': 237, '6857.T': 3731, 'CVLT': 709, 'NFLX': 1469, 'SEDG': 3, '5991.T': 248, 'PVH': 40, 'WHR.L': 3, '7974.T': 57, 'ICLR': 242, 'SHOO': 299, '8056.T': 50, '7832.T': 53, '1435.T': 50, '2733.T': 47, '7419.T': 115, '6745.T': 1187, 'VTU.L': 309, 'DORM': 231, '1928.T': 32, 'GWW': 467, '3003.T': 44, '7508.T': 133, 'WMG': 97, '2120.T': 76, '2429.T': 96, 'BGEO.L': 12, '6902.T': 28, 'MER.L': 475, '7296.T': 109, '3092.T': 55438, 'RVTY': 53607, 'XPP.L': 2, 'HLT': 322, '2784.T': 45, 'BKE': 42, '6859.T': 75, 'RHP': 146, '3231.T': 49, 'STRA': 260, '6762.T': 104, '3104.T': 63, 'PFGC': 58488, 'SOHO.L': 3, '7239.T': 517, '1911.T': 59, 'OPI': 3, 'PAYX': 16083, 'IHG.L': 1051, '6736.T': 3735, 'MEGP.L': 117, 'AAPL': 172, 'EVD.DE': 112, 'INTU': 331, 'DKS': 570, '9627.T': 944, '7600.T': 688, '6383.T': 33, 'ASHM.L': 405, '4452.T': 57, 'RLJ': 1059, '2491.T': 22, '8802.T': 47, '4751.T': 495, 'MEDP': 67, 'CAL': 49370, '1973.T': 36, '8439.T': 22, '7730.T': 42, '4619.T': 122, 'MONY.L': 43, 'CON.DE': 142, '9401.T': 62, '8079.T': 10008, '4980.T': 147, '3289.T': 58, '6914.T': 198, '3050.T': 329, '6814.T': 93, '7241.T': 55, 'PECO': 9, 'SBH': 949, 'NWG.L': 382, '7740.T': 774, '2168.T': 10, 'ZIG.L': 334, 'AER': 312, 'NVMI': 630, '2170.T': 41, '3612.T': 216, '7735.T': 79, 'AYI': 63385, '8050.T': 82, '2331.T': 96, '5110.T': 504, 'ETN': 19278, 'AMC': 4, '2395.T': 122, '4151.T': 385, 'MOD': 1918, '8591.T': 68, '7575.T': 29, '3635.T': 229, 'GTY.DE': 3, '7747.T': 548, '3659.T': 17, '8601.T': 136, '7451.T': 77, '9613.T': 32, 'MSA': 24231, '3402.T': 71, 'ADUS': 2597, '8308.T': 98, 'ALGN': 2, 'PRU': 313, 'LNC': 28, 'IIPR': 548, '7936.T': 255, '2389.T': 62, 'TILE': 957, 'AVGO': 279, '6651.T': 97, 'SCVL': 215, 'SBLK': 161, 'MPWR': 38086, '4369.T': 29, '7606.T': 504, '6504.T': 75, '8697.T': 506, '6971.T': 18, 'ITRN': 321, 'APLD': 13, '2433.T': 507, 'WEIR.L': 7799, '3151.T': 309, '8923.T': 37071, '6326.T': 29, '2327.T': 114, 'EH': 119, '2502.T': 19, 'TRU': 12, '4839.T': 169, 'GME': 96, 'ACEL': 5178, '2337.T': 56, '3048.T': 170, 'CNM': 317, '2792.T': 63, '5334.T': 47, '7453.T': 63, 'DCC.L': 24023, '2471.T': 120, 'NFG.L': 247, 'GRG.L': 118, 'AWI': 258, '8309.T': 74, '4568.T': 96, '6787.T': 40302, '7564.T': 2, 'RGL.L': 9, '2670.T': 18, 'DEQ.DE': 12625, 'HALO': 22198, 'MOON.L': 157}\n",
      "Funds remaining: €1287.51\n"
     ]
    },
    {
     "data": {
      "text/plain": [
       "        max_sharpe_weight  avg_annual_volatility  avg_annual_return\n",
       "RS1.L             0.00000               8.979876          -0.285367\n",
       "KE                0.00000               8.989774          -0.599410\n",
       "TEG.DE            0.00127               9.001995          -0.123928\n",
       "LEG.DE            0.00000               9.038371          -0.348568\n",
       "SCS               0.00000               8.988576          -0.165987\n",
       "...                   ...                    ...                ...\n",
       "KVHI              0.00000               8.980887          -0.474605\n",
       "MOON.L            0.00137               8.949683           0.431999\n",
       "NEO               0.00028               9.034262          -0.181364\n",
       "6055.T            0.00000               8.963966          -0.237748\n",
       "UNP               0.00051               8.954860          -0.055227\n",
       "\n",
       "[1644 rows x 3 columns]"
      ],
      "text/html": [
       "<div>\n",
       "<style scoped>\n",
       "    .dataframe tbody tr th:only-of-type {\n",
       "        vertical-align: middle;\n",
       "    }\n",
       "\n",
       "    .dataframe tbody tr th {\n",
       "        vertical-align: top;\n",
       "    }\n",
       "\n",
       "    .dataframe thead th {\n",
       "        text-align: right;\n",
       "    }\n",
       "</style>\n",
       "<table border=\"1\" class=\"dataframe\">\n",
       "  <thead>\n",
       "    <tr style=\"text-align: right;\">\n",
       "      <th></th>\n",
       "      <th>max_sharpe_weight</th>\n",
       "      <th>avg_annual_volatility</th>\n",
       "      <th>avg_annual_return</th>\n",
       "    </tr>\n",
       "  </thead>\n",
       "  <tbody>\n",
       "    <tr>\n",
       "      <th>RS1.L</th>\n",
       "      <td>0.00000</td>\n",
       "      <td>8.979876</td>\n",
       "      <td>-0.285367</td>\n",
       "    </tr>\n",
       "    <tr>\n",
       "      <th>KE</th>\n",
       "      <td>0.00000</td>\n",
       "      <td>8.989774</td>\n",
       "      <td>-0.599410</td>\n",
       "    </tr>\n",
       "    <tr>\n",
       "      <th>TEG.DE</th>\n",
       "      <td>0.00127</td>\n",
       "      <td>9.001995</td>\n",
       "      <td>-0.123928</td>\n",
       "    </tr>\n",
       "    <tr>\n",
       "      <th>LEG.DE</th>\n",
       "      <td>0.00000</td>\n",
       "      <td>9.038371</td>\n",
       "      <td>-0.348568</td>\n",
       "    </tr>\n",
       "    <tr>\n",
       "      <th>SCS</th>\n",
       "      <td>0.00000</td>\n",
       "      <td>8.988576</td>\n",
       "      <td>-0.165987</td>\n",
       "    </tr>\n",
       "    <tr>\n",
       "      <th>...</th>\n",
       "      <td>...</td>\n",
       "      <td>...</td>\n",
       "      <td>...</td>\n",
       "    </tr>\n",
       "    <tr>\n",
       "      <th>KVHI</th>\n",
       "      <td>0.00000</td>\n",
       "      <td>8.980887</td>\n",
       "      <td>-0.474605</td>\n",
       "    </tr>\n",
       "    <tr>\n",
       "      <th>MOON.L</th>\n",
       "      <td>0.00137</td>\n",
       "      <td>8.949683</td>\n",
       "      <td>0.431999</td>\n",
       "    </tr>\n",
       "    <tr>\n",
       "      <th>NEO</th>\n",
       "      <td>0.00028</td>\n",
       "      <td>9.034262</td>\n",
       "      <td>-0.181364</td>\n",
       "    </tr>\n",
       "    <tr>\n",
       "      <th>6055.T</th>\n",
       "      <td>0.00000</td>\n",
       "      <td>8.963966</td>\n",
       "      <td>-0.237748</td>\n",
       "    </tr>\n",
       "    <tr>\n",
       "      <th>UNP</th>\n",
       "      <td>0.00051</td>\n",
       "      <td>8.954860</td>\n",
       "      <td>-0.055227</td>\n",
       "    </tr>\n",
       "  </tbody>\n",
       "</table>\n",
       "<p>1644 rows × 3 columns</p>\n",
       "</div>"
      ]
     },
     "execution_count": 28,
     "metadata": {},
     "output_type": "execute_result"
    }
   ],
   "execution_count": 28
  },
  {
   "metadata": {},
   "cell_type": "markdown",
   "source": "## 6 Months\n",
   "id": "ebaa3b1a67bb1921"
  },
  {
   "metadata": {
    "ExecuteTime": {
     "end_time": "2025-04-09T18:16:53.601114Z",
     "start_time": "2025-04-09T18:16:52.566094Z"
    }
   },
   "cell_type": "code",
   "source": [
    "importlib.reload(train_test)\n",
    "X_train, y_train, X_test, y_test = train_test.get_train_test(df_tabular_multi, months=60, target_key='m_return_target(t+6)')\n",
    "\n",
    "# \n",
    "model = xgboost.XGBRegressor(n_estimators=1000)\n",
    "model.fit(X_train, y_train,\n",
    "          eval_set=[(X_train, y_train), (X_test, y_test)],\n",
    "          verbose=False)"
   ],
   "id": "b1a9a2f1da6ccdd0",
   "outputs": [
    {
     "name": "stdout",
     "output_type": "stream",
     "text": [
      "2019-08-01\n"
     ]
    },
    {
     "ename": "XGBoostError",
     "evalue": "[20:16:53] /Users/runner/miniforge3/conda-bld/xgboost-split_1738880277541/work/src/data/data.cc:514: Check failed: valid: Label contains NaN, infinity or a value too large.\nStack trace:\n  [bt] (0) 1   libxgboost.dylib                    0x000000013a0c4170 dmlc::LogMessageFatal::~LogMessageFatal() + 124\n  [bt] (1) 2   libxgboost.dylib                    0x000000013a218778 xgboost::MetaInfo::SetInfoFromHost(xgboost::Context const&, xgboost::StringView, xgboost::Json) + 2804\n  [bt] (2) 3   libxgboost.dylib                    0x000000013a217b6c xgboost::MetaInfo::SetInfo(xgboost::Context const&, xgboost::StringView, xgboost::StringView) + 628\n  [bt] (3) 4   libxgboost.dylib                    0x000000013a0dad84 XGDMatrixSetInfoFromInterface + 244\n  [bt] (4) 5   libffi.8.dylib                      0x000000010132004c ffi_call_SYSV + 76\n  [bt] (5) 6   libffi.8.dylib                      0x000000010131d834 ffi_call_int + 1404\n  [bt] (6) 7   _ctypes.cpython-311-darwin.so       0x0000000101300988 _ctypes_callproc + 1208\n  [bt] (7) 8   _ctypes.cpython-311-darwin.so       0x00000001012fac10 PyCFuncPtr_call + 1188\n  [bt] (8) 9   python3.11                          0x00000001009404ec _PyObject_MakeTpCall + 332\n\n",
     "output_type": "error",
     "traceback": [
      "\u001B[0;31m---------------------------------------------------------------------------\u001B[0m",
      "\u001B[0;31mXGBoostError\u001B[0m                              Traceback (most recent call last)",
      "Cell \u001B[0;32mIn[29], line 6\u001B[0m\n\u001B[1;32m      4\u001B[0m \u001B[38;5;66;03m# \u001B[39;00m\n\u001B[1;32m      5\u001B[0m model \u001B[38;5;241m=\u001B[39m xgboost\u001B[38;5;241m.\u001B[39mXGBRegressor(n_estimators\u001B[38;5;241m=\u001B[39m\u001B[38;5;241m1000\u001B[39m)\n\u001B[0;32m----> 6\u001B[0m model\u001B[38;5;241m.\u001B[39mfit(X_train, y_train,\n\u001B[1;32m      7\u001B[0m           eval_set\u001B[38;5;241m=\u001B[39m[(X_train, y_train), (X_test, y_test)],\n\u001B[1;32m      8\u001B[0m           verbose\u001B[38;5;241m=\u001B[39m\u001B[38;5;28;01mFalse\u001B[39;00m)\n",
      "File \u001B[0;32m~/anaconda3/envs/portfolio_optimisation/lib/python3.11/site-packages/xgboost/core.py:726\u001B[0m, in \u001B[0;36mrequire_keyword_args.<locals>.throw_if.<locals>.inner_f\u001B[0;34m(*args, **kwargs)\u001B[0m\n\u001B[1;32m    724\u001B[0m \u001B[38;5;28;01mfor\u001B[39;00m k, arg \u001B[38;5;129;01min\u001B[39;00m \u001B[38;5;28mzip\u001B[39m(sig\u001B[38;5;241m.\u001B[39mparameters, args):\n\u001B[1;32m    725\u001B[0m     kwargs[k] \u001B[38;5;241m=\u001B[39m arg\n\u001B[0;32m--> 726\u001B[0m \u001B[38;5;28;01mreturn\u001B[39;00m func(\u001B[38;5;241m*\u001B[39m\u001B[38;5;241m*\u001B[39mkwargs)\n",
      "File \u001B[0;32m~/anaconda3/envs/portfolio_optimisation/lib/python3.11/site-packages/xgboost/sklearn.py:1143\u001B[0m, in \u001B[0;36mXGBModel.fit\u001B[0;34m(self, X, y, sample_weight, base_margin, eval_set, verbose, xgb_model, sample_weight_eval_set, base_margin_eval_set, feature_weights)\u001B[0m\n\u001B[1;32m   1141\u001B[0m \u001B[38;5;28;01mwith\u001B[39;00m config_context(verbosity\u001B[38;5;241m=\u001B[39m\u001B[38;5;28mself\u001B[39m\u001B[38;5;241m.\u001B[39mverbosity):\n\u001B[1;32m   1142\u001B[0m     evals_result: TrainingCallback\u001B[38;5;241m.\u001B[39mEvalsLog \u001B[38;5;241m=\u001B[39m {}\n\u001B[0;32m-> 1143\u001B[0m     train_dmatrix, evals \u001B[38;5;241m=\u001B[39m _wrap_evaluation_matrices(\n\u001B[1;32m   1144\u001B[0m         missing\u001B[38;5;241m=\u001B[39m\u001B[38;5;28mself\u001B[39m\u001B[38;5;241m.\u001B[39mmissing,\n\u001B[1;32m   1145\u001B[0m         X\u001B[38;5;241m=\u001B[39mX,\n\u001B[1;32m   1146\u001B[0m         y\u001B[38;5;241m=\u001B[39my,\n\u001B[1;32m   1147\u001B[0m         group\u001B[38;5;241m=\u001B[39m\u001B[38;5;28;01mNone\u001B[39;00m,\n\u001B[1;32m   1148\u001B[0m         qid\u001B[38;5;241m=\u001B[39m\u001B[38;5;28;01mNone\u001B[39;00m,\n\u001B[1;32m   1149\u001B[0m         sample_weight\u001B[38;5;241m=\u001B[39msample_weight,\n\u001B[1;32m   1150\u001B[0m         base_margin\u001B[38;5;241m=\u001B[39mbase_margin,\n\u001B[1;32m   1151\u001B[0m         feature_weights\u001B[38;5;241m=\u001B[39mfeature_weights,\n\u001B[1;32m   1152\u001B[0m         eval_set\u001B[38;5;241m=\u001B[39meval_set,\n\u001B[1;32m   1153\u001B[0m         sample_weight_eval_set\u001B[38;5;241m=\u001B[39msample_weight_eval_set,\n\u001B[1;32m   1154\u001B[0m         base_margin_eval_set\u001B[38;5;241m=\u001B[39mbase_margin_eval_set,\n\u001B[1;32m   1155\u001B[0m         eval_group\u001B[38;5;241m=\u001B[39m\u001B[38;5;28;01mNone\u001B[39;00m,\n\u001B[1;32m   1156\u001B[0m         eval_qid\u001B[38;5;241m=\u001B[39m\u001B[38;5;28;01mNone\u001B[39;00m,\n\u001B[1;32m   1157\u001B[0m         create_dmatrix\u001B[38;5;241m=\u001B[39m\u001B[38;5;28mself\u001B[39m\u001B[38;5;241m.\u001B[39m_create_dmatrix,\n\u001B[1;32m   1158\u001B[0m         enable_categorical\u001B[38;5;241m=\u001B[39m\u001B[38;5;28mself\u001B[39m\u001B[38;5;241m.\u001B[39menable_categorical,\n\u001B[1;32m   1159\u001B[0m         feature_types\u001B[38;5;241m=\u001B[39m\u001B[38;5;28mself\u001B[39m\u001B[38;5;241m.\u001B[39mfeature_types,\n\u001B[1;32m   1160\u001B[0m     )\n\u001B[1;32m   1161\u001B[0m     params \u001B[38;5;241m=\u001B[39m \u001B[38;5;28mself\u001B[39m\u001B[38;5;241m.\u001B[39mget_xgb_params()\n\u001B[1;32m   1163\u001B[0m     \u001B[38;5;28;01mif\u001B[39;00m \u001B[38;5;28mcallable\u001B[39m(\u001B[38;5;28mself\u001B[39m\u001B[38;5;241m.\u001B[39mobjective):\n",
      "File \u001B[0;32m~/anaconda3/envs/portfolio_optimisation/lib/python3.11/site-packages/xgboost/sklearn.py:654\u001B[0m, in \u001B[0;36m_wrap_evaluation_matrices\u001B[0;34m(missing, X, y, group, qid, sample_weight, base_margin, feature_weights, eval_set, sample_weight_eval_set, base_margin_eval_set, eval_group, eval_qid, create_dmatrix, enable_categorical, feature_types)\u001B[0m\n\u001B[1;32m    652\u001B[0m         evals\u001B[38;5;241m.\u001B[39mappend(train_dmatrix)\n\u001B[1;32m    653\u001B[0m     \u001B[38;5;28;01melse\u001B[39;00m:\n\u001B[0;32m--> 654\u001B[0m         m \u001B[38;5;241m=\u001B[39m create_dmatrix(\n\u001B[1;32m    655\u001B[0m             data\u001B[38;5;241m=\u001B[39mvalid_X,\n\u001B[1;32m    656\u001B[0m             label\u001B[38;5;241m=\u001B[39mvalid_y,\n\u001B[1;32m    657\u001B[0m             weight\u001B[38;5;241m=\u001B[39msample_weight_eval_set[i],\n\u001B[1;32m    658\u001B[0m             group\u001B[38;5;241m=\u001B[39meval_group[i],\n\u001B[1;32m    659\u001B[0m             qid\u001B[38;5;241m=\u001B[39meval_qid[i],\n\u001B[1;32m    660\u001B[0m             base_margin\u001B[38;5;241m=\u001B[39mbase_margin_eval_set[i],\n\u001B[1;32m    661\u001B[0m             missing\u001B[38;5;241m=\u001B[39mmissing,\n\u001B[1;32m    662\u001B[0m             enable_categorical\u001B[38;5;241m=\u001B[39menable_categorical,\n\u001B[1;32m    663\u001B[0m             feature_types\u001B[38;5;241m=\u001B[39mfeature_types,\n\u001B[1;32m    664\u001B[0m             ref\u001B[38;5;241m=\u001B[39mtrain_dmatrix,\n\u001B[1;32m    665\u001B[0m         )\n\u001B[1;32m    666\u001B[0m         evals\u001B[38;5;241m.\u001B[39mappend(m)\n\u001B[1;32m    667\u001B[0m nevals \u001B[38;5;241m=\u001B[39m \u001B[38;5;28mlen\u001B[39m(evals)\n",
      "File \u001B[0;32m~/anaconda3/envs/portfolio_optimisation/lib/python3.11/site-packages/xgboost/sklearn.py:1065\u001B[0m, in \u001B[0;36mXGBModel._create_dmatrix\u001B[0;34m(self, ref, **kwargs)\u001B[0m\n\u001B[1;32m   1063\u001B[0m \u001B[38;5;28;01mif\u001B[39;00m _can_use_qdm(\u001B[38;5;28mself\u001B[39m\u001B[38;5;241m.\u001B[39mtree_method) \u001B[38;5;129;01mand\u001B[39;00m \u001B[38;5;28mself\u001B[39m\u001B[38;5;241m.\u001B[39mbooster \u001B[38;5;241m!=\u001B[39m \u001B[38;5;124m\"\u001B[39m\u001B[38;5;124mgblinear\u001B[39m\u001B[38;5;124m\"\u001B[39m:\n\u001B[1;32m   1064\u001B[0m     \u001B[38;5;28;01mtry\u001B[39;00m:\n\u001B[0;32m-> 1065\u001B[0m         \u001B[38;5;28;01mreturn\u001B[39;00m QuantileDMatrix(\n\u001B[1;32m   1066\u001B[0m             \u001B[38;5;241m*\u001B[39m\u001B[38;5;241m*\u001B[39mkwargs, ref\u001B[38;5;241m=\u001B[39mref, nthread\u001B[38;5;241m=\u001B[39m\u001B[38;5;28mself\u001B[39m\u001B[38;5;241m.\u001B[39mn_jobs, max_bin\u001B[38;5;241m=\u001B[39m\u001B[38;5;28mself\u001B[39m\u001B[38;5;241m.\u001B[39mmax_bin\n\u001B[1;32m   1067\u001B[0m         )\n\u001B[1;32m   1068\u001B[0m     \u001B[38;5;28;01mexcept\u001B[39;00m \u001B[38;5;167;01mTypeError\u001B[39;00m:  \u001B[38;5;66;03m# `QuantileDMatrix` supports lesser types than DMatrix\u001B[39;00m\n\u001B[1;32m   1069\u001B[0m         \u001B[38;5;28;01mpass\u001B[39;00m\n",
      "File \u001B[0;32m~/anaconda3/envs/portfolio_optimisation/lib/python3.11/site-packages/xgboost/core.py:726\u001B[0m, in \u001B[0;36mrequire_keyword_args.<locals>.throw_if.<locals>.inner_f\u001B[0;34m(*args, **kwargs)\u001B[0m\n\u001B[1;32m    724\u001B[0m \u001B[38;5;28;01mfor\u001B[39;00m k, arg \u001B[38;5;129;01min\u001B[39;00m \u001B[38;5;28mzip\u001B[39m(sig\u001B[38;5;241m.\u001B[39mparameters, args):\n\u001B[1;32m    725\u001B[0m     kwargs[k] \u001B[38;5;241m=\u001B[39m arg\n\u001B[0;32m--> 726\u001B[0m \u001B[38;5;28;01mreturn\u001B[39;00m func(\u001B[38;5;241m*\u001B[39m\u001B[38;5;241m*\u001B[39mkwargs)\n",
      "File \u001B[0;32m~/anaconda3/envs/portfolio_optimisation/lib/python3.11/site-packages/xgboost/core.py:1573\u001B[0m, in \u001B[0;36mQuantileDMatrix.__init__\u001B[0;34m(self, data, label, weight, base_margin, missing, silent, feature_names, feature_types, nthread, max_bin, ref, group, qid, label_lower_bound, label_upper_bound, feature_weights, enable_categorical, data_split_mode)\u001B[0m\n\u001B[1;32m   1553\u001B[0m     \u001B[38;5;28;01mif\u001B[39;00m \u001B[38;5;28many\u001B[39m(\n\u001B[1;32m   1554\u001B[0m         info \u001B[38;5;129;01mis\u001B[39;00m \u001B[38;5;129;01mnot\u001B[39;00m \u001B[38;5;28;01mNone\u001B[39;00m\n\u001B[1;32m   1555\u001B[0m         \u001B[38;5;28;01mfor\u001B[39;00m info \u001B[38;5;129;01min\u001B[39;00m (\n\u001B[0;32m   (...)\u001B[0m\n\u001B[1;32m   1566\u001B[0m         )\n\u001B[1;32m   1567\u001B[0m     ):\n\u001B[1;32m   1568\u001B[0m         \u001B[38;5;28;01mraise\u001B[39;00m \u001B[38;5;167;01mValueError\u001B[39;00m(\n\u001B[1;32m   1569\u001B[0m             \u001B[38;5;124m\"\u001B[39m\u001B[38;5;124mIf data iterator is used as input, data like label should be \u001B[39m\u001B[38;5;124m\"\u001B[39m\n\u001B[1;32m   1570\u001B[0m             \u001B[38;5;124m\"\u001B[39m\u001B[38;5;124mspecified as batch argument.\u001B[39m\u001B[38;5;124m\"\u001B[39m\n\u001B[1;32m   1571\u001B[0m         )\n\u001B[0;32m-> 1573\u001B[0m \u001B[38;5;28mself\u001B[39m\u001B[38;5;241m.\u001B[39m_init(\n\u001B[1;32m   1574\u001B[0m     data,\n\u001B[1;32m   1575\u001B[0m     ref\u001B[38;5;241m=\u001B[39mref,\n\u001B[1;32m   1576\u001B[0m     label\u001B[38;5;241m=\u001B[39mlabel,\n\u001B[1;32m   1577\u001B[0m     weight\u001B[38;5;241m=\u001B[39mweight,\n\u001B[1;32m   1578\u001B[0m     base_margin\u001B[38;5;241m=\u001B[39mbase_margin,\n\u001B[1;32m   1579\u001B[0m     group\u001B[38;5;241m=\u001B[39mgroup,\n\u001B[1;32m   1580\u001B[0m     qid\u001B[38;5;241m=\u001B[39mqid,\n\u001B[1;32m   1581\u001B[0m     label_lower_bound\u001B[38;5;241m=\u001B[39mlabel_lower_bound,\n\u001B[1;32m   1582\u001B[0m     label_upper_bound\u001B[38;5;241m=\u001B[39mlabel_upper_bound,\n\u001B[1;32m   1583\u001B[0m     feature_weights\u001B[38;5;241m=\u001B[39mfeature_weights,\n\u001B[1;32m   1584\u001B[0m     feature_names\u001B[38;5;241m=\u001B[39mfeature_names,\n\u001B[1;32m   1585\u001B[0m     feature_types\u001B[38;5;241m=\u001B[39mfeature_types,\n\u001B[1;32m   1586\u001B[0m     enable_categorical\u001B[38;5;241m=\u001B[39menable_categorical,\n\u001B[1;32m   1587\u001B[0m )\n",
      "File \u001B[0;32m~/anaconda3/envs/portfolio_optimisation/lib/python3.11/site-packages/xgboost/core.py:1632\u001B[0m, in \u001B[0;36mQuantileDMatrix._init\u001B[0;34m(self, data, ref, enable_categorical, **meta)\u001B[0m\n\u001B[1;32m   1620\u001B[0m config \u001B[38;5;241m=\u001B[39m make_jcargs(\n\u001B[1;32m   1621\u001B[0m     nthread\u001B[38;5;241m=\u001B[39m\u001B[38;5;28mself\u001B[39m\u001B[38;5;241m.\u001B[39mnthread, missing\u001B[38;5;241m=\u001B[39m\u001B[38;5;28mself\u001B[39m\u001B[38;5;241m.\u001B[39mmissing, max_bin\u001B[38;5;241m=\u001B[39m\u001B[38;5;28mself\u001B[39m\u001B[38;5;241m.\u001B[39mmax_bin\n\u001B[1;32m   1622\u001B[0m )\n\u001B[1;32m   1623\u001B[0m ret \u001B[38;5;241m=\u001B[39m _LIB\u001B[38;5;241m.\u001B[39mXGQuantileDMatrixCreateFromCallback(\n\u001B[1;32m   1624\u001B[0m     \u001B[38;5;28;01mNone\u001B[39;00m,\n\u001B[1;32m   1625\u001B[0m     it\u001B[38;5;241m.\u001B[39mproxy\u001B[38;5;241m.\u001B[39mhandle,\n\u001B[0;32m   (...)\u001B[0m\n\u001B[1;32m   1630\u001B[0m     ctypes\u001B[38;5;241m.\u001B[39mbyref(handle),\n\u001B[1;32m   1631\u001B[0m )\n\u001B[0;32m-> 1632\u001B[0m it\u001B[38;5;241m.\u001B[39mreraise()\n\u001B[1;32m   1633\u001B[0m \u001B[38;5;66;03m# delay check_call to throw intermediate exception first\u001B[39;00m\n\u001B[1;32m   1634\u001B[0m _check_call(ret)\n",
      "File \u001B[0;32m~/anaconda3/envs/portfolio_optimisation/lib/python3.11/site-packages/xgboost/core.py:569\u001B[0m, in \u001B[0;36mDataIter.reraise\u001B[0;34m(self)\u001B[0m\n\u001B[1;32m    567\u001B[0m exc \u001B[38;5;241m=\u001B[39m \u001B[38;5;28mself\u001B[39m\u001B[38;5;241m.\u001B[39m_exception\n\u001B[1;32m    568\u001B[0m \u001B[38;5;28mself\u001B[39m\u001B[38;5;241m.\u001B[39m_exception \u001B[38;5;241m=\u001B[39m \u001B[38;5;28;01mNone\u001B[39;00m\n\u001B[0;32m--> 569\u001B[0m \u001B[38;5;28;01mraise\u001B[39;00m exc\n",
      "File \u001B[0;32m~/anaconda3/envs/portfolio_optimisation/lib/python3.11/site-packages/xgboost/core.py:550\u001B[0m, in \u001B[0;36mDataIter._handle_exception\u001B[0;34m(self, fn, dft_ret)\u001B[0m\n\u001B[1;32m    547\u001B[0m     \u001B[38;5;28;01mreturn\u001B[39;00m dft_ret\n\u001B[1;32m    549\u001B[0m \u001B[38;5;28;01mtry\u001B[39;00m:\n\u001B[0;32m--> 550\u001B[0m     \u001B[38;5;28;01mreturn\u001B[39;00m fn()\n\u001B[1;32m    551\u001B[0m \u001B[38;5;28;01mexcept\u001B[39;00m \u001B[38;5;167;01mException\u001B[39;00m \u001B[38;5;28;01mas\u001B[39;00m e:  \u001B[38;5;66;03m# pylint: disable=broad-except\u001B[39;00m\n\u001B[1;32m    552\u001B[0m     \u001B[38;5;66;03m# Defer the exception in order to return 0 and stop the iteration.\u001B[39;00m\n\u001B[1;32m    553\u001B[0m     \u001B[38;5;66;03m# Exception inside a ctype callback function has no effect except\u001B[39;00m\n\u001B[1;32m    554\u001B[0m     \u001B[38;5;66;03m# for printing to stderr (doesn't stop the execution).\u001B[39;00m\n\u001B[1;32m    555\u001B[0m     tb \u001B[38;5;241m=\u001B[39m sys\u001B[38;5;241m.\u001B[39mexc_info()[\u001B[38;5;241m2\u001B[39m]\n",
      "File \u001B[0;32m~/anaconda3/envs/portfolio_optimisation/lib/python3.11/site-packages/xgboost/core.py:637\u001B[0m, in \u001B[0;36mDataIter._next_wrapper.<locals>.<lambda>\u001B[0;34m()\u001B[0m\n\u001B[1;32m    635\u001B[0m     \u001B[38;5;28mself\u001B[39m\u001B[38;5;241m.\u001B[39m_temporary_data \u001B[38;5;241m=\u001B[39m \u001B[38;5;28;01mNone\u001B[39;00m\n\u001B[1;32m    636\u001B[0m \u001B[38;5;66;03m# pylint: disable=not-callable\u001B[39;00m\n\u001B[0;32m--> 637\u001B[0m \u001B[38;5;28;01mreturn\u001B[39;00m \u001B[38;5;28mself\u001B[39m\u001B[38;5;241m.\u001B[39m_handle_exception(\u001B[38;5;28;01mlambda\u001B[39;00m: \u001B[38;5;28mself\u001B[39m\u001B[38;5;241m.\u001B[39mnext(input_data), \u001B[38;5;241m0\u001B[39m)\n",
      "File \u001B[0;32m~/anaconda3/envs/portfolio_optimisation/lib/python3.11/site-packages/xgboost/data.py:1402\u001B[0m, in \u001B[0;36mSingleBatchInternalIter.next\u001B[0;34m(self, input_data)\u001B[0m\n\u001B[1;32m   1400\u001B[0m     \u001B[38;5;28;01mreturn\u001B[39;00m \u001B[38;5;241m0\u001B[39m\n\u001B[1;32m   1401\u001B[0m \u001B[38;5;28mself\u001B[39m\u001B[38;5;241m.\u001B[39mit \u001B[38;5;241m+\u001B[39m\u001B[38;5;241m=\u001B[39m \u001B[38;5;241m1\u001B[39m\n\u001B[0;32m-> 1402\u001B[0m input_data(\u001B[38;5;241m*\u001B[39m\u001B[38;5;241m*\u001B[39m\u001B[38;5;28mself\u001B[39m\u001B[38;5;241m.\u001B[39mkwargs)\n\u001B[1;32m   1403\u001B[0m \u001B[38;5;28;01mreturn\u001B[39;00m \u001B[38;5;241m1\u001B[39m\n",
      "File \u001B[0;32m~/anaconda3/envs/portfolio_optimisation/lib/python3.11/site-packages/xgboost/core.py:726\u001B[0m, in \u001B[0;36mrequire_keyword_args.<locals>.throw_if.<locals>.inner_f\u001B[0;34m(*args, **kwargs)\u001B[0m\n\u001B[1;32m    724\u001B[0m \u001B[38;5;28;01mfor\u001B[39;00m k, arg \u001B[38;5;129;01min\u001B[39;00m \u001B[38;5;28mzip\u001B[39m(sig\u001B[38;5;241m.\u001B[39mparameters, args):\n\u001B[1;32m    725\u001B[0m     kwargs[k] \u001B[38;5;241m=\u001B[39m arg\n\u001B[0;32m--> 726\u001B[0m \u001B[38;5;28;01mreturn\u001B[39;00m func(\u001B[38;5;241m*\u001B[39m\u001B[38;5;241m*\u001B[39mkwargs)\n",
      "File \u001B[0;32m~/anaconda3/envs/portfolio_optimisation/lib/python3.11/site-packages/xgboost/core.py:626\u001B[0m, in \u001B[0;36mDataIter._next_wrapper.<locals>.input_data\u001B[0;34m(data, feature_names, feature_types, **kwargs)\u001B[0m\n\u001B[1;32m    624\u001B[0m \u001B[38;5;28mself\u001B[39m\u001B[38;5;241m.\u001B[39m_temporary_data \u001B[38;5;241m=\u001B[39m (new, cat_codes, feature_names, feature_types)\n\u001B[1;32m    625\u001B[0m dispatch_proxy_set_data(\u001B[38;5;28mself\u001B[39m\u001B[38;5;241m.\u001B[39mproxy, new, cat_codes)\n\u001B[0;32m--> 626\u001B[0m \u001B[38;5;28mself\u001B[39m\u001B[38;5;241m.\u001B[39mproxy\u001B[38;5;241m.\u001B[39mset_info(\n\u001B[1;32m    627\u001B[0m     feature_names\u001B[38;5;241m=\u001B[39mfeature_names,\n\u001B[1;32m    628\u001B[0m     feature_types\u001B[38;5;241m=\u001B[39mfeature_types,\n\u001B[1;32m    629\u001B[0m     \u001B[38;5;241m*\u001B[39m\u001B[38;5;241m*\u001B[39mkwargs,\n\u001B[1;32m    630\u001B[0m )\n\u001B[1;32m    631\u001B[0m \u001B[38;5;28mself\u001B[39m\u001B[38;5;241m.\u001B[39m_data_ref \u001B[38;5;241m=\u001B[39m ref\n",
      "File \u001B[0;32m~/anaconda3/envs/portfolio_optimisation/lib/python3.11/site-packages/xgboost/core.py:726\u001B[0m, in \u001B[0;36mrequire_keyword_args.<locals>.throw_if.<locals>.inner_f\u001B[0;34m(*args, **kwargs)\u001B[0m\n\u001B[1;32m    724\u001B[0m \u001B[38;5;28;01mfor\u001B[39;00m k, arg \u001B[38;5;129;01min\u001B[39;00m \u001B[38;5;28mzip\u001B[39m(sig\u001B[38;5;241m.\u001B[39mparameters, args):\n\u001B[1;32m    725\u001B[0m     kwargs[k] \u001B[38;5;241m=\u001B[39m arg\n\u001B[0;32m--> 726\u001B[0m \u001B[38;5;28;01mreturn\u001B[39;00m func(\u001B[38;5;241m*\u001B[39m\u001B[38;5;241m*\u001B[39mkwargs)\n",
      "File \u001B[0;32m~/anaconda3/envs/portfolio_optimisation/lib/python3.11/site-packages/xgboost/core.py:954\u001B[0m, in \u001B[0;36mDMatrix.set_info\u001B[0;34m(self, label, weight, base_margin, group, qid, label_lower_bound, label_upper_bound, feature_names, feature_types, feature_weights)\u001B[0m\n\u001B[1;32m    951\u001B[0m \u001B[38;5;28;01mfrom\u001B[39;00m \u001B[38;5;21;01m.\u001B[39;00m\u001B[38;5;21;01mdata\u001B[39;00m \u001B[38;5;28;01mimport\u001B[39;00m dispatch_meta_backend\n\u001B[1;32m    953\u001B[0m \u001B[38;5;28;01mif\u001B[39;00m label \u001B[38;5;129;01mis\u001B[39;00m \u001B[38;5;129;01mnot\u001B[39;00m \u001B[38;5;28;01mNone\u001B[39;00m:\n\u001B[0;32m--> 954\u001B[0m     \u001B[38;5;28mself\u001B[39m\u001B[38;5;241m.\u001B[39mset_label(label)\n\u001B[1;32m    955\u001B[0m \u001B[38;5;28;01mif\u001B[39;00m weight \u001B[38;5;129;01mis\u001B[39;00m \u001B[38;5;129;01mnot\u001B[39;00m \u001B[38;5;28;01mNone\u001B[39;00m:\n\u001B[1;32m    956\u001B[0m     \u001B[38;5;28mself\u001B[39m\u001B[38;5;241m.\u001B[39mset_weight(weight)\n",
      "File \u001B[0;32m~/anaconda3/envs/portfolio_optimisation/lib/python3.11/site-packages/xgboost/core.py:1092\u001B[0m, in \u001B[0;36mDMatrix.set_label\u001B[0;34m(self, label)\u001B[0m\n\u001B[1;32m   1083\u001B[0m \u001B[38;5;250m\u001B[39m\u001B[38;5;124;03m\"\"\"Set label of dmatrix\u001B[39;00m\n\u001B[1;32m   1084\u001B[0m \n\u001B[1;32m   1085\u001B[0m \u001B[38;5;124;03mParameters\u001B[39;00m\n\u001B[0;32m   (...)\u001B[0m\n\u001B[1;32m   1088\u001B[0m \u001B[38;5;124;03m    The label information to be set into DMatrix\u001B[39;00m\n\u001B[1;32m   1089\u001B[0m \u001B[38;5;124;03m\"\"\"\u001B[39;00m\n\u001B[1;32m   1090\u001B[0m \u001B[38;5;28;01mfrom\u001B[39;00m \u001B[38;5;21;01m.\u001B[39;00m\u001B[38;5;21;01mdata\u001B[39;00m \u001B[38;5;28;01mimport\u001B[39;00m dispatch_meta_backend\n\u001B[0;32m-> 1092\u001B[0m dispatch_meta_backend(\u001B[38;5;28mself\u001B[39m, label, \u001B[38;5;124m\"\u001B[39m\u001B[38;5;124mlabel\u001B[39m\u001B[38;5;124m\"\u001B[39m, \u001B[38;5;124m\"\u001B[39m\u001B[38;5;124mfloat\u001B[39m\u001B[38;5;124m\"\u001B[39m)\n",
      "File \u001B[0;32m~/anaconda3/envs/portfolio_optimisation/lib/python3.11/site-packages/xgboost/data.py:1345\u001B[0m, in \u001B[0;36mdispatch_meta_backend\u001B[0;34m(matrix, data, name, dtype)\u001B[0m\n\u001B[1;32m   1343\u001B[0m     data \u001B[38;5;241m=\u001B[39m data\u001B[38;5;241m.\u001B[39m_fsproxy_fast  \u001B[38;5;66;03m# pylint: disable=protected-access\u001B[39;00m\n\u001B[1;32m   1344\u001B[0m \u001B[38;5;28;01mif\u001B[39;00m _is_pandas_df(data):\n\u001B[0;32m-> 1345\u001B[0m     _meta_from_pandas_df(data, name, dtype\u001B[38;5;241m=\u001B[39mdtype, handle\u001B[38;5;241m=\u001B[39mhandle)\n\u001B[1;32m   1346\u001B[0m     \u001B[38;5;28;01mreturn\u001B[39;00m\n\u001B[1;32m   1347\u001B[0m \u001B[38;5;28;01mif\u001B[39;00m _is_pandas_series(data):\n",
      "File \u001B[0;32m~/anaconda3/envs/portfolio_optimisation/lib/python3.11/site-packages/xgboost/data.py:628\u001B[0m, in \u001B[0;36m_meta_from_pandas_df\u001B[0;34m(data, name, dtype, handle)\u001B[0m\n\u001B[1;32m    625\u001B[0m     array \u001B[38;5;241m=\u001B[39m np\u001B[38;5;241m.\u001B[39mstack(data\u001B[38;5;241m.\u001B[39mcolumns)\u001B[38;5;241m.\u001B[39mT\n\u001B[1;32m    627\u001B[0m array, dtype \u001B[38;5;241m=\u001B[39m _ensure_np_dtype(array, dtype)\n\u001B[0;32m--> 628\u001B[0m _meta_from_numpy(array, name, dtype, handle)\n",
      "File \u001B[0;32m~/anaconda3/envs/portfolio_optimisation/lib/python3.11/site-packages/xgboost/data.py:1279\u001B[0m, in \u001B[0;36m_meta_from_numpy\u001B[0;34m(data, field, dtype, handle)\u001B[0m\n\u001B[1;32m   1277\u001B[0m     \u001B[38;5;28;01mraise\u001B[39;00m \u001B[38;5;167;01mValueError\u001B[39;00m(\u001B[38;5;124m\"\u001B[39m\u001B[38;5;124mMasked array is not supported.\u001B[39m\u001B[38;5;124m\"\u001B[39m)\n\u001B[1;32m   1278\u001B[0m interface_str \u001B[38;5;241m=\u001B[39m _array_interface(data)\n\u001B[0;32m-> 1279\u001B[0m _check_call(_LIB\u001B[38;5;241m.\u001B[39mXGDMatrixSetInfoFromInterface(handle, c_str(field), interface_str))\n",
      "File \u001B[0;32m~/anaconda3/envs/portfolio_optimisation/lib/python3.11/site-packages/xgboost/core.py:284\u001B[0m, in \u001B[0;36m_check_call\u001B[0;34m(ret)\u001B[0m\n\u001B[1;32m    273\u001B[0m \u001B[38;5;250m\u001B[39m\u001B[38;5;124;03m\"\"\"Check the return value of C API call\u001B[39;00m\n\u001B[1;32m    274\u001B[0m \n\u001B[1;32m    275\u001B[0m \u001B[38;5;124;03mThis function will raise exception when error occurs.\u001B[39;00m\n\u001B[0;32m   (...)\u001B[0m\n\u001B[1;32m    281\u001B[0m \u001B[38;5;124;03m    return value from API calls\u001B[39;00m\n\u001B[1;32m    282\u001B[0m \u001B[38;5;124;03m\"\"\"\u001B[39;00m\n\u001B[1;32m    283\u001B[0m \u001B[38;5;28;01mif\u001B[39;00m ret \u001B[38;5;241m!=\u001B[39m \u001B[38;5;241m0\u001B[39m:\n\u001B[0;32m--> 284\u001B[0m     \u001B[38;5;28;01mraise\u001B[39;00m XGBoostError(py_str(_LIB\u001B[38;5;241m.\u001B[39mXGBGetLastError()))\n",
      "\u001B[0;31mXGBoostError\u001B[0m: [20:16:53] /Users/runner/miniforge3/conda-bld/xgboost-split_1738880277541/work/src/data/data.cc:514: Check failed: valid: Label contains NaN, infinity or a value too large.\nStack trace:\n  [bt] (0) 1   libxgboost.dylib                    0x000000013a0c4170 dmlc::LogMessageFatal::~LogMessageFatal() + 124\n  [bt] (1) 2   libxgboost.dylib                    0x000000013a218778 xgboost::MetaInfo::SetInfoFromHost(xgboost::Context const&, xgboost::StringView, xgboost::Json) + 2804\n  [bt] (2) 3   libxgboost.dylib                    0x000000013a217b6c xgboost::MetaInfo::SetInfo(xgboost::Context const&, xgboost::StringView, xgboost::StringView) + 628\n  [bt] (3) 4   libxgboost.dylib                    0x000000013a0dad84 XGDMatrixSetInfoFromInterface + 244\n  [bt] (4) 5   libffi.8.dylib                      0x000000010132004c ffi_call_SYSV + 76\n  [bt] (5) 6   libffi.8.dylib                      0x000000010131d834 ffi_call_int + 1404\n  [bt] (6) 7   _ctypes.cpython-311-darwin.so       0x0000000101300988 _ctypes_callproc + 1208\n  [bt] (7) 8   _ctypes.cpython-311-darwin.so       0x00000001012fac10 PyCFuncPtr_call + 1188\n  [bt] (8) 9   python3.11                          0x00000001009404ec _PyObject_MakeTpCall + 332\n\n"
     ]
    }
   ],
   "execution_count": 29
  },
  {
   "metadata": {
    "ExecuteTime": {
     "end_time": "2025-04-09T18:16:54.709894Z",
     "start_time": "2025-04-09T04:43:58.000360Z"
    }
   },
   "cell_type": "code",
   "source": [
    "importlib.reload(comparison)\n",
    "months_6m = 6\n",
    "X_train_6m, y_train_6m, X_test_6m, y_test_6m = train_test.get_train_test(df_tabular_multi, months=6,\n",
    "                                                                         target_key='m_return_target(t+6)')\n",
    "\n",
    "# Predictions\n",
    "y_train_pred_6m = model.predict(X_train_6m)\n",
    "y_test_pred_6m = model.predict(X_test_6m)"
   ],
   "id": "459a450caa0e1dc1",
   "outputs": [
    {
     "name": "stdout",
     "output_type": "stream",
     "text": [
      "1 (474411, 85)\n",
      "2 (466146, 85)\n"
     ]
    }
   ],
   "execution_count": 73
  },
  {
   "metadata": {},
   "cell_type": "markdown",
   "source": "#### Train data",
   "id": "21195a66217c4744"
  },
  {
   "metadata": {
    "ExecuteTime": {
     "end_time": "2025-04-09T18:16:54.709999Z",
     "start_time": "2025-04-09T04:42:40.962954Z"
    }
   },
   "cell_type": "code",
   "source": [
    "importlib.reload(comparison)\n",
    "y_train_mean_pred_6m, y_test_mean_pred_6m = comparison.get_train_test_mean_pred(y_train_pred_6m, y_test_pred_6m, len(df.columns))"
   ],
   "id": "e5749b7522561618",
   "outputs": [],
   "execution_count": 71
  },
  {
   "metadata": {},
   "cell_type": "markdown",
   "source": "### 6 Months Actual vs Prediction",
   "id": "d0c3079231ade694"
  },
  {
   "metadata": {
    "ExecuteTime": {
     "end_time": "2025-04-09T18:16:54.710066Z",
     "start_time": "2025-04-09T18:06:42.126413Z"
    }
   },
   "cell_type": "code",
   "source": "y_test_mean_pred_6m",
   "id": "4d778dc1a2272b5d",
   "outputs": [
    {
     "ename": "NameError",
     "evalue": "name 'y_test_mean_pred_6m' is not defined",
     "output_type": "error",
     "traceback": [
      "\u001B[0;31m---------------------------------------------------------------------------\u001B[0m",
      "\u001B[0;31mNameError\u001B[0m                                 Traceback (most recent call last)",
      "Cell \u001B[0;32mIn[1], line 1\u001B[0m\n\u001B[0;32m----> 1\u001B[0m y_test_mean_pred_6m\n",
      "\u001B[0;31mNameError\u001B[0m: name 'y_test_mean_pred_6m' is not defined"
     ]
    }
   ],
   "execution_count": 1
  },
  {
   "metadata": {
    "ExecuteTime": {
     "end_time": "2025-04-09T18:16:54.710134Z",
     "start_time": "2025-04-08T22:06:53.157005Z"
    }
   },
   "cell_type": "code",
   "source": [
    "importlib.reload(comparison)\n",
    "comparison.generate_plot(df, df_tabular_multi, y_train_mean_pred_6m, y_test_mean_pred_6m)"
   ],
   "id": "d3ed8454bf112ed2",
   "outputs": [
    {
     "data": {
      "application/vnd.plotly.v1+json": {
       "data": [
        {
         "line": {
          "color": "#5c839f",
          "width": 2
         },
         "mode": "lines",
         "name": "Actual returns",
         "x": [
          "2000-10-01",
          "2000-11-01",
          "2000-12-01",
          "2001-01-01",
          "2001-02-01",
          "2001-03-01",
          "2001-04-01",
          "2001-05-01",
          "2001-06-01",
          "2001-07-01",
          "2001-08-01",
          "2001-09-01",
          "2001-10-01",
          "2001-11-01",
          "2001-12-01",
          "2002-01-01",
          "2002-02-01",
          "2002-03-01",
          "2002-04-01",
          "2002-05-01",
          "2002-06-01",
          "2002-07-01",
          "2002-08-01",
          "2002-09-01",
          "2002-10-01",
          "2002-11-01",
          "2002-12-01",
          "2003-01-01",
          "2003-02-01",
          "2003-03-01",
          "2003-04-01",
          "2003-05-01",
          "2003-06-01",
          "2003-07-01",
          "2003-08-01",
          "2003-09-01",
          "2003-10-01",
          "2003-11-01",
          "2003-12-01",
          "2004-01-01",
          "2004-02-01",
          "2004-03-01",
          "2004-04-01",
          "2004-05-01",
          "2004-06-01",
          "2004-07-01",
          "2004-08-01",
          "2004-09-01",
          "2004-10-01",
          "2004-11-01",
          "2004-12-01",
          "2005-01-01",
          "2005-02-01",
          "2005-03-01",
          "2005-04-01",
          "2005-05-01",
          "2005-06-01",
          "2005-07-01",
          "2005-08-01",
          "2005-09-01",
          "2005-10-01",
          "2005-11-01",
          "2005-12-01",
          "2006-01-01",
          "2006-02-01",
          "2006-03-01",
          "2006-04-01",
          "2006-05-01",
          "2006-06-01",
          "2006-07-01",
          "2006-08-01",
          "2006-09-01",
          "2006-10-01",
          "2006-11-01",
          "2006-12-01",
          "2007-01-01",
          "2007-02-01",
          "2007-03-01",
          "2007-04-01",
          "2007-05-01",
          "2007-06-01",
          "2007-07-01",
          "2007-08-01",
          "2007-09-01",
          "2007-10-01",
          "2007-11-01",
          "2007-12-01",
          "2008-01-01",
          "2008-02-01",
          "2008-03-01",
          "2008-04-01",
          "2008-05-01",
          "2008-06-01",
          "2008-07-01",
          "2008-08-01",
          "2008-09-01",
          "2008-10-01",
          "2008-11-01",
          "2008-12-01",
          "2009-01-01",
          "2009-02-01",
          "2009-03-01",
          "2009-04-01",
          "2009-05-01",
          "2009-06-01",
          "2009-07-01",
          "2009-08-01",
          "2009-09-01",
          "2009-10-01",
          "2009-11-01",
          "2009-12-01",
          "2010-01-01",
          "2010-02-01",
          "2010-03-01",
          "2010-04-01",
          "2010-05-01",
          "2010-06-01",
          "2010-07-01",
          "2010-08-01",
          "2010-09-01",
          "2010-10-01",
          "2010-11-01",
          "2010-12-01",
          "2011-01-01",
          "2011-02-01",
          "2011-03-01",
          "2011-04-01",
          "2011-05-01",
          "2011-06-01",
          "2011-07-01",
          "2011-08-01",
          "2011-09-01",
          "2011-10-01",
          "2011-11-01",
          "2011-12-01",
          "2012-01-01",
          "2012-02-01",
          "2012-03-01",
          "2012-04-01",
          "2012-05-01",
          "2012-06-01",
          "2012-07-01",
          "2012-08-01",
          "2012-09-01",
          "2012-10-01",
          "2012-11-01",
          "2012-12-01",
          "2013-01-01",
          "2013-02-01",
          "2013-03-01",
          "2013-04-01",
          "2013-05-01",
          "2013-06-01",
          "2013-07-01",
          "2013-08-01",
          "2013-09-01",
          "2013-10-01",
          "2013-11-01",
          "2013-12-01",
          "2014-01-01",
          "2014-02-01",
          "2014-03-01",
          "2014-04-01",
          "2014-05-01",
          "2014-06-01",
          "2014-07-01",
          "2014-08-01",
          "2014-09-01",
          "2014-10-01",
          "2014-11-01",
          "2014-12-01",
          "2015-01-01",
          "2015-02-01",
          "2015-03-01",
          "2015-04-01",
          "2015-05-01",
          "2015-06-01",
          "2015-07-01",
          "2015-08-01",
          "2015-09-01",
          "2015-10-01",
          "2015-11-01",
          "2015-12-01",
          "2016-01-01",
          "2016-02-01",
          "2016-03-01",
          "2016-04-01",
          "2016-05-01",
          "2016-06-01",
          "2016-07-01",
          "2016-08-01",
          "2016-09-01",
          "2016-10-01",
          "2016-11-01",
          "2016-12-01",
          "2017-01-01",
          "2017-02-01",
          "2017-03-01",
          "2017-04-01",
          "2017-05-01",
          "2017-06-01",
          "2017-07-01",
          "2017-08-01",
          "2017-09-01",
          "2017-10-01",
          "2017-11-01",
          "2017-12-01",
          "2018-01-01",
          "2018-02-01",
          "2018-03-01",
          "2018-04-01",
          "2018-05-01",
          "2018-06-01",
          "2018-07-01",
          "2018-08-01",
          "2018-09-01",
          "2018-10-01",
          "2018-11-01",
          "2018-12-01",
          "2019-01-01",
          "2019-02-01",
          "2019-03-01",
          "2019-04-01",
          "2019-05-01",
          "2019-06-01",
          "2019-07-01",
          "2019-08-01",
          "2019-09-01",
          "2019-10-01",
          "2019-11-01",
          "2019-12-01",
          "2020-01-01",
          "2020-02-01",
          "2020-03-01",
          "2020-04-01",
          "2020-05-01",
          "2020-06-01",
          "2020-07-01",
          "2020-08-01",
          "2020-09-01",
          "2020-10-01",
          "2020-11-01",
          "2020-12-01",
          "2021-01-01",
          "2021-02-01",
          "2021-03-01",
          "2021-04-01",
          "2021-05-01",
          "2021-06-01",
          "2021-07-01",
          "2021-08-01",
          "2021-09-01",
          "2021-10-01",
          "2021-11-01",
          "2021-12-01",
          "2022-01-01",
          "2022-02-01",
          "2022-03-01",
          "2022-04-01",
          "2022-05-01",
          "2022-06-01",
          "2022-07-01",
          "2022-08-01",
          "2022-09-01",
          "2022-10-01",
          "2022-11-01",
          "2022-12-01",
          "2023-01-01",
          "2023-02-01",
          "2023-03-01",
          "2023-04-01",
          "2023-05-01",
          "2023-06-01",
          "2023-07-01",
          "2023-08-01",
          "2023-09-01",
          "2023-10-01",
          "2023-11-01",
          "2023-12-01",
          "2024-01-01",
          "2024-02-01",
          "2024-03-01",
          "2024-04-01",
          "2024-05-01",
          "2024-06-01",
          "2024-07-01",
          "2024-08-01"
         ],
         "y": [
          null,
          1.0255474894131882,
          1.0338354506957046,
          0.9928735632183908,
          5.930568663036903,
          1.02524500907441,
          0.9939624924379915,
          0.9817483363581366,
          1.0329461584996975,
          0.9952389594676346,
          1.027350272232305,
          0.9906291591046583,
          0.9893103448275862,
          0.9717422867513611,
          1.0094071385359953,
          1.0391651542649727,
          0.9689776164549303,
          0.9847489413188143,
          1.0655414398064127,
          1.0118451300665456,
          0.9984392014519057,
          0.9735087719298245,
          0.9690865093768906,
          0.9132849364791288,
          1.0499274047186933,
          1.050798548094374,
          1.0158620689655173,
          0.9939322444041138,
          1.0093103448275862,
          1.050725952813067,
          1.007102238354507,
          1.0027646702964308,
          0.9519721718088325,
          0.9418874773139746,
          0.9874833635813671,
          0.9568905021173624,
          1.0078644888082275,
          1.0582516636418633,
          0.9664125831820932,
          0.9890199637023595,
          1.0055716878402905,
          0.9959830611010285,
          1.0599516031457954,
          1.0670054446460981,
          1.034162129461585,
          1.508451300665457,
          1.0614277071990321,
          1.0038233514821537,
          1.0498003629764066,
          1.0042286751361162,
          1.015849969751966,
          1.0305263157894737,
          1.0141560798548095,
          1.0468421052631578,
          1.0040834845735027,
          0.992474289171204,
          1.0346218995765275,
          0.9633877797943133,
          0.9934119782214157,
          1.0055535390199637,
          1.0005565638233516,
          1.0293163944343617,
          1.053762855414398,
          1.00643073200242,
          1.0203811252268602,
          0.9955595886267392,
          0.9733030852994556,
          1.033145795523291,
          1.0216817906836055,
          1.0358136721113127,
          0.9993042952208105,
          1.1286509376890503,
          1.0726013309134907,
          3.2130248033877797,
          1.0215607985480943,
          1.0408166969147006,
          1.0128917120387175,
          1.027501512401694,
          1.0092075015124016,
          0.9686267392619479,
          0.9991833030852995,
          0.9856866303690262,
          1.0248820326678767,
          1.0297519661222019,
          1.0213853599516032,
          1.0188808227465216,
          1.027979431336963,
          1.0368723532970356,
          1.0044404113732608,
          1.0015849969751967,
          1.0188082274652148,
          1.0226194797338173,
          0.9885843920145191,
          0.9759286146400484,
          0.9907501512401694,
          1.002474289171204,
          1.0255172413793103,
          0.9479370840895343,
          0.9907743496672716,
          0.9420447670901392,
          0.9907199032062917,
          0.9868784029038112,
          1.0311494252873565,
          1.02318814277072,
          0.9375620084694495,
          0.9950090744101633,
          1.0215789473684211,
          0.9273018753781004,
          0.8458197217180883,
          0.9447489413188144,
          1.0413006654567454,
          0.9497701149425287,
          0.9416515426497277,
          1.0697580157289777,
          1.1476164549304295,
          1.0432909860859043,
          1.0350211736237145,
          1.0623895946763462,
          1.0552026618269812,
          1.0322746521476103,
          0.9779915305505141,
          1.0015910465819722,
          1.0513793103448277,
          0.9896067755595885,
          1.0185541439806414,
          1.0590381125226862,
          1.0449969751966124,
          0.9456261343012704,
          0.9619419237749547,
          1.0388626739261946,
          0.9645856019358742,
          1.0696067755595886,
          1.0163883847549908,
          1.0275862068965518,
          1.0584029038112523,
          1.0119782214156081,
          1.0324803387779795,
          1.0016031457955235,
          1.0198850574712643,
          0.9949969751966122,
          0.9972353297035693,
          0.9830429522081064,
          0.9474712643678161,
          0.9529824561403508,
          1.0689231699939505,
          0.9843375680580763,
          1.0002540834845735,
          1.0593768905021175,
          1.0995402298850574,
          1.026303690260133,
          0.9927465214761042,
          0.9427586206896552,
          1.0300241984271024,
          0.9957652752571083,
          1.0196672716273443,
          1.0171506352087114,
          1.0012038717483362,
          1.0166848154869934,
          1.0311736237144584,
          1.0607924984875983,
          1.0218390804597701,
          1.0406836055656383,
          1.0333696309739866,
          1.01821536600121,
          0.990508166969147,
          1.0369933454325468,
          0.98346037507562,
          1.0512159709618873,
          1.0213430127041743,
          1.0239806412583181,
          1.022280701754386,
          0.9877434966727164,
          1.0288626739261948,
          1.0008287961282516,
          0.9851845130066547,
          1.0161161524500906,
          1.0306473079249847,
          0.9871445856019359,
          1.026745311554749,
          0.989491833030853,
          1.0253115547489413,
          1.04167574107683,
          1.0141681790683605,
          1.0019419237749547,
          1.0444585601935874,
          1.0097459165154263,
          1.000411373260738,
          1.0252087114337567,
          0.9903266787658802,
          1.012788868723533,
          0.9586448880822745,
          0.9679854809437386,
          1.0623411978221418,
          1.0190018148820326,
          0.9822928009679371,
          0.9491107078039926,
          0.9993587416817907,
          1.0566122202056867,
          1.0004355716878404,
          1.0214095583787053,
          0.9709074410163339,
          1.0535813672111312,
          1.0110102843315183,
          1.0043375680580762,
          0.9848154869933453,
          1.0514337568058076,
          1.0315486993345433,
          1.0146581972171809,
          1.0218451300665456,
          1.009751966122202,
          1.0155958862673926,
          1.0126678765880217,
          1.0131215970961889,
          1.0135692679975803,
          1.0033877797943134,
          1.0308892921960073,
          1.0195220810647307,
          1.0232244404113733,
          1.0114458560193589,
          1.023817301875378,
          0.974422262552934,
          0.996636418632789,
          1.0194797338173018,
          1.0263641863278887,
          1.0086327888687234,
          1.0175922565033273,
          1.0217725347852389,
          0.9907501512401694,
          0.9365880217785845,
          1.0115124016938897,
          0.9133272837265578,
          1.0914398064125832,
          1.0367513611615244,
          1.004137931034483,
          1.043049001814882,
          0.940822746521476,
          1.0453539019963702,
          1.0221234119782214,
          0.9704476709013913,
          1.0369449485783424,
          1.0294797338173018,
          1.0347307924984874,
          1.0268058076225044,
          0.9897519661222022,
          0.9099153055051422,
          0.8183847549909256,
          1.1260314579552329,
          1.072552934059286,
          1.0304174228675136,
          1.0225710828796128,
          1.0605565638233514,
          0.9945130066545675,
          0.9923290986085905,
          1.1583847549909256,
          1.0579612825166365,
          1.0404839685420448,
          1.053793103448276,
          1.0589292196007258,
          1.037652752571083,
          1.0213430127041743,
          1.0207562008469449,
          1.0036418632788868,
          1.025287356321839,
          0.9864851784633998,
          1.0300241984271024,
          0.969933454325469,
          1.0402117362371448,
          0.9256805807622505,
          0.9876830006049606,
          1.003230490018149,
          0.9446763460375075,
          1.0007199032062917,
          0.9249425287356322,
          1.0904295220810647,
          0.9692982456140351,
          0.901373260738052,
          1.0810284331518452,
          1.0552994555353903,
          0.9577374470659408,
          1.0973321234119784,
          0.9889957652752571,
          0.979933454325469,
          1.001318814277072,
          0.9908832425892315,
          1.0624803387779795,
          1.0433393829401088,
          0.9686206896551725,
          0.95978221415608,
          0.9421113127646703,
          1.0877132486388386,
          1.079328493647913,
          0.9853962492437992,
          1.0741379310344827,
          1.0276285541439807,
          0.9559709618874773,
          1.0341621294615853,
          0.9932425892317,
          1.0552510586811856,
          0.9971990320629158,
          0.9666787658802178
         ],
         "type": "scatter"
        },
        {
         "line": {
          "color": "red",
          "width": 2
         },
         "mode": "lines",
         "name": "Train returns",
         "x": [
          "2000-10-01",
          "2000-11-01",
          "2000-12-01",
          "2001-01-01",
          "2001-02-01",
          "2001-03-01",
          "2001-04-01",
          "2001-05-01",
          "2001-06-01",
          "2001-07-01",
          "2001-08-01",
          "2001-09-01",
          "2001-10-01",
          "2001-11-01",
          "2001-12-01",
          "2002-01-01",
          "2002-02-01",
          "2002-03-01",
          "2002-04-01",
          "2002-05-01",
          "2002-06-01",
          "2002-07-01",
          "2002-08-01",
          "2002-09-01",
          "2002-10-01",
          "2002-11-01",
          "2002-12-01",
          "2003-01-01",
          "2003-02-01",
          "2003-03-01",
          "2003-04-01",
          "2003-05-01",
          "2003-06-01",
          "2003-07-01",
          "2003-08-01",
          "2003-09-01",
          "2003-10-01",
          "2003-11-01",
          "2003-12-01",
          "2004-01-01",
          "2004-02-01",
          "2004-03-01",
          "2004-04-01",
          "2004-05-01",
          "2004-06-01",
          "2004-07-01",
          "2004-08-01",
          "2004-09-01",
          "2004-10-01",
          "2004-11-01",
          "2004-12-01",
          "2005-01-01",
          "2005-02-01",
          "2005-03-01",
          "2005-04-01",
          "2005-05-01",
          "2005-06-01",
          "2005-07-01",
          "2005-08-01",
          "2005-09-01",
          "2005-10-01",
          "2005-11-01",
          "2005-12-01",
          "2006-01-01",
          "2006-02-01",
          "2006-03-01",
          "2006-04-01",
          "2006-05-01",
          "2006-06-01",
          "2006-07-01",
          "2006-08-01",
          "2006-09-01",
          "2006-10-01",
          "2006-11-01",
          "2006-12-01",
          "2007-01-01",
          "2007-02-01",
          "2007-03-01",
          "2007-04-01",
          "2007-05-01",
          "2007-06-01",
          "2007-07-01",
          "2007-08-01",
          "2007-09-01",
          "2007-10-01",
          "2007-11-01",
          "2007-12-01",
          "2008-01-01",
          "2008-02-01",
          "2008-03-01",
          "2008-04-01",
          "2008-05-01",
          "2008-06-01",
          "2008-07-01",
          "2008-08-01",
          "2008-09-01",
          "2008-10-01",
          "2008-11-01",
          "2008-12-01",
          "2009-01-01",
          "2009-02-01",
          "2009-03-01",
          "2009-04-01",
          "2009-05-01",
          "2009-06-01",
          "2009-07-01",
          "2009-08-01",
          "2009-09-01",
          "2009-10-01",
          "2009-11-01",
          "2009-12-01",
          "2010-01-01",
          "2010-02-01",
          "2010-03-01",
          "2010-04-01",
          "2010-05-01",
          "2010-06-01",
          "2010-07-01",
          "2010-08-01",
          "2010-09-01",
          "2010-10-01",
          "2010-11-01",
          "2010-12-01",
          "2011-01-01",
          "2011-02-01",
          "2011-03-01",
          "2011-04-01",
          "2011-05-01",
          "2011-06-01",
          "2011-07-01",
          "2011-08-01",
          "2011-09-01",
          "2011-10-01",
          "2011-11-01",
          "2011-12-01",
          "2012-01-01",
          "2012-02-01",
          "2012-03-01",
          "2012-04-01",
          "2012-05-01",
          "2012-06-01",
          "2012-07-01",
          "2012-08-01",
          "2012-09-01",
          "2012-10-01",
          "2012-11-01",
          "2012-12-01",
          "2013-01-01",
          "2013-02-01",
          "2013-03-01",
          "2013-04-01",
          "2013-05-01",
          "2013-06-01",
          "2013-07-01",
          "2013-08-01",
          "2013-09-01",
          "2013-10-01",
          "2013-11-01",
          "2013-12-01",
          "2014-01-01",
          "2014-02-01",
          "2014-03-01",
          "2014-04-01",
          "2014-05-01",
          "2014-06-01",
          "2014-07-01",
          "2014-08-01",
          "2014-09-01",
          "2014-10-01",
          "2014-11-01",
          "2014-12-01",
          "2015-01-01",
          "2015-02-01",
          "2015-03-01",
          "2015-04-01",
          "2015-05-01",
          "2015-06-01",
          "2015-07-01",
          "2015-08-01",
          "2015-09-01",
          "2015-10-01",
          "2015-11-01",
          "2015-12-01",
          "2016-01-01",
          "2016-02-01",
          "2016-03-01",
          "2016-04-01",
          "2016-05-01",
          "2016-06-01",
          "2016-07-01",
          "2016-08-01",
          "2016-09-01",
          "2016-10-01",
          "2016-11-01",
          "2016-12-01",
          "2017-01-01",
          "2017-02-01",
          "2017-03-01",
          "2017-04-01",
          "2017-05-01",
          "2017-06-01",
          "2017-07-01",
          "2017-08-01",
          "2017-09-01",
          "2017-10-01",
          "2017-11-01",
          "2017-12-01",
          "2018-01-01",
          "2018-02-01",
          "2018-03-01",
          "2018-04-01",
          "2018-05-01",
          "2018-06-01",
          "2018-07-01",
          "2018-08-01",
          "2018-09-01",
          "2018-10-01",
          "2018-11-01",
          "2018-12-01",
          "2019-01-01",
          "2019-02-01",
          "2019-03-01",
          "2019-04-01",
          "2019-05-01",
          "2019-06-01",
          "2019-07-01",
          "2019-08-01",
          "2019-09-01",
          "2019-10-01",
          "2019-11-01",
          "2019-12-01",
          "2020-01-01",
          "2020-02-01",
          "2020-03-01",
          "2020-04-01",
          "2020-05-01",
          "2020-06-01",
          "2020-07-01",
          "2020-08-01",
          "2020-09-01",
          "2020-10-01",
          "2020-11-01",
          "2020-12-01",
          "2021-01-01",
          "2021-02-01",
          "2021-03-01",
          "2021-04-01",
          "2021-05-01",
          "2021-06-01",
          "2021-07-01",
          "2021-08-01",
          "2021-09-01",
          "2021-10-01",
          "2021-11-01",
          "2021-12-01",
          "2022-01-01",
          "2022-02-01",
          "2022-03-01",
          "2022-04-01",
          "2022-05-01",
          "2022-06-01",
          "2022-07-01",
          "2022-08-01",
          "2022-09-01",
          "2022-10-01",
          "2022-11-01",
          "2022-12-01",
          "2023-01-01",
          "2023-02-01",
          "2023-03-01",
          "2023-04-01",
          "2023-05-01",
          "2023-06-01",
          "2023-07-01",
          "2023-08-01",
          "2023-09-01",
          "2023-10-01",
          "2023-11-01",
          "2023-12-01",
          "2024-01-01",
          "2024-02-01"
         ],
         "y": [
          1.006115436553955,
          1.0119268894195557,
          1.0068188905715942,
          1.0076963901519775,
          1.0118045806884766,
          1.0162379741668701,
          1.0110238790512085,
          1.0111068487167358,
          1.008142352104187,
          1.0087521076202393,
          1.0137587785720825,
          1.010008692741394,
          1.0121691226959229,
          1.0081322193145752,
          1.0063527822494507,
          1.0086654424667358,
          1.0093830823898315,
          1.010000467300415,
          1.009755253791809,
          1.0093793869018555,
          1.0094307661056519,
          1.0123907327651978,
          1.0109388828277588,
          1.009724736213684,
          1.0151774883270264,
          1.0100454092025757,
          1.0166932344436646,
          1.014618992805481,
          1.0088634490966797,
          1.0089892148971558,
          1.0106717348098755,
          1.0113366842269897,
          1.0116081237792969,
          1.0149272680282593,
          1.0095411539077759,
          1.010883092880249,
          1.0103486776351929,
          1.0139652490615845,
          1.0152069330215454,
          1.0095359086990356,
          1.009945034980774,
          1.013337254524231,
          1.0133237838745117,
          1.0113916397094727,
          1.015456199645996,
          1.00851309299469,
          1.0101795196533203,
          1.0096098184585571,
          1.009971261024475,
          1.0093642473220825,
          1.0135722160339355,
          1.0107766389846802,
          1.0122517347335815,
          1.0175180435180664,
          1.0132545232772827,
          1.013783574104309,
          1.0077723264694214,
          1.0094257593154907,
          1.0106221437454224,
          1.0083818435668945,
          1.0059707164764404,
          3.633164644241333,
          1.0100661516189575,
          1.0084490776062012,
          1.006527066230774,
          1.0089702606201172,
          1.0161508321762085,
          1.0125482082366943,
          1.0171369314193726,
          1.0112837553024292,
          1.0101388692855835,
          1.0093947649002075,
          1.0075820684432983,
          1.012708306312561,
          1.0109401941299438,
          1.0237220525741577,
          1.0121926069259644,
          1.0075615644454956,
          1.010944128036499,
          1.01815927028656,
          1.012449860572815,
          1.0095033645629883,
          1.013512372970581,
          1.008059024810791,
          1.0083779096603394,
          1.0097503662109375,
          1.01120126247406,
          1.0124868154525757,
          1.0130043029785156,
          1.0102909803390503,
          1.012095332145691,
          1.0124430656433105,
          1.0086942911148071,
          1.0096347332000732,
          1.011622428894043,
          1.0093719959259033,
          1.0073878765106201,
          1.0117624998092651,
          1.0095611810684204,
          1.0067648887634277,
          1.009788990020752,
          1.0046271085739136,
          1.0155043601989746,
          1.0083949565887451,
          1.007340431213379,
          1.0103405714035034,
          1.0048524141311646,
          1.010183334350586,
          1.0086705684661865,
          1.0079801082611084,
          1.0113747119903564,
          1.0129250288009644,
          1.0081353187561035,
          1.0097033977508545,
          1.0134283304214478,
          1.0114868879318237,
          1.0108352899551392,
          1.0136842727661133,
          1.0145692825317383,
          1.0133461952209473,
          1.0115973949432373,
          1.0119552612304688,
          1.015607476234436,
          1.0174849033355713,
          1.0099202394485474,
          1.0096209049224854,
          1.0126957893371582,
          1.0129504203796387,
          1.0144678354263306,
          1.005789041519165,
          1.0096338987350464,
          1.0098788738250732,
          1.0095467567443848,
          1.0155847072601318,
          1.0128287076950073,
          1.0151944160461426,
          1.0073074102401733,
          1.0103245973587036,
          1.01157546043396,
          1.0138907432556152,
          1.0097784996032715,
          1.0095059871673584,
          1.0087648630142212,
          1.0051915645599365,
          1.104478120803833,
          1.007493019104004,
          1.0148200988769531,
          1.0078791379928589,
          1.016785979270935,
          1.0105210542678833,
          1.0090773105621338,
          1.01485276222229,
          1.013331413269043,
          1.0183848142623901,
          1.012885570526123,
          1.00516676902771,
          1.0088982582092285,
          0.9944499135017395,
          0.9566547870635986,
          1.0077437162399292,
          1.0111953020095825,
          1.0090805292129517,
          1.0089360475540161,
          1.0092799663543701,
          1.0064661502838135,
          1.014068841934204,
          1.013457179069519,
          1.0118203163146973,
          1.008836269378662,
          1.0145939588546753,
          1.0075231790542603,
          1.0130082368850708,
          1.0092525482177734,
          1.0099197626113892,
          1.0075314044952393,
          1.0114065408706665,
          1.0149798393249512,
          1.0145057439804077,
          1.00862717628479,
          1.018428921699524,
          1.015507698059082,
          1.0101882219314575,
          1.0130959749221802,
          1.0118143558502197,
          1.0072534084320068,
          1.0148588418960571,
          1.0047743320465088,
          1.010102391242981,
          1.009382724761963,
          1.0100719928741455,
          1.0112040042877197,
          1.0126404762268066,
          1.0125430822372437,
          1.0103075504302979,
          1.0043525695800781,
          1.0103538036346436,
          1.0067116022109985,
          1.0098938941955566,
          1.0043872594833374,
          1.1167324781417847,
          1.0120748281478882,
          1.0102864503860474,
          1.0178053379058838,
          1.0133298635482788,
          1.0105277299880981,
          1.0067192316055298,
          1.0127891302108765,
          1.0139331817626953,
          1.0076645612716675,
          1.0078601837158203,
          1.009997010231018,
          1.0092904567718506,
          1.0127177238464355,
          1.0102155208587646,
          1.0105195045471191,
          1.0128135681152344,
          1.011338233947754,
          1.0093250274658203,
          1.0096485614776611,
          1.0094441175460815,
          1.0138458013534546,
          1.0050345659255981,
          1.0051730871200562,
          1.0132473707199097,
          1.0107929706573486,
          1.017412543296814,
          1.0077382326126099,
          1.0048606395721436,
          1.009196162223816,
          1.014829397201538,
          1.0059562921524048,
          1.005614161491394,
          1.0128426551818848,
          1.0079562664031982,
          1.01160728931427,
          1.0082528591156006,
          1.0150501728057861,
          1.0073496103286743,
          1.0057682991027832,
          1.0085289478302002,
          1.0110220909118652,
          1.0097713470458984,
          1.012600302696228,
          1.0059083700180054,
          1.0100226402282715,
          1.0073140859603882,
          1.017022967338562,
          1.0134555101394653,
          1.0150843858718872,
          1.0079600811004639,
          1.0111461877822876,
          1.0099717378616333,
          1.0097342729568481,
          1.0131125450134277,
          1.0096014738082886,
          1.0157548189163208,
          1.0109156370162964,
          1.0092250108718872,
          1.0110318660736084,
          1.0070761442184448,
          1.0704267024993896,
          1.0117003917694092,
          1.006203532218933,
          1.0099676847457886,
          1.0141290426254272,
          1.0117568969726562,
          1.008437156677246,
          1.007477045059204,
          1.0117383003234863,
          1.0044567584991455,
          1.0083705186843872,
          1.0190092325210571,
          1.0111708641052246,
          1.0082838535308838,
          1.016218900680542,
          1.0133079290390015,
          1.015417456626892,
          1.0160552263259888,
          1.0112766027450562,
          1.0092815160751343,
          1.0126603841781616
         ],
         "type": "scatter"
        },
        {
         "line": {
          "color": "green",
          "width": 2
         },
         "mode": "lines",
         "name": "Test returns",
         "x": [
          "2024-02-01",
          "2024-03-01",
          "2024-04-01",
          "2024-05-01",
          "2024-06-01",
          "2024-07-01",
          "2024-08-01"
         ],
         "y": [
          1.0126603841781616,
          0.9725434184074402
         ],
         "type": "scatter"
        }
       ],
       "layout": {
        "template": {
         "data": {
          "barpolar": [
           {
            "marker": {
             "line": {
              "color": "white",
              "width": 0.5
             },
             "pattern": {
              "fillmode": "overlay",
              "size": 10,
              "solidity": 0.2
             }
            },
            "type": "barpolar"
           }
          ],
          "bar": [
           {
            "error_x": {
             "color": "#2a3f5f"
            },
            "error_y": {
             "color": "#2a3f5f"
            },
            "marker": {
             "line": {
              "color": "white",
              "width": 0.5
             },
             "pattern": {
              "fillmode": "overlay",
              "size": 10,
              "solidity": 0.2
             }
            },
            "type": "bar"
           }
          ],
          "carpet": [
           {
            "aaxis": {
             "endlinecolor": "#2a3f5f",
             "gridcolor": "#C8D4E3",
             "linecolor": "#C8D4E3",
             "minorgridcolor": "#C8D4E3",
             "startlinecolor": "#2a3f5f"
            },
            "baxis": {
             "endlinecolor": "#2a3f5f",
             "gridcolor": "#C8D4E3",
             "linecolor": "#C8D4E3",
             "minorgridcolor": "#C8D4E3",
             "startlinecolor": "#2a3f5f"
            },
            "type": "carpet"
           }
          ],
          "choropleth": [
           {
            "colorbar": {
             "outlinewidth": 0,
             "ticks": ""
            },
            "type": "choropleth"
           }
          ],
          "contourcarpet": [
           {
            "colorbar": {
             "outlinewidth": 0,
             "ticks": ""
            },
            "type": "contourcarpet"
           }
          ],
          "contour": [
           {
            "colorbar": {
             "outlinewidth": 0,
             "ticks": ""
            },
            "colorscale": [
             [
              0.0,
              "#0d0887"
             ],
             [
              0.1111111111111111,
              "#46039f"
             ],
             [
              0.2222222222222222,
              "#7201a8"
             ],
             [
              0.3333333333333333,
              "#9c179e"
             ],
             [
              0.4444444444444444,
              "#bd3786"
             ],
             [
              0.5555555555555556,
              "#d8576b"
             ],
             [
              0.6666666666666666,
              "#ed7953"
             ],
             [
              0.7777777777777778,
              "#fb9f3a"
             ],
             [
              0.8888888888888888,
              "#fdca26"
             ],
             [
              1.0,
              "#f0f921"
             ]
            ],
            "type": "contour"
           }
          ],
          "heatmapgl": [
           {
            "colorbar": {
             "outlinewidth": 0,
             "ticks": ""
            },
            "colorscale": [
             [
              0.0,
              "#0d0887"
             ],
             [
              0.1111111111111111,
              "#46039f"
             ],
             [
              0.2222222222222222,
              "#7201a8"
             ],
             [
              0.3333333333333333,
              "#9c179e"
             ],
             [
              0.4444444444444444,
              "#bd3786"
             ],
             [
              0.5555555555555556,
              "#d8576b"
             ],
             [
              0.6666666666666666,
              "#ed7953"
             ],
             [
              0.7777777777777778,
              "#fb9f3a"
             ],
             [
              0.8888888888888888,
              "#fdca26"
             ],
             [
              1.0,
              "#f0f921"
             ]
            ],
            "type": "heatmapgl"
           }
          ],
          "heatmap": [
           {
            "colorbar": {
             "outlinewidth": 0,
             "ticks": ""
            },
            "colorscale": [
             [
              0.0,
              "#0d0887"
             ],
             [
              0.1111111111111111,
              "#46039f"
             ],
             [
              0.2222222222222222,
              "#7201a8"
             ],
             [
              0.3333333333333333,
              "#9c179e"
             ],
             [
              0.4444444444444444,
              "#bd3786"
             ],
             [
              0.5555555555555556,
              "#d8576b"
             ],
             [
              0.6666666666666666,
              "#ed7953"
             ],
             [
              0.7777777777777778,
              "#fb9f3a"
             ],
             [
              0.8888888888888888,
              "#fdca26"
             ],
             [
              1.0,
              "#f0f921"
             ]
            ],
            "type": "heatmap"
           }
          ],
          "histogram2dcontour": [
           {
            "colorbar": {
             "outlinewidth": 0,
             "ticks": ""
            },
            "colorscale": [
             [
              0.0,
              "#0d0887"
             ],
             [
              0.1111111111111111,
              "#46039f"
             ],
             [
              0.2222222222222222,
              "#7201a8"
             ],
             [
              0.3333333333333333,
              "#9c179e"
             ],
             [
              0.4444444444444444,
              "#bd3786"
             ],
             [
              0.5555555555555556,
              "#d8576b"
             ],
             [
              0.6666666666666666,
              "#ed7953"
             ],
             [
              0.7777777777777778,
              "#fb9f3a"
             ],
             [
              0.8888888888888888,
              "#fdca26"
             ],
             [
              1.0,
              "#f0f921"
             ]
            ],
            "type": "histogram2dcontour"
           }
          ],
          "histogram2d": [
           {
            "colorbar": {
             "outlinewidth": 0,
             "ticks": ""
            },
            "colorscale": [
             [
              0.0,
              "#0d0887"
             ],
             [
              0.1111111111111111,
              "#46039f"
             ],
             [
              0.2222222222222222,
              "#7201a8"
             ],
             [
              0.3333333333333333,
              "#9c179e"
             ],
             [
              0.4444444444444444,
              "#bd3786"
             ],
             [
              0.5555555555555556,
              "#d8576b"
             ],
             [
              0.6666666666666666,
              "#ed7953"
             ],
             [
              0.7777777777777778,
              "#fb9f3a"
             ],
             [
              0.8888888888888888,
              "#fdca26"
             ],
             [
              1.0,
              "#f0f921"
             ]
            ],
            "type": "histogram2d"
           }
          ],
          "histogram": [
           {
            "marker": {
             "pattern": {
              "fillmode": "overlay",
              "size": 10,
              "solidity": 0.2
             }
            },
            "type": "histogram"
           }
          ],
          "mesh3d": [
           {
            "colorbar": {
             "outlinewidth": 0,
             "ticks": ""
            },
            "type": "mesh3d"
           }
          ],
          "parcoords": [
           {
            "line": {
             "colorbar": {
              "outlinewidth": 0,
              "ticks": ""
             }
            },
            "type": "parcoords"
           }
          ],
          "pie": [
           {
            "automargin": true,
            "type": "pie"
           }
          ],
          "scatter3d": [
           {
            "line": {
             "colorbar": {
              "outlinewidth": 0,
              "ticks": ""
             }
            },
            "marker": {
             "colorbar": {
              "outlinewidth": 0,
              "ticks": ""
             }
            },
            "type": "scatter3d"
           }
          ],
          "scattercarpet": [
           {
            "marker": {
             "colorbar": {
              "outlinewidth": 0,
              "ticks": ""
             }
            },
            "type": "scattercarpet"
           }
          ],
          "scattergeo": [
           {
            "marker": {
             "colorbar": {
              "outlinewidth": 0,
              "ticks": ""
             }
            },
            "type": "scattergeo"
           }
          ],
          "scattergl": [
           {
            "marker": {
             "colorbar": {
              "outlinewidth": 0,
              "ticks": ""
             }
            },
            "type": "scattergl"
           }
          ],
          "scattermapbox": [
           {
            "marker": {
             "colorbar": {
              "outlinewidth": 0,
              "ticks": ""
             }
            },
            "type": "scattermapbox"
           }
          ],
          "scatterpolargl": [
           {
            "marker": {
             "colorbar": {
              "outlinewidth": 0,
              "ticks": ""
             }
            },
            "type": "scatterpolargl"
           }
          ],
          "scatterpolar": [
           {
            "marker": {
             "colorbar": {
              "outlinewidth": 0,
              "ticks": ""
             }
            },
            "type": "scatterpolar"
           }
          ],
          "scatter": [
           {
            "fillpattern": {
             "fillmode": "overlay",
             "size": 10,
             "solidity": 0.2
            },
            "type": "scatter"
           }
          ],
          "scatterternary": [
           {
            "marker": {
             "colorbar": {
              "outlinewidth": 0,
              "ticks": ""
             }
            },
            "type": "scatterternary"
           }
          ],
          "surface": [
           {
            "colorbar": {
             "outlinewidth": 0,
             "ticks": ""
            },
            "colorscale": [
             [
              0.0,
              "#0d0887"
             ],
             [
              0.1111111111111111,
              "#46039f"
             ],
             [
              0.2222222222222222,
              "#7201a8"
             ],
             [
              0.3333333333333333,
              "#9c179e"
             ],
             [
              0.4444444444444444,
              "#bd3786"
             ],
             [
              0.5555555555555556,
              "#d8576b"
             ],
             [
              0.6666666666666666,
              "#ed7953"
             ],
             [
              0.7777777777777778,
              "#fb9f3a"
             ],
             [
              0.8888888888888888,
              "#fdca26"
             ],
             [
              1.0,
              "#f0f921"
             ]
            ],
            "type": "surface"
           }
          ],
          "table": [
           {
            "cells": {
             "fill": {
              "color": "#EBF0F8"
             },
             "line": {
              "color": "white"
             }
            },
            "header": {
             "fill": {
              "color": "#C8D4E3"
             },
             "line": {
              "color": "white"
             }
            },
            "type": "table"
           }
          ]
         },
         "layout": {
          "annotationdefaults": {
           "arrowcolor": "#2a3f5f",
           "arrowhead": 0,
           "arrowwidth": 1
          },
          "autotypenumbers": "strict",
          "coloraxis": {
           "colorbar": {
            "outlinewidth": 0,
            "ticks": ""
           }
          },
          "colorscale": {
           "diverging": [
            [
             0,
             "#8e0152"
            ],
            [
             0.1,
             "#c51b7d"
            ],
            [
             0.2,
             "#de77ae"
            ],
            [
             0.3,
             "#f1b6da"
            ],
            [
             0.4,
             "#fde0ef"
            ],
            [
             0.5,
             "#f7f7f7"
            ],
            [
             0.6,
             "#e6f5d0"
            ],
            [
             0.7,
             "#b8e186"
            ],
            [
             0.8,
             "#7fbc41"
            ],
            [
             0.9,
             "#4d9221"
            ],
            [
             1,
             "#276419"
            ]
           ],
           "sequential": [
            [
             0.0,
             "#0d0887"
            ],
            [
             0.1111111111111111,
             "#46039f"
            ],
            [
             0.2222222222222222,
             "#7201a8"
            ],
            [
             0.3333333333333333,
             "#9c179e"
            ],
            [
             0.4444444444444444,
             "#bd3786"
            ],
            [
             0.5555555555555556,
             "#d8576b"
            ],
            [
             0.6666666666666666,
             "#ed7953"
            ],
            [
             0.7777777777777778,
             "#fb9f3a"
            ],
            [
             0.8888888888888888,
             "#fdca26"
            ],
            [
             1.0,
             "#f0f921"
            ]
           ],
           "sequentialminus": [
            [
             0.0,
             "#0d0887"
            ],
            [
             0.1111111111111111,
             "#46039f"
            ],
            [
             0.2222222222222222,
             "#7201a8"
            ],
            [
             0.3333333333333333,
             "#9c179e"
            ],
            [
             0.4444444444444444,
             "#bd3786"
            ],
            [
             0.5555555555555556,
             "#d8576b"
            ],
            [
             0.6666666666666666,
             "#ed7953"
            ],
            [
             0.7777777777777778,
             "#fb9f3a"
            ],
            [
             0.8888888888888888,
             "#fdca26"
            ],
            [
             1.0,
             "#f0f921"
            ]
           ]
          },
          "colorway": [
           "#636efa",
           "#EF553B",
           "#00cc96",
           "#ab63fa",
           "#FFA15A",
           "#19d3f3",
           "#FF6692",
           "#B6E880",
           "#FF97FF",
           "#FECB52"
          ],
          "font": {
           "color": "#2a3f5f"
          },
          "geo": {
           "bgcolor": "white",
           "lakecolor": "white",
           "landcolor": "white",
           "showlakes": true,
           "showland": true,
           "subunitcolor": "#C8D4E3"
          },
          "hoverlabel": {
           "align": "left"
          },
          "hovermode": "closest",
          "mapbox": {
           "style": "light"
          },
          "paper_bgcolor": "white",
          "plot_bgcolor": "white",
          "polar": {
           "angularaxis": {
            "gridcolor": "#EBF0F8",
            "linecolor": "#EBF0F8",
            "ticks": ""
           },
           "bgcolor": "white",
           "radialaxis": {
            "gridcolor": "#EBF0F8",
            "linecolor": "#EBF0F8",
            "ticks": ""
           }
          },
          "scene": {
           "xaxis": {
            "backgroundcolor": "white",
            "gridcolor": "#DFE8F3",
            "gridwidth": 2,
            "linecolor": "#EBF0F8",
            "showbackground": true,
            "ticks": "",
            "zerolinecolor": "#EBF0F8"
           },
           "yaxis": {
            "backgroundcolor": "white",
            "gridcolor": "#DFE8F3",
            "gridwidth": 2,
            "linecolor": "#EBF0F8",
            "showbackground": true,
            "ticks": "",
            "zerolinecolor": "#EBF0F8"
           },
           "zaxis": {
            "backgroundcolor": "white",
            "gridcolor": "#DFE8F3",
            "gridwidth": 2,
            "linecolor": "#EBF0F8",
            "showbackground": true,
            "ticks": "",
            "zerolinecolor": "#EBF0F8"
           }
          },
          "shapedefaults": {
           "line": {
            "color": "#2a3f5f"
           }
          },
          "ternary": {
           "aaxis": {
            "gridcolor": "#DFE8F3",
            "linecolor": "#A2B1C6",
            "ticks": ""
           },
           "baxis": {
            "gridcolor": "#DFE8F3",
            "linecolor": "#A2B1C6",
            "ticks": ""
           },
           "bgcolor": "white",
           "caxis": {
            "gridcolor": "#DFE8F3",
            "linecolor": "#A2B1C6",
            "ticks": ""
           }
          },
          "title": {
           "x": 0.05
          },
          "xaxis": {
           "automargin": true,
           "gridcolor": "#EBF0F8",
           "linecolor": "#EBF0F8",
           "ticks": "",
           "title": {
            "standoff": 15
           },
           "zerolinecolor": "#EBF0F8",
           "zerolinewidth": 2
          },
          "yaxis": {
           "automargin": true,
           "gridcolor": "#EBF0F8",
           "linecolor": "#EBF0F8",
           "ticks": "",
           "title": {
            "standoff": 15
           },
           "zerolinecolor": "#EBF0F8",
           "zerolinewidth": 2
          }
         }
        },
        "shapes": [
         {
          "line": {
           "color": "red",
           "dash": "dash",
           "width": 1
          },
          "type": "line",
          "x0": "2024-07-01",
          "x1": "2024-07-01",
          "xref": "x",
          "y0": 0,
          "y1": 1,
          "yref": "y domain"
         }
        ],
        "yaxis": {
         "title": {
          "text": "Day closing return (%)"
         },
         "tickformat": ".0%",
         "range": [
          0.75,
          1.6
         ]
        },
        "title": {
         "text": "1 Month Prediction vs Actual Plot"
        },
        "xaxis": {
         "title": {
          "text": "Date"
         }
        },
        "legend": {
         "title": {
          "text": "Legend"
         }
        }
       },
       "config": {
        "plotlyServerURL": "https://plot.ly"
       }
      },
      "text/html": [
       "<div>                            <div id=\"8013ea98-09b0-462f-948a-49d910472278\" class=\"plotly-graph-div\" style=\"height:525px; width:100%;\"></div>            <script type=\"text/javascript\">                require([\"plotly\"], function(Plotly) {                    window.PLOTLYENV=window.PLOTLYENV || {};                                    if (document.getElementById(\"8013ea98-09b0-462f-948a-49d910472278\")) {                    Plotly.newPlot(                        \"8013ea98-09b0-462f-948a-49d910472278\",                        [{\"line\":{\"color\":\"#5c839f\",\"width\":2},\"mode\":\"lines\",\"name\":\"Actual returns\",\"x\":[\"2000-10-01\",\"2000-11-01\",\"2000-12-01\",\"2001-01-01\",\"2001-02-01\",\"2001-03-01\",\"2001-04-01\",\"2001-05-01\",\"2001-06-01\",\"2001-07-01\",\"2001-08-01\",\"2001-09-01\",\"2001-10-01\",\"2001-11-01\",\"2001-12-01\",\"2002-01-01\",\"2002-02-01\",\"2002-03-01\",\"2002-04-01\",\"2002-05-01\",\"2002-06-01\",\"2002-07-01\",\"2002-08-01\",\"2002-09-01\",\"2002-10-01\",\"2002-11-01\",\"2002-12-01\",\"2003-01-01\",\"2003-02-01\",\"2003-03-01\",\"2003-04-01\",\"2003-05-01\",\"2003-06-01\",\"2003-07-01\",\"2003-08-01\",\"2003-09-01\",\"2003-10-01\",\"2003-11-01\",\"2003-12-01\",\"2004-01-01\",\"2004-02-01\",\"2004-03-01\",\"2004-04-01\",\"2004-05-01\",\"2004-06-01\",\"2004-07-01\",\"2004-08-01\",\"2004-09-01\",\"2004-10-01\",\"2004-11-01\",\"2004-12-01\",\"2005-01-01\",\"2005-02-01\",\"2005-03-01\",\"2005-04-01\",\"2005-05-01\",\"2005-06-01\",\"2005-07-01\",\"2005-08-01\",\"2005-09-01\",\"2005-10-01\",\"2005-11-01\",\"2005-12-01\",\"2006-01-01\",\"2006-02-01\",\"2006-03-01\",\"2006-04-01\",\"2006-05-01\",\"2006-06-01\",\"2006-07-01\",\"2006-08-01\",\"2006-09-01\",\"2006-10-01\",\"2006-11-01\",\"2006-12-01\",\"2007-01-01\",\"2007-02-01\",\"2007-03-01\",\"2007-04-01\",\"2007-05-01\",\"2007-06-01\",\"2007-07-01\",\"2007-08-01\",\"2007-09-01\",\"2007-10-01\",\"2007-11-01\",\"2007-12-01\",\"2008-01-01\",\"2008-02-01\",\"2008-03-01\",\"2008-04-01\",\"2008-05-01\",\"2008-06-01\",\"2008-07-01\",\"2008-08-01\",\"2008-09-01\",\"2008-10-01\",\"2008-11-01\",\"2008-12-01\",\"2009-01-01\",\"2009-02-01\",\"2009-03-01\",\"2009-04-01\",\"2009-05-01\",\"2009-06-01\",\"2009-07-01\",\"2009-08-01\",\"2009-09-01\",\"2009-10-01\",\"2009-11-01\",\"2009-12-01\",\"2010-01-01\",\"2010-02-01\",\"2010-03-01\",\"2010-04-01\",\"2010-05-01\",\"2010-06-01\",\"2010-07-01\",\"2010-08-01\",\"2010-09-01\",\"2010-10-01\",\"2010-11-01\",\"2010-12-01\",\"2011-01-01\",\"2011-02-01\",\"2011-03-01\",\"2011-04-01\",\"2011-05-01\",\"2011-06-01\",\"2011-07-01\",\"2011-08-01\",\"2011-09-01\",\"2011-10-01\",\"2011-11-01\",\"2011-12-01\",\"2012-01-01\",\"2012-02-01\",\"2012-03-01\",\"2012-04-01\",\"2012-05-01\",\"2012-06-01\",\"2012-07-01\",\"2012-08-01\",\"2012-09-01\",\"2012-10-01\",\"2012-11-01\",\"2012-12-01\",\"2013-01-01\",\"2013-02-01\",\"2013-03-01\",\"2013-04-01\",\"2013-05-01\",\"2013-06-01\",\"2013-07-01\",\"2013-08-01\",\"2013-09-01\",\"2013-10-01\",\"2013-11-01\",\"2013-12-01\",\"2014-01-01\",\"2014-02-01\",\"2014-03-01\",\"2014-04-01\",\"2014-05-01\",\"2014-06-01\",\"2014-07-01\",\"2014-08-01\",\"2014-09-01\",\"2014-10-01\",\"2014-11-01\",\"2014-12-01\",\"2015-01-01\",\"2015-02-01\",\"2015-03-01\",\"2015-04-01\",\"2015-05-01\",\"2015-06-01\",\"2015-07-01\",\"2015-08-01\",\"2015-09-01\",\"2015-10-01\",\"2015-11-01\",\"2015-12-01\",\"2016-01-01\",\"2016-02-01\",\"2016-03-01\",\"2016-04-01\",\"2016-05-01\",\"2016-06-01\",\"2016-07-01\",\"2016-08-01\",\"2016-09-01\",\"2016-10-01\",\"2016-11-01\",\"2016-12-01\",\"2017-01-01\",\"2017-02-01\",\"2017-03-01\",\"2017-04-01\",\"2017-05-01\",\"2017-06-01\",\"2017-07-01\",\"2017-08-01\",\"2017-09-01\",\"2017-10-01\",\"2017-11-01\",\"2017-12-01\",\"2018-01-01\",\"2018-02-01\",\"2018-03-01\",\"2018-04-01\",\"2018-05-01\",\"2018-06-01\",\"2018-07-01\",\"2018-08-01\",\"2018-09-01\",\"2018-10-01\",\"2018-11-01\",\"2018-12-01\",\"2019-01-01\",\"2019-02-01\",\"2019-03-01\",\"2019-04-01\",\"2019-05-01\",\"2019-06-01\",\"2019-07-01\",\"2019-08-01\",\"2019-09-01\",\"2019-10-01\",\"2019-11-01\",\"2019-12-01\",\"2020-01-01\",\"2020-02-01\",\"2020-03-01\",\"2020-04-01\",\"2020-05-01\",\"2020-06-01\",\"2020-07-01\",\"2020-08-01\",\"2020-09-01\",\"2020-10-01\",\"2020-11-01\",\"2020-12-01\",\"2021-01-01\",\"2021-02-01\",\"2021-03-01\",\"2021-04-01\",\"2021-05-01\",\"2021-06-01\",\"2021-07-01\",\"2021-08-01\",\"2021-09-01\",\"2021-10-01\",\"2021-11-01\",\"2021-12-01\",\"2022-01-01\",\"2022-02-01\",\"2022-03-01\",\"2022-04-01\",\"2022-05-01\",\"2022-06-01\",\"2022-07-01\",\"2022-08-01\",\"2022-09-01\",\"2022-10-01\",\"2022-11-01\",\"2022-12-01\",\"2023-01-01\",\"2023-02-01\",\"2023-03-01\",\"2023-04-01\",\"2023-05-01\",\"2023-06-01\",\"2023-07-01\",\"2023-08-01\",\"2023-09-01\",\"2023-10-01\",\"2023-11-01\",\"2023-12-01\",\"2024-01-01\",\"2024-02-01\",\"2024-03-01\",\"2024-04-01\",\"2024-05-01\",\"2024-06-01\",\"2024-07-01\",\"2024-08-01\"],\"y\":[null,1.0255474894131882,1.0338354506957046,0.9928735632183908,5.930568663036903,1.02524500907441,0.9939624924379915,0.9817483363581366,1.0329461584996975,0.9952389594676346,1.027350272232305,0.9906291591046583,0.9893103448275862,0.9717422867513611,1.0094071385359953,1.0391651542649727,0.9689776164549303,0.9847489413188143,1.0655414398064127,1.0118451300665456,0.9984392014519057,0.9735087719298245,0.9690865093768906,0.9132849364791288,1.0499274047186933,1.050798548094374,1.0158620689655173,0.9939322444041138,1.0093103448275862,1.050725952813067,1.007102238354507,1.0027646702964308,0.9519721718088325,0.9418874773139746,0.9874833635813671,0.9568905021173624,1.0078644888082275,1.0582516636418633,0.9664125831820932,0.9890199637023595,1.0055716878402905,0.9959830611010285,1.0599516031457954,1.0670054446460981,1.034162129461585,1.508451300665457,1.0614277071990321,1.0038233514821537,1.0498003629764066,1.0042286751361162,1.015849969751966,1.0305263157894737,1.0141560798548095,1.0468421052631578,1.0040834845735027,0.992474289171204,1.0346218995765275,0.9633877797943133,0.9934119782214157,1.0055535390199637,1.0005565638233516,1.0293163944343617,1.053762855414398,1.00643073200242,1.0203811252268602,0.9955595886267392,0.9733030852994556,1.033145795523291,1.0216817906836055,1.0358136721113127,0.9993042952208105,1.1286509376890503,1.0726013309134907,3.2130248033877797,1.0215607985480943,1.0408166969147006,1.0128917120387175,1.027501512401694,1.0092075015124016,0.9686267392619479,0.9991833030852995,0.9856866303690262,1.0248820326678767,1.0297519661222019,1.0213853599516032,1.0188808227465216,1.027979431336963,1.0368723532970356,1.0044404113732608,1.0015849969751967,1.0188082274652148,1.0226194797338173,0.9885843920145191,0.9759286146400484,0.9907501512401694,1.002474289171204,1.0255172413793103,0.9479370840895343,0.9907743496672716,0.9420447670901392,0.9907199032062917,0.9868784029038112,1.0311494252873565,1.02318814277072,0.9375620084694495,0.9950090744101633,1.0215789473684211,0.9273018753781004,0.8458197217180883,0.9447489413188144,1.0413006654567454,0.9497701149425287,0.9416515426497277,1.0697580157289777,1.1476164549304295,1.0432909860859043,1.0350211736237145,1.0623895946763462,1.0552026618269812,1.0322746521476103,0.9779915305505141,1.0015910465819722,1.0513793103448277,0.9896067755595885,1.0185541439806414,1.0590381125226862,1.0449969751966124,0.9456261343012704,0.9619419237749547,1.0388626739261946,0.9645856019358742,1.0696067755595886,1.0163883847549908,1.0275862068965518,1.0584029038112523,1.0119782214156081,1.0324803387779795,1.0016031457955235,1.0198850574712643,0.9949969751966122,0.9972353297035693,0.9830429522081064,0.9474712643678161,0.9529824561403508,1.0689231699939505,0.9843375680580763,1.0002540834845735,1.0593768905021175,1.0995402298850574,1.026303690260133,0.9927465214761042,0.9427586206896552,1.0300241984271024,0.9957652752571083,1.0196672716273443,1.0171506352087114,1.0012038717483362,1.0166848154869934,1.0311736237144584,1.0607924984875983,1.0218390804597701,1.0406836055656383,1.0333696309739866,1.01821536600121,0.990508166969147,1.0369933454325468,0.98346037507562,1.0512159709618873,1.0213430127041743,1.0239806412583181,1.022280701754386,0.9877434966727164,1.0288626739261948,1.0008287961282516,0.9851845130066547,1.0161161524500906,1.0306473079249847,0.9871445856019359,1.026745311554749,0.989491833030853,1.0253115547489413,1.04167574107683,1.0141681790683605,1.0019419237749547,1.0444585601935874,1.0097459165154263,1.000411373260738,1.0252087114337567,0.9903266787658802,1.012788868723533,0.9586448880822745,0.9679854809437386,1.0623411978221418,1.0190018148820326,0.9822928009679371,0.9491107078039926,0.9993587416817907,1.0566122202056867,1.0004355716878404,1.0214095583787053,0.9709074410163339,1.0535813672111312,1.0110102843315183,1.0043375680580762,0.9848154869933453,1.0514337568058076,1.0315486993345433,1.0146581972171809,1.0218451300665456,1.009751966122202,1.0155958862673926,1.0126678765880217,1.0131215970961889,1.0135692679975803,1.0033877797943134,1.0308892921960073,1.0195220810647307,1.0232244404113733,1.0114458560193589,1.023817301875378,0.974422262552934,0.996636418632789,1.0194797338173018,1.0263641863278887,1.0086327888687234,1.0175922565033273,1.0217725347852389,0.9907501512401694,0.9365880217785845,1.0115124016938897,0.9133272837265578,1.0914398064125832,1.0367513611615244,1.004137931034483,1.043049001814882,0.940822746521476,1.0453539019963702,1.0221234119782214,0.9704476709013913,1.0369449485783424,1.0294797338173018,1.0347307924984874,1.0268058076225044,0.9897519661222022,0.9099153055051422,0.8183847549909256,1.1260314579552329,1.072552934059286,1.0304174228675136,1.0225710828796128,1.0605565638233514,0.9945130066545675,0.9923290986085905,1.1583847549909256,1.0579612825166365,1.0404839685420448,1.053793103448276,1.0589292196007258,1.037652752571083,1.0213430127041743,1.0207562008469449,1.0036418632788868,1.025287356321839,0.9864851784633998,1.0300241984271024,0.969933454325469,1.0402117362371448,0.9256805807622505,0.9876830006049606,1.003230490018149,0.9446763460375075,1.0007199032062917,0.9249425287356322,1.0904295220810647,0.9692982456140351,0.901373260738052,1.0810284331518452,1.0552994555353903,0.9577374470659408,1.0973321234119784,0.9889957652752571,0.979933454325469,1.001318814277072,0.9908832425892315,1.0624803387779795,1.0433393829401088,0.9686206896551725,0.95978221415608,0.9421113127646703,1.0877132486388386,1.079328493647913,0.9853962492437992,1.0741379310344827,1.0276285541439807,0.9559709618874773,1.0341621294615853,0.9932425892317,1.0552510586811856,0.9971990320629158,0.9666787658802178],\"type\":\"scatter\"},{\"line\":{\"color\":\"red\",\"width\":2},\"mode\":\"lines\",\"name\":\"Train returns\",\"x\":[\"2000-10-01\",\"2000-11-01\",\"2000-12-01\",\"2001-01-01\",\"2001-02-01\",\"2001-03-01\",\"2001-04-01\",\"2001-05-01\",\"2001-06-01\",\"2001-07-01\",\"2001-08-01\",\"2001-09-01\",\"2001-10-01\",\"2001-11-01\",\"2001-12-01\",\"2002-01-01\",\"2002-02-01\",\"2002-03-01\",\"2002-04-01\",\"2002-05-01\",\"2002-06-01\",\"2002-07-01\",\"2002-08-01\",\"2002-09-01\",\"2002-10-01\",\"2002-11-01\",\"2002-12-01\",\"2003-01-01\",\"2003-02-01\",\"2003-03-01\",\"2003-04-01\",\"2003-05-01\",\"2003-06-01\",\"2003-07-01\",\"2003-08-01\",\"2003-09-01\",\"2003-10-01\",\"2003-11-01\",\"2003-12-01\",\"2004-01-01\",\"2004-02-01\",\"2004-03-01\",\"2004-04-01\",\"2004-05-01\",\"2004-06-01\",\"2004-07-01\",\"2004-08-01\",\"2004-09-01\",\"2004-10-01\",\"2004-11-01\",\"2004-12-01\",\"2005-01-01\",\"2005-02-01\",\"2005-03-01\",\"2005-04-01\",\"2005-05-01\",\"2005-06-01\",\"2005-07-01\",\"2005-08-01\",\"2005-09-01\",\"2005-10-01\",\"2005-11-01\",\"2005-12-01\",\"2006-01-01\",\"2006-02-01\",\"2006-03-01\",\"2006-04-01\",\"2006-05-01\",\"2006-06-01\",\"2006-07-01\",\"2006-08-01\",\"2006-09-01\",\"2006-10-01\",\"2006-11-01\",\"2006-12-01\",\"2007-01-01\",\"2007-02-01\",\"2007-03-01\",\"2007-04-01\",\"2007-05-01\",\"2007-06-01\",\"2007-07-01\",\"2007-08-01\",\"2007-09-01\",\"2007-10-01\",\"2007-11-01\",\"2007-12-01\",\"2008-01-01\",\"2008-02-01\",\"2008-03-01\",\"2008-04-01\",\"2008-05-01\",\"2008-06-01\",\"2008-07-01\",\"2008-08-01\",\"2008-09-01\",\"2008-10-01\",\"2008-11-01\",\"2008-12-01\",\"2009-01-01\",\"2009-02-01\",\"2009-03-01\",\"2009-04-01\",\"2009-05-01\",\"2009-06-01\",\"2009-07-01\",\"2009-08-01\",\"2009-09-01\",\"2009-10-01\",\"2009-11-01\",\"2009-12-01\",\"2010-01-01\",\"2010-02-01\",\"2010-03-01\",\"2010-04-01\",\"2010-05-01\",\"2010-06-01\",\"2010-07-01\",\"2010-08-01\",\"2010-09-01\",\"2010-10-01\",\"2010-11-01\",\"2010-12-01\",\"2011-01-01\",\"2011-02-01\",\"2011-03-01\",\"2011-04-01\",\"2011-05-01\",\"2011-06-01\",\"2011-07-01\",\"2011-08-01\",\"2011-09-01\",\"2011-10-01\",\"2011-11-01\",\"2011-12-01\",\"2012-01-01\",\"2012-02-01\",\"2012-03-01\",\"2012-04-01\",\"2012-05-01\",\"2012-06-01\",\"2012-07-01\",\"2012-08-01\",\"2012-09-01\",\"2012-10-01\",\"2012-11-01\",\"2012-12-01\",\"2013-01-01\",\"2013-02-01\",\"2013-03-01\",\"2013-04-01\",\"2013-05-01\",\"2013-06-01\",\"2013-07-01\",\"2013-08-01\",\"2013-09-01\",\"2013-10-01\",\"2013-11-01\",\"2013-12-01\",\"2014-01-01\",\"2014-02-01\",\"2014-03-01\",\"2014-04-01\",\"2014-05-01\",\"2014-06-01\",\"2014-07-01\",\"2014-08-01\",\"2014-09-01\",\"2014-10-01\",\"2014-11-01\",\"2014-12-01\",\"2015-01-01\",\"2015-02-01\",\"2015-03-01\",\"2015-04-01\",\"2015-05-01\",\"2015-06-01\",\"2015-07-01\",\"2015-08-01\",\"2015-09-01\",\"2015-10-01\",\"2015-11-01\",\"2015-12-01\",\"2016-01-01\",\"2016-02-01\",\"2016-03-01\",\"2016-04-01\",\"2016-05-01\",\"2016-06-01\",\"2016-07-01\",\"2016-08-01\",\"2016-09-01\",\"2016-10-01\",\"2016-11-01\",\"2016-12-01\",\"2017-01-01\",\"2017-02-01\",\"2017-03-01\",\"2017-04-01\",\"2017-05-01\",\"2017-06-01\",\"2017-07-01\",\"2017-08-01\",\"2017-09-01\",\"2017-10-01\",\"2017-11-01\",\"2017-12-01\",\"2018-01-01\",\"2018-02-01\",\"2018-03-01\",\"2018-04-01\",\"2018-05-01\",\"2018-06-01\",\"2018-07-01\",\"2018-08-01\",\"2018-09-01\",\"2018-10-01\",\"2018-11-01\",\"2018-12-01\",\"2019-01-01\",\"2019-02-01\",\"2019-03-01\",\"2019-04-01\",\"2019-05-01\",\"2019-06-01\",\"2019-07-01\",\"2019-08-01\",\"2019-09-01\",\"2019-10-01\",\"2019-11-01\",\"2019-12-01\",\"2020-01-01\",\"2020-02-01\",\"2020-03-01\",\"2020-04-01\",\"2020-05-01\",\"2020-06-01\",\"2020-07-01\",\"2020-08-01\",\"2020-09-01\",\"2020-10-01\",\"2020-11-01\",\"2020-12-01\",\"2021-01-01\",\"2021-02-01\",\"2021-03-01\",\"2021-04-01\",\"2021-05-01\",\"2021-06-01\",\"2021-07-01\",\"2021-08-01\",\"2021-09-01\",\"2021-10-01\",\"2021-11-01\",\"2021-12-01\",\"2022-01-01\",\"2022-02-01\",\"2022-03-01\",\"2022-04-01\",\"2022-05-01\",\"2022-06-01\",\"2022-07-01\",\"2022-08-01\",\"2022-09-01\",\"2022-10-01\",\"2022-11-01\",\"2022-12-01\",\"2023-01-01\",\"2023-02-01\",\"2023-03-01\",\"2023-04-01\",\"2023-05-01\",\"2023-06-01\",\"2023-07-01\",\"2023-08-01\",\"2023-09-01\",\"2023-10-01\",\"2023-11-01\",\"2023-12-01\",\"2024-01-01\",\"2024-02-01\"],\"y\":[1.006115436553955,1.0119268894195557,1.0068188905715942,1.0076963901519775,1.0118045806884766,1.0162379741668701,1.0110238790512085,1.0111068487167358,1.008142352104187,1.0087521076202393,1.0137587785720825,1.010008692741394,1.0121691226959229,1.0081322193145752,1.0063527822494507,1.0086654424667358,1.0093830823898315,1.010000467300415,1.009755253791809,1.0093793869018555,1.0094307661056519,1.0123907327651978,1.0109388828277588,1.009724736213684,1.0151774883270264,1.0100454092025757,1.0166932344436646,1.014618992805481,1.0088634490966797,1.0089892148971558,1.0106717348098755,1.0113366842269897,1.0116081237792969,1.0149272680282593,1.0095411539077759,1.010883092880249,1.0103486776351929,1.0139652490615845,1.0152069330215454,1.0095359086990356,1.009945034980774,1.013337254524231,1.0133237838745117,1.0113916397094727,1.015456199645996,1.00851309299469,1.0101795196533203,1.0096098184585571,1.009971261024475,1.0093642473220825,1.0135722160339355,1.0107766389846802,1.0122517347335815,1.0175180435180664,1.0132545232772827,1.013783574104309,1.0077723264694214,1.0094257593154907,1.0106221437454224,1.0083818435668945,1.0059707164764404,3.633164644241333,1.0100661516189575,1.0084490776062012,1.006527066230774,1.0089702606201172,1.0161508321762085,1.0125482082366943,1.0171369314193726,1.0112837553024292,1.0101388692855835,1.0093947649002075,1.0075820684432983,1.012708306312561,1.0109401941299438,1.0237220525741577,1.0121926069259644,1.0075615644454956,1.010944128036499,1.01815927028656,1.012449860572815,1.0095033645629883,1.013512372970581,1.008059024810791,1.0083779096603394,1.0097503662109375,1.01120126247406,1.0124868154525757,1.0130043029785156,1.0102909803390503,1.012095332145691,1.0124430656433105,1.0086942911148071,1.0096347332000732,1.011622428894043,1.0093719959259033,1.0073878765106201,1.0117624998092651,1.0095611810684204,1.0067648887634277,1.009788990020752,1.0046271085739136,1.0155043601989746,1.0083949565887451,1.007340431213379,1.0103405714035034,1.0048524141311646,1.010183334350586,1.0086705684661865,1.0079801082611084,1.0113747119903564,1.0129250288009644,1.0081353187561035,1.0097033977508545,1.0134283304214478,1.0114868879318237,1.0108352899551392,1.0136842727661133,1.0145692825317383,1.0133461952209473,1.0115973949432373,1.0119552612304688,1.015607476234436,1.0174849033355713,1.0099202394485474,1.0096209049224854,1.0126957893371582,1.0129504203796387,1.0144678354263306,1.005789041519165,1.0096338987350464,1.0098788738250732,1.0095467567443848,1.0155847072601318,1.0128287076950073,1.0151944160461426,1.0073074102401733,1.0103245973587036,1.01157546043396,1.0138907432556152,1.0097784996032715,1.0095059871673584,1.0087648630142212,1.0051915645599365,1.104478120803833,1.007493019104004,1.0148200988769531,1.0078791379928589,1.016785979270935,1.0105210542678833,1.0090773105621338,1.01485276222229,1.013331413269043,1.0183848142623901,1.012885570526123,1.00516676902771,1.0088982582092285,0.9944499135017395,0.9566547870635986,1.0077437162399292,1.0111953020095825,1.0090805292129517,1.0089360475540161,1.0092799663543701,1.0064661502838135,1.014068841934204,1.013457179069519,1.0118203163146973,1.008836269378662,1.0145939588546753,1.0075231790542603,1.0130082368850708,1.0092525482177734,1.0099197626113892,1.0075314044952393,1.0114065408706665,1.0149798393249512,1.0145057439804077,1.00862717628479,1.018428921699524,1.015507698059082,1.0101882219314575,1.0130959749221802,1.0118143558502197,1.0072534084320068,1.0148588418960571,1.0047743320465088,1.010102391242981,1.009382724761963,1.0100719928741455,1.0112040042877197,1.0126404762268066,1.0125430822372437,1.0103075504302979,1.0043525695800781,1.0103538036346436,1.0067116022109985,1.0098938941955566,1.0043872594833374,1.1167324781417847,1.0120748281478882,1.0102864503860474,1.0178053379058838,1.0133298635482788,1.0105277299880981,1.0067192316055298,1.0127891302108765,1.0139331817626953,1.0076645612716675,1.0078601837158203,1.009997010231018,1.0092904567718506,1.0127177238464355,1.0102155208587646,1.0105195045471191,1.0128135681152344,1.011338233947754,1.0093250274658203,1.0096485614776611,1.0094441175460815,1.0138458013534546,1.0050345659255981,1.0051730871200562,1.0132473707199097,1.0107929706573486,1.017412543296814,1.0077382326126099,1.0048606395721436,1.009196162223816,1.014829397201538,1.0059562921524048,1.005614161491394,1.0128426551818848,1.0079562664031982,1.01160728931427,1.0082528591156006,1.0150501728057861,1.0073496103286743,1.0057682991027832,1.0085289478302002,1.0110220909118652,1.0097713470458984,1.012600302696228,1.0059083700180054,1.0100226402282715,1.0073140859603882,1.017022967338562,1.0134555101394653,1.0150843858718872,1.0079600811004639,1.0111461877822876,1.0099717378616333,1.0097342729568481,1.0131125450134277,1.0096014738082886,1.0157548189163208,1.0109156370162964,1.0092250108718872,1.0110318660736084,1.0070761442184448,1.0704267024993896,1.0117003917694092,1.006203532218933,1.0099676847457886,1.0141290426254272,1.0117568969726562,1.008437156677246,1.007477045059204,1.0117383003234863,1.0044567584991455,1.0083705186843872,1.0190092325210571,1.0111708641052246,1.0082838535308838,1.016218900680542,1.0133079290390015,1.015417456626892,1.0160552263259888,1.0112766027450562,1.0092815160751343,1.0126603841781616],\"type\":\"scatter\"},{\"line\":{\"color\":\"green\",\"width\":2},\"mode\":\"lines\",\"name\":\"Test returns\",\"x\":[\"2024-02-01\",\"2024-03-01\",\"2024-04-01\",\"2024-05-01\",\"2024-06-01\",\"2024-07-01\",\"2024-08-01\"],\"y\":[1.0126603841781616,0.9725434184074402],\"type\":\"scatter\"}],                        {\"template\":{\"data\":{\"barpolar\":[{\"marker\":{\"line\":{\"color\":\"white\",\"width\":0.5},\"pattern\":{\"fillmode\":\"overlay\",\"size\":10,\"solidity\":0.2}},\"type\":\"barpolar\"}],\"bar\":[{\"error_x\":{\"color\":\"#2a3f5f\"},\"error_y\":{\"color\":\"#2a3f5f\"},\"marker\":{\"line\":{\"color\":\"white\",\"width\":0.5},\"pattern\":{\"fillmode\":\"overlay\",\"size\":10,\"solidity\":0.2}},\"type\":\"bar\"}],\"carpet\":[{\"aaxis\":{\"endlinecolor\":\"#2a3f5f\",\"gridcolor\":\"#C8D4E3\",\"linecolor\":\"#C8D4E3\",\"minorgridcolor\":\"#C8D4E3\",\"startlinecolor\":\"#2a3f5f\"},\"baxis\":{\"endlinecolor\":\"#2a3f5f\",\"gridcolor\":\"#C8D4E3\",\"linecolor\":\"#C8D4E3\",\"minorgridcolor\":\"#C8D4E3\",\"startlinecolor\":\"#2a3f5f\"},\"type\":\"carpet\"}],\"choropleth\":[{\"colorbar\":{\"outlinewidth\":0,\"ticks\":\"\"},\"type\":\"choropleth\"}],\"contourcarpet\":[{\"colorbar\":{\"outlinewidth\":0,\"ticks\":\"\"},\"type\":\"contourcarpet\"}],\"contour\":[{\"colorbar\":{\"outlinewidth\":0,\"ticks\":\"\"},\"colorscale\":[[0.0,\"#0d0887\"],[0.1111111111111111,\"#46039f\"],[0.2222222222222222,\"#7201a8\"],[0.3333333333333333,\"#9c179e\"],[0.4444444444444444,\"#bd3786\"],[0.5555555555555556,\"#d8576b\"],[0.6666666666666666,\"#ed7953\"],[0.7777777777777778,\"#fb9f3a\"],[0.8888888888888888,\"#fdca26\"],[1.0,\"#f0f921\"]],\"type\":\"contour\"}],\"heatmapgl\":[{\"colorbar\":{\"outlinewidth\":0,\"ticks\":\"\"},\"colorscale\":[[0.0,\"#0d0887\"],[0.1111111111111111,\"#46039f\"],[0.2222222222222222,\"#7201a8\"],[0.3333333333333333,\"#9c179e\"],[0.4444444444444444,\"#bd3786\"],[0.5555555555555556,\"#d8576b\"],[0.6666666666666666,\"#ed7953\"],[0.7777777777777778,\"#fb9f3a\"],[0.8888888888888888,\"#fdca26\"],[1.0,\"#f0f921\"]],\"type\":\"heatmapgl\"}],\"heatmap\":[{\"colorbar\":{\"outlinewidth\":0,\"ticks\":\"\"},\"colorscale\":[[0.0,\"#0d0887\"],[0.1111111111111111,\"#46039f\"],[0.2222222222222222,\"#7201a8\"],[0.3333333333333333,\"#9c179e\"],[0.4444444444444444,\"#bd3786\"],[0.5555555555555556,\"#d8576b\"],[0.6666666666666666,\"#ed7953\"],[0.7777777777777778,\"#fb9f3a\"],[0.8888888888888888,\"#fdca26\"],[1.0,\"#f0f921\"]],\"type\":\"heatmap\"}],\"histogram2dcontour\":[{\"colorbar\":{\"outlinewidth\":0,\"ticks\":\"\"},\"colorscale\":[[0.0,\"#0d0887\"],[0.1111111111111111,\"#46039f\"],[0.2222222222222222,\"#7201a8\"],[0.3333333333333333,\"#9c179e\"],[0.4444444444444444,\"#bd3786\"],[0.5555555555555556,\"#d8576b\"],[0.6666666666666666,\"#ed7953\"],[0.7777777777777778,\"#fb9f3a\"],[0.8888888888888888,\"#fdca26\"],[1.0,\"#f0f921\"]],\"type\":\"histogram2dcontour\"}],\"histogram2d\":[{\"colorbar\":{\"outlinewidth\":0,\"ticks\":\"\"},\"colorscale\":[[0.0,\"#0d0887\"],[0.1111111111111111,\"#46039f\"],[0.2222222222222222,\"#7201a8\"],[0.3333333333333333,\"#9c179e\"],[0.4444444444444444,\"#bd3786\"],[0.5555555555555556,\"#d8576b\"],[0.6666666666666666,\"#ed7953\"],[0.7777777777777778,\"#fb9f3a\"],[0.8888888888888888,\"#fdca26\"],[1.0,\"#f0f921\"]],\"type\":\"histogram2d\"}],\"histogram\":[{\"marker\":{\"pattern\":{\"fillmode\":\"overlay\",\"size\":10,\"solidity\":0.2}},\"type\":\"histogram\"}],\"mesh3d\":[{\"colorbar\":{\"outlinewidth\":0,\"ticks\":\"\"},\"type\":\"mesh3d\"}],\"parcoords\":[{\"line\":{\"colorbar\":{\"outlinewidth\":0,\"ticks\":\"\"}},\"type\":\"parcoords\"}],\"pie\":[{\"automargin\":true,\"type\":\"pie\"}],\"scatter3d\":[{\"line\":{\"colorbar\":{\"outlinewidth\":0,\"ticks\":\"\"}},\"marker\":{\"colorbar\":{\"outlinewidth\":0,\"ticks\":\"\"}},\"type\":\"scatter3d\"}],\"scattercarpet\":[{\"marker\":{\"colorbar\":{\"outlinewidth\":0,\"ticks\":\"\"}},\"type\":\"scattercarpet\"}],\"scattergeo\":[{\"marker\":{\"colorbar\":{\"outlinewidth\":0,\"ticks\":\"\"}},\"type\":\"scattergeo\"}],\"scattergl\":[{\"marker\":{\"colorbar\":{\"outlinewidth\":0,\"ticks\":\"\"}},\"type\":\"scattergl\"}],\"scattermapbox\":[{\"marker\":{\"colorbar\":{\"outlinewidth\":0,\"ticks\":\"\"}},\"type\":\"scattermapbox\"}],\"scatterpolargl\":[{\"marker\":{\"colorbar\":{\"outlinewidth\":0,\"ticks\":\"\"}},\"type\":\"scatterpolargl\"}],\"scatterpolar\":[{\"marker\":{\"colorbar\":{\"outlinewidth\":0,\"ticks\":\"\"}},\"type\":\"scatterpolar\"}],\"scatter\":[{\"fillpattern\":{\"fillmode\":\"overlay\",\"size\":10,\"solidity\":0.2},\"type\":\"scatter\"}],\"scatterternary\":[{\"marker\":{\"colorbar\":{\"outlinewidth\":0,\"ticks\":\"\"}},\"type\":\"scatterternary\"}],\"surface\":[{\"colorbar\":{\"outlinewidth\":0,\"ticks\":\"\"},\"colorscale\":[[0.0,\"#0d0887\"],[0.1111111111111111,\"#46039f\"],[0.2222222222222222,\"#7201a8\"],[0.3333333333333333,\"#9c179e\"],[0.4444444444444444,\"#bd3786\"],[0.5555555555555556,\"#d8576b\"],[0.6666666666666666,\"#ed7953\"],[0.7777777777777778,\"#fb9f3a\"],[0.8888888888888888,\"#fdca26\"],[1.0,\"#f0f921\"]],\"type\":\"surface\"}],\"table\":[{\"cells\":{\"fill\":{\"color\":\"#EBF0F8\"},\"line\":{\"color\":\"white\"}},\"header\":{\"fill\":{\"color\":\"#C8D4E3\"},\"line\":{\"color\":\"white\"}},\"type\":\"table\"}]},\"layout\":{\"annotationdefaults\":{\"arrowcolor\":\"#2a3f5f\",\"arrowhead\":0,\"arrowwidth\":1},\"autotypenumbers\":\"strict\",\"coloraxis\":{\"colorbar\":{\"outlinewidth\":0,\"ticks\":\"\"}},\"colorscale\":{\"diverging\":[[0,\"#8e0152\"],[0.1,\"#c51b7d\"],[0.2,\"#de77ae\"],[0.3,\"#f1b6da\"],[0.4,\"#fde0ef\"],[0.5,\"#f7f7f7\"],[0.6,\"#e6f5d0\"],[0.7,\"#b8e186\"],[0.8,\"#7fbc41\"],[0.9,\"#4d9221\"],[1,\"#276419\"]],\"sequential\":[[0.0,\"#0d0887\"],[0.1111111111111111,\"#46039f\"],[0.2222222222222222,\"#7201a8\"],[0.3333333333333333,\"#9c179e\"],[0.4444444444444444,\"#bd3786\"],[0.5555555555555556,\"#d8576b\"],[0.6666666666666666,\"#ed7953\"],[0.7777777777777778,\"#fb9f3a\"],[0.8888888888888888,\"#fdca26\"],[1.0,\"#f0f921\"]],\"sequentialminus\":[[0.0,\"#0d0887\"],[0.1111111111111111,\"#46039f\"],[0.2222222222222222,\"#7201a8\"],[0.3333333333333333,\"#9c179e\"],[0.4444444444444444,\"#bd3786\"],[0.5555555555555556,\"#d8576b\"],[0.6666666666666666,\"#ed7953\"],[0.7777777777777778,\"#fb9f3a\"],[0.8888888888888888,\"#fdca26\"],[1.0,\"#f0f921\"]]},\"colorway\":[\"#636efa\",\"#EF553B\",\"#00cc96\",\"#ab63fa\",\"#FFA15A\",\"#19d3f3\",\"#FF6692\",\"#B6E880\",\"#FF97FF\",\"#FECB52\"],\"font\":{\"color\":\"#2a3f5f\"},\"geo\":{\"bgcolor\":\"white\",\"lakecolor\":\"white\",\"landcolor\":\"white\",\"showlakes\":true,\"showland\":true,\"subunitcolor\":\"#C8D4E3\"},\"hoverlabel\":{\"align\":\"left\"},\"hovermode\":\"closest\",\"mapbox\":{\"style\":\"light\"},\"paper_bgcolor\":\"white\",\"plot_bgcolor\":\"white\",\"polar\":{\"angularaxis\":{\"gridcolor\":\"#EBF0F8\",\"linecolor\":\"#EBF0F8\",\"ticks\":\"\"},\"bgcolor\":\"white\",\"radialaxis\":{\"gridcolor\":\"#EBF0F8\",\"linecolor\":\"#EBF0F8\",\"ticks\":\"\"}},\"scene\":{\"xaxis\":{\"backgroundcolor\":\"white\",\"gridcolor\":\"#DFE8F3\",\"gridwidth\":2,\"linecolor\":\"#EBF0F8\",\"showbackground\":true,\"ticks\":\"\",\"zerolinecolor\":\"#EBF0F8\"},\"yaxis\":{\"backgroundcolor\":\"white\",\"gridcolor\":\"#DFE8F3\",\"gridwidth\":2,\"linecolor\":\"#EBF0F8\",\"showbackground\":true,\"ticks\":\"\",\"zerolinecolor\":\"#EBF0F8\"},\"zaxis\":{\"backgroundcolor\":\"white\",\"gridcolor\":\"#DFE8F3\",\"gridwidth\":2,\"linecolor\":\"#EBF0F8\",\"showbackground\":true,\"ticks\":\"\",\"zerolinecolor\":\"#EBF0F8\"}},\"shapedefaults\":{\"line\":{\"color\":\"#2a3f5f\"}},\"ternary\":{\"aaxis\":{\"gridcolor\":\"#DFE8F3\",\"linecolor\":\"#A2B1C6\",\"ticks\":\"\"},\"baxis\":{\"gridcolor\":\"#DFE8F3\",\"linecolor\":\"#A2B1C6\",\"ticks\":\"\"},\"bgcolor\":\"white\",\"caxis\":{\"gridcolor\":\"#DFE8F3\",\"linecolor\":\"#A2B1C6\",\"ticks\":\"\"}},\"title\":{\"x\":0.05},\"xaxis\":{\"automargin\":true,\"gridcolor\":\"#EBF0F8\",\"linecolor\":\"#EBF0F8\",\"ticks\":\"\",\"title\":{\"standoff\":15},\"zerolinecolor\":\"#EBF0F8\",\"zerolinewidth\":2},\"yaxis\":{\"automargin\":true,\"gridcolor\":\"#EBF0F8\",\"linecolor\":\"#EBF0F8\",\"ticks\":\"\",\"title\":{\"standoff\":15},\"zerolinecolor\":\"#EBF0F8\",\"zerolinewidth\":2}}},\"shapes\":[{\"line\":{\"color\":\"red\",\"dash\":\"dash\",\"width\":1},\"type\":\"line\",\"x0\":\"2024-07-01\",\"x1\":\"2024-07-01\",\"xref\":\"x\",\"y0\":0,\"y1\":1,\"yref\":\"y domain\"}],\"yaxis\":{\"title\":{\"text\":\"Day closing return (%)\"},\"tickformat\":\".0%\",\"range\":[0.75,1.6]},\"title\":{\"text\":\"1 Month Prediction vs Actual Plot\"},\"xaxis\":{\"title\":{\"text\":\"Date\"}},\"legend\":{\"title\":{\"text\":\"Legend\"}}},                        {\"responsive\": true}                    ).then(function(){\n",
       "                            \n",
       "var gd = document.getElementById('8013ea98-09b0-462f-948a-49d910472278');\n",
       "var x = new MutationObserver(function (mutations, observer) {{\n",
       "        var display = window.getComputedStyle(gd).display;\n",
       "        if (!display || display === 'none') {{\n",
       "            console.log([gd, 'removed!']);\n",
       "            Plotly.purge(gd);\n",
       "            observer.disconnect();\n",
       "        }}\n",
       "}});\n",
       "\n",
       "// Listen for the removal of the full notebook cells\n",
       "var notebookContainer = gd.closest('#notebook-container');\n",
       "if (notebookContainer) {{\n",
       "    x.observe(notebookContainer, {childList: true});\n",
       "}}\n",
       "\n",
       "// Listen for the clearing of the current output cell\n",
       "var outputEl = gd.closest('.output');\n",
       "if (outputEl) {{\n",
       "    x.observe(outputEl, {childList: true});\n",
       "}}\n",
       "\n",
       "                        })                };                });            </script>        </div>"
      ]
     },
     "metadata": {},
     "output_type": "display_data"
    }
   ],
   "execution_count": 59
  },
  {
   "metadata": {},
   "cell_type": "markdown",
   "source": "#### Overview",
   "id": "1148da093550c989"
  },
  {
   "metadata": {
    "ExecuteTime": {
     "end_time": "2025-04-09T18:16:54.710391Z",
     "start_time": "2025-04-08T22:06:53.395903Z"
    }
   },
   "cell_type": "code",
   "source": [
    "# Get train true values followed with predicted month/s\n",
    "y_train_6m_list = y_train_6m['m_return_target(t+6)'].tolist()\n",
    "y_test_6m_list = y_test_pred_6m.tolist()\n",
    "#\n",
    "df_to_evaluate_6m = comparison.get_df_from_pred_list(df, y_train_1m_list, y_test_1m_list)\n",
    "df_to_evaluate_6m = df_to_evaluate_6m - 1\n",
    "df_to_evaluate_6m"
   ],
   "id": "d761352c52ff61eb",
   "outputs": [
    {
     "data": {
      "text/plain": [
       "        RS1.L       KE    TEG.DE    LEG.DE       SCS       HNI       AVT  \\\n",
       "0    0.000000  0.00000 -0.100000  0.000000 -0.230000  0.010000 -0.340000   \n",
       "1    0.000000  0.00000  0.000000 -0.060000  0.030000  0.050000  0.220000   \n",
       "2    0.010000  0.00000  0.550000  0.040000  0.090000 -0.020000  0.280000   \n",
       "3    0.000000 -0.03000  0.090000 -0.130000 -0.050000 -0.010000 -0.110000   \n",
       "4    0.000000  0.00000 -0.060000  0.000000 -0.150000 -0.070000 -0.160000   \n",
       "..        ...      ...       ...       ...       ...       ...       ...   \n",
       "282 -0.050000  0.10000  0.060000  0.020000  0.140000  0.120000  0.120000   \n",
       "283  0.000000 -0.04000 -0.040000 -0.030000 -0.050000 -0.040000 -0.060000   \n",
       "284  0.190000  0.08000  0.020000  0.060000  0.120000  0.220000  0.050000   \n",
       "285 -0.040000 -0.22000  0.060000  0.080000 -0.020000 -0.020000  0.030000   \n",
       "286 -0.344001 -0.41191 -0.408688 -0.529018 -0.362455 -0.231148 -0.384217   \n",
       "\n",
       "         ACCO   VNA.DE    7912.T  ...    DEQ.DE      KIDS      HALO      MATW  \\\n",
       "0    0.000000  0.00000 -0.060000  ...  0.000000  0.000000  0.000000  0.070000   \n",
       "1    0.000000 -0.04000  0.050000  ...  0.000000  0.000000  0.000000  0.090000   \n",
       "2   -0.080000  0.02000 -0.060000  ...  0.000000  0.290000 -0.090000 -0.020000   \n",
       "3   -0.020000 -0.10000 -0.080000  ... -0.480000  0.000000  0.000000  0.010000   \n",
       "4    0.000000  0.00000  0.020000  ...  1.180000  0.000000  0.000000  0.050000   \n",
       "..        ...      ...       ...  ...       ...       ...       ...       ...   \n",
       "282  0.060000  0.06000  0.060000  ...  0.090000  0.070000  0.160000  0.050000   \n",
       "283 -0.060000 -0.05000  0.110000  ...  0.070000 -0.090000  0.180000 -0.110000   \n",
       "284  0.090000  0.07000 -0.080000  ...  0.100000  0.070000  0.060000  0.160000   \n",
       "285  0.070000  0.10000  0.060000  ... -0.050000  0.040000  0.160000 -0.130000   \n",
       "286 -0.523186 -0.52668 -0.463763  ...  0.008081 -0.253088  0.006601 -0.618518   \n",
       "\n",
       "       9842.T      KVHI   MOON.L      NEO    6055.T       UNP  \n",
       "0    0.000000 -0.340000  0.00000  0.00000  0.000000 -0.010000  \n",
       "1    0.000000 -0.160000  0.00000  0.00000  0.000000  0.090000  \n",
       "2   -0.040000  0.690000 -0.14000 -0.24000  0.000000  0.050000  \n",
       "3    0.000000 -0.260000  0.00000  0.00000  0.000000  0.040000  \n",
       "4    0.000000  0.150000  0.00000  0.00000  0.000000  0.020000  \n",
       "..        ...       ...      ...      ...       ...       ...  \n",
       "282 -0.010000  0.080000  0.03000 -0.02000 -0.140000 -0.020000  \n",
       "283  0.010000 -0.100000  0.19000  0.01000  0.140000 -0.020000  \n",
       "284 -0.060000 -0.040000  0.14000  0.28000 -0.100000  0.090000  \n",
       "285 -0.040000  0.000000 -0.03000 -0.07000 -0.110000  0.040000  \n",
       "286 -0.243525 -0.404959  0.11336 -0.39337 -0.026505 -0.260589  \n",
       "\n",
       "[287 rows x 1653 columns]"
      ],
      "text/html": [
       "<div>\n",
       "<style scoped>\n",
       "    .dataframe tbody tr th:only-of-type {\n",
       "        vertical-align: middle;\n",
       "    }\n",
       "\n",
       "    .dataframe tbody tr th {\n",
       "        vertical-align: top;\n",
       "    }\n",
       "\n",
       "    .dataframe thead th {\n",
       "        text-align: right;\n",
       "    }\n",
       "</style>\n",
       "<table border=\"1\" class=\"dataframe\">\n",
       "  <thead>\n",
       "    <tr style=\"text-align: right;\">\n",
       "      <th></th>\n",
       "      <th>RS1.L</th>\n",
       "      <th>KE</th>\n",
       "      <th>TEG.DE</th>\n",
       "      <th>LEG.DE</th>\n",
       "      <th>SCS</th>\n",
       "      <th>HNI</th>\n",
       "      <th>AVT</th>\n",
       "      <th>ACCO</th>\n",
       "      <th>VNA.DE</th>\n",
       "      <th>7912.T</th>\n",
       "      <th>...</th>\n",
       "      <th>DEQ.DE</th>\n",
       "      <th>KIDS</th>\n",
       "      <th>HALO</th>\n",
       "      <th>MATW</th>\n",
       "      <th>9842.T</th>\n",
       "      <th>KVHI</th>\n",
       "      <th>MOON.L</th>\n",
       "      <th>NEO</th>\n",
       "      <th>6055.T</th>\n",
       "      <th>UNP</th>\n",
       "    </tr>\n",
       "  </thead>\n",
       "  <tbody>\n",
       "    <tr>\n",
       "      <th>0</th>\n",
       "      <td>0.000000</td>\n",
       "      <td>0.00000</td>\n",
       "      <td>-0.100000</td>\n",
       "      <td>0.000000</td>\n",
       "      <td>-0.230000</td>\n",
       "      <td>0.010000</td>\n",
       "      <td>-0.340000</td>\n",
       "      <td>0.000000</td>\n",
       "      <td>0.00000</td>\n",
       "      <td>-0.060000</td>\n",
       "      <td>...</td>\n",
       "      <td>0.000000</td>\n",
       "      <td>0.000000</td>\n",
       "      <td>0.000000</td>\n",
       "      <td>0.070000</td>\n",
       "      <td>0.000000</td>\n",
       "      <td>-0.340000</td>\n",
       "      <td>0.00000</td>\n",
       "      <td>0.00000</td>\n",
       "      <td>0.000000</td>\n",
       "      <td>-0.010000</td>\n",
       "    </tr>\n",
       "    <tr>\n",
       "      <th>1</th>\n",
       "      <td>0.000000</td>\n",
       "      <td>0.00000</td>\n",
       "      <td>0.000000</td>\n",
       "      <td>-0.060000</td>\n",
       "      <td>0.030000</td>\n",
       "      <td>0.050000</td>\n",
       "      <td>0.220000</td>\n",
       "      <td>0.000000</td>\n",
       "      <td>-0.04000</td>\n",
       "      <td>0.050000</td>\n",
       "      <td>...</td>\n",
       "      <td>0.000000</td>\n",
       "      <td>0.000000</td>\n",
       "      <td>0.000000</td>\n",
       "      <td>0.090000</td>\n",
       "      <td>0.000000</td>\n",
       "      <td>-0.160000</td>\n",
       "      <td>0.00000</td>\n",
       "      <td>0.00000</td>\n",
       "      <td>0.000000</td>\n",
       "      <td>0.090000</td>\n",
       "    </tr>\n",
       "    <tr>\n",
       "      <th>2</th>\n",
       "      <td>0.010000</td>\n",
       "      <td>0.00000</td>\n",
       "      <td>0.550000</td>\n",
       "      <td>0.040000</td>\n",
       "      <td>0.090000</td>\n",
       "      <td>-0.020000</td>\n",
       "      <td>0.280000</td>\n",
       "      <td>-0.080000</td>\n",
       "      <td>0.02000</td>\n",
       "      <td>-0.060000</td>\n",
       "      <td>...</td>\n",
       "      <td>0.000000</td>\n",
       "      <td>0.290000</td>\n",
       "      <td>-0.090000</td>\n",
       "      <td>-0.020000</td>\n",
       "      <td>-0.040000</td>\n",
       "      <td>0.690000</td>\n",
       "      <td>-0.14000</td>\n",
       "      <td>-0.24000</td>\n",
       "      <td>0.000000</td>\n",
       "      <td>0.050000</td>\n",
       "    </tr>\n",
       "    <tr>\n",
       "      <th>3</th>\n",
       "      <td>0.000000</td>\n",
       "      <td>-0.03000</td>\n",
       "      <td>0.090000</td>\n",
       "      <td>-0.130000</td>\n",
       "      <td>-0.050000</td>\n",
       "      <td>-0.010000</td>\n",
       "      <td>-0.110000</td>\n",
       "      <td>-0.020000</td>\n",
       "      <td>-0.10000</td>\n",
       "      <td>-0.080000</td>\n",
       "      <td>...</td>\n",
       "      <td>-0.480000</td>\n",
       "      <td>0.000000</td>\n",
       "      <td>0.000000</td>\n",
       "      <td>0.010000</td>\n",
       "      <td>0.000000</td>\n",
       "      <td>-0.260000</td>\n",
       "      <td>0.00000</td>\n",
       "      <td>0.00000</td>\n",
       "      <td>0.000000</td>\n",
       "      <td>0.040000</td>\n",
       "    </tr>\n",
       "    <tr>\n",
       "      <th>4</th>\n",
       "      <td>0.000000</td>\n",
       "      <td>0.00000</td>\n",
       "      <td>-0.060000</td>\n",
       "      <td>0.000000</td>\n",
       "      <td>-0.150000</td>\n",
       "      <td>-0.070000</td>\n",
       "      <td>-0.160000</td>\n",
       "      <td>0.000000</td>\n",
       "      <td>0.00000</td>\n",
       "      <td>0.020000</td>\n",
       "      <td>...</td>\n",
       "      <td>1.180000</td>\n",
       "      <td>0.000000</td>\n",
       "      <td>0.000000</td>\n",
       "      <td>0.050000</td>\n",
       "      <td>0.000000</td>\n",
       "      <td>0.150000</td>\n",
       "      <td>0.00000</td>\n",
       "      <td>0.00000</td>\n",
       "      <td>0.000000</td>\n",
       "      <td>0.020000</td>\n",
       "    </tr>\n",
       "    <tr>\n",
       "      <th>...</th>\n",
       "      <td>...</td>\n",
       "      <td>...</td>\n",
       "      <td>...</td>\n",
       "      <td>...</td>\n",
       "      <td>...</td>\n",
       "      <td>...</td>\n",
       "      <td>...</td>\n",
       "      <td>...</td>\n",
       "      <td>...</td>\n",
       "      <td>...</td>\n",
       "      <td>...</td>\n",
       "      <td>...</td>\n",
       "      <td>...</td>\n",
       "      <td>...</td>\n",
       "      <td>...</td>\n",
       "      <td>...</td>\n",
       "      <td>...</td>\n",
       "      <td>...</td>\n",
       "      <td>...</td>\n",
       "      <td>...</td>\n",
       "      <td>...</td>\n",
       "    </tr>\n",
       "    <tr>\n",
       "      <th>282</th>\n",
       "      <td>-0.050000</td>\n",
       "      <td>0.10000</td>\n",
       "      <td>0.060000</td>\n",
       "      <td>0.020000</td>\n",
       "      <td>0.140000</td>\n",
       "      <td>0.120000</td>\n",
       "      <td>0.120000</td>\n",
       "      <td>0.060000</td>\n",
       "      <td>0.06000</td>\n",
       "      <td>0.060000</td>\n",
       "      <td>...</td>\n",
       "      <td>0.090000</td>\n",
       "      <td>0.070000</td>\n",
       "      <td>0.160000</td>\n",
       "      <td>0.050000</td>\n",
       "      <td>-0.010000</td>\n",
       "      <td>0.080000</td>\n",
       "      <td>0.03000</td>\n",
       "      <td>-0.02000</td>\n",
       "      <td>-0.140000</td>\n",
       "      <td>-0.020000</td>\n",
       "    </tr>\n",
       "    <tr>\n",
       "      <th>283</th>\n",
       "      <td>0.000000</td>\n",
       "      <td>-0.04000</td>\n",
       "      <td>-0.040000</td>\n",
       "      <td>-0.030000</td>\n",
       "      <td>-0.050000</td>\n",
       "      <td>-0.040000</td>\n",
       "      <td>-0.060000</td>\n",
       "      <td>-0.060000</td>\n",
       "      <td>-0.05000</td>\n",
       "      <td>0.110000</td>\n",
       "      <td>...</td>\n",
       "      <td>0.070000</td>\n",
       "      <td>-0.090000</td>\n",
       "      <td>0.180000</td>\n",
       "      <td>-0.110000</td>\n",
       "      <td>0.010000</td>\n",
       "      <td>-0.100000</td>\n",
       "      <td>0.19000</td>\n",
       "      <td>0.01000</td>\n",
       "      <td>0.140000</td>\n",
       "      <td>-0.020000</td>\n",
       "    </tr>\n",
       "    <tr>\n",
       "      <th>284</th>\n",
       "      <td>0.190000</td>\n",
       "      <td>0.08000</td>\n",
       "      <td>0.020000</td>\n",
       "      <td>0.060000</td>\n",
       "      <td>0.120000</td>\n",
       "      <td>0.220000</td>\n",
       "      <td>0.050000</td>\n",
       "      <td>0.090000</td>\n",
       "      <td>0.07000</td>\n",
       "      <td>-0.080000</td>\n",
       "      <td>...</td>\n",
       "      <td>0.100000</td>\n",
       "      <td>0.070000</td>\n",
       "      <td>0.060000</td>\n",
       "      <td>0.160000</td>\n",
       "      <td>-0.060000</td>\n",
       "      <td>-0.040000</td>\n",
       "      <td>0.14000</td>\n",
       "      <td>0.28000</td>\n",
       "      <td>-0.100000</td>\n",
       "      <td>0.090000</td>\n",
       "    </tr>\n",
       "    <tr>\n",
       "      <th>285</th>\n",
       "      <td>-0.040000</td>\n",
       "      <td>-0.22000</td>\n",
       "      <td>0.060000</td>\n",
       "      <td>0.080000</td>\n",
       "      <td>-0.020000</td>\n",
       "      <td>-0.020000</td>\n",
       "      <td>0.030000</td>\n",
       "      <td>0.070000</td>\n",
       "      <td>0.10000</td>\n",
       "      <td>0.060000</td>\n",
       "      <td>...</td>\n",
       "      <td>-0.050000</td>\n",
       "      <td>0.040000</td>\n",
       "      <td>0.160000</td>\n",
       "      <td>-0.130000</td>\n",
       "      <td>-0.040000</td>\n",
       "      <td>0.000000</td>\n",
       "      <td>-0.03000</td>\n",
       "      <td>-0.07000</td>\n",
       "      <td>-0.110000</td>\n",
       "      <td>0.040000</td>\n",
       "    </tr>\n",
       "    <tr>\n",
       "      <th>286</th>\n",
       "      <td>-0.344001</td>\n",
       "      <td>-0.41191</td>\n",
       "      <td>-0.408688</td>\n",
       "      <td>-0.529018</td>\n",
       "      <td>-0.362455</td>\n",
       "      <td>-0.231148</td>\n",
       "      <td>-0.384217</td>\n",
       "      <td>-0.523186</td>\n",
       "      <td>-0.52668</td>\n",
       "      <td>-0.463763</td>\n",
       "      <td>...</td>\n",
       "      <td>0.008081</td>\n",
       "      <td>-0.253088</td>\n",
       "      <td>0.006601</td>\n",
       "      <td>-0.618518</td>\n",
       "      <td>-0.243525</td>\n",
       "      <td>-0.404959</td>\n",
       "      <td>0.11336</td>\n",
       "      <td>-0.39337</td>\n",
       "      <td>-0.026505</td>\n",
       "      <td>-0.260589</td>\n",
       "    </tr>\n",
       "  </tbody>\n",
       "</table>\n",
       "<p>287 rows × 1653 columns</p>\n",
       "</div>"
      ]
     },
     "execution_count": 60,
     "metadata": {},
     "output_type": "execute_result"
    }
   ],
   "execution_count": 60
  },
  {
   "metadata": {
    "ExecuteTime": {
     "end_time": "2025-04-09T18:16:54.710744Z",
     "start_time": "2025-04-08T22:06:53.822134Z"
    }
   },
   "cell_type": "code",
   "source": [
    "importlib.reload(comparison)\n",
    "df_pred_6m, raw_weights_6m, mu_6m, S_6m, sigma_6m, sharpe_6m = comparison.get_portfolio_performance(df_to_evaluate_6m,\n",
    "                                                                                                    \"xgbooster_weights_6m.csv\",\n",
    "                                                                                                    min_avg_return=-0.5,\n",
    "                                                                                                    months=12)\n",
    "comparison.create_discrete_allocation(df_pred_6m, raw_weights_6m)\n",
    "\n",
    "# Create overview\n",
    "df_view_6m = pd.DataFrame.from_dict(raw_weights_6m, orient='index', columns=['max_sharpe_weight'])\n",
    "# Extract volatilities (square root of diagonal elements)\n",
    "df_view_6m['avg_annual_volatility'] = pd.Series(np.sqrt(np.diag(S_6m)), index=S_6m.columns).values\n",
    "# Set annual returns\n",
    "df_view_6m['avg_annual_return'] = mu_6m.values\n",
    "#\n",
    "df_view_6m"
   ],
   "id": "b418720723786c",
   "outputs": [
    {
     "name": "stdout",
     "output_type": "stream",
     "text": [
      "Expected annual return: 80.4%\n",
      "Annual volatility: 54.6%\n",
      "Sharpe Ratio: 1.44\n",
      "Discrete allocation: {'CDW': 37924, '2379.T': 45, '6754.T': 32, 'ASGN': 381, 'GROW.L': 3, 'KFY': 982, 'KFRC': 1178, '7893.T': 46927, 'BMI': 461, 'EBOX.L': 107, 'NBS.L': 74, '7313.T': 63, '6098.T': 218, 'WPP.L': 50631, 'DNLM.L': 885, 'TEP.L': 434, 'ESRT': 911, 'ZBRA': 681, 'NYT': 293, 'SNWS.L': 201, 'INCH.L': 26, 'LAD': 82, '2146.T': 36, '8057.T': 73, '8151.T': 742, '7868.T': 86, 'CDP': 470, 'GOLF': 156, '7272.T': 23, 'RCH.L': 250, '7701.T': 1340, '2154.T': 16, 'NSIT': 507, 'CDNS': 138, 'VNT': 70, '7976.T': 59, 'WSM': 1054, 'FOXT.L': 205, '2124.T': 24, '4641.T': 41, 'LEA': 10340, '7762.T': 42, 'ANIK': 469, '5108.T': 25, '3107.T': 50, 'BBSI': 252, '8084.T': 570, '6701.T': 122, '4732.T': 36, 'JDG.L': 56, '6702.T': 65, '1925.T': 32, 'IVT': 16, '6448.T': 23, 'ESCA': 50, 'BKG.L': 132, '3462.T': 37, '6981.T': 29, '6436.T': 51407, 'HST': 346, '8035.T': 62, '7734.T': 122, 'UTG.L': 167, 'HOG': 103, 'UTMD': 403, 'CLMB': 495, 'SSP': 2, 'SMTC': 36, '7867.T': 291, 'WTS': 236, '6200.T': 165, 'AV.L': 582, 'BCPT.L': 3, 'GWRE': 183, 'PAG.L': 333, '2715.T': 105, 'ILM1.DE': 3, 'COMM': 3, 'ANET': 250, 'CCC.L': 13305, 'LOPE': 102, '7944.T': 2, 'CNXN': 123, 'FERG': 8903, 'STVG.L': 104, 'RL': 70, 'INVP.L': 304, 'BMY.L': 228, '8173.T': 97789, 'CENT': 62735, '6866.T': 641, '7433.T': 96, 'KBH': 371, 'MSFT': 1003, '8818.T': 627, 'NTAP': 1687, '8014.T': 355, 'HL.L': 21967, '7593.T': 51, '8953.T': 41, '7780.T': 167, 'KTB': 27260, '9332.T': 273, '4849.T': 72, 'CRM': 476, '4902.T': 19660, '8150.T': 85, 'BYIT.L': 38322, 'ZM': 308, 'COP.DE': 47, '4194.T': 95, '6703.T': 21, '3002.T': 11743, '2760.T': 18, '7250.T': 198, '3738.T': 242, 'JUP.L': 155, '4298.T': 52, '3281.T': 49, 'SFQ.DE': 42121, 'AEO': 74, 'DXC': 334, 'XHR': 85, '2475.T': 19, '3076.T': 119, 'WEYS': 171, '5970.T': 51, 'SCI': 237, '6857.T': 3731, 'CVLT': 709, 'NFLX': 1469, 'SEDG': 3, '5991.T': 248, 'PVH': 40, 'WHR.L': 3, '7974.T': 57, 'ICLR': 242, 'SHOO': 299, '8056.T': 50, '7832.T': 53, '1435.T': 50, '2733.T': 47, '7419.T': 115, '6745.T': 1187, 'VTU.L': 309, 'DORM': 231, '1928.T': 32, 'GWW': 467, '3003.T': 44, '7508.T': 133, 'WMG': 97, '2120.T': 76, '2429.T': 96, 'BGEO.L': 12, '6902.T': 28, 'MER.L': 475, '7296.T': 109, '3092.T': 55438, 'RVTY': 53607, 'XPP.L': 2, 'HLT': 322, '2784.T': 45, 'BKE': 42, '6859.T': 75, 'RHP': 146, '3231.T': 49, 'STRA': 260, '6762.T': 104, '3104.T': 63, 'PFGC': 58488, 'SOHO.L': 3, '7239.T': 517, '1911.T': 59, 'OPI': 3, 'PAYX': 16083, 'IHG.L': 1051, '6736.T': 3735, 'MEGP.L': 117, 'AAPL': 172, 'EVD.DE': 112, 'INTU': 331, 'DKS': 570, '9627.T': 944, '7600.T': 688, '6383.T': 33, 'ASHM.L': 405, '4452.T': 57, 'RLJ': 1059, '2491.T': 22, '8802.T': 47, '4751.T': 495, 'MEDP': 67, 'CAL': 49370, '1973.T': 36, '8439.T': 22, '7730.T': 42, '4619.T': 122, 'MONY.L': 43, 'CON.DE': 142, '9401.T': 62, '8079.T': 10008, '4980.T': 147, '3289.T': 58, '6914.T': 198, '3050.T': 329, '6814.T': 93, '7241.T': 55, 'PECO': 9, 'SBH': 949, 'NWG.L': 382, '7740.T': 774, '2168.T': 10, 'ZIG.L': 334, 'AER': 312, 'NVMI': 630, '2170.T': 41, '3612.T': 216, '7735.T': 79, 'AYI': 63385, '8050.T': 82, '2331.T': 96, '5110.T': 504, 'ETN': 19278, 'AMC': 4, '2395.T': 122, '4151.T': 385, 'MOD': 1918, '8591.T': 68, '7575.T': 29, '3635.T': 229, 'GTY.DE': 3, '7747.T': 548, '3659.T': 17, '8601.T': 136, '7451.T': 77, '9613.T': 32, 'MSA': 24231, '3402.T': 71, 'ADUS': 2597, '8308.T': 98, 'ALGN': 2, 'PRU': 313, 'LNC': 28, 'IIPR': 548, '7936.T': 255, '2389.T': 62, 'TILE': 957, 'AVGO': 279, '6651.T': 97, 'SCVL': 215, 'SBLK': 161, 'MPWR': 38086, '4369.T': 29, '7606.T': 504, '6504.T': 75, '8697.T': 506, '6971.T': 18, 'ITRN': 321, 'APLD': 13, '2433.T': 507, 'WEIR.L': 7799, '3151.T': 309, '8923.T': 37071, '6326.T': 29, '2327.T': 114, 'EH': 119, '2502.T': 19, 'TRU': 12, '4839.T': 169, 'GME': 96, 'ACEL': 5178, '2337.T': 56, '3048.T': 170, 'CNM': 317, '2792.T': 63, '5334.T': 47, '7453.T': 63, 'DCC.L': 24023, '2471.T': 120, 'NFG.L': 247, 'GRG.L': 118, 'AWI': 258, '8309.T': 74, '4568.T': 96, '6787.T': 40302, '7564.T': 2, 'RGL.L': 9, '2670.T': 18, 'DEQ.DE': 12625, 'HALO': 22198, 'MOON.L': 157}\n",
      "Funds remaining: €1287.51\n"
     ]
    },
    {
     "data": {
      "text/plain": [
       "        max_sharpe_weight  avg_annual_volatility  avg_annual_return\n",
       "RS1.L             0.00000               8.979876          -0.285367\n",
       "KE                0.00000               8.989774          -0.599410\n",
       "TEG.DE            0.00127               9.001995          -0.123928\n",
       "LEG.DE            0.00000               9.038371          -0.348568\n",
       "SCS               0.00000               8.988576          -0.165987\n",
       "...                   ...                    ...                ...\n",
       "KVHI              0.00000               8.980887          -0.474605\n",
       "MOON.L            0.00137               8.949683           0.431999\n",
       "NEO               0.00028               9.034262          -0.181364\n",
       "6055.T            0.00000               8.963966          -0.237748\n",
       "UNP               0.00051               8.954860          -0.055227\n",
       "\n",
       "[1644 rows x 3 columns]"
      ],
      "text/html": [
       "<div>\n",
       "<style scoped>\n",
       "    .dataframe tbody tr th:only-of-type {\n",
       "        vertical-align: middle;\n",
       "    }\n",
       "\n",
       "    .dataframe tbody tr th {\n",
       "        vertical-align: top;\n",
       "    }\n",
       "\n",
       "    .dataframe thead th {\n",
       "        text-align: right;\n",
       "    }\n",
       "</style>\n",
       "<table border=\"1\" class=\"dataframe\">\n",
       "  <thead>\n",
       "    <tr style=\"text-align: right;\">\n",
       "      <th></th>\n",
       "      <th>max_sharpe_weight</th>\n",
       "      <th>avg_annual_volatility</th>\n",
       "      <th>avg_annual_return</th>\n",
       "    </tr>\n",
       "  </thead>\n",
       "  <tbody>\n",
       "    <tr>\n",
       "      <th>RS1.L</th>\n",
       "      <td>0.00000</td>\n",
       "      <td>8.979876</td>\n",
       "      <td>-0.285367</td>\n",
       "    </tr>\n",
       "    <tr>\n",
       "      <th>KE</th>\n",
       "      <td>0.00000</td>\n",
       "      <td>8.989774</td>\n",
       "      <td>-0.599410</td>\n",
       "    </tr>\n",
       "    <tr>\n",
       "      <th>TEG.DE</th>\n",
       "      <td>0.00127</td>\n",
       "      <td>9.001995</td>\n",
       "      <td>-0.123928</td>\n",
       "    </tr>\n",
       "    <tr>\n",
       "      <th>LEG.DE</th>\n",
       "      <td>0.00000</td>\n",
       "      <td>9.038371</td>\n",
       "      <td>-0.348568</td>\n",
       "    </tr>\n",
       "    <tr>\n",
       "      <th>SCS</th>\n",
       "      <td>0.00000</td>\n",
       "      <td>8.988576</td>\n",
       "      <td>-0.165987</td>\n",
       "    </tr>\n",
       "    <tr>\n",
       "      <th>...</th>\n",
       "      <td>...</td>\n",
       "      <td>...</td>\n",
       "      <td>...</td>\n",
       "    </tr>\n",
       "    <tr>\n",
       "      <th>KVHI</th>\n",
       "      <td>0.00000</td>\n",
       "      <td>8.980887</td>\n",
       "      <td>-0.474605</td>\n",
       "    </tr>\n",
       "    <tr>\n",
       "      <th>MOON.L</th>\n",
       "      <td>0.00137</td>\n",
       "      <td>8.949683</td>\n",
       "      <td>0.431999</td>\n",
       "    </tr>\n",
       "    <tr>\n",
       "      <th>NEO</th>\n",
       "      <td>0.00028</td>\n",
       "      <td>9.034262</td>\n",
       "      <td>-0.181364</td>\n",
       "    </tr>\n",
       "    <tr>\n",
       "      <th>6055.T</th>\n",
       "      <td>0.00000</td>\n",
       "      <td>8.963966</td>\n",
       "      <td>-0.237748</td>\n",
       "    </tr>\n",
       "    <tr>\n",
       "      <th>UNP</th>\n",
       "      <td>0.00051</td>\n",
       "      <td>8.954860</td>\n",
       "      <td>-0.055227</td>\n",
       "    </tr>\n",
       "  </tbody>\n",
       "</table>\n",
       "<p>1644 rows × 3 columns</p>\n",
       "</div>"
      ]
     },
     "execution_count": 61,
     "metadata": {},
     "output_type": "execute_result"
    }
   ],
   "execution_count": 61
  },
  {
   "metadata": {},
   "cell_type": "markdown",
   "source": "## 12 Months",
   "id": "87b88272ba0852d0"
  },
  {
   "metadata": {
    "ExecuteTime": {
     "end_time": "2025-04-09T18:16:54.710897Z",
     "start_time": "2025-04-08T22:07:03.003784Z"
    }
   },
   "cell_type": "code",
   "source": [
    "importlib.reload(train_test)\n",
    "X_train, y_train, X_test, y_test = train_test.get_train_test(df_tabular_multi, months=60, target_key='m_return_target(t+12)')\n",
    "\n",
    "# \n",
    "model = xgboost.XGBRegressor(n_estimators=1000)\n",
    "model.fit(X_train, y_train,\n",
    "          eval_set=[(X_train, y_train), (X_test, y_test)],\n",
    "          verbose=False)"
   ],
   "id": "eaed46c6c2e0f136",
   "outputs": [
    {
     "name": "stdout",
     "output_type": "stream",
     "text": [
      "1 (474411, 85)\n",
      "2 (456228, 85)\n"
     ]
    },
    {
     "data": {
      "text/plain": [
       "XGBRegressor(base_score=None, booster=None, callbacks=None,\n",
       "             colsample_bylevel=None, colsample_bynode=None,\n",
       "             colsample_bytree=None, device=None, early_stopping_rounds=None,\n",
       "             enable_categorical=False, eval_metric=None, feature_types=None,\n",
       "             gamma=None, grow_policy=None, importance_type=None,\n",
       "             interaction_constraints=None, learning_rate=None, max_bin=None,\n",
       "             max_cat_threshold=None, max_cat_to_onehot=None,\n",
       "             max_delta_step=None, max_depth=None, max_leaves=None,\n",
       "             min_child_weight=None, missing=nan, monotone_constraints=None,\n",
       "             multi_strategy=None, n_estimators=1000, n_jobs=None,\n",
       "             num_parallel_tree=None, random_state=None, ...)"
      ],
      "text/html": [
       "<style>#sk-container-id-5 {color: black;}#sk-container-id-5 pre{padding: 0;}#sk-container-id-5 div.sk-toggleable {background-color: white;}#sk-container-id-5 label.sk-toggleable__label {cursor: pointer;display: block;width: 100%;margin-bottom: 0;padding: 0.3em;box-sizing: border-box;text-align: center;}#sk-container-id-5 label.sk-toggleable__label-arrow:before {content: \"▸\";float: left;margin-right: 0.25em;color: #696969;}#sk-container-id-5 label.sk-toggleable__label-arrow:hover:before {color: black;}#sk-container-id-5 div.sk-estimator:hover label.sk-toggleable__label-arrow:before {color: black;}#sk-container-id-5 div.sk-toggleable__content {max-height: 0;max-width: 0;overflow: hidden;text-align: left;background-color: #f0f8ff;}#sk-container-id-5 div.sk-toggleable__content pre {margin: 0.2em;color: black;border-radius: 0.25em;background-color: #f0f8ff;}#sk-container-id-5 input.sk-toggleable__control:checked~div.sk-toggleable__content {max-height: 200px;max-width: 100%;overflow: auto;}#sk-container-id-5 input.sk-toggleable__control:checked~label.sk-toggleable__label-arrow:before {content: \"▾\";}#sk-container-id-5 div.sk-estimator input.sk-toggleable__control:checked~label.sk-toggleable__label {background-color: #d4ebff;}#sk-container-id-5 div.sk-label input.sk-toggleable__control:checked~label.sk-toggleable__label {background-color: #d4ebff;}#sk-container-id-5 input.sk-hidden--visually {border: 0;clip: rect(1px 1px 1px 1px);clip: rect(1px, 1px, 1px, 1px);height: 1px;margin: -1px;overflow: hidden;padding: 0;position: absolute;width: 1px;}#sk-container-id-5 div.sk-estimator {font-family: monospace;background-color: #f0f8ff;border: 1px dotted black;border-radius: 0.25em;box-sizing: border-box;margin-bottom: 0.5em;}#sk-container-id-5 div.sk-estimator:hover {background-color: #d4ebff;}#sk-container-id-5 div.sk-parallel-item::after {content: \"\";width: 100%;border-bottom: 1px solid gray;flex-grow: 1;}#sk-container-id-5 div.sk-label:hover label.sk-toggleable__label {background-color: #d4ebff;}#sk-container-id-5 div.sk-serial::before {content: \"\";position: absolute;border-left: 1px solid gray;box-sizing: border-box;top: 0;bottom: 0;left: 50%;z-index: 0;}#sk-container-id-5 div.sk-serial {display: flex;flex-direction: column;align-items: center;background-color: white;padding-right: 0.2em;padding-left: 0.2em;position: relative;}#sk-container-id-5 div.sk-item {position: relative;z-index: 1;}#sk-container-id-5 div.sk-parallel {display: flex;align-items: stretch;justify-content: center;background-color: white;position: relative;}#sk-container-id-5 div.sk-item::before, #sk-container-id-5 div.sk-parallel-item::before {content: \"\";position: absolute;border-left: 1px solid gray;box-sizing: border-box;top: 0;bottom: 0;left: 50%;z-index: -1;}#sk-container-id-5 div.sk-parallel-item {display: flex;flex-direction: column;z-index: 1;position: relative;background-color: white;}#sk-container-id-5 div.sk-parallel-item:first-child::after {align-self: flex-end;width: 50%;}#sk-container-id-5 div.sk-parallel-item:last-child::after {align-self: flex-start;width: 50%;}#sk-container-id-5 div.sk-parallel-item:only-child::after {width: 0;}#sk-container-id-5 div.sk-dashed-wrapped {border: 1px dashed gray;margin: 0 0.4em 0.5em 0.4em;box-sizing: border-box;padding-bottom: 0.4em;background-color: white;}#sk-container-id-5 div.sk-label label {font-family: monospace;font-weight: bold;display: inline-block;line-height: 1.2em;}#sk-container-id-5 div.sk-label-container {text-align: center;}#sk-container-id-5 div.sk-container {/* jupyter's `normalize.less` sets `[hidden] { display: none; }` but bootstrap.min.css set `[hidden] { display: none !important; }` so we also need the `!important` here to be able to override the default hidden behavior on the sphinx rendered scikit-learn.org. See: https://github.com/scikit-learn/scikit-learn/issues/21755 */display: inline-block !important;position: relative;}#sk-container-id-5 div.sk-text-repr-fallback {display: none;}</style><div id=\"sk-container-id-5\" class=\"sk-top-container\"><div class=\"sk-text-repr-fallback\"><pre>XGBRegressor(base_score=None, booster=None, callbacks=None,\n",
       "             colsample_bylevel=None, colsample_bynode=None,\n",
       "             colsample_bytree=None, device=None, early_stopping_rounds=None,\n",
       "             enable_categorical=False, eval_metric=None, feature_types=None,\n",
       "             gamma=None, grow_policy=None, importance_type=None,\n",
       "             interaction_constraints=None, learning_rate=None, max_bin=None,\n",
       "             max_cat_threshold=None, max_cat_to_onehot=None,\n",
       "             max_delta_step=None, max_depth=None, max_leaves=None,\n",
       "             min_child_weight=None, missing=nan, monotone_constraints=None,\n",
       "             multi_strategy=None, n_estimators=1000, n_jobs=None,\n",
       "             num_parallel_tree=None, random_state=None, ...)</pre><b>In a Jupyter environment, please rerun this cell to show the HTML representation or trust the notebook. <br />On GitHub, the HTML representation is unable to render, please try loading this page with nbviewer.org.</b></div><div class=\"sk-container\" hidden><div class=\"sk-item\"><div class=\"sk-estimator sk-toggleable\"><input class=\"sk-toggleable__control sk-hidden--visually\" id=\"sk-estimator-id-5\" type=\"checkbox\" checked><label for=\"sk-estimator-id-5\" class=\"sk-toggleable__label sk-toggleable__label-arrow\">XGBRegressor</label><div class=\"sk-toggleable__content\"><pre>XGBRegressor(base_score=None, booster=None, callbacks=None,\n",
       "             colsample_bylevel=None, colsample_bynode=None,\n",
       "             colsample_bytree=None, device=None, early_stopping_rounds=None,\n",
       "             enable_categorical=False, eval_metric=None, feature_types=None,\n",
       "             gamma=None, grow_policy=None, importance_type=None,\n",
       "             interaction_constraints=None, learning_rate=None, max_bin=None,\n",
       "             max_cat_threshold=None, max_cat_to_onehot=None,\n",
       "             max_delta_step=None, max_depth=None, max_leaves=None,\n",
       "             min_child_weight=None, missing=nan, monotone_constraints=None,\n",
       "             multi_strategy=None, n_estimators=1000, n_jobs=None,\n",
       "             num_parallel_tree=None, random_state=None, ...)</pre></div></div></div></div></div>"
      ]
     },
     "execution_count": 62,
     "metadata": {},
     "output_type": "execute_result"
    }
   ],
   "execution_count": 62
  },
  {
   "metadata": {
    "ExecuteTime": {
     "end_time": "2025-04-09T18:16:54.711117Z",
     "start_time": "2025-04-08T22:07:24.792716Z"
    }
   },
   "cell_type": "code",
   "source": "len(X_test)",
   "id": "6ad5e8154eea746a",
   "outputs": [
    {
     "data": {
      "text/plain": [
       "80997"
      ]
     },
     "execution_count": 63,
     "metadata": {},
     "output_type": "execute_result"
    }
   ],
   "execution_count": 63
  },
  {
   "metadata": {
    "ExecuteTime": {
     "end_time": "2025-04-09T18:16:54.711218Z",
     "start_time": "2025-04-08T22:07:24.838380Z"
    }
   },
   "cell_type": "code",
   "source": [
    "months_12m = 12\n",
    "X_train_12m, y_train_12m, X_test_12m, y_test_12m = train_test.get_train_test(df_tabular_multi, months=12,\n",
    "                                                                             target_key='m_return_target(t+12)')"
   ],
   "id": "c1966cf153bc8fe7",
   "outputs": [
    {
     "name": "stdout",
     "output_type": "stream",
     "text": [
      "1 (474411, 85)\n",
      "2 (456228, 85)\n"
     ]
    }
   ],
   "execution_count": 64
  },
  {
   "metadata": {
    "ExecuteTime": {
     "end_time": "2025-04-09T18:16:54.711282Z",
     "start_time": "2025-04-08T22:07:25.463835Z"
    }
   },
   "cell_type": "code",
   "source": [
    "# Predictions\n",
    "y_train_pred_12m = model.predict(X_train_12m)\n",
    "y_test_pred_12m = model.predict(X_test_12m)"
   ],
   "id": "b437eae9f6783c48",
   "outputs": [],
   "execution_count": 65
  },
  {
   "metadata": {},
   "cell_type": "markdown",
   "source": "#### Train-data",
   "id": "580130f2c245ce2d"
  },
  {
   "metadata": {
    "ExecuteTime": {
     "end_time": "2025-04-09T18:16:54.711337Z",
     "start_time": "2025-04-08T22:07:26.975335Z"
    }
   },
   "cell_type": "code",
   "source": [
    "importlib.reload(comparison)\n",
    "y_train_mean_pred_12m, y_test_mean_pred_12m = comparison.get_train_test_mean_pred(y_train_pred_12m, y_test_pred_12m, len(df.columns))"
   ],
   "id": "9115561acddefa29",
   "outputs": [],
   "execution_count": 66
  },
  {
   "metadata": {},
   "cell_type": "markdown",
   "source": "### 12 Months Actual vs Prediction",
   "id": "c2d9b00a44eff0fd"
  },
  {
   "metadata": {
    "ExecuteTime": {
     "end_time": "2025-04-09T18:16:54.711390Z",
     "start_time": "2025-04-08T22:07:27.152054Z"
    }
   },
   "cell_type": "code",
   "source": [
    "importlib.reload(comparison)\n",
    "comparison.generate_plot(df, df_tabular_multi, y_train_mean_pred_12m, y_test_mean_pred_12m)"
   ],
   "id": "e9ccba2a945e92be",
   "outputs": [
    {
     "data": {
      "application/vnd.plotly.v1+json": {
       "data": [
        {
         "line": {
          "color": "#5c839f",
          "width": 2
         },
         "mode": "lines",
         "name": "Actual returns",
         "x": [
          "2000-10-01",
          "2000-11-01",
          "2000-12-01",
          "2001-01-01",
          "2001-02-01",
          "2001-03-01",
          "2001-04-01",
          "2001-05-01",
          "2001-06-01",
          "2001-07-01",
          "2001-08-01",
          "2001-09-01",
          "2001-10-01",
          "2001-11-01",
          "2001-12-01",
          "2002-01-01",
          "2002-02-01",
          "2002-03-01",
          "2002-04-01",
          "2002-05-01",
          "2002-06-01",
          "2002-07-01",
          "2002-08-01",
          "2002-09-01",
          "2002-10-01",
          "2002-11-01",
          "2002-12-01",
          "2003-01-01",
          "2003-02-01",
          "2003-03-01",
          "2003-04-01",
          "2003-05-01",
          "2003-06-01",
          "2003-07-01",
          "2003-08-01",
          "2003-09-01",
          "2003-10-01",
          "2003-11-01",
          "2003-12-01",
          "2004-01-01",
          "2004-02-01",
          "2004-03-01",
          "2004-04-01",
          "2004-05-01",
          "2004-06-01",
          "2004-07-01",
          "2004-08-01",
          "2004-09-01",
          "2004-10-01",
          "2004-11-01",
          "2004-12-01",
          "2005-01-01",
          "2005-02-01",
          "2005-03-01",
          "2005-04-01",
          "2005-05-01",
          "2005-06-01",
          "2005-07-01",
          "2005-08-01",
          "2005-09-01",
          "2005-10-01",
          "2005-11-01",
          "2005-12-01",
          "2006-01-01",
          "2006-02-01",
          "2006-03-01",
          "2006-04-01",
          "2006-05-01",
          "2006-06-01",
          "2006-07-01",
          "2006-08-01",
          "2006-09-01",
          "2006-10-01",
          "2006-11-01",
          "2006-12-01",
          "2007-01-01",
          "2007-02-01",
          "2007-03-01",
          "2007-04-01",
          "2007-05-01",
          "2007-06-01",
          "2007-07-01",
          "2007-08-01",
          "2007-09-01",
          "2007-10-01",
          "2007-11-01",
          "2007-12-01",
          "2008-01-01",
          "2008-02-01",
          "2008-03-01",
          "2008-04-01",
          "2008-05-01",
          "2008-06-01",
          "2008-07-01",
          "2008-08-01",
          "2008-09-01",
          "2008-10-01",
          "2008-11-01",
          "2008-12-01",
          "2009-01-01",
          "2009-02-01",
          "2009-03-01",
          "2009-04-01",
          "2009-05-01",
          "2009-06-01",
          "2009-07-01",
          "2009-08-01",
          "2009-09-01",
          "2009-10-01",
          "2009-11-01",
          "2009-12-01",
          "2010-01-01",
          "2010-02-01",
          "2010-03-01",
          "2010-04-01",
          "2010-05-01",
          "2010-06-01",
          "2010-07-01",
          "2010-08-01",
          "2010-09-01",
          "2010-10-01",
          "2010-11-01",
          "2010-12-01",
          "2011-01-01",
          "2011-02-01",
          "2011-03-01",
          "2011-04-01",
          "2011-05-01",
          "2011-06-01",
          "2011-07-01",
          "2011-08-01",
          "2011-09-01",
          "2011-10-01",
          "2011-11-01",
          "2011-12-01",
          "2012-01-01",
          "2012-02-01",
          "2012-03-01",
          "2012-04-01",
          "2012-05-01",
          "2012-06-01",
          "2012-07-01",
          "2012-08-01",
          "2012-09-01",
          "2012-10-01",
          "2012-11-01",
          "2012-12-01",
          "2013-01-01",
          "2013-02-01",
          "2013-03-01",
          "2013-04-01",
          "2013-05-01",
          "2013-06-01",
          "2013-07-01",
          "2013-08-01",
          "2013-09-01",
          "2013-10-01",
          "2013-11-01",
          "2013-12-01",
          "2014-01-01",
          "2014-02-01",
          "2014-03-01",
          "2014-04-01",
          "2014-05-01",
          "2014-06-01",
          "2014-07-01",
          "2014-08-01",
          "2014-09-01",
          "2014-10-01",
          "2014-11-01",
          "2014-12-01",
          "2015-01-01",
          "2015-02-01",
          "2015-03-01",
          "2015-04-01",
          "2015-05-01",
          "2015-06-01",
          "2015-07-01",
          "2015-08-01",
          "2015-09-01",
          "2015-10-01",
          "2015-11-01",
          "2015-12-01",
          "2016-01-01",
          "2016-02-01",
          "2016-03-01",
          "2016-04-01",
          "2016-05-01",
          "2016-06-01",
          "2016-07-01",
          "2016-08-01",
          "2016-09-01",
          "2016-10-01",
          "2016-11-01",
          "2016-12-01",
          "2017-01-01",
          "2017-02-01",
          "2017-03-01",
          "2017-04-01",
          "2017-05-01",
          "2017-06-01",
          "2017-07-01",
          "2017-08-01",
          "2017-09-01",
          "2017-10-01",
          "2017-11-01",
          "2017-12-01",
          "2018-01-01",
          "2018-02-01",
          "2018-03-01",
          "2018-04-01",
          "2018-05-01",
          "2018-06-01",
          "2018-07-01",
          "2018-08-01",
          "2018-09-01",
          "2018-10-01",
          "2018-11-01",
          "2018-12-01",
          "2019-01-01",
          "2019-02-01",
          "2019-03-01",
          "2019-04-01",
          "2019-05-01",
          "2019-06-01",
          "2019-07-01",
          "2019-08-01",
          "2019-09-01",
          "2019-10-01",
          "2019-11-01",
          "2019-12-01",
          "2020-01-01",
          "2020-02-01",
          "2020-03-01",
          "2020-04-01",
          "2020-05-01",
          "2020-06-01",
          "2020-07-01",
          "2020-08-01",
          "2020-09-01",
          "2020-10-01",
          "2020-11-01",
          "2020-12-01",
          "2021-01-01",
          "2021-02-01",
          "2021-03-01",
          "2021-04-01",
          "2021-05-01",
          "2021-06-01",
          "2021-07-01",
          "2021-08-01",
          "2021-09-01",
          "2021-10-01",
          "2021-11-01",
          "2021-12-01",
          "2022-01-01",
          "2022-02-01",
          "2022-03-01",
          "2022-04-01",
          "2022-05-01",
          "2022-06-01",
          "2022-07-01",
          "2022-08-01",
          "2022-09-01",
          "2022-10-01",
          "2022-11-01",
          "2022-12-01",
          "2023-01-01",
          "2023-02-01",
          "2023-03-01",
          "2023-04-01",
          "2023-05-01",
          "2023-06-01",
          "2023-07-01",
          "2023-08-01",
          "2023-09-01",
          "2023-10-01",
          "2023-11-01",
          "2023-12-01",
          "2024-01-01",
          "2024-02-01",
          "2024-03-01",
          "2024-04-01",
          "2024-05-01",
          "2024-06-01",
          "2024-07-01",
          "2024-08-01"
         ],
         "y": [
          null,
          1.0255474894131882,
          1.0338354506957046,
          0.9928735632183908,
          5.930568663036903,
          1.02524500907441,
          0.9939624924379915,
          0.9817483363581366,
          1.0329461584996975,
          0.9952389594676346,
          1.027350272232305,
          0.9906291591046583,
          0.9893103448275862,
          0.9717422867513611,
          1.0094071385359953,
          1.0391651542649727,
          0.9689776164549303,
          0.9847489413188143,
          1.0655414398064127,
          1.0118451300665456,
          0.9984392014519057,
          0.9735087719298245,
          0.9690865093768906,
          0.9132849364791288,
          1.0499274047186933,
          1.050798548094374,
          1.0158620689655173,
          0.9939322444041138,
          1.0093103448275862,
          1.050725952813067,
          1.007102238354507,
          1.0027646702964308,
          0.9519721718088325,
          0.9418874773139746,
          0.9874833635813671,
          0.9568905021173624,
          1.0078644888082275,
          1.0582516636418633,
          0.9664125831820932,
          0.9890199637023595,
          1.0055716878402905,
          0.9959830611010285,
          1.0599516031457954,
          1.0670054446460981,
          1.034162129461585,
          1.508451300665457,
          1.0614277071990321,
          1.0038233514821537,
          1.0498003629764066,
          1.0042286751361162,
          1.015849969751966,
          1.0305263157894737,
          1.0141560798548095,
          1.0468421052631578,
          1.0040834845735027,
          0.992474289171204,
          1.0346218995765275,
          0.9633877797943133,
          0.9934119782214157,
          1.0055535390199637,
          1.0005565638233516,
          1.0293163944343617,
          1.053762855414398,
          1.00643073200242,
          1.0203811252268602,
          0.9955595886267392,
          0.9733030852994556,
          1.033145795523291,
          1.0216817906836055,
          1.0358136721113127,
          0.9993042952208105,
          1.1286509376890503,
          1.0726013309134907,
          3.2130248033877797,
          1.0215607985480943,
          1.0408166969147006,
          1.0128917120387175,
          1.027501512401694,
          1.0092075015124016,
          0.9686267392619479,
          0.9991833030852995,
          0.9856866303690262,
          1.0248820326678767,
          1.0297519661222019,
          1.0213853599516032,
          1.0188808227465216,
          1.027979431336963,
          1.0368723532970356,
          1.0044404113732608,
          1.0015849969751967,
          1.0188082274652148,
          1.0226194797338173,
          0.9885843920145191,
          0.9759286146400484,
          0.9907501512401694,
          1.002474289171204,
          1.0255172413793103,
          0.9479370840895343,
          0.9907743496672716,
          0.9420447670901392,
          0.9907199032062917,
          0.9868784029038112,
          1.0311494252873565,
          1.02318814277072,
          0.9375620084694495,
          0.9950090744101633,
          1.0215789473684211,
          0.9273018753781004,
          0.8458197217180883,
          0.9447489413188144,
          1.0413006654567454,
          0.9497701149425287,
          0.9416515426497277,
          1.0697580157289777,
          1.1476164549304295,
          1.0432909860859043,
          1.0350211736237145,
          1.0623895946763462,
          1.0552026618269812,
          1.0322746521476103,
          0.9779915305505141,
          1.0015910465819722,
          1.0513793103448277,
          0.9896067755595885,
          1.0185541439806414,
          1.0590381125226862,
          1.0449969751966124,
          0.9456261343012704,
          0.9619419237749547,
          1.0388626739261946,
          0.9645856019358742,
          1.0696067755595886,
          1.0163883847549908,
          1.0275862068965518,
          1.0584029038112523,
          1.0119782214156081,
          1.0324803387779795,
          1.0016031457955235,
          1.0198850574712643,
          0.9949969751966122,
          0.9972353297035693,
          0.9830429522081064,
          0.9474712643678161,
          0.9529824561403508,
          1.0689231699939505,
          0.9843375680580763,
          1.0002540834845735,
          1.0593768905021175,
          1.0995402298850574,
          1.026303690260133,
          0.9927465214761042,
          0.9427586206896552,
          1.0300241984271024,
          0.9957652752571083,
          1.0196672716273443,
          1.0171506352087114,
          1.0012038717483362,
          1.0166848154869934,
          1.0311736237144584,
          1.0607924984875983,
          1.0218390804597701,
          1.0406836055656383,
          1.0333696309739866,
          1.01821536600121,
          0.990508166969147,
          1.0369933454325468,
          0.98346037507562,
          1.0512159709618873,
          1.0213430127041743,
          1.0239806412583181,
          1.022280701754386,
          0.9877434966727164,
          1.0288626739261948,
          1.0008287961282516,
          0.9851845130066547,
          1.0161161524500906,
          1.0306473079249847,
          0.9871445856019359,
          1.026745311554749,
          0.989491833030853,
          1.0253115547489413,
          1.04167574107683,
          1.0141681790683605,
          1.0019419237749547,
          1.0444585601935874,
          1.0097459165154263,
          1.000411373260738,
          1.0252087114337567,
          0.9903266787658802,
          1.012788868723533,
          0.9586448880822745,
          0.9679854809437386,
          1.0623411978221418,
          1.0190018148820326,
          0.9822928009679371,
          0.9491107078039926,
          0.9993587416817907,
          1.0566122202056867,
          1.0004355716878404,
          1.0214095583787053,
          0.9709074410163339,
          1.0535813672111312,
          1.0110102843315183,
          1.0043375680580762,
          0.9848154869933453,
          1.0514337568058076,
          1.0315486993345433,
          1.0146581972171809,
          1.0218451300665456,
          1.009751966122202,
          1.0155958862673926,
          1.0126678765880217,
          1.0131215970961889,
          1.0135692679975803,
          1.0033877797943134,
          1.0308892921960073,
          1.0195220810647307,
          1.0232244404113733,
          1.0114458560193589,
          1.023817301875378,
          0.974422262552934,
          0.996636418632789,
          1.0194797338173018,
          1.0263641863278887,
          1.0086327888687234,
          1.0175922565033273,
          1.0217725347852389,
          0.9907501512401694,
          0.9365880217785845,
          1.0115124016938897,
          0.9133272837265578,
          1.0914398064125832,
          1.0367513611615244,
          1.004137931034483,
          1.043049001814882,
          0.940822746521476,
          1.0453539019963702,
          1.0221234119782214,
          0.9704476709013913,
          1.0369449485783424,
          1.0294797338173018,
          1.0347307924984874,
          1.0268058076225044,
          0.9897519661222022,
          0.9099153055051422,
          0.8183847549909256,
          1.1260314579552329,
          1.072552934059286,
          1.0304174228675136,
          1.0225710828796128,
          1.0605565638233514,
          0.9945130066545675,
          0.9923290986085905,
          1.1583847549909256,
          1.0579612825166365,
          1.0404839685420448,
          1.053793103448276,
          1.0589292196007258,
          1.037652752571083,
          1.0213430127041743,
          1.0207562008469449,
          1.0036418632788868,
          1.025287356321839,
          0.9864851784633998,
          1.0300241984271024,
          0.969933454325469,
          1.0402117362371448,
          0.9256805807622505,
          0.9876830006049606,
          1.003230490018149,
          0.9446763460375075,
          1.0007199032062917,
          0.9249425287356322,
          1.0904295220810647,
          0.9692982456140351,
          0.901373260738052,
          1.0810284331518452,
          1.0552994555353903,
          0.9577374470659408,
          1.0973321234119784,
          0.9889957652752571,
          0.979933454325469,
          1.001318814277072,
          0.9908832425892315,
          1.0624803387779795,
          1.0433393829401088,
          0.9686206896551725,
          0.95978221415608,
          0.9421113127646703,
          1.0877132486388386,
          1.079328493647913,
          0.9853962492437992,
          1.0741379310344827,
          1.0276285541439807,
          0.9559709618874773,
          1.0341621294615853,
          0.9932425892317,
          1.0552510586811856,
          0.9971990320629158,
          0.9666787658802178
         ],
         "type": "scatter"
        },
        {
         "line": {
          "color": "red",
          "width": 2
         },
         "mode": "lines",
         "name": "Train returns",
         "x": [
          "2000-10-01",
          "2000-11-01",
          "2000-12-01",
          "2001-01-01",
          "2001-02-01",
          "2001-03-01",
          "2001-04-01",
          "2001-05-01",
          "2001-06-01",
          "2001-07-01",
          "2001-08-01",
          "2001-09-01",
          "2001-10-01",
          "2001-11-01",
          "2001-12-01",
          "2002-01-01",
          "2002-02-01",
          "2002-03-01",
          "2002-04-01",
          "2002-05-01",
          "2002-06-01",
          "2002-07-01",
          "2002-08-01",
          "2002-09-01",
          "2002-10-01",
          "2002-11-01",
          "2002-12-01",
          "2003-01-01",
          "2003-02-01",
          "2003-03-01",
          "2003-04-01",
          "2003-05-01",
          "2003-06-01",
          "2003-07-01",
          "2003-08-01",
          "2003-09-01",
          "2003-10-01",
          "2003-11-01",
          "2003-12-01",
          "2004-01-01",
          "2004-02-01",
          "2004-03-01",
          "2004-04-01",
          "2004-05-01",
          "2004-06-01",
          "2004-07-01",
          "2004-08-01",
          "2004-09-01",
          "2004-10-01",
          "2004-11-01",
          "2004-12-01",
          "2005-01-01",
          "2005-02-01",
          "2005-03-01",
          "2005-04-01",
          "2005-05-01",
          "2005-06-01",
          "2005-07-01",
          "2005-08-01",
          "2005-09-01",
          "2005-10-01",
          "2005-11-01",
          "2005-12-01",
          "2006-01-01",
          "2006-02-01",
          "2006-03-01",
          "2006-04-01",
          "2006-05-01",
          "2006-06-01",
          "2006-07-01",
          "2006-08-01",
          "2006-09-01",
          "2006-10-01",
          "2006-11-01",
          "2006-12-01",
          "2007-01-01",
          "2007-02-01",
          "2007-03-01",
          "2007-04-01",
          "2007-05-01",
          "2007-06-01",
          "2007-07-01",
          "2007-08-01",
          "2007-09-01",
          "2007-10-01",
          "2007-11-01",
          "2007-12-01",
          "2008-01-01",
          "2008-02-01",
          "2008-03-01",
          "2008-04-01",
          "2008-05-01",
          "2008-06-01",
          "2008-07-01",
          "2008-08-01",
          "2008-09-01",
          "2008-10-01",
          "2008-11-01",
          "2008-12-01",
          "2009-01-01",
          "2009-02-01",
          "2009-03-01",
          "2009-04-01",
          "2009-05-01",
          "2009-06-01",
          "2009-07-01",
          "2009-08-01",
          "2009-09-01",
          "2009-10-01",
          "2009-11-01",
          "2009-12-01",
          "2010-01-01",
          "2010-02-01",
          "2010-03-01",
          "2010-04-01",
          "2010-05-01",
          "2010-06-01",
          "2010-07-01",
          "2010-08-01",
          "2010-09-01",
          "2010-10-01",
          "2010-11-01",
          "2010-12-01",
          "2011-01-01",
          "2011-02-01",
          "2011-03-01",
          "2011-04-01",
          "2011-05-01",
          "2011-06-01",
          "2011-07-01",
          "2011-08-01",
          "2011-09-01",
          "2011-10-01",
          "2011-11-01",
          "2011-12-01",
          "2012-01-01",
          "2012-02-01",
          "2012-03-01",
          "2012-04-01",
          "2012-05-01",
          "2012-06-01",
          "2012-07-01",
          "2012-08-01",
          "2012-09-01",
          "2012-10-01",
          "2012-11-01",
          "2012-12-01",
          "2013-01-01",
          "2013-02-01",
          "2013-03-01",
          "2013-04-01",
          "2013-05-01",
          "2013-06-01",
          "2013-07-01",
          "2013-08-01",
          "2013-09-01",
          "2013-10-01",
          "2013-11-01",
          "2013-12-01",
          "2014-01-01",
          "2014-02-01",
          "2014-03-01",
          "2014-04-01",
          "2014-05-01",
          "2014-06-01",
          "2014-07-01",
          "2014-08-01",
          "2014-09-01",
          "2014-10-01",
          "2014-11-01",
          "2014-12-01",
          "2015-01-01",
          "2015-02-01",
          "2015-03-01",
          "2015-04-01",
          "2015-05-01",
          "2015-06-01",
          "2015-07-01",
          "2015-08-01",
          "2015-09-01",
          "2015-10-01",
          "2015-11-01",
          "2015-12-01",
          "2016-01-01",
          "2016-02-01",
          "2016-03-01",
          "2016-04-01",
          "2016-05-01",
          "2016-06-01",
          "2016-07-01",
          "2016-08-01",
          "2016-09-01",
          "2016-10-01",
          "2016-11-01",
          "2016-12-01",
          "2017-01-01",
          "2017-02-01",
          "2017-03-01",
          "2017-04-01",
          "2017-05-01",
          "2017-06-01",
          "2017-07-01",
          "2017-08-01",
          "2017-09-01",
          "2017-10-01",
          "2017-11-01",
          "2017-12-01",
          "2018-01-01",
          "2018-02-01",
          "2018-03-01",
          "2018-04-01",
          "2018-05-01",
          "2018-06-01",
          "2018-07-01",
          "2018-08-01",
          "2018-09-01",
          "2018-10-01",
          "2018-11-01",
          "2018-12-01",
          "2019-01-01",
          "2019-02-01",
          "2019-03-01",
          "2019-04-01",
          "2019-05-01",
          "2019-06-01",
          "2019-07-01",
          "2019-08-01",
          "2019-09-01",
          "2019-10-01",
          "2019-11-01",
          "2019-12-01",
          "2020-01-01",
          "2020-02-01",
          "2020-03-01",
          "2020-04-01",
          "2020-05-01",
          "2020-06-01",
          "2020-07-01",
          "2020-08-01",
          "2020-09-01",
          "2020-10-01",
          "2020-11-01",
          "2020-12-01",
          "2021-01-01",
          "2021-02-01",
          "2021-03-01",
          "2021-04-01",
          "2021-05-01",
          "2021-06-01",
          "2021-07-01",
          "2021-08-01",
          "2021-09-01",
          "2021-10-01",
          "2021-11-01",
          "2021-12-01",
          "2022-01-01",
          "2022-02-01",
          "2022-03-01",
          "2022-04-01",
          "2022-05-01",
          "2022-06-01",
          "2022-07-01",
          "2022-08-01",
          "2022-09-01",
          "2022-10-01",
          "2022-11-01",
          "2022-12-01",
          "2023-01-01",
          "2023-02-01",
          "2023-03-01",
          "2023-04-01",
          "2023-05-01",
          "2023-06-01",
          "2023-07-01",
          "2023-08-01"
         ],
         "y": [
          1.0070736408233643,
          1.0126690864562988,
          1.0077801942825317,
          1.00775945186615,
          1.0120229721069336,
          1.016956090927124,
          1.0105820894241333,
          1.0120372772216797,
          1.0070157051086426,
          1.010514497756958,
          1.0143356323242188,
          1.0110114812850952,
          1.0133787393569946,
          1.0080965757369995,
          1.0058568716049194,
          1.0105068683624268,
          1.0095950365066528,
          1.0105801820755005,
          1.010597586631775,
          1.007646918296814,
          1.011792778968811,
          1.0135252475738525,
          1.0123417377471924,
          1.007182002067566,
          1.0137776136398315,
          1.014009714126587,
          1.0160850286483765,
          1.0115827322006226,
          1.0119044780731201,
          1.0075868368148804,
          1.0132641792297363,
          1.0128974914550781,
          1.0126538276672363,
          1.0105669498443604,
          1.0134199857711792,
          1.0095139741897583,
          1.0083186626434326,
          1.0203901529312134,
          1.010056495666504,
          1.0121155977249146,
          1.0132594108581543,
          1.0125705003738403,
          1.0147836208343506,
          1.0161927938461304,
          1.0093687772750854,
          1.0102754831314087,
          1.0099623203277588,
          1.0098751783370972,
          1.0093485116958618,
          1.0147801637649536,
          1.0119692087173462,
          1.0118557214736938,
          1.0171961784362793,
          1.0141291618347168,
          1.0135914087295532,
          1.009824275970459,
          1.0111753940582275,
          1.009766936302185,
          1.0084048509597778,
          3.6274871826171875,
          1.0144232511520386,
          1.0112531185150146,
          1.008683204650879,
          1.0067355632781982,
          1.0117322206497192,
          1.0160638093948364,
          1.0152008533477783,
          1.0117110013961792,
          1.0119521617889404,
          1.0116908550262451,
          1.0062386989593506,
          1.01399564743042,
          1.0110763311386108,
          1.0240319967269897,
          1.0139122009277344,
          1.009250521659851,
          1.0106652975082397,
          1.0084288120269775,
          1.019325613975525,
          1.0131405591964722,
          1.0133849382400513,
          1.0073869228363037,
          1.0095946788787842,
          1.008008360862732,
          1.0133249759674072,
          1.0138189792633057,
          1.0132784843444824,
          1.0095959901809692,
          1.0137555599212646,
          1.0111122131347656,
          1.0110846757888794,
          1.00959312915802,
          1.0121790170669556,
          1.011193871498108,
          1.0072901248931885,
          1.0122114419937134,
          1.0093744993209839,
          1.0081441402435303,
          1.0085135698318481,
          1.0109524726867676,
          1.0135728120803833,
          1.0091323852539062,
          1.0080772638320923,
          1.0090715885162354,
          1.007258415222168,
          1.0105351209640503,
          1.0076782703399658,
          1.0104577541351318,
          1.013999342918396,
          1.010465383529663,
          1.0101913213729858,
          1.011714220046997,
          1.0123040676116943,
          1.011170744895935,
          1.0140297412872314,
          1.0109750032424927,
          1.015711784362793,
          1.0129591226577759,
          1.0121865272521973,
          1.0164777040481567,
          1.0140535831451416,
          1.0128917694091797,
          1.0087376832962036,
          1.0122568607330322,
          1.0149158239364624,
          1.011492371559143,
          1.0107593536376953,
          1.0079350471496582,
          1.0079998970031738,
          1.0112977027893066,
          1.0149877071380615,
          1.0122734308242798,
          1.015364170074463,
          1.0080078840255737,
          1.0100436210632324,
          1.0126056671142578,
          1.0147721767425537,
          1.0093024969100952,
          1.009976863861084,
          1.0116766691207886,
          1.0988487005233765,
          1.0128353834152222,
          1.007493495941162,
          1.0151057243347168,
          1.0091980695724487,
          1.0173691511154175,
          1.0104762315750122,
          1.0123125314712524,
          1.0096946954727173,
          1.0226103067398071,
          1.0107320547103882,
          1.0111236572265625,
          1.0080922842025757,
          1.0081630945205688,
          0.9526917934417725,
          1.0031782388687134,
          1.0116959810256958,
          1.010834813117981,
          1.0076634883880615,
          1.0101245641708374,
          1.0073003768920898,
          1.0106443166732788,
          1.01468825340271,
          1.0133460760116577,
          1.011106014251709,
          1.0110254287719727,
          1.0137972831726074,
          1.0100046396255493,
          1.012170672416687,
          1.0108699798583984,
          1.0068482160568237,
          1.0109658241271973,
          1.0143893957138062,
          1.0105129480361938,
          1.0147243738174438,
          1.017585039138794,
          1.016006588935852,
          1.0122274160385132,
          1.0129783153533936,
          1.012514352798462,
          1.009007215499878,
          1.0125343799591064,
          1.0062098503112793,
          1.0101594924926758,
          1.0087207555770874,
          1.0123355388641357,
          1.0110124349594116,
          1.0125418901443481,
          1.0122874975204468,
          1.0099682807922363,
          1.0064228773117065,
          1.011399745941162,
          1.007758378982544,
          1.0074076652526855,
          1.1156563758850098,
          1.0080697536468506,
          1.0121679306030273,
          1.0198224782943726,
          1.0115656852722168,
          1.0145211219787598,
          1.0099343061447144,
          1.008479356765747,
          1.0135748386383057,
          1.0103949308395386,
          1.0060789585113525,
          1.0099093914031982,
          1.007692813873291,
          1.0156229734420776,
          1.0079165697097778,
          1.0089961290359497,
          1.0126267671585083,
          1.010903000831604,
          1.015170693397522,
          1.011199712753296,
          1.0090456008911133,
          1.0119143724441528,
          1.011047601699829,
          1.0030436515808105,
          1.0122578144073486,
          1.0092880725860596,
          1.019540548324585,
          1.0086231231689453,
          1.0044811964035034,
          1.0097829103469849,
          1.0159560441970825,
          1.005871295928955,
          1.0058542490005493,
          1.013308048248291,
          1.008359432220459,
          1.0113815069198608,
          1.0089869499206543,
          1.0131036043167114,
          1.0078037977218628,
          1.006746768951416,
          1.0096114873886108,
          1.0090281963348389,
          1.011684775352478,
          1.0118011236190796,
          1.0062155723571777,
          1.0077699422836304,
          1.0107041597366333,
          1.016963005065918,
          1.01602041721344,
          1.013141393661499,
          1.0110125541687012,
          1.0095707178115845,
          1.0103039741516113,
          1.0116887092590332,
          1.0107890367507935,
          1.0132843255996704,
          1.0142149925231934,
          1.0103693008422852,
          1.0096900463104248,
          1.0128238201141357,
          1.006147027015686,
          1.0215401649475098,
          1.0100371837615967,
          1.0090535879135132,
          1.0108897686004639,
          1.0151044130325317,
          1.0079587697982788,
          1.0076990127563477,
          1.0119177103042603,
          1.0059373378753662,
          1.0072357654571533,
          1.0188132524490356,
          1.012457013130188,
          1.00981867313385,
          1.0153224468231201,
          1.0130105018615723,
          1.017751932144165,
          1.0162855386734009,
          1.0137972831726074,
          1.009833574295044,
          1.0133929252624512
         ],
         "type": "scatter"
        },
        {
         "line": {
          "color": "green",
          "width": 2
         },
         "mode": "lines",
         "name": "Test returns",
         "x": [
          "2023-08-01",
          "2023-09-01",
          "2023-10-01",
          "2023-11-01",
          "2023-12-01",
          "2024-01-01",
          "2024-02-01",
          "2024-03-01",
          "2024-04-01",
          "2024-05-01",
          "2024-06-01",
          "2024-07-01",
          "2024-08-01"
         ],
         "y": [
          1.0133929252624512,
          0.9688704013824463
         ],
         "type": "scatter"
        }
       ],
       "layout": {
        "template": {
         "data": {
          "barpolar": [
           {
            "marker": {
             "line": {
              "color": "white",
              "width": 0.5
             },
             "pattern": {
              "fillmode": "overlay",
              "size": 10,
              "solidity": 0.2
             }
            },
            "type": "barpolar"
           }
          ],
          "bar": [
           {
            "error_x": {
             "color": "#2a3f5f"
            },
            "error_y": {
             "color": "#2a3f5f"
            },
            "marker": {
             "line": {
              "color": "white",
              "width": 0.5
             },
             "pattern": {
              "fillmode": "overlay",
              "size": 10,
              "solidity": 0.2
             }
            },
            "type": "bar"
           }
          ],
          "carpet": [
           {
            "aaxis": {
             "endlinecolor": "#2a3f5f",
             "gridcolor": "#C8D4E3",
             "linecolor": "#C8D4E3",
             "minorgridcolor": "#C8D4E3",
             "startlinecolor": "#2a3f5f"
            },
            "baxis": {
             "endlinecolor": "#2a3f5f",
             "gridcolor": "#C8D4E3",
             "linecolor": "#C8D4E3",
             "minorgridcolor": "#C8D4E3",
             "startlinecolor": "#2a3f5f"
            },
            "type": "carpet"
           }
          ],
          "choropleth": [
           {
            "colorbar": {
             "outlinewidth": 0,
             "ticks": ""
            },
            "type": "choropleth"
           }
          ],
          "contourcarpet": [
           {
            "colorbar": {
             "outlinewidth": 0,
             "ticks": ""
            },
            "type": "contourcarpet"
           }
          ],
          "contour": [
           {
            "colorbar": {
             "outlinewidth": 0,
             "ticks": ""
            },
            "colorscale": [
             [
              0.0,
              "#0d0887"
             ],
             [
              0.1111111111111111,
              "#46039f"
             ],
             [
              0.2222222222222222,
              "#7201a8"
             ],
             [
              0.3333333333333333,
              "#9c179e"
             ],
             [
              0.4444444444444444,
              "#bd3786"
             ],
             [
              0.5555555555555556,
              "#d8576b"
             ],
             [
              0.6666666666666666,
              "#ed7953"
             ],
             [
              0.7777777777777778,
              "#fb9f3a"
             ],
             [
              0.8888888888888888,
              "#fdca26"
             ],
             [
              1.0,
              "#f0f921"
             ]
            ],
            "type": "contour"
           }
          ],
          "heatmapgl": [
           {
            "colorbar": {
             "outlinewidth": 0,
             "ticks": ""
            },
            "colorscale": [
             [
              0.0,
              "#0d0887"
             ],
             [
              0.1111111111111111,
              "#46039f"
             ],
             [
              0.2222222222222222,
              "#7201a8"
             ],
             [
              0.3333333333333333,
              "#9c179e"
             ],
             [
              0.4444444444444444,
              "#bd3786"
             ],
             [
              0.5555555555555556,
              "#d8576b"
             ],
             [
              0.6666666666666666,
              "#ed7953"
             ],
             [
              0.7777777777777778,
              "#fb9f3a"
             ],
             [
              0.8888888888888888,
              "#fdca26"
             ],
             [
              1.0,
              "#f0f921"
             ]
            ],
            "type": "heatmapgl"
           }
          ],
          "heatmap": [
           {
            "colorbar": {
             "outlinewidth": 0,
             "ticks": ""
            },
            "colorscale": [
             [
              0.0,
              "#0d0887"
             ],
             [
              0.1111111111111111,
              "#46039f"
             ],
             [
              0.2222222222222222,
              "#7201a8"
             ],
             [
              0.3333333333333333,
              "#9c179e"
             ],
             [
              0.4444444444444444,
              "#bd3786"
             ],
             [
              0.5555555555555556,
              "#d8576b"
             ],
             [
              0.6666666666666666,
              "#ed7953"
             ],
             [
              0.7777777777777778,
              "#fb9f3a"
             ],
             [
              0.8888888888888888,
              "#fdca26"
             ],
             [
              1.0,
              "#f0f921"
             ]
            ],
            "type": "heatmap"
           }
          ],
          "histogram2dcontour": [
           {
            "colorbar": {
             "outlinewidth": 0,
             "ticks": ""
            },
            "colorscale": [
             [
              0.0,
              "#0d0887"
             ],
             [
              0.1111111111111111,
              "#46039f"
             ],
             [
              0.2222222222222222,
              "#7201a8"
             ],
             [
              0.3333333333333333,
              "#9c179e"
             ],
             [
              0.4444444444444444,
              "#bd3786"
             ],
             [
              0.5555555555555556,
              "#d8576b"
             ],
             [
              0.6666666666666666,
              "#ed7953"
             ],
             [
              0.7777777777777778,
              "#fb9f3a"
             ],
             [
              0.8888888888888888,
              "#fdca26"
             ],
             [
              1.0,
              "#f0f921"
             ]
            ],
            "type": "histogram2dcontour"
           }
          ],
          "histogram2d": [
           {
            "colorbar": {
             "outlinewidth": 0,
             "ticks": ""
            },
            "colorscale": [
             [
              0.0,
              "#0d0887"
             ],
             [
              0.1111111111111111,
              "#46039f"
             ],
             [
              0.2222222222222222,
              "#7201a8"
             ],
             [
              0.3333333333333333,
              "#9c179e"
             ],
             [
              0.4444444444444444,
              "#bd3786"
             ],
             [
              0.5555555555555556,
              "#d8576b"
             ],
             [
              0.6666666666666666,
              "#ed7953"
             ],
             [
              0.7777777777777778,
              "#fb9f3a"
             ],
             [
              0.8888888888888888,
              "#fdca26"
             ],
             [
              1.0,
              "#f0f921"
             ]
            ],
            "type": "histogram2d"
           }
          ],
          "histogram": [
           {
            "marker": {
             "pattern": {
              "fillmode": "overlay",
              "size": 10,
              "solidity": 0.2
             }
            },
            "type": "histogram"
           }
          ],
          "mesh3d": [
           {
            "colorbar": {
             "outlinewidth": 0,
             "ticks": ""
            },
            "type": "mesh3d"
           }
          ],
          "parcoords": [
           {
            "line": {
             "colorbar": {
              "outlinewidth": 0,
              "ticks": ""
             }
            },
            "type": "parcoords"
           }
          ],
          "pie": [
           {
            "automargin": true,
            "type": "pie"
           }
          ],
          "scatter3d": [
           {
            "line": {
             "colorbar": {
              "outlinewidth": 0,
              "ticks": ""
             }
            },
            "marker": {
             "colorbar": {
              "outlinewidth": 0,
              "ticks": ""
             }
            },
            "type": "scatter3d"
           }
          ],
          "scattercarpet": [
           {
            "marker": {
             "colorbar": {
              "outlinewidth": 0,
              "ticks": ""
             }
            },
            "type": "scattercarpet"
           }
          ],
          "scattergeo": [
           {
            "marker": {
             "colorbar": {
              "outlinewidth": 0,
              "ticks": ""
             }
            },
            "type": "scattergeo"
           }
          ],
          "scattergl": [
           {
            "marker": {
             "colorbar": {
              "outlinewidth": 0,
              "ticks": ""
             }
            },
            "type": "scattergl"
           }
          ],
          "scattermapbox": [
           {
            "marker": {
             "colorbar": {
              "outlinewidth": 0,
              "ticks": ""
             }
            },
            "type": "scattermapbox"
           }
          ],
          "scatterpolargl": [
           {
            "marker": {
             "colorbar": {
              "outlinewidth": 0,
              "ticks": ""
             }
            },
            "type": "scatterpolargl"
           }
          ],
          "scatterpolar": [
           {
            "marker": {
             "colorbar": {
              "outlinewidth": 0,
              "ticks": ""
             }
            },
            "type": "scatterpolar"
           }
          ],
          "scatter": [
           {
            "fillpattern": {
             "fillmode": "overlay",
             "size": 10,
             "solidity": 0.2
            },
            "type": "scatter"
           }
          ],
          "scatterternary": [
           {
            "marker": {
             "colorbar": {
              "outlinewidth": 0,
              "ticks": ""
             }
            },
            "type": "scatterternary"
           }
          ],
          "surface": [
           {
            "colorbar": {
             "outlinewidth": 0,
             "ticks": ""
            },
            "colorscale": [
             [
              0.0,
              "#0d0887"
             ],
             [
              0.1111111111111111,
              "#46039f"
             ],
             [
              0.2222222222222222,
              "#7201a8"
             ],
             [
              0.3333333333333333,
              "#9c179e"
             ],
             [
              0.4444444444444444,
              "#bd3786"
             ],
             [
              0.5555555555555556,
              "#d8576b"
             ],
             [
              0.6666666666666666,
              "#ed7953"
             ],
             [
              0.7777777777777778,
              "#fb9f3a"
             ],
             [
              0.8888888888888888,
              "#fdca26"
             ],
             [
              1.0,
              "#f0f921"
             ]
            ],
            "type": "surface"
           }
          ],
          "table": [
           {
            "cells": {
             "fill": {
              "color": "#EBF0F8"
             },
             "line": {
              "color": "white"
             }
            },
            "header": {
             "fill": {
              "color": "#C8D4E3"
             },
             "line": {
              "color": "white"
             }
            },
            "type": "table"
           }
          ]
         },
         "layout": {
          "annotationdefaults": {
           "arrowcolor": "#2a3f5f",
           "arrowhead": 0,
           "arrowwidth": 1
          },
          "autotypenumbers": "strict",
          "coloraxis": {
           "colorbar": {
            "outlinewidth": 0,
            "ticks": ""
           }
          },
          "colorscale": {
           "diverging": [
            [
             0,
             "#8e0152"
            ],
            [
             0.1,
             "#c51b7d"
            ],
            [
             0.2,
             "#de77ae"
            ],
            [
             0.3,
             "#f1b6da"
            ],
            [
             0.4,
             "#fde0ef"
            ],
            [
             0.5,
             "#f7f7f7"
            ],
            [
             0.6,
             "#e6f5d0"
            ],
            [
             0.7,
             "#b8e186"
            ],
            [
             0.8,
             "#7fbc41"
            ],
            [
             0.9,
             "#4d9221"
            ],
            [
             1,
             "#276419"
            ]
           ],
           "sequential": [
            [
             0.0,
             "#0d0887"
            ],
            [
             0.1111111111111111,
             "#46039f"
            ],
            [
             0.2222222222222222,
             "#7201a8"
            ],
            [
             0.3333333333333333,
             "#9c179e"
            ],
            [
             0.4444444444444444,
             "#bd3786"
            ],
            [
             0.5555555555555556,
             "#d8576b"
            ],
            [
             0.6666666666666666,
             "#ed7953"
            ],
            [
             0.7777777777777778,
             "#fb9f3a"
            ],
            [
             0.8888888888888888,
             "#fdca26"
            ],
            [
             1.0,
             "#f0f921"
            ]
           ],
           "sequentialminus": [
            [
             0.0,
             "#0d0887"
            ],
            [
             0.1111111111111111,
             "#46039f"
            ],
            [
             0.2222222222222222,
             "#7201a8"
            ],
            [
             0.3333333333333333,
             "#9c179e"
            ],
            [
             0.4444444444444444,
             "#bd3786"
            ],
            [
             0.5555555555555556,
             "#d8576b"
            ],
            [
             0.6666666666666666,
             "#ed7953"
            ],
            [
             0.7777777777777778,
             "#fb9f3a"
            ],
            [
             0.8888888888888888,
             "#fdca26"
            ],
            [
             1.0,
             "#f0f921"
            ]
           ]
          },
          "colorway": [
           "#636efa",
           "#EF553B",
           "#00cc96",
           "#ab63fa",
           "#FFA15A",
           "#19d3f3",
           "#FF6692",
           "#B6E880",
           "#FF97FF",
           "#FECB52"
          ],
          "font": {
           "color": "#2a3f5f"
          },
          "geo": {
           "bgcolor": "white",
           "lakecolor": "white",
           "landcolor": "white",
           "showlakes": true,
           "showland": true,
           "subunitcolor": "#C8D4E3"
          },
          "hoverlabel": {
           "align": "left"
          },
          "hovermode": "closest",
          "mapbox": {
           "style": "light"
          },
          "paper_bgcolor": "white",
          "plot_bgcolor": "white",
          "polar": {
           "angularaxis": {
            "gridcolor": "#EBF0F8",
            "linecolor": "#EBF0F8",
            "ticks": ""
           },
           "bgcolor": "white",
           "radialaxis": {
            "gridcolor": "#EBF0F8",
            "linecolor": "#EBF0F8",
            "ticks": ""
           }
          },
          "scene": {
           "xaxis": {
            "backgroundcolor": "white",
            "gridcolor": "#DFE8F3",
            "gridwidth": 2,
            "linecolor": "#EBF0F8",
            "showbackground": true,
            "ticks": "",
            "zerolinecolor": "#EBF0F8"
           },
           "yaxis": {
            "backgroundcolor": "white",
            "gridcolor": "#DFE8F3",
            "gridwidth": 2,
            "linecolor": "#EBF0F8",
            "showbackground": true,
            "ticks": "",
            "zerolinecolor": "#EBF0F8"
           },
           "zaxis": {
            "backgroundcolor": "white",
            "gridcolor": "#DFE8F3",
            "gridwidth": 2,
            "linecolor": "#EBF0F8",
            "showbackground": true,
            "ticks": "",
            "zerolinecolor": "#EBF0F8"
           }
          },
          "shapedefaults": {
           "line": {
            "color": "#2a3f5f"
           }
          },
          "ternary": {
           "aaxis": {
            "gridcolor": "#DFE8F3",
            "linecolor": "#A2B1C6",
            "ticks": ""
           },
           "baxis": {
            "gridcolor": "#DFE8F3",
            "linecolor": "#A2B1C6",
            "ticks": ""
           },
           "bgcolor": "white",
           "caxis": {
            "gridcolor": "#DFE8F3",
            "linecolor": "#A2B1C6",
            "ticks": ""
           }
          },
          "title": {
           "x": 0.05
          },
          "xaxis": {
           "automargin": true,
           "gridcolor": "#EBF0F8",
           "linecolor": "#EBF0F8",
           "ticks": "",
           "title": {
            "standoff": 15
           },
           "zerolinecolor": "#EBF0F8",
           "zerolinewidth": 2
          },
          "yaxis": {
           "automargin": true,
           "gridcolor": "#EBF0F8",
           "linecolor": "#EBF0F8",
           "ticks": "",
           "title": {
            "standoff": 15
           },
           "zerolinecolor": "#EBF0F8",
           "zerolinewidth": 2
          }
         }
        },
        "shapes": [
         {
          "line": {
           "color": "red",
           "dash": "dash",
           "width": 1
          },
          "type": "line",
          "x0": "2024-07-01",
          "x1": "2024-07-01",
          "xref": "x",
          "y0": 0,
          "y1": 1,
          "yref": "y domain"
         }
        ],
        "yaxis": {
         "title": {
          "text": "Day closing return (%)"
         },
         "tickformat": ".0%",
         "range": [
          0.75,
          1.6
         ]
        },
        "title": {
         "text": "1 Month Prediction vs Actual Plot"
        },
        "xaxis": {
         "title": {
          "text": "Date"
         }
        },
        "legend": {
         "title": {
          "text": "Legend"
         }
        }
       },
       "config": {
        "plotlyServerURL": "https://plot.ly"
       }
      },
      "text/html": [
       "<div>                            <div id=\"f87b2847-6a9c-4e07-a3d6-63a856f95f59\" class=\"plotly-graph-div\" style=\"height:525px; width:100%;\"></div>            <script type=\"text/javascript\">                require([\"plotly\"], function(Plotly) {                    window.PLOTLYENV=window.PLOTLYENV || {};                                    if (document.getElementById(\"f87b2847-6a9c-4e07-a3d6-63a856f95f59\")) {                    Plotly.newPlot(                        \"f87b2847-6a9c-4e07-a3d6-63a856f95f59\",                        [{\"line\":{\"color\":\"#5c839f\",\"width\":2},\"mode\":\"lines\",\"name\":\"Actual returns\",\"x\":[\"2000-10-01\",\"2000-11-01\",\"2000-12-01\",\"2001-01-01\",\"2001-02-01\",\"2001-03-01\",\"2001-04-01\",\"2001-05-01\",\"2001-06-01\",\"2001-07-01\",\"2001-08-01\",\"2001-09-01\",\"2001-10-01\",\"2001-11-01\",\"2001-12-01\",\"2002-01-01\",\"2002-02-01\",\"2002-03-01\",\"2002-04-01\",\"2002-05-01\",\"2002-06-01\",\"2002-07-01\",\"2002-08-01\",\"2002-09-01\",\"2002-10-01\",\"2002-11-01\",\"2002-12-01\",\"2003-01-01\",\"2003-02-01\",\"2003-03-01\",\"2003-04-01\",\"2003-05-01\",\"2003-06-01\",\"2003-07-01\",\"2003-08-01\",\"2003-09-01\",\"2003-10-01\",\"2003-11-01\",\"2003-12-01\",\"2004-01-01\",\"2004-02-01\",\"2004-03-01\",\"2004-04-01\",\"2004-05-01\",\"2004-06-01\",\"2004-07-01\",\"2004-08-01\",\"2004-09-01\",\"2004-10-01\",\"2004-11-01\",\"2004-12-01\",\"2005-01-01\",\"2005-02-01\",\"2005-03-01\",\"2005-04-01\",\"2005-05-01\",\"2005-06-01\",\"2005-07-01\",\"2005-08-01\",\"2005-09-01\",\"2005-10-01\",\"2005-11-01\",\"2005-12-01\",\"2006-01-01\",\"2006-02-01\",\"2006-03-01\",\"2006-04-01\",\"2006-05-01\",\"2006-06-01\",\"2006-07-01\",\"2006-08-01\",\"2006-09-01\",\"2006-10-01\",\"2006-11-01\",\"2006-12-01\",\"2007-01-01\",\"2007-02-01\",\"2007-03-01\",\"2007-04-01\",\"2007-05-01\",\"2007-06-01\",\"2007-07-01\",\"2007-08-01\",\"2007-09-01\",\"2007-10-01\",\"2007-11-01\",\"2007-12-01\",\"2008-01-01\",\"2008-02-01\",\"2008-03-01\",\"2008-04-01\",\"2008-05-01\",\"2008-06-01\",\"2008-07-01\",\"2008-08-01\",\"2008-09-01\",\"2008-10-01\",\"2008-11-01\",\"2008-12-01\",\"2009-01-01\",\"2009-02-01\",\"2009-03-01\",\"2009-04-01\",\"2009-05-01\",\"2009-06-01\",\"2009-07-01\",\"2009-08-01\",\"2009-09-01\",\"2009-10-01\",\"2009-11-01\",\"2009-12-01\",\"2010-01-01\",\"2010-02-01\",\"2010-03-01\",\"2010-04-01\",\"2010-05-01\",\"2010-06-01\",\"2010-07-01\",\"2010-08-01\",\"2010-09-01\",\"2010-10-01\",\"2010-11-01\",\"2010-12-01\",\"2011-01-01\",\"2011-02-01\",\"2011-03-01\",\"2011-04-01\",\"2011-05-01\",\"2011-06-01\",\"2011-07-01\",\"2011-08-01\",\"2011-09-01\",\"2011-10-01\",\"2011-11-01\",\"2011-12-01\",\"2012-01-01\",\"2012-02-01\",\"2012-03-01\",\"2012-04-01\",\"2012-05-01\",\"2012-06-01\",\"2012-07-01\",\"2012-08-01\",\"2012-09-01\",\"2012-10-01\",\"2012-11-01\",\"2012-12-01\",\"2013-01-01\",\"2013-02-01\",\"2013-03-01\",\"2013-04-01\",\"2013-05-01\",\"2013-06-01\",\"2013-07-01\",\"2013-08-01\",\"2013-09-01\",\"2013-10-01\",\"2013-11-01\",\"2013-12-01\",\"2014-01-01\",\"2014-02-01\",\"2014-03-01\",\"2014-04-01\",\"2014-05-01\",\"2014-06-01\",\"2014-07-01\",\"2014-08-01\",\"2014-09-01\",\"2014-10-01\",\"2014-11-01\",\"2014-12-01\",\"2015-01-01\",\"2015-02-01\",\"2015-03-01\",\"2015-04-01\",\"2015-05-01\",\"2015-06-01\",\"2015-07-01\",\"2015-08-01\",\"2015-09-01\",\"2015-10-01\",\"2015-11-01\",\"2015-12-01\",\"2016-01-01\",\"2016-02-01\",\"2016-03-01\",\"2016-04-01\",\"2016-05-01\",\"2016-06-01\",\"2016-07-01\",\"2016-08-01\",\"2016-09-01\",\"2016-10-01\",\"2016-11-01\",\"2016-12-01\",\"2017-01-01\",\"2017-02-01\",\"2017-03-01\",\"2017-04-01\",\"2017-05-01\",\"2017-06-01\",\"2017-07-01\",\"2017-08-01\",\"2017-09-01\",\"2017-10-01\",\"2017-11-01\",\"2017-12-01\",\"2018-01-01\",\"2018-02-01\",\"2018-03-01\",\"2018-04-01\",\"2018-05-01\",\"2018-06-01\",\"2018-07-01\",\"2018-08-01\",\"2018-09-01\",\"2018-10-01\",\"2018-11-01\",\"2018-12-01\",\"2019-01-01\",\"2019-02-01\",\"2019-03-01\",\"2019-04-01\",\"2019-05-01\",\"2019-06-01\",\"2019-07-01\",\"2019-08-01\",\"2019-09-01\",\"2019-10-01\",\"2019-11-01\",\"2019-12-01\",\"2020-01-01\",\"2020-02-01\",\"2020-03-01\",\"2020-04-01\",\"2020-05-01\",\"2020-06-01\",\"2020-07-01\",\"2020-08-01\",\"2020-09-01\",\"2020-10-01\",\"2020-11-01\",\"2020-12-01\",\"2021-01-01\",\"2021-02-01\",\"2021-03-01\",\"2021-04-01\",\"2021-05-01\",\"2021-06-01\",\"2021-07-01\",\"2021-08-01\",\"2021-09-01\",\"2021-10-01\",\"2021-11-01\",\"2021-12-01\",\"2022-01-01\",\"2022-02-01\",\"2022-03-01\",\"2022-04-01\",\"2022-05-01\",\"2022-06-01\",\"2022-07-01\",\"2022-08-01\",\"2022-09-01\",\"2022-10-01\",\"2022-11-01\",\"2022-12-01\",\"2023-01-01\",\"2023-02-01\",\"2023-03-01\",\"2023-04-01\",\"2023-05-01\",\"2023-06-01\",\"2023-07-01\",\"2023-08-01\",\"2023-09-01\",\"2023-10-01\",\"2023-11-01\",\"2023-12-01\",\"2024-01-01\",\"2024-02-01\",\"2024-03-01\",\"2024-04-01\",\"2024-05-01\",\"2024-06-01\",\"2024-07-01\",\"2024-08-01\"],\"y\":[null,1.0255474894131882,1.0338354506957046,0.9928735632183908,5.930568663036903,1.02524500907441,0.9939624924379915,0.9817483363581366,1.0329461584996975,0.9952389594676346,1.027350272232305,0.9906291591046583,0.9893103448275862,0.9717422867513611,1.0094071385359953,1.0391651542649727,0.9689776164549303,0.9847489413188143,1.0655414398064127,1.0118451300665456,0.9984392014519057,0.9735087719298245,0.9690865093768906,0.9132849364791288,1.0499274047186933,1.050798548094374,1.0158620689655173,0.9939322444041138,1.0093103448275862,1.050725952813067,1.007102238354507,1.0027646702964308,0.9519721718088325,0.9418874773139746,0.9874833635813671,0.9568905021173624,1.0078644888082275,1.0582516636418633,0.9664125831820932,0.9890199637023595,1.0055716878402905,0.9959830611010285,1.0599516031457954,1.0670054446460981,1.034162129461585,1.508451300665457,1.0614277071990321,1.0038233514821537,1.0498003629764066,1.0042286751361162,1.015849969751966,1.0305263157894737,1.0141560798548095,1.0468421052631578,1.0040834845735027,0.992474289171204,1.0346218995765275,0.9633877797943133,0.9934119782214157,1.0055535390199637,1.0005565638233516,1.0293163944343617,1.053762855414398,1.00643073200242,1.0203811252268602,0.9955595886267392,0.9733030852994556,1.033145795523291,1.0216817906836055,1.0358136721113127,0.9993042952208105,1.1286509376890503,1.0726013309134907,3.2130248033877797,1.0215607985480943,1.0408166969147006,1.0128917120387175,1.027501512401694,1.0092075015124016,0.9686267392619479,0.9991833030852995,0.9856866303690262,1.0248820326678767,1.0297519661222019,1.0213853599516032,1.0188808227465216,1.027979431336963,1.0368723532970356,1.0044404113732608,1.0015849969751967,1.0188082274652148,1.0226194797338173,0.9885843920145191,0.9759286146400484,0.9907501512401694,1.002474289171204,1.0255172413793103,0.9479370840895343,0.9907743496672716,0.9420447670901392,0.9907199032062917,0.9868784029038112,1.0311494252873565,1.02318814277072,0.9375620084694495,0.9950090744101633,1.0215789473684211,0.9273018753781004,0.8458197217180883,0.9447489413188144,1.0413006654567454,0.9497701149425287,0.9416515426497277,1.0697580157289777,1.1476164549304295,1.0432909860859043,1.0350211736237145,1.0623895946763462,1.0552026618269812,1.0322746521476103,0.9779915305505141,1.0015910465819722,1.0513793103448277,0.9896067755595885,1.0185541439806414,1.0590381125226862,1.0449969751966124,0.9456261343012704,0.9619419237749547,1.0388626739261946,0.9645856019358742,1.0696067755595886,1.0163883847549908,1.0275862068965518,1.0584029038112523,1.0119782214156081,1.0324803387779795,1.0016031457955235,1.0198850574712643,0.9949969751966122,0.9972353297035693,0.9830429522081064,0.9474712643678161,0.9529824561403508,1.0689231699939505,0.9843375680580763,1.0002540834845735,1.0593768905021175,1.0995402298850574,1.026303690260133,0.9927465214761042,0.9427586206896552,1.0300241984271024,0.9957652752571083,1.0196672716273443,1.0171506352087114,1.0012038717483362,1.0166848154869934,1.0311736237144584,1.0607924984875983,1.0218390804597701,1.0406836055656383,1.0333696309739866,1.01821536600121,0.990508166969147,1.0369933454325468,0.98346037507562,1.0512159709618873,1.0213430127041743,1.0239806412583181,1.022280701754386,0.9877434966727164,1.0288626739261948,1.0008287961282516,0.9851845130066547,1.0161161524500906,1.0306473079249847,0.9871445856019359,1.026745311554749,0.989491833030853,1.0253115547489413,1.04167574107683,1.0141681790683605,1.0019419237749547,1.0444585601935874,1.0097459165154263,1.000411373260738,1.0252087114337567,0.9903266787658802,1.012788868723533,0.9586448880822745,0.9679854809437386,1.0623411978221418,1.0190018148820326,0.9822928009679371,0.9491107078039926,0.9993587416817907,1.0566122202056867,1.0004355716878404,1.0214095583787053,0.9709074410163339,1.0535813672111312,1.0110102843315183,1.0043375680580762,0.9848154869933453,1.0514337568058076,1.0315486993345433,1.0146581972171809,1.0218451300665456,1.009751966122202,1.0155958862673926,1.0126678765880217,1.0131215970961889,1.0135692679975803,1.0033877797943134,1.0308892921960073,1.0195220810647307,1.0232244404113733,1.0114458560193589,1.023817301875378,0.974422262552934,0.996636418632789,1.0194797338173018,1.0263641863278887,1.0086327888687234,1.0175922565033273,1.0217725347852389,0.9907501512401694,0.9365880217785845,1.0115124016938897,0.9133272837265578,1.0914398064125832,1.0367513611615244,1.004137931034483,1.043049001814882,0.940822746521476,1.0453539019963702,1.0221234119782214,0.9704476709013913,1.0369449485783424,1.0294797338173018,1.0347307924984874,1.0268058076225044,0.9897519661222022,0.9099153055051422,0.8183847549909256,1.1260314579552329,1.072552934059286,1.0304174228675136,1.0225710828796128,1.0605565638233514,0.9945130066545675,0.9923290986085905,1.1583847549909256,1.0579612825166365,1.0404839685420448,1.053793103448276,1.0589292196007258,1.037652752571083,1.0213430127041743,1.0207562008469449,1.0036418632788868,1.025287356321839,0.9864851784633998,1.0300241984271024,0.969933454325469,1.0402117362371448,0.9256805807622505,0.9876830006049606,1.003230490018149,0.9446763460375075,1.0007199032062917,0.9249425287356322,1.0904295220810647,0.9692982456140351,0.901373260738052,1.0810284331518452,1.0552994555353903,0.9577374470659408,1.0973321234119784,0.9889957652752571,0.979933454325469,1.001318814277072,0.9908832425892315,1.0624803387779795,1.0433393829401088,0.9686206896551725,0.95978221415608,0.9421113127646703,1.0877132486388386,1.079328493647913,0.9853962492437992,1.0741379310344827,1.0276285541439807,0.9559709618874773,1.0341621294615853,0.9932425892317,1.0552510586811856,0.9971990320629158,0.9666787658802178],\"type\":\"scatter\"},{\"line\":{\"color\":\"red\",\"width\":2},\"mode\":\"lines\",\"name\":\"Train returns\",\"x\":[\"2000-10-01\",\"2000-11-01\",\"2000-12-01\",\"2001-01-01\",\"2001-02-01\",\"2001-03-01\",\"2001-04-01\",\"2001-05-01\",\"2001-06-01\",\"2001-07-01\",\"2001-08-01\",\"2001-09-01\",\"2001-10-01\",\"2001-11-01\",\"2001-12-01\",\"2002-01-01\",\"2002-02-01\",\"2002-03-01\",\"2002-04-01\",\"2002-05-01\",\"2002-06-01\",\"2002-07-01\",\"2002-08-01\",\"2002-09-01\",\"2002-10-01\",\"2002-11-01\",\"2002-12-01\",\"2003-01-01\",\"2003-02-01\",\"2003-03-01\",\"2003-04-01\",\"2003-05-01\",\"2003-06-01\",\"2003-07-01\",\"2003-08-01\",\"2003-09-01\",\"2003-10-01\",\"2003-11-01\",\"2003-12-01\",\"2004-01-01\",\"2004-02-01\",\"2004-03-01\",\"2004-04-01\",\"2004-05-01\",\"2004-06-01\",\"2004-07-01\",\"2004-08-01\",\"2004-09-01\",\"2004-10-01\",\"2004-11-01\",\"2004-12-01\",\"2005-01-01\",\"2005-02-01\",\"2005-03-01\",\"2005-04-01\",\"2005-05-01\",\"2005-06-01\",\"2005-07-01\",\"2005-08-01\",\"2005-09-01\",\"2005-10-01\",\"2005-11-01\",\"2005-12-01\",\"2006-01-01\",\"2006-02-01\",\"2006-03-01\",\"2006-04-01\",\"2006-05-01\",\"2006-06-01\",\"2006-07-01\",\"2006-08-01\",\"2006-09-01\",\"2006-10-01\",\"2006-11-01\",\"2006-12-01\",\"2007-01-01\",\"2007-02-01\",\"2007-03-01\",\"2007-04-01\",\"2007-05-01\",\"2007-06-01\",\"2007-07-01\",\"2007-08-01\",\"2007-09-01\",\"2007-10-01\",\"2007-11-01\",\"2007-12-01\",\"2008-01-01\",\"2008-02-01\",\"2008-03-01\",\"2008-04-01\",\"2008-05-01\",\"2008-06-01\",\"2008-07-01\",\"2008-08-01\",\"2008-09-01\",\"2008-10-01\",\"2008-11-01\",\"2008-12-01\",\"2009-01-01\",\"2009-02-01\",\"2009-03-01\",\"2009-04-01\",\"2009-05-01\",\"2009-06-01\",\"2009-07-01\",\"2009-08-01\",\"2009-09-01\",\"2009-10-01\",\"2009-11-01\",\"2009-12-01\",\"2010-01-01\",\"2010-02-01\",\"2010-03-01\",\"2010-04-01\",\"2010-05-01\",\"2010-06-01\",\"2010-07-01\",\"2010-08-01\",\"2010-09-01\",\"2010-10-01\",\"2010-11-01\",\"2010-12-01\",\"2011-01-01\",\"2011-02-01\",\"2011-03-01\",\"2011-04-01\",\"2011-05-01\",\"2011-06-01\",\"2011-07-01\",\"2011-08-01\",\"2011-09-01\",\"2011-10-01\",\"2011-11-01\",\"2011-12-01\",\"2012-01-01\",\"2012-02-01\",\"2012-03-01\",\"2012-04-01\",\"2012-05-01\",\"2012-06-01\",\"2012-07-01\",\"2012-08-01\",\"2012-09-01\",\"2012-10-01\",\"2012-11-01\",\"2012-12-01\",\"2013-01-01\",\"2013-02-01\",\"2013-03-01\",\"2013-04-01\",\"2013-05-01\",\"2013-06-01\",\"2013-07-01\",\"2013-08-01\",\"2013-09-01\",\"2013-10-01\",\"2013-11-01\",\"2013-12-01\",\"2014-01-01\",\"2014-02-01\",\"2014-03-01\",\"2014-04-01\",\"2014-05-01\",\"2014-06-01\",\"2014-07-01\",\"2014-08-01\",\"2014-09-01\",\"2014-10-01\",\"2014-11-01\",\"2014-12-01\",\"2015-01-01\",\"2015-02-01\",\"2015-03-01\",\"2015-04-01\",\"2015-05-01\",\"2015-06-01\",\"2015-07-01\",\"2015-08-01\",\"2015-09-01\",\"2015-10-01\",\"2015-11-01\",\"2015-12-01\",\"2016-01-01\",\"2016-02-01\",\"2016-03-01\",\"2016-04-01\",\"2016-05-01\",\"2016-06-01\",\"2016-07-01\",\"2016-08-01\",\"2016-09-01\",\"2016-10-01\",\"2016-11-01\",\"2016-12-01\",\"2017-01-01\",\"2017-02-01\",\"2017-03-01\",\"2017-04-01\",\"2017-05-01\",\"2017-06-01\",\"2017-07-01\",\"2017-08-01\",\"2017-09-01\",\"2017-10-01\",\"2017-11-01\",\"2017-12-01\",\"2018-01-01\",\"2018-02-01\",\"2018-03-01\",\"2018-04-01\",\"2018-05-01\",\"2018-06-01\",\"2018-07-01\",\"2018-08-01\",\"2018-09-01\",\"2018-10-01\",\"2018-11-01\",\"2018-12-01\",\"2019-01-01\",\"2019-02-01\",\"2019-03-01\",\"2019-04-01\",\"2019-05-01\",\"2019-06-01\",\"2019-07-01\",\"2019-08-01\",\"2019-09-01\",\"2019-10-01\",\"2019-11-01\",\"2019-12-01\",\"2020-01-01\",\"2020-02-01\",\"2020-03-01\",\"2020-04-01\",\"2020-05-01\",\"2020-06-01\",\"2020-07-01\",\"2020-08-01\",\"2020-09-01\",\"2020-10-01\",\"2020-11-01\",\"2020-12-01\",\"2021-01-01\",\"2021-02-01\",\"2021-03-01\",\"2021-04-01\",\"2021-05-01\",\"2021-06-01\",\"2021-07-01\",\"2021-08-01\",\"2021-09-01\",\"2021-10-01\",\"2021-11-01\",\"2021-12-01\",\"2022-01-01\",\"2022-02-01\",\"2022-03-01\",\"2022-04-01\",\"2022-05-01\",\"2022-06-01\",\"2022-07-01\",\"2022-08-01\",\"2022-09-01\",\"2022-10-01\",\"2022-11-01\",\"2022-12-01\",\"2023-01-01\",\"2023-02-01\",\"2023-03-01\",\"2023-04-01\",\"2023-05-01\",\"2023-06-01\",\"2023-07-01\",\"2023-08-01\"],\"y\":[1.0070736408233643,1.0126690864562988,1.0077801942825317,1.00775945186615,1.0120229721069336,1.016956090927124,1.0105820894241333,1.0120372772216797,1.0070157051086426,1.010514497756958,1.0143356323242188,1.0110114812850952,1.0133787393569946,1.0080965757369995,1.0058568716049194,1.0105068683624268,1.0095950365066528,1.0105801820755005,1.010597586631775,1.007646918296814,1.011792778968811,1.0135252475738525,1.0123417377471924,1.007182002067566,1.0137776136398315,1.014009714126587,1.0160850286483765,1.0115827322006226,1.0119044780731201,1.0075868368148804,1.0132641792297363,1.0128974914550781,1.0126538276672363,1.0105669498443604,1.0134199857711792,1.0095139741897583,1.0083186626434326,1.0203901529312134,1.010056495666504,1.0121155977249146,1.0132594108581543,1.0125705003738403,1.0147836208343506,1.0161927938461304,1.0093687772750854,1.0102754831314087,1.0099623203277588,1.0098751783370972,1.0093485116958618,1.0147801637649536,1.0119692087173462,1.0118557214736938,1.0171961784362793,1.0141291618347168,1.0135914087295532,1.009824275970459,1.0111753940582275,1.009766936302185,1.0084048509597778,3.6274871826171875,1.0144232511520386,1.0112531185150146,1.008683204650879,1.0067355632781982,1.0117322206497192,1.0160638093948364,1.0152008533477783,1.0117110013961792,1.0119521617889404,1.0116908550262451,1.0062386989593506,1.01399564743042,1.0110763311386108,1.0240319967269897,1.0139122009277344,1.009250521659851,1.0106652975082397,1.0084288120269775,1.019325613975525,1.0131405591964722,1.0133849382400513,1.0073869228363037,1.0095946788787842,1.008008360862732,1.0133249759674072,1.0138189792633057,1.0132784843444824,1.0095959901809692,1.0137555599212646,1.0111122131347656,1.0110846757888794,1.00959312915802,1.0121790170669556,1.011193871498108,1.0072901248931885,1.0122114419937134,1.0093744993209839,1.0081441402435303,1.0085135698318481,1.0109524726867676,1.0135728120803833,1.0091323852539062,1.0080772638320923,1.0090715885162354,1.007258415222168,1.0105351209640503,1.0076782703399658,1.0104577541351318,1.013999342918396,1.010465383529663,1.0101913213729858,1.011714220046997,1.0123040676116943,1.011170744895935,1.0140297412872314,1.0109750032424927,1.015711784362793,1.0129591226577759,1.0121865272521973,1.0164777040481567,1.0140535831451416,1.0128917694091797,1.0087376832962036,1.0122568607330322,1.0149158239364624,1.011492371559143,1.0107593536376953,1.0079350471496582,1.0079998970031738,1.0112977027893066,1.0149877071380615,1.0122734308242798,1.015364170074463,1.0080078840255737,1.0100436210632324,1.0126056671142578,1.0147721767425537,1.0093024969100952,1.009976863861084,1.0116766691207886,1.0988487005233765,1.0128353834152222,1.007493495941162,1.0151057243347168,1.0091980695724487,1.0173691511154175,1.0104762315750122,1.0123125314712524,1.0096946954727173,1.0226103067398071,1.0107320547103882,1.0111236572265625,1.0080922842025757,1.0081630945205688,0.9526917934417725,1.0031782388687134,1.0116959810256958,1.010834813117981,1.0076634883880615,1.0101245641708374,1.0073003768920898,1.0106443166732788,1.01468825340271,1.0133460760116577,1.011106014251709,1.0110254287719727,1.0137972831726074,1.0100046396255493,1.012170672416687,1.0108699798583984,1.0068482160568237,1.0109658241271973,1.0143893957138062,1.0105129480361938,1.0147243738174438,1.017585039138794,1.016006588935852,1.0122274160385132,1.0129783153533936,1.012514352798462,1.009007215499878,1.0125343799591064,1.0062098503112793,1.0101594924926758,1.0087207555770874,1.0123355388641357,1.0110124349594116,1.0125418901443481,1.0122874975204468,1.0099682807922363,1.0064228773117065,1.011399745941162,1.007758378982544,1.0074076652526855,1.1156563758850098,1.0080697536468506,1.0121679306030273,1.0198224782943726,1.0115656852722168,1.0145211219787598,1.0099343061447144,1.008479356765747,1.0135748386383057,1.0103949308395386,1.0060789585113525,1.0099093914031982,1.007692813873291,1.0156229734420776,1.0079165697097778,1.0089961290359497,1.0126267671585083,1.010903000831604,1.015170693397522,1.011199712753296,1.0090456008911133,1.0119143724441528,1.011047601699829,1.0030436515808105,1.0122578144073486,1.0092880725860596,1.019540548324585,1.0086231231689453,1.0044811964035034,1.0097829103469849,1.0159560441970825,1.005871295928955,1.0058542490005493,1.013308048248291,1.008359432220459,1.0113815069198608,1.0089869499206543,1.0131036043167114,1.0078037977218628,1.006746768951416,1.0096114873886108,1.0090281963348389,1.011684775352478,1.0118011236190796,1.0062155723571777,1.0077699422836304,1.0107041597366333,1.016963005065918,1.01602041721344,1.013141393661499,1.0110125541687012,1.0095707178115845,1.0103039741516113,1.0116887092590332,1.0107890367507935,1.0132843255996704,1.0142149925231934,1.0103693008422852,1.0096900463104248,1.0128238201141357,1.006147027015686,1.0215401649475098,1.0100371837615967,1.0090535879135132,1.0108897686004639,1.0151044130325317,1.0079587697982788,1.0076990127563477,1.0119177103042603,1.0059373378753662,1.0072357654571533,1.0188132524490356,1.012457013130188,1.00981867313385,1.0153224468231201,1.0130105018615723,1.017751932144165,1.0162855386734009,1.0137972831726074,1.009833574295044,1.0133929252624512],\"type\":\"scatter\"},{\"line\":{\"color\":\"green\",\"width\":2},\"mode\":\"lines\",\"name\":\"Test returns\",\"x\":[\"2023-08-01\",\"2023-09-01\",\"2023-10-01\",\"2023-11-01\",\"2023-12-01\",\"2024-01-01\",\"2024-02-01\",\"2024-03-01\",\"2024-04-01\",\"2024-05-01\",\"2024-06-01\",\"2024-07-01\",\"2024-08-01\"],\"y\":[1.0133929252624512,0.9688704013824463],\"type\":\"scatter\"}],                        {\"template\":{\"data\":{\"barpolar\":[{\"marker\":{\"line\":{\"color\":\"white\",\"width\":0.5},\"pattern\":{\"fillmode\":\"overlay\",\"size\":10,\"solidity\":0.2}},\"type\":\"barpolar\"}],\"bar\":[{\"error_x\":{\"color\":\"#2a3f5f\"},\"error_y\":{\"color\":\"#2a3f5f\"},\"marker\":{\"line\":{\"color\":\"white\",\"width\":0.5},\"pattern\":{\"fillmode\":\"overlay\",\"size\":10,\"solidity\":0.2}},\"type\":\"bar\"}],\"carpet\":[{\"aaxis\":{\"endlinecolor\":\"#2a3f5f\",\"gridcolor\":\"#C8D4E3\",\"linecolor\":\"#C8D4E3\",\"minorgridcolor\":\"#C8D4E3\",\"startlinecolor\":\"#2a3f5f\"},\"baxis\":{\"endlinecolor\":\"#2a3f5f\",\"gridcolor\":\"#C8D4E3\",\"linecolor\":\"#C8D4E3\",\"minorgridcolor\":\"#C8D4E3\",\"startlinecolor\":\"#2a3f5f\"},\"type\":\"carpet\"}],\"choropleth\":[{\"colorbar\":{\"outlinewidth\":0,\"ticks\":\"\"},\"type\":\"choropleth\"}],\"contourcarpet\":[{\"colorbar\":{\"outlinewidth\":0,\"ticks\":\"\"},\"type\":\"contourcarpet\"}],\"contour\":[{\"colorbar\":{\"outlinewidth\":0,\"ticks\":\"\"},\"colorscale\":[[0.0,\"#0d0887\"],[0.1111111111111111,\"#46039f\"],[0.2222222222222222,\"#7201a8\"],[0.3333333333333333,\"#9c179e\"],[0.4444444444444444,\"#bd3786\"],[0.5555555555555556,\"#d8576b\"],[0.6666666666666666,\"#ed7953\"],[0.7777777777777778,\"#fb9f3a\"],[0.8888888888888888,\"#fdca26\"],[1.0,\"#f0f921\"]],\"type\":\"contour\"}],\"heatmapgl\":[{\"colorbar\":{\"outlinewidth\":0,\"ticks\":\"\"},\"colorscale\":[[0.0,\"#0d0887\"],[0.1111111111111111,\"#46039f\"],[0.2222222222222222,\"#7201a8\"],[0.3333333333333333,\"#9c179e\"],[0.4444444444444444,\"#bd3786\"],[0.5555555555555556,\"#d8576b\"],[0.6666666666666666,\"#ed7953\"],[0.7777777777777778,\"#fb9f3a\"],[0.8888888888888888,\"#fdca26\"],[1.0,\"#f0f921\"]],\"type\":\"heatmapgl\"}],\"heatmap\":[{\"colorbar\":{\"outlinewidth\":0,\"ticks\":\"\"},\"colorscale\":[[0.0,\"#0d0887\"],[0.1111111111111111,\"#46039f\"],[0.2222222222222222,\"#7201a8\"],[0.3333333333333333,\"#9c179e\"],[0.4444444444444444,\"#bd3786\"],[0.5555555555555556,\"#d8576b\"],[0.6666666666666666,\"#ed7953\"],[0.7777777777777778,\"#fb9f3a\"],[0.8888888888888888,\"#fdca26\"],[1.0,\"#f0f921\"]],\"type\":\"heatmap\"}],\"histogram2dcontour\":[{\"colorbar\":{\"outlinewidth\":0,\"ticks\":\"\"},\"colorscale\":[[0.0,\"#0d0887\"],[0.1111111111111111,\"#46039f\"],[0.2222222222222222,\"#7201a8\"],[0.3333333333333333,\"#9c179e\"],[0.4444444444444444,\"#bd3786\"],[0.5555555555555556,\"#d8576b\"],[0.6666666666666666,\"#ed7953\"],[0.7777777777777778,\"#fb9f3a\"],[0.8888888888888888,\"#fdca26\"],[1.0,\"#f0f921\"]],\"type\":\"histogram2dcontour\"}],\"histogram2d\":[{\"colorbar\":{\"outlinewidth\":0,\"ticks\":\"\"},\"colorscale\":[[0.0,\"#0d0887\"],[0.1111111111111111,\"#46039f\"],[0.2222222222222222,\"#7201a8\"],[0.3333333333333333,\"#9c179e\"],[0.4444444444444444,\"#bd3786\"],[0.5555555555555556,\"#d8576b\"],[0.6666666666666666,\"#ed7953\"],[0.7777777777777778,\"#fb9f3a\"],[0.8888888888888888,\"#fdca26\"],[1.0,\"#f0f921\"]],\"type\":\"histogram2d\"}],\"histogram\":[{\"marker\":{\"pattern\":{\"fillmode\":\"overlay\",\"size\":10,\"solidity\":0.2}},\"type\":\"histogram\"}],\"mesh3d\":[{\"colorbar\":{\"outlinewidth\":0,\"ticks\":\"\"},\"type\":\"mesh3d\"}],\"parcoords\":[{\"line\":{\"colorbar\":{\"outlinewidth\":0,\"ticks\":\"\"}},\"type\":\"parcoords\"}],\"pie\":[{\"automargin\":true,\"type\":\"pie\"}],\"scatter3d\":[{\"line\":{\"colorbar\":{\"outlinewidth\":0,\"ticks\":\"\"}},\"marker\":{\"colorbar\":{\"outlinewidth\":0,\"ticks\":\"\"}},\"type\":\"scatter3d\"}],\"scattercarpet\":[{\"marker\":{\"colorbar\":{\"outlinewidth\":0,\"ticks\":\"\"}},\"type\":\"scattercarpet\"}],\"scattergeo\":[{\"marker\":{\"colorbar\":{\"outlinewidth\":0,\"ticks\":\"\"}},\"type\":\"scattergeo\"}],\"scattergl\":[{\"marker\":{\"colorbar\":{\"outlinewidth\":0,\"ticks\":\"\"}},\"type\":\"scattergl\"}],\"scattermapbox\":[{\"marker\":{\"colorbar\":{\"outlinewidth\":0,\"ticks\":\"\"}},\"type\":\"scattermapbox\"}],\"scatterpolargl\":[{\"marker\":{\"colorbar\":{\"outlinewidth\":0,\"ticks\":\"\"}},\"type\":\"scatterpolargl\"}],\"scatterpolar\":[{\"marker\":{\"colorbar\":{\"outlinewidth\":0,\"ticks\":\"\"}},\"type\":\"scatterpolar\"}],\"scatter\":[{\"fillpattern\":{\"fillmode\":\"overlay\",\"size\":10,\"solidity\":0.2},\"type\":\"scatter\"}],\"scatterternary\":[{\"marker\":{\"colorbar\":{\"outlinewidth\":0,\"ticks\":\"\"}},\"type\":\"scatterternary\"}],\"surface\":[{\"colorbar\":{\"outlinewidth\":0,\"ticks\":\"\"},\"colorscale\":[[0.0,\"#0d0887\"],[0.1111111111111111,\"#46039f\"],[0.2222222222222222,\"#7201a8\"],[0.3333333333333333,\"#9c179e\"],[0.4444444444444444,\"#bd3786\"],[0.5555555555555556,\"#d8576b\"],[0.6666666666666666,\"#ed7953\"],[0.7777777777777778,\"#fb9f3a\"],[0.8888888888888888,\"#fdca26\"],[1.0,\"#f0f921\"]],\"type\":\"surface\"}],\"table\":[{\"cells\":{\"fill\":{\"color\":\"#EBF0F8\"},\"line\":{\"color\":\"white\"}},\"header\":{\"fill\":{\"color\":\"#C8D4E3\"},\"line\":{\"color\":\"white\"}},\"type\":\"table\"}]},\"layout\":{\"annotationdefaults\":{\"arrowcolor\":\"#2a3f5f\",\"arrowhead\":0,\"arrowwidth\":1},\"autotypenumbers\":\"strict\",\"coloraxis\":{\"colorbar\":{\"outlinewidth\":0,\"ticks\":\"\"}},\"colorscale\":{\"diverging\":[[0,\"#8e0152\"],[0.1,\"#c51b7d\"],[0.2,\"#de77ae\"],[0.3,\"#f1b6da\"],[0.4,\"#fde0ef\"],[0.5,\"#f7f7f7\"],[0.6,\"#e6f5d0\"],[0.7,\"#b8e186\"],[0.8,\"#7fbc41\"],[0.9,\"#4d9221\"],[1,\"#276419\"]],\"sequential\":[[0.0,\"#0d0887\"],[0.1111111111111111,\"#46039f\"],[0.2222222222222222,\"#7201a8\"],[0.3333333333333333,\"#9c179e\"],[0.4444444444444444,\"#bd3786\"],[0.5555555555555556,\"#d8576b\"],[0.6666666666666666,\"#ed7953\"],[0.7777777777777778,\"#fb9f3a\"],[0.8888888888888888,\"#fdca26\"],[1.0,\"#f0f921\"]],\"sequentialminus\":[[0.0,\"#0d0887\"],[0.1111111111111111,\"#46039f\"],[0.2222222222222222,\"#7201a8\"],[0.3333333333333333,\"#9c179e\"],[0.4444444444444444,\"#bd3786\"],[0.5555555555555556,\"#d8576b\"],[0.6666666666666666,\"#ed7953\"],[0.7777777777777778,\"#fb9f3a\"],[0.8888888888888888,\"#fdca26\"],[1.0,\"#f0f921\"]]},\"colorway\":[\"#636efa\",\"#EF553B\",\"#00cc96\",\"#ab63fa\",\"#FFA15A\",\"#19d3f3\",\"#FF6692\",\"#B6E880\",\"#FF97FF\",\"#FECB52\"],\"font\":{\"color\":\"#2a3f5f\"},\"geo\":{\"bgcolor\":\"white\",\"lakecolor\":\"white\",\"landcolor\":\"white\",\"showlakes\":true,\"showland\":true,\"subunitcolor\":\"#C8D4E3\"},\"hoverlabel\":{\"align\":\"left\"},\"hovermode\":\"closest\",\"mapbox\":{\"style\":\"light\"},\"paper_bgcolor\":\"white\",\"plot_bgcolor\":\"white\",\"polar\":{\"angularaxis\":{\"gridcolor\":\"#EBF0F8\",\"linecolor\":\"#EBF0F8\",\"ticks\":\"\"},\"bgcolor\":\"white\",\"radialaxis\":{\"gridcolor\":\"#EBF0F8\",\"linecolor\":\"#EBF0F8\",\"ticks\":\"\"}},\"scene\":{\"xaxis\":{\"backgroundcolor\":\"white\",\"gridcolor\":\"#DFE8F3\",\"gridwidth\":2,\"linecolor\":\"#EBF0F8\",\"showbackground\":true,\"ticks\":\"\",\"zerolinecolor\":\"#EBF0F8\"},\"yaxis\":{\"backgroundcolor\":\"white\",\"gridcolor\":\"#DFE8F3\",\"gridwidth\":2,\"linecolor\":\"#EBF0F8\",\"showbackground\":true,\"ticks\":\"\",\"zerolinecolor\":\"#EBF0F8\"},\"zaxis\":{\"backgroundcolor\":\"white\",\"gridcolor\":\"#DFE8F3\",\"gridwidth\":2,\"linecolor\":\"#EBF0F8\",\"showbackground\":true,\"ticks\":\"\",\"zerolinecolor\":\"#EBF0F8\"}},\"shapedefaults\":{\"line\":{\"color\":\"#2a3f5f\"}},\"ternary\":{\"aaxis\":{\"gridcolor\":\"#DFE8F3\",\"linecolor\":\"#A2B1C6\",\"ticks\":\"\"},\"baxis\":{\"gridcolor\":\"#DFE8F3\",\"linecolor\":\"#A2B1C6\",\"ticks\":\"\"},\"bgcolor\":\"white\",\"caxis\":{\"gridcolor\":\"#DFE8F3\",\"linecolor\":\"#A2B1C6\",\"ticks\":\"\"}},\"title\":{\"x\":0.05},\"xaxis\":{\"automargin\":true,\"gridcolor\":\"#EBF0F8\",\"linecolor\":\"#EBF0F8\",\"ticks\":\"\",\"title\":{\"standoff\":15},\"zerolinecolor\":\"#EBF0F8\",\"zerolinewidth\":2},\"yaxis\":{\"automargin\":true,\"gridcolor\":\"#EBF0F8\",\"linecolor\":\"#EBF0F8\",\"ticks\":\"\",\"title\":{\"standoff\":15},\"zerolinecolor\":\"#EBF0F8\",\"zerolinewidth\":2}}},\"shapes\":[{\"line\":{\"color\":\"red\",\"dash\":\"dash\",\"width\":1},\"type\":\"line\",\"x0\":\"2024-07-01\",\"x1\":\"2024-07-01\",\"xref\":\"x\",\"y0\":0,\"y1\":1,\"yref\":\"y domain\"}],\"yaxis\":{\"title\":{\"text\":\"Day closing return (%)\"},\"tickformat\":\".0%\",\"range\":[0.75,1.6]},\"title\":{\"text\":\"1 Month Prediction vs Actual Plot\"},\"xaxis\":{\"title\":{\"text\":\"Date\"}},\"legend\":{\"title\":{\"text\":\"Legend\"}}},                        {\"responsive\": true}                    ).then(function(){\n",
       "                            \n",
       "var gd = document.getElementById('f87b2847-6a9c-4e07-a3d6-63a856f95f59');\n",
       "var x = new MutationObserver(function (mutations, observer) {{\n",
       "        var display = window.getComputedStyle(gd).display;\n",
       "        if (!display || display === 'none') {{\n",
       "            console.log([gd, 'removed!']);\n",
       "            Plotly.purge(gd);\n",
       "            observer.disconnect();\n",
       "        }}\n",
       "}});\n",
       "\n",
       "// Listen for the removal of the full notebook cells\n",
       "var notebookContainer = gd.closest('#notebook-container');\n",
       "if (notebookContainer) {{\n",
       "    x.observe(notebookContainer, {childList: true});\n",
       "}}\n",
       "\n",
       "// Listen for the clearing of the current output cell\n",
       "var outputEl = gd.closest('.output');\n",
       "if (outputEl) {{\n",
       "    x.observe(outputEl, {childList: true});\n",
       "}}\n",
       "\n",
       "                        })                };                });            </script>        </div>"
      ]
     },
     "metadata": {},
     "output_type": "display_data"
    }
   ],
   "execution_count": 67
  },
  {
   "metadata": {},
   "cell_type": "markdown",
   "source": "#### Overview table",
   "id": "b5fac90a5039f917"
  },
  {
   "metadata": {
    "ExecuteTime": {
     "end_time": "2025-04-09T18:16:54.711586Z",
     "start_time": "2025-04-08T22:07:27.392541Z"
    }
   },
   "cell_type": "code",
   "source": [
    "importlib.reload(comparison)\n",
    "\n",
    "# Get train true values followed with predicted month/s\n",
    "y_train_12m_list = y_train_12m['m_return_target(t+12)'].tolist()\n",
    "y_test_12m_list = y_test_pred_12m.tolist()\n",
    "#\n",
    "df_to_evaluate_12m = comparison.get_df_from_pred_list(df, y_train_12m_list, y_test_12m_list)\n",
    "df_to_evaluate_12m = df_to_evaluate_12m - 1\n",
    "df_to_evaluate_12m"
   ],
   "id": "c4dd13fb1fb5f1d2",
   "outputs": [
    {
     "data": {
      "text/plain": [
       "        RS1.L        KE    TEG.DE    LEG.DE       SCS       HNI       AVT  \\\n",
       "0    0.000000  0.000000  0.320000  0.000000  0.050000  0.100000  0.140000   \n",
       "1    0.000000  0.000000  0.050000 -0.020000  0.090000  0.060000  0.150000   \n",
       "2    0.000000  0.000000 -0.150000  0.000000  0.040000  0.090000  0.070000   \n",
       "3    0.010000  0.000000  0.040000  0.000000  0.070000  0.010000  0.050000   \n",
       "4    0.000000  0.000000 -0.020000  0.000000 -0.030000 -0.030000 -0.010000   \n",
       "..        ...       ...       ...       ...       ...       ...       ...   \n",
       "271 -0.050000  0.100000  0.060000  0.020000  0.140000  0.120000  0.120000   \n",
       "272  0.000000 -0.040000 -0.040000 -0.030000 -0.050000 -0.040000 -0.060000   \n",
       "273  0.190000  0.080000  0.020000  0.060000  0.120000  0.220000  0.050000   \n",
       "274 -0.040000 -0.220000  0.060000  0.080000 -0.020000 -0.020000  0.030000   \n",
       "275 -0.009986 -0.049807  0.100052  0.080228 -0.069762 -0.070022 -0.099893   \n",
       "\n",
       "         ACCO    VNA.DE    7912.T  ...    DEQ.DE      KIDS      HALO  \\\n",
       "0    0.000000  0.000000  0.140000  ...  0.000000  0.000000  0.000000   \n",
       "1    1.430000 -0.020000  0.010000  ...  0.000000  0.000000  0.000000   \n",
       "2    0.000000  0.000000 -0.010000  ... -0.120000  0.000000  0.000000   \n",
       "3   -0.650000  0.000000 -0.100000  ...  0.000000  0.000000  0.000000   \n",
       "4    0.060000  0.000000  0.100000  ...  0.010000 -0.100000  0.000000   \n",
       "..        ...       ...       ...  ...       ...       ...       ...   \n",
       "271  0.060000  0.060000  0.060000  ...  0.090000  0.070000  0.160000   \n",
       "272 -0.060000 -0.050000  0.110000  ...  0.070000 -0.090000  0.180000   \n",
       "273  0.090000  0.070000 -0.080000  ...  0.100000  0.070000  0.060000   \n",
       "274  0.070000  0.100000  0.060000  ... -0.050000  0.040000  0.160000   \n",
       "275 -0.040569  0.070187 -0.010023  ...  0.109984 -0.040133 -0.069829   \n",
       "\n",
       "         MATW    9842.T      KVHI    MOON.L       NEO    6055.T       UNP  \n",
       "0    0.040000  0.000000  0.530000  0.000000  0.000000  0.010000  0.110000  \n",
       "1    0.050000  0.000000 -0.170000  0.000000  0.000000  0.000000  0.060000  \n",
       "2    0.020000  0.000000 -0.010000  0.000000  0.000000  0.000000  0.040000  \n",
       "3    0.010000  0.000000  0.230000  0.000000 -0.050000 -0.010000  0.090000  \n",
       "4   -0.030000  0.000000  0.020000  0.000000  0.000000  0.010000 -0.020000  \n",
       "..        ...       ...       ...       ...       ...       ...       ...  \n",
       "271  0.050000 -0.010000  0.080000  0.030000 -0.020000 -0.140000 -0.020000  \n",
       "272 -0.110000  0.010000 -0.100000  0.190000  0.010000  0.140000 -0.020000  \n",
       "273  0.160000 -0.060000 -0.040000  0.140000  0.280000 -0.100000  0.090000  \n",
       "274 -0.130000 -0.040000  0.000000 -0.030000 -0.070000 -0.110000  0.040000  \n",
       "275 -0.069842  0.000011  0.000519 -0.049841 -0.049699 -0.060177 -0.009999  \n",
       "\n",
       "[276 rows x 1653 columns]"
      ],
      "text/html": [
       "<div>\n",
       "<style scoped>\n",
       "    .dataframe tbody tr th:only-of-type {\n",
       "        vertical-align: middle;\n",
       "    }\n",
       "\n",
       "    .dataframe tbody tr th {\n",
       "        vertical-align: top;\n",
       "    }\n",
       "\n",
       "    .dataframe thead th {\n",
       "        text-align: right;\n",
       "    }\n",
       "</style>\n",
       "<table border=\"1\" class=\"dataframe\">\n",
       "  <thead>\n",
       "    <tr style=\"text-align: right;\">\n",
       "      <th></th>\n",
       "      <th>RS1.L</th>\n",
       "      <th>KE</th>\n",
       "      <th>TEG.DE</th>\n",
       "      <th>LEG.DE</th>\n",
       "      <th>SCS</th>\n",
       "      <th>HNI</th>\n",
       "      <th>AVT</th>\n",
       "      <th>ACCO</th>\n",
       "      <th>VNA.DE</th>\n",
       "      <th>7912.T</th>\n",
       "      <th>...</th>\n",
       "      <th>DEQ.DE</th>\n",
       "      <th>KIDS</th>\n",
       "      <th>HALO</th>\n",
       "      <th>MATW</th>\n",
       "      <th>9842.T</th>\n",
       "      <th>KVHI</th>\n",
       "      <th>MOON.L</th>\n",
       "      <th>NEO</th>\n",
       "      <th>6055.T</th>\n",
       "      <th>UNP</th>\n",
       "    </tr>\n",
       "  </thead>\n",
       "  <tbody>\n",
       "    <tr>\n",
       "      <th>0</th>\n",
       "      <td>0.000000</td>\n",
       "      <td>0.000000</td>\n",
       "      <td>0.320000</td>\n",
       "      <td>0.000000</td>\n",
       "      <td>0.050000</td>\n",
       "      <td>0.100000</td>\n",
       "      <td>0.140000</td>\n",
       "      <td>0.000000</td>\n",
       "      <td>0.000000</td>\n",
       "      <td>0.140000</td>\n",
       "      <td>...</td>\n",
       "      <td>0.000000</td>\n",
       "      <td>0.000000</td>\n",
       "      <td>0.000000</td>\n",
       "      <td>0.040000</td>\n",
       "      <td>0.000000</td>\n",
       "      <td>0.530000</td>\n",
       "      <td>0.000000</td>\n",
       "      <td>0.000000</td>\n",
       "      <td>0.010000</td>\n",
       "      <td>0.110000</td>\n",
       "    </tr>\n",
       "    <tr>\n",
       "      <th>1</th>\n",
       "      <td>0.000000</td>\n",
       "      <td>0.000000</td>\n",
       "      <td>0.050000</td>\n",
       "      <td>-0.020000</td>\n",
       "      <td>0.090000</td>\n",
       "      <td>0.060000</td>\n",
       "      <td>0.150000</td>\n",
       "      <td>1.430000</td>\n",
       "      <td>-0.020000</td>\n",
       "      <td>0.010000</td>\n",
       "      <td>...</td>\n",
       "      <td>0.000000</td>\n",
       "      <td>0.000000</td>\n",
       "      <td>0.000000</td>\n",
       "      <td>0.050000</td>\n",
       "      <td>0.000000</td>\n",
       "      <td>-0.170000</td>\n",
       "      <td>0.000000</td>\n",
       "      <td>0.000000</td>\n",
       "      <td>0.000000</td>\n",
       "      <td>0.060000</td>\n",
       "    </tr>\n",
       "    <tr>\n",
       "      <th>2</th>\n",
       "      <td>0.000000</td>\n",
       "      <td>0.000000</td>\n",
       "      <td>-0.150000</td>\n",
       "      <td>0.000000</td>\n",
       "      <td>0.040000</td>\n",
       "      <td>0.090000</td>\n",
       "      <td>0.070000</td>\n",
       "      <td>0.000000</td>\n",
       "      <td>0.000000</td>\n",
       "      <td>-0.010000</td>\n",
       "      <td>...</td>\n",
       "      <td>-0.120000</td>\n",
       "      <td>0.000000</td>\n",
       "      <td>0.000000</td>\n",
       "      <td>0.020000</td>\n",
       "      <td>0.000000</td>\n",
       "      <td>-0.010000</td>\n",
       "      <td>0.000000</td>\n",
       "      <td>0.000000</td>\n",
       "      <td>0.000000</td>\n",
       "      <td>0.040000</td>\n",
       "    </tr>\n",
       "    <tr>\n",
       "      <th>3</th>\n",
       "      <td>0.010000</td>\n",
       "      <td>0.000000</td>\n",
       "      <td>0.040000</td>\n",
       "      <td>0.000000</td>\n",
       "      <td>0.070000</td>\n",
       "      <td>0.010000</td>\n",
       "      <td>0.050000</td>\n",
       "      <td>-0.650000</td>\n",
       "      <td>0.000000</td>\n",
       "      <td>-0.100000</td>\n",
       "      <td>...</td>\n",
       "      <td>0.000000</td>\n",
       "      <td>0.000000</td>\n",
       "      <td>0.000000</td>\n",
       "      <td>0.010000</td>\n",
       "      <td>0.000000</td>\n",
       "      <td>0.230000</td>\n",
       "      <td>0.000000</td>\n",
       "      <td>-0.050000</td>\n",
       "      <td>-0.010000</td>\n",
       "      <td>0.090000</td>\n",
       "    </tr>\n",
       "    <tr>\n",
       "      <th>4</th>\n",
       "      <td>0.000000</td>\n",
       "      <td>0.000000</td>\n",
       "      <td>-0.020000</td>\n",
       "      <td>0.000000</td>\n",
       "      <td>-0.030000</td>\n",
       "      <td>-0.030000</td>\n",
       "      <td>-0.010000</td>\n",
       "      <td>0.060000</td>\n",
       "      <td>0.000000</td>\n",
       "      <td>0.100000</td>\n",
       "      <td>...</td>\n",
       "      <td>0.010000</td>\n",
       "      <td>-0.100000</td>\n",
       "      <td>0.000000</td>\n",
       "      <td>-0.030000</td>\n",
       "      <td>0.000000</td>\n",
       "      <td>0.020000</td>\n",
       "      <td>0.000000</td>\n",
       "      <td>0.000000</td>\n",
       "      <td>0.010000</td>\n",
       "      <td>-0.020000</td>\n",
       "    </tr>\n",
       "    <tr>\n",
       "      <th>...</th>\n",
       "      <td>...</td>\n",
       "      <td>...</td>\n",
       "      <td>...</td>\n",
       "      <td>...</td>\n",
       "      <td>...</td>\n",
       "      <td>...</td>\n",
       "      <td>...</td>\n",
       "      <td>...</td>\n",
       "      <td>...</td>\n",
       "      <td>...</td>\n",
       "      <td>...</td>\n",
       "      <td>...</td>\n",
       "      <td>...</td>\n",
       "      <td>...</td>\n",
       "      <td>...</td>\n",
       "      <td>...</td>\n",
       "      <td>...</td>\n",
       "      <td>...</td>\n",
       "      <td>...</td>\n",
       "      <td>...</td>\n",
       "      <td>...</td>\n",
       "    </tr>\n",
       "    <tr>\n",
       "      <th>271</th>\n",
       "      <td>-0.050000</td>\n",
       "      <td>0.100000</td>\n",
       "      <td>0.060000</td>\n",
       "      <td>0.020000</td>\n",
       "      <td>0.140000</td>\n",
       "      <td>0.120000</td>\n",
       "      <td>0.120000</td>\n",
       "      <td>0.060000</td>\n",
       "      <td>0.060000</td>\n",
       "      <td>0.060000</td>\n",
       "      <td>...</td>\n",
       "      <td>0.090000</td>\n",
       "      <td>0.070000</td>\n",
       "      <td>0.160000</td>\n",
       "      <td>0.050000</td>\n",
       "      <td>-0.010000</td>\n",
       "      <td>0.080000</td>\n",
       "      <td>0.030000</td>\n",
       "      <td>-0.020000</td>\n",
       "      <td>-0.140000</td>\n",
       "      <td>-0.020000</td>\n",
       "    </tr>\n",
       "    <tr>\n",
       "      <th>272</th>\n",
       "      <td>0.000000</td>\n",
       "      <td>-0.040000</td>\n",
       "      <td>-0.040000</td>\n",
       "      <td>-0.030000</td>\n",
       "      <td>-0.050000</td>\n",
       "      <td>-0.040000</td>\n",
       "      <td>-0.060000</td>\n",
       "      <td>-0.060000</td>\n",
       "      <td>-0.050000</td>\n",
       "      <td>0.110000</td>\n",
       "      <td>...</td>\n",
       "      <td>0.070000</td>\n",
       "      <td>-0.090000</td>\n",
       "      <td>0.180000</td>\n",
       "      <td>-0.110000</td>\n",
       "      <td>0.010000</td>\n",
       "      <td>-0.100000</td>\n",
       "      <td>0.190000</td>\n",
       "      <td>0.010000</td>\n",
       "      <td>0.140000</td>\n",
       "      <td>-0.020000</td>\n",
       "    </tr>\n",
       "    <tr>\n",
       "      <th>273</th>\n",
       "      <td>0.190000</td>\n",
       "      <td>0.080000</td>\n",
       "      <td>0.020000</td>\n",
       "      <td>0.060000</td>\n",
       "      <td>0.120000</td>\n",
       "      <td>0.220000</td>\n",
       "      <td>0.050000</td>\n",
       "      <td>0.090000</td>\n",
       "      <td>0.070000</td>\n",
       "      <td>-0.080000</td>\n",
       "      <td>...</td>\n",
       "      <td>0.100000</td>\n",
       "      <td>0.070000</td>\n",
       "      <td>0.060000</td>\n",
       "      <td>0.160000</td>\n",
       "      <td>-0.060000</td>\n",
       "      <td>-0.040000</td>\n",
       "      <td>0.140000</td>\n",
       "      <td>0.280000</td>\n",
       "      <td>-0.100000</td>\n",
       "      <td>0.090000</td>\n",
       "    </tr>\n",
       "    <tr>\n",
       "      <th>274</th>\n",
       "      <td>-0.040000</td>\n",
       "      <td>-0.220000</td>\n",
       "      <td>0.060000</td>\n",
       "      <td>0.080000</td>\n",
       "      <td>-0.020000</td>\n",
       "      <td>-0.020000</td>\n",
       "      <td>0.030000</td>\n",
       "      <td>0.070000</td>\n",
       "      <td>0.100000</td>\n",
       "      <td>0.060000</td>\n",
       "      <td>...</td>\n",
       "      <td>-0.050000</td>\n",
       "      <td>0.040000</td>\n",
       "      <td>0.160000</td>\n",
       "      <td>-0.130000</td>\n",
       "      <td>-0.040000</td>\n",
       "      <td>0.000000</td>\n",
       "      <td>-0.030000</td>\n",
       "      <td>-0.070000</td>\n",
       "      <td>-0.110000</td>\n",
       "      <td>0.040000</td>\n",
       "    </tr>\n",
       "    <tr>\n",
       "      <th>275</th>\n",
       "      <td>-0.009986</td>\n",
       "      <td>-0.049807</td>\n",
       "      <td>0.100052</td>\n",
       "      <td>0.080228</td>\n",
       "      <td>-0.069762</td>\n",
       "      <td>-0.070022</td>\n",
       "      <td>-0.099893</td>\n",
       "      <td>-0.040569</td>\n",
       "      <td>0.070187</td>\n",
       "      <td>-0.010023</td>\n",
       "      <td>...</td>\n",
       "      <td>0.109984</td>\n",
       "      <td>-0.040133</td>\n",
       "      <td>-0.069829</td>\n",
       "      <td>-0.069842</td>\n",
       "      <td>0.000011</td>\n",
       "      <td>0.000519</td>\n",
       "      <td>-0.049841</td>\n",
       "      <td>-0.049699</td>\n",
       "      <td>-0.060177</td>\n",
       "      <td>-0.009999</td>\n",
       "    </tr>\n",
       "  </tbody>\n",
       "</table>\n",
       "<p>276 rows × 1653 columns</p>\n",
       "</div>"
      ]
     },
     "execution_count": 68,
     "metadata": {},
     "output_type": "execute_result"
    }
   ],
   "execution_count": 68
  },
  {
   "metadata": {
    "ExecuteTime": {
     "end_time": "2025-04-09T18:16:54.711868Z",
     "start_time": "2025-04-08T22:07:27.801396Z"
    }
   },
   "cell_type": "code",
   "source": [
    "importlib.reload(comparison)\n",
    "df_pred_12m, raw_weights_12m, mu_12m, S_12m, sigma_12m, sharpe_12m = comparison.get_portfolio_performance(df_to_evaluate_12m,\n",
    "                                                                                                          \"xgbooster_weights_12m.csv\",\n",
    "                                                                                                          min_avg_return=-0.5,\n",
    "                                                                                                          months=12)\n",
    "comparison.create_discrete_allocation(df_pred_12m, raw_weights_12m)\n",
    "\n",
    "# Create overview\n",
    "df_view_12m = pd.DataFrame.from_dict(raw_weights_12m, orient='index', columns=['max_sharpe_weight'])\n",
    "# Extract volatilities (square root of diagonal elements)\n",
    "df_view_12m['avg_annual_volatility'] = pd.Series(np.sqrt(np.diag(S_12m)), index=S_12m.columns).values\n",
    "# Set annual returns\n",
    "df_view_12m['avg_annual_return'] = mu_12m.values\n",
    "# \n",
    "df_view_12m['return_last_period(12m)'] = round(df.tail(12).prod() - 1, 2)\n",
    "df_view_12m"
   ],
   "id": "3a171696f1592bdb",
   "outputs": [
    {
     "name": "stdout",
     "output_type": "stream",
     "text": [
      "Expected annual return: 67.5%\n",
      "Annual volatility: 52.0%\n",
      "Sharpe Ratio: 1.26\n",
      "Discrete allocation: {'TEG.DE': 596, 'LEG.DE': 550, 'VNA.DE': 626, 'SGRO.L': 699, 'CBRE': 1355, 'PSON.L': 23027, 'BBOX.L': 739, 'REL.L': 926, 'GPE.L': 566, 'HAS': 22760, 'JLL': 48072, 'LAND.L': 503, 'OLED': 1091, 'RYN': 19376, '2379.T': 24357, 'BYG.L': 777, 'DB1.DE': 788, 'AVB': 1190, 'BLND.L': 572, '8954.T': 534, 'ACN': 659, 'SVS.L': 25148, 'AGNC': 660, 'EBOX.L': 16774, '7994.T': 658, '3283.T': 446, 'NBS.L': 1222, '6183.T': 534, '7984.T': 728, 'CCK': 24208, 'UU.L': 664, 'INF.L': 1174, 'HMSO.L': 379, 'WPP.L': 738, 'WKP.L': 616, '6028.T': 1187, 'NLY': 1147, '7951.T': 1173, '7846.T': 508, 'SBAC': 445, 'ELME': 2621, 'INS.DE': 802, 'AT1.DE': 270, 'EXPN.L': 20800, 'GRI.L': 24370, 'CUZ': 1368, 'PHP.L': 610, 'NL': 1049, 'BALL': 1181, 'DHR': 658, 'KIM': 17463, 'ECOR.L': 661, '8151.T': 794, 'PLD': 534, 'RHI': 1174, '7868.T': 582, 'HEAD.L': 583, 'RCH.L': 701, 'GWI.L': 31162, 'ZWS': 1174, '2154.T': 533, 'ADV.DE': 1117, 'CAH': 1614, 'VTR': 947, 'REG': 818, '7976.T': 686, 'API.L': 797, 'PNN.L': 755, 'WIX.L': 1684, 'EQR': 914, '8952.T': 749, 'SPGI': 2076, '8976.T': 1168, '2124.T': 560, '4641.T': 669, 'CWC.DE': 28512, 'STX': 1058, 'ESS': 1524, 'AMH': 21955, 'HIW': 26848, 'MAA': 1522, 'RDFN': 227, '4848.T': 533, '3107.T': 1474, 'PSA': 648, 'AY': 942, 'ORLY': 19437, 'LOW': 21416, 'ALV.DE': 1585, 'LMP.L': 750, 'CCI': 475, 'DLN.L': 604, 'AMBP': 35364, 'HFD.L': 534, '8060.T': 539, 'BRX': 25383, 'FME.DE': 399, 'DLR': 832, 'SAFE.L': 578, '7864.T': 630, 'HLCL.L': 469, '3466.T': 1261, '9468.T': 598, '4732.T': 697, 'KBX.DE': 24356, 'JDG.L': 1181, 'IRM': 3920, 'G1A.DE': 23135, 'RNW': 428, 'FRT': 1934, '6702.T': 970, '1925.T': 1003, 'JD.L': 667, '6448.T': 687, 'AMT': 500, 'ESCA': 497, 'BCYC': 123, '6915.T': 1370, 'TMO': 1168, '9934.T': 1493, '3462.T': 504, 'HD': 1162, 'EGP': 24370, 'NWL': 1251, 'HASI': 964, 'ASCL.L': 41470, 'UDR': 910, 'G24.DE': 470, '8967.T': 534, '3295.T': 1170, 'SBRA': 611, 'EQIX': 533, 'BIG.L': 1157, 'SREI.L': 1473, 'UTG.L': 599, 'SVT.L': 682, 'DHL.DE': 22894, '8984.T': 622, 'SUPR.L': 583, 'AOX.DE': 2320, 'JBGS': 17445, 'ARE': 24300, 'TW.L': 35695, '7867.T': 763, 'SKT': 1410, '3282.T': 673, 'IBM': 1307, '6200.T': 24192, 'TSCO': 863, 'ACRE': 24272, 'CEC.DE': 34398, 'BCPT.L': 348, 'GWRE': 488, 'LEVI': 1680, 'NDAQ': 23561, 'QGEN': 22916, 'DWNI.DE': 374, 'GAW.L': 1110, 'CRI': 428, 'TPR': 28044, 'COMM': 97, 'FRE.DE': 655, 'HOFT': 652, 'IPO.L': 459, '8955.T': 491, 'MKTX': 428, 'CREI.L': 496, 'WPC': 673, 'ELS': 629, 'AKR': 15142, 'TGNA': 657, 'VICI': 795, 'HWDN.L': 30872, 'MRL.L': 9986, 'GPMT': 24074, 'RL': 1162, 'INVP.L': 859, 'FRA.DE': 582, 'MOTR.L': 562, 'COLD': 24359, 'ADBE': 19130, 'GYC.DE': 782, 'ITI': 3389, '6866.T': 24342, 'EXR': 17334, 'FGP.L': 1069, 'HL.L': 35654, 'HELE': 673, 'FIS': 1476, 'VOD.L': 1207, '8953.T': 402, 'SRE.L': 1232, 'SUI': 496, 'COLM': 1181, 'ALFA.L': 309, 'ORCL': 492, 'HLN.L': 614, 'CTRE': 2764, '4849.T': 20478, '3493.T': 730, 'VEEV': 583, 'TPT.L': 532, 'FCPT': 667, 'HTG.DE': 304, 'SAFE': 1084, 'RESI.L': 697, '9602.T': 522, 'HWG.L': 1733, 'GLPI': 1288, '8283.T': 1614, '8951.T': 644, '4307.T': 661, '4194.T': 622, 'HRB': 18081, 'DT': 24540, '7947.T': 698, '3002.T': 1524, 'FR': 19719, 'NOW': 2748, 'V': 699, '3738.T': 1602, 'AGS': 158, '3487.T': 24372, '7552.T': 835, 'ADP': 1169, 'HIG': 2992, 'CIM': 1027, 'ZTS': 533, 'ADSK': 25790, 'WY': 660, '3281.T': 795, 'ADC': 782, '6674.T': 496, 'AON': 659, 'SYY': 1311, 'DXC': 24141, '6460.T': 349, 'EBAY': 753, 'GSK.L': 748, 'SCI': 1302, 'TJX': 1589, 'ULTA': 459, 'O': 907, 'BNL': 27542, 'CPI.L': 1, '3591.T': 1732, 'BR': 1202, '8008.T': 691, 'MA': 1208, '5991.T': 929, 'COO': 833, 'IDS.L': 2574, 'WHR.L': 581, 'ASO': 5391, 'BNZL.L': 841, '8964.T': 1178, '8056.T': 615, '7832.T': 769, 'ABDN.L': 615, '6417.T': 2029, 'DEA': 578, 'DX': 1161, 'NRR.L': 600, '6744.T': 451, '2733.T': 845, '3226.T': 869, 'MMSI': 22275, 'ITRK.L': 21767, '7419.T': 625, 'EPR': 1408, '1928.T': 1120, 'PSDL.L': 1131, 'THRL.L': 428, 'BOOT': 411, 'DE': 22366, 'GIII': 247, 'VOYA': 1165, 'CCO': 580, 'NG.L': 574, 'AAN': 23146, 'GPS': 2062, 'JST.DE': 658, 'ESP.L': 658, 'NNN': 887, 'NMRK': 891, 'MER.L': 1076, 'HIBB': 1855, 'EOAN.DE': 624, '7296.T': 798, '3092.T': 2029, '2784.T': 1203, 'BKE': 1047, 'SRT3.DE': 1195, 'VRSK': 22597, 'IDXX': 583, 'CPRI': 458, '9843.T': 694, 'CIO': 1226, 'LTC': 1423, 'PCTN.L': 828, '3765.T': 20623, '9735.T': 703, 'FDS': 534, 'VTY.L': 1245, 'AEWU.L': 460, 'AVTR': 659, 'MCG.L': 398, '3292.T': 23538, 'IHRT': 235, 'SOHO.L': 17, 'EQC': 28439, 'DGE.L': 24350, 'BXMT': 24361, 'CUBE': 738, '1911.T': 1639, 'SMAR': 613, 'OPI': 601, '4745.T': 21304, 'LGEN.L': 583, 'PAYX': 629, '6644.T': 559, 'IHG.L': 725, '6736.T': 1790, '3269.T': 1248, 'UNIT': 201, 'EVD.DE': 1162, '6425.T': 658, 'INTU': 1201, 'WTW': 21665, '9627.T': 18390, '4665.T': 620, 'YUMC': 1122, 'EFC': 1317, 'BWY.L': 781, 'U': 639, 'CTAS': 1785, 'UNH': 1519, 'SSE.L': 604, 'EPRT': 3225, '6750.T': 21847, 'COK.DE': 24143, 'KVUE': 492, '4433.T': 1168, 'CME': 1268, 'ASHM.L': 1182, '4452.T': 599, 'LNT': 946, '4751.T': 700, 'LSEG.L': 878, 'ROST': 11967, '1973.T': 1332, '8439.T': 477, 'PAT.DE': 636, 'OHI': 696, 'CCH.L': 1432, '9364.T': 717, 'DAY': 1277, 'SNDR': 24347, 'MDB': 1173, 'MERC': 697, 'IHR.L': 1183, '9831.T': 18917, '9401.T': 2528, '9719.T': 1554, 'IVR': 22857, 'RMV.L': 172, 'GXI.DE': 24347, '3050.T': 691, 'SAIA': 325, 'NETW.L': 24350, 'HHFA.DE': 23170, 'PECO': 717, '8129.T': 1170, '9404.T': 23650, 'HR': 713, '9076.T': 748, 'MPW': 426, 'ZIG.L': 1355, '6923.T': 20439, 'KREF': 1174, 'PFE': 583, '3046.T': 3321, '9024.T': 644, '4716.T': 982, 'RBLX': 1238, 'ENT.L': 428, '4689.T': 23405, 'SY1.DE': 1907, '2331.T': 786, '5110.T': 1163, 'FWRD': 497, 'AUTO.L': 1127, 'NSA': 1914, 'ES': 1170, 'EEX': 319, 'WTB.L': 459, 'KSS': 580, '4816.T': 829, 'ONT.L': 178, '7354.T': 428, 'TWKS': 1103, 'BEZ.L': 785, 'PRSR.L': 2694, 'DDS': 23707, '4549.T': 2358, '7575.T': 496, 'EVRI': 24126, 'ORC': 1204, 'GTY.DE': 16, '7747.T': 583, 'NTST': 583, '3086.T': 534, '9987.T': 803, 'ARR': 657, 'DTE.DE': 1233, 'PFC.L': 496, 'BEPC': 30516, '3481.T': 817, 'GTY': 19228, 'TYL': 2742, '7459.T': 623, '9613.T': 469, 'PAYC': 582, 'PACB': 123, 'WTRG': 656, 'CPG.L': 777, 'PWSC': 24067, '8308.T': 1000, 'CNK': 740, 'PHNX.L': 1332, 'CTO': 430, 'ICE': 21712, 'ROL': 1091, 'IIPR': 33267, 'JKHY': 1160, 'ICUI': 24222, 'AWK': 605, 'NHI': 1293, 'UPS': 658, 'EXC': 564, '3290.T': 1204, 'VZ': 898, 'PKST': 645, 'PLUS.L': 6173, 'WWW': 3618, '9684.T': 661, 'SCVL': 23915, '9697.T': 573, '7860.T': 795, 'NXU.DE': 459, 'VOXX': 460, 'SPWH': 283, '9766.T': 1237, '7606.T': 939, '9413.T': 2377, 'BOOT.L': 11451, 'IT': 845, 'BGFV': 777, '9869.T': 23513, 'APLD': 32, 'SBRY.L': 790, '9069.T': 820, '2433.T': 16184, 'LSTR': 24343, '8252.T': 585, '8086.T': 576, 'ROP': 21112, '3994.T': 24307, '2502.T': 621, 'TRU': 24171, 'KETL.L': 22226, 'PETQ': 22255, 'FIE.DE': 456, '9605.T': 532, '4676.T': 700, 'FUBO': 603, 'CLFD': 646, 'MVIS': 262, '9409.T': 1276, 'GMRE': 22034, 'FLTR.L': 701, '2792.T': 993, 'RERE': 13344, 'PSTL': 609, '7458.T': 583, 'ECV.DE': 3, 'IOT': 360, '7453.T': 16714, 'CARD.L': 914, '2471.T': 965, 'LQDT': 800, 'GRG.L': 20634, 'MRNA': 708, 'TSCO.L': 869, 'PFD.L': 20448, '9143.T': 24203, 'PEN': 1159, '7518.T': 476, '9072.T': 2103, 'GAMA.L': 469, '2670.T': 595, 'DEQ.DE': 410, '9842.T': 25748, 'KVHI': 23414}\n",
      "Funds remaining: €11.52\n"
     ]
    },
    {
     "data": {
      "text/plain": [
       "        max_sharpe_weight  avg_annual_volatility  avg_annual_return  \\\n",
       "RS1.L             0.00000               8.622440           0.078503   \n",
       "KE                0.00000               8.627400          -0.352755   \n",
       "TEG.DE            0.00389               8.626091           0.629808   \n",
       "LEG.DE            0.00221               8.632463           0.494099   \n",
       "SCS               0.00000               8.626812           0.216904   \n",
       "...                   ...                    ...                ...   \n",
       "KVHI              0.00000               8.615108          -0.116586   \n",
       "MOON.L            0.00079               8.624348           0.222090   \n",
       "NEO               0.00000               8.665323           0.282414   \n",
       "6055.T            0.00000               8.640165          -0.264113   \n",
       "UNP               0.00055               8.608723           0.264961   \n",
       "\n",
       "        return_last_period(12m)  \n",
       "RS1.L                      0.08  \n",
       "KE                        -0.35  \n",
       "TEG.DE                     0.63  \n",
       "LEG.DE                     0.49  \n",
       "SCS                        0.22  \n",
       "...                         ...  \n",
       "KVHI                      -0.12  \n",
       "MOON.L                     0.22  \n",
       "NEO                        0.28  \n",
       "6055.T                    -0.26  \n",
       "UNP                        0.26  \n",
       "\n",
       "[1651 rows x 4 columns]"
      ],
      "text/html": [
       "<div>\n",
       "<style scoped>\n",
       "    .dataframe tbody tr th:only-of-type {\n",
       "        vertical-align: middle;\n",
       "    }\n",
       "\n",
       "    .dataframe tbody tr th {\n",
       "        vertical-align: top;\n",
       "    }\n",
       "\n",
       "    .dataframe thead th {\n",
       "        text-align: right;\n",
       "    }\n",
       "</style>\n",
       "<table border=\"1\" class=\"dataframe\">\n",
       "  <thead>\n",
       "    <tr style=\"text-align: right;\">\n",
       "      <th></th>\n",
       "      <th>max_sharpe_weight</th>\n",
       "      <th>avg_annual_volatility</th>\n",
       "      <th>avg_annual_return</th>\n",
       "      <th>return_last_period(12m)</th>\n",
       "    </tr>\n",
       "  </thead>\n",
       "  <tbody>\n",
       "    <tr>\n",
       "      <th>RS1.L</th>\n",
       "      <td>0.00000</td>\n",
       "      <td>8.622440</td>\n",
       "      <td>0.078503</td>\n",
       "      <td>0.08</td>\n",
       "    </tr>\n",
       "    <tr>\n",
       "      <th>KE</th>\n",
       "      <td>0.00000</td>\n",
       "      <td>8.627400</td>\n",
       "      <td>-0.352755</td>\n",
       "      <td>-0.35</td>\n",
       "    </tr>\n",
       "    <tr>\n",
       "      <th>TEG.DE</th>\n",
       "      <td>0.00389</td>\n",
       "      <td>8.626091</td>\n",
       "      <td>0.629808</td>\n",
       "      <td>0.63</td>\n",
       "    </tr>\n",
       "    <tr>\n",
       "      <th>LEG.DE</th>\n",
       "      <td>0.00221</td>\n",
       "      <td>8.632463</td>\n",
       "      <td>0.494099</td>\n",
       "      <td>0.49</td>\n",
       "    </tr>\n",
       "    <tr>\n",
       "      <th>SCS</th>\n",
       "      <td>0.00000</td>\n",
       "      <td>8.626812</td>\n",
       "      <td>0.216904</td>\n",
       "      <td>0.22</td>\n",
       "    </tr>\n",
       "    <tr>\n",
       "      <th>...</th>\n",
       "      <td>...</td>\n",
       "      <td>...</td>\n",
       "      <td>...</td>\n",
       "      <td>...</td>\n",
       "    </tr>\n",
       "    <tr>\n",
       "      <th>KVHI</th>\n",
       "      <td>0.00000</td>\n",
       "      <td>8.615108</td>\n",
       "      <td>-0.116586</td>\n",
       "      <td>-0.12</td>\n",
       "    </tr>\n",
       "    <tr>\n",
       "      <th>MOON.L</th>\n",
       "      <td>0.00079</td>\n",
       "      <td>8.624348</td>\n",
       "      <td>0.222090</td>\n",
       "      <td>0.22</td>\n",
       "    </tr>\n",
       "    <tr>\n",
       "      <th>NEO</th>\n",
       "      <td>0.00000</td>\n",
       "      <td>8.665323</td>\n",
       "      <td>0.282414</td>\n",
       "      <td>0.28</td>\n",
       "    </tr>\n",
       "    <tr>\n",
       "      <th>6055.T</th>\n",
       "      <td>0.00000</td>\n",
       "      <td>8.640165</td>\n",
       "      <td>-0.264113</td>\n",
       "      <td>-0.26</td>\n",
       "    </tr>\n",
       "    <tr>\n",
       "      <th>UNP</th>\n",
       "      <td>0.00055</td>\n",
       "      <td>8.608723</td>\n",
       "      <td>0.264961</td>\n",
       "      <td>0.26</td>\n",
       "    </tr>\n",
       "  </tbody>\n",
       "</table>\n",
       "<p>1651 rows × 4 columns</p>\n",
       "</div>"
      ]
     },
     "execution_count": 69,
     "metadata": {},
     "output_type": "execute_result"
    }
   ],
   "execution_count": 69
  }
 ],
 "metadata": {
  "kernelspec": {
   "display_name": "Python 3",
   "language": "python",
   "name": "python3"
  },
  "language_info": {
   "codemirror_mode": {
    "name": "ipython",
    "version": 2
   },
   "file_extension": ".py",
   "mimetype": "text/x-python",
   "name": "python",
   "nbconvert_exporter": "python",
   "pygments_lexer": "ipython2",
   "version": "2.7.6"
  }
 },
 "nbformat": 4,
 "nbformat_minor": 5
}
