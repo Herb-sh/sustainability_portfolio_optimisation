{
 "cells": [
  {
   "cell_type": "code",
   "execution_count": 30,
   "id": "initial_id",
   "metadata": {
    "collapsed": true,
    "ExecuteTime": {
     "end_time": "2024-08-26T23:14:09.809861Z",
     "start_time": "2024-08-26T23:14:09.765447Z"
    }
   },
   "outputs": [
    {
     "data": {
      "text/plain": "<module 'utilities.variables' from '/Users/herbishtini/Documents/UNI/Master Thesis/sustainability_portfolio_optimisation/utilities/variables.py'>"
     },
     "execution_count": 30,
     "metadata": {},
     "output_type": "execute_result"
    }
   ],
   "source": [
    "import pandas as pd\n",
    "import numpy as np\n",
    "import importlib\n",
    "\n",
    "import utilities.variables as variables\n",
    "import utilities.api_ticker_service as data_ticker_service\n",
    "importlib.reload(data_ticker_service)\n",
    "importlib.reload(variables)"
   ]
  },
  {
   "cell_type": "markdown",
   "source": [
    "### Average historical return"
   ],
   "metadata": {
    "collapsed": false
   },
   "id": "8012ec464673c405"
  },
  {
   "cell_type": "code",
   "execution_count": 31,
   "outputs": [],
   "source": [
    "df_monthly_adj_close = pd.read_csv('../data/10_monthly_adjacent_close.csv', index_col=0)"
   ],
   "metadata": {
    "collapsed": false,
    "ExecuteTime": {
     "end_time": "2024-08-26T23:14:09.846399Z",
     "start_time": "2024-08-26T23:14:09.771164Z"
    }
   },
   "id": "10fd4355fb4694ca"
  },
  {
   "cell_type": "markdown",
   "source": [
    "#### Converting 'Adj Close' Values to Percentage Change\n",
    "The \"Adj Close\" will be transformed to represent the percentage change from the previous day's close. The percentage change will be calculated as 1 + percentage change, which indicates the relative change in the adjusted close values day-over-day."
   ],
   "metadata": {
    "collapsed": false
   },
   "id": "a2cd8b6473e6252d"
  },
  {
   "cell_type": "code",
   "execution_count": 32,
   "outputs": [],
   "source": [
    "df_monthly_return = df_monthly_adj_close.copy(deep=True)\n",
    "for column in df_monthly_return:\n",
    "    if column != 'Date':\n",
    "        df_monthly_return[column] = 1 + df_monthly_adj_close[column].pct_change().round(2)\n",
    "        df_monthly_return[column].dropna()"
   ],
   "metadata": {
    "collapsed": false
   },
   "id": "d96413baa0530c27"
  },
  {
   "cell_type": "code",
   "execution_count": 33,
   "outputs": [],
   "source": [
    "df_monthly_return.to_csv('../data/10_monthly_returns_complete.csv')"
   ],
   "metadata": {
    "collapsed": false,
    "ExecuteTime": {
     "end_time": "2024-08-26T23:14:10.206204Z",
     "start_time": "2024-08-26T23:14:10.102199Z"
    }
   },
   "id": "983e9c8668b44aa0"
  },
  {
   "cell_type": "markdown",
   "source": [
    "### Return rate"
   ],
   "metadata": {
    "collapsed": false
   },
   "id": "5c274b68696158ea"
  },
  {
   "cell_type": "code",
   "execution_count": 34,
   "outputs": [],
   "source": [
    "df_monthly_return = pd.read_csv('../data/10_monthly_returns_complete.csv', index_col=0)\n",
    "df_overview = pd.read_csv('../data/data_5_scaled.csv', index_col=0)"
   ],
   "metadata": {
    "collapsed": false,
    "ExecuteTime": {
     "end_time": "2024-08-26T23:14:10.232674Z",
     "start_time": "2024-08-26T23:14:10.206775Z"
    }
   },
   "id": "2bfef909608005cd"
  },
  {
   "cell_type": "markdown",
   "source": [],
   "metadata": {
    "collapsed": false
   },
   "id": "f3a01fc75fbf2d"
  },
  {
   "cell_type": "code",
   "execution_count": 35,
   "outputs": [
    {
     "data": {
      "text/plain": "            KE       SCS        HNI        AVT  ACCO  KEYS  CBRE       BRC  \\\nDate                                                                         \n1999-08-01 NaN  6.013282  11.762950  17.141674   NaN   NaN   NaN  8.704611   \n1999-09-01 NaN  5.658068   9.648345  16.270067   NaN   NaN   NaN  9.284917   \n1999-10-01 NaN  5.165832   9.836304  21.209169   NaN   NaN   NaN  8.414455   \n1999-11-01 NaN  5.319273  10.838723  21.354946   NaN   NaN   NaN  8.951837   \n1999-12-01 NaN  4.910099  11.044152  23.517157   NaN   NaN   NaN  9.899887   \n\n            PGRE        BHE  ...  ENPH  RUN        SUP      MATX  KIDS  HALO  \\\nDate                         ...                                               \n1999-08-01   NaN  13.926089  ...   NaN  NaN  15.431546  6.066541   NaN   NaN   \n1999-09-01   NaN  13.358641  ...   NaN  NaN  15.431546  6.040688   NaN   NaN   \n1999-10-01   NaN   6.052765  ...   NaN  NaN  14.708194  6.072314   NaN   NaN   \n1999-11-01   NaN   8.417130  ...   NaN  NaN  14.823595  5.756048   NaN   NaN   \n1999-12-01   NaN   8.677205  ...   NaN  NaN  14.823595  5.827809   NaN   NaN   \n\n                 MATW     KVHI  NEO       UNP  \nDate                                           \n1999-08-01   9.999043  2.43750  NaN  7.509912  \n1999-09-01  11.104928  2.37500  NaN  7.413507  \n1999-10-01   9.261786  3.06250  NaN  8.634527  \n1999-11-01   8.586853  3.03125  NaN  7.289008  \n1999-12-01  10.156491  3.06250  NaN  6.766294  \n\n[5 rows x 957 columns]",
      "text/html": "<div>\n<style scoped>\n    .dataframe tbody tr th:only-of-type {\n        vertical-align: middle;\n    }\n\n    .dataframe tbody tr th {\n        vertical-align: top;\n    }\n\n    .dataframe thead th {\n        text-align: right;\n    }\n</style>\n<table border=\"1\" class=\"dataframe\">\n  <thead>\n    <tr style=\"text-align: right;\">\n      <th></th>\n      <th>KE</th>\n      <th>SCS</th>\n      <th>HNI</th>\n      <th>AVT</th>\n      <th>ACCO</th>\n      <th>KEYS</th>\n      <th>CBRE</th>\n      <th>BRC</th>\n      <th>PGRE</th>\n      <th>BHE</th>\n      <th>...</th>\n      <th>ENPH</th>\n      <th>RUN</th>\n      <th>SUP</th>\n      <th>MATX</th>\n      <th>KIDS</th>\n      <th>HALO</th>\n      <th>MATW</th>\n      <th>KVHI</th>\n      <th>NEO</th>\n      <th>UNP</th>\n    </tr>\n    <tr>\n      <th>Date</th>\n      <th></th>\n      <th></th>\n      <th></th>\n      <th></th>\n      <th></th>\n      <th></th>\n      <th></th>\n      <th></th>\n      <th></th>\n      <th></th>\n      <th></th>\n      <th></th>\n      <th></th>\n      <th></th>\n      <th></th>\n      <th></th>\n      <th></th>\n      <th></th>\n      <th></th>\n      <th></th>\n      <th></th>\n    </tr>\n  </thead>\n  <tbody>\n    <tr>\n      <th>1999-08-01</th>\n      <td>NaN</td>\n      <td>6.013282</td>\n      <td>11.762950</td>\n      <td>17.141674</td>\n      <td>NaN</td>\n      <td>NaN</td>\n      <td>NaN</td>\n      <td>8.704611</td>\n      <td>NaN</td>\n      <td>13.926089</td>\n      <td>...</td>\n      <td>NaN</td>\n      <td>NaN</td>\n      <td>15.431546</td>\n      <td>6.066541</td>\n      <td>NaN</td>\n      <td>NaN</td>\n      <td>9.999043</td>\n      <td>2.43750</td>\n      <td>NaN</td>\n      <td>7.509912</td>\n    </tr>\n    <tr>\n      <th>1999-09-01</th>\n      <td>NaN</td>\n      <td>5.658068</td>\n      <td>9.648345</td>\n      <td>16.270067</td>\n      <td>NaN</td>\n      <td>NaN</td>\n      <td>NaN</td>\n      <td>9.284917</td>\n      <td>NaN</td>\n      <td>13.358641</td>\n      <td>...</td>\n      <td>NaN</td>\n      <td>NaN</td>\n      <td>15.431546</td>\n      <td>6.040688</td>\n      <td>NaN</td>\n      <td>NaN</td>\n      <td>11.104928</td>\n      <td>2.37500</td>\n      <td>NaN</td>\n      <td>7.413507</td>\n    </tr>\n    <tr>\n      <th>1999-10-01</th>\n      <td>NaN</td>\n      <td>5.165832</td>\n      <td>9.836304</td>\n      <td>21.209169</td>\n      <td>NaN</td>\n      <td>NaN</td>\n      <td>NaN</td>\n      <td>8.414455</td>\n      <td>NaN</td>\n      <td>6.052765</td>\n      <td>...</td>\n      <td>NaN</td>\n      <td>NaN</td>\n      <td>14.708194</td>\n      <td>6.072314</td>\n      <td>NaN</td>\n      <td>NaN</td>\n      <td>9.261786</td>\n      <td>3.06250</td>\n      <td>NaN</td>\n      <td>8.634527</td>\n    </tr>\n    <tr>\n      <th>1999-11-01</th>\n      <td>NaN</td>\n      <td>5.319273</td>\n      <td>10.838723</td>\n      <td>21.354946</td>\n      <td>NaN</td>\n      <td>NaN</td>\n      <td>NaN</td>\n      <td>8.951837</td>\n      <td>NaN</td>\n      <td>8.417130</td>\n      <td>...</td>\n      <td>NaN</td>\n      <td>NaN</td>\n      <td>14.823595</td>\n      <td>5.756048</td>\n      <td>NaN</td>\n      <td>NaN</td>\n      <td>8.586853</td>\n      <td>3.03125</td>\n      <td>NaN</td>\n      <td>7.289008</td>\n    </tr>\n    <tr>\n      <th>1999-12-01</th>\n      <td>NaN</td>\n      <td>4.910099</td>\n      <td>11.044152</td>\n      <td>23.517157</td>\n      <td>NaN</td>\n      <td>NaN</td>\n      <td>NaN</td>\n      <td>9.899887</td>\n      <td>NaN</td>\n      <td>8.677205</td>\n      <td>...</td>\n      <td>NaN</td>\n      <td>NaN</td>\n      <td>14.823595</td>\n      <td>5.827809</td>\n      <td>NaN</td>\n      <td>NaN</td>\n      <td>10.156491</td>\n      <td>3.06250</td>\n      <td>NaN</td>\n      <td>6.766294</td>\n    </tr>\n  </tbody>\n</table>\n<p>5 rows × 957 columns</p>\n</div>"
     },
     "execution_count": 35,
     "metadata": {},
     "output_type": "execute_result"
    }
   ],
   "source": [
    "df_monthly_adj_close.head()"
   ],
   "metadata": {
    "collapsed": false,
    "ExecuteTime": {
     "end_time": "2024-08-26T23:14:10.241912Z",
     "start_time": "2024-08-26T23:14:10.230658Z"
    }
   },
   "id": "c2b951b9748afd4a"
  },
  {
   "cell_type": "code",
   "execution_count": 36,
   "outputs": [],
   "source": [
    "# move Date index to a new column\n",
    "df_monthly_adj_close = df_monthly_adj_close.reset_index(level=0)\n",
    "df_monthly_return = df_monthly_return.reset_index(level=0)"
   ],
   "metadata": {
    "collapsed": false,
    "ExecuteTime": {
     "end_time": "2024-08-26T23:14:10.248539Z",
     "start_time": "2024-08-26T23:14:10.240624Z"
    }
   },
   "id": "69b45d5bf478b8b5"
  },
  {
   "cell_type": "code",
   "execution_count": 46,
   "outputs": [
    {
     "data": {
      "text/plain": "0             NaN\n1             NaN\n2             NaN\n3             NaN\n4             NaN\n          ...    \n295    348.260010\n296    247.050003\n297    271.929993\n298    244.440002\n299    280.970001\nName: RH, Length: 300, dtype: float64"
     },
     "execution_count": 46,
     "metadata": {},
     "output_type": "execute_result"
    }
   ],
   "source": [
    "df_monthly_adj_close['RH']"
   ],
   "metadata": {
    "collapsed": false,
    "ExecuteTime": {
     "end_time": "2024-08-26T23:19:38.708446Z",
     "start_time": "2024-08-26T23:19:38.688576Z"
    }
   },
   "id": "ca499e469c55ea4a"
  },
  {
   "cell_type": "code",
   "execution_count": 38,
   "outputs": [],
   "source": [
    "# 1, 5, 10, 25 year returns\n",
    "# Loop through time spans\n",
    "for i, years in enumerate(variables.time_span_years):\n",
    "    # Loop through tickers/stock name\n",
    "    for j, ticker in enumerate(df_overview['stock_ticker_symbol']):\n",
    "        # if ticker is found in monthly adjacent columns, meaning there are available data to calculate\n",
    "        if ticker in df_monthly_return.columns:\n",
    "            # Get date \"years\" ago\n",
    "            date = pd.Timestamp.today() - pd.DateOffset(years=years)\n",
    "            # Pick only stocks that are after this date\n",
    "            monthly_return_list = df_monthly_return.loc[ pd.to_datetime(df_monthly_return['Date']) >= date, ticker].dropna().tolist()\n",
    "            if len(monthly_return_list) >= 2:\n",
    "                # Calculate the i-years total return\n",
    "                total_return = np.prod(monthly_return_list) - 1\n",
    "                \n",
    "                # Calculate the annualized average return\n",
    "                annualized_return = np.prod(monthly_return_list) ** (1/years)\n",
    "                \n",
    "                if annualized_return.is_integer():\n",
    "                    df_overview.loc[df_overview['stock_ticker_symbol'] == ticker, 'return_rate' + '_' + str(years) + 'y_avg'] = annualized_return"
   ],
   "metadata": {
    "collapsed": false,
    "ExecuteTime": {
     "end_time": "2024-08-26T23:14:28.405785Z",
     "start_time": "2024-08-26T23:14:27.352013Z"
    }
   },
   "id": "e3d89de690096783"
  },
  {
   "cell_type": "code",
   "execution_count": 39,
   "outputs": [
    {
     "data": {
      "text/plain": "                        company_name             industry stock_exchange  \\\n0          Kimball Electronics, Inc.  Technology Hardware            NAS   \n1                    Steelcase, Inc.  Commercial Services            NYS   \n2                          HNI Corp.  Commercial Services            NYS   \n3                        Avnet, Inc.  Technology Hardware            NAS   \n4                  ACCO Brands Corp.  Commercial Services            NYS   \n..                               ...                  ...            ...   \n954      Halozyme Therapeutics, Inc.      Pharmaceuticals            NAS   \n955     Matthews International Corp.  Commercial Services            NAS   \n956  KVH Industries, Inc. (Delaware)  Technology Hardware            NAS   \n957                NeoGenomics, Inc.      Pharmaceuticals            NAS   \n958              Union Pacific Corp.       Transportation            NYS   \n\n    stock_ticker_symbol  market_capital_euro     score  \n0                    KE         5.481967e+08  0.000120  \n1                   SCS         1.461633e+09  0.013235  \n2                   HNI         2.138245e+09  0.015005  \n3                   AVT         4.517528e+09  0.018784  \n4                  ACCO         4.399426e+08  0.019449  \n..                  ...                  ...       ...  \n954                HALO         6.410791e+09  0.249868  \n955                MATW         7.831761e+08  0.250174  \n956                KVHI         8.416451e+07  0.250012  \n957                 NEO         1.821173e+09  0.250415  \n958                 UNP         1.368984e+11  0.281791  \n\n[959 rows x 6 columns]",
      "text/html": "<div>\n<style scoped>\n    .dataframe tbody tr th:only-of-type {\n        vertical-align: middle;\n    }\n\n    .dataframe tbody tr th {\n        vertical-align: top;\n    }\n\n    .dataframe thead th {\n        text-align: right;\n    }\n</style>\n<table border=\"1\" class=\"dataframe\">\n  <thead>\n    <tr style=\"text-align: right;\">\n      <th></th>\n      <th>company_name</th>\n      <th>industry</th>\n      <th>stock_exchange</th>\n      <th>stock_ticker_symbol</th>\n      <th>market_capital_euro</th>\n      <th>score</th>\n    </tr>\n  </thead>\n  <tbody>\n    <tr>\n      <th>0</th>\n      <td>Kimball Electronics, Inc.</td>\n      <td>Technology Hardware</td>\n      <td>NAS</td>\n      <td>KE</td>\n      <td>5.481967e+08</td>\n      <td>0.000120</td>\n    </tr>\n    <tr>\n      <th>1</th>\n      <td>Steelcase, Inc.</td>\n      <td>Commercial Services</td>\n      <td>NYS</td>\n      <td>SCS</td>\n      <td>1.461633e+09</td>\n      <td>0.013235</td>\n    </tr>\n    <tr>\n      <th>2</th>\n      <td>HNI Corp.</td>\n      <td>Commercial Services</td>\n      <td>NYS</td>\n      <td>HNI</td>\n      <td>2.138245e+09</td>\n      <td>0.015005</td>\n    </tr>\n    <tr>\n      <th>3</th>\n      <td>Avnet, Inc.</td>\n      <td>Technology Hardware</td>\n      <td>NAS</td>\n      <td>AVT</td>\n      <td>4.517528e+09</td>\n      <td>0.018784</td>\n    </tr>\n    <tr>\n      <th>4</th>\n      <td>ACCO Brands Corp.</td>\n      <td>Commercial Services</td>\n      <td>NYS</td>\n      <td>ACCO</td>\n      <td>4.399426e+08</td>\n      <td>0.019449</td>\n    </tr>\n    <tr>\n      <th>...</th>\n      <td>...</td>\n      <td>...</td>\n      <td>...</td>\n      <td>...</td>\n      <td>...</td>\n      <td>...</td>\n    </tr>\n    <tr>\n      <th>954</th>\n      <td>Halozyme Therapeutics, Inc.</td>\n      <td>Pharmaceuticals</td>\n      <td>NAS</td>\n      <td>HALO</td>\n      <td>6.410791e+09</td>\n      <td>0.249868</td>\n    </tr>\n    <tr>\n      <th>955</th>\n      <td>Matthews International Corp.</td>\n      <td>Commercial Services</td>\n      <td>NAS</td>\n      <td>MATW</td>\n      <td>7.831761e+08</td>\n      <td>0.250174</td>\n    </tr>\n    <tr>\n      <th>956</th>\n      <td>KVH Industries, Inc. (Delaware)</td>\n      <td>Technology Hardware</td>\n      <td>NAS</td>\n      <td>KVHI</td>\n      <td>8.416451e+07</td>\n      <td>0.250012</td>\n    </tr>\n    <tr>\n      <th>957</th>\n      <td>NeoGenomics, Inc.</td>\n      <td>Pharmaceuticals</td>\n      <td>NAS</td>\n      <td>NEO</td>\n      <td>1.821173e+09</td>\n      <td>0.250415</td>\n    </tr>\n    <tr>\n      <th>958</th>\n      <td>Union Pacific Corp.</td>\n      <td>Transportation</td>\n      <td>NYS</td>\n      <td>UNP</td>\n      <td>1.368984e+11</td>\n      <td>0.281791</td>\n    </tr>\n  </tbody>\n</table>\n<p>959 rows × 6 columns</p>\n</div>"
     },
     "execution_count": 39,
     "metadata": {},
     "output_type": "execute_result"
    }
   ],
   "source": [
    "df_overview"
   ],
   "metadata": {
    "collapsed": false,
    "ExecuteTime": {
     "end_time": "2024-08-26T23:14:41.074715Z",
     "start_time": "2024-08-26T23:14:41.063847Z"
    }
   },
   "id": "81c4109b2a45643e"
  },
  {
   "cell_type": "markdown",
   "source": [
    "### Volatility\n",
    "To calculate the volatility of a stock's monthly returns, there are several steps that should be applied to the historical price data.\n",
    "* Calculate Monthly Returns\n",
    "* Calculate the Average Monthly Return\n",
    "* Calculate the Monthly Return Deviations\n",
    "* Square the Deviations\n",
    "* Calculate the Variance\n",
    "* Calculate the Standard Deviation"
   ],
   "metadata": {
    "collapsed": false
   },
   "id": "7dacd7cb10d212a4"
  },
  {
   "cell_type": "code",
   "execution_count": null,
   "outputs": [],
   "source": [
    "# 1, 5, 10, 25 year returns\n",
    "# Loop through time spans\n",
    "for i, years in enumerate(variables.time_span_years):\n",
    "    for i, ticker in enumerate(df_overview['stock_ticker_symbol']):\n",
    "        if ticker in df_monthly_adj_close.columns:\n",
    "            # Get date \"years\" ago\n",
    "            date = pd.Timestamp.today() - pd.DateOffset(years=years)\n",
    "            # Pick only stocks that are after this date\n",
    "            adj_close_filtered = df_monthly_adj_close.loc[ pd.to_datetime(df_monthly_adj_close['Date']) >= date, ticker].dropna()\n",
    "            std_deviation = adj_close_filtered.pct_change().std()\n",
    "\n",
    "            if len(adj_close_filtered) >= 2:\n",
    "                df_overview.loc[df_overview['stock_ticker_symbol'] == ticker, 'volatility' + '_' + str(years) + 'y'] = std_deviation"
   ],
   "metadata": {
    "collapsed": false,
    "ExecuteTime": {
     "start_time": "2024-08-26T23:14:10.265688Z"
    }
   },
   "id": "fcc2feef6dbd5b76"
  },
  {
   "cell_type": "code",
   "execution_count": null,
   "outputs": [],
   "source": [
    "df_overview[['stock_ticker_symbol', 'return_rate_5y_avg', 'return_rate_10y_avg', 'return_rate_25y_avg', 'volatility_10y']].sort_values(by=['return_rate_10y_avg', 'volatility_10y'])"
   ],
   "metadata": {
    "collapsed": false,
    "ExecuteTime": {
     "start_time": "2024-08-26T23:14:10.267757Z"
    }
   },
   "id": "5ed0258c78dbb9d1"
  },
  {
   "cell_type": "markdown",
   "source": [
    "Store changes"
   ],
   "metadata": {
    "collapsed": false
   },
   "id": "50fdac24ca7e4866"
  },
  {
   "cell_type": "code",
   "execution_count": null,
   "outputs": [],
   "source": [
    "df_overview.to_csv('../data/data_10_overview.csv')\n",
    "df_monthly_return.to_csv('../data/data_10_monthly_returns_complete.csv')"
   ],
   "metadata": {
    "collapsed": false,
    "ExecuteTime": {
     "start_time": "2024-08-26T23:14:10.269173Z"
    }
   },
   "id": "a544b601e514ff05"
  }
 ],
 "metadata": {
  "kernelspec": {
   "display_name": "Python 3",
   "language": "python",
   "name": "python3"
  },
  "language_info": {
   "codemirror_mode": {
    "name": "ipython",
    "version": 2
   },
   "file_extension": ".py",
   "mimetype": "text/x-python",
   "name": "python",
   "nbconvert_exporter": "python",
   "pygments_lexer": "ipython2",
   "version": "2.7.6"
  }
 },
 "nbformat": 4,
 "nbformat_minor": 5
}
