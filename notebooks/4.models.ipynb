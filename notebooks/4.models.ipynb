{
 "cells": [
  {
   "cell_type": "markdown",
   "source": [
    "# Modeling"
   ],
   "metadata": {
    "collapsed": false
   },
   "id": "234e740879cbe929"
  },
  {
   "cell_type": "code",
   "execution_count": 2,
   "outputs": [],
   "source": [
    "import pandas as pd\n",
    "import numpy as np"
   ],
   "metadata": {
    "collapsed": false,
    "ExecuteTime": {
     "end_time": "2024-08-28T22:29:04.718701Z",
     "start_time": "2024-08-28T22:29:04.686403Z"
    }
   },
   "id": "fc9234f755e6ef85"
  },
  {
   "cell_type": "code",
   "execution_count": 3,
   "outputs": [
    {
     "data": {
      "text/plain": "     Unnamed: 0        Date    KE   SCS   HNI   AVT  ACCO  KEYS  CBRE   BRC  \\\n0             0  1999-08-01   NaN   NaN   NaN   NaN   NaN   NaN   NaN   NaN   \n1             1  1999-09-01   NaN  0.94  0.82  0.95   NaN   NaN   NaN  1.07   \n2             2  1999-10-01   NaN  0.91  1.02  1.30   NaN   NaN   NaN  0.91   \n3             3  1999-11-01   NaN  1.03  1.10  1.01   NaN   NaN   NaN  1.06   \n4             4  1999-12-01   NaN  0.92  1.02  1.10   NaN   NaN   NaN  1.11   \n..          ...         ...   ...   ...   ...   ...   ...   ...   ...   ...   \n295         295  2024-03-01  0.96  0.95  1.01  1.06  1.01  1.01  1.06  1.02   \n296         296  2024-04-01  0.97  0.92  0.93  0.99  0.87  0.95  0.89  1.00   \n297         297  2024-05-01  1.10  1.14  1.12  1.12  1.06  0.94  1.01  1.16   \n298         298  2024-06-01  0.96  0.95  0.96  0.94  0.94  0.99  1.01  0.97   \n299         299  2024-07-01  1.09  1.09  1.21  1.03  1.09  1.01  1.24  1.09   \n\n     ...  ENPH   RUN   SUP  MATX  KIDS  HALO  MATW  KVHI   NEO   UNP  \n0    ...   NaN   NaN   NaN   NaN   NaN   NaN   NaN   NaN   NaN   NaN  \n1    ...   NaN   NaN  1.00  1.00   NaN   NaN  1.11  0.97   NaN  0.99  \n2    ...   NaN   NaN  0.95  1.01   NaN   NaN  0.83  1.29   NaN  1.16  \n3    ...   NaN   NaN  1.01  0.95   NaN   NaN  0.93  0.99   NaN  0.84  \n4    ...   NaN   NaN  1.00  1.01   NaN   NaN  1.18  1.01   NaN  0.93  \n..   ...   ...   ...   ...   ...   ...   ...   ...   ...   ...   ...  \n295  ...  0.95  1.09  0.82  1.02  1.06  1.02  1.08  1.07  1.01  0.97  \n296  ...  0.90  0.78  1.29  0.96  1.02  0.94  0.87  0.94  0.89  0.96  \n297  ...  1.18  1.41  0.94  1.19  1.07  1.16  1.05  1.08  0.98  0.98  \n298  ...  0.78  0.82  0.92  1.02  0.91  1.18  0.89  0.90  1.01  0.98  \n299  ...  1.20  1.51  1.02  1.00  1.13  1.07  1.12  1.02  1.07  1.06  \n\n[300 rows x 959 columns]",
      "text/html": "<div>\n<style scoped>\n    .dataframe tbody tr th:only-of-type {\n        vertical-align: middle;\n    }\n\n    .dataframe tbody tr th {\n        vertical-align: top;\n    }\n\n    .dataframe thead th {\n        text-align: right;\n    }\n</style>\n<table border=\"1\" class=\"dataframe\">\n  <thead>\n    <tr style=\"text-align: right;\">\n      <th></th>\n      <th>Unnamed: 0</th>\n      <th>Date</th>\n      <th>KE</th>\n      <th>SCS</th>\n      <th>HNI</th>\n      <th>AVT</th>\n      <th>ACCO</th>\n      <th>KEYS</th>\n      <th>CBRE</th>\n      <th>BRC</th>\n      <th>...</th>\n      <th>ENPH</th>\n      <th>RUN</th>\n      <th>SUP</th>\n      <th>MATX</th>\n      <th>KIDS</th>\n      <th>HALO</th>\n      <th>MATW</th>\n      <th>KVHI</th>\n      <th>NEO</th>\n      <th>UNP</th>\n    </tr>\n  </thead>\n  <tbody>\n    <tr>\n      <th>0</th>\n      <td>0</td>\n      <td>1999-08-01</td>\n      <td>NaN</td>\n      <td>NaN</td>\n      <td>NaN</td>\n      <td>NaN</td>\n      <td>NaN</td>\n      <td>NaN</td>\n      <td>NaN</td>\n      <td>NaN</td>\n      <td>...</td>\n      <td>NaN</td>\n      <td>NaN</td>\n      <td>NaN</td>\n      <td>NaN</td>\n      <td>NaN</td>\n      <td>NaN</td>\n      <td>NaN</td>\n      <td>NaN</td>\n      <td>NaN</td>\n      <td>NaN</td>\n    </tr>\n    <tr>\n      <th>1</th>\n      <td>1</td>\n      <td>1999-09-01</td>\n      <td>NaN</td>\n      <td>0.94</td>\n      <td>0.82</td>\n      <td>0.95</td>\n      <td>NaN</td>\n      <td>NaN</td>\n      <td>NaN</td>\n      <td>1.07</td>\n      <td>...</td>\n      <td>NaN</td>\n      <td>NaN</td>\n      <td>1.00</td>\n      <td>1.00</td>\n      <td>NaN</td>\n      <td>NaN</td>\n      <td>1.11</td>\n      <td>0.97</td>\n      <td>NaN</td>\n      <td>0.99</td>\n    </tr>\n    <tr>\n      <th>2</th>\n      <td>2</td>\n      <td>1999-10-01</td>\n      <td>NaN</td>\n      <td>0.91</td>\n      <td>1.02</td>\n      <td>1.30</td>\n      <td>NaN</td>\n      <td>NaN</td>\n      <td>NaN</td>\n      <td>0.91</td>\n      <td>...</td>\n      <td>NaN</td>\n      <td>NaN</td>\n      <td>0.95</td>\n      <td>1.01</td>\n      <td>NaN</td>\n      <td>NaN</td>\n      <td>0.83</td>\n      <td>1.29</td>\n      <td>NaN</td>\n      <td>1.16</td>\n    </tr>\n    <tr>\n      <th>3</th>\n      <td>3</td>\n      <td>1999-11-01</td>\n      <td>NaN</td>\n      <td>1.03</td>\n      <td>1.10</td>\n      <td>1.01</td>\n      <td>NaN</td>\n      <td>NaN</td>\n      <td>NaN</td>\n      <td>1.06</td>\n      <td>...</td>\n      <td>NaN</td>\n      <td>NaN</td>\n      <td>1.01</td>\n      <td>0.95</td>\n      <td>NaN</td>\n      <td>NaN</td>\n      <td>0.93</td>\n      <td>0.99</td>\n      <td>NaN</td>\n      <td>0.84</td>\n    </tr>\n    <tr>\n      <th>4</th>\n      <td>4</td>\n      <td>1999-12-01</td>\n      <td>NaN</td>\n      <td>0.92</td>\n      <td>1.02</td>\n      <td>1.10</td>\n      <td>NaN</td>\n      <td>NaN</td>\n      <td>NaN</td>\n      <td>1.11</td>\n      <td>...</td>\n      <td>NaN</td>\n      <td>NaN</td>\n      <td>1.00</td>\n      <td>1.01</td>\n      <td>NaN</td>\n      <td>NaN</td>\n      <td>1.18</td>\n      <td>1.01</td>\n      <td>NaN</td>\n      <td>0.93</td>\n    </tr>\n    <tr>\n      <th>...</th>\n      <td>...</td>\n      <td>...</td>\n      <td>...</td>\n      <td>...</td>\n      <td>...</td>\n      <td>...</td>\n      <td>...</td>\n      <td>...</td>\n      <td>...</td>\n      <td>...</td>\n      <td>...</td>\n      <td>...</td>\n      <td>...</td>\n      <td>...</td>\n      <td>...</td>\n      <td>...</td>\n      <td>...</td>\n      <td>...</td>\n      <td>...</td>\n      <td>...</td>\n      <td>...</td>\n    </tr>\n    <tr>\n      <th>295</th>\n      <td>295</td>\n      <td>2024-03-01</td>\n      <td>0.96</td>\n      <td>0.95</td>\n      <td>1.01</td>\n      <td>1.06</td>\n      <td>1.01</td>\n      <td>1.01</td>\n      <td>1.06</td>\n      <td>1.02</td>\n      <td>...</td>\n      <td>0.95</td>\n      <td>1.09</td>\n      <td>0.82</td>\n      <td>1.02</td>\n      <td>1.06</td>\n      <td>1.02</td>\n      <td>1.08</td>\n      <td>1.07</td>\n      <td>1.01</td>\n      <td>0.97</td>\n    </tr>\n    <tr>\n      <th>296</th>\n      <td>296</td>\n      <td>2024-04-01</td>\n      <td>0.97</td>\n      <td>0.92</td>\n      <td>0.93</td>\n      <td>0.99</td>\n      <td>0.87</td>\n      <td>0.95</td>\n      <td>0.89</td>\n      <td>1.00</td>\n      <td>...</td>\n      <td>0.90</td>\n      <td>0.78</td>\n      <td>1.29</td>\n      <td>0.96</td>\n      <td>1.02</td>\n      <td>0.94</td>\n      <td>0.87</td>\n      <td>0.94</td>\n      <td>0.89</td>\n      <td>0.96</td>\n    </tr>\n    <tr>\n      <th>297</th>\n      <td>297</td>\n      <td>2024-05-01</td>\n      <td>1.10</td>\n      <td>1.14</td>\n      <td>1.12</td>\n      <td>1.12</td>\n      <td>1.06</td>\n      <td>0.94</td>\n      <td>1.01</td>\n      <td>1.16</td>\n      <td>...</td>\n      <td>1.18</td>\n      <td>1.41</td>\n      <td>0.94</td>\n      <td>1.19</td>\n      <td>1.07</td>\n      <td>1.16</td>\n      <td>1.05</td>\n      <td>1.08</td>\n      <td>0.98</td>\n      <td>0.98</td>\n    </tr>\n    <tr>\n      <th>298</th>\n      <td>298</td>\n      <td>2024-06-01</td>\n      <td>0.96</td>\n      <td>0.95</td>\n      <td>0.96</td>\n      <td>0.94</td>\n      <td>0.94</td>\n      <td>0.99</td>\n      <td>1.01</td>\n      <td>0.97</td>\n      <td>...</td>\n      <td>0.78</td>\n      <td>0.82</td>\n      <td>0.92</td>\n      <td>1.02</td>\n      <td>0.91</td>\n      <td>1.18</td>\n      <td>0.89</td>\n      <td>0.90</td>\n      <td>1.01</td>\n      <td>0.98</td>\n    </tr>\n    <tr>\n      <th>299</th>\n      <td>299</td>\n      <td>2024-07-01</td>\n      <td>1.09</td>\n      <td>1.09</td>\n      <td>1.21</td>\n      <td>1.03</td>\n      <td>1.09</td>\n      <td>1.01</td>\n      <td>1.24</td>\n      <td>1.09</td>\n      <td>...</td>\n      <td>1.20</td>\n      <td>1.51</td>\n      <td>1.02</td>\n      <td>1.00</td>\n      <td>1.13</td>\n      <td>1.07</td>\n      <td>1.12</td>\n      <td>1.02</td>\n      <td>1.07</td>\n      <td>1.06</td>\n    </tr>\n  </tbody>\n</table>\n<p>300 rows × 959 columns</p>\n</div>"
     },
     "execution_count": 3,
     "metadata": {},
     "output_type": "execute_result"
    }
   ],
   "source": [
    "df = pd.read_csv('../data/data_10_monthly_returns_complete.csv') \n",
    "df"
   ],
   "metadata": {
    "collapsed": false,
    "ExecuteTime": {
     "end_time": "2024-08-28T22:29:04.754205Z",
     "start_time": "2024-08-28T22:29:04.691588Z"
    }
   },
   "id": "81bf7cff96fd6f91"
  },
  {
   "cell_type": "code",
   "execution_count": null,
   "outputs": [],
   "source": [
    "# @TODO resume with Decision-Tree"
   ],
   "metadata": {
    "collapsed": false
   },
   "id": "4b0926c4142a6b33"
  }
 ],
 "metadata": {
  "kernelspec": {
   "display_name": "Python 3",
   "language": "python",
   "name": "python3"
  },
  "language_info": {
   "codemirror_mode": {
    "name": "ipython",
    "version": 2
   },
   "file_extension": ".py",
   "mimetype": "text/x-python",
   "name": "python",
   "nbconvert_exporter": "python",
   "pygments_lexer": "ipython2",
   "version": "2.7.6"
  }
 },
 "nbformat": 4,
 "nbformat_minor": 5
}
