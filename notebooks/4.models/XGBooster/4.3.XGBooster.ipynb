{
 "cells": [
  {
   "cell_type": "code",
   "id": "initial_id",
   "metadata": {
    "collapsed": true,
    "ExecuteTime": {
     "end_time": "2025-02-08T20:26:34.361973Z",
     "start_time": "2025-02-08T20:26:33.700381Z"
    }
   },
   "source": [
    "# Python\n",
    "import pandas as pd\n",
    "import numpy as np\n",
    "#\n",
    "from prophet import Prophet\n",
    "import matplotlib.pyplot as plt\n",
    "import plotly.graph_objects as go"
   ],
   "outputs": [
    {
     "name": "stderr",
     "output_type": "stream",
     "text": [
      "/Users/herbishtini/anaconda3/envs/portfolio_optimisation/lib/python3.11/site-packages/tqdm/auto.py:21: TqdmWarning: IProgress not found. Please update jupyter and ipywidgets. See https://ipywidgets.readthedocs.io/en/stable/user_install.html\n",
      "  from .autonotebook import tqdm as notebook_tqdm\n"
     ]
    }
   ],
   "execution_count": 1
  },
  {
   "metadata": {
    "ExecuteTime": {
     "end_time": "2025-02-08T20:26:34.415828Z",
     "start_time": "2025-02-08T20:26:34.374155Z"
    }
   },
   "cell_type": "code",
   "source": "df = pd.read_csv('../../../data/df_monthly_returns_complete_percentage.csv', index_col='Date')",
   "id": "b9221bdd2218913f",
   "outputs": [],
   "execution_count": 2
  },
  {
   "metadata": {},
   "cell_type": "code",
   "outputs": [],
   "execution_count": null,
   "source": "",
   "id": "7df1af7b526c6bbe"
  }
 ],
 "metadata": {
  "kernelspec": {
   "display_name": "Python 3",
   "language": "python",
   "name": "python3"
  },
  "language_info": {
   "codemirror_mode": {
    "name": "ipython",
    "version": 2
   },
   "file_extension": ".py",
   "mimetype": "text/x-python",
   "name": "python",
   "nbconvert_exporter": "python",
   "pygments_lexer": "ipython2",
   "version": "2.7.6"
  }
 },
 "nbformat": 4,
 "nbformat_minor": 5
}
