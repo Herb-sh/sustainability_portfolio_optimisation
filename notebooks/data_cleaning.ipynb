{
 "cells": [
  {
   "cell_type": "code",
   "execution_count": 71,
   "id": "initial_id",
   "metadata": {
    "collapsed": true,
    "ExecuteTime": {
     "end_time": "2024-07-19T21:10:47.056144Z",
     "start_time": "2024-07-19T21:10:42.702498Z"
    }
   },
   "outputs": [],
   "source": [
    "import pandas as pd\n",
    "import numpy as np\n",
    "import yfinance as yf\n",
    "import os.path\n",
    "from sklearn.preprocessing import MinMaxScaler"
   ]
  },
  {
   "cell_type": "markdown",
   "source": [
    "### Reading file"
   ],
   "metadata": {
    "collapsed": false
   },
   "id": "26c62e4b4e3045b2"
  },
  {
   "cell_type": "code",
   "execution_count": 12,
   "outputs": [
    {
     "data": {
      "text/plain": "                                 company_name ticker_symbol  \\\n0                                 HENSOLDT AG       ETR:HAG   \n1                                   Aptiv Plc      NYS:APTV   \n2                            BorgWarner, Inc.       NYS:BWA   \n3  Bosch Fren Sistemleri Sanayi ve Ticaret AS   IST:BFREN.E   \n4                                  Bosch Ltd.    BOM:500530   \n\n   company_esg_score company_esg_score_group             industry  \n0               14.9            Low ESG Risk  Aerospace & Defense  \n1                9.1     Negligible ESG Risk      Auto Components  \n2               10.0     Negligible ESG Risk      Auto Components  \n3                8.1     Negligible ESG Risk      Auto Components  \n4                6.5     Negligible ESG Risk      Auto Components  ",
      "text/html": "<div>\n<style scoped>\n    .dataframe tbody tr th:only-of-type {\n        vertical-align: middle;\n    }\n\n    .dataframe tbody tr th {\n        vertical-align: top;\n    }\n\n    .dataframe thead th {\n        text-align: right;\n    }\n</style>\n<table border=\"1\" class=\"dataframe\">\n  <thead>\n    <tr style=\"text-align: right;\">\n      <th></th>\n      <th>company_name</th>\n      <th>ticker_symbol</th>\n      <th>company_esg_score</th>\n      <th>company_esg_score_group</th>\n      <th>industry</th>\n    </tr>\n  </thead>\n  <tbody>\n    <tr>\n      <th>0</th>\n      <td>HENSOLDT AG</td>\n      <td>ETR:HAG</td>\n      <td>14.9</td>\n      <td>Low ESG Risk</td>\n      <td>Aerospace &amp; Defense</td>\n    </tr>\n    <tr>\n      <th>1</th>\n      <td>Aptiv Plc</td>\n      <td>NYS:APTV</td>\n      <td>9.1</td>\n      <td>Negligible ESG Risk</td>\n      <td>Auto Components</td>\n    </tr>\n    <tr>\n      <th>2</th>\n      <td>BorgWarner, Inc.</td>\n      <td>NYS:BWA</td>\n      <td>10.0</td>\n      <td>Negligible ESG Risk</td>\n      <td>Auto Components</td>\n    </tr>\n    <tr>\n      <th>3</th>\n      <td>Bosch Fren Sistemleri Sanayi ve Ticaret AS</td>\n      <td>IST:BFREN.E</td>\n      <td>8.1</td>\n      <td>Negligible ESG Risk</td>\n      <td>Auto Components</td>\n    </tr>\n    <tr>\n      <th>4</th>\n      <td>Bosch Ltd.</td>\n      <td>BOM:500530</td>\n      <td>6.5</td>\n      <td>Negligible ESG Risk</td>\n      <td>Auto Components</td>\n    </tr>\n  </tbody>\n</table>\n</div>"
     },
     "execution_count": 12,
     "metadata": {},
     "output_type": "execute_result"
    }
   ],
   "source": [
    "df = pd.read_csv('../data/data_1_esg_raw.csv') \n",
    "df.head(5)"
   ],
   "metadata": {
    "collapsed": false,
    "ExecuteTime": {
     "end_time": "2024-07-17T23:12:06.300607Z",
     "start_time": "2024-07-17T23:12:06.175472Z"
    }
   },
   "id": "dcb6393d65fbe897"
  },
  {
   "cell_type": "markdown",
   "source": [
    "### Sort by ESG score"
   ],
   "metadata": {
    "collapsed": false
   },
   "id": "34ed6f0d5483b7e2"
  },
  {
   "cell_type": "code",
   "execution_count": 13,
   "outputs": [
    {
     "data": {
      "text/plain": "                                           company_name ticker_symbol  \\\n4184                  ROADIS Transportation Holding SLU             -   \n1018                               JAB Holding Co. SARL             -   \n2037                                              Dexus       ASX:DXS   \n4180    Entidad Pública Empresarial ADIF-Alta Velocidad             -   \n3498                                       RS Group Plc       LON:RS1   \n...                                                 ...           ...   \n1428  International Finance Facility for Immunisatio...             -   \n3843                                          Orange SA       PAR:ORA   \n4365                                    Promigas SA ESP  BOG:PROMIGAS   \n3950                                     Li & Fung Ltd.             -   \n4333                               EP Infrastructure as             -   \n\n      company_esg_score company_esg_score_group                       industry  \n4184                4.0     Negligible ESG Risk  Transportation Infrastructure  \n1018                4.2     Negligible ESG Risk         Diversified Financials  \n2037                4.2     Negligible ESG Risk                    Real Estate  \n4180                4.3     Negligible ESG Risk  Transportation Infrastructure  \n3498                4.5     Negligible ESG Risk            Technology Hardware  \n...                 ...                     ...                            ...  \n1428               20.0            Low ESG Risk                     Healthcare  \n3843               20.0            Low ESG Risk     Telecommunication Services  \n4365               20.0            Low ESG Risk                      Utilities  \n3950               20.0            Low ESG Risk             Textiles & Apparel  \n4333               20.0            Low ESG Risk                      Utilities  \n\n[4386 rows x 5 columns]",
      "text/html": "<div>\n<style scoped>\n    .dataframe tbody tr th:only-of-type {\n        vertical-align: middle;\n    }\n\n    .dataframe tbody tr th {\n        vertical-align: top;\n    }\n\n    .dataframe thead th {\n        text-align: right;\n    }\n</style>\n<table border=\"1\" class=\"dataframe\">\n  <thead>\n    <tr style=\"text-align: right;\">\n      <th></th>\n      <th>company_name</th>\n      <th>ticker_symbol</th>\n      <th>company_esg_score</th>\n      <th>company_esg_score_group</th>\n      <th>industry</th>\n    </tr>\n  </thead>\n  <tbody>\n    <tr>\n      <th>4184</th>\n      <td>ROADIS Transportation Holding SLU</td>\n      <td>-</td>\n      <td>4.0</td>\n      <td>Negligible ESG Risk</td>\n      <td>Transportation Infrastructure</td>\n    </tr>\n    <tr>\n      <th>1018</th>\n      <td>JAB Holding Co. SARL</td>\n      <td>-</td>\n      <td>4.2</td>\n      <td>Negligible ESG Risk</td>\n      <td>Diversified Financials</td>\n    </tr>\n    <tr>\n      <th>2037</th>\n      <td>Dexus</td>\n      <td>ASX:DXS</td>\n      <td>4.2</td>\n      <td>Negligible ESG Risk</td>\n      <td>Real Estate</td>\n    </tr>\n    <tr>\n      <th>4180</th>\n      <td>Entidad Pública Empresarial ADIF-Alta Velocidad</td>\n      <td>-</td>\n      <td>4.3</td>\n      <td>Negligible ESG Risk</td>\n      <td>Transportation Infrastructure</td>\n    </tr>\n    <tr>\n      <th>3498</th>\n      <td>RS Group Plc</td>\n      <td>LON:RS1</td>\n      <td>4.5</td>\n      <td>Negligible ESG Risk</td>\n      <td>Technology Hardware</td>\n    </tr>\n    <tr>\n      <th>...</th>\n      <td>...</td>\n      <td>...</td>\n      <td>...</td>\n      <td>...</td>\n      <td>...</td>\n    </tr>\n    <tr>\n      <th>1428</th>\n      <td>International Finance Facility for Immunisatio...</td>\n      <td>-</td>\n      <td>20.0</td>\n      <td>Low ESG Risk</td>\n      <td>Healthcare</td>\n    </tr>\n    <tr>\n      <th>3843</th>\n      <td>Orange SA</td>\n      <td>PAR:ORA</td>\n      <td>20.0</td>\n      <td>Low ESG Risk</td>\n      <td>Telecommunication Services</td>\n    </tr>\n    <tr>\n      <th>4365</th>\n      <td>Promigas SA ESP</td>\n      <td>BOG:PROMIGAS</td>\n      <td>20.0</td>\n      <td>Low ESG Risk</td>\n      <td>Utilities</td>\n    </tr>\n    <tr>\n      <th>3950</th>\n      <td>Li &amp; Fung Ltd.</td>\n      <td>-</td>\n      <td>20.0</td>\n      <td>Low ESG Risk</td>\n      <td>Textiles &amp; Apparel</td>\n    </tr>\n    <tr>\n      <th>4333</th>\n      <td>EP Infrastructure as</td>\n      <td>-</td>\n      <td>20.0</td>\n      <td>Low ESG Risk</td>\n      <td>Utilities</td>\n    </tr>\n  </tbody>\n</table>\n<p>4386 rows × 5 columns</p>\n</div>"
     },
     "execution_count": 13,
     "metadata": {},
     "output_type": "execute_result"
    }
   ],
   "source": [
    "df_sorted = df.sort_values('company_esg_score')\n",
    "df_sorted"
   ],
   "metadata": {
    "collapsed": false,
    "ExecuteTime": {
     "end_time": "2024-07-17T23:12:06.310764Z",
     "start_time": "2024-07-17T23:12:06.192766Z"
    }
   },
   "id": "fdec4843f96d84ca"
  },
  {
   "cell_type": "code",
   "execution_count": 14,
   "outputs": [
    {
     "data": {
      "text/plain": "4386"
     },
     "execution_count": 14,
     "metadata": {},
     "output_type": "execute_result"
    }
   ],
   "source": [
    "len(df_sorted)"
   ],
   "metadata": {
    "collapsed": false,
    "ExecuteTime": {
     "end_time": "2024-07-17T23:12:06.316685Z",
     "start_time": "2024-07-17T23:12:06.203262Z"
    }
   },
   "id": "475f6692a189a0f2"
  },
  {
   "cell_type": "markdown",
   "source": [
    "### Group by industry and company-esg-score-group"
   ],
   "metadata": {
    "collapsed": false
   },
   "id": "5405de3c4f8da66b"
  },
  {
   "cell_type": "code",
   "execution_count": 15,
   "outputs": [
    {
     "data": {
      "text/plain": "                         industry company_esg_score_group  Count\n0             Aerospace & Defense            Low ESG Risk      1\n2                 Auto Components     Negligible ESG Risk     12\n1                 Auto Components            Low ESG Risk    105\n3                     Automobiles            Low ESG Risk     22\n5                           Banks     Negligible ESG Risk     43\n..                            ...                     ...    ...\n63                 Transportation            Low ESG Risk    107\n65  Transportation Infrastructure     Negligible ESG Risk     21\n64  Transportation Infrastructure            Low ESG Risk     92\n67                      Utilities     Negligible ESG Risk     11\n66                      Utilities            Low ESG Risk     94\n\n[68 rows x 3 columns]",
      "text/html": "<div>\n<style scoped>\n    .dataframe tbody tr th:only-of-type {\n        vertical-align: middle;\n    }\n\n    .dataframe tbody tr th {\n        vertical-align: top;\n    }\n\n    .dataframe thead th {\n        text-align: right;\n    }\n</style>\n<table border=\"1\" class=\"dataframe\">\n  <thead>\n    <tr style=\"text-align: right;\">\n      <th></th>\n      <th>industry</th>\n      <th>company_esg_score_group</th>\n      <th>Count</th>\n    </tr>\n  </thead>\n  <tbody>\n    <tr>\n      <th>0</th>\n      <td>Aerospace &amp; Defense</td>\n      <td>Low ESG Risk</td>\n      <td>1</td>\n    </tr>\n    <tr>\n      <th>2</th>\n      <td>Auto Components</td>\n      <td>Negligible ESG Risk</td>\n      <td>12</td>\n    </tr>\n    <tr>\n      <th>1</th>\n      <td>Auto Components</td>\n      <td>Low ESG Risk</td>\n      <td>105</td>\n    </tr>\n    <tr>\n      <th>3</th>\n      <td>Automobiles</td>\n      <td>Low ESG Risk</td>\n      <td>22</td>\n    </tr>\n    <tr>\n      <th>5</th>\n      <td>Banks</td>\n      <td>Negligible ESG Risk</td>\n      <td>43</td>\n    </tr>\n    <tr>\n      <th>...</th>\n      <td>...</td>\n      <td>...</td>\n      <td>...</td>\n    </tr>\n    <tr>\n      <th>63</th>\n      <td>Transportation</td>\n      <td>Low ESG Risk</td>\n      <td>107</td>\n    </tr>\n    <tr>\n      <th>65</th>\n      <td>Transportation Infrastructure</td>\n      <td>Negligible ESG Risk</td>\n      <td>21</td>\n    </tr>\n    <tr>\n      <th>64</th>\n      <td>Transportation Infrastructure</td>\n      <td>Low ESG Risk</td>\n      <td>92</td>\n    </tr>\n    <tr>\n      <th>67</th>\n      <td>Utilities</td>\n      <td>Negligible ESG Risk</td>\n      <td>11</td>\n    </tr>\n    <tr>\n      <th>66</th>\n      <td>Utilities</td>\n      <td>Low ESG Risk</td>\n      <td>94</td>\n    </tr>\n  </tbody>\n</table>\n<p>68 rows × 3 columns</p>\n</div>"
     },
     "execution_count": 15,
     "metadata": {},
     "output_type": "execute_result"
    }
   ],
   "source": [
    "# Group by the first and second columns and count the occurrences\n",
    "df_grouped = df.groupby(['industry', 'company_esg_score_group']).size().reset_index(name='Count')\n",
    "df_grouped = df_grouped.sort_values(by=['industry', 'company_esg_score_group'], ascending=[True, False])\n",
    "df_grouped"
   ],
   "metadata": {
    "collapsed": false,
    "ExecuteTime": {
     "end_time": "2024-07-17T23:12:06.320484Z",
     "start_time": "2024-07-17T23:12:06.209313Z"
    }
   },
   "id": "cfc151ca4b0c05a1"
  },
  {
   "cell_type": "markdown",
   "source": [
    "### Remove stocks without a valid stock exchange"
   ],
   "metadata": {
    "collapsed": false
   },
   "id": "f7cd4eae95e256ab"
  },
  {
   "cell_type": "code",
   "execution_count": 16,
   "outputs": [
    {
     "data": {
      "text/plain": "3801"
     },
     "execution_count": 16,
     "metadata": {},
     "output_type": "execute_result"
    }
   ],
   "source": [
    "len(df_sorted[df_sorted['ticker_symbol'] != '-'])"
   ],
   "metadata": {
    "collapsed": false,
    "ExecuteTime": {
     "end_time": "2024-07-17T23:12:06.337558Z",
     "start_time": "2024-07-17T23:12:06.221620Z"
    }
   },
   "id": "2992ef9a472c4e5c"
  },
  {
   "cell_type": "code",
   "execution_count": 17,
   "outputs": [
    {
     "data": {
      "text/plain": "                                 company_name ticker_symbol  \\\n2037                                    Dexus       ASX:DXS   \n3498                             RS Group Plc       LON:RS1   \n3486                Kimball Electronics, Inc.        NAS:KE   \n2100                        TAG Immobilien AG       ETR:TEG   \n2105             Unibail-Rodamco-Westfield SE       PAR:URW   \n...                                       ...           ...   \n1140  Nippon Life India Asset Management Ltd.    BOM:540767   \n3850                  Taiwan Mobile Co., Ltd.      TAI:3045   \n4160                      Union Pacific Corp.       NYS:UNP   \n3843                                Orange SA       PAR:ORA   \n4365                          Promigas SA ESP  BOG:PROMIGAS   \n\n      company_esg_score company_esg_score_group                    industry  \n2037                4.2     Negligible ESG Risk                 Real Estate  \n3498                4.5     Negligible ESG Risk         Technology Hardware  \n3486                4.5     Negligible ESG Risk         Technology Hardware  \n2100                4.6     Negligible ESG Risk                 Real Estate  \n2105                4.7     Negligible ESG Risk                 Real Estate  \n...                 ...                     ...                         ...  \n1140               20.0            Low ESG Risk      Diversified Financials  \n3850               20.0            Low ESG Risk  Telecommunication Services  \n4160               20.0            Low ESG Risk              Transportation  \n3843               20.0            Low ESG Risk  Telecommunication Services  \n4365               20.0            Low ESG Risk                   Utilities  \n\n[3801 rows x 5 columns]",
      "text/html": "<div>\n<style scoped>\n    .dataframe tbody tr th:only-of-type {\n        vertical-align: middle;\n    }\n\n    .dataframe tbody tr th {\n        vertical-align: top;\n    }\n\n    .dataframe thead th {\n        text-align: right;\n    }\n</style>\n<table border=\"1\" class=\"dataframe\">\n  <thead>\n    <tr style=\"text-align: right;\">\n      <th></th>\n      <th>company_name</th>\n      <th>ticker_symbol</th>\n      <th>company_esg_score</th>\n      <th>company_esg_score_group</th>\n      <th>industry</th>\n    </tr>\n  </thead>\n  <tbody>\n    <tr>\n      <th>2037</th>\n      <td>Dexus</td>\n      <td>ASX:DXS</td>\n      <td>4.2</td>\n      <td>Negligible ESG Risk</td>\n      <td>Real Estate</td>\n    </tr>\n    <tr>\n      <th>3498</th>\n      <td>RS Group Plc</td>\n      <td>LON:RS1</td>\n      <td>4.5</td>\n      <td>Negligible ESG Risk</td>\n      <td>Technology Hardware</td>\n    </tr>\n    <tr>\n      <th>3486</th>\n      <td>Kimball Electronics, Inc.</td>\n      <td>NAS:KE</td>\n      <td>4.5</td>\n      <td>Negligible ESG Risk</td>\n      <td>Technology Hardware</td>\n    </tr>\n    <tr>\n      <th>2100</th>\n      <td>TAG Immobilien AG</td>\n      <td>ETR:TEG</td>\n      <td>4.6</td>\n      <td>Negligible ESG Risk</td>\n      <td>Real Estate</td>\n    </tr>\n    <tr>\n      <th>2105</th>\n      <td>Unibail-Rodamco-Westfield SE</td>\n      <td>PAR:URW</td>\n      <td>4.7</td>\n      <td>Negligible ESG Risk</td>\n      <td>Real Estate</td>\n    </tr>\n    <tr>\n      <th>...</th>\n      <td>...</td>\n      <td>...</td>\n      <td>...</td>\n      <td>...</td>\n      <td>...</td>\n    </tr>\n    <tr>\n      <th>1140</th>\n      <td>Nippon Life India Asset Management Ltd.</td>\n      <td>BOM:540767</td>\n      <td>20.0</td>\n      <td>Low ESG Risk</td>\n      <td>Diversified Financials</td>\n    </tr>\n    <tr>\n      <th>3850</th>\n      <td>Taiwan Mobile Co., Ltd.</td>\n      <td>TAI:3045</td>\n      <td>20.0</td>\n      <td>Low ESG Risk</td>\n      <td>Telecommunication Services</td>\n    </tr>\n    <tr>\n      <th>4160</th>\n      <td>Union Pacific Corp.</td>\n      <td>NYS:UNP</td>\n      <td>20.0</td>\n      <td>Low ESG Risk</td>\n      <td>Transportation</td>\n    </tr>\n    <tr>\n      <th>3843</th>\n      <td>Orange SA</td>\n      <td>PAR:ORA</td>\n      <td>20.0</td>\n      <td>Low ESG Risk</td>\n      <td>Telecommunication Services</td>\n    </tr>\n    <tr>\n      <th>4365</th>\n      <td>Promigas SA ESP</td>\n      <td>BOG:PROMIGAS</td>\n      <td>20.0</td>\n      <td>Low ESG Risk</td>\n      <td>Utilities</td>\n    </tr>\n  </tbody>\n</table>\n<p>3801 rows × 5 columns</p>\n</div>"
     },
     "execution_count": 17,
     "metadata": {},
     "output_type": "execute_result"
    }
   ],
   "source": [
    "df_sorted[df_sorted['ticker_symbol'] != '-']"
   ],
   "metadata": {
    "collapsed": false,
    "ExecuteTime": {
     "end_time": "2024-07-17T23:12:06.338948Z",
     "start_time": "2024-07-17T23:12:06.227056Z"
    }
   },
   "id": "9e1e71943a57dc82"
  },
  {
   "cell_type": "markdown",
   "source": [
    "### Create new columns \"stock_exchange\" & \"stock_ticker_symbol\""
   ],
   "metadata": {
    "collapsed": false
   },
   "id": "a7e1fc82e5097813"
  },
  {
   "cell_type": "code",
   "execution_count": 18,
   "outputs": [],
   "source": [
    "# Create new column stock_exchange by splitting ticker_symbol\n",
    "df_sorted['stock_exchange'] = df_sorted['ticker_symbol'].str.split(':').str[0]"
   ],
   "metadata": {
    "collapsed": false,
    "ExecuteTime": {
     "end_time": "2024-07-17T23:12:06.339078Z",
     "start_time": "2024-07-17T23:12:06.234442Z"
    }
   },
   "id": "a54e28bbd62ffbc3"
  },
  {
   "cell_type": "code",
   "execution_count": 19,
   "outputs": [],
   "source": [
    "# Create new column stock_ticker_symbol by splitting ticker_symbol\n",
    "df_sorted['stock_ticker_symbol'] = df_sorted['ticker_symbol'].str.split(':').str[1]"
   ],
   "metadata": {
    "collapsed": false,
    "ExecuteTime": {
     "end_time": "2024-07-17T23:12:06.339266Z",
     "start_time": "2024-07-17T23:12:06.241286Z"
    }
   },
   "id": "c9a6cb986ce963eb"
  },
  {
   "cell_type": "code",
   "execution_count": 20,
   "outputs": [
    {
     "data": {
      "text/plain": "stock_exchange\nNYS    551\nNAS    408\nTKS    372\nLON    226\nTAI    183\n      ... \nLIM      1\nLIT      1\nBRA      1\nFRA      1\nBER      1\nName: count, Length: 62, dtype: int64"
     },
     "execution_count": 20,
     "metadata": {},
     "output_type": "execute_result"
    }
   ],
   "source": [
    "df_sorted[df_sorted['ticker_symbol'] != '-']['stock_exchange'].value_counts('')"
   ],
   "metadata": {
    "collapsed": false,
    "ExecuteTime": {
     "end_time": "2024-07-17T23:12:06.339716Z",
     "start_time": "2024-07-17T23:12:06.245312Z"
    }
   },
   "id": "bbc4e0774f5f5a7d"
  },
  {
   "cell_type": "markdown",
   "source": [
    "### Selected Stock-Exchanges"
   ],
   "metadata": {
    "collapsed": false
   },
   "id": "fd219e82a7a6a2a3"
  },
  {
   "cell_type": "code",
   "execution_count": 21,
   "outputs": [
    {
     "data": {
      "text/plain": "4386"
     },
     "execution_count": 21,
     "metadata": {},
     "output_type": "execute_result"
    }
   ],
   "source": [
    "len(df_sorted)"
   ],
   "metadata": {
    "collapsed": false,
    "ExecuteTime": {
     "end_time": "2024-07-17T23:12:06.339905Z",
     "start_time": "2024-07-17T23:12:06.252310Z"
    }
   },
   "id": "b2aa879ccd224853"
  },
  {
   "cell_type": "markdown",
   "source": [
    "### Filter Stock Exchanges"
   ],
   "metadata": {
    "collapsed": false
   },
   "id": "2375c94066821ffd"
  },
  {
   "cell_type": "code",
   "execution_count": 22,
   "outputs": [],
   "source": [
    "# drop existing column \"stock_ticker_symbol\"\n",
    "df_sorted = df_sorted.drop(columns=['ticker_symbol'])"
   ],
   "metadata": {
    "collapsed": false,
    "ExecuteTime": {
     "end_time": "2024-07-17T23:12:06.339977Z",
     "start_time": "2024-07-17T23:12:06.255168Z"
    }
   },
   "id": "6cfdf41b443742c0"
  },
  {
   "cell_type": "code",
   "execution_count": 23,
   "outputs": [
    {
     "data": {
      "text/plain": "1662"
     },
     "execution_count": 23,
     "metadata": {},
     "output_type": "execute_result"
    }
   ],
   "source": [
    "# Filter by a single column value \n",
    "df_filtered = df_sorted[df_sorted['stock_exchange'].isin(['NYS', 'NAS', 'TKS', 'LON', 'ETR'])]\n",
    "len(df_filtered)"
   ],
   "metadata": {
    "collapsed": false,
    "ExecuteTime": {
     "end_time": "2024-07-17T23:12:06.340241Z",
     "start_time": "2024-07-17T23:12:06.259024Z"
    }
   },
   "id": "c37dd4a69092b215"
  },
  {
   "cell_type": "code",
   "execution_count": 24,
   "outputs": [
    {
     "data": {
      "text/plain": "                         company_name  company_esg_score  \\\n3498                     RS Group Plc                4.5   \n3486        Kimball Electronics, Inc.                4.5   \n2100                TAG Immobilien AG                4.6   \n2068                LEG Immobilien SE                5.1   \n521                   Steelcase, Inc.                5.3   \n...                               ...                ...   \n3676  KVH Industries, Inc. (Delaware)               20.0   \n2905                Moonpig Group Plc               20.0   \n1963                NeoGenomics, Inc.               20.0   \n3057         Japan Material Co., Ltd.               20.0   \n4160              Union Pacific Corp.               20.0   \n\n     company_esg_score_group             industry stock_exchange  \\\n3498     Negligible ESG Risk  Technology Hardware            LON   \n3486     Negligible ESG Risk  Technology Hardware            NAS   \n2100     Negligible ESG Risk          Real Estate            ETR   \n2068     Negligible ESG Risk          Real Estate            ETR   \n521      Negligible ESG Risk  Commercial Services            NYS   \n...                      ...                  ...            ...   \n3676            Low ESG Risk  Technology Hardware            NAS   \n2905            Low ESG Risk            Retailing            LON   \n1963            Low ESG Risk      Pharmaceuticals            NAS   \n3057            Low ESG Risk       Semiconductors            TKS   \n4160            Low ESG Risk       Transportation            NYS   \n\n     stock_ticker_symbol  \n3498                 RS1  \n3486                  KE  \n2100                 TEG  \n2068                 LEG  \n521                  SCS  \n...                  ...  \n3676                KVHI  \n2905                MOON  \n1963                 NEO  \n3057                6055  \n4160                 UNP  \n\n[1662 rows x 6 columns]",
      "text/html": "<div>\n<style scoped>\n    .dataframe tbody tr th:only-of-type {\n        vertical-align: middle;\n    }\n\n    .dataframe tbody tr th {\n        vertical-align: top;\n    }\n\n    .dataframe thead th {\n        text-align: right;\n    }\n</style>\n<table border=\"1\" class=\"dataframe\">\n  <thead>\n    <tr style=\"text-align: right;\">\n      <th></th>\n      <th>company_name</th>\n      <th>company_esg_score</th>\n      <th>company_esg_score_group</th>\n      <th>industry</th>\n      <th>stock_exchange</th>\n      <th>stock_ticker_symbol</th>\n    </tr>\n  </thead>\n  <tbody>\n    <tr>\n      <th>3498</th>\n      <td>RS Group Plc</td>\n      <td>4.5</td>\n      <td>Negligible ESG Risk</td>\n      <td>Technology Hardware</td>\n      <td>LON</td>\n      <td>RS1</td>\n    </tr>\n    <tr>\n      <th>3486</th>\n      <td>Kimball Electronics, Inc.</td>\n      <td>4.5</td>\n      <td>Negligible ESG Risk</td>\n      <td>Technology Hardware</td>\n      <td>NAS</td>\n      <td>KE</td>\n    </tr>\n    <tr>\n      <th>2100</th>\n      <td>TAG Immobilien AG</td>\n      <td>4.6</td>\n      <td>Negligible ESG Risk</td>\n      <td>Real Estate</td>\n      <td>ETR</td>\n      <td>TEG</td>\n    </tr>\n    <tr>\n      <th>2068</th>\n      <td>LEG Immobilien SE</td>\n      <td>5.1</td>\n      <td>Negligible ESG Risk</td>\n      <td>Real Estate</td>\n      <td>ETR</td>\n      <td>LEG</td>\n    </tr>\n    <tr>\n      <th>521</th>\n      <td>Steelcase, Inc.</td>\n      <td>5.3</td>\n      <td>Negligible ESG Risk</td>\n      <td>Commercial Services</td>\n      <td>NYS</td>\n      <td>SCS</td>\n    </tr>\n    <tr>\n      <th>...</th>\n      <td>...</td>\n      <td>...</td>\n      <td>...</td>\n      <td>...</td>\n      <td>...</td>\n      <td>...</td>\n    </tr>\n    <tr>\n      <th>3676</th>\n      <td>KVH Industries, Inc. (Delaware)</td>\n      <td>20.0</td>\n      <td>Low ESG Risk</td>\n      <td>Technology Hardware</td>\n      <td>NAS</td>\n      <td>KVHI</td>\n    </tr>\n    <tr>\n      <th>2905</th>\n      <td>Moonpig Group Plc</td>\n      <td>20.0</td>\n      <td>Low ESG Risk</td>\n      <td>Retailing</td>\n      <td>LON</td>\n      <td>MOON</td>\n    </tr>\n    <tr>\n      <th>1963</th>\n      <td>NeoGenomics, Inc.</td>\n      <td>20.0</td>\n      <td>Low ESG Risk</td>\n      <td>Pharmaceuticals</td>\n      <td>NAS</td>\n      <td>NEO</td>\n    </tr>\n    <tr>\n      <th>3057</th>\n      <td>Japan Material Co., Ltd.</td>\n      <td>20.0</td>\n      <td>Low ESG Risk</td>\n      <td>Semiconductors</td>\n      <td>TKS</td>\n      <td>6055</td>\n    </tr>\n    <tr>\n      <th>4160</th>\n      <td>Union Pacific Corp.</td>\n      <td>20.0</td>\n      <td>Low ESG Risk</td>\n      <td>Transportation</td>\n      <td>NYS</td>\n      <td>UNP</td>\n    </tr>\n  </tbody>\n</table>\n<p>1662 rows × 6 columns</p>\n</div>"
     },
     "execution_count": 24,
     "metadata": {},
     "output_type": "execute_result"
    }
   ],
   "source": [
    "df_filtered"
   ],
   "metadata": {
    "collapsed": false,
    "ExecuteTime": {
     "end_time": "2024-07-17T23:12:06.342421Z",
     "start_time": "2024-07-17T23:12:06.265793Z"
    }
   },
   "id": "f1aff08ed27306e3"
  },
  {
   "cell_type": "markdown",
   "source": [
    "#### Group by industry and company-esg-score-group"
   ],
   "metadata": {
    "collapsed": false
   },
   "id": "67cf6ba0583a845"
  },
  {
   "cell_type": "code",
   "execution_count": 25,
   "outputs": [
    {
     "data": {
      "text/plain": "1662"
     },
     "execution_count": 25,
     "metadata": {},
     "output_type": "execute_result"
    }
   ],
   "source": [
    "len(df_filtered)"
   ],
   "metadata": {
    "collapsed": false,
    "ExecuteTime": {
     "end_time": "2024-07-17T23:12:06.342769Z",
     "start_time": "2024-07-17T23:12:06.268364Z"
    }
   },
   "id": "737939a8471907ea"
  },
  {
   "cell_type": "code",
   "execution_count": 26,
   "outputs": [
    {
     "data": {
      "text/plain": "                         industry company_esg_score_group  Count\n0             Aerospace & Defense            Low ESG Risk      1\n2                 Auto Components     Negligible ESG Risk      5\n1                 Auto Components            Low ESG Risk     45\n3                     Automobiles            Low ESG Risk      4\n5                           Banks     Negligible ESG Risk      1\n4                           Banks            Low ESG Risk     15\n6               Building Products            Low ESG Risk     13\n7                       Chemicals            Low ESG Risk     11\n9             Commercial Services     Negligible ESG Risk     32\n8             Commercial Services            Low ESG Risk     83\n10         Construction Materials            Low ESG Risk      1\n12              Consumer Durables     Negligible ESG Risk      3\n11              Consumer Durables            Low ESG Risk     55\n14              Consumer Services     Negligible ESG Risk      1\n13              Consumer Services            Low ESG Risk     34\n16         Containers & Packaging     Negligible ESG Risk      3\n15         Containers & Packaging            Low ESG Risk     15\n18         Diversified Financials     Negligible ESG Risk      3\n17         Diversified Financials            Low ESG Risk     49\n19             Diversified Metals            Low ESG Risk      1\n20           Electrical Equipment            Low ESG Risk     16\n21                Energy Services            Low ESG Risk      6\n22                  Food Products            Low ESG Risk      6\n23                 Food Retailers            Low ESG Risk     25\n25                     Healthcare     Negligible ESG Risk      1\n24                     Healthcare            Low ESG Risk     72\n27                   Homebuilders     Negligible ESG Risk      1\n26                   Homebuilders            Low ESG Risk     20\n28             Household Products            Low ESG Risk      2\n29                      Insurance            Low ESG Risk     25\n30                      Machinery            Low ESG Risk     24\n32                          Media     Negligible ESG Risk      8\n31                          Media            Low ESG Risk     80\n33            Oil & Gas Producers     Negligible ESG Risk      1\n34               Paper & Forestry            Low ESG Risk      4\n35                Pharmaceuticals            Low ESG Risk     44\n36                Precious Metals     Negligible ESG Risk      1\n38                    Real Estate     Negligible ESG Risk     36\n37                    Real Estate            Low ESG Risk    236\n39           Refiners & Pipelines            Low ESG Risk      2\n41                      Retailing     Negligible ESG Risk      5\n40                      Retailing            Low ESG Risk    150\n42                 Semiconductors            Low ESG Risk     48\n44            Software & Services     Negligible ESG Risk      2\n43            Software & Services            Low ESG Risk    179\n46            Technology Hardware     Negligible ESG Risk     32\n45            Technology Hardware            Low ESG Risk    131\n47     Telecommunication Services            Low ESG Risk      9\n49             Textiles & Apparel     Negligible ESG Risk      2\n48             Textiles & Apparel            Low ESG Risk     36\n50         Traders & Distributors            Low ESG Risk     23\n51                 Transportation            Low ESG Risk     37\n52  Transportation Infrastructure            Low ESG Risk      4\n54                      Utilities     Negligible ESG Risk      2\n53                      Utilities            Low ESG Risk     17",
      "text/html": "<div>\n<style scoped>\n    .dataframe tbody tr th:only-of-type {\n        vertical-align: middle;\n    }\n\n    .dataframe tbody tr th {\n        vertical-align: top;\n    }\n\n    .dataframe thead th {\n        text-align: right;\n    }\n</style>\n<table border=\"1\" class=\"dataframe\">\n  <thead>\n    <tr style=\"text-align: right;\">\n      <th></th>\n      <th>industry</th>\n      <th>company_esg_score_group</th>\n      <th>Count</th>\n    </tr>\n  </thead>\n  <tbody>\n    <tr>\n      <th>0</th>\n      <td>Aerospace &amp; Defense</td>\n      <td>Low ESG Risk</td>\n      <td>1</td>\n    </tr>\n    <tr>\n      <th>2</th>\n      <td>Auto Components</td>\n      <td>Negligible ESG Risk</td>\n      <td>5</td>\n    </tr>\n    <tr>\n      <th>1</th>\n      <td>Auto Components</td>\n      <td>Low ESG Risk</td>\n      <td>45</td>\n    </tr>\n    <tr>\n      <th>3</th>\n      <td>Automobiles</td>\n      <td>Low ESG Risk</td>\n      <td>4</td>\n    </tr>\n    <tr>\n      <th>5</th>\n      <td>Banks</td>\n      <td>Negligible ESG Risk</td>\n      <td>1</td>\n    </tr>\n    <tr>\n      <th>4</th>\n      <td>Banks</td>\n      <td>Low ESG Risk</td>\n      <td>15</td>\n    </tr>\n    <tr>\n      <th>6</th>\n      <td>Building Products</td>\n      <td>Low ESG Risk</td>\n      <td>13</td>\n    </tr>\n    <tr>\n      <th>7</th>\n      <td>Chemicals</td>\n      <td>Low ESG Risk</td>\n      <td>11</td>\n    </tr>\n    <tr>\n      <th>9</th>\n      <td>Commercial Services</td>\n      <td>Negligible ESG Risk</td>\n      <td>32</td>\n    </tr>\n    <tr>\n      <th>8</th>\n      <td>Commercial Services</td>\n      <td>Low ESG Risk</td>\n      <td>83</td>\n    </tr>\n    <tr>\n      <th>10</th>\n      <td>Construction Materials</td>\n      <td>Low ESG Risk</td>\n      <td>1</td>\n    </tr>\n    <tr>\n      <th>12</th>\n      <td>Consumer Durables</td>\n      <td>Negligible ESG Risk</td>\n      <td>3</td>\n    </tr>\n    <tr>\n      <th>11</th>\n      <td>Consumer Durables</td>\n      <td>Low ESG Risk</td>\n      <td>55</td>\n    </tr>\n    <tr>\n      <th>14</th>\n      <td>Consumer Services</td>\n      <td>Negligible ESG Risk</td>\n      <td>1</td>\n    </tr>\n    <tr>\n      <th>13</th>\n      <td>Consumer Services</td>\n      <td>Low ESG Risk</td>\n      <td>34</td>\n    </tr>\n    <tr>\n      <th>16</th>\n      <td>Containers &amp; Packaging</td>\n      <td>Negligible ESG Risk</td>\n      <td>3</td>\n    </tr>\n    <tr>\n      <th>15</th>\n      <td>Containers &amp; Packaging</td>\n      <td>Low ESG Risk</td>\n      <td>15</td>\n    </tr>\n    <tr>\n      <th>18</th>\n      <td>Diversified Financials</td>\n      <td>Negligible ESG Risk</td>\n      <td>3</td>\n    </tr>\n    <tr>\n      <th>17</th>\n      <td>Diversified Financials</td>\n      <td>Low ESG Risk</td>\n      <td>49</td>\n    </tr>\n    <tr>\n      <th>19</th>\n      <td>Diversified Metals</td>\n      <td>Low ESG Risk</td>\n      <td>1</td>\n    </tr>\n    <tr>\n      <th>20</th>\n      <td>Electrical Equipment</td>\n      <td>Low ESG Risk</td>\n      <td>16</td>\n    </tr>\n    <tr>\n      <th>21</th>\n      <td>Energy Services</td>\n      <td>Low ESG Risk</td>\n      <td>6</td>\n    </tr>\n    <tr>\n      <th>22</th>\n      <td>Food Products</td>\n      <td>Low ESG Risk</td>\n      <td>6</td>\n    </tr>\n    <tr>\n      <th>23</th>\n      <td>Food Retailers</td>\n      <td>Low ESG Risk</td>\n      <td>25</td>\n    </tr>\n    <tr>\n      <th>25</th>\n      <td>Healthcare</td>\n      <td>Negligible ESG Risk</td>\n      <td>1</td>\n    </tr>\n    <tr>\n      <th>24</th>\n      <td>Healthcare</td>\n      <td>Low ESG Risk</td>\n      <td>72</td>\n    </tr>\n    <tr>\n      <th>27</th>\n      <td>Homebuilders</td>\n      <td>Negligible ESG Risk</td>\n      <td>1</td>\n    </tr>\n    <tr>\n      <th>26</th>\n      <td>Homebuilders</td>\n      <td>Low ESG Risk</td>\n      <td>20</td>\n    </tr>\n    <tr>\n      <th>28</th>\n      <td>Household Products</td>\n      <td>Low ESG Risk</td>\n      <td>2</td>\n    </tr>\n    <tr>\n      <th>29</th>\n      <td>Insurance</td>\n      <td>Low ESG Risk</td>\n      <td>25</td>\n    </tr>\n    <tr>\n      <th>30</th>\n      <td>Machinery</td>\n      <td>Low ESG Risk</td>\n      <td>24</td>\n    </tr>\n    <tr>\n      <th>32</th>\n      <td>Media</td>\n      <td>Negligible ESG Risk</td>\n      <td>8</td>\n    </tr>\n    <tr>\n      <th>31</th>\n      <td>Media</td>\n      <td>Low ESG Risk</td>\n      <td>80</td>\n    </tr>\n    <tr>\n      <th>33</th>\n      <td>Oil &amp; Gas Producers</td>\n      <td>Negligible ESG Risk</td>\n      <td>1</td>\n    </tr>\n    <tr>\n      <th>34</th>\n      <td>Paper &amp; Forestry</td>\n      <td>Low ESG Risk</td>\n      <td>4</td>\n    </tr>\n    <tr>\n      <th>35</th>\n      <td>Pharmaceuticals</td>\n      <td>Low ESG Risk</td>\n      <td>44</td>\n    </tr>\n    <tr>\n      <th>36</th>\n      <td>Precious Metals</td>\n      <td>Negligible ESG Risk</td>\n      <td>1</td>\n    </tr>\n    <tr>\n      <th>38</th>\n      <td>Real Estate</td>\n      <td>Negligible ESG Risk</td>\n      <td>36</td>\n    </tr>\n    <tr>\n      <th>37</th>\n      <td>Real Estate</td>\n      <td>Low ESG Risk</td>\n      <td>236</td>\n    </tr>\n    <tr>\n      <th>39</th>\n      <td>Refiners &amp; Pipelines</td>\n      <td>Low ESG Risk</td>\n      <td>2</td>\n    </tr>\n    <tr>\n      <th>41</th>\n      <td>Retailing</td>\n      <td>Negligible ESG Risk</td>\n      <td>5</td>\n    </tr>\n    <tr>\n      <th>40</th>\n      <td>Retailing</td>\n      <td>Low ESG Risk</td>\n      <td>150</td>\n    </tr>\n    <tr>\n      <th>42</th>\n      <td>Semiconductors</td>\n      <td>Low ESG Risk</td>\n      <td>48</td>\n    </tr>\n    <tr>\n      <th>44</th>\n      <td>Software &amp; Services</td>\n      <td>Negligible ESG Risk</td>\n      <td>2</td>\n    </tr>\n    <tr>\n      <th>43</th>\n      <td>Software &amp; Services</td>\n      <td>Low ESG Risk</td>\n      <td>179</td>\n    </tr>\n    <tr>\n      <th>46</th>\n      <td>Technology Hardware</td>\n      <td>Negligible ESG Risk</td>\n      <td>32</td>\n    </tr>\n    <tr>\n      <th>45</th>\n      <td>Technology Hardware</td>\n      <td>Low ESG Risk</td>\n      <td>131</td>\n    </tr>\n    <tr>\n      <th>47</th>\n      <td>Telecommunication Services</td>\n      <td>Low ESG Risk</td>\n      <td>9</td>\n    </tr>\n    <tr>\n      <th>49</th>\n      <td>Textiles &amp; Apparel</td>\n      <td>Negligible ESG Risk</td>\n      <td>2</td>\n    </tr>\n    <tr>\n      <th>48</th>\n      <td>Textiles &amp; Apparel</td>\n      <td>Low ESG Risk</td>\n      <td>36</td>\n    </tr>\n    <tr>\n      <th>50</th>\n      <td>Traders &amp; Distributors</td>\n      <td>Low ESG Risk</td>\n      <td>23</td>\n    </tr>\n    <tr>\n      <th>51</th>\n      <td>Transportation</td>\n      <td>Low ESG Risk</td>\n      <td>37</td>\n    </tr>\n    <tr>\n      <th>52</th>\n      <td>Transportation Infrastructure</td>\n      <td>Low ESG Risk</td>\n      <td>4</td>\n    </tr>\n    <tr>\n      <th>54</th>\n      <td>Utilities</td>\n      <td>Negligible ESG Risk</td>\n      <td>2</td>\n    </tr>\n    <tr>\n      <th>53</th>\n      <td>Utilities</td>\n      <td>Low ESG Risk</td>\n      <td>17</td>\n    </tr>\n  </tbody>\n</table>\n</div>"
     },
     "execution_count": 26,
     "metadata": {},
     "output_type": "execute_result"
    }
   ],
   "source": [
    "# Group by the first and second columns and count the occurrences\n",
    "df_filtered_grouped = df_filtered.groupby(['industry', 'company_esg_score_group']).size().reset_index(name='Count')\n",
    "df_filtered_grouped = df_filtered_grouped.sort_values(by=['industry', 'company_esg_score_group'], ascending=[True, False])\n",
    "df_filtered_grouped"
   ],
   "metadata": {
    "collapsed": false,
    "ExecuteTime": {
     "end_time": "2024-07-17T23:12:06.344188Z",
     "start_time": "2024-07-17T23:12:06.273034Z"
    }
   },
   "id": "954bc2380e8a5abc"
  },
  {
   "cell_type": "code",
   "execution_count": 27,
   "outputs": [],
   "source": [
    "df_filtered.to_csv('../data/data_2_esg_filtered.csv')"
   ],
   "metadata": {
    "collapsed": false,
    "ExecuteTime": {
     "end_time": "2024-07-17T23:12:06.344635Z",
     "start_time": "2024-07-17T23:12:06.280681Z"
    }
   },
   "id": "3492947db0978850"
  },
  {
   "cell_type": "markdown",
   "source": [
    "### Adding market capital of companies"
   ],
   "metadata": {
    "collapsed": false
   },
   "id": "642bdf2f2f97fef0"
  },
  {
   "cell_type": "code",
   "execution_count": 28,
   "outputs": [
    {
     "data": {
      "text/plain": "      Unnamed: 0                     company_name  company_esg_score  \\\n0           3498                     RS Group Plc                4.5   \n1           3486        Kimball Electronics, Inc.                4.5   \n2           2100                TAG Immobilien AG                4.6   \n3           2068                LEG Immobilien SE                5.1   \n4            521                  Steelcase, Inc.                5.3   \n...          ...                              ...                ...   \n1657        3676  KVH Industries, Inc. (Delaware)               20.0   \n1658        2905                Moonpig Group Plc               20.0   \n1659        1963                NeoGenomics, Inc.               20.0   \n1660        3057         Japan Material Co., Ltd.               20.0   \n1661        4160              Union Pacific Corp.               20.0   \n\n     company_esg_score_group             industry stock_exchange  \\\n0        Negligible ESG Risk  Technology Hardware            LON   \n1        Negligible ESG Risk  Technology Hardware            NAS   \n2        Negligible ESG Risk          Real Estate            ETR   \n3        Negligible ESG Risk          Real Estate            ETR   \n4        Negligible ESG Risk  Commercial Services            NYS   \n...                      ...                  ...            ...   \n1657            Low ESG Risk  Technology Hardware            NAS   \n1658            Low ESG Risk            Retailing            LON   \n1659            Low ESG Risk      Pharmaceuticals            NAS   \n1660            Low ESG Risk       Semiconductors            TKS   \n1661            Low ESG Risk       Transportation            NYS   \n\n     stock_ticker_symbol  \n0                  RS1.L  \n1                     KE  \n2                 TEG.DE  \n3                 LEG.DE  \n4                    SCS  \n...                  ...  \n1657                KVHI  \n1658              MOON.L  \n1659                 NEO  \n1660              6055.T  \n1661                 UNP  \n\n[1662 rows x 7 columns]",
      "text/html": "<div>\n<style scoped>\n    .dataframe tbody tr th:only-of-type {\n        vertical-align: middle;\n    }\n\n    .dataframe tbody tr th {\n        vertical-align: top;\n    }\n\n    .dataframe thead th {\n        text-align: right;\n    }\n</style>\n<table border=\"1\" class=\"dataframe\">\n  <thead>\n    <tr style=\"text-align: right;\">\n      <th></th>\n      <th>Unnamed: 0</th>\n      <th>company_name</th>\n      <th>company_esg_score</th>\n      <th>company_esg_score_group</th>\n      <th>industry</th>\n      <th>stock_exchange</th>\n      <th>stock_ticker_symbol</th>\n    </tr>\n  </thead>\n  <tbody>\n    <tr>\n      <th>0</th>\n      <td>3498</td>\n      <td>RS Group Plc</td>\n      <td>4.5</td>\n      <td>Negligible ESG Risk</td>\n      <td>Technology Hardware</td>\n      <td>LON</td>\n      <td>RS1.L</td>\n    </tr>\n    <tr>\n      <th>1</th>\n      <td>3486</td>\n      <td>Kimball Electronics, Inc.</td>\n      <td>4.5</td>\n      <td>Negligible ESG Risk</td>\n      <td>Technology Hardware</td>\n      <td>NAS</td>\n      <td>KE</td>\n    </tr>\n    <tr>\n      <th>2</th>\n      <td>2100</td>\n      <td>TAG Immobilien AG</td>\n      <td>4.6</td>\n      <td>Negligible ESG Risk</td>\n      <td>Real Estate</td>\n      <td>ETR</td>\n      <td>TEG.DE</td>\n    </tr>\n    <tr>\n      <th>3</th>\n      <td>2068</td>\n      <td>LEG Immobilien SE</td>\n      <td>5.1</td>\n      <td>Negligible ESG Risk</td>\n      <td>Real Estate</td>\n      <td>ETR</td>\n      <td>LEG.DE</td>\n    </tr>\n    <tr>\n      <th>4</th>\n      <td>521</td>\n      <td>Steelcase, Inc.</td>\n      <td>5.3</td>\n      <td>Negligible ESG Risk</td>\n      <td>Commercial Services</td>\n      <td>NYS</td>\n      <td>SCS</td>\n    </tr>\n    <tr>\n      <th>...</th>\n      <td>...</td>\n      <td>...</td>\n      <td>...</td>\n      <td>...</td>\n      <td>...</td>\n      <td>...</td>\n      <td>...</td>\n    </tr>\n    <tr>\n      <th>1657</th>\n      <td>3676</td>\n      <td>KVH Industries, Inc. (Delaware)</td>\n      <td>20.0</td>\n      <td>Low ESG Risk</td>\n      <td>Technology Hardware</td>\n      <td>NAS</td>\n      <td>KVHI</td>\n    </tr>\n    <tr>\n      <th>1658</th>\n      <td>2905</td>\n      <td>Moonpig Group Plc</td>\n      <td>20.0</td>\n      <td>Low ESG Risk</td>\n      <td>Retailing</td>\n      <td>LON</td>\n      <td>MOON.L</td>\n    </tr>\n    <tr>\n      <th>1659</th>\n      <td>1963</td>\n      <td>NeoGenomics, Inc.</td>\n      <td>20.0</td>\n      <td>Low ESG Risk</td>\n      <td>Pharmaceuticals</td>\n      <td>NAS</td>\n      <td>NEO</td>\n    </tr>\n    <tr>\n      <th>1660</th>\n      <td>3057</td>\n      <td>Japan Material Co., Ltd.</td>\n      <td>20.0</td>\n      <td>Low ESG Risk</td>\n      <td>Semiconductors</td>\n      <td>TKS</td>\n      <td>6055.T</td>\n    </tr>\n    <tr>\n      <th>1661</th>\n      <td>4160</td>\n      <td>Union Pacific Corp.</td>\n      <td>20.0</td>\n      <td>Low ESG Risk</td>\n      <td>Transportation</td>\n      <td>NYS</td>\n      <td>UNP</td>\n    </tr>\n  </tbody>\n</table>\n<p>1662 rows × 7 columns</p>\n</div>"
     },
     "execution_count": 28,
     "metadata": {},
     "output_type": "execute_result"
    }
   ],
   "source": [
    "if 'df_market_cap' not in locals():\n",
    "    df_market_cap = pd.read_csv('../data/data_2_esg_filtered.csv')\n",
    "df_market_cap"
   ],
   "metadata": {
    "collapsed": false,
    "ExecuteTime": {
     "end_time": "2024-07-17T23:12:06.345475Z",
     "start_time": "2024-07-17T23:12:06.294425Z"
    }
   },
   "id": "919f54aa194e78f6"
  },
  {
   "cell_type": "markdown",
   "source": [
    "#### Updating `stock_ticker_symbol` for Frankfurt and London\n",
    "Frankfurt & London tickers require a postfix '.DE' & '.L' respectively for Yahoo API to recognize them."
   ],
   "metadata": {
    "collapsed": false
   },
   "id": "b7344737bcaf87bd"
  },
  {
   "cell_type": "code",
   "execution_count": 29,
   "outputs": [],
   "source": [
    "# Postfix to add\n",
    "frankfurt_postfix = '.DE'\n",
    "london_postfix = '.L'\n",
    "tokyo_postfix = '.T'\n",
    "\n",
    "# Condition: Add postfix '.DE' to 'stock_exchange' column if the 'stock_ticker_symbol' column is 'ETR' (Frankfurt)\n",
    "df_market_cap['stock_ticker_symbol'] = np.where((df_market_cap['stock_exchange'] == 'ETR'), df_market_cap['stock_ticker_symbol'] + frankfurt_postfix, df_market_cap['stock_ticker_symbol'])\n",
    "\n",
    "# Condition: Add postfix '.L' to 'stock_exchange' column if the 'stock_ticker_symbol' column is 'Lon' (London)\n",
    "df_market_cap['stock_ticker_symbol'] = np.where((df_market_cap['stock_exchange'] == 'LON'), df_market_cap['stock_ticker_symbol'] + london_postfix, df_market_cap['stock_ticker_symbol'])\n",
    "\n",
    "# Condition: Add postfix '.T' to 'stock_exchange' column if the 'stock_ticker_symbol' column is 'TKS' (Tokyo)\n",
    "df_market_cap['stock_ticker_symbol'] = np.where((df_market_cap['stock_exchange'] == 'TKS'), df_market_cap['stock_ticker_symbol'] + tokyo_postfix, df_market_cap['stock_ticker_symbol'])"
   ],
   "metadata": {
    "collapsed": false,
    "ExecuteTime": {
     "end_time": "2024-07-17T23:12:06.345556Z",
     "start_time": "2024-07-17T23:12:06.299547Z"
    }
   },
   "id": "5ebe571d43b3b455"
  },
  {
   "cell_type": "code",
   "execution_count": 30,
   "outputs": [
    {
     "data": {
      "text/plain": "     stock_exchange stock_ticker_symbol\n0               LON             RS1.L.L\n1               NAS                  KE\n2               ETR           TEG.DE.DE\n3               ETR           LEG.DE.DE\n4               NYS                 SCS\n...             ...                 ...\n1657            NAS                KVHI\n1658            LON            MOON.L.L\n1659            NAS                 NEO\n1660            TKS            6055.T.T\n1661            NYS                 UNP\n\n[1662 rows x 2 columns]",
      "text/html": "<div>\n<style scoped>\n    .dataframe tbody tr th:only-of-type {\n        vertical-align: middle;\n    }\n\n    .dataframe tbody tr th {\n        vertical-align: top;\n    }\n\n    .dataframe thead th {\n        text-align: right;\n    }\n</style>\n<table border=\"1\" class=\"dataframe\">\n  <thead>\n    <tr style=\"text-align: right;\">\n      <th></th>\n      <th>stock_exchange</th>\n      <th>stock_ticker_symbol</th>\n    </tr>\n  </thead>\n  <tbody>\n    <tr>\n      <th>0</th>\n      <td>LON</td>\n      <td>RS1.L.L</td>\n    </tr>\n    <tr>\n      <th>1</th>\n      <td>NAS</td>\n      <td>KE</td>\n    </tr>\n    <tr>\n      <th>2</th>\n      <td>ETR</td>\n      <td>TEG.DE.DE</td>\n    </tr>\n    <tr>\n      <th>3</th>\n      <td>ETR</td>\n      <td>LEG.DE.DE</td>\n    </tr>\n    <tr>\n      <th>4</th>\n      <td>NYS</td>\n      <td>SCS</td>\n    </tr>\n    <tr>\n      <th>...</th>\n      <td>...</td>\n      <td>...</td>\n    </tr>\n    <tr>\n      <th>1657</th>\n      <td>NAS</td>\n      <td>KVHI</td>\n    </tr>\n    <tr>\n      <th>1658</th>\n      <td>LON</td>\n      <td>MOON.L.L</td>\n    </tr>\n    <tr>\n      <th>1659</th>\n      <td>NAS</td>\n      <td>NEO</td>\n    </tr>\n    <tr>\n      <th>1660</th>\n      <td>TKS</td>\n      <td>6055.T.T</td>\n    </tr>\n    <tr>\n      <th>1661</th>\n      <td>NYS</td>\n      <td>UNP</td>\n    </tr>\n  </tbody>\n</table>\n<p>1662 rows × 2 columns</p>\n</div>"
     },
     "execution_count": 30,
     "metadata": {},
     "output_type": "execute_result"
    }
   ],
   "source": [
    "df_market_cap[['stock_exchange', 'stock_ticker_symbol']]"
   ],
   "metadata": {
    "collapsed": false,
    "ExecuteTime": {
     "end_time": "2024-07-17T23:12:06.352283Z",
     "start_time": "2024-07-17T23:12:06.302797Z"
    }
   },
   "id": "7cd36c85d12a4cc4"
  },
  {
   "cell_type": "markdown",
   "source": [
    "#### Fetch Market-Capital"
   ],
   "metadata": {
    "collapsed": false
   },
   "id": "9a9b3bca0827087c"
  },
  {
   "cell_type": "code",
   "execution_count": 31,
   "outputs": [
    {
     "name": "stdout",
     "output_type": "stream",
     "text": [
      "      Unnamed: 0 stock_ticker_symbol  market_capital\n",
      "0              0               RS1.L    3.723188e+09\n",
      "1              1                  KE    5.958660e+08\n",
      "2              2              TEG.DE    2.539239e+09\n",
      "3              3              LEG.DE    6.009704e+09\n",
      "4              4                 SCS    1.588731e+09\n",
      "...          ...                 ...             ...\n",
      "1657        1657                KVHI    9.148317e+07\n",
      "1658        1658              MOON.L    7.034287e+08\n",
      "1659        1659                 NEO    1.979536e+09\n",
      "1660        1660              6055.T    2.270510e+11\n",
      "1661        1661                 UNP    1.488027e+11\n",
      "\n",
      "[1662 rows x 3 columns]\n"
     ]
    }
   ],
   "source": [
    "import time\n",
    "\n",
    "def fetch_market_cap(tickers, batch_size=100, delay=2):\n",
    "    market_caps = []\n",
    "\n",
    "    for i in range(0, len(tickers), batch_size):\n",
    "        batch = tickers[i:i+batch_size]\n",
    "        tickers_str = ' '.join(batch)\n",
    "\n",
    "        try:\n",
    "            data = yf.Tickers(tickers_str)\n",
    "            for ticker in batch:\n",
    "                info = data.tickers[ticker].info\n",
    "                market_cap = info.get('marketCap', 'N/A')\n",
    "                market_caps.append({'stock_ticker_symbol': ticker, 'market_capital': market_cap})\n",
    "        except Exception as e:\n",
    "            print(f\"Error fetching data for batch starting at index {i}: {e}\")\n",
    "\n",
    "        time.sleep(delay)  # delay to avoid getting blocked\n",
    "\n",
    "    return pd.DataFrame(market_caps)\n",
    "\n",
    "\n",
    "# Fetch market cap in batches of 50 with a 3-second delay between batches\n",
    "if os.path.isfile('market_caps.csv'):\n",
    "    df_market_caps = fetch_market_cap(df_market_cap['stock_ticker_symbol'], batch_size=50, delay=3)\n",
    "\n",
    "print(df_market_caps)\n"
   ],
   "metadata": {
    "collapsed": false,
    "ExecuteTime": {
     "end_time": "2024-07-17T23:12:06.353427Z",
     "start_time": "2024-07-17T23:12:06.307445Z"
    }
   },
   "id": "6bc67ded13e014ec"
  },
  {
   "cell_type": "code",
   "execution_count": 32,
   "outputs": [],
   "source": [
    "df_market_caps.to_csv('../data/data_3_market_caps.csv')"
   ],
   "metadata": {
    "collapsed": false,
    "ExecuteTime": {
     "end_time": "2024-07-17T23:12:06.353928Z",
     "start_time": "2024-07-17T23:12:06.312316Z"
    }
   },
   "id": "5432cbc034d01567"
  },
  {
   "cell_type": "code",
   "execution_count": 33,
   "outputs": [],
   "source": [
    "if 'df_market_caps' not in locals():\n",
    "    df_market_caps = pd.read_csv('../data/data_3_market_caps.csv')"
   ],
   "metadata": {
    "collapsed": false,
    "ExecuteTime": {
     "end_time": "2024-07-17T23:12:06.426011Z",
     "start_time": "2024-07-17T23:12:06.316956Z"
    }
   },
   "id": "ac4cc5409121e62e"
  },
  {
   "cell_type": "code",
   "execution_count": 39,
   "outputs": [
    {
     "data": {
      "text/plain": "     stock_ticker_symbol  market_capital\n0                  RS1.L    3.723188e+09\n1                     KE    5.958660e+08\n2                 TEG.DE    2.539239e+09\n3                 LEG.DE    6.009704e+09\n4                    SCS    1.588731e+09\n...                  ...             ...\n1657                KVHI    9.148317e+07\n1658              MOON.L    7.034287e+08\n1659                 NEO    1.979536e+09\n1660              6055.T    2.270510e+11\n1661                 UNP    1.488027e+11\n\n[1662 rows x 2 columns]",
      "text/html": "<div>\n<style scoped>\n    .dataframe tbody tr th:only-of-type {\n        vertical-align: middle;\n    }\n\n    .dataframe tbody tr th {\n        vertical-align: top;\n    }\n\n    .dataframe thead th {\n        text-align: right;\n    }\n</style>\n<table border=\"1\" class=\"dataframe\">\n  <thead>\n    <tr style=\"text-align: right;\">\n      <th></th>\n      <th>stock_ticker_symbol</th>\n      <th>market_capital</th>\n    </tr>\n  </thead>\n  <tbody>\n    <tr>\n      <th>0</th>\n      <td>RS1.L</td>\n      <td>3.723188e+09</td>\n    </tr>\n    <tr>\n      <th>1</th>\n      <td>KE</td>\n      <td>5.958660e+08</td>\n    </tr>\n    <tr>\n      <th>2</th>\n      <td>TEG.DE</td>\n      <td>2.539239e+09</td>\n    </tr>\n    <tr>\n      <th>3</th>\n      <td>LEG.DE</td>\n      <td>6.009704e+09</td>\n    </tr>\n    <tr>\n      <th>4</th>\n      <td>SCS</td>\n      <td>1.588731e+09</td>\n    </tr>\n    <tr>\n      <th>...</th>\n      <td>...</td>\n      <td>...</td>\n    </tr>\n    <tr>\n      <th>1657</th>\n      <td>KVHI</td>\n      <td>9.148317e+07</td>\n    </tr>\n    <tr>\n      <th>1658</th>\n      <td>MOON.L</td>\n      <td>7.034287e+08</td>\n    </tr>\n    <tr>\n      <th>1659</th>\n      <td>NEO</td>\n      <td>1.979536e+09</td>\n    </tr>\n    <tr>\n      <th>1660</th>\n      <td>6055.T</td>\n      <td>2.270510e+11</td>\n    </tr>\n    <tr>\n      <th>1661</th>\n      <td>UNP</td>\n      <td>1.488027e+11</td>\n    </tr>\n  </tbody>\n</table>\n<p>1662 rows × 2 columns</p>\n</div>"
     },
     "execution_count": 39,
     "metadata": {},
     "output_type": "execute_result"
    }
   ],
   "source": [
    "df_market_caps = df_market_caps[['stock_ticker_symbol', 'market_capital']]\n",
    "df_market_caps"
   ],
   "metadata": {
    "collapsed": false,
    "ExecuteTime": {
     "end_time": "2024-07-17T23:19:18.592587Z",
     "start_time": "2024-07-17T23:19:18.582262Z"
    }
   },
   "id": "c1727d020b80b64"
  },
  {
   "cell_type": "code",
   "execution_count": 44,
   "outputs": [
    {
     "data": {
      "text/plain": "                         company_name  company_esg_score  \\\n0                        RS Group Plc                4.5   \n1           Kimball Electronics, Inc.                4.5   \n2                   TAG Immobilien AG                4.6   \n3                   LEG Immobilien SE                5.1   \n4                     Steelcase, Inc.                5.3   \n...                               ...                ...   \n1657  KVH Industries, Inc. (Delaware)               20.0   \n1658                Moonpig Group Plc               20.0   \n1659                NeoGenomics, Inc.               20.0   \n1660         Japan Material Co., Ltd.               20.0   \n1661              Union Pacific Corp.               20.0   \n\n     company_esg_score_group             industry stock_exchange  \\\n0        Negligible ESG Risk  Technology Hardware            LON   \n1        Negligible ESG Risk  Technology Hardware            NAS   \n2        Negligible ESG Risk          Real Estate            ETR   \n3        Negligible ESG Risk          Real Estate            ETR   \n4        Negligible ESG Risk  Commercial Services            NYS   \n...                      ...                  ...            ...   \n1657            Low ESG Risk  Technology Hardware            NAS   \n1658            Low ESG Risk            Retailing            LON   \n1659            Low ESG Risk      Pharmaceuticals            NAS   \n1660            Low ESG Risk       Semiconductors            TKS   \n1661            Low ESG Risk       Transportation            NYS   \n\n     stock_ticker_symbol  \n0                RS1.L.L  \n1                     KE  \n2              TEG.DE.DE  \n3              LEG.DE.DE  \n4                    SCS  \n...                  ...  \n1657                KVHI  \n1658            MOON.L.L  \n1659                 NEO  \n1660            6055.T.T  \n1661                 UNP  \n\n[1662 rows x 6 columns]",
      "text/html": "<div>\n<style scoped>\n    .dataframe tbody tr th:only-of-type {\n        vertical-align: middle;\n    }\n\n    .dataframe tbody tr th {\n        vertical-align: top;\n    }\n\n    .dataframe thead th {\n        text-align: right;\n    }\n</style>\n<table border=\"1\" class=\"dataframe\">\n  <thead>\n    <tr style=\"text-align: right;\">\n      <th></th>\n      <th>company_name</th>\n      <th>company_esg_score</th>\n      <th>company_esg_score_group</th>\n      <th>industry</th>\n      <th>stock_exchange</th>\n      <th>stock_ticker_symbol</th>\n    </tr>\n  </thead>\n  <tbody>\n    <tr>\n      <th>0</th>\n      <td>RS Group Plc</td>\n      <td>4.5</td>\n      <td>Negligible ESG Risk</td>\n      <td>Technology Hardware</td>\n      <td>LON</td>\n      <td>RS1.L.L</td>\n    </tr>\n    <tr>\n      <th>1</th>\n      <td>Kimball Electronics, Inc.</td>\n      <td>4.5</td>\n      <td>Negligible ESG Risk</td>\n      <td>Technology Hardware</td>\n      <td>NAS</td>\n      <td>KE</td>\n    </tr>\n    <tr>\n      <th>2</th>\n      <td>TAG Immobilien AG</td>\n      <td>4.6</td>\n      <td>Negligible ESG Risk</td>\n      <td>Real Estate</td>\n      <td>ETR</td>\n      <td>TEG.DE.DE</td>\n    </tr>\n    <tr>\n      <th>3</th>\n      <td>LEG Immobilien SE</td>\n      <td>5.1</td>\n      <td>Negligible ESG Risk</td>\n      <td>Real Estate</td>\n      <td>ETR</td>\n      <td>LEG.DE.DE</td>\n    </tr>\n    <tr>\n      <th>4</th>\n      <td>Steelcase, Inc.</td>\n      <td>5.3</td>\n      <td>Negligible ESG Risk</td>\n      <td>Commercial Services</td>\n      <td>NYS</td>\n      <td>SCS</td>\n    </tr>\n    <tr>\n      <th>...</th>\n      <td>...</td>\n      <td>...</td>\n      <td>...</td>\n      <td>...</td>\n      <td>...</td>\n      <td>...</td>\n    </tr>\n    <tr>\n      <th>1657</th>\n      <td>KVH Industries, Inc. (Delaware)</td>\n      <td>20.0</td>\n      <td>Low ESG Risk</td>\n      <td>Technology Hardware</td>\n      <td>NAS</td>\n      <td>KVHI</td>\n    </tr>\n    <tr>\n      <th>1658</th>\n      <td>Moonpig Group Plc</td>\n      <td>20.0</td>\n      <td>Low ESG Risk</td>\n      <td>Retailing</td>\n      <td>LON</td>\n      <td>MOON.L.L</td>\n    </tr>\n    <tr>\n      <th>1659</th>\n      <td>NeoGenomics, Inc.</td>\n      <td>20.0</td>\n      <td>Low ESG Risk</td>\n      <td>Pharmaceuticals</td>\n      <td>NAS</td>\n      <td>NEO</td>\n    </tr>\n    <tr>\n      <th>1660</th>\n      <td>Japan Material Co., Ltd.</td>\n      <td>20.0</td>\n      <td>Low ESG Risk</td>\n      <td>Semiconductors</td>\n      <td>TKS</td>\n      <td>6055.T.T</td>\n    </tr>\n    <tr>\n      <th>1661</th>\n      <td>Union Pacific Corp.</td>\n      <td>20.0</td>\n      <td>Low ESG Risk</td>\n      <td>Transportation</td>\n      <td>NYS</td>\n      <td>UNP</td>\n    </tr>\n  </tbody>\n</table>\n<p>1662 rows × 6 columns</p>\n</div>"
     },
     "execution_count": 44,
     "metadata": {},
     "output_type": "execute_result"
    }
   ],
   "source": [
    "df_market_cap = df_market_cap.loc[:, ~df_market_cap.columns.str.contains('^Unnamed')]\n",
    "\n",
    "df_market_cap"
   ],
   "metadata": {
    "collapsed": false,
    "ExecuteTime": {
     "end_time": "2024-07-18T22:19:01.002442Z",
     "start_time": "2024-07-18T22:19:00.988861Z"
    }
   },
   "id": "83225771f7430a52"
  },
  {
   "cell_type": "markdown",
   "source": [
    "Merging ESG score with market-capital of companies"
   ],
   "metadata": {
    "collapsed": false
   },
   "id": "bc19e66901b96730"
  },
  {
   "cell_type": "code",
   "execution_count": 45,
   "outputs": [
    {
     "data": {
      "text/plain": "                        company_name  company_esg_score  \\\n0          Kimball Electronics, Inc.                4.5   \n1                    Steelcase, Inc.                5.3   \n2                          HNI Corp.                5.4   \n3                        Avnet, Inc.                5.6   \n4                  ACCO Brands Corp.                5.7   \n..                               ...                ...   \n954      Halozyme Therapeutics, Inc.               19.9   \n955     Matthews International Corp.               20.0   \n956  KVH Industries, Inc. (Delaware)               20.0   \n957                NeoGenomics, Inc.               20.0   \n958              Union Pacific Corp.               20.0   \n\n    company_esg_score_group             industry stock_exchange  \\\n0       Negligible ESG Risk  Technology Hardware            NAS   \n1       Negligible ESG Risk  Commercial Services            NYS   \n2       Negligible ESG Risk  Commercial Services            NYS   \n3       Negligible ESG Risk  Technology Hardware            NAS   \n4       Negligible ESG Risk  Commercial Services            NYS   \n..                      ...                  ...            ...   \n954            Low ESG Risk      Pharmaceuticals            NAS   \n955            Low ESG Risk  Commercial Services            NAS   \n956            Low ESG Risk  Technology Hardware            NAS   \n957            Low ESG Risk      Pharmaceuticals            NAS   \n958            Low ESG Risk       Transportation            NYS   \n\n    stock_ticker_symbol  market_capital  \n0                    KE    5.958660e+08  \n1                   SCS    1.588731e+09  \n2                   HNI    2.324179e+09  \n3                   AVT    4.910356e+09  \n4                  ACCO    4.781985e+08  \n..                  ...             ...  \n954                HALO    6.968251e+09  \n955                MATW    8.512784e+08  \n956                KVHI    9.148317e+07  \n957                 NEO    1.979536e+09  \n958                 UNP    1.488027e+11  \n\n[959 rows x 7 columns]",
      "text/html": "<div>\n<style scoped>\n    .dataframe tbody tr th:only-of-type {\n        vertical-align: middle;\n    }\n\n    .dataframe tbody tr th {\n        vertical-align: top;\n    }\n\n    .dataframe thead th {\n        text-align: right;\n    }\n</style>\n<table border=\"1\" class=\"dataframe\">\n  <thead>\n    <tr style=\"text-align: right;\">\n      <th></th>\n      <th>company_name</th>\n      <th>company_esg_score</th>\n      <th>company_esg_score_group</th>\n      <th>industry</th>\n      <th>stock_exchange</th>\n      <th>stock_ticker_symbol</th>\n      <th>market_capital</th>\n    </tr>\n  </thead>\n  <tbody>\n    <tr>\n      <th>0</th>\n      <td>Kimball Electronics, Inc.</td>\n      <td>4.5</td>\n      <td>Negligible ESG Risk</td>\n      <td>Technology Hardware</td>\n      <td>NAS</td>\n      <td>KE</td>\n      <td>5.958660e+08</td>\n    </tr>\n    <tr>\n      <th>1</th>\n      <td>Steelcase, Inc.</td>\n      <td>5.3</td>\n      <td>Negligible ESG Risk</td>\n      <td>Commercial Services</td>\n      <td>NYS</td>\n      <td>SCS</td>\n      <td>1.588731e+09</td>\n    </tr>\n    <tr>\n      <th>2</th>\n      <td>HNI Corp.</td>\n      <td>5.4</td>\n      <td>Negligible ESG Risk</td>\n      <td>Commercial Services</td>\n      <td>NYS</td>\n      <td>HNI</td>\n      <td>2.324179e+09</td>\n    </tr>\n    <tr>\n      <th>3</th>\n      <td>Avnet, Inc.</td>\n      <td>5.6</td>\n      <td>Negligible ESG Risk</td>\n      <td>Technology Hardware</td>\n      <td>NAS</td>\n      <td>AVT</td>\n      <td>4.910356e+09</td>\n    </tr>\n    <tr>\n      <th>4</th>\n      <td>ACCO Brands Corp.</td>\n      <td>5.7</td>\n      <td>Negligible ESG Risk</td>\n      <td>Commercial Services</td>\n      <td>NYS</td>\n      <td>ACCO</td>\n      <td>4.781985e+08</td>\n    </tr>\n    <tr>\n      <th>...</th>\n      <td>...</td>\n      <td>...</td>\n      <td>...</td>\n      <td>...</td>\n      <td>...</td>\n      <td>...</td>\n      <td>...</td>\n    </tr>\n    <tr>\n      <th>954</th>\n      <td>Halozyme Therapeutics, Inc.</td>\n      <td>19.9</td>\n      <td>Low ESG Risk</td>\n      <td>Pharmaceuticals</td>\n      <td>NAS</td>\n      <td>HALO</td>\n      <td>6.968251e+09</td>\n    </tr>\n    <tr>\n      <th>955</th>\n      <td>Matthews International Corp.</td>\n      <td>20.0</td>\n      <td>Low ESG Risk</td>\n      <td>Commercial Services</td>\n      <td>NAS</td>\n      <td>MATW</td>\n      <td>8.512784e+08</td>\n    </tr>\n    <tr>\n      <th>956</th>\n      <td>KVH Industries, Inc. (Delaware)</td>\n      <td>20.0</td>\n      <td>Low ESG Risk</td>\n      <td>Technology Hardware</td>\n      <td>NAS</td>\n      <td>KVHI</td>\n      <td>9.148317e+07</td>\n    </tr>\n    <tr>\n      <th>957</th>\n      <td>NeoGenomics, Inc.</td>\n      <td>20.0</td>\n      <td>Low ESG Risk</td>\n      <td>Pharmaceuticals</td>\n      <td>NAS</td>\n      <td>NEO</td>\n      <td>1.979536e+09</td>\n    </tr>\n    <tr>\n      <th>958</th>\n      <td>Union Pacific Corp.</td>\n      <td>20.0</td>\n      <td>Low ESG Risk</td>\n      <td>Transportation</td>\n      <td>NYS</td>\n      <td>UNP</td>\n      <td>1.488027e+11</td>\n    </tr>\n  </tbody>\n</table>\n<p>959 rows × 7 columns</p>\n</div>"
     },
     "execution_count": 45,
     "metadata": {},
     "output_type": "execute_result"
    }
   ],
   "source": [
    "df_market_cap = pd.merge(df_market_cap, df_market_caps, on='stock_ticker_symbol', left_index=False, right_index=False)\n",
    "df_market_cap"
   ],
   "metadata": {
    "collapsed": false,
    "ExecuteTime": {
     "end_time": "2024-07-18T22:21:23.128924Z",
     "start_time": "2024-07-18T22:21:23.119868Z"
    }
   },
   "id": "c27bc71aceae4ab0"
  },
  {
   "cell_type": "markdown",
   "source": [
    "#### Market Capital to Euro"
   ],
   "metadata": {
    "collapsed": false
   },
   "id": "4ab7da28cec7d5d7"
  },
  {
   "cell_type": "markdown",
   "source": [
    "To make sense of the market-capital value we have to first pick a preferred currency and convert them all to it.\n",
    "For this purpose we will be using Euro as the standard currency.\n"
   ],
   "metadata": {
    "collapsed": false
   },
   "id": "7c3981de64575f49"
  },
  {
   "cell_type": "code",
   "execution_count": 54,
   "outputs": [],
   "source": [
    "df_market_cap['market_capital_euro'] = df_market_cap['market_capital']"
   ],
   "metadata": {
    "collapsed": false,
    "ExecuteTime": {
     "end_time": "2024-07-18T23:54:51.792671Z",
     "start_time": "2024-07-18T23:54:51.791028Z"
    }
   },
   "id": "6e301636efff743f"
  },
  {
   "cell_type": "markdown",
   "source": [
    "Exchange Rate (19.08.2024)"
   ],
   "metadata": {
    "collapsed": false
   },
   "id": "7a905e17762fc5df"
  },
  {
   "cell_type": "code",
   "execution_count": 57,
   "outputs": [],
   "source": [
    "exchange_rate = {\n",
    "    \"yen_to_euro\": 0.0058,\n",
    "    \"us_to_euro\": 0.92,\n",
    "    \"pound_to_euro\": 1.19\n",
    "}"
   ],
   "metadata": {
    "collapsed": false,
    "ExecuteTime": {
     "end_time": "2024-07-19T19:50:34.108393Z",
     "start_time": "2024-07-19T19:50:34.100490Z"
    }
   },
   "id": "af38182840d88280"
  },
  {
   "cell_type": "code",
   "execution_count": 69,
   "outputs": [
    {
     "name": "stdout",
     "output_type": "stream",
     "text": [
      "                        company_name  company_esg_score  \\\n",
      "0          Kimball Electronics, Inc.                4.5   \n",
      "1                    Steelcase, Inc.                5.3   \n",
      "2                          HNI Corp.                5.4   \n",
      "3                        Avnet, Inc.                5.6   \n",
      "4                  ACCO Brands Corp.                5.7   \n",
      "..                               ...                ...   \n",
      "954      Halozyme Therapeutics, Inc.               19.9   \n",
      "955     Matthews International Corp.               20.0   \n",
      "956  KVH Industries, Inc. (Delaware)               20.0   \n",
      "957                NeoGenomics, Inc.               20.0   \n",
      "958              Union Pacific Corp.               20.0   \n",
      "\n",
      "    company_esg_score_group             industry stock_exchange  \\\n",
      "0       Negligible ESG Risk  Technology Hardware            NAS   \n",
      "1       Negligible ESG Risk  Commercial Services            NYS   \n",
      "2       Negligible ESG Risk  Commercial Services            NYS   \n",
      "3       Negligible ESG Risk  Technology Hardware            NAS   \n",
      "4       Negligible ESG Risk  Commercial Services            NYS   \n",
      "..                      ...                  ...            ...   \n",
      "954            Low ESG Risk      Pharmaceuticals            NAS   \n",
      "955            Low ESG Risk  Commercial Services            NAS   \n",
      "956            Low ESG Risk  Technology Hardware            NAS   \n",
      "957            Low ESG Risk      Pharmaceuticals            NAS   \n",
      "958            Low ESG Risk       Transportation            NYS   \n",
      "\n",
      "    stock_ticker_symbol  market_capital  market_capital_euro  \n",
      "0                    KE    5.958660e+08         5.481967e+08  \n",
      "1                   SCS    1.588731e+09         1.461633e+09  \n",
      "2                   HNI    2.324179e+09         2.138245e+09  \n",
      "3                   AVT    4.910356e+09         4.517528e+09  \n",
      "4                  ACCO    4.781985e+08         4.399426e+08  \n",
      "..                  ...             ...                  ...  \n",
      "954                HALO    6.968251e+09         6.410791e+09  \n",
      "955                MATW    8.512784e+08         7.831761e+08  \n",
      "956                KVHI    9.148317e+07         8.416451e+07  \n",
      "957                 NEO    1.979536e+09         1.821173e+09  \n",
      "958                 UNP    1.488027e+11         1.368984e+11  \n",
      "\n",
      "[959 rows x 8 columns]\n"
     ]
    }
   ],
   "source": [
    "for i, row in enumerate(df_market_cap):\n",
    "    # Yen\n",
    "    if df_market_cap['stock_exchange'][i] == 'TKS':\n",
    "        df_market_cap.at[i, 'market_capital_euro'] = df_market_cap['market_capital'][i] * exchange_rate['pound_to_euro']\n",
    "    # Dollar\n",
    "    if df_market_cap['stock_exchange'][i] == 'NYS':\n",
    "        df_market_cap.at[i, 'market_capital_euro'] = df_market_cap['market_capital'][i] * exchange_rate['us_to_euro']\n",
    "    if df_market_cap['stock_exchange'][i] == 'NAS':\n",
    "        df_market_cap.at[i, 'market_capital_euro'] = df_market_cap['market_capital'][i] * exchange_rate['us_to_euro']\n",
    "    # Pound\n",
    "    if df_market_cap['stock_exchange'][i] == 'LON':\n",
    "        df_market_cap.at[i, 'market_capital_euro'] = df_market_cap['market_capital'][i] * exchange_rate['pound_to_euro']"
   ],
   "metadata": {
    "collapsed": false,
    "ExecuteTime": {
     "end_time": "2024-07-19T20:00:40.098099Z",
     "start_time": "2024-07-19T20:00:40.091321Z"
    }
   },
   "id": "8b7612e5dc2f5750"
  },
  {
   "cell_type": "code",
   "execution_count": 72,
   "outputs": [
    {
     "data": {
      "text/plain": "                        company_name  company_esg_score  \\\n0          Kimball Electronics, Inc.                4.5   \n1                    Steelcase, Inc.                5.3   \n2                          HNI Corp.                5.4   \n3                        Avnet, Inc.                5.6   \n4                  ACCO Brands Corp.                5.7   \n..                               ...                ...   \n954      Halozyme Therapeutics, Inc.               19.9   \n955     Matthews International Corp.               20.0   \n956  KVH Industries, Inc. (Delaware)               20.0   \n957                NeoGenomics, Inc.               20.0   \n958              Union Pacific Corp.               20.0   \n\n    company_esg_score_group             industry stock_exchange  \\\n0       Negligible ESG Risk  Technology Hardware            NAS   \n1       Negligible ESG Risk  Commercial Services            NYS   \n2       Negligible ESG Risk  Commercial Services            NYS   \n3       Negligible ESG Risk  Technology Hardware            NAS   \n4       Negligible ESG Risk  Commercial Services            NYS   \n..                      ...                  ...            ...   \n954            Low ESG Risk      Pharmaceuticals            NAS   \n955            Low ESG Risk  Commercial Services            NAS   \n956            Low ESG Risk  Technology Hardware            NAS   \n957            Low ESG Risk      Pharmaceuticals            NAS   \n958            Low ESG Risk       Transportation            NYS   \n\n    stock_ticker_symbol  market_capital  market_capital_euro  \n0                    KE    5.958660e+08         5.481967e+08  \n1                   SCS    1.588731e+09         1.461633e+09  \n2                   HNI    2.324179e+09         2.138245e+09  \n3                   AVT    4.910356e+09         4.517528e+09  \n4                  ACCO    4.781985e+08         4.399426e+08  \n..                  ...             ...                  ...  \n954                HALO    6.968251e+09         6.410791e+09  \n955                MATW    8.512784e+08         7.831761e+08  \n956                KVHI    9.148317e+07         8.416451e+07  \n957                 NEO    1.979536e+09         1.821173e+09  \n958                 UNP    1.488027e+11         1.368984e+11  \n\n[959 rows x 8 columns]",
      "text/html": "<div>\n<style scoped>\n    .dataframe tbody tr th:only-of-type {\n        vertical-align: middle;\n    }\n\n    .dataframe tbody tr th {\n        vertical-align: top;\n    }\n\n    .dataframe thead th {\n        text-align: right;\n    }\n</style>\n<table border=\"1\" class=\"dataframe\">\n  <thead>\n    <tr style=\"text-align: right;\">\n      <th></th>\n      <th>company_name</th>\n      <th>company_esg_score</th>\n      <th>company_esg_score_group</th>\n      <th>industry</th>\n      <th>stock_exchange</th>\n      <th>stock_ticker_symbol</th>\n      <th>market_capital</th>\n      <th>market_capital_euro</th>\n    </tr>\n  </thead>\n  <tbody>\n    <tr>\n      <th>0</th>\n      <td>Kimball Electronics, Inc.</td>\n      <td>4.5</td>\n      <td>Negligible ESG Risk</td>\n      <td>Technology Hardware</td>\n      <td>NAS</td>\n      <td>KE</td>\n      <td>5.958660e+08</td>\n      <td>5.481967e+08</td>\n    </tr>\n    <tr>\n      <th>1</th>\n      <td>Steelcase, Inc.</td>\n      <td>5.3</td>\n      <td>Negligible ESG Risk</td>\n      <td>Commercial Services</td>\n      <td>NYS</td>\n      <td>SCS</td>\n      <td>1.588731e+09</td>\n      <td>1.461633e+09</td>\n    </tr>\n    <tr>\n      <th>2</th>\n      <td>HNI Corp.</td>\n      <td>5.4</td>\n      <td>Negligible ESG Risk</td>\n      <td>Commercial Services</td>\n      <td>NYS</td>\n      <td>HNI</td>\n      <td>2.324179e+09</td>\n      <td>2.138245e+09</td>\n    </tr>\n    <tr>\n      <th>3</th>\n      <td>Avnet, Inc.</td>\n      <td>5.6</td>\n      <td>Negligible ESG Risk</td>\n      <td>Technology Hardware</td>\n      <td>NAS</td>\n      <td>AVT</td>\n      <td>4.910356e+09</td>\n      <td>4.517528e+09</td>\n    </tr>\n    <tr>\n      <th>4</th>\n      <td>ACCO Brands Corp.</td>\n      <td>5.7</td>\n      <td>Negligible ESG Risk</td>\n      <td>Commercial Services</td>\n      <td>NYS</td>\n      <td>ACCO</td>\n      <td>4.781985e+08</td>\n      <td>4.399426e+08</td>\n    </tr>\n    <tr>\n      <th>...</th>\n      <td>...</td>\n      <td>...</td>\n      <td>...</td>\n      <td>...</td>\n      <td>...</td>\n      <td>...</td>\n      <td>...</td>\n      <td>...</td>\n    </tr>\n    <tr>\n      <th>954</th>\n      <td>Halozyme Therapeutics, Inc.</td>\n      <td>19.9</td>\n      <td>Low ESG Risk</td>\n      <td>Pharmaceuticals</td>\n      <td>NAS</td>\n      <td>HALO</td>\n      <td>6.968251e+09</td>\n      <td>6.410791e+09</td>\n    </tr>\n    <tr>\n      <th>955</th>\n      <td>Matthews International Corp.</td>\n      <td>20.0</td>\n      <td>Low ESG Risk</td>\n      <td>Commercial Services</td>\n      <td>NAS</td>\n      <td>MATW</td>\n      <td>8.512784e+08</td>\n      <td>7.831761e+08</td>\n    </tr>\n    <tr>\n      <th>956</th>\n      <td>KVH Industries, Inc. (Delaware)</td>\n      <td>20.0</td>\n      <td>Low ESG Risk</td>\n      <td>Technology Hardware</td>\n      <td>NAS</td>\n      <td>KVHI</td>\n      <td>9.148317e+07</td>\n      <td>8.416451e+07</td>\n    </tr>\n    <tr>\n      <th>957</th>\n      <td>NeoGenomics, Inc.</td>\n      <td>20.0</td>\n      <td>Low ESG Risk</td>\n      <td>Pharmaceuticals</td>\n      <td>NAS</td>\n      <td>NEO</td>\n      <td>1.979536e+09</td>\n      <td>1.821173e+09</td>\n    </tr>\n    <tr>\n      <th>958</th>\n      <td>Union Pacific Corp.</td>\n      <td>20.0</td>\n      <td>Low ESG Risk</td>\n      <td>Transportation</td>\n      <td>NYS</td>\n      <td>UNP</td>\n      <td>1.488027e+11</td>\n      <td>1.368984e+11</td>\n    </tr>\n  </tbody>\n</table>\n<p>959 rows × 8 columns</p>\n</div>"
     },
     "execution_count": 72,
     "metadata": {},
     "output_type": "execute_result"
    }
   ],
   "source": [
    "df_market_cap.to_csv('../data/data_4_market_cap_euro.csv')\n",
    "df_market_cap"
   ],
   "metadata": {
    "collapsed": false,
    "ExecuteTime": {
     "end_time": "2024-07-19T21:13:42.268574Z",
     "start_time": "2024-07-19T21:13:42.235608Z"
    }
   },
   "id": "1cdb3a99b3b74076"
  },
  {
   "cell_type": "markdown",
   "source": [
    "### Column normalization\n",
    "\n",
    "Since ESG-Score and market-capital are on different scales, it's important to normalize them so they can be compared directly."
   ],
   "metadata": {
    "collapsed": false
   },
   "id": "2b2e2408a475fc8a"
  },
  {
   "cell_type": "code",
   "execution_count": 78,
   "outputs": [],
   "source": [
    "df_unscaled = df_market_cap.copy(deep=True)"
   ],
   "metadata": {
    "collapsed": false,
    "ExecuteTime": {
     "end_time": "2024-07-19T23:02:57.226083Z",
     "start_time": "2024-07-19T23:02:57.205735Z"
    }
   },
   "id": "ab7e99f0e73a51c0"
  },
  {
   "cell_type": "code",
   "execution_count": 79,
   "outputs": [],
   "source": [
    "# Normalize ESG-Score and market-capital\n",
    "scaler = MinMaxScaler()\n",
    "df_unscaled[['company_esg_score_scale', 'market_capital_scale']] = scaler.fit_transform(df_unscaled[['company_esg_score', 'market_capital_euro']])"
   ],
   "metadata": {
    "collapsed": false,
    "ExecuteTime": {
     "end_time": "2024-07-19T23:02:59.932763Z",
     "start_time": "2024-07-19T23:02:59.922565Z"
    }
   },
   "id": "353b22d104d415ee"
  },
  {
   "cell_type": "code",
   "execution_count": 80,
   "outputs": [
    {
     "data": {
      "text/plain": "                        company_name  company_esg_score  \\\n0          Kimball Electronics, Inc.                4.5   \n1                    Steelcase, Inc.                5.3   \n2                          HNI Corp.                5.4   \n3                        Avnet, Inc.                5.6   \n4                  ACCO Brands Corp.                5.7   \n..                               ...                ...   \n954      Halozyme Therapeutics, Inc.               19.9   \n955     Matthews International Corp.               20.0   \n956  KVH Industries, Inc. (Delaware)               20.0   \n957                NeoGenomics, Inc.               20.0   \n958              Union Pacific Corp.               20.0   \n\n    company_esg_score_group             industry stock_exchange  \\\n0       Negligible ESG Risk  Technology Hardware            NAS   \n1       Negligible ESG Risk  Commercial Services            NYS   \n2       Negligible ESG Risk  Commercial Services            NYS   \n3       Negligible ESG Risk  Technology Hardware            NAS   \n4       Negligible ESG Risk  Commercial Services            NYS   \n..                      ...                  ...            ...   \n954            Low ESG Risk      Pharmaceuticals            NAS   \n955            Low ESG Risk  Commercial Services            NAS   \n956            Low ESG Risk  Technology Hardware            NAS   \n957            Low ESG Risk      Pharmaceuticals            NAS   \n958            Low ESG Risk       Transportation            NYS   \n\n    stock_ticker_symbol  market_capital  market_capital_euro  \\\n0                    KE    5.958660e+08         5.481967e+08   \n1                   SCS    1.588731e+09         1.461633e+09   \n2                   HNI    2.324179e+09         2.138245e+09   \n3                   AVT    4.910356e+09         4.517528e+09   \n4                  ACCO    4.781985e+08         4.399426e+08   \n..                  ...             ...                  ...   \n954                HALO    6.968251e+09         6.410791e+09   \n955                MATW    8.512784e+08         7.831761e+08   \n956                KVHI    9.148317e+07         8.416451e+07   \n957                 NEO    1.979536e+09         1.821173e+09   \n958                 UNP    1.488027e+11         1.368984e+11   \n\n     company_esg_score_scale  market_capital_scale  \n0                   0.000000              0.000159  \n1                   0.051613              0.000442  \n2                   0.058065              0.000652  \n3                   0.070968              0.001389  \n4                   0.077419              0.000126  \n..                       ...                   ...  \n954                 0.993548              0.001975  \n955                 1.000000              0.000232  \n956                 1.000000              0.000016  \n957                 1.000000              0.000554  \n958                 1.000000              0.042388  \n\n[959 rows x 10 columns]",
      "text/html": "<div>\n<style scoped>\n    .dataframe tbody tr th:only-of-type {\n        vertical-align: middle;\n    }\n\n    .dataframe tbody tr th {\n        vertical-align: top;\n    }\n\n    .dataframe thead th {\n        text-align: right;\n    }\n</style>\n<table border=\"1\" class=\"dataframe\">\n  <thead>\n    <tr style=\"text-align: right;\">\n      <th></th>\n      <th>company_name</th>\n      <th>company_esg_score</th>\n      <th>company_esg_score_group</th>\n      <th>industry</th>\n      <th>stock_exchange</th>\n      <th>stock_ticker_symbol</th>\n      <th>market_capital</th>\n      <th>market_capital_euro</th>\n      <th>company_esg_score_scale</th>\n      <th>market_capital_scale</th>\n    </tr>\n  </thead>\n  <tbody>\n    <tr>\n      <th>0</th>\n      <td>Kimball Electronics, Inc.</td>\n      <td>4.5</td>\n      <td>Negligible ESG Risk</td>\n      <td>Technology Hardware</td>\n      <td>NAS</td>\n      <td>KE</td>\n      <td>5.958660e+08</td>\n      <td>5.481967e+08</td>\n      <td>0.000000</td>\n      <td>0.000159</td>\n    </tr>\n    <tr>\n      <th>1</th>\n      <td>Steelcase, Inc.</td>\n      <td>5.3</td>\n      <td>Negligible ESG Risk</td>\n      <td>Commercial Services</td>\n      <td>NYS</td>\n      <td>SCS</td>\n      <td>1.588731e+09</td>\n      <td>1.461633e+09</td>\n      <td>0.051613</td>\n      <td>0.000442</td>\n    </tr>\n    <tr>\n      <th>2</th>\n      <td>HNI Corp.</td>\n      <td>5.4</td>\n      <td>Negligible ESG Risk</td>\n      <td>Commercial Services</td>\n      <td>NYS</td>\n      <td>HNI</td>\n      <td>2.324179e+09</td>\n      <td>2.138245e+09</td>\n      <td>0.058065</td>\n      <td>0.000652</td>\n    </tr>\n    <tr>\n      <th>3</th>\n      <td>Avnet, Inc.</td>\n      <td>5.6</td>\n      <td>Negligible ESG Risk</td>\n      <td>Technology Hardware</td>\n      <td>NAS</td>\n      <td>AVT</td>\n      <td>4.910356e+09</td>\n      <td>4.517528e+09</td>\n      <td>0.070968</td>\n      <td>0.001389</td>\n    </tr>\n    <tr>\n      <th>4</th>\n      <td>ACCO Brands Corp.</td>\n      <td>5.7</td>\n      <td>Negligible ESG Risk</td>\n      <td>Commercial Services</td>\n      <td>NYS</td>\n      <td>ACCO</td>\n      <td>4.781985e+08</td>\n      <td>4.399426e+08</td>\n      <td>0.077419</td>\n      <td>0.000126</td>\n    </tr>\n    <tr>\n      <th>...</th>\n      <td>...</td>\n      <td>...</td>\n      <td>...</td>\n      <td>...</td>\n      <td>...</td>\n      <td>...</td>\n      <td>...</td>\n      <td>...</td>\n      <td>...</td>\n      <td>...</td>\n    </tr>\n    <tr>\n      <th>954</th>\n      <td>Halozyme Therapeutics, Inc.</td>\n      <td>19.9</td>\n      <td>Low ESG Risk</td>\n      <td>Pharmaceuticals</td>\n      <td>NAS</td>\n      <td>HALO</td>\n      <td>6.968251e+09</td>\n      <td>6.410791e+09</td>\n      <td>0.993548</td>\n      <td>0.001975</td>\n    </tr>\n    <tr>\n      <th>955</th>\n      <td>Matthews International Corp.</td>\n      <td>20.0</td>\n      <td>Low ESG Risk</td>\n      <td>Commercial Services</td>\n      <td>NAS</td>\n      <td>MATW</td>\n      <td>8.512784e+08</td>\n      <td>7.831761e+08</td>\n      <td>1.000000</td>\n      <td>0.000232</td>\n    </tr>\n    <tr>\n      <th>956</th>\n      <td>KVH Industries, Inc. (Delaware)</td>\n      <td>20.0</td>\n      <td>Low ESG Risk</td>\n      <td>Technology Hardware</td>\n      <td>NAS</td>\n      <td>KVHI</td>\n      <td>9.148317e+07</td>\n      <td>8.416451e+07</td>\n      <td>1.000000</td>\n      <td>0.000016</td>\n    </tr>\n    <tr>\n      <th>957</th>\n      <td>NeoGenomics, Inc.</td>\n      <td>20.0</td>\n      <td>Low ESG Risk</td>\n      <td>Pharmaceuticals</td>\n      <td>NAS</td>\n      <td>NEO</td>\n      <td>1.979536e+09</td>\n      <td>1.821173e+09</td>\n      <td>1.000000</td>\n      <td>0.000554</td>\n    </tr>\n    <tr>\n      <th>958</th>\n      <td>Union Pacific Corp.</td>\n      <td>20.0</td>\n      <td>Low ESG Risk</td>\n      <td>Transportation</td>\n      <td>NYS</td>\n      <td>UNP</td>\n      <td>1.488027e+11</td>\n      <td>1.368984e+11</td>\n      <td>1.000000</td>\n      <td>0.042388</td>\n    </tr>\n  </tbody>\n</table>\n<p>959 rows × 10 columns</p>\n</div>"
     },
     "execution_count": 80,
     "metadata": {},
     "output_type": "execute_result"
    }
   ],
   "source": [
    "df_unscaled"
   ],
   "metadata": {
    "collapsed": false,
    "ExecuteTime": {
     "end_time": "2024-07-19T23:03:02.507024Z",
     "start_time": "2024-07-19T23:03:02.501927Z"
    }
   },
   "id": "f7de008f4bd802c2"
  },
  {
   "cell_type": "markdown",
   "source": [
    "To create a final score, we use the ESG score and the market capital score, applying the following weights: the ESG score is multiplied by a coefficient of 0.25, and the market capital score is multiplied by a coefficient of 0.75."
   ],
   "metadata": {
    "collapsed": false
   },
   "id": "bd746ffd2e5c7cfe"
  },
  {
   "cell_type": "code",
   "execution_count": 84,
   "outputs": [
    {
     "data": {
      "text/plain": "                                          company_name  company_esg_score  \\\n560                                        Apple, Inc.               16.8   \n282                                    Microsoft Corp.               14.2   \n217                                       NVIDIA Corp.               13.2   \n821                                      Broadcom Inc.               18.9   \n584                           UnitedHealth Group, Inc.               17.0   \n..                                                 ...                ...   \n1                                      Steelcase, Inc.                5.3   \n0                            Kimball Electronics, Inc.                4.5   \n594                          Triton International Ltd.               17.1   \n645  National Rural Utilities Cooperative Finance C...               17.6   \n707                     Lions Gate Entertainment Corp.               18.1   \n\n    company_esg_score_group             industry stock_exchange  \\\n560            Low ESG Risk  Technology Hardware            NAS   \n282            Low ESG Risk  Software & Services            NAS   \n217            Low ESG Risk       Semiconductors            NAS   \n821            Low ESG Risk       Semiconductors            NAS   \n584            Low ESG Risk           Healthcare            NYS   \n..                      ...                  ...            ...   \n1       Negligible ESG Risk  Commercial Services            NYS   \n0       Negligible ESG Risk  Technology Hardware            NAS   \n594            Low ESG Risk  Commercial Services            NYS   \n645            Low ESG Risk                Banks            NYS   \n707            Low ESG Risk                Media            NYS   \n\n    stock_ticker_symbol  market_capital  market_capital_euro  \\\n560                AAPL    3.509669e+12         3.228895e+12   \n282                MSFT    3.296378e+12         3.032668e+12   \n217                NVDA    2.902354e+12         2.670165e+12   \n821                AVGO    7.260681e+11         6.679827e+11   \n584                 UNH    5.276384e+11         4.854273e+11   \n..                  ...             ...                  ...   \n1                   SCS    1.588731e+09         1.461633e+09   \n0                    KE    5.958660e+08         5.481967e+08   \n594            TRTN.PRE             NaN                  NaN   \n645                NRUC             NaN                  NaN   \n707               LGF.A             NaN                  NaN   \n\n     company_esg_score_scale  market_capital_scale     score  \n560                 0.793548              1.000000  0.948387  \n282                 0.625806              0.939227  0.860872  \n217                 0.561290              0.826958  0.760541  \n821                 0.929032              0.206868  0.387409  \n584                 0.806452              0.150330  0.314360  \n..                       ...                   ...       ...  \n1                   0.051613              0.000442  0.013235  \n0                   0.000000              0.000159  0.000120  \n594                 0.812903                   NaN       NaN  \n645                 0.845161                   NaN       NaN  \n707                 0.877419                   NaN       NaN  \n\n[959 rows x 11 columns]",
      "text/html": "<div>\n<style scoped>\n    .dataframe tbody tr th:only-of-type {\n        vertical-align: middle;\n    }\n\n    .dataframe tbody tr th {\n        vertical-align: top;\n    }\n\n    .dataframe thead th {\n        text-align: right;\n    }\n</style>\n<table border=\"1\" class=\"dataframe\">\n  <thead>\n    <tr style=\"text-align: right;\">\n      <th></th>\n      <th>company_name</th>\n      <th>company_esg_score</th>\n      <th>company_esg_score_group</th>\n      <th>industry</th>\n      <th>stock_exchange</th>\n      <th>stock_ticker_symbol</th>\n      <th>market_capital</th>\n      <th>market_capital_euro</th>\n      <th>company_esg_score_scale</th>\n      <th>market_capital_scale</th>\n      <th>score</th>\n    </tr>\n  </thead>\n  <tbody>\n    <tr>\n      <th>560</th>\n      <td>Apple, Inc.</td>\n      <td>16.8</td>\n      <td>Low ESG Risk</td>\n      <td>Technology Hardware</td>\n      <td>NAS</td>\n      <td>AAPL</td>\n      <td>3.509669e+12</td>\n      <td>3.228895e+12</td>\n      <td>0.793548</td>\n      <td>1.000000</td>\n      <td>0.948387</td>\n    </tr>\n    <tr>\n      <th>282</th>\n      <td>Microsoft Corp.</td>\n      <td>14.2</td>\n      <td>Low ESG Risk</td>\n      <td>Software &amp; Services</td>\n      <td>NAS</td>\n      <td>MSFT</td>\n      <td>3.296378e+12</td>\n      <td>3.032668e+12</td>\n      <td>0.625806</td>\n      <td>0.939227</td>\n      <td>0.860872</td>\n    </tr>\n    <tr>\n      <th>217</th>\n      <td>NVIDIA Corp.</td>\n      <td>13.2</td>\n      <td>Low ESG Risk</td>\n      <td>Semiconductors</td>\n      <td>NAS</td>\n      <td>NVDA</td>\n      <td>2.902354e+12</td>\n      <td>2.670165e+12</td>\n      <td>0.561290</td>\n      <td>0.826958</td>\n      <td>0.760541</td>\n    </tr>\n    <tr>\n      <th>821</th>\n      <td>Broadcom Inc.</td>\n      <td>18.9</td>\n      <td>Low ESG Risk</td>\n      <td>Semiconductors</td>\n      <td>NAS</td>\n      <td>AVGO</td>\n      <td>7.260681e+11</td>\n      <td>6.679827e+11</td>\n      <td>0.929032</td>\n      <td>0.206868</td>\n      <td>0.387409</td>\n    </tr>\n    <tr>\n      <th>584</th>\n      <td>UnitedHealth Group, Inc.</td>\n      <td>17.0</td>\n      <td>Low ESG Risk</td>\n      <td>Healthcare</td>\n      <td>NYS</td>\n      <td>UNH</td>\n      <td>5.276384e+11</td>\n      <td>4.854273e+11</td>\n      <td>0.806452</td>\n      <td>0.150330</td>\n      <td>0.314360</td>\n    </tr>\n    <tr>\n      <th>...</th>\n      <td>...</td>\n      <td>...</td>\n      <td>...</td>\n      <td>...</td>\n      <td>...</td>\n      <td>...</td>\n      <td>...</td>\n      <td>...</td>\n      <td>...</td>\n      <td>...</td>\n      <td>...</td>\n    </tr>\n    <tr>\n      <th>1</th>\n      <td>Steelcase, Inc.</td>\n      <td>5.3</td>\n      <td>Negligible ESG Risk</td>\n      <td>Commercial Services</td>\n      <td>NYS</td>\n      <td>SCS</td>\n      <td>1.588731e+09</td>\n      <td>1.461633e+09</td>\n      <td>0.051613</td>\n      <td>0.000442</td>\n      <td>0.013235</td>\n    </tr>\n    <tr>\n      <th>0</th>\n      <td>Kimball Electronics, Inc.</td>\n      <td>4.5</td>\n      <td>Negligible ESG Risk</td>\n      <td>Technology Hardware</td>\n      <td>NAS</td>\n      <td>KE</td>\n      <td>5.958660e+08</td>\n      <td>5.481967e+08</td>\n      <td>0.000000</td>\n      <td>0.000159</td>\n      <td>0.000120</td>\n    </tr>\n    <tr>\n      <th>594</th>\n      <td>Triton International Ltd.</td>\n      <td>17.1</td>\n      <td>Low ESG Risk</td>\n      <td>Commercial Services</td>\n      <td>NYS</td>\n      <td>TRTN.PRE</td>\n      <td>NaN</td>\n      <td>NaN</td>\n      <td>0.812903</td>\n      <td>NaN</td>\n      <td>NaN</td>\n    </tr>\n    <tr>\n      <th>645</th>\n      <td>National Rural Utilities Cooperative Finance C...</td>\n      <td>17.6</td>\n      <td>Low ESG Risk</td>\n      <td>Banks</td>\n      <td>NYS</td>\n      <td>NRUC</td>\n      <td>NaN</td>\n      <td>NaN</td>\n      <td>0.845161</td>\n      <td>NaN</td>\n      <td>NaN</td>\n    </tr>\n    <tr>\n      <th>707</th>\n      <td>Lions Gate Entertainment Corp.</td>\n      <td>18.1</td>\n      <td>Low ESG Risk</td>\n      <td>Media</td>\n      <td>NYS</td>\n      <td>LGF.A</td>\n      <td>NaN</td>\n      <td>NaN</td>\n      <td>0.877419</td>\n      <td>NaN</td>\n      <td>NaN</td>\n    </tr>\n  </tbody>\n</table>\n<p>959 rows × 11 columns</p>\n</div>"
     },
     "execution_count": 84,
     "metadata": {},
     "output_type": "execute_result"
    }
   ],
   "source": [
    "# Create final score\n",
    "coefficient_esg_score = 0.25\n",
    "coefficient_market_capital = 0.75\n",
    "df_unscaled['score'] = df_unscaled['company_esg_score_scale'] * coefficient_esg_score + df_unscaled['market_capital_scale'] * coefficient_market_capital\n",
    "\n",
    "# Sort by score\n",
    "df_unscaled.sort_values(by='score', ascending=False)"
   ],
   "metadata": {
    "collapsed": false,
    "ExecuteTime": {
     "end_time": "2024-07-19T23:03:53.369334Z",
     "start_time": "2024-07-19T23:03:53.352334Z"
    }
   },
   "id": "733e039a09f3f626"
  },
  {
   "cell_type": "code",
   "execution_count": 85,
   "outputs": [],
   "source": [
    "df_unscaled.to_csv('../data/data_5_scaled.csv')"
   ],
   "metadata": {
    "collapsed": false,
    "ExecuteTime": {
     "end_time": "2024-07-19T23:05:21.294918Z",
     "start_time": "2024-07-19T23:05:21.241425Z"
    }
   },
   "id": "375be605901cd29c"
  },
  {
   "cell_type": "code",
   "execution_count": null,
   "outputs": [],
   "source": [],
   "metadata": {
    "collapsed": false
   },
   "id": "759bbde007e780c7"
  }
 ],
 "metadata": {
  "kernelspec": {
   "display_name": "Python 3",
   "language": "python",
   "name": "python3"
  },
  "language_info": {
   "codemirror_mode": {
    "name": "ipython",
    "version": 2
   },
   "file_extension": ".py",
   "mimetype": "text/x-python",
   "name": "python",
   "nbconvert_exporter": "python",
   "pygments_lexer": "ipython2",
   "version": "2.7.6"
  }
 },
 "nbformat": 4,
 "nbformat_minor": 5
}
