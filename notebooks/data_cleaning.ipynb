{
 "cells": [
  {
   "cell_type": "code",
   "execution_count": 128,
   "id": "initial_id",
   "metadata": {
    "collapsed": true,
    "ExecuteTime": {
     "end_time": "2024-07-13T22:09:35.100701Z",
     "start_time": "2024-07-13T22:09:35.055759Z"
    }
   },
   "outputs": [],
   "source": [
    "import pandas as pd"
   ]
  },
  {
   "cell_type": "markdown",
   "source": [
    "### Reading file"
   ],
   "metadata": {
    "collapsed": false
   },
   "id": "26c62e4b4e3045b2"
  },
  {
   "cell_type": "code",
   "execution_count": 129,
   "outputs": [
    {
     "data": {
      "text/plain": "                                 company_name ticker_symbol  \\\n0                                 HENSOLDT AG       ETR:HAG   \n1                                   Aptiv Plc      NYS:APTV   \n2                            BorgWarner, Inc.       NYS:BWA   \n3  Bosch Fren Sistemleri Sanayi ve Ticaret AS   IST:BFREN.E   \n4                                  Bosch Ltd.    BOM:500530   \n\n   company_esg_score company_esg_score_group             industry  \n0               14.9            Low ESG Risk  Aerospace & Defense  \n1                9.1     Negligible ESG Risk      Auto Components  \n2               10.0     Negligible ESG Risk      Auto Components  \n3                8.1     Negligible ESG Risk      Auto Components  \n4                6.5     Negligible ESG Risk      Auto Components  ",
      "text/html": "<div>\n<style scoped>\n    .dataframe tbody tr th:only-of-type {\n        vertical-align: middle;\n    }\n\n    .dataframe tbody tr th {\n        vertical-align: top;\n    }\n\n    .dataframe thead th {\n        text-align: right;\n    }\n</style>\n<table border=\"1\" class=\"dataframe\">\n  <thead>\n    <tr style=\"text-align: right;\">\n      <th></th>\n      <th>company_name</th>\n      <th>ticker_symbol</th>\n      <th>company_esg_score</th>\n      <th>company_esg_score_group</th>\n      <th>industry</th>\n    </tr>\n  </thead>\n  <tbody>\n    <tr>\n      <th>0</th>\n      <td>HENSOLDT AG</td>\n      <td>ETR:HAG</td>\n      <td>14.9</td>\n      <td>Low ESG Risk</td>\n      <td>Aerospace &amp; Defense</td>\n    </tr>\n    <tr>\n      <th>1</th>\n      <td>Aptiv Plc</td>\n      <td>NYS:APTV</td>\n      <td>9.1</td>\n      <td>Negligible ESG Risk</td>\n      <td>Auto Components</td>\n    </tr>\n    <tr>\n      <th>2</th>\n      <td>BorgWarner, Inc.</td>\n      <td>NYS:BWA</td>\n      <td>10.0</td>\n      <td>Negligible ESG Risk</td>\n      <td>Auto Components</td>\n    </tr>\n    <tr>\n      <th>3</th>\n      <td>Bosch Fren Sistemleri Sanayi ve Ticaret AS</td>\n      <td>IST:BFREN.E</td>\n      <td>8.1</td>\n      <td>Negligible ESG Risk</td>\n      <td>Auto Components</td>\n    </tr>\n    <tr>\n      <th>4</th>\n      <td>Bosch Ltd.</td>\n      <td>BOM:500530</td>\n      <td>6.5</td>\n      <td>Negligible ESG Risk</td>\n      <td>Auto Components</td>\n    </tr>\n  </tbody>\n</table>\n</div>"
     },
     "execution_count": 129,
     "metadata": {},
     "output_type": "execute_result"
    }
   ],
   "source": [
    "df = pd.read_csv('../data/data_esg_raw.csv') \n",
    "df.head(5)"
   ],
   "metadata": {
    "collapsed": false,
    "ExecuteTime": {
     "end_time": "2024-07-13T22:09:35.134768Z",
     "start_time": "2024-07-13T22:09:35.092222Z"
    }
   },
   "id": "dcb6393d65fbe897"
  },
  {
   "cell_type": "markdown",
   "source": [
    "### Sort by ESG score"
   ],
   "metadata": {
    "collapsed": false
   },
   "id": "34ed6f0d5483b7e2"
  },
  {
   "cell_type": "code",
   "execution_count": 130,
   "outputs": [
    {
     "data": {
      "text/plain": "                                           company_name ticker_symbol  \\\n2581                  ROADIS Transportation Holding SLU             -   \n1619                                              Dexus       ASX:DXS   \n783                                JAB Holding Co. SARL             -   \n2577    Entidad Pública Empresarial ADIF-Alta Velocidad             -   \n2146                                       RS Group Plc       LON:RS1   \n...                                                 ...           ...   \n2279                                          Orange SA       PAR:ORA   \n1825                                     Arclands Corp.      TKS:9842   \n1134  International Finance Facility for Immunisatio...             -   \n1946                           Japan Material Co., Ltd.      TKS:6055   \n225                                   BDO Unibank, Inc.       PHS:BDO   \n\n      company_esg_score company_esg_score_group                       industry  \n2581                4.0     Negligible ESG Risk  Transportation Infrastructure  \n1619                4.2     Negligible ESG Risk                    Real Estate  \n783                 4.2     Negligible ESG Risk         Diversified Financials  \n2577                4.3     Negligible ESG Risk  Transportation Infrastructure  \n2146                4.5     Negligible ESG Risk            Technology Hardware  \n...                 ...                     ...                            ...  \n2279               20.0            Low ESG Risk     Telecommunication Services  \n1825               20.0            Low ESG Risk                      Retailing  \n1134               20.0            Low ESG Risk                     Healthcare  \n1946               20.0            Low ESG Risk                 Semiconductors  \n225                20.0            Low ESG Risk                          Banks  \n\n[2783 rows x 5 columns]",
      "text/html": "<div>\n<style scoped>\n    .dataframe tbody tr th:only-of-type {\n        vertical-align: middle;\n    }\n\n    .dataframe tbody tr th {\n        vertical-align: top;\n    }\n\n    .dataframe thead th {\n        text-align: right;\n    }\n</style>\n<table border=\"1\" class=\"dataframe\">\n  <thead>\n    <tr style=\"text-align: right;\">\n      <th></th>\n      <th>company_name</th>\n      <th>ticker_symbol</th>\n      <th>company_esg_score</th>\n      <th>company_esg_score_group</th>\n      <th>industry</th>\n    </tr>\n  </thead>\n  <tbody>\n    <tr>\n      <th>2581</th>\n      <td>ROADIS Transportation Holding SLU</td>\n      <td>-</td>\n      <td>4.0</td>\n      <td>Negligible ESG Risk</td>\n      <td>Transportation Infrastructure</td>\n    </tr>\n    <tr>\n      <th>1619</th>\n      <td>Dexus</td>\n      <td>ASX:DXS</td>\n      <td>4.2</td>\n      <td>Negligible ESG Risk</td>\n      <td>Real Estate</td>\n    </tr>\n    <tr>\n      <th>783</th>\n      <td>JAB Holding Co. SARL</td>\n      <td>-</td>\n      <td>4.2</td>\n      <td>Negligible ESG Risk</td>\n      <td>Diversified Financials</td>\n    </tr>\n    <tr>\n      <th>2577</th>\n      <td>Entidad Pública Empresarial ADIF-Alta Velocidad</td>\n      <td>-</td>\n      <td>4.3</td>\n      <td>Negligible ESG Risk</td>\n      <td>Transportation Infrastructure</td>\n    </tr>\n    <tr>\n      <th>2146</th>\n      <td>RS Group Plc</td>\n      <td>LON:RS1</td>\n      <td>4.5</td>\n      <td>Negligible ESG Risk</td>\n      <td>Technology Hardware</td>\n    </tr>\n    <tr>\n      <th>...</th>\n      <td>...</td>\n      <td>...</td>\n      <td>...</td>\n      <td>...</td>\n      <td>...</td>\n    </tr>\n    <tr>\n      <th>2279</th>\n      <td>Orange SA</td>\n      <td>PAR:ORA</td>\n      <td>20.0</td>\n      <td>Low ESG Risk</td>\n      <td>Telecommunication Services</td>\n    </tr>\n    <tr>\n      <th>1825</th>\n      <td>Arclands Corp.</td>\n      <td>TKS:9842</td>\n      <td>20.0</td>\n      <td>Low ESG Risk</td>\n      <td>Retailing</td>\n    </tr>\n    <tr>\n      <th>1134</th>\n      <td>International Finance Facility for Immunisatio...</td>\n      <td>-</td>\n      <td>20.0</td>\n      <td>Low ESG Risk</td>\n      <td>Healthcare</td>\n    </tr>\n    <tr>\n      <th>1946</th>\n      <td>Japan Material Co., Ltd.</td>\n      <td>TKS:6055</td>\n      <td>20.0</td>\n      <td>Low ESG Risk</td>\n      <td>Semiconductors</td>\n    </tr>\n    <tr>\n      <th>225</th>\n      <td>BDO Unibank, Inc.</td>\n      <td>PHS:BDO</td>\n      <td>20.0</td>\n      <td>Low ESG Risk</td>\n      <td>Banks</td>\n    </tr>\n  </tbody>\n</table>\n<p>2783 rows × 5 columns</p>\n</div>"
     },
     "execution_count": 130,
     "metadata": {},
     "output_type": "execute_result"
    }
   ],
   "source": [
    "df_sorted = df.sort_values('company_esg_score')\n",
    "df_sorted"
   ],
   "metadata": {
    "collapsed": false,
    "ExecuteTime": {
     "end_time": "2024-07-13T22:09:35.146994Z",
     "start_time": "2024-07-13T22:09:35.138081Z"
    }
   },
   "id": "fdec4843f96d84ca"
  },
  {
   "cell_type": "code",
   "execution_count": 131,
   "outputs": [
    {
     "data": {
      "text/plain": "2783"
     },
     "execution_count": 131,
     "metadata": {},
     "output_type": "execute_result"
    }
   ],
   "source": [
    "len(df_sorted)"
   ],
   "metadata": {
    "collapsed": false,
    "ExecuteTime": {
     "end_time": "2024-07-13T22:09:35.147874Z",
     "start_time": "2024-07-13T22:09:35.145386Z"
    }
   },
   "id": "475f6692a189a0f2"
  },
  {
   "cell_type": "markdown",
   "source": [
    "### Remove stocks without a valid stock exchange"
   ],
   "metadata": {
    "collapsed": false
   },
   "id": "f7cd4eae95e256ab"
  },
  {
   "cell_type": "code",
   "execution_count": 132,
   "outputs": [
    {
     "data": {
      "text/plain": "2380"
     },
     "execution_count": 132,
     "metadata": {},
     "output_type": "execute_result"
    }
   ],
   "source": [
    "len(df_sorted[df_sorted['ticker_symbol'] != '-'])"
   ],
   "metadata": {
    "collapsed": false,
    "ExecuteTime": {
     "end_time": "2024-07-13T22:09:35.150610Z",
     "start_time": "2024-07-13T22:09:35.147132Z"
    }
   },
   "id": "2992ef9a472c4e5c"
  },
  {
   "cell_type": "code",
   "execution_count": 133,
   "outputs": [
    {
     "data": {
      "text/plain": "                      company_name ticker_symbol  company_esg_score  \\\n1619                         Dexus       ASX:DXS                4.2   \n2146                  RS Group Plc       LON:RS1                4.5   \n2134     Kimball Electronics, Inc.        NAS:KE                4.5   \n1682             TAG Immobilien AG       ETR:TEG                4.6   \n1687  Unibail-Rodamco-Westfield SE       PAR:URW                4.7   \n...                            ...           ...                ...   \n2286       Taiwan Mobile Co., Ltd.      TAI:3045               20.0   \n2279                     Orange SA       PAR:ORA               20.0   \n1825                Arclands Corp.      TKS:9842               20.0   \n1946      Japan Material Co., Ltd.      TKS:6055               20.0   \n225              BDO Unibank, Inc.       PHS:BDO               20.0   \n\n     company_esg_score_group                    industry  \n1619     Negligible ESG Risk                 Real Estate  \n2146     Negligible ESG Risk         Technology Hardware  \n2134     Negligible ESG Risk         Technology Hardware  \n1682     Negligible ESG Risk                 Real Estate  \n1687     Negligible ESG Risk                 Real Estate  \n...                      ...                         ...  \n2286            Low ESG Risk  Telecommunication Services  \n2279            Low ESG Risk  Telecommunication Services  \n1825            Low ESG Risk                   Retailing  \n1946            Low ESG Risk              Semiconductors  \n225             Low ESG Risk                       Banks  \n\n[2380 rows x 5 columns]",
      "text/html": "<div>\n<style scoped>\n    .dataframe tbody tr th:only-of-type {\n        vertical-align: middle;\n    }\n\n    .dataframe tbody tr th {\n        vertical-align: top;\n    }\n\n    .dataframe thead th {\n        text-align: right;\n    }\n</style>\n<table border=\"1\" class=\"dataframe\">\n  <thead>\n    <tr style=\"text-align: right;\">\n      <th></th>\n      <th>company_name</th>\n      <th>ticker_symbol</th>\n      <th>company_esg_score</th>\n      <th>company_esg_score_group</th>\n      <th>industry</th>\n    </tr>\n  </thead>\n  <tbody>\n    <tr>\n      <th>1619</th>\n      <td>Dexus</td>\n      <td>ASX:DXS</td>\n      <td>4.2</td>\n      <td>Negligible ESG Risk</td>\n      <td>Real Estate</td>\n    </tr>\n    <tr>\n      <th>2146</th>\n      <td>RS Group Plc</td>\n      <td>LON:RS1</td>\n      <td>4.5</td>\n      <td>Negligible ESG Risk</td>\n      <td>Technology Hardware</td>\n    </tr>\n    <tr>\n      <th>2134</th>\n      <td>Kimball Electronics, Inc.</td>\n      <td>NAS:KE</td>\n      <td>4.5</td>\n      <td>Negligible ESG Risk</td>\n      <td>Technology Hardware</td>\n    </tr>\n    <tr>\n      <th>1682</th>\n      <td>TAG Immobilien AG</td>\n      <td>ETR:TEG</td>\n      <td>4.6</td>\n      <td>Negligible ESG Risk</td>\n      <td>Real Estate</td>\n    </tr>\n    <tr>\n      <th>1687</th>\n      <td>Unibail-Rodamco-Westfield SE</td>\n      <td>PAR:URW</td>\n      <td>4.7</td>\n      <td>Negligible ESG Risk</td>\n      <td>Real Estate</td>\n    </tr>\n    <tr>\n      <th>...</th>\n      <td>...</td>\n      <td>...</td>\n      <td>...</td>\n      <td>...</td>\n      <td>...</td>\n    </tr>\n    <tr>\n      <th>2286</th>\n      <td>Taiwan Mobile Co., Ltd.</td>\n      <td>TAI:3045</td>\n      <td>20.0</td>\n      <td>Low ESG Risk</td>\n      <td>Telecommunication Services</td>\n    </tr>\n    <tr>\n      <th>2279</th>\n      <td>Orange SA</td>\n      <td>PAR:ORA</td>\n      <td>20.0</td>\n      <td>Low ESG Risk</td>\n      <td>Telecommunication Services</td>\n    </tr>\n    <tr>\n      <th>1825</th>\n      <td>Arclands Corp.</td>\n      <td>TKS:9842</td>\n      <td>20.0</td>\n      <td>Low ESG Risk</td>\n      <td>Retailing</td>\n    </tr>\n    <tr>\n      <th>1946</th>\n      <td>Japan Material Co., Ltd.</td>\n      <td>TKS:6055</td>\n      <td>20.0</td>\n      <td>Low ESG Risk</td>\n      <td>Semiconductors</td>\n    </tr>\n    <tr>\n      <th>225</th>\n      <td>BDO Unibank, Inc.</td>\n      <td>PHS:BDO</td>\n      <td>20.0</td>\n      <td>Low ESG Risk</td>\n      <td>Banks</td>\n    </tr>\n  </tbody>\n</table>\n<p>2380 rows × 5 columns</p>\n</div>"
     },
     "execution_count": 133,
     "metadata": {},
     "output_type": "execute_result"
    }
   ],
   "source": [
    "df_sorted[df_sorted['ticker_symbol'] != '-']"
   ],
   "metadata": {
    "collapsed": false,
    "ExecuteTime": {
     "end_time": "2024-07-13T22:09:35.177845Z",
     "start_time": "2024-07-13T22:09:35.153074Z"
    }
   },
   "id": "9e1e71943a57dc82"
  },
  {
   "cell_type": "markdown",
   "source": [
    "### Create new columns \"stock_exchange\" & \"stock_ticker_symbol\""
   ],
   "metadata": {
    "collapsed": false
   },
   "id": "a7e1fc82e5097813"
  },
  {
   "cell_type": "code",
   "execution_count": 134,
   "outputs": [],
   "source": [
    "# Create new column stock_exchange by splitting ticker_symbol\n",
    "df_sorted['stock_exchange'] = df_sorted['ticker_symbol'].str.split(':').str[0]"
   ],
   "metadata": {
    "collapsed": false,
    "ExecuteTime": {
     "end_time": "2024-07-13T22:09:35.188491Z",
     "start_time": "2024-07-13T22:09:35.157746Z"
    }
   },
   "id": "a54e28bbd62ffbc3"
  },
  {
   "cell_type": "code",
   "execution_count": 135,
   "outputs": [],
   "source": [
    "# Create new column stock_ticker_symbol by splitting ticker_symbol\n",
    "df_sorted['stock_ticker_symbol'] = df_sorted['ticker_symbol'].str.split(':').str[1]"
   ],
   "metadata": {
    "collapsed": false,
    "ExecuteTime": {
     "end_time": "2024-07-13T22:09:35.208888Z",
     "start_time": "2024-07-13T22:09:35.164697Z"
    }
   },
   "id": "c9a6cb986ce963eb"
  },
  {
   "cell_type": "code",
   "execution_count": 136,
   "outputs": [
    {
     "data": {
      "text/plain": "stock_exchange\nNYS     338\nNAS     257\nTKS     196\nLON     137\nTAI     104\nOME      95\nBOM      94\nHKG      93\nPAR      85\nETR      81\nTSE      78\nASX      68\nMIL      59\nKRX      53\nSWX      51\nBSP      47\nMCE      44\nSHE      36\nAMS      33\nOSL      32\nBKK      27\nKLS      27\nIST      27\nSES      27\nSHG      26\nBRU      23\nHEL      22\nROCO     20\nJSE      19\nCSE      18\nMEX      17\nWAR      17\nWBO      14\nNZE      13\nTAE      13\nLIS      12\nJKT      10\nSGO       7\nATH       7\nDUB       7\nADS       6\nBOG       6\nSAU       5\nPHS       5\nOTC       4\nDFM       3\nKUW       2\nHAM       2\nASE       2\nICE       2\nCAI       2\nBSE       1\nBER       1\nBUD       1\nSTC       1\nLIM       1\nLIT       1\nFRA       1\nName: count, dtype: int64"
     },
     "execution_count": 136,
     "metadata": {},
     "output_type": "execute_result"
    }
   ],
   "source": [
    "df_sorted[df_sorted['ticker_symbol'] != '-']['stock_exchange'].value_counts('')"
   ],
   "metadata": {
    "collapsed": false,
    "ExecuteTime": {
     "end_time": "2024-07-13T22:09:35.209246Z",
     "start_time": "2024-07-13T22:09:35.167630Z"
    }
   },
   "id": "bbc4e0774f5f5a7d"
  },
  {
   "cell_type": "markdown",
   "source": [
    "### Selected Stock-Exchanges"
   ],
   "metadata": {
    "collapsed": false
   },
   "id": "fd219e82a7a6a2a3"
  },
  {
   "cell_type": "code",
   "execution_count": 137,
   "outputs": [
    {
     "data": {
      "text/plain": "2783"
     },
     "execution_count": 137,
     "metadata": {},
     "output_type": "execute_result"
    }
   ],
   "source": [
    "len(df_sorted)"
   ],
   "metadata": {
    "collapsed": false,
    "ExecuteTime": {
     "end_time": "2024-07-13T22:09:35.209471Z",
     "start_time": "2024-07-13T22:09:35.172168Z"
    }
   },
   "id": "b2aa879ccd224853"
  },
  {
   "cell_type": "markdown",
   "source": [
    "### Filter Stock Exchanges"
   ],
   "metadata": {
    "collapsed": false
   },
   "id": "2375c94066821ffd"
  },
  {
   "cell_type": "code",
   "execution_count": 138,
   "outputs": [],
   "source": [
    "# drop existing column \"stock_ticker_symbol\"\n",
    "df_sorted = df_sorted.drop(columns=['ticker_symbol'])"
   ],
   "metadata": {
    "collapsed": false,
    "ExecuteTime": {
     "end_time": "2024-07-13T22:09:35.209517Z",
     "start_time": "2024-07-13T22:09:35.175460Z"
    }
   },
   "id": "6cfdf41b443742c0"
  },
  {
   "cell_type": "code",
   "execution_count": 139,
   "outputs": [
    {
     "data": {
      "text/plain": "1009"
     },
     "execution_count": 139,
     "metadata": {},
     "output_type": "execute_result"
    }
   ],
   "source": [
    "# Filter by a single column value \n",
    "df_filtered = df_sorted[df_sorted['stock_exchange'].isin(['NYS', 'NAS', 'TKS', 'LON', 'ETR'])]\n",
    "len(df_filtered)"
   ],
   "metadata": {
    "collapsed": false,
    "ExecuteTime": {
     "end_time": "2024-07-13T22:09:35.236552Z",
     "start_time": "2024-07-13T22:09:35.179937Z"
    }
   },
   "id": "c37dd4a69092b215"
  },
  {
   "cell_type": "code",
   "execution_count": 140,
   "outputs": [
    {
     "data": {
      "text/plain": "                      company_name  company_esg_score company_esg_score_group  \\\n2146                  RS Group Plc                4.5     Negligible ESG Risk   \n2134     Kimball Electronics, Inc.                4.5     Negligible ESG Risk   \n1682             TAG Immobilien AG                4.6     Negligible ESG Risk   \n1650             LEG Immobilien SE                5.1     Negligible ESG Risk   \n391                Steelcase, Inc.                5.3     Negligible ESG Risk   \n...                            ...                ...                     ...   \n1545             NeoGenomics, Inc.               20.0            Low ESG Risk   \n2564           Union Pacific Corp.               20.0            Low ESG Risk   \n484   Matthews International Corp.               20.0            Low ESG Risk   \n1825                Arclands Corp.               20.0            Low ESG Risk   \n1946      Japan Material Co., Ltd.               20.0            Low ESG Risk   \n\n                 industry stock_exchange stock_ticker_symbol  \n2146  Technology Hardware            LON                 RS1  \n2134  Technology Hardware            NAS                  KE  \n1682          Real Estate            ETR                 TEG  \n1650          Real Estate            ETR                 LEG  \n391   Commercial Services            NYS                 SCS  \n...                   ...            ...                 ...  \n1545      Pharmaceuticals            NAS                 NEO  \n2564       Transportation            NYS                 UNP  \n484   Commercial Services            NAS                MATW  \n1825            Retailing            TKS                9842  \n1946       Semiconductors            TKS                6055  \n\n[1009 rows x 6 columns]",
      "text/html": "<div>\n<style scoped>\n    .dataframe tbody tr th:only-of-type {\n        vertical-align: middle;\n    }\n\n    .dataframe tbody tr th {\n        vertical-align: top;\n    }\n\n    .dataframe thead th {\n        text-align: right;\n    }\n</style>\n<table border=\"1\" class=\"dataframe\">\n  <thead>\n    <tr style=\"text-align: right;\">\n      <th></th>\n      <th>company_name</th>\n      <th>company_esg_score</th>\n      <th>company_esg_score_group</th>\n      <th>industry</th>\n      <th>stock_exchange</th>\n      <th>stock_ticker_symbol</th>\n    </tr>\n  </thead>\n  <tbody>\n    <tr>\n      <th>2146</th>\n      <td>RS Group Plc</td>\n      <td>4.5</td>\n      <td>Negligible ESG Risk</td>\n      <td>Technology Hardware</td>\n      <td>LON</td>\n      <td>RS1</td>\n    </tr>\n    <tr>\n      <th>2134</th>\n      <td>Kimball Electronics, Inc.</td>\n      <td>4.5</td>\n      <td>Negligible ESG Risk</td>\n      <td>Technology Hardware</td>\n      <td>NAS</td>\n      <td>KE</td>\n    </tr>\n    <tr>\n      <th>1682</th>\n      <td>TAG Immobilien AG</td>\n      <td>4.6</td>\n      <td>Negligible ESG Risk</td>\n      <td>Real Estate</td>\n      <td>ETR</td>\n      <td>TEG</td>\n    </tr>\n    <tr>\n      <th>1650</th>\n      <td>LEG Immobilien SE</td>\n      <td>5.1</td>\n      <td>Negligible ESG Risk</td>\n      <td>Real Estate</td>\n      <td>ETR</td>\n      <td>LEG</td>\n    </tr>\n    <tr>\n      <th>391</th>\n      <td>Steelcase, Inc.</td>\n      <td>5.3</td>\n      <td>Negligible ESG Risk</td>\n      <td>Commercial Services</td>\n      <td>NYS</td>\n      <td>SCS</td>\n    </tr>\n    <tr>\n      <th>...</th>\n      <td>...</td>\n      <td>...</td>\n      <td>...</td>\n      <td>...</td>\n      <td>...</td>\n      <td>...</td>\n    </tr>\n    <tr>\n      <th>1545</th>\n      <td>NeoGenomics, Inc.</td>\n      <td>20.0</td>\n      <td>Low ESG Risk</td>\n      <td>Pharmaceuticals</td>\n      <td>NAS</td>\n      <td>NEO</td>\n    </tr>\n    <tr>\n      <th>2564</th>\n      <td>Union Pacific Corp.</td>\n      <td>20.0</td>\n      <td>Low ESG Risk</td>\n      <td>Transportation</td>\n      <td>NYS</td>\n      <td>UNP</td>\n    </tr>\n    <tr>\n      <th>484</th>\n      <td>Matthews International Corp.</td>\n      <td>20.0</td>\n      <td>Low ESG Risk</td>\n      <td>Commercial Services</td>\n      <td>NAS</td>\n      <td>MATW</td>\n    </tr>\n    <tr>\n      <th>1825</th>\n      <td>Arclands Corp.</td>\n      <td>20.0</td>\n      <td>Low ESG Risk</td>\n      <td>Retailing</td>\n      <td>TKS</td>\n      <td>9842</td>\n    </tr>\n    <tr>\n      <th>1946</th>\n      <td>Japan Material Co., Ltd.</td>\n      <td>20.0</td>\n      <td>Low ESG Risk</td>\n      <td>Semiconductors</td>\n      <td>TKS</td>\n      <td>6055</td>\n    </tr>\n  </tbody>\n</table>\n<p>1009 rows × 6 columns</p>\n</div>"
     },
     "execution_count": 140,
     "metadata": {},
     "output_type": "execute_result"
    }
   ],
   "source": [
    "df_filtered"
   ],
   "metadata": {
    "collapsed": false,
    "ExecuteTime": {
     "end_time": "2024-07-13T22:09:35.242101Z",
     "start_time": "2024-07-13T22:09:35.184573Z"
    }
   },
   "id": "f1aff08ed27306e3"
  },
  {
   "cell_type": "code",
   "execution_count": 141,
   "outputs": [
    {
     "ename": "AttributeError",
     "evalue": "module 'pandas' has no attribute 'to_csv'",
     "output_type": "error",
     "traceback": [
      "\u001B[0;31m---------------------------------------------------------------------------\u001B[0m",
      "\u001B[0;31mAttributeError\u001B[0m                            Traceback (most recent call last)",
      "Cell \u001B[0;32mIn[141], line 1\u001B[0m\n\u001B[0;32m----> 1\u001B[0m \u001B[43mpd\u001B[49m\u001B[38;5;241;43m.\u001B[39;49m\u001B[43mto_csv\u001B[49m(\u001B[38;5;124m'\u001B[39m\u001B[38;5;124m../data/esg_data_raw.csv\u001B[39m\u001B[38;5;124m'\u001B[39m)\n",
      "\u001B[0;31mAttributeError\u001B[0m: module 'pandas' has no attribute 'to_csv'"
     ]
    }
   ],
   "source": [
    "pd.to_csv('../data/esg_data_raw.csv')"
   ],
   "metadata": {
    "collapsed": false,
    "ExecuteTime": {
     "end_time": "2024-07-13T22:09:35.284700Z",
     "start_time": "2024-07-13T22:09:35.191381Z"
    }
   },
   "id": "3492947db0978850"
  },
  {
   "cell_type": "markdown",
   "source": [
    "### Adding market capital of companies"
   ],
   "metadata": {
    "collapsed": false
   },
   "id": "642bdf2f2f97fef0"
  },
  {
   "cell_type": "markdown",
   "source": [],
   "metadata": {
    "collapsed": false
   },
   "id": "b7cc68360fa97f59"
  }
 ],
 "metadata": {
  "kernelspec": {
   "display_name": "Python 3",
   "language": "python",
   "name": "python3"
  },
  "language_info": {
   "codemirror_mode": {
    "name": "ipython",
    "version": 2
   },
   "file_extension": ".py",
   "mimetype": "text/x-python",
   "name": "python",
   "nbconvert_exporter": "python",
   "pygments_lexer": "ipython2",
   "version": "2.7.6"
  }
 },
 "nbformat": 4,
 "nbformat_minor": 5
}
